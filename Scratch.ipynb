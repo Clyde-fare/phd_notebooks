{
 "metadata": {
  "name": ""
 },
 "nbformat": 3,
 "nbformat_minor": 0,
 "worksheets": [
  {
   "cells": [
    {
     "cell_type": "code",
     "collapsed": false,
     "input": [
      "from ase.io import read\n",
      "from gausspy import Gaussian\n",
      "from cc_notebook_utils import *\n",
      "from ASE_utils import *\n",
      "import cc_notebook_utils"
     ],
     "language": "python",
     "metadata": {},
     "outputs": [],
     "prompt_number": 1
    },
    {
     "cell_type": "code",
     "collapsed": false,
     "input": [
      "cd scratch"
     ],
     "language": "python",
     "metadata": {},
     "outputs": [
      {
       "output_type": "stream",
       "stream": "stdout",
       "text": [
        "/home/clyde/Dropbox/Project Stuff/Notebooks/scratch\n"
       ]
      }
     ],
     "prompt_number": 2
    },
    {
     "cell_type": "heading",
     "level": 3,
     "metadata": {},
     "source": [
      "Is CIS butadiene twisted or planar?"
     ]
    },
    {
     "cell_type": "code",
     "collapsed": false,
     "input": [
      "methods = ['b3lyp', 'am1']\n",
      "calcs = []\n",
      "\n",
      "for meth in methods:\n",
      "    but=read('cis_butadiene.xyz')\n",
      "    but.set_calculator(Gaussian(label='butadiene_' + meth + '_opt', method=meth, basis='6-31G',opt='opt', freq='freq'))\n",
      "    but.calc.set_job(nodes=8, memory=8*1400, time=1, queue='pqmb', version='g09')\n",
      "    #but.calc.start()\n",
      "    calcs.append(but)"
     ],
     "language": "python",
     "metadata": {},
     "outputs": [],
     "prompt_number": 3
    },
    {
     "cell_type": "code",
     "collapsed": false,
     "input": [
      "check_calcs(calcs)\n",
      "mols_to_html(calcs)"
     ],
     "language": "python",
     "metadata": {},
     "outputs": [
      {
       "html": [
        "\n",
        "           <script type=\"text/javascript\">\n",
        "           function view_function (event, file_n) {\n",
        "               if (event.ctrlKey && event.shiftKey){\n",
        "                   IPython.notebook.kernel.execute(\"cc_notebook_utils.pygview('\" + file_n + \".log')\");\n",
        "               }\n",
        "               else if (event.ctrlKey){\n",
        "                   IPython.notebook.kernel.execute(\"cc_notebook_utils.pygausssum('\" + file_n + \".log')\");\n",
        "               }\n",
        "               else if (event.shiftKey){\n",
        "                   IPython.notebook.kernel.execute(\"cc_notebook_utils.pyvogadro('\" + file_n + \".log')\");\n",
        "               }\n",
        "               else {\n",
        "                   IPython.notebook.kernel.execute(\"cc_notebook_utils.pyvim('\" + file_n + \".log')\");\n",
        "                   IPython.notebook.kernel.execute(\"print(file_n)\");\n",
        "               }\n",
        "           }\n",
        "           </script>\n",
        "    <style>\n",
        "    table\n",
        "    {\n",
        "        border-collapse:collapse;\n",
        "    }\n",
        "    td\n",
        "    {\n",
        "        padding:15px;\n",
        "    }\n",
        "    </style>\n",
        "    <body>\n",
        "    <table bgcolor=\"white\">\n",
        "    <col/><tr><td>butadiene_b3lyp_opt</td><td><a href = \"files/scratch/butadiene_b3lyp_opt.com\" target = \"_blank\">com</a></td><td><input type=\"button\" value=\"Smart Log\" id=\"butadiene_b3lyp_opt\" onclick=\"view_function(event, this.id)\" /></td><td>Success</td></tr><tr><td>butadiene_am1_opt</td><td><a href = \"files/scratch/butadiene_am1_opt.com\" target = \"_blank\">com</a></td><td><input type=\"button\" value=\"Smart Log\" id=\"butadiene_am1_opt\" onclick=\"view_function(event, this.id)\" /></td><td>Success</td></tr>\n",
        "    </table>\n",
        "    </body>"
       ],
       "metadata": {},
       "output_type": "pyout",
       "prompt_number": 4,
       "text": [
        "<IPython.core.display.HTML at 0x232b250>"
       ]
      }
     ],
     "prompt_number": 4
    },
    {
     "cell_type": "code",
     "collapsed": false,
     "input": [
      "[b.calc.max_data['vibfreqs'][0] for b in calcs]"
     ],
     "language": "python",
     "metadata": {},
     "outputs": [
      {
       "metadata": {},
       "output_type": "pyout",
       "prompt_number": 5,
       "text": [
        "[-113.1546, -39.1043]"
       ]
      }
     ],
     "prompt_number": 5
    },
    {
     "cell_type": "markdown",
     "metadata": {},
     "source": [
      "Twisted!"
     ]
    }
   ],
   "metadata": {}
  }
 ]
}