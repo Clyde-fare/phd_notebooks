{
 "metadata": {
  "name": "",
  "signature": "sha256:415298d21d49b0d68b1eb4bce7f1e8739650dfa42734d071ea7c9a0788dc1171"
 },
 "nbformat": 3,
 "nbformat_minor": 0,
 "worksheets": [
  {
   "cells": [
    {
     "cell_type": "markdown",
     "metadata": {},
     "source": [
      "analysis_1 from [final calcs](localhost:8888/calculations_3.ipynb)"
     ]
    },
    {
     "cell_type": "code",
     "collapsed": false,
     "input": [],
     "language": "python",
     "metadata": {},
     "outputs": []
    }
   ],
   "metadata": {}
  }
 ]
}