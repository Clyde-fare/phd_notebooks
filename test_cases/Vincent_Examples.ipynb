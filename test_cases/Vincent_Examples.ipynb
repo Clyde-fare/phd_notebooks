{
 "metadata": {
  "name": "",
  "signature": "sha256:4460df64fac087f9c93821f122c13daa8859ea38675e667943cb958d2fe04ab1"
 },
 "nbformat": 3,
 "nbformat_minor": 0,
 "worksheets": [
  {
   "cells": [
    {
     "cell_type": "code",
     "collapsed": false,
     "input": [
      "import vincent\n",
      "import pandas as pd\n",
      "import random\n",
      "\n",
      "#Iterable\n",
      "list_data = [10, 20, 30, 20, 15, 30, 45]\n",
      "\n",
      "#Dicts of iterables\n",
      "cat_1 = ['y1', 'y2', 'y3', 'y4']\n",
      "index_1 = range(0, 21, 1)\n",
      "multi_iter1 = {'index': index_1}\n",
      "for cat in cat_1:\n",
      "    multi_iter1[cat] = [random.randint(10, 100) for x in index_1]\n",
      "\n",
      "cat_2 = ['y' + str(x) for x in range(0, 10, 1)]\n",
      "index_2 = range(1, 21, 1)\n",
      "multi_iter2 = {'index': index_2}\n",
      "for cat in cat_2:\n",
      "    multi_iter2[cat] = [random.randint(10, 100) for x in index_2]\n",
      "\n",
      "#Pandas\n",
      "import pandas as pd\n",
      "\n",
      "farm_1 = {'apples': 10, 'berries': 32, 'squash': 21, 'melons': 13, 'corn': 18}\n",
      "farm_2 = {'apples': 15, 'berries': 43, 'squash': 17, 'melons': 10, 'corn': 22}\n",
      "farm_3 = {'apples': 6, 'berries': 24, 'squash': 22, 'melons': 16, 'corn': 30}\n",
      "farm_4 = {'apples': 12, 'berries': 30, 'squash': 15, 'melons': 9, 'corn': 15}\n",
      "\n",
      "farm_data = [farm_1, farm_2, farm_3, farm_4]\n",
      "farm_index = ['Farm 1', 'Farm 2', 'Farm 3', 'Farm 4']\n",
      "df_farm = pd.DataFrame(farm_data, index=farm_index)\n",
      "\n",
      "#As DataFrames\n",
      "index_3 = multi_iter2.pop('index')\n",
      "df_1 = pd.DataFrame(multi_iter2, index=index_3)\n",
      "df_1 = df_1.reindex(columns=sorted(df_1.columns))\n",
      "\n",
      "cat_4 = ['Metric_' + str(x) for x in range(0, 10, 1)]\n",
      "index_4 = ['Data 1', 'Data 2', 'Data 3', 'Data 4']\n",
      "data_3 = {}\n",
      "for cat in cat_4:\n",
      "    data_3[cat] = [random.randint(10, 100) for x in index_4]\n",
      "df_2 = pd.DataFrame(data_3, index=index_4)\n",
      "\n",
      "import pandas.io.data as web\n",
      "all_data = {}\n",
      "for ticker in ['AAPL', 'GOOG', 'IBM', 'YHOO', 'MSFT']:\n",
      "    all_data[ticker] = web.get_data_yahoo(ticker, '1/1/2010', '1/1/2013')\n",
      "price = pd.DataFrame({tic: data['Adj Close']\n",
      "                      for tic, data in all_data.items()})"
     ],
     "language": "python",
     "metadata": {},
     "outputs": [
      {
       "ename": "IOError",
       "evalue": "after 3 tries, Yahoo! did not return a 200 for url 'http://ichart.yahoo.com/table.csv?s=GOOG&a=0&b=1&c=2010&d=0&e=1&f=2013&g=d&ignore=.csv'",
       "output_type": "pyerr",
       "traceback": [
        "\u001b[1;31m---------------------------------------------------------------------------\u001b[0m\n\u001b[1;31mIOError\u001b[0m                                   Traceback (most recent call last)",
        "\u001b[1;32m<ipython-input-14-69c6908632af>\u001b[0m in \u001b[0;36m<module>\u001b[1;34m()\u001b[0m\n\u001b[0;32m     46\u001b[0m \u001b[0mall_data\u001b[0m \u001b[1;33m=\u001b[0m \u001b[1;33m{\u001b[0m\u001b[1;33m}\u001b[0m\u001b[1;33m\u001b[0m\u001b[0m\n\u001b[0;32m     47\u001b[0m \u001b[1;32mfor\u001b[0m \u001b[0mticker\u001b[0m \u001b[1;32min\u001b[0m \u001b[1;33m[\u001b[0m\u001b[1;34m'AAPL'\u001b[0m\u001b[1;33m,\u001b[0m \u001b[1;34m'GOOG'\u001b[0m\u001b[1;33m,\u001b[0m \u001b[1;34m'IBM'\u001b[0m\u001b[1;33m,\u001b[0m \u001b[1;34m'YHOO'\u001b[0m\u001b[1;33m,\u001b[0m \u001b[1;34m'MSFT'\u001b[0m\u001b[1;33m]\u001b[0m\u001b[1;33m:\u001b[0m\u001b[1;33m\u001b[0m\u001b[0m\n\u001b[1;32m---> 48\u001b[1;33m     \u001b[0mall_data\u001b[0m\u001b[1;33m[\u001b[0m\u001b[0mticker\u001b[0m\u001b[1;33m]\u001b[0m \u001b[1;33m=\u001b[0m \u001b[0mweb\u001b[0m\u001b[1;33m.\u001b[0m\u001b[0mget_data_yahoo\u001b[0m\u001b[1;33m(\u001b[0m\u001b[0mticker\u001b[0m\u001b[1;33m,\u001b[0m \u001b[1;34m'1/1/2010'\u001b[0m\u001b[1;33m,\u001b[0m \u001b[1;34m'1/1/2013'\u001b[0m\u001b[1;33m)\u001b[0m\u001b[1;33m\u001b[0m\u001b[0m\n\u001b[0m\u001b[0;32m     49\u001b[0m price = pd.DataFrame({tic: data['Adj Close']\n\u001b[0;32m     50\u001b[0m                       for tic, data in all_data.items()})\n",
        "\u001b[1;32m/home/clyde/anaconda/envs/dev/lib/python2.7/site-packages/pandas/io/data.pyc\u001b[0m in \u001b[0;36mget_data_yahoo\u001b[1;34m(symbols, start, end, retry_count, pause, adjust_price, ret_index, chunksize, name)\u001b[0m\n\u001b[0;32m    388\u001b[0m     \"\"\"\n\u001b[0;32m    389\u001b[0m     return _get_data_from(symbols, start, end, retry_count, pause,\n\u001b[1;32m--> 390\u001b[1;33m                           adjust_price, ret_index, chunksize, 'yahoo', name)\n\u001b[0m\u001b[0;32m    391\u001b[0m \u001b[1;33m\u001b[0m\u001b[0m\n\u001b[0;32m    392\u001b[0m \u001b[1;33m\u001b[0m\u001b[0m\n",
        "\u001b[1;32m/home/clyde/anaconda/envs/dev/lib/python2.7/site-packages/pandas/io/data.pyc\u001b[0m in \u001b[0;36m_get_data_from\u001b[1;34m(symbols, start, end, retry_count, pause, adjust_price, ret_index, chunksize, source, name)\u001b[0m\n\u001b[0;32m    334\u001b[0m     \u001b[1;31m# If a single symbol, (e.g., 'GOOG')\u001b[0m\u001b[1;33m\u001b[0m\u001b[1;33m\u001b[0m\u001b[0m\n\u001b[0;32m    335\u001b[0m     \u001b[1;32mif\u001b[0m \u001b[0misinstance\u001b[0m\u001b[1;33m(\u001b[0m\u001b[0msymbols\u001b[0m\u001b[1;33m,\u001b[0m \u001b[1;33m(\u001b[0m\u001b[0mbasestring\u001b[0m\u001b[1;33m,\u001b[0m \u001b[0mint\u001b[0m\u001b[1;33m)\u001b[0m\u001b[1;33m)\u001b[0m\u001b[1;33m:\u001b[0m\u001b[1;33m\u001b[0m\u001b[0m\n\u001b[1;32m--> 336\u001b[1;33m         \u001b[0mhist_data\u001b[0m \u001b[1;33m=\u001b[0m \u001b[0msrc_fn\u001b[0m\u001b[1;33m(\u001b[0m\u001b[0msymbols\u001b[0m\u001b[1;33m,\u001b[0m \u001b[0mstart\u001b[0m\u001b[1;33m,\u001b[0m \u001b[0mend\u001b[0m\u001b[1;33m,\u001b[0m \u001b[0mretry_count\u001b[0m\u001b[1;33m,\u001b[0m \u001b[0mpause\u001b[0m\u001b[1;33m)\u001b[0m\u001b[1;33m\u001b[0m\u001b[0m\n\u001b[0m\u001b[0;32m    337\u001b[0m     \u001b[1;31m# Or multiple symbols, (e.g., ['GOOG', 'AAPL', 'MSFT'])\u001b[0m\u001b[1;33m\u001b[0m\u001b[1;33m\u001b[0m\u001b[0m\n\u001b[0;32m    338\u001b[0m     \u001b[1;32melif\u001b[0m \u001b[0misinstance\u001b[0m\u001b[1;33m(\u001b[0m\u001b[0msymbols\u001b[0m\u001b[1;33m,\u001b[0m \u001b[0mDataFrame\u001b[0m\u001b[1;33m)\u001b[0m\u001b[1;33m:\u001b[0m\u001b[1;33m\u001b[0m\u001b[0m\n",
        "\u001b[1;32m/home/clyde/anaconda/envs/dev/lib/python2.7/site-packages/pandas/io/data.pyc\u001b[0m in \u001b[0;36m_get_hist_yahoo\u001b[1;34m(sym, start, end, retry_count, pause)\u001b[0m\n\u001b[0;32m    188\u001b[0m            \u001b[1;34m'&g=d'\u001b[0m \u001b[1;33m+\u001b[0m\u001b[1;33m\u001b[0m\u001b[0m\n\u001b[0;32m    189\u001b[0m            '&ignore=.csv')\n\u001b[1;32m--> 190\u001b[1;33m     \u001b[1;32mreturn\u001b[0m \u001b[0m_retry_read_url\u001b[0m\u001b[1;33m(\u001b[0m\u001b[0murl\u001b[0m\u001b[1;33m,\u001b[0m \u001b[0mretry_count\u001b[0m\u001b[1;33m,\u001b[0m \u001b[0mpause\u001b[0m\u001b[1;33m,\u001b[0m \u001b[1;34m'Yahoo!'\u001b[0m\u001b[1;33m)\u001b[0m\u001b[1;33m\u001b[0m\u001b[0m\n\u001b[0m\u001b[0;32m    191\u001b[0m \u001b[1;33m\u001b[0m\u001b[0m\n\u001b[0;32m    192\u001b[0m \u001b[1;33m\u001b[0m\u001b[0m\n",
        "\u001b[1;32m/home/clyde/anaconda/envs/dev/lib/python2.7/site-packages/pandas/io/data.pyc\u001b[0m in \u001b[0;36m_retry_read_url\u001b[1;34m(url, retry_count, pause, name)\u001b[0m\n\u001b[0;32m    167\u001b[0m \u001b[1;33m\u001b[0m\u001b[0m\n\u001b[0;32m    168\u001b[0m     raise IOError(\"after %d tries, %s did not \"\n\u001b[1;32m--> 169\u001b[1;33m                   \"return a 200 for url %r\" % (retry_count, name, url))\n\u001b[0m\u001b[0;32m    170\u001b[0m \u001b[1;33m\u001b[0m\u001b[0m\n\u001b[0;32m    171\u001b[0m \u001b[1;33m\u001b[0m\u001b[0m\n",
        "\u001b[1;31mIOError\u001b[0m: after 3 tries, Yahoo! did not return a 200 for url 'http://ichart.yahoo.com/table.csv?s=GOOG&a=0&b=1&c=2010&d=0&e=1&f=2013&g=d&ignore=.csv'"
       ]
      }
     ],
     "prompt_number": 14
    },
    {
     "cell_type": "code",
     "collapsed": false,
     "input": [
      "import vincent\n",
      "vincent.core.initialize_notebook()\n",
      "bar = vincent.Bar(multi_iter1['y1'])\n",
      "bar.axis_titles(x='Index', y='Value')\n",
      "bar.display()"
     ],
     "language": "python",
     "metadata": {},
     "outputs": [
      {
       "javascript": [
        "\n",
        "    require.config({paths: {d3: \"http://d3js.org/d3.v3.min\"}});\n",
        "    require([\"d3\"], function(d3) {\n",
        "      window.d3 = d3;\n",
        "    });\n",
        "    "
       ],
       "metadata": {},
       "output_type": "display_data",
       "text": [
        "<IPython.core.display.Javascript at 0x41137d0>"
       ]
      },
      {
       "javascript": [
        "$.getScript(\"http://d3js.org/d3.geo.projection.v0.min.js\", function() {\n",
        "        $.getScript(\"http://wrobstory.github.io/d3-cloud/d3.layout.cloud.js\", function() {\n",
        "            $.getScript(\"http://d3js.org/topojson.v1.min.js\", function() {\n",
        "                $.getScript(\"http://trifacta.github.com/vega/vega.js\", function() {\n",
        "                        $([IPython.events]).trigger(\"vega_loaded.vincent\");\n",
        "                })\n",
        "            })\n",
        "        })\n",
        "    });"
       ],
       "metadata": {},
       "output_type": "display_data",
       "text": [
        "<IPython.core.display.Javascript at 0x2f53310>"
       ]
      },
      {
       "html": [
        "<div id=\"vis12774\"></div>"
       ],
       "metadata": {},
       "output_type": "display_data",
       "text": [
        "<IPython.core.display.HTML at 0x4113e90>"
       ]
      },
      {
       "javascript": [
        "\n",
        "( function() {\n",
        "  var _do_plot = function() {\n",
        "    if ( typeof vg == 'undefined' ) {\n",
        "      $([IPython.events]).on(\"vega_loaded.vincent\", _do_plot);\n",
        "      return;\n",
        "    }\n",
        "    vg.parse.spec({\"axes\": [{\"scale\": \"x\", \"title\": \"Index\", \"type\": \"x\"}, {\"scale\": \"y\", \"title\": \"Value\", \"type\": \"y\"}], \"data\": [{\"name\": \"table\", \"values\": [{\"col\": \"data\", \"idx\": 0, \"val\": 96}, {\"col\": \"data\", \"idx\": 1, \"val\": 63}, {\"col\": \"data\", \"idx\": 2, \"val\": 46}, {\"col\": \"data\", \"idx\": 3, \"val\": 77}, {\"col\": \"data\", \"idx\": 4, \"val\": 54}, {\"col\": \"data\", \"idx\": 5, \"val\": 47}, {\"col\": \"data\", \"idx\": 6, \"val\": 90}, {\"col\": \"data\", \"idx\": 7, \"val\": 74}, {\"col\": \"data\", \"idx\": 8, \"val\": 37}, {\"col\": \"data\", \"idx\": 9, \"val\": 45}, {\"col\": \"data\", \"idx\": 10, \"val\": 82}, {\"col\": \"data\", \"idx\": 11, \"val\": 49}, {\"col\": \"data\", \"idx\": 12, \"val\": 33}, {\"col\": \"data\", \"idx\": 13, \"val\": 44}, {\"col\": \"data\", \"idx\": 14, \"val\": 28}, {\"col\": \"data\", \"idx\": 15, \"val\": 34}, {\"col\": \"data\", \"idx\": 16, \"val\": 76}, {\"col\": \"data\", \"idx\": 17, \"val\": 64}, {\"col\": \"data\", \"idx\": 18, \"val\": 18}, {\"col\": \"data\", \"idx\": 19, \"val\": 67}, {\"col\": \"data\", \"idx\": 20, \"val\": 69}]}, {\"name\": \"stats\", \"source\": \"table\", \"transform\": [{\"keys\": [\"data.idx\"], \"type\": \"facet\"}, {\"type\": \"stats\", \"value\": \"data.val\"}]}], \"height\": 500, \"legends\": [], \"marks\": [{\"from\": {\"data\": \"table\", \"transform\": [{\"keys\": [\"data.col\"], \"type\": \"facet\"}, {\"height\": \"data.val\", \"point\": \"data.idx\", \"type\": \"stack\"}]}, \"marks\": [{\"properties\": {\"enter\": {\"fill\": {\"field\": \"data.col\", \"scale\": \"color\"}, \"width\": {\"band\": true, \"offset\": -1, \"scale\": \"x\"}, \"x\": {\"field\": \"data.idx\", \"scale\": \"x\"}, \"y\": {\"field\": \"y\", \"scale\": \"y\"}, \"y2\": {\"field\": \"y2\", \"scale\": \"y\"}}}, \"type\": \"rect\"}], \"type\": \"group\"}], \"padding\": \"auto\", \"scales\": [{\"domain\": {\"data\": \"table\", \"field\": \"data.idx\"}, \"name\": \"x\", \"range\": \"width\", \"type\": \"ordinal\", \"zero\": false}, {\"domain\": {\"data\": \"stats\", \"field\": \"sum\"}, \"name\": \"y\", \"nice\": true, \"range\": \"height\"}, {\"domain\": {\"data\": \"table\", \"field\": \"data.col\"}, \"name\": \"color\", \"range\": \"category20\", \"type\": \"ordinal\"}], \"width\": 960}, function(chart) {\n",
        "      chart({el: \"#vis12774\"}).update();\n",
        "    });\n",
        "  };\n",
        "  _do_plot();\n",
        "})();\n"
       ],
       "metadata": {},
       "output_type": "display_data",
       "text": [
        "<IPython.core.display.Javascript at 0x4113f10>"
       ]
      }
     ],
     "prompt_number": 15
    },
    {
     "cell_type": "code",
     "collapsed": false,
     "input": [
      "line = vincent.Line(multi_iter1, iter_idx='index')\n",
      "line.axis_titles(x='Index', y='Value')\n",
      "line.legend(title='Categories')\n",
      "line.display()"
     ],
     "language": "python",
     "metadata": {},
     "outputs": [
      {
       "html": [
        "<div id=\"vis12380\"></div>"
       ],
       "metadata": {},
       "output_type": "display_data",
       "text": [
        "<IPython.core.display.HTML at 0x4113fd0>"
       ]
      },
      {
       "javascript": [
        "\n",
        "( function() {\n",
        "  var _do_plot = function() {\n",
        "    if ( typeof vg == 'undefined' ) {\n",
        "      $([IPython.events]).on(\"vega_loaded.vincent\", _do_plot);\n",
        "      return;\n",
        "    }\n",
        "    vg.parse.spec({\"axes\": [{\"scale\": \"x\", \"title\": \"Index\", \"type\": \"x\"}, {\"scale\": \"y\", \"title\": \"Value\", \"type\": \"y\"}], \"data\": [{\"name\": \"table\", \"values\": [{\"col\": \"y1\", \"idx\": 0, \"val\": 96}, {\"col\": \"y1\", \"idx\": 1, \"val\": 63}, {\"col\": \"y1\", \"idx\": 2, \"val\": 46}, {\"col\": \"y1\", \"idx\": 3, \"val\": 77}, {\"col\": \"y1\", \"idx\": 4, \"val\": 54}, {\"col\": \"y1\", \"idx\": 5, \"val\": 47}, {\"col\": \"y1\", \"idx\": 6, \"val\": 90}, {\"col\": \"y1\", \"idx\": 7, \"val\": 74}, {\"col\": \"y1\", \"idx\": 8, \"val\": 37}, {\"col\": \"y1\", \"idx\": 9, \"val\": 45}, {\"col\": \"y1\", \"idx\": 10, \"val\": 82}, {\"col\": \"y1\", \"idx\": 11, \"val\": 49}, {\"col\": \"y1\", \"idx\": 12, \"val\": 33}, {\"col\": \"y1\", \"idx\": 13, \"val\": 44}, {\"col\": \"y1\", \"idx\": 14, \"val\": 28}, {\"col\": \"y1\", \"idx\": 15, \"val\": 34}, {\"col\": \"y1\", \"idx\": 16, \"val\": 76}, {\"col\": \"y1\", \"idx\": 17, \"val\": 64}, {\"col\": \"y1\", \"idx\": 18, \"val\": 18}, {\"col\": \"y1\", \"idx\": 19, \"val\": 67}, {\"col\": \"y1\", \"idx\": 20, \"val\": 69}, {\"col\": \"y2\", \"idx\": 0, \"val\": 59}, {\"col\": \"y2\", \"idx\": 1, \"val\": 33}, {\"col\": \"y2\", \"idx\": 2, \"val\": 52}, {\"col\": \"y2\", \"idx\": 3, \"val\": 93}, {\"col\": \"y2\", \"idx\": 4, \"val\": 85}, {\"col\": \"y2\", \"idx\": 5, \"val\": 42}, {\"col\": \"y2\", \"idx\": 6, \"val\": 23}, {\"col\": \"y2\", \"idx\": 7, \"val\": 90}, {\"col\": \"y2\", \"idx\": 8, \"val\": 38}, {\"col\": \"y2\", \"idx\": 9, \"val\": 34}, {\"col\": \"y2\", \"idx\": 10, \"val\": 92}, {\"col\": \"y2\", \"idx\": 11, \"val\": 22}, {\"col\": \"y2\", \"idx\": 12, \"val\": 59}, {\"col\": \"y2\", \"idx\": 13, \"val\": 10}, {\"col\": \"y2\", \"idx\": 14, \"val\": 80}, {\"col\": \"y2\", \"idx\": 15, \"val\": 74}, {\"col\": \"y2\", \"idx\": 16, \"val\": 41}, {\"col\": \"y2\", \"idx\": 17, \"val\": 68}, {\"col\": \"y2\", \"idx\": 18, \"val\": 20}, {\"col\": \"y2\", \"idx\": 19, \"val\": 78}, {\"col\": \"y2\", \"idx\": 20, \"val\": 26}, {\"col\": \"y3\", \"idx\": 0, \"val\": 65}, {\"col\": \"y3\", \"idx\": 1, \"val\": 88}, {\"col\": \"y3\", \"idx\": 2, \"val\": 63}, {\"col\": \"y3\", \"idx\": 3, \"val\": 99}, {\"col\": \"y3\", \"idx\": 4, \"val\": 11}, {\"col\": \"y3\", \"idx\": 5, \"val\": 90}, {\"col\": \"y3\", \"idx\": 6, \"val\": 84}, {\"col\": \"y3\", \"idx\": 7, \"val\": 22}, {\"col\": \"y3\", \"idx\": 8, \"val\": 95}, {\"col\": \"y3\", \"idx\": 9, \"val\": 81}, {\"col\": \"y3\", \"idx\": 10, \"val\": 47}, {\"col\": \"y3\", \"idx\": 11, \"val\": 78}, {\"col\": \"y3\", \"idx\": 12, \"val\": 16}, {\"col\": \"y3\", \"idx\": 13, \"val\": 11}, {\"col\": \"y3\", \"idx\": 14, \"val\": 79}, {\"col\": \"y3\", \"idx\": 15, \"val\": 92}, {\"col\": \"y3\", \"idx\": 16, \"val\": 37}, {\"col\": \"y3\", \"idx\": 17, \"val\": 19}, {\"col\": \"y3\", \"idx\": 18, \"val\": 40}, {\"col\": \"y3\", \"idx\": 19, \"val\": 61}, {\"col\": \"y3\", \"idx\": 20, \"val\": 78}, {\"col\": \"y4\", \"idx\": 0, \"val\": 61}, {\"col\": \"y4\", \"idx\": 1, \"val\": 95}, {\"col\": \"y4\", \"idx\": 2, \"val\": 38}, {\"col\": \"y4\", \"idx\": 3, \"val\": 21}, {\"col\": \"y4\", \"idx\": 4, \"val\": 63}, {\"col\": \"y4\", \"idx\": 5, \"val\": 92}, {\"col\": \"y4\", \"idx\": 6, \"val\": 13}, {\"col\": \"y4\", \"idx\": 7, \"val\": 81}, {\"col\": \"y4\", \"idx\": 8, \"val\": 66}, {\"col\": \"y4\", \"idx\": 9, \"val\": 77}, {\"col\": \"y4\", \"idx\": 10, \"val\": 34}, {\"col\": \"y4\", \"idx\": 11, \"val\": 56}, {\"col\": \"y4\", \"idx\": 12, \"val\": 80}, {\"col\": \"y4\", \"idx\": 13, \"val\": 42}, {\"col\": \"y4\", \"idx\": 14, \"val\": 58}, {\"col\": \"y4\", \"idx\": 15, \"val\": 59}, {\"col\": \"y4\", \"idx\": 16, \"val\": 90}, {\"col\": \"y4\", \"idx\": 17, \"val\": 87}, {\"col\": \"y4\", \"idx\": 18, \"val\": 68}, {\"col\": \"y4\", \"idx\": 19, \"val\": 98}, {\"col\": \"y4\", \"idx\": 20, \"val\": 82}]}], \"height\": 500, \"legends\": [{\"fill\": \"color\", \"offset\": 0, \"title\": \"Categories\"}], \"marks\": [{\"from\": {\"data\": \"table\", \"transform\": [{\"keys\": [\"data.col\"], \"type\": \"facet\"}]}, \"marks\": [{\"properties\": {\"enter\": {\"stroke\": {\"field\": \"data.col\", \"scale\": \"color\"}, \"strokeWidth\": {\"value\": 2}, \"x\": {\"field\": \"data.idx\", \"scale\": \"x\"}, \"y\": {\"field\": \"data.val\", \"scale\": \"y\"}}}, \"type\": \"line\"}], \"type\": \"group\"}], \"padding\": \"auto\", \"scales\": [{\"domain\": {\"data\": \"table\", \"field\": \"data.idx\"}, \"name\": \"x\", \"range\": \"width\", \"type\": \"linear\"}, {\"domain\": {\"data\": \"table\", \"field\": \"data.val\"}, \"name\": \"y\", \"nice\": true, \"range\": \"height\"}, {\"domain\": {\"data\": \"table\", \"field\": \"data.col\"}, \"name\": \"color\", \"range\": \"category20\", \"type\": \"ordinal\"}], \"width\": 960}, function(chart) {\n",
        "      chart({el: \"#vis12380\"}).update();\n",
        "    });\n",
        "  };\n",
        "  _do_plot();\n",
        "})();\n"
       ],
       "metadata": {},
       "output_type": "display_data",
       "text": [
        "<IPython.core.display.Javascript at 0x4105b10>"
       ]
      }
     ],
     "prompt_number": 16
    },
    {
     "cell_type": "code",
     "collapsed": false,
     "input": [
      "line = vincent.Line(price[['GOOG', 'AAPL']])\n",
      "line.axis_titles(x='Date', y='Price')\n",
      "line.legend(title='GOOG vs AAPL')\n",
      "line.display()"
     ],
     "language": "python",
     "metadata": {},
     "outputs": [
      {
       "ename": "NameError",
       "evalue": "name 'price' is not defined",
       "output_type": "pyerr",
       "traceback": [
        "\u001b[1;31m---------------------------------------------------------------------------\u001b[0m\n\u001b[1;31mNameError\u001b[0m                                 Traceback (most recent call last)",
        "\u001b[1;32m<ipython-input-17-1228271f6095>\u001b[0m in \u001b[0;36m<module>\u001b[1;34m()\u001b[0m\n\u001b[1;32m----> 1\u001b[1;33m \u001b[0mline\u001b[0m \u001b[1;33m=\u001b[0m \u001b[0mvincent\u001b[0m\u001b[1;33m.\u001b[0m\u001b[0mLine\u001b[0m\u001b[1;33m(\u001b[0m\u001b[0mprice\u001b[0m\u001b[1;33m[\u001b[0m\u001b[1;33m[\u001b[0m\u001b[1;34m'GOOG'\u001b[0m\u001b[1;33m,\u001b[0m \u001b[1;34m'AAPL'\u001b[0m\u001b[1;33m]\u001b[0m\u001b[1;33m]\u001b[0m\u001b[1;33m)\u001b[0m\u001b[1;33m\u001b[0m\u001b[0m\n\u001b[0m\u001b[0;32m      2\u001b[0m \u001b[0mline\u001b[0m\u001b[1;33m.\u001b[0m\u001b[0maxis_titles\u001b[0m\u001b[1;33m(\u001b[0m\u001b[0mx\u001b[0m\u001b[1;33m=\u001b[0m\u001b[1;34m'Date'\u001b[0m\u001b[1;33m,\u001b[0m \u001b[0my\u001b[0m\u001b[1;33m=\u001b[0m\u001b[1;34m'Price'\u001b[0m\u001b[1;33m)\u001b[0m\u001b[1;33m\u001b[0m\u001b[0m\n\u001b[0;32m      3\u001b[0m \u001b[0mline\u001b[0m\u001b[1;33m.\u001b[0m\u001b[0mlegend\u001b[0m\u001b[1;33m(\u001b[0m\u001b[0mtitle\u001b[0m\u001b[1;33m=\u001b[0m\u001b[1;34m'GOOG vs AAPL'\u001b[0m\u001b[1;33m)\u001b[0m\u001b[1;33m\u001b[0m\u001b[0m\n\u001b[0;32m      4\u001b[0m \u001b[0mline\u001b[0m\u001b[1;33m.\u001b[0m\u001b[0mdisplay\u001b[0m\u001b[1;33m(\u001b[0m\u001b[1;33m)\u001b[0m\u001b[1;33m\u001b[0m\u001b[0m\n",
        "\u001b[1;31mNameError\u001b[0m: name 'price' is not defined"
       ]
      }
     ],
     "prompt_number": 17
    },
    {
     "cell_type": "code",
     "collapsed": false,
     "input": [
      "scatter = vincent.Scatter(df_1)\n",
      "scatter.axis_titles(x='Index', y='Data Value')\n",
      "scatter.legend(title='Categories')\n",
      "scatter.colors(brew='Set3')\n",
      "scatter.display()"
     ],
     "language": "python",
     "metadata": {},
     "outputs": [
      {
       "html": [
        "<div id=\"vis60894\"></div>"
       ],
       "metadata": {},
       "output_type": "display_data",
       "text": [
        "<IPython.core.display.HTML at 0x2f535d0>"
       ]
      },
      {
       "javascript": [
        "\n",
        "( function() {\n",
        "  var _do_plot = function() {\n",
        "    if ( typeof vg == 'undefined' ) {\n",
        "      $([IPython.events]).on(\"vega_loaded.vincent\", _do_plot);\n",
        "      return;\n",
        "    }\n",
        "    vg.parse.spec({\"axes\": [{\"scale\": \"x\", \"title\": \"Index\", \"type\": \"x\"}, {\"scale\": \"y\", \"title\": \"Data Value\", \"type\": \"y\"}], \"data\": [{\"name\": \"table\", \"values\": [{\"col\": \"y0\", \"idx\": 1, \"val\": 81}, {\"col\": \"y1\", \"idx\": 1, \"val\": 77}, {\"col\": \"y2\", \"idx\": 1, \"val\": 92}, {\"col\": \"y3\", \"idx\": 1, \"val\": 89}, {\"col\": \"y4\", \"idx\": 1, \"val\": 53}, {\"col\": \"y5\", \"idx\": 1, \"val\": 84}, {\"col\": \"y6\", \"idx\": 1, \"val\": 72}, {\"col\": \"y7\", \"idx\": 1, \"val\": 35}, {\"col\": \"y8\", \"idx\": 1, \"val\": 98}, {\"col\": \"y9\", \"idx\": 1, \"val\": 78}, {\"col\": \"y0\", \"idx\": 2, \"val\": 85}, {\"col\": \"y1\", \"idx\": 2, \"val\": 98}, {\"col\": \"y2\", \"idx\": 2, \"val\": 31}, {\"col\": \"y3\", \"idx\": 2, \"val\": 14}, {\"col\": \"y4\", \"idx\": 2, \"val\": 56}, {\"col\": \"y5\", \"idx\": 2, \"val\": 53}, {\"col\": \"y6\", \"idx\": 2, \"val\": 83}, {\"col\": \"y7\", \"idx\": 2, \"val\": 96}, {\"col\": \"y8\", \"idx\": 2, \"val\": 37}, {\"col\": \"y9\", \"idx\": 2, \"val\": 63}, {\"col\": \"y0\", \"idx\": 3, \"val\": 22}, {\"col\": \"y1\", \"idx\": 3, \"val\": 12}, {\"col\": \"y2\", \"idx\": 3, \"val\": 95}, {\"col\": \"y3\", \"idx\": 3, \"val\": 76}, {\"col\": \"y4\", \"idx\": 3, \"val\": 94}, {\"col\": \"y5\", \"idx\": 3, \"val\": 62}, {\"col\": \"y6\", \"idx\": 3, \"val\": 56}, {\"col\": \"y7\", \"idx\": 3, \"val\": 79}, {\"col\": \"y8\", \"idx\": 3, \"val\": 80}, {\"col\": \"y9\", \"idx\": 3, \"val\": 14}, {\"col\": \"y0\", \"idx\": 4, \"val\": 36}, {\"col\": \"y1\", \"idx\": 4, \"val\": 57}, {\"col\": \"y2\", \"idx\": 4, \"val\": 56}, {\"col\": \"y3\", \"idx\": 4, \"val\": 53}, {\"col\": \"y4\", \"idx\": 4, \"val\": 33}, {\"col\": \"y5\", \"idx\": 4, \"val\": 50}, {\"col\": \"y6\", \"idx\": 4, \"val\": 45}, {\"col\": \"y7\", \"idx\": 4, \"val\": 31}, {\"col\": \"y8\", \"idx\": 4, \"val\": 27}, {\"col\": \"y9\", \"idx\": 4, \"val\": 43}, {\"col\": \"y0\", \"idx\": 5, \"val\": 60}, {\"col\": \"y1\", \"idx\": 5, \"val\": 13}, {\"col\": \"y2\", \"idx\": 5, \"val\": 70}, {\"col\": \"y3\", \"idx\": 5, \"val\": 52}, {\"col\": \"y4\", \"idx\": 5, \"val\": 28}, {\"col\": \"y5\", \"idx\": 5, \"val\": 11}, {\"col\": \"y6\", \"idx\": 5, \"val\": 16}, {\"col\": \"y7\", \"idx\": 5, \"val\": 25}, {\"col\": \"y8\", \"idx\": 5, \"val\": 46}, {\"col\": \"y9\", \"idx\": 5, \"val\": 47}, {\"col\": \"y0\", \"idx\": 6, \"val\": 21}, {\"col\": \"y1\", \"idx\": 6, \"val\": 22}, {\"col\": \"y2\", \"idx\": 6, \"val\": 75}, {\"col\": \"y3\", \"idx\": 6, \"val\": 30}, {\"col\": \"y4\", \"idx\": 6, \"val\": 55}, {\"col\": \"y5\", \"idx\": 6, \"val\": 35}, {\"col\": \"y6\", \"idx\": 6, \"val\": 42}, {\"col\": \"y7\", \"idx\": 6, \"val\": 52}, {\"col\": \"y8\", \"idx\": 6, \"val\": 53}, {\"col\": \"y9\", \"idx\": 6, \"val\": 39}, {\"col\": \"y0\", \"idx\": 7, \"val\": 84}, {\"col\": \"y1\", \"idx\": 7, \"val\": 57}, {\"col\": \"y2\", \"idx\": 7, \"val\": 81}, {\"col\": \"y3\", \"idx\": 7, \"val\": 80}, {\"col\": \"y4\", \"idx\": 7, \"val\": 55}, {\"col\": \"y5\", \"idx\": 7, \"val\": 60}, {\"col\": \"y6\", \"idx\": 7, \"val\": 52}, {\"col\": \"y7\", \"idx\": 7, \"val\": 32}, {\"col\": \"y8\", \"idx\": 7, \"val\": 27}, {\"col\": \"y9\", \"idx\": 7, \"val\": 79}, {\"col\": \"y0\", \"idx\": 8, \"val\": 53}, {\"col\": \"y1\", \"idx\": 8, \"val\": 80}, {\"col\": \"y2\", \"idx\": 8, \"val\": 33}, {\"col\": \"y3\", \"idx\": 8, \"val\": 76}, {\"col\": \"y4\", \"idx\": 8, \"val\": 59}, {\"col\": \"y5\", \"idx\": 8, \"val\": 90}, {\"col\": \"y6\", \"idx\": 8, \"val\": 42}, {\"col\": \"y7\", \"idx\": 8, \"val\": 31}, {\"col\": \"y8\", \"idx\": 8, \"val\": 56}, {\"col\": \"y9\", \"idx\": 8, \"val\": 30}, {\"col\": \"y0\", \"idx\": 9, \"val\": 99}, {\"col\": \"y1\", \"idx\": 9, \"val\": 31}, {\"col\": \"y2\", \"idx\": 9, \"val\": 100}, {\"col\": \"y3\", \"idx\": 9, \"val\": 41}, {\"col\": \"y4\", \"idx\": 9, \"val\": 70}, {\"col\": \"y5\", \"idx\": 9, \"val\": 48}, {\"col\": \"y6\", \"idx\": 9, \"val\": 28}, {\"col\": \"y7\", \"idx\": 9, \"val\": 19}, {\"col\": \"y8\", \"idx\": 9, \"val\": 52}, {\"col\": \"y9\", \"idx\": 9, \"val\": 48}, {\"col\": \"y0\", \"idx\": 10, \"val\": 18}, {\"col\": \"y1\", \"idx\": 10, \"val\": 75}, {\"col\": \"y2\", \"idx\": 10, \"val\": 73}, {\"col\": \"y3\", \"idx\": 10, \"val\": 65}, {\"col\": \"y4\", \"idx\": 10, \"val\": 26}, {\"col\": \"y5\", \"idx\": 10, \"val\": 95}, {\"col\": \"y6\", \"idx\": 10, \"val\": 54}, {\"col\": \"y7\", \"idx\": 10, \"val\": 20}, {\"col\": \"y8\", \"idx\": 10, \"val\": 12}, {\"col\": \"y9\", \"idx\": 10, \"val\": 96}, {\"col\": \"y0\", \"idx\": 11, \"val\": 28}, {\"col\": \"y1\", \"idx\": 11, \"val\": 19}, {\"col\": \"y2\", \"idx\": 11, \"val\": 37}, {\"col\": \"y3\", \"idx\": 11, \"val\": 16}, {\"col\": \"y4\", \"idx\": 11, \"val\": 26}, {\"col\": \"y5\", \"idx\": 11, \"val\": 11}, {\"col\": \"y6\", \"idx\": 11, \"val\": 10}, {\"col\": \"y7\", \"idx\": 11, \"val\": 86}, {\"col\": \"y8\", \"idx\": 11, \"val\": 31}, {\"col\": \"y9\", \"idx\": 11, \"val\": 62}, {\"col\": \"y0\", \"idx\": 12, \"val\": 58}, {\"col\": \"y1\", \"idx\": 12, \"val\": 94}, {\"col\": \"y2\", \"idx\": 12, \"val\": 22}, {\"col\": \"y3\", \"idx\": 12, \"val\": 51}, {\"col\": \"y4\", \"idx\": 12, \"val\": 26}, {\"col\": \"y5\", \"idx\": 12, \"val\": 91}, {\"col\": \"y6\", \"idx\": 12, \"val\": 59}, {\"col\": \"y7\", \"idx\": 12, \"val\": 55}, {\"col\": \"y8\", \"idx\": 12, \"val\": 21}, {\"col\": \"y9\", \"idx\": 12, \"val\": 27}, {\"col\": \"y0\", \"idx\": 13, \"val\": 19}, {\"col\": \"y1\", \"idx\": 13, \"val\": 82}, {\"col\": \"y2\", \"idx\": 13, \"val\": 21}, {\"col\": \"y3\", \"idx\": 13, \"val\": 68}, {\"col\": \"y4\", \"idx\": 13, \"val\": 52}, {\"col\": \"y5\", \"idx\": 13, \"val\": 68}, {\"col\": \"y6\", \"idx\": 13, \"val\": 29}, {\"col\": \"y7\", \"idx\": 13, \"val\": 69}, {\"col\": \"y8\", \"idx\": 13, \"val\": 99}, {\"col\": \"y9\", \"idx\": 13, \"val\": 22}, {\"col\": \"y0\", \"idx\": 14, \"val\": 74}, {\"col\": \"y1\", \"idx\": 14, \"val\": 69}, {\"col\": \"y2\", \"idx\": 14, \"val\": 39}, {\"col\": \"y3\", \"idx\": 14, \"val\": 95}, {\"col\": \"y4\", \"idx\": 14, \"val\": 87}, {\"col\": \"y5\", \"idx\": 14, \"val\": 98}, {\"col\": \"y6\", \"idx\": 14, \"val\": 95}, {\"col\": \"y7\", \"idx\": 14, \"val\": 64}, {\"col\": \"y8\", \"idx\": 14, \"val\": 61}, {\"col\": \"y9\", \"idx\": 14, \"val\": 27}, {\"col\": \"y0\", \"idx\": 15, \"val\": 97}, {\"col\": \"y1\", \"idx\": 15, \"val\": 86}, {\"col\": \"y2\", \"idx\": 15, \"val\": 89}, {\"col\": \"y3\", \"idx\": 15, \"val\": 64}, {\"col\": \"y4\", \"idx\": 15, \"val\": 46}, {\"col\": \"y5\", \"idx\": 15, \"val\": 24}, {\"col\": \"y6\", \"idx\": 15, \"val\": 10}, {\"col\": \"y7\", \"idx\": 15, \"val\": 55}, {\"col\": \"y8\", \"idx\": 15, \"val\": 44}, {\"col\": \"y9\", \"idx\": 15, \"val\": 79}, {\"col\": \"y0\", \"idx\": 16, \"val\": 23}, {\"col\": \"y1\", \"idx\": 16, \"val\": 88}, {\"col\": \"y2\", \"idx\": 16, \"val\": 46}, {\"col\": \"y3\", \"idx\": 16, \"val\": 75}, {\"col\": \"y4\", \"idx\": 16, \"val\": 72}, {\"col\": \"y5\", \"idx\": 16, \"val\": 69}, {\"col\": \"y6\", \"idx\": 16, \"val\": 28}, {\"col\": \"y7\", \"idx\": 16, \"val\": 37}, {\"col\": \"y8\", \"idx\": 16, \"val\": 78}, {\"col\": \"y9\", \"idx\": 16, \"val\": 80}, {\"col\": \"y0\", \"idx\": 17, \"val\": 11}, {\"col\": \"y1\", \"idx\": 17, \"val\": 39}, {\"col\": \"y2\", \"idx\": 17, \"val\": 96}, {\"col\": \"y3\", \"idx\": 17, \"val\": 82}, {\"col\": \"y4\", \"idx\": 17, \"val\": 24}, {\"col\": \"y5\", \"idx\": 17, \"val\": 35}, {\"col\": \"y6\", \"idx\": 17, \"val\": 67}, {\"col\": \"y7\", \"idx\": 17, \"val\": 80}, {\"col\": \"y8\", \"idx\": 17, \"val\": 82}, {\"col\": \"y9\", \"idx\": 17, \"val\": 91}, {\"col\": \"y0\", \"idx\": 18, \"val\": 97}, {\"col\": \"y1\", \"idx\": 18, \"val\": 46}, {\"col\": \"y2\", \"idx\": 18, \"val\": 99}, {\"col\": \"y3\", \"idx\": 18, \"val\": 65}, {\"col\": \"y4\", \"idx\": 18, \"val\": 32}, {\"col\": \"y5\", \"idx\": 18, \"val\": 77}, {\"col\": \"y6\", \"idx\": 18, \"val\": 32}, {\"col\": \"y7\", \"idx\": 18, \"val\": 80}, {\"col\": \"y8\", \"idx\": 18, \"val\": 43}, {\"col\": \"y9\", \"idx\": 18, \"val\": 66}, {\"col\": \"y0\", \"idx\": 19, \"val\": 97}, {\"col\": \"y1\", \"idx\": 19, \"val\": 43}, {\"col\": \"y2\", \"idx\": 19, \"val\": 46}, {\"col\": \"y3\", \"idx\": 19, \"val\": 79}, {\"col\": \"y4\", \"idx\": 19, \"val\": 83}, {\"col\": \"y5\", \"idx\": 19, \"val\": 46}, {\"col\": \"y6\", \"idx\": 19, \"val\": 38}, {\"col\": \"y7\", \"idx\": 19, \"val\": 98}, {\"col\": \"y8\", \"idx\": 19, \"val\": 53}, {\"col\": \"y9\", \"idx\": 19, \"val\": 27}, {\"col\": \"y0\", \"idx\": 20, \"val\": 77}, {\"col\": \"y1\", \"idx\": 20, \"val\": 41}, {\"col\": \"y2\", \"idx\": 20, \"val\": 33}, {\"col\": \"y3\", \"idx\": 20, \"val\": 23}, {\"col\": \"y4\", \"idx\": 20, \"val\": 92}, {\"col\": \"y5\", \"idx\": 20, \"val\": 60}, {\"col\": \"y6\", \"idx\": 20, \"val\": 22}, {\"col\": \"y7\", \"idx\": 20, \"val\": 13}, {\"col\": \"y8\", \"idx\": 20, \"val\": 40}, {\"col\": \"y9\", \"idx\": 20, \"val\": 11}]}], \"height\": 500, \"legends\": [{\"fill\": \"color\", \"offset\": 0, \"title\": \"Categories\"}], \"marks\": [{\"from\": {\"data\": \"table\", \"transform\": [{\"keys\": [\"data.col\"], \"type\": \"facet\"}]}, \"marks\": [{\"properties\": {\"enter\": {\"fill\": {\"field\": \"data.col\", \"scale\": \"color\"}, \"size\": {\"value\": 100}, \"x\": {\"field\": \"data.idx\", \"scale\": \"x\"}, \"y\": {\"field\": \"data.val\", \"scale\": \"y\"}}}, \"type\": \"symbol\"}], \"type\": \"group\"}], \"padding\": \"auto\", \"scales\": [{\"domain\": {\"data\": \"table\", \"field\": \"data.idx\"}, \"name\": \"x\", \"range\": \"width\", \"type\": \"linear\"}, {\"domain\": {\"data\": \"table\", \"field\": \"data.val\"}, \"name\": \"y\", \"nice\": true, \"range\": \"height\"}, {\"domain\": {\"data\": \"table\", \"field\": \"data.col\"}, \"name\": \"color\", \"range\": [\"#8dd3c7\", \"#ffffb3\", \"#bebada\", \"#fb8072\", \"#80b1d3\", \"#fdb462\", \"#b3de69\", \"#fccde5\", \"#d9d9d9\", \"#bc80bd\", \"#ccebc5\", \"#ffed6f\"], \"type\": \"ordinal\"}], \"width\": 960}, function(chart) {\n",
        "      chart({el: \"#vis60894\"}).update();\n",
        "    });\n",
        "  };\n",
        "  _do_plot();\n",
        "})();\n"
       ],
       "metadata": {},
       "output_type": "display_data",
       "text": [
        "<IPython.core.display.Javascript at 0x2f53990>"
       ]
      }
     ],
     "prompt_number": 18
    },
    {
     "cell_type": "code",
     "collapsed": false,
     "input": [
      "stacked = vincent.StackedArea(df_1)\n",
      "stacked.axis_titles(x='Index', y='Value')\n",
      "stacked.legend(title='Categories')\n",
      "stacked.colors(brew='Spectral')\n",
      "stacked.display()"
     ],
     "language": "python",
     "metadata": {},
     "outputs": [
      {
       "html": [
        "<div id=\"vis4149\"></div>"
       ],
       "metadata": {},
       "output_type": "display_data",
       "text": [
        "<IPython.core.display.HTML at 0x4108550>"
       ]
      },
      {
       "javascript": [
        "\n",
        "( function() {\n",
        "  var _do_plot = function() {\n",
        "    if ( typeof vg == 'undefined' ) {\n",
        "      $([IPython.events]).on(\"vega_loaded.vincent\", _do_plot);\n",
        "      return;\n",
        "    }\n",
        "    vg.parse.spec({\"axes\": [{\"scale\": \"x\", \"title\": \"Index\", \"type\": \"x\"}, {\"scale\": \"y\", \"title\": \"Value\", \"type\": \"y\"}], \"data\": [{\"name\": \"table\", \"values\": [{\"col\": \"y0\", \"idx\": 1, \"val\": 81}, {\"col\": \"y1\", \"idx\": 1, \"val\": 77}, {\"col\": \"y2\", \"idx\": 1, \"val\": 92}, {\"col\": \"y3\", \"idx\": 1, \"val\": 89}, {\"col\": \"y4\", \"idx\": 1, \"val\": 53}, {\"col\": \"y5\", \"idx\": 1, \"val\": 84}, {\"col\": \"y6\", \"idx\": 1, \"val\": 72}, {\"col\": \"y7\", \"idx\": 1, \"val\": 35}, {\"col\": \"y8\", \"idx\": 1, \"val\": 98}, {\"col\": \"y9\", \"idx\": 1, \"val\": 78}, {\"col\": \"y0\", \"idx\": 2, \"val\": 85}, {\"col\": \"y1\", \"idx\": 2, \"val\": 98}, {\"col\": \"y2\", \"idx\": 2, \"val\": 31}, {\"col\": \"y3\", \"idx\": 2, \"val\": 14}, {\"col\": \"y4\", \"idx\": 2, \"val\": 56}, {\"col\": \"y5\", \"idx\": 2, \"val\": 53}, {\"col\": \"y6\", \"idx\": 2, \"val\": 83}, {\"col\": \"y7\", \"idx\": 2, \"val\": 96}, {\"col\": \"y8\", \"idx\": 2, \"val\": 37}, {\"col\": \"y9\", \"idx\": 2, \"val\": 63}, {\"col\": \"y0\", \"idx\": 3, \"val\": 22}, {\"col\": \"y1\", \"idx\": 3, \"val\": 12}, {\"col\": \"y2\", \"idx\": 3, \"val\": 95}, {\"col\": \"y3\", \"idx\": 3, \"val\": 76}, {\"col\": \"y4\", \"idx\": 3, \"val\": 94}, {\"col\": \"y5\", \"idx\": 3, \"val\": 62}, {\"col\": \"y6\", \"idx\": 3, \"val\": 56}, {\"col\": \"y7\", \"idx\": 3, \"val\": 79}, {\"col\": \"y8\", \"idx\": 3, \"val\": 80}, {\"col\": \"y9\", \"idx\": 3, \"val\": 14}, {\"col\": \"y0\", \"idx\": 4, \"val\": 36}, {\"col\": \"y1\", \"idx\": 4, \"val\": 57}, {\"col\": \"y2\", \"idx\": 4, \"val\": 56}, {\"col\": \"y3\", \"idx\": 4, \"val\": 53}, {\"col\": \"y4\", \"idx\": 4, \"val\": 33}, {\"col\": \"y5\", \"idx\": 4, \"val\": 50}, {\"col\": \"y6\", \"idx\": 4, \"val\": 45}, {\"col\": \"y7\", \"idx\": 4, \"val\": 31}, {\"col\": \"y8\", \"idx\": 4, \"val\": 27}, {\"col\": \"y9\", \"idx\": 4, \"val\": 43}, {\"col\": \"y0\", \"idx\": 5, \"val\": 60}, {\"col\": \"y1\", \"idx\": 5, \"val\": 13}, {\"col\": \"y2\", \"idx\": 5, \"val\": 70}, {\"col\": \"y3\", \"idx\": 5, \"val\": 52}, {\"col\": \"y4\", \"idx\": 5, \"val\": 28}, {\"col\": \"y5\", \"idx\": 5, \"val\": 11}, {\"col\": \"y6\", \"idx\": 5, \"val\": 16}, {\"col\": \"y7\", \"idx\": 5, \"val\": 25}, {\"col\": \"y8\", \"idx\": 5, \"val\": 46}, {\"col\": \"y9\", \"idx\": 5, \"val\": 47}, {\"col\": \"y0\", \"idx\": 6, \"val\": 21}, {\"col\": \"y1\", \"idx\": 6, \"val\": 22}, {\"col\": \"y2\", \"idx\": 6, \"val\": 75}, {\"col\": \"y3\", \"idx\": 6, \"val\": 30}, {\"col\": \"y4\", \"idx\": 6, \"val\": 55}, {\"col\": \"y5\", \"idx\": 6, \"val\": 35}, {\"col\": \"y6\", \"idx\": 6, \"val\": 42}, {\"col\": \"y7\", \"idx\": 6, \"val\": 52}, {\"col\": \"y8\", \"idx\": 6, \"val\": 53}, {\"col\": \"y9\", \"idx\": 6, \"val\": 39}, {\"col\": \"y0\", \"idx\": 7, \"val\": 84}, {\"col\": \"y1\", \"idx\": 7, \"val\": 57}, {\"col\": \"y2\", \"idx\": 7, \"val\": 81}, {\"col\": \"y3\", \"idx\": 7, \"val\": 80}, {\"col\": \"y4\", \"idx\": 7, \"val\": 55}, {\"col\": \"y5\", \"idx\": 7, \"val\": 60}, {\"col\": \"y6\", \"idx\": 7, \"val\": 52}, {\"col\": \"y7\", \"idx\": 7, \"val\": 32}, {\"col\": \"y8\", \"idx\": 7, \"val\": 27}, {\"col\": \"y9\", \"idx\": 7, \"val\": 79}, {\"col\": \"y0\", \"idx\": 8, \"val\": 53}, {\"col\": \"y1\", \"idx\": 8, \"val\": 80}, {\"col\": \"y2\", \"idx\": 8, \"val\": 33}, {\"col\": \"y3\", \"idx\": 8, \"val\": 76}, {\"col\": \"y4\", \"idx\": 8, \"val\": 59}, {\"col\": \"y5\", \"idx\": 8, \"val\": 90}, {\"col\": \"y6\", \"idx\": 8, \"val\": 42}, {\"col\": \"y7\", \"idx\": 8, \"val\": 31}, {\"col\": \"y8\", \"idx\": 8, \"val\": 56}, {\"col\": \"y9\", \"idx\": 8, \"val\": 30}, {\"col\": \"y0\", \"idx\": 9, \"val\": 99}, {\"col\": \"y1\", \"idx\": 9, \"val\": 31}, {\"col\": \"y2\", \"idx\": 9, \"val\": 100}, {\"col\": \"y3\", \"idx\": 9, \"val\": 41}, {\"col\": \"y4\", \"idx\": 9, \"val\": 70}, {\"col\": \"y5\", \"idx\": 9, \"val\": 48}, {\"col\": \"y6\", \"idx\": 9, \"val\": 28}, {\"col\": \"y7\", \"idx\": 9, \"val\": 19}, {\"col\": \"y8\", \"idx\": 9, \"val\": 52}, {\"col\": \"y9\", \"idx\": 9, \"val\": 48}, {\"col\": \"y0\", \"idx\": 10, \"val\": 18}, {\"col\": \"y1\", \"idx\": 10, \"val\": 75}, {\"col\": \"y2\", \"idx\": 10, \"val\": 73}, {\"col\": \"y3\", \"idx\": 10, \"val\": 65}, {\"col\": \"y4\", \"idx\": 10, \"val\": 26}, {\"col\": \"y5\", \"idx\": 10, \"val\": 95}, {\"col\": \"y6\", \"idx\": 10, \"val\": 54}, {\"col\": \"y7\", \"idx\": 10, \"val\": 20}, {\"col\": \"y8\", \"idx\": 10, \"val\": 12}, {\"col\": \"y9\", \"idx\": 10, \"val\": 96}, {\"col\": \"y0\", \"idx\": 11, \"val\": 28}, {\"col\": \"y1\", \"idx\": 11, \"val\": 19}, {\"col\": \"y2\", \"idx\": 11, \"val\": 37}, {\"col\": \"y3\", \"idx\": 11, \"val\": 16}, {\"col\": \"y4\", \"idx\": 11, \"val\": 26}, {\"col\": \"y5\", \"idx\": 11, \"val\": 11}, {\"col\": \"y6\", \"idx\": 11, \"val\": 10}, {\"col\": \"y7\", \"idx\": 11, \"val\": 86}, {\"col\": \"y8\", \"idx\": 11, \"val\": 31}, {\"col\": \"y9\", \"idx\": 11, \"val\": 62}, {\"col\": \"y0\", \"idx\": 12, \"val\": 58}, {\"col\": \"y1\", \"idx\": 12, \"val\": 94}, {\"col\": \"y2\", \"idx\": 12, \"val\": 22}, {\"col\": \"y3\", \"idx\": 12, \"val\": 51}, {\"col\": \"y4\", \"idx\": 12, \"val\": 26}, {\"col\": \"y5\", \"idx\": 12, \"val\": 91}, {\"col\": \"y6\", \"idx\": 12, \"val\": 59}, {\"col\": \"y7\", \"idx\": 12, \"val\": 55}, {\"col\": \"y8\", \"idx\": 12, \"val\": 21}, {\"col\": \"y9\", \"idx\": 12, \"val\": 27}, {\"col\": \"y0\", \"idx\": 13, \"val\": 19}, {\"col\": \"y1\", \"idx\": 13, \"val\": 82}, {\"col\": \"y2\", \"idx\": 13, \"val\": 21}, {\"col\": \"y3\", \"idx\": 13, \"val\": 68}, {\"col\": \"y4\", \"idx\": 13, \"val\": 52}, {\"col\": \"y5\", \"idx\": 13, \"val\": 68}, {\"col\": \"y6\", \"idx\": 13, \"val\": 29}, {\"col\": \"y7\", \"idx\": 13, \"val\": 69}, {\"col\": \"y8\", \"idx\": 13, \"val\": 99}, {\"col\": \"y9\", \"idx\": 13, \"val\": 22}, {\"col\": \"y0\", \"idx\": 14, \"val\": 74}, {\"col\": \"y1\", \"idx\": 14, \"val\": 69}, {\"col\": \"y2\", \"idx\": 14, \"val\": 39}, {\"col\": \"y3\", \"idx\": 14, \"val\": 95}, {\"col\": \"y4\", \"idx\": 14, \"val\": 87}, {\"col\": \"y5\", \"idx\": 14, \"val\": 98}, {\"col\": \"y6\", \"idx\": 14, \"val\": 95}, {\"col\": \"y7\", \"idx\": 14, \"val\": 64}, {\"col\": \"y8\", \"idx\": 14, \"val\": 61}, {\"col\": \"y9\", \"idx\": 14, \"val\": 27}, {\"col\": \"y0\", \"idx\": 15, \"val\": 97}, {\"col\": \"y1\", \"idx\": 15, \"val\": 86}, {\"col\": \"y2\", \"idx\": 15, \"val\": 89}, {\"col\": \"y3\", \"idx\": 15, \"val\": 64}, {\"col\": \"y4\", \"idx\": 15, \"val\": 46}, {\"col\": \"y5\", \"idx\": 15, \"val\": 24}, {\"col\": \"y6\", \"idx\": 15, \"val\": 10}, {\"col\": \"y7\", \"idx\": 15, \"val\": 55}, {\"col\": \"y8\", \"idx\": 15, \"val\": 44}, {\"col\": \"y9\", \"idx\": 15, \"val\": 79}, {\"col\": \"y0\", \"idx\": 16, \"val\": 23}, {\"col\": \"y1\", \"idx\": 16, \"val\": 88}, {\"col\": \"y2\", \"idx\": 16, \"val\": 46}, {\"col\": \"y3\", \"idx\": 16, \"val\": 75}, {\"col\": \"y4\", \"idx\": 16, \"val\": 72}, {\"col\": \"y5\", \"idx\": 16, \"val\": 69}, {\"col\": \"y6\", \"idx\": 16, \"val\": 28}, {\"col\": \"y7\", \"idx\": 16, \"val\": 37}, {\"col\": \"y8\", \"idx\": 16, \"val\": 78}, {\"col\": \"y9\", \"idx\": 16, \"val\": 80}, {\"col\": \"y0\", \"idx\": 17, \"val\": 11}, {\"col\": \"y1\", \"idx\": 17, \"val\": 39}, {\"col\": \"y2\", \"idx\": 17, \"val\": 96}, {\"col\": \"y3\", \"idx\": 17, \"val\": 82}, {\"col\": \"y4\", \"idx\": 17, \"val\": 24}, {\"col\": \"y5\", \"idx\": 17, \"val\": 35}, {\"col\": \"y6\", \"idx\": 17, \"val\": 67}, {\"col\": \"y7\", \"idx\": 17, \"val\": 80}, {\"col\": \"y8\", \"idx\": 17, \"val\": 82}, {\"col\": \"y9\", \"idx\": 17, \"val\": 91}, {\"col\": \"y0\", \"idx\": 18, \"val\": 97}, {\"col\": \"y1\", \"idx\": 18, \"val\": 46}, {\"col\": \"y2\", \"idx\": 18, \"val\": 99}, {\"col\": \"y3\", \"idx\": 18, \"val\": 65}, {\"col\": \"y4\", \"idx\": 18, \"val\": 32}, {\"col\": \"y5\", \"idx\": 18, \"val\": 77}, {\"col\": \"y6\", \"idx\": 18, \"val\": 32}, {\"col\": \"y7\", \"idx\": 18, \"val\": 80}, {\"col\": \"y8\", \"idx\": 18, \"val\": 43}, {\"col\": \"y9\", \"idx\": 18, \"val\": 66}, {\"col\": \"y0\", \"idx\": 19, \"val\": 97}, {\"col\": \"y1\", \"idx\": 19, \"val\": 43}, {\"col\": \"y2\", \"idx\": 19, \"val\": 46}, {\"col\": \"y3\", \"idx\": 19, \"val\": 79}, {\"col\": \"y4\", \"idx\": 19, \"val\": 83}, {\"col\": \"y5\", \"idx\": 19, \"val\": 46}, {\"col\": \"y6\", \"idx\": 19, \"val\": 38}, {\"col\": \"y7\", \"idx\": 19, \"val\": 98}, {\"col\": \"y8\", \"idx\": 19, \"val\": 53}, {\"col\": \"y9\", \"idx\": 19, \"val\": 27}, {\"col\": \"y0\", \"idx\": 20, \"val\": 77}, {\"col\": \"y1\", \"idx\": 20, \"val\": 41}, {\"col\": \"y2\", \"idx\": 20, \"val\": 33}, {\"col\": \"y3\", \"idx\": 20, \"val\": 23}, {\"col\": \"y4\", \"idx\": 20, \"val\": 92}, {\"col\": \"y5\", \"idx\": 20, \"val\": 60}, {\"col\": \"y6\", \"idx\": 20, \"val\": 22}, {\"col\": \"y7\", \"idx\": 20, \"val\": 13}, {\"col\": \"y8\", \"idx\": 20, \"val\": 40}, {\"col\": \"y9\", \"idx\": 20, \"val\": 11}]}, {\"name\": \"stats\", \"source\": \"table\", \"transform\": [{\"keys\": [\"data.idx\"], \"type\": \"facet\"}, {\"type\": \"stats\", \"value\": \"data.val\"}]}], \"height\": 500, \"legends\": [{\"fill\": \"color\", \"offset\": 0, \"title\": \"Categories\"}], \"marks\": [{\"from\": {\"data\": \"table\", \"transform\": [{\"keys\": [\"data.col\"], \"type\": \"facet\"}, {\"height\": \"data.val\", \"point\": \"data.idx\", \"type\": \"stack\"}]}, \"marks\": [{\"properties\": {\"enter\": {\"fill\": {\"field\": \"data.col\", \"scale\": \"color\"}, \"interpolate\": {\"value\": \"monotone\"}, \"x\": {\"field\": \"data.idx\", \"scale\": \"x\"}, \"y\": {\"field\": \"y\", \"scale\": \"y\"}, \"y2\": {\"field\": \"y2\", \"scale\": \"y\"}}}, \"type\": \"area\"}], \"type\": \"group\"}], \"padding\": \"auto\", \"scales\": [{\"domain\": {\"data\": \"table\", \"field\": \"data.idx\"}, \"name\": \"x\", \"range\": \"width\", \"type\": \"linear\", \"zero\": false}, {\"domain\": {\"data\": \"stats\", \"field\": \"sum\"}, \"name\": \"y\", \"nice\": true, \"range\": \"height\"}, {\"domain\": {\"data\": \"table\", \"field\": \"data.col\"}, \"name\": \"color\", \"range\": [\"#9e0142\", \"#d53e4f\", \"#f46d43\", \"#fdae61\", \"#fee08b\", \"#ffffbf\", \"#e6f598\", \"#abdda4\", \"#66c2a5\", \"#3288bd\", \"#5e4fa2\"], \"type\": \"ordinal\"}], \"width\": 960}, function(chart) {\n",
        "      chart({el: \"#vis4149\"}).update();\n",
        "    });\n",
        "  };\n",
        "  _do_plot();\n",
        "})();\n"
       ],
       "metadata": {},
       "output_type": "display_data",
       "text": [
        "<IPython.core.display.Javascript at 0x4108790>"
       ]
      }
     ],
     "prompt_number": 19
    },
    {
     "cell_type": "code",
     "collapsed": false,
     "input": [
      "stacked = vincent.StackedArea(price)\n",
      "stacked.axis_titles(x='Date', y='Price')\n",
      "stacked.legend(title='Tech Stocks')\n",
      "stacked.display()"
     ],
     "language": "python",
     "metadata": {},
     "outputs": [
      {
       "ename": "NameError",
       "evalue": "name 'price' is not defined",
       "output_type": "pyerr",
       "traceback": [
        "\u001b[1;31m---------------------------------------------------------------------------\u001b[0m\n\u001b[1;31mNameError\u001b[0m                                 Traceback (most recent call last)",
        "\u001b[1;32m<ipython-input-20-4c1dfad44f36>\u001b[0m in \u001b[0;36m<module>\u001b[1;34m()\u001b[0m\n\u001b[1;32m----> 1\u001b[1;33m \u001b[0mstacked\u001b[0m \u001b[1;33m=\u001b[0m \u001b[0mvincent\u001b[0m\u001b[1;33m.\u001b[0m\u001b[0mStackedArea\u001b[0m\u001b[1;33m(\u001b[0m\u001b[0mprice\u001b[0m\u001b[1;33m)\u001b[0m\u001b[1;33m\u001b[0m\u001b[0m\n\u001b[0m\u001b[0;32m      2\u001b[0m \u001b[0mstacked\u001b[0m\u001b[1;33m.\u001b[0m\u001b[0maxis_titles\u001b[0m\u001b[1;33m(\u001b[0m\u001b[0mx\u001b[0m\u001b[1;33m=\u001b[0m\u001b[1;34m'Date'\u001b[0m\u001b[1;33m,\u001b[0m \u001b[0my\u001b[0m\u001b[1;33m=\u001b[0m\u001b[1;34m'Price'\u001b[0m\u001b[1;33m)\u001b[0m\u001b[1;33m\u001b[0m\u001b[0m\n\u001b[0;32m      3\u001b[0m \u001b[0mstacked\u001b[0m\u001b[1;33m.\u001b[0m\u001b[0mlegend\u001b[0m\u001b[1;33m(\u001b[0m\u001b[0mtitle\u001b[0m\u001b[1;33m=\u001b[0m\u001b[1;34m'Tech Stocks'\u001b[0m\u001b[1;33m)\u001b[0m\u001b[1;33m\u001b[0m\u001b[0m\n\u001b[0;32m      4\u001b[0m \u001b[0mstacked\u001b[0m\u001b[1;33m.\u001b[0m\u001b[0mdisplay\u001b[0m\u001b[1;33m(\u001b[0m\u001b[1;33m)\u001b[0m\u001b[1;33m\u001b[0m\u001b[0m\n",
        "\u001b[1;31mNameError\u001b[0m: name 'price' is not defined"
       ]
      }
     ],
     "prompt_number": 20
    },
    {
     "cell_type": "code",
     "collapsed": false,
     "input": [
      "stack = vincent.StackedBar(df_2)\n",
      "stack.legend(title='Categories')\n",
      "stack.scales['x'].padding = 0.1\n",
      "stack.display()"
     ],
     "language": "python",
     "metadata": {},
     "outputs": [
      {
       "html": [
        "<div id=\"vis17807\"></div>"
       ],
       "metadata": {},
       "output_type": "display_data",
       "text": [
        "<IPython.core.display.HTML at 0x4107510>"
       ]
      },
      {
       "javascript": [
        "\n",
        "( function() {\n",
        "  var _do_plot = function() {\n",
        "    if ( typeof vg == 'undefined' ) {\n",
        "      $([IPython.events]).on(\"vega_loaded.vincent\", _do_plot);\n",
        "      return;\n",
        "    }\n",
        "    vg.parse.spec({\"axes\": [{\"scale\": \"x\", \"type\": \"x\"}, {\"scale\": \"y\", \"type\": \"y\"}], \"data\": [{\"name\": \"table\", \"values\": [{\"col\": \"Metric_0\", \"idx\": \"Data 1\", \"val\": 60}, {\"col\": \"Metric_1\", \"idx\": \"Data 1\", \"val\": 87}, {\"col\": \"Metric_2\", \"idx\": \"Data 1\", \"val\": 46}, {\"col\": \"Metric_3\", \"idx\": \"Data 1\", \"val\": 79}, {\"col\": \"Metric_4\", \"idx\": \"Data 1\", \"val\": 84}, {\"col\": \"Metric_5\", \"idx\": \"Data 1\", \"val\": 60}, {\"col\": \"Metric_6\", \"idx\": \"Data 1\", \"val\": 23}, {\"col\": \"Metric_7\", \"idx\": \"Data 1\", \"val\": 85}, {\"col\": \"Metric_8\", \"idx\": \"Data 1\", \"val\": 69}, {\"col\": \"Metric_9\", \"idx\": \"Data 1\", \"val\": 41}, {\"col\": \"Metric_0\", \"idx\": \"Data 2\", \"val\": 64}, {\"col\": \"Metric_1\", \"idx\": \"Data 2\", \"val\": 55}, {\"col\": \"Metric_2\", \"idx\": \"Data 2\", \"val\": 67}, {\"col\": \"Metric_3\", \"idx\": \"Data 2\", \"val\": 71}, {\"col\": \"Metric_4\", \"idx\": \"Data 2\", \"val\": 23}, {\"col\": \"Metric_5\", \"idx\": \"Data 2\", \"val\": 46}, {\"col\": \"Metric_6\", \"idx\": \"Data 2\", \"val\": 34}, {\"col\": \"Metric_7\", \"idx\": \"Data 2\", \"val\": 32}, {\"col\": \"Metric_8\", \"idx\": \"Data 2\", \"val\": 73}, {\"col\": \"Metric_9\", \"idx\": \"Data 2\", \"val\": 80}, {\"col\": \"Metric_0\", \"idx\": \"Data 3\", \"val\": 51}, {\"col\": \"Metric_1\", \"idx\": \"Data 3\", \"val\": 21}, {\"col\": \"Metric_2\", \"idx\": \"Data 3\", \"val\": 86}, {\"col\": \"Metric_3\", \"idx\": \"Data 3\", \"val\": 95}, {\"col\": \"Metric_4\", \"idx\": \"Data 3\", \"val\": 68}, {\"col\": \"Metric_5\", \"idx\": \"Data 3\", \"val\": 89}, {\"col\": \"Metric_6\", \"idx\": \"Data 3\", \"val\": 13}, {\"col\": \"Metric_7\", \"idx\": \"Data 3\", \"val\": 97}, {\"col\": \"Metric_8\", \"idx\": \"Data 3\", \"val\": 76}, {\"col\": \"Metric_9\", \"idx\": \"Data 3\", \"val\": 78}, {\"col\": \"Metric_0\", \"idx\": \"Data 4\", \"val\": 28}, {\"col\": \"Metric_1\", \"idx\": \"Data 4\", \"val\": 98}, {\"col\": \"Metric_2\", \"idx\": \"Data 4\", \"val\": 92}, {\"col\": \"Metric_3\", \"idx\": \"Data 4\", \"val\": 64}, {\"col\": \"Metric_4\", \"idx\": \"Data 4\", \"val\": 43}, {\"col\": \"Metric_5\", \"idx\": \"Data 4\", \"val\": 91}, {\"col\": \"Metric_6\", \"idx\": \"Data 4\", \"val\": 32}, {\"col\": \"Metric_7\", \"idx\": \"Data 4\", \"val\": 37}, {\"col\": \"Metric_8\", \"idx\": \"Data 4\", \"val\": 47}, {\"col\": \"Metric_9\", \"idx\": \"Data 4\", \"val\": 14}]}, {\"name\": \"stats\", \"source\": \"table\", \"transform\": [{\"keys\": [\"data.idx\"], \"type\": \"facet\"}, {\"type\": \"stats\", \"value\": \"data.val\"}]}], \"height\": 500, \"legends\": [{\"fill\": \"color\", \"offset\": 0, \"title\": \"Categories\"}], \"marks\": [{\"from\": {\"data\": \"table\", \"transform\": [{\"keys\": [\"data.col\"], \"type\": \"facet\"}, {\"height\": \"data.val\", \"point\": \"data.idx\", \"type\": \"stack\"}]}, \"marks\": [{\"properties\": {\"enter\": {\"fill\": {\"field\": \"data.col\", \"scale\": \"color\"}, \"width\": {\"band\": true, \"offset\": -1, \"scale\": \"x\"}, \"x\": {\"field\": \"data.idx\", \"scale\": \"x\"}, \"y\": {\"field\": \"y\", \"scale\": \"y\"}, \"y2\": {\"field\": \"y2\", \"scale\": \"y\"}}}, \"type\": \"rect\"}], \"type\": \"group\"}], \"padding\": \"auto\", \"scales\": [{\"domain\": {\"data\": \"table\", \"field\": \"data.idx\"}, \"name\": \"x\", \"padding\": 0.1, \"range\": \"width\", \"type\": \"ordinal\", \"zero\": false}, {\"domain\": {\"data\": \"stats\", \"field\": \"sum\"}, \"name\": \"y\", \"nice\": true, \"range\": \"height\"}, {\"domain\": {\"data\": \"table\", \"field\": \"data.col\"}, \"name\": \"color\", \"range\": \"category20\", \"type\": \"ordinal\"}], \"width\": 960}, function(chart) {\n",
        "      chart({el: \"#vis17807\"}).update();\n",
        "    });\n",
        "  };\n",
        "  _do_plot();\n",
        "})();\n"
       ],
       "metadata": {},
       "output_type": "display_data",
       "text": [
        "<IPython.core.display.Javascript at 0x41077d0>"
       ]
      }
     ],
     "prompt_number": 21
    },
    {
     "cell_type": "code",
     "collapsed": false,
     "input": [
      "stack = vincent.StackedBar(df_farm.T)\n",
      "stack.axis_titles(x='Total Produce', y='Farms')\n",
      "stack.legend(title='Produce Types')\n",
      "stack.colors(brew='Pastel1')\n",
      "stack.display()"
     ],
     "language": "python",
     "metadata": {},
     "outputs": [
      {
       "html": [
        "<div id=\"vis20183\"></div>"
       ],
       "metadata": {},
       "output_type": "display_data",
       "text": [
        "<IPython.core.display.HTML at 0x410add0>"
       ]
      },
      {
       "javascript": [
        "\n",
        "( function() {\n",
        "  var _do_plot = function() {\n",
        "    if ( typeof vg == 'undefined' ) {\n",
        "      $([IPython.events]).on(\"vega_loaded.vincent\", _do_plot);\n",
        "      return;\n",
        "    }\n",
        "    vg.parse.spec({\"axes\": [{\"scale\": \"x\", \"title\": \"Total Produce\", \"type\": \"x\"}, {\"scale\": \"y\", \"title\": \"Farms\", \"type\": \"y\"}], \"data\": [{\"name\": \"table\", \"values\": [{\"col\": \"Farm 1\", \"idx\": \"apples\", \"val\": 10}, {\"col\": \"Farm 2\", \"idx\": \"apples\", \"val\": 15}, {\"col\": \"Farm 3\", \"idx\": \"apples\", \"val\": 6}, {\"col\": \"Farm 4\", \"idx\": \"apples\", \"val\": 12}, {\"col\": \"Farm 1\", \"idx\": \"berries\", \"val\": 32}, {\"col\": \"Farm 2\", \"idx\": \"berries\", \"val\": 43}, {\"col\": \"Farm 3\", \"idx\": \"berries\", \"val\": 24}, {\"col\": \"Farm 4\", \"idx\": \"berries\", \"val\": 30}, {\"col\": \"Farm 1\", \"idx\": \"corn\", \"val\": 18}, {\"col\": \"Farm 2\", \"idx\": \"corn\", \"val\": 22}, {\"col\": \"Farm 3\", \"idx\": \"corn\", \"val\": 30}, {\"col\": \"Farm 4\", \"idx\": \"corn\", \"val\": 15}, {\"col\": \"Farm 1\", \"idx\": \"melons\", \"val\": 13}, {\"col\": \"Farm 2\", \"idx\": \"melons\", \"val\": 10}, {\"col\": \"Farm 3\", \"idx\": \"melons\", \"val\": 16}, {\"col\": \"Farm 4\", \"idx\": \"melons\", \"val\": 9}, {\"col\": \"Farm 1\", \"idx\": \"squash\", \"val\": 21}, {\"col\": \"Farm 2\", \"idx\": \"squash\", \"val\": 17}, {\"col\": \"Farm 3\", \"idx\": \"squash\", \"val\": 22}, {\"col\": \"Farm 4\", \"idx\": \"squash\", \"val\": 15}]}, {\"name\": \"stats\", \"source\": \"table\", \"transform\": [{\"keys\": [\"data.idx\"], \"type\": \"facet\"}, {\"type\": \"stats\", \"value\": \"data.val\"}]}], \"height\": 500, \"legends\": [{\"fill\": \"color\", \"offset\": 0, \"title\": \"Produce Types\"}], \"marks\": [{\"from\": {\"data\": \"table\", \"transform\": [{\"keys\": [\"data.col\"], \"type\": \"facet\"}, {\"height\": \"data.val\", \"point\": \"data.idx\", \"type\": \"stack\"}]}, \"marks\": [{\"properties\": {\"enter\": {\"fill\": {\"field\": \"data.col\", \"scale\": \"color\"}, \"width\": {\"band\": true, \"offset\": -1, \"scale\": \"x\"}, \"x\": {\"field\": \"data.idx\", \"scale\": \"x\"}, \"y\": {\"field\": \"y\", \"scale\": \"y\"}, \"y2\": {\"field\": \"y2\", \"scale\": \"y\"}}}, \"type\": \"rect\"}], \"type\": \"group\"}], \"padding\": \"auto\", \"scales\": [{\"domain\": {\"data\": \"table\", \"field\": \"data.idx\"}, \"name\": \"x\", \"range\": \"width\", \"type\": \"ordinal\", \"zero\": false}, {\"domain\": {\"data\": \"stats\", \"field\": \"sum\"}, \"name\": \"y\", \"nice\": true, \"range\": \"height\"}, {\"domain\": {\"data\": \"table\", \"field\": \"data.col\"}, \"name\": \"color\", \"range\": [\"#fbb4ae\", \"#b3cde3\", \"#ccebc5\", \"#decbe4\", \"#fed9a6\", \"#ffffcc\", \"#e5d8bd\", \"#fddaec\", \"#f2f2f2\"], \"type\": \"ordinal\"}], \"width\": 960}, function(chart) {\n",
        "      chart({el: \"#vis20183\"}).update();\n",
        "    });\n",
        "  };\n",
        "  _do_plot();\n",
        "})();\n"
       ],
       "metadata": {},
       "output_type": "display_data",
       "text": [
        "<IPython.core.display.Javascript at 0x2f533d0>"
       ]
      }
     ],
     "prompt_number": 22
    },
    {
     "cell_type": "code",
     "collapsed": false,
     "input": [
      "group = vincent.GroupedBar(df_2)\n",
      "group.legend(title='Categories')\n",
      "group.colors(brew='Spectral')\n",
      "group.width=750\n",
      "group.display()"
     ],
     "language": "python",
     "metadata": {},
     "outputs": [
      {
       "html": [
        "<div id=\"vis16803\"></div>"
       ],
       "metadata": {},
       "output_type": "display_data",
       "text": [
        "<IPython.core.display.HTML at 0x4107a10>"
       ]
      },
      {
       "javascript": [
        "\n",
        "( function() {\n",
        "  var _do_plot = function() {\n",
        "    if ( typeof vg == 'undefined' ) {\n",
        "      $([IPython.events]).on(\"vega_loaded.vincent\", _do_plot);\n",
        "      return;\n",
        "    }\n",
        "    vg.parse.spec({\"axes\": [{\"scale\": \"x\", \"type\": \"x\"}, {\"scale\": \"y\", \"type\": \"y\"}], \"data\": [{\"name\": \"table\", \"values\": [{\"col\": \"Metric_0\", \"idx\": \"Data 1\", \"val\": 60}, {\"col\": \"Metric_1\", \"idx\": \"Data 1\", \"val\": 87}, {\"col\": \"Metric_2\", \"idx\": \"Data 1\", \"val\": 46}, {\"col\": \"Metric_3\", \"idx\": \"Data 1\", \"val\": 79}, {\"col\": \"Metric_4\", \"idx\": \"Data 1\", \"val\": 84}, {\"col\": \"Metric_5\", \"idx\": \"Data 1\", \"val\": 60}, {\"col\": \"Metric_6\", \"idx\": \"Data 1\", \"val\": 23}, {\"col\": \"Metric_7\", \"idx\": \"Data 1\", \"val\": 85}, {\"col\": \"Metric_8\", \"idx\": \"Data 1\", \"val\": 69}, {\"col\": \"Metric_9\", \"idx\": \"Data 1\", \"val\": 41}, {\"col\": \"Metric_0\", \"idx\": \"Data 2\", \"val\": 64}, {\"col\": \"Metric_1\", \"idx\": \"Data 2\", \"val\": 55}, {\"col\": \"Metric_2\", \"idx\": \"Data 2\", \"val\": 67}, {\"col\": \"Metric_3\", \"idx\": \"Data 2\", \"val\": 71}, {\"col\": \"Metric_4\", \"idx\": \"Data 2\", \"val\": 23}, {\"col\": \"Metric_5\", \"idx\": \"Data 2\", \"val\": 46}, {\"col\": \"Metric_6\", \"idx\": \"Data 2\", \"val\": 34}, {\"col\": \"Metric_7\", \"idx\": \"Data 2\", \"val\": 32}, {\"col\": \"Metric_8\", \"idx\": \"Data 2\", \"val\": 73}, {\"col\": \"Metric_9\", \"idx\": \"Data 2\", \"val\": 80}, {\"col\": \"Metric_0\", \"idx\": \"Data 3\", \"val\": 51}, {\"col\": \"Metric_1\", \"idx\": \"Data 3\", \"val\": 21}, {\"col\": \"Metric_2\", \"idx\": \"Data 3\", \"val\": 86}, {\"col\": \"Metric_3\", \"idx\": \"Data 3\", \"val\": 95}, {\"col\": \"Metric_4\", \"idx\": \"Data 3\", \"val\": 68}, {\"col\": \"Metric_5\", \"idx\": \"Data 3\", \"val\": 89}, {\"col\": \"Metric_6\", \"idx\": \"Data 3\", \"val\": 13}, {\"col\": \"Metric_7\", \"idx\": \"Data 3\", \"val\": 97}, {\"col\": \"Metric_8\", \"idx\": \"Data 3\", \"val\": 76}, {\"col\": \"Metric_9\", \"idx\": \"Data 3\", \"val\": 78}, {\"col\": \"Metric_0\", \"idx\": \"Data 4\", \"val\": 28}, {\"col\": \"Metric_1\", \"idx\": \"Data 4\", \"val\": 98}, {\"col\": \"Metric_2\", \"idx\": \"Data 4\", \"val\": 92}, {\"col\": \"Metric_3\", \"idx\": \"Data 4\", \"val\": 64}, {\"col\": \"Metric_4\", \"idx\": \"Data 4\", \"val\": 43}, {\"col\": \"Metric_5\", \"idx\": \"Data 4\", \"val\": 91}, {\"col\": \"Metric_6\", \"idx\": \"Data 4\", \"val\": 32}, {\"col\": \"Metric_7\", \"idx\": \"Data 4\", \"val\": 37}, {\"col\": \"Metric_8\", \"idx\": \"Data 4\", \"val\": 47}, {\"col\": \"Metric_9\", \"idx\": \"Data 4\", \"val\": 14}]}], \"height\": 500, \"legends\": [{\"fill\": \"color\", \"offset\": 0, \"title\": \"Categories\"}], \"marks\": [{\"from\": {\"data\": \"table\", \"transform\": [{\"keys\": [\"data.idx\"], \"type\": \"facet\"}]}, \"marks\": [{\"properties\": {\"enter\": {\"fill\": {\"field\": \"data.col\", \"scale\": \"color\"}, \"width\": {\"band\": true, \"offset\": -1, \"scale\": \"pos\"}, \"x\": {\"field\": \"data.col\", \"scale\": \"pos\"}, \"y\": {\"field\": \"data.val\", \"scale\": \"y\"}, \"y2\": {\"scale\": \"y\", \"value\": 0}}}, \"type\": \"rect\"}], \"properties\": {\"enter\": {\"width\": {\"band\": true, \"scale\": \"x\"}, \"x\": {\"field\": \"key\", \"scale\": \"x\"}}}, \"scales\": [{\"domain\": {\"field\": \"data.col\"}, \"name\": \"pos\", \"range\": \"width\", \"type\": \"ordinal\"}], \"type\": \"group\"}], \"padding\": \"auto\", \"scales\": [{\"domain\": {\"data\": \"table\", \"field\": \"data.idx\"}, \"name\": \"x\", \"padding\": 0.2, \"range\": \"width\", \"type\": \"ordinal\"}, {\"domain\": {\"data\": \"table\", \"field\": \"data.val\"}, \"name\": \"y\", \"nice\": true, \"range\": \"height\"}, {\"domain\": {\"data\": \"table\", \"field\": \"data.col\"}, \"name\": \"color\", \"range\": [\"#9e0142\", \"#d53e4f\", \"#f46d43\", \"#fdae61\", \"#fee08b\", \"#ffffbf\", \"#e6f598\", \"#abdda4\", \"#66c2a5\", \"#3288bd\", \"#5e4fa2\"], \"type\": \"ordinal\"}], \"width\": 750}, function(chart) {\n",
        "      chart({el: \"#vis16803\"}).update();\n",
        "    });\n",
        "  };\n",
        "  _do_plot();\n",
        "})();\n"
       ],
       "metadata": {},
       "output_type": "display_data",
       "text": [
        "<IPython.core.display.Javascript at 0x4108890>"
       ]
      }
     ],
     "prompt_number": 23
    },
    {
     "cell_type": "code",
     "collapsed": false,
     "input": [
      "group = vincent.GroupedBar(df_farm)\n",
      "group.axis_titles(x='Total Produce', y='Farms')\n",
      "group.legend(title='Produce Types')\n",
      "group.colors(brew='Set2')\n",
      "group.display()"
     ],
     "language": "python",
     "metadata": {},
     "outputs": [
      {
       "html": [
        "<div id=\"vis52867\"></div>"
       ],
       "metadata": {},
       "output_type": "display_data",
       "text": [
        "<IPython.core.display.HTML at 0x41076d0>"
       ]
      },
      {
       "javascript": [
        "\n",
        "( function() {\n",
        "  var _do_plot = function() {\n",
        "    if ( typeof vg == 'undefined' ) {\n",
        "      $([IPython.events]).on(\"vega_loaded.vincent\", _do_plot);\n",
        "      return;\n",
        "    }\n",
        "    vg.parse.spec({\"axes\": [{\"scale\": \"x\", \"title\": \"Total Produce\", \"type\": \"x\"}, {\"scale\": \"y\", \"title\": \"Farms\", \"type\": \"y\"}], \"data\": [{\"name\": \"table\", \"values\": [{\"col\": \"apples\", \"idx\": \"Farm 1\", \"val\": 10}, {\"col\": \"berries\", \"idx\": \"Farm 1\", \"val\": 32}, {\"col\": \"corn\", \"idx\": \"Farm 1\", \"val\": 18}, {\"col\": \"melons\", \"idx\": \"Farm 1\", \"val\": 13}, {\"col\": \"squash\", \"idx\": \"Farm 1\", \"val\": 21}, {\"col\": \"apples\", \"idx\": \"Farm 2\", \"val\": 15}, {\"col\": \"berries\", \"idx\": \"Farm 2\", \"val\": 43}, {\"col\": \"corn\", \"idx\": \"Farm 2\", \"val\": 22}, {\"col\": \"melons\", \"idx\": \"Farm 2\", \"val\": 10}, {\"col\": \"squash\", \"idx\": \"Farm 2\", \"val\": 17}, {\"col\": \"apples\", \"idx\": \"Farm 3\", \"val\": 6}, {\"col\": \"berries\", \"idx\": \"Farm 3\", \"val\": 24}, {\"col\": \"corn\", \"idx\": \"Farm 3\", \"val\": 30}, {\"col\": \"melons\", \"idx\": \"Farm 3\", \"val\": 16}, {\"col\": \"squash\", \"idx\": \"Farm 3\", \"val\": 22}, {\"col\": \"apples\", \"idx\": \"Farm 4\", \"val\": 12}, {\"col\": \"berries\", \"idx\": \"Farm 4\", \"val\": 30}, {\"col\": \"corn\", \"idx\": \"Farm 4\", \"val\": 15}, {\"col\": \"melons\", \"idx\": \"Farm 4\", \"val\": 9}, {\"col\": \"squash\", \"idx\": \"Farm 4\", \"val\": 15}]}], \"height\": 500, \"legends\": [{\"fill\": \"color\", \"offset\": 0, \"title\": \"Produce Types\"}], \"marks\": [{\"from\": {\"data\": \"table\", \"transform\": [{\"keys\": [\"data.idx\"], \"type\": \"facet\"}]}, \"marks\": [{\"properties\": {\"enter\": {\"fill\": {\"field\": \"data.col\", \"scale\": \"color\"}, \"width\": {\"band\": true, \"offset\": -1, \"scale\": \"pos\"}, \"x\": {\"field\": \"data.col\", \"scale\": \"pos\"}, \"y\": {\"field\": \"data.val\", \"scale\": \"y\"}, \"y2\": {\"scale\": \"y\", \"value\": 0}}}, \"type\": \"rect\"}], \"properties\": {\"enter\": {\"width\": {\"band\": true, \"scale\": \"x\"}, \"x\": {\"field\": \"key\", \"scale\": \"x\"}}}, \"scales\": [{\"domain\": {\"field\": \"data.col\"}, \"name\": \"pos\", \"range\": \"width\", \"type\": \"ordinal\"}], \"type\": \"group\"}], \"padding\": \"auto\", \"scales\": [{\"domain\": {\"data\": \"table\", \"field\": \"data.idx\"}, \"name\": \"x\", \"padding\": 0.2, \"range\": \"width\", \"type\": \"ordinal\"}, {\"domain\": {\"data\": \"table\", \"field\": \"data.val\"}, \"name\": \"y\", \"nice\": true, \"range\": \"height\"}, {\"domain\": {\"data\": \"table\", \"field\": \"data.col\"}, \"name\": \"color\", \"range\": [\"#66c2a5\", \"#fc8d62\", \"#8da0cb\", \"#e78ac3\", \"#a6d854\", \"#ffd92f\", \"#e5c494\", \"#b3b3b3\"], \"type\": \"ordinal\"}], \"width\": 960}, function(chart) {\n",
        "      chart({el: \"#vis52867\"}).update();\n",
        "    });\n",
        "  };\n",
        "  _do_plot();\n",
        "})();\n"
       ],
       "metadata": {},
       "output_type": "display_data",
       "text": [
        "<IPython.core.display.Javascript at 0x4107750>"
       ]
      }
     ],
     "prompt_number": 24
    },
    {
     "cell_type": "code",
     "collapsed": false,
     "input": [
      "pie = vincent.Pie(farm_1)\n",
      "pie.legend('Farm 1 Fruit')\n",
      "pie.display()"
     ],
     "language": "python",
     "metadata": {},
     "outputs": [
      {
       "html": [
        "<div id=\"vis30147\"></div>"
       ],
       "metadata": {},
       "output_type": "display_data",
       "text": [
        "<IPython.core.display.HTML at 0x4107990>"
       ]
      },
      {
       "javascript": [
        "\n",
        "( function() {\n",
        "  var _do_plot = function() {\n",
        "    if ( typeof vg == 'undefined' ) {\n",
        "      $([IPython.events]).on(\"vega_loaded.vincent\", _do_plot);\n",
        "      return;\n",
        "    }\n",
        "    vg.parse.spec({\"axes\": [], \"data\": [{\"name\": \"table\", \"values\": [{\"col\": \"data\", \"idx\": \"apples\", \"val\": 10}, {\"col\": \"data\", \"idx\": \"berries\", \"val\": 32}, {\"col\": \"data\", \"idx\": \"corn\", \"val\": 18}, {\"col\": \"data\", \"idx\": \"melons\", \"val\": 13}, {\"col\": \"data\", \"idx\": \"squash\", \"val\": 21}]}], \"height\": 500, \"legends\": [{\"fill\": \"color\", \"offset\": 0, \"title\": \"Farm 1 Fruit\"}], \"marks\": [{\"from\": {\"data\": \"table\", \"transform\": [{\"type\": \"pie\", \"value\": \"data.val\"}]}, \"properties\": {\"enter\": {\"endAngle\": {\"field\": \"endAngle\"}, \"fill\": {\"field\": \"data.idx\", \"scale\": \"color\"}, \"innerRadius\": {\"value\": 0}, \"outerRadius\": {\"value\": 250}, \"startAngle\": {\"field\": \"startAngle\"}, \"stroke\": {\"value\": \"white\"}, \"x\": {\"group\": \"width\", \"mult\": 0.5}, \"y\": {\"group\": \"height\", \"mult\": 0.5}}}, \"type\": \"arc\"}], \"padding\": \"auto\", \"scales\": [{\"domain\": {\"data\": \"table\", \"field\": \"data.idx\"}, \"name\": \"color\", \"range\": \"category10\", \"type\": \"ordinal\"}], \"width\": 960}, function(chart) {\n",
        "      chart({el: \"#vis30147\"}).update();\n",
        "    });\n",
        "  };\n",
        "  _do_plot();\n",
        "})();\n"
       ],
       "metadata": {},
       "output_type": "display_data",
       "text": [
        "<IPython.core.display.Javascript at 0x4107810>"
       ]
      }
     ],
     "prompt_number": 25
    },
    {
     "cell_type": "code",
     "collapsed": false,
     "input": [
      "donut = vincent.Pie(farm_1, inner_radius=200)\n",
      "donut.colors(brew=\"Set2\")\n",
      "donut.legend('Farm 1 Fruit')\n",
      "donut.display()"
     ],
     "language": "python",
     "metadata": {},
     "outputs": [
      {
       "html": [
        "<div id=\"vis57853\"></div>"
       ],
       "metadata": {},
       "output_type": "display_data",
       "text": [
        "<IPython.core.display.HTML at 0x410a290>"
       ]
      },
      {
       "javascript": [
        "\n",
        "( function() {\n",
        "  var _do_plot = function() {\n",
        "    if ( typeof vg == 'undefined' ) {\n",
        "      $([IPython.events]).on(\"vega_loaded.vincent\", _do_plot);\n",
        "      return;\n",
        "    }\n",
        "    vg.parse.spec({\"axes\": [], \"data\": [{\"name\": \"table\", \"values\": [{\"col\": \"data\", \"idx\": \"apples\", \"val\": 10}, {\"col\": \"data\", \"idx\": \"berries\", \"val\": 32}, {\"col\": \"data\", \"idx\": \"corn\", \"val\": 18}, {\"col\": \"data\", \"idx\": \"melons\", \"val\": 13}, {\"col\": \"data\", \"idx\": \"squash\", \"val\": 21}]}], \"height\": 500, \"legends\": [{\"fill\": \"color\", \"offset\": 0, \"title\": \"Farm 1 Fruit\"}], \"marks\": [{\"from\": {\"data\": \"table\", \"transform\": [{\"type\": \"pie\", \"value\": \"data.val\"}]}, \"properties\": {\"enter\": {\"endAngle\": {\"field\": \"endAngle\"}, \"fill\": {\"field\": \"data.idx\", \"scale\": \"color\"}, \"innerRadius\": {\"value\": 200}, \"outerRadius\": {\"value\": 250}, \"startAngle\": {\"field\": \"startAngle\"}, \"stroke\": {\"value\": \"white\"}, \"x\": {\"group\": \"width\", \"mult\": 0.5}, \"y\": {\"group\": \"height\", \"mult\": 0.5}}}, \"type\": \"arc\"}], \"padding\": \"auto\", \"scales\": [{\"domain\": {\"data\": \"table\", \"field\": \"data.idx\"}, \"name\": \"color\", \"range\": [\"#66c2a5\", \"#fc8d62\", \"#8da0cb\", \"#e78ac3\", \"#a6d854\", \"#ffd92f\", \"#e5c494\", \"#b3b3b3\"], \"type\": \"ordinal\"}], \"width\": 960}, function(chart) {\n",
        "      chart({el: \"#vis57853\"}).update();\n",
        "    });\n",
        "  };\n",
        "  _do_plot();\n",
        "})();\n"
       ],
       "metadata": {},
       "output_type": "display_data",
       "text": [
        "<IPython.core.display.Javascript at 0x410a110>"
       ]
      }
     ],
     "prompt_number": 26
    },
    {
     "cell_type": "code",
     "collapsed": false,
     "input": [],
     "language": "python",
     "metadata": {},
     "outputs": [],
     "prompt_number": 26
    },
    {
     "cell_type": "code",
     "collapsed": false,
     "input": [],
     "language": "python",
     "metadata": {},
     "outputs": []
    }
   ],
   "metadata": {}
  }
 ]
}