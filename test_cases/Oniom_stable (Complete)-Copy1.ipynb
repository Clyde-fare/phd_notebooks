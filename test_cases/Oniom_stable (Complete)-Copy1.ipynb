{
 "cells": [
  {
   "cell_type": "code",
   "execution_count": 3,
   "metadata": {
    "collapsed": false
   },
   "outputs": [
    {
     "name": "stderr",
     "output_type": "stream",
     "text": [
      "/Applications/anaconda/envs/clyde/lib/python2.7/site-packages/IPython/nbformat/current.py:19: UserWarning: IPython.nbformat.current is deprecated.\n",
      "\n",
      "- use IPython.nbformat for read/write/validate public API\n",
      "- use IPython.nbformat.vX directly to composing notebooks of a particular version\n",
      "\n",
      "  \"\"\")\n"
     ]
    },
    {
     "ename": "OSError",
     "evalue": "[Errno 13] Permission denied: '/usr/local/share/jupyter'",
     "output_type": "error",
     "traceback": [
      "\u001b[0;31m---------------------------------------------------------------------------\u001b[0m",
      "\u001b[0;31mOSError\u001b[0m                                   Traceback (most recent call last)",
      "\u001b[0;32m<ipython-input-3-7ff3ff14cf1f>\u001b[0m in \u001b[0;36m<module>\u001b[0;34m()\u001b[0m\n\u001b[1;32m      8\u001b[0m \u001b[0;32mfrom\u001b[0m \u001b[0mglob\u001b[0m \u001b[0;32mimport\u001b[0m \u001b[0mglob\u001b[0m\u001b[0;34m\u001b[0m\u001b[0m\n\u001b[1;32m      9\u001b[0m \u001b[0;32mfrom\u001b[0m \u001b[0mase_extensions\u001b[0m\u001b[0;34m.\u001b[0m\u001b[0mase_utils\u001b[0m \u001b[0;32mimport\u001b[0m \u001b[0;34m*\u001b[0m\u001b[0;34m\u001b[0m\u001b[0m\n\u001b[0;32m---> 10\u001b[0;31m \u001b[0;32mfrom\u001b[0m \u001b[0mcc_notebook\u001b[0m \u001b[0;32mimport\u001b[0m \u001b[0;34m*\u001b[0m\u001b[0;34m\u001b[0m\u001b[0m\n\u001b[0m\u001b[1;32m     11\u001b[0m \u001b[0;32mfrom\u001b[0m \u001b[0mgaussian_job_manager\u001b[0m \u001b[0;32mimport\u001b[0m \u001b[0mon_server\u001b[0m\u001b[0;34m\u001b[0m\u001b[0m\n\u001b[1;32m     12\u001b[0m \u001b[0;32mfrom\u001b[0m \u001b[0moniom_utils\u001b[0m \u001b[0;32mimport\u001b[0m \u001b[0moniom_stable\u001b[0m\u001b[0;34m\u001b[0m\u001b[0m\n",
      "\u001b[0;32mbuild/bdist.linux-x86_64/egg/cc_notebook/__init__.py\u001b[0m in \u001b[0;36m<module>\u001b[0;34m()\u001b[0m\n",
      "\u001b[0;32mbuild/bdist.linux-x86_64/egg/cc_notebook/cc_notebook_utils.py\u001b[0m in \u001b[0;36m<module>\u001b[0;34m()\u001b[0m\n",
      "\u001b[0;32m/Applications/anaconda/envs/clyde/lib/python2.7/site-packages/cc_notebook-0.1-py2.7.egg/cc_notebook/install.pyc\u001b[0m in \u001b[0;36menable_notebook\u001b[0;34m(verbose)\u001b[0m\n\u001b[1;32m     64\u001b[0m             'jsmol']\n\u001b[1;32m     65\u001b[0m     \u001b[0mfns\u001b[0m \u001b[0;34m=\u001b[0m \u001b[0;34m[\u001b[0m\u001b[0mresource_filename\u001b[0m\u001b[0;34m(\u001b[0m\u001b[0;34m'cc_notebook'\u001b[0m\u001b[0;34m,\u001b[0m \u001b[0mos\u001b[0m\u001b[0;34m.\u001b[0m\u001b[0mpath\u001b[0m\u001b[0;34m.\u001b[0m\u001b[0mjoin\u001b[0m\u001b[0;34m(\u001b[0m\u001b[0;34m'static'\u001b[0m\u001b[0;34m,\u001b[0m \u001b[0mf\u001b[0m\u001b[0;34m)\u001b[0m\u001b[0;34m)\u001b[0m \u001b[0;32mfor\u001b[0m \u001b[0mf\u001b[0m \u001b[0;32min\u001b[0m \u001b[0mlibs\u001b[0m\u001b[0;34m]\u001b[0m\u001b[0;34m\u001b[0m\u001b[0m\n\u001b[0;32m---> 66\u001b[0;31m     \u001b[0minstall_nbextension\u001b[0m\u001b[0;34m(\u001b[0m\u001b[0;34m[\u001b[0m\u001b[0mfns\u001b[0m\u001b[0;34m[\u001b[0m\u001b[0;36m0\u001b[0m\u001b[0;34m]\u001b[0m\u001b[0;34m]\u001b[0m\u001b[0;34m,\u001b[0m \u001b[0mverbose\u001b[0m\u001b[0;34m=\u001b[0m\u001b[0mverbose\u001b[0m\u001b[0;34m,\u001b[0m \u001b[0moverwrite\u001b[0m\u001b[0;34m=\u001b[0m\u001b[0mTrue\u001b[0m\u001b[0;34m)\u001b[0m\u001b[0;34m\u001b[0m\u001b[0m\n\u001b[0m\u001b[1;32m     67\u001b[0m \u001b[0;34m\u001b[0m\u001b[0m\n\u001b[1;32m     68\u001b[0m     \u001b[0;31m# jsmol is large so we won't overwrite\u001b[0m\u001b[0;34m\u001b[0m\u001b[0;34m\u001b[0m\u001b[0m\n",
      "\u001b[0;32m/Applications/anaconda/envs/clyde/lib/python2.7/site-packages/IPython/html/nbextensions.pyc\u001b[0m in \u001b[0;36minstall_nbextension\u001b[0;34m(path, overwrite, symlink, user, prefix, nbextensions_dir, destination, verbose)\u001b[0m\n\u001b[1;32m    174\u001b[0m     \u001b[0mnbext\u001b[0m \u001b[0;34m=\u001b[0m \u001b[0m_get_nbext_dir\u001b[0m\u001b[0;34m(\u001b[0m\u001b[0mnbextensions_dir\u001b[0m\u001b[0;34m,\u001b[0m \u001b[0muser\u001b[0m\u001b[0;34m,\u001b[0m \u001b[0mprefix\u001b[0m\u001b[0;34m)\u001b[0m\u001b[0;34m\u001b[0m\u001b[0m\n\u001b[1;32m    175\u001b[0m     \u001b[0;31m# make sure nbextensions dir exists\u001b[0m\u001b[0;34m\u001b[0m\u001b[0;34m\u001b[0m\u001b[0m\n\u001b[0;32m--> 176\u001b[0;31m     \u001b[0mensure_dir_exists\u001b[0m\u001b[0;34m(\u001b[0m\u001b[0mnbext\u001b[0m\u001b[0;34m)\u001b[0m\u001b[0;34m\u001b[0m\u001b[0m\n\u001b[0m\u001b[1;32m    177\u001b[0m \u001b[0;34m\u001b[0m\u001b[0m\n\u001b[1;32m    178\u001b[0m     \u001b[0;32mif\u001b[0m \u001b[0misinstance\u001b[0m\u001b[0;34m(\u001b[0m\u001b[0mpath\u001b[0m\u001b[0;34m,\u001b[0m \u001b[0;34m(\u001b[0m\u001b[0mlist\u001b[0m\u001b[0;34m,\u001b[0m \u001b[0mtuple\u001b[0m\u001b[0;34m)\u001b[0m\u001b[0;34m)\u001b[0m\u001b[0;34m:\u001b[0m\u001b[0;34m\u001b[0m\u001b[0m\n",
      "\u001b[0;32m/Applications/anaconda/envs/clyde/lib/python2.7/site-packages/IPython/utils/path.pyc\u001b[0m in \u001b[0;36mensure_dir_exists\u001b[0;34m(path, mode)\u001b[0m\n\u001b[1;32m    586\u001b[0m     \u001b[0;32mif\u001b[0m \u001b[0;32mnot\u001b[0m \u001b[0mos\u001b[0m\u001b[0;34m.\u001b[0m\u001b[0mpath\u001b[0m\u001b[0;34m.\u001b[0m\u001b[0mexists\u001b[0m\u001b[0;34m(\u001b[0m\u001b[0mpath\u001b[0m\u001b[0;34m)\u001b[0m\u001b[0;34m:\u001b[0m\u001b[0;34m\u001b[0m\u001b[0m\n\u001b[1;32m    587\u001b[0m         \u001b[0;32mtry\u001b[0m\u001b[0;34m:\u001b[0m\u001b[0;34m\u001b[0m\u001b[0m\n\u001b[0;32m--> 588\u001b[0;31m             \u001b[0mos\u001b[0m\u001b[0;34m.\u001b[0m\u001b[0mmakedirs\u001b[0m\u001b[0;34m(\u001b[0m\u001b[0mpath\u001b[0m\u001b[0;34m,\u001b[0m \u001b[0mmode\u001b[0m\u001b[0;34m=\u001b[0m\u001b[0mmode\u001b[0m\u001b[0;34m)\u001b[0m\u001b[0;34m\u001b[0m\u001b[0m\n\u001b[0m\u001b[1;32m    589\u001b[0m         \u001b[0;32mexcept\u001b[0m \u001b[0mOSError\u001b[0m \u001b[0;32mas\u001b[0m \u001b[0me\u001b[0m\u001b[0;34m:\u001b[0m\u001b[0;34m\u001b[0m\u001b[0m\n\u001b[1;32m    590\u001b[0m             \u001b[0;32mif\u001b[0m \u001b[0me\u001b[0m\u001b[0;34m.\u001b[0m\u001b[0merrno\u001b[0m \u001b[0;34m!=\u001b[0m \u001b[0merrno\u001b[0m\u001b[0;34m.\u001b[0m\u001b[0mEEXIST\u001b[0m\u001b[0;34m:\u001b[0m\u001b[0;34m\u001b[0m\u001b[0m\n",
      "\u001b[0;32m/Applications/anaconda/envs/clyde/lib/python2.7/os.pyc\u001b[0m in \u001b[0;36mmakedirs\u001b[0;34m(name, mode)\u001b[0m\n\u001b[1;32m    148\u001b[0m     \u001b[0;32mif\u001b[0m \u001b[0mhead\u001b[0m \u001b[0;32mand\u001b[0m \u001b[0mtail\u001b[0m \u001b[0;32mand\u001b[0m \u001b[0;32mnot\u001b[0m \u001b[0mpath\u001b[0m\u001b[0;34m.\u001b[0m\u001b[0mexists\u001b[0m\u001b[0;34m(\u001b[0m\u001b[0mhead\u001b[0m\u001b[0;34m)\u001b[0m\u001b[0;34m:\u001b[0m\u001b[0;34m\u001b[0m\u001b[0m\n\u001b[1;32m    149\u001b[0m         \u001b[0;32mtry\u001b[0m\u001b[0;34m:\u001b[0m\u001b[0;34m\u001b[0m\u001b[0m\n\u001b[0;32m--> 150\u001b[0;31m             \u001b[0mmakedirs\u001b[0m\u001b[0;34m(\u001b[0m\u001b[0mhead\u001b[0m\u001b[0;34m,\u001b[0m \u001b[0mmode\u001b[0m\u001b[0;34m)\u001b[0m\u001b[0;34m\u001b[0m\u001b[0m\n\u001b[0m\u001b[1;32m    151\u001b[0m         \u001b[0;32mexcept\u001b[0m \u001b[0mOSError\u001b[0m\u001b[0;34m,\u001b[0m \u001b[0me\u001b[0m\u001b[0;34m:\u001b[0m\u001b[0;34m\u001b[0m\u001b[0m\n\u001b[1;32m    152\u001b[0m             \u001b[0;31m# be happy if someone already created the path\u001b[0m\u001b[0;34m\u001b[0m\u001b[0;34m\u001b[0m\u001b[0m\n",
      "\u001b[0;32m/Applications/anaconda/envs/clyde/lib/python2.7/os.pyc\u001b[0m in \u001b[0;36mmakedirs\u001b[0;34m(name, mode)\u001b[0m\n\u001b[1;32m    155\u001b[0m         \u001b[0;32mif\u001b[0m \u001b[0mtail\u001b[0m \u001b[0;34m==\u001b[0m \u001b[0mcurdir\u001b[0m\u001b[0;34m:\u001b[0m           \u001b[0;31m# xxx/newdir/. exists if xxx/newdir exists\u001b[0m\u001b[0;34m\u001b[0m\u001b[0m\n\u001b[1;32m    156\u001b[0m             \u001b[0;32mreturn\u001b[0m\u001b[0;34m\u001b[0m\u001b[0m\n\u001b[0;32m--> 157\u001b[0;31m     \u001b[0mmkdir\u001b[0m\u001b[0;34m(\u001b[0m\u001b[0mname\u001b[0m\u001b[0;34m,\u001b[0m \u001b[0mmode\u001b[0m\u001b[0;34m)\u001b[0m\u001b[0;34m\u001b[0m\u001b[0m\n\u001b[0m\u001b[1;32m    158\u001b[0m \u001b[0;34m\u001b[0m\u001b[0m\n\u001b[1;32m    159\u001b[0m \u001b[0;32mdef\u001b[0m \u001b[0mremovedirs\u001b[0m\u001b[0;34m(\u001b[0m\u001b[0mname\u001b[0m\u001b[0;34m)\u001b[0m\u001b[0;34m:\u001b[0m\u001b[0;34m\u001b[0m\u001b[0m\n",
      "\u001b[0;31mOSError\u001b[0m: [Errno 13] Permission denied: '/usr/local/share/jupyter'"
     ]
    }
   ],
   "source": [
    "import pandas, os, copy, ase\n",
    "import numpy as np\n",
    "from webbrowser import open as open_log\n",
    "from math import pi\n",
    "from IPython.core.display import HTML, Image\n",
    "from ase.io import read, write\n",
    "from gausspy import Gaussian\n",
    "from glob import glob\n",
    "from ase_extensions.ase_utils import *\n",
    "from cc_notebook import *\n",
    "from gaussian_job_manager import on_server\n",
    "from oniom_utils import oniom_stable\n",
    "#from adsy import display as ad_disp\n",
    "#ad_disp.extended_styles()"
   ]
  },
  {
   "cell_type": "code",
   "execution_count": 4,
   "metadata": {
    "collapsed": false
   },
   "outputs": [
    {
     "ename": "OSError",
     "evalue": "[Errno 13] Permission denied: '/usr/local/share/jupyter'",
     "output_type": "error",
     "traceback": [
      "\u001b[0;31m---------------------------------------------------------------------------\u001b[0m",
      "\u001b[0;31mOSError\u001b[0m                                   Traceback (most recent call last)",
      "\u001b[0;32m<ipython-input-4-82a61e151d70>\u001b[0m in \u001b[0;36m<module>\u001b[0;34m()\u001b[0m\n\u001b[1;32m      1\u001b[0m \u001b[0;32mimport\u001b[0m \u001b[0mIPython\u001b[0m\u001b[0;34m.\u001b[0m\u001b[0mhtml\u001b[0m\u001b[0;34m.\u001b[0m\u001b[0mnbextensions\u001b[0m \u001b[0;32mas\u001b[0m \u001b[0mnb\u001b[0m\u001b[0;34m\u001b[0m\u001b[0m\n\u001b[1;32m      2\u001b[0m \u001b[0mext\u001b[0m\u001b[0;34m=\u001b[0m \u001b[0;34m'https://github.com/ipython-contrib/IPython-notebook-extensions/archive/master.zip'\u001b[0m\u001b[0;34m\u001b[0m\u001b[0m\n\u001b[0;32m----> 3\u001b[0;31m \u001b[0mnb\u001b[0m\u001b[0;34m.\u001b[0m\u001b[0minstall_nbextension\u001b[0m\u001b[0;34m(\u001b[0m\u001b[0mext\u001b[0m\u001b[0;34m)\u001b[0m\u001b[0;34m\u001b[0m\u001b[0m\n\u001b[0m",
      "\u001b[0;32m/Applications/anaconda/envs/clyde/lib/python2.7/site-packages/IPython/html/nbextensions.pyc\u001b[0m in \u001b[0;36minstall_nbextension\u001b[0;34m(path, overwrite, symlink, user, prefix, nbextensions_dir, destination, verbose)\u001b[0m\n\u001b[1;32m    174\u001b[0m     \u001b[0mnbext\u001b[0m \u001b[0;34m=\u001b[0m \u001b[0m_get_nbext_dir\u001b[0m\u001b[0;34m(\u001b[0m\u001b[0mnbextensions_dir\u001b[0m\u001b[0;34m,\u001b[0m \u001b[0muser\u001b[0m\u001b[0;34m,\u001b[0m \u001b[0mprefix\u001b[0m\u001b[0;34m)\u001b[0m\u001b[0;34m\u001b[0m\u001b[0m\n\u001b[1;32m    175\u001b[0m     \u001b[0;31m# make sure nbextensions dir exists\u001b[0m\u001b[0;34m\u001b[0m\u001b[0;34m\u001b[0m\u001b[0m\n\u001b[0;32m--> 176\u001b[0;31m     \u001b[0mensure_dir_exists\u001b[0m\u001b[0;34m(\u001b[0m\u001b[0mnbext\u001b[0m\u001b[0;34m)\u001b[0m\u001b[0;34m\u001b[0m\u001b[0m\n\u001b[0m\u001b[1;32m    177\u001b[0m \u001b[0;34m\u001b[0m\u001b[0m\n\u001b[1;32m    178\u001b[0m     \u001b[0;32mif\u001b[0m \u001b[0misinstance\u001b[0m\u001b[0;34m(\u001b[0m\u001b[0mpath\u001b[0m\u001b[0;34m,\u001b[0m \u001b[0;34m(\u001b[0m\u001b[0mlist\u001b[0m\u001b[0;34m,\u001b[0m \u001b[0mtuple\u001b[0m\u001b[0;34m)\u001b[0m\u001b[0;34m)\u001b[0m\u001b[0;34m:\u001b[0m\u001b[0;34m\u001b[0m\u001b[0m\n",
      "\u001b[0;32m/Applications/anaconda/envs/clyde/lib/python2.7/site-packages/IPython/utils/path.pyc\u001b[0m in \u001b[0;36mensure_dir_exists\u001b[0;34m(path, mode)\u001b[0m\n\u001b[1;32m    586\u001b[0m     \u001b[0;32mif\u001b[0m \u001b[0;32mnot\u001b[0m \u001b[0mos\u001b[0m\u001b[0;34m.\u001b[0m\u001b[0mpath\u001b[0m\u001b[0;34m.\u001b[0m\u001b[0mexists\u001b[0m\u001b[0;34m(\u001b[0m\u001b[0mpath\u001b[0m\u001b[0;34m)\u001b[0m\u001b[0;34m:\u001b[0m\u001b[0;34m\u001b[0m\u001b[0m\n\u001b[1;32m    587\u001b[0m         \u001b[0;32mtry\u001b[0m\u001b[0;34m:\u001b[0m\u001b[0;34m\u001b[0m\u001b[0m\n\u001b[0;32m--> 588\u001b[0;31m             \u001b[0mos\u001b[0m\u001b[0;34m.\u001b[0m\u001b[0mmakedirs\u001b[0m\u001b[0;34m(\u001b[0m\u001b[0mpath\u001b[0m\u001b[0;34m,\u001b[0m \u001b[0mmode\u001b[0m\u001b[0;34m=\u001b[0m\u001b[0mmode\u001b[0m\u001b[0;34m)\u001b[0m\u001b[0;34m\u001b[0m\u001b[0m\n\u001b[0m\u001b[1;32m    589\u001b[0m         \u001b[0;32mexcept\u001b[0m \u001b[0mOSError\u001b[0m \u001b[0;32mas\u001b[0m \u001b[0me\u001b[0m\u001b[0;34m:\u001b[0m\u001b[0;34m\u001b[0m\u001b[0m\n\u001b[1;32m    590\u001b[0m             \u001b[0;32mif\u001b[0m \u001b[0me\u001b[0m\u001b[0;34m.\u001b[0m\u001b[0merrno\u001b[0m \u001b[0;34m!=\u001b[0m \u001b[0merrno\u001b[0m\u001b[0;34m.\u001b[0m\u001b[0mEEXIST\u001b[0m\u001b[0;34m:\u001b[0m\u001b[0;34m\u001b[0m\u001b[0m\n",
      "\u001b[0;32m/Applications/anaconda/envs/clyde/lib/python2.7/os.pyc\u001b[0m in \u001b[0;36mmakedirs\u001b[0;34m(name, mode)\u001b[0m\n\u001b[1;32m    148\u001b[0m     \u001b[0;32mif\u001b[0m \u001b[0mhead\u001b[0m \u001b[0;32mand\u001b[0m \u001b[0mtail\u001b[0m \u001b[0;32mand\u001b[0m \u001b[0;32mnot\u001b[0m \u001b[0mpath\u001b[0m\u001b[0;34m.\u001b[0m\u001b[0mexists\u001b[0m\u001b[0;34m(\u001b[0m\u001b[0mhead\u001b[0m\u001b[0;34m)\u001b[0m\u001b[0;34m:\u001b[0m\u001b[0;34m\u001b[0m\u001b[0m\n\u001b[1;32m    149\u001b[0m         \u001b[0;32mtry\u001b[0m\u001b[0;34m:\u001b[0m\u001b[0;34m\u001b[0m\u001b[0m\n\u001b[0;32m--> 150\u001b[0;31m             \u001b[0mmakedirs\u001b[0m\u001b[0;34m(\u001b[0m\u001b[0mhead\u001b[0m\u001b[0;34m,\u001b[0m \u001b[0mmode\u001b[0m\u001b[0;34m)\u001b[0m\u001b[0;34m\u001b[0m\u001b[0m\n\u001b[0m\u001b[1;32m    151\u001b[0m         \u001b[0;32mexcept\u001b[0m \u001b[0mOSError\u001b[0m\u001b[0;34m,\u001b[0m \u001b[0me\u001b[0m\u001b[0;34m:\u001b[0m\u001b[0;34m\u001b[0m\u001b[0m\n\u001b[1;32m    152\u001b[0m             \u001b[0;31m# be happy if someone already created the path\u001b[0m\u001b[0;34m\u001b[0m\u001b[0;34m\u001b[0m\u001b[0m\n",
      "\u001b[0;32m/Applications/anaconda/envs/clyde/lib/python2.7/os.pyc\u001b[0m in \u001b[0;36mmakedirs\u001b[0;34m(name, mode)\u001b[0m\n\u001b[1;32m    155\u001b[0m         \u001b[0;32mif\u001b[0m \u001b[0mtail\u001b[0m \u001b[0;34m==\u001b[0m \u001b[0mcurdir\u001b[0m\u001b[0;34m:\u001b[0m           \u001b[0;31m# xxx/newdir/. exists if xxx/newdir exists\u001b[0m\u001b[0;34m\u001b[0m\u001b[0m\n\u001b[1;32m    156\u001b[0m             \u001b[0;32mreturn\u001b[0m\u001b[0;34m\u001b[0m\u001b[0m\n\u001b[0;32m--> 157\u001b[0;31m     \u001b[0mmkdir\u001b[0m\u001b[0;34m(\u001b[0m\u001b[0mname\u001b[0m\u001b[0;34m,\u001b[0m \u001b[0mmode\u001b[0m\u001b[0;34m)\u001b[0m\u001b[0;34m\u001b[0m\u001b[0m\n\u001b[0m\u001b[1;32m    158\u001b[0m \u001b[0;34m\u001b[0m\u001b[0m\n\u001b[1;32m    159\u001b[0m \u001b[0;32mdef\u001b[0m \u001b[0mremovedirs\u001b[0m\u001b[0;34m(\u001b[0m\u001b[0mname\u001b[0m\u001b[0;34m)\u001b[0m\u001b[0;34m:\u001b[0m\u001b[0;34m\u001b[0m\u001b[0m\n",
      "\u001b[0;31mOSError\u001b[0m: [Errno 13] Permission denied: '/usr/local/share/jupyter'"
     ]
    }
   ],
   "source": [
    "import IPython.html.nbextensions as nb\n",
    "ext= 'https://github.com/ipython-contrib/IPython-notebook-extensions/archive/master.zip'\n",
    "nb.install_nbextension(ext)"
   ]
  },
  {
   "cell_type": "code",
   "execution_count": 3,
   "metadata": {
    "collapsed": false
   },
   "outputs": [],
   "source": [
    "serv_oniom_stable = on_server(oniom_stable)"
   ]
  },
  {
   "cell_type": "code",
   "execution_count": 4,
   "metadata": {
    "collapsed": false
   },
   "outputs": [
    {
     "name": "stdout",
     "output_type": "stream",
     "text": [
      "/home/clyde/Dropbox/Project Stuff/Notebooks/test_cases/oniom_stable\n"
     ]
    }
   ],
   "source": [
    "cd oniom_stable"
   ]
  },
  {
   "cell_type": "code",
   "execution_count": 7,
   "metadata": {
    "collapsed": false
   },
   "outputs": [],
   "source": [
    "azo_44_ts_xyz = '../../graphene_cycloadditions/cycloadd_oniom/oniom_xyz_files/non_oniom_ts/B3LYP_631Gd_B3LYP_631Gd_4_4_cent_azomethine_ts_v2_final.xyz'\n",
    "carb_44_ts_xyz = '../../graphene_cycloadditions/cycloadd_oniom/oniom_xyz_files/non_oniom_ts/B3LYP_631Gd_B3LYP_631Gd_4_4_cent_carbonyl_ts3_final.xyz'\n",
    "\n",
    "ylide_atoms = [67,68,69,70,71,72,73,74]\n",
    "graph_atoms = {}\n",
    "graph_atoms.update({0:[28,29]}) #2 C atoms\n",
    "graph_atoms.update({1:graph_atoms[0] + [12,13,14,15,27,41,42,30]}) #10 C atoms\n",
    "graph_atoms.update({2:graph_atoms[1] + [11,25,26,16,32,31]}) #16 C atoms\n",
    "graph_atoms.update({3:graph_atoms[2] + [24,33]})#18 C atoms\n",
    "graph_atoms.update({4:graph_atoms[2] + [38,39,52,40,47,55,48,56,43,44,53,45,17,6,60,5,4,59,3,58,2,1,57,10]}) # 42 C atoms (total molecule = 50 C atoms)"
   ]
  },
  {
   "cell_type": "code",
   "execution_count": 8,
   "metadata": {
    "collapsed": false
   },
   "outputs": [],
   "source": [
    "azo_ts_test = read(azo_44_ts_xyz)\n",
    "azo_ts_test.set_calculator(Gaussian(label='azo_ts_test', method='oniom(B3LYP/6-31G(d):pm6)', basis='oniom'))\n",
    "azo_ts_test_H = ylide_atoms + graph_atoms[3]\n",
    "azo_ts_test.calc.oniom_coord_params['layers'] = [[no -1 for no in azo_ts_test_H]]\n",
    "azo_ts_test.calc.oniom_coord_params['layer_mults'] = [1,1]\n",
    "azo_ts_test.calc.set_job(nodes=12, memory=12*1600, time=5, queue='pqmb')\n",
    "#azo_ts_test.calc.start(frc=True)\n",
    "#check_calcs([azo_ts_test])"
   ]
  },
  {
   "cell_type": "markdown",
   "metadata": {},
   "source": [
    "Initial attempt to construct a custom route failed so instead we will use OnlyInputFiles to generate the individual calculations and edit those. (But look at the end for a working version of an oniom stable calculation using a custom route)"
   ]
  },
  {
   "cell_type": "code",
   "execution_count": 9,
   "metadata": {
    "collapsed": false
   },
   "outputs": [],
   "source": [
    "azo_ts_stable = read(azo_44_ts_xyz)\n",
    "azo_ts_stable.set_calculator(Gaussian(label='azo_ts_stable_2', method='oniom(B3LYP/6-31G(d):pm6)=OnlyInputFiles', basis='oniom'))\n",
    "azo_ts_stable_H = ylide_atoms + graph_atoms[3]\n",
    "azo_ts_stable.calc.oniom_coord_params['layers'] = [[no -1 for no in azo_ts_test_H]]\n",
    "azo_ts_stable.calc.oniom_coord_params['layer_mults'] = [1,1]\n",
    "azo_ts_stable.calc.set_job(nodes=1, memory=100, time=1, queue='pqmb')\n",
    "#azo_ts_stable.calc.start(frc=True)"
   ]
  },
  {
   "cell_type": "code",
   "execution_count": 10,
   "metadata": {
    "collapsed": false
   },
   "outputs": [],
   "source": [
    "high_mult_azo_ts_stable = read(azo_44_ts_xyz)\n",
    "high_mult_azo_ts_stable.set_calculator(Gaussian(label='azo_ts_stable_2_mult_3', method='oniom(UB3LYP/6-31G(d):upm6)=OnlyInputFiles', basis='oniom'))\n",
    "high_mult_azo_ts_stable_H = ylide_atoms + graph_atoms[3]\n",
    "high_mult_azo_ts_stable.calc.oniom_coord_params['layers'] = [[no -1 for no in azo_ts_test_H]]\n",
    "high_mult_azo_ts_stable.calc.oniom_coord_params['layer_mults'] = [3,3]\n",
    "high_mult_azo_ts_stable.calc.set_job(nodes=1, memory=100, time=1, queue='pqmb')\n",
    "#high_mult_azo_ts_stable.calc.start(frc=True)"
   ]
  },
  {
   "cell_type": "code",
   "execution_count": 8,
   "metadata": {
    "collapsed": false
   },
   "outputs": [],
   "source": [
    "low_mult_azo_ts_stable = read(azo_44_ts_xyz)\n",
    "low_mult_azo_ts_stable.set_calculator(Gaussian(label='azo_ts_stable_2_mult_1', method='oniom(UB3LYP/6-31G(d):upm6)=OnlyInputFiles', basis='oniom'))\n",
    "low_mult_azo_ts_stable_H = ylide_atoms + graph_atoms[3]\n",
    "low_mult_azo_ts_stable.calc.oniom_coord_params['layers'] = [[no -1 for no in azo_ts_test_H]]\n",
    "low_mult_azo_ts_stable.calc.oniom_coord_params['layer_mults'] = [1,1]\n",
    "low_mult_azo_ts_stable.calc.set_job(nodes=1, memory=100, time=1, queue='pqmb')\n",
    "#low_mult_azo_ts_stable.calc.start(frc=True)"
   ]
  },
  {
   "cell_type": "code",
   "execution_count": 9,
   "metadata": {
    "collapsed": false
   },
   "outputs": [
    {
     "data": {
      "text/html": [
       "\n",
       "           <script type=\"text/javascript\">\n",
       "           function view_function (event, file_n) {\n",
       "               if (event.ctrlKey && event.shiftKey){\n",
       "                   IPython.notebook.kernel.execute(\"cc_notebook_utils.pygview('\" + file_n + \".log')\");\n",
       "               }\n",
       "               else if (event.ctrlKey){\n",
       "                   IPython.notebook.kernel.execute(\"cc_notebook_utils.pygausssum('\" + file_n + \".log')\");\n",
       "               }\n",
       "               else if (event.shiftKey){\n",
       "                   IPython.notebook.kernel.execute(\"cc_notebook_utils.pyvogadro('\" + file_n + \".log')\");\n",
       "               }\n",
       "               else {\n",
       "                   IPython.notebook.kernel.execute(\"cc_notebook_utils.pyvim('\" + file_n + \".log')\");\n",
       "                   IPython.notebook.kernel.execute(\"print(file_n)\");\n",
       "               }\n",
       "           }\n",
       "           </script>\n",
       "    <style>\n",
       "    table\n",
       "    {\n",
       "        border-collapse:collapse;\n",
       "    }\n",
       "    td\n",
       "    {\n",
       "        padding:15px;\n",
       "    }\n",
       "    </style>\n",
       "    <body>\n",
       "    <table bgcolor=\"white\">\n",
       "    <col/><tr><td>azo_ts_stable_2</td><td><a href = \"files/test_cases/oniom_stable/azo_ts_stable_2.com\" target = \"_blank\">com</a></td><td><input type=\"button\" value=\"Smart Log\" id=\"azo_ts_stable_2\" onclick=\"view_function(event, this.id)\" /></td><td>Success</td></tr><tr><td>azo_ts_stable_2_mult_3</td><td><a href = \"files/test_cases/oniom_stable/azo_ts_stable_2_mult_3.com\" target = \"_blank\">com</a></td><td><input type=\"button\" value=\"Smart Log\" id=\"azo_ts_stable_2_mult_3\" onclick=\"view_function(event, this.id)\" /></td><td>Success</td></tr><tr><td>azo_ts_stable_2_mult_1</td><td><a href = \"files/test_cases/oniom_stable/azo_ts_stable_2_mult_1.com\" target = \"_blank\">com</a></td><td><input type=\"button\" value=\"Smart Log\" id=\"azo_ts_stable_2_mult_1\" onclick=\"view_function(event, this.id)\" /></td><td>Success</td></tr>\n",
       "    </table>\n",
       "    </body>"
      ],
      "text/plain": [
       "<IPython.core.display.HTML at 0x39d6750>"
      ]
     },
     "execution_count": 9,
     "metadata": {},
     "output_type": "execute_result"
    }
   ],
   "source": [
    "check_calcs([azo_ts_stable, high_mult_azo_ts_stable, low_mult_azo_ts_stable])\n",
    "mols_to_html([azo_ts_stable, high_mult_azo_ts_stable, low_mult_azo_ts_stable])"
   ]
  },
  {
   "cell_type": "code",
   "execution_count": 10,
   "metadata": {
    "collapsed": false
   },
   "outputs": [
    {
     "data": {
      "text/plain": [
       "'/home/clyde/Dropbox/Project Stuff/Notebooks/test_cases/oniom_stable/azo_ts_stable_2_mult_1.log'"
      ]
     },
     "execution_count": 10,
     "metadata": {},
     "output_type": "execute_result"
    }
   ],
   "source": [
    "current_dir = os.getcwd()\n",
    "home_dir = os.environ['ASE_HOME']\n",
    "work_dir = os.environ['ASE_SCRATCH']\n",
    "work_dir + current_dir.split(home_dir)[1] + '/' + low_mult_azo_ts_stable.calc.label + '.log'"
   ]
  },
  {
   "cell_type": "code",
   "execution_count": 11,
   "metadata": {
    "collapsed": false
   },
   "outputs": [],
   "source": [
    "#inp_str=oniom_utils.extract_oniom_inputs(azo_ts_stable)[0]\n",
    "#mod_inp_str = oniom_utils.add_to_input(inp_str, stable='opt')\n",
    "low_real, high_model, low_model = oniom_utils.oniom_comp_calcs(azo_ts_stable, stable='opt')\n",
    "low_real_mult_3, high_model_mult_3, low_model_mult_3 = oniom_utils.oniom_comp_calcs(high_mult_azo_ts_stable, stable='opt')\n",
    "low_real_mult_1, high_model_mult_1, low_model_mult_1 = oniom_utils.oniom_comp_calcs(low_mult_azo_ts_stable, stable='opt')\n",
    "#low_real2, high_model2, low_model2 = oniom_utils.oniom_comp_calcs_v2(azo_ts_stable, stable='opt')"
   ]
  },
  {
   "cell_type": "code",
   "execution_count": 12,
   "metadata": {
    "collapsed": false
   },
   "outputs": [],
   "source": [
    "for c in [low_real, high_model, low_model, low_real_mult_3, high_model_mult_3, low_model_mult_3, low_real_mult_1, high_model_mult_1, low_model_mult_1]:\n",
    "    c.calc.set_job(nodes=8, memory=8*1500, time=8, queue='pqmb')\n",
    "    #c.calc.start(frc=True)"
   ]
  },
  {
   "cell_type": "code",
   "execution_count": 13,
   "metadata": {
    "collapsed": false
   },
   "outputs": [
    {
     "data": {
      "text/html": [
       "\n",
       "           <script type=\"text/javascript\">\n",
       "           function view_function (event, file_n) {\n",
       "               if (event.ctrlKey && event.shiftKey){\n",
       "                   IPython.notebook.kernel.execute(\"cc_notebook_utils.pygview('\" + file_n + \".log')\");\n",
       "               }\n",
       "               else if (event.ctrlKey){\n",
       "                   IPython.notebook.kernel.execute(\"cc_notebook_utils.pygausssum('\" + file_n + \".log')\");\n",
       "               }\n",
       "               else if (event.shiftKey){\n",
       "                   IPython.notebook.kernel.execute(\"cc_notebook_utils.pyvogadro('\" + file_n + \".log')\");\n",
       "               }\n",
       "               else {\n",
       "                   IPython.notebook.kernel.execute(\"cc_notebook_utils.pyvim('\" + file_n + \".log')\");\n",
       "                   IPython.notebook.kernel.execute(\"print(file_n)\");\n",
       "               }\n",
       "           }\n",
       "           </script>\n",
       "    <style>\n",
       "    table\n",
       "    {\n",
       "        border-collapse:collapse;\n",
       "    }\n",
       "    td\n",
       "    {\n",
       "        padding:15px;\n",
       "    }\n",
       "    </style>\n",
       "    <body>\n",
       "    <table bgcolor=\"white\">\n",
       "    <col/><tr><td>azo_ts_stable_2_low_real</td><td><a href = \"files/test_cases/oniom_stable/azo_ts_stable_2_low_real.com\" target = \"_blank\">com</a></td><td><input type=\"button\" value=\"Smart Log\" id=\"azo_ts_stable_2_low_real\" onclick=\"view_function(event, this.id)\" /></td><td>Success</td><td>0.318791016754</td></tr><tr><td>azo_ts_stable_2_high_model</td><td><a href = \"files/test_cases/oniom_stable/azo_ts_stable_2_high_model.com\" target = \"_blank\">com</a></td><td><input type=\"button\" value=\"Smart Log\" id=\"azo_ts_stable_2_high_model\" onclick=\"view_function(event, this.id)\" /></td><td>Error: No lower point found -- run aborted.</td><td>-826.931073275</td></tr><tr><td>azo_ts_stable_2_low_model</td><td><a href = \"files/test_cases/oniom_stable/azo_ts_stable_2_low_model.com\" target = \"_blank\">com</a></td><td><input type=\"button\" value=\"Smart Log\" id=\"azo_ts_stable_2_low_model\" onclick=\"view_function(event, this.id)\" /></td><td>Success</td><td>0.223015929404</td></tr><tr><td>azo_ts_stable_2_mult_3_low_real</td><td><a href = \"files/test_cases/oniom_stable/azo_ts_stable_2_mult_3_low_real.com\" target = \"_blank\">com</a></td><td><input type=\"button\" value=\"Smart Log\" id=\"azo_ts_stable_2_mult_3_low_real\" onclick=\"view_function(event, this.id)\" /></td><td>Error: Convergence failure -- run terminated.</td><td>0.392794542899</td></tr><tr><td>azo_ts_stable_2_mult_3_high_model</td><td><a href = \"files/test_cases/oniom_stable/azo_ts_stable_2_mult_3_high_model.com\" target = \"_blank\">com</a></td><td><input type=\"button\" value=\"Smart Log\" id=\"azo_ts_stable_2_mult_3_high_model\" onclick=\"view_function(event, this.id)\" /></td><td>Success</td><td>-826.932416724</td></tr><tr><td>azo_ts_stable_2_mult_3_low_model</td><td><a href = \"files/test_cases/oniom_stable/azo_ts_stable_2_mult_3_low_model.com\" target = \"_blank\">com</a></td><td><input type=\"button\" value=\"Smart Log\" id=\"azo_ts_stable_2_mult_3_low_model\" onclick=\"view_function(event, this.id)\" /></td><td>Error: Convergence failure -- run terminated.</td><td>0.246527575599</td></tr><tr><td>azo_ts_stable_2_mult_1_low_real</td><td><a href = \"files/test_cases/oniom_stable/azo_ts_stable_2_mult_1_low_real.com\" target = \"_blank\">com</a></td><td><input type=\"button\" value=\"Smart Log\" id=\"azo_ts_stable_2_mult_1_low_real\" onclick=\"view_function(event, this.id)\" /></td><td>Success</td><td>0.31879101678</td></tr><tr><td>azo_ts_stable_2_mult_1_high_model</td><td><a href = \"files/test_cases/oniom_stable/azo_ts_stable_2_mult_1_high_model.com\" target = \"_blank\">com</a></td><td><input type=\"button\" value=\"Smart Log\" id=\"azo_ts_stable_2_mult_1_high_model\" onclick=\"view_function(event, this.id)\" /></td><td>Error: No lower point found -- run aborted.</td><td>-826.931073275</td></tr><tr><td>azo_ts_stable_2_mult_1_low_model</td><td><a href = \"files/test_cases/oniom_stable/azo_ts_stable_2_mult_1_low_model.com\" target = \"_blank\">com</a></td><td><input type=\"button\" value=\"Smart Log\" id=\"azo_ts_stable_2_mult_1_low_model\" onclick=\"view_function(event, this.id)\" /></td><td>Success</td><td>0.223015929402</td></tr>\n",
       "    </table>\n",
       "    </body>"
      ],
      "text/plain": [
       "<IPython.core.display.HTML at 0x431dcd0>"
      ]
     },
     "execution_count": 13,
     "metadata": {},
     "output_type": "execute_result"
    }
   ],
   "source": [
    "check_calcs([low_real, high_model, low_model, low_real_mult_3, high_model_mult_3, low_model_mult_3, low_real_mult_1, high_model_mult_1, low_model_mult_1])\n",
    "mols_to_html([low_real, high_model, low_model, low_real_mult_3, high_model_mult_3, low_model_mult_3, low_real_mult_1, high_model_mult_1, low_model_mult_1], data_func=lambda c:c.calc.max_data['scfenergies'][-1] /ase.units.Hartree)"
   ]
  },
  {
   "cell_type": "code",
   "execution_count": 14,
   "metadata": {
    "collapsed": false
   },
   "outputs": [
    {
     "name": "stdout",
     "output_type": "stream",
     "text": [
      "%mem=100MB\n",
      "%chk=/work/cjf05/ASE_notebooks/test_cases/oniom_stable/azo_ts_stable_2_mult_1_high_model.chk\n",
      "%nproc=1\n",
      " #P Test IOp(2/15=1,5/32=2,5/38=1) UB3LYP/6-31G(D)\n",
      " Geom=Connect gfprint pop=full  stable=opt\n",
      "\n",
      " Gaussian input prepared by ASE\n",
      " Point  2 -- high level on model system.\n",
      "\n",
      "     0     1\n",
      "  Bq-#1(Iso=12)                                     2.806559714088     -3.675033922252     -0.260594371350\n",
      "  H(Iso=12)                                         1.228388174711     -3.345053753402     -0.122053393892\n",
      "  Bq-#1(Iso=12)                                     0.671558372503     -4.918894760532     -0.218566431111\n",
      "  Bq-#1(Iso=12)                                    -0.683290257571     -4.920907303416     -0.227524859570\n",
      "  H(Iso=12)                                        -1.244044295836     -3.348074963353     -0.123991896006\n",
      "  Bq-#1(Iso=12)                                    -2.820536300670     -3.678095923209     -0.246767136001\n",
      "  Bq-#1(Iso=12)                                     7.064931721502     -1.172251802025     -0.578736281161\n",
      "  H(Iso=12)                                         5.462384793887     -0.863378298974     -0.412471097683\n",
      "  Bq-#1(Iso=12)                                     4.931258032175     -2.421359559168     -0.413336297959\n",
      "  H(Iso=12)                                         3.346059116695     -2.109114998909     -0.250230123282\n",
      "  C                                                 2.823220607144     -1.207764609738     -0.163061053446\n",
      "  C                                                 1.418839230223     -1.212737469139      0.013633943420\n",
      "  C                                                 0.700553760911     -2.449136854885     -0.022836171237\n",
      "  C                                                -0.718311039779     -2.445883732607     -0.014753947938\n",
      "  C                                                -1.444759431640     -1.234277107823      0.082535421028\n",
      "  C                                                -2.837521383703     -1.219509863545     -0.078213429688\n",
      "  H(Iso=12)                                        -3.362847824843     -2.118758454135     -0.191414898388\n",
      "  Bq-#1(Iso=12)                                    -4.950908029233     -2.434917244632     -0.352323455221\n",
      "  H(Iso=12)                                        -5.481588589689     -0.880022873253     -0.344112780389\n",
      "  Bq-#1(Iso=12)                                    -7.085401607610     -1.190310447541     -0.505166833404\n",
      "  Bq-#1(Iso=12)                                     7.749108644347      0.040352642960     -0.612235953706\n",
      "  Bq-#1(Iso=12)                                     7.064288787548      1.249721825488     -0.516109919780\n",
      "  H(Iso=12)                                         5.462097521228      0.934128083895     -0.366390643971\n",
      "  C                                                 4.946908883064      0.033821577303     -0.334114520183\n",
      "  C                                                 3.533832222317      0.029177933241     -0.188777801883\n",
      "  C                                                 2.821924160333      1.263587297947     -0.095842545545\n",
      "  C                                                 1.416708646284      1.261352698994      0.071423470361\n",
      "  C                                                 0.728288548825      0.021363617113      0.232245815452\n",
      "  C                                                -0.740765214007      0.022504793627      0.495177729891\n",
      "  C                                                -1.446573752563      1.276885327443      0.080786012505\n",
      "  C                                                -2.838399731450      1.260589350561     -0.075899720555\n",
      "  C                                                -3.559800588702      0.020163356885     -0.113418521258\n",
      "  C                                                -4.961500547561      0.020198302758     -0.274782512855\n",
      "  H(Iso=12)                                        -5.481447714476      0.920728060521     -0.342183851445\n",
      "  Bq-#1(Iso=12)                                    -7.084499791114      1.231652220687     -0.502698851475\n",
      "  Bq-#1(Iso=12)                                    -7.771056778707      0.020567291227     -0.562261532221\n",
      "  Bq-#1(Iso=12)                                     4.930001011124      2.490159227354     -0.294473920414\n",
      "  H(Iso=12)                                         3.344457832687      2.168553942176     -0.147935961619\n",
      "  Bq-#1(Iso=12)                                     2.800190257226      3.731758844190     -0.115467328924\n",
      "  H(Iso=12)                                         1.221023683205      3.397166766817     -0.010986445232\n",
      "  C                                                 0.693522269498      2.498250222749      0.056809757981\n",
      "  C                                                -0.721334787766      2.493003138933      0.022896066250\n",
      "  H(Iso=12)                                        -1.247891128719      3.395339313689     -0.075341093535\n",
      "  Bq-#1(Iso=12)                                    -2.823110125844      3.722315541668     -0.215031620732\n",
      "  H(Iso=12)                                        -3.363689890227      2.160858903310     -0.182293695811\n",
      "  Bq-#1(Iso=12)                                    -4.950903868973      2.476541350700     -0.343460115598\n",
      "  Bq-#1(Iso=12)                                     0.663371657420      4.971910370009     -0.086753799660\n",
      "  Bq-#1(Iso=12)                                    -0.690705073721      4.971295408094     -0.131458511878\n",
      "  Bq-#1(Iso=1.00782504,Spin=1,GFac=2.792846)          7.608761274420      2.190033979465     -0.550059207309\n",
      "  Bq-#1(Iso=1.00782504,Spin=1,GFac=2.792846)         -7.627725362355      2.171087326174     -0.568099022988\n",
      "  Bq-#1(Iso=1.00782504,Spin=1,GFac=2.792846)          5.474388533535      3.430959013575     -0.340459428441\n",
      "  Bq-#1(Iso=1.00782504,Spin=1,GFac=2.792846)          3.340893777515      4.673353318002     -0.180231445588\n",
      "  Bq-#1(Iso=1.00782504,Spin=1,GFac=2.792846)         -3.366180342122      4.660919650617     -0.305368409166\n",
      "  Bq-#1(Iso=1.00782504,Spin=1,GFac=2.792846)         -5.493974179560      3.415292427038     -0.431119320334\n",
      "  Bq-#1(Iso=1.00782504,Spin=1,GFac=2.792846)          1.214864414425      5.908649641338     -0.119176995536\n",
      "  Bq-#1(Iso=1.00782504,Spin=1,GFac=2.792846)         -1.240799285168      5.907169053396     -0.197033932338\n",
      "  Bq-#1(Iso=1.00782504,Spin=1,GFac=2.792846)          3.347894881298     -4.613130771084     -0.360016910315\n",
      "  Bq-#1(Iso=1.00782504,Spin=1,GFac=2.792846)          1.223531273035     -5.853539059963     -0.286013795355\n",
      "  Bq-#1(Iso=1.00782504,Spin=1,GFac=2.792846)         -1.232549170639     -5.856765144726     -0.300916449874\n",
      "  Bq-#1(Iso=1.00782504,Spin=1,GFac=2.792846)         -3.361751126672     -4.616853377344     -0.346776125794\n",
      "  Bq-#1(Iso=1.00782504,Spin=1,GFac=2.792846)          7.608827516543     -2.109889854341     -0.660860223829\n",
      "  Bq-#1(Iso=1.00782504,Spin=1,GFac=2.792846)          5.477123164152     -3.358626967006     -0.499090955225\n",
      "  Bq-#1(Iso=1.00782504,Spin=1,GFac=2.792846)         -5.492728726845     -3.373680244341     -0.447446773998\n",
      "  Bq-#1(Iso=1.00782504,Spin=1,GFac=2.792846)         -7.628684304487     -2.129573377364     -0.572744298203\n",
      "  Bq-#1(Iso=1.00782504,Spin=1,GFac=2.792846)          8.830767420934      0.043504666659     -0.718656120911\n",
      "  Bq-#1(Iso=1.00782504,Spin=1,GFac=2.792846)         -8.852796793014      0.021062946989     -0.666677760149\n",
      "  C                                                -0.938950953558      0.103442619453      2.247284952125\n",
      "  C                                                 1.308277634328     -0.386029349224      2.818416865041\n",
      "  N                                                 0.019687019660     -0.718926114469      2.866741086009\n",
      "  H                                                -0.750973912422      1.149361200007      2.491294585679\n",
      "  H                                                -1.959674603167     -0.191605440962      2.483228710921\n",
      "  H                                                 2.056499727489     -1.144409100217      3.002438381959\n",
      "  H                                                 1.573454006168      0.662028090250      2.833552031300\n",
      "  H                                                -0.188000304646     -1.713751103613      2.874680568695\n",
      "\n",
      " 1 2 1.500 10 1.500 57 1.000\n",
      " 2 1 1.500 3 1.000 13 1.000\n",
      " 3 2 1.000 4 2.000 58 1.000\n",
      " 4 3 2.000 5 1.000 59 1.000\n",
      " 5 4 1.000 6 1.500 14 1.000\n",
      " 6 5 1.500 17 1.500 60 1.000\n",
      " 7 8 1.500 21 1.500 61 1.000\n",
      " 8 7 1.500 9 1.500 24 1.000\n",
      " 9 8 1.500 10 1.500 62 1.000\n",
      " 10 1 1.500 9 1.500 11 1.000\n",
      " 11 10 1.000 12 1.500 25 1.500\n",
      " 12 11 1.500 13 1.000 28 1.000\n",
      " 13 2 1.000 12 1.000 14 1.500\n",
      " 14 5 1.000 13 1.500 15 1.500\n",
      " 15 14 1.500 16 1.500 29 1.000\n",
      " 16 15 1.500 17 1.000 32 1.000\n",
      " 17 6 1.500 16 1.000 18 1.500\n",
      " 18 17 1.500 19 1.500 63 1.000\n",
      " 19 18 1.500 20 1.500 33 1.000\n",
      " 20 19 1.500 36 1.500 64 1.000\n",
      " 21 7 1.500 22 1.500 65 1.000\n",
      " 22 21 1.500 23 1.500 49 1.000\n",
      " 23 22 1.500 24 1.000 37 1.500\n",
      " 24 8 1.000 23 1.000 25 1.500\n",
      " 25 11 1.500 24 1.500 26 1.500\n",
      " 26 25 1.500 27 1.500 38 1.000\n",
      " 27 26 1.500 28 1.500 41 1.000\n",
      " 28 12 1.000 27 1.500 29 1.000\n",
      " 29 15 1.000 28 1.000 30 1.000 67 1.000\n",
      " 30 29 1.000 31 1.500 42 1.500\n",
      " 31 30 1.500 32 1.000 45 1.000\n",
      " 32 16 1.000 31 1.000 33 1.500\n",
      " 33 19 1.000 32 1.500 34 1.000\n",
      " 34 33 1.000 35 1.500 46 1.500\n",
      " 35 34 1.500 36 1.500 50 1.000\n",
      " 36 20 1.500 35 1.500 66 1.000\n",
      " 37 23 1.500 38 1.500 51 1.000\n",
      " 38 26 1.000 37 1.500 39 1.500\n",
      " 39 38 1.500 40 1.500 52 1.000\n",
      " 40 39 1.500 41 1.000 47 1.000\n",
      " 41 27 1.000 40 1.000 42 1.500\n",
      " 42 30 1.500 41 1.500 43 1.000\n",
      " 43 42 1.000 44 1.500 48 1.000\n",
      " 44 43 1.500 45 1.500 53 1.000\n",
      " 45 31 1.000 44 1.500 46 1.500\n",
      " 46 34 1.500 45 1.500 54 1.000\n",
      " 47 40 1.000 48 2.000 55 1.000\n",
      " 48 43 1.000 47 2.000 56 1.000\n",
      " 49 22 1.000\n",
      " 50 35 1.000\n",
      " 51 37 1.000\n",
      " 52 39 1.000\n",
      " 53 44 1.000\n",
      " 54 46 1.000\n",
      " 55 47 1.000\n",
      " 56 48 1.000\n",
      " 57 1 1.000\n",
      " 58 3 1.000\n",
      " 59 4 1.000\n",
      " 60 6 1.000\n",
      " 61 7 1.000\n",
      " 62 9 1.000\n",
      " 63 18 1.000\n",
      " 64 20 1.000\n",
      " 65 21 1.000\n",
      " 66 36 1.000\n",
      " 67 29 1.000 69 1.000 70 1.000 71 1.000\n",
      " 68 69 1.500 72 1.000 73 1.000\n",
      " 69 67 1.000 68 1.500 74 1.000\n",
      " 70 67 1.000\n",
      " 71 67 1.000\n",
      " 72 68 1.000\n",
      " 73 68 1.000\n",
      " 74 69 1.000\n",
      " \n",
      "\n"
     ]
    }
   ],
   "source": [
    "print(high_model_mult_1.calc._get_input(high_model_mult_1))"
   ]
  },
  {
   "cell_type": "markdown",
   "metadata": {},
   "source": [
    "Let's see try a simpler higher model string to see if we still get an inability to find the stable wavefunction:"
   ]
  },
  {
   "cell_type": "code",
   "execution_count": 15,
   "metadata": {
    "collapsed": false
   },
   "outputs": [],
   "source": [
    "raw_inp = \"\"\"#P UB3LYP/6-31G(D) stable=opt\n",
    "\n",
    " Gaussian input prepared by ASE\n",
    " Point  2 -- high level on model system.\n",
    "\n",
    "     0     1\n",
    "  H(Iso=12)                                         1.228388174711     -3.345053753402     -0.122053393892\n",
    "  H(Iso=12)                                        -1.244044295836     -3.348074963353     -0.123991896006\n",
    "  H(Iso=12)                                         5.462384793887     -0.863378298974     -0.412471097683\n",
    "  H(Iso=12)                                         3.346059116695     -2.109114998909     -0.250230123282\n",
    "  C                                                 2.823220607144     -1.207764609738     -0.163061053446\n",
    "  C                                                 1.418839230223     -1.212737469139      0.013633943420\n",
    "  C                                                 0.700553760911     -2.449136854885     -0.022836171237\n",
    "  C                                                -0.718311039779     -2.445883732607     -0.014753947938\n",
    "  C                                                -1.444759431640     -1.234277107823      0.082535421028\n",
    "  C                                                -2.837521383703     -1.219509863545     -0.078213429688\n",
    "  H(Iso=12)                                        -3.362847824843     -2.118758454135     -0.191414898388\n",
    "  H(Iso=12)                                        -5.481588589689     -0.880022873253     -0.344112780389\n",
    "  H(Iso=12)                                         5.462097521228      0.934128083895     -0.366390643971\n",
    "  C                                                 4.946908883064      0.033821577303     -0.334114520183\n",
    "  C                                                 3.533832222317      0.029177933241     -0.188777801883\n",
    "  C                                                 2.821924160333      1.263587297947     -0.095842545545\n",
    "  C                                                 1.416708646284      1.261352698994      0.071423470361\n",
    "  C                                                 0.728288548825      0.021363617113      0.232245815452\n",
    "  C                                                -0.740765214007      0.022504793627      0.495177729891\n",
    "  C                                                -1.446573752563      1.276885327443      0.080786012505\n",
    "  C                                                -2.838399731450      1.260589350561     -0.075899720555\n",
    "  C                                                -3.559800588702      0.020163356885     -0.113418521258\n",
    "  C                                                -4.961500547561      0.020198302758     -0.274782512855\n",
    "  H(Iso=12)                                        -5.481447714476      0.920728060521     -0.342183851445\n",
    "  H(Iso=12)                                         3.344457832687      2.168553942176     -0.147935961619\n",
    "  H(Iso=12)                                         1.221023683205      3.397166766817     -0.010986445232\n",
    "  C                                                 0.693522269498      2.498250222749      0.056809757981\n",
    "  C                                                -0.721334787766      2.493003138933      0.022896066250\n",
    "  H(Iso=12)                                        -1.247891128719      3.395339313689     -0.075341093535\n",
    "  H(Iso=12)                                        -3.363689890227      2.160858903310     -0.182293695811\n",
    "  C                                                -0.938950953558      0.103442619453      2.247284952125\n",
    "  C                                                 1.308277634328     -0.386029349224      2.818416865041\n",
    "  N                                                 0.019687019660     -0.718926114469      2.866741086009\n",
    "  H                                                -0.750973912422      1.149361200007      2.491294585679\n",
    "  H                                                -1.959674603167     -0.191605440962      2.483228710921\n",
    "  H                                                 2.056499727489     -1.144409100217      3.002438381959\n",
    "  H                                                 1.573454006168      0.662028090250      2.833552031300\n",
    "  H                                                -0.188000304646     -1.713751103613      2.874680568695\n",
    "\n",
    "\n",
    "\"\"\"\n",
    "\n",
    "simple_h_model = copy.deepcopy(high_model_mult_1)\n",
    "simple_h_model.set_calculator(Gaussian(label='simple_high_model', raw_input=raw_inp))\n",
    "simple_h_model.calc.set_job(nodes=8, memory=8*1200, queue='pqmb', version='g09')\n",
    "simple_h_model.calc.initialize(simple_h_model)\n",
    "simple_h_model.calc.extra_params['raw_input'] = simple_h_model.calc._get_link0() + simple_h_model.calc.extra_params['raw_input']\n",
    "#simple_h_model.calc.start()"
   ]
  },
  {
   "cell_type": "code",
   "execution_count": 16,
   "metadata": {
    "collapsed": false
   },
   "outputs": [
    {
     "data": {
      "text/html": [
       "\n",
       "           <script type=\"text/javascript\">\n",
       "           function view_function (event, file_n) {\n",
       "               if (event.ctrlKey && event.shiftKey){\n",
       "                   IPython.notebook.kernel.execute(\"cc_notebook_utils.pygview('\" + file_n + \".log')\");\n",
       "               }\n",
       "               else if (event.ctrlKey){\n",
       "                   IPython.notebook.kernel.execute(\"cc_notebook_utils.pygausssum('\" + file_n + \".log')\");\n",
       "               }\n",
       "               else if (event.shiftKey){\n",
       "                   IPython.notebook.kernel.execute(\"cc_notebook_utils.pyvogadro('\" + file_n + \".log')\");\n",
       "               }\n",
       "               else {\n",
       "                   IPython.notebook.kernel.execute(\"cc_notebook_utils.pyvim('\" + file_n + \".log')\");\n",
       "                   IPython.notebook.kernel.execute(\"print(file_n)\");\n",
       "               }\n",
       "           }\n",
       "           </script>\n",
       "    <style>\n",
       "    table\n",
       "    {\n",
       "        border-collapse:collapse;\n",
       "    }\n",
       "    td\n",
       "    {\n",
       "        padding:15px;\n",
       "    }\n",
       "    </style>\n",
       "    <body>\n",
       "    <table bgcolor=\"white\">\n",
       "    <col/><tr><td>simple_high_model</td><td><a href = \"files/test_cases/oniom_stable/simple_high_model.com\" target = \"_blank\">com</a></td><td><input type=\"button\" value=\"Smart Log\" id=\"simple_high_model\" onclick=\"view_function(event, this.id)\" /></td><td>Error: No lower point found -- run aborted.</td></tr>\n",
       "    </table>\n",
       "    </body>"
      ],
      "text/plain": [
       "<IPython.core.display.HTML at 0x430ff10>"
      ]
     },
     "execution_count": 16,
     "metadata": {},
     "output_type": "execute_result"
    }
   ],
   "source": [
    "check_calcs([simple_h_model])\n",
    "mols_to_html([simple_h_model])"
   ]
  },
  {
   "cell_type": "code",
   "execution_count": 17,
   "metadata": {
    "collapsed": false
   },
   "outputs": [],
   "source": [
    "raw_inp_v2 = \"\"\"#P UB3LYP/6-31G(D) stable=opt guess=mix\n",
    "\n",
    " Gaussian input prepared by ASE\n",
    " Point  2 -- high level on model system.\n",
    "\n",
    "     0     1\n",
    "  H(Iso=12)                                         1.228388174711     -3.345053753402     -0.122053393892\n",
    "  H(Iso=12)                                        -1.244044295836     -3.348074963353     -0.123991896006\n",
    "  H(Iso=12)                                         5.462384793887     -0.863378298974     -0.412471097683\n",
    "  H(Iso=12)                                         3.346059116695     -2.109114998909     -0.250230123282\n",
    "  C                                                 2.823220607144     -1.207764609738     -0.163061053446\n",
    "  C                                                 1.418839230223     -1.212737469139      0.013633943420\n",
    "  C                                                 0.700553760911     -2.449136854885     -0.022836171237\n",
    "  C                                                -0.718311039779     -2.445883732607     -0.014753947938\n",
    "  C                                                -1.444759431640     -1.234277107823      0.082535421028\n",
    "  C                                                -2.837521383703     -1.219509863545     -0.078213429688\n",
    "  H(Iso=12)                                        -3.362847824843     -2.118758454135     -0.191414898388\n",
    "  H(Iso=12)                                        -5.481588589689     -0.880022873253     -0.344112780389\n",
    "  H(Iso=12)                                         5.462097521228      0.934128083895     -0.366390643971\n",
    "  C                                                 4.946908883064      0.033821577303     -0.334114520183\n",
    "  C                                                 3.533832222317      0.029177933241     -0.188777801883\n",
    "  C                                                 2.821924160333      1.263587297947     -0.095842545545\n",
    "  C                                                 1.416708646284      1.261352698994      0.071423470361\n",
    "  C                                                 0.728288548825      0.021363617113      0.232245815452\n",
    "  C                                                -0.740765214007      0.022504793627      0.495177729891\n",
    "  C                                                -1.446573752563      1.276885327443      0.080786012505\n",
    "  C                                                -2.838399731450      1.260589350561     -0.075899720555\n",
    "  C                                                -3.559800588702      0.020163356885     -0.113418521258\n",
    "  C                                                -4.961500547561      0.020198302758     -0.274782512855\n",
    "  H(Iso=12)                                        -5.481447714476      0.920728060521     -0.342183851445\n",
    "  H(Iso=12)                                         3.344457832687      2.168553942176     -0.147935961619\n",
    "  H(Iso=12)                                         1.221023683205      3.397166766817     -0.010986445232\n",
    "  C                                                 0.693522269498      2.498250222749      0.056809757981\n",
    "  C                                                -0.721334787766      2.493003138933      0.022896066250\n",
    "  H(Iso=12)                                        -1.247891128719      3.395339313689     -0.075341093535\n",
    "  H(Iso=12)                                        -3.363689890227      2.160858903310     -0.182293695811\n",
    "  C                                                -0.938950953558      0.103442619453      2.247284952125\n",
    "  C                                                 1.308277634328     -0.386029349224      2.818416865041\n",
    "  N                                                 0.019687019660     -0.718926114469      2.866741086009\n",
    "  H                                                -0.750973912422      1.149361200007      2.491294585679\n",
    "  H                                                -1.959674603167     -0.191605440962      2.483228710921\n",
    "  H                                                 2.056499727489     -1.144409100217      3.002438381959\n",
    "  H                                                 1.573454006168      0.662028090250      2.833552031300\n",
    "  H                                                -0.188000304646     -1.713751103613      2.874680568695\n",
    "\n",
    "\n",
    "\"\"\"\n",
    "\n",
    "simple_h_model_v2 = copy.deepcopy(high_model_mult_1)\n",
    "simple_h_model_v2.set_calculator(Gaussian(label='simple_high_model_v2', raw_input=raw_inp_v2))\n",
    "simple_h_model_v2.calc.set_job(nodes=8, memory=8*1200, queue='pqmb', version='g09')\n",
    "simple_h_model_v2.calc.initialize(simple_h_model)\n",
    "simple_h_model_v2.calc.extra_params['raw_input'] = simple_h_model_v2.calc._get_link0() + simple_h_model_v2.calc.extra_params['raw_input']\n",
    "#simple_h_model_v2.calc.start()"
   ]
  },
  {
   "cell_type": "code",
   "execution_count": 18,
   "metadata": {
    "collapsed": false
   },
   "outputs": [
    {
     "data": {
      "text/html": [
       "\n",
       "           <script type=\"text/javascript\">\n",
       "           function view_function (event, file_n) {\n",
       "               if (event.ctrlKey && event.shiftKey){\n",
       "                   IPython.notebook.kernel.execute(\"cc_notebook_utils.pygview('\" + file_n + \".log')\");\n",
       "               }\n",
       "               else if (event.ctrlKey){\n",
       "                   IPython.notebook.kernel.execute(\"cc_notebook_utils.pygausssum('\" + file_n + \".log')\");\n",
       "               }\n",
       "               else if (event.shiftKey){\n",
       "                   IPython.notebook.kernel.execute(\"cc_notebook_utils.pyvogadro('\" + file_n + \".log')\");\n",
       "               }\n",
       "               else {\n",
       "                   IPython.notebook.kernel.execute(\"cc_notebook_utils.pyvim('\" + file_n + \".log')\");\n",
       "                   IPython.notebook.kernel.execute(\"print(file_n)\");\n",
       "               }\n",
       "           }\n",
       "           </script>\n",
       "    <style>\n",
       "    table\n",
       "    {\n",
       "        border-collapse:collapse;\n",
       "    }\n",
       "    td\n",
       "    {\n",
       "        padding:15px;\n",
       "    }\n",
       "    </style>\n",
       "    <body>\n",
       "    <table bgcolor=\"white\">\n",
       "    <col/><tr><td>simple_high_model_v2</td><td><a href = \"files/test_cases/oniom_stable/simple_high_model_v2.com\" target = \"_blank\">com</a></td><td><input type=\"button\" value=\"Smart Log\" id=\"simple_high_model_v2\" onclick=\"view_function(event, this.id)\" /></td><td>Success</td></tr>\n",
       "    </table>\n",
       "    </body>"
      ],
      "text/plain": [
       "<IPython.core.display.HTML at 0x431d450>"
      ]
     },
     "execution_count": 18,
     "metadata": {},
     "output_type": "execute_result"
    }
   ],
   "source": [
    "check_calcs([simple_h_model_v2])\n",
    "mols_to_html([simple_h_model_v2])"
   ]
  },
  {
   "cell_type": "code",
   "execution_count": 19,
   "metadata": {
    "collapsed": false
   },
   "outputs": [],
   "source": [
    "raw_inp_v3 = \"\"\"#P UB3LYP/6-31G(D) stable=opt guess=mix\n",
    "\n",
    " Gaussian input prepared by ASE\n",
    " Point  2 -- high level on model system.\n",
    "\n",
    "     0     3\n",
    "  H(Iso=12)                                         1.228388174711     -3.345053753402     -0.122053393892\n",
    "  H(Iso=12)                                        -1.244044295836     -3.348074963353     -0.123991896006\n",
    "  H(Iso=12)                                         5.462384793887     -0.863378298974     -0.412471097683\n",
    "  H(Iso=12)                                         3.346059116695     -2.109114998909     -0.250230123282\n",
    "  C                                                 2.823220607144     -1.207764609738     -0.163061053446\n",
    "  C                                                 1.418839230223     -1.212737469139      0.013633943420\n",
    "  C                                                 0.700553760911     -2.449136854885     -0.022836171237\n",
    "  C                                                -0.718311039779     -2.445883732607     -0.014753947938\n",
    "  C                                                -1.444759431640     -1.234277107823      0.082535421028\n",
    "  C                                                -2.837521383703     -1.219509863545     -0.078213429688\n",
    "  H(Iso=12)                                        -3.362847824843     -2.118758454135     -0.191414898388\n",
    "  H(Iso=12)                                        -5.481588589689     -0.880022873253     -0.344112780389\n",
    "  H(Iso=12)                                         5.462097521228      0.934128083895     -0.366390643971\n",
    "  C                                                 4.946908883064      0.033821577303     -0.334114520183\n",
    "  C                                                 3.533832222317      0.029177933241     -0.188777801883\n",
    "  C                                                 2.821924160333      1.263587297947     -0.095842545545\n",
    "  C                                                 1.416708646284      1.261352698994      0.071423470361\n",
    "  C                                                 0.728288548825      0.021363617113      0.232245815452\n",
    "  C                                                -0.740765214007      0.022504793627      0.495177729891\n",
    "  C                                                -1.446573752563      1.276885327443      0.080786012505\n",
    "  C                                                -2.838399731450      1.260589350561     -0.075899720555\n",
    "  C                                                -3.559800588702      0.020163356885     -0.113418521258\n",
    "  C                                                -4.961500547561      0.020198302758     -0.274782512855\n",
    "  H(Iso=12)                                        -5.481447714476      0.920728060521     -0.342183851445\n",
    "  H(Iso=12)                                         3.344457832687      2.168553942176     -0.147935961619\n",
    "  H(Iso=12)                                         1.221023683205      3.397166766817     -0.010986445232\n",
    "  C                                                 0.693522269498      2.498250222749      0.056809757981\n",
    "  C                                                -0.721334787766      2.493003138933      0.022896066250\n",
    "  H(Iso=12)                                        -1.247891128719      3.395339313689     -0.075341093535\n",
    "  H(Iso=12)                                        -3.363689890227      2.160858903310     -0.182293695811\n",
    "  C                                                -0.938950953558      0.103442619453      2.247284952125\n",
    "  C                                                 1.308277634328     -0.386029349224      2.818416865041\n",
    "  N                                                 0.019687019660     -0.718926114469      2.866741086009\n",
    "  H                                                -0.750973912422      1.149361200007      2.491294585679\n",
    "  H                                                -1.959674603167     -0.191605440962      2.483228710921\n",
    "  H                                                 2.056499727489     -1.144409100217      3.002438381959\n",
    "  H                                                 1.573454006168      0.662028090250      2.833552031300\n",
    "  H                                                -0.188000304646     -1.713751103613      2.874680568695\n",
    "\n",
    "\n",
    "\"\"\"\n",
    "\n",
    "simple_h_model_v3 = copy.deepcopy(high_model_mult_1)\n",
    "simple_h_model_v3.set_calculator(Gaussian(label='simple_high_model_v3', raw_input=raw_inp_v3))\n",
    "simple_h_model_v3.calc.set_job(nodes=8, memory=8*1200, queue='pqmb', version='g09')\n",
    "simple_h_model_v3.calc.initialize(simple_h_model_v3)\n",
    "simple_h_model_v3.calc.extra_params['raw_input'] = simple_h_model_v3.calc._get_link0() + simple_h_model_v3.calc.extra_params['raw_input']\n",
    "#simple_h_model_v3.calc.start()"
   ]
  },
  {
   "cell_type": "code",
   "execution_count": 20,
   "metadata": {
    "collapsed": false
   },
   "outputs": [
    {
     "data": {
      "text/html": [
       "\n",
       "           <script type=\"text/javascript\">\n",
       "           function view_function (event, file_n) {\n",
       "               if (event.ctrlKey && event.shiftKey){\n",
       "                   IPython.notebook.kernel.execute(\"cc_notebook_utils.pygview('\" + file_n + \".log')\");\n",
       "               }\n",
       "               else if (event.ctrlKey){\n",
       "                   IPython.notebook.kernel.execute(\"cc_notebook_utils.pygausssum('\" + file_n + \".log')\");\n",
       "               }\n",
       "               else if (event.shiftKey){\n",
       "                   IPython.notebook.kernel.execute(\"cc_notebook_utils.pyvogadro('\" + file_n + \".log')\");\n",
       "               }\n",
       "               else {\n",
       "                   IPython.notebook.kernel.execute(\"cc_notebook_utils.pyvim('\" + file_n + \".log')\");\n",
       "                   IPython.notebook.kernel.execute(\"print(file_n)\");\n",
       "               }\n",
       "           }\n",
       "           </script>\n",
       "    <style>\n",
       "    table\n",
       "    {\n",
       "        border-collapse:collapse;\n",
       "    }\n",
       "    td\n",
       "    {\n",
       "        padding:15px;\n",
       "    }\n",
       "    </style>\n",
       "    <body>\n",
       "    <table bgcolor=\"white\">\n",
       "    <col/><tr><td>azo_ts</td><td><a href = \"files/test_cases/oniom_stable/azo_ts.com\" target = \"_blank\">com</a></td><td><input type=\"button\" value=\"Smart Log\" id=\"azo_ts\" onclick=\"view_function(event, this.id)\" /></td><td>Success</td></tr>\n",
       "    </table>\n",
       "    </body>"
      ],
      "text/plain": [
       "<IPython.core.display.HTML at 0x44a1490>"
      ]
     },
     "execution_count": 20,
     "metadata": {},
     "output_type": "execute_result"
    }
   ],
   "source": [
    "azo_ts = read(azo_44_ts_xyz)\n",
    "azo_ts.set_calculator(Gaussian(label='azo_ts', method='oniom(UB3LYP/6-31G(d):upm6)', basis='oniom'))\n",
    "azo_ts_H = ylide_atoms + graph_atoms[3]\n",
    "azo_ts.calc.oniom_coord_params['layers'] = [[no -1 for no in azo_ts_H]]\n",
    "azo_ts.calc.oniom_coord_params['layer_mults'] = [1,1]\n",
    "azo_ts.calc.set_job(nodes=12, memory=12*1600, time=5, queue='pqmb')\n",
    "#azo_ts.calc.start()\n",
    "check_calcs([azo_ts])\n",
    "mols_to_html([azo_ts])"
   ]
  },
  {
   "cell_type": "code",
   "execution_count": 21,
   "metadata": {
    "collapsed": false
   },
   "outputs": [],
   "source": [
    "unstable_oniom_e = azo_ts.calc.energy_zero"
   ]
  },
  {
   "cell_type": "code",
   "execution_count": 22,
   "metadata": {
    "collapsed": false
   },
   "outputs": [
    {
     "data": {
      "text/html": [
       "\n",
       "           <script type=\"text/javascript\">\n",
       "           function view_function (event, file_n) {\n",
       "               if (event.ctrlKey && event.shiftKey){\n",
       "                   IPython.notebook.kernel.execute(\"cc_notebook_utils.pygview('\" + file_n + \".log')\");\n",
       "               }\n",
       "               else if (event.ctrlKey){\n",
       "                   IPython.notebook.kernel.execute(\"cc_notebook_utils.pygausssum('\" + file_n + \".log')\");\n",
       "               }\n",
       "               else if (event.shiftKey){\n",
       "                   IPython.notebook.kernel.execute(\"cc_notebook_utils.pyvogadro('\" + file_n + \".log')\");\n",
       "               }\n",
       "               else {\n",
       "                   IPython.notebook.kernel.execute(\"cc_notebook_utils.pyvim('\" + file_n + \".log')\");\n",
       "                   IPython.notebook.kernel.execute(\"print(file_n)\");\n",
       "               }\n",
       "           }\n",
       "           </script>\n",
       "    <style>\n",
       "    table\n",
       "    {\n",
       "        border-collapse:collapse;\n",
       "    }\n",
       "    td\n",
       "    {\n",
       "        padding:15px;\n",
       "    }\n",
       "    </style>\n",
       "    <body>\n",
       "    <table bgcolor=\"white\">\n",
       "    <col/><tr><td>azo_ts_restart_1</td><td><a href = \"files/test_cases/oniom_stable/azo_ts_restart_1.com\" target = \"_blank\">com</a></td><td><input type=\"button\" value=\"Smart Log\" id=\"azo_ts_restart_1\" onclick=\"view_function(event, this.id)\" /></td><td>Success</td></tr>\n",
       "    </table>\n",
       "    </body>"
      ],
      "text/plain": [
       "<IPython.core.display.HTML at 0x39d66d0>"
      ]
     },
     "execution_count": 22,
     "metadata": {},
     "output_type": "execute_result"
    }
   ],
   "source": [
    "azo_ts.calc.restart(method='oniom(UB3LYP/6-31G(d):upm6)', component_calcs = [low_real_mult_1, None, low_model_mult_1])\n",
    "#azo_ts.calc.start(frc=True)\n",
    "check_calcs([azo_ts],frc=True)\n",
    "mols_to_html([azo_ts])"
   ]
  },
  {
   "cell_type": "code",
   "execution_count": 23,
   "metadata": {
    "collapsed": false
   },
   "outputs": [],
   "source": [
    "stable_oniom_e = azo_ts.calc.energy_zero"
   ]
  },
  {
   "cell_type": "code",
   "execution_count": 24,
   "metadata": {
    "collapsed": false
   },
   "outputs": [
    {
     "data": {
      "text/plain": [
       "[Atoms(symbols='C50H23N', positions=..., cell=[1.0, 1.0, 1.0], pbc=[False, False, False], calculator=Gaussian(...)),\n",
       " None,\n",
       " Atoms(symbols='C50H23N', positions=..., cell=[1.0, 1.0, 1.0], pbc=[False, False, False], calculator=Gaussian(...))]"
      ]
     },
     "execution_count": 24,
     "metadata": {},
     "output_type": "execute_result"
    }
   ],
   "source": [
    "azo_ts.calc.extra_params['component_calcs']"
   ]
  },
  {
   "cell_type": "markdown",
   "metadata": {},
   "source": [
    "from oniom calculation:"
   ]
  },
  {
   "cell_type": "code",
   "execution_count": 25,
   "metadata": {
    "collapsed": false
   },
   "outputs": [
    {
     "data": {
      "text/html": [
       "<table class=\"nowrap\"><tr>\n",
       "<th>\n",
       "high_model\n",
       "</th>\n",
       "<th>\n",
       "low_real\n",
       "</th>\n",
       "<th>\n",
       "low_model\n",
       "</th>\n",
       "</tr><tr>\n",
       "<td><pre>\n",
       "-826.931073274533\n",
       "</pre></td>\n",
       "<td><pre>\n",
       "0.318791017286\n",
       "</pre></td>\n",
       "<td><pre>\n",
       "0.223015929096\n",
       "</pre></td>\n",
       "</table>"
      ],
      "text/plain": [
       "<IPython.core.display.HTML at 0x39d65d0>"
      ]
     },
     "execution_count": 25,
     "metadata": {},
     "output_type": "execute_result"
    }
   ],
   "source": [
    "ad_disp.html_dict({'low_real':0.318791017286, 'high_model': -826.931073274533, 'low_model':0.223015929096})"
   ]
  },
  {
   "cell_type": "markdown",
   "metadata": {},
   "source": [
    "vs. from components calculations:"
   ]
  },
  {
   "cell_type": "code",
   "execution_count": 26,
   "metadata": {
    "collapsed": false
   },
   "outputs": [
    {
     "data": {
      "text/html": [
       "<table class=\"nowrap\"><tr>\n",
       "<th>\n",
       "high_model\n",
       "</th>\n",
       "<th>\n",
       "low_real\n",
       "</th>\n",
       "<th>\n",
       "low_model\n",
       "</th>\n",
       "</tr><tr>\n",
       "<td><pre>\n",
       "-826.931073275\n",
       "</pre></td>\n",
       "<td><pre>\n",
       "0.31879101678\n",
       "</pre></td>\n",
       "<td><pre>\n",
       "0.22301592940200002\n",
       "</pre></td>\n",
       "</table>"
      ],
      "text/plain": [
       "<IPython.core.display.HTML at 0x4397c90>"
      ]
     },
     "execution_count": 26,
     "metadata": {},
     "output_type": "execute_result"
    }
   ],
   "source": [
    "ad_disp.html_dict({'low_real':low_real_mult_1.calc.max_data['scfenergies'][-1] / ase.units.Hartree, 'high_model':high_model_mult_1.calc.max_data['scfenergies'][-1] / ase.units.Hartree, 'low_model':low_model_mult_1.calc.max_data['scfenergies'][-1] / ase.units.Hartree})"
   ]
  },
  {
   "cell_type": "markdown",
   "metadata": {},
   "source": [
    "Good we are successfully reading in the component chk-point files. Let's also make sure restarting an oniom calculation (using guess=read) reads in all the component wavefunctions:"
   ]
  },
  {
   "cell_type": "code",
   "execution_count": 27,
   "metadata": {
    "collapsed": false
   },
   "outputs": [
    {
     "data": {
      "text/html": [
       "\n",
       "           <script type=\"text/javascript\">\n",
       "           function view_function (event, file_n) {\n",
       "               if (event.ctrlKey && event.shiftKey){\n",
       "                   IPython.notebook.kernel.execute(\"cc_notebook_utils.pygview('\" + file_n + \".log')\");\n",
       "               }\n",
       "               else if (event.ctrlKey){\n",
       "                   IPython.notebook.kernel.execute(\"cc_notebook_utils.pygausssum('\" + file_n + \".log')\");\n",
       "               }\n",
       "               else if (event.shiftKey){\n",
       "                   IPython.notebook.kernel.execute(\"cc_notebook_utils.pyvogadro('\" + file_n + \".log')\");\n",
       "               }\n",
       "               else {\n",
       "                   IPython.notebook.kernel.execute(\"cc_notebook_utils.pyvim('\" + file_n + \".log')\");\n",
       "                   IPython.notebook.kernel.execute(\"print(file_n)\");\n",
       "               }\n",
       "           }\n",
       "           </script>\n",
       "    <style>\n",
       "    table\n",
       "    {\n",
       "        border-collapse:collapse;\n",
       "    }\n",
       "    td\n",
       "    {\n",
       "        padding:15px;\n",
       "    }\n",
       "    </style>\n",
       "    <body>\n",
       "    <table bgcolor=\"white\">\n",
       "    <col/><tr><td>azo_ts_restart_2</td><td><a href = \"files/test_cases/oniom_stable/azo_ts_restart_2.com\" target = \"_blank\">com</a></td><td><input type=\"button\" value=\"Smart Log\" id=\"azo_ts_restart_2\" onclick=\"view_function(event, this.id)\" /></td><td>Success</td></tr>\n",
       "    </table>\n",
       "    </body>"
      ],
      "text/plain": [
       "<IPython.core.display.HTML at 0x430fc10>"
      ]
     },
     "execution_count": 27,
     "metadata": {},
     "output_type": "execute_result"
    }
   ],
   "source": [
    "azo_ts.calc.restart(component_calcs = [])\n",
    "check_calcs([azo_ts])\n",
    "mols_to_html([azo_ts])"
   ]
  },
  {
   "cell_type": "code",
   "execution_count": 28,
   "metadata": {
    "collapsed": false
   },
   "outputs": [
    {
     "data": {
      "text/html": [
       "<table class=\"nowrap\"><tr>\n",
       "<th>\n",
       "high_model\n",
       "</th>\n",
       "<th>\n",
       "low_real\n",
       "</th>\n",
       "<th>\n",
       "low_model\n",
       "</th>\n",
       "</tr><tr>\n",
       "<td><pre>\n",
       "-826.931073274\n",
       "</pre></td>\n",
       "<td><pre>\n",
       "0.318791017297\n",
       "</pre></td>\n",
       "<td><pre>\n",
       "0.223015929097\n",
       "</pre></td>\n",
       "</table>"
      ],
      "text/plain": [
       "<IPython.core.display.HTML at 0x4397d50>"
      ]
     },
     "execution_count": 28,
     "metadata": {},
     "output_type": "execute_result"
    }
   ],
   "source": [
    "ad_disp.html_dict({'low_real':0.318791017297, 'high_model': -826.931073274, 'low_model':0.223015929097})  "
   ]
  },
  {
   "cell_type": "markdown",
   "metadata": {},
   "source": [
    "Yes it does read them all in. Let's now try combining all the steps (extracting the individual inputs, running stable=opt calculations for each, then loading the subsequent chk point files back into the original oniom calculation) and make sure the resultant function works."
   ]
  },
  {
   "cell_type": "code",
   "execution_count": 29,
   "metadata": {
    "collapsed": false
   },
   "outputs": [],
   "source": [
    "azo_ts_2 = read(azo_44_ts_xyz)\n",
    "azo_ts_2.set_calculator(Gaussian(label='azo_ts_combined_stable', method='oniom(UB3LYP/6-31G(d):upm6)', basis='oniom'))\n",
    "azo_ts_2_H = ylide_atoms + graph_atoms[3]\n",
    "azo_ts_2.calc.oniom_coord_params['layers'] = [[no -1 for no in azo_ts_2_H]]\n",
    "azo_ts_2.calc.oniom_coord_params['layer_mults'] = [1,1]\n",
    "azo_ts_2.calc.set_job(nodes=8, memory=8*1400, time=5, queue='pqmb')\n",
    "\n",
    "#serv_oniom_stable(azo_ts_2,frc=True)"
   ]
  },
  {
   "cell_type": "code",
   "execution_count": 30,
   "metadata": {
    "collapsed": false
   },
   "outputs": [
    {
     "data": {
      "text/html": [
       "\n",
       "           <script type=\"text/javascript\">\n",
       "           function view_function (event, file_n) {\n",
       "               if (event.ctrlKey && event.shiftKey){\n",
       "                   IPython.notebook.kernel.execute(\"cc_notebook_utils.pygview('\" + file_n + \".log')\");\n",
       "               }\n",
       "               else if (event.ctrlKey){\n",
       "                   IPython.notebook.kernel.execute(\"cc_notebook_utils.pygausssum('\" + file_n + \".log')\");\n",
       "               }\n",
       "               else if (event.shiftKey){\n",
       "                   IPython.notebook.kernel.execute(\"cc_notebook_utils.pyvogadro('\" + file_n + \".log')\");\n",
       "               }\n",
       "               else {\n",
       "                   IPython.notebook.kernel.execute(\"cc_notebook_utils.pyvim('\" + file_n + \".log')\");\n",
       "                   IPython.notebook.kernel.execute(\"print(file_n)\");\n",
       "               }\n",
       "           }\n",
       "           </script>\n",
       "    <style>\n",
       "    table\n",
       "    {\n",
       "        border-collapse:collapse;\n",
       "    }\n",
       "    td\n",
       "    {\n",
       "        padding:15px;\n",
       "    }\n",
       "    </style>\n",
       "    <body>\n",
       "    <table bgcolor=\"white\">\n",
       "    <col/><tr><td>azo_ts_combined_stable</td><td><a href = \"files/test_cases/oniom_stable/azo_ts_combined_stable.com\" target = \"_blank\">com</a></td><td><input type=\"button\" value=\"Smart Log\" id=\"azo_ts_combined_stable\" onclick=\"view_function(event, this.id)\" /></td><td>Success</td></tr>\n",
       "    </table>\n",
       "    </body>"
      ],
      "text/plain": [
       "<IPython.core.display.HTML at 0x4397e50>"
      ]
     },
     "execution_count": 30,
     "metadata": {},
     "output_type": "execute_result"
    }
   ],
   "source": [
    "check_calcs([azo_ts_2], frc=True)\n",
    "mols_to_html([azo_ts_2])"
   ]
  },
  {
   "cell_type": "code",
   "execution_count": 31,
   "metadata": {
    "collapsed": false
   },
   "outputs": [
    {
     "data": {
      "text/html": [
       "\n",
       "           <script type=\"text/javascript\">\n",
       "           function view_function (event, file_n) {\n",
       "               if (event.ctrlKey && event.shiftKey){\n",
       "                   IPython.notebook.kernel.execute(\"cc_notebook_utils.pygview('\" + file_n + \".log')\");\n",
       "               }\n",
       "               else if (event.ctrlKey){\n",
       "                   IPython.notebook.kernel.execute(\"cc_notebook_utils.pygausssum('\" + file_n + \".log')\");\n",
       "               }\n",
       "               else if (event.shiftKey){\n",
       "                   IPython.notebook.kernel.execute(\"cc_notebook_utils.pyvogadro('\" + file_n + \".log')\");\n",
       "               }\n",
       "               else {\n",
       "                   IPython.notebook.kernel.execute(\"cc_notebook_utils.pyvim('\" + file_n + \".log')\");\n",
       "                   IPython.notebook.kernel.execute(\"print(file_n)\");\n",
       "               }\n",
       "           }\n",
       "           </script>\n",
       "    <style>\n",
       "    table\n",
       "    {\n",
       "        border-collapse:collapse;\n",
       "    }\n",
       "    td\n",
       "    {\n",
       "        padding:15px;\n",
       "    }\n",
       "    </style>\n",
       "    <body>\n",
       "    <table bgcolor=\"white\">\n",
       "    <col/><tr><td>azo_ts_combined_stable_init_low_real</td><td><a href = \"files/test_cases/oniom_stable/azo_ts_combined_stable_init_low_real.com\" target = \"_blank\">com</a></td><td><input type=\"button\" value=\"Smart Log\" id=\"azo_ts_combined_stable_init_low_real\" onclick=\"view_function(event, this.id)\" /></td><td>Success</td></tr><tr><td>azo_ts_combined_stable_init_high_model_restart_1</td><td><a href = \"files/test_cases/oniom_stable/azo_ts_combined_stable_init_high_model_restart_1.com\" target = \"_blank\">com</a></td><td><input type=\"button\" value=\"Smart Log\" id=\"azo_ts_combined_stable_init_high_model_restart_1\" onclick=\"view_function(event, this.id)\" /></td><td>Success</td></tr><tr><td>azo_ts_combined_stable_init_low_model</td><td><a href = \"files/test_cases/oniom_stable/azo_ts_combined_stable_init_low_model.com\" target = \"_blank\">com</a></td><td><input type=\"button\" value=\"Smart Log\" id=\"azo_ts_combined_stable_init_low_model\" onclick=\"view_function(event, this.id)\" /></td><td>Success</td></tr>\n",
       "    </table>\n",
       "    </body>"
      ],
      "text/plain": [
       "<IPython.core.display.HTML at 0x431ded0>"
      ]
     },
     "execution_count": 31,
     "metadata": {},
     "output_type": "execute_result"
    }
   ],
   "source": [
    "mols_to_html(azo_ts_2.calc.components)"
   ]
  },
  {
   "cell_type": "code",
   "execution_count": 32,
   "metadata": {
    "collapsed": false
   },
   "outputs": [
    {
     "data": {
      "text/html": [
       "<table class=\"nowrap\"><tr>\n",
       "<th>\n",
       "Restarted Stable Oniom Energy\n",
       "</th>\n",
       "<th>\n",
       "Manually calculated Stable Oniom Energy\n",
       "</th>\n",
       "<th>\n",
       "Auto constructed stable Oniom Energy\n",
       "</th>\n",
       "<th>\n",
       "Stable Oniom Energy\n",
       "</th>\n",
       "<th>\n",
       "Unstable Oniom Energy\n",
       "</th>\n",
       "</tr><tr>\n",
       "<td><pre>\n",
       "-826.8352981862\n",
       "</pre></td>\n",
       "<td><pre>\n",
       "-826.835298187622\n",
       "</pre></td>\n",
       "<td><pre>\n",
       "-826.845825863713\n",
       "</pre></td>\n",
       "<td><pre>\n",
       "-826.835298186342\n",
       "</pre></td>\n",
       "<td><pre>\n",
       "-826.807758620865\n",
       "</pre></td>\n",
       "</table>"
      ],
      "text/plain": [
       "<IPython.core.display.HTML at 0x44a1450>"
      ]
     },
     "execution_count": 32,
     "metadata": {},
     "output_type": "execute_result"
    }
   ],
   "source": [
    "auto_stable_oniom_e = azo_ts_2.calc.energy_zero\n",
    "restarted_stable_oniom_e = azo_ts.calc.energy_zero\n",
    "\n",
    "manual_stable_oniom_e = low_real_mult_1.calc.max_data['scfenergies'][-1] + high_model_mult_1.calc.max_data['scfenergies'][-1] - low_model_mult_1.calc.max_data['scfenergies'][-1]\n",
    "ad_disp.html_dict({'Auto constructed stable Oniom Energy': auto_stable_oniom_e /ase.units.Hartree, 'Unstable Oniom Energy':unstable_oniom_e / ase.units.Hartree, 'Stable Oniom Energy':stable_oniom_e / ase.units.Hartree, 'Restarted Stable Oniom Energy': restarted_stable_oniom_e / ase.units.Hartree, 'Manually calculated Stable Oniom Energy': manual_stable_oniom_e / ase.units.Hartree})"
   ]
  },
  {
   "cell_type": "markdown",
   "metadata": {},
   "source": [
    "Good, it does. Now can we run stability calculations on oniom calculations that are reading from a chk point file?"
   ]
  },
  {
   "cell_type": "code",
   "execution_count": 33,
   "metadata": {
    "collapsed": false
   },
   "outputs": [
    {
     "data": {
      "text/plain": [
       "'Calculations complete'"
      ]
     },
     "execution_count": 33,
     "metadata": {},
     "output_type": "execute_result"
    }
   ],
   "source": [
    "azo_ts.calc.restart(method='oniom(UB3LYP/6-31G(d):upm6)=OnlyInputFiles')\n",
    "azo_ts.calc.set_job(nodes=1, memory=100, time=1, queue='pqmb')\n",
    "#azo_ts.calc.start()\n",
    "check_calcs([azo_ts])"
   ]
  },
  {
   "cell_type": "code",
   "execution_count": 34,
   "metadata": {
    "collapsed": false
   },
   "outputs": [
    {
     "data": {
      "text/plain": [
       "['%mem=100MB\\n%chk=/work/cjf05/ASE_notebooks/test_cases/oniom_stable/azo_ts_restart_3_low_real.chk\\n%nproc=1\\n #P Test IOp(2/15=1,5/32=2,5/38=1) UPM6\\n Geom=Connect gfprint pop=full  stable=opt',\n",
       " ' Gaussian input prepared by ASE\\n Point  3 -- low level on real system.']"
      ]
     },
     "execution_count": 34,
     "metadata": {},
     "output_type": "execute_result"
    }
   ],
   "source": [
    "low_real_m1_v2, high_model_m1_v2, low_model_m1_v2 = oniom_utils.oniom_comp_calcs(azo_ts, stable='opt')\n",
    "low_real_m1_v2.calc.extra_params['raw_input'].split('\\n\\n')[0:2]"
   ]
  },
  {
   "cell_type": "code",
   "execution_count": 35,
   "metadata": {
    "collapsed": false
   },
   "outputs": [
    {
     "data": {
      "text/html": [
       "\n",
       "           <script type=\"text/javascript\">\n",
       "           function view_function (event, file_n) {\n",
       "               if (event.ctrlKey && event.shiftKey){\n",
       "                   IPython.notebook.kernel.execute(\"cc_notebook_utils.pygview('\" + file_n + \".log')\");\n",
       "               }\n",
       "               else if (event.ctrlKey){\n",
       "                   IPython.notebook.kernel.execute(\"cc_notebook_utils.pygausssum('\" + file_n + \".log')\");\n",
       "               }\n",
       "               else if (event.shiftKey){\n",
       "                   IPython.notebook.kernel.execute(\"cc_notebook_utils.pyvogadro('\" + file_n + \".log')\");\n",
       "               }\n",
       "               else {\n",
       "                   IPython.notebook.kernel.execute(\"cc_notebook_utils.pyvim('\" + file_n + \".log')\");\n",
       "                   IPython.notebook.kernel.execute(\"print(file_n)\");\n",
       "               }\n",
       "           }\n",
       "           </script>\n",
       "    <style>\n",
       "    table\n",
       "    {\n",
       "        border-collapse:collapse;\n",
       "    }\n",
       "    td\n",
       "    {\n",
       "        padding:15px;\n",
       "    }\n",
       "    </style>\n",
       "    <body>\n",
       "    <table bgcolor=\"white\">\n",
       "    <col/><tr><td>azo_ts_restart_3_low_real</td><td><a href = \"files/test_cases/oniom_stable/azo_ts_restart_3_low_real.com\" target = \"_blank\">com</a></td><td><input type=\"button\" value=\"Smart Log\" id=\"azo_ts_restart_3_low_real\" onclick=\"view_function(event, this.id)\" /></td><td>Success</td></tr><tr><td>azo_ts_restart_3_high_model</td><td><a href = \"files/test_cases/oniom_stable/azo_ts_restart_3_high_model.com\" target = \"_blank\">com</a></td><td><input type=\"button\" value=\"Smart Log\" id=\"azo_ts_restart_3_high_model\" onclick=\"view_function(event, this.id)\" /></td><td>Error: No lower point found -- run aborted.</td></tr><tr><td>azo_ts_restart_3_low_model</td><td><a href = \"files/test_cases/oniom_stable/azo_ts_restart_3_low_model.com\" target = \"_blank\">com</a></td><td><input type=\"button\" value=\"Smart Log\" id=\"azo_ts_restart_3_low_model\" onclick=\"view_function(event, this.id)\" /></td><td>Success</td></tr>\n",
       "    </table>\n",
       "    </body>"
      ],
      "text/plain": [
       "<IPython.core.display.HTML at 0x44a1610>"
      ]
     },
     "execution_count": 35,
     "metadata": {},
     "output_type": "execute_result"
    }
   ],
   "source": [
    "for m in [low_real_m1_v2, high_model_m1_v2, low_model_m1_v2]:\n",
    "    m.calc.set_job(nodes=8, memory=8*1500, time=8, queue='pqmb')\n",
    "    #m.calc.start()\n",
    "check_calcs([low_real_m1_v2, high_model_m1_v2, low_model_m1_v2])\n",
    "mols_to_html([low_real_m1_v2, high_model_m1_v2, low_model_m1_v2])"
   ]
  },
  {
   "cell_type": "markdown",
   "metadata": {},
   "source": [
    "Re-testing automated stability calculation"
   ]
  },
  {
   "cell_type": "code",
   "execution_count": 36,
   "metadata": {
    "collapsed": false
   },
   "outputs": [
    {
     "data": {
      "text/plain": [
       "'4259114'"
      ]
     },
     "execution_count": 36,
     "metadata": {},
     "output_type": "execute_result"
    }
   ],
   "source": [
    "azo_ts_2_v2 = copy.deepcopy(azo_ts_2)\n",
    "azo_ts_2_v2.set_calculator(Gaussian(label='azo_ts_combined_stable_v2', method='oniom(UB3LYP/6-31G(d):upm6)', basis='oniom'))\n",
    "azo_ts_2_H_v2 = ylide_atoms + graph_atoms[3]\n",
    "azo_ts_2_v2.calc.oniom_coord_params['layers'] = [[no -1 for no in azo_ts_2_H_v2]]\n",
    "azo_ts_2_v2.calc.oniom_coord_params['layer_mults'] = [1,1]\n",
    "azo_ts_2_v2.calc.set_job(nodes=8, memory=8*1400, time=5, queue='pqmb')\n",
    "#serv_oniom_stable(azo_ts_2_v2, frc=True)"
   ]
  },
  {
   "cell_type": "code",
   "execution_count": 37,
   "metadata": {
    "collapsed": false
   },
   "outputs": [
    {
     "ename": "SyntaxError",
     "evalue": "invalid syntax (<ipython-input-37-a1ed5e25a1ba>, line 1)",
     "output_type": "error",
     "traceback": [
      "\u001b[1;36m  File \u001b[1;32m\"<ipython-input-37-a1ed5e25a1ba>\"\u001b[1;36m, line \u001b[1;32m1\u001b[0m\n\u001b[1;33m    --\u001b[0m\n\u001b[1;37m      ^\u001b[0m\n\u001b[1;31mSyntaxError\u001b[0m\u001b[1;31m:\u001b[0m invalid syntax\n"
     ]
    }
   ],
   "source": [
    "check_calcs([azo_ts_2_v2],frc=True)\n",
    "mols_to_html([azo_ts_2_v2])"
   ]
  },
  {
   "cell_type": "code",
   "execution_count": null,
   "metadata": {
    "collapsed": false
   },
   "outputs": [],
   "source": [
    "mols_to_html(azo_ts_2_v2.calc.components)"
   ]
  },
  {
   "cell_type": "code",
   "execution_count": null,
   "metadata": {
    "collapsed": false
   },
   "outputs": [],
   "source": [
    "azo_ts_2_v2.calc.components[1].calc.basis"
   ]
  },
  {
   "cell_type": "markdown",
   "metadata": {},
   "source": [
    "<font color='red', size=5>No we can't =OnlyInputFiles does not use guess=read to extract the wavefunction for that component from the previous oniom chk file even if we are using guess=read in the oniom calculation</font>"
   ]
  },
  {
   "cell_type": "markdown",
   "metadata": {},
   "source": [
    "How about we try putting 'read' in the method?"
   ]
  },
  {
   "cell_type": "code",
   "execution_count": null,
   "metadata": {
    "collapsed": false
   },
   "outputs": [],
   "source": [
    "azo_ts.calc.restart(method='oniom(UB3LYP/6-31G(d)=read:upm6=read)=OnlyInputFiles')\n",
    "azo_ts.calc.set_job(nodes=1, memory=100, time=1, queue='pqmb')\n",
    "#azo_ts.calc.start()\n",
    "check_calcs([azo_ts])\n",
    "mols_to_html([azo_ts])"
   ]
  },
  {
   "cell_type": "markdown",
   "metadata": {},
   "source": [
    "This doesn't work"
   ]
  },
  {
   "cell_type": "markdown",
   "metadata": {},
   "source": [
    "What does opt='opt' in combination with '=OnlyInputFiles' do?"
   ]
  },
  {
   "cell_type": "code",
   "execution_count": null,
   "metadata": {
    "collapsed": false
   },
   "outputs": [],
   "source": [
    "azo_ts.calc.restart(no_old_chk=True, opt='opt', geom='', guess='', method='oniom(UB3LYP/6-31G(d):upm6)=OnlyInputFiles')\n",
    "azo_ts.calc.set_job(nodes=1, memory=100, time=1, queue='pqmb')\n",
    "#azo_ts.calc.start()"
   ]
  },
  {
   "cell_type": "code",
   "execution_count": null,
   "metadata": {
    "collapsed": false
   },
   "outputs": [],
   "source": [
    "check_calcs([azo_ts])\n",
    "mols_to_html([azo_ts])"
   ]
  },
  {
   "cell_type": "markdown",
   "metadata": {},
   "source": [
    "This also fails - does some strange mixture of trying to produce input files and also running an optimisation that ultimately results in an error"
   ]
  },
  {
   "cell_type": "code",
   "execution_count": null,
   "metadata": {
    "collapsed": false
   },
   "outputs": [],
   "source": [
    "azo_ts_3 = read(azo_44_ts_xyz)\n",
    "azo_ts_3.set_calculator(Gaussian(label='azo_ts_2', method='oniom(UB3LYP/6-31G(d):upm6)', basis='oniom', guess='(always, mix)'))\n",
    "azo_ts_3_H = ylide_atoms + graph_atoms[3]\n",
    "azo_ts_3.calc.oniom_coord_params['layers'] = [[no -1 for no in azo_ts_H]]\n",
    "azo_ts_3.calc.oniom_coord_params['layer_mults'] = [1,1]\n",
    "azo_ts_3.calc.set_job(nodes=12, memory=12*1600, time=5, queue='pqmb')\n",
    "#azo_ts_3.calc.start()\n",
    "#check_calcs([azo_ts_3])"
   ]
  },
  {
   "cell_type": "code",
   "execution_count": null,
   "metadata": {
    "collapsed": false
   },
   "outputs": [],
   "source": [
    "#print(azo_ts_stable.calc._get_mol_details(azo_ts_stable))"
   ]
  },
  {
   "cell_type": "code",
   "execution_count": null,
   "metadata": {
    "collapsed": false
   },
   "outputs": [],
   "source": [
    "inp_str = '\\n'.join(inp_str.split('\\n')[7:])\n",
    "with open('test.xyz', 'w') as fl:\n",
    "    fl.write(xyz_str)\n",
    "pybel.readfile('xyz', 'test.xyz').next()"
   ]
  },
  {
   "cell_type": "code",
   "execution_count": null,
   "metadata": {
    "collapsed": false
   },
   "outputs": [],
   "source": [
    "import gaussian_input_parser\n"
   ]
  },
  {
   "cell_type": "code",
   "execution_count": null,
   "metadata": {
    "collapsed": false
   },
   "outputs": [],
   "source": [
    "with open('test.com', 'w') as fl:\n",
    "    fl.write(inp_str)"
   ]
  },
  {
   "cell_type": "code",
   "execution_count": null,
   "metadata": {
    "collapsed": false
   },
   "outputs": [],
   "source": [
    "gaussian_input_parser.extract_calc('test.com')"
   ]
  },
  {
   "cell_type": "code",
   "execution_count": null,
   "metadata": {
    "collapsed": false
   },
   "outputs": [],
   "source": [
    "from ase import Atoms, Atom\n",
    "from ase.calculators.gaussian import Gaussian\n",
    "import re"
   ]
  },
  {
   "cell_type": "code",
   "execution_count": null,
   "metadata": {
    "collapsed": false
   },
   "outputs": [],
   "source": [
    "from gaussian_input_parser import extract_calc\n",
    "atoms=extract_calc('test.com')"
   ]
  },
  {
   "cell_type": "code",
   "execution_count": null,
   "metadata": {
    "collapsed": false
   },
   "outputs": [],
   "source": [
    "coords[2]"
   ]
  },
  {
   "cell_type": "code",
   "execution_count": null,
   "metadata": {
    "collapsed": false
   },
   "outputs": [],
   "source": []
  },
  {
   "cell_type": "code",
   "execution_count": null,
   "metadata": {
    "collapsed": false
   },
   "outputs": [],
   "source": [
    "with open(inp_file, 'r') as fl:\n",
    "    data = fl.read()\n",
    "\n",
    "section_names = ['route', 'title', 'coords', 'connects']\n",
    "sections = data.split('\\n\\n')\n",
    "\n",
    "no_sections = len(sections)\n",
    "data_dict = dict(zip(section_names[:no_sections], sections))\n",
    "\n",
    "label = data_dict.get('title')\n",
    "route = data_dict.get('route')\n",
    "coords = data_dict.get('coords')\n",
    "#connects = data_dict.get('connects')\n",
    "\n",
    "if coords:\n",
    "    charge, mult = coords.split('\\n')[0].split()\n",
    "    coords = '\\n'.join(coords.split('\\n')[1:])\n",
    "\n",
    "atoms = Atoms()\n",
    "if coords:\n",
    "    for line in coords.split('\\n'):\n",
    "        info = line.split()\n",
    "        symbol = info[0]\n",
    "        position = [float(info[1]), float(info[2]), float(info[3])]\n",
    "        atoms += Atom(symbol, position=position)\n",
    "\n",
    "    if not label:\n",
    "        label = 'Default Gaussian Label'\n",
    "\n",
    "route_args = route.split()[1:]\n",
    "route_kwargs = {}\n",
    "for route_arg in route_args:\n",
    "    if  re.match('IOP', route_arg, re.I):\n",
    "        route_kwargs.update({'ioplist': route_arg[4:-1].split(',')})\n",
    "    elif '=' in route_arg:\n",
    "        route_arg_nm, route_arg_vl = route_arg.split('=')\n",
    "        route_kwargs.update({route_arg_nm: route_arg_vl})\n",
    "    else:\n",
    "        route_kwargs.update({route_arg:route_arg})\n",
    "\n",
    "atoms.set_calculator(Gaussian(label=label, multiplicity=mult, **route_kwargs))"
   ]
  },
  {
   "cell_type": "markdown",
   "metadata": {},
   "source": [
    "## Routes:"
   ]
  },
  {
   "cell_type": "raw",
   "metadata": {},
   "source": [
    " HF/STO-3G\n",
    " ---------\n",
    " 1/38=1/1;\n",
    " 2/12=2,17=6,18=5,40=1/2;\n",
    " 3/6=3,11=9,16=1,25=1,30=1/1,2,3;\n",
    " 4//1;\n",
    " 5/5=2,38=5/2;\n",
    " 6/7=2,8=2,9=2,10=2,28=1/1;\n",
    " 99/5=1,9=1/99;\n",
    "\n",
    " HF/STO-3G stable\n",
    " ----------------\n",
    " 1/38=1/1;\n",
    " 2/12=2,17=6,18=5,40=1/2;\n",
    "& 3/6=3,11=2,16=1,25=1,30=1/1,2,3;\n",
    " 4//1;\n",
    " 5/5=2,38=5/2;\n",
    "* 8/6=1,10=90,11=11/1;\n",
    "* 9/8=-1,42=1/14;\n",
    " 6/7=2,8=2,9=2,10=2,28=1/1;\n",
    " 99/5=1,9=1/99;\n",
    "\n",
    " HF/STO-3G stable=opt\n",
    " --------------------\n",
    " 1/38=1/1;\n",
    " 2/12=2,17=6,18=5,40=1/2;\n",
    "& 3/6=3,11=2,16=1,25=1,30=1/1,2,3;\n",
    " 4//1;\n",
    " 5/5=2,38=5/2;\n",
    " 6/7=2,8=2,9=2,10=2,28=1/1;\n",
    "* 8/6=1,10=90,11=11/1;\n",
    "* 9/8=-3,42=1,46=1/14;\n",
    "* 5/5=2,8=3,17=40,38=5/8(-2);\n",
    " 6/7=2,8=2,9=2,10=2,28=1/1;\n",
    " 99/5=1,9=1/99;\n",
    "\n",
    " PM6\n",
    " ------------\n",
    " 1/38=1/1;\n",
    " 2/12=2,17=6,18=5,40=1/2;\n",
    " 3/5=2,16=1,25=1,41=3900000/1,2,3;\n",
    " 4/35=1/1;\n",
    " 5/5=2,35=1,38=5/2;\n",
    " 6/7=2,8=2,9=2,10=2,28=1/1;\n",
    " 99/5=1,9=1/99;\n",
    "\n",
    " PM6 stable\n",
    " ----------------\n",
    " 1/38=1/1;\n",
    " 2/12=2,17=6,18=5,40=1/2;\n",
    " 3/5=2,16=1,25=1,41=3900000/1,2,3;\n",
    " 4/35=1/1;\n",
    " 5/5=2,35=1,38=5/2;\n",
    " * 8/6=1,10=90,11=11/1;\n",
    " * 9/8=-1,42=1,49=10/14;\n",
    " 6/7=2,8=2,9=2,10=2,28=1/1;\n",
    " 99/5=1,9=1/99;\n",
    "\n",
    "\n",
    "\n",
    " B3LYP/6-31G(d)\n",
    " --------------\n",
    " 1/38=1/1;\n",
    " 2/12=2,17=6,18=5,40=1/2;\n",
    "&/* 3/5=1,6=6,7=1,11=2,16=1,25=1,30=1,74=-5/1,2,3;\n",
    " 4//1;\n",
    " 5/5=2,38=5/2;\n",
    " 6/7=2,8=2,9=2,10=2,28=1/1;\n",
    " 99/5=1,9=1/99;\n",
    "\n",
    " B3LYP/6-31G(d) stable\n",
    " ---------------------\n",
    " 1/38=1/1;\n",
    " 2/12=2,17=6,18=5,40=1/2;\n",
    " 3/5=1,6=6,7=1,11=2,16=1,25=1,30=1,74=-5/1,2,3;\n",
    " 4//1;\n",
    " 5/5=2,38=5/2;\n",
    "* 8/6=1,10=90,11=11/1;\n",
    "* 9/8=-1,42=1/14;\n",
    " 6/7=2,8=2,9=2,10=2,28=1/1;\n",
    " 99/5=1,9=1/99;\n",
    "\n",
    " B3LYP/6-31G(d) stable=opt\n",
    " -------------------------\n",
    " 1/38=1/1;\n",
    " 2/12=2,17=6,18=5,40=1/2;\n",
    " 3/5=1,6=6,7=1,11=2,16=1,25=1,30=1,74=-5/1,2,3;\n",
    " 4//1;\n",
    " 5/5=2,38=5/2;\n",
    " 6/7=2,8=2,9=2,10=2,28=1/1;\n",
    "* 8/6=1,10=90,11=11/1;\n",
    "* 9/8=-3,42=1,46=1/14;\n",
    "* 5/5=2,8=3,17=40,38=5/8(-2);\n",
    " 6/7=2,8=2,9=2,10=2,28=1/1;\n",
    " 99/5=1,9=1/99;\n",
    "\n",
    " oniom(B3LYP/6-31G(d):HF/STO-3G)\n",
    " -------------------------------\n",
    "#HF part\n",
    "& 1/38=1,52=2/1;\n",
    " 2/12=2,17=6,18=5,40=1/2;\n",
    "* 1/38=1,52=2,53=3172/20;\n",
    " 3/6=3,11=9,16=1,25=1,30=1/1,2,3;\n",
    " 4//1;\n",
    " 5/5=2,38=5/2;\n",
    " 6/7=2,8=2,9=2,10=2,28=1/1;\n",
    "#B3LYP part\n",
    "* 1/52=2,53=2032/20;\n",
    "&/* 3/5=1,6=6,7=1,11=2,16=1,25=1,30=1,74=-5/1,2,3;\n",
    " 4//1;\n",
    " 5/5=2,38=5/2;\n",
    " 6/7=2,8=2,9=2,10=2,28=1/1;\n",
    "#HF part?\n",
    " 1/52=2,53=1022/20;\n",
    " 3/6=3,11=9,16=1,25=1,30=1/1,2,3;\n",
    " 4//1;\n",
    " 5/5=2,38=5/2;\n",
    " 6/7=2,8=2,9=2,10=2,28=1/1;\n",
    " 1/52=2,53=3014/20;\n",
    " 99/5=1,9=1/99;\n",
    " \n",
    " oniom(B3LYP/6-31G(d):pm6)\n",
    " -------------------------------\n",
    "#init\n",
    " 1/38=1,52=2/1;\n",
    " 2/12=2,17=6,18=5,40=1/2;\n",
    "#pm6 real part\n",
    " 1/38=1,52=2,53=3172/20;\n",
    " 3/5=2,16=1,25=1,41=3900000/1,2,3;\n",
    " 4/35=1/1;\n",
    " 5/5=2,35=1,38=5/2;\n",
    " 6/7=2,8=2,9=2,10=2,28=1/1;\n",
    "#B3LYP model part \n",
    "1/52=2,53=2032/20;\n",
    " 3/5=1,6=6,7=1,11=2,16=1,25=1,30=1,74=-5/1,2,3;\n",
    " 4//1;\n",
    " 5/5=2,38=5/2;\n",
    " 6/7=2,8=2,9=2,10=2,28=1/1;\n",
    "#pm6 model\n",
    " 1/52=2,53=1022/20;\n",
    " 3/5=2,16=1,25=1,41=3900000/1,2,3;\n",
    " 4/35=1/1;\n",
    " 5/5=2,35=1,38=5/2;\n",
    " 6/7=2,8=2,9=2,10=2,28=1/1;\n",
    " 1/52=2,53=3014/20;\n",
    " 99/5=1,9=1/99;\n",
    "\n",
    "\n",
    " 1/38=1/1;\n",
    " 2/12=2,17=6,18=5,40=1/2;\n",
    " 3/5=2,16=1,25=1,41=3900000/1,2,3;\n",
    " 4/35=1/1;\n",
    " 5/5=2,35=1,38=5/2;\n",
    " 6/7=2,8=2,9=2,10=2,28=1/1;\n",
    " 99/5=1,9=1/99;\n",
    "\n",
    " 1/38=1/1;\n",
    " 2/12=2,17=6,18=5,40=1/2;\n",
    "&/* 3/5=1,6=6,7=1,11=2,16=1,25=1,30=1,74=-5/1,2,3;\n",
    " 4//1;\n",
    " 5/5=2,38=5/2;\n",
    " 6/7=2,8=2,9=2,10=2,28=1/1;\n",
    " 99/5=1,9=1/99;\n",
    "\n",
    " 1/38=1/1;\n",
    " 2/12=2,17=6,18=5,40=1/2;\n",
    " 3/5=2,16=1,25=1,41=3900000/1,2,3;\n",
    " 4/35=1/1;\n",
    " 5/5=2,35=1,38=5/2;\n",
    " 6/7=2,8=2,9=2,10=2,28=1/1;\n",
    " 99/5=1,9=1/99;"
   ]
  },
  {
   "cell_type": "raw",
   "metadata": {},
   "source": [
    "Stable for pm6:\n",
    "\n",
    "5//2\n",
    "8/6=1,10=90,11=11/1;\n",
    "9/8=-1,42=1/14;\n",
    "6//1\n",
    "\n",
    "for B3LYP:\n",
    "5//2\n",
    "8/6=1,10=90,11=11/1;\n",
    "9/8=-1,42=1/14\n",
    "6//1\n",
    "\n",
    "I.e. after 5//2 before 6//1\n",
    "\n",
    "Stable=opt:\n",
    "\n",
    "6//1\n",
    "8/6=1,10=90,11=11/1;\n",
    "9/8=-3,42=1,46=1/14;\n",
    "5/5=2,8=3,17=40,38=5/8(-2);\n",
    "6//1\n",
    "\n",
    "I.e. after 6//1 then we repeat 6//1 a second time\n",
    "\n",
    "\n",
    "#init\n",
    " 1/38=1,52=2/1;\n",
    " 2/12=2,17=6,18=5,40=1/2;\n",
    "#pm6 real part\n",
    " 1/38=1,52=2,53=3172/20;\n",
    " 3/5=2,16=1,25=1,41=3900000/1,2,3;\n",
    " 4/35=1/1;\n",
    " 5/5=2,35=1,38=5/2;\n",
    " 6/7=2,8=2,9=2,10=2,28=1/1;\n",
    "#B3LYP model part \n",
    "1/52=2,53=2032/20;\n",
    " 3/5=1,6=6,7=1,11=2,16=1,25=1,30=1,74=-5/1,2,3;\n",
    " 4//1;\n",
    " 5/5=2,38=5/2;\n",
    " 6/7=2,8=2,9=2,10=2,28=1/1;\n",
    "#pm6 model\n",
    " 1/52=2,53=1022/20;\n",
    " 3/5=2,16=1,25=1,41=3900000/1,2,3;\n",
    " 4/35=1/1;\n",
    " 5/5=2,35=1,38=5/2;\n",
    " 6/7=2,8=2,9=2,10=2,28=1/1;\n",
    " 1/52=2,53=3014/20;\n",
    " 99/5=1,9=1/99;\n",
    "\n",
    "So expected oniom(B3LYP/6-31G(d):pm6) stable:\n",
    "\n",
    "1/38=1,52=2/1;\n",
    "2/12=2,17=6,18=5,40=1/2;\n",
    "1/38=1,52=2,53=3172/20;\n",
    "3/5=2,16=1,25=1,41=3900000/1,2,3;\n",
    "4/35=1/1;\n",
    "5/5=2,35=1,38=5/2;\n",
    "8/6=1,10=90,11=11/1;\n",
    "9/8=-1,42=1,49=10/14;\n",
    "6/7=2,8=2,9=2,10=2,28=1/1;\n",
    "1/52=2,53=2032/20;\n",
    "3/5=1,6=6,7=1,11=2,16=1,25=1,30=1,74=-5/1,2,3;\n",
    "4//1;\n",
    "5/5=2,38=5/2;\n",
    "8/6=1,10=90,11=11/1;\n",
    "9/8=-1,42=1/14;\n",
    "6/7=2,8=2,9=2,10=2,28=1/1;\n",
    "1/52=2,53=1022/20;\n",
    "3/5=2,16=1,25=1,41=3900000/1,2,3;\n",
    "4/35=1/1;\n",
    "5/5=2,35=1,38=5/2;\n",
    "8/6=1,10=90,11=11/1;\n",
    "9/8=-1,42=1,49=10/14;\n",
    "6/7=2,8=2,9=2,10=2,28=1/1;\n",
    "1/52=2,53=3014/20;\n",
    "99/5=1,9=1/99;\n"
   ]
  },
  {
   "cell_type": "code",
   "execution_count": 11,
   "metadata": {
    "collapsed": false
   },
   "outputs": [],
   "source": [
    "trial_rt = \"\"\"1/38=1,52=2/1;\n",
    "2/12=2,17=6,18=5,40=1/2;\n",
    "1/38=1,52=2,53=3172/20;\n",
    "3/5=2,16=1,25=1,41=3900000/1,2,3;\n",
    "4/35=1/1;\n",
    "5/5=2,35=1,38=5/2;\n",
    "8/6=1,10=90,11=11/1;\n",
    "9/8=-1,42=1,49=10/14;\n",
    "6/7=2,8=2,9=2,10=2,28=1/1;\n",
    "1/52=2,53=2032/20;\n",
    "3/5=1,6=6,7=1,11=2,16=1,25=1,30=1,74=-5/1,2,3;\n",
    "4//1;\n",
    "5/5=2,38=5/2;\n",
    "8/6=1,10=90,11=11/1;\n",
    "9/8=-1,42=1/14;\n",
    "6/7=2,8=2,9=2,10=2,28=1/1;\n",
    "1/52=2,53=1022/20;\n",
    "3/5=2,16=1,25=1,41=3900000/1,2,3;\n",
    "4/35=1/1;\n",
    "5/5=2,35=1,38=5/2;\n",
    "8/6=1,10=90,11=11/1;\n",
    "9/8=-1,42=1,49=10/14;\n",
    "6/7=2,8=2,9=2,10=2,28=1/1;\n",
    "1/52=2,53=3014/20;\n",
    "99/5=1,9=1/99;\"\"\""
   ]
  },
  {
   "cell_type": "code",
   "execution_count": 12,
   "metadata": {
    "collapsed": false
   },
   "outputs": [
    {
     "name": "stderr",
     "output_type": "stream",
     "text": [
      "/home/clyde/Project/Code/Python/gausspy/gaussian.py:1407: RuntimeWarning: Calculation already performed but incomplete, overwriting\n",
      "  warnings.warn(RuntimeWarning('Calculation already performed but incomplete, overwriting'))\n"
     ]
    }
   ],
   "source": [
    "cntrl_test = read(azo_44_ts_xyz)\n",
    "cntrl_test.set_calculator(Gaussian(label='cntrl_test', method='oniom(B3LYP/6-31G(d):pm6)', basis='oniom'))\n",
    "cntrl_test_H = ylide_atoms + graph_atoms[3]\n",
    "cntrl_test.calc.oniom_coord_params['layers'] = [[no -1 for no in azo_ts_test_H]]\n",
    "cntrl_test.calc.oniom_coord_params['layer_mults'] = [1,1]\n",
    "cntrl_test.calc.set_job(nodes=12, memory=12*1600, time=5, queue='pqmb', version='g09')\n",
    "cntrl_test.calc.start()"
   ]
  },
  {
   "cell_type": "code",
   "execution_count": 13,
   "metadata": {
    "collapsed": false
   },
   "outputs": [],
   "source": [
    "crt_test = read(azo_44_ts_xyz)\n",
    "crt_test.set_calculator(Gaussian(label='crt_test', method='oniom(B3LYP/6-31G(d):pm6)', basis='oniom', non_std_route=trial_rt))\n",
    "crt_test_H = ylide_atoms + graph_atoms[3]\n",
    "crt_test.calc.oniom_coord_params['layers'] = [[no -1 for no in azo_ts_test_H]]\n",
    "crt_test.calc.oniom_coord_params['layer_mults'] = [1,1]\n",
    "crt_test.calc.set_job(nodes=12, memory=12*1600, time=5, queue='pqmb', version='g09')\n",
    "crt_test.calc.start()"
   ]
  },
  {
   "cell_type": "code",
   "execution_count": 15,
   "metadata": {
    "collapsed": false
   },
   "outputs": [
    {
     "data": {
      "text/html": [
       "\n",
       "    <style>\n",
       "    table\n",
       "    {\n",
       "        border-collapse:collapse;\n",
       "    }\n",
       "    td\n",
       "    {\n",
       "        padding:15px;\n",
       "    }\n",
       "    </style>\n",
       "    <body>\n",
       "    <table bgcolor=\"white\">\n",
       "    <col/><tr><td>cntrl_test</td><td><a href = \"files/test_cases/oniom_stable/cntrl_test.com\" target = \"_blank\">com</a></td><td><input type=\"button\" value=\"Smart Log\" id=\"cntrl_test\" onclick=\"IPython.cc_notebook.view_function(event, this.id)\" /></td><td>Success</td></tr><tr><td>crt_test</td><td><a href = \"files/test_cases/oniom_stable/crt_test.com\" target = \"_blank\">com</a></td><td><input type=\"button\" value=\"Smart Log\" id=\"crt_test\" onclick=\"IPython.cc_notebook.view_function(event, this.id)\" /></td><td>Success</td></tr>\n",
       "    </table>\n",
       "    </body>"
      ],
      "text/plain": [
       "<IPython.core.display.HTML at 0x7fbf93a56cd0>"
      ]
     },
     "execution_count": 15,
     "metadata": {},
     "output_type": "execute_result"
    }
   ],
   "source": [
    "check_calcs([cntrl_test, crt_test])\n",
    "mols_to_html([cntrl_test, crt_test])"
   ]
  },
  {
   "cell_type": "code",
   "execution_count": null,
   "metadata": {
    "collapsed": false
   },
   "outputs": [],
   "source": []
  }
 ],
 "metadata": {
  "kernelspec": {
   "display_name": "Python 2",
   "language": "python",
   "name": "python2"
  },
  "language_info": {
   "codemirror_mode": {
    "name": "ipython",
    "version": 2
   },
   "file_extension": ".py",
   "mimetype": "text/x-python",
   "name": "python",
   "nbconvert_exporter": "python",
   "pygments_lexer": "ipython2",
   "version": "2.7.11"
  }
 },
 "nbformat": 4,
 "nbformat_minor": 0
}
