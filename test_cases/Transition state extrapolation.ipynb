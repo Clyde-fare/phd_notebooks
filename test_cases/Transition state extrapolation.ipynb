{
 "metadata": {
  "name": "",
  "signature": "sha256:77bbfb6dae845f52d57ab9083a06f8d6bbc9f190d17c3d99cff26282f26707b6"
 },
 "nbformat": 3,
 "nbformat_minor": 0,
 "worksheets": [
  {
   "cells": [
    {
     "cell_type": "markdown",
     "metadata": {},
     "source": [
      "Can we use extrapolation to help find transition states of compounds in a series?\n",
      "\n",
      "I.e. Find transition state for compound 1 via choosing starting geom through chemical intuition then using standard TS finding algorithms.\n",
      "     Find transition state for compound 2 via choosing starting geom through chemical intuition then using standard TS finding algorithms.\n",
      "     Then for compound 3 pick starting geometry by extrapolating from compound 1 and 2."
     ]
    },
    {
     "cell_type": "markdown",
     "metadata": {},
     "source": [
      "If we start with a linear molecule of XXXXY, and we imagine moving the location of Y. Can we find a way to represent the changes in the geometry as a single $\\delta$ such that compound 1 geom = Base geom + $\\delta$ geom, compound 2 geom = base geom + $2*\\delta$ geon ... etc.\n",
      "\n",
      "If we could do this we could construct a linear model for the position of the transition state and use this to find a starting point for the TS optimisation for compound 3. With more data points we could use more sophisticated non-linear methods"
     ]
    },
    {
     "cell_type": "code",
     "collapsed": false,
     "input": [],
     "language": "python",
     "metadata": {},
     "outputs": [],
     "prompt_number": 0
    },
    {
     "cell_type": "code",
     "collapsed": false,
     "input": [
      "#Start with a vector to specify the geometry of our 1d molecules.\n",
      "\n",
      "g1 = [1.,2.,3.,4.,5.] #XXXXL\n",
      "g2 = [1.,2.,3.,5.,4.] #XXXLX\n",
      "g3 = [1.,2.,4.,5.,3.] #XXLXX\n",
      "g4 = [1.,3.,4.,5.,2.] #XLXXX\n",
      "g5 = [2.,3.,4.,5.,1.] #LXXXX"
     ],
     "language": "python",
     "metadata": {},
     "outputs": [],
     "prompt_number": 18
    },
    {
     "cell_type": "code",
     "collapsed": false,
     "input": [
      "import numpy as np\n",
      "\n",
      "g1 = np.array(g1)\n",
      "g2 = np.array(g2)\n",
      "g3 = np.array(g3)\n",
      "g4 = np.array(g4)\n",
      "g5 = np.array(g5)"
     ],
     "language": "python",
     "metadata": {},
     "outputs": [],
     "prompt_number": 27
    },
    {
     "cell_type": "code",
     "collapsed": false,
     "input": [
      "1/(g1+1)"
     ],
     "language": "python",
     "metadata": {},
     "outputs": [
      {
       "metadata": {},
       "output_type": "pyout",
       "prompt_number": 11,
       "text": [
        "array([1, 0, 0, 0, 0])"
       ]
      }
     ],
     "prompt_number": 11
    },
    {
     "cell_type": "code",
     "collapsed": false,
     "input": [
      "np.dot(g1,1/g1)"
     ],
     "language": "python",
     "metadata": {},
     "outputs": [
      {
       "metadata": {},
       "output_type": "pyout",
       "prompt_number": 20,
       "text": [
        "5.0"
       ]
      }
     ],
     "prompt_number": 20
    },
    {
     "cell_type": "code",
     "collapsed": false,
     "input": [
      "np.dot(g1,g1)"
     ],
     "language": "python",
     "metadata": {},
     "outputs": [
      {
       "metadata": {},
       "output_type": "pyout",
       "prompt_number": 22,
       "text": [
        "55.0"
       ]
      }
     ],
     "prompt_number": 22
    },
    {
     "cell_type": "code",
     "collapsed": false,
     "input": [
      "np.outer(g2, g1/55)"
     ],
     "language": "python",
     "metadata": {},
     "outputs": [
      {
       "metadata": {},
       "output_type": "pyout",
       "prompt_number": 26,
       "text": [
        "array([[ 0.01818182,  0.03636364,  0.05454545,  0.07272727,  0.09090909],\n",
        "       [ 0.03636364,  0.07272727,  0.10909091,  0.14545455,  0.18181818],\n",
        "       [ 0.05454545,  0.10909091,  0.16363636,  0.21818182,  0.27272727],\n",
        "       [ 0.09090909,  0.18181818,  0.27272727,  0.36363636,  0.45454545],\n",
        "       [ 0.07272727,  0.14545455,  0.21818182,  0.29090909,  0.36363636]])"
       ]
      }
     ],
     "prompt_number": 26
    },
    {
     "cell_type": "code",
     "collapsed": false,
     "input": [
      "np.dot(np.outer(g2,g1/55),g1)"
     ],
     "language": "python",
     "metadata": {},
     "outputs": [
      {
       "metadata": {},
       "output_type": "pyout",
       "prompt_number": 36,
       "text": [
        "array([ 1.,  2.,  3.,  5.,  4.])"
       ]
      }
     ],
     "prompt_number": 36
    },
    {
     "cell_type": "code",
     "collapsed": false,
     "input": [
      "g1"
     ],
     "language": "python",
     "metadata": {},
     "outputs": [
      {
       "metadata": {},
       "output_type": "pyout",
       "prompt_number": 33,
       "text": [
        "array([ 1.,  2.,  3.,  4.,  5.])"
       ]
      }
     ],
     "prompt_number": 33
    },
    {
     "cell_type": "code",
     "collapsed": false,
     "input": [
      "np.outer(g2,0.2/g1)"
     ],
     "language": "python",
     "metadata": {},
     "outputs": [
      {
       "metadata": {},
       "output_type": "pyout",
       "prompt_number": 34,
       "text": [
        "array([[ 0.2       ,  0.1       ,  0.06666667,  0.05      ,  0.04      ],\n",
        "       [ 0.4       ,  0.2       ,  0.13333333,  0.1       ,  0.08      ],\n",
        "       [ 0.6       ,  0.3       ,  0.2       ,  0.15      ,  0.12      ],\n",
        "       [ 1.        ,  0.5       ,  0.33333333,  0.25      ,  0.2       ],\n",
        "       [ 0.8       ,  0.4       ,  0.26666667,  0.2       ,  0.16      ]])"
       ]
      }
     ],
     "prompt_number": 34
    },
    {
     "cell_type": "code",
     "collapsed": false,
     "input": [],
     "language": "python",
     "metadata": {},
     "outputs": []
    }
   ],
   "metadata": {}
  }
 ]
}