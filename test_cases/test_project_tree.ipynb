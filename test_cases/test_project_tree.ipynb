{
 "metadata": {
  "name": ""
 },
 "nbformat": 3,
 "nbformat_minor": 0,
 "worksheets": [
  {
   "cells": [
    {
     "cell_type": "markdown",
     "metadata": {},
     "source": [
      "In this project I will try to construct a mockup of an alternative dashboard that represents notebooks as clickable nodes in a network. Nodes will be coloured by an arbitrary grouping function and linked if the notebooks contain url style links to one another (example notebook [link](localhost:8888/notebooks/IPython%20mindmap%20Project2.ipynb)). The mock dashboard will use d3.js and a forcedirected graph."
     ]
    },
    {
     "cell_type": "code",
     "collapsed": false,
     "input": [
      "import re, os , fnmatch, urllib2, json\n",
      "from collections import OrderedDict\n",
      "from IPython.display import Javascript\n",
      "#from IPython.html.services.notebooks.filenbmanager import FileNotebookManager\n",
      "from IPython.html.services.notebooks.handlers import NotebookHandler"
     ],
     "language": "python",
     "metadata": {},
     "outputs": [],
     "prompt_number": 6
    },
    {
     "cell_type": "code",
     "collapsed": false,
     "input": [
      "#fetch d3 from cloudflare\n",
      "Javascript(\"\"\"$.getScript('//cdnjs.cloudflare.com/ajax/libs/d3/3.2.2/d3.v3.min.js')\"\"\")"
     ],
     "language": "python",
     "metadata": {},
     "outputs": [
      {
       "javascript": [
        "$.getScript('//cdnjs.cloudflare.com/ajax/libs/d3/3.2.2/d3.v3.min.js')"
       ],
       "metadata": {},
       "output_type": "pyout",
       "prompt_number": 2,
       "text": [
        "<IPython.core.display.Javascript at 0x2833510>"
       ]
      }
     ],
     "prompt_number": 2
    },
    {
     "cell_type": "code",
     "collapsed": false,
     "input": [
      "flatten = lambda l:(e for sl in l for e in sl)\n",
      "\n",
      "def extract_nb_links(markdown_cells):\n",
      "    \"\"\"Takes a list of markdown cells and extracts any links to other notebooks present\"\"\"\n",
      "    \n",
      "    nb_link_extractor = re.compile(\"localhost:\\d\\d\\d\\d\\S+ipynb\")\n",
      "    \n",
      "    nb_link_finds = [nb_link_extractor.findall(cell['source']) for cell in markdown_cells]\n",
      "    nb_links = flatten([f for f in nb_link_finds if f])    \n",
      "    return nb_links\n",
      "\n",
      "def full_nb_paths(nb_links):\n",
      "    \"\"\"Converts a list of local url notebook links to a list of full notebook file paths\"\"\"\n",
      "    \n",
      "    nb_path_extractor = re.compile(\"(?<=localhost:\\d\\d\\d\\d/)\\S+ipynb\")\n",
      "    \n",
      "    raw_nb_file_paths =  [nb_path_extractor.search(nb_link).group() for nb_link in nb_links]\n",
      "    nb_file_paths = [os.path.abspath(urllib2.url2pathname(nb_path)) for nb_path in raw_nb_file_paths]\n",
      "    return nb_file_paths\n",
      "\n",
      "def get_markdown_cells(nb_file_path):\n",
      "    \"\"\"Takes a notebook file path and extracts the markdown cells present\"\"\"\n",
      "    nb_manager = FileNotebookManager()\n",
      "    \n",
      "    #try:\n",
      "    #notebook = nb_manager.read_notebook_object_from_path(nb_file_path)\n",
      "    notebook = nb_manager.get_notebook_model(name=os.path.split(nb_file_path)[1].replace('.ipynb', ''),path=os.path.split(nb_file_path)[0])\n",
      "    #except OSError:\n",
      "    #    return project_graph\n",
      "    \n",
      "    try:\n",
      "        markdown_cells = [cell for cell in notebook[1]['worksheets'][0]['cells'] \n",
      "                          if cell['cell_type'] == 'markdown']    \n",
      "    except IndexError:\n",
      "        markdown_cells = []\n",
      "    return markdown_cells\n",
      "\n",
      "def get_linked_nbs(nb_file_path, project_graph=None):\n",
      "    \"\"\"Recursively extracts all notebooks linked to one another starting with those linked to nb_file_path.\n",
      "    Returns a dictionary with keys corresponding to each individual notebook and values corresponding \n",
      "    to all other notebooks linked to the key\"\"\"\n",
      "    \n",
      "    if not project_graph:\n",
      "        project_graph = OrderedDict()\n",
      "     \n",
      "    markdown_cells = get_markdown_cells(nb_file_path)\n",
      "    raw_nb_links = extract_nb_links(markdown_cells)\n",
      "    nb_links = sorted( full_nb_paths(raw_nb_links) )\n",
      "\n",
      "    project_graph.update({nb_file_path:nb_links})\n",
      "            \n",
      "    for nb_file_path in nb_links:\n",
      "        if nb_file_path not in project_graph:\n",
      "            get_linked_nbs(nb_file_path, project_graph)\n",
      "        \n",
      "    return project_graph\n",
      "\n",
      "def get_project_graph(path=''):\n",
      "    \"\"\"Extracts a dictionary of notebook file paths keys and lists of linked notebook file paths values\n",
      "    starting with all notebooks in the current directory and recursively searching all sub directories\"\"\"\n",
      "    \n",
      "    nb_paths = []\n",
      "    for root, dirnames, filenames in os.walk(path):\n",
      "        for filename in fnmatch.filter(filenames, '*.ipynb'):\n",
      "            #using unicode and realpath because full_nb_paths() generates unicode fullpaths\n",
      "            if '.ipynb_checkpoints' not in root:\n",
      "                nb_paths.append(unicode(os.path.realpath(os.path.join(root, filename))))\n",
      "   \n",
      "    project_graph = OrderedDict()\n",
      "    for nb_file_path in nb_paths:\n",
      "        project_graph = get_linked_nbs(nb_file_path, project_graph)\n",
      "        \n",
      "    #using an OrderedDict to help debugging \n",
      "    return OrderedDict(sorted(project_graph.items()))\n",
      "\n",
      "def get_nb_group(nb_path):\n",
      "    \"\"\"Trial function to assign colours to notebooks\"\"\"\n",
      "    \n",
      "    if 'dead' in nb_path:\n",
      "        return 1\n",
      "    elif 'analysis' in nb_path:\n",
      "        return 0\n",
      "    elif 'final' in nb_path:\n",
      "        return 4\n",
      "    else:\n",
      "        return 3\n",
      "\n",
      "def get_json(project_graph):\n",
      "    \"\"\"Constructs a json representation of the project_graph\"\"\"\n",
      "    nodes, links = [], []\n",
      "    \n",
      "    for nb_path in project_graph:\n",
      "        nb_name = os.path.basename(nb_path).replace('.ipynb','')\n",
      "        rel_nb_path = os.path.relpath(nb_path)\n",
      "        linked_nb_paths = project_graph[nb_path]\n",
      "        \n",
      "        node = {'name': nb_name, 'url':rel_nb_path, 'group':get_nb_group(nb_name)}\n",
      "        \n",
      "        #need to check because we might have found this node already as a link\n",
      "        if node not in nodes:\n",
      "            nodes.append(node)\n",
      "        \n",
      "        for linked_nb_path in linked_nb_paths:\n",
      "            linked_nb_name = os.path.basename(linked_nb_path).replace('.ipynb','')\n",
      "            linked_rel_nb_path = os.path.relpath(linked_nb_path)\n",
      "            \n",
      "            try:\n",
      "                link_node = next(n for n in nodes if n.get('name') == linked_nb_name)\n",
      "            except StopIteration:\n",
      "                link_node = {'name':linked_nb_name, 'url':linked_rel_nb_path, 'group':get_nb_group(linked_nb_name)}\n",
      "                nodes.append(link_node)\n",
      "            \n",
      "            edge = {'source':nodes.index(node), 'target':nodes.index(link_node), 'value':1}\n",
      "            links.append(edge)\n",
      "    return json.dumps({'nodes':nodes, 'links':links}, sort_keys=True,indent=4, separators=(',', ': '))"
     ],
     "language": "python",
     "metadata": {},
     "outputs": [],
     "prompt_number": 7
    },
    {
     "cell_type": "code",
     "collapsed": false,
     "input": [
      "project_graph.keys()"
     ],
     "language": "python",
     "metadata": {},
     "outputs": [
      {
       "ename": "NameError",
       "evalue": "name 'project_graph' is not defined",
       "output_type": "pyerr",
       "traceback": [
        "\u001b[1;31m---------------------------------------------------------------------------\u001b[0m\n\u001b[1;31mNameError\u001b[0m                                 Traceback (most recent call last)",
        "\u001b[1;32m<ipython-input-4-841a12abed68>\u001b[0m in \u001b[0;36m<module>\u001b[1;34m()\u001b[0m\n\u001b[1;32m----> 1\u001b[1;33m \u001b[0mproject_graph\u001b[0m\u001b[1;33m.\u001b[0m\u001b[0mkeys\u001b[0m\u001b[1;33m(\u001b[0m\u001b[1;33m)\u001b[0m\u001b[1;33m\u001b[0m\u001b[0m\n\u001b[0m",
        "\u001b[1;31mNameError\u001b[0m: name 'project_graph' is not defined"
       ]
      }
     ],
     "prompt_number": 4
    },
    {
     "cell_type": "code",
     "collapsed": false,
     "input": [
      "project_graph[project_graph.keys()[2]]"
     ],
     "language": "python",
     "metadata": {},
     "outputs": [
      {
       "metadata": {},
       "output_type": "pyout",
       "prompt_number": 29,
       "text": [
        "[]"
       ]
      }
     ],
     "prompt_number": 29
    },
    {
     "cell_type": "code",
     "collapsed": false,
     "input": [
      "#nb_path_extractor = re.compile(\"(?<=localhost:\\d\\d\\d\\d/)\\S+ipynb\")\n",
      "#l='localhost://8888:calculations_2.ipynb'\n",
      "#proc_l=nb_path_extractor.search(l).group()\n",
      "#os.path.abspath(urllib2.url2pathname(proc_l))"
     ],
     "language": "python",
     "metadata": {},
     "outputs": [],
     "prompt_number": 33
    },
    {
     "cell_type": "code",
     "collapsed": false,
     "input": [
      "project_dir = '/home/clyde/Project/Notebooks/test_cases/test_project_tree/'\n",
      "json_tree = 'test_tree.json'\n",
      "\n",
      "project_graph = get_project_graph(project_dir)\n",
      "\n",
      "with open(json_tree, 'w') as json_f:\n",
      "    json_f.write(get_json(project_graph))"
     ],
     "language": "python",
     "metadata": {},
     "outputs": [
      {
       "ename": "AttributeError",
       "evalue": "'FileNotebookManager' object has no attribute 'get_notebook_model'",
       "output_type": "pyerr",
       "traceback": [
        "\u001b[1;31m---------------------------------------------------------------------------\u001b[0m\n\u001b[1;31mAttributeError\u001b[0m                            Traceback (most recent call last)",
        "\u001b[1;32m<ipython-input-8-3ffc026cb370>\u001b[0m in \u001b[0;36m<module>\u001b[1;34m()\u001b[0m\n\u001b[0;32m      2\u001b[0m \u001b[0mjson_tree\u001b[0m \u001b[1;33m=\u001b[0m \u001b[1;34m'test_tree.json'\u001b[0m\u001b[1;33m\u001b[0m\u001b[0m\n\u001b[0;32m      3\u001b[0m \u001b[1;33m\u001b[0m\u001b[0m\n\u001b[1;32m----> 4\u001b[1;33m \u001b[0mproject_graph\u001b[0m \u001b[1;33m=\u001b[0m \u001b[0mget_project_graph\u001b[0m\u001b[1;33m(\u001b[0m\u001b[0mproject_dir\u001b[0m\u001b[1;33m)\u001b[0m\u001b[1;33m\u001b[0m\u001b[0m\n\u001b[0m\u001b[0;32m      5\u001b[0m \u001b[1;33m\u001b[0m\u001b[0m\n\u001b[0;32m      6\u001b[0m \u001b[1;32mwith\u001b[0m \u001b[0mopen\u001b[0m\u001b[1;33m(\u001b[0m\u001b[0mjson_tree\u001b[0m\u001b[1;33m,\u001b[0m \u001b[1;34m'w'\u001b[0m\u001b[1;33m)\u001b[0m \u001b[1;32mas\u001b[0m \u001b[0mjson_f\u001b[0m\u001b[1;33m:\u001b[0m\u001b[1;33m\u001b[0m\u001b[0m\n",
        "\u001b[1;32m<ipython-input-7-5f98bea059bb>\u001b[0m in \u001b[0;36mget_project_graph\u001b[1;34m(path)\u001b[0m\n\u001b[0;32m     69\u001b[0m     \u001b[0mproject_graph\u001b[0m \u001b[1;33m=\u001b[0m \u001b[0mOrderedDict\u001b[0m\u001b[1;33m(\u001b[0m\u001b[1;33m)\u001b[0m\u001b[1;33m\u001b[0m\u001b[0m\n\u001b[0;32m     70\u001b[0m     \u001b[1;32mfor\u001b[0m \u001b[0mnb_file_path\u001b[0m \u001b[1;32min\u001b[0m \u001b[0mnb_paths\u001b[0m\u001b[1;33m:\u001b[0m\u001b[1;33m\u001b[0m\u001b[0m\n\u001b[1;32m---> 71\u001b[1;33m         \u001b[0mproject_graph\u001b[0m \u001b[1;33m=\u001b[0m \u001b[0mget_linked_nbs\u001b[0m\u001b[1;33m(\u001b[0m\u001b[0mnb_file_path\u001b[0m\u001b[1;33m,\u001b[0m \u001b[0mproject_graph\u001b[0m\u001b[1;33m)\u001b[0m\u001b[1;33m\u001b[0m\u001b[0m\n\u001b[0m\u001b[0;32m     72\u001b[0m \u001b[1;33m\u001b[0m\u001b[0m\n\u001b[0;32m     73\u001b[0m     \u001b[1;31m#using an OrderedDict to help debugging\u001b[0m\u001b[1;33m\u001b[0m\u001b[1;33m\u001b[0m\u001b[0m\n",
        "\u001b[1;32m<ipython-input-7-5f98bea059bb>\u001b[0m in \u001b[0;36mget_linked_nbs\u001b[1;34m(nb_file_path, project_graph)\u001b[0m\n\u001b[0;32m     44\u001b[0m         \u001b[0mproject_graph\u001b[0m \u001b[1;33m=\u001b[0m \u001b[0mOrderedDict\u001b[0m\u001b[1;33m(\u001b[0m\u001b[1;33m)\u001b[0m\u001b[1;33m\u001b[0m\u001b[0m\n\u001b[0;32m     45\u001b[0m \u001b[1;33m\u001b[0m\u001b[0m\n\u001b[1;32m---> 46\u001b[1;33m     \u001b[0mmarkdown_cells\u001b[0m \u001b[1;33m=\u001b[0m \u001b[0mget_markdown_cells\u001b[0m\u001b[1;33m(\u001b[0m\u001b[0mnb_file_path\u001b[0m\u001b[1;33m)\u001b[0m\u001b[1;33m\u001b[0m\u001b[0m\n\u001b[0m\u001b[0;32m     47\u001b[0m     \u001b[0mraw_nb_links\u001b[0m \u001b[1;33m=\u001b[0m \u001b[0mextract_nb_links\u001b[0m\u001b[1;33m(\u001b[0m\u001b[0mmarkdown_cells\u001b[0m\u001b[1;33m)\u001b[0m\u001b[1;33m\u001b[0m\u001b[0m\n\u001b[0;32m     48\u001b[0m     \u001b[0mnb_links\u001b[0m \u001b[1;33m=\u001b[0m \u001b[0msorted\u001b[0m\u001b[1;33m(\u001b[0m \u001b[0mfull_nb_paths\u001b[0m\u001b[1;33m(\u001b[0m\u001b[0mraw_nb_links\u001b[0m\u001b[1;33m)\u001b[0m \u001b[1;33m)\u001b[0m\u001b[1;33m\u001b[0m\u001b[0m\n",
        "\u001b[1;32m<ipython-input-7-5f98bea059bb>\u001b[0m in \u001b[0;36mget_markdown_cells\u001b[1;34m(nb_file_path)\u001b[0m\n\u001b[0;32m     25\u001b[0m     \u001b[1;31m#try:\u001b[0m\u001b[1;33m\u001b[0m\u001b[1;33m\u001b[0m\u001b[0m\n\u001b[0;32m     26\u001b[0m     \u001b[1;31m#notebook = nb_manager.read_notebook_object_from_path(nb_file_path)\u001b[0m\u001b[1;33m\u001b[0m\u001b[1;33m\u001b[0m\u001b[0m\n\u001b[1;32m---> 27\u001b[1;33m     \u001b[0mnotebook\u001b[0m \u001b[1;33m=\u001b[0m \u001b[0mnb_manager\u001b[0m\u001b[1;33m.\u001b[0m\u001b[0mget_notebook_model\u001b[0m\u001b[1;33m(\u001b[0m\u001b[0mname\u001b[0m\u001b[1;33m=\u001b[0m\u001b[0mos\u001b[0m\u001b[1;33m.\u001b[0m\u001b[0mpath\u001b[0m\u001b[1;33m.\u001b[0m\u001b[0msplit\u001b[0m\u001b[1;33m(\u001b[0m\u001b[0mnb_file_path\u001b[0m\u001b[1;33m)\u001b[0m\u001b[1;33m[\u001b[0m\u001b[1;36m1\u001b[0m\u001b[1;33m]\u001b[0m\u001b[1;33m.\u001b[0m\u001b[0mreplace\u001b[0m\u001b[1;33m(\u001b[0m\u001b[1;34m'.ipynb'\u001b[0m\u001b[1;33m,\u001b[0m \u001b[1;34m''\u001b[0m\u001b[1;33m)\u001b[0m\u001b[1;33m,\u001b[0m\u001b[0mpath\u001b[0m\u001b[1;33m=\u001b[0m\u001b[0mos\u001b[0m\u001b[1;33m.\u001b[0m\u001b[0mpath\u001b[0m\u001b[1;33m.\u001b[0m\u001b[0msplit\u001b[0m\u001b[1;33m(\u001b[0m\u001b[0mnb_file_path\u001b[0m\u001b[1;33m)\u001b[0m\u001b[1;33m[\u001b[0m\u001b[1;36m0\u001b[0m\u001b[1;33m]\u001b[0m\u001b[1;33m)\u001b[0m\u001b[1;33m\u001b[0m\u001b[0m\n\u001b[0m\u001b[0;32m     28\u001b[0m     \u001b[1;31m#except OSError:\u001b[0m\u001b[1;33m\u001b[0m\u001b[1;33m\u001b[0m\u001b[0m\n\u001b[0;32m     29\u001b[0m     \u001b[1;31m#    return project_graph\u001b[0m\u001b[1;33m\u001b[0m\u001b[1;33m\u001b[0m\u001b[0m\n",
        "\u001b[1;31mAttributeError\u001b[0m: 'FileNotebookManager' object has no attribute 'get_notebook_model'"
       ]
      }
     ],
     "prompt_number": 8
    },
    {
     "cell_type": "code",
     "collapsed": false,
     "input": [
      "%%html\n",
      "<style>\n",
      "\n",
      ".node {\n",
      "  stroke: #fff;\n",
      "  stroke-width: 1.5px;\n",
      "}\n",
      "\n",
      ".link {\n",
      "  stroke: #999;\n",
      "  stroke-opacity: .6;\n",
      "}\n",
      "</style>"
     ],
     "language": "python",
     "metadata": {},
     "outputs": [
      {
       "html": [
        "<style>\n",
        "\n",
        ".node {\n",
        "  stroke: #fff;\n",
        "  stroke-width: 1.5px;\n",
        "}\n",
        "\n",
        ".link {\n",
        "  stroke: #999;\n",
        "  stroke-opacity: .6;\n",
        "}\n",
        "</style>"
       ],
       "metadata": {},
       "output_type": "display_data",
       "text": [
        "<IPython.core.display.HTML at 0x2dd4cd0>"
       ]
      }
     ],
     "prompt_number": 5
    },
    {
     "cell_type": "code",
     "collapsed": false,
     "input": [
      "%%javascript\n",
      "\n",
      "container.show();\n",
      "\n",
      "var e = element.get(0);\n",
      "\n",
      "var width = 960,\n",
      "    height = 500,\n",
      "    fill = d3.scale.category10(),\n",
      "    nodes = d3.range(100).map(Object);\n",
      "\n",
      "var color = d3.scale.category20();\n",
      "\n",
      "var force = d3.layout.force()\n",
      "    .charge(-120)\n",
      "    .linkDistance(30)\n",
      "    .size([width, height]);\n",
      "\n",
      "var svg = d3.select(e).append(\"svg\")\n",
      "    .attr(\"width\", width)\n",
      "    .attr(\"height\", height)\n",
      "\n",
      "d3.json(\"/files/test_tree.json\", function(error, graph) {\n",
      "  force\n",
      "      .nodes(graph.nodes)\n",
      "      .links(graph.links)\n",
      "      .start();\n",
      "\n",
      "  var link = svg.selectAll(\".link\")\n",
      "      .data(graph.links)\n",
      "    .enter().append(\"line\")\n",
      "      .attr(\"class\", \"link\")\n",
      "      .style(\"stroke-width\", function(d) { return Math.sqrt(d.value); });\n",
      "\n",
      "  var node = svg.selectAll(\".node\")\n",
      "      .data(graph.nodes)\n",
      "      .enter().append(\"a\")\n",
      "      .attr(\"class\", \"node\")\n",
      "      .attr(\"xlink:href\", function(d) { return d.url; })\n",
      "      .attr(\"target\", \"_blank\")\n",
      "      .call(force.drag);\n",
      "  node.append(\"circle\")\n",
      "      .attr(\"r\", 5)\n",
      "      .style(\"fill\", function(d) { return color(d.group); })\n",
      "\n",
      "  node.append(\"title\")\n",
      "      .text(function(d) { return d.name; });\n",
      "\n",
      "  force.on(\"tick\", function() {\n",
      "    link.attr(\"x1\", function(d) { return d.source.x; })\n",
      "        .attr(\"y1\", function(d) { return d.source.y; })\n",
      "        .attr(\"x2\", function(d) { return d.target.x; })\n",
      "        .attr(\"y2\", function(d) { return d.target.y; });\n",
      "\n",
      "    node.attr(\"transform\", function(d) { return \"translate(\" + d.x + \",\" + d.y + \")\"; });\n",
      "  });\n",
      "});"
     ],
     "language": "python",
     "metadata": {},
     "outputs": [
      {
       "javascript": [
        "\n",
        "container.show();\n",
        "\n",
        "var e = element.get(0);\n",
        "\n",
        "var width = 960,\n",
        "    height = 500,\n",
        "    fill = d3.scale.category10(),\n",
        "    nodes = d3.range(100).map(Object);\n",
        "\n",
        "var color = d3.scale.category20();\n",
        "\n",
        "var force = d3.layout.force()\n",
        "    .charge(-120)\n",
        "    .linkDistance(30)\n",
        "    .size([width, height]);\n",
        "\n",
        "var svg = d3.select(e).append(\"svg\")\n",
        "    .attr(\"width\", width)\n",
        "    .attr(\"height\", height)\n",
        "\n",
        "d3.json(\"/files/test_tree.json\", function(error, graph) {\n",
        "  force\n",
        "      .nodes(graph.nodes)\n",
        "      .links(graph.links)\n",
        "      .start();\n",
        "\n",
        "  var link = svg.selectAll(\".link\")\n",
        "      .data(graph.links)\n",
        "    .enter().append(\"line\")\n",
        "      .attr(\"class\", \"link\")\n",
        "      .style(\"stroke-width\", function(d) { return Math.sqrt(d.value); });\n",
        "\n",
        "  var node = svg.selectAll(\".node\")\n",
        "      .data(graph.nodes)\n",
        "      .enter().append(\"a\")\n",
        "      .attr(\"class\", \"node\")\n",
        "      .attr(\"xlink:href\", function(d) { return d.url; })\n",
        "      .attr(\"target\", \"_blank\")\n",
        "      .call(force.drag);\n",
        "  node.append(\"circle\")\n",
        "      .attr(\"r\", 5)\n",
        "      .style(\"fill\", function(d) { return color(d.group); })\n",
        "\n",
        "  node.append(\"title\")\n",
        "      .text(function(d) { return d.name; });\n",
        "\n",
        "  force.on(\"tick\", function() {\n",
        "    link.attr(\"x1\", function(d) { return d.source.x; })\n",
        "        .attr(\"y1\", function(d) { return d.source.y; })\n",
        "        .attr(\"x2\", function(d) { return d.target.x; })\n",
        "        .attr(\"y2\", function(d) { return d.target.y; });\n",
        "\n",
        "    node.attr(\"transform\", function(d) { return \"translate(\" + d.x + \",\" + d.y + \")\"; });\n",
        "  });\n",
        "});"
       ],
       "metadata": {},
       "output_type": "display_data",
       "text": [
        "<IPython.core.display.Javascript at 0x2dd4cd0>"
       ]
      }
     ],
     "prompt_number": 6
    }
   ],
   "metadata": {}
  }
 ]
}