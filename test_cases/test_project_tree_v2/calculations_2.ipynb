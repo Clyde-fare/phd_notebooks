{
 "metadata": {
  "name": "",
  "signature": "sha256:67b1b842a7a71d150dd30fdd42bfa02868e628ccec5841b79b301c5d741a2ae2"
 },
 "nbformat": 3,
 "nbformat_minor": 0,
 "worksheets": [
  {
   "cells": [
    {
     "cell_type": "markdown",
     "metadata": {},
     "source": [
      "futher calculations and another [link](calculations_3.ipynb)"
     ]
    },
    {
     "cell_type": "code",
     "collapsed": false,
     "input": [],
     "language": "python",
     "metadata": {},
     "outputs": []
    }
   ],
   "metadata": {}
  }
 ]
}