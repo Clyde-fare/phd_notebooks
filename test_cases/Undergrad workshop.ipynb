{
 "metadata": {
  "name": "",
  "signature": "sha256:fa6d24e75998b4a556f62875be43110adba8a59f28d18f7ea1b4e441284fb16f"
 },
 "nbformat": 3,
 "nbformat_minor": 0,
 "worksheets": [
  {
   "cells": [
    {
     "cell_type": "code",
     "collapsed": false,
     "input": [
      "from ASE_utils import *\n",
      "from cc_notebook_utils import *"
     ],
     "language": "python",
     "metadata": {},
     "outputs": [],
     "prompt_number": 1
    },
    {
     "cell_type": "code",
     "collapsed": false,
     "input": [
      "from "
     ],
     "language": "python",
     "metadata": {},
     "outputs": []
    }
   ],
   "metadata": {}
  }
 ]
}