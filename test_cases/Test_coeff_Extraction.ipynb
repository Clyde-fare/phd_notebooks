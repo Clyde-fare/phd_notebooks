{
 "cells": [
  {
   "cell_type": "code",
   "execution_count": 17,
   "metadata": {
    "collapsed": false
   },
   "outputs": [],
   "source": [
    "from ase.structure import molecule\n",
    "from cc_notebook import *\n",
    "from ase_extensions.ase_utils import *\n",
    "from gausspy import Gaussian\n",
    "import numpy as np"
   ]
  },
  {
   "cell_type": "code",
   "execution_count": 8,
   "metadata": {
    "collapsed": false
   },
   "outputs": [
    {
     "name": "stdout",
     "output_type": "stream",
     "text": [
      "/home/clyde/Dropbox/Project Stuff/Notebooks/test_cases/test_orbital_extraction\n"
     ]
    }
   ],
   "source": [
    "cd test_orbital_extraction"
   ]
  },
  {
   "cell_type": "code",
   "execution_count": 9,
   "metadata": {
    "collapsed": false
   },
   "outputs": [],
   "source": [
    "h2o=molecule('H2O')\n",
    "h2o.set_calculator(Gaussian(label='test',pop='full'))\n",
    "h2o.calc.set_job(queue='', version='g09-d01')\n",
    "h2o.calc.start()"
   ]
  },
  {
   "cell_type": "code",
   "execution_count": 10,
   "metadata": {
    "collapsed": true
   },
   "outputs": [],
   "source": [
    "h2o_cis=molecule('H2O')\n",
    "h2o_cis.set_calculator(Gaussian(label='test_CIS', method='CIS', pop='full'))\n",
    "h2o_cis.calc.set_job(queue='', version='g09-d01')\n",
    "h2o_cis.calc.start()"
   ]
  },
  {
   "cell_type": "code",
   "execution_count": 24,
   "metadata": {
    "collapsed": false
   },
   "outputs": [
    {
     "data": {
      "text/html": [
       "\n",
       "    <style>\n",
       "    table\n",
       "    {\n",
       "        border-collapse:collapse;\n",
       "    }\n",
       "    td\n",
       "    {\n",
       "        padding:15px;\n",
       "    }\n",
       "    </style>\n",
       "    <body>\n",
       "    <table bgcolor=\"white\">\n",
       "    <col/><tr><td>test</td><td><input type=\"button\" value=\"Smart Log\" id=\"test\" onclick=\"IPython.cc_notebook.view_function(event, this.id)\" /></td><td>Success</td></tr><tr><td>test_CIS</td><td><input type=\"button\" value=\"Smart Log\" id=\"test_CIS\" onclick=\"IPython.cc_notebook.view_function(event, this.id)\" /></td><td>Success</td></tr>\n",
       "    </table>\n",
       "    </body>"
      ],
      "text/plain": [
       "<IPython.core.display.HTML object>"
      ]
     },
     "execution_count": 24,
     "metadata": {},
     "output_type": "execute_result"
    }
   ],
   "source": [
    "check_calcs([h2o,h2o_cis],depth='Full',frc=True)\n",
    "mols_to_html([h2o,h2o_cis])"
   ]
  },
  {
   "cell_type": "code",
   "execution_count": 32,
   "metadata": {
    "collapsed": true
   },
   "outputs": [],
   "source": [
    "h2o2=molecule('H2O')\n",
    "h2o2.set_calculator(Gaussian(label='test2',pop='full', punch='MO'))\n",
    "h2o2.calc.set_job(queue='', version='g09-d01')\n",
    "h2o2.calc.start()"
   ]
  },
  {
   "cell_type": "code",
   "execution_count": 33,
   "metadata": {
    "collapsed": true
   },
   "outputs": [],
   "source": [
    "h2o_cis2=molecule('H2O')\n",
    "h2o_cis2.set_calculator(Gaussian(label='test_CIS2', method='CIS', pop='full', punch='MO'))\n",
    "h2o_cis2.calc.set_job(queue='', version='g09-d01')\n",
    "h2o_cis2.calc.start()"
   ]
  },
  {
   "cell_type": "code",
   "execution_count": 37,
   "metadata": {
    "collapsed": false
   },
   "outputs": [
    {
     "data": {
      "text/html": [
       "\n",
       "    <style>\n",
       "    table\n",
       "    {\n",
       "        border-collapse:collapse;\n",
       "    }\n",
       "    td\n",
       "    {\n",
       "        padding:15px;\n",
       "    }\n",
       "    </style>\n",
       "    <body>\n",
       "    <table bgcolor=\"white\">\n",
       "    <col/><tr><td>test2</td><td><input type=\"button\" value=\"Smart Log\" id=\"test2\" onclick=\"IPython.cc_notebook.view_function(event, this.id)\" /></td><td>Success</td></tr><tr><td>test_CIS2</td><td><input type=\"button\" value=\"Smart Log\" id=\"test_CIS2\" onclick=\"IPython.cc_notebook.view_function(event, this.id)\" /></td><td>Success</td></tr>\n",
       "    </table>\n",
       "    </body>"
      ],
      "text/plain": [
       "<IPython.core.display.HTML object>"
      ]
     },
     "execution_count": 37,
     "metadata": {},
     "output_type": "execute_result"
    }
   ],
   "source": [
    "check_calcs([h2o2,h2o_cis2],depth='Full',frc=True)\n",
    "mols_to_html([h2o2,h2o_cis2])"
   ]
  },
  {
   "cell_type": "code",
   "execution_count": 42,
   "metadata": {
    "collapsed": false
   },
   "outputs": [],
   "source": [
    "h2o3=molecule('H2O')\n",
    "h2o3.set_calculator(Gaussian(label='test3',pop='full',ioplist=['9/40=10']))\n",
    "h2o3.calc.set_job(queue='', version='g09-d01')\n",
    "h2o3.calc.start()"
   ]
  },
  {
   "cell_type": "code",
   "execution_count": null,
   "metadata": {
    "collapsed": true
   },
   "outputs": [],
   "source": [
    "h2o_cis3=molecule('H2O')\n",
    "h2o_cis3.set_calculator(Gaussian(label='test_CIS3', method='CIS', pop='full',ioplist=['9/40=10']))\n",
    "h2o_cis3.calc.set_job(queue='', version='g09-d01')\n",
    "h2o_cis3.calc.start()"
   ]
  },
  {
   "cell_type": "code",
   "execution_count": 43,
   "metadata": {
    "collapsed": false
   },
   "outputs": [
    {
     "data": {
      "text/html": [
       "\n",
       "    <style>\n",
       "    table\n",
       "    {\n",
       "        border-collapse:collapse;\n",
       "    }\n",
       "    td\n",
       "    {\n",
       "        padding:15px;\n",
       "    }\n",
       "    </style>\n",
       "    <body>\n",
       "    <table bgcolor=\"white\">\n",
       "    <col/><tr><td>test3</td><td><input type=\"button\" value=\"Smart Log\" id=\"test3\" onclick=\"IPython.cc_notebook.view_function(event, this.id)\" /></td><td>Success</td></tr><tr><td>test_CIS3</td><td><input type=\"button\" value=\"Smart Log\" id=\"test_CIS3\" onclick=\"IPython.cc_notebook.view_function(event, this.id)\" /></td><td>Success</td></tr>\n",
       "    </table>\n",
       "    </body>"
      ],
      "text/plain": [
       "<IPython.core.display.HTML object>"
      ]
     },
     "execution_count": 43,
     "metadata": {},
     "output_type": "execute_result"
    }
   ],
   "source": [
    "check_calcs([h2o3,h2o_cis3],depth='Full',frc=True)\n",
    "mols_to_html([h2o3,h2o_cis3])"
   ]
  },
  {
   "cell_type": "code",
   "execution_count": null,
   "metadata": {
    "collapsed": true
   },
   "outputs": [],
   "source": []
  }
 ],
 "metadata": {
  "kernelspec": {
   "display_name": "Python 2",
   "language": "python",
   "name": "python2"
  },
  "language_info": {
   "codemirror_mode": {
    "name": "ipython",
    "version": 2
   },
   "file_extension": ".py",
   "mimetype": "text/x-python",
   "name": "python",
   "nbconvert_exporter": "python",
   "pygments_lexer": "ipython2",
   "version": "2.7.10"
  }
 },
 "nbformat": 4,
 "nbformat_minor": 0
}
