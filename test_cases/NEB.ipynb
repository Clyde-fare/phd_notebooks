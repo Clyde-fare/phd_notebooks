{
 "cells": [
  {
   "cell_type": "code",
   "execution_count": 1,
   "metadata": {
    "collapsed": false
   },
   "outputs": [
    {
     "name": "stdout",
     "output_type": "stream",
     "text": [
      "/home/clyde/Dropbox/Project Stuff/Notebooks/test_cases/neb_test\n"
     ]
    }
   ],
   "source": [
    "cd neb_test"
   ]
  },
  {
   "cell_type": "code",
   "execution_count": 2,
   "metadata": {
    "collapsed": false
   },
   "outputs": [
    {
     "name": "stdout",
     "output_type": "stream",
     "text": [
      "FIRE:   0  14:55:07        3.078941       4.0124\n",
      "FIRE:   1  14:55:07        2.530571       3.5061\n",
      "FIRE:   2  14:55:07        1.950050       2.5381\n",
      "FIRE:   3  14:55:07        1.752270       1.1485\n",
      "FIRE:   4  14:55:07        1.732747       1.1083\n",
      "FIRE:   5  14:55:07        1.696342       1.0278\n",
      "FIRE:   6  14:55:07        1.648051       0.9072\n",
      "FIRE:   7  14:55:07        1.594621       0.7482\n",
      "FIRE:   8  14:55:07        1.543597       0.5548\n",
      "FIRE:   9  14:55:07        1.502047       0.5320\n",
      "FIRE:  10  14:55:07        1.475189       0.5166\n",
      "FIRE:  11  14:55:07        1.465461       0.3388\n",
      "FIRE:  12  14:55:07        1.465228       0.3255\n",
      "FIRE:  13  14:55:07        1.464795       0.2996\n",
      "FIRE:  14  14:55:07        1.464228       0.2617\n",
      "FIRE:  15  14:55:07        1.463608       0.2132\n",
      "FIRE:  16  14:55:07        1.463029       0.1558\n",
      "FIRE:  17  14:55:07        1.462575       0.0917\n",
      "FIRE:  18  14:55:07        1.462314       0.0294\n"
     ]
    },
    {
     "name": "stderr",
     "output_type": "stream",
     "text": [
      "/home/clyde/Dropbox/Project Stuff/Code/Python/gausspy/gausspy/gaussian.py:1519: RuntimeWarning: Prior calculation already performed, not recomputing\n",
      "  warnings.warn(RuntimeWarning('Prior calculation already performed, not recomputing'))\n"
     ]
    },
    {
     "ename": "ValueError",
     "evalue": "could not broadcast input array from shape (0) into shape (8,3)",
     "output_type": "error",
     "traceback": [
      "\u001b[1;31m---------------------------------------------------------------------------\u001b[0m",
      "\u001b[1;31mValueError\u001b[0m                                Traceback (most recent call last)",
      "\u001b[1;32m<ipython-input-2-d8b6732e46a5>\u001b[0m in \u001b[0;36m<module>\u001b[1;34m()\u001b[0m\n\u001b[0;32m     33\u001b[0m \u001b[1;31m#Run NEB calculation\u001b[0m\u001b[1;33m\u001b[0m\u001b[1;33m\u001b[0m\u001b[0m\n\u001b[0;32m     34\u001b[0m \u001b[0mqn\u001b[0m \u001b[1;33m=\u001b[0m \u001b[0mQuasiNewton\u001b[0m\u001b[1;33m(\u001b[0m\u001b[0mneb\u001b[0m\u001b[1;33m,\u001b[0m \u001b[0mtrajectory\u001b[0m\u001b[1;33m=\u001b[0m\u001b[1;34m'ethane_linear.traj'\u001b[0m\u001b[1;33m,\u001b[0m  \u001b[0mlogfile\u001b[0m\u001b[1;33m=\u001b[0m\u001b[1;34m'ethane_linear.log'\u001b[0m\u001b[1;33m)\u001b[0m\u001b[1;33m\u001b[0m\u001b[0m\n\u001b[1;32m---> 35\u001b[1;33m \u001b[0mqn\u001b[0m\u001b[1;33m.\u001b[0m\u001b[0mrun\u001b[0m\u001b[1;33m(\u001b[0m\u001b[0mfmax\u001b[0m\u001b[1;33m=\u001b[0m\u001b[1;36m0.05\u001b[0m\u001b[1;33m)\u001b[0m\u001b[1;33m\u001b[0m\u001b[0m\n\u001b[0m",
      "\u001b[1;32m/home/clyde/anaconda/envs/biotools/lib/python2.7/site-packages/ase/optimize/optimize.pyc\u001b[0m in \u001b[0;36mrun\u001b[1;34m(self, fmax, steps)\u001b[0m\n\u001b[0;32m    112\u001b[0m         \u001b[0mstep\u001b[0m \u001b[1;33m=\u001b[0m \u001b[1;36m0\u001b[0m\u001b[1;33m\u001b[0m\u001b[0m\n\u001b[0;32m    113\u001b[0m         \u001b[1;32mwhile\u001b[0m \u001b[0mstep\u001b[0m \u001b[1;33m<\u001b[0m \u001b[0msteps\u001b[0m\u001b[1;33m:\u001b[0m\u001b[1;33m\u001b[0m\u001b[0m\n\u001b[1;32m--> 114\u001b[1;33m             \u001b[0mf\u001b[0m \u001b[1;33m=\u001b[0m \u001b[0mself\u001b[0m\u001b[1;33m.\u001b[0m\u001b[0matoms\u001b[0m\u001b[1;33m.\u001b[0m\u001b[0mget_forces\u001b[0m\u001b[1;33m(\u001b[0m\u001b[1;33m)\u001b[0m\u001b[1;33m\u001b[0m\u001b[0m\n\u001b[0m\u001b[0;32m    115\u001b[0m             \u001b[0mself\u001b[0m\u001b[1;33m.\u001b[0m\u001b[0mlog\u001b[0m\u001b[1;33m(\u001b[0m\u001b[0mf\u001b[0m\u001b[1;33m)\u001b[0m\u001b[1;33m\u001b[0m\u001b[0m\n\u001b[0;32m    116\u001b[0m             \u001b[0mself\u001b[0m\u001b[1;33m.\u001b[0m\u001b[0mcall_observers\u001b[0m\u001b[1;33m(\u001b[0m\u001b[1;33m)\u001b[0m\u001b[1;33m\u001b[0m\u001b[0m\n",
      "\u001b[1;32m/home/clyde/anaconda/envs/biotools/lib/python2.7/site-packages/ase/neb.pyc\u001b[0m in \u001b[0;36mget_forces\u001b[1;34m(self)\u001b[0m\n\u001b[0;32m     83\u001b[0m             \u001b[1;32mfor\u001b[0m \u001b[0mi\u001b[0m \u001b[1;32min\u001b[0m \u001b[0mrange\u001b[0m\u001b[1;33m(\u001b[0m\u001b[1;36m1\u001b[0m\u001b[1;33m,\u001b[0m \u001b[0mself\u001b[0m\u001b[1;33m.\u001b[0m\u001b[0mnimages\u001b[0m \u001b[1;33m-\u001b[0m \u001b[1;36m1\u001b[0m\u001b[1;33m)\u001b[0m\u001b[1;33m:\u001b[0m\u001b[1;33m\u001b[0m\u001b[0m\n\u001b[0;32m     84\u001b[0m                 \u001b[0menergies\u001b[0m\u001b[1;33m[\u001b[0m\u001b[0mi\u001b[0m \u001b[1;33m-\u001b[0m \u001b[1;36m1\u001b[0m\u001b[1;33m]\u001b[0m \u001b[1;33m=\u001b[0m \u001b[0mimages\u001b[0m\u001b[1;33m[\u001b[0m\u001b[0mi\u001b[0m\u001b[1;33m]\u001b[0m\u001b[1;33m.\u001b[0m\u001b[0mget_potential_energy\u001b[0m\u001b[1;33m(\u001b[0m\u001b[1;33m)\u001b[0m\u001b[1;33m\u001b[0m\u001b[0m\n\u001b[1;32m---> 85\u001b[1;33m                 \u001b[0mforces\u001b[0m\u001b[1;33m[\u001b[0m\u001b[0mi\u001b[0m \u001b[1;33m-\u001b[0m \u001b[1;36m1\u001b[0m\u001b[1;33m]\u001b[0m \u001b[1;33m=\u001b[0m \u001b[0mimages\u001b[0m\u001b[1;33m[\u001b[0m\u001b[0mi\u001b[0m\u001b[1;33m]\u001b[0m\u001b[1;33m.\u001b[0m\u001b[0mget_forces\u001b[0m\u001b[1;33m(\u001b[0m\u001b[1;33m)\u001b[0m\u001b[1;33m\u001b[0m\u001b[0m\n\u001b[0m\u001b[0;32m     86\u001b[0m         \u001b[1;32melse\u001b[0m\u001b[1;33m:\u001b[0m\u001b[1;33m\u001b[0m\u001b[0m\n\u001b[0;32m     87\u001b[0m             \u001b[1;31m# Parallelize over images:\u001b[0m\u001b[1;33m\u001b[0m\u001b[1;33m\u001b[0m\u001b[0m\n",
      "\u001b[1;31mValueError\u001b[0m: could not broadcast input array from shape (0) into shape (8,3)"
     ]
    }
   ],
   "source": [
    "from ase.structure import molecule\n",
    "from ase.neb import NEB\n",
    "from ase.calculators.emt import EMT\n",
    "from ase.optimize.fire import FIRE as QuasiNewton\n",
    "from ase.visualize import view\n",
    "from gausspy import Gaussian\n",
    "\n",
    "# Construct initial and final states:\n",
    "initial = molecule('C2H6')\n",
    "initial.set_calculator(EMT())\n",
    "relax = QuasiNewton(initial)\n",
    "relax.run(fmax=0.05)\n",
    "\n",
    "#Create final state\n",
    "final = initial.copy()\n",
    "final.positions[2:5] = initial.positions[[3, 4, 2]]\n",
    "\n",
    "#Generate blank images\n",
    "images = [initial]\n",
    "\n",
    "for i in range(9):\n",
    "    images.append(initial.copy())\n",
    "\n",
    "for image in images:\n",
    "    c=Gaussian(method='UFF')\n",
    "    image.set_calculator(c)\n",
    "   \n",
    "\n",
    "#Run IDPP interpolation\n",
    "neb = NEB(images)\n",
    "neb.interpolate()\n",
    "\n",
    "#Run NEB calculation\n",
    "qn = QuasiNewton(neb, trajectory='ethane_linear.traj',  logfile='ethane_linear.log')\n",
    "qn.run(fmax=0.05)"
   ]
  },
  {
   "cell_type": "code",
   "execution_count": 17,
   "metadata": {
    "collapsed": false
   },
   "outputs": [
    {
     "data": {
      "text/plain": [
       "array([], dtype=float64)"
      ]
     },
     "execution_count": 17,
     "metadata": {},
     "output_type": "execute_result"
    }
   ],
   "source": [
    "a=c.atoms\n",
    "a.set_calculator(Gaussian('UFF', force='force'))\n",
    "a.get_forces()"
   ]
  },
  {
   "cell_type": "code",
   "execution_count": 20,
   "metadata": {
    "collapsed": false
   },
   "outputs": [
    {
     "data": {
      "text/plain": [
       "array([], dtype=float64)"
      ]
     },
     "execution_count": 20,
     "metadata": {},
     "output_type": "execute_result"
    }
   ],
   "source": [
    "a.calc.read()\n",
    "a.calc.forces"
   ]
  },
  {
   "cell_type": "code",
   "execution_count": null,
   "metadata": {
    "collapsed": true
   },
   "outputs": [],
   "source": []
  }
 ],
 "metadata": {
  "kernelspec": {
   "display_name": "Python 2",
   "language": "python",
   "name": "python2"
  },
  "language_info": {
   "codemirror_mode": {
    "name": "ipython",
    "version": 2
   },
   "file_extension": ".py",
   "mimetype": "text/x-python",
   "name": "python",
   "nbconvert_exporter": "python",
   "pygments_lexer": "ipython2",
   "version": "2.7.10"
  }
 },
 "nbformat": 4,
 "nbformat_minor": 0
}
