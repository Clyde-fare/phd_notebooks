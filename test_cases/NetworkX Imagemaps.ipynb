{
 "metadata": {
  "name": ""
 },
 "nbformat": 3,
 "nbformat_minor": 0,
 "worksheets": [
  {
   "cells": [
    {
     "cell_type": "code",
     "collapsed": false,
     "input": [
      "cd networkx_imagemaps"
     ],
     "language": "python",
     "metadata": {},
     "outputs": [
      {
       "output_type": "stream",
       "stream": "stdout",
       "text": [
        "[Errno 2] No such file or directory: 'networkx_imagemaps'\n",
        "/home/clyde/Dropbox/Project Stuff/Notebooks/test_cases/networkx_imagemaps\n"
       ]
      }
     ],
     "prompt_number": 18
    },
    {
     "cell_type": "code",
     "collapsed": false,
     "input": [
      "import pydot\n",
      "import IPython.html\n",
      "from IPython.core.display import Image"
     ],
     "language": "python",
     "metadata": {},
     "outputs": [],
     "prompt_number": 19
    },
    {
     "cell_type": "code",
     "collapsed": false,
     "input": [
      "\"\"\"\n",
      "my slightly modified version of Federico C\u00e1ceres' example 2\n",
      "@url: http://pythonhaven.wordpress.com/2009/12/09/generating_graphs_with_pydot\n",
      "\"\"\"\n",
      "\n",
      "# the graph_type we specify we want a DIrected GRAPH\n",
      "graph = pydot.Dot(graph_type='digraph')\n",
      "graph.set_name('test_project_graph')\n",
      "\n",
      "# creating nodes is as simple as creating edges!\n",
      "node_a = pydot.Node(\"Node A\", style=\"filled\", fillcolor=\"red\", URL='www.google.com')\n",
      "# but... what are all those extra stuff after \"Node A\"?\n",
      "# well, these arguments define how the node is going to look on the graph,\n",
      "# you can find a full reference here:\n",
      "# http://www.graphviz.org/doc/info/attrs.html\n",
      "# which in turn is part of the full docs in\n",
      "# http://www.graphviz.org/Documentation.php\n",
      "\n",
      "# neat, huh? Let us create the rest of the nodes!\n",
      "node_b = pydot.Node(\"Node B\", style=\"filled\", fillcolor=\"green\", URL='www.yahoo.com')\n",
      "node_c = pydot.Node(\"Node C\", style=\"filled\", fillcolor=\"#0000ff\", URL='www.ask.com')\n",
      "node_d = pydot.Node(\"Node D\", style=\"filled\", fillcolor=\"#976856\", URL='www.bing.com')\n",
      "\n",
      "#ok, now we add the nodes to the graph\n",
      "graph.add_node(node_a)\n",
      "graph.add_node(node_b)\n",
      "graph.add_node(node_c)\n",
      "graph.add_node(node_d)\n",
      "\n",
      "# and finally we create the edges\n",
      "# to keep it short, I'll be adding the edge automatically to the graph instead\n",
      "# of keeping a reference to it in a variable\n",
      "graph.add_edge(pydot.Edge(node_a, node_b))\n",
      "graph.add_edge(pydot.Edge(node_b, node_c))\n",
      "graph.add_edge(pydot.Edge(node_c, node_d))\n",
      "# but, let's make this last edge special, yes?\n",
      "graph.add_edge(pydot.Edge(node_d, node_a, label=\" and back we go again\", labelfontcolor=\"#009933\", fontsize=\"10.0\", color=\"blue\"))\n",
      "\n",
      "# and we are done\n",
      "graph.write_png('example2_graph.png')\n",
      "# this is too good to be true!\n",
      "Image(filename='example2_graph.png')"
     ],
     "language": "python",
     "metadata": {},
     "outputs": [
      {
       "metadata": {},
       "output_type": "pyout",
       "png": "[encoded data removed]",
       "prompt_number": 20,
       "text": [
        "<IPython.core.display.Image at 0x37d11d0>"
       ]
      }
     ],
     "prompt_number": 20
    },
    {
     "cell_type": "markdown",
     "metadata": {},
     "source": [
      "Now let's test our ability to create imagemaps. First we'll try the simplest test case:"
     ]
    },
    {
     "cell_type": "code",
     "collapsed": false,
     "input": [
      "import os\n",
      "test_dot = \"\"\"/* x.gv */\n",
      "digraph mainmap {\n",
      "  URL=\"http://www.research.att.com/base.html\";\n",
      "  command [URL=\"http://www.research.att.com/command.html\"];\n",
      "  command -> output [URL=\"colors.html\"];\n",
      "}\"\"\"\n",
      "with open('test_dot.gv', 'w') as f:\n",
      "    f.write(test_dot)\n",
      "\n",
      "#this call the graphviz genererates the imagemap and image file\n",
      "os.system('dot -Tcmapx -ox.map -Tpng -ox.png test_dot.gv')"
     ],
     "language": "python",
     "metadata": {},
     "outputs": [
      {
       "metadata": {},
       "output_type": "pyout",
       "prompt_number": 21,
       "text": [
        "0"
       ]
      }
     ],
     "prompt_number": 21
    },
    {
     "cell_type": "markdown",
     "metadata": {},
     "source": [
      "See: http://www.graphviz.org/doc/info/output.html#d:cmapx"
     ]
    },
    {
     "cell_type": "markdown",
     "metadata": {},
     "source": [
      "We can then display the map via the html:"
     ]
    },
    {
     "cell_type": "markdown",
     "metadata": {},
     "source": [
      "<IMG SRC=\"/files/x.png\" USEMAP=\"#mainmap\" />\n",
      "<map id=\"mainmap\" name=\"mainmap\">\n",
      "<area shape=\"poly\" id=\"node1\" href=\"http://www.research.att.com/command.html\" title=\"command\" alt=\"\" coords=\"161,31 157,23 146,16 129,11 107,7 83,6 58,7 37,11 19,16 8,23 4,31 8,38 19,45 37,50 58,54 83,55 107,54 129,50 146,45 157,38\"/>\n",
      "<area shape=\"poly\" id=\"edge2\" href=\"colors.html\" alt=\"\" coords=\"85,56 85,91 80,91 80,56\"/>\n",
      "<area shape=\"rect\" id=\"graph1\" href=\"http://www.research.att.com/base.html\" alt=\"\" coords=\"0,0,165,160\"/>\n",
      "</map>"
     ]
    },
    {
     "cell_type": "markdown",
     "metadata": {},
     "source": [
      "So we can generate an image from the previously generated network via"
     ]
    },
    {
     "cell_type": "code",
     "collapsed": false,
     "input": [
      "#To write out the .dot file we would just use:\n",
      "graph.write_raw('example2_graph.gv')\n",
      "\n",
      "#and again to genereate the imagemap we use\n",
      "os.system('dot -Tcmapx -ox2.map -Tpng -ox2.png example2_graph.gv')"
     ],
     "language": "python",
     "metadata": {},
     "outputs": [
      {
       "metadata": {},
       "output_type": "pyout",
       "prompt_number": 22,
       "text": [
        "0"
       ]
      }
     ],
     "prompt_number": 22
    },
    {
     "cell_type": "markdown",
     "metadata": {},
     "source": [
      "Manual HTML:"
     ]
    },
    {
     "cell_type": "markdown",
     "metadata": {},
     "source": [
      "<IMG SRC=\"/files/networkx_imagemaps/x2.png\" USEMAP=\"#testgraph\" />\n",
      "<map id=\"mainmap\" name=\"testgraph\">\n",
      "<area shape=\"poly\" id=\"node1\" href=\"www.google.com\" title=\"Node A\" alt=\"\" coords=\"202,31 199,23 190,16 177,11 159,7 140,6 121,7 103,11 90,16 81,23 78,31 81,38 90,45 103,50 121,54 140,55 159,54 177,50 190,45 199,38\"/>\n",
      "<area shape=\"poly\" id=\"node2\" href=\"www.yahoo.com\" title=\"Node B\" alt=\"\" coords=\"129,132 126,124 117,118 103,112 86,109 67,107 47,109 30,112 16,118 7,124 4,132 7,140 16,146 30,152 47,155 67,157 86,155 103,152 117,146 126,140\"/>\n",
      "<area shape=\"poly\" id=\"node3\" href=\"www.ask.com\" title=\"Node C\" alt=\"\" coords=\"129,249 126,242 117,235 103,230 86,226 67,225 47,226 30,230 16,235 7,242 4,249 7,257 16,264 30,269 47,273 67,274 86,273 103,269 117,264 126,257\"/>\n",
      "<area shape=\"poly\" id=\"node4\" href=\"www.bing.com\" title=\"Node D\" alt=\"\" coords=\"196,351 193,343 184,336 170,331 152,327 132,326 112,327 94,331 80,336 71,343 68,351 71,358 80,365 94,370 112,374 132,375 152,374 170,370 184,365 193,358\"/>\n",
      "</map>"
     ]
    },
    {
     "cell_type": "markdown",
     "metadata": {},
     "source": [
      "Generated HTML:"
     ]
    },
    {
     "cell_type": "code",
     "collapsed": false,
     "input": [
      "from IPython.core.display import HTML\n",
      "with open('x2.map') as map_f:\n",
      "    map_str = map_f.read()\n",
      "    \n",
      "html_str = \"\"\"<IMG SRC=\"/files/networkx_imagemaps/x2.png\" USEMAP=\"#testgraph\" />\\n\"\"\" + map_str\n",
      "HTML(html_str)"
     ],
     "language": "python",
     "metadata": {},
     "outputs": [
      {
       "html": [
        "<IMG SRC=\"/files/networkx_imagemaps/x2.png\" USEMAP=\"#testgraph\" />\n",
        "<map id=\"test_project_graph\" name=\"test_project_graph\">\n",
        "<area shape=\"poly\" id=\"node1\" href=\"www.google.com\" title=\"Node A\" alt=\"\" coords=\"202,31 199,23 190,16 177,11 159,7 140,6 121,7 103,11 90,16 81,23 78,31 81,38 90,45 103,50 121,54 140,55 159,54 177,50 190,45 199,38\"/>\n",
        "<area shape=\"poly\" id=\"node2\" href=\"www.yahoo.com\" title=\"Node B\" alt=\"\" coords=\"129,132 126,124 117,118 103,112 86,109 67,107 47,109 30,112 16,118 7,124 4,132 7,140 16,146 30,152 47,155 67,157 86,155 103,152 117,146 126,140\"/>\n",
        "<area shape=\"poly\" id=\"node3\" href=\"www.ask.com\" title=\"Node C\" alt=\"\" coords=\"129,249 126,242 117,235 103,230 86,226 67,225 47,226 30,230 16,235 7,242 4,249 7,257 16,264 30,269 47,273 67,274 86,273 103,269 117,264 126,257\"/>\n",
        "<area shape=\"poly\" id=\"node4\" href=\"www.bing.com\" title=\"Node D\" alt=\"\" coords=\"196,351 193,343 184,336 170,331 152,327 132,326 112,327 94,331 80,336 71,343 68,351 71,358 80,365 94,370 112,374 132,375 152,374 170,370 184,365 193,358\"/>\n",
        "</map>\n"
       ],
       "metadata": {},
       "output_type": "pyout",
       "prompt_number": 23,
       "text": [
        "<IPython.core.display.HTML at 0x385fe10>"
       ]
      }
     ],
     "prompt_number": 23
    },
    {
     "cell_type": "code",
     "collapsed": false,
     "input": [
      "def get_dot(project_graph):\n",
      "    \"\"\"Constructs a pydot representation of the project_graph\"\"\"\n",
      "    \n",
      "    graph = pydot.Dot(graph_type='digraph')\n",
      "    graph.set_name('test_project_graph')   \n",
      "    \n",
      "    for nb_path in project_graph:\n",
      "        linked_nb_paths = project_graph[nb_path]\n",
      "    \n",
      "        nb_name = os.path.basename(nb_path).replace('.ipynb','')\n",
      "        node = pydot.Node(nb_name, style=\"filled\", fillcolor=\"red\", URL=nb_path)\n",
      "        graph.add_node(node)\n",
      "        \n",
      "        for linked_nb_path in linked_nb_paths:\n",
      "            linked_nb_name = os.path.basename(linked_nb_path).replace('.ipynb','')\n",
      "            \n",
      "            try:\n",
      "                link_node = next(n for n in graph.get_nodes() if n.get_name() == linked_nb_name)\n",
      "            except StopIteration:\n",
      "                link_node = pydot.Node(linked_nb_name, style=\"filled\", fillcolor=\"red\", URL=linked_nb_path)\n",
      "            \n",
      "            edge = pydot.Edge(node,link_node)\n",
      "            graph.add_edge(edge)\n",
      "    \n",
      "    return graph"
     ],
     "language": "python",
     "metadata": {},
     "outputs": [],
     "prompt_number": 24
    },
    {
     "cell_type": "code",
     "collapsed": false,
     "input": [
      "from IPython.core.display import HTML\n",
      "\n",
      "project_name = 'current_proj'\n",
      "project_dir = '/home/clyde/Project/Notebooks/'\n",
      "\n",
      "project_graph = get_project_graph(project_dir)\n",
      "graph = get_dot(project_graph)\n",
      "graph.write_raw(project_name + '.gv')\n",
      "os.system('dot -Tcmapx -o{p}.map -Tpng -o{p}.png {p}.gv'.format(p=project_name))\n",
      "\n",
      "with open(project_name + '.map') as map_f:\n",
      "    map_str = map_f.read()\n",
      "    \n",
      "html_str = '<IMG SRC=\"/files/{p}.png\" USEMAP=\"#test_project_graph\" />\\n'.format(p=project_name) + map_str\n",
      "HTML(html_str)"
     ],
     "language": "python",
     "metadata": {},
     "outputs": [
      {
       "ename": "NameError",
       "evalue": "name 'get_project_graph' is not defined",
       "output_type": "pyerr",
       "traceback": [
        "\u001b[1;31m---------------------------------------------------------------------------\u001b[0m\n\u001b[1;31mNameError\u001b[0m                                 Traceback (most recent call last)",
        "\u001b[1;32m<ipython-input-25-76ea0b16561a>\u001b[0m in \u001b[0;36m<module>\u001b[1;34m()\u001b[0m\n\u001b[0;32m      4\u001b[0m \u001b[0mproject_dir\u001b[0m \u001b[1;33m=\u001b[0m \u001b[1;34m'/home/clyde/Project/Notebooks/'\u001b[0m\u001b[1;33m\u001b[0m\u001b[0m\n\u001b[0;32m      5\u001b[0m \u001b[1;33m\u001b[0m\u001b[0m\n\u001b[1;32m----> 6\u001b[1;33m \u001b[0mproject_graph\u001b[0m \u001b[1;33m=\u001b[0m \u001b[0mget_project_graph\u001b[0m\u001b[1;33m(\u001b[0m\u001b[0mproject_dir\u001b[0m\u001b[1;33m)\u001b[0m\u001b[1;33m\u001b[0m\u001b[0m\n\u001b[0m\u001b[0;32m      7\u001b[0m \u001b[0mgraph\u001b[0m \u001b[1;33m=\u001b[0m \u001b[0mget_dot\u001b[0m\u001b[1;33m(\u001b[0m\u001b[0mproject_graph\u001b[0m\u001b[1;33m)\u001b[0m\u001b[1;33m\u001b[0m\u001b[0m\n\u001b[0;32m      8\u001b[0m \u001b[0mgraph\u001b[0m\u001b[1;33m.\u001b[0m\u001b[0mwrite_raw\u001b[0m\u001b[1;33m(\u001b[0m\u001b[0mproject_name\u001b[0m \u001b[1;33m+\u001b[0m \u001b[1;34m'.gv'\u001b[0m\u001b[1;33m)\u001b[0m\u001b[1;33m\u001b[0m\u001b[0m\n",
        "\u001b[1;31mNameError\u001b[0m: name 'get_project_graph' is not defined"
       ]
      }
     ],
     "prompt_number": 25
    },
    {
     "cell_type": "code",
     "collapsed": false,
     "input": [],
     "language": "python",
     "metadata": {},
     "outputs": []
    }
   ],
   "metadata": {}
  }
 ]
}