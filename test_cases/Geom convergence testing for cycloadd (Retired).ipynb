{
 "metadata": {
  "name": "",
  "signature": "sha256:1e02770f4ceb3f748e583c1eab9c8a8697044d726f392e96b5a3442f85450339"
 },
 "nbformat": 3,
 "nbformat_minor": 0,
 "worksheets": [
  {
   "cells": [
    {
     "cell_type": "heading",
     "level": 2,
     "metadata": {},
     "source": [
      "Testing convergence problems that occured during the cycloadd miniproject"
     ]
    },
    {
     "cell_type": "markdown",
     "metadata": {},
     "source": [
      "Geometry optimisation at the b3lyp/6-31G(d) level failed to converge displacements (it converges for forces) for edge and corner substituted nanographene clusters. This is puzzling. We will try a test case first optimising with HF/STO3G (which does converge) and then taking the structure and force constants from that calculation and attempting a B3lyp/631G(d) optimisation. We will also examine what happens to the graphene sheet if we are simply substituting with hydrogen."
     ]
    },
    {
     "cell_type": "code",
     "collapsed": false,
     "input": [
      "cd geom_conv_test"
     ],
     "language": "python",
     "metadata": {},
     "outputs": [
      {
       "output_type": "stream",
       "stream": "stdout",
       "text": [
        "/home/clyde/Dropbox/Project Stuff/Notebooks/test_cases/geom_conv_test\n"
       ]
      }
     ],
     "prompt_number": 1
    },
    {
     "cell_type": "code",
     "collapsed": false,
     "input": [
      "import ASE_utils\n",
      "import numpy as np\n",
      "from ase.io import read\n",
      "from gausspy import Gaussian\n",
      "from ase.visualize import view\n",
      "from webbrowser import open as open_log"
     ],
     "language": "python",
     "metadata": {},
     "outputs": [],
     "prompt_number": 6
    },
    {
     "cell_type": "markdown",
     "metadata": {},
     "source": [
      "We want to see if the HF/STO3G optimised structure is really a minimum:"
     ]
    },
    {
     "cell_type": "code",
     "collapsed": false,
     "input": [
      "azo_graph = read('../../graphene_cycloadditions/cycloadd/B3LYP_631Gd_HF_STO3G_4_4_edg_azomethine.log')\n",
      "azo_graph_name = 'HF_STO3G_HF_STO3G_4_4_edg_azomethine_freq'\n",
      "azo_graph.set_calculator(Gaussian(label=azo_graph_name, method='HF', basis='STO-3G', freq='freq' ))\n",
      "azo_graph.calc.set_job(nodes=4, memory=5600, time=5)\n",
      "#azo_graph.get_potential_energy()\n",
      "ASE_utils.check_calcs([azo_graph])\n",
      "print (azo_graph.calc.data['NImag'])"
     ],
     "language": "python",
     "metadata": {},
     "outputs": [
      {
       "output_type": "stream",
       "stream": "stdout",
       "text": [
        "0.0\n"
       ]
      }
     ],
     "prompt_number": 7
    },
    {
     "cell_type": "markdown",
     "metadata": {},
     "source": [
      "Yes it is. Now we will see whether using the HF/STO3G optimised structure will mean a B3LYP/6-31G(d) optimisation will converge."
     ]
    },
    {
     "cell_type": "code",
     "collapsed": false,
     "input": [
      "opt_azo_graph = read('../../graphene_cycloadditions/cycloadd/B3LYP_631Gd_HF_STO3G_4_4_edg_azomethine.log')\n",
      "opt_azo_graph_name = 'B3LYP_631Gd_B3LYP_631Gd_4_4_edg_azomethine_test_opt'\n",
      "opt_azo_graph.set_calculator(Gaussian(label=opt_azo_graph_name, method='B3LYP', basis='6-31G(d)', opt='opt' ))\n",
      "#copy the previous chk file\n",
      "#ASE_utils.scratch_cp('../cycloadd/B3LYP_631Gd_HF_STO3G_4_4_edg_azomethine.chk', name +'.chk')\n",
      "opt_azo_graph.calc.set_job(nodes=8, memory=8*1400, time=6)\n",
      "#opt_azo_graph.get_potential_energy()\n",
      "ASE_utils.check_calcs([opt_azo_graph])"
     ],
     "language": "python",
     "metadata": {},
     "outputs": [
      {
       "metadata": {},
       "output_type": "pyout",
       "prompt_number": 8,
       "text": [
        "'Calculations complete'"
       ]
      }
     ],
     "prompt_number": 8
    },
    {
     "cell_type": "markdown",
     "metadata": {},
     "source": [
      "It does converge, let's make sure it's a minimum:"
     ]
    },
    {
     "cell_type": "code",
     "collapsed": false,
     "input": [
      "opt_azo_graph_freq = read('B3LYP_631Gd_B3LYP_631Gd_4_4_edg_azomethine_test_opt.log')\n",
      "opt_azo_graph_freq_name = 'B3LYP_631Gd_B3LYP_631Gd_4_4_edg_azomethine_test_opt_freq'\n",
      "opt_azo_graph_freq.set_calculator(Gaussian(label=opt_azo_graph_freq_name, method='B3LYP', basis='6-31G(d)', freq='freq' ))\n",
      "ASE_utils.scratch_cp(opt_azo_graph_name + '.chk', opt_azo_graph_freq_name +'.chk')\n",
      "opt_azo_graph_freq.calc.set_job(nodes=8, memory=8*2000, time=12)\n",
      "#opt_azo_graph_freq.get_potential_energy()\n",
      "ASE_utils.check_calcs([opt_azo_graph_freq])\n",
      "#print (opt_azo_graph_freq.calc.data['NImag'])"
     ],
     "language": "python",
     "metadata": {},
     "outputs": [
      {
       "metadata": {},
       "output_type": "pyout",
       "prompt_number": 9,
       "text": [
        "'Calculations complete'"
       ]
      }
     ],
     "prompt_number": 9
    },
    {
     "cell_type": "markdown",
     "metadata": {},
     "source": [
      "We would like to check that the flat ng cluster on it's own is at a minimum so do a freq calc on the plane ng"
     ]
    },
    {
     "cell_type": "code",
     "collapsed": false,
     "input": [
      "hf_graph = read('../../graphene_cycloadditions/cycloadd/B3LYP_631Gd_HF_STO3G_4_4_graphene.log')\n",
      "hf_graph_name = 'B3LYP_631Gd_HF_STO3G_4_4_graphene_freq'\n",
      "hf_graph.set_calculator(Gaussian(label=hf_graph_name, method='HF', basis='STO-3G', freq='freq' ))\n",
      "hf_graph.calc.set_job(nodes=4, memory=5600, time=5)\n",
      "#graph.get_potential_energy()\n",
      "ASE_utils.check_calcs([hf_graph])\n",
      "print (hf_graph.calc.data['NImag'])"
     ],
     "language": "python",
     "metadata": {},
     "outputs": [
      {
       "output_type": "stream",
       "stream": "stdout",
       "text": [
        "0.0\n"
       ]
      }
     ],
     "prompt_number": 10
    },
    {
     "cell_type": "markdown",
     "metadata": {},
     "source": [
      "It is a minimum, we will perform the same check on the B3LYP/6-31G(d) optimised geometry"
     ]
    },
    {
     "cell_type": "code",
     "collapsed": false,
     "input": [
      "dft_graph = read('../../graphene_cycloadditions/cycloadd/B3LYP_631Gd_B3LYP_631Gd_4_4_graphene.log')\n",
      "dft_graph_name = 'B3LYP_631Gd_B3LYP_631Gd_4_4_graphene_freq'\n",
      "dft_graph.set_calculator(Gaussian(label=dft_graph_name, method='HF', basis='STO-3G', freq='freq' ))\n",
      "dft_graph.calc.set_job(nodes=4, memory=5600, time=5)\n",
      "#dft_graph.get_potential_energy()\n",
      "ASE_utils.check_calcs([dft_graph])\n",
      "print (dft_graph.calc.data['NImag'])"
     ],
     "language": "python",
     "metadata": {},
     "outputs": [
      {
       "output_type": "stream",
       "stream": "stdout",
       "text": [
        "0.0\n"
       ]
      }
     ],
     "prompt_number": 11
    },
    {
     "cell_type": "markdown",
     "metadata": {},
     "source": [
      "It is also a minimum."
     ]
    },
    {
     "cell_type": "markdown",
     "metadata": {},
     "source": [
      "We would also like to see what happens if we break the sp2 hybridisation of the ring as simply as possible, we do this by adding H2"
     ]
    },
    {
     "cell_type": "code",
     "collapsed": false,
     "input": [
      "dft_h2_graph = read('xyz_files/4_4_H2_graph_init.xyz')\n",
      "dft_h2_graph_name = 'B3LYP_631Gd_B3LYP_631Gd_4_4_edg_H2'\n",
      "dft_h2_graph.set_calculator(Gaussian(label=dft_h2_graph_name, method='B3LYP', basis='6-31G(d)', opt='opt' ))\n",
      "dft_h2_graph.calc.set_job(nodes=8, memory=11200, time=5)\n",
      "#opt_h2_graph.get_potential_energy()\n",
      "ASE_utils.check_calcs([dft_h2_graph])"
     ],
     "language": "python",
     "metadata": {},
     "outputs": [
      {
       "metadata": {},
       "output_type": "pyout",
       "prompt_number": 12,
       "text": [
        "'Calculations complete'"
       ]
      }
     ],
     "prompt_number": 12
    },
    {
     "cell_type": "code",
     "collapsed": false,
     "input": [
      "dft_h2_graph_freq = read('B3LYP_631Gd_B3LYP_631Gd_4_4_edg_H2.log')\n",
      "dft_h2_graph_freq_name = 'B3LYP_631Gd_B3LYP_631Gd_4_4_edg_H2_freq'\n",
      "dft_h2_graph_freq.set_calculator(Gaussian(label=dft_h2_graph_freq_name, method='B3LYP', basis='6-31G(d)', freq='freq'))\n",
      "dft_h2_graph_freq.calc.set_job(nodes=8, memory=16000, time=12)\n",
      "#dft_h2_graph_freq.get_potential_energy()\n",
      "ASE_utils.check_calcs([dft_h2_graph_freq])\n",
      "print (dft_h2_graph_freq.calc.data['NImag'])"
     ],
     "language": "python",
     "metadata": {},
     "outputs": [
      {
       "output_type": "stream",
       "stream": "stdout",
       "text": [
        "0.0\n"
       ]
      }
     ],
     "prompt_number": 13
    },
    {
     "cell_type": "markdown",
     "metadata": {},
     "source": [
      "Comparing bond lengths for the nanographene ring with the substituted ring:"
     ]
    },
    {
     "cell_type": "code",
     "collapsed": false,
     "input": [
      "#convert to molmod\n",
      "md_dft_graph = ASE_utils.to_molmod(dft_graph)\n",
      "md_dft_h2_graph = ASE_utils.to_molmod(dft_h2_graph)\n",
      "\n",
      "#create carbon atom selector\n",
      "#c_selector = lambda m: ASE_utils.get_only_element_mask(m, 'C')\n",
      "    \n",
      "#get bond distances between neighbouring carbon atoms\n",
      "orig_bdists_inds = ASE_utils.bond_distances_v2(md_dft_graph, ignored_elements=['H'])\n",
      "h2sub_bdists_inds = ASE_utils.bond_distances_v2(md_dft_h2_graph, ignored_elements=['H'])\n",
      "\n",
      "#seperate the bond distances and the atom indices the bonds correspond to\n",
      "#nb indexes are python_like so start at zero programs (e.g. pyMol/Avogadro) often number atoms starting at 1\n",
      "orig_bdists, orig_inds = zip(*orig_bdists_inds)\n",
      "h2sub_bdists, h2sub_inds = zip(*h2sub_bdists_inds)\n",
      "\n",
      "#get atom indices for bonds we aren't examining\n",
      "h2sub_ignored_inds = [tuple(inds) for inds in md_dft_h2_graph.graph.edges if tuple(inds) not in h2sub_inds]\n",
      "\n",
      "orig_bdists = np.array(orig_bdists)\n",
      "h2sub_bdists = np.array(h2sub_bdists)\n",
      "\n",
      "delta_bdists = h2sub_bdists - orig_bdists"
     ],
     "language": "python",
     "metadata": {},
     "outputs": [],
     "prompt_number": 14
    },
    {
     "cell_type": "code",
     "collapsed": false,
     "input": [
      "len(orig_bdists_inds)"
     ],
     "language": "python",
     "metadata": {},
     "outputs": [
      {
       "metadata": {},
       "output_type": "pyout",
       "prompt_number": 15,
       "text": [
        "63"
       ]
      }
     ],
     "prompt_number": 15
    },
    {
     "cell_type": "markdown",
     "metadata": {},
     "source": [
      "Visualisation?"
     ]
    },
    {
     "cell_type": "code",
     "collapsed": false,
     "input": [
      "ind"
     ],
     "language": "python",
     "metadata": {},
     "outputs": [
      {
       "ename": "NameError",
       "evalue": "name 'ind' is not defined",
       "output_type": "pyerr",
       "traceback": [
        "\u001b[1;31m---------------------------------------------------------------------------\u001b[0m\n\u001b[1;31mNameError\u001b[0m                                 Traceback (most recent call last)",
        "\u001b[1;32m<ipython-input-16-73db3bfe62d8>\u001b[0m in \u001b[0;36m<module>\u001b[1;34m()\u001b[0m\n\u001b[1;32m----> 1\u001b[1;33m \u001b[0mind\u001b[0m\u001b[1;33m\u001b[0m\u001b[0m\n\u001b[0m",
        "\u001b[1;31mNameError\u001b[0m: name 'ind' is not defined"
       ]
      }
     ],
     "prompt_number": 16
    },
    {
     "cell_type": "code",
     "collapsed": false,
     "input": [
      "#dft_h2_graph.positions\n"
     ],
     "language": "python",
     "metadata": {},
     "outputs": [],
     "prompt_number": 17
    },
    {
     "cell_type": "code",
     "collapsed": false,
     "input": [
      "#%%pymol -> attempt to pickle variables in local scope, write unpickling of variables + contents of cell + deleting of pickle files, to temp_pymol_script.py execute pymol temp_pymol_script.py\n",
      "\n",
      "#pymol\n",
      "#bonds atom 1 to atom 2\n",
      "#bond i. 1-1, i. 2-2\n",
      "#removes bond from atom 1 to atom 2\n",
      "#unbond i. 1-1, i. 2-2\n",
      "\n",
      "normalize = True\n",
      "\n",
      "if normalize:\n",
      "    max1 = max(delta_bdists)\n",
      "    max2 = -min(delta_bdists)\n",
      "    max_d = max1 if max1 > max2 else max2 \n",
      "    delta_bdists /= max_d\n",
      "\n",
      "import os\n",
      "dft_h2_graph.write('tmp.xyz')\n",
      "pth = os.getcwd()\n",
      "\n",
      "import __main__\n",
      "__main__.pymol_argv = ['pymol','-q'] # Pymol: quiet\n",
      "import pymol\n",
      "pymol.finish_launching()\n",
      "\n",
      "pymol.cmd.load('tmp.xyz')\n",
      "#pymol.cmd.set('label_color', 'white')\n",
      "\n",
      "#for each relevant bond colour by difference in bond length, +ve -> red, -ve -> blue\n",
      "for i in range(len(delta_bdists)):\n",
      "    ind1,ind2 = h2sub_inds[i]\n",
      "\n",
      "    bond_pos = (dft_h2_graph.positions[ind1] + dft_h2_graph.positions[ind2])/2\n",
      "    bond_pos = list(bond_pos)\n",
      "    \n",
      "    pymol.cmd.pseudoatom('bond_{i}'.format(i=i), pos=bond_pos)\n",
      "    pymol.cmd.label('bond_{i}'.format(i=i), \"{0:.3f}\".format(delta_bdists[i]))\n",
      "\n",
      "    if delta_bdists[i] > 0:\n",
      "        rgb = [delta_bdists[i], 0, 0]\n",
      "    else:\n",
      "        rgb = [0,0,-delta_bdists[i]]\n",
      "        \n",
      "    pymol.cmd.set_color('rgb_{i}'.format(i=i), rgb)\n",
      "    pymol.cmd.set_bond('line_color', 'rgb_{i}'.format(i=i), 'id {atom1}'.format(atom1=ind1+1), 'id {atom2}'.format(atom2=ind2+1))\n",
      "\n",
      "#colour ignored bonds grey\n",
      "for ind1,ind2  in  h2sub_ignored_inds:\n",
      "    pymol.cmd.set_bond('line_color', 'grey', 'id {atom1}'.format(atom1=ind1+1), 'id {atom2}'.format(atom2=ind2+1))\n"
     ],
     "language": "python",
     "metadata": {},
     "outputs": [
      {
       "ename": "ImportError",
       "evalue": "No module named pymol",
       "output_type": "pyerr",
       "traceback": [
        "\u001b[1;31m---------------------------------------------------------------------------\u001b[0m\n\u001b[1;31mImportError\u001b[0m                               Traceback (most recent call last)",
        "\u001b[1;32m<ipython-input-18-ea2ca28aa1bc>\u001b[0m in \u001b[0;36m<module>\u001b[1;34m()\u001b[0m\n\u001b[0;32m     21\u001b[0m \u001b[1;32mimport\u001b[0m \u001b[0m__main__\u001b[0m\u001b[1;33m\u001b[0m\u001b[0m\n\u001b[0;32m     22\u001b[0m \u001b[0m__main__\u001b[0m\u001b[1;33m.\u001b[0m\u001b[0mpymol_argv\u001b[0m \u001b[1;33m=\u001b[0m \u001b[1;33m[\u001b[0m\u001b[1;34m'pymol'\u001b[0m\u001b[1;33m,\u001b[0m\u001b[1;34m'-q'\u001b[0m\u001b[1;33m]\u001b[0m \u001b[1;31m# Pymol: quiet\u001b[0m\u001b[1;33m\u001b[0m\u001b[0m\n\u001b[1;32m---> 23\u001b[1;33m \u001b[1;32mimport\u001b[0m \u001b[0mpymol\u001b[0m\u001b[1;33m\u001b[0m\u001b[0m\n\u001b[0m\u001b[0;32m     24\u001b[0m \u001b[0mpymol\u001b[0m\u001b[1;33m.\u001b[0m\u001b[0mfinish_launching\u001b[0m\u001b[1;33m(\u001b[0m\u001b[1;33m)\u001b[0m\u001b[1;33m\u001b[0m\u001b[0m\n\u001b[0;32m     25\u001b[0m \u001b[1;33m\u001b[0m\u001b[0m\n",
        "\u001b[1;31mImportError\u001b[0m: No module named pymol"
       ]
      }
     ],
     "prompt_number": 18
    },
    {
     "cell_type": "code",
     "collapsed": false,
     "input": [
      "from math import pi\n",
      "dft_graph.rotate('x',pi/2)\n",
      "dft_graph.rotate('z',pi/2)"
     ],
     "language": "python",
     "metadata": {},
     "outputs": []
    },
    {
     "cell_type": "code",
     "collapsed": false,
     "input": [
      "#view(dft_graph, viewer='avogadro')\n",
      "#view(opt_h2_graph, viewer='avogadro')"
     ],
     "language": "python",
     "metadata": {},
     "outputs": []
    }
   ],
   "metadata": {}
  }
 ]
}