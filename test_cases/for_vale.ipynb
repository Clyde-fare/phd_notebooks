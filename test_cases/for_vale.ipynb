{
 "metadata": {
  "name": "",
  "signature": "sha256:59a83c3d7a7236b8b04f463d44c6dcc5ba802b10767954e0345b783b75668649"
 },
 "nbformat": 3,
 "nbformat_minor": 0,
 "worksheets": [
  {
   "cells": [
    {
     "cell_type": "code",
     "collapsed": false,
     "input": [
      "import pandas as pd\n",
      "import numpy as np\n",
      "\n",
      "%matplotlib inline"
     ],
     "language": "python",
     "metadata": {},
     "outputs": [],
     "prompt_number": 8
    },
    {
     "cell_type": "code",
     "collapsed": false,
     "input": [
      "fake_data = [np.random.randn(5) for _ in range(5)]\n",
      "fake_data"
     ],
     "language": "python",
     "metadata": {},
     "outputs": [
      {
       "metadata": {},
       "output_type": "pyout",
       "prompt_number": 2,
       "text": [
        "[array([ 0.95227471,  0.73709125,  1.43052142, -0.13226793,  1.16962603]),\n",
        " array([ 0.74137432, -1.51421766, -0.31163793, -0.29627111,  0.02484177]),\n",
        " array([-0.45723244, -0.97364925,  0.75161881, -0.20172281,  1.69218877]),\n",
        " array([ 0.71597233, -0.18137695, -0.30428539, -0.44312919,  0.03085173]),\n",
        " array([ 0.823856  , -0.92201703, -0.71682195, -0.84183312, -0.89407203])]"
       ]
      }
     ],
     "prompt_number": 2
    },
    {
     "cell_type": "code",
     "collapsed": false,
     "input": [
      "index_names = ['label_0', 'label_1', 'label_2', 'label_3', 'label_4']\n",
      "column_names = ['label_0', 'label_10', 'label_20', 'label_30', 'label_40']\n",
      "\n",
      "my_dataframe = pd.DataFrame( fake_data, \n",
      "                             index=index_names, \n",
      "                             columns=column_names )\n",
      "\n",
      "my_dataframe"
     ],
     "language": "python",
     "metadata": {},
     "outputs": [
      {
       "html": [
        "<div style=\"max-height:1000px;max-width:1500px;overflow:auto;\">\n",
        "<table border=\"1\" class=\"dataframe\">\n",
        "  <thead>\n",
        "    <tr style=\"text-align: right;\">\n",
        "      <th></th>\n",
        "      <th>label_0</th>\n",
        "      <th>label_10</th>\n",
        "      <th>label_20</th>\n",
        "      <th>label_30</th>\n",
        "      <th>label_40</th>\n",
        "    </tr>\n",
        "  </thead>\n",
        "  <tbody>\n",
        "    <tr>\n",
        "      <th>label_0</th>\n",
        "      <td> 0.952275</td>\n",
        "      <td> 0.737091</td>\n",
        "      <td> 1.430521</td>\n",
        "      <td>-0.132268</td>\n",
        "      <td> 1.169626</td>\n",
        "    </tr>\n",
        "    <tr>\n",
        "      <th>label_1</th>\n",
        "      <td> 0.741374</td>\n",
        "      <td>-1.514218</td>\n",
        "      <td>-0.311638</td>\n",
        "      <td>-0.296271</td>\n",
        "      <td> 0.024842</td>\n",
        "    </tr>\n",
        "    <tr>\n",
        "      <th>label_2</th>\n",
        "      <td>-0.457232</td>\n",
        "      <td>-0.973649</td>\n",
        "      <td> 0.751619</td>\n",
        "      <td>-0.201723</td>\n",
        "      <td> 1.692189</td>\n",
        "    </tr>\n",
        "    <tr>\n",
        "      <th>label_3</th>\n",
        "      <td> 0.715972</td>\n",
        "      <td>-0.181377</td>\n",
        "      <td>-0.304285</td>\n",
        "      <td>-0.443129</td>\n",
        "      <td> 0.030852</td>\n",
        "    </tr>\n",
        "    <tr>\n",
        "      <th>label_4</th>\n",
        "      <td> 0.823856</td>\n",
        "      <td>-0.922017</td>\n",
        "      <td>-0.716822</td>\n",
        "      <td>-0.841833</td>\n",
        "      <td>-0.894072</td>\n",
        "    </tr>\n",
        "  </tbody>\n",
        "</table>\n",
        "</div>"
       ],
       "metadata": {},
       "output_type": "pyout",
       "prompt_number": 6,
       "text": [
        "          label_0  label_10  label_20  label_30  label_40\n",
        "label_0  0.952275  0.737091  1.430521 -0.132268  1.169626\n",
        "label_1  0.741374 -1.514218 -0.311638 -0.296271  0.024842\n",
        "label_2 -0.457232 -0.973649  0.751619 -0.201723  1.692189\n",
        "label_3  0.715972 -0.181377 -0.304285 -0.443129  0.030852\n",
        "label_4  0.823856 -0.922017 -0.716822 -0.841833 -0.894072"
       ]
      }
     ],
     "prompt_number": 6
    },
    {
     "cell_type": "code",
     "collapsed": false,
     "input": [
      "r1,r2,r3,r4,r5 = np.array(fake_data)\n",
      "r1"
     ],
     "language": "python",
     "metadata": {},
     "outputs": [
      {
       "metadata": {},
       "output_type": "pyout",
       "prompt_number": 4,
       "text": [
        "array([ 0.95227471,  0.73709125,  1.43052142, -0.13226793,  1.16962603])"
       ]
      }
     ],
     "prompt_number": 4
    },
    {
     "cell_type": "code",
     "collapsed": false,
     "input": [
      "new_fake_data = np.array([r1,r2,r3,r4,r5])\n",
      "new_fake_data"
     ],
     "language": "python",
     "metadata": {},
     "outputs": [
      {
       "metadata": {},
       "output_type": "pyout",
       "prompt_number": 5,
       "text": [
        "array([[ 0.95227471,  0.73709125,  1.43052142, -0.13226793,  1.16962603],\n",
        "       [ 0.74137432, -1.51421766, -0.31163793, -0.29627111,  0.02484177],\n",
        "       [-0.45723244, -0.97364925,  0.75161881, -0.20172281,  1.69218877],\n",
        "       [ 0.71597233, -0.18137695, -0.30428539, -0.44312919,  0.03085173],\n",
        "       [ 0.823856  , -0.92201703, -0.71682195, -0.84183312, -0.89407203]])"
       ]
      }
     ],
     "prompt_number": 5
    },
    {
     "cell_type": "code",
     "collapsed": false,
     "input": [
      "my_dataframe.plot()"
     ],
     "language": "python",
     "metadata": {},
     "outputs": [
      {
       "metadata": {},
       "output_type": "pyout",
       "prompt_number": 12,
       "text": [
        "<matplotlib.axes._subplots.AxesSubplot at 0x7fef36bf3690>"
       ]
      },
      {
       "metadata": {},
       "output_type": "display_data",
       "png": "[encoded data removed]",
       "text": [
        "<matplotlib.figure.Figure at 0x7fef369bacd0>"
       ]
      }
     ],
     "prompt_number": 12
    },
    {
     "cell_type": "code",
     "collapsed": false,
     "input": [],
     "language": "python",
     "metadata": {},
     "outputs": []
    }
   ],
   "metadata": {}
  }
 ]
}