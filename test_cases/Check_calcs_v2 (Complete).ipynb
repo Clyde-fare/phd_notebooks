{
 "metadata": {
  "name": ""
 },
 "nbformat": 3,
 "nbformat_minor": 0,
 "worksheets": [
  {
   "cells": [
    {
     "cell_type": "code",
     "collapsed": false,
     "input": [
      "cd check_calcs_test"
     ],
     "language": "python",
     "metadata": {},
     "outputs": [
      {
       "output_type": "stream",
       "stream": "stdout",
       "text": [
        "[Errno 2] No such file or directory: 'check_calcs_test'\n",
        "/home/clyde/Dropbox/Project Stuff/Notebooks/test_cases/check_calcs_test\n"
       ]
      }
     ],
     "prompt_number": 41
    },
    {
     "cell_type": "code",
     "collapsed": false,
     "input": [
      "from ase import Atoms\n",
      "from ase.calculators.gaussian import Gaussian\n",
      "from ASE_utils import check_calcs, check_calcs_v2"
     ],
     "language": "python",
     "metadata": {},
     "outputs": [
      {
       "output_type": "stream",
       "stream": "stderr",
       "text": [
        "WARNING: Neither ~/.pyp_util.ini nor ./pbs_util.ini exist."
       ]
      }
     ],
     "prompt_number": 2
    },
    {
     "cell_type": "code",
     "collapsed": false,
     "input": [
      "mols = []\n",
      "for i, d in enumerate(arange(0.5,1.5,0.1)):\n",
      "    mols.append(Atoms('2H', positions=[(0., 0., 0.), (0., 0., d)]))\n",
      "    mols[i].set_calculator(Gaussian(label='H2_{l}'.format(l=i), method='HF', basis='STO-3G'))\n",
      "    mols[i].calc.set_job(nodes=8, memory=8*1400, time=1, queue='pqmb', version='g09')\n",
      "    #mols[i].calc.start()\n",
      "\n",
      "mols=check_calcs_v2(mols, 'H2_Data')"
     ],
     "language": "python",
     "metadata": {},
     "outputs": [
      {
       "output_type": "stream",
       "stream": "stderr",
       "text": [
        "/home/clyde/Project/Code/Python/ASE_utils.py:176: RuntimeWarning: Calculations: H2_10 H2_11 H2_12 H2_13 H2_14 H2_15 H2_16 H2_17 in data_file do not match molecules passed to check_calcs\n",
        "  m=\" \".join(mismatched_labels))\n"
       ]
      }
     ],
     "prompt_number": 3
    },
    {
     "cell_type": "code",
     "collapsed": false,
     "input": [
      "no_past_calcs = len(mols)\n",
      "for i,d in enumerate(arange(0.1,0.5,0.05)):\n",
      "    mol = Atoms('2H', positions=[(0., 0., 0.), (0., 0., d)])\n",
      "    mol.set_calculator(Gaussian(label='H2_{l}'.format(l=i + no_past_calcs), method='HF', basis='STO-3G'))\n",
      "    mol.calc.set_job(nodes=8, memory=8*1400, time=1, queue='pqmb', version='g09')\n",
      "    #mol.calc.start()\n",
      "    mols.append(mol)\n",
      "mols=check_calcs_v2(mols, 'H2_Data')"
     ],
     "language": "python",
     "metadata": {},
     "outputs": [],
     "prompt_number": 4
    },
    {
     "cell_type": "code",
     "collapsed": false,
     "input": [
      "from cc_notebook_utils import *\n",
      "mols_to_html(mols)"
     ],
     "language": "python",
     "metadata": {},
     "outputs": [
      {
       "html": [
        "\n",
        "           <script type=\"text/javascript\">\n",
        "           function view_function (event, file_n) {\n",
        "               if (event.ctrlKey && event.shiftKey){\n",
        "                   IPython.notebook.kernel.execute(\"cc_notebook_utils.pygview('\" + file_n + \".log')\");\n",
        "               }\n",
        "               else if (event.ctrlKey){\n",
        "                   IPython.notebook.kernel.execute(\"cc_notebook_utils.pygausssum('\" + file_n + \".log')\");\n",
        "               }\n",
        "               else if (event.shiftKey){\n",
        "                   IPython.notebook.kernel.execute(\"cc_notebook_utils.pyvogadro('\" + file_n + \".log')\");\n",
        "               }\n",
        "               else {\n",
        "                   IPython.notebook.kernel.execute(\"cc_notebook_utils.pyvim('\" + file_n + \".log')\");\n",
        "                   IPython.notebook.kernel.execute(\"print(file_n)\");\n",
        "               }\n",
        "           }\n",
        "           </script>\n",
        "    <style>\n",
        "    table\n",
        "    {\n",
        "        border-collapse:collapse;\n",
        "    }\n",
        "    td\n",
        "    {\n",
        "        padding:15px;\n",
        "    }\n",
        "    </style>\n",
        "    <body>\n",
        "    <table bgcolor=\"white\">\n",
        "    <col/><tr><td>H2_0</td><td><a href = \"files/test_cases/check_calcs_test/H2_0.com\" target = \"_blank\">com</a></td><td><input type=\"button\" value=\"Smart Log\" id=\"H2_0\" onclick=\"view_function(event, this.id)\" /></td><td>Success</td></tr><tr><td>H2_1</td><td><a href = \"files/test_cases/check_calcs_test/H2_1.com\" target = \"_blank\">com</a></td><td><input type=\"button\" value=\"Smart Log\" id=\"H2_1\" onclick=\"view_function(event, this.id)\" /></td><td>Success</td></tr><tr><td>H2_2</td><td><a href = \"files/test_cases/check_calcs_test/H2_2.com\" target = \"_blank\">com</a></td><td><input type=\"button\" value=\"Smart Log\" id=\"H2_2\" onclick=\"view_function(event, this.id)\" /></td><td>Success</td></tr><tr><td>H2_3</td><td><a href = \"files/test_cases/check_calcs_test/H2_3.com\" target = \"_blank\">com</a></td><td><input type=\"button\" value=\"Smart Log\" id=\"H2_3\" onclick=\"view_function(event, this.id)\" /></td><td>Success</td></tr><tr><td>H2_4</td><td><a href = \"files/test_cases/check_calcs_test/H2_4.com\" target = \"_blank\">com</a></td><td><input type=\"button\" value=\"Smart Log\" id=\"H2_4\" onclick=\"view_function(event, this.id)\" /></td><td>Success</td></tr><tr><td>H2_5</td><td><a href = \"files/test_cases/check_calcs_test/H2_5.com\" target = \"_blank\">com</a></td><td><input type=\"button\" value=\"Smart Log\" id=\"H2_5\" onclick=\"view_function(event, this.id)\" /></td><td>Success</td></tr><tr><td>H2_6</td><td><a href = \"files/test_cases/check_calcs_test/H2_6.com\" target = \"_blank\">com</a></td><td><input type=\"button\" value=\"Smart Log\" id=\"H2_6\" onclick=\"view_function(event, this.id)\" /></td><td>Success</td></tr><tr><td>H2_7</td><td><a href = \"files/test_cases/check_calcs_test/H2_7.com\" target = \"_blank\">com</a></td><td><input type=\"button\" value=\"Smart Log\" id=\"H2_7\" onclick=\"view_function(event, this.id)\" /></td><td>Success</td></tr><tr><td>H2_8</td><td><a href = \"files/test_cases/check_calcs_test/H2_8.com\" target = \"_blank\">com</a></td><td><input type=\"button\" value=\"Smart Log\" id=\"H2_8\" onclick=\"view_function(event, this.id)\" /></td><td>Success</td></tr><tr><td>H2_9</td><td><a href = \"files/test_cases/check_calcs_test/H2_9.com\" target = \"_blank\">com</a></td><td><input type=\"button\" value=\"Smart Log\" id=\"H2_9\" onclick=\"view_function(event, this.id)\" /></td><td>Success</td></tr><tr><td>H2_10</td><td><a href = \"files/test_cases/check_calcs_test/H2_10.com\" target = \"_blank\">com</a></td><td><input type=\"button\" value=\"Smart Log\" id=\"H2_10\" onclick=\"view_function(event, this.id)\" /></td><td>Error: Atoms too close.</td></tr><tr><td>H2_11</td><td><a href = \"files/test_cases/check_calcs_test/H2_11.com\" target = \"_blank\">com</a></td><td><input type=\"button\" value=\"Smart Log\" id=\"H2_11\" onclick=\"view_function(event, this.id)\" /></td><td>Error: Atoms too close.</td></tr><tr><td>H2_12</td><td><a href = \"files/test_cases/check_calcs_test/H2_12.com\" target = \"_blank\">com</a></td><td><input type=\"button\" value=\"Smart Log\" id=\"H2_12\" onclick=\"view_function(event, this.id)\" /></td><td>Error: Atoms too close.</td></tr><tr><td>H2_13</td><td><a href = \"files/test_cases/check_calcs_test/H2_13.com\" target = \"_blank\">com</a></td><td><input type=\"button\" value=\"Smart Log\" id=\"H2_13\" onclick=\"view_function(event, this.id)\" /></td><td>Error: Atoms too close.</td></tr><tr><td>H2_14</td><td><a href = \"files/test_cases/check_calcs_test/H2_14.com\" target = \"_blank\">com</a></td><td><input type=\"button\" value=\"Smart Log\" id=\"H2_14\" onclick=\"view_function(event, this.id)\" /></td><td>Error: Atoms too close.</td></tr><tr><td>H2_15</td><td><a href = \"files/test_cases/check_calcs_test/H2_15.com\" target = \"_blank\">com</a></td><td><input type=\"button\" value=\"Smart Log\" id=\"H2_15\" onclick=\"view_function(event, this.id)\" /></td><td>Error: Atoms too close.</td></tr><tr><td>H2_16</td><td><a href = \"files/test_cases/check_calcs_test/H2_16.com\" target = \"_blank\">com</a></td><td><input type=\"button\" value=\"Smart Log\" id=\"H2_16\" onclick=\"view_function(event, this.id)\" /></td><td>Error: Atoms too close.</td></tr><tr><td>H2_17</td><td><a href = \"files/test_cases/check_calcs_test/H2_17.com\" target = \"_blank\">com</a></td><td><input type=\"button\" value=\"Smart Log\" id=\"H2_17\" onclick=\"view_function(event, this.id)\" /></td><td>Error: Atoms too close.</td></tr>\n",
        "    </table>\n",
        "    </body>"
       ],
       "output_type": "pyout",
       "prompt_number": 5,
       "text": [
        "<IPython.core.display.HTML at 0x3cafdd0>"
       ]
      }
     ],
     "prompt_number": 5
    },
    {
     "cell_type": "code",
     "collapsed": false,
     "input": [
      "successful_mols = [m for m in mols if m.calc.status == 'Success']"
     ],
     "language": "python",
     "metadata": {},
     "outputs": [],
     "prompt_number": 6
    },
    {
     "cell_type": "code",
     "collapsed": false,
     "input": [
      "check_calcs_v2(successful_mols, 'H2_Data')"
     ],
     "language": "python",
     "metadata": {},
     "outputs": [
      {
       "output_type": "pyout",
       "prompt_number": 7,
       "text": [
        "[Atoms(symbols='H2', positions=..., cell=[1.0, 1.0, 1.0], pbc=[False, False, False], calculator=Gaussian(...)),\n",
        " Atoms(symbols='H2', positions=..., cell=[1.0, 1.0, 1.0], pbc=[False, False, False], calculator=Gaussian(...)),\n",
        " Atoms(symbols='H2', positions=..., cell=[1.0, 1.0, 1.0], pbc=[False, False, False], calculator=Gaussian(...)),\n",
        " Atoms(symbols='H2', positions=..., cell=[1.0, 1.0, 1.0], pbc=[False, False, False], calculator=Gaussian(...)),\n",
        " Atoms(symbols='H2', positions=..., cell=[1.0, 1.0, 1.0], pbc=[False, False, False], calculator=Gaussian(...)),\n",
        " Atoms(symbols='H2', positions=..., cell=[1.0, 1.0, 1.0], pbc=[False, False, False], calculator=Gaussian(...)),\n",
        " Atoms(symbols='H2', positions=..., cell=[1.0, 1.0, 1.0], pbc=[False, False, False], calculator=Gaussian(...)),\n",
        " Atoms(symbols='H2', positions=..., cell=[1.0, 1.0, 1.0], pbc=[False, False, False], calculator=Gaussian(...)),\n",
        " Atoms(symbols='H2', positions=..., cell=[1.0, 1.0, 1.0], pbc=[False, False, False], calculator=Gaussian(...)),\n",
        " Atoms(symbols='H2', positions=..., cell=[1.0, 1.0, 1.0], pbc=[False, False, False], calculator=Gaussian(...))]"
       ]
      }
     ],
     "prompt_number": 7
    },
    {
     "cell_type": "code",
     "collapsed": false,
     "input": [
      "check_calcs_v2(mols, 'H2_Data')"
     ],
     "language": "python",
     "metadata": {},
     "outputs": [
      {
       "output_type": "pyout",
       "prompt_number": 8,
       "text": [
        "[Atoms(symbols='H2', positions=..., cell=[1.0, 1.0, 1.0], pbc=[False, False, False], calculator=Gaussian(...)),\n",
        " Atoms(symbols='H2', positions=..., cell=[1.0, 1.0, 1.0], pbc=[False, False, False], calculator=Gaussian(...)),\n",
        " Atoms(symbols='H2', positions=..., cell=[1.0, 1.0, 1.0], pbc=[False, False, False], calculator=Gaussian(...)),\n",
        " Atoms(symbols='H2', positions=..., cell=[1.0, 1.0, 1.0], pbc=[False, False, False], calculator=Gaussian(...)),\n",
        " Atoms(symbols='H2', positions=..., cell=[1.0, 1.0, 1.0], pbc=[False, False, False], calculator=Gaussian(...)),\n",
        " Atoms(symbols='H2', positions=..., cell=[1.0, 1.0, 1.0], pbc=[False, False, False], calculator=Gaussian(...)),\n",
        " Atoms(symbols='H2', positions=..., cell=[1.0, 1.0, 1.0], pbc=[False, False, False], calculator=Gaussian(...)),\n",
        " Atoms(symbols='H2', positions=..., cell=[1.0, 1.0, 1.0], pbc=[False, False, False], calculator=Gaussian(...)),\n",
        " Atoms(symbols='H2', positions=..., cell=[1.0, 1.0, 1.0], pbc=[False, False, False], calculator=Gaussian(...)),\n",
        " Atoms(symbols='H2', positions=..., cell=[1.0, 1.0, 1.0], pbc=[False, False, False], calculator=Gaussian(...)),\n",
        " Atoms(symbols='H2', positions=..., cell=[1.0, 1.0, 1.0], pbc=[False, False, False], calculator=Gaussian(...)),\n",
        " Atoms(symbols='H2', positions=..., cell=[1.0, 1.0, 1.0], pbc=[False, False, False], calculator=Gaussian(...)),\n",
        " Atoms(symbols='H2', positions=..., cell=[1.0, 1.0, 1.0], pbc=[False, False, False], calculator=Gaussian(...)),\n",
        " Atoms(symbols='H2', positions=..., cell=[1.0, 1.0, 1.0], pbc=[False, False, False], calculator=Gaussian(...)),\n",
        " Atoms(symbols='H2', positions=..., cell=[1.0, 1.0, 1.0], pbc=[False, False, False], calculator=Gaussian(...)),\n",
        " Atoms(symbols='H2', positions=..., cell=[1.0, 1.0, 1.0], pbc=[False, False, False], calculator=Gaussian(...)),\n",
        " Atoms(symbols='H2', positions=..., cell=[1.0, 1.0, 1.0], pbc=[False, False, False], calculator=Gaussian(...)),\n",
        " Atoms(symbols='H2', positions=..., cell=[1.0, 1.0, 1.0], pbc=[False, False, False], calculator=Gaussian(...))]"
       ]
      }
     ],
     "prompt_number": 8
    },
    {
     "cell_type": "code",
     "collapsed": false,
     "input": [
      "E = [m.calc.energy_zero for m in successful_mols]\n",
      "D = arange(0.5,1.5,0.1)\n",
      "plot(D,E)"
     ],
     "language": "python",
     "metadata": {},
     "outputs": [
      {
       "output_type": "pyout",
       "prompt_number": 9,
       "text": [
        "[<matplotlib.lines.Line2D at 0x3eff750>]"
       ]
      },
      {
       "output_type": "display_data",
       "png": "[encoded data removed]"
      }
     ],
     "prompt_number": 9
    },
    {
     "cell_type": "code",
     "collapsed": false,
     "input": [
      "#manually copied 80 log files to check_calcs_test, 10 have failed, the rest are ~9mb each, i.e. they represent a reasonable size for performance tests\n",
      "atom_list = [67,68,69,70,71,72,73,74] + [28,29] + [12,13,14,15,27,41,42,30] + [11,25,26,16,32,31]\n",
      "test_calcs = []\n",
      "for i in range(80):\n",
      "    test_calc = Atoms()\n",
      "    test_calc.set_calculator(Gaussian(label='irc_point_{n}_stable_restart_1'.format(n=i)))\n",
      "    test_calc_H = atom_list\n",
      "    test_calc.calc.oniom_coord_params['layers'] = [[no -1 for no in test_calc_H]]\n",
      "    test_calc.calc.oniom_coord_params['layer_mults'] = [1,1]\n",
      "    test_calc.calc.set_job(nodes=8, memory=8*1400, time=1, queue='pqmb', version='g09')\n",
      "    test_calcs.append(test_calc)"
     ],
     "language": "python",
     "metadata": {},
     "outputs": [],
     "prompt_number": 56
    },
    {
     "cell_type": "code",
     "collapsed": false,
     "input": [
      "import time, os\n",
      "times = {}\n",
      "sizes = {}\n",
      "sizes.update({'Plain files':sum([float(os.path.getsize(c.calc.label +'.log')) for c in test_calcs])/1024})\n",
      "\n",
      "init = time.time()\n",
      "data = [f.calc.max_data for f in test_calcs]\n",
      "times.update({'data_parse':time.time() - init})\n",
      "\n",
      "init = time.time()\n",
      "with open('test_irc.pkl', 'wb') as f:\n",
      "    cPickle.dump(test_calcs, f)\n",
      "times.update({'pickle0_write':time.time() - init})\n",
      "sizes.update({'pickle0':float(os.path.getsize('test_irc.pkl'))/1024})\n",
      "\n",
      "init = time.time()\n",
      "with open('test_irc.pkl', 'rb') as f:\n",
      "    cPickle.load(f)\n",
      "times.update({'pickle0_read':time.time() - init})\n",
      "\n",
      "init = time.time()\n",
      "with open('test_irc_2.pkl', 'wb') as f:\n",
      "    cPickle.dump(test_calcs, f, -1)\n",
      "times.update({'pickle-1_write':time.time() - init})\n",
      "sizes.update({'pickle-1':float(os.path.getsize('test_irc_2.pkl'))/1024})\n",
      "\n",
      "init = time.time()\n",
      "with open('test_irc_2.pkl', 'rb') as f:\n",
      "    cPickle.load(f)\n",
      "times.update({'pickle-1_read':time.time() - init})\n",
      "\n",
      "init = time.time()\n",
      "with open('test_irc_3.pkl', 'wb') as f:\n",
      "    cPickle.dump(data, f)\n",
      "times.update({'pickle0_write_data':time.time() - init})\n",
      "sizes.update({'pickle0_data':float(os.path.getsize('test_irc_3.pkl'))/1024})\n",
      "\n",
      "init = time.time()\n",
      "with open('test_irc_3.pkl', 'rb') as f:\n",
      "    cPickle.load(f)\n",
      "times.update({'pickle0_read_data':time.time() - init})\n",
      "\n",
      "init = time.time()\n",
      "with open('test_irc_4.pkl', 'wb') as f:\n",
      "    cPickle.dump(data, f, -1)\n",
      "times.update({'pickle-1_write_data':time.time() - init})\n",
      "sizes.update({'pickle-1_data':float(os.path.getsize('test_irc_4.pkl'))/1024})\n",
      "\n",
      "init = time.time()\n",
      "with open('test_irc_4.pkl', 'rb') as f:\n",
      "    cPickle.load(f)\n",
      "times.update({'pickle-1_read_data':time.time() - init})\n",
      "\n",
      "init = time.time()\n",
      "with open('test_irc_5.pkl', 'wb') as f:\n",
      "    marshal.dump(data, f)\n",
      "times.update({'marshal_write_data':time.time() - init})\n",
      "sizes.update({'marshal_data':float(os.path.getsize('test_irc_5.pkl'))/1024})\n",
      "\n",
      "init = time.time()\n",
      "with open('test_irc_5.pkl', 'rb') as f:\n",
      "    marshal.load(f)\n",
      "times.update({'marshal_read_data':time.time() - init})"
     ],
     "language": "python",
     "metadata": {},
     "outputs": [],
     "prompt_number": 90
    },
    {
     "cell_type": "code",
     "collapsed": false,
     "input": [
      "import gzip\n",
      "\n",
      "gzip_times={}\n",
      "gzip_sizes={}\n",
      "\n",
      "init = time.time()\n",
      "with gzip.GzipFile('test_irc.pkl.gz', 'wb') as f:\n",
      "    cPickle.dump(test_calcs, f)\n",
      "gzip_times.update({'pickle0_write':time.time() - init})\n",
      "gzip_sizes.update({'pickle0':float(os.path.getsize('test_irc.pkl.gz'))/1024})\n",
      "\n",
      "init = time.time()\n",
      "with gzip.GzipFile('test_irc.pkl.gz', 'rb') as f:\n",
      "    cPickle.load(f)\n",
      "gzip_times.update({'pickle0_read':time.time() - init})\n",
      "\n",
      "init = time.time()\n",
      "with gzip.GzipFile('test_irc_2.pkl.gz', 'wb') as f:\n",
      "    cPickle.dump(test_calcs, f, -1)\n",
      "gzip_times.update({'pickle-1_write':time.time() - init})\n",
      "gzip_sizes.update({'pickle-1':float(os.path.getsize('test_irc_2.pkl.gz'))/1024})    \n",
      "\n",
      "init = time.time()\n",
      "with gzip.GzipFile('test_irc_2.pkl.gz', 'rb') as f:\n",
      "    cPickle.load(f)\n",
      "gzip_times.update({'pickle-1_read':time.time() - init})\n",
      "\n",
      "init = time.time()\n",
      "with gzip.GzipFile('test_irc_3.pkl.gz', 'wb') as f:\n",
      "    cPickle.dump(data, f)\n",
      "gzip_times.update({'pickle0_write_data':time.time() - init})\n",
      "gzip_sizes.update({'pickle0_data':float(os.path.getsize('test_irc_3.pkl.gz'))/1024})\n",
      "\n",
      "init = time.time()\n",
      "with gzip.GzipFile('test_irc_3.pkl.gz', 'rb') as f:\n",
      "    cPickle.load(f)\n",
      "gzip_times.update({'pickle0_read_data':time.time() - init})\n",
      "\n",
      "init = time.time()\n",
      "with gzip.GzipFile('test_irc_4.pkl.gz', 'wb') as f:\n",
      "    cPickle.dump(data, f, -1)\n",
      "gzip_times.update({'pickle-1_write_data':time.time() - init})\n",
      "gzip_sizes.update({'pickle-1_data':float(os.path.getsize('test_irc_4.pkl.gz'))/1024})\n",
      "\n",
      "init = time.time()\n",
      "with gzip.GzipFile('test_irc_4.pkl.gz', 'rb') as f:\n",
      "    cPickle.load(f)\n",
      "gzip_times.update({'pickle-1_read_data':time.time() - init})\n",
      "\n",
      "init = time.time()\n",
      "with gzip.GzipFile('test_irc_5.pkl.gz', 'wb') as f:\n",
      "    f.write(marshal.dumps(data))\n",
      "gzip_times.update({'marshal_write_data':time.time() - init})\n",
      "gzip_sizes.update({'marshal_data':float(os.path.getsize('test_irc_5.pkl.gz'))/1024})\n",
      "\n",
      "init = time.time()\n",
      "with gzip.GzipFile('test_irc_5.pkl.gz', 'rb') as f:\n",
      "    marshal.loads(f.read())\n",
      "gzip_times.update({'marshal_read_data':time.time() - init})"
     ],
     "language": "python",
     "metadata": {},
     "outputs": [],
     "prompt_number": 88
    },
    {
     "cell_type": "code",
     "collapsed": false,
     "input": [
      "read_keys = [k for k in times if 'read' in k]\n",
      "read_keys.sort(key=lambda k:times[k])\n",
      "write_keys = [k for k in times if 'write' in k]\n",
      "write_keys.sort(key=lambda k:times[k])\n",
      "\n",
      "print('data_parse: {value}'.format(value = times['data_parse']))\n",
      "print('\\nPlain data:')\n",
      "for k in read_keys:\n",
      "    print('{key}: {value}'.format(key=k, value=times[k]))\n",
      "    \n",
      "for k in write_keys:\n",
      "    print('{key}: {value}'.format(key=k, value=times[k]))\n",
      "\n",
      "\n",
      "    \n",
      "gzip_read_keys = [k for k in gzip_times if 'read' in k]\n",
      "gzip_read_keys.sort(key=lambda k:gzip_times[k])\n",
      "gzip_write_keys = [k for k in gzip_times if 'write' in k]\n",
      "gzip_write_keys.sort(key=lambda k:gzip_times[k])\n",
      "\n",
      "print('\\nGzipped data:')\n",
      "for k in gzip_read_keys:\n",
      "    print('{key}: {value}'.format(key=k, value=gzip_times[k]))\n",
      "for k in gzip_write_keys:\n",
      "    print('{key}: {value}'.format(key=k, value=gzip_times[k]))"
     ],
     "language": "python",
     "metadata": {},
     "outputs": [
      {
       "output_type": "stream",
       "stream": "stdout",
       "text": [
        "data_parse: 85.6913559437\n",
        "\n",
        "Plain data:\n",
        "marshal_read_data: 1.99003410339\n",
        "pickle-1_read_data: 3.09223890305\n",
        "pickle-1_read: 3.48939704895\n",
        "pickle0_read_data: 8.10364603996\n",
        "pickle0_read: 8.27955198288\n",
        "marshal_write_data: 0.752387046814\n",
        "pickle-1_write_data: 3.05523681641\n",
        "pickle-1_write: 3.80860614777\n",
        "pickle0_write_data: 6.72093081474\n",
        "pickle0_write: 6.9131128788\n",
        "\n",
        "Gzipped data:\n",
        "marshal_read_data: 1.53313088417\n",
        "pickle-1_read: 39.5176460743\n",
        "pickle-1_read_data: 40.6790349483\n",
        "pickle0_read_data: 50.9117600918\n",
        "pickle0_read: 51.8050088882\n",
        "marshal_write_data: 14.8310949802\n",
        "pickle-1_write_data: 20.9711279869\n",
        "pickle-1_write: 21.2051551342\n",
        "pickle0_write_data: 25.1206920147\n",
        "pickle0_write: 26.0586590767\n"
       ]
      }
     ],
     "prompt_number": 89
    },
    {
     "cell_type": "code",
     "collapsed": false,
     "input": [
      "size_keys = [k for k in sizes]\n",
      "gzip_size_keys = [k for k in gzip_sizes]\n",
      "size_keys.sort(key=lambda k:sizes[k])\n",
      "gzip_size_keys.sort(key=lambda k:gzip_sizes[k])\n",
      "\n",
      "for k in size_keys:\n",
      "    print('{key}: {value}'.format(key=k, value=sizes[k]/1024))\n",
      "\n",
      "print('\\nGzipped:')\n",
      "for k in gzip_size_keys:\n",
      "    print('{key}: {value}'.format(key=k, value=gzip_sizes[k]/1024))"
     ],
     "language": "python",
     "metadata": {},
     "outputs": [
      {
       "output_type": "stream",
       "stream": "stdout",
       "text": [
        "marshal_data: 36.4729404449\n",
        "pickle-1_data: 39.760260582\n",
        "pickle-1: 39.8817853928\n",
        "pickle0_data: 50.9457082748\n",
        "pickle0: 51.1923971176\n",
        "Plain files: 637.525320053\n",
        "\n",
        "Gzipped:\n",
        "marshal_data: 4.25587463379\n",
        "pickle0_data: 6.63663864136\n",
        "pickle0: 6.69400882721\n",
        "pickle-1_data: 6.76209259033\n",
        "pic-1: 6.81153297424\n"
       ]
      }
     ],
     "prompt_number": 93
    },
    {
     "cell_type": "code",
     "collapsed": false,
     "input": [],
     "language": "python",
     "metadata": {},
     "outputs": []
    }
   ],
   "metadata": {}
  }
 ]
}