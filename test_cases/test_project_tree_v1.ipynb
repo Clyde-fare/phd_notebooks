{
 "metadata": {
  "name": "",
  "signature": "sha256:84392359f8c9bcd6bf930bb44d5b539df13bc61b65211098145762ddf29fb065"
 },
 "nbformat": 3,
 "nbformat_minor": 0,
 "worksheets": [
  {
   "cells": [
    {
     "cell_type": "markdown",
     "metadata": {},
     "source": [
      "This was version 1 of the project tree designed with the IPython 1.x notebook API. In order to run it we must be running IPython 1.x and have launched the notebook server from inside the test_project_tree_v1/ directory. Please create a new IPython Notebook server there and open the test_project_tree_v1/test_project_tree_v1.ipynb"
     ]
    }
   ],
   "metadata": {}
  }
 ]
}