{
 "metadata": {
  "name": ""
 },
 "nbformat": 3,
 "nbformat_minor": 0,
 "worksheets": [
  {
   "cells": [
    {
     "cell_type": "code",
     "collapsed": false,
     "input": [
      "cd test_resources/"
     ],
     "language": "python",
     "metadata": {},
     "outputs": [
      {
       "output_type": "stream",
       "stream": "stdout",
       "text": [
        "[Errno 2] No such file or directory: 'test_resources/'\n",
        "/home/clyde/Dropbox/Project Stuff/Notebooks/test_cases/test_resources\n"
       ]
      }
     ],
     "prompt_number": 15
    },
    {
     "cell_type": "code",
     "collapsed": false,
     "input": [
      "import os, ase\n",
      "from ASE_utils import *\n",
      "from ase import visualize\n",
      "\n",
      "JMOL_PATH = '/home/clyde/Dropbox/Project Stuff/Notebooks/jmol'\n",
      "xyz_f = '/home/clyde/Dropbox/Project Stuff/Notebooks/test_resources/xyz_files/c1.xyz'\n",
      "\n",
      "rel_jmol_path = os.path.relpath(JMOL_PATH)\n",
      "rel_xyz_f = os.path.relpath(xyz_f, JMOL_PATH)\n"
     ],
     "language": "python",
     "metadata": {},
     "outputs": [],
     "prompt_number": 2
    },
    {
     "cell_type": "code",
     "collapsed": true,
     "input": [
      "from ase.io.xyz import read_xyz\n",
      "from ase.calculators.gaussian import Gaussian\n",
      "from glob import glob\n",
      "import os, gaussian_job_manager\n",
      "\n",
      "molecules = []\n",
      "for xyz_file in glob('xyz_files/*.xyz'):\n",
      "    name = os.path.split(xyz_file)[1].split('.xyz')[0]\n",
      "    molecule = read_xyz(xyz_file)\n",
      "    molecule.set_calculator(Gaussian(label=name, method='HF', basis='STO-3G', opt='opt'))\n",
      "    #molecule.calc.additional_calc(Gaussian(label=name, method='HF', basis='STO-3G', freq='freq'))\n",
      "    #molecule.get_potential_energy()\n",
      "    molecules.append(molecule)"
     ],
     "language": "python",
     "metadata": {},
     "outputs": [],
     "prompt_number": 3
    },
    {
     "cell_type": "code",
     "collapsed": false,
     "input": [
      "test_graph = ase.io.read('B3LYP_631Gd_HF_STO3G_4_4_graphene_freq.log')\n",
      "test_graph_mm = to_molmod(test_graph)\n",
      "b_dists=bond_distances_v2(test_graph_mm, ignored_elements=['H'])\n",
      "len(b_dists)"
     ],
     "language": "python",
     "metadata": {},
     "outputs": [
      {
       "metadata": {},
       "output_type": "pyout",
       "prompt_number": 4,
       "text": [
        "63"
       ]
      }
     ],
     "prompt_number": 4
    },
    {
     "cell_type": "code",
     "collapsed": false,
     "input": [
      "jmol_basic=\"\"\"<head>\n",
      "    <script type=\"text/javascript\" src=\"Jmol.js\"></script>\n",
      " </head>\n",
      "  <body>\n",
      "    <script type=\"text/javascript\">\n",
      "      jmolInitialize(\"\");\n",
      "      jmolSetCallback(\"UseCommandThread\",\"true\");\n",
      "      jmolApplet(200, \"load {xyz}; select all; label %[atomNo];\")\n",
      "    </script>\n",
      "  </body></iframe>\"\"\".format(xyz = rel_xyz_f)\n",
      "with open('{jmol_path}/jmol_basic6.html'.format(jmol_path = JMOL_PATH), 'w') as j_html:\n",
      "    j_html.write(jmol_basic)\n",
      "\n",
      "print(jmol_basic)"
     ],
     "language": "python",
     "metadata": {},
     "outputs": [
      {
       "output_type": "stream",
       "stream": "stdout",
       "text": [
        "<head>\n",
        "    <script type=\"text/javascript\" src=\"Jmol.js\"></script>\n",
        " </head>\n",
        "  <body>\n",
        "    <script type=\"text/javascript\">\n",
        "      jmolInitialize(\"\");\n",
        "      jmolSetCallback(\"UseCommandThread\",\"true\");\n",
        "      jmolApplet(200, \"load ../test_resources/xyz_files/c1.xyz; select all; label %[atomNo];\")\n",
        "    </script>\n",
        "  </body></iframe>\n"
       ]
      }
     ],
     "prompt_number": 5
    },
    {
     "cell_type": "code",
     "collapsed": false,
     "input": [
      "import IPython.core.display as disp\n",
      "jmol_str = \"\"\"\n",
      "<iframe\n",
      "  width=\"400\"\n",
      "  height=\"300\"\n",
      "  src=files/../../jmol/jsmol_basic.html\n",
      "  frameborder=\"0\"\n",
      "  allowfullscreen\n",
      "></iframe>\"\"\".format(r_jmol_path=rel_jmol_path)\n",
      "\n",
      "print(jmol_str)\n",
      "disp.HTML(jmol_str)"
     ],
     "language": "python",
     "metadata": {},
     "outputs": [
      {
       "output_type": "stream",
       "stream": "stderr",
       "text": [
        "ERROR: An unexpected error occurred while tokenizing input\n",
        "The following traceback may be corrupted or invalid\n",
        "The error message is: ('EOF in multi-line string', (1, 10))\n",
        "\n"
       ]
      },
      {
       "ename": "NameError",
       "evalue": "name 'rel_jmol_path' is not defined",
       "output_type": "pyerr",
       "traceback": [
        "\u001b[1;31m---------------------------------------------------------------------------\u001b[0m\n\u001b[1;31mNameError\u001b[0m                                 Traceback (most recent call last)",
        "\u001b[1;32m<ipython-input-2-6f0f84edda78>\u001b[0m in \u001b[0;36m<module>\u001b[1;34m()\u001b[0m\n\u001b[0;32m      7\u001b[0m   \u001b[0mframeborder\u001b[0m\u001b[1;33m=\u001b[0m\u001b[1;34m\"0\"\u001b[0m\u001b[1;33m\u001b[0m\u001b[0m\n\u001b[0;32m      8\u001b[0m   \u001b[0mallowfullscreen\u001b[0m\u001b[1;33m\u001b[0m\u001b[0m\n\u001b[1;32m----> 9\u001b[1;33m ></iframe>\"\"\".format(r_jmol_path=rel_jmol_path)\n\u001b[0m\u001b[0;32m     10\u001b[0m \u001b[1;33m\u001b[0m\u001b[0m\n\u001b[0;32m     11\u001b[0m \u001b[1;32mprint\u001b[0m\u001b[1;33m(\u001b[0m\u001b[0mjmol_str\u001b[0m\u001b[1;33m)\u001b[0m\u001b[1;33m\u001b[0m\u001b[0m\n",
        "\u001b[1;31mNameError\u001b[0m: name 'rel_jmol_path' is not defined"
       ]
      }
     ],
     "prompt_number": 2
    },
    {
     "cell_type": "code",
     "collapsed": false,
     "input": [
      "current_path = os.getcwd()\n",
      "notebook_path = get_ipython().starting_dir\n",
      "\n",
      "current_path, notebook_path\n",
      "\n",
      "os.path.relpath(current_path, notebook_path)"
     ],
     "language": "python",
     "metadata": {},
     "outputs": [
      {
       "metadata": {},
       "output_type": "pyout",
       "prompt_number": 53,
       "text": [
        "'test_resources'"
       ]
      }
     ],
     "prompt_number": 53
    },
    {
     "cell_type": "code",
     "collapsed": false,
     "input": [
      "import os\n",
      "from IPython.core.getipython import get_ipython\n",
      "\n",
      "notebook_path = get_ipython().starting_dir\n",
      "current_abs_path = os.getcwd()\n",
      "current_rel_path = os.path.relpath(current_abs_path, notebook_path)\n",
      "\n",
      "file_nm = \"6_6_graphene_hf_geom.log\"\n",
      "\n",
      "id_str = \"id_12345\"\n",
      "script_command_str = \"load {p}/{f}\".format(p=current_rel_path, f=file_nm)\n",
      "width, height = 300, 300\n",
      "\n",
      "html_str = \"\"\"<div id='{id}'></div><a href=\"javascript:Jmol.script(my_applet,'spin on')\">spin</a>\n",
      "<a href=\"javascript:Jmol.script(my_applet,'spin off')\">off</a>\\n\"\"\".format(id=id_str)\n",
      "\n",
      "js_str = \"\"\"<script type=\"text/Javascript\">\n",
      "var Info = {{\n",
      "    color: \"#FFFFFF\",\n",
      "    width: {w},\n",
      "    height: {h},\n",
      "    serverURL: \"/static/custom/jsmol/jsmol.php \",\n",
      "    use: \"HTML5\",\n",
      "    j2sPath: \"/static/custom/jsmol/j2s\",\n",
      "    console: \"jmolApplet0_infodiv\"\n",
      "}}\n",
      "Jmol.setDocument(0)\n",
      "my_applet = Jmol.getApplet(\"my_applet\", Info)\n",
      "Jmol.script(my_applet,\"{c}\")\n",
      "$(\"#{id}\").html(Jmol.getAppletHtml(my_applet))\n",
      "</script>\"\"\".format(w=width, h=height, id=id_str, c=script_command_str)\n",
      "\n",
      "jsmol_str = html_str + js_str"
     ],
     "language": "python",
     "metadata": {},
     "outputs": [],
     "prompt_number": 2
    },
    {
     "cell_type": "code",
     "collapsed": false,
     "input": [
      "import IPython.core.display as disp\n",
      "disp.HTML(jsmol_str)"
     ],
     "language": "python",
     "metadata": {},
     "outputs": [
      {
       "html": [
        "<div id='id_12345'></div><a href=\"javascript:Jmol.script(my_applet,'spin on')\">spin</a>\n",
        "<a href=\"javascript:Jmol.script(my_applet,'spin off')\">off</a>\n",
        "<script type=\"text/Javascript\">\n",
        "var Info = {\n",
        "    color: \"#FFFFFF\",\n",
        "    width: 300,\n",
        "    height: 300,\n",
        "    serverURL: \"/static/custom/jsmol/jsmol.php \",\n",
        "    use: \"HTML5\",\n",
        "    j2sPath: \"/static/custom/jsmol/j2s\",\n",
        "    console: \"jmolApplet0_infodiv\"\n",
        "}\n",
        "Jmol.setDocument(0)\n",
        "my_applet = Jmol.getApplet(\"my_applet\", Info)\n",
        "Jmol.script(my_applet,\"load test_resources/6_6_graphene_hf_geom.log\")\n",
        "$(\"#id_12345\").html(Jmol.getAppletHtml(my_applet))\n",
        "</script>"
       ],
       "metadata": {},
       "output_type": "pyout",
       "prompt_number": 66,
       "text": [
        "<IPython.core.display.HTML at 0x7f0e24f9a4d0>"
       ]
      }
     ],
     "prompt_number": 66
    },
    {
     "cell_type": "code",
     "collapsed": false,
     "input": [
      "# requires jsmol to be present in profile/static/custom\n",
      "import os\n",
      "import random\n",
      "from IPython.core.getipython import get_ipython\n",
      "\n",
      "file_nms = [\"6_6_graphene_hf_geom.log\",\"6_6_graphene_hf_geom.log\",\"6_6_graphene_hf_geom.log\", \"6_6_graphene_hf_geom.log\"]\n",
      "width, height = 300, 300\n",
      "\n",
      "notebook_path = get_ipython().starting_dir\n",
      "current_abs_path = os.getcwd()\n",
      "current_rel_path = os.path.relpath(current_abs_path, notebook_path)\n",
      "file_paths = [os.path.relpath(file_nm, ) for file_nm in file_nms]\n",
      "\n",
      "id_strs = [\"id_\" +  str(int(random.random()*10000000000000)) for file_nm in file_nms]\n",
      "script_command_strs = [\"load {p}/{f}\".format(p=current_rel_path, f=file_nm) for file_nm in file_nms] \n",
      "\n",
      "html_strs = [\"\"\"<div style=float:left><div id='applet_div_{id}'></div>\n",
      "<a href=\"javascript:Jmol.script(applet_{id},'spin on')\">spin</a>\n",
      "<a href=\"javascript:Jmol.script(applet_{id},'spin off')\">off</a></div>\\n\"\"\".format(id=id_str) for id_str in id_strs]\n",
      "\n",
      "html_str = \"\".join(html_strs)\n",
      "\n",
      "js_init_str = \"\"\"//initialisation\n",
      "var Info = {{\n",
      "    color: \"#FFFFFF\",\n",
      "    width: {w},\n",
      "    height: {h},\n",
      "    serverURL: \"/static/custom/jsmol/jsmol.php \",\n",
      "    use: \"HTML5\",\n",
      "    j2sPath: \"/static/custom/jsmol/j2s\",\n",
      "    console: \"jmolApplet0_infodiv\"\n",
      "}}\n",
      "Jmol.setDocument(0)\"\"\".format(w=width, h=height)\n",
      "\n",
      "js_applet_strs = [\"\"\"\n",
      "//start applet\n",
      "applet_{id} = Jmol.getApplet(\"applet_{id}\", Info)\n",
      "//insert applet into html\n",
      "$(\"#applet_div_{id}\").html(Jmol.getAppletHtml(applet_{id}))\n",
      "//execute scripts\n",
      "Jmol.script(applet_{id},\"{c}\")\"\"\".format(id=id_str, c=script_command_str) for id_str, script_command_str in zip(id_strs, script_command_strs)]\n",
      "\n",
      "js_applet_str = \"\".join(js_applet_strs)\n",
      "\n",
      "jsmol_str = html_str + '<script type=\"text/Javascript\">' + js_init_str + js_applet_str + '</script>'"
     ],
     "language": "python",
     "metadata": {},
     "outputs": [],
     "prompt_number": 3
    },
    {
     "cell_type": "code",
     "collapsed": false,
     "input": [
      "import IPython.core.display as disp\n",
      "disp.HTML(jsmol_str)"
     ],
     "language": "python",
     "metadata": {},
     "outputs": [
      {
       "html": [
        "<div style=float:left><div id='applet_div_id_1997537720650'></div>\n",
        "<a href=\"javascript:Jmol.script(applet_id_1997537720650,'spin on')\">spin</a>\n",
        "<a href=\"javascript:Jmol.script(applet_id_1997537720650,'spin off')\">off</a></div>\n",
        "<div style=float:left><div id='applet_div_id_9985337407752'></div>\n",
        "<a href=\"javascript:Jmol.script(applet_id_9985337407752,'spin on')\">spin</a>\n",
        "<a href=\"javascript:Jmol.script(applet_id_9985337407752,'spin off')\">off</a></div>\n",
        "<div style=float:left><div id='applet_div_id_2919229785956'></div>\n",
        "<a href=\"javascript:Jmol.script(applet_id_2919229785956,'spin on')\">spin</a>\n",
        "<a href=\"javascript:Jmol.script(applet_id_2919229785956,'spin off')\">off</a></div>\n",
        "<div style=float:left><div id='applet_div_id_2681024817790'></div>\n",
        "<a href=\"javascript:Jmol.script(applet_id_2681024817790,'spin on')\">spin</a>\n",
        "<a href=\"javascript:Jmol.script(applet_id_2681024817790,'spin off')\">off</a></div>\n",
        "<script type=\"text/Javascript\">//initialisation\n",
        "var Info = {\n",
        "    color: \"#FFFFFF\",\n",
        "    width: 300,\n",
        "    height: 300,\n",
        "    serverURL: \"/static/custom/jsmol/jsmol.php \",\n",
        "    use: \"HTML5\",\n",
        "    j2sPath: \"/static/custom/jsmol/j2s\",\n",
        "    console: \"jmolApplet0_infodiv\"\n",
        "}\n",
        "Jmol.setDocument(0)\n",
        "//start applet\n",
        "applet_id_1997537720650 = Jmol.getApplet(\"applet_id_1997537720650\", Info)\n",
        "//insert applet into html\n",
        "$(\"#applet_div_id_1997537720650\").html(Jmol.getAppletHtml(applet_id_1997537720650))\n",
        "//execute scripts\n",
        "Jmol.script(applet_id_1997537720650,\"load test_resources/6_6_graphene_hf_geom.log\")\n",
        "//start applet\n",
        "applet_id_9985337407752 = Jmol.getApplet(\"applet_id_9985337407752\", Info)\n",
        "//insert applet into html\n",
        "$(\"#applet_div_id_9985337407752\").html(Jmol.getAppletHtml(applet_id_9985337407752))\n",
        "//execute scripts\n",
        "Jmol.script(applet_id_9985337407752,\"load test_resources/6_6_graphene_hf_geom.log\")\n",
        "//start applet\n",
        "applet_id_2919229785956 = Jmol.getApplet(\"applet_id_2919229785956\", Info)\n",
        "//insert applet into html\n",
        "$(\"#applet_div_id_2919229785956\").html(Jmol.getAppletHtml(applet_id_2919229785956))\n",
        "//execute scripts\n",
        "Jmol.script(applet_id_2919229785956,\"load test_resources/6_6_graphene_hf_geom.log\")\n",
        "//start applet\n",
        "applet_id_2681024817790 = Jmol.getApplet(\"applet_id_2681024817790\", Info)\n",
        "//insert applet into html\n",
        "$(\"#applet_div_id_2681024817790\").html(Jmol.getAppletHtml(applet_id_2681024817790))\n",
        "//execute scripts\n",
        "Jmol.script(applet_id_2681024817790,\"load test_resources/6_6_graphene_hf_geom.log\")</script>"
       ],
       "metadata": {},
       "output_type": "pyout",
       "prompt_number": 5,
       "text": [
        "<IPython.core.display.HTML at 0x7fb78865eb50>"
       ]
      }
     ],
     "prompt_number": 5
    },
    {
     "cell_type": "code",
     "collapsed": false,
     "input": [
      "from IPython.core.getipython import get_ipython\n",
      "ip=get_ipython()\n",
      "ip.starting_dir"
     ],
     "language": "python",
     "metadata": {},
     "outputs": [
      {
       "metadata": {},
       "output_type": "pyout",
       "prompt_number": 51,
       "text": [
        "u'/home/clyde/Dropbox/Project Stuff/Notebooks/test_cases'"
       ]
      }
     ],
     "prompt_number": 51
    },
    {
     "cell_type": "code",
     "collapsed": false,
     "input": [
      "html_str = \"\"\"<div id='test_div'></div>\n",
      "<a href=\"javascript:Jmol.script(my_applet,'spin on')\">spin</a>\n",
      "<a href=\"javascript:Jmol.script(my_applet,'spin off')\">off</a>\"\"\"\n",
      "disp.HTML(html_str)"
     ],
     "language": "python",
     "metadata": {},
     "outputs": [
      {
       "html": [
        "<div id='test_div'></div>\n",
        "<a href=\"javascript:Jmol.script(my_applet,'spin on')\">spin</a>\n",
        "<a href=\"javascript:Jmol.script(my_applet,'spin off')\">off</a>"
       ],
       "metadata": {},
       "output_type": "pyout",
       "prompt_number": 3,
       "text": [
        "<IPython.core.display.HTML at 0x7f033418de50>"
       ]
      }
     ],
     "prompt_number": 3
    },
    {
     "cell_type": "code",
     "collapsed": false,
     "input": [
      "%%javascript\n",
      "\n",
      "var Info = {\n",
      "    color: \"#FFFFFF\",\n",
      "    width: 300,\n",
      "    height: 300,\n",
      "    serverURL: \"/static/custom/jsmol/jsmol.php \",\n",
      "    use: \"HTML5\",\n",
      "    j2sPath: \"/static/custom/jsmol/j2s\",\n",
      "    console: \"jmolApplet0_infodiv\"\n",
      "}\n",
      "Jmol.setDocument(0)\n",
      "my_applet = Jmol.getApplet(\"my_applet\", Info);\n",
      "Jmol.script(my_applet,\"load test_resources/6_6_graphene_hf_geom.log\")\n",
      "$(\"#test_div\").html(Jmol.getAppletHtml(my_applet))"
     ],
     "language": "python",
     "metadata": {},
     "outputs": [
      {
       "javascript": [
        "\n",
        "var Info = {\n",
        "    color: \"#FFFFFF\",\n",
        "    width: 300,\n",
        "    height: 300,\n",
        "    serverURL: \"/static/custom/jsmol/jsmol.php \",\n",
        "    use: \"HTML5\",\n",
        "    j2sPath: \"/static/custom/jsmol/j2s\",\n",
        "    console: \"jmolApplet0_infodiv\"\n",
        "}\n",
        "Jmol.setDocument(0)\n",
        "my_applet = Jmol.getApplet(\"my_applet\", Info);\n",
        "Jmol.script(my_applet,\"load test_resources/6_6_graphene_hf_geom.log\")\n",
        "$(\"#test_div\").html(Jmol.getAppletHtml(my_applet))"
       ],
       "metadata": {},
       "output_type": "display_data",
       "text": [
        "<IPython.core.display.Javascript at 0x7f033413d590>"
       ]
      }
     ],
     "prompt_number": 17
    },
    {
     "cell_type": "code",
     "collapsed": false,
     "input": [
      "class d():\n",
      "    def __init__(self,s):\n",
      "        self.s=s\n",
      "    \n",
      "    def _repr_html_(self):\n",
      "        return s"
     ],
     "language": "python",
     "metadata": {},
     "outputs": [],
     "prompt_number": 28
    },
    {
     "cell_type": "code",
     "collapsed": false,
     "input": [
      "from cc_notebook_utils import view_ipython_jmol\n",
      "view_ipython_jmol(xyz_f)\n",
      "#d(s)"
     ],
     "language": "python",
     "metadata": {},
     "outputs": [
      {
       "html": [
        "\n",
        "    <iframe\n",
        "      width=\"400\"\n",
        "      height=\"300\"\n",
        "      src=/files/jmol/ase-M9N3Uv.html\n",
        "      frameborder=\"0\"\n",
        "      allowfullscreen\n",
        "    ></iframe>"
       ],
       "metadata": {},
       "output_type": "pyout",
       "prompt_number": 29,
       "text": [
        "<IPython.core.display.HTML at 0x4997690>"
       ]
      }
     ],
     "prompt_number": 29
    },
    {
     "cell_type": "code",
     "collapsed": false,
     "input": [
      "import IPython.core.display as disp\n",
      "import tempfile, os\n",
      "\n",
      "JMOL_PATH = '/home/clyde/Dropbox/Project Stuff/Notebooks/jmol'\n",
      "xyz_f = '/home/clyde/Dropbox/Project Stuff/Notebooks/test_resources/xyz_files/c1.xyz'"
     ],
     "language": "python",
     "metadata": {},
     "outputs": [],
     "prompt_number": 9
    },
    {
     "cell_type": "code",
     "collapsed": false,
     "input": [
      "jmol_path = JMOL_PATH\n",
      "abs_xyz_f = os.path.abspath(xyz_f)\n",
      "\n",
      "rel_jmol_path = os.path.relpath(jmol_path)\n",
      "rel_xyz_f = os.path.relpath(abs_xyz_f, jmol_path)\n",
      "\n",
      "jmol_basic_str=\"\"\"<head><script type=\"text/javascript\" src=\"Jmol.js\"></script></head>\n",
      "<body>\n",
      "<script type=\"text/javascript\">\n",
      "  jmolInitialize(\"\");\n",
      "  jmolApplet(200, \"load {xyz}; select all; label %[atomNo];\");\n",
      "</script>\n",
      "</body>\"\"\".format(xyz=rel_xyz_f)\n",
      "\n",
      "fd, jmol_html = tempfile.mkstemp('.' + 'html', 'ase-', dir=jmol_path)\n",
      "fd = os.fdopen(fd, 'w')\n",
      "fd.write(jmol_basic_str)\n",
      "fd.close()\n",
      "\n",
      "print(jmol_basic_str)\n",
      "\n",
      "jmol_str = \"\"\"\n",
      "<iframe\n",
      "  width=\"400\"\n",
      "  height=\"300\"\n",
      "  src=files/{r_jmol_path}/{src}\n",
      "  frameborder=\"0\"\n",
      "  allowfullscreen\n",
      "></iframe>\"\"\".format(r_jmol_path = rel_jmol_path, src=os.path.basename(jmol_html))\n",
      "disp.HTML(jmol_str)\n",
      "\n",
      "print(jmol_str)\n",
      "\n",
      "os.remove(jmol_html)"
     ],
     "language": "python",
     "metadata": {},
     "outputs": [
      {
       "output_type": "stream",
       "stream": "stdout",
       "text": [
        "<head><script type=\"text/javascript\" src=\"Jmol.js\"></script></head>\n",
        "<body>\n",
        "<script type=\"text/javascript\">\n",
        "  jmolInitialize(\"\");\n",
        "  jmolApplet(200, \"load ../test_resources/xyz_files/c1.xyz; select all; label %[atomNo];\");\n",
        "</script>\n",
        "</body>\n",
        "\n",
        "<iframe\n",
        "  width=\"400\"\n",
        "  height=\"300\"\n",
        "  src=files/../jmol/ase-SyoaAK.html\n",
        "  frameborder=\"0\"\n",
        "  allowfullscreen\n",
        "></iframe>\n"
       ]
      }
     ],
     "prompt_number": 10
    },
    {
     "cell_type": "code",
     "collapsed": false,
     "input": [
      "from cc_notebook_utils import view_ipython_jmol\n",
      "view_ipython_jmol('xyz_files/6_6_graphene.xyz', 800,500, label=True, color=['red',[0,1,2,3,4]])"
     ],
     "language": "python",
     "metadata": {},
     "outputs": [
      {
       "html": [
        "<div style=float:left><div id='applet_div_id_8040250909273'></div></div>\n",
        "<script type=\"text/Javascript\">//initialisation\n",
        "    var Info = {\n",
        "        color: \"#FFFFFF\",\n",
        "        width: 800,\n",
        "        height: 500,\n",
        "        serverURL: \"/static/custom/jsmol/jsmol.php \",\n",
        "        use: \"HTML5\",\n",
        "        j2sPath: \"/static/custom/jsmol/j2s\",\n",
        "        console: \"jmolApplet0_infodiv\"\n",
        "    }\n",
        "    //prevent applet from immediately generating html - allows us to place the applet in the div we wish\n",
        "    Jmol.setDocument(0)\n",
        "    //start applet\n",
        "    applet_id_8040250909273 = Jmol.getApplet(\"applet_id_8040250909273\", Info)\n",
        "    //insert applet html into applet_div_id_8040250909273\n",
        "    $(\"#applet_div_id_8040250909273\").html(Jmol.getAppletHtml(applet_id_8040250909273))\n",
        "    //execute scripts\n",
        "    Jmol.script(applet_id_8040250909273,\"load test_resources/xyz_files/6_6_graphene.xyz; select all; label %[atomNo]; select atomno=1,atomno=2,atomno=3,atomno=4,atomno=5; color red;set echo echoname 50% 90%; font echo 40; echo xyz_files/6_6_graphene;; set frank off; sync . SLAVE;\")</script>"
       ],
       "metadata": {},
       "output_type": "pyout",
       "prompt_number": 8,
       "text": [
        "<IPython.core.display.HTML at 0x7fe83a17d110>"
       ]
      }
     ],
     "prompt_number": 8
    },
    {
     "cell_type": "code",
     "collapsed": false,
     "input": [
      "from IPython.core import display"
     ],
     "language": "python",
     "metadata": {},
     "outputs": [],
     "prompt_number": 12
    },
    {
     "cell_type": "markdown",
     "metadata": {},
     "source": [
      "The problem with this is that the browser recognises that it's really a text file and so opens it within the browser, to stpo it doing that we would need to edit the response header for the notebook page. Alternatively we could have javascript load vim for us, or maybe try a link to a python script?"
     ]
    },
    {
     "cell_type": "code",
     "collapsed": false,
     "input": [
      "display.HTML('<a href = \"files/test_resources/c1.log.com\" target = \"_blank\"> click here </a>')"
     ],
     "language": "python",
     "metadata": {},
     "outputs": [
      {
       "html": [
        "<a href = \"files/test_resources/c1.log.com\" target = \"_blank\"> click here </a>"
       ],
       "metadata": {},
       "output_type": "pyout",
       "prompt_number": 13,
       "text": [
        "<IPython.core.display.HTML at 0x3475b90>"
       ]
      }
     ],
     "prompt_number": 13
    },
    {
     "cell_type": "code",
     "collapsed": false,
     "input": [
      "display.HTML('<head><link type=\"text/css\" href=\"files/test_resources/c2.log\"></head>')"
     ],
     "language": "python",
     "metadata": {},
     "outputs": [
      {
       "html": [
        "<head><link type=\"text/css\" href=\"files/test_resources/c2.log\"></head>"
       ],
       "metadata": {},
       "output_type": "pyout",
       "prompt_number": 14,
       "text": [
        "<IPython.core.display.HTML at 0x3475c10>"
       ]
      }
     ],
     "prompt_number": 14
    },
    {
     "cell_type": "code",
     "collapsed": false,
     "input": [
      "import os\n",
      "current_path = os.getcwd()\n",
      "os.path.relpath(current_path,'/home/clyde/Dropbox/Project Stuff/Notebooks/')"
     ],
     "language": "python",
     "metadata": {},
     "outputs": [
      {
       "metadata": {},
       "output_type": "pyout",
       "prompt_number": 15,
       "text": [
        "'test_resources'"
       ]
      }
     ],
     "prompt_number": 15
    },
    {
     "cell_type": "code",
     "collapsed": false,
     "input": [
      "test_ytube_str = \"\"\"  \n",
      "<iframe\n",
      "  width=\"400\"\n",
      "  height=\"300\"\n",
      "  src=\"http://www.youtube.com/embed/y_acaOjSMhI&feature=g-high-rec\"\n",
      "  frameborder=\"0\"\n",
      "  allowfullscreen\n",
      "></iframe>\"\"\"\n",
      "disp.HTML(test_ytube_str)"
     ],
     "language": "python",
     "metadata": {},
     "outputs": [
      {
       "html": [
        "  \n",
        "<iframe\n",
        "  width=\"400\"\n",
        "  height=\"300\"\n",
        "  src=\"http://www.youtube.com/embed/y_acaOjSMhI&feature=g-high-rec\"\n",
        "  frameborder=\"0\"\n",
        "  allowfullscreen\n",
        "></iframe>"
       ],
       "metadata": {},
       "output_type": "pyout",
       "prompt_number": 16,
       "text": [
        "<IPython.core.display.HTML at 0x3475a10>"
       ]
      }
     ],
     "prompt_number": 16
    },
    {
     "cell_type": "code",
     "collapsed": false,
     "input": [
      "%pylab\n",
      "from IPython.core.display import display, HTML,  clear_output \n",
      "\n",
      "html = \"\"\"<script type=\"text/javascript\"> \n",
      "function jsfunction () { \n",
      "     IPython.notebook.kernel.execute(\"pyfunc()\"); \n",
      "} \n",
      "</script> \n",
      "<input type=\"button\" value=\"Replot\" onclick=\"jsfunction()\" /> \n",
      "\"\"\" \n",
      "\n",
      "display(HTML(html)) \n",
      "\n",
      "#need to uncomment these two lines for this cell to work\n",
      "#f, ax = plt.subplots() \n",
      "#f.hold(False) \n",
      "\n",
      "def pyfunc():\n",
      "     f.clear() \n",
      "     plot(rand(100)) \n",
      "     show() "
     ],
     "language": "python",
     "metadata": {},
     "outputs": [
      {
       "output_type": "stream",
       "stream": "stdout",
       "text": [
        "\n",
        "Welcome to pylab, a matplotlib-based Python environment [backend: TkAgg].\n",
        "For more information, type 'help(pylab)'.\n"
       ]
      },
      {
       "html": [
        "<script type=\"text/javascript\"> \n",
        "function jsfunction () { \n",
        "     IPython.notebook.kernel.execute(\"pyfunc()\"); \n",
        "} \n",
        "</script> \n",
        "<input type=\"button\" value=\"Replot\" onclick=\"jsfunction()\" /> \n"
       ],
       "metadata": {},
       "output_type": "display_data",
       "text": [
        "<IPython.core.display.HTML at 0x35170d0>"
       ]
      }
     ],
     "prompt_number": 17
    },
    {
     "cell_type": "code",
     "collapsed": false,
     "input": [
      "from IPython.core import display\n"
     ],
     "language": "python",
     "metadata": {},
     "outputs": [],
     "prompt_number": 18
    },
    {
     "cell_type": "code",
     "collapsed": false,
     "input": [
      "#from IPython.core import display\n",
      "# from io import BytesIO\n",
      "#\n",
      "# def display_pil_image(im):\n",
      "#    \"\"\"displayhook function for PIL Images, rendered as PNG\"\"\"\n",
      "#\n",
      "#    b = BytesIO()\n",
      "#    im.save(b, format='png')\n",
      "#    data = b.getvalue()\n",
      "#\n",
      "#    ip_img = display.Image(data=data, format='png', embed=True)\n",
      "#    return ip_img._repr_png_()"
     ],
     "language": "python",
     "metadata": {},
     "outputs": [],
     "prompt_number": 19
    },
    {
     "cell_type": "code",
     "collapsed": false,
     "input": [
      "\n",
      "jscript_mol_str = \"\"\"jmolInitialize(\"files/jmol\");\n",
      "    jmolApplet(200, \"load files/test_resources/xyz_files/c1.xyz\");\"\"\"\n",
      "\n",
      "jscript_str = \"\"\"document.write(\"<p>My First JavaScript</p>\");\"\"\"\n",
      "#disp.Javascript(jscript_str)\n"
     ],
     "language": "python",
     "metadata": {},
     "outputs": [],
     "prompt_number": 20
    },
    {
     "cell_type": "code",
     "collapsed": false,
     "input": [
      "%%javascript\n",
      "document.write(\"<p>My First JavaScript</p>\");"
     ],
     "language": "python",
     "metadata": {},
     "outputs": [
      {
       "output_type": "stream",
       "stream": "stderr",
       "text": [
        "ERROR: Cell magic function `%%javascript` not found."
       ]
      }
     ],
     "prompt_number": 21
    },
    {
     "cell_type": "code",
     "collapsed": false,
     "input": [
      "file_n = 'files/test_resources/6_6_graphene.log'\n",
      "from IPython.core.display import display, HTML,  clear_output \n",
      "\n",
      "html = \"\"\"<script type=\"text/javascript\"> \n",
      "function jsfunction () { \n",
      "     IPython.notebook.kernel.execute(\"a=pyfunc(a)\"); \n",
      "} \n",
      "</script> \n",
      "<input type=\"button\" value=\"Increment a\" onclick=\"jsfunction()\" /> \n",
      "\"\"\" \n",
      "\n",
      "display(HTML(html))\n",
      "a=0\n",
      "def pyfunc(n):\n",
      "    return n+1"
     ],
     "language": "python",
     "metadata": {},
     "outputs": [
      {
       "html": [
        "<script type=\"text/javascript\"> \n",
        "function jsfunction () { \n",
        "     IPython.notebook.kernel.execute(\"a=pyfunc(a)\"); \n",
        "} \n",
        "</script> \n",
        "<input type=\"button\" value=\"Increment a\" onclick=\"jsfunction()\" /> \n"
       ],
       "metadata": {},
       "output_type": "display_data",
       "text": [
        "<IPython.core.display.HTML at 0x3caaf90>"
       ]
      }
     ],
     "prompt_number": 22
    },
    {
     "cell_type": "code",
     "collapsed": false,
     "input": [
      "file_n = '6_6_graphene.log'\n",
      "from IPython.core.display import display, HTML,  clear_output \n",
      "\n",
      "html = \"\"\"<script type=\"text/javascript\"> \n",
      "function jsfunction () { \n",
      "     IPython.notebook.kernel.execute(\"pyfunc(file_n)\"); \n",
      "} \n",
      "</script> \n",
      "<input type=\"button\" value=\"Log\" onclick=\"jsfunction()\" /> \n",
      "\"\"\" \n",
      "\n",
      "display(HTML(html))\n",
      "import os\n",
      "def pyfunc(fn):\n",
      "    return os.system('gvim {f}'.format(f=fn))"
     ],
     "language": "python",
     "metadata": {},
     "outputs": [
      {
       "html": [
        "<script type=\"text/javascript\"> \n",
        "function jsfunction () { \n",
        "     IPython.notebook.kernel.execute(\"pyfunc(file_n)\"); \n",
        "} \n",
        "</script> \n",
        "<input type=\"button\" value=\"Log\" onclick=\"jsfunction()\" /> \n"
       ],
       "metadata": {},
       "output_type": "display_data",
       "text": [
        "<IPython.core.display.HTML at 0x3cfb050>"
       ]
      }
     ],
     "prompt_number": 23
    },
    {
     "cell_type": "code",
     "collapsed": false,
     "input": [
      "#this acts at the level of the entire document \n",
      "#it also won't notice that cntrl has been release if it's released while another window has the focus (this is bad)\n",
      "import IPython.core.display as disp\n",
      "html = \"\"\"<html>\n",
      "<head>\n",
      "<script type=\"text/javascript\">\n",
      "var isCtrl = false;\n",
      "document.onkeyup=function(e){\n",
      "\tif(e.which == 17) {\n",
      "        isCtrl=false;\n",
      "        console.log(\"CTRL UP\");\n",
      "    }\n",
      "}\n",
      "document.onkeydown=function(e){\n",
      "\tif(e.which == 17) {\n",
      "        isCtrl=true;\n",
      "        console.log(\"CTRL DOWN\");\n",
      "    }\n",
      "\tif(e.which == 83 && isCtrl == true) {\n",
      "\t\t//run code for CTRL+S -- ie, save!\n",
      "        console.log(\"CTRL+S\")\n",
      "\t\treturn false;\n",
      "\t}\n",
      "}\n",
      "</script>\n",
      "</head>\n",
      "<body>\n",
      "Ctrl Demo (look at the web console log)\n",
      "</body>\n",
      "</html>\"\"\"\n",
      "\n",
      "#disp.HTML(html)\n",
      "a=1\n",
      "a"
     ],
     "language": "python",
     "metadata": {},
     "outputs": [
      {
       "metadata": {},
       "output_type": "pyout",
       "prompt_number": 24,
       "text": [
        "1"
       ]
      }
     ],
     "prompt_number": 24
    },
    {
     "cell_type": "code",
     "collapsed": false,
     "input": [
      "from IPython.core.display import display, HTML,  clear_output \n",
      "\n",
      "html = \"\"\"<script type=\"text/javascript\"> \n",
      "function view_function (event, file_n) {\n",
      "   if (event.ctrlKey){ \n",
      "         IPython.notebook.kernel.execute(\"pygausssum('\" + file_n + \".log')\");\n",
      "   }\n",
      "   else if (event.shiftKey){\n",
      "         IPython.notebook.kernel.execute(\"pyvogadro('\" + file_n + \".log')\");\n",
      "   }\n",
      "   else IPython.notebook.kernel.execute(\"pyvim('\" + file_n + \".log')\");\n",
      "}\n",
      "</script> \n",
      "6_6_graphene: <input type=\"button\" value=\"Smart Log\" onmouseover=\"ctrl_function()\" id=\"6_6_graphene\" onclick=\"view_function(event, this.id)\" /> \n",
      "\"\"\" \n",
      "\n",
      "display(HTML(html))\n",
      "import os\n",
      "def pyvim(fn):\n",
      "    os.system('gvim {f} &'.format(f=fn))\n",
      "def pyvogadro(fn):\n",
      "    os.system('avogadro {f} &'.format(f=fn))\n",
      "def pygausssum(fn):\n",
      "    os.system('GaussSum.py {f} &'.format(f=fn))"
     ],
     "language": "python",
     "metadata": {},
     "outputs": [
      {
       "html": [
        "<script type=\"text/javascript\"> \n",
        "function view_function (event, file_n) {\n",
        "   if (event.ctrlKey){ \n",
        "         IPython.notebook.kernel.execute(\"pygausssum('\" + file_n + \".log')\");\n",
        "   }\n",
        "   else if (event.shiftKey){\n",
        "         IPython.notebook.kernel.execute(\"pyvogadro('\" + file_n + \".log')\");\n",
        "   }\n",
        "   else IPython.notebook.kernel.execute(\"pyvim('\" + file_n + \".log')\");\n",
        "}\n",
        "</script> \n",
        "6_6_graphene: <input type=\"button\" value=\"Smart Log\" onmouseover=\"ctrl_function()\" id=\"6_6_graphene\" onclick=\"view_function(event, this.id)\" /> \n"
       ],
       "metadata": {},
       "output_type": "display_data",
       "text": [
        "<IPython.core.display.HTML at 0x3cfb8d0>"
       ]
      }
     ],
     "prompt_number": 25
    },
    {
     "cell_type": "code",
     "collapsed": false,
     "input": [
      "from ASE_utils import check_calcs\n",
      "check_calcs(molecules)"
     ],
     "language": "python",
     "metadata": {},
     "outputs": [
      {
       "metadata": {},
       "output_type": "pyout",
       "prompt_number": 26,
       "text": [
        "[Atoms(symbols='C96H26', positions=..., cell=[1.0, 1.0, 1.0], pbc=[False, False, False], calculator=Gaussian(...)),\n",
        " Atoms(symbols='C96H26', positions=..., cell=[1.0, 1.0, 1.0], pbc=[False, False, False], calculator=Gaussian(...))]"
       ]
      }
     ],
     "prompt_number": 26
    },
    {
     "cell_type": "code",
     "collapsed": false,
     "input": [
      "mols_to_html(molecules)"
     ],
     "language": "python",
     "metadata": {},
     "outputs": [
      {
       "html": [
        "\n",
        "           <script type=\"text/javascript\">\n",
        "           function view_function (event, file_n) {\n",
        "               if (event.ctrlKey && event.shiftKey){\n",
        "                   IPython.notebook.kernel.execute(\"cc_notebook_utils.pygview('\" + file_n + \".log')\");\n",
        "               }\n",
        "               else if (event.ctrlKey){\n",
        "                   IPython.notebook.kernel.execute(\"cc_notebook_utils.pygausssum('\" + file_n + \".log')\");\n",
        "               }\n",
        "               else if (event.shiftKey){\n",
        "                   IPython.notebook.kernel.execute(\"cc_notebook_utils.pyvogadro('\" + file_n + \".log')\");\n",
        "               }\n",
        "               else IPython.notebook.kernel.execute(\"cc_notebook_utils.pyvim('\" + file_n + \".log')\");\n",
        "           }\n",
        "           </script>\n",
        "    <style>\n",
        "    table\n",
        "    {\n",
        "        border-collapse:collapse;\n",
        "    }\n",
        "    td\n",
        "    {\n",
        "        padding:15px;\n",
        "    }\n",
        "    </style>\n",
        "    <body>\n",
        "    <table bgcolor=\"white\">\n",
        "    <col/><tr><td>c1</td><td><a href = \"files/test_resources/c1.com\" target = \"_blank\">com</a></td><td><input type=\"button\" value=\"Smart Log\" id=\"c1\" onclick=\"view_function(event, this.id)\" /></td><td>Success</td></tr><tr><td>6_6_graphene_test</td><td><a href = \"files/test_resources/6_6_graphene_test.com\" target = \"_blank\">com</a></td><td><input type=\"button\" value=\"Smart Log\" id=\"6_6_graphene_test\" onclick=\"view_function(event, this.id)\" /></td><td>Incomplete</td></tr><tr><td>6_6_graphene</td><td><a href = \"files/test_resources/6_6_graphene.com\" target = \"_blank\">com</a></td><td><input type=\"button\" value=\"Smart Log\" id=\"6_6_graphene\" onclick=\"view_function(event, this.id)\" /></td><td>Incomplete</td></tr><tr><td>c2</td><td><a href = \"files/test_resources/c2.com\" target = \"_blank\">com</a></td><td><input type=\"button\" value=\"Smart Log\" id=\"c2\" onclick=\"view_function(event, this.id)\" /></td><td>Success</td></tr>\n",
        "    </table>\n",
        "    </body>"
       ],
       "metadata": {},
       "output_type": "pyout",
       "prompt_number": 27,
       "text": [
        "<IPython.core.display.HTML at 0x3caaf90>"
       ]
      }
     ],
     "prompt_number": 27
    },
    {
     "cell_type": "code",
     "collapsed": false,
     "input": [
      "molecules[0].calc.restart(geom='checkpoint',start=True)\n",
      "#molecules[0].calc.calculate(force=True)\n",
      "check_calcs(molecules)"
     ],
     "language": "python",
     "metadata": {},
     "outputs": [
      {
       "output_type": "stream",
       "stream": "stdout",
       "text": [
        "[Gaussian c1.log INFO] Creating attribute charge: 0\n"
       ]
      },
      {
       "output_type": "stream",
       "stream": "stdout",
       "text": [
        "[Gaussian c1.log INFO] Creating attribute mult: 1\n"
       ]
      },
      {
       "output_type": "stream",
       "stream": "stdout",
       "text": [
        "[Gaussian c1.log INFO] Creating attribute natom: 5\n"
       ]
      },
      {
       "output_type": "stream",
       "stream": "stdout",
       "text": [
        "[Gaussian c1.log INFO] Creating attribute atommasses[]\n"
       ]
      },
      {
       "output_type": "stream",
       "stream": "stdout",
       "text": [
        "[Gaussian c1.log INFO] Creating attribute atomnos[]\n"
       ]
      },
      {
       "output_type": "stream",
       "stream": "stdout",
       "text": [
        "[Gaussian c1.log INFO] Creating attribute atomcoords[]\n"
       ]
      },
      {
       "output_type": "stream",
       "stream": "stdout",
       "text": [
        "[Gaussian c1.log INFO] Creating attribute nbasis: 9\n"
       ]
      },
      {
       "output_type": "stream",
       "stream": "stdout",
       "text": [
        "[Gaussian c1.log INFO] Creating attribute nmo: 9\n"
       ]
      },
      {
       "output_type": "stream",
       "stream": "stdout",
       "text": [
        "[Gaussian c1.log INFO] Creating attribute scftargets[]\n"
       ]
      },
      {
       "output_type": "stream",
       "stream": "stdout",
       "text": [
        "[Gaussian c1.log INFO] Creating attribute scfvalues[]\n"
       ]
      },
      {
       "output_type": "stream",
       "stream": "stdout",
       "text": [
        "[Gaussian c1.log INFO] Creating attribute scfenergies[]\n"
       ]
      },
      {
       "output_type": "stream",
       "stream": "stdout",
       "text": [
        "[Gaussian c1.log INFO] Creating attribute mosyms[]\n"
       ]
      },
      {
       "output_type": "stream",
       "stream": "stdout",
       "text": [
        "[Gaussian c1.log INFO] Creating attribute homos[]\n"
       ]
      },
      {
       "output_type": "stream",
       "stream": "stdout",
       "text": [
        "[Gaussian c1.log INFO] Creating attribute moenergies[]\n"
       ]
      },
      {
       "output_type": "stream",
       "stream": "stdout",
       "text": [
        "[Gaussian c1.log INFO] Creating attribute grads[]\n"
       ]
      },
      {
       "output_type": "stream",
       "stream": "stdout",
       "text": [
        "[Gaussian c1.log INFO] Creating attribute geovalues[]\n"
       ]
      },
      {
       "output_type": "stream",
       "stream": "stdout",
       "text": [
        "[Gaussian c1.log INFO] Creating attribute geotargets[]\n"
       ]
      },
      {
       "output_type": "stream",
       "stream": "stdout",
       "text": [
        "[Gaussian c1.log INFO] Creating attribute coreelectrons[]\n"
       ]
      },
      {
       "ename": "RuntimeError",
       "evalue": "Invalid Gaussian version selected",
       "output_type": "pyerr",
       "traceback": [
        "\u001b[1;31m---------------------------------------------------------------------------\u001b[0m\n\u001b[1;31mRuntimeError\u001b[0m                              Traceback (most recent call last)",
        "\u001b[1;32m<ipython-input-28-4a5e1ffc980d>\u001b[0m in \u001b[0;36m<module>\u001b[1;34m()\u001b[0m\n\u001b[1;32m----> 1\u001b[1;33m \u001b[0mmolecules\u001b[0m\u001b[1;33m[\u001b[0m\u001b[1;36m0\u001b[0m\u001b[1;33m]\u001b[0m\u001b[1;33m.\u001b[0m\u001b[0mcalc\u001b[0m\u001b[1;33m.\u001b[0m\u001b[0mrestart\u001b[0m\u001b[1;33m(\u001b[0m\u001b[0mgeom\u001b[0m\u001b[1;33m=\u001b[0m\u001b[1;34m'checkpoint'\u001b[0m\u001b[1;33m,\u001b[0m\u001b[0mstart\u001b[0m\u001b[1;33m=\u001b[0m\u001b[0mTrue\u001b[0m\u001b[1;33m)\u001b[0m\u001b[1;33m\u001b[0m\u001b[0m\n\u001b[0m\u001b[0;32m      2\u001b[0m \u001b[1;31m#molecules[0].calc.calculate(force=True)\u001b[0m\u001b[1;33m\u001b[0m\u001b[1;33m\u001b[0m\u001b[0m\n\u001b[0;32m      3\u001b[0m \u001b[0mcheck_calcs\u001b[0m\u001b[1;33m(\u001b[0m\u001b[0mmolecules\u001b[0m\u001b[1;33m)\u001b[0m\u001b[1;33m\u001b[0m\u001b[0m\n",
        "\u001b[1;32m/home/clyde/Software/my_ase/ase/calculators/gaussian.pyc\u001b[0m in \u001b[0;36mrestart\u001b[1;34m(self, add_label, start, from_calc, no_old_chk, **kwargs)\u001b[0m\n\u001b[0;32m    809\u001b[0m \u001b[1;33m\u001b[0m\u001b[0m\n\u001b[0;32m    810\u001b[0m         \u001b[1;32mif\u001b[0m \u001b[0mstart\u001b[0m\u001b[1;33m:\u001b[0m\u001b[1;33m\u001b[0m\u001b[0m\n\u001b[1;32m--> 811\u001b[1;33m             \u001b[0mself\u001b[0m\u001b[1;33m.\u001b[0m\u001b[0mstart\u001b[0m\u001b[1;33m(\u001b[0m\u001b[1;33m)\u001b[0m\u001b[1;33m\u001b[0m\u001b[0m\n\u001b[0m\u001b[0;32m    812\u001b[0m \u001b[1;33m\u001b[0m\u001b[0m\n\u001b[0;32m    813\u001b[0m         \u001b[1;31m#must reset parsed data, otherwise when we call to self.data or self.max_data we will actually be reading from the previous calculation\u001b[0m\u001b[1;33m\u001b[0m\u001b[1;33m\u001b[0m\u001b[0m\n",
        "\u001b[1;32m/home/clyde/Software/my_ase/ase/calculators/gaussian.pyc\u001b[0m in \u001b[0;36mstart\u001b[1;34m(self)\u001b[0m\n\u001b[0;32m    826\u001b[0m \u001b[1;33m\u001b[0m\u001b[0m\n\u001b[0;32m    827\u001b[0m     \u001b[1;32mdef\u001b[0m \u001b[0mstart\u001b[0m\u001b[1;33m(\u001b[0m\u001b[0mself\u001b[0m\u001b[1;33m)\u001b[0m\u001b[1;33m:\u001b[0m\u001b[1;33m\u001b[0m\u001b[0m\n\u001b[1;32m--> 828\u001b[1;33m         \u001b[0mself\u001b[0m\u001b[1;33m.\u001b[0m\u001b[0mcalculate\u001b[0m\u001b[1;33m(\u001b[0m\u001b[0mself\u001b[0m\u001b[1;33m.\u001b[0m\u001b[0matoms\u001b[0m\u001b[1;33m,\u001b[0m \u001b[0mforce\u001b[0m\u001b[1;33m=\u001b[0m\u001b[0mTrue\u001b[0m\u001b[1;33m)\u001b[0m\u001b[1;33m\u001b[0m\u001b[0m\n\u001b[0m\u001b[0;32m    829\u001b[0m \u001b[1;33m\u001b[0m\u001b[0m\n\u001b[0;32m    830\u001b[0m     \u001b[1;32mdef\u001b[0m \u001b[0mcalc_complete\u001b[0m\u001b[1;33m(\u001b[0m\u001b[0mself\u001b[0m\u001b[1;33m)\u001b[0m\u001b[1;33m:\u001b[0m\u001b[1;33m\u001b[0m\u001b[0m\n",
        "\u001b[1;32m/home/clyde/Software/my_ase/ase/calculators/gaussian.pyc\u001b[0m in \u001b[0;36mcalculate\u001b[1;34m(self, atoms, force)\u001b[0m\n\u001b[0;32m    744\u001b[0m         \u001b[1;32mif\u001b[0m \u001b[1;32mnot\u001b[0m \u001b[0mself\u001b[0m\u001b[1;33m.\u001b[0m\u001b[0mcalc_complete\u001b[0m\u001b[1;33m(\u001b[0m\u001b[1;33m)\u001b[0m \u001b[1;32mor\u001b[0m \u001b[0mforce\u001b[0m\u001b[1;33m:\u001b[0m\u001b[1;33m\u001b[0m\u001b[0m\n\u001b[0;32m    745\u001b[0m             \u001b[0mself\u001b[0m\u001b[1;33m.\u001b[0m\u001b[0mwrite_input\u001b[0m\u001b[1;33m(\u001b[0m\u001b[0mself\u001b[0m\u001b[1;33m.\u001b[0m\u001b[0mlabel\u001b[0m \u001b[1;33m+\u001b[0m \u001b[1;34m'.com'\u001b[0m\u001b[1;33m,\u001b[0m \u001b[0matoms\u001b[0m\u001b[1;33m)\u001b[0m\u001b[1;33m\u001b[0m\u001b[0m\n\u001b[1;32m--> 746\u001b[1;33m             \u001b[0mself\u001b[0m\u001b[1;33m.\u001b[0m\u001b[0mrun\u001b[0m\u001b[1;33m(\u001b[0m\u001b[1;33m)\u001b[0m\u001b[1;33m\u001b[0m\u001b[0m\n\u001b[0m\u001b[0;32m    747\u001b[0m         \u001b[0mself\u001b[0m\u001b[1;33m.\u001b[0m\u001b[0mconverged\u001b[0m \u001b[1;33m=\u001b[0m \u001b[0mself\u001b[0m\u001b[1;33m.\u001b[0m\u001b[0mread_convergence\u001b[0m\u001b[1;33m(\u001b[0m\u001b[1;33m)\u001b[0m\u001b[1;33m\u001b[0m\u001b[0m\n\u001b[0;32m    748\u001b[0m         \u001b[0mself\u001b[0m\u001b[1;33m.\u001b[0m\u001b[0mset_results\u001b[0m\u001b[1;33m(\u001b[0m\u001b[0matoms\u001b[0m\u001b[1;33m)\u001b[0m\u001b[1;33m\u001b[0m\u001b[0m\n",
        "\u001b[1;32m/home/clyde/Software/my_ase/ase/calculators/gaussian.pyc\u001b[0m in \u001b[0;36mrun\u001b[1;34m(self)\u001b[0m\n\u001b[0;32m    737\u001b[0m             \u001b[0mos\u001b[0m\u001b[1;33m.\u001b[0m\u001b[0msystem\u001b[0m\u001b[1;33m(\u001b[0m\u001b[1;34m\"ssh {host} '~/bin/gdv_calcs.py {fld} {inp} {p} {m} {t} {q}'\"\u001b[0m\u001b[1;33m.\u001b[0m\u001b[0mformat\u001b[0m\u001b[1;33m(\u001b[0m\u001b[0mhost\u001b[0m\u001b[1;33m=\u001b[0m \u001b[0mos\u001b[0m\u001b[1;33m.\u001b[0m\u001b[0menviron\u001b[0m\u001b[1;33m[\u001b[0m\u001b[1;34m'GAUSS_HOST'\u001b[0m\u001b[1;33m]\u001b[0m\u001b[1;33m,\u001b[0m \u001b[0mfld\u001b[0m\u001b[1;33m=\u001b[0m\u001b[0mhost_dir\u001b[0m\u001b[1;33m,\u001b[0m \u001b[0minp\u001b[0m\u001b[1;33m=\u001b[0m\u001b[0mself\u001b[0m\u001b[1;33m.\u001b[0m\u001b[0mlabel\u001b[0m \u001b[1;33m+\u001b[0m \u001b[1;34m'.com'\u001b[0m\u001b[1;33m,\u001b[0m \u001b[0mq\u001b[0m\u001b[1;33m=\u001b[0m\u001b[0mqueue\u001b[0m\u001b[1;33m,\u001b[0m \u001b[0mp\u001b[0m\u001b[1;33m=\u001b[0m\u001b[0mself\u001b[0m\u001b[1;33m.\u001b[0m\u001b[0mjob_params\u001b[0m\u001b[1;33m[\u001b[0m\u001b[1;34m'nodes'\u001b[0m\u001b[1;33m]\u001b[0m\u001b[1;33m,\u001b[0m \u001b[0mm\u001b[0m\u001b[1;33m=\u001b[0m\u001b[0mself\u001b[0m\u001b[1;33m.\u001b[0m\u001b[0mjob_params\u001b[0m\u001b[1;33m[\u001b[0m\u001b[1;34m'memory'\u001b[0m\u001b[1;33m]\u001b[0m\u001b[1;33m,\u001b[0m \u001b[0mt\u001b[0m\u001b[1;33m=\u001b[0m\u001b[0mint\u001b[0m\u001b[1;33m(\u001b[0m\u001b[0mself\u001b[0m\u001b[1;33m.\u001b[0m\u001b[0mjob_params\u001b[0m\u001b[1;33m[\u001b[0m\u001b[1;34m'time'\u001b[0m\u001b[1;33m]\u001b[0m\u001b[1;33m)\u001b[0m\u001b[1;33m)\u001b[0m\u001b[1;33m)\u001b[0m\u001b[1;33m\u001b[0m\u001b[0m\n\u001b[0;32m    738\u001b[0m         \u001b[1;32melse\u001b[0m\u001b[1;33m:\u001b[0m\u001b[1;33m\u001b[0m\u001b[0m\n\u001b[1;32m--> 739\u001b[1;33m             \u001b[1;32mraise\u001b[0m \u001b[0mRuntimeError\u001b[0m\u001b[1;33m(\u001b[0m\u001b[1;34m\"Invalid Gaussian version selected\"\u001b[0m\u001b[1;33m)\u001b[0m\u001b[1;33m\u001b[0m\u001b[0m\n\u001b[0m\u001b[0;32m    740\u001b[0m \u001b[1;33m\u001b[0m\u001b[0m\n\u001b[0;32m    741\u001b[0m     \u001b[1;32mdef\u001b[0m \u001b[0mcalculate\u001b[0m\u001b[1;33m(\u001b[0m\u001b[0mself\u001b[0m\u001b[1;33m,\u001b[0m \u001b[0matoms\u001b[0m\u001b[1;33m,\u001b[0m \u001b[0mforce\u001b[0m\u001b[1;33m=\u001b[0m\u001b[0mFalse\u001b[0m\u001b[1;33m)\u001b[0m\u001b[1;33m:\u001b[0m\u001b[1;33m\u001b[0m\u001b[0m\n",
        "\u001b[1;31mRuntimeError\u001b[0m: Invalid Gaussian version selected"
       ]
      }
     ],
     "prompt_number": 28
    },
    {
     "cell_type": "code",
     "collapsed": false,
     "input": [],
     "language": "python",
     "metadata": {},
     "outputs": []
    },
    {
     "cell_type": "code",
     "collapsed": false,
     "input": [
      "#cclib doesn't work well with oniom calcs\n",
      "import cclib\n",
      "#data=cclib.parser.ccopen('o_sanity_o_sanity_4_4_cent_carbonyl_sym_ts.log')\n",
      "#data.parse()\n",
      "\n",
      "data=cclib.parser.ccopen('HF_STO3G_HF_STO3G_4_4_edg_carbonyl_ts.log')\n",
      "data.parse()"
     ],
     "language": "python",
     "metadata": {},
     "outputs": []
    },
    {
     "cell_type": "code",
     "collapsed": false,
     "input": [
      "from ase.io.gaussian_reader import GaussianReader as GR\n",
      "GR('o_sanity_o_sanity_4_4_cent_carbonyl_sym_ts.log')[0]"
     ],
     "language": "python",
     "metadata": {},
     "outputs": []
    },
    {
     "cell_type": "code",
     "collapsed": false,
     "input": [
      "import copy\n",
      "\n",
      "hf_opt_molecules = [copy.copy(molecule) for molecule in molecules]\n",
      "for molecule in hf_opt_molecules:\n",
      "    molecule.set_positions(molecule.calc.atoms.get_positions())\n",
      "\n",
      "for molecule in hf_opt_molecules:\n",
      "    name = molecule.calc.label + '_hf_geom'\n",
      "    molecule.set_calculator(Gaussian(label=name, method='B3LYP', basis='6-31G(d)'))\n",
      "    #molecule.get_potential_energy()"
     ],
     "language": "python",
     "metadata": {},
     "outputs": []
    },
    {
     "cell_type": "code",
     "collapsed": false,
     "input": [
      "#check_calcs(hf_opt_molecules)"
     ],
     "language": "python",
     "metadata": {},
     "outputs": []
    },
    {
     "cell_type": "code",
     "collapsed": false,
     "input": [
      "mols_to_html(hf_opt_molecules)"
     ],
     "language": "python",
     "metadata": {},
     "outputs": []
    },
    {
     "cell_type": "code",
     "collapsed": false,
     "input": [
      "self = hf_opt_molecules[0]\n",
      "file_path = os.path.relpath(os.getcwd(),'/home/clyde/Dropbox/Project Stuff/Notebooks/')\n",
      "name = self.calc.label\n",
      "log_link = '<a href = \"files/{p}/{n}.log.html\" target = \"_blank\">log</a>'.format(p=file_path, n=name)\n",
      "com_link = '<a href = \"files/{p}/{n}.com\" target = \"_blank\">com</a>'.format(p=file_path, n=name)"
     ],
     "language": "python",
     "metadata": {},
     "outputs": []
    },
    {
     "cell_type": "code",
     "collapsed": false,
     "input": [
      "\"\"\"<!DOCTYPE html>\n",
      "<html>\n",
      "<head>\n",
      "<style>\n",
      "table\n",
      "{{\n",
      "    border-collapse:collapse;\n",
      "}}\n",
      "td\n",
      "{{\n",
      "    padding:15px;\n",
      "}}\n",
      "</style>\n",
      "<body>\n",
      "<table>\n",
      "<col/>\n",
      "<tr>\n",
      "<td>{n}</td>\n",
      "<td>{c}</td>\n",
      "<td>{l}</td>\n",
      "</tr>\n",
      "</table>\n",
      "</body>\n",
      "</html>\"\"\".format(n = name, c = com_link, l=log_link)"
     ],
     "language": "python",
     "metadata": {},
     "outputs": []
    },
    {
     "cell_type": "code",
     "collapsed": false,
     "input": [
      "molecule"
     ],
     "language": "python",
     "metadata": {},
     "outputs": []
    },
    {
     "cell_type": "code",
     "collapsed": false,
     "input": [
      "molecule = read_xyz(xyz_file)\n",
      "if not molecule._calc:\n",
      "    print('no calc')\n"
     ],
     "language": "python",
     "metadata": {},
     "outputs": []
    },
    {
     "cell_type": "code",
     "collapsed": false,
     "input": [
      "from ASE_utils import check_calcs\n",
      "#check_calcs(hf_opt_molecules)"
     ],
     "language": "python",
     "metadata": {},
     "outputs": []
    },
    {
     "cell_type": "code",
     "collapsed": false,
     "input": [
      "#matplotlib plot specifying axis, data and title\n",
      "#a, p ,t = axis([-6,6, -22498.5930508795, -22498.5930508775]), plot(range(-5,6),[e.calc.energy_zero for e in m1_data]), title('mode1 vs. Energy')"
     ],
     "language": "python",
     "metadata": {},
     "outputs": []
    },
    {
     "cell_type": "markdown",
     "metadata": {},
     "source": [
      "- Todo\n",
      "    - cutting function - Done!\n",
      "    - create pictures with atomic indices - Done!\n",
      "    - convert ase molecules to avogadro molecules via libavogadro (xyz?) - Abaondoned\n",
      "    - apply avogadro extensions via python - Abandoned\n",
      "    - convert avogadro molecules to ase (xyz?) - Abandoned\n",
      "    - fix b3lyp TS calculations - Done!\n",
      "    - find oniom error - Done!\n",
      "    - global optimsation with fixed ng sheet\n",
      "    - be able to create oniom job from ase molecules - Done!\n",
      "    - be able to read ase molecules from oniom log/com - Done\n",
      "    - cell magic execute on cluster for cc notebook - Not yet done\n",
      "    - jmol for cc notebook - Done!\n",
      "    - link to open com/log files for cc notebook - Done\n",
      "    - examine GR output to see if it gives the SCF energy for each step during a geometry optimisation, and/or the scf energy for each step within the a single point scf convergence cycle\n",
      "      if not write extraction functions to get this info and plot it\n",
      "    - need way to get job files, (extract job_ids during job submission? copy job_ids to a file to read during check_calcs?)"
     ]
    },
    {
     "cell_type": "code",
     "collapsed": false,
     "input": [
      "from IPython.core.display import display_jpeg, Image, SVG\n",
      "SVG(filename = 'convergence_failure.svg')\n",
      "#display_jpeg('test_resources/convergence_failure.jpg')"
     ],
     "language": "python",
     "metadata": {},
     "outputs": []
    }
   ],
   "metadata": {}
  }
 ]
}