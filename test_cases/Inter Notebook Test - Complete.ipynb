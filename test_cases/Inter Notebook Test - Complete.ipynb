{
 "cells": [
  {
   "cell_type": "markdown",
   "metadata": {},
   "source": [
    "### Notes:"
   ]
  },
  {
   "cell_type": "markdown",
   "metadata": {},
   "source": [
    "The following demonstrates linking to, running from and displaying one notebook from inside another notebook. It could be used in combination with a mindmapping tool to better structure research notebooks.\n",
    "It makes uses of information shown in these two demo notebooks:\n",
    "    \n",
    "Minrk's treatment of notebooks as [a module](http://nbviewer.ipython.org/6011986)\n",
    "and another [notebook](http://nbviewer.ipython.org/5491090/analysis.ipynb) by an anonymous author doing something similar.\n",
    "\n",
    "Also more recently note [Fernando's gist](http://nbviewer.ipython.org/gist/fperez/9716279)"
   ]
  },
  {
   "cell_type": "markdown",
   "metadata": {},
   "source": [
    "### Contents"
   ]
  },
  {
   "cell_type": "markdown",
   "metadata": {},
   "source": [
    "We start with a link to local notebook [test](http://127.0.0.1:8888/Test_1.ipynb) inside a markdown cell."
   ]
  },
  {
   "cell_type": "code",
   "execution_count": 1,
   "metadata": {
    "collapsed": false
   },
   "outputs": [
    {
     "name": "stderr",
     "output_type": "stream",
     "text": [
      "/home/clyde/anaconda/envs/test3/lib/python2.7/site-packages/IPython/nbformat/current.py:19: UserWarning: IPython.nbformat.current is deprecated.\n",
      "\n",
      "- use IPython.nbformat for read/write/validate public API\n",
      "- use IPython.nbformat.vX directly to composing notebooks of a particular version\n",
      "\n",
      "  \"\"\")\n"
     ]
    },
    {
     "data": {
      "text/html": [
       "\n",
       "<style type='text/css'>\n",
       ".hll { background-color: #ffffcc }\n",
       ".c { color: #408080; font-style: italic } /* Comment */\n",
       ".err { border: 1px solid #FF0000 } /* Error */\n",
       ".k { color: #008000; font-weight: bold } /* Keyword */\n",
       ".o { color: #666666 } /* Operator */\n",
       ".cm { color: #408080; font-style: italic } /* Comment.Multiline */\n",
       ".cp { color: #BC7A00 } /* Comment.Preproc */\n",
       ".c1 { color: #408080; font-style: italic } /* Comment.Single */\n",
       ".cs { color: #408080; font-style: italic } /* Comment.Special */\n",
       ".gd { color: #A00000 } /* Generic.Deleted */\n",
       ".ge { font-style: italic } /* Generic.Emph */\n",
       ".gr { color: #FF0000 } /* Generic.Error */\n",
       ".gh { color: #000080; font-weight: bold } /* Generic.Heading */\n",
       ".gi { color: #00A000 } /* Generic.Inserted */\n",
       ".go { color: #888888 } /* Generic.Output */\n",
       ".gp { color: #000080; font-weight: bold } /* Generic.Prompt */\n",
       ".gs { font-weight: bold } /* Generic.Strong */\n",
       ".gu { color: #800080; font-weight: bold } /* Generic.Subheading */\n",
       ".gt { color: #0044DD } /* Generic.Traceback */\n",
       ".kc { color: #008000; font-weight: bold } /* Keyword.Constant */\n",
       ".kd { color: #008000; font-weight: bold } /* Keyword.Declaration */\n",
       ".kn { color: #008000; font-weight: bold } /* Keyword.Namespace */\n",
       ".kp { color: #008000 } /* Keyword.Pseudo */\n",
       ".kr { color: #008000; font-weight: bold } /* Keyword.Reserved */\n",
       ".kt { color: #B00040 } /* Keyword.Type */\n",
       ".m { color: #666666 } /* Literal.Number */\n",
       ".s { color: #BA2121 } /* Literal.String */\n",
       ".na { color: #7D9029 } /* Name.Attribute */\n",
       ".nb { color: #008000 } /* Name.Builtin */\n",
       ".nc { color: #0000FF; font-weight: bold } /* Name.Class */\n",
       ".no { color: #880000 } /* Name.Constant */\n",
       ".nd { color: #AA22FF } /* Name.Decorator */\n",
       ".ni { color: #999999; font-weight: bold } /* Name.Entity */\n",
       ".ne { color: #D2413A; font-weight: bold } /* Name.Exception */\n",
       ".nf { color: #0000FF } /* Name.Function */\n",
       ".nl { color: #A0A000 } /* Name.Label */\n",
       ".nn { color: #0000FF; font-weight: bold } /* Name.Namespace */\n",
       ".nt { color: #008000; font-weight: bold } /* Name.Tag */\n",
       ".nv { color: #19177C } /* Name.Variable */\n",
       ".ow { color: #AA22FF; font-weight: bold } /* Operator.Word */\n",
       ".w { color: #bbbbbb } /* Text.Whitespace */\n",
       ".mb { color: #666666 } /* Literal.Number.Bin */\n",
       ".mf { color: #666666 } /* Literal.Number.Float */\n",
       ".mh { color: #666666 } /* Literal.Number.Hex */\n",
       ".mi { color: #666666 } /* Literal.Number.Integer */\n",
       ".mo { color: #666666 } /* Literal.Number.Oct */\n",
       ".sb { color: #BA2121 } /* Literal.String.Backtick */\n",
       ".sc { color: #BA2121 } /* Literal.String.Char */\n",
       ".sd { color: #BA2121; font-style: italic } /* Literal.String.Doc */\n",
       ".s2 { color: #BA2121 } /* Literal.String.Double */\n",
       ".se { color: #BB6622; font-weight: bold } /* Literal.String.Escape */\n",
       ".sh { color: #BA2121 } /* Literal.String.Heredoc */\n",
       ".si { color: #BB6688; font-weight: bold } /* Literal.String.Interpol */\n",
       ".sx { color: #008000 } /* Literal.String.Other */\n",
       ".sr { color: #BB6688 } /* Literal.String.Regex */\n",
       ".s1 { color: #BA2121 } /* Literal.String.Single */\n",
       ".ss { color: #19177C } /* Literal.String.Symbol */\n",
       ".bp { color: #008000 } /* Name.Builtin.Pseudo */\n",
       ".vc { color: #19177C } /* Name.Variable.Class */\n",
       ".vg { color: #19177C } /* Name.Variable.Global */\n",
       ".vi { color: #19177C } /* Name.Variable.Instance */\n",
       ".il { color: #666666 } /* Literal.Number.Integer.Long */\n",
       "</style>\n"
      ],
      "text/plain": [
       "<IPython.core.display.HTML object>"
      ]
     },
     "metadata": {},
     "output_type": "display_data"
    },
    {
     "data": {
      "text/html": [
       "<h4>markdown cell</h4>\n",
       "<pre>This is part of a pair of notebooks showing calling of cells from notebook to another.\n",
       "\n",
       "Below is a print loop inside the Inter_Notebook_Test_Dummy notebook</pre>\n",
       "<h4>code cell</h4>\n",
       "<div class=\"highlight\"><pre><span class=\"k\">for</span> <span class=\"n\">i</span> <span class=\"ow\">in</span> <span class=\"nb\">range</span><span class=\"p\">(</span><span class=\"mi\">10</span><span class=\"p\">):</span>\n",
       "    <span class=\"k\">print</span><span class=\"p\">(</span><span class=\"n\">i</span><span class=\"p\">)</span>\n",
       "</pre></div>\n",
       "\n",
       "<h4>code cell</h4>\n",
       "<div class=\"highlight\"><pre><span class=\"k\">for</span> <span class=\"n\">j</span> <span class=\"ow\">in</span> <span class=\"nb\">range</span><span class=\"p\">(</span><span class=\"mi\">10</span><span class=\"p\">,</span><span class=\"mi\">20</span><span class=\"p\">):</span>\n",
       "    <span class=\"k\">print</span><span class=\"p\">(</span><span class=\"n\">j</span><span class=\"p\">)</span>\n",
       "</pre></div>\n",
       "\n",
       "<h4>markdown cell</h4>\n",
       "<pre>If we wanted to inherit up to this point we would put the link to the inheriting notebook [here](Inter Notebook Test - Complete.ipynb)</pre>\n",
       "<h4>code cell</h4>\n",
       "<div class=\"highlight\"><pre><span class=\"s\">&#39;Cell 3&#39;</span>\n",
       "</pre></div>\n",
       "\n",
       "<h4>code cell</h4>\n",
       "<div class=\"highlight\"><pre><span class=\"n\">test_var</span><span class=\"o\">=</span><span class=\"nb\">map</span><span class=\"p\">(</span><span class=\"nb\">sum</span><span class=\"p\">,</span> <span class=\"nb\">zip</span><span class=\"p\">(</span><span class=\"nb\">range</span><span class=\"p\">(</span><span class=\"mi\">10</span><span class=\"p\">),</span> <span class=\"nb\">range</span><span class=\"p\">(</span><span class=\"mi\">10</span><span class=\"p\">,</span><span class=\"mi\">20</span><span class=\"p\">)))</span>\n",
       "</pre></div>\n",
       "\n",
       "<h4>code cell</h4>\n",
       "<div class=\"highlight\"><pre><span class=\"s\">&#39;Last cell&#39;</span>\n",
       "</pre></div>\n",
       "\n",
       "<h4>code cell</h4>\n",
       "<div class=\"highlight\"><pre>\n",
       "</pre></div>\n"
      ],
      "text/plain": [
       "<IPython.core.display.HTML object>"
      ]
     },
     "metadata": {},
     "output_type": "display_data"
    }
   ],
   "source": [
    "from pygments import highlight\n",
    "from pygments.lexers import PythonLexer\n",
    "from pygments.formatters import HtmlFormatter\n",
    "\n",
    "from IPython.display import display, HTML\n",
    "from IPython.nbformat import current\n",
    "#from IPython.core.interactiveshell import InteractiveShell\n",
    "\n",
    "import io \n",
    "\n",
    "formatter = HtmlFormatter()\n",
    "lexer = PythonLexer()\n",
    "\n",
    "# publish the CSS for pygments highlighting\n",
    "display(HTML(\"\"\"\n",
    "<style type='text/css'>\n",
    "%s\n",
    "</style>\n",
    "\"\"\" % formatter.get_style_defs()\n",
    "))\n",
    "\n",
    "def show_notebook(fname):\n",
    "    \"\"\"display a short summary of the cells of a notebook\"\"\"\n",
    "    with io.open(fname, 'r', encoding='utf-8') as f:\n",
    "        nb = current.read(f, 'json')\n",
    "    html = []\n",
    "    for cell in nb.worksheets[0].cells:\n",
    "        html.append(\"<h4>%s cell</h4>\" % cell.cell_type)\n",
    "        if cell.cell_type == 'code':\n",
    "            html.append(highlight(cell.input, lexer, formatter))\n",
    "        else:\n",
    "            html.append(\"<pre>%s</pre>\" % cell.source)\n",
    "    display(HTML('\\n'.join(html)))\n",
    "\n",
    "show_notebook(\"Inter_Notebook_Test_Dummy -Complete.ipynb\")"
   ]
  },
  {
   "cell_type": "code",
   "execution_count": 2,
   "metadata": {
    "collapsed": false
   },
   "outputs": [
    {
     "data": {
      "text/html": [
       "\n",
       "<style type='text/css'>\n",
       ".hll { background-color: #ffffcc }\n",
       ".c { color: #408080; font-style: italic } /* Comment */\n",
       ".err { border: 1px solid #FF0000 } /* Error */\n",
       ".k { color: #008000; font-weight: bold } /* Keyword */\n",
       ".o { color: #666666 } /* Operator */\n",
       ".cm { color: #408080; font-style: italic } /* Comment.Multiline */\n",
       ".cp { color: #BC7A00 } /* Comment.Preproc */\n",
       ".c1 { color: #408080; font-style: italic } /* Comment.Single */\n",
       ".cs { color: #408080; font-style: italic } /* Comment.Special */\n",
       ".gd { color: #A00000 } /* Generic.Deleted */\n",
       ".ge { font-style: italic } /* Generic.Emph */\n",
       ".gr { color: #FF0000 } /* Generic.Error */\n",
       ".gh { color: #000080; font-weight: bold } /* Generic.Heading */\n",
       ".gi { color: #00A000 } /* Generic.Inserted */\n",
       ".go { color: #888888 } /* Generic.Output */\n",
       ".gp { color: #000080; font-weight: bold } /* Generic.Prompt */\n",
       ".gs { font-weight: bold } /* Generic.Strong */\n",
       ".gu { color: #800080; font-weight: bold } /* Generic.Subheading */\n",
       ".gt { color: #0044DD } /* Generic.Traceback */\n",
       ".kc { color: #008000; font-weight: bold } /* Keyword.Constant */\n",
       ".kd { color: #008000; font-weight: bold } /* Keyword.Declaration */\n",
       ".kn { color: #008000; font-weight: bold } /* Keyword.Namespace */\n",
       ".kp { color: #008000 } /* Keyword.Pseudo */\n",
       ".kr { color: #008000; font-weight: bold } /* Keyword.Reserved */\n",
       ".kt { color: #B00040 } /* Keyword.Type */\n",
       ".m { color: #666666 } /* Literal.Number */\n",
       ".s { color: #BA2121 } /* Literal.String */\n",
       ".na { color: #7D9029 } /* Name.Attribute */\n",
       ".nb { color: #008000 } /* Name.Builtin */\n",
       ".nc { color: #0000FF; font-weight: bold } /* Name.Class */\n",
       ".no { color: #880000 } /* Name.Constant */\n",
       ".nd { color: #AA22FF } /* Name.Decorator */\n",
       ".ni { color: #999999; font-weight: bold } /* Name.Entity */\n",
       ".ne { color: #D2413A; font-weight: bold } /* Name.Exception */\n",
       ".nf { color: #0000FF } /* Name.Function */\n",
       ".nl { color: #A0A000 } /* Name.Label */\n",
       ".nn { color: #0000FF; font-weight: bold } /* Name.Namespace */\n",
       ".nt { color: #008000; font-weight: bold } /* Name.Tag */\n",
       ".nv { color: #19177C } /* Name.Variable */\n",
       ".ow { color: #AA22FF; font-weight: bold } /* Operator.Word */\n",
       ".w { color: #bbbbbb } /* Text.Whitespace */\n",
       ".mb { color: #666666 } /* Literal.Number.Bin */\n",
       ".mf { color: #666666 } /* Literal.Number.Float */\n",
       ".mh { color: #666666 } /* Literal.Number.Hex */\n",
       ".mi { color: #666666 } /* Literal.Number.Integer */\n",
       ".mo { color: #666666 } /* Literal.Number.Oct */\n",
       ".sb { color: #BA2121 } /* Literal.String.Backtick */\n",
       ".sc { color: #BA2121 } /* Literal.String.Char */\n",
       ".sd { color: #BA2121; font-style: italic } /* Literal.String.Doc */\n",
       ".s2 { color: #BA2121 } /* Literal.String.Double */\n",
       ".se { color: #BB6622; font-weight: bold } /* Literal.String.Escape */\n",
       ".sh { color: #BA2121 } /* Literal.String.Heredoc */\n",
       ".si { color: #BB6688; font-weight: bold } /* Literal.String.Interpol */\n",
       ".sx { color: #008000 } /* Literal.String.Other */\n",
       ".sr { color: #BB6688 } /* Literal.String.Regex */\n",
       ".s1 { color: #BA2121 } /* Literal.String.Single */\n",
       ".ss { color: #19177C } /* Literal.String.Symbol */\n",
       ".bp { color: #008000 } /* Name.Builtin.Pseudo */\n",
       ".vc { color: #19177C } /* Name.Variable.Class */\n",
       ".vg { color: #19177C } /* Name.Variable.Global */\n",
       ".vi { color: #19177C } /* Name.Variable.Instance */\n",
       ".il { color: #666666 } /* Literal.Number.Integer.Long */\n",
       "</style>\n"
      ],
      "text/plain": [
       "<IPython.core.display.HTML object>"
      ]
     },
     "metadata": {},
     "output_type": "display_data"
    },
    {
     "data": {
      "text/html": [
       "<h4>markdown cell</h4>\n",
       "<pre>This is part of a pair of notebooks showing calling of cells from notebook to another.\n",
       "\n",
       "Below is a print loop inside the Inter_Notebook_Test_Dummy notebook</pre>\n",
       "<h4>code cell</h4>\n",
       "<div class=\"highlight\"><pre><span class=\"k\">for</span> <span class=\"n\">i</span> <span class=\"ow\">in</span> <span class=\"nb\">range</span><span class=\"p\">(</span><span class=\"mi\">10</span><span class=\"p\">):</span>\n",
       "    <span class=\"k\">print</span><span class=\"p\">(</span><span class=\"n\">i</span><span class=\"p\">)</span>\n",
       "</pre></div>\n",
       "\n",
       "<h4>code cell</h4>\n",
       "<div class=\"highlight\"><pre><span class=\"k\">for</span> <span class=\"n\">j</span> <span class=\"ow\">in</span> <span class=\"nb\">range</span><span class=\"p\">(</span><span class=\"mi\">10</span><span class=\"p\">,</span><span class=\"mi\">20</span><span class=\"p\">):</span>\n",
       "    <span class=\"k\">print</span><span class=\"p\">(</span><span class=\"n\">j</span><span class=\"p\">)</span>\n",
       "</pre></div>\n",
       "\n",
       "<h4>markdown cell</h4>\n",
       "<pre>If we wanted to inherit up to this point we would put the link to the inheriting notebook [here](Inter Notebook Test - Complete.ipynb)</pre>\n",
       "<h4>code cell</h4>\n",
       "<div class=\"highlight\"><pre><span class=\"s\">&#39;Cell 3&#39;</span>\n",
       "</pre></div>\n",
       "\n",
       "<h4>code cell</h4>\n",
       "<div class=\"highlight\"><pre><span class=\"n\">test_var</span><span class=\"o\">=</span><span class=\"nb\">map</span><span class=\"p\">(</span><span class=\"nb\">sum</span><span class=\"p\">,</span> <span class=\"nb\">zip</span><span class=\"p\">(</span><span class=\"nb\">range</span><span class=\"p\">(</span><span class=\"mi\">10</span><span class=\"p\">),</span> <span class=\"nb\">range</span><span class=\"p\">(</span><span class=\"mi\">10</span><span class=\"p\">,</span><span class=\"mi\">20</span><span class=\"p\">)))</span>\n",
       "</pre></div>\n",
       "\n",
       "<h4>code cell</h4>\n",
       "<div class=\"highlight\"><pre><span class=\"s\">&#39;Last cell&#39;</span>\n",
       "</pre></div>\n",
       "\n",
       "<h4>code cell</h4>\n",
       "<div class=\"highlight\"><pre>\n",
       "</pre></div>\n"
      ],
      "text/plain": [
       "<IPython.core.display.HTML object>"
      ]
     },
     "metadata": {},
     "output_type": "display_data"
    }
   ],
   "source": [
    "from pygments import highlight\n",
    "from pygments.lexers import PythonLexer\n",
    "from pygments.formatters import HtmlFormatter\n",
    "\n",
    "from IPython.display import display, HTML\n",
    "from IPython import nbformat\n",
    "\n",
    "#from IPython.core.interactiveshell import InteractiveShell\n",
    "\n",
    "import io \n",
    "\n",
    "formatter = HtmlFormatter()\n",
    "lexer = PythonLexer()\n",
    "\n",
    "# publish the CSS for pygments highlighting\n",
    "display(HTML(\"\"\"\n",
    "<style type='text/css'>\n",
    "%s\n",
    "</style>\n",
    "\"\"\" % formatter.get_style_defs()\n",
    "))\n",
    "\n",
    "def show_notebook(fname):\n",
    "    \"\"\"display a short summary of the cells of a notebook\"\"\"\n",
    "    with io.open(fname, 'r', encoding='utf-8') as f:\n",
    "        nb = nbformat.read(f,as_version=3)\n",
    "    html = []\n",
    "    for cell in nb.worksheets[0].cells:\n",
    "        html.append(\"<h4>%s cell</h4>\" % cell.cell_type)\n",
    "        if cell.cell_type == 'code':\n",
    "            html.append(highlight(cell.input, lexer, formatter))\n",
    "        else:\n",
    "            html.append(\"<pre>%s</pre>\" % cell.source)\n",
    "    display(HTML('\\n'.join(html)))\n",
    "\n",
    "show_notebook(\"Inter_Notebook_Test_Dummy -Complete.ipynb\")"
   ]
  },
  {
   "cell_type": "code",
   "execution_count": 3,
   "metadata": {
    "collapsed": false
   },
   "outputs": [
    {
     "name": "stdout",
     "output_type": "stream",
     "text": [
      "0\n",
      "1\n",
      "2\n",
      "3\n",
      "4\n",
      "5\n",
      "6\n",
      "7\n",
      "8\n",
      "9\n",
      "10\n",
      "11\n",
      "12\n",
      "13\n",
      "14\n",
      "15\n",
      "16\n",
      "17\n",
      "18\n",
      "19\n"
     ]
    },
    {
     "data": {
      "text/plain": [
       "'Cell 3'"
      ]
     },
     "execution_count": 3,
     "metadata": {},
     "output_type": "execute_result"
    },
    {
     "data": {
      "text/plain": [
       "'Last cell'"
      ]
     },
     "execution_count": 3,
     "metadata": {},
     "output_type": "execute_result"
    }
   ],
   "source": [
    "import io\n",
    "from IPython.nbformat import current\n",
    "\n",
    "def execute_notebook(nbfile):\n",
    "    \n",
    "    with io.open(nbfile) as f:\n",
    "        nb = nbformat.read(f,as_version=3)\n",
    "    \n",
    "    ip = get_ipython()\n",
    "    \n",
    "    for cell in nb.worksheets[0].cells:\n",
    "        if cell.cell_type != 'code':\n",
    "            continue\n",
    "        ip.run_cell(cell.input)\n",
    "    \n",
    "execute_notebook('Inter_Notebook_Test_Dummy -Complete.ipynb')"
   ]
  },
  {
   "cell_type": "code",
   "execution_count": 4,
   "metadata": {
    "collapsed": false
   },
   "outputs": [],
   "source": [
    "#Testing partial inheritence\n",
    "\n",
    "import io\n",
    "import re\n",
    "from IPython.nbformat import current\n",
    "\n",
    "def extract_linked_nb(mkdn_cell):\n",
    "    nb_link_extractor = re.compile(\"(?<=\\]\\().+ipynb\")\n",
    "    linked_nbs = nb_link_extractor.findall(mkdn_cell['source'])\n",
    "    return linked_nbs\n",
    "\n",
    "def inherit_upto_cell(nb_name, cell_id=-1, silent=False):\n",
    "    \"\"\"inherits from another notebook up to cell number cell_id\"\"\"\n",
    "\n",
    "    ip = get_ipython()\n",
    "\n",
    "    if '.ipynb' not in nb_name:\n",
    "        nb_name += '.ipynb'\n",
    "\n",
    "    with io.open(nb_name) as f:\n",
    "        ancestor_nb = nbformat.read(f,as_version=3)\n",
    "\n",
    "    code_cells = [cell for cell in ancestor_nb.worksheets[0].cells if cell.cell_type == 'code']\n",
    "\n",
    "    if cell_id == -1:\n",
    "        cell_id = len(code_cells)\n",
    "        print('Inheriting entire notebook')\n",
    "\n",
    "    ancestor_code_cells = [cell for i,cell in enumerate(code_cells) if i <= cell_id]\n",
    "\n",
    "    for cell in ancestor_code_cells:\n",
    "        ip.run_cell(cell.input, silent=silent)\n",
    "\n",
    "    return\n",
    "\n",
    "def inherit_from(nb_name, uptolink='', silent=False):\n",
    "    ip = get_ipython()\n",
    "\n",
    "    if '.ipynb' not in nb_name:\n",
    "        nb_name += '.ipynb'\n",
    "\n",
    "    with io.open(nb_name) as f:\n",
    "        ancestor_nb = nbformat.read(f,as_version=3)\n",
    "\n",
    "    cell_id=-1\n",
    "    for cell in ancestor_nb.worksheets[0].cells:\n",
    "        if cell.cell_type == 'code':\n",
    "            cell_id+=1\n",
    "        if cell.cell_type == 'markdown' and uptolink in extract_linked_nb(cell):\n",
    "            break\n",
    "    else:\n",
    "        inherit_upto_cell(nb_name, cell_id=-1, silent=silent)\n",
    "        return\n",
    "    \n",
    "    inherit_upto_cell(nb_name, cell_id=cell_id, silent=silent)"
   ]
  },
  {
   "cell_type": "code",
   "execution_count": 5,
   "metadata": {
    "collapsed": false
   },
   "outputs": [
    {
     "name": "stdout",
     "output_type": "stream",
     "text": [
      "Inheriting entire notebook\n",
      "0\n",
      "1\n",
      "2\n",
      "3\n",
      "4\n",
      "5\n",
      "6\n",
      "7\n",
      "8\n",
      "9\n",
      "10\n",
      "11\n",
      "12\n",
      "13\n",
      "14\n",
      "15\n",
      "16\n",
      "17\n",
      "18\n",
      "19\n"
     ]
    },
    {
     "data": {
      "text/plain": [
       "'Cell 3'"
      ]
     },
     "execution_count": 5,
     "metadata": {},
     "output_type": "execute_result"
    },
    {
     "data": {
      "text/plain": [
       "'Last cell'"
      ]
     },
     "execution_count": 5,
     "metadata": {},
     "output_type": "execute_result"
    }
   ],
   "source": [
    "inherit_upto_cell('Inter_Notebook_Test_Dummy -Complete.ipynb')"
   ]
  },
  {
   "cell_type": "code",
   "execution_count": 6,
   "metadata": {
    "collapsed": false
   },
   "outputs": [
    {
     "name": "stdout",
     "output_type": "stream",
     "text": [
      "0\n",
      "1\n",
      "2\n",
      "3\n",
      "4\n",
      "5\n",
      "6\n",
      "7\n",
      "8\n",
      "9\n",
      "10\n",
      "11\n",
      "12\n",
      "13\n",
      "14\n",
      "15\n",
      "16\n",
      "17\n",
      "18\n",
      "19\n"
     ]
    }
   ],
   "source": [
    "inherit_from('Inter_Notebook_Test_Dummy -Complete.ipynb', uptolink='Inter Notebook Test - Complete.ipynb')"
   ]
  },
  {
   "cell_type": "code",
   "execution_count": 7,
   "metadata": {
    "collapsed": false
   },
   "outputs": [
    {
     "data": {
      "text/plain": [
       "1"
      ]
     },
     "execution_count": 7,
     "metadata": {},
     "output_type": "execute_result"
    }
   ],
   "source": [
    "nb_name='Inter_Notebook_Test_Dummy -Complete.ipynb'\n",
    "uptolink='Inter Notebook Test - Complete.ipynb'\n",
    "\n",
    "ip = get_ipython()\n",
    "\n",
    "if '.ipynb' not in nb_name:\n",
    "    nb_name += '.ipynb'\n",
    "\n",
    "with io.open(nb_name) as f:\n",
    "    ancestor_nb = nbformat.read(f,as_version=3)\n",
    "\n",
    "cell_id=-1\n",
    "for cell in ancestor_nb.worksheets[0].cells:\n",
    "    if cell.cell_type == 'code':\n",
    "        cell_id+=1\n",
    "    if cell.cell_type == 'markdown' and uptolink in extract_linked_nb(cell):\n",
    "        break\n",
    "\n",
    "cell_id"
   ]
  },
  {
   "cell_type": "code",
   "execution_count": 8,
   "metadata": {
    "collapsed": false
   },
   "outputs": [
    {
     "name": "stdout",
     "output_type": "stream",
     "text": [
      "[]\n",
      "This is part of a pair of notebooks showing calling of cells from notebook to another.\n",
      "\n",
      "Below is a print loop inside the Inter_Notebook_Test_Dummy notebook\n",
      "[u'Inter Notebook Test - Complete.ipynb']\n",
      "If we wanted to inherit up to this point we would put the link to the inheriting notebook [here](Inter Notebook Test - Complete.ipynb)\n"
     ]
    }
   ],
   "source": [
    "ip = get_ipython()\n",
    "\n",
    "#set current_nb_name with this horrible hack\n",
    "ip.run_code(\"\"\"from IPython.display import Javascript\\nJavascript('IPython.notebook.kernel.execute(\"current_nb_name = \" + \"\\'\"+IPython.notebook.notebook_name+\"\\'\");')\"\"\")\n",
    "code_cell_id = 0\n",
    "\n",
    "if '.ipynb' not in nb_name:\n",
    "    nb_name += '.ipynb'\n",
    "\n",
    "with io.open(nb_name) as f:\n",
    "    ancestor_nb = nbformat.read(f,as_version=3)\n",
    "\n",
    "id=0\n",
    "for cell in ancestor_nb.worksheets[0].cells:\n",
    "    if cell.cell_type == 'code':\n",
    "        id+=1\n",
    "    if cell.cell_type == 'markdown':\n",
    "        print(extract_linked_nb(cell))\n",
    "        print(cell['source'])"
   ]
  },
  {
   "cell_type": "code",
   "execution_count": 9,
   "metadata": {
    "collapsed": false
   },
   "outputs": [
    {
     "data": {
      "application/javascript": [
       "IPython.notebook.kernel.execute(\"current_nb_name = \" + \"+IPython.notebook.notebook_name+\")"
      ],
      "text/plain": [
       "<IPython.core.display.Javascript object>"
      ]
     },
     "metadata": {},
     "output_type": "display_data"
    },
    {
     "data": {
      "text/plain": [
       "<IPython.core.interactiveshell.ExecutionResult at 0x7f3340225790>"
      ]
     },
     "execution_count": 9,
     "metadata": {},
     "output_type": "execute_result"
    }
   ],
   "source": [
    "ip.run_cell(\"\"\"import IPython.display\\nfrom IPython.display import Javascript\\ndisplay(Javascript('IPython.notebook.kernel.execute(\"current_nb_name = \" + \"\\'\"+IPython.notebook.notebook_name+\"\\'\")'))\"\"\")"
   ]
  },
  {
   "cell_type": "code",
   "execution_count": 10,
   "metadata": {
    "collapsed": false
   },
   "outputs": [
    {
     "data": {
      "text/plain": [
       "0"
      ]
     },
     "execution_count": 10,
     "metadata": {},
     "output_type": "execute_result"
    }
   ],
   "source": [
    "ip.run_code(\"current_nb_name='test'\")"
   ]
  },
  {
   "cell_type": "code",
   "execution_count": 11,
   "metadata": {
    "collapsed": false
   },
   "outputs": [
    {
     "data": {
      "text/plain": [
       "'test'"
      ]
     },
     "execution_count": 11,
     "metadata": {},
     "output_type": "execute_result"
    }
   ],
   "source": [
    "current_nb_name"
   ]
  },
  {
   "cell_type": "code",
   "execution_count": 12,
   "metadata": {
    "collapsed": false
   },
   "outputs": [],
   "source": [
    "mk_cells = [cell for cell in ancestor_nb.worksheets[0].cells if cell.cell_type=='markdown']"
   ]
  },
  {
   "cell_type": "code",
   "execution_count": 13,
   "metadata": {
    "collapsed": false
   },
   "outputs": [
    {
     "data": {
      "text/plain": [
       "[{u'cell_type': u'markdown',\n",
       "  u'metadata': {},\n",
       "  u'source': u'This is part of a pair of notebooks showing calling of cells from notebook to another.\\n\\nBelow is a print loop inside the Inter_Notebook_Test_Dummy notebook'},\n",
       " {u'cell_type': u'markdown',\n",
       "  u'metadata': {},\n",
       "  u'source': u'If we wanted to inherit up to this point we would put the link to the inheriting notebook [here](Inter Notebook Test - Complete.ipynb)'}]"
      ]
     },
     "execution_count": 13,
     "metadata": {},
     "output_type": "execute_result"
    }
   ],
   "source": [
    "mk_cells"
   ]
  },
  {
   "cell_type": "code",
   "execution_count": 14,
   "metadata": {
    "collapsed": false
   },
   "outputs": [
    {
     "data": {
      "text/plain": [
       "'test'"
      ]
     },
     "execution_count": 14,
     "metadata": {},
     "output_type": "execute_result"
    }
   ],
   "source": [
    "current_nb_name"
   ]
  },
  {
   "cell_type": "code",
   "execution_count": 15,
   "metadata": {
    "collapsed": false
   },
   "outputs": [
    {
     "data": {
      "application/javascript": [
       "\n",
       "require(['nbextensions/cc_notebook'])\n",
       "require(['nbextensions/jsmol/JSmol.min.nojq'])\n"
      ],
      "text/plain": [
       "<IPython.core.display.Javascript object>"
      ]
     },
     "metadata": {},
     "output_type": "display_data"
    },
    {
     "name": "stdout",
     "output_type": "stream",
     "text": [
      "0\n",
      "1\n",
      "2\n",
      "3\n",
      "4\n",
      "5\n",
      "6\n",
      "7\n",
      "8\n",
      "9\n",
      "10\n",
      "11\n",
      "12\n",
      "13\n",
      "14\n",
      "15\n",
      "16\n",
      "17\n",
      "18\n",
      "19\n"
     ]
    }
   ],
   "source": [
    "from cc_notebook import inherit_from\n",
    "\n",
    "inherit_from(nb_name,uptolink=uptolink)"
   ]
  },
  {
   "cell_type": "code",
   "execution_count": 9,
   "metadata": {
    "collapsed": true
   },
   "outputs": [],
   "source": [
    "inherit_from?"
   ]
  },
  {
   "cell_type": "code",
   "execution_count": null,
   "metadata": {
    "collapsed": false
   },
   "outputs": [],
   "source": []
  }
 ],
 "metadata": {
  "kernelspec": {
   "display_name": "Python 2",
   "language": "python",
   "name": "python2"
  },
  "language_info": {
   "codemirror_mode": {
    "name": "ipython",
    "version": 2
   },
   "file_extension": ".py",
   "mimetype": "text/x-python",
   "name": "python",
   "nbconvert_exporter": "python",
   "pygments_lexer": "ipython2",
   "version": "2.7.9"
  }
 },
 "nbformat": 4,
 "nbformat_minor": 0
}
