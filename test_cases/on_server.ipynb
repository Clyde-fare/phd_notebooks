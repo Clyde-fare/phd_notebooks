{
 "cells": [
  {
   "cell_type": "code",
   "execution_count": 1,
   "metadata": {
    "collapsed": false
   },
   "outputs": [
    {
     "name": "stderr",
     "output_type": "stream",
     "text": [
      "/home/clyde/anaconda/envs/biotools/lib/python2.7/site-packages/IPython/nbformat.py:13: ShimWarning: The `IPython.nbformat` package has been deprecated. You should import from nbformat instead.\n",
      "  \"You should import from nbformat instead.\", ShimWarning)\n",
      "/home/clyde/anaconda/envs/biotools/lib/python2.7/site-packages/IPython/html.py:14: ShimWarning: The `IPython.html` package has been deprecated. You should import from `notebook` instead. `IPython.html.widgets` has moved to `ipywidgets`.\n",
      "  \"`IPython.html.widgets` has moved to `ipywidgets`.\", ShimWarning)\n",
      "/home/clyde/anaconda/envs/biotools/lib/python2.7/site-packages/setuptools-18.1-py2.7.egg/pkg_resources/__init__.py:1256: UserWarning: /home/clyde/.python-eggs is writable by group/others and vulnerable to attack when used with get_resource_filename. Consider a more secure location (set with .set_extraction_path or the PYTHON_EGG_CACHE environment variable).\n"
     ]
    },
    {
     "data": {
      "application/javascript": [
       "\n",
       "require(['nbextensions/cc_notebook'])\n",
       "require(['nbextensions/jsmol/JSmol.min.nojq'])\n"
      ],
      "text/plain": [
       "<IPython.core.display.Javascript object>"
      ]
     },
     "metadata": {},
     "output_type": "display_data"
    }
   ],
   "source": [
    "from cc_notebook import *\n",
    "from ase_extensions.ase_utils import *\n",
    "from gausspy import Gaussian\n",
    "from gausspy.gaussian_job_manager import on_server"
   ]
  },
  {
   "cell_type": "code",
   "execution_count": 2,
   "metadata": {
    "collapsed": false
   },
   "outputs": [
    {
     "name": "stdout",
     "output_type": "stream",
     "text": [
      "/home/clyde/Dropbox/Project Stuff/Notebooks/test_cases/on_server\n"
     ]
    }
   ],
   "source": [
    "cd on_server"
   ]
  },
  {
   "cell_type": "code",
   "execution_count": 3,
   "metadata": {
    "collapsed": false
   },
   "outputs": [],
   "source": [
    "@on_server(nodes=1, memory=400, time=1, queue='')\n",
    "def f(i=None):\n",
    "    import os\n",
    "    with open('test_on_server.txt','w') as f:\n",
    "        f.write('\\n'.join([' '.join(i) for i in os.environ.items()]))"
   ]
  },
  {
   "cell_type": "code",
   "execution_count": 4,
   "metadata": {
    "collapsed": false
   },
   "outputs": [
    {
     "data": {
      "text/plain": [
       "u'456234'"
      ]
     },
     "execution_count": 4,
     "metadata": {},
     "output_type": "execute_result"
    }
   ],
   "source": [
    "f()"
   ]
  },
  {
   "cell_type": "code",
   "execution_count": 5,
   "metadata": {
    "collapsed": false
   },
   "outputs": [],
   "source": [
    "@on_server(nodes=1, memory=400, time=1, queue='')\n",
    "def h(i=None):\n",
    "    from ase import Atoms\n",
    "    from gausspy import Gaussian\n",
    "    He = Atoms('He', positions=[(0., 0., 0.)])\n",
    "    He.set_calculator(Gaussian(label='He', method='HF', basis='STO-3G'))\n",
    "    He.calc.set_job(nodes=1, memory=1*1400, time=1, version='direct_g09-d01')\n",
    "    He.calc.start()"
   ]
  },
  {
   "cell_type": "code",
   "execution_count": 6,
   "metadata": {
    "collapsed": false
   },
   "outputs": [
    {
     "data": {
      "text/plain": [
       "u'456235'"
      ]
     },
     "execution_count": 6,
     "metadata": {},
     "output_type": "execute_result"
    }
   ],
   "source": [
    "h(2)"
   ]
  },
  {
   "cell_type": "code",
   "execution_count": 7,
   "metadata": {
    "collapsed": false
   },
   "outputs": [],
   "source": [
    "from ase import Atoms\n",
    "from gausspy import Gaussian\n",
    "He = Atoms('He', positions=[(0., 0., 0.)])\n",
    "He.set_calculator(Gaussian(label='He_2', method='HF', basis='STO-3G'))\n",
    "He.calc.set_job(nodes=1, memory=1*1400, time=1, queue='pqmb',version='g09-d01')\n",
    "He.calc.start(frc=True)"
   ]
  },
  {
   "cell_type": "code",
   "execution_count": 8,
   "metadata": {
    "collapsed": true
   },
   "outputs": [],
   "source": [
    "@on_server(nodes=1, memory=400, time=1, queue='pqmb')\n",
    "def i(test=None):\n",
    "    from ase import Atoms\n",
    "    from gausspy import Gaussian\n",
    "    import ConfigParser\n",
    "    import os\n",
    "    \n",
    "    He = Atoms('He', positions=[(0., 0., 0.)])\n",
    "    He.set_calculator(Gaussian(label='He_3', method='HF', basis='STO-3G'))\n",
    "    He.calc.set_job(nodes=1, memory=1*1400, time=1, version='direct_g09-d01')\n",
    "    He.calc.start(frc=True)\n",
    "    \n",
    "    #config = ConfigParser.RawConfigParser()\n",
    "    #config.read(os.path.expanduser('~/.cc_notebook.ini'))\n",
    "    \n",
    "    #scratch = os.environ['PBS_O_WORKDIR'].replace('/home/','/work/')\n",
    "    \n",
    "    #try:\n",
    "    #    tmp_dir = os.path.join(os.environ['TMPDIR'], '')\n",
    "    #except AttributeError:\n",
    "    #    tmp_dir = ''\n",
    "        \n",
    "    #command = 'tar -cvjf {wrk}test.tar.bz2 {wrk}*.log;'.format(wrk=tmp_dir)  + \\\n",
    "    #          'cp {wrk}test.tar.bz2 {scr};'.format(wrk=tmp_dir, scr=scratch)\n",
    "    \n",
    "    #os.system(command)"
   ]
  },
  {
   "cell_type": "code",
   "execution_count": 12,
   "metadata": {
    "collapsed": false
   },
   "outputs": [],
   "source": [
    "@on_server(nodes=1, memory=400, time=1, queue='pqmb', savefiles='*.log')\n",
    "def j(test=None):\n",
    "    from ase import Atoms\n",
    "    from gausspy import Gaussian\n",
    "    import ConfigParser\n",
    "    import os\n",
    "    \n",
    "    He = Atoms('He', positions=[(0., 0., 0.)])\n",
    "    He.set_calculator(Gaussian(label='He_4', method='HF', basis='STO-3G'))\n",
    "    He.calc.set_job(nodes=1, memory=1*1400, time=1, version='direct_g09-d01')\n",
    "    He.calc.start(frc=True)\n",
    "    \n",
    "    #config = ConfigParser.RawConfigParser()\n",
    "    #config.read(os.path.expanduser('~/.cc_notebook.ini'))\n",
    "    \n",
    "    #scratch = os.environ['PBS_O_WORKDIR'].replace('/home/','/work/')\n",
    "    \n",
    "    #try:\n",
    "    #    tmp_dir = os.path.join(os.environ['TMPDIR'], '')\n",
    "    #except AttributeError:\n",
    "    #    tmp_dir = ''\n",
    "        \n",
    "    #command = 'tar -cvjf {wrk}test.tar.bz2 {wrk}*.log;'.format(wrk=tmp_dir)  + \\\n",
    "    #          'cp {wrk}test.tar.bz2 {scr};'.format(wrk=tmp_dir, scr=scratch)\n",
    "    \n",
    "    #os.system(command)"
   ]
  },
  {
   "cell_type": "code",
   "execution_count": 13,
   "metadata": {
    "collapsed": false
   },
   "outputs": [
    {
     "data": {
      "text/plain": [
       "u'456240'"
      ]
     },
     "execution_count": 13,
     "metadata": {},
     "output_type": "execute_result"
    }
   ],
   "source": [
    "j()"
   ]
  },
  {
   "cell_type": "code",
   "execution_count": 14,
   "metadata": {
    "collapsed": true
   },
   "outputs": [],
   "source": [
    "@on_server(nodes=1, memory=400, time=1, queue='pqmb', savefiles='*.log', compress=True)\n",
    "def k(test=None):\n",
    "    from ase import Atoms\n",
    "    from gausspy import Gaussian\n",
    "    import ConfigParser\n",
    "    import os\n",
    "    \n",
    "    He = Atoms('He', positions=[(0., 0., 0.)])\n",
    "    He.set_calculator(Gaussian(label='He_5', method='HF', basis='STO-3G'))\n",
    "    He.calc.set_job(nodes=1, memory=1*1400, time=1, version='direct_g09-d01')\n",
    "    He.calc.start(frc=True)"
   ]
  },
  {
   "cell_type": "code",
   "execution_count": 15,
   "metadata": {
    "collapsed": false
   },
   "outputs": [
    {
     "data": {
      "text/plain": [
       "u'456241'"
      ]
     },
     "execution_count": 15,
     "metadata": {},
     "output_type": "execute_result"
    }
   ],
   "source": [
    "k()"
   ]
  },
  {
   "cell_type": "code",
   "execution_count": 4,
   "metadata": {
    "collapsed": true
   },
   "outputs": [],
   "source": [
    "@on_server(nodes=1, memory=400, time=1, queue='pqmb', savefiles='*', compress=False)\n",
    "def l(test=None):\n",
    "    from ase import Atoms\n",
    "    from gausspy import Gaussian\n",
    "    import ConfigParser\n",
    "    import os\n",
    "    \n",
    "    He = Atoms('He', positions=[(0., 0., 0.)])\n",
    "    He.set_calculator(Gaussian(label='He_6', method='HF', basis='STO-3G'))\n",
    "    He.calc.set_job(nodes=1, memory=1*1400, time=1, version='direct_g09-d01')\n",
    "    He.calc.start(frc=True)"
   ]
  },
  {
   "cell_type": "code",
   "execution_count": null,
   "metadata": {
    "collapsed": false
   },
   "outputs": [],
   "source": [
    "l()"
   ]
  },
  {
   "cell_type": "code",
   "execution_count": null,
   "metadata": {
    "collapsed": true
   },
   "outputs": [],
   "source": []
  }
 ],
 "metadata": {
  "kernelspec": {
   "display_name": "Python 2",
   "language": "python",
   "name": "python2"
  },
  "language_info": {
   "codemirror_mode": {
    "name": "ipython",
    "version": 2
   },
   "file_extension": ".py",
   "mimetype": "text/x-python",
   "name": "python",
   "nbconvert_exporter": "python",
   "pygments_lexer": "ipython2",
   "version": "2.7.10"
  }
 },
 "nbformat": 4,
 "nbformat_minor": 0
}
