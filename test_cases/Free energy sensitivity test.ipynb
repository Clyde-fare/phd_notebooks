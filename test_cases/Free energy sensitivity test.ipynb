{
 "cells": [
  {
   "cell_type": "markdown",
   "metadata": {},
   "source": [
    "Here we test how sensitive dft based free energy calculations are to changes in integral grid size and optimisation tightness"
   ]
  },
  {
   "cell_type": "code",
   "execution_count": 50,
   "metadata": {
    "collapsed": false
   },
   "outputs": [],
   "source": [
    "import tarfile\n",
    "import copy\n",
    "import numpy as np\n",
    "from cclib.parser.utils import convertor\n",
    "from ase import Atoms\n",
    "from ml_utils import extended_xyz_parse\n",
    "from gausspy import Gaussian\n",
    "from ase_extensions.ase_utils import *\n",
    "from cc_notebook import *"
   ]
  },
  {
   "cell_type": "code",
   "execution_count": 17,
   "metadata": {
    "collapsed": false
   },
   "outputs": [
    {
     "name": "stdout",
     "output_type": "stream",
     "text": [
      "/home/clyde/Dropbox/Project Stuff/Notebooks/test_cases/free_energy_test\n"
     ]
    }
   ],
   "source": [
    "cd free_energy_test"
   ]
  },
  {
   "cell_type": "code",
   "execution_count": 23,
   "metadata": {
    "collapsed": false
   },
   "outputs": [],
   "source": [
    "#set of 19 atom molecules computed at the g4mp2 level of theory from Anatole's 134K ab inition calculations paper\n",
    "with tarfile.open('../../ML/134k_molecules/dsC7O2H10nsd.xyz.tar.bz2','r:bz2') as data_tar:\n",
    "    mol_f=data_tar.extractfile(data_tar.next())\n",
    "    xyz_data = mol_f.read()\n",
    "    mol_f.close()\n",
    "    mol_data = extended_xyz_parse(xyz_data)\n",
    "mol = Atoms(symbols=mol_data['symbols'], positions=mol_data['coords'])"
   ]
  },
  {
   "cell_type": "code",
   "execution_count": 33,
   "metadata": {
    "collapsed": false
   },
   "outputs": [],
   "source": [
    "mol1 = copy.deepcopy(mol)\n",
    "mol1.set_calculator(Gaussian(label='test_free_energy1',method='b3lyp',basis='6-31G(2df,p)',opt='opt'))\n",
    "mol1.calc.set_job(nodes=8, memory=8*2000, queue='pqmb',version='g09-d01')\n",
    "mol1.calc.restart(opt='', freq='freq')\n",
    "#mol1.calc.start()"
   ]
  },
  {
   "cell_type": "code",
   "execution_count": 37,
   "metadata": {
    "collapsed": false
   },
   "outputs": [],
   "source": [
    "mol2 = copy.deepcopy(mol)\n",
    "mol2.set_calculator(Gaussian(label='test_free_energy2',method='b3lyp',basis='6-31G(2df,p)',opt='tight'))\n",
    "mol2.calc.set_job(nodes=8, memory=8*2000, queue='pqmb',version='g09-d01')\n",
    "mol2.calc.restart(opt='', freq='freq')\n",
    "#mol2.calc.start()"
   ]
  },
  {
   "cell_type": "code",
   "execution_count": 39,
   "metadata": {
    "collapsed": true
   },
   "outputs": [],
   "source": [
    "mol3 = copy.deepcopy(mol)\n",
    "mol3.set_calculator(Gaussian(label='test_free_energy3',method='b3lyp',basis='6-31G(2df,p)',opt='tight',integral='ultrafine'))\n",
    "mol3.calc.set_job(nodes=8, memory=8*2000, queue='pqmb',version='g09-d01')\n",
    "mol3.calc.restart(opt='', freq='freq')\n",
    "#mol3.calc.start()"
   ]
  },
  {
   "cell_type": "code",
   "execution_count": 47,
   "metadata": {
    "collapsed": false
   },
   "outputs": [
    {
     "data": {
      "text/html": [
       "\n",
       "    <style>\n",
       "    table\n",
       "    {\n",
       "        border-collapse:collapse;\n",
       "    }\n",
       "    td\n",
       "    {\n",
       "        padding:15px;\n",
       "    }\n",
       "    </style>\n",
       "    <body>\n",
       "    <table bgcolor=\"white\">\n",
       "    <col/><tr><td>test_free_energy1_restart_1</td><td><input type=\"button\" value=\"Smart Log\" id=\"test_free_energy1_restart_1\" onclick=\"IPython.cc_notebook.view_function(event, this.id)\" /></td><td>Success</td></tr><tr><td>test_free_energy2_restart_1</td><td><input type=\"button\" value=\"Smart Log\" id=\"test_free_energy2_restart_1\" onclick=\"IPython.cc_notebook.view_function(event, this.id)\" /></td><td>Success</td></tr><tr><td>test_free_energy3_restart_1</td><td><input type=\"button\" value=\"Smart Log\" id=\"test_free_energy3_restart_1\" onclick=\"IPython.cc_notebook.view_function(event, this.id)\" /></td><td>Success</td></tr>\n",
       "    </table>\n",
       "    </body>"
      ],
      "text/plain": [
       "<IPython.core.display.HTML object>"
      ]
     },
     "execution_count": 47,
     "metadata": {},
     "output_type": "execute_result"
    }
   ],
   "source": [
    "check_calcs([mol1,mol2,mol3])\n",
    "mols_to_html([mol1,mol2,mol3])"
   ]
  },
  {
   "cell_type": "code",
   "execution_count": 52,
   "metadata": {
    "collapsed": false
   },
   "outputs": [
    {
     "data": {
      "text/plain": [
       "array([-265495.81724668, -265495.81536415, -265495.83544445])"
      ]
     },
     "execution_count": 52,
     "metadata": {},
     "output_type": "execute_result"
    }
   ],
   "source": [
    "free_energies = np.array([mol1.calc.max_data['freeenergy'], mol2.calc.max_data['freeenergy'], mol3.calc.max_data['freeenergy']])\n",
    "convertor(free_energies, 'hartree', 'kcal')"
   ]
  },
  {
   "cell_type": "markdown",
   "metadata": {},
   "source": [
    "# Negligible difference"
   ]
  }
 ],
 "metadata": {
  "kernelspec": {
   "display_name": "Python 2",
   "language": "python",
   "name": "python2"
  },
  "language_info": {
   "codemirror_mode": {
    "name": "ipython",
    "version": 2
   },
   "file_extension": ".py",
   "mimetype": "text/x-python",
   "name": "python",
   "nbconvert_exporter": "python",
   "pygments_lexer": "ipython2",
   "version": "2.7.10"
  }
 },
 "nbformat": 4,
 "nbformat_minor": 0
}
