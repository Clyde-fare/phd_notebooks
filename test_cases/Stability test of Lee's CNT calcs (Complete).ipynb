{
 "metadata": {
  "name": ""
 },
 "nbformat": 3,
 "nbformat_minor": 0,
 "worksheets": [
  {
   "cells": [
    {
     "cell_type": "code",
     "collapsed": false,
     "input": [
      "import pandas\n",
      "from ASE_utils import *\n",
      "from cc_notebook_utils import *\n",
      "import cc_notebook_utils\n",
      "import numpy as np\n",
      "from webbrowser import open as open_log\n",
      "from math import pi\n",
      "from IPython.core.display import HTML, Image\n",
      "from ase import Atoms\n",
      "from ase.io import read, write\n",
      "from ase.calculators.gaussian import Gaussian"
     ],
     "language": "python",
     "metadata": {},
     "outputs": [],
     "prompt_number": 13
    },
    {
     "cell_type": "code",
     "collapsed": false,
     "input": [
      "cd Lee_CNT/"
     ],
     "language": "python",
     "metadata": {},
     "outputs": [
      {
       "output_type": "stream",
       "stream": "stdout",
       "text": [
        "/home/clyde/Dropbox/Project Stuff/Notebooks/test_cases/Lee_CNT\n"
       ]
      }
     ],
     "prompt_number": 2
    },
    {
     "cell_type": "code",
     "collapsed": false,
     "input": [
      "#with open('MODEL_ONLY/cnano-quin-model_S0_SP_b3lyp-631gd.com') as fl:\n",
      "#    inp=fl.read()\n",
      "    \n",
      "inp=\"\"\"#p b3lyp/6-31g(d) stable=opt\n",
      "\n",
      "Single Energy and Gradient Evaluation for ONIOM timing data ONIOM Vibrational Frequenecy Analysis Paper (28/3/12) HIGH MODEL\n",
      "\n",
      "0 1\n",
      " H                 -3.36722196    2.94731619    1.22869868\n",
      " H                 -2.21022648    1.54088908    2.84227550\n",
      " C                 -2.41542839    3.15038110   -0.74452656\n",
      " H                 -3.36722196    2.94731619   -1.22869868\n",
      " C                 -1.22472719    2.85564061    1.40131792\n",
      " C                 -2.41542839    3.15038110    0.74452656\n",
      " C                 -0.03389691    1.28582025    2.94836900\n",
      " C                 -1.25390125    1.96277921    2.54391368\n",
      " H                 -0.08741881    0.24737040    3.26511228\n",
      " C                 -1.25390125    1.96277921   -2.54391368\n",
      " H                 -2.21022648    1.54088908   -2.84227550\n",
      " C                  0.06382421    3.15634968   -0.72856608\n",
      " C                 -1.22472719    2.85564061   -1.40131792\n",
      " C                  1.31248429    2.72934184    1.40264239\n",
      " C                  0.06382421    3.15634968    0.72856608\n",
      " H                  2.15714402    1.31679425    2.84184829\n",
      " C                  1.24988404    1.83567941    2.54317370\n",
      " H                 -0.08741881    0.24737040   -3.26511228\n",
      " C                  1.24988404    1.83567941   -2.54317370\n",
      " C                 -0.03389691    1.28582025   -2.94836900\n",
      " C                  2.52647794    2.89790850   -0.74414947\n",
      " C                  1.31248429    2.72934184   -1.40264239\n",
      " H                  3.45197585    2.59655774    1.22810229\n",
      " C                  2.52647794    2.89790850    0.74414947\n",
      " H                  2.15714402    1.31679425   -2.84184829\n",
      " H                  3.45197585    2.59655774   -1.22810229\n",
      " H                 -0.91178938    5.41383787   -1.01953159\n",
      " C                  0.08998545    5.38960939   -1.42674909\n",
      " C                  1.17559242    5.91013310   -0.72625405\n",
      " H                  0.14497347    5.30019685   -2.50898281\n",
      " C                  2.38315225    6.28009868   -1.40342149\n",
      " C                  1.17559242    5.91013310    0.72625405\n",
      " C                  3.49335830    6.69089326   -0.71184920\n",
      " H                  2.38805223    6.26234383   -2.49066948\n",
      " C                  2.38315225    6.28009868    1.40342149\n",
      " C                  0.08998545    5.38960939    1.42674909\n",
      " C                  3.49335830    6.69089326    0.71184920\n",
      " H                  4.38560606    7.00325769   -1.24883177\n",
      " H                  2.38805223    6.26234383    2.49066948\n",
      " H                 -0.91178938    5.41383787    1.01953159\n",
      " H                  0.14497347    5.30019685    2.50898281\n",
      " H                  4.38560606    7.00325769    1.24883177\n",
      "\n",
      "\"\"\""
     ],
     "language": "python",
     "metadata": {},
     "outputs": [],
     "prompt_number": 3
    },
    {
     "cell_type": "code",
     "collapsed": false,
     "input": [
      "Lee_model = Atoms('H', [(0,0,0)])\n",
      "Lee_model.set_calculator(Gaussian(label='Lee_model', raw_input=inp)) \n",
      "Lee_model.calc.set_job(nodes=8, memory=8*1400, time=5, queue='pqmb')\n",
      "#Lee_model.calc.start()"
     ],
     "language": "python",
     "metadata": {},
     "outputs": [],
     "prompt_number": 9
    },
    {
     "cell_type": "code",
     "collapsed": false,
     "input": [
      "check_calcs([Lee_model])\n",
      "mols_to_html([Lee_model])"
     ],
     "language": "python",
     "metadata": {},
     "outputs": [
      {
       "html": [
        "\n",
        "           <script type=\"text/javascript\">\n",
        "           function view_function (event, file_n) {\n",
        "               if (event.ctrlKey && event.shiftKey){\n",
        "                   IPython.notebook.kernel.execute(\"cc_notebook_utils.pygview('\" + file_n + \".log')\");\n",
        "               }\n",
        "               else if (event.ctrlKey){\n",
        "                   IPython.notebook.kernel.execute(\"cc_notebook_utils.pygausssum('\" + file_n + \".log')\");\n",
        "               }\n",
        "               else if (event.shiftKey){\n",
        "                   IPython.notebook.kernel.execute(\"cc_notebook_utils.pyvogadro('\" + file_n + \".log')\");\n",
        "               }\n",
        "               else {\n",
        "                   IPython.notebook.kernel.execute(\"cc_notebook_utils.pyvim('\" + file_n + \".log')\");\n",
        "                   IPython.notebook.kernel.execute(\"print(file_n)\");\n",
        "               }\n",
        "           }\n",
        "           </script>\n",
        "    <style>\n",
        "    table\n",
        "    {\n",
        "        border-collapse:collapse;\n",
        "    }\n",
        "    td\n",
        "    {\n",
        "        padding:15px;\n",
        "    }\n",
        "    </style>\n",
        "    <body>\n",
        "    <table bgcolor=\"white\">\n",
        "    <col/><tr><td>Lee_model</td><td><a href = \"files/test_cases/Lee_CNT/Lee_model.com\" target = \"_blank\">com</a></td><td><input type=\"button\" value=\"Smart Log\" id=\"Lee_model\" onclick=\"view_function(event, this.id)\" /></td><td>Success</td></tr>\n",
        "    </table>\n",
        "    </body>"
       ],
       "metadata": {},
       "output_type": "pyout",
       "prompt_number": 10,
       "text": [
        "<IPython.core.display.HTML at 0x4c5bcd0>"
       ]
      }
     ],
     "prompt_number": 10
    },
    {
     "cell_type": "markdown",
     "metadata": {},
     "source": [
      "Calculation is stable we will try a planar version to see whether it too will be stable:"
     ]
    },
    {
     "cell_type": "code",
     "collapsed": false,
     "input": [
      "planar_Lee_model = read('Planar_Lee_model.xyz')\n",
      "planar_Lee_model.set_calculator(Gaussian(label='planar_Lee_model', method='b3lyp', basis='6-31g(d)', stable='opt'))\n",
      "planar_Lee_model.calc.set_job(nodes=12, memory=12*2000, time=5, queue='pqmb')\n",
      "#planar_Lee_model.calc.start()"
     ],
     "language": "python",
     "metadata": {},
     "outputs": [],
     "prompt_number": 11
    },
    {
     "cell_type": "code",
     "collapsed": false,
     "input": [
      "check_calcs([planar_Lee_model])\n",
      "mols_to_html([planar_Lee_model])"
     ],
     "language": "python",
     "metadata": {},
     "outputs": [
      {
       "html": [
        "\n",
        "           <script type=\"text/javascript\">\n",
        "           function view_function (event, file_n) {\n",
        "               if (event.ctrlKey && event.shiftKey){\n",
        "                   IPython.notebook.kernel.execute(\"cc_notebook_utils.pygview('\" + file_n + \".log')\");\n",
        "               }\n",
        "               else if (event.ctrlKey){\n",
        "                   IPython.notebook.kernel.execute(\"cc_notebook_utils.pygausssum('\" + file_n + \".log')\");\n",
        "               }\n",
        "               else if (event.shiftKey){\n",
        "                   IPython.notebook.kernel.execute(\"cc_notebook_utils.pyvogadro('\" + file_n + \".log')\");\n",
        "               }\n",
        "               else {\n",
        "                   IPython.notebook.kernel.execute(\"cc_notebook_utils.pyvim('\" + file_n + \".log')\");\n",
        "                   IPython.notebook.kernel.execute(\"print(file_n)\");\n",
        "               }\n",
        "           }\n",
        "           </script>\n",
        "    <style>\n",
        "    table\n",
        "    {\n",
        "        border-collapse:collapse;\n",
        "    }\n",
        "    td\n",
        "    {\n",
        "        padding:15px;\n",
        "    }\n",
        "    </style>\n",
        "    <body>\n",
        "    <table bgcolor=\"white\">\n",
        "    <col/><tr><td>planar_Lee_model</td><td><a href = \"files/test_cases/Lee_CNT/planar_Lee_model.com\" target = \"_blank\">com</a></td><td><input type=\"button\" value=\"Smart Log\" id=\"planar_Lee_model\" onclick=\"view_function(event, this.id)\" /></td><td>Error: No lower point found -- run aborted.</td></tr>\n",
        "    </table>\n",
        "    </body>"
       ],
       "metadata": {},
       "output_type": "pyout",
       "prompt_number": 12,
       "text": [
        "<IPython.core.display.HTML at 0x4c5be10>"
       ]
      }
     ],
     "prompt_number": 12
    },
    {
     "cell_type": "markdown",
     "metadata": {},
     "source": [
      "No it's not."
     ]
    },
    {
     "cell_type": "code",
     "collapsed": false,
     "input": [
      "planar_ng = read('solo_o2.xyz')\n",
      "planar_ng.set_calculator(Gaussian(label='planar_ng', method='b3lyp', basis='6-31g(d)', stable='opt'))\n",
      "planar_ng.calc.set_job(nodes=8, memory=8*1400, time=5, queue='pqmb')\n",
      "#planar_ng.calc.start()"
     ],
     "language": "python",
     "metadata": {},
     "outputs": [],
     "prompt_number": 28
    },
    {
     "cell_type": "code",
     "collapsed": false,
     "input": [
      "check_calcs([planar_ng])\n",
      "mols_to_html([planar_ng])"
     ],
     "language": "python",
     "metadata": {},
     "outputs": [
      {
       "html": [
        "\n",
        "           <script type=\"text/javascript\">\n",
        "           function view_function (event, file_n) {\n",
        "               if (event.ctrlKey && event.shiftKey){\n",
        "                   IPython.notebook.kernel.execute(\"cc_notebook_utils.pygview('\" + file_n + \".log')\");\n",
        "               }\n",
        "               else if (event.ctrlKey){\n",
        "                   IPython.notebook.kernel.execute(\"cc_notebook_utils.pygausssum('\" + file_n + \".log')\");\n",
        "               }\n",
        "               else if (event.shiftKey){\n",
        "                   IPython.notebook.kernel.execute(\"cc_notebook_utils.pyvogadro('\" + file_n + \".log')\");\n",
        "               }\n",
        "               else IPython.notebook.kernel.execute(\"cc_notebook_utils.pyvim('\" + file_n + \".log')\");\n",
        "           }\n",
        "           </script>\n",
        "    <style>\n",
        "    table\n",
        "    {\n",
        "        border-collapse:collapse;\n",
        "    }\n",
        "    td\n",
        "    {\n",
        "        padding:15px;\n",
        "    }\n",
        "    </style>\n",
        "    <body>\n",
        "    <table bgcolor=\"white\">\n",
        "    <col/><tr><td>planar_ng</td><td><a href = \"files/test_cases/Lee_CNT/planar_ng.com\" target = \"_blank\">com</a></td><td><input type=\"button\" value=\"Smart Log\" id=\"planar_ng\" onclick=\"view_function(event, this.id)\" /></td><td>Success</td></tr>\n",
        "    </table>\n",
        "    </body>"
       ],
       "output_type": "pyout",
       "prompt_number": 33,
       "text": [
        "<IPython.core.display.HTML at 0x4a2dd50>"
       ]
      }
     ],
     "prompt_number": 33
    },
    {
     "cell_type": "markdown",
     "metadata": {},
     "source": [
      "The degree of curvature matters in terms of the stability - this makes a certain amount of sense given that the stability problems are tied up with aromaticity."
     ]
    }
   ],
   "metadata": {}
  }
 ]
}