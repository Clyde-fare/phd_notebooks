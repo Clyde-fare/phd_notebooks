{
 "metadata": {
  "name": "",
  "signature": "sha256:4edb5e35c12ce8e4cf23b42455ace81c5411bb48a372170e542d3668861275b5"
 },
 "nbformat": 3,
 "nbformat_minor": 0,
 "worksheets": [
  {
   "cells": [
    {
     "cell_type": "code",
     "collapsed": false,
     "input": [
      "import pandas as pd\n",
      "import numpy as np\n",
      "\n",
      "\n",
      "import io\n",
      "import re\n",
      "import random\n",
      "import os\n",
      "import copy\n",
      "import numpy as np\n",
      "import ConfigParser\n",
      "from IPython.core import display\n",
      "import IPython.nbformat.current as nb_current\n",
      "from IPython.core.getipython import get_ipython"
     ],
     "language": "python",
     "metadata": {},
     "outputs": [],
     "prompt_number": 1
    },
    {
     "cell_type": "code",
     "collapsed": false,
     "input": [
      "with open('H_chain_ONIOM.ipynb') as f:\n",
      "    ancestor_nb = nb_current.read(f, 'json')\n",
      "    \n",
      "ip = get_ipython()\n",
      "\n",
      "code_cells = [cell for cell in ancestor_nb.worksheets[0].cells if cell.cell_type == 'code']\n",
      "\n",
      "for cell in code_cells:\n",
      "    ip.run_cell(cell.input, silent=False)\n",
      "    d=pd.DataFrame([np.nan,1,2.])\n",
      "    try:\n",
      "        print(d.__repr__)\n",
      "    except FloatingPointError:\n",
      "        print('Failed on', cell.input)\n",
      "        break"
     ],
     "language": "python",
     "metadata": {},
     "outputs": [
      {
       "output_type": "stream",
       "stream": "stdout",
       "text": [
        "/home/clyde/Dropbox/Project Stuff/Notebooks/test_cases/oniom_hydrogen\n",
        "<bound method DataFrame.__repr__ of     0\n",
        "0 NaN\n",
        "1   1\n",
        "2   2>\n",
        "Populating the interactive namespace from numpy and matplotlib"
       ]
      },
      {
       "output_type": "stream",
       "stream": "stdout",
       "text": [
        "\n",
        "<bound method DataFrame.__repr__ of     0\n",
        "0 NaN\n",
        "1   1\n",
        "2   2>\n"
       ]
      },
      {
       "output_type": "stream",
       "stream": "stderr",
       "text": [
        "WARNING: pylab import has clobbered these variables: ['copy', 'random', 'display', 'f']\n",
        "`%matplotlib` prevents importing * from pylab and numpy\n"
       ]
      },
      {
       "javascript": [
        "\n",
        "require(['nbextensions/cc_notebook'])\n",
        "require(['nbextensions/jsmol/JSmol.min.nojq'])\n"
       ],
       "metadata": {},
       "output_type": "display_data",
       "text": [
        "<IPython.core.display.Javascript at 0x7f0205bc87d0>"
       ]
      },
      {
       "output_type": "stream",
       "stream": "stdout",
       "text": [
        "from cc_notebook import *\n",
        "from ase_extensions.ase_utils import *\n",
        "from gausspy import Gaussian\n",
        "from ase import Atoms, Atom\n",
        "from cclib.parser.utils import convertor\n",
        "import numpy as np\n"
       ]
      }
     ],
     "prompt_number": 2
    },
    {
     "cell_type": "code",
     "collapsed": false,
     "input": [
      "\n",
      "\n",
      "from cc_notebook import *\n",
      "\n",
      "\n",
      "from ase_extensions.ase_utils import *\n",
      "import pandas as pd\n",
      "from gausspy import Gaussian\n",
      "from ase import Atoms, Atom\n",
      "from cclib.parser.utils import convertor\n",
      "\n",
      "import numpy as np\n",
      "\n",
      "\n",
      "d=pd.DataFrame([np.nan,1,2.])\n",
      "d"
     ],
     "language": "python",
     "metadata": {},
     "outputs": [
      {
       "javascript": [
        "\n",
        "require(['nbextensions/cc_notebook'])\n",
        "require(['nbextensions/jsmol/JSmol.min.nojq'])\n"
       ],
       "metadata": {},
       "output_type": "display_data",
       "text": [
        "<IPython.core.display.Javascript at 0x7f59fc026190>"
       ]
      },
      {
       "html": [
        "<div style=\"max-height:1000px;max-width:1500px;overflow:auto;\">\n",
        "<table border=\"1\" class=\"dataframe\">\n",
        "  <thead>\n",
        "    <tr style=\"text-align: right;\">\n",
        "      <th></th>\n",
        "      <th>0</th>\n",
        "    </tr>\n",
        "  </thead>\n",
        "  <tbody>\n",
        "    <tr>\n",
        "      <th>0</th>\n",
        "      <td>NaN</td>\n",
        "    </tr>\n",
        "    <tr>\n",
        "      <th>1</th>\n",
        "      <td>  1</td>\n",
        "    </tr>\n",
        "    <tr>\n",
        "      <th>2</th>\n",
        "      <td>  2</td>\n",
        "    </tr>\n",
        "  </tbody>\n",
        "</table>\n",
        "</div>"
       ],
       "metadata": {},
       "output_type": "pyout",
       "prompt_number": 1,
       "text": [
        "    0\n",
        "0 NaN\n",
        "1   1\n",
        "2   2"
       ]
      }
     ],
     "prompt_number": 1
    },
    {
     "cell_type": "code",
     "collapsed": false,
     "input": [
      "import pandas as pd\n",
      "#import molmod\n",
      "import numpy as np\n",
      "\n",
      "d=pd.DataFrame([np.nan,1,2.])\n",
      "d"
     ],
     "language": "python",
     "metadata": {},
     "outputs": [
      {
       "html": [
        "<div style=\"max-height:1000px;max-width:1500px;overflow:auto;\">\n",
        "<table border=\"1\" class=\"dataframe\">\n",
        "  <thead>\n",
        "    <tr style=\"text-align: right;\">\n",
        "      <th></th>\n",
        "      <th>0</th>\n",
        "    </tr>\n",
        "  </thead>\n",
        "  <tbody>\n",
        "    <tr>\n",
        "      <th>0</th>\n",
        "      <td>NaN</td>\n",
        "    </tr>\n",
        "    <tr>\n",
        "      <th>1</th>\n",
        "      <td>  1</td>\n",
        "    </tr>\n",
        "    <tr>\n",
        "      <th>2</th>\n",
        "      <td>  2</td>\n",
        "    </tr>\n",
        "  </tbody>\n",
        "</table>\n",
        "</div>"
       ],
       "metadata": {},
       "output_type": "pyout",
       "prompt_number": 1,
       "text": [
        "    0\n",
        "0 NaN\n",
        "1   1\n",
        "2   2"
       ]
      }
     ],
     "prompt_number": 1
    },
    {
     "cell_type": "code",
     "collapsed": false,
     "input": [
      "def copy_cells(from_notebook='', from_cells=(0, 0), to_notebook='', at_cell=0):\n",
      "\n",
      "    if '.ipynb' not in from_notebook:\n",
      "        from_notebook += '.ipynb'\n",
      "    if '.ipynb' not in to_notebook:\n",
      "        to_notebook += '.ipynb'\n",
      "\n",
      "    with open(from_notebook) as nb1_f:\n",
      "        nb1_raw = nb1_f.read()\n",
      "\n",
      "    with open(to_notebook) as nb2_f:\n",
      "        nb2_raw = nb2_f.read()\n",
      "\n",
      "    nb1 = nb_current.reads_json(nb1_raw)\n",
      "    nb2 = nb_current.reads_json(nb2_raw)\n",
      "\n",
      "    start_id, end_id = from_cells\n",
      "    copied_cells = nb1['worksheets'][0]['cells'][start_id:end_id]\n",
      "\n",
      "    active_cells = nb2['worksheets'][0]['cells']\n",
      "    nb2['worksheets'][0]['cells'] = active_cells[:at_cell] + copied_cells + active_cells[at_cell:]\n",
      "\n",
      "    nb2_modified_raw = nb_current.writes_json(nb2)\n",
      "\n",
      "    with open(to_notebook, 'w') as nb2_f:\n",
      "        nb2_f.write(nb2_modified_raw)\n",
      "\n",
      "\n",
      "def extract_linked_nb(mkdn_cell):\n",
      "    \"\"\"Extracts url links to other notebooks from a markdown cell\"\"\"\n",
      "    nb_link_extractor = re.compile(\"(?<=\\]\\().+ipynb\")\n",
      "    linked_nbs = nb_link_extractor.findall(mkdn_cell['source'])\n",
      "    return linked_nbs\n",
      "\n",
      "\n",
      "def inherit_upto_cell(nb_name, cell_id=-1, silent=False):\n",
      "    \"\"\"inherits from another notebook up to cell number cell_id\"\"\"\n",
      "\n",
      "    ip = get_ipython()\n",
      "\n",
      "    if '.ipynb' not in nb_name:\n",
      "        nb_name += '.ipynb'\n",
      "\n",
      "    with io.open(nb_name) as f:\n",
      "        ancestor_nb = nb_current.read(f, 'json')\n",
      "\n",
      "    code_cells = [cell for cell in ancestor_nb.worksheets[0].cells if cell.cell_type == 'code']\n",
      "\n",
      "    if cell_id == -1:\n",
      "        cell_id = len(code_cells)\n",
      "        print('Inheriting entire notebook')\n",
      "\n",
      "    ancestor_code_cells = [cell for i, cell in enumerate(code_cells) if i <= cell_id]\n",
      "\n",
      "    for cell in ancestor_code_cells:\n",
      "        ip.run_cell(cell.input, silent=silent)\n",
      "\n",
      "    return\n",
      "\n",
      "\n",
      "def inherit_from(nb_name, uptolink='', silent=False):\n",
      "    \"\"\"Inherits code from notebook 'nb_name' up to the point where a link to 'uptolink' is found in a markdown cell of nb_name\"\"\"\n",
      "\n",
      "    if '.ipynb' not in nb_name:\n",
      "        nb_name += '.ipynb'\n",
      "\n",
      "    if '.ipynb' not in uptolink:\n",
      "        uptolink += '.ipynb'\n",
      "\n",
      "    with io.open(nb_name) as f:\n",
      "        ancestor_nb = nb_current.read(f, 'json')\n",
      "\n",
      "    cell_id=-1\n",
      "\n",
      "    for cell in ancestor_nb.worksheets[0].cells:\n",
      "        if cell.cell_type == 'code':\n",
      "            cell_id+=1\n",
      "        if cell.cell_type == 'markdown' and uptolink in extract_linked_nb(cell):\n",
      "            break\n",
      "    else:\n",
      "        inherit_upto_cell(nb_name, cell_id=-1, silent=silent)\n",
      "        return\n",
      "\n",
      "    inherit_upto_cell(nb_name, cell_id=cell_id, silent=silent)\n"
     ],
     "language": "python",
     "metadata": {},
     "outputs": []
    }
   ],
   "metadata": {}
  }
 ]
}