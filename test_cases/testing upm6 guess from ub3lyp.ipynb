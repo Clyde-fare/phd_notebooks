{
 "cells": [
  {
   "cell_type": "code",
   "execution_count": 9,
   "metadata": {
    "collapsed": false
   },
   "outputs": [],
   "source": [
    "from cc_notebook import *\n",
    "from ase_extensions.ase_utils import *\n",
    "from gausspy import Gaussian\n",
    "from ase.data.molecules import molecule"
   ]
  },
  {
   "cell_type": "code",
   "execution_count": 10,
   "metadata": {
    "collapsed": false
   },
   "outputs": [
    {
     "name": "stdout",
     "output_type": "stream",
     "text": [
      "[Errno 2] No such file or directory: 'test_upm6'\n",
      "/home/clyde/Dropbox/Project Stuff/Notebooks/test_cases/test_upm6\n"
     ]
    }
   ],
   "source": [
    "cd test_upm6"
   ]
  },
  {
   "cell_type": "code",
   "execution_count": 89,
   "metadata": {
    "collapsed": true
   },
   "outputs": [],
   "source": [
    "basis_sets = ['STO-3G','3-21G','6-21G','4-31G','6-31G','6-31G*', '6-31G**','6-311G']\n",
    "\n",
    "calcs=[]\n",
    "for basis in basis_sets:\n",
    "    w=molecule('H2O')\n",
    "    g_label = 'h2o_' + basis.replace('*','d').replace('-','_')\n",
    "    w.set_calculator(Gaussian(label=g_label, method='UB3LYP', basis=basis))\n",
    "    w.calc.set_job(nodes=1,time=1,version='g09-c01')\n",
    "    #w.calc.start()\n",
    "    calcs.append(w)"
   ]
  },
  {
   "cell_type": "code",
   "execution_count": 90,
   "metadata": {
    "collapsed": false
   },
   "outputs": [
    {
     "data": {
      "text/html": [
       "\n",
       "    <style>\n",
       "    table\n",
       "    {\n",
       "        border-collapse:collapse;\n",
       "    }\n",
       "    td\n",
       "    {\n",
       "        padding:15px;\n",
       "    }\n",
       "    </style>\n",
       "    <body>\n",
       "    <table bgcolor=\"white\">\n",
       "    <col/><tr><td>h2o_STO_3G</td><td><input type=\"button\" value=\"Smart Log\" id=\"h2o_STO_3G\" onclick=\"IPython.cc_notebook.view_function(event, this.id)\" /></td><td>Success</td></tr><tr><td>h2o_3_21G</td><td><input type=\"button\" value=\"Smart Log\" id=\"h2o_3_21G\" onclick=\"IPython.cc_notebook.view_function(event, this.id)\" /></td><td>Success</td></tr><tr><td>h2o_6_21G</td><td><input type=\"button\" value=\"Smart Log\" id=\"h2o_6_21G\" onclick=\"IPython.cc_notebook.view_function(event, this.id)\" /></td><td>Success</td></tr><tr><td>h2o_4_31G</td><td><input type=\"button\" value=\"Smart Log\" id=\"h2o_4_31G\" onclick=\"IPython.cc_notebook.view_function(event, this.id)\" /></td><td>Success</td></tr><tr><td>h2o_6_31G</td><td><input type=\"button\" value=\"Smart Log\" id=\"h2o_6_31G\" onclick=\"IPython.cc_notebook.view_function(event, this.id)\" /></td><td>Success</td></tr><tr><td>h2o_6_31Gd</td><td><input type=\"button\" value=\"Smart Log\" id=\"h2o_6_31Gd\" onclick=\"IPython.cc_notebook.view_function(event, this.id)\" /></td><td>Success</td></tr><tr><td>h2o_6_31Gdd</td><td><input type=\"button\" value=\"Smart Log\" id=\"h2o_6_31Gdd\" onclick=\"IPython.cc_notebook.view_function(event, this.id)\" /></td><td>Success</td></tr><tr><td>h2o_6_311G</td><td><input type=\"button\" value=\"Smart Log\" id=\"h2o_6_311G\" onclick=\"IPython.cc_notebook.view_function(event, this.id)\" /></td><td>Success</td></tr>\n",
       "    </table>\n",
       "    </body>"
      ],
      "text/plain": [
       "<IPython.core.display.HTML object>"
      ]
     },
     "execution_count": 90,
     "metadata": {},
     "output_type": "execute_result"
    }
   ],
   "source": [
    "check_calcs(calcs)\n",
    "mols_to_html(calcs)"
   ]
  },
  {
   "cell_type": "code",
   "execution_count": 91,
   "metadata": {
    "collapsed": true
   },
   "outputs": [],
   "source": [
    "for c in calcs:\n",
    "    c.calc.restart(method='upm6',basis='')\n",
    "    #c.calc.start()"
   ]
  },
  {
   "cell_type": "code",
   "execution_count": 92,
   "metadata": {
    "collapsed": false
   },
   "outputs": [
    {
     "data": {
      "text/html": [
       "\n",
       "    <style>\n",
       "    table\n",
       "    {\n",
       "        border-collapse:collapse;\n",
       "    }\n",
       "    td\n",
       "    {\n",
       "        padding:15px;\n",
       "    }\n",
       "    </style>\n",
       "    <body>\n",
       "    <table bgcolor=\"white\">\n",
       "    <col/><tr><td>h2o_STO_3G_restart_1</td><td><input type=\"button\" value=\"Smart Log\" id=\"h2o_STO_3G_restart_1\" onclick=\"IPython.cc_notebook.view_function(event, this.id)\" /></td><td>Error: Projection suppressed but bases are not identical:  MB=   7 NB=   6 JPrj=0.</td></tr><tr><td>h2o_3_21G_restart_1</td><td><input type=\"button\" value=\"Smart Log\" id=\"h2o_3_21G_restart_1\" onclick=\"IPython.cc_notebook.view_function(event, this.id)\" /></td><td>Error: Projection suppressed but bases are not identical:  MB=  13 NB=   6 JPrj=0.</td></tr><tr><td>h2o_6_21G_restart_1</td><td><input type=\"button\" value=\"Smart Log\" id=\"h2o_6_21G_restart_1\" onclick=\"IPython.cc_notebook.view_function(event, this.id)\" /></td><td>Error: Projection suppressed but bases are not identical:  MB=  13 NB=   6 JPrj=0.</td></tr><tr><td>h2o_4_31G_restart_1</td><td><input type=\"button\" value=\"Smart Log\" id=\"h2o_4_31G_restart_1\" onclick=\"IPython.cc_notebook.view_function(event, this.id)\" /></td><td>Error: Projection suppressed but bases are not identical:  MB=  13 NB=   6 JPrj=0.</td></tr><tr><td>h2o_6_31G_restart_1</td><td><input type=\"button\" value=\"Smart Log\" id=\"h2o_6_31G_restart_1\" onclick=\"IPython.cc_notebook.view_function(event, this.id)\" /></td><td>Error: Projection suppressed but bases are not identical:  MB=  13 NB=   6 JPrj=0.</td></tr><tr><td>h2o_6_31Gd_restart_1</td><td><input type=\"button\" value=\"Smart Log\" id=\"h2o_6_31Gd_restart_1\" onclick=\"IPython.cc_notebook.view_function(event, this.id)\" /></td><td>Error: Projection suppressed but bases are not identical:  MB=  19 NB=   6 JPrj=0.</td></tr><tr><td>h2o_6_31Gdd_restart_1</td><td><input type=\"button\" value=\"Smart Log\" id=\"h2o_6_31Gdd_restart_1\" onclick=\"IPython.cc_notebook.view_function(event, this.id)\" /></td><td>Error: Projection suppressed but bases are not identical:  MB=  25 NB=   6 JPrj=0.</td></tr><tr><td>h2o_6_311G_restart_1</td><td><input type=\"button\" value=\"Smart Log\" id=\"h2o_6_311G_restart_1\" onclick=\"IPython.cc_notebook.view_function(event, this.id)\" /></td><td>Error: Projection suppressed but bases are not identical:  MB=  19 NB=   6 JPrj=0.</td></tr>\n",
       "    </table>\n",
       "    </body>"
      ],
      "text/plain": [
       "<IPython.core.display.HTML object>"
      ]
     },
     "execution_count": 92,
     "metadata": {},
     "output_type": "execute_result"
    }
   ],
   "source": [
    "check_calcs(calcs)\n",
    "mols_to_html(calcs)"
   ]
  },
  {
   "cell_type": "code",
   "execution_count": 96,
   "metadata": {
    "collapsed": true
   },
   "outputs": [],
   "source": [
    "basis_sets = ['STO-3G','3-21G','6-21G','4-31G','6-31G','6-31G*', '6-31G**','6-311G']\n",
    "\n",
    "calcs=[]\n",
    "for basis in basis_sets:\n",
    "    w=molecule('H2O')\n",
    "    g_label = 'h2o_hf_' + basis.replace('*','d').replace('-','_')\n",
    "    w.set_calculator(Gaussian(label=g_label, method='HF', basis=basis))\n",
    "    w.calc.set_job(nodes=1,time=1,version='g09-c01')\n",
    "    #w.calc.start()\n",
    "    calcs.append(w)"
   ]
  },
  {
   "cell_type": "code",
   "execution_count": 97,
   "metadata": {
    "collapsed": false
   },
   "outputs": [
    {
     "data": {
      "text/html": [
       "\n",
       "    <style>\n",
       "    table\n",
       "    {\n",
       "        border-collapse:collapse;\n",
       "    }\n",
       "    td\n",
       "    {\n",
       "        padding:15px;\n",
       "    }\n",
       "    </style>\n",
       "    <body>\n",
       "    <table bgcolor=\"white\">\n",
       "    <col/><tr><td>h2o_hf_STO_3G</td><td><input type=\"button\" value=\"Smart Log\" id=\"h2o_hf_STO_3G\" onclick=\"IPython.cc_notebook.view_function(event, this.id)\" /></td><td>Success</td></tr><tr><td>h2o_hf_3_21G</td><td><input type=\"button\" value=\"Smart Log\" id=\"h2o_hf_3_21G\" onclick=\"IPython.cc_notebook.view_function(event, this.id)\" /></td><td>Success</td></tr><tr><td>h2o_hf_6_21G</td><td><input type=\"button\" value=\"Smart Log\" id=\"h2o_hf_6_21G\" onclick=\"IPython.cc_notebook.view_function(event, this.id)\" /></td><td>Success</td></tr><tr><td>h2o_hf_4_31G</td><td><input type=\"button\" value=\"Smart Log\" id=\"h2o_hf_4_31G\" onclick=\"IPython.cc_notebook.view_function(event, this.id)\" /></td><td>Success</td></tr><tr><td>h2o_hf_6_31G</td><td><input type=\"button\" value=\"Smart Log\" id=\"h2o_hf_6_31G\" onclick=\"IPython.cc_notebook.view_function(event, this.id)\" /></td><td>Success</td></tr><tr><td>h2o_hf_6_31Gd</td><td><input type=\"button\" value=\"Smart Log\" id=\"h2o_hf_6_31Gd\" onclick=\"IPython.cc_notebook.view_function(event, this.id)\" /></td><td>Success</td></tr><tr><td>h2o_hf_6_31Gdd</td><td><input type=\"button\" value=\"Smart Log\" id=\"h2o_hf_6_31Gdd\" onclick=\"IPython.cc_notebook.view_function(event, this.id)\" /></td><td>Success</td></tr><tr><td>h2o_hf_6_311G</td><td><input type=\"button\" value=\"Smart Log\" id=\"h2o_hf_6_311G\" onclick=\"IPython.cc_notebook.view_function(event, this.id)\" /></td><td>Success</td></tr>\n",
       "    </table>\n",
       "    </body>"
      ],
      "text/plain": [
       "<IPython.core.display.HTML object>"
      ]
     },
     "execution_count": 97,
     "metadata": {},
     "output_type": "execute_result"
    }
   ],
   "source": [
    "check_calcs(calcs)\n",
    "mols_to_html(calcs)"
   ]
  },
  {
   "cell_type": "code",
   "execution_count": 98,
   "metadata": {
    "collapsed": true
   },
   "outputs": [],
   "source": [
    "for c in calcs:\n",
    "    c.calc.restart(method='pm6',basis='')\n",
    "    #c.calc.start()"
   ]
  },
  {
   "cell_type": "code",
   "execution_count": 99,
   "metadata": {
    "collapsed": false
   },
   "outputs": [
    {
     "data": {
      "text/html": [
       "\n",
       "    <style>\n",
       "    table\n",
       "    {\n",
       "        border-collapse:collapse;\n",
       "    }\n",
       "    td\n",
       "    {\n",
       "        padding:15px;\n",
       "    }\n",
       "    </style>\n",
       "    <body>\n",
       "    <table bgcolor=\"white\">\n",
       "    <col/><tr><td>h2o_hf_STO_3G_restart_1</td><td><input type=\"button\" value=\"Smart Log\" id=\"h2o_hf_STO_3G_restart_1\" onclick=\"IPython.cc_notebook.view_function(event, this.id)\" /></td><td>Error: Projection suppressed but bases are not identical:  MB=   7 NB=   6 JPrj=0.</td></tr><tr><td>h2o_hf_3_21G_restart_1</td><td><input type=\"button\" value=\"Smart Log\" id=\"h2o_hf_3_21G_restart_1\" onclick=\"IPython.cc_notebook.view_function(event, this.id)\" /></td><td>Error: Projection suppressed but bases are not identical:  MB=  13 NB=   6 JPrj=0.</td></tr><tr><td>h2o_hf_6_21G_restart_1</td><td><input type=\"button\" value=\"Smart Log\" id=\"h2o_hf_6_21G_restart_1\" onclick=\"IPython.cc_notebook.view_function(event, this.id)\" /></td><td>Error: Projection suppressed but bases are not identical:  MB=  13 NB=   6 JPrj=0.</td></tr><tr><td>h2o_hf_4_31G_restart_1</td><td><input type=\"button\" value=\"Smart Log\" id=\"h2o_hf_4_31G_restart_1\" onclick=\"IPython.cc_notebook.view_function(event, this.id)\" /></td><td>Error: Projection suppressed but bases are not identical:  MB=  13 NB=   6 JPrj=0.</td></tr><tr><td>h2o_hf_6_31G_restart_1</td><td><input type=\"button\" value=\"Smart Log\" id=\"h2o_hf_6_31G_restart_1\" onclick=\"IPython.cc_notebook.view_function(event, this.id)\" /></td><td>Error: Projection suppressed but bases are not identical:  MB=  13 NB=   6 JPrj=0.</td></tr><tr><td>h2o_hf_6_31Gd_restart_1</td><td><input type=\"button\" value=\"Smart Log\" id=\"h2o_hf_6_31Gd_restart_1\" onclick=\"IPython.cc_notebook.view_function(event, this.id)\" /></td><td>Error: Projection suppressed but bases are not identical:  MB=  19 NB=   6 JPrj=0.</td></tr><tr><td>h2o_hf_6_31Gdd_restart_1</td><td><input type=\"button\" value=\"Smart Log\" id=\"h2o_hf_6_31Gdd_restart_1\" onclick=\"IPython.cc_notebook.view_function(event, this.id)\" /></td><td>Error: Projection suppressed but bases are not identical:  MB=  25 NB=   6 JPrj=0.</td></tr><tr><td>h2o_hf_6_311G_restart_1</td><td><input type=\"button\" value=\"Smart Log\" id=\"h2o_hf_6_311G_restart_1\" onclick=\"IPython.cc_notebook.view_function(event, this.id)\" /></td><td>Error: Projection suppressed but bases are not identical:  MB=  19 NB=   6 JPrj=0.</td></tr>\n",
       "    </table>\n",
       "    </body>"
      ],
      "text/plain": [
       "<IPython.core.display.HTML object>"
      ]
     },
     "execution_count": 99,
     "metadata": {},
     "output_type": "execute_result"
    }
   ],
   "source": [
    "check_calcs(calcs)\n",
    "mols_to_html(calcs)"
   ]
  },
  {
   "cell_type": "code",
   "execution_count": 102,
   "metadata": {
    "collapsed": false
   },
   "outputs": [
    {
     "name": "stdout",
     "output_type": "stream",
     "text": [
      "/bin/sh: 1: testroute: not found\r\n"
     ]
    }
   ],
   "source": [
    "!testroute"
   ]
  },
  {
   "cell_type": "code",
   "execution_count": null,
   "metadata": {
    "collapsed": true
   },
   "outputs": [],
   "source": []
  }
 ],
 "metadata": {
  "kernelspec": {
   "display_name": "Python 2",
   "language": "python",
   "name": "python2"
  },
  "language_info": {
   "codemirror_mode": {
    "name": "ipython",
    "version": 2
   },
   "file_extension": ".py",
   "mimetype": "text/x-python",
   "name": "python",
   "nbconvert_exporter": "python",
   "pygments_lexer": "ipython2",
   "version": "2.7.9"
  }
 },
 "nbformat": 4,
 "nbformat_minor": 0
}
