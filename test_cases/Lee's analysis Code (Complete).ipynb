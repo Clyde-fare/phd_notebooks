{
 "metadata": {
  "name": ""
 },
 "nbformat": 3,
 "nbformat_minor": 0,
 "worksheets": [
  {
   "cells": [
    {
     "cell_type": "markdown",
     "metadata": {},
     "source": [
      "##Testing a calculation that makes use of Lee's [oniom frequency analysis code](http://pubs.acs.org/doi/full/10.1021/ct300612m)"
     ]
    },
    {
     "cell_type": "markdown",
     "metadata": {},
     "source": [
      "Location of example test jobs: home/gaussian-devel/gaussiandvh13_pgi_118/lee_devel/SANDBOX/local-tests/onion-onifrq\n",
      "\n",
      "When running we need to include __nosymm__ or __symmetry=None__ and __iop 7/123=1__ in the input file and have run: **module use /home/gaussian-devel/moremodules** and **module load gaussian-a7f8ac5c6a00** on the server"
     ]
    },
    {
     "cell_type": "code",
     "collapsed": false,
     "input": [
      "import pandas, os\n",
      "import numpy as np\n",
      "from webbrowser import open as open_log\n",
      "from math import pi\n",
      "from IPython.core.display import HTML, Image\n",
      "from ase.io import read, write\n",
      "from ase.calculators.gaussian import Gaussian\n",
      "from glob import glob\n",
      "from ASE_utils import *\n",
      "from cc_notebook_utils import *"
     ],
     "language": "python",
     "metadata": {},
     "outputs": [
      {
       "output_type": "stream",
       "stream": "stderr",
       "text": [
        "WARNING: Neither ~/.pyp_util.ini nor ./pbs_util.ini exist./home/clyde/Project/Code/Python/transformations.py:1888: UserWarning: failed to import module _transformations\n",
        "  warnings.warn(\"failed to import module %s\" % name)\n"
       ]
      }
     ],
     "prompt_number": 1
    },
    {
     "cell_type": "code",
     "collapsed": false,
     "input": [
      "cd Lee_gaus_test"
     ],
     "language": "python",
     "metadata": {},
     "outputs": [
      {
       "output_type": "stream",
       "stream": "stdout",
       "text": [
        "/home/clyde/Dropbox/Project Stuff/Notebooks/Lee_gaus_test\n"
       ]
      }
     ],
     "prompt_number": 2
    },
    {
     "cell_type": "code",
     "collapsed": false,
     "input": [
      "ylide_atoms = [67,68,69,70,71,72,73]\n",
      "graph_atoms = {}\n",
      "graph_atoms.update({0:[28,29]}) #2 C atoms\n",
      "graph_atoms.update({1:graph_atoms[0] + [12,13,14,15,27,41,42,30]}) #10 C atoms\n",
      "graph_atoms.update({2:graph_atoms[1] + [11,25,26,16,32,31]}) #16 C atoms\n",
      "graph_atoms.update({3:graph_atoms[2] + [24,33]})#18 C atoms\n",
      "graph_atoms.update({4:graph_atoms[2] + [38,39,52,40,47,55,48,56,43,44,53,45,17,6,60,5,4,59,3,58,2,1,57,10]}) # 42 C atoms (total molecule = 50 C atoms)\n",
      "\n",
      "l_methods = ['uff','am1','pm6','HF/STO-3G']"
     ],
     "language": "python",
     "metadata": {},
     "outputs": [],
     "prompt_number": 3
    },
    {
     "cell_type": "code",
     "collapsed": false,
     "input": [
      "test_calc = read('../cycloadd_oniom/o3_pm6_o3_pm6_4_4_cent_carbonyl_ts_restart_1.log')\n",
      "test_calc.set_calculator(Gaussian(label='test_oniom_analysis', method='oniom(B3LYP/6-31G(d):pm6)', basis='oniom', freq='freq', symmetry='None', ioplist = ['7/123=1']))\n",
      "test_calc_H = ylide_atoms + graph_atoms[3]\n",
      "test_calc.calc.coord_params['layers'] = [[no -1 for no in test_calc_H]]\n",
      "test_calc.calc.coord_params['layer_mults'] = [1,1]\n",
      "test_calc.calc.set_job(nodes=12, memory=12*3000, time=24, version='gdv_latest')\n",
      "#test_calc.get_potential_energy()"
     ],
     "language": "python",
     "metadata": {},
     "outputs": [],
     "prompt_number": 4
    },
    {
     "cell_type": "code",
     "collapsed": false,
     "input": [
      "mols_to_html([test_calc])"
     ],
     "language": "python",
     "metadata": {},
     "outputs": [
      {
       "html": [
        "\n",
        "           <script type=\"text/javascript\">\n",
        "           function view_function (event, file_n) {\n",
        "               if (event.ctrlKey && event.shiftKey){\n",
        "                   IPython.notebook.kernel.execute(\"cc_notebook_utils.pygview('\" + file_n + \".log')\");\n",
        "               }\n",
        "               else if (event.ctrlKey){\n",
        "                   IPython.notebook.kernel.execute(\"cc_notebook_utils.pygausssum('\" + file_n + \".log')\");\n",
        "               }\n",
        "               else if (event.shiftKey){\n",
        "                   IPython.notebook.kernel.execute(\"cc_notebook_utils.pyvogadro('\" + file_n + \".log')\");\n",
        "               }\n",
        "               else IPython.notebook.kernel.execute(\"cc_notebook_utils.pyvim('\" + file_n + \".log')\");\n",
        "           }\n",
        "           </script>\n",
        "    <style>\n",
        "    table\n",
        "    {\n",
        "        border-collapse:collapse;\n",
        "    }\n",
        "    td\n",
        "    {\n",
        "        padding:15px;\n",
        "    }\n",
        "    </style>\n",
        "    <body>\n",
        "    <table bgcolor=\"white\">\n",
        "    <col/><tr><td>test_oniom_analysis</td><td><a href = \"files/Lee_gaus_test/test_oniom_analysis.com\" target = \"_blank\">com</a></td><td><input type=\"button\" value=\"Smart Log\" id=\"test_oniom_analysis\" onclick=\"view_function(event, this.id)\" /></td><td>Success</td></tr>\n",
        "    </table>\n",
        "    </body>"
       ],
       "output_type": "pyout",
       "prompt_number": 5,
       "text": [
        "<IPython.core.display.HTML at 0x1ea4790>"
       ]
      }
     ],
     "prompt_number": 5
    },
    {
     "cell_type": "code",
     "collapsed": false,
     "input": [
      "calcs = []\n",
      "for meth in l_methods:\n",
      "    test_calc = read('../cycloadd_oniom/o3_pm6_o3_pm6_4_4_cent_carbonyl_ts_restart_1.log')\n",
      "    test_calc.set_calculator(Gaussian(label='oniom_analysis_{m}'.format(m=meth.replace('/', '_')), method='oniom(B3LYP/6-31G(d):{m})'.format(m=meth), basis='oniom', freq='freq', symmetry='None', ioplist = ['7/123=1']))\n",
      "    test_calc_H = ylide_atoms + graph_atoms[3]\n",
      "    test_calc.calc.coord_params['layers'] = [[no -1 for no in test_calc_H]]\n",
      "    test_calc.calc.coord_params['layer_mults'] = [1,1]\n",
      "    test_calc.calc.set_job(nodes=12, memory=12*3000, time=24, version='gdv')\n",
      "    #test_calc.get_potential_energy()\n",
      "    calcs.append(test_calc)"
     ],
     "language": "python",
     "metadata": {},
     "outputs": [],
     "prompt_number": 6
    },
    {
     "cell_type": "code",
     "collapsed": false,
     "input": [
      "check_calcs(calcs)\n",
      "mols_to_html(calcs)"
     ],
     "language": "python",
     "metadata": {},
     "outputs": [
      {
       "html": [
        "\n",
        "           <script type=\"text/javascript\">\n",
        "           function view_function (event, file_n) {\n",
        "               if (event.ctrlKey && event.shiftKey){\n",
        "                   IPython.notebook.kernel.execute(\"cc_notebook_utils.pygview('\" + file_n + \".log')\");\n",
        "               }\n",
        "               else if (event.ctrlKey){\n",
        "                   IPython.notebook.kernel.execute(\"cc_notebook_utils.pygausssum('\" + file_n + \".log')\");\n",
        "               }\n",
        "               else if (event.shiftKey){\n",
        "                   IPython.notebook.kernel.execute(\"cc_notebook_utils.pyvogadro('\" + file_n + \".log')\");\n",
        "               }\n",
        "               else IPython.notebook.kernel.execute(\"cc_notebook_utils.pyvim('\" + file_n + \".log')\");\n",
        "           }\n",
        "           </script>\n",
        "    <style>\n",
        "    table\n",
        "    {\n",
        "        border-collapse:collapse;\n",
        "    }\n",
        "    td\n",
        "    {\n",
        "        padding:15px;\n",
        "    }\n",
        "    </style>\n",
        "    <body>\n",
        "    <table bgcolor=\"white\">\n",
        "    <col/><tr><td>oniom_analysis_uff</td><td><a href = \"files/Lee_gaus_test/oniom_analysis_uff.com\" target = \"_blank\">com</a></td><td><input type=\"button\" value=\"Smart Log\" id=\"oniom_analysis_uff\" onclick=\"view_function(event, this.id)\" /></td><td>Success</td></tr><tr><td>oniom_analysis_am1</td><td><a href = \"files/Lee_gaus_test/oniom_analysis_am1.com\" target = \"_blank\">com</a></td><td><input type=\"button\" value=\"Smart Log\" id=\"oniom_analysis_am1\" onclick=\"view_function(event, this.id)\" /></td><td>Success</td></tr><tr><td>oniom_analysis_pm6</td><td><a href = \"files/Lee_gaus_test/oniom_analysis_pm6.com\" target = \"_blank\">com</a></td><td><input type=\"button\" value=\"Smart Log\" id=\"oniom_analysis_pm6\" onclick=\"view_function(event, this.id)\" /></td><td>Success</td></tr><tr><td>oniom_analysis_HF_STO-3G</td><td><a href = \"files/Lee_gaus_test/oniom_analysis_HF_STO-3G.com\" target = \"_blank\">com</a></td><td><input type=\"button\" value=\"Smart Log\" id=\"oniom_analysis_HF_STO-3G\" onclick=\"view_function(event, this.id)\" /></td><td>Success</td></tr>\n",
        "    </table>\n",
        "    </body>"
       ],
       "output_type": "pyout",
       "prompt_number": 7,
       "text": [
        "<IPython.core.display.HTML at 0x29891d0>"
       ]
      }
     ],
     "prompt_number": 7
    },
    {
     "cell_type": "code",
     "collapsed": false,
     "input": [
      "view_ipython_jmol(files=[calc.calc.label +'.log' for calc in calcs],label=False, vib=1)"
     ],
     "language": "python",
     "metadata": {},
     "outputs": [
      {
       "html": [
        "\n",
        "    <iframe\n",
        "      width=\"400\"\n",
        "      height=\"1050\"\n",
        "      src=/files/jmol/ase-VfBuvT.html\n",
        "      frameborder=\"0\"\n",
        "      allowfullscreen\n",
        "    ></iframe>"
       ],
       "output_type": "pyout",
       "prompt_number": 8,
       "text": [
        "<IPython.core.display.HTML at 0x2989850>"
       ]
      }
     ],
     "prompt_number": 8
    },
    {
     "cell_type": "code",
     "collapsed": false,
     "input": [
      "calcs[0].calc.max_data['vibdisps'][0]"
     ],
     "language": "python",
     "metadata": {},
     "outputs": [
      {
       "output_type": "pyout",
       "prompt_number": 16,
       "text": [
        "[[0.0, -0.01, 0.0],\n",
        " [0.0, -0.01, 0.0],\n",
        " [0.0, 0.0, 0.0],\n",
        " [0.0, 0.0, 0.0],\n",
        " [0.0, -0.01, 0.0],\n",
        " [0.0, -0.01, 0.0],\n",
        " [0.0, 0.0, 0.0],\n",
        " [0.0, 0.0, 0.0],\n",
        " [0.0, 0.0, 0.0],\n",
        " [0.0, -0.01, 0.0],\n",
        " [0.01, -0.01, 0.0],\n",
        " [0.01, 0.03, -0.01],\n",
        " [0.0, 0.0, 0.0],\n",
        " [0.0, 0.0, 0.0],\n",
        " [0.01, 0.03, 0.02],\n",
        " [0.01, -0.01, 0.0],\n",
        " [0.0, -0.01, 0.0],\n",
        " [0.0, 0.0, 0.0],\n",
        " [0.0, 0.0, 0.0],\n",
        " [0.0, 0.0, 0.0],\n",
        " [0.0, 0.0, 0.0],\n",
        " [0.0, 0.0, 0.0],\n",
        " [0.0, 0.0, 0.0],\n",
        " [0.0, 0.0, 0.01],\n",
        " [0.0, 0.01, -0.01],\n",
        " [0.0, 0.0, 0.0],\n",
        " [-0.01, 0.03, -0.02],\n",
        " [-0.02, 0.42, -0.08],\n",
        " [-0.02, 0.42, 0.1],\n",
        " [-0.01, 0.03, 0.02],\n",
        " [0.0, 0.0, 0.0],\n",
        " [0.0, 0.01, 0.01],\n",
        " [0.0, 0.0, -0.01],\n",
        " [0.0, 0.0, 0.0],\n",
        " [0.0, 0.0, 0.0],\n",
        " [0.0, 0.0, 0.0],\n",
        " [0.0, 0.0, 0.0],\n",
        " [0.0, -0.01, 0.0],\n",
        " [0.0, -0.01, 0.0],\n",
        " [0.0, -0.01, 0.0],\n",
        " [0.01, 0.0, -0.01],\n",
        " [0.01, 0.0, 0.01],\n",
        " [0.0, -0.01, 0.0],\n",
        " [0.0, -0.01, 0.0],\n",
        " [0.0, -0.01, 0.0],\n",
        " [0.0, 0.0, 0.0],\n",
        " [0.0, 0.0, 0.0],\n",
        " [0.0, 0.0, 0.0],\n",
        " [0.0, 0.0, 0.0],\n",
        " [0.0, 0.0, 0.0],\n",
        " [0.0, 0.0, 0.0],\n",
        " [0.0, 0.0, 0.0],\n",
        " [0.0, 0.0, 0.0],\n",
        " [0.0, 0.0, 0.0],\n",
        " [0.0, 0.0, 0.0],\n",
        " [0.0, 0.0, 0.0],\n",
        " [0.0, 0.0, 0.0],\n",
        " [0.0, 0.0, 0.0],\n",
        " [0.0, 0.0, 0.0],\n",
        " [0.0, 0.0, 0.0],\n",
        " [0.0, 0.0, 0.0],\n",
        " [0.0, 0.0, 0.0],\n",
        " [0.0, 0.0, 0.0],\n",
        " [0.0, 0.0, 0.0],\n",
        " [0.0, 0.0, 0.0],\n",
        " [0.0, 0.0, 0.0],\n",
        " [0.01, -0.41, -0.07],\n",
        " [0.01, -0.41, 0.06],\n",
        " [0.02, 0.02, 0.0],\n",
        " [0.0, -0.02, -0.02],\n",
        " [-0.07, -0.36, -0.01],\n",
        " [-0.07, -0.36, 0.0],\n",
        " [0.0, -0.02, 0.02]]"
       ]
      }
     ],
     "prompt_number": 16
    }
   ],
   "metadata": {}
  }
 ]
}