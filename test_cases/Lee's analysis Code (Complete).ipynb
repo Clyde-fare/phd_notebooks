{
 "cells": [
  {
   "cell_type": "markdown",
   "metadata": {},
   "source": [
    "##Testing a calculation that makes use of Lee's [oniom frequency analysis code](http://pubs.acs.org/doi/full/10.1021/ct300612m)"
   ]
  },
  {
   "cell_type": "markdown",
   "metadata": {},
   "source": [
    "Location of example test jobs: home/gaussian-devel/gaussiandvh13_pgi_118/lee_devel/SANDBOX/local-tests/onion-onifrq\n",
    "\n",
    "When running we need to include __nosymm__ or __symmetry=None__ and __iop 7/123=1__ in the input file and have run: **module use /home/gaussian-devel/moremodules** and **module load gaussian-a7f8ac5c6a00** on the server"
   ]
  },
  {
   "cell_type": "code",
   "execution_count": 1,
   "metadata": {
    "collapsed": false
   },
   "outputs": [
    {
     "name": "stderr",
     "output_type": "stream",
     "text": [
      "WARNING:root:libint extension not found, switching to normal ERI computation\n"
     ]
    },
    {
     "data": {
      "application/javascript": [
       "\n",
       "require(['nbextensions/cc_notebook'])\n",
       "require(['nbextensions/jsmol/JSmol.min.nojq'])\n"
      ],
      "text/plain": [
       "<IPython.core.display.Javascript object>"
      ]
     },
     "metadata": {},
     "output_type": "display_data"
    }
   ],
   "source": [
    "import pandas, os\n",
    "import numpy as np\n",
    "from webbrowser import open as open_log\n",
    "from math import pi\n",
    "from IPython.core.display import HTML, Image\n",
    "from ase.io import read, write\n",
    "from gausspy import Gaussian\n",
    "from glob import glob\n",
    "from ase_extensions.ase_utils import *\n",
    "from cc_notebook import *"
   ]
  },
  {
   "cell_type": "code",
   "execution_count": 2,
   "metadata": {
    "collapsed": false
   },
   "outputs": [
    {
     "name": "stdout",
     "output_type": "stream",
     "text": [
      "/home/clyde/Dropbox/Project Stuff/Notebooks/test_cases/Lee_gaus_test\n"
     ]
    }
   ],
   "source": [
    "cd Lee_gaus_test"
   ]
  },
  {
   "cell_type": "code",
   "execution_count": 23,
   "metadata": {
    "collapsed": false
   },
   "outputs": [],
   "source": [
    "ylide_atoms = [67,68,69,70,71,72,73]\n",
    "graph_atoms = {}\n",
    "graph_atoms.update({0:[28,29]}) #2 C atoms\n",
    "graph_atoms.update({1:graph_atoms[0] + [12,13,14,15,27,41,42,30]}) #10 C atoms\n",
    "graph_atoms.update({2:graph_atoms[1] + [11,25,26,16,32,31]}) #16 C atoms\n",
    "graph_atoms.update({3:graph_atoms[2] + [24,33]})#18 C atoms\n",
    "graph_atoms.update({4:graph_atoms[2] + [38,39,52,40,47,55,48,56,43,44,53,45,17,6,60,5,4,59,3,58,2,1,57,10]}) # 42 C atoms (total molecule = 50 C atoms)\n",
    "\n",
    "l_methods = ['uff','am1','pm6','HF/STO-3G']"
   ]
  },
  {
   "cell_type": "code",
   "execution_count": 30,
   "metadata": {
    "collapsed": true
   },
   "outputs": [],
   "source": [
    "test_calc = read('../../graphene_cycloadditions/cycloadd_oniom/o3_pm6_o3_pm6_4_4_cent_carbonyl_ts_restart_1.log')\n",
    "test_calc.set_calculator(Gaussian(label='test_oniom_analysis', method='oniom(B3LYP/6-31G(d):pm6)', basis='oniom', freq='freq', symmetry='None', ioplist = ['7/123=1']))\n",
    "test_calc_H = ylide_atoms + graph_atoms[3]\n",
    "test_calc.calc.oniom_coord_params['layers'] = [[no -1 for no in test_calc_H]]\n",
    "test_calc.calc.oniom_coord_params['layer_mults'] = [1,1]\n",
    "test_calc.calc.set_job(nodes=12, memory=12*3000, time=24, version='gdv_latest')\n",
    "#test_calc.get_potential_energy()"
   ]
  },
  {
   "cell_type": "code",
   "execution_count": 33,
   "metadata": {
    "collapsed": false
   },
   "outputs": [
    {
     "data": {
      "text/plain": [
       "1"
      ]
     },
     "execution_count": 33,
     "metadata": {},
     "output_type": "execute_result"
    }
   ],
   "source": [
    "len(test_calc.calc.oniom_coord_params['layers'])"
   ]
  },
  {
   "cell_type": "code",
   "execution_count": 8,
   "metadata": {
    "collapsed": false
   },
   "outputs": [
    {
     "data": {
      "text/html": [
       "\n",
       "    <style>\n",
       "    table\n",
       "    {\n",
       "        border-collapse:collapse;\n",
       "    }\n",
       "    td\n",
       "    {\n",
       "        padding:15px;\n",
       "    }\n",
       "    </style>\n",
       "    <body>\n",
       "    <table bgcolor=\"white\">\n",
       "    <col/><tr><td>test_oniom_analysis</td><td><input type=\"button\" value=\"Smart Log\" id=\"test_oniom_analysis\" onclick=\"IPython.cc_notebook.view_function(event, this.id)\" /></td><td>Success</td></tr>\n",
       "    </table>\n",
       "    </body>"
      ],
      "text/plain": [
       "<IPython.core.display.HTML object>"
      ]
     },
     "execution_count": 8,
     "metadata": {},
     "output_type": "execute_result"
    }
   ],
   "source": [
    "mols_to_html([test_calc])"
   ]
  },
  {
   "cell_type": "code",
   "execution_count": 20,
   "metadata": {
    "collapsed": false
   },
   "outputs": [
    {
     "name": "stdout",
     "output_type": "stream",
     "text": [
      "True\n"
     ]
    }
   ],
   "source": [
    "with open(test_calc.calc.log) as log_f:\n",
    "    print('ONIOM FREQUENCY ANALYSIS' in log_f.read())"
   ]
  },
  {
   "cell_type": "code",
   "execution_count": 9,
   "metadata": {
    "collapsed": false
   },
   "outputs": [
    {
     "data": {
      "text/plain": [
       "-283956.08535009006"
      ]
     },
     "execution_count": 9,
     "metadata": {},
     "output_type": "execute_result"
    }
   ],
   "source": [
    "-(532.8753)**2"
   ]
  },
  {
   "cell_type": "code",
   "execution_count": 10,
   "metadata": {
    "collapsed": false
   },
   "outputs": [
    {
     "data": {
      "text/plain": [
       "-283956.03358328994"
      ]
     },
     "execution_count": 10,
     "metadata": {},
     "output_type": "execute_result"
    }
   ],
   "source": [
    "-(631.3013)**2 -  -(460.7563)**2 +  -(312.5877)**2"
   ]
  },
  {
   "cell_type": "code",
   "execution_count": 11,
   "metadata": {
    "collapsed": false
   },
   "outputs": [
    {
     "data": {
      "text/plain": [
       "298338.48189369"
      ]
     },
     "execution_count": 11,
     "metadata": {},
     "output_type": "execute_result"
    }
   ],
   "source": [
    " 546.2037**2"
   ]
  },
  {
   "cell_type": "code",
   "execution_count": 12,
   "metadata": {
    "collapsed": false
   },
   "outputs": [
    {
     "data": {
      "text/plain": [
       "298338.42433972"
      ]
     },
     "execution_count": 12,
     "metadata": {},
     "output_type": "execute_result"
    }
   ],
   "source": [
    "301.5052**2  -  308.0256**2 +    549.8298**2\n"
   ]
  },
  {
   "cell_type": "code",
   "execution_count": 13,
   "metadata": {
    "collapsed": false
   },
   "outputs": [],
   "source": [
    "calcs = []\n",
    "for meth in l_methods:\n",
    "    test_calc = read('../../graphene_cycloadditions/cycloadd_oniom/o3_pm6_o3_pm6_4_4_cent_carbonyl_ts_restart_1.log')\n",
    "    test_calc.set_calculator(Gaussian(label='oniom_analysis_{m}'.format(m=meth.replace('/', '_')), method='oniom(B3LYP/6-31G(d):{m})'.format(m=meth), basis='oniom', freq='freq', symmetry='None', ioplist = ['7/123=1']))\n",
    "    test_calc_H = ylide_atoms + graph_atoms[3]\n",
    "    test_calc.calc.oniom_coord_params['layers'] = [[no -1 for no in test_calc_H]]\n",
    "    test_calc.calc.oniom_coord_params['layer_mults'] = [1,1]\n",
    "    test_calc.calc.set_job(nodes=12, memory=12*3000, time=24, version='gdv')\n",
    "    #test_calc.get_potential_energy()\n",
    "    calcs.append(test_calc)"
   ]
  },
  {
   "cell_type": "code",
   "execution_count": 14,
   "metadata": {
    "collapsed": false
   },
   "outputs": [
    {
     "data": {
      "text/html": [
       "\n",
       "    <style>\n",
       "    table\n",
       "    {\n",
       "        border-collapse:collapse;\n",
       "    }\n",
       "    td\n",
       "    {\n",
       "        padding:15px;\n",
       "    }\n",
       "    </style>\n",
       "    <body>\n",
       "    <table bgcolor=\"white\">\n",
       "    <col/><tr><td>oniom_analysis_uff</td><td><input type=\"button\" value=\"Smart Log\" id=\"oniom_analysis_uff\" onclick=\"IPython.cc_notebook.view_function(event, this.id)\" /></td><td>Success</td></tr><tr><td>oniom_analysis_am1</td><td><input type=\"button\" value=\"Smart Log\" id=\"oniom_analysis_am1\" onclick=\"IPython.cc_notebook.view_function(event, this.id)\" /></td><td>Success</td></tr><tr><td>oniom_analysis_pm6</td><td><input type=\"button\" value=\"Smart Log\" id=\"oniom_analysis_pm6\" onclick=\"IPython.cc_notebook.view_function(event, this.id)\" /></td><td>Success</td></tr><tr><td>oniom_analysis_HF_STO-3G</td><td><input type=\"button\" value=\"Smart Log\" id=\"oniom_analysis_HF_STO-3G\" onclick=\"IPython.cc_notebook.view_function(event, this.id)\" /></td><td>Success</td></tr>\n",
       "    </table>\n",
       "    </body>"
      ],
      "text/plain": [
       "<IPython.core.display.HTML object>"
      ]
     },
     "execution_count": 14,
     "metadata": {},
     "output_type": "execute_result"
    }
   ],
   "source": [
    "check_calcs(calcs)\n",
    "mols_to_html(calcs)"
   ]
  },
  {
   "cell_type": "code",
   "execution_count": 21,
   "metadata": {
    "collapsed": false
   },
   "outputs": [
    {
     "data": {
      "text/html": [
       "<div style=float:left><div id='applet_div_id_9278185415559'></div></div>\n",
       "<script type=\"text/Javascript\">//initialisation\n",
       "    var Info = {\n",
       "        color: \"#FFFFFF\",\n",
       "        width: 300,\n",
       "        height: 300,\n",
       "        serverURL: \"/nbextensions/jsmol/jsmol.php \",\n",
       "        use: \"HTML5\",\n",
       "        j2sPath: \"/nbextensions/jsmol/j2s\",\n",
       "        console: \"jmolApplet0_infodiv\"\n",
       "    }\n",
       "    //prevent applet from immediately generating html - allows us to place the applet in the div we wish\n",
       "    Jmol.setDocument(0)\n",
       "    //start applet\n",
       "    applet_id_9278185415559 = Jmol.getApplet(\"applet_id_9278185415559\", Info)\n",
       "    //insert applet html into applet_div_id_9278185415559\n",
       "    $(\"#applet_div_id_9278185415559\").html(Jmol.getAppletHtml(applet_id_9278185415559))\n",
       "    //execute scripts\n",
       "    Jmol.script(applet_id_9278185415559,\"load Lee_gaus_test/oniom_analysis_uff.log; select all;  vectors on; color vectors yellow; move 10 -20 10 0 0 0 0 0 1; delay 1; vibration on; frame 51;set echo echoname 50% 90%; font echo 15; echo oniom_analysis_uff;; set frank off; sync . SLAVE;\")</script>"
      ],
      "text/plain": [
       "<IPython.core.display.HTML at 0x7f34fd9786d0>"
      ]
     },
     "execution_count": 21,
     "metadata": {},
     "output_type": "execute_result"
    }
   ],
   "source": [
    "view_ipython_jmol(files=[calcs[0].calc.label +'.log'],label=False, vib=50)"
   ]
  },
  {
   "cell_type": "code",
   "execution_count": 16,
   "metadata": {
    "collapsed": false
   },
   "outputs": [
    {
     "data": {
      "text/plain": [
       "[[0.0, -0.01, 0.0],\n",
       " [0.0, -0.01, 0.0],\n",
       " [0.0, 0.0, 0.0],\n",
       " [0.0, 0.0, 0.0],\n",
       " [0.0, -0.01, 0.0],\n",
       " [0.0, -0.01, 0.0],\n",
       " [0.0, 0.0, 0.0],\n",
       " [0.0, 0.0, 0.0],\n",
       " [0.0, 0.0, 0.0],\n",
       " [0.0, -0.01, 0.0],\n",
       " [0.01, -0.01, 0.0],\n",
       " [0.01, 0.03, -0.01],\n",
       " [0.0, 0.0, 0.0],\n",
       " [0.0, 0.0, 0.0],\n",
       " [0.01, 0.03, 0.02],\n",
       " [0.01, -0.01, 0.0],\n",
       " [0.0, -0.01, 0.0],\n",
       " [0.0, 0.0, 0.0],\n",
       " [0.0, 0.0, 0.0],\n",
       " [0.0, 0.0, 0.0],\n",
       " [0.0, 0.0, 0.0],\n",
       " [0.0, 0.0, 0.0],\n",
       " [0.0, 0.0, 0.0],\n",
       " [0.0, 0.0, 0.01],\n",
       " [0.0, 0.01, -0.01],\n",
       " [0.0, 0.0, 0.0],\n",
       " [-0.01, 0.03, -0.02],\n",
       " [-0.02, 0.42, -0.08],\n",
       " [-0.02, 0.42, 0.1],\n",
       " [-0.01, 0.03, 0.02],\n",
       " [0.0, 0.0, 0.0],\n",
       " [0.0, 0.01, 0.01],\n",
       " [0.0, 0.0, -0.01],\n",
       " [0.0, 0.0, 0.0],\n",
       " [0.0, 0.0, 0.0],\n",
       " [0.0, 0.0, 0.0],\n",
       " [0.0, 0.0, 0.0],\n",
       " [0.0, -0.01, 0.0],\n",
       " [0.0, -0.01, 0.0],\n",
       " [0.0, -0.01, 0.0],\n",
       " [0.01, 0.0, -0.01],\n",
       " [0.01, 0.0, 0.01],\n",
       " [0.0, -0.01, 0.0],\n",
       " [0.0, -0.01, 0.0],\n",
       " [0.0, -0.01, 0.0],\n",
       " [0.0, 0.0, 0.0],\n",
       " [0.0, 0.0, 0.0],\n",
       " [0.0, 0.0, 0.0],\n",
       " [0.0, 0.0, 0.0],\n",
       " [0.0, 0.0, 0.0],\n",
       " [0.0, 0.0, 0.0],\n",
       " [0.0, 0.0, 0.0],\n",
       " [0.0, 0.0, 0.0],\n",
       " [0.0, 0.0, 0.0],\n",
       " [0.0, 0.0, 0.0],\n",
       " [0.0, 0.0, 0.0],\n",
       " [0.0, 0.0, 0.0],\n",
       " [0.0, 0.0, 0.0],\n",
       " [0.0, 0.0, 0.0],\n",
       " [0.0, 0.0, 0.0],\n",
       " [0.0, 0.0, 0.0],\n",
       " [0.0, 0.0, 0.0],\n",
       " [0.0, 0.0, 0.0],\n",
       " [0.0, 0.0, 0.0],\n",
       " [0.0, 0.0, 0.0],\n",
       " [0.0, 0.0, 0.0],\n",
       " [0.01, -0.41, -0.07],\n",
       " [0.01, -0.41, 0.06],\n",
       " [0.02, 0.02, 0.0],\n",
       " [0.0, -0.02, -0.02],\n",
       " [-0.07, -0.36, -0.01],\n",
       " [-0.07, -0.36, 0.0],\n",
       " [0.0, -0.02, 0.02]]"
      ]
     },
     "execution_count": 16,
     "metadata": {},
     "output_type": "execute_result"
    }
   ],
   "source": [
    "calcs[0].calc.max_data['vibdisps'][0]"
   ]
  },
  {
   "cell_type": "code",
   "execution_count": 24,
   "metadata": {
    "collapsed": false
   },
   "outputs": [],
   "source": [
    "from ase.data.molecules import molecule\n",
    "\n",
    "w=molecule('H2O')\n",
    "w.set_calculator(Gaussian(label='test_o_analysis_water', method='oniom(pm6:am1)', basis='oniom', opt='opt'))\n",
    "w.calc.oniom_coord_params['layers'] = [[0]]\n",
    "w.calc.oniom_coord_params['layer_mults'] = [1,1]\n",
    "w.calc.set_job(nodes=1, memory=400, time=1, version='gdv-923d6c51169a', queue='pqmb')\n",
    "w.calc.restart(opt='', freq='freq', symmetry='None', ioplist = ['7/123=1'])\n",
    "w.calc.start(frc=True)"
   ]
  },
  {
   "cell_type": "code",
   "execution_count": 26,
   "metadata": {
    "collapsed": false
   },
   "outputs": [
    {
     "data": {
      "text/html": [
       "\n",
       "    <style>\n",
       "    table\n",
       "    {\n",
       "        border-collapse:collapse;\n",
       "    }\n",
       "    td\n",
       "    {\n",
       "        padding:15px;\n",
       "    }\n",
       "    </style>\n",
       "    <body>\n",
       "    <table bgcolor=\"white\">\n",
       "    <col/><tr><td>test_o_analysis_water_restart_1</td><td><input type=\"button\" value=\"Smart Log\" id=\"test_o_analysis_water_restart_1\" onclick=\"IPython.cc_notebook.view_function(event, this.id)\" /></td><td>Success</td></tr>\n",
       "    </table>\n",
       "    </body>"
      ],
      "text/plain": [
       "<IPython.core.display.HTML object>"
      ]
     },
     "execution_count": 26,
     "metadata": {},
     "output_type": "execute_result"
    }
   ],
   "source": [
    "check_calcs([w],frc=True)\n",
    "mols_to_html([w])"
   ]
  },
  {
   "cell_type": "code",
   "execution_count": 27,
   "metadata": {
    "collapsed": false
   },
   "outputs": [
    {
     "name": "stdout",
     "output_type": "stream",
     "text": [
      "True\n"
     ]
    }
   ],
   "source": [
    "with open(w.calc.log) as log_f:\n",
    "    print('ONIOM FREQUENCY ANALYSIS' in log_f.read())"
   ]
  },
  {
   "cell_type": "code",
   "execution_count": null,
   "metadata": {
    "collapsed": true
   },
   "outputs": [],
   "source": []
  }
 ],
 "metadata": {
  "kernelspec": {
   "display_name": "Python 2",
   "language": "python",
   "name": "python2"
  },
  "language_info": {
   "codemirror_mode": {
    "name": "ipython",
    "version": 2
   },
   "file_extension": ".py",
   "mimetype": "text/x-python",
   "name": "python",
   "nbconvert_exporter": "python",
   "pygments_lexer": "ipython2",
   "version": "2.7.11"
  }
 },
 "nbformat": 4,
 "nbformat_minor": 0
}
