{
 "cells": [
  {
   "cell_type": "code",
   "execution_count": 1,
   "metadata": {
    "collapsed": false
   },
   "outputs": [
    {
     "name": "stderr",
     "output_type": "stream",
     "text": [
      "/home/clyde/anaconda/envs/biotools/lib/python2.7/site-packages/IPython/nbformat.py:13: ShimWarning: The `IPython.nbformat` package has been deprecated. You should import from nbformat instead.\n",
      "  \"You should import from nbformat instead.\", ShimWarning)\n",
      "/home/clyde/anaconda/envs/biotools/lib/python2.7/site-packages/IPython/html.py:14: ShimWarning: The `IPython.html` package has been deprecated. You should import from `notebook` instead. `IPython.html.widgets` has moved to `ipywidgets`.\n",
      "  \"`IPython.html.widgets` has moved to `ipywidgets`.\", ShimWarning)\n"
     ]
    },
    {
     "data": {
      "application/javascript": [
       "\n",
       "require(['nbextensions/cc_notebook'])\n",
       "require(['nbextensions/jsmol/JSmol.min.nojq'])\n"
      ],
      "text/plain": [
       "<IPython.core.display.Javascript object>"
      ]
     },
     "metadata": {},
     "output_type": "display_data"
    }
   ],
   "source": [
    "from ase.structure import molecule\n",
    "from gausspy import Gaussian\n",
    "from ml_utils import generate_solvated_ensemble   \n",
    "from cc_notebook import *"
   ]
  },
  {
   "cell_type": "code",
   "execution_count": 2,
   "metadata": {
    "collapsed": false
   },
   "outputs": [
    {
     "name": "stdout",
     "output_type": "stream",
     "text": [
      "/home/clyde/Dropbox/Project Stuff/Notebooks/test_cases/global_opt\n"
     ]
    }
   ],
   "source": [
    "cd global_opt/"
   ]
  },
  {
   "cell_type": "code",
   "execution_count": 7,
   "metadata": {
    "collapsed": true
   },
   "outputs": [],
   "source": [
    "from ase.calculators.tip3p import TIP3P\n",
    "\n",
    "\n",
    "test_mol = molecule('H2O')\n",
    "n_solvent=4\n",
    "    \n",
    "ensemble = generate_solvated_ensemble(test_mol, 'H2O', test_mol, \n",
    "                                      'H2O', n_solvent=n_solvent, ensemble_size=1)\n",
    "test_ensemble = ensemble.next()\n",
    "#test_ensemble.set_calculator(Gaussian(label='test_ensemble',method='UFF'))\n",
    "test_ensemble.set_calculator(TIP3P())"
   ]
  },
  {
   "cell_type": "code",
   "execution_count": 5,
   "metadata": {
    "collapsed": false
   },
   "outputs": [
    {
     "data": {
      "text/html": [
       "<div style=float:left><div id='applet_div_id_5220484266158'></div></div>\n",
       "<script type=\"text/Javascript\">//initialisation\n",
       "    var Info = {\n",
       "        color: \"#FFFFFF\",\n",
       "        width: 300,\n",
       "        height: 300,\n",
       "        serverURL: \"/nbextensions/jsmol/jsmol.php \",\n",
       "        use: \"HTML5\",\n",
       "        j2sPath: \"/nbextensions/jsmol/j2s\",\n",
       "        console: \"jmolApplet0_infodiv\"\n",
       "    }\n",
       "    //prevent applet from immediately generating html - allows us to place the applet in the div we wish\n",
       "    Jmol.setDocument(0)\n",
       "    //start applet\n",
       "    applet_id_5220484266158 = Jmol.getApplet(\"applet_id_5220484266158\", Info)\n",
       "    //insert applet html into applet_div_id_5220484266158\n",
       "    $(\"#applet_div_id_5220484266158\").html(Jmol.getAppletHtml(applet_id_5220484266158))\n",
       "    //execute scripts\n",
       "    Jmol.script(applet_id_5220484266158,\"load temp_atoms_0.xyz; select all; set echo echoname 50% 90%; font echo 15; echo temp_atoms_0;; set frank off; sync . SLAVE;\")</script>"
      ],
      "text/plain": [
       "<IPython.core.display.HTML object>"
      ]
     },
     "execution_count": 5,
     "metadata": {},
     "output_type": "execute_result"
    }
   ],
   "source": [
    "view_ipython_jmol(test_ensemble)"
   ]
  },
  {
   "cell_type": "code",
   "execution_count": 8,
   "metadata": {
    "collapsed": false
   },
   "outputs": [
    {
     "ename": "AssertionError",
     "evalue": "",
     "output_type": "error",
     "traceback": [
      "\u001b[1;31m---------------------------------------------------------------------------\u001b[0m",
      "\u001b[1;31mAssertionError\u001b[0m                            Traceback (most recent call last)",
      "\u001b[1;32m<ipython-input-8-9d859d06a3e3>\u001b[0m in \u001b[0;36m<module>\u001b[1;34m()\u001b[0m\n\u001b[0;32m      7\u001b[0m                   \u001b[0mdr\u001b[0m\u001b[1;33m=\u001b[0m\u001b[1;36m0.5\u001b[0m\u001b[1;33m,\u001b[0m               \u001b[1;31m# maximal stepwidth\u001b[0m\u001b[1;33m\u001b[0m\u001b[0m\n\u001b[0;32m      8\u001b[0m                   \u001b[0moptimizer\u001b[0m\u001b[1;33m=\u001b[0m\u001b[0mLBFGS\u001b[0m\u001b[1;33m,\u001b[0m      \u001b[1;31m# optimizer to find local minima\u001b[0m\u001b[1;33m\u001b[0m\u001b[0m\n\u001b[1;32m----> 9\u001b[1;33m                   \u001b[0mfmax\u001b[0m\u001b[1;33m=\u001b[0m\u001b[1;36m0.1\u001b[0m\u001b[1;33m,\u001b[0m             \u001b[1;31m# maximal force for the optimizer\u001b[0m\u001b[1;33m\u001b[0m\u001b[0m\n\u001b[0m\u001b[0;32m     10\u001b[0m                   )\n",
      "\u001b[1;32m/home/clyde/anaconda/envs/biotools/lib/python2.7/site-packages/ase/optimize/basin.pyc\u001b[0m in \u001b[0;36m__init__\u001b[1;34m(self, atoms, temperature, optimizer, fmax, dr, logfile, trajectory, optimizer_logfile, local_minima_trajectory, adjust_cm)\u001b[0m\n\u001b[0;32m     44\u001b[0m                                                   'w', atoms)\n\u001b[0;32m     45\u001b[0m \u001b[1;33m\u001b[0m\u001b[0m\n\u001b[1;32m---> 46\u001b[1;33m         \u001b[0mself\u001b[0m\u001b[1;33m.\u001b[0m\u001b[0minitialize\u001b[0m\u001b[1;33m(\u001b[0m\u001b[1;33m)\u001b[0m\u001b[1;33m\u001b[0m\u001b[0m\n\u001b[0m\u001b[0;32m     47\u001b[0m \u001b[1;33m\u001b[0m\u001b[0m\n\u001b[0;32m     48\u001b[0m     \u001b[1;32mdef\u001b[0m \u001b[0minitialize\u001b[0m\u001b[1;33m(\u001b[0m\u001b[0mself\u001b[0m\u001b[1;33m)\u001b[0m\u001b[1;33m:\u001b[0m\u001b[1;33m\u001b[0m\u001b[0m\n",
      "\u001b[1;32m/home/clyde/anaconda/envs/biotools/lib/python2.7/site-packages/ase/optimize/basin.pyc\u001b[0m in \u001b[0;36minitialize\u001b[1;34m(self)\u001b[0m\n\u001b[0;32m     51\u001b[0m         \u001b[0mself\u001b[0m\u001b[1;33m.\u001b[0m\u001b[0mrmin\u001b[0m \u001b[1;33m=\u001b[0m \u001b[0mself\u001b[0m\u001b[1;33m.\u001b[0m\u001b[0matoms\u001b[0m\u001b[1;33m.\u001b[0m\u001b[0mget_positions\u001b[0m\u001b[1;33m(\u001b[0m\u001b[1;33m)\u001b[0m\u001b[1;33m\u001b[0m\u001b[0m\n\u001b[0;32m     52\u001b[0m         \u001b[0mself\u001b[0m\u001b[1;33m.\u001b[0m\u001b[0mpositions\u001b[0m \u001b[1;33m=\u001b[0m \u001b[0mself\u001b[0m\u001b[1;33m.\u001b[0m\u001b[0matoms\u001b[0m\u001b[1;33m.\u001b[0m\u001b[0mget_positions\u001b[0m\u001b[1;33m(\u001b[0m\u001b[1;33m)\u001b[0m\u001b[1;33m\u001b[0m\u001b[0m\n\u001b[1;32m---> 53\u001b[1;33m         \u001b[0mself\u001b[0m\u001b[1;33m.\u001b[0m\u001b[0mcall_observers\u001b[0m\u001b[1;33m(\u001b[0m\u001b[1;33m)\u001b[0m\u001b[1;33m\u001b[0m\u001b[0m\n\u001b[0m\u001b[0;32m     54\u001b[0m         \u001b[0mself\u001b[0m\u001b[1;33m.\u001b[0m\u001b[0mlog\u001b[0m\u001b[1;33m(\u001b[0m\u001b[1;33m-\u001b[0m\u001b[1;36m1\u001b[0m\u001b[1;33m,\u001b[0m \u001b[0mself\u001b[0m\u001b[1;33m.\u001b[0m\u001b[0mEmin\u001b[0m\u001b[1;33m,\u001b[0m \u001b[0mself\u001b[0m\u001b[1;33m.\u001b[0m\u001b[0mEmin\u001b[0m\u001b[1;33m)\u001b[0m\u001b[1;33m\u001b[0m\u001b[0m\n\u001b[0;32m     55\u001b[0m \u001b[1;33m\u001b[0m\u001b[0m\n",
      "\u001b[1;32m/home/clyde/anaconda/envs/biotools/lib/python2.7/site-packages/ase/optimize/optimize.pyc\u001b[0m in \u001b[0;36mcall_observers\u001b[1;34m(self)\u001b[0m\n\u001b[0;32m     71\u001b[0m         \u001b[1;32mfor\u001b[0m \u001b[0mfunction\u001b[0m\u001b[1;33m,\u001b[0m \u001b[0minterval\u001b[0m\u001b[1;33m,\u001b[0m \u001b[0margs\u001b[0m\u001b[1;33m,\u001b[0m \u001b[0mkwargs\u001b[0m \u001b[1;32min\u001b[0m \u001b[0mself\u001b[0m\u001b[1;33m.\u001b[0m\u001b[0mobservers\u001b[0m\u001b[1;33m:\u001b[0m\u001b[1;33m\u001b[0m\u001b[0m\n\u001b[0;32m     72\u001b[0m             \u001b[1;32mif\u001b[0m \u001b[0mself\u001b[0m\u001b[1;33m.\u001b[0m\u001b[0mnsteps\u001b[0m \u001b[1;33m%\u001b[0m \u001b[0minterval\u001b[0m \u001b[1;33m==\u001b[0m \u001b[1;36m0\u001b[0m\u001b[1;33m:\u001b[0m\u001b[1;33m\u001b[0m\u001b[0m\n\u001b[1;32m---> 73\u001b[1;33m                 \u001b[0mfunction\u001b[0m\u001b[1;33m(\u001b[0m\u001b[1;33m*\u001b[0m\u001b[0margs\u001b[0m\u001b[1;33m,\u001b[0m \u001b[1;33m**\u001b[0m\u001b[0mkwargs\u001b[0m\u001b[1;33m)\u001b[0m\u001b[1;33m\u001b[0m\u001b[0m\n\u001b[0m\u001b[0;32m     74\u001b[0m \u001b[1;33m\u001b[0m\u001b[0m\n\u001b[0;32m     75\u001b[0m \u001b[1;33m\u001b[0m\u001b[0m\n",
      "\u001b[1;32m/home/clyde/anaconda/envs/biotools/lib/python2.7/site-packages/ase/io/trajectory.pyc\u001b[0m in \u001b[0;36mwrite\u001b[1;34m(self, atoms)\u001b[0m\n\u001b[0;32m    196\u001b[0m         \u001b[1;32mif\u001b[0m \u001b[0matoms\u001b[0m\u001b[1;33m.\u001b[0m\u001b[0mget_calculator\u001b[0m\u001b[1;33m(\u001b[0m\u001b[1;33m)\u001b[0m \u001b[1;32mis\u001b[0m \u001b[1;32mnot\u001b[0m \u001b[0mNone\u001b[0m\u001b[1;33m:\u001b[0m\u001b[1;33m\u001b[0m\u001b[0m\n\u001b[0;32m    197\u001b[0m             \u001b[1;32mif\u001b[0m \u001b[0mself\u001b[0m\u001b[1;33m.\u001b[0m\u001b[0mwrite_energy\u001b[0m\u001b[1;33m:\u001b[0m\u001b[1;33m\u001b[0m\u001b[0m\n\u001b[1;32m--> 198\u001b[1;33m                 \u001b[0md\u001b[0m\u001b[1;33m[\u001b[0m\u001b[1;34m'energy'\u001b[0m\u001b[1;33m]\u001b[0m \u001b[1;33m=\u001b[0m \u001b[0matoms\u001b[0m\u001b[1;33m.\u001b[0m\u001b[0mget_potential_energy\u001b[0m\u001b[1;33m(\u001b[0m\u001b[1;33m)\u001b[0m\u001b[1;33m\u001b[0m\u001b[0m\n\u001b[0m\u001b[0;32m    199\u001b[0m             \u001b[1;32mif\u001b[0m \u001b[0mself\u001b[0m\u001b[1;33m.\u001b[0m\u001b[0mwrite_forces\u001b[0m\u001b[1;33m:\u001b[0m\u001b[1;33m\u001b[0m\u001b[0m\n\u001b[0;32m    200\u001b[0m                 \u001b[1;32massert\u001b[0m \u001b[0mself\u001b[0m\u001b[1;33m.\u001b[0m\u001b[0mwrite_energy\u001b[0m\u001b[1;33m\u001b[0m\u001b[0m\n",
      "\u001b[1;32m/home/clyde/anaconda/envs/biotools/lib/python2.7/site-packages/ase/atoms.pyc\u001b[0m in \u001b[0;36mget_potential_energy\u001b[1;34m(self)\u001b[0m\n\u001b[0;32m    641\u001b[0m         \u001b[1;32mif\u001b[0m \u001b[0mself\u001b[0m\u001b[1;33m.\u001b[0m\u001b[0m_calc\u001b[0m \u001b[1;32mis\u001b[0m \u001b[0mNone\u001b[0m\u001b[1;33m:\u001b[0m\u001b[1;33m\u001b[0m\u001b[0m\n\u001b[0;32m    642\u001b[0m             \u001b[1;32mraise\u001b[0m \u001b[0mRuntimeError\u001b[0m\u001b[1;33m(\u001b[0m\u001b[1;34m'Atoms object has no calculator.'\u001b[0m\u001b[1;33m)\u001b[0m\u001b[1;33m\u001b[0m\u001b[0m\n\u001b[1;32m--> 643\u001b[1;33m         \u001b[1;32mreturn\u001b[0m \u001b[0mself\u001b[0m\u001b[1;33m.\u001b[0m\u001b[0m_calc\u001b[0m\u001b[1;33m.\u001b[0m\u001b[0mget_potential_energy\u001b[0m\u001b[1;33m(\u001b[0m\u001b[0mself\u001b[0m\u001b[1;33m)\u001b[0m\u001b[1;33m\u001b[0m\u001b[0m\n\u001b[0m\u001b[0;32m    644\u001b[0m \u001b[1;33m\u001b[0m\u001b[0m\n\u001b[0;32m    645\u001b[0m     \u001b[1;32mdef\u001b[0m \u001b[0mget_potential_energies\u001b[0m\u001b[1;33m(\u001b[0m\u001b[0mself\u001b[0m\u001b[1;33m)\u001b[0m\u001b[1;33m:\u001b[0m\u001b[1;33m\u001b[0m\u001b[0m\n",
      "\u001b[1;32m/home/clyde/anaconda/envs/biotools/lib/python2.7/site-packages/ase/calculators/tip3p.pyc\u001b[0m in \u001b[0;36mget_potential_energy\u001b[1;34m(self, atoms)\u001b[0m\n\u001b[0;32m     48\u001b[0m \u001b[1;33m\u001b[0m\u001b[0m\n\u001b[0;32m     49\u001b[0m     \u001b[1;32mdef\u001b[0m \u001b[0mget_potential_energy\u001b[0m\u001b[1;33m(\u001b[0m\u001b[0mself\u001b[0m\u001b[1;33m,\u001b[0m \u001b[0matoms\u001b[0m\u001b[1;33m)\u001b[0m\u001b[1;33m:\u001b[0m\u001b[1;33m\u001b[0m\u001b[0m\n\u001b[1;32m---> 50\u001b[1;33m         \u001b[0mself\u001b[0m\u001b[1;33m.\u001b[0m\u001b[0mupdate\u001b[0m\u001b[1;33m(\u001b[0m\u001b[0matoms\u001b[0m\u001b[1;33m)\u001b[0m\u001b[1;33m\u001b[0m\u001b[0m\n\u001b[0m\u001b[0;32m     51\u001b[0m         \u001b[1;32mreturn\u001b[0m \u001b[0mself\u001b[0m\u001b[1;33m.\u001b[0m\u001b[0menergy\u001b[0m\u001b[1;33m\u001b[0m\u001b[0m\n\u001b[0;32m     52\u001b[0m \u001b[1;33m\u001b[0m\u001b[0m\n",
      "\u001b[1;32m/home/clyde/anaconda/envs/biotools/lib/python2.7/site-packages/ase/calculators/tip3p.pyc\u001b[0m in \u001b[0;36mupdate\u001b[1;34m(self, atoms)\u001b[0m\n\u001b[0;32m     30\u001b[0m             \u001b[0mlen\u001b[0m\u001b[1;33m(\u001b[0m\u001b[0mself\u001b[0m\u001b[1;33m.\u001b[0m\u001b[0mnumbers\u001b[0m\u001b[1;33m)\u001b[0m \u001b[1;33m!=\u001b[0m \u001b[0mlen\u001b[0m\u001b[1;33m(\u001b[0m\u001b[0matoms\u001b[0m\u001b[1;33m)\u001b[0m \u001b[1;32mor\u001b[0m\u001b[1;33m\u001b[0m\u001b[0m\n\u001b[0;32m     31\u001b[0m             (self.numbers != atoms.get_atomic_numbers()).any()):\n\u001b[1;32m---> 32\u001b[1;33m             \u001b[0mself\u001b[0m\u001b[1;33m.\u001b[0m\u001b[0mcalculate\u001b[0m\u001b[1;33m(\u001b[0m\u001b[0matoms\u001b[0m\u001b[1;33m)\u001b[0m\u001b[1;33m\u001b[0m\u001b[0m\n\u001b[0m\u001b[0;32m     33\u001b[0m         elif ((self.positions != atoms.get_positions()).any() or\n\u001b[0;32m     34\u001b[0m               \u001b[1;33m(\u001b[0m\u001b[0mself\u001b[0m\u001b[1;33m.\u001b[0m\u001b[0mpbc\u001b[0m \u001b[1;33m!=\u001b[0m \u001b[0matoms\u001b[0m\u001b[1;33m.\u001b[0m\u001b[0mget_pbc\u001b[0m\u001b[1;33m(\u001b[0m\u001b[1;33m)\u001b[0m\u001b[1;33m)\u001b[0m\u001b[1;33m.\u001b[0m\u001b[0many\u001b[0m\u001b[1;33m(\u001b[0m\u001b[1;33m)\u001b[0m \u001b[1;32mor\u001b[0m\u001b[1;33m\u001b[0m\u001b[0m\n",
      "\u001b[1;32m/home/clyde/anaconda/envs/biotools/lib/python2.7/site-packages/ase/calculators/tip3p.pyc\u001b[0m in \u001b[0;36mcalculate\u001b[1;34m(self, atoms)\u001b[0m\n\u001b[0;32m     65\u001b[0m         \u001b[0mnH2O\u001b[0m \u001b[1;33m=\u001b[0m \u001b[0mnatoms\u001b[0m \u001b[1;33m//\u001b[0m \u001b[1;36m3\u001b[0m\u001b[1;33m\u001b[0m\u001b[0m\n\u001b[0;32m     66\u001b[0m \u001b[1;33m\u001b[0m\u001b[0m\n\u001b[1;32m---> 67\u001b[1;33m         \u001b[1;32massert\u001b[0m \u001b[0mself\u001b[0m\u001b[1;33m.\u001b[0m\u001b[0mpbc\u001b[0m\u001b[1;33m.\u001b[0m\u001b[0mall\u001b[0m\u001b[1;33m(\u001b[0m\u001b[1;33m)\u001b[0m\u001b[1;33m\u001b[0m\u001b[0m\n\u001b[0m\u001b[0;32m     68\u001b[0m         \u001b[0mC\u001b[0m \u001b[1;33m=\u001b[0m \u001b[0mself\u001b[0m\u001b[1;33m.\u001b[0m\u001b[0mcell\u001b[0m\u001b[1;33m.\u001b[0m\u001b[0mdiagonal\u001b[0m\u001b[1;33m(\u001b[0m\u001b[1;33m)\u001b[0m\u001b[1;33m\u001b[0m\u001b[0m\n\u001b[0;32m     69\u001b[0m         \u001b[1;32massert\u001b[0m \u001b[1;32mnot\u001b[0m \u001b[1;33m(\u001b[0m\u001b[0mself\u001b[0m\u001b[1;33m.\u001b[0m\u001b[0mcell\u001b[0m \u001b[1;33m-\u001b[0m \u001b[0mnp\u001b[0m\u001b[1;33m.\u001b[0m\u001b[0mdiag\u001b[0m\u001b[1;33m(\u001b[0m\u001b[0mC\u001b[0m\u001b[1;33m)\u001b[0m\u001b[1;33m)\u001b[0m\u001b[1;33m.\u001b[0m\u001b[0many\u001b[0m\u001b[1;33m(\u001b[0m\u001b[1;33m)\u001b[0m\u001b[1;33m\u001b[0m\u001b[0m\n",
      "\u001b[1;31mAssertionError\u001b[0m: "
     ]
    }
   ],
   "source": [
    "from ase.optimize.basin import BasinHopping\n",
    "from ase.units import kB\n",
    "from ase.optimize import LBFGS\n",
    "\n",
    "bh = BasinHopping(atoms=test_ensemble,  # the system to optimize\n",
    "                  temperature=100 * kB, # 'temperature' to overcome barriers\n",
    "                  dr=0.5,               # maximal stepwidth\n",
    "                  optimizer=LBFGS,      # optimizer to find local minima\n",
    "                  fmax=0.1,             # maximal force for the optimizer\n",
    "                  )"
   ]
  },
  {
   "cell_type": "code",
   "execution_count": 9,
   "metadata": {
    "collapsed": false
   },
   "outputs": [
    {
     "ename": "RuntimeError",
     "evalue": "File exists: hop.log",
     "output_type": "error",
     "traceback": [
      "\u001b[1;31m---------------------------------------------------------------------------\u001b[0m",
      "\u001b[1;31mRuntimeError\u001b[0m                              Traceback (most recent call last)",
      "\u001b[1;32m<ipython-input-9-e3b439531223>\u001b[0m in \u001b[0;36m<module>\u001b[1;34m()\u001b[0m\n\u001b[0;32m      1\u001b[0m \u001b[1;32mfrom\u001b[0m \u001b[0mase\u001b[0m\u001b[1;33m.\u001b[0m\u001b[0moptimize\u001b[0m\u001b[1;33m.\u001b[0m\u001b[0mminimahopping\u001b[0m \u001b[1;32mimport\u001b[0m \u001b[0mMinimaHopping\u001b[0m\u001b[1;33m\u001b[0m\u001b[0m\n\u001b[0;32m      2\u001b[0m \u001b[0mopt\u001b[0m \u001b[1;33m=\u001b[0m \u001b[0mMinimaHopping\u001b[0m\u001b[1;33m(\u001b[0m\u001b[0matoms\u001b[0m\u001b[1;33m=\u001b[0m\u001b[0mtest_ensemble\u001b[0m\u001b[1;33m)\u001b[0m\u001b[1;33m\u001b[0m\u001b[0m\n\u001b[1;32m----> 3\u001b[1;33m \u001b[0mopt\u001b[0m\u001b[1;33m(\u001b[0m\u001b[0mtotalsteps\u001b[0m\u001b[1;33m=\u001b[0m\u001b[1;36m10\u001b[0m\u001b[1;33m)\u001b[0m\u001b[1;33m\u001b[0m\u001b[0m\n\u001b[0m",
      "\u001b[1;32m/home/clyde/anaconda/envs/biotools/lib/python2.7/site-packages/ase/optimize/minimahopping.pyc\u001b[0m in \u001b[0;36m__call__\u001b[1;34m(self, totalsteps)\u001b[0m\n\u001b[0;32m     55\u001b[0m         be specified, other wise runs indefinitely (or until stopped by\n\u001b[0;32m     56\u001b[0m         batching software).\"\"\"\n\u001b[1;32m---> 57\u001b[1;33m         \u001b[0mself\u001b[0m\u001b[1;33m.\u001b[0m\u001b[0m_startup\u001b[0m\u001b[1;33m(\u001b[0m\u001b[1;33m)\u001b[0m\u001b[1;33m\u001b[0m\u001b[0m\n\u001b[0m\u001b[0;32m     58\u001b[0m         \u001b[1;32mwhile\u001b[0m \u001b[0mTrue\u001b[0m\u001b[1;33m:\u001b[0m\u001b[1;33m\u001b[0m\u001b[0m\n\u001b[0;32m     59\u001b[0m             \u001b[1;32mif\u001b[0m \u001b[1;33m(\u001b[0m\u001b[0mtotalsteps\u001b[0m \u001b[1;32mand\u001b[0m \u001b[0mself\u001b[0m\u001b[1;33m.\u001b[0m\u001b[0m_counter\u001b[0m \u001b[1;33m>=\u001b[0m \u001b[0mtotalsteps\u001b[0m\u001b[1;33m)\u001b[0m\u001b[1;33m:\u001b[0m\u001b[1;33m\u001b[0m\u001b[0m\n",
      "\u001b[1;32m/home/clyde/anaconda/envs/biotools/lib/python2.7/site-packages/ase/optimize/minimahopping.pyc\u001b[0m in \u001b[0;36m_startup\u001b[1;34m(self)\u001b[0m\n\u001b[0;32m     92\u001b[0m         \u001b[1;32melse\u001b[0m\u001b[1;33m:\u001b[0m\u001b[1;33m\u001b[0m\u001b[0m\n\u001b[0;32m     93\u001b[0m             \u001b[0mself\u001b[0m\u001b[1;33m.\u001b[0m\u001b[0m_counter\u001b[0m \u001b[1;33m=\u001b[0m \u001b[1;36m0\u001b[0m\u001b[1;33m\u001b[0m\u001b[0m\n\u001b[1;32m---> 94\u001b[1;33m             \u001b[0mself\u001b[0m\u001b[1;33m.\u001b[0m\u001b[0m_log\u001b[0m\u001b[1;33m(\u001b[0m\u001b[1;34m'init'\u001b[0m\u001b[1;33m)\u001b[0m\u001b[1;33m\u001b[0m\u001b[0m\n\u001b[0m\u001b[0;32m     95\u001b[0m             \u001b[0mself\u001b[0m\u001b[1;33m.\u001b[0m\u001b[0m_log\u001b[0m\u001b[1;33m(\u001b[0m\u001b[1;34m'msg'\u001b[0m\u001b[1;33m,\u001b[0m \u001b[1;34m'Performing initial optimization.'\u001b[0m\u001b[1;33m)\u001b[0m\u001b[1;33m\u001b[0m\u001b[0m\n\u001b[0;32m     96\u001b[0m             \u001b[1;32mif\u001b[0m \u001b[0mstatus\u001b[0m \u001b[1;33m==\u001b[0m \u001b[1;36m1.\u001b[0m\u001b[1;33m:\u001b[0m\u001b[1;33m\u001b[0m\u001b[0m\n",
      "\u001b[1;32m/home/clyde/anaconda/envs/biotools/lib/python2.7/site-packages/ase/optimize/minimahopping.pyc\u001b[0m in \u001b[0;36m_log\u001b[1;34m(self, cat, message)\u001b[0m\n\u001b[0;32m    218\u001b[0m             \u001b[1;32mif\u001b[0m \u001b[0mrank\u001b[0m \u001b[1;33m==\u001b[0m \u001b[1;36m0\u001b[0m\u001b[1;33m:\u001b[0m\u001b[1;33m\u001b[0m\u001b[0m\n\u001b[0;32m    219\u001b[0m                 \u001b[1;32mif\u001b[0m \u001b[0mos\u001b[0m\u001b[1;33m.\u001b[0m\u001b[0mpath\u001b[0m\u001b[1;33m.\u001b[0m\u001b[0mexists\u001b[0m\u001b[1;33m(\u001b[0m\u001b[0mself\u001b[0m\u001b[1;33m.\u001b[0m\u001b[0m_logfile\u001b[0m\u001b[1;33m)\u001b[0m\u001b[1;33m:\u001b[0m\u001b[1;33m\u001b[0m\u001b[0m\n\u001b[1;32m--> 220\u001b[1;33m                     \u001b[1;32mraise\u001b[0m \u001b[0mRuntimeError\u001b[0m\u001b[1;33m(\u001b[0m\u001b[1;34m'File exists: %s'\u001b[0m \u001b[1;33m%\u001b[0m \u001b[0mself\u001b[0m\u001b[1;33m.\u001b[0m\u001b[0m_logfile\u001b[0m\u001b[1;33m)\u001b[0m\u001b[1;33m\u001b[0m\u001b[0m\n\u001b[0m\u001b[0;32m    221\u001b[0m             \u001b[0mf\u001b[0m \u001b[1;33m=\u001b[0m \u001b[0mparopen\u001b[0m\u001b[1;33m(\u001b[0m\u001b[0mself\u001b[0m\u001b[1;33m.\u001b[0m\u001b[0m_logfile\u001b[0m\u001b[1;33m,\u001b[0m \u001b[1;34m'w'\u001b[0m\u001b[1;33m)\u001b[0m\u001b[1;33m\u001b[0m\u001b[0m\n\u001b[0;32m    222\u001b[0m             f.write('par: %12s %12s %12s\\n' % ('T (K)', 'Ediff (eV)',\n",
      "\u001b[1;31mRuntimeError\u001b[0m: File exists: hop.log"
     ]
    }
   ],
   "source": [
    "from ase.optimize.minimahopping import MinimaHopping\n",
    "opt = MinimaHopping(atoms=test_ensemble)\n",
    "opt(totalsteps=10)"
   ]
  },
  {
   "cell_type": "code",
   "execution_count": 6,
   "metadata": {
    "collapsed": false
   },
   "outputs": [
    {
     "data": {
      "text/plain": [
       "array([], dtype=float64)"
      ]
     },
     "execution_count": 6,
     "metadata": {},
     "output_type": "execute_result"
    }
   ],
   "source": [
    "test_ensemble.get_forces()"
   ]
  },
  {
   "cell_type": "code",
   "execution_count": 13,
   "metadata": {
    "collapsed": false
   },
   "outputs": [
    {
     "name": "stdout",
     "output_type": "stream",
     "text": [
      "Arbitrary min path between two points (Failed).ipynb\r\n",
      "ase.com\r\n",
      "ASE global opt.ipynb\r\n",
      "B3LYP_sto3g_init_H_20.com\r\n",
      "B3LYP_sto3g_init_H_20.log\r\n",
      "B3LYP_sto3g_init_H_21.com\r\n",
      "B3LYP_sto3g_init_H_21.log\r\n",
      "callbacks (Complete).ipynb\r\n",
      "\u001b[0m\u001b[01;34mcheck_calcs_test\u001b[0m/\r\n",
      "Check_calcs_v2 (Complete).ipynb\r\n",
      "\u001b[01;34mChemnotebook_problems\u001b[0m/\r\n",
      "Chemnotebook_Problems (Active).ipynb\r\n",
      "\u001b[01;34md3\u001b[0m/\r\n",
      "d3.js.ipynb\r\n",
      "ethane_linear.log\r\n",
      "ethane_linear.traj\r\n",
      "ethane_linear.traj.bak\r\n",
      "example_notebook (Complete).ipynb\r\n",
      "f_085e148a-5258-11e5-883a-24050f3450b2_job_script.sh\r\n",
      "f_085e148a-5258-11e5-883a-24050f3450b2.pkl\r\n",
      "f_626fd44a-5258-11e5-883a-24050f3450b2_job_script.sh\r\n",
      "f_626fd44a-5258-11e5-883a-24050f3450b2.pkl\r\n",
      "f_77348e02-5235-11e5-8ad3-24050f3450b2_job_script.sh\r\n",
      "f_77348e02-5235-11e5-8ad3-24050f3450b2.pkl\r\n",
      "f_7b377e94-5256-11e5-883a-24050f3450b2_job_script.sh\r\n",
      "f_7b377e94-5256-11e5-883a-24050f3450b2.pkl\r\n",
      "f_7c984aa8-62db-11e5-80dc-14feb59cf041_job_script.sh\r\n",
      "f_7c984aa8-62db-11e5-80dc-14feb59cf041.pkl\r\n",
      "f_82f37774-62db-11e5-80dc-14feb59cf041_job_script.sh\r\n",
      "f_82f37774-62db-11e5-80dc-14feb59cf041.pkl\r\n",
      "f_8c051d2c-5246-11e5-81a1-24050f3450b2_job_script.sh\r\n",
      "f_8c051d2c-5246-11e5-81a1-24050f3450b2.pkl\r\n",
      "f_94bb04c4-5258-11e5-883a-24050f3450b2_job_script.sh\r\n",
      "f_94bb04c4-5258-11e5-883a-24050f3450b2.pkl\r\n",
      "f_97d1c99c-5247-11e5-81a1-24050f3450b2_job_script.sh\r\n",
      "f_97d1c99c-5247-11e5-81a1-24050f3450b2.pkl\r\n",
      "f_9d2dfd62-5255-11e5-bf84-24050f3450b2_job_script.sh\r\n",
      "f_9d2dfd62-5255-11e5-bf84-24050f3450b2.pkl\r\n",
      "f_a16157fc-5251-11e5-81a1-24050f3450b2_job_script.sh\r\n",
      "f_a16157fc-5251-11e5-81a1-24050f3450b2.pkl\r\n",
      "f_a496c600-5242-11e5-8ad3-24050f3450b2_job_script.sh\r\n",
      "f_a496c600-5242-11e5-8ad3-24050f3450b2.pkl\r\n",
      "f_b88193fe-62da-11e5-80dc-14feb59cf041_job_script.sh\r\n",
      "f_b88193fe-62da-11e5-80dc-14feb59cf041.pkl\r\n",
      "\u001b[01;34mfchk_test\u001b[0m/\r\n",
      "Fchk test.ipynb\r\n",
      "f_d6b10e12-62db-11e5-80dc-14feb59cf041_job_script.sh\r\n",
      "f_d6b10e12-62db-11e5-80dc-14feb59cf041.pkl\r\n",
      "for_vale.ipynb\r\n",
      "Free energy sensitivity test.ipynb\r\n",
      "\u001b[01;34mfree_energy_test\u001b[0m/\r\n",
      "Gaussian widget test.ipynb\r\n",
      "Geom convergence testing for cycloadd (Retired).ipynb\r\n",
      "\u001b[01;34mgeom_conv_test\u001b[0m/\r\n",
      "Geometry regression.ipynb\r\n",
      "h_06c5bdc6-62de-11e5-80dc-14feb59cf041_job_script.sh\r\n",
      "h_06c5bdc6-62de-11e5-80dc-14feb59cf041.pkl\r\n",
      "h_0aaf2340-62df-11e5-80dc-14feb59cf041_job_script.sh\r\n",
      "h_0aaf2340-62df-11e5-80dc-14feb59cf041.pkl\r\n",
      "H2O.pdb\r\n",
      "H2O.xyz\r\n",
      "h_92d6f63c-62e2-11e5-80dc-14feb59cf041_job_script.sh\r\n",
      "h_92d6f63c-62e2-11e5-80dc-14feb59cf041.pkl\r\n",
      "He_2.com\r\n",
      "\u001b[01;34mhelium\u001b[0m/\r\n",
      "Helium (Retired).ipynb\r\n",
      "HF_sto3g_init_H_20.com\r\n",
      "HF_sto3g_init_H_20.log\r\n",
      "hop.log\r\n",
      "Inter Notebook Test - Complete (Clyde-PC's conflicted copy 2015-05-23).ipynb\r\n",
      "Inter Notebook Test - Complete.ipynb\r\n",
      "Inter_Notebook_Test_Dummy -Complete (Clyde-PC's conflicted copy 2015-05-23).ipynb\r\n",
      "Inter_Notebook_Test_Dummy -Complete.ipynb\r\n",
      "\u001b[01;34mLee_CNT\u001b[0m/\r\n",
      "\u001b[01;34mLee_gaus_test\u001b[0m/\r\n",
      "Lee's analysis Code (Complete).ipynb\r\n",
      "local_minima.traj\r\n",
      "lowest.traj\r\n",
      "NEB.ipynb\r\n",
      "\u001b[01;34mneb_test\u001b[0m/\r\n",
      "\u001b[01;34mnetworkx_imagemaps\u001b[0m/\r\n",
      "NetworkX Imagemaps.ipynb\r\n",
      "o10_B3LYP_sto3g_HF_sto3g_init_H_20.com\r\n",
      "o10_B3LYP_sto3g_HF_sto3g_init_H_20.log\r\n",
      "o12_B3LYP_sto3g_HF_sto3g_init_H_20.com\r\n",
      "o12_B3LYP_sto3g_HF_sto3g_init_H_20.log\r\n",
      "o14_B3LYP_sto3g_HF_sto3g_init_H_20.com\r\n",
      "o14_B3LYP_sto3g_HF_sto3g_init_H_20.log\r\n",
      "o16_B3LYP_sto3g_HF_sto3g_init_H_20.com\r\n",
      "o16_B3LYP_sto3g_HF_sto3g_init_H_20.log\r\n",
      "o18_B3LYP_sto3g_HF_sto3g_init_H_20.com\r\n",
      "o18_B3LYP_sto3g_HF_sto3g_init_H_20.log\r\n",
      "o20_B3LYP_sto3g_HF_sto3g_init_H_20.com\r\n",
      "o2_B3LYP_sto3g_HF_sto3g_init_H_20.com\r\n",
      "o2_B3LYP_sto3g_HF_sto3g_init_H_20.log\r\n",
      "o2_uB3LYP_sto3g_uHF_sto3g_init_H_20.com\r\n",
      "o4_B3LYP_sto3g_HF_sto3g_init_H_20.com\r\n",
      "o4_B3LYP_sto3g_HF_sto3g_init_H_20.log\r\n",
      "o4_uB3LYP_sto3g_uHF_sto3g_init_H_20.com\r\n",
      "o6_B3LYP_sto3g_HF_sto3g_init_H_20.com\r\n",
      "o6_B3LYP_sto3g_HF_sto3g_init_H_20.log\r\n",
      "o8_B3LYP_sto3g_HF_sto3g_init_H_20.com\r\n",
      "o8_B3LYP_sto3g_HF_sto3g_init_H_20.log\r\n",
      "Oniom_Calc_Test (Complete).ipynb\r\n",
      "\u001b[01;34moniom_stable\u001b[0m/\r\n",
      "Oniom_stable (Complete)-Copy1.ipynb\r\n",
      "Oniom_stable (Complete).ipynb\r\n",
      "\u001b[01;34moniom_test\u001b[0m/\r\n",
      "\u001b[01;34mon_server\u001b[0m/\r\n",
      "on_server.ipynb\r\n",
      "Projected frequency test (Active).ipynb\r\n",
      "Projected frequency test.ipynb\r\n",
      "\u001b[01;34mproj_freq_test\u001b[0m/\r\n",
      "qn00000.log\r\n",
      "qn00000.traj\r\n",
      "\u001b[01;34mras_cpd\u001b[0m/\r\n",
      "RASSCF (Active).ipynb\r\n",
      "\u001b[01;34msolving_stability_problems\u001b[0m/\r\n",
      "Solving Stability Problems (Complete).ipynb\r\n",
      "Stability test of Lee's CNT calcs (Complete).ipynb\r\n",
      "temp_atoms_0.xyz\r\n",
      "temp_pckl\r\n",
      "Test_coeff_Extraction.ipynb\r\n",
      "Test_display (Complete).ipynb\r\n",
      "test_dot.gv\r\n",
      "\u001b[01;34mtest_downhill_path\u001b[0m/\r\n",
      "test_ensemble.chk\r\n",
      "test_ensemble.com\r\n",
      "test_ensemble.log\r\n",
      "\u001b[01;34mtest_g09_versions\u001b[0m/\r\n",
      "\u001b[01;34mtest_globetool\u001b[0m/\r\n",
      "Testing gdv calcs.ipynb\r\n",
      "Testing ultrafast toolkit.ipynb\r\n",
      "testing upm6 guess from ub3lyp.ipynb\r\n",
      "Test_jobman (Complete).ipynb\r\n",
      "test_local_gaussian.ipynb\r\n",
      "\u001b[01;34mtest_orbital_extraction\u001b[0m/\r\n",
      "\u001b[01;34mtest_project_tree_v1\u001b[0m/\r\n",
      "test_project_tree_v1.ipynb\r\n",
      "\u001b[01;34mtest_project_tree_v2\u001b[0m/\r\n",
      "test_project_tree_v2.ipynb\r\n",
      "\u001b[01;34mtest_resources\u001b[0m/\r\n",
      "test_tree.json\r\n",
      "\u001b[01;34mtest_upm6\u001b[0m/\r\n",
      "Transition state extrapolation.ipynb\r\n",
      "uB3LYP_sto3g_init_H_21.com\r\n",
      "uB3LYP_sto3g_init_H_21.log\r\n",
      "Ultrafast Toolbox v3.ipynb\r\n",
      "Undergrad workshop.ipynb\r\n",
      "Untitled0.ipynb\r\n",
      "Untitled.ipynb\r\n",
      "Vincent_Examples.ipynb\r\n"
     ]
    }
   ],
   "source": [
    "ls"
   ]
  },
  {
   "cell_type": "code",
   "execution_count": 14,
   "metadata": {
    "collapsed": false
   },
   "outputs": [
    {
     "name": "stdout",
     "output_type": "stream",
     "text": [
      "-rw------- 1 clyde 41541 Jan 21  2015 B3LYP_sto3g_init_H_20.log\r\n",
      "-rw------- 1 clyde 43594 Jan 21  2015 B3LYP_sto3g_init_H_21.log\r\n",
      "-rw-rw-r-- 1 clyde 46011 Sep  7 14:31 ethane_linear.log\r\n",
      "-rw------- 1 clyde 41167 Jan 21  2015 HF_sto3g_init_H_20.log\r\n",
      "-rw-rw-r-- 1 clyde   153 Oct 22 16:22 hop.log\r\n",
      "-rw------- 1 clyde 84378 Jan 21  2015 o10_B3LYP_sto3g_HF_sto3g_init_H_20.log\r\n",
      "-rw------- 1 clyde 87057 Jan 21  2015 o12_B3LYP_sto3g_HF_sto3g_init_H_20.log\r\n",
      "-rw------- 1 clyde 90242 Jan 21  2015 o14_B3LYP_sto3g_HF_sto3g_init_H_20.log\r\n",
      "-rw------- 1 clyde 93130 Jan 21  2015 o16_B3LYP_sto3g_HF_sto3g_init_H_20.log\r\n",
      "-rw------- 1 clyde 97324 Jan 21  2015 o18_B3LYP_sto3g_HF_sto3g_init_H_20.log\r\n",
      "-rw------- 1 clyde 73200 Jan 21  2015 o2_B3LYP_sto3g_HF_sto3g_init_H_20.log\r\n",
      "-rw------- 1 clyde 76098 Jan 21  2015 o4_B3LYP_sto3g_HF_sto3g_init_H_20.log\r\n",
      "-rw------- 1 clyde 78736 Jan 21  2015 o6_B3LYP_sto3g_HF_sto3g_init_H_20.log\r\n",
      "-rw------- 1 clyde 80846 Jan 21  2015 o8_B3LYP_sto3g_HF_sto3g_init_H_20.log\r\n",
      "-rw-rw-r-- 1 clyde     0 Oct 22 16:22 qn00000.log\r\n",
      "-rw-rw-r-- 1 clyde 15772 Oct 22 16:23 test_ensemble.log\r\n",
      "-rw------- 1 clyde 21357 Jan 21  2015 uB3LYP_sto3g_init_H_21.log\r\n"
     ]
    }
   ],
   "source": [
    "ll *.log"
   ]
  },
  {
   "cell_type": "code",
   "execution_count": null,
   "metadata": {
    "collapsed": true
   },
   "outputs": [],
   "source": []
  }
 ],
 "metadata": {
  "kernelspec": {
   "display_name": "Python 2",
   "language": "python",
   "name": "python2"
  },
  "language_info": {
   "codemirror_mode": {
    "name": "ipython",
    "version": 2
   },
   "file_extension": ".py",
   "mimetype": "text/x-python",
   "name": "python",
   "nbconvert_exporter": "python",
   "pygments_lexer": "ipython2",
   "version": "2.7.10"
  }
 },
 "nbformat": 4,
 "nbformat_minor": 0
}
