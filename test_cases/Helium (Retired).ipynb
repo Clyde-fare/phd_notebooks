{
 "cells": [
  {
   "cell_type": "code",
   "execution_count": 1,
   "metadata": {
    "collapsed": false
   },
   "outputs": [
    {
     "name": "stderr",
     "output_type": "stream",
     "text": [
      "/home/clyde/anaconda/envs/biotools/lib/python2.7/site-packages/IPython/nbformat.py:13: ShimWarning: The `IPython.nbformat` package has been deprecated. You should import from nbformat instead.\n",
      "  \"You should import from nbformat instead.\", ShimWarning)\n",
      "/home/clyde/anaconda/envs/biotools/lib/python2.7/site-packages/IPython/html.py:14: ShimWarning: The `IPython.html` package has been deprecated. You should import from `notebook` instead. `IPython.html.widgets` has moved to `ipywidgets`.\n",
      "  \"`IPython.html.widgets` has moved to `ipywidgets`.\", ShimWarning)\n",
      "/home/clyde/anaconda/envs/biotools/lib/python2.7/site-packages/setuptools-18.1-py2.7.egg/pkg_resources/__init__.py:1256: UserWarning: /home/clyde/.python-eggs is writable by group/others and vulnerable to attack when used with get_resource_filename. Consider a more secure location (set with .set_extraction_path or the PYTHON_EGG_CACHE environment variable).\n"
     ]
    },
    {
     "data": {
      "application/javascript": [
       "\n",
       "require(['nbextensions/cc_notebook'])\n",
       "require(['nbextensions/jsmol/JSmol.min.nojq'])\n"
      ],
      "text/plain": [
       "<IPython.core.display.Javascript object>"
      ]
     },
     "metadata": {},
     "output_type": "display_data"
    }
   ],
   "source": [
    "import pandas, os\n",
    "import numpy as np\n",
    "from webbrowser import open as open_log\n",
    "from math import pi\n",
    "from IPython.core.display import HTML, Image\n",
    "from ase.io import read, write\n",
    "from gausspy import Gaussian\n",
    "from glob import glob\n",
    "from ase_extensions.ase_utils import *\n",
    "from cc_notebook import *\n",
    "#from adsy import display as ad_disp\n",
    "#pandas.set_printoptions(max_rows=200, max_columns=10)\n",
    "#ad_disp.extended_styles()"
   ]
  },
  {
   "cell_type": "code",
   "execution_count": 2,
   "metadata": {
    "collapsed": false
   },
   "outputs": [
    {
     "name": "stdout",
     "output_type": "stream",
     "text": [
      "/home/clyde/Dropbox/Project Stuff/Notebooks/test_cases/helium\n"
     ]
    }
   ],
   "source": [
    "cd helium"
   ]
  },
  {
   "cell_type": "code",
   "execution_count": 4,
   "metadata": {
    "collapsed": false
   },
   "outputs": [],
   "source": [
    "from ase import Atoms\n",
    "He = Atoms('He', positions=[(0., 0., 0.)])\n",
    "\n",
    "He.set_calculator(Gaussian(label='He', method='HF', basis='STO-3G'))\n",
    "#He.calc.set_job(nodes=1, memory=1*1400, time=1, version='g09-d01')\n",
    "He.calc.set_job(nodes=1, memory=1*1400, time=1, version='maia_direct_g09-d01')\n",
    "#He.calc.start(frc=True)"
   ]
  },
  {
   "cell_type": "code",
   "execution_count": 20,
   "metadata": {
    "collapsed": true
   },
   "outputs": [],
   "source": [
    "He.calc.send_to_home('He.com')"
   ]
  },
  {
   "cell_type": "code",
   "execution_count": 13,
   "metadata": {
    "collapsed": false
   },
   "outputs": [
    {
     "data": {
      "text/html": [
       "\n",
       "    <style>\n",
       "    table\n",
       "    {\n",
       "        border-collapse:collapse;\n",
       "    }\n",
       "    td\n",
       "    {\n",
       "        padding:15px;\n",
       "    }\n",
       "    </style>\n",
       "    <body>\n",
       "    <table bgcolor=\"white\">\n",
       "    <col/><tr><td>He</td><td><input type=\"button\" value=\"Smart Log\" id=\"He\" onclick=\"IPython.cc_notebook.view_function(event, this.id)\" /></td><td>Success</td></tr>\n",
       "    </table>\n",
       "    </body>"
      ],
      "text/plain": [
       "<IPython.core.display.HTML object>"
      ]
     },
     "execution_count": 13,
     "metadata": {},
     "output_type": "execute_result"
    }
   ],
   "source": [
    "check_calcs([He],frc=True)\n",
    "mols_to_html([He])"
   ]
  },
  {
   "cell_type": "code",
   "execution_count": 12,
   "metadata": {
    "collapsed": false
   },
   "outputs": [],
   "source": [
    "#run_on_server(He)"
   ]
  },
  {
   "cell_type": "code",
   "execution_count": 8,
   "metadata": {
    "collapsed": false
   },
   "outputs": [
    {
     "data": {
      "text/html": [
       "\n",
       "           <script type=\"text/javascript\">\n",
       "           function view_function (event, file_n) {\n",
       "               if (event.ctrlKey && event.shiftKey){\n",
       "                   IPython.notebook.kernel.execute(\"cc_notebook_utils.pygview('\" + file_n + \".log')\");\n",
       "               }\n",
       "               else if (event.ctrlKey){\n",
       "                   IPython.notebook.kernel.execute(\"cc_notebook_utils.pygausssum('\" + file_n + \".log')\");\n",
       "               }\n",
       "               else if (event.shiftKey){\n",
       "                   IPython.notebook.kernel.execute(\"cc_notebook_utils.pyvogadro('\" + file_n + \".log')\");\n",
       "               }\n",
       "               else {\n",
       "                   IPython.notebook.kernel.execute(\"cc_notebook_utils.pyvim('\" + file_n + \".log')\");\n",
       "                   IPython.notebook.kernel.execute(\"print(file_n)\");\n",
       "               }\n",
       "           }\n",
       "           </script>\n",
       "    <style>\n",
       "    table\n",
       "    {\n",
       "        border-collapse:collapse;\n",
       "    }\n",
       "    td\n",
       "    {\n",
       "        padding:15px;\n",
       "    }\n",
       "    </style>\n",
       "    <body>\n",
       "    <table bgcolor=\"white\">\n",
       "    <col/><tr><td>He</td><td><a href = \"files/test_cases/helium/He.com\" target = \"_blank\">com</a></td><td><input type=\"button\" value=\"Smart Log\" id=\"He\" onclick=\"view_function(event, this.id)\" /></td><td>Success</td></tr>\n",
       "    </table>\n",
       "    </body>"
      ],
      "text/plain": [
       "<IPython.core.display.HTML at 0x50aacd0>"
      ]
     },
     "execution_count": 8,
     "metadata": {},
     "output_type": "execute_result"
    }
   ],
   "source": [
    "check_calcs([He],frc=True)\n",
    "mols_to_html([He])"
   ]
  },
  {
   "cell_type": "code",
   "execution_count": 10,
   "metadata": {
    "collapsed": false
   },
   "outputs": [
    {
     "data": {
      "text/plain": [
       "-76.403721339231"
      ]
     },
     "execution_count": 10,
     "metadata": {},
     "output_type": "execute_result"
    }
   ],
   "source": [
    "He.calc.energy_zero"
   ]
  },
  {
   "cell_type": "code",
   "execution_count": 7,
   "metadata": {
    "collapsed": false
   },
   "outputs": [],
   "source": [
    "def some_funcion(x):\n",
    "    return x**2"
   ]
  },
  {
   "cell_type": "code",
   "execution_count": 10,
   "metadata": {
    "collapsed": false
   },
   "outputs": [
    {
     "data": {
      "text/plain": [
       "'some_funcion'"
      ]
     },
     "execution_count": 10,
     "metadata": {},
     "output_type": "execute_result"
    }
   ],
   "source": [
    "some_funcion.func_name"
   ]
  },
  {
   "cell_type": "code",
   "execution_count": 8,
   "metadata": {
    "collapsed": false
   },
   "outputs": [
    {
     "data": {
      "text/html": [
       "\n",
       "           <script type=\"text/javascript\">\n",
       "           function view_function (event, file_n) {\n",
       "               if (event.ctrlKey && event.shiftKey){\n",
       "                   IPython.notebook.kernel.execute(\"cc_notebook_utils.pygview('\" + file_n + \".log')\");\n",
       "               }\n",
       "               else if (event.ctrlKey){\n",
       "                   IPython.notebook.kernel.execute(\"cc_notebook_utils.pygausssum('\" + file_n + \".log')\");\n",
       "               }\n",
       "               else if (event.shiftKey){\n",
       "                   IPython.notebook.kernel.execute(\"cc_notebook_utils.pyvogadro('\" + file_n + \".log')\");\n",
       "               }\n",
       "               else IPython.notebook.kernel.execute(\"cc_notebook_utils.pyvim('\" + file_n + \".log')\");\n",
       "           }\n",
       "           </script>\n",
       "    <style>\n",
       "    table\n",
       "    {\n",
       "        border-collapse:collapse;\n",
       "    }\n",
       "    td\n",
       "    {\n",
       "        padding:15px;\n",
       "    }\n",
       "    </style>\n",
       "    <body>\n",
       "    <table bgcolor=\"white\">\n",
       "    <col/><tr><td>He</td><td><a href = \"files/test_cases/helium/He.com\" target = \"_blank\">com</a></td><td><input type=\"button\" value=\"Smart Log\" id=\"He\" onclick=\"view_function(event, this.id)\" /></td><td>Success</td></tr>\n",
       "    </table>\n",
       "    </body>"
      ],
      "text/plain": [
       "<IPython.core.display.HTML at 0x1730750>"
      ]
     },
     "execution_count": 8,
     "metadata": {},
     "output_type": "execute_result"
    }
   ],
   "source": [
    "check_calcs([He],frc=True)\n",
    "mols_to_html([He])"
   ]
  },
  {
   "cell_type": "code",
   "execution_count": null,
   "metadata": {
    "collapsed": false
   },
   "outputs": [],
   "source": []
  }
 ],
 "metadata": {
  "kernelspec": {
   "display_name": "Python 2",
   "language": "python",
   "name": "python2"
  },
  "language_info": {
   "codemirror_mode": {
    "name": "ipython",
    "version": 2
   },
   "file_extension": ".py",
   "mimetype": "text/x-python",
   "name": "python",
   "nbconvert_exporter": "python",
   "pygments_lexer": "ipython2",
   "version": "2.7.10"
  }
 },
 "nbformat": 4,
 "nbformat_minor": 0
}
