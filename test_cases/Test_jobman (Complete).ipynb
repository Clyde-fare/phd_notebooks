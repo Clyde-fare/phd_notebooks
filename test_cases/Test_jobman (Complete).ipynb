{
 "metadata": {
  "name": ""
 },
 "nbformat": 3,
 "nbformat_minor": 0,
 "worksheets": [
  {
   "cells": [
    {
     "cell_type": "code",
     "collapsed": false,
     "input": [
      "import pickle\n",
      "from glob import glob, os\n",
      "from ASE_utils import *\n",
      "from ase.io.xyz import read_xyz\n",
      "from ase.calculators.gaussian import Gaussian\n",
      "from gaussian_job_manager import Job_Manager\n",
      "from cc_notebook_utils import *\n",
      "import cc_notebook_utils"
     ],
     "language": "python",
     "metadata": {},
     "outputs": [],
     "prompt_number": 8
    },
    {
     "cell_type": "code",
     "collapsed": false,
     "input": [
      "cd test_resources/"
     ],
     "language": "python",
     "metadata": {},
     "outputs": [
      {
       "output_type": "stream",
       "stream": "stdout",
       "text": [
        "/home/clyde/Dropbox/Project Stuff/Notebooks/test_cases/test_resources\n"
       ]
      }
     ],
     "prompt_number": 2
    },
    {
     "cell_type": "code",
     "collapsed": false,
     "input": [
      "#xyz_file = glob('xyz_files/c1.xyz')[0]\n",
      "#name = os.path.split(xyz_file)[1].split('.xyz')[0]\n",
      "#molecule = read_xyz(xyz_file)\n",
      "#molecule.set_calculator(Gaussian(label=name, method='HF', basis='STO-3G', opt='opt'))\n",
      "#molecule.calc.set_job(queue='pqchem')\n",
      "#m=Job_Manager(molecule.calc)"
     ],
     "language": "python",
     "metadata": {},
     "outputs": [],
     "prompt_number": 3
    },
    {
     "cell_type": "code",
     "collapsed": false,
     "input": [
      "xyz_file = glob('xyz_files/c2.xyz')[0]\n",
      "name = os.path.split(xyz_file)[1].split('.xyz')[0]\n",
      "molecule = read_xyz(xyz_file)\n",
      "molecule.set_calculator(Gaussian(label=name, method='HF', basis='STO-3G', opt='opt'))\n",
      "molecule.calc.set_job(queue='pqchem',version='direct_g09')\n",
      "##m=Job_Manager(molecule.calc)"
     ],
     "language": "python",
     "metadata": {},
     "outputs": [],
     "prompt_number": 4
    },
    {
     "cell_type": "code",
     "collapsed": false,
     "input": [
      "job_ = gaussian_job_manager.Job()"
     ],
     "language": "python",
     "metadata": {},
     "outputs": [],
     "prompt_number": 5
    },
    {
     "cell_type": "code",
     "collapsed": false,
     "input": [
      "#run_on_server(job_, molecule.calc)"
     ],
     "language": "python",
     "metadata": {},
     "outputs": [
      {
       "output_type": "pyout",
       "prompt_number": 74,
       "text": [
        "'3957714'"
       ]
      }
     ],
     "prompt_number": 74
    },
    {
     "cell_type": "code",
     "collapsed": false,
     "input": [
      "molecule.calc.set_job(version='g09')\n",
      "#molecule.calc.start(frc=True)"
     ],
     "language": "python",
     "metadata": {},
     "outputs": [],
     "prompt_number": 6
    },
    {
     "cell_type": "code",
     "collapsed": false,
     "input": [
      "check_calcs([molecule],frc=True)\n",
      "mols_to_html([molecule])"
     ],
     "language": "python",
     "metadata": {},
     "outputs": [
      {
       "html": [
        "\n",
        "           <script type=\"text/javascript\">\n",
        "           function view_function (event, file_n) {\n",
        "               if (event.ctrlKey && event.shiftKey){\n",
        "                   IPython.notebook.kernel.execute(\"cc_notebook_utils.pygview('\" + file_n + \".log')\");\n",
        "               }\n",
        "               else if (event.ctrlKey){\n",
        "                   IPython.notebook.kernel.execute(\"cc_notebook_utils.pygausssum('\" + file_n + \".log')\");\n",
        "               }\n",
        "               else if (event.shiftKey){\n",
        "                   IPython.notebook.kernel.execute(\"cc_notebook_utils.pyvogadro('\" + file_n + \".log')\");\n",
        "               }\n",
        "               else {\n",
        "                   IPython.notebook.kernel.execute(\"cc_notebook_utils.pyvim('\" + file_n + \".log')\");\n",
        "                   IPython.notebook.kernel.execute(\"print(file_n)\");\n",
        "               }\n",
        "           }\n",
        "           </script>\n",
        "    <style>\n",
        "    table\n",
        "    {\n",
        "        border-collapse:collapse;\n",
        "    }\n",
        "    td\n",
        "    {\n",
        "        padding:15px;\n",
        "    }\n",
        "    </style>\n",
        "    <body>\n",
        "    <table bgcolor=\"white\">\n",
        "    <col/><tr><td>c2</td><td><a href = \"files/test_cases/test_resources/c2.com\" target = \"_blank\">com</a></td><td><input type=\"button\" value=\"Smart Log\" id=\"c2\" onclick=\"view_function(event, this.id)\" /></td><td>Incomplete</td></tr>\n",
        "    </table>\n",
        "    </body>"
       ],
       "metadata": {},
       "output_type": "pyout",
       "prompt_number": 9,
       "text": [
        "<IPython.core.display.HTML at 0x3dad210>"
       ]
      }
     ],
     "prompt_number": 9
    },
    {
     "cell_type": "code",
     "collapsed": false,
     "input": [
      "#view_avo(molecule)"
     ],
     "language": "python",
     "metadata": {},
     "outputs": [],
     "prompt_number": 10
    },
    {
     "cell_type": "code",
     "collapsed": false,
     "input": [
      "def test_func(*args, **kwargs):\n",
      "    for arg in args:\n",
      "        print(arg)\n",
      "    print(len(kwargs))"
     ],
     "language": "python",
     "metadata": {},
     "outputs": [],
     "prompt_number": 9
    },
    {
     "cell_type": "code",
     "collapsed": false,
     "input": [
      "def hlp_func1(*args):\n",
      "    return args\n",
      "\n",
      "def hlp_func2(**kwargs):\n",
      "    return kwargs\n",
      "\n",
      "a = hlp_func1(1,0, 'something', ['1','2',0])\n",
      "k = hlp_func2(a=1,b=2,c=3)"
     ],
     "language": "python",
     "metadata": {},
     "outputs": [],
     "prompt_number": 1
    },
    {
     "cell_type": "code",
     "collapsed": false,
     "input": [
      "a"
     ],
     "language": "python",
     "metadata": {},
     "outputs": [
      {
       "output_type": "pyout",
       "prompt_number": 2,
       "text": [
        "(1, 0, 'something', ['1', '2', 0])"
       ]
      }
     ],
     "prompt_number": 2
    },
    {
     "cell_type": "code",
     "collapsed": false,
     "input": [
      "k"
     ],
     "language": "python",
     "metadata": {},
     "outputs": [
      {
       "output_type": "pyout",
       "prompt_number": 3,
       "text": [
        "{'a': 1, 'b': 2, 'c': 3}"
       ]
      }
     ],
     "prompt_number": 3
    },
    {
     "cell_type": "code",
     "collapsed": false,
     "input": [
      "with open('temp_pckl', 'w') as f:\n",
      "    pickle.dump(test_func, f)\n",
      "\n",
      "with open('temp_args_pckl', 'w') as f:\n",
      "    pickle.dump(a, f)\n",
      "    \n",
      "with open('temp_kwargs_pckl', 'w') as f:\n",
      "    pickle.dump(k, f)"
     ],
     "language": "python",
     "metadata": {},
     "outputs": [],
     "prompt_number": 10
    },
    {
     "cell_type": "code",
     "collapsed": false,
     "input": [
      "from pbs_execute_func import execute"
     ],
     "language": "python",
     "metadata": {},
     "outputs": [],
     "prompt_number": 19
    },
    {
     "cell_type": "code",
     "collapsed": false,
     "input": [
      "#execute('temp_pckl', 'temp_args_pckl', 'temp_kwargs_pckl')"
     ],
     "language": "python",
     "metadata": {},
     "outputs": [
      {
       "output_type": "stream",
       "stream": "stdout",
       "text": [
        "1\n",
        "0\n",
        "something\n",
        "['1', '2', 0]\n",
        "3\n"
       ]
      }
     ],
     "prompt_number": 18
    }
   ],
   "metadata": {}
  }
 ]
}