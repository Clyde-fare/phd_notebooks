{
 "metadata": {
  "name": "",
  "signature": "sha256:0ad1636e4f81c7666f360ca150cd46ab5413da9da9fd94569fdb35c47c6de109"
 },
 "nbformat": 3,
 "nbformat_minor": 0,
 "worksheets": [
  {
   "cells": [
    {
     "cell_type": "code",
     "collapsed": false,
     "input": [
      "cd test_resources/"
     ],
     "language": "python",
     "metadata": {},
     "outputs": [
      {
       "output_type": "stream",
       "stream": "stdout",
       "text": [
        "/home/clyde/Dropbox/Project Stuff/Notebooks/test_cases/test_resources\n"
       ]
      }
     ],
     "prompt_number": 1
    },
    {
     "cell_type": "code",
     "collapsed": false,
     "input": [
      "from ase.io import read\n",
      "from ase.calculators.gaussian import Gaussian\n",
      "from cc_notebook.cc_notebook_utils import *"
     ],
     "language": "python",
     "metadata": {},
     "outputs": [
      {
       "javascript": [
        "\n",
        "require(['nbextensions/cc_notebook'])\n",
        "require(['nbextensions/jsmol/JSmol.min.nojq'])\n"
       ],
       "metadata": {},
       "output_type": "display_data",
       "text": [
        "<IPython.core.display.Javascript at 0x7f310ba69610>"
       ]
      }
     ],
     "prompt_number": 2
    },
    {
     "cell_type": "code",
     "collapsed": false,
     "input": [
      "test=read('c1.com')\n",
      "test.set_calculator(Gaussian(label='test_local_gauss', method='HF', basis='STO-3G'))\n",
      "test.get_potential_energy()"
     ],
     "language": "python",
     "metadata": {},
     "outputs": [
      {
       "output_type": "stream",
       "stream": "stderr",
       "text": [
        "WARNING:root:libint extension not found, switching to normal ERI computation\n"
       ]
      },
      {
       "metadata": {},
       "output_type": "pyout",
       "prompt_number": 3,
       "text": [
        "-1081.0074789275666"
       ]
      }
     ],
     "prompt_number": 3
    },
    {
     "cell_type": "code",
     "collapsed": false,
     "input": [
      "ll -rt"
     ],
     "language": "python",
     "metadata": {},
     "outputs": [
      {
       "output_type": "stream",
       "stream": "stdout",
       "text": [
        "total 7300\r\n",
        "-rwxr-xr-x 1 clyde     414 Oct 16  2012 \u001b[0m\u001b[01;32mc1_hf_geom.com\u001b[0m*\r\n",
        "-rwxr-xr-x 1 clyde     627 Oct 16  2012 \u001b[01;32mc2_hf_geom.com\u001b[0m*\r\n",
        "-rw-rw-r-- 1 clyde   20387 Oct 16  2012 c1_hf_geom.log.com\r\n",
        "-rw-r--r-- 1 clyde   20387 Oct 16  2012 c1_hf_geom.log\r\n",
        "-rw-rw-r-- 1 clyde   24049 Oct 16  2012 c2_hf_geom.log.com\r\n",
        "-rw-r--r-- 1 clyde   24049 Oct 16  2012 c2_hf_geom.log\r\n",
        "-rw-r--r-- 1 clyde     270 Nov  1  2012 jmol_basic3.html\r\n",
        "-rw-r--r-- 1 clyde     270 Nov  1  2012 jmol_basic2.html\r\n",
        "-rw-r--r-- 1 clyde     270 Nov  2  2012 jmol_basic5.html\r\n",
        "-rw-r--r-- 1 clyde  742454 Nov  4  2012 B3LYP_631Gd_HF_STO3G_4_4_graphene_freq.log\r\n",
        "-rwxr-xr-x 1 clyde    8721 Nov  8  2012 \u001b[01;32m6_6_graphene_hf_geom.com\u001b[0m*\r\n",
        "-rw-r--r-- 1 clyde    3335 Nov 10  2012 test_doc.docx\r\n",
        "-rw-r--r-- 1 clyde   71864 Nov 10  2012 c1.rtf\r\n",
        "-rw-r--r-- 1 clyde   71864 Nov 10  2012 c1.abc\r\n",
        "-rw-r--r-- 1 clyde   71864 Nov 11  2012 c1.txt\r\n",
        "-rw-r--r-- 1 clyde     288 Nov 11  2012 get.php\r\n",
        "-rw-r--r-- 1 clyde   13318 Nov 11  2012 \u001b[01;31mvf.zip\u001b[0m\r\n",
        "-rw-r--r-- 1 clyde   13318 Nov 11  2012 \u001b[01;31mc1.zip\u001b[0m\r\n",
        "-rw-r--r-- 1 clyde   81920 Nov 11  2012 I\r\n",
        "-rw-r--r-- 1 clyde   65083 Nov 11  2012 Test_html_log\r\n",
        "-rw-r--r-- 1 clyde   25917 Nov 12  2012 c1_hf_geom.log.html\r\n",
        "-rw-r--r-- 1 clyde   31139 Nov 12  2012 c2_hf_geom.log.html\r\n",
        "-rw-r--r-- 1 clyde   62042 Nov 12  2012 6_6_graphene_hf_geom.log.html\r\n",
        "-rw-r--r-- 1 clyde   71864 Nov 13  2012 c1.out\r\n",
        "-rw-r--r-- 1 clyde   71864 Nov 13  2012 c1.outp\r\n",
        "-rw-r--r-- 1 clyde     413 Nov 13  2012 c1.com.bak\r\n",
        "-rwxr-xr-x 1 clyde   71864 Nov 13  2012 \u001b[01;32mc1.coml\u001b[0m*\r\n",
        "-rw-r--r-- 1 clyde   96239 Nov 13  2012 c1.log.html\r\n",
        "-rw-r--r-- 1 clyde   98720 Nov 13  2012 c2.log.html\r\n",
        "-rw-r--r-- 1 clyde  129302 Nov 13  2012 6_6_graphene.log.html\r\n",
        "-rw-r--r-- 1 clyde   29041 Nov 15  2012 \u001b[01;35mconvergence_failure.svg\u001b[0m\r\n",
        "-rw-r--r-- 1 clyde   57180 Nov 15  2012 \u001b[01;35mconvergence_failure.jpg\u001b[0m\r\n",
        "-rw-r--r-- 1 clyde   43487 Nov 15  2012 6_6_graphene_hf_geom.log\r\n",
        "-rw-rw-r-- 1 clyde   43487 Nov 15  2012 6_6_graphene_hf_geom.log.com\r\n",
        "-rwxr-xr-x 1 clyde     429 Nov 15  2012 \u001b[01;32mc1_restart_0.com\u001b[0m*\r\n",
        "-rw-r--r-- 1 clyde  281329 Nov 15  2012 o_sanity_o_sanity_4_4_cent_carbonyl_sym_ts.log\r\n",
        "-rw-r--r-- 1 clyde 2604587 Nov 15  2012 HF_STO3G_HF_STO3G_4_4_edg_carbonyl_ts.log\r\n",
        "drwx------ 2 clyde    4096 Nov 22  2012 \u001b[01;34mxyz_files\u001b[0m/\r\n",
        "-rw-r--r-- 1 clyde      11 Nov 23  2012 test_script.txt\r\n",
        "-rwxr-xr-x 1 clyde     413 Nov 26  2012 \u001b[01;32mc1.com\u001b[0m*\r\n",
        "-rwxr-xr-x 1 clyde    8720 Nov 26  2012 \u001b[01;32m6_6_graphene_test.com\u001b[0m*\r\n",
        "-rwxr-xr-x 1 clyde    8720 Nov 26  2012 \u001b[01;32m6_6_graphene.com\u001b[0m*\r\n",
        "-rw-r--r-- 1 clyde  114033 Nov 26  2012 6_6_graphene_test.log\r\n",
        "-rw-rw-r-- 1 clyde  114028 Nov 26  2012 6_6_graphene.log.com\r\n",
        "-rw-r--r-- 1 clyde  114028 Nov 26  2012 6_6_graphene.log\r\n",
        "-rwxr-xr-x 1 clyde      94 Nov 26  2012 \u001b[01;32mc1_restart_2.com\u001b[0m*\r\n",
        "-rwxr-xr-x 1 clyde     485 Nov 30  2012 \u001b[01;32mc1_freq_freq_restart_2.com\u001b[0m*\r\n",
        "-rw-r--r-- 1 clyde   50513 Nov 30  2012 c1_freq_freq_restart_2.log\r\n",
        "-rwxr-xr-x 1 clyde     490 Nov 30  2012 \u001b[01;32mc1_freq_freq_freq_restart_3.com\u001b[0m*\r\n",
        "-rw-r--r-- 1 clyde       8 Nov 30  2012 new_test.txt\r\n",
        "-rw-r--r-- 1 clyde      23 Nov 30  2012 jobman__built-in function id_.txt\r\n",
        "-rw-rw-r-- 1 clyde      23 Nov 30  2012 jobman_<built-in function id>.txt\r\n",
        "-rw-r--r-- 1 clyde     157 Nov 30  2012 jobman_3039098.txt\r\n",
        "-rwxr-xr-x 1 clyde     470 Nov 30  2012 \u001b[01;32mc1_freq_restart_1.com\u001b[0m*\r\n",
        "-rw-rw-r-- 1 clyde   68983 Nov 30  2012 c1.log.com\r\n",
        "-rw-r--r-- 1 clyde     157 Nov 30  2012 jobman_3039205.txt\r\n",
        "-rw-r--r-- 1 clyde   50883 Nov 30  2012 c1_freq_restart_1.log\r\n",
        "drwx------ 2 clyde    4096 Nov 30  2012 \u001b[01;34mgausssum2.2\u001b[0m/\r\n",
        "-rw-r--r-- 1 clyde     616 Dec  3  2012 test.xyz\r\n",
        "-rw-r--r-- 1 clyde   23417 Dec  3  2012 \u001b[01;35mfigure_1.png\u001b[0m\r\n",
        "-rw-r--r-- 1 clyde   22622 Dec  3  2012 \u001b[01;35mfigure_1.jpg\u001b[0m\r\n",
        "-rw-r--r-- 1 clyde   20506 Dec  3  2012 \u001b[01;35mtest.png\u001b[0m\r\n",
        "-rwxr-xr-x 1 clyde     125 Jan  3  2013 \u001b[01;32mc1_restart_1.com\u001b[0m*\r\n",
        "-rw-r--r-- 1 clyde    5456 Feb 28  2013 test_pick.pkl\r\n",
        "-rw-r--r-- 1 clyde      24 Mar  4  2013 temp_pckl\r\n",
        "-rw-r--r-- 1 clyde      42 Mar  4  2013 temp_kwargs_pckl\r\n",
        "-rw-r--r-- 1 clyde      55 Mar  4  2013 temp_args_pckl\r\n",
        "-rw-r--r-- 1 clyde     355 Mar  4  2013 run_script\r\n",
        "-rw-r--r-- 1 clyde    4456 Mar  4  2013 func_pckl\r\n",
        "-rw-r--r-- 1 clyde       6 Mar  4  2013 func_kwargs_pckl\r\n",
        "-rw-r--r-- 1 clyde       3 Mar  4  2013 func_args_pckl\r\n",
        "-rwxr-xr-x 1 clyde     643 Mar  4  2013 \u001b[01;32mc2.com\u001b[0m*\r\n",
        "-rw-rw-r-- 1 clyde   26797 Mar  4  2013 c2.log.com\r\n",
        "-rw-r--r-- 1 clyde   26797 Dec 10  2013 c2.log\r\n",
        "-rwxr-xr-x 1 clyde      57 Jul 16  2014 \u001b[01;32mc1.com.com\u001b[0m*\r\n",
        "-rwxr-xr-x 1 clyde     415 Jul 17  2014 \u001b[01;32mg09.com\u001b[0m*\r\n",
        "-rw-r--r-- 1 clyde   27872 Jul 17  2014 g09.log\r\n",
        "-rw-r--r-- 1 clyde   18443 Jul 17  2014 test_cas_new_gauss.log\r\n",
        "-rwxr-xr-x 1 clyde     441 Jul 17  2014 \u001b[01;32mtest_cas_new_gauss.com\u001b[0m*\r\n",
        "-rw-r--r-- 1 clyde     622 Jul 17  2014 benzene.xyz\r\n",
        "-rwxr-xr-x 1 clyde     399 Jul 17  2014 \u001b[01;32mbutadiene_cas.com\u001b[0m*\r\n",
        "-rw-r--r-- 1 clyde     724 Jul 17  2014 temp_atoms.xyz\r\n",
        "-rw-r--r-- 1 clyde   11211 Jul 17  2014 butadiene_cas.log\r\n",
        "-rwxr-xr-x 1 clyde     928 Jul 17  2014 \u001b[01;32mbutadiene_cas_v2.com\u001b[0m*\r\n",
        "-rw-r--r-- 1 clyde  954368 Jul 17  2014 cas_gs.chk\r\n",
        "-rw-r--r-- 1 clyde   76209 Jul 17  2014 butadiene_cas_v2.log\r\n",
        "-rwxr-xr-x 1 clyde     410 Dec  3 15:11 \u001b[01;32mtest_local_gauss_v2.com\u001b[0m*\r\n",
        "-rw-r--r-- 1 clyde   28816 Dec  3 15:11 test_local_gauss_v2.log\r\n",
        "-rw-rw-r-- 1 clyde     419 Jan 20 17:33 Gau-3713.inp\r\n",
        "-rw-rw-r-- 1 clyde     419 Jan 20 17:36 Gau-3960.inp\r\n",
        "-rw-rw-r-- 1 clyde     419 Jan 20 17:36 Gau-3969.inp\r\n",
        "-rw-rw-r-- 1 clyde     419 Jan 20 19:29 Gau-7233.inp\r\n",
        "-rw-rw-r-- 1 clyde     419 Jan 20 19:29 Gau-7249.inp\r\n",
        "-rw-rw-r-- 1 clyde       0 Jan 20 19:29 Gau-7252.inp\r\n",
        "-rw-rw-r-- 1 clyde     419 Jan 20 19:30 Gau-7282.inp\r\n",
        "-rw-rw-r-- 1 clyde     419 Jan 20 19:31 Gau-7288.inp\r\n",
        "-rw-rw-r-- 1 clyde     417 Jan 20 19:31 Gau-7295.inp\r\n",
        "-rw-rw-r-- 1 clyde     417 Jan 20 19:31 Gau-7308.inp\r\n",
        "-rw-rw-r-- 1 clyde     417 Jan 20 19:32 Gau-7320.inp\r\n",
        "-rw-r--r-- 1 root      417 Jan 20 19:37 Gau-7534.inp\r\n",
        "-rw-r--r-- 1 clyde     154 Jan 20 19:37 c1.log\r\n",
        "-rwxr-xr-x 1 clyde     415 Mar 28 21:52 \u001b[01;32mtest_local_gauss.com\u001b[0m*\r\n",
        "-rw-r--r-- 1 clyde   28049 Mar 28 21:53 test_local_gauss.log\r\n"
       ]
      }
     ],
     "prompt_number": 4
    },
    {
     "cell_type": "code",
     "collapsed": false,
     "input": [
      "view_ipython_jmol('c1.log')"
     ],
     "language": "python",
     "metadata": {},
     "outputs": [
      {
       "html": [
        "<div style=float:left><div id='applet_div_id_2110792515098'></div></div>\n",
        "<script type=\"text/Javascript\">//initialisation\n",
        "    var Info = {\n",
        "        color: \"#FFFFFF\",\n",
        "        width: 300,\n",
        "        height: 300,\n",
        "        serverURL: \"/nbextensions/jsmol/jsmol.php \",\n",
        "        use: \"HTML5\",\n",
        "        j2sPath: \"/nbextensions/jsmol/j2s\",\n",
        "        console: \"jmolApplet0_infodiv\"\n",
        "    }\n",
        "    //prevent applet from immediately generating html - allows us to place the applet in the div we wish\n",
        "    Jmol.setDocument(0)\n",
        "    //start applet\n",
        "    applet_id_2110792515098 = Jmol.getApplet(\"applet_id_2110792515098\", Info)\n",
        "    //insert applet html into applet_div_id_2110792515098\n",
        "    $(\"#applet_div_id_2110792515098\").html(Jmol.getAppletHtml(applet_id_2110792515098))\n",
        "    //execute scripts\n",
        "    Jmol.script(applet_id_2110792515098,\"load test_resources/c1.log; select all; set echo echoname 50% 90%; font echo 15; echo c1;; set frank off; sync . SLAVE;\")</script>"
       ],
       "metadata": {},
       "output_type": "pyout",
       "prompt_number": 3,
       "text": [
        "<IPython.core.display.HTML at 0x7f7627542910>"
       ]
      }
     ],
     "prompt_number": 3
    },
    {
     "cell_type": "code",
     "collapsed": false,
     "input": [
      "test.calc.parameters"
     ],
     "language": "python",
     "metadata": {},
     "outputs": [
      {
       "metadata": {},
       "output_type": "pyout",
       "prompt_number": 4,
       "text": [
        "{'basis': 'STO-3G',\n",
        " 'charge': 0,\n",
        " 'force': 'force',\n",
        " 'method': 'HF',\n",
        " 'multiplicity': 1}"
       ]
      }
     ],
     "prompt_number": 4
    },
    {
     "cell_type": "code",
     "collapsed": false,
     "input": [
      "test.calc.atoms"
     ],
     "language": "python",
     "metadata": {},
     "outputs": [
      {
       "metadata": {},
       "output_type": "pyout",
       "prompt_number": 5,
       "text": [
        "Atoms(symbols='CH4', positions=..., cell=[1.0, 1.0, 1.0], pbc=[False, False, False], calculator=Gaussian(...))"
       ]
      }
     ],
     "prompt_number": 5
    },
    {
     "cell_type": "code",
     "collapsed": false,
     "input": [
      "test.calc.results"
     ],
     "language": "python",
     "metadata": {},
     "outputs": [
      {
       "metadata": {},
       "output_type": "pyout",
       "prompt_number": 6,
       "text": [
        "{'dipole': [0.0, 9e-07, 2e-07],\n",
        " 'energy': -1081.007479463631,\n",
        " 'forces': array([[  2.34484688e-05,   1.12254402e-04,  -5.84154837e-05],\n",
        "        [  6.18436961e-01,  -1.45524488e-05,   4.81824896e-05],\n",
        "        [ -2.06175547e-01,   1.75496414e-01,  -5.55987415e-01],\n",
        "        [ -2.06122531e-01,   3.93783301e-01,   4.30084976e-01],\n",
        "        [ -2.06162332e-01,  -5.69377417e-01,   1.25912673e-01]])}"
       ]
      }
     ],
     "prompt_number": 6
    },
    {
     "cell_type": "code",
     "collapsed": false,
     "input": [
      "test2=read('c1.com')\n",
      "test2.set_calculator(Gaussian(label='test_local_gauss_v2', method='PM6', basis=''))\n",
      "test2.get_potential_energy()"
     ],
     "language": "python",
     "metadata": {},
     "outputs": [
      {
       "metadata": {},
       "output_type": "pyout",
       "prompt_number": 7,
       "text": [
        "-0.5203335865852364"
       ]
      }
     ],
     "prompt_number": 7
    },
    {
     "cell_type": "code",
     "collapsed": false,
     "input": [
      "from gausspy_v2.gaussian_new import Extended_Gaussian"
     ],
     "language": "python",
     "metadata": {},
     "outputs": [],
     "prompt_number": 8
    },
    {
     "cell_type": "code",
     "collapsed": false,
     "input": [
      "test3=read('butadiene_cas.com')\n",
      "test3.set_calculator(Extended_Gaussian(label='test_cas_new_gauss', method='HF', basis='3-21G'))\n",
      "test3.calc.restart(method='CAS(4,4,nroot=3,stateaverage)')\n",
      "test3.calc.set_state_weights([0.3333333, 0.3333333, 0.3333333])\n",
      "test3.calc.set_orbital_swaps([17,18,19,20,21], [18,29,31,32,35])\n",
      "#test3.get_potential_energy()"
     ],
     "language": "python",
     "metadata": {},
     "outputs": [
      {
       "ename": "AttributeError",
       "evalue": "Extended_Gaussian instance has no attribute 'restart'",
       "output_type": "pyerr",
       "traceback": [
        "\u001b[1;31m---------------------------------------------------------------------------\u001b[0m\n\u001b[1;31mAttributeError\u001b[0m                            Traceback (most recent call last)",
        "\u001b[1;32m<ipython-input-11-8043a5cef884>\u001b[0m in \u001b[0;36m<module>\u001b[1;34m()\u001b[0m\n\u001b[0;32m      1\u001b[0m \u001b[0mtest3\u001b[0m\u001b[1;33m=\u001b[0m\u001b[0mread\u001b[0m\u001b[1;33m(\u001b[0m\u001b[1;34m'butadiene_cas.com'\u001b[0m\u001b[1;33m)\u001b[0m\u001b[1;33m\u001b[0m\u001b[0m\n\u001b[0;32m      2\u001b[0m \u001b[0mtest3\u001b[0m\u001b[1;33m.\u001b[0m\u001b[0mset_calculator\u001b[0m\u001b[1;33m(\u001b[0m\u001b[0mExtended_Gaussian\u001b[0m\u001b[1;33m(\u001b[0m\u001b[0mlabel\u001b[0m\u001b[1;33m=\u001b[0m\u001b[1;34m'test_cas_new_gauss'\u001b[0m\u001b[1;33m,\u001b[0m \u001b[0mmethod\u001b[0m\u001b[1;33m=\u001b[0m\u001b[1;34m'HF'\u001b[0m\u001b[1;33m,\u001b[0m \u001b[0mbasis\u001b[0m\u001b[1;33m=\u001b[0m\u001b[1;34m'3-21G'\u001b[0m\u001b[1;33m)\u001b[0m\u001b[1;33m)\u001b[0m\u001b[1;33m\u001b[0m\u001b[0m\n\u001b[1;32m----> 3\u001b[1;33m \u001b[0mtest3\u001b[0m\u001b[1;33m.\u001b[0m\u001b[0mcalc\u001b[0m\u001b[1;33m.\u001b[0m\u001b[0mrestart\u001b[0m\u001b[1;33m(\u001b[0m\u001b[0mmethod\u001b[0m\u001b[1;33m=\u001b[0m\u001b[1;34m'CAS(4,4,nroot=3,stateaverage)'\u001b[0m\u001b[1;33m)\u001b[0m\u001b[1;33m\u001b[0m\u001b[0m\n\u001b[0m\u001b[0;32m      4\u001b[0m \u001b[0mtest3\u001b[0m\u001b[1;33m.\u001b[0m\u001b[0mcalc\u001b[0m\u001b[1;33m.\u001b[0m\u001b[0mset_state_weights\u001b[0m\u001b[1;33m(\u001b[0m\u001b[1;33m[\u001b[0m\u001b[1;36m0.3333333\u001b[0m\u001b[1;33m,\u001b[0m \u001b[1;36m0.3333333\u001b[0m\u001b[1;33m,\u001b[0m \u001b[1;36m0.3333333\u001b[0m\u001b[1;33m]\u001b[0m\u001b[1;33m)\u001b[0m\u001b[1;33m\u001b[0m\u001b[0m\n\u001b[0;32m      5\u001b[0m \u001b[0mtest3\u001b[0m\u001b[1;33m.\u001b[0m\u001b[0mcalc\u001b[0m\u001b[1;33m.\u001b[0m\u001b[0mset_orbital_swaps\u001b[0m\u001b[1;33m(\u001b[0m\u001b[1;33m[\u001b[0m\u001b[1;36m17\u001b[0m\u001b[1;33m,\u001b[0m\u001b[1;36m18\u001b[0m\u001b[1;33m,\u001b[0m\u001b[1;36m19\u001b[0m\u001b[1;33m,\u001b[0m\u001b[1;36m20\u001b[0m\u001b[1;33m,\u001b[0m\u001b[1;36m21\u001b[0m\u001b[1;33m]\u001b[0m\u001b[1;33m,\u001b[0m \u001b[1;33m[\u001b[0m\u001b[1;36m18\u001b[0m\u001b[1;33m,\u001b[0m\u001b[1;36m29\u001b[0m\u001b[1;33m,\u001b[0m\u001b[1;36m31\u001b[0m\u001b[1;33m,\u001b[0m\u001b[1;36m32\u001b[0m\u001b[1;33m,\u001b[0m\u001b[1;36m35\u001b[0m\u001b[1;33m]\u001b[0m\u001b[1;33m)\u001b[0m\u001b[1;33m\u001b[0m\u001b[0m\n",
        "\u001b[1;31mAttributeError\u001b[0m: Extended_Gaussian instance has no attribute 'restart'"
       ]
      }
     ],
     "prompt_number": 11
    },
    {
     "cell_type": "code",
     "collapsed": false,
     "input": [],
     "language": "python",
     "metadata": {},
     "outputs": []
    }
   ],
   "metadata": {}
  }
 ]
}