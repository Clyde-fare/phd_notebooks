{
 "metadata": {
  "name": ""
 },
 "nbformat": 3,
 "nbformat_minor": 0,
 "worksheets": [
  {
   "cells": [
    {
     "cell_type": "code",
     "collapsed": false,
     "input": [
      "from ase.io import read\n",
      "from ase.calculators.gaussian import Gaussian\n",
      "from ase.visualize import view\n",
      "from ASE_utils import *\n",
      "from cc_notebook_utils import *\n",
      "import cc_notebook_utils"
     ],
     "language": "python",
     "metadata": {},
     "outputs": [],
     "prompt_number": 20
    },
    {
     "cell_type": "code",
     "collapsed": false,
     "input": [
      "cd oniom_test"
     ],
     "language": "python",
     "metadata": {},
     "outputs": [
      {
       "output_type": "stream",
       "stream": "stdout",
       "text": [
        "/home/clyde/Dropbox/Project Stuff/Notebooks/test_cases/oniom_test\n"
       ]
      }
     ],
     "prompt_number": 2
    },
    {
     "cell_type": "code",
     "collapsed": false,
     "input": [
      "#we will load from a previous calculation on a 4_4 graphene cluster\n",
      "graph_4_4 = read('B3LYP_631Gd_HF_STO3G_4_4_graphene.log')"
     ],
     "language": "python",
     "metadata": {},
     "outputs": [],
     "prompt_number": 3
    },
    {
     "cell_type": "code",
     "collapsed": false,
     "input": [
      "#view(graph_4_4,viewer='avogadro')"
     ],
     "language": "python",
     "metadata": {},
     "outputs": [],
     "prompt_number": 4
    },
    {
     "cell_type": "markdown",
     "metadata": {},
     "source": [
      "We can run Oniom calculations using the indices to indicated the relevant atoms:"
     ]
    },
    {
     "cell_type": "code",
     "collapsed": false,
     "input": [
      "graph_4_4 = read('B3LYP_631Gd_HF_STO3G_4_4_graphene.log')\n",
      "graph_4_4_H = [27,28]\n",
      "#graph_4_4_M = [11,26,14,29,12,13,15,31,30,41,40,25,24,10]\n",
      "graph_4_4_mults = [1,1,1]\n",
      "\n",
      "name = 'Oniom2233_NA_4_4_graphene'\n",
      "graph_4_4.set_calculator(Gaussian(label=name, method='oniom(b3lyp/6-31g(d):am1)',basis='oniom'))\n",
      "graph_4_4.calc.oniom_coord_params['layers'] = [graph_4_4_H]\n",
      "graph_4_4.calc.oniom_coord_params['layer_mults'] = graph_4_4_mults\n",
      "graph_4_4.calc.set_job(nodes=8, memory=1400*8, time=5, queue='pqmb')\n",
      "#graph_4_4.calc.start(frc=True)"
     ],
     "language": "python",
     "metadata": {},
     "outputs": [],
     "prompt_number": 5
    },
    {
     "cell_type": "code",
     "collapsed": false,
     "input": [
      "graph_4_4.calc.active"
     ],
     "language": "python",
     "metadata": {},
     "outputs": [
      {
       "metadata": {},
       "output_type": "pyout",
       "prompt_number": 6,
       "text": [
        "True"
       ]
      }
     ],
     "prompt_number": 6
    },
    {
     "cell_type": "code",
     "collapsed": false,
     "input": [
      "graph_4_4.calc.job"
     ],
     "language": "python",
     "metadata": {},
     "outputs": [
      {
       "metadata": {},
       "output_type": "pyout",
       "prompt_number": 9,
       "text": [
        "True"
       ]
      }
     ],
     "prompt_number": 9
    },
    {
     "cell_type": "code",
     "collapsed": false,
     "input": [
      "graph_4_4.calc.job_params"
     ],
     "language": "python",
     "metadata": {},
     "outputs": [
      {
       "metadata": {},
       "output_type": "pyout",
       "prompt_number": 10,
       "text": [
        "{'memory': 11200,\n",
        " 'nodes': 8,\n",
        " 'qid': None,\n",
        " 'queue': 'pqmb',\n",
        " 'time': 5,\n",
        " 'version': 'direct_g09'}"
       ]
      }
     ],
     "prompt_number": 10
    },
    {
     "cell_type": "code",
     "collapsed": false,
     "input": [
      "check_calcs([graph_4_4])\n",
      "mols_to_html([graph_4_4])"
     ],
     "language": "python",
     "metadata": {},
     "outputs": [
      {
       "html": [
        "\n",
        "           <script type=\"text/javascript\">\n",
        "           function view_function (event, file_n) {\n",
        "               if (event.ctrlKey && event.shiftKey){\n",
        "                   IPython.notebook.kernel.execute(\"cc_notebook_utils.pygview('\" + file_n + \".log')\");\n",
        "               }\n",
        "               else if (event.ctrlKey){\n",
        "                   IPython.notebook.kernel.execute(\"cc_notebook_utils.pygausssum('\" + file_n + \".log')\");\n",
        "               }\n",
        "               else if (event.shiftKey){\n",
        "                   IPython.notebook.kernel.execute(\"cc_notebook_utils.pyvogadro('\" + file_n + \".log')\");\n",
        "               }\n",
        "               else {\n",
        "                   IPython.notebook.kernel.execute(\"cc_notebook_utils.pyvim('\" + file_n + \".log')\");\n",
        "                   IPython.notebook.kernel.execute(\"print(file_n)\");\n",
        "               }\n",
        "           }\n",
        "           </script>\n",
        "    <style>\n",
        "    table\n",
        "    {\n",
        "        border-collapse:collapse;\n",
        "    }\n",
        "    td\n",
        "    {\n",
        "        padding:15px;\n",
        "    }\n",
        "    </style>\n",
        "    <body>\n",
        "    <table bgcolor=\"white\">\n",
        "    <col/><tr><td>Oniom2233_NA_4_4_graphene</td><td><a href = \"files/test_cases/oniom_test/Oniom2233_NA_4_4_graphene.com\" target = \"_blank\">com</a></td><td><input type=\"button\" value=\"Smart Log\" id=\"Oniom2233_NA_4_4_graphene\" onclick=\"view_function(event, this.id)\" /></td><td>Success</td></tr>\n",
        "    </table>\n",
        "    </body>"
       ],
       "metadata": {},
       "output_type": "pyout",
       "prompt_number": 11,
       "text": [
        "<IPython.core.display.HTML at 0x4126950>"
       ]
      }
     ],
     "prompt_number": 11
    },
    {
     "cell_type": "markdown",
     "metadata": {},
     "source": [
      "Or we can use molecular fragments that map 'exactly' (positions match with a floating point tolerance set in ase.atoms.py) onto tbe full molecule. The example illustrate two different ways to construct a molecular fragment - cutting one out from the original molecule, and loading from an xyz."
     ]
    },
    {
     "cell_type": "code",
     "collapsed": false,
     "input": [
      "from ASE_utils import multicut, cut\n",
      "#full molecule\n",
      "graph_4_4 = read('B3LYP_631Gd_HF_STO3G_4_4_graphene.log')\n",
      "\n",
      "#define the high accuracy region by cutting out the two centre atoms\n",
      "cut1, cut2, cut3, cut4 = [14, 29, 0.1], [29, 14, 0.1], [14, 11, 0.1], [11, 14, 0.1]\n",
      "graph_4_4_H = multicut(graph_4_4, *zip(cut1,cut2,cut3,cut4))\n",
      "\n",
      "#define the medium accuracy region by loading a previously defined xyz fragment\n",
      "#care must be taken if using a fragment xyz that truly matches part of the total molecule (e.g. editing in avogadro can slightly shift coordinates breaking the match \n",
      "#editing in ag seems to work ok)\n",
      "graph_4_4_M = read('xyz_files/4_4_graph_frag.xyz') - graph_4_4_H\n",
      "graph_4_4_mults = [1,1,1]\n",
      "\n",
      "name = 'Oniom2233_v2_NA_4_4_graphene'\n",
      "graph_4_4.set_calculator(Gaussian(label=name, method='oniom(b3lyp/6-31g(d):hf/sto-3g:am1)',basis='oniom'))\n",
      "graph_4_4.calc.oniom_coord_params['layers'] = [graph_4_4_H, graph_4_4_M]\n",
      "graph_4_4.calc.oniom_coord_params['layer_mults'] = graph_4_4_mults\n",
      "#graph_4_4.get_potential_energy()"
     ],
     "language": "python",
     "metadata": {},
     "outputs": [],
     "prompt_number": 13
    },
    {
     "cell_type": "code",
     "collapsed": false,
     "input": [
      "check_calcs([graph_4_4])\n",
      "mols_to_html([graph_4_4])"
     ],
     "language": "python",
     "metadata": {},
     "outputs": [
      {
       "html": [
        "\n",
        "           <script type=\"text/javascript\">\n",
        "           function view_function (event, file_n) {\n",
        "               if (event.ctrlKey && event.shiftKey){\n",
        "                   IPython.notebook.kernel.execute(\"cc_notebook_utils.pygview('\" + file_n + \".log')\");\n",
        "               }\n",
        "               else if (event.ctrlKey){\n",
        "                   IPython.notebook.kernel.execute(\"cc_notebook_utils.pygausssum('\" + file_n + \".log')\");\n",
        "               }\n",
        "               else if (event.shiftKey){\n",
        "                   IPython.notebook.kernel.execute(\"cc_notebook_utils.pyvogadro('\" + file_n + \".log')\");\n",
        "               }\n",
        "               else {\n",
        "                   IPython.notebook.kernel.execute(\"cc_notebook_utils.pyvim('\" + file_n + \".log')\");\n",
        "                   IPython.notebook.kernel.execute(\"print(file_n)\");\n",
        "               }\n",
        "           }\n",
        "           </script>\n",
        "    <style>\n",
        "    table\n",
        "    {\n",
        "        border-collapse:collapse;\n",
        "    }\n",
        "    td\n",
        "    {\n",
        "        padding:15px;\n",
        "    }\n",
        "    </style>\n",
        "    <body>\n",
        "    <table bgcolor=\"white\">\n",
        "    <col/><tr><td>Oniom2233_v2_NA_4_4_graphene</td><td><a href = \"files/test_cases/oniom_test/Oniom2233_v2_NA_4_4_graphene.com\" target = \"_blank\">com</a></td><td><input type=\"button\" value=\"Smart Log\" id=\"Oniom2233_v2_NA_4_4_graphene\" onclick=\"view_function(event, this.id)\" /></td><td>Success</td></tr>\n",
        "    </table>\n",
        "    </body>"
       ],
       "metadata": {},
       "output_type": "pyout",
       "prompt_number": 14,
       "text": [
        "<IPython.core.display.HTML at 0x44d74d0>"
       ]
      }
     ],
     "prompt_number": 14
    },
    {
     "cell_type": "markdown",
     "metadata": {},
     "source": [
      "Here we are going to test oniom within the development release, as it seems to produce an error 'NInts<0 in InToWP' if uff is used for the low-level. So will use g09 rev C, the latest development release and release gdvh23:\n",
      "(Note **bug now fixed**)"
     ]
    },
    {
     "cell_type": "code",
     "collapsed": false,
     "input": [
      "azo_44_ts_xyz = '../../cycloadd_oniom/oniom_xyz_files/non_oniom_ts/B3LYP_631Gd_B3LYP_631Gd_4_4_cent_azomethine_ts_v2_final.xyz'\n",
      "test_calc_versions = ['g09', 'gdv_latest', 'gdvh23']\n",
      "ylide_atoms = [67,68,69,70,71,72,73,74]\n",
      "graph_atoms = [28,29] #2 C atoms\n",
      "test_calcs = []"
     ],
     "language": "python",
     "metadata": {},
     "outputs": [],
     "prompt_number": 17
    },
    {
     "cell_type": "code",
     "collapsed": false,
     "input": [
      "for i in range(3):\n",
      "    test_calc = read(azo_44_ts_xyz)\n",
      "    test_calc.set_calculator(Gaussian(label=test_calc_versions[i], method='oniom(B3LYP/6-31G(d):uff)', basis='oniom', opt='calcfc, ts, noeigen'))\n",
      "    test_calc_H = ylide_atoms + graph_atoms\n",
      "    test_calc.calc.oniom_coord_params['layers'] = [[no -1 for no in test_calc_H]]\n",
      "    test_calc.calc.oniom_coord_params['layer_mults'] = [1,1]\n",
      "    test_calc.calc.set_job(nodes=8, memory=8*1600, time=8, version=test_calc_versions[i])\n",
      "    #test_calc.get_potential_energy()\n",
      "    test_calcs.append(test_calc)"
     ],
     "language": "python",
     "metadata": {},
     "outputs": [],
     "prompt_number": 18
    },
    {
     "cell_type": "code",
     "collapsed": false,
     "input": [
      "check_calcs(test_calcs)\n",
      "mols_to_html(test_calcs)"
     ],
     "language": "python",
     "metadata": {},
     "outputs": [
      {
       "html": [
        "\n",
        "           <script type=\"text/javascript\">\n",
        "           function view_function (event, file_n) {\n",
        "               if (event.ctrlKey && event.shiftKey){\n",
        "                   IPython.notebook.kernel.execute(\"cc_notebook_utils.pygview('\" + file_n + \".log')\");\n",
        "               }\n",
        "               else if (event.ctrlKey){\n",
        "                   IPython.notebook.kernel.execute(\"cc_notebook_utils.pygausssum('\" + file_n + \".log')\");\n",
        "               }\n",
        "               else if (event.shiftKey){\n",
        "                   IPython.notebook.kernel.execute(\"cc_notebook_utils.pyvogadro('\" + file_n + \".log')\");\n",
        "               }\n",
        "               else {\n",
        "                   IPython.notebook.kernel.execute(\"cc_notebook_utils.pyvim('\" + file_n + \".log')\");\n",
        "                   IPython.notebook.kernel.execute(\"print(file_n)\");\n",
        "               }\n",
        "           }\n",
        "           </script>\n",
        "    <style>\n",
        "    table\n",
        "    {\n",
        "        border-collapse:collapse;\n",
        "    }\n",
        "    td\n",
        "    {\n",
        "        padding:15px;\n",
        "    }\n",
        "    </style>\n",
        "    <body>\n",
        "    <table bgcolor=\"white\">\n",
        "    <col/><tr><td>g09</td><td><a href = \"files/test_cases/oniom_test/g09.com\" target = \"_blank\">com</a></td><td><input type=\"button\" value=\"Smart Log\" id=\"g09\" onclick=\"view_function(event, this.id)\" /></td><td>Error: </td></tr><tr><td>gdv_latest</td><td><a href = \"files/test_cases/oniom_test/gdv_latest.com\" target = \"_blank\">com</a></td><td><input type=\"button\" value=\"Smart Log\" id=\"gdv_latest\" onclick=\"view_function(event, this.id)\" /></td><td>Error: NInts<0 in InToWP.</td></tr><tr><td>gdvh23</td><td><a href = \"files/test_cases/oniom_test/gdvh23.com\" target = \"_blank\">com</a></td><td><input type=\"button\" value=\"Smart Log\" id=\"gdvh23\" onclick=\"view_function(event, this.id)\" /></td><td>Error: </td></tr>\n",
        "    </table>\n",
        "    </body>"
       ],
       "metadata": {},
       "output_type": "pyout",
       "prompt_number": 19,
       "text": [
        "<IPython.core.display.HTML at 0x41dd590>"
       ]
      }
     ],
     "prompt_number": 19
    }
   ],
   "metadata": {}
  }
 ]
}