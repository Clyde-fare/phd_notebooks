{
 "cells": [
  {
   "cell_type": "code",
   "execution_count": 1,
   "metadata": {
    "collapsed": false
   },
   "outputs": [
    {
     "name": "stderr",
     "output_type": "stream",
     "text": [
      "WARNING:root:libint extension not found, switching to normal ERI computation\n"
     ]
    }
   ],
   "source": [
    "from ase.io import read\n",
    "from gausspy import Gaussian\n",
    "from ase.visualize import view\n",
    "from ASE_extensions.ASE_utils import *\n",
    "from cc_notebook.cc_notebook_utils import *\n",
    "import cc_notebook.cc_notebook_utils"
   ]
  },
  {
   "cell_type": "code",
   "execution_count": 2,
   "metadata": {
    "collapsed": false
   },
   "outputs": [
    {
     "name": "stdout",
     "output_type": "stream",
     "text": [
      "/home/clyde/Dropbox/Project Stuff/Notebooks/test_cases/oniom_test\n"
     ]
    }
   ],
   "source": [
    "cd oniom_test"
   ]
  },
  {
   "cell_type": "code",
   "execution_count": 3,
   "metadata": {
    "collapsed": false
   },
   "outputs": [],
   "source": [
    "#we will load from a previous calculation on a 4_4 graphene cluster\n",
    "graph_4_4 = read('B3LYP_631Gd_HF_STO3G_4_4_graphene.log')"
   ]
  },
  {
   "cell_type": "code",
   "execution_count": 4,
   "metadata": {
    "collapsed": false
   },
   "outputs": [],
   "source": [
    "#view(graph_4_4,viewer='avogadro')"
   ]
  },
  {
   "cell_type": "markdown",
   "metadata": {},
   "source": [
    "We can run Oniom calculations using the indices to indicated the relevant atoms:"
   ]
  },
  {
   "cell_type": "code",
   "execution_count": 5,
   "metadata": {
    "collapsed": false
   },
   "outputs": [],
   "source": [
    "graph_4_4 = read('B3LYP_631Gd_HF_STO3G_4_4_graphene.log')\n",
    "graph_4_4_H = [27,28]\n",
    "#graph_4_4_M = [11,26,14,29,12,13,15,31,30,41,40,25,24,10]\n",
    "graph_4_4_mults = [1,1,1]\n",
    "\n",
    "name = 'Oniom2233_NA_4_4_graphene'\n",
    "graph_4_4.set_calculator(Gaussian(label=name, method='oniom(b3lyp/6-31g(d):am1)',basis='oniom'))\n",
    "graph_4_4.calc.oniom_coord_params['layers'] = [graph_4_4_H]\n",
    "graph_4_4.calc.oniom_coord_params['layer_mults'] = graph_4_4_mults\n",
    "graph_4_4.calc.set_job(nodes=8, memory=1400*8, time=5, queue='pqmb', version='g09')\n",
    "#graph_4_4.calc.start(frc=True)"
   ]
  },
  {
   "cell_type": "code",
   "execution_count": 6,
   "metadata": {
    "collapsed": false
   },
   "outputs": [
    {
     "data": {
      "text/plain": [
       "True"
      ]
     },
     "execution_count": 6,
     "metadata": {},
     "output_type": "execute_result"
    }
   ],
   "source": [
    "graph_4_4.calc.job"
   ]
  },
  {
   "cell_type": "code",
   "execution_count": 13,
   "metadata": {
    "collapsed": false
   },
   "outputs": [
    {
     "name": "stdout",
     "output_type": "stream",
     "text": [
      "B3LYP_631Gd_HF_STO3G_4_4_graphene.log  Oniom2233_v2_NA_4_4_graphene.com\r\n",
      "g09.com                                Oniom2233_v2_NA_4_4_graphene.log\r\n",
      "g09.log                                Oniom22_NA_4_4_graphene.com\r\n",
      "gdvh23.com                             Oniom22_NA_4_4_graphene.log\r\n",
      "gdvh23.log                             prev.log\r\n",
      "gdv_latest.com                         qm_part.xyz\r\n",
      "gdv_latest.log                         temp_atoms_0.xyz\r\n",
      "Oniom2233_NA_4_4_graphene.com          \u001b[0m\u001b[01;34mxyz_files\u001b[0m/\r\n",
      "Oniom2233_NA_4_4_graphene.log\r\n"
     ]
    }
   ],
   "source": [
    "ls"
   ]
  },
  {
   "cell_type": "code",
   "execution_count": 8,
   "metadata": {
    "collapsed": false
   },
   "outputs": [],
   "source": [
    "#d1=graph_4_4.calc.__getstate__()\n",
    "#graph_4_4.calc.__setstate__(d1)\n",
    "#graph_4_4.calc.__getstate__()\n",
    "#copy.deepcopy(graph_4_4.calc)"
   ]
  },
  {
   "cell_type": "code",
   "execution_count": 9,
   "metadata": {
    "collapsed": false
   },
   "outputs": [
    {
     "data": {
      "text/plain": [
       "{'memory': 11200,\n",
       " 'nodes': 8,\n",
       " 'qid': None,\n",
       " 'queue': 'pqmb',\n",
       " 'time': 5,\n",
       " 'version': 'g09'}"
      ]
     },
     "execution_count": 9,
     "metadata": {},
     "output_type": "execute_result"
    }
   ],
   "source": [
    "graph_4_4.calc.job_params"
   ]
  },
  {
   "cell_type": "code",
   "execution_count": 10,
   "metadata": {
    "collapsed": false
   },
   "outputs": [],
   "source": [
    "#graph_4_4.calc=None"
   ]
  },
  {
   "cell_type": "code",
   "execution_count": 11,
   "metadata": {
    "collapsed": false
   },
   "outputs": [
    {
     "data": {
      "text/plain": [
       "{'_calc_complete': None,\n",
       " '_data': {},\n",
       " '_fchk_data': None,\n",
       " '_fingerprint': None,\n",
       " '_max_data': {},\n",
       " '_notes': None,\n",
       " '_status': None,\n",
       " '_time': None,\n",
       " 'atoms': Atoms(symbols='C48H18', positions=..., cell=[1.0, 1.0, 1.0], pbc=[False, False, False], calculator=SinglePointCalculator(...)),\n",
       " 'base_folder': '/home/clyde/Dropbox/Project Stuff/Notebooks',\n",
       " 'basisfile': None,\n",
       " 'config': <ConfigParser.RawConfigParser instance at 0x7f6252eaaa70>,\n",
       " 'converged': False,\n",
       " 'directory': None,\n",
       " 'extra_dict_params': {'component_configs': {}},\n",
       " 'extra_list_params': {'component_calcs': [],\n",
       "  'original_alpha_orbitals': [],\n",
       "  'original_beta_orbitals': [],\n",
       "  'state_weights': [],\n",
       "  'swapped_alpha_orbitals': [],\n",
       "  'swapped_beta_orbitals': []},\n",
       " 'extra_params': {'extra_input': None,\n",
       "  'gen_fchk': None,\n",
       "  'non_std_route': None,\n",
       "  'raw_input': None},\n",
       " 'ioplist': [],\n",
       " 'job_params': {'memory': 11200,\n",
       "  'nodes': 8,\n",
       "  'qid': None,\n",
       "  'queue': 'pqmb',\n",
       "  'time': 5,\n",
       "  'version': 'g09'},\n",
       " 'label': 'Oniom2233_NA_4_4_graphene',\n",
       " 'link0_int_params': {'nproc': 8, 'nprocshared': None},\n",
       " 'link0_str_params': {'chk': '',\n",
       "  'd2e': '',\n",
       "  'int': '',\n",
       "  'kjob': '',\n",
       "  'lindaworkers': '',\n",
       "  'mem': '11200MB',\n",
       "  'nosave': '',\n",
       "  'oldchk': '',\n",
       "  'rwf': '',\n",
       "  'save': '',\n",
       "  'subst': ''},\n",
       " 'multiplicity': 1,\n",
       " 'old_basisfile': None,\n",
       " 'old_ioplist': None,\n",
       " 'old_label': None,\n",
       " 'old_link0_int_params': None,\n",
       " 'old_link0_str_params': None,\n",
       " 'old_positions': None,\n",
       " 'old_route_bool_params': None,\n",
       " 'old_route_float_params': None,\n",
       " 'old_route_int_params': None,\n",
       " 'old_route_self_params': None,\n",
       " 'old_route_str_params': None,\n",
       " 'oniom_coord_params': {'layer_mults': [1, 1, 1],\n",
       "  'layers': [[27, 28]],\n",
       "  'link_connections': None,\n",
       "  'links': None},\n",
       " 'positions': None,\n",
       " 'redundant_coord_params': [],\n",
       " 'route_bool_params': {},\n",
       " 'route_float_params': {'pressure': None, 'scale': None, 'temperature': None},\n",
       " 'route_int_params': {'cachesize': None,\n",
       "  'cbsextrapolate': None,\n",
       "  'constants': None,\n",
       "  'multiplicity': None},\n",
       " 'route_self_params': {'complex': '',\n",
       "  'extrabasis': '',\n",
       "  'fmm': '',\n",
       "  'force': '',\n",
       "  'freq': '',\n",
       "  'genchk': '',\n",
       "  'geom': '',\n",
       "  'nosymmetry': '',\n",
       "  'opt': '',\n",
       "  'polar': '',\n",
       "  'prop': '',\n",
       "  'pseudo': '',\n",
       "  'restart': '',\n",
       "  'scan': '',\n",
       "  'scrf': '',\n",
       "  'sp': '',\n",
       "  'sparse': '',\n",
       "  'stable': '',\n",
       "  'volume': ''},\n",
       " 'route_str_params': {'basis': 'oniom',\n",
       "  'cphf': '',\n",
       "  'density': '',\n",
       "  'densityfit': '',\n",
       "  'ept': '',\n",
       "  'field': '',\n",
       "  'functional': '',\n",
       "  'guess': '',\n",
       "  'gvb': '',\n",
       "  'integral': '',\n",
       "  'irc': '',\n",
       "  'ircmax': '',\n",
       "  'maxdisk': '',\n",
       "  'method': 'oniom(b3lyp/6-31g(d):am1)',\n",
       "  'name': '',\n",
       "  'nmr': '',\n",
       "  'nodensityfit': '',\n",
       "  'output': '',\n",
       "  'pop': '',\n",
       "  'punch': '',\n",
       "  'scf': '',\n",
       "  'symmetry': '',\n",
       "  'td': '',\n",
       "  'units': ''},\n",
       " 'scratch_folder': '/work/cjf05/ASE_notebooks'}"
      ]
     },
     "execution_count": 11,
     "metadata": {},
     "output_type": "execute_result"
    }
   ],
   "source": [
    "graph_4_4.calc.__dict__"
   ]
  },
  {
   "cell_type": "code",
   "execution_count": 14,
   "metadata": {
    "collapsed": false
   },
   "outputs": [
    {
     "data": {
      "text/html": [
       "<div style=float:left><div id='applet_div_id_300193256265'></div></div>\n",
       "<script type=\"text/Javascript\">//initialisation\n",
       "    var Info = {\n",
       "        color: \"#FFFFFF\",\n",
       "        width: 300,\n",
       "        height: 300,\n",
       "        serverURL: \"/static/custom/jsmol/jsmol.php \",\n",
       "        use: \"HTML5\",\n",
       "        j2sPath: \"/static/custom/jsmol/j2s\",\n",
       "        console: \"jmolApplet0_infodiv\"\n",
       "    }\n",
       "    //prevent applet from immediately generating html - allows us to place the applet in the div we wish\n",
       "    Jmol.setDocument(0)\n",
       "    //start applet\n",
       "    applet_id_300193256265 = Jmol.getApplet(\"applet_id_300193256265\", Info)\n",
       "    //insert applet html into applet_div_id_300193256265\n",
       "    $(\"#applet_div_id_300193256265\").html(Jmol.getAppletHtml(applet_id_300193256265))\n",
       "    //execute scripts\n",
       "    Jmol.script(applet_id_300193256265,\"load ../../../../Project/Notebooks/test_cases/oniom_test/Oniom2233_NA_4_4_graphene.log; select all; set echo echoname 50% 90%; font echo 15; echo /home/clyde/Project/Notebooks/test_cases/oniom_test/Oniom2233_NA_4_4_graphene;; set frank off; sync . SLAVE;\")</script>"
      ],
      "text/plain": [
       "<IPython.core.display.HTML at 0x7f6252e93f50>"
      ]
     },
     "execution_count": 14,
     "metadata": {},
     "output_type": "execute_result"
    }
   ],
   "source": [
    "view_ipython_jmol(graph_4_4.calc.log)"
   ]
  },
  {
   "cell_type": "code",
   "execution_count": 19,
   "metadata": {
    "collapsed": false
   },
   "outputs": [
    {
     "data": {
      "text/html": [
       "\n",
       "    <style>\n",
       "    table\n",
       "    {\n",
       "        border-collapse:collapse;\n",
       "    }\n",
       "    td\n",
       "    {\n",
       "        padding:15px;\n",
       "    }\n",
       "    </style>\n",
       "    <body>\n",
       "    <table bgcolor=\"white\">\n",
       "    <col/><tr><td>Oniom2233_NA_4_4_graphene</td><td><input type=\"button\" value=\"Smart Log\" id=\"Oniom2233_NA_4_4_graphene\" onclick=\"IPython.cc_notebook.view_function(event, this.id)\" /></td><td>Success</td></tr>\n",
       "    </table>\n",
       "    </body>"
      ],
      "text/plain": [
       "<IPython.core.display.HTML at 0x7ff9cb2579d0>"
      ]
     },
     "execution_count": 19,
     "metadata": {},
     "output_type": "execute_result"
    }
   ],
   "source": [
    "check_calcs([graph_4_4],frc=True)\n",
    "mols_to_html([graph_4_4])"
   ]
  },
  {
   "cell_type": "code",
   "execution_count": 10,
   "metadata": {
    "collapsed": false
   },
   "outputs": [
    {
     "name": "stdout",
     "output_type": "stream",
     "text": [
      "%mem=11200MB\r\n",
      "%chk=/work/cjf05/ASE_notebooks/test_cases/oniom_test/Oniom2233_NA_4_4_graphene.chk\r\n",
      "%nproc=8\r\n",
      "#p gfprint oniom(b3lyp/6-31g(d):am1) \r\n",
      "\r\n",
      "Gaussian input prepared by ASE\r\n",
      "\r\n",
      "0 1  0 1 \r\n",
      "C         0         0.0000000000       15.4257651251        2.3660368853 L \r\n",
      "C         0         0.0000000000       15.4399858576        2.3618479500 L \r\n",
      "C         0         0.0000000000       16.6956891611        2.3195867221 L \r\n",
      "C         0         0.0000000000       16.6986838066        2.3155584620 L \r\n",
      "C         0         0.0000000000       15.4465288261        2.3530508875 L \r\n",
      "C         0         0.0000000000       15.4383733917        2.3490869530 L \r\n",
      "C         0         0.0000000000       12.8969729314        2.4584041269 L \r\n",
      "C         0         0.0000000000       12.9261641394        2.4536573937 L \r\n",
      "C         0         0.0000000000       14.1620911607        2.4121183436 L \r\n",
      "C         0         0.0000000000       14.1806478338        2.4078667480 L \r\n",
      "C         0         0.0000000000       12.9294474296        2.4458269958 L \r\n",
      "C         0         0.0000000000       12.9356130243        2.4417339585 L \r\n",
      "C         0         0.0000000000       14.1815948926        2.3998075256 L \r\n",
      "C         0         0.0000000000       14.1846935862        2.3956412609 L \r\n",
      "C         0         0.0000000000       12.9420359534        2.4330968556 L \r\n",
      "C         0         0.0000000000       12.9422174935        2.4286548673 L \r\n",
      "C         0         0.0000000000       14.1967670263        2.3861921010 L \r\n",
      "C         0         0.0000000000       14.1843440767        2.3821989618 L \r\n",
      "C         0         0.0000000000       12.9518133728        2.4191732255 L \r\n",
      "C         0         0.0000000000       12.9289539838        2.4154143161 L \r\n",
      "C         0         0.0000000000       11.6920972629        2.4988249240 L \r\n",
      "C         0         0.0000000000       10.4903131898        2.5352327345 L \r\n",
      "C         0         0.0000000000       10.4674773280        2.5321538097 L \r\n",
      "C         0         0.0000000000       11.6984305985        2.4909384580 L \r\n",
      "C         0         0.0000000000       11.7016838348        2.4869565790 L H    28\r\n",
      "C         0         0.0000000000       10.4771198504        2.5241590218 L \r\n",
      "C         0         0.0000000000       10.4773199824        2.5202889204 L \r\n",
      "C         0         0.0000000000       11.7080713901        2.4789383283 H \r\n",
      "C         0         0.0000000000       11.7112937874        2.4746042290 H \r\n",
      "C         0         0.0000000000       10.4837428749        2.5116503420 L \r\n",
      "C         0         0.0000000000       10.4898898132        2.5069849439 L \r\n",
      "C         0         0.0000000000       11.7176472014        2.4654893453 L H    29\r\n",
      "C         0         0.0000000000       11.7208763135        2.4607575456 L \r\n",
      "C         0         0.0000000000       10.4931264029        2.4976671684 L \r\n",
      "C         0         0.0000000000       10.5222940512        2.4922392656 L \r\n",
      "C         0         0.0000000000       11.7271747237        2.4516764294 L \r\n",
      "C         0         0.0000000000        9.2349534923        2.5694744681 L \r\n",
      "C         0         0.0000000000        9.2225542779        2.5662066802 L \r\n",
      "C         0         0.0000000000        7.9809643033        2.6038425698 L \r\n",
      "C         0         0.0000000000        7.9728253268        2.6003941436 L \r\n",
      "C         0         0.0000000000        9.2346635968        2.5578867594 L \r\n",
      "C         0         0.0000000000        9.2377622319        2.5537192158 L \r\n",
      "C         0         0.0000000000        7.9793681652        2.5915939298 L \r\n",
      "C         0         0.0000000000        7.9935723153        2.5868865656 L \r\n",
      "C         0         0.0000000000        9.2386732895        2.5445286357 L \r\n",
      "C         0         0.0000000000        9.2572061520        2.5395510399 L \r\n",
      "C         0         0.0000000000        6.7206818650        2.6382567223 L \r\n",
      "C         0         0.0000000000        6.7236764628        2.6342276314 L \r\n",
      "H         0         0.0000000000        9.5556333477        2.5668524587 L \r\n",
      "H         0         0.0000000000        9.5900912339        2.5205377582 L \r\n",
      "H         0         0.0000000000        8.3036851746        2.6006854249 L \r\n",
      "H         0         0.0000000000        7.0495574266        2.6351793751 L \r\n",
      "H         0         0.0000000000        7.0646707660        2.6148609121 L \r\n",
      "H         0         0.0000000000        8.3284424271        2.5673938342 L \r\n",
      "H         0         0.0000000000        5.7913555567        2.6698783914 L \r\n",
      "H         0         0.0000000000        5.7968724667        2.6624550354 L \r\n",
      "H         0         0.0000000000       16.3546593631        2.3378387218 L \r\n",
      "H         0         0.0000000000       17.6225082269        2.2918328214 L \r\n",
      "H         0         0.0000000000       17.6280252068        2.2844106595 L \r\n",
      "H         0         0.0000000000       16.3697732224        2.3175341188 L \r\n",
      "H         0         0.0000000000       13.8291783835        2.4300894640 L \r\n",
      "H         0         0.0000000000       15.0908455080        2.3839553947 L \r\n",
      "H         0         0.0000000000       15.1156030477        2.3506692344 L \r\n",
      "H         0         0.0000000000       13.8636363939        2.3837864161 L \r\n",
      "H         0         0.0000000000       11.6896407178        2.5020066299 L \r\n",
      "H         0         0.0000000000       11.7296183743        2.4482884028 L \r\n",
      "\r\n"
     ]
    }
   ],
   "source": [
    "cat Oniom2233_NA_4_4_graphene.com"
   ]
  },
  {
   "cell_type": "markdown",
   "metadata": {},
   "source": [
    "Or we can use molecular fragments that map 'exactly' (positions match with a floating point tolerance set in ase.atoms.py) onto tbe full molecule. The example illustrate two different ways to construct a molecular fragment - cutting one out from the original molecule, and loading from an xyz."
   ]
  },
  {
   "cell_type": "code",
   "execution_count": 13,
   "metadata": {
    "collapsed": false
   },
   "outputs": [],
   "source": [
    "from ASE_utils import multicut, cut\n",
    "#full molecule\n",
    "graph_4_4 = read('B3LYP_631Gd_HF_STO3G_4_4_graphene.log')\n",
    "\n",
    "#define the high accuracy region by cutting out the two centre atoms\n",
    "cut1, cut2, cut3, cut4 = [14, 29, 0.1], [29, 14, 0.1], [14, 11, 0.1], [11, 14, 0.1]\n",
    "graph_4_4_H = multicut(graph_4_4, *zip(cut1,cut2,cut3,cut4))\n",
    "\n",
    "#define the medium accuracy region by loading a previously defined xyz fragment\n",
    "#care must be taken if using a fragment xyz that truly matches part of the total molecule (e.g. editing in avogadro can slightly shift coordinates breaking the match \n",
    "#editing in ag seems to work ok)\n",
    "graph_4_4_M = read('xyz_files/4_4_graph_frag.xyz') - graph_4_4_H\n",
    "graph_4_4_mults = [1,1,1]\n",
    "\n",
    "name = 'Oniom2233_v2_NA_4_4_graphene'\n",
    "graph_4_4.set_calculator(Gaussian(label=name, method='oniom(b3lyp/6-31g(d):hf/sto-3g:am1)',basis='oniom'))\n",
    "graph_4_4.calc.oniom_coord_params['layers'] = [graph_4_4_H, graph_4_4_M]\n",
    "graph_4_4.calc.oniom_coord_params['layer_mults'] = graph_4_4_mults\n",
    "#graph_4_4.get_potential_energy()"
   ]
  },
  {
   "cell_type": "code",
   "execution_count": 14,
   "metadata": {
    "collapsed": false
   },
   "outputs": [
    {
     "data": {
      "text/html": [
       "\n",
       "           <script type=\"text/javascript\">\n",
       "           function view_function (event, file_n) {\n",
       "               if (event.ctrlKey && event.shiftKey){\n",
       "                   IPython.notebook.kernel.execute(\"cc_notebook_utils.pygview('\" + file_n + \".log')\");\n",
       "               }\n",
       "               else if (event.ctrlKey){\n",
       "                   IPython.notebook.kernel.execute(\"cc_notebook_utils.pygausssum('\" + file_n + \".log')\");\n",
       "               }\n",
       "               else if (event.shiftKey){\n",
       "                   IPython.notebook.kernel.execute(\"cc_notebook_utils.pyvogadro('\" + file_n + \".log')\");\n",
       "               }\n",
       "               else {\n",
       "                   IPython.notebook.kernel.execute(\"cc_notebook_utils.pyvim('\" + file_n + \".log')\");\n",
       "                   IPython.notebook.kernel.execute(\"print(file_n)\");\n",
       "               }\n",
       "           }\n",
       "           </script>\n",
       "    <style>\n",
       "    table\n",
       "    {\n",
       "        border-collapse:collapse;\n",
       "    }\n",
       "    td\n",
       "    {\n",
       "        padding:15px;\n",
       "    }\n",
       "    </style>\n",
       "    <body>\n",
       "    <table bgcolor=\"white\">\n",
       "    <col/><tr><td>Oniom2233_v2_NA_4_4_graphene</td><td><a href = \"files/test_cases/oniom_test/Oniom2233_v2_NA_4_4_graphene.com\" target = \"_blank\">com</a></td><td><input type=\"button\" value=\"Smart Log\" id=\"Oniom2233_v2_NA_4_4_graphene\" onclick=\"view_function(event, this.id)\" /></td><td>Success</td></tr>\n",
       "    </table>\n",
       "    </body>"
      ],
      "text/plain": [
       "<IPython.core.display.HTML at 0x44d74d0>"
      ]
     },
     "execution_count": 14,
     "metadata": {},
     "output_type": "execute_result"
    }
   ],
   "source": [
    "check_calcs([graph_4_4])\n",
    "mols_to_html([graph_4_4])"
   ]
  },
  {
   "cell_type": "markdown",
   "metadata": {},
   "source": [
    "Here we are going to test oniom within the development release, as it seems to produce an error 'NInts<0 in InToWP' if uff is used for the low-level. So will use g09 rev C, the latest development release and release gdvh23:\n",
    "(Note **bug now fixed**)"
   ]
  },
  {
   "cell_type": "code",
   "execution_count": 17,
   "metadata": {
    "collapsed": false
   },
   "outputs": [],
   "source": [
    "azo_44_ts_xyz = '../../cycloadd_oniom/oniom_xyz_files/non_oniom_ts/B3LYP_631Gd_B3LYP_631Gd_4_4_cent_azomethine_ts_v2_final.xyz'\n",
    "test_calc_versions = ['g09', 'gdv_latest', 'gdvh23']\n",
    "ylide_atoms = [67,68,69,70,71,72,73,74]\n",
    "graph_atoms = [28,29] #2 C atoms\n",
    "test_calcs = []"
   ]
  },
  {
   "cell_type": "code",
   "execution_count": 18,
   "metadata": {
    "collapsed": false
   },
   "outputs": [],
   "source": [
    "for i in range(3):\n",
    "    test_calc = read(azo_44_ts_xyz)\n",
    "    test_calc.set_calculator(Gaussian(label=test_calc_versions[i], method='oniom(B3LYP/6-31G(d):uff)', basis='oniom', opt='calcfc, ts, noeigen'))\n",
    "    test_calc_H = ylide_atoms + graph_atoms\n",
    "    test_calc.calc.oniom_coord_params['layers'] = [[no -1 for no in test_calc_H]]\n",
    "    test_calc.calc.oniom_coord_params['layer_mults'] = [1,1]\n",
    "    test_calc.calc.set_job(nodes=8, memory=8*1600, time=8, version=test_calc_versions[i])\n",
    "    #test_calc.get_potential_energy()\n",
    "    test_calcs.append(test_calc)"
   ]
  },
  {
   "cell_type": "code",
   "execution_count": 19,
   "metadata": {
    "collapsed": false
   },
   "outputs": [
    {
     "data": {
      "text/html": [
       "\n",
       "           <script type=\"text/javascript\">\n",
       "           function view_function (event, file_n) {\n",
       "               if (event.ctrlKey && event.shiftKey){\n",
       "                   IPython.notebook.kernel.execute(\"cc_notebook_utils.pygview('\" + file_n + \".log')\");\n",
       "               }\n",
       "               else if (event.ctrlKey){\n",
       "                   IPython.notebook.kernel.execute(\"cc_notebook_utils.pygausssum('\" + file_n + \".log')\");\n",
       "               }\n",
       "               else if (event.shiftKey){\n",
       "                   IPython.notebook.kernel.execute(\"cc_notebook_utils.pyvogadro('\" + file_n + \".log')\");\n",
       "               }\n",
       "               else {\n",
       "                   IPython.notebook.kernel.execute(\"cc_notebook_utils.pyvim('\" + file_n + \".log')\");\n",
       "                   IPython.notebook.kernel.execute(\"print(file_n)\");\n",
       "               }\n",
       "           }\n",
       "           </script>\n",
       "    <style>\n",
       "    table\n",
       "    {\n",
       "        border-collapse:collapse;\n",
       "    }\n",
       "    td\n",
       "    {\n",
       "        padding:15px;\n",
       "    }\n",
       "    </style>\n",
       "    <body>\n",
       "    <table bgcolor=\"white\">\n",
       "    <col/><tr><td>g09</td><td><a href = \"files/test_cases/oniom_test/g09.com\" target = \"_blank\">com</a></td><td><input type=\"button\" value=\"Smart Log\" id=\"g09\" onclick=\"view_function(event, this.id)\" /></td><td>Error: </td></tr><tr><td>gdv_latest</td><td><a href = \"files/test_cases/oniom_test/gdv_latest.com\" target = \"_blank\">com</a></td><td><input type=\"button\" value=\"Smart Log\" id=\"gdv_latest\" onclick=\"view_function(event, this.id)\" /></td><td>Error: NInts<0 in InToWP.</td></tr><tr><td>gdvh23</td><td><a href = \"files/test_cases/oniom_test/gdvh23.com\" target = \"_blank\">com</a></td><td><input type=\"button\" value=\"Smart Log\" id=\"gdvh23\" onclick=\"view_function(event, this.id)\" /></td><td>Error: </td></tr>\n",
       "    </table>\n",
       "    </body>"
      ],
      "text/plain": [
       "<IPython.core.display.HTML at 0x41dd590>"
      ]
     },
     "execution_count": 19,
     "metadata": {},
     "output_type": "execute_result"
    }
   ],
   "source": [
    "check_calcs(test_calcs)\n",
    "mols_to_html(test_calcs)"
   ]
  }
 ],
 "metadata": {
  "kernelspec": {
   "display_name": "Python 2",
   "language": "python",
   "name": "python2"
  },
  "language_info": {
   "codemirror_mode": {
    "name": "ipython",
    "version": 2
   },
   "file_extension": ".py",
   "mimetype": "text/x-python",
   "name": "python",
   "nbconvert_exporter": "python",
   "pygments_lexer": "ipython2",
   "version": "2.7.11"
  }
 },
 "nbformat": 4,
 "nbformat_minor": 0
}
