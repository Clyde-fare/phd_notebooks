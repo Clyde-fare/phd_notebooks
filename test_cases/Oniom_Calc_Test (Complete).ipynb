{
 "metadata": {
  "name": ""
 },
 "nbformat": 3,
 "nbformat_minor": 0,
 "worksheets": [
  {
   "cells": [
    {
     "cell_type": "code",
     "collapsed": false,
     "input": [
      "from ase.io import read\n",
      "from gausspy import Gaussian\n",
      "from ase.visualize import view\n",
      "from ASE_utils import *\n",
      "from cc_notebook_utils import *\n",
      "import cc_notebook_utils"
     ],
     "language": "python",
     "metadata": {},
     "outputs": [],
     "prompt_number": 6
    },
    {
     "cell_type": "code",
     "collapsed": false,
     "input": [
      "cd oniom_test"
     ],
     "language": "python",
     "metadata": {},
     "outputs": [
      {
       "output_type": "stream",
       "stream": "stdout",
       "text": [
        "[Errno 2] No such file or directory: 'oniom_test'\n",
        "/home/clyde/Dropbox/Project Stuff/Notebooks/test_cases/oniom_test\n"
       ]
      }
     ],
     "prompt_number": 7
    },
    {
     "cell_type": "code",
     "collapsed": false,
     "input": [
      "#we will load from a previous calculation on a 4_4 graphene cluster\n",
      "graph_4_4 = read('B3LYP_631Gd_HF_STO3G_4_4_graphene.log')"
     ],
     "language": "python",
     "metadata": {},
     "outputs": [],
     "prompt_number": 8
    },
    {
     "cell_type": "code",
     "collapsed": false,
     "input": [
      "#view(graph_4_4,viewer='avogadro')"
     ],
     "language": "python",
     "metadata": {},
     "outputs": [],
     "prompt_number": 9
    },
    {
     "cell_type": "markdown",
     "metadata": {},
     "source": [
      "We can run Oniom calculations using the indices to indicated the relevant atoms:"
     ]
    },
    {
     "cell_type": "code",
     "collapsed": false,
     "input": [
      "graph_4_4 = read('B3LYP_631Gd_HF_STO3G_4_4_graphene.log')\n",
      "graph_4_4_H = [27,28]\n",
      "#graph_4_4_M = [11,26,14,29,12,13,15,31,30,41,40,25,24,10]\n",
      "graph_4_4_mults = [1,1,1]\n",
      "\n",
      "name = 'Oniom2233_NA_4_4_graphene'\n",
      "graph_4_4.set_calculator(Gaussian(label=name, method='oniom(b3lyp/6-31g(d):am1)',basis='oniom'))\n",
      "graph_4_4.calc.oniom_coord_params['layers'] = [graph_4_4_H]\n",
      "graph_4_4.calc.oniom_coord_params['layer_mults'] = graph_4_4_mults\n",
      "graph_4_4.calc.set_job(nodes=8, memory=1400*8, time=5, queue='pqmb')\n",
      "#graph_4_4.calc.start(frc=True)"
     ],
     "language": "python",
     "metadata": {},
     "outputs": [],
     "prompt_number": 10
    },
    {
     "cell_type": "code",
     "collapsed": false,
     "input": [
      "graph_4_4.calc.active"
     ],
     "language": "python",
     "metadata": {},
     "outputs": [
      {
       "metadata": {},
       "output_type": "pyout",
       "prompt_number": 11,
       "text": [
        "True"
       ]
      }
     ],
     "prompt_number": 11
    },
    {
     "cell_type": "code",
     "collapsed": false,
     "input": [
      "graph_4_4.calc.job"
     ],
     "language": "python",
     "metadata": {},
     "outputs": [
      {
       "metadata": {},
       "output_type": "pyout",
       "prompt_number": 12,
       "text": [
        "True"
       ]
      }
     ],
     "prompt_number": 12
    },
    {
     "cell_type": "code",
     "collapsed": false,
     "input": [
      "graph_4_4.calc.job_params"
     ],
     "language": "python",
     "metadata": {},
     "outputs": [
      {
       "metadata": {},
       "output_type": "pyout",
       "prompt_number": 13,
       "text": [
        "{'memory': 11200,\n",
        " 'nodes': 8,\n",
        " 'qid': None,\n",
        " 'queue': 'pqmb',\n",
        " 'time': 5,\n",
        " 'version': 'direct_g09'}"
       ]
      }
     ],
     "prompt_number": 13
    },
    {
     "cell_type": "code",
     "collapsed": false,
     "input": [
      "check_calcs([graph_4_4])\n",
      "mols_to_html([graph_4_4])"
     ],
     "language": "python",
     "metadata": {},
     "outputs": [
      {
       "html": [
        "\n",
        "           <script type=\"text/javascript\">\n",
        "           function view_function (event, file_n) {\n",
        "               if (event.ctrlKey && event.shiftKey){\n",
        "                   IPython.notebook.kernel.execute(\"cc_notebook_utils.pygview('\" + file_n + \".log')\");\n",
        "               }\n",
        "               else if (event.ctrlKey){\n",
        "                   IPython.notebook.kernel.execute(\"cc_notebook_utils.pygausssum('\" + file_n + \".log')\");\n",
        "               }\n",
        "               else if (event.shiftKey){\n",
        "                   IPython.notebook.kernel.execute(\"cc_notebook_utils.pyvogadro('\" + file_n + \".log')\");\n",
        "               }\n",
        "               else {\n",
        "                   IPython.notebook.kernel.execute(\"cc_notebook_utils.pyvim('\" + file_n + \".log')\");\n",
        "                   IPython.notebook.kernel.execute(\"print(file_n)\");\n",
        "               }\n",
        "           }\n",
        "           </script>\n",
        "    <style>\n",
        "    table\n",
        "    {\n",
        "        border-collapse:collapse;\n",
        "    }\n",
        "    td\n",
        "    {\n",
        "        padding:15px;\n",
        "    }\n",
        "    </style>\n",
        "    <body>\n",
        "    <table bgcolor=\"white\">\n",
        "    <col/><tr><td>Oniom2233_NA_4_4_graphene</td><td><a href = \"files/test_cases/oniom_test/Oniom2233_NA_4_4_graphene.com\" target = \"_blank\">com</a></td><td><input type=\"button\" value=\"Smart Log\" id=\"Oniom2233_NA_4_4_graphene\" onclick=\"view_function(event, this.id)\" /></td><td>Success</td></tr>\n",
        "    </table>\n",
        "    </body>"
       ],
       "metadata": {},
       "output_type": "pyout",
       "prompt_number": 14,
       "text": [
        "<IPython.core.display.HTML at 0x3c9ff50>"
       ]
      }
     ],
     "prompt_number": 14
    },
    {
     "cell_type": "code",
     "collapsed": false,
     "input": [
      "cat Oniom2233_NA_4_4_graphene.com"
     ],
     "language": "python",
     "metadata": {},
     "outputs": [
      {
       "output_type": "stream",
       "stream": "stdout",
       "text": [
        "#p gfprint pop=full oniom(b3lyp/6-31g(d):am1) \r\n",
        "\r\n",
        "Gaussian input prepared by ASE\r\n",
        "\r\n",
        "0 1  0 1 \r\n",
        "C         0        15.4257651251        2.3660368853        7.8384545740 L \r\n",
        "C         0        15.4399858576        2.3618479500        9.1787619152 L \r\n",
        "C         0        16.6956891611        2.3195867221        9.9599235311 L \r\n",
        "C         0        16.6986838066        2.3155584620       11.2834932851 L \r\n",
        "C         0        15.4465288261        2.3530508875       12.0705717419 L \r\n",
        "C         0        15.4383733917        2.3490869530       13.4109303747 L \r\n",
        "C         0        12.8969729314        2.4584041269        3.5633161667 L \r\n",
        "C         0        12.9261641394        2.4536573937        4.9624561854 L \r\n",
        "C         0        14.1620911607        2.4121183436        5.7100715652 L \r\n",
        "C         0        14.1806478338        2.4078667480        7.0654928214 L \r\n",
        "C         0        12.9294474296        2.4458269958        7.8085554985 L \r\n",
        "C         0        12.9356130243        2.4417339585        9.2111858192 L H    28\r\n",
        "C         0        14.1815948926        2.3998075256        9.9428726805 L \r\n",
        "C         0        14.1846935862        2.3956412609       11.3124082292 L \r\n",
        "C         0        12.9420359534        2.4330968556       12.0499673035 L H    29\r\n",
        "C         0        12.9422174935        2.4286548673       13.4526101376 L \r\n",
        "C         0        14.1967670263        2.3861921010       14.1897586638 L \r\n",
        "C         0        14.1843440767        2.3821989618       15.5452508317 L \r\n",
        "C         0        12.9518133728        2.4191732255       16.2986900912 L \r\n",
        "C         0        12.9289539838        2.4154143161       17.6979509637 L \r\n",
        "C         0        11.6920972629        2.4988249240        2.8819301728 L \r\n",
        "C         0        10.4903131898        2.5352327345        3.5690008056 L \r\n",
        "C         0        10.4674773280        2.5321538097        4.9682529736 L \r\n",
        "C         0        11.6984305985        2.4909384580        5.6732611570 L \r\n",
        "C         0        11.7016838348        2.4869565790        7.1057603699 L \r\n",
        "C         0        10.4771198504        2.5241590218        7.8143477655 L \r\n",
        "C         0        10.4773199824        2.5202889204        9.2169818780 L H    28\r\n",
        "C         0        11.7080713901        2.4789383283        9.9213648031 H \r\n",
        "C         0        11.7112937874        2.4746042290       11.3455898563 H \r\n",
        "C         0        10.4837428749        2.5116503420       12.0557734002 L H    29\r\n",
        "C         0        10.4898898132        2.5069849439       13.4583916069 L \r\n",
        "C         0        11.7176472014        2.4654893453       14.1611910098 L \r\n",
        "C         0        11.7208763135        2.4607575456       15.5936880003 L \r\n",
        "C         0        10.4931264029        2.4976671684       16.3044969070 L \r\n",
        "C         0        10.5222940512        2.4922392656       17.7036242897 L \r\n",
        "C         0        11.7271747237        2.4516764294       18.3850153989 L \r\n",
        "C         0         9.2349534923        2.5694744681        5.7217011384 L \r\n",
        "C         0         9.2225542779        2.5662066802        7.0771908468 L \r\n",
        "C         0         7.9809643033        2.6038425698        7.8560230956 L \r\n",
        "C         0         7.9728253268        2.6003941436        9.1963827586 L \r\n",
        "C         0         9.2346635968        2.5578867594        9.9545490474 L \r\n",
        "C         0         9.2377622319        2.5537192158       11.3240793148 L \r\n",
        "C         0         7.9793681652        2.5915939298       12.0881923351 L \r\n",
        "C         0         7.9935723153        2.5868865656       13.4284975744 L \r\n",
        "C         0         9.2386732895        2.5445286357       14.2014601907 L \r\n",
        "C         0         9.2572061520        2.5395510399       15.5568747110 L \r\n",
        "C         0         6.7206818650        2.6382567223        9.9834623041 L \r\n",
        "C         0         6.7236764628        2.6342276314       11.3070318422 L \r\n",
        "H         0         9.5556333477        2.5668524587        3.0239112041 L \r\n",
        "H         0         9.5900912339        2.5205377582       18.2531204332 L \r\n",
        "H         0         8.3036851746        2.6006854249        5.1704096663 L \r\n",
        "H         0         7.0495574266        2.6351793751        7.3046105423 L \r\n",
        "H         0         7.0646707660        2.6148609121       13.9842996197 L \r\n",
        "H         0         8.3284424271        2.5673938342       16.1125543103 L \r\n",
        "H         0         5.7913555567        2.6698783914        9.4282312494 L \r\n",
        "H         0         5.7968724667        2.6624550354       11.8666445780 L \r\n",
        "H         0        16.3546593631        2.3378387218        7.2826516764 L \r\n",
        "H         0        17.6225082269        2.2918328214        9.4003120663 L \r\n",
        "H         0        17.6280252068        2.2844106595       11.8387258665 L \r\n",
        "H         0        16.3697732224        2.3175341188       13.9623424318 L \r\n",
        "H         0        13.8291783835        2.4300894640        3.0138252285 L \r\n",
        "H         0        15.0908455080        2.3839553947        5.1543925526 L \r\n",
        "H         0        15.1156030477        2.3506692344       16.0965398275 L \r\n",
        "H         0        13.8636363939        2.3837864161       18.2430358254 L \r\n",
        "H         0        11.6896407178        2.5020066299        1.7991900876 L \r\n",
        "H         0        11.7296183743        2.4482884028       19.4677549007 L \r\n",
        "\r\n"
       ]
      }
     ],
     "prompt_number": 16
    },
    {
     "cell_type": "markdown",
     "metadata": {},
     "source": [
      "Or we can use molecular fragments that map 'exactly' (positions match with a floating point tolerance set in ase.atoms.py) onto tbe full molecule. The example illustrate two different ways to construct a molecular fragment - cutting one out from the original molecule, and loading from an xyz."
     ]
    },
    {
     "cell_type": "code",
     "collapsed": false,
     "input": [
      "from ASE_utils import multicut, cut\n",
      "#full molecule\n",
      "graph_4_4 = read('B3LYP_631Gd_HF_STO3G_4_4_graphene.log')\n",
      "\n",
      "#define the high accuracy region by cutting out the two centre atoms\n",
      "cut1, cut2, cut3, cut4 = [14, 29, 0.1], [29, 14, 0.1], [14, 11, 0.1], [11, 14, 0.1]\n",
      "graph_4_4_H = multicut(graph_4_4, *zip(cut1,cut2,cut3,cut4))\n",
      "\n",
      "#define the medium accuracy region by loading a previously defined xyz fragment\n",
      "#care must be taken if using a fragment xyz that truly matches part of the total molecule (e.g. editing in avogadro can slightly shift coordinates breaking the match \n",
      "#editing in ag seems to work ok)\n",
      "graph_4_4_M = read('xyz_files/4_4_graph_frag.xyz') - graph_4_4_H\n",
      "graph_4_4_mults = [1,1,1]\n",
      "\n",
      "name = 'Oniom2233_v2_NA_4_4_graphene'\n",
      "graph_4_4.set_calculator(Gaussian(label=name, method='oniom(b3lyp/6-31g(d):hf/sto-3g:am1)',basis='oniom'))\n",
      "graph_4_4.calc.oniom_coord_params['layers'] = [graph_4_4_H, graph_4_4_M]\n",
      "graph_4_4.calc.oniom_coord_params['layer_mults'] = graph_4_4_mults\n",
      "#graph_4_4.get_potential_energy()"
     ],
     "language": "python",
     "metadata": {},
     "outputs": [],
     "prompt_number": 13
    },
    {
     "cell_type": "code",
     "collapsed": false,
     "input": [
      "check_calcs([graph_4_4])\n",
      "mols_to_html([graph_4_4])"
     ],
     "language": "python",
     "metadata": {},
     "outputs": [
      {
       "html": [
        "\n",
        "           <script type=\"text/javascript\">\n",
        "           function view_function (event, file_n) {\n",
        "               if (event.ctrlKey && event.shiftKey){\n",
        "                   IPython.notebook.kernel.execute(\"cc_notebook_utils.pygview('\" + file_n + \".log')\");\n",
        "               }\n",
        "               else if (event.ctrlKey){\n",
        "                   IPython.notebook.kernel.execute(\"cc_notebook_utils.pygausssum('\" + file_n + \".log')\");\n",
        "               }\n",
        "               else if (event.shiftKey){\n",
        "                   IPython.notebook.kernel.execute(\"cc_notebook_utils.pyvogadro('\" + file_n + \".log')\");\n",
        "               }\n",
        "               else {\n",
        "                   IPython.notebook.kernel.execute(\"cc_notebook_utils.pyvim('\" + file_n + \".log')\");\n",
        "                   IPython.notebook.kernel.execute(\"print(file_n)\");\n",
        "               }\n",
        "           }\n",
        "           </script>\n",
        "    <style>\n",
        "    table\n",
        "    {\n",
        "        border-collapse:collapse;\n",
        "    }\n",
        "    td\n",
        "    {\n",
        "        padding:15px;\n",
        "    }\n",
        "    </style>\n",
        "    <body>\n",
        "    <table bgcolor=\"white\">\n",
        "    <col/><tr><td>Oniom2233_v2_NA_4_4_graphene</td><td><a href = \"files/test_cases/oniom_test/Oniom2233_v2_NA_4_4_graphene.com\" target = \"_blank\">com</a></td><td><input type=\"button\" value=\"Smart Log\" id=\"Oniom2233_v2_NA_4_4_graphene\" onclick=\"view_function(event, this.id)\" /></td><td>Success</td></tr>\n",
        "    </table>\n",
        "    </body>"
       ],
       "metadata": {},
       "output_type": "pyout",
       "prompt_number": 14,
       "text": [
        "<IPython.core.display.HTML at 0x44d74d0>"
       ]
      }
     ],
     "prompt_number": 14
    },
    {
     "cell_type": "markdown",
     "metadata": {},
     "source": [
      "Here we are going to test oniom within the development release, as it seems to produce an error 'NInts<0 in InToWP' if uff is used for the low-level. So will use g09 rev C, the latest development release and release gdvh23:\n",
      "(Note **bug now fixed**)"
     ]
    },
    {
     "cell_type": "code",
     "collapsed": false,
     "input": [
      "azo_44_ts_xyz = '../../cycloadd_oniom/oniom_xyz_files/non_oniom_ts/B3LYP_631Gd_B3LYP_631Gd_4_4_cent_azomethine_ts_v2_final.xyz'\n",
      "test_calc_versions = ['g09', 'gdv_latest', 'gdvh23']\n",
      "ylide_atoms = [67,68,69,70,71,72,73,74]\n",
      "graph_atoms = [28,29] #2 C atoms\n",
      "test_calcs = []"
     ],
     "language": "python",
     "metadata": {},
     "outputs": [],
     "prompt_number": 17
    },
    {
     "cell_type": "code",
     "collapsed": false,
     "input": [
      "for i in range(3):\n",
      "    test_calc = read(azo_44_ts_xyz)\n",
      "    test_calc.set_calculator(Gaussian(label=test_calc_versions[i], method='oniom(B3LYP/6-31G(d):uff)', basis='oniom', opt='calcfc, ts, noeigen'))\n",
      "    test_calc_H = ylide_atoms + graph_atoms\n",
      "    test_calc.calc.oniom_coord_params['layers'] = [[no -1 for no in test_calc_H]]\n",
      "    test_calc.calc.oniom_coord_params['layer_mults'] = [1,1]\n",
      "    test_calc.calc.set_job(nodes=8, memory=8*1600, time=8, version=test_calc_versions[i])\n",
      "    #test_calc.get_potential_energy()\n",
      "    test_calcs.append(test_calc)"
     ],
     "language": "python",
     "metadata": {},
     "outputs": [],
     "prompt_number": 18
    },
    {
     "cell_type": "code",
     "collapsed": false,
     "input": [
      "check_calcs(test_calcs)\n",
      "mols_to_html(test_calcs)"
     ],
     "language": "python",
     "metadata": {},
     "outputs": [
      {
       "html": [
        "\n",
        "           <script type=\"text/javascript\">\n",
        "           function view_function (event, file_n) {\n",
        "               if (event.ctrlKey && event.shiftKey){\n",
        "                   IPython.notebook.kernel.execute(\"cc_notebook_utils.pygview('\" + file_n + \".log')\");\n",
        "               }\n",
        "               else if (event.ctrlKey){\n",
        "                   IPython.notebook.kernel.execute(\"cc_notebook_utils.pygausssum('\" + file_n + \".log')\");\n",
        "               }\n",
        "               else if (event.shiftKey){\n",
        "                   IPython.notebook.kernel.execute(\"cc_notebook_utils.pyvogadro('\" + file_n + \".log')\");\n",
        "               }\n",
        "               else {\n",
        "                   IPython.notebook.kernel.execute(\"cc_notebook_utils.pyvim('\" + file_n + \".log')\");\n",
        "                   IPython.notebook.kernel.execute(\"print(file_n)\");\n",
        "               }\n",
        "           }\n",
        "           </script>\n",
        "    <style>\n",
        "    table\n",
        "    {\n",
        "        border-collapse:collapse;\n",
        "    }\n",
        "    td\n",
        "    {\n",
        "        padding:15px;\n",
        "    }\n",
        "    </style>\n",
        "    <body>\n",
        "    <table bgcolor=\"white\">\n",
        "    <col/><tr><td>g09</td><td><a href = \"files/test_cases/oniom_test/g09.com\" target = \"_blank\">com</a></td><td><input type=\"button\" value=\"Smart Log\" id=\"g09\" onclick=\"view_function(event, this.id)\" /></td><td>Error: </td></tr><tr><td>gdv_latest</td><td><a href = \"files/test_cases/oniom_test/gdv_latest.com\" target = \"_blank\">com</a></td><td><input type=\"button\" value=\"Smart Log\" id=\"gdv_latest\" onclick=\"view_function(event, this.id)\" /></td><td>Error: NInts<0 in InToWP.</td></tr><tr><td>gdvh23</td><td><a href = \"files/test_cases/oniom_test/gdvh23.com\" target = \"_blank\">com</a></td><td><input type=\"button\" value=\"Smart Log\" id=\"gdvh23\" onclick=\"view_function(event, this.id)\" /></td><td>Error: </td></tr>\n",
        "    </table>\n",
        "    </body>"
       ],
       "metadata": {},
       "output_type": "pyout",
       "prompt_number": 19,
       "text": [
        "<IPython.core.display.HTML at 0x41dd590>"
       ]
      }
     ],
     "prompt_number": 19
    }
   ],
   "metadata": {}
  }
 ]
}