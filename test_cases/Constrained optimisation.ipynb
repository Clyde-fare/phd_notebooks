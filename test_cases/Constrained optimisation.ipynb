{
 "cells": [
  {
   "cell_type": "code",
   "execution_count": 43,
   "metadata": {
    "collapsed": false
   },
   "outputs": [],
   "source": [
    "import cc_notebook\n",
    "from cc_notebook import *\n",
    "from gausspy import Gaussian\n",
    "from ase.io import read"
   ]
  },
  {
   "cell_type": "code",
   "execution_count": 44,
   "metadata": {
    "collapsed": false
   },
   "outputs": [
    {
     "name": "stdout",
     "output_type": "stream",
     "text": [
      "[Errno 2] No such file or directory: 'constrained_opt/'\n",
      "/home/clyde/Dropbox/Project Stuff/Notebooks/test_cases/constrained_opt\n"
     ]
    }
   ],
   "source": [
    "cd constrained_opt/"
   ]
  },
  {
   "cell_type": "code",
   "execution_count": 39,
   "metadata": {
    "collapsed": false
   },
   "outputs": [],
   "source": [
    "init_ts = read('init_ts.mol')\n",
    "init_ts[-1].charge = -1\n",
    "init_ts.set_calculator(Gaussian(label='test_opt',method='PM6',opt='modredundant', nosymmetry='nosymmetry'))\n",
    "init_ts.calc.set_redundant(coord_type='cartesian',action_type='freeze',atom_nos=[1])\n",
    "init_ts.calc.set_redundant(coord_type='cartesian',action_type='freeze',atom_nos=[2])\n",
    "init_ts.calc.set_redundant(coord_type='cartesian',action_type='freeze',atom_nos=[4])\n",
    "init_ts.calc.set_redundant(coord_type='cartesian',action_type='freeze',atom_nos=[5])\n",
    "                          \n",
    "init_ts.calc.set_job(nodes=1,memory=1024)\n",
    "init_ts.calc.start()"
   ]
  },
  {
   "cell_type": "code",
   "execution_count": 34,
   "metadata": {
    "collapsed": false
   },
   "outputs": [
    {
     "data": {
      "text/html": [
       "\n",
       "    <style>\n",
       "    table\n",
       "    {\n",
       "        border-collapse:collapse;\n",
       "    }\n",
       "    td\n",
       "    {\n",
       "        padding:15px;\n",
       "    }\n",
       "    </style>\n",
       "    <body>\n",
       "    <table bgcolor=\"white\">\n",
       "    <col/><tr><td>test_opt</td><td><input type=\"button\" value=\"Smart Log\" id=\"test_opt\" onclick=\"IPython.cc_notebook.view_function(event, this.id)\" /></td><td>Success</td></tr>\n",
       "    </table>\n",
       "    </body>"
      ],
      "text/plain": [
       "<IPython.core.display.HTML object>"
      ]
     },
     "execution_count": 34,
     "metadata": {},
     "output_type": "execute_result"
    }
   ],
   "source": [
    "mols_to_html([init_ts])"
   ]
  },
  {
   "cell_type": "code",
   "execution_count": 40,
   "metadata": {
    "collapsed": false
   },
   "outputs": [
    {
     "data": {
      "text/plain": [
       "array([[ 0.22 ,  0.728,  0.   ],\n",
       "       [ 0.685, -0.208, -0.233],\n",
       "       [ 0.685,  1.397,  0.693],\n",
       "       [-0.708,  0.993, -0.46 ],\n",
       "       [ 1.095,  1.491, -1.323],\n",
       "       [-0.654, -0.036,  1.323]])"
      ]
     },
     "execution_count": 40,
     "metadata": {},
     "output_type": "execute_result"
    }
   ],
   "source": [
    "init_ts.positions"
   ]
  },
  {
   "cell_type": "code",
   "execution_count": 42,
   "metadata": {
    "collapsed": false
   },
   "outputs": [
    {
     "data": {
      "text/plain": [
       "array([[  9.82998000e-04,   1.38688510e-03,   1.21921640e-03],\n",
       "       [ -1.03520930e-03,  -2.23890000e-04,  -7.30898200e-04],\n",
       "       [ -2.86400124e-01,  -2.74182621e-01,   3.05524612e-01],\n",
       "       [  3.90025000e-05,  -1.17087140e-03,  -5.39565100e-04],\n",
       "       [  1.32088000e-05,   7.87640000e-06,   5.12468000e-05],\n",
       "       [ -6.81881903e-01,  -7.18972220e-01,   3.80743618e-01]])"
      ]
     },
     "execution_count": 42,
     "metadata": {},
     "output_type": "execute_result"
    }
   ],
   "source": [
    "#even frozen we get some movement (because of numerical error?)\n",
    "read(init_ts.calc.log).positions - init_ts.positions"
   ]
  }
 ],
 "metadata": {
  "kernelspec": {
   "display_name": "Python 2",
   "language": "python",
   "name": "python2"
  },
  "language_info": {
   "codemirror_mode": {
    "name": "ipython",
    "version": 2
   },
   "file_extension": ".py",
   "mimetype": "text/x-python",
   "name": "python",
   "nbconvert_exporter": "python",
   "pygments_lexer": "ipython2",
   "version": "2.7.12"
  }
 },
 "nbformat": 4,
 "nbformat_minor": 0
}
