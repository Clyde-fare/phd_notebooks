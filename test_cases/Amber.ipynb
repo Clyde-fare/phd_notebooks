{
 "cells": [
  {
   "cell_type": "code",
   "execution_count": 1,
   "metadata": {
    "collapsed": false
   },
   "outputs": [
    {
     "name": "stdout",
     "output_type": "stream",
     "text": [
      "/home/clyde/Dropbox/Project Stuff/Notebooks/test_cases/amber\n"
     ]
    }
   ],
   "source": [
    "cd amber/"
   ]
  },
  {
   "cell_type": "code",
   "execution_count": 2,
   "metadata": {
    "collapsed": false
   },
   "outputs": [
    {
     "name": "stderr",
     "output_type": "stream",
     "text": [
      "/home/clyde/anaconda/envs/biotools/lib/python2.7/site-packages/IPython/nbformat.py:13: ShimWarning: The `IPython.nbformat` package has been deprecated. You should import from nbformat instead.\n",
      "  \"You should import from nbformat instead.\", ShimWarning)\n",
      "/home/clyde/anaconda/envs/biotools/lib/python2.7/site-packages/IPython/html.py:14: ShimWarning: The `IPython.html` package has been deprecated. You should import from `notebook` instead. `IPython.html.widgets` has moved to `ipywidgets`.\n",
      "  \"`IPython.html.widgets` has moved to `ipywidgets`.\", ShimWarning)\n"
     ]
    },
    {
     "data": {
      "application/javascript": [
       "\n",
       "require(['nbextensions/cc_notebook'])\n",
       "require(['nbextensions/jsmol/JSmol.min.nojq'])\n"
      ],
      "text/plain": [
       "<IPython.core.display.Javascript object>"
      ]
     },
     "metadata": {},
     "output_type": "display_data"
    },
    {
     "name": "stderr",
     "output_type": "stream",
     "text": [
      "/home/clyde/anaconda/envs/biotools/lib/python2.7/site-packages/IPython/utils/traitlets.py:5: UserWarning: IPython.utils.traitlets has moved to a top-level traitlets package.\n",
      "  warn(\"IPython.utils.traitlets has moved to a top-level traitlets package.\")\n"
     ]
    }
   ],
   "source": [
    "from cc_notebook import *\n",
    "from ase_extensions.ase_utils import *\n",
    "from ase_extensions.protein_utils import *\n",
    "from gausspy.oniom_amber_utils import *\n",
    "from gausspy import Gaussian"
   ]
  },
  {
   "cell_type": "code",
   "execution_count": 9,
   "metadata": {
    "collapsed": false
   },
   "outputs": [
    {
     "data": {
      "text/plain": [
       "{'Cap Using Neighbours': True,\n",
       " 'Force Capping': True,\n",
       " 'Initial Model Atom Numbers': None,\n",
       " 'Link Atom Map': {'C': 'HC', 'N': 'H', 'S': 'H'},\n",
       " 'Model Extraction Directory': 'model/',\n",
       " 'NSR Names': 'CR',\n",
       " 'NSR Protonation Function': <bound method _utils.pybel_protonate of <gausspy.oniom_amber_utils._utils object at 0x7f6696c61b90>>,\n",
       " 'NSR Resnums': None,\n",
       " 'Optimised Capping': True,\n",
       " 'Overwrite RESP Calculation': False,\n",
       " 'Parameterisation Databases': [{'name': 'parm99', 'type': 'dat'},\n",
       "  {'name': 'ff99SB', 'type': 'frcmod'}],\n",
       " 'Parameterisation Directory': 'parameters/',\n",
       " 'Protonation Directory': 'protonation/',\n",
       " 'RESP Calculation Directory': 'charges/',\n",
       " 'pH': None,\n",
       " 'pdb2pqr Command': '/Users/tam10/Utilities/pdb2pqr-osx-bin64-2.1.0/pdb2pqr',\n",
       " 'pdb2pqr Options': ['--ff=amber', '--ffout=amber', '--chain']}"
      ]
     },
     "execution_count": 9,
     "metadata": {},
     "output_type": "execute_result"
    }
   ],
   "source": [
    "aaa=read_pdb('trialanine.pdb').take(chains='A',indices_in_tags=True)\n",
    "p=Protein_Parameterisation(aaa)\n",
    "p.auto_parameterise()\n",
    "p.params"
   ]
  },
  {
   "cell_type": "code",
   "execution_count": 12,
   "metadata": {
    "collapsed": false
   },
   "outputs": [
    {
     "data": {
      "text/plain": [
       "['parm99', 'ff99SB']"
      ]
     },
     "execution_count": 12,
     "metadata": {},
     "output_type": "execute_result"
    }
   ],
   "source": [
    "p.mm_parameters.keys()"
   ]
  },
  {
   "cell_type": "code",
   "execution_count": null,
   "metadata": {
    "collapsed": true
   },
   "outputs": [],
   "source": [
    "p = Protein_Parameterisation(green)\n",
    "        \n",
    "p.params[\"pdb2pqr Command\"] = \"/home/clyde/Global_Software/pdb2pqr-linux-bin64-2.1.0/pdb2pqr\"\n",
    "p.params[\"pdb2pqr Options\"] =  [\"--ff=amber\", \"--ffout=amber\"]\n",
    "p.params[\"RESP Calculation Directory\"] = \"green_neutral_charges\"\n",
    "p.params[\"Model Extraction Directory\"] = \"green_neutral_model\"\n",
    "p.params[\"Protonation Directory\"]  = \"green_neutral_protonation\"\n",
    "p.params[\"Parameterisation Directory\"] = \"green_neutral_parameterisation\"\n",
    "\n",
    "p.params[\"pH\"] = 5.11\n",
    "p.params[\"Overwrite RESP Calculation\"] = False\n",
    "p.params[\"Initial Model Atom Numbers\"] = [448,449,450,451,452,459,460,461,462,463,464,465,\n",
    "                                          466,467,468,469,470,471,472,473,474,475,476,477,\n",
    "                                          478,479,480,481,482,483,484]\n",
    "\n",
    "p.auto_protonate()"
   ]
  }
 ],
 "metadata": {
  "kernelspec": {
   "display_name": "Python 2",
   "language": "python",
   "name": "python2"
  },
  "language_info": {
   "codemirror_mode": {
    "name": "ipython",
    "version": 2
   },
   "file_extension": ".py",
   "mimetype": "text/x-python",
   "name": "python",
   "nbconvert_exporter": "python",
   "pygments_lexer": "ipython2",
   "version": "2.7.11"
  }
 },
 "nbformat": 4,
 "nbformat_minor": 0
}
