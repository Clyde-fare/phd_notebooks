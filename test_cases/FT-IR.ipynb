{
 "cells": [
  {
   "cell_type": "markdown",
   "metadata": {},
   "source": [
    "#Cracking the .spc binary format"
   ]
  },
  {
   "cell_type": "markdown",
   "metadata": {},
   "source": [
    "No longer needed as I found the Python spc [library](https://github.com/rohanisaac/spc)"
   ]
  },
  {
   "cell_type": "code",
   "execution_count": 1,
   "metadata": {
    "collapsed": false,
    "scrolled": true
   },
   "outputs": [
    {
     "name": "stdout",
     "output_type": "stream",
     "text": [
      "Read raw data\n",
      "\n",
      "HEADER\n",
      "Generated x-values\n",
      "\n",
      "SUBFILE 0 \n",
      "----------\n",
      "Using global subpoints\n",
      "Using global subpoints\n",
      "Using global subpoints 5807\n",
      "Using global subpoints 5807\n",
      "Using global exponent 253\n",
      "Extracted integer y-data\n"
     ]
    },
    {
     "ename": "OverflowError",
     "evalue": "Python int too large to convert to C long",
     "output_type": "error",
     "traceback": [
      "\u001b[1;31m---------------------------------------------------------------------------\u001b[0m",
      "\u001b[1;31mOverflowError\u001b[0m                             Traceback (most recent call last)",
      "\u001b[1;32m<ipython-input-1-35fd9232685e>\u001b[0m in \u001b[0;36m<module>\u001b[1;34m()\u001b[0m\n\u001b[0;32m      1\u001b[0m \u001b[1;32mimport\u001b[0m \u001b[0mspc\u001b[0m\u001b[1;33m\u001b[0m\u001b[0m\n\u001b[0;32m      2\u001b[0m \u001b[1;33m\u001b[0m\u001b[0m\n\u001b[1;32m----> 3\u001b[1;33m \u001b[0mftir_1\u001b[0m \u001b[1;33m=\u001b[0m \u001b[0mspc\u001b[0m\u001b[1;33m.\u001b[0m\u001b[0mFile\u001b[0m\u001b[1;33m(\u001b[0m\u001b[1;34m'eosfp/CLYDE_NTEST445.SPC'\u001b[0m\u001b[1;33m)\u001b[0m\u001b[1;33m\u001b[0m\u001b[0m\n\u001b[0m",
      "\u001b[1;32m/home/clyde/anaconda/envs/dev/lib/python2.7/site-packages/spc/spc.pyc\u001b[0m in \u001b[0;36m__init__\u001b[1;34m(self, filename)\u001b[0m\n\u001b[0;32m    188\u001b[0m             \u001b[1;31m#print \"sub_end\", sub_end\u001b[0m\u001b[1;33m\u001b[0m\u001b[1;33m\u001b[0m\u001b[0m\n\u001b[0;32m    189\u001b[0m             \u001b[1;31m# read into object, add to list\u001b[0m\u001b[1;33m\u001b[0m\u001b[1;33m\u001b[0m\u001b[0m\n\u001b[1;32m--> 190\u001b[1;33m             \u001b[0mself\u001b[0m\u001b[1;33m.\u001b[0m\u001b[0msub\u001b[0m\u001b[1;33m.\u001b[0m\u001b[0mappend\u001b[0m\u001b[1;33m(\u001b[0m\u001b[0msubFile\u001b[0m\u001b[1;33m(\u001b[0m\u001b[0mcontent\u001b[0m\u001b[1;33m[\u001b[0m\u001b[0msub_pos\u001b[0m\u001b[1;33m:\u001b[0m\u001b[0msub_end\u001b[0m\u001b[1;33m]\u001b[0m\u001b[1;33m,\u001b[0m \u001b[0mself\u001b[0m\u001b[1;33m.\u001b[0m\u001b[0mfnpts\u001b[0m\u001b[1;33m,\u001b[0m \u001b[0mself\u001b[0m\u001b[1;33m.\u001b[0m\u001b[0mfexp\u001b[0m\u001b[1;33m,\u001b[0m \u001b[0mself\u001b[0m\u001b[1;33m.\u001b[0m\u001b[0mtxyxys\u001b[0m\u001b[1;33m)\u001b[0m\u001b[1;33m)\u001b[0m\u001b[1;33m\u001b[0m\u001b[0m\n\u001b[0m\u001b[0;32m    191\u001b[0m             \u001b[1;31m# print self.sub[i].y\u001b[0m\u001b[1;33m\u001b[0m\u001b[1;33m\u001b[0m\u001b[0m\n\u001b[0;32m    192\u001b[0m             \u001b[1;31m# update positions\u001b[0m\u001b[1;33m\u001b[0m\u001b[1;33m\u001b[0m\u001b[0m\n",
      "\u001b[1;32m/home/clyde/anaconda/envs/dev/lib/python2.7/site-packages/spc/sub.pyc\u001b[0m in \u001b[0;36m__init__\u001b[1;34m(self, data, fnpts, fexp, txyxy)\u001b[0m\n\u001b[0;32m    103\u001b[0m             \u001b[0mself\u001b[0m\u001b[1;33m.\u001b[0m\u001b[0my\u001b[0m \u001b[1;33m=\u001b[0m \u001b[1;33m(\u001b[0m\u001b[1;36m2\u001b[0m\u001b[1;33m**\u001b[0m\u001b[1;33m(\u001b[0m\u001b[0mexp\u001b[0m\u001b[1;33m-\u001b[0m\u001b[1;36m32\u001b[0m\u001b[1;33m)\u001b[0m\u001b[1;33m)\u001b[0m\u001b[1;33m*\u001b[0m\u001b[0my_raw\u001b[0m\u001b[1;33m\u001b[0m\u001b[0m\n\u001b[0;32m    104\u001b[0m             \u001b[1;32mprint\u001b[0m \u001b[1;34m\"Extracted integer y-data\"\u001b[0m\u001b[1;33m\u001b[0m\u001b[0m\n\u001b[1;32m--> 105\u001b[1;33m             \u001b[0mself\u001b[0m\u001b[1;33m.\u001b[0m\u001b[0my_int\u001b[0m \u001b[1;33m=\u001b[0m \u001b[0mself\u001b[0m\u001b[1;33m.\u001b[0m\u001b[0my\u001b[0m\u001b[1;33m.\u001b[0m\u001b[0mastype\u001b[0m\u001b[1;33m(\u001b[0m\u001b[0mint\u001b[0m\u001b[1;33m)\u001b[0m\u001b[1;33m\u001b[0m\u001b[0m\n\u001b[0m\u001b[0;32m    106\u001b[0m \u001b[1;33m\u001b[0m\u001b[0m\n\u001b[0;32m    107\u001b[0m         \u001b[1;31m#print self.y\u001b[0m\u001b[1;33m\u001b[0m\u001b[1;33m\u001b[0m\u001b[0m\n",
      "\u001b[1;31mOverflowError\u001b[0m: Python int too large to convert to C long"
     ]
    }
   ],
   "source": [
    "import spc\n",
    "\n",
    "ftir_1 = spc.File('eosfp/CLYDE_NTEST445.SPC')"
   ]
  },
  {
   "cell_type": "markdown",
   "metadata": {},
   "source": [
    "Previous attempt (which didn't get very far - couldn't find almost anything in the binary file other than the number of values and the initial wavenumber (400. something or other)"
   ]
  },
  {
   "cell_type": "code",
   "execution_count": 2,
   "metadata": {
    "collapsed": false
   },
   "outputs": [
    {
     "name": "stdout",
     "output_type": "stream",
     "text": [
      "/home/clyde/Dropbox/Project Stuff/Notebooks/eosfp\n"
     ]
    }
   ],
   "source": [
    "cd eosfp/"
   ]
  },
  {
   "cell_type": "code",
   "execution_count": 3,
   "metadata": {
    "collapsed": true
   },
   "outputs": [],
   "source": [
    "import struct\n",
    "import numpy as np"
   ]
  },
  {
   "cell_type": "code",
   "execution_count": 4,
   "metadata": {
    "collapsed": true
   },
   "outputs": [],
   "source": [
    "with open('CLYDE_~1.PRN') as f:\n",
    "    contents = f.readlines()\n",
    "data = np.array([l.split() for l in contents[:-1]], dtype=np.float)"
   ]
  },
  {
   "cell_type": "code",
   "execution_count": 190,
   "metadata": {
    "collapsed": false
   },
   "outputs": [
    {
     "data": {
      "text/plain": [
       "array([ -5.55000000e-04,   9.79400000e-04,   4.66830000e-03,\n",
       "         3.46740000e-03,  -7.50000000e-05,  -7.92330000e-03,\n",
       "        -8.65190000e-03,   1.42150000e-03,  -1.59580000e-03,\n",
       "        -7.87130000e-03,  -2.15130000e-03,   8.50740000e-03,\n",
       "         5.30330000e-03,  -2.90400000e-03,  -1.50480000e-03,\n",
       "         5.62580000e-03,   4.37490000e-03,  -2.65860000e-03,\n",
       "        -6.40500000e-04,   2.05950000e-03])"
      ]
     },
     "execution_count": 190,
     "metadata": {},
     "output_type": "execute_result"
    }
   ],
   "source": [
    "data[:,1][:20]"
   ]
  },
  {
   "cell_type": "code",
   "execution_count": 6,
   "metadata": {
    "collapsed": false
   },
   "outputs": [
    {
     "data": {
      "text/plain": [
       "5807"
      ]
     },
     "execution_count": 6,
     "metadata": {},
     "output_type": "execute_result"
    }
   ],
   "source": [
    "len(data)"
   ]
  },
  {
   "cell_type": "code",
   "execution_count": 7,
   "metadata": {
    "collapsed": true
   },
   "outputs": [],
   "source": [
    "cm_1__nm = lambda wnm: 1./wnm * 1e-2"
   ]
  },
  {
   "cell_type": "code",
   "execution_count": 8,
   "metadata": {
    "collapsed": false
   },
   "outputs": [],
   "source": [
    "with open('CLYDE_NTEST445.SPC','rb') as bf:\n",
    "    bin_data = bf.read()"
   ]
  },
  {
   "cell_type": "code",
   "execution_count": 59,
   "metadata": {
    "collapsed": false
   },
   "outputs": [
    {
     "data": {
      "text/plain": [
       "'\\x82\\x06\\xef\\xf0'"
      ]
     },
     "execution_count": 59,
     "metadata": {},
     "output_type": "execute_result"
    }
   ],
   "source": [
    "bin_data[512+32:512+32+4]"
   ]
  },
  {
   "cell_type": "code",
   "execution_count": 134,
   "metadata": {
    "collapsed": false
   },
   "outputs": [
    {
     "data": {
      "text/plain": [
       "5815"
      ]
     },
     "execution_count": 134,
     "metadata": {},
     "output_type": "execute_result"
    }
   ],
   "source": [
    "len(bin_data[512:23774])/4"
   ]
  },
  {
   "cell_type": "code",
   "execution_count": 133,
   "metadata": {
    "collapsed": false
   },
   "outputs": [
    {
     "data": {
      "text/plain": [
       "23774"
      ]
     },
     "execution_count": 133,
     "metadata": {},
     "output_type": "execute_result"
    }
   ],
   "source": [
    "int('5cde',base=16)"
   ]
  },
  {
   "cell_type": "code",
   "execution_count": 136,
   "metadata": {
    "collapsed": false
   },
   "outputs": [
    {
     "data": {
      "text/plain": [
       "-9.913623873634808e-38"
      ]
     },
     "execution_count": 136,
     "metadata": {},
     "output_type": "execute_result"
    }
   ],
   "source": [
    "struct.unpack('>f',bin_data[512+32:512+32+4])[0]"
   ]
  },
  {
   "cell_type": "code",
   "execution_count": null,
   "metadata": {
    "collapsed": true
   },
   "outputs": [],
   "source": [
    "52 65 6C 54 69 6D 65 00 00 00 00"
   ]
  },
  {
   "cell_type": "code",
   "execution_count": 56,
   "metadata": {
    "collapsed": false
   },
   "outputs": [
    {
     "data": {
      "text/plain": [
       "'\\x00'"
      ]
     },
     "execution_count": 56,
     "metadata": {},
     "output_type": "execute_result"
    }
   ],
   "source": [
    "chr(int('00',base=16))"
   ]
  },
  {
   "cell_type": "code",
   "execution_count": 143,
   "metadata": {
    "collapsed": false
   },
   "outputs": [
    {
     "data": {
      "text/plain": [
       "9.039539337158203"
      ]
     },
     "execution_count": 143,
     "metadata": {},
     "output_type": "execute_result"
    }
   ],
   "source": [
    "struct.unpack('>f',bin_data[512+32+12:512+32+12+4])[0]"
   ]
  },
  {
   "cell_type": "code",
   "execution_count": 200,
   "metadata": {
    "collapsed": false
   },
   "outputs": [
    {
     "name": "stdout",
     "output_type": "stream",
     "text": [
      "(0, 130, 1090036)\n"
     ]
    }
   ],
   "source": [
    "h = '41 10 A1 F4'\n",
    "b = '01000001' + '00010000' + '10100001' + '11110100'\n",
    "\n",
    "p = 23\n",
    "\n",
    "si = b[0]\n",
    "e = b[1:9]\n",
    "s = b[9:32]\n",
    "\n",
    "#b_l = '11110100' + '10100001' + '00010000' + '01000001' \n",
    "\n",
    "si_b = b[24]\n",
    "e_b = b[25:] + b[16:17]\n",
    "s_b  = b[17:24] + b[8:16] + b[0:8]\n",
    "\n",
    "print(int(si,base=2),int(e,base=2),int(s,base=2))"
   ]
  },
  {
   "cell_type": "code",
   "execution_count": 239,
   "metadata": {
    "collapsed": false
   },
   "outputs": [
    {
     "data": {
      "text/plain": [
       "'ppppp'"
      ]
     },
     "execution_count": 239,
     "metadata": {},
     "output_type": "execute_result"
    }
   ],
   "source": [
    "'p' * 5"
   ]
  },
  {
   "cell_type": "code",
   "execution_count": 270,
   "metadata": {
    "collapsed": false
   },
   "outputs": [
    {
     "data": {
      "text/plain": [
       "-5.9179827847889546e+29"
      ]
     },
     "execution_count": 270,
     "metadata": {},
     "output_type": "execute_result"
    }
   ],
   "source": [
    "def proc_byte_str(b_str):\n",
    "    orig_l = len(b_str)\n",
    "    b_str = b_str.split('0b')[1]\n",
    "    assert(len(b_str) == orig_l -2)\n",
    "\n",
    "    if len(b_str)<8:\n",
    "        b_str = '0' * (8-len(b_str)) + b_str\n",
    "    return b_str\n",
    "\n",
    "def bytes_to_bin(data,ind):\n",
    "    b_vals = [struct.unpack('B',data[ind+i:ind+i+1])[0] for i in range(4)]\n",
    "    rb_strs = [bin(v) for v in b_vals]\n",
    "    pb_strs = [proc_byte_str(s) for s in rb_strs]\n",
    "    return ''.join(pb_strs)\n",
    "\n",
    "def bin_to_float(b_str, base=2, offset=127):\n",
    "    p = 23\n",
    "    si = b_str[0]\n",
    "    e = b_str[1:9]\n",
    "    s = b_str[9:32]\n",
    "\n",
    "    return -1 **int(si,base=2) * (1+int(s,base=2)*base**(-1*p)) * 2**(int(e,base=2)-offset)\n",
    "\n",
    "def b_to_l(b_str):\n",
    "    return b_str[24] + b_str[25:] + b_str[16:17] + b_str[17:24] + b_str[8:16] + b_str[0:8]\n",
    "\n",
    "def convert_bin(data, ind, base=2, offset=127, endian='big'):\n",
    "    p_bin = bytes_to_bin(data, ind)\n",
    "    \n",
    "    if endian == 'little':\n",
    "        p_bin = b_to_l(p_bin)\n",
    "    \n",
    "    f = bin_to_float(p_bin,base=base,offset=offset)\n",
    "    return f\n",
    "\n",
    "init_ind = 512+32\n",
    "convert_bin(bin_data, init_ind, base=2, offset=127, endian='little')\n",
    "\n",
    "#f(x) = ax +b\n",
    "#f(n1)-f(n2) / n2-n1 = a\n",
    "#f(n1) - f(n2) / n2-n1 == f(n3) - f(n4) / n4-n3"
   ]
  },
  {
   "cell_type": "code",
   "execution_count": 235,
   "metadata": {
    "collapsed": false
   },
   "outputs": [
    {
     "data": {
      "text/plain": [
       "'0b1010011'"
      ]
     },
     "execution_count": 235,
     "metadata": {},
     "output_type": "execute_result"
    }
   ],
   "source": [
    "bin(83)"
   ]
  },
  {
   "cell_type": "code",
   "execution_count": 228,
   "metadata": {
    "collapsed": false
   },
   "outputs": [
    {
     "data": {
      "text/plain": [
       "65"
      ]
     },
     "execution_count": 228,
     "metadata": {},
     "output_type": "execute_result"
    }
   ],
   "source": [
    "int(bin(struct.unpack('b',bin_data[512+32+12:512+32+12+1])[0]), base=2)"
   ]
  },
  {
   "cell_type": "code",
   "execution_count": 204,
   "metadata": {
    "collapsed": false
   },
   "outputs": [
    {
     "data": {
      "text/plain": [
       "-9.039539337158203"
      ]
     },
     "execution_count": 204,
     "metadata": {},
     "output_type": "execute_result"
    }
   ],
   "source": [
    "-1 **int(si,base=2) * (1+int(s,base=2)*2**(-1*p)) * 2**(int(e,base=2)-127)"
   ]
  },
  {
   "cell_type": "code",
   "execution_count": 205,
   "metadata": {
    "collapsed": false
   },
   "outputs": [
    {
     "data": {
      "text/plain": [
       "-1.020861160410558e+32"
      ]
     },
     "execution_count": 205,
     "metadata": {},
     "output_type": "execute_result"
    }
   ],
   "source": [
    "-1 **int(si_b,base=2) * (1+int(s_b,base=2)*2**(-1*p)) * 2**(int(e_b,base=2)-127)"
   ]
  },
  {
   "cell_type": "code",
   "execution_count": 11,
   "metadata": {
    "collapsed": false
   },
   "outputs": [
    {
     "data": {
      "text/plain": [
       "'82 06 EF F0'"
      ]
     },
     "execution_count": 11,
     "metadata": {},
     "output_type": "execute_result"
    }
   ],
   "source": [
    "#big endian\n",
    "'82 06 EF F0'"
   ]
  },
  {
   "cell_type": "code",
   "execution_count": 209,
   "metadata": {
    "collapsed": false
   },
   "outputs": [],
   "source": [
    "b_rep = '10000010' + '00000110' + '11101111' + '11110000'"
   ]
  },
  {
   "cell_type": "code",
   "execution_count": 210,
   "metadata": {
    "collapsed": false
   },
   "outputs": [
    {
     "data": {
      "text/plain": [
       "(1, 4, 454640)"
      ]
     },
     "execution_count": 210,
     "metadata": {},
     "output_type": "execute_result"
    }
   ],
   "source": [
    "p = 23\n",
    "si = b_rep[0]\n",
    "e = b_rep[1:9]\n",
    "s = b_rep[9:32]\n",
    "\n",
    "int(si,base=2),int(e,base=2),int(s,base=2)"
   ]
  },
  {
   "cell_type": "code",
   "execution_count": 215,
   "metadata": {
    "collapsed": false
   },
   "outputs": [
    {
     "data": {
      "text/plain": [
       "-1.5861798197815693e-36"
      ]
     },
     "execution_count": 215,
     "metadata": {},
     "output_type": "execute_result"
    }
   ],
   "source": [
    "-1 **int(si,base=2) * (1+int(s,base=2)*2**(-1*p)) * 2**(int(e,base=2)-127)"
   ]
  },
  {
   "cell_type": "code",
   "execution_count": 212,
   "metadata": {
    "collapsed": false
   },
   "outputs": [
    {
     "data": {
      "text/plain": [
       "-4.773236268906365e-72"
      ]
     },
     "execution_count": 212,
     "metadata": {},
     "output_type": "execute_result"
    }
   ],
   "source": [
    "-1 **int(si,base=2) * (1+int(s,base=2)*2**(-1*p)) * 2**(int(e,base=4)-253)"
   ]
  },
  {
   "cell_type": "code",
   "execution_count": 213,
   "metadata": {
    "collapsed": false
   },
   "outputs": [
    {
     "data": {
      "text/plain": [
       "(1, 8, 454640)"
      ]
     },
     "execution_count": 213,
     "metadata": {},
     "output_type": "execute_result"
    }
   ],
   "source": [
    "p = 23\n",
    "si = b_rep[0]\n",
    "e = b_rep[1:10]\n",
    "s = b_rep[10:32]\n",
    "\n",
    "int(si,base=2),int(e,base=2),int(s,base=2)"
   ]
  },
  {
   "cell_type": "code",
   "execution_count": 91,
   "metadata": {
    "collapsed": false
   },
   "outputs": [
    {
     "data": {
      "text/plain": [
       "-1.5861798197815693e-36"
      ]
     },
     "execution_count": 91,
     "metadata": {},
     "output_type": "execute_result"
    }
   ],
   "source": [
    "-1 **int(si,base=2) * (1+int(s,base=2)*2**(-1*p)) * 2**(int(e,base=2)-127)"
   ]
  },
  {
   "cell_type": "code",
   "execution_count": 15,
   "metadata": {
    "collapsed": false
   },
   "outputs": [],
   "source": [
    "#-1**int(si,base=2)*sum([int(b)*2**(-i) for i,b in enumerate('1'+s)]) * 2**(int(e,base=2)-127)"
   ]
  },
  {
   "cell_type": "code",
   "execution_count": 16,
   "metadata": {
    "collapsed": false
   },
   "outputs": [
    {
     "data": {
      "text/plain": [
       "-5.9179827847889546e+29"
      ]
     },
     "execution_count": 16,
     "metadata": {},
     "output_type": "execute_result"
    }
   ],
   "source": [
    "struct.unpack('<f',bin_data[512+32:512+32+4])[0]"
   ]
  },
  {
   "cell_type": "code",
   "execution_count": null,
   "metadata": {
    "collapsed": true
   },
   "outputs": [],
   "source": [
    "#little endian\n",
    "'F0 EF 06 82'"
   ]
  },
  {
   "cell_type": "code",
   "execution_count": 166,
   "metadata": {
    "collapsed": true
   },
   "outputs": [],
   "source": [
    "b_rep_l = '11110000' + '11101111' + '00000110' + '10000010'"
   ]
  },
  {
   "cell_type": "code",
   "execution_count": 167,
   "metadata": {
    "collapsed": true
   },
   "outputs": [],
   "source": [
    "rev = lambda s: ''.join(reversed(s))"
   ]
  },
  {
   "cell_type": "code",
   "execution_count": 168,
   "metadata": {
    "collapsed": false
   },
   "outputs": [
    {
     "data": {
      "text/plain": [
       "(1, 225, 7276162)"
      ]
     },
     "execution_count": 168,
     "metadata": {},
     "output_type": "execute_result"
    }
   ],
   "source": [
    "p = 23\n",
    "si = b_rep_l[0]\n",
    "e = b_rep_l[1:9]\n",
    "s = b_rep_l[9:32]\n",
    "\n",
    "int(si,base=2),int(e,base=2),int(s,base=2)"
   ]
  },
  {
   "cell_type": "code",
   "execution_count": 169,
   "metadata": {
    "collapsed": false
   },
   "outputs": [
    {
     "data": {
      "text/plain": [
       "-5.9179827847889546e+29"
      ]
     },
     "execution_count": 169,
     "metadata": {},
     "output_type": "execute_result"
    }
   ],
   "source": [
    "-1 **int(si,base=2) * (1+int(s,base=2)*2**(-1*p)) * 2**(int(e,base=2)-127)"
   ]
  },
  {
   "cell_type": "code",
   "execution_count": 122,
   "metadata": {
    "collapsed": false
   },
   "outputs": [
    {
     "data": {
      "text/plain": [
       "-6.586733212393975e+178"
      ]
     },
     "execution_count": 122,
     "metadata": {},
     "output_type": "execute_result"
    }
   ],
   "source": [
    "-1 **int(si,base=8) * (1+int(s,base=8)*8**(-1*p)) * 8**(int(e,base=2)-253)"
   ]
  },
  {
   "cell_type": "code",
   "execution_count": 119,
   "metadata": {
    "collapsed": false
   },
   "outputs": [
    {
     "data": {
      "text/plain": [
       "(1, 451, 3081730)"
      ]
     },
     "execution_count": 119,
     "metadata": {},
     "output_type": "execute_result"
    }
   ],
   "source": [
    "p = 23\n",
    "si = b_rep_l[0]\n",
    "e = b_rep_l[1:10]\n",
    "s = b_rep_l[10:32]\n",
    "\n",
    "int(si,base=2),int(e,base=2),int(s,base=2)"
   ]
  },
  {
   "cell_type": "code",
   "execution_count": 120,
   "metadata": {
    "collapsed": false
   },
   "outputs": [
    {
     "data": {
      "text/plain": [
       "-0.0006676615448668599"
      ]
     },
     "execution_count": 120,
     "metadata": {},
     "output_type": "execute_result"
    }
   ],
   "source": [
    "-1 **int(si,base=2) * (1+int(s,base=2)*2**(-1*p)) * 2**(int(e,base=2)-462)"
   ]
  },
  {
   "cell_type": "code",
   "execution_count": 33,
   "metadata": {
    "collapsed": false
   },
   "outputs": [
    {
     "name": "stderr",
     "output_type": "stream",
     "text": [
      "/home/clyde/anaconda/envs/dev/lib/python2.7/site-packages/IPython/kernel/__main__.py:30: RuntimeWarning: invalid value encountered in less\n",
      "/home/clyde/anaconda/envs/dev/lib/python2.7/site-packages/IPython/kernel/__main__.py:30: RuntimeWarning: invalid value encountered in subtract\n"
     ]
    }
   ],
   "source": [
    "locs = []\n",
    "\n",
    "#possible formatsdata.shape[0]\n",
    "fmts = 'dqQfiIlLhH'\n",
    "#their corresponding sizes in bytes\n",
    "szs = [8,8,8,4,4,4,8,8,2,2]\n",
    "\n",
    "search_values = [data.shape[0],\n",
    "                 cm_1__nm(data[0][0]),\n",
    "                 data[0][1],\n",
    "                 cm_1__nm(data[1][0]),\n",
    "                 data[1][1],\n",
    "                 cm_1__nm(data[2][0]),\n",
    "                 data[2][1],\n",
    "                 data[1][0]-data[0][0],\n",
    "                 401,\n",
    "                 402,\n",
    "                 403,\n",
    "                 404,\n",
    "                 405,\n",
    "                 406]\n",
    "\n",
    "\n",
    "for search_value in search_values:\n",
    "    for i in xrange(len(bin_data)-max(szs)):\n",
    "        quants = [struct.unpack(fmt,bin_data[i:i+sz])[0] for fmt,sz in zip(fmts,szs)]\n",
    "        quants = np.array(quants)\n",
    "\n",
    "        try:\n",
    "            q_loc = np.where(abs(quants - search_value) < float(search_value)/1000)[0][0]\n",
    "            locs.append((search_value,i,fmts[q_loc]))\n",
    "        except IndexError:\n",
    "            pass"
   ]
  },
  {
   "cell_type": "code",
   "execution_count": 34,
   "metadata": {
    "collapsed": false
   },
   "outputs": [
    {
     "data": {
      "text/plain": [
       "[(5807, 4, 'i'),\n",
       " (2.486287026864831e-05, 22467, 'f'),\n",
       " (401, 1982, 'h'),\n",
       " (401, 3090, 'h'),\n",
       " (401, 5450, 'h'),\n",
       " (402, 3086, 'h'),\n",
       " (402, 3222, 'h'),\n",
       " (402, 3290, 'h'),\n",
       " (402, 4190, 'h'),\n",
       " (402, 4478, 'h'),\n",
       " (402, 15270, 'h'),\n",
       " (403, 3166, 'h'),\n",
       " (403, 3282, 'h'),\n",
       " (403, 3654, 'h'),\n",
       " (403, 4118, 'h'),\n",
       " (403, 8238, 'h'),\n",
       " (403, 13246, 'h'),\n",
       " (403, 13250, 'h'),\n",
       " (403, 13638, 'h'),\n",
       " (404, 3250, 'h'),\n",
       " (404, 3270, 'h'),\n",
       " (404, 3330, 'h'),\n",
       " (404, 3438, 'h'),\n",
       " (404, 3874, 'h'),\n",
       " (404, 5570, 'h'),\n",
       " (404, 12749, 'h'),\n",
       " (404, 13482, 'h'),\n",
       " (405, 2878, 'h'),\n",
       " (405, 3026, 'h'),\n",
       " (405, 3070, 'h'),\n",
       " (405, 3118, 'h'),\n",
       " (405, 4486, 'h'),\n",
       " (405, 4726, 'h'),\n",
       " (405, 4746, 'h'),\n",
       " (405, 12466, 'h'),\n",
       " (405, 12737, 'h'),\n",
       " (405, 13262, 'h'),\n",
       " (406, 3610, 'h'),\n",
       " (406, 3678, 'h'),\n",
       " (406, 4374, 'h'),\n",
       " (406, 5766, 'h'),\n",
       " (406, 7050, 'h'),\n",
       " (406, 19934, 'f')]"
      ]
     },
     "execution_count": 34,
     "metadata": {},
     "output_type": "execute_result"
    }
   ],
   "source": [
    "locs"
   ]
  },
  {
   "cell_type": "code",
   "execution_count": 35,
   "metadata": {
    "collapsed": false
   },
   "outputs": [
    {
     "data": {
      "text/plain": [
       "[(404, -2200),\n",
       " (404, -2180),\n",
       " (404, -2120),\n",
       " (404, -2012),\n",
       " (404, -1576),\n",
       " (404, 120),\n",
       " (404, 7299),\n",
       " (404, 8032),\n",
       " (405, -2572),\n",
       " (405, -2424),\n",
       " (405, -2380),\n",
       " (405, -2332),\n",
       " (405, -964),\n",
       " (405, -724),\n",
       " (405, -704),\n",
       " (405, 7016),\n",
       " (405, 7287),\n",
       " (405, 7812),\n",
       " (406, -1840),\n",
       " (406, -1772),\n",
       " (406, -1076),\n",
       " (406, 316),\n",
       " (406, 1600),\n",
       " (406, 14484)]"
      ]
     },
     "execution_count": 35,
     "metadata": {},
     "output_type": "execute_result"
    }
   ],
   "source": [
    "zip(zip(*locs)[0][19:],np.array(zip(*locs)[1])[19:]-5450)"
   ]
  },
  {
   "cell_type": "code",
   "execution_count": null,
   "metadata": {
    "collapsed": true
   },
   "outputs": [],
   "source": []
  },
  {
   "cell_type": "markdown",
   "metadata": {
    "collapsed": true
   },
   "source": [
    "switching to trying to crack the JCAMP data format."
   ]
  },
  {
   "cell_type": "code",
   "execution_count": null,
   "metadata": {
    "collapsed": true
   },
   "outputs": [],
   "source": []
  }
 ],
 "metadata": {
  "kernelspec": {
   "display_name": "Python 2",
   "language": "python",
   "name": "python2"
  },
  "language_info": {
   "codemirror_mode": {
    "name": "ipython",
    "version": 2
   },
   "file_extension": ".py",
   "mimetype": "text/x-python",
   "name": "python",
   "nbconvert_exporter": "python",
   "pygments_lexer": "ipython2",
   "version": "2.7.11"
  }
 },
 "nbformat": 4,
 "nbformat_minor": 0
}
