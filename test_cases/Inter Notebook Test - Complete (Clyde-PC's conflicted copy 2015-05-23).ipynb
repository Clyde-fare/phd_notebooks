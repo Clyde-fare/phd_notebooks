{
 "metadata": {
  "name": "",
  "signature": "sha256:c8683fc8bd8bc1f6e02f789fb54474d0e2f1a39c4db353f0176c1d70137fd3b2"
 },
 "nbformat": 3,
 "nbformat_minor": 0,
 "worksheets": [
  {
   "cells": [
    {
     "cell_type": "heading",
     "level": 3,
     "metadata": {},
     "source": [
      "Notes:"
     ]
    },
    {
     "cell_type": "markdown",
     "metadata": {},
     "source": [
      "The following demonstrates linking to, running from and displaying one notebook from inside another notebook. It could be used in combination with a mindmapping tool to better structure research notebooks.\n",
      "It makes uses of information shown in these two demo notebooks:\n",
      "    \n",
      "Minrk's treatment of notebooks as [a module](http://nbviewer.ipython.org/6011986)\n",
      "and another [notebook](http://nbviewer.ipython.org/5491090/analysis.ipynb) by an anonymous author doing something similar.\n",
      "\n",
      "Also more recently note [Fernando's gist](http://nbviewer.ipython.org/gist/fperez/9716279)"
     ]
    },
    {
     "cell_type": "heading",
     "level": 3,
     "metadata": {},
     "source": [
      "Contents"
     ]
    },
    {
     "cell_type": "markdown",
     "metadata": {},
     "source": [
      "We start with a link to local notebook [test](http://127.0.0.1:8888/Test_1.ipynb) inside a markdown cell."
     ]
    },
    {
     "cell_type": "code",
     "collapsed": false,
     "input": [
      "from pygments import highlight\n",
      "from pygments.lexers import PythonLexer\n",
      "from pygments.formatters import HtmlFormatter\n",
      "\n",
      "from IPython.display import display, HTML\n",
      "from IPython.nbformat import current\n",
      "#from IPython.core.interactiveshell import InteractiveShell\n",
      "\n",
      "import io \n",
      "\n",
      "formatter = HtmlFormatter()\n",
      "lexer = PythonLexer()\n",
      "\n",
      "# publish the CSS for pygments highlighting\n",
      "display(HTML(\"\"\"\n",
      "<style type='text/css'>\n",
      "%s\n",
      "</style>\n",
      "\"\"\" % formatter.get_style_defs()\n",
      "))\n",
      "\n",
      "def show_notebook(fname):\n",
      "    \"\"\"display a short summary of the cells of a notebook\"\"\"\n",
      "    with io.open(fname, 'r', encoding='utf-8') as f:\n",
      "        nb = current.read(f, 'json')\n",
      "    html = []\n",
      "    for cell in nb.worksheets[0].cells:\n",
      "        html.append(\"<h4>%s cell</h4>\" % cell.cell_type)\n",
      "        if cell.cell_type == 'code':\n",
      "            html.append(highlight(cell.input, lexer, formatter))\n",
      "        else:\n",
      "            html.append(\"<pre>%s</pre>\" % cell.source)\n",
      "    display(HTML('\\n'.join(html)))\n",
      "\n",
      "show_notebook(\"Inter_Notebook_Test_Dummy -Complete.ipynb\")"
     ],
     "language": "python",
     "metadata": {},
     "outputs": [
      {
       "html": [
        "\n",
        "<style type='text/css'>\n",
        ".hll { background-color: #ffffcc }\n",
        ".c { color: #408080; font-style: italic } /* Comment */\n",
        ".err { border: 1px solid #FF0000 } /* Error */\n",
        ".k { color: #008000; font-weight: bold } /* Keyword */\n",
        ".o { color: #666666 } /* Operator */\n",
        ".cm { color: #408080; font-style: italic } /* Comment.Multiline */\n",
        ".cp { color: #BC7A00 } /* Comment.Preproc */\n",
        ".c1 { color: #408080; font-style: italic } /* Comment.Single */\n",
        ".cs { color: #408080; font-style: italic } /* Comment.Special */\n",
        ".gd { color: #A00000 } /* Generic.Deleted */\n",
        ".ge { font-style: italic } /* Generic.Emph */\n",
        ".gr { color: #FF0000 } /* Generic.Error */\n",
        ".gh { color: #000080; font-weight: bold } /* Generic.Heading */\n",
        ".gi { color: #00A000 } /* Generic.Inserted */\n",
        ".go { color: #888888 } /* Generic.Output */\n",
        ".gp { color: #000080; font-weight: bold } /* Generic.Prompt */\n",
        ".gs { font-weight: bold } /* Generic.Strong */\n",
        ".gu { color: #800080; font-weight: bold } /* Generic.Subheading */\n",
        ".gt { color: #0044DD } /* Generic.Traceback */\n",
        ".kc { color: #008000; font-weight: bold } /* Keyword.Constant */\n",
        ".kd { color: #008000; font-weight: bold } /* Keyword.Declaration */\n",
        ".kn { color: #008000; font-weight: bold } /* Keyword.Namespace */\n",
        ".kp { color: #008000 } /* Keyword.Pseudo */\n",
        ".kr { color: #008000; font-weight: bold } /* Keyword.Reserved */\n",
        ".kt { color: #B00040 } /* Keyword.Type */\n",
        ".m { color: #666666 } /* Literal.Number */\n",
        ".s { color: #BA2121 } /* Literal.String */\n",
        ".na { color: #7D9029 } /* Name.Attribute */\n",
        ".nb { color: #008000 } /* Name.Builtin */\n",
        ".nc { color: #0000FF; font-weight: bold } /* Name.Class */\n",
        ".no { color: #880000 } /* Name.Constant */\n",
        ".nd { color: #AA22FF } /* Name.Decorator */\n",
        ".ni { color: #999999; font-weight: bold } /* Name.Entity */\n",
        ".ne { color: #D2413A; font-weight: bold } /* Name.Exception */\n",
        ".nf { color: #0000FF } /* Name.Function */\n",
        ".nl { color: #A0A000 } /* Name.Label */\n",
        ".nn { color: #0000FF; font-weight: bold } /* Name.Namespace */\n",
        ".nt { color: #008000; font-weight: bold } /* Name.Tag */\n",
        ".nv { color: #19177C } /* Name.Variable */\n",
        ".ow { color: #AA22FF; font-weight: bold } /* Operator.Word */\n",
        ".w { color: #bbbbbb } /* Text.Whitespace */\n",
        ".mf { color: #666666 } /* Literal.Number.Float */\n",
        ".mh { color: #666666 } /* Literal.Number.Hex */\n",
        ".mi { color: #666666 } /* Literal.Number.Integer */\n",
        ".mo { color: #666666 } /* Literal.Number.Oct */\n",
        ".sb { color: #BA2121 } /* Literal.String.Backtick */\n",
        ".sc { color: #BA2121 } /* Literal.String.Char */\n",
        ".sd { color: #BA2121; font-style: italic } /* Literal.String.Doc */\n",
        ".s2 { color: #BA2121 } /* Literal.String.Double */\n",
        ".se { color: #BB6622; font-weight: bold } /* Literal.String.Escape */\n",
        ".sh { color: #BA2121 } /* Literal.String.Heredoc */\n",
        ".si { color: #BB6688; font-weight: bold } /* Literal.String.Interpol */\n",
        ".sx { color: #008000 } /* Literal.String.Other */\n",
        ".sr { color: #BB6688 } /* Literal.String.Regex */\n",
        ".s1 { color: #BA2121 } /* Literal.String.Single */\n",
        ".ss { color: #19177C } /* Literal.String.Symbol */\n",
        ".bp { color: #008000 } /* Name.Builtin.Pseudo */\n",
        ".vc { color: #19177C } /* Name.Variable.Class */\n",
        ".vg { color: #19177C } /* Name.Variable.Global */\n",
        ".vi { color: #19177C } /* Name.Variable.Instance */\n",
        ".il { color: #666666 } /* Literal.Number.Integer.Long */\n",
        "</style>\n"
       ],
       "metadata": {},
       "output_type": "display_data",
       "text": [
        "<IPython.core.display.HTML at 0x7f00b30cf550>"
       ]
      },
      {
       "html": [
        "<h4>markdown cell</h4>\n",
        "<pre>This is part of a pair of notebooks showing calling of cells from notebook to another.\n",
        "\n",
        "Below is a print loop inside the Inter_Notebook_Test_Dummy notebook</pre>\n",
        "<h4>code cell</h4>\n",
        "<div class=\"highlight\"><pre><span class=\"k\">for</span> <span class=\"n\">i</span> <span class=\"ow\">in</span> <span class=\"nb\">range</span><span class=\"p\">(</span><span class=\"mi\">10</span><span class=\"p\">):</span>\n",
        "    <span class=\"k\">print</span><span class=\"p\">(</span><span class=\"n\">i</span><span class=\"p\">)</span>\n",
        "</pre></div>\n",
        "\n",
        "<h4>code cell</h4>\n",
        "<div class=\"highlight\"><pre><span class=\"k\">for</span> <span class=\"n\">j</span> <span class=\"ow\">in</span> <span class=\"nb\">range</span><span class=\"p\">(</span><span class=\"mi\">10</span><span class=\"p\">,</span><span class=\"mi\">20</span><span class=\"p\">):</span>\n",
        "    <span class=\"k\">print</span><span class=\"p\">(</span><span class=\"n\">j</span><span class=\"p\">)</span>\n",
        "</pre></div>\n",
        "\n",
        "<h4>markdown cell</h4>\n",
        "<pre>If we wanted to inherit up to this point we would put the link to the inheriting notebook [here](Inter Notebook Test - Complete.ipynb)</pre>\n",
        "<h4>code cell</h4>\n",
        "<div class=\"highlight\"><pre><span class=\"s\">&#39;Cell 3&#39;</span>\n",
        "</pre></div>\n",
        "\n",
        "<h4>code cell</h4>\n",
        "<div class=\"highlight\"><pre><span class=\"n\">test_var</span><span class=\"o\">=</span><span class=\"nb\">map</span><span class=\"p\">(</span><span class=\"nb\">sum</span><span class=\"p\">,</span> <span class=\"nb\">zip</span><span class=\"p\">(</span><span class=\"nb\">range</span><span class=\"p\">(</span><span class=\"mi\">10</span><span class=\"p\">),</span> <span class=\"nb\">range</span><span class=\"p\">(</span><span class=\"mi\">10</span><span class=\"p\">,</span><span class=\"mi\">20</span><span class=\"p\">)))</span>\n",
        "</pre></div>\n"
       ],
       "metadata": {},
       "output_type": "display_data",
       "text": [
        "<IPython.core.display.HTML at 0x7f00b30cff10>"
       ]
      }
     ],
     "prompt_number": 1
    },
    {
     "cell_type": "code",
     "collapsed": false,
     "input": [
      "import io\n",
      "from IPython.nbformat import current\n",
      "\n",
      "def execute_notebook(nbfile):\n",
      "    \n",
      "    with io.open(nbfile) as f:\n",
      "        nb = current.read(f, 'json')\n",
      "    \n",
      "    ip = get_ipython()\n",
      "    \n",
      "    for cell in nb.worksheets[0].cells:\n",
      "        if cell.cell_type != 'code':\n",
      "            continue\n",
      "        ip.run_cell(cell.input)\n",
      "    \n",
      "execute_notebook('Inter_Notebook_Test_Dummy -Complete.ipynb')"
     ],
     "language": "python",
     "metadata": {},
     "outputs": [
      {
       "output_type": "stream",
       "stream": "stdout",
       "text": [
        "0\n",
        "1\n",
        "2\n",
        "3\n",
        "4\n",
        "5\n",
        "6\n",
        "7\n",
        "8\n",
        "9\n",
        "10\n",
        "11\n",
        "12\n",
        "13\n",
        "14\n",
        "15\n",
        "16\n",
        "17\n",
        "18\n",
        "19\n"
       ]
      },
      {
       "metadata": {},
       "output_type": "pyout",
       "prompt_number": 2,
       "text": [
        "'Cell 3'"
       ]
      }
     ],
     "prompt_number": 2
    },
    {
     "cell_type": "code",
     "collapsed": false,
     "input": [
      "#Testing partial inheritence\n",
      "\n",
      "import io\n",
      "import re\n",
      "from IPython.nbformat import current\n",
      "\n",
      "def extract_linked_nb(mkdn_cell):\n",
      "    nb_link_extractor = re.compile(\"(?<=\\]\\()\\S+ipynb\")\n",
      "    linked_nbs = nb_link_extractor.findall(mkdn_cell['source'])\n",
      "    return linked_nbs\n",
      "\n",
      "def inherit_upto_cell(nb_name, cell_id=-1, silent=False):\n",
      "    \"\"\"inherits from another notebook up to cell number cell_id\"\"\"\n",
      "\n",
      "    ip = get_ipython()\n",
      "\n",
      "    if '.ipynb' not in nb_name:\n",
      "        nb_name += '.ipynb'\n",
      "\n",
      "    with io.open(nb_name) as f:\n",
      "        ancestor_nb = current.read(f, 'json')\n",
      "\n",
      "    code_cells = [cell for cell in ancestor_nb.worksheets[0].cells if cell.cell_type == 'code']\n",
      "\n",
      "    if cell_id == -1:\n",
      "        cell_id = len(code_cells)\n",
      "        print('Inheriting entire notebook')\n",
      "\n",
      "    ancestor_code_cells = [cell for i,cell in enumerate(code_cells) if i <= cell_id]\n",
      "\n",
      "    for cell in ancestor_code_cells:\n",
      "        ip.run_cell(cell.input, silent=silent)\n",
      "\n",
      "    return\n",
      "\n",
      "def inherit_from(nb_name, silent=False):\n",
      "    ip = get_ipython()\n",
      "    \n",
      "    #set current_nb_name with this horrible hack\n",
      "    ip.run_code(\"\"\"from IPython.display import Javascript\\nJavascript('IPython.notebook.kernel.execute(\"current_nb_name = \" + \"\\'\"+IPython.notebook.notebook_name+\"\\'\");')\"\"\")\n",
      "    code_cell_id = 0\n",
      "\n",
      "    if '.ipynb' not in nb_name:\n",
      "        nb_name += '.ipynb'\n",
      "\n",
      "    with io.open(nb_name) as f:\n",
      "        ancestor_nb = current.read(f, 'json')\n",
      "    \n",
      "    id=0\n",
      "    for cell in ancestor_nb.worksheets[0].cells:\n",
      "        if cell.cell_type == 'code':\n",
      "            id+=1\n",
      "        if cell.cell_type == 'markdown' and current_nb_name in extract_linked_nb(cell):\n",
      "            print('Inheriting notebook from cell {id}'.format(id=code_cell_id))"
     ],
     "language": "python",
     "metadata": {},
     "outputs": [],
     "prompt_number": 3
    },
    {
     "cell_type": "code",
     "collapsed": false,
     "input": [
      "inherit_upto_cell('Inter_Notebook_Test_Dummy -Complete.ipynb')"
     ],
     "language": "python",
     "metadata": {},
     "outputs": [
      {
       "output_type": "stream",
       "stream": "stdout",
       "text": [
        "Inheriting entire notebook\n",
        "0\n",
        "1\n",
        "2\n",
        "3\n",
        "4\n",
        "5\n",
        "6\n",
        "7\n",
        "8\n",
        "9\n",
        "10\n",
        "11\n",
        "12\n",
        "13\n",
        "14\n",
        "15\n",
        "16\n",
        "17\n",
        "18\n",
        "19\n"
       ]
      },
      {
       "metadata": {},
       "output_type": "pyout",
       "prompt_number": 4,
       "text": [
        "'Cell 3'"
       ]
      }
     ],
     "prompt_number": 4
    },
    {
     "cell_type": "code",
     "collapsed": false,
     "input": [
      "inherit_from('Inter_Notebook_Test_Dummy -Complete.ipynb')"
     ],
     "language": "python",
     "metadata": {},
     "outputs": [
      {
       "ename": "NameError",
       "evalue": "global name 'current_nb_name' is not defined",
       "output_type": "pyerr",
       "traceback": [
        "\u001b[1;31m---------------------------------------------------------------------------\u001b[0m\n\u001b[1;31mNameError\u001b[0m                                 Traceback (most recent call last)",
        "\u001b[1;32m<ipython-input-5-0c9e83d49aa3>\u001b[0m in \u001b[0;36m<module>\u001b[1;34m()\u001b[0m\n\u001b[1;32m----> 1\u001b[1;33m \u001b[0minherit_from\u001b[0m\u001b[1;33m(\u001b[0m\u001b[1;34m'Inter_Notebook_Test_Dummy -Complete.ipynb'\u001b[0m\u001b[1;33m)\u001b[0m\u001b[1;33m\u001b[0m\u001b[0m\n\u001b[0m",
        "\u001b[1;32m<ipython-input-3-79a61ac6c124>\u001b[0m in \u001b[0;36minherit_from\u001b[1;34m(nb_name, silent)\u001b[0m\n\u001b[0;32m     51\u001b[0m         \u001b[1;32mif\u001b[0m \u001b[0mcell\u001b[0m\u001b[1;33m.\u001b[0m\u001b[0mcell_type\u001b[0m \u001b[1;33m==\u001b[0m \u001b[1;34m'code'\u001b[0m\u001b[1;33m:\u001b[0m\u001b[1;33m\u001b[0m\u001b[0m\n\u001b[0;32m     52\u001b[0m             \u001b[0mid\u001b[0m\u001b[1;33m+=\u001b[0m\u001b[1;36m1\u001b[0m\u001b[1;33m\u001b[0m\u001b[0m\n\u001b[1;32m---> 53\u001b[1;33m         \u001b[1;32mif\u001b[0m \u001b[0mcell\u001b[0m\u001b[1;33m.\u001b[0m\u001b[0mcell_type\u001b[0m \u001b[1;33m==\u001b[0m \u001b[1;34m'markdown'\u001b[0m \u001b[1;32mand\u001b[0m \u001b[0mcurrent_nb_name\u001b[0m \u001b[1;32min\u001b[0m \u001b[0mextract_linked_nb\u001b[0m\u001b[1;33m(\u001b[0m\u001b[0mcell\u001b[0m\u001b[1;33m)\u001b[0m\u001b[1;33m:\u001b[0m\u001b[1;33m\u001b[0m\u001b[0m\n\u001b[0m\u001b[0;32m     54\u001b[0m             \u001b[1;32mprint\u001b[0m\u001b[1;33m(\u001b[0m\u001b[1;34m'Inheriting notebook from cell {id}'\u001b[0m\u001b[1;33m.\u001b[0m\u001b[0mformat\u001b[0m\u001b[1;33m(\u001b[0m\u001b[0mid\u001b[0m\u001b[1;33m=\u001b[0m\u001b[0mcode_cell_id\u001b[0m\u001b[1;33m)\u001b[0m\u001b[1;33m)\u001b[0m\u001b[1;33m\u001b[0m\u001b[0m\n",
        "\u001b[1;31mNameError\u001b[0m: global name 'current_nb_name' is not defined"
       ]
      }
     ],
     "prompt_number": 5
    },
    {
     "cell_type": "code",
     "collapsed": false,
     "input": [
      "nb_name='Inter_Notebook_Test_Dummy -Complete.ipynb'"
     ],
     "language": "python",
     "metadata": {},
     "outputs": [],
     "prompt_number": 6
    },
    {
     "cell_type": "code",
     "collapsed": false,
     "input": [
      "ip = get_ipython()\n",
      "\n",
      "#set current_nb_name with this horrible hack\n",
      "ip.run_code(\"\"\"from IPython.display import Javascript\\nJavascript('IPython.notebook.kernel.execute(\"current_nb_name = \" + \"\\'\"+IPython.notebook.notebook_name+\"\\'\");')\"\"\")\n",
      "code_cell_id = 0\n",
      "\n",
      "if '.ipynb' not in nb_name:\n",
      "    nb_name += '.ipynb'\n",
      "\n",
      "with io.open(nb_name) as f:\n",
      "    ancestor_nb = current.read(f, 'json')\n",
      "\n",
      "id=0\n",
      "for cell in ancestor_nb.worksheets[0].cells:\n",
      "    if cell.cell_type == 'code':\n",
      "        id+=1\n",
      "    if cell.cell_type == 'markdown' and current_nb_name in extract_linked_nb(cell):\n",
      "        print('Inheriting notebook from cell {id}'.format(id=code_cell_id))"
     ],
     "language": "python",
     "metadata": {},
     "outputs": [
      {
       "ename": "NameError",
       "evalue": "name 'current_nb_name' is not defined",
       "output_type": "pyerr",
       "traceback": [
        "\u001b[1;31m---------------------------------------------------------------------------\u001b[0m\n\u001b[1;31mNameError\u001b[0m                                 Traceback (most recent call last)",
        "\u001b[1;32m<ipython-input-7-c529ca3e109e>\u001b[0m in \u001b[0;36m<module>\u001b[1;34m()\u001b[0m\n\u001b[0;32m     15\u001b[0m     \u001b[1;32mif\u001b[0m \u001b[0mcell\u001b[0m\u001b[1;33m.\u001b[0m\u001b[0mcell_type\u001b[0m \u001b[1;33m==\u001b[0m \u001b[1;34m'code'\u001b[0m\u001b[1;33m:\u001b[0m\u001b[1;33m\u001b[0m\u001b[0m\n\u001b[0;32m     16\u001b[0m         \u001b[0mid\u001b[0m\u001b[1;33m+=\u001b[0m\u001b[1;36m1\u001b[0m\u001b[1;33m\u001b[0m\u001b[0m\n\u001b[1;32m---> 17\u001b[1;33m     \u001b[1;32mif\u001b[0m \u001b[0mcell\u001b[0m\u001b[1;33m.\u001b[0m\u001b[0mcell_type\u001b[0m \u001b[1;33m==\u001b[0m \u001b[1;34m'markdown'\u001b[0m \u001b[1;32mand\u001b[0m \u001b[0mcurrent_nb_name\u001b[0m \u001b[1;32min\u001b[0m \u001b[0mextract_linked_nb\u001b[0m\u001b[1;33m(\u001b[0m\u001b[0mcell\u001b[0m\u001b[1;33m)\u001b[0m\u001b[1;33m:\u001b[0m\u001b[1;33m\u001b[0m\u001b[0m\n\u001b[0m\u001b[0;32m     18\u001b[0m         \u001b[1;32mprint\u001b[0m\u001b[1;33m(\u001b[0m\u001b[1;34m'Inheriting notebook from cell {id}'\u001b[0m\u001b[1;33m.\u001b[0m\u001b[0mformat\u001b[0m\u001b[1;33m(\u001b[0m\u001b[0mid\u001b[0m\u001b[1;33m=\u001b[0m\u001b[0mcode_cell_id\u001b[0m\u001b[1;33m)\u001b[0m\u001b[1;33m)\u001b[0m\u001b[1;33m\u001b[0m\u001b[0m\n",
        "\u001b[1;31mNameError\u001b[0m: name 'current_nb_name' is not defined"
       ]
      }
     ],
     "prompt_number": 7
    },
    {
     "cell_type": "code",
     "collapsed": false,
     "input": [
      "ip.run_cell(\"\"\"import IPython.display\\nfrom IPython.display import Javascript\\ndisplay(Javascript('IPython.notebook.kernel.execute(\"current_nb_name = \" + \"\\'\"+IPython.notebook.notebook_name+\"\\'\")'))\"\"\")"
     ],
     "language": "python",
     "metadata": {},
     "outputs": [
      {
       "javascript": [
        "IPython.notebook.kernel.execute(\"current_nb_name = \" + \"+IPython.notebook.notebook_name+\")"
       ],
       "metadata": {},
       "output_type": "display_data",
       "text": [
        "<IPython.core.display.Javascript at 0x7f009ab08410>"
       ]
      }
     ],
     "prompt_number": 18
    },
    {
     "cell_type": "code",
     "collapsed": false,
     "input": [
      "ip.run_code(\"current_nb_name='test'\")"
     ],
     "language": "python",
     "metadata": {},
     "outputs": [
      {
       "metadata": {},
       "output_type": "pyout",
       "prompt_number": 14,
       "text": [
        "0"
       ]
      }
     ],
     "prompt_number": 14
    },
    {
     "cell_type": "code",
     "collapsed": false,
     "input": [
      "current_nb_name"
     ],
     "language": "python",
     "metadata": {},
     "outputs": [
      {
       "metadata": {},
       "output_type": "pyout",
       "prompt_number": 19,
       "text": [
        "'test'"
       ]
      }
     ],
     "prompt_number": 19
    },
    {
     "cell_type": "code",
     "collapsed": false,
     "input": [
      "mk_cells = [cell for cell in ancestor_nb.worksheets[0].cells if cell.cell_type=='markdown']"
     ],
     "language": "python",
     "metadata": {},
     "outputs": []
    },
    {
     "cell_type": "code",
     "collapsed": false,
     "input": [
      "mk_cells"
     ],
     "language": "python",
     "metadata": {},
     "outputs": []
    },
    {
     "cell_type": "code",
     "collapsed": false,
     "input": [
      "current_nb_name"
     ],
     "language": "python",
     "metadata": {},
     "outputs": []
    },
    {
     "cell_type": "code",
     "collapsed": false,
     "input": [
      "ip.all_ns_refs[2].keys()"
     ],
     "language": "python",
     "metadata": {},
     "outputs": [
      {
       "metadata": {},
       "output_type": "pyout",
       "prompt_number": 34,
       "text": [
        "['_dh',\n",
        " '__',\n",
        " '_31',\n",
        " '__builtin__',\n",
        " '_i2',\n",
        " '_i32',\n",
        " '_iii',\n",
        " '_i30',\n",
        " 'quit',\n",
        " '_32',\n",
        " '_i9',\n",
        " '_i8',\n",
        " '_i7',\n",
        " '_i6',\n",
        " '_i5',\n",
        " '_i4',\n",
        " '_i3',\n",
        " '_i11',\n",
        " '_i1',\n",
        " '_i28',\n",
        " '_i10',\n",
        " 'exit',\n",
        " 'get_ipython',\n",
        " '_i',\n",
        " '_i29',\n",
        " '_i26',\n",
        " '_i27',\n",
        " '_i24',\n",
        " '_i14',\n",
        " '_i22',\n",
        " '__doc__',\n",
        " '_i20',\n",
        " '_i16',\n",
        " '_i21',\n",
        " '_23',\n",
        " '_ii',\n",
        " '_i34',\n",
        " '__builtins__',\n",
        " '_33',\n",
        " 'In',\n",
        " '_25',\n",
        " '_26',\n",
        " '_20',\n",
        " '_27',\n",
        " '__name__',\n",
        " '___',\n",
        " '_24',\n",
        " '_',\n",
        " '_28',\n",
        " '_sh',\n",
        " '_i25',\n",
        " '_29',\n",
        " '_8',\n",
        " '_22',\n",
        " '_4',\n",
        " '_2',\n",
        " '_i23',\n",
        " '_i13',\n",
        " '_i12',\n",
        " '_15',\n",
        " '_14',\n",
        " '_i17',\n",
        " '_12',\n",
        " '_i15',\n",
        " '_ih',\n",
        " '_i31',\n",
        " '_17',\n",
        " '_i19',\n",
        " '_i18',\n",
        " '_i33',\n",
        " '_oh',\n",
        " '_19',\n",
        " 'Out']"
       ]
      }
     ],
     "prompt_number": 34
    },
    {
     "cell_type": "code",
     "collapsed": false,
     "input": [],
     "language": "python",
     "metadata": {},
     "outputs": []
    }
   ],
   "metadata": {}
  }
 ]
}