{
 "metadata": {
  "name": ""
 },
 "nbformat": 3,
 "nbformat_minor": 0,
 "worksheets": [
  {
   "cells": [
    {
     "cell_type": "code",
     "collapsed": false,
     "input": [
      "cd d3"
     ],
     "language": "python",
     "metadata": {},
     "outputs": [
      {
       "output_type": "stream",
       "stream": "stdout",
       "text": [
        "/home/clyde/Dropbox/Project Stuff/Notebooks/test_cases/d3\n"
       ]
      }
     ],
     "prompt_number": 1
    },
    {
     "cell_type": "code",
     "collapsed": false,
     "input": [
      "from IPython.display import Javascript\n",
      "\n",
      "#fetch d3 from cloudflare\n",
      "#Javascript(\"\"\"$.getScript('//cdnjs.cloudflare.com/ajax/libs/d3/3.2.2/d3.v3.min.js')\"\"\")\n",
      "Javascript(\"\"\"$.getScript('//d3js.org/d3.v3.min.js')\"\"\")"
     ],
     "language": "python",
     "metadata": {},
     "outputs": [
      {
       "javascript": [
        "$.getScript('//d3js.org/d3.v3.min.js')"
       ],
       "metadata": {},
       "output_type": "pyout",
       "prompt_number": 2,
       "text": [
        "<IPython.core.display.Javascript at 0x23c6ed0>"
       ]
      }
     ],
     "prompt_number": 2
    },
    {
     "cell_type": "code",
     "collapsed": false,
     "input": [
      "%%html\n",
      "<style type=\"text/css\">\n",
      "\n",
      "circle {\n",
      "  fill: rgb(31, 119, 180);\n",
      "  fill-opacity: .25;\n",
      "  stroke: rgb(31, 119, 180);\n",
      "  stroke-width: 1px;\n",
      "}\n",
      "\n",
      ".leaf circle {\n",
      "  fill: #ff7f0e;\n",
      "  fill-opacity: 1;\n",
      "}\n",
      "\n",
      "text {\n",
      "  font: 10px sans-serif;\n",
      "}\n",
      "\n",
      "</style>"
     ],
     "language": "python",
     "metadata": {},
     "outputs": [
      {
       "html": [
        "<style type=\"text/css\">\n",
        "\n",
        "circle {\n",
        "  fill: rgb(31, 119, 180);\n",
        "  fill-opacity: .25;\n",
        "  stroke: rgb(31, 119, 180);\n",
        "  stroke-width: 1px;\n",
        "}\n",
        "\n",
        ".leaf circle {\n",
        "  fill: #ff7f0e;\n",
        "  fill-opacity: 1;\n",
        "}\n",
        "\n",
        "text {\n",
        "  font: 10px sans-serif;\n",
        "}\n",
        "\n",
        "</style>"
       ],
       "metadata": {},
       "output_type": "display_data",
       "text": [
        "<IPython.core.display.HTML at 0x2f71650>"
       ]
      }
     ],
     "prompt_number": 5
    },
    {
     "cell_type": "code",
     "collapsed": false,
     "input": [
      "%%javascript\n",
      "// This unhides the output area\n",
      "container.show();\n",
      "\n",
      "// element is the jQuery element we will append to\n",
      "var e = element.get(0);\n",
      "    \n",
      "var diameter = 600,\n",
      "    format = d3.format(\",d\");\n",
      "\n",
      "var pack = d3.layout.pack()\n",
      "    .size([diameter - 4, diameter - 4])\n",
      "    .value(function(d) { return d.size; });\n",
      "\n",
      "var svg = d3.select(e).append(\"svg\")\n",
      "    .attr(\"width\", diameter)\n",
      "    .attr(\"height\", diameter)\n",
      "  .append(\"g\")\n",
      "    .attr(\"transform\", \"translate(2,2)\");\n",
      "\n",
      "d3.json(\"files/d3/flare.json\", function(error, root) {\n",
      "  var node = svg.datum(root).selectAll(\".node\")\n",
      "      .data(pack.nodes)\n",
      "    .enter().append(\"g\")\n",
      "      .attr(\"class\", function(d) { return d.children ? \"node\" : \"leaf node\"; })\n",
      "      .attr(\"transform\", function(d) { return \"translate(\" + d.x + \",\" + d.y + \")\"; });\n",
      "\n",
      "  node.append(\"title\")\n",
      "      .text(function(d) { return d.name + (d.children ? \"\" : \": \" + format(d.size)); });\n",
      "\n",
      "  node.append(\"circle\")\n",
      "      .attr(\"r\", function(d) { return d.r; });\n",
      "\n",
      "  node.filter(function(d) { return !d.children; }).append(\"text\")\n",
      "      .attr(\"dy\", \".3em\")\n",
      "      .style(\"text-anchor\", \"middle\")\n",
      "      .text(function(d) { return d.name.substring(0, d.r / 3); });\n",
      "});\n",
      "\n",
      "d3.select(self.frameElement).style(\"height\", diameter + \"px\");"
     ],
     "language": "python",
     "metadata": {},
     "outputs": [
      {
       "javascript": [
        "// This unhides the output area\n",
        "container.show();\n",
        "\n",
        "// element is the jQuery element we will append to\n",
        "var e = element.get(0);\n",
        "    \n",
        "var diameter = 600,\n",
        "    format = d3.format(\",d\");\n",
        "\n",
        "var pack = d3.layout.pack()\n",
        "    .size([diameter - 4, diameter - 4])\n",
        "    .value(function(d) { return d.size; });\n",
        "\n",
        "var svg = d3.select(e).append(\"svg\")\n",
        "    .attr(\"width\", diameter)\n",
        "    .attr(\"height\", diameter)\n",
        "  .append(\"g\")\n",
        "    .attr(\"transform\", \"translate(2,2)\");\n",
        "\n",
        "d3.json(\"files/d3/flare.json\", function(error, root) {\n",
        "  var node = svg.datum(root).selectAll(\".node\")\n",
        "      .data(pack.nodes)\n",
        "    .enter().append(\"g\")\n",
        "      .attr(\"class\", function(d) { return d.children ? \"node\" : \"leaf node\"; })\n",
        "      .attr(\"transform\", function(d) { return \"translate(\" + d.x + \",\" + d.y + \")\"; });\n",
        "\n",
        "  node.append(\"title\")\n",
        "      .text(function(d) { return d.name + (d.children ? \"\" : \": \" + format(d.size)); });\n",
        "\n",
        "  node.append(\"circle\")\n",
        "      .attr(\"r\", function(d) { return d.r; });\n",
        "\n",
        "  node.filter(function(d) { return !d.children; }).append(\"text\")\n",
        "      .attr(\"dy\", \".3em\")\n",
        "      .style(\"text-anchor\", \"middle\")\n",
        "      .text(function(d) { return d.name.substring(0, d.r / 3); });\n",
        "});\n",
        "\n",
        "d3.select(self.frameElement).style(\"height\", diameter + \"px\");"
       ],
       "metadata": {},
       "output_type": "display_data",
       "text": [
        "<IPython.core.display.Javascript at 0x1cde810>"
       ]
      }
     ],
     "prompt_number": 4
    },
    {
     "cell_type": "code",
     "collapsed": false,
     "input": [
      "%%html\n",
      "<style>\n",
      "\n",
      ".node {\n",
      "  stroke: #fff;\n",
      "  stroke-width: 1.5px;\n",
      "}\n",
      "\n",
      ".link {\n",
      "  stroke: #999;\n",
      "  stroke-opacity: .6;\n",
      "\n",
      "}\n",
      "\n",
      "</style>"
     ],
     "language": "python",
     "metadata": {},
     "outputs": [
      {
       "html": [
        "<style>\n",
        "\n",
        ".node {\n",
        "  stroke: #fff;\n",
        "  stroke-width: 1.5px;\n",
        "}\n",
        "\n",
        ".link {\n",
        "  stroke: #999;\n",
        "}\n",
        "\n",
        "</style>"
       ],
       "metadata": {},
       "output_type": "display_data",
       "text": [
        "<IPython.core.display.HTML at 0x23c6350>"
       ]
      }
     ],
     "prompt_number": 3
    },
    {
     "cell_type": "code",
     "collapsed": false,
     "input": [
      "%%javascript\n",
      "\n",
      "container.show();\n",
      "\n",
      "var e = element.get(0);\n",
      "\n",
      "var width = 960,\n",
      "    height = 500;\n",
      "\n",
      "var color = d3.scale.category20();\n",
      "\n",
      "var force = d3.layout.force()\n",
      "    .charge(-120)\n",
      "    .linkDistance(30)\n",
      "    .size([width, height]);\n",
      "\n",
      "var svg = d3.select(e).append(\"svg\")\n",
      "    .attr(\"width\", width)\n",
      "    .attr(\"height\", height);\n",
      "\n",
      "d3.json(\"/files/d3/miserables.json\", function(error, graph) {\n",
      "  force\n",
      "      .nodes(graph.nodes)\n",
      "      .links(graph.links)\n",
      "      .start();\n",
      "\n",
      "  var link = svg.selectAll(\".link\")\n",
      "      .data(graph.links)\n",
      "    .enter().append(\"line\")\n",
      "      .attr(\"class\", \"link\")\n",
      "      .style(\"stroke-width\", function(d) { return Math.sqrt(d.value); });\n",
      "\n",
      "  var node = svg.selectAll(\".node\")\n",
      "      .data(graph.nodes)\n",
      "    .enter().append(\"circle\")\n",
      "      .attr(\"class\", \"node\")\n",
      "      .attr(\"r\", 5)\n",
      "      .style(\"fill\", function(d) { return color(d.group); })\n",
      "      .call(force.drag);\n",
      "\n",
      "  node.append(\"title\")\n",
      "      .text(function(d) { return d.name; });\n",
      "\n",
      "  force.on(\"tick\", function() {\n",
      "    link.attr(\"x1\", function(d) { return d.source.x; })\n",
      "        .attr(\"y1\", function(d) { return d.source.y; })\n",
      "        .attr(\"x2\", function(d) { return d.target.x; })\n",
      "        .attr(\"y2\", function(d) { return d.target.y; });\n",
      "\n",
      "    node.attr(\"cx\", function(d) { return d.x; })\n",
      "        .attr(\"cy\", function(d) { return d.y; });\n",
      "  });\n",
      "});"
     ],
     "language": "python",
     "metadata": {},
     "outputs": [
      {
       "javascript": [
        "\n",
        "container.show();\n",
        "\n",
        "var e = element.get(0);\n",
        "\n",
        "var width = 960,\n",
        "    height = 500;\n",
        "\n",
        "var color = d3.scale.category20();\n",
        "\n",
        "var force = d3.layout.force()\n",
        "    .charge(-120)\n",
        "    .linkDistance(30)\n",
        "    .size([width, height]);\n",
        "\n",
        "var svg = d3.select(e).append(\"svg\")\n",
        "    .attr(\"width\", width)\n",
        "    .attr(\"height\", height);\n",
        "\n",
        "d3.json(\"/files/d3/miserables.json\", function(error, graph) {\n",
        "  force\n",
        "      .nodes(graph.nodes)\n",
        "      .links(graph.links)\n",
        "      .start();\n",
        "\n",
        "  var link = svg.selectAll(\".link\")\n",
        "      .data(graph.links)\n",
        "    .enter().append(\"line\")\n",
        "      .attr(\"class\", \"link\")\n",
        "      .style(\"stroke-width\", function(d) { return Math.sqrt(d.value); });\n",
        "\n",
        "  var node = svg.selectAll(\".node\")\n",
        "      .data(graph.nodes)\n",
        "    .enter().append(\"circle\")\n",
        "      .attr(\"class\", \"node\")\n",
        "      .attr(\"r\", 5)\n",
        "      .style(\"fill\", function(d) { return color(d.group); })\n",
        "      .call(force.drag);\n",
        "\n",
        "  node.append(\"title\")\n",
        "      .text(function(d) { return d.name; });\n",
        "\n",
        "  force.on(\"tick\", function() {\n",
        "    link.attr(\"x1\", function(d) { return d.source.x; })\n",
        "        .attr(\"y1\", function(d) { return d.source.y; })\n",
        "        .attr(\"x2\", function(d) { return d.target.x; })\n",
        "        .attr(\"y2\", function(d) { return d.target.y; });\n",
        "\n",
        "    node.attr(\"cx\", function(d) { return d.x; })\n",
        "        .attr(\"cy\", function(d) { return d.y; });\n",
        "  });\n",
        "});"
       ],
       "metadata": {},
       "output_type": "display_data",
       "text": [
        "<IPython.core.display.Javascript at 0x23c6750>"
       ]
      }
     ],
     "prompt_number": 4
    },
    {
     "cell_type": "code",
     "collapsed": false,
     "input": [],
     "language": "python",
     "metadata": {},
     "outputs": []
    }
   ],
   "metadata": {}
  }
 ]
}