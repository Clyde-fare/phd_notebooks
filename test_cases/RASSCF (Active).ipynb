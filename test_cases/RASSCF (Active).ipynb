{
 "metadata": {
  "name": ""
 },
 "nbformat": 3,
 "nbformat_minor": 0,
 "worksheets": [
  {
   "cells": [
    {
     "cell_type": "markdown",
     "metadata": {},
     "source": [
      "Here we are following Mike Robb's initial attempt to perform a RASSCF calculation on cyclo pentadiene. First running a calculation to generate the natural bond orbitals. Visualizing them and choosing an activate space (the pi orbitals). Then running an initial calculation with loose convergence criteria and 'Levy damping' to stop the calculation falling into a local minima, then reading in the subsequent converged solution and rerunning using stricter convergence and without the damping.  "
     ]
    },
    {
     "cell_type": "code",
     "collapsed": false,
     "input": [
      "from ase.io import read\n",
      "from ase.calculators.gaussian import Gaussian\n",
      "import cc_notebook_utils\n",
      "from cc_notebook_utils import *\n",
      "from ASE_utils import *"
     ],
     "language": "python",
     "metadata": {},
     "outputs": [
      {
       "output_type": "stream",
       "stream": "stderr",
       "text": [
        "WARNING: Neither ~/.pyp_util.ini nor ./pbs_util.ini exist."
       ]
      }
     ],
     "prompt_number": 1
    },
    {
     "cell_type": "code",
     "collapsed": false,
     "input": [
      "cd ras_cpd/"
     ],
     "language": "python",
     "metadata": {},
     "outputs": [
      {
       "output_type": "stream",
       "stream": "stdout",
       "text": [
        "/home/clyde/Dropbox/Project Stuff/Notebooks/test_cases/ras_cpd\n"
       ]
      }
     ],
     "prompt_number": 2
    },
    {
     "cell_type": "code",
     "collapsed": false,
     "input": [
      "cpd = read('cpd.xyz')\n",
      "cpd.set_calculator(Gaussian(label='init_cpd_orbitals', method='scf',basis='3-21g',pop='nboread', \\\n",
      "                            extrabasis='extrabasis', basisfile='extra_3p_basis.gbs'))\n",
      "cpd.calc.extra_input = r'$nbo   AONBO=C  $e'\n",
      "cpd.calc.set_job(nodes=1,memory=1*1200,time=1, version='gdvh32')"
     ],
     "language": "python",
     "metadata": {},
     "outputs": [],
     "prompt_number": 3
    },
    {
     "cell_type": "code",
     "collapsed": false,
     "input": [
      "check_calcs([cpd])\n",
      "mols_to_html([cpd])"
     ],
     "language": "python",
     "metadata": {},
     "outputs": [
      {
       "html": [
        "\n",
        "           <script type=\"text/javascript\">\n",
        "           function view_function (event, file_n) {\n",
        "               if (event.ctrlKey && event.shiftKey){\n",
        "                   IPython.notebook.kernel.execute(\"cc_notebook_utils.pygview('\" + file_n + \".log')\");\n",
        "               }\n",
        "               else if (event.ctrlKey){\n",
        "                   IPython.notebook.kernel.execute(\"cc_notebook_utils.pygausssum('\" + file_n + \".log')\");\n",
        "               }\n",
        "               else if (event.shiftKey){\n",
        "                   IPython.notebook.kernel.execute(\"cc_notebook_utils.pyvogadro('\" + file_n + \".log')\");\n",
        "               }\n",
        "               else {\n",
        "                   IPython.notebook.kernel.execute(\"cc_notebook_utils.pyvim('\" + file_n + \".log')\");\n",
        "                   IPython.notebook.kernel.execute(\"print(file_n)\");\n",
        "               }\n",
        "           }\n",
        "           </script>\n",
        "    <style>\n",
        "    table\n",
        "    {\n",
        "        border-collapse:collapse;\n",
        "    }\n",
        "    td\n",
        "    {\n",
        "        padding:15px;\n",
        "    }\n",
        "    </style>\n",
        "    <body>\n",
        "    <table bgcolor=\"white\">\n",
        "    <col/><tr><td>init_cpd_orbitals</td><td><a href = \"files/test_cases/ras_cpd/init_cpd_orbitals.com\" target = \"_blank\">com</a></td><td><input type=\"button\" value=\"Smart Log\" id=\"init_cpd_orbitals\" onclick=\"view_function(event, this.id)\" /></td><td>Success</td></tr>\n",
        "    </table>\n",
        "    </body>"
       ],
       "metadata": {},
       "output_type": "pyout",
       "prompt_number": 4,
       "text": [
        "<IPython.core.display.HTML at 0x3eb4fd0>"
       ]
      }
     ],
     "prompt_number": 4
    },
    {
     "cell_type": "markdown",
     "metadata": {},
     "source": [
      "Visual examination of the orbitals meant we selected 7,12,75,80,26,38,48 and 60 as the ethene pi, pi* and the extra 3p orbitals"
     ]
    },
    {
     "cell_type": "code",
     "collapsed": false,
     "input": [
      "damping_factors = '0.01        0.01      0.01       0.01         0.0      0.0       0.0     2.0'\n",
      "cpd.calc.restart(label='init_cas_cpd', oldchk='init_cpd_orbitals', method='CAS(4,8,nroot=4,stateaverage)', \n",
      "                 state_weights=[0, float(1)/3,float(1)/3,float(1)/3], basis='3-21g', extrabasis='extrabasis', \\\n",
      "                 basisfile='extra_3p_basis.gbs', pop='full', guess='(read,alter)', geom='check', \n",
      "                 scf='(maxcycle=300)',ioplist=['5/6=3','5/8=1000'])\n",
      "                 \n",
      "cpd.calc.set_orbital_swaps([7,12,75,80,26,38,48,60], [17,18,19,20,21,22,23,24])\n",
      "cpd.calc.extra_input = damping_factors\n",
      "cpd.calc.set_job(nodes=8,memory=8*1200,time=1,version='gdvh32')"
     ],
     "language": "python",
     "metadata": {},
     "outputs": [],
     "prompt_number": 5
    },
    {
     "cell_type": "code",
     "collapsed": false,
     "input": [
      "check_calcs([cpd])\n",
      "mols_to_html([cpd])"
     ],
     "language": "python",
     "metadata": {},
     "outputs": [
      {
       "html": [
        "\n",
        "           <script type=\"text/javascript\">\n",
        "           function view_function (event, file_n) {\n",
        "               if (event.ctrlKey && event.shiftKey){\n",
        "                   IPython.notebook.kernel.execute(\"cc_notebook_utils.pygview('\" + file_n + \".log')\");\n",
        "               }\n",
        "               else if (event.ctrlKey){\n",
        "                   IPython.notebook.kernel.execute(\"cc_notebook_utils.pygausssum('\" + file_n + \".log')\");\n",
        "               }\n",
        "               else if (event.shiftKey){\n",
        "                   IPython.notebook.kernel.execute(\"cc_notebook_utils.pyvogadro('\" + file_n + \".log')\");\n",
        "               }\n",
        "               else {\n",
        "                   IPython.notebook.kernel.execute(\"cc_notebook_utils.pyvim('\" + file_n + \".log')\");\n",
        "                   IPython.notebook.kernel.execute(\"print(file_n)\");\n",
        "               }\n",
        "           }\n",
        "           </script>\n",
        "    <style>\n",
        "    table\n",
        "    {\n",
        "        border-collapse:collapse;\n",
        "    }\n",
        "    td\n",
        "    {\n",
        "        padding:15px;\n",
        "    }\n",
        "    </style>\n",
        "    <body>\n",
        "    <table bgcolor=\"white\">\n",
        "    <col/><tr><td>init_cas_cpd</td><td><a href = \"files/test_cases/ras_cpd/init_cas_cpd.com\" target = \"_blank\">com</a></td><td><input type=\"button\" value=\"Smart Log\" id=\"init_cas_cpd\" onclick=\"view_function(event, this.id)\" /></td><td>Success</td></tr>\n",
        "    </table>\n",
        "    </body>"
       ],
       "metadata": {},
       "output_type": "pyout",
       "prompt_number": 7,
       "text": [
        "<IPython.core.display.HTML at 0x32fa1d0>"
       ]
      }
     ],
     "prompt_number": 7
    }
   ],
   "metadata": {}
  }
 ]
}