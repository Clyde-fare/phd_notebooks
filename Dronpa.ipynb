{
 "metadata": {
  "name": "",
  "signature": "sha256:5316f7915041d6fd103cc08c80d0259e7240243cb256e3a83c7359a8c728e588"
 },
 "nbformat": 3,
 "nbformat_minor": 0,
 "worksheets": [
  {
   "cells": [
    {
     "cell_type": "markdown",
     "metadata": {},
     "source": [
      "References fom [Jasper](http://www.nature.com/ncomms/journal/v4/n2/full/ncomms2460.html)"
     ]
    },
    {
     "cell_type": "code",
     "collapsed": false,
     "input": [],
     "language": "python",
     "metadata": {},
     "outputs": []
    }
   ],
   "metadata": {}
  }
 ]
}