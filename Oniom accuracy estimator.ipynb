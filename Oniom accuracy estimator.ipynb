{
 "metadata": {
  "name": "Oniom accuracy estimator"
 },
 "nbformat": 3,
 "nbformat_minor": 0,
 "worksheets": [
  {
   "cells": [
    {
     "cell_type": "markdown",
     "metadata": {},
     "source": [
      "$$E_{system}^ {oniom} = E_{system}^{low} + E_{model}^{high} - E_{model}^{low}$$"
     ]
    },
    {
     "cell_type": "markdown",
     "metadata": {},
     "source": [
      "The absolute Oniom error is: $$E_{system}^{high}-E_{system}^ {oniom} = E_{system}^{high}-(E_{system}^ {low}+E_{model}^{high}-E_{model}^ {low}) = (E_{system}^{high}-E_{model}^{high}) - (E_{system}^ {low}-E_{model}^ {low}) = (E_{system}^{high}-E_{system}^{low}) - (E_{model}^ {high}-E_{model}^ {low})$$"
     ]
    },
    {
     "cell_type": "markdown",
     "metadata": {},
     "source": [
      "This is the $\\Delta{S^{ONIOM}}$ value and we can calculate it in Gaussian via the keyword oniom(high:low)=SValue"
     ]
    },
    {
     "cell_type": "markdown",
     "metadata": {},
     "source": [
      "But we are if we are interested in the difference in the energies between different geometries this may be too strict, instead we may be more interested in the relative oniom error: $$\\Delta{E_{systems}^ {high}}-\\Delta{E_{systems}^{oniom}} = \\Delta{E_{systems}^{high}}-(\\Delta{E_{systems}^ {low}}+\\Delta{E_{models}^{high}}-\\Delta{E_{models}^ {low}}) = (\\Delta{E_{systems}^{high}}-\\Delta{E_{models}^{high}}) - (\\Delta{E_{systems}^ {low}}-\\Delta{E_{models}^ {low}}) = (\\Delta{E_{systems}^{high}}-\\Delta{E_{systems}^{low}}) - (\\Delta{E_{models}^ {high}}-\\Delta{E_{modesl}^ {low}})$$"
     ]
    },
    {
     "cell_type": "markdown",
     "metadata": {},
     "source": [
      "where $\\Delta{E_{systems}} = E_{system2} - E_{system1}$ and $\\Delta{E_{models}} = E_{model2} - E_{model1}$"
     ]
    },
    {
     "cell_type": "markdown",
     "metadata": {},
     "source": [
      "This relative oniom error represents the error when using oniom to calculate energy differences and it corresponds to $\\Delta{S^{system2}} - \\Delta{S^{system1}}$ i.e. $\\Delta{}\\Delta{S^{systems}}$"
     ]
    },
    {
     "cell_type": "markdown",
     "metadata": {},
     "source": [
      "We can also consider not just energy differences but differences between energy differences. In this case we have:"
     ]
    },
    {
     "cell_type": "markdown",
     "metadata": {},
     "source": [
      "$(E_{system4}^{oniom} - E_{system3}^{oniom}) - (E_{system2}^{oniom} - E_{system1}^{oniom}) = \\Delta{E_{system4/3}^{oniom}} - \\Delta{E_{systems2/1}^{oniom}} =  \\Delta{}\\Delta{}E_{systems}^ {oniom} \\cong \\Delta{}\\Delta{}E_{systems}^ {high}$ hence $\\Delta{}\\Delta{}E_{systems}^{low} - \\Delta{}\\Delta{}E_{systems}^ {high}  + \\Delta{}\\Delta{}E_{models}^{high} - \\Delta{}\\Delta{}E_{models}^{low} \\cong 0$"
     ]
    },
    {
     "cell_type": "markdown",
     "metadata": {},
     "source": [
      "This means we can also define a second order Oniom relative error as: I.e. we can define an Oniom relative error as $\\Delta\\Delta(E_{systems}^ {high} - E_{systems}^{low}) - \\Delta\\Delta(E_{models}^{high} - E_{models}^{low})$ this error is represents the error when using oniom to calculate differences between energy differences (and due to error cancellation is expected to be lower the first order error defined above)"
     ]
    },
    {
     "cell_type": "markdown",
     "metadata": {},
     "source": [
      "If we are computing force constants we are effectively computing $\\Delta{}\\Delta{}E / c$ where c is a constant. This follows from $K=\\frac{d^2E}{dx^2} = \\frac{d}{dx}(\\frac{dE}{dx}) = \\frac{\\frac{E_{x2} - E_{x1}}{\\Delta{x}} - \\frac{E_{x4} - E_{x3}}{\\Delta{x}}}{\\Delta{x}}$ where $\\Delta{x} = x4-x3 = x2-x1$ Thus $K* \\Delta{x}^2=\\Delta\\Delta{E} $"
     ]
    },
    {
     "cell_type": "markdown",
     "metadata": {},
     "source": [
      "So if we calculate: $$\\Delta(K_{system}^ {high} - K_{system}^{low}) - \\Delta(K_{model}^{high} - K_{model}^{low})$$"
     ]
    },
    {
     "cell_type": "code",
     "collapsed": false,
     "input": [],
     "language": "python",
     "metadata": {},
     "outputs": []
    }
   ],
   "metadata": {}
  }
 ]
}