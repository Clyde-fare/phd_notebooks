{
 "metadata": {
  "name": ""
 },
 "nbformat": 3,
 "nbformat_minor": 0,
 "worksheets": [
  {
   "cells": [
    {
     "cell_type": "heading",
     "level": 1,
     "metadata": {},
     "source": [
      "1,3-Dipolar Cycloadditions to graphene performed with unrestricted calculations"
     ]
    },
    {
     "cell_type": "markdown",
     "metadata": {},
     "source": [
      "Calculations will be performed in the unrestricted_cycloadd directory"
     ]
    },
    {
     "cell_type": "code",
     "collapsed": false,
     "input": [
      "import pandas\n",
      "from ASE_utils import *\n",
      "import cc_notebook_utils\n",
      "from cc_notebook_utils import *\n",
      "from collections import OrderedDict as OD\n",
      "import numpy as np\n",
      "from webbrowser import open as open_log\n",
      "from math import pi\n",
      "from IPython.core.display import HTML, Image\n",
      "from ase.io import read, write\n",
      "from ase.calculators.gaussian import Gaussian\n",
      "from glob import glob\n",
      "from adsy import display as ad_disp\n",
      "pandas.set_printoptions(max_rows=200, max_columns=10)\n",
      "ad_disp.extended_styles()"
     ],
     "language": "python",
     "metadata": {},
     "outputs": [
      {
       "output_type": "stream",
       "stream": "stderr",
       "text": [
        "/home/clyde/anaconda/lib/python2.7/site-packages/pandas/core/format.py:1653: FutureWarning: set_printoptions is deprecated, use set_option instead\n",
        "  FutureWarning)\n"
       ]
      },
      {
       "html": [
        "\n",
        "        <script type=\"text/javascript\">\n",
        "        var toggleInput;\n",
        "        (function() {\n",
        "            var inputInterval;\n",
        "            var intervalCount = 0;\n",
        "            var init = false;\n",
        "            var inputUp = false;\n",
        "            toggleInput = function() {\n",
        "                if(inputUp) {\n",
        "                    $('div.input').slideDown();\n",
        "                    $('div.code_cell').attr('style', '');\n",
        "                }\n",
        "                else {\n",
        "                    $('div.input').slideUp();\n",
        "                    $('div.code_cell').attr('style', 'padding: 0px; margin: 0px');\n",
        "                }\n",
        "                inputUp = !inputUp;\n",
        "                init = true;\n",
        "            }\n",
        "            function initExtendedStyles() {\n",
        "                if(intervalCount > 15) {\n",
        "                    clearInterval(inputInterval);\n",
        "                }\n",
        "                intervalCount += 1;\n",
        "                try {\n",
        "                    // Only slideUp if we're not on notebook server\n",
        "                    // meaning Print View and nbconverted\n",
        "                    if($('#save_status').length == 0 && init == false) {\n",
        "                        toggleInput();\n",
        "                    }\n",
        "                    clearInterval(inputInterval);\n",
        "                } catch(e) {}\n",
        "            }\n",
        "            if (typeof jQuery == 'undefined') {\n",
        "                // if jQuery Library is not loaded\n",
        "                var script = document.createElement( 'script' );\n",
        "                script.type = 'text/javascript';\n",
        "                script.src = 'https://ajax.googleapis.com/ajax/libs/jquery/1.8.3/jquery.min.js';\n",
        "                document.body.appendChild(script);\n",
        "            }\n",
        "\n",
        "            setTimeout(initExtendedStyles, 200);\n",
        "            // jQuery is doing this interval trick\n",
        "            // I guess its the way to do it then.\n",
        "            inputInterval = setInterval(initExtendedStyles, 1000);\n",
        "        }());\n",
        "        </script>\n",
        "        <a href=\"javascript:toggleInput()\">Toggle Input</a>\n",
        "        "
       ],
       "metadata": {},
       "output_type": "pyout",
       "prompt_number": 1,
       "text": [
        "<IPython.core.display.HTML at 0x45d8050>"
       ]
      }
     ],
     "prompt_number": 1
    },
    {
     "cell_type": "code",
     "collapsed": true,
     "input": [
      "cd unrestricted_cycloadd/"
     ],
     "language": "python",
     "metadata": {},
     "outputs": [
      {
       "output_type": "stream",
       "stream": "stdout",
       "text": [
        "/home/clyde/Dropbox/Project Stuff/Notebooks/unrestricted_cycloadd\n"
       ]
      }
     ],
     "prompt_number": 2
    },
    {
     "cell_type": "heading",
     "level": 2,
     "metadata": {},
     "source": [
      "Reaction Energies"
     ]
    },
    {
     "cell_type": "markdown",
     "metadata": {},
     "source": [
      "We aim to calculate energies at the UB3LYP_6_31G(d)//UHF_STO3G level so we first we optimise the geometry of the graphene sheets, rxn products and ylides at the UHF-STO-3G level."
     ]
    },
    {
     "cell_type": "code",
     "collapsed": true,
     "input": [
      "#to load previously submitted calc after kernel reset, comment out get_potential_energy() rerun cell and then run ASE_utils.check_calcs\n",
      "#initial xyz files optimised with avogadro's forcefield optimiser\n",
      "xyz_files = [xyz_file for xyz_file in glob('xyz_files/init/*.xyz') if '3_3' in xyz_file or '4_4' in xyz_file or 'ylide' in xyz_file]\n",
      "ylides_xyz = sorted([xyz_f for xyz_f in xyz_files if 'ylide' in xyz_f])\n",
      "graphenes_xyz =  sorted([xyz_f for xyz_f in xyz_files if 'graphene' in xyz_f])\n",
      "product_xyz = sorted([xyz_f for xyz_f in xyz_files if 'ylide' not in xyz_f and 'graphene' not in xyz_f])\n",
      "\n",
      "hf_molecules = []\n",
      "for xyz_file in xyz_files:\n",
      "    base_name = os.path.split(xyz_file)[1].replace('.xyz', '')\n",
      "    name = 'UHF_STO3G_UHF_STO3G_' + base_name \n",
      "    hf_molecule = read(xyz_file)\n",
      "    hf_molecule.set_calculator(Gaussian(label=name, method='UHF', basis='STO-3G', opt='opt'))\n",
      "    hf_molecule.calc.set_job(nodes=8, memory=8*1400, time=5, queue='pqmb')\n",
      "    #hf_molecule.calc.start()\n",
      "    hf_molecules.append(hf_molecule)\n",
      "check_calcs(hf_molecules)\n",
      "mols_to_html(hf_molecules)"
     ],
     "language": "python",
     "metadata": {},
     "outputs": [
      {
       "html": [
        "\n",
        "           <script type=\"text/javascript\">\n",
        "           function view_function (event, file_n) {\n",
        "               if (event.ctrlKey && event.shiftKey){\n",
        "                   IPython.notebook.kernel.execute(\"cc_notebook_utils.pygview('\" + file_n + \".log')\");\n",
        "               }\n",
        "               else if (event.ctrlKey){\n",
        "                   IPython.notebook.kernel.execute(\"cc_notebook_utils.pygausssum('\" + file_n + \".log')\");\n",
        "               }\n",
        "               else if (event.shiftKey){\n",
        "                   IPython.notebook.kernel.execute(\"cc_notebook_utils.pyvogadro('\" + file_n + \".log')\");\n",
        "               }\n",
        "               else {\n",
        "                   IPython.notebook.kernel.execute(\"cc_notebook_utils.pyvim('\" + file_n + \".log')\");\n",
        "                   IPython.notebook.kernel.execute(\"print(file_n)\");\n",
        "               }\n",
        "           }\n",
        "           </script>\n",
        "    <style>\n",
        "    table\n",
        "    {\n",
        "        border-collapse:collapse;\n",
        "    }\n",
        "    td\n",
        "    {\n",
        "        padding:15px;\n",
        "    }\n",
        "    </style>\n",
        "    <body>\n",
        "    <table bgcolor=\"white\">\n",
        "    <col/><tr><td>UHF_STO3G_UHF_STO3G_carbonyl_ylide</td><td><a href = \"files/unrestricted_cycloadd/UHF_STO3G_UHF_STO3G_carbonyl_ylide.com\" target = \"_blank\">com</a></td><td><input type=\"button\" value=\"Smart Log\" id=\"UHF_STO3G_UHF_STO3G_carbonyl_ylide\" onclick=\"view_function(event, this.id)\" /></td><td>Success</td></tr><tr><td>UHF_STO3G_UHF_STO3G_azomethine_ylide</td><td><a href = \"files/unrestricted_cycloadd/UHF_STO3G_UHF_STO3G_azomethine_ylide.com\" target = \"_blank\">com</a></td><td><input type=\"button\" value=\"Smart Log\" id=\"UHF_STO3G_UHF_STO3G_azomethine_ylide\" onclick=\"view_function(event, this.id)\" /></td><td>Success</td></tr><tr><td>UHF_STO3G_UHF_STO3G_4_4_corn_carbonyl</td><td><a href = \"files/unrestricted_cycloadd/UHF_STO3G_UHF_STO3G_4_4_corn_carbonyl.com\" target = \"_blank\">com</a></td><td><input type=\"button\" value=\"Smart Log\" id=\"UHF_STO3G_UHF_STO3G_4_4_corn_carbonyl\" onclick=\"view_function(event, this.id)\" /></td><td>Success</td></tr><tr><td>UHF_STO3G_UHF_STO3G_3_3_cent_carbonyl</td><td><a href = \"files/unrestricted_cycloadd/UHF_STO3G_UHF_STO3G_3_3_cent_carbonyl.com\" target = \"_blank\">com</a></td><td><input type=\"button\" value=\"Smart Log\" id=\"UHF_STO3G_UHF_STO3G_3_3_cent_carbonyl\" onclick=\"view_function(event, this.id)\" /></td><td>Success</td></tr><tr><td>UHF_STO3G_UHF_STO3G_4_4_graphene</td><td><a href = \"files/unrestricted_cycloadd/UHF_STO3G_UHF_STO3G_4_4_graphene.com\" target = \"_blank\">com</a></td><td><input type=\"button\" value=\"Smart Log\" id=\"UHF_STO3G_UHF_STO3G_4_4_graphene\" onclick=\"view_function(event, this.id)\" /></td><td>Success</td></tr><tr><td>UHF_STO3G_UHF_STO3G_3_3_corn_carbonyl</td><td><a href = \"files/unrestricted_cycloadd/UHF_STO3G_UHF_STO3G_3_3_corn_carbonyl.com\" target = \"_blank\">com</a></td><td><input type=\"button\" value=\"Smart Log\" id=\"UHF_STO3G_UHF_STO3G_3_3_corn_carbonyl\" onclick=\"view_function(event, this.id)\" /></td><td>Success</td></tr><tr><td>UHF_STO3G_UHF_STO3G_3_3_edg_azomethine</td><td><a href = \"files/unrestricted_cycloadd/UHF_STO3G_UHF_STO3G_3_3_edg_azomethine.com\" target = \"_blank\">com</a></td><td><input type=\"button\" value=\"Smart Log\" id=\"UHF_STO3G_UHF_STO3G_3_3_edg_azomethine\" onclick=\"view_function(event, this.id)\" /></td><td>Success</td></tr><tr><td>UHF_STO3G_UHF_STO3G_4_4_edg_azomethine</td><td><a href = \"files/unrestricted_cycloadd/UHF_STO3G_UHF_STO3G_4_4_edg_azomethine.com\" target = \"_blank\">com</a></td><td><input type=\"button\" value=\"Smart Log\" id=\"UHF_STO3G_UHF_STO3G_4_4_edg_azomethine\" onclick=\"view_function(event, this.id)\" /></td><td>Success</td></tr><tr><td>UHF_STO3G_UHF_STO3G_4_4_corn_azomethine</td><td><a href = \"files/unrestricted_cycloadd/UHF_STO3G_UHF_STO3G_4_4_corn_azomethine.com\" target = \"_blank\">com</a></td><td><input type=\"button\" value=\"Smart Log\" id=\"UHF_STO3G_UHF_STO3G_4_4_corn_azomethine\" onclick=\"view_function(event, this.id)\" /></td><td>Success</td></tr><tr><td>UHF_STO3G_UHF_STO3G_3_3_cent_azomethine</td><td><a href = \"files/unrestricted_cycloadd/UHF_STO3G_UHF_STO3G_3_3_cent_azomethine.com\" target = \"_blank\">com</a></td><td><input type=\"button\" value=\"Smart Log\" id=\"UHF_STO3G_UHF_STO3G_3_3_cent_azomethine\" onclick=\"view_function(event, this.id)\" /></td><td>Success</td></tr><tr><td>UHF_STO3G_UHF_STO3G_3_3_edg_carbonyl</td><td><a href = \"files/unrestricted_cycloadd/UHF_STO3G_UHF_STO3G_3_3_edg_carbonyl.com\" target = \"_blank\">com</a></td><td><input type=\"button\" value=\"Smart Log\" id=\"UHF_STO3G_UHF_STO3G_3_3_edg_carbonyl\" onclick=\"view_function(event, this.id)\" /></td><td>Success</td></tr><tr><td>UHF_STO3G_UHF_STO3G_4_4_cent_azomethine</td><td><a href = \"files/unrestricted_cycloadd/UHF_STO3G_UHF_STO3G_4_4_cent_azomethine.com\" target = \"_blank\">com</a></td><td><input type=\"button\" value=\"Smart Log\" id=\"UHF_STO3G_UHF_STO3G_4_4_cent_azomethine\" onclick=\"view_function(event, this.id)\" /></td><td>Success</td></tr><tr><td>UHF_STO3G_UHF_STO3G_3_3_graphene</td><td><a href = \"files/unrestricted_cycloadd/UHF_STO3G_UHF_STO3G_3_3_graphene.com\" target = \"_blank\">com</a></td><td><input type=\"button\" value=\"Smart Log\" id=\"UHF_STO3G_UHF_STO3G_3_3_graphene\" onclick=\"view_function(event, this.id)\" /></td><td>Success</td></tr><tr><td>UHF_STO3G_UHF_STO3G_3_3_corn_azomethine</td><td><a href = \"files/unrestricted_cycloadd/UHF_STO3G_UHF_STO3G_3_3_corn_azomethine.com\" target = \"_blank\">com</a></td><td><input type=\"button\" value=\"Smart Log\" id=\"UHF_STO3G_UHF_STO3G_3_3_corn_azomethine\" onclick=\"view_function(event, this.id)\" /></td><td>Success</td></tr><tr><td>UHF_STO3G_UHF_STO3G_4_4_cent_carbonyl</td><td><a href = \"files/unrestricted_cycloadd/UHF_STO3G_UHF_STO3G_4_4_cent_carbonyl.com\" target = \"_blank\">com</a></td><td><input type=\"button\" value=\"Smart Log\" id=\"UHF_STO3G_UHF_STO3G_4_4_cent_carbonyl\" onclick=\"view_function(event, this.id)\" /></td><td>Success</td></tr><tr><td>UHF_STO3G_UHF_STO3G_4_4_edg_carbonyl</td><td><a href = \"files/unrestricted_cycloadd/UHF_STO3G_UHF_STO3G_4_4_edg_carbonyl.com\" target = \"_blank\">com</a></td><td><input type=\"button\" value=\"Smart Log\" id=\"UHF_STO3G_UHF_STO3G_4_4_edg_carbonyl\" onclick=\"view_function(event, this.id)\" /></td><td>Success</td></tr>\n",
        "    </table>\n",
        "    </body>"
       ],
       "output_type": "pyout",
       "prompt_number": 3,
       "text": [
        "<IPython.core.display.HTML at 0x48510d0>"
       ]
      }
     ],
     "prompt_number": 3
    },
    {
     "cell_type": "markdown",
     "metadata": {},
     "source": [
      "Check stability:"
     ]
    },
    {
     "cell_type": "code",
     "collapsed": false,
     "input": [
      "for hf_mol in hf_molecules:\n",
      "    hf_mol.calc.restart(add_label='stable', opt='', stable='opt')#, start=True)\n",
      "check_calcs(hf_molecules)\n",
      "all(['internal instability' in mol.calc.notes for mol in hf_molecules])"
     ],
     "language": "python",
     "metadata": {},
     "outputs": [
      {
       "output_type": "pyout",
       "prompt_number": 4,
       "text": [
        "False"
       ]
      }
     ],
     "prompt_number": 4
    },
    {
     "cell_type": "markdown",
     "metadata": {},
     "source": [
      "Not stable (internal instability) so we reoptimize the geometry starting with the stable wavefunction:"
     ]
    },
    {
     "cell_type": "code",
     "collapsed": false,
     "input": [
      "for hf_mol in hf_molecules:\n",
      "    hf_mol.calc.restart(add_label='reopt', opt='opt', stable='')#, start=True)\n",
      "check_calcs(hf_molecules)"
     ],
     "language": "python",
     "metadata": {},
     "outputs": [
      {
       "output_type": "pyout",
       "prompt_number": 5,
       "text": [
        "'Calculations complete'"
       ]
      }
     ],
     "prompt_number": 5
    },
    {
     "cell_type": "markdown",
     "metadata": {},
     "source": [
      "Recheck the stability of the reoptimised geometries:"
     ]
    },
    {
     "cell_type": "code",
     "collapsed": false,
     "input": [
      "for hf_mol in hf_molecules:\n",
      "    hf_mol.calc.restart(remove_label='reopt', opt='', stable='opt')#, start=True)\n",
      "check_calcs(hf_molecules)\n",
      "mols_to_html(hf_molecules)\n",
      "all(mol.calc.stable for mol in hf_molecules)"
     ],
     "language": "python",
     "metadata": {},
     "outputs": [
      {
       "output_type": "pyout",
       "prompt_number": 6,
       "text": [
        "True"
       ]
      }
     ],
     "prompt_number": 6
    },
    {
     "cell_type": "markdown",
     "metadata": {},
     "source": [
      "Just to be sure we will optimise with the nosym keyword"
     ]
    },
    {
     "cell_type": "code",
     "collapsed": false,
     "input": [
      "test_no_sym_graph = copy.deepcopy(hf_molecules[4])\n",
      "test_no_sym_graph.calc.restart(label='test_no_sym_44_graph', stable='', opt='opt', nosymmetry='nosymmetry')#, start=True)\n",
      "check_calcs([test_no_sym_graph])\n",
      "test_no_sym_graph.calc.energy_zero, hf_molecules[4].calc.energy_zero"
     ],
     "language": "python",
     "metadata": {},
     "outputs": [
      {
       "output_type": "pyout",
       "prompt_number": 7,
       "text": [
        "(-49159.91887615075, -49159.91887615075)"
       ]
      }
     ],
     "prompt_number": 7
    },
    {
     "cell_type": "markdown",
     "metadata": {},
     "source": [
      "nosym makes no change (win!)"
     ]
    },
    {
     "cell_type": "markdown",
     "metadata": {},
     "source": [
      "Let's test whether we can get to this geometry directly by using GHF:"
     ]
    },
    {
     "cell_type": "code",
     "collapsed": false,
     "input": [
      "Ghf_molecules = []\n",
      "for xyz_file in xyz_files:\n",
      "    base_name = os.path.split(xyz_file)[1].replace('.xyz', '')\n",
      "    name = 'GHF_STO3G_GHF_STO3G_' + base_name \n",
      "    Ghf_molecule = read(xyz_file)\n",
      "    Ghf_molecule.set_calculator(Gaussian(label=name, method='GHF', basis='STO-3G', opt='opt'))\n",
      "    Ghf_molecule.calc.set_job(nodes=12, memory=12*2000, time=8, queue='pqmb')\n",
      "    #Ghf_molecule.calc.start()\n",
      "    Ghf_molecules.append(Ghf_molecule)\n",
      "check_calcs(Ghf_molecules)\n",
      "mols_to_html(Ghf_molecules)"
     ],
     "language": "python",
     "metadata": {},
     "outputs": [
      {
       "html": [
        "\n",
        "           <script type=\"text/javascript\">\n",
        "           function view_function (event, file_n) {\n",
        "               if (event.ctrlKey && event.shiftKey){\n",
        "                   IPython.notebook.kernel.execute(\"cc_notebook_utils.pygview('\" + file_n + \".log')\");\n",
        "               }\n",
        "               else if (event.ctrlKey){\n",
        "                   IPython.notebook.kernel.execute(\"cc_notebook_utils.pygausssum('\" + file_n + \".log')\");\n",
        "               }\n",
        "               else if (event.shiftKey){\n",
        "                   IPython.notebook.kernel.execute(\"cc_notebook_utils.pyvogadro('\" + file_n + \".log')\");\n",
        "               }\n",
        "               else {\n",
        "                   IPython.notebook.kernel.execute(\"cc_notebook_utils.pyvim('\" + file_n + \".log')\");\n",
        "                   IPython.notebook.kernel.execute(\"print(file_n)\");\n",
        "               }\n",
        "           }\n",
        "           </script>\n",
        "    <style>\n",
        "    table\n",
        "    {\n",
        "        border-collapse:collapse;\n",
        "    }\n",
        "    td\n",
        "    {\n",
        "        padding:15px;\n",
        "    }\n",
        "    </style>\n",
        "    <body>\n",
        "    <table bgcolor=\"white\">\n",
        "    <col/><tr><td>GHF_STO3G_GHF_STO3G_carbonyl_ylide</td><td><a href = \"files/unrestricted_cycloadd/GHF_STO3G_GHF_STO3G_carbonyl_ylide.com\" target = \"_blank\">com</a></td><td><input type=\"button\" value=\"Smart Log\" id=\"GHF_STO3G_GHF_STO3G_carbonyl_ylide\" onclick=\"view_function(event, this.id)\" /></td><td>Success</td></tr><tr><td>GHF_STO3G_GHF_STO3G_azomethine_ylide</td><td><a href = \"files/unrestricted_cycloadd/GHF_STO3G_GHF_STO3G_azomethine_ylide.com\" target = \"_blank\">com</a></td><td><input type=\"button\" value=\"Smart Log\" id=\"GHF_STO3G_GHF_STO3G_azomethine_ylide\" onclick=\"view_function(event, this.id)\" /></td><td>Success</td></tr><tr><td>GHF_STO3G_GHF_STO3G_4_4_corn_carbonyl</td><td><a href = \"files/unrestricted_cycloadd/GHF_STO3G_GHF_STO3G_4_4_corn_carbonyl.com\" target = \"_blank\">com</a></td><td><input type=\"button\" value=\"Smart Log\" id=\"GHF_STO3G_GHF_STO3G_4_4_corn_carbonyl\" onclick=\"view_function(event, this.id)\" /></td><td>Error: Convergence failure -- run terminated.</td></tr><tr><td>GHF_STO3G_GHF_STO3G_3_3_cent_carbonyl</td><td><a href = \"files/unrestricted_cycloadd/GHF_STO3G_GHF_STO3G_3_3_cent_carbonyl.com\" target = \"_blank\">com</a></td><td><input type=\"button\" value=\"Smart Log\" id=\"GHF_STO3G_GHF_STO3G_3_3_cent_carbonyl\" onclick=\"view_function(event, this.id)\" /></td><td>Success</td></tr><tr><td>GHF_STO3G_GHF_STO3G_4_4_graphene</td><td><a href = \"files/unrestricted_cycloadd/GHF_STO3G_GHF_STO3G_4_4_graphene.com\" target = \"_blank\">com</a></td><td><input type=\"button\" value=\"Smart Log\" id=\"GHF_STO3G_GHF_STO3G_4_4_graphene\" onclick=\"view_function(event, this.id)\" /></td><td>Success</td></tr><tr><td>GHF_STO3G_GHF_STO3G_3_3_corn_carbonyl</td><td><a href = \"files/unrestricted_cycloadd/GHF_STO3G_GHF_STO3G_3_3_corn_carbonyl.com\" target = \"_blank\">com</a></td><td><input type=\"button\" value=\"Smart Log\" id=\"GHF_STO3G_GHF_STO3G_3_3_corn_carbonyl\" onclick=\"view_function(event, this.id)\" /></td><td>Error: Convergence failure -- run terminated.</td></tr><tr><td>GHF_STO3G_GHF_STO3G_3_3_edg_azomethine</td><td><a href = \"files/unrestricted_cycloadd/GHF_STO3G_GHF_STO3G_3_3_edg_azomethine.com\" target = \"_blank\">com</a></td><td><input type=\"button\" value=\"Smart Log\" id=\"GHF_STO3G_GHF_STO3G_3_3_edg_azomethine\" onclick=\"view_function(event, this.id)\" /></td><td>Success</td></tr><tr><td>GHF_STO3G_GHF_STO3G_4_4_edg_azomethine</td><td><a href = \"files/unrestricted_cycloadd/GHF_STO3G_GHF_STO3G_4_4_edg_azomethine.com\" target = \"_blank\">com</a></td><td><input type=\"button\" value=\"Smart Log\" id=\"GHF_STO3G_GHF_STO3G_4_4_edg_azomethine\" onclick=\"view_function(event, this.id)\" /></td><td>Error: Convergence failure -- run terminated.</td></tr><tr><td>GHF_STO3G_GHF_STO3G_4_4_corn_azomethine</td><td><a href = \"files/unrestricted_cycloadd/GHF_STO3G_GHF_STO3G_4_4_corn_azomethine.com\" target = \"_blank\">com</a></td><td><input type=\"button\" value=\"Smart Log\" id=\"GHF_STO3G_GHF_STO3G_4_4_corn_azomethine\" onclick=\"view_function(event, this.id)\" /></td><td>Error: Convergence failure -- run terminated.</td></tr><tr><td>GHF_STO3G_GHF_STO3G_3_3_cent_azomethine</td><td><a href = \"files/unrestricted_cycloadd/GHF_STO3G_GHF_STO3G_3_3_cent_azomethine.com\" target = \"_blank\">com</a></td><td><input type=\"button\" value=\"Smart Log\" id=\"GHF_STO3G_GHF_STO3G_3_3_cent_azomethine\" onclick=\"view_function(event, this.id)\" /></td><td>Error: Convergence failure -- run terminated.</td></tr><tr><td>GHF_STO3G_GHF_STO3G_3_3_edg_carbonyl</td><td><a href = \"files/unrestricted_cycloadd/GHF_STO3G_GHF_STO3G_3_3_edg_carbonyl.com\" target = \"_blank\">com</a></td><td><input type=\"button\" value=\"Smart Log\" id=\"GHF_STO3G_GHF_STO3G_3_3_edg_carbonyl\" onclick=\"view_function(event, this.id)\" /></td><td>Success</td></tr><tr><td>GHF_STO3G_GHF_STO3G_4_4_cent_azomethine</td><td><a href = \"files/unrestricted_cycloadd/GHF_STO3G_GHF_STO3G_4_4_cent_azomethine.com\" target = \"_blank\">com</a></td><td><input type=\"button\" value=\"Smart Log\" id=\"GHF_STO3G_GHF_STO3G_4_4_cent_azomethine\" onclick=\"view_function(event, this.id)\" /></td><td>Success</td></tr><tr><td>GHF_STO3G_GHF_STO3G_3_3_graphene</td><td><a href = \"files/unrestricted_cycloadd/GHF_STO3G_GHF_STO3G_3_3_graphene.com\" target = \"_blank\">com</a></td><td><input type=\"button\" value=\"Smart Log\" id=\"GHF_STO3G_GHF_STO3G_3_3_graphene\" onclick=\"view_function(event, this.id)\" /></td><td>Error: Convergence failure -- run terminated.</td></tr><tr><td>GHF_STO3G_GHF_STO3G_3_3_corn_azomethine</td><td><a href = \"files/unrestricted_cycloadd/GHF_STO3G_GHF_STO3G_3_3_corn_azomethine.com\" target = \"_blank\">com</a></td><td><input type=\"button\" value=\"Smart Log\" id=\"GHF_STO3G_GHF_STO3G_3_3_corn_azomethine\" onclick=\"view_function(event, this.id)\" /></td><td>Success</td></tr><tr><td>GHF_STO3G_GHF_STO3G_4_4_cent_carbonyl</td><td><a href = \"files/unrestricted_cycloadd/GHF_STO3G_GHF_STO3G_4_4_cent_carbonyl.com\" target = \"_blank\">com</a></td><td><input type=\"button\" value=\"Smart Log\" id=\"GHF_STO3G_GHF_STO3G_4_4_cent_carbonyl\" onclick=\"view_function(event, this.id)\" /></td><td>Error: Convergence failure -- run terminated.</td></tr><tr><td>GHF_STO3G_GHF_STO3G_4_4_edg_carbonyl</td><td><a href = \"files/unrestricted_cycloadd/GHF_STO3G_GHF_STO3G_4_4_edg_carbonyl.com\" target = \"_blank\">com</a></td><td><input type=\"button\" value=\"Smart Log\" id=\"GHF_STO3G_GHF_STO3G_4_4_edg_carbonyl\" onclick=\"view_function(event, this.id)\" /></td><td>Error: Convergence failure -- run terminated.</td></tr>\n",
        "    </table>\n",
        "    </body>"
       ],
       "output_type": "pyout",
       "prompt_number": 8,
       "text": [
        "<IPython.core.display.HTML at 0x48742d0>"
       ]
      }
     ],
     "prompt_number": 8
    },
    {
     "cell_type": "markdown",
     "metadata": {},
     "source": [
      "Nope - no different to UHF:"
     ]
    },
    {
     "cell_type": "code",
     "collapsed": false,
     "input": [
      "hf_molecules[4].calc.energy_zero, Ghf_molecules[4].calc.energy_zero"
     ],
     "language": "python",
     "metadata": {},
     "outputs": [
      {
       "output_type": "pyout",
       "prompt_number": 9,
       "text": [
        "(-49159.91887615075, -49148.23321440044)"
       ]
      }
     ],
     "prompt_number": 9
    },
    {
     "cell_type": "markdown",
     "metadata": {},
     "source": [
      "c.f. hf_molecules[4] energy before reoptimisation :-49148.23321440044"
     ]
    },
    {
     "cell_type": "markdown",
     "metadata": {},
     "source": [
      "Then we run UB3LYP/6-31G(d) single point calculations on these optimised geometries"
     ]
    },
    {
     "cell_type": "code",
     "collapsed": false,
     "input": [
      "dft_hf_molecules=[]\n",
      "for hf_molecule in hf_molecules:\n",
      "    #write out xyz files for the optimised structures\n",
      "    base_name = hf_molecule.calc.label.split('UHF_STO3G_UHF_STO3G_')[1].replace('_stable_restart_3', '')\n",
      "    #create a new molecules based on the optimised geometry positions\n",
      "    dft_molecule = read(hf_molecule.calc.label +'.log')\n",
      "    hf_molecule.calc.atoms.write('xyz_files/hf_opt/UHF_STO3G_' + base_name +'.xyz')\n",
      "    name = 'UB3LYP_631Gd_UHF_STO3G_' + base_name\n",
      "    dft_molecule.set_calculator(Gaussian(label=name, method='UB3LYP', basis='6-31G(d)'))\n",
      "    dft_molecule.calc.set_job(nodes=8, memory=8*1400, time=5, queue='pqmb')\n",
      "    #dft_molecule.calc.start()\n",
      "    dft_hf_molecules.append(dft_molecule)\n",
      "check_calcs(dft_hf_molecules)\n",
      "mols_to_html(dft_hf_molecules)"
     ],
     "language": "python",
     "metadata": {},
     "outputs": [
      {
       "html": [
        "\n",
        "           <script type=\"text/javascript\">\n",
        "           function view_function (event, file_n) {\n",
        "               if (event.ctrlKey && event.shiftKey){\n",
        "                   IPython.notebook.kernel.execute(\"cc_notebook_utils.pygview('\" + file_n + \".log')\");\n",
        "               }\n",
        "               else if (event.ctrlKey){\n",
        "                   IPython.notebook.kernel.execute(\"cc_notebook_utils.pygausssum('\" + file_n + \".log')\");\n",
        "               }\n",
        "               else if (event.shiftKey){\n",
        "                   IPython.notebook.kernel.execute(\"cc_notebook_utils.pyvogadro('\" + file_n + \".log')\");\n",
        "               }\n",
        "               else {\n",
        "                   IPython.notebook.kernel.execute(\"cc_notebook_utils.pyvim('\" + file_n + \".log')\");\n",
        "                   IPython.notebook.kernel.execute(\"print(file_n)\");\n",
        "               }\n",
        "           }\n",
        "           </script>\n",
        "    <style>\n",
        "    table\n",
        "    {\n",
        "        border-collapse:collapse;\n",
        "    }\n",
        "    td\n",
        "    {\n",
        "        padding:15px;\n",
        "    }\n",
        "    </style>\n",
        "    <body>\n",
        "    <table bgcolor=\"white\">\n",
        "    <col/><tr><td>UB3LYP_631Gd_UHF_STO3G_carbonyl_ylide</td><td><a href = \"files/unrestricted_cycloadd/UB3LYP_631Gd_UHF_STO3G_carbonyl_ylide.com\" target = \"_blank\">com</a></td><td><input type=\"button\" value=\"Smart Log\" id=\"UB3LYP_631Gd_UHF_STO3G_carbonyl_ylide\" onclick=\"view_function(event, this.id)\" /></td><td>Success</td></tr><tr><td>UB3LYP_631Gd_UHF_STO3G_azomethine_ylide</td><td><a href = \"files/unrestricted_cycloadd/UB3LYP_631Gd_UHF_STO3G_azomethine_ylide.com\" target = \"_blank\">com</a></td><td><input type=\"button\" value=\"Smart Log\" id=\"UB3LYP_631Gd_UHF_STO3G_azomethine_ylide\" onclick=\"view_function(event, this.id)\" /></td><td>Success</td></tr><tr><td>UB3LYP_631Gd_UHF_STO3G_4_4_corn_carbonyl</td><td><a href = \"files/unrestricted_cycloadd/UB3LYP_631Gd_UHF_STO3G_4_4_corn_carbonyl.com\" target = \"_blank\">com</a></td><td><input type=\"button\" value=\"Smart Log\" id=\"UB3LYP_631Gd_UHF_STO3G_4_4_corn_carbonyl\" onclick=\"view_function(event, this.id)\" /></td><td>Success</td></tr><tr><td>UB3LYP_631Gd_UHF_STO3G_3_3_cent_carbonyl</td><td><a href = \"files/unrestricted_cycloadd/UB3LYP_631Gd_UHF_STO3G_3_3_cent_carbonyl.com\" target = \"_blank\">com</a></td><td><input type=\"button\" value=\"Smart Log\" id=\"UB3LYP_631Gd_UHF_STO3G_3_3_cent_carbonyl\" onclick=\"view_function(event, this.id)\" /></td><td>Success</td></tr><tr><td>UB3LYP_631Gd_UHF_STO3G_4_4_graphene</td><td><a href = \"files/unrestricted_cycloadd/UB3LYP_631Gd_UHF_STO3G_4_4_graphene.com\" target = \"_blank\">com</a></td><td><input type=\"button\" value=\"Smart Log\" id=\"UB3LYP_631Gd_UHF_STO3G_4_4_graphene\" onclick=\"view_function(event, this.id)\" /></td><td>Success</td></tr><tr><td>UB3LYP_631Gd_UHF_STO3G_3_3_corn_carbonyl</td><td><a href = \"files/unrestricted_cycloadd/UB3LYP_631Gd_UHF_STO3G_3_3_corn_carbonyl.com\" target = \"_blank\">com</a></td><td><input type=\"button\" value=\"Smart Log\" id=\"UB3LYP_631Gd_UHF_STO3G_3_3_corn_carbonyl\" onclick=\"view_function(event, this.id)\" /></td><td>Success</td></tr><tr><td>UB3LYP_631Gd_UHF_STO3G_3_3_edg_azomethine</td><td><a href = \"files/unrestricted_cycloadd/UB3LYP_631Gd_UHF_STO3G_3_3_edg_azomethine.com\" target = \"_blank\">com</a></td><td><input type=\"button\" value=\"Smart Log\" id=\"UB3LYP_631Gd_UHF_STO3G_3_3_edg_azomethine\" onclick=\"view_function(event, this.id)\" /></td><td>Success</td></tr><tr><td>UB3LYP_631Gd_UHF_STO3G_4_4_edg_azomethine</td><td><a href = \"files/unrestricted_cycloadd/UB3LYP_631Gd_UHF_STO3G_4_4_edg_azomethine.com\" target = \"_blank\">com</a></td><td><input type=\"button\" value=\"Smart Log\" id=\"UB3LYP_631Gd_UHF_STO3G_4_4_edg_azomethine\" onclick=\"view_function(event, this.id)\" /></td><td>Success</td></tr><tr><td>UB3LYP_631Gd_UHF_STO3G_4_4_corn_azomethine</td><td><a href = \"files/unrestricted_cycloadd/UB3LYP_631Gd_UHF_STO3G_4_4_corn_azomethine.com\" target = \"_blank\">com</a></td><td><input type=\"button\" value=\"Smart Log\" id=\"UB3LYP_631Gd_UHF_STO3G_4_4_corn_azomethine\" onclick=\"view_function(event, this.id)\" /></td><td>Success</td></tr><tr><td>UB3LYP_631Gd_UHF_STO3G_3_3_cent_azomethine</td><td><a href = \"files/unrestricted_cycloadd/UB3LYP_631Gd_UHF_STO3G_3_3_cent_azomethine.com\" target = \"_blank\">com</a></td><td><input type=\"button\" value=\"Smart Log\" id=\"UB3LYP_631Gd_UHF_STO3G_3_3_cent_azomethine\" onclick=\"view_function(event, this.id)\" /></td><td>Success</td></tr><tr><td>UB3LYP_631Gd_UHF_STO3G_3_3_edg_carbonyl</td><td><a href = \"files/unrestricted_cycloadd/UB3LYP_631Gd_UHF_STO3G_3_3_edg_carbonyl.com\" target = \"_blank\">com</a></td><td><input type=\"button\" value=\"Smart Log\" id=\"UB3LYP_631Gd_UHF_STO3G_3_3_edg_carbonyl\" onclick=\"view_function(event, this.id)\" /></td><td>Success</td></tr><tr><td>UB3LYP_631Gd_UHF_STO3G_4_4_cent_azomethine</td><td><a href = \"files/unrestricted_cycloadd/UB3LYP_631Gd_UHF_STO3G_4_4_cent_azomethine.com\" target = \"_blank\">com</a></td><td><input type=\"button\" value=\"Smart Log\" id=\"UB3LYP_631Gd_UHF_STO3G_4_4_cent_azomethine\" onclick=\"view_function(event, this.id)\" /></td><td>Success</td></tr><tr><td>UB3LYP_631Gd_UHF_STO3G_3_3_graphene</td><td><a href = \"files/unrestricted_cycloadd/UB3LYP_631Gd_UHF_STO3G_3_3_graphene.com\" target = \"_blank\">com</a></td><td><input type=\"button\" value=\"Smart Log\" id=\"UB3LYP_631Gd_UHF_STO3G_3_3_graphene\" onclick=\"view_function(event, this.id)\" /></td><td>Success</td></tr><tr><td>UB3LYP_631Gd_UHF_STO3G_3_3_corn_azomethine</td><td><a href = \"files/unrestricted_cycloadd/UB3LYP_631Gd_UHF_STO3G_3_3_corn_azomethine.com\" target = \"_blank\">com</a></td><td><input type=\"button\" value=\"Smart Log\" id=\"UB3LYP_631Gd_UHF_STO3G_3_3_corn_azomethine\" onclick=\"view_function(event, this.id)\" /></td><td>Success</td></tr><tr><td>UB3LYP_631Gd_UHF_STO3G_4_4_cent_carbonyl</td><td><a href = \"files/unrestricted_cycloadd/UB3LYP_631Gd_UHF_STO3G_4_4_cent_carbonyl.com\" target = \"_blank\">com</a></td><td><input type=\"button\" value=\"Smart Log\" id=\"UB3LYP_631Gd_UHF_STO3G_4_4_cent_carbonyl\" onclick=\"view_function(event, this.id)\" /></td><td>Success</td></tr><tr><td>UB3LYP_631Gd_UHF_STO3G_4_4_edg_carbonyl</td><td><a href = \"files/unrestricted_cycloadd/UB3LYP_631Gd_UHF_STO3G_4_4_edg_carbonyl.com\" target = \"_blank\">com</a></td><td><input type=\"button\" value=\"Smart Log\" id=\"UB3LYP_631Gd_UHF_STO3G_4_4_edg_carbonyl\" onclick=\"view_function(event, this.id)\" /></td><td>Success</td></tr>\n",
        "    </table>\n",
        "    </body>"
       ],
       "output_type": "pyout",
       "prompt_number": 10,
       "text": [
        "<IPython.core.display.HTML at 0x4b5b190>"
       ]
      }
     ],
     "prompt_number": 10
    },
    {
     "cell_type": "markdown",
     "metadata": {},
     "source": [
      "Check stability:"
     ]
    },
    {
     "cell_type": "code",
     "collapsed": false,
     "input": [
      "for mol in dft_hf_molecules:\n",
      "    mol.calc.restart(add_label='stable', stable='opt')\n",
      "    mol.calc.set_job(nodes=8, memory=8*2500, time=12, queue='pqmb')#,start=True)\n",
      "check_calcs(dft_hf_molecules)\n",
      "mols_to_html(dft_hf_molecules)"
     ],
     "language": "python",
     "metadata": {},
     "outputs": [
      {
       "html": [
        "\n",
        "           <script type=\"text/javascript\">\n",
        "           function view_function (event, file_n) {\n",
        "               if (event.ctrlKey && event.shiftKey){\n",
        "                   IPython.notebook.kernel.execute(\"cc_notebook_utils.pygview('\" + file_n + \".log')\");\n",
        "               }\n",
        "               else if (event.ctrlKey){\n",
        "                   IPython.notebook.kernel.execute(\"cc_notebook_utils.pygausssum('\" + file_n + \".log')\");\n",
        "               }\n",
        "               else if (event.shiftKey){\n",
        "                   IPython.notebook.kernel.execute(\"cc_notebook_utils.pyvogadro('\" + file_n + \".log')\");\n",
        "               }\n",
        "               else {\n",
        "                   IPython.notebook.kernel.execute(\"cc_notebook_utils.pyvim('\" + file_n + \".log')\");\n",
        "                   IPython.notebook.kernel.execute(\"print(file_n)\");\n",
        "               }\n",
        "           }\n",
        "           </script>\n",
        "    <style>\n",
        "    table\n",
        "    {\n",
        "        border-collapse:collapse;\n",
        "    }\n",
        "    td\n",
        "    {\n",
        "        padding:15px;\n",
        "    }\n",
        "    </style>\n",
        "    <body>\n",
        "    <table bgcolor=\"white\">\n",
        "    <col/><tr><td>UB3LYP_631Gd_UHF_STO3G_carbonyl_ylide_stable_restart_1</td><td><a href = \"files/unrestricted_cycloadd/UB3LYP_631Gd_UHF_STO3G_carbonyl_ylide_stable_restart_1.com\" target = \"_blank\">com</a></td><td><input type=\"button\" value=\"Smart Log\" id=\"UB3LYP_631Gd_UHF_STO3G_carbonyl_ylide_stable_restart_1\" onclick=\"view_function(event, this.id)\" /></td><td>Success</td></tr><tr><td>UB3LYP_631Gd_UHF_STO3G_azomethine_ylide_stable_restart_1</td><td><a href = \"files/unrestricted_cycloadd/UB3LYP_631Gd_UHF_STO3G_azomethine_ylide_stable_restart_1.com\" target = \"_blank\">com</a></td><td><input type=\"button\" value=\"Smart Log\" id=\"UB3LYP_631Gd_UHF_STO3G_azomethine_ylide_stable_restart_1\" onclick=\"view_function(event, this.id)\" /></td><td>Success</td></tr><tr><td>UB3LYP_631Gd_UHF_STO3G_4_4_corn_carbonyl_stable_restart_1</td><td><a href = \"files/unrestricted_cycloadd/UB3LYP_631Gd_UHF_STO3G_4_4_corn_carbonyl_stable_restart_1.com\" target = \"_blank\">com</a></td><td><input type=\"button\" value=\"Smart Log\" id=\"UB3LYP_631Gd_UHF_STO3G_4_4_corn_carbonyl_stable_restart_1\" onclick=\"view_function(event, this.id)\" /></td><td>Success</td></tr><tr><td>UB3LYP_631Gd_UHF_STO3G_3_3_cent_carbonyl_stable_restart_1</td><td><a href = \"files/unrestricted_cycloadd/UB3LYP_631Gd_UHF_STO3G_3_3_cent_carbonyl_stable_restart_1.com\" target = \"_blank\">com</a></td><td><input type=\"button\" value=\"Smart Log\" id=\"UB3LYP_631Gd_UHF_STO3G_3_3_cent_carbonyl_stable_restart_1\" onclick=\"view_function(event, this.id)\" /></td><td>Success</td></tr><tr><td>UB3LYP_631Gd_UHF_STO3G_4_4_graphene_stable_restart_1</td><td><a href = \"files/unrestricted_cycloadd/UB3LYP_631Gd_UHF_STO3G_4_4_graphene_stable_restart_1.com\" target = \"_blank\">com</a></td><td><input type=\"button\" value=\"Smart Log\" id=\"UB3LYP_631Gd_UHF_STO3G_4_4_graphene_stable_restart_1\" onclick=\"view_function(event, this.id)\" /></td><td>Success</td></tr><tr><td>UB3LYP_631Gd_UHF_STO3G_3_3_corn_carbonyl_stable_restart_1</td><td><a href = \"files/unrestricted_cycloadd/UB3LYP_631Gd_UHF_STO3G_3_3_corn_carbonyl_stable_restart_1.com\" target = \"_blank\">com</a></td><td><input type=\"button\" value=\"Smart Log\" id=\"UB3LYP_631Gd_UHF_STO3G_3_3_corn_carbonyl_stable_restart_1\" onclick=\"view_function(event, this.id)\" /></td><td>Success</td></tr><tr><td>UB3LYP_631Gd_UHF_STO3G_3_3_edg_azomethine_stable_restart_1</td><td><a href = \"files/unrestricted_cycloadd/UB3LYP_631Gd_UHF_STO3G_3_3_edg_azomethine_stable_restart_1.com\" target = \"_blank\">com</a></td><td><input type=\"button\" value=\"Smart Log\" id=\"UB3LYP_631Gd_UHF_STO3G_3_3_edg_azomethine_stable_restart_1\" onclick=\"view_function(event, this.id)\" /></td><td>Success</td></tr><tr><td>UB3LYP_631Gd_UHF_STO3G_4_4_edg_azomethine_stable_restart_1</td><td><a href = \"files/unrestricted_cycloadd/UB3LYP_631Gd_UHF_STO3G_4_4_edg_azomethine_stable_restart_1.com\" target = \"_blank\">com</a></td><td><input type=\"button\" value=\"Smart Log\" id=\"UB3LYP_631Gd_UHF_STO3G_4_4_edg_azomethine_stable_restart_1\" onclick=\"view_function(event, this.id)\" /></td><td>Success</td></tr><tr><td>UB3LYP_631Gd_UHF_STO3G_4_4_corn_azomethine_stable_restart_1</td><td><a href = \"files/unrestricted_cycloadd/UB3LYP_631Gd_UHF_STO3G_4_4_corn_azomethine_stable_restart_1.com\" target = \"_blank\">com</a></td><td><input type=\"button\" value=\"Smart Log\" id=\"UB3LYP_631Gd_UHF_STO3G_4_4_corn_azomethine_stable_restart_1\" onclick=\"view_function(event, this.id)\" /></td><td>Success</td></tr><tr><td>UB3LYP_631Gd_UHF_STO3G_3_3_cent_azomethine_stable_restart_1</td><td><a href = \"files/unrestricted_cycloadd/UB3LYP_631Gd_UHF_STO3G_3_3_cent_azomethine_stable_restart_1.com\" target = \"_blank\">com</a></td><td><input type=\"button\" value=\"Smart Log\" id=\"UB3LYP_631Gd_UHF_STO3G_3_3_cent_azomethine_stable_restart_1\" onclick=\"view_function(event, this.id)\" /></td><td>Success</td></tr><tr><td>UB3LYP_631Gd_UHF_STO3G_3_3_edg_carbonyl_stable_restart_1</td><td><a href = \"files/unrestricted_cycloadd/UB3LYP_631Gd_UHF_STO3G_3_3_edg_carbonyl_stable_restart_1.com\" target = \"_blank\">com</a></td><td><input type=\"button\" value=\"Smart Log\" id=\"UB3LYP_631Gd_UHF_STO3G_3_3_edg_carbonyl_stable_restart_1\" onclick=\"view_function(event, this.id)\" /></td><td>Success</td></tr><tr><td>UB3LYP_631Gd_UHF_STO3G_4_4_cent_azomethine_stable_restart_1</td><td><a href = \"files/unrestricted_cycloadd/UB3LYP_631Gd_UHF_STO3G_4_4_cent_azomethine_stable_restart_1.com\" target = \"_blank\">com</a></td><td><input type=\"button\" value=\"Smart Log\" id=\"UB3LYP_631Gd_UHF_STO3G_4_4_cent_azomethine_stable_restart_1\" onclick=\"view_function(event, this.id)\" /></td><td>Success</td></tr><tr><td>UB3LYP_631Gd_UHF_STO3G_3_3_graphene_stable_restart_1</td><td><a href = \"files/unrestricted_cycloadd/UB3LYP_631Gd_UHF_STO3G_3_3_graphene_stable_restart_1.com\" target = \"_blank\">com</a></td><td><input type=\"button\" value=\"Smart Log\" id=\"UB3LYP_631Gd_UHF_STO3G_3_3_graphene_stable_restart_1\" onclick=\"view_function(event, this.id)\" /></td><td>Error: No lower point found -- run aborted.</td></tr><tr><td>UB3LYP_631Gd_UHF_STO3G_3_3_corn_azomethine_stable_restart_1</td><td><a href = \"files/unrestricted_cycloadd/UB3LYP_631Gd_UHF_STO3G_3_3_corn_azomethine_stable_restart_1.com\" target = \"_blank\">com</a></td><td><input type=\"button\" value=\"Smart Log\" id=\"UB3LYP_631Gd_UHF_STO3G_3_3_corn_azomethine_stable_restart_1\" onclick=\"view_function(event, this.id)\" /></td><td>Success</td></tr><tr><td>UB3LYP_631Gd_UHF_STO3G_4_4_cent_carbonyl_stable_restart_1</td><td><a href = \"files/unrestricted_cycloadd/UB3LYP_631Gd_UHF_STO3G_4_4_cent_carbonyl_stable_restart_1.com\" target = \"_blank\">com</a></td><td><input type=\"button\" value=\"Smart Log\" id=\"UB3LYP_631Gd_UHF_STO3G_4_4_cent_carbonyl_stable_restart_1\" onclick=\"view_function(event, this.id)\" /></td><td>Success</td></tr><tr><td>UB3LYP_631Gd_UHF_STO3G_4_4_edg_carbonyl_stable_restart_1</td><td><a href = \"files/unrestricted_cycloadd/UB3LYP_631Gd_UHF_STO3G_4_4_edg_carbonyl_stable_restart_1.com\" target = \"_blank\">com</a></td><td><input type=\"button\" value=\"Smart Log\" id=\"UB3LYP_631Gd_UHF_STO3G_4_4_edg_carbonyl_stable_restart_1\" onclick=\"view_function(event, this.id)\" /></td><td>Success</td></tr>\n",
        "    </table>\n",
        "    </body>"
       ],
       "output_type": "pyout",
       "prompt_number": 11,
       "text": [
        "<IPython.core.display.HTML at 0x3b74c10>"
       ]
      }
     ],
     "prompt_number": 11
    },
    {
     "cell_type": "code",
     "collapsed": false,
     "input": [
      "dft_hf_molecules[-4].calc.label = 'UB3LYP_631Gd_UHF_STO3G_3_3_graphene'\n",
      "dft_hf_molecules[-4].calc.read()"
     ],
     "language": "python",
     "metadata": {},
     "outputs": [],
     "prompt_number": 12
    },
    {
     "cell_type": "code",
     "collapsed": false,
     "input": [
      "rxn_products = [molecule for molecule in dft_hf_molecules if 'graphene' not in molecule.calc.label and 'ylide' not in molecule.calc.label]\n",
      "graphenes = [molecule for molecule in dft_hf_molecules if 'graphene' in molecule.calc.label]\n",
      "ylides = [molecule for molecule in dft_hf_molecules if 'ylide' in molecule.calc.label]"
     ],
     "language": "python",
     "metadata": {},
     "outputs": [],
     "prompt_number": 13
    },
    {
     "cell_type": "markdown",
     "metadata": {},
     "source": [
      "Now we calculate the reaction energies via $\\Delta{}E_{r} = E_{product}\\space - (E_{graphene}\\space + E_{ylide}\\space)$"
     ]
    },
    {
     "cell_type": "code",
     "collapsed": false,
     "input": [
      "#to get the title we use this function to strip away the extraneous parts of the label\n",
      "title_f = lambda e: \"_\".join(e.calc.label.split('_')[4:])\n",
      "    \n",
      "def equiv_ylide_f(prod):\n",
      "    #later we need to choose ylides calculated at different levels of theory so we add a method check here\n",
      "    method_str = \"_\".join(prod.calc.label.split('_')[0:4])\n",
      "    ylide_str = 'azo' if 'azo' in title_f(prod) else 'carb'\n",
      "    return next(y for y in ylides if ylide_str in y.calc.label and method_str in y.calc.label)\n",
      "\n",
      "def equiv_graphene_f(prod):\n",
      "    #later we need to choose graphenes calculated at different levels of theory so we add a method check here\n",
      "    method_str = \"_\".join(prod.calc.label.split('_')[0:4])\n",
      "    size_str = title_f(prod)[0:3]\n",
      "    return next(g for g in graphenes if size_str in title_f(g) and method_str in g.calc.label)"
     ],
     "language": "python",
     "metadata": {},
     "outputs": [],
     "prompt_number": 14
    },
    {
     "cell_type": "code",
     "collapsed": false,
     "input": [
      "#sorting so that we get the same order as given in the paper\n",
      "rxn_products.sort(key=lambda e: ('4_4' in e.calc.label, 'carb' in e.calc.label, e.calc.label))\n",
      "\n",
      "titles = []\n",
      "rxn_energies = []\n",
      "for mol in rxn_products:\n",
      "    title = title_f(mol)\n",
      "    equiv_graphene = equiv_graphene_f(mol)\n",
      "    equiv_ylide = equiv_ylide_f(mol)\n",
      "    rxn_e = 23.060542301388647*(mol.calc.energy_zero - equiv_graphene.calc.energy_zero - equiv_ylide.calc.energy_zero)\n",
      "    titles.append(title)\n",
      "    rxn_energies.append(rxn_e)\n",
      "\n",
      "rxn_energies = np.array(rxn_energies)    \n",
      "data = pandas.Series(rxn_energies,titles)\n",
      "\n",
      "#UB3LYP\n",
      "lit_rxn_energies = np.array([10.9, -29.5, -45.4, -11.9, -54.4, -70.6, 6.1, -34.5, -44.7, -16.8, -59.7, -68.4])\n",
      "#RB3LYP\n",
      "#lit_rxn_energies = np.array([10.9, -21.4, -39.3, -11.9, -46.6, -64.7, 7.1, -17.0, -33.3, -15.8, -42.2, -59.4])\n",
      "lit_data = pandas.Series(lit_rxn_energies ,titles)"
     ],
     "language": "python",
     "metadata": {},
     "outputs": [],
     "prompt_number": 15
    },
    {
     "cell_type": "markdown",
     "metadata": {},
     "source": [
      "Unfortunately these in no way match the reported reaction energies:"
     ]
    },
    {
     "cell_type": "code",
     "collapsed": false,
     "input": [
      "#energy in Kcal/mol\n",
      "d = {'Rxn Energy': data, 'Lit rxn energy': lit_data , 'delta': data - lit_data}\n",
      "pandas.DataFrame(d)"
     ],
     "language": "python",
     "metadata": {},
     "outputs": [
      {
       "html": [
        "<div style=\"max-height:1000px;max-width:1500px;overflow:auto;\">\n",
        "<table border=\"1\" class=\"dataframe\">\n",
        "  <thead>\n",
        "    <tr style=\"text-align: right;\">\n",
        "      <th></th>\n",
        "      <th>Lit rxn energy</th>\n",
        "      <th>Rxn Energy</th>\n",
        "      <th>delta</th>\n",
        "    </tr>\n",
        "  </thead>\n",
        "  <tbody>\n",
        "    <tr>\n",
        "      <td><strong>3_3_cent_azomethine_stable_restart_1</strong></td>\n",
        "      <td> 10.9</td>\n",
        "      <td> 14.001997</td>\n",
        "      <td> 3.101997</td>\n",
        "    </tr>\n",
        "    <tr>\n",
        "      <td><strong>3_3_corn_azomethine_stable_restart_1</strong></td>\n",
        "      <td>-29.5</td>\n",
        "      <td>-34.301805</td>\n",
        "      <td>-4.801805</td>\n",
        "    </tr>\n",
        "    <tr>\n",
        "      <td><strong>3_3_edg_azomethine_stable_restart_1</strong></td>\n",
        "      <td>-45.4</td>\n",
        "      <td>-51.492429</td>\n",
        "      <td>-6.092429</td>\n",
        "    </tr>\n",
        "    <tr>\n",
        "      <td><strong>3_3_cent_carbonyl_stable_restart_1</strong></td>\n",
        "      <td>-11.9</td>\n",
        "      <td>-13.131014</td>\n",
        "      <td>-1.231014</td>\n",
        "    </tr>\n",
        "    <tr>\n",
        "      <td><strong>3_3_corn_carbonyl_stable_restart_1</strong></td>\n",
        "      <td>-54.4</td>\n",
        "      <td>-59.384240</td>\n",
        "      <td>-4.984240</td>\n",
        "    </tr>\n",
        "    <tr>\n",
        "      <td><strong>3_3_edg_carbonyl_stable_restart_1</strong></td>\n",
        "      <td>-70.6</td>\n",
        "      <td>-75.774162</td>\n",
        "      <td>-5.174162</td>\n",
        "    </tr>\n",
        "    <tr>\n",
        "      <td><strong>4_4_cent_azomethine_stable_restart_1</strong></td>\n",
        "      <td>  6.1</td>\n",
        "      <td>  7.840481</td>\n",
        "      <td> 1.740481</td>\n",
        "    </tr>\n",
        "    <tr>\n",
        "      <td><strong>4_4_corn_azomethine_stable_restart_1</strong></td>\n",
        "      <td>-34.5</td>\n",
        "      <td>-39.863673</td>\n",
        "      <td>-5.363673</td>\n",
        "    </tr>\n",
        "    <tr>\n",
        "      <td><strong>4_4_edg_azomethine_stable_restart_1</strong></td>\n",
        "      <td>-44.7</td>\n",
        "      <td>-49.850236</td>\n",
        "      <td>-5.150236</td>\n",
        "    </tr>\n",
        "    <tr>\n",
        "      <td><strong>4_4_cent_carbonyl_stable_restart_1</strong></td>\n",
        "      <td>-16.8</td>\n",
        "      <td>-19.245843</td>\n",
        "      <td>-2.445843</td>\n",
        "    </tr>\n",
        "    <tr>\n",
        "      <td><strong>4_4_corn_carbonyl_stable_restart_1</strong></td>\n",
        "      <td>-59.7</td>\n",
        "      <td>-63.973343</td>\n",
        "      <td>-4.273343</td>\n",
        "    </tr>\n",
        "    <tr>\n",
        "      <td><strong>4_4_edg_carbonyl_stable_restart_1</strong></td>\n",
        "      <td>-68.4</td>\n",
        "      <td>-74.792925</td>\n",
        "      <td>-6.392925</td>\n",
        "    </tr>\n",
        "  </tbody>\n",
        "</table>\n",
        "</div>"
       ],
       "output_type": "pyout",
       "prompt_number": 16,
       "text": [
        "                                      Lit rxn energy  Rxn Energy     delta\n",
        "3_3_cent_azomethine_stable_restart_1            10.9   14.001997  3.101997\n",
        "3_3_corn_azomethine_stable_restart_1           -29.5  -34.301805 -4.801805\n",
        "3_3_edg_azomethine_stable_restart_1            -45.4  -51.492429 -6.092429\n",
        "3_3_cent_carbonyl_stable_restart_1             -11.9  -13.131014 -1.231014\n",
        "3_3_corn_carbonyl_stable_restart_1             -54.4  -59.384240 -4.984240\n",
        "3_3_edg_carbonyl_stable_restart_1              -70.6  -75.774162 -5.174162\n",
        "4_4_cent_azomethine_stable_restart_1             6.1    7.840481  1.740481\n",
        "4_4_corn_azomethine_stable_restart_1           -34.5  -39.863673 -5.363673\n",
        "4_4_edg_azomethine_stable_restart_1            -44.7  -49.850236 -5.150236\n",
        "4_4_cent_carbonyl_stable_restart_1             -16.8  -19.245843 -2.445843\n",
        "4_4_corn_carbonyl_stable_restart_1             -59.7  -63.973343 -4.273343\n",
        "4_4_edg_carbonyl_stable_restart_1              -68.4  -74.792925 -6.392925"
       ]
      }
     ],
     "prompt_number": 16
    },
    {
     "cell_type": "markdown",
     "metadata": {},
     "source": [
      "Part of the reason is that the geometries for the centrally substituted products should be calculated at the full UB3LYP/6-31G(d) level whereas we have calculated the geometries for all at the UHF/STO-3G level. So we recalculate those products at UB3LYP/6-31G(d)//UB3LYP/6-31G(d):"
     ]
    },
    {
     "cell_type": "code",
     "collapsed": false,
     "input": [
      "central_rxn_products = [prod for prod in rxn_products if 'cent' in prod.calc.label]\n",
      "dft_central_rxn_products = []\n",
      "for rxn_prod in central_rxn_products:\n",
      "    base_name = \"_\".join(rxn_prod.calc.label.replace('_stable_restart_1', '').split('_')[4:])\n",
      "    name = 'UB3LYP_631Gd_UB3LYP_631Gd_' + base_name\n",
      "    dft_rxn_prod = read(rxn_prod.calc.label + '.log')\n",
      "    dft_rxn_prod.set_calculator(Gaussian(label=name, method='UB3LYP', basis='6-31G(d)', opt='opt'))\n",
      "    dft_rxn_prod.calc.set_job(nodes=8, memory=8*1400, time=5, queue='pqmb')\n",
      "    #dft_rxn_prod.calc.start()\n",
      "    dft_central_rxn_products.append(dft_rxn_prod)\n",
      "check_calcs(dft_central_rxn_products)"
     ],
     "language": "python",
     "metadata": {},
     "outputs": [
      {
       "output_type": "pyout",
       "prompt_number": 17,
       "text": [
        "'Calculations complete'"
       ]
      }
     ],
     "prompt_number": 17
    },
    {
     "cell_type": "code",
     "collapsed": false,
     "input": [
      "for mol in dft_central_rxn_products:\n",
      "    mol.calc.restart(add_label='stable', opt= '', stable='opt')#, start=True)"
     ],
     "language": "python",
     "metadata": {},
     "outputs": [],
     "prompt_number": 18
    },
    {
     "cell_type": "code",
     "collapsed": false,
     "input": [
      "check_calcs(dft_central_rxn_products)\n",
      "mols_to_html(dft_central_rxn_products)"
     ],
     "language": "python",
     "metadata": {},
     "outputs": [
      {
       "html": [
        "\n",
        "           <script type=\"text/javascript\">\n",
        "           function view_function (event, file_n) {\n",
        "               if (event.ctrlKey && event.shiftKey){\n",
        "                   IPython.notebook.kernel.execute(\"cc_notebook_utils.pygview('\" + file_n + \".log')\");\n",
        "               }\n",
        "               else if (event.ctrlKey){\n",
        "                   IPython.notebook.kernel.execute(\"cc_notebook_utils.pygausssum('\" + file_n + \".log')\");\n",
        "               }\n",
        "               else if (event.shiftKey){\n",
        "                   IPython.notebook.kernel.execute(\"cc_notebook_utils.pyvogadro('\" + file_n + \".log')\");\n",
        "               }\n",
        "               else {\n",
        "                   IPython.notebook.kernel.execute(\"cc_notebook_utils.pyvim('\" + file_n + \".log')\");\n",
        "                   IPython.notebook.kernel.execute(\"print(file_n)\");\n",
        "               }\n",
        "           }\n",
        "           </script>\n",
        "    <style>\n",
        "    table\n",
        "    {\n",
        "        border-collapse:collapse;\n",
        "    }\n",
        "    td\n",
        "    {\n",
        "        padding:15px;\n",
        "    }\n",
        "    </style>\n",
        "    <body>\n",
        "    <table bgcolor=\"white\">\n",
        "    <col/><tr><td>UB3LYP_631Gd_UB3LYP_631Gd_3_3_cent_azomethine_stable_restart_1</td><td><a href = \"files/unrestricted_cycloadd/UB3LYP_631Gd_UB3LYP_631Gd_3_3_cent_azomethine_stable_restart_1.com\" target = \"_blank\">com</a></td><td><input type=\"button\" value=\"Smart Log\" id=\"UB3LYP_631Gd_UB3LYP_631Gd_3_3_cent_azomethine_stable_restart_1\" onclick=\"view_function(event, this.id)\" /></td><td>Success</td></tr><tr><td>UB3LYP_631Gd_UB3LYP_631Gd_3_3_cent_carbonyl_stable_restart_1</td><td><a href = \"files/unrestricted_cycloadd/UB3LYP_631Gd_UB3LYP_631Gd_3_3_cent_carbonyl_stable_restart_1.com\" target = \"_blank\">com</a></td><td><input type=\"button\" value=\"Smart Log\" id=\"UB3LYP_631Gd_UB3LYP_631Gd_3_3_cent_carbonyl_stable_restart_1\" onclick=\"view_function(event, this.id)\" /></td><td>Success</td></tr><tr><td>UB3LYP_631Gd_UB3LYP_631Gd_4_4_cent_azomethine_stable_restart_1</td><td><a href = \"files/unrestricted_cycloadd/UB3LYP_631Gd_UB3LYP_631Gd_4_4_cent_azomethine_stable_restart_1.com\" target = \"_blank\">com</a></td><td><input type=\"button\" value=\"Smart Log\" id=\"UB3LYP_631Gd_UB3LYP_631Gd_4_4_cent_azomethine_stable_restart_1\" onclick=\"view_function(event, this.id)\" /></td><td>Success</td></tr><tr><td>UB3LYP_631Gd_UB3LYP_631Gd_4_4_cent_carbonyl_stable_restart_1</td><td><a href = \"files/unrestricted_cycloadd/UB3LYP_631Gd_UB3LYP_631Gd_4_4_cent_carbonyl_stable_restart_1.com\" target = \"_blank\">com</a></td><td><input type=\"button\" value=\"Smart Log\" id=\"UB3LYP_631Gd_UB3LYP_631Gd_4_4_cent_carbonyl_stable_restart_1\" onclick=\"view_function(event, this.id)\" /></td><td>Success</td></tr>\n",
        "    </table>\n",
        "    </body>"
       ],
       "output_type": "pyout",
       "prompt_number": 19,
       "text": [
        "<IPython.core.display.HTML at 0x4843810>"
       ]
      }
     ],
     "prompt_number": 19
    },
    {
     "cell_type": "code",
     "collapsed": false,
     "input": [
      "for mol in dft_central_rxn_products[2:]:\n",
      "    mol.calc.restart(add_label='reopt', opt= 'opt', stable='')#, start=True)"
     ],
     "language": "python",
     "metadata": {},
     "outputs": [],
     "prompt_number": 20
    },
    {
     "cell_type": "code",
     "collapsed": false,
     "input": [
      "check_calcs(dft_central_rxn_products)\n",
      "mols_to_html(dft_central_rxn_products)"
     ],
     "language": "python",
     "metadata": {},
     "outputs": [
      {
       "html": [
        "\n",
        "           <script type=\"text/javascript\">\n",
        "           function view_function (event, file_n) {\n",
        "               if (event.ctrlKey && event.shiftKey){\n",
        "                   IPython.notebook.kernel.execute(\"cc_notebook_utils.pygview('\" + file_n + \".log')\");\n",
        "               }\n",
        "               else if (event.ctrlKey){\n",
        "                   IPython.notebook.kernel.execute(\"cc_notebook_utils.pygausssum('\" + file_n + \".log')\");\n",
        "               }\n",
        "               else if (event.shiftKey){\n",
        "                   IPython.notebook.kernel.execute(\"cc_notebook_utils.pyvogadro('\" + file_n + \".log')\");\n",
        "               }\n",
        "               else {\n",
        "                   IPython.notebook.kernel.execute(\"cc_notebook_utils.pyvim('\" + file_n + \".log')\");\n",
        "                   IPython.notebook.kernel.execute(\"print(file_n)\");\n",
        "               }\n",
        "           }\n",
        "           </script>\n",
        "    <style>\n",
        "    table\n",
        "    {\n",
        "        border-collapse:collapse;\n",
        "    }\n",
        "    td\n",
        "    {\n",
        "        padding:15px;\n",
        "    }\n",
        "    </style>\n",
        "    <body>\n",
        "    <table bgcolor=\"white\">\n",
        "    <col/><tr><td>UB3LYP_631Gd_UB3LYP_631Gd_3_3_cent_azomethine_stable_restart_1</td><td><a href = \"files/unrestricted_cycloadd/UB3LYP_631Gd_UB3LYP_631Gd_3_3_cent_azomethine_stable_restart_1.com\" target = \"_blank\">com</a></td><td><input type=\"button\" value=\"Smart Log\" id=\"UB3LYP_631Gd_UB3LYP_631Gd_3_3_cent_azomethine_stable_restart_1\" onclick=\"view_function(event, this.id)\" /></td><td>Success</td></tr><tr><td>UB3LYP_631Gd_UB3LYP_631Gd_3_3_cent_carbonyl_stable_restart_1</td><td><a href = \"files/unrestricted_cycloadd/UB3LYP_631Gd_UB3LYP_631Gd_3_3_cent_carbonyl_stable_restart_1.com\" target = \"_blank\">com</a></td><td><input type=\"button\" value=\"Smart Log\" id=\"UB3LYP_631Gd_UB3LYP_631Gd_3_3_cent_carbonyl_stable_restart_1\" onclick=\"view_function(event, this.id)\" /></td><td>Success</td></tr><tr><td>UB3LYP_631Gd_UB3LYP_631Gd_4_4_cent_azomethine_stable_reopt_restart_2</td><td><a href = \"files/unrestricted_cycloadd/UB3LYP_631Gd_UB3LYP_631Gd_4_4_cent_azomethine_stable_reopt_restart_2.com\" target = \"_blank\">com</a></td><td><input type=\"button\" value=\"Smart Log\" id=\"UB3LYP_631Gd_UB3LYP_631Gd_4_4_cent_azomethine_stable_reopt_restart_2\" onclick=\"view_function(event, this.id)\" /></td><td>Success</td></tr><tr><td>UB3LYP_631Gd_UB3LYP_631Gd_4_4_cent_carbonyl_stable_reopt_restart_2</td><td><a href = \"files/unrestricted_cycloadd/UB3LYP_631Gd_UB3LYP_631Gd_4_4_cent_carbonyl_stable_reopt_restart_2.com\" target = \"_blank\">com</a></td><td><input type=\"button\" value=\"Smart Log\" id=\"UB3LYP_631Gd_UB3LYP_631Gd_4_4_cent_carbonyl_stable_reopt_restart_2\" onclick=\"view_function(event, this.id)\" /></td><td>Success</td></tr>\n",
        "    </table>\n",
        "    </body>"
       ],
       "output_type": "pyout",
       "prompt_number": 21,
       "text": [
        "<IPython.core.display.HTML at 0x4843b50>"
       ]
      }
     ],
     "prompt_number": 21
    },
    {
     "cell_type": "code",
     "collapsed": false,
     "input": [
      "for mol in dft_central_rxn_products[2:]:\n",
      "    mol.calc.restart(remove_label='reopt', opt= '', stable='stable')#, start=True)\n",
      "check_calcs(dft_central_rxn_products)"
     ],
     "language": "python",
     "metadata": {},
     "outputs": [
      {
       "output_type": "pyout",
       "prompt_number": 22,
       "text": [
        "'Calculations complete'"
       ]
      }
     ],
     "prompt_number": 22
    },
    {
     "cell_type": "markdown",
     "metadata": {},
     "source": [
      "And we calculate the individual ylide molecules at UB3LYP/6-31G(d)//UB3LYP/6-31G(d). We try both high and low spin states."
     ]
    },
    {
     "cell_type": "code",
     "collapsed": false,
     "input": [
      "dft_ylides=[]\n",
      "for ylide_xyz_f in ylides_xyz:\n",
      "    for mult in [1,3]:\n",
      "        base_name = os.path.split(ylide_xyz_f)[1].replace('.xyz', '')\n",
      "        name = 'UB3LYP_631Gd_UB3LYP_631Gd_' + base_name + '_mult_' + str(mult)\n",
      "        dft_ylide = read(ylide_xyz_f)\n",
      "        dft_ylide.set_calculator(Gaussian(label=name, method='UB3LYP', basis='6-31G(d)', opt='opt', multiplicity=mult))\n",
      "        dft_ylide.calc.set_job(nodes=8, memory=8*1400, time=5, queue='pqmb')\n",
      "        #dft_ylide.calc.start()\n",
      "        dft_ylides.append(dft_ylide) \n",
      "check_calcs(dft_ylides)"
     ],
     "language": "python",
     "metadata": {},
     "outputs": [
      {
       "output_type": "pyout",
       "prompt_number": 23,
       "text": [
        "'Calculations complete'"
       ]
      }
     ],
     "prompt_number": 23
    },
    {
     "cell_type": "markdown",
     "metadata": {},
     "source": [
      "Check stability:"
     ]
    },
    {
     "cell_type": "code",
     "collapsed": false,
     "input": [
      "for mol in dft_ylides:\n",
      "    mol.calc.restart(add_label='stable', opt= '', stable='opt')\n",
      "    #mol.calc.start()\n",
      "check_calcs(dft_ylides)\n",
      "mols_to_html([m for m in dft_ylides if not m.calc.stable])"
     ],
     "language": "python",
     "metadata": {},
     "outputs": [
      {
       "html": [
        "\n",
        "           <script type=\"text/javascript\">\n",
        "           function view_function (event, file_n) {\n",
        "               if (event.ctrlKey && event.shiftKey){\n",
        "                   IPython.notebook.kernel.execute(\"cc_notebook_utils.pygview('\" + file_n + \".log')\");\n",
        "               }\n",
        "               else if (event.ctrlKey){\n",
        "                   IPython.notebook.kernel.execute(\"cc_notebook_utils.pygausssum('\" + file_n + \".log')\");\n",
        "               }\n",
        "               else if (event.shiftKey){\n",
        "                   IPython.notebook.kernel.execute(\"cc_notebook_utils.pyvogadro('\" + file_n + \".log')\");\n",
        "               }\n",
        "               else {\n",
        "                   IPython.notebook.kernel.execute(\"cc_notebook_utils.pyvim('\" + file_n + \".log')\");\n",
        "                   IPython.notebook.kernel.execute(\"print(file_n)\");\n",
        "               }\n",
        "           }\n",
        "           </script>\n",
        "    <style>\n",
        "    table\n",
        "    {\n",
        "        border-collapse:collapse;\n",
        "    }\n",
        "    td\n",
        "    {\n",
        "        padding:15px;\n",
        "    }\n",
        "    </style>\n",
        "    <body>\n",
        "    <table bgcolor=\"white\">\n",
        "    <col/>\n",
        "    </table>\n",
        "    </body>"
       ],
       "output_type": "pyout",
       "prompt_number": 24,
       "text": [
        "<IPython.core.display.HTML at 0x4853f50>"
       ]
      }
     ],
     "prompt_number": 24
    },
    {
     "cell_type": "markdown",
     "metadata": {},
     "source": [
      "Reoptimise geometry of unstable calc:"
     ]
    },
    {
     "cell_type": "code",
     "collapsed": false,
     "input": [
      "dft_ylides[2].calc.restart(add_label='reopt', opt='opt', stable='')#,start=True)\n",
      "check_calcs(dft_ylides)"
     ],
     "language": "python",
     "metadata": {},
     "outputs": [
      {
       "output_type": "pyout",
       "prompt_number": 25,
       "text": [
        "'Calculations complete'"
       ]
      }
     ],
     "prompt_number": 25
    },
    {
     "cell_type": "markdown",
     "metadata": {},
     "source": [
      "Reoptimised calc now stable:"
     ]
    },
    {
     "cell_type": "code",
     "collapsed": false,
     "input": [
      "dft_ylides[2].calc.restart(remove_label='reopt', opt= '', stable='opt')#, start=True)\n",
      "check_calcs(dft_ylides)\n",
      "all(mol.calc.stable for mol in dft_ylides)"
     ],
     "language": "python",
     "metadata": {},
     "outputs": [
      {
       "output_type": "pyout",
       "prompt_number": 26,
       "text": [
        "True"
       ]
      }
     ],
     "prompt_number": 26
    },
    {
     "cell_type": "markdown",
     "metadata": {},
     "source": [
      "In the both cases the groundstate is the low spin state."
     ]
    },
    {
     "cell_type": "code",
     "collapsed": false,
     "input": [
      "for dft_ylide in dft_ylides:\n",
      "    print(dft_ylide.calc.label, dft_ylide.calc.energy_zero)"
     ],
     "language": "python",
     "metadata": {},
     "outputs": [
      {
       "output_type": "stream",
       "stream": "stdout",
       "text": [
        "('UB3LYP_631Gd_UB3LYP_631Gd_azomethine_ylide_mult_1_stable_restart_1', -3643.2051605402044)\n",
        "('UB3LYP_631Gd_UB3LYP_631Gd_azomethine_ylide_mult_3_stable_restart_1', -3641.7029472796235)\n",
        "('UB3LYP_631Gd_UB3LYP_631Gd_carbonyl_ylide_mult_1_stable_restart_3', -4182.760874295359)\n",
        "('UB3LYP_631Gd_UB3LYP_631Gd_carbonyl_ylide_mult_3_stable_restart_1', -4182.153292810884)\n"
       ]
      }
     ],
     "prompt_number": 27
    },
    {
     "cell_type": "markdown",
     "metadata": {},
     "source": [
      "We also calculate the individual nanographenes at UB3LYP/6-31G(d)//UB3LYP/6-31G(d)."
     ]
    },
    {
     "cell_type": "code",
     "collapsed": false,
     "input": [
      "dft_graphenes = []\n",
      "symmetries=['', 'nosymmetry']\n",
      "for graphene_xyz_f in graphenes_xyz:\n",
      "    for sym in symmetries:\n",
      "        base_name = os.path.split(graphene_xyz_f)[1].replace('.xyz', '')\n",
      "        name = 'UB3LYP_631Gd_UB3LYP_631Gd_' + sym.replace('nosymmetry', 'nosym') + base_name\n",
      "        dft_graphene = read(graphene_xyz_f)\n",
      "        dft_graphene.set_calculator(Gaussian(label=name, method='UB3LYP', basis='6-31G(d)', opt='opt', nosymmetry=sym))\n",
      "        dft_graphene.calc.set_job(nodes=8, memory=8*1600, time=8, queue='pqmb')\n",
      "        #dft_graphene.calc.start()\n",
      "        dft_graphenes.append(dft_graphene)\n",
      "check_calcs(dft_graphenes)"
     ],
     "language": "python",
     "metadata": {},
     "outputs": [
      {
       "output_type": "pyout",
       "prompt_number": 28,
       "text": [
        "'Calculations complete'"
       ]
      }
     ],
     "prompt_number": 28
    },
    {
     "cell_type": "markdown",
     "metadata": {},
     "source": [
      "<font size=4 color=red>Turning symmetry off increases the energy by reaching slightly different geometries this seems very strange:<font>"
     ]
    },
    {
     "cell_type": "code",
     "collapsed": false,
     "input": [
      "ad_disp.html_dict({'3_3_E_nosym - 3_3_E_sym': dft_graphenes[1].calc.energy_zero - dft_graphenes[0].calc.energy_zero, '4_4_E_nosym - 4_4_E_sym': dft_graphenes[3].calc.energy_zero - dft_graphenes[2].calc.energy_zero, 'Max(3_3_Geom_nosym - 3_3_Geom_sym)':(dft_graphenes[1].calc.atoms.positions - dft_graphenes[0].calc.atoms.positions).max(), 'Max(4_4_Geom_nosym - 4_4_Geom_sym)':(dft_graphenes[3].calc.atoms.positions - dft_graphenes[2].calc.atoms.positions).max()})"
     ],
     "language": "python",
     "metadata": {},
     "outputs": [
      {
       "html": [
        "<table class=\"nowrap\"><tr>\n",
        "<th>\n",
        "Max(4_4_Geom_nosym - 4_4_Geom_sym)\n",
        "</th>\n",
        "<th>\n",
        "3_3_E_nosym - 3_3_E_sym\n",
        "</th>\n",
        "<th>\n",
        "Max(3_3_Geom_nosym - 3_3_Geom_sym)\n",
        "</th>\n",
        "<th>\n",
        "4_4_E_nosym - 4_4_E_sym\n",
        "</th>\n",
        "</tr><tr>\n",
        "<td><pre>\n",
        "0.0010182093999997477\n",
        "</pre></td>\n",
        "<td><pre>\n",
        "0.001311589265242219\n",
        "</pre></td>\n",
        "<td><pre>\n",
        "0.0006747489000002993\n",
        "</pre></td>\n",
        "<td><pre>\n",
        "0.0008081784471869469\n",
        "</pre></td>\n",
        "</table>"
       ],
       "output_type": "pyout",
       "prompt_number": 29,
       "text": [
        "<IPython.core.display.HTML at 0x4b5b690>"
       ]
      }
     ],
     "prompt_number": 29
    },
    {
     "cell_type": "markdown",
     "metadata": {},
     "source": [
      "Check the stabililty of the graphenes:"
     ]
    },
    {
     "cell_type": "code",
     "collapsed": false,
     "input": [
      "for mol in dft_graphenes:\n",
      "    mol.calc.restart(add_label='stable', opt= '', stable='opt')\n",
      "    #mol.calc.start()"
     ],
     "language": "python",
     "metadata": {},
     "outputs": [],
     "prompt_number": 30
    },
    {
     "cell_type": "code",
     "collapsed": false,
     "input": [
      "check_calcs(dft_graphenes)\n",
      "mols_to_html(dft_graphenes)"
     ],
     "language": "python",
     "metadata": {},
     "outputs": [
      {
       "html": [
        "\n",
        "           <script type=\"text/javascript\">\n",
        "           function view_function (event, file_n) {\n",
        "               if (event.ctrlKey && event.shiftKey){\n",
        "                   IPython.notebook.kernel.execute(\"cc_notebook_utils.pygview('\" + file_n + \".log')\");\n",
        "               }\n",
        "               else if (event.ctrlKey){\n",
        "                   IPython.notebook.kernel.execute(\"cc_notebook_utils.pygausssum('\" + file_n + \".log')\");\n",
        "               }\n",
        "               else if (event.shiftKey){\n",
        "                   IPython.notebook.kernel.execute(\"cc_notebook_utils.pyvogadro('\" + file_n + \".log')\");\n",
        "               }\n",
        "               else {\n",
        "                   IPython.notebook.kernel.execute(\"cc_notebook_utils.pyvim('\" + file_n + \".log')\");\n",
        "                   IPython.notebook.kernel.execute(\"print(file_n)\");\n",
        "               }\n",
        "           }\n",
        "           </script>\n",
        "    <style>\n",
        "    table\n",
        "    {\n",
        "        border-collapse:collapse;\n",
        "    }\n",
        "    td\n",
        "    {\n",
        "        padding:15px;\n",
        "    }\n",
        "    </style>\n",
        "    <body>\n",
        "    <table bgcolor=\"white\">\n",
        "    <col/><tr><td>UB3LYP_631Gd_UB3LYP_631Gd_3_3_graphene_stable_restart_1</td><td><a href = \"files/unrestricted_cycloadd/UB3LYP_631Gd_UB3LYP_631Gd_3_3_graphene_stable_restart_1.com\" target = \"_blank\">com</a></td><td><input type=\"button\" value=\"Smart Log\" id=\"UB3LYP_631Gd_UB3LYP_631Gd_3_3_graphene_stable_restart_1\" onclick=\"view_function(event, this.id)\" /></td><td>Success</td></tr><tr><td>UB3LYP_631Gd_UB3LYP_631Gd_nosym3_3_graphene_stable_restart_1</td><td><a href = \"files/unrestricted_cycloadd/UB3LYP_631Gd_UB3LYP_631Gd_nosym3_3_graphene_stable_restart_1.com\" target = \"_blank\">com</a></td><td><input type=\"button\" value=\"Smart Log\" id=\"UB3LYP_631Gd_UB3LYP_631Gd_nosym3_3_graphene_stable_restart_1\" onclick=\"view_function(event, this.id)\" /></td><td>Success</td></tr><tr><td>UB3LYP_631Gd_UB3LYP_631Gd_4_4_graphene_stable_restart_1</td><td><a href = \"files/unrestricted_cycloadd/UB3LYP_631Gd_UB3LYP_631Gd_4_4_graphene_stable_restart_1.com\" target = \"_blank\">com</a></td><td><input type=\"button\" value=\"Smart Log\" id=\"UB3LYP_631Gd_UB3LYP_631Gd_4_4_graphene_stable_restart_1\" onclick=\"view_function(event, this.id)\" /></td><td>Success</td></tr><tr><td>UB3LYP_631Gd_UB3LYP_631Gd_nosym4_4_graphene_stable_restart_1</td><td><a href = \"files/unrestricted_cycloadd/UB3LYP_631Gd_UB3LYP_631Gd_nosym4_4_graphene_stable_restart_1.com\" target = \"_blank\">com</a></td><td><input type=\"button\" value=\"Smart Log\" id=\"UB3LYP_631Gd_UB3LYP_631Gd_nosym4_4_graphene_stable_restart_1\" onclick=\"view_function(event, this.id)\" /></td><td>Success</td></tr>\n",
        "    </table>\n",
        "    </body>"
       ],
       "output_type": "pyout",
       "prompt_number": 31,
       "text": [
        "<IPython.core.display.HTML at 0x48439d0>"
       ]
      }
     ],
     "prompt_number": 31
    },
    {
     "cell_type": "code",
     "collapsed": false,
     "input": [
      "dft_graphenes[1].calc.energy_zero - dft_graphenes[0].calc.energy_zero, dft_graphenes[3].calc.energy_zero - dft_graphenes[2].calc.energy_zero"
     ],
     "language": "python",
     "metadata": {},
     "outputs": [
      {
       "output_type": "pyout",
       "prompt_number": 32,
       "text": [
        "(0.001311589265242219, 0.000813620732515119)"
       ]
      }
     ],
     "prompt_number": 32
    },
    {
     "cell_type": "code",
     "collapsed": false,
     "input": [
      "#abandon nosym versions as they are correspond to higher energy geometries\n",
      "dft_graphenes = [dft_graphenes[0], dft_graphenes[2]]"
     ],
     "language": "python",
     "metadata": {},
     "outputs": [],
     "prompt_number": 33
    },
    {
     "cell_type": "code",
     "collapsed": false,
     "input": [
      "mols_to_html(dft_graphenes)"
     ],
     "language": "python",
     "metadata": {},
     "outputs": [
      {
       "html": [
        "\n",
        "           <script type=\"text/javascript\">\n",
        "           function view_function (event, file_n) {\n",
        "               if (event.ctrlKey && event.shiftKey){\n",
        "                   IPython.notebook.kernel.execute(\"cc_notebook_utils.pygview('\" + file_n + \".log')\");\n",
        "               }\n",
        "               else if (event.ctrlKey){\n",
        "                   IPython.notebook.kernel.execute(\"cc_notebook_utils.pygausssum('\" + file_n + \".log')\");\n",
        "               }\n",
        "               else if (event.shiftKey){\n",
        "                   IPython.notebook.kernel.execute(\"cc_notebook_utils.pyvogadro('\" + file_n + \".log')\");\n",
        "               }\n",
        "               else {\n",
        "                   IPython.notebook.kernel.execute(\"cc_notebook_utils.pyvim('\" + file_n + \".log')\");\n",
        "                   IPython.notebook.kernel.execute(\"print(file_n)\");\n",
        "               }\n",
        "           }\n",
        "           </script>\n",
        "    <style>\n",
        "    table\n",
        "    {\n",
        "        border-collapse:collapse;\n",
        "    }\n",
        "    td\n",
        "    {\n",
        "        padding:15px;\n",
        "    }\n",
        "    </style>\n",
        "    <body>\n",
        "    <table bgcolor=\"white\">\n",
        "    <col/><tr><td>UB3LYP_631Gd_UB3LYP_631Gd_3_3_graphene_stable_restart_1</td><td><a href = \"files/unrestricted_cycloadd/UB3LYP_631Gd_UB3LYP_631Gd_3_3_graphene_stable_restart_1.com\" target = \"_blank\">com</a></td><td><input type=\"button\" value=\"Smart Log\" id=\"UB3LYP_631Gd_UB3LYP_631Gd_3_3_graphene_stable_restart_1\" onclick=\"view_function(event, this.id)\" /></td><td>Success</td></tr><tr><td>UB3LYP_631Gd_UB3LYP_631Gd_4_4_graphene_stable_restart_1</td><td><a href = \"files/unrestricted_cycloadd/UB3LYP_631Gd_UB3LYP_631Gd_4_4_graphene_stable_restart_1.com\" target = \"_blank\">com</a></td><td><input type=\"button\" value=\"Smart Log\" id=\"UB3LYP_631Gd_UB3LYP_631Gd_4_4_graphene_stable_restart_1\" onclick=\"view_function(event, this.id)\" /></td><td>Success</td></tr>\n",
        "    </table>\n",
        "    </body>"
       ],
       "output_type": "pyout",
       "prompt_number": 34,
       "text": [
        "<IPython.core.display.HTML at 0x4843a50>"
       ]
      }
     ],
     "prompt_number": 34
    },
    {
     "cell_type": "code",
     "collapsed": false,
     "input": [
      "dft_graphenes[1].calc.restart(add_label='reopt', opt='opt', stable='')#, start=True)\n",
      "check_calcs(dft_graphenes)"
     ],
     "language": "python",
     "metadata": {},
     "outputs": [
      {
       "output_type": "pyout",
       "prompt_number": 35,
       "text": [
        "'Calculations complete'"
       ]
      }
     ],
     "prompt_number": 35
    },
    {
     "cell_type": "code",
     "collapsed": false,
     "input": [
      "dft_graphenes[1].calc.restart(remove_label='reopt', opt='', stable='stable')#, start=True)"
     ],
     "language": "python",
     "metadata": {},
     "outputs": [
      {
       "output_type": "pyout",
       "prompt_number": 36,
       "text": [
        "<ase.calculators.gaussian.Gaussian instance at 0x4b10b00>"
       ]
      }
     ],
     "prompt_number": 36
    },
    {
     "cell_type": "code",
     "collapsed": false,
     "input": [
      "check_calcs(dft_graphenes)\n",
      "mols_to_html(dft_graphenes)"
     ],
     "language": "python",
     "metadata": {},
     "outputs": [
      {
       "html": [
        "\n",
        "           <script type=\"text/javascript\">\n",
        "           function view_function (event, file_n) {\n",
        "               if (event.ctrlKey && event.shiftKey){\n",
        "                   IPython.notebook.kernel.execute(\"cc_notebook_utils.pygview('\" + file_n + \".log')\");\n",
        "               }\n",
        "               else if (event.ctrlKey){\n",
        "                   IPython.notebook.kernel.execute(\"cc_notebook_utils.pygausssum('\" + file_n + \".log')\");\n",
        "               }\n",
        "               else if (event.shiftKey){\n",
        "                   IPython.notebook.kernel.execute(\"cc_notebook_utils.pyvogadro('\" + file_n + \".log')\");\n",
        "               }\n",
        "               else {\n",
        "                   IPython.notebook.kernel.execute(\"cc_notebook_utils.pyvim('\" + file_n + \".log')\");\n",
        "                   IPython.notebook.kernel.execute(\"print(file_n)\");\n",
        "               }\n",
        "           }\n",
        "           </script>\n",
        "    <style>\n",
        "    table\n",
        "    {\n",
        "        border-collapse:collapse;\n",
        "    }\n",
        "    td\n",
        "    {\n",
        "        padding:15px;\n",
        "    }\n",
        "    </style>\n",
        "    <body>\n",
        "    <table bgcolor=\"white\">\n",
        "    <col/><tr><td>UB3LYP_631Gd_UB3LYP_631Gd_3_3_graphene_stable_restart_1</td><td><a href = \"files/unrestricted_cycloadd/UB3LYP_631Gd_UB3LYP_631Gd_3_3_graphene_stable_restart_1.com\" target = \"_blank\">com</a></td><td><input type=\"button\" value=\"Smart Log\" id=\"UB3LYP_631Gd_UB3LYP_631Gd_3_3_graphene_stable_restart_1\" onclick=\"view_function(event, this.id)\" /></td><td>Success</td></tr><tr><td>UB3LYP_631Gd_UB3LYP_631Gd_4_4_graphene_stable_restart_3</td><td><a href = \"files/unrestricted_cycloadd/UB3LYP_631Gd_UB3LYP_631Gd_4_4_graphene_stable_restart_3.com\" target = \"_blank\">com</a></td><td><input type=\"button\" value=\"Smart Log\" id=\"UB3LYP_631Gd_UB3LYP_631Gd_4_4_graphene_stable_restart_3\" onclick=\"view_function(event, this.id)\" /></td><td>Success</td></tr>\n",
        "    </table>\n",
        "    </body>"
       ],
       "output_type": "pyout",
       "prompt_number": 37,
       "text": [
        "<IPython.core.display.HTML at 0x4843bd0>"
       ]
      }
     ],
     "prompt_number": 37
    },
    {
     "cell_type": "code",
     "collapsed": false,
     "input": [
      "#gaussian_job_manager.get_from_cx1_scratch('graph_4_4_aHomo.tif')\n",
      "#gaussian_job_manager.get_from_cx1_scratch('graph_4_4_bHomo.tif')\n",
      "#gaussian_job_manager.get_from_cx1_scratch('graph_4_4_aLumo.tif')\n",
      "#gaussian_job_manager.get_from_cx1_scratch('graph_4_4_bLumo.tif')\n",
      "#os.system('convert graph_4_4_aHomo.tif graph_4_4_aHomo.png')\n",
      "#os.system('convert graph_4_4_bHomo.tif graph_4_4_bHomo.png')\n",
      "#os.system('convert graph_4_4_aLumo.tif graph_4_4_aLumo.png')\n",
      "#os.system('convert graph_4_4_bLumo.tif graph_4_4_bLumo.png')"
     ],
     "language": "python",
     "metadata": {},
     "outputs": [],
     "prompt_number": 38
    },
    {
     "cell_type": "code",
     "collapsed": false,
     "input": [
      "from IPython.core.display import Image\n",
      "Image(filename='graph_4_4_aHomo.png')"
     ],
     "language": "python",
     "metadata": {},
     "outputs": [
      {
       "output_type": "pyout",
       "png": "[encoded data removed]",
       "prompt_number": 39,
       "text": [
        "<IPython.core.display.Image at 0x4843b10>"
       ]
      }
     ],
     "prompt_number": 39
    },
    {
     "cell_type": "code",
     "collapsed": false,
     "input": [
      "#dft_graphenes[1].calc.atoms.write('xyz_files/final/' + dft_graphenes[1].calc.label.replace('restart_3', 'final.xyz'))"
     ],
     "language": "python",
     "metadata": {},
     "outputs": [],
     "prompt_number": 40
    },
    {
     "cell_type": "markdown",
     "metadata": {},
     "source": [
      "So we discard the triplet states and rerun the data collating lines above modifying them such that $E_{ylide}\\space$ and $E_{product}\\space$ are taken from the b3lyp optimised structures when calculating $E_{r}$ for the centrally substituted reaction products. "
     ]
    },
    {
     "cell_type": "code",
     "collapsed": false,
     "input": [
      "ylides += [y for y in dft_ylides if 'mult_1' in y.calc.label]\n",
      "graphenes += [g for g in dft_graphenes]\n",
      "rxn_products = [prod for prod in rxn_products if 'cent' not in prod.calc.label] + dft_central_rxn_products\n",
      "%rerun 15"
     ],
     "language": "python",
     "metadata": {},
     "outputs": [
      {
       "output_type": "stream",
       "stream": "stdout",
       "text": [
        "=== Executing: ===\n",
        "#sorting so that we get the same order as given in the paper\n",
        "rxn_products.sort(key=lambda e: ('4_4' in e.calc.label, 'carb' in e.calc.label, e.calc.label))\n",
        "\n",
        "titles = []\n",
        "rxn_energies = []\n",
        "for mol in rxn_products:\n",
        "    title = title_f(mol)\n",
        "    equiv_graphene = equiv_graphene_f(mol)\n",
        "    equiv_ylide = equiv_ylide_f(mol)\n",
        "    rxn_e = 23.060542301388647*(mol.calc.energy_zero - equiv_graphene.calc.energy_zero - equiv_ylide.calc.energy_zero)\n",
        "    titles.append(title)\n",
        "    rxn_energies.append(rxn_e)\n",
        "\n",
        "rxn_energies = np.array(rxn_energies)    \n",
        "data = pandas.Series(rxn_energies,titles)\n",
        "\n",
        "#UB3LYP\n",
        "lit_rxn_energies = np.array([10.9, -29.5, -45.4, -11.9, -54.4, -70.6, 6.1, -34.5, -44.7, -16.8, -59.7, -68.4])\n",
        "#RB3LYP\n",
        "#lit_rxn_energies = np.array([10.9, -21.4, -39.3, -11.9, -46.6, -64.7, 7.1, -17.0, -33.3, -15.8, -42.2, -59.4])\n",
        "lit_data = pandas.Series(lit_rxn_energies ,titles)\n",
        "=== Output: ===\n"
       ]
      }
     ],
     "prompt_number": 41
    },
    {
     "cell_type": "code",
     "collapsed": false,
     "input": [
      "mols_to_html(graphenes+dft_graphenes)"
     ],
     "language": "python",
     "metadata": {},
     "outputs": [
      {
       "html": [
        "\n",
        "           <script type=\"text/javascript\">\n",
        "           function view_function (event, file_n) {\n",
        "               if (event.ctrlKey && event.shiftKey){\n",
        "                   IPython.notebook.kernel.execute(\"cc_notebook_utils.pygview('\" + file_n + \".log')\");\n",
        "               }\n",
        "               else if (event.ctrlKey){\n",
        "                   IPython.notebook.kernel.execute(\"cc_notebook_utils.pygausssum('\" + file_n + \".log')\");\n",
        "               }\n",
        "               else if (event.shiftKey){\n",
        "                   IPython.notebook.kernel.execute(\"cc_notebook_utils.pyvogadro('\" + file_n + \".log')\");\n",
        "               }\n",
        "               else {\n",
        "                   IPython.notebook.kernel.execute(\"cc_notebook_utils.pyvim('\" + file_n + \".log')\");\n",
        "                   IPython.notebook.kernel.execute(\"print(file_n)\");\n",
        "               }\n",
        "           }\n",
        "           </script>\n",
        "    <style>\n",
        "    table\n",
        "    {\n",
        "        border-collapse:collapse;\n",
        "    }\n",
        "    td\n",
        "    {\n",
        "        padding:15px;\n",
        "    }\n",
        "    </style>\n",
        "    <body>\n",
        "    <table bgcolor=\"white\">\n",
        "    <col/><tr><td>UB3LYP_631Gd_UHF_STO3G_4_4_graphene_stable_restart_1</td><td><a href = \"files/unrestricted_cycloadd/UB3LYP_631Gd_UHF_STO3G_4_4_graphene_stable_restart_1.com\" target = \"_blank\">com</a></td><td><input type=\"button\" value=\"Smart Log\" id=\"UB3LYP_631Gd_UHF_STO3G_4_4_graphene_stable_restart_1\" onclick=\"view_function(event, this.id)\" /></td><td>Success</td></tr><tr><td>UB3LYP_631Gd_UHF_STO3G_3_3_graphene</td><td><a href = \"files/unrestricted_cycloadd/UB3LYP_631Gd_UHF_STO3G_3_3_graphene.com\" target = \"_blank\">com</a></td><td><input type=\"button\" value=\"Smart Log\" id=\"UB3LYP_631Gd_UHF_STO3G_3_3_graphene\" onclick=\"view_function(event, this.id)\" /></td><td>Success</td></tr><tr><td>UB3LYP_631Gd_UB3LYP_631Gd_3_3_graphene_stable_restart_1</td><td><a href = \"files/unrestricted_cycloadd/UB3LYP_631Gd_UB3LYP_631Gd_3_3_graphene_stable_restart_1.com\" target = \"_blank\">com</a></td><td><input type=\"button\" value=\"Smart Log\" id=\"UB3LYP_631Gd_UB3LYP_631Gd_3_3_graphene_stable_restart_1\" onclick=\"view_function(event, this.id)\" /></td><td>Success</td></tr><tr><td>UB3LYP_631Gd_UB3LYP_631Gd_4_4_graphene_stable_restart_3</td><td><a href = \"files/unrestricted_cycloadd/UB3LYP_631Gd_UB3LYP_631Gd_4_4_graphene_stable_restart_3.com\" target = \"_blank\">com</a></td><td><input type=\"button\" value=\"Smart Log\" id=\"UB3LYP_631Gd_UB3LYP_631Gd_4_4_graphene_stable_restart_3\" onclick=\"view_function(event, this.id)\" /></td><td>Success</td></tr><tr><td>UB3LYP_631Gd_UB3LYP_631Gd_3_3_graphene_stable_restart_1</td><td><a href = \"files/unrestricted_cycloadd/UB3LYP_631Gd_UB3LYP_631Gd_3_3_graphene_stable_restart_1.com\" target = \"_blank\">com</a></td><td><input type=\"button\" value=\"Smart Log\" id=\"UB3LYP_631Gd_UB3LYP_631Gd_3_3_graphene_stable_restart_1\" onclick=\"view_function(event, this.id)\" /></td><td>Success</td></tr><tr><td>UB3LYP_631Gd_UB3LYP_631Gd_4_4_graphene_stable_restart_3</td><td><a href = \"files/unrestricted_cycloadd/UB3LYP_631Gd_UB3LYP_631Gd_4_4_graphene_stable_restart_3.com\" target = \"_blank\">com</a></td><td><input type=\"button\" value=\"Smart Log\" id=\"UB3LYP_631Gd_UB3LYP_631Gd_4_4_graphene_stable_restart_3\" onclick=\"view_function(event, this.id)\" /></td><td>Success</td></tr>\n",
        "    </table>\n",
        "    </body>"
       ],
       "output_type": "pyout",
       "prompt_number": 42,
       "text": [
        "<IPython.core.display.HTML at 0x4843d90>"
       ]
      }
     ],
     "prompt_number": 42
    },
    {
     "cell_type": "code",
     "collapsed": false,
     "input": [
      "# and replot the data\n",
      "d = {'Rxn Energy': data, 'Lit rxn energy': lit_data , 'delta': data - lit_data}\n",
      "pandas.DataFrame(d)"
     ],
     "language": "python",
     "metadata": {},
     "outputs": [
      {
       "html": [
        "<div style=\"max-height:1000px;max-width:1500px;overflow:auto;\">\n",
        "<table border=\"1\" class=\"dataframe\">\n",
        "  <thead>\n",
        "    <tr style=\"text-align: right;\">\n",
        "      <th></th>\n",
        "      <th>Lit rxn energy</th>\n",
        "      <th>Rxn Energy</th>\n",
        "      <th>delta</th>\n",
        "    </tr>\n",
        "  </thead>\n",
        "  <tbody>\n",
        "    <tr>\n",
        "      <td><strong>3_3_cent_azomethine_stable_restart_1</strong></td>\n",
        "      <td> 10.9</td>\n",
        "      <td> 16.195205</td>\n",
        "      <td> 5.295205</td>\n",
        "    </tr>\n",
        "    <tr>\n",
        "      <td><strong>3_3_corn_azomethine_stable_restart_1</strong></td>\n",
        "      <td>-29.5</td>\n",
        "      <td>-34.301805</td>\n",
        "      <td>-4.801805</td>\n",
        "    </tr>\n",
        "    <tr>\n",
        "      <td><strong>3_3_edg_azomethine_stable_restart_1</strong></td>\n",
        "      <td>-45.4</td>\n",
        "      <td>-51.492429</td>\n",
        "      <td>-6.092429</td>\n",
        "    </tr>\n",
        "    <tr>\n",
        "      <td><strong>3_3_cent_carbonyl_stable_restart_1</strong></td>\n",
        "      <td>-11.9</td>\n",
        "      <td>-10.908563</td>\n",
        "      <td> 0.991437</td>\n",
        "    </tr>\n",
        "    <tr>\n",
        "      <td><strong>3_3_corn_carbonyl_stable_restart_1</strong></td>\n",
        "      <td>-54.4</td>\n",
        "      <td>-59.384240</td>\n",
        "      <td>-4.984240</td>\n",
        "    </tr>\n",
        "    <tr>\n",
        "      <td><strong>3_3_edg_carbonyl_stable_restart_1</strong></td>\n",
        "      <td>-70.6</td>\n",
        "      <td>-75.774162</td>\n",
        "      <td>-5.174162</td>\n",
        "    </tr>\n",
        "    <tr>\n",
        "      <td><strong>4_4_cent_azomethine_stable_restart_3</strong></td>\n",
        "      <td>  6.1</td>\n",
        "      <td> 11.088219</td>\n",
        "      <td> 4.988219</td>\n",
        "    </tr>\n",
        "    <tr>\n",
        "      <td><strong>4_4_corn_azomethine_stable_restart_1</strong></td>\n",
        "      <td>-34.5</td>\n",
        "      <td>-39.863673</td>\n",
        "      <td>-5.363673</td>\n",
        "    </tr>\n",
        "    <tr>\n",
        "      <td><strong>4_4_edg_azomethine_stable_restart_1</strong></td>\n",
        "      <td>-44.7</td>\n",
        "      <td>-49.850236</td>\n",
        "      <td>-5.150236</td>\n",
        "    </tr>\n",
        "    <tr>\n",
        "      <td><strong>4_4_cent_carbonyl_stable_restart_3</strong></td>\n",
        "      <td>-16.8</td>\n",
        "      <td>-15.925565</td>\n",
        "      <td> 0.874435</td>\n",
        "    </tr>\n",
        "    <tr>\n",
        "      <td><strong>4_4_corn_carbonyl_stable_restart_1</strong></td>\n",
        "      <td>-59.7</td>\n",
        "      <td>-63.973343</td>\n",
        "      <td>-4.273343</td>\n",
        "    </tr>\n",
        "    <tr>\n",
        "      <td><strong>4_4_edg_carbonyl_stable_restart_1</strong></td>\n",
        "      <td>-68.4</td>\n",
        "      <td>-74.792925</td>\n",
        "      <td>-6.392925</td>\n",
        "    </tr>\n",
        "  </tbody>\n",
        "</table>\n",
        "</div>"
       ],
       "output_type": "pyout",
       "prompt_number": 43,
       "text": [
        "                                      Lit rxn energy  Rxn Energy     delta\n",
        "3_3_cent_azomethine_stable_restart_1            10.9   16.195205  5.295205\n",
        "3_3_corn_azomethine_stable_restart_1           -29.5  -34.301805 -4.801805\n",
        "3_3_edg_azomethine_stable_restart_1            -45.4  -51.492429 -6.092429\n",
        "3_3_cent_carbonyl_stable_restart_1             -11.9  -10.908563  0.991437\n",
        "3_3_corn_carbonyl_stable_restart_1             -54.4  -59.384240 -4.984240\n",
        "3_3_edg_carbonyl_stable_restart_1              -70.6  -75.774162 -5.174162\n",
        "4_4_cent_azomethine_stable_restart_3             6.1   11.088219  4.988219\n",
        "4_4_corn_azomethine_stable_restart_1           -34.5  -39.863673 -5.363673\n",
        "4_4_edg_azomethine_stable_restart_1            -44.7  -49.850236 -5.150236\n",
        "4_4_cent_carbonyl_stable_restart_3             -16.8  -15.925565  0.874435\n",
        "4_4_corn_carbonyl_stable_restart_1             -59.7  -63.973343 -4.273343\n",
        "4_4_edg_carbonyl_stable_restart_1              -68.4  -74.792925 -6.392925"
       ]
      }
     ],
     "prompt_number": 43
    },
    {
     "cell_type": "markdown",
     "metadata": {},
     "source": [
      "<strike>This improves the match between our calculations and the literature values for the centre substituted products. However there still remains a discrepancy. Perhaps they always used B3LYP/6-31G(d) to calculate the geometries of the graphenes even when comparing to rxn_products with geometries calculated at the HF level? (seems wrong)</strike>"
     ]
    },
    {
     "cell_type": "code",
     "collapsed": false,
     "input": [
      "#graphenes = [g for g in graphenes if 'HF_STO3G' not in g.calc.label]\n",
      "\n",
      "#remove the method dependences\n",
      "#def equiv_graphene_f(prod):\n",
      "#    size_str = title_f(prod)[0:3]\n",
      "#    return next(g for g in graphenes if size_str in title_f(g)[0:4])\n",
      "\n",
      "#%rerun 15"
     ],
     "language": "python",
     "metadata": {},
     "outputs": [],
     "prompt_number": 44
    },
    {
     "cell_type": "code",
     "collapsed": false,
     "input": [
      "# and replot the data\n",
      "#d = {'Rxn Energy': data, 'Lit rxn energy': lit_data , 'delta': data - lit_data}\n",
      "#pandas.DataFrame(d)"
     ],
     "language": "python",
     "metadata": {},
     "outputs": [],
     "prompt_number": 45
    },
    {
     "cell_type": "markdown",
     "metadata": {},
     "source": [
      "<strike>This improves the values can we improve further by also calculating the ylide geometries at the B3LYP level (this also appears wrong but is atleast consistent with the above):</strike>"
     ]
    },
    {
     "cell_type": "code",
     "collapsed": false,
     "input": [
      "#ylides = [y for y in ylides if 'HF_STO3G' not in y.calc.label]\n",
      "\n",
      "#def equiv_ylide_f(prod):\n",
      "#    ylide_str = 'azo' if 'azo' in title_f(prod) else 'carb'\n",
      "#    return next(y for y in ylides if ylide_str in y.calc.label)\n",
      "\n",
      "#%rerun 15"
     ],
     "language": "python",
     "metadata": {},
     "outputs": [],
     "prompt_number": 46
    },
    {
     "cell_type": "code",
     "collapsed": false,
     "input": [
      "# and replot the data\n",
      "#d = {'Rxn Energy': data, 'Lit rxn energy': lit_data , 'delta': data - lit_data}\n",
      "#pandas.DataFrame(d)"
     ],
     "language": "python",
     "metadata": {},
     "outputs": [],
     "prompt_number": 47
    },
    {
     "cell_type": "code",
     "collapsed": false,
     "input": [
      "cent_azo_3_3 = read('xyz_files/init/3_3_cent_azomethine.xyz')\n",
      "cent_azo_3_3.rotate('x',-pi/2)\n",
      "cent_azo_3_3.rotate('z',-pi/2)\n",
      "cent_azo_3_3.write('cent_azo_3_3.png')\n",
      "\n",
      "cent_azo_3_3_v2 = read('xyz_files/extra/3_3_cent_azomethine_v2.xyz')\n",
      "cent_azo_3_3_v2.write('cent_azo_3_3_v2.png')\n",
      "\n",
      "html_strings = ['<img src=\"/files/cycloadd/{f}\"/>'.format(f=img) for img in ['cent_azo_3_3.png', 'cent_azo_3_3_v2.png']]\n",
      "total_html = \"\".join(html_strings)\n",
      "HTML(total_html) "
     ],
     "language": "python",
     "metadata": {},
     "outputs": [
      {
       "html": [
        "<img src=\"/files/cycloadd/cent_azo_3_3.png\"/><img src=\"/files/cycloadd/cent_azo_3_3_v2.png\"/>"
       ],
       "output_type": "pyout",
       "prompt_number": 48,
       "text": [
        "<IPython.core.display.HTML at 0x485d250>"
       ]
      }
     ],
     "prompt_number": 48
    },
    {
     "cell_type": "code",
     "collapsed": false,
     "input": [
      "base_name = '3_3_cent_azomethine_v2'\n",
      "name = 'UB3LYP_631Gd_UB3LYP_631Gd_' + base_name\n",
      "cent_azo_3_3_v2.set_calculator(Gaussian(label=name, method='UB3LYP', basis='6-31G(d)', opt='opt'))\n",
      "cent_azo_3_3_v2.calc.set_job(nodes=8, memory=8*1400, time=5, queue='pqmb')\n",
      "#cent_azo_3_3_v2.calc.start()\n",
      "check_calcs([cent_azo_3_3_v2])"
     ],
     "language": "python",
     "metadata": {},
     "outputs": [
      {
       "output_type": "pyout",
       "prompt_number": 49,
       "text": [
        "'Calculations complete'"
       ]
      }
     ],
     "prompt_number": 49
    },
    {
     "cell_type": "code",
     "collapsed": false,
     "input": [
      "cent_azo_3_3_v2.calc.restart(add_label='stable', opt='', stable='opt')#, start=True)"
     ],
     "language": "python",
     "metadata": {},
     "outputs": [
      {
       "output_type": "pyout",
       "prompt_number": 50,
       "text": [
        "<ase.calculators.gaussian.Gaussian instance at 0x4b64ef0>"
       ]
      }
     ],
     "prompt_number": 50
    },
    {
     "cell_type": "code",
     "collapsed": false,
     "input": [
      "check_calcs([cent_azo_3_3_v2])\n",
      "mols_to_html([cent_azo_3_3_v2])"
     ],
     "language": "python",
     "metadata": {},
     "outputs": [
      {
       "html": [
        "\n",
        "           <script type=\"text/javascript\">\n",
        "           function view_function (event, file_n) {\n",
        "               if (event.ctrlKey && event.shiftKey){\n",
        "                   IPython.notebook.kernel.execute(\"cc_notebook_utils.pygview('\" + file_n + \".log')\");\n",
        "               }\n",
        "               else if (event.ctrlKey){\n",
        "                   IPython.notebook.kernel.execute(\"cc_notebook_utils.pygausssum('\" + file_n + \".log')\");\n",
        "               }\n",
        "               else if (event.shiftKey){\n",
        "                   IPython.notebook.kernel.execute(\"cc_notebook_utils.pyvogadro('\" + file_n + \".log')\");\n",
        "               }\n",
        "               else {\n",
        "                   IPython.notebook.kernel.execute(\"cc_notebook_utils.pyvim('\" + file_n + \".log')\");\n",
        "                   IPython.notebook.kernel.execute(\"print(file_n)\");\n",
        "               }\n",
        "           }\n",
        "           </script>\n",
        "    <style>\n",
        "    table\n",
        "    {\n",
        "        border-collapse:collapse;\n",
        "    }\n",
        "    td\n",
        "    {\n",
        "        padding:15px;\n",
        "    }\n",
        "    </style>\n",
        "    <body>\n",
        "    <table bgcolor=\"white\">\n",
        "    <col/><tr><td>UB3LYP_631Gd_UB3LYP_631Gd_3_3_cent_azomethine_v2_stable_restart_1</td><td><a href = \"files/unrestricted_cycloadd/UB3LYP_631Gd_UB3LYP_631Gd_3_3_cent_azomethine_v2_stable_restart_1.com\" target = \"_blank\">com</a></td><td><input type=\"button\" value=\"Smart Log\" id=\"UB3LYP_631Gd_UB3LYP_631Gd_3_3_cent_azomethine_v2_stable_restart_1\" onclick=\"view_function(event, this.id)\" /></td><td>Success</td></tr>\n",
        "    </table>\n",
        "    </body>"
       ],
       "output_type": "pyout",
       "prompt_number": 51,
       "text": [
        "<IPython.core.display.HTML at 0x4b5bbd0>"
       ]
      }
     ],
     "prompt_number": 51
    },
    {
     "cell_type": "code",
     "collapsed": false,
     "input": [
      "cent_azo_4_4 = read('xyz_files/init/4_4_cent_azomethine.xyz')\n",
      "cent_azo_4_4.rotate('x',pi/2)\n",
      "cent_azo_4_4.rotate('z',-pi/2)\n",
      "cent_azo_4_4.write('cent_azo_4_4.png')\n",
      "\n",
      "cent_azo_4_4_v2 = read('xyz_files/extra/4_4_cent_azomethine_v2.xyz')\n",
      "cent_azo_4_4_v2.rotate('x',pi/2)\n",
      "cent_azo_4_4_v2.rotate('z',-pi/2)\n",
      "cent_azo_4_4_v2.write('cent_azo_4_4_v2.png')\n",
      "\n",
      "html_strings = ['<img src=\"/files/cycloadd/{f}\"/>'.format(f=img) for img in ['cent_azo_4_4.png', 'cent_azo_4_4_v2.png']]\n",
      "total_html = \"\".join(html_strings)\n",
      "HTML(total_html) "
     ],
     "language": "python",
     "metadata": {},
     "outputs": [
      {
       "html": [
        "<img src=\"/files/cycloadd/cent_azo_4_4.png\"/><img src=\"/files/cycloadd/cent_azo_4_4_v2.png\"/>"
       ],
       "output_type": "pyout",
       "prompt_number": 52,
       "text": [
        "<IPython.core.display.HTML at 0x4853c90>"
       ]
      }
     ],
     "prompt_number": 52
    },
    {
     "cell_type": "code",
     "collapsed": false,
     "input": [
      "base_name = '4_4_cent_azomethine_v2'\n",
      "name = 'UB3LYP_631Gd_UB3LYP_631Gd_' + base_name\n",
      "cent_azo_4_4_v2.set_calculator(Gaussian(label=name, method='UB3LYP', basis='6-31G(d)', opt='opt'))\n",
      "cent_azo_4_4_v2.calc.set_job(nodes=12, memory=12*1600, time=16, queue='pqmb')\n",
      "#cent_azo_4_4_v2.calc.start()\n",
      "cent_azo_4_4_v2.calc.restart()#,start=True)\n",
      "check_calcs([cent_azo_4_4_v2])"
     ],
     "language": "python",
     "metadata": {},
     "outputs": [
      {
       "output_type": "pyout",
       "prompt_number": 53,
       "text": [
        "'Calculations complete'"
       ]
      }
     ],
     "prompt_number": 53
    },
    {
     "cell_type": "code",
     "collapsed": false,
     "input": [
      "cent_azo_4_4_v2.calc.energy_zero"
     ],
     "language": "python",
     "metadata": {},
     "outputs": [
      {
       "output_type": "pyout",
       "prompt_number": 54,
       "text": [
        "-53716.99008985503"
       ]
      }
     ],
     "prompt_number": 54
    },
    {
     "cell_type": "markdown",
     "metadata": {},
     "source": [
      "Let's see if the low mult calculation is stable:"
     ]
    },
    {
     "cell_type": "code",
     "collapsed": false,
     "input": [
      "cent_azo_4_4_v2.calc.restart(add_label='stable', opt='', stable='opt')#, start=True)\n",
      "check_calcs([cent_azo_4_4_v2])\n",
      "cent_azo_4_4_v2.calc.energy_zero"
     ],
     "language": "python",
     "metadata": {},
     "outputs": [
      {
       "output_type": "pyout",
       "prompt_number": 55,
       "text": [
        "-53717.10442397616"
       ]
      }
     ],
     "prompt_number": 55
    },
    {
     "cell_type": "code",
     "collapsed": false,
     "input": [
      "mols_to_html([cent_azo_4_4_v2])"
     ],
     "language": "python",
     "metadata": {},
     "outputs": [
      {
       "html": [
        "\n",
        "           <script type=\"text/javascript\">\n",
        "           function view_function (event, file_n) {\n",
        "               if (event.ctrlKey && event.shiftKey){\n",
        "                   IPython.notebook.kernel.execute(\"cc_notebook_utils.pygview('\" + file_n + \".log')\");\n",
        "               }\n",
        "               else if (event.ctrlKey){\n",
        "                   IPython.notebook.kernel.execute(\"cc_notebook_utils.pygausssum('\" + file_n + \".log')\");\n",
        "               }\n",
        "               else if (event.shiftKey){\n",
        "                   IPython.notebook.kernel.execute(\"cc_notebook_utils.pyvogadro('\" + file_n + \".log')\");\n",
        "               }\n",
        "               else {\n",
        "                   IPython.notebook.kernel.execute(\"cc_notebook_utils.pyvim('\" + file_n + \".log')\");\n",
        "                   IPython.notebook.kernel.execute(\"print(file_n)\");\n",
        "               }\n",
        "           }\n",
        "           </script>\n",
        "    <style>\n",
        "    table\n",
        "    {\n",
        "        border-collapse:collapse;\n",
        "    }\n",
        "    td\n",
        "    {\n",
        "        padding:15px;\n",
        "    }\n",
        "    </style>\n",
        "    <body>\n",
        "    <table bgcolor=\"white\">\n",
        "    <col/><tr><td>UB3LYP_631Gd_UB3LYP_631Gd_4_4_cent_azomethine_v2_stable_restart_2</td><td><a href = \"files/unrestricted_cycloadd/UB3LYP_631Gd_UB3LYP_631Gd_4_4_cent_azomethine_v2_stable_restart_2.com\" target = \"_blank\">com</a></td><td><input type=\"button\" value=\"Smart Log\" id=\"UB3LYP_631Gd_UB3LYP_631Gd_4_4_cent_azomethine_v2_stable_restart_2\" onclick=\"view_function(event, this.id)\" /></td><td>Success</td></tr>\n",
        "    </table>\n",
        "    </body>"
       ],
       "output_type": "pyout",
       "prompt_number": 56,
       "text": [
        "<IPython.core.display.HTML at 0x4b5bc10>"
       ]
      }
     ],
     "prompt_number": 56
    },
    {
     "cell_type": "markdown",
     "metadata": {},
     "source": [
      "The low mult calculation was not stable and had an internal stability - perhaps the geometry is thus wrong so we will reoptimize using stable=opt"
     ]
    },
    {
     "cell_type": "code",
     "collapsed": false,
     "input": [
      "cent_azo_4_4_v2.calc.restart(add_label='re_opt', stable='', opt='opt')\n",
      "#cent_azo_4_4_v2.calc.start(frc=True)"
     ],
     "language": "python",
     "metadata": {},
     "outputs": [
      {
       "output_type": "pyout",
       "prompt_number": 57,
       "text": [
        "<ase.calculators.gaussian.Gaussian instance at 0x48631b8>"
       ]
      }
     ],
     "prompt_number": 57
    },
    {
     "cell_type": "code",
     "collapsed": false,
     "input": [
      "check_calcs([cent_azo_4_4_v2])\n",
      "mols_to_html([cent_azo_4_4_v2])"
     ],
     "language": "python",
     "metadata": {},
     "outputs": [
      {
       "html": [
        "\n",
        "           <script type=\"text/javascript\">\n",
        "           function view_function (event, file_n) {\n",
        "               if (event.ctrlKey && event.shiftKey){\n",
        "                   IPython.notebook.kernel.execute(\"cc_notebook_utils.pygview('\" + file_n + \".log')\");\n",
        "               }\n",
        "               else if (event.ctrlKey){\n",
        "                   IPython.notebook.kernel.execute(\"cc_notebook_utils.pygausssum('\" + file_n + \".log')\");\n",
        "               }\n",
        "               else if (event.shiftKey){\n",
        "                   IPython.notebook.kernel.execute(\"cc_notebook_utils.pyvogadro('\" + file_n + \".log')\");\n",
        "               }\n",
        "               else {\n",
        "                   IPython.notebook.kernel.execute(\"cc_notebook_utils.pyvim('\" + file_n + \".log')\");\n",
        "                   IPython.notebook.kernel.execute(\"print(file_n)\");\n",
        "               }\n",
        "           }\n",
        "           </script>\n",
        "    <style>\n",
        "    table\n",
        "    {\n",
        "        border-collapse:collapse;\n",
        "    }\n",
        "    td\n",
        "    {\n",
        "        padding:15px;\n",
        "    }\n",
        "    </style>\n",
        "    <body>\n",
        "    <table bgcolor=\"white\">\n",
        "    <col/><tr><td>UB3LYP_631Gd_UB3LYP_631Gd_4_4_cent_azomethine_v2_stable_re_opt_restart_3</td><td><a href = \"files/unrestricted_cycloadd/UB3LYP_631Gd_UB3LYP_631Gd_4_4_cent_azomethine_v2_stable_re_opt_restart_3.com\" target = \"_blank\">com</a></td><td><input type=\"button\" value=\"Smart Log\" id=\"UB3LYP_631Gd_UB3LYP_631Gd_4_4_cent_azomethine_v2_stable_re_opt_restart_3\" onclick=\"view_function(event, this.id)\" /></td><td>Success</td></tr>\n",
        "    </table>\n",
        "    </body>"
       ],
       "output_type": "pyout",
       "prompt_number": 58,
       "text": [
        "<IPython.core.display.HTML at 0x4b5bc90>"
       ]
      }
     ],
     "prompt_number": 58
    },
    {
     "cell_type": "code",
     "collapsed": false,
     "input": [
      "cent_azo_4_4_v2.calc.energy_zero"
     ],
     "language": "python",
     "metadata": {},
     "outputs": [
      {
       "output_type": "pyout",
       "prompt_number": 59,
       "text": [
        "-53717.12996187098"
       ]
      }
     ],
     "prompt_number": 59
    },
    {
     "cell_type": "markdown",
     "metadata": {},
     "source": [
      "And recheck stability:"
     ]
    },
    {
     "cell_type": "code",
     "collapsed": false,
     "input": [
      "cent_azo_4_4_v2.calc.restart(remove_label='re_opt', stable='opt', opt='')#, start=True)"
     ],
     "language": "python",
     "metadata": {},
     "outputs": [
      {
       "output_type": "pyout",
       "prompt_number": 60,
       "text": [
        "<ase.calculators.gaussian.Gaussian instance at 0x48631b8>"
       ]
      }
     ],
     "prompt_number": 60
    },
    {
     "cell_type": "code",
     "collapsed": false,
     "input": [
      "check_calcs([cent_azo_4_4_v2])\n",
      "mols_to_html([cent_azo_4_4_v2])"
     ],
     "language": "python",
     "metadata": {},
     "outputs": [
      {
       "html": [
        "\n",
        "           <script type=\"text/javascript\">\n",
        "           function view_function (event, file_n) {\n",
        "               if (event.ctrlKey && event.shiftKey){\n",
        "                   IPython.notebook.kernel.execute(\"cc_notebook_utils.pygview('\" + file_n + \".log')\");\n",
        "               }\n",
        "               else if (event.ctrlKey){\n",
        "                   IPython.notebook.kernel.execute(\"cc_notebook_utils.pygausssum('\" + file_n + \".log')\");\n",
        "               }\n",
        "               else if (event.shiftKey){\n",
        "                   IPython.notebook.kernel.execute(\"cc_notebook_utils.pyvogadro('\" + file_n + \".log')\");\n",
        "               }\n",
        "               else {\n",
        "                   IPython.notebook.kernel.execute(\"cc_notebook_utils.pyvim('\" + file_n + \".log')\");\n",
        "                   IPython.notebook.kernel.execute(\"print(file_n)\");\n",
        "               }\n",
        "           }\n",
        "           </script>\n",
        "    <style>\n",
        "    table\n",
        "    {\n",
        "        border-collapse:collapse;\n",
        "    }\n",
        "    td\n",
        "    {\n",
        "        padding:15px;\n",
        "    }\n",
        "    </style>\n",
        "    <body>\n",
        "    <table bgcolor=\"white\">\n",
        "    <col/><tr><td>UB3LYP_631Gd_UB3LYP_631Gd_4_4_cent_azomethine_v2_stable_restart_4</td><td><a href = \"files/unrestricted_cycloadd/UB3LYP_631Gd_UB3LYP_631Gd_4_4_cent_azomethine_v2_stable_restart_4.com\" target = \"_blank\">com</a></td><td><input type=\"button\" value=\"Smart Log\" id=\"UB3LYP_631Gd_UB3LYP_631Gd_4_4_cent_azomethine_v2_stable_restart_4\" onclick=\"view_function(event, this.id)\" /></td><td>Success</td></tr>\n",
        "    </table>\n",
        "    </body>"
       ],
       "output_type": "pyout",
       "prompt_number": 61,
       "text": [
        "<IPython.core.display.HTML at 0x4843dd0>"
       ]
      }
     ],
     "prompt_number": 61
    },
    {
     "cell_type": "markdown",
     "metadata": {},
     "source": [
      "Let's try a higher multiplicity for the centre azomethine substituent"
     ]
    },
    {
     "cell_type": "code",
     "collapsed": false,
     "input": [
      "high_mult = copy.deepcopy(cent_azo_4_4_v2)\n",
      "high_mult.calc.restart(label = 'high_mult_4_4_cent_azo', stable = '', opt='opt', multiplicity = 3)\n",
      "#high_mult.calc.start(frc=True)"
     ],
     "language": "python",
     "metadata": {},
     "outputs": [
      {
       "output_type": "pyout",
       "prompt_number": 62,
       "text": [
        "<ase.calculators.gaussian.Gaussian instance at 0x4b6e200>"
       ]
      }
     ],
     "prompt_number": 62
    },
    {
     "cell_type": "code",
     "collapsed": false,
     "input": [
      "check_calcs([high_mult])\n",
      "mols_to_html([high_mult])"
     ],
     "language": "python",
     "metadata": {},
     "outputs": [
      {
       "html": [
        "\n",
        "           <script type=\"text/javascript\">\n",
        "           function view_function (event, file_n) {\n",
        "               if (event.ctrlKey && event.shiftKey){\n",
        "                   IPython.notebook.kernel.execute(\"cc_notebook_utils.pygview('\" + file_n + \".log')\");\n",
        "               }\n",
        "               else if (event.ctrlKey){\n",
        "                   IPython.notebook.kernel.execute(\"cc_notebook_utils.pygausssum('\" + file_n + \".log')\");\n",
        "               }\n",
        "               else if (event.shiftKey){\n",
        "                   IPython.notebook.kernel.execute(\"cc_notebook_utils.pyvogadro('\" + file_n + \".log')\");\n",
        "               }\n",
        "               else {\n",
        "                   IPython.notebook.kernel.execute(\"cc_notebook_utils.pyvim('\" + file_n + \".log')\");\n",
        "                   IPython.notebook.kernel.execute(\"print(file_n)\");\n",
        "               }\n",
        "           }\n",
        "           </script>\n",
        "    <style>\n",
        "    table\n",
        "    {\n",
        "        border-collapse:collapse;\n",
        "    }\n",
        "    td\n",
        "    {\n",
        "        padding:15px;\n",
        "    }\n",
        "    </style>\n",
        "    <body>\n",
        "    <table bgcolor=\"white\">\n",
        "    <col/><tr><td>high_mult_4_4_cent_azo</td><td><a href = \"files/unrestricted_cycloadd/high_mult_4_4_cent_azo.com\" target = \"_blank\">com</a></td><td><input type=\"button\" value=\"Smart Log\" id=\"high_mult_4_4_cent_azo\" onclick=\"view_function(event, this.id)\" /></td><td>Success</td></tr>\n",
        "    </table>\n",
        "    </body>"
       ],
       "output_type": "pyout",
       "prompt_number": 63,
       "text": [
        "<IPython.core.display.HTML at 0x48437d0>"
       ]
      }
     ],
     "prompt_number": 63
    },
    {
     "cell_type": "code",
     "collapsed": false,
     "input": [
      "high_mult.calc.energy_zero"
     ],
     "language": "python",
     "metadata": {},
     "outputs": [
      {
       "output_type": "pyout",
       "prompt_number": 64,
       "text": [
        "-53716.949675490214"
       ]
      }
     ],
     "prompt_number": 64
    },
    {
     "cell_type": "markdown",
     "metadata": {},
     "source": [
      "Let's see if the high mult calculation is stable:"
     ]
    },
    {
     "cell_type": "code",
     "collapsed": false,
     "input": [
      "high_mult.calc.restart(add_label='stable', opt = '', stable='opt')\n",
      "#high_mult.calc.start(frc=True)"
     ],
     "language": "python",
     "metadata": {},
     "outputs": [
      {
       "output_type": "pyout",
       "prompt_number": 65,
       "text": [
        "<ase.calculators.gaussian.Gaussian instance at 0x4b6e200>"
       ]
      }
     ],
     "prompt_number": 65
    },
    {
     "cell_type": "code",
     "collapsed": false,
     "input": [
      "check_calcs([high_mult])\n",
      "mols_to_html([high_mult])"
     ],
     "language": "python",
     "metadata": {},
     "outputs": [
      {
       "html": [
        "\n",
        "           <script type=\"text/javascript\">\n",
        "           function view_function (event, file_n) {\n",
        "               if (event.ctrlKey && event.shiftKey){\n",
        "                   IPython.notebook.kernel.execute(\"cc_notebook_utils.pygview('\" + file_n + \".log')\");\n",
        "               }\n",
        "               else if (event.ctrlKey){\n",
        "                   IPython.notebook.kernel.execute(\"cc_notebook_utils.pygausssum('\" + file_n + \".log')\");\n",
        "               }\n",
        "               else if (event.shiftKey){\n",
        "                   IPython.notebook.kernel.execute(\"cc_notebook_utils.pyvogadro('\" + file_n + \".log')\");\n",
        "               }\n",
        "               else {\n",
        "                   IPython.notebook.kernel.execute(\"cc_notebook_utils.pyvim('\" + file_n + \".log')\");\n",
        "                   IPython.notebook.kernel.execute(\"print(file_n)\");\n",
        "               }\n",
        "           }\n",
        "           </script>\n",
        "    <style>\n",
        "    table\n",
        "    {\n",
        "        border-collapse:collapse;\n",
        "    }\n",
        "    td\n",
        "    {\n",
        "        padding:15px;\n",
        "    }\n",
        "    </style>\n",
        "    <body>\n",
        "    <table bgcolor=\"white\">\n",
        "    <col/><tr><td>high_mult_4_4_cent_azo_stable_restart_1</td><td><a href = \"files/unrestricted_cycloadd/high_mult_4_4_cent_azo_stable_restart_1.com\" target = \"_blank\">com</a></td><td><input type=\"button\" value=\"Smart Log\" id=\"high_mult_4_4_cent_azo_stable_restart_1\" onclick=\"view_function(event, this.id)\" /></td><td>Success</td></tr>\n",
        "    </table>\n",
        "    </body>"
       ],
       "output_type": "pyout",
       "prompt_number": 66,
       "text": [
        "<IPython.core.display.HTML at 0x4853990>"
       ]
      }
     ],
     "prompt_number": 66
    },
    {
     "cell_type": "code",
     "collapsed": false,
     "input": [
      "high_mult.calc.energy_zero"
     ],
     "language": "python",
     "metadata": {},
     "outputs": [
      {
       "output_type": "pyout",
       "prompt_number": 67,
       "text": [
        "-53716.949675490214"
       ]
      }
     ],
     "prompt_number": 67
    },
    {
     "cell_type": "markdown",
     "metadata": {},
     "source": [
      "Yes it is stable but the single state is more stable"
     ]
    },
    {
     "cell_type": "markdown",
     "metadata": {},
     "source": [
      "These versions do much better with a difference of 0.236 and 0.119 eVs to the lit value (vs. the previous 5.30 and 5.00 eVs)"
     ]
    },
    {
     "cell_type": "code",
     "collapsed": false,
     "input": [
      "E_r = lambda e,f,g: 23.060542301388647 * (e.calc.energy_zero- f.calc.energy_zero - g.calc.energy_zero)\n",
      "d_E_r_4_4 = E_r(cent_azo_4_4_v2, equiv_graphene_f(cent_azo_4_4_v2), equiv_ylide_f(cent_azo_4_4_v2)) - 6.1\n",
      "d_E_r_3_3 = E_r(cent_azo_3_3_v2, equiv_graphene_f(cent_azo_3_3_v2), equiv_ylide_f(cent_azo_3_3_v2)) - 10.9\n",
      "print(d_E_r_3_3, d_E_r_4_4)"
     ],
     "language": "python",
     "metadata": {},
     "outputs": [
      {
       "output_type": "stream",
       "stream": "stdout",
       "text": [
        "(0.23553330351720803, 0.1189333020934269)\n"
       ]
      }
     ],
     "prompt_number": 68
    },
    {
     "cell_type": "code",
     "collapsed": false,
     "input": [
      "mols_to_html(graphenes)"
     ],
     "language": "python",
     "metadata": {},
     "outputs": [
      {
       "html": [
        "\n",
        "           <script type=\"text/javascript\">\n",
        "           function view_function (event, file_n) {\n",
        "               if (event.ctrlKey && event.shiftKey){\n",
        "                   IPython.notebook.kernel.execute(\"cc_notebook_utils.pygview('\" + file_n + \".log')\");\n",
        "               }\n",
        "               else if (event.ctrlKey){\n",
        "                   IPython.notebook.kernel.execute(\"cc_notebook_utils.pygausssum('\" + file_n + \".log')\");\n",
        "               }\n",
        "               else if (event.shiftKey){\n",
        "                   IPython.notebook.kernel.execute(\"cc_notebook_utils.pyvogadro('\" + file_n + \".log')\");\n",
        "               }\n",
        "               else {\n",
        "                   IPython.notebook.kernel.execute(\"cc_notebook_utils.pyvim('\" + file_n + \".log')\");\n",
        "                   IPython.notebook.kernel.execute(\"print(file_n)\");\n",
        "               }\n",
        "           }\n",
        "           </script>\n",
        "    <style>\n",
        "    table\n",
        "    {\n",
        "        border-collapse:collapse;\n",
        "    }\n",
        "    td\n",
        "    {\n",
        "        padding:15px;\n",
        "    }\n",
        "    </style>\n",
        "    <body>\n",
        "    <table bgcolor=\"white\">\n",
        "    <col/><tr><td>UB3LYP_631Gd_UHF_STO3G_4_4_graphene_stable_restart_1</td><td><a href = \"files/unrestricted_cycloadd/UB3LYP_631Gd_UHF_STO3G_4_4_graphene_stable_restart_1.com\" target = \"_blank\">com</a></td><td><input type=\"button\" value=\"Smart Log\" id=\"UB3LYP_631Gd_UHF_STO3G_4_4_graphene_stable_restart_1\" onclick=\"view_function(event, this.id)\" /></td><td>Success</td></tr><tr><td>UB3LYP_631Gd_UHF_STO3G_3_3_graphene</td><td><a href = \"files/unrestricted_cycloadd/UB3LYP_631Gd_UHF_STO3G_3_3_graphene.com\" target = \"_blank\">com</a></td><td><input type=\"button\" value=\"Smart Log\" id=\"UB3LYP_631Gd_UHF_STO3G_3_3_graphene\" onclick=\"view_function(event, this.id)\" /></td><td>Success</td></tr><tr><td>UB3LYP_631Gd_UB3LYP_631Gd_3_3_graphene_stable_restart_1</td><td><a href = \"files/unrestricted_cycloadd/UB3LYP_631Gd_UB3LYP_631Gd_3_3_graphene_stable_restart_1.com\" target = \"_blank\">com</a></td><td><input type=\"button\" value=\"Smart Log\" id=\"UB3LYP_631Gd_UB3LYP_631Gd_3_3_graphene_stable_restart_1\" onclick=\"view_function(event, this.id)\" /></td><td>Success</td></tr><tr><td>UB3LYP_631Gd_UB3LYP_631Gd_4_4_graphene_stable_restart_3</td><td><a href = \"files/unrestricted_cycloadd/UB3LYP_631Gd_UB3LYP_631Gd_4_4_graphene_stable_restart_3.com\" target = \"_blank\">com</a></td><td><input type=\"button\" value=\"Smart Log\" id=\"UB3LYP_631Gd_UB3LYP_631Gd_4_4_graphene_stable_restart_3\" onclick=\"view_function(event, this.id)\" /></td><td>Success</td></tr>\n",
        "    </table>\n",
        "    </body>"
       ],
       "output_type": "pyout",
       "prompt_number": 69,
       "text": [
        "<IPython.core.display.HTML at 0x4b5b150>"
       ]
      }
     ],
     "prompt_number": 69
    },
    {
     "cell_type": "code",
     "collapsed": false,
     "input": [
      "corn_azo_3_3 = read('xyz_files/init/3_3_corn_azomethine.xyz')\n",
      "corn_azo_3_3.rotate('x',pi/2)\n",
      "corn_azo_3_3.rotate('z',-pi/2)\n",
      "corn_azo_3_3.write('corn_azo_3_3.png')\n",
      "\n",
      "corn_azo_3_3_v2 = read('xyz_files/extra/3_3_corn_azomethine_v2.xyz')\n",
      "corn_azo_3_3_v2.rotate('x',pi/2)\n",
      "corn_azo_3_3_v2.rotate('z',-pi/2)\n",
      "corn_azo_3_3_v2.write('corn_azo_3_3_v2.png')\n",
      "\n",
      "html_strings = ['<img src=\"/files/cycloadd/{f}\"/>'.format(f=img) for img in ['corn_azo_3_3.png', 'corn_azo_3_3_v2.png']]\n",
      "total_html = \"\".join(html_strings)\n",
      "HTML(total_html) "
     ],
     "language": "python",
     "metadata": {},
     "outputs": [
      {
       "html": [
        "<img src=\"/files/cycloadd/corn_azo_3_3.png\"/><img src=\"/files/cycloadd/corn_azo_3_3_v2.png\"/>"
       ],
       "output_type": "pyout",
       "prompt_number": 70,
       "text": [
        "<IPython.core.display.HTML at 0x4b924d0>"
       ]
      }
     ],
     "prompt_number": 70
    },
    {
     "cell_type": "code",
     "collapsed": false,
     "input": [
      "base_name = '3_3_corn_azomethine_v2'\n",
      "name = 'UHF_STO3G_UHF_STO3G_' + base_name\n",
      "corn_azo_3_3_v2.set_calculator(Gaussian(label=name, method='UHF', basis='STO-3G', opt='opt'))\n",
      "corn_azo_3_3_v2.calc.set_job(nodes=8, memory=8*1400, time=5, queue='pqmb')\n",
      "#corn_azo_3_3_v2.calc.start()\n",
      "check_calcs([corn_azo_3_3_v2])"
     ],
     "language": "python",
     "metadata": {},
     "outputs": [
      {
       "output_type": "pyout",
       "prompt_number": 71,
       "text": [
        "'Calculations complete'"
       ]
      }
     ],
     "prompt_number": 71
    },
    {
     "cell_type": "code",
     "collapsed": false,
     "input": [
      "corn_azo_3_3_v2.calc.restart(add_label='stable', opt='', stable='opt')#, start=True)\n",
      "check_calcs([corn_azo_3_3_v2])"
     ],
     "language": "python",
     "metadata": {},
     "outputs": [
      {
       "output_type": "pyout",
       "prompt_number": 72,
       "text": [
        "'Calculations complete'"
       ]
      }
     ],
     "prompt_number": 72
    },
    {
     "cell_type": "code",
     "collapsed": false,
     "input": [],
     "language": "python",
     "metadata": {},
     "outputs": [],
     "prompt_number": 72
    },
    {
     "cell_type": "code",
     "collapsed": false,
     "input": [
      "corn_azo_3_3_v2.calc.restart(add_label='reopt', opt='opt', stable= '')#, start=True)\n",
      "check_calcs([corn_azo_3_3_v2])\n",
      "mols_to_html([corn_azo_3_3_v2])"
     ],
     "language": "python",
     "metadata": {},
     "outputs": [
      {
       "html": [
        "\n",
        "           <script type=\"text/javascript\">\n",
        "           function view_function (event, file_n) {\n",
        "               if (event.ctrlKey && event.shiftKey){\n",
        "                   IPython.notebook.kernel.execute(\"cc_notebook_utils.pygview('\" + file_n + \".log')\");\n",
        "               }\n",
        "               else if (event.ctrlKey){\n",
        "                   IPython.notebook.kernel.execute(\"cc_notebook_utils.pygausssum('\" + file_n + \".log')\");\n",
        "               }\n",
        "               else if (event.shiftKey){\n",
        "                   IPython.notebook.kernel.execute(\"cc_notebook_utils.pyvogadro('\" + file_n + \".log')\");\n",
        "               }\n",
        "               else {\n",
        "                   IPython.notebook.kernel.execute(\"cc_notebook_utils.pyvim('\" + file_n + \".log')\");\n",
        "                   IPython.notebook.kernel.execute(\"print(file_n)\");\n",
        "               }\n",
        "           }\n",
        "           </script>\n",
        "    <style>\n",
        "    table\n",
        "    {\n",
        "        border-collapse:collapse;\n",
        "    }\n",
        "    td\n",
        "    {\n",
        "        padding:15px;\n",
        "    }\n",
        "    </style>\n",
        "    <body>\n",
        "    <table bgcolor=\"white\">\n",
        "    <col/><tr><td>UHF_STO3G_UHF_STO3G_3_3_corn_azomethine_v2_stable_reopt_restart_2</td><td><a href = \"files/unrestricted_cycloadd/UHF_STO3G_UHF_STO3G_3_3_corn_azomethine_v2_stable_reopt_restart_2.com\" target = \"_blank\">com</a></td><td><input type=\"button\" value=\"Smart Log\" id=\"UHF_STO3G_UHF_STO3G_3_3_corn_azomethine_v2_stable_reopt_restart_2\" onclick=\"view_function(event, this.id)\" /></td><td>Success</td></tr>\n",
        "    </table>\n",
        "    </body>"
       ],
       "output_type": "pyout",
       "prompt_number": 73,
       "text": [
        "<IPython.core.display.HTML at 0x4b5b050>"
       ]
      }
     ],
     "prompt_number": 73
    },
    {
     "cell_type": "code",
     "collapsed": false,
     "input": [],
     "language": "python",
     "metadata": {},
     "outputs": [],
     "prompt_number": 73
    },
    {
     "cell_type": "code",
     "collapsed": false,
     "input": [
      "corn_azo_3_3_v2.calc.restart(remove_label='reopt', opt='', stable= 'opt')#, start=True)"
     ],
     "language": "python",
     "metadata": {},
     "outputs": [
      {
       "output_type": "pyout",
       "prompt_number": 74,
       "text": [
        "<ase.calculators.gaussian.Gaussian instance at 0x4e60128>"
       ]
      }
     ],
     "prompt_number": 74
    },
    {
     "cell_type": "code",
     "collapsed": false,
     "input": [
      "check_calcs([corn_azo_3_3_v2])\n",
      "mols_to_html([corn_azo_3_3_v2])"
     ],
     "language": "python",
     "metadata": {},
     "outputs": [
      {
       "html": [
        "\n",
        "           <script type=\"text/javascript\">\n",
        "           function view_function (event, file_n) {\n",
        "               if (event.ctrlKey && event.shiftKey){\n",
        "                   IPython.notebook.kernel.execute(\"cc_notebook_utils.pygview('\" + file_n + \".log')\");\n",
        "               }\n",
        "               else if (event.ctrlKey){\n",
        "                   IPython.notebook.kernel.execute(\"cc_notebook_utils.pygausssum('\" + file_n + \".log')\");\n",
        "               }\n",
        "               else if (event.shiftKey){\n",
        "                   IPython.notebook.kernel.execute(\"cc_notebook_utils.pyvogadro('\" + file_n + \".log')\");\n",
        "               }\n",
        "               else {\n",
        "                   IPython.notebook.kernel.execute(\"cc_notebook_utils.pyvim('\" + file_n + \".log')\");\n",
        "                   IPython.notebook.kernel.execute(\"print(file_n)\");\n",
        "               }\n",
        "           }\n",
        "           </script>\n",
        "    <style>\n",
        "    table\n",
        "    {\n",
        "        border-collapse:collapse;\n",
        "    }\n",
        "    td\n",
        "    {\n",
        "        padding:15px;\n",
        "    }\n",
        "    </style>\n",
        "    <body>\n",
        "    <table bgcolor=\"white\">\n",
        "    <col/><tr><td>UHF_STO3G_UHF_STO3G_3_3_corn_azomethine_v2_stable_restart_3</td><td><a href = \"files/unrestricted_cycloadd/UHF_STO3G_UHF_STO3G_3_3_corn_azomethine_v2_stable_restart_3.com\" target = \"_blank\">com</a></td><td><input type=\"button\" value=\"Smart Log\" id=\"UHF_STO3G_UHF_STO3G_3_3_corn_azomethine_v2_stable_restart_3\" onclick=\"view_function(event, this.id)\" /></td><td>Success</td></tr>\n",
        "    </table>\n",
        "    </body>"
       ],
       "output_type": "pyout",
       "prompt_number": 75,
       "text": [
        "<IPython.core.display.HTML at 0x4853e50>"
       ]
      }
     ],
     "prompt_number": 75
    },
    {
     "cell_type": "code",
     "collapsed": false,
     "input": [
      "name = 'UB3LYP_631Gd_UHF_STO3G_' + base_name\n",
      "corn_azo_3_3_v2 = read(corn_azo_3_3_v2.calc.label +'.log')\n",
      "corn_azo_3_3_v2.set_calculator(Gaussian(label=name, method='UB3LYP', basis='6-31G(d)'))\n",
      "corn_azo_3_3_v2.calc.set_job(nodes=8, memory=8*1400, time=5, queue='pqmb')\n",
      "#corn_azo_3_3_v2.calc.start(frc=True)"
     ],
     "language": "python",
     "metadata": {},
     "outputs": [],
     "prompt_number": 76
    },
    {
     "cell_type": "code",
     "collapsed": false,
     "input": [
      "check_calcs([corn_azo_3_3_v2])\n",
      "mols_to_html([corn_azo_3_3_v2])"
     ],
     "language": "python",
     "metadata": {},
     "outputs": [
      {
       "html": [
        "\n",
        "           <script type=\"text/javascript\">\n",
        "           function view_function (event, file_n) {\n",
        "               if (event.ctrlKey && event.shiftKey){\n",
        "                   IPython.notebook.kernel.execute(\"cc_notebook_utils.pygview('\" + file_n + \".log')\");\n",
        "               }\n",
        "               else if (event.ctrlKey){\n",
        "                   IPython.notebook.kernel.execute(\"cc_notebook_utils.pygausssum('\" + file_n + \".log')\");\n",
        "               }\n",
        "               else if (event.shiftKey){\n",
        "                   IPython.notebook.kernel.execute(\"cc_notebook_utils.pyvogadro('\" + file_n + \".log')\");\n",
        "               }\n",
        "               else {\n",
        "                   IPython.notebook.kernel.execute(\"cc_notebook_utils.pyvim('\" + file_n + \".log')\");\n",
        "                   IPython.notebook.kernel.execute(\"print(file_n)\");\n",
        "               }\n",
        "           }\n",
        "           </script>\n",
        "    <style>\n",
        "    table\n",
        "    {\n",
        "        border-collapse:collapse;\n",
        "    }\n",
        "    td\n",
        "    {\n",
        "        padding:15px;\n",
        "    }\n",
        "    </style>\n",
        "    <body>\n",
        "    <table bgcolor=\"white\">\n",
        "    <col/><tr><td>UB3LYP_631Gd_UHF_STO3G_3_3_corn_azomethine_v2</td><td><a href = \"files/unrestricted_cycloadd/UB3LYP_631Gd_UHF_STO3G_3_3_corn_azomethine_v2.com\" target = \"_blank\">com</a></td><td><input type=\"button\" value=\"Smart Log\" id=\"UB3LYP_631Gd_UHF_STO3G_3_3_corn_azomethine_v2\" onclick=\"view_function(event, this.id)\" /></td><td>Success</td></tr>\n",
        "    </table>\n",
        "    </body>"
       ],
       "output_type": "pyout",
       "prompt_number": 77,
       "text": [
        "<IPython.core.display.HTML at 0x4853750>"
       ]
      }
     ],
     "prompt_number": 77
    },
    {
     "cell_type": "code",
     "collapsed": false,
     "input": [
      "corn_azo_3_3_v2.calc.restart(add_label='stable', opt='', stable='opt')#, start=True)"
     ],
     "language": "python",
     "metadata": {},
     "outputs": [
      {
       "output_type": "pyout",
       "prompt_number": 78,
       "text": [
        "<ase.calculators.gaussian.Gaussian instance at 0x4aa2680>"
       ]
      }
     ],
     "prompt_number": 78
    },
    {
     "cell_type": "code",
     "collapsed": false,
     "input": [
      "check_calcs([corn_azo_3_3_v2])\n",
      "mols_to_html([corn_azo_3_3_v2])"
     ],
     "language": "python",
     "metadata": {},
     "outputs": [
      {
       "html": [
        "\n",
        "           <script type=\"text/javascript\">\n",
        "           function view_function (event, file_n) {\n",
        "               if (event.ctrlKey && event.shiftKey){\n",
        "                   IPython.notebook.kernel.execute(\"cc_notebook_utils.pygview('\" + file_n + \".log')\");\n",
        "               }\n",
        "               else if (event.ctrlKey){\n",
        "                   IPython.notebook.kernel.execute(\"cc_notebook_utils.pygausssum('\" + file_n + \".log')\");\n",
        "               }\n",
        "               else if (event.shiftKey){\n",
        "                   IPython.notebook.kernel.execute(\"cc_notebook_utils.pyvogadro('\" + file_n + \".log')\");\n",
        "               }\n",
        "               else {\n",
        "                   IPython.notebook.kernel.execute(\"cc_notebook_utils.pyvim('\" + file_n + \".log')\");\n",
        "                   IPython.notebook.kernel.execute(\"print(file_n)\");\n",
        "               }\n",
        "           }\n",
        "           </script>\n",
        "    <style>\n",
        "    table\n",
        "    {\n",
        "        border-collapse:collapse;\n",
        "    }\n",
        "    td\n",
        "    {\n",
        "        padding:15px;\n",
        "    }\n",
        "    </style>\n",
        "    <body>\n",
        "    <table bgcolor=\"white\">\n",
        "    <col/><tr><td>UB3LYP_631Gd_UHF_STO3G_3_3_corn_azomethine_v2_stable_restart_1</td><td><a href = \"files/unrestricted_cycloadd/UB3LYP_631Gd_UHF_STO3G_3_3_corn_azomethine_v2_stable_restart_1.com\" target = \"_blank\">com</a></td><td><input type=\"button\" value=\"Smart Log\" id=\"UB3LYP_631Gd_UHF_STO3G_3_3_corn_azomethine_v2_stable_restart_1\" onclick=\"view_function(event, this.id)\" /></td><td>Success</td></tr>\n",
        "    </table>\n",
        "    </body>"
       ],
       "output_type": "pyout",
       "prompt_number": 79,
       "text": [
        "<IPython.core.display.HTML at 0x4853690>"
       ]
      }
     ],
     "prompt_number": 79
    },
    {
     "cell_type": "markdown",
     "metadata": {},
     "source": [
      "For this corn_azo_3_3 configuration we get a lower energy than the paper - so perhaps they did not find the lowest energy config?"
     ]
    },
    {
     "cell_type": "code",
     "collapsed": false,
     "input": [
      "E_r_evs = corn_azo_3_3_v2.calc.energy_zero - equiv_graphene_f(corn_azo_3_3_v2).calc.energy_zero - equiv_ylide_f(corn_azo_3_3_v2).calc.energy_zero\n",
      "E_r = E_r_evs * 23.060542301388647\n",
      "d_E_r = E_r - -29.5\n",
      "print(d_E_r)"
     ],
     "language": "python",
     "metadata": {},
     "outputs": [
      {
       "output_type": "stream",
       "stream": "stdout",
       "text": [
        "-6.30023505325\n"
       ]
      }
     ],
     "prompt_number": 80
    },
    {
     "cell_type": "markdown",
     "metadata": {},
     "source": [
      "To see how sensitive the reactions energies are to initial geometry we'll also examine the effects of altering the 3_3_cent carbonyl:"
     ]
    },
    {
     "cell_type": "code",
     "collapsed": false,
     "input": [
      "cent_carb_3_3 = read('xyz_files/init/3_3_cent_carbonyl.xyz')\n",
      "cent_carb_3_3.rotate('x',-pi/2)\n",
      "cent_carb_3_3.rotate('z',-pi/2)\n",
      "cent_carb_3_3.write('cent_carb_3_3.png')\n",
      "\n",
      "cent_carb_3_3_v2 = read('xyz_files/extra/3_3_cent_carbonyl_v2.xyz')\n",
      "cent_carb_3_3_v2.rotate('x',-pi/2)\n",
      "cent_carb_3_3_v2.rotate('z',-pi/2)\n",
      "cent_carb_3_3_v2.write('cent_carb_3_3_v2.png')\n",
      "\n",
      "cent_carb_3_3_v3 = read('xyz_files/extra/3_3_cent_carbonyl_v3.xyz')\n",
      "cent_carb_3_3_v3.write('cent_carb_3_3_v3.png')\n",
      "\n",
      "cent_carb_3_3_v4 = read('xyz_files/extra/3_3_cent_carbonyl_v4.xyz')\n",
      "cent_carb_3_3_v4.write('cent_carb_3_3_v4.png')\n",
      "\n",
      "html_strings = ['<img src=\"/files/cycloadd/{f}\"/>'.format(f=img) for img in ['cent_carb_3_3.png', 'cent_carb_3_3_v2.png', 'cent_carb_3_3_v3.png', 'cent_carb_3_3_v4.png']]\n",
      "total_html = \"\".join(html_strings)\n",
      "HTML(total_html) "
     ],
     "language": "python",
     "metadata": {},
     "outputs": [
      {
       "html": [
        "<img src=\"/files/cycloadd/cent_carb_3_3.png\"/><img src=\"/files/cycloadd/cent_carb_3_3_v2.png\"/><img src=\"/files/cycloadd/cent_carb_3_3_v3.png\"/><img src=\"/files/cycloadd/cent_carb_3_3_v4.png\"/>"
       ],
       "output_type": "pyout",
       "prompt_number": 81,
       "text": [
        "<IPython.core.display.HTML at 0x4b86390>"
       ]
      }
     ],
     "prompt_number": 81
    },
    {
     "cell_type": "markdown",
     "metadata": {},
     "source": [
      "We calculate the energy of these variants at the B3LYP/6-31G(d)//B3lYP/6-31G(d) level (as are the other centrally substituted clusters)"
     ]
    },
    {
     "cell_type": "code",
     "collapsed": false,
     "input": [
      "base_name = '3_3_cent_carbonyl_v2'\n",
      "name = 'UB3LYP_631Gd_UB3LYP_631Gd_' + base_name\n",
      "cent_carb_3_3_v2.set_calculator(Gaussian(label=name, method='UB3LYP', basis='6-31G(d)', opt='opt'))\n",
      "cent_carb_3_3_v2.calc.set_job(nodes=12, memory=12*1600, time=8, queue='pqmb')\n",
      "#cent_carb_3_3_v2.calc.start()"
     ],
     "language": "python",
     "metadata": {},
     "outputs": [],
     "prompt_number": 82
    },
    {
     "cell_type": "code",
     "collapsed": false,
     "input": [
      "check_calcs([cent_carb_3_3_v2])"
     ],
     "language": "python",
     "metadata": {},
     "outputs": [
      {
       "output_type": "pyout",
       "prompt_number": 83,
       "text": [
        "'Calculations complete'"
       ]
      }
     ],
     "prompt_number": 83
    },
    {
     "cell_type": "code",
     "collapsed": false,
     "input": [
      "cent_carb_3_3_v2.calc.restart(add_label='stable', opt='', stable='opt')#, start=True)"
     ],
     "language": "python",
     "metadata": {},
     "outputs": [
      {
       "output_type": "pyout",
       "prompt_number": 84,
       "text": [
        "<ase.calculators.gaussian.Gaussian instance at 0x49d7c20>"
       ]
      }
     ],
     "prompt_number": 84
    },
    {
     "cell_type": "code",
     "collapsed": false,
     "input": [
      "check_calcs([cent_carb_3_3_v2])\n",
      "mols_to_html([cent_carb_3_3_v2])"
     ],
     "language": "python",
     "metadata": {},
     "outputs": [
      {
       "html": [
        "\n",
        "           <script type=\"text/javascript\">\n",
        "           function view_function (event, file_n) {\n",
        "               if (event.ctrlKey && event.shiftKey){\n",
        "                   IPython.notebook.kernel.execute(\"cc_notebook_utils.pygview('\" + file_n + \".log')\");\n",
        "               }\n",
        "               else if (event.ctrlKey){\n",
        "                   IPython.notebook.kernel.execute(\"cc_notebook_utils.pygausssum('\" + file_n + \".log')\");\n",
        "               }\n",
        "               else if (event.shiftKey){\n",
        "                   IPython.notebook.kernel.execute(\"cc_notebook_utils.pyvogadro('\" + file_n + \".log')\");\n",
        "               }\n",
        "               else {\n",
        "                   IPython.notebook.kernel.execute(\"cc_notebook_utils.pyvim('\" + file_n + \".log')\");\n",
        "                   IPython.notebook.kernel.execute(\"print(file_n)\");\n",
        "               }\n",
        "           }\n",
        "           </script>\n",
        "    <style>\n",
        "    table\n",
        "    {\n",
        "        border-collapse:collapse;\n",
        "    }\n",
        "    td\n",
        "    {\n",
        "        padding:15px;\n",
        "    }\n",
        "    </style>\n",
        "    <body>\n",
        "    <table bgcolor=\"white\">\n",
        "    <col/><tr><td>UB3LYP_631Gd_UB3LYP_631Gd_3_3_cent_carbonyl_v2_stable_restart_1</td><td><a href = \"files/unrestricted_cycloadd/UB3LYP_631Gd_UB3LYP_631Gd_3_3_cent_carbonyl_v2_stable_restart_1.com\" target = \"_blank\">com</a></td><td><input type=\"button\" value=\"Smart Log\" id=\"UB3LYP_631Gd_UB3LYP_631Gd_3_3_cent_carbonyl_v2_stable_restart_1\" onclick=\"view_function(event, this.id)\" /></td><td>Success</td></tr>\n",
        "    </table>\n",
        "    </body>"
       ],
       "output_type": "pyout",
       "prompt_number": 85,
       "text": [
        "<IPython.core.display.HTML at 0x4853650>"
       ]
      }
     ],
     "prompt_number": 85
    },
    {
     "cell_type": "markdown",
     "metadata": {},
     "source": [
      "The difference in reaction energy vs. the literature value for the slightly altered centre variant is:"
     ]
    },
    {
     "cell_type": "code",
     "collapsed": false,
     "input": [
      "E_r_evs = cent_carb_3_3_v2.get_potential_energy() - equiv_graphene_f(cent_carb_3_3_v2).get_potential_energy() - equiv_ylide_f(cent_carb_3_3_v2).get_potential_energy()\n",
      "E_r = E_r_evs * 23.060542301388647\n",
      "d_E_r = E_r - -11.9\n",
      "print(d_E_r)"
     ],
     "language": "python",
     "metadata": {},
     "outputs": [
      {
       "output_type": "stream",
       "stream": "stdout",
       "text": [
        "0.826841144586\n"
       ]
      },
      {
       "output_type": "stream",
       "stream": "stderr",
       "text": [
        "/home/clyde/Software/my_ase/ase/calculators/gaussian.py:981: RuntimeWarning: Prior calculation already performed, not recomputing\n",
        "  warnings.warn(RuntimeWarning('Prior calculation already performed, not recomputing'))\n"
       ]
      }
     ],
     "prompt_number": 86
    },
    {
     "cell_type": "markdown",
     "metadata": {},
     "source": [
      "C.f. the reaction energy difference for the original variant:"
     ]
    },
    {
     "cell_type": "code",
     "collapsed": false,
     "input": [
      "E_r_evs = dft_central_rxn_products[1].get_potential_energy() - equiv_graphene_f(dft_central_rxn_products[1]).get_potential_energy() - equiv_ylide_f(dft_central_rxn_products[1]).get_potential_energy()\n",
      "E_r = E_r_evs * 23.060542301388647\n",
      "d_E_r = E_r - -11.9\n",
      "print(d_E_r)"
     ],
     "language": "python",
     "metadata": {},
     "outputs": [
      {
       "output_type": "stream",
       "stream": "stdout",
       "text": [
        "0.991436897088\n"
       ]
      }
     ],
     "prompt_number": 87
    },
    {
     "cell_type": "code",
     "collapsed": false,
     "input": [
      "title_f(dft_central_rxn_products[1])[0:3]"
     ],
     "language": "python",
     "metadata": {},
     "outputs": [
      {
       "output_type": "pyout",
       "prompt_number": 88,
       "text": [
        "'3_3'"
       ]
      }
     ],
     "prompt_number": 88
    },
    {
     "cell_type": "markdown",
     "metadata": {},
     "source": [
      "This new variant is a closer match for the literature value"
     ]
    },
    {
     "cell_type": "code",
     "collapsed": false,
     "input": [
      "base_name = '3_3_cent_carbonyl_v3'\n",
      "name = 'UB3LYP_631Gd_UB3LYP_631Gd_' + base_name\n",
      "cent_carb_3_3_v3.set_calculator(Gaussian(label=name, method='UB3LYP', basis='6-31G(d)', opt='opt'))\n",
      "cent_carb_3_3_v3.calc.set_job(nodes=8, memory=8*1600, time=8,queue='pqmb')\n",
      "#cent_carb_3_3_v3.calc.start()\n",
      "\n",
      "base_name = '3_3_cent_carbonyl_v4'\n",
      "name = 'UB3LYP_631Gd_UB3LYP_631Gd_' + base_name\n",
      "cent_carb_3_3_v4.set_calculator(Gaussian(label=name, method='UB3LYP', basis='6-31G(d)', opt='opt'))\n",
      "cent_carb_3_3_v4.calc.set_job(nodes=8, memory=8*1600, time=8, queue='pqmb')\n",
      "#cent_carb_3_3_v4.calc.start()\n",
      "\n",
      "check_calcs([cent_carb_3_3_v3, cent_carb_3_3_v4])"
     ],
     "language": "python",
     "metadata": {},
     "outputs": [
      {
       "output_type": "pyout",
       "prompt_number": 89,
       "text": [
        "'Calculations complete'"
       ]
      }
     ],
     "prompt_number": 89
    },
    {
     "cell_type": "markdown",
     "metadata": {},
     "source": [
      "These v3 and v4 use a different site for substitution and produce more negative reaction energies:"
     ]
    },
    {
     "cell_type": "code",
     "collapsed": false,
     "input": [
      "cent_carb_3_3_v3.calc.restart(add_label='stable', opt='', stable='opt')#, start=True)\n",
      "cent_carb_3_3_v4.calc.restart(add_label='stable', opt='', stable='opt')#, start=True)"
     ],
     "language": "python",
     "metadata": {},
     "outputs": [
      {
       "output_type": "pyout",
       "prompt_number": 90,
       "text": [
        "<ase.calculators.gaussian.Gaussian instance at 0x49b47e8>"
       ]
      }
     ],
     "prompt_number": 90
    },
    {
     "cell_type": "code",
     "collapsed": false,
     "input": [
      "check_calcs([cent_carb_3_3_v3, cent_carb_3_3_v4])\n",
      "mols_to_html([cent_carb_3_3_v3, cent_carb_3_3_v4])"
     ],
     "language": "python",
     "metadata": {},
     "outputs": [
      {
       "html": [
        "\n",
        "           <script type=\"text/javascript\">\n",
        "           function view_function (event, file_n) {\n",
        "               if (event.ctrlKey && event.shiftKey){\n",
        "                   IPython.notebook.kernel.execute(\"cc_notebook_utils.pygview('\" + file_n + \".log')\");\n",
        "               }\n",
        "               else if (event.ctrlKey){\n",
        "                   IPython.notebook.kernel.execute(\"cc_notebook_utils.pygausssum('\" + file_n + \".log')\");\n",
        "               }\n",
        "               else if (event.shiftKey){\n",
        "                   IPython.notebook.kernel.execute(\"cc_notebook_utils.pyvogadro('\" + file_n + \".log')\");\n",
        "               }\n",
        "               else {\n",
        "                   IPython.notebook.kernel.execute(\"cc_notebook_utils.pyvim('\" + file_n + \".log')\");\n",
        "                   IPython.notebook.kernel.execute(\"print(file_n)\");\n",
        "               }\n",
        "           }\n",
        "           </script>\n",
        "    <style>\n",
        "    table\n",
        "    {\n",
        "        border-collapse:collapse;\n",
        "    }\n",
        "    td\n",
        "    {\n",
        "        padding:15px;\n",
        "    }\n",
        "    </style>\n",
        "    <body>\n",
        "    <table bgcolor=\"white\">\n",
        "    <col/><tr><td>UB3LYP_631Gd_UB3LYP_631Gd_3_3_cent_carbonyl_v3_stable_restart_1</td><td><a href = \"files/unrestricted_cycloadd/UB3LYP_631Gd_UB3LYP_631Gd_3_3_cent_carbonyl_v3_stable_restart_1.com\" target = \"_blank\">com</a></td><td><input type=\"button\" value=\"Smart Log\" id=\"UB3LYP_631Gd_UB3LYP_631Gd_3_3_cent_carbonyl_v3_stable_restart_1\" onclick=\"view_function(event, this.id)\" /></td><td>Success</td></tr><tr><td>UB3LYP_631Gd_UB3LYP_631Gd_3_3_cent_carbonyl_v4_stable_restart_1</td><td><a href = \"files/unrestricted_cycloadd/UB3LYP_631Gd_UB3LYP_631Gd_3_3_cent_carbonyl_v4_stable_restart_1.com\" target = \"_blank\">com</a></td><td><input type=\"button\" value=\"Smart Log\" id=\"UB3LYP_631Gd_UB3LYP_631Gd_3_3_cent_carbonyl_v4_stable_restart_1\" onclick=\"view_function(event, this.id)\" /></td><td>Success</td></tr>\n",
        "    </table>\n",
        "    </body>"
       ],
       "output_type": "pyout",
       "prompt_number": 91,
       "text": [
        "<IPython.core.display.HTML at 0x4843c10>"
       ]
      }
     ],
     "prompt_number": 91
    },
    {
     "cell_type": "code",
     "collapsed": false,
     "input": [
      "E_r1_evs = cent_carb_3_3_v3.get_potential_energy() - equiv_graphene_f(cent_carb_3_3_v3).get_potential_energy() - equiv_ylide_f(cent_carb_3_3_v3).get_potential_energy()\n",
      "E_r1 = E_r1_evs * 23.060542301388647\n",
      "E_r2_evs = cent_carb_3_3_v4.get_potential_energy() - equiv_graphene_f(cent_carb_3_3_v4).get_potential_energy() - equiv_ylide_f(cent_carb_3_3_v4).get_potential_energy()\n",
      "E_r2 = E_r2_evs * 23.060542301388647\n",
      "print(E_r1, E_r2)"
     ],
     "language": "python",
     "metadata": {},
     "outputs": [
      {
       "output_type": "stream",
       "stream": "stdout",
       "text": [
        "(-22.45266786836532, -23.250483498171576)\n"
       ]
      }
     ],
     "prompt_number": 92
    },
    {
     "cell_type": "markdown",
     "metadata": {},
     "source": [
      "Summarising the closest matches so far we have:"
     ]
    },
    {
     "cell_type": "code",
     "collapsed": false,
     "input": [
      "rxn_products = [prod for prod in rxn_products if not ('3_3_cent_azomethine' in prod.calc.label or '4_4_cent_azomethine' in prod.calc.label or '3_3_corn_azomethine' in prod.calc.label or '3_3_cent_carbonyl' in prod.calc.label)]\n",
      "rxn_products += [cent_azo_3_3_v2, cent_azo_4_4_v2, corn_azo_3_3_v2, cent_carb_3_3_v2]\n",
      "#rerun data processing\n",
      "%rerun 15"
     ],
     "language": "python",
     "metadata": {},
     "outputs": [
      {
       "output_type": "stream",
       "stream": "stdout",
       "text": [
        "=== Executing: ===\n",
        "#sorting so that we get the same order as given in the paper\n",
        "rxn_products.sort(key=lambda e: ('4_4' in e.calc.label, 'carb' in e.calc.label, e.calc.label))\n",
        "\n",
        "titles = []\n",
        "rxn_energies = []\n",
        "for mol in rxn_products:\n",
        "    title = title_f(mol)\n",
        "    equiv_graphene = equiv_graphene_f(mol)\n",
        "    equiv_ylide = equiv_ylide_f(mol)\n",
        "    rxn_e = 23.060542301388647*(mol.calc.energy_zero - equiv_graphene.calc.energy_zero - equiv_ylide.calc.energy_zero)\n",
        "    titles.append(title)\n",
        "    rxn_energies.append(rxn_e)\n",
        "\n",
        "rxn_energies = np.array(rxn_energies)    \n",
        "data = pandas.Series(rxn_energies,titles)\n",
        "\n",
        "#UB3LYP\n",
        "lit_rxn_energies = np.array([10.9, -29.5, -45.4, -11.9, -54.4, -70.6, 6.1, -34.5, -44.7, -16.8, -59.7, -68.4])\n",
        "#RB3LYP\n",
        "#lit_rxn_energies = np.array([10.9, -21.4, -39.3, -11.9, -46.6, -64.7, 7.1, -17.0, -33.3, -15.8, -42.2, -59.4])\n",
        "lit_data = pandas.Series(lit_rxn_energies ,titles)\n",
        "=== Output: ===\n"
       ]
      }
     ],
     "prompt_number": 93
    },
    {
     "cell_type": "code",
     "collapsed": false,
     "input": [
      "#and replot the data\n",
      "pandas.set_printoptions(max_colwidth=-1)\n",
      "d = {'Rxn Energy': data, 'Lit rxn energy': lit_data , 'delta': data - lit_data}\n",
      "frame=pandas.DataFrame(d)\n",
      "frame.save('graphene_cycloadd_rxn_e.pickle')\n",
      "frame"
     ],
     "language": "python",
     "metadata": {},
     "outputs": [
      {
       "html": [
        "<div style=\"max-height:1000px;max-width:1500px;overflow:auto;\">\n",
        "<table border=\"1\" class=\"dataframe\">\n",
        "  <thead>\n",
        "    <tr style=\"text-align: right;\">\n",
        "      <th></th>\n",
        "      <th>Lit rxn energy</th>\n",
        "      <th>Rxn Energy</th>\n",
        "      <th>delta</th>\n",
        "    </tr>\n",
        "  </thead>\n",
        "  <tbody>\n",
        "    <tr>\n",
        "      <td><strong>3_3_cent_azomethine_v2_stable_restart_1</strong></td>\n",
        "      <td> 10.9</td>\n",
        "      <td> 11.135533</td>\n",
        "      <td> 0.235533</td>\n",
        "    </tr>\n",
        "    <tr>\n",
        "      <td><strong>3_3_corn_azomethine_v2_stable_restart_1</strong></td>\n",
        "      <td>-29.5</td>\n",
        "      <td>-35.800235</td>\n",
        "      <td>-6.300235</td>\n",
        "    </tr>\n",
        "    <tr>\n",
        "      <td><strong>3_3_edg_azomethine_stable_restart_1</strong></td>\n",
        "      <td>-45.4</td>\n",
        "      <td>-51.492429</td>\n",
        "      <td>-6.092429</td>\n",
        "    </tr>\n",
        "    <tr>\n",
        "      <td><strong>3_3_cent_carbonyl_v2_stable_restart_1</strong></td>\n",
        "      <td>-11.9</td>\n",
        "      <td>-11.073159</td>\n",
        "      <td> 0.826841</td>\n",
        "    </tr>\n",
        "    <tr>\n",
        "      <td><strong>3_3_corn_carbonyl_stable_restart_1</strong></td>\n",
        "      <td>-54.4</td>\n",
        "      <td>-59.384240</td>\n",
        "      <td>-4.984240</td>\n",
        "    </tr>\n",
        "    <tr>\n",
        "      <td><strong>3_3_edg_carbonyl_stable_restart_1</strong></td>\n",
        "      <td>-70.6</td>\n",
        "      <td>-75.774162</td>\n",
        "      <td>-5.174162</td>\n",
        "    </tr>\n",
        "    <tr>\n",
        "      <td><strong>4_4_cent_azomethine_v2_stable_restart_4</strong></td>\n",
        "      <td> 6.1</td>\n",
        "      <td> 6.218933</td>\n",
        "      <td> 0.118933</td>\n",
        "    </tr>\n",
        "    <tr>\n",
        "      <td><strong>4_4_corn_azomethine_stable_restart_1</strong></td>\n",
        "      <td>-34.5</td>\n",
        "      <td>-39.863673</td>\n",
        "      <td>-5.363673</td>\n",
        "    </tr>\n",
        "    <tr>\n",
        "      <td><strong>4_4_edg_azomethine_stable_restart_1</strong></td>\n",
        "      <td>-44.7</td>\n",
        "      <td>-49.850236</td>\n",
        "      <td>-5.150236</td>\n",
        "    </tr>\n",
        "    <tr>\n",
        "      <td><strong>4_4_cent_carbonyl_stable_restart_3</strong></td>\n",
        "      <td>-16.8</td>\n",
        "      <td>-15.925565</td>\n",
        "      <td> 0.874435</td>\n",
        "    </tr>\n",
        "    <tr>\n",
        "      <td><strong>4_4_corn_carbonyl_stable_restart_1</strong></td>\n",
        "      <td>-59.7</td>\n",
        "      <td>-63.973343</td>\n",
        "      <td>-4.273343</td>\n",
        "    </tr>\n",
        "    <tr>\n",
        "      <td><strong>4_4_edg_carbonyl_stable_restart_1</strong></td>\n",
        "      <td>-68.4</td>\n",
        "      <td>-74.792925</td>\n",
        "      <td>-6.392925</td>\n",
        "    </tr>\n",
        "  </tbody>\n",
        "</table>\n",
        "</div>"
       ],
       "output_type": "pyout",
       "prompt_number": 94,
       "text": [
        "                                         Lit rxn energy  Rxn Energy     delta\n",
        "3_3_cent_azomethine_v2_stable_restart_1  10.9            11.135533   0.235533\n",
        "3_3_corn_azomethine_v2_stable_restart_1 -29.5           -35.800235  -6.300235\n",
        "3_3_edg_azomethine_stable_restart_1     -45.4           -51.492429  -6.092429\n",
        "3_3_cent_carbonyl_v2_stable_restart_1   -11.9           -11.073159   0.826841\n",
        "3_3_corn_carbonyl_stable_restart_1      -54.4           -59.384240  -4.984240\n",
        "3_3_edg_carbonyl_stable_restart_1       -70.6           -75.774162  -5.174162\n",
        "4_4_cent_azomethine_v2_stable_restart_4  6.1             6.218933    0.118933\n",
        "4_4_corn_azomethine_stable_restart_1    -34.5           -39.863673  -5.363673\n",
        "4_4_edg_azomethine_stable_restart_1     -44.7           -49.850236  -5.150236\n",
        "4_4_cent_carbonyl_stable_restart_3      -16.8           -15.925565   0.874435\n",
        "4_4_corn_carbonyl_stable_restart_1      -59.7           -63.973343  -4.273343\n",
        "4_4_edg_carbonyl_stable_restart_1       -68.4           -74.792925  -6.392925"
       ]
      }
     ],
     "prompt_number": 94
    },
    {
     "cell_type": "markdown",
     "metadata": {},
     "source": [
      "write out geom for the two 4_4_cent molecules:"
     ]
    },
    {
     "cell_type": "code",
     "collapsed": false,
     "input": [
      "#rxn_products[-3].calc.atoms.write('xyz_files/final/' + rxn_products[-3].calc.label.replace('stable_restart_3', 'final.xyz') )\n",
      "#rxn_products[-6].calc.atoms.write('xyz_files/final/' + rxn_products[-6].calc.label.replace('stable_restart_4', 'final.xyz') )"
     ],
     "language": "python",
     "metadata": {},
     "outputs": [],
     "prompt_number": 95
    },
    {
     "cell_type": "code",
     "collapsed": false,
     "input": [
      "g=equiv_graphene_f(cent_azo_4_4_v2)\n",
      "y=equiv_ylide_f(cent_azo_4_4_v2)"
     ],
     "language": "python",
     "metadata": {},
     "outputs": [],
     "prompt_number": 96
    },
    {
     "cell_type": "code",
     "collapsed": false,
     "input": [
      "cent_azo_4_4_v2.calc.label, g.calc.label, y.calc.label"
     ],
     "language": "python",
     "metadata": {},
     "outputs": [
      {
       "output_type": "pyout",
       "prompt_number": 97,
       "text": [
        "('UB3LYP_631Gd_UB3LYP_631Gd_4_4_cent_azomethine_v2_stable_restart_4',\n",
        " 'UB3LYP_631Gd_UB3LYP_631Gd_4_4_graphene_stable_restart_3',\n",
        " 'UB3LYP_631Gd_UB3LYP_631Gd_azomethine_ylide_mult_1_stable_restart_1')"
       ]
      }
     ],
     "prompt_number": 97
    },
    {
     "cell_type": "code",
     "collapsed": false,
     "input": [
      "(cent_azo_4_4_v2.calc.energy_zero - (g.calc.energy_zero + y.calc.energy_zero)) * 23.060542301388647"
     ],
     "language": "python",
     "metadata": {},
     "outputs": [
      {
       "output_type": "pyout",
       "prompt_number": 98,
       "text": [
        "6.2189333020200195"
       ]
      }
     ],
     "prompt_number": 98
    },
    {
     "cell_type": "code",
     "collapsed": false,
     "input": [
      "mols_to_html([equiv_graphene_f(cent_azo_4_4_v2)])"
     ],
     "language": "python",
     "metadata": {},
     "outputs": [
      {
       "html": [
        "\n",
        "           <script type=\"text/javascript\">\n",
        "           function view_function (event, file_n) {\n",
        "               if (event.ctrlKey && event.shiftKey){\n",
        "                   IPython.notebook.kernel.execute(\"cc_notebook_utils.pygview('\" + file_n + \".log')\");\n",
        "               }\n",
        "               else if (event.ctrlKey){\n",
        "                   IPython.notebook.kernel.execute(\"cc_notebook_utils.pygausssum('\" + file_n + \".log')\");\n",
        "               }\n",
        "               else if (event.shiftKey){\n",
        "                   IPython.notebook.kernel.execute(\"cc_notebook_utils.pyvogadro('\" + file_n + \".log')\");\n",
        "               }\n",
        "               else {\n",
        "                   IPython.notebook.kernel.execute(\"cc_notebook_utils.pyvim('\" + file_n + \".log')\");\n",
        "                   IPython.notebook.kernel.execute(\"print(file_n)\");\n",
        "               }\n",
        "           }\n",
        "           </script>\n",
        "    <style>\n",
        "    table\n",
        "    {\n",
        "        border-collapse:collapse;\n",
        "    }\n",
        "    td\n",
        "    {\n",
        "        padding:15px;\n",
        "    }\n",
        "    </style>\n",
        "    <body>\n",
        "    <table bgcolor=\"white\">\n",
        "    <col/><tr><td>UB3LYP_631Gd_UB3LYP_631Gd_4_4_graphene_stable_restart_3</td><td><a href = \"files/unrestricted_cycloadd/UB3LYP_631Gd_UB3LYP_631Gd_4_4_graphene_stable_restart_3.com\" target = \"_blank\">com</a></td><td><input type=\"button\" value=\"Smart Log\" id=\"UB3LYP_631Gd_UB3LYP_631Gd_4_4_graphene_stable_restart_3\" onclick=\"view_function(event, this.id)\" /></td><td>Success</td></tr>\n",
        "    </table>\n",
        "    </body>"
       ],
       "output_type": "pyout",
       "prompt_number": 99,
       "text": [
        "<IPython.core.display.HTML at 0x4853490>"
       ]
      }
     ],
     "prompt_number": 99
    },
    {
     "cell_type": "code",
     "collapsed": false,
     "input": [
      "uhf_azo_44_v2 = cent_azo_4_4_v2.calc.read_atoms()\n",
      "uhf_azo_44_v2.set_calculator(Gaussian(label='UHF_STO3G_UHF_STO3G_4_4_cent_azomethine_v2', method = 'UHF', basis='STO-3G', opt='opt'))\n",
      "uhf_azo_44_v2.calc.set_job(nodes=8, memory=8*1600, time=8, queue='pqmb')\n",
      "#uhf_azo_44_v2.calc.start()"
     ],
     "language": "python",
     "metadata": {},
     "outputs": [],
     "prompt_number": 100
    },
    {
     "cell_type": "code",
     "collapsed": false,
     "input": [
      "check_calcs([uhf_azo_44_v2])\n",
      "mols_to_html([uhf_azo_44_v2])"
     ],
     "language": "python",
     "metadata": {},
     "outputs": [
      {
       "html": [
        "\n",
        "           <script type=\"text/javascript\">\n",
        "           function view_function (event, file_n) {\n",
        "               if (event.ctrlKey && event.shiftKey){\n",
        "                   IPython.notebook.kernel.execute(\"cc_notebook_utils.pygview('\" + file_n + \".log')\");\n",
        "               }\n",
        "               else if (event.ctrlKey){\n",
        "                   IPython.notebook.kernel.execute(\"cc_notebook_utils.pygausssum('\" + file_n + \".log')\");\n",
        "               }\n",
        "               else if (event.shiftKey){\n",
        "                   IPython.notebook.kernel.execute(\"cc_notebook_utils.pyvogadro('\" + file_n + \".log')\");\n",
        "               }\n",
        "               else {\n",
        "                   IPython.notebook.kernel.execute(\"cc_notebook_utils.pyvim('\" + file_n + \".log')\");\n",
        "                   IPython.notebook.kernel.execute(\"print(file_n)\");\n",
        "               }\n",
        "           }\n",
        "           </script>\n",
        "    <style>\n",
        "    table\n",
        "    {\n",
        "        border-collapse:collapse;\n",
        "    }\n",
        "    td\n",
        "    {\n",
        "        padding:15px;\n",
        "    }\n",
        "    </style>\n",
        "    <body>\n",
        "    <table bgcolor=\"white\">\n",
        "    <col/><tr><td>UHF_STO3G_UHF_STO3G_4_4_cent_azomethine_v2</td><td><a href = \"files/unrestricted_cycloadd/UHF_STO3G_UHF_STO3G_4_4_cent_azomethine_v2.com\" target = \"_blank\">com</a></td><td><input type=\"button\" value=\"Smart Log\" id=\"UHF_STO3G_UHF_STO3G_4_4_cent_azomethine_v2\" onclick=\"view_function(event, this.id)\" /></td><td>Success</td></tr>\n",
        "    </table>\n",
        "    </body>"
       ],
       "output_type": "pyout",
       "prompt_number": 101,
       "text": [
        "<IPython.core.display.HTML at 0x4853550>"
       ]
      }
     ],
     "prompt_number": 101
    },
    {
     "cell_type": "code",
     "collapsed": false,
     "input": [
      "uhf_azo_44_v2.calc.restart(label='B3LYP_631Gd_UHF_STO3G_4_4_cent_azomethine_v2', opt='', method='B3LYP', basis='6-31G(d)')#, start=True)"
     ],
     "language": "python",
     "metadata": {},
     "outputs": [
      {
       "output_type": "pyout",
       "prompt_number": 102,
       "text": [
        "<ase.calculators.gaussian.Gaussian instance at 0x4aa5518>"
       ]
      }
     ],
     "prompt_number": 102
    },
    {
     "cell_type": "code",
     "collapsed": false,
     "input": [
      "check_calcs([uhf_azo_44_v2])\n",
      "mols_to_html([uhf_azo_44_v2])"
     ],
     "language": "python",
     "metadata": {},
     "outputs": [
      {
       "html": [
        "\n",
        "           <script type=\"text/javascript\">\n",
        "           function view_function (event, file_n) {\n",
        "               if (event.ctrlKey && event.shiftKey){\n",
        "                   IPython.notebook.kernel.execute(\"cc_notebook_utils.pygview('\" + file_n + \".log')\");\n",
        "               }\n",
        "               else if (event.ctrlKey){\n",
        "                   IPython.notebook.kernel.execute(\"cc_notebook_utils.pygausssum('\" + file_n + \".log')\");\n",
        "               }\n",
        "               else if (event.shiftKey){\n",
        "                   IPython.notebook.kernel.execute(\"cc_notebook_utils.pyvogadro('\" + file_n + \".log')\");\n",
        "               }\n",
        "               else {\n",
        "                   IPython.notebook.kernel.execute(\"cc_notebook_utils.pyvim('\" + file_n + \".log')\");\n",
        "                   IPython.notebook.kernel.execute(\"print(file_n)\");\n",
        "               }\n",
        "           }\n",
        "           </script>\n",
        "    <style>\n",
        "    table\n",
        "    {\n",
        "        border-collapse:collapse;\n",
        "    }\n",
        "    td\n",
        "    {\n",
        "        padding:15px;\n",
        "    }\n",
        "    </style>\n",
        "    <body>\n",
        "    <table bgcolor=\"white\">\n",
        "    <col/><tr><td>B3LYP_631Gd_UHF_STO3G_4_4_cent_azomethine_v2</td><td><a href = \"files/unrestricted_cycloadd/B3LYP_631Gd_UHF_STO3G_4_4_cent_azomethine_v2.com\" target = \"_blank\">com</a></td><td><input type=\"button\" value=\"Smart Log\" id=\"B3LYP_631Gd_UHF_STO3G_4_4_cent_azomethine_v2\" onclick=\"view_function(event, this.id)\" /></td><td>Success</td></tr>\n",
        "    </table>\n",
        "    </body>"
       ],
       "output_type": "pyout",
       "prompt_number": 103,
       "text": [
        "<IPython.core.display.HTML at 0x4853090>"
       ]
      }
     ],
     "prompt_number": 103
    },
    {
     "cell_type": "code",
     "collapsed": false,
     "input": [
      "graphenes[0].calc.label, ylides[2].calc.label"
     ],
     "language": "python",
     "metadata": {},
     "outputs": [
      {
       "output_type": "pyout",
       "prompt_number": 104,
       "text": [
        "('UB3LYP_631Gd_UHF_STO3G_4_4_graphene_stable_restart_1',\n",
        " 'UB3LYP_631Gd_UB3LYP_631Gd_azomethine_ylide_mult_1_stable_restart_1')"
       ]
      }
     ],
     "prompt_number": 104
    },
    {
     "cell_type": "code",
     "collapsed": false,
     "input": [
      "(uhf_azo_44_v2.calc.energy_zero - (graphenes[0].calc.energy_zero + ylides[1].calc.energy_zero)) * 23.060542301388647"
     ],
     "language": "python",
     "metadata": {},
     "outputs": [
      {
       "output_type": "pyout",
       "prompt_number": 105,
       "text": [
        "8.91038447267049"
       ]
      }
     ],
     "prompt_number": 105
    },
    {
     "cell_type": "markdown",
     "metadata": {},
     "source": [
      "How about triplet spin states for the graphenes?"
     ]
    },
    {
     "cell_type": "code",
     "collapsed": false,
     "input": [
      "mols_to_html(graphenes)"
     ],
     "language": "python",
     "metadata": {},
     "outputs": [
      {
       "html": [
        "\n",
        "           <script type=\"text/javascript\">\n",
        "           function view_function (event, file_n) {\n",
        "               if (event.ctrlKey && event.shiftKey){\n",
        "                   IPython.notebook.kernel.execute(\"cc_notebook_utils.pygview('\" + file_n + \".log')\");\n",
        "               }\n",
        "               else if (event.ctrlKey){\n",
        "                   IPython.notebook.kernel.execute(\"cc_notebook_utils.pygausssum('\" + file_n + \".log')\");\n",
        "               }\n",
        "               else if (event.shiftKey){\n",
        "                   IPython.notebook.kernel.execute(\"cc_notebook_utils.pyvogadro('\" + file_n + \".log')\");\n",
        "               }\n",
        "               else {\n",
        "                   IPython.notebook.kernel.execute(\"cc_notebook_utils.pyvim('\" + file_n + \".log')\");\n",
        "                   IPython.notebook.kernel.execute(\"print(file_n)\");\n",
        "               }\n",
        "           }\n",
        "           </script>\n",
        "    <style>\n",
        "    table\n",
        "    {\n",
        "        border-collapse:collapse;\n",
        "    }\n",
        "    td\n",
        "    {\n",
        "        padding:15px;\n",
        "    }\n",
        "    </style>\n",
        "    <body>\n",
        "    <table bgcolor=\"white\">\n",
        "    <col/><tr><td>UB3LYP_631Gd_UHF_STO3G_4_4_graphene_stable_restart_1</td><td><a href = \"files/unrestricted_cycloadd/UB3LYP_631Gd_UHF_STO3G_4_4_graphene_stable_restart_1.com\" target = \"_blank\">com</a></td><td><input type=\"button\" value=\"Smart Log\" id=\"UB3LYP_631Gd_UHF_STO3G_4_4_graphene_stable_restart_1\" onclick=\"view_function(event, this.id)\" /></td><td>Success</td></tr><tr><td>UB3LYP_631Gd_UHF_STO3G_3_3_graphene</td><td><a href = \"files/unrestricted_cycloadd/UB3LYP_631Gd_UHF_STO3G_3_3_graphene.com\" target = \"_blank\">com</a></td><td><input type=\"button\" value=\"Smart Log\" id=\"UB3LYP_631Gd_UHF_STO3G_3_3_graphene\" onclick=\"view_function(event, this.id)\" /></td><td>Success</td></tr><tr><td>UB3LYP_631Gd_UB3LYP_631Gd_3_3_graphene_stable_restart_1</td><td><a href = \"files/unrestricted_cycloadd/UB3LYP_631Gd_UB3LYP_631Gd_3_3_graphene_stable_restart_1.com\" target = \"_blank\">com</a></td><td><input type=\"button\" value=\"Smart Log\" id=\"UB3LYP_631Gd_UB3LYP_631Gd_3_3_graphene_stable_restart_1\" onclick=\"view_function(event, this.id)\" /></td><td>Success</td></tr><tr><td>UB3LYP_631Gd_UB3LYP_631Gd_4_4_graphene_stable_restart_3</td><td><a href = \"files/unrestricted_cycloadd/UB3LYP_631Gd_UB3LYP_631Gd_4_4_graphene_stable_restart_3.com\" target = \"_blank\">com</a></td><td><input type=\"button\" value=\"Smart Log\" id=\"UB3LYP_631Gd_UB3LYP_631Gd_4_4_graphene_stable_restart_3\" onclick=\"view_function(event, this.id)\" /></td><td>Success</td></tr>\n",
        "    </table>\n",
        "    </body>"
       ],
       "output_type": "pyout",
       "prompt_number": 106,
       "text": [
        "<IPython.core.display.HTML at 0x4b5b950>"
       ]
      }
     ],
     "prompt_number": 106
    },
    {
     "cell_type": "code",
     "collapsed": false,
     "input": [
      "spin_graphenes = [copy.deepcopy(g) for g in graphenes]"
     ],
     "language": "python",
     "metadata": {},
     "outputs": [],
     "prompt_number": 107
    },
    {
     "cell_type": "code",
     "collapsed": false,
     "input": [
      "spin_graphenes[2].calc.restart(label= 'UB3LYP_631Gd_UB3LYP_631Gd_3_3_graphene_mult_3', stable='', multiplicity=3, opt='opt')\n",
      "spin_graphenes[3].calc.restart(label= 'UB3LYP_631Gd_UB3LYP_631Gd_4_4_graphene_mult_3', stable='', multiplicity=3, opt='opt')"
     ],
     "language": "python",
     "metadata": {},
     "outputs": [
      {
       "output_type": "pyout",
       "prompt_number": 108,
       "text": [
        "<ase.calculators.gaussian.Gaussian instance at 0x4b30290>"
       ]
      }
     ],
     "prompt_number": 108
    },
    {
     "cell_type": "code",
     "collapsed": false,
     "input": [
      "check_calcs(spin_graphenes[2:], frc=True)\n",
      "mols_to_html(spin_graphenes)"
     ],
     "language": "python",
     "metadata": {},
     "outputs": [
      {
       "html": [
        "\n",
        "           <script type=\"text/javascript\">\n",
        "           function view_function (event, file_n) {\n",
        "               if (event.ctrlKey && event.shiftKey){\n",
        "                   IPython.notebook.kernel.execute(\"cc_notebook_utils.pygview('\" + file_n + \".log')\");\n",
        "               }\n",
        "               else if (event.ctrlKey){\n",
        "                   IPython.notebook.kernel.execute(\"cc_notebook_utils.pygausssum('\" + file_n + \".log')\");\n",
        "               }\n",
        "               else if (event.shiftKey){\n",
        "                   IPython.notebook.kernel.execute(\"cc_notebook_utils.pyvogadro('\" + file_n + \".log')\");\n",
        "               }\n",
        "               else {\n",
        "                   IPython.notebook.kernel.execute(\"cc_notebook_utils.pyvim('\" + file_n + \".log')\");\n",
        "                   IPython.notebook.kernel.execute(\"print(file_n)\");\n",
        "               }\n",
        "           }\n",
        "           </script>\n",
        "    <style>\n",
        "    table\n",
        "    {\n",
        "        border-collapse:collapse;\n",
        "    }\n",
        "    td\n",
        "    {\n",
        "        padding:15px;\n",
        "    }\n",
        "    </style>\n",
        "    <body>\n",
        "    <table bgcolor=\"white\">\n",
        "    <col/><tr><td>UB3LYP_631Gd_UHF_STO3G_4_4_graphene_stable_restart_1</td><td><a href = \"files/unrestricted_cycloadd/UB3LYP_631Gd_UHF_STO3G_4_4_graphene_stable_restart_1.com\" target = \"_blank\">com</a></td><td><input type=\"button\" value=\"Smart Log\" id=\"UB3LYP_631Gd_UHF_STO3G_4_4_graphene_stable_restart_1\" onclick=\"view_function(event, this.id)\" /></td><td>Success</td></tr><tr><td>UB3LYP_631Gd_UHF_STO3G_3_3_graphene</td><td><a href = \"files/unrestricted_cycloadd/UB3LYP_631Gd_UHF_STO3G_3_3_graphene.com\" target = \"_blank\">com</a></td><td><input type=\"button\" value=\"Smart Log\" id=\"UB3LYP_631Gd_UHF_STO3G_3_3_graphene\" onclick=\"view_function(event, this.id)\" /></td><td>Success</td></tr><tr><td>UB3LYP_631Gd_UB3LYP_631Gd_3_3_graphene_mult_3</td><td><a href = \"files/unrestricted_cycloadd/UB3LYP_631Gd_UB3LYP_631Gd_3_3_graphene_mult_3.com\" target = \"_blank\">com</a></td><td><input type=\"button\" value=\"Smart Log\" id=\"UB3LYP_631Gd_UB3LYP_631Gd_3_3_graphene_mult_3\" onclick=\"view_function(event, this.id)\" /></td><td>Success</td></tr><tr><td>UB3LYP_631Gd_UB3LYP_631Gd_4_4_graphene_mult_3</td><td><a href = \"files/unrestricted_cycloadd/UB3LYP_631Gd_UB3LYP_631Gd_4_4_graphene_mult_3.com\" target = \"_blank\">com</a></td><td><input type=\"button\" value=\"Smart Log\" id=\"UB3LYP_631Gd_UB3LYP_631Gd_4_4_graphene_mult_3\" onclick=\"view_function(event, this.id)\" /></td><td>Success</td></tr>\n",
        "    </table>\n",
        "    </body>"
       ],
       "output_type": "pyout",
       "prompt_number": 109,
       "text": [
        "<IPython.core.display.HTML at 0x4b65cd0>"
       ]
      }
     ],
     "prompt_number": 109
    },
    {
     "cell_type": "code",
     "collapsed": false,
     "input": [
      "spin_graphenes[2].calc.energy_zero - graphenes[2].calc.energy_zero"
     ],
     "language": "python",
     "metadata": {},
     "outputs": [
      {
       "output_type": "pyout",
       "prompt_number": 110,
       "text": [
        "0.8954535602460965"
       ]
      }
     ],
     "prompt_number": 110
    },
    {
     "cell_type": "code",
     "collapsed": false,
     "input": [
      "#update geometries with optimised geometries (should really find a way to do this automatically) and write them out to xyz\n",
      "#for mol in rxn_products + graphenes + ylides:\n",
      "#    mol = read(mol.calc.label +'.log')\n",
      "#    mol.write('xyz_files/final/' + mol.calc.label + '.xyz')\n",
      "#and 'final' initial geometries (xyz_file defined in cell [3])\n",
      "#list_orig_xyzs = [xyz_f for xyz_f in xyz_files if not ('3_3_cent_azomethine' in xyz_f or '4_4_cent_azomethine' in xyz_f or '3_3_corn_azomethine' in xyz_f or '3_3_cent_carbonyl' in xyz_f)]\n",
      "#list_mod_xyzs = ['xyz_files/extra/' + f for f in ['3_3_cent_azomethine_v2.xyz', '4_4_cent_azomethine_v2.xyz', '3_3_corn_azomethine_v2.xyz', '3_3_cent_carbonyl_v2.xyz']]\n",
      "#\n",
      "#for xyz_f in list_orig_xyzs + list_mod_xyzs:\n",
      "#    !cp {xyz_f} xyz_files/init_final/"
     ],
     "language": "python",
     "metadata": {},
     "outputs": [],
     "prompt_number": 111
    },
    {
     "cell_type": "markdown",
     "metadata": {},
     "source": [
      "In order to find minimas closer to the paper's values we could try constraining the system to only optimise the positions of the ylide atoms and run one of ASEs global optimisation routines. But need to get ASE on the cluster first, this would only serve to lower the lowest reaction energy which at the moment appear too low anyway but would presumably pull up many different local minima perhaps the reported values correspond to some of these?"
     ]
    },
    {
     "cell_type": "heading",
     "level": 2,
     "metadata": {},
     "source": [
      "Transition states"
     ]
    },
    {
     "cell_type": "markdown",
     "metadata": {},
     "source": [
      "We build initial transition state structures by taking the geometry optimised product structures and increasing the c-c bonds spanning the nanographene and the ylide compound  by ~ 0.3 Angstroms. We start with the centrally substituted compounds which were optimised at the B3LYP/6-31G(d) level so we will also search for transition states at this level."
     ]
    },
    {
     "cell_type": "markdown",
     "metadata": {},
     "source": [
      "For cycloadditions Lee recommends starting off the TS search by increasing the relevant c-c bond lengths to ~2.2 Angstrom (rather than the 1.8 that I did for my initial setup)"
     ]
    },
    {
     "cell_type": "code",
     "collapsed": false,
     "input": [
      "ts3_molecule = read('xyz_files/ts/4_4_cent_carbonyl_ts_v3_guess.xyz')\n",
      "ts3_molecule_name = 'UB3LYP_631Gd_UB3LYP_631Gd_' + '4_4_cent_carbonyl_ts3'\n",
      "ts3_molecule.set_calculator(Gaussian(label=ts3_molecule_name, method='UB3LYP', guess='(mix,always)', basis='6-31G(d)', opt='calcfc, ts, noeigen' ))\n",
      "ts3_molecule.calc.set_job(nodes=16, memory=16*2000, time=36)\n",
      "#ts3_molecule.calc.start()\n",
      "\n",
      "high_mult_ts3_molecule = read('xyz_files/ts/4_4_cent_carbonyl_ts_v3_guess.xyz')\n",
      "high_mult_ts3_molecule_name = 'UB3LYP_631Gd_UB3LYP_631Gd_' + '4_4_cent_carbonyl_ts3_mult_3'\n",
      "high_mult_ts3_molecule.set_calculator(Gaussian(label=high_mult_ts3_molecule_name, method='UB3LYP', basis='6-31G(d)', opt='calcfc, ts, noeigen', multiplicity=3))\n",
      "high_mult_ts3_molecule.calc.set_job(nodes=16, memory=16*2000, time=36)\n",
      "#high_mult_ts3_molecule.calc.start()"
     ],
     "language": "python",
     "metadata": {},
     "outputs": [],
     "prompt_number": 112
    },
    {
     "cell_type": "markdown",
     "metadata": {},
     "source": [
      "guess=mix,always did not prevent the internal instability occuring"
     ]
    },
    {
     "cell_type": "code",
     "collapsed": false,
     "input": [
      "check_calcs([high_mult_ts3_molecule, ts3_molecule])\n",
      "mols_to_html([high_mult_ts3_molecule, ts3_molecule])"
     ],
     "language": "python",
     "metadata": {},
     "outputs": [
      {
       "html": [
        "\n",
        "           <script type=\"text/javascript\">\n",
        "           function view_function (event, file_n) {\n",
        "               if (event.ctrlKey && event.shiftKey){\n",
        "                   IPython.notebook.kernel.execute(\"cc_notebook_utils.pygview('\" + file_n + \".log')\");\n",
        "               }\n",
        "               else if (event.ctrlKey){\n",
        "                   IPython.notebook.kernel.execute(\"cc_notebook_utils.pygausssum('\" + file_n + \".log')\");\n",
        "               }\n",
        "               else if (event.shiftKey){\n",
        "                   IPython.notebook.kernel.execute(\"cc_notebook_utils.pyvogadro('\" + file_n + \".log')\");\n",
        "               }\n",
        "               else {\n",
        "                   IPython.notebook.kernel.execute(\"cc_notebook_utils.pyvim('\" + file_n + \".log')\");\n",
        "                   IPython.notebook.kernel.execute(\"print(file_n)\");\n",
        "               }\n",
        "           }\n",
        "           </script>\n",
        "    <style>\n",
        "    table\n",
        "    {\n",
        "        border-collapse:collapse;\n",
        "    }\n",
        "    td\n",
        "    {\n",
        "        padding:15px;\n",
        "    }\n",
        "    </style>\n",
        "    <body>\n",
        "    <table bgcolor=\"white\">\n",
        "    <col/><tr><td>UB3LYP_631Gd_UB3LYP_631Gd_4_4_cent_carbonyl_ts3_mult_3</td><td><a href = \"files/unrestricted_cycloadd/UB3LYP_631Gd_UB3LYP_631Gd_4_4_cent_carbonyl_ts3_mult_3.com\" target = \"_blank\">com</a></td><td><input type=\"button\" value=\"Smart Log\" id=\"UB3LYP_631Gd_UB3LYP_631Gd_4_4_cent_carbonyl_ts3_mult_3\" onclick=\"view_function(event, this.id)\" /></td><td>Success</td></tr><tr><td>UB3LYP_631Gd_UB3LYP_631Gd_4_4_cent_carbonyl_ts3</td><td><a href = \"files/unrestricted_cycloadd/UB3LYP_631Gd_UB3LYP_631Gd_4_4_cent_carbonyl_ts3.com\" target = \"_blank\">com</a></td><td><input type=\"button\" value=\"Smart Log\" id=\"UB3LYP_631Gd_UB3LYP_631Gd_4_4_cent_carbonyl_ts3\" onclick=\"view_function(event, this.id)\" /></td><td>Success</td></tr>\n",
        "    </table>\n",
        "    </body>"
       ],
       "output_type": "pyout",
       "prompt_number": 113,
       "text": [
        "<IPython.core.display.HTML at 0x485d790>"
       ]
      }
     ],
     "prompt_number": 113
    },
    {
     "cell_type": "code",
     "collapsed": false,
     "input": [
      "high_mult_ts3_molecule.calc.energy_zero - ts3_molecule.calc.energy_zero"
     ],
     "language": "python",
     "metadata": {},
     "outputs": [
      {
       "output_type": "pyout",
       "prompt_number": 114,
       "text": [
        "0.05918478555395268"
       ]
      }
     ],
     "prompt_number": 114
    },
    {
     "cell_type": "code",
     "collapsed": false,
     "input": [
      "high_mult_ts3_molecule.calc.restart(add_label='stable', opt='', stable='opt')\n",
      "high_mult_ts3_molecule.calc.set_job(nodes=12, memory=12*2000, time=6, queue='pqmb')\n",
      "ts3_molecule.calc.restart(add_label='stable', opt='', stable='opt')\n",
      "ts3_molecule.calc.set_job(nodes=12, memory=12*2000, time=6, queue='pqmb')\n",
      "#high_mult_ts3_molecule.calc.start(), ts3_molecule.calc.start()"
     ],
     "language": "python",
     "metadata": {},
     "outputs": [],
     "prompt_number": 115
    },
    {
     "cell_type": "code",
     "collapsed": false,
     "input": [
      "check_calcs([high_mult_ts3_molecule, ts3_molecule])\n",
      "mols_to_html([high_mult_ts3_molecule, ts3_molecule], data_func = lambda e:e.calc.energy_zero)"
     ],
     "language": "python",
     "metadata": {},
     "outputs": [
      {
       "html": [
        "\n",
        "           <script type=\"text/javascript\">\n",
        "           function view_function (event, file_n) {\n",
        "               if (event.ctrlKey && event.shiftKey){\n",
        "                   IPython.notebook.kernel.execute(\"cc_notebook_utils.pygview('\" + file_n + \".log')\");\n",
        "               }\n",
        "               else if (event.ctrlKey){\n",
        "                   IPython.notebook.kernel.execute(\"cc_notebook_utils.pygausssum('\" + file_n + \".log')\");\n",
        "               }\n",
        "               else if (event.shiftKey){\n",
        "                   IPython.notebook.kernel.execute(\"cc_notebook_utils.pyvogadro('\" + file_n + \".log')\");\n",
        "               }\n",
        "               else {\n",
        "                   IPython.notebook.kernel.execute(\"cc_notebook_utils.pyvim('\" + file_n + \".log')\");\n",
        "                   IPython.notebook.kernel.execute(\"print(file_n)\");\n",
        "               }\n",
        "           }\n",
        "           </script>\n",
        "    <style>\n",
        "    table\n",
        "    {\n",
        "        border-collapse:collapse;\n",
        "    }\n",
        "    td\n",
        "    {\n",
        "        padding:15px;\n",
        "    }\n",
        "    </style>\n",
        "    <body>\n",
        "    <table bgcolor=\"white\">\n",
        "    <col/><tr><td>UB3LYP_631Gd_UB3LYP_631Gd_4_4_cent_carbonyl_ts3_mult_3_stable_restart_1</td><td><a href = \"files/unrestricted_cycloadd/UB3LYP_631Gd_UB3LYP_631Gd_4_4_cent_carbonyl_ts3_mult_3_stable_restart_1.com\" target = \"_blank\">com</a></td><td><input type=\"button\" value=\"Smart Log\" id=\"UB3LYP_631Gd_UB3LYP_631Gd_4_4_cent_carbonyl_ts3_mult_3_stable_restart_1\" onclick=\"view_function(event, this.id)\" /></td><td>Success</td><td>-54256.0355927</td></tr><tr><td>UB3LYP_631Gd_UB3LYP_631Gd_4_4_cent_carbonyl_ts3_stable_restart_1</td><td><a href = \"files/unrestricted_cycloadd/UB3LYP_631Gd_UB3LYP_631Gd_4_4_cent_carbonyl_ts3_stable_restart_1.com\" target = \"_blank\">com</a></td><td><input type=\"button\" value=\"Smart Log\" id=\"UB3LYP_631Gd_UB3LYP_631Gd_4_4_cent_carbonyl_ts3_stable_restart_1\" onclick=\"view_function(event, this.id)\" /></td><td>Success</td><td>-54256.1964338</td></tr>\n",
        "    </table>\n",
        "    </body>"
       ],
       "output_type": "pyout",
       "prompt_number": 116,
       "text": [
        "<IPython.core.display.HTML at 0x4b61c90>"
       ]
      }
     ],
     "prompt_number": 116
    },
    {
     "cell_type": "code",
     "collapsed": false,
     "input": [
      "ts3_molecule.calc.restart(remove_label='stable', add_label='reopt', stable='', opt='calcfc, ts, noeigen')#, start=True)\n",
      "ts3_molecule.calc.set_job(nodes=16, memory=16*2000, time=24, queue='pqmb', version='g09')\n",
      "#ts3_molecule.calc.start(frc=True)"
     ],
     "language": "python",
     "metadata": {},
     "outputs": [],
     "prompt_number": 117
    },
    {
     "cell_type": "code",
     "collapsed": false,
     "input": [
      "check_calcs([high_mult_ts3_molecule, ts3_molecule])\n",
      "mols_to_html([high_mult_ts3_molecule, ts3_molecule], data_func = lambda e:e.calc.energy_zero)"
     ],
     "language": "python",
     "metadata": {},
     "outputs": [
      {
       "html": [
        "\n",
        "           <script type=\"text/javascript\">\n",
        "           function view_function (event, file_n) {\n",
        "               if (event.ctrlKey && event.shiftKey){\n",
        "                   IPython.notebook.kernel.execute(\"cc_notebook_utils.pygview('\" + file_n + \".log')\");\n",
        "               }\n",
        "               else if (event.ctrlKey){\n",
        "                   IPython.notebook.kernel.execute(\"cc_notebook_utils.pygausssum('\" + file_n + \".log')\");\n",
        "               }\n",
        "               else if (event.shiftKey){\n",
        "                   IPython.notebook.kernel.execute(\"cc_notebook_utils.pyvogadro('\" + file_n + \".log')\");\n",
        "               }\n",
        "               else {\n",
        "                   IPython.notebook.kernel.execute(\"cc_notebook_utils.pyvim('\" + file_n + \".log')\");\n",
        "                   IPython.notebook.kernel.execute(\"print(file_n)\");\n",
        "               }\n",
        "           }\n",
        "           </script>\n",
        "    <style>\n",
        "    table\n",
        "    {\n",
        "        border-collapse:collapse;\n",
        "    }\n",
        "    td\n",
        "    {\n",
        "        padding:15px;\n",
        "    }\n",
        "    </style>\n",
        "    <body>\n",
        "    <table bgcolor=\"white\">\n",
        "    <col/><tr><td>UB3LYP_631Gd_UB3LYP_631Gd_4_4_cent_carbonyl_ts3_mult_3_stable_restart_1</td><td><a href = \"files/unrestricted_cycloadd/UB3LYP_631Gd_UB3LYP_631Gd_4_4_cent_carbonyl_ts3_mult_3_stable_restart_1.com\" target = \"_blank\">com</a></td><td><input type=\"button\" value=\"Smart Log\" id=\"UB3LYP_631Gd_UB3LYP_631Gd_4_4_cent_carbonyl_ts3_mult_3_stable_restart_1\" onclick=\"view_function(event, this.id)\" /></td><td>Success</td><td>-54256.0355927</td></tr><tr><td>UB3LYP_631Gd_UB3LYP_631Gd_4_4_cent_carbonyl_ts3_reopt_restart_2</td><td><a href = \"files/unrestricted_cycloadd/UB3LYP_631Gd_UB3LYP_631Gd_4_4_cent_carbonyl_ts3_reopt_restart_2.com\" target = \"_blank\">com</a></td><td><input type=\"button\" value=\"Smart Log\" id=\"UB3LYP_631Gd_UB3LYP_631Gd_4_4_cent_carbonyl_ts3_reopt_restart_2\" onclick=\"view_function(event, this.id)\" /></td><td>Success</td><td>-54256.289475</td></tr>\n",
        "    </table>\n",
        "    </body>"
       ],
       "output_type": "pyout",
       "prompt_number": 118,
       "text": [
        "<IPython.core.display.HTML at 0x4b616d0>"
       ]
      }
     ],
     "prompt_number": 118
    },
    {
     "cell_type": "code",
     "collapsed": false,
     "input": [
      "ts_E = 23.060542301388647*(ts3_molecule.calc.energy_zero - rxn_products[-3].calc.energy_zero)\n",
      "ts_E"
     ],
     "language": "python",
     "metadata": {},
     "outputs": [
      {
       "output_type": "pyout",
       "prompt_number": 119,
       "text": [
        "31.281099594648797"
       ]
      }
     ],
     "prompt_number": 119
    },
    {
     "cell_type": "markdown",
     "metadata": {},
     "source": [
      "Again make sure it is a T.S:"
     ]
    },
    {
     "cell_type": "code",
     "collapsed": false,
     "input": [
      "ts3_molecule_freq_name = ts3_molecule.calc.label + '_freq'\n",
      "ts3_molecule_freq = read(ts3_molecule.calc.label +'.log')\n",
      "ts3_molecule_freq.set_calculator(Gaussian(label=ts3_molecule_freq_name, method='UB3LYP', basis='6-31G(d)', freq='freq' ))\n",
      "ts3_molecule_freq.calc.set_job(nodes=12, memory=12*2000, time=12, queue='pqmb')\n",
      "#ts3_molecule_freq.calc.start(frc=True)\n",
      "check_calcs([ts3_molecule_freq])\n",
      "ts3_molecule_freq.calc.data['NImag'], ts3_molecule_freq.calc.max_data['vibfreqs'][0]\n",
      "#ts3_molecule_freq.write('xyz_files/ts_final/' + ts3_molecule_freq.calc.label.replace('_freq', '_final.xyz') )"
     ],
     "language": "python",
     "metadata": {},
     "outputs": [
      {
       "output_type": "pyout",
       "prompt_number": 120,
       "text": [
        "(1.0, -335.0694)"
       ]
      }
     ],
     "prompt_number": 120
    },
    {
     "cell_type": "markdown",
     "metadata": {},
     "source": [
      "Let's see how well upm6 does at reproducing this:"
     ]
    },
    {
     "cell_type": "code",
     "collapsed": false,
     "input": [
      "upm6_ground = copy.deepcopy(rxn_products[-3])\n",
      "upm6_ground.set_calculator(Gaussian(label='ump6_upm6_4_4_cent_carbonyl', method='upm6', stable='opt'))\n",
      "upm6_ground.calc.set_job(nodes=8, memory=8*1200, time=5, queue='pqmb', version='g09')\n",
      "upm6_ground.calc.restart(stable='', opt='opt')\n",
      "upm6_ts = copy.deepcopy(ts3_molecule)\n",
      "upm6_ts.set_calculator(Gaussian(label='upm6_upm6_4_4_cent_carbonyl_ts3', method='upm6', stable='opt'))\n",
      "upm6_ts.calc.set_job(nodes=8, memory=8*1200, time=5, queue='pqmb', version='g09')\n",
      "upm6_ts.calc.restart(stable='', opt='calcfc, ts, noeigen')"
     ],
     "language": "python",
     "metadata": {},
     "outputs": [
      {
       "output_type": "pyout",
       "prompt_number": 191,
       "text": [
        "<ase.calculators.gaussian.Gaussian instance at 0x4ac1950>"
       ]
      }
     ],
     "prompt_number": 191
    },
    {
     "cell_type": "code",
     "collapsed": false,
     "input": [
      "grounds, tss = [], []\n",
      "for meth in ['uam1', 'upm6']:\n",
      "    ground = copy.deepcopy(rxn_products[-3])\n",
      "    ground.set_calculator(Gaussian(label='{m}_{m}_4_4_cent_carbonyl'.format(m=meth), method=meth, stable='opt'))\n",
      "    ground.calc.set_job(nodes=8, memory=8*1200, time=5, queue='pqmb', version='g09')\n",
      "    ground.calc.restart(stable='', opt='opt')\n",
      "    grounds.append(ground)\n",
      "    ts = copy.deepcopy(ts3_molecule)\n",
      "    ts.set_calculator(Gaussian(label='{m}_{m}_4_4_cent_carbonyl_ts3'.format(m=meth), method=meth, stable='opt'))\n",
      "    ts.calc.set_job(nodes=8, memory=8*1200, time=5, queue='pqmb', version='g09')\n",
      "    ts.calc.restart(stable='', opt='calcfc, ts, noeigen')\n",
      "    tss.append(ts)"
     ],
     "language": "python",
     "metadata": {},
     "outputs": [],
     "prompt_number": 199
    },
    {
     "cell_type": "code",
     "collapsed": false,
     "input": [
      "uff_ground = copy.deepcopy(rxn_products[-3])\n",
      "uff_ground.set_calculator(Gaussian(label='uff_uff_4_4_cent_carbonyl', method='uff', opt='opt'))\n",
      "uff_ground.calc.set_job(nodes=8, memory=8*1200, time=5, queue='pqmb', version='g09')\n",
      "grounds.append(uff_ground)\n",
      "uff_ts = copy.deepcopy(ts3_molecule)\n",
      "uff_ts.set_calculator(Gaussian(label='uff_uff_4_4_cent_carbonyl_ts3', method='uff', opt='calcfc, ts, noeigen'))\n",
      "uff_ts.calc.set_job(nodes=8, memory=8*1200, time=5, queue='pqmb', version='g09')\n",
      "tss.append(uff_ts)"
     ],
     "language": "python",
     "metadata": {},
     "outputs": [],
     "prompt_number": 201
    },
    {
     "cell_type": "code",
     "collapsed": false,
     "input": [
      "check_calcs(grounds+tss)\n",
      "mols_to_html(grounds+tss)"
     ],
     "language": "python",
     "metadata": {},
     "outputs": [
      {
       "html": [
        "\n",
        "           <script type=\"text/javascript\">\n",
        "           function view_function (event, file_n) {\n",
        "               if (event.ctrlKey && event.shiftKey){\n",
        "                   IPython.notebook.kernel.execute(\"cc_notebook_utils.pygview('\" + file_n + \".log')\");\n",
        "               }\n",
        "               else if (event.ctrlKey){\n",
        "                   IPython.notebook.kernel.execute(\"cc_notebook_utils.pygausssum('\" + file_n + \".log')\");\n",
        "               }\n",
        "               else if (event.shiftKey){\n",
        "                   IPython.notebook.kernel.execute(\"cc_notebook_utils.pyvogadro('\" + file_n + \".log')\");\n",
        "               }\n",
        "               else {\n",
        "                   IPython.notebook.kernel.execute(\"cc_notebook_utils.pyvim('\" + file_n + \".log')\");\n",
        "                   IPython.notebook.kernel.execute(\"print(file_n)\");\n",
        "               }\n",
        "           }\n",
        "           </script>\n",
        "    <style>\n",
        "    table\n",
        "    {\n",
        "        border-collapse:collapse;\n",
        "    }\n",
        "    td\n",
        "    {\n",
        "        padding:15px;\n",
        "    }\n",
        "    </style>\n",
        "    <body>\n",
        "    <table bgcolor=\"white\">\n",
        "    <col/><tr><td>uam1_uam1_4_4_cent_carbonyl_restart_1</td><td><a href = \"files/unrestricted_cycloadd/uam1_uam1_4_4_cent_carbonyl_restart_1.com\" target = \"_blank\">com</a></td><td><input type=\"button\" value=\"Smart Log\" id=\"uam1_uam1_4_4_cent_carbonyl_restart_1\" onclick=\"view_function(event, this.id)\" /></td><td>Success</td></tr><tr><td>upm6_upm6_4_4_cent_carbonyl_restart_1</td><td><a href = \"files/unrestricted_cycloadd/upm6_upm6_4_4_cent_carbonyl_restart_1.com\" target = \"_blank\">com</a></td><td><input type=\"button\" value=\"Smart Log\" id=\"upm6_upm6_4_4_cent_carbonyl_restart_1\" onclick=\"view_function(event, this.id)\" /></td><td>Success</td></tr><tr><td>uff_uff_4_4_cent_carbonyl</td><td><a href = \"files/unrestricted_cycloadd/uff_uff_4_4_cent_carbonyl.com\" target = \"_blank\">com</a></td><td><input type=\"button\" value=\"Smart Log\" id=\"uff_uff_4_4_cent_carbonyl\" onclick=\"view_function(event, this.id)\" /></td><td>Success</td></tr><tr><td>uam1_uam1_4_4_cent_carbonyl_ts3_restart_1</td><td><a href = \"files/unrestricted_cycloadd/uam1_uam1_4_4_cent_carbonyl_ts3_restart_1.com\" target = \"_blank\">com</a></td><td><input type=\"button\" value=\"Smart Log\" id=\"uam1_uam1_4_4_cent_carbonyl_ts3_restart_1\" onclick=\"view_function(event, this.id)\" /></td><td>Success</td></tr><tr><td>upm6_upm6_4_4_cent_carbonyl_ts3_restart_1</td><td><a href = \"files/unrestricted_cycloadd/upm6_upm6_4_4_cent_carbonyl_ts3_restart_1.com\" target = \"_blank\">com</a></td><td><input type=\"button\" value=\"Smart Log\" id=\"upm6_upm6_4_4_cent_carbonyl_ts3_restart_1\" onclick=\"view_function(event, this.id)\" /></td><td>Success</td></tr><tr><td>uff_uff_4_4_cent_carbonyl_ts3</td><td><a href = \"files/unrestricted_cycloadd/uff_uff_4_4_cent_carbonyl_ts3.com\" target = \"_blank\">com</a></td><td><input type=\"button\" value=\"Smart Log\" id=\"uff_uff_4_4_cent_carbonyl_ts3\" onclick=\"view_function(event, this.id)\" /></td><td>Error: </td></tr>\n",
        "    </table>\n",
        "    </body>"
       ],
       "output_type": "pyout",
       "prompt_number": 202,
       "text": [
        "<IPython.core.display.HTML at 0xe3d1a10>"
       ]
      }
     ],
     "prompt_number": 202
    },
    {
     "cell_type": "code",
     "collapsed": false,
     "input": [
      "uhf_ground = copy.deepcopy(rxn_products[-3])\n",
      "uhf_ground.set_calculator(Gaussian(label='{m}_{m}_4_4_cent_carbonyl'.format(m='uhf_sto3g'), method='uhf', basis='STO-3G', stable='opt'))\n",
      "uhf_ground.calc.set_job(nodes=8, memory=8*1200, time=5, queue='pqmb', version='g09')\n",
      "#uhf_ground.calc.start()\n",
      "#uhf_ground.calc.restart(stable='', opt='opt')\n",
      "#uhf_ts = copy.deepcopy(ts3_molecule)\n",
      "#uhf_ts.set_calculator(Gaussian(label='{m}_{m}_4_4_cent_carbonyl_ts3'.format(m='uhf_sto3g'), method='uhf', basis='STO-3G', stable='opt'))\n",
      "#uhf_ts.calc.set_job(nodes=8, memory=8*1200, time=5, queue='pqmb', version='g09')\n",
      "#uhf_ts.calc.restart(stable='', opt='calcfc, ts, noeigen')   "
     ],
     "language": "python",
     "metadata": {},
     "outputs": [],
     "prompt_number": 205
    },
    {
     "cell_type": "code",
     "collapsed": false,
     "input": [
      "check_calcs([uhf_ground,], frc=True)\n",
      "mols_to_html([uhf_ground])"
     ],
     "language": "python",
     "metadata": {},
     "outputs": [
      {
       "html": [
        "\n",
        "           <script type=\"text/javascript\">\n",
        "           function view_function (event, file_n) {\n",
        "               if (event.ctrlKey && event.shiftKey){\n",
        "                   IPython.notebook.kernel.execute(\"cc_notebook_utils.pygview('\" + file_n + \".log')\");\n",
        "               }\n",
        "               else if (event.ctrlKey){\n",
        "                   IPython.notebook.kernel.execute(\"cc_notebook_utils.pygausssum('\" + file_n + \".log')\");\n",
        "               }\n",
        "               else if (event.shiftKey){\n",
        "                   IPython.notebook.kernel.execute(\"cc_notebook_utils.pyvogadro('\" + file_n + \".log')\");\n",
        "               }\n",
        "               else {\n",
        "                   IPython.notebook.kernel.execute(\"cc_notebook_utils.pyvim('\" + file_n + \".log')\");\n",
        "                   IPython.notebook.kernel.execute(\"print(file_n)\");\n",
        "               }\n",
        "           }\n",
        "           </script>\n",
        "    <style>\n",
        "    table\n",
        "    {\n",
        "        border-collapse:collapse;\n",
        "    }\n",
        "    td\n",
        "    {\n",
        "        padding:15px;\n",
        "    }\n",
        "    </style>\n",
        "    <body>\n",
        "    <table bgcolor=\"white\">\n",
        "    <col/><tr><td>uhf_sto3g_uhf_sto3g_4_4_cent_carbonyl</td><td><a href = \"files/unrestricted_cycloadd/uhf_sto3g_uhf_sto3g_4_4_cent_carbonyl.com\" target = \"_blank\">com</a></td><td><input type=\"button\" value=\"Smart Log\" id=\"uhf_sto3g_uhf_sto3g_4_4_cent_carbonyl\" onclick=\"view_function(event, this.id)\" /></td><td>Incomplete</td></tr>\n",
        "    </table>\n",
        "    </body>"
       ],
       "output_type": "pyout",
       "prompt_number": 208,
       "text": [
        "<IPython.core.display.HTML at 0xe4a0850>"
       ]
      }
     ],
     "prompt_number": 208
    },
    {
     "cell_type": "code",
     "collapsed": false,
     "input": [
      "uhf_ground.calc.label"
     ],
     "language": "python",
     "metadata": {},
     "outputs": [
      {
       "output_type": "pyout",
       "prompt_number": 210,
       "text": [
        "'uhf_sto3g_uhf_sto3g_4_4_cent_carbonyl'"
       ]
      }
     ],
     "prompt_number": 210
    },
    {
     "cell_type": "code",
     "collapsed": false,
     "input": [
      "check_calcs([upm6_ground, upm6_ts], frc=True)\n",
      "mols_to_html([upm6_ground, upm6_ts])\n",
      "\n",
      "upm6_ts_E = 23.060542301388647*(upm6_ts.calc.max_data['scfenergies'][-1] - upm6_ground.calc.max_data['scfenergies'][-1])\n",
      "upm6_ts_E"
     ],
     "language": "python",
     "metadata": {},
     "outputs": [
      {
       "output_type": "pyout",
       "prompt_number": 161,
       "text": [
        "28.625544558426302"
       ]
      }
     ],
     "prompt_number": 161
    },
    {
     "cell_type": "code",
     "collapsed": false,
     "input": [
      "#view_ipython_jmol(ts3_molecule_freq, vib=1)"
     ],
     "language": "python",
     "metadata": {},
     "outputs": [],
     "prompt_number": 123
    },
    {
     "cell_type": "markdown",
     "metadata": {},
     "source": [
      "This worked so now we do it for the azomethine ylide and the other substitution locations:"
     ]
    },
    {
     "cell_type": "code",
     "collapsed": false,
     "input": [
      "azo_ts_molecule = read('xyz_files/ts/4_4_cent_azomethine_ts_v2_guess.xyz')\n",
      "azo_ts_molecule_name = 'UB3LYP_631Gd_UB3LYP_631Gd_' + '4_4_cent_azomethine_ts_v2_mult_1'\n",
      "azo_ts_molecule.set_calculator(Gaussian(label=azo_ts_molecule_name, method='UB3LYP', basis='6-31G(d)', opt='calcfc, ts, noeigen' ))\n",
      "azo_ts_molecule.calc.set_job(nodes=16, memory=16*2000, time=12, queue='pqmb')\n",
      "#azo_ts_molecule.calc.start()\n",
      "high_mult_azo_ts_molecule = read('xyz_files/ts/4_4_cent_azomethine_ts_v2_guess.xyz')\n",
      "high_mult_azo_ts_molecule_name = 'UB3LYP_631Gd_UB3LYP_631Gd_' + '4_4_cent_azomethine_ts_v2_mult_3'\n",
      "high_mult_azo_ts_molecule.set_calculator(Gaussian(label=high_mult_azo_ts_molecule_name, method='UB3LYP', basis='6-31G(d)', opt='calcfc, ts, noeigen', multiplicity=3))\n",
      "high_mult_azo_ts_molecule.calc.set_job(nodes=16, memory=16*2000, time=16)\n",
      "#high_mult_azo_ts_molecule.calc.start()"
     ],
     "language": "python",
     "metadata": {},
     "outputs": [],
     "prompt_number": 124
    },
    {
     "cell_type": "code",
     "collapsed": false,
     "input": [
      "check_calcs([high_mult_azo_ts_molecule, azo_ts_molecule])\n",
      "mols_to_html([high_mult_azo_ts_molecule, azo_ts_molecule])"
     ],
     "language": "python",
     "metadata": {},
     "outputs": [
      {
       "html": [
        "\n",
        "           <script type=\"text/javascript\">\n",
        "           function view_function (event, file_n) {\n",
        "               if (event.ctrlKey && event.shiftKey){\n",
        "                   IPython.notebook.kernel.execute(\"cc_notebook_utils.pygview('\" + file_n + \".log')\");\n",
        "               }\n",
        "               else if (event.ctrlKey){\n",
        "                   IPython.notebook.kernel.execute(\"cc_notebook_utils.pygausssum('\" + file_n + \".log')\");\n",
        "               }\n",
        "               else if (event.shiftKey){\n",
        "                   IPython.notebook.kernel.execute(\"cc_notebook_utils.pyvogadro('\" + file_n + \".log')\");\n",
        "               }\n",
        "               else {\n",
        "                   IPython.notebook.kernel.execute(\"cc_notebook_utils.pyvim('\" + file_n + \".log')\");\n",
        "                   IPython.notebook.kernel.execute(\"print(file_n)\");\n",
        "               }\n",
        "           }\n",
        "           </script>\n",
        "    <style>\n",
        "    table\n",
        "    {\n",
        "        border-collapse:collapse;\n",
        "    }\n",
        "    td\n",
        "    {\n",
        "        padding:15px;\n",
        "    }\n",
        "    </style>\n",
        "    <body>\n",
        "    <table bgcolor=\"white\">\n",
        "    <col/><tr><td>UB3LYP_631Gd_UB3LYP_631Gd_4_4_cent_azomethine_ts_v2_mult_3</td><td><a href = \"files/unrestricted_cycloadd/UB3LYP_631Gd_UB3LYP_631Gd_4_4_cent_azomethine_ts_v2_mult_3.com\" target = \"_blank\">com</a></td><td><input type=\"button\" value=\"Smart Log\" id=\"UB3LYP_631Gd_UB3LYP_631Gd_4_4_cent_azomethine_ts_v2_mult_3\" onclick=\"view_function(event, this.id)\" /></td><td>Success</td></tr><tr><td>UB3LYP_631Gd_UB3LYP_631Gd_4_4_cent_azomethine_ts_v2_mult_1</td><td><a href = \"files/unrestricted_cycloadd/UB3LYP_631Gd_UB3LYP_631Gd_4_4_cent_azomethine_ts_v2_mult_1.com\" target = \"_blank\">com</a></td><td><input type=\"button\" value=\"Smart Log\" id=\"UB3LYP_631Gd_UB3LYP_631Gd_4_4_cent_azomethine_ts_v2_mult_1\" onclick=\"view_function(event, this.id)\" /></td><td>Success</td></tr>\n",
        "    </table>\n",
        "    </body>"
       ],
       "output_type": "pyout",
       "prompt_number": 125,
       "text": [
        "<IPython.core.display.HTML at 0x4b65bd0>"
       ]
      }
     ],
     "prompt_number": 125
    },
    {
     "cell_type": "code",
     "collapsed": false,
     "input": [
      "high_mult_azo_ts_molecule.calc.energy_zero,azo_ts_molecule.calc.energy_zero"
     ],
     "language": "python",
     "metadata": {},
     "outputs": [
      {
       "output_type": "pyout",
       "prompt_number": 126,
       "text": [
        "(-53716.18259168896, -53716.265104804006)"
       ]
      }
     ],
     "prompt_number": 126
    },
    {
     "cell_type": "markdown",
     "metadata": {},
     "source": [
      "Check the stability"
     ]
    },
    {
     "cell_type": "code",
     "collapsed": false,
     "input": [
      "high_mult_azo_ts_molecule.calc.restart(add_label='stable', opt='', stable='opt')#, start=True)\n",
      "azo_ts_molecule.calc.restart(add_label='stable', opt='', stable='opt')#, start=True)\n",
      "check_calcs([high_mult_azo_ts_molecule, azo_ts_molecule])\n",
      "mols_to_html([high_mult_azo_ts_molecule, azo_ts_molecule])"
     ],
     "language": "python",
     "metadata": {},
     "outputs": [
      {
       "html": [
        "\n",
        "           <script type=\"text/javascript\">\n",
        "           function view_function (event, file_n) {\n",
        "               if (event.ctrlKey && event.shiftKey){\n",
        "                   IPython.notebook.kernel.execute(\"cc_notebook_utils.pygview('\" + file_n + \".log')\");\n",
        "               }\n",
        "               else if (event.ctrlKey){\n",
        "                   IPython.notebook.kernel.execute(\"cc_notebook_utils.pygausssum('\" + file_n + \".log')\");\n",
        "               }\n",
        "               else if (event.shiftKey){\n",
        "                   IPython.notebook.kernel.execute(\"cc_notebook_utils.pyvogadro('\" + file_n + \".log')\");\n",
        "               }\n",
        "               else {\n",
        "                   IPython.notebook.kernel.execute(\"cc_notebook_utils.pyvim('\" + file_n + \".log')\");\n",
        "                   IPython.notebook.kernel.execute(\"print(file_n)\");\n",
        "               }\n",
        "           }\n",
        "           </script>\n",
        "    <style>\n",
        "    table\n",
        "    {\n",
        "        border-collapse:collapse;\n",
        "    }\n",
        "    td\n",
        "    {\n",
        "        padding:15px;\n",
        "    }\n",
        "    </style>\n",
        "    <body>\n",
        "    <table bgcolor=\"white\">\n",
        "    <col/><tr><td>UB3LYP_631Gd_UB3LYP_631Gd_4_4_cent_azomethine_ts_v2_mult_3_stable_restart_1</td><td><a href = \"files/unrestricted_cycloadd/UB3LYP_631Gd_UB3LYP_631Gd_4_4_cent_azomethine_ts_v2_mult_3_stable_restart_1.com\" target = \"_blank\">com</a></td><td><input type=\"button\" value=\"Smart Log\" id=\"UB3LYP_631Gd_UB3LYP_631Gd_4_4_cent_azomethine_ts_v2_mult_3_stable_restart_1\" onclick=\"view_function(event, this.id)\" /></td><td>Success</td></tr><tr><td>UB3LYP_631Gd_UB3LYP_631Gd_4_4_cent_azomethine_ts_v2_mult_1_stable_restart_1</td><td><a href = \"files/unrestricted_cycloadd/UB3LYP_631Gd_UB3LYP_631Gd_4_4_cent_azomethine_ts_v2_mult_1_stable_restart_1.com\" target = \"_blank\">com</a></td><td><input type=\"button\" value=\"Smart Log\" id=\"UB3LYP_631Gd_UB3LYP_631Gd_4_4_cent_azomethine_ts_v2_mult_1_stable_restart_1\" onclick=\"view_function(event, this.id)\" /></td><td>Success</td></tr>\n",
        "    </table>\n",
        "    </body>"
       ],
       "output_type": "pyout",
       "prompt_number": 127,
       "text": [
        "<IPython.core.display.HTML at 0x4b65f10>"
       ]
      }
     ],
     "prompt_number": 127
    },
    {
     "cell_type": "code",
     "collapsed": false,
     "input": [
      "azo_ts_molecule.calc.restart(remove_label='stable', add_label='reopt', stable='', opt='calcfc, ts, noeigen')#, start=True)\n",
      "check_calcs([high_mult_azo_ts_molecule, azo_ts_molecule])\n",
      "mols_to_html([high_mult_azo_ts_molecule, azo_ts_molecule])"
     ],
     "language": "python",
     "metadata": {},
     "outputs": [
      {
       "html": [
        "\n",
        "           <script type=\"text/javascript\">\n",
        "           function view_function (event, file_n) {\n",
        "               if (event.ctrlKey && event.shiftKey){\n",
        "                   IPython.notebook.kernel.execute(\"cc_notebook_utils.pygview('\" + file_n + \".log')\");\n",
        "               }\n",
        "               else if (event.ctrlKey){\n",
        "                   IPython.notebook.kernel.execute(\"cc_notebook_utils.pygausssum('\" + file_n + \".log')\");\n",
        "               }\n",
        "               else if (event.shiftKey){\n",
        "                   IPython.notebook.kernel.execute(\"cc_notebook_utils.pyvogadro('\" + file_n + \".log')\");\n",
        "               }\n",
        "               else {\n",
        "                   IPython.notebook.kernel.execute(\"cc_notebook_utils.pyvim('\" + file_n + \".log')\");\n",
        "                   IPython.notebook.kernel.execute(\"print(file_n)\");\n",
        "               }\n",
        "           }\n",
        "           </script>\n",
        "    <style>\n",
        "    table\n",
        "    {\n",
        "        border-collapse:collapse;\n",
        "    }\n",
        "    td\n",
        "    {\n",
        "        padding:15px;\n",
        "    }\n",
        "    </style>\n",
        "    <body>\n",
        "    <table bgcolor=\"white\">\n",
        "    <col/><tr><td>UB3LYP_631Gd_UB3LYP_631Gd_4_4_cent_azomethine_ts_v2_mult_3_stable_restart_1</td><td><a href = \"files/unrestricted_cycloadd/UB3LYP_631Gd_UB3LYP_631Gd_4_4_cent_azomethine_ts_v2_mult_3_stable_restart_1.com\" target = \"_blank\">com</a></td><td><input type=\"button\" value=\"Smart Log\" id=\"UB3LYP_631Gd_UB3LYP_631Gd_4_4_cent_azomethine_ts_v2_mult_3_stable_restart_1\" onclick=\"view_function(event, this.id)\" /></td><td>Success</td></tr><tr><td>UB3LYP_631Gd_UB3LYP_631Gd_4_4_cent_azomethine_ts_v2_mult_1_reopt_restart_2</td><td><a href = \"files/unrestricted_cycloadd/UB3LYP_631Gd_UB3LYP_631Gd_4_4_cent_azomethine_ts_v2_mult_1_reopt_restart_2.com\" target = \"_blank\">com</a></td><td><input type=\"button\" value=\"Smart Log\" id=\"UB3LYP_631Gd_UB3LYP_631Gd_4_4_cent_azomethine_ts_v2_mult_1_reopt_restart_2\" onclick=\"view_function(event, this.id)\" /></td><td>Success</td></tr>\n",
        "    </table>\n",
        "    </body>"
       ],
       "output_type": "pyout",
       "prompt_number": 128,
       "text": [
        "<IPython.core.display.HTML at 0x4b61050>"
       ]
      }
     ],
     "prompt_number": 128
    },
    {
     "cell_type": "markdown",
     "metadata": {},
     "source": [
      "c.f. RUB3LYP t.s. energy which is equivalent to the UB3LYP with the internal instability"
     ]
    },
    {
     "cell_type": "code",
     "collapsed": false,
     "input": [
      "r_azo_ts_molecule = read('B3LYP_631Gd_B3LYP_631Gd_4_4_cent_azomethine_ts_v2_freq.log')\n",
      "r_azo_ts_molecule.set_calculator(Gaussian(label='B3LYP_631Gd_B3LYP_631Gd_4_4_cent_azomethine_ts_v2_freq'))\n",
      "r_azo_ts_molecule.calc.read()"
     ],
     "language": "python",
     "metadata": {},
     "outputs": [],
     "prompt_number": 129
    },
    {
     "cell_type": "code",
     "collapsed": false,
     "input": [
      "high_mult_azo_ts_molecule.calc.energy_zero,azo_ts_molecule.calc.energy_zero, r_azo_ts_molecule.calc.energy_zero"
     ],
     "language": "python",
     "metadata": {},
     "outputs": [
      {
       "output_type": "pyout",
       "prompt_number": 130,
       "text": [
        "(-53716.18259168896, -53716.39850322893, -53716.265104804006)"
       ]
      }
     ],
     "prompt_number": 130
    },
    {
     "cell_type": "code",
     "collapsed": false,
     "input": [
      "#view_ipython_jmol([high_mult_azo_ts_molecule, azo_ts_molecule, r_azo_ts_molecule], delta=r_azo_ts_molecule, height=500,width=500)"
     ],
     "language": "python",
     "metadata": {},
     "outputs": [],
     "prompt_number": 131
    },
    {
     "cell_type": "code",
     "collapsed": false,
     "input": [
      "azo_ts_molecule.calc.restart(add_label='freq', opt='', freq='freq')\n",
      "#azo_ts_molecule.calc.start(frc=True)"
     ],
     "language": "python",
     "metadata": {},
     "outputs": [
      {
       "output_type": "pyout",
       "prompt_number": 132,
       "text": [
        "<ase.calculators.gaussian.Gaussian instance at 0x5f8bc68>"
       ]
      }
     ],
     "prompt_number": 132
    },
    {
     "cell_type": "code",
     "collapsed": false,
     "input": [
      "check_calcs([high_mult_azo_ts_molecule, azo_ts_molecule],frc=True)\n",
      "mols_to_html([high_mult_azo_ts_molecule, azo_ts_molecule])"
     ],
     "language": "python",
     "metadata": {},
     "outputs": [
      {
       "html": [
        "\n",
        "           <script type=\"text/javascript\">\n",
        "           function view_function (event, file_n) {\n",
        "               if (event.ctrlKey && event.shiftKey){\n",
        "                   IPython.notebook.kernel.execute(\"cc_notebook_utils.pygview('\" + file_n + \".log')\");\n",
        "               }\n",
        "               else if (event.ctrlKey){\n",
        "                   IPython.notebook.kernel.execute(\"cc_notebook_utils.pygausssum('\" + file_n + \".log')\");\n",
        "               }\n",
        "               else if (event.shiftKey){\n",
        "                   IPython.notebook.kernel.execute(\"cc_notebook_utils.pyvogadro('\" + file_n + \".log')\");\n",
        "               }\n",
        "               else {\n",
        "                   IPython.notebook.kernel.execute(\"cc_notebook_utils.pyvim('\" + file_n + \".log')\");\n",
        "                   IPython.notebook.kernel.execute(\"print(file_n)\");\n",
        "               }\n",
        "           }\n",
        "           </script>\n",
        "    <style>\n",
        "    table\n",
        "    {\n",
        "        border-collapse:collapse;\n",
        "    }\n",
        "    td\n",
        "    {\n",
        "        padding:15px;\n",
        "    }\n",
        "    </style>\n",
        "    <body>\n",
        "    <table bgcolor=\"white\">\n",
        "    <col/><tr><td>UB3LYP_631Gd_UB3LYP_631Gd_4_4_cent_azomethine_ts_v2_mult_3_stable_restart_1</td><td><a href = \"files/unrestricted_cycloadd/UB3LYP_631Gd_UB3LYP_631Gd_4_4_cent_azomethine_ts_v2_mult_3_stable_restart_1.com\" target = \"_blank\">com</a></td><td><input type=\"button\" value=\"Smart Log\" id=\"UB3LYP_631Gd_UB3LYP_631Gd_4_4_cent_azomethine_ts_v2_mult_3_stable_restart_1\" onclick=\"view_function(event, this.id)\" /></td><td>Success</td></tr><tr><td>UB3LYP_631Gd_UB3LYP_631Gd_4_4_cent_azomethine_ts_v2_mult_1_reopt_freq_restart_3</td><td><a href = \"files/unrestricted_cycloadd/UB3LYP_631Gd_UB3LYP_631Gd_4_4_cent_azomethine_ts_v2_mult_1_reopt_freq_restart_3.com\" target = \"_blank\">com</a></td><td><input type=\"button\" value=\"Smart Log\" id=\"UB3LYP_631Gd_UB3LYP_631Gd_4_4_cent_azomethine_ts_v2_mult_1_reopt_freq_restart_3\" onclick=\"view_function(event, this.id)\" /></td><td>Success</td></tr>\n",
        "    </table>\n",
        "    </body>"
       ],
       "output_type": "pyout",
       "prompt_number": 133,
       "text": [
        "<IPython.core.display.HTML at 0x485d590>"
       ]
      }
     ],
     "prompt_number": 133
    },
    {
     "cell_type": "code",
     "collapsed": false,
     "input": [
      "azo_ts_molecule.calc.data['NImag'], azo_ts_molecule.calc.max_data['vibfreqs'][0] "
     ],
     "language": "python",
     "metadata": {},
     "outputs": [
      {
       "output_type": "pyout",
       "prompt_number": 134,
       "text": [
        "(1.0, -161.7689)"
       ]
      }
     ],
     "prompt_number": 134
    },
    {
     "cell_type": "markdown",
     "metadata": {},
     "source": [
      "c.f. restricted calc:"
     ]
    },
    {
     "cell_type": "code",
     "collapsed": false,
     "input": [
      "r_azo_ts_molecule.calc.data['NImag'], r_azo_ts_molecule.calc.max_data['vibfreqs'][0]"
     ],
     "language": "python",
     "metadata": {},
     "outputs": [
      {
       "output_type": "pyout",
       "prompt_number": 135,
       "text": [
        "(1.0, -127.7718)"
       ]
      }
     ],
     "prompt_number": 135
    },
    {
     "cell_type": "markdown",
     "metadata": {},
     "source": [
      "Check the imaginary mode looks like the reaction transition state:"
     ]
    },
    {
     "cell_type": "code",
     "collapsed": false,
     "input": [
      "view_ipython_jmol([azo_ts_molecule,r_azo_ts_molecule], delta=r_azo_ts_molecule,vib=1)"
     ],
     "language": "python",
     "metadata": {},
     "outputs": [
      {
       "html": [
        "\n",
        "    <iframe\n",
        "      width=\"750\"\n",
        "      height=\"300\"\n",
        "      src=/files/jmol/ase-1numpR.html\n",
        "      frameborder=\"0\"\n",
        "      allowfullscreen\n",
        "    ></iframe>"
       ],
       "output_type": "pyout",
       "prompt_number": 136,
       "text": [
        "<IPython.core.display.HTML at 0x3b74710>"
       ]
      }
     ],
     "prompt_number": 136
    },
    {
     "cell_type": "code",
     "collapsed": false,
     "input": [
      "#azo_ts_molecule.write('xyz_files/ts_final/' + azo_ts_molecule.calc.label.replace('_freq', '') + '_final.xyz')"
     ],
     "language": "python",
     "metadata": {},
     "outputs": [],
     "prompt_number": 137
    },
    {
     "cell_type": "code",
     "collapsed": false,
     "input": [
      "#initially set the relaxed geom to [p for p in cent_rxn_products if '4_4' in p.calc.label and 'azo' in p.calc.label][0]\n",
      "#but this was a mistake because we want the v2 version which was no put in to the cent_rxn_products list - need to be careful about this kind of error!!"
     ],
     "language": "python",
     "metadata": {},
     "outputs": [],
     "prompt_number": 138
    },
    {
     "cell_type": "code",
     "collapsed": false,
     "input": [
      "relaxed_geom = cent_azo_4_4_v2\n",
      "ts_E = 23.060542301388647*(azo_ts_molecule.calc.energy_zero - relaxed_geom.calc.energy_zero)\n",
      "ts_E"
     ],
     "language": "python",
     "metadata": {},
     "outputs": [
      {
       "output_type": "pyout",
       "prompt_number": 139,
       "text": [
        "16.867832956810616"
       ]
      }
     ],
     "prompt_number": 139
    },
    {
     "cell_type": "markdown",
     "metadata": {},
     "source": [
      "c.f. restricted calc value: 16.718611188108827"
     ]
    },
    {
     "cell_type": "markdown",
     "metadata": {},
     "source": [
      "Let's again see how well upm6 does at reproducing this energy"
     ]
    },
    {
     "cell_type": "code",
     "collapsed": false,
     "input": [
      "upm6_ground_2 = copy.deepcopy(relaxed_geom)\n",
      "upm6_ground_2.set_calculator(Gaussian(label='ump6_upm6_4_4_cent_azomethine', method='upm6', stable='opt'))\n",
      "upm6_ground_2.calc.set_job(nodes=8, memory=8*1200, time=1, queue='pqmb', version='g09')\n",
      "upm6_ground_2.calc.restart(stable='', opt='opt')\n",
      "upm6_ts_2 = copy.deepcopy(azo_ts_molecule)\n",
      "upm6_ts_2.set_calculator(Gaussian(label='upm6_upm6_4_4_cent_azomethine_ts_v2', method='upm6', stable='opt'))\n",
      "upm6_ts_2.calc.set_job(nodes=8, memory=8*1200, time=1, queue='pqmb', version='g09')\n",
      "upm6_ts_2.calc.restart(stable='', opt='calcfc, ts, noeigen')"
     ],
     "language": "python",
     "metadata": {},
     "outputs": [
      {
       "output_type": "pyout",
       "prompt_number": 140,
       "text": [
        "<ase.calculators.gaussian.Gaussian instance at 0x66479e0>"
       ]
      }
     ],
     "prompt_number": 140
    },
    {
     "cell_type": "code",
     "collapsed": false,
     "input": [
      "check_calcs([upm6_ground_2, upm6_ts_2], frc=True)\n",
      "mols_to_html([upm6_ground_2, upm6_ts_2])"
     ],
     "language": "python",
     "metadata": {},
     "outputs": [
      {
       "html": [
        "\n",
        "           <script type=\"text/javascript\">\n",
        "           function view_function (event, file_n) {\n",
        "               if (event.ctrlKey && event.shiftKey){\n",
        "                   IPython.notebook.kernel.execute(\"cc_notebook_utils.pygview('\" + file_n + \".log')\");\n",
        "               }\n",
        "               else if (event.ctrlKey){\n",
        "                   IPython.notebook.kernel.execute(\"cc_notebook_utils.pygausssum('\" + file_n + \".log')\");\n",
        "               }\n",
        "               else if (event.shiftKey){\n",
        "                   IPython.notebook.kernel.execute(\"cc_notebook_utils.pyvogadro('\" + file_n + \".log')\");\n",
        "               }\n",
        "               else {\n",
        "                   IPython.notebook.kernel.execute(\"cc_notebook_utils.pyvim('\" + file_n + \".log')\");\n",
        "                   IPython.notebook.kernel.execute(\"print(file_n)\");\n",
        "               }\n",
        "           }\n",
        "           </script>\n",
        "    <style>\n",
        "    table\n",
        "    {\n",
        "        border-collapse:collapse;\n",
        "    }\n",
        "    td\n",
        "    {\n",
        "        padding:15px;\n",
        "    }\n",
        "    </style>\n",
        "    <body>\n",
        "    <table bgcolor=\"white\">\n",
        "    <col/><tr><td>ump6_upm6_4_4_cent_azomethine_restart_1</td><td><a href = \"files/unrestricted_cycloadd/ump6_upm6_4_4_cent_azomethine_restart_1.com\" target = \"_blank\">com</a></td><td><input type=\"button\" value=\"Smart Log\" id=\"ump6_upm6_4_4_cent_azomethine_restart_1\" onclick=\"view_function(event, this.id)\" /></td><td>Success</td></tr><tr><td>upm6_upm6_4_4_cent_azomethine_ts_v2_restart_1</td><td><a href = \"files/unrestricted_cycloadd/upm6_upm6_4_4_cent_azomethine_ts_v2_restart_1.com\" target = \"_blank\">com</a></td><td><input type=\"button\" value=\"Smart Log\" id=\"upm6_upm6_4_4_cent_azomethine_ts_v2_restart_1\" onclick=\"view_function(event, this.id)\" /></td><td>Success</td></tr>\n",
        "    </table>\n",
        "    </body>"
       ],
       "output_type": "pyout",
       "prompt_number": 141,
       "text": [
        "<IPython.core.display.HTML at 0x6653290>"
       ]
      }
     ],
     "prompt_number": 141
    },
    {
     "cell_type": "code",
     "collapsed": false,
     "input": [
      "upm6_ts_E_2 = 23.060542301388647*(upm6_ts_2.calc.max_data['scfenergies'][-1] - upm6_ground_2.calc.max_data['scfenergies'][-1])\n",
      "upm6_ts_E_2"
     ],
     "language": "python",
     "metadata": {},
     "outputs": [
      {
       "output_type": "pyout",
       "prompt_number": 160,
       "text": [
        "15.534348004432614"
       ]
      }
     ],
     "prompt_number": 160
    },
    {
     "cell_type": "code",
     "collapsed": false,
     "input": [
      "#[c.calc.label for c in freq_calcs if c.calc.data['NImag'] != 1]"
     ],
     "language": "python",
     "metadata": {},
     "outputs": [],
     "prompt_number": 143
    },
    {
     "cell_type": "code",
     "collapsed": false,
     "input": [
      "#def get_nearest_c_neighbour(mol, atom):\n",
      "#    neighbs = get_neighbours(mol, atom, 10)\n",
      "#    c_neighbs = [n for n in neighbs if n.symbol == 'C']\n",
      "#    return c_neighbs[0]\n",
      "\n",
      "#def get_two_nearest_c_neighbours(mol, atom):\n",
      "#    neighbs = get_neighbours(mol, atom, 10)\n",
      "#    c_neighbs = [n for n in neighbs if n.symbol == 'C']\n",
      "#    return c_neighbs[0:2]\n",
      "\n",
      "#def get_transition_state_b_lengths(mol):\n",
      "#    cent_y_a= next(a for a in mol if a.symbol == 'O' or a.symbol == 'N')\n",
      "#    carbons_of_interest_1 = get_two_nearest_c_neighbours(mol, cent_y_a)\n",
      "#    carbons_of_interest_2 = [get_nearest_c_neighbour(mol, c) for c in carbons_of_interest_1]\n",
      "\n",
      "#    return [np.linalg.norm(carbons_of_interest_1[i].position - carbons_of_interest_2[i].position) for i in range(len(carbons_of_interest_1))]"
     ],
     "language": "python",
     "metadata": {},
     "outputs": [],
     "prompt_number": 144
    },
    {
     "cell_type": "code",
     "collapsed": false,
     "input": [
      "#bond_dists = [[title_f(freq_calc)] + get_transition_state_b_lengths(freq_calc) for freq_calc in freq_calcs]\n",
      "#bond_dists"
     ],
     "language": "python",
     "metadata": {},
     "outputs": [],
     "prompt_number": 145
    },
    {
     "cell_type": "heading",
     "level": 2,
     "metadata": {},
     "source": [
      "Oniom calculations"
     ]
    },
    {
     "cell_type": "markdown",
     "metadata": {},
     "source": [
      "moved to Graphene_oniom_cycloadditions Notebook as some problem with running calcs within nested folders"
     ]
    },
    {
     "cell_type": "code",
     "collapsed": false,
     "input": [
      "#!cp xyz_files/final/*.xyz oniom/oniom_xyz_files/non_oniom_final/\n",
      "#!cp xyz_files/init/*.xyz oniom/oniom_xyz_files/init/"
     ],
     "language": "python",
     "metadata": {},
     "outputs": [],
     "prompt_number": 146
    },
    {
     "cell_type": "code",
     "collapsed": false,
     "input": [
      "#cd oniom/"
     ],
     "language": "python",
     "metadata": {},
     "outputs": [],
     "prompt_number": 147
    },
    {
     "cell_type": "code",
     "collapsed": false,
     "input": [
      "#xyz_files = [xyz_file for xyz_file in glob('oniom_xyz_files/non_onion_final/*.xyz') if '3_3' in xyz_file or '4_4' in xyz_file or 'ylide' in xyz_file]\n",
      "#ylides_xyz = sorted([xyz_f for xyz_f in xyz_files if 'ylide' in xyz_f])\n",
      "#graphenes_xyz =  sorted([xyz_f for xyz_f in xyz_files if 'graphene' in xyz_f])\n",
      "#product_xyz = sorted([xyz_f for xyz_f in xyz_files if 'ylide' not in xyz_f and 'graphene' not in xyz_f])"
     ],
     "language": "python",
     "metadata": {},
     "outputs": [],
     "prompt_number": 148
    },
    {
     "cell_type": "markdown",
     "metadata": {},
     "source": [
      "try test case calculation the centre azo substituted 3_3 fragment"
     ]
    },
    {
     "cell_type": "code",
     "collapsed": false,
     "input": [
      "#o_3_3_azo = read('oniom_xyz_files/non_oniom_final/B3LYP_631Gd_B3LYP_631Gd_3_3_cent_azomethine_v2.xyz')\n",
      "#name = 'B3LYP_631Gd_B3LYP_631Gd_3_3_cent_azomethine'\n",
      "#o_3_3_azo.set_calculator(Gaussian(label=name, method='oniom(B3LYP/6-31G(d):am1)', basis='oniom'))\n",
      "#o_3_3_azo.calc.coord_params['layers'] = [[no -1 for no in [14,13,45,46,51,50,48,49,47,52,15,16,6,5,24,12,23,11]]]\n",
      "#o_3_3_azo.calc.coord_params['layer_mults'] = [1,1]\n",
      "#o_3_3_azo.get_potential_energy()\n",
      "#check_calcs([o_3_3_azo])"
     ],
     "language": "python",
     "metadata": {},
     "outputs": [],
     "prompt_number": 149
    },
    {
     "cell_type": "code",
     "collapsed": false,
     "input": [
      "#o_3_3 = read('oniom_xyz_files/non_oniom_final/B3LYP_631Gd_B3LYP_631Gd_3_3_graphene.xyz')\n",
      "#name = 'B3LYP_631Gd_B3LYP_631Gd_4_4_graphene'\n",
      "#o_3_3.set_calculator(Gaussian(label=name, method='oniom(B3LYP/6-31G(d):am1)', basis='oniom'))\n",
      "#o_3_3.calc.coord_params['layers'] = [[no -1 for no in [14,13,15,16,6,5,24,12,23,11]]]\n",
      "#o_3_3.calc.coord_params['layer_mults'] = [1,1]\n",
      "#o_3_3.get_potential_energy()\n",
      "#check_calcs(o_3_3)"
     ],
     "language": "python",
     "metadata": {},
     "outputs": [],
     "prompt_number": 150
    },
    {
     "cell_type": "code",
     "collapsed": false,
     "input": [
      "#azo = ylides[0]"
     ],
     "language": "python",
     "metadata": {},
     "outputs": [],
     "prompt_number": 151
    },
    {
     "cell_type": "markdown",
     "metadata": {},
     "source": [
      "Oniom calculated E_r is:"
     ]
    },
    {
     "cell_type": "code",
     "collapsed": false,
     "input": [
      "#E_r1_evs = o_3_3_azo.get_potential_energy() - o_3_3.get_potential_energy() - azo.get_potential_energy()\n",
      "#E_r1 = E_r1_evs * 23.060542301388647"
     ],
     "language": "python",
     "metadata": {},
     "outputs": [],
     "prompt_number": 152
    },
    {
     "cell_type": "markdown",
     "metadata": {},
     "source": [
      "C.f. E_r of 11.135533 via straight B3LYP"
     ]
    },
    {
     "cell_type": "heading",
     "level": 2,
     "metadata": {},
     "source": [
      "Sources of error"
     ]
    },
    {
     "cell_type": "markdown",
     "metadata": {},
     "source": [
      "Misread paper - initially I thought all the calculations for larger fragments were performed at HF/STO-3G geometrise whereas infact those that involved a centrally substituted graphene fragment were performed at B3LYP/6-31G geometry. I was also reading off the UB3LYP energies instead of the RB3LYP energies (which I'm using for the comparison)\n",
      "\n",
      "At one point the ASE scripts were reading from prexisting log files that were incorrect - if you accidently misname a calculation (by e.g. cutting and pasting and forgetting to change the requisit sections) then you can overwrite an existing log file with a log file for another calculation. When you now analyse the calculations you will be attributing the the properties from one calculations to another calculation.\n",
      "\n",
      "The 4_4_corner_azomethine calculation optimised the geomoetry to a different minima, to the one used in the paper. Only manually examining the subsequent files and then trying a different starting geometry allowed me to reach a better match.\n",
      "\n",
      "At several points alterations later in the notebook have messed up ealier cells - e.g. loading up relevant xyz files using glob(*.xyz) initially works but if we then write out some more xyz files e.g. for optimised geometries or transition states, rerunning the original cell will then try and load all these extra xya files up.\n",
      "\n",
      "Transition state we arrived at was not the reaction transition state but instead was one associated with breaking the symmetry across the c-o-c bond (c.f. ethane - there is a transition state associated with eclipsed ethane where the coordinate associated with the maximum is the dihedral and the minimum energy geometry is the staggered conformation)"
     ]
    },
    {
     "cell_type": "heading",
     "level": 2,
     "metadata": {},
     "source": [
      "Solutions"
     ]
    },
    {
     "cell_type": "markdown",
     "metadata": {},
     "source": [
      "Read papers more carefully!\n",
      "\n",
      "Be careful on copy pasting from other cells particularly regarding the names assigned to the molecules - think about ways to use directories\n",
      "\n",
      "Impliment a magic function that remotely runs a particular cell, install ASE on cx1 and make use of the global minima finding algorithms that ASE possesses.\n",
      "\n",
      "Be careful loading files with wildcards, and if at any point in a notebook we have done so be careful writing other files. Could we somehow use temporary directories here?"
     ]
    }
   ],
   "metadata": {}
  }
 ]
}