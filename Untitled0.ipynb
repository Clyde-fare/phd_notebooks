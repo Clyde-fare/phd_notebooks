{
 "metadata": {
  "name": "",
  "signature": "sha256:96ff69bd1315e85049ecae954005447a668529bc781ae7c0bea4c664f48eb5e9"
 },
 "nbformat": 3,
 "nbformat_minor": 0,
 "worksheets": []
}