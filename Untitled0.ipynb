{
 "metadata": {
  "name": "",
  "signature": "sha256:30fc2813c6e0a64a92aafd81c67503468b95012ad89954ebffa3fe59f566929b"
 },
 "nbformat": 3,
 "nbformat_minor": 0,
 "worksheets": [
  {
   "cells": [
    {
     "cell_type": "code",
     "collapsed": false,
     "input": [
      "ls"
     ],
     "language": "python",
     "metadata": {},
     "outputs": [
      {
       "output_type": "stream",
       "stream": "stdout",
       "text": [
        "current_proj.gv                 P-coumaric_acid-CAS.ipynb\r\n",
        "current_proj.map                P-coumaric_acid-CIS_reboot.ipynb\r\n",
        "\u001b[0m\u001b[01;35mcurrent_proj.png\u001b[0m                P-coumaric_acid.ipynb\r\n",
        "Dronpa.ipynb                    Plan!.html\r\n",
        "\u001b[01;35mfigure_1.png\u001b[0m                    Plan!.ipynb\r\n",
        "figure_1.ps                     run_script\r\n",
        "func_args_pckl                  \u001b[01;34mscratch\u001b[0m/\r\n",
        "func_kwargs_pckl                Scratch.ipynb\r\n",
        "func_pckl                       \u001b[01;34mtemp\u001b[0m/\r\n",
        "\u001b[01;34mgraphene_cycloadditions\u001b[0m/        \u001b[01;34mtest_cases\u001b[0m/\r\n",
        "\u001b[01;32mgraph_gen.py\u001b[0m*                   test_f.txt\r\n",
        "\u001b[01;34mhbdi\u001b[0m/                           test_project_tree_v2.ipynb\r\n",
        "HDBI.ipynb                      test_start_bak.txt\r\n",
        "\u001b[01;34mjmol\u001b[0m/                           test_start.txt\r\n",
        "\u001b[01;34mnotes\u001b[0m/                          tree_bak.json\r\n",
        "Oniom accuracy estimator.ipynb  tree.json\r\n",
        "\u001b[01;34moniom_bio\u001b[0m/                      \u001b[01;34mtriang_graph\u001b[0m/\r\n",
        "Oniom Bio.ipynb                 Triangular graphitic cluster.ipynb\r\n",
        "\u001b[01;34mp_coumaric\u001b[0m/                     Untitled0.ipynb\r\n",
        "P_coumaric_acid-B3LYP.ipynb\r\n"
       ]
      }
     ],
     "prompt_number": 1
    },
    {
     "cell_type": "code",
     "collapsed": false,
     "input": [
      "cd graphene_cycloadditions/cycloadd/"
     ],
     "language": "python",
     "metadata": {},
     "outputs": [
      {
       "output_type": "stream",
       "stream": "stdout",
       "text": [
        "/home/clyde/Dropbox/Project Stuff/Notebooks/graphene_cycloadditions/cycloadd\n"
       ]
      }
     ],
     "prompt_number": 2
    },
    {
     "cell_type": "code",
     "collapsed": false,
     "input": [
      "logs = !ls *.log\n",
      "for i in logs:\n",
      "    with open(i) as log_f:\n",
      "        print log_f.readlines()[-1]"
     ],
     "language": "python",
     "metadata": {},
     "outputs": [
      {
       "output_type": "stream",
       "stream": "stdout",
       "text": [
        " Normal termination of Gaussian 09 at Thu Nov  1 18:58:33 2012.\n",
        "\n",
        " Normal termination of Gaussian 09 at Fri Nov  2 13:44:21 2012.\n"
       ]
      },
      {
       "output_type": "stream",
       "stream": "stdout",
       "text": [
        "\n",
        " Normal termination of Gaussian DV at Fri Oct 19 17:32:12 2012.\n"
       ]
      },
      {
       "output_type": "stream",
       "stream": "stdout",
       "text": [
        "\n",
        " Normal termination of Gaussian 09 at Thu Nov  1 18:56:54 2012.\n",
        "\n",
        " RMSU=  1.04D-05    CP:  9.95D-01  2.16D+00  8.68D-01  8.26D-01\n"
       ]
      },
      {
       "output_type": "stream",
       "stream": "stdout",
       "text": [
        "\n",
        " Normal termination of Gaussian DV at Mon Oct 29 12:05:33 2012.\n",
        "\n",
        " Normal termination of Gaussian DV at Mon Oct 29 12:54:52 2012.\n",
        "\n",
        " Normal termination of Gaussian DV at Mon Oct 29 12:51:57 2012.\n",
        "\n",
        " Normal termination of Gaussian DV at Mon Oct 29 14:11:51 2012.\n"
       ]
      },
      {
       "output_type": "stream",
       "stream": "stdout",
       "text": [
        "\n",
        " Normal termination of Gaussian 09 at Mon Dec  3 16:05:49 2012.\n",
        "\n",
        " Normal termination of Gaussian 09 at Thu Nov  1 20:23:05 2012.\n",
        "\n",
        "    219 vectors produced by pass  2 Test12= 1.07D-09 1.00D-07 XBig12= 7.45D-04 3.28D-03.\n",
        "\n",
        " Normal termination of Gaussian 09 at Mon Dec  3 16:05:52 2012.\n",
        "\n",
        " Normal termination of Gaussian 09 at Fri Nov 23 13:31:14 2012.\n"
       ]
      },
      {
       "output_type": "stream",
       "stream": "stdout",
       "text": [
        "\n",
        " Normal termination of Gaussian 09 at Thu Nov 22 20:47:40 2012.\n",
        "\n",
        " Normal termination of Gaussian 09 at Wed Feb 13 21:45:09 2013.\n"
       ]
      },
      {
       "output_type": "stream",
       "stream": "stdout",
       "text": [
        "\n",
        " Normal termination of Gaussian 09 at Fri Nov  2 15:36:20 2012.\n",
        "\n",
        " Normal termination of Gaussian DV at Mon Oct 29 15:10:43 2012.\n",
        "\n",
        " Normal termination of Gaussian DV at Fri Oct 19 18:55:42 2012.\n"
       ]
      },
      {
       "output_type": "stream",
       "stream": "stdout",
       "text": [
        "\n",
        " Normal termination of Gaussian 09 at Thu Nov  1 20:21:41 2012.\n",
        "\n",
        " Normal termination of Gaussian 09 at Mon Nov 12 21:57:38 2012.\n"
       ]
      },
      {
       "output_type": "stream",
       "stream": "stdout",
       "text": [
        "\n",
        " Normal termination of Gaussian 09 at Wed Nov 14 12:52:28 2012.\n",
        "\n",
        " Normal termination of Gaussian 09 at Tue Nov 13 20:46:10 2012.\n"
       ]
      },
      {
       "output_type": "stream",
       "stream": "stdout",
       "text": [
        "\n",
        " Normal termination of Gaussian 09 at Wed Feb 13 22:06:57 2013.\n",
        "\n",
        "    216 vectors produced by pass  2 Test12= 1.06D-09 1.00D-07 XBig12= 7.51D-04 3.00D-03.\n",
        "\n",
        " Normal termination of Gaussian 09 at Mon Nov 12 14:02:20 2012.\n",
        "\n",
        " Normal termination of Gaussian 09 at Sat Nov 10 00:12:04 2012.\n"
       ]
      },
      {
       "output_type": "stream",
       "stream": "stdout",
       "text": [
        "\n",
        " Normal termination of Gaussian DV at Mon Oct 29 14:39:14 2012.\n",
        "\n",
        " Normal termination of Gaussian DV at Thu Oct 18 16:26:23 2012.\n",
        "\n",
        " Normal termination of Gaussian DV at Thu Oct 18 16:26:23 2012.\n",
        "\n",
        " Normal termination of Gaussian DV at Fri Oct 19 10:34:19 2012.\n"
       ]
      },
      {
       "output_type": "stream",
       "stream": "stdout",
       "text": [
        "\n",
        " Normal termination of Gaussian DV at Thu Oct 18 16:27:56 2012.\n"
       ]
      },
      {
       "output_type": "stream",
       "stream": "stdout",
       "text": [
        "\n",
        " Normal termination of Gaussian DV at Thu Oct 18 16:27:56 2012.\n",
        "\n",
        " Normal termination of Gaussian DV at Fri Oct 19 10:34:37 2012.\n",
        "\n",
        " Normal termination of Gaussian DV at Wed Oct 17 16:21:59 2012.\n",
        "\n",
        " Normal termination of Gaussian DV at Wed Oct 17 16:22:13 2012.\n",
        "\n",
        " Normal termination of Gaussian DV at Wed Oct 17 16:27:03 2012.\n",
        "\n",
        " Normal termination of Gaussian 09 at Thu Nov  1 14:51:30 2012.\n"
       ]
      },
      {
       "output_type": "stream",
       "stream": "stdout",
       "text": [
        "\n",
        " Normal termination of Gaussian 09 at Thu Nov  1 14:51:18 2012.\n",
        "\n",
        " Normal termination of Gaussian DV at Mon Oct 29 11:15:20 2012.\n",
        "\n",
        " Normal termination of Gaussian 09 at Thu Nov  1 14:10:53 2012.\n",
        "\n",
        " Normal termination of Gaussian 09 at Tue Nov  6 16:21:23 2012.\n",
        "\n",
        " Normal termination of Gaussian 09 at Thu Nov  1 14:10:29 2012.\n",
        "\n",
        " Normal termination of Gaussian 09 at Thu Nov  1 14:10:34 2012.\n"
       ]
      },
      {
       "output_type": "stream",
       "stream": "stdout",
       "text": [
        "\n",
        " Normal termination of Gaussian 09 at Thu Nov  1 14:10:43 2012.\n",
        "\n",
        " Normal termination of Gaussian 09 at Thu Nov  1 14:10:14 2012.\n",
        "\n",
        " Normal termination of Gaussian 09 at Thu Nov  1 14:56:29 2012.\n",
        "\n",
        " Normal termination of Gaussian 09 at Thu Nov  1 14:56:25 2012.\n"
       ]
      },
      {
       "output_type": "stream",
       "stream": "stdout",
       "text": [
        "\n",
        " Normal termination of Gaussian 09 at Thu Nov  1 14:15:38 2012.\n",
        "\n",
        " Normal termination of Gaussian DV at Tue Oct 23 16:33:47 2012.\n"
       ]
      },
      {
       "output_type": "stream",
       "stream": "stdout",
       "text": [
        "\n",
        " Normal termination of Gaussian 09 at Thu Nov  1 14:15:19 2012.\n",
        "\n",
        " Normal termination of Gaussian 09 at Thu Nov  1 14:15:19 2012.\n",
        "\n",
        " Normal termination of Gaussian 09 at Thu Nov  1 14:14:24 2012.\n",
        "\n",
        " Normal termination of Gaussian 09 at Thu Nov  1 14:14:06 2012.\n",
        "\n",
        " Normal termination of Gaussian DV at Wed Oct 17 18:29:32 2012.\n"
       ]
      },
      {
       "output_type": "stream",
       "stream": "stdout",
       "text": [
        "\n",
        " Normal termination of Gaussian DV at Thu Oct 18 12:36:01 2012.\n",
        "\n",
        " Normal termination of Gaussian 09 at Thu Nov  1 14:07:23 2012.\n",
        "\n",
        " Normal termination of Gaussian 09 at Thu Nov  1 14:07:22 2012.\n",
        "\n",
        " Normal termination of Gaussian 09 at Tue Oct 16 20:28:14 2012.\n",
        "\n",
        " Normal termination of Gaussian 09 at Tue Oct 16 20:28:08 2012.\n",
        "\n",
        " Normal termination of Gaussian 09 at Tue Oct 16 20:28:36 2012.\n"
       ]
      },
      {
       "output_type": "stream",
       "stream": "stdout",
       "text": [
        "\n",
        " Normal termination of Gaussian 09 at Tue Oct 16 20:31:21 2012.\n",
        "\n",
        " Normal termination of Gaussian DV at Mon Oct 22 16:17:18 2012.\n",
        "\n",
        " Normal termination of Gaussian 09 at Tue Oct 16 20:31:23 2012.\n"
       ]
      },
      {
       "output_type": "stream",
       "stream": "stdout",
       "text": [
        "\n",
        " Normal termination of Gaussian DV at Tue Oct 23 12:24:57 2012.\n",
        "\n",
        " Normal termination of Gaussian DV at Mon Oct 22 16:18:59 2012.\n"
       ]
      },
      {
       "output_type": "stream",
       "stream": "stdout",
       "text": [
        "\n",
        " Normal termination of Gaussian DV at Mon Oct 29 10:52:11 2012.\n",
        "\n",
        " Normal termination of Gaussian 09 at Tue Oct 16 20:35:08 2012.\n",
        "\n",
        " Normal termination of Gaussian DV at Tue Oct 23 12:24:52 2012.\n"
       ]
      },
      {
       "output_type": "stream",
       "stream": "stdout",
       "text": [
        "\n",
        " Normal termination of Gaussian DV at Mon Oct 22 16:32:18 2012.\n"
       ]
      },
      {
       "output_type": "stream",
       "stream": "stdout",
       "text": [
        "\n",
        " Normal termination of Gaussian 09 at Tue Nov  6 16:05:43 2012.\n",
        "\n",
        " Normal termination of Gaussian 09 at Tue Oct 16 20:33:09 2012.\n",
        "\n",
        " Normal termination of Gaussian DV at Fri Oct 26 11:12:31 2012.\n",
        "\n",
        " File lengths (MBytes):  RWF=    273 Int=      0 D2E=      0 Chk=      8 Scr=      1\n"
       ]
      },
      {
       "output_type": "stream",
       "stream": "stdout",
       "text": [
        "\n",
        " Normal termination of Gaussian 09 at Tue Oct 16 20:37:29 2012.\n",
        "\n",
        " Normal termination of Gaussian DV at Tue Oct 23 12:25:01 2012.\n",
        "\n",
        " Normal termination of Gaussian DV at Mon Oct 22 16:21:22 2012.\n"
       ]
      },
      {
       "output_type": "stream",
       "stream": "stdout",
       "text": [
        "\n",
        " Normal termination of Gaussian 09 at Tue Oct 16 20:38:29 2012.\n",
        "\n",
        " Normal termination of Gaussian DV at Tue Oct 23 12:24:50 2012.\n"
       ]
      },
      {
       "output_type": "stream",
       "stream": "stdout",
       "text": [
        "\n",
        " Normal termination of Gaussian DV at Mon Oct 22 16:12:43 2012.\n",
        "\n",
        " Normal termination of Gaussian DV at Mon Oct 22 14:00:58 2012.\n",
        "\n",
        " Normal termination of Gaussian 09 at Tue Oct 16 20:36:22 2012.\n"
       ]
      },
      {
       "output_type": "stream",
       "stream": "stdout",
       "text": [
        "\n",
        " Normal termination of Gaussian DV at Tue Oct 23 12:42:14 2012.\n",
        "\n",
        " Normal termination of Gaussian DV at Mon Oct 22 16:59:17 2012.\n"
       ]
      },
      {
       "output_type": "stream",
       "stream": "stdout",
       "text": [
        "\n",
        " Normal termination of Gaussian 09 at Tue Oct 16 20:36:32 2012.\n",
        "\n",
        " Normal termination of Gaussian DV at Tue Oct 23 12:41:28 2012.\n",
        "\n",
        " Normal termination of Gaussian DV at Mon Oct 22 16:52:41 2012.\n"
       ]
      },
      {
       "output_type": "stream",
       "stream": "stdout",
       "text": [
        "\n",
        " Normal termination of Gaussian 09 at Tue Oct 16 20:39:29 2012.\n",
        "\n",
        " Normal termination of Gaussian DV at Fri Oct 26 15:20:09 2012.\n",
        "\n",
        " Normal termination of Gaussian DV at Thu Oct 25 15:20:54 2012.\n"
       ]
      },
      {
       "output_type": "stream",
       "stream": "stdout",
       "text": [
        "\n",
        " Normal termination of Gaussian DV at Tue Oct 23 12:01:38 2012.\n",
        "\n",
        " Normal termination of Gaussian 09 at Tue Oct 16 20:39:14 2012.\n"
       ]
      },
      {
       "output_type": "stream",
       "stream": "stdout",
       "text": [
        "\n",
        " Normal termination of Gaussian DV at Tue Oct 23 12:39:06 2012.\n",
        "\n",
        " Normal termination of Gaussian DV at Mon Oct 22 17:02:02 2012.\n"
       ]
      },
      {
       "output_type": "stream",
       "stream": "stdout",
       "text": [
        "\n",
        " Normal termination of Gaussian 09 at Tue Oct 16 20:49:42 2012.\n",
        "\n",
        " Normal termination of Gaussian DV at Tue Oct 23 12:40:14 2012.\n"
       ]
      },
      {
       "output_type": "stream",
       "stream": "stdout",
       "text": [
        "\n",
        " Normal termination of Gaussian DV at Mon Oct 22 17:07:47 2012.\n"
       ]
      },
      {
       "output_type": "stream",
       "stream": "stdout",
       "text": [
        "\n",
        " Normal termination of Gaussian 09 at Tue Oct 16 20:51:13 2012.\n",
        "\n",
        " Normal termination of Gaussian DV at Tue Oct 23 12:39:45 2012.\n"
       ]
      },
      {
       "output_type": "stream",
       "stream": "stdout",
       "text": [
        "\n",
        " Normal termination of Gaussian DV at Mon Oct 22 16:47:52 2012.\n",
        "\n",
        " Normal termination of Gaussian DV at Mon Oct 22 14:07:13 2012.\n"
       ]
      },
      {
       "output_type": "stream",
       "stream": "stdout",
       "text": [
        "\n",
        " Normal termination of Gaussian 09 at Tue Oct 16 20:45:24 2012.\n",
        "\n",
        " Normal termination of Gaussian 09 at Tue Oct 16 21:10:53 2012.\n",
        "\n",
        " Normal termination of Gaussian DV at Fri Oct 26 18:22:20 2012.\n",
        "\n",
        " Normal termination of Gaussian DV at Fri Oct 26 18:22:21 2012.\n",
        "\n"
       ]
      }
     ],
     "prompt_number": 9
    },
    {
     "cell_type": "code",
     "collapsed": false,
     "input": [],
     "language": "python",
     "metadata": {},
     "outputs": []
    }
   ],
   "metadata": {}
  }
 ]
}