{
 "metadata": {
  "name": "",
  "signature": "sha256:77af73eafaab10188db670574517091b7966694cd819031ad6e79ccbc2415ec6"
 },
 "nbformat": 3,
 "nbformat_minor": 0,
 "worksheets": [
  {
   "cells": [
    {
     "cell_type": "markdown",
     "metadata": {},
     "source": [
      "In this project I will try to construct a mockup of an alternative dashboard that represents notebooks as clickable nodes in a network. Nodes will be coloured by an arbitrary grouping function and linked if the notebooks contain url style links to one another (example notebook [link](localhost:8888/notebooks/IPython%20mindmap%20Project2.ipynb)). The mock dashboard will use d3.js and a forcedirected graph."
     ]
    },
    {
     "cell_type": "code",
     "collapsed": false,
     "input": [
      "import re, os , fnmatch, urllib2, json\n",
      "from collections import OrderedDict\n",
      "from IPython.display import Javascript\n",
      "from IPython.html.services.notebooks.filenbmanager import FileNotebookManager\n",
      "from tornado.web import HTTPError"
     ],
     "language": "python",
     "metadata": {},
     "outputs": [],
     "prompt_number": 1
    },
    {
     "cell_type": "code",
     "collapsed": false,
     "input": [
      "#fetch d3 from cloudflare\n",
      "Javascript(\"\"\"$.getScript('//cdnjs.cloudflare.com/ajax/libs/d3/3.2.2/d3.v3.min.js')\"\"\")"
     ],
     "language": "python",
     "metadata": {},
     "outputs": [
      {
       "javascript": [
        "$.getScript('//cdnjs.cloudflare.com/ajax/libs/d3/3.2.2/d3.v3.min.js')"
       ],
       "metadata": {},
       "output_type": "pyout",
       "prompt_number": 2,
       "text": [
        "<IPython.core.display.Javascript at 0x25c7310>"
       ]
      }
     ],
     "prompt_number": 2
    },
    {
     "cell_type": "code",
     "collapsed": false,
     "input": [
      "flatten = lambda l:(e for sl in l for e in sl)\n",
      "\n",
      "def extract_nb_links(markdown_cells):\n",
      "    \"\"\"Takes a list of markdown cells and extracts any links to other notebooks present\n",
      "    \n",
      "    Parameters\n",
      "    ----------\n",
      "    markdown_cells : list\n",
      "        The list of markdown cells we are searching for links.\n",
      "\n",
      "    Returns\n",
      "    -------\n",
      "    nb_links  :  list\n",
      "        The list of links to other notebooks in the markdown cells passed to the function\"\"\"\n",
      "    \n",
      "    nb_link_extractor = re.compile(\"(?<=\\]\\()\\S+ipynb\")  \n",
      "    nb_link_finds = [nb_link_extractor.findall(cell['source']) for cell in markdown_cells]\n",
      "    nb_links = flatten([f for f in nb_link_finds if f])    \n",
      "    return nb_links\n",
      "\n",
      "def get_markdown_cells(nb_file_path):\n",
      "    \"\"\"Takes a notebook file path and extracts the markdown cells present\n",
      "    \n",
      "    Parameters\n",
      "    ----------\n",
      "    nb_file_path : string\n",
      "        The full path to the notebook whose cells we are extracting.\n",
      "\n",
      "    Returns\n",
      "    -------\n",
      "    markdown_cells  :  list\n",
      "        The list of markdown cells present in the notebook\"\"\"\n",
      "    \n",
      "    nb_manager = FileNotebookManager()\n",
      "    rel_nb_file_path = os.path.relpath(nb_file_path)\n",
      "    nb_path, nb_name = os.path.split(rel_nb_file_path)\n",
      "    \n",
      "    #if linked notebook does not exist we ignore it\n",
      "    try:\n",
      "        notebook = nb_manager.get_notebook(nb_name, nb_path)\n",
      "    except HTTPError as e:\n",
      "        return []\n",
      "    \n",
      "    try:\n",
      "        markdown_cells = [cell for cell in notebook['content']['worksheets'][0]['cells'] \n",
      "                               if cell['cell_type'] == 'markdown']   \n",
      "    except IndexError:\n",
      "        markdown_cells = []\n",
      "        \n",
      "    return markdown_cells\n",
      "\n",
      "def get_linked_nbs(nb_file_path, project_graph=None):\n",
      "    \"\"\"Recursively extracts all notebooks linked to one another starting with those linked to the notebook\n",
      "    specified by nb_file_path.\n",
      "    \n",
      "    Returns a dictionary with keys corresponding to each individual notebook and values corresponding \n",
      "    to all other notebooks linked to the key\n",
      "    \n",
      "    Parameters\n",
      "    ----------\n",
      "    nb_file_path : string\n",
      "        The full path to the notebook whose notebook links we are extracting.\n",
      "\n",
      "    project_graph : dict\n",
      "        The graph before we have extracted the current notebook's links\n",
      "        \n",
      "    Returns\n",
      "    -------\n",
      "    project_graph : dict\n",
      "        The graph after we have extracted the current notebook's links\n",
      "    \"\"\"\n",
      "    \n",
      "    if not project_graph:\n",
      "        project_graph = OrderedDict()\n",
      "     \n",
      "    markdown_cells = get_markdown_cells(nb_file_path)\n",
      "    rel_nb_links = extract_nb_links(markdown_cells)\n",
      "    \n",
      "    #local notebook links are relative to the directory they are in\n",
      "    active_dir = os.path.dirname(nb_file_path)    \n",
      "    nb_links = sorted([os.path.join(active_dir, rel_nb_link) for rel_nb_link in rel_nb_links if not 'http' in rel_nb_link])\n",
      "    project_graph.update({nb_file_path:nb_links})\n",
      "    \n",
      "    for nb_file_path in nb_links:\n",
      "        if nb_file_path not in project_graph:\n",
      "            get_linked_nbs(nb_file_path, project_graph)\n",
      "        \n",
      "    return project_graph\n",
      "\n",
      "def get_project_graph(path=''):\n",
      "    \"\"\"Extracts a dictionary of notebook file paths keys and lists of linked notebook file paths values\n",
      "    starting with all notebooks in the current directory and recursively searching all sub directories\"\"\"\n",
      "    \n",
      "    nb_paths = []\n",
      "    for root, dirnames, filenames in os.walk(path):\n",
      "        for filename in fnmatch.filter(filenames, '*.ipynb'):\n",
      "            #using unicode and realpath because extract_nb_links() returns unicode links\n",
      "            if '.ipynb_checkpoints' not in root:\n",
      "                nb_paths.append(unicode(os.path.realpath(os.path.join(root, filename))))\n",
      "   \n",
      "    project_graph = OrderedDict()\n",
      "    for nb_file_path in nb_paths:\n",
      "        project_graph = get_linked_nbs(nb_file_path, project_graph)\n",
      "        \n",
      "    #using an OrderedDict to help debugging \n",
      "    return OrderedDict(sorted(project_graph.items()))\n",
      "\n",
      "def get_nb_group(nb_name, nb_path):\n",
      "    \"\"\"Hacked together trial function to assign colours to notebooks\"\"\"\n",
      "\n",
      "    if 'dead' in nb_name:\n",
      "        return 1\n",
      "    elif 'analysis' in nb_name:\n",
      "        return 0\n",
      "    elif 'final' in nb_name:\n",
      "        return 4\n",
      "    else:\n",
      "        return 3\n",
      "\n",
      "def get_json(project_graph):\n",
      "    \"\"\"Constructs a json representation of the project_graph\"\"\"\n",
      "    nodes, links = [], []\n",
      "    \n",
      "    for nb_path in project_graph:\n",
      "        nb_name = os.path.basename(nb_path).replace('.ipynb','')\n",
      "        rel_nb_path = 'tree/' + os.path.relpath(nb_path)\n",
      "            \n",
      "        linked_nb_paths = project_graph[nb_path]\n",
      "        \n",
      "        node = {'name': nb_name, 'url':rel_nb_path, 'group':get_nb_group(nb_name, rel_nb_path)}\n",
      "        \n",
      "        #need to check because we might have found this node already as a link\n",
      "        if node not in nodes:\n",
      "            nodes.append(node)\n",
      "        \n",
      "        for linked_nb_path in linked_nb_paths:\n",
      "            linked_nb_name = os.path.basename(linked_nb_path).replace('.ipynb','')\n",
      "            linked_rel_nb_path = 'tree/' + os.path.relpath(linked_nb_path)\n",
      "                \n",
      "            try:\n",
      "                link_node = next(n for n in nodes if n.get('name') == linked_nb_name and n.get('url') == linked_rel_nb_path)\n",
      "            except StopIteration:\n",
      "                link_node = {'name':linked_nb_name, 'url':linked_rel_nb_path, 'group':get_nb_group(linked_nb_name, linked_rel_nb_path)}\n",
      "                nodes.append(link_node)\n",
      "            \n",
      "            edge = {'source':nodes.index(node), 'target':nodes.index(link_node), 'value':1}\n",
      "            links.append(edge)\n",
      "            \n",
      "    return json.dumps({'nodes':nodes, 'links':links}, sort_keys=True,indent=4, separators=(',', ': '))"
     ],
     "language": "python",
     "metadata": {},
     "outputs": [],
     "prompt_number": 3
    },
    {
     "cell_type": "code",
     "collapsed": false,
     "input": [
      "project_dir = '/home/clyde/Project/Notebooks/'\n",
      "json_tree = 'tree.json'\n",
      "\n",
      "project_graph = get_project_graph(project_dir)\n",
      "\n",
      "with open(json_tree, 'w') as json_f:\n",
      "    json_f.write(get_json(project_graph))"
     ],
     "language": "python",
     "metadata": {},
     "outputs": [],
     "prompt_number": 4
    },
    {
     "cell_type": "raw",
     "metadata": {},
     "source": [
      "%%html\n",
      "<style>\n",
      "\n",
      ".node {\n",
      "  stroke: #fff;\n",
      "  stroke-width: 1.5px;\n",
      "}\n",
      "\n",
      ".link {\n",
      "  stroke: #999;\n",
      "  stroke-opacity: .6;\n",
      "}\n",
      "</style>"
     ]
    },
    {
     "cell_type": "code",
     "collapsed": false,
     "input": [
      "%%javascript\n",
      "\n",
      "container.show();\n",
      "\n",
      "var e = element.get(0);\n",
      "\n",
      "var width = 960,\n",
      "    height = 500,\n",
      "    fill = d3.scale.category10(),\n",
      "    nodes = d3.range(100).map(Object);\n",
      "\n",
      "var color = d3.scale.category20();\n",
      "\n",
      "var force = d3.layout.force()\n",
      "    .charge(-120)\n",
      "    .linkDistance(30)\n",
      "    .size([width, height]);\n",
      "\n",
      "var svg = d3.select(e).append(\"svg\")\n",
      "    .attr(\"width\", width)\n",
      "    .attr(\"height\", height)\n",
      "\n",
      "d3.json(\"/files/tree.json\", function(error, graph) {\n",
      "  force\n",
      "      .nodes(graph.nodes)\n",
      "      .links(graph.links)\n",
      "      .start();\n",
      "\n",
      "  var link = svg.selectAll(\".link\")\n",
      "      .data(graph.links)\n",
      "    .enter().append(\"line\")\n",
      "      .attr(\"class\", \"link\")\n",
      "      .style(\"stroke-width\", function(d) { return Math.sqrt(d.value); });\n",
      "\n",
      "  var node = svg.selectAll(\".node\")\n",
      "      .data(graph.nodes)\n",
      "      .enter().append(\"a\")\n",
      "      .attr(\"class\", \"node\")\n",
      "      .attr(\"xlink:href\", function(d) { return d.url; })\n",
      "      .attr(\"target\", \"_blank\")\n",
      "      .call(force.drag);\n",
      "  node.append(\"circle\")\n",
      "      .attr(\"r\", 5)\n",
      "      .style(\"fill\", function(d) { return color(d.group); })\n",
      "\n",
      "  node.append(\"title\")\n",
      "      .text(function(d) { return d.name; });\n",
      "\n",
      "  force.on(\"tick\", function() {\n",
      "    link.attr(\"x1\", function(d) { return d.source.x; })\n",
      "        .attr(\"y1\", function(d) { return d.source.y; })\n",
      "        .attr(\"x2\", function(d) { return d.target.x; })\n",
      "        .attr(\"y2\", function(d) { return d.target.y; });\n",
      "\n",
      "    node.attr(\"transform\", function(d) { return \"translate(\" + d.x + \",\" + d.y + \")\"; });\n",
      "  });\n",
      "});"
     ],
     "language": "python",
     "metadata": {},
     "outputs": [
      {
       "javascript": [
        "\n",
        "container.show();\n",
        "\n",
        "var e = element.get(0);\n",
        "\n",
        "var width = 960,\n",
        "    height = 500,\n",
        "    fill = d3.scale.category10(),\n",
        "    nodes = d3.range(100).map(Object);\n",
        "\n",
        "var color = d3.scale.category20();\n",
        "\n",
        "var force = d3.layout.force()\n",
        "    .charge(-120)\n",
        "    .linkDistance(30)\n",
        "    .size([width, height]);\n",
        "\n",
        "var svg = d3.select(e).append(\"svg\")\n",
        "    .attr(\"width\", width)\n",
        "    .attr(\"height\", height)\n",
        "\n",
        "d3.json(\"/files/tree.json\", function(error, graph) {\n",
        "  force\n",
        "      .nodes(graph.nodes)\n",
        "      .links(graph.links)\n",
        "      .start();\n",
        "\n",
        "  var link = svg.selectAll(\".link\")\n",
        "      .data(graph.links)\n",
        "    .enter().append(\"line\")\n",
        "      .attr(\"class\", \"link\")\n",
        "      .style(\"stroke-width\", function(d) { return Math.sqrt(d.value); });\n",
        "\n",
        "  var node = svg.selectAll(\".node\")\n",
        "      .data(graph.nodes)\n",
        "      .enter().append(\"a\")\n",
        "      .attr(\"class\", \"node\")\n",
        "      .attr(\"xlink:href\", function(d) { return d.url; })\n",
        "      .attr(\"target\", \"_blank\")\n",
        "      .call(force.drag);\n",
        "  node.append(\"circle\")\n",
        "      .attr(\"r\", 5)\n",
        "      .style(\"fill\", function(d) { return color(d.group); })\n",
        "\n",
        "  node.append(\"title\")\n",
        "      .text(function(d) { return d.name; });\n",
        "\n",
        "  force.on(\"tick\", function() {\n",
        "    link.attr(\"x1\", function(d) { return d.source.x; })\n",
        "        .attr(\"y1\", function(d) { return d.source.y; })\n",
        "        .attr(\"x2\", function(d) { return d.target.x; })\n",
        "        .attr(\"y2\", function(d) { return d.target.y; });\n",
        "\n",
        "    node.attr(\"transform\", function(d) { return \"translate(\" + d.x + \",\" + d.y + \")\"; });\n",
        "  });\n",
        "});"
       ],
       "metadata": {},
       "output_type": "display_data",
       "text": [
        "<IPython.core.display.Javascript at 0x27b67d0>"
       ]
      }
     ],
     "prompt_number": 5
    },
    {
     "cell_type": "markdown",
     "metadata": {},
     "source": [
      "We can load the python code that generates the json by putting it in the ~/.ipython/profile_default/startup folder.\n",
      "\n",
      "We can alter the dashboard directly by modifying creating a template that [overwrites](http://jinja.pocoo.org/docs/templates/#template-inheritance) the 'site block' in [IPython/html/templates/tree.html](https://github.com/ipython/ipython/blob/master/IPython/html/templates/tree.html).\n",
      "\n",
      "Alternatively We may be able add a network view of the dashboard as an [extension](http://blog.safaribooksonline.com/2013/12/18/ipython-notebook-plugins/) modifying ~/.ipython/profile_default/static/custom/custom.js (need to find the IPython.event that fires when the dashboard first loads). Check [notebooklist.js](https://github.com/ipython/ipython/blob/2.x/IPython/html/static/tree/js/notebooklist.js) for the relevant event handlers.\n",
      "\n",
      "Note that we can use nice icons to toggle between [graph view](http://fortawesome.github.io/Font-Awesome/icon/code-fork/) and [list view](http://fortawesome.github.io/Font-Awesome/icon/list-ul/)\n",
      "\n",
      "Should check the d3.js examples page again for hoe the code should look when placed directly into a webpage (I think it's pretty much the same as what we have here)"
     ]
    },
    {
     "cell_type": "markdown",
     "metadata": {},
     "source": [
      "Javascript progress\n",
      "\n",
      "Javascript functions/classes Toolbar and MainToolBar are defined within notebook pages but are not defined at the dashboard. The later is derived from the former and creates the main notebook toolbar. It has functions that allow adding new buttons which is documented in custom.js.\n",
      "\n",
      "We can infact add these to the dashboard by pasting in the code that defines them into the dashboard console. Once that has been done executing:\n",
      "\n",
      "'IPython.toolbar = new IPython.MainToolBar('#notebook_toolbar');'\n",
      "\n",
      "In the dashboard console generates the main notebook toolbar in the dashboard (note we have changed #maintoolbar-container to #notebook_toolbar as the div id for the toolbar in the dashboard is 'notebook_toolbar')\n",
      "                                                                               \n",
      "I found this out by using githubs search facility and looking for an instance of 'new Toolbar'"
     ]
    },
    {
     "cell_type": "markdown",
     "metadata": {},
     "source": [
      "Update:\n",
      "    \n",
      "So we can just paste in Toolbar.js then execute:"
     ]
    },
    {
     "cell_type": "raw",
     "metadata": {},
     "source": [
      "IPython.toolbar = new IPython.ToolBar('#notebook_buttons')\n",
      "IPython.toolbar.add_buttons_group([\n",
      "           {\n",
      "             label:'my button',\n",
      "             icon:'icon-hdd',\n",
      "             callback:function(){alert('hoho')},\n",
      "             id : 'my_button_id',    // this is optional\n",
      "           },\n",
      "           {\n",
      "             label:'my second button',\n",
      "             icon:'icon-play',\n",
      "             callback:function(){alert('be carefull I cut')}\n",
      "           }\n",
      "         ],\n",
      "         \"my_button_group_id\"\n",
      ")"
     ]
    },
    {
     "cell_type": "raw",
     "metadata": {},
     "source": [
      "or just use:\n",
      "\n",
      "$.getScript(\"static/notebook/js/toolbar.js\", function(){\n",
      "\n",
      "   IPython.toolbar = new IPython.ToolBar('#notebook_buttons')\n",
      "   IPython.toolbar.add_buttons_group([\n",
      "           {\n",
      "             label:'graph view',\n",
      "             icon:'icon-code-fork',\n",
      "             callback:function(){alert('hoho')},\n",
      "             id : 'graph_button_id',    // this is optional\n",
      "           },\n",
      "         ],\n",
      "         \"graph_button_group_id\"\n",
      "    )\n",
      "});"
     ]
    },
    {
     "cell_type": "markdown",
     "metadata": {},
     "source": [
      "Can instead manually add:\n",
      "    \n",
      "<button id=\"my_button_group_id\" title=\"my button\" class=\"btn btn-small\"><i class=\"icon-code-fork\"></i></button>\n",
      "\n",
      "inside <span id=\"notebook_buttons\" class=\"pull-right toolbar_buttons\"></span>"
     ]
    },
    {
     "cell_type": "markdown",
     "metadata": {},
     "source": [
      "Or use this function to do so:"
     ]
    },
    {
     "cell_type": "raw",
     "metadata": {},
     "source": [
      "(function(){\n",
      "    var graph_button = $('<button/>')\n",
      "                .addClass('btn')\n",
      "                .attr(\"title\", \"graph view\")\n",
      "                .append(\n",
      "                    $(\"<i/>\").addClass(\"icon-code-fork\")\n",
      "                );\n",
      "    graph_button.attr('id', 'graph_view');\n",
      "    graph_button.click(function(){alert('hoho')});\n",
      "    $('#notebook_buttons').append(graph_button)\n",
      "    }());"
     ]
    },
    {
     "cell_type": "markdown",
     "metadata": {},
     "source": [
      "Now we need to actually draw the graph, we can clear the exist notebook list via:"
     ]
    },
    {
     "cell_type": "raw",
     "metadata": {},
     "source": [
      "$('#notebook_list').empty()"
     ]
    },
    {
     "cell_type": "markdown",
     "metadata": {},
     "source": [
      "Then add in our mapview via:"
     ]
    },
    {
     "cell_type": "markdown",
     "metadata": {},
     "source": [
      "require(['custom/map_gen'])\n",
      "\n",
      "where map_gen.js contains a slightly modified version of the d3 javascript above."
     ]
    },
    {
     "cell_type": "markdown",
     "metadata": {},
     "source": [
      "Lots of progress, mapview works but we need to execute the python that creates the json tree file manually in the notebook directory. To solve this we will start an ipython kernel from the dashboard then use it to execute our code then close it. We can do this using the restful api:\n",
      "\n",
      "To start a notebook-less kernel we post\n",
      "\n",
      "$.post('/api/kernels')\n",
      " \n",
      "and recieve the kernel id in the responseText: {\"id\":\"ceebc6c2-1879-4041-a6d1-531b9d4f60d0\"}\"\n",
      "\n",
      "To delete we use http delete and the kernel id (jquery doesn't have a special method so we do so manually using ajax) e.g.:\n",
      "\n",
      "$.ajax({\n",
      "\ttype: 'DELETE',\n",
      "\turl: '/api/kernels/ceebc6c2-1879-4041-a6d1-531b9d4f60d0',\n",
      "});"
     ]
    },
    {
     "cell_type": "markdown",
     "metadata": {},
     "source": [
      "Experimenting with putting the tree generation code in profile_default/startup, this gets executed everytime a new kernel is created including when we use the post method above. Then we could some kind of test in the code that would check whether the kernel is the one we just launched and not just a regular notebook and if so run the tree generation."
     ]
    },
    {
     "cell_type": "code",
     "collapsed": false,
     "input": [
      "import IPython\n",
      "print(IPython.kernel.get_connection_info())"
     ],
     "language": "python",
     "metadata": {},
     "outputs": []
    },
    {
     "cell_type": "markdown",
     "metadata": {},
     "source": [
      "The problem with this is that the kernel doesn't know anything about the front end so there is no obvious way to check we have the right kernel. Launching a normal notebook adds to the session_list js variable accessible from the dashboard whilst launching via the .post does not - can we use this?"
     ]
    },
    {
     "cell_type": "code",
     "collapsed": false,
     "input": [
      "IPython.get_ipython()=ip\n",
      "ip.kernel.session.config"
     ],
     "language": "python",
     "metadata": {},
     "outputs": []
    },
    {
     "cell_type": "code",
     "collapsed": false,
     "input": [
      "ip.get_parent()"
     ],
     "language": "python",
     "metadata": {},
     "outputs": []
    },
    {
     "cell_type": "markdown",
     "metadata": {},
     "source": [
      "Have not found a way to access an attribute from python that in any way indicates the running notebooks"
     ]
    },
    {
     "cell_type": "code",
     "collapsed": false,
     "input": [
      "ip = IPython.get_ipython()\n",
      "#shell.user_ns.get('x', None)"
     ],
     "language": "python",
     "metadata": {},
     "outputs": []
    },
    {
     "cell_type": "code",
     "collapsed": false,
     "input": [
      "ip.kernel.shell.user_ns"
     ],
     "language": "python",
     "metadata": {},
     "outputs": []
    },
    {
     "cell_type": "markdown",
     "metadata": {},
     "source": [
      "Ok so this doesn't seem to be getting anywhere BUT maybe I can use [events](https://github.com/ipython/ipython/pull/5188), specifically the [post_run_cell](https://github.com/ipython/ipython/blob/4c8ff1deef08d0ababe64885225c17d35fd14398/IPython/core/events.py) event combined with registering a [callback](https://github.com/ipython/ipython/blob/4c8ff1deef08d0ababe64885225c17d35fd14398/docs/source/config/callbacks.rst) that examines the current cell to look for cases where new notebook links appear (or old ones disappear) and tie recalculating the notebook tree to those events.\n",
      "\n",
      "If post run_cell executes after the next cell has gained focus we can access the markdown cell via:\n",
      "\n",
      "var cell = IPython.notebook.get_cell(IPython.notebook.get_selected_index()-1)\n",
      "\n",
      "otherwise it will be:\n",
      "\n",
      "var cell = IPython.notebook.get_cell(IPython.notebook.get_selected_index())\n",
      "\n",
      "We can then pass this cell contents into some Python that decides whether or not to update or check whether to update in js and then run the tree generation python code. We will probably need some kind of cacheing/global namespace so that we can stay aware of the notebook links present in the current document."
     ]
    },
    {
     "cell_type": "code",
     "collapsed": false,
     "input": [],
     "language": "python",
     "metadata": {},
     "outputs": []
    },
    {
     "cell_type": "markdown",
     "metadata": {},
     "source": [
      "Victory! So I can infact construct a kernel and pass messages to it from javascript.\n",
      "\n",
      "As before we initiate the kernel via var r = $.post('/api/kernels') and extract the kernel id from the responseText to a variable. jQuery.parseJSON(r.responseText).id\n",
      "\n",
      "Then we construct the js kernel object by running kernel.js, currently I have to use [this version](https://github.com/minrk/singlecell/blob/3ed1eb595aa826d7b23542d0c1bba983ebd565d5/static/ipython/js/kernel.js) as the IPython 2.0 standard version calls some extra methods (like bind_events) that do not appear to be defined within IPython and I haven't yet figured out where they come from.\n",
      "\n",
      "Once we have required this version of kernel.js we construct a new kernel variable via:\n",
      "\n",
      "IPython.dash_kernel = IPython.Kernel('/api/kernels')\n",
      "var ws_url = 'ws' + document.location.origin.substring(4);\n",
      "IPython.dash_kernel._kernel_started({kernel_id: dash_kernel_id, ws_url: ws_url});\n",
      "\n",
      "Now we can execute code on the kernel via:\n",
      "\n",
      "c_function = function(){}\n",
      "IPython.dash_kernel.execute('print(1)',c_function)\n",
      "\n",
      "the callback function can be used to do something with the results if we wish to.\n",
      "\n",
      "Shutting down the kernel is as before:\n",
      "\n",
      "$.ajax({ type: 'DELETE', url: '/api/kernels/' + dash_kernel_id, });\n",
      "\n",
      "All together it looks like:"
     ]
    },
    {
     "cell_type": "code",
     "collapsed": false,
     "input": [
      "%%javascript\n",
      "\n",
      "require(['custom/basic_kernel'])\n",
      "var IPython = (function (IPython) {\n",
      "\n",
      "    var update_tree = function(){\n",
      "        $.ajaxSetup({async:false})\n",
      "        var python_code = \"with open('test_f.txt', 'w') as f:\\n    f.write('some test stuff from the kernel')\"\n",
      "        var callbk_function = function(){}\n",
      "        \n",
      "        var kernel_response = $.post('/api/kernels')\n",
      "        var dash_kernel_id = $.parseJSON(kernel_response.responseText).id\n",
      "        var dash_kernel = new IPython.Kernel('/api/kernels')\n",
      "        var ws_url = 'ws' + document.location.origin.substring(4)\n",
      "        dash_kernel._kernel_started({kernel_id: dash_kernel_id, ws_url: ws_url})\n",
      "        \n",
      "        var run_code = function(){\n",
      "            dash_kernel.execute(python_code, callbk_function)\n",
      "        }\n",
      "        \n",
      "        var close_kernel = function(){\n",
      "            $.ajax({ type: 'DELETE', url: '/api/kernels/' + dash_kernel_id, })\n",
      "        }\n",
      "        \n",
      "        setTimeout(run_code,50)\n",
      "        setTimeout(close_kernel,50)\n",
      "        \n",
      "        $.ajaxSetup({async:true})\n",
      "    }\n",
      "\n",
      "    IPython.update_tree = update_tree\n",
      "    return IPython\n",
      "}(IPython))"
     ],
     "language": "python",
     "metadata": {},
     "outputs": [
      {
       "javascript": [
        "\n",
        "require(['custom/basic_kernel'])\n",
        "var IPython = (function (IPython) {\n",
        "\n",
        "    var update_tree = function(){\n",
        "        var python_code = \"with open('test_f.txt', 'w') as f:\\n    f.write('some test stuff from the kernel')\"\n",
        "        var callbk_function = function(){}\n",
        "        \n",
        "        var string_id = $.post('/api/kernels').responseText\n",
        "        var dash_kernel_id = jQuery.parseJSON(string_id).id\n",
        "        var dash_kernel = IPython.Kernel('/api/kernels')\n",
        "        var ws_url = 'ws' + document.location.origin.substring(4)\n",
        "        \n",
        "        dash_kernel._kernel_started({kernel_id: dash_kernel_id, ws_url: ws_url})\n",
        "        dash_kernel.execute(python_code, callbk_function)\n",
        "        $.ajax({ type: 'DELETE', url: '/api/kernels/' + dash_kernel_id, })\n",
        "    }\n",
        "\n",
        "    IPython.update_tree = update_tree\n",
        "    return IPython\n",
        "}(IPython))"
       ],
       "metadata": {},
       "output_type": "display_data",
       "text": [
        "<IPython.core.display.Javascript at 0x16f3210>"
       ]
      }
     ],
     "prompt_number": 6
    },
    {
     "cell_type": "markdown",
     "metadata": {},
     "source": [
      "We had to use setTimeout to delay some of the calls as setting up the channels is an async process (though it does not allow callbacks), simillarly we can't just pass the shutdown command to the execution callback because for some reason it doesn't fire."
     ]
    },
    {
     "cell_type": "markdown",
     "metadata": {},
     "source": [
      "Ok we have now updated the project to live at /home/clyde/Project/Code/Python/ipython_graphdash/\n",
      "\n",
      "If no json file is present the tree is automatically generated and hitting the refresh notebook icon regenerates the tree. We still have some async issues regarding starting the kernel but others have been solved by moving to a callback/promise model of execution.\n",
      "\n",
      "We need to flag tree regeneration (i.e. remove json.tree) if a markdown notebook link is added removed or modified.\n",
      "\n",
      "We also need to implement a colour picker. Can use [spectrum](https://github.com/bgrins/spectrum)"
     ]
    },
    {
     "cell_type": "code",
     "collapsed": false,
     "input": [],
     "language": "python",
     "metadata": {},
     "outputs": []
    }
   ],
   "metadata": {}
  }
 ]
}