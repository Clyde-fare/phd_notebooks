{
 "metadata": {
  "name": "",
  "signature": "sha256:740d2ba474aa94120b858a31881addcaee254143e903e7b8f4d9bb8e72848d70"
 },
 "nbformat": 3,
 "nbformat_minor": 0,
 "worksheets": [
  {
   "cells": [
    {
     "cell_type": "markdown",
     "metadata": {},
     "source": [
      "Initial 23/10/13, modified 20/01/14, and again on 13/02/2014, and again 26/02/2014"
     ]
    },
    {
     "cell_type": "markdown",
     "metadata": {},
     "source": [
      "<font color=red>Alpha release of ccnotebook</font>\n",
      "\n",
      "Separate remote running on the cluster, utils to check and display calculations in the notebook, expansion of gaussian calculator."
     ]
    },
    {
     "cell_type": "markdown",
     "metadata": {},
     "source": [
      "Summer plan 06/05/2014-06/09/2014\n",
      "\n",
      "4 months, 17 weeks - 2 weeks holiday = 15 weeks.\n",
      "\n",
      "Tasks:\n",
      "\n",
      "1. Complete and write instructions for preparation of Oniom calculations for proteins involving non-standard residues using amber forcefields including generation of snapshots via gromacs (talking to Lee).\n",
      "- software\n",
      "- applications\n",
      "-- Jasper system: dronpa (with experiment) - aim to identify photocycle, experiments, analysis, calculations\n",
      "\n",
      "2. Summarise work on graphene.\n",
      "\n",
      "1) Summarise of current research and background literature,\n",
      "2) Perform calculations searching for self similarity (i.e. cases where ONIOM will work)\n",
      "3) Write up.\n",
      "\n",
      "3. PYP:\n",
      "\n",
      "1) Can we do projected frequencies with ONIOM at all?\n",
      "2) Find an appropriate CAS space to use with p_coumaric acid with and without protein environment.\n",
      "\n",
      "\n",
      "4. Quantum chemical notebook project: \n",
      "\n",
      "Implement & test new features, with UROP student (coming in July to apply notebooks to 3rd year labs)\n",
      "\n"
     ]
    },
    {
     "cell_type": "markdown",
     "metadata": {},
     "source": [
      "<font color=amber>Tidy up ase_extension, pbs_ase, ccnotebook, cclib, and molmod code. Either via forks, monkey patches, or submissions to the relevant libraries. Create conda packages for all libraries used in the projects, and a development conda environment where the code's are migrated to using IPython 2.0 </font> 75%"
     ]
    },
    {
     "cell_type": "markdown",
     "metadata": {},
     "source": [
      "<font color='red'>Use oniom automation routines to construct Lee's GFP calculation [input files](https://wiki.ch.ic.ac.uk/wiki/index.php?title=Guide_to_Creating_ONIOM_input_files_for_biomolecules)\n",
      "\n",
      "Complete and write instructions for preparation of Oniom calculations for proteins involving non-standard residues using amber forcefields</font> <font color=amber>Optionally also test against [MMP2\u00b7SB-3CT](http://chem.wayne.edu/schlegel/Software/oniomtoolTAO/TAOtutorial.html)</font> <font color='green'> Optionally include generation of snapshots via gromacs (talking to Lee)</font>"
     ]
    },
    {
     "cell_type": "markdown",
     "metadata": {},
     "source": [
      "<font color=red>Organise and summarise work on graphene.</font> <font color=green>Test hypothesis regarding the similarity of different graphene fragments</font> Meet Mike to assign work for a student to complete."
     ]
    },
    {
     "cell_type": "markdown",
     "metadata": {},
     "source": [
      "<font color=amber>Apply projected frequency code to fulvene</font>"
     ]
    },
    {
     "cell_type": "markdown",
     "metadata": {},
     "source": [
      "<font color=green>Complete normal mode analysis code</font>"
     ]
    },
    {
     "cell_type": "markdown",
     "metadata": {},
     "source": [
      "<font color=amber>Apply oniom automation to the protein [Dronpa](http://en.wikipedia.org/wiki/Dronpa) that Jasper is interested in</font>\n",
      "\n",
      "Dronpa - read papers, conduct experiment, analyse data."
     ]
    },
    {
     "cell_type": "markdown",
     "metadata": {},
     "source": [
      "<font color=amber>Talk to Henry Zeppa about the cc notebook project</font>"
     ]
    },
    {
     "cell_type": "markdown",
     "metadata": {},
     "source": [
      "<font color=amber>Find a test case small molecule that reproduces the problems found in attempting to run an IRC on p_coumaric acid's s1 transition state using CIS and s0 transition state using HF (Examine whether this is due to implicit single reference treatment involved with HF/CIS) (Ask M. Robb?)</font>"
     ]
    },
    {
     "cell_type": "markdown",
     "metadata": {},
     "source": [
      "<font color='green'>Find an appropriate CAS space to use with p_coumaric acid with and without protein environment. (talk to Lee)\n",
      "\n",
      "Find out if there is a hack to follow the gradients of a cas root=x calculation if we are state averaging over >x states. (is this in the cas benzene [tutorial](https://wiki.ch.ic.ac.uk/wiki/index.php?title=Resgrp:comp-photo-benzene-tutorial#Optimising_a_ground_state_minimum_starting_from_conical_intersection_geometry)?)</font>"
     ]
    },
    {
     "cell_type": "markdown",
     "metadata": {},
     "source": [
      "<font color='green'>Meet with Mike Bearpark and Mike Robb, about the feasability of adding analytic gradients to RAS and use of iterative diagonalisation techniques for frequency calculations.</font>"
     ]
    },
    {
     "cell_type": "markdown",
     "metadata": {},
     "source": [
      "<font color=green>Find out from Valentina what her method for using RAS to correctly compute the states of cpd was</font>"
     ]
    },
    {
     "cell_type": "markdown",
     "metadata": {},
     "source": [
      "<font color=green>Look into extracting computational chemistry abstracts and using citation networking [tools](http://www.scottbot.net/HIAL/?p=17824) to create a more effective tool to search the literature</font>"
     ]
    },
    {
     "cell_type": "markdown",
     "metadata": {},
     "source": [
      "**Solved**"
     ]
    },
    {
     "cell_type": "markdown",
     "metadata": {},
     "source": [
      "<s><font color=amber>Organise notebooks into a tree with a view to eventually making branches into papers/chapters</font></s>"
     ]
    },
    {
     "cell_type": "markdown",
     "metadata": {},
     "source": [
      "<s>Complete initial construction of PyGauss and prepare talk for Pydata</s>"
     ]
    },
    {
     "cell_type": "markdown",
     "metadata": {},
     "source": [
      "<s>Complete Introduction to Programming with Python workshops</s>"
     ]
    },
    {
     "cell_type": "markdown",
     "metadata": {},
     "source": [
      "<s>Complete First Draft for the three ~2 hour Introduction to Programming with Python workshops</s>"
     ]
    },
    {
     "cell_type": "markdown",
     "metadata": {},
     "source": [
      "<s>Complete programming with workshops material.</s>"
     ]
    },
    {
     "cell_type": "markdown",
     "metadata": {},
     "source": [
      "<s>Teach and mark 3rd year undergraduate labs.</s>"
     ]
    },
    {
     "cell_type": "markdown",
     "metadata": {},
     "source": [
      "<s>Test projected frequency code on small molecules to check what it does if there is less than or greater than one negative eigenvalue.</s>\n",
      "\n",
      "<b>Projected frequency code projects out the gradient this necessarily leaves all remaining coordinates at a minimum</b> \n",
      ">Proof by contradiction: assume a coordinate vector orthogonal **a** to the maximum gradient vector **g**, has finite gradient, it then becomes possible to construct a new vector **b** out of a linear combination of **a** and **g** that has a larger gradient than **g** which by definition is impossible therefore **a** must have zero gradient."
     ]
    }
   ],
   "metadata": {}
  }
 ]
}