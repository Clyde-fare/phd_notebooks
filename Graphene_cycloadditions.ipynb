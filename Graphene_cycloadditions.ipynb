{
 "metadata": {
  "name": ""
 },
 "nbformat": 3,
 "nbformat_minor": 0,
 "worksheets": [
  {
   "cells": [
    {
     "cell_type": "heading",
     "level": 1,
     "metadata": {},
     "source": [
      "1,3-Dipolar Cycloadditions to graphene"
     ]
    },
    {
     "cell_type": "markdown",
     "metadata": {},
     "source": [
      "In this mini project we are attempting to reproduce the results of Yang Cao and K.N. Houk's paper on [cycloadditions to graphene](http://pubs.rsc.org/en/Content/ArticleLanding/2011/JM/C0JM02422H)\n",
      "\n",
      "\n",
      "Once that is done we will then attempt to perform the same calculations using the ONIOM scheme.\n",
      "\n",
      "The aim is to discover whether ONIOM can applied to these kinds of systems. The paper cited above also mentioned Basis set superposition error (BSSE) and a further [paper](http://pubs.acs.org/doi/abs/10.1021/jp001970b) considers BSSE for several transition states including diels-alder type reactions, whether or not these kind of errors are significant for the system we are considering is a secondary question. \n"
     ]
    },
    {
     "cell_type": "markdown",
     "metadata": {},
     "source": [
      "Calculations will be performed in the cycloadd directory"
     ]
    },
    {
     "cell_type": "code",
     "collapsed": false,
     "input": [
      "import pandas, cc_notebook_utils\n",
      "from ASE_utils import *\n",
      "import numpy as np\n",
      "from webbrowser import open as open_log\n",
      "from math import pi\n",
      "from IPython.core.display import HTML, Image\n",
      "from ase.io import read, write\n",
      "from ase.calculators.gaussian import Gaussian\n",
      "from glob import glob"
     ],
     "language": "python",
     "metadata": {},
     "outputs": [
      {
       "output_type": "stream",
       "stream": "stderr",
       "text": [
        "WARNING: Neither ~/.pyp_util.ini nor ./pbs_util.ini exist."
       ]
      }
     ],
     "prompt_number": 1
    },
    {
     "cell_type": "code",
     "collapsed": true,
     "input": [
      "cd cycloadd/"
     ],
     "language": "python",
     "metadata": {},
     "outputs": [
      {
       "output_type": "stream",
       "stream": "stdout",
       "text": [
        "/home/clyde/Dropbox/Project Stuff/Notebooks/cycloadd\n"
       ]
      }
     ],
     "prompt_number": 2
    },
    {
     "cell_type": "heading",
     "level": 2,
     "metadata": {},
     "source": [
      "Reaction Energies"
     ]
    },
    {
     "cell_type": "markdown",
     "metadata": {},
     "source": [
      "To begin with we build xyz files of nano 0_0, 1_1, 2_2, 3_3, 4_4, 5_5 and 6_6 nano graphene clusters that Cao and Houk use in their calculations, along with the azomethinine and carbonyl ylide molecules. We do this starting with the ase builder to create straight sheets of graphene and then we use avogadro to cut them into the required size. See the graphene_building_exp notebook for details. We are only focusing on size 3_3 and 4_4 here so we only select graphene clusters/reaction products of that size."
     ]
    },
    {
     "cell_type": "code",
     "collapsed": false,
     "input": [
      "xyz_files = [xyz_file for xyz_file in glob('xyz_files/init/*.xyz') if '3_3' in xyz_file or '4_4' in xyz_file or 'ylide' in xyz_file]\n",
      "for xyz_file in xyz_files:\n",
      "    compound = read('{f}'.format(f=xyz_file))\n",
      "    compound.rotate('x',pi/2)\n",
      "    compound.rotate('z',pi/2)\n",
      "    compound.write('{f}.png'.format(f=xyz_file.split('.xyz')[0]))\n",
      "    \n",
      "html_strings = ['<img src=\"/files/cycloadd/{f}\"/>'.format(f=img) for img in glob('xyz_files/init/*.png')]\n",
      "total_html = \"\".join(html_strings)\n",
      "HTML(total_html) "
     ],
     "language": "python",
     "metadata": {},
     "outputs": [
      {
       "html": [
        "<img src=\"/files/cycloadd/xyz_files/init/3_3_cent_carbonyl.png\"/><img src=\"/files/cycloadd/xyz_files/init/3_3_edg_carbonyl.png\"/><img src=\"/files/cycloadd/xyz_files/init/3_3_edg_azomethinel.png\"/><img src=\"/files/cycloadd/xyz_files/init/3_3_corn_carbonyl.png\"/><img src=\"/files/cycloadd/xyz_files/init/3_3_graphene.png\"/><img src=\"/files/cycloadd/xyz_files/init/3_3_cent_azomethine.png\"/><img src=\"/files/cycloadd/xyz_files/init/4_4_corn_azomethine.png\"/><img src=\"/files/cycloadd/xyz_files/init/3_3_corn_azomethine.png\"/><img src=\"/files/cycloadd/xyz_files/init/4_4_cent_azomethine.png\"/><img src=\"/files/cycloadd/xyz_files/init/azomethine_ylide.png\"/><img src=\"/files/cycloadd/xyz_files/init/3_3_edg_azomethine.png\"/><img src=\"/files/cycloadd/xyz_files/init/carbonyl_ylide.png\"/><img src=\"/files/cycloadd/xyz_files/init/4_4_cent_carbonyl.png\"/><img src=\"/files/cycloadd/xyz_files/init/4_4_edg_carbonyl.png\"/><img src=\"/files/cycloadd/xyz_files/init/4_4_corn_carbonyl.png\"/><img src=\"/files/cycloadd/xyz_files/init/4_4_edg_azomethine.png\"/><img src=\"/files/cycloadd/xyz_files/init/4_4_graphene.png\"/>"
       ],
       "output_type": "pyout",
       "prompt_number": 3,
       "text": [
        "<IPython.core.display.HTML at 0x46bfb90>"
       ]
      }
     ],
     "prompt_number": 3
    },
    {
     "cell_type": "markdown",
     "metadata": {},
     "source": [
      "The calculates energies at the B3LYP_6_31G(d)//HF_STO3G level so we first we optimise the geometry of the graphene sheets, rxn products and ylides at the HF-STO-3G level."
     ]
    },
    {
     "cell_type": "code",
     "collapsed": true,
     "input": [
      "#to load previously submitted calc after kernel reset, comment out get_potential_energy() rerun cell and then run ASE_utils.check_calcs\n",
      "#initial xyz files optimised with avogadro's forcefield optimiser\n",
      "xyz_files = [xyz_file for xyz_file in glob('xyz_files/init/*.xyz') if '3_3' in xyz_file or '4_4' in xyz_file or 'ylide' in xyz_file]\n",
      "ylides_xyz = sorted([xyz_f for xyz_f in xyz_files if 'ylide' in xyz_f])\n",
      "graphenes_xyz =  sorted([xyz_f for xyz_f in xyz_files if 'graphene' in xyz_f])\n",
      "product_xyz = sorted([xyz_f for xyz_f in xyz_files if 'ylide' not in xyz_f and 'graphene' not in xyz_f])\n",
      "\n",
      "hf_molecules = []\n",
      "for xyz_file in xyz_files:\n",
      "    base_name = os.path.split(xyz_file)[1].replace('.xyz', '')\n",
      "    name = 'HF_STO3G_HF_STO3G_' + base_name \n",
      "    hf_molecule = read(xyz_file)\n",
      "    hf_molecule.set_calculator(Gaussian(label=name, method='HF', basis='STO-3G', opt='opt'))\n",
      "    hf_molecule.calc.set_job(nodes=4, memory=4*1400, time=5)\n",
      "    #hf_molecule.get_potential_energy()\n",
      "    hf_molecules.append(hf_molecule)\n",
      "\n",
      "check_calcs(hf_molecules)"
     ],
     "language": "python",
     "metadata": {},
     "outputs": [
      {
       "output_type": "pyout",
       "prompt_number": 4,
       "text": [
        "'Calculations complete'"
       ]
      }
     ],
     "prompt_number": 4
    },
    {
     "cell_type": "markdown",
     "metadata": {},
     "source": [
      "Then we run B3LYP/6-31G(d) single point calculations on these optimised geometries"
     ]
    },
    {
     "cell_type": "code",
     "collapsed": false,
     "input": [
      "#to load previously submitted calc after kernel reset, reload the previous cell, comment out get_potential_energy() rerun and then check_calcs \n",
      "\n",
      "dft_hf_molecules=[]\n",
      "for hf_molecule in hf_molecules:\n",
      "    #write out xyz files for the optimised structures\n",
      "    base_name = hf_molecule.calc.label.split('HF_STO3G_HF_STO3G_')[1]\n",
      "    #create a new molecules based on the optimised geometry positions\n",
      "    #do I trust that the hf_molecule is using the optimised geometry not the initial one?????\n",
      "    hf_molecule.write('xyz_files/hf_opt/HF_STO3G_' + base_name +' .xyz')\n",
      "    dft_molecule = read(hf_molecule.calc.label +'.log')\n",
      "    name = 'B3LYP_631Gd_HF_STO3G_' + base_name\n",
      "    dft_molecule.set_calculator(Gaussian(label=name, method='B3LYP', basis='6-31G(d)'))\n",
      "    dft_molecule.calc.set_job(nodes=8, memory=8*1400, time=5)\n",
      "    #dft_molecule.get_potential_energy()\n",
      "    dft_hf_molecules.append(dft_molecule)\n",
      "    \n",
      "check_calcs(dft_hf_molecules)"
     ],
     "language": "python",
     "metadata": {},
     "outputs": [
      {
       "output_type": "pyout",
       "prompt_number": 5,
       "text": [
        "'Calculations complete'"
       ]
      }
     ],
     "prompt_number": 5
    },
    {
     "cell_type": "code",
     "collapsed": false,
     "input": [
      "rxn_products = [molecule for molecule in dft_hf_molecules if 'graphene' not in molecule.calc.label and 'ylide' not in molecule.calc.label]\n",
      "graphenes = [molecule for molecule in dft_hf_molecules if 'graphene' in molecule.calc.label]\n",
      "ylides = [molecule for molecule in dft_hf_molecules if 'ylide' in molecule.calc.label]"
     ],
     "language": "python",
     "metadata": {},
     "outputs": [],
     "prompt_number": 6
    },
    {
     "cell_type": "markdown",
     "metadata": {},
     "source": [
      "Now we calculate the reaction energies via $\\Delta{}E_{r} = E_{product}\\space - (E_{graphene}\\space + E_{ylide}\\space)$"
     ]
    },
    {
     "cell_type": "code",
     "collapsed": false,
     "input": [
      "#to get the title we use this function to strip away the extraneous parts of the label\n",
      "title_f = lambda e: \"_\".join(e.calc.label.split('_')[4:])\n",
      "    \n",
      "def equiv_ylide_f(prod):\n",
      "    #later we need to choose ylides calculated at different levels of theory so we add a method check here\n",
      "    method_str = \"_\".join(prod.calc.label.split('_')[0:4])\n",
      "    ylide_str = 'azo' if 'azo' in title_f(prod) else 'carb'\n",
      "    return next(y for y in ylides if ylide_str in y.calc.label and method_str in y.calc.label)\n",
      "\n",
      "def equiv_graphene_f(prod):\n",
      "    #later we need to choose graphenes calculated at different levels of theory so we add a method check here\n",
      "    method_str = \"_\".join(prod.calc.label.split('_')[0:4])\n",
      "    size_str = title_f(prod)[0:3]\n",
      "    return next(g for g in graphenes if size_str in title_f(g)[0:4] and method_str in g.calc.label)"
     ],
     "language": "python",
     "metadata": {},
     "outputs": [],
     "prompt_number": 7
    },
    {
     "cell_type": "code",
     "collapsed": false,
     "input": [
      "#sorting so that we get the same order as given in the paper\n",
      "rxn_products.sort(key=lambda e: ('4_4' in e.calc.label, 'carb' in e.calc.label, e.calc.label))\n",
      "\n",
      "titles = []\n",
      "rxn_energies = []\n",
      "for mol in rxn_products:\n",
      "    title = title_f(mol)\n",
      "    equiv_graphene = equiv_graphene_f(mol)\n",
      "    equiv_ylide = equiv_ylide_f(mol)\n",
      "    rxn_e = 23.060542301388647*(mol.get_potential_energy() - equiv_graphene.get_potential_energy() - equiv_ylide.get_potential_energy())\n",
      "    titles.append(title)\n",
      "    rxn_energies.append(rxn_e)\n",
      "\n",
      "rxn_energies = np.array(rxn_energies)    \n",
      "data = pandas.Series(rxn_energies,titles)\n",
      "\n",
      "#UB3LYP\n",
      "#lit_rxn_energies = np.array([10.9, -29.5, -45.4, -11.9, -54.4, -70.6, 6.1, -34.5, -44.7, -16.8, -59.7, -68.4])\n",
      "#RB3LYP\n",
      "lit_rxn_energies = np.array([10.9, -21.4, -39.3, -11.9, -46.6, -64.7, 7.1, -17.0, -33.3, -15.8, -42.2, -59.4])\n",
      "lit_data = pandas.Series(lit_rxn_energies ,titles)"
     ],
     "language": "python",
     "metadata": {},
     "outputs": [
      {
       "output_type": "stream",
       "stream": "stderr",
       "text": [
        "/home/clyde/Software/my_ase/ase/calculators/gaussian.py:772: RuntimeWarning: Prior calculation already performed, not recomputing\n",
        "  warnings.warn(RuntimeWarning('Prior calculation already performed, not recomputing'))\n"
       ]
      }
     ],
     "prompt_number": 8
    },
    {
     "cell_type": "markdown",
     "metadata": {},
     "source": [
      "Unfortunately these in no way match the reported reaction energies:"
     ]
    },
    {
     "cell_type": "code",
     "collapsed": false,
     "input": [
      "#energy in Kcal/mol\n",
      "d = {'Rxn Energy': data, 'Lit rxn energy': lit_data , 'delta': data - lit_data}\n",
      "pandas.DataFrame(d)"
     ],
     "language": "python",
     "metadata": {},
     "outputs": [
      {
       "html": [
        "<div style=\"max-height:1000px;max-width:1500px;overflow:auto;\">\n",
        "<table border=\"1\" class=\"dataframe\">\n",
        "  <thead>\n",
        "    <tr style=\"text-align: right;\">\n",
        "      <th></th>\n",
        "      <th>Lit rxn energy</th>\n",
        "      <th>Rxn Energy</th>\n",
        "      <th>delta</th>\n",
        "    </tr>\n",
        "  </thead>\n",
        "  <tbody>\n",
        "    <tr>\n",
        "      <td><strong>3_3_cent_azomethine</strong></td>\n",
        "      <td> 10.9</td>\n",
        "      <td> 19.621533</td>\n",
        "      <td>  8.721533</td>\n",
        "    </tr>\n",
        "    <tr>\n",
        "      <td><strong>3_3_corn_azomethine</strong></td>\n",
        "      <td>-21.4</td>\n",
        "      <td>-26.041332</td>\n",
        "      <td> -4.641332</td>\n",
        "    </tr>\n",
        "    <tr>\n",
        "      <td><strong>3_3_edg_azomethine</strong></td>\n",
        "      <td>-39.3</td>\n",
        "      <td>-45.728503</td>\n",
        "      <td> -6.428503</td>\n",
        "    </tr>\n",
        "    <tr>\n",
        "      <td><strong>3_3_cent_carbonyl</strong></td>\n",
        "      <td>-11.9</td>\n",
        "      <td> -8.399968</td>\n",
        "      <td>  3.500032</td>\n",
        "    </tr>\n",
        "    <tr>\n",
        "      <td><strong>3_3_corn_carbonyl</strong></td>\n",
        "      <td>-46.6</td>\n",
        "      <td>-52.086994</td>\n",
        "      <td> -5.486994</td>\n",
        "    </tr>\n",
        "    <tr>\n",
        "      <td><strong>3_3_edg_carbonyl</strong></td>\n",
        "      <td>-64.7</td>\n",
        "      <td>-70.958528</td>\n",
        "      <td> -6.258528</td>\n",
        "    </tr>\n",
        "    <tr>\n",
        "      <td><strong>4_4_cent_azomethine</strong></td>\n",
        "      <td>  7.1</td>\n",
        "      <td> 20.093420</td>\n",
        "      <td> 12.993420</td>\n",
        "    </tr>\n",
        "    <tr>\n",
        "      <td><strong>4_4_corn_azomethine</strong></td>\n",
        "      <td>-17.0</td>\n",
        "      <td>-28.898446</td>\n",
        "      <td>-11.898446</td>\n",
        "    </tr>\n",
        "    <tr>\n",
        "      <td><strong>4_4_edg_azomethine</strong></td>\n",
        "      <td>-33.3</td>\n",
        "      <td>-45.232456</td>\n",
        "      <td>-11.932456</td>\n",
        "    </tr>\n",
        "    <tr>\n",
        "      <td><strong>4_4_cent_carbonyl</strong></td>\n",
        "      <td>-15.8</td>\n",
        "      <td> -8.147082</td>\n",
        "      <td>  7.652918</td>\n",
        "    </tr>\n",
        "    <tr>\n",
        "      <td><strong>4_4_corn_carbonyl</strong></td>\n",
        "      <td>-42.2</td>\n",
        "      <td>-53.834043</td>\n",
        "      <td>-11.634043</td>\n",
        "    </tr>\n",
        "    <tr>\n",
        "      <td><strong>4_4_edg_carbonyl</strong></td>\n",
        "      <td>-59.4</td>\n",
        "      <td>-71.256407</td>\n",
        "      <td>-11.856407</td>\n",
        "    </tr>\n",
        "  </tbody>\n",
        "</table>\n",
        "</div>"
       ],
       "output_type": "pyout",
       "prompt_number": 9,
       "text": [
        "                     Lit rxn energy  Rxn Energy      delta\n",
        "3_3_cent_azomethine            10.9   19.621533   8.721533\n",
        "3_3_corn_azomethine           -21.4  -26.041332  -4.641332\n",
        "3_3_edg_azomethine            -39.3  -45.728503  -6.428503\n",
        "3_3_cent_carbonyl             -11.9   -8.399968   3.500032\n",
        "3_3_corn_carbonyl             -46.6  -52.086994  -5.486994\n",
        "3_3_edg_carbonyl              -64.7  -70.958528  -6.258528\n",
        "4_4_cent_azomethine             7.1   20.093420  12.993420\n",
        "4_4_corn_azomethine           -17.0  -28.898446 -11.898446\n",
        "4_4_edg_azomethine            -33.3  -45.232456 -11.932456\n",
        "4_4_cent_carbonyl             -15.8   -8.147082   7.652918\n",
        "4_4_corn_carbonyl             -42.2  -53.834043 -11.634043\n",
        "4_4_edg_carbonyl              -59.4  -71.256407 -11.856407"
       ]
      }
     ],
     "prompt_number": 9
    },
    {
     "cell_type": "markdown",
     "metadata": {},
     "source": [
      "Part of the reason is that the geometries for the centrally substituted products have been calculated at the full B3LYP/6-31G(d) level whereas we have calculated the geometries for all at the HF/STO-3G level. So we recalculate those products at B3LYP/6-31G(d)//B3LYP/6-31G(d):"
     ]
    },
    {
     "cell_type": "code",
     "collapsed": false,
     "input": [
      "central_rxn_products = [prod for prod in rxn_products if 'cent' in prod.calc.label]\n",
      "dft_central_rxn_products = []\n",
      "for rxn_prod in central_rxn_products:\n",
      "    base_name = \"_\".join(rxn_prod.calc.label.split('_')[4:])\n",
      "    name = 'B3LYP_631Gd_B3LYP_631Gd_' + base_name\n",
      "    dft_rxn_prod = read(rxn_prod.calc.label + '.log')\n",
      "    dft_rxn_prod.set_calculator(Gaussian(label=name, method='B3LYP', basis='6-31G(d)', opt='opt'))\n",
      "    dft_rxn_prod.calc.set_job(nodes=4, memory=4*1400, time=5)\n",
      "    #dft_rxn_prod.get_potential_energy()\n",
      "    dft_central_rxn_products.append(dft_rxn_prod)\n",
      "check_calcs(dft_central_rxn_products)"
     ],
     "language": "python",
     "metadata": {},
     "outputs": [
      {
       "output_type": "pyout",
       "prompt_number": 10,
       "text": [
        "'Calculations complete'"
       ]
      }
     ],
     "prompt_number": 10
    },
    {
     "cell_type": "markdown",
     "metadata": {},
     "source": [
      "And we calculate the individual ylide molecules at B3LYP/6-31G(d)//B3LYP/6-31G(d). We try both high and low spin states."
     ]
    },
    {
     "cell_type": "code",
     "collapsed": false,
     "input": [
      "dft_ylides=[]\n",
      "for ylide_xyz_f in ylides_xyz:\n",
      "    for mult in [1,3]:\n",
      "        base_name = os.path.split(ylide_xyz_f)[1].replace('.xyz', '')\n",
      "        name = 'B3LYP_631Gd_B3LYP_631Gd_' + base_name + '_mult_' + str(mult)\n",
      "        dft_ylide = read(ylide_xyz_f)\n",
      "        dft_ylide.set_calculator(Gaussian(label=name, method='B3LYP', basis='6-31G(d)', opt='opt', multiplicity=mult))\n",
      "        dft_ylide.calc.set_job(nodes=4, memory=4*1400, time=5)\n",
      "        #dft_ylide.get_potential_energy()\n",
      "        dft_ylides.append(dft_ylide)\n",
      "    \n",
      "check_calcs(dft_ylides)"
     ],
     "language": "python",
     "metadata": {},
     "outputs": [
      {
       "output_type": "pyout",
       "prompt_number": 11,
       "text": [
        "'Calculations complete'"
       ]
      }
     ],
     "prompt_number": 11
    },
    {
     "cell_type": "markdown",
     "metadata": {},
     "source": [
      "In the both cases the groundstate is the low spin."
     ]
    },
    {
     "cell_type": "code",
     "collapsed": false,
     "input": [
      "for dft_ylide in dft_ylides:\n",
      "    print(dft_ylide.calc.label, dft_ylide.get_potential_energy())"
     ],
     "language": "python",
     "metadata": {},
     "outputs": [
      {
       "output_type": "stream",
       "stream": "stdout",
       "text": [
        "('B3LYP_631Gd_B3LYP_631Gd_azomethine_ylide_mult_1', -3643.2051605402044)\n",
        "('B3LYP_631Gd_B3LYP_631Gd_azomethine_ylide_mult_3', -3641.7029472796235)\n",
        "('B3LYP_631Gd_B3LYP_631Gd_carbonyl_ylide_mult_1', -4182.727178424118)\n",
        "('B3LYP_631Gd_B3LYP_631Gd_carbonyl_ylide_mult_3', -4182.153292810884)"
       ]
      },
      {
       "output_type": "stream",
       "stream": "stdout",
       "text": [
        "\n"
       ]
      }
     ],
     "prompt_number": 12
    },
    {
     "cell_type": "markdown",
     "metadata": {},
     "source": [
      "We also calculate the individual nanographenes at B3LYP/6-31G(d)//B3LYP/6-31G(d)."
     ]
    },
    {
     "cell_type": "code",
     "collapsed": false,
     "input": [
      "dft_graphenes = []\n",
      "for graphene_xyz_f in graphenes_xyz:\n",
      "    base_name = os.path.split(graphene_xyz_f)[1].replace('.xyz', '')\n",
      "    name = 'B3LYP_631Gd_B3LYP_631Gd_' + base_name\n",
      "    dft_graphene = read(graphene_xyz_f)\n",
      "    dft_graphene.set_calculator(Gaussian(label=name, method='B3LYP', basis='6-31G(d)', opt='opt'))\n",
      "    dft_graphene.calc.set_job(nodes=8, memory=8*1400, time=5)\n",
      "#   dft_graphene.get_potential_energy()\n",
      "    dft_graphenes.append(dft_graphene)"
     ],
     "language": "python",
     "metadata": {},
     "outputs": [],
     "prompt_number": 13
    },
    {
     "cell_type": "code",
     "collapsed": false,
     "input": [
      "check_calcs(dft_graphenes)"
     ],
     "language": "python",
     "metadata": {},
     "outputs": [
      {
       "output_type": "pyout",
       "prompt_number": 14,
       "text": [
        "'Calculations complete'"
       ]
      }
     ],
     "prompt_number": 14
    },
    {
     "cell_type": "markdown",
     "metadata": {},
     "source": [
      "So we discard the triplet states and rerun the data collating lines above modifying them such that $E_{ylide}\\space$ and $E_{product}\\space$ are taken from the b3lyp optimised structures when calculating $E_{r}$ for the centrally substituted reaction products. "
     ]
    },
    {
     "cell_type": "code",
     "collapsed": false,
     "input": [
      "ylides += [y for y in dft_ylides if 'mult_1' in y.calc.label]\n",
      "graphenes += [g for g in dft_graphenes]\n",
      "rxn_products = [prod for prod in rxn_products if 'cent' not in prod.calc.label] + dft_central_rxn_products\n",
      "%rerun 8"
     ],
     "language": "python",
     "metadata": {},
     "outputs": [
      {
       "output_type": "stream",
       "stream": "stdout",
       "text": [
        "=== Executing: ===\n",
        "#sorting so that we get the same order as given in the paper\n",
        "rxn_products.sort(key=lambda e: ('4_4' in e.calc.label, 'carb' in e.calc.label, e.calc.label))\n",
        "\n",
        "titles = []\n",
        "rxn_energies = []\n",
        "for mol in rxn_products:\n",
        "    title = title_f(mol)\n",
        "    equiv_graphene = equiv_graphene_f(mol)\n",
        "    equiv_ylide = equiv_ylide_f(mol)\n",
        "    rxn_e = 23.060542301388647*(mol.get_potential_energy() - equiv_graphene.get_potential_energy() - equiv_ylide.get_potential_energy())\n",
        "    titles.append(title)\n",
        "    rxn_energies.append(rxn_e)\n",
        "\n",
        "rxn_energies = np.array(rxn_energies)    \n",
        "data = pandas.Series(rxn_energies,titles)\n",
        "\n",
        "#UB3LYP\n",
        "#lit_rxn_energies = np.array([10.9, -29.5, -45.4, -11.9, -54.4, -70.6, 6.1, -34.5, -44.7, -16.8, -59.7, -68.4])\n",
        "#RB3LYP\n",
        "lit_rxn_energies = np.array([10.9, -21.4, -39.3, -11.9, -46.6, -64.7, 7.1, -17.0, -33.3, -15.8, -42.2, -59.4])\n",
        "lit_data = pandas.Series(lit_rxn_energies ,titles)\n",
        "=== Output: ===\n"
       ]
      }
     ],
     "prompt_number": 15
    },
    {
     "cell_type": "code",
     "collapsed": false,
     "input": [
      "# and replot the data\n",
      "d = {'Rxn Energy': data, 'Lit rxn energy': lit_data , 'delta': data - lit_data}\n",
      "pandas.DataFrame(d)"
     ],
     "language": "python",
     "metadata": {},
     "outputs": [
      {
       "html": [
        "<div style=\"max-height:1000px;max-width:1500px;overflow:auto;\">\n",
        "<table border=\"1\" class=\"dataframe\">\n",
        "  <thead>\n",
        "    <tr style=\"text-align: right;\">\n",
        "      <th></th>\n",
        "      <th>Lit rxn energy</th>\n",
        "      <th>Rxn Energy</th>\n",
        "      <th>delta</th>\n",
        "    </tr>\n",
        "  </thead>\n",
        "  <tbody>\n",
        "    <tr>\n",
        "      <td><strong>3_3_cent_azomethine</strong></td>\n",
        "      <td> 10.9</td>\n",
        "      <td> 16.195268</td>\n",
        "      <td>  5.295268</td>\n",
        "    </tr>\n",
        "    <tr>\n",
        "      <td><strong>3_3_corn_azomethine</strong></td>\n",
        "      <td>-21.4</td>\n",
        "      <td>-26.041332</td>\n",
        "      <td> -4.641332</td>\n",
        "    </tr>\n",
        "    <tr>\n",
        "      <td><strong>3_3_edg_azomethine</strong></td>\n",
        "      <td>-39.3</td>\n",
        "      <td>-45.728503</td>\n",
        "      <td> -6.428503</td>\n",
        "    </tr>\n",
        "    <tr>\n",
        "      <td><strong>3_3_cent_carbonyl</strong></td>\n",
        "      <td>-11.9</td>\n",
        "      <td>-11.685608</td>\n",
        "      <td>  0.214392</td>\n",
        "    </tr>\n",
        "    <tr>\n",
        "      <td><strong>3_3_corn_carbonyl</strong></td>\n",
        "      <td>-46.6</td>\n",
        "      <td>-52.086994</td>\n",
        "      <td> -5.486994</td>\n",
        "    </tr>\n",
        "    <tr>\n",
        "      <td><strong>3_3_edg_carbonyl</strong></td>\n",
        "      <td>-64.7</td>\n",
        "      <td>-70.958528</td>\n",
        "      <td> -6.258528</td>\n",
        "    </tr>\n",
        "    <tr>\n",
        "      <td><strong>4_4_cent_azomethine</strong></td>\n",
        "      <td>  7.1</td>\n",
        "      <td> 12.074790</td>\n",
        "      <td>  4.974790</td>\n",
        "    </tr>\n",
        "    <tr>\n",
        "      <td><strong>4_4_corn_azomethine</strong></td>\n",
        "      <td>-17.0</td>\n",
        "      <td>-28.898446</td>\n",
        "      <td>-11.898446</td>\n",
        "    </tr>\n",
        "    <tr>\n",
        "      <td><strong>4_4_edg_azomethine</strong></td>\n",
        "      <td>-33.3</td>\n",
        "      <td>-45.232456</td>\n",
        "      <td>-11.932456</td>\n",
        "    </tr>\n",
        "    <tr>\n",
        "      <td><strong>4_4_cent_carbonyl</strong></td>\n",
        "      <td>-15.8</td>\n",
        "      <td>-15.790776</td>\n",
        "      <td>  0.009224</td>\n",
        "    </tr>\n",
        "    <tr>\n",
        "      <td><strong>4_4_corn_carbonyl</strong></td>\n",
        "      <td>-42.2</td>\n",
        "      <td>-53.834043</td>\n",
        "      <td>-11.634043</td>\n",
        "    </tr>\n",
        "    <tr>\n",
        "      <td><strong>4_4_edg_carbonyl</strong></td>\n",
        "      <td>-59.4</td>\n",
        "      <td>-71.256407</td>\n",
        "      <td>-11.856407</td>\n",
        "    </tr>\n",
        "  </tbody>\n",
        "</table>\n",
        "</div>"
       ],
       "output_type": "pyout",
       "prompt_number": 16,
       "text": [
        "                     Lit rxn energy  Rxn Energy      delta\n",
        "3_3_cent_azomethine            10.9   16.195268   5.295268\n",
        "3_3_corn_azomethine           -21.4  -26.041332  -4.641332\n",
        "3_3_edg_azomethine            -39.3  -45.728503  -6.428503\n",
        "3_3_cent_carbonyl             -11.9  -11.685608   0.214392\n",
        "3_3_corn_carbonyl             -46.6  -52.086994  -5.486994\n",
        "3_3_edg_carbonyl              -64.7  -70.958528  -6.258528\n",
        "4_4_cent_azomethine             7.1   12.074790   4.974790\n",
        "4_4_corn_azomethine           -17.0  -28.898446 -11.898446\n",
        "4_4_edg_azomethine            -33.3  -45.232456 -11.932456\n",
        "4_4_cent_carbonyl             -15.8  -15.790776   0.009224\n",
        "4_4_corn_carbonyl             -42.2  -53.834043 -11.634043\n",
        "4_4_edg_carbonyl              -59.4  -71.256407 -11.856407"
       ]
      }
     ],
     "prompt_number": 16
    },
    {
     "cell_type": "markdown",
     "metadata": {},
     "source": [
      "This improves the match between our calculations and the literature values for the centre substituted products. However there still remains a discrepancy. Perhaps they always used B3LYP/6-31G(d) to calculate the geometries of the graphenes even when comparing to rxn_products with geometries calculated at the HF level? (seems wrong)"
     ]
    },
    {
     "cell_type": "code",
     "collapsed": false,
     "input": [
      "graphenes = [g for g in graphenes if 'HF_STO3G' not in g.calc.label]\n",
      "\n",
      "#remove the method dependences\n",
      "def equiv_graphene_f(prod):\n",
      "    size_str = title_f(prod)[0:3]\n",
      "    return next(g for g in graphenes if size_str in title_f(g)[0:4])\n",
      "\n",
      "%rerun 8"
     ],
     "language": "python",
     "metadata": {},
     "outputs": [
      {
       "output_type": "stream",
       "stream": "stdout",
       "text": [
        "=== Executing: ===\n",
        "#sorting so that we get the same order as given in the paper\n",
        "rxn_products.sort(key=lambda e: ('4_4' in e.calc.label, 'carb' in e.calc.label, e.calc.label))\n",
        "\n",
        "titles = []\n",
        "rxn_energies = []\n",
        "for mol in rxn_products:\n",
        "    title = title_f(mol)\n",
        "    equiv_graphene = equiv_graphene_f(mol)\n",
        "    equiv_ylide = equiv_ylide_f(mol)\n",
        "    rxn_e = 23.060542301388647*(mol.get_potential_energy() - equiv_graphene.get_potential_energy() - equiv_ylide.get_potential_energy())\n",
        "    titles.append(title)\n",
        "    rxn_energies.append(rxn_e)\n",
        "\n",
        "rxn_energies = np.array(rxn_energies)    \n",
        "data = pandas.Series(rxn_energies,titles)\n",
        "\n",
        "#UB3LYP\n",
        "#lit_rxn_energies = np.array([10.9, -29.5, -45.4, -11.9, -54.4, -70.6, 6.1, -34.5, -44.7, -16.8, -59.7, -68.4])\n",
        "#RB3LYP\n",
        "lit_rxn_energies = np.array([10.9, -21.4, -39.3, -11.9, -46.6, -64.7, 7.1, -17.0, -33.3, -15.8, -42.2, -59.4])\n",
        "lit_data = pandas.Series(lit_rxn_energies ,titles)\n",
        "=== Output: ===\n"
       ]
      }
     ],
     "prompt_number": 17
    },
    {
     "cell_type": "code",
     "collapsed": false,
     "input": [
      "# and replot the data\n",
      "d = {'Rxn Energy': data, 'Lit rxn energy': lit_data , 'delta': data - lit_data}\n",
      "pandas.DataFrame(d)"
     ],
     "language": "python",
     "metadata": {},
     "outputs": [
      {
       "html": [
        "<div style=\"max-height:1000px;max-width:1500px;overflow:auto;\">\n",
        "<table border=\"1\" class=\"dataframe\">\n",
        "  <thead>\n",
        "    <tr style=\"text-align: right;\">\n",
        "      <th></th>\n",
        "      <th>Lit rxn energy</th>\n",
        "      <th>Rxn Energy</th>\n",
        "      <th>delta</th>\n",
        "    </tr>\n",
        "  </thead>\n",
        "  <tbody>\n",
        "    <tr>\n",
        "      <td><strong>3_3_cent_azomethine</strong></td>\n",
        "      <td> 10.9</td>\n",
        "      <td> 16.195268</td>\n",
        "      <td> 5.295268</td>\n",
        "    </tr>\n",
        "    <tr>\n",
        "      <td><strong>3_3_corn_azomethine</strong></td>\n",
        "      <td>-21.4</td>\n",
        "      <td>-19.951038</td>\n",
        "      <td> 1.448962</td>\n",
        "    </tr>\n",
        "    <tr>\n",
        "      <td><strong>3_3_edg_azomethine</strong></td>\n",
        "      <td>-39.3</td>\n",
        "      <td>-39.638209</td>\n",
        "      <td>-0.338209</td>\n",
        "    </tr>\n",
        "    <tr>\n",
        "      <td><strong>3_3_cent_carbonyl</strong></td>\n",
        "      <td>-11.9</td>\n",
        "      <td>-11.685608</td>\n",
        "      <td> 0.214392</td>\n",
        "    </tr>\n",
        "    <tr>\n",
        "      <td><strong>3_3_corn_carbonyl</strong></td>\n",
        "      <td>-46.6</td>\n",
        "      <td>-45.996700</td>\n",
        "      <td> 0.603300</td>\n",
        "    </tr>\n",
        "    <tr>\n",
        "      <td><strong>3_3_edg_carbonyl</strong></td>\n",
        "      <td>-64.7</td>\n",
        "      <td>-64.868234</td>\n",
        "      <td>-0.168234</td>\n",
        "    </tr>\n",
        "    <tr>\n",
        "      <td><strong>4_4_cent_azomethine</strong></td>\n",
        "      <td>  7.1</td>\n",
        "      <td> 12.074790</td>\n",
        "      <td> 4.974790</td>\n",
        "    </tr>\n",
        "    <tr>\n",
        "      <td><strong>4_4_corn_azomethine</strong></td>\n",
        "      <td>-17.0</td>\n",
        "      <td>-17.442318</td>\n",
        "      <td>-0.442318</td>\n",
        "    </tr>\n",
        "    <tr>\n",
        "      <td><strong>4_4_edg_azomethine</strong></td>\n",
        "      <td>-33.3</td>\n",
        "      <td>-33.776329</td>\n",
        "      <td>-0.476329</td>\n",
        "    </tr>\n",
        "    <tr>\n",
        "      <td><strong>4_4_cent_carbonyl</strong></td>\n",
        "      <td>-15.8</td>\n",
        "      <td>-15.790776</td>\n",
        "      <td> 0.009224</td>\n",
        "    </tr>\n",
        "    <tr>\n",
        "      <td><strong>4_4_corn_carbonyl</strong></td>\n",
        "      <td>-42.2</td>\n",
        "      <td>-42.377916</td>\n",
        "      <td>-0.177916</td>\n",
        "    </tr>\n",
        "    <tr>\n",
        "      <td><strong>4_4_edg_carbonyl</strong></td>\n",
        "      <td>-59.4</td>\n",
        "      <td>-59.800279</td>\n",
        "      <td>-0.400279</td>\n",
        "    </tr>\n",
        "  </tbody>\n",
        "</table>\n",
        "</div>"
       ],
       "output_type": "pyout",
       "prompt_number": 18,
       "text": [
        "                     Lit rxn energy  Rxn Energy     delta\n",
        "3_3_cent_azomethine            10.9   16.195268  5.295268\n",
        "3_3_corn_azomethine           -21.4  -19.951038  1.448962\n",
        "3_3_edg_azomethine            -39.3  -39.638209 -0.338209\n",
        "3_3_cent_carbonyl             -11.9  -11.685608  0.214392\n",
        "3_3_corn_carbonyl             -46.6  -45.996700  0.603300\n",
        "3_3_edg_carbonyl              -64.7  -64.868234 -0.168234\n",
        "4_4_cent_azomethine             7.1   12.074790  4.974790\n",
        "4_4_corn_azomethine           -17.0  -17.442318 -0.442318\n",
        "4_4_edg_azomethine            -33.3  -33.776329 -0.476329\n",
        "4_4_cent_carbonyl             -15.8  -15.790776  0.009224\n",
        "4_4_corn_carbonyl             -42.2  -42.377916 -0.177916\n",
        "4_4_edg_carbonyl              -59.4  -59.800279 -0.400279"
       ]
      }
     ],
     "prompt_number": 18
    },
    {
     "cell_type": "markdown",
     "metadata": {},
     "source": [
      "This improves the values can we improve further by also calculating the ylide geometries at the B3LYP level (this also appears wrong but is atleast consistent with the above):"
     ]
    },
    {
     "cell_type": "code",
     "collapsed": false,
     "input": [
      "ylides = [y for y in ylides if 'HF_STO3G' not in y.calc.label]\n",
      "\n",
      "def equiv_ylide_f(prod):\n",
      "    ylide_str = 'azo' if 'azo' in title_f(prod) else 'carb'\n",
      "    return next(y for y in ylides if ylide_str in y.calc.label)\n",
      "\n",
      "%rerun 8"
     ],
     "language": "python",
     "metadata": {},
     "outputs": [
      {
       "output_type": "stream",
       "stream": "stdout",
       "text": [
        "=== Executing: ===\n",
        "#sorting so that we get the same order as given in the paper\n",
        "rxn_products.sort(key=lambda e: ('4_4' in e.calc.label, 'carb' in e.calc.label, e.calc.label))\n",
        "\n",
        "titles = []\n",
        "rxn_energies = []\n",
        "for mol in rxn_products:\n",
        "    title = title_f(mol)\n",
        "    equiv_graphene = equiv_graphene_f(mol)\n",
        "    equiv_ylide = equiv_ylide_f(mol)\n",
        "    rxn_e = 23.060542301388647*(mol.get_potential_energy() - equiv_graphene.get_potential_energy() - equiv_ylide.get_potential_energy())\n",
        "    titles.append(title)\n",
        "    rxn_energies.append(rxn_e)\n",
        "\n",
        "rxn_energies = np.array(rxn_energies)    \n",
        "data = pandas.Series(rxn_energies,titles)\n",
        "\n",
        "#UB3LYP\n",
        "#lit_rxn_energies = np.array([10.9, -29.5, -45.4, -11.9, -54.4, -70.6, 6.1, -34.5, -44.7, -16.8, -59.7, -68.4])\n",
        "#RB3LYP\n",
        "lit_rxn_energies = np.array([10.9, -21.4, -39.3, -11.9, -46.6, -64.7, 7.1, -17.0, -33.3, -15.8, -42.2, -59.4])\n",
        "lit_data = pandas.Series(lit_rxn_energies ,titles)\n",
        "=== Output: ===\n"
       ]
      }
     ],
     "prompt_number": 19
    },
    {
     "cell_type": "code",
     "collapsed": false,
     "input": [
      "# and replot the data\n",
      "d = {'Rxn Energy': data, 'Lit rxn energy': lit_data , 'delta': data - lit_data}\n",
      "pandas.DataFrame(d)"
     ],
     "language": "python",
     "metadata": {},
     "outputs": [
      {
       "html": [
        "<div style=\"max-height:1000px;max-width:1500px;overflow:auto;\">\n",
        "<table border=\"1\" class=\"dataframe\">\n",
        "  <thead>\n",
        "    <tr style=\"text-align: right;\">\n",
        "      <th></th>\n",
        "      <th>Lit rxn energy</th>\n",
        "      <th>Rxn Energy</th>\n",
        "      <th>delta</th>\n",
        "    </tr>\n",
        "  </thead>\n",
        "  <tbody>\n",
        "    <tr>\n",
        "      <td><strong>3_3_cent_azomethine</strong></td>\n",
        "      <td> 10.9</td>\n",
        "      <td> 16.195268</td>\n",
        "      <td> 5.295268</td>\n",
        "    </tr>\n",
        "    <tr>\n",
        "      <td><strong>3_3_corn_azomethine</strong></td>\n",
        "      <td>-21.4</td>\n",
        "      <td>-19.607226</td>\n",
        "      <td> 1.792774</td>\n",
        "    </tr>\n",
        "    <tr>\n",
        "      <td><strong>3_3_edg_azomethine</strong></td>\n",
        "      <td>-39.3</td>\n",
        "      <td>-39.294396</td>\n",
        "      <td> 0.005604</td>\n",
        "    </tr>\n",
        "    <tr>\n",
        "      <td><strong>3_3_cent_carbonyl</strong></td>\n",
        "      <td>-11.9</td>\n",
        "      <td>-11.685608</td>\n",
        "      <td> 0.214392</td>\n",
        "    </tr>\n",
        "    <tr>\n",
        "      <td><strong>3_3_corn_carbonyl</strong></td>\n",
        "      <td>-46.6</td>\n",
        "      <td>-45.774625</td>\n",
        "      <td> 0.825375</td>\n",
        "    </tr>\n",
        "    <tr>\n",
        "      <td><strong>3_3_edg_carbonyl</strong></td>\n",
        "      <td>-64.7</td>\n",
        "      <td>-64.646158</td>\n",
        "      <td> 0.053842</td>\n",
        "    </tr>\n",
        "    <tr>\n",
        "      <td><strong>4_4_cent_azomethine</strong></td>\n",
        "      <td>  7.1</td>\n",
        "      <td> 12.074790</td>\n",
        "      <td> 4.974790</td>\n",
        "    </tr>\n",
        "    <tr>\n",
        "      <td><strong>4_4_corn_azomethine</strong></td>\n",
        "      <td>-17.0</td>\n",
        "      <td>-17.098505</td>\n",
        "      <td>-0.098505</td>\n",
        "    </tr>\n",
        "    <tr>\n",
        "      <td><strong>4_4_edg_azomethine</strong></td>\n",
        "      <td>-33.3</td>\n",
        "      <td>-33.432516</td>\n",
        "      <td>-0.132516</td>\n",
        "    </tr>\n",
        "    <tr>\n",
        "      <td><strong>4_4_cent_carbonyl</strong></td>\n",
        "      <td>-15.8</td>\n",
        "      <td>-15.790776</td>\n",
        "      <td> 0.009224</td>\n",
        "    </tr>\n",
        "    <tr>\n",
        "      <td><strong>4_4_corn_carbonyl</strong></td>\n",
        "      <td>-42.2</td>\n",
        "      <td>-42.155840</td>\n",
        "      <td> 0.044160</td>\n",
        "    </tr>\n",
        "    <tr>\n",
        "      <td><strong>4_4_edg_carbonyl</strong></td>\n",
        "      <td>-59.4</td>\n",
        "      <td>-59.578203</td>\n",
        "      <td>-0.178203</td>\n",
        "    </tr>\n",
        "  </tbody>\n",
        "</table>\n",
        "</div>"
       ],
       "output_type": "pyout",
       "prompt_number": 20,
       "text": [
        "                     Lit rxn energy  Rxn Energy     delta\n",
        "3_3_cent_azomethine            10.9   16.195268  5.295268\n",
        "3_3_corn_azomethine           -21.4  -19.607226  1.792774\n",
        "3_3_edg_azomethine            -39.3  -39.294396  0.005604\n",
        "3_3_cent_carbonyl             -11.9  -11.685608  0.214392\n",
        "3_3_corn_carbonyl             -46.6  -45.774625  0.825375\n",
        "3_3_edg_carbonyl              -64.7  -64.646158  0.053842\n",
        "4_4_cent_azomethine             7.1   12.074790  4.974790\n",
        "4_4_corn_azomethine           -17.0  -17.098505 -0.098505\n",
        "4_4_edg_azomethine            -33.3  -33.432516 -0.132516\n",
        "4_4_cent_carbonyl             -15.8  -15.790776  0.009224\n",
        "4_4_corn_carbonyl             -42.2  -42.155840  0.044160\n",
        "4_4_edg_carbonyl              -59.4  -59.578203 -0.178203"
       ]
      }
     ],
     "prompt_number": 20
    },
    {
     "cell_type": "markdown",
     "metadata": {},
     "source": [
      "This is much better but still see a discrepancy for the centre azomethines and the 3_3 corner azomethine lets try some alternative starting configurations"
     ]
    },
    {
     "cell_type": "code",
     "collapsed": false,
     "input": [
      "cent_azo_3_3 = read('xyz_files/init/3_3_cent_azomethine.xyz')\n",
      "cent_azo_3_3.rotate('x',-pi/2)\n",
      "cent_azo_3_3.rotate('z',-pi/2)\n",
      "cent_azo_3_3.write('cent_azo_3_3.png')\n",
      "\n",
      "cent_azo_3_3_v2 = read('xyz_files/extra/3_3_cent_azomethine_v2.xyz')\n",
      "cent_azo_3_3_v2.write('cent_azo_3_3_v2.png')\n",
      "\n",
      "html_strings = ['<img src=\"/files/cycloadd/{f}\"/>'.format(f=img) for img in ['cent_azo_3_3.png', 'cent_azo_3_3_v2.png']]\n",
      "total_html = \"\".join(html_strings)\n",
      "HTML(total_html) "
     ],
     "language": "python",
     "metadata": {},
     "outputs": [
      {
       "html": [
        "<img src=\"/files/cycloadd/cent_azo_3_3.png\"/><img src=\"/files/cycloadd/cent_azo_3_3_v2.png\"/>"
       ],
       "output_type": "pyout",
       "prompt_number": 21,
       "text": [
        "<IPython.core.display.HTML at 0x4ca53d0>"
       ]
      }
     ],
     "prompt_number": 21
    },
    {
     "cell_type": "code",
     "collapsed": false,
     "input": [
      "base_name = '3_3_cent_azomethine_v2'\n",
      "name = 'B3LYP_631Gd_B3LYP_631Gd_' + base_name\n",
      "cent_azo_3_3_v2.set_calculator(Gaussian(label=name, method='B3LYP', basis='6-31G(d)', opt='opt'))\n",
      "cent_azo_3_3_v2.calc.set_job(nodes=8, memory=8*1400, time=5)\n",
      "#cent_azo_3_3_v2.get_potential_energy()\n",
      "check_calcs([cent_azo_3_3_v2])"
     ],
     "language": "python",
     "metadata": {},
     "outputs": [
      {
       "output_type": "pyout",
       "prompt_number": 22,
       "text": [
        "'Calculations complete'"
       ]
      }
     ],
     "prompt_number": 22
    },
    {
     "cell_type": "code",
     "collapsed": false,
     "input": [
      "cent_azo_4_4 = read('xyz_files/init/4_4_cent_azomethine.xyz')\n",
      "cent_azo_4_4.rotate('x',pi/2)\n",
      "cent_azo_4_4.rotate('z',-pi/2)\n",
      "cent_azo_4_4.write('cent_azo_4_4.png')\n",
      "\n",
      "cent_azo_4_4_v2 = read('xyz_files/extra/4_4_cent_azomethine_v2.xyz')\n",
      "cent_azo_4_4_v2.rotate('x',pi/2)\n",
      "cent_azo_4_4_v2.rotate('z',-pi/2)\n",
      "cent_azo_4_4_v2.write('cent_azo_4_4_v2.png')\n",
      "\n",
      "html_strings = ['<img src=\"/files/cycloadd/{f}\"/>'.format(f=img) for img in ['cent_azo_4_4.png', 'cent_azo_4_4_v2.png']]\n",
      "total_html = \"\".join(html_strings)\n",
      "HTML(total_html) "
     ],
     "language": "python",
     "metadata": {},
     "outputs": [
      {
       "html": [
        "<img src=\"/files/cycloadd/cent_azo_4_4.png\"/><img src=\"/files/cycloadd/cent_azo_4_4_v2.png\"/>"
       ],
       "output_type": "pyout",
       "prompt_number": 23,
       "text": [
        "<IPython.core.display.HTML at 0x4ca5910>"
       ]
      }
     ],
     "prompt_number": 23
    },
    {
     "cell_type": "code",
     "collapsed": false,
     "input": [
      "base_name = '4_4_cent_azomethine_v2'\n",
      "name = 'B3LYP_631Gd_B3LYP_631Gd_' + base_name\n",
      "cent_azo_4_4_v2.set_calculator(Gaussian(label=name, method='B3LYP', basis='6-31G(d)', opt='opt'))\n",
      "cent_azo_4_4_v2.calc.set_job(nodes=8, memory=8*1400, time=5)\n",
      "#cent_azo_4_4_v2.get_potential_energy()\n",
      "check_calcs([cent_azo_4_4_v2])"
     ],
     "language": "python",
     "metadata": {},
     "outputs": [
      {
       "output_type": "pyout",
       "prompt_number": 24,
       "text": [
        "'Calculations complete'"
       ]
      }
     ],
     "prompt_number": 24
    },
    {
     "cell_type": "markdown",
     "metadata": {},
     "source": [
      "These versions do much better with a difference of 0.236 and -0.0148 eVs to the lit value (vs. the previous 5.30 and 5.00 eVs)"
     ]
    },
    {
     "cell_type": "code",
     "collapsed": false,
     "input": [
      "E_r = lambda e,f: 23.060542301388647 * (e.get_potential_energy()- f.get_potential_energy() - ylides[0].get_potential_energy())\n",
      "d_E_r_4_4 = E_r(cent_azo_4_4_v2, graphenes[1]) - 7.1\n",
      "d_E_r_3_3 = E_r(cent_azo_3_3_v2, graphenes[0]) - 10.9\n",
      "print(d_E_r_3_3, d_E_r_4_4)"
     ],
     "language": "python",
     "metadata": {},
     "outputs": [
      {
       "output_type": "stream",
       "stream": "stdout",
       "text": [
        "(0.23553330351720803, -0.041835438409857595)\n"
       ]
      }
     ],
     "prompt_number": 25
    },
    {
     "cell_type": "code",
     "collapsed": false,
     "input": [
      "corn_azo_3_3 = read('xyz_files/init/3_3_corn_azomethine.xyz')\n",
      "corn_azo_3_3.rotate('x',pi/2)\n",
      "corn_azo_3_3.rotate('z',-pi/2)\n",
      "corn_azo_3_3.write('corn_azo_3_3.png')\n",
      "\n",
      "corn_azo_3_3_v2 = read('xyz_files/extra/3_3_corn_azomethine_v2.xyz')\n",
      "corn_azo_3_3_v2.rotate('x',pi/2)\n",
      "corn_azo_3_3_v2.rotate('z',-pi/2)\n",
      "corn_azo_3_3_v2.write('corn_azo_3_3_v2.png')\n",
      "\n",
      "html_strings = ['<img src=\"/files/cycloadd/{f}\"/>'.format(f=img) for img in ['corn_azo_3_3.png', 'corn_azo_3_3_v2.png']]\n",
      "total_html = \"\".join(html_strings)\n",
      "HTML(total_html) "
     ],
     "language": "python",
     "metadata": {},
     "outputs": [
      {
       "html": [
        "<img src=\"/files/cycloadd/corn_azo_3_3.png\"/><img src=\"/files/cycloadd/corn_azo_3_3_v2.png\"/>"
       ],
       "output_type": "pyout",
       "prompt_number": 26,
       "text": [
        "<IPython.core.display.HTML at 0x4caf310>"
       ]
      }
     ],
     "prompt_number": 26
    },
    {
     "cell_type": "code",
     "collapsed": false,
     "input": [
      "base_name = '3_3_corn_azomethine_v2'\n",
      "name = 'HF_STO3G_HF_STO3G_' + base_name\n",
      "corn_azo_3_3_v2.set_calculator(Gaussian(label=name, method='HF', basis='STO-3G', opt='opt'))\n",
      "corn_azo_3_3_v2.calc.set_job(nodes=8, memory=8*1400, time=5)\n",
      "#corn_azo_3_3_v2.get_potential_energy()\n",
      "check_calcs([corn_azo_3_3_v2])"
     ],
     "language": "python",
     "metadata": {},
     "outputs": [
      {
       "output_type": "pyout",
       "prompt_number": 27,
       "text": [
        "'Calculations complete'"
       ]
      }
     ],
     "prompt_number": 27
    },
    {
     "cell_type": "code",
     "collapsed": false,
     "input": [
      "name = 'B3LYP_631Gd_HF_STO3G_' + base_name\n",
      "corn_azo_3_3_v2 = read(corn_azo_3_3_v2.calc.label +'.log')\n",
      "corn_azo_3_3_v2.set_calculator(Gaussian(label=name, method='B3LYP', basis='6-31G(d)'))\n",
      "corn_azo_3_3_v2.calc.set_job(nodes=8, memory=8*1400, time=5)\n",
      "#corn_azo_3_3_v2.get_potential_energy()\n",
      "check_calcs([corn_azo_3_3_v2])"
     ],
     "language": "python",
     "metadata": {},
     "outputs": [
      {
       "output_type": "pyout",
       "prompt_number": 28,
       "text": [
        "'Calculations complete'"
       ]
      }
     ],
     "prompt_number": 28
    },
    {
     "cell_type": "markdown",
     "metadata": {},
     "source": [
      "For this corn_azo_3_3 configuration we get a lower energy than the paper - so perhaps they did not find the lowest energy config?"
     ]
    },
    {
     "cell_type": "code",
     "collapsed": false,
     "input": [
      "E_r_evs = corn_azo_3_3_v2.get_potential_energy() - graphenes[0].get_potential_energy() - ylides[0].get_potential_energy()\n",
      "E_r = E_r_evs * 23.060542301388647\n",
      "d_E_r = E_r - -21.4\n",
      "print(d_E_r)"
     ],
     "language": "python",
     "metadata": {},
     "outputs": [
      {
       "output_type": "stream",
       "stream": "stdout",
       "text": [
        "-0.106257979179\n"
       ]
      }
     ],
     "prompt_number": 29
    },
    {
     "cell_type": "markdown",
     "metadata": {},
     "source": [
      "To see how sensitive the reactions energies are to initial geometry we'll also examine the effects of altering the 3_3_cent carbonyl:"
     ]
    },
    {
     "cell_type": "code",
     "collapsed": false,
     "input": [
      "cent_carb_3_3 = read('xyz_files/init/3_3_cent_carbonyl.xyz')\n",
      "cent_carb_3_3.rotate('x',-pi/2)\n",
      "cent_carb_3_3.rotate('z',-pi/2)\n",
      "cent_carb_3_3.write('cent_carb_3_3.png')\n",
      "\n",
      "cent_carb_3_3_v2 = read('xyz_files/extra/3_3_cent_carbonyl_v2.xyz')\n",
      "cent_carb_3_3_v2.rotate('x',-pi/2)\n",
      "cent_carb_3_3_v2.rotate('z',-pi/2)\n",
      "cent_carb_3_3_v2.write('cent_carb_3_3_v2.png')\n",
      "\n",
      "cent_carb_3_3_v3 = read('xyz_files/extra/3_3_cent_carbonyl_v3.xyz')\n",
      "cent_carb_3_3_v3.write('cent_carb_3_3_v3.png')\n",
      "\n",
      "cent_carb_3_3_v4 = read('xyz_files/extra/3_3_cent_carbonyl_v4.xyz')\n",
      "cent_carb_3_3_v4.write('cent_carb_3_3_v4.png')\n",
      "\n",
      "html_strings = ['<img src=\"/files/cycloadd/{f}\"/>'.format(f=img) for img in ['cent_carb_3_3.png', 'cent_carb_3_3_v2.png', 'cent_carb_3_3_v3.png', 'cent_carb_3_3_v4.png']]\n",
      "total_html = \"\".join(html_strings)\n",
      "HTML(total_html) "
     ],
     "language": "python",
     "metadata": {},
     "outputs": [
      {
       "html": [
        "<img src=\"/files/cycloadd/cent_carb_3_3.png\"/><img src=\"/files/cycloadd/cent_carb_3_3_v2.png\"/><img src=\"/files/cycloadd/cent_carb_3_3_v3.png\"/><img src=\"/files/cycloadd/cent_carb_3_3_v4.png\"/>"
       ],
       "output_type": "pyout",
       "prompt_number": 30,
       "text": [
        "<IPython.core.display.HTML at 0x46bfb50>"
       ]
      }
     ],
     "prompt_number": 30
    },
    {
     "cell_type": "markdown",
     "metadata": {},
     "source": [
      "We calculate the energy of these variants at the B3LYP/6-31G(d)//B3lYP/6-31G(d) level (as are the other centrally substituted clusters)"
     ]
    },
    {
     "cell_type": "code",
     "collapsed": false,
     "input": [
      "base_name = '3_3_cent_carbonyl_v2'\n",
      "name = 'B3LYP_631Gd_B3LYP_631Gd_' + base_name\n",
      "cent_carb_3_3_v2.set_calculator(Gaussian(label=name, method='B3LYP', basis='6-31G(d)', opt='opt'))\n",
      "cent_carb_3_3_v2.calc.set_job(nodes=8, memory=8*1400, time=5)\n",
      "#cent_carb_3_3_v2.get_potential_energy()"
     ],
     "language": "python",
     "metadata": {},
     "outputs": [],
     "prompt_number": 31
    },
    {
     "cell_type": "code",
     "collapsed": false,
     "input": [
      "check_calcs([cent_carb_3_3_v2])"
     ],
     "language": "python",
     "metadata": {},
     "outputs": [
      {
       "output_type": "pyout",
       "prompt_number": 32,
       "text": [
        "'Calculations complete'"
       ]
      }
     ],
     "prompt_number": 32
    },
    {
     "cell_type": "markdown",
     "metadata": {},
     "source": [
      "The difference in reaction energy vs. the literature value for the slightly altered centre variant is:"
     ]
    },
    {
     "cell_type": "code",
     "collapsed": false,
     "input": [
      "E_r_evs = cent_carb_3_3_v2.get_potential_energy() - graphenes[0].get_potential_energy() - ylides[1].get_potential_energy()\n",
      "E_r = E_r_evs * 23.060542301388647\n",
      "d_E_r = E_r - -11.9\n",
      "print(d_E_r)"
     ],
     "language": "python",
     "metadata": {},
     "outputs": [
      {
       "output_type": "stream",
       "stream": "stdout",
       "text": [
        "0.0497960804614\n"
       ]
      }
     ],
     "prompt_number": 33
    },
    {
     "cell_type": "markdown",
     "metadata": {},
     "source": [
      "C.f. the reaction energy difference for the original variant:"
     ]
    },
    {
     "cell_type": "code",
     "collapsed": false,
     "input": [
      "E_r_evs = dft_central_rxn_products[1].get_potential_energy() - graphenes[0].get_potential_energy() - ylides[1].get_potential_energy()\n",
      "E_r = E_r_evs * 23.060542301388647\n",
      "d_E_r = E_r - -11.9\n",
      "print(d_E_r)"
     ],
     "language": "python",
     "metadata": {},
     "outputs": [
      {
       "output_type": "stream",
       "stream": "stdout",
       "text": [
        "0.214391832964\n"
       ]
      }
     ],
     "prompt_number": 34
    },
    {
     "cell_type": "markdown",
     "metadata": {},
     "source": [
      "This new variant is a closer match for the literature value"
     ]
    },
    {
     "cell_type": "code",
     "collapsed": false,
     "input": [
      "base_name = '3_3_cent_carbonyl_v3'\n",
      "name = 'B3LYP_631Gd_B3LYP_631Gd_' + base_name\n",
      "cent_carb_3_3_v3.set_calculator(Gaussian(label=name, method='B3LYP', basis='6-31G(d)', opt='opt'))\n",
      "cent_carb_3_3_v3.calc.set_job(nodes=8, memory=8*1400, time=5)\n",
      "#cent_carb3.get_potential_energy()\n",
      "\n",
      "base_name = '3_3_cent_carbonyl_v4'\n",
      "name = 'B3LYP_631Gd_B3LYP_631Gd_' + base_name\n",
      "cent_carb_3_3_v4.set_calculator(Gaussian(label=name, method='B3LYP', basis='6-31G(d)', opt='opt'))\n",
      "cent_carb_3_3_v4.calc.set_job(nodes=8, memory=8*1400, time=5)\n",
      "#cent_carb4.get_potential_energy()\n",
      "\n",
      "check_calcs([cent_carb_3_3_v3, cent_carb_3_3_v4])"
     ],
     "language": "python",
     "metadata": {},
     "outputs": [
      {
       "output_type": "pyout",
       "prompt_number": 35,
       "text": [
        "'Calculations complete'"
       ]
      }
     ],
     "prompt_number": 35
    },
    {
     "cell_type": "markdown",
     "metadata": {},
     "source": [
      "These v3 and v4 use a different site for substitution and produce more negative reaction energies:"
     ]
    },
    {
     "cell_type": "code",
     "collapsed": false,
     "input": [
      "E_r1_evs = cent_carb_3_3_v3.get_potential_energy() - graphenes[0].get_potential_energy() - ylides[1].get_potential_energy()\n",
      "E_r1 = E_r1_evs * 23.060542301388647\n",
      "E_r2_evs = cent_carb_3_3_v4.get_potential_energy() - graphenes[0].get_potential_energy() - ylides[1].get_potential_energy()\n",
      "E_r2 = E_r2_evs * 23.060542301388647\n",
      "print(E_r1, E_r2)"
     ],
     "language": "python",
     "metadata": {},
     "outputs": [
      {
       "output_type": "stream",
       "stream": "stdout",
       "text": [
        "(-23.22971293248959, -24.027528562295842)\n"
       ]
      }
     ],
     "prompt_number": 36
    },
    {
     "cell_type": "markdown",
     "metadata": {},
     "source": [
      "Summarising the closest matches so far we have:"
     ]
    },
    {
     "cell_type": "code",
     "collapsed": false,
     "input": [
      "rxn_products = [prod for prod in rxn_products if not ('3_3_cent_azomethine' in prod.calc.label or '4_4_cent_azomethine' in prod.calc.label or '3_3_corn_azomethine' in prod.calc.label or '3_3_cent_carbonyl' in prod.calc.label)]\n",
      "rxn_products += [cent_azo_3_3_v2, cent_azo_4_4_v2, corn_azo_3_3_v2, cent_carb_3_3_v2]\n",
      "#rerun data processing\n",
      "%rerun 8"
     ],
     "language": "python",
     "metadata": {},
     "outputs": [
      {
       "output_type": "stream",
       "stream": "stdout",
       "text": [
        "=== Executing: ===\n",
        "#sorting so that we get the same order as given in the paper\n",
        "rxn_products.sort(key=lambda e: ('4_4' in e.calc.label, 'carb' in e.calc.label, e.calc.label))\n",
        "\n",
        "titles = []\n",
        "rxn_energies = []\n",
        "for mol in rxn_products:\n",
        "    title = title_f(mol)\n",
        "    equiv_graphene = equiv_graphene_f(mol)\n",
        "    equiv_ylide = equiv_ylide_f(mol)\n",
        "    rxn_e = 23.060542301388647*(mol.get_potential_energy() - equiv_graphene.get_potential_energy() - equiv_ylide.get_potential_energy())\n",
        "    titles.append(title)\n",
        "    rxn_energies.append(rxn_e)\n",
        "\n",
        "rxn_energies = np.array(rxn_energies)    \n",
        "data = pandas.Series(rxn_energies,titles)\n",
        "\n",
        "#UB3LYP\n",
        "#lit_rxn_energies = np.array([10.9, -29.5, -45.4, -11.9, -54.4, -70.6, 6.1, -34.5, -44.7, -16.8, -59.7, -68.4])\n",
        "#RB3LYP\n",
        "lit_rxn_energies = np.array([10.9, -21.4, -39.3, -11.9, -46.6, -64.7, 7.1, -17.0, -33.3, -15.8, -42.2, -59.4])\n",
        "lit_data = pandas.Series(lit_rxn_energies ,titles)\n",
        "=== Output: ===\n"
       ]
      }
     ],
     "prompt_number": 37
    },
    {
     "cell_type": "code",
     "collapsed": false,
     "input": [
      "#and replot the data\n",
      "pandas.set_printoptions(max_colwidth=-1)\n",
      "d = {'Rxn Energy': data, 'Lit rxn energy': lit_data , 'delta': data - lit_data}\n",
      "frame=pandas.DataFrame(d)\n",
      "frame.save('graphene_cycloadd_rxn_e.pickle')\n",
      "frame"
     ],
     "language": "python",
     "metadata": {},
     "outputs": [
      {
       "html": [
        "<div style=\"max-height:1000px;max-width:1500px;overflow:auto;\">\n",
        "<table border=\"1\" class=\"dataframe\">\n",
        "  <thead>\n",
        "    <tr style=\"text-align: right;\">\n",
        "      <th></th>\n",
        "      <th>Lit rxn energy</th>\n",
        "      <th>Rxn Energy</th>\n",
        "      <th>delta</th>\n",
        "    </tr>\n",
        "  </thead>\n",
        "  <tbody>\n",
        "    <tr>\n",
        "      <td><strong>3_3_cent_azomethine_v2</strong></td>\n",
        "      <td> 10.9</td>\n",
        "      <td> 11.135533</td>\n",
        "      <td> 0.235533</td>\n",
        "    </tr>\n",
        "    <tr>\n",
        "      <td><strong>3_3_corn_azomethine_v2</strong></td>\n",
        "      <td>-21.4</td>\n",
        "      <td>-21.506258</td>\n",
        "      <td>-0.106258</td>\n",
        "    </tr>\n",
        "    <tr>\n",
        "      <td><strong>3_3_edg_azomethine</strong></td>\n",
        "      <td>-39.3</td>\n",
        "      <td>-39.294396</td>\n",
        "      <td> 0.005604</td>\n",
        "    </tr>\n",
        "    <tr>\n",
        "      <td><strong>3_3_cent_carbonyl_v2</strong></td>\n",
        "      <td>-11.9</td>\n",
        "      <td>-11.850204</td>\n",
        "      <td> 0.049796</td>\n",
        "    </tr>\n",
        "    <tr>\n",
        "      <td><strong>3_3_corn_carbonyl</strong></td>\n",
        "      <td>-46.6</td>\n",
        "      <td>-45.774625</td>\n",
        "      <td> 0.825375</td>\n",
        "    </tr>\n",
        "    <tr>\n",
        "      <td><strong>3_3_edg_carbonyl</strong></td>\n",
        "      <td>-64.7</td>\n",
        "      <td>-64.646158</td>\n",
        "      <td> 0.053842</td>\n",
        "    </tr>\n",
        "    <tr>\n",
        "      <td><strong>4_4_cent_azomethine_v2</strong></td>\n",
        "      <td> 7.1</td>\n",
        "      <td> 7.058165</td>\n",
        "      <td>-0.041835</td>\n",
        "    </tr>\n",
        "    <tr>\n",
        "      <td><strong>4_4_corn_azomethine</strong></td>\n",
        "      <td>-17.0</td>\n",
        "      <td>-17.098505</td>\n",
        "      <td>-0.098505</td>\n",
        "    </tr>\n",
        "    <tr>\n",
        "      <td><strong>4_4_edg_azomethine</strong></td>\n",
        "      <td>-33.3</td>\n",
        "      <td>-33.432516</td>\n",
        "      <td>-0.132516</td>\n",
        "    </tr>\n",
        "    <tr>\n",
        "      <td><strong>4_4_cent_carbonyl</strong></td>\n",
        "      <td>-15.8</td>\n",
        "      <td>-15.790776</td>\n",
        "      <td> 0.009224</td>\n",
        "    </tr>\n",
        "    <tr>\n",
        "      <td><strong>4_4_corn_carbonyl</strong></td>\n",
        "      <td>-42.2</td>\n",
        "      <td>-42.155840</td>\n",
        "      <td> 0.044160</td>\n",
        "    </tr>\n",
        "    <tr>\n",
        "      <td><strong>4_4_edg_carbonyl</strong></td>\n",
        "      <td>-59.4</td>\n",
        "      <td>-59.578203</td>\n",
        "      <td>-0.178203</td>\n",
        "    </tr>\n",
        "  </tbody>\n",
        "</table>\n",
        "</div>"
       ],
       "output_type": "pyout",
       "prompt_number": 38,
       "text": [
        "                        Lit rxn energy  Rxn Energy     delta\n",
        "3_3_cent_azomethine_v2  10.9            11.135533   0.235533\n",
        "3_3_corn_azomethine_v2 -21.4           -21.506258  -0.106258\n",
        "3_3_edg_azomethine     -39.3           -39.294396   0.005604\n",
        "3_3_cent_carbonyl_v2   -11.9           -11.850204   0.049796\n",
        "3_3_corn_carbonyl      -46.6           -45.774625   0.825375\n",
        "3_3_edg_carbonyl       -64.7           -64.646158   0.053842\n",
        "4_4_cent_azomethine_v2  7.1             7.058165   -0.041835\n",
        "4_4_corn_azomethine    -17.0           -17.098505  -0.098505\n",
        "4_4_edg_azomethine     -33.3           -33.432516  -0.132516\n",
        "4_4_cent_carbonyl      -15.8           -15.790776   0.009224\n",
        "4_4_corn_carbonyl      -42.2           -42.155840   0.044160\n",
        "4_4_edg_carbonyl       -59.4           -59.578203  -0.178203"
       ]
      }
     ],
     "prompt_number": 38
    },
    {
     "cell_type": "code",
     "collapsed": false,
     "input": [
      "#update geomoetries with optimised geometries (should really find a way to do this automatically) and write them out to xyz\n",
      "for mol in rxn_products + graphenes + ylides:\n",
      "    mol = read(mol.calc.label +'.log')\n",
      "    mol.write('xyz_files/final/' + mol.calc.label + '.xyz')\n",
      "#and 'final' initial geometries (xyz_file defined in cell [3])\n",
      "list_orig_xyzs = [xyz_f for xyz_f in xyz_files if not ('3_3_cent_azomethine' in xyz_f or '4_4_cent_azomethine' in xyz_f or '3_3_corn_azomethine' in xyz_f or '3_3_cent_carbonyl' in xyz_f)]\n",
      "list_mod_xyzs = ['xyz_files/extra/' + f for f in ['3_3_cent_azomethine_v2.xyz', '4_4_cent_azomethine_v2.xyz', '3_3_corn_azomethine_v2.xyz', '3_3_cent_carbonyl_v2.xyz']]\n",
      "\n",
      "for xyz_f in list_orig_xyzs + list_mod_xyzs:\n",
      "    !cp {xyz_f} xyz_files/init_final/"
     ],
     "language": "python",
     "metadata": {},
     "outputs": [],
     "prompt_number": 39
    },
    {
     "cell_type": "markdown",
     "metadata": {},
     "source": [
      "In order to find minimas closer to the paper's values we could try constraining the system to only optimise the positions of the ylide atoms and run one of ASEs global optimisation routines. But need to get ASE on the cluster first, this would only serve to lower the lowest reaction energy which at the moment appear too low anyway but would presumably pull up many different local minima perhaps the reported values correspond to some of these?"
     ]
    },
    {
     "cell_type": "heading",
     "level": 2,
     "metadata": {},
     "source": [
      "Transition states"
     ]
    },
    {
     "cell_type": "markdown",
     "metadata": {},
     "source": [
      "We build initial transition state structures by taking the geometry optimised product structures and increasing the c-c bonds spanning the nanographene and the ylide compound  by ~ 0.3 Angstroms. We start with the centrally substituted compounds which were optimised at the B3LYP/6-31G(d) level so we will also search for transition states at this level."
     ]
    },
    {
     "cell_type": "code",
     "collapsed": false,
     "input": [
      "init_ts_xyzs = ['xyz_files/ts/4_4_cent_carbonyl_ts_guess.xyz', 'xyz_files/ts/4_4_cent_azomethine_ts_guess.xyz']\n",
      "cent_ts_molecules = []\n",
      "for xyz_file in init_ts_xyzs:\n",
      "    base_name = os.path.split(xyz_file)[1].replace('_guess.xyz', '')\n",
      "    name = 'B3LYP_631Gd_B3LYP_631Gd_' + base_name\n",
      "    ts_molecule = read(xyz_file)\n",
      "    ts_molecule.set_calculator(Gaussian(label=name, method='B3LYP', basis='6-31G(d)', opt='calcfc, ts noeigen' ))\n",
      "    ts_molecule.calc.set_job(nodes=4, memory=4*1400, time=5)\n",
      "    #ts_molecule.get_potential_energy()\n",
      "    cent_ts_molecules.append(ts_molecule)\n",
      "\n",
      "mols_to_html(check_calcs(cent_ts_molecules))\n",
      "\n",
      "#for mol in hf_ts_molecules:\n",
      "    #mol.get_potential_energy()\n",
      "    #mol.write('xyz_files/ts/' + name + '_hf.xyz')"
     ],
     "language": "python",
     "metadata": {},
     "outputs": [
      {
       "html": [
        "\n",
        "           <script type=\"text/javascript\">\n",
        "           function view_function (event, file_n) {\n",
        "               if (event.ctrlKey && event.shiftKey){\n",
        "                   IPython.notebook.kernel.execute(\"cc_notebook_utils.pygview('\" + file_n + \".log')\");\n",
        "               }\n",
        "               else if (event.ctrlKey){\n",
        "                   IPython.notebook.kernel.execute(\"cc_notebook_utils.pygausssum('\" + file_n + \".log')\");\n",
        "               }\n",
        "               else if (event.shiftKey){\n",
        "                   IPython.notebook.kernel.execute(\"cc_notebook_utils.pyvogadro('\" + file_n + \".log')\");\n",
        "               }\n",
        "               else IPython.notebook.kernel.execute(\"cc_notebook_utils.pyvim('\" + file_n + \".log')\");\n",
        "           }\n",
        "           </script>\n",
        "    <style>\n",
        "    table\n",
        "    {\n",
        "        border-collapse:collapse;\n",
        "    }\n",
        "    td\n",
        "    {\n",
        "        padding:15px;\n",
        "    }\n",
        "    </style>\n",
        "    <body>\n",
        "    <table bgcolor=\"white\">\n",
        "    <col/><tr><td>B3LYP_631Gd_B3LYP_631Gd_4_4_cent_carbonyl_ts</td><td><a href = \"files/cycloadd/B3LYP_631Gd_B3LYP_631Gd_4_4_cent_carbonyl_ts.com\" target = \"_blank\">com</a></td><td><input type=\"button\" value=\"Smart Log\" id=\"B3LYP_631Gd_B3LYP_631Gd_4_4_cent_carbonyl_ts\" onclick=\"view_function(event, this.id)\" /></td><td>Incomplete</td></tr><tr><td>B3LYP_631Gd_B3LYP_631Gd_4_4_cent_azomethine_ts</td><td><a href = \"files/cycloadd/B3LYP_631Gd_B3LYP_631Gd_4_4_cent_azomethine_ts.com\" target = \"_blank\">com</a></td><td><input type=\"button\" value=\"Smart Log\" id=\"B3LYP_631Gd_B3LYP_631Gd_4_4_cent_azomethine_ts\" onclick=\"view_function(event, this.id)\" /></td><td>Incomplete</td></tr>\n",
        "    </table>\n",
        "    </body>"
       ],
       "output_type": "pyout",
       "prompt_number": 40,
       "text": [
        "<IPython.core.display.HTML at 0x46dd6d0>"
       ]
      }
     ],
     "prompt_number": 40
    },
    {
     "cell_type": "markdown",
     "metadata": {},
     "source": [
      "Try just for 4_4_cent v2"
     ]
    },
    {
     "cell_type": "code",
     "collapsed": false,
     "input": [
      "xyz_file = 'xyz_files/ts/4_4_cent_carbonyl_ts_v2_guess.xyz'\n",
      "base_name = os.path.split(xyz_file)[1].replace('_guess.xyz', '')\n",
      "ts_molecule_name = 'B3LYP_631Gd_B3LYP_631Gd_' + base_name\n",
      "ts_molecule = read(xyz_file)\n",
      "ts_molecule.set_calculator(Gaussian(label=ts_molecule_name, method='B3LYP', basis='6-31G(d)', opt='calcfc, ts noeigen' ))\n",
      "ts_molecule.calc.set_job(nodes=8, memory=8*2000, time=12)\n",
      "#ts_molecule.get_potential_energy()"
     ],
     "language": "python",
     "metadata": {},
     "outputs": [],
     "prompt_number": 41
    },
    {
     "cell_type": "code",
     "collapsed": false,
     "input": [
      "check_calcs([ts_molecule])"
     ],
     "language": "python",
     "metadata": {},
     "outputs": [
      {
       "output_type": "pyout",
       "prompt_number": 42,
       "text": [
        "'Calculations complete'"
       ]
      }
     ],
     "prompt_number": 42
    },
    {
     "cell_type": "markdown",
     "metadata": {},
     "source": [
      "Make sure it found a transition state:"
     ]
    },
    {
     "cell_type": "code",
     "collapsed": false,
     "input": [
      "ts_molecule_freq_name = ts_molecule.calc.label + '_freq'\n",
      "ts_molecule_freq = read(ts_molecule.calc.label +'.log')\n",
      "ts_molecule_freq.set_calculator(Gaussian(label=ts_molecule_freq_name, method='B3LYP', basis='6-31G(d)', freq='freq' ))\n",
      "ts_molecule_freq.calc.set_job(nodes=8, memory=8*2000, time=12)\n",
      "#ts_molecule_freq.get_potential_energy()"
     ],
     "language": "python",
     "metadata": {},
     "outputs": [],
     "prompt_number": 43
    },
    {
     "cell_type": "code",
     "collapsed": false,
     "input": [
      "check_calcs([ts_molecule_freq])"
     ],
     "language": "python",
     "metadata": {},
     "outputs": [
      {
       "output_type": "pyout",
       "prompt_number": 44,
       "text": [
        "'Calculations complete'"
       ]
      }
     ],
     "prompt_number": 44
    },
    {
     "cell_type": "code",
     "collapsed": false,
     "input": [
      "ts_molecule_freq.calc.data['NImag']"
     ],
     "language": "python",
     "metadata": {},
     "outputs": [
      {
       "output_type": "pyout",
       "prompt_number": 45,
       "text": [
        "1.0"
       ]
      }
     ],
     "prompt_number": 45
    },
    {
     "cell_type": "markdown",
     "metadata": {},
     "source": [
      "Transition state energy:"
     ]
    },
    {
     "cell_type": "code",
     "collapsed": false,
     "input": [
      "relaxed_geom = [p for p in dft_central_rxn_products if '4_4' in p.calc.label and 'carbonyl' in p.calc.label][0]\n",
      "ts_E = 23.060542301388647*(ts_molecule_freq.calc.energy_zero - relaxed_geom.calc.energy_zero)\n",
      "ts_E"
     ],
     "language": "python",
     "metadata": {},
     "outputs": [
      {
       "output_type": "pyout",
       "prompt_number": 46,
       "text": [
        "7.495977968193863"
       ]
      }
     ],
     "prompt_number": 46
    },
    {
     "cell_type": "markdown",
     "metadata": {},
     "source": [
      "This is about ~30 KJ/mol (c.f. r.t. thermal E ~ ~3.5 KJ/mol). Literature values for similar reactions are varied though: 73 KJ/mol for  <a href=\"http://pubs.acs.org/doi/abs/10.1021/jp904294y\">C60 with cyclopentadiene</a> , and ~365 KJ/mol for <a href= \"http://www.ncbi.nlm.nih.gov/pubmed/22307835\"> graphene with azidotrimethylsilane</a>. What about the transistion state starting from the optimised geometry? [Edit: The reason for this low value is that we have not identified the reaction transition state - see below]"
     ]
    },
    {
     "cell_type": "code",
     "collapsed": false,
     "input": [
      "ts2_molecule = read(relaxed_geom.calc.label +'.log')\n",
      "ts2_molecule_name = 'B3LYP_631Gd_B3LYP_631Gd_' + '4_4_cent_carbonyl_ts2'\n",
      "ts2_molecule.set_calculator(Gaussian(label=ts2_molecule_name, method='B3LYP', basis='6-31G(d)', opt='calcfc, ts noeigen' ))\n",
      "ts2_molecule.calc.set_job(nodes=12, memory=12*2000, time=12)\n",
      "#ts2_molecule.get_potential_energy()"
     ],
     "language": "python",
     "metadata": {},
     "outputs": [],
     "prompt_number": 47
    },
    {
     "cell_type": "code",
     "collapsed": false,
     "input": [
      "check_calcs([ts2_molecule])"
     ],
     "language": "python",
     "metadata": {},
     "outputs": [
      {
       "output_type": "pyout",
       "prompt_number": 48,
       "text": [
        "'Calculations complete'"
       ]
      }
     ],
     "prompt_number": 48
    },
    {
     "cell_type": "markdown",
     "metadata": {},
     "source": [
      "This arrives at the same transition state:"
     ]
    },
    {
     "cell_type": "code",
     "collapsed": false,
     "input": [
      "ts_molecule.calc.energy_zero == ts2_molecule.calc.energy_zero"
     ],
     "language": "python",
     "metadata": {},
     "outputs": [
      {
       "output_type": "pyout",
       "prompt_number": 49,
       "text": [
        "True"
       ]
      }
     ],
     "prompt_number": 49
    },
    {
     "cell_type": "markdown",
     "metadata": {},
     "source": [
      "We examine the vibration associated with the negative force constant (i.e. the motion associated with the systems moving down the potential energy surface away from the transition state)"
     ]
    },
    {
     "cell_type": "code",
     "collapsed": false,
     "input": [
      "from ASE_utils import view_avo\n",
      "#view_avo(ts_molecule_freq)"
     ],
     "language": "python",
     "metadata": {},
     "outputs": [],
     "prompt_number": 50
    },
    {
     "cell_type": "markdown",
     "metadata": {},
     "source": [
      "Examination of the TS reveals it is associated with symmetry breaking about c-o-c bond - so this is not the transition state associated with the reaction."
     ]
    },
    {
     "cell_type": "code",
     "collapsed": false,
     "input": [
      "ts_molecule_freq.write('xyz_files/ts_final/' + ts_molecule_freq.calc.label.replace('_freq', '') + '_sym.xyz')"
     ],
     "language": "python",
     "metadata": {},
     "outputs": [],
     "prompt_number": 51
    },
    {
     "cell_type": "markdown",
     "metadata": {},
     "source": [
      "For cycloadditions Lee recommends starting off the TS search by increasing the relevant c-c bond lengths to ~2.2 Angstrom (rather than the 1.8 that I did for my initial setup)"
     ]
    },
    {
     "cell_type": "code",
     "collapsed": false,
     "input": [
      "ts3_molecule = read('xyz_files/ts/4_4_cent_carbonyl_ts_v3_guess.xyz')\n",
      "ts3_molecule_name = 'B3LYP_631Gd_B3LYP_631Gd_' + '4_4_cent_carbonyl_ts3'\n",
      "ts3_molecule.set_calculator(Gaussian(label=ts3_molecule_name, method='B3LYP', basis='6-31G(d)', opt='calcfc, ts, noeigen' ))\n",
      "ts3_molecule.calc.set_job(nodes=12, memory=12*2000, time=12)\n",
      "#ts3_molecule.get_potential_energy()\n",
      "check_calcs([ts3_molecule])"
     ],
     "language": "python",
     "metadata": {},
     "outputs": [
      {
       "output_type": "pyout",
       "prompt_number": 8,
       "text": [
        "'Calculations complete'"
       ]
      }
     ],
     "prompt_number": 8
    },
    {
     "cell_type": "code",
     "collapsed": false,
     "input": [
      "ts_E = 23.060542301388647*(ts3_molecule.calc.energy_zero - relaxed_geom.calc.energy_zero)\n",
      "ts_E"
     ],
     "language": "python",
     "metadata": {},
     "outputs": [
      {
       "ename": "NameError",
       "evalue": "name 'relaxed_geom' is not defined",
       "output_type": "pyerr",
       "traceback": [
        "\u001b[1;31m---------------------------------------------------------------------------\u001b[0m\n\u001b[1;31mNameError\u001b[0m                                 Traceback (most recent call last)",
        "\u001b[1;32m<ipython-input-9-41ebe3c86bea>\u001b[0m in \u001b[0;36m<module>\u001b[1;34m()\u001b[0m\n\u001b[1;32m----> 1\u001b[1;33m \u001b[0mts_E\u001b[0m \u001b[1;33m=\u001b[0m \u001b[1;36m23.060542301388647\u001b[0m\u001b[1;33m*\u001b[0m\u001b[1;33m(\u001b[0m\u001b[0mts3_molecule\u001b[0m\u001b[1;33m.\u001b[0m\u001b[0mcalc\u001b[0m\u001b[1;33m.\u001b[0m\u001b[0menergy_zero\u001b[0m \u001b[1;33m-\u001b[0m \u001b[0mrelaxed_geom\u001b[0m\u001b[1;33m.\u001b[0m\u001b[0mcalc\u001b[0m\u001b[1;33m.\u001b[0m\u001b[0menergy_zero\u001b[0m\u001b[1;33m)\u001b[0m\u001b[1;33m\u001b[0m\u001b[0m\n\u001b[0m\u001b[0;32m      2\u001b[0m \u001b[0mts_E\u001b[0m\u001b[1;33m\u001b[0m\u001b[0m\n",
        "\u001b[1;31mNameError\u001b[0m: name 'relaxed_geom' is not defined"
       ]
      }
     ],
     "prompt_number": 9
    },
    {
     "cell_type": "markdown",
     "metadata": {},
     "source": [
      "Again make sure it is a T.S:"
     ]
    },
    {
     "cell_type": "code",
     "collapsed": false,
     "input": [
      "ts3_molecule_freq_name = ts3_molecule.calc.label + '_freq'\n",
      "ts3_molecule_freq = read(ts3_molecule.calc.label +'.log')\n",
      "ts3_molecule_freq.set_calculator(Gaussian(label=ts3_molecule_freq_name, method='B3LYP', basis='6-31G(d)', freq='freq' ))\n",
      "ts3_molecule_freq.calc.set_job(nodes=12, memory=12*2000, time=12)\n",
      "#ts3_molecule_freq.get_potential_energy()\n",
      "check_calcs([ts3_molecule_freq])"
     ],
     "language": "python",
     "metadata": {},
     "outputs": [
      {
       "output_type": "pyout",
       "prompt_number": 10,
       "text": [
        "'Calculations complete'"
       ]
      }
     ],
     "prompt_number": 10
    },
    {
     "cell_type": "code",
     "collapsed": false,
     "input": [
      "ts3_molecule_freq.calc.data['NImag'], ts3_molecule_freq.calc.max_data['vibfreqs'][0]"
     ],
     "language": "python",
     "metadata": {},
     "outputs": [
      {
       "output_type": "pyout",
       "prompt_number": 11,
       "text": [
        "(1.0, -389.777)"
       ]
      }
     ],
     "prompt_number": 11
    },
    {
     "cell_type": "markdown",
     "metadata": {},
     "source": [
      "Check the calculation is stable:"
     ]
    },
    {
     "cell_type": "code",
     "collapsed": false,
     "input": [
      "ts3_molecule.calc.restart(add_label='stable', opt='', stable='opt')#, start=True)\n",
      "check_calcs([ts3_molecule])\n",
      "mols_to_html([ts3_molecule])"
     ],
     "language": "python",
     "metadata": {},
     "outputs": [
      {
       "html": [
        "\n",
        "           <script type=\"text/javascript\">\n",
        "           function view_function (event, file_n) {\n",
        "               if (event.ctrlKey && event.shiftKey){\n",
        "                   IPython.notebook.kernel.execute(\"cc_notebook_utils.pygview('\" + file_n + \".log')\");\n",
        "               }\n",
        "               else if (event.ctrlKey){\n",
        "                   IPython.notebook.kernel.execute(\"cc_notebook_utils.pygausssum('\" + file_n + \".log')\");\n",
        "               }\n",
        "               else if (event.shiftKey){\n",
        "                   IPython.notebook.kernel.execute(\"cc_notebook_utils.pyvogadro('\" + file_n + \".log')\");\n",
        "               }\n",
        "               else IPython.notebook.kernel.execute(\"cc_notebook_utils.pyvim('\" + file_n + \".log')\");\n",
        "           }\n",
        "           </script>\n",
        "    <style>\n",
        "    table\n",
        "    {\n",
        "        border-collapse:collapse;\n",
        "    }\n",
        "    td\n",
        "    {\n",
        "        padding:15px;\n",
        "    }\n",
        "    </style>\n",
        "    <body>\n",
        "    <table bgcolor=\"white\">\n",
        "    <col/><tr><td>B3LYP_631Gd_B3LYP_631Gd_4_4_cent_carbonyl_ts3_stable_restart_1</td><td><a href = \"files/cycloadd/B3LYP_631Gd_B3LYP_631Gd_4_4_cent_carbonyl_ts3_stable_restart_1.com\" target = \"_blank\">com</a></td><td><input type=\"button\" value=\"Smart Log\" id=\"B3LYP_631Gd_B3LYP_631Gd_4_4_cent_carbonyl_ts3_stable_restart_1\" onclick=\"view_function(event, this.id)\" /></td><td>Success</td><td> The wavefunction has an RHF -> UHF instability.\n",
        "</td></tr>\n",
        "    </table>\n",
        "    </body>"
       ],
       "output_type": "pyout",
       "prompt_number": 12,
       "text": [
        "<IPython.core.display.HTML at 0x4860850>"
       ]
      }
     ],
     "prompt_number": 12
    },
    {
     "cell_type": "code",
     "collapsed": false,
     "input": [
      "ts3_molecule.calc.energy_zero - ts3_molecule_freq.calc.energy_zero"
     ],
     "language": "python",
     "metadata": {},
     "outputs": [
      {
       "output_type": "pyout",
       "prompt_number": 13,
       "text": [
        "-0.1015855822552112"
       ]
      }
     ],
     "prompt_number": 13
    },
    {
     "cell_type": "code",
     "collapsed": false,
     "input": [
      "ts3_molecule_freq.write('xyz_files/ts_final/' + ts3_molecule_freq.calc.label.replace('_freq', '') + '_final.xyz')"
     ],
     "language": "python",
     "metadata": {},
     "outputs": [],
     "prompt_number": 56
    },
    {
     "cell_type": "markdown",
     "metadata": {},
     "source": [
      "This worked so now we do it for the azomethine ylide and the other substitution locations:"
     ]
    },
    {
     "cell_type": "code",
     "collapsed": false,
     "input": [
      "azo_ts_molecule = read('xyz_files/ts/4_4_cent_azomethine_ts_v2_guess.xyz')\n",
      "azo_ts_molecule_name = 'B3LYP_631Gd_B3LYP_631Gd_' + '4_4_cent_azomethine_ts_v2'\n",
      "azo_ts_molecule.set_calculator(Gaussian(label=azo_ts_molecule_name, method='B3LYP', basis='6-31G(d)', opt='calcfc, ts, noeigen' ))\n",
      "azo_ts_molecule.calc.set_job(nodes=12, memory=12*2000, time=12)\n",
      "#azo_ts_molecule.get_potential_energy()\n",
      "check_calcs([azo_ts_molecule])"
     ],
     "language": "python",
     "metadata": {},
     "outputs": [
      {
       "output_type": "pyout",
       "prompt_number": 14,
       "text": [
        "'Calculations complete'"
       ]
      }
     ],
     "prompt_number": 14
    },
    {
     "cell_type": "code",
     "collapsed": false,
     "input": [
      "azo_ts_molecule_freq_name = azo_ts_molecule.calc.label + '_freq'\n",
      "azo_ts_molecule_freq = read(azo_ts_molecule.calc.label +'.log')\n",
      "azo_ts_molecule_freq.set_calculator(Gaussian(label=azo_ts_molecule_freq_name, method='B3LYP', basis='6-31G(d)', freq='freq' ))\n",
      "azo_ts_molecule_freq.calc.set_job(nodes=12, memory=12*2000, time=12)\n",
      "#azo_ts_molecule_freq.get_potential_energy()\n",
      "check_calcs([azo_ts_molecule_freq])"
     ],
     "language": "python",
     "metadata": {},
     "outputs": [
      {
       "output_type": "pyout",
       "prompt_number": 15,
       "text": [
        "'Calculations complete'"
       ]
      }
     ],
     "prompt_number": 15
    },
    {
     "cell_type": "code",
     "collapsed": false,
     "input": [
      "azo_ts_molecule_freq.calc.data['NImag'], azo_ts_molecule_freq.calc.max_data['vibfreqs'][0] "
     ],
     "language": "python",
     "metadata": {},
     "outputs": [
      {
       "output_type": "pyout",
       "prompt_number": 16,
       "text": [
        "(1.0, -127.7718)"
       ]
      }
     ],
     "prompt_number": 16
    },
    {
     "cell_type": "markdown",
     "metadata": {},
     "source": [
      "Check the imaginary mode looks like the reaction transition state:"
     ]
    },
    {
     "cell_type": "code",
     "collapsed": false,
     "input": [
      "#view_avo(azo_ts_molecule_freq)"
     ],
     "language": "python",
     "metadata": {},
     "outputs": [],
     "prompt_number": 17
    },
    {
     "cell_type": "code",
     "collapsed": false,
     "input": [
      "azo_ts_molecule_freq.write('xyz_files/ts_final/' + azo_ts_molecule_freq.calc.label.replace('_freq', '') + '_final.xyz')"
     ],
     "language": "python",
     "metadata": {},
     "outputs": [],
     "prompt_number": 61
    },
    {
     "cell_type": "markdown",
     "metadata": {},
     "source": [
      "Check the calculation is stable:"
     ]
    },
    {
     "cell_type": "code",
     "collapsed": false,
     "input": [
      "azo_ts_molecule.calc.restart(add_label='stable', opt='', stable='opt')#, start=True)\n",
      "check_calcs([azo_ts_molecule])\n",
      "mols_to_html([azo_ts_molecule])"
     ],
     "language": "python",
     "metadata": {},
     "outputs": [
      {
       "html": [
        "\n",
        "           <script type=\"text/javascript\">\n",
        "           function view_function (event, file_n) {\n",
        "               if (event.ctrlKey && event.shiftKey){\n",
        "                   IPython.notebook.kernel.execute(\"cc_notebook_utils.pygview('\" + file_n + \".log')\");\n",
        "               }\n",
        "               else if (event.ctrlKey){\n",
        "                   IPython.notebook.kernel.execute(\"cc_notebook_utils.pygausssum('\" + file_n + \".log')\");\n",
        "               }\n",
        "               else if (event.shiftKey){\n",
        "                   IPython.notebook.kernel.execute(\"cc_notebook_utils.pyvogadro('\" + file_n + \".log')\");\n",
        "               }\n",
        "               else IPython.notebook.kernel.execute(\"cc_notebook_utils.pyvim('\" + file_n + \".log')\");\n",
        "           }\n",
        "           </script>\n",
        "    <style>\n",
        "    table\n",
        "    {\n",
        "        border-collapse:collapse;\n",
        "    }\n",
        "    td\n",
        "    {\n",
        "        padding:15px;\n",
        "    }\n",
        "    </style>\n",
        "    <body>\n",
        "    <table bgcolor=\"white\">\n",
        "    <col/><tr><td>B3LYP_631Gd_B3LYP_631Gd_4_4_cent_azomethine_ts_v2_stable_restart_1</td><td><a href = \"files/cycloadd/B3LYP_631Gd_B3LYP_631Gd_4_4_cent_azomethine_ts_v2_stable_restart_1.com\" target = \"_blank\">com</a></td><td><input type=\"button\" value=\"Smart Log\" id=\"B3LYP_631Gd_B3LYP_631Gd_4_4_cent_azomethine_ts_v2_stable_restart_1\" onclick=\"view_function(event, this.id)\" /></td><td>Success</td><td> The wavefunction has an RHF -> UHF instability.\n",
        "</td></tr>\n",
        "    </table>\n",
        "    </body>"
       ],
       "output_type": "pyout",
       "prompt_number": 18,
       "text": [
        "<IPython.core.display.HTML at 0x45ca2d0>"
       ]
      }
     ],
     "prompt_number": 18
    },
    {
     "cell_type": "code",
     "collapsed": false,
     "input": [
      "azo_ts_molecule.calc.energy_zero - azo_ts_molecule_freq.calc.energy_zero"
     ],
     "language": "python",
     "metadata": {},
     "outputs": [
      {
       "output_type": "pyout",
       "prompt_number": 19,
       "text": [
        "-0.10684282390138833"
       ]
      }
     ],
     "prompt_number": 19
    },
    {
     "cell_type": "code",
     "collapsed": false,
     "input": [
      "#initially set the relaxed geom to [p for p in cent_rxn_products if '4_4' in p.calc.label and 'azo' in p.calc.label][0]\n",
      "#but this was a mistake because we want the v2 version which was no put in to the cent_rxn_products list - need to be careful about this kind of error!!"
     ],
     "language": "python",
     "metadata": {},
     "outputs": [],
     "prompt_number": 62
    },
    {
     "cell_type": "code",
     "collapsed": false,
     "input": [
      "relaxed_geom = cent_azo_4_4_v2\n",
      "ts_E = 23.060542301388647*(azo_ts_molecule.calc.energy_zero - relaxed_geom.calc.energy_zero)\n",
      "ts_E"
     ],
     "language": "python",
     "metadata": {},
     "outputs": [
      {
       "output_type": "pyout",
       "prompt_number": 63,
       "text": [
        "16.718611188108827"
       ]
      }
     ],
     "prompt_number": 63
    },
    {
     "cell_type": "code",
     "collapsed": false,
     "input": [
      "#[c.calc.label for c in freq_calcs if c.calc.data['NImag'] != 1]"
     ],
     "language": "python",
     "metadata": {},
     "outputs": [],
     "prompt_number": 64
    },
    {
     "cell_type": "code",
     "collapsed": false,
     "input": [
      "#def get_nearest_c_neighbour(mol, atom):\n",
      "#    neighbs = get_neighbours(mol, atom, 10)\n",
      "#    c_neighbs = [n for n in neighbs if n.symbol == 'C']\n",
      "#    return c_neighbs[0]\n",
      "\n",
      "#def get_two_nearest_c_neighbours(mol, atom):\n",
      "#    neighbs = get_neighbours(mol, atom, 10)\n",
      "#    c_neighbs = [n for n in neighbs if n.symbol == 'C']\n",
      "#    return c_neighbs[0:2]\n",
      "\n",
      "#def get_transition_state_b_lengths(mol):\n",
      "#    cent_y_a= next(a for a in mol if a.symbol == 'O' or a.symbol == 'N')\n",
      "#    carbons_of_interest_1 = get_two_nearest_c_neighbours(mol, cent_y_a)\n",
      "#    carbons_of_interest_2 = [get_nearest_c_neighbour(mol, c) for c in carbons_of_interest_1]\n",
      "\n",
      "#    return [np.linalg.norm(carbons_of_interest_1[i].position - carbons_of_interest_2[i].position) for i in range(len(carbons_of_interest_1))]"
     ],
     "language": "python",
     "metadata": {},
     "outputs": [],
     "prompt_number": 65
    },
    {
     "cell_type": "code",
     "collapsed": false,
     "input": [
      "#bond_dists = [[title_f(freq_calc)] + get_transition_state_b_lengths(freq_calc) for freq_calc in freq_calcs]\n",
      "#bond_dists"
     ],
     "language": "python",
     "metadata": {},
     "outputs": [],
     "prompt_number": 66
    },
    {
     "cell_type": "heading",
     "level": 2,
     "metadata": {},
     "source": [
      "Oniom calculations"
     ]
    },
    {
     "cell_type": "markdown",
     "metadata": {},
     "source": [
      "moved to Graphene_oniom_cycloadditions Notebook as some problem with running calcs within nested folders"
     ]
    },
    {
     "cell_type": "code",
     "collapsed": false,
     "input": [
      "#!cp xyz_files/final/*.xyz oniom/oniom_xyz_files/non_oniom_final/\n",
      "#!cp xyz_files/init/*.xyz oniom/oniom_xyz_files/init/"
     ],
     "language": "python",
     "metadata": {},
     "outputs": [],
     "prompt_number": 67
    },
    {
     "cell_type": "code",
     "collapsed": false,
     "input": [
      "#cd oniom/"
     ],
     "language": "python",
     "metadata": {},
     "outputs": [],
     "prompt_number": 68
    },
    {
     "cell_type": "code",
     "collapsed": false,
     "input": [
      "#xyz_files = [xyz_file for xyz_file in glob('oniom_xyz_files/non_onion_final/*.xyz') if '3_3' in xyz_file or '4_4' in xyz_file or 'ylide' in xyz_file]\n",
      "#ylides_xyz = sorted([xyz_f for xyz_f in xyz_files if 'ylide' in xyz_f])\n",
      "#graphenes_xyz =  sorted([xyz_f for xyz_f in xyz_files if 'graphene' in xyz_f])\n",
      "#product_xyz = sorted([xyz_f for xyz_f in xyz_files if 'ylide' not in xyz_f and 'graphene' not in xyz_f])"
     ],
     "language": "python",
     "metadata": {},
     "outputs": [],
     "prompt_number": 69
    },
    {
     "cell_type": "markdown",
     "metadata": {},
     "source": [
      "try test case calculation the centre azo substituted 3_3 fragment"
     ]
    },
    {
     "cell_type": "code",
     "collapsed": false,
     "input": [
      "#o_3_3_azo = read('oniom_xyz_files/non_oniom_final/B3LYP_631Gd_B3LYP_631Gd_3_3_cent_azomethine_v2.xyz')\n",
      "#name = 'B3LYP_631Gd_B3LYP_631Gd_3_3_cent_azomethine'\n",
      "#o_3_3_azo.set_calculator(Gaussian(label=name, method='oniom(B3LYP/6-31G(d):am1)', basis='oniom'))\n",
      "#o_3_3_azo.calc.coord_params['layers'] = [[no -1 for no in [14,13,45,46,51,50,48,49,47,52,15,16,6,5,24,12,23,11]]]\n",
      "#o_3_3_azo.calc.coord_params['layer_mults'] = [1,1]\n",
      "#o_3_3_azo.get_potential_energy()\n",
      "#check_calcs([o_3_3_azo])"
     ],
     "language": "python",
     "metadata": {},
     "outputs": [],
     "prompt_number": 70
    },
    {
     "cell_type": "code",
     "collapsed": false,
     "input": [
      "#o_3_3 = read('oniom_xyz_files/non_oniom_final/B3LYP_631Gd_B3LYP_631Gd_3_3_graphene.xyz')\n",
      "#name = 'B3LYP_631Gd_B3LYP_631Gd_4_4_graphene'\n",
      "#o_3_3.set_calculator(Gaussian(label=name, method='oniom(B3LYP/6-31G(d):am1)', basis='oniom'))\n",
      "#o_3_3.calc.coord_params['layers'] = [[no -1 for no in [14,13,15,16,6,5,24,12,23,11]]]\n",
      "#o_3_3.calc.coord_params['layer_mults'] = [1,1]\n",
      "#o_3_3.get_potential_energy()\n",
      "#check_calcs(o_3_3)"
     ],
     "language": "python",
     "metadata": {},
     "outputs": [],
     "prompt_number": 71
    },
    {
     "cell_type": "code",
     "collapsed": false,
     "input": [
      "#azo = ylides[0]"
     ],
     "language": "python",
     "metadata": {},
     "outputs": [],
     "prompt_number": 72
    },
    {
     "cell_type": "markdown",
     "metadata": {},
     "source": [
      "Oniom calculated E_r is:"
     ]
    },
    {
     "cell_type": "code",
     "collapsed": false,
     "input": [
      "#E_r1_evs = o_3_3_azo.get_potential_energy() - o_3_3.get_potential_energy() - azo.get_potential_energy()\n",
      "#E_r1 = E_r1_evs * 23.060542301388647"
     ],
     "language": "python",
     "metadata": {},
     "outputs": [],
     "prompt_number": 73
    },
    {
     "cell_type": "markdown",
     "metadata": {},
     "source": [
      "C.f. E_r of 11.135533 via straight B3LYP"
     ]
    },
    {
     "cell_type": "heading",
     "level": 2,
     "metadata": {},
     "source": [
      "Sources of error"
     ]
    },
    {
     "cell_type": "markdown",
     "metadata": {},
     "source": [
      "Misread paper - initially I thought all the calculations for larger fragments were performed at HF/STO-3G geometrise whereas infact those that involved a centrally substituted graphene fragment were performed at B3LYP/6-31G geometry. I was also reading off the UB3LYP energies instead of the RB3LYP energies (which I'm using for the comparison)\n",
      "\n",
      "At one point the ASE scripts were reading from prexisting log files that were incorrect - if you accidently misname a calculation (by e.g. cutting and pasting and forgetting to change the requisit sections) then you can overwrite an existing log file with a log file for another calculation. When you now analyse the calculations you will be attributing the the properties from one calculations to another calculation.\n",
      "\n",
      "The 4_4_corner_azomethine calculation optimised the geomoetry to a different minima, to the one used in the paper. Only manually examining the subsequent files and then trying a different starting geometry allowed me to reach a better match.\n",
      "\n",
      "At several points alterations later in the notebook have messed up ealier cells - e.g. loading up relevant xyz files using glob(*.xyz) initially works but if we then write out some more xyz files e.g. for optimised geometries or transition states, rerunning the original cell will then try and load all these extra xya files up.\n",
      "\n",
      "Transition state we arrived at was not the reaction transition state but instead was one associated with breaking the symmetry across the c-o-c bond (c.f. ethane - there is a transition state associated with eclipsed ethane where the coordinate associated with the maximum is the dihedral and the minimum energy geometry is the staggered conformation)"
     ]
    },
    {
     "cell_type": "heading",
     "level": 2,
     "metadata": {},
     "source": [
      "Solutions"
     ]
    },
    {
     "cell_type": "markdown",
     "metadata": {},
     "source": [
      "Read papers more carefully!\n",
      "\n",
      "Be careful on copy pasting from other cells particularly regarding the names assigned to the molecules - think about ways to use directories\n",
      "\n",
      "Impliment a magic function that remotely runs a particular cell, install ASE on cx1 and make use of the global minima finding algorithms that ASE possesses.\n",
      "\n",
      "Be careful loading files with wildcards, and if at any point in a notebook we have done so be careful writing other files. Could we somehow use temporary directories here?"
     ]
    }
   ],
   "metadata": {}
  }
 ]
}