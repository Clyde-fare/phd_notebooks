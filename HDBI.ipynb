{
 "cells": [
  {
   "cell_type": "code",
   "execution_count": 1,
   "metadata": {
    "collapsed": false
   },
   "outputs": [
    {
     "name": "stderr",
     "output_type": "stream",
     "text": [
      "/home/clyde/anaconda/envs/biotools/lib/python2.7/site-packages/IPython/nbformat.py:13: ShimWarning: The `IPython.nbformat` package has been deprecated. You should import from nbformat instead.\n",
      "  \"You should import from nbformat instead.\", ShimWarning)\n",
      "/home/clyde/anaconda/envs/biotools/lib/python2.7/site-packages/IPython/html.py:14: ShimWarning: The `IPython.html` package has been deprecated. You should import from `notebook` instead. `IPython.html.widgets` has moved to `ipywidgets`.\n",
      "  \"`IPython.html.widgets` has moved to `ipywidgets`.\", ShimWarning)\n"
     ]
    },
    {
     "data": {
      "application/javascript": [
       "\n",
       "require(['nbextensions/cc_notebook'])\n",
       "require(['nbextensions/jsmol/JSmol.min.nojq'])\n"
      ],
      "text/plain": [
       "<IPython.core.display.Javascript object>"
      ]
     },
     "metadata": {},
     "output_type": "display_data"
    }
   ],
   "source": [
    "import pandas\n",
    "from ase_extensions.ase_utils import *\n",
    "from cc_notebook import *\n",
    "from collections import OrderedDict as OD\n",
    "import numpy as np\n",
    "from webbrowser import open as open_log\n",
    "from math import pi\n",
    "from IPython.core.display import HTML, Image\n",
    "from ase.io import read, write\n",
    "from gausspy import Gaussian\n",
    "from glob import glob\n",
    "#from adsy import display as ad_disp\n",
    "\n",
    "pandas.set_option(\"display.max_rows\",100)\n",
    "pandas.set_option(\"display.max_columns\",10)\n",
    "#ad_disp.extended_styles()\n"
   ]
  },
  {
   "cell_type": "code",
   "execution_count": 4,
   "metadata": {
    "collapsed": false
   },
   "outputs": [
    {
     "name": "stdout",
     "output_type": "stream",
     "text": [
      "[Errno 2] No such file or directory: 'hbdi'\n",
      "/home/clyde/Dropbox/Project Stuff/Notebooks/hbdi\n"
     ]
    }
   ],
   "source": [
    "cd hbdi"
   ]
  },
  {
   "cell_type": "code",
   "execution_count": 5,
   "metadata": {
    "collapsed": false
   },
   "outputs": [],
   "source": [
    "hbdi_xyz = 'HBDI.xyz'\n",
    "\n",
    "hf_molecules = []\n",
    "base_name = os.path.split(hbdi_xyz)[1].replace('.xyz', '')\n",
    "name = 'HF_STO3G_HF_STO3G_' + base_name \n",
    "hf_molecule = read(hbdi_xyz)\n",
    "hf_molecule.set_calculator(Gaussian(label=name, method='HF', basis='STO-3G', opt='opt'))\n",
    "hf_molecule.calc.set_job(nodes=8, memory=8*1400, time=5, queue='pqmb')\n",
    "#hf_molecule.calc.start()"
   ]
  },
  {
   "cell_type": "code",
   "execution_count": 5,
   "metadata": {
    "collapsed": false
   },
   "outputs": [
    {
     "data": {
      "text/html": [
       "<div style=float:left><div id='applet_div_id_3885059030134'></div></div>\n",
       "<script type=\"text/Javascript\">//initialisation\n",
       "    var Info = {\n",
       "        color: \"#FFFFFF\",\n",
       "        width: 300,\n",
       "        height: 300,\n",
       "        serverURL: \"/nbextensions/jsmol/jsmol.php \",\n",
       "        use: \"HTML5\",\n",
       "        j2sPath: \"/nbextensions/jsmol/j2s\",\n",
       "        console: \"jmolApplet0_infodiv\"\n",
       "    }\n",
       "    //prevent applet from immediately generating html - allows us to place the applet in the div we wish\n",
       "    Jmol.setDocument(0)\n",
       "    //start applet\n",
       "    applet_id_3885059030134 = Jmol.getApplet(\"applet_id_3885059030134\", Info)\n",
       "    //insert applet html into applet_div_id_3885059030134\n",
       "    $(\"#applet_div_id_3885059030134\").html(Jmol.getAppletHtml(applet_id_3885059030134))\n",
       "    //execute scripts\n",
       "    Jmol.script(applet_id_3885059030134,\"load hbdi/HBDI.xyz; select all; set echo echoname 50% 90%; font echo 15; echo HBDI;; set frank off; sync . SLAVE;\")</script>"
      ],
      "text/plain": [
       "<IPython.core.display.HTML object>"
      ]
     },
     "execution_count": 5,
     "metadata": {},
     "output_type": "execute_result"
    }
   ],
   "source": [
    "view_ipython_jmol(hbdi_xyz)"
   ]
  },
  {
   "cell_type": "code",
   "execution_count": 6,
   "metadata": {
    "collapsed": false
   },
   "outputs": [
    {
     "data": {
      "text/html": [
       "\n",
       "    <style>\n",
       "    table\n",
       "    {\n",
       "        border-collapse:collapse;\n",
       "    }\n",
       "    td\n",
       "    {\n",
       "        padding:15px;\n",
       "    }\n",
       "    </style>\n",
       "    <body>\n",
       "    <table bgcolor=\"white\">\n",
       "    <col/><tr><td>HF_STO3G_HF_STO3G_HBDI</td><td><input type=\"button\" value=\"Smart Log\" id=\"HF_STO3G_HF_STO3G_HBDI\" onclick=\"IPython.cc_notebook.view_function(event, this.id)\" /></td><td>Success</td></tr>\n",
       "    </table>\n",
       "    </body>"
      ],
      "text/plain": [
       "<IPython.core.display.HTML object>"
      ]
     },
     "execution_count": 6,
     "metadata": {},
     "output_type": "execute_result"
    }
   ],
   "source": [
    "check_calcs([hf_molecule])\n",
    "mols_to_html([hf_molecule])"
   ]
  },
  {
   "cell_type": "code",
   "execution_count": 10,
   "metadata": {
    "collapsed": false
   },
   "outputs": [
    {
     "data": {
      "text/plain": [
       "<gausspy.gaussian.Gaussian instance at 0x7fa2c5d44638>"
      ]
     },
     "execution_count": 10,
     "metadata": {},
     "output_type": "execute_result"
    }
   ],
   "source": [
    "small_hbdi_xyz = 'small_neutral_approx_hbdi.xyz'\n",
    "\n",
    "name =  'small_neutral_hbdi' \n",
    "\n",
    "#initial rough structure\n",
    "hbdi_neutral = read(small_hbdi_xyz)\n",
    "hbdi_neutral.set_calculator(Gaussian(label='HF_STO3G_HF_STO3G_' + name, method='HF', basis='STO-3G', opt='opt'))\n",
    "hbdi_neutral.calc.set_job(nodes=8, memory=8*2000, time=5, queue='pqmb',version='g09-d01')\n",
    "#hbdi_neutral.calc.start()\n",
    "\n",
    "hbdi_neutral.calc.restart(method='B3LYP', basis='6-31G', label='B3LYP_631G_B3LYP_631G_' + name)\n",
    "#hbdi_neutral.calc.start()\n",
    "hbdi_neutral.calc.restart(method='B3LYP', basis='6-31G', freq='freq', stable='')\n",
    "#hbdi_neutral.calc.start()\n",
    "#hbdi_neutral.calc.restart(method='B3LYP', basis='6-31G', opt='', stable='opt')\n",
    "#hbdi_neutral.calc.start(frc=True)\n"
   ]
  },
  {
   "cell_type": "code",
   "execution_count": 11,
   "metadata": {
    "collapsed": false,
    "scrolled": true
   },
   "outputs": [
    {
     "data": {
      "text/html": [
       "\n",
       "    <style>\n",
       "    table\n",
       "    {\n",
       "        border-collapse:collapse;\n",
       "    }\n",
       "    td\n",
       "    {\n",
       "        padding:15px;\n",
       "    }\n",
       "    </style>\n",
       "    <body>\n",
       "    <table bgcolor=\"white\">\n",
       "    <col/><tr><td>B3LYP_631G_B3LYP_631G_small_neutral_hbdi_restart_1</td><td><input type=\"button\" value=\"Smart Log\" id=\"B3LYP_631G_B3LYP_631G_small_neutral_hbdi_restart_1\" onclick=\"IPython.cc_notebook.view_function(event, this.id)\" /></td><td>Success</td></tr>\n",
       "    </table>\n",
       "    </body>"
      ],
      "text/plain": [
       "<IPython.core.display.HTML object>"
      ]
     },
     "execution_count": 11,
     "metadata": {},
     "output_type": "execute_result"
    }
   ],
   "source": [
    "check_calcs([hbdi_neutral],frc=True)\n",
    "mols_to_html([hbdi_neutral])"
   ]
  },
  {
   "cell_type": "code",
   "execution_count": 19,
   "metadata": {
    "collapsed": false
   },
   "outputs": [],
   "source": [
    "hbdi_anion = read(hbdi_neutral.calc.log)\n",
    "del hbdi_anion[20]\n",
    "hbdi_anion[12].charge = -1\n",
    "\n",
    "hbdi_anion.set_calculator(Gaussian(label='B3LYP_631G_B3LYP_631G_small_anion_hbdi',\n",
    "                                   method='B3LYP', basis='6-31G',opt='opt',ioplist=['4/69=2']))\n",
    "hbdi_anion.calc.set_job(nodes=16, memory=16*2000, time=5, queue='pqmb',version='g09-d01')\n",
    "#hbdi_anion.calc.start()"
   ]
  },
  {
   "cell_type": "code",
   "execution_count": 21,
   "metadata": {
    "collapsed": true
   },
   "outputs": [],
   "source": [
    "hbdi_anion.calc.restart(opt='',freq='freq')\n",
    "#hbdi_anion.calc.start()"
   ]
  },
  {
   "cell_type": "code",
   "execution_count": 23,
   "metadata": {
    "collapsed": true
   },
   "outputs": [],
   "source": [
    "hbdi_anion.calc.restart(label='B3LYP_6311G_pl_d_B3LYP_6311G_pl_d_small_anion_hbdi', \n",
    "                        basis='6-311+G*', integral='ultrafine', opt='vtight')\n",
    "#hbdi_anion.calc.start()"
   ]
  },
  {
   "cell_type": "code",
   "execution_count": 27,
   "metadata": {
    "collapsed": false
   },
   "outputs": [
    {
     "data": {
      "text/html": [
       "\n",
       "    <style>\n",
       "    table\n",
       "    {\n",
       "        border-collapse:collapse;\n",
       "    }\n",
       "    td\n",
       "    {\n",
       "        padding:15px;\n",
       "    }\n",
       "    </style>\n",
       "    <body>\n",
       "    <table bgcolor=\"white\">\n",
       "    <col/><tr><td>B3LYP_6311G_pl_d_B3LYP_6311G_pl_d_small_anion_hbdi</td><td><input type=\"button\" value=\"Smart Log\" id=\"B3LYP_6311G_pl_d_B3LYP_6311G_pl_d_small_anion_hbdi\" onclick=\"IPython.cc_notebook.view_function(event, this.id)\" /></td><td>Success</td></tr>\n",
       "    </table>\n",
       "    </body>"
      ],
      "text/plain": [
       "<IPython.core.display.HTML object>"
      ]
     },
     "execution_count": 27,
     "metadata": {},
     "output_type": "execute_result"
    }
   ],
   "source": [
    "check_calcs([hbdi_anion],frc=True)\n",
    "mols_to_html([hbdi_anion])"
   ]
  },
  {
   "cell_type": "code",
   "execution_count": 28,
   "metadata": {
    "collapsed": false
   },
   "outputs": [
    {
     "data": {
      "text/plain": [
       "1643.2767999999999"
      ]
     },
     "execution_count": 28,
     "metadata": {},
     "output_type": "execute_result"
    }
   ],
   "source": [
    "1697.6 * 0.968"
   ]
  },
  {
   "cell_type": "code",
   "execution_count": null,
   "metadata": {
    "collapsed": true
   },
   "outputs": [],
   "source": [
    "hbdi_anion.calc.restart(opt='',freq='freq')\n",
    "#hbdi_anion.calc.start()"
   ]
  },
  {
   "cell_type": "code",
   "execution_count": 13,
   "metadata": {
    "collapsed": false
   },
   "outputs": [
    {
     "name": "stderr",
     "output_type": "stream",
     "text": [
      "/home/clyde/anaconda/envs/biotools/lib/python2.7/site-packages/IPython/utils/traitlets.py:5: UserWarning: IPython.utils.traitlets has moved to a top-level traitlets package.\n",
      "  warn(\"IPython.utils.traitlets has moved to a top-level traitlets package.\")\n"
     ]
    }
   ],
   "source": [
    "from chemlab.notebook import download_molecule, display_molecule"
   ]
  },
  {
   "cell_type": "code",
   "execution_count": 15,
   "metadata": {
    "collapsed": false
   },
   "outputs": [
    {
     "data": {
      "text/plain": [
       "molecule(C8H10N4O2)"
      ]
     },
     "execution_count": 15,
     "metadata": {},
     "output_type": "execute_result"
    }
   ],
   "source": [
    "m=download_molecule('Caffeine')\n",
    "display_molecule(m)"
   ]
  },
  {
   "cell_type": "code",
   "execution_count": 15,
   "metadata": {
    "collapsed": true
   },
   "outputs": [],
   "source": [
    "import mdtraj"
   ]
  },
  {
   "cell_type": "code",
   "execution_count": 21,
   "metadata": {
    "collapsed": false
   },
   "outputs": [
    {
     "data": {
      "text/plain": [
       "<mdtraj.Trajectory with 1 frames, 36 atoms, 1 residues, without unitcells at 0x7fc0f0d4c310>"
      ]
     },
     "execution_count": 21,
     "metadata": {},
     "output_type": "execute_result"
    }
   ],
   "source": [
    "hf_molecule.write('hf_mol.pdb')\n",
    "m2=mdtraj.load_pdb('hf_mol.pdb')\n",
    "m2"
   ]
  }
 ],
 "metadata": {
  "kernelspec": {
   "display_name": "Python 2",
   "language": "python",
   "name": "python2"
  },
  "language_info": {
   "codemirror_mode": {
    "name": "ipython",
    "version": 2
   },
   "file_extension": ".py",
   "mimetype": "text/x-python",
   "name": "python",
   "nbconvert_exporter": "python",
   "pygments_lexer": "ipython2",
   "version": "2.7.11"
  }
 },
 "nbformat": 4,
 "nbformat_minor": 0
}
