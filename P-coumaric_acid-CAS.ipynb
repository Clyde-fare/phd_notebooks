{
 "metadata": {
  "name": ""
 },
 "nbformat": 3,
 "nbformat_minor": 0,
 "worksheets": [
  {
   "cells": [
    {
     "cell_type": "code",
     "collapsed": false,
     "input": [
      "cd p_coumaric/v3"
     ],
     "language": "python",
     "metadata": {},
     "outputs": [
      {
       "output_type": "stream",
       "stream": "stdout",
       "text": [
        "/home/clyde/Dropbox/Project Stuff/Notebooks/p_coumaric/v3\n"
       ]
      }
     ],
     "prompt_number": 1
    },
    {
     "cell_type": "code",
     "collapsed": false,
     "input": [
      "import cc_notebook_utils\n",
      "from cc_notebook_utils import *\n",
      "from ASE_utils import *\n",
      "from ase.calculators.gaussian import Gaussian\n",
      "from ase.io import read\n",
      "from pybel import readstring"
     ],
     "language": "python",
     "metadata": {},
     "outputs": [
      {
       "output_type": "stream",
       "stream": "stderr",
       "text": [
        "WARNING: Neither ~/.pyp_util.ini nor ./pbs_util.ini exist."
       ]
      }
     ],
     "prompt_number": 2
    },
    {
     "cell_type": "markdown",
     "metadata": {},
     "source": [
      "Structures from Martinez' [paper](http://pubs.acs.org/doi/full/10.1021/ja0365025) which references [this](http://pubs.acs.org/doi/abs/10.1021/ja017505p) experimental paper. We aim to analyse data from this [paper](http://pubs.acs.org/doi/full/10.1021/jz300542f):"
     ]
    },
    {
     "cell_type": "code",
     "collapsed": false,
     "input": [
      "martinez_xyzs = {'S0_M':'../v2/martinez_s0_B3LYP_6-31G_dd.xyz', 'S1_TS':'../v2/martinez_s1_B3LYP_6-31G_dd_ts.xyz', 'S1_M':'../v2/martinez_s1_B3LYP_6-31G_dd.xyz', 'S0S1C1':'../v2/martinez_s0s1CI_B3LYP_6-31G_dd.xyz', 'S0S1C2': '../v2/martinez_s0s1CI2_B3LYP_6-31G_dd.xyz'}"
     ],
     "language": "python",
     "metadata": {},
     "outputs": [],
     "prompt_number": 3
    },
    {
     "cell_type": "code",
     "collapsed": false,
     "input": [
      "martinez_orbital_swap = [40], [41]\n",
      "my_orbital_swap = [37, 46], [42, 45]\n",
      "\n",
      "martinez_fc = read(martinez_xyzs['S0_M'])\n",
      "martinez_fc.set_calculator(Gaussian(label='HF_B1_martinez_S0_M_p_coumaric', method='HF', basis='6-31G*', nosymmetry='nosymmetry'))\n",
      "martinez_fc.calc.set_job(nodes=16, memory=16*1400, time=5, queue='pqmb', version='g09')\n",
      "martinez_fc.calc.restart(label='CAS65m_B1_martinez_S1FC_p_coumaric', method='CAS(6,5, stateaverage, nroot=5)', state_weights=[0.2,0.2,0.2,0.2,0.2], scf='(maxcycle=128)', guess='(read, alter)')\n",
      "martinez_fc.calc.set_orbital_swaps(*martinez_orbital_swap)\n",
      "\n",
      "#martinez_s1_m = read(martinez_xyzs['S1_M'])\n",
      "#martinez_s1_m.set_calculator(Gaussian(label='HF_B1_martinez_S1_M_p_coumaric', method='HF', basis='6-31G*', nosymmetry='nosymmetry'))\n",
      "#martinez_s1_m.calc.set_job(nodes=16, memory=16*1400, time=5, queue='pqmb', version='g09')\n",
      "\n",
      "#my_s1_m = copy.deepcopy(martinez_s1_m)\n",
      "#my_s1_m.calc.restart(label='CAS65_B1_martinez_S1_M_p_coumaric', method='CAS(6,5, stateaverage nroot=2)', state_weights=[0.5,0.5], scf='(maxcycle=128)', guess='(read, alter)'))\n",
      "#my_s1_m.calc.set_orbital_swaps(*my_orbital_swap)\n",
      "\n",
      "#martinez_s1_m.calc.restart(label='CAS65m_B1_martinez_S1_M_p_coumaric', method='CAS(6,5, stateaverage, nroot=5)', state_weights=[0.2,0.2,0.2,0.2,0.2], scf='(maxcycle=128)', guess='(read, alter)')\n",
      "#martinez_s1_m.calc.set_orbital_swaps(*martinez_orbital_swap)"
     ],
     "language": "python",
     "metadata": {},
     "outputs": [],
     "prompt_number": 4
    },
    {
     "cell_type": "code",
     "collapsed": false,
     "input": [
      "check_calcs([martinez_fc])\n",
      "mols_to_html([martinez_fc])"
     ],
     "language": "python",
     "metadata": {},
     "outputs": [
      {
       "html": [
        "\n",
        "           <script type=\"text/javascript\">\n",
        "           function view_function (event, file_n) {\n",
        "               if (event.ctrlKey && event.shiftKey){\n",
        "                   IPython.notebook.kernel.execute(\"cc_notebook_utils.pygview('\" + file_n + \".log')\");\n",
        "               }\n",
        "               else if (event.ctrlKey){\n",
        "                   IPython.notebook.kernel.execute(\"cc_notebook_utils.pygausssum('\" + file_n + \".log')\");\n",
        "               }\n",
        "               else if (event.shiftKey){\n",
        "                   IPython.notebook.kernel.execute(\"cc_notebook_utils.pyvogadro('\" + file_n + \".log')\");\n",
        "               }\n",
        "               else {\n",
        "                   IPython.notebook.kernel.execute(\"cc_notebook_utils.pyvim('\" + file_n + \".log')\");\n",
        "                   IPython.notebook.kernel.execute(\"print(file_n)\");\n",
        "               }\n",
        "           }\n",
        "           </script>\n",
        "    <style>\n",
        "    table\n",
        "    {\n",
        "        border-collapse:collapse;\n",
        "    }\n",
        "    td\n",
        "    {\n",
        "        padding:15px;\n",
        "    }\n",
        "    </style>\n",
        "    <body>\n",
        "    <table bgcolor=\"white\">\n",
        "    <col/><tr><td>CAS65m_B1_martinez_S1FC_p_coumaric</td><td><a href = \"files/p_coumaric/v3/CAS65m_B1_martinez_S1FC_p_coumaric.com\" target = \"_blank\">com</a></td><td><input type=\"button\" value=\"Smart Log\" id=\"CAS65m_B1_martinez_S1FC_p_coumaric\" onclick=\"view_function(event, this.id)\" /></td><td>Success</td></tr>\n",
        "    </table>\n",
        "    </body>"
       ],
       "output_type": "pyout",
       "prompt_number": 5,
       "text": [
        "<IPython.core.display.HTML at 0x3d72910>"
       ]
      }
     ],
     "prompt_number": 5
    },
    {
     "cell_type": "code",
     "collapsed": false,
     "input": [
      "Comparing the s1-s0 and s2-s0 for Martinez calculations and mine.0"
     ],
     "language": "python",
     "metadata": {},
     "outputs": []
    },
    {
     "cell_type": "code",
     "collapsed": false,
     "input": [
      "fc_martinez_data = [-570.07176169, -569.86333639, -569.84857151]\n",
      "fc_my_data = [-570.0744426681, -569.8659205531, -569.8511276946]\n",
      "e1, e2, e3 = fc_my_data\n",
      "me1, me2, me3 = fc_martinez_data\n",
      "627.509*(array([me - me1 for me in fc_martinez_data[1:]]) - array([e -e1 for e in fc_my_data[1:]]))\n",
      "#array(fc_martinez_data) - array(fc_my_data)\n",
      "#s1_martinez_data = [-570.06668882, -569.89654991, -569.87092397]\n",
      "#s1_my_data = [-570.0848840834, -569.8909827573, -569.8798015795, -569.8291155274, -569.8029058427]\n",
      "#e1, e2, e3, e4, e5 = my_data\n",
      "#me1, me2, me3 = martinez_data\n",
      "#627.509*(array([me - me1 for me in martinez_data[1:]]) - array([e -e1 for e in my_data[1:3]]))"
     ],
     "language": "python",
     "metadata": {},
     "outputs": [
      {
       "metadata": {},
       "output_type": "pyout",
       "prompt_number": 3,
       "text": [
        "array([-0.06075228, -0.07830904])"
       ]
      }
     ],
     "prompt_number": 3
    },
    {
     "cell_type": "code",
     "collapsed": false,
     "input": [
      "#B3LYP/6-31G* optimised s0 trans minimum geometry\n",
      "fc = read(martinez_xyzs['S0_M'])\n",
      "fc.set_calculator(Gaussian(label='HF_B1_martinez_S0_M_p_coumaric', method='HF', basis='6-31G*', nosymmetry='nosymmetry'))\n",
      "fc.calc.set_job(nodes=16, memory=16*1400, time=24, queue='pqmb', version='g09')\n",
      "#optimise geometry with CAS65 with an active space of pi orbitals involving the double bond\n",
      "fc.calc.restart(label='CAS65_B1_CAS65_B1_S0M_p_coumaric', method='CAS(6,5)', scf='(maxcycle=128)', guess='(read, alter)', opt='opt')\n",
      "fc.calc.set_orbital_swaps(*my_orbital_swap)\n",
      "#find the minimum energy path starting at the frank-condon point\n",
      "#fc.calc.restart(label='S2-CAS65_B1_CAS65_B1_S1_IRC_p_coumaric', method='CAS(6,5, nroot=2, stateaverage)', state_weights=[0.5, 0.5], scf='(maxcycle=128)', guess='(read)', irc='downhill')"
     ],
     "language": "python",
     "metadata": {},
     "outputs": [],
     "prompt_number": 7
    },
    {
     "cell_type": "code",
     "collapsed": false,
     "input": [
      "check_calcs([fc])\n",
      "mols_to_html([fc])"
     ],
     "language": "python",
     "metadata": {},
     "outputs": [
      {
       "html": [
        "\n",
        "           <script type=\"text/javascript\">\n",
        "           function view_function (event, file_n) {\n",
        "               if (event.ctrlKey && event.shiftKey){\n",
        "                   IPython.notebook.kernel.execute(\"cc_notebook_utils.pygview('\" + file_n + \".log')\");\n",
        "               }\n",
        "               else if (event.ctrlKey){\n",
        "                   IPython.notebook.kernel.execute(\"cc_notebook_utils.pygausssum('\" + file_n + \".log')\");\n",
        "               }\n",
        "               else if (event.shiftKey){\n",
        "                   IPython.notebook.kernel.execute(\"cc_notebook_utils.pyvogadro('\" + file_n + \".log')\");\n",
        "               }\n",
        "               else {\n",
        "                   IPython.notebook.kernel.execute(\"cc_notebook_utils.pyvim('\" + file_n + \".log')\");\n",
        "                   IPython.notebook.kernel.execute(\"print(file_n)\");\n",
        "               }\n",
        "           }\n",
        "           </script>\n",
        "    <style>\n",
        "    table\n",
        "    {\n",
        "        border-collapse:collapse;\n",
        "    }\n",
        "    td\n",
        "    {\n",
        "        padding:15px;\n",
        "    }\n",
        "    </style>\n",
        "    <body>\n",
        "    <table bgcolor=\"white\">\n",
        "    <col/><tr><td>CAS65_B1_CAS65_B1_S0M_p_coumaric</td><td><a href = \"files/p_coumaric/v3/CAS65_B1_CAS65_B1_S0M_p_coumaric.com\" target = \"_blank\">com</a></td><td><input type=\"button\" value=\"Smart Log\" id=\"CAS65_B1_CAS65_B1_S0M_p_coumaric\" onclick=\"view_function(event, this.id)\" /></td><td>Error: Convergence failure -- run terminated.</td></tr>\n",
        "    </table>\n",
        "    </body>"
       ],
       "output_type": "pyout",
       "prompt_number": 8,
       "text": [
        "<IPython.core.display.HTML at 0x3d72890>"
       ]
      }
     ],
     "prompt_number": 8
    },
    {
     "cell_type": "code",
     "collapsed": false,
     "input": [
      "view_ipython_jmol([martinez_xyzs[k] for k in martinez_xyzs],title=[k for k in martinez_xyzs])"
     ],
     "language": "python",
     "metadata": {},
     "outputs": [
      {
       "html": [
        "\n",
        "    <iframe\n",
        "      width=\"1450\"\n",
        "      height=\"490\"\n",
        "      src=/files/jmol/ase-k0nJ8c.html\n",
        "      frameborder=\"0\"\n",
        "      allowfullscreen\n",
        "    ></iframe>"
       ],
       "output_type": "pyout",
       "prompt_number": 7,
       "text": [
        "<IPython.core.display.HTML at 0x466edd0>"
       ]
      }
     ],
     "prompt_number": 7
    },
    {
     "cell_type": "markdown",
     "metadata": {},
     "source": [
      "In order to investigate what a suitable active space would be I will try and perform a CISD calculation and look at which determinants have significant weights. \n",
      "><font color=red>This is going to be way too expenseive</font>"
     ]
    },
    {
     "cell_type": "code",
     "collapsed": false,
     "input": [
      "cisd = read(martinez_xyzs['S0_M'])\n",
      "cisd.set_calculator(Gaussian(label='CISD_B0_martinez_S0_M_p_coumaric', method='CI', basis='STO-3G', nosymmetry='nosymmetry'))\n",
      "cisd.calc.set_job(nodes=16, memory=16*1400, time=8, queue='pqmb', version='g09')"
     ],
     "language": "python",
     "metadata": {},
     "outputs": [],
     "prompt_number": 15
    },
    {
     "cell_type": "code",
     "collapsed": false,
     "input": [
      "check_calcs([cisd])\n",
      "mols_to_html([cisd])"
     ],
     "language": "python",
     "metadata": {},
     "outputs": []
    }
   ],
   "metadata": {}
  }
 ]
}