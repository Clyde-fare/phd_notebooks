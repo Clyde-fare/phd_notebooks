{
 "cells": [
  {
   "cell_type": "markdown",
   "metadata": {},
   "source": [
    "For Lee's procedure for cleaning pdb files taken from the database see [here](https://wiki.ch.ic.ac.uk/wiki/index.php?title=Guide_to_Creating_ONIOM_input_files_for_biomolecules)"
   ]
  },
  {
   "cell_type": "markdown",
   "metadata": {},
   "source": [
    "Here we will perform an oniom calculation on gfp!"
   ]
  },
  {
   "cell_type": "markdown",
   "metadata": {},
   "source": [
    "The strategy for such calculations is set out in the [wiki](https://wiki.ch.ic.ac.uk/wiki/index.php?title=Guide_to_Creating_ONIOM_input_files_for_biomolecules). \n",
    "\n",
    "First we download the pdb file from the [PDB_database](http://www.rcsb.org/pdb/home/home.do), making sure to select a high quality structure - high resolution and low r-value(?).\n"
   ]
  },
  {
   "cell_type": "markdown",
   "metadata": {},
   "source": [
    "Useful code from a 2010 development version of biopython [here](http://biopython.org/wiki/GSOC2010_Joao#Hydrogenation_Report), the bizkit library used to construct an amber calculation [here](http://biopython.org/wiki/GSOC2010_Joao#Hydrogenation_Report) (bizkit is very similar in format to the [CCPN](http://www.ccpn.ac.uk/software/documentations) python library which is used in the analysis of NMR data, Amber's acpype [python script](https://code.google.com/p/acpype/) for calling Amber's Antechamber program to generate topologies (for use with gromacs but can I use it too?), the pdb2pqr [python script](http://www.poissonboltzmann.org/pdb2pqr/) to calculates pKa's using Propka.\n",
    "\n",
    "There is also a [web-framework](http://www.ncbi.nlm.nih.gov/pubmed/22437851) that does something like this.\n",
    "\n",
    "And there is the [MDanalysis](http://mdanalysis.googlecode.com/git-history/develop/package/doc/html/documentation_pages/overview.html) python library which has many useful tools\n",
    "\n",
    "There is also [OEChem](http://www.ics.uci.edu/~dock/manuals/oechem/pyprog/pyprog.html) which is can load mol2 files and is an alternative to molmod\n",
    "\n",
    "And there [MMTK](http://dirac.cnrs-orleans.fr/MMTK/) which contains routines for pdb loadings and manipulation as well as methods governing direct application of Amber forcefields"
   ]
  },
  {
   "cell_type": "markdown",
   "metadata": {},
   "source": [
    "There is another web-framework based on [PDBReport](http://swift.cmbi.ru.nl/gv/pdbreport/) that reports on the errors present in a given pdb file, this looks useful. As does [WHY-NOT](http://www.cmbi.ru.nl/WHY_NOT2/)"
   ]
  },
  {
   "cell_type": "markdown",
   "metadata": {},
   "source": [
    "General resources: http://blanco.biomol.uci.edu/wwwresources.html"
   ]
  },
  {
   "cell_type": "code",
   "execution_count": 3,
   "metadata": {
    "collapsed": false
   },
   "outputs": [
    {
     "name": "stdout",
     "output_type": "stream",
     "text": [
      "/home/clyde/Dropbox/Project Stuff/Notebooks/oniom_bio\n"
     ]
    }
   ],
   "source": [
    "cd oniom_bio/"
   ]
  },
  {
   "cell_type": "code",
   "execution_count": 4,
   "metadata": {
    "collapsed": false
   },
   "outputs": [],
   "source": [
    "import Bio\n",
    "from ase import Atom\n",
    "#from ase_extensions import Atoms\n",
    "\n",
    "def ase_read_pdb(pdb_fn):\n",
    "    \"\"\"Reads a PDB into an ASE atoms object\"\"\"\n",
    "    \n",
    "    parser = Bio.PDB.PDBParser()\n",
    "    protein=parser.get_structure(pdb_fn.replace('.pdb',''), pdb_fn)\n",
    "    protein_atoms = [a for a in protein.get_atoms()]\n",
    "    \n",
    "    atom_names = [a.element for a in protein_atoms]\n",
    "    atom_coords = [a.coord for a in protein_atoms]\n",
    "    \n",
    "    ase_pdb = Atoms([Atom(nm,crds) for nm,crds in zip(atom_names,atom_coords)])\n",
    "    \n",
    "    return ase_pdb"
   ]
  },
  {
   "cell_type": "code",
   "execution_count": 3,
   "metadata": {
    "collapsed": false
   },
   "outputs": [],
   "source": [
    "#from simtk.openmm.app.pdbfile import PDBFile"
   ]
  },
  {
   "cell_type": "code",
   "execution_count": 4,
   "metadata": {
    "collapsed": false
   },
   "outputs": [],
   "source": [
    "#def expected_atoms(res_name, chain):\n",
    "#    res_bonds = chain.topology._standardBonds[res_name]\n",
    "#    unique_atoms = list(set([b[0] for b in res_bonds] + [b[1] for b in res_bonds]))\n",
    "#    backbone_atoms = [a for a in unique_atoms if 'H' not in a and 'XT' not in a and '-' not in a]\n",
    "#    return sorted(backbone_atoms)"
   ]
  },
  {
   "cell_type": "code",
   "execution_count": 5,
   "metadata": {
    "collapsed": false
   },
   "outputs": [],
   "source": [
    "#gfp_raw_v2 = PDBFile('1GFL.pdb')\n",
    "#chain = gfp_raw_v2.topology._chains[0]\n",
    "#residues = chain._residues\n",
    "\n",
    "#non_standard = []\n",
    "#for r in residues:\n",
    "#    atoms = sorted([a.name for a in r._atoms])\n",
    "#    if expected_atoms(r.name,chain) != atoms:\n",
    "#        non_standard.append(r)"
   ]
  },
  {
   "cell_type": "code",
   "execution_count": 6,
   "metadata": {
    "collapsed": false
   },
   "outputs": [],
   "source": [
    "#expected_atoms(residues[65].name,chain), sorted([r.name for r in residues[65]._atoms])"
   ]
  },
  {
   "cell_type": "code",
   "execution_count": 7,
   "metadata": {
    "collapsed": false
   },
   "outputs": [],
   "source": [
    "#[e for e in sorted([r.name for r in residues[72]._atoms]) if e not in expected_atoms(residues[72].name,chain)]"
   ]
  },
  {
   "cell_type": "code",
   "execution_count": 8,
   "metadata": {
    "collapsed": false
   },
   "outputs": [],
   "source": [
    "#[(r.index,r.name) for r in non_standard]"
   ]
  },
  {
   "cell_type": "markdown",
   "metadata": {},
   "source": [
    "This is not working as there are additional atoms present in the xml file and a non standard residue might have the same atoms but with a different connectivity? I.e. residue 66 is not turning up with the above method. Perhaps we can fix this method but initially I will see if I can use the ambertools."
   ]
  },
  {
   "cell_type": "code",
   "execution_count": 9,
   "metadata": {
    "collapsed": false
   },
   "outputs": [],
   "source": [
    "#from Bio.PDB import PDBParser\n",
    "#from Bio.PDB import PDBIO"
   ]
  },
  {
   "cell_type": "code",
   "execution_count": 10,
   "metadata": {
    "collapsed": false
   },
   "outputs": [],
   "source": [
    "#pdb_p = PDBParser()\n",
    "#gfp_raw = pdb_p.get_structure('1GFL','1GFL.pdb')"
   ]
  },
  {
   "cell_type": "code",
   "execution_count": 11,
   "metadata": {
    "collapsed": false
   },
   "outputs": [],
   "source": [
    "#chains=gfp_raw.get_chains()\n",
    "#c1=chains.next()"
   ]
  },
  {
   "cell_type": "code",
   "execution_count": 12,
   "metadata": {
    "collapsed": false
   },
   "outputs": [],
   "source": [
    "#for model in gfp_raw:\n",
    "#    for chain in model:\n",
    "#        if chain.id != c1.id:\n",
    "#            model.detach_child(chain.id)"
   ]
  },
  {
   "cell_type": "code",
   "execution_count": 13,
   "metadata": {
    "collapsed": false
   },
   "outputs": [],
   "source": [
    "#w = PDBIO()\n",
    "#w.set_structure(gfp_raw)\n",
    "#w.save('extracted_1GFL.pdb')"
   ]
  },
  {
   "cell_type": "markdown",
   "metadata": {},
   "source": [
    "Or maybe just Bizkit directly?"
   ]
  },
  {
   "cell_type": "code",
   "execution_count": 14,
   "metadata": {
    "collapsed": false
   },
   "outputs": [],
   "source": [
    "#import Biskit\n",
    "#gfp_raw=Biskit.PDBModel('1GFL.pdb')"
   ]
  },
  {
   "cell_type": "code",
   "execution_count": 15,
   "metadata": {
    "collapsed": false
   },
   "outputs": [],
   "source": [
    "#gfp_raw=B.PDBModel('1GFL.pdb')\n",
    "#gfp_only = gfp_raw.takeChains([0])"
   ]
  },
  {
   "cell_type": "code",
   "execution_count": 16,
   "metadata": {
    "collapsed": false
   },
   "outputs": [],
   "source": [
    "#non_std_index = [64,65,66]\n",
    "#non_std_atom_index = gfp_only.res2atomIndices(non_std_index)\n",
    "#for i in non_std_atom_index:\n",
    "#    gfp_only.atoms['residue_name'][i] = 'CHR'\n"
   ]
  },
  {
   "cell_type": "code",
   "execution_count": 17,
   "metadata": {
    "collapsed": false
   },
   "outputs": [],
   "source": [
    "#non_standard_atom_index"
   ]
  },
  {
   "cell_type": "code",
   "execution_count": 18,
   "metadata": {
    "collapsed": false
   },
   "outputs": [],
   "source": [
    "#non_std_index = [64,65,66]\n",
    "#non_std_atom_index = gfp_only.res2atomIndices(non_std_index)\n",
    "#for i in non_std_atom_index:\n",
    "#    gfp_only.atoms['residue_name'][i] = 'CHR'"
   ]
  },
  {
   "cell_type": "code",
   "execution_count": 19,
   "metadata": {
    "collapsed": false
   },
   "outputs": [],
   "source": [
    "#%qtconsole"
   ]
  },
  {
   "cell_type": "code",
   "execution_count": 20,
   "metadata": {
    "collapsed": false
   },
   "outputs": [
    {
     "data": {
      "text/plain": [
       "<module 'cc_utils' from '/home/clyde/Dropbox/Project Stuff/Code/Python/cc_utils/cc_utils/__init__.py'>"
      ]
     },
     "execution_count": 20,
     "metadata": {},
     "output_type": "execute_result"
    }
   ],
   "source": [
    "import cc_utils\n",
    "cc_utils"
   ]
  },
  {
   "cell_type": "code",
   "execution_count": null,
   "metadata": {
    "collapsed": true
   },
   "outputs": [],
   "source": []
  },
  {
   "cell_type": "code",
   "execution_count": 5,
   "metadata": {
    "collapsed": false,
    "scrolled": true
   },
   "outputs": [],
   "source": [
    "import os\n",
    "import Biskit as B\n",
    "#from cc_notebook  import unwind\n",
    "from cc_utils.chem_utils import mol2_parse, mol2_replace, set_frag_atom_types, get_bad, get_ht_ind, set_nonstd_name\n",
    "from pybel import readfile\n",
    "from molmod.io.xyz import XYZReader\n",
    "from cc_utils.red_tools_utils import run_red"
   ]
  },
  {
   "cell_type": "code",
   "execution_count": 6,
   "metadata": {
    "collapsed": false
   },
   "outputs": [],
   "source": [
    "pdb_code = '1GFL'\n",
    "orig_pdb = pdb_code + '.pdb'\n",
    "mod_pdb = 'mod_' + orig_pdb\n",
    "prot_mod_pdb = 'prot_' + mod_pdb\n",
    "prot_mod_pqr = prot_mod_pdb.replace('.pdb', '.pqr')\n",
    "master_pdb = pdb_code + '_master.pdb'\n",
    "master_xyz = pdb_code + '_master.xyz'\n",
    "\n",
    "#TODO algorithmically find the non_standard residues\n",
    "#fixer = PDBFixer(pdbid='1YRI')\n",
    "#fixer.findNonstandardResidues()\n",
    "#nonstandard_residues = fixer.nonstandardResidues\n",
    "        \n",
    "non_standard_index = [64,65,66]\n",
    "\n",
    "gfp_raw=B.PDBModel(orig_pdb)\n",
    "gfp_only = gfp_raw.takeChains([0])\n",
    "nonstd = gfp_only.takeResidues(non_standard_index)\n",
    "#nonstd.writePdb('raw_nonstd.pdb')"
   ]
  },
  {
   "cell_type": "markdown",
   "metadata": {},
   "source": [
    "##overview\n",
    "\n",
    "Input: Initial PDB + locations of nonstandard residues \n",
    "    \n",
    "Combine contiguous non standard residues to make a new single non-standard residue\n",
    "Extract non-standard residue + cap with ACE/NME to generate non-standard peptide\n",
    "Protonate capped non-standard residue\n",
    "Protonate Initial PDB structure (except for non-standard part)\n",
    "Uncap capped protonated non-standard residue and insert into protonated initial PDB structure for final structure\n",
    "\n",
    "Compute partial charges associated with non-standard peptide\n",
    "Compute GAFF parameters associated with non-standard peptide\n",
    "Determine parameters associated with Terminal atoms of non-standard residue\n",
    "\n",
    "Combine partial charges, GAFF atom types / parameters and Gaff-Amber interaction parameters."
   ]
  },
  {
   "cell_type": "markdown",
   "metadata": {},
   "source": [
    "Initial .dat file\n",
    "mol2 with connectivity  -> generation of .frcmod file containing parameters not present in .dat file\n",
    "combined .dat and .frcmod for complete parameter set"
   ]
  },
  {
   "cell_type": "code",
   "execution_count": 23,
   "metadata": {
    "collapsed": false
   },
   "outputs": [
    {
     "data": {
      "application/javascript": [
       "\n",
       "require(['nbextensions/cc_notebook'])\n",
       "require(['nbextensions/jsmol/JSmol.min.nojq'])\n"
      ],
      "text/plain": [
       "<IPython.core.display.Javascript object>"
      ]
     },
     "metadata": {},
     "output_type": "display_data"
    },
    {
     "name": "stdout",
     "output_type": "stream",
     "text": [
      "Capping N-terminal of chain 0 with ACE\n"
     ]
    },
    {
     "name": "stderr",
     "output_type": "stream",
     "text": [
      "\n",
      "Warning (ignored): Profile biomol skipped during concat.\n"
     ]
    },
    {
     "name": "stdout",
     "output_type": "stream",
     "text": [
      "Capping C-terminal of chain 0 with NME.\n"
     ]
    },
    {
     "data": {
      "text/plain": [
       "0"
      ]
     },
     "execution_count": 23,
     "metadata": {},
     "output_type": "execute_result"
    }
   ],
   "source": [
    "import os\n",
    "import Biskit as B\n",
    "from cc_notebook import unwind\n",
    "from cc_utils.chem_utils import mol2_parse, mol2_replace, set_frag_atom_types, get_bad, get_ht_ind, set_nonstd_name\n",
    "from pybel import readfile\n",
    "from molmod.io.xyz import XYZReader\n",
    "from cc_utils.red_tools_utils import run_red\n",
    "\n",
    "pdb_code = '1GFL'\n",
    "orig_pdb = pdb_code + '.pdb'\n",
    "mod_pdb = 'mod_' + orig_pdb\n",
    "prot_mod_pdb = 'prot_' + mod_pdb\n",
    "prot_mod_pqr = prot_mod_pdb.replace('.pdb', '.pqr')\n",
    "master_pdb = pdb_code + '_master.pdb'\n",
    "\n",
    "#TODO algorithmically find the non_standard residues -> chimera can do this via:\n",
    "#http://www.cgl.ucsf.edu/pipermail/chimera-dev/2009/000605.html\n",
    "non_standard_index = [64,65,66]\n",
    "\n",
    "gfp_raw=B.PDBModel(orig_pdb)\n",
    "gfp_only = gfp_raw.takeChains([0])\n",
    "nonstd = gfp_only.takeResidues(non_standard_index)\n",
    "nonstd.writePdb('raw_nonstd.pdb')\n",
    "\n",
    "#merge nonstd residues for total protein\n",
    "for i in range(len(non_standard_index)-1):\n",
    "    gfp_only.mergeResidues(64, name='CHR')\n",
    "gfp_only.renumberResidues(start=1)\n",
    "gfp_only.writePdb(mod_pdb)\n",
    "\n",
    "clean = B.PDBCleaner( nonstd )\n",
    "capped_nonstd = clean.capTerminals( nonstd, 0 )\n",
    "\n",
    "#merge nonstd residues for nonstd part (capping code doesn't work if nonstd residues present)\n",
    "for i in range(len(non_standard_index)-1):\n",
    "    capped_nonstd.mergeResidues(1,name='CHR')\n",
    "capped_nonstd.renumberResidues(start=64)\n",
    "capped_nonstd.writePdb('raw_capped_nonstd.pdb')\n",
    "                       \n",
    "#protonation that ignores the residue names work so can use babel to protonate\n",
    "#WARNING Babel splits the capping residues into new residues and distributes them through out the file,\n",
    "# this might be a problem in some instances - red tools doesn't seem to mind though and -out.pdb it generates puts the capping residues back where they should be \n",
    "#should manually edit to make sure the caps and protons are in a sensible place/bond orders are correct)\n",
    "mol = readfile(\"pdb\", \"raw_capped_nonstd.pdb\").next()\n",
    "mol.addh()\n",
    "mol.write('pdb', 'capped_nonstd.pdb', overwrite=True)\n",
    "\n",
    "\n",
    "#protonate gfp_only except for non_standard (pdb2pqr)\n",
    "os.system('pdb2pqr --ff=amber --ffout=amber --nodebump {i} {o}'.format(i=mod_pdb, o= prot_mod_pqr))\n",
    "os.system('babel {i} {o}'.format(i=prot_mod_pqr, o=prot_mod_pdb))\n",
    "\n",
    "#Run Ante_red on capped_nonstd generating capped_nonstd-out.p2n\n",
    "os.system('Ante_RED-1.5.pl {pdb_f}'.format(pdb_f='capped_nonstd.pdb'))\n",
    "\n",
    "#mod .p2n to constrain charges of caps to 0\n",
    "capped_nonstd = B.PDBModel('capped_nonstd-out.pdb')\n",
    "ace_capping_atoms = [str(n+1) for n,r in enumerate(capped_nonstd.atoms['residue_name']) if r == 'ACE']\n",
    "nme_capping_atoms = [str(n+1) for n,r in enumerate(capped_nonstd.atoms['residue_name']) if r == 'NME']\n",
    "\n",
    "ace_remark = 'REMARK INTRA-MCC 0.0 |  ' + '  '.join(ace_capping_atoms) + ' | Remove\\n'\n",
    "nme_remark = 'REMARK INTRA-MCC 0.0 |  ' + '  '.join(nme_capping_atoms) + ' | Remove\\n'\n",
    "\n",
    "with open('capped_nonstd-out.p2n') as p2n_f:\n",
    "    p2n_content = p2n_f.read()\n",
    "split_contents = p2n_content.split('REMARK\\n')\n",
    "\n",
    "split_contents[-2] += ace_remark\n",
    "split_contents[-2] += nme_remark\n",
    "p2n_content = 'REMARK\\n'.join(split_contents)\n",
    "\n",
    "with open('mod_capped_nonstd-out.p2n', 'w') as p2n_f:\n",
    "    p2n_f.write(p2n_content)\n",
    "\n",
    "\n",
    "##use red (opt=true, qm program = gaussian) to generate mol2 file with partial charges\n",
    "#run_red(mod_capped_nonstd-out.p2n)\n",
    "\n",
    "    \n",
    "#no nonstd residue present in file generated from pdb2pqr so now we add in the nonstd residue\n",
    "#get coords of the protonated residue from the red_tools pdb output (babel mixes up the \n",
    "#residues when it protonates but Ante_red fixes this)\n",
    "#get amber atom names from the mol2 file we are using to make the library file \n",
    "#(cannot take coords as red/gaussian end up shifting the zero coordinates)\n",
    "\n",
    "os.system('antechamber -fi mol2 -i Mol_m1-o1-sm.mol2 -fo pdb -o mod_capped_nonstd.pdb')\n",
    "amber_atom_names = B.PDBModel('mod_capped_nonstd.pdb').atoms['name']\n",
    "gfp_chr = B.PDBModel('capped_nonstd-out.pdb').takeResidues([1])\n",
    "gfp_chr.atoms.set('name', amber_atom_names)\n",
    "\n",
    "prot_gfp = B.PDBModel(prot_mod_pdb)\n",
    "#residues before the non_std residue\n",
    "c0_res_list = range(len(prot_gfp.resList()))[0:non_standard_index[0]]\n",
    "#residues after the non_std residue\n",
    "c1_res_list = range(len(prot_gfp.resList()))[non_standard_index[0]:]\n",
    "prot_gfp_c0 = prot_gfp.takeResidues(c0_res_list)\n",
    "prot_gfp_c1 = prot_gfp.takeResidues(c1_res_list)\n",
    "\n",
    "\n",
    "#build the master from the protonated standard residues and the non-standard residue (currently nonstd residue is maximally protonated - need to run propka/pdb2pqr with custom data for nonstd residue to have ph dependent protonation of nonstd residue\n",
    "master_gfp = prot_gfp_c0.concat(gfp_chr).concat(prot_gfp_c1)\n",
    "master_gfp.mergeChains(0)\n",
    "master_gfp.mergeChains(0)\n",
    "master_gfp.renumberResidues()\n",
    "master_gfp.writePdb(master_pdb)\n",
    "#antechamber renumbers the atoms so they are consistent (bizkit doesn't - leaves atom numbers inconsistent after the concatenation)\n",
    "os.system('antechamber -fi pdb -i {m} -fo pdb -o {m}'.format(m=master_pdb))\n",
    "\n",
    "#generate xyz\n",
    "os.system('babel -i pdb {m1} -o xyz {m2}'.format(m1=master_pdb,m2=master_xyz))\n",
    "\n",
    "#create set of complete list of gaff and amber atom types so we can map one to the other\n",
    "os.system('antechamber -fi pdb -i {p} -fo mol2 -o {m}'.format(p=master_pdb, m=pdb_code +'_master_gaff.mol2'))\n",
    "os.system('antechamber -fi pdb -i {p} -fo mol2 -o {m} -at amber'.format(p=master_pdb, m=pdb_code +'_master_amber.mol2'))\n",
    "non_std_res = non_standard_index[0]\n",
    "non_std_atom_indexes = [a['serial_number']-1 for a in B.PDBModel(master_pdb).resList()[non_std_res]]\n",
    "\n",
    "#schrodinger suite utilities structconvert pdb -> mdf, computes connectivity first using standard AAs then standard heuristics\n",
    "#then babel mdf -> sdf, sdf -> molmod -> neighbours\n",
    "#master_sdf = SDFReader(pdb_code + '_master.sdf').next()\n",
    "master_xyz = XYZReader(pdb_code + '_master.xyz').get_first_molecule()\n",
    "master_xyz.set_default_graph()\n",
    "\n",
    "#to determine the head and tail atoms of the non_standard residue we use the nearest neighbours\n",
    "head_atom_ind, tail_atom_ind = get_ht_ind(master_xyz, non_std_atom_indexes)\n",
    "head_atom_nm, tail_atom_nm = gfp_chr[head_atom_ind]['name'], gfp_chr[tail_atom_ind]['name']\n",
    "\n",
    "#antechamber mol2 -> mol2 to generate a mol2 file that uses amber names fails because for the backbone N and C \n",
    "#because we have cut bonds and antechamber assumes that means they are double bonded! \n",
    "#so we need to take the names from the full protein\n",
    "os.system('antechamber -fi mol2 -i Mol_m1-o1-sm.mol2 -fo mol2 -o amb_Mol_m1-o1-sm.mol2')\n",
    "set_frag_atom_types('amb_Mol_m1-o1-sm.mol2', 'mod_capped_nonstd.mol2', master_pdb, atom_types='amber')\n",
    "set_nonstd_name('mod_capped_nonstd.mol2', 'CHR')\n",
    "#use parmchk2 on mol2 to generate .frcmod file\n",
    "os.system('parmchk2 -a Y -f mol2 -i mod_capped_nonstd.mol2 -o mod_capped_nonstd.frcmod')\n",
    "\n",
    "#if we use gaff atoms this defines a gaff forcefield for the non standard residue and specifies gaff atom \n",
    "#types along with the parameters defining their interaction however the rest of the protein is defined by \n",
    "#an amber forcefield so we need to define parameters that define the interaction between the terminal n and \n",
    "#c gaff atoms and the amber atom types that it can join too. To do this we can use the standard amber parameters. \n",
    "\n",
    "#gaff_atoms, gaff_bonds = mol2_parse(pdb_code +'_master_gaff.mol2')\n",
    "#amber_atoms, amber_bonds = mol2_parse(pdb_code +'_master_amber.mol2')\n",
    "#get bonds,angles and dihedrals required for atoms spanning the nonstandard residues and the standard residues\n",
    "#master_lookup = get_bad(master_xyz, gaff_atoms, amber_atoms, non_std_atom_indexes)\n",
    "#bonds, angles, dihedrals = master_lookup['mixed'] \n",
    "#amber_bonds, amber_angles, amber_dihedrals = master_lookup['amber']\n",
    "#extra_params = get_amber_params([amber_bonds, amber_angles, amber_dihedrals)\n",
    "#add_params('mod_capped_nonstd.frcmod', extra_params)\n",
    "\n",
    "\"\"\"Could not find bond parameter for: C - n\n",
    "Could not find bond parameter for: c - N\n",
    "Building angle parameters.\n",
    "Could not find angle parameter: O - C - n\n",
    "Could not find angle parameter: C - n - hn\n",
    "Could not find angle parameter: C - n - c3\n",
    "Could not find angle parameter: CT - C - n\n",
    "Could not find angle parameter: o - c - N\n",
    "Could not find angle parameter: c - N - H\n",
    "Could not find angle parameter: c - N - CT\n",
    "Could not find angle parameter: c3 - c - N\n",
    "Building proper torsion parameters.\n",
    " ** No torsion terms for  O-C-n-hn\n",
    " ** No torsion terms for  O-C-n-c3\n",
    " ** No torsion terms for  CT-C-n-hn\n",
    " ** No torsion terms for  CT-C-n-c3\n",
    " ** No torsion terms for  o-c-N-H\n",
    " ** No torsion terms for  o-c-N-CT\n",
    " ** No torsion terms for  c3-c-N-H\n",
    " ** No torsion terms for  c3-c-N-CT\"\"\"\n",
    "\n",
    "\n",
    "\n",
    "#generate non_std.in and master.in\n",
    "#run tleap using non_std.in to generate library, file\n",
    "#need to use oldff for ff99SB in later version of amber\n",
    "\n",
    "#set CHR.1 connect0 CHR.1.{head_atom}\n",
    "#set CHR.1 connect1 CHR.1.{tail_atom}\n",
    "#set CHR.1 restype protein\n",
    "#set CHR.1 name \"CHR\"\n",
    "\n",
    "tleap_1_content = \"\"\"source oldff/leaprc.ff99SB\n",
    "source leaprc.gaff\n",
    "loadamberparams mod_capped_nonstd.frcmod\n",
    "CHR = loadmol2 mod_capped_nonstd.mol2 \n",
    "set CHR head CHR.1.{head_atom} \n",
    "set CHR tail CHR.1.{tail_atom}\n",
    "set CHR name \"CHR\"\n",
    "check CHR \n",
    "saveoff CHR CHR.lib \n",
    "saveamberparm CHR chr.prmtop chr.inpcrd\n",
    "quit \"\"\".format(head_atom=head_atom_nm, tail_atom=tail_atom_nm)\n",
    "\n",
    "with open('non_std.in', 'w') as tleap_in_f:\n",
    "    tleap_in_f.write(tleap_1_content)\n",
    "\n",
    "os.system('tleap -f {inp_fn}'.format(inp_fn='non_std.in'))\n",
    "\n",
    "#run tleap using master.in to generate final params for gfp_master\n",
    "#need to use oldff for ff99SB in later version of amber\n",
    "tleap_2_content = \"\"\"source oldff/leaprc.ff99SB\n",
    "source leaprc.gaff \n",
    "loadamberparams mod_capped_nonstd.frcmod \n",
    "loadoff CHR.lib \n",
    "complex = loadpdb {mast}\n",
    "check complex\n",
    "saveamberparm complex 1GFL_chr.prmtop 1GFL_chr.inpcrd\n",
    "savepdb complex 1GFL_chr.pdb \n",
    "quit \"\"\".format(mast=master_pdb)\n",
    "\n",
    "with open(pdb_code + '.in', 'w') as tleap_in_f:\n",
    "    tleap_in_f.write(tleap_2_content)\n",
    "\n",
    "os.system('tleap -f {inp_fn}'.format(inp_fn=pdb_code + '.in'))"
   ]
  },
  {
   "cell_type": "code",
   "execution_count": 27,
   "metadata": {
    "collapsed": false
   },
   "outputs": [
    {
     "data": {
      "text/plain": [
       "[CrossView{'name': 'N', 'residue_number': 65, 'insertion_code': '', 'alternate': '', 'name_original': ' N  ', 'chain_id': '', 'occupancy': 0.0, 'element': 'N', 'segment_id': '', 'charge': '', 'residue_name': 'CHR', 'after_ter': 0, 'serial_number': 958, 'type': 'ATOM', 'temperature_factor': 0.0},\n",
       " CrossView{'name': 'H', 'residue_number': 65, 'insertion_code': '', 'alternate': '', 'name_original': ' H  ', 'chain_id': '', 'occupancy': 0.0, 'element': 'H', 'segment_id': '', 'charge': '', 'residue_name': 'CHR', 'after_ter': 0, 'serial_number': 959, 'type': 'ATOM', 'temperature_factor': 0.0},\n",
       " CrossView{'name': 'CA', 'residue_number': 65, 'insertion_code': '', 'alternate': '', 'name_original': ' CA ', 'chain_id': '', 'occupancy': 0.0, 'element': 'C', 'segment_id': '', 'charge': '', 'residue_name': 'CHR', 'after_ter': 0, 'serial_number': 960, 'type': 'ATOM', 'temperature_factor': 0.0},\n",
       " CrossView{'name': 'HA', 'residue_number': 65, 'insertion_code': '', 'alternate': '', 'name_original': ' HA ', 'chain_id': '', 'occupancy': 0.0, 'element': 'H', 'segment_id': '', 'charge': '', 'residue_name': 'CHR', 'after_ter': 0, 'serial_number': 961, 'type': 'ATOM', 'temperature_factor': 0.0},\n",
       " CrossView{'name': 'C', 'residue_number': 65, 'insertion_code': '', 'alternate': '', 'name_original': ' C  ', 'chain_id': '', 'occupancy': 0.0, 'element': 'C', 'segment_id': '', 'charge': '', 'residue_name': 'CHR', 'after_ter': 0, 'serial_number': 962, 'type': 'ATOM', 'temperature_factor': 0.0},\n",
       " CrossView{'name': 'C1', 'residue_number': 65, 'insertion_code': '', 'alternate': '', 'name_original': ' C1 ', 'chain_id': '', 'occupancy': 0.0, 'element': 'C', 'segment_id': '', 'charge': '', 'residue_name': 'CHR', 'after_ter': 0, 'serial_number': 963, 'type': 'ATOM', 'temperature_factor': 0.0},\n",
       " CrossView{'name': 'H1', 'residue_number': 65, 'insertion_code': '', 'alternate': '', 'name_original': ' H1 ', 'chain_id': '', 'occupancy': 0.0, 'element': 'H', 'segment_id': '', 'charge': '', 'residue_name': 'CHR', 'after_ter': 0, 'serial_number': 964, 'type': 'ATOM', 'temperature_factor': 0.0},\n",
       " CrossView{'name': 'H2', 'residue_number': 65, 'insertion_code': '', 'alternate': '', 'name_original': ' H2 ', 'chain_id': '', 'occupancy': 0.0, 'element': 'H', 'segment_id': '', 'charge': '', 'residue_name': 'CHR', 'after_ter': 0, 'serial_number': 965, 'type': 'ATOM', 'temperature_factor': 0.0},\n",
       " CrossView{'name': 'O', 'residue_number': 65, 'insertion_code': '', 'alternate': '', 'name_original': ' O  ', 'chain_id': '', 'occupancy': 0.0, 'element': 'O', 'segment_id': '', 'charge': '', 'residue_name': 'CHR', 'after_ter': 0, 'serial_number': 966, 'type': 'ATOM', 'temperature_factor': 0.0},\n",
       " CrossView{'name': 'H3', 'residue_number': 65, 'insertion_code': '', 'alternate': '', 'name_original': ' H3 ', 'chain_id': '', 'occupancy': 0.0, 'element': 'H', 'segment_id': '', 'charge': '', 'residue_name': 'CHR', 'after_ter': 0, 'serial_number': 967, 'type': 'ATOM', 'temperature_factor': 0.0},\n",
       " CrossView{'name': 'N1', 'residue_number': 65, 'insertion_code': '', 'alternate': '', 'name_original': ' N1 ', 'chain_id': '', 'occupancy': 0.0, 'element': 'N', 'segment_id': '', 'charge': '', 'residue_name': 'CHR', 'after_ter': 0, 'serial_number': 968, 'type': 'ATOM', 'temperature_factor': 0.0},\n",
       " CrossView{'name': 'C2', 'residue_number': 65, 'insertion_code': '', 'alternate': '', 'name_original': ' C2 ', 'chain_id': '', 'occupancy': 0.0, 'element': 'C', 'segment_id': '', 'charge': '', 'residue_name': 'CHR', 'after_ter': 0, 'serial_number': 969, 'type': 'ATOM', 'temperature_factor': 0.0},\n",
       " CrossView{'name': 'C3', 'residue_number': 65, 'insertion_code': '', 'alternate': '', 'name_original': ' C3 ', 'chain_id': '', 'occupancy': 0.0, 'element': 'C', 'segment_id': '', 'charge': '', 'residue_name': 'CHR', 'after_ter': 0, 'serial_number': 970, 'type': 'ATOM', 'temperature_factor': 0.0},\n",
       " CrossView{'name': 'O1', 'residue_number': 65, 'insertion_code': '', 'alternate': '', 'name_original': ' O1 ', 'chain_id': '', 'occupancy': 0.0, 'element': 'O', 'segment_id': '', 'charge': '', 'residue_name': 'CHR', 'after_ter': 0, 'serial_number': 971, 'type': 'ATOM', 'temperature_factor': 0.0},\n",
       " CrossView{'name': 'C4', 'residue_number': 65, 'insertion_code': '', 'alternate': '', 'name_original': ' C4 ', 'chain_id': '', 'occupancy': 0.0, 'element': 'C', 'segment_id': '', 'charge': '', 'residue_name': 'CHR', 'after_ter': 0, 'serial_number': 972, 'type': 'ATOM', 'temperature_factor': 0.0},\n",
       " CrossView{'name': 'H4', 'residue_number': 65, 'insertion_code': '', 'alternate': '', 'name_original': ' H4 ', 'chain_id': '', 'occupancy': 0.0, 'element': 'H', 'segment_id': '', 'charge': '', 'residue_name': 'CHR', 'after_ter': 0, 'serial_number': 973, 'type': 'ATOM', 'temperature_factor': 0.0},\n",
       " CrossView{'name': 'C5', 'residue_number': 65, 'insertion_code': '', 'alternate': '', 'name_original': ' C5 ', 'chain_id': '', 'occupancy': 0.0, 'element': 'C', 'segment_id': '', 'charge': '', 'residue_name': 'CHR', 'after_ter': 0, 'serial_number': 974, 'type': 'ATOM', 'temperature_factor': 0.0},\n",
       " CrossView{'name': 'C6', 'residue_number': 65, 'insertion_code': '', 'alternate': '', 'name_original': ' C6 ', 'chain_id': '', 'occupancy': 0.0, 'element': 'C', 'segment_id': '', 'charge': '', 'residue_name': 'CHR', 'after_ter': 0, 'serial_number': 975, 'type': 'ATOM', 'temperature_factor': 0.0},\n",
       " CrossView{'name': 'H5', 'residue_number': 65, 'insertion_code': '', 'alternate': '', 'name_original': ' H5 ', 'chain_id': '', 'occupancy': 0.0, 'element': 'H', 'segment_id': '', 'charge': '', 'residue_name': 'CHR', 'after_ter': 0, 'serial_number': 976, 'type': 'ATOM', 'temperature_factor': 0.0},\n",
       " CrossView{'name': 'C7', 'residue_number': 65, 'insertion_code': '', 'alternate': '', 'name_original': ' C7 ', 'chain_id': '', 'occupancy': 0.0, 'element': 'C', 'segment_id': '', 'charge': '', 'residue_name': 'CHR', 'after_ter': 0, 'serial_number': 977, 'type': 'ATOM', 'temperature_factor': 0.0},\n",
       " CrossView{'name': 'H6', 'residue_number': 65, 'insertion_code': '', 'alternate': '', 'name_original': ' H6 ', 'chain_id': '', 'occupancy': 0.0, 'element': 'H', 'segment_id': '', 'charge': '', 'residue_name': 'CHR', 'after_ter': 0, 'serial_number': 978, 'type': 'ATOM', 'temperature_factor': 0.0},\n",
       " CrossView{'name': 'C8', 'residue_number': 65, 'insertion_code': '', 'alternate': '', 'name_original': ' C8 ', 'chain_id': '', 'occupancy': 0.0, 'element': 'C', 'segment_id': '', 'charge': '', 'residue_name': 'CHR', 'after_ter': 0, 'serial_number': 979, 'type': 'ATOM', 'temperature_factor': 0.0},\n",
       " CrossView{'name': 'H7', 'residue_number': 65, 'insertion_code': '', 'alternate': '', 'name_original': ' H7 ', 'chain_id': '', 'occupancy': 0.0, 'element': 'H', 'segment_id': '', 'charge': '', 'residue_name': 'CHR', 'after_ter': 0, 'serial_number': 980, 'type': 'ATOM', 'temperature_factor': 0.0},\n",
       " CrossView{'name': 'C9', 'residue_number': 65, 'insertion_code': '', 'alternate': '', 'name_original': ' C9 ', 'chain_id': '', 'occupancy': 0.0, 'element': 'C', 'segment_id': '', 'charge': '', 'residue_name': 'CHR', 'after_ter': 0, 'serial_number': 981, 'type': 'ATOM', 'temperature_factor': 0.0},\n",
       " CrossView{'name': 'H8', 'residue_number': 65, 'insertion_code': '', 'alternate': '', 'name_original': ' H8 ', 'chain_id': '', 'occupancy': 0.0, 'element': 'H', 'segment_id': '', 'charge': '', 'residue_name': 'CHR', 'after_ter': 0, 'serial_number': 982, 'type': 'ATOM', 'temperature_factor': 0.0},\n",
       " CrossView{'name': 'C10', 'residue_number': 65, 'insertion_code': '', 'alternate': '', 'name_original': ' C10', 'chain_id': '', 'occupancy': 0.0, 'element': 'C', 'segment_id': '', 'charge': '', 'residue_name': 'CHR', 'after_ter': 0, 'serial_number': 983, 'type': 'ATOM', 'temperature_factor': 0.0},\n",
       " CrossView{'name': 'O2', 'residue_number': 65, 'insertion_code': '', 'alternate': '', 'name_original': ' O2 ', 'chain_id': '', 'occupancy': 0.0, 'element': 'O', 'segment_id': '', 'charge': '', 'residue_name': 'CHR', 'after_ter': 0, 'serial_number': 984, 'type': 'ATOM', 'temperature_factor': 0.0},\n",
       " CrossView{'name': 'H9', 'residue_number': 65, 'insertion_code': '', 'alternate': '', 'name_original': ' H9 ', 'chain_id': '', 'occupancy': 0.0, 'element': 'H', 'segment_id': '', 'charge': '', 'residue_name': 'CHR', 'after_ter': 0, 'serial_number': 985, 'type': 'ATOM', 'temperature_factor': 0.0},\n",
       " CrossView{'name': 'N2', 'residue_number': 65, 'insertion_code': '', 'alternate': '', 'name_original': ' N2 ', 'chain_id': '', 'occupancy': 0.0, 'element': 'N', 'segment_id': '', 'charge': '', 'residue_name': 'CHR', 'after_ter': 0, 'serial_number': 986, 'type': 'ATOM', 'temperature_factor': 0.0},\n",
       " CrossView{'name': 'C11', 'residue_number': 65, 'insertion_code': '', 'alternate': '', 'name_original': ' C11', 'chain_id': '', 'occupancy': 0.0, 'element': 'C', 'segment_id': '', 'charge': '', 'residue_name': 'CHR', 'after_ter': 0, 'serial_number': 987, 'type': 'ATOM', 'temperature_factor': 0.0},\n",
       " CrossView{'name': 'H10', 'residue_number': 65, 'insertion_code': '', 'alternate': '', 'name_original': ' H10', 'chain_id': '', 'occupancy': 0.0, 'element': 'H', 'segment_id': '', 'charge': '', 'residue_name': 'CHR', 'after_ter': 0, 'serial_number': 988, 'type': 'ATOM', 'temperature_factor': 0.0},\n",
       " CrossView{'name': 'H11', 'residue_number': 65, 'insertion_code': '', 'alternate': '', 'name_original': ' H11', 'chain_id': '', 'occupancy': 0.0, 'element': 'H', 'segment_id': '', 'charge': '', 'residue_name': 'CHR', 'after_ter': 0, 'serial_number': 989, 'type': 'ATOM', 'temperature_factor': 0.0},\n",
       " CrossView{'name': 'C12', 'residue_number': 65, 'insertion_code': '', 'alternate': '', 'name_original': ' C12', 'chain_id': '', 'occupancy': 0.0, 'element': 'C', 'segment_id': '', 'charge': '', 'residue_name': 'CHR', 'after_ter': 0, 'serial_number': 990, 'type': 'ATOM', 'temperature_factor': 0.0},\n",
       " CrossView{'name': 'O3', 'residue_number': 65, 'insertion_code': '', 'alternate': '', 'name_original': ' O3 ', 'chain_id': '', 'occupancy': 0.0, 'element': 'O', 'segment_id': '', 'charge': '', 'residue_name': 'CHR', 'after_ter': 0, 'serial_number': 991, 'type': 'ATOM', 'temperature_factor': 0.0}]"
      ]
     },
     "execution_count": 27,
     "metadata": {},
     "output_type": "execute_result"
    }
   ],
   "source": [
    "B.PDBModel(master_pdb).resList()[non_std_res]"
   ]
  },
  {
   "cell_type": "code",
   "execution_count": 24,
   "metadata": {
    "collapsed": false
   },
   "outputs": [
    {
     "data": {
      "text/plain": [
       "array([ 0, 32])"
      ]
     },
     "execution_count": 24,
     "metadata": {},
     "output_type": "execute_result"
    }
   ],
   "source": [
    "get_ht_ind(master_xyz, non_std_atom_indexes)"
   ]
  },
  {
   "cell_type": "code",
   "execution_count": 26,
   "metadata": {
    "collapsed": false
   },
   "outputs": [
    {
     "data": {
      "text/plain": [
       "[957,\n",
       " 958,\n",
       " 959,\n",
       " 960,\n",
       " 961,\n",
       " 962,\n",
       " 963,\n",
       " 964,\n",
       " 965,\n",
       " 966,\n",
       " 967,\n",
       " 968,\n",
       " 969,\n",
       " 970,\n",
       " 971,\n",
       " 972,\n",
       " 973,\n",
       " 974,\n",
       " 975,\n",
       " 976,\n",
       " 977,\n",
       " 978,\n",
       " 979,\n",
       " 980,\n",
       " 981,\n",
       " 982,\n",
       " 983,\n",
       " 984,\n",
       " 985,\n",
       " 986,\n",
       " 987,\n",
       " 988,\n",
       " 989,\n",
       " 990]"
      ]
     },
     "execution_count": 26,
     "metadata": {},
     "output_type": "execute_result"
    }
   ],
   "source": [
    "non_std_atom_indexes"
   ]
  },
  {
   "cell_type": "code",
   "execution_count": 8,
   "metadata": {
    "collapsed": false
   },
   "outputs": [
    {
     "name": "stdout",
     "output_type": "stream",
     "text": [
      "#\"Step\",\"Potential Energy (kJ/mole)\",\"Temperature (K)\"\n",
      "100,7865.05450226,55.1295876626\n",
      "200,9559.53864433,103.710788983\n",
      "300,10975.9279326,139.548264377\n",
      "400,12107.3048806,169.514045903\n",
      "500,13132.5670764,196.72691888\n",
      "600,13998.8186401,214.318965602\n",
      "700,14461.00167,231.978671791\n",
      "800,15022.8940727,243.390605187\n",
      "900,15269.4356357,259.542331995\n",
      "1000,15636.437357,260.167472789\n"
     ]
    }
   ],
   "source": [
    "#test params\n",
    "\n",
    "import simtk.unit as u\n",
    "import simtk.openmm as mm\n",
    "import mdtraj as md\n",
    "import numpy as np\n",
    "from mdtraj.reporters import NetCDFReporter\n",
    "from simtk.openmm import app\n",
    "from simtk.unit.quantity import Quantity\n",
    "from sys import stdout\n",
    "\n",
    "from pybel import readfile\n",
    "from openmoltools import amber\n",
    "from openmoltools.amber_parser import AmberParser\n",
    "\n",
    "prmtop = app.AmberPrmtopFile('1GFL_chr.prmtop')\n",
    "inpcrd = app.AmberInpcrdFile('1GFL_chr.inpcrd')\n",
    "system = prmtop.createSystem(nonbondedMethod=app.CutoffNonPeriodic, \n",
    "                             nonbondedCutoff=1*u.nanometer, \n",
    "                             constraints=app.HBonds)\n",
    "\n",
    "integrator = mm.LangevinIntegrator(300*u.kelvin, 1/u.picosecond, 0.002*u.picoseconds)\n",
    "#platform = mm.Platform.getPlatformByName('CUDA')\n",
    "#prop = dict(CudaPrecision='mixed') # Use mixed single/double precision\n",
    "simulation = app.Simulation(prmtop.topology, system, integrator)#, platform, prop)\n",
    "simulation.context.setPositions(inpcrd.positions)\n",
    "\n",
    "if inpcrd.boxVectors is not None:\n",
    "    simulation.context.setPeriodicBoxVectors(*inpcrd.boxVectors)\n",
    "\n",
    "simulation.minimizeEnergy()\n",
    "simulation.reporters.append(app.PDBReporter('output.pdb', 100))\n",
    "simulation.reporters.append(app.StateDataReporter(stdout, 100, step=True, potentialEnergy=True, temperature=True))\n",
    "simulation.step(1000)"
   ]
  },
  {
   "cell_type": "code",
   "execution_count": 9,
   "metadata": {
    "collapsed": false
   },
   "outputs": [],
   "source": [
    "pdb_code = '1GFL'\n",
    "orig_pdb = pdb_code + '.pdb'\n",
    "mod_pdb = 'mod_' + orig_pdb\n",
    "prot_mod_pdb = 'prot_' + mod_pdb\n",
    "prot_mod_pqr = prot_mod_pdb.replace('.pdb', '.pqr')\n",
    "master_pdb = pdb_code + '_master.pdb'"
   ]
  },
  {
   "cell_type": "code",
   "execution_count": 4,
   "metadata": {
    "collapsed": false
   },
   "outputs": [],
   "source": [
    "import os\n",
    "#have conda install ambermini which includes the parameter files we want\n",
    "os.environ['AMBERHOME']=\"/home/clyde/anaconda/envs/numpy17\""
   ]
  },
  {
   "cell_type": "code",
   "execution_count": 6,
   "metadata": {
    "collapsed": false
   },
   "outputs": [],
   "source": [
    "#gaussian needs types, partial charges, pdb name, residue name, residue id, and coords\n",
    "# N-N3-0.184900(PDBName=N,ResName=SER,ResNum=1)     13.66700000   22.25500000  106.43400000 L\n",
    "\n",
    "from cc_utils.chem_utils import get_amber_params_from_xml\n",
    "from cc_utils.chem_utils import get_amber_params_from_dat\n",
    "from cc_utils.chem_utils import get_amber_params_from_frcmod, write_gauss_amber_params, update_amber_params\n",
    "\n",
    "#this currently doesn't inset the equivalent atom vdw values.\n",
    "\n",
    "params = get_amber_params_from_dat('parm99')\n",
    "sbmod_params=get_amber_params_from_frcmod('ff99SB')\n",
    "ff99sb_params = update_amber_params(params, sbmod_params)\n",
    "\n",
    "frcmod_fn = '/home/clyde/Dropbox/Project Stuff/Notebooks/oniom_bio/test/mod_capped_nonstd.frcmod'\n",
    "nonstd_params = get_amber_params_from_frcmod(frcmod_fn)\n",
    "\n",
    "#final_params = update_amber_params(get_amber_params_from_dat('parm96'), nonstd_params, overwrite=False)\n",
    "final_params = update_amber_params(ff99sb_params, nonstd_params, overwrite=False)\n",
    "final_param_str = write_gauss_amber_params(final_params)\n",
    "\n",
    "param_str1 = write_gauss_amber_params(params)\n",
    "param_str2 = write_gauss_amber_params(sbmod_params)\n",
    "param_str3 = write_gauss_amber_params(nonstd_params)\n",
    "param_str4 = write_gauss_amber_params(final_params)\n",
    "\n",
    "with open('1GFL_frc.dat','w') as frc_f:\n",
    "    frc_f.write(final_param_str) \n",
    "    \n",
    "#Vale is very very beautiful with her Christams jumper\n",
    "\n",
    "#pdb_code = '1GFL'\n",
    "#pdb_fn = pdb_code + '_master.pdb'\n",
    "#gfp_mol = ase_read_pdb(pdb_fn)\n",
    "#atom_types, charges = get_amber_params(gfp_mol,lib_file)\n",
    "#pdb_names,  res_names, res_nums = get_pdb_details(pdb_fn)\n",
    "\n",
    "#amber_info = {'AtomTypes':atom_types, 'PartialCharges':charges,'PDBNames':pdb_names, 'ResNames':res_names, 'ResNums':res_nums, 'Param_str':final_param_str}"
   ]
  },
  {
   "cell_type": "code",
   "execution_count": 8,
   "metadata": {
    "collapsed": false
   },
   "outputs": [
    {
     "name": "stdout",
     "output_type": "stream",
     "text": [
      "NonBon 3 1 0 0 0.000 0.000 0.500 0.000 0.000 -1.000\n",
      "\n",
      "HrmStr1 OW HW  553.0  0.9572\n",
      "HrmStr1 HW HW  553.0  1.5136\n",
      "HrmStr1 C  C   310.0  1.525\n",
      "HrmStr1 C  CA  469.0  1.409\n",
      "HrmStr1 C  CB  447.0  1.419\n",
      "HrmStr1 C  CM  410.0  1.444\n",
      "HrmStr1 C  CT  317.0  1.522\n",
      "HrmStr1 C  N   490.0  1.335\n",
      "HrmStr1 C  N*  424.0  1.383\n",
      "HrmStr1 C  NA  418.0  1.388\n",
      "HrmStr1 C  NC  457.0  1.358\n",
      "HrmStr1 C  O   570.0  1.229\n",
      "HrmStr1 C  O2  656.0  1.250\n",
      "HrmStr1 C  OH  450.0  1.364\n",
      "HrmStr1 C  OS  450.0  1.323\n",
      "HrmStr1 C  H4  367.0  1.080\n",
      "HrmStr1 C  H5  367.0  1.080\n",
      "HrmStr1 CA CA  469.0  1.400\n",
      "HrmStr1 CA CB  469.0  1.404\n",
      "HrmStr1 CA CM  427.0  1.433\n",
      "HrmStr1 CA CN  469.0  1.400\n",
      "HrmStr1 CA CT  317.0  1.510\n",
      "HrmStr1 CA HA  367.0  1.080\n",
      "HrmStr1 CA H4  367.0  1.080\n",
      "HrmStr1 CA N2  481.0  1.340\n",
      "HrmStr1 CA NA  427.0  1.381\n",
      "HrmStr1 CA NC  483.0  1.339\n",
      "HrmStr1 CA OH  450.0  1.364\n",
      "HrmStr1 CB CB  520.0  1.370\n",
      "HrmStr1 CB N*  436.0  1.374\n",
      "HrmStr1 CB NB  414.0  1.391\n",
      "HrmStr1 CB NC  461.0  1.354\n",
      "HrmStr1 CD HA  367.0  1.080\n",
      "HrmStr1 CD CD  469.0  1.400\n",
      "HrmStr1 CD CM  549.0  1.350\n",
      "HrmStr1 CD CT  317.0  1.510\n",
      "HrmStr1 CK H5  367.0  1.080\n",
      "HrmStr1 CK N*  440.0  1.371\n",
      "HrmStr1 CK NB  529.0  1.304\n",
      "HrmStr1 CM CM  549.0  1.350\n",
      "HrmStr1 CM CT  317.0  1.510\n",
      "HrmStr1 CM HA  367.0  1.080\n",
      "HrmStr1 CM H4  367.0  1.080\n",
      "HrmStr1 CM H5  367.0  1.080\n",
      "HrmStr1 CM N*  448.0  1.365\n",
      "HrmStr1 CM OS  480.0  1.240\n",
      "HrmStr1 CQ H5  367.0  1.080\n",
      "HrmStr1 CQ NC  502.0  1.324\n",
      "HrmStr1 CT CT  310.0  1.526\n",
      "HrmStr1 CT HC  340.0  1.090\n",
      "HrmStr1 CT H1  340.0  1.090\n",
      "HrmStr1 CT H2  340.0  1.090\n",
      "HrmStr1 CT H3  340.0  1.090\n",
      "HrmStr1 CT HP  340.0  1.090\n",
      "HrmStr1 CT N*  337.0  1.475\n",
      "HrmStr1 CT N2  337.0  1.463\n",
      "HrmStr1 CT OH  320.0  1.410\n",
      "HrmStr1 CT OS  320.0  1.410\n",
      "HrmStr1 C* HC  367.0  1.080\n",
      "HrmStr1 C* CB  388.0  1.459\n",
      "HrmStr1 C* CT  317.0  1.495\n",
      "HrmStr1 C* CW  546.0  1.352\n",
      "HrmStr1 CB CN  447.0  1.419\n",
      "HrmStr1 CC CT  317.0  1.504\n",
      "HrmStr1 CC CV  512.0  1.375\n",
      "HrmStr1 CC CW  518.0  1.371\n",
      "HrmStr1 CC NA  422.0  1.385\n",
      "HrmStr1 CC NB  410.0  1.394\n",
      "HrmStr1 CN NA  428.0  1.380\n",
      "HrmStr1 CR H5  367.0  1.080\n",
      "HrmStr1 CR NA  477.0  1.343\n",
      "HrmStr1 CR NB  488.0  1.335\n",
      "HrmStr1 CT N   337.0  1.449\n",
      "HrmStr1 CT N3  367.0  1.471\n",
      "HrmStr1 CT NT  367.0  1.471\n",
      "HrmStr1 CT S   227.0  1.810\n",
      "HrmStr1 CT SH  237.0  1.810\n",
      "HrmStr1 CT CY  400.0  1.458\n",
      "HrmStr1 CT CZ  400.0  1.459\n",
      "HrmStr1 CV H4  367.0  1.080\n",
      "HrmStr1 CV NB  410.0  1.394\n",
      "HrmStr1 CW H4  367.0  1.080\n",
      "HrmStr1 CW NA  427.0  1.381\n",
      "HrmStr1 CY NY  600.0  1.150\n",
      "HrmStr1 CZ CZ  600.0  1.206\n",
      "HrmStr1 CZ HZ  400.0  1.056\n",
      "HrmStr1 O2 P   525.0  1.480\n",
      "HrmStr1 OH P   230.0  1.610\n",
      "HrmStr1 OS P   230.0  1.610\n",
      "HrmStr1 H  N2  434.0  1.010\n",
      "HrmStr1 H  N*  434.0  1.010\n",
      "HrmStr1 H  NA  434.0  1.010\n",
      "HrmStr1 H  N   434.0  1.010\n",
      "HrmStr1 H  N3  434.0  1.010\n",
      "HrmStr1 H  NT  434.0  1.010\n",
      "HrmStr1 HO OH  553.0  0.960\n",
      "HrmStr1 HO OS  553.0  0.960\n",
      "HrmStr1 HS SH  274.0  1.336\n",
      "HrmStr1 S  S   166.0  2.038\n",
      "HrmStr1 F  CT  367.0  1.380\n",
      "HrmStr1 Cl CT  232.0  1.766\n",
      "HrmStr1 Br CT  159.0  1.944\n",
      "HrmStr1 I  CT  148.0  2.166\n",
      "HrmStr1 F  CA  386.0  1.359\n",
      "HrmStr1 Cl CA  193.0  1.727\n",
      "HrmStr1 I  CA  171.0  2.075\n",
      "HrmStr1 Br CA  172.0  1.890\n",
      "HrmStr1 LP O   600.0  0.200\n",
      "HrmStr1 LP OH  600.0  0.200\n",
      "HrmStr1 LP OS  600.0  0.200\n",
      "HrmStr1 LP N3  600.0  0.200\n",
      "HrmStr1 LP NT  600.0  0.200\n",
      "HrmStr1 LP NB  600.0  0.200\n",
      "HrmStr1 LP NC  600.0  0.200\n",
      "HrmStr1 LP S   600.0  0.700\n",
      "HrmStr1 LP SH  600.0  0.700\n",
      "\n",
      "HrmBnd1 HW OW  HW  100.   104.52\n",
      "HrmBnd1 HW HW  OW  0.     127.74\n",
      "HrmBnd1 C  C   O   80.0   120.00\n",
      "HrmBnd1 C  C   OH  80.0   120.00\n",
      "HrmBnd1 CA C   CA  63.0   120.00\n",
      "HrmBnd1 CA C   OH  70.0   120.00\n",
      "HrmBnd1 CB C   NA  70.0   111.30\n",
      "HrmBnd1 CB C   O   80.0   128.80\n",
      "HrmBnd1 CM C   NA  70.0   114.10\n",
      "HrmBnd1 CM C   O   80.0   125.30\n",
      "HrmBnd1 CT C   O   80.0   120.40\n",
      "HrmBnd1 CT C   O2  70.0   117.00\n",
      "HrmBnd1 CT C   N   70.0   116.60\n",
      "HrmBnd1 CT C   CT  63.0   117.00\n",
      "HrmBnd1 CT C   OS  80.0   115.00\n",
      "HrmBnd1 CT C   OH  80.0   110.00\n",
      "HrmBnd1 N* C   NA  70.0   115.40\n",
      "HrmBnd1 N* C   NC  70.0   118.60\n",
      "HrmBnd1 N* C   O   80.0   120.90\n",
      "HrmBnd1 NA C   O   80.0   120.60\n",
      "HrmBnd1 NC C   O   80.0   122.50\n",
      "HrmBnd1 N  C   O   80.0   122.90\n",
      "HrmBnd1 O  C   O   80.0   126.00\n",
      "HrmBnd1 O  C   OH  80.0   120.00\n",
      "HrmBnd1 O  C   OS  80.0   125.00\n",
      "HrmBnd1 O2 C   O2  80.0   126.00\n",
      "HrmBnd1 H4 C   C   50.0   120.00\n",
      "HrmBnd1 H4 C   CM  50.0   115.00\n",
      "HrmBnd1 H4 C   CT  50.0   115.00\n",
      "HrmBnd1 H4 C   O   50.0   120.00\n",
      "HrmBnd1 H4 C   OH  50.0   120.00\n",
      "HrmBnd1 H5 C   N   50.0   120.00\n",
      "HrmBnd1 H5 C   O   50.0   119.00\n",
      "HrmBnd1 H5 C   OH  50.0   107.00\n",
      "HrmBnd1 H5 C   OS  50.0   107.00\n",
      "HrmBnd1 C  CA  CA  63.0   120.00\n",
      "HrmBnd1 C  CA  HA  50.0   120.00\n",
      "HrmBnd1 CA CA  CA  63.0   120.00\n",
      "HrmBnd1 CA CA  CB  63.0   120.00\n",
      "HrmBnd1 CA CA  CT  70.0   120.00\n",
      "HrmBnd1 CA CA  HA  50.0   120.00\n",
      "HrmBnd1 CA CA  H4  50.0   120.00\n",
      "HrmBnd1 CA CA  OH  70.0   120.00\n",
      "HrmBnd1 CA CA  CN  63.0   120.00\n",
      "HrmBnd1 CB CA  HA  50.0   120.00\n",
      "HrmBnd1 CB CA  H4  50.0   120.00\n",
      "HrmBnd1 CB CA  N2  70.0   123.50\n",
      "HrmBnd1 CB CA  NC  70.0   117.30\n",
      "HrmBnd1 CM CA  N2  70.0   120.10\n",
      "HrmBnd1 CM CA  NC  70.0   121.50\n",
      "HrmBnd1 CN CA  HA  50.0   120.00\n",
      "HrmBnd1 NA CA  NC  70.0   123.30\n",
      "HrmBnd1 N2 CA  NA  70.0   116.00\n",
      "HrmBnd1 N2 CA  NC  70.0   119.30\n",
      "HrmBnd1 N2 CA  N2  70.0   120.00\n",
      "HrmBnd1 F  CA  CA  70.0   121.00\n",
      "HrmBnd1 Cl CA  CA  70.0   118.80\n",
      "HrmBnd1 Br CA  CA  70.0   118.80\n",
      "HrmBnd1 I  CA  CA  70.0   118.80\n",
      "HrmBnd1 C  CB  CB  63.0   119.20\n",
      "HrmBnd1 C  CB  NB  70.0   130.00\n",
      "HrmBnd1 CA CB  CB  63.0   117.30\n",
      "HrmBnd1 CA CB  NB  70.0   132.40\n",
      "HrmBnd1 CB CB  N*  70.0   106.20\n",
      "HrmBnd1 CB CB  NB  70.0   110.40\n",
      "HrmBnd1 CB CB  NC  70.0   127.70\n",
      "HrmBnd1 C* CB  CA  63.0   134.90\n",
      "HrmBnd1 C* CB  CN  63.0   108.80\n",
      "HrmBnd1 CA CB  CN  63.0   116.20\n",
      "HrmBnd1 N* CB  NC  70.0   126.20\n",
      "HrmBnd1 CD CD  CM  63.0   120.00\n",
      "HrmBnd1 CD CD  CT  70.0   120.00\n",
      "HrmBnd1 CM CD  CT  70.0   120.00\n",
      "HrmBnd1 HA CD  HA  35.0   119.00\n",
      "HrmBnd1 HA CD  CD  50.0   120.00\n",
      "HrmBnd1 HA CD  CM  50.0   120.00\n",
      "HrmBnd1 H5 CK  N*  50.0   123.05\n",
      "HrmBnd1 H5 CK  NB  50.0   123.05\n",
      "HrmBnd1 N* CK  NB  70.0   113.90\n",
      "HrmBnd1 C  CM  CM  63.0   120.70\n",
      "HrmBnd1 C  CM  CT  70.0   119.70\n",
      "HrmBnd1 C  CM  HA  50.0   119.70\n",
      "HrmBnd1 C  CM  H4  50.0   119.70\n",
      "HrmBnd1 CA CM  CM  63.0   117.00\n",
      "HrmBnd1 CA CM  HA  50.0   123.30\n",
      "HrmBnd1 CA CM  H4  50.0   123.30\n",
      "HrmBnd1 CM CM  CT  70.0   119.70\n",
      "HrmBnd1 CM CM  HA  50.0   119.70\n",
      "HrmBnd1 CM CM  H4  50.0   119.70\n",
      "HrmBnd1 CM CM  N*  70.0   121.20\n",
      "HrmBnd1 CM CM  OS  80.0   125.00\n",
      "HrmBnd1 H4 CM  N*  50.0   119.10\n",
      "HrmBnd1 H4 CM  OS  50.0   113.00\n",
      "HrmBnd1 HA CM  HA  35.0   120.00\n",
      "HrmBnd1 HA CM  CD  50.0   120.00\n",
      "HrmBnd1 HA CM  CT  50.0   120.00\n",
      "HrmBnd1 NC CQ  NC  70.0   129.10\n",
      "HrmBnd1 H5 CQ  NC  50.0   115.45\n",
      "HrmBnd1 H1 CT  H1  35.0   109.50\n",
      "HrmBnd1 H1 CT  N*  50.0   109.50\n",
      "HrmBnd1 H1 CT  OH  50.0   109.50\n",
      "HrmBnd1 H1 CT  OS  50.0   109.50\n",
      "HrmBnd1 H1 CT  CM  50.0   109.50\n",
      "HrmBnd1 H1 CT  CY  50.0   110.00\n",
      "HrmBnd1 H1 CT  CZ  50.0   110.00\n",
      "HrmBnd1 H1 CT  N   50.0   109.50\n",
      "HrmBnd1 H1 CT  S   50.0   109.50\n",
      "HrmBnd1 H1 CT  SH  50.0   109.50\n",
      "HrmBnd1 H1 CT  N2  50.0   109.50\n",
      "HrmBnd1 H1 CT  NT  50.0   109.50\n",
      "HrmBnd1 H2 CT  H2  35.0   109.50\n",
      "HrmBnd1 H2 CT  N*  50.0   109.50\n",
      "HrmBnd1 H2 CT  OS  50.0   109.50\n",
      "HrmBnd1 HP CT  HP  35.0   109.50\n",
      "HrmBnd1 HP CT  N3  50.0   109.50\n",
      "HrmBnd1 HC CT  HC  35.0   109.50\n",
      "HrmBnd1 HC CT  CM  50.0   109.50\n",
      "HrmBnd1 HC CT  CD  50.0   109.50\n",
      "HrmBnd1 HC CT  CZ  50.0   110.00\n",
      "HrmBnd1 C  CT  H1  50.0   109.50\n",
      "HrmBnd1 C  CT  HP  50.0   109.50\n",
      "HrmBnd1 C  CT  HC  50.0   109.50\n",
      "HrmBnd1 C  CT  N   63.0   110.10\n",
      "HrmBnd1 C  CT  N3  80.0   111.20\n",
      "HrmBnd1 C  CT  CT  63.0   111.10\n",
      "HrmBnd1 C  CT  OS  60.0   109.50\n",
      "HrmBnd1 CA CT  HC  50.0   109.50\n",
      "HrmBnd1 CC CT  CT  63.0   113.10\n",
      "HrmBnd1 CC CT  HC  50.0   109.50\n",
      "HrmBnd1 CM CT  CT  63.0   111.00\n",
      "HrmBnd1 CM CT  OS  50.0   109.50\n",
      "HrmBnd1 CT CT  CT  40.0   109.50\n",
      "HrmBnd1 CT CT  HC  50.0   109.50\n",
      "HrmBnd1 CT CT  H1  50.0   109.50\n",
      "HrmBnd1 CT CT  H2  50.0   109.50\n",
      "HrmBnd1 CT CT  HP  50.0   109.50\n",
      "HrmBnd1 CT CT  N*  50.0   109.50\n",
      "HrmBnd1 CT CT  OH  50.0   109.50\n",
      "HrmBnd1 CT CT  OS  50.0   109.50\n",
      "HrmBnd1 CT CT  S   50.0   114.70\n",
      "HrmBnd1 CT CT  SH  50.0   108.60\n",
      "HrmBnd1 CT CT  CA  63.0   114.00\n",
      "HrmBnd1 CT CT  N2  80.0   111.20\n",
      "HrmBnd1 CT CT  N   80.0   109.70\n",
      "HrmBnd1 CT CT  N3  80.0   111.20\n",
      "HrmBnd1 CT CT  NT  80.0   111.20\n",
      "HrmBnd1 CT CT  CY  63.0   110.00\n",
      "HrmBnd1 CT CT  CZ  63.0   110.00\n",
      "HrmBnd1 C* CT  CT  63.0   115.60\n",
      "HrmBnd1 C* CT  HC  50.0   109.50\n",
      "HrmBnd1 OS CT  OS  160.0  101.00\n",
      "HrmBnd1 OS CT  CY  50.0   110.00\n",
      "HrmBnd1 OS CT  CZ  50.0   110.00\n",
      "HrmBnd1 OS CT  N*  50.0   109.50\n",
      "HrmBnd1 F  CT  F   77.0   109.10\n",
      "HrmBnd1 F  CT  H1  50.0   109.50\n",
      "HrmBnd1 F  CT  CT  50.0   109.00\n",
      "HrmBnd1 F  CT  H2  50.0   109.50\n",
      "HrmBnd1 Cl CT  CT  50.0   108.50\n",
      "HrmBnd1 Cl CT  H1  50.0   108.50\n",
      "HrmBnd1 Br CT  CT  50.0   108.00\n",
      "HrmBnd1 Br CT  H1  50.0   106.50\n",
      "HrmBnd1 I  CT  CT  50.0   106.00\n",
      "HrmBnd1 CT CC  NA  70.0   120.00\n",
      "HrmBnd1 CT CC  CV  70.0   120.00\n",
      "HrmBnd1 CT CC  NB  70.0   120.00\n",
      "HrmBnd1 CV CC  NA  70.0   120.00\n",
      "HrmBnd1 CW CC  NA  70.0   120.00\n",
      "HrmBnd1 CW CC  NB  70.0   120.00\n",
      "HrmBnd1 CT CC  CW  70.0   120.00\n",
      "HrmBnd1 H5 CR  NA  50.0   120.00\n",
      "HrmBnd1 H5 CR  NB  50.0   120.00\n",
      "HrmBnd1 NA CR  NA  70.0   120.00\n",
      "HrmBnd1 NA CR  NB  70.0   120.00\n",
      "HrmBnd1 CC CV  H4  50.0   120.00\n",
      "HrmBnd1 CC CV  NB  70.0   120.00\n",
      "HrmBnd1 H4 CV  NB  50.0   120.00\n",
      "HrmBnd1 CC CW  H4  50.0   120.00\n",
      "HrmBnd1 CC CW  NA  70.0   120.00\n",
      "HrmBnd1 C* CW  H4  50.0   120.00\n",
      "HrmBnd1 C* CW  NA  70.0   108.70\n",
      "HrmBnd1 H4 CW  NA  50.0   120.00\n",
      "HrmBnd1 CB C*  CT  70.0   128.60\n",
      "HrmBnd1 CB C*  CW  63.0   106.40\n",
      "HrmBnd1 CT C*  CW  70.0   125.00\n",
      "HrmBnd1 CA CN  CB  63.0   122.70\n",
      "HrmBnd1 CA CN  NA  70.0   132.80\n",
      "HrmBnd1 CB CN  NA  70.0   104.40\n",
      "HrmBnd1 CT CY  NY  80.0   180.00\n",
      "HrmBnd1 CT CZ  CZ  80.0   180.00\n",
      "HrmBnd1 CZ CZ  HZ  50.0   180.00\n",
      "HrmBnd1 C  N   CT  50.0   121.90\n",
      "HrmBnd1 C  N   H   50.0   120.00\n",
      "HrmBnd1 CT N   H   50.0   118.04\n",
      "HrmBnd1 CT N   CT  50.0   118.00\n",
      "HrmBnd1 H  N   H   35.0   120.00\n",
      "HrmBnd1 C  N*  CM  70.0   121.60\n",
      "HrmBnd1 C  N*  CT  70.0   117.60\n",
      "HrmBnd1 C  N*  H   50.0   119.20\n",
      "HrmBnd1 CB N*  CK  70.0   105.40\n",
      "HrmBnd1 CB N*  CT  70.0   125.80\n",
      "HrmBnd1 CB N*  H   50.0   125.80\n",
      "HrmBnd1 CK N*  CT  70.0   128.80\n",
      "HrmBnd1 CK N*  H   50.0   128.80\n",
      "HrmBnd1 CM N*  CT  70.0   121.20\n",
      "HrmBnd1 CM N*  H   50.0   121.20\n",
      "HrmBnd1 CA N2  H   50.0   120.00\n",
      "HrmBnd1 CA N2  CT  50.0   123.20\n",
      "HrmBnd1 CT N2  H   50.0   118.40\n",
      "HrmBnd1 H  N2  H   35.0   120.00\n",
      "HrmBnd1 CT N3  H   50.0   109.50\n",
      "HrmBnd1 CT N3  CT  50.0   109.50\n",
      "HrmBnd1 H  N3  H   35.0   109.50\n",
      "HrmBnd1 CT NT  H   50.0   109.50\n",
      "HrmBnd1 CT NT  CT  50.0   109.50\n",
      "HrmBnd1 H  NT  H   35.0   109.50\n",
      "HrmBnd1 C  NA  C   70.0   126.40\n",
      "HrmBnd1 C  NA  CA  70.0   125.20\n",
      "HrmBnd1 C  NA  H   50.0   116.80\n",
      "HrmBnd1 CA NA  H   50.0   118.00\n",
      "HrmBnd1 CC NA  CR  70.0   120.00\n",
      "HrmBnd1 CC NA  H   50.0   120.00\n",
      "HrmBnd1 CR NA  CW  70.0   120.00\n",
      "HrmBnd1 CR NA  H   50.0   120.00\n",
      "HrmBnd1 CW NA  H   50.0   120.00\n",
      "HrmBnd1 CN NA  CW  70.0   111.60\n",
      "HrmBnd1 CN NA  H   50.0   123.10\n",
      "HrmBnd1 CB NB  CK  70.0   103.80\n",
      "HrmBnd1 CC NB  CR  70.0   117.00\n",
      "HrmBnd1 CR NB  CV  70.0   117.00\n",
      "HrmBnd1 C  NC  CA  70.0   120.50\n",
      "HrmBnd1 CA NC  CB  70.0   112.20\n",
      "HrmBnd1 CA NC  CQ  70.0   118.60\n",
      "HrmBnd1 CB NC  CQ  70.0   111.00\n",
      "HrmBnd1 C  OH  HO  50.0   113.00\n",
      "HrmBnd1 CA OH  HO  50.0   113.00\n",
      "HrmBnd1 CT OH  HO  55.0   108.50\n",
      "HrmBnd1 HO OH  P   45.0   108.50\n",
      "HrmBnd1 C  OS  CT  60.0   117.00\n",
      "HrmBnd1 CM OS  CT  60.0   117.00\n",
      "HrmBnd1 CT OS  CT  60.0   109.50\n",
      "HrmBnd1 CT OS  P   100.0  120.50\n",
      "HrmBnd1 P  OS  P   100.0  120.50\n",
      "HrmBnd1 O2 P   OH  45.0   108.23\n",
      "HrmBnd1 O2 P   O2  140.0  119.90\n",
      "HrmBnd1 O2 P   OS  100.0  108.23\n",
      "HrmBnd1 OH P   OS  45.0   102.60\n",
      "HrmBnd1 OS P   OS  45.0   102.60\n",
      "HrmBnd1 CT S   CT  62.0   98.90\n",
      "HrmBnd1 CT S   S   68.0   103.70\n",
      "HrmBnd1 CT SH  HS  43.0   96.00\n",
      "HrmBnd1 HS SH  HS  35.0   92.07\n",
      "HrmBnd1 CB NB  LP  150.0  126.0\n",
      "HrmBnd1 CC NB  LP  150.0  126.0\n",
      "HrmBnd1 CK NB  LP  150.0  126.0\n",
      "HrmBnd1 CR NB  LP  150.0  126.0\n",
      "HrmBnd1 CV NB  LP  150.0  126.0\n",
      "HrmBnd1 C  NC  LP  150.0  120.0\n",
      "HrmBnd1 CA NC  LP  150.0  120.0\n",
      "HrmBnd1 CB NC  LP  150.0  120.0\n",
      "HrmBnd1 CQ NC  LP  150.0  120.0\n",
      "HrmBnd1 CT N3  LP  150.0  109.5\n",
      "HrmBnd1 H  N3  LP  150.0  109.5\n",
      "HrmBnd1 CT NT  LP  150.0  109.5\n",
      "HrmBnd1 H  NT  LP  150.0  109.5\n",
      "HrmBnd1 C  O   LP  150.0  120.0\n",
      "HrmBnd1 LP O   LP  150.0  120.0\n",
      "HrmBnd1 C  OH  LP  150.0  120.0\n",
      "HrmBnd1 CT OH  LP  150.0  109.5\n",
      "HrmBnd1 HO OH  LP  150.0  109.5\n",
      "HrmBnd1 LP OH  LP  150.0  109.5\n",
      "HrmBnd1 C  OS  LP  150.0  109.5\n",
      "HrmBnd1 CM OS  LP  150.0  109.5\n",
      "HrmBnd1 CT OS  LP  150.0  109.5\n",
      "HrmBnd1 LP OS  LP  150.0  109.5\n",
      "HrmBnd1 CT S   LP  150.0  90.0\n",
      "HrmBnd1 CT SH  LP  150.0  90.0\n",
      "HrmBnd1 P  OS  LP  150.0  109.5\n",
      "HrmBnd1 LP S   LP  150.0  180.0\n",
      "HrmBnd1 LP SH  LP  150.0  180.0\n",
      "HrmBnd1 HS SH  LP  150.0  90.0\n",
      "\n",
      "AmbTrs *  C   C   *   0     180   0     0     0.00   14.50  0.00   0.00   4.0\n",
      "AmbTrs *  C   CA  *   0     180   0     0     0.00   14.50  0.00   0.00   4.0\n",
      "AmbTrs *  C   CB  *   0     180   0     0     0.00   12.00  0.00   0.00   4.0\n",
      "AmbTrs *  C   CM  *   0     180   0     0     0.00   8.70   0.00   0.00   4.0\n",
      "AmbTrs *  C   CT  *   0     0     0     0     0.00   0.00   0.00   0.00   6.0\n",
      "AmbTrs *  C   N   *   0     180   0     0     0.00   10.00  0.00   0.00   4.0\n",
      "AmbTrs *  C   N*  *   0     180   0     0     0.00   5.80   0.00   0.00   4.0\n",
      "AmbTrs *  C   NA  *   0     180   0     0     0.00   5.40   0.00   0.00   4.0\n",
      "AmbTrs *  C   NC  *   0     180   0     0     0.00   8.00   0.00   0.00   2.0\n",
      "AmbTrs *  C   O   *   0     180   0     0     0.00   11.20  0.00   0.00   4.0\n",
      "AmbTrs *  C   OH  *   0     180   0     0     0.00   4.60   0.00   0.00   2.0\n",
      "AmbTrs *  C   OS  *   0     180   0     0     0.00   5.40   0.00   0.00   2.0\n",
      "AmbTrs *  CA  CA  *   0     180   0     0     0.00   14.50  0.00   0.00   4.0\n",
      "AmbTrs *  CA  CB  *   0     180   0     0     0.00   14.00  0.00   0.00   4.0\n",
      "AmbTrs *  CA  CM  *   0     180   0     0     0.00   10.20  0.00   0.00   4.0\n",
      "AmbTrs *  CA  CN  *   0     180   0     0     0.00   14.50  0.00   0.00   4.0\n",
      "AmbTrs *  CA  CT  *   0     0     0     0     0.00   0.00   0.00   0.00   6.0\n",
      "AmbTrs *  CA  N2  *   0     180   0     0     0.00   9.60   0.00   0.00   4.0\n",
      "AmbTrs *  CA  NA  *   0     180   0     0     0.00   6.00   0.00   0.00   4.0\n",
      "AmbTrs *  CA  NC  *   0     180   0     0     0.00   9.60   0.00   0.00   2.0\n",
      "AmbTrs *  CA  OH  *   0     180   0     0     0.00   1.80   0.00   0.00   2.0\n",
      "AmbTrs *  CB  CB  *   0     180   0     0     0.00   21.80  0.00   0.00   4.0\n",
      "AmbTrs *  CB  CN  *   0     180   0     0     0.00   12.00  0.00   0.00   4.0\n",
      "AmbTrs *  CB  N*  *   0     180   0     0     0.00   6.60   0.00   0.00   4.0\n",
      "AmbTrs *  CB  NB  *   0     180   0     0     0.00   5.10   0.00   0.00   2.0\n",
      "AmbTrs *  CB  NC  *   0     180   0     0     0.00   8.30   0.00   0.00   2.0\n",
      "AmbTrs *  CC  CT  *   0     0     0     0     0.00   0.00   0.00   0.00   6.0\n",
      "AmbTrs *  CC  CV  *   0     180   0     0     0.00   20.60  0.00   0.00   4.0\n",
      "AmbTrs *  CC  CW  *   0     180   0     0     0.00   21.50  0.00   0.00   4.0\n",
      "AmbTrs *  CC  NA  *   0     180   0     0     0.00   5.60   0.00   0.00   4.0\n",
      "AmbTrs *  CC  NB  *   0     180   0     0     0.00   4.80   0.00   0.00   2.0\n",
      "AmbTrs *  CD  CD  *   0     180   0     0     0.00   4.00   0.00   0.00   4.0\n",
      "AmbTrs *  CD  CT  *   0     0     0     0     0.00   0.00   0.00   0.00   6.0\n",
      "AmbTrs *  CD  CM  *   0     180   0     0     0.00   26.60  0.00   0.00   4.0\n",
      "AmbTrs *  CK  N*  *   0     180   0     0     0.00   6.80   0.00   0.00   4.0\n",
      "AmbTrs *  CK  NB  *   0     180   0     0     0.00   20.00  0.00   0.00   2.0\n",
      "AmbTrs *  CM  CM  *   0     180   0     0     0.00   26.60  0.00   0.00   4.0\n",
      "AmbTrs *  CM  CT  *   0     0     0     0     0.00   0.00   0.00   0.00   6.0\n",
      "AmbTrs *  CM  N*  *   0     180   0     0     0.00   7.40   0.00   0.00   4.0\n",
      "AmbTrs *  CM  OS  *   0     180   0     0     0.00   2.10   0.00   0.00   2.0\n",
      "AmbTrs *  CN  NA  *   0     180   0     0     0.00   6.10   0.00   0.00   4.0\n",
      "AmbTrs *  CQ  NC  *   0     180   0     0     0.00   13.60  0.00   0.00   2.0\n",
      "AmbTrs *  CT  CT  *   0     0     0     0     0.00   0.00   1.40   0.00   9.0\n",
      "AmbTrs *  CT  CY  *   0     0     0     0     0.00   0.00   0.00   0.00   3.0\n",
      "AmbTrs *  CT  CZ  *   0     0     0     0     0.00   0.00   0.00   0.00   3.0\n",
      "AmbTrs *  CT  N   *   0     0     0     0     0.00   0.00   0.00   0.00   6.0\n",
      "AmbTrs *  CT  N*  *   0     0     0     0     0.00   0.00   0.00   0.00   6.0\n",
      "AmbTrs *  CT  N2  *   0     0     0     0     0.00   0.00   0.00   0.00   6.0\n",
      "AmbTrs *  CT  NT  *   0     0     0     0     0.00   0.00   1.80   0.00   6.0\n",
      "AmbTrs *  CT  N3  *   0     0     0     0     0.00   0.00   1.40   0.00   9.0\n",
      "AmbTrs *  CT  OH  *   0     0     0     0     0.00   0.00   0.50   0.00   3.0\n",
      "AmbTrs *  CT  OS  *   0     0     0     0     0.00   0.00   1.15   0.00   3.0\n",
      "AmbTrs *  CT  S   *   0     0     0     0     0.00   0.00   1.00   0.00   3.0\n",
      "AmbTrs *  CT  SH  *   0     0     0     0     0.00   0.00   0.75   0.00   3.0\n",
      "AmbTrs *  C*  CB  *   0     180   0     0     0.00   6.70   0.00   0.00   4.0\n",
      "AmbTrs *  C*  CT  *   0     0     0     0     0.00   0.00   0.00   0.00   6.0\n",
      "AmbTrs *  C*  CW  *   0     180   0     0     0.00   26.10  0.00   0.00   4.0\n",
      "AmbTrs *  CR  NA  *   0     180   0     0     0.00   9.30   0.00   0.00   4.0\n",
      "AmbTrs *  CR  NB  *   0     180   0     0     0.00   10.00  0.00   0.00   2.0\n",
      "AmbTrs *  CV  NB  *   0     180   0     0     0.00   4.80   0.00   0.00   2.0\n",
      "AmbTrs *  CW  NA  *   0     180   0     0     0.00   6.00   0.00   0.00   4.0\n",
      "AmbTrs *  OH  P   *   0     0     0     0     0.00   0.00   0.75   0.00   3.0\n",
      "AmbTrs *  OS  P   *   0     0     0     0     0.00   0.00   0.75   0.00   3.0\n",
      "AmbTrs N  CT  C   N   180   180   0     0     1.700  2.000  0.00   0.00   1.0\n",
      "AmbTrs C  N   CT  C   0     180   0     0     0.800  0.850  0.00   0.00   1.0\n",
      "AmbTrs CT CT  N   C   0     0     180   180   0.53   0.00   0.15   0.50   1.0\n",
      "AmbTrs CT CT  C   N   0     0     0     0     0.00   0.07   0.00   0.100  1.0\n",
      "AmbTrs H  N   C   O   0     180   0     0     2.00   2.50   0.00   0.00   1.0\n",
      "AmbTrs CT S   S   CT  0     0     0     0     0.00   3.50   0.60   0.00   1.0\n",
      "AmbTrs OH P   OS  CT  0     0     0     0     0.00   1.20   0.25   0.00   1.0\n",
      "AmbTrs OS P   OS  CT  0     0     0     0     0.00   1.20   0.25   0.00   1.0\n",
      "AmbTrs H1 CT  C   O   0     0     180   0     0.80   0.00   0.08   0.00   1.0\n",
      "AmbTrs HC CT  C   O   0     0     180   0     0.80   0.00   0.08   0.00   1.0\n",
      "AmbTrs HC CT  CT  HC  0     0     0     0     0.00   0.00   0.15   0.00   1.0\n",
      "AmbTrs HC CT  CT  CT  0     0     0     0     0.00   0.00   0.16   0.00   1.0\n",
      "AmbTrs HC CT  CM  CM  0     0     180   0     1.15   0.00   0.38   0.00   1.0\n",
      "AmbTrs HO OH  CT  CT  0     0     0     0     0.25   0.00   0.16   0.00   1.0\n",
      "AmbTrs HO OH  C   O   0     180   0     0     1.90   2.30   0.00   0.00   1.0\n",
      "AmbTrs CM CM  C   O   0     180   0     0     0.00   2.175  0.30   0.00   1.0\n",
      "AmbTrs CT CM  CM  CT  180   180   0     0     1.90   6.65   0.00   0.00   1.0\n",
      "AmbTrs CT CT  CT  CT  180   180   0     0     0.20   0.25   0.18   0.00   1.0\n",
      "AmbTrs CT CT  NT  CT  0     180   0     0     0.00   0.48   0.30   0.00   1.0\n",
      "AmbTrs CT CT  OS  CT  0     180   0     0     0.00   0.1    0.383  0.00   1.0\n",
      "AmbTrs CT CT  OS  C   180   0     0     0     0.80   0.00   0.383  0.00   1.0\n",
      "AmbTrs CT OS  CT  OS  180   180   0     0     1.35   0.85   0.10   0.00   1.0\n",
      "AmbTrs CT OS  CT  N*  0     0     0     0     0.00   0.65   0.383  0.00   1.0\n",
      "AmbTrs CT CZ  CZ  HZ  0     0     0     0     0.00   0.00   0.00   0.00   1.0\n",
      "AmbTrs O  C   OS  CT  180   180   0     0     1.40   2.70   0.00   0.00   1.0\n",
      "AmbTrs OS CT  N*  CK  0     0     0     0     2.50   0.00   0.00   0.00   1.0\n",
      "AmbTrs OS CT  N*  CM  0     0     0     0     2.50   0.00   0.00   0.00   1.0\n",
      "AmbTrs OS CT  CT  OS  0     0     0     0     0.00   1.175  0.144  0.00   1.0\n",
      "AmbTrs OS CT  CT  OH  0     0     0     0     0.00   1.175  0.144  0.00   1.0\n",
      "AmbTrs OH CT  CT  OH  0     0     0     0     0.00   1.175  0.144  0.00   1.0\n",
      "AmbTrs F  CT  CT  F   180   0     0     0     1.20   0.00   0.000  0.00   1.0\n",
      "AmbTrs Cl CT  CT  Cl  180   0     0     0     0.45   0.00   0.000  0.00   1.0\n",
      "AmbTrs Br CT  CT  Br  180   0     0     0     0.00   0.00   0.000  0.00   1.0\n",
      "AmbTrs H1 CT  CT  OS  0     0     0     0     0.25   0.00   0.000  0.00   1.0\n",
      "AmbTrs H1 CT  CT  OH  0     0     0     0     0.25   0.00   0.000  0.00   1.0\n",
      "AmbTrs H1 CT  CT  F   0     0     0     0     0.19   0.00   0.000  0.00   1.0\n",
      "AmbTrs H1 CT  CT  Cl  0     0     0     0     0.25   0.00   0.000  0.00   1.0\n",
      "AmbTrs H1 CT  CT  Br  0     0     0     0     0.55   0.00   0.000  0.00   1.0\n",
      "AmbTrs HC CT  CT  OS  0     0     0     0     0.25   0.00   0.000  0.00   1.0\n",
      "AmbTrs HC CT  CT  OH  0     0     0     0     0.25   0.00   0.000  0.00   1.0\n",
      "AmbTrs HC CT  CT  F   0     0     0     0     0.19   0.00   0.000  0.00   1.0\n",
      "AmbTrs HC CT  CT  Cl  0     0     0     0     0.25   0.00   0.000  0.00   1.0\n",
      "AmbTrs HC CT  CT  Br  0     0     0     0     0.55   0.00   0.000  0.00   1.0\n",
      "AmbTrs H1 CT  NT  LP  0     0     0     0     0.00   0.00   0.000  0.00   1.0\n",
      "AmbTrs CT CT  NT  LP  0     0     0     0     0.00   0.00   0.000  0.00   1.0\n",
      "AmbTrs CT C   N   LP  0     180   0     0     0.00   0.000  0.00   0.00   1.0\n",
      "AmbTrs O  C   N   LP  0     180   0     0     0.00   0.000  0.00   0.00   1.0\n",
      "AmbTrs H1 CT  OH  LP  0     0     0     0     0.00   0.00   0.000  0.00   1.0\n",
      "AmbTrs CT CT  OH  LP  0     0     0     0     0.00   0.00   0.000  0.00   1.0\n",
      "AmbTrs H1 CT  OS  LP  0     0     0     0     0.00   0.00   0.000  0.00   1.0\n",
      "AmbTrs H2 CT  OS  LP  0     0     0     0     0.00   0.00   0.000  0.00   1.0\n",
      "AmbTrs CT CT  OS  LP  0     0     0     0     0.00   0.00   0.000  0.00   1.0\n",
      "AmbTrs CM CM  OS  LP  0     180   0     0     0.00   0.000  0.00   0.00   1.0\n",
      "AmbTrs HA CM  OS  LP  0     180   0     0     0.00   0.000  0.00   0.00   1.0\n",
      "AmbTrs H4 CM  OS  LP  0     180   0     0     0.00   0.000  0.00   0.00   1.0\n",
      "\n",
      "ImpTrs *  *  C   O   10.5   180.  2.\n",
      "ImpTrs *  O2 C   O2  10.5   180.  2.\n",
      "ImpTrs *  *  N   H   1.0    180.  2.\n",
      "ImpTrs *  *  N2  H   1.0    180.  2.\n",
      "ImpTrs *  *  NA  H   1.0    180.  2.\n",
      "ImpTrs *  N2 CA  N2  10.5   180.  2.\n",
      "ImpTrs *  CT N   CT  1.0    180.  2.\n",
      "ImpTrs *  *  CA  HA  1.1    180.  2.\n",
      "ImpTrs *  *  CW  H4  1.1    180.  2.\n",
      "ImpTrs *  *  CR  H5  1.1    180.  2.\n",
      "ImpTrs *  *  CV  H4  1.1    180.  2.\n",
      "ImpTrs *  *  CQ  H5  1.1    180.  2.\n",
      "ImpTrs *  *  CK  H5  1.1    180.  2.\n",
      "ImpTrs *  *  CM  H4  1.1    180.  2.\n",
      "ImpTrs *  *  CM  HA  1.1    180.  2.\n",
      "ImpTrs *  *  CA  H4  1.1    180.  2.\n",
      "ImpTrs *  *  CA  H5  1.1    180.  2.\n",
      "ImpTrs CB CK N*  CT  1.0    180.  2.\n",
      "ImpTrs C  CM N*  CT  1.0    180.  2.\n",
      "ImpTrs CT O  C   OH  10.5   180.  2.\n",
      "ImpTrs CT CV CC  NA  1.1    180.  2.\n",
      "ImpTrs CT CW CC  NB  1.1    180.  2.\n",
      "ImpTrs CT CW CC  NA  1.1    180.  2.\n",
      "ImpTrs CB CT C*  CW  1.1    180.  2.\n",
      "ImpTrs CA CA CA  CT  1.1    180.  2.\n",
      "ImpTrs C  CM CM  CT  1.1    180.  2.\n",
      "ImpTrs CM N2 CA  NC  1.1    180.  2.\n",
      "ImpTrs CB N2 CA  NC  1.1    180.  2.\n",
      "ImpTrs N2 NA CA  NC  1.1    180.  2.\n",
      "ImpTrs CA CA C   OH  1.1    180.  2.\n",
      "ImpTrs CA CA CA  OH  1.1    180.  2.\n",
      "ImpTrs H5 O  C   OH  1.1    180.  2.\n",
      "ImpTrs H5 O  C   OS  1.1    180.  2.\n",
      "ImpTrs CM CT CM  HA  1.1    180.  2.\n",
      "ImpTrs Br CA CA  CA  1.1    180.  2.\n",
      "ImpTrs CM H4 C   O   1.1    180.  2.\n",
      "ImpTrs C  CT N   H   1.1    180.  2.\n",
      "ImpTrs C  CT N   O   1.1    180.  2.\n",
      "\n",
      "VDW H  0.6000 0.0157\n",
      "VDW HO 0.0000 0.0000\n",
      "VDW HS 0.6000 0.0157\n",
      "VDW HC 1.4870 0.0157\n",
      "VDW H1 1.3870 0.0157\n",
      "VDW H2 1.2870 0.0157\n",
      "VDW H3 1.1870 0.0157\n",
      "VDW HP 1.1000 0.0157\n",
      "VDW HA 1.4590 0.0150\n",
      "VDW H4 1.4090 0.0150\n",
      "VDW H5 1.3590 0.0150\n",
      "VDW HW 0.0000 0.0000\n",
      "VDW HZ 1.4590 0.0150\n",
      "VDW O  1.6612 0.2100\n",
      "VDW O2 1.6612 0.2100\n",
      "VDW OW 1.7683 0.1520\n",
      "VDW OH 1.7210 0.2104\n",
      "VDW OS 1.6837 0.1700\n",
      "VDW C* 1.9080 0.0860\n",
      "VDW CT 1.9080 0.1094\n",
      "VDW C  1.9080 0.0860\n",
      "VDW N  1.8240 0.1700\n",
      "VDW N3 1.8240 0.1700\n",
      "VDW S  2.0000 0.2500\n",
      "VDW SH 2.0000 0.2500\n",
      "VDW P  2.1000 0.2000\n",
      "VDW IM 2.47   0.1\n",
      "VDW Li 1.1370 0.0183\n",
      "VDW IP 1.8680 0.00277\n",
      "VDW Na 1.8680 0.00277\n",
      "VDW K  2.6580 0.000328\n",
      "VDW Rb 2.9560 0.00017\n",
      "VDW Cs 3.3950 0.0000806\n",
      "VDW MG 0.7926 0.8947\n",
      "VDW C0 1.7131 0.459789\n",
      "VDW Zn 1.10   0.0125\n",
      "VDW F  1.75   0.061\n",
      "VDW Cl 1.948  0.265\n",
      "VDW Br 2.22   0.320\n",
      "VDW I  2.35   0.40\n",
      "VDW IB 5.0    0.1\n",
      "VDW LP 0.00   0.0000\n"
     ]
    }
   ],
   "source": [
    "print(param_str1)"
   ]
  },
  {
   "cell_type": "code",
   "execution_count": 12,
   "metadata": {
    "collapsed": false
   },
   "outputs": [
    {
     "name": "stdout",
     "output_type": "stream",
     "text": [
      "/home/clyde/Dropbox/Project Stuff/Notebooks/oniom_bio/test\n"
     ]
    }
   ],
   "source": [
    "cd test"
   ]
  },
  {
   "cell_type": "code",
   "execution_count": 13,
   "metadata": {
    "collapsed": false
   },
   "outputs": [],
   "source": [
    "from openmoltools.amber import find_executable\n",
    "import os\n",
    "full_path = find_executable(\"parmchk2\")\n",
    "parm_path = os.path.split(full_path)[0] + '/../dat/leap/parm/'"
   ]
  },
  {
   "cell_type": "code",
   "execution_count": 30,
   "metadata": {
    "collapsed": false
   },
   "outputs": [],
   "source": []
  },
  {
   "cell_type": "code",
   "execution_count": 31,
   "metadata": {
    "collapsed": false
   },
   "outputs": [],
   "source": [
    "import openmoltools.amber_parser as ap\n",
    "#by default amberparser skips water residues as we do not wish to we set skipClasses to empty\n",
    "ap.skipClasses = []\n",
    "\n",
    "amber_parser = ap.AmberParser()\n",
    "amber_parser.process_dat_file(parm_path + 'parm96.dat')\n",
    "#amber_parser.process_dat_file(parm_path + 'parm99.dat')\n",
    "#amber_parser.process_frc_file(parm_path + 'frcmod.ff99SB')\n",
    "#amber_parser.process_frc_file('mod_capped_nonstd.frcmod')\n",
    "#amber_parser.process_mol2_file('1GFL_master_gaff.mol2')\n",
    "##had to hack process_library_file_method\n",
    "#amber_parser.process_library_file('CHR.lib')"
   ]
  },
  {
   "cell_type": "code",
   "execution_count": 26,
   "metadata": {
    "collapsed": false
   },
   "outputs": [
    {
     "data": {
      "text/plain": [
       "{}"
      ]
     },
     "execution_count": 26,
     "metadata": {},
     "output_type": "execute_result"
    }
   ],
   "source": [
    "amber_parser.residueConnections"
   ]
  },
  {
   "cell_type": "code",
   "execution_count": 15,
   "metadata": {
    "collapsed": false
   },
   "outputs": [
    {
     "data": {
      "text/plain": [
       "'AmbTrs CT CT  N   C   0     0     0     0     2.00   2.00   0.40   0.00   1.0'"
      ]
     },
     "execution_count": 15,
     "metadata": {},
     "output_type": "execute_result"
    }
   ],
   "source": [
    "final_param_str.split('\\n')[500]"
   ]
  },
  {
   "cell_type": "code",
   "execution_count": 16,
   "metadata": {
    "collapsed": false
   },
   "outputs": [],
   "source": [
    "from lxml import etree\n",
    "from io import StringIO\n",
    "class Gaussian_MM(object):\n",
    "    \"\"\"\n",
    "    Generates gaussian readable forcefield files from an amber_parser object\n",
    "    \n",
    "    Currently omits parameters for water\n",
    "    \"\"\"\n",
    "    \n",
    "    def __init__(self, amber_parser):\n",
    "        self.amber_parser = amber_parser\n",
    "    \n",
    "    def parse_xml(self):\n",
    "\n",
    "        xml = unicode(amber_parser.generate_xml().read())\n",
    "        force_tree = etree.ElementTree().parse(StringIO(xml))\n",
    "        atoms, residues, bonds, angles, master_torsions, nonbond = force_tree.getchildren()\n",
    "\n",
    "        self.atoms = [a.attrib for a in atoms]\n",
    "        self.residues = [r.attrib for r in residues]\n",
    "        self.bonds = [b.attrib for b in bonds]\n",
    "        self.angles = [a.attrib for a in angles]\n",
    "        self.nonbond = [n.attrib for n in nonbond]\n",
    "        self.proper_torsions = [t.attrib for t in master_torsions if t.tag == 'Proper']\n",
    "        self.improper_torsions = [t.attrib for t in master_torsions if t.tag =='Improper']\n",
    "\n",
    "        #sanity check\n",
    "        assert(len(self.proper_torsions) + len(self.improper_torsions) == len(master_torsions))\n",
    "\n",
    "        return\n",
    "    \n",
    "    def extract_bonds(self):\n",
    "        bond_strs = []\n",
    "        for bond in self.bonds:\n",
    "            bond_data = bond['class1'], bond['class2'],\\\n",
    "                        float(bond['k'])/(200*4.184), float(bond['length'])*10,     \n",
    "            bond_strs.append('HrmStr1 {:<2} {:<2}  {:<6} {:<5}'.format(*bond_data))\n",
    "        return bond_strs\n",
    "    \n",
    "    def extract_angles(self):\n",
    "        angle_strs = []\n",
    "        for angle in self.angles:\n",
    "            angle_data = angle['class1'], angle['class2'], angle['class3'],\\\n",
    "                         float(angle['k'])/(2*4.184), float(angle['angle'])*360/(2*np.pi)\n",
    "            angle_strs.append('HrmBnd1 {:<2} {:<2}  {:<2}  {:6} {:6}'.format(*angle_data))\n",
    "        return angle_strs\n",
    "            \n",
    "    def extract_torsions(self):\n",
    "        \"\"\"\n",
    "        Extract parameters for Torsions\n",
    "        \n",
    "        NB amber parser does not record the raw magnitudes instead recording the magnitude/NPaths\n",
    "           since the final equation involves magnitude/NPATH replacing the magnitude with the scaled\n",
    "           magnitude and setting NPaths to 1.0 should leave the forcefield unchanged. We adopt\n",
    "           this strategy here.\n",
    "        \"\"\"\n",
    "        \n",
    "        torsion_strs = []\n",
    "        for torsion in self.proper_torsions:\n",
    "            atoms = [torsion['class1'], torsion['class2'], torsion['class3'], torsion['class4']]\n",
    "            for i,a in enumerate(atoms):\n",
    "                if not atoms[i] :\n",
    "                    atoms[i] = '*'\n",
    "                    \n",
    "            periodicity = torsion.get('periodicity1',None), torsion.get('periodicity2',None),\\\n",
    "                          torsion.get('periodicity3',None), torsion.get('periodicity4',None)\n",
    "            periodicity = [p for p in periodicity if p]\n",
    "            periodicity = np.array(periodicity, dtype=np.int32)-1\n",
    "\n",
    "            temp_phases = torsion.get('phase1',None), torsion.get('phase2',None),\\\n",
    "                          torsion.get('phase3',None), torsion.get('phase4',None)\n",
    "            temp_phases = [ph for ph in temp_phases if ph]\n",
    "            temp_phases = np.array(temp_phases, dtype=np.float64) *360/(2*np.pi)\n",
    "            phases = np.zeros(4)\n",
    "            phases[periodicity] = temp_phases\n",
    "            \n",
    "            temp_mags = torsion.get('k1',None), torsion.get('k2',None),\\\n",
    "                        torsion.get('k3',None), torsion.get('k4',None)\n",
    "            temp_mags = np.array(temp_mags, dtype=np.float64)/4.184\n",
    "            mags = np.zeros(4)\n",
    "            mags[periodicity] = temp_mags\n",
    "\n",
    "            combi = atoms + list(phases) + list(mags)\n",
    "            torsion_strs.append('AmbTrs {:<2} {:<3} {:<3} {:<3} {:<5.0f} {:<5.0f} {:<5.0f} {:<5.0f} {:<6.3f} {:<6.3f} {:<6.3f} {:<6.3f} 1.0'.format(*combi))\n",
    "        \n",
    "        #AmberParser records torsions in the opposite order they are found in the original dat file.\n",
    "        #To make comparisons with the original file and the prm files included with gaussian we use the original\n",
    "        #order\n",
    "        torsion_strs = list(reversed(torsion_strs))\n",
    "        return torsion_strs \n",
    "    \n",
    "    def extract_improper(self):\n",
    "        improper_strs = []\n",
    "        \n",
    "        for improper in self.improper_torsions:\n",
    "            #AmberParser reorders these for some reason\n",
    "            improper_data = [improper['class2'], improper['class3'], improper['class1'], improper['class4'],\\\n",
    "                             float(improper['k1'])/4.184, improper['periodicity1']]\n",
    "\n",
    "            if improper_data[0] == '':\n",
    "                improper_data[0] = '*'\n",
    "            if improper_data[1] == '':\n",
    "                improper_data[1] = '*'\n",
    "            if improper_data[2] == '':\n",
    "                improper_data[2] = '*'\n",
    "            if improper_data[3] == '':\n",
    "                improper_data[3] = '*'\n",
    "\n",
    "            improper_strs.append('ImpTrs {:<2} {:<2} {:<3} {:<3} {:<6} 180.0  {:<5}'.format(*improper_data))\n",
    "        \n",
    "        #AmberParser records Improper torsions in the opposite order they are found in the original dat file.\n",
    "        #To make comparisons with the original file and the prm files included with gaussian we use the original\n",
    "        #order\n",
    "        improper_strs = list(reversed(improper_strs))\n",
    "        return improper_strs\n",
    "\n",
    "    def extract_vdw(self):\n",
    "        vdw_strs = []\n",
    "        for a in  self.amber_parser.vdw:\n",
    "            vdw_data = a, float(self.amber_parser.vdw[a][0]), float(self.amber_parser.vdw[a][1])\n",
    "            vdw_strs.append('VDW {:<2} {:<9.9f} {:<9.9f}'.format(*vdw_data))\n",
    "        \n",
    "        for a in self.amber_parser.vdwEquivalents:\n",
    "            equiv_a = self.amber_parser.vdwEquivalents[a]\n",
    "            vdw_data = a, float(self.amber_parser.vdw[equiv_a][0]), float(self.amber_parser.vdw[equiv_a][1]) \n",
    "            vdw_strs.append('VDW {:<2} {:<9.9f} {:<9.9f}'.format(*vdw_data))\n",
    "\n",
    "        #amber_parser stores the vdw files in a dictionary so there is no way to preserve the original data file\n",
    "        #ordering as such we simply sort\n",
    "        return sorted(vdw_strs)\n",
    "    \n",
    "    def generate_prm(self):\n",
    "        init_prm = ['!',\n",
    "                    '! Non-bonded interaction',\n",
    "                    '!',\n",
    "                    'NonBon 3 1 0 0 0.000 0.000 0.500 0.000 0.000 -1.000']\n",
    "        \n",
    "        bond_prm = ['!',\n",
    "                   '! Stretches',\n",
    "                   '!'] + self.extract_bonds()\n",
    "        \n",
    "        angles_prm = [ '!',\n",
    "                       '! Angles',\n",
    "                       '!'] + self.extract_angles()\n",
    "        \n",
    "        torsions_prm = ['!',\n",
    "                        '! Torsions',\n",
    "                        '!',] + self.extract_torsions()\n",
    "        \n",
    "        improper_prm = [ '!',\n",
    "                         '! Improper torsions',\n",
    "                         '!',] + self.extract_improper()\n",
    "        \n",
    "        vdw_prm = ['!',\n",
    "                   '! Vanderwaals parameters',\n",
    "                   '!',] + self.extract_vdw()\n",
    "        \n",
    "        return '\\n'.join(init_prm + bond_prm + angles_prm + torsions_prm + improper_prm + vdw_prm)"
   ]
  },
  {
   "cell_type": "code",
   "execution_count": 32,
   "metadata": {
    "collapsed": false
   },
   "outputs": [
    {
     "data": {
      "text/plain": [
       "['!',\n",
       " '! Non-bonded interaction',\n",
       " '!',\n",
       " 'NonBon 3 1 0 0 0.000 0.000 0.500 0.000 0.000 -1.000',\n",
       " '!',\n",
       " '! Stretches',\n",
       " '!',\n",
       " 'HrmStr1 OW HW  553.0  0.9572',\n",
       " 'HrmStr1 HW HW  553.0  1.5136',\n",
       " 'HrmStr1 C  CA  469.0  1.409',\n",
       " 'HrmStr1 C  CB  447.0  1.419',\n",
       " 'HrmStr1 C  CM  410.0  1.444',\n",
       " 'HrmStr1 C  CT  317.0  1.522',\n",
       " 'HrmStr1 C  N*  424.0  1.383',\n",
       " 'HrmStr1 C  NA  418.0  1.388',\n",
       " 'HrmStr1 C  NC  457.0  1.358',\n",
       " 'HrmStr1 C  O   570.0  1.229',\n",
       " 'HrmStr1 C  O2  656.0  1.25 ',\n",
       " 'HrmStr1 C  OH  450.0  1.364',\n",
       " 'HrmStr1 CA CA  469.0  1.4  ',\n",
       " 'HrmStr1 CA CB  469.0  1.404',\n",
       " 'HrmStr1 CA CM  427.0  1.433',\n",
       " 'HrmStr1 CA CT  317.0  1.51 ',\n",
       " 'HrmStr1 CA HA  367.0  1.08 ',\n",
       " 'HrmStr1 CA H4  367.0  1.08 ',\n",
       " 'HrmStr1 CA N2  481.0  1.34 ',\n",
       " 'HrmStr1 CA NA  427.0  1.381',\n",
       " 'HrmStr1 CA NC  483.0  1.339',\n",
       " 'HrmStr1 CB CB  520.0  1.37 ',\n",
       " 'HrmStr1 CB N*  436.0  1.374',\n",
       " 'HrmStr1 CB NB  414.0  1.391',\n",
       " 'HrmStr1 CB NC  461.0  1.354',\n",
       " 'HrmStr1 CK H5  367.0  1.08 ',\n",
       " 'HrmStr1 CK N*  440.0  1.371',\n",
       " 'HrmStr1 CK NB  529.0  1.304',\n",
       " 'HrmStr1 CM CM  549.0  1.35 ',\n",
       " 'HrmStr1 CM CT  317.0  1.51 ',\n",
       " 'HrmStr1 CM HA  367.0  1.08 ',\n",
       " 'HrmStr1 CM H4  367.0  1.08 ',\n",
       " 'HrmStr1 CM H5  367.0  1.08 ',\n",
       " 'HrmStr1 CM N*  448.0  1.365',\n",
       " 'HrmStr1 CQ H5  367.0  1.08 ',\n",
       " 'HrmStr1 CQ NC  502.0  1.324',\n",
       " 'HrmStr1 CT CT  310.0  1.526',\n",
       " 'HrmStr1 CT HC  340.0  1.09 ',\n",
       " 'HrmStr1 CT H1  340.0  1.09 ',\n",
       " 'HrmStr1 CT H2  340.0  1.09 ',\n",
       " 'HrmStr1 CT H3  340.0  1.09 ',\n",
       " 'HrmStr1 CT HP  340.0  1.09 ',\n",
       " 'HrmStr1 CT N*  337.0  1.475',\n",
       " 'HrmStr1 CT N2  337.0  1.463',\n",
       " 'HrmStr1 CT OH  320.0  1.41 ',\n",
       " 'HrmStr1 CT OS  320.0  1.41 ',\n",
       " 'HrmStr1 H  N2  434.0  1.01 ',\n",
       " 'HrmStr1 H  N*  434.0  1.01 ',\n",
       " 'HrmStr1 H  NA  434.0  1.01 ',\n",
       " 'HrmStr1 HO OH  553.0  0.96 ',\n",
       " 'HrmStr1 HO OS  553.0  0.96 ',\n",
       " 'HrmStr1 O2 P   525.0  1.48 ',\n",
       " 'HrmStr1 OH P   230.0  1.61 ',\n",
       " 'HrmStr1 OS P   230.0  1.61 ',\n",
       " 'HrmStr1 C* HC  367.0  1.08 ',\n",
       " 'HrmStr1 C  N   490.0  1.335',\n",
       " 'HrmStr1 C* CB  388.0  1.459',\n",
       " 'HrmStr1 C* CT  317.0  1.495',\n",
       " 'HrmStr1 C* CW  546.0  1.352',\n",
       " 'HrmStr1 CA CN  469.0  1.4  ',\n",
       " 'HrmStr1 CB CN  447.0  1.419',\n",
       " 'HrmStr1 CC CT  317.0  1.504',\n",
       " 'HrmStr1 CC CV  512.0  1.375',\n",
       " 'HrmStr1 CC CW  518.0  1.371',\n",
       " 'HrmStr1 CC NA  422.0  1.385',\n",
       " 'HrmStr1 CC NB  410.0  1.394',\n",
       " 'HrmStr1 CN NA  428.0  1.38 ',\n",
       " 'HrmStr1 CR H5  367.0  1.08 ',\n",
       " 'HrmStr1 CR NA  477.0  1.343',\n",
       " 'HrmStr1 CR NB  488.0  1.335',\n",
       " 'HrmStr1 CT N   337.0  1.449',\n",
       " 'HrmStr1 CT N3  367.0  1.471',\n",
       " 'HrmStr1 CT S   227.0  1.81 ',\n",
       " 'HrmStr1 CT SH  237.0  1.81 ',\n",
       " 'HrmStr1 CV H4  367.0  1.08 ',\n",
       " 'HrmStr1 CV NB  410.0  1.394',\n",
       " 'HrmStr1 CW H4  367.0  1.08 ',\n",
       " 'HrmStr1 CW NA  427.0  1.381',\n",
       " 'HrmStr1 H  N   434.0  1.01 ',\n",
       " 'HrmStr1 H  N3  434.0  1.01 ',\n",
       " 'HrmStr1 HS SH  274.0  1.336',\n",
       " 'HrmStr1 S  S   166.0  2.038',\n",
       " 'HrmStr1 CT F   367.0  1.38 ',\n",
       " '!',\n",
       " '! Angles',\n",
       " '!',\n",
       " 'HrmBnd1 HW OW  HW   100.0 104.52',\n",
       " 'HrmBnd1 HW HW  OW     0.0 127.74',\n",
       " 'HrmBnd1 CB C   NA    70.0  111.3',\n",
       " 'HrmBnd1 CB C   O     80.0  128.8',\n",
       " 'HrmBnd1 CM C   NA    70.0  114.1',\n",
       " 'HrmBnd1 CM C   O     80.0  125.3',\n",
       " 'HrmBnd1 CT C   O     80.0  120.4',\n",
       " 'HrmBnd1 CT C   O2    70.0  117.0',\n",
       " 'HrmBnd1 CT C   OH    70.0  117.0',\n",
       " 'HrmBnd1 N* C   NA    70.0  115.4',\n",
       " 'HrmBnd1 N* C   NC    70.0  118.6',\n",
       " 'HrmBnd1 N* C   O     80.0  120.9',\n",
       " 'HrmBnd1 NA C   O     80.0  120.6',\n",
       " 'HrmBnd1 NC C   O     80.0  122.5',\n",
       " 'HrmBnd1 CT C   N     70.0  116.6',\n",
       " 'HrmBnd1 N  C   O     80.0  122.9',\n",
       " 'HrmBnd1 O  C   O     80.0  126.0',\n",
       " 'HrmBnd1 O2 C   O2    80.0  126.0',\n",
       " 'HrmBnd1 O  C   OH    80.0  126.0',\n",
       " 'HrmBnd1 CA C   CA    63.0  120.0',\n",
       " 'HrmBnd1 CA C   OH    70.0  120.0',\n",
       " 'HrmBnd1 C  CA  CA    63.0  120.0',\n",
       " 'HrmBnd1 CA CA  CA    63.0  120.0',\n",
       " 'HrmBnd1 CA CA  CB    63.0  120.0',\n",
       " 'HrmBnd1 CA CA  CT    70.0  120.0',\n",
       " 'HrmBnd1 CA CA  HA    35.0  120.0',\n",
       " 'HrmBnd1 CA CA  H4    35.0  120.0',\n",
       " 'HrmBnd1 CB CA  HA    35.0  120.0',\n",
       " 'HrmBnd1 CB CA  H4    35.0  120.0',\n",
       " 'HrmBnd1 CB CA  N2    70.0  123.5',\n",
       " 'HrmBnd1 CB CA  NC    70.0  117.3',\n",
       " 'HrmBnd1 CM CA  N2    70.0  120.1',\n",
       " 'HrmBnd1 CM CA  NC    70.0  121.5',\n",
       " 'HrmBnd1 N2 CA  NA    70.0  116.0',\n",
       " 'HrmBnd1 N2 CA  NC    70.0  119.3',\n",
       " 'HrmBnd1 NA CA  NC    70.0  123.3',\n",
       " 'HrmBnd1 C  CA  HA    35.0  120.0',\n",
       " 'HrmBnd1 N2 CA  N2    70.0  120.0',\n",
       " 'HrmBnd1 CN CA  HA    35.0  120.0',\n",
       " 'HrmBnd1 CA CA  CN    63.0  120.0',\n",
       " 'HrmBnd1 C  CB  CB    63.0  119.2',\n",
       " 'HrmBnd1 C  CB  NB    70.0  130.0',\n",
       " 'HrmBnd1 CA CB  CB    63.0  117.3',\n",
       " 'HrmBnd1 CA CB  NB    70.0  132.4',\n",
       " 'HrmBnd1 CB CB  N*    70.0  106.2',\n",
       " 'HrmBnd1 CB CB  NB    70.0  110.4',\n",
       " 'HrmBnd1 CB CB  NC    70.0  127.7',\n",
       " 'HrmBnd1 N* CB  NC    70.0  126.2',\n",
       " 'HrmBnd1 C* CB  CA    63.0  134.9',\n",
       " 'HrmBnd1 C* CB  CN    63.0  108.8',\n",
       " 'HrmBnd1 CA CB  CN    63.0  116.2',\n",
       " 'HrmBnd1 H5 CK  N*    35.0 123.05',\n",
       " 'HrmBnd1 H5 CK  NB    35.0 123.05',\n",
       " 'HrmBnd1 N* CK  NB    70.0  113.9',\n",
       " 'HrmBnd1 C  CM  CM    63.0  120.7',\n",
       " 'HrmBnd1 C  CM  CT    70.0  119.7',\n",
       " 'HrmBnd1 C  CM  HA    35.0  119.7',\n",
       " 'HrmBnd1 C  CM  H4    35.0  119.7',\n",
       " 'HrmBnd1 CA CM  CM    63.0  117.0',\n",
       " 'HrmBnd1 CA CM  HA    35.0  123.3',\n",
       " 'HrmBnd1 CA CM  H4    35.0  123.3',\n",
       " 'HrmBnd1 CM CM  CT    70.0  119.7',\n",
       " 'HrmBnd1 CM CM  HA    35.0  119.7',\n",
       " 'HrmBnd1 CM CM  H4    35.0  119.7',\n",
       " 'HrmBnd1 CM CM  N*    70.0  121.2',\n",
       " 'HrmBnd1 H4 CM  N*    35.0  119.1',\n",
       " 'HrmBnd1 H5 CQ  NC    35.0 115.45',\n",
       " 'HrmBnd1 NC CQ  NC    70.0  129.1',\n",
       " 'HrmBnd1 CM CT  HC    50.0  109.5',\n",
       " 'HrmBnd1 CT CT  CT    40.0  109.5',\n",
       " 'HrmBnd1 CT CT  HC    50.0  109.5',\n",
       " 'HrmBnd1 CT CT  H1    50.0  109.5',\n",
       " 'HrmBnd1 CT CT  H2    50.0  109.5',\n",
       " 'HrmBnd1 CT CT  HP    50.0  109.5',\n",
       " 'HrmBnd1 CT CT  N*    50.0  109.5',\n",
       " 'HrmBnd1 CT CT  OH    50.0  109.5',\n",
       " 'HrmBnd1 CT CT  OS    50.0  109.5',\n",
       " 'HrmBnd1 HC CT  HC    35.0  109.5',\n",
       " 'HrmBnd1 H1 CT  H1    35.0  109.5',\n",
       " 'HrmBnd1 HP CT  HP    35.0  109.5',\n",
       " 'HrmBnd1 H2 CT  N*    50.0  109.5',\n",
       " 'HrmBnd1 H1 CT  N*    50.0  109.5',\n",
       " 'HrmBnd1 H1 CT  OH    50.0  109.5',\n",
       " 'HrmBnd1 H1 CT  OS    50.0  109.5',\n",
       " 'HrmBnd1 H2 CT  OS    50.0  109.5',\n",
       " 'HrmBnd1 N* CT  OS    50.0  109.5',\n",
       " 'HrmBnd1 H1 CT  N     50.0  109.5',\n",
       " 'HrmBnd1 C  CT  H1    50.0  109.5',\n",
       " 'HrmBnd1 C  CT  HP    50.0  109.5',\n",
       " 'HrmBnd1 H1 CT  S     50.0  109.5',\n",
       " 'HrmBnd1 H1 CT  SH    50.0  109.5',\n",
       " 'HrmBnd1 CT CT  S     50.0  114.7',\n",
       " 'HrmBnd1 CT CT  SH    50.0  108.6',\n",
       " 'HrmBnd1 H2 CT  H2    35.0  109.5',\n",
       " 'HrmBnd1 H1 CT  N2    50.0  109.5',\n",
       " 'HrmBnd1 HP CT  N3    50.0  109.5',\n",
       " 'HrmBnd1 CA CT  CT    63.0  114.0',\n",
       " 'HrmBnd1 C  CT  HC    50.0  109.5',\n",
       " 'HrmBnd1 C  CT  N     63.0  110.1',\n",
       " 'HrmBnd1 CT CT  N2    80.0  111.2',\n",
       " 'HrmBnd1 CT CT  N     80.0  109.7',\n",
       " 'HrmBnd1 C  CT  CT    63.0  111.1',\n",
       " 'HrmBnd1 CA CT  HC    50.0  109.5',\n",
       " 'HrmBnd1 CT CT  N3    80.0  111.2',\n",
       " 'HrmBnd1 CC CT  CT    63.0  113.1',\n",
       " 'HrmBnd1 CC CT  HC    50.0  109.5',\n",
       " 'HrmBnd1 C  CT  N3    80.0  111.2',\n",
       " 'HrmBnd1 C* CT  CT    63.0  115.6',\n",
       " 'HrmBnd1 C* CT  HC    50.0  109.5',\n",
       " 'HrmBnd1 CT CC  NA    70.0  120.0',\n",
       " 'HrmBnd1 CT CC  CV    70.0  120.0',\n",
       " 'HrmBnd1 CT CC  NB    70.0  120.0',\n",
       " 'HrmBnd1 CV CC  NA    70.0  120.0',\n",
       " 'HrmBnd1 CW CC  NA    70.0  120.0',\n",
       " 'HrmBnd1 CW CC  NB    70.0  120.0',\n",
       " 'HrmBnd1 CT CC  CW    70.0  120.0',\n",
       " 'HrmBnd1 H5 CR  NA    35.0  120.0',\n",
       " 'HrmBnd1 H5 CR  NB    35.0  120.0',\n",
       " 'HrmBnd1 NA CR  NA    70.0  120.0',\n",
       " 'HrmBnd1 NA CR  NB    70.0  120.0',\n",
       " 'HrmBnd1 CC CV  H4    35.0  120.0',\n",
       " 'HrmBnd1 CC CV  NB    70.0  120.0',\n",
       " 'HrmBnd1 H4 CV  NB    35.0  120.0',\n",
       " 'HrmBnd1 CC CW  H4    35.0  120.0',\n",
       " 'HrmBnd1 CC CW  NA    70.0  120.0',\n",
       " 'HrmBnd1 H4 CW  NA    35.0  120.0',\n",
       " 'HrmBnd1 C* CW  H4    35.0  120.0',\n",
       " 'HrmBnd1 C* CW  NA    70.0  108.7',\n",
       " 'HrmBnd1 CT C*  CW    70.0  125.0',\n",
       " 'HrmBnd1 CB C*  CT    70.0  128.6',\n",
       " 'HrmBnd1 CB C*  CW    63.0  106.4',\n",
       " 'HrmBnd1 CA CN  NA    70.0  132.8',\n",
       " 'HrmBnd1 CB CN  NA    70.0  104.4',\n",
       " 'HrmBnd1 CA CN  CB    63.0  122.7',\n",
       " 'HrmBnd1 C  N   CT    50.0  121.9',\n",
       " 'HrmBnd1 C  N   H     30.0  120.0',\n",
       " 'HrmBnd1 CT N   H     30.0 118.04',\n",
       " 'HrmBnd1 CT N   CT    50.0  118.0',\n",
       " 'HrmBnd1 H  N   H     35.0  120.0',\n",
       " 'HrmBnd1 C  N*  CM    70.0  121.6',\n",
       " 'HrmBnd1 C  N*  CT    70.0  117.6',\n",
       " 'HrmBnd1 C  N*  H     30.0  119.2',\n",
       " 'HrmBnd1 CB N*  CK    70.0  105.4',\n",
       " 'HrmBnd1 CB N*  CT    70.0  125.8',\n",
       " 'HrmBnd1 CB N*  H     30.0  125.8',\n",
       " 'HrmBnd1 CK N*  CT    70.0  128.8',\n",
       " 'HrmBnd1 CK N*  H     30.0  128.8',\n",
       " 'HrmBnd1 CM N*  CT    70.0  121.2',\n",
       " 'HrmBnd1 CM N*  H     30.0  121.2',\n",
       " 'HrmBnd1 CA N2  H     35.0  120.0',\n",
       " 'HrmBnd1 H  N2  H     35.0  120.0',\n",
       " 'HrmBnd1 CT N2  H     35.0  118.4',\n",
       " 'HrmBnd1 CA N2  CT    50.0  123.2',\n",
       " 'HrmBnd1 CT N3  H     50.0  109.5',\n",
       " 'HrmBnd1 CT N3  CT    50.0  109.5',\n",
       " 'HrmBnd1 H  N3  H     35.0  109.5',\n",
       " 'HrmBnd1 C  NA  C     70.0  126.4',\n",
       " 'HrmBnd1 C  NA  CA    70.0  125.2',\n",
       " 'HrmBnd1 C  NA  H     30.0  116.8',\n",
       " 'HrmBnd1 CA NA  H     30.0  118.0',\n",
       " 'HrmBnd1 CC NA  CR    70.0  120.0',\n",
       " 'HrmBnd1 CC NA  H     30.0  120.0',\n",
       " 'HrmBnd1 CR NA  CW    70.0  120.0',\n",
       " 'HrmBnd1 CR NA  H     30.0  120.0',\n",
       " 'HrmBnd1 CW NA  H     30.0  120.0',\n",
       " 'HrmBnd1 CN NA  CW    70.0  111.6',\n",
       " 'HrmBnd1 CN NA  H     30.0  123.1',\n",
       " 'HrmBnd1 CB NB  CK    70.0  103.8',\n",
       " 'HrmBnd1 CC NB  CR    70.0  117.0',\n",
       " 'HrmBnd1 CR NB  CV    70.0  117.0',\n",
       " 'HrmBnd1 C  NC  CA    70.0  120.5',\n",
       " 'HrmBnd1 CA NC  CB    70.0  112.2',\n",
       " 'HrmBnd1 CA NC  CQ    70.0  118.6',\n",
       " 'HrmBnd1 CB NC  CQ    70.0  111.0',\n",
       " 'HrmBnd1 C  OH  HO    35.0  113.0',\n",
       " 'HrmBnd1 CT OH  HO    55.0  108.5',\n",
       " 'HrmBnd1 HO OH  P     45.0  108.5',\n",
       " 'HrmBnd1 CT OS  CT    60.0  109.5',\n",
       " 'HrmBnd1 CT OS  P    100.0  120.5',\n",
       " 'HrmBnd1 P  OS  P    100.0  120.5',\n",
       " 'HrmBnd1 O2 P   OH    45.0 108.23',\n",
       " 'HrmBnd1 O2 P   O2   140.0  119.9',\n",
       " 'HrmBnd1 O2 P   OS   100.0 108.23',\n",
       " 'HrmBnd1 OH P   OS    45.0  102.6',\n",
       " 'HrmBnd1 OS P   OS    45.0  102.6',\n",
       " 'HrmBnd1 CT S   CT    62.0 98.8999999999',\n",
       " 'HrmBnd1 CT S   S     68.0  103.7',\n",
       " 'HrmBnd1 CT SH  HS    43.0 95.9999999997',\n",
       " 'HrmBnd1 HS SH  HS    35.0 92.0699999999',\n",
       " 'HrmBnd1 F  CT  F     77.0  109.1',\n",
       " 'HrmBnd1 F  CT  H1    35.0  109.5',\n",
       " '!',\n",
       " '! Torsions',\n",
       " '!',\n",
       " 'AmbTrs *  C   CA  *   0     180   0     0     0.000  3.625  0.000  0.000  1.0',\n",
       " 'AmbTrs *  C   CB  *   0     180   0     0     0.000  3.000  0.000  0.000  1.0',\n",
       " 'AmbTrs *  C   CM  *   0     180   0     0     0.000  2.175  0.000  0.000  1.0',\n",
       " 'AmbTrs *  C   N*  *   0     180   0     0     0.000  1.450  0.000  0.000  1.0',\n",
       " 'AmbTrs *  C   NA  *   0     180   0     0     0.000  1.350  0.000  0.000  1.0',\n",
       " 'AmbTrs *  C   NC  *   0     180   0     0     0.000  4.000  0.000  0.000  1.0',\n",
       " 'AmbTrs *  C   OH  *   0     180   0     0     0.000  0.900  0.000  0.000  1.0',\n",
       " 'AmbTrs *  C   CT  *   0     0     0     0     0.000  0.000  0.000  0.000  1.0',\n",
       " 'AmbTrs *  CA  CA  *   0     180   0     0     0.000  3.625  0.000  0.000  1.0',\n",
       " 'AmbTrs *  CA  CB  *   0     180   0     0     0.000  3.500  0.000  0.000  1.0',\n",
       " 'AmbTrs *  CA  CM  *   0     180   0     0     0.000  2.550  0.000  0.000  1.0',\n",
       " 'AmbTrs *  CA  CT  *   0     0     0     0     0.000  0.000  0.000  0.000  1.0',\n",
       " 'AmbTrs *  CA  N2  *   0     180   0     0     0.000  2.400  0.000  0.000  1.0',\n",
       " 'AmbTrs *  CA  NA  *   0     180   0     0     0.000  1.500  0.000  0.000  1.0',\n",
       " 'AmbTrs *  CA  NC  *   0     180   0     0     0.000  4.800  0.000  0.000  1.0',\n",
       " 'AmbTrs *  CB  CB  *   0     180   0     0     0.000  5.450  0.000  0.000  1.0',\n",
       " 'AmbTrs *  CB  N*  *   0     180   0     0     0.000  1.650  0.000  0.000  1.0',\n",
       " 'AmbTrs *  CB  NB  *   0     180   0     0     0.000  2.550  0.000  0.000  1.0',\n",
       " 'AmbTrs *  CB  NC  *   0     180   0     0     0.000  4.150  0.000  0.000  1.0',\n",
       " 'AmbTrs *  CK  N*  *   0     180   0     0     0.000  1.700  0.000  0.000  1.0',\n",
       " 'AmbTrs *  CK  NB  *   0     180   0     0     0.000  10.000 0.000  0.000  1.0',\n",
       " 'AmbTrs *  CM  CM  *   0     180   0     0     0.000  6.650  0.000  0.000  1.0',\n",
       " 'AmbTrs *  CM  CT  *   0     0     0     0     0.000  0.000  0.000  0.000  1.0',\n",
       " 'AmbTrs *  CM  N*  *   0     180   0     0     0.000  1.850  0.000  0.000  1.0',\n",
       " 'AmbTrs *  CQ  NC  *   0     180   0     0     0.000  6.800  0.000  0.000  1.0',\n",
       " 'AmbTrs *  CT  CT  *   0     0     0     0     0.000  0.000  0.156  0.000  1.0',\n",
       " 'AmbTrs *  CT  N   *   0     0     0     0     0.000  0.000  0.000  0.000  1.0',\n",
       " 'AmbTrs *  CT  N*  *   0     0     0     0     0.000  0.000  0.000  0.000  1.0',\n",
       " 'AmbTrs *  CT  N2  *   0     0     0     0     0.000  0.000  0.000  0.000  1.0',\n",
       " 'AmbTrs *  CT  OH  *   0     0     0     0     0.000  0.000  0.167  0.000  1.0',\n",
       " 'AmbTrs *  CT  OS  *   0     0     0     0     0.000  0.000  0.383  0.000  1.0',\n",
       " 'AmbTrs *  OH  P   *   0     0     0     0     0.000  0.000  0.250  0.000  1.0',\n",
       " 'AmbTrs *  OS  P   *   0     0     0     0     0.000  0.000  0.250  0.000  1.0',\n",
       " 'AmbTrs *  C   N   *   0     180   0     0     0.000  2.500  0.000  0.000  1.0',\n",
       " 'AmbTrs *  CT  N3  *   0     0     0     0     0.000  0.000  0.156  0.000  1.0',\n",
       " 'AmbTrs *  CT  S   *   0     0     0     0     0.000  0.000  0.333  0.000  1.0',\n",
       " 'AmbTrs *  CT  SH  *   0     0     0     0     0.000  0.000  0.250  0.000  1.0',\n",
       " 'AmbTrs *  C*  CB  *   0     180   0     0     0.000  1.675  0.000  0.000  1.0',\n",
       " 'AmbTrs *  C*  CT  *   0     0     0     0     0.000  0.000  0.000  0.000  1.0',\n",
       " 'AmbTrs *  C*  CW  *   0     180   0     0     0.000  6.525  0.000  0.000  1.0',\n",
       " 'AmbTrs *  CA  CN  *   0     180   0     0     0.000  3.625  0.000  0.000  1.0',\n",
       " 'AmbTrs *  CB  CN  *   0     180   0     0     0.000  3.000  0.000  0.000  1.0',\n",
       " 'AmbTrs *  CC  CT  *   0     0     0     0     0.000  0.000  0.000  0.000  1.0',\n",
       " 'AmbTrs *  CC  CV  *   0     180   0     0     0.000  5.150  0.000  0.000  1.0',\n",
       " 'AmbTrs *  CC  CW  *   0     180   0     0     0.000  5.375  0.000  0.000  1.0',\n",
       " 'AmbTrs *  CC  NA  *   0     180   0     0     0.000  1.400  0.000  0.000  1.0',\n",
       " 'AmbTrs *  CC  NB  *   0     180   0     0     0.000  2.400  0.000  0.000  1.0',\n",
       " 'AmbTrs *  CN  NA  *   0     180   0     0     0.000  1.525  0.000  0.000  1.0',\n",
       " 'AmbTrs *  CR  NA  *   0     180   0     0     0.000  2.325  0.000  0.000  1.0',\n",
       " 'AmbTrs *  CR  NB  *   0     180   0     0     0.000  5.000  0.000  0.000  1.0',\n",
       " 'AmbTrs *  CV  NB  *   0     180   0     0     0.000  2.400  0.000  0.000  1.0',\n",
       " 'AmbTrs *  CW  NA  *   0     180   0     0     0.000  1.500  0.000  0.000  1.0',\n",
       " 'AmbTrs CT CT  OS  CT  0     180   0     0     0.000  0.100  0.383  0.000  1.0',\n",
       " 'AmbTrs C  N   CT  C   0     180   0     0     0.850  0.300  0.000  0.000  1.0',\n",
       " 'AmbTrs N  CT  C   N   0     180   0     0     0.850  0.300  0.000  0.000  1.0',\n",
       " 'AmbTrs CT CT  N   C   0     0     180   180   0.530  0.000  0.150  0.500  1.0',\n",
       " 'AmbTrs CT CT  C   N   0     0     0     0     0.000  0.070  0.000  0.100  1.0',\n",
       " 'AmbTrs H  N   C   O   0     180   0     0     2.000  2.500  0.000  0.000  1.0',\n",
       " 'AmbTrs CT S   S   CT  0     0     0     0     0.000  3.500  0.600  0.000  1.0',\n",
       " 'AmbTrs OS CT  CT  OS  0     0     0     0     0.000  1.000  0.144  0.000  1.0',\n",
       " 'AmbTrs OS CT  CT  OH  0     0     0     0     0.000  1.000  0.144  0.000  1.0',\n",
       " 'AmbTrs OH CT  CT  OH  0     0     0     0     0.000  1.000  0.144  0.000  1.0',\n",
       " 'AmbTrs OH P   OS  CT  0     0     0     0     0.000  1.200  0.250  0.000  1.0',\n",
       " 'AmbTrs OS P   OS  CT  0     0     0     0     0.000  1.200  0.250  0.000  1.0',\n",
       " 'AmbTrs OS CT  N*  CK  0     180   0     0     2.500  0.500  0.000  0.000  1.0',\n",
       " 'AmbTrs OS CT  N*  CM  0     180   0     0     2.500  0.500  0.000  0.000  1.0',\n",
       " '!',\n",
       " '! Improper torsions',\n",
       " '!',\n",
       " 'ImpTrs *  *  C   O   10.5   180.0  2    ',\n",
       " 'ImpTrs *  O2 C   O2  10.5   180.0  2    ',\n",
       " 'ImpTrs *  *  N   H   1.0    180.0  2    ',\n",
       " 'ImpTrs *  *  N2  H   1.0    180.0  2    ',\n",
       " 'ImpTrs *  *  NA  H   1.0    180.0  2    ',\n",
       " 'ImpTrs *  N2 CA  N2  10.5   180.0  2    ',\n",
       " 'ImpTrs *  CT N   CT  1.0    180.0  2    ',\n",
       " 'ImpTrs *  *  CA  HA  1.1    180.0  2    ',\n",
       " 'ImpTrs *  *  CW  H4  1.1    180.0  2    ',\n",
       " 'ImpTrs *  *  CR  H5  1.1    180.0  2    ',\n",
       " 'ImpTrs *  *  CV  H4  1.1    180.0  2    ',\n",
       " 'ImpTrs *  *  CQ  H5  1.1    180.0  2    ',\n",
       " 'ImpTrs *  *  CK  H5  1.1    180.0  2    ',\n",
       " 'ImpTrs *  *  CM  H4  1.1    180.0  2    ',\n",
       " 'ImpTrs *  *  CM  HA  1.1    180.0  2    ',\n",
       " 'ImpTrs *  *  CA  H4  1.1    180.0  2    ',\n",
       " 'ImpTrs *  *  CA  H5  1.1    180.0  2    ',\n",
       " 'ImpTrs CK CB N*  CT  1.0    180.0  2    ',\n",
       " 'ImpTrs CM C  N*  CT  1.0    180.0  2    ',\n",
       " 'ImpTrs CM C  CM  CT  1.1    180.0  2    ',\n",
       " 'ImpTrs CT O  C   OH  10.5   180.0  2    ',\n",
       " 'ImpTrs NA CV CC  CT  1.1    180.0  2    ',\n",
       " 'ImpTrs NB CW CC  CT  1.1    180.0  2    ',\n",
       " 'ImpTrs NA CW CC  CT  1.1    180.0  2    ',\n",
       " 'ImpTrs CW CB C*  CT  1.1    180.0  2    ',\n",
       " 'ImpTrs CA CA CA  CT  1.1    180.0  2    ',\n",
       " 'ImpTrs C  CM CM  CT  1.1    180.0  2    ',\n",
       " 'ImpTrs NC CM CA  N2  1.1    180.0  2    ',\n",
       " 'ImpTrs CB NC CA  N2  1.1    180.0  2    ',\n",
       " 'ImpTrs NA NC CA  N2  1.1    180.0  2    ',\n",
       " 'ImpTrs CA CA C   OH  1.1    180.0  2    ',\n",
       " '!',\n",
       " '! Vanderwaals parameters',\n",
       " '!',\n",
       " 'VDW C  1.908000000 0.086000000',\n",
       " 'VDW C* 1.908000000 0.086000000',\n",
       " 'VDW CA 1.908000000 0.086000000',\n",
       " 'VDW CA 1.908000000 0.086000000',\n",
       " 'VDW CB 1.908000000 0.086000000',\n",
       " 'VDW CC 1.908000000 0.086000000',\n",
       " 'VDW CD 1.908000000 0.086000000',\n",
       " 'VDW CK 1.908000000 0.086000000',\n",
       " 'VDW CM 1.908000000 0.086000000',\n",
       " 'VDW CM 1.908000000 0.086000000',\n",
       " 'VDW CN 1.908000000 0.086000000',\n",
       " 'VDW CQ 1.908000000 0.086000000',\n",
       " 'VDW CR 1.908000000 0.086000000',\n",
       " 'VDW CT 1.908000000 0.109400000',\n",
       " 'VDW CV 1.908000000 0.086000000',\n",
       " 'VDW CW 1.908000000 0.086000000',\n",
       " 'VDW CX 1.908000000 0.086000000',\n",
       " 'VDW CY 1.908000000 0.086000000',\n",
       " 'VDW Cs 3.395000000 0.000080600',\n",
       " 'VDW F  1.750000000 0.061000000',\n",
       " 'VDW H  0.600000000 0.015700000',\n",
       " 'VDW H1 1.387000000 0.015700000',\n",
       " 'VDW H2 1.287000000 0.015700000',\n",
       " 'VDW H3 1.187000000 0.015700000',\n",
       " 'VDW H4 1.409000000 0.015000000',\n",
       " 'VDW H5 1.359000000 0.015000000',\n",
       " 'VDW HA 1.459000000 0.015000000',\n",
       " 'VDW HC 1.487000000 0.015700000',\n",
       " 'VDW HO 0.000000000 0.000000000',\n",
       " 'VDW HP 1.100000000 0.015700000',\n",
       " 'VDW HS 0.600000000 0.015700000',\n",
       " 'VDW HW 0.000000000 0.000000000',\n",
       " 'VDW I  2.350000000 0.400000000',\n",
       " 'VDW IB 5.000000000 0.100000000',\n",
       " 'VDW IM 2.470000000 0.100000000',\n",
       " 'VDW IP 1.868000000 0.002770000',\n",
       " 'VDW K  2.658000000 0.000328000',\n",
       " 'VDW Li 1.137000000 0.018300000',\n",
       " 'VDW N  1.824000000 0.170000000',\n",
       " 'VDW N* 1.824000000 0.170000000',\n",
       " 'VDW N2 1.824000000 0.170000000',\n",
       " 'VDW N3 1.824000000 0.170000000',\n",
       " 'VDW NA 1.824000000 0.170000000',\n",
       " 'VDW NB 1.824000000 0.170000000',\n",
       " 'VDW NC 1.824000000 0.170000000',\n",
       " 'VDW NO 1.824000000 0.170000000',\n",
       " 'VDW NP 1.824000000 0.170000000',\n",
       " 'VDW O  1.661200000 0.210000000',\n",
       " 'VDW O2 1.661200000 0.210000000',\n",
       " 'VDW OH 1.721000000 0.210400000',\n",
       " 'VDW OS 1.683700000 0.170000000',\n",
       " 'VDW OW 1.768300000 0.152000000',\n",
       " 'VDW P  2.100000000 0.200000000',\n",
       " 'VDW Rb 2.956000000 0.000170000',\n",
       " 'VDW S  2.000000000 0.250000000',\n",
       " 'VDW SH 2.000000000 0.250000000']"
      ]
     },
     "execution_count": 32,
     "metadata": {},
     "output_type": "execute_result"
    }
   ],
   "source": [
    "g_mm = Gaussian_MM(amber_parser)\n",
    "g_mm.parse_xml()\n",
    "g_mm.extract_torsions()\n",
    "g_mm.extract_angles()\n",
    "g_mm.extract_angles()\n",
    "g_mm.extract_improper()\n",
    "g_mm.generate_prm().split('\\n')"
   ]
  },
  {
   "cell_type": "code",
   "execution_count": 18,
   "metadata": {
    "collapsed": false
   },
   "outputs": [
    {
     "data": {
      "text/plain": [
       "['<!-- Time and parameters of origin: -->\\n',\n",
       " '<!-- 2015-08-31 12:45:01.173298 -->\\n',\n",
       " '<!--  f /home/clyde/.ipython/profile_default/security/kernel d45c9e88 e84e 468d 9a10 b16fd9261c1f.json   profile dir /home/clyde/.ipython/profile_default -->\\n',\n",
       " '\\n',\n",
       " '<ForceField>\\n',\n",
       " ' <AtomTypes>\\n',\n",
       " ' </AtomTypes>\\n',\n",
       " ' <Residues>\\n',\n",
       " ' </Residues>\\n',\n",
       " ' <HarmonicBondForce>\\n',\n",
       " '  <Bond class1=\"C\" class2=\"CA\" length=\"0.1409\" k=\"392459.2\"/>\\n',\n",
       " '  <Bond class1=\"C\" class2=\"CB\" length=\"0.1419\" k=\"374049.6\"/>\\n',\n",
       " '  <Bond class1=\"C\" class2=\"CM\" length=\"0.1444\" k=\"343088.0\"/>\\n',\n",
       " '  <Bond class1=\"C\" class2=\"CT\" length=\"0.1522\" k=\"265265.6\"/>\\n',\n",
       " '  <Bond class1=\"C\" class2=\"N*\" length=\"0.1383\" k=\"354803.2\"/>\\n',\n",
       " '  <Bond class1=\"C\" class2=\"NA\" length=\"0.1388\" k=\"349782.4\"/>\\n',\n",
       " '  <Bond class1=\"C\" class2=\"NC\" length=\"0.1358\" k=\"382417.6\"/>\\n',\n",
       " '  <Bond class1=\"C\" class2=\"O\" length=\"0.1229\" k=\"476976.0\"/>\\n',\n",
       " '  <Bond class1=\"C\" class2=\"O2\" length=\"0.125\" k=\"548940.8\"/>\\n',\n",
       " '  <Bond class1=\"C\" class2=\"OH\" length=\"0.1364\" k=\"376560.0\"/>\\n',\n",
       " '  <Bond class1=\"CA\" class2=\"CA\" length=\"0.14\" k=\"392459.2\"/>\\n',\n",
       " '  <Bond class1=\"CA\" class2=\"CB\" length=\"0.1404\" k=\"392459.2\"/>\\n',\n",
       " '  <Bond class1=\"CA\" class2=\"CM\" length=\"0.1433\" k=\"357313.6\"/>\\n',\n",
       " '  <Bond class1=\"CA\" class2=\"CT\" length=\"0.151\" k=\"265265.6\"/>\\n',\n",
       " '  <Bond class1=\"CA\" class2=\"HA\" length=\"0.108\" k=\"307105.6\"/>\\n',\n",
       " '  <Bond class1=\"CA\" class2=\"H4\" length=\"0.108\" k=\"307105.6\"/>\\n',\n",
       " '  <Bond class1=\"CA\" class2=\"N2\" length=\"0.134\" k=\"402500.8\"/>\\n',\n",
       " '  <Bond class1=\"CA\" class2=\"NA\" length=\"0.1381\" k=\"357313.6\"/>\\n',\n",
       " '  <Bond class1=\"CA\" class2=\"NC\" length=\"0.1339\" k=\"404174.4\"/>\\n',\n",
       " '  <Bond class1=\"CB\" class2=\"CB\" length=\"0.137\" k=\"435136.0\"/>\\n',\n",
       " '  <Bond class1=\"CB\" class2=\"N*\" length=\"0.1374\" k=\"364844.8\"/>\\n',\n",
       " '  <Bond class1=\"CB\" class2=\"NB\" length=\"0.1391\" k=\"346435.2\"/>\\n',\n",
       " '  <Bond class1=\"CB\" class2=\"NC\" length=\"0.1354\" k=\"385764.8\"/>\\n',\n",
       " '  <Bond class1=\"CK\" class2=\"H5\" length=\"0.108\" k=\"307105.6\"/>\\n',\n",
       " '  <Bond class1=\"CK\" class2=\"N*\" length=\"0.1371\" k=\"368192.0\"/>\\n',\n",
       " '  <Bond class1=\"CK\" class2=\"NB\" length=\"0.1304\" k=\"442667.2\"/>\\n',\n",
       " '  <Bond class1=\"CM\" class2=\"CM\" length=\"0.135\" k=\"459403.2\"/>\\n',\n",
       " '  <Bond class1=\"CM\" class2=\"CT\" length=\"0.151\" k=\"265265.6\"/>\\n',\n",
       " '  <Bond class1=\"CM\" class2=\"HA\" length=\"0.108\" k=\"307105.6\"/>\\n',\n",
       " '  <Bond class1=\"CM\" class2=\"H4\" length=\"0.108\" k=\"307105.6\"/>\\n',\n",
       " '  <Bond class1=\"CM\" class2=\"H5\" length=\"0.108\" k=\"307105.6\"/>\\n',\n",
       " '  <Bond class1=\"CM\" class2=\"N*\" length=\"0.1365\" k=\"374886.4\"/>\\n',\n",
       " '  <Bond class1=\"CQ\" class2=\"H5\" length=\"0.108\" k=\"307105.6\"/>\\n',\n",
       " '  <Bond class1=\"CQ\" class2=\"NC\" length=\"0.1324\" k=\"420073.6\"/>\\n',\n",
       " '  <Bond class1=\"CT\" class2=\"CT\" length=\"0.1526\" k=\"259408.0\"/>\\n',\n",
       " '  <Bond class1=\"CT\" class2=\"HC\" length=\"0.109\" k=\"284512.0\"/>\\n',\n",
       " '  <Bond class1=\"CT\" class2=\"H1\" length=\"0.109\" k=\"284512.0\"/>\\n',\n",
       " '  <Bond class1=\"CT\" class2=\"H2\" length=\"0.109\" k=\"284512.0\"/>\\n',\n",
       " '  <Bond class1=\"CT\" class2=\"H3\" length=\"0.109\" k=\"284512.0\"/>\\n',\n",
       " '  <Bond class1=\"CT\" class2=\"HP\" length=\"0.109\" k=\"284512.0\"/>\\n',\n",
       " '  <Bond class1=\"CT\" class2=\"N*\" length=\"0.1475\" k=\"282001.6\"/>\\n',\n",
       " '  <Bond class1=\"CT\" class2=\"N2\" length=\"0.1463\" k=\"282001.6\"/>\\n',\n",
       " '  <Bond class1=\"CT\" class2=\"OH\" length=\"0.141\" k=\"267776.0\"/>\\n',\n",
       " '  <Bond class1=\"CT\" class2=\"OS\" length=\"0.141\" k=\"267776.0\"/>\\n',\n",
       " '  <Bond class1=\"H\" class2=\"N2\" length=\"0.101\" k=\"363171.2\"/>\\n',\n",
       " '  <Bond class1=\"H\" class2=\"N*\" length=\"0.101\" k=\"363171.2\"/>\\n',\n",
       " '  <Bond class1=\"H\" class2=\"NA\" length=\"0.101\" k=\"363171.2\"/>\\n',\n",
       " '  <Bond class1=\"HO\" class2=\"OH\" length=\"0.096\" k=\"462750.4\"/>\\n',\n",
       " '  <Bond class1=\"HO\" class2=\"OS\" length=\"0.096\" k=\"462750.4\"/>\\n',\n",
       " '  <Bond class1=\"O2\" class2=\"P\" length=\"0.148\" k=\"439320.0\"/>\\n',\n",
       " '  <Bond class1=\"OH\" class2=\"P\" length=\"0.161\" k=\"192464.0\"/>\\n',\n",
       " '  <Bond class1=\"OS\" class2=\"P\" length=\"0.161\" k=\"192464.0\"/>\\n',\n",
       " '  <Bond class1=\"C*\" class2=\"HC\" length=\"0.108\" k=\"307105.6\"/>\\n',\n",
       " '  <Bond class1=\"C\" class2=\"N\" length=\"0.1335\" k=\"410032.0\"/>\\n',\n",
       " '  <Bond class1=\"C*\" class2=\"CB\" length=\"0.1459\" k=\"324678.4\"/>\\n',\n",
       " '  <Bond class1=\"C*\" class2=\"CT\" length=\"0.1495\" k=\"265265.6\"/>\\n',\n",
       " '  <Bond class1=\"C*\" class2=\"CW\" length=\"0.1352\" k=\"456892.8\"/>\\n',\n",
       " '  <Bond class1=\"CA\" class2=\"CN\" length=\"0.14\" k=\"392459.2\"/>\\n',\n",
       " '  <Bond class1=\"CB\" class2=\"CN\" length=\"0.1419\" k=\"374049.6\"/>\\n',\n",
       " '  <Bond class1=\"CC\" class2=\"CT\" length=\"0.1504\" k=\"265265.6\"/>\\n',\n",
       " '  <Bond class1=\"CC\" class2=\"CV\" length=\"0.1375\" k=\"428441.6\"/>\\n',\n",
       " '  <Bond class1=\"CC\" class2=\"CW\" length=\"0.1371\" k=\"433462.4\"/>\\n',\n",
       " '  <Bond class1=\"CC\" class2=\"NA\" length=\"0.1385\" k=\"353129.6\"/>\\n',\n",
       " '  <Bond class1=\"CC\" class2=\"NB\" length=\"0.1394\" k=\"343088.0\"/>\\n',\n",
       " '  <Bond class1=\"CN\" class2=\"NA\" length=\"0.138\" k=\"358150.4\"/>\\n',\n",
       " '  <Bond class1=\"CR\" class2=\"H5\" length=\"0.108\" k=\"307105.6\"/>\\n',\n",
       " '  <Bond class1=\"CR\" class2=\"NA\" length=\"0.1343\" k=\"399153.6\"/>\\n',\n",
       " '  <Bond class1=\"CR\" class2=\"NB\" length=\"0.1335\" k=\"408358.4\"/>\\n',\n",
       " '  <Bond class1=\"CT\" class2=\"N\" length=\"0.1449\" k=\"282001.6\"/>\\n',\n",
       " '  <Bond class1=\"CT\" class2=\"N3\" length=\"0.1471\" k=\"307105.6\"/>\\n',\n",
       " '  <Bond class1=\"CT\" class2=\"S\" length=\"0.181\" k=\"189953.6\"/>\\n',\n",
       " '  <Bond class1=\"CT\" class2=\"SH\" length=\"0.181\" k=\"198321.6\"/>\\n',\n",
       " '  <Bond class1=\"CV\" class2=\"H4\" length=\"0.108\" k=\"307105.6\"/>\\n',\n",
       " '  <Bond class1=\"CV\" class2=\"NB\" length=\"0.1394\" k=\"343088.0\"/>\\n',\n",
       " '  <Bond class1=\"CW\" class2=\"H4\" length=\"0.108\" k=\"307105.6\"/>\\n',\n",
       " '  <Bond class1=\"CW\" class2=\"NA\" length=\"0.1381\" k=\"357313.6\"/>\\n',\n",
       " '  <Bond class1=\"H\" class2=\"N\" length=\"0.101\" k=\"363171.2\"/>\\n',\n",
       " '  <Bond class1=\"H\" class2=\"N3\" length=\"0.101\" k=\"363171.2\"/>\\n',\n",
       " '  <Bond class1=\"HS\" class2=\"SH\" length=\"0.1336\" k=\"229283.2\"/>\\n',\n",
       " '  <Bond class1=\"S\" class2=\"S\" length=\"0.2038\" k=\"138908.8\"/>\\n',\n",
       " '  <Bond class1=\"CT\" class2=\"F\" length=\"0.138\" k=\"307105.6\"/>\\n',\n",
       " ' </HarmonicBondForce>\\n',\n",
       " ' <HarmonicAngleForce>\\n',\n",
       " '  <Angle class1=\"CB\" class2=\"C\" class3=\"NA\" angle=\"1.94255145747\" k=\"585.76\"/>\\n',\n",
       " '  <Angle class1=\"CB\" class2=\"C\" class3=\"O\" angle=\"2.24798407657\" k=\"669.44\"/>\\n',\n",
       " '  <Angle class1=\"CM\" class2=\"C\" class3=\"NA\" angle=\"1.99142067653\" k=\"585.76\"/>\\n',\n",
       " '  <Angle class1=\"CM\" class2=\"C\" class3=\"O\" angle=\"2.18689755275\" k=\"669.44\"/>\\n',\n",
       " '  <Angle class1=\"CT\" class2=\"C\" class3=\"O\" angle=\"2.1013764194\" k=\"669.44\"/>\\n',\n",
       " '  <Angle class1=\"CT\" class2=\"C\" class3=\"O2\" angle=\"2.04203522483\" k=\"585.76\"/>\\n',\n",
       " '  <Angle class1=\"CT\" class2=\"C\" class3=\"OH\" angle=\"2.04203522483\" k=\"585.76\"/>\\n',\n",
       " '  <Angle class1=\"N*\" class2=\"C\" class3=\"NA\" angle=\"2.0141099568\" k=\"585.76\"/>\\n',\n",
       " '  <Angle class1=\"N*\" class2=\"C\" class3=\"NC\" angle=\"2.06996049287\" k=\"585.76\"/>\\n',\n",
       " '  <Angle class1=\"N*\" class2=\"C\" class3=\"O\" angle=\"2.11010306566\" k=\"669.44\"/>\\n',\n",
       " '  <Angle class1=\"NA\" class2=\"C\" class3=\"O\" angle=\"2.10486707791\" k=\"669.44\"/>\\n',\n",
       " '  <Angle class1=\"NC\" class2=\"C\" class3=\"O\" angle=\"2.13802833369\" k=\"669.44\"/>\\n',\n",
       " '  <Angle class1=\"CT\" class2=\"C\" class3=\"N\" angle=\"2.03505390783\" k=\"585.76\"/>\\n',\n",
       " '  <Angle class1=\"N\" class2=\"C\" class3=\"O\" angle=\"2.1450096507\" k=\"669.44\"/>\\n',\n",
       " '  <Angle class1=\"O\" class2=\"C\" class3=\"O\" angle=\"2.19911485751\" k=\"669.44\"/>\\n',\n",
       " '  <Angle class1=\"O2\" class2=\"C\" class3=\"O2\" angle=\"2.19911485751\" k=\"669.44\"/>\\n',\n",
       " '  <Angle class1=\"O\" class2=\"C\" class3=\"OH\" angle=\"2.19911485751\" k=\"669.44\"/>\\n',\n",
       " '  <Angle class1=\"CA\" class2=\"C\" class3=\"CA\" angle=\"2.09439510239\" k=\"527.184\"/>\\n',\n",
       " '  <Angle class1=\"CA\" class2=\"C\" class3=\"OH\" angle=\"2.09439510239\" k=\"585.76\"/>\\n',\n",
       " '  <Angle class1=\"C\" class2=\"CA\" class3=\"CA\" angle=\"2.09439510239\" k=\"527.184\"/>\\n',\n",
       " '  <Angle class1=\"CA\" class2=\"CA\" class3=\"CA\" angle=\"2.09439510239\" k=\"527.184\"/>\\n',\n",
       " '  <Angle class1=\"CA\" class2=\"CA\" class3=\"CB\" angle=\"2.09439510239\" k=\"527.184\"/>\\n',\n",
       " '  <Angle class1=\"CA\" class2=\"CA\" class3=\"CT\" angle=\"2.09439510239\" k=\"585.76\"/>\\n',\n",
       " '  <Angle class1=\"CA\" class2=\"CA\" class3=\"HA\" angle=\"2.09439510239\" k=\"292.88\"/>\\n',\n",
       " '  <Angle class1=\"CA\" class2=\"CA\" class3=\"H4\" angle=\"2.09439510239\" k=\"292.88\"/>\\n',\n",
       " '  <Angle class1=\"CB\" class2=\"CA\" class3=\"HA\" angle=\"2.09439510239\" k=\"292.88\"/>\\n',\n",
       " '  <Angle class1=\"CB\" class2=\"CA\" class3=\"H4\" angle=\"2.09439510239\" k=\"292.88\"/>\\n',\n",
       " '  <Angle class1=\"CB\" class2=\"CA\" class3=\"N2\" angle=\"2.15548162621\" k=\"585.76\"/>\\n',\n",
       " '  <Angle class1=\"CB\" class2=\"CA\" class3=\"NC\" angle=\"2.04727121259\" k=\"585.76\"/>\\n',\n",
       " '  <Angle class1=\"CM\" class2=\"CA\" class3=\"N2\" angle=\"2.09614043165\" k=\"585.76\"/>\\n',\n",
       " '  <Angle class1=\"CM\" class2=\"CA\" class3=\"NC\" angle=\"2.12057504117\" k=\"585.76\"/>\\n',\n",
       " '  <Angle class1=\"N2\" class2=\"CA\" class3=\"NA\" angle=\"2.02458193231\" k=\"585.76\"/>\\n',\n",
       " '  <Angle class1=\"N2\" class2=\"CA\" class3=\"NC\" angle=\"2.08217779763\" k=\"585.76\"/>\\n',\n",
       " '  <Angle class1=\"NA\" class2=\"CA\" class3=\"NC\" angle=\"2.15199096771\" k=\"585.76\"/>\\n',\n",
       " '  <Angle class1=\"C\" class2=\"CA\" class3=\"HA\" angle=\"2.09439510239\" k=\"292.88\"/>\\n',\n",
       " '  <Angle class1=\"N2\" class2=\"CA\" class3=\"N2\" angle=\"2.09439510239\" k=\"585.76\"/>\\n',\n",
       " '  <Angle class1=\"CN\" class2=\"CA\" class3=\"HA\" angle=\"2.09439510239\" k=\"292.88\"/>\\n',\n",
       " '  <Angle class1=\"CA\" class2=\"CA\" class3=\"CN\" angle=\"2.09439510239\" k=\"527.184\"/>\\n',\n",
       " '  <Angle class1=\"C\" class2=\"CB\" class3=\"CB\" angle=\"2.08043246838\" k=\"527.184\"/>\\n',\n",
       " '  <Angle class1=\"C\" class2=\"CB\" class3=\"NB\" angle=\"2.26892802759\" k=\"585.76\"/>\\n',\n",
       " '  <Angle class1=\"CA\" class2=\"CB\" class3=\"CB\" angle=\"2.04727121259\" k=\"527.184\"/>\\n',\n",
       " '  <Angle class1=\"CA\" class2=\"CB\" class3=\"NB\" angle=\"2.31081592964\" k=\"585.76\"/>\\n',\n",
       " '  <Angle class1=\"CB\" class2=\"CB\" class3=\"N*\" angle=\"1.85353966562\" k=\"585.76\"/>\\n',\n",
       " '  <Angle class1=\"CB\" class2=\"CB\" class3=\"NB\" angle=\"1.9268434942\" k=\"585.76\"/>\\n',\n",
       " '  <Angle class1=\"CB\" class2=\"CB\" class3=\"NC\" angle=\"2.2287854548\" k=\"585.76\"/>\\n',\n",
       " '  <Angle class1=\"N*\" class2=\"CB\" class3=\"NC\" angle=\"2.20260551602\" k=\"585.76\"/>\\n',\n",
       " '  <Angle class1=\"C*\" class2=\"CB\" class3=\"CA\" angle=\"2.35444916094\" k=\"527.184\"/>\\n',\n",
       " '  <Angle class1=\"C*\" class2=\"CB\" class3=\"CN\" angle=\"1.89891822617\" k=\"527.184\"/>\\n',\n",
       " '  <Angle class1=\"CA\" class2=\"CB\" class3=\"CN\" angle=\"2.02807259082\" k=\"527.184\"/>\\n',\n",
       " '  <Angle class1=\"H5\" class2=\"CK\" class3=\"N*\" angle=\"2.14762764458\" k=\"292.88\"/>\\n',\n",
       " '  <Angle class1=\"H5\" class2=\"CK\" class3=\"NB\" angle=\"2.14762764458\" k=\"292.88\"/>\\n',\n",
       " '  <Angle class1=\"N*\" class2=\"CK\" class3=\"NB\" angle=\"1.98793001802\" k=\"585.76\"/>\\n',\n",
       " '  <Angle class1=\"C\" class2=\"CM\" class3=\"CM\" angle=\"2.10661240716\" k=\"527.184\"/>\\n',\n",
       " '  <Angle class1=\"C\" class2=\"CM\" class3=\"CT\" angle=\"2.08915911464\" k=\"585.76\"/>\\n',\n",
       " '  <Angle class1=\"C\" class2=\"CM\" class3=\"HA\" angle=\"2.08915911464\" k=\"292.88\"/>\\n',\n",
       " '  <Angle class1=\"C\" class2=\"CM\" class3=\"H4\" angle=\"2.08915911464\" k=\"292.88\"/>\\n',\n",
       " '  <Angle class1=\"CA\" class2=\"CM\" class3=\"CM\" angle=\"2.04203522483\" k=\"527.184\"/>\\n',\n",
       " '  <Angle class1=\"CA\" class2=\"CM\" class3=\"HA\" angle=\"2.15199096771\" k=\"292.88\"/>\\n',\n",
       " '  <Angle class1=\"CA\" class2=\"CM\" class3=\"H4\" angle=\"2.15199096771\" k=\"292.88\"/>\\n',\n",
       " '  <Angle class1=\"CM\" class2=\"CM\" class3=\"CT\" angle=\"2.08915911464\" k=\"585.76\"/>\\n',\n",
       " '  <Angle class1=\"CM\" class2=\"CM\" class3=\"HA\" angle=\"2.08915911464\" k=\"292.88\"/>\\n',\n",
       " '  <Angle class1=\"CM\" class2=\"CM\" class3=\"H4\" angle=\"2.08915911464\" k=\"292.88\"/>\\n',\n",
       " '  <Angle class1=\"CM\" class2=\"CM\" class3=\"N*\" angle=\"2.11533905342\" k=\"585.76\"/>\\n',\n",
       " '  <Angle class1=\"H4\" class2=\"CM\" class3=\"N*\" angle=\"2.07868713913\" k=\"292.88\"/>\\n',\n",
       " '  <Angle class1=\"H5\" class2=\"CQ\" class3=\"NC\" angle=\"2.01498262143\" k=\"292.88\"/>\\n',\n",
       " '  <Angle class1=\"NC\" class2=\"CQ\" class3=\"NC\" angle=\"2.25322006432\" k=\"585.76\"/>\\n',\n",
       " '  <Angle class1=\"CM\" class2=\"CT\" class3=\"HC\" angle=\"1.91113553093\" k=\"418.4\"/>\\n',\n",
       " '  <Angle class1=\"CT\" class2=\"CT\" class3=\"CT\" angle=\"1.91113553093\" k=\"334.72\"/>\\n',\n",
       " '  <Angle class1=\"CT\" class2=\"CT\" class3=\"HC\" angle=\"1.91113553093\" k=\"418.4\"/>\\n',\n",
       " '  <Angle class1=\"CT\" class2=\"CT\" class3=\"H1\" angle=\"1.91113553093\" k=\"418.4\"/>\\n',\n",
       " '  <Angle class1=\"CT\" class2=\"CT\" class3=\"H2\" angle=\"1.91113553093\" k=\"418.4\"/>\\n',\n",
       " '  <Angle class1=\"CT\" class2=\"CT\" class3=\"HP\" angle=\"1.91113553093\" k=\"418.4\"/>\\n',\n",
       " '  <Angle class1=\"CT\" class2=\"CT\" class3=\"N*\" angle=\"1.91113553093\" k=\"418.4\"/>\\n',\n",
       " '  <Angle class1=\"CT\" class2=\"CT\" class3=\"OH\" angle=\"1.91113553093\" k=\"418.4\"/>\\n',\n",
       " '  <Angle class1=\"CT\" class2=\"CT\" class3=\"OS\" angle=\"1.91113553093\" k=\"418.4\"/>\\n',\n",
       " '  <Angle class1=\"HC\" class2=\"CT\" class3=\"HC\" angle=\"1.91113553093\" k=\"292.88\"/>\\n',\n",
       " '  <Angle class1=\"H1\" class2=\"CT\" class3=\"H1\" angle=\"1.91113553093\" k=\"292.88\"/>\\n',\n",
       " '  <Angle class1=\"HP\" class2=\"CT\" class3=\"HP\" angle=\"1.91113553093\" k=\"292.88\"/>\\n',\n",
       " '  <Angle class1=\"H2\" class2=\"CT\" class3=\"N*\" angle=\"1.91113553093\" k=\"418.4\"/>\\n',\n",
       " '  <Angle class1=\"H1\" class2=\"CT\" class3=\"N*\" angle=\"1.91113553093\" k=\"418.4\"/>\\n',\n",
       " '  <Angle class1=\"H1\" class2=\"CT\" class3=\"OH\" angle=\"1.91113553093\" k=\"418.4\"/>\\n',\n",
       " '  <Angle class1=\"H1\" class2=\"CT\" class3=\"OS\" angle=\"1.91113553093\" k=\"418.4\"/>\\n',\n",
       " '  <Angle class1=\"H2\" class2=\"CT\" class3=\"OS\" angle=\"1.91113553093\" k=\"418.4\"/>\\n',\n",
       " '  <Angle class1=\"N*\" class2=\"CT\" class3=\"OS\" angle=\"1.91113553093\" k=\"418.4\"/>\\n',\n",
       " '  <Angle class1=\"H1\" class2=\"CT\" class3=\"N\" angle=\"1.91113553093\" k=\"418.4\"/>\\n',\n",
       " '  <Angle class1=\"C\" class2=\"CT\" class3=\"H1\" angle=\"1.91113553093\" k=\"418.4\"/>\\n',\n",
       " '  <Angle class1=\"C\" class2=\"CT\" class3=\"HP\" angle=\"1.91113553093\" k=\"418.4\"/>\\n',\n",
       " '  <Angle class1=\"H1\" class2=\"CT\" class3=\"S\" angle=\"1.91113553093\" k=\"418.4\"/>\\n',\n",
       " '  <Angle class1=\"H1\" class2=\"CT\" class3=\"SH\" angle=\"1.91113553093\" k=\"418.4\"/>\\n',\n",
       " '  <Angle class1=\"CT\" class2=\"CT\" class3=\"S\" angle=\"2.00189265204\" k=\"418.4\"/>\\n',\n",
       " '  <Angle class1=\"CT\" class2=\"CT\" class3=\"SH\" angle=\"1.89542756767\" k=\"418.4\"/>\\n',\n",
       " '  <Angle class1=\"H2\" class2=\"CT\" class3=\"H2\" angle=\"1.91113553093\" k=\"292.88\"/>\\n',\n",
       " '  <Angle class1=\"H1\" class2=\"CT\" class3=\"N2\" angle=\"1.91113553093\" k=\"418.4\"/>\\n',\n",
       " '  <Angle class1=\"HP\" class2=\"CT\" class3=\"N3\" angle=\"1.91113553093\" k=\"418.4\"/>\\n',\n",
       " '  <Angle class1=\"CA\" class2=\"CT\" class3=\"CT\" angle=\"1.98967534727\" k=\"527.184\"/>\\n',\n",
       " '  <Angle class1=\"C\" class2=\"CT\" class3=\"HC\" angle=\"1.91113553093\" k=\"418.4\"/>\\n',\n",
       " '  <Angle class1=\"C\" class2=\"CT\" class3=\"N\" angle=\"1.92160750645\" k=\"527.184\"/>\\n',\n",
       " '  <Angle class1=\"CT\" class2=\"CT\" class3=\"N2\" angle=\"1.94080612822\" k=\"669.44\"/>\\n',\n",
       " '  <Angle class1=\"CT\" class2=\"CT\" class3=\"N\" angle=\"1.91462618944\" k=\"669.44\"/>\\n',\n",
       " '  <Angle class1=\"C\" class2=\"CT\" class3=\"CT\" angle=\"1.93906079897\" k=\"527.184\"/>\\n',\n",
       " '  <Angle class1=\"CA\" class2=\"CT\" class3=\"HC\" angle=\"1.91113553093\" k=\"418.4\"/>\\n',\n",
       " '  <Angle class1=\"CT\" class2=\"CT\" class3=\"N3\" angle=\"1.94080612822\" k=\"669.44\"/>\\n',\n",
       " '  <Angle class1=\"CC\" class2=\"CT\" class3=\"CT\" angle=\"1.97396738401\" k=\"527.184\"/>\\n',\n",
       " '  <Angle class1=\"CC\" class2=\"CT\" class3=\"HC\" angle=\"1.91113553093\" k=\"418.4\"/>\\n',\n",
       " '  <Angle class1=\"C\" class2=\"CT\" class3=\"N3\" angle=\"1.94080612822\" k=\"669.44\"/>\\n',\n",
       " '  <Angle class1=\"C*\" class2=\"CT\" class3=\"CT\" angle=\"2.01760061531\" k=\"527.184\"/>\\n',\n",
       " '  <Angle class1=\"C*\" class2=\"CT\" class3=\"HC\" angle=\"1.91113553093\" k=\"418.4\"/>\\n',\n",
       " '  <Angle class1=\"CT\" class2=\"CC\" class3=\"NA\" angle=\"2.09439510239\" k=\"585.76\"/>\\n',\n",
       " '  <Angle class1=\"CT\" class2=\"CC\" class3=\"CV\" angle=\"2.09439510239\" k=\"585.76\"/>\\n',\n",
       " '  <Angle class1=\"CT\" class2=\"CC\" class3=\"NB\" angle=\"2.09439510239\" k=\"585.76\"/>\\n',\n",
       " '  <Angle class1=\"CV\" class2=\"CC\" class3=\"NA\" angle=\"2.09439510239\" k=\"585.76\"/>\\n',\n",
       " '  <Angle class1=\"CW\" class2=\"CC\" class3=\"NA\" angle=\"2.09439510239\" k=\"585.76\"/>\\n',\n",
       " '  <Angle class1=\"CW\" class2=\"CC\" class3=\"NB\" angle=\"2.09439510239\" k=\"585.76\"/>\\n',\n",
       " '  <Angle class1=\"CT\" class2=\"CC\" class3=\"CW\" angle=\"2.09439510239\" k=\"585.76\"/>\\n',\n",
       " '  <Angle class1=\"H5\" class2=\"CR\" class3=\"NA\" angle=\"2.09439510239\" k=\"292.88\"/>\\n',\n",
       " '  <Angle class1=\"H5\" class2=\"CR\" class3=\"NB\" angle=\"2.09439510239\" k=\"292.88\"/>\\n',\n",
       " '  <Angle class1=\"NA\" class2=\"CR\" class3=\"NA\" angle=\"2.09439510239\" k=\"585.76\"/>\\n',\n",
       " '  <Angle class1=\"NA\" class2=\"CR\" class3=\"NB\" angle=\"2.09439510239\" k=\"585.76\"/>\\n',\n",
       " '  <Angle class1=\"CC\" class2=\"CV\" class3=\"H4\" angle=\"2.09439510239\" k=\"292.88\"/>\\n',\n",
       " '  <Angle class1=\"CC\" class2=\"CV\" class3=\"NB\" angle=\"2.09439510239\" k=\"585.76\"/>\\n',\n",
       " '  <Angle class1=\"H4\" class2=\"CV\" class3=\"NB\" angle=\"2.09439510239\" k=\"292.88\"/>\\n',\n",
       " '  <Angle class1=\"CC\" class2=\"CW\" class3=\"H4\" angle=\"2.09439510239\" k=\"292.88\"/>\\n',\n",
       " '  <Angle class1=\"CC\" class2=\"CW\" class3=\"NA\" angle=\"2.09439510239\" k=\"585.76\"/>\\n',\n",
       " '  <Angle class1=\"H4\" class2=\"CW\" class3=\"NA\" angle=\"2.09439510239\" k=\"292.88\"/>\\n',\n",
       " '  <Angle class1=\"C*\" class2=\"CW\" class3=\"H4\" angle=\"2.09439510239\" k=\"292.88\"/>\\n',\n",
       " '  <Angle class1=\"C*\" class2=\"CW\" class3=\"NA\" angle=\"1.89717289692\" k=\"585.76\"/>\\n',\n",
       " '  <Angle class1=\"CT\" class2=\"C*\" class3=\"CW\" angle=\"2.18166156499\" k=\"585.76\"/>\\n',\n",
       " '  <Angle class1=\"CB\" class2=\"C*\" class3=\"CT\" angle=\"2.24449341806\" k=\"585.76\"/>\\n',\n",
       " '  <Angle class1=\"CB\" class2=\"C*\" class3=\"CW\" angle=\"1.85703032412\" k=\"527.184\"/>\\n',\n",
       " '  <Angle class1=\"CA\" class2=\"CN\" class3=\"NA\" angle=\"2.31779724665\" k=\"585.76\"/>\\n',\n",
       " '  <Angle class1=\"CB\" class2=\"CN\" class3=\"NA\" angle=\"1.82212373908\" k=\"585.76\"/>\\n',\n",
       " '  <Angle class1=\"CA\" class2=\"CN\" class3=\"CB\" angle=\"2.1415189922\" k=\"527.184\"/>\\n',\n",
       " '  <Angle class1=\"C\" class2=\"N\" class3=\"CT\" angle=\"2.12755635818\" k=\"418.4\"/>\\n',\n",
       " '  <Angle class1=\"C\" class2=\"N\" class3=\"H\" angle=\"2.09439510239\" k=\"251.04\"/>\\n',\n",
       " '  <Angle class1=\"CT\" class2=\"N\" class3=\"H\" angle=\"2.06018664905\" k=\"251.04\"/>\\n',\n",
       " '  <Angle class1=\"CT\" class2=\"N\" class3=\"CT\" angle=\"2.05948851735\" k=\"418.4\"/>\\n',\n",
       " '  <Angle class1=\"H\" class2=\"N\" class3=\"H\" angle=\"2.09439510239\" k=\"292.88\"/>\\n',\n",
       " '  <Angle class1=\"C\" class2=\"N*\" class3=\"CM\" angle=\"2.12232037043\" k=\"585.76\"/>\\n',\n",
       " '  <Angle class1=\"C\" class2=\"N*\" class3=\"CT\" angle=\"2.05250720035\" k=\"585.76\"/>\\n',\n",
       " '  <Angle class1=\"C\" class2=\"N*\" class3=\"H\" angle=\"2.08043246838\" k=\"251.04\"/>\\n',\n",
       " '  <Angle class1=\"CB\" class2=\"N*\" class3=\"CK\" angle=\"1.8395770316\" k=\"585.76\"/>\\n',\n",
       " '  <Angle class1=\"CB\" class2=\"N*\" class3=\"CT\" angle=\"2.19562419901\" k=\"585.76\"/>\\n',\n",
       " '  <Angle class1=\"CB\" class2=\"N*\" class3=\"H\" angle=\"2.19562419901\" k=\"251.04\"/>\\n',\n",
       " '  <Angle class1=\"CK\" class2=\"N*\" class3=\"CT\" angle=\"2.24798407657\" k=\"585.76\"/>\\n',\n",
       " '  <Angle class1=\"CK\" class2=\"N*\" class3=\"H\" angle=\"2.24798407657\" k=\"251.04\"/>\\n',\n",
       " '  <Angle class1=\"CM\" class2=\"N*\" class3=\"CT\" angle=\"2.11533905342\" k=\"585.76\"/>\\n',\n",
       " '  <Angle class1=\"CM\" class2=\"N*\" class3=\"H\" angle=\"2.11533905342\" k=\"251.04\"/>\\n',\n",
       " '  <Angle class1=\"CA\" class2=\"N2\" class3=\"H\" angle=\"2.09439510239\" k=\"292.88\"/>\\n',\n",
       " '  <Angle class1=\"H\" class2=\"N2\" class3=\"H\" angle=\"2.09439510239\" k=\"292.88\"/>\\n',\n",
       " '  <Angle class1=\"CT\" class2=\"N2\" class3=\"H\" angle=\"2.06646983436\" k=\"292.88\"/>\\n',\n",
       " '  <Angle class1=\"CA\" class2=\"N2\" class3=\"CT\" angle=\"2.15024563846\" k=\"418.4\"/>\\n',\n",
       " '  <Angle class1=\"CT\" class2=\"N3\" class3=\"H\" angle=\"1.91113553093\" k=\"418.4\"/>\\n',\n",
       " '  <Angle class1=\"CT\" class2=\"N3\" class3=\"CT\" angle=\"1.91113553093\" k=\"418.4\"/>\\n',\n",
       " '  <Angle class1=\"H\" class2=\"N3\" class3=\"H\" angle=\"1.91113553093\" k=\"292.88\"/>\\n',\n",
       " '  <Angle class1=\"C\" class2=\"NA\" class3=\"C\" angle=\"2.20609617452\" k=\"585.76\"/>\\n',\n",
       " '  <Angle class1=\"C\" class2=\"NA\" class3=\"CA\" angle=\"2.1851522235\" k=\"585.76\"/>\\n',\n",
       " '  <Angle class1=\"C\" class2=\"NA\" class3=\"H\" angle=\"2.03854456633\" k=\"251.04\"/>\\n',\n",
       " '  <Angle class1=\"CA\" class2=\"NA\" class3=\"H\" angle=\"2.05948851735\" k=\"251.04\"/>\\n',\n",
       " '  <Angle class1=\"CC\" class2=\"NA\" class3=\"CR\" angle=\"2.09439510239\" k=\"585.76\"/>\\n',\n",
       " '  <Angle class1=\"CC\" class2=\"NA\" class3=\"H\" angle=\"2.09439510239\" k=\"251.04\"/>\\n',\n",
       " '  <Angle class1=\"CR\" class2=\"NA\" class3=\"CW\" angle=\"2.09439510239\" k=\"585.76\"/>\\n',\n",
       " '  <Angle class1=\"CR\" class2=\"NA\" class3=\"H\" angle=\"2.09439510239\" k=\"251.04\"/>\\n',\n",
       " '  <Angle class1=\"CW\" class2=\"NA\" class3=\"H\" angle=\"2.09439510239\" k=\"251.04\"/>\\n',\n",
       " '  <Angle class1=\"CN\" class2=\"NA\" class3=\"CW\" angle=\"1.94778744523\" k=\"585.76\"/>\\n',\n",
       " '  <Angle class1=\"CN\" class2=\"NA\" class3=\"H\" angle=\"2.14850030921\" k=\"251.04\"/>\\n',\n",
       " '  <Angle class1=\"CB\" class2=\"NB\" class3=\"CK\" angle=\"1.81165176357\" k=\"585.76\"/>\\n',\n",
       " '  <Angle class1=\"CC\" class2=\"NB\" class3=\"CR\" angle=\"2.04203522483\" k=\"585.76\"/>\\n',\n",
       " '  <Angle class1=\"CR\" class2=\"NB\" class3=\"CV\" angle=\"2.04203522483\" k=\"585.76\"/>\\n',\n",
       " '  <Angle class1=\"C\" class2=\"NC\" class3=\"CA\" angle=\"2.10312174865\" k=\"585.76\"/>\\n',\n",
       " '  <Angle class1=\"CA\" class2=\"NC\" class3=\"CB\" angle=\"1.95825942074\" k=\"585.76\"/>\\n',\n",
       " '  <Angle class1=\"CA\" class2=\"NC\" class3=\"CQ\" angle=\"2.06996049287\" k=\"585.76\"/>\\n',\n",
       " '  <Angle class1=\"CB\" class2=\"NC\" class3=\"CQ\" angle=\"1.93731546971\" k=\"585.76\"/>\\n',\n",
       " '  <Angle class1=\"C\" class2=\"OH\" class3=\"HO\" angle=\"1.97222205475\" k=\"292.88\"/>\\n',\n",
       " '  <Angle class1=\"CT\" class2=\"OH\" class3=\"HO\" angle=\"1.89368223841\" k=\"460.24\"/>\\n',\n",
       " '  <Angle class1=\"HO\" class2=\"OH\" class3=\"P\" angle=\"1.89368223841\" k=\"376.56\"/>\\n',\n",
       " '  <Angle class1=\"CT\" class2=\"OS\" class3=\"CT\" angle=\"1.91113553093\" k=\"502.08\"/>\\n',\n",
       " '  <Angle class1=\"CT\" class2=\"OS\" class3=\"P\" angle=\"2.10312174865\" k=\"836.8\"/>\\n',\n",
       " '  <Angle class1=\"P\" class2=\"OS\" class3=\"P\" angle=\"2.10312174865\" k=\"836.8\"/>\\n',\n",
       " '  <Angle class1=\"O2\" class2=\"P\" class3=\"OH\" angle=\"1.88896984943\" k=\"376.56\"/>\\n',\n",
       " '  <Angle class1=\"O2\" class2=\"P\" class3=\"O2\" angle=\"2.09264977314\" k=\"1171.52\"/>\\n',\n",
       " '  <Angle class1=\"O2\" class2=\"P\" class3=\"OS\" angle=\"1.88896984943\" k=\"836.8\"/>\\n',\n",
       " '  <Angle class1=\"OH\" class2=\"P\" class3=\"OS\" angle=\"1.79070781255\" k=\"376.56\"/>\\n',\n",
       " '  <Angle class1=\"OS\" class2=\"P\" class3=\"OS\" angle=\"1.79070781255\" k=\"376.56\"/>\\n',\n",
       " '  <Angle class1=\"CT\" class2=\"S\" class3=\"CT\" angle=\"1.72613063022\" k=\"518.816\"/>\\n',\n",
       " '  <Angle class1=\"CT\" class2=\"S\" class3=\"S\" angle=\"1.80990643432\" k=\"569.024\"/>\\n',\n",
       " '  <Angle class1=\"CT\" class2=\"SH\" class3=\"HS\" angle=\"1.67551608191\" k=\"359.824\"/>\\n',\n",
       " '  <Angle class1=\"HS\" class2=\"SH\" class3=\"HS\" angle=\"1.60692464231\" k=\"292.88\"/>\\n',\n",
       " '  <Angle class1=\"F\" class2=\"CT\" class3=\"F\" angle=\"1.90415421393\" k=\"644.336\"/>\\n',\n",
       " '  <Angle class1=\"F\" class2=\"CT\" class3=\"H1\" angle=\"1.91113553093\" k=\"292.88\"/>\\n',\n",
       " ' </HarmonicAngleForce>\\n',\n",
       " ' <PeriodicTorsionForce>\\n',\n",
       " '  <Proper class1=\"OS\" class2=\"CT\" class3=\"N*\" class4=\"CM\" periodicity1=\"2\" phase1=\"3.14159265359\" k1=\"2.092\" periodicity2=\"1\" phase2=\"0.0\" k2=\"10.46\"/>\\n',\n",
       " '  <Proper class1=\"OS\" class2=\"CT\" class3=\"N*\" class4=\"CK\" periodicity1=\"2\" phase1=\"3.14159265359\" k1=\"2.092\" periodicity2=\"1\" phase2=\"0.0\" k2=\"10.46\"/>\\n',\n",
       " '  <Proper class1=\"OS\" class2=\"P\" class3=\"OS\" class4=\"CT\" periodicity1=\"3\" phase1=\"0.0\" k1=\"1.046\" periodicity2=\"2\" phase2=\"0.0\" k2=\"5.0208\"/>\\n',\n",
       " '  <Proper class1=\"OH\" class2=\"P\" class3=\"OS\" class4=\"CT\" periodicity1=\"3\" phase1=\"0.0\" k1=\"1.046\" periodicity2=\"2\" phase2=\"0.0\" k2=\"5.0208\"/>\\n',\n",
       " '  <Proper class1=\"OH\" class2=\"CT\" class3=\"CT\" class4=\"OH\" periodicity1=\"3\" phase1=\"0.0\" k1=\"0.602496\" periodicity2=\"2\" phase2=\"0.0\" k2=\"4.184\"/>\\n',\n",
       " '  <Proper class1=\"OS\" class2=\"CT\" class3=\"CT\" class4=\"OH\" periodicity1=\"3\" phase1=\"0.0\" k1=\"0.602496\" periodicity2=\"2\" phase2=\"0.0\" k2=\"4.184\"/>\\n',\n",
       " '  <Proper class1=\"OS\" class2=\"CT\" class3=\"CT\" class4=\"OS\" periodicity1=\"3\" phase1=\"0.0\" k1=\"0.602496\" periodicity2=\"2\" phase2=\"0.0\" k2=\"4.184\"/>\\n',\n",
       " '  <Proper class1=\"CT\" class2=\"S\" class3=\"S\" class4=\"CT\" periodicity1=\"2\" phase1=\"0.0\" k1=\"14.644\" periodicity2=\"3\" phase2=\"0.0\" k2=\"2.5104\"/>\\n',\n",
       " '  <Proper class1=\"H\" class2=\"N\" class3=\"C\" class4=\"O\" periodicity1=\"2\" phase1=\"3.14159265359\" k1=\"10.46\" periodicity2=\"1\" phase2=\"0.0\" k2=\"8.368\"/>\\n',\n",
       " '  <Proper class1=\"CT\" class2=\"CT\" class3=\"C\" class4=\"N\" periodicity1=\"4\" phase1=\"0.0\" k1=\"0.4184\" periodicity2=\"2\" phase2=\"0.0\" k2=\"0.29288\"/>\\n',\n",
       " '  <Proper class1=\"CT\" class2=\"CT\" class3=\"N\" class4=\"C\" periodicity1=\"4\" phase1=\"3.14159265359\" k1=\"2.092\" periodicity2=\"3\" phase2=\"3.14159265359\" k2=\"0.6276\" periodicity3=\"1\" phase3=\"0.0\" k3=\"2.21752\"/>\\n',\n",
       " '  <Proper class1=\"N\" class2=\"CT\" class3=\"C\" class4=\"N\" periodicity1=\"2\" phase1=\"3.14159265359\" k1=\"1.2552\" periodicity2=\"1\" phase2=\"0.0\" k2=\"3.5564\"/>\\n',\n",
       " '  <Proper class1=\"C\" class2=\"N\" class3=\"CT\" class4=\"C\" periodicity1=\"2\" phase1=\"3.14159265359\" k1=\"1.2552\" periodicity2=\"1\" phase2=\"0.0\" k2=\"3.5564\"/>\\n',\n",
       " '  <Proper class1=\"CT\" class2=\"CT\" class3=\"OS\" class4=\"CT\" periodicity1=\"3\" phase1=\"0.0\" k1=\"1.602472\" periodicity2=\"2\" phase2=\"3.14159265359\" k2=\"0.4184\"/>\\n',\n",
       " '  <Proper class1=\"\" class2=\"CW\" class3=\"NA\" class4=\"\" periodicity1=\"2\" phase1=\"3.14159265359\" k1=\"6.276\"/>\\n',\n",
       " '  <Proper class1=\"\" class2=\"CV\" class3=\"NB\" class4=\"\" periodicity1=\"2\" phase1=\"3.14159265359\" k1=\"10.0416\"/>\\n',\n",
       " '  <Proper class1=\"\" class2=\"CR\" class3=\"NB\" class4=\"\" periodicity1=\"2\" phase1=\"3.14159265359\" k1=\"20.92\"/>\\n',\n",
       " '  <Proper class1=\"\" class2=\"CR\" class3=\"NA\" class4=\"\" periodicity1=\"2\" phase1=\"3.14159265359\" k1=\"9.7278\"/>\\n',\n",
       " '  <Proper class1=\"\" class2=\"CN\" class3=\"NA\" class4=\"\" periodicity1=\"2\" phase1=\"3.14159265359\" k1=\"6.3806\"/>\\n',\n",
       " '  <Proper class1=\"\" class2=\"CC\" class3=\"NB\" class4=\"\" periodicity1=\"2\" phase1=\"3.14159265359\" k1=\"10.0416\"/>\\n',\n",
       " '  <Proper class1=\"\" class2=\"CC\" class3=\"NA\" class4=\"\" periodicity1=\"2\" phase1=\"3.14159265359\" k1=\"5.8576\"/>\\n',\n",
       " '  <Proper class1=\"\" class2=\"CC\" class3=\"CW\" class4=\"\" periodicity1=\"2\" phase1=\"3.14159265359\" k1=\"22.489\"/>\\n',\n",
       " '  <Proper class1=\"\" class2=\"CC\" class3=\"CV\" class4=\"\" periodicity1=\"2\" phase1=\"3.14159265359\" k1=\"21.5476\"/>\\n',\n",
       " '  <Proper class1=\"\" class2=\"CC\" class3=\"CT\" class4=\"\" periodicity1=\"2\" phase1=\"0.0\" k1=\"0.0\"/>\\n',\n",
       " '  <Proper class1=\"\" class2=\"CB\" class3=\"CN\" class4=\"\" periodicity1=\"2\" phase1=\"3.14159265359\" k1=\"12.552\"/>\\n',\n",
       " '  <Proper class1=\"\" class2=\"CA\" class3=\"CN\" class4=\"\" periodicity1=\"2\" phase1=\"3.14159265359\" k1=\"15.167\"/>\\n',\n",
       " '  <Proper class1=\"\" class2=\"C*\" class3=\"CW\" class4=\"\" periodicity1=\"2\" phase1=\"3.14159265359\" k1=\"27.3006\"/>\\n',\n",
       " '  <Proper class1=\"\" class2=\"C*\" class3=\"CT\" class4=\"\" periodicity1=\"2\" phase1=\"0.0\" k1=\"0.0\"/>\\n',\n",
       " '  <Proper class1=\"\" class2=\"C*\" class3=\"CB\" class4=\"\" periodicity1=\"2\" phase1=\"3.14159265359\" k1=\"7.0082\"/>\\n',\n",
       " '  <Proper class1=\"\" class2=\"CT\" class3=\"SH\" class4=\"\" periodicity1=\"3\" phase1=\"0.0\" k1=\"1.046\"/>\\n',\n",
       " '  <Proper class1=\"\" class2=\"CT\" class3=\"S\" class4=\"\" periodicity1=\"3\" phase1=\"0.0\" k1=\"1.39466666667\"/>\\n',\n",
       " '  <Proper class1=\"\" class2=\"CT\" class3=\"N3\" class4=\"\" periodicity1=\"3\" phase1=\"0.0\" k1=\"0.650844444444\"/>\\n',\n",
       " '  <Proper class1=\"\" class2=\"C\" class3=\"N\" class4=\"\" periodicity1=\"2\" phase1=\"3.14159265359\" k1=\"10.46\"/>\\n',\n",
       " '  <Proper class1=\"\" class2=\"OS\" class3=\"P\" class4=\"\" periodicity1=\"3\" phase1=\"0.0\" k1=\"1.046\"/>\\n',\n",
       " '  <Proper class1=\"\" class2=\"OH\" class3=\"P\" class4=\"\" periodicity1=\"3\" phase1=\"0.0\" k1=\"1.046\"/>\\n',\n",
       " '  <Proper class1=\"\" class2=\"CT\" class3=\"OS\" class4=\"\" periodicity1=\"3\" phase1=\"0.0\" k1=\"1.60386666667\"/>\\n',\n",
       " '  <Proper class1=\"\" class2=\"CT\" class3=\"OH\" class4=\"\" periodicity1=\"3\" phase1=\"0.0\" k1=\"0.697333333333\"/>\\n',\n",
       " '  <Proper class1=\"\" class2=\"CT\" class3=\"N2\" class4=\"\" periodicity1=\"3\" phase1=\"0.0\" k1=\"0.0\"/>\\n',\n",
       " '  <Proper class1=\"\" class2=\"CT\" class3=\"N*\" class4=\"\" periodicity1=\"2\" phase1=\"0.0\" k1=\"0.0\"/>\\n',\n",
       " '  <Proper class1=\"\" class2=\"CT\" class3=\"N\" class4=\"\" periodicity1=\"2\" phase1=\"0.0\" k1=\"0.0\"/>\\n',\n",
       " '  <Proper class1=\"\" class2=\"CT\" class3=\"CT\" class4=\"\" periodicity1=\"3\" phase1=\"0.0\" k1=\"0.650844444444\"/>\\n',\n",
       " '  <Proper class1=\"\" class2=\"CQ\" class3=\"NC\" class4=\"\" periodicity1=\"2\" phase1=\"3.14159265359\" k1=\"28.4512\"/>\\n',\n",
       " '  <Proper class1=\"\" class2=\"CM\" class3=\"N*\" class4=\"\" periodicity1=\"2\" phase1=\"3.14159265359\" k1=\"7.7404\"/>\\n',\n",
       " '  <Proper class1=\"\" class2=\"CM\" class3=\"CT\" class4=\"\" periodicity1=\"3\" phase1=\"0.0\" k1=\"0.0\"/>\\n',\n",
       " '  <Proper class1=\"\" class2=\"CM\" class3=\"CM\" class4=\"\" periodicity1=\"2\" phase1=\"3.14159265359\" k1=\"27.8236\"/>\\n',\n",
       " '  <Proper class1=\"\" class2=\"CK\" class3=\"NB\" class4=\"\" periodicity1=\"2\" phase1=\"3.14159265359\" k1=\"41.84\"/>\\n',\n",
       " '  <Proper class1=\"\" class2=\"CK\" class3=\"N*\" class4=\"\" periodicity1=\"2\" phase1=\"3.14159265359\" k1=\"7.1128\"/>\\n',\n",
       " '  <Proper class1=\"\" class2=\"CB\" class3=\"NC\" class4=\"\" periodicity1=\"2\" phase1=\"3.14159265359\" k1=\"17.3636\"/>\\n',\n",
       " '  <Proper class1=\"\" class2=\"CB\" class3=\"NB\" class4=\"\" periodicity1=\"2\" phase1=\"3.14159265359\" k1=\"10.6692\"/>\\n',\n",
       " '  <Proper class1=\"\" class2=\"CB\" class3=\"N*\" class4=\"\" periodicity1=\"2\" phase1=\"3.14159265359\" k1=\"6.9036\"/>\\n',\n",
       " '  <Proper class1=\"\" class2=\"CB\" class3=\"CB\" class4=\"\" periodicity1=\"2\" phase1=\"3.14159265359\" k1=\"22.8028\"/>\\n',\n",
       " '  <Proper class1=\"\" class2=\"CA\" class3=\"NC\" class4=\"\" periodicity1=\"2\" phase1=\"3.14159265359\" k1=\"20.0832\"/>\\n',\n",
       " '  <Proper class1=\"\" class2=\"CA\" class3=\"NA\" class4=\"\" periodicity1=\"2\" phase1=\"3.14159265359\" k1=\"6.276\"/>\\n',\n",
       " '  <Proper class1=\"\" class2=\"CA\" class3=\"N2\" class4=\"\" periodicity1=\"2\" phase1=\"3.14159265359\" k1=\"10.0416\"/>\\n',\n",
       " '  <Proper class1=\"\" class2=\"CA\" class3=\"CT\" class4=\"\" periodicity1=\"2\" phase1=\"0.0\" k1=\"0.0\"/>\\n',\n",
       " '  <Proper class1=\"\" class2=\"CA\" class3=\"CM\" class4=\"\" periodicity1=\"2\" phase1=\"3.14159265359\" k1=\"10.6692\"/>\\n',\n",
       " '  <Proper class1=\"\" class2=\"CA\" class3=\"CB\" class4=\"\" periodicity1=\"2\" phase1=\"3.14159265359\" k1=\"14.644\"/>\\n',\n",
       " '  <Proper class1=\"\" class2=\"CA\" class3=\"CA\" class4=\"\" periodicity1=\"2\" phase1=\"3.14159265359\" k1=\"15.167\"/>\\n',\n",
       " '  <Proper class1=\"\" class2=\"C\" class3=\"CT\" class4=\"\" periodicity1=\"2\" phase1=\"0.0\" k1=\"0.0\"/>\\n',\n",
       " '  <Proper class1=\"\" class2=\"C\" class3=\"OH\" class4=\"\" periodicity1=\"2\" phase1=\"3.14159265359\" k1=\"3.7656\"/>\\n',\n",
       " '  <Proper class1=\"\" class2=\"C\" class3=\"NC\" class4=\"\" periodicity1=\"2\" phase1=\"3.14159265359\" k1=\"16.736\"/>\\n',\n",
       " '  <Proper class1=\"\" class2=\"C\" class3=\"NA\" class4=\"\" periodicity1=\"2\" phase1=\"3.14159265359\" k1=\"5.6484\"/>\\n',\n",
       " '  <Proper class1=\"\" class2=\"C\" class3=\"N*\" class4=\"\" periodicity1=\"2\" phase1=\"3.14159265359\" k1=\"6.0668\"/>\\n',\n",
       " '  <Proper class1=\"\" class2=\"C\" class3=\"CM\" class4=\"\" periodicity1=\"2\" phase1=\"3.14159265359\" k1=\"9.1002\"/>\\n',\n",
       " '  <Proper class1=\"\" class2=\"C\" class3=\"CB\" class4=\"\" periodicity1=\"2\" phase1=\"3.14159265359\" k1=\"12.552\"/>\\n',\n",
       " '  <Proper class1=\"\" class2=\"C\" class3=\"CA\" class4=\"\" periodicity1=\"2\" phase1=\"3.14159265359\" k1=\"15.167\"/>\\n',\n",
       " '  <Improper class1=\"C\" class2=\"CA\" class3=\"CA\" class4=\"OH\" periodicity1=\"2\" phase1=\"3.14159265359\" k1=\"4.6024\"/>\\n',\n",
       " '  <Improper class1=\"CA\" class2=\"NA\" class3=\"NC\" class4=\"N2\" periodicity1=\"2\" phase1=\"3.14159265359\" k1=\"4.6024\"/>\\n',\n",
       " '  <Improper class1=\"CA\" class2=\"CB\" class3=\"NC\" class4=\"N2\" periodicity1=\"2\" phase1=\"3.14159265359\" k1=\"4.6024\"/>\\n',\n",
       " '  <Improper class1=\"CA\" class2=\"NC\" class3=\"CM\" class4=\"N2\" periodicity1=\"2\" phase1=\"3.14159265359\" k1=\"4.6024\"/>\\n',\n",
       " '  <Improper class1=\"CM\" class2=\"C\" class3=\"CM\" class4=\"CT\" periodicity1=\"2\" phase1=\"3.14159265359\" k1=\"4.6024\"/>\\n',\n",
       " '  <Improper class1=\"CA\" class2=\"CA\" class3=\"CA\" class4=\"CT\" periodicity1=\"2\" phase1=\"3.14159265359\" k1=\"4.6024\"/>\\n',\n",
       " '  <Improper class1=\"C*\" class2=\"CW\" class3=\"CB\" class4=\"CT\" periodicity1=\"2\" phase1=\"3.14159265359\" k1=\"4.6024\"/>\\n',\n",
       " '  <Improper class1=\"CC\" class2=\"NA\" class3=\"CW\" class4=\"CT\" periodicity1=\"2\" phase1=\"3.14159265359\" k1=\"4.6024\"/>\\n',\n",
       " '  <Improper class1=\"CC\" class2=\"NB\" class3=\"CW\" class4=\"CT\" periodicity1=\"2\" phase1=\"3.14159265359\" k1=\"4.6024\"/>\\n',\n",
       " '  <Improper class1=\"CC\" class2=\"NA\" class3=\"CV\" class4=\"CT\" periodicity1=\"2\" phase1=\"3.14159265359\" k1=\"4.6024\"/>\\n',\n",
       " '  <Improper class1=\"C\" class2=\"CT\" class3=\"O\" class4=\"OH\" periodicity1=\"2\" phase1=\"3.14159265359\" k1=\"43.932\"/>\\n',\n",
       " '  <Improper class1=\"CM\" class2=\"CM\" class3=\"C\" class4=\"CT\" periodicity1=\"2\" phase1=\"3.14159265359\" k1=\"4.6024\"/>\\n',\n",
       " '  <Improper class1=\"N*\" class2=\"CM\" class3=\"C\" class4=\"CT\" periodicity1=\"2\" phase1=\"3.14159265359\" k1=\"4.184\"/>\\n',\n",
       " '  <Improper class1=\"N*\" class2=\"CK\" class3=\"CB\" class4=\"CT\" periodicity1=\"2\" phase1=\"3.14159265359\" k1=\"4.184\"/>\\n',\n",
       " '  <Improper class1=\"CA\" class2=\"\" class3=\"\" class4=\"H5\" periodicity1=\"2\" phase1=\"3.14159265359\" k1=\"4.6024\"/>\\n',\n",
       " '  <Improper class1=\"CA\" class2=\"\" class3=\"\" class4=\"H4\" periodicity1=\"2\" phase1=\"3.14159265359\" k1=\"4.6024\"/>\\n',\n",
       " '  <Improper class1=\"CM\" class2=\"\" class3=\"\" class4=\"HA\" periodicity1=\"2\" phase1=\"3.14159265359\" k1=\"4.6024\"/>\\n',\n",
       " '  <Improper class1=\"CM\" class2=\"\" class3=\"\" class4=\"H4\" periodicity1=\"2\" phase1=\"3.14159265359\" k1=\"4.6024\"/>\\n',\n",
       " '  <Improper class1=\"CK\" class2=\"\" class3=\"\" class4=\"H5\" periodicity1=\"2\" phase1=\"3.14159265359\" k1=\"4.6024\"/>\\n',\n",
       " '  <Improper class1=\"CQ\" class2=\"\" class3=\"\" class4=\"H5\" periodicity1=\"2\" phase1=\"3.14159265359\" k1=\"4.6024\"/>\\n',\n",
       " '  <Improper class1=\"CV\" class2=\"\" class3=\"\" class4=\"H4\" periodicity1=\"2\" phase1=\"3.14159265359\" k1=\"4.6024\"/>\\n',\n",
       " '  <Improper class1=\"CR\" class2=\"\" class3=\"\" class4=\"H5\" periodicity1=\"2\" phase1=\"3.14159265359\" k1=\"4.6024\"/>\\n',\n",
       " '  <Improper class1=\"CW\" class2=\"\" class3=\"\" class4=\"H4\" periodicity1=\"2\" phase1=\"3.14159265359\" k1=\"4.6024\"/>\\n',\n",
       " '  <Improper class1=\"CA\" class2=\"\" class3=\"\" class4=\"HA\" periodicity1=\"2\" phase1=\"3.14159265359\" k1=\"4.6024\"/>\\n',\n",
       " '  <Improper class1=\"N\" class2=\"\" class3=\"CT\" class4=\"CT\" periodicity1=\"2\" phase1=\"3.14159265359\" k1=\"4.184\"/>\\n',\n",
       " '  <Improper class1=\"CA\" class2=\"\" class3=\"N2\" class4=\"N2\" periodicity1=\"2\" phase1=\"3.14159265359\" k1=\"43.932\"/>\\n',\n",
       " '  <Improper class1=\"NA\" class2=\"\" class3=\"\" class4=\"H\" periodicity1=\"2\" phase1=\"3.14159265359\" k1=\"4.184\"/>\\n',\n",
       " '  <Improper class1=\"N2\" class2=\"\" class3=\"\" class4=\"H\" periodicity1=\"2\" phase1=\"3.14159265359\" k1=\"4.184\"/>\\n',\n",
       " '  <Improper class1=\"N\" class2=\"\" class3=\"\" class4=\"H\" periodicity1=\"2\" phase1=\"3.14159265359\" k1=\"4.184\"/>\\n',\n",
       " '  <Improper class1=\"C\" class2=\"\" class3=\"O2\" class4=\"O2\" periodicity1=\"2\" phase1=\"3.14159265359\" k1=\"43.932\"/>\\n',\n",
       " '  <Improper class1=\"C\" class2=\"\" class3=\"\" class4=\"O\" periodicity1=\"2\" phase1=\"3.14159265359\" k1=\"43.932\"/>\\n',\n",
       " ' </PeriodicTorsionForce>\\n',\n",
       " ' <NonbondedForce coulomb14scale=\"0.833333\" lj14scale=\"0.5\">\\n',\n",
       " ' </NonbondedForce>\\n',\n",
       " '</ForceField>\\n']"
      ]
     },
     "execution_count": 18,
     "metadata": {},
     "output_type": "execute_result"
    }
   ],
   "source": [
    "g_mm.amber_parser.generate_xml().readlines()"
   ]
  },
  {
   "cell_type": "code",
   "execution_count": 222,
   "metadata": {
    "collapsed": false
   },
   "outputs": [],
   "source": [
    "def check_param_str():\n",
    "    return\n",
    "\n",
    "def check_gmm_param_str():\n",
    "    return"
   ]
  },
  {
   "cell_type": "code",
   "execution_count": 156,
   "metadata": {
    "collapsed": false
   },
   "outputs": [
    {
     "data": {
      "text/plain": [
       "['!',\n",
       " '! Non-bonded interaction',\n",
       " '!',\n",
       " 'NonBon 3 1 0 0 0.000 0.000 0.500 0.000 0.000 -1.000',\n",
       " '!',\n",
       " '! Stretches',\n",
       " '!',\n",
       " 'HrmStr1 OW HW  553.0  0.9572',\n",
       " 'HrmStr1 HW HW  553.0  1.5136',\n",
       " 'HrmStr1 C  CA  469.0  1.409 ',\n",
       " 'HrmStr1 C  CB  447.0  1.419 ',\n",
       " 'HrmStr1 C  CM  410.0  1.444 ',\n",
       " 'HrmStr1 C  CT  317.0  1.522 ',\n",
       " 'HrmStr1 C  N*  424.0  1.383 ',\n",
       " 'HrmStr1 C  NA  418.0  1.388 ',\n",
       " 'HrmStr1 C  NC  457.0  1.358 ',\n",
       " 'HrmStr1 C  O   570.0  1.229 ',\n",
       " 'HrmStr1 C  O2  656.0  1.250 ',\n",
       " 'HrmStr1 C  OH  450.0  1.364 ',\n",
       " 'HrmStr1 CA CA  469.0  1.400 ',\n",
       " 'HrmStr1 CA CB  469.0  1.404 ',\n",
       " 'HrmStr1 CA CM  427.0  1.433 ',\n",
       " 'HrmStr1 CA CT  317.0  1.510 ',\n",
       " 'HrmStr1 CA HA  367.0  1.080 ',\n",
       " 'HrmStr1 CA H4  367.0  1.080 ',\n",
       " 'HrmStr1 CA N2  481.0  1.340 ',\n",
       " 'HrmStr1 CA NA  427.0  1.381 ',\n",
       " 'HrmStr1 CA NC  483.0  1.339 ',\n",
       " 'HrmStr1 CB CB  520.0  1.370 ',\n",
       " 'HrmStr1 CB N*  436.0  1.374 ',\n",
       " 'HrmStr1 CB NB  414.0  1.391 ',\n",
       " 'HrmStr1 CB NC  461.0  1.354 ',\n",
       " 'HrmStr1 CK H5  367.0  1.080 ',\n",
       " 'HrmStr1 CK N*  440.0  1.371 ',\n",
       " 'HrmStr1 CK NB  529.0  1.304 ',\n",
       " 'HrmStr1 CM CM  549.0  1.350 ',\n",
       " 'HrmStr1 CM CT  317.0  1.510 ',\n",
       " 'HrmStr1 CM HA  367.0  1.080 ',\n",
       " 'HrmStr1 CM H4  367.0  1.080 ',\n",
       " 'HrmStr1 CM H5  367.0  1.080 ',\n",
       " 'HrmStr1 CM N*  448.0  1.365 ',\n",
       " 'HrmStr1 CQ H5  367.0  1.080 ',\n",
       " 'HrmStr1 CQ NC  502.0  1.324 ',\n",
       " 'HrmStr1 CT CT  310.0  1.526 ',\n",
       " 'HrmStr1 CT HC  340.0  1.090 ',\n",
       " 'HrmStr1 CT H1  340.0  1.090 ',\n",
       " 'HrmStr1 CT H2  340.0  1.090 ',\n",
       " 'HrmStr1 CT H3  340.0  1.090 ',\n",
       " 'HrmStr1 CT HP  340.0  1.090 ',\n",
       " 'HrmStr1 CT N*  337.0  1.475 ',\n",
       " 'HrmStr1 CT N2  337.0  1.463 ',\n",
       " 'HrmStr1 CT OH  320.0  1.410 ',\n",
       " 'HrmStr1 CT OS  320.0  1.410 ',\n",
       " 'HrmStr1 H  N2  434.0  1.010 ',\n",
       " 'HrmStr1 H  N*  434.0  1.010 ',\n",
       " 'HrmStr1 H  NA  434.0  1.010 ',\n",
       " 'HrmStr1 HO OH  553.0  0.960 ',\n",
       " 'HrmStr1 HO OS  553.0  0.960 ',\n",
       " 'HrmStr1 O2 P   525.0  1.480 ',\n",
       " 'HrmStr1 OH P   230.0  1.610 ',\n",
       " 'HrmStr1 OS P   230.0  1.610 ',\n",
       " 'HrmStr1 C* HC  367.0  1.080 ',\n",
       " 'HrmStr1 C  N   490.0  1.335 ',\n",
       " 'HrmStr1 C* CB  388.0  1.459 ',\n",
       " 'HrmStr1 C* CT  317.0  1.495 ',\n",
       " 'HrmStr1 C* CW  546.0  1.352 ',\n",
       " 'HrmStr1 CA CN  469.0  1.400 ',\n",
       " 'HrmStr1 CB CN  447.0  1.419 ',\n",
       " 'HrmStr1 CC CT  317.0  1.504 ',\n",
       " 'HrmStr1 CC CV  512.0  1.375 ',\n",
       " 'HrmStr1 CC CW  518.0  1.371 ',\n",
       " 'HrmStr1 CC NA  422.0  1.385 ',\n",
       " 'HrmStr1 CC NB  410.0  1.394 ',\n",
       " 'HrmStr1 CN NA  428.0  1.380 ',\n",
       " 'HrmStr1 CR H5  367.0  1.080 ',\n",
       " 'HrmStr1 CR NA  477.0  1.343 ',\n",
       " 'HrmStr1 CR NB  488.0  1.335 ',\n",
       " 'HrmStr1 CT N   337.0  1.449 ',\n",
       " 'HrmStr1 CT N3  367.0  1.471 ',\n",
       " 'HrmStr1 CT S   227.0  1.810 ',\n",
       " 'HrmStr1 CT SH  237.0  1.810 ',\n",
       " 'HrmStr1 CV H4  367.0  1.080 ',\n",
       " 'HrmStr1 CV NB  410.0  1.394 ',\n",
       " 'HrmStr1 CW H4  367.0  1.080 ',\n",
       " 'HrmStr1 CW NA  427.0  1.381 ',\n",
       " 'HrmStr1 H  N   434.0  1.010 ',\n",
       " 'HrmStr1 H  N3  434.0  1.010 ',\n",
       " 'HrmStr1 HS SH  274.0  1.336 ',\n",
       " 'HrmStr1 S  S   166.0  2.038 ',\n",
       " 'HrmStr1 CT F   367.0  1.380 ',\n",
       " '!',\n",
       " '! Angles',\n",
       " '!',\n",
       " 'HrmBnd1 HW OW HW    100.   104.52  ',\n",
       " 'HrmBnd1 HW HW OW   0.      127.74  ',\n",
       " 'HrmBnd1 CB C  NA    70.0   111.30  ',\n",
       " 'HrmBnd1 CB C  O     80.0   128.80',\n",
       " 'HrmBnd1 CM C  NA    70.0   114.10',\n",
       " 'HrmBnd1 CM C  O     80.0   125.30',\n",
       " 'HrmBnd1 CT C  O     80.0   120.40',\n",
       " 'HrmBnd1 CT C  O2    70.0   117.00',\n",
       " 'HrmBnd1 CT C  OH    70.0   117.00',\n",
       " 'HrmBnd1 N* C  NA    70.0   115.40',\n",
       " 'HrmBnd1 N* C  NC    70.0   118.60',\n",
       " 'HrmBnd1 N* C  O     80.0   120.90',\n",
       " 'HrmBnd1 NA C  O     80.0   120.60',\n",
       " 'HrmBnd1 NC C  O     80.0   122.50',\n",
       " 'HrmBnd1 CT C  N     70.0   116.60  ',\n",
       " 'HrmBnd1 N  C  O     80.0   122.90  ',\n",
       " 'HrmBnd1 O  C  O     80.0   126.00  ',\n",
       " 'HrmBnd1 O2 C  O2    80.0   126.00  ',\n",
       " 'HrmBnd1 O  C  OH    80.0   126.00',\n",
       " 'HrmBnd1 CA C  CA    63.0   120.00  ',\n",
       " 'HrmBnd1 CA C  OH    70.0   120.00  ',\n",
       " 'HrmBnd1 C  CA CA    63.0   120.00  ',\n",
       " 'HrmBnd1 CA CA CA    63.0   120.00  ',\n",
       " 'HrmBnd1 CA CA CB    63.0   120.00  ',\n",
       " 'HrmBnd1 CA CA CT    70.0   120.00',\n",
       " 'HrmBnd1 CA CA HA    35.0   120.00',\n",
       " 'HrmBnd1 CA CA H4    35.0   120.00',\n",
       " 'HrmBnd1 CB CA HA    35.0   120.00',\n",
       " 'HrmBnd1 CB CA H4    35.0   120.00',\n",
       " 'HrmBnd1 CB CA N2    70.0   123.50',\n",
       " 'HrmBnd1 CB CA NC    70.0   117.30',\n",
       " 'HrmBnd1 CM CA N2    70.0   120.10',\n",
       " 'HrmBnd1 CM CA NC    70.0   121.50',\n",
       " 'HrmBnd1 N2 CA NA    70.0   116.00',\n",
       " 'HrmBnd1 N2 CA NC    70.0   119.30',\n",
       " 'HrmBnd1 NA CA NC    70.0   123.30',\n",
       " 'HrmBnd1 C  CA HA    35.0   120.00  ',\n",
       " 'HrmBnd1 N2 CA N2    70.0   120.00  ',\n",
       " 'HrmBnd1 CN CA HA    35.0   120.00  ',\n",
       " 'HrmBnd1 CA CA CN    63.0   120.00  ',\n",
       " 'HrmBnd1 C  CB CB    63.0   119.20  ',\n",
       " 'HrmBnd1 C  CB NB    70.0   130.00',\n",
       " 'HrmBnd1 CA CB CB    63.0   117.30  ',\n",
       " 'HrmBnd1 CA CB NB    70.0   132.40  ',\n",
       " 'HrmBnd1 CB CB N*    70.0   106.20',\n",
       " 'HrmBnd1 CB CB NB    70.0   110.40',\n",
       " 'HrmBnd1 CB CB NC    70.0   127.70',\n",
       " 'HrmBnd1 N* CB NC    70.0   126.20',\n",
       " 'HrmBnd1 C* CB CA    63.0   134.90  ',\n",
       " 'HrmBnd1 C* CB CN    63.0   108.80  ',\n",
       " 'HrmBnd1 CA CB CN    63.0   116.20  ',\n",
       " 'HrmBnd1 H5 CK N*    35.0   123.05',\n",
       " 'HrmBnd1 H5 CK NB    35.0   123.05',\n",
       " 'HrmBnd1 N* CK NB    70.0   113.90',\n",
       " 'HrmBnd1 C  CM CM    63.0   120.70  ',\n",
       " 'HrmBnd1 C  CM CT    70.0   119.70',\n",
       " 'HrmBnd1 C  CM HA    35.0   119.70',\n",
       " 'HrmBnd1 C  CM H4    35.0   119.70',\n",
       " 'HrmBnd1 CA CM CM    63.0   117.00  ',\n",
       " 'HrmBnd1 CA CM HA    35.0   123.30',\n",
       " 'HrmBnd1 CA CM H4    35.0   123.30',\n",
       " 'HrmBnd1 CM CM CT    70.0   119.70',\n",
       " 'HrmBnd1 CM CM HA    35.0   119.70',\n",
       " 'HrmBnd1 CM CM H4    35.0   119.70',\n",
       " 'HrmBnd1 CM CM N*    70.0   121.20',\n",
       " 'HrmBnd1 H4 CM N*    35.0   119.10',\n",
       " 'HrmBnd1 H5 CQ NC    35.0   115.45',\n",
       " 'HrmBnd1 NC CQ NC    70.0   129.10',\n",
       " 'HrmBnd1 CM CT HC    50.0   109.50  ',\n",
       " 'HrmBnd1 CT CT CT    40.0   109.50',\n",
       " 'HrmBnd1 CT CT HC    50.0   109.50  ',\n",
       " 'HrmBnd1 CT CT H1    50.0   109.50  ',\n",
       " 'HrmBnd1 CT CT H2    50.0   109.50  ',\n",
       " 'HrmBnd1 CT CT HP    50.0   109.50  ',\n",
       " 'HrmBnd1 CT CT N*    50.0   109.50',\n",
       " 'HrmBnd1 CT CT OH    50.0   109.50',\n",
       " 'HrmBnd1 CT CT OS    50.0   109.50',\n",
       " 'HrmBnd1 HC CT HC    35.0   109.50',\n",
       " 'HrmBnd1 H1 CT H1    35.0   109.50',\n",
       " 'HrmBnd1 HP CT HP    35.0   109.50  ',\n",
       " 'HrmBnd1 H2 CT N*    50.0   109.50  ',\n",
       " 'HrmBnd1 H1 CT N*    50.0   109.50  ',\n",
       " 'HrmBnd1 H1 CT OH    50.0   109.50  ',\n",
       " 'HrmBnd1 H1 CT OS    50.0   109.50  ',\n",
       " 'HrmBnd1 H2 CT OS    50.0   109.50  ',\n",
       " 'HrmBnd1 N* CT OS    50.0   109.50',\n",
       " 'HrmBnd1 H1 CT N     50.0   109.50  ',\n",
       " 'HrmBnd1 C  CT H1    50.0   109.50  ',\n",
       " 'HrmBnd1 C  CT HP    50.0   109.50  ',\n",
       " 'HrmBnd1 H1 CT S     50.0   109.50  ',\n",
       " 'HrmBnd1 H1 CT SH    50.0   109.50  ',\n",
       " 'HrmBnd1 CT CT S     50.0   114.70  ',\n",
       " 'HrmBnd1 CT CT SH    50.0   108.60  ',\n",
       " 'HrmBnd1 H2 CT H2    35.0   109.50  ',\n",
       " 'HrmBnd1 H1 CT N2    50.0   109.50  ',\n",
       " 'HrmBnd1 HP CT N3    50.0   109.50  ',\n",
       " 'HrmBnd1 CA CT CT    63.0   114.00  ',\n",
       " 'HrmBnd1 C  CT HC    50.0   109.50  ',\n",
       " 'HrmBnd1 C  CT N     63.0   110.10  ',\n",
       " 'HrmBnd1 CT CT N2    80.0   111.20  ',\n",
       " 'HrmBnd1 CT CT N     80.0   109.70  ',\n",
       " 'HrmBnd1 C  CT CT    63.0   111.10  ',\n",
       " 'HrmBnd1 CA CT HC    50.0   109.50  ',\n",
       " 'HrmBnd1 CT CT N3    80.0   111.20  ',\n",
       " 'HrmBnd1 CC CT CT    63.0   113.10  ',\n",
       " 'HrmBnd1 CC CT HC    50.0   109.50  ',\n",
       " 'HrmBnd1 C  CT N3    80.0   111.20  ',\n",
       " 'HrmBnd1 C* CT CT    63.0   115.60  ',\n",
       " 'HrmBnd1 C* CT HC    50.0   109.50  ',\n",
       " 'HrmBnd1 CT CC NA    70.0   120.00  ',\n",
       " 'HrmBnd1 CT CC CV    70.0   120.00  ',\n",
       " 'HrmBnd1 CT CC NB    70.0   120.00  ',\n",
       " 'HrmBnd1 CV CC NA    70.0   120.00  ',\n",
       " 'HrmBnd1 CW CC NA    70.0   120.00  ',\n",
       " 'HrmBnd1 CW CC NB    70.0   120.00  ',\n",
       " 'HrmBnd1 CT CC CW    70.0   120.00  ',\n",
       " 'HrmBnd1 H5 CR NA    35.0   120.00  ',\n",
       " 'HrmBnd1 H5 CR NB    35.0   120.00  ',\n",
       " 'HrmBnd1 NA CR NA    70.0   120.00  ',\n",
       " 'HrmBnd1 NA CR NB    70.0   120.00  ',\n",
       " 'HrmBnd1 CC CV H4    35.0   120.00  ',\n",
       " 'HrmBnd1 CC CV NB    70.0   120.00  ',\n",
       " 'HrmBnd1 H4 CV NB    35.0   120.00  ',\n",
       " 'HrmBnd1 CC CW H4    35.0   120.00  ',\n",
       " 'HrmBnd1 CC CW NA    70.0   120.00  ',\n",
       " 'HrmBnd1 H4 CW NA    35.0   120.00  ',\n",
       " 'HrmBnd1 C* CW H4    35.0   120.00  ',\n",
       " 'HrmBnd1 C* CW NA    70.0   108.70  ',\n",
       " 'HrmBnd1 CT C* CW    70.0   125.00  ',\n",
       " 'HrmBnd1 CB C* CT    70.0   128.60  ',\n",
       " 'HrmBnd1 CB C* CW    63.0   106.40  ',\n",
       " 'HrmBnd1 CA CN NA    70.0   132.80  ',\n",
       " 'HrmBnd1 CB CN NA    70.0   104.40  ',\n",
       " 'HrmBnd1 CA CN CB    63.0   122.70  ',\n",
       " 'HrmBnd1 C  N  CT    50.0   121.90  ',\n",
       " 'HrmBnd1 C  N  H     30.0   120.00  ',\n",
       " 'HrmBnd1 CT N  H     30.0   118.04  ',\n",
       " 'HrmBnd1 CT N  CT    50.0   118.00  ',\n",
       " 'HrmBnd1 H  N  H     35.0   120.00  ',\n",
       " 'HrmBnd1 C  N* CM    70.0   121.60',\n",
       " 'HrmBnd1 C  N* CT    70.0   117.60',\n",
       " 'HrmBnd1 C  N* H     30.0   119.20  ',\n",
       " 'HrmBnd1 CB N* CK    70.0   105.40',\n",
       " 'HrmBnd1 CB N* CT    70.0   125.80',\n",
       " 'HrmBnd1 CB N* H     30.0   125.80  ',\n",
       " 'HrmBnd1 CK N* CT    70.0   128.80',\n",
       " 'HrmBnd1 CK N* H     30.0   128.80  ',\n",
       " 'HrmBnd1 CM N* CT    70.0   121.20',\n",
       " 'HrmBnd1 CM N* H     30.0   121.20  ',\n",
       " 'HrmBnd1 CA N2 H     35.0   120.00  ',\n",
       " 'HrmBnd1 H  N2 H     35.0   120.00  ',\n",
       " 'HrmBnd1 CT N2 H     35.0   118.40  ',\n",
       " 'HrmBnd1 CA N2 CT    50.0   123.20  ',\n",
       " 'HrmBnd1 CT N3 H     50.0   109.50  ',\n",
       " 'HrmBnd1 CT N3 CT    50.0   109.50  ',\n",
       " 'HrmBnd1 H  N3 H     35.0   109.50  ',\n",
       " 'HrmBnd1 C  NA C     70.0   126.40',\n",
       " 'HrmBnd1 C  NA CA    70.0   125.20',\n",
       " 'HrmBnd1 C  NA H     30.0   116.80  ',\n",
       " 'HrmBnd1 CA NA H     30.0   118.00  ',\n",
       " 'HrmBnd1 CC NA CR    70.0   120.00  ',\n",
       " 'HrmBnd1 CC NA H     30.0   120.00  ',\n",
       " 'HrmBnd1 CR NA CW    70.0   120.00  ',\n",
       " 'HrmBnd1 CR NA H     30.0   120.00  ',\n",
       " 'HrmBnd1 CW NA H     30.0   120.00  ',\n",
       " 'HrmBnd1 CN NA CW    70.0   111.60  ',\n",
       " 'HrmBnd1 CN NA H     30.0   123.10  ',\n",
       " 'HrmBnd1 CB NB CK    70.0   103.80',\n",
       " 'HrmBnd1 CC NB CR    70.0   117.00  ',\n",
       " 'HrmBnd1 CR NB CV    70.0   117.00  ',\n",
       " 'HrmBnd1 C  NC CA    70.0   120.50',\n",
       " 'HrmBnd1 CA NC CB    70.0   112.20',\n",
       " 'HrmBnd1 CA NC CQ    70.0   118.60',\n",
       " 'HrmBnd1 CB NC CQ    70.0   111.00',\n",
       " 'HrmBnd1 C  OH HO    35.0   113.00',\n",
       " 'HrmBnd1 CT OH HO    55.0   108.50',\n",
       " 'HrmBnd1 HO OH P     45.0   108.50',\n",
       " 'HrmBnd1 CT OS CT    60.0   109.50',\n",
       " 'HrmBnd1 CT OS P    100.0   120.50',\n",
       " 'HrmBnd1 P  OS P    100.0   120.50',\n",
       " 'HrmBnd1 O2 P  OH    45.0   108.23',\n",
       " 'HrmBnd1 O2 P  O2   140.0   119.90',\n",
       " 'HrmBnd1 O2 P  OS   100.0   108.23',\n",
       " 'HrmBnd1 OH P  OS    45.0   102.60',\n",
       " 'HrmBnd1 OS P  OS    45.0   102.60',\n",
       " 'HrmBnd1 CT S  CT    62.0    98.90  ',\n",
       " 'HrmBnd1 CT S  S     68.0   103.70  ',\n",
       " 'HrmBnd1 CT SH HS    43.0    96.00  ',\n",
       " 'HrmBnd1 HS SH HS    35.0    92.07  ',\n",
       " 'HrmBnd1 F  CT F     77.0   109.10  ',\n",
       " 'HrmBnd1 F  CT H1    35.0   109.50  ',\n",
       " '!',\n",
       " '! Torsions',\n",
       " '!',\n",
       " 'AmbTrs *  C  CA *    0 180   0   0  0.000 14.500  0.000  0.000 4.0',\n",
       " 'AmbTrs *  C  CB *    0 180   0   0  0.000 12.000  0.000  0.000 4.0',\n",
       " 'AmbTrs *  C  CM *    0 180   0   0  0.000  8.700  0.000  0.000 4.0',\n",
       " 'AmbTrs *  C  N* *    0 180   0   0  0.000  5.800  0.000  0.000 4.0',\n",
       " 'AmbTrs *  C  NA *    0 180   0   0  0.000  5.400  0.000  0.000 4.0',\n",
       " 'AmbTrs *  C  NC *    0 180   0   0  0.000  8.000  0.000  0.000 2.0',\n",
       " 'AmbTrs *  C  OH *    0 180   0   0  0.000  1.800  0.000  0.000 2.0',\n",
       " 'AmbTrs *  CA CA *    0 180   0   0  0.000 14.500  0.000  0.000 4.0',\n",
       " 'AmbTrs *  CA CB *    0 180   0   0  0.000 14.000  0.000  0.000 4.0',\n",
       " 'AmbTrs *  CA CM *    0 180   0   0  0.000 10.200  0.000  0.000 4.0',\n",
       " 'AmbTrs *  CA N2 *    0 180   0   0  0.000  9.600  0.000  0.000 4.0',\n",
       " 'AmbTrs *  CA NA *    0 180   0   0  0.000  6.000  0.000  0.000 4.0',\n",
       " 'AmbTrs *  CA NC *    0 180   0   0  0.000  9.600  0.000  0.000 2.0',\n",
       " 'AmbTrs *  CB CB *    0 180   0   0  0.000 21.800  0.000  0.000 4.0',\n",
       " 'AmbTrs *  CB N* *    0 180   0   0  0.000  6.600  0.000  0.000 4.0',\n",
       " 'AmbTrs *  CB NB *    0 180   0   0  0.000  5.100  0.000  0.000 2.0',\n",
       " 'AmbTrs *  CB NC *    0 180   0   0  0.000  8.300  0.000  0.000 2.0',\n",
       " 'AmbTrs *  CK N* *    0 180   0   0  0.000  6.800  0.000  0.000 4.0',\n",
       " 'AmbTrs *  CK NB *    0 180   0   0  0.000 20.000  0.000  0.000 2.0',\n",
       " 'AmbTrs *  CM CM *    0 180   0   0  0.000 26.600  0.000  0.000 4.0',\n",
       " 'AmbTrs *  CM CT *    0   0   0   0  0.000  0.000  0.000  0.000 6.0',\n",
       " 'AmbTrs *  CM N* *    0 180   0   0  0.000  7.400  0.000  0.000 4.0',\n",
       " 'AmbTrs *  CQ NC *    0 180   0   0  0.000 13.600  0.000  0.000 2.0',\n",
       " 'AmbTrs *  CT CT *    0   0   0   0  0.000  0.000  1.400  0.000 9.0',\n",
       " 'AmbTrs *  CT OH *    0   0   0   0  0.000  0.000  0.500  0.000 3.0',\n",
       " 'AmbTrs *  CT OS *    0   0   0   0  0.000  0.000  1.150  0.000 3.0',\n",
       " 'AmbTrs *  OH P  *    0   0   0   0  0.000  0.000  0.750  0.000 3.0',\n",
       " 'AmbTrs *  OS P  *    0   0   0   0  0.000  0.000  0.750  0.000 3.0',\n",
       " 'AmbTrs *  C  N  *    0 180   0   0  0.000 10.000  0.000  0.000 4.0',\n",
       " 'AmbTrs *  CT N3 *    0   0   0   0  0.000  0.000  1.400  0.000 9.0',\n",
       " 'AmbTrs *  CT S  *    0   0   0   0  0.000  0.000  1.000  0.000 3.0',\n",
       " 'AmbTrs *  CT SH *    0   0   0   0  0.000  0.000  0.750  0.000 3.0',\n",
       " 'AmbTrs *  C* CB *    0 180   0   0  0.000  6.700  0.000  0.000 4.0',\n",
       " 'AmbTrs *  C* CW *    0 180   0   0  0.000 26.100  0.000  0.000 4.0',\n",
       " 'AmbTrs *  CA CN *    0 180   0   0  0.000 14.500  0.000  0.000 4.0',\n",
       " 'AmbTrs *  CB CN *    0 180   0   0  0.000 12.000  0.000  0.000 4.0',\n",
       " 'AmbTrs *  CC CV *    0 180   0   0  0.000 20.600  0.000  0.000 4.0',\n",
       " 'AmbTrs *  CC CW *    0 180   0   0  0.000 21.500  0.000  0.000 4.0',\n",
       " 'AmbTrs *  CC NA *    0 180   0   0  0.000  5.600  0.000  0.000 4.0',\n",
       " 'AmbTrs *  CC NB *    0 180   0   0  0.000  4.800  0.000  0.000 2.0',\n",
       " 'AmbTrs *  CN NA *    0 180   0   0  0.000  6.100  0.000  0.000 4.0',\n",
       " 'AmbTrs *  CR NA *    0 180   0   0  0.000  9.300  0.000  0.000 4.0',\n",
       " 'AmbTrs *  CR NB *    0 180   0   0  0.000 10.000  0.000  0.000 2.0',\n",
       " 'AmbTrs *  CV NB *    0 180   0   0  0.000  4.800  0.000  0.000 2.0',\n",
       " 'AmbTrs *  CW NA *    0 180   0   0  0.000  6.000  0.000  0.000 4.0',\n",
       " 'AmbTrs C  CT OS CT   0 180   0   0  0.000  0.100  0.383  0.000 1.0',\n",
       " 'AmbTrs C  N  CT C    0 180   0   0  0.850  0.300  0.000  0.000 1.0',\n",
       " 'AmbTrs N  CT C  N    0 180   0   0  0.850  0.300  0.000  0.000 1.0',\n",
       " 'AmbTrs CT CT N  C    0   0 180 180  0.530  0.000  0.150  0.500 1.0',\n",
       " 'AmbTrs CT CT C  N    0   0   0   0  0.000  0.070  0.000  0.100 1.0',\n",
       " 'AmbTrs H  N  C  O    0 180   0   0  2.000  2.500  0.000  0.000 1.0',\n",
       " 'AmbTrs CT S  S  CT   0   0   0   0  0.000  3.500  0.600  0.000 1.0',\n",
       " 'AmbTrs OS CT CT OS   0   0   0   0  0.000  1.000  0.144  0.000 1.0',\n",
       " 'AmbTrs OS CT CT OH   0   0   0   0  0.000  1.000  0.144  0.000 1.0',\n",
       " 'AmbTrs OH CT CT OH   0   0   0   0  0.000  1.000  0.144  0.000 1.0',\n",
       " 'AmbTrs OH P  OS CT   0   0   0   0  0.000  1.200  0.250  0.000 1.0',\n",
       " 'AmbTrs OS P  OS CT   0   0   0   0  0.000  1.200  0.250  0.000 1.0',\n",
       " 'AmbTrs OS CT N* CK   0 180   0   0  2.500  0.500  0.000  0.000 1.0',\n",
       " 'AmbTrs OS CT N* CM   0 180   0   0  2.500  0.500  0.000  0.000 1.0',\n",
       " '!',\n",
       " '! Improper torsions',\n",
       " '!',\n",
       " 'ImpTrs *  *  C  O   10.5  180.0 2.0',\n",
       " 'ImpTrs *  O2 C  O2  10.5  180.0 2.0',\n",
       " 'ImpTrs *  *  N  H    1.0  180.0 2.0',\n",
       " 'ImpTrs *  *  N2 H    1.0  180.0 2.0',\n",
       " 'ImpTrs *  *  NA H    1.0  180.0 2.0',\n",
       " 'ImpTrs *  N2 CA N2  10.5  180.0 2.0',\n",
       " 'ImpTrs *  CT N  CT   1.0  180.0 2.0',\n",
       " 'ImpTrs *  *  CA HA   1.1  180.0 2.0',\n",
       " 'ImpTrs *  *  CW H4   1.1  180.0 2.0',\n",
       " 'ImpTrs *  *  CR H5   1.1  180.0 2.0',\n",
       " 'ImpTrs *  *  CV H4   1.1  180.0 2.0',\n",
       " 'ImpTrs *  *  CQ H5   1.1  180.0 2.0',\n",
       " 'ImpTrs *  *  CK H5   1.1  180.0 2.0',\n",
       " 'ImpTrs *  *  CM H4   1.1  180.0 2.0',\n",
       " 'ImpTrs *  *  CM HA   1.1  180.0 2.0',\n",
       " 'ImpTrs *  *  CA H4   1.1  180.0 2.0',\n",
       " 'ImpTrs *  *  CA H5   1.1  180.0 2.0',\n",
       " 'ImpTrs CK CB N* CT   1.0  180.0 2.0',\n",
       " 'ImpTrs CM C  N* CT   1.0  180.0 2.0',\n",
       " 'ImpTrs CM C  CM CT   1.1  180.0 2.0',\n",
       " 'ImpTrs CT O  C  OH  10.5  180.0 2.0',\n",
       " 'ImpTrs NA CV CC CT   1.1  180.0 2.0',\n",
       " 'ImpTrs NB CW CC CT   1.1  180.0 2.0',\n",
       " 'ImpTrs NA CW CC CT   1.1  180.0 2.0',\n",
       " 'ImpTrs CW CB C* CT   1.1  180.0 2.0',\n",
       " 'ImpTrs CA CA CA CT   1.1  180.0 2.0',\n",
       " 'ImpTrs C  CM CM CT   1.1  180.0 2.0',\n",
       " 'ImpTrs NC CM CA N2   1.1  180.0 2.0',\n",
       " 'ImpTrs CB NC CA N2   1.1  180.0 2.0',\n",
       " 'ImpTrs NA NC CA N2   1.1  180.0 2.0',\n",
       " 'ImpTrs CA CA C  OH   1.1  180.0 2.0',\n",
       " '!',\n",
       " '! Vanderwaals parameters',\n",
       " '!',\n",
       " 'VDW H  0.6000  0.0157',\n",
       " 'VDW HO 0.0000  0.0000',\n",
       " 'VDW HS 0.6000  0.0157',\n",
       " 'VDW HC 1.4870  0.0157',\n",
       " 'VDW H1 1.3870  0.0157',\n",
       " 'VDW H2 1.2870  0.0157',\n",
       " 'VDW H3 1.1870  0.0157',\n",
       " 'VDW HP 1.1000  0.0157',\n",
       " 'VDW HA 1.4590  0.0150',\n",
       " 'VDW H4 1.4090  0.0150',\n",
       " 'VDW H5 1.3590  0.0150',\n",
       " 'VDW HW 0.0000  0.0000',\n",
       " 'VDW O  1.6612  0.2100',\n",
       " 'VDW O2 1.6612  0.2100',\n",
       " 'VDW OW 1.7683  0.1520',\n",
       " 'VDW OH 1.7210  0.2104',\n",
       " 'VDW OS 1.6837  0.1700',\n",
       " 'VDW CT 1.9080  0.1094',\n",
       " 'VDW CA 1.9080  0.0860',\n",
       " 'VDW CM 1.9080  0.0860',\n",
       " 'VDW C  1.9080  0.0860',\n",
       " 'VDW C* 1.9080  0.0860',\n",
       " 'VDW CB 1.9080  0.0860',\n",
       " 'VDW CC 1.9080  0.0860',\n",
       " 'VDW CN 1.9080  0.0860',\n",
       " 'VDW CK 1.9080  0.0860',\n",
       " 'VDW CQ 1.9080  0.0860',\n",
       " 'VDW CW 1.9080  0.0860',\n",
       " 'VDW CV 1.9080  0.0860',\n",
       " 'VDW CR 1.9080  0.0860',\n",
       " 'VDW CX 1.9080  0.0860',\n",
       " 'VDW CY 1.9080  0.0860',\n",
       " 'VDW CD 1.9080  0.0860',\n",
       " 'VDW N  1.8240  0.1700',\n",
       " 'VDW NA 1.8240  0.1700',\n",
       " 'VDW N2 1.8240  0.1700',\n",
       " 'VDW N* 1.8240  0.1700',\n",
       " 'VDW NC 1.8240  0.1700',\n",
       " 'VDW NB 1.8240  0.1700',\n",
       " 'VDW N3 1.8750  0.1700',\n",
       " 'VDW NP 1.8240  0.1700',\n",
       " 'VDW NO 1.8240  0.1700',\n",
       " 'VDW S  2.0000  0.2500',\n",
       " 'VDW SH 2.0000  0.2500',\n",
       " 'VDW P  2.1000  0.2000',\n",
       " 'VDW IM 2.47    0.1',\n",
       " 'VDW Li 1.1370  0.0183',\n",
       " 'VDW IP 1.8680  0.00277',\n",
       " 'VDW K  2.6580  0.000328',\n",
       " 'VDW Rb 2.9560  0.00017',\n",
       " 'VDW Cs 3.3950  0.0000806',\n",
       " 'VDW I  2.35    0.40',\n",
       " 'VDW F  1.75    0.061',\n",
       " 'VDW IB 5.0     0.1',\n",
       " '']"
      ]
     },
     "execution_count": 156,
     "metadata": {},
     "output_type": "execute_result"
    }
   ],
   "source": [
    "amb96"
   ]
  },
  {
   "cell_type": "code",
   "execution_count": 146,
   "metadata": {
    "collapsed": false
   },
   "outputs": [],
   "source": [
    "#amber 96 param file included with Gaussian\n",
    "with open('../amber.prm') as f:\n",
    "    amb96 = f.read().split('\\n')\n",
    "    \n",
    "test_amb96 = write_gauss_amber_params(get_amber_params_from_dat('parm96')).split('\\n')\n",
    "test2_amb96"
   ]
  },
  {
   "cell_type": "code",
   "execution_count": 226,
   "metadata": {
    "collapsed": false
   },
   "outputs": [
    {
     "data": {
      "text/plain": [
       "['NonBon 3 1 0 0 0.000 0.000 0.500 0.000 0.000 -1.000',\n",
       " '',\n",
       " 'HrmStr1 OW HW  553.0  0.9572',\n",
       " 'HrmStr1 HW HW  553.0  1.5136',\n",
       " 'HrmStr1 C  CA  469.0  1.409',\n",
       " 'HrmStr1 C  CB  447.0  1.419',\n",
       " 'HrmStr1 C  CM  410.0  1.444',\n",
       " 'HrmStr1 C  CT  317.0  1.522',\n",
       " 'HrmStr1 C  N*  424.0  1.383',\n",
       " 'HrmStr1 C  NA  418.0  1.388',\n",
       " 'HrmStr1 C  NC  457.0  1.358',\n",
       " 'HrmStr1 C  O   570.0  1.229',\n",
       " 'HrmStr1 C  O2  656.0  1.250',\n",
       " 'HrmStr1 C  OH  450.0  1.364',\n",
       " 'HrmStr1 CA CA  469.0  1.400',\n",
       " 'HrmStr1 CA CB  469.0  1.404',\n",
       " 'HrmStr1 CA CM  427.0  1.433',\n",
       " 'HrmStr1 CA CT  317.0  1.510',\n",
       " 'HrmStr1 CA HA  367.0  1.080',\n",
       " 'HrmStr1 CA H4  367.0  1.080',\n",
       " 'HrmStr1 CA N2  481.0  1.340',\n",
       " 'HrmStr1 CA NA  427.0  1.381',\n",
       " 'HrmStr1 CA NC  483.0  1.339',\n",
       " 'HrmStr1 CB CB  520.0  1.370',\n",
       " 'HrmStr1 CB N*  436.0  1.374',\n",
       " 'HrmStr1 CB NB  414.0  1.391',\n",
       " 'HrmStr1 CB NC  461.0  1.354',\n",
       " 'HrmStr1 CK H5  367.0  1.080',\n",
       " 'HrmStr1 CK N*  440.0  1.371',\n",
       " 'HrmStr1 CK NB  529.0  1.304',\n",
       " 'HrmStr1 CM CM  549.0  1.350',\n",
       " 'HrmStr1 CM CT  317.0  1.510',\n",
       " 'HrmStr1 CM HA  367.0  1.080',\n",
       " 'HrmStr1 CM H4  367.0  1.080',\n",
       " 'HrmStr1 CM H5  367.0  1.080',\n",
       " 'HrmStr1 CM N*  448.0  1.365',\n",
       " 'HrmStr1 CQ H5  367.0  1.080',\n",
       " 'HrmStr1 CQ NC  502.0  1.324',\n",
       " 'HrmStr1 CT CT  310.0  1.526',\n",
       " 'HrmStr1 CT HC  340.0  1.090',\n",
       " 'HrmStr1 CT H1  340.0  1.090',\n",
       " 'HrmStr1 CT H2  340.0  1.090',\n",
       " 'HrmStr1 CT H3  340.0  1.090',\n",
       " 'HrmStr1 CT HP  340.0  1.090',\n",
       " 'HrmStr1 CT N*  337.0  1.475',\n",
       " 'HrmStr1 CT N2  337.0  1.463',\n",
       " 'HrmStr1 CT OH  320.0  1.410',\n",
       " 'HrmStr1 CT OS  320.0  1.410',\n",
       " 'HrmStr1 H  N2  434.0  1.010',\n",
       " 'HrmStr1 H  N*  434.0  1.010',\n",
       " 'HrmStr1 H  NA  434.0  1.010',\n",
       " 'HrmStr1 HO OH  553.0  0.960',\n",
       " 'HrmStr1 HO OS  553.0  0.960',\n",
       " 'HrmStr1 O2 P   525.0  1.480',\n",
       " 'HrmStr1 OH P   230.0  1.610',\n",
       " 'HrmStr1 OS P   230.0  1.610',\n",
       " 'HrmStr1 C* HC  367.0  1.080',\n",
       " 'HrmStr1 C  N   490.0  1.335',\n",
       " 'HrmStr1 C* CB  388.0  1.459',\n",
       " 'HrmStr1 C* CT  317.0  1.495',\n",
       " 'HrmStr1 C* CW  546.0  1.352',\n",
       " 'HrmStr1 CA CN  469.0  1.400',\n",
       " 'HrmStr1 CB CN  447.0  1.419',\n",
       " 'HrmStr1 CC CT  317.0  1.504',\n",
       " 'HrmStr1 CC CV  512.0  1.375',\n",
       " 'HrmStr1 CC CW  518.0  1.371',\n",
       " 'HrmStr1 CC NA  422.0  1.385',\n",
       " 'HrmStr1 CC NB  410.0  1.394',\n",
       " 'HrmStr1 CN NA  428.0  1.380',\n",
       " 'HrmStr1 CR H5  367.0  1.080',\n",
       " 'HrmStr1 CR NA  477.0  1.343',\n",
       " 'HrmStr1 CR NB  488.0  1.335',\n",
       " 'HrmStr1 CT N   337.0  1.449',\n",
       " 'HrmStr1 CT N3  367.0  1.471',\n",
       " 'HrmStr1 CT S   227.0  1.810',\n",
       " 'HrmStr1 CT SH  237.0  1.810',\n",
       " 'HrmStr1 CV H4  367.0  1.080',\n",
       " 'HrmStr1 CV NB  410.0  1.394',\n",
       " 'HrmStr1 CW H4  367.0  1.080',\n",
       " 'HrmStr1 CW NA  427.0  1.381',\n",
       " 'HrmStr1 H  N   434.0  1.010',\n",
       " 'HrmStr1 H  N3  434.0  1.010',\n",
       " 'HrmStr1 HS SH  274.0  1.336',\n",
       " 'HrmStr1 S  S   166.0  2.038',\n",
       " 'HrmStr1 CT F   367.0  1.380',\n",
       " '',\n",
       " 'HrmBnd1 HW OW  HW  100.   104.52',\n",
       " 'HrmBnd1 HW HW  OW  0.     127.74',\n",
       " 'HrmBnd1 CB C   NA  70.0   111.30',\n",
       " 'HrmBnd1 CB C   O   80.0   128.80',\n",
       " 'HrmBnd1 CM C   NA  70.0   114.10',\n",
       " 'HrmBnd1 CM C   O   80.0   125.30',\n",
       " 'HrmBnd1 CT C   O   80.0   120.40',\n",
       " 'HrmBnd1 CT C   O2  70.0   117.00',\n",
       " 'HrmBnd1 CT C   OH  70.0   117.00',\n",
       " 'HrmBnd1 N* C   NA  70.0   115.40',\n",
       " 'HrmBnd1 N* C   NC  70.0   118.60',\n",
       " 'HrmBnd1 N* C   O   80.0   120.90',\n",
       " 'HrmBnd1 NA C   O   80.0   120.60',\n",
       " 'HrmBnd1 NC C   O   80.0   122.50',\n",
       " 'HrmBnd1 CT C   N   70.0   116.60',\n",
       " 'HrmBnd1 N  C   O   80.0   122.90',\n",
       " 'HrmBnd1 O  C   O   80.0   126.00',\n",
       " 'HrmBnd1 O2 C   O2  80.0   126.00',\n",
       " 'HrmBnd1 O  C   OH  80.0   126.00',\n",
       " 'HrmBnd1 CA C   CA  63.0   120.00',\n",
       " 'HrmBnd1 CA C   OH  70.0   120.00',\n",
       " 'HrmBnd1 C  CA  CA  63.0   120.00',\n",
       " 'HrmBnd1 CA CA  CA  63.0   120.00',\n",
       " 'HrmBnd1 CA CA  CB  63.0   120.00',\n",
       " 'HrmBnd1 CA CA  CT  70.0   120.00',\n",
       " 'HrmBnd1 CA CA  HA  35.0   120.00',\n",
       " 'HrmBnd1 CA CA  H4  35.0   120.00',\n",
       " 'HrmBnd1 CB CA  HA  35.0   120.00',\n",
       " 'HrmBnd1 CB CA  H4  35.0   120.00',\n",
       " 'HrmBnd1 CB CA  N2  70.0   123.50',\n",
       " 'HrmBnd1 CB CA  NC  70.0   117.30',\n",
       " 'HrmBnd1 CM CA  N2  70.0   120.10',\n",
       " 'HrmBnd1 CM CA  NC  70.0   121.50',\n",
       " 'HrmBnd1 N2 CA  NA  70.0   116.00',\n",
       " 'HrmBnd1 N2 CA  NC  70.0   119.30',\n",
       " 'HrmBnd1 NA CA  NC  70.0   123.30',\n",
       " 'HrmBnd1 C  CA  HA  35.0   120.00',\n",
       " 'HrmBnd1 N2 CA  N2  70.0   120.00',\n",
       " 'HrmBnd1 CN CA  HA  35.0   120.00',\n",
       " 'HrmBnd1 CA CA  CN  63.0   120.00',\n",
       " 'HrmBnd1 C  CB  CB  63.0   119.20',\n",
       " 'HrmBnd1 C  CB  NB  70.0   130.00',\n",
       " 'HrmBnd1 CA CB  CB  63.0   117.30',\n",
       " 'HrmBnd1 CA CB  NB  70.0   132.40',\n",
       " 'HrmBnd1 CB CB  N*  70.0   106.20',\n",
       " 'HrmBnd1 CB CB  NB  70.0   110.40',\n",
       " 'HrmBnd1 CB CB  NC  70.0   127.70',\n",
       " 'HrmBnd1 N* CB  NC  70.0   126.20',\n",
       " 'HrmBnd1 C* CB  CA  63.0   134.90',\n",
       " 'HrmBnd1 C* CB  CN  63.0   108.80',\n",
       " 'HrmBnd1 CA CB  CN  63.0   116.20',\n",
       " 'HrmBnd1 H5 CK  N*  35.0   123.05',\n",
       " 'HrmBnd1 H5 CK  NB  35.0   123.05',\n",
       " 'HrmBnd1 N* CK  NB  70.0   113.90',\n",
       " 'HrmBnd1 C  CM  CM  63.0   120.70',\n",
       " 'HrmBnd1 C  CM  CT  70.0   119.70',\n",
       " 'HrmBnd1 C  CM  HA  35.0   119.70',\n",
       " 'HrmBnd1 C  CM  H4  35.0   119.70',\n",
       " 'HrmBnd1 CA CM  CM  63.0   117.00',\n",
       " 'HrmBnd1 CA CM  HA  35.0   123.30',\n",
       " 'HrmBnd1 CA CM  H4  35.0   123.30',\n",
       " 'HrmBnd1 CM CM  CT  70.0   119.70',\n",
       " 'HrmBnd1 CM CM  HA  35.0   119.70',\n",
       " 'HrmBnd1 CM CM  H4  35.0   119.70',\n",
       " 'HrmBnd1 CM CM  N*  70.0   121.20',\n",
       " 'HrmBnd1 H4 CM  N*  35.0   119.10',\n",
       " 'HrmBnd1 H5 CQ  NC  35.0   115.45',\n",
       " 'HrmBnd1 NC CQ  NC  70.0   129.10',\n",
       " 'HrmBnd1 CM CT  HC  50.0   109.50',\n",
       " 'HrmBnd1 CT CT  CT  40.0   109.50',\n",
       " 'HrmBnd1 CT CT  HC  50.0   109.50',\n",
       " 'HrmBnd1 CT CT  H1  50.0   109.50',\n",
       " 'HrmBnd1 CT CT  H2  50.0   109.50',\n",
       " 'HrmBnd1 CT CT  HP  50.0   109.50',\n",
       " 'HrmBnd1 CT CT  N*  50.0   109.50',\n",
       " 'HrmBnd1 CT CT  OH  50.0   109.50',\n",
       " 'HrmBnd1 CT CT  OS  50.0   109.50',\n",
       " 'HrmBnd1 HC CT  HC  35.0   109.50',\n",
       " 'HrmBnd1 H1 CT  H1  35.0   109.50',\n",
       " 'HrmBnd1 HP CT  HP  35.0   109.50',\n",
       " 'HrmBnd1 H2 CT  N*  50.0   109.50',\n",
       " 'HrmBnd1 H1 CT  N*  50.0   109.50',\n",
       " 'HrmBnd1 H1 CT  OH  50.0   109.50',\n",
       " 'HrmBnd1 H1 CT  OS  50.0   109.50',\n",
       " 'HrmBnd1 H2 CT  OS  50.0   109.50',\n",
       " 'HrmBnd1 N* CT  OS  50.0   109.50',\n",
       " 'HrmBnd1 H1 CT  N   50.0   109.50',\n",
       " 'HrmBnd1 C  CT  H1  50.0   109.50',\n",
       " 'HrmBnd1 C  CT  HP  50.0   109.50',\n",
       " 'HrmBnd1 H1 CT  S   50.0   109.50',\n",
       " 'HrmBnd1 H1 CT  SH  50.0   109.50',\n",
       " 'HrmBnd1 CT CT  S   50.0   114.70',\n",
       " 'HrmBnd1 CT CT  SH  50.0   108.60',\n",
       " 'HrmBnd1 H2 CT  H2  35.0   109.50',\n",
       " 'HrmBnd1 H1 CT  N2  50.0   109.50',\n",
       " 'HrmBnd1 HP CT  N3  50.0   109.50',\n",
       " 'HrmBnd1 CA CT  CT  63.0   114.00',\n",
       " 'HrmBnd1 C  CT  HC  50.0   109.50',\n",
       " 'HrmBnd1 C  CT  N   63.0   110.10',\n",
       " 'HrmBnd1 CT CT  N2  80.0   111.20',\n",
       " 'HrmBnd1 CT CT  N   80.0   109.70',\n",
       " 'HrmBnd1 C  CT  CT  63.0   111.10',\n",
       " 'HrmBnd1 CA CT  HC  50.0   109.50',\n",
       " 'HrmBnd1 CT CT  N3  80.0   111.20',\n",
       " 'HrmBnd1 CC CT  CT  63.0   113.10',\n",
       " 'HrmBnd1 CC CT  HC  50.0   109.50',\n",
       " 'HrmBnd1 C  CT  N3  80.0   111.20',\n",
       " 'HrmBnd1 C* CT  CT  63.0   115.60',\n",
       " 'HrmBnd1 C* CT  HC  50.0   109.50',\n",
       " 'HrmBnd1 CT CC  NA  70.0   120.00',\n",
       " 'HrmBnd1 CT CC  CV  70.0   120.00',\n",
       " 'HrmBnd1 CT CC  NB  70.0   120.00',\n",
       " 'HrmBnd1 CV CC  NA  70.0   120.00',\n",
       " 'HrmBnd1 CW CC  NA  70.0   120.00',\n",
       " 'HrmBnd1 CW CC  NB  70.0   120.00',\n",
       " 'HrmBnd1 CT CC  CW  70.0   120.00',\n",
       " 'HrmBnd1 H5 CR  NA  35.0   120.00',\n",
       " 'HrmBnd1 H5 CR  NB  35.0   120.00',\n",
       " 'HrmBnd1 NA CR  NA  70.0   120.00',\n",
       " 'HrmBnd1 NA CR  NB  70.0   120.00',\n",
       " 'HrmBnd1 CC CV  H4  35.0   120.00',\n",
       " 'HrmBnd1 CC CV  NB  70.0   120.00',\n",
       " 'HrmBnd1 H4 CV  NB  35.0   120.00',\n",
       " 'HrmBnd1 CC CW  H4  35.0   120.00',\n",
       " 'HrmBnd1 CC CW  NA  70.0   120.00',\n",
       " 'HrmBnd1 H4 CW  NA  35.0   120.00',\n",
       " 'HrmBnd1 C* CW  H4  35.0   120.00',\n",
       " 'HrmBnd1 C* CW  NA  70.0   108.70',\n",
       " 'HrmBnd1 CT C*  CW  70.0   125.00',\n",
       " 'HrmBnd1 CB C*  CT  70.0   128.60',\n",
       " 'HrmBnd1 CB C*  CW  63.0   106.40',\n",
       " 'HrmBnd1 CA CN  NA  70.0   132.80',\n",
       " 'HrmBnd1 CB CN  NA  70.0   104.40',\n",
       " 'HrmBnd1 CA CN  CB  63.0   122.70',\n",
       " 'HrmBnd1 C  N   CT  50.0   121.90',\n",
       " 'HrmBnd1 C  N   H   30.0   120.00',\n",
       " 'HrmBnd1 CT N   H   30.0   118.04',\n",
       " 'HrmBnd1 CT N   CT  50.0   118.00',\n",
       " 'HrmBnd1 H  N   H   35.0   120.00',\n",
       " 'HrmBnd1 C  N*  CM  70.0   121.60',\n",
       " 'HrmBnd1 C  N*  CT  70.0   117.60',\n",
       " 'HrmBnd1 C  N*  H   30.0   119.20',\n",
       " 'HrmBnd1 CB N*  CK  70.0   105.40',\n",
       " 'HrmBnd1 CB N*  CT  70.0   125.80',\n",
       " 'HrmBnd1 CB N*  H   30.0   125.80',\n",
       " 'HrmBnd1 CK N*  CT  70.0   128.80',\n",
       " 'HrmBnd1 CK N*  H   30.0   128.80',\n",
       " 'HrmBnd1 CM N*  CT  70.0   121.20',\n",
       " 'HrmBnd1 CM N*  H   30.0   121.20',\n",
       " 'HrmBnd1 CA N2  H   35.0   120.00',\n",
       " 'HrmBnd1 H  N2  H   35.0   120.00',\n",
       " 'HrmBnd1 CT N2  H   35.0   118.40',\n",
       " 'HrmBnd1 CA N2  CT  50.0   123.20',\n",
       " 'HrmBnd1 CT N3  H   50.0   109.50',\n",
       " 'HrmBnd1 CT N3  CT  50.0   109.50',\n",
       " 'HrmBnd1 H  N3  H   35.0   109.50',\n",
       " 'HrmBnd1 C  NA  C   70.0   126.40',\n",
       " 'HrmBnd1 C  NA  CA  70.0   125.20',\n",
       " 'HrmBnd1 C  NA  H   30.0   116.80',\n",
       " 'HrmBnd1 CA NA  H   30.0   118.00',\n",
       " 'HrmBnd1 CC NA  CR  70.0   120.00',\n",
       " 'HrmBnd1 CC NA  H   30.0   120.00',\n",
       " 'HrmBnd1 CR NA  CW  70.0   120.00',\n",
       " 'HrmBnd1 CR NA  H   30.0   120.00',\n",
       " 'HrmBnd1 CW NA  H   30.0   120.00',\n",
       " 'HrmBnd1 CN NA  CW  70.0   111.60',\n",
       " 'HrmBnd1 CN NA  H   30.0   123.10',\n",
       " 'HrmBnd1 CB NB  CK  70.0   103.80',\n",
       " 'HrmBnd1 CC NB  CR  70.0   117.00',\n",
       " 'HrmBnd1 CR NB  CV  70.0   117.00',\n",
       " 'HrmBnd1 C  NC  CA  70.0   120.50',\n",
       " 'HrmBnd1 CA NC  CB  70.0   112.20',\n",
       " 'HrmBnd1 CA NC  CQ  70.0   118.60',\n",
       " 'HrmBnd1 CB NC  CQ  70.0   111.00',\n",
       " 'HrmBnd1 C  OH  HO  35.0   113.00',\n",
       " 'HrmBnd1 CT OH  HO  55.0   108.50',\n",
       " 'HrmBnd1 HO OH  P   45.0   108.50',\n",
       " 'HrmBnd1 CT OS  CT  60.0   109.50',\n",
       " 'HrmBnd1 CT OS  P   100.0  120.50',\n",
       " 'HrmBnd1 P  OS  P   100.0  120.50',\n",
       " 'HrmBnd1 O2 P   OH  45.0   108.23',\n",
       " 'HrmBnd1 O2 P   O2  140.0  119.90',\n",
       " 'HrmBnd1 O2 P   OS  100.0  108.23',\n",
       " 'HrmBnd1 OH P   OS  45.0   102.60',\n",
       " 'HrmBnd1 OS P   OS  45.0   102.60',\n",
       " 'HrmBnd1 CT S   CT  62.0   98.90',\n",
       " 'HrmBnd1 CT S   S   68.0   103.70',\n",
       " 'HrmBnd1 CT SH  HS  43.0   96.00',\n",
       " 'HrmBnd1 HS SH  HS  35.0   92.07',\n",
       " 'HrmBnd1 F  CT  F   77.0   109.10',\n",
       " 'HrmBnd1 F  CT  H1  35.0   109.50',\n",
       " '',\n",
       " 'AmbTrs *  C   CA  *   0     180   0     0     0.00   14.50  0.00   0.00   4.0',\n",
       " 'AmbTrs *  C   CB  *   0     180   0     0     0.00   12.00  0.00   0.00   4.0',\n",
       " 'AmbTrs *  C   CM  *   0     180   0     0     0.00   8.70   0.00   0.00   4.0',\n",
       " 'AmbTrs *  C   N*  *   0     180   0     0     0.00   5.80   0.00   0.00   4.0',\n",
       " 'AmbTrs *  C   NA  *   0     180   0     0     0.00   5.40   0.00   0.00   4.0',\n",
       " 'AmbTrs *  C   NC  *   0     180   0     0     0.00   8.00   0.00   0.00   2.0',\n",
       " 'AmbTrs *  C   OH  *   0     180   0     0     0.00   1.80   0.00   0.00   2.0',\n",
       " 'AmbTrs *  C   CT  *   0     0     0     0     0.00   0.00   0.00   0.00   4.0',\n",
       " 'AmbTrs *  CA  CA  *   0     180   0     0     0.00   14.50  0.00   0.00   4.0',\n",
       " 'AmbTrs *  CA  CB  *   0     180   0     0     0.00   14.00  0.00   0.00   4.0',\n",
       " 'AmbTrs *  CA  CM  *   0     180   0     0     0.00   10.20  0.00   0.00   4.0',\n",
       " 'AmbTrs *  CA  CT  *   0     0     0     0     0.00   0.00   0.00   0.00   6.0',\n",
       " 'AmbTrs *  CA  N2  *   0     180   0     0     0.00   9.60   0.00   0.00   4.0',\n",
       " 'AmbTrs *  CA  NA  *   0     180   0     0     0.00   6.00   0.00   0.00   4.0',\n",
       " 'AmbTrs *  CA  NC  *   0     180   0     0     0.00   9.60   0.00   0.00   2.0',\n",
       " 'AmbTrs *  CB  CB  *   0     180   0     0     0.00   21.80  0.00   0.00   4.0',\n",
       " 'AmbTrs *  CB  N*  *   0     180   0     0     0.00   6.60   0.00   0.00   4.0',\n",
       " 'AmbTrs *  CB  NB  *   0     180   0     0     0.00   5.10   0.00   0.00   2.0',\n",
       " 'AmbTrs *  CB  NC  *   0     180   0     0     0.00   8.30   0.00   0.00   2.0',\n",
       " 'AmbTrs *  CK  N*  *   0     180   0     0     0.00   6.80   0.00   0.00   4.0',\n",
       " 'AmbTrs *  CK  NB  *   0     180   0     0     0.00   20.00  0.00   0.00   2.0',\n",
       " 'AmbTrs *  CM  CM  *   0     180   0     0     0.00   26.60  0.00   0.00   4.0',\n",
       " 'AmbTrs *  CM  CT  *   0     0     0     0     0.00   0.00   0.00   0.00   6.0',\n",
       " 'AmbTrs *  CM  N*  *   0     180   0     0     0.00   7.40   0.00   0.00   4.0',\n",
       " 'AmbTrs *  CQ  NC  *   0     180   0     0     0.00   13.60  0.00   0.00   2.0',\n",
       " 'AmbTrs *  CT  CT  *   0     0     0     0     0.00   0.00   1.40   0.00   9.0',\n",
       " 'AmbTrs *  CT  N   *   0     0     0     0     0.00   0.00   0.00   0.00   6.0',\n",
       " 'AmbTrs *  CT  N*  *   0     0     0     0     0.00   0.00   0.00   0.00   6.0',\n",
       " 'AmbTrs *  CT  N2  *   0     0     0     0     0.00   0.00   0.00   0.00   6.0',\n",
       " 'AmbTrs *  CT  OH  *   0     0     0     0     0.00   0.00   0.50   0.00   3.0',\n",
       " 'AmbTrs *  CT  OS  *   0     0     0     0     0.00   0.00   1.15   0.00   3.0',\n",
       " 'AmbTrs *  OH  P   *   0     0     0     0     0.00   0.00   0.75   0.00   3.0',\n",
       " 'AmbTrs *  OS  P   *   0     0     0     0     0.00   0.00   0.75   0.00   3.0',\n",
       " 'AmbTrs *  C   N   *   0     180   0     0     0.00   10.00  0.00   0.00   4.0',\n",
       " 'AmbTrs *  CT  N3  *   0     0     0     0     0.00   0.00   1.40   0.00   9.0',\n",
       " 'AmbTrs *  CT  S   *   0     0     0     0     0.00   0.00   1.00   0.00   3.0',\n",
       " 'AmbTrs *  CT  SH  *   0     0     0     0     0.00   0.00   0.75   0.00   3.0',\n",
       " 'AmbTrs *  C*  CB  *   0     180   0     0     0.00   6.70   0.00   0.00   4.0',\n",
       " 'AmbTrs *  C*  CT  *   0     0     0     0     0.00   0.00   0.00   0.00   6.0',\n",
       " 'AmbTrs *  C*  CW  *   0     180   0     0     0.00   26.10  0.00   0.00   4.0',\n",
       " 'AmbTrs *  CA  CN  *   0     180   0     0     0.00   14.50  0.00   0.00   4.0',\n",
       " 'AmbTrs *  CB  CN  *   0     180   0     0     0.00   12.00  0.00   0.00   4.0',\n",
       " 'AmbTrs *  CC  CT  *   0     0     0     0     0.00   0.00   0.00   0.00   6.0',\n",
       " 'AmbTrs *  CC  CV  *   0     180   0     0     0.00   20.60  0.00   0.00   4.0',\n",
       " 'AmbTrs *  CC  CW  *   0     180   0     0     0.00   21.50  0.00   0.00   4.0',\n",
       " 'AmbTrs *  CC  NA  *   0     180   0     0     0.00   5.60   0.00   0.00   4.0',\n",
       " 'AmbTrs *  CC  NB  *   0     180   0     0     0.00   4.80   0.00   0.00   2.0',\n",
       " 'AmbTrs *  CN  NA  *   0     180   0     0     0.00   6.10   0.00   0.00   4.0',\n",
       " 'AmbTrs *  CR  NA  *   0     180   0     0     0.00   9.30   0.00   0.00   4.0',\n",
       " 'AmbTrs *  CR  NB  *   0     180   0     0     0.00   10.00  0.00   0.00   2.0',\n",
       " 'AmbTrs *  CV  NB  *   0     180   0     0     0.00   4.80   0.00   0.00   2.0',\n",
       " 'AmbTrs *  CW  NA  *   0     180   0     0     0.00   6.00   0.00   0.00   4.0',\n",
       " 'AmbTrs CT CT  OS  CT  0     180   0     0     0.00   0.1    0.383  0.00   1.0',\n",
       " 'AmbTrs C  N   CT  C   0     180   0     0     0.85   0.30   0.00   0.00   1.0',\n",
       " 'AmbTrs N  CT  C   N   0     180   0     0     0.85   0.30   0.00   0.00   1.0',\n",
       " 'AmbTrs CT CT  N   C   0     0     180   180   0.53   0.00   0.15   0.50   1.0',\n",
       " 'AmbTrs CT CT  C   N   0     0     0     0     0.00   0.07   0.00   0.100  1.0',\n",
       " 'AmbTrs H  N   C   O   0     180   0     0     2.00   2.50   0.00   0.00   1.0',\n",
       " 'AmbTrs CT S   S   CT  0     0     0     0     0.00   3.50   0.60   0.00   1.0',\n",
       " 'AmbTrs OS CT  CT  OS  0     0     0     0     0.00   1.00   0.144  0.00   1.0',\n",
       " 'AmbTrs OS CT  CT  OH  0     0     0     0     0.00   1.00   0.144  0.00   1.0',\n",
       " 'AmbTrs OH CT  CT  OH  0     0     0     0     0.00   1.00   0.144  0.00   1.0',\n",
       " 'AmbTrs OH P   OS  CT  0     0     0     0     0.00   1.20   0.25   0.00   1.0',\n",
       " 'AmbTrs OS P   OS  CT  0     0     0     0     0.00   1.20   0.25   0.00   1.0',\n",
       " 'AmbTrs OS CT  N*  CK  0     180   0     0     2.50   0.50   0.00   0.00   1.0',\n",
       " 'AmbTrs OS CT  N*  CM  0     180   0     0     2.50   0.50   0.00   0.00   1.0',\n",
       " '',\n",
       " 'ImpTrs *  *  C   O   10.5   180.  2.',\n",
       " 'ImpTrs *  O2 C   O2  10.5   180.  2.',\n",
       " 'ImpTrs *  *  N   H   1.0    180.  2.',\n",
       " 'ImpTrs *  *  N2  H   1.0    180.  2.',\n",
       " 'ImpTrs *  *  NA  H   1.0    180.  2.',\n",
       " 'ImpTrs *  N2 CA  N2  10.5   180.  2.',\n",
       " 'ImpTrs *  CT N   CT  1.0    180.  2.',\n",
       " 'ImpTrs *  *  CA  HA  1.1    180.  2.',\n",
       " 'ImpTrs *  *  CW  H4  1.1    180.  2.',\n",
       " 'ImpTrs *  *  CR  H5  1.1    180.  2.',\n",
       " 'ImpTrs *  *  CV  H4  1.1    180.  2.',\n",
       " 'ImpTrs *  *  CQ  H5  1.1    180.  2.',\n",
       " 'ImpTrs *  *  CK  H5  1.1    180.  2.',\n",
       " 'ImpTrs *  *  CM  H4  1.1    180.  2.',\n",
       " 'ImpTrs *  *  CM  HA  1.1    180.  2.',\n",
       " 'ImpTrs *  *  CA  H4  1.1    180.  2.',\n",
       " 'ImpTrs *  *  CA  H5  1.1    180.  2.',\n",
       " 'ImpTrs CK CB N*  CT  1.0    180.  2.',\n",
       " 'ImpTrs CM C  N*  CT  1.0    180.  2.',\n",
       " 'ImpTrs CM C  CM  CT  1.1    180.  2.',\n",
       " 'ImpTrs CT O  C   OH  10.5   180.  2.',\n",
       " 'ImpTrs NA CV CC  CT  1.1    180.  2.',\n",
       " 'ImpTrs NB CW CC  CT  1.1    180.  2.',\n",
       " 'ImpTrs NA CW CC  CT  1.1    180.  2.',\n",
       " 'ImpTrs CW CB C*  CT  1.1    180.  2.',\n",
       " 'ImpTrs CA CA CA  CT  1.1    180.  2.',\n",
       " 'ImpTrs C  CM CM  CT  1.1    180.  2.',\n",
       " 'ImpTrs NC CM CA  N2  1.1    180.  2.',\n",
       " 'ImpTrs CB NC CA  N2  1.1    180.  2.',\n",
       " 'ImpTrs NA NC CA  N2  1.1    180.  2.',\n",
       " 'ImpTrs CA CA C   OH  1.1    180.  2.',\n",
       " '',\n",
       " 'VDW H  0.6000 0.0157',\n",
       " 'VDW HO 0.0000 0.0000',\n",
       " 'VDW HS 0.6000 0.0157',\n",
       " 'VDW HC 1.4870 0.0157',\n",
       " 'VDW H1 1.3870 0.0157',\n",
       " 'VDW H2 1.2870 0.0157',\n",
       " 'VDW H3 1.1870 0.0157',\n",
       " 'VDW HP 1.1000 0.0157',\n",
       " 'VDW HA 1.4590 0.0150',\n",
       " 'VDW H4 1.4090 0.0150',\n",
       " 'VDW H5 1.3590 0.0150',\n",
       " 'VDW HW 0.0000 0.0000',\n",
       " 'VDW O  1.6612 0.2100',\n",
       " 'VDW O2 1.6612 0.2100',\n",
       " 'VDW OW 1.7683 0.1520',\n",
       " 'VDW OH 1.7210 0.2104',\n",
       " 'VDW OS 1.6837 0.1700',\n",
       " 'VDW CT 1.9080 0.1094',\n",
       " 'VDW CA 1.9080 0.0860',\n",
       " 'VDW CM 1.9080 0.0860',\n",
       " 'VDW C  1.9080 0.0860',\n",
       " 'VDW N  1.8240 0.1700',\n",
       " 'VDW N3 1.8240 0.1700',\n",
       " 'VDW S  2.0000 0.2500',\n",
       " 'VDW SH 2.0000 0.2500',\n",
       " 'VDW P  2.1000 0.2000',\n",
       " 'VDW IM 2.47   0.1',\n",
       " 'VDW Li 1.1370 0.0183',\n",
       " 'VDW IP 1.8680 0.00277',\n",
       " 'VDW K  2.6580 0.000328',\n",
       " 'VDW Rb 2.9560 0.00017',\n",
       " 'VDW Cs 3.3950 0.0000806',\n",
       " 'VDW I  2.35   0.40',\n",
       " 'VDW F  1.75   0.061',\n",
       " 'VDW IB 5.0    0.1']"
      ]
     },
     "execution_count": 226,
     "metadata": {},
     "output_type": "execute_result"
    }
   ],
   "source": [
    "test_amb96"
   ]
  },
  {
   "cell_type": "code",
   "execution_count": 147,
   "metadata": {
    "collapsed": false
   },
   "outputs": [],
   "source": [
    "test_b = test_amb96[2:85]\n",
    "b = [l.strip() for l in amb96[7:90]]\n",
    "\n",
    "test_a = test_amb96[86:277]\n",
    "a = [l.strip() for l in amb96[93:284]]\n",
    "\n",
    "[l.split() for l in a] == [l.split() for l in test_a]\n",
    "\n",
    "test_t = test_amb96[278:344]\n",
    "t = [l.strip() for l in amb96[287:346]]\n",
    "\n",
    "#[l.split() for l in t], [l.split() for l in test_t]"
   ]
  },
  {
   "cell_type": "code",
   "execution_count": 153,
   "metadata": {
    "collapsed": false
   },
   "outputs": [
    {
     "data": {
      "text/plain": [
       "(81, 83)"
      ]
     },
     "execution_count": 153,
     "metadata": {},
     "output_type": "execute_result"
    }
   ],
   "source": [
    "len(g_mm.extract_bonds()), len(test_b)"
   ]
  },
  {
   "cell_type": "code",
   "execution_count": 154,
   "metadata": {
    "collapsed": false
   },
   "outputs": [
    {
     "data": {
      "text/plain": [
       "'1.23  '"
      ]
     },
     "execution_count": 154,
     "metadata": {},
     "output_type": "execute_result"
    }
   ],
   "source": [
    "f=1.234\n",
    "'{:<6.2f}'.format(f)"
   ]
  },
  {
   "cell_type": "code",
   "execution_count": 176,
   "metadata": {
    "collapsed": false
   },
   "outputs": [
    {
     "data": {
      "text/plain": [
       "['CT',\n",
       " 'CT',\n",
       " 'N',\n",
       " 'C',\n",
       " 0.0,\n",
       " '0.0',\n",
       " 4,\n",
       " 0.4,\n",
       " '0.0',\n",
       " 3,\n",
       " 2.0,\n",
       " '0.0',\n",
       " 2,\n",
       " 2.0,\n",
       " '0.0',\n",
       " 1]"
      ]
     },
     "execution_count": 176,
     "metadata": {},
     "output_type": "execute_result"
    }
   ],
   "source": [
    "[t for t in amber_parser.torsions if t[:4] == ['CT','CT','N','C']][-1]"
   ]
  },
  {
   "cell_type": "code",
   "execution_count": 90,
   "metadata": {
    "collapsed": false
   },
   "outputs": [
    {
     "data": {
      "text/plain": [
       "[3.625, '180.0', 2]"
      ]
     },
     "execution_count": 90,
     "metadata": {},
     "output_type": "execute_result"
    }
   ],
   "source": [
    "l='X -C -C -X    4   14.50        180.0             2.         Junmei et al, 1999\\n'\n",
    "line=l.strip()\n",
    "fields = line[11:].split()\n",
    "fields\n",
    "periodicity = int(float(fields[3]))\n",
    "[float(fields[1]) / float(fields[0]), fields[2], abs(periodicity)]"
   ]
  },
  {
   "cell_type": "code",
   "execution_count": 92,
   "metadata": {
    "collapsed": false
   },
   "outputs": [
    {
     "data": {
      "text/plain": [
       "2"
      ]
     },
     "execution_count": 92,
     "metadata": {},
     "output_type": "execute_result"
    }
   ],
   "source": [
    "periodicity"
   ]
  },
  {
   "cell_type": "code",
   "execution_count": 91,
   "metadata": {
    "collapsed": false
   },
   "outputs": [
    {
     "data": {
      "text/plain": [
       "['X', 'C', 'C', 'X', 3.625, '180.0', 2]"
      ]
     },
     "execution_count": 91,
     "metadata": {},
     "output_type": "execute_result"
    }
   ],
   "source": [
    "[line[:2].strip(), line[3:5].strip(), line[6:8].strip(), line[9:11].strip(), float(fields[1]) / float(fields[0]), fields[2], abs(periodicity)]"
   ]
  },
  {
   "cell_type": "code",
   "execution_count": 186,
   "metadata": {
    "collapsed": false
   },
   "outputs": [
    {
     "data": {
      "text/plain": [
       "(169, 169)"
      ]
     },
     "execution_count": 186,
     "metadata": {},
     "output_type": "execute_result"
    }
   ],
   "source": [
    "len([l for l in final_param_str.split('\\n') if 'AmbTrs' in l]), len([l for l in x if 'Proper' in l])"
   ]
  },
  {
   "cell_type": "code",
   "execution_count": null,
   "metadata": {
    "collapsed": false
   },
   "outputs": [],
   "source": [
    "from chem_utils import *\n",
    "from molmod.io import XYZReader\n",
    "\n",
    "non_standard_index = [64,65,66]\n",
    "non_std_res = non_standard_index[0]\n",
    "non_std_atom_indexes = [a['serial_number']-1 for a in B.PDBModel(master_pdb).resList()[non_std_res]]\n",
    "\n",
    "master_xyz = XYZReader(pdb_code + '_master.xyz').get_first_molecule()\n",
    "master_xyz.set_default_graph()\n",
    "\n",
    "gaff_atoms, gaff_bonds = mol2_parse(pdb_code +'_master_gaff.mol2')\n",
    "amber_atoms, amber_bonds = mol2_parse(pdb_code +'_master_amber.mol2')\n",
    "#get bonds,angles and dihedrals required for atoms spanning the nonstandard residues and the standard residues\n",
    "master_lookup = get_bad(master_xyz, gaff_atoms, amber_atoms, non_std_atom_indexes)\n",
    "bonds, angles, dihedrals = master_lookup['mixed'] \n",
    "amber_bonds, amber_angles, amber_dihedrals = master_lookup['amber']\n",
    "#extra_params = get_amber_params([amber_bonds, amber_angles, amber_dihedrals)\n",
    "#add_params('mod_capped_nonstd.frcmod', extra_params)"
   ]
  },
  {
   "cell_type": "code",
   "execution_count": null,
   "metadata": {
    "collapsed": false
   },
   "outputs": [],
   "source": [
    "amber_dihedrals"
   ]
  },
  {
   "cell_type": "code",
   "execution_count": null,
   "metadata": {
    "collapsed": false
   },
   "outputs": [],
   "source": []
  },
  {
   "cell_type": "code",
   "execution_count": null,
   "metadata": {
    "collapsed": false
   },
   "outputs": [],
   "source": [
    "\n",
    "#for i,atom in enumerate(protein):\n",
    "#    atom.flag = amber_atoms[i].symbol\n",
    "#    atom.charge = amber_atoms[i].charge\n",
    "#protein.set_calculator(Gaussian(label='test_oniom_bio',method='oniom'))\n",
    "#protein.calc.set_ff_params(gaus_amber_params)\n",
    "\n",
    "\n",
    "get_partial_charges(mol)\n",
    "get_pdb_names(pdb)\n",
    "get"
   ]
  },
  {
   "cell_type": "code",
   "execution_count": null,
   "metadata": {
    "collapsed": false
   },
   "outputs": [],
   "source": []
  },
  {
   "cell_type": "code",
   "execution_count": null,
   "metadata": {
    "collapsed": false
   },
   "outputs": [],
   "source": [
    "def get_amber_info(pdb_fn):\n",
    "    \"\"\"Reads a PDB and extracts the parameters needed for using amber on the protein\"\"\"\n",
    "    parser = Bio.PDB.PDBParser()\n",
    "    protein=parser.get_structure(pdb_fn.replace('.pdb',''), pdb_fn)\n",
    "    protein_atoms = [a for a in protein.get_atoms()]\n",
    "    \n",
    "    pdb_names = [a.name for a in protein_atoms]\n",
    "    pdb_resnames = [a.parent.resname for a in protein_atoms]\n",
    "    pdb_resnums = [a.parent.id[1] for a in protein_atoms]\n",
    "    atom_types = "
   ]
  },
  {
   "cell_type": "code",
   "execution_count": null,
   "metadata": {
    "collapsed": false
   },
   "outputs": [],
   "source": [
    "import Bio\n",
    "pdb_fn = '1GFL_master.pdb'\n",
    "parser = Bio.PDB.PDBParser()\n",
    "protein=parser.get_structure(pdb_fn.replace('.pdb',''), pdb_fn)\n",
    "protein_atoms = [a for a in protein.get_atoms"
   ]
  },
  {
   "cell_type": "code",
   "execution_count": null,
   "metadata": {
    "collapsed": false
   },
   "outputs": [],
   "source": [
    "a=protein_atoms[1]\n",
    "residues = [r for r in protein.get_residues()]\n",
    "r=residues[10].id[1]\n",
    "r"
   ]
  },
  {
   "cell_type": "code",
   "execution_count": null,
   "metadata": {
    "collapsed": false
   },
   "outputs": [],
   "source": [
    "#frcmod_fn, dat_param_path = os.path.split(vers)\n",
    "#dat_param_path\n",
    "#print(write_gauss_amber_params())\n",
    "\n",
    "dict_in_dict = lambda d1,d2: all(item in d2.items() for item in d1.items())\n",
    "\n",
    "frcmod_elements = [b['element'] for b in non_std_params['types']]\n",
    "parm_elements = [b['element'] for b in parm96_params['types']]\n",
    "\n",
    "frcmod_pairs = [[b['t1'],b['t2']] for b in non_std_params['bondLengths']]\n",
    "parm_pairs = [[b['t1'],b['t2']] for b in parm96_params['bondLengths']]\n",
    "rev_parm_pairs = [list(reversed(p)) for p in parm_pairs]\n",
    "\n",
    "frcmod_triples = [[b['t1'],b['t2'],b['t3']] for b in non_std_params['bondAngles']]\n",
    "parm_triples = [[b['t1'],b['t2'],b['t3']] for b in parm96_params['bondAngles']]\n",
    "rev_parm_triples = [list(reversed(p)) for p in parm_triples]\n",
    "\n",
    "frcmod_quads = [[b['t1'],b['t2'],b['t3'],b['t4']] for b in non_std_params['bondTorsions']]\n",
    "parm_quads = [[b['t1'],b['t2'],b['t3'],b['t4']] for b in parm96_params['bondTorsions']]\n",
    "rev_parm_quads = [list(reversed(p)) for p in parm_quads]\n",
    "\n",
    "frcmod_iquads = [[b['t1'],b['t2'],b['t3'],b['t4']] for b in non_std_params['bondImpropers']]\n",
    "parm_iquads = [[b['t1'],b['t2'],b['t3'],b['t4']] for b in parm96_params['bondImpropers']]\n",
    "rev_parm_iquads = [list(reversed(p)) for p in parm_iquads]\n",
    "\n",
    "new_elements = [p for p in frcmod_elements if p not in parm_elements]\n",
    "new_pairs = [p for p in frcmod_pairs if p not in parm_pairs and p not in rev_parm_pairs]\n",
    "new_triples = [p for p in frcmod_triples if p not in parm_triples and p not in rev_parm_triples]\n",
    "new_quads = [p for p in frcmod_quads if p not in parm_quads and p not in rev_parm_quads]\n",
    "new_iquads = [p for p in frcmod_iquads if p not in parm_iquads and p not in rev_parm_iquads]\n",
    "\n",
    "reduced_non_std_params = {'types':[],'bondLengths':[],'bondAngles':[], 'bondTorsions':[], 'bondImpropers':[]}\n",
    "\n",
    "reduced_non_std_params['types'] = [e for e in non_std_params['types'] if e['element'] in new_elements]\n",
    "reduced_non_std_params['bondLengths'] = [e for e in non_std_params['bondLengths'] if [e['t1'],e['t2']] in new_pairs]\n",
    "reduced_non_std_params['bondAngles'] = [e for e in non_std_params['bondAngles'] if [e['t1'],e['t2'],e['t3']] in new_triples]\n",
    "reduced_non_std_params['bondTorsions'] = [e for e in non_std_params['bondTorsions'] if [e['t1'],e['t2'],e['t3'],e['t4']] in new_quads]\n",
    "reduced_non_std_params['bondImpropers'] = [e for e in non_std_params['bondImpropers'] if [e['t1'],e['t2'],e['t3'],e['t4']] in new_iquads]"
   ]
  },
  {
   "cell_type": "code",
   "execution_count": null,
   "metadata": {
    "collapsed": false
   },
   "outputs": [],
   "source": [
    "new_pairs, new_triples, new_quads, new_iquads"
   ]
  },
  {
   "cell_type": "code",
   "execution_count": null,
   "metadata": {
    "collapsed": false
   },
   "outputs": [],
   "source": [
    "{'a':1,'b':2}.items()"
   ]
  },
  {
   "cell_type": "code",
   "execution_count": null,
   "metadata": {
    "collapsed": false
   },
   "outputs": [],
   "source": [
    "{'a':1,'b':2,'c':3}.items()"
   ]
  },
  {
   "cell_type": "code",
   "execution_count": null,
   "metadata": {
    "collapsed": false
   },
   "outputs": [],
   "source": []
  },
  {
   "cell_type": "code",
   "execution_count": null,
   "metadata": {
    "collapsed": false
   },
   "outputs": [],
   "source": [
    "def sum_dihedrals(unsummed_dihedrals):\n",
    "    for torsion in unsummed_dihedrals:\n",
    "        comp=abs(int(torsion.pop('Nt').split('.')[0]))\n",
    "        torsion.update({'gamma_{c}'.format(c=comp):torsion.pop('gamma')})\n",
    "        torsion.update({'Vn_{c}'.format(c=comp):torsion.pop('Vn')})\n",
    "    \n",
    "    unique_dihedrals = set([(t['t1'],t['t2'],t['t3'],t['t4']) for t in unsummed_dihedrals])\n",
    "    for unique_dihedral in unique_dihedrals:\n",
    "        torsion = next(t for t in unsummed_dihedrals if t and (t['t1'], t['t2'], t['t3'], t['t4']) == unique_dihedral)\n",
    "        torsion_inds = [i for i,t in enumerate(unsummed_dihedrals) if t and (t['t1'], t['t2'], t['t3'], t['t4']) == unique_dihedral]\n",
    "    \n",
    "        for torsion_ind in torsion_inds:\n",
    "            torsion_2 = unsummed_dihedrals[torsion_ind]\n",
    "            if (torsion['t1'], torsion['t2'], torsion['t3'], torsion['t4']) == (torsion_2['t1'], torsion_2['t2'], torsion_2['t3'], torsion_2['t4']) and torsion is not torsion_2:\n",
    "                torsion.update(torsion_2)\n",
    "                unsummed_dihedrals[torsion_ind] = None\n",
    "    return [t for t in unsummed_dihedrals if t]\n",
    "\n",
    "\n",
    "def gen_dihedral_str(torsion):\n",
    "    if torsion['t1'] == 'X':\n",
    "        torsion['t1'] = '*'\n",
    "    if torsion['t2'] == 'X':\n",
    "        torsion['t2'] = '*'\n",
    "    if torsion['t3'] == 'X':\n",
    "        torsion['t3'] = '*'\n",
    "    if torsion['t4'] == 'X':\n",
    "        torsion['t4'] = '*'\n",
    "\n",
    "    torsion['Vn_1'] = torsion.get('Vn_1','0.00')\n",
    "    torsion['Vn_2'] = torsion.get('Vn_2','0.00')\n",
    "    torsion['Vn_3'] = torsion.get('Vn_3','0.00')\n",
    "    torsion['Vn_4'] = torsion.get('Vn_4','0.00')\n",
    "    torsion['gamma_1'] = str(int(float(torsion.get('gamma_1','0'))))\n",
    "    torsion['gamma_2'] = str(int(float(torsion.get('gamma_2','0'))))\n",
    "    torsion['gamma_3'] = str(int(float(torsion.get('gamma_3','0'))))\n",
    "    torsion['gamma_4'] = str(int(float(torsion.get('gamma_4','0'))))\n",
    "    \n",
    "\n",
    "    return 'AmbTrs {a1:<2} {a2:<3} {a3:<3} {a4:<3} {g1:<5} {g2:<5} {g3:<5} {g4:<5} {v1:<6} {v2:<6} {v3:<6} {v4:<6} {p}.0'.format(a1=torsion['t1'], a2=torsion['t2'], a3=torsion['t3'], a4=torsion['t4'],\n",
    "                                                                                                                                 g1=torsion['gamma_1'], g2=torsion['gamma_2'], g3=torsion['gamma_3'], g4=torsion['gamma_4'],\n",
    "                                                                                                                                 v1=torsion['Vn_1'], v2=torsion['Vn_2'], v3=torsion['Vn_3'], v4=torsion['Vn_4'],\n",
    "                                                                                                                                 p=torsion['npth'])\n",
    "\n",
    "    \n",
    "def gen_improper_str(improper):\n",
    "    if improper['t1'] == 'X':\n",
    "        improper['t1'] = '*'\n",
    "    if improper['t2'] == 'X':\n",
    "        improper['t2'] = '*'\n",
    "    if improper['t3'] == 'X':\n",
    "        improper['t3'] = '*'\n",
    "    if improper['t4'] == 'X':\n",
    "        improper['t4'] = '*'\n",
    "        \n",
    "    return 'ImpTrs {a1:<2} {a2:<2} {a3:<3} {a4:<3} {v:<6} {g:<5} {n}'.format(a1=improper['t1'], a2=improper['t2'], a3=improper['t3'], a4=improper['t4'],\n",
    "                                                                             g=improper['gamma'], v=improper['Vn'], n=improper['Nt'])\n",
    "\n",
    "stretches = []\n",
    "for stretch in p['bondLengths']:\n",
    "    stretches.append('HrmStr1 {a1:<2} {a2:<3} {k:<6} {bl}'.format(a1= stretch['t1'], a2 = stretch['t2'], k=stretch['keq'], bl=stretch['req']))\n",
    "angles = []\n",
    "for angle in p['bondAngles']:\n",
    "    angles.append('HrmBnd1 {a1:<2} {a2:<3} {a3:<3} {k:<6} {ang}'.format(a1= angle['t1'], a2 = angle['t2'], a3 = angle['t3'], k=angle['keq'], ang=angle['req']))\n",
    "torsions = []\n",
    "p['bondTorsions'] = sum_dihedrals(p['bondTorsions'])\n",
    "for torsion in p['bondTorsions']:\n",
    "    torsions.append(gen_dihedral_str(torsion))\n",
    "impropers = []\n",
    "for improper in p['bondImpropers']:\n",
    "    impropers.append(gen_improper_str(improper))  \n",
    "vdws = []\n",
    "for vdw in p['types']:\n",
    "    vdws.append('VDW {a:<2} {r:<6} {d}'.format(a=vdw['name'], r=vdw['vdwRadius'], d=vdw['potentialWellDepth']))\n",
    "nbnds = ['NonBon 3 1 0 0 0.000 0.000 0.500 0.000 0.000 -1.000']"
   ]
  },
  {
   "cell_type": "code",
   "execution_count": null,
   "metadata": {
    "collapsed": false
   },
   "outputs": [],
   "source": [
    "bonds,angles, dihedrals"
   ]
  },
  {
   "cell_type": "code",
   "execution_count": null,
   "metadata": {
    "collapsed": false
   },
   "outputs": [],
   "source": [
    "l[0]"
   ]
  },
  {
   "cell_type": "code",
   "execution_count": null,
   "metadata": {
    "collapsed": false
   },
   "outputs": [],
   "source": [
    "t"
   ]
  },
  {
   "cell_type": "code",
   "execution_count": null,
   "metadata": {
    "collapsed": false
   },
   "outputs": [],
   "source": [
    "orig_atoms[957:980]"
   ]
  },
  {
   "cell_type": "code",
   "execution_count": null,
   "metadata": {
    "collapsed": false
   },
   "outputs": [],
   "source": [
    "fragment_orig_atoms"
   ]
  },
  {
   "cell_type": "code",
   "execution_count": null,
   "metadata": {
    "collapsed": false
   },
   "outputs": [],
   "source": [
    "t=B.PDBModel('capped_nonstd-out.pdb')\n"
   ]
  },
  {
   "cell_type": "code",
   "execution_count": null,
   "metadata": {
    "collapsed": false
   },
   "outputs": [],
   "source": [
    "t.renameAmberRes()"
   ]
  },
  {
   "cell_type": "code",
   "execution_count": null,
   "metadata": {
    "collapsed": false
   },
   "outputs": [],
   "source": [
    "t.report()"
   ]
  },
  {
   "cell_type": "code",
   "execution_count": null,
   "metadata": {
    "collapsed": false
   },
   "outputs": [],
   "source": [
    "capped_nonstd.mergeResidues(1,name='CHR')"
   ]
  },
  {
   "cell_type": "code",
   "execution_count": null,
   "metadata": {
    "collapsed": false
   },
   "outputs": [],
   "source": [
    "capped_nonstd.atoms['residue_name']"
   ]
  },
  {
   "cell_type": "code",
   "execution_count": null,
   "metadata": {
    "collapsed": false
   },
   "outputs": [],
   "source": [
    "import scientific"
   ]
  },
  {
   "cell_type": "code",
   "execution_count": null,
   "metadata": {
    "collapsed": false
   },
   "outputs": [],
   "source": [
    "import pdb2pqr\n",
    "import copy\n",
    "from cc_notebook_utils import unwind\n",
    "pdb_f=pdb2pqr.src.structures.getPDBFile('raw_capped_nonstd.pdb')\n",
    "pdblist, errlist =pdb2pqr.src.pdb.readPDB(pdb_f)\n",
    "pdb_f.close()\n",
    "myDefinition = pdb2pqr.src.routines.Definition()\n",
    "myProtein = pdb2pqr.src.protein.Protein(pdblist, myDefinition)\n",
    "myRoutines = pdb2pqr.src.routines.Routines(myProtein, False)\n",
    "residues = myProtein.getResidues()\n",
    "atoms = unwind([r.atoms for r in residues])\n",
    "coords1 = [a.getCoords() for a in atoms]\n",
    "myRoutines.debumpResidue(residues[0],'')\n",
    "residues = myProtein.getResidues()\n",
    "atoms = unwind([r.atoms for r in residues])\n",
    "coords2 = [a.getCoords() for a in atoms]"
   ]
  },
  {
   "cell_type": "code",
   "execution_count": null,
   "metadata": {
    "collapsed": false
   },
   "outputs": [],
   "source": [
    "coords1 == coords2"
   ]
  },
  {
   "cell_type": "code",
   "execution_count": null,
   "metadata": {
    "collapsed": false
   },
   "outputs": [],
   "source": [
    "capped_nonstd.compress( capped_nonstd.maskHeavy())"
   ]
  },
  {
   "cell_type": "code",
   "execution_count": null,
   "metadata": {
    "collapsed": false
   },
   "outputs": [],
   "source": [
    "import os\n",
    "import Biskit as B\n",
    "\n",
    "pdb_code = '1GFL'\n",
    "orig_pdb = pdb_code + '.pdb'\n",
    "\n",
    "\n",
    "non_standard_index = [64,65,66]\n",
    "\n",
    "gfp_raw=B.PDBModel(orig_pdb)\n",
    "gfp_only = gfp_raw.takeChains([0])\n",
    "\n",
    "\n",
    "nonstd = gfp_only.takeResidues(non_standard_index)\n",
    "nonstd.mergeResidues(0)\n",
    "nonstd.mergeResidues(0)\n",
    "\n",
    "clean = B.PDBCleaner( nonstd )\n",
    "capped_nonstd = clean.capTerminals( nonstd, 0 )"
   ]
  },
  {
   "cell_type": "code",
   "execution_count": null,
   "metadata": {
    "collapsed": false
   },
   "outputs": [],
   "source": [
    "gfp_only = gfp_raw.takeChains([0])\n",
    "gfp_only.mergeResidues(64)\n",
    "gfp_only.mergeResidues(64)\n",
    "\n",
    "nonstd_v2 = gfp_only.takeResidues(non_standard_index[0:1])\n",
    "\n",
    "clean_2 = B.PDBCleaner( nonstd_v2 )\n",
    "capped_nonstd_v2 = clean_2.capTerminals( nonstd_v2, 0 )"
   ]
  },
  {
   "cell_type": "code",
   "execution_count": null,
   "metadata": {
    "collapsed": false
   },
   "outputs": [],
   "source": [
    "\n",
    "for i in range(len(chromo.atoms['residue_name'])):\n",
    "    chromo.atoms['residue_name'][i] = 'GFP'"
   ]
  },
  {
   "cell_type": "code",
   "execution_count": null,
   "metadata": {
    "collapsed": false
   },
   "outputs": [],
   "source": [
    "#protonation(non_standard)\n",
    "#hydrogens(non_standard)\n",
    "#get_new_res_names(non_standard)\n",
    "#non_standard.xplor2amber()\n",
    "#non_standard.writePdb('1GFL_non_standard.pdb')\n"
   ]
  },
  {
   "cell_type": "code",
   "execution_count": null,
   "metadata": {
    "collapsed": false
   },
   "outputs": [],
   "source": [
    "import Biskit as B\n",
    "\n",
    "gfp = B.PDBModel('1GFL.pdb')\n",
    "#gfp = B.PDBModel('1GFL')\n",
    "chromo = gfp.takeResidues([64,65,66])\n",
    "#del chromo.residues['biomol']   ## remove the bioUnit residue profile\n",
    "\n"
   ]
  },
  {
   "cell_type": "code",
   "execution_count": null,
   "metadata": {
    "collapsed": false
   },
   "outputs": [],
   "source": [
    "chromo, capped_chromo"
   ]
  },
  {
   "cell_type": "code",
   "execution_count": null,
   "metadata": {
    "collapsed": false
   },
   "outputs": [],
   "source": [
    "chromo.residues['biomol'][2:] += 0\n",
    "chromo.residues['biomol']"
   ]
  },
  {
   "cell_type": "code",
   "execution_count": null,
   "metadata": {
    "collapsed": false
   },
   "outputs": [],
   "source": [
    "m2.resList()"
   ]
  },
  {
   "cell_type": "code",
   "execution_count": null,
   "metadata": {
    "collapsed": false
   },
   "outputs": [],
   "source": [
    "chromo.residues, m1.residues"
   ]
  },
  {
   "cell_type": "code",
   "execution_count": null,
   "metadata": {
    "collapsed": false
   },
   "outputs": [],
   "source": [
    "gfp_raw.residues.set"
   ]
  },
  {
   "cell_type": "code",
   "execution_count": null,
   "metadata": {
    "collapsed": false
   },
   "outputs": [],
   "source": [
    "chromo.info"
   ]
  },
  {
   "cell_type": "code",
   "execution_count": null,
   "metadata": {
    "collapsed": false
   },
   "outputs": [],
   "source": [
    "b=B.BioUnit.BioUnit"
   ]
  },
  {
   "cell_type": "code",
   "execution_count": null,
   "metadata": {
    "collapsed": false
   },
   "outputs": [],
   "source": [
    "T=m1.residues.concat(chromo.residues)"
   ]
  },
  {
   "cell_type": "code",
   "execution_count": null,
   "metadata": {
    "collapsed": false
   },
   "outputs": [],
   "source": [
    "gfp_raw.residues['biomol']"
   ]
  },
  {
   "cell_type": "code",
   "execution_count": null,
   "metadata": {
    "collapsed": false
   },
   "outputs": [],
   "source": [
    "m1.biounit.makeMultimer(0)"
   ]
  },
  {
   "cell_type": "code",
   "execution_count": null,
   "metadata": {
    "collapsed": false
   },
   "outputs": [],
   "source": [
    "m1.lenChains( breaks=True )"
   ]
  },
  {
   "cell_type": "code",
   "execution_count": null,
   "metadata": {
    "collapsed": false
   },
   "outputs": [],
   "source": [
    "gfp_raw.biounit.biomol[0][0]"
   ]
  },
  {
   "cell_type": "code",
   "execution_count": null,
   "metadata": {
    "collapsed": false
   },
   "outputs": [],
   "source": [
    "e_chain = m1.takeChains([])\n",
    "t=chromo.concat(e_chain)\n",
    "t.biounit"
   ]
  },
  {
   "cell_type": "code",
   "execution_count": null,
   "metadata": {
    "collapsed": false
   },
   "outputs": [],
   "source": [
    "B.PDBProfiles( m1,\n",
    "                                       profiles=getattr(m1,'resProfiles',{}),\n",
    "                                       infos=getattr(m1,'resProfiles_info',{}) )"
   ]
  },
  {
   "cell_type": "code",
   "execution_count": null,
   "metadata": {
    "collapsed": false
   },
   "outputs": [],
   "source": [
    "chromo.residues['biomol']"
   ]
  },
  {
   "cell_type": "code",
   "execution_count": null,
   "metadata": {
    "collapsed": false
   },
   "outputs": [],
   "source": [
    "B.PDBModel().residues['biomol']"
   ]
  },
  {
   "cell_type": "code",
   "execution_count": null,
   "metadata": {
    "collapsed": false
   },
   "outputs": [],
   "source": [
    "m1.biomodel"
   ]
  },
  {
   "cell_type": "code",
   "execution_count": null,
   "metadata": {
    "collapsed": false
   },
   "outputs": [],
   "source": [
    "gfp_raw.residues['biomol']"
   ]
  },
  {
   "cell_type": "code",
   "execution_count": null,
   "metadata": {
    "collapsed": false
   },
   "outputs": [],
   "source": [
    "chromo['temperature_factor']"
   ]
  },
  {
   "cell_type": "code",
   "execution_count": null,
   "metadata": {
    "collapsed": false
   },
   "outputs": [],
   "source": []
  },
  {
   "cell_type": "code",
   "execution_count": null,
   "metadata": {
    "collapsed": false
   },
   "outputs": [],
   "source": [
    "m1['temperature_factor']"
   ]
  },
  {
   "cell_type": "code",
   "execution_count": null,
   "metadata": {
    "collapsed": false
   },
   "outputs": [],
   "source": [
    "import Biskit as B\n",
    "\n",
    "chromo = gfp_only.takeResidues([64,65])\n",
    "del chromo.residues['biomol']   ## remove the bioUnit residue profile\n",
    "#chromo.residues['biomol']\n",
    "parm = B.AmberParmBuilder( chromo )\n",
    "chromo = parm.capACE( chromo, 0 )\n",
    "#m = parm.capNME( m, 0 )"
   ]
  },
  {
   "cell_type": "code",
   "execution_count": null,
   "metadata": {
    "collapsed": false
   },
   "outputs": [],
   "source": [
    "chromo=parm.capNME( chromo, 0 )"
   ]
  },
  {
   "cell_type": "code",
   "execution_count": null,
   "metadata": {
    "collapsed": false
   },
   "outputs": [],
   "source": [
    "parm.capNME( chromo, 0 )"
   ]
  },
  {
   "cell_type": "code",
   "execution_count": null,
   "metadata": {
    "collapsed": false
   },
   "outputs": [],
   "source": [
    "pdb_clean.unresolvedTerminals(chromophore)"
   ]
  },
  {
   "cell_type": "code",
   "execution_count": null,
   "metadata": {
    "collapsed": false
   },
   "outputs": [],
   "source": [
    "capN = pdb_clean.filterProteinChains(chromophore, [0], chromophore.chainIndex(breaks=False))\n",
    "capC = pdb_clean.filterProteinChains(chromophore, [0], chromophore.chainEndIndex(breaks=False))"
   ]
  },
  {
   "cell_type": "code",
   "execution_count": null,
   "metadata": {
    "collapsed": false
   },
   "outputs": [],
   "source": [
    "import Biskit.tools as t\n",
    "import Biskit.PDBModel as PDBModel\n",
    "\n",
    "model = chromophore\n",
    "chain = 0\n",
    "breaks=False\n",
    "F_ace_cap = t.dataRoot() + '/amber/leap/ace_cap.pdb'\n",
    "\n",
    "c_start = model.chainIndex( breaks=breaks )\n",
    "c_end = model.chainEndIndex( breaks=breaks)\n",
    "Nterm_is_break = False\n",
    "Cterm_is_break = False\n",
    "\n",
    "if breaks:\n",
    "    Nterm_is_break = c_start[chain] not in model.chainIndex()\n",
    "    Cterm_is_break = c_end[chain] not in model.chainEndIndex()\n",
    "    \n",
    "m_ace = PDBModel( F_ace_cap )\n",
    "\n",
    "chains_before = model.takeChains( range(chain), breaks=breaks )\n",
    "m_chain       = model.takeChains( [chain], breaks=breaks )\n",
    "chains_after  = model.takeChains( range(chain+1, len(c_start)),\n",
    "                                  breaks=breaks )\n",
    "\n",
    "m_term  = m_chain.resModels()[0]\n",
    "\n",
    "## we need 3 atoms for superposition, CB might mess things up but\n",
    "## could help if there is no HN\n",
    "##        if 'HN' in m_term.atomNames():\n",
    "m_ace.remove( ['CB'] )  ## use backbone 'C' rather than CB for fitting \n",
    "\n",
    "## rename overhanging residue in cap PDB\n",
    "for a in m_ace:\n",
    "    if a['residue_name'] != 'ACE':\n",
    "        a['residue_name'] = m_term.atoms['residue_name'][0]\n",
    "    else:\n",
    "        a['residue_number'] = m_term.atoms['residue_number'][0]-1\n",
    "        a['chain_id']       = m_term.atoms['chain_id'][0]\n",
    "        a['segment_id']     = m_term.atoms['segment_id'][0]\n",
    "\n",
    "## fit cap onto first residue of chain\n",
    "m_ace = m_ace.magicFit( m_term )\n",
    "\n",
    "cap = m_ace.resModels()[0]\n",
    "serial = m_term['serial_number'][0] - len(cap)\n",
    "cap['serial_number'] = range( serial, serial + len(cap) )\n",
    "\n",
    "## concat cap on chain\n",
    "m_chain = cap.concat( m_chain, newChain=False )\n",
    "\n",
    "## re-assemble whole model\n",
    "r = chains_before.concat( m_chain, newChain=not Nterm_is_break)\n",
    "r = r.concat( chains_after, newChain=not Cterm_is_break)"
   ]
  },
  {
   "cell_type": "code",
   "execution_count": null,
   "metadata": {
    "collapsed": false
   },
   "outputs": [],
   "source": [
    "non_standard.biounit.keys()"
   ]
  },
  {
   "cell_type": "code",
   "execution_count": null,
   "metadata": {
    "collapsed": false
   },
   "outputs": [],
   "source": [
    "m_chain.writePdb('capped_chromo.pdb')"
   ]
  },
  {
   "cell_type": "code",
   "execution_count": null,
   "metadata": {
    "collapsed": false
   },
   "outputs": [],
   "source": [
    "from Biskit import PDBCleaner\n",
    "pdb_clean = PDBCleaner(chromophore)\n",
    "capped=pdb_clean.capTerminals(capN=[1])"
   ]
  },
  {
   "cell_type": "code",
   "execution_count": null,
   "metadata": {
    "collapsed": false
   },
   "outputs": [],
   "source": [
    "capped.writePdb('capped_chromo.pdb')"
   ]
  },
  {
   "cell_type": "code",
   "execution_count": null,
   "metadata": {
    "collapsed": false
   },
   "outputs": [],
   "source": [
    "#parm_build =Biskit.AmberParmBuilder(non_standard)\n",
    "#parm_build.parmMirror('~/Temp/1gfl_amber_parms')\n",
    "#gfp_mod = Biskit.PDBModel('1GFL.pdb')\n",
    "#gfp_mod['chain_id']\n",
    "#parm_build.capNME(gfp_raw,0)\n",
    "#parm_build.capACE(non_standard,0)\n",
    "#methylate(non_standard)\n",
    "#get_connectivity(non_standard)\n",
    "#get_atom_types(non_standard)\n",
    "#get_partial_charges(non_standard)"
   ]
  },
  {
   "cell_type": "code",
   "execution_count": null,
   "metadata": {
    "collapsed": false
   },
   "outputs": [],
   "source": [
    "r1, r2 = non_standard.resModels()"
   ]
  },
  {
   "cell_type": "code",
   "execution_count": null,
   "metadata": {
    "collapsed": false
   },
   "outputs": [],
   "source": [
    "c=Biskit.PDBModel.concat(r1,r2)"
   ]
  },
  {
   "cell_type": "code",
   "execution_count": null,
   "metadata": {
    "collapsed": false
   },
   "outputs": [],
   "source": [
    "PDBModel.concat(chains_before,r1)"
   ]
  },
  {
   "cell_type": "code",
   "execution_count": null,
   "metadata": {
    "collapsed": false
   },
   "outputs": [],
   "source": [
    "m_chain.writePdb('capped_non_standard.pdb')\n",
    "non_standard.writePdb('uncapped_non_standard.pdb')"
   ]
  },
  {
   "cell_type": "code",
   "execution_count": null,
   "metadata": {
    "collapsed": false
   },
   "outputs": [],
   "source": [
    "model = non_standard\n",
    "chain = 0\n",
    "\n",
    "import Biskit.tools as t\n",
    "from Biskit import PDBModel\n",
    "F_nme_cap = t.dataRoot() + '/amber/leap/nme_cap.pdb'\n",
    "m_nme   = PDBModel( F_nme_cap )\n",
    "\n",
    "chains_before = model.takeChains( range(chain), breaks=1 )\n",
    "m_chain       = model.takeChains( [chain], breaks=1 )\n",
    "chains_after  = model.takeChains( range(chain+1, model.lenChains(1)),\n",
    "                                  breaks=1 )\n",
    "\n",
    "m_term  = m_chain.resModels()[-1]\n",
    "\n",
    "## rename overhanging residue in cap PDB, renumber cap residue\n",
    "for a in m_nme:\n",
    "    if a['residue_name'] != 'NME':\n",
    "        a['residue_name'] = m_term.atoms['residue_name'][0]\n",
    "    else:\n",
    "        a['residue_number'] = m_term.atoms['residue_number'][0]+1\n",
    "        a['chain_id']       = m_term.atoms['chain_id'][0]\n",
    "        a['segment_id']     = m_term.atoms['segment_id'][0]\n",
    "\n",
    "## chain should not have any terminal O after capping\n",
    "m_chain.remove( ['OXT'] )            \n",
    "\n",
    "## fit cap onto last residue of chain\n",
    "m_nme = m_nme.magicFit( m_term )\n",
    "\n",
    "## concat cap on chain\n",
    "m_chain = m_chain.concat( m_nme.resModels()[-1] )\n",
    "\n",
    "## should be obsolete now\n",
    "if getattr( m_chain, '_PDBModel__terAtoms', []) != []:\n",
    "    m_chain._PDBModel__terAtoms = [ len( m_chain ) - 1 ]\n",
    "\n",
    "## re-assemble whole model\n",
    "chains_before.concat( m_chain, chains_after )\n"
   ]
  },
  {
   "cell_type": "code",
   "execution_count": null,
   "metadata": {
    "collapsed": false
   },
   "outputs": [],
   "source": [
    "m=chains_before"
   ]
  },
  {
   "cell_type": "code",
   "execution_count": null,
   "metadata": {
    "collapsed": false
   },
   "outputs": [],
   "source": [
    "m_chain.residues['biomol']"
   ]
  },
  {
   "cell_type": "code",
   "execution_count": null,
   "metadata": {
    "collapsed": false
   },
   "outputs": [],
   "source": [
    "chains_before.concat(m_chain)"
   ]
  },
  {
   "cell_type": "code",
   "execution_count": null,
   "metadata": {
    "collapsed": false
   },
   "outputs": [],
   "source": [
    "non_standard.resMap()\n",
    "non_standard.addChainId()\n",
    "non_standard[0:5]\n",
    "#parm_build =Biskit.AmberParmBuilder(gfp_raw)\n",
    "#parm_build.capNME([r1,r2],1)\n",
    "#c2=gfp_raw.takeChains([1])"
   ]
  },
  {
   "cell_type": "code",
   "execution_count": null,
   "metadata": {
    "collapsed": false
   },
   "outputs": [],
   "source": [
    "import Biskit.tools as t\n",
    "t.dataRoot()"
   ]
  },
  {
   "cell_type": "markdown",
   "metadata": {},
   "source": [
    "The procedure for preparing a qm/mm calculation is as follows:"
   ]
  },
  {
   "cell_type": "markdown",
   "metadata": {},
   "source": [
    "Select the Chain we want to perform the calculation on (in general pick the first one)\n",
    "\n",
    "Standard residues can be handled automatically by amber, gromacs et al. but non-standard residues need to be parameterised.\n",
    "\n",
    "First extract the non-standard residues to a separate pdb file\n",
    "Now construct a library file detailing, the connectivity, atom types and partial charges using this pdb file.\n",
    "\n",
    "We need to determine correct placement of hydrogens and protonation states.\n",
    "\n",
    "Finally construct a gaussian input file using these."
   ]
  },
  {
   "cell_type": "markdown",
   "metadata": {},
   "source": [
    "To select the chain we can use biopython or the openMM python api"
   ]
  },
  {
   "cell_type": "markdown",
   "metadata": {},
   "source": [
    "To calculate standard connectivities we can use openMM, for non standard we could try using molmod (though may need to visually inspect the results)"
   ]
  },
  {
   "cell_type": "markdown",
   "metadata": {},
   "source": [
    "To determine protonation states we can use propka more specifically [pdb2pqr](http://www.ics.uci.edu/~dock/pdb2pqr/userguide.html#using), see also the pyMol [propka](http://www.pymolwiki.org/index.php/Propka) script"
   ]
  },
  {
   "cell_type": "markdown",
   "metadata": {},
   "source": [
    "Hydrogen placement can be determined in many different ways."
   ]
  },
  {
   "cell_type": "markdown",
   "metadata": {},
   "source": [
    "Parameterisation can use the tleap console (or the xleap gui if we are doing it manually)."
   ]
  },
  {
   "cell_type": "markdown",
   "metadata": {},
   "source": [
    "Hydrogen placement can be done in many different ways."
   ]
  },
  {
   "cell_type": "code",
   "execution_count": null,
   "metadata": {
    "collapsed": false
   },
   "outputs": [],
   "source": [
    "s=' C/1=N\\CC/N=C/c(c2)cc(\\C=N\\CC/N=C/3)cc2\\C=N\\CC/N=C/c(c4)cc(\\C=N\\CC/N=C/5)cc4\\C=N\\CC/N=C/c(c6)cc1cc6\\C=N\\CC/N=C/c(c7)cc5cc37'"
   ]
  },
  {
   "cell_type": "code",
   "execution_count": null,
   "metadata": {
    "collapsed": true
   },
   "outputs": [],
   "source": [
    "t=s.replace('CC','C*CCCCC*')"
   ]
  },
  {
   "cell_type": "code",
   "execution_count": null,
   "metadata": {
    "collapsed": false
   },
   "outputs": [],
   "source": [
    "t"
   ]
  },
  {
   "cell_type": "code",
   "execution_count": null,
   "metadata": {
    "collapsed": false
   },
   "outputs": [],
   "source": []
  },
  {
   "cell_type": "code",
   "execution_count": null,
   "metadata": {
    "collapsed": false
   },
   "outputs": [],
   "source": [
    "'{blah}{blah2}'.format(blah=10,blah2='xyz')\n",
    "\n",
    "first_count = 7\n",
    "second_count = 7 \n",
    "first_star = True\n",
    "new_str = []\n",
    "\n",
    "for c in t:\n",
    "    if c=='*' and first_star:\n",
    "        first_count=first_count+1\n",
    "        first_star=False\n",
    "        replacement_str = str(first_count)\n",
    "        if first_count >= 10:\n",
    "            replacement_str = '%' + replacement_str\n",
    "        new_str.append(replacement_str)\n",
    "    elif c=='*' and not first_star:\n",
    "        second_count+=1\n",
    "        first_star=True\n",
    "        replacement_str2 = str(second_count)\n",
    "        if second_count >= 10:\n",
    "            replacement_str2 = '%' + replacement_str2\n",
    "        new_str.append(replacement_str2)\n",
    "    else:\n",
    "        new_str.append(c)\n",
    "\n",
    "''.join(new_str)"
   ]
  },
  {
   "cell_type": "code",
   "execution_count": null,
   "metadata": {
    "collapsed": true
   },
   "outputs": [],
   "source": []
  }
 ],
 "metadata": {
  "kernelspec": {
   "display_name": "Python 2",
   "language": "python",
   "name": "python2"
  },
  "language_info": {
   "codemirror_mode": {
    "name": "ipython",
    "version": 2
   },
   "file_extension": ".py",
   "mimetype": "text/x-python",
   "name": "python",
   "nbconvert_exporter": "python",
   "pygments_lexer": "ipython2",
   "version": "2.7.11"
  }
 },
 "nbformat": 4,
 "nbformat_minor": 0
}
