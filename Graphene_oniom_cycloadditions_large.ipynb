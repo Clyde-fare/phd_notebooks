{
 "metadata": {
  "name": "Graphene_oniom_cycloadditions_large"
 },
 "nbformat": 3,
 "nbformat_minor": 0,
 "worksheets": [
  {
   "cells": [
    {
     "cell_type": "markdown",
     "metadata": {},
     "source": [
      "The cluster slize we need for transition energies or reaction energies must depend on to what degree that reaction's influences are localised.\n",
      "\n",
      "So we now examine a larger graphene flake and try to find convergence with respect to cluster size/shape\n",
      "\n",
      "When we optimize the geometry of these clusters should we be keeping the positions of the hydrogens fixed to represent the rest of the graphene sheet? e.g. in [this](http://pubs.acs.org/doi/full/10.1021/jp902280f) paper."
     ]
    },
    {
     "cell_type": "code",
     "collapsed": false,
     "input": [
      "import pandas, cc_notebook_utils, copy\n",
      "from ASE_utils import *\n",
      "from gaussian_job_manager import extract_status as status\n",
      "import numpy as np\n",
      "from math import pi\n",
      "from IPython.core.display import HTML, Image\n",
      "from ase.io import read, write\n",
      "from ase.calculators.gaussian import Gaussian\n",
      "from glob import glob"
     ],
     "language": "python",
     "metadata": {},
     "outputs": [
      {
       "output_type": "stream",
       "stream": "stderr",
       "text": [
        "WARNING: Neither ~/.pyp_util.ini nor ./pbs_util.ini exist./home/clyde/Project/Code/Python/transformations.py:1888: UserWarning: failed to import module _transformations\n",
        "  warnings.warn(\"failed to import module %s\" % name)\n"
       ]
      }
     ],
     "prompt_number": 1
    },
    {
     "cell_type": "code",
     "collapsed": false,
     "input": [
      "cd cycloadd_oniom_large/"
     ],
     "language": "python",
     "metadata": {},
     "outputs": [
      {
       "output_type": "stream",
       "stream": "stdout",
       "text": [
        "/home/clyde/Dropbox/Project Stuff/Notebooks/cycloadd_oniom_large\n"
       ]
      }
     ],
     "prompt_number": 2
    },
    {
     "cell_type": "markdown",
     "metadata": {},
     "source": [
      "First we calculate the DFT reference energies:"
     ]
    },
    {
     "cell_type": "code",
     "collapsed": false,
     "input": [
      "#created carb_66_xyz in avogadro via removal of the outer hydrogens of the optimised carb_44_xyz, then within graph_66_xyz, selecting the atoms corresponding to the 4_4 flake, inverting the selection to get the missing outer atoms not present in the 4_4 flake, copying, then going back to carb_44_xyz (without the outer hydrogen atoms) and pasting the extra atom in. Finally I used avogadro's uff optimisation to relax the outer atoms whilst the inner ones were fixed\n",
      "#then called ASE_utils.reorder_xyz to reorder the file such that the ylide atoms were last [Edit: but this broke the matching atomic labels between the plane graphene and the ylide_graphene product so had to redo the graphene.xyz]\n",
      "#import ASE_utils\n",
      "#ASE_utils.reorder_xyz('6_6_cent_carbonyl.xyz', secondary_atoms=[48,49,50,51,52,53,54], elements=True)\n",
      "#!mv sorted_6_6_carbonyl.xyz 6_6_carbonyl.xyz\n",
      "#had to alter 6_6_graphene so that atom labels matched the rxn products (by just deleting the ylide atoms from the 6-6_cent_carbonyl and then reoptimizing the geom with uff)\n",
      "#!avogadro 6_6_cent_carbonyl.xyz\n",
      "#mv! sorted sorted_6_6_graphene.xyz 6_6_graphene.xyz\n",
      "#(I actually did B3LYP the calculation starting with the previous version of 6_6_graphene.xyz but as it's just a starting geom for a geometry optimisation this should make no difference"
     ],
     "language": "python",
     "metadata": {},
     "outputs": [],
     "prompt_number": 3
    },
    {
     "cell_type": "code",
     "collapsed": false,
     "input": [
      "graph_66_xyz = 'xyz_files/init/6_6_graphene.xyz'\n",
      "carb_66_xyz = 'xyz_files/init/6_6_cent_carbonyl.xyz'\n",
      "carb_66_ts_xyz = 'xyz_files/init/6_6_cent_carbonyl_ts.xyz'\n",
      "\n",
      "dft_molecules = []\n",
      "for xyz_f in [carb_66_xyz, graph_66_xyz, carb_66_ts_xyz]:\n",
      "    base_name = os.path.split(xyz_f)[1].replace('.xyz', '')\n",
      "    name = 'B3LYP_631Gd_B3LYP_631Gd_' + base_name \n",
      "    mol = read(xyz_f)\n",
      "    if 'ts' in xyz_f:\n",
      "        mol.set_calculator(Gaussian(label=name, method='B3LYP', basis='6-31G(d)', opt='calcfc, ts, noeigen'))\n",
      "        mol.calc.set_job(nodes=12, memory=12*2000, time=24*2)\n",
      "    else:\n",
      "        mol.set_calculator(Gaussian(label=name, method='B3LYP', basis='6-31G(d)', opt='opt'))\n",
      "        mol.calc.set_job(nodes=12, memory=12*2000, time=24*2)\n",
      "    #mol.get_potential_energy()\n",
      "    dft_molecules.append(mol)"
     ],
     "language": "python",
     "metadata": {},
     "outputs": [],
     "prompt_number": 4
    },
    {
     "cell_type": "code",
     "collapsed": false,
     "input": [
      "p_calcs=check_calcs(dft_molecules)\n",
      "mols_to_html(p_calcs)"
     ],
     "language": "python",
     "metadata": {},
     "outputs": [
      {
       "html": [
        "\n",
        "           <script type=\"text/javascript\">\n",
        "           function view_function (event, file_n) {\n",
        "               if (event.ctrlKey && event.shiftKey){\n",
        "                   IPython.notebook.kernel.execute(\"cc_notebook_utils.pygview('\" + file_n + \".log')\");\n",
        "               }\n",
        "               else if (event.ctrlKey){\n",
        "                   IPython.notebook.kernel.execute(\"cc_notebook_utils.pygausssum('\" + file_n + \".log')\");\n",
        "               }\n",
        "               else if (event.shiftKey){\n",
        "                   IPython.notebook.kernel.execute(\"cc_notebook_utils.pyvogadro('\" + file_n + \".log')\");\n",
        "               }\n",
        "               else IPython.notebook.kernel.execute(\"cc_notebook_utils.pyvim('\" + file_n + \".log')\");\n",
        "           }\n",
        "           </script>\n",
        "    <style>\n",
        "    table\n",
        "    {\n",
        "        border-collapse:collapse;\n",
        "    }\n",
        "    td\n",
        "    {\n",
        "        padding:15px;\n",
        "    }\n",
        "    </style>\n",
        "    <body>\n",
        "    <table bgcolor=\"white\">\n",
        "    <col/><tr><td>B3LYP_631Gd_B3LYP_631Gd_6_6_graphene</td><td><a href = \"files/cycloadd_oniom_large/B3LYP_631Gd_B3LYP_631Gd_6_6_graphene.com\" target = \"_blank\">com</a></td><td><input type=\"button\" value=\"Smart Log\" id=\"B3LYP_631Gd_B3LYP_631Gd_6_6_graphene\" onclick=\"view_function(event, this.id)\" /></td><td>Error: Convergence failure -- run terminated.</td></tr><tr><td>B3LYP_631Gd_B3LYP_631Gd_6_6_cent_carbonyl_ts</td><td><a href = \"files/cycloadd_oniom_large/B3LYP_631Gd_B3LYP_631Gd_6_6_cent_carbonyl_ts.com\" target = \"_blank\">com</a></td><td><input type=\"button\" value=\"Smart Log\" id=\"B3LYP_631Gd_B3LYP_631Gd_6_6_cent_carbonyl_ts\" onclick=\"view_function(event, this.id)\" /></td><td>Incomplete</td></tr>\n",
        "    </table>\n",
        "    </body>"
       ],
       "output_type": "pyout",
       "prompt_number": 5,
       "text": [
        "<IPython.core.display.HTML at 0x3783850>"
       ]
      }
     ],
     "prompt_number": 5
    },
    {
     "cell_type": "markdown",
     "metadata": {},
     "source": [
      "graphene failed scf convergence so we use scf=xqc, the transition state ran out of memory to we restart specifying more memory"
     ]
    },
    {
     "cell_type": "code",
     "collapsed": false,
     "input": [
      "p_calcs[0].calc.restart(scf='xqc')\n",
      "p_calcs[0].calc.set_job(nodes=12, memory=12*2000, time=24*2)\n",
      "#p_calcs[0].get_potential_energy()"
     ],
     "language": "python",
     "metadata": {},
     "outputs": [],
     "prompt_number": 6
    },
    {
     "cell_type": "code",
     "collapsed": false,
     "input": [
      "p_calcs[1].calc.restart()\n",
      "p_calcs[1].calc.set_job(nodes=12, memory = 12*4000, time =24*2.5)\n",
      "#p_calcs[1].get_potential_energy()"
     ],
     "language": "python",
     "metadata": {},
     "outputs": [],
     "prompt_number": 7
    },
    {
     "cell_type": "code",
     "collapsed": false,
     "input": [
      "p_calcs = check_calcs(p_calcs)\n",
      "mols_to_html(p_calcs)"
     ],
     "language": "python",
     "metadata": {},
     "outputs": [
      {
       "html": [
        "\n",
        "           <script type=\"text/javascript\">\n",
        "           function view_function (event, file_n) {\n",
        "               if (event.ctrlKey && event.shiftKey){\n",
        "                   IPython.notebook.kernel.execute(\"cc_notebook_utils.pygview('\" + file_n + \".log')\");\n",
        "               }\n",
        "               else if (event.ctrlKey){\n",
        "                   IPython.notebook.kernel.execute(\"cc_notebook_utils.pygausssum('\" + file_n + \".log')\");\n",
        "               }\n",
        "               else if (event.shiftKey){\n",
        "                   IPython.notebook.kernel.execute(\"cc_notebook_utils.pyvogadro('\" + file_n + \".log')\");\n",
        "               }\n",
        "               else IPython.notebook.kernel.execute(\"cc_notebook_utils.pyvim('\" + file_n + \".log')\");\n",
        "           }\n",
        "           </script>\n",
        "    <style>\n",
        "    table\n",
        "    {\n",
        "        border-collapse:collapse;\n",
        "    }\n",
        "    td\n",
        "    {\n",
        "        padding:15px;\n",
        "    }\n",
        "    </style>\n",
        "    <body>\n",
        "    <table bgcolor=\"white\">\n",
        "    <col/><tr><td>B3LYP_631Gd_B3LYP_631Gd_6_6_cent_carbonyl_ts_restart_1</td><td><a href = \"files/cycloadd_oniom_large/B3LYP_631Gd_B3LYP_631Gd_6_6_cent_carbonyl_ts_restart_1.com\" target = \"_blank\">com</a></td><td><input type=\"button\" value=\"Smart Log\" id=\"B3LYP_631Gd_B3LYP_631Gd_6_6_cent_carbonyl_ts_restart_1\" onclick=\"view_function(event, this.id)\" /></td><td>Incomplete</td></tr>\n",
        "    </table>\n",
        "    </body>"
       ],
       "output_type": "pyout",
       "prompt_number": 8,
       "text": [
        "<IPython.core.display.HTML at 0x37836d0>"
       ]
      }
     ],
     "prompt_number": 8
    },
    {
     "cell_type": "markdown",
     "metadata": {},
     "source": [
      "This ran out of time just as it was about to converge so just try it again:"
     ]
    },
    {
     "cell_type": "code",
     "collapsed": false,
     "input": [
      "p_calcs[0].calc.restart(geom='check',opt='restart')\n",
      "p_calcs[0].calc.set_job(nodes=12, memory = 12*4000, time =24*2.5, queue='pqchem')\n",
      "#p_calcs[0].get_potential_energy()"
     ],
     "language": "python",
     "metadata": {},
     "outputs": [
      {
       "output_type": "stream",
       "stream": "stdout",
       "text": [
        "[Gaussian B3LYP_631Gd_B3LYP_631Gd_6_6_cent_carbonyl_ts_restart_1.log INFO] Creating attribute charge: 0\n"
       ]
      },
      {
       "output_type": "stream",
       "stream": "stdout",
       "text": [
        "[Gaussian B3LYP_631Gd_B3LYP_631Gd_6_6_cent_carbonyl_ts_restart_1.log INFO] Creating attribute mult: 1\n"
       ]
      },
      {
       "output_type": "stream",
       "stream": "stdout",
       "text": [
        "[Gaussian B3LYP_631Gd_B3LYP_631Gd_6_6_cent_carbonyl_ts_restart_1.log INFO] Creating attribute natom: 129\n"
       ]
      },
      {
       "output_type": "stream",
       "stream": "stdout",
       "text": [
        "[Gaussian B3LYP_631Gd_B3LYP_631Gd_6_6_cent_carbonyl_ts_restart_1.log INFO] Creating attribute atommasses[]\n"
       ]
      },
      {
       "output_type": "stream",
       "stream": "stdout",
       "text": [
        "[Gaussian B3LYP_631Gd_B3LYP_631Gd_6_6_cent_carbonyl_ts_restart_1.log INFO] Creating attribute atomcoords[]\n"
       ]
      },
      {
       "output_type": "stream",
       "stream": "stdout",
       "text": [
        "[Gaussian B3LYP_631Gd_B3LYP_631Gd_6_6_cent_carbonyl_ts_restart_1.log INFO] Creating attribute atomnos[]\n"
       ]
      },
      {
       "output_type": "stream",
       "stream": "stdout",
       "text": [
        "[Gaussian B3LYP_631Gd_B3LYP_631Gd_6_6_cent_carbonyl_ts_restart_1.log INFO] Creating attribute nbasis: 1545\n"
       ]
      },
      {
       "output_type": "stream",
       "stream": "stdout",
       "text": [
        "[Gaussian B3LYP_631Gd_B3LYP_631Gd_6_6_cent_carbonyl_ts_restart_1.log INFO] Creating attribute nmo: 1545\n"
       ]
      },
      {
       "output_type": "stream",
       "stream": "stdout",
       "text": [
        "[Gaussian B3LYP_631Gd_B3LYP_631Gd_6_6_cent_carbonyl_ts_restart_1.log INFO] Creating attribute scftargets[]\n"
       ]
      },
      {
       "output_type": "stream",
       "stream": "stdout",
       "text": [
        "[Gaussian B3LYP_631Gd_B3LYP_631Gd_6_6_cent_carbonyl_ts_restart_1.log INFO] Creating attribute scfvalues[]\n"
       ]
      },
      {
       "output_type": "stream",
       "stream": "stdout",
       "text": [
        "[Gaussian B3LYP_631Gd_B3LYP_631Gd_6_6_cent_carbonyl_ts_restart_1.log INFO] Creating attribute scfenergies[]\n"
       ]
      },
      {
       "output_type": "stream",
       "stream": "stdout",
       "text": [
        "[Gaussian B3LYP_631Gd_B3LYP_631Gd_6_6_cent_carbonyl_ts_restart_1.log INFO] Creating attribute mosyms[]\n"
       ]
      },
      {
       "output_type": "stream",
       "stream": "stdout",
       "text": [
        "[Gaussian B3LYP_631Gd_B3LYP_631Gd_6_6_cent_carbonyl_ts_restart_1.log INFO] Creating attribute homos[]\n"
       ]
      },
      {
       "output_type": "stream",
       "stream": "stdout",
       "text": [
        "[Gaussian B3LYP_631Gd_B3LYP_631Gd_6_6_cent_carbonyl_ts_restart_1.log INFO] Creating attribute moenergies[]\n"
       ]
      },
      {
       "output_type": "stream",
       "stream": "stdout",
       "text": [
        "[Gaussian B3LYP_631Gd_B3LYP_631Gd_6_6_cent_carbonyl_ts_restart_1.log INFO] Creating attribute grads[]\n"
       ]
      },
      {
       "output_type": "stream",
       "stream": "stdout",
       "text": [
        "[Gaussian B3LYP_631Gd_B3LYP_631Gd_6_6_cent_carbonyl_ts_restart_1.log INFO] Creating attribute geovalues[]\n"
       ]
      },
      {
       "output_type": "stream",
       "stream": "stdout",
       "text": [
        "[Gaussian B3LYP_631Gd_B3LYP_631Gd_6_6_cent_carbonyl_ts_restart_1.log INFO] Creating attribute geotargets[]\n"
       ]
      },
      {
       "output_type": "stream",
       "stream": "stdout",
       "text": [
        "[Gaussian B3LYP_631Gd_B3LYP_631Gd_6_6_cent_carbonyl_ts_restart_1.log INFO] Creating attribute coreelectrons[]\n"
       ]
      }
     ],
     "prompt_number": 9
    },
    {
     "cell_type": "code",
     "collapsed": false,
     "input": [
      "check_calcs(p_calcs)"
     ],
     "language": "python",
     "metadata": {},
     "outputs": [
      {
       "output_type": "pyout",
       "prompt_number": 10,
       "text": [
        "'Calculations complete'"
       ]
      }
     ],
     "prompt_number": 10
    },
    {
     "cell_type": "code",
     "collapsed": false,
     "input": [
      "def T_E_f(t,a):\n",
      "    try: \n",
      "        return(t.calc.energy_zero - a.calc.energy_zero)* 23.060542301388647 \n",
      "    except AttributeError: \n",
      "        return float('nan')"
     ],
     "language": "python",
     "metadata": {},
     "outputs": [],
     "prompt_number": 11
    },
    {
     "cell_type": "code",
     "collapsed": false,
     "input": [
      "relaxed_geom = next(m for m in dft_molecules if m.calc.label == 'B3LYP_631Gd_B3LYP_631Gd_6_6_cent_carbonyl')\n",
      "ts_geom = next(m for m in dft_molecules if m.calc.label == 'B3LYP_631Gd_B3LYP_631Gd_6_6_cent_carbonyl_ts_restart_2')\n",
      "b3lyp_T_E = T_E_f(ts_geom, relaxed_geom)\n",
      "print('B3LYP transition energy == {E}'.format(E=b3lyp_T_E))"
     ],
     "language": "python",
     "metadata": {},
     "outputs": [
      {
       "output_type": "stream",
       "stream": "stdout",
       "text": [
        "B3LYP transition energy == 31.7735690821\n"
       ]
      }
     ],
     "prompt_number": 12
    },
    {
     "cell_type": "code",
     "collapsed": false,
     "input": [
      "ylide_atoms = [123,124,125,126,127,128,129]\n",
      "graph_atoms = {}\n",
      "graph_atoms.update({0:[28,29]}) #2 C atoms\n",
      "graph_atoms.update({1:graph_atoms[0] + [12,13,14,15,27,41,42,30]}) #10 C atoms\n",
      "graph_atoms.update({2:graph_atoms[1] + [11,25,26,16,32,31]}) #16 C atoms \n",
      "graph_atoms.update({3:graph_atoms[2] + [24,33]})#18 C atoms\n",
      "graph_atoms.update({4:graph_atoms[3] + [2,5,43,40]})#22 C atoms\n",
      "graph_atoms.update({5:graph_atoms[4] + [1,3,4,6,18,19,20,36,35,34,46,44,48,47,39,37,23,22,21,7,8,9, 45,17,10,38]}) #48 C atoms\n",
      "graph_atoms.update({6:graph_atoms[5] + [71,72]}) #50 C atoms\n",
      "graph_atoms.update({7:graph_atoms[6] + [88,87,53,50]}) #54 C atoms\n",
      "\n",
      "l_methods = ['uff','am1','pm6','HF/STO-3G']"
     ],
     "language": "python",
     "metadata": {},
     "outputs": [],
     "prompt_number": 13
    },
    {
     "cell_type": "markdown",
     "metadata": {},
     "source": [
      "Now we calculate the oniom energies:"
     ]
    },
    {
     "cell_type": "heading",
     "level": 2,
     "metadata": {},
     "source": [
      "Reaction Energies"
     ]
    },
    {
     "cell_type": "heading",
     "level": 3,
     "metadata": {},
     "source": [
      "Single Point"
     ]
    },
    {
     "cell_type": "code",
     "collapsed": false,
     "input": [
      "o_66_carb = []\n",
      "o_66 = []\n",
      "\n",
      "mast_graph_ylid = read(carb_66_xyz)\n",
      "mast_graph = read(graph_66_xyz)\n",
      "\n",
      "for siz in range(len(graph_atoms)):\n",
      "    for meth in l_methods:\n",
      "        graph_ylid = copy.deepcopy(mast_graph_ylid)\n",
      "        graph_ylid_name = 'o{s}_{m}_B3LYP_631Gd_6_6_cent_carbonyl'.format(m=meth.replace('/', '_'), s=siz)\n",
      "        graph_ylid.set_calculator(Gaussian(label=graph_ylid_name, method='oniom(B3LYP/6-31G(d):{l})'.format(l=meth), basis='oniom'))\n",
      "        graph_ylid_H = ylide_atoms + graph_atoms[siz]\n",
      "        graph_ylid.calc.coord_params['layers'] = [[no -1 for no in graph_ylid_H]]\n",
      "        graph_ylid.calc.coord_params['layer_mults'] = [1,1]\n",
      "        graph_ylid.calc.set_job(nodes=12, memory=12*1600, time=8)\n",
      "        \n",
      "        graph = copy.deepcopy(mast_graph)\n",
      "        graph_name = 'o{s}_{m}_B3LYP_631Gd_6_6_graphene'.format(m=meth.replace('/', '_'), s=siz)\n",
      "        graph.set_calculator(Gaussian(label=graph_name, method='oniom(B3LYP/6-31G(d):{l})'.format(l=meth), basis='oniom'))\n",
      "        graph_H = graph_atoms[siz]\n",
      "        graph.calc.coord_params['layers'] = [[no -1 for no in graph_H]]\n",
      "        graph.calc.coord_params['layer_mults'] = [1,1]\n",
      "        graph.calc.set_job(nodes=12, memory=12*1600, time=8)\n",
      "        \n",
      "        #graph_ylid.get_potential_energy()\n",
      "        #graph.get_potential_energy()\n",
      "        o_66_carb.append(graph_ylid)\n",
      "        o_66.append(graph)\n",
      "        \n",
      "#sanity check\n",
      "graph_ylid = copy.deepcopy(mast_graph_ylid)\n",
      "graph_ylid_name = 'o_sanity_B3LYP_631Gd_6_6_cent_carbonyl'\n",
      "graph_ylid.set_calculator(Gaussian(label=graph_ylid_name, method='oniom(B3LYP/6-31G(d):B3LYP/6-31G(d))', basis='oniom'))\n",
      "graph_ylid_H = ylide_atoms + graph_atoms[0]\n",
      "graph_ylid.calc.coord_params['layers'] = [[no -1 for no in graph_ylid_H]]\n",
      "graph_ylid.calc.coord_params['layer_mults'] = [1,1]\n",
      "graph_ylid.calc.set_job(nodes=12, memory=12*1400, time=8)\n",
      "        \n",
      "graph = copy.deepcopy(mast_graph)\n",
      "graph_name = 'o_sanity_B3LYP_631Gd_6_6_graphene'\n",
      "graph.set_calculator(Gaussian(label=graph_name, method='oniom(B3LYP/6-31G(d):B3LYP/6-31G(d))', basis='oniom'))\n",
      "graph_H = graph_atoms[0]\n",
      "graph.calc.coord_params['layers'] = [[no -1 for no in graph_H]]\n",
      "graph.calc.coord_params['layer_mults'] = [1,1]\n",
      "graph.calc.set_job(nodes=12, memory=12*2000, time=20)\n",
      "        \n",
      "#graph_ylid.get_potential_energy()\n",
      "#graph.get_potential_energy()\n",
      "o_66_carb.append(graph_ylid)\n",
      "o_66.append(graph)"
     ],
     "language": "python",
     "metadata": {},
     "outputs": [],
     "prompt_number": 14
    },
    {
     "cell_type": "code",
     "collapsed": false,
     "input": [
      "check_calcs(o_66+o_66_carb)"
     ],
     "language": "python",
     "metadata": {},
     "outputs": [
      {
       "output_type": "pyout",
       "prompt_number": 15,
       "text": [
        "'Calculations complete'"
       ]
      }
     ],
     "prompt_number": 15
    },
    {
     "cell_type": "code",
     "collapsed": false,
     "input": [
      "mols_to_html(o_66_carb)"
     ],
     "language": "python",
     "metadata": {},
     "outputs": [
      {
       "html": [
        "\n",
        "           <script type=\"text/javascript\">\n",
        "           function view_function (event, file_n) {\n",
        "               if (event.ctrlKey && event.shiftKey){\n",
        "                   IPython.notebook.kernel.execute(\"cc_notebook_utils.pygview('\" + file_n + \".log')\");\n",
        "               }\n",
        "               else if (event.ctrlKey){\n",
        "                   IPython.notebook.kernel.execute(\"cc_notebook_utils.pygausssum('\" + file_n + \".log')\");\n",
        "               }\n",
        "               else if (event.shiftKey){\n",
        "                   IPython.notebook.kernel.execute(\"cc_notebook_utils.pyvogadro('\" + file_n + \".log')\");\n",
        "               }\n",
        "               else IPython.notebook.kernel.execute(\"cc_notebook_utils.pyvim('\" + file_n + \".log')\");\n",
        "           }\n",
        "           </script>\n",
        "    <style>\n",
        "    table\n",
        "    {\n",
        "        border-collapse:collapse;\n",
        "    }\n",
        "    td\n",
        "    {\n",
        "        padding:15px;\n",
        "    }\n",
        "    </style>\n",
        "    <body>\n",
        "    <table bgcolor=\"white\">\n",
        "    <col/><tr><td>o0_uff_B3LYP_631Gd_6_6_cent_carbonyl</td><td><a href = \"files/cycloadd_oniom_large/o0_uff_B3LYP_631Gd_6_6_cent_carbonyl.com\" target = \"_blank\">com</a></td><td><input type=\"button\" value=\"Smart Log\" id=\"o0_uff_B3LYP_631Gd_6_6_cent_carbonyl\" onclick=\"view_function(event, this.id)\" /></td><td>Success</td></tr><tr><td>o0_am1_B3LYP_631Gd_6_6_cent_carbonyl</td><td><a href = \"files/cycloadd_oniom_large/o0_am1_B3LYP_631Gd_6_6_cent_carbonyl.com\" target = \"_blank\">com</a></td><td><input type=\"button\" value=\"Smart Log\" id=\"o0_am1_B3LYP_631Gd_6_6_cent_carbonyl\" onclick=\"view_function(event, this.id)\" /></td><td>Success</td></tr><tr><td>o0_pm6_B3LYP_631Gd_6_6_cent_carbonyl</td><td><a href = \"files/cycloadd_oniom_large/o0_pm6_B3LYP_631Gd_6_6_cent_carbonyl.com\" target = \"_blank\">com</a></td><td><input type=\"button\" value=\"Smart Log\" id=\"o0_pm6_B3LYP_631Gd_6_6_cent_carbonyl\" onclick=\"view_function(event, this.id)\" /></td><td>Success</td></tr><tr><td>o0_HF_STO-3G_B3LYP_631Gd_6_6_cent_carbonyl</td><td><a href = \"files/cycloadd_oniom_large/o0_HF_STO-3G_B3LYP_631Gd_6_6_cent_carbonyl.com\" target = \"_blank\">com</a></td><td><input type=\"button\" value=\"Smart Log\" id=\"o0_HF_STO-3G_B3LYP_631Gd_6_6_cent_carbonyl\" onclick=\"view_function(event, this.id)\" /></td><td>Success</td></tr><tr><td>o1_uff_B3LYP_631Gd_6_6_cent_carbonyl</td><td><a href = \"files/cycloadd_oniom_large/o1_uff_B3LYP_631Gd_6_6_cent_carbonyl.com\" target = \"_blank\">com</a></td><td><input type=\"button\" value=\"Smart Log\" id=\"o1_uff_B3LYP_631Gd_6_6_cent_carbonyl\" onclick=\"view_function(event, this.id)\" /></td><td>Success</td></tr><tr><td>o1_am1_B3LYP_631Gd_6_6_cent_carbonyl</td><td><a href = \"files/cycloadd_oniom_large/o1_am1_B3LYP_631Gd_6_6_cent_carbonyl.com\" target = \"_blank\">com</a></td><td><input type=\"button\" value=\"Smart Log\" id=\"o1_am1_B3LYP_631Gd_6_6_cent_carbonyl\" onclick=\"view_function(event, this.id)\" /></td><td>Success</td></tr><tr><td>o1_pm6_B3LYP_631Gd_6_6_cent_carbonyl</td><td><a href = \"files/cycloadd_oniom_large/o1_pm6_B3LYP_631Gd_6_6_cent_carbonyl.com\" target = \"_blank\">com</a></td><td><input type=\"button\" value=\"Smart Log\" id=\"o1_pm6_B3LYP_631Gd_6_6_cent_carbonyl\" onclick=\"view_function(event, this.id)\" /></td><td>Success</td></tr><tr><td>o1_HF_STO-3G_B3LYP_631Gd_6_6_cent_carbonyl</td><td><a href = \"files/cycloadd_oniom_large/o1_HF_STO-3G_B3LYP_631Gd_6_6_cent_carbonyl.com\" target = \"_blank\">com</a></td><td><input type=\"button\" value=\"Smart Log\" id=\"o1_HF_STO-3G_B3LYP_631Gd_6_6_cent_carbonyl\" onclick=\"view_function(event, this.id)\" /></td><td>Success</td></tr><tr><td>o2_uff_B3LYP_631Gd_6_6_cent_carbonyl</td><td><a href = \"files/cycloadd_oniom_large/o2_uff_B3LYP_631Gd_6_6_cent_carbonyl.com\" target = \"_blank\">com</a></td><td><input type=\"button\" value=\"Smart Log\" id=\"o2_uff_B3LYP_631Gd_6_6_cent_carbonyl\" onclick=\"view_function(event, this.id)\" /></td><td>Success</td></tr><tr><td>o2_am1_B3LYP_631Gd_6_6_cent_carbonyl</td><td><a href = \"files/cycloadd_oniom_large/o2_am1_B3LYP_631Gd_6_6_cent_carbonyl.com\" target = \"_blank\">com</a></td><td><input type=\"button\" value=\"Smart Log\" id=\"o2_am1_B3LYP_631Gd_6_6_cent_carbonyl\" onclick=\"view_function(event, this.id)\" /></td><td>Success</td></tr><tr><td>o2_pm6_B3LYP_631Gd_6_6_cent_carbonyl</td><td><a href = \"files/cycloadd_oniom_large/o2_pm6_B3LYP_631Gd_6_6_cent_carbonyl.com\" target = \"_blank\">com</a></td><td><input type=\"button\" value=\"Smart Log\" id=\"o2_pm6_B3LYP_631Gd_6_6_cent_carbonyl\" onclick=\"view_function(event, this.id)\" /></td><td>Success</td></tr><tr><td>o2_HF_STO-3G_B3LYP_631Gd_6_6_cent_carbonyl</td><td><a href = \"files/cycloadd_oniom_large/o2_HF_STO-3G_B3LYP_631Gd_6_6_cent_carbonyl.com\" target = \"_blank\">com</a></td><td><input type=\"button\" value=\"Smart Log\" id=\"o2_HF_STO-3G_B3LYP_631Gd_6_6_cent_carbonyl\" onclick=\"view_function(event, this.id)\" /></td><td>Success</td></tr><tr><td>o3_uff_B3LYP_631Gd_6_6_cent_carbonyl</td><td><a href = \"files/cycloadd_oniom_large/o3_uff_B3LYP_631Gd_6_6_cent_carbonyl.com\" target = \"_blank\">com</a></td><td><input type=\"button\" value=\"Smart Log\" id=\"o3_uff_B3LYP_631Gd_6_6_cent_carbonyl\" onclick=\"view_function(event, this.id)\" /></td><td>Success</td></tr><tr><td>o3_am1_B3LYP_631Gd_6_6_cent_carbonyl</td><td><a href = \"files/cycloadd_oniom_large/o3_am1_B3LYP_631Gd_6_6_cent_carbonyl.com\" target = \"_blank\">com</a></td><td><input type=\"button\" value=\"Smart Log\" id=\"o3_am1_B3LYP_631Gd_6_6_cent_carbonyl\" onclick=\"view_function(event, this.id)\" /></td><td>Success</td></tr><tr><td>o3_pm6_B3LYP_631Gd_6_6_cent_carbonyl</td><td><a href = \"files/cycloadd_oniom_large/o3_pm6_B3LYP_631Gd_6_6_cent_carbonyl.com\" target = \"_blank\">com</a></td><td><input type=\"button\" value=\"Smart Log\" id=\"o3_pm6_B3LYP_631Gd_6_6_cent_carbonyl\" onclick=\"view_function(event, this.id)\" /></td><td>Success</td></tr><tr><td>o3_HF_STO-3G_B3LYP_631Gd_6_6_cent_carbonyl</td><td><a href = \"files/cycloadd_oniom_large/o3_HF_STO-3G_B3LYP_631Gd_6_6_cent_carbonyl.com\" target = \"_blank\">com</a></td><td><input type=\"button\" value=\"Smart Log\" id=\"o3_HF_STO-3G_B3LYP_631Gd_6_6_cent_carbonyl\" onclick=\"view_function(event, this.id)\" /></td><td>Success</td></tr><tr><td>o4_uff_B3LYP_631Gd_6_6_cent_carbonyl</td><td><a href = \"files/cycloadd_oniom_large/o4_uff_B3LYP_631Gd_6_6_cent_carbonyl.com\" target = \"_blank\">com</a></td><td><input type=\"button\" value=\"Smart Log\" id=\"o4_uff_B3LYP_631Gd_6_6_cent_carbonyl\" onclick=\"view_function(event, this.id)\" /></td><td>Success</td></tr><tr><td>o4_am1_B3LYP_631Gd_6_6_cent_carbonyl</td><td><a href = \"files/cycloadd_oniom_large/o4_am1_B3LYP_631Gd_6_6_cent_carbonyl.com\" target = \"_blank\">com</a></td><td><input type=\"button\" value=\"Smart Log\" id=\"o4_am1_B3LYP_631Gd_6_6_cent_carbonyl\" onclick=\"view_function(event, this.id)\" /></td><td>Success</td></tr><tr><td>o4_pm6_B3LYP_631Gd_6_6_cent_carbonyl</td><td><a href = \"files/cycloadd_oniom_large/o4_pm6_B3LYP_631Gd_6_6_cent_carbonyl.com\" target = \"_blank\">com</a></td><td><input type=\"button\" value=\"Smart Log\" id=\"o4_pm6_B3LYP_631Gd_6_6_cent_carbonyl\" onclick=\"view_function(event, this.id)\" /></td><td>Success</td></tr><tr><td>o4_HF_STO-3G_B3LYP_631Gd_6_6_cent_carbonyl</td><td><a href = \"files/cycloadd_oniom_large/o4_HF_STO-3G_B3LYP_631Gd_6_6_cent_carbonyl.com\" target = \"_blank\">com</a></td><td><input type=\"button\" value=\"Smart Log\" id=\"o4_HF_STO-3G_B3LYP_631Gd_6_6_cent_carbonyl\" onclick=\"view_function(event, this.id)\" /></td><td>Success</td></tr><tr><td>o5_uff_B3LYP_631Gd_6_6_cent_carbonyl</td><td><a href = \"files/cycloadd_oniom_large/o5_uff_B3LYP_631Gd_6_6_cent_carbonyl.com\" target = \"_blank\">com</a></td><td><input type=\"button\" value=\"Smart Log\" id=\"o5_uff_B3LYP_631Gd_6_6_cent_carbonyl\" onclick=\"view_function(event, this.id)\" /></td><td>Success</td></tr><tr><td>o5_am1_B3LYP_631Gd_6_6_cent_carbonyl</td><td><a href = \"files/cycloadd_oniom_large/o5_am1_B3LYP_631Gd_6_6_cent_carbonyl.com\" target = \"_blank\">com</a></td><td><input type=\"button\" value=\"Smart Log\" id=\"o5_am1_B3LYP_631Gd_6_6_cent_carbonyl\" onclick=\"view_function(event, this.id)\" /></td><td>Success</td></tr><tr><td>o5_pm6_B3LYP_631Gd_6_6_cent_carbonyl</td><td><a href = \"files/cycloadd_oniom_large/o5_pm6_B3LYP_631Gd_6_6_cent_carbonyl.com\" target = \"_blank\">com</a></td><td><input type=\"button\" value=\"Smart Log\" id=\"o5_pm6_B3LYP_631Gd_6_6_cent_carbonyl\" onclick=\"view_function(event, this.id)\" /></td><td>Success</td></tr><tr><td>o5_HF_STO-3G_B3LYP_631Gd_6_6_cent_carbonyl</td><td><a href = \"files/cycloadd_oniom_large/o5_HF_STO-3G_B3LYP_631Gd_6_6_cent_carbonyl.com\" target = \"_blank\">com</a></td><td><input type=\"button\" value=\"Smart Log\" id=\"o5_HF_STO-3G_B3LYP_631Gd_6_6_cent_carbonyl\" onclick=\"view_function(event, this.id)\" /></td><td>Success</td></tr><tr><td>o6_uff_B3LYP_631Gd_6_6_cent_carbonyl</td><td><a href = \"files/cycloadd_oniom_large/o6_uff_B3LYP_631Gd_6_6_cent_carbonyl.com\" target = \"_blank\">com</a></td><td><input type=\"button\" value=\"Smart Log\" id=\"o6_uff_B3LYP_631Gd_6_6_cent_carbonyl\" onclick=\"view_function(event, this.id)\" /></td><td>Success</td></tr><tr><td>o6_am1_B3LYP_631Gd_6_6_cent_carbonyl</td><td><a href = \"files/cycloadd_oniom_large/o6_am1_B3LYP_631Gd_6_6_cent_carbonyl.com\" target = \"_blank\">com</a></td><td><input type=\"button\" value=\"Smart Log\" id=\"o6_am1_B3LYP_631Gd_6_6_cent_carbonyl\" onclick=\"view_function(event, this.id)\" /></td><td>Success</td></tr><tr><td>o6_pm6_B3LYP_631Gd_6_6_cent_carbonyl</td><td><a href = \"files/cycloadd_oniom_large/o6_pm6_B3LYP_631Gd_6_6_cent_carbonyl.com\" target = \"_blank\">com</a></td><td><input type=\"button\" value=\"Smart Log\" id=\"o6_pm6_B3LYP_631Gd_6_6_cent_carbonyl\" onclick=\"view_function(event, this.id)\" /></td><td>Success</td></tr><tr><td>o6_HF_STO-3G_B3LYP_631Gd_6_6_cent_carbonyl</td><td><a href = \"files/cycloadd_oniom_large/o6_HF_STO-3G_B3LYP_631Gd_6_6_cent_carbonyl.com\" target = \"_blank\">com</a></td><td><input type=\"button\" value=\"Smart Log\" id=\"o6_HF_STO-3G_B3LYP_631Gd_6_6_cent_carbonyl\" onclick=\"view_function(event, this.id)\" /></td><td>Success</td></tr><tr><td>o7_uff_B3LYP_631Gd_6_6_cent_carbonyl</td><td><a href = \"files/cycloadd_oniom_large/o7_uff_B3LYP_631Gd_6_6_cent_carbonyl.com\" target = \"_blank\">com</a></td><td><input type=\"button\" value=\"Smart Log\" id=\"o7_uff_B3LYP_631Gd_6_6_cent_carbonyl\" onclick=\"view_function(event, this.id)\" /></td><td>Success</td></tr><tr><td>o7_am1_B3LYP_631Gd_6_6_cent_carbonyl</td><td><a href = \"files/cycloadd_oniom_large/o7_am1_B3LYP_631Gd_6_6_cent_carbonyl.com\" target = \"_blank\">com</a></td><td><input type=\"button\" value=\"Smart Log\" id=\"o7_am1_B3LYP_631Gd_6_6_cent_carbonyl\" onclick=\"view_function(event, this.id)\" /></td><td>Success</td></tr><tr><td>o7_pm6_B3LYP_631Gd_6_6_cent_carbonyl</td><td><a href = \"files/cycloadd_oniom_large/o7_pm6_B3LYP_631Gd_6_6_cent_carbonyl.com\" target = \"_blank\">com</a></td><td><input type=\"button\" value=\"Smart Log\" id=\"o7_pm6_B3LYP_631Gd_6_6_cent_carbonyl\" onclick=\"view_function(event, this.id)\" /></td><td>Success</td></tr><tr><td>o7_HF_STO-3G_B3LYP_631Gd_6_6_cent_carbonyl</td><td><a href = \"files/cycloadd_oniom_large/o7_HF_STO-3G_B3LYP_631Gd_6_6_cent_carbonyl.com\" target = \"_blank\">com</a></td><td><input type=\"button\" value=\"Smart Log\" id=\"o7_HF_STO-3G_B3LYP_631Gd_6_6_cent_carbonyl\" onclick=\"view_function(event, this.id)\" /></td><td>Success</td></tr><tr><td>o_sanity_B3LYP_631Gd_6_6_cent_carbonyl</td><td><a href = \"files/cycloadd_oniom_large/o_sanity_B3LYP_631Gd_6_6_cent_carbonyl.com\" target = \"_blank\">com</a></td><td><input type=\"button\" value=\"Smart Log\" id=\"o_sanity_B3LYP_631Gd_6_6_cent_carbonyl\" onclick=\"view_function(event, this.id)\" /></td><td>Success</td></tr>\n",
        "    </table>\n",
        "    </body>"
       ],
       "output_type": "pyout",
       "prompt_number": 16,
       "text": [
        "<IPython.core.display.HTML at 0x3469750>"
       ]
      }
     ],
     "prompt_number": 16
    },
    {
     "cell_type": "heading",
     "level": 3,
     "metadata": {},
     "source": [
      "Optimised geometry"
     ]
    },
    {
     "cell_type": "markdown",
     "metadata": {},
     "source": [
      "Need to redo optimised geom sanity calcs - the files are there but the job options are wrong"
     ]
    },
    {
     "cell_type": "code",
     "collapsed": false,
     "input": [
      "o_66_opt_carb = []\n",
      "o_66_opt = []\n",
      "\n",
      "mast_graph_ylid = read(carb_66_xyz)\n",
      "mast_graph = read(graph_66_xyz)\n",
      "\n",
      "for siz in range(len(graph_atoms)):\n",
      "    for meth in l_methods:\n",
      "        graph_ylid = copy.deepcopy(mast_graph_ylid)\n",
      "        graph_ylid_name = 'o{s}_{m}_o{s}_{m}_6_6_cent_carbonyl'.format(m=meth.replace('/', '_'), s=siz)\n",
      "        graph_ylid.set_calculator(Gaussian(label=graph_ylid_name, method='oniom(B3LYP/6-31G(d):{l})'.format(l=meth), basis='oniom', opt='opt'))\n",
      "        graph_ylid_H = ylide_atoms + graph_atoms[siz]\n",
      "        graph_ylid.calc.coord_params['layers'] = [[no -1 for no in graph_ylid_H]]\n",
      "        graph_ylid.calc.coord_params['layer_mults'] = [1,1]\n",
      "        graph_ylid.calc.set_job(nodes=12, memory=12*1600, time=8+(siz*6))\n",
      "        \n",
      "        graph = copy.deepcopy(mast_graph)\n",
      "        graph_name = 'o{s}_{m}_o{s}_{m}_6_6_graphene'.format(m=meth.replace('/', '_'), s=siz)\n",
      "        graph.set_calculator(Gaussian(label=graph_name, method='oniom(B3LYP/6-31G(d):{l})'.format(l=meth), basis='oniom',opt='opt'))\n",
      "        graph_H = graph_atoms[siz]\n",
      "        graph.calc.coord_params['layers'] = [[no -1 for no in graph_H]]\n",
      "        graph.calc.coord_params['layer_mults'] = [1,1]\n",
      "        graph.calc.set_job(nodes=12, memory=12*1600, time=8+(siz*6))\n",
      "        \n",
      "        #graph_ylid.get_potential_energy()\n",
      "        #graph.get_potential_energy()\n",
      "        o_66_opt_carb.append(graph_ylid)\n",
      "        o_66_opt.append(graph)\n",
      "        \n",
      "#sanity check\n",
      "graph_ylid = copy.deepcopy(mast_graph_ylid)\n",
      "graph_ylid_name = 'o_sanity_o_sanity_6_6_cent_carbonyl'\n",
      "graph_ylid.set_calculator(Gaussian(label=graph_ylid_name, method='oniom(B3LYP/6-31G(d):B3LYP/6-31G(d))', basis='oniom',opt='opt'))\n",
      "graph_ylid_H = ylide_atoms + graph_atoms[0]\n",
      "graph_ylid.calc.coord_params['layers'] = [[no -1 for no in graph_ylid_H]]\n",
      "graph_ylid.calc.coord_params['layer_mults'] = [1,1]\n",
      "graph_ylid.calc.set_job(nodes=12, memory=12*1400, time=60)\n",
      "        \n",
      "graph = copy.deepcopy(mast_graph)\n",
      "graph_name = 'o_sanity_o_sanity_6_6_graphene'\n",
      "graph.set_calculator(Gaussian(label=graph_name, method='oniom(B3LYP/6-31G(d):B3LYP/6-31G(d))', basis='oniom',opt='opt'))\n",
      "graph_H = graph_atoms[0]\n",
      "graph.calc.coord_params['layers'] = [[no -1 for no in graph_H]]\n",
      "graph.calc.coord_params['layer_mults'] = [1,1]\n",
      "graph.calc.set_job(nodes=12, memory=12*2000, time=60)\n",
      "        \n",
      "#graph_ylid.get_potential_energy()\n",
      "#graph.get_potential_energy()\n",
      "o_66_opt_carb.append(graph_ylid)\n",
      "o_66_opt.append(graph)"
     ],
     "language": "python",
     "metadata": {},
     "outputs": [],
     "prompt_number": 17
    },
    {
     "cell_type": "code",
     "collapsed": false,
     "input": [
      "opt_p_calcs = check_calcs(o_66_opt_carb + o_66_opt)"
     ],
     "language": "python",
     "metadata": {},
     "outputs": [],
     "prompt_number": 18
    },
    {
     "cell_type": "code",
     "collapsed": false,
     "input": [
      "mols_to_html(opt_p_calcs)"
     ],
     "language": "python",
     "metadata": {},
     "outputs": [
      {
       "html": [
        "\n",
        "           <script type=\"text/javascript\">\n",
        "           function view_function (event, file_n) {\n",
        "               if (event.ctrlKey && event.shiftKey){\n",
        "                   IPython.notebook.kernel.execute(\"cc_notebook_utils.pygview('\" + file_n + \".log')\");\n",
        "               }\n",
        "               else if (event.ctrlKey){\n",
        "                   IPython.notebook.kernel.execute(\"cc_notebook_utils.pygausssum('\" + file_n + \".log')\");\n",
        "               }\n",
        "               else if (event.shiftKey){\n",
        "                   IPython.notebook.kernel.execute(\"cc_notebook_utils.pyvogadro('\" + file_n + \".log')\");\n",
        "               }\n",
        "               else IPython.notebook.kernel.execute(\"cc_notebook_utils.pyvim('\" + file_n + \".log')\");\n",
        "           }\n",
        "           </script>\n",
        "    <style>\n",
        "    table\n",
        "    {\n",
        "        border-collapse:collapse;\n",
        "    }\n",
        "    td\n",
        "    {\n",
        "        padding:15px;\n",
        "    }\n",
        "    </style>\n",
        "    <body>\n",
        "    <table bgcolor=\"white\">\n",
        "    <col/><tr><td>o2_pm6_o2_pm6_6_6_cent_carbonyl</td><td><a href = \"files/cycloadd_oniom_large/o2_pm6_o2_pm6_6_6_cent_carbonyl.com\" target = \"_blank\">com</a></td><td><input type=\"button\" value=\"Smart Log\" id=\"o2_pm6_o2_pm6_6_6_cent_carbonyl\" onclick=\"view_function(event, this.id)\" /></td><td>Error: Convergence failure -- run terminated.</td></tr><tr><td>o4_uff_o4_uff_6_6_cent_carbonyl</td><td><a href = \"files/cycloadd_oniom_large/o4_uff_o4_uff_6_6_cent_carbonyl.com\" target = \"_blank\">com</a></td><td><input type=\"button\" value=\"Smart Log\" id=\"o4_uff_o4_uff_6_6_cent_carbonyl\" onclick=\"view_function(event, this.id)\" /></td><td>Error: Convergence failure -- run terminated.</td></tr><tr><td>o7_uff_o7_uff_6_6_cent_carbonyl</td><td><a href = \"files/cycloadd_oniom_large/o7_uff_o7_uff_6_6_cent_carbonyl.com\" target = \"_blank\">com</a></td><td><input type=\"button\" value=\"Smart Log\" id=\"o7_uff_o7_uff_6_6_cent_carbonyl\" onclick=\"view_function(event, this.id)\" /></td><td>Error: Convergence failure -- run terminated.</td></tr><tr><td>o4_uff_o4_uff_6_6_graphene</td><td><a href = \"files/cycloadd_oniom_large/o4_uff_o4_uff_6_6_graphene.com\" target = \"_blank\">com</a></td><td><input type=\"button\" value=\"Smart Log\" id=\"o4_uff_o4_uff_6_6_graphene\" onclick=\"view_function(event, this.id)\" /></td><td>Error: Convergence failure -- run terminated.</td></tr><tr><td>o7_uff_o7_uff_6_6_graphene</td><td><a href = \"files/cycloadd_oniom_large/o7_uff_o7_uff_6_6_graphene.com\" target = \"_blank\">com</a></td><td><input type=\"button\" value=\"Smart Log\" id=\"o7_uff_o7_uff_6_6_graphene\" onclick=\"view_function(event, this.id)\" /></td><td>Error: Convergence failure -- run terminated.</td></tr>\n",
        "    </table>\n",
        "    </body>"
       ],
       "output_type": "pyout",
       "prompt_number": 19,
       "text": [
        "<IPython.core.display.HTML at 0x43ab790>"
       ]
      }
     ],
     "prompt_number": 19
    },
    {
     "cell_type": "markdown",
     "metadata": {},
     "source": [
      "All other than o2_pm6 succeeded for several geom opt steps so we restart those from their check point files"
     ]
    },
    {
     "cell_type": "code",
     "collapsed": false,
     "input": [
      "for opt_p_calc in [opt_p_calcs[0]]:\n",
      "    opt_p_calc.calc.restart(no_old_chk=True, opt='maxcycles=100',scf='xqc')#, start=True)\n",
      "for opt_p_calc in opt_p_calcs[1:]:\n",
      "    opt_p_calc.calc.restart(geom='allcheck',opt='maxcycles=100', scf='xqc')#, start=True)"
     ],
     "language": "python",
     "metadata": {},
     "outputs": [
      {
       "output_type": "stream",
       "stream": "stdout",
       "text": [
        "[Gaussian o4_uff_o4_uff_6_6_cent_carbonyl.log INFO] Creating attribute charge: 0\n"
       ]
      },
      {
       "output_type": "stream",
       "stream": "stdout",
       "text": [
        "[Gaussian o4_uff_o4_uff_6_6_cent_carbonyl.log INFO] Creating attribute mult: 1\n"
       ]
      },
      {
       "output_type": "stream",
       "stream": "stdout",
       "text": [
        "[Gaussian o4_uff_o4_uff_6_6_cent_carbonyl.log INFO] Creating attribute natom: 129\n"
       ]
      },
      {
       "output_type": "stream",
       "stream": "stdout",
       "text": [
        "[Gaussian o4_uff_o4_uff_6_6_cent_carbonyl.log INFO] Creating attribute atommasses[]\n"
       ]
      },
      {
       "output_type": "stream",
       "stream": "stdout",
       "text": [
        "[Gaussian o4_uff_o4_uff_6_6_cent_carbonyl.log INFO] Creating attribute atomcoords[]\n"
       ]
      },
      {
       "output_type": "stream",
       "stream": "stdout",
       "text": [
        "[Gaussian o4_uff_o4_uff_6_6_cent_carbonyl.log INFO] Creating attribute atomnos[]\n"
       ]
      },
      {
       "output_type": "stream",
       "stream": "stdout",
       "text": [
        "[Gaussian o4_uff_o4_uff_6_6_cent_carbonyl.log INFO] Creating attribute scftargets[]\n"
       ]
      },
      {
       "output_type": "stream",
       "stream": "stdout",
       "text": [
        "[Gaussian o4_uff_o4_uff_6_6_cent_carbonyl.log INFO] Creating attribute scfvalues[]\n"
       ]
      },
      {
       "output_type": "stream",
       "stream": "stdout",
       "text": [
        "[Gaussian o4_uff_o4_uff_6_6_cent_carbonyl.log INFO] Creating attribute mosyms[]\n"
       ]
      },
      {
       "output_type": "stream",
       "stream": "stdout",
       "text": [
        "[Gaussian o4_uff_o4_uff_6_6_cent_carbonyl.log INFO] Creating attribute homos[]\n"
       ]
      },
      {
       "output_type": "stream",
       "stream": "stdout",
       "text": [
        "[Gaussian o4_uff_o4_uff_6_6_cent_carbonyl.log INFO] Creating attribute scfenergies[]\n"
       ]
      },
      {
       "output_type": "stream",
       "stream": "stdout",
       "text": [
        "[Gaussian o4_uff_o4_uff_6_6_cent_carbonyl.log INFO] Creating attribute grads[]\n"
       ]
      },
      {
       "output_type": "stream",
       "stream": "stdout",
       "text": [
        "[Gaussian o4_uff_o4_uff_6_6_cent_carbonyl.log INFO] Creating attribute geovalues[]\n"
       ]
      },
      {
       "output_type": "stream",
       "stream": "stdout",
       "text": [
        "[Gaussian o4_uff_o4_uff_6_6_cent_carbonyl.log INFO] Creating attribute geotargets[]\n"
       ]
      },
      {
       "output_type": "stream",
       "stream": "stdout",
       "text": [
        "[Gaussian o4_uff_o4_uff_6_6_cent_carbonyl.log INFO] Creating attribute coreelectrons[]\n"
       ]
      },
      {
       "output_type": "stream",
       "stream": "stdout",
       "text": [
        "[Gaussian o7_uff_o7_uff_6_6_cent_carbonyl.log INFO] Creating attribute charge: 0\n"
       ]
      },
      {
       "output_type": "stream",
       "stream": "stdout",
       "text": [
        "[Gaussian o7_uff_o7_uff_6_6_cent_carbonyl.log INFO] Creating attribute mult: 1\n"
       ]
      },
      {
       "output_type": "stream",
       "stream": "stdout",
       "text": [
        "[Gaussian o7_uff_o7_uff_6_6_cent_carbonyl.log INFO] Creating attribute natom: 129\n"
       ]
      },
      {
       "output_type": "stream",
       "stream": "stdout",
       "text": [
        "[Gaussian o7_uff_o7_uff_6_6_cent_carbonyl.log INFO] Creating attribute atommasses[]\n"
       ]
      },
      {
       "output_type": "stream",
       "stream": "stdout",
       "text": [
        "[Gaussian o7_uff_o7_uff_6_6_cent_carbonyl.log INFO] Creating attribute atomcoords[]\n"
       ]
      },
      {
       "output_type": "stream",
       "stream": "stdout",
       "text": [
        "[Gaussian o7_uff_o7_uff_6_6_cent_carbonyl.log INFO] Creating attribute atomnos[]\n"
       ]
      },
      {
       "output_type": "stream",
       "stream": "stdout",
       "text": [
        "[Gaussian o7_uff_o7_uff_6_6_cent_carbonyl.log INFO] Creating attribute scftargets[]\n"
       ]
      },
      {
       "output_type": "stream",
       "stream": "stdout",
       "text": [
        "[Gaussian o7_uff_o7_uff_6_6_cent_carbonyl.log INFO] Creating attribute scfvalues[]\n"
       ]
      },
      {
       "output_type": "stream",
       "stream": "stdout",
       "text": [
        "[Gaussian o7_uff_o7_uff_6_6_cent_carbonyl.log INFO] Creating attribute mosyms[]\n"
       ]
      },
      {
       "output_type": "stream",
       "stream": "stdout",
       "text": [
        "[Gaussian o7_uff_o7_uff_6_6_cent_carbonyl.log INFO] Creating attribute homos[]\n"
       ]
      },
      {
       "output_type": "stream",
       "stream": "stdout",
       "text": [
        "[Gaussian o7_uff_o7_uff_6_6_cent_carbonyl.log INFO] Creating attribute scfenergies[]\n"
       ]
      },
      {
       "output_type": "stream",
       "stream": "stdout",
       "text": [
        "[Gaussian o7_uff_o7_uff_6_6_cent_carbonyl.log INFO] Creating attribute grads[]\n"
       ]
      },
      {
       "output_type": "stream",
       "stream": "stdout",
       "text": [
        "[Gaussian o7_uff_o7_uff_6_6_cent_carbonyl.log INFO] Creating attribute geovalues[]\n"
       ]
      },
      {
       "output_type": "stream",
       "stream": "stdout",
       "text": [
        "[Gaussian o7_uff_o7_uff_6_6_cent_carbonyl.log INFO] Creating attribute geotargets[]\n"
       ]
      },
      {
       "output_type": "stream",
       "stream": "stdout",
       "text": [
        "[Gaussian o7_uff_o7_uff_6_6_cent_carbonyl.log ERROR] Problem parsing the value for geometry optimisation: ******** is not a number.\n"
       ]
      },
      {
       "output_type": "stream",
       "stream": "stdout",
       "text": [
        "[Gaussian o7_uff_o7_uff_6_6_cent_carbonyl.log INFO] Creating attribute coreelectrons[]\n"
       ]
      },
      {
       "output_type": "stream",
       "stream": "stdout",
       "text": [
        "[Gaussian o4_uff_o4_uff_6_6_graphene.log INFO] Creating attribute charge: 0\n"
       ]
      },
      {
       "output_type": "stream",
       "stream": "stdout",
       "text": [
        "[Gaussian o4_uff_o4_uff_6_6_graphene.log INFO] Creating attribute mult: 1\n"
       ]
      },
      {
       "output_type": "stream",
       "stream": "stdout",
       "text": [
        "[Gaussian o4_uff_o4_uff_6_6_graphene.log INFO] Creating attribute natom: 122\n"
       ]
      },
      {
       "output_type": "stream",
       "stream": "stdout",
       "text": [
        "[Gaussian o4_uff_o4_uff_6_6_graphene.log INFO] Creating attribute atommasses[]\n"
       ]
      },
      {
       "output_type": "stream",
       "stream": "stdout",
       "text": [
        "[Gaussian o4_uff_o4_uff_6_6_graphene.log INFO] Creating attribute atomcoords[]\n"
       ]
      },
      {
       "output_type": "stream",
       "stream": "stdout",
       "text": [
        "[Gaussian o4_uff_o4_uff_6_6_graphene.log INFO] Creating attribute atomnos[]\n"
       ]
      },
      {
       "output_type": "stream",
       "stream": "stdout",
       "text": [
        "[Gaussian o4_uff_o4_uff_6_6_graphene.log INFO] Creating attribute scftargets[]\n"
       ]
      },
      {
       "output_type": "stream",
       "stream": "stdout",
       "text": [
        "[Gaussian o4_uff_o4_uff_6_6_graphene.log INFO] Creating attribute scfvalues[]\n"
       ]
      },
      {
       "output_type": "stream",
       "stream": "stdout",
       "text": [
        "[Gaussian o4_uff_o4_uff_6_6_graphene.log INFO] Creating attribute mosyms[]\n"
       ]
      },
      {
       "output_type": "stream",
       "stream": "stdout",
       "text": [
        "[Gaussian o4_uff_o4_uff_6_6_graphene.log INFO] Creating attribute homos[]\n"
       ]
      },
      {
       "output_type": "stream",
       "stream": "stdout",
       "text": [
        "[Gaussian o4_uff_o4_uff_6_6_graphene.log INFO] Creating attribute scfenergies[]\n"
       ]
      },
      {
       "output_type": "stream",
       "stream": "stdout",
       "text": [
        "[Gaussian o4_uff_o4_uff_6_6_graphene.log INFO] Creating attribute grads[]\n"
       ]
      },
      {
       "output_type": "stream",
       "stream": "stdout",
       "text": [
        "[Gaussian o4_uff_o4_uff_6_6_graphene.log INFO] Creating attribute geovalues[]\n"
       ]
      },
      {
       "output_type": "stream",
       "stream": "stdout",
       "text": [
        "[Gaussian o4_uff_o4_uff_6_6_graphene.log INFO] Creating attribute geotargets[]\n"
       ]
      },
      {
       "output_type": "stream",
       "stream": "stdout",
       "text": [
        "[Gaussian o4_uff_o4_uff_6_6_graphene.log INFO] Creating attribute coreelectrons[]\n"
       ]
      },
      {
       "output_type": "stream",
       "stream": "stdout",
       "text": [
        "[Gaussian o7_uff_o7_uff_6_6_graphene.log INFO] Creating attribute charge: 0\n"
       ]
      },
      {
       "output_type": "stream",
       "stream": "stdout",
       "text": [
        "[Gaussian o7_uff_o7_uff_6_6_graphene.log INFO] Creating attribute mult: 1\n"
       ]
      },
      {
       "output_type": "stream",
       "stream": "stdout",
       "text": [
        "[Gaussian o7_uff_o7_uff_6_6_graphene.log INFO] Creating attribute natom: 122\n"
       ]
      },
      {
       "output_type": "stream",
       "stream": "stdout",
       "text": [
        "[Gaussian o7_uff_o7_uff_6_6_graphene.log INFO] Creating attribute atommasses[]\n"
       ]
      },
      {
       "output_type": "stream",
       "stream": "stdout",
       "text": [
        "[Gaussian o7_uff_o7_uff_6_6_graphene.log INFO] Creating attribute atomcoords[]\n"
       ]
      },
      {
       "output_type": "stream",
       "stream": "stdout",
       "text": [
        "[Gaussian o7_uff_o7_uff_6_6_graphene.log INFO] Creating attribute atomnos[]\n"
       ]
      },
      {
       "output_type": "stream",
       "stream": "stdout",
       "text": [
        "[Gaussian o7_uff_o7_uff_6_6_graphene.log INFO] Creating attribute scftargets[]\n"
       ]
      },
      {
       "output_type": "stream",
       "stream": "stdout",
       "text": [
        "[Gaussian o7_uff_o7_uff_6_6_graphene.log INFO] Creating attribute scfvalues[]\n"
       ]
      },
      {
       "output_type": "stream",
       "stream": "stdout",
       "text": [
        "[Gaussian o7_uff_o7_uff_6_6_graphene.log INFO] Creating attribute mosyms[]\n"
       ]
      },
      {
       "output_type": "stream",
       "stream": "stdout",
       "text": [
        "[Gaussian o7_uff_o7_uff_6_6_graphene.log INFO] Creating attribute homos[]\n"
       ]
      },
      {
       "output_type": "stream",
       "stream": "stdout",
       "text": [
        "[Gaussian o7_uff_o7_uff_6_6_graphene.log INFO] Creating attribute scfenergies[]\n"
       ]
      },
      {
       "output_type": "stream",
       "stream": "stdout",
       "text": [
        "[Gaussian o7_uff_o7_uff_6_6_graphene.log INFO] Creating attribute grads[]\n"
       ]
      },
      {
       "output_type": "stream",
       "stream": "stdout",
       "text": [
        "[Gaussian o7_uff_o7_uff_6_6_graphene.log INFO] Creating attribute geovalues[]\n"
       ]
      },
      {
       "output_type": "stream",
       "stream": "stdout",
       "text": [
        "[Gaussian o7_uff_o7_uff_6_6_graphene.log INFO] Creating attribute geotargets[]\n"
       ]
      },
      {
       "output_type": "stream",
       "stream": "stdout",
       "text": [
        "[Gaussian o7_uff_o7_uff_6_6_graphene.log INFO] Creating attribute coreelectrons[]\n"
       ]
      }
     ],
     "prompt_number": 20
    },
    {
     "cell_type": "code",
     "collapsed": false,
     "input": [
      "opt_p_calcs = check_calcs(o_66_opt_carb + o_66_opt)"
     ],
     "language": "python",
     "metadata": {},
     "outputs": [],
     "prompt_number": 21
    },
    {
     "cell_type": "markdown",
     "metadata": {},
     "source": [
      "Unfortunateable the above calculations were performed using the development version of gaussian, we have now swapped to the default version as there are issues with the development version(see Error: NInts<0 in InToWP, in graphene_oniom_cycloadditions_v2). As a result attempts to read from the previous chk files seem to be failing so we will start again without reading the chk file for the final 4."
     ]
    },
    {
     "cell_type": "code",
     "collapsed": false,
     "input": [
      "mols_to_html(opt_p_calcs)"
     ],
     "language": "python",
     "metadata": {},
     "outputs": [
      {
       "html": [
        "\n",
        "           <script type=\"text/javascript\">\n",
        "           function view_function (event, file_n) {\n",
        "               if (event.ctrlKey && event.shiftKey){\n",
        "                   IPython.notebook.kernel.execute(\"cc_notebook_utils.pygview('\" + file_n + \".log')\");\n",
        "               }\n",
        "               else if (event.ctrlKey){\n",
        "                   IPython.notebook.kernel.execute(\"cc_notebook_utils.pygausssum('\" + file_n + \".log')\");\n",
        "               }\n",
        "               else if (event.shiftKey){\n",
        "                   IPython.notebook.kernel.execute(\"cc_notebook_utils.pyvogadro('\" + file_n + \".log')\");\n",
        "               }\n",
        "               else IPython.notebook.kernel.execute(\"cc_notebook_utils.pyvim('\" + file_n + \".log')\");\n",
        "           }\n",
        "           </script>\n",
        "    <style>\n",
        "    table\n",
        "    {\n",
        "        border-collapse:collapse;\n",
        "    }\n",
        "    td\n",
        "    {\n",
        "        padding:15px;\n",
        "    }\n",
        "    </style>\n",
        "    <body>\n",
        "    <table bgcolor=\"white\">\n",
        "    <col/><tr><td>o2_pm6_o2_pm6_6_6_cent_carbonyl_restart_1</td><td><a href = \"files/cycloadd_oniom_large/o2_pm6_o2_pm6_6_6_cent_carbonyl_restart_1.com\" target = \"_blank\">com</a></td><td><input type=\"button\" value=\"Smart Log\" id=\"o2_pm6_o2_pm6_6_6_cent_carbonyl_restart_1\" onclick=\"view_function(event, this.id)\" /></td><td>Error: </td></tr><tr><td>o4_uff_o4_uff_6_6_cent_carbonyl_restart_1</td><td><a href = \"files/cycloadd_oniom_large/o4_uff_o4_uff_6_6_cent_carbonyl_restart_1.com\" target = \"_blank\">com</a></td><td><input type=\"button\" value=\"Smart Log\" id=\"o4_uff_o4_uff_6_6_cent_carbonyl_restart_1\" onclick=\"view_function(event, this.id)\" /></td><td>Error: MaxFnO > MaxFnc in CnvMMF</td></tr><tr><td>o7_uff_o7_uff_6_6_cent_carbonyl_restart_1</td><td><a href = \"files/cycloadd_oniom_large/o7_uff_o7_uff_6_6_cent_carbonyl_restart_1.com\" target = \"_blank\">com</a></td><td><input type=\"button\" value=\"Smart Log\" id=\"o7_uff_o7_uff_6_6_cent_carbonyl_restart_1\" onclick=\"view_function(event, this.id)\" /></td><td>Error: MaxFnO > MaxFnc in CnvMMF</td></tr><tr><td>o4_uff_o4_uff_6_6_graphene_restart_1</td><td><a href = \"files/cycloadd_oniom_large/o4_uff_o4_uff_6_6_graphene_restart_1.com\" target = \"_blank\">com</a></td><td><input type=\"button\" value=\"Smart Log\" id=\"o4_uff_o4_uff_6_6_graphene_restart_1\" onclick=\"view_function(event, this.id)\" /></td><td>Error: MaxFnO > MaxFnc in CnvMMF</td></tr><tr><td>o7_uff_o7_uff_6_6_graphene_restart_1</td><td><a href = \"files/cycloadd_oniom_large/o7_uff_o7_uff_6_6_graphene_restart_1.com\" target = \"_blank\">com</a></td><td><input type=\"button\" value=\"Smart Log\" id=\"o7_uff_o7_uff_6_6_graphene_restart_1\" onclick=\"view_function(event, this.id)\" /></td><td>Error: MaxFnO > MaxFnc in CnvMMF</td></tr>\n",
        "    </table>\n",
        "    </body>"
       ],
       "output_type": "pyout",
       "prompt_number": 22,
       "text": [
        "<IPython.core.display.HTML at 0x4d35810>"
       ]
      }
     ],
     "prompt_number": 22
    },
    {
     "cell_type": "markdown",
     "metadata": {},
     "source": [
      "Bear in mind when we restart like this we taking the original geometry associated with the calculation"
     ]
    },
    {
     "cell_type": "code",
     "collapsed": false,
     "input": [
      "for opt_p_calc in opt_p_calcs[1:]:\n",
      "    opt_p_calc.calc.route_self_params['geom'] = \"\"\n",
      "    opt_p_calc.calc.restart(no_old_chk=True, opt='maxcycles=100', scf='xqc')#, start=True)"
     ],
     "language": "python",
     "metadata": {},
     "outputs": [],
     "prompt_number": 23
    },
    {
     "cell_type": "code",
     "collapsed": false,
     "input": [
      "opt_p_calcs=check_calcs(opt_p_calcs)\n",
      "mols_to_html(opt_p_calcs)"
     ],
     "language": "python",
     "metadata": {},
     "outputs": [
      {
       "html": [
        "\n",
        "           <script type=\"text/javascript\">\n",
        "           function view_function (event, file_n) {\n",
        "               if (event.ctrlKey && event.shiftKey){\n",
        "                   IPython.notebook.kernel.execute(\"cc_notebook_utils.pygview('\" + file_n + \".log')\");\n",
        "               }\n",
        "               else if (event.ctrlKey){\n",
        "                   IPython.notebook.kernel.execute(\"cc_notebook_utils.pygausssum('\" + file_n + \".log')\");\n",
        "               }\n",
        "               else if (event.shiftKey){\n",
        "                   IPython.notebook.kernel.execute(\"cc_notebook_utils.pyvogadro('\" + file_n + \".log')\");\n",
        "               }\n",
        "               else IPython.notebook.kernel.execute(\"cc_notebook_utils.pyvim('\" + file_n + \".log')\");\n",
        "           }\n",
        "           </script>\n",
        "    <style>\n",
        "    table\n",
        "    {\n",
        "        border-collapse:collapse;\n",
        "    }\n",
        "    td\n",
        "    {\n",
        "        padding:15px;\n",
        "    }\n",
        "    </style>\n",
        "    <body>\n",
        "    <table bgcolor=\"white\">\n",
        "    <col/><tr><td>o2_pm6_o2_pm6_6_6_cent_carbonyl_restart_1</td><td><a href = \"files/cycloadd_oniom_large/o2_pm6_o2_pm6_6_6_cent_carbonyl_restart_1.com\" target = \"_blank\">com</a></td><td><input type=\"button\" value=\"Smart Log\" id=\"o2_pm6_o2_pm6_6_6_cent_carbonyl_restart_1\" onclick=\"view_function(event, this.id)\" /></td><td>Error: </td></tr><tr><td>o4_uff_o4_uff_6_6_cent_carbonyl_restart_2</td><td><a href = \"files/cycloadd_oniom_large/o4_uff_o4_uff_6_6_cent_carbonyl_restart_2.com\" target = \"_blank\">com</a></td><td><input type=\"button\" value=\"Smart Log\" id=\"o4_uff_o4_uff_6_6_cent_carbonyl_restart_2\" onclick=\"view_function(event, this.id)\" /></td><td>Error: Linear angle in Bend.</td></tr><tr><td>o7_uff_o7_uff_6_6_cent_carbonyl_restart_2</td><td><a href = \"files/cycloadd_oniom_large/o7_uff_o7_uff_6_6_cent_carbonyl_restart_2.com\" target = \"_blank\">com</a></td><td><input type=\"button\" value=\"Smart Log\" id=\"o7_uff_o7_uff_6_6_cent_carbonyl_restart_2\" onclick=\"view_function(event, this.id)\" /></td><td>Incomplete</td></tr><tr><td>o4_uff_o4_uff_6_6_graphene_restart_2</td><td><a href = \"files/cycloadd_oniom_large/o4_uff_o4_uff_6_6_graphene_restart_2.com\" target = \"_blank\">com</a></td><td><input type=\"button\" value=\"Smart Log\" id=\"o4_uff_o4_uff_6_6_graphene_restart_2\" onclick=\"view_function(event, this.id)\" /></td><td>Error: Linear angle in Bend.</td></tr><tr><td>o7_uff_o7_uff_6_6_graphene_restart_2</td><td><a href = \"files/cycloadd_oniom_large/o7_uff_o7_uff_6_6_graphene_restart_2.com\" target = \"_blank\">com</a></td><td><input type=\"button\" value=\"Smart Log\" id=\"o7_uff_o7_uff_6_6_graphene_restart_2\" onclick=\"view_function(event, this.id)\" /></td><td>Error: Linear angle in Bend.</td></tr>\n",
        "    </table>\n",
        "    </body>"
       ],
       "output_type": "pyout",
       "prompt_number": 24,
       "text": [
        "<IPython.core.display.HTML at 0x377d6d0>"
       ]
      }
     ],
     "prompt_number": 24
    },
    {
     "cell_type": "heading",
     "level": 2,
     "metadata": {},
     "source": [
      "Transition State Energies"
     ]
    },
    {
     "cell_type": "heading",
     "level": 3,
     "metadata": {},
     "source": [
      "Single point"
     ]
    },
    {
     "cell_type": "code",
     "collapsed": false,
     "input": [
      "o_66_carb_ts = []\n",
      "\n",
      "mast_graph_ylid_ts = read(carb_66_ts_xyz)\n",
      "\n",
      "for siz in range(len(graph_atoms)):\n",
      "    for meth in l_methods:\n",
      "        graph_ylid = copy.deepcopy(mast_graph_ylid_ts)\n",
      "        graph_ylid_name = 'o{s}_{m}_B3LYP_631Gd_6_6_cent_carbonyl_ts'.format(m=meth.replace('/', '_'), s=siz)\n",
      "        graph_ylid.set_calculator(Gaussian(label=graph_ylid_name, method='oniom(B3LYP/6-31G(d):{l})'.format(l=meth), basis='oniom'))\n",
      "        graph_ylid_H = ylide_atoms + graph_atoms[siz]\n",
      "        graph_ylid.calc.coord_params['layers'] = [[no -1 for no in graph_ylid_H]]\n",
      "        graph_ylid.calc.coord_params['layer_mults'] = [1,1]\n",
      "        graph_ylid.calc.set_job(nodes=12, memory=12*1600, time=4, queue='pqmb')\n",
      "        #graph_ylid.get_potential_energy()\n",
      "        o_66_carb_ts.append(graph_ylid)\n",
      "        \n",
      "#sanity check\n",
      "graph_ylid = copy.deepcopy(mast_graph_ylid_ts)\n",
      "graph_ylid_name = 'o_sanity_B3LYP_631Gd_6_6_cent_carbonyl_ts'\n",
      "graph_ylid.set_calculator(Gaussian(label=graph_ylid_name, method='oniom(B3LYP/6-31G(d):B3LYP/6-31G(d))', basis='oniom'))\n",
      "graph_ylid_H = ylide_atoms + graph_atoms[0]\n",
      "graph_ylid.calc.coord_params['layers'] = [[no -1 for no in graph_ylid_H]]\n",
      "graph_ylid.calc.coord_params['layer_mults'] = [1,1]\n",
      "graph_ylid.calc.set_job(nodes=12, memory=12*1400, time=4, queue='pqmb')\n",
      "#graph_ylid.get_potential_energy()\n",
      "o_66_carb_ts.append(graph_ylid)"
     ],
     "language": "python",
     "metadata": {},
     "outputs": [],
     "prompt_number": 25
    },
    {
     "cell_type": "code",
     "collapsed": false,
     "input": [
      "ts_p_calcs = check_calcs(o_66_carb_ts)"
     ],
     "language": "python",
     "metadata": {},
     "outputs": [],
     "prompt_number": 26
    },
    {
     "cell_type": "code",
     "collapsed": false,
     "input": [
      "ts_p_calcs[0].calc.restart(no_old_chk=True, scf='xqc')#, start=True)"
     ],
     "language": "python",
     "metadata": {},
     "outputs": [
      {
       "output_type": "pyout",
       "prompt_number": 27,
       "text": [
        "<ase.calculators.gaussian.Gaussian instance at 0x56c8518>"
       ]
      }
     ],
     "prompt_number": 27
    },
    {
     "cell_type": "code",
     "collapsed": false,
     "input": [
      "check_calcs(o_66_carb_ts)"
     ],
     "language": "python",
     "metadata": {},
     "outputs": [
      {
       "output_type": "pyout",
       "prompt_number": 28,
       "text": [
        "'Calculations complete'"
       ]
      }
     ],
     "prompt_number": 28
    },
    {
     "cell_type": "heading",
     "level": 3,
     "metadata": {},
     "source": [
      "Optimised geometry"
     ]
    },
    {
     "cell_type": "markdown",
     "metadata": {},
     "source": [
      "Named badly - should not have the opt_ts at the end is already specifying level of theory used to calculate geometry"
     ]
    },
    {
     "cell_type": "code",
     "collapsed": false,
     "input": [
      "o_66_carb_opt_ts = []\n",
      "\n",
      "mast_graph_ylid_ts = read(carb_66_ts_xyz)\n",
      "\n",
      "for siz in range(len(graph_atoms)):\n",
      "    for meth in l_methods:\n",
      "        graph_ylid = copy.deepcopy(mast_graph_ylid_ts)\n",
      "        graph_ylid_name = 'o{s}_{m}_o{s}_{m}_6_6_cent_carbonyl_opt_ts'.format(m=meth.replace('/', '_'), s=siz)\n",
      "        graph_ylid.set_calculator(Gaussian(label=graph_ylid_name, method='oniom(B3LYP/6-31G(d):{l})'.format(l=meth), basis='oniom', opt='calcfc, ts, noeigen'))\n",
      "        graph_ylid_H = ylide_atoms + graph_atoms[siz]\n",
      "        graph_ylid.calc.coord_params['layers'] = [[no -1 for no in graph_ylid_H]]\n",
      "        graph_ylid.calc.coord_params['layer_mults'] = [1,1]\n",
      "        graph_ylid.calc.set_job(nodes=12, memory=12*1600, time=8*(siz+1), queue='pqmb')\n",
      "        #graph_ylid.get_potential_energy()\n",
      "        o_66_carb_opt_ts.append(graph_ylid)\n",
      "        \n",
      "#sanity check\n",
      "graph_ylid = copy.deepcopy(mast_graph_ylid_ts)\n",
      "graph_ylid_name = 'o_sanity_o_sanity_6_6_cent_carbonyl_opt_ts'\n",
      "graph_ylid.set_calculator(Gaussian(label=graph_ylid_name, method='oniom(B3LYP/6-31G(d):B3LYP/6-31G(d))', basis='oniom', opt='calcfc, ts, noeigen'))\n",
      "graph_ylid_H = ylide_atoms + graph_atoms[0]\n",
      "graph_ylid.calc.coord_params['layers'] = [[no -1 for no in graph_ylid_H]]\n",
      "graph_ylid.calc.coord_params['layer_mults'] = [1,1]\n",
      "graph_ylid.calc.set_job(nodes=12, memory=12*1400, time=70, queue='pqmb')\n",
      "#graph_ylid.get_potential_energy()\n",
      "o_66_carb_opt_ts.append(graph_ylid)"
     ],
     "language": "python",
     "metadata": {},
     "outputs": [],
     "prompt_number": 29
    },
    {
     "cell_type": "code",
     "collapsed": false,
     "input": [
      "opt_ts_p_calcs = check_calcs(o_66_carb_opt_ts)"
     ],
     "language": "python",
     "metadata": {},
     "outputs": [],
     "prompt_number": 30
    },
    {
     "cell_type": "code",
     "collapsed": false,
     "input": [
      "mols_to_html(opt_ts_p_calcs)"
     ],
     "language": "python",
     "metadata": {},
     "outputs": [
      {
       "html": [
        "\n",
        "           <script type=\"text/javascript\">\n",
        "           function view_function (event, file_n) {\n",
        "               if (event.ctrlKey && event.shiftKey){\n",
        "                   IPython.notebook.kernel.execute(\"cc_notebook_utils.pygview('\" + file_n + \".log')\");\n",
        "               }\n",
        "               else if (event.ctrlKey){\n",
        "                   IPython.notebook.kernel.execute(\"cc_notebook_utils.pygausssum('\" + file_n + \".log')\");\n",
        "               }\n",
        "               else if (event.shiftKey){\n",
        "                   IPython.notebook.kernel.execute(\"cc_notebook_utils.pyvogadro('\" + file_n + \".log')\");\n",
        "               }\n",
        "               else IPython.notebook.kernel.execute(\"cc_notebook_utils.pyvim('\" + file_n + \".log')\");\n",
        "           }\n",
        "           </script>\n",
        "    <style>\n",
        "    table\n",
        "    {\n",
        "        border-collapse:collapse;\n",
        "    }\n",
        "    td\n",
        "    {\n",
        "        padding:15px;\n",
        "    }\n",
        "    </style>\n",
        "    <body>\n",
        "    <table bgcolor=\"white\">\n",
        "    <col/><tr><td>o0_am1_o0_am1_6_6_cent_carbonyl_opt_ts</td><td><a href = \"files/cycloadd_oniom_large/o0_am1_o0_am1_6_6_cent_carbonyl_opt_ts.com\" target = \"_blank\">com</a></td><td><input type=\"button\" value=\"Smart Log\" id=\"o0_am1_o0_am1_6_6_cent_carbonyl_opt_ts\" onclick=\"view_function(event, this.id)\" /></td><td>Error: Convergence failure -- run terminated.</td></tr><tr><td>o0_pm6_o0_pm6_6_6_cent_carbonyl_opt_ts</td><td><a href = \"files/cycloadd_oniom_large/o0_pm6_o0_pm6_6_6_cent_carbonyl_opt_ts.com\" target = \"_blank\">com</a></td><td><input type=\"button\" value=\"Smart Log\" id=\"o0_pm6_o0_pm6_6_6_cent_carbonyl_opt_ts\" onclick=\"view_function(event, this.id)\" /></td><td>Error: Convergence failure -- run terminated.</td></tr><tr><td>o1_uff_o1_uff_6_6_cent_carbonyl_opt_ts</td><td><a href = \"files/cycloadd_oniom_large/o1_uff_o1_uff_6_6_cent_carbonyl_opt_ts.com\" target = \"_blank\">com</a></td><td><input type=\"button\" value=\"Smart Log\" id=\"o1_uff_o1_uff_6_6_cent_carbonyl_opt_ts\" onclick=\"view_function(event, this.id)\" /></td><td>Error: </td></tr><tr><td>o1_am1_o1_am1_6_6_cent_carbonyl_opt_ts</td><td><a href = \"files/cycloadd_oniom_large/o1_am1_o1_am1_6_6_cent_carbonyl_opt_ts.com\" target = \"_blank\">com</a></td><td><input type=\"button\" value=\"Smart Log\" id=\"o1_am1_o1_am1_6_6_cent_carbonyl_opt_ts\" onclick=\"view_function(event, this.id)\" /></td><td>Error: Convergence failure -- run terminated.</td></tr><tr><td>o1_pm6_o1_pm6_6_6_cent_carbonyl_opt_ts</td><td><a href = \"files/cycloadd_oniom_large/o1_pm6_o1_pm6_6_6_cent_carbonyl_opt_ts.com\" target = \"_blank\">com</a></td><td><input type=\"button\" value=\"Smart Log\" id=\"o1_pm6_o1_pm6_6_6_cent_carbonyl_opt_ts\" onclick=\"view_function(event, this.id)\" /></td><td>Error: Convergence failure -- run terminated.</td></tr><tr><td>o2_uff_o2_uff_6_6_cent_carbonyl_opt_ts</td><td><a href = \"files/cycloadd_oniom_large/o2_uff_o2_uff_6_6_cent_carbonyl_opt_ts.com\" target = \"_blank\">com</a></td><td><input type=\"button\" value=\"Smart Log\" id=\"o2_uff_o2_uff_6_6_cent_carbonyl_opt_ts\" onclick=\"view_function(event, this.id)\" /></td><td>Error: </td></tr><tr><td>o2_am1_o2_am1_6_6_cent_carbonyl_opt_ts</td><td><a href = \"files/cycloadd_oniom_large/o2_am1_o2_am1_6_6_cent_carbonyl_opt_ts.com\" target = \"_blank\">com</a></td><td><input type=\"button\" value=\"Smart Log\" id=\"o2_am1_o2_am1_6_6_cent_carbonyl_opt_ts\" onclick=\"view_function(event, this.id)\" /></td><td>Error: Convergence failure -- run terminated.</td></tr><tr><td>o2_pm6_o2_pm6_6_6_cent_carbonyl_opt_ts</td><td><a href = \"files/cycloadd_oniom_large/o2_pm6_o2_pm6_6_6_cent_carbonyl_opt_ts.com\" target = \"_blank\">com</a></td><td><input type=\"button\" value=\"Smart Log\" id=\"o2_pm6_o2_pm6_6_6_cent_carbonyl_opt_ts\" onclick=\"view_function(event, this.id)\" /></td><td>Error: Convergence failure -- run terminated.</td></tr><tr><td>o3_uff_o3_uff_6_6_cent_carbonyl_opt_ts</td><td><a href = \"files/cycloadd_oniom_large/o3_uff_o3_uff_6_6_cent_carbonyl_opt_ts.com\" target = \"_blank\">com</a></td><td><input type=\"button\" value=\"Smart Log\" id=\"o3_uff_o3_uff_6_6_cent_carbonyl_opt_ts\" onclick=\"view_function(event, this.id)\" /></td><td>Error: </td></tr><tr><td>o3_am1_o3_am1_6_6_cent_carbonyl_opt_ts</td><td><a href = \"files/cycloadd_oniom_large/o3_am1_o3_am1_6_6_cent_carbonyl_opt_ts.com\" target = \"_blank\">com</a></td><td><input type=\"button\" value=\"Smart Log\" id=\"o3_am1_o3_am1_6_6_cent_carbonyl_opt_ts\" onclick=\"view_function(event, this.id)\" /></td><td>Error: Convergence failure -- run terminated.</td></tr><tr><td>o3_pm6_o3_pm6_6_6_cent_carbonyl_opt_ts</td><td><a href = \"files/cycloadd_oniom_large/o3_pm6_o3_pm6_6_6_cent_carbonyl_opt_ts.com\" target = \"_blank\">com</a></td><td><input type=\"button\" value=\"Smart Log\" id=\"o3_pm6_o3_pm6_6_6_cent_carbonyl_opt_ts\" onclick=\"view_function(event, this.id)\" /></td><td>Error: Convergence failure -- run terminated.</td></tr><tr><td>o4_uff_o4_uff_6_6_cent_carbonyl_opt_ts</td><td><a href = \"files/cycloadd_oniom_large/o4_uff_o4_uff_6_6_cent_carbonyl_opt_ts.com\" target = \"_blank\">com</a></td><td><input type=\"button\" value=\"Smart Log\" id=\"o4_uff_o4_uff_6_6_cent_carbonyl_opt_ts\" onclick=\"view_function(event, this.id)\" /></td><td>Error: Convergence failure -- run terminated.</td></tr><tr><td>o4_am1_o4_am1_6_6_cent_carbonyl_opt_ts</td><td><a href = \"files/cycloadd_oniom_large/o4_am1_o4_am1_6_6_cent_carbonyl_opt_ts.com\" target = \"_blank\">com</a></td><td><input type=\"button\" value=\"Smart Log\" id=\"o4_am1_o4_am1_6_6_cent_carbonyl_opt_ts\" onclick=\"view_function(event, this.id)\" /></td><td>Error: Convergence failure -- run terminated.</td></tr><tr><td>o5_uff_o5_uff_6_6_cent_carbonyl_opt_ts</td><td><a href = \"files/cycloadd_oniom_large/o5_uff_o5_uff_6_6_cent_carbonyl_opt_ts.com\" target = \"_blank\">com</a></td><td><input type=\"button\" value=\"Smart Log\" id=\"o5_uff_o5_uff_6_6_cent_carbonyl_opt_ts\" onclick=\"view_function(event, this.id)\" /></td><td>Error: The combination of multiplicity 1 and   329 electrons is impossible.</td></tr><tr><td>o5_am1_o5_am1_6_6_cent_carbonyl_opt_ts</td><td><a href = \"files/cycloadd_oniom_large/o5_am1_o5_am1_6_6_cent_carbonyl_opt_ts.com\" target = \"_blank\">com</a></td><td><input type=\"button\" value=\"Smart Log\" id=\"o5_am1_o5_am1_6_6_cent_carbonyl_opt_ts\" onclick=\"view_function(event, this.id)\" /></td><td>Error: The combination of multiplicity 1 and   329 electrons is impossible.</td></tr><tr><td>o5_pm6_o5_pm6_6_6_cent_carbonyl_opt_ts</td><td><a href = \"files/cycloadd_oniom_large/o5_pm6_o5_pm6_6_6_cent_carbonyl_opt_ts.com\" target = \"_blank\">com</a></td><td><input type=\"button\" value=\"Smart Log\" id=\"o5_pm6_o5_pm6_6_6_cent_carbonyl_opt_ts\" onclick=\"view_function(event, this.id)\" /></td><td>Error: The combination of multiplicity 1 and   329 electrons is impossible.</td></tr><tr><td>o5_HF_STO-3G_o5_HF_STO-3G_6_6_cent_carbonyl_opt_ts</td><td><a href = \"files/cycloadd_oniom_large/o5_HF_STO-3G_o5_HF_STO-3G_6_6_cent_carbonyl_opt_ts.com\" target = \"_blank\">com</a></td><td><input type=\"button\" value=\"Smart Log\" id=\"o5_HF_STO-3G_o5_HF_STO-3G_6_6_cent_carbonyl_opt_ts\" onclick=\"view_function(event, this.id)\" /></td><td>Error: The combination of multiplicity 1 and   329 electrons is impossible.</td></tr><tr><td>o6_uff_o6_uff_6_6_cent_carbonyl_opt_ts</td><td><a href = \"files/cycloadd_oniom_large/o6_uff_o6_uff_6_6_cent_carbonyl_opt_ts.com\" target = \"_blank\">com</a></td><td><input type=\"button\" value=\"Smart Log\" id=\"o6_uff_o6_uff_6_6_cent_carbonyl_opt_ts\" onclick=\"view_function(event, this.id)\" /></td><td>Error: The combination of multiplicity 1 and   343 electrons is impossible.</td></tr><tr><td>o6_am1_o6_am1_6_6_cent_carbonyl_opt_ts</td><td><a href = \"files/cycloadd_oniom_large/o6_am1_o6_am1_6_6_cent_carbonyl_opt_ts.com\" target = \"_blank\">com</a></td><td><input type=\"button\" value=\"Smart Log\" id=\"o6_am1_o6_am1_6_6_cent_carbonyl_opt_ts\" onclick=\"view_function(event, this.id)\" /></td><td>Error: The combination of multiplicity 1 and   343 electrons is impossible.</td></tr><tr><td>o6_pm6_o6_pm6_6_6_cent_carbonyl_opt_ts</td><td><a href = \"files/cycloadd_oniom_large/o6_pm6_o6_pm6_6_6_cent_carbonyl_opt_ts.com\" target = \"_blank\">com</a></td><td><input type=\"button\" value=\"Smart Log\" id=\"o6_pm6_o6_pm6_6_6_cent_carbonyl_opt_ts\" onclick=\"view_function(event, this.id)\" /></td><td>Error: The combination of multiplicity 1 and   343 electrons is impossible.</td></tr><tr><td>o6_HF_STO-3G_o6_HF_STO-3G_6_6_cent_carbonyl_opt_ts</td><td><a href = \"files/cycloadd_oniom_large/o6_HF_STO-3G_o6_HF_STO-3G_6_6_cent_carbonyl_opt_ts.com\" target = \"_blank\">com</a></td><td><input type=\"button\" value=\"Smart Log\" id=\"o6_HF_STO-3G_o6_HF_STO-3G_6_6_cent_carbonyl_opt_ts\" onclick=\"view_function(event, this.id)\" /></td><td>Error: The combination of multiplicity 1 and   343 electrons is impossible.</td></tr><tr><td>o7_uff_o7_uff_6_6_cent_carbonyl_opt_ts</td><td><a href = \"files/cycloadd_oniom_large/o7_uff_o7_uff_6_6_cent_carbonyl_opt_ts.com\" target = \"_blank\">com</a></td><td><input type=\"button\" value=\"Smart Log\" id=\"o7_uff_o7_uff_6_6_cent_carbonyl_opt_ts\" onclick=\"view_function(event, this.id)\" /></td><td>Error: The combination of multiplicity 1 and   371 electrons is impossible.</td></tr><tr><td>o7_am1_o7_am1_6_6_cent_carbonyl_opt_ts</td><td><a href = \"files/cycloadd_oniom_large/o7_am1_o7_am1_6_6_cent_carbonyl_opt_ts.com\" target = \"_blank\">com</a></td><td><input type=\"button\" value=\"Smart Log\" id=\"o7_am1_o7_am1_6_6_cent_carbonyl_opt_ts\" onclick=\"view_function(event, this.id)\" /></td><td>Error: The combination of multiplicity 1 and   371 electrons is impossible.</td></tr><tr><td>o7_pm6_o7_pm6_6_6_cent_carbonyl_opt_ts</td><td><a href = \"files/cycloadd_oniom_large/o7_pm6_o7_pm6_6_6_cent_carbonyl_opt_ts.com\" target = \"_blank\">com</a></td><td><input type=\"button\" value=\"Smart Log\" id=\"o7_pm6_o7_pm6_6_6_cent_carbonyl_opt_ts\" onclick=\"view_function(event, this.id)\" /></td><td>Error: The combination of multiplicity 1 and   371 electrons is impossible.</td></tr><tr><td>o7_HF_STO-3G_o7_HF_STO-3G_6_6_cent_carbonyl_opt_ts</td><td><a href = \"files/cycloadd_oniom_large/o7_HF_STO-3G_o7_HF_STO-3G_6_6_cent_carbonyl_opt_ts.com\" target = \"_blank\">com</a></td><td><input type=\"button\" value=\"Smart Log\" id=\"o7_HF_STO-3G_o7_HF_STO-3G_6_6_cent_carbonyl_opt_ts\" onclick=\"view_function(event, this.id)\" /></td><td>Error: The combination of multiplicity 1 and   371 electrons is impossible.</td></tr><tr><td>o_sanity_o_sanity_6_6_cent_carbonyl_opt_ts</td><td><a href = \"files/cycloadd_oniom_large/o_sanity_o_sanity_6_6_cent_carbonyl_opt_ts.com\" target = \"_blank\">com</a></td><td><input type=\"button\" value=\"Smart Log\" id=\"o_sanity_o_sanity_6_6_cent_carbonyl_opt_ts\" onclick=\"view_function(event, this.id)\" /></td><td>Incomplete</td></tr>\n",
        "    </table>\n",
        "    </body>"
       ],
       "output_type": "pyout",
       "prompt_number": 31,
       "text": [
        "<IPython.core.display.HTML at 0x4aa9290>"
       ]
      }
     ],
     "prompt_number": 31
    },
    {
     "cell_type": "markdown",
     "metadata": {},
     "source": [
      "Problems with multiplicity were due to a bug in gaussian.py involving setting the link atoms, (we checked whether an atom was connected a link atom by checking the boolean-ness of a variable that either contains the index of the atom it is linked to or contains 'None', the case where the index is 0 results in failure because 0 has a boolean character of False.)\n",
      "\n",
      "Also introduced insertion of step=best_step into the calc.restart(), when we restart optimisation calculations and autoinsert step=best step we have to be careful about reading in an scf guess as this is read from the last step of the optimisation not the step we are picking the geometry from. What we should really do is compare the geometry of the best step to the last step and if it's sufficiently similar to read from the chk file but this would require an intelligent molecular similarity measure suitable for this purpose which we do not yet have. For the moment it's safest to simply recompute the scf so we omit 'scf=tcheck'"
     ]
    },
    {
     "cell_type": "code",
     "collapsed": false,
     "input": [
      "for opt_ts_p_calc in opt_ts_p_calcs[:-13]:\n",
      "    opt_ts_p_calc.calc.restart(geom='allcheck', scf='xqc', opt='calcfc, ts, noeigen, maxcycles=100')#, start=True)\n",
      "for opt_ts_p_calc in opt_ts_p_calcs[-13:]:\n",
      "    opt_ts_p_calc.calc.restart(scf='xqc', opt='calcfc, ts, noeigen, maxcycles=100')#, start=True)"
     ],
     "language": "python",
     "metadata": {},
     "outputs": [
      {
       "output_type": "stream",
       "stream": "stdout",
       "text": [
        "[Gaussian o0_am1_o0_am1_6_6_cent_carbonyl_opt_ts.log INFO] Creating attribute charge: 0\n"
       ]
      },
      {
       "output_type": "stream",
       "stream": "stdout",
       "text": [
        "[Gaussian o0_am1_o0_am1_6_6_cent_carbonyl_opt_ts.log INFO] Creating attribute mult: 1\n"
       ]
      },
      {
       "output_type": "stream",
       "stream": "stdout",
       "text": [
        "[Gaussian o0_am1_o0_am1_6_6_cent_carbonyl_opt_ts.log INFO] Creating attribute natom: 129\n"
       ]
      },
      {
       "output_type": "stream",
       "stream": "stdout",
       "text": [
        "[Gaussian o0_am1_o0_am1_6_6_cent_carbonyl_opt_ts.log INFO] Creating attribute atommasses[]\n"
       ]
      },
      {
       "output_type": "stream",
       "stream": "stdout",
       "text": [
        "[Gaussian o0_am1_o0_am1_6_6_cent_carbonyl_opt_ts.log INFO] Creating attribute atomcoords[]\n"
       ]
      },
      {
       "output_type": "stream",
       "stream": "stdout",
       "text": [
        "[Gaussian o0_am1_o0_am1_6_6_cent_carbonyl_opt_ts.log INFO] Creating attribute atomnos[]\n"
       ]
      },
      {
       "output_type": "stream",
       "stream": "stdout",
       "text": [
        "[Gaussian o0_am1_o0_am1_6_6_cent_carbonyl_opt_ts.log INFO] Creating attribute scftargets[]\n"
       ]
      },
      {
       "output_type": "stream",
       "stream": "stdout",
       "text": [
        "[Gaussian o0_am1_o0_am1_6_6_cent_carbonyl_opt_ts.log INFO] Creating attribute scfvalues[]\n"
       ]
      },
      {
       "output_type": "stream",
       "stream": "stdout",
       "text": [
        "[Gaussian o0_am1_o0_am1_6_6_cent_carbonyl_opt_ts.log INFO] Creating attribute mosyms[]\n"
       ]
      },
      {
       "output_type": "stream",
       "stream": "stdout",
       "text": [
        "[Gaussian o0_am1_o0_am1_6_6_cent_carbonyl_opt_ts.log INFO] Creating attribute homos[]\n"
       ]
      },
      {
       "output_type": "stream",
       "stream": "stdout",
       "text": [
        "[Gaussian o0_am1_o0_am1_6_6_cent_carbonyl_opt_ts.log INFO] Creating attribute scfenergies[]\n"
       ]
      },
      {
       "output_type": "stream",
       "stream": "stdout",
       "text": [
        "[Gaussian o0_am1_o0_am1_6_6_cent_carbonyl_opt_ts.log INFO] Creating attribute grads[]\n"
       ]
      },
      {
       "output_type": "stream",
       "stream": "stdout",
       "text": [
        "[Gaussian o0_am1_o0_am1_6_6_cent_carbonyl_opt_ts.log INFO] Creating attribute geovalues[]\n"
       ]
      },
      {
       "output_type": "stream",
       "stream": "stdout",
       "text": [
        "[Gaussian o0_am1_o0_am1_6_6_cent_carbonyl_opt_ts.log INFO] Creating attribute geotargets[]\n"
       ]
      },
      {
       "output_type": "stream",
       "stream": "stdout",
       "text": [
        "[Gaussian o0_am1_o0_am1_6_6_cent_carbonyl_opt_ts.log INFO] Creating attribute coreelectrons[]\n"
       ]
      },
      {
       "output_type": "stream",
       "stream": "stdout",
       "text": [
        "[Gaussian o0_pm6_o0_pm6_6_6_cent_carbonyl_opt_ts.log INFO] Creating attribute charge: 0\n"
       ]
      },
      {
       "output_type": "stream",
       "stream": "stdout",
       "text": [
        "[Gaussian o0_pm6_o0_pm6_6_6_cent_carbonyl_opt_ts.log INFO] Creating attribute mult: 1\n"
       ]
      },
      {
       "output_type": "stream",
       "stream": "stdout",
       "text": [
        "[Gaussian o0_pm6_o0_pm6_6_6_cent_carbonyl_opt_ts.log INFO] Creating attribute natom: 129\n"
       ]
      },
      {
       "output_type": "stream",
       "stream": "stdout",
       "text": [
        "[Gaussian o0_pm6_o0_pm6_6_6_cent_carbonyl_opt_ts.log INFO] Creating attribute atommasses[]\n"
       ]
      },
      {
       "output_type": "stream",
       "stream": "stdout",
       "text": [
        "[Gaussian o0_pm6_o0_pm6_6_6_cent_carbonyl_opt_ts.log INFO] Creating attribute atomcoords[]\n"
       ]
      },
      {
       "output_type": "stream",
       "stream": "stdout",
       "text": [
        "[Gaussian o0_pm6_o0_pm6_6_6_cent_carbonyl_opt_ts.log INFO] Creating attribute atomnos[]\n"
       ]
      },
      {
       "output_type": "stream",
       "stream": "stdout",
       "text": [
        "[Gaussian o0_pm6_o0_pm6_6_6_cent_carbonyl_opt_ts.log INFO] Creating attribute scftargets[]\n"
       ]
      },
      {
       "output_type": "stream",
       "stream": "stdout",
       "text": [
        "[Gaussian o0_pm6_o0_pm6_6_6_cent_carbonyl_opt_ts.log INFO] Creating attribute scfvalues[]\n"
       ]
      },
      {
       "output_type": "stream",
       "stream": "stdout",
       "text": [
        "[Gaussian o0_pm6_o0_pm6_6_6_cent_carbonyl_opt_ts.log INFO] Creating attribute mosyms[]\n"
       ]
      },
      {
       "output_type": "stream",
       "stream": "stdout",
       "text": [
        "[Gaussian o0_pm6_o0_pm6_6_6_cent_carbonyl_opt_ts.log INFO] Creating attribute homos[]\n"
       ]
      },
      {
       "output_type": "stream",
       "stream": "stdout",
       "text": [
        "[Gaussian o0_pm6_o0_pm6_6_6_cent_carbonyl_opt_ts.log INFO] Creating attribute scfenergies[]\n"
       ]
      },
      {
       "output_type": "stream",
       "stream": "stdout",
       "text": [
        "[Gaussian o0_pm6_o0_pm6_6_6_cent_carbonyl_opt_ts.log INFO] Creating attribute grads[]\n"
       ]
      },
      {
       "output_type": "stream",
       "stream": "stdout",
       "text": [
        "[Gaussian o0_pm6_o0_pm6_6_6_cent_carbonyl_opt_ts.log INFO] Creating attribute geovalues[]\n"
       ]
      },
      {
       "output_type": "stream",
       "stream": "stdout",
       "text": [
        "[Gaussian o0_pm6_o0_pm6_6_6_cent_carbonyl_opt_ts.log INFO] Creating attribute geotargets[]\n"
       ]
      },
      {
       "output_type": "stream",
       "stream": "stdout",
       "text": [
        "[Gaussian o0_pm6_o0_pm6_6_6_cent_carbonyl_opt_ts.log INFO] Creating attribute coreelectrons[]\n"
       ]
      },
      {
       "output_type": "stream",
       "stream": "stdout",
       "text": [
        "[Gaussian o1_uff_o1_uff_6_6_cent_carbonyl_opt_ts.log INFO] Creating attribute charge: 0\n"
       ]
      },
      {
       "output_type": "stream",
       "stream": "stdout",
       "text": [
        "[Gaussian o1_uff_o1_uff_6_6_cent_carbonyl_opt_ts.log INFO] Creating attribute mult: 1\n"
       ]
      },
      {
       "output_type": "stream",
       "stream": "stdout",
       "text": [
        "[Gaussian o1_uff_o1_uff_6_6_cent_carbonyl_opt_ts.log INFO] Creating attribute natom: 129\n"
       ]
      },
      {
       "output_type": "stream",
       "stream": "stdout",
       "text": [
        "[Gaussian o1_uff_o1_uff_6_6_cent_carbonyl_opt_ts.log INFO] Creating attribute atommasses[]\n"
       ]
      },
      {
       "output_type": "stream",
       "stream": "stdout",
       "text": [
        "[Gaussian o1_uff_o1_uff_6_6_cent_carbonyl_opt_ts.log INFO] Creating attribute atomcoords[]\n"
       ]
      },
      {
       "output_type": "stream",
       "stream": "stdout",
       "text": [
        "[Gaussian o1_uff_o1_uff_6_6_cent_carbonyl_opt_ts.log INFO] Creating attribute atomnos[]\n"
       ]
      },
      {
       "output_type": "stream",
       "stream": "stdout",
       "text": [
        "[Gaussian o1_uff_o1_uff_6_6_cent_carbonyl_opt_ts.log INFO] Creating attribute scftargets[]\n"
       ]
      },
      {
       "output_type": "stream",
       "stream": "stdout",
       "text": [
        "[Gaussian o1_uff_o1_uff_6_6_cent_carbonyl_opt_ts.log INFO] Creating attribute scfvalues[]\n"
       ]
      },
      {
       "output_type": "stream",
       "stream": "stdout",
       "text": [
        "[Gaussian o1_uff_o1_uff_6_6_cent_carbonyl_opt_ts.log INFO] Creating attribute mosyms[]\n"
       ]
      },
      {
       "output_type": "stream",
       "stream": "stdout",
       "text": [
        "[Gaussian o1_uff_o1_uff_6_6_cent_carbonyl_opt_ts.log INFO] Creating attribute homos[]\n"
       ]
      },
      {
       "output_type": "stream",
       "stream": "stdout",
       "text": [
        "[Gaussian o1_uff_o1_uff_6_6_cent_carbonyl_opt_ts.log INFO] Creating attribute scfenergies[]\n"
       ]
      },
      {
       "output_type": "stream",
       "stream": "stdout",
       "text": [
        "[Gaussian o1_uff_o1_uff_6_6_cent_carbonyl_opt_ts.log INFO] Creating attribute grads[]\n"
       ]
      },
      {
       "output_type": "stream",
       "stream": "stdout",
       "text": [
        "[Gaussian o1_uff_o1_uff_6_6_cent_carbonyl_opt_ts.log INFO] Creating attribute geovalues[]\n"
       ]
      },
      {
       "output_type": "stream",
       "stream": "stdout",
       "text": [
        "[Gaussian o1_uff_o1_uff_6_6_cent_carbonyl_opt_ts.log INFO] Creating attribute geotargets[]\n"
       ]
      },
      {
       "output_type": "stream",
       "stream": "stdout",
       "text": [
        "[Gaussian o1_uff_o1_uff_6_6_cent_carbonyl_opt_ts.log INFO] Creating attribute coreelectrons[]\n"
       ]
      },
      {
       "output_type": "stream",
       "stream": "stdout",
       "text": [
        "[Gaussian o1_am1_o1_am1_6_6_cent_carbonyl_opt_ts.log INFO] Creating attribute charge: 0\n"
       ]
      },
      {
       "output_type": "stream",
       "stream": "stdout",
       "text": [
        "[Gaussian o1_am1_o1_am1_6_6_cent_carbonyl_opt_ts.log INFO] Creating attribute mult: 1\n"
       ]
      },
      {
       "output_type": "stream",
       "stream": "stdout",
       "text": [
        "[Gaussian o1_am1_o1_am1_6_6_cent_carbonyl_opt_ts.log INFO] Creating attribute natom: 129\n"
       ]
      },
      {
       "output_type": "stream",
       "stream": "stdout",
       "text": [
        "[Gaussian o1_am1_o1_am1_6_6_cent_carbonyl_opt_ts.log INFO] Creating attribute atommasses[]\n"
       ]
      },
      {
       "output_type": "stream",
       "stream": "stdout",
       "text": [
        "[Gaussian o1_am1_o1_am1_6_6_cent_carbonyl_opt_ts.log INFO] Creating attribute atomcoords[]\n"
       ]
      },
      {
       "output_type": "stream",
       "stream": "stdout",
       "text": [
        "[Gaussian o1_am1_o1_am1_6_6_cent_carbonyl_opt_ts.log INFO] Creating attribute atomnos[]\n"
       ]
      },
      {
       "output_type": "stream",
       "stream": "stdout",
       "text": [
        "[Gaussian o1_am1_o1_am1_6_6_cent_carbonyl_opt_ts.log INFO] Creating attribute scftargets[]\n"
       ]
      },
      {
       "output_type": "stream",
       "stream": "stdout",
       "text": [
        "[Gaussian o1_am1_o1_am1_6_6_cent_carbonyl_opt_ts.log INFO] Creating attribute scfvalues[]\n"
       ]
      },
      {
       "output_type": "stream",
       "stream": "stdout",
       "text": [
        "[Gaussian o1_am1_o1_am1_6_6_cent_carbonyl_opt_ts.log INFO] Creating attribute mosyms[]\n"
       ]
      },
      {
       "output_type": "stream",
       "stream": "stdout",
       "text": [
        "[Gaussian o1_am1_o1_am1_6_6_cent_carbonyl_opt_ts.log INFO] Creating attribute homos[]\n"
       ]
      },
      {
       "output_type": "stream",
       "stream": "stdout",
       "text": [
        "[Gaussian o1_am1_o1_am1_6_6_cent_carbonyl_opt_ts.log INFO] Creating attribute scfenergies[]\n"
       ]
      },
      {
       "output_type": "stream",
       "stream": "stdout",
       "text": [
        "[Gaussian o1_am1_o1_am1_6_6_cent_carbonyl_opt_ts.log INFO] Creating attribute grads[]\n"
       ]
      },
      {
       "output_type": "stream",
       "stream": "stdout",
       "text": [
        "[Gaussian o1_am1_o1_am1_6_6_cent_carbonyl_opt_ts.log INFO] Creating attribute geovalues[]\n"
       ]
      },
      {
       "output_type": "stream",
       "stream": "stdout",
       "text": [
        "[Gaussian o1_am1_o1_am1_6_6_cent_carbonyl_opt_ts.log INFO] Creating attribute geotargets[]\n"
       ]
      },
      {
       "output_type": "stream",
       "stream": "stdout",
       "text": [
        "[Gaussian o1_am1_o1_am1_6_6_cent_carbonyl_opt_ts.log INFO] Creating attribute coreelectrons[]\n"
       ]
      },
      {
       "output_type": "stream",
       "stream": "stdout",
       "text": [
        "[Gaussian o1_pm6_o1_pm6_6_6_cent_carbonyl_opt_ts.log INFO] Creating attribute charge: 0\n"
       ]
      },
      {
       "output_type": "stream",
       "stream": "stdout",
       "text": [
        "[Gaussian o1_pm6_o1_pm6_6_6_cent_carbonyl_opt_ts.log INFO] Creating attribute mult: 1\n"
       ]
      },
      {
       "output_type": "stream",
       "stream": "stdout",
       "text": [
        "[Gaussian o1_pm6_o1_pm6_6_6_cent_carbonyl_opt_ts.log INFO] Creating attribute natom: 129\n"
       ]
      },
      {
       "output_type": "stream",
       "stream": "stdout",
       "text": [
        "[Gaussian o1_pm6_o1_pm6_6_6_cent_carbonyl_opt_ts.log INFO] Creating attribute atommasses[]\n"
       ]
      },
      {
       "output_type": "stream",
       "stream": "stdout",
       "text": [
        "[Gaussian o1_pm6_o1_pm6_6_6_cent_carbonyl_opt_ts.log INFO] Creating attribute atomcoords[]\n"
       ]
      },
      {
       "output_type": "stream",
       "stream": "stdout",
       "text": [
        "[Gaussian o1_pm6_o1_pm6_6_6_cent_carbonyl_opt_ts.log INFO] Creating attribute atomnos[]\n"
       ]
      },
      {
       "output_type": "stream",
       "stream": "stdout",
       "text": [
        "[Gaussian o1_pm6_o1_pm6_6_6_cent_carbonyl_opt_ts.log INFO] Creating attribute scftargets[]\n"
       ]
      },
      {
       "output_type": "stream",
       "stream": "stdout",
       "text": [
        "[Gaussian o1_pm6_o1_pm6_6_6_cent_carbonyl_opt_ts.log INFO] Creating attribute scfvalues[]\n"
       ]
      },
      {
       "output_type": "stream",
       "stream": "stdout",
       "text": [
        "[Gaussian o1_pm6_o1_pm6_6_6_cent_carbonyl_opt_ts.log INFO] Creating attribute mosyms[]\n"
       ]
      },
      {
       "output_type": "stream",
       "stream": "stdout",
       "text": [
        "[Gaussian o1_pm6_o1_pm6_6_6_cent_carbonyl_opt_ts.log INFO] Creating attribute homos[]\n"
       ]
      },
      {
       "output_type": "stream",
       "stream": "stdout",
       "text": [
        "[Gaussian o1_pm6_o1_pm6_6_6_cent_carbonyl_opt_ts.log INFO] Creating attribute scfenergies[]\n"
       ]
      },
      {
       "output_type": "stream",
       "stream": "stdout",
       "text": [
        "[Gaussian o1_pm6_o1_pm6_6_6_cent_carbonyl_opt_ts.log INFO] Creating attribute grads[]\n"
       ]
      },
      {
       "output_type": "stream",
       "stream": "stdout",
       "text": [
        "[Gaussian o1_pm6_o1_pm6_6_6_cent_carbonyl_opt_ts.log INFO] Creating attribute geovalues[]\n"
       ]
      },
      {
       "output_type": "stream",
       "stream": "stdout",
       "text": [
        "[Gaussian o1_pm6_o1_pm6_6_6_cent_carbonyl_opt_ts.log INFO] Creating attribute geotargets[]\n"
       ]
      },
      {
       "output_type": "stream",
       "stream": "stdout",
       "text": [
        "[Gaussian o1_pm6_o1_pm6_6_6_cent_carbonyl_opt_ts.log INFO] Creating attribute coreelectrons[]\n"
       ]
      },
      {
       "output_type": "stream",
       "stream": "stdout",
       "text": [
        "[Gaussian o2_uff_o2_uff_6_6_cent_carbonyl_opt_ts.log INFO] Creating attribute charge: 0\n"
       ]
      },
      {
       "output_type": "stream",
       "stream": "stdout",
       "text": [
        "[Gaussian o2_uff_o2_uff_6_6_cent_carbonyl_opt_ts.log INFO] Creating attribute mult: 1\n"
       ]
      },
      {
       "output_type": "stream",
       "stream": "stdout",
       "text": [
        "[Gaussian o2_uff_o2_uff_6_6_cent_carbonyl_opt_ts.log INFO] Creating attribute natom: 129\n"
       ]
      },
      {
       "output_type": "stream",
       "stream": "stdout",
       "text": [
        "[Gaussian o2_uff_o2_uff_6_6_cent_carbonyl_opt_ts.log INFO] Creating attribute atommasses[]\n"
       ]
      },
      {
       "output_type": "stream",
       "stream": "stdout",
       "text": [
        "[Gaussian o2_uff_o2_uff_6_6_cent_carbonyl_opt_ts.log INFO] Creating attribute atomcoords[]\n"
       ]
      },
      {
       "output_type": "stream",
       "stream": "stdout",
       "text": [
        "[Gaussian o2_uff_o2_uff_6_6_cent_carbonyl_opt_ts.log INFO] Creating attribute atomnos[]\n"
       ]
      },
      {
       "output_type": "stream",
       "stream": "stdout",
       "text": [
        "[Gaussian o2_uff_o2_uff_6_6_cent_carbonyl_opt_ts.log INFO] Creating attribute scftargets[]\n"
       ]
      },
      {
       "output_type": "stream",
       "stream": "stdout",
       "text": [
        "[Gaussian o2_uff_o2_uff_6_6_cent_carbonyl_opt_ts.log INFO] Creating attribute scfvalues[]\n"
       ]
      },
      {
       "output_type": "stream",
       "stream": "stdout",
       "text": [
        "[Gaussian o2_uff_o2_uff_6_6_cent_carbonyl_opt_ts.log INFO] Creating attribute mosyms[]\n"
       ]
      },
      {
       "output_type": "stream",
       "stream": "stdout",
       "text": [
        "[Gaussian o2_uff_o2_uff_6_6_cent_carbonyl_opt_ts.log INFO] Creating attribute homos[]\n"
       ]
      },
      {
       "output_type": "stream",
       "stream": "stdout",
       "text": [
        "[Gaussian o2_uff_o2_uff_6_6_cent_carbonyl_opt_ts.log INFO] Creating attribute scfenergies[]\n"
       ]
      },
      {
       "output_type": "stream",
       "stream": "stdout",
       "text": [
        "[Gaussian o2_uff_o2_uff_6_6_cent_carbonyl_opt_ts.log INFO] Creating attribute grads[]\n"
       ]
      },
      {
       "output_type": "stream",
       "stream": "stdout",
       "text": [
        "[Gaussian o2_uff_o2_uff_6_6_cent_carbonyl_opt_ts.log INFO] Creating attribute geovalues[]\n"
       ]
      },
      {
       "output_type": "stream",
       "stream": "stdout",
       "text": [
        "[Gaussian o2_uff_o2_uff_6_6_cent_carbonyl_opt_ts.log INFO] Creating attribute geotargets[]\n"
       ]
      },
      {
       "output_type": "stream",
       "stream": "stdout",
       "text": [
        "[Gaussian o2_uff_o2_uff_6_6_cent_carbonyl_opt_ts.log INFO] Creating attribute coreelectrons[]\n"
       ]
      },
      {
       "output_type": "stream",
       "stream": "stdout",
       "text": [
        "[Gaussian o2_am1_o2_am1_6_6_cent_carbonyl_opt_ts.log INFO] Creating attribute charge: 0\n"
       ]
      },
      {
       "output_type": "stream",
       "stream": "stdout",
       "text": [
        "[Gaussian o2_am1_o2_am1_6_6_cent_carbonyl_opt_ts.log INFO] Creating attribute mult: 1\n"
       ]
      },
      {
       "output_type": "stream",
       "stream": "stdout",
       "text": [
        "[Gaussian o2_am1_o2_am1_6_6_cent_carbonyl_opt_ts.log INFO] Creating attribute natom: 129\n"
       ]
      },
      {
       "output_type": "stream",
       "stream": "stdout",
       "text": [
        "[Gaussian o2_am1_o2_am1_6_6_cent_carbonyl_opt_ts.log INFO] Creating attribute atommasses[]\n"
       ]
      },
      {
       "output_type": "stream",
       "stream": "stdout",
       "text": [
        "[Gaussian o2_am1_o2_am1_6_6_cent_carbonyl_opt_ts.log INFO] Creating attribute atomcoords[]\n"
       ]
      },
      {
       "output_type": "stream",
       "stream": "stdout",
       "text": [
        "[Gaussian o2_am1_o2_am1_6_6_cent_carbonyl_opt_ts.log INFO] Creating attribute atomnos[]\n"
       ]
      },
      {
       "output_type": "stream",
       "stream": "stdout",
       "text": [
        "[Gaussian o2_am1_o2_am1_6_6_cent_carbonyl_opt_ts.log INFO] Creating attribute scftargets[]\n"
       ]
      },
      {
       "output_type": "stream",
       "stream": "stdout",
       "text": [
        "[Gaussian o2_am1_o2_am1_6_6_cent_carbonyl_opt_ts.log INFO] Creating attribute scfvalues[]\n"
       ]
      },
      {
       "output_type": "stream",
       "stream": "stdout",
       "text": [
        "[Gaussian o2_am1_o2_am1_6_6_cent_carbonyl_opt_ts.log INFO] Creating attribute mosyms[]\n"
       ]
      },
      {
       "output_type": "stream",
       "stream": "stdout",
       "text": [
        "[Gaussian o2_am1_o2_am1_6_6_cent_carbonyl_opt_ts.log INFO] Creating attribute homos[]\n"
       ]
      },
      {
       "output_type": "stream",
       "stream": "stdout",
       "text": [
        "[Gaussian o2_am1_o2_am1_6_6_cent_carbonyl_opt_ts.log INFO] Creating attribute scfenergies[]\n"
       ]
      },
      {
       "output_type": "stream",
       "stream": "stdout",
       "text": [
        "[Gaussian o2_am1_o2_am1_6_6_cent_carbonyl_opt_ts.log INFO] Creating attribute grads[]\n"
       ]
      },
      {
       "output_type": "stream",
       "stream": "stdout",
       "text": [
        "[Gaussian o2_am1_o2_am1_6_6_cent_carbonyl_opt_ts.log INFO] Creating attribute geovalues[]\n"
       ]
      },
      {
       "output_type": "stream",
       "stream": "stdout",
       "text": [
        "[Gaussian o2_am1_o2_am1_6_6_cent_carbonyl_opt_ts.log INFO] Creating attribute geotargets[]\n"
       ]
      },
      {
       "output_type": "stream",
       "stream": "stdout",
       "text": [
        "[Gaussian o2_am1_o2_am1_6_6_cent_carbonyl_opt_ts.log INFO] Creating attribute coreelectrons[]\n"
       ]
      },
      {
       "output_type": "stream",
       "stream": "stdout",
       "text": [
        "[Gaussian o2_pm6_o2_pm6_6_6_cent_carbonyl_opt_ts.log INFO] Creating attribute charge: 0\n"
       ]
      },
      {
       "output_type": "stream",
       "stream": "stdout",
       "text": [
        "[Gaussian o2_pm6_o2_pm6_6_6_cent_carbonyl_opt_ts.log INFO] Creating attribute mult: 1\n"
       ]
      },
      {
       "output_type": "stream",
       "stream": "stdout",
       "text": [
        "[Gaussian o2_pm6_o2_pm6_6_6_cent_carbonyl_opt_ts.log INFO] Creating attribute natom: 129\n"
       ]
      },
      {
       "output_type": "stream",
       "stream": "stdout",
       "text": [
        "[Gaussian o2_pm6_o2_pm6_6_6_cent_carbonyl_opt_ts.log INFO] Creating attribute atommasses[]\n"
       ]
      },
      {
       "output_type": "stream",
       "stream": "stdout",
       "text": [
        "[Gaussian o2_pm6_o2_pm6_6_6_cent_carbonyl_opt_ts.log INFO] Creating attribute atomcoords[]\n"
       ]
      },
      {
       "output_type": "stream",
       "stream": "stdout",
       "text": [
        "[Gaussian o2_pm6_o2_pm6_6_6_cent_carbonyl_opt_ts.log INFO] Creating attribute atomnos[]\n"
       ]
      },
      {
       "output_type": "stream",
       "stream": "stdout",
       "text": [
        "[Gaussian o2_pm6_o2_pm6_6_6_cent_carbonyl_opt_ts.log INFO] Creating attribute scftargets[]\n"
       ]
      },
      {
       "output_type": "stream",
       "stream": "stdout",
       "text": [
        "[Gaussian o2_pm6_o2_pm6_6_6_cent_carbonyl_opt_ts.log INFO] Creating attribute scfvalues[]\n"
       ]
      },
      {
       "output_type": "stream",
       "stream": "stdout",
       "text": [
        "[Gaussian o2_pm6_o2_pm6_6_6_cent_carbonyl_opt_ts.log INFO] Creating attribute mosyms[]\n"
       ]
      },
      {
       "output_type": "stream",
       "stream": "stdout",
       "text": [
        "[Gaussian o2_pm6_o2_pm6_6_6_cent_carbonyl_opt_ts.log INFO] Creating attribute homos[]\n"
       ]
      },
      {
       "output_type": "stream",
       "stream": "stdout",
       "text": [
        "[Gaussian o2_pm6_o2_pm6_6_6_cent_carbonyl_opt_ts.log INFO] Creating attribute scfenergies[]\n"
       ]
      },
      {
       "output_type": "stream",
       "stream": "stdout",
       "text": [
        "[Gaussian o2_pm6_o2_pm6_6_6_cent_carbonyl_opt_ts.log INFO] Creating attribute grads[]\n"
       ]
      },
      {
       "output_type": "stream",
       "stream": "stdout",
       "text": [
        "[Gaussian o2_pm6_o2_pm6_6_6_cent_carbonyl_opt_ts.log INFO] Creating attribute geovalues[]\n"
       ]
      },
      {
       "output_type": "stream",
       "stream": "stdout",
       "text": [
        "[Gaussian o2_pm6_o2_pm6_6_6_cent_carbonyl_opt_ts.log INFO] Creating attribute geotargets[]\n"
       ]
      },
      {
       "output_type": "stream",
       "stream": "stdout",
       "text": [
        "[Gaussian o2_pm6_o2_pm6_6_6_cent_carbonyl_opt_ts.log INFO] Creating attribute coreelectrons[]\n"
       ]
      },
      {
       "output_type": "stream",
       "stream": "stdout",
       "text": [
        "[Gaussian o3_uff_o3_uff_6_6_cent_carbonyl_opt_ts.log INFO] Creating attribute charge: 0\n"
       ]
      },
      {
       "output_type": "stream",
       "stream": "stdout",
       "text": [
        "[Gaussian o3_uff_o3_uff_6_6_cent_carbonyl_opt_ts.log INFO] Creating attribute mult: 1\n"
       ]
      },
      {
       "output_type": "stream",
       "stream": "stdout",
       "text": [
        "[Gaussian o3_uff_o3_uff_6_6_cent_carbonyl_opt_ts.log INFO] Creating attribute natom: 129\n"
       ]
      },
      {
       "output_type": "stream",
       "stream": "stdout",
       "text": [
        "[Gaussian o3_uff_o3_uff_6_6_cent_carbonyl_opt_ts.log INFO] Creating attribute atommasses[]\n"
       ]
      },
      {
       "output_type": "stream",
       "stream": "stdout",
       "text": [
        "[Gaussian o3_uff_o3_uff_6_6_cent_carbonyl_opt_ts.log INFO] Creating attribute atomcoords[]\n"
       ]
      },
      {
       "output_type": "stream",
       "stream": "stdout",
       "text": [
        "[Gaussian o3_uff_o3_uff_6_6_cent_carbonyl_opt_ts.log INFO] Creating attribute atomnos[]\n"
       ]
      },
      {
       "output_type": "stream",
       "stream": "stdout",
       "text": [
        "[Gaussian o3_uff_o3_uff_6_6_cent_carbonyl_opt_ts.log INFO] Creating attribute scftargets[]\n"
       ]
      },
      {
       "output_type": "stream",
       "stream": "stdout",
       "text": [
        "[Gaussian o3_uff_o3_uff_6_6_cent_carbonyl_opt_ts.log INFO] Creating attribute scfvalues[]\n"
       ]
      },
      {
       "output_type": "stream",
       "stream": "stdout",
       "text": [
        "[Gaussian o3_uff_o3_uff_6_6_cent_carbonyl_opt_ts.log INFO] Creating attribute mosyms[]\n"
       ]
      },
      {
       "output_type": "stream",
       "stream": "stdout",
       "text": [
        "[Gaussian o3_uff_o3_uff_6_6_cent_carbonyl_opt_ts.log INFO] Creating attribute homos[]\n"
       ]
      },
      {
       "output_type": "stream",
       "stream": "stdout",
       "text": [
        "[Gaussian o3_uff_o3_uff_6_6_cent_carbonyl_opt_ts.log INFO] Creating attribute scfenergies[]\n"
       ]
      },
      {
       "output_type": "stream",
       "stream": "stdout",
       "text": [
        "[Gaussian o3_uff_o3_uff_6_6_cent_carbonyl_opt_ts.log INFO] Creating attribute grads[]\n"
       ]
      },
      {
       "output_type": "stream",
       "stream": "stdout",
       "text": [
        "[Gaussian o3_uff_o3_uff_6_6_cent_carbonyl_opt_ts.log INFO] Creating attribute geovalues[]\n"
       ]
      },
      {
       "output_type": "stream",
       "stream": "stdout",
       "text": [
        "[Gaussian o3_uff_o3_uff_6_6_cent_carbonyl_opt_ts.log INFO] Creating attribute geotargets[]\n"
       ]
      },
      {
       "output_type": "stream",
       "stream": "stdout",
       "text": [
        "[Gaussian o3_uff_o3_uff_6_6_cent_carbonyl_opt_ts.log INFO] Creating attribute coreelectrons[]\n"
       ]
      },
      {
       "output_type": "stream",
       "stream": "stdout",
       "text": [
        "[Gaussian o3_am1_o3_am1_6_6_cent_carbonyl_opt_ts.log INFO] Creating attribute charge: 0\n"
       ]
      },
      {
       "output_type": "stream",
       "stream": "stdout",
       "text": [
        "[Gaussian o3_am1_o3_am1_6_6_cent_carbonyl_opt_ts.log INFO] Creating attribute mult: 1\n"
       ]
      },
      {
       "output_type": "stream",
       "stream": "stdout",
       "text": [
        "[Gaussian o3_am1_o3_am1_6_6_cent_carbonyl_opt_ts.log INFO] Creating attribute natom: 129\n"
       ]
      },
      {
       "output_type": "stream",
       "stream": "stdout",
       "text": [
        "[Gaussian o3_am1_o3_am1_6_6_cent_carbonyl_opt_ts.log INFO] Creating attribute atommasses[]\n"
       ]
      },
      {
       "output_type": "stream",
       "stream": "stdout",
       "text": [
        "[Gaussian o3_am1_o3_am1_6_6_cent_carbonyl_opt_ts.log INFO] Creating attribute atomcoords[]\n"
       ]
      },
      {
       "output_type": "stream",
       "stream": "stdout",
       "text": [
        "[Gaussian o3_am1_o3_am1_6_6_cent_carbonyl_opt_ts.log INFO] Creating attribute atomnos[]\n"
       ]
      },
      {
       "output_type": "stream",
       "stream": "stdout",
       "text": [
        "[Gaussian o3_am1_o3_am1_6_6_cent_carbonyl_opt_ts.log INFO] Creating attribute scftargets[]\n"
       ]
      },
      {
       "output_type": "stream",
       "stream": "stdout",
       "text": [
        "[Gaussian o3_am1_o3_am1_6_6_cent_carbonyl_opt_ts.log INFO] Creating attribute scfvalues[]\n"
       ]
      },
      {
       "output_type": "stream",
       "stream": "stdout",
       "text": [
        "[Gaussian o3_am1_o3_am1_6_6_cent_carbonyl_opt_ts.log INFO] Creating attribute mosyms[]\n"
       ]
      },
      {
       "output_type": "stream",
       "stream": "stdout",
       "text": [
        "[Gaussian o3_am1_o3_am1_6_6_cent_carbonyl_opt_ts.log INFO] Creating attribute homos[]\n"
       ]
      },
      {
       "output_type": "stream",
       "stream": "stdout",
       "text": [
        "[Gaussian o3_am1_o3_am1_6_6_cent_carbonyl_opt_ts.log INFO] Creating attribute scfenergies[]\n"
       ]
      },
      {
       "output_type": "stream",
       "stream": "stdout",
       "text": [
        "[Gaussian o3_am1_o3_am1_6_6_cent_carbonyl_opt_ts.log INFO] Creating attribute grads[]\n"
       ]
      },
      {
       "output_type": "stream",
       "stream": "stdout",
       "text": [
        "[Gaussian o3_am1_o3_am1_6_6_cent_carbonyl_opt_ts.log INFO] Creating attribute geovalues[]\n"
       ]
      },
      {
       "output_type": "stream",
       "stream": "stdout",
       "text": [
        "[Gaussian o3_am1_o3_am1_6_6_cent_carbonyl_opt_ts.log INFO] Creating attribute geotargets[]\n"
       ]
      },
      {
       "output_type": "stream",
       "stream": "stdout",
       "text": [
        "[Gaussian o3_am1_o3_am1_6_6_cent_carbonyl_opt_ts.log INFO] Creating attribute coreelectrons[]\n"
       ]
      },
      {
       "output_type": "stream",
       "stream": "stdout",
       "text": [
        "[Gaussian o3_pm6_o3_pm6_6_6_cent_carbonyl_opt_ts.log INFO] Creating attribute charge: 0\n"
       ]
      },
      {
       "output_type": "stream",
       "stream": "stdout",
       "text": [
        "[Gaussian o3_pm6_o3_pm6_6_6_cent_carbonyl_opt_ts.log INFO] Creating attribute mult: 1\n"
       ]
      },
      {
       "output_type": "stream",
       "stream": "stdout",
       "text": [
        "[Gaussian o3_pm6_o3_pm6_6_6_cent_carbonyl_opt_ts.log INFO] Creating attribute natom: 129\n"
       ]
      },
      {
       "output_type": "stream",
       "stream": "stdout",
       "text": [
        "[Gaussian o3_pm6_o3_pm6_6_6_cent_carbonyl_opt_ts.log INFO] Creating attribute atommasses[]\n"
       ]
      },
      {
       "output_type": "stream",
       "stream": "stdout",
       "text": [
        "[Gaussian o3_pm6_o3_pm6_6_6_cent_carbonyl_opt_ts.log INFO] Creating attribute atomcoords[]\n"
       ]
      },
      {
       "output_type": "stream",
       "stream": "stdout",
       "text": [
        "[Gaussian o3_pm6_o3_pm6_6_6_cent_carbonyl_opt_ts.log INFO] Creating attribute atomnos[]\n"
       ]
      },
      {
       "output_type": "stream",
       "stream": "stdout",
       "text": [
        "[Gaussian o3_pm6_o3_pm6_6_6_cent_carbonyl_opt_ts.log INFO] Creating attribute scftargets[]\n"
       ]
      },
      {
       "output_type": "stream",
       "stream": "stdout",
       "text": [
        "[Gaussian o3_pm6_o3_pm6_6_6_cent_carbonyl_opt_ts.log INFO] Creating attribute scfvalues[]\n"
       ]
      },
      {
       "output_type": "stream",
       "stream": "stdout",
       "text": [
        "[Gaussian o3_pm6_o3_pm6_6_6_cent_carbonyl_opt_ts.log INFO] Creating attribute mosyms[]\n"
       ]
      },
      {
       "output_type": "stream",
       "stream": "stdout",
       "text": [
        "[Gaussian o3_pm6_o3_pm6_6_6_cent_carbonyl_opt_ts.log INFO] Creating attribute homos[]\n"
       ]
      },
      {
       "output_type": "stream",
       "stream": "stdout",
       "text": [
        "[Gaussian o3_pm6_o3_pm6_6_6_cent_carbonyl_opt_ts.log INFO] Creating attribute scfenergies[]\n"
       ]
      },
      {
       "output_type": "stream",
       "stream": "stdout",
       "text": [
        "[Gaussian o3_pm6_o3_pm6_6_6_cent_carbonyl_opt_ts.log INFO] Creating attribute grads[]\n"
       ]
      },
      {
       "output_type": "stream",
       "stream": "stdout",
       "text": [
        "[Gaussian o3_pm6_o3_pm6_6_6_cent_carbonyl_opt_ts.log INFO] Creating attribute geovalues[]\n"
       ]
      },
      {
       "output_type": "stream",
       "stream": "stdout",
       "text": [
        "[Gaussian o3_pm6_o3_pm6_6_6_cent_carbonyl_opt_ts.log INFO] Creating attribute geotargets[]\n"
       ]
      },
      {
       "output_type": "stream",
       "stream": "stdout",
       "text": [
        "[Gaussian o3_pm6_o3_pm6_6_6_cent_carbonyl_opt_ts.log INFO] Creating attribute coreelectrons[]\n"
       ]
      },
      {
       "output_type": "stream",
       "stream": "stdout",
       "text": [
        "[Gaussian o4_uff_o4_uff_6_6_cent_carbonyl_opt_ts.log INFO] Creating attribute charge: 0\n"
       ]
      },
      {
       "output_type": "stream",
       "stream": "stdout",
       "text": [
        "[Gaussian o4_uff_o4_uff_6_6_cent_carbonyl_opt_ts.log INFO] Creating attribute mult: 1\n"
       ]
      },
      {
       "output_type": "stream",
       "stream": "stdout",
       "text": [
        "[Gaussian o4_uff_o4_uff_6_6_cent_carbonyl_opt_ts.log INFO] Creating attribute natom: 129\n"
       ]
      },
      {
       "output_type": "stream",
       "stream": "stdout",
       "text": [
        "[Gaussian o4_uff_o4_uff_6_6_cent_carbonyl_opt_ts.log INFO] Creating attribute atommasses[]\n"
       ]
      },
      {
       "output_type": "stream",
       "stream": "stdout",
       "text": [
        "[Gaussian o4_uff_o4_uff_6_6_cent_carbonyl_opt_ts.log INFO] Creating attribute atomcoords[]\n"
       ]
      },
      {
       "output_type": "stream",
       "stream": "stdout",
       "text": [
        "[Gaussian o4_uff_o4_uff_6_6_cent_carbonyl_opt_ts.log INFO] Creating attribute atomnos[]\n"
       ]
      },
      {
       "output_type": "stream",
       "stream": "stdout",
       "text": [
        "[Gaussian o4_uff_o4_uff_6_6_cent_carbonyl_opt_ts.log INFO] Creating attribute scftargets[]\n"
       ]
      },
      {
       "output_type": "stream",
       "stream": "stdout",
       "text": [
        "[Gaussian o4_uff_o4_uff_6_6_cent_carbonyl_opt_ts.log INFO] Creating attribute scfvalues[]\n"
       ]
      },
      {
       "output_type": "stream",
       "stream": "stdout",
       "text": [
        "[Gaussian o4_uff_o4_uff_6_6_cent_carbonyl_opt_ts.log INFO] Creating attribute mosyms[]\n"
       ]
      },
      {
       "output_type": "stream",
       "stream": "stdout",
       "text": [
        "[Gaussian o4_uff_o4_uff_6_6_cent_carbonyl_opt_ts.log INFO] Creating attribute homos[]\n"
       ]
      },
      {
       "output_type": "stream",
       "stream": "stdout",
       "text": [
        "[Gaussian o4_uff_o4_uff_6_6_cent_carbonyl_opt_ts.log INFO] Creating attribute scfenergies[]\n"
       ]
      },
      {
       "output_type": "stream",
       "stream": "stdout",
       "text": [
        "[Gaussian o4_uff_o4_uff_6_6_cent_carbonyl_opt_ts.log INFO] Creating attribute grads[]\n"
       ]
      },
      {
       "output_type": "stream",
       "stream": "stdout",
       "text": [
        "[Gaussian o4_uff_o4_uff_6_6_cent_carbonyl_opt_ts.log INFO] Creating attribute geovalues[]\n"
       ]
      },
      {
       "output_type": "stream",
       "stream": "stdout",
       "text": [
        "[Gaussian o4_uff_o4_uff_6_6_cent_carbonyl_opt_ts.log INFO] Creating attribute geotargets[]\n"
       ]
      },
      {
       "output_type": "stream",
       "stream": "stdout",
       "text": [
        "[Gaussian o4_uff_o4_uff_6_6_cent_carbonyl_opt_ts.log INFO] Creating attribute coreelectrons[]\n"
       ]
      },
      {
       "output_type": "stream",
       "stream": "stdout",
       "text": [
        "[Gaussian o4_am1_o4_am1_6_6_cent_carbonyl_opt_ts.log INFO] Creating attribute charge: 0\n"
       ]
      },
      {
       "output_type": "stream",
       "stream": "stdout",
       "text": [
        "[Gaussian o4_am1_o4_am1_6_6_cent_carbonyl_opt_ts.log INFO] Creating attribute mult: 1\n"
       ]
      },
      {
       "output_type": "stream",
       "stream": "stdout",
       "text": [
        "[Gaussian o4_am1_o4_am1_6_6_cent_carbonyl_opt_ts.log INFO] Creating attribute natom: 129\n"
       ]
      },
      {
       "output_type": "stream",
       "stream": "stdout",
       "text": [
        "[Gaussian o4_am1_o4_am1_6_6_cent_carbonyl_opt_ts.log INFO] Creating attribute atommasses[]\n"
       ]
      },
      {
       "output_type": "stream",
       "stream": "stdout",
       "text": [
        "[Gaussian o4_am1_o4_am1_6_6_cent_carbonyl_opt_ts.log INFO] Creating attribute atomcoords[]\n"
       ]
      },
      {
       "output_type": "stream",
       "stream": "stdout",
       "text": [
        "[Gaussian o4_am1_o4_am1_6_6_cent_carbonyl_opt_ts.log INFO] Creating attribute atomnos[]\n"
       ]
      },
      {
       "output_type": "stream",
       "stream": "stdout",
       "text": [
        "[Gaussian o4_am1_o4_am1_6_6_cent_carbonyl_opt_ts.log INFO] Creating attribute scftargets[]\n"
       ]
      },
      {
       "output_type": "stream",
       "stream": "stdout",
       "text": [
        "[Gaussian o4_am1_o4_am1_6_6_cent_carbonyl_opt_ts.log INFO] Creating attribute scfvalues[]\n"
       ]
      },
      {
       "output_type": "stream",
       "stream": "stdout",
       "text": [
        "[Gaussian o4_am1_o4_am1_6_6_cent_carbonyl_opt_ts.log INFO] Creating attribute mosyms[]\n"
       ]
      },
      {
       "output_type": "stream",
       "stream": "stdout",
       "text": [
        "[Gaussian o4_am1_o4_am1_6_6_cent_carbonyl_opt_ts.log INFO] Creating attribute homos[]\n"
       ]
      },
      {
       "output_type": "stream",
       "stream": "stdout",
       "text": [
        "[Gaussian o4_am1_o4_am1_6_6_cent_carbonyl_opt_ts.log INFO] Creating attribute scfenergies[]\n"
       ]
      },
      {
       "output_type": "stream",
       "stream": "stdout",
       "text": [
        "[Gaussian o4_am1_o4_am1_6_6_cent_carbonyl_opt_ts.log INFO] Creating attribute grads[]\n"
       ]
      },
      {
       "output_type": "stream",
       "stream": "stdout",
       "text": [
        "[Gaussian o4_am1_o4_am1_6_6_cent_carbonyl_opt_ts.log INFO] Creating attribute geovalues[]\n"
       ]
      },
      {
       "output_type": "stream",
       "stream": "stdout",
       "text": [
        "[Gaussian o4_am1_o4_am1_6_6_cent_carbonyl_opt_ts.log INFO] Creating attribute geotargets[]\n"
       ]
      },
      {
       "output_type": "stream",
       "stream": "stdout",
       "text": [
        "[Gaussian o4_am1_o4_am1_6_6_cent_carbonyl_opt_ts.log INFO] Creating attribute coreelectrons[]\n"
       ]
      }
     ],
     "prompt_number": 32
    },
    {
     "cell_type": "code",
     "collapsed": false,
     "input": [
      "opt_ts_p_calcs = check_calcs(opt_ts_p_calcs)\n",
      "mols_to_html(opt_ts_p_calcs)"
     ],
     "language": "python",
     "metadata": {},
     "outputs": [
      {
       "html": [
        "\n",
        "           <script type=\"text/javascript\">\n",
        "           function view_function (event, file_n) {\n",
        "               if (event.ctrlKey && event.shiftKey){\n",
        "                   IPython.notebook.kernel.execute(\"cc_notebook_utils.pygview('\" + file_n + \".log')\");\n",
        "               }\n",
        "               else if (event.ctrlKey){\n",
        "                   IPython.notebook.kernel.execute(\"cc_notebook_utils.pygausssum('\" + file_n + \".log')\");\n",
        "               }\n",
        "               else if (event.shiftKey){\n",
        "                   IPython.notebook.kernel.execute(\"cc_notebook_utils.pyvogadro('\" + file_n + \".log')\");\n",
        "               }\n",
        "               else IPython.notebook.kernel.execute(\"cc_notebook_utils.pyvim('\" + file_n + \".log')\");\n",
        "           }\n",
        "           </script>\n",
        "    <style>\n",
        "    table\n",
        "    {\n",
        "        border-collapse:collapse;\n",
        "    }\n",
        "    td\n",
        "    {\n",
        "        padding:15px;\n",
        "    }\n",
        "    </style>\n",
        "    <body>\n",
        "    <table bgcolor=\"white\">\n",
        "    <col/><tr><td>o2_am1_o2_am1_6_6_cent_carbonyl_opt_ts_restart_1</td><td><a href = \"files/cycloadd_oniom_large/o2_am1_o2_am1_6_6_cent_carbonyl_opt_ts_restart_1.com\" target = \"_blank\">com</a></td><td><input type=\"button\" value=\"Smart Log\" id=\"o2_am1_o2_am1_6_6_cent_carbonyl_opt_ts_restart_1\" onclick=\"view_function(event, this.id)\" /></td><td>Error: </td></tr><tr><td>o2_pm6_o2_pm6_6_6_cent_carbonyl_opt_ts_restart_1</td><td><a href = \"files/cycloadd_oniom_large/o2_pm6_o2_pm6_6_6_cent_carbonyl_opt_ts_restart_1.com\" target = \"_blank\">com</a></td><td><input type=\"button\" value=\"Smart Log\" id=\"o2_pm6_o2_pm6_6_6_cent_carbonyl_opt_ts_restart_1\" onclick=\"view_function(event, this.id)\" /></td><td>Error: </td></tr><tr><td>o4_uff_o4_uff_6_6_cent_carbonyl_opt_ts_restart_1</td><td><a href = \"files/cycloadd_oniom_large/o4_uff_o4_uff_6_6_cent_carbonyl_opt_ts_restart_1.com\" target = \"_blank\">com</a></td><td><input type=\"button\" value=\"Smart Log\" id=\"o4_uff_o4_uff_6_6_cent_carbonyl_opt_ts_restart_1\" onclick=\"view_function(event, this.id)\" /></td><td>Error: </td></tr><tr><td>o5_uff_o5_uff_6_6_cent_carbonyl_opt_ts_restart_1</td><td><a href = \"files/cycloadd_oniom_large/o5_uff_o5_uff_6_6_cent_carbonyl_opt_ts_restart_1.com\" target = \"_blank\">com</a></td><td><input type=\"button\" value=\"Smart Log\" id=\"o5_uff_o5_uff_6_6_cent_carbonyl_opt_ts_restart_1\" onclick=\"view_function(event, this.id)\" /></td><td>Error: </td></tr><tr><td>o5_pm6_o5_pm6_6_6_cent_carbonyl_opt_ts_restart_1</td><td><a href = \"files/cycloadd_oniom_large/o5_pm6_o5_pm6_6_6_cent_carbonyl_opt_ts_restart_1.com\" target = \"_blank\">com</a></td><td><input type=\"button\" value=\"Smart Log\" id=\"o5_pm6_o5_pm6_6_6_cent_carbonyl_opt_ts_restart_1\" onclick=\"view_function(event, this.id)\" /></td><td>Error: </td></tr><tr><td>o6_uff_o6_uff_6_6_cent_carbonyl_opt_ts_restart_1</td><td><a href = \"files/cycloadd_oniom_large/o6_uff_o6_uff_6_6_cent_carbonyl_opt_ts_restart_1.com\" target = \"_blank\">com</a></td><td><input type=\"button\" value=\"Smart Log\" id=\"o6_uff_o6_uff_6_6_cent_carbonyl_opt_ts_restart_1\" onclick=\"view_function(event, this.id)\" /></td><td>Error: </td></tr><tr><td>o7_uff_o7_uff_6_6_cent_carbonyl_opt_ts_restart_1</td><td><a href = \"files/cycloadd_oniom_large/o7_uff_o7_uff_6_6_cent_carbonyl_opt_ts_restart_1.com\" target = \"_blank\">com</a></td><td><input type=\"button\" value=\"Smart Log\" id=\"o7_uff_o7_uff_6_6_cent_carbonyl_opt_ts_restart_1\" onclick=\"view_function(event, this.id)\" /></td><td>Error: </td></tr>\n",
        "    </table>\n",
        "    </body>"
       ],
       "output_type": "pyout",
       "prompt_number": 33,
       "text": [
        "<IPython.core.display.HTML at 0x4aa9390>"
       ]
      }
     ],
     "prompt_number": 33
    },
    {
     "cell_type": "code",
     "collapsed": false,
     "input": [
      "for opt_ts_p_calc in opt_ts_p_calcs:\n",
      "    opt_ts_p_calc.calc.restart(geom='allcheck', opt='calcfc, ts, noeigen, maxcycles=100, loose')#, start=True)"
     ],
     "language": "python",
     "metadata": {},
     "outputs": [
      {
       "output_type": "stream",
       "stream": "stdout",
       "text": [
        "[Gaussian o2_am1_o2_am1_6_6_cent_carbonyl_opt_ts_restart_1.log INFO] Creating attribute charge: 0\n"
       ]
      },
      {
       "output_type": "stream",
       "stream": "stdout",
       "text": [
        "[Gaussian o2_am1_o2_am1_6_6_cent_carbonyl_opt_ts_restart_1.log INFO] Creating attribute mult: 1\n"
       ]
      },
      {
       "output_type": "stream",
       "stream": "stdout",
       "text": [
        "[Gaussian o2_am1_o2_am1_6_6_cent_carbonyl_opt_ts_restart_1.log INFO] Creating attribute natom: 129\n"
       ]
      },
      {
       "output_type": "stream",
       "stream": "stdout",
       "text": [
        "[Gaussian o2_am1_o2_am1_6_6_cent_carbonyl_opt_ts_restart_1.log INFO] Creating attribute atommasses[]\n"
       ]
      },
      {
       "output_type": "stream",
       "stream": "stdout",
       "text": [
        "[Gaussian o2_am1_o2_am1_6_6_cent_carbonyl_opt_ts_restart_1.log INFO] Creating attribute atomcoords[]\n"
       ]
      },
      {
       "output_type": "stream",
       "stream": "stdout",
       "text": [
        "[Gaussian o2_am1_o2_am1_6_6_cent_carbonyl_opt_ts_restart_1.log INFO] Creating attribute atomnos[]\n"
       ]
      },
      {
       "output_type": "stream",
       "stream": "stdout",
       "text": [
        "[Gaussian o2_am1_o2_am1_6_6_cent_carbonyl_opt_ts_restart_1.log INFO] Creating attribute scftargets[]\n"
       ]
      },
      {
       "output_type": "stream",
       "stream": "stdout",
       "text": [
        "[Gaussian o2_am1_o2_am1_6_6_cent_carbonyl_opt_ts_restart_1.log INFO] Creating attribute scfvalues[]\n"
       ]
      },
      {
       "output_type": "stream",
       "stream": "stdout",
       "text": [
        "[Gaussian o2_am1_o2_am1_6_6_cent_carbonyl_opt_ts_restart_1.log INFO] Creating attribute mosyms[]\n"
       ]
      },
      {
       "output_type": "stream",
       "stream": "stdout",
       "text": [
        "[Gaussian o2_am1_o2_am1_6_6_cent_carbonyl_opt_ts_restart_1.log INFO] Creating attribute homos[]\n"
       ]
      },
      {
       "output_type": "stream",
       "stream": "stdout",
       "text": [
        "[Gaussian o2_am1_o2_am1_6_6_cent_carbonyl_opt_ts_restart_1.log INFO] Creating attribute scfenergies[]\n"
       ]
      },
      {
       "output_type": "stream",
       "stream": "stdout",
       "text": [
        "[Gaussian o2_am1_o2_am1_6_6_cent_carbonyl_opt_ts_restart_1.log INFO] Creating attribute grads[]\n"
       ]
      },
      {
       "output_type": "stream",
       "stream": "stdout",
       "text": [
        "[Gaussian o2_am1_o2_am1_6_6_cent_carbonyl_opt_ts_restart_1.log INFO] Creating attribute geovalues[]\n"
       ]
      },
      {
       "output_type": "stream",
       "stream": "stdout",
       "text": [
        "[Gaussian o2_am1_o2_am1_6_6_cent_carbonyl_opt_ts_restart_1.log INFO] Creating attribute geotargets[]\n"
       ]
      },
      {
       "output_type": "stream",
       "stream": "stdout",
       "text": [
        "[Gaussian o2_am1_o2_am1_6_6_cent_carbonyl_opt_ts_restart_1.log INFO] Creating attribute coreelectrons[]\n"
       ]
      },
      {
       "output_type": "stream",
       "stream": "stdout",
       "text": [
        "[Gaussian o2_pm6_o2_pm6_6_6_cent_carbonyl_opt_ts_restart_1.log INFO] Creating attribute charge: 0\n"
       ]
      },
      {
       "output_type": "stream",
       "stream": "stdout",
       "text": [
        "[Gaussian o2_pm6_o2_pm6_6_6_cent_carbonyl_opt_ts_restart_1.log INFO] Creating attribute mult: 1\n"
       ]
      },
      {
       "output_type": "stream",
       "stream": "stdout",
       "text": [
        "[Gaussian o2_pm6_o2_pm6_6_6_cent_carbonyl_opt_ts_restart_1.log INFO] Creating attribute natom: 129\n"
       ]
      },
      {
       "output_type": "stream",
       "stream": "stdout",
       "text": [
        "[Gaussian o2_pm6_o2_pm6_6_6_cent_carbonyl_opt_ts_restart_1.log INFO] Creating attribute atommasses[]\n"
       ]
      },
      {
       "output_type": "stream",
       "stream": "stdout",
       "text": [
        "[Gaussian o2_pm6_o2_pm6_6_6_cent_carbonyl_opt_ts_restart_1.log INFO] Creating attribute atomcoords[]\n"
       ]
      },
      {
       "output_type": "stream",
       "stream": "stdout",
       "text": [
        "[Gaussian o2_pm6_o2_pm6_6_6_cent_carbonyl_opt_ts_restart_1.log INFO] Creating attribute atomnos[]\n"
       ]
      },
      {
       "output_type": "stream",
       "stream": "stdout",
       "text": [
        "[Gaussian o2_pm6_o2_pm6_6_6_cent_carbonyl_opt_ts_restart_1.log INFO] Creating attribute scftargets[]\n"
       ]
      },
      {
       "output_type": "stream",
       "stream": "stdout",
       "text": [
        "[Gaussian o2_pm6_o2_pm6_6_6_cent_carbonyl_opt_ts_restart_1.log INFO] Creating attribute scfvalues[]\n"
       ]
      },
      {
       "output_type": "stream",
       "stream": "stdout",
       "text": [
        "[Gaussian o2_pm6_o2_pm6_6_6_cent_carbonyl_opt_ts_restart_1.log INFO] Creating attribute mosyms[]\n"
       ]
      },
      {
       "output_type": "stream",
       "stream": "stdout",
       "text": [
        "[Gaussian o2_pm6_o2_pm6_6_6_cent_carbonyl_opt_ts_restart_1.log INFO] Creating attribute homos[]\n"
       ]
      },
      {
       "output_type": "stream",
       "stream": "stdout",
       "text": [
        "[Gaussian o2_pm6_o2_pm6_6_6_cent_carbonyl_opt_ts_restart_1.log INFO] Creating attribute scfenergies[]\n"
       ]
      },
      {
       "output_type": "stream",
       "stream": "stdout",
       "text": [
        "[Gaussian o2_pm6_o2_pm6_6_6_cent_carbonyl_opt_ts_restart_1.log INFO] Creating attribute grads[]\n"
       ]
      },
      {
       "output_type": "stream",
       "stream": "stdout",
       "text": [
        "[Gaussian o2_pm6_o2_pm6_6_6_cent_carbonyl_opt_ts_restart_1.log INFO] Creating attribute geovalues[]\n"
       ]
      },
      {
       "output_type": "stream",
       "stream": "stdout",
       "text": [
        "[Gaussian o2_pm6_o2_pm6_6_6_cent_carbonyl_opt_ts_restart_1.log INFO] Creating attribute geotargets[]\n"
       ]
      },
      {
       "output_type": "stream",
       "stream": "stdout",
       "text": [
        "[Gaussian o2_pm6_o2_pm6_6_6_cent_carbonyl_opt_ts_restart_1.log INFO] Creating attribute coreelectrons[]\n"
       ]
      },
      {
       "output_type": "stream",
       "stream": "stdout",
       "text": [
        "[Gaussian o4_uff_o4_uff_6_6_cent_carbonyl_opt_ts_restart_1.log INFO] Creating attribute charge: 0\n"
       ]
      },
      {
       "output_type": "stream",
       "stream": "stdout",
       "text": [
        "[Gaussian o4_uff_o4_uff_6_6_cent_carbonyl_opt_ts_restart_1.log INFO] Creating attribute mult: 1\n"
       ]
      },
      {
       "output_type": "stream",
       "stream": "stdout",
       "text": [
        "[Gaussian o4_uff_o4_uff_6_6_cent_carbonyl_opt_ts_restart_1.log INFO] Creating attribute natom: 129\n"
       ]
      },
      {
       "output_type": "stream",
       "stream": "stdout",
       "text": [
        "[Gaussian o4_uff_o4_uff_6_6_cent_carbonyl_opt_ts_restart_1.log INFO] Creating attribute atommasses[]\n"
       ]
      },
      {
       "output_type": "stream",
       "stream": "stdout",
       "text": [
        "[Gaussian o4_uff_o4_uff_6_6_cent_carbonyl_opt_ts_restart_1.log INFO] Creating attribute atomcoords[]\n"
       ]
      },
      {
       "output_type": "stream",
       "stream": "stdout",
       "text": [
        "[Gaussian o4_uff_o4_uff_6_6_cent_carbonyl_opt_ts_restart_1.log INFO] Creating attribute atomnos[]\n"
       ]
      },
      {
       "output_type": "stream",
       "stream": "stdout",
       "text": [
        "[Gaussian o4_uff_o4_uff_6_6_cent_carbonyl_opt_ts_restart_1.log INFO] Creating attribute scftargets[]\n"
       ]
      },
      {
       "output_type": "stream",
       "stream": "stdout",
       "text": [
        "[Gaussian o4_uff_o4_uff_6_6_cent_carbonyl_opt_ts_restart_1.log INFO] Creating attribute scfvalues[]\n"
       ]
      },
      {
       "output_type": "stream",
       "stream": "stdout",
       "text": [
        "[Gaussian o4_uff_o4_uff_6_6_cent_carbonyl_opt_ts_restart_1.log INFO] Creating attribute mosyms[]\n"
       ]
      },
      {
       "output_type": "stream",
       "stream": "stdout",
       "text": [
        "[Gaussian o4_uff_o4_uff_6_6_cent_carbonyl_opt_ts_restart_1.log INFO] Creating attribute homos[]\n"
       ]
      },
      {
       "output_type": "stream",
       "stream": "stdout",
       "text": [
        "[Gaussian o4_uff_o4_uff_6_6_cent_carbonyl_opt_ts_restart_1.log INFO] Creating attribute scfenergies[]\n"
       ]
      },
      {
       "output_type": "stream",
       "stream": "stdout",
       "text": [
        "[Gaussian o4_uff_o4_uff_6_6_cent_carbonyl_opt_ts_restart_1.log INFO] Creating attribute grads[]\n"
       ]
      },
      {
       "output_type": "stream",
       "stream": "stdout",
       "text": [
        "[Gaussian o4_uff_o4_uff_6_6_cent_carbonyl_opt_ts_restart_1.log INFO] Creating attribute geovalues[]\n"
       ]
      },
      {
       "output_type": "stream",
       "stream": "stdout",
       "text": [
        "[Gaussian o4_uff_o4_uff_6_6_cent_carbonyl_opt_ts_restart_1.log INFO] Creating attribute geotargets[]\n"
       ]
      },
      {
       "output_type": "stream",
       "stream": "stdout",
       "text": [
        "[Gaussian o4_uff_o4_uff_6_6_cent_carbonyl_opt_ts_restart_1.log INFO] Creating attribute coreelectrons[]\n"
       ]
      },
      {
       "output_type": "stream",
       "stream": "stdout",
       "text": [
        "[Gaussian o5_uff_o5_uff_6_6_cent_carbonyl_opt_ts_restart_1.log INFO] Creating attribute charge: 0\n"
       ]
      },
      {
       "output_type": "stream",
       "stream": "stdout",
       "text": [
        "[Gaussian o5_uff_o5_uff_6_6_cent_carbonyl_opt_ts_restart_1.log INFO] Creating attribute mult: 1\n"
       ]
      },
      {
       "output_type": "stream",
       "stream": "stdout",
       "text": [
        "[Gaussian o5_uff_o5_uff_6_6_cent_carbonyl_opt_ts_restart_1.log INFO] Creating attribute natom: 129\n"
       ]
      },
      {
       "output_type": "stream",
       "stream": "stdout",
       "text": [
        "[Gaussian o5_uff_o5_uff_6_6_cent_carbonyl_opt_ts_restart_1.log INFO] Creating attribute atommasses[]\n"
       ]
      },
      {
       "output_type": "stream",
       "stream": "stdout",
       "text": [
        "[Gaussian o5_uff_o5_uff_6_6_cent_carbonyl_opt_ts_restart_1.log INFO] Creating attribute atomcoords[]\n"
       ]
      },
      {
       "output_type": "stream",
       "stream": "stdout",
       "text": [
        "[Gaussian o5_uff_o5_uff_6_6_cent_carbonyl_opt_ts_restart_1.log INFO] Creating attribute atomnos[]\n"
       ]
      },
      {
       "output_type": "stream",
       "stream": "stdout",
       "text": [
        "[Gaussian o5_uff_o5_uff_6_6_cent_carbonyl_opt_ts_restart_1.log INFO] Creating attribute scftargets[]\n"
       ]
      },
      {
       "output_type": "stream",
       "stream": "stdout",
       "text": [
        "[Gaussian o5_uff_o5_uff_6_6_cent_carbonyl_opt_ts_restart_1.log INFO] Creating attribute scfvalues[]\n"
       ]
      },
      {
       "output_type": "stream",
       "stream": "stdout",
       "text": [
        "[Gaussian o5_uff_o5_uff_6_6_cent_carbonyl_opt_ts_restart_1.log INFO] Creating attribute mosyms[]\n"
       ]
      },
      {
       "output_type": "stream",
       "stream": "stdout",
       "text": [
        "[Gaussian o5_uff_o5_uff_6_6_cent_carbonyl_opt_ts_restart_1.log INFO] Creating attribute homos[]\n"
       ]
      },
      {
       "output_type": "stream",
       "stream": "stdout",
       "text": [
        "[Gaussian o5_uff_o5_uff_6_6_cent_carbonyl_opt_ts_restart_1.log INFO] Creating attribute scfenergies[]\n"
       ]
      },
      {
       "output_type": "stream",
       "stream": "stdout",
       "text": [
        "[Gaussian o5_uff_o5_uff_6_6_cent_carbonyl_opt_ts_restart_1.log INFO] Creating attribute grads[]\n"
       ]
      },
      {
       "output_type": "stream",
       "stream": "stdout",
       "text": [
        "[Gaussian o5_uff_o5_uff_6_6_cent_carbonyl_opt_ts_restart_1.log INFO] Creating attribute geovalues[]\n"
       ]
      },
      {
       "output_type": "stream",
       "stream": "stdout",
       "text": [
        "[Gaussian o5_uff_o5_uff_6_6_cent_carbonyl_opt_ts_restart_1.log INFO] Creating attribute geotargets[]\n"
       ]
      },
      {
       "output_type": "stream",
       "stream": "stdout",
       "text": [
        "[Gaussian o5_uff_o5_uff_6_6_cent_carbonyl_opt_ts_restart_1.log INFO] Creating attribute coreelectrons[]\n"
       ]
      },
      {
       "output_type": "stream",
       "stream": "stdout",
       "text": [
        "[Gaussian o5_pm6_o5_pm6_6_6_cent_carbonyl_opt_ts_restart_1.log INFO] Creating attribute charge: 0\n"
       ]
      },
      {
       "output_type": "stream",
       "stream": "stdout",
       "text": [
        "[Gaussian o5_pm6_o5_pm6_6_6_cent_carbonyl_opt_ts_restart_1.log INFO] Creating attribute mult: 1\n"
       ]
      },
      {
       "output_type": "stream",
       "stream": "stdout",
       "text": [
        "[Gaussian o5_pm6_o5_pm6_6_6_cent_carbonyl_opt_ts_restart_1.log INFO] Creating attribute natom: 129\n"
       ]
      },
      {
       "output_type": "stream",
       "stream": "stdout",
       "text": [
        "[Gaussian o5_pm6_o5_pm6_6_6_cent_carbonyl_opt_ts_restart_1.log INFO] Creating attribute atommasses[]\n"
       ]
      },
      {
       "output_type": "stream",
       "stream": "stdout",
       "text": [
        "[Gaussian o5_pm6_o5_pm6_6_6_cent_carbonyl_opt_ts_restart_1.log INFO] Creating attribute atomcoords[]\n"
       ]
      },
      {
       "output_type": "stream",
       "stream": "stdout",
       "text": [
        "[Gaussian o5_pm6_o5_pm6_6_6_cent_carbonyl_opt_ts_restart_1.log INFO] Creating attribute atomnos[]\n"
       ]
      },
      {
       "output_type": "stream",
       "stream": "stdout",
       "text": [
        "[Gaussian o5_pm6_o5_pm6_6_6_cent_carbonyl_opt_ts_restart_1.log INFO] Creating attribute scftargets[]\n"
       ]
      },
      {
       "output_type": "stream",
       "stream": "stdout",
       "text": [
        "[Gaussian o5_pm6_o5_pm6_6_6_cent_carbonyl_opt_ts_restart_1.log INFO] Creating attribute scfvalues[]\n"
       ]
      },
      {
       "output_type": "stream",
       "stream": "stdout",
       "text": [
        "[Gaussian o5_pm6_o5_pm6_6_6_cent_carbonyl_opt_ts_restart_1.log INFO] Creating attribute mosyms[]\n"
       ]
      },
      {
       "output_type": "stream",
       "stream": "stdout",
       "text": [
        "[Gaussian o5_pm6_o5_pm6_6_6_cent_carbonyl_opt_ts_restart_1.log INFO] Creating attribute homos[]\n"
       ]
      },
      {
       "output_type": "stream",
       "stream": "stdout",
       "text": [
        "[Gaussian o5_pm6_o5_pm6_6_6_cent_carbonyl_opt_ts_restart_1.log INFO] Creating attribute scfenergies[]\n"
       ]
      },
      {
       "output_type": "stream",
       "stream": "stdout",
       "text": [
        "[Gaussian o5_pm6_o5_pm6_6_6_cent_carbonyl_opt_ts_restart_1.log INFO] Creating attribute grads[]\n"
       ]
      },
      {
       "output_type": "stream",
       "stream": "stdout",
       "text": [
        "[Gaussian o5_pm6_o5_pm6_6_6_cent_carbonyl_opt_ts_restart_1.log INFO] Creating attribute geovalues[]\n"
       ]
      },
      {
       "output_type": "stream",
       "stream": "stdout",
       "text": [
        "[Gaussian o5_pm6_o5_pm6_6_6_cent_carbonyl_opt_ts_restart_1.log INFO] Creating attribute geotargets[]\n"
       ]
      },
      {
       "output_type": "stream",
       "stream": "stdout",
       "text": [
        "[Gaussian o5_pm6_o5_pm6_6_6_cent_carbonyl_opt_ts_restart_1.log INFO] Creating attribute coreelectrons[]\n"
       ]
      },
      {
       "output_type": "stream",
       "stream": "stdout",
       "text": [
        "[Gaussian o6_uff_o6_uff_6_6_cent_carbonyl_opt_ts_restart_1.log INFO] Creating attribute charge: 0\n"
       ]
      },
      {
       "output_type": "stream",
       "stream": "stdout",
       "text": [
        "[Gaussian o6_uff_o6_uff_6_6_cent_carbonyl_opt_ts_restart_1.log INFO] Creating attribute mult: 1\n"
       ]
      },
      {
       "output_type": "stream",
       "stream": "stdout",
       "text": [
        "[Gaussian o6_uff_o6_uff_6_6_cent_carbonyl_opt_ts_restart_1.log INFO] Creating attribute natom: 129\n"
       ]
      },
      {
       "output_type": "stream",
       "stream": "stdout",
       "text": [
        "[Gaussian o6_uff_o6_uff_6_6_cent_carbonyl_opt_ts_restart_1.log INFO] Creating attribute atommasses[]\n"
       ]
      },
      {
       "output_type": "stream",
       "stream": "stdout",
       "text": [
        "[Gaussian o6_uff_o6_uff_6_6_cent_carbonyl_opt_ts_restart_1.log INFO] Creating attribute atomcoords[]\n"
       ]
      },
      {
       "output_type": "stream",
       "stream": "stdout",
       "text": [
        "[Gaussian o6_uff_o6_uff_6_6_cent_carbonyl_opt_ts_restart_1.log INFO] Creating attribute atomnos[]\n"
       ]
      },
      {
       "output_type": "stream",
       "stream": "stdout",
       "text": [
        "[Gaussian o6_uff_o6_uff_6_6_cent_carbonyl_opt_ts_restart_1.log INFO] Creating attribute scftargets[]\n"
       ]
      },
      {
       "output_type": "stream",
       "stream": "stdout",
       "text": [
        "[Gaussian o6_uff_o6_uff_6_6_cent_carbonyl_opt_ts_restart_1.log INFO] Creating attribute scfvalues[]\n"
       ]
      },
      {
       "output_type": "stream",
       "stream": "stdout",
       "text": [
        "[Gaussian o6_uff_o6_uff_6_6_cent_carbonyl_opt_ts_restart_1.log INFO] Creating attribute mosyms[]\n"
       ]
      },
      {
       "output_type": "stream",
       "stream": "stdout",
       "text": [
        "[Gaussian o6_uff_o6_uff_6_6_cent_carbonyl_opt_ts_restart_1.log INFO] Creating attribute homos[]\n"
       ]
      },
      {
       "output_type": "stream",
       "stream": "stdout",
       "text": [
        "[Gaussian o6_uff_o6_uff_6_6_cent_carbonyl_opt_ts_restart_1.log INFO] Creating attribute scfenergies[]\n"
       ]
      },
      {
       "output_type": "stream",
       "stream": "stdout",
       "text": [
        "[Gaussian o6_uff_o6_uff_6_6_cent_carbonyl_opt_ts_restart_1.log INFO] Creating attribute grads[]\n"
       ]
      },
      {
       "output_type": "stream",
       "stream": "stdout",
       "text": [
        "[Gaussian o6_uff_o6_uff_6_6_cent_carbonyl_opt_ts_restart_1.log INFO] Creating attribute geovalues[]\n"
       ]
      },
      {
       "output_type": "stream",
       "stream": "stdout",
       "text": [
        "[Gaussian o6_uff_o6_uff_6_6_cent_carbonyl_opt_ts_restart_1.log INFO] Creating attribute geotargets[]\n"
       ]
      },
      {
       "output_type": "stream",
       "stream": "stdout",
       "text": [
        "[Gaussian o6_uff_o6_uff_6_6_cent_carbonyl_opt_ts_restart_1.log INFO] Creating attribute coreelectrons[]\n"
       ]
      },
      {
       "output_type": "stream",
       "stream": "stdout",
       "text": [
        "[Gaussian o7_uff_o7_uff_6_6_cent_carbonyl_opt_ts_restart_1.log INFO] Creating attribute charge: 0\n"
       ]
      },
      {
       "output_type": "stream",
       "stream": "stdout",
       "text": [
        "[Gaussian o7_uff_o7_uff_6_6_cent_carbonyl_opt_ts_restart_1.log INFO] Creating attribute mult: 1\n"
       ]
      },
      {
       "output_type": "stream",
       "stream": "stdout",
       "text": [
        "[Gaussian o7_uff_o7_uff_6_6_cent_carbonyl_opt_ts_restart_1.log INFO] Creating attribute natom: 129\n"
       ]
      },
      {
       "output_type": "stream",
       "stream": "stdout",
       "text": [
        "[Gaussian o7_uff_o7_uff_6_6_cent_carbonyl_opt_ts_restart_1.log INFO] Creating attribute atommasses[]\n"
       ]
      },
      {
       "output_type": "stream",
       "stream": "stdout",
       "text": [
        "[Gaussian o7_uff_o7_uff_6_6_cent_carbonyl_opt_ts_restart_1.log INFO] Creating attribute atomcoords[]\n"
       ]
      },
      {
       "output_type": "stream",
       "stream": "stdout",
       "text": [
        "[Gaussian o7_uff_o7_uff_6_6_cent_carbonyl_opt_ts_restart_1.log INFO] Creating attribute atomnos[]\n"
       ]
      },
      {
       "output_type": "stream",
       "stream": "stdout",
       "text": [
        "[Gaussian o7_uff_o7_uff_6_6_cent_carbonyl_opt_ts_restart_1.log INFO] Creating attribute scftargets[]\n"
       ]
      },
      {
       "output_type": "stream",
       "stream": "stdout",
       "text": [
        "[Gaussian o7_uff_o7_uff_6_6_cent_carbonyl_opt_ts_restart_1.log INFO] Creating attribute scfvalues[]\n"
       ]
      },
      {
       "output_type": "stream",
       "stream": "stdout",
       "text": [
        "[Gaussian o7_uff_o7_uff_6_6_cent_carbonyl_opt_ts_restart_1.log INFO] Creating attribute mosyms[]\n"
       ]
      },
      {
       "output_type": "stream",
       "stream": "stdout",
       "text": [
        "[Gaussian o7_uff_o7_uff_6_6_cent_carbonyl_opt_ts_restart_1.log INFO] Creating attribute homos[]\n"
       ]
      },
      {
       "output_type": "stream",
       "stream": "stdout",
       "text": [
        "[Gaussian o7_uff_o7_uff_6_6_cent_carbonyl_opt_ts_restart_1.log INFO] Creating attribute scfenergies[]\n"
       ]
      },
      {
       "output_type": "stream",
       "stream": "stdout",
       "text": [
        "[Gaussian o7_uff_o7_uff_6_6_cent_carbonyl_opt_ts_restart_1.log INFO] Creating attribute grads[]\n"
       ]
      },
      {
       "output_type": "stream",
       "stream": "stdout",
       "text": [
        "[Gaussian o7_uff_o7_uff_6_6_cent_carbonyl_opt_ts_restart_1.log INFO] Creating attribute geovalues[]\n"
       ]
      },
      {
       "output_type": "stream",
       "stream": "stdout",
       "text": [
        "[Gaussian o7_uff_o7_uff_6_6_cent_carbonyl_opt_ts_restart_1.log INFO] Creating attribute geotargets[]\n"
       ]
      },
      {
       "output_type": "stream",
       "stream": "stdout",
       "text": [
        "[Gaussian o7_uff_o7_uff_6_6_cent_carbonyl_opt_ts_restart_1.log INFO] Creating attribute coreelectrons[]\n"
       ]
      }
     ],
     "prompt_number": 34
    },
    {
     "cell_type": "code",
     "collapsed": false,
     "input": [
      "opt_ts_p_calcs = check_calcs(opt_ts_p_calcs)\n",
      "mols_to_html(opt_ts_p_calcs)"
     ],
     "language": "python",
     "metadata": {},
     "outputs": [
      {
       "html": [
        "\n",
        "           <script type=\"text/javascript\">\n",
        "           function view_function (event, file_n) {\n",
        "               if (event.ctrlKey && event.shiftKey){\n",
        "                   IPython.notebook.kernel.execute(\"cc_notebook_utils.pygview('\" + file_n + \".log')\");\n",
        "               }\n",
        "               else if (event.ctrlKey){\n",
        "                   IPython.notebook.kernel.execute(\"cc_notebook_utils.pygausssum('\" + file_n + \".log')\");\n",
        "               }\n",
        "               else if (event.shiftKey){\n",
        "                   IPython.notebook.kernel.execute(\"cc_notebook_utils.pyvogadro('\" + file_n + \".log')\");\n",
        "               }\n",
        "               else IPython.notebook.kernel.execute(\"cc_notebook_utils.pyvim('\" + file_n + \".log')\");\n",
        "           }\n",
        "           </script>\n",
        "    <style>\n",
        "    table\n",
        "    {\n",
        "        border-collapse:collapse;\n",
        "    }\n",
        "    td\n",
        "    {\n",
        "        padding:15px;\n",
        "    }\n",
        "    </style>\n",
        "    <body>\n",
        "    <table bgcolor=\"white\">\n",
        "    <col/><tr><td>o2_am1_o2_am1_6_6_cent_carbonyl_opt_ts_restart_2</td><td><a href = \"files/cycloadd_oniom_large/o2_am1_o2_am1_6_6_cent_carbonyl_opt_ts_restart_2.com\" target = \"_blank\">com</a></td><td><input type=\"button\" value=\"Smart Log\" id=\"o2_am1_o2_am1_6_6_cent_carbonyl_opt_ts_restart_2\" onclick=\"view_function(event, this.id)\" /></td><td>Error: </td></tr><tr><td>o2_pm6_o2_pm6_6_6_cent_carbonyl_opt_ts_restart_2</td><td><a href = \"files/cycloadd_oniom_large/o2_pm6_o2_pm6_6_6_cent_carbonyl_opt_ts_restart_2.com\" target = \"_blank\">com</a></td><td><input type=\"button\" value=\"Smart Log\" id=\"o2_pm6_o2_pm6_6_6_cent_carbonyl_opt_ts_restart_2\" onclick=\"view_function(event, this.id)\" /></td><td>Error: </td></tr><tr><td>o4_uff_o4_uff_6_6_cent_carbonyl_opt_ts_restart_2</td><td><a href = \"files/cycloadd_oniom_large/o4_uff_o4_uff_6_6_cent_carbonyl_opt_ts_restart_2.com\" target = \"_blank\">com</a></td><td><input type=\"button\" value=\"Smart Log\" id=\"o4_uff_o4_uff_6_6_cent_carbonyl_opt_ts_restart_2\" onclick=\"view_function(event, this.id)\" /></td><td>Error: Error in internal coordinate system.</td></tr><tr><td>o5_pm6_o5_pm6_6_6_cent_carbonyl_opt_ts_restart_2</td><td><a href = \"files/cycloadd_oniom_large/o5_pm6_o5_pm6_6_6_cent_carbonyl_opt_ts_restart_2.com\" target = \"_blank\">com</a></td><td><input type=\"button\" value=\"Smart Log\" id=\"o5_pm6_o5_pm6_6_6_cent_carbonyl_opt_ts_restart_2\" onclick=\"view_function(event, this.id)\" /></td><td>Error: </td></tr><tr><td>o7_uff_o7_uff_6_6_cent_carbonyl_opt_ts_restart_2</td><td><a href = \"files/cycloadd_oniom_large/o7_uff_o7_uff_6_6_cent_carbonyl_opt_ts_restart_2.com\" target = \"_blank\">com</a></td><td><input type=\"button\" value=\"Smart Log\" id=\"o7_uff_o7_uff_6_6_cent_carbonyl_opt_ts_restart_2\" onclick=\"view_function(event, this.id)\" /></td><td>Error: </td></tr>\n",
        "    </table>\n",
        "    </body>"
       ],
       "output_type": "pyout",
       "prompt_number": 35,
       "text": [
        "<IPython.core.display.HTML at 0x4bbba10>"
       ]
      }
     ],
     "prompt_number": 35
    },
    {
     "cell_type": "markdown",
     "metadata": {},
     "source": [
      "07_uff...restart_2 still running so we will restart the others, when 07_uff...restart_2 has finished we can also restart it and then modify the loop below such that it includes all opt_ts_p_calcs"
     ]
    },
    {
     "cell_type": "code",
     "collapsed": false,
     "input": [
      "for opt_ts_p_calc in opt_ts_p_calcs[0:-1]:\n",
      "    opt_ts_p_calc.calc.restart(geom='allcheck', opt='calcfc, ts, noeigen, maxcycles=100, loose')#, start=True)"
     ],
     "language": "python",
     "metadata": {},
     "outputs": [
      {
       "output_type": "stream",
       "stream": "stdout",
       "text": [
        "[Gaussian o2_am1_o2_am1_6_6_cent_carbonyl_opt_ts_restart_2.log INFO] Creating attribute charge: 0\n"
       ]
      },
      {
       "output_type": "stream",
       "stream": "stdout",
       "text": [
        "[Gaussian o2_am1_o2_am1_6_6_cent_carbonyl_opt_ts_restart_2.log INFO] Creating attribute mult: 1\n"
       ]
      },
      {
       "output_type": "stream",
       "stream": "stdout",
       "text": [
        "[Gaussian o2_am1_o2_am1_6_6_cent_carbonyl_opt_ts_restart_2.log INFO] Creating attribute natom: 129\n"
       ]
      },
      {
       "output_type": "stream",
       "stream": "stdout",
       "text": [
        "[Gaussian o2_am1_o2_am1_6_6_cent_carbonyl_opt_ts_restart_2.log INFO] Creating attribute atommasses[]\n"
       ]
      },
      {
       "output_type": "stream",
       "stream": "stdout",
       "text": [
        "[Gaussian o2_am1_o2_am1_6_6_cent_carbonyl_opt_ts_restart_2.log INFO] Creating attribute atomcoords[]\n"
       ]
      },
      {
       "output_type": "stream",
       "stream": "stdout",
       "text": [
        "[Gaussian o2_am1_o2_am1_6_6_cent_carbonyl_opt_ts_restart_2.log INFO] Creating attribute atomnos[]\n"
       ]
      },
      {
       "output_type": "stream",
       "stream": "stdout",
       "text": [
        "[Gaussian o2_am1_o2_am1_6_6_cent_carbonyl_opt_ts_restart_2.log INFO] Creating attribute scftargets[]\n"
       ]
      },
      {
       "output_type": "stream",
       "stream": "stdout",
       "text": [
        "[Gaussian o2_am1_o2_am1_6_6_cent_carbonyl_opt_ts_restart_2.log INFO] Creating attribute scfvalues[]\n"
       ]
      },
      {
       "output_type": "stream",
       "stream": "stdout",
       "text": [
        "[Gaussian o2_am1_o2_am1_6_6_cent_carbonyl_opt_ts_restart_2.log INFO] Creating attribute mosyms[]\n"
       ]
      },
      {
       "output_type": "stream",
       "stream": "stdout",
       "text": [
        "[Gaussian o2_am1_o2_am1_6_6_cent_carbonyl_opt_ts_restart_2.log INFO] Creating attribute homos[]\n"
       ]
      },
      {
       "output_type": "stream",
       "stream": "stdout",
       "text": [
        "[Gaussian o2_am1_o2_am1_6_6_cent_carbonyl_opt_ts_restart_2.log INFO] Creating attribute scfenergies[]\n"
       ]
      },
      {
       "output_type": "stream",
       "stream": "stdout",
       "text": [
        "[Gaussian o2_am1_o2_am1_6_6_cent_carbonyl_opt_ts_restart_2.log INFO] Creating attribute grads[]\n"
       ]
      },
      {
       "output_type": "stream",
       "stream": "stdout",
       "text": [
        "[Gaussian o2_am1_o2_am1_6_6_cent_carbonyl_opt_ts_restart_2.log INFO] Creating attribute geovalues[]\n"
       ]
      },
      {
       "output_type": "stream",
       "stream": "stdout",
       "text": [
        "[Gaussian o2_am1_o2_am1_6_6_cent_carbonyl_opt_ts_restart_2.log INFO] Creating attribute geotargets[]\n"
       ]
      },
      {
       "output_type": "stream",
       "stream": "stdout",
       "text": [
        "[Gaussian o2_am1_o2_am1_6_6_cent_carbonyl_opt_ts_restart_2.log INFO] Creating attribute coreelectrons[]\n"
       ]
      },
      {
       "output_type": "stream",
       "stream": "stdout",
       "text": [
        "[Gaussian o2_pm6_o2_pm6_6_6_cent_carbonyl_opt_ts_restart_2.log INFO] Creating attribute charge: 0\n"
       ]
      },
      {
       "output_type": "stream",
       "stream": "stdout",
       "text": [
        "[Gaussian o2_pm6_o2_pm6_6_6_cent_carbonyl_opt_ts_restart_2.log INFO] Creating attribute mult: 1\n"
       ]
      },
      {
       "output_type": "stream",
       "stream": "stdout",
       "text": [
        "[Gaussian o2_pm6_o2_pm6_6_6_cent_carbonyl_opt_ts_restart_2.log INFO] Creating attribute natom: 129\n"
       ]
      },
      {
       "output_type": "stream",
       "stream": "stdout",
       "text": [
        "[Gaussian o2_pm6_o2_pm6_6_6_cent_carbonyl_opt_ts_restart_2.log INFO] Creating attribute atommasses[]\n"
       ]
      },
      {
       "output_type": "stream",
       "stream": "stdout",
       "text": [
        "[Gaussian o2_pm6_o2_pm6_6_6_cent_carbonyl_opt_ts_restart_2.log INFO] Creating attribute atomcoords[]\n"
       ]
      },
      {
       "output_type": "stream",
       "stream": "stdout",
       "text": [
        "[Gaussian o2_pm6_o2_pm6_6_6_cent_carbonyl_opt_ts_restart_2.log INFO] Creating attribute atomnos[]\n"
       ]
      },
      {
       "output_type": "stream",
       "stream": "stdout",
       "text": [
        "[Gaussian o2_pm6_o2_pm6_6_6_cent_carbonyl_opt_ts_restart_2.log INFO] Creating attribute scftargets[]\n"
       ]
      },
      {
       "output_type": "stream",
       "stream": "stdout",
       "text": [
        "[Gaussian o2_pm6_o2_pm6_6_6_cent_carbonyl_opt_ts_restart_2.log INFO] Creating attribute scfvalues[]\n"
       ]
      },
      {
       "output_type": "stream",
       "stream": "stdout",
       "text": [
        "[Gaussian o2_pm6_o2_pm6_6_6_cent_carbonyl_opt_ts_restart_2.log INFO] Creating attribute mosyms[]\n"
       ]
      },
      {
       "output_type": "stream",
       "stream": "stdout",
       "text": [
        "[Gaussian o2_pm6_o2_pm6_6_6_cent_carbonyl_opt_ts_restart_2.log INFO] Creating attribute homos[]\n"
       ]
      },
      {
       "output_type": "stream",
       "stream": "stdout",
       "text": [
        "[Gaussian o2_pm6_o2_pm6_6_6_cent_carbonyl_opt_ts_restart_2.log INFO] Creating attribute scfenergies[]\n"
       ]
      },
      {
       "output_type": "stream",
       "stream": "stdout",
       "text": [
        "[Gaussian o2_pm6_o2_pm6_6_6_cent_carbonyl_opt_ts_restart_2.log INFO] Creating attribute grads[]\n"
       ]
      },
      {
       "output_type": "stream",
       "stream": "stdout",
       "text": [
        "[Gaussian o2_pm6_o2_pm6_6_6_cent_carbonyl_opt_ts_restart_2.log INFO] Creating attribute geovalues[]\n"
       ]
      },
      {
       "output_type": "stream",
       "stream": "stdout",
       "text": [
        "[Gaussian o2_pm6_o2_pm6_6_6_cent_carbonyl_opt_ts_restart_2.log INFO] Creating attribute geotargets[]\n"
       ]
      },
      {
       "output_type": "stream",
       "stream": "stdout",
       "text": [
        "[Gaussian o2_pm6_o2_pm6_6_6_cent_carbonyl_opt_ts_restart_2.log INFO] Creating attribute coreelectrons[]\n"
       ]
      },
      {
       "output_type": "stream",
       "stream": "stdout",
       "text": [
        "[Gaussian o4_uff_o4_uff_6_6_cent_carbonyl_opt_ts_restart_2.log INFO] Creating attribute charge: 0\n"
       ]
      },
      {
       "output_type": "stream",
       "stream": "stdout",
       "text": [
        "[Gaussian o4_uff_o4_uff_6_6_cent_carbonyl_opt_ts_restart_2.log INFO] Creating attribute mult: 1\n"
       ]
      },
      {
       "output_type": "stream",
       "stream": "stdout",
       "text": [
        "[Gaussian o4_uff_o4_uff_6_6_cent_carbonyl_opt_ts_restart_2.log INFO] Creating attribute natom: 129\n"
       ]
      },
      {
       "output_type": "stream",
       "stream": "stdout",
       "text": [
        "[Gaussian o4_uff_o4_uff_6_6_cent_carbonyl_opt_ts_restart_2.log INFO] Creating attribute atommasses[]\n"
       ]
      },
      {
       "output_type": "stream",
       "stream": "stdout",
       "text": [
        "[Gaussian o4_uff_o4_uff_6_6_cent_carbonyl_opt_ts_restart_2.log INFO] Creating attribute atomcoords[]\n"
       ]
      },
      {
       "output_type": "stream",
       "stream": "stdout",
       "text": [
        "[Gaussian o4_uff_o4_uff_6_6_cent_carbonyl_opt_ts_restart_2.log INFO] Creating attribute atomnos[]\n"
       ]
      },
      {
       "output_type": "stream",
       "stream": "stdout",
       "text": [
        "[Gaussian o4_uff_o4_uff_6_6_cent_carbonyl_opt_ts_restart_2.log INFO] Creating attribute scftargets[]\n"
       ]
      },
      {
       "output_type": "stream",
       "stream": "stdout",
       "text": [
        "[Gaussian o4_uff_o4_uff_6_6_cent_carbonyl_opt_ts_restart_2.log INFO] Creating attribute scfvalues[]\n"
       ]
      },
      {
       "output_type": "stream",
       "stream": "stdout",
       "text": [
        "[Gaussian o4_uff_o4_uff_6_6_cent_carbonyl_opt_ts_restart_2.log INFO] Creating attribute mosyms[]\n"
       ]
      },
      {
       "output_type": "stream",
       "stream": "stdout",
       "text": [
        "[Gaussian o4_uff_o4_uff_6_6_cent_carbonyl_opt_ts_restart_2.log INFO] Creating attribute homos[]\n"
       ]
      },
      {
       "output_type": "stream",
       "stream": "stdout",
       "text": [
        "[Gaussian o4_uff_o4_uff_6_6_cent_carbonyl_opt_ts_restart_2.log INFO] Creating attribute scfenergies[]\n"
       ]
      },
      {
       "output_type": "stream",
       "stream": "stdout",
       "text": [
        "[Gaussian o4_uff_o4_uff_6_6_cent_carbonyl_opt_ts_restart_2.log INFO] Creating attribute grads[]\n"
       ]
      },
      {
       "output_type": "stream",
       "stream": "stdout",
       "text": [
        "[Gaussian o4_uff_o4_uff_6_6_cent_carbonyl_opt_ts_restart_2.log INFO] Creating attribute geovalues[]\n"
       ]
      },
      {
       "output_type": "stream",
       "stream": "stdout",
       "text": [
        "[Gaussian o4_uff_o4_uff_6_6_cent_carbonyl_opt_ts_restart_2.log INFO] Creating attribute geotargets[]\n"
       ]
      },
      {
       "output_type": "stream",
       "stream": "stdout",
       "text": [
        "[Gaussian o4_uff_o4_uff_6_6_cent_carbonyl_opt_ts_restart_2.log INFO] Creating attribute coreelectrons[]\n"
       ]
      },
      {
       "output_type": "stream",
       "stream": "stdout",
       "text": [
        "[Gaussian o5_pm6_o5_pm6_6_6_cent_carbonyl_opt_ts_restart_2.log INFO] Creating attribute charge: 0\n"
       ]
      },
      {
       "output_type": "stream",
       "stream": "stdout",
       "text": [
        "[Gaussian o5_pm6_o5_pm6_6_6_cent_carbonyl_opt_ts_restart_2.log INFO] Creating attribute mult: 1\n"
       ]
      },
      {
       "output_type": "stream",
       "stream": "stdout",
       "text": [
        "[Gaussian o5_pm6_o5_pm6_6_6_cent_carbonyl_opt_ts_restart_2.log INFO] Creating attribute natom: 129\n"
       ]
      },
      {
       "output_type": "stream",
       "stream": "stdout",
       "text": [
        "[Gaussian o5_pm6_o5_pm6_6_6_cent_carbonyl_opt_ts_restart_2.log INFO] Creating attribute atommasses[]\n"
       ]
      },
      {
       "output_type": "stream",
       "stream": "stdout",
       "text": [
        "[Gaussian o5_pm6_o5_pm6_6_6_cent_carbonyl_opt_ts_restart_2.log INFO] Creating attribute atomcoords[]\n"
       ]
      },
      {
       "output_type": "stream",
       "stream": "stdout",
       "text": [
        "[Gaussian o5_pm6_o5_pm6_6_6_cent_carbonyl_opt_ts_restart_2.log INFO] Creating attribute atomnos[]\n"
       ]
      },
      {
       "output_type": "stream",
       "stream": "stdout",
       "text": [
        "[Gaussian o5_pm6_o5_pm6_6_6_cent_carbonyl_opt_ts_restart_2.log INFO] Creating attribute scftargets[]\n"
       ]
      },
      {
       "output_type": "stream",
       "stream": "stdout",
       "text": [
        "[Gaussian o5_pm6_o5_pm6_6_6_cent_carbonyl_opt_ts_restart_2.log INFO] Creating attribute scfvalues[]\n"
       ]
      },
      {
       "output_type": "stream",
       "stream": "stdout",
       "text": [
        "[Gaussian o5_pm6_o5_pm6_6_6_cent_carbonyl_opt_ts_restart_2.log INFO] Creating attribute mosyms[]\n"
       ]
      },
      {
       "output_type": "stream",
       "stream": "stdout",
       "text": [
        "[Gaussian o5_pm6_o5_pm6_6_6_cent_carbonyl_opt_ts_restart_2.log INFO] Creating attribute homos[]\n"
       ]
      },
      {
       "output_type": "stream",
       "stream": "stdout",
       "text": [
        "[Gaussian o5_pm6_o5_pm6_6_6_cent_carbonyl_opt_ts_restart_2.log INFO] Creating attribute scfenergies[]\n"
       ]
      },
      {
       "output_type": "stream",
       "stream": "stdout",
       "text": [
        "[Gaussian o5_pm6_o5_pm6_6_6_cent_carbonyl_opt_ts_restart_2.log INFO] Creating attribute grads[]\n"
       ]
      },
      {
       "output_type": "stream",
       "stream": "stdout",
       "text": [
        "[Gaussian o5_pm6_o5_pm6_6_6_cent_carbonyl_opt_ts_restart_2.log INFO] Creating attribute geovalues[]\n"
       ]
      },
      {
       "output_type": "stream",
       "stream": "stdout",
       "text": [
        "[Gaussian o5_pm6_o5_pm6_6_6_cent_carbonyl_opt_ts_restart_2.log INFO] Creating attribute geotargets[]\n"
       ]
      },
      {
       "output_type": "stream",
       "stream": "stdout",
       "text": [
        "[Gaussian o5_pm6_o5_pm6_6_6_cent_carbonyl_opt_ts_restart_2.log INFO] Creating attribute coreelectrons[]\n"
       ]
      }
     ],
     "prompt_number": 36
    },
    {
     "cell_type": "code",
     "collapsed": false,
     "input": [
      "opt_ts_p_calcs = check_calcs(opt_ts_p_calcs)\n",
      "mols_to_html(opt_ts_p_calcs)"
     ],
     "language": "python",
     "metadata": {},
     "outputs": [
      {
       "html": [
        "\n",
        "           <script type=\"text/javascript\">\n",
        "           function view_function (event, file_n) {\n",
        "               if (event.ctrlKey && event.shiftKey){\n",
        "                   IPython.notebook.kernel.execute(\"cc_notebook_utils.pygview('\" + file_n + \".log')\");\n",
        "               }\n",
        "               else if (event.ctrlKey){\n",
        "                   IPython.notebook.kernel.execute(\"cc_notebook_utils.pygausssum('\" + file_n + \".log')\");\n",
        "               }\n",
        "               else if (event.shiftKey){\n",
        "                   IPython.notebook.kernel.execute(\"cc_notebook_utils.pyvogadro('\" + file_n + \".log')\");\n",
        "               }\n",
        "               else IPython.notebook.kernel.execute(\"cc_notebook_utils.pyvim('\" + file_n + \".log')\");\n",
        "           }\n",
        "           </script>\n",
        "    <style>\n",
        "    table\n",
        "    {\n",
        "        border-collapse:collapse;\n",
        "    }\n",
        "    td\n",
        "    {\n",
        "        padding:15px;\n",
        "    }\n",
        "    </style>\n",
        "    <body>\n",
        "    <table bgcolor=\"white\">\n",
        "    <col/><tr><td>o2_am1_o2_am1_6_6_cent_carbonyl_opt_ts_restart_3</td><td><a href = \"files/cycloadd_oniom_large/o2_am1_o2_am1_6_6_cent_carbonyl_opt_ts_restart_3.com\" target = \"_blank\">com</a></td><td><input type=\"button\" value=\"Smart Log\" id=\"o2_am1_o2_am1_6_6_cent_carbonyl_opt_ts_restart_3\" onclick=\"view_function(event, this.id)\" /></td><td>Error: </td></tr><tr><td>o2_pm6_o2_pm6_6_6_cent_carbonyl_opt_ts_restart_3</td><td><a href = \"files/cycloadd_oniom_large/o2_pm6_o2_pm6_6_6_cent_carbonyl_opt_ts_restart_3.com\" target = \"_blank\">com</a></td><td><input type=\"button\" value=\"Smart Log\" id=\"o2_pm6_o2_pm6_6_6_cent_carbonyl_opt_ts_restart_3\" onclick=\"view_function(event, this.id)\" /></td><td>Error: </td></tr><tr><td>o4_uff_o4_uff_6_6_cent_carbonyl_opt_ts_restart_3</td><td><a href = \"files/cycloadd_oniom_large/o4_uff_o4_uff_6_6_cent_carbonyl_opt_ts_restart_3.com\" target = \"_blank\">com</a></td><td><input type=\"button\" value=\"Smart Log\" id=\"o4_uff_o4_uff_6_6_cent_carbonyl_opt_ts_restart_3\" onclick=\"view_function(event, this.id)\" /></td><td>Error: Error in internal coordinate system.</td></tr><tr><td>o5_pm6_o5_pm6_6_6_cent_carbonyl_opt_ts_restart_3</td><td><a href = \"files/cycloadd_oniom_large/o5_pm6_o5_pm6_6_6_cent_carbonyl_opt_ts_restart_3.com\" target = \"_blank\">com</a></td><td><input type=\"button\" value=\"Smart Log\" id=\"o5_pm6_o5_pm6_6_6_cent_carbonyl_opt_ts_restart_3\" onclick=\"view_function(event, this.id)\" /></td><td>Error: </td></tr><tr><td>o7_uff_o7_uff_6_6_cent_carbonyl_opt_ts_restart_2</td><td><a href = \"files/cycloadd_oniom_large/o7_uff_o7_uff_6_6_cent_carbonyl_opt_ts_restart_2.com\" target = \"_blank\">com</a></td><td><input type=\"button\" value=\"Smart Log\" id=\"o7_uff_o7_uff_6_6_cent_carbonyl_opt_ts_restart_2\" onclick=\"view_function(event, this.id)\" /></td><td>Error: </td></tr>\n",
        "    </table>\n",
        "    </body>"
       ],
       "output_type": "pyout",
       "prompt_number": 37,
       "text": [
        "<IPython.core.display.HTML at 0x4aa9110>"
       ]
      }
     ],
     "prompt_number": 37
    },
    {
     "cell_type": "code",
     "collapsed": false,
     "input": [
      "mols_to_html(o_66_carb_opt_ts)"
     ],
     "language": "python",
     "metadata": {},
     "outputs": [
      {
       "html": [
        "\n",
        "           <script type=\"text/javascript\">\n",
        "           function view_function (event, file_n) {\n",
        "               if (event.ctrlKey && event.shiftKey){\n",
        "                   IPython.notebook.kernel.execute(\"cc_notebook_utils.pygview('\" + file_n + \".log')\");\n",
        "               }\n",
        "               else if (event.ctrlKey){\n",
        "                   IPython.notebook.kernel.execute(\"cc_notebook_utils.pygausssum('\" + file_n + \".log')\");\n",
        "               }\n",
        "               else if (event.shiftKey){\n",
        "                   IPython.notebook.kernel.execute(\"cc_notebook_utils.pyvogadro('\" + file_n + \".log')\");\n",
        "               }\n",
        "               else IPython.notebook.kernel.execute(\"cc_notebook_utils.pyvim('\" + file_n + \".log')\");\n",
        "           }\n",
        "           </script>\n",
        "    <style>\n",
        "    table\n",
        "    {\n",
        "        border-collapse:collapse;\n",
        "    }\n",
        "    td\n",
        "    {\n",
        "        padding:15px;\n",
        "    }\n",
        "    </style>\n",
        "    <body>\n",
        "    <table bgcolor=\"white\">\n",
        "    <col/><tr><td>o0_uff_o0_uff_6_6_cent_carbonyl_opt_ts</td><td><a href = \"files/cycloadd_oniom_large/o0_uff_o0_uff_6_6_cent_carbonyl_opt_ts.com\" target = \"_blank\">com</a></td><td><input type=\"button\" value=\"Smart Log\" id=\"o0_uff_o0_uff_6_6_cent_carbonyl_opt_ts\" onclick=\"view_function(event, this.id)\" /></td><td>Success</td></tr><tr><td>o0_am1_o0_am1_6_6_cent_carbonyl_opt_ts_restart_1</td><td><a href = \"files/cycloadd_oniom_large/o0_am1_o0_am1_6_6_cent_carbonyl_opt_ts_restart_1.com\" target = \"_blank\">com</a></td><td><input type=\"button\" value=\"Smart Log\" id=\"o0_am1_o0_am1_6_6_cent_carbonyl_opt_ts_restart_1\" onclick=\"view_function(event, this.id)\" /></td><td>Success</td></tr><tr><td>o0_pm6_o0_pm6_6_6_cent_carbonyl_opt_ts_restart_1</td><td><a href = \"files/cycloadd_oniom_large/o0_pm6_o0_pm6_6_6_cent_carbonyl_opt_ts_restart_1.com\" target = \"_blank\">com</a></td><td><input type=\"button\" value=\"Smart Log\" id=\"o0_pm6_o0_pm6_6_6_cent_carbonyl_opt_ts_restart_1\" onclick=\"view_function(event, this.id)\" /></td><td>Success</td></tr><tr><td>o0_HF_STO-3G_o0_HF_STO-3G_6_6_cent_carbonyl_opt_ts</td><td><a href = \"files/cycloadd_oniom_large/o0_HF_STO-3G_o0_HF_STO-3G_6_6_cent_carbonyl_opt_ts.com\" target = \"_blank\">com</a></td><td><input type=\"button\" value=\"Smart Log\" id=\"o0_HF_STO-3G_o0_HF_STO-3G_6_6_cent_carbonyl_opt_ts\" onclick=\"view_function(event, this.id)\" /></td><td>Success</td></tr><tr><td>o1_uff_o1_uff_6_6_cent_carbonyl_opt_ts_restart_1</td><td><a href = \"files/cycloadd_oniom_large/o1_uff_o1_uff_6_6_cent_carbonyl_opt_ts_restart_1.com\" target = \"_blank\">com</a></td><td><input type=\"button\" value=\"Smart Log\" id=\"o1_uff_o1_uff_6_6_cent_carbonyl_opt_ts_restart_1\" onclick=\"view_function(event, this.id)\" /></td><td>Success</td></tr><tr><td>o1_am1_o1_am1_6_6_cent_carbonyl_opt_ts_restart_1</td><td><a href = \"files/cycloadd_oniom_large/o1_am1_o1_am1_6_6_cent_carbonyl_opt_ts_restart_1.com\" target = \"_blank\">com</a></td><td><input type=\"button\" value=\"Smart Log\" id=\"o1_am1_o1_am1_6_6_cent_carbonyl_opt_ts_restart_1\" onclick=\"view_function(event, this.id)\" /></td><td>Success</td></tr><tr><td>o1_pm6_o1_pm6_6_6_cent_carbonyl_opt_ts_restart_1</td><td><a href = \"files/cycloadd_oniom_large/o1_pm6_o1_pm6_6_6_cent_carbonyl_opt_ts_restart_1.com\" target = \"_blank\">com</a></td><td><input type=\"button\" value=\"Smart Log\" id=\"o1_pm6_o1_pm6_6_6_cent_carbonyl_opt_ts_restart_1\" onclick=\"view_function(event, this.id)\" /></td><td>Success</td></tr><tr><td>o1_HF_STO-3G_o1_HF_STO-3G_6_6_cent_carbonyl_opt_ts</td><td><a href = \"files/cycloadd_oniom_large/o1_HF_STO-3G_o1_HF_STO-3G_6_6_cent_carbonyl_opt_ts.com\" target = \"_blank\">com</a></td><td><input type=\"button\" value=\"Smart Log\" id=\"o1_HF_STO-3G_o1_HF_STO-3G_6_6_cent_carbonyl_opt_ts\" onclick=\"view_function(event, this.id)\" /></td><td>Success</td></tr><tr><td>o2_uff_o2_uff_6_6_cent_carbonyl_opt_ts_restart_1</td><td><a href = \"files/cycloadd_oniom_large/o2_uff_o2_uff_6_6_cent_carbonyl_opt_ts_restart_1.com\" target = \"_blank\">com</a></td><td><input type=\"button\" value=\"Smart Log\" id=\"o2_uff_o2_uff_6_6_cent_carbonyl_opt_ts_restart_1\" onclick=\"view_function(event, this.id)\" /></td><td>Success</td></tr><tr><td>o2_am1_o2_am1_6_6_cent_carbonyl_opt_ts_restart_3</td><td><a href = \"files/cycloadd_oniom_large/o2_am1_o2_am1_6_6_cent_carbonyl_opt_ts_restart_3.com\" target = \"_blank\">com</a></td><td><input type=\"button\" value=\"Smart Log\" id=\"o2_am1_o2_am1_6_6_cent_carbonyl_opt_ts_restart_3\" onclick=\"view_function(event, this.id)\" /></td><td>Error: </td></tr><tr><td>o2_pm6_o2_pm6_6_6_cent_carbonyl_opt_ts_restart_3</td><td><a href = \"files/cycloadd_oniom_large/o2_pm6_o2_pm6_6_6_cent_carbonyl_opt_ts_restart_3.com\" target = \"_blank\">com</a></td><td><input type=\"button\" value=\"Smart Log\" id=\"o2_pm6_o2_pm6_6_6_cent_carbonyl_opt_ts_restart_3\" onclick=\"view_function(event, this.id)\" /></td><td>Error: </td></tr><tr><td>o2_HF_STO-3G_o2_HF_STO-3G_6_6_cent_carbonyl_opt_ts</td><td><a href = \"files/cycloadd_oniom_large/o2_HF_STO-3G_o2_HF_STO-3G_6_6_cent_carbonyl_opt_ts.com\" target = \"_blank\">com</a></td><td><input type=\"button\" value=\"Smart Log\" id=\"o2_HF_STO-3G_o2_HF_STO-3G_6_6_cent_carbonyl_opt_ts\" onclick=\"view_function(event, this.id)\" /></td><td>Success</td></tr><tr><td>o3_uff_o3_uff_6_6_cent_carbonyl_opt_ts_restart_1</td><td><a href = \"files/cycloadd_oniom_large/o3_uff_o3_uff_6_6_cent_carbonyl_opt_ts_restart_1.com\" target = \"_blank\">com</a></td><td><input type=\"button\" value=\"Smart Log\" id=\"o3_uff_o3_uff_6_6_cent_carbonyl_opt_ts_restart_1\" onclick=\"view_function(event, this.id)\" /></td><td>Success</td></tr><tr><td>o3_am1_o3_am1_6_6_cent_carbonyl_opt_ts_restart_1</td><td><a href = \"files/cycloadd_oniom_large/o3_am1_o3_am1_6_6_cent_carbonyl_opt_ts_restart_1.com\" target = \"_blank\">com</a></td><td><input type=\"button\" value=\"Smart Log\" id=\"o3_am1_o3_am1_6_6_cent_carbonyl_opt_ts_restart_1\" onclick=\"view_function(event, this.id)\" /></td><td>Success</td></tr><tr><td>o3_pm6_o3_pm6_6_6_cent_carbonyl_opt_ts_restart_1</td><td><a href = \"files/cycloadd_oniom_large/o3_pm6_o3_pm6_6_6_cent_carbonyl_opt_ts_restart_1.com\" target = \"_blank\">com</a></td><td><input type=\"button\" value=\"Smart Log\" id=\"o3_pm6_o3_pm6_6_6_cent_carbonyl_opt_ts_restart_1\" onclick=\"view_function(event, this.id)\" /></td><td>Success</td></tr><tr><td>o3_HF_STO-3G_o3_HF_STO-3G_6_6_cent_carbonyl_opt_ts</td><td><a href = \"files/cycloadd_oniom_large/o3_HF_STO-3G_o3_HF_STO-3G_6_6_cent_carbonyl_opt_ts.com\" target = \"_blank\">com</a></td><td><input type=\"button\" value=\"Smart Log\" id=\"o3_HF_STO-3G_o3_HF_STO-3G_6_6_cent_carbonyl_opt_ts\" onclick=\"view_function(event, this.id)\" /></td><td>Success</td></tr><tr><td>o4_uff_o4_uff_6_6_cent_carbonyl_opt_ts_restart_3</td><td><a href = \"files/cycloadd_oniom_large/o4_uff_o4_uff_6_6_cent_carbonyl_opt_ts_restart_3.com\" target = \"_blank\">com</a></td><td><input type=\"button\" value=\"Smart Log\" id=\"o4_uff_o4_uff_6_6_cent_carbonyl_opt_ts_restart_3\" onclick=\"view_function(event, this.id)\" /></td><td>Error: Error in internal coordinate system.</td></tr><tr><td>o4_am1_o4_am1_6_6_cent_carbonyl_opt_ts_restart_1</td><td><a href = \"files/cycloadd_oniom_large/o4_am1_o4_am1_6_6_cent_carbonyl_opt_ts_restart_1.com\" target = \"_blank\">com</a></td><td><input type=\"button\" value=\"Smart Log\" id=\"o4_am1_o4_am1_6_6_cent_carbonyl_opt_ts_restart_1\" onclick=\"view_function(event, this.id)\" /></td><td>Success</td></tr><tr><td>o4_pm6_o4_pm6_6_6_cent_carbonyl_opt_ts</td><td><a href = \"files/cycloadd_oniom_large/o4_pm6_o4_pm6_6_6_cent_carbonyl_opt_ts.com\" target = \"_blank\">com</a></td><td><input type=\"button\" value=\"Smart Log\" id=\"o4_pm6_o4_pm6_6_6_cent_carbonyl_opt_ts\" onclick=\"view_function(event, this.id)\" /></td><td>Success</td></tr><tr><td>o4_HF_STO-3G_o4_HF_STO-3G_6_6_cent_carbonyl_opt_ts</td><td><a href = \"files/cycloadd_oniom_large/o4_HF_STO-3G_o4_HF_STO-3G_6_6_cent_carbonyl_opt_ts.com\" target = \"_blank\">com</a></td><td><input type=\"button\" value=\"Smart Log\" id=\"o4_HF_STO-3G_o4_HF_STO-3G_6_6_cent_carbonyl_opt_ts\" onclick=\"view_function(event, this.id)\" /></td><td>Success</td></tr><tr><td>o5_uff_o5_uff_6_6_cent_carbonyl_opt_ts_restart_2</td><td><a href = \"files/cycloadd_oniom_large/o5_uff_o5_uff_6_6_cent_carbonyl_opt_ts_restart_2.com\" target = \"_blank\">com</a></td><td><input type=\"button\" value=\"Smart Log\" id=\"o5_uff_o5_uff_6_6_cent_carbonyl_opt_ts_restart_2\" onclick=\"view_function(event, this.id)\" /></td><td>Success</td></tr><tr><td>o5_am1_o5_am1_6_6_cent_carbonyl_opt_ts_restart_1</td><td><a href = \"files/cycloadd_oniom_large/o5_am1_o5_am1_6_6_cent_carbonyl_opt_ts_restart_1.com\" target = \"_blank\">com</a></td><td><input type=\"button\" value=\"Smart Log\" id=\"o5_am1_o5_am1_6_6_cent_carbonyl_opt_ts_restart_1\" onclick=\"view_function(event, this.id)\" /></td><td>Success</td></tr><tr><td>o5_pm6_o5_pm6_6_6_cent_carbonyl_opt_ts_restart_3</td><td><a href = \"files/cycloadd_oniom_large/o5_pm6_o5_pm6_6_6_cent_carbonyl_opt_ts_restart_3.com\" target = \"_blank\">com</a></td><td><input type=\"button\" value=\"Smart Log\" id=\"o5_pm6_o5_pm6_6_6_cent_carbonyl_opt_ts_restart_3\" onclick=\"view_function(event, this.id)\" /></td><td>Error: </td></tr><tr><td>o5_HF_STO-3G_o5_HF_STO-3G_6_6_cent_carbonyl_opt_ts_restart_1</td><td><a href = \"files/cycloadd_oniom_large/o5_HF_STO-3G_o5_HF_STO-3G_6_6_cent_carbonyl_opt_ts_restart_1.com\" target = \"_blank\">com</a></td><td><input type=\"button\" value=\"Smart Log\" id=\"o5_HF_STO-3G_o5_HF_STO-3G_6_6_cent_carbonyl_opt_ts_restart_1\" onclick=\"view_function(event, this.id)\" /></td><td>Success</td></tr><tr><td>o6_uff_o6_uff_6_6_cent_carbonyl_opt_ts_restart_2</td><td><a href = \"files/cycloadd_oniom_large/o6_uff_o6_uff_6_6_cent_carbonyl_opt_ts_restart_2.com\" target = \"_blank\">com</a></td><td><input type=\"button\" value=\"Smart Log\" id=\"o6_uff_o6_uff_6_6_cent_carbonyl_opt_ts_restart_2\" onclick=\"view_function(event, this.id)\" /></td><td>Success</td></tr><tr><td>o6_am1_o6_am1_6_6_cent_carbonyl_opt_ts_restart_1</td><td><a href = \"files/cycloadd_oniom_large/o6_am1_o6_am1_6_6_cent_carbonyl_opt_ts_restart_1.com\" target = \"_blank\">com</a></td><td><input type=\"button\" value=\"Smart Log\" id=\"o6_am1_o6_am1_6_6_cent_carbonyl_opt_ts_restart_1\" onclick=\"view_function(event, this.id)\" /></td><td>Success</td></tr><tr><td>o6_pm6_o6_pm6_6_6_cent_carbonyl_opt_ts_restart_1</td><td><a href = \"files/cycloadd_oniom_large/o6_pm6_o6_pm6_6_6_cent_carbonyl_opt_ts_restart_1.com\" target = \"_blank\">com</a></td><td><input type=\"button\" value=\"Smart Log\" id=\"o6_pm6_o6_pm6_6_6_cent_carbonyl_opt_ts_restart_1\" onclick=\"view_function(event, this.id)\" /></td><td>Success</td></tr><tr><td>o6_HF_STO-3G_o6_HF_STO-3G_6_6_cent_carbonyl_opt_ts_restart_1</td><td><a href = \"files/cycloadd_oniom_large/o6_HF_STO-3G_o6_HF_STO-3G_6_6_cent_carbonyl_opt_ts_restart_1.com\" target = \"_blank\">com</a></td><td><input type=\"button\" value=\"Smart Log\" id=\"o6_HF_STO-3G_o6_HF_STO-3G_6_6_cent_carbonyl_opt_ts_restart_1\" onclick=\"view_function(event, this.id)\" /></td><td>Success</td></tr><tr><td>o7_uff_o7_uff_6_6_cent_carbonyl_opt_ts_restart_2</td><td><a href = \"files/cycloadd_oniom_large/o7_uff_o7_uff_6_6_cent_carbonyl_opt_ts_restart_2.com\" target = \"_blank\">com</a></td><td><input type=\"button\" value=\"Smart Log\" id=\"o7_uff_o7_uff_6_6_cent_carbonyl_opt_ts_restart_2\" onclick=\"view_function(event, this.id)\" /></td><td>Error: </td></tr><tr><td>o7_am1_o7_am1_6_6_cent_carbonyl_opt_ts_restart_1</td><td><a href = \"files/cycloadd_oniom_large/o7_am1_o7_am1_6_6_cent_carbonyl_opt_ts_restart_1.com\" target = \"_blank\">com</a></td><td><input type=\"button\" value=\"Smart Log\" id=\"o7_am1_o7_am1_6_6_cent_carbonyl_opt_ts_restart_1\" onclick=\"view_function(event, this.id)\" /></td><td>Success</td></tr><tr><td>o7_pm6_o7_pm6_6_6_cent_carbonyl_opt_ts_restart_1</td><td><a href = \"files/cycloadd_oniom_large/o7_pm6_o7_pm6_6_6_cent_carbonyl_opt_ts_restart_1.com\" target = \"_blank\">com</a></td><td><input type=\"button\" value=\"Smart Log\" id=\"o7_pm6_o7_pm6_6_6_cent_carbonyl_opt_ts_restart_1\" onclick=\"view_function(event, this.id)\" /></td><td>Success</td></tr><tr><td>o7_HF_STO-3G_o7_HF_STO-3G_6_6_cent_carbonyl_opt_ts_restart_1</td><td><a href = \"files/cycloadd_oniom_large/o7_HF_STO-3G_o7_HF_STO-3G_6_6_cent_carbonyl_opt_ts_restart_1.com\" target = \"_blank\">com</a></td><td><input type=\"button\" value=\"Smart Log\" id=\"o7_HF_STO-3G_o7_HF_STO-3G_6_6_cent_carbonyl_opt_ts_restart_1\" onclick=\"view_function(event, this.id)\" /></td><td>Success</td></tr><tr><td>o_sanity_o_sanity_6_6_cent_carbonyl_opt_ts_restart_1</td><td><a href = \"files/cycloadd_oniom_large/o_sanity_o_sanity_6_6_cent_carbonyl_opt_ts_restart_1.com\" target = \"_blank\">com</a></td><td><input type=\"button\" value=\"Smart Log\" id=\"o_sanity_o_sanity_6_6_cent_carbonyl_opt_ts_restart_1\" onclick=\"view_function(event, this.id)\" /></td><td>Success</td></tr>\n",
        "    </table>\n",
        "    </body>"
       ],
       "output_type": "pyout",
       "prompt_number": 38,
       "text": [
        "<IPython.core.display.HTML at 0x4aa9cd0>"
       ]
      }
     ],
     "prompt_number": 38
    },
    {
     "cell_type": "code",
     "collapsed": false,
     "input": [
      "for mol in o_66_carb_opt_ts:\n",
      "    if status(mol) == 'Success':\n",
      "        mol.calc.restart(geom='allcheck', add_label = 'freq_', guess='read', opt=None, freq='freq')#, start=True)"
     ],
     "language": "python",
     "metadata": {},
     "outputs": [],
     "prompt_number": 39
    },
    {
     "cell_type": "code",
     "collapsed": false,
     "input": [
      "p_freq_calcs = check_calcs([m for m in o_66_carb_opt_ts if 'freq' in m.calc.label])\n",
      "mols_to_html(p_freq_calcs)"
     ],
     "language": "python",
     "metadata": {},
     "outputs": [
      {
       "html": [
        "\n",
        "           <script type=\"text/javascript\">\n",
        "           function view_function (event, file_n) {\n",
        "               if (event.ctrlKey && event.shiftKey){\n",
        "                   IPython.notebook.kernel.execute(\"cc_notebook_utils.pygview('\" + file_n + \".log')\");\n",
        "               }\n",
        "               else if (event.ctrlKey){\n",
        "                   IPython.notebook.kernel.execute(\"cc_notebook_utils.pygausssum('\" + file_n + \".log')\");\n",
        "               }\n",
        "               else if (event.shiftKey){\n",
        "                   IPython.notebook.kernel.execute(\"cc_notebook_utils.pyvogadro('\" + file_n + \".log')\");\n",
        "               }\n",
        "               else IPython.notebook.kernel.execute(\"cc_notebook_utils.pyvim('\" + file_n + \".log')\");\n",
        "           }\n",
        "           </script>\n",
        "    <style>\n",
        "    table\n",
        "    {\n",
        "        border-collapse:collapse;\n",
        "    }\n",
        "    td\n",
        "    {\n",
        "        padding:15px;\n",
        "    }\n",
        "    </style>\n",
        "    <body>\n",
        "    <table bgcolor=\"white\">\n",
        "    <col/><tr><td>o_sanity_o_sanity_6_6_cent_carbonyl_opt_ts_freq_restart_2</td><td><a href = \"files/cycloadd_oniom_large/o_sanity_o_sanity_6_6_cent_carbonyl_opt_ts_freq_restart_2.com\" target = \"_blank\">com</a></td><td><input type=\"button\" value=\"Smart Log\" id=\"o_sanity_o_sanity_6_6_cent_carbonyl_opt_ts_freq_restart_2\" onclick=\"view_function(event, this.id)\" /></td><td>Incomplete</td></tr>\n",
        "    </table>\n",
        "    </body>"
       ],
       "output_type": "pyout",
       "prompt_number": 40,
       "text": [
        "<IPython.core.display.HTML at 0x4bd7810>"
       ]
      }
     ],
     "prompt_number": 40
    },
    {
     "cell_type": "code",
     "collapsed": false,
     "input": [
      "p_freq_calcs[0].calc.restart(geom='allcheck', guess='read', freq='freq')\n",
      "p_freq_calcs[0].calc.set_job(nodes=12, memory=12*1600, time=48, queue='pqmb')\n",
      "#p_freq_calcs[0].calc.start()"
     ],
     "language": "python",
     "metadata": {},
     "outputs": [],
     "prompt_number": 43
    },
    {
     "cell_type": "code",
     "collapsed": false,
     "input": [
      "check_calcs(p_freq_calcs)"
     ],
     "language": "python",
     "metadata": {},
     "outputs": []
    }
   ],
   "metadata": {}
  }
 ]
}