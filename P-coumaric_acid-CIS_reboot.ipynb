{
 "metadata": {
  "name": ""
 },
 "nbformat": 3,
 "nbformat_minor": 0,
 "worksheets": [
  {
   "cells": [
    {
     "cell_type": "code",
     "collapsed": false,
     "input": [
      "import cc_notebook_utils\n",
      "from cc_notebook_utils import *\n",
      "from ASE_utils import *\n",
      "from ase.calculators.gaussian import Gaussian\n",
      "from ase.io import read"
     ],
     "language": "python",
     "metadata": {
      "slideshow": {
       "slide_type": "-"
      }
     },
     "outputs": [
      {
       "output_type": "stream",
       "stream": "stderr",
       "text": [
        "WARNING: Neither ~/.pyp_util.ini nor ./pbs_util.ini exist."
       ]
      }
     ],
     "prompt_number": 1
    },
    {
     "cell_type": "code",
     "collapsed": false,
     "input": [
      "cd p_coumaric/v4"
     ],
     "language": "python",
     "metadata": {},
     "outputs": [
      {
       "output_type": "stream",
       "stream": "stdout",
       "text": [
        "/home/clyde/Dropbox/Project Stuff/Notebooks/p_coumaric/v4\n"
       ]
      }
     ],
     "prompt_number": 2
    },
    {
     "cell_type": "markdown",
     "metadata": {},
     "source": [
      "Structures from Martinez' [paper](http://pubs.acs.org/doi/full/10.1021/ja0365025) which references [this](http://pubs.acs.org/doi/abs/10.1021/ja017505p) experimental paper. We aim to analyse data from this [paper](http://pubs.acs.org/doi/full/10.1021/jz300542f) (see also Martial's [paper](http://pubs.acs.org/doi/full/10.1021/jp108977x#notes-1) and finally the PyP experimental overview [paper](http://pubs.acs.org/doi/full/10.1021/jp027005y))"
     ]
    },
    {
     "cell_type": "code",
     "collapsed": false,
     "input": [
      "my_init_geoms = {'S0_trans_M': '../v2/trans_p_coumaric.xyz', 'S0_cis_M':'../v2/cis_p_coumaric.xyz', 'S0_TS':'../v2/CIS_B1_CIS_B1_S1_p_coumaric_ts_v2_restart_1.log', 'S1_M':'../v2/CIS_B1_CIS_B1_S1_min_p_coumaric_qc_restart_1.log'}\n",
      "martinez_xyzs = {'S0_M':'../v2/martinez_s0_B3LYP_6-31G_dd.xyz', 'S1_TS':'../v2/martinez_s1_B3LYP_6-31G_dd_ts.xyz', 'S1_M':'../v2/martinez_s1_B3LYP_6-31G_dd.xyz', 'S0S1C1':'../v2/martinez_s0s1CI_B3LYP_6-31G_dd.xyz', 'S0S1C2': '../v2/martinez_s0s1CI2_B3LYP_6-31G_dd.xyz'}"
     ],
     "language": "python",
     "metadata": {},
     "outputs": [],
     "prompt_number": 3
    },
    {
     "cell_type": "code",
     "collapsed": false,
     "input": [
      "view_ipython_jmol(martinez_xyzs['S0_M'])"
     ],
     "language": "python",
     "metadata": {},
     "outputs": [
      {
       "html": [
        "\n",
        "    <iframe\n",
        "      width=\"400\"\n",
        "      height=\"300\"\n",
        "      src=/files/jmol/ase-RlUkkL.html\n",
        "      frameborder=\"0\"\n",
        "      allowfullscreen\n",
        "    ></iframe>"
       ],
       "metadata": {},
       "output_type": "pyout",
       "prompt_number": 4,
       "text": [
        "<IPython.core.display.HTML at 0x4e6bd50>"
       ]
      }
     ],
     "prompt_number": 4
    },
    {
     "cell_type": "heading",
     "level": 3,
     "metadata": {},
     "source": [
      "Compute s0 and s1 minimas:"
     ]
    },
    {
     "cell_type": "code",
     "collapsed": false,
     "input": [
      "s0_trans_M = read(my_init_geoms['S0_trans_M'])\n",
      "s0_trans_M.set_calculator(Gaussian(label='HF_B1_HF_B1_S0_trans_p_coumaric', method='HF', basis='6-31G*', opt='opt', freq='freq', nosymmetry='nosymmetry'))\n",
      "s0_trans_M.calc.set_job(nodes=8, memory=8*1400, time=5, queue='pqmb', version='g09')\n",
      "\n",
      "s0_cis_M = read(my_init_geoms['S0_cis_M'])\n",
      "s0_cis_M.set_calculator(Gaussian(label='HF_B1_HF_B1_S0_cis_p_coumaric', method='HF', basis='6-31G*', opt='opt', freq='freq', nosymmetry='nosymmetry'))\n",
      "s0_cis_M.calc.set_job(nodes=8, memory=8*1400, time=5, queue='pqmb', version='g09')\n",
      "\n",
      "s1_M = read(my_init_geoms['S1_M'])\n",
      "s1_M.set_calculator(Gaussian(label='CIS_B1_CIS_B1_S1_p_coumaric', method='CIS', basis='6-31G*', opt='opt', freq='freq', nosymmetry='nosymmetry'))\n",
      "s1_M.calc.set_job(nodes=8, memory=8*1400, time=5, queue='pqmb', version='g09')\n",
      "\n",
      "#this turns out to be a transition state\n",
      "s1_cis_M = read(my_init_geoms['S0_cis_M'])\n",
      "s1_cis_M.set_calculator(Gaussian(label='CIS_B1_CIS_B1_S1_cis_p_coumaric', method='CIS', basis='6-31G*', opt='opt', freq='freq', nosymmetry='nosymmetry'))\n",
      "s1_cis_M.calc.set_job(nodes=8, memory=8*1400, time=5, queue='pqmb', version='g09')\n",
      "s1_ts_2 = copy.deepcopy(s1_cis_M)\n",
      "\n",
      "#attempting to find s1_cis_minima\n",
      "neg_eig = s1_cis_M.calc.max_data['vibdisps'][0]\n",
      "s1_cis_M2 = read(s1_cis_M.calc.log)\n",
      "s1_cis_M2.positions += neg_eig\n",
      "s1_cis_M2.set_calculator(Gaussian(label='CIS_B1_CIS_B1_S1_cis_p_coumaric_v2', method='CIS', basis='6-31G*', opt='opt', freq='freq', nosymmetry='nosymmetry'))\n",
      "s1_cis_M2.calc.set_job(nodes=8, memory=8*1400, time=5, queue='pqmb', version='g09')\n",
      "#this fails I do not think there is a s1 CIS minima\n",
      "\n",
      "s1_trans_M = read(my_init_geoms['S0_trans_M'])\n",
      "s1_trans_M.set_calculator(Gaussian(label='CIS_B1_CIS_B1_S1_trans_p_coumaric', method='CIS', basis='6-31G*', opt='opt', freq='freq', nosymmetry='nosymmetry'))\n",
      "s1_trans_M.calc.set_job(nodes=8, memory=8*1400, time=5, queue='pqmb', version='g09')"
     ],
     "language": "python",
     "metadata": {},
     "outputs": [],
     "prompt_number": "*"
    },
    {
     "cell_type": "code",
     "collapsed": false,
     "input": [
      "check_calcs([s0_trans_M, s0_cis_M, s1_M, s1_cis_M2, s1_trans_M])\n",
      "mols_to_html([s0_trans_M, s0_cis_M, s1_M, s1_cis_M2, s1_trans_M], data_func=lambda m:m.calc.energy_zero)"
     ],
     "language": "python",
     "metadata": {},
     "outputs": [],
     "prompt_number": "*"
    },
    {
     "cell_type": "heading",
     "level": 3,
     "metadata": {},
     "source": [
      "Compute s0 and s1 transition states:"
     ]
    },
    {
     "cell_type": "code",
     "collapsed": false,
     "input": [
      "react, ts = read('CIS_B1_CIS_B1_S1_p_coumaric.log'), read(my_init_geoms['S0_TS'])\n",
      "s1_ts = read('CIS_B1_CIS_B1_S1_trans_p_coumaric.log')\n",
      "s1_ts.set_calculator(Gaussian(label='CIS_B1_CIS_B1_S1_p_coumaric_ts', method='CIS', basis='6-31G*', opt='(ts qst3)', freq='freq', nosymmetry='nosymmetry'))\n",
      "s1_ts.calc.set_qst3(react, ts)\n",
      "s1_ts.calc.set_job(nodes=8, memory=8*1400, time=5, queue='pqmb', version='g09')\n",
      "\n",
      "s0_ts = read(my_init_geoms['S0_TS'])\n",
      "s0_ts.set_calculator(Gaussian(label='HF_B1_HF_B1_S0_p_coumaric_ts', method='HF', basis='6-31G*', opt='ts, calcfc, noeigen', freq='freq', nosymmetry='nosymmetry'))\n",
      "s0_ts.calc.set_job(nodes=8, memory=8*1400, time=5, queue='pqmb', version='g09')"
     ],
     "language": "python",
     "metadata": {},
     "outputs": [],
     "prompt_number": "*"
    },
    {
     "cell_type": "code",
     "collapsed": false,
     "input": [
      "check_calcs([s0_ts, s1_ts, s1_ts_2])\n",
      "mols_to_html([s0_ts, s1_ts, s1_ts_2])"
     ],
     "language": "python",
     "metadata": {},
     "outputs": [],
     "prompt_number": "*"
    },
    {
     "cell_type": "heading",
     "level": 3,
     "metadata": {},
     "source": [
      "Compute IRCs from the s0/s1 transition states:"
     ]
    },
    {
     "cell_type": "code",
     "collapsed": false,
     "input": [
      "##this cell's calculations fail with the 'Maximum number of corrector steps exceded' error without taking many steps\n",
      "#s0_irc = copy.deepcopy(s0_ts)\n",
      "#s0_irc.calc.restart(label='HF_B1_HF_B1_S0_p_coumaric_irc',irc='(calcall, maxpoints=50)', freq='', opt='')\n",
      "#s0_irc.calc.ioplist = ['1/7=1']\n",
      "#s0_irc.calc.set_job(nodes=16, memory=16*1500, time=12,queue='pqmb', version='g09')\n",
      "\n",
      "#s1_irc = copy.deepcopy(s1_ts)\n",
      "#s1_irc.calc.restart(label='CIS_B1_CIS_B1_S1_p_coumaric_irc',irc='(calcall, maxpoints=50)', freq='', opt='')\n",
      "#s1_irc.calc.ioplist = ['1/7=1']\n",
      "#s1_irc.calc.set_job(nodes=16, memory=16*1500, time=12,queue='pqmb', version='g09')\n",
      "\n",
      "#s1_irc_2 = copy.deepcopy(s1_ts_2)\n",
      "#s1_irc_2.calc.restart(label='CIS_B1_CIS_B1_S1_p_coumaric_irc_2',irc='(calcall, maxpoints=50)', freq='', opt='')\n",
      "#s1_irc_2.calc.ioplist = ['1/7=1']\n",
      "#s1_irc_2.calc.set_job(nodes=16, memory=16*1500, time=12,queue='pqmb', version='g09')"
     ],
     "language": "python",
     "metadata": {},
     "outputs": [],
     "prompt_number": "*"
    },
    {
     "cell_type": "code",
     "collapsed": false,
     "input": [
      "##this cell's calculations fail with 'GS2 Optimization Failure', examining the log files reveals that the maximum displacement is does not converge past 0.00002 when it needs to reach 0.000006\n",
      "#s0_irc = copy.deepcopy(s0_ts)\n",
      "#s0_irc.calc.restart(label='HF_B1_HF_B1_S0_p_coumaric_irc',irc='(gs2, calcall, maxpoints=50)', freq='', opt='')\n",
      "#s0_irc.calc.ioplist = ['1/7=1']\n",
      "#s0_irc.calc.set_job(nodes=16, memory=16*1500, time=12,queue='pqmb', version='g09')\n",
      "\n",
      "#s1_irc = copy.deepcopy(s1_ts)\n",
      "#s1_irc.calc.restart(label='CIS_B1_CIS_B1_S1_p_coumaric_irc',irc='(gs2, calcall, maxpoints=50)', freq='', opt='')\n",
      "#s1_irc.calc.ioplist = ['1/7=1']\n",
      "#s1_irc.calc.set_job(nodes=16, memory=16*1500, time=12,queue='pqmb', version='g09')\n",
      "\n",
      "#s1_irc_2 = copy.deepcopy(s1_ts_2)\n",
      "#s1_irc_2.calc.restart(label='CIS_B1_CIS_B1_S1_p_coumaric_irc_2',irc='(gs2, calcall, maxpoints=50)', freq='', opt='')\n",
      "#s1_irc_2.calc.ioplist = ['1/7=1']\n",
      "#s1_irc_2.calc.set_job(nodes=16, memory=16*1500, time=12,queue='pqmb', version='g09')"
     ],
     "language": "python",
     "metadata": {},
     "outputs": [],
     "prompt_number": "*"
    },
    {
     "cell_type": "code",
     "collapsed": false,
     "input": [
      "#as above\n",
      "#s0_irc = copy.deepcopy(s0_ts)\n",
      "#s0_irc.calc.restart(label='HF_B1_HF_B1_S0_p_coumaric_irc',irc='(gs2, calcfc, stepsize=3, maxpoints=50)', freq='', opt='')\n",
      "#s0_irc.calc.ioplist = ['1/7=1']\n",
      "#s0_irc.calc.set_job(nodes=16, memory=16*1500, time=12,queue='pqmb', version='g09')\n",
      "\n",
      "#s1_irc = copy.deepcopy(s1_ts)\n",
      "#s1_irc.calc.restart(label='CIS_B1_CIS_B1_S1_p_coumaric_irc',irc='(gs2, calcfc, stepsize=3, maxpoints=50)', freq='', opt='')\n",
      "#s1_irc.calc.ioplist = ['1/7=1']\n",
      "#s1_irc.calc.set_job(nodes=16, memory=16*1500, time=12,queue='pqmb', version='g09')\n",
      "\n",
      "#s1_irc_2 = copy.deepcopy(s1_ts_2)\n",
      "#s1_irc_2.calc.restart(label='CIS_B1_CIS_B1_S1_p_coumaric_irc_2',irc='(gs2, calcfc, stepsize=3, maxpoints=50)', freq='', opt='')\n",
      "#s1_irc_2.calc.ioplist = ['1/7=1']\n",
      "#s1_irc_2.calc.set_job(nodes=16, memory=16*1500, time=12,queue='pqmb', version='g09')"
     ],
     "language": "python",
     "metadata": {},
     "outputs": [],
     "prompt_number": "*"
    },
    {
     "cell_type": "code",
     "collapsed": false,
     "input": [
      "#as above But the IOP is setting the convergence to hypertight - because projected frequencies are supposed to need this (see Hrants proj. freq. paper)\n",
      "#s0_irc = copy.deepcopy(s0_ts)\n",
      "#s0_irc.calc.restart(label='HF_B1_HF_B1_S0_p_coumaric_irc_attempt_3',irc='(gs2, calcfc, stepsize=-1, maxpoints=50)', freq='', opt='')\n",
      "#s0_irc.calc.ioplist = ['1/7=1']\n",
      "#s0_irc.calc.set_job(nodes=16, memory=16*1500, time=12,queue='pqmb', version='g09')\n",
      "\n",
      "#s1_irc = copy.deepcopy(s1_ts)\n",
      "#s1_irc.calc.restart(label='CIS_B1_CIS_B1_S1_p_coumaric_irc_attempt_3',irc='(gs2, calcfc, stepsize=-1, maxpoints=50)', freq='', opt='')\n",
      "#s1_irc.calc.ioplist = ['1/7=1']\n",
      "#s1_irc.calc.set_job(nodes=16, memory=16*1500, time=12,queue='pqmb', version='g09')\n",
      "\n",
      "#s1_irc_2 = copy.deepcopy(s1_ts_2)\n",
      "#s1_irc_2.calc.restart(label='CIS_B1_CIS_B1_S1_p_coumaric_irc_2_attempt_3',irc='(gs2, calcfc, stepsize=-1, maxpoints=50)', freq='', opt='')\n",
      "#s1_irc_2.calc.ioplist = ['1/7=1']\n",
      "#s1_irc_2.calc.set_job(nodes=16, memory=16*1500, time=12,queue='pqmb', version='g09')"
     ],
     "language": "python",
     "metadata": {},
     "outputs": [],
     "prompt_number": "*"
    },
    {
     "cell_type": "code",
     "collapsed": false,
     "input": [
      "#converges too quickly now! Finds minimum where this none!\n",
      "#s0_irc = copy.deepcopy(s0_ts)\n",
      "#s0_irc.calc.restart(label='HF_B1_HF_B1_S0_p_coumaric_irc_attempt_4',irc='(calcfc, stepsize=3, maxpoints=50)', freq='', opt='')\n",
      "#s0_irc.calc.set_job(nodes=16, memory=16*1500, time=12,queue='pqmb', version='g09')\n",
      "\n",
      "#s1_irc = copy.deepcopy(s1_ts)\n",
      "#s1_irc.calc.restart(label='CIS_B1_CIS_B1_S1_p_coumaric_irc_attempt_4',irc='(calcfc, stepsize=3, maxpoints=50)', freq='', opt='')\n",
      "#s1_irc.calc.set_job(nodes=16, memory=16*1500, time=12,queue='pqmb', version='g09')\n",
      "\n",
      "#s1_irc_2 = copy.deepcopy(s1_ts_2)\n",
      "#s1_irc_2.calc.restart(label='CIS_B1_CIS_B1_S1_p_coumaric_irc_2_attempt_4',irc='(calcfc, stepsize=3, maxpoints=50)', freq='', opt='')\n",
      "#s1_irc_2.calc.set_job(nodes=16, memory=16*1500, time=12,queue='pqmb', version='g09')"
     ],
     "language": "python",
     "metadata": {},
     "outputs": [],
     "prompt_number": "*"
    },
    {
     "cell_type": "code",
     "collapsed": false,
     "input": [
      "#s0_irc and s1_irc_2 fails with max no. corrected steps exceeded s1_irc converges immediately finding a fictitious minimum\n",
      "#s0_irc = copy.deepcopy(s0_ts)\n",
      "#s0_irc.calc.restart(label='HF_B1_HF_B1_S0_p_coumaric_irc_attempt_0',irc='(calcfc)', freq='', opt='')\n",
      "#s0_irc.calc.set_job(nodes=16, memory=16*1500, time=12,queue='pqmb', version='g09')\n",
      "\n",
      "#s1_irc = copy.deepcopy(s1_ts)\n",
      "#s1_irc.calc.restart(label='CIS_B1_CIS_B1_S1_p_coumaric_irc_attempt_0',irc='(calcfc)', freq='', opt='')\n",
      "#s1_irc.calc.set_job(nodes=16, memory=16*1500, time=12,queue='pqmb', version='g09')\n",
      "\n",
      "#s1_irc_2 = copy.deepcopy(s1_ts_2)\n",
      "#s1_irc_2.calc.restart(label='CIS_B1_CIS_B1_S1_p_coumaric_irc_2_attempt_0',irc='(calcfc)', freq='', opt='')\n",
      "#s1_irc_2.calc.set_job(nodes=16, memory=16*1500, time=12,queue='pqmb', version='g09')"
     ],
     "language": "python",
     "metadata": {},
     "outputs": [],
     "prompt_number": "*"
    },
    {
     "cell_type": "code",
     "collapsed": false,
     "input": [
      "##converges immediately to fictitious minimum\n",
      "#s1_irc = copy.deepcopy(s1_ts)\n",
      "#s1_irc.calc.restart(label='CIS_B1_CIS_B1_S1_p_coumaric_irc_attempt_5', irc='(rcfc, stepsize=9, maxpoints=100)', scf='qc', freq='', opt='')\n",
      "#s1_irc.calc.set_job(nodes=16, memory=16*1500, time=10,queue='pqmb', version='g09')  \n",
      "#check_calcs([s1_irc])\n",
      "#mols_to_html([s1_irc])"
     ],
     "language": "python",
     "metadata": {},
     "outputs": [],
     "prompt_number": "*"
    },
    {
     "cell_type": "heading",
     "level": 2,
     "metadata": {},
     "source": [
      "Sidestep: IRC attempt 2 - brute force variation of IRC parameters using an STO-3G basis:"
     ]
    },
    {
     "cell_type": "code",
     "collapsed": false,
     "input": [
      "cd brute_irc/"
     ],
     "language": "python",
     "metadata": {},
     "outputs": [],
     "prompt_number": "*"
    },
    {
     "cell_type": "code",
     "collapsed": false,
     "input": [
      "#generate initial transition state structures\n",
      "s0_sto_ts = copy.deepcopy(s0_ts)\n",
      "s0_sto_ts.calc.restart(label='HF_B0_HF_B0_S0_p_coumaric_ts', basis='STO-3G', opt='rcfc, ts, noeigen')\n",
      "s1_sto_ts = copy.deepcopy(s1_ts)\n",
      "s1_sto_ts.calc.restart(label='CIS_B0_CIS_B0_S1_p_coumaric_ts', basis='STO-3G', opt='rcfc, ts, noeigen')\n",
      "s1_sto_ts2 = copy.deepcopy(s1_ts_2)\n",
      "s1_sto_ts2.calc.restart(label='CIS_B0_CIS_B0_S1_p_coumaric_ts2', basis='STO-3G', opt='rcfc, ts, noeigen')"
     ],
     "language": "python",
     "metadata": {},
     "outputs": [
      {
       "output_type": "pyout",
       "prompt_number": 17,
       "text": [
        "<ase.calculators.gaussian.Gaussian instance at 0x568cef0>"
       ]
      }
     ],
     "prompt_number": "*"
    },
    {
     "cell_type": "code",
     "collapsed": false,
     "input": [
      "#[c.calc.start() for c in [s0_sto_ts, s1_sto_ts, s1_sto_ts2]]\n",
      "check_calcs([s0_sto_ts, s1_sto_ts, s1_sto_ts2])\n",
      "mols_to_html([s0_sto_ts, s1_sto_ts, s1_sto_ts2], data_func=lambda m:m.calc.max_data['vibfreqs'][0])"
     ],
     "language": "python",
     "metadata": {},
     "outputs": [
      {
       "html": [
        "\n",
        "           <script type=\"text/javascript\">\n",
        "           function view_function (event, file_n) {\n",
        "               if (event.ctrlKey && event.shiftKey){\n",
        "                   IPython.notebook.kernel.execute(\"cc_notebook_utils.pygview('\" + file_n + \".log')\");\n",
        "               }\n",
        "               else if (event.ctrlKey){\n",
        "                   IPython.notebook.kernel.execute(\"cc_notebook_utils.pygausssum('\" + file_n + \".log')\");\n",
        "               }\n",
        "               else if (event.shiftKey){\n",
        "                   IPython.notebook.kernel.execute(\"cc_notebook_utils.pyvogadro('\" + file_n + \".log')\");\n",
        "               }\n",
        "               else {\n",
        "                   IPython.notebook.kernel.execute(\"cc_notebook_utils.pyvim('\" + file_n + \".log')\");\n",
        "                   IPython.notebook.kernel.execute(\"print(file_n)\");\n",
        "               }\n",
        "           }\n",
        "           </script>\n",
        "    <style>\n",
        "    table\n",
        "    {\n",
        "        border-collapse:collapse;\n",
        "    }\n",
        "    td\n",
        "    {\n",
        "        padding:15px;\n",
        "    }\n",
        "    </style>\n",
        "    <body>\n",
        "    <table bgcolor=\"white\">\n",
        "    <col/><tr><td>HF_B0_HF_B0_S0_p_coumaric_ts</td><td><a href = \"files/p_coumaric/v4/brute_irc/HF_B0_HF_B0_S0_p_coumaric_ts.com\" target = \"_blank\">com</a></td><td><input type=\"button\" value=\"Smart Log\" id=\"HF_B0_HF_B0_S0_p_coumaric_ts\" onclick=\"view_function(event, this.id)\" /></td><td>Success</td><td>-94.337</td></tr><tr><td>CIS_B0_CIS_B0_S1_p_coumaric_ts</td><td><a href = \"files/p_coumaric/v4/brute_irc/CIS_B0_CIS_B0_S1_p_coumaric_ts.com\" target = \"_blank\">com</a></td><td><input type=\"button\" value=\"Smart Log\" id=\"CIS_B0_CIS_B0_S1_p_coumaric_ts\" onclick=\"view_function(event, this.id)\" /></td><td>Success</td><td>-575.1825</td></tr><tr><td>CIS_B0_CIS_B0_S1_p_coumaric_ts2</td><td><a href = \"files/p_coumaric/v4/brute_irc/CIS_B0_CIS_B0_S1_p_coumaric_ts2.com\" target = \"_blank\">com</a></td><td><input type=\"button\" value=\"Smart Log\" id=\"CIS_B0_CIS_B0_S1_p_coumaric_ts2\" onclick=\"view_function(event, this.id)\" /></td><td>Success</td><td>-227.3513</td></tr>\n",
        "    </table>\n",
        "    </body>"
       ],
       "output_type": "pyout",
       "prompt_number": 18,
       "text": [
        "<IPython.core.display.HTML at 0x4b836d0>"
       ]
      }
     ],
     "prompt_number": "*"
    },
    {
     "cell_type": "code",
     "collapsed": false,
     "input": [
      "#Brute force time\n",
      "s0_ircs,s1_ircs,s1_irc_2s = [],[],[]\n",
      "\n",
      "ind=0\n",
      "for meth in ['hpc', 'gs2']:\n",
      "    for tol in ['', ', tight', ', vtight']:\n",
      "        for ssize in range(1,11):\n",
      "            irc_str = '(' + '{m}, rcfc, stepsize={i}, maxpoints={p}'.format(i=ssize,p=100/ssize,m=meth ) + tol + ')'\n",
      "        \n",
      "            s0_irc = copy.deepcopy(s0_sto_ts) \n",
      "            s0_irc_label_str = 'HF_B0_HF_B0_S0_p_coumaric_irc_brute_attempt_{i}'.format(i=ind)\n",
      "            s0_irc.calc.restart(label=s0_irc_label_str, irc=irc_str, freq='', opt='')\n",
      "            s0_irc.calc.set_job(nodes=8, memory=8*1500, time=10,queue='pqmb', version='g09')\n",
      "            s0_ircs.append(s0_irc)\n",
      "            \n",
      "            s1_irc = copy.deepcopy(s1_sto_ts)\n",
      "            s1_irc_label_str = 'CIS_B0_CIS_B0_S1_p_coumaric_irc_brute_attempt_{i}'.format(i=ind)\n",
      "            s1_irc.calc.restart(label=s1_irc_label_str, irc=irc_str, freq='', opt='')\n",
      "            s1_irc.calc.set_job(nodes=8, memory=8*1500, time=10,queue='pqmb', version='g09')\n",
      "            s1_ircs.append(s1_irc)\n",
      "            \n",
      "            s1_irc_2 = copy.deepcopy(s1_sto_ts2)\n",
      "            s1_irc_2_label_str = 'CIS_B0_CIS_B0_S1_p_coumaric_irc_2_brute_attempt_{i}'.format(i=ind)\n",
      "            s1_irc_2.calc.restart(label=s1_irc_2_label_str, irc=irc_str, freq='', opt='')\n",
      "            s1_irc_2.calc.set_job(nodes=8, memory=8*1500, time=10,queue='pqmb', version='g09')\n",
      "            s1_irc_2s.append(s1_irc_2)\n",
      "            \n",
      "            ind+=1"
     ],
     "language": "python",
     "metadata": {},
     "outputs": [],
     "prompt_number": "*"
    },
    {
     "cell_type": "code",
     "collapsed": false,
     "input": [
      "#additional s0_irc calcs\n",
      "s0_irc = copy.deepcopy(s0_sto_ts) \n",
      "s0_irc_label_str = 'HF_B0_HF_B0_S0_p_coumaric_irc_brute_attempt_60'.format(i=ind)\n",
      "s0_irc.calc.restart(label=s0_irc_label_str, irc='(hpc, calcall, stepsize=5, maxpoints=300)', freq='', opt='')\n",
      "s0_irc.calc.ioplist = ['1/7=1']\n",
      "s0_irc.calc.set_job(nodes=8, memory=8*1500, time=10,queue='pqmb', version='g09')\n",
      "s0_ircs.append(s0_irc)\n",
      "\n",
      "s0_irc = copy.deepcopy(s0_sto_ts) \n",
      "s0_irc_label_str = 'HF_B0_HF_B0_S0_p_coumaric_irc_brute_attempt_61'.format(i=ind)\n",
      "s0_irc.calc.restart(label=s0_irc_label_str, irc='(gs2, calcall, stepsize=5, maxpoints=300)', freq='', opt='')\n",
      "s0_irc.calc.ioplist = ['1/7=1']\n",
      "s0_irc.calc.set_job(nodes=8, memory=8*1500, time=10,queue='pqmb', version='g09')\n",
      "s0_ircs.append(s0_irc)"
     ],
     "language": "python",
     "metadata": {},
     "outputs": [],
     "prompt_number": "*"
    },
    {
     "cell_type": "code",
     "collapsed": false,
     "input": [
      "#[m.calc.start() for m in s0_ircs + s1_ircs + s1_irc_2s]\n",
      "#check_calcs(s0_ircs + s1_ircs + s1_irc_2s, depth='heavy')\n",
      "#mols_to_html(s0_ircs + s1_ircs + s1_irc_2s)"
     ],
     "language": "python",
     "metadata": {},
     "outputs": [],
     "prompt_number": "*"
    },
    {
     "cell_type": "code",
     "collapsed": false,
     "input": [
      "#all s0_ircs fail, some s1_irc and s1_irc2s succeed.\n",
      "mols_to_html(s0_ircs+s1_ircs + s1_irc_2s,data_func=lambda m:(m.calc.route_str_params['irc'],m.calc.max_data['walltime']))"
     ],
     "language": "python",
     "metadata": {},
     "outputs": [
      {
       "html": [
        "\n",
        "           <script type=\"text/javascript\">\n",
        "           function view_function (event, file_n) {\n",
        "               if (event.ctrlKey && event.shiftKey){\n",
        "                   IPython.notebook.kernel.execute(\"cc_notebook_utils.pygview('\" + file_n + \".log')\");\n",
        "               }\n",
        "               else if (event.ctrlKey){\n",
        "                   IPython.notebook.kernel.execute(\"cc_notebook_utils.pygausssum('\" + file_n + \".log')\");\n",
        "               }\n",
        "               else if (event.shiftKey){\n",
        "                   IPython.notebook.kernel.execute(\"cc_notebook_utils.pyvogadro('\" + file_n + \".log')\");\n",
        "               }\n",
        "               else {\n",
        "                   IPython.notebook.kernel.execute(\"cc_notebook_utils.pyvim('\" + file_n + \".log')\");\n",
        "                   IPython.notebook.kernel.execute(\"print(file_n)\");\n",
        "               }\n",
        "           }\n",
        "           </script>\n",
        "    <style>\n",
        "    table\n",
        "    {\n",
        "        border-collapse:collapse;\n",
        "    }\n",
        "    td\n",
        "    {\n",
        "        padding:15px;\n",
        "    }\n",
        "    </style>\n",
        "    <body>\n",
        "    <table bgcolor=\"white\">\n",
        "    <col/><tr><td>HF_B0_HF_B0_S0_p_coumaric_irc_brute_attempt_0</td><td><a href = \"files/p_coumaric/v4/brute_irc/HF_B0_HF_B0_S0_p_coumaric_irc_brute_attempt_0.com\" target = \"_blank\">com</a></td><td><input type=\"button\" value=\"Smart Log\" id=\"HF_B0_HF_B0_S0_p_coumaric_irc_brute_attempt_0\" onclick=\"view_function(event, this.id)\" /></td><td>Success</td><td>('(hpc, rcfc, stepsize=1, maxpoints=100)', 0.008472222222222223)</td></tr><tr><td>HF_B0_HF_B0_S0_p_coumaric_irc_brute_attempt_1</td><td><a href = \"files/p_coumaric/v4/brute_irc/HF_B0_HF_B0_S0_p_coumaric_irc_brute_attempt_1.com\" target = \"_blank\">com</a></td><td><input type=\"button\" value=\"Smart Log\" id=\"HF_B0_HF_B0_S0_p_coumaric_irc_brute_attempt_1\" onclick=\"view_function(event, this.id)\" /></td><td>Error: Maximum number of corrector steps exceded.</td><td>('(hpc, rcfc, stepsize=2, maxpoints=50)', 0.052138888888888894)</td></tr><tr><td>HF_B0_HF_B0_S0_p_coumaric_irc_brute_attempt_2</td><td><a href = \"files/p_coumaric/v4/brute_irc/HF_B0_HF_B0_S0_p_coumaric_irc_brute_attempt_2.com\" target = \"_blank\">com</a></td><td><input type=\"button\" value=\"Smart Log\" id=\"HF_B0_HF_B0_S0_p_coumaric_irc_brute_attempt_2\" onclick=\"view_function(event, this.id)\" /></td><td>Error: Maximum number of corrector steps exceded.</td><td>('(hpc, rcfc, stepsize=3, maxpoints=33)', 0.053750000000000006)</td></tr><tr><td>HF_B0_HF_B0_S0_p_coumaric_irc_brute_attempt_3</td><td><a href = \"files/p_coumaric/v4/brute_irc/HF_B0_HF_B0_S0_p_coumaric_irc_brute_attempt_3.com\" target = \"_blank\">com</a></td><td><input type=\"button\" value=\"Smart Log\" id=\"HF_B0_HF_B0_S0_p_coumaric_irc_brute_attempt_3\" onclick=\"view_function(event, this.id)\" /></td><td>Error: Maximum number of corrector steps exceded.</td><td>('(hpc, rcfc, stepsize=4, maxpoints=25)', 0.051388888888888894)</td></tr><tr><td>HF_B0_HF_B0_S0_p_coumaric_irc_brute_attempt_4</td><td><a href = \"files/p_coumaric/v4/brute_irc/HF_B0_HF_B0_S0_p_coumaric_irc_brute_attempt_4.com\" target = \"_blank\">com</a></td><td><input type=\"button\" value=\"Smart Log\" id=\"HF_B0_HF_B0_S0_p_coumaric_irc_brute_attempt_4\" onclick=\"view_function(event, this.id)\" /></td><td>Error: Maximum number of corrector steps exceded.</td><td>('(hpc, rcfc, stepsize=5, maxpoints=20)', 0.05277777777777778)</td></tr><tr><td>HF_B0_HF_B0_S0_p_coumaric_irc_brute_attempt_5</td><td><a href = \"files/p_coumaric/v4/brute_irc/HF_B0_HF_B0_S0_p_coumaric_irc_brute_attempt_5.com\" target = \"_blank\">com</a></td><td><input type=\"button\" value=\"Smart Log\" id=\"HF_B0_HF_B0_S0_p_coumaric_irc_brute_attempt_5\" onclick=\"view_function(event, this.id)\" /></td><td>Error: Maximum number of corrector steps exceded.</td><td>('(hpc, rcfc, stepsize=6, maxpoints=16)', 0.05116666666666667)</td></tr><tr><td>HF_B0_HF_B0_S0_p_coumaric_irc_brute_attempt_6</td><td><a href = \"files/p_coumaric/v4/brute_irc/HF_B0_HF_B0_S0_p_coumaric_irc_brute_attempt_6.com\" target = \"_blank\">com</a></td><td><input type=\"button\" value=\"Smart Log\" id=\"HF_B0_HF_B0_S0_p_coumaric_irc_brute_attempt_6\" onclick=\"view_function(event, this.id)\" /></td><td>Error: Maximum number of corrector steps exceded.</td><td>('(hpc, rcfc, stepsize=7, maxpoints=14)', 0.05733333333333333)</td></tr><tr><td>HF_B0_HF_B0_S0_p_coumaric_irc_brute_attempt_7</td><td><a href = \"files/p_coumaric/v4/brute_irc/HF_B0_HF_B0_S0_p_coumaric_irc_brute_attempt_7.com\" target = \"_blank\">com</a></td><td><input type=\"button\" value=\"Smart Log\" id=\"HF_B0_HF_B0_S0_p_coumaric_irc_brute_attempt_7\" onclick=\"view_function(event, this.id)\" /></td><td>Error: Maximum number of corrector steps exceded.</td><td>('(hpc, rcfc, stepsize=8, maxpoints=12)', 0.051305555555555556)</td></tr><tr><td>HF_B0_HF_B0_S0_p_coumaric_irc_brute_attempt_8</td><td><a href = \"files/p_coumaric/v4/brute_irc/HF_B0_HF_B0_S0_p_coumaric_irc_brute_attempt_8.com\" target = \"_blank\">com</a></td><td><input type=\"button\" value=\"Smart Log\" id=\"HF_B0_HF_B0_S0_p_coumaric_irc_brute_attempt_8\" onclick=\"view_function(event, this.id)\" /></td><td>Error: Maximum number of corrector steps exceded.</td><td>('(hpc, rcfc, stepsize=9, maxpoints=11)', 0.056)</td></tr><tr><td>HF_B0_HF_B0_S0_p_coumaric_irc_brute_attempt_9</td><td><a href = \"files/p_coumaric/v4/brute_irc/HF_B0_HF_B0_S0_p_coumaric_irc_brute_attempt_9.com\" target = \"_blank\">com</a></td><td><input type=\"button\" value=\"Smart Log\" id=\"HF_B0_HF_B0_S0_p_coumaric_irc_brute_attempt_9\" onclick=\"view_function(event, this.id)\" /></td><td>Error: Maximum number of corrector steps exceded.</td><td>('(hpc, rcfc, stepsize=10, maxpoints=10)', 0.051777777777777784)</td></tr><tr><td>HF_B0_HF_B0_S0_p_coumaric_irc_brute_attempt_10</td><td><a href = \"files/p_coumaric/v4/brute_irc/HF_B0_HF_B0_S0_p_coumaric_irc_brute_attempt_10.com\" target = \"_blank\">com</a></td><td><input type=\"button\" value=\"Smart Log\" id=\"HF_B0_HF_B0_S0_p_coumaric_irc_brute_attempt_10\" onclick=\"view_function(event, this.id)\" /></td><td>Success</td><td>('(hpc, rcfc, stepsize=1, maxpoints=100, tight)', 0.014027777777777778)</td></tr><tr><td>HF_B0_HF_B0_S0_p_coumaric_irc_brute_attempt_11</td><td><a href = \"files/p_coumaric/v4/brute_irc/HF_B0_HF_B0_S0_p_coumaric_irc_brute_attempt_11.com\" target = \"_blank\">com</a></td><td><input type=\"button\" value=\"Smart Log\" id=\"HF_B0_HF_B0_S0_p_coumaric_irc_brute_attempt_11\" onclick=\"view_function(event, this.id)\" /></td><td>Error: Maximum number of corrector steps exceded.</td><td>('(hpc, rcfc, stepsize=2, maxpoints=50, tight)', 0.05663888888888889)</td></tr><tr><td>HF_B0_HF_B0_S0_p_coumaric_irc_brute_attempt_12</td><td><a href = \"files/p_coumaric/v4/brute_irc/HF_B0_HF_B0_S0_p_coumaric_irc_brute_attempt_12.com\" target = \"_blank\">com</a></td><td><input type=\"button\" value=\"Smart Log\" id=\"HF_B0_HF_B0_S0_p_coumaric_irc_brute_attempt_12\" onclick=\"view_function(event, this.id)\" /></td><td>Error: Maximum number of corrector steps exceded.</td><td>('(hpc, rcfc, stepsize=3, maxpoints=33, tight)', 0.05152777777777778)</td></tr><tr><td>HF_B0_HF_B0_S0_p_coumaric_irc_brute_attempt_13</td><td><a href = \"files/p_coumaric/v4/brute_irc/HF_B0_HF_B0_S0_p_coumaric_irc_brute_attempt_13.com\" target = \"_blank\">com</a></td><td><input type=\"button\" value=\"Smart Log\" id=\"HF_B0_HF_B0_S0_p_coumaric_irc_brute_attempt_13\" onclick=\"view_function(event, this.id)\" /></td><td>Error: Maximum number of corrector steps exceded.</td><td>('(hpc, rcfc, stepsize=4, maxpoints=25, tight)', 0.05705555555555556)</td></tr><tr><td>HF_B0_HF_B0_S0_p_coumaric_irc_brute_attempt_14</td><td><a href = \"files/p_coumaric/v4/brute_irc/HF_B0_HF_B0_S0_p_coumaric_irc_brute_attempt_14.com\" target = \"_blank\">com</a></td><td><input type=\"button\" value=\"Smart Log\" id=\"HF_B0_HF_B0_S0_p_coumaric_irc_brute_attempt_14\" onclick=\"view_function(event, this.id)\" /></td><td>Error: Maximum number of corrector steps exceded.</td><td>('(hpc, rcfc, stepsize=5, maxpoints=20, tight)', 0.051833333333333335)</td></tr><tr><td>HF_B0_HF_B0_S0_p_coumaric_irc_brute_attempt_15</td><td><a href = \"files/p_coumaric/v4/brute_irc/HF_B0_HF_B0_S0_p_coumaric_irc_brute_attempt_15.com\" target = \"_blank\">com</a></td><td><input type=\"button\" value=\"Smart Log\" id=\"HF_B0_HF_B0_S0_p_coumaric_irc_brute_attempt_15\" onclick=\"view_function(event, this.id)\" /></td><td>Error: Maximum number of corrector steps exceded.</td><td>('(hpc, rcfc, stepsize=6, maxpoints=16, tight)', 0.05502777777777778)</td></tr><tr><td>HF_B0_HF_B0_S0_p_coumaric_irc_brute_attempt_16</td><td><a href = \"files/p_coumaric/v4/brute_irc/HF_B0_HF_B0_S0_p_coumaric_irc_brute_attempt_16.com\" target = \"_blank\">com</a></td><td><input type=\"button\" value=\"Smart Log\" id=\"HF_B0_HF_B0_S0_p_coumaric_irc_brute_attempt_16\" onclick=\"view_function(event, this.id)\" /></td><td>Error: Maximum number of corrector steps exceded.</td><td>('(hpc, rcfc, stepsize=7, maxpoints=14, tight)', 0.051805555555555556)</td></tr><tr><td>HF_B0_HF_B0_S0_p_coumaric_irc_brute_attempt_17</td><td><a href = \"files/p_coumaric/v4/brute_irc/HF_B0_HF_B0_S0_p_coumaric_irc_brute_attempt_17.com\" target = \"_blank\">com</a></td><td><input type=\"button\" value=\"Smart Log\" id=\"HF_B0_HF_B0_S0_p_coumaric_irc_brute_attempt_17\" onclick=\"view_function(event, this.id)\" /></td><td>Error: Maximum number of corrector steps exceded.</td><td>('(hpc, rcfc, stepsize=8, maxpoints=12, tight)', 0.05530555555555556)</td></tr><tr><td>HF_B0_HF_B0_S0_p_coumaric_irc_brute_attempt_18</td><td><a href = \"files/p_coumaric/v4/brute_irc/HF_B0_HF_B0_S0_p_coumaric_irc_brute_attempt_18.com\" target = \"_blank\">com</a></td><td><input type=\"button\" value=\"Smart Log\" id=\"HF_B0_HF_B0_S0_p_coumaric_irc_brute_attempt_18\" onclick=\"view_function(event, this.id)\" /></td><td>Error: Maximum number of corrector steps exceded.</td><td>('(hpc, rcfc, stepsize=9, maxpoints=11, tight)', 0.052083333333333336)</td></tr><tr><td>HF_B0_HF_B0_S0_p_coumaric_irc_brute_attempt_19</td><td><a href = \"files/p_coumaric/v4/brute_irc/HF_B0_HF_B0_S0_p_coumaric_irc_brute_attempt_19.com\" target = \"_blank\">com</a></td><td><input type=\"button\" value=\"Smart Log\" id=\"HF_B0_HF_B0_S0_p_coumaric_irc_brute_attempt_19\" onclick=\"view_function(event, this.id)\" /></td><td>Error: Maximum number of corrector steps exceded.</td><td>('(hpc, rcfc, stepsize=10, maxpoints=10, tight)', 0.05530555555555556)</td></tr><tr><td>HF_B0_HF_B0_S0_p_coumaric_irc_brute_attempt_20</td><td><a href = \"files/p_coumaric/v4/brute_irc/HF_B0_HF_B0_S0_p_coumaric_irc_brute_attempt_20.com\" target = \"_blank\">com</a></td><td><input type=\"button\" value=\"Smart Log\" id=\"HF_B0_HF_B0_S0_p_coumaric_irc_brute_attempt_20\" onclick=\"view_function(event, this.id)\" /></td><td>Success</td><td>('(hpc, rcfc, stepsize=1, maxpoints=100, vtight)', 0.023055555555555555)</td></tr><tr><td>HF_B0_HF_B0_S0_p_coumaric_irc_brute_attempt_21</td><td><a href = \"files/p_coumaric/v4/brute_irc/HF_B0_HF_B0_S0_p_coumaric_irc_brute_attempt_21.com\" target = \"_blank\">com</a></td><td><input type=\"button\" value=\"Smart Log\" id=\"HF_B0_HF_B0_S0_p_coumaric_irc_brute_attempt_21\" onclick=\"view_function(event, this.id)\" /></td><td>Error: Maximum number of corrector steps exceded.</td><td>('(hpc, rcfc, stepsize=2, maxpoints=50, vtight)', 0.051638888888888894)</td></tr><tr><td>HF_B0_HF_B0_S0_p_coumaric_irc_brute_attempt_22</td><td><a href = \"files/p_coumaric/v4/brute_irc/HF_B0_HF_B0_S0_p_coumaric_irc_brute_attempt_22.com\" target = \"_blank\">com</a></td><td><input type=\"button\" value=\"Smart Log\" id=\"HF_B0_HF_B0_S0_p_coumaric_irc_brute_attempt_22\" onclick=\"view_function(event, this.id)\" /></td><td>Error: Maximum number of corrector steps exceded.</td><td>('(hpc, rcfc, stepsize=3, maxpoints=33, vtight)', 0.05594444444444445)</td></tr><tr><td>HF_B0_HF_B0_S0_p_coumaric_irc_brute_attempt_23</td><td><a href = \"files/p_coumaric/v4/brute_irc/HF_B0_HF_B0_S0_p_coumaric_irc_brute_attempt_23.com\" target = \"_blank\">com</a></td><td><input type=\"button\" value=\"Smart Log\" id=\"HF_B0_HF_B0_S0_p_coumaric_irc_brute_attempt_23\" onclick=\"view_function(event, this.id)\" /></td><td>Error: Maximum number of corrector steps exceded.</td><td>('(hpc, rcfc, stepsize=4, maxpoints=25, vtight)', 0.050333333333333334)</td></tr><tr><td>HF_B0_HF_B0_S0_p_coumaric_irc_brute_attempt_24</td><td><a href = \"files/p_coumaric/v4/brute_irc/HF_B0_HF_B0_S0_p_coumaric_irc_brute_attempt_24.com\" target = \"_blank\">com</a></td><td><input type=\"button\" value=\"Smart Log\" id=\"HF_B0_HF_B0_S0_p_coumaric_irc_brute_attempt_24\" onclick=\"view_function(event, this.id)\" /></td><td>Error: Maximum number of corrector steps exceded.</td><td>('(hpc, rcfc, stepsize=5, maxpoints=20, vtight)', 0.05658333333333333)</td></tr><tr><td>HF_B0_HF_B0_S0_p_coumaric_irc_brute_attempt_25</td><td><a href = \"files/p_coumaric/v4/brute_irc/HF_B0_HF_B0_S0_p_coumaric_irc_brute_attempt_25.com\" target = \"_blank\">com</a></td><td><input type=\"button\" value=\"Smart Log\" id=\"HF_B0_HF_B0_S0_p_coumaric_irc_brute_attempt_25\" onclick=\"view_function(event, this.id)\" /></td><td>Error: Maximum number of corrector steps exceded.</td><td>('(hpc, rcfc, stepsize=6, maxpoints=16, vtight)', 0.05011111111111111)</td></tr><tr><td>HF_B0_HF_B0_S0_p_coumaric_irc_brute_attempt_26</td><td><a href = \"files/p_coumaric/v4/brute_irc/HF_B0_HF_B0_S0_p_coumaric_irc_brute_attempt_26.com\" target = \"_blank\">com</a></td><td><input type=\"button\" value=\"Smart Log\" id=\"HF_B0_HF_B0_S0_p_coumaric_irc_brute_attempt_26\" onclick=\"view_function(event, this.id)\" /></td><td>Error: Maximum number of corrector steps exceded.</td><td>('(hpc, rcfc, stepsize=7, maxpoints=14, vtight)', 0.05558333333333334)</td></tr><tr><td>HF_B0_HF_B0_S0_p_coumaric_irc_brute_attempt_27</td><td><a href = \"files/p_coumaric/v4/brute_irc/HF_B0_HF_B0_S0_p_coumaric_irc_brute_attempt_27.com\" target = \"_blank\">com</a></td><td><input type=\"button\" value=\"Smart Log\" id=\"HF_B0_HF_B0_S0_p_coumaric_irc_brute_attempt_27\" onclick=\"view_function(event, this.id)\" /></td><td>Error: Maximum number of corrector steps exceded.</td><td>('(hpc, rcfc, stepsize=8, maxpoints=12, vtight)', 0.0495)</td></tr><tr><td>HF_B0_HF_B0_S0_p_coumaric_irc_brute_attempt_28</td><td><a href = \"files/p_coumaric/v4/brute_irc/HF_B0_HF_B0_S0_p_coumaric_irc_brute_attempt_28.com\" target = \"_blank\">com</a></td><td><input type=\"button\" value=\"Smart Log\" id=\"HF_B0_HF_B0_S0_p_coumaric_irc_brute_attempt_28\" onclick=\"view_function(event, this.id)\" /></td><td>Error: Maximum number of corrector steps exceded.</td><td>('(hpc, rcfc, stepsize=9, maxpoints=11, vtight)', 0.05594444444444445)</td></tr><tr><td>HF_B0_HF_B0_S0_p_coumaric_irc_brute_attempt_29</td><td><a href = \"files/p_coumaric/v4/brute_irc/HF_B0_HF_B0_S0_p_coumaric_irc_brute_attempt_29.com\" target = \"_blank\">com</a></td><td><input type=\"button\" value=\"Smart Log\" id=\"HF_B0_HF_B0_S0_p_coumaric_irc_brute_attempt_29\" onclick=\"view_function(event, this.id)\" /></td><td>Error: Maximum number of corrector steps exceded.</td><td>('(hpc, rcfc, stepsize=10, maxpoints=10, vtight)', 0.05011111111111111)</td></tr><tr><td>HF_B0_HF_B0_S0_p_coumaric_irc_brute_attempt_30</td><td><a href = \"files/p_coumaric/v4/brute_irc/HF_B0_HF_B0_S0_p_coumaric_irc_brute_attempt_30.com\" target = \"_blank\">com</a></td><td><input type=\"button\" value=\"Smart Log\" id=\"HF_B0_HF_B0_S0_p_coumaric_irc_brute_attempt_30\" onclick=\"view_function(event, this.id)\" /></td><td>Success</td><td>('(gs2, rcfc, stepsize=1, maxpoints=100)', 0.009805555555555555)</td></tr><tr><td>HF_B0_HF_B0_S0_p_coumaric_irc_brute_attempt_31</td><td><a href = \"files/p_coumaric/v4/brute_irc/HF_B0_HF_B0_S0_p_coumaric_irc_brute_attempt_31.com\" target = \"_blank\">com</a></td><td><input type=\"button\" value=\"Smart Log\" id=\"HF_B0_HF_B0_S0_p_coumaric_irc_brute_attempt_31\" onclick=\"view_function(event, this.id)\" /></td><td>Success</td><td>('(gs2, rcfc, stepsize=2, maxpoints=50)', 0.008694444444444444)</td></tr><tr><td>HF_B0_HF_B0_S0_p_coumaric_irc_brute_attempt_32</td><td><a href = \"files/p_coumaric/v4/brute_irc/HF_B0_HF_B0_S0_p_coumaric_irc_brute_attempt_32.com\" target = \"_blank\">com</a></td><td><input type=\"button\" value=\"Smart Log\" id=\"HF_B0_HF_B0_S0_p_coumaric_irc_brute_attempt_32\" onclick=\"view_function(event, this.id)\" /></td><td>Success</td><td>('(gs2, rcfc, stepsize=3, maxpoints=33)', 0.010222222222222221)</td></tr><tr><td>HF_B0_HF_B0_S0_p_coumaric_irc_brute_attempt_33</td><td><a href = \"files/p_coumaric/v4/brute_irc/HF_B0_HF_B0_S0_p_coumaric_irc_brute_attempt_33.com\" target = \"_blank\">com</a></td><td><input type=\"button\" value=\"Smart Log\" id=\"HF_B0_HF_B0_S0_p_coumaric_irc_brute_attempt_33\" onclick=\"view_function(event, this.id)\" /></td><td>Success</td><td>('(gs2, rcfc, stepsize=4, maxpoints=25)', 0.008666666666666666)</td></tr><tr><td>HF_B0_HF_B0_S0_p_coumaric_irc_brute_attempt_34</td><td><a href = \"files/p_coumaric/v4/brute_irc/HF_B0_HF_B0_S0_p_coumaric_irc_brute_attempt_34.com\" target = \"_blank\">com</a></td><td><input type=\"button\" value=\"Smart Log\" id=\"HF_B0_HF_B0_S0_p_coumaric_irc_brute_attempt_34\" onclick=\"view_function(event, this.id)\" /></td><td>Success</td><td>('(gs2, rcfc, stepsize=5, maxpoints=20)', 0.008694444444444444)</td></tr><tr><td>HF_B0_HF_B0_S0_p_coumaric_irc_brute_attempt_35</td><td><a href = \"files/p_coumaric/v4/brute_irc/HF_B0_HF_B0_S0_p_coumaric_irc_brute_attempt_35.com\" target = \"_blank\">com</a></td><td><input type=\"button\" value=\"Smart Log\" id=\"HF_B0_HF_B0_S0_p_coumaric_irc_brute_attempt_35\" onclick=\"view_function(event, this.id)\" /></td><td>Success</td><td>('(gs2, rcfc, stepsize=6, maxpoints=16)', 0.009388888888888888)</td></tr><tr><td>HF_B0_HF_B0_S0_p_coumaric_irc_brute_attempt_36</td><td><a href = \"files/p_coumaric/v4/brute_irc/HF_B0_HF_B0_S0_p_coumaric_irc_brute_attempt_36.com\" target = \"_blank\">com</a></td><td><input type=\"button\" value=\"Smart Log\" id=\"HF_B0_HF_B0_S0_p_coumaric_irc_brute_attempt_36\" onclick=\"view_function(event, this.id)\" /></td><td>Success</td><td>('(gs2, rcfc, stepsize=7, maxpoints=14)', 0.008694444444444444)</td></tr><tr><td>HF_B0_HF_B0_S0_p_coumaric_irc_brute_attempt_37</td><td><a href = \"files/p_coumaric/v4/brute_irc/HF_B0_HF_B0_S0_p_coumaric_irc_brute_attempt_37.com\" target = \"_blank\">com</a></td><td><input type=\"button\" value=\"Smart Log\" id=\"HF_B0_HF_B0_S0_p_coumaric_irc_brute_attempt_37\" onclick=\"view_function(event, this.id)\" /></td><td>Success</td><td>('(gs2, rcfc, stepsize=8, maxpoints=12)', 0.009611111111111112)</td></tr><tr><td>HF_B0_HF_B0_S0_p_coumaric_irc_brute_attempt_38</td><td><a href = \"files/p_coumaric/v4/brute_irc/HF_B0_HF_B0_S0_p_coumaric_irc_brute_attempt_38.com\" target = \"_blank\">com</a></td><td><input type=\"button\" value=\"Smart Log\" id=\"HF_B0_HF_B0_S0_p_coumaric_irc_brute_attempt_38\" onclick=\"view_function(event, this.id)\" /></td><td>Success</td><td>('(gs2, rcfc, stepsize=9, maxpoints=11)', 0.00875)</td></tr><tr><td>HF_B0_HF_B0_S0_p_coumaric_irc_brute_attempt_39</td><td><a href = \"files/p_coumaric/v4/brute_irc/HF_B0_HF_B0_S0_p_coumaric_irc_brute_attempt_39.com\" target = \"_blank\">com</a></td><td><input type=\"button\" value=\"Smart Log\" id=\"HF_B0_HF_B0_S0_p_coumaric_irc_brute_attempt_39\" onclick=\"view_function(event, this.id)\" /></td><td>Success</td><td>('(gs2, rcfc, stepsize=10, maxpoints=10)', 0.009972222222222223)</td></tr><tr><td>HF_B0_HF_B0_S0_p_coumaric_irc_brute_attempt_40</td><td><a href = \"files/p_coumaric/v4/brute_irc/HF_B0_HF_B0_S0_p_coumaric_irc_brute_attempt_40.com\" target = \"_blank\">com</a></td><td><input type=\"button\" value=\"Smart Log\" id=\"HF_B0_HF_B0_S0_p_coumaric_irc_brute_attempt_40\" onclick=\"view_function(event, this.id)\" /></td><td>Success</td><td>('(gs2, rcfc, stepsize=1, maxpoints=100, tight)', 0.008694444444444444)</td></tr><tr><td>HF_B0_HF_B0_S0_p_coumaric_irc_brute_attempt_41</td><td><a href = \"files/p_coumaric/v4/brute_irc/HF_B0_HF_B0_S0_p_coumaric_irc_brute_attempt_41.com\" target = \"_blank\">com</a></td><td><input type=\"button\" value=\"Smart Log\" id=\"HF_B0_HF_B0_S0_p_coumaric_irc_brute_attempt_41\" onclick=\"view_function(event, this.id)\" /></td><td>Success</td><td>('(gs2, rcfc, stepsize=2, maxpoints=50, tight)', 0.010416666666666666)</td></tr><tr><td>HF_B0_HF_B0_S0_p_coumaric_irc_brute_attempt_42</td><td><a href = \"files/p_coumaric/v4/brute_irc/HF_B0_HF_B0_S0_p_coumaric_irc_brute_attempt_42.com\" target = \"_blank\">com</a></td><td><input type=\"button\" value=\"Smart Log\" id=\"HF_B0_HF_B0_S0_p_coumaric_irc_brute_attempt_42\" onclick=\"view_function(event, this.id)\" /></td><td>Success</td><td>('(gs2, rcfc, stepsize=3, maxpoints=33, tight)', 0.008777777777777778)</td></tr><tr><td>HF_B0_HF_B0_S0_p_coumaric_irc_brute_attempt_43</td><td><a href = \"files/p_coumaric/v4/brute_irc/HF_B0_HF_B0_S0_p_coumaric_irc_brute_attempt_43.com\" target = \"_blank\">com</a></td><td><input type=\"button\" value=\"Smart Log\" id=\"HF_B0_HF_B0_S0_p_coumaric_irc_brute_attempt_43\" onclick=\"view_function(event, this.id)\" /></td><td>Success</td><td>('(gs2, rcfc, stepsize=4, maxpoints=25, tight)', 0.009833333333333333)</td></tr><tr><td>HF_B0_HF_B0_S0_p_coumaric_irc_brute_attempt_44</td><td><a href = \"files/p_coumaric/v4/brute_irc/HF_B0_HF_B0_S0_p_coumaric_irc_brute_attempt_44.com\" target = \"_blank\">com</a></td><td><input type=\"button\" value=\"Smart Log\" id=\"HF_B0_HF_B0_S0_p_coumaric_irc_brute_attempt_44\" onclick=\"view_function(event, this.id)\" /></td><td>Success</td><td>('(gs2, rcfc, stepsize=5, maxpoints=20, tight)', 0.01275)</td></tr><tr><td>HF_B0_HF_B0_S0_p_coumaric_irc_brute_attempt_45</td><td><a href = \"files/p_coumaric/v4/brute_irc/HF_B0_HF_B0_S0_p_coumaric_irc_brute_attempt_45.com\" target = \"_blank\">com</a></td><td><input type=\"button\" value=\"Smart Log\" id=\"HF_B0_HF_B0_S0_p_coumaric_irc_brute_attempt_45\" onclick=\"view_function(event, this.id)\" /></td><td>Success</td><td>('(gs2, rcfc, stepsize=6, maxpoints=16, tight)', 0.014027777777777778)</td></tr><tr><td>HF_B0_HF_B0_S0_p_coumaric_irc_brute_attempt_46</td><td><a href = \"files/p_coumaric/v4/brute_irc/HF_B0_HF_B0_S0_p_coumaric_irc_brute_attempt_46.com\" target = \"_blank\">com</a></td><td><input type=\"button\" value=\"Smart Log\" id=\"HF_B0_HF_B0_S0_p_coumaric_irc_brute_attempt_46\" onclick=\"view_function(event, this.id)\" /></td><td>Success</td><td>('(gs2, rcfc, stepsize=7, maxpoints=14, tight)', 0.012722222222222222)</td></tr><tr><td>HF_B0_HF_B0_S0_p_coumaric_irc_brute_attempt_47</td><td><a href = \"files/p_coumaric/v4/brute_irc/HF_B0_HF_B0_S0_p_coumaric_irc_brute_attempt_47.com\" target = \"_blank\">com</a></td><td><input type=\"button\" value=\"Smart Log\" id=\"HF_B0_HF_B0_S0_p_coumaric_irc_brute_attempt_47\" onclick=\"view_function(event, this.id)\" /></td><td>Success</td><td>('(gs2, rcfc, stepsize=8, maxpoints=12, tight)', 0.014166666666666666)</td></tr><tr><td>HF_B0_HF_B0_S0_p_coumaric_irc_brute_attempt_48</td><td><a href = \"files/p_coumaric/v4/brute_irc/HF_B0_HF_B0_S0_p_coumaric_irc_brute_attempt_48.com\" target = \"_blank\">com</a></td><td><input type=\"button\" value=\"Smart Log\" id=\"HF_B0_HF_B0_S0_p_coumaric_irc_brute_attempt_48\" onclick=\"view_function(event, this.id)\" /></td><td>Success</td><td>('(gs2, rcfc, stepsize=9, maxpoints=11, tight)', 0.012666666666666666)</td></tr><tr><td>HF_B0_HF_B0_S0_p_coumaric_irc_brute_attempt_49</td><td><a href = \"files/p_coumaric/v4/brute_irc/HF_B0_HF_B0_S0_p_coumaric_irc_brute_attempt_49.com\" target = \"_blank\">com</a></td><td><input type=\"button\" value=\"Smart Log\" id=\"HF_B0_HF_B0_S0_p_coumaric_irc_brute_attempt_49\" onclick=\"view_function(event, this.id)\" /></td><td>Success</td><td>('(gs2, rcfc, stepsize=10, maxpoints=10, tight)', 0.014027777777777778)</td></tr><tr><td>HF_B0_HF_B0_S0_p_coumaric_irc_brute_attempt_50</td><td><a href = \"files/p_coumaric/v4/brute_irc/HF_B0_HF_B0_S0_p_coumaric_irc_brute_attempt_50.com\" target = \"_blank\">com</a></td><td><input type=\"button\" value=\"Smart Log\" id=\"HF_B0_HF_B0_S0_p_coumaric_irc_brute_attempt_50\" onclick=\"view_function(event, this.id)\" /></td><td>Success</td><td>('(gs2, rcfc, stepsize=1, maxpoints=100, vtight)', 0.00875)</td></tr><tr><td>HF_B0_HF_B0_S0_p_coumaric_irc_brute_attempt_51</td><td><a href = \"files/p_coumaric/v4/brute_irc/HF_B0_HF_B0_S0_p_coumaric_irc_brute_attempt_51.com\" target = \"_blank\">com</a></td><td><input type=\"button\" value=\"Smart Log\" id=\"HF_B0_HF_B0_S0_p_coumaric_irc_brute_attempt_51\" onclick=\"view_function(event, this.id)\" /></td><td>Success</td><td>('(gs2, rcfc, stepsize=2, maxpoints=50, vtight)', 0.008805555555555556)</td></tr><tr><td>HF_B0_HF_B0_S0_p_coumaric_irc_brute_attempt_52</td><td><a href = \"files/p_coumaric/v4/brute_irc/HF_B0_HF_B0_S0_p_coumaric_irc_brute_attempt_52.com\" target = \"_blank\">com</a></td><td><input type=\"button\" value=\"Smart Log\" id=\"HF_B0_HF_B0_S0_p_coumaric_irc_brute_attempt_52\" onclick=\"view_function(event, this.id)\" /></td><td>Success</td><td>('(gs2, rcfc, stepsize=3, maxpoints=33, vtight)', 0.017777777777777778)</td></tr><tr><td>HF_B0_HF_B0_S0_p_coumaric_irc_brute_attempt_53</td><td><a href = \"files/p_coumaric/v4/brute_irc/HF_B0_HF_B0_S0_p_coumaric_irc_brute_attempt_53.com\" target = \"_blank\">com</a></td><td><input type=\"button\" value=\"Smart Log\" id=\"HF_B0_HF_B0_S0_p_coumaric_irc_brute_attempt_53\" onclick=\"view_function(event, this.id)\" /></td><td>Success</td><td>('(gs2, rcfc, stepsize=4, maxpoints=25, vtight)', 0.016527777777777777)</td></tr><tr><td>HF_B0_HF_B0_S0_p_coumaric_irc_brute_attempt_54</td><td><a href = \"files/p_coumaric/v4/brute_irc/HF_B0_HF_B0_S0_p_coumaric_irc_brute_attempt_54.com\" target = \"_blank\">com</a></td><td><input type=\"button\" value=\"Smart Log\" id=\"HF_B0_HF_B0_S0_p_coumaric_irc_brute_attempt_54\" onclick=\"view_function(event, this.id)\" /></td><td>Success</td><td>('(gs2, rcfc, stepsize=5, maxpoints=20, vtight)', 0.017916666666666668)</td></tr><tr><td>HF_B0_HF_B0_S0_p_coumaric_irc_brute_attempt_55</td><td><a href = \"files/p_coumaric/v4/brute_irc/HF_B0_HF_B0_S0_p_coumaric_irc_brute_attempt_55.com\" target = \"_blank\">com</a></td><td><input type=\"button\" value=\"Smart Log\" id=\"HF_B0_HF_B0_S0_p_coumaric_irc_brute_attempt_55\" onclick=\"view_function(event, this.id)\" /></td><td>Success</td><td>('(gs2, rcfc, stepsize=6, maxpoints=16, vtight)', 0.0145)</td></tr><tr><td>HF_B0_HF_B0_S0_p_coumaric_irc_brute_attempt_56</td><td><a href = \"files/p_coumaric/v4/brute_irc/HF_B0_HF_B0_S0_p_coumaric_irc_brute_attempt_56.com\" target = \"_blank\">com</a></td><td><input type=\"button\" value=\"Smart Log\" id=\"HF_B0_HF_B0_S0_p_coumaric_irc_brute_attempt_56\" onclick=\"view_function(event, this.id)\" /></td><td>Success</td><td>('(gs2, rcfc, stepsize=7, maxpoints=14, vtight)', 0.021249999999999998)</td></tr><tr><td>HF_B0_HF_B0_S0_p_coumaric_irc_brute_attempt_57</td><td><a href = \"files/p_coumaric/v4/brute_irc/HF_B0_HF_B0_S0_p_coumaric_irc_brute_attempt_57.com\" target = \"_blank\">com</a></td><td><input type=\"button\" value=\"Smart Log\" id=\"HF_B0_HF_B0_S0_p_coumaric_irc_brute_attempt_57\" onclick=\"view_function(event, this.id)\" /></td><td>Success</td><td>('(gs2, rcfc, stepsize=8, maxpoints=12, vtight)', 0.022166666666666668)</td></tr><tr><td>HF_B0_HF_B0_S0_p_coumaric_irc_brute_attempt_58</td><td><a href = \"files/p_coumaric/v4/brute_irc/HF_B0_HF_B0_S0_p_coumaric_irc_brute_attempt_58.com\" target = \"_blank\">com</a></td><td><input type=\"button\" value=\"Smart Log\" id=\"HF_B0_HF_B0_S0_p_coumaric_irc_brute_attempt_58\" onclick=\"view_function(event, this.id)\" /></td><td>Success</td><td>('(gs2, rcfc, stepsize=9, maxpoints=11, vtight)', 0.02286111111111111)</td></tr><tr><td>HF_B0_HF_B0_S0_p_coumaric_irc_brute_attempt_59</td><td><a href = \"files/p_coumaric/v4/brute_irc/HF_B0_HF_B0_S0_p_coumaric_irc_brute_attempt_59.com\" target = \"_blank\">com</a></td><td><input type=\"button\" value=\"Smart Log\" id=\"HF_B0_HF_B0_S0_p_coumaric_irc_brute_attempt_59\" onclick=\"view_function(event, this.id)\" /></td><td>Success</td><td>('(gs2, rcfc, stepsize=10, maxpoints=10, vtight)', 0.029916666666666668)</td></tr><tr><td>HF_B0_HF_B0_S0_p_coumaric_irc_brute_attempt_60</td><td><a href = \"files/p_coumaric/v4/brute_irc/HF_B0_HF_B0_S0_p_coumaric_irc_brute_attempt_60.com\" target = \"_blank\">com</a></td><td><input type=\"button\" value=\"Smart Log\" id=\"HF_B0_HF_B0_S0_p_coumaric_irc_brute_attempt_60\" onclick=\"view_function(event, this.id)\" /></td><td>Error: Maximum number of corrector steps exceded.</td><td>('(hpc, calcall, stepsize=5, maxpoints=300)', 0.06966666666666667)</td></tr><tr><td>HF_B0_HF_B0_S0_p_coumaric_irc_brute_attempt_61</td><td><a href = \"files/p_coumaric/v4/brute_irc/HF_B0_HF_B0_S0_p_coumaric_irc_brute_attempt_61.com\" target = \"_blank\">com</a></td><td><input type=\"button\" value=\"Smart Log\" id=\"HF_B0_HF_B0_S0_p_coumaric_irc_brute_attempt_61\" onclick=\"view_function(event, this.id)\" /></td><td>Success</td><td>('(gs2, calcall, stepsize=5, maxpoints=300)', 0.02288888888888889)</td></tr><tr><td>CIS_B0_CIS_B0_S1_p_coumaric_irc_brute_attempt_0</td><td><a href = \"files/p_coumaric/v4/brute_irc/CIS_B0_CIS_B0_S1_p_coumaric_irc_brute_attempt_0.com\" target = \"_blank\">com</a></td><td><input type=\"button\" value=\"Smart Log\" id=\"CIS_B0_CIS_B0_S1_p_coumaric_irc_brute_attempt_0\" onclick=\"view_function(event, this.id)\" /></td><td>Success</td><td>('(hpc, rcfc, stepsize=1, maxpoints=100)', 0.5462777777777778)</td></tr><tr><td>CIS_B0_CIS_B0_S1_p_coumaric_irc_brute_attempt_1</td><td><a href = \"files/p_coumaric/v4/brute_irc/CIS_B0_CIS_B0_S1_p_coumaric_irc_brute_attempt_1.com\" target = \"_blank\">com</a></td><td><input type=\"button\" value=\"Smart Log\" id=\"CIS_B0_CIS_B0_S1_p_coumaric_irc_brute_attempt_1\" onclick=\"view_function(event, this.id)\" /></td><td>Success</td><td>('(hpc, rcfc, stepsize=2, maxpoints=50)', 0.4875)</td></tr><tr><td>CIS_B0_CIS_B0_S1_p_coumaric_irc_brute_attempt_2</td><td><a href = \"files/p_coumaric/v4/brute_irc/CIS_B0_CIS_B0_S1_p_coumaric_irc_brute_attempt_2.com\" target = \"_blank\">com</a></td><td><input type=\"button\" value=\"Smart Log\" id=\"CIS_B0_CIS_B0_S1_p_coumaric_irc_brute_attempt_2\" onclick=\"view_function(event, this.id)\" /></td><td>Success</td><td>('(hpc, rcfc, stepsize=3, maxpoints=33)', 0.3243611111111111)</td></tr><tr><td>CIS_B0_CIS_B0_S1_p_coumaric_irc_brute_attempt_3</td><td><a href = \"files/p_coumaric/v4/brute_irc/CIS_B0_CIS_B0_S1_p_coumaric_irc_brute_attempt_3.com\" target = \"_blank\">com</a></td><td><input type=\"button\" value=\"Smart Log\" id=\"CIS_B0_CIS_B0_S1_p_coumaric_irc_brute_attempt_3\" onclick=\"view_function(event, this.id)\" /></td><td>Success</td><td>('(hpc, rcfc, stepsize=4, maxpoints=25)', 0.2758333333333333)</td></tr><tr><td>CIS_B0_CIS_B0_S1_p_coumaric_irc_brute_attempt_4</td><td><a href = \"files/p_coumaric/v4/brute_irc/CIS_B0_CIS_B0_S1_p_coumaric_irc_brute_attempt_4.com\" target = \"_blank\">com</a></td><td><input type=\"button\" value=\"Smart Log\" id=\"CIS_B0_CIS_B0_S1_p_coumaric_irc_brute_attempt_4\" onclick=\"view_function(event, this.id)\" /></td><td>Success</td><td>('(hpc, rcfc, stepsize=5, maxpoints=20)', 0.22472222222222224)</td></tr><tr><td>CIS_B0_CIS_B0_S1_p_coumaric_irc_brute_attempt_5</td><td><a href = \"files/p_coumaric/v4/brute_irc/CIS_B0_CIS_B0_S1_p_coumaric_irc_brute_attempt_5.com\" target = \"_blank\">com</a></td><td><input type=\"button\" value=\"Smart Log\" id=\"CIS_B0_CIS_B0_S1_p_coumaric_irc_brute_attempt_5\" onclick=\"view_function(event, this.id)\" /></td><td>Success</td><td>('(hpc, rcfc, stepsize=6, maxpoints=16)', 0.16141666666666665)</td></tr><tr><td>CIS_B0_CIS_B0_S1_p_coumaric_irc_brute_attempt_6</td><td><a href = \"files/p_coumaric/v4/brute_irc/CIS_B0_CIS_B0_S1_p_coumaric_irc_brute_attempt_6.com\" target = \"_blank\">com</a></td><td><input type=\"button\" value=\"Smart Log\" id=\"CIS_B0_CIS_B0_S1_p_coumaric_irc_brute_attempt_6\" onclick=\"view_function(event, this.id)\" /></td><td>Success</td><td>('(hpc, rcfc, stepsize=7, maxpoints=14)', 0.14102777777777778)</td></tr><tr><td>CIS_B0_CIS_B0_S1_p_coumaric_irc_brute_attempt_7</td><td><a href = \"files/p_coumaric/v4/brute_irc/CIS_B0_CIS_B0_S1_p_coumaric_irc_brute_attempt_7.com\" target = \"_blank\">com</a></td><td><input type=\"button\" value=\"Smart Log\" id=\"CIS_B0_CIS_B0_S1_p_coumaric_irc_brute_attempt_7\" onclick=\"view_function(event, this.id)\" /></td><td>Success</td><td>('(hpc, rcfc, stepsize=8, maxpoints=12)', 0.13497222222222222)</td></tr><tr><td>CIS_B0_CIS_B0_S1_p_coumaric_irc_brute_attempt_8</td><td><a href = \"files/p_coumaric/v4/brute_irc/CIS_B0_CIS_B0_S1_p_coumaric_irc_brute_attempt_8.com\" target = \"_blank\">com</a></td><td><input type=\"button\" value=\"Smart Log\" id=\"CIS_B0_CIS_B0_S1_p_coumaric_irc_brute_attempt_8\" onclick=\"view_function(event, this.id)\" /></td><td>Success</td><td>('(hpc, rcfc, stepsize=9, maxpoints=11)', 0.11569444444444445)</td></tr><tr><td>CIS_B0_CIS_B0_S1_p_coumaric_irc_brute_attempt_9</td><td><a href = \"files/p_coumaric/v4/brute_irc/CIS_B0_CIS_B0_S1_p_coumaric_irc_brute_attempt_9.com\" target = \"_blank\">com</a></td><td><input type=\"button\" value=\"Smart Log\" id=\"CIS_B0_CIS_B0_S1_p_coumaric_irc_brute_attempt_9\" onclick=\"view_function(event, this.id)\" /></td><td>Success</td><td>('(hpc, rcfc, stepsize=10, maxpoints=10)', 0.11733333333333333)</td></tr><tr><td>CIS_B0_CIS_B0_S1_p_coumaric_irc_brute_attempt_10</td><td><a href = \"files/p_coumaric/v4/brute_irc/CIS_B0_CIS_B0_S1_p_coumaric_irc_brute_attempt_10.com\" target = \"_blank\">com</a></td><td><input type=\"button\" value=\"Smart Log\" id=\"CIS_B0_CIS_B0_S1_p_coumaric_irc_brute_attempt_10\" onclick=\"view_function(event, this.id)\" /></td><td>Success</td><td>('(hpc, rcfc, stepsize=1, maxpoints=100, tight)', 0.5165)</td></tr><tr><td>CIS_B0_CIS_B0_S1_p_coumaric_irc_brute_attempt_11</td><td><a href = \"files/p_coumaric/v4/brute_irc/CIS_B0_CIS_B0_S1_p_coumaric_irc_brute_attempt_11.com\" target = \"_blank\">com</a></td><td><input type=\"button\" value=\"Smart Log\" id=\"CIS_B0_CIS_B0_S1_p_coumaric_irc_brute_attempt_11\" onclick=\"view_function(event, this.id)\" /></td><td>Success</td><td>('(hpc, rcfc, stepsize=2, maxpoints=50, tight)', 0.5479166666666666)</td></tr><tr><td>CIS_B0_CIS_B0_S1_p_coumaric_irc_brute_attempt_12</td><td><a href = \"files/p_coumaric/v4/brute_irc/CIS_B0_CIS_B0_S1_p_coumaric_irc_brute_attempt_12.com\" target = \"_blank\">com</a></td><td><input type=\"button\" value=\"Smart Log\" id=\"CIS_B0_CIS_B0_S1_p_coumaric_irc_brute_attempt_12\" onclick=\"view_function(event, this.id)\" /></td><td>Success</td><td>('(hpc, rcfc, stepsize=3, maxpoints=33, tight)', 0.32808333333333334)</td></tr><tr><td>CIS_B0_CIS_B0_S1_p_coumaric_irc_brute_attempt_13</td><td><a href = \"files/p_coumaric/v4/brute_irc/CIS_B0_CIS_B0_S1_p_coumaric_irc_brute_attempt_13.com\" target = \"_blank\">com</a></td><td><input type=\"button\" value=\"Smart Log\" id=\"CIS_B0_CIS_B0_S1_p_coumaric_irc_brute_attempt_13\" onclick=\"view_function(event, this.id)\" /></td><td>Success</td><td>('(hpc, rcfc, stepsize=4, maxpoints=25, tight)', 0.29341666666666666)</td></tr><tr><td>CIS_B0_CIS_B0_S1_p_coumaric_irc_brute_attempt_14</td><td><a href = \"files/p_coumaric/v4/brute_irc/CIS_B0_CIS_B0_S1_p_coumaric_irc_brute_attempt_14.com\" target = \"_blank\">com</a></td><td><input type=\"button\" value=\"Smart Log\" id=\"CIS_B0_CIS_B0_S1_p_coumaric_irc_brute_attempt_14\" onclick=\"view_function(event, this.id)\" /></td><td>Success</td><td>('(hpc, rcfc, stepsize=5, maxpoints=20, tight)', 0.2147777777777778)</td></tr><tr><td>CIS_B0_CIS_B0_S1_p_coumaric_irc_brute_attempt_15</td><td><a href = \"files/p_coumaric/v4/brute_irc/CIS_B0_CIS_B0_S1_p_coumaric_irc_brute_attempt_15.com\" target = \"_blank\">com</a></td><td><input type=\"button\" value=\"Smart Log\" id=\"CIS_B0_CIS_B0_S1_p_coumaric_irc_brute_attempt_15\" onclick=\"view_function(event, this.id)\" /></td><td>Success</td><td>('(hpc, rcfc, stepsize=6, maxpoints=16, tight)', 0.22144444444444444)</td></tr><tr><td>CIS_B0_CIS_B0_S1_p_coumaric_irc_brute_attempt_16</td><td><a href = \"files/p_coumaric/v4/brute_irc/CIS_B0_CIS_B0_S1_p_coumaric_irc_brute_attempt_16.com\" target = \"_blank\">com</a></td><td><input type=\"button\" value=\"Smart Log\" id=\"CIS_B0_CIS_B0_S1_p_coumaric_irc_brute_attempt_16\" onclick=\"view_function(event, this.id)\" /></td><td>Success</td><td>('(hpc, rcfc, stepsize=7, maxpoints=14, tight)', 0.18544444444444444)</td></tr><tr><td>CIS_B0_CIS_B0_S1_p_coumaric_irc_brute_attempt_17</td><td><a href = \"files/p_coumaric/v4/brute_irc/CIS_B0_CIS_B0_S1_p_coumaric_irc_brute_attempt_17.com\" target = \"_blank\">com</a></td><td><input type=\"button\" value=\"Smart Log\" id=\"CIS_B0_CIS_B0_S1_p_coumaric_irc_brute_attempt_17\" onclick=\"view_function(event, this.id)\" /></td><td>Success</td><td>('(hpc, rcfc, stepsize=8, maxpoints=12, tight)', 0.21330555555555555)</td></tr><tr><td>CIS_B0_CIS_B0_S1_p_coumaric_irc_brute_attempt_18</td><td><a href = \"files/p_coumaric/v4/brute_irc/CIS_B0_CIS_B0_S1_p_coumaric_irc_brute_attempt_18.com\" target = \"_blank\">com</a></td><td><input type=\"button\" value=\"Smart Log\" id=\"CIS_B0_CIS_B0_S1_p_coumaric_irc_brute_attempt_18\" onclick=\"view_function(event, this.id)\" /></td><td>Success</td><td>('(hpc, rcfc, stepsize=9, maxpoints=11, tight)', 0.18416666666666665)</td></tr><tr><td>CIS_B0_CIS_B0_S1_p_coumaric_irc_brute_attempt_19</td><td><a href = \"files/p_coumaric/v4/brute_irc/CIS_B0_CIS_B0_S1_p_coumaric_irc_brute_attempt_19.com\" target = \"_blank\">com</a></td><td><input type=\"button\" value=\"Smart Log\" id=\"CIS_B0_CIS_B0_S1_p_coumaric_irc_brute_attempt_19\" onclick=\"view_function(event, this.id)\" /></td><td>Success</td><td>('(hpc, rcfc, stepsize=10, maxpoints=10, tight)', 0.20830555555555558)</td></tr><tr><td>CIS_B0_CIS_B0_S1_p_coumaric_irc_brute_attempt_20</td><td><a href = \"files/p_coumaric/v4/brute_irc/CIS_B0_CIS_B0_S1_p_coumaric_irc_brute_attempt_20.com\" target = \"_blank\">com</a></td><td><input type=\"button\" value=\"Smart Log\" id=\"CIS_B0_CIS_B0_S1_p_coumaric_irc_brute_attempt_20\" onclick=\"view_function(event, this.id)\" /></td><td>Success</td><td>('(hpc, rcfc, stepsize=1, maxpoints=100, vtight)', 0.5013333333333333)</td></tr><tr><td>CIS_B0_CIS_B0_S1_p_coumaric_irc_brute_attempt_21</td><td><a href = \"files/p_coumaric/v4/brute_irc/CIS_B0_CIS_B0_S1_p_coumaric_irc_brute_attempt_21.com\" target = \"_blank\">com</a></td><td><input type=\"button\" value=\"Smart Log\" id=\"CIS_B0_CIS_B0_S1_p_coumaric_irc_brute_attempt_21\" onclick=\"view_function(event, this.id)\" /></td><td>Success</td><td>('(hpc, rcfc, stepsize=2, maxpoints=50, vtight)', 0.5565)</td></tr><tr><td>CIS_B0_CIS_B0_S1_p_coumaric_irc_brute_attempt_22</td><td><a href = \"files/p_coumaric/v4/brute_irc/CIS_B0_CIS_B0_S1_p_coumaric_irc_brute_attempt_22.com\" target = \"_blank\">com</a></td><td><input type=\"button\" value=\"Smart Log\" id=\"CIS_B0_CIS_B0_S1_p_coumaric_irc_brute_attempt_22\" onclick=\"view_function(event, this.id)\" /></td><td>Success</td><td>('(hpc, rcfc, stepsize=3, maxpoints=33, vtight)', 0.36969444444444444)</td></tr><tr><td>CIS_B0_CIS_B0_S1_p_coumaric_irc_brute_attempt_23</td><td><a href = \"files/p_coumaric/v4/brute_irc/CIS_B0_CIS_B0_S1_p_coumaric_irc_brute_attempt_23.com\" target = \"_blank\">com</a></td><td><input type=\"button\" value=\"Smart Log\" id=\"CIS_B0_CIS_B0_S1_p_coumaric_irc_brute_attempt_23\" onclick=\"view_function(event, this.id)\" /></td><td>Success</td><td>('(hpc, rcfc, stepsize=4, maxpoints=25, vtight)', 0.3276111111111111)</td></tr><tr><td>CIS_B0_CIS_B0_S1_p_coumaric_irc_brute_attempt_24</td><td><a href = \"files/p_coumaric/v4/brute_irc/CIS_B0_CIS_B0_S1_p_coumaric_irc_brute_attempt_24.com\" target = \"_blank\">com</a></td><td><input type=\"button\" value=\"Smart Log\" id=\"CIS_B0_CIS_B0_S1_p_coumaric_irc_brute_attempt_24\" onclick=\"view_function(event, this.id)\" /></td><td>Success</td><td>('(hpc, rcfc, stepsize=5, maxpoints=20, vtight)', 0.34377777777777774)</td></tr><tr><td>CIS_B0_CIS_B0_S1_p_coumaric_irc_brute_attempt_25</td><td><a href = \"files/p_coumaric/v4/brute_irc/CIS_B0_CIS_B0_S1_p_coumaric_irc_brute_attempt_25.com\" target = \"_blank\">com</a></td><td><input type=\"button\" value=\"Smart Log\" id=\"CIS_B0_CIS_B0_S1_p_coumaric_irc_brute_attempt_25\" onclick=\"view_function(event, this.id)\" /></td><td>Success</td><td>('(hpc, rcfc, stepsize=6, maxpoints=16, vtight)', 0.31563888888888886)</td></tr><tr><td>CIS_B0_CIS_B0_S1_p_coumaric_irc_brute_attempt_26</td><td><a href = \"files/p_coumaric/v4/brute_irc/CIS_B0_CIS_B0_S1_p_coumaric_irc_brute_attempt_26.com\" target = \"_blank\">com</a></td><td><input type=\"button\" value=\"Smart Log\" id=\"CIS_B0_CIS_B0_S1_p_coumaric_irc_brute_attempt_26\" onclick=\"view_function(event, this.id)\" /></td><td>Success</td><td>('(hpc, rcfc, stepsize=7, maxpoints=14, vtight)', 0.26572222222222225)</td></tr><tr><td>CIS_B0_CIS_B0_S1_p_coumaric_irc_brute_attempt_27</td><td><a href = \"files/p_coumaric/v4/brute_irc/CIS_B0_CIS_B0_S1_p_coumaric_irc_brute_attempt_27.com\" target = \"_blank\">com</a></td><td><input type=\"button\" value=\"Smart Log\" id=\"CIS_B0_CIS_B0_S1_p_coumaric_irc_brute_attempt_27\" onclick=\"view_function(event, this.id)\" /></td><td>Success</td><td>('(hpc, rcfc, stepsize=8, maxpoints=12, vtight)', 0.2807777777777778)</td></tr><tr><td>CIS_B0_CIS_B0_S1_p_coumaric_irc_brute_attempt_28</td><td><a href = \"files/p_coumaric/v4/brute_irc/CIS_B0_CIS_B0_S1_p_coumaric_irc_brute_attempt_28.com\" target = \"_blank\">com</a></td><td><input type=\"button\" value=\"Smart Log\" id=\"CIS_B0_CIS_B0_S1_p_coumaric_irc_brute_attempt_28\" onclick=\"view_function(event, this.id)\" /></td><td>Success</td><td>('(hpc, rcfc, stepsize=9, maxpoints=11, vtight)', 0.2966944444444444)</td></tr><tr><td>CIS_B0_CIS_B0_S1_p_coumaric_irc_brute_attempt_29</td><td><a href = \"files/p_coumaric/v4/brute_irc/CIS_B0_CIS_B0_S1_p_coumaric_irc_brute_attempt_29.com\" target = \"_blank\">com</a></td><td><input type=\"button\" value=\"Smart Log\" id=\"CIS_B0_CIS_B0_S1_p_coumaric_irc_brute_attempt_29\" onclick=\"view_function(event, this.id)\" /></td><td>Success</td><td>('(hpc, rcfc, stepsize=10, maxpoints=10, vtight)', 0.2773333333333333)</td></tr><tr><td>CIS_B0_CIS_B0_S1_p_coumaric_irc_brute_attempt_30</td><td><a href = \"files/p_coumaric/v4/brute_irc/CIS_B0_CIS_B0_S1_p_coumaric_irc_brute_attempt_30.com\" target = \"_blank\">com</a></td><td><input type=\"button\" value=\"Smart Log\" id=\"CIS_B0_CIS_B0_S1_p_coumaric_irc_brute_attempt_30\" onclick=\"view_function(event, this.id)\" /></td><td>Success</td><td>('(gs2, rcfc, stepsize=1, maxpoints=100)', 1.1239444444444444)</td></tr><tr><td>CIS_B0_CIS_B0_S1_p_coumaric_irc_brute_attempt_31</td><td><a href = \"files/p_coumaric/v4/brute_irc/CIS_B0_CIS_B0_S1_p_coumaric_irc_brute_attempt_31.com\" target = \"_blank\">com</a></td><td><input type=\"button\" value=\"Smart Log\" id=\"CIS_B0_CIS_B0_S1_p_coumaric_irc_brute_attempt_31\" onclick=\"view_function(event, this.id)\" /></td><td>Success</td><td>('(gs2, rcfc, stepsize=2, maxpoints=50)', 0.9248333333333333)</td></tr><tr><td>CIS_B0_CIS_B0_S1_p_coumaric_irc_brute_attempt_32</td><td><a href = \"files/p_coumaric/v4/brute_irc/CIS_B0_CIS_B0_S1_p_coumaric_irc_brute_attempt_32.com\" target = \"_blank\">com</a></td><td><input type=\"button\" value=\"Smart Log\" id=\"CIS_B0_CIS_B0_S1_p_coumaric_irc_brute_attempt_32\" onclick=\"view_function(event, this.id)\" /></td><td>Success</td><td>('(gs2, rcfc, stepsize=3, maxpoints=33)', 0.68425)</td></tr><tr><td>CIS_B0_CIS_B0_S1_p_coumaric_irc_brute_attempt_33</td><td><a href = \"files/p_coumaric/v4/brute_irc/CIS_B0_CIS_B0_S1_p_coumaric_irc_brute_attempt_33.com\" target = \"_blank\">com</a></td><td><input type=\"button\" value=\"Smart Log\" id=\"CIS_B0_CIS_B0_S1_p_coumaric_irc_brute_attempt_33\" onclick=\"view_function(event, this.id)\" /></td><td>Success</td><td>('(gs2, rcfc, stepsize=4, maxpoints=25)', 0.5235000000000001)</td></tr><tr><td>CIS_B0_CIS_B0_S1_p_coumaric_irc_brute_attempt_34</td><td><a href = \"files/p_coumaric/v4/brute_irc/CIS_B0_CIS_B0_S1_p_coumaric_irc_brute_attempt_34.com\" target = \"_blank\">com</a></td><td><input type=\"button\" value=\"Smart Log\" id=\"CIS_B0_CIS_B0_S1_p_coumaric_irc_brute_attempt_34\" onclick=\"view_function(event, this.id)\" /></td><td>Success</td><td>('(gs2, rcfc, stepsize=5, maxpoints=20)', 0.41958333333333336)</td></tr><tr><td>CIS_B0_CIS_B0_S1_p_coumaric_irc_brute_attempt_35</td><td><a href = \"files/p_coumaric/v4/brute_irc/CIS_B0_CIS_B0_S1_p_coumaric_irc_brute_attempt_35.com\" target = \"_blank\">com</a></td><td><input type=\"button\" value=\"Smart Log\" id=\"CIS_B0_CIS_B0_S1_p_coumaric_irc_brute_attempt_35\" onclick=\"view_function(event, this.id)\" /></td><td>Success</td><td>('(gs2, rcfc, stepsize=6, maxpoints=16)', 0.33455555555555555)</td></tr><tr><td>CIS_B0_CIS_B0_S1_p_coumaric_irc_brute_attempt_36</td><td><a href = \"files/p_coumaric/v4/brute_irc/CIS_B0_CIS_B0_S1_p_coumaric_irc_brute_attempt_36.com\" target = \"_blank\">com</a></td><td><input type=\"button\" value=\"Smart Log\" id=\"CIS_B0_CIS_B0_S1_p_coumaric_irc_brute_attempt_36\" onclick=\"view_function(event, this.id)\" /></td><td>Success</td><td>('(gs2, rcfc, stepsize=7, maxpoints=14)', 0.25858333333333333)</td></tr><tr><td>CIS_B0_CIS_B0_S1_p_coumaric_irc_brute_attempt_37</td><td><a href = \"files/p_coumaric/v4/brute_irc/CIS_B0_CIS_B0_S1_p_coumaric_irc_brute_attempt_37.com\" target = \"_blank\">com</a></td><td><input type=\"button\" value=\"Smart Log\" id=\"CIS_B0_CIS_B0_S1_p_coumaric_irc_brute_attempt_37\" onclick=\"view_function(event, this.id)\" /></td><td>Success</td><td>('(gs2, rcfc, stepsize=8, maxpoints=12)', 0.2501388888888889)</td></tr><tr><td>CIS_B0_CIS_B0_S1_p_coumaric_irc_brute_attempt_38</td><td><a href = \"files/p_coumaric/v4/brute_irc/CIS_B0_CIS_B0_S1_p_coumaric_irc_brute_attempt_38.com\" target = \"_blank\">com</a></td><td><input type=\"button\" value=\"Smart Log\" id=\"CIS_B0_CIS_B0_S1_p_coumaric_irc_brute_attempt_38\" onclick=\"view_function(event, this.id)\" /></td><td>Success</td><td>('(gs2, rcfc, stepsize=9, maxpoints=11)', 0.23208333333333334)</td></tr><tr><td>CIS_B0_CIS_B0_S1_p_coumaric_irc_brute_attempt_39</td><td><a href = \"files/p_coumaric/v4/brute_irc/CIS_B0_CIS_B0_S1_p_coumaric_irc_brute_attempt_39.com\" target = \"_blank\">com</a></td><td><input type=\"button\" value=\"Smart Log\" id=\"CIS_B0_CIS_B0_S1_p_coumaric_irc_brute_attempt_39\" onclick=\"view_function(event, this.id)\" /></td><td>Success</td><td>('(gs2, rcfc, stepsize=10, maxpoints=10)', 0.22361111111111112)</td></tr><tr><td>CIS_B0_CIS_B0_S1_p_coumaric_irc_brute_attempt_40</td><td><a href = \"files/p_coumaric/v4/brute_irc/CIS_B0_CIS_B0_S1_p_coumaric_irc_brute_attempt_40.com\" target = \"_blank\">com</a></td><td><input type=\"button\" value=\"Smart Log\" id=\"CIS_B0_CIS_B0_S1_p_coumaric_irc_brute_attempt_40\" onclick=\"view_function(event, this.id)\" /></td><td>Success</td><td>('(gs2, rcfc, stepsize=1, maxpoints=100, tight)', 0.9304444444444444)</td></tr><tr><td>CIS_B0_CIS_B0_S1_p_coumaric_irc_brute_attempt_41</td><td><a href = \"files/p_coumaric/v4/brute_irc/CIS_B0_CIS_B0_S1_p_coumaric_irc_brute_attempt_41.com\" target = \"_blank\">com</a></td><td><input type=\"button\" value=\"Smart Log\" id=\"CIS_B0_CIS_B0_S1_p_coumaric_irc_brute_attempt_41\" onclick=\"view_function(event, this.id)\" /></td><td>Success</td><td>('(gs2, rcfc, stepsize=2, maxpoints=50, tight)', 1.05725)</td></tr><tr><td>CIS_B0_CIS_B0_S1_p_coumaric_irc_brute_attempt_42</td><td><a href = \"files/p_coumaric/v4/brute_irc/CIS_B0_CIS_B0_S1_p_coumaric_irc_brute_attempt_42.com\" target = \"_blank\">com</a></td><td><input type=\"button\" value=\"Smart Log\" id=\"CIS_B0_CIS_B0_S1_p_coumaric_irc_brute_attempt_42\" onclick=\"view_function(event, this.id)\" /></td><td>Success</td><td>('(gs2, rcfc, stepsize=3, maxpoints=33, tight)', 0.7259166666666667)</td></tr><tr><td>CIS_B0_CIS_B0_S1_p_coumaric_irc_brute_attempt_43</td><td><a href = \"files/p_coumaric/v4/brute_irc/CIS_B0_CIS_B0_S1_p_coumaric_irc_brute_attempt_43.com\" target = \"_blank\">com</a></td><td><input type=\"button\" value=\"Smart Log\" id=\"CIS_B0_CIS_B0_S1_p_coumaric_irc_brute_attempt_43\" onclick=\"view_function(event, this.id)\" /></td><td>Success</td><td>('(gs2, rcfc, stepsize=4, maxpoints=25, tight)', 0.7215)</td></tr><tr><td>CIS_B0_CIS_B0_S1_p_coumaric_irc_brute_attempt_44</td><td><a href = \"files/p_coumaric/v4/brute_irc/CIS_B0_CIS_B0_S1_p_coumaric_irc_brute_attempt_44.com\" target = \"_blank\">com</a></td><td><input type=\"button\" value=\"Smart Log\" id=\"CIS_B0_CIS_B0_S1_p_coumaric_irc_brute_attempt_44\" onclick=\"view_function(event, this.id)\" /></td><td>Success</td><td>('(gs2, rcfc, stepsize=5, maxpoints=20, tight)', 0.64825)</td></tr><tr><td>CIS_B0_CIS_B0_S1_p_coumaric_irc_brute_attempt_45</td><td><a href = \"files/p_coumaric/v4/brute_irc/CIS_B0_CIS_B0_S1_p_coumaric_irc_brute_attempt_45.com\" target = \"_blank\">com</a></td><td><input type=\"button\" value=\"Smart Log\" id=\"CIS_B0_CIS_B0_S1_p_coumaric_irc_brute_attempt_45\" onclick=\"view_function(event, this.id)\" /></td><td>Success</td><td>('(gs2, rcfc, stepsize=6, maxpoints=16, tight)', 0.5092222222222222)</td></tr><tr><td>CIS_B0_CIS_B0_S1_p_coumaric_irc_brute_attempt_46</td><td><a href = \"files/p_coumaric/v4/brute_irc/CIS_B0_CIS_B0_S1_p_coumaric_irc_brute_attempt_46.com\" target = \"_blank\">com</a></td><td><input type=\"button\" value=\"Smart Log\" id=\"CIS_B0_CIS_B0_S1_p_coumaric_irc_brute_attempt_46\" onclick=\"view_function(event, this.id)\" /></td><td>Success</td><td>('(gs2, rcfc, stepsize=7, maxpoints=14, tight)', 0.41650000000000004)</td></tr><tr><td>CIS_B0_CIS_B0_S1_p_coumaric_irc_brute_attempt_47</td><td><a href = \"files/p_coumaric/v4/brute_irc/CIS_B0_CIS_B0_S1_p_coumaric_irc_brute_attempt_47.com\" target = \"_blank\">com</a></td><td><input type=\"button\" value=\"Smart Log\" id=\"CIS_B0_CIS_B0_S1_p_coumaric_irc_brute_attempt_47\" onclick=\"view_function(event, this.id)\" /></td><td>Success</td><td>('(gs2, rcfc, stepsize=8, maxpoints=12, tight)', 0.38872222222222225)</td></tr><tr><td>CIS_B0_CIS_B0_S1_p_coumaric_irc_brute_attempt_48</td><td><a href = \"files/p_coumaric/v4/brute_irc/CIS_B0_CIS_B0_S1_p_coumaric_irc_brute_attempt_48.com\" target = \"_blank\">com</a></td><td><input type=\"button\" value=\"Smart Log\" id=\"CIS_B0_CIS_B0_S1_p_coumaric_irc_brute_attempt_48\" onclick=\"view_function(event, this.id)\" /></td><td>Success</td><td>('(gs2, rcfc, stepsize=9, maxpoints=11, tight)', 0.35102777777777777)</td></tr><tr><td>CIS_B0_CIS_B0_S1_p_coumaric_irc_brute_attempt_49</td><td><a href = \"files/p_coumaric/v4/brute_irc/CIS_B0_CIS_B0_S1_p_coumaric_irc_brute_attempt_49.com\" target = \"_blank\">com</a></td><td><input type=\"button\" value=\"Smart Log\" id=\"CIS_B0_CIS_B0_S1_p_coumaric_irc_brute_attempt_49\" onclick=\"view_function(event, this.id)\" /></td><td>Success</td><td>('(gs2, rcfc, stepsize=10, maxpoints=10, tight)', 0.3673888888888889)</td></tr><tr><td>CIS_B0_CIS_B0_S1_p_coumaric_irc_brute_attempt_50</td><td><a href = \"files/p_coumaric/v4/brute_irc/CIS_B0_CIS_B0_S1_p_coumaric_irc_brute_attempt_50.com\" target = \"_blank\">com</a></td><td><input type=\"button\" value=\"Smart Log\" id=\"CIS_B0_CIS_B0_S1_p_coumaric_irc_brute_attempt_50\" onclick=\"view_function(event, this.id)\" /></td><td>Success</td><td>('(gs2, rcfc, stepsize=1, maxpoints=100, vtight)', 1.1788888888888889)</td></tr><tr><td>CIS_B0_CIS_B0_S1_p_coumaric_irc_brute_attempt_51</td><td><a href = \"files/p_coumaric/v4/brute_irc/CIS_B0_CIS_B0_S1_p_coumaric_irc_brute_attempt_51.com\" target = \"_blank\">com</a></td><td><input type=\"button\" value=\"Smart Log\" id=\"CIS_B0_CIS_B0_S1_p_coumaric_irc_brute_attempt_51\" onclick=\"view_function(event, this.id)\" /></td><td>Success</td><td>('(gs2, rcfc, stepsize=2, maxpoints=50, vtight)', 1.481138888888889)</td></tr><tr><td>CIS_B0_CIS_B0_S1_p_coumaric_irc_brute_attempt_52</td><td><a href = \"files/p_coumaric/v4/brute_irc/CIS_B0_CIS_B0_S1_p_coumaric_irc_brute_attempt_52.com\" target = \"_blank\">com</a></td><td><input type=\"button\" value=\"Smart Log\" id=\"CIS_B0_CIS_B0_S1_p_coumaric_irc_brute_attempt_52\" onclick=\"view_function(event, this.id)\" /></td><td>Success</td><td>('(gs2, rcfc, stepsize=3, maxpoints=33, vtight)', 0.9496388888888889)</td></tr><tr><td>CIS_B0_CIS_B0_S1_p_coumaric_irc_brute_attempt_53</td><td><a href = \"files/p_coumaric/v4/brute_irc/CIS_B0_CIS_B0_S1_p_coumaric_irc_brute_attempt_53.com\" target = \"_blank\">com</a></td><td><input type=\"button\" value=\"Smart Log\" id=\"CIS_B0_CIS_B0_S1_p_coumaric_irc_brute_attempt_53\" onclick=\"view_function(event, this.id)\" /></td><td>Success</td><td>('(gs2, rcfc, stepsize=4, maxpoints=25, vtight)', 0.8708055555555556)</td></tr><tr><td>CIS_B0_CIS_B0_S1_p_coumaric_irc_brute_attempt_54</td><td><a href = \"files/p_coumaric/v4/brute_irc/CIS_B0_CIS_B0_S1_p_coumaric_irc_brute_attempt_54.com\" target = \"_blank\">com</a></td><td><input type=\"button\" value=\"Smart Log\" id=\"CIS_B0_CIS_B0_S1_p_coumaric_irc_brute_attempt_54\" onclick=\"view_function(event, this.id)\" /></td><td>Success</td><td>('(gs2, rcfc, stepsize=5, maxpoints=20, vtight)', 0.7695555555555557)</td></tr><tr><td>CIS_B0_CIS_B0_S1_p_coumaric_irc_brute_attempt_55</td><td><a href = \"files/p_coumaric/v4/brute_irc/CIS_B0_CIS_B0_S1_p_coumaric_irc_brute_attempt_55.com\" target = \"_blank\">com</a></td><td><input type=\"button\" value=\"Smart Log\" id=\"CIS_B0_CIS_B0_S1_p_coumaric_irc_brute_attempt_55\" onclick=\"view_function(event, this.id)\" /></td><td>Success</td><td>('(gs2, rcfc, stepsize=6, maxpoints=16, vtight)', 0.6392222222222222)</td></tr><tr><td>CIS_B0_CIS_B0_S1_p_coumaric_irc_brute_attempt_56</td><td><a href = \"files/p_coumaric/v4/brute_irc/CIS_B0_CIS_B0_S1_p_coumaric_irc_brute_attempt_56.com\" target = \"_blank\">com</a></td><td><input type=\"button\" value=\"Smart Log\" id=\"CIS_B0_CIS_B0_S1_p_coumaric_irc_brute_attempt_56\" onclick=\"view_function(event, this.id)\" /></td><td>Success</td><td>('(gs2, rcfc, stepsize=7, maxpoints=14, vtight)', 0.5088055555555555)</td></tr><tr><td>CIS_B0_CIS_B0_S1_p_coumaric_irc_brute_attempt_57</td><td><a href = \"files/p_coumaric/v4/brute_irc/CIS_B0_CIS_B0_S1_p_coumaric_irc_brute_attempt_57.com\" target = \"_blank\">com</a></td><td><input type=\"button\" value=\"Smart Log\" id=\"CIS_B0_CIS_B0_S1_p_coumaric_irc_brute_attempt_57\" onclick=\"view_function(event, this.id)\" /></td><td>Success</td><td>('(gs2, rcfc, stepsize=8, maxpoints=12, vtight)', 0.5403888888888889)</td></tr><tr><td>CIS_B0_CIS_B0_S1_p_coumaric_irc_brute_attempt_58</td><td><a href = \"files/p_coumaric/v4/brute_irc/CIS_B0_CIS_B0_S1_p_coumaric_irc_brute_attempt_58.com\" target = \"_blank\">com</a></td><td><input type=\"button\" value=\"Smart Log\" id=\"CIS_B0_CIS_B0_S1_p_coumaric_irc_brute_attempt_58\" onclick=\"view_function(event, this.id)\" /></td><td>Success</td><td>('(gs2, rcfc, stepsize=9, maxpoints=11, vtight)', 0.4916388888888889)</td></tr><tr><td>CIS_B0_CIS_B0_S1_p_coumaric_irc_brute_attempt_59</td><td><a href = \"files/p_coumaric/v4/brute_irc/CIS_B0_CIS_B0_S1_p_coumaric_irc_brute_attempt_59.com\" target = \"_blank\">com</a></td><td><input type=\"button\" value=\"Smart Log\" id=\"CIS_B0_CIS_B0_S1_p_coumaric_irc_brute_attempt_59\" onclick=\"view_function(event, this.id)\" /></td><td>Success</td><td>('(gs2, rcfc, stepsize=10, maxpoints=10, vtight)', 0.49777777777777776)</td></tr><tr><td>CIS_B0_CIS_B0_S1_p_coumaric_irc_2_brute_attempt_0</td><td><a href = \"files/p_coumaric/v4/brute_irc/CIS_B0_CIS_B0_S1_p_coumaric_irc_2_brute_attempt_0.com\" target = \"_blank\">com</a></td><td><input type=\"button\" value=\"Smart Log\" id=\"CIS_B0_CIS_B0_S1_p_coumaric_irc_2_brute_attempt_0\" onclick=\"view_function(event, this.id)\" /></td><td>Success</td><td>('(hpc, rcfc, stepsize=1, maxpoints=100)', 0.011777777777777778)</td></tr><tr><td>CIS_B0_CIS_B0_S1_p_coumaric_irc_2_brute_attempt_1</td><td><a href = \"files/p_coumaric/v4/brute_irc/CIS_B0_CIS_B0_S1_p_coumaric_irc_2_brute_attempt_1.com\" target = \"_blank\">com</a></td><td><input type=\"button\" value=\"Smart Log\" id=\"CIS_B0_CIS_B0_S1_p_coumaric_irc_2_brute_attempt_1\" onclick=\"view_function(event, this.id)\" /></td><td>Success</td><td>('(hpc, rcfc, stepsize=2, maxpoints=50)', 0.011916666666666666)</td></tr><tr><td>CIS_B0_CIS_B0_S1_p_coumaric_irc_2_brute_attempt_2</td><td><a href = \"files/p_coumaric/v4/brute_irc/CIS_B0_CIS_B0_S1_p_coumaric_irc_2_brute_attempt_2.com\" target = \"_blank\">com</a></td><td><input type=\"button\" value=\"Smart Log\" id=\"CIS_B0_CIS_B0_S1_p_coumaric_irc_2_brute_attempt_2\" onclick=\"view_function(event, this.id)\" /></td><td>Success</td><td>('(hpc, rcfc, stepsize=3, maxpoints=33)', 0.011805555555555555)</td></tr><tr><td>CIS_B0_CIS_B0_S1_p_coumaric_irc_2_brute_attempt_3</td><td><a href = \"files/p_coumaric/v4/brute_irc/CIS_B0_CIS_B0_S1_p_coumaric_irc_2_brute_attempt_3.com\" target = \"_blank\">com</a></td><td><input type=\"button\" value=\"Smart Log\" id=\"CIS_B0_CIS_B0_S1_p_coumaric_irc_2_brute_attempt_3\" onclick=\"view_function(event, this.id)\" /></td><td>Success</td><td>('(hpc, rcfc, stepsize=4, maxpoints=25)', 0.011833333333333335)</td></tr><tr><td>CIS_B0_CIS_B0_S1_p_coumaric_irc_2_brute_attempt_4</td><td><a href = \"files/p_coumaric/v4/brute_irc/CIS_B0_CIS_B0_S1_p_coumaric_irc_2_brute_attempt_4.com\" target = \"_blank\">com</a></td><td><input type=\"button\" value=\"Smart Log\" id=\"CIS_B0_CIS_B0_S1_p_coumaric_irc_2_brute_attempt_4\" onclick=\"view_function(event, this.id)\" /></td><td>Success</td><td>('(hpc, rcfc, stepsize=5, maxpoints=20)', 0.012194444444444444)</td></tr><tr><td>CIS_B0_CIS_B0_S1_p_coumaric_irc_2_brute_attempt_5</td><td><a href = \"files/p_coumaric/v4/brute_irc/CIS_B0_CIS_B0_S1_p_coumaric_irc_2_brute_attempt_5.com\" target = \"_blank\">com</a></td><td><input type=\"button\" value=\"Smart Log\" id=\"CIS_B0_CIS_B0_S1_p_coumaric_irc_2_brute_attempt_5\" onclick=\"view_function(event, this.id)\" /></td><td>Success</td><td>('(hpc, rcfc, stepsize=6, maxpoints=16)', 0.01211111111111111)</td></tr><tr><td>CIS_B0_CIS_B0_S1_p_coumaric_irc_2_brute_attempt_6</td><td><a href = \"files/p_coumaric/v4/brute_irc/CIS_B0_CIS_B0_S1_p_coumaric_irc_2_brute_attempt_6.com\" target = \"_blank\">com</a></td><td><input type=\"button\" value=\"Smart Log\" id=\"CIS_B0_CIS_B0_S1_p_coumaric_irc_2_brute_attempt_6\" onclick=\"view_function(event, this.id)\" /></td><td>Success</td><td>('(hpc, rcfc, stepsize=7, maxpoints=14)', 0.14797222222222223)</td></tr><tr><td>CIS_B0_CIS_B0_S1_p_coumaric_irc_2_brute_attempt_7</td><td><a href = \"files/p_coumaric/v4/brute_irc/CIS_B0_CIS_B0_S1_p_coumaric_irc_2_brute_attempt_7.com\" target = \"_blank\">com</a></td><td><input type=\"button\" value=\"Smart Log\" id=\"CIS_B0_CIS_B0_S1_p_coumaric_irc_2_brute_attempt_7\" onclick=\"view_function(event, this.id)\" /></td><td>Success</td><td>('(hpc, rcfc, stepsize=8, maxpoints=12)', 0.13269444444444445)</td></tr><tr><td>CIS_B0_CIS_B0_S1_p_coumaric_irc_2_brute_attempt_8</td><td><a href = \"files/p_coumaric/v4/brute_irc/CIS_B0_CIS_B0_S1_p_coumaric_irc_2_brute_attempt_8.com\" target = \"_blank\">com</a></td><td><input type=\"button\" value=\"Smart Log\" id=\"CIS_B0_CIS_B0_S1_p_coumaric_irc_2_brute_attempt_8\" onclick=\"view_function(event, this.id)\" /></td><td>Success</td><td>('(hpc, rcfc, stepsize=9, maxpoints=11)', 0.1195)</td></tr><tr><td>CIS_B0_CIS_B0_S1_p_coumaric_irc_2_brute_attempt_9</td><td><a href = \"files/p_coumaric/v4/brute_irc/CIS_B0_CIS_B0_S1_p_coumaric_irc_2_brute_attempt_9.com\" target = \"_blank\">com</a></td><td><input type=\"button\" value=\"Smart Log\" id=\"CIS_B0_CIS_B0_S1_p_coumaric_irc_2_brute_attempt_9\" onclick=\"view_function(event, this.id)\" /></td><td>Success</td><td>('(hpc, rcfc, stepsize=10, maxpoints=10)', 0.11586111111111111)</td></tr><tr><td>CIS_B0_CIS_B0_S1_p_coumaric_irc_2_brute_attempt_10</td><td><a href = \"files/p_coumaric/v4/brute_irc/CIS_B0_CIS_B0_S1_p_coumaric_irc_2_brute_attempt_10.com\" target = \"_blank\">com</a></td><td><input type=\"button\" value=\"Smart Log\" id=\"CIS_B0_CIS_B0_S1_p_coumaric_irc_2_brute_attempt_10\" onclick=\"view_function(event, this.id)\" /></td><td>Success</td><td>('(hpc, rcfc, stepsize=1, maxpoints=100, tight)', 0.01225)</td></tr><tr><td>CIS_B0_CIS_B0_S1_p_coumaric_irc_2_brute_attempt_11</td><td><a href = \"files/p_coumaric/v4/brute_irc/CIS_B0_CIS_B0_S1_p_coumaric_irc_2_brute_attempt_11.com\" target = \"_blank\">com</a></td><td><input type=\"button\" value=\"Smart Log\" id=\"CIS_B0_CIS_B0_S1_p_coumaric_irc_2_brute_attempt_11\" onclick=\"view_function(event, this.id)\" /></td><td>Success</td><td>('(hpc, rcfc, stepsize=2, maxpoints=50, tight)', 0.012305555555555554)</td></tr><tr><td>CIS_B0_CIS_B0_S1_p_coumaric_irc_2_brute_attempt_12</td><td><a href = \"files/p_coumaric/v4/brute_irc/CIS_B0_CIS_B0_S1_p_coumaric_irc_2_brute_attempt_12.com\" target = \"_blank\">com</a></td><td><input type=\"button\" value=\"Smart Log\" id=\"CIS_B0_CIS_B0_S1_p_coumaric_irc_2_brute_attempt_12\" onclick=\"view_function(event, this.id)\" /></td><td>Success</td><td>('(hpc, rcfc, stepsize=3, maxpoints=33, tight)', 0.011944444444444445)</td></tr><tr><td>CIS_B0_CIS_B0_S1_p_coumaric_irc_2_brute_attempt_13</td><td><a href = \"files/p_coumaric/v4/brute_irc/CIS_B0_CIS_B0_S1_p_coumaric_irc_2_brute_attempt_13.com\" target = \"_blank\">com</a></td><td><input type=\"button\" value=\"Smart Log\" id=\"CIS_B0_CIS_B0_S1_p_coumaric_irc_2_brute_attempt_13\" onclick=\"view_function(event, this.id)\" /></td><td>Success</td><td>('(hpc, rcfc, stepsize=4, maxpoints=25, tight)', 0.017527777777777778)</td></tr><tr><td>CIS_B0_CIS_B0_S1_p_coumaric_irc_2_brute_attempt_14</td><td><a href = \"files/p_coumaric/v4/brute_irc/CIS_B0_CIS_B0_S1_p_coumaric_irc_2_brute_attempt_14.com\" target = \"_blank\">com</a></td><td><input type=\"button\" value=\"Smart Log\" id=\"CIS_B0_CIS_B0_S1_p_coumaric_irc_2_brute_attempt_14\" onclick=\"view_function(event, this.id)\" /></td><td>Success</td><td>('(hpc, rcfc, stepsize=5, maxpoints=20, tight)', 0.01725)</td></tr><tr><td>CIS_B0_CIS_B0_S1_p_coumaric_irc_2_brute_attempt_15</td><td><a href = \"files/p_coumaric/v4/brute_irc/CIS_B0_CIS_B0_S1_p_coumaric_irc_2_brute_attempt_15.com\" target = \"_blank\">com</a></td><td><input type=\"button\" value=\"Smart Log\" id=\"CIS_B0_CIS_B0_S1_p_coumaric_irc_2_brute_attempt_15\" onclick=\"view_function(event, this.id)\" /></td><td>Success</td><td>('(hpc, rcfc, stepsize=6, maxpoints=16, tight)', 0.507)</td></tr><tr><td>CIS_B0_CIS_B0_S1_p_coumaric_irc_2_brute_attempt_16</td><td><a href = \"files/p_coumaric/v4/brute_irc/CIS_B0_CIS_B0_S1_p_coumaric_irc_2_brute_attempt_16.com\" target = \"_blank\">com</a></td><td><input type=\"button\" value=\"Smart Log\" id=\"CIS_B0_CIS_B0_S1_p_coumaric_irc_2_brute_attempt_16\" onclick=\"view_function(event, this.id)\" /></td><td>Success</td><td>('(hpc, rcfc, stepsize=7, maxpoints=14, tight)', 0.4989722222222222)</td></tr><tr><td>CIS_B0_CIS_B0_S1_p_coumaric_irc_2_brute_attempt_17</td><td><a href = \"files/p_coumaric/v4/brute_irc/CIS_B0_CIS_B0_S1_p_coumaric_irc_2_brute_attempt_17.com\" target = \"_blank\">com</a></td><td><input type=\"button\" value=\"Smart Log\" id=\"CIS_B0_CIS_B0_S1_p_coumaric_irc_2_brute_attempt_17\" onclick=\"view_function(event, this.id)\" /></td><td>Success</td><td>('(hpc, rcfc, stepsize=8, maxpoints=12, tight)', 0.5155833333333333)</td></tr><tr><td>CIS_B0_CIS_B0_S1_p_coumaric_irc_2_brute_attempt_18</td><td><a href = \"files/p_coumaric/v4/brute_irc/CIS_B0_CIS_B0_S1_p_coumaric_irc_2_brute_attempt_18.com\" target = \"_blank\">com</a></td><td><input type=\"button\" value=\"Smart Log\" id=\"CIS_B0_CIS_B0_S1_p_coumaric_irc_2_brute_attempt_18\" onclick=\"view_function(event, this.id)\" /></td><td>Success</td><td>('(hpc, rcfc, stepsize=9, maxpoints=11, tight)', 0.5517777777777778)</td></tr><tr><td>CIS_B0_CIS_B0_S1_p_coumaric_irc_2_brute_attempt_19</td><td><a href = \"files/p_coumaric/v4/brute_irc/CIS_B0_CIS_B0_S1_p_coumaric_irc_2_brute_attempt_19.com\" target = \"_blank\">com</a></td><td><input type=\"button\" value=\"Smart Log\" id=\"CIS_B0_CIS_B0_S1_p_coumaric_irc_2_brute_attempt_19\" onclick=\"view_function(event, this.id)\" /></td><td>Error: Maximum number of corrector steps exceded.</td><td>('(hpc, rcfc, stepsize=10, maxpoints=10, tight)', 0.33155555555555555)</td></tr><tr><td>CIS_B0_CIS_B0_S1_p_coumaric_irc_2_brute_attempt_20</td><td><a href = \"files/p_coumaric/v4/brute_irc/CIS_B0_CIS_B0_S1_p_coumaric_irc_2_brute_attempt_20.com\" target = \"_blank\">com</a></td><td><input type=\"button\" value=\"Smart Log\" id=\"CIS_B0_CIS_B0_S1_p_coumaric_irc_2_brute_attempt_20\" onclick=\"view_function(event, this.id)\" /></td><td>Success</td><td>('(hpc, rcfc, stepsize=1, maxpoints=100, vtight)', 0.025027777777777777)</td></tr><tr><td>CIS_B0_CIS_B0_S1_p_coumaric_irc_2_brute_attempt_21</td><td><a href = \"files/p_coumaric/v4/brute_irc/CIS_B0_CIS_B0_S1_p_coumaric_irc_2_brute_attempt_21.com\" target = \"_blank\">com</a></td><td><input type=\"button\" value=\"Smart Log\" id=\"CIS_B0_CIS_B0_S1_p_coumaric_irc_2_brute_attempt_21\" onclick=\"view_function(event, this.id)\" /></td><td>Success</td><td>('(hpc, rcfc, stepsize=2, maxpoints=50, vtight)', 0.02327777777777778)</td></tr><tr><td>CIS_B0_CIS_B0_S1_p_coumaric_irc_2_brute_attempt_22</td><td><a href = \"files/p_coumaric/v4/brute_irc/CIS_B0_CIS_B0_S1_p_coumaric_irc_2_brute_attempt_22.com\" target = \"_blank\">com</a></td><td><input type=\"button\" value=\"Smart Log\" id=\"CIS_B0_CIS_B0_S1_p_coumaric_irc_2_brute_attempt_22\" onclick=\"view_function(event, this.id)\" /></td><td>Success</td><td>('(hpc, rcfc, stepsize=3, maxpoints=33, vtight)', 0.025027777777777777)</td></tr><tr><td>CIS_B0_CIS_B0_S1_p_coumaric_irc_2_brute_attempt_23</td><td><a href = \"files/p_coumaric/v4/brute_irc/CIS_B0_CIS_B0_S1_p_coumaric_irc_2_brute_attempt_23.com\" target = \"_blank\">com</a></td><td><input type=\"button\" value=\"Smart Log\" id=\"CIS_B0_CIS_B0_S1_p_coumaric_irc_2_brute_attempt_23\" onclick=\"view_function(event, this.id)\" /></td><td>Success</td><td>('(hpc, rcfc, stepsize=4, maxpoints=25, vtight)', 0.02388888888888889)</td></tr><tr><td>CIS_B0_CIS_B0_S1_p_coumaric_irc_2_brute_attempt_24</td><td><a href = \"files/p_coumaric/v4/brute_irc/CIS_B0_CIS_B0_S1_p_coumaric_irc_2_brute_attempt_24.com\" target = \"_blank\">com</a></td><td><input type=\"button\" value=\"Smart Log\" id=\"CIS_B0_CIS_B0_S1_p_coumaric_irc_2_brute_attempt_24\" onclick=\"view_function(event, this.id)\" /></td><td>Success</td><td>('(hpc, rcfc, stepsize=5, maxpoints=20, vtight)', 0.03588888888888889)</td></tr><tr><td>CIS_B0_CIS_B0_S1_p_coumaric_irc_2_brute_attempt_25</td><td><a href = \"files/p_coumaric/v4/brute_irc/CIS_B0_CIS_B0_S1_p_coumaric_irc_2_brute_attempt_25.com\" target = \"_blank\">com</a></td><td><input type=\"button\" value=\"Smart Log\" id=\"CIS_B0_CIS_B0_S1_p_coumaric_irc_2_brute_attempt_25\" onclick=\"view_function(event, this.id)\" /></td><td>Success</td><td>('(hpc, rcfc, stepsize=6, maxpoints=16, vtight)', 0.6284444444444445)</td></tr><tr><td>CIS_B0_CIS_B0_S1_p_coumaric_irc_2_brute_attempt_26</td><td><a href = \"files/p_coumaric/v4/brute_irc/CIS_B0_CIS_B0_S1_p_coumaric_irc_2_brute_attempt_26.com\" target = \"_blank\">com</a></td><td><input type=\"button\" value=\"Smart Log\" id=\"CIS_B0_CIS_B0_S1_p_coumaric_irc_2_brute_attempt_26\" onclick=\"view_function(event, this.id)\" /></td><td>Success</td><td>('(hpc, rcfc, stepsize=7, maxpoints=14, vtight)', 0.6715)</td></tr><tr><td>CIS_B0_CIS_B0_S1_p_coumaric_irc_2_brute_attempt_27</td><td><a href = \"files/p_coumaric/v4/brute_irc/CIS_B0_CIS_B0_S1_p_coumaric_irc_2_brute_attempt_27.com\" target = \"_blank\">com</a></td><td><input type=\"button\" value=\"Smart Log\" id=\"CIS_B0_CIS_B0_S1_p_coumaric_irc_2_brute_attempt_27\" onclick=\"view_function(event, this.id)\" /></td><td>Success</td><td>('(hpc, rcfc, stepsize=8, maxpoints=12, vtight)', 0.6783333333333333)</td></tr><tr><td>CIS_B0_CIS_B0_S1_p_coumaric_irc_2_brute_attempt_28</td><td><a href = \"files/p_coumaric/v4/brute_irc/CIS_B0_CIS_B0_S1_p_coumaric_irc_2_brute_attempt_28.com\" target = \"_blank\">com</a></td><td><input type=\"button\" value=\"Smart Log\" id=\"CIS_B0_CIS_B0_S1_p_coumaric_irc_2_brute_attempt_28\" onclick=\"view_function(event, this.id)\" /></td><td>Error: Maximum number of corrector steps exceded.</td><td>('(hpc, rcfc, stepsize=9, maxpoints=11, vtight)', 0.38316666666666666)</td></tr><tr><td>CIS_B0_CIS_B0_S1_p_coumaric_irc_2_brute_attempt_29</td><td><a href = \"files/p_coumaric/v4/brute_irc/CIS_B0_CIS_B0_S1_p_coumaric_irc_2_brute_attempt_29.com\" target = \"_blank\">com</a></td><td><input type=\"button\" value=\"Smart Log\" id=\"CIS_B0_CIS_B0_S1_p_coumaric_irc_2_brute_attempt_29\" onclick=\"view_function(event, this.id)\" /></td><td>Error: Maximum number of corrector steps exceded.</td><td>('(hpc, rcfc, stepsize=10, maxpoints=10, vtight)', 0.38969444444444445)</td></tr><tr><td>CIS_B0_CIS_B0_S1_p_coumaric_irc_2_brute_attempt_30</td><td><a href = \"files/p_coumaric/v4/brute_irc/CIS_B0_CIS_B0_S1_p_coumaric_irc_2_brute_attempt_30.com\" target = \"_blank\">com</a></td><td><input type=\"button\" value=\"Smart Log\" id=\"CIS_B0_CIS_B0_S1_p_coumaric_irc_2_brute_attempt_30\" onclick=\"view_function(event, this.id)\" /></td><td>Success</td><td>('(gs2, rcfc, stepsize=1, maxpoints=100)', 0.021444444444444443)</td></tr><tr><td>CIS_B0_CIS_B0_S1_p_coumaric_irc_2_brute_attempt_31</td><td><a href = \"files/p_coumaric/v4/brute_irc/CIS_B0_CIS_B0_S1_p_coumaric_irc_2_brute_attempt_31.com\" target = \"_blank\">com</a></td><td><input type=\"button\" value=\"Smart Log\" id=\"CIS_B0_CIS_B0_S1_p_coumaric_irc_2_brute_attempt_31\" onclick=\"view_function(event, this.id)\" /></td><td>Success</td><td>('(gs2, rcfc, stepsize=2, maxpoints=50)', 0.021555555555555557)</td></tr><tr><td>CIS_B0_CIS_B0_S1_p_coumaric_irc_2_brute_attempt_32</td><td><a href = \"files/p_coumaric/v4/brute_irc/CIS_B0_CIS_B0_S1_p_coumaric_irc_2_brute_attempt_32.com\" target = \"_blank\">com</a></td><td><input type=\"button\" value=\"Smart Log\" id=\"CIS_B0_CIS_B0_S1_p_coumaric_irc_2_brute_attempt_32\" onclick=\"view_function(event, this.id)\" /></td><td>Success</td><td>('(gs2, rcfc, stepsize=3, maxpoints=33)', 0.0215)</td></tr><tr><td>CIS_B0_CIS_B0_S1_p_coumaric_irc_2_brute_attempt_33</td><td><a href = \"files/p_coumaric/v4/brute_irc/CIS_B0_CIS_B0_S1_p_coumaric_irc_2_brute_attempt_33.com\" target = \"_blank\">com</a></td><td><input type=\"button\" value=\"Smart Log\" id=\"CIS_B0_CIS_B0_S1_p_coumaric_irc_2_brute_attempt_33\" onclick=\"view_function(event, this.id)\" /></td><td>Success</td><td>('(gs2, rcfc, stepsize=4, maxpoints=25)', 0.023416666666666665)</td></tr><tr><td>CIS_B0_CIS_B0_S1_p_coumaric_irc_2_brute_attempt_34</td><td><a href = \"files/p_coumaric/v4/brute_irc/CIS_B0_CIS_B0_S1_p_coumaric_irc_2_brute_attempt_34.com\" target = \"_blank\">com</a></td><td><input type=\"button\" value=\"Smart Log\" id=\"CIS_B0_CIS_B0_S1_p_coumaric_irc_2_brute_attempt_34\" onclick=\"view_function(event, this.id)\" /></td><td>Success</td><td>('(gs2, rcfc, stepsize=5, maxpoints=20)', 0.02175)</td></tr><tr><td>CIS_B0_CIS_B0_S1_p_coumaric_irc_2_brute_attempt_35</td><td><a href = \"files/p_coumaric/v4/brute_irc/CIS_B0_CIS_B0_S1_p_coumaric_irc_2_brute_attempt_35.com\" target = \"_blank\">com</a></td><td><input type=\"button\" value=\"Smart Log\" id=\"CIS_B0_CIS_B0_S1_p_coumaric_irc_2_brute_attempt_35\" onclick=\"view_function(event, this.id)\" /></td><td>Success</td><td>('(gs2, rcfc, stepsize=6, maxpoints=16)', 0.56025)</td></tr><tr><td>CIS_B0_CIS_B0_S1_p_coumaric_irc_2_brute_attempt_36</td><td><a href = \"files/p_coumaric/v4/brute_irc/CIS_B0_CIS_B0_S1_p_coumaric_irc_2_brute_attempt_36.com\" target = \"_blank\">com</a></td><td><input type=\"button\" value=\"Smart Log\" id=\"CIS_B0_CIS_B0_S1_p_coumaric_irc_2_brute_attempt_36\" onclick=\"view_function(event, this.id)\" /></td><td>Success</td><td>('(gs2, rcfc, stepsize=7, maxpoints=14)', 0.4707222222222222)</td></tr><tr><td>CIS_B0_CIS_B0_S1_p_coumaric_irc_2_brute_attempt_37</td><td><a href = \"files/p_coumaric/v4/brute_irc/CIS_B0_CIS_B0_S1_p_coumaric_irc_2_brute_attempt_37.com\" target = \"_blank\">com</a></td><td><input type=\"button\" value=\"Smart Log\" id=\"CIS_B0_CIS_B0_S1_p_coumaric_irc_2_brute_attempt_37\" onclick=\"view_function(event, this.id)\" /></td><td>Success</td><td>('(gs2, rcfc, stepsize=8, maxpoints=12)', 0.46322222222222226)</td></tr><tr><td>CIS_B0_CIS_B0_S1_p_coumaric_irc_2_brute_attempt_38</td><td><a href = \"files/p_coumaric/v4/brute_irc/CIS_B0_CIS_B0_S1_p_coumaric_irc_2_brute_attempt_38.com\" target = \"_blank\">com</a></td><td><input type=\"button\" value=\"Smart Log\" id=\"CIS_B0_CIS_B0_S1_p_coumaric_irc_2_brute_attempt_38\" onclick=\"view_function(event, this.id)\" /></td><td>Success</td><td>('(gs2, rcfc, stepsize=9, maxpoints=11)', 0.4439444444444445)</td></tr><tr><td>CIS_B0_CIS_B0_S1_p_coumaric_irc_2_brute_attempt_39</td><td><a href = \"files/p_coumaric/v4/brute_irc/CIS_B0_CIS_B0_S1_p_coumaric_irc_2_brute_attempt_39.com\" target = \"_blank\">com</a></td><td><input type=\"button\" value=\"Smart Log\" id=\"CIS_B0_CIS_B0_S1_p_coumaric_irc_2_brute_attempt_39\" onclick=\"view_function(event, this.id)\" /></td><td>Error: GS2 Optimization Failure.</td><td>('(gs2, rcfc, stepsize=10, maxpoints=10)', 0.3570833333333333)</td></tr><tr><td>CIS_B0_CIS_B0_S1_p_coumaric_irc_2_brute_attempt_40</td><td><a href = \"files/p_coumaric/v4/brute_irc/CIS_B0_CIS_B0_S1_p_coumaric_irc_2_brute_attempt_40.com\" target = \"_blank\">com</a></td><td><input type=\"button\" value=\"Smart Log\" id=\"CIS_B0_CIS_B0_S1_p_coumaric_irc_2_brute_attempt_40\" onclick=\"view_function(event, this.id)\" /></td><td>Success</td><td>('(gs2, rcfc, stepsize=1, maxpoints=100, tight)', 0.021583333333333333)</td></tr><tr><td>CIS_B0_CIS_B0_S1_p_coumaric_irc_2_brute_attempt_41</td><td><a href = \"files/p_coumaric/v4/brute_irc/CIS_B0_CIS_B0_S1_p_coumaric_irc_2_brute_attempt_41.com\" target = \"_blank\">com</a></td><td><input type=\"button\" value=\"Smart Log\" id=\"CIS_B0_CIS_B0_S1_p_coumaric_irc_2_brute_attempt_41\" onclick=\"view_function(event, this.id)\" /></td><td>Success</td><td>('(gs2, rcfc, stepsize=2, maxpoints=50, tight)', 0.021638888888888888)</td></tr><tr><td>CIS_B0_CIS_B0_S1_p_coumaric_irc_2_brute_attempt_42</td><td><a href = \"files/p_coumaric/v4/brute_irc/CIS_B0_CIS_B0_S1_p_coumaric_irc_2_brute_attempt_42.com\" target = \"_blank\">com</a></td><td><input type=\"button\" value=\"Smart Log\" id=\"CIS_B0_CIS_B0_S1_p_coumaric_irc_2_brute_attempt_42\" onclick=\"view_function(event, this.id)\" /></td><td>Success</td><td>('(gs2, rcfc, stepsize=3, maxpoints=33, tight)', 0.03138888888888889)</td></tr><tr><td>CIS_B0_CIS_B0_S1_p_coumaric_irc_2_brute_attempt_43</td><td><a href = \"files/p_coumaric/v4/brute_irc/CIS_B0_CIS_B0_S1_p_coumaric_irc_2_brute_attempt_43.com\" target = \"_blank\">com</a></td><td><input type=\"button\" value=\"Smart Log\" id=\"CIS_B0_CIS_B0_S1_p_coumaric_irc_2_brute_attempt_43\" onclick=\"view_function(event, this.id)\" /></td><td>Success</td><td>('(gs2, rcfc, stepsize=4, maxpoints=25, tight)', 0.03136111111111111)</td></tr><tr><td>CIS_B0_CIS_B0_S1_p_coumaric_irc_2_brute_attempt_44</td><td><a href = \"files/p_coumaric/v4/brute_irc/CIS_B0_CIS_B0_S1_p_coumaric_irc_2_brute_attempt_44.com\" target = \"_blank\">com</a></td><td><input type=\"button\" value=\"Smart Log\" id=\"CIS_B0_CIS_B0_S1_p_coumaric_irc_2_brute_attempt_44\" onclick=\"view_function(event, this.id)\" /></td><td>Success</td><td>('(gs2, rcfc, stepsize=5, maxpoints=20, tight)', 0.03161111111111111)</td></tr><tr><td>CIS_B0_CIS_B0_S1_p_coumaric_irc_2_brute_attempt_45</td><td><a href = \"files/p_coumaric/v4/brute_irc/CIS_B0_CIS_B0_S1_p_coumaric_irc_2_brute_attempt_45.com\" target = \"_blank\">com</a></td><td><input type=\"button\" value=\"Smart Log\" id=\"CIS_B0_CIS_B0_S1_p_coumaric_irc_2_brute_attempt_45\" onclick=\"view_function(event, this.id)\" /></td><td>Success</td><td>('(gs2, rcfc, stepsize=6, maxpoints=16, tight)', 1.0099444444444445)</td></tr><tr><td>CIS_B0_CIS_B0_S1_p_coumaric_irc_2_brute_attempt_46</td><td><a href = \"files/p_coumaric/v4/brute_irc/CIS_B0_CIS_B0_S1_p_coumaric_irc_2_brute_attempt_46.com\" target = \"_blank\">com</a></td><td><input type=\"button\" value=\"Smart Log\" id=\"CIS_B0_CIS_B0_S1_p_coumaric_irc_2_brute_attempt_46\" onclick=\"view_function(event, this.id)\" /></td><td>Error: GS2 Optimization Failure.</td><td>('(gs2, rcfc, stepsize=7, maxpoints=14, tight)', 0.5492777777777778)</td></tr><tr><td>CIS_B0_CIS_B0_S1_p_coumaric_irc_2_brute_attempt_47</td><td><a href = \"files/p_coumaric/v4/brute_irc/CIS_B0_CIS_B0_S1_p_coumaric_irc_2_brute_attempt_47.com\" target = \"_blank\">com</a></td><td><input type=\"button\" value=\"Smart Log\" id=\"CIS_B0_CIS_B0_S1_p_coumaric_irc_2_brute_attempt_47\" onclick=\"view_function(event, this.id)\" /></td><td>Error: GS2 Optimization Failure.</td><td>('(gs2, rcfc, stepsize=8, maxpoints=12, tight)', 0.4756666666666667)</td></tr><tr><td>CIS_B0_CIS_B0_S1_p_coumaric_irc_2_brute_attempt_48</td><td><a href = \"files/p_coumaric/v4/brute_irc/CIS_B0_CIS_B0_S1_p_coumaric_irc_2_brute_attempt_48.com\" target = \"_blank\">com</a></td><td><input type=\"button\" value=\"Smart Log\" id=\"CIS_B0_CIS_B0_S1_p_coumaric_irc_2_brute_attempt_48\" onclick=\"view_function(event, this.id)\" /></td><td>Error: GS2 Optimization Failure.</td><td>('(gs2, rcfc, stepsize=9, maxpoints=11, tight)', 0.4984722222222222)</td></tr><tr><td>CIS_B0_CIS_B0_S1_p_coumaric_irc_2_brute_attempt_49</td><td><a href = \"files/p_coumaric/v4/brute_irc/CIS_B0_CIS_B0_S1_p_coumaric_irc_2_brute_attempt_49.com\" target = \"_blank\">com</a></td><td><input type=\"button\" value=\"Smart Log\" id=\"CIS_B0_CIS_B0_S1_p_coumaric_irc_2_brute_attempt_49\" onclick=\"view_function(event, this.id)\" /></td><td>Error: GS2 Optimization Failure.</td><td>('(gs2, rcfc, stepsize=10, maxpoints=10, tight)', 0.3373611111111111)</td></tr><tr><td>CIS_B0_CIS_B0_S1_p_coumaric_irc_2_brute_attempt_50</td><td><a href = \"files/p_coumaric/v4/brute_irc/CIS_B0_CIS_B0_S1_p_coumaric_irc_2_brute_attempt_50.com\" target = \"_blank\">com</a></td><td><input type=\"button\" value=\"Smart Log\" id=\"CIS_B0_CIS_B0_S1_p_coumaric_irc_2_brute_attempt_50\" onclick=\"view_function(event, this.id)\" /></td><td>Success</td><td>('(gs2, rcfc, stepsize=1, maxpoints=100, vtight)', 0.02)</td></tr><tr><td>CIS_B0_CIS_B0_S1_p_coumaric_irc_2_brute_attempt_51</td><td><a href = \"files/p_coumaric/v4/brute_irc/CIS_B0_CIS_B0_S1_p_coumaric_irc_2_brute_attempt_51.com\" target = \"_blank\">com</a></td><td><input type=\"button\" value=\"Smart Log\" id=\"CIS_B0_CIS_B0_S1_p_coumaric_irc_2_brute_attempt_51\" onclick=\"view_function(event, this.id)\" /></td><td>Success</td><td>('(gs2, rcfc, stepsize=2, maxpoints=50, vtight)', 0.029333333333333333)</td></tr><tr><td>CIS_B0_CIS_B0_S1_p_coumaric_irc_2_brute_attempt_52</td><td><a href = \"files/p_coumaric/v4/brute_irc/CIS_B0_CIS_B0_S1_p_coumaric_irc_2_brute_attempt_52.com\" target = \"_blank\">com</a></td><td><input type=\"button\" value=\"Smart Log\" id=\"CIS_B0_CIS_B0_S1_p_coumaric_irc_2_brute_attempt_52\" onclick=\"view_function(event, this.id)\" /></td><td>Success</td><td>('(gs2, rcfc, stepsize=3, maxpoints=33, vtight)', 0.029444444444444447)</td></tr><tr><td>CIS_B0_CIS_B0_S1_p_coumaric_irc_2_brute_attempt_53</td><td><a href = \"files/p_coumaric/v4/brute_irc/CIS_B0_CIS_B0_S1_p_coumaric_irc_2_brute_attempt_53.com\" target = \"_blank\">com</a></td><td><input type=\"button\" value=\"Smart Log\" id=\"CIS_B0_CIS_B0_S1_p_coumaric_irc_2_brute_attempt_53\" onclick=\"view_function(event, this.id)\" /></td><td>Success</td><td>('(gs2, rcfc, stepsize=4, maxpoints=25, vtight)', 0.029638888888888888)</td></tr><tr><td>CIS_B0_CIS_B0_S1_p_coumaric_irc_2_brute_attempt_54</td><td><a href = \"files/p_coumaric/v4/brute_irc/CIS_B0_CIS_B0_S1_p_coumaric_irc_2_brute_attempt_54.com\" target = \"_blank\">com</a></td><td><input type=\"button\" value=\"Smart Log\" id=\"CIS_B0_CIS_B0_S1_p_coumaric_irc_2_brute_attempt_54\" onclick=\"view_function(event, this.id)\" /></td><td>Error: GS2 Optimization Failure.</td><td>('(gs2, rcfc, stepsize=5, maxpoints=20, vtight)', 0.09316666666666666)</td></tr><tr><td>CIS_B0_CIS_B0_S1_p_coumaric_irc_2_brute_attempt_55</td><td><a href = \"files/p_coumaric/v4/brute_irc/CIS_B0_CIS_B0_S1_p_coumaric_irc_2_brute_attempt_55.com\" target = \"_blank\">com</a></td><td><input type=\"button\" value=\"Smart Log\" id=\"CIS_B0_CIS_B0_S1_p_coumaric_irc_2_brute_attempt_55\" onclick=\"view_function(event, this.id)\" /></td><td>Error: GS2 Optimization Failure.</td><td>('(gs2, rcfc, stepsize=6, maxpoints=16, vtight)', 0.6764166666666667)</td></tr><tr><td>CIS_B0_CIS_B0_S1_p_coumaric_irc_2_brute_attempt_56</td><td><a href = \"files/p_coumaric/v4/brute_irc/CIS_B0_CIS_B0_S1_p_coumaric_irc_2_brute_attempt_56.com\" target = \"_blank\">com</a></td><td><input type=\"button\" value=\"Smart Log\" id=\"CIS_B0_CIS_B0_S1_p_coumaric_irc_2_brute_attempt_56\" onclick=\"view_function(event, this.id)\" /></td><td>Error: GS2 Optimization Failure.</td><td>('(gs2, rcfc, stepsize=7, maxpoints=14, vtight)', 0.6344722222222222)</td></tr><tr><td>CIS_B0_CIS_B0_S1_p_coumaric_irc_2_brute_attempt_57</td><td><a href = \"files/p_coumaric/v4/brute_irc/CIS_B0_CIS_B0_S1_p_coumaric_irc_2_brute_attempt_57.com\" target = \"_blank\">com</a></td><td><input type=\"button\" value=\"Smart Log\" id=\"CIS_B0_CIS_B0_S1_p_coumaric_irc_2_brute_attempt_57\" onclick=\"view_function(event, this.id)\" /></td><td>Error: GS2 Optimization Failure.</td><td>('(gs2, rcfc, stepsize=8, maxpoints=12, vtight)', 0.5765555555555555)</td></tr><tr><td>CIS_B0_CIS_B0_S1_p_coumaric_irc_2_brute_attempt_58</td><td><a href = \"files/p_coumaric/v4/brute_irc/CIS_B0_CIS_B0_S1_p_coumaric_irc_2_brute_attempt_58.com\" target = \"_blank\">com</a></td><td><input type=\"button\" value=\"Smart Log\" id=\"CIS_B0_CIS_B0_S1_p_coumaric_irc_2_brute_attempt_58\" onclick=\"view_function(event, this.id)\" /></td><td>Error: GS2 Optimization Failure.</td><td>('(gs2, rcfc, stepsize=9, maxpoints=11, vtight)', 0.09391666666666666)</td></tr><tr><td>CIS_B0_CIS_B0_S1_p_coumaric_irc_2_brute_attempt_59</td><td><a href = \"files/p_coumaric/v4/brute_irc/CIS_B0_CIS_B0_S1_p_coumaric_irc_2_brute_attempt_59.com\" target = \"_blank\">com</a></td><td><input type=\"button\" value=\"Smart Log\" id=\"CIS_B0_CIS_B0_S1_p_coumaric_irc_2_brute_attempt_59\" onclick=\"view_function(event, this.id)\" /></td><td>Error: GS2 Optimization Failure.</td><td>('(gs2, rcfc, stepsize=10, maxpoints=10, vtight)', 0.094)</td></tr>\n",
        "    </table>\n",
        "    </body>"
       ],
       "output_type": "pyout",
       "prompt_number": 22,
       "text": [
        "<IPython.core.display.HTML at 0x4b83550>"
       ]
      }
     ],
     "prompt_number": "*"
    },
    {
     "cell_type": "heading",
     "level": 3,
     "metadata": {},
     "source": [
      "Extend an s1_irc that appears to work:"
     ]
    },
    {
     "cell_type": "code",
     "collapsed": false,
     "input": [
      "s1_sto_irc = copy.deepcopy(s1_sto_ts)\n",
      "s1_sto_irc.calc.restart(label='CIS_B0_CIS_B0_S1_p_coumaric_irc', irc='(rcfc, stepsize=9, maxpoints=100)', scf='qc', freq='', opt='')\n",
      "s1_sto_irc.calc.set_job(nodes=16, memory=16*1500, time=10,queue='pqmb', version='g09')  "
     ],
     "language": "python",
     "metadata": {},
     "outputs": [],
     "prompt_number": "*"
    },
    {
     "cell_type": "code",
     "collapsed": false,
     "input": [
      "s1_sto_reverse_irc = copy.deepcopy(s1_sto_ts)\n",
      "s1_sto_reverse_irc.calc.restart(label='CIS_B0_CIS_B0_S1_p_coumaric_reverse_irc', irc='(rcfc, reverse, stepsize=9, maxpoints=100, tight)', scf='qc', freq='', opt='')\n",
      "s1_sto_reverse_irc.calc.set_job(nodes=16, memory=16*1500, time=10,queue='pqmb', version='g09')  "
     ],
     "language": "python",
     "metadata": {},
     "outputs": [],
     "prompt_number": "*"
    },
    {
     "cell_type": "code",
     "collapsed": false,
     "input": [
      "check_calcs([s1_sto_irc, s1_sto_reverse_irc], depth='heavy')\n",
      "mols_to_html([s1_sto_irc, s1_sto_reverse_irc])"
     ],
     "language": "python",
     "metadata": {},
     "outputs": [
      {
       "html": [
        "\n",
        "           <script type=\"text/javascript\">\n",
        "           function view_function (event, file_n) {\n",
        "               if (event.ctrlKey && event.shiftKey){\n",
        "                   IPython.notebook.kernel.execute(\"cc_notebook_utils.pygview('\" + file_n + \".log')\");\n",
        "               }\n",
        "               else if (event.ctrlKey){\n",
        "                   IPython.notebook.kernel.execute(\"cc_notebook_utils.pygausssum('\" + file_n + \".log')\");\n",
        "               }\n",
        "               else if (event.shiftKey){\n",
        "                   IPython.notebook.kernel.execute(\"cc_notebook_utils.pyvogadro('\" + file_n + \".log')\");\n",
        "               }\n",
        "               else {\n",
        "                   IPython.notebook.kernel.execute(\"cc_notebook_utils.pyvim('\" + file_n + \".log')\");\n",
        "                   IPython.notebook.kernel.execute(\"print(file_n)\");\n",
        "               }\n",
        "           }\n",
        "           </script>\n",
        "    <style>\n",
        "    table\n",
        "    {\n",
        "        border-collapse:collapse;\n",
        "    }\n",
        "    td\n",
        "    {\n",
        "        padding:15px;\n",
        "    }\n",
        "    </style>\n",
        "    <body>\n",
        "    <table bgcolor=\"white\">\n",
        "    <col/><tr><td>CIS_B0_CIS_B0_S1_p_coumaric_irc</td><td><a href = \"files/p_coumaric/v4/brute_irc/CIS_B0_CIS_B0_S1_p_coumaric_irc.com\" target = \"_blank\">com</a></td><td><input type=\"button\" value=\"Smart Log\" id=\"CIS_B0_CIS_B0_S1_p_coumaric_irc\" onclick=\"view_function(event, this.id)\" /></td><td>Success</td></tr><tr><td>CIS_B0_CIS_B0_S1_p_coumaric_reverse_irc</td><td><a href = \"files/p_coumaric/v4/brute_irc/CIS_B0_CIS_B0_S1_p_coumaric_reverse_irc.com\" target = \"_blank\">com</a></td><td><input type=\"button\" value=\"Smart Log\" id=\"CIS_B0_CIS_B0_S1_p_coumaric_reverse_irc\" onclick=\"view_function(event, this.id)\" /></td><td>Error: Maximum number of corrector steps exceded.</td></tr>\n",
        "    </table>\n",
        "    </body>"
       ],
       "output_type": "pyout",
       "prompt_number": 25,
       "text": [
        "<IPython.core.display.HTML at 0x3eb1790>"
       ]
      }
     ],
     "prompt_number": "*"
    },
    {
     "cell_type": "code",
     "collapsed": false,
     "input": [
      "#gen_movie('sto_irc_attempt',s1_sto_irc.calc.fchk_data.irc_frames)\n",
      "#!avogadro sto_irc_attempt.xyz"
     ],
     "language": "python",
     "metadata": {},
     "outputs": [],
     "prompt_number": "*"
    },
    {
     "cell_type": "code",
     "collapsed": false,
     "input": [
      "#the irc component that moves us towards the trans minima succeeds however the the componene that moves us towards the twisted minima is failing, so we will take the closest point and run an optimisation to see where it goes\n",
      "\n",
      "#s1_sto_cis_attempt = s1_sto_irc.calc.fchk_data.irc_frames[-1]\n",
      "#s1_sto_cis_attempt.set_calculator(Gaussian(label = 'CIS_B0_CIS_B0_S1_p_coumaric_cis_attempt', basis='STO-3G', method='CIS', opt='opt', scf='qc', freq='freq'))\n",
      "#s1_sto_cis_attempt.calc.set_job(nodes=8, memory=8*1500, time=5,queue='pqmb', version='g09')"
     ],
     "language": "python",
     "metadata": {},
     "outputs": [],
     "prompt_number": "*"
    },
    {
     "cell_type": "code",
     "collapsed": false,
     "input": [
      "#s1_sto_cis_attempt = s1_sto_irc.calc.fchk_data.irc_frames[-1]\n",
      "#s1_sto_cis_attempt.set_calculator(Gaussian(label = 'CIS_B0_CIS_B0_S1_p_coumaric_cis_attempt2', basis='STO-3G', method='CIS', opt='calcall', scf='qc', freq='freq'))\n",
      "#s1_sto_cis_attempt.calc.set_job(nodes=8, memory=8*1500, time=10,queue='pqmb', version='g09')"
     ],
     "language": "python",
     "metadata": {},
     "outputs": [],
     "prompt_number": "*"
    },
    {
     "cell_type": "code",
     "collapsed": false,
     "input": [
      "#s1_sto_cis_attempt = s1_sto_irc.calc.fchk_data.irc_frames[-1]\n",
      "#s1_sto_cis_attempt.set_calculator(Gaussian(label = 'CIS_B0_CIS_B0_S1_p_coumaric_cis_attempt3', basis='STO-3G', method='CIS', opt='calcall, verytight', scf='qc', freq='freq'))\n",
      "#s1_sto_cis_attempt.calc.set_job(nodes=16, memory=16*1500, time=10,queue='pqmb', version='g09')"
     ],
     "language": "python",
     "metadata": {},
     "outputs": [],
     "prompt_number": "*"
    },
    {
     "cell_type": "markdown",
     "metadata": {},
     "source": [
      "The above attempts increases the strictness of convergence for this is pointless as our problem is that even with the defaults we are not converging. Instead we need to decrease the step size"
     ]
    },
    {
     "cell_type": "code",
     "collapsed": false,
     "input": [
      "#s1_sto_cis_attempt = s1_sto_irc.calc.fchk_data.irc_frames[-1]\n",
      "#s1_sto_cis_attempt.set_calculator(Gaussian(label = 'CIS_B0_CIS_B0_S1_p_coumaric_cis_attempt4', basis='STO-3G', method='CIS', opt='maxstep=5', scf='qc', freq='freq'))\n",
      "#s1_sto_cis_attempt.calc.set_job(nodes=16, memory=16*1500, time=10,queue='pqmb', version='g09')"
     ],
     "language": "python",
     "metadata": {},
     "outputs": [],
     "prompt_number": "*"
    },
    {
     "cell_type": "code",
     "collapsed": false,
     "input": [
      "s1_sto_cis_attempt = s1_sto_irc.calc.fchk_data.irc_frames[-1]\n",
      "s1_sto_cis_attempt.set_calculator(Gaussian(label = 'CIS_B0_CIS_B0_S1_p_coumaric_cis_attempt5', basis='STO-3G', method='CIS', opt='calcall, maxstep=1', scf='qc', freq='freq'))\n",
      "s1_sto_cis_attempt.calc.set_job(nodes=16, memory=16*1500, time=10,queue='pqmb', version='g09')\n",
      "check_calcs([s1_sto_cis_attempt])\n",
      "mols_to_html([s1_sto_cis_attempt])"
     ],
     "language": "python",
     "metadata": {},
     "outputs": [
      {
       "html": [
        "\n",
        "           <script type=\"text/javascript\">\n",
        "           function view_function (event, file_n) {\n",
        "               if (event.ctrlKey && event.shiftKey){\n",
        "                   IPython.notebook.kernel.execute(\"cc_notebook_utils.pygview('\" + file_n + \".log')\");\n",
        "               }\n",
        "               else if (event.ctrlKey){\n",
        "                   IPython.notebook.kernel.execute(\"cc_notebook_utils.pygausssum('\" + file_n + \".log')\");\n",
        "               }\n",
        "               else if (event.shiftKey){\n",
        "                   IPython.notebook.kernel.execute(\"cc_notebook_utils.pyvogadro('\" + file_n + \".log')\");\n",
        "               }\n",
        "               else {\n",
        "                   IPython.notebook.kernel.execute(\"cc_notebook_utils.pyvim('\" + file_n + \".log')\");\n",
        "                   IPython.notebook.kernel.execute(\"print(file_n)\");\n",
        "               }\n",
        "           }\n",
        "           </script>\n",
        "    <style>\n",
        "    table\n",
        "    {\n",
        "        border-collapse:collapse;\n",
        "    }\n",
        "    td\n",
        "    {\n",
        "        padding:15px;\n",
        "    }\n",
        "    </style>\n",
        "    <body>\n",
        "    <table bgcolor=\"white\">\n",
        "    <col/><tr><td>CIS_B0_CIS_B0_S1_p_coumaric_cis_attempt5</td><td><a href = \"files/p_coumaric/v4/brute_irc/CIS_B0_CIS_B0_S1_p_coumaric_cis_attempt5.com\" target = \"_blank\">com</a></td><td><input type=\"button\" value=\"Smart Log\" id=\"CIS_B0_CIS_B0_S1_p_coumaric_cis_attempt5\" onclick=\"view_function(event, this.id)\" /></td><td>Error: </td></tr>\n",
        "    </table>\n",
        "    </body>"
       ],
       "output_type": "pyout",
       "prompt_number": 31,
       "text": [
        "<IPython.core.display.HTML at 0x559d790>"
       ]
      }
     ],
     "prompt_number": "*"
    },
    {
     "cell_type": "markdown",
     "metadata": {},
     "source": [
      "The optimisations fail, as I realize that HF/CIS is an inappropriate method (see below) I do not follow this up any further"
     ]
    },
    {
     "cell_type": "heading",
     "level": 3,
     "metadata": {},
     "source": [
      "Check s0_ts stability:"
     ]
    },
    {
     "cell_type": "code",
     "collapsed": false,
     "input": [
      "s0_sto_stable_test = copy.deepcopy(s0_sto_ts)\n",
      "s0_sto_stable_test.calc.restart(label='HF_B0_HF_B0_S0_p_coumaric_ts_stable', opt ='', freq='', stable='opt')\n",
      "s0_sto_stable_test.calc.set_job(nodes=8, memory=8*1500, time=1,queue='pqmb', version='g09')\n",
      "check_calcs([s0_sto_stable_test])\n",
      "mols_to_html([s0_sto_stable_test])"
     ],
     "language": "python",
     "metadata": {},
     "outputs": [
      {
       "html": [
        "\n",
        "           <script type=\"text/javascript\">\n",
        "           function view_function (event, file_n) {\n",
        "               if (event.ctrlKey && event.shiftKey){\n",
        "                   IPython.notebook.kernel.execute(\"cc_notebook_utils.pygview('\" + file_n + \".log')\");\n",
        "               }\n",
        "               else if (event.ctrlKey){\n",
        "                   IPython.notebook.kernel.execute(\"cc_notebook_utils.pygausssum('\" + file_n + \".log')\");\n",
        "               }\n",
        "               else if (event.shiftKey){\n",
        "                   IPython.notebook.kernel.execute(\"cc_notebook_utils.pyvogadro('\" + file_n + \".log')\");\n",
        "               }\n",
        "               else {\n",
        "                   IPython.notebook.kernel.execute(\"cc_notebook_utils.pyvim('\" + file_n + \".log')\");\n",
        "                   IPython.notebook.kernel.execute(\"print(file_n)\");\n",
        "               }\n",
        "           }\n",
        "           </script>\n",
        "    <style>\n",
        "    table\n",
        "    {\n",
        "        border-collapse:collapse;\n",
        "    }\n",
        "    td\n",
        "    {\n",
        "        padding:15px;\n",
        "    }\n",
        "    </style>\n",
        "    <body>\n",
        "    <table bgcolor=\"white\">\n",
        "    <col/><tr><td>HF_B0_HF_B0_S0_p_coumaric_ts_stable</td><td><a href = \"files/p_coumaric/v4/brute_irc/HF_B0_HF_B0_S0_p_coumaric_ts_stable.com\" target = \"_blank\">com</a></td><td><input type=\"button\" value=\"Smart Log\" id=\"HF_B0_HF_B0_S0_p_coumaric_ts_stable\" onclick=\"view_function(event, this.id)\" /></td><td>Success</td></tr>\n",
        "    </table>\n",
        "    </body>"
       ],
       "output_type": "pyout",
       "prompt_number": 32,
       "text": [
        "<IPython.core.display.HTML at 0x559d250>"
       ]
      }
     ],
     "prompt_number": "*"
    },
    {
     "cell_type": "markdown",
     "metadata": {},
     "source": [
      "HF transition state has an RHF->UHF instability - we're breaking a bond, HF (and methods that use the HF reference like CIS) will fail in this instance, **RHF/CIS is not an appropriate method choice for this problem.**"
     ]
    },
    {
     "cell_type": "heading",
     "level": 3,
     "metadata": {},
     "source": [
      "Additional calculations:"
     ]
    },
    {
     "cell_type": "code",
     "collapsed": false,
     "input": [
      "#The irc fails when running the reverse part which moves the system from the transition state towards the minimum, even if we take the point that the irc reaches and the run a straight geometry optimisation using calcall and minimal stepsizes the optimisation still fails. I have been using scf=qc because there were scf convergence problems I attributed to being so close to the conical intersection but perhaps there are stability issues which are wreaking havoc with the optimisation.\n",
      "\n",
      "test_calc = s1_sto_irc.calc.fchk_data.irc_frames[-1]\n",
      "test_calc.set_calculator(Gaussian(label = 'CIS_B0_CIS_B0_S1_p_coumaric_cis_test1', basis='STO-3G', method='CIS', opt='', freq='freq'))\n",
      "test_calc.calc.set_job(nodes=8, memory=8*1500, time=1,queue='pqmb', version='g09')\n",
      "#check_calcs([test_calc],frc=True)"
     ],
     "language": "python",
     "metadata": {},
     "outputs": [],
     "prompt_number": "*"
    },
    {
     "cell_type": "markdown",
     "metadata": {},
     "source": [
      "The last point of the reverse IRC has no scf problems, in an attempt to help the optimisation process I displaced the molecule along the highest frequency mode and restarted it - this assumed that we were not at a minima wrt. this mode which might not have been true. However the attempt revealed a problem. "
     ]
    },
    {
     "cell_type": "code",
     "collapsed": false,
     "input": [
      "##THIS FAILS\n",
      "viz_highest_eig = []\n",
      "for i in linspace(-1,1,50):\n",
      "    temp_calc = s1_sto_irc.calc.fchk_data.irc_frames[-1]\n",
      "    temp_calc.positions += i*array(test_calc.calc.max_data['vibdisps'][-1])\n",
      "    viz_highest_eig.append(temp_calc)\n",
      "#gen_movie('disp_along_highest_eig', viz_highest_eig)\n",
      "#!avogadro disp_along_highest_eig.xyz"
     ],
     "language": "python",
     "metadata": {},
     "outputs": [],
     "prompt_number": "*"
    },
    {
     "cell_type": "markdown",
     "metadata": {},
     "source": [
      "Visualizing the eigenvector in gaussview and examining it above by generating frames adding between -1 and +1 of the eigenvector resulted in different motion. \n",
      "\n",
      "This is because we ran the IRC calculation with the nosymmetry keyword but the frequency calculation without. Absent nosym Gaussian changes to it's own standard coordinate frame so the failure was because the original coordinates and the normal modes were using a different coordinate basis. In this case we solve the problem by performing the frequency calculation using nosym to match the irc"
     ]
    },
    {
     "cell_type": "code",
     "collapsed": false,
     "input": [
      "test_calc_2 = s1_sto_irc.calc.fchk_data.irc_frames[-1]\n",
      "test_calc_2.set_calculator(Gaussian(label = 'CIS_B0_CIS_B0_S1_p_coumaric_cis_test2', basis='STO-3G', method='CIS', opt='', freq='freq', nosymmetry='nosymmetry'))\n",
      "test_calc_2.calc.set_job(nodes=8, memory=8*1500, time=1,queue='pqmb', version='g09')\n",
      "#check_calcs([test_calc_2])"
     ],
     "language": "python",
     "metadata": {},
     "outputs": [],
     "prompt_number": "*"
    },
    {
     "cell_type": "code",
     "collapsed": false,
     "input": [
      "##THIS SUCCEEDS\n",
      "viz_highest_eig_v2 = []\n",
      "for i in linspace(-1,1,50):\n",
      "    temp_calc = s1_sto_irc.calc.fchk_data.irc_frames[-1]\n",
      "    temp_calc.positions += i*array(test_calc_2.calc.max_data['vibdisps'][-1])\n",
      "    viz_highest_eig_v2.append(temp_calc)\n",
      "#gen_movie('disp_along_highest_eig_v2', viz_highest_eig_v2)\n",
      "#!avogadro disp_along_highest_eig_v2.xyz"
     ],
     "language": "python",
     "metadata": {},
     "outputs": [],
     "prompt_number": "*"
    },
    {
     "cell_type": "code",
     "collapsed": false,
     "input": [
      "mols_to_html([test_calc,test_calc_2])"
     ],
     "language": "python",
     "metadata": {},
     "outputs": [
      {
       "html": [
        "\n",
        "           <script type=\"text/javascript\">\n",
        "           function view_function (event, file_n) {\n",
        "               if (event.ctrlKey && event.shiftKey){\n",
        "                   IPython.notebook.kernel.execute(\"cc_notebook_utils.pygview('\" + file_n + \".log')\");\n",
        "               }\n",
        "               else if (event.ctrlKey){\n",
        "                   IPython.notebook.kernel.execute(\"cc_notebook_utils.pygausssum('\" + file_n + \".log')\");\n",
        "               }\n",
        "               else if (event.shiftKey){\n",
        "                   IPython.notebook.kernel.execute(\"cc_notebook_utils.pyvogadro('\" + file_n + \".log')\");\n",
        "               }\n",
        "               else {\n",
        "                   IPython.notebook.kernel.execute(\"cc_notebook_utils.pyvim('\" + file_n + \".log')\");\n",
        "                   IPython.notebook.kernel.execute(\"print(file_n)\");\n",
        "               }\n",
        "           }\n",
        "           </script>\n",
        "    <style>\n",
        "    table\n",
        "    {\n",
        "        border-collapse:collapse;\n",
        "    }\n",
        "    td\n",
        "    {\n",
        "        padding:15px;\n",
        "    }\n",
        "    </style>\n",
        "    <body>\n",
        "    <table bgcolor=\"white\">\n",
        "    <col/><tr><td>CIS_B0_CIS_B0_S1_p_coumaric_cis_test1</td><td><a href = \"files/p_coumaric/v4/brute_irc/CIS_B0_CIS_B0_S1_p_coumaric_cis_test1.com\" target = \"_blank\">com</a></td><td><input type=\"button\" value=\"Smart Log\" id=\"CIS_B0_CIS_B0_S1_p_coumaric_cis_test1\" onclick=\"view_function(event, this.id)\" /></td><td>Success</td></tr><tr><td>CIS_B0_CIS_B0_S1_p_coumaric_cis_test2</td><td><a href = \"files/p_coumaric/v4/brute_irc/CIS_B0_CIS_B0_S1_p_coumaric_cis_test2.com\" target = \"_blank\">com</a></td><td><input type=\"button\" value=\"Smart Log\" id=\"CIS_B0_CIS_B0_S1_p_coumaric_cis_test2\" onclick=\"view_function(event, this.id)\" /></td><td>Success</td></tr>\n",
        "    </table>\n",
        "    </body>"
       ],
       "output_type": "pyout",
       "prompt_number": 39,
       "text": [
        "<IPython.core.display.HTML at 0xe307910>"
       ]
      }
     ],
     "prompt_number": "*"
    },
    {
     "cell_type": "code",
     "collapsed": false,
     "input": [
      "view_ipython_jmol('sto_irc_attempt.xyz')"
     ],
     "language": "python",
     "metadata": {},
     "outputs": [
      {
       "html": [
        "\n",
        "    <iframe\n",
        "      width=\"400\"\n",
        "      height=\"300\"\n",
        "      src=/files/jmol/ase-MexBoM.html\n",
        "      frameborder=\"0\"\n",
        "      allowfullscreen\n",
        "    ></iframe>"
       ],
       "output_type": "pyout",
       "prompt_number": 40,
       "text": [
        "<IPython.core.display.HTML at 0xe3078d0>"
       ]
      }
     ],
     "prompt_number": "*"
    },
    {
     "cell_type": "code",
     "collapsed": false,
     "input": [
      "check_calcs([test_calc])\n",
      "mols_to_html([test_calc])"
     ],
     "language": "python",
     "metadata": {},
     "outputs": [
      {
       "html": [
        "\n",
        "           <script type=\"text/javascript\">\n",
        "           function view_function (event, file_n) {\n",
        "               if (event.ctrlKey && event.shiftKey){\n",
        "                   IPython.notebook.kernel.execute(\"cc_notebook_utils.pygview('\" + file_n + \".log')\");\n",
        "               }\n",
        "               else if (event.ctrlKey){\n",
        "                   IPython.notebook.kernel.execute(\"cc_notebook_utils.pygausssum('\" + file_n + \".log')\");\n",
        "               }\n",
        "               else if (event.shiftKey){\n",
        "                   IPython.notebook.kernel.execute(\"cc_notebook_utils.pyvogadro('\" + file_n + \".log')\");\n",
        "               }\n",
        "               else {\n",
        "                   IPython.notebook.kernel.execute(\"cc_notebook_utils.pyvim('\" + file_n + \".log')\");\n",
        "                   IPython.notebook.kernel.execute(\"print(file_n)\");\n",
        "               }\n",
        "           }\n",
        "           </script>\n",
        "    <style>\n",
        "    table\n",
        "    {\n",
        "        border-collapse:collapse;\n",
        "    }\n",
        "    td\n",
        "    {\n",
        "        padding:15px;\n",
        "    }\n",
        "    </style>\n",
        "    <body>\n",
        "    <table bgcolor=\"white\">\n",
        "    <col/><tr><td>CIS_B0_CIS_B0_S1_p_coumaric_cis_test1</td><td><a href = \"files/p_coumaric/v4/brute_irc/CIS_B0_CIS_B0_S1_p_coumaric_cis_test1.com\" target = \"_blank\">com</a></td><td><input type=\"button\" value=\"Smart Log\" id=\"CIS_B0_CIS_B0_S1_p_coumaric_cis_test1\" onclick=\"view_function(event, this.id)\" /></td><td>Success</td></tr>\n",
        "    </table>\n",
        "    </body>"
       ],
       "output_type": "pyout",
       "prompt_number": 41,
       "text": [
        "<IPython.core.display.HTML at 0xe3079d0>"
       ]
      }
     ],
     "prompt_number": "*"
    },
    {
     "cell_type": "code",
     "collapsed": false,
     "input": [
      "cd ../"
     ],
     "language": "python",
     "metadata": {},
     "outputs": [
      {
       "output_type": "stream",
       "stream": "stdout",
       "text": [
        "/home/clyde/Dropbox/Project Stuff/Notebooks/p_coumaric/v4\n"
       ]
      }
     ],
     "prompt_number": "*"
    },
    {
     "cell_type": "heading",
     "level": 2,
     "metadata": {},
     "source": [
      "Sidestep back to 6-31G* basis"
     ]
    },
    {
     "cell_type": "code",
     "collapsed": false,
     "input": [
      "##s1_FC_to_s1_min succeeds, the s1 trans minimum is closeish to the s0 trans minimum\n",
      "#s1_FC_to_s1_min = read(s0_trans_M.calc.log)\n",
      "#s1_FC_to_s1_min.set_calculator(Gaussian(label='CIS_B1_S1_FC_to_S1_min_IRC', method='CIS', basis='6-31G*', irc='(calcfc, downhill, stepsize=5)', nosymmetry='nosymmetry', scf='qc'))\n",
      "#s1_FC_to_s1_min.calc.set_job(nodes=16, memory=16*1400, time=10, queue='pqmb', version='g09')\n",
      "\n",
      "##fails with max corrector steps exceeded\n",
      "#s1_CI_to_s1_min = read(martinez_xyzs['S0S1C2'])\n",
      "#s1_CI_to_s1_min.set_calculator(Gaussian(label='CIS_B1_S1_CI_to_S1_min_IRC', method='CIS', basis='6-31G*', irc='(calcfc, downhill, stepsize=5)', nosymmetry='nosymmetry', scf='qc'))\n",
      "#s1_CI_to_s1_min.calc.set_job(nodes=16, memory=16*1400, time=10, queue='pqmb', version='g09')\n",
      "\n",
      "##appears to succeed but more steps needed to see where this trajectory is taking us\n",
      "#s0_CI_to_s0_min = read(martinez_xyzs['S0S1C2'])\n",
      "#s0_CI_to_s0_min.set_calculator(Gaussian(label='HF_B1_S0_CI_to_S0_min_IRC', method='HF', basis='6-31G*', irc='(calcfc, downhill, stepsize=5)', nosymmetry='nosymmetry', scf='qc'))\n",
      "#s0_CI_to_s0_min.calc.set_job(nodes=16, memory=16*1400, time=10, queue='pqmb', version='g09')\n",
      "\n",
      "#irc_calcs = [s1_FC_to_s1_min, s1_CI_to_s1_min, s0_CI_to_s0_min]"
     ],
     "language": "python",
     "metadata": {},
     "outputs": [],
     "prompt_number": "*"
    },
    {
     "cell_type": "code",
     "collapsed": false,
     "input": [
      "#s0_cis_min, s1_min = read('HF_B1_HF_B1_S0_cis_p_coumaric.log'), read('CIS_B1_CIS_B1_S1_p_coumaric.log')\n",
      "\n",
      "##fails as initial point highest in Energy\n",
      "#s1_FC_to_s1_min = read(s0_trans_M.calc.log)\n",
      "#s1_FC_to_s1_min.set_calculator(Gaussian(label='CIS_B1_S1_FC_to_S1_min_IRC_v2', method='CIS', basis='6-31G*', opt='qst2, path=10', nosymmetry='nosymmetry', scf='qc'))\n",
      "#s1_FC_to_s1_min.calc.set_qst2(s1_min)\n",
      "#s1_FC_to_s1_min.calc.set_job(nodes=16, memory=16*1400, time=10, queue='pqmb', version='g09')\n",
      "\n",
      "##fails to get anywhere\n",
      "#s1_CI_to_s1_min = read(martinez_xyzs['S0S1C2'])\n",
      "#s1_CI_to_s1_min.set_calculator(Gaussian(label='CIS_B1_S1_CI_to_S1_min_IRC_v2', method='CIS', basis='6-31G*', opt='qst2, path=10', nosymmetry='nosymmetry', scf='qc'))\n",
      "#s1_CI_to_s1_min.calc.set_qst2(s1_min)\n",
      "#s1_CI_to_s1_min.calc.set_job(nodes=16, memory=16*1400, time=10, queue='pqmb', version='g09')\n",
      "\n",
      "##fails\n",
      "#s0_CI_to_s0_min = read(martinez_xyzs['S0S1C2'])\n",
      "#s0_CI_to_s0_min.set_calculator(Gaussian(label='HF_B1_S0_CI_to_S0_min_IRC_v2', method='HF', basis='6-31G*', opt='qst2, path=10', nosymmetry='nosymmetry', scf='qc'))\n",
      "#s0_CI_to_s0_min.calc.set_qst2(s0_cis_min)\n",
      "#s0_CI_to_s0_min.calc.set_job(nodes=16, memory=16*1400, time=10, queue='pqmb', version='g09')\n",
      "\n",
      "#irc_calcs = [s1_FC_to_s1_min, s1_CI_to_s1_min, s0_CI_to_s0_min]"
     ],
     "language": "python",
     "metadata": {},
     "outputs": [],
     "prompt_number": "*"
    },
    {
     "cell_type": "code",
     "collapsed": false,
     "input": [
      "s1_FC_to_s1_min = read(s0_trans_M.calc.log)\n",
      "s1_FC_to_s1_min.set_calculator(Gaussian(label='CIS_B1_S1_FC_to_S1_min_opt', method='CIS', basis='6-31G*', opt='opt', freq='freq', nosymmetry='nosymmetry', scf='qc'))\n",
      "s1_FC_to_s1_min.calc.set_job(nodes=16, memory=16*1400, time=10, queue='pqmb', version='g09')"
     ],
     "language": "python",
     "metadata": {},
     "outputs": [],
     "prompt_number": "*"
    },
    {
     "cell_type": "markdown",
     "metadata": {},
     "source": [
      "The idea of an IRC from the s1 down to the CI then down to the s0 minima is questionable - it may be true that there is another path that hits the seam at some point other than the conical intersection and from there procedes to the s0 minima on the s0 surface which occurs with lower net barrier/barriers. As such we will simply run a geometry optimisation from the FC point down to the nearest S1 minima looking to see if this path hits the seam earlier than the concical intersection if it does we will take points along this trajectory corresponding to seam points and from those points looks at paths on s0 picking the combination that results in the lowest overall activation barrier. \n",
      "\n",
      "If we find that the path of steepest descent from the FC down to the closest s1 minima does not hit the seam we will search for TSs on the s1 surface and from those find paths down to connected minima hoping that one of these paths intersects with the seam.\n",
      "\n",
      "**N.B. despite HF/CIS's failure as of 18/10/2013 the above approach is still being followed.**"
     ]
    },
    {
     "cell_type": "markdown",
     "metadata": {},
     "source": [
      "Below I attempt to reach a putative s1_cis minima by starting from the s1_trans manually rotating about a combination of the single and double bond and then optimising the resulting structure. This strategy is fine but there is no s1 cis minimum so it fails."
     ]
    },
    {
     "cell_type": "code",
     "collapsed": false,
     "input": [
      "#dbl_bond_rot,sgl_bond_rot = s1_FC_to_s1_min.calc.max_data['vibdisps'][0:2]\n",
      "#s1_FC_to_s1_min_v2 = read(s1_FC_to_s1_min.calc.log)\n",
      "#s1_FC_to_s1_min_v2.positions += (array(dbl_bond_rot) + array(sgl_bond_rot))/2\n",
      "#s1_FC_to_s1_min_v2.set_calculator(Gaussian(label='CIS_B1_S1_FC_to_S1_min_opt_continuation', method='CIS', basis='6-31G*', opt='opt', freq='freq', nosymmetry='nosymmetry', scf='qc'))\n",
      "#s1_FC_to_s1_min_v2.calc.set_job(nodes=16, memory=16*1400, time=10, queue='pqmb', version='g09')"
     ],
     "language": "python",
     "metadata": {},
     "outputs": [],
     "prompt_number": "*"
    },
    {
     "cell_type": "code",
     "collapsed": false,
     "input": [
      "#this is still gives the trans minimum (I had not realized there was no CIS minima)\n",
      "#dbl_bond_rot,sgl_bond_rot = s1_FC_to_s1_min.calc.max_data['vibdisps'][0:2]\n",
      "#s1_FC_to_s1_min_v2 = read(s1_FC_to_s1_min.calc.log)\n",
      "#s1_FC_to_s1_min_v2.positions += array(dbl_bond_rot)\n",
      "#s1_FC_to_s1_min_v2.set_calculator(Gaussian(label='CIS_B1_S1_FC_to_S1_min_opt_continuation_v2', method='CIS', basis='6-31G*', opt='opt', freq='freq', nosymmetry='nosymmetry', scf='qc'))\n",
      "#s1_FC_to_s1_min_v2.calc.set_job(nodes=16, memory=16*1400, time=10, queue='pqmb', version='g09')"
     ],
     "language": "python",
     "metadata": {},
     "outputs": [],
     "prompt_number": "*"
    },
    {
     "cell_type": "code",
     "collapsed": false,
     "input": [
      "##Look at structures generated by rotating the double and single bond (this shows that we cannot interpolate in this way because the interpolation is through cartisian coordinates. If we wanted to interpolate we would need to express the normal modes in z-matrix format and add them to the structure expressed in z-matrix format\n",
      "\n",
      "#from ase.visualize import view\n",
      "#frames, frames2, frames3 = [], [], []\n",
      "#for i in linspace(0,0.1,num=10):\n",
      "#    f, f2, f3 = [read(s1_FC_to_s1_min.calc.log)]*3\n",
      "#    f.positions += i*array(sgl_bond_rot)\n",
      "#    f2.positions += i*array(dbl_bond_rot)\n",
      "#    f3.positions += i*(array(sgl_bond_rot)+array(dbl_bond_rot))/2\n",
      "#    frames.append(f)\n",
      "#    frames2.append(f2)\n",
      "#    frames3.append(f3)\n",
      "    \n",
      "#gen_movie('test1',frames)\n",
      "#gen_movie('test2',frames2)\n",
      "#gen_movie('test3',frames3)\n",
      "#view_ipython_jmol(['test1.xyz', 'test2.xyz', 'test3.xyz'])"
     ],
     "language": "python",
     "metadata": {},
     "outputs": [],
     "prompt_number": "*"
    },
    {
     "cell_type": "code",
     "collapsed": false,
     "input": [
      "#gen_fchks([s1_FC_to_s1_min_v2])\n",
      "#check_calcs([s1_FC_to_s1_min_v2], depth='heavy')\n",
      "#mols_to_html([s1_FC_to_s1_min_v2])"
     ],
     "language": "python",
     "metadata": {},
     "outputs": [],
     "prompt_number": "*"
    }
   ],
   "metadata": {}
  }
 ]
}