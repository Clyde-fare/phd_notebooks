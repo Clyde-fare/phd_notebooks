{
 "metadata": {
  "name": ""
 },
 "nbformat": 3,
 "nbformat_minor": 0,
 "worksheets": [
  {
   "cells": [
    {
     "cell_type": "code",
     "collapsed": false,
     "input": [
      "import pandas, os\n",
      "import numpy as np\n",
      "from webbrowser import open as open_log\n",
      "from math import pi\n",
      "from IPython.core.display import HTML, Image\n",
      "from ase.io import read, write\n",
      "#from ase.calculators.gaussian import Gaussian\n",
      "from gausspy import Gaussian\n",
      "from glob import glob\n",
      "from ASE_utils import *\n",
      "import cc_notebook_utils\n",
      "from cc_notebook_utils import *\n",
      "from adsy import display as ad_disp\n",
      "pandas.set_printoptions(max_rows=200, max_columns=10)\n",
      "#ad_disp.extended_styles()"
     ],
     "language": "python",
     "metadata": {},
     "outputs": [
      {
       "output_type": "stream",
       "stream": "stderr",
       "text": [
        "WARNING: Neither ~/.pyp_util.ini nor ./pbs_util.ini exist./home/clyde/anaconda/lib/python2.7/site-packages/pandas/core/format.py:1653: FutureWarning: set_printoptions is deprecated, use set_option instead\n",
        "  FutureWarning)\n"
       ]
      }
     ],
     "prompt_number": 2
    },
    {
     "cell_type": "code",
     "collapsed": false,
     "input": [
      "cd triang_graph/"
     ],
     "language": "python",
     "metadata": {},
     "outputs": [
      {
       "output_type": "stream",
       "stream": "stdout",
       "text": [
        "/home/clyde/Dropbox/Project Stuff/Notebooks/triang_graph\n"
       ]
      }
     ],
     "prompt_number": 3
    },
    {
     "cell_type": "code",
     "collapsed": false,
     "input": [
      "tri_graph_init, tri_graph_small_init = 'triang_graphene.xyz', 'triang_graphene_small.xyz'\n",
      "view_ipython_jmol([tri_graph_small_init,tri_graph_init], width=550, height=550)"
     ],
     "language": "python",
     "metadata": {},
     "outputs": [
      {
       "html": [
        "\n",
        "    <iframe\n",
        "      width=\"1050\"\n",
        "      height=\"550\"\n",
        "      src=/files/jmol/ase-BC6qzF.html\n",
        "      frameborder=\"0\"\n",
        "      allowfullscreen\n",
        "    ></iframe>"
       ],
       "metadata": {},
       "output_type": "pyout",
       "prompt_number": 4,
       "text": [
        "<IPython.core.display.HTML at 0x3ad9350>"
       ]
      }
     ],
     "prompt_number": 4
    },
    {
     "cell_type": "code",
     "collapsed": false,
     "input": [],
     "language": "python",
     "metadata": {},
     "outputs": [],
     "prompt_number": 4
    },
    {
     "cell_type": "markdown",
     "metadata": {},
     "source": [
      "The small graphene unit has 13 carbons hence an odd number of p electrons so we will focus on the larger fragment (which was the one causing us problems in the first place). As we expect this to fail we will also try using the scf='xqc' keyword:"
     ]
    },
    {
     "cell_type": "markdown",
     "metadata": {},
     "source": [
      "Try the normal a single point calculation at the geometry given by avogadro's forcefield optimisation:"
     ]
    },
    {
     "cell_type": "code",
     "collapsed": false,
     "input": [
      "#to rerun calcs:\n",
      "\n",
      "#gaus_objs = []\n",
      "#stable, mult =['', 'opt'] , [1,3,5]\n",
      "\n",
      "#for stab in stable:\n",
      "#    calc_label = 'B3LYP_triang_graphene_1' if not stab else 'B3LYP_triang_graphene_1_stable'\n",
      "#    gaus_objs.append(Gaussian(label=calc_label, method=B3LYP, basis='6-31G(d)', scf='xqc', multiplicity=1, stable=stab, nosymmetry=''))\n",
      "\n",
      "#for sp in mult:\n",
      "#    for stab in stable:\n",
      "#        calc_label = 'UB3LYP_triang_graphene_{mu}'.format(mu=sp) if not stab else 'UB3LYP_triang_graphene_{mu}_stable'.format(mu=sp)\n",
      "#        gaus_objs.append(Gaussian(label=calc_label, method=UB3LYP, basis='6-31G(d)', multiplicity=sp, stable=stab, nosymmetry=''))\n",
      "    \n",
      "#for stab in stable:\n",
      "#    calc_label = 'UB3LYP_triang_graphene_{mu}_nosymm'.format(mu=sp) if not stab else 'UB3LYP_triang_graphene_{mu}_stable'.format(mu=sp)\n",
      "#    gaus_objs.append(Gaussian(label=calc_label, method=UB3LYP, basis='6-31G(d)', multiplicity=3p, stable=stab, nosymmetry='nosymmetry')))\n",
      "    \n",
      "#calcs = []\n",
      "#for gaus_calc in gaus_objs\n",
      "#    tri=read(tri_graph_init)\n",
      "#    tri.set_calculator(gaus_calc)\n",
      "#    tri.calc.set_job(nodes=8, memory=8*1600, time=5, queue='pqmb')\n",
      "#    calcs.append(tri)"
     ],
     "language": "python",
     "metadata": {},
     "outputs": [],
     "prompt_number": 5
    },
    {
     "cell_type": "code",
     "collapsed": false,
     "input": [
      "b3lyp_tri = read(tri_graph_init)\n",
      "b3lyp_tri.set_calculator(Gaussian(label='triang_graphene', method='B3LYP', basis='6-31G(d)'))\n",
      "b3lyp_tri.calc.set_job(nodes=16, memory=16*2000, time=5, queue='pqmb')\n",
      "#b3lyp_tri.calc.start()"
     ],
     "language": "python",
     "metadata": {},
     "outputs": [],
     "prompt_number": 6
    },
    {
     "cell_type": "code",
     "collapsed": false,
     "input": [
      "b3lyp_tri_xqc = read(tri_graph_init)\n",
      "b3lyp_tri_xqc.set_calculator(Gaussian(label='triang_graphene_xqc', method='B3LYP', basis='6-31G(d)', scf='xqc'))\n",
      "b3lyp_tri_xqc.calc.set_job(nodes=16, memory=16*2000, time=5, queue='pqmb')\n",
      "b3lyp_tri_xqc.calc.description = 'RB3LYP'\n",
      "#b3lyp_tri_xqc.get_potential_energy()"
     ],
     "language": "python",
     "metadata": {},
     "outputs": [],
     "prompt_number": 7
    },
    {
     "cell_type": "code",
     "collapsed": false,
     "input": [
      "check_calcs([b3lyp_tri, b3lyp_tri_xqc])\n",
      "mols_to_html([b3lyp_tri, b3lyp_tri_xqc])"
     ],
     "language": "python",
     "metadata": {},
     "outputs": [
      {
       "html": [
        "\n",
        "           <script type=\"text/javascript\">\n",
        "           function view_function (event, file_n) {\n",
        "               if (event.ctrlKey && event.shiftKey){\n",
        "                   IPython.notebook.kernel.execute(\"cc_notebook_utils.pygview('\" + file_n + \".log')\");\n",
        "               }\n",
        "               else if (event.ctrlKey){\n",
        "                   IPython.notebook.kernel.execute(\"cc_notebook_utils.pygausssum('\" + file_n + \".log')\");\n",
        "               }\n",
        "               else if (event.shiftKey){\n",
        "                   IPython.notebook.kernel.execute(\"cc_notebook_utils.pyvogadro('\" + file_n + \".log')\");\n",
        "               }\n",
        "               else {\n",
        "                   IPython.notebook.kernel.execute(\"cc_notebook_utils.pyvim('\" + file_n + \".log')\");\n",
        "                   IPython.notebook.kernel.execute(\"print(file_n)\");\n",
        "               }\n",
        "           }\n",
        "           </script>\n",
        "    <style>\n",
        "    table\n",
        "    {\n",
        "        border-collapse:collapse;\n",
        "    }\n",
        "    td\n",
        "    {\n",
        "        padding:15px;\n",
        "    }\n",
        "    </style>\n",
        "    <body>\n",
        "    <table bgcolor=\"white\">\n",
        "    <col/><tr><td>triang_graphene</td><td><a href = \"files/triang_graph/triang_graphene.com\" target = \"_blank\">com</a></td><td><input type=\"button\" value=\"Smart Log\" id=\"triang_graphene\" onclick=\"view_function(event, this.id)\" /></td><td>Error: Convergence failure -- run terminated.</td></tr><tr><td>triang_graphene_xqc</td><td><a href = \"files/triang_graph/triang_graphene_xqc.com\" target = \"_blank\">com</a></td><td><input type=\"button\" value=\"Smart Log\" id=\"triang_graphene_xqc\" onclick=\"view_function(event, this.id)\" /></td><td>Success</td></tr>\n",
        "    </table>\n",
        "    </body>"
       ],
       "metadata": {},
       "output_type": "pyout",
       "prompt_number": 8,
       "text": [
        "<IPython.core.display.HTML at 0x3ad9510>"
       ]
      }
     ],
     "prompt_number": 8
    },
    {
     "cell_type": "markdown",
     "metadata": {},
     "source": [
      "As before the xqc option allows the scf to converge whereas it fails without it. But is it stable?"
     ]
    },
    {
     "cell_type": "code",
     "collapsed": false,
     "input": [
      "b3lyp_tri_stable = copy.deepcopy(b3lyp_tri_xqc)\n",
      "b3lyp_tri_stable.calc.restart(add_label='stable', stable='opt')\n",
      "b3lyp_tri_stable.calc.description = 'RB3LYP, stable=opt'\n",
      "#b3lyp_tri_xqc.calc.start()"
     ],
     "language": "python",
     "metadata": {},
     "outputs": [],
     "prompt_number": 8
    },
    {
     "cell_type": "code",
     "collapsed": false,
     "input": [
      "check_calcs([b3lyp_tri_stable])\n",
      "mols_to_html([b3lyp_tri_stable])"
     ],
     "language": "python",
     "metadata": {},
     "outputs": [
      {
       "html": [
        "\n",
        "           <script type=\"text/javascript\">\n",
        "           function view_function (event, file_n) {\n",
        "               if (event.ctrlKey && event.shiftKey){\n",
        "                   IPython.notebook.kernel.execute(\"cc_notebook_utils.pygview('\" + file_n + \".log')\");\n",
        "               }\n",
        "               else if (event.ctrlKey){\n",
        "                   IPython.notebook.kernel.execute(\"cc_notebook_utils.pygausssum('\" + file_n + \".log')\");\n",
        "               }\n",
        "               else if (event.shiftKey){\n",
        "                   IPython.notebook.kernel.execute(\"cc_notebook_utils.pyvogadro('\" + file_n + \".log')\");\n",
        "               }\n",
        "               else {\n",
        "                   IPython.notebook.kernel.execute(\"cc_notebook_utils.pyvim('\" + file_n + \".log')\");\n",
        "                   IPython.notebook.kernel.execute(\"print(file_n)\");\n",
        "               }\n",
        "           }\n",
        "           </script>\n",
        "    <style>\n",
        "    table\n",
        "    {\n",
        "        border-collapse:collapse;\n",
        "    }\n",
        "    td\n",
        "    {\n",
        "        padding:15px;\n",
        "    }\n",
        "    </style>\n",
        "    <body>\n",
        "    <table bgcolor=\"white\">\n",
        "    <col/><tr><td>triang_graphene_xqc_stable_restart_1</td><td><a href = \"files/triang_graph/triang_graphene_xqc_stable_restart_1.com\" target = \"_blank\">com</a></td><td><input type=\"button\" value=\"Smart Log\" id=\"triang_graphene_xqc_stable_restart_1\" onclick=\"view_function(event, this.id)\" /></td><td>Success</td></tr>\n",
        "    </table>\n",
        "    </body>"
       ],
       "metadata": {},
       "output_type": "pyout",
       "prompt_number": 9,
       "text": [
        "<IPython.core.display.HTML at 0x2f244d0>"
       ]
      }
     ],
     "prompt_number": 9
    },
    {
     "cell_type": "markdown",
     "metadata": {},
     "source": [
      "<font size=3 color=red>RHF -> UHF instability</font>"
     ]
    },
    {
     "cell_type": "code",
     "collapsed": false,
     "input": [
      "print(b3lyp_tri_stable.calc.max_data.keys())"
     ],
     "language": "python",
     "metadata": {},
     "outputs": [
      {
       "output_type": "stream",
       "stream": "stdout",
       "text": [
        "['scfenergies', 'moenergies', 'Rmsd', 'Title', 'S2', 'atomnos', 'atomcoords', 'charge', 'Dipole', 'homos', 'Person', 'Charge', 'Version', 'Pg', 'nmo', 'mosyms', 'natom', 'Root', 'Method', 'mult', 'Chemical_Formula', 'scftargets', 'Multiplicity', 'S2A', 'S2-1', 'atomcharges', 'nbasis', 'State', 'Sequence Number', 'scfvalues', 'Atomic_Numbers', 'coreelectrons', 'atommasses', 'Quadrupole', 'Positions', 'Date', 'Basis_Set', 'Hf', 'Computer_System', 'Type_Of_Run']\n"
       ]
      }
     ],
     "prompt_number": 10
    },
    {
     "cell_type": "code",
     "collapsed": false,
     "input": [
      "b3lyp_tri_stable.calc.max_data['S2A'], b3lyp_tri_stable.calc.energy_zero - b3lyp_tri_xqc.calc.energy_zero"
     ],
     "language": "python",
     "metadata": {},
     "outputs": [
      {
       "metadata": {},
       "output_type": "pyout",
       "prompt_number": 11,
       "text": [
        "(0.317148, -0.7297606509673642)"
       ]
      }
     ],
     "prompt_number": 11
    },
    {
     "cell_type": "markdown",
     "metadata": {},
     "source": [
      "But 22 carbons therefore 22 p electrons = 4n+2 so we would have expected paired electrons? No [Huckel's rule](http://en.wikipedia.org/wiki/H%C3%BCckel's_rule) only applies to single ring systems in fact the symmetric geometry is at a conical intersection see: [Mike's paper on this system](http://www.sciencedirect.com/science/article/pii/S1010603007002390)"
     ]
    },
    {
     "cell_type": "markdown",
     "metadata": {},
     "source": [
      "Let's try unrestricted calculations:"
     ]
    },
    {
     "cell_type": "code",
     "collapsed": false,
     "input": [
      "b3lyp_tri_v2 = read(tri_graph_init)\n",
      "b3lyp_tri_v2.set_calculator(Gaussian(label='triang_graphene_v2', method='UB3LYP', basis='6-31G(d)'))\n",
      "b3lyp_tri_v2.calc.set_job(nodes=16, memory=16*2000, time=5)\n",
      "b3lyp_tri_v2.calc.description = 'UB3LYP, mult=1'\n",
      "#b3lyp_tri_v2.get_potential_energy()"
     ],
     "language": "python",
     "metadata": {},
     "outputs": [],
     "prompt_number": 12
    },
    {
     "cell_type": "code",
     "collapsed": false,
     "input": [
      "b3lyp_tri_xqc_v2 = read(tri_graph_init)\n",
      "b3lyp_tri_xqc_v2.set_calculator(Gaussian(label='triang_graphene_xqc_v2', method='UB3LYP', basis='6-31G(d)', scf='xqc'))\n",
      "b3lyp_tri_xqc_v2.calc.set_job(nodes=16, memory=16*2000, time=5)\n",
      "#b3lyp_tri_xqc_v2.get_potential_energy()"
     ],
     "language": "python",
     "metadata": {},
     "outputs": [],
     "prompt_number": 13
    },
    {
     "cell_type": "code",
     "collapsed": false,
     "input": [
      "check_calcs([b3lyp_tri_v2, b3lyp_tri_xqc_v2])\n",
      "mols_to_html([b3lyp_tri_v2, b3lyp_tri_xqc_v2])"
     ],
     "language": "python",
     "metadata": {},
     "outputs": [
      {
       "html": [
        "\n",
        "           <script type=\"text/javascript\">\n",
        "           function view_function (event, file_n) {\n",
        "               if (event.ctrlKey && event.shiftKey){\n",
        "                   IPython.notebook.kernel.execute(\"cc_notebook_utils.pygview('\" + file_n + \".log')\");\n",
        "               }\n",
        "               else if (event.ctrlKey){\n",
        "                   IPython.notebook.kernel.execute(\"cc_notebook_utils.pygausssum('\" + file_n + \".log')\");\n",
        "               }\n",
        "               else if (event.shiftKey){\n",
        "                   IPython.notebook.kernel.execute(\"cc_notebook_utils.pyvogadro('\" + file_n + \".log')\");\n",
        "               }\n",
        "               else {\n",
        "                   IPython.notebook.kernel.execute(\"cc_notebook_utils.pyvim('\" + file_n + \".log')\");\n",
        "                   IPython.notebook.kernel.execute(\"print(file_n)\");\n",
        "               }\n",
        "           }\n",
        "           </script>\n",
        "    <style>\n",
        "    table\n",
        "    {\n",
        "        border-collapse:collapse;\n",
        "    }\n",
        "    td\n",
        "    {\n",
        "        padding:15px;\n",
        "    }\n",
        "    </style>\n",
        "    <body>\n",
        "    <table bgcolor=\"white\">\n",
        "    <col/><tr><td>triang_graphene_v2</td><td><a href = \"files/triang_graph/triang_graphene_v2.com\" target = \"_blank\">com</a></td><td><input type=\"button\" value=\"Smart Log\" id=\"triang_graphene_v2\" onclick=\"view_function(event, this.id)\" /></td><td>Success</td></tr><tr><td>triang_graphene_xqc_v2</td><td><a href = \"files/triang_graph/triang_graphene_xqc_v2.com\" target = \"_blank\">com</a></td><td><input type=\"button\" value=\"Smart Log\" id=\"triang_graphene_xqc_v2\" onclick=\"view_function(event, this.id)\" /></td><td>Success</td></tr>\n",
        "    </table>\n",
        "    </body>"
       ],
       "metadata": {},
       "output_type": "pyout",
       "prompt_number": 14,
       "text": [
        "<IPython.core.display.HTML at 0x3f2ca90>"
       ]
      }
     ],
     "prompt_number": 14
    },
    {
     "cell_type": "code",
     "collapsed": false,
     "input": [
      "b3lyp_tri_v2.calc.max_data['S2A'], b3lyp_tri_v2.calc.energy_zero - b3lyp_tri_xqc.calc.energy_zero"
     ],
     "language": "python",
     "metadata": {},
     "outputs": [
      {
       "metadata": {},
       "output_type": "pyout",
       "prompt_number": 15,
       "text": [
        "(0.288534, -0.6896456114918692)"
       ]
      }
     ],
     "prompt_number": 15
    },
    {
     "cell_type": "markdown",
     "metadata": {},
     "source": [
      "Is this stable?"
     ]
    },
    {
     "cell_type": "code",
     "collapsed": false,
     "input": [
      "b3lyp_tri_v2_stable = copy.deepcopy(b3lyp_tri_v2)\n",
      "b3lyp_tri_v2_stable.calc.restart(stable='opt')\n",
      "b3lyp_tri_v2_stable.calc.set_job(nodes=8, memory=8*1600, time=5)\n",
      "b3lyp_tri_v2_stable.calc.description = 'UB3LYP, mult=1, stable=opt'\n",
      "#b3lyp_tri_v2_stable.calc.start()\n",
      "check_calcs([b3lyp_tri_v2_stable])\n",
      "mols_to_html([b3lyp_tri_v2_stable])"
     ],
     "language": "python",
     "metadata": {},
     "outputs": [
      {
       "ename": "NameError",
       "evalue": "name 'b3lyp_tri_v2' is not defined",
       "output_type": "pyerr",
       "traceback": [
        "\u001b[1;31m---------------------------------------------------------------------------\u001b[0m\n\u001b[1;31mNameError\u001b[0m                                 Traceback (most recent call last)",
        "\u001b[1;32m<ipython-input-13-9f96745c4196>\u001b[0m in \u001b[0;36m<module>\u001b[1;34m()\u001b[0m\n\u001b[1;32m----> 1\u001b[1;33m \u001b[0mb3lyp_tri_v2_stable\u001b[0m \u001b[1;33m=\u001b[0m \u001b[0mcopy\u001b[0m\u001b[1;33m.\u001b[0m\u001b[0mdeepcopy\u001b[0m\u001b[1;33m(\u001b[0m\u001b[0mb3lyp_tri_v2\u001b[0m\u001b[1;33m)\u001b[0m\u001b[1;33m\u001b[0m\u001b[0m\n\u001b[0m\u001b[0;32m      2\u001b[0m \u001b[0mb3lyp_tri_v2_stable\u001b[0m\u001b[1;33m.\u001b[0m\u001b[0mcalc\u001b[0m\u001b[1;33m.\u001b[0m\u001b[0mrestart\u001b[0m\u001b[1;33m(\u001b[0m\u001b[0mstable\u001b[0m\u001b[1;33m=\u001b[0m\u001b[1;34m'opt'\u001b[0m\u001b[1;33m)\u001b[0m\u001b[1;33m\u001b[0m\u001b[0m\n\u001b[0;32m      3\u001b[0m \u001b[0mb3lyp_tri_v2_stable\u001b[0m\u001b[1;33m.\u001b[0m\u001b[0mcalc\u001b[0m\u001b[1;33m.\u001b[0m\u001b[0mset_job\u001b[0m\u001b[1;33m(\u001b[0m\u001b[0mnodes\u001b[0m\u001b[1;33m=\u001b[0m\u001b[1;36m8\u001b[0m\u001b[1;33m,\u001b[0m \u001b[0mmemory\u001b[0m\u001b[1;33m=\u001b[0m\u001b[1;36m8\u001b[0m\u001b[1;33m*\u001b[0m\u001b[1;36m1600\u001b[0m\u001b[1;33m,\u001b[0m \u001b[0mtime\u001b[0m\u001b[1;33m=\u001b[0m\u001b[1;36m5\u001b[0m\u001b[1;33m)\u001b[0m\u001b[1;33m\u001b[0m\u001b[0m\n\u001b[0;32m      4\u001b[0m \u001b[0mb3lyp_tri_v2_stable\u001b[0m\u001b[1;33m.\u001b[0m\u001b[0mcalc\u001b[0m\u001b[1;33m.\u001b[0m\u001b[0mdescription\u001b[0m \u001b[1;33m=\u001b[0m \u001b[1;34m'UB3LYP, mult=1, stable=opt'\u001b[0m\u001b[1;33m\u001b[0m\u001b[0m\n\u001b[0;32m      5\u001b[0m \u001b[1;31m#b3lyp_tri_v2_stable.calc.start()\u001b[0m\u001b[1;33m\u001b[0m\u001b[1;33m\u001b[0m\u001b[0m\n",
        "\u001b[1;31mNameError\u001b[0m: name 'b3lyp_tri_v2' is not defined"
       ]
      }
     ],
     "prompt_number": 13
    },
    {
     "cell_type": "markdown",
     "metadata": {},
     "source": [
      "No there was an 'internal instability'"
     ]
    },
    {
     "cell_type": "markdown",
     "metadata": {},
     "source": [
      "We've been setting multiplicity to 1 but in this case the stability calculations reveal some net spin. Let's try running the calculation with mult=3:"
     ]
    },
    {
     "cell_type": "code",
     "collapsed": false,
     "input": [
      "b3lyp_tri_v3 = read(tri_graph_init)\n",
      "b3lyp_tri_v3.set_calculator(Gaussian(label='triang_graphene_v3', method='UB3LYP', basis='6-31G(d)', multiplicity=3))\n",
      "b3lyp_tri_v3.calc.set_job(nodes=12, memory=12*1600, time=5)\n",
      "b3lyp_tri_v3.calc.description = 'UB3LYP, mult=3'\n",
      "#b3lyp_tri_v3.calc.start()"
     ],
     "language": "python",
     "metadata": {},
     "outputs": [],
     "prompt_number": 17
    },
    {
     "cell_type": "code",
     "collapsed": false,
     "input": [
      "check_calcs([b3lyp_tri_v3])\n",
      "mols_to_html([b3lyp_tri_v3])"
     ],
     "language": "python",
     "metadata": {},
     "outputs": [
      {
       "html": [
        "\n",
        "           <script type=\"text/javascript\">\n",
        "           function view_function (event, file_n) {\n",
        "               if (event.ctrlKey && event.shiftKey){\n",
        "                   IPython.notebook.kernel.execute(\"cc_notebook_utils.pygview('\" + file_n + \".log')\");\n",
        "               }\n",
        "               else if (event.ctrlKey){\n",
        "                   IPython.notebook.kernel.execute(\"cc_notebook_utils.pygausssum('\" + file_n + \".log')\");\n",
        "               }\n",
        "               else if (event.shiftKey){\n",
        "                   IPython.notebook.kernel.execute(\"cc_notebook_utils.pyvogadro('\" + file_n + \".log')\");\n",
        "               }\n",
        "               else {\n",
        "                   IPython.notebook.kernel.execute(\"cc_notebook_utils.pyvim('\" + file_n + \".log')\");\n",
        "                   IPython.notebook.kernel.execute(\"print(file_n)\");\n",
        "               }\n",
        "           }\n",
        "           </script>\n",
        "    <style>\n",
        "    table\n",
        "    {\n",
        "        border-collapse:collapse;\n",
        "    }\n",
        "    td\n",
        "    {\n",
        "        padding:15px;\n",
        "    }\n",
        "    </style>\n",
        "    <body>\n",
        "    <table bgcolor=\"white\">\n",
        "    <col/><tr><td>triang_graphene_v3</td><td><a href = \"files/triang_graph/triang_graphene_v3.com\" target = \"_blank\">com</a></td><td><input type=\"button\" value=\"Smart Log\" id=\"triang_graphene_v3\" onclick=\"view_function(event, this.id)\" /></td><td>Success</td></tr>\n",
        "    </table>\n",
        "    </body>"
       ],
       "metadata": {},
       "output_type": "pyout",
       "prompt_number": 18,
       "text": [
        "<IPython.core.display.HTML at 0x3f2ce10>"
       ]
      }
     ],
     "prompt_number": 18
    },
    {
     "cell_type": "code",
     "collapsed": false,
     "input": [
      "b3lyp_tri_v3.calc.max_data['S2A'], b3lyp_tri_v3.calc.energy_zero - b3lyp_tri_xqc.calc.energy_zero"
     ],
     "language": "python",
     "metadata": {},
     "outputs": [
      {
       "metadata": {},
       "output_type": "pyout",
       "prompt_number": 19,
       "text": [
        "(2.00843, -1.032277899888868)"
       ]
      }
     ],
     "prompt_number": 19
    },
    {
     "cell_type": "markdown",
     "metadata": {},
     "source": [
      "Is this stable?"
     ]
    },
    {
     "cell_type": "code",
     "collapsed": false,
     "input": [
      "b3lyp_tri_v3_stable = copy.deepcopy(b3lyp_tri_v3)\n",
      "b3lyp_tri_v3_stable.calc.restart(stable='opt')\n",
      "b3lyp_tri_v3_stable.calc.description = 'UB3LYP, mult=3, stable=opt'\n",
      "#b3lyp_tri_v3.calc.start()\n",
      "check_calcs([b3lyp_tri_v3_stable])\n",
      "mols_to_html([b3lyp_tri_v3_stable])"
     ],
     "language": "python",
     "metadata": {},
     "outputs": [
      {
       "html": [
        "\n",
        "           <script type=\"text/javascript\">\n",
        "           function view_function (event, file_n) {\n",
        "               if (event.ctrlKey && event.shiftKey){\n",
        "                   IPython.notebook.kernel.execute(\"cc_notebook_utils.pygview('\" + file_n + \".log')\");\n",
        "               }\n",
        "               else if (event.ctrlKey){\n",
        "                   IPython.notebook.kernel.execute(\"cc_notebook_utils.pygausssum('\" + file_n + \".log')\");\n",
        "               }\n",
        "               else if (event.shiftKey){\n",
        "                   IPython.notebook.kernel.execute(\"cc_notebook_utils.pyvogadro('\" + file_n + \".log')\");\n",
        "               }\n",
        "               else {\n",
        "                   IPython.notebook.kernel.execute(\"cc_notebook_utils.pyvim('\" + file_n + \".log')\");\n",
        "                   IPython.notebook.kernel.execute(\"print(file_n)\");\n",
        "               }\n",
        "           }\n",
        "           </script>\n",
        "    <style>\n",
        "    table\n",
        "    {\n",
        "        border-collapse:collapse;\n",
        "    }\n",
        "    td\n",
        "    {\n",
        "        padding:15px;\n",
        "    }\n",
        "    </style>\n",
        "    <body>\n",
        "    <table bgcolor=\"white\">\n",
        "    <col/><tr><td>triang_graphene_v3_restart_1</td><td><a href = \"files/triang_graph/triang_graphene_v3_restart_1.com\" target = \"_blank\">com</a></td><td><input type=\"button\" value=\"Smart Log\" id=\"triang_graphene_v3_restart_1\" onclick=\"view_function(event, this.id)\" /></td><td>Success</td></tr>\n",
        "    </table>\n",
        "    </body>"
       ],
       "metadata": {},
       "output_type": "pyout",
       "prompt_number": 20,
       "text": [
        "<IPython.core.display.HTML at 0x2f24350>"
       ]
      }
     ],
     "prompt_number": 20
    },
    {
     "cell_type": "markdown",
     "metadata": {},
     "source": [
      "Yes wavefunction is stable."
     ]
    },
    {
     "cell_type": "code",
     "collapsed": false,
     "input": [
      "b3lyp_tri_v3.calc.max_data['S2A'], b3lyp_tri_v3.calc.energy_zero - b3lyp_tri_xqc.calc.energy_zero"
     ],
     "language": "python",
     "metadata": {},
     "outputs": [
      {
       "metadata": {},
       "output_type": "pyout",
       "prompt_number": 21,
       "text": [
        "(2.00843, -1.032277899888868)"
       ]
      }
     ],
     "prompt_number": 21
    },
    {
     "cell_type": "markdown",
     "metadata": {},
     "source": [
      "Just to be sure let's completely remove symmetry:"
     ]
    },
    {
     "cell_type": "code",
     "collapsed": false,
     "input": [
      "b3lyp_tri_v4 = read(tri_graph_init)\n",
      "b3lyp_tri_v4.set_calculator(Gaussian(label='triang_graphene_v4', method='UB3LYP', basis='6-31G(d)', multiplicity=3, nosymmetry='nosymmetry'))\n",
      "b3lyp_tri_v4.calc.set_job(nodes=12, memory=12*1600, time=5)\n",
      "b3lyp_tri_v4.calc.description = 'UB3LYP, mult=3, nosymm'\n",
      "#b3lyp_tri_v4.calc.start()"
     ],
     "language": "python",
     "metadata": {},
     "outputs": [],
     "prompt_number": 22
    },
    {
     "cell_type": "code",
     "collapsed": false,
     "input": [
      "check_calcs([b3lyp_tri_v4])\n",
      "mols_to_html([b3lyp_tri_v4])"
     ],
     "language": "python",
     "metadata": {},
     "outputs": [
      {
       "html": [
        "\n",
        "           <script type=\"text/javascript\">\n",
        "           function view_function (event, file_n) {\n",
        "               if (event.ctrlKey && event.shiftKey){\n",
        "                   IPython.notebook.kernel.execute(\"cc_notebook_utils.pygview('\" + file_n + \".log')\");\n",
        "               }\n",
        "               else if (event.ctrlKey){\n",
        "                   IPython.notebook.kernel.execute(\"cc_notebook_utils.pygausssum('\" + file_n + \".log')\");\n",
        "               }\n",
        "               else if (event.shiftKey){\n",
        "                   IPython.notebook.kernel.execute(\"cc_notebook_utils.pyvogadro('\" + file_n + \".log')\");\n",
        "               }\n",
        "               else {\n",
        "                   IPython.notebook.kernel.execute(\"cc_notebook_utils.pyvim('\" + file_n + \".log')\");\n",
        "                   IPython.notebook.kernel.execute(\"print(file_n)\");\n",
        "               }\n",
        "           }\n",
        "           </script>\n",
        "    <style>\n",
        "    table\n",
        "    {\n",
        "        border-collapse:collapse;\n",
        "    }\n",
        "    td\n",
        "    {\n",
        "        padding:15px;\n",
        "    }\n",
        "    </style>\n",
        "    <body>\n",
        "    <table bgcolor=\"white\">\n",
        "    <col/><tr><td>triang_graphene_v4</td><td><a href = \"files/triang_graph/triang_graphene_v4.com\" target = \"_blank\">com</a></td><td><input type=\"button\" value=\"Smart Log\" id=\"triang_graphene_v4\" onclick=\"view_function(event, this.id)\" /></td><td>Success</td></tr>\n",
        "    </table>\n",
        "    </body>"
       ],
       "metadata": {},
       "output_type": "pyout",
       "prompt_number": 23,
       "text": [
        "<IPython.core.display.HTML at 0x3f2cfd0>"
       ]
      }
     ],
     "prompt_number": 23
    },
    {
     "cell_type": "code",
     "collapsed": false,
     "input": [
      "b3lyp_tri_v4_stable = copy.deepcopy(b3lyp_tri_v4)\n",
      "b3lyp_tri_v4_stable.calc.restart(stable='opt')\n",
      "b3lyp_tri_v4_stable.calc.description = 'UB3LYP, mult=3, nosymm, stable=opt'\n",
      "#b3lyp_tri_v4_stable.calc.start()"
     ],
     "language": "python",
     "metadata": {},
     "outputs": [],
     "prompt_number": 24
    },
    {
     "cell_type": "code",
     "collapsed": false,
     "input": [
      "check_calcs([b3lyp_tri_v4_stable])\n",
      "mols_to_html([b3lyp_tri_v4_stable])"
     ],
     "language": "python",
     "metadata": {},
     "outputs": [
      {
       "html": [
        "\n",
        "           <script type=\"text/javascript\">\n",
        "           function view_function (event, file_n) {\n",
        "               if (event.ctrlKey && event.shiftKey){\n",
        "                   IPython.notebook.kernel.execute(\"cc_notebook_utils.pygview('\" + file_n + \".log')\");\n",
        "               }\n",
        "               else if (event.ctrlKey){\n",
        "                   IPython.notebook.kernel.execute(\"cc_notebook_utils.pygausssum('\" + file_n + \".log')\");\n",
        "               }\n",
        "               else if (event.shiftKey){\n",
        "                   IPython.notebook.kernel.execute(\"cc_notebook_utils.pyvogadro('\" + file_n + \".log')\");\n",
        "               }\n",
        "               else {\n",
        "                   IPython.notebook.kernel.execute(\"cc_notebook_utils.pyvim('\" + file_n + \".log')\");\n",
        "                   IPython.notebook.kernel.execute(\"print(file_n)\");\n",
        "               }\n",
        "           }\n",
        "           </script>\n",
        "    <style>\n",
        "    table\n",
        "    {\n",
        "        border-collapse:collapse;\n",
        "    }\n",
        "    td\n",
        "    {\n",
        "        padding:15px;\n",
        "    }\n",
        "    </style>\n",
        "    <body>\n",
        "    <table bgcolor=\"white\">\n",
        "    <col/><tr><td>triang_graphene_v4_restart_1</td><td><a href = \"files/triang_graph/triang_graphene_v4_restart_1.com\" target = \"_blank\">com</a></td><td><input type=\"button\" value=\"Smart Log\" id=\"triang_graphene_v4_restart_1\" onclick=\"view_function(event, this.id)\" /></td><td>Success</td></tr>\n",
        "    </table>\n",
        "    </body>"
       ],
       "metadata": {},
       "output_type": "pyout",
       "prompt_number": 25,
       "text": [
        "<IPython.core.display.HTML at 0x3f2c7d0>"
       ]
      }
     ],
     "prompt_number": 25
    },
    {
     "cell_type": "markdown",
     "metadata": {},
     "source": [
      "And for completeness let's try an unreasonabl high multiplicity:"
     ]
    },
    {
     "cell_type": "code",
     "collapsed": false,
     "input": [
      "b3lyp_tri_v5 = read(tri_graph_init)\n",
      "b3lyp_tri_v5.set_calculator(Gaussian(label='triang_graphene_v5', method='UB3LYP', basis='6-31G(d)', multiplicity=5, nosymmetry='nosymmetry'))\n",
      "b3lyp_tri_v5.calc.set_job(nodes=12, memory=12*1600, time=5)\n",
      "b3lyp_tri_v5.calc.description = 'UB3LYP, mult=5, nosymm'\n",
      "#b3lyp_tri_v5.calc.start()"
     ],
     "language": "python",
     "metadata": {},
     "outputs": [],
     "prompt_number": 26
    },
    {
     "cell_type": "code",
     "collapsed": false,
     "input": [
      "check_calcs([b3lyp_tri_v5])\n",
      "mols_to_html([b3lyp_tri_v5])"
     ],
     "language": "python",
     "metadata": {},
     "outputs": [
      {
       "html": [
        "\n",
        "           <script type=\"text/javascript\">\n",
        "           function view_function (event, file_n) {\n",
        "               if (event.ctrlKey && event.shiftKey){\n",
        "                   IPython.notebook.kernel.execute(\"cc_notebook_utils.pygview('\" + file_n + \".log')\");\n",
        "               }\n",
        "               else if (event.ctrlKey){\n",
        "                   IPython.notebook.kernel.execute(\"cc_notebook_utils.pygausssum('\" + file_n + \".log')\");\n",
        "               }\n",
        "               else if (event.shiftKey){\n",
        "                   IPython.notebook.kernel.execute(\"cc_notebook_utils.pyvogadro('\" + file_n + \".log')\");\n",
        "               }\n",
        "               else {\n",
        "                   IPython.notebook.kernel.execute(\"cc_notebook_utils.pyvim('\" + file_n + \".log')\");\n",
        "                   IPython.notebook.kernel.execute(\"print(file_n)\");\n",
        "               }\n",
        "           }\n",
        "           </script>\n",
        "    <style>\n",
        "    table\n",
        "    {\n",
        "        border-collapse:collapse;\n",
        "    }\n",
        "    td\n",
        "    {\n",
        "        padding:15px;\n",
        "    }\n",
        "    </style>\n",
        "    <body>\n",
        "    <table bgcolor=\"white\">\n",
        "    <col/><tr><td>triang_graphene_v5</td><td><a href = \"files/triang_graph/triang_graphene_v5.com\" target = \"_blank\">com</a></td><td><input type=\"button\" value=\"Smart Log\" id=\"triang_graphene_v5\" onclick=\"view_function(event, this.id)\" /></td><td>Success</td></tr>\n",
        "    </table>\n",
        "    </body>"
       ],
       "metadata": {},
       "output_type": "pyout",
       "prompt_number": 27,
       "text": [
        "<IPython.core.display.HTML at 0x3f2c990>"
       ]
      }
     ],
     "prompt_number": 27
    },
    {
     "cell_type": "code",
     "collapsed": false,
     "input": [
      "b3lyp_tri_v5_stable = copy.deepcopy(b3lyp_tri_v5)\n",
      "b3lyp_tri_v5_stable.calc.restart(stable='opt')\n",
      "b3lyp_tri_v5_stable.calc.description = 'UB3LYP, mult=5, nosymm, stable=opt'\n",
      "#b3lyp_tri_v5_stable.calc.start()"
     ],
     "language": "python",
     "metadata": {},
     "outputs": [],
     "prompt_number": 28
    },
    {
     "cell_type": "code",
     "collapsed": false,
     "input": [
      "check_calcs([b3lyp_tri_v5_stable])\n",
      "mols_to_html([b3lyp_tri_v5_stable])"
     ],
     "language": "python",
     "metadata": {},
     "outputs": [
      {
       "html": [
        "\n",
        "           <script type=\"text/javascript\">\n",
        "           function view_function (event, file_n) {\n",
        "               if (event.ctrlKey && event.shiftKey){\n",
        "                   IPython.notebook.kernel.execute(\"cc_notebook_utils.pygview('\" + file_n + \".log')\");\n",
        "               }\n",
        "               else if (event.ctrlKey){\n",
        "                   IPython.notebook.kernel.execute(\"cc_notebook_utils.pygausssum('\" + file_n + \".log')\");\n",
        "               }\n",
        "               else if (event.shiftKey){\n",
        "                   IPython.notebook.kernel.execute(\"cc_notebook_utils.pyvogadro('\" + file_n + \".log')\");\n",
        "               }\n",
        "               else {\n",
        "                   IPython.notebook.kernel.execute(\"cc_notebook_utils.pyvim('\" + file_n + \".log')\");\n",
        "                   IPython.notebook.kernel.execute(\"print(file_n)\");\n",
        "               }\n",
        "           }\n",
        "           </script>\n",
        "    <style>\n",
        "    table\n",
        "    {\n",
        "        border-collapse:collapse;\n",
        "    }\n",
        "    td\n",
        "    {\n",
        "        padding:15px;\n",
        "    }\n",
        "    </style>\n",
        "    <body>\n",
        "    <table bgcolor=\"white\">\n",
        "    <col/><tr><td>triang_graphene_v5_restart_1</td><td><a href = \"files/triang_graph/triang_graphene_v5_restart_1.com\" target = \"_blank\">com</a></td><td><input type=\"button\" value=\"Smart Log\" id=\"triang_graphene_v5_restart_1\" onclick=\"view_function(event, this.id)\" /></td><td>Success</td></tr>\n",
        "    </table>\n",
        "    </body>"
       ],
       "metadata": {},
       "output_type": "pyout",
       "prompt_number": 29,
       "text": [
        "<IPython.core.display.HTML at 0x3f2c650>"
       ]
      }
     ],
     "prompt_number": 29
    },
    {
     "cell_type": "code",
     "collapsed": false,
     "input": [
      "from collections import OrderedDict as OD\n",
      "datify = lambda m: OD([['Calc', m.calc.description],['Energy', m.calc.energy_zero], ['Spin', m.calc.max_data.get('S2A')], ['Energy_delta', m.calc.energy_zero - b3lyp_tri_xqc.calc.energy_zero]])\n",
      "data = map(datify, [b3lyp_tri_xqc, b3lyp_tri_stable, b3lyp_tri_v2, b3lyp_tri_v2_stable, b3lyp_tri_v3, b3lyp_tri_v3_stable, b3lyp_tri_v4, b3lyp_tri_v4_stable, b3lyp_tri_v5, b3lyp_tri_v5_stable])\n",
      "ad_disp.html_multi_dict(data)"
     ],
     "language": "python",
     "metadata": {},
     "outputs": [
      {
       "html": [
        "<table class=\"nowrap\"><tr>\n",
        "<th>\n",
        "Calc\n",
        "</th>\n",
        "<th>\n",
        "Energy\n",
        "</th>\n",
        "<th>\n",
        "Spin\n",
        "</th>\n",
        "<th>\n",
        "Energy_delta\n",
        "</th>\n",
        "<tr>\n",
        "<td><pre>\n",
        "'RB3LYP'\n",
        "</pre></td>\n",
        "<td><pre>\n",
        "-23008.773526396573\n",
        "</pre></td>\n",
        "<td><pre>\n",
        "None\n",
        "</pre></td>\n",
        "<td><pre>\n",
        "0.0\n",
        "</pre></td>\n",
        "</tr>\n",
        "<tr>\n",
        "<td><pre>\n",
        "'RB3LYP, stable=opt'\n",
        "</pre></td>\n",
        "<td><pre>\n",
        "-23009.50328704754\n",
        "</pre></td>\n",
        "<td><pre>\n",
        "0.317148\n",
        "</pre></td>\n",
        "<td><pre>\n",
        "-0.7297606509673642\n",
        "</pre></td>\n",
        "</tr>\n",
        "<tr>\n",
        "<td><pre>\n",
        "'UB3LYP, mult=1'\n",
        "</pre></td>\n",
        "<td><pre>\n",
        "-23009.463172008065\n",
        "</pre></td>\n",
        "<td><pre>\n",
        "0.288534\n",
        "</pre></td>\n",
        "<td><pre>\n",
        "-0.6896456114918692\n",
        "</pre></td>\n",
        "</tr>\n",
        "<tr>\n",
        "<td><pre>\n",
        "'UB3LYP, mult=1, stable=opt'\n",
        "</pre></td>\n",
        "<td><pre>\n",
        "-23009.50328704754\n",
        "</pre></td>\n",
        "<td><pre>\n",
        "0.317152\n",
        "</pre></td>\n",
        "<td><pre>\n",
        "-0.7297606509673642\n",
        "</pre></td>\n",
        "</tr>\n",
        "<tr>\n",
        "<td><pre>\n",
        "'UB3LYP, mult=3'\n",
        "</pre></td>\n",
        "<td><pre>\n",
        "-23009.805804296462\n",
        "</pre></td>\n",
        "<td><pre>\n",
        "2.00843\n",
        "</pre></td>\n",
        "<td><pre>\n",
        "-1.032277899888868\n",
        "</pre></td>\n",
        "</tr>\n",
        "<tr>\n",
        "<td><pre>\n",
        "'UB3LYP, mult=3, stable=opt'\n",
        "</pre></td>\n",
        "<td><pre>\n",
        "-23009.805804296462\n",
        "</pre></td>\n",
        "<td><pre>\n",
        "2.00843\n",
        "</pre></td>\n",
        "<td><pre>\n",
        "-1.032277899888868\n",
        "</pre></td>\n",
        "</tr>\n",
        "<tr>\n",
        "<td><pre>\n",
        "'UB3LYP, mult=3, nosymm'\n",
        "</pre></td>\n",
        "<td><pre>\n",
        "-23009.804974348895\n",
        "</pre></td>\n",
        "<td><pre>\n",
        "2.00843\n",
        "</pre></td>\n",
        "<td><pre>\n",
        "-1.0314479523221962\n",
        "</pre></td>\n",
        "</tr>\n",
        "<tr>\n",
        "<td><pre>\n",
        "'UB3LYP, mult=3, nosymm, stable=opt'\n",
        "</pre></td>\n",
        "<td><pre>\n",
        "-23009.804974348895\n",
        "</pre></td>\n",
        "<td><pre>\n",
        "2.00843\n",
        "</pre></td>\n",
        "<td><pre>\n",
        "-1.0314479523221962\n",
        "</pre></td>\n",
        "</tr>\n",
        "<tr>\n",
        "<td><pre>\n",
        "'UB3LYP, mult=5, nosymm'\n",
        "</pre></td>\n",
        "<td><pre>\n",
        "-23005.64902142866\n",
        "</pre></td>\n",
        "<td><pre>\n",
        "6.001369\n",
        "</pre></td>\n",
        "<td><pre>\n",
        "3.1245049679127987\n",
        "</pre></td>\n",
        "</tr>\n",
        "<tr>\n",
        "<td><pre>\n",
        "'UB3LYP, mult=5, nosymm, stable=opt'\n",
        "</pre></td>\n",
        "<td><pre>\n",
        "-23005.64902142866\n",
        "</pre></td>\n",
        "<td><pre>\n",
        "6.001369\n",
        "</pre></td>\n",
        "<td><pre>\n",
        "3.1245049679127987\n",
        "</pre></td>\n",
        "</tr>\n",
        "</table>"
       ],
       "metadata": {},
       "output_type": "pyout",
       "prompt_number": 30,
       "text": [
        "<IPython.core.display.HTML at 0x3fbbbd0>"
       ]
      }
     ],
     "prompt_number": 30
    },
    {
     "cell_type": "code",
     "collapsed": false,
     "input": [
      "mols_to_html([b3lyp_tri_xqc, b3lyp_tri_stable, b3lyp_tri_v2, b3lyp_tri_v2_stable, b3lyp_tri_v3, b3lyp_tri_v3_stable, b3lyp_tri_v4, b3lyp_tri_v4_stable, b3lyp_tri_v5, b3lyp_tri_v5_stable])"
     ],
     "language": "python",
     "metadata": {},
     "outputs": [
      {
       "html": [
        "\n",
        "           <script type=\"text/javascript\">\n",
        "           function view_function (event, file_n) {\n",
        "               if (event.ctrlKey && event.shiftKey){\n",
        "                   IPython.notebook.kernel.execute(\"cc_notebook_utils.pygview('\" + file_n + \".log')\");\n",
        "               }\n",
        "               else if (event.ctrlKey){\n",
        "                   IPython.notebook.kernel.execute(\"cc_notebook_utils.pygausssum('\" + file_n + \".log')\");\n",
        "               }\n",
        "               else if (event.shiftKey){\n",
        "                   IPython.notebook.kernel.execute(\"cc_notebook_utils.pyvogadro('\" + file_n + \".log')\");\n",
        "               }\n",
        "               else {\n",
        "                   IPython.notebook.kernel.execute(\"cc_notebook_utils.pyvim('\" + file_n + \".log')\");\n",
        "                   IPython.notebook.kernel.execute(\"print(file_n)\");\n",
        "               }\n",
        "           }\n",
        "           </script>\n",
        "    <style>\n",
        "    table\n",
        "    {\n",
        "        border-collapse:collapse;\n",
        "    }\n",
        "    td\n",
        "    {\n",
        "        padding:15px;\n",
        "    }\n",
        "    </style>\n",
        "    <body>\n",
        "    <table bgcolor=\"white\">\n",
        "    <col/><tr><td>triang_graphene_xqc</td><td><a href = \"files/triang_graph/triang_graphene_xqc.com\" target = \"_blank\">com</a></td><td><input type=\"button\" value=\"Smart Log\" id=\"triang_graphene_xqc\" onclick=\"view_function(event, this.id)\" /></td><td>Success</td></tr><tr><td>triang_graphene_xqc_stable_restart_1</td><td><a href = \"files/triang_graph/triang_graphene_xqc_stable_restart_1.com\" target = \"_blank\">com</a></td><td><input type=\"button\" value=\"Smart Log\" id=\"triang_graphene_xqc_stable_restart_1\" onclick=\"view_function(event, this.id)\" /></td><td>Success</td></tr><tr><td>triang_graphene_v2</td><td><a href = \"files/triang_graph/triang_graphene_v2.com\" target = \"_blank\">com</a></td><td><input type=\"button\" value=\"Smart Log\" id=\"triang_graphene_v2\" onclick=\"view_function(event, this.id)\" /></td><td>Success</td></tr><tr><td>triang_graphene_v2_restart_1</td><td><a href = \"files/triang_graph/triang_graphene_v2_restart_1.com\" target = \"_blank\">com</a></td><td><input type=\"button\" value=\"Smart Log\" id=\"triang_graphene_v2_restart_1\" onclick=\"view_function(event, this.id)\" /></td><td>Success</td></tr><tr><td>triang_graphene_v3</td><td><a href = \"files/triang_graph/triang_graphene_v3.com\" target = \"_blank\">com</a></td><td><input type=\"button\" value=\"Smart Log\" id=\"triang_graphene_v3\" onclick=\"view_function(event, this.id)\" /></td><td>Success</td></tr><tr><td>triang_graphene_v3_restart_1</td><td><a href = \"files/triang_graph/triang_graphene_v3_restart_1.com\" target = \"_blank\">com</a></td><td><input type=\"button\" value=\"Smart Log\" id=\"triang_graphene_v3_restart_1\" onclick=\"view_function(event, this.id)\" /></td><td>Success</td></tr><tr><td>triang_graphene_v4</td><td><a href = \"files/triang_graph/triang_graphene_v4.com\" target = \"_blank\">com</a></td><td><input type=\"button\" value=\"Smart Log\" id=\"triang_graphene_v4\" onclick=\"view_function(event, this.id)\" /></td><td>Success</td></tr><tr><td>triang_graphene_v4_restart_1</td><td><a href = \"files/triang_graph/triang_graphene_v4_restart_1.com\" target = \"_blank\">com</a></td><td><input type=\"button\" value=\"Smart Log\" id=\"triang_graphene_v4_restart_1\" onclick=\"view_function(event, this.id)\" /></td><td>Success</td></tr><tr><td>triang_graphene_v5</td><td><a href = \"files/triang_graph/triang_graphene_v5.com\" target = \"_blank\">com</a></td><td><input type=\"button\" value=\"Smart Log\" id=\"triang_graphene_v5\" onclick=\"view_function(event, this.id)\" /></td><td>Success</td></tr><tr><td>triang_graphene_v5_restart_1</td><td><a href = \"files/triang_graph/triang_graphene_v5_restart_1.com\" target = \"_blank\">com</a></td><td><input type=\"button\" value=\"Smart Log\" id=\"triang_graphene_v5_restart_1\" onclick=\"view_function(event, this.id)\" /></td><td>Success</td></tr>\n",
        "    </table>\n",
        "    </body>"
       ],
       "metadata": {},
       "output_type": "pyout",
       "prompt_number": 34,
       "text": [
        "<IPython.core.display.HTML at 0x3659650>"
       ]
      }
     ],
     "prompt_number": 34
    },
    {
     "cell_type": "heading",
     "level": 1,
     "metadata": {},
     "source": [
      "Notes:"
     ]
    },
    {
     "cell_type": "markdown",
     "metadata": {},
     "source": [
      "If we run an unrestricted calculation but specify multiplicity=1 why is this different to a restricted calculation - why do we get some net spin (see calc.max_data['S2A'])? \n",
      "This is an error associated with unrestricted calcs, S2A attempts to correct for it but doesn't quite get to zero.\n",
      "\n",
      "Is there a keyword that allows guassian to pick the lowest energy multiplicity? \n",
      "No."
     ]
    }
   ],
   "metadata": {}
  }
 ]
}