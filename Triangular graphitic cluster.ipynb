{
 "cells": [
  {
   "cell_type": "markdown",
   "metadata": {},
   "source": [
    "Examining why calculations fail for the triangular graphitic cluster we used when first attempting oniom calculcations to [graphene diels alder reactions](Graphene_oniom_cycloadditions.ipynb)"
   ]
  },
  {
   "cell_type": "code",
   "execution_count": 1,
   "metadata": {
    "collapsed": false
   },
   "outputs": [
    {
     "name": "stderr",
     "output_type": "stream",
     "text": [
      "/home/clyde/anaconda/envs/biotools/lib/python2.7/site-packages/setuptools-18.1-py2.7.egg/pkg_resources/__init__.py:1256: UserWarning: /home/clyde/.python-eggs is writable by group/others and vulnerable to attack when used with get_resource_filename. Consider a more secure location (set with .set_extraction_path or the PYTHON_EGG_CACHE environment variable).\n"
     ]
    },
    {
     "data": {
      "application/javascript": [
       "\n",
       "require(['nbextensions/cc_notebook'])\n",
       "require(['nbextensions/jsmol/JSmol.min.nojq'])\n"
      ],
      "text/plain": [
       "<IPython.core.display.Javascript object>"
      ]
     },
     "metadata": {},
     "output_type": "display_data"
    }
   ],
   "source": [
    "#import pandas, os\n",
    "import numpy as np\n",
    "\n",
    "\n",
    "\n",
    "from webbrowser import open as open_log\n",
    "from IPython.core.display import HTML, Image\n",
    "from ase.io import read, write\n",
    "from gausspy import Gaussian\n",
    "from glob import glob\n",
    "from ase_extensions.ase_utils import *\n",
    "from cc_notebook.cc_notebook_utils import *\n",
    "#pandas.set_printoptions(max_rows=200, max_columns=10)\n",
    "#ad_disp.extended_styles()"
   ]
  },
  {
   "cell_type": "code",
   "execution_count": 2,
   "metadata": {
    "collapsed": false
   },
   "outputs": [
    {
     "name": "stdout",
     "output_type": "stream",
     "text": [
      "/home/clyde/Dropbox/Project Stuff/Notebooks/triang_graph\n"
     ]
    }
   ],
   "source": [
    "cd triang_graph/"
   ]
  },
  {
   "cell_type": "code",
   "execution_count": 3,
   "metadata": {
    "collapsed": false
   },
   "outputs": [
    {
     "data": {
      "text/html": [
       "<div style=float:left><div id='applet_div_id_7177337883799'></div></div>\n",
       "<div style=float:left><div id='applet_div_id_6846072710528'></div></div>\n",
       "<script type=\"text/Javascript\">//initialisation\n",
       "    var Info = {\n",
       "        color: \"#FFFFFF\",\n",
       "        width: 550,\n",
       "        height: 550,\n",
       "        serverURL: \"/nbextensions/jsmol/jsmol.php \",\n",
       "        use: \"HTML5\",\n",
       "        j2sPath: \"/nbextensions/jsmol/j2s\",\n",
       "        console: \"jmolApplet0_infodiv\"\n",
       "    }\n",
       "    //prevent applet from immediately generating html - allows us to place the applet in the div we wish\n",
       "    Jmol.setDocument(0)\n",
       "    //start applet\n",
       "    applet_id_7177337883799 = Jmol.getApplet(\"applet_id_7177337883799\", Info)\n",
       "    //insert applet html into applet_div_id_7177337883799\n",
       "    $(\"#applet_div_id_7177337883799\").html(Jmol.getAppletHtml(applet_id_7177337883799))\n",
       "    //execute scripts\n",
       "    Jmol.script(applet_id_7177337883799,\"load triang_graph/triang_graphene_small.xyz; select all; set echo echoname 50% 90%; font echo 27; echo triang_graphene_small;; set frank off; sync . SLAVE;\")\n",
       "    //start applet\n",
       "    applet_id_6846072710528 = Jmol.getApplet(\"applet_id_6846072710528\", Info)\n",
       "    //insert applet html into applet_div_id_6846072710528\n",
       "    $(\"#applet_div_id_6846072710528\").html(Jmol.getAppletHtml(applet_id_6846072710528))\n",
       "    //execute scripts\n",
       "    Jmol.script(applet_id_6846072710528,\"load triang_graph/triang_graphene.xyz; select all; set echo echoname 50% 90%; font echo 27; echo triang_graphene;; set frank off; sync . SLAVE;\")</script>"
      ],
      "text/plain": [
       "<IPython.core.display.HTML object>"
      ]
     },
     "execution_count": 3,
     "metadata": {},
     "output_type": "execute_result"
    }
   ],
   "source": [
    "tri_graph_init, tri_graph_small_init = 'triang_graphene.xyz', 'triang_graphene_small.xyz'\n",
    "view_ipython_jmol([tri_graph_small_init,tri_graph_init], width=550, height=550)"
   ]
  },
  {
   "cell_type": "markdown",
   "metadata": {},
   "source": [
    "The small graphene unit has 13 carbons hence an odd number of p electrons so we will focus on the larger fragment (which was the one causing us problems in the first place). As we expect this to fail we will also try using the scf='xqc' keyword:"
   ]
  },
  {
   "cell_type": "code",
   "execution_count": 4,
   "metadata": {
    "collapsed": false
   },
   "outputs": [
    {
     "data": {
      "application/javascript": [
       "\n",
       "require(['nbextensions/cc_notebook'])\n",
       "require(['nbextensions/jsmol/JSmol.GLmol.min.js'])\n"
      ],
      "text/plain": [
       "<IPython.core.display.Javascript object>"
      ]
     },
     "metadata": {},
     "output_type": "display_data"
    }
   ],
   "source": [
    "from IPython.display import display, Javascript\n",
    "display(Javascript('''\n",
    "require(['nbextensions/cc_notebook'])\n",
    "require(['nbextensions/jsmol/JSmol.GLmol.min.js'])\n",
    "'''))"
   ]
  },
  {
   "cell_type": "markdown",
   "metadata": {},
   "source": [
    "Try the normal a single point calculation at the geometry given by avogadro's forcefield optimisation:"
   ]
  },
  {
   "cell_type": "code",
   "execution_count": 6,
   "metadata": {
    "collapsed": false
   },
   "outputs": [],
   "source": [
    "#to rerun calcs:\n",
    "\n",
    "#gaus_objs = []\n",
    "#stable, mult =['', 'opt'] , [1,3,5]\n",
    "\n",
    "#for stab in stable:\n",
    "#    calc_label = 'B3LYP_triang_graphene_1' if not stab else 'B3LYP_triang_graphene_1_stable'\n",
    "#    gaus_objs.append(Gaussian(label=calc_label, method=B3LYP, basis='6-31G(d)', scf='xqc', multiplicity=1, stable=stab, nosymmetry=''))\n",
    "\n",
    "#for sp in mult:\n",
    "#    for stab in stable:\n",
    "#        calc_label = 'UB3LYP_triang_graphene_{mu}'.format(mu=sp) if not stab else 'UB3LYP_triang_graphene_{mu}_stable'.format(mu=sp)\n",
    "#        gaus_objs.append(Gaussian(label=calc_label, method=UB3LYP, basis='6-31G(d)', multiplicity=sp, stable=stab, nosymmetry=''))\n",
    "    \n",
    "#for stab in stable:\n",
    "#    calc_label = 'UB3LYP_triang_graphene_{mu}_nosymm'.format(mu=sp) if not stab else 'UB3LYP_triang_graphene_{mu}_stable'.format(mu=sp)\n",
    "#    gaus_objs.append(Gaussian(label=calc_label, method=UB3LYP, basis='6-31G(d)', multiplicity=3p, stable=stab, nosymmetry='nosymmetry')))\n",
    "    \n",
    "#calcs = []\n",
    "#for gaus_calc in gaus_objs\n",
    "#    tri=read(tri_graph_init)\n",
    "#    tri.set_calculator(gaus_calc)\n",
    "#    tri.calc.set_job(nodes=8, memory=8*1600, time=5, queue='pqmb')\n",
    "#    calcs.append(tri)"
   ]
  },
  {
   "cell_type": "code",
   "execution_count": 7,
   "metadata": {
    "collapsed": false
   },
   "outputs": [],
   "source": [
    "b3lyp_tri = read(tri_graph_init)\n",
    "b3lyp_tri.set_calculator(Gaussian(label='triang_graphene', method='B3LYP', basis='6-31G(d)'))\n",
    "b3lyp_tri.calc.set_job(nodes=16, memory=16*2000, time=5, queue='pqmb')\n",
    "#b3lyp_tri.calc.start()"
   ]
  },
  {
   "cell_type": "code",
   "execution_count": 7,
   "metadata": {
    "collapsed": false
   },
   "outputs": [],
   "source": [
    "b3lyp_tri_xqc = read(tri_graph_init)\n",
    "b3lyp_tri_xqc.set_calculator(Gaussian(label='triang_graphene_xqc', method='B3LYP', basis='6-31G(d)', scf='xqc'))\n",
    "b3lyp_tri_xqc.calc.set_job(nodes=16, memory=16*2000, time=5, queue='pqmb')\n",
    "b3lyp_tri_xqc.calc.description = 'RB3LYP'\n",
    "#b3lyp_tri_xqc.get_potential_energy()"
   ]
  },
  {
   "cell_type": "code",
   "execution_count": 8,
   "metadata": {
    "collapsed": false
   },
   "outputs": [
    {
     "data": {
      "text/html": [
       "<div style=float:left><div id='applet_div_id_7021618544849'></div></div>\n",
       "<script type=\"text/Javascript\">//initialisation\n",
       "    var Info = {\n",
       "        color: \"#FFFFFF\",\n",
       "        width: 300,\n",
       "        height: 300,\n",
       "        serverURL: \"/nbextensions/jsmol/jsmol.php \",\n",
       "        use: \"HTML5\",\n",
       "        j2sPath: \"/nbextensions/jsmol/j2s\",\n",
       "        console: \"jmolApplet0_infodiv\"\n",
       "    }\n",
       "    //prevent applet from immediately generating html - allows us to place the applet in the div we wish\n",
       "    Jmol.setDocument(0)\n",
       "    //start applet\n",
       "    applet_id_7021618544849 = Jmol.getApplet(\"applet_id_7021618544849\", Info)\n",
       "    //insert applet html into applet_div_id_7021618544849\n",
       "    $(\"#applet_div_id_7021618544849\").html(Jmol.getAppletHtml(applet_id_7021618544849))\n",
       "    //execute scripts\n",
       "    Jmol.script(applet_id_7021618544849,\"load triang_graph/triang_graphene.log; select all; set echo echoname 50% 90%; font echo 15; echo /home/clyde/Project/Notebooks/triang_graph/triang_graphene;; set frank off; sync . SLAVE;\")</script>"
      ],
      "text/plain": [
       "<IPython.core.display.HTML object>"
      ]
     },
     "execution_count": 8,
     "metadata": {},
     "output_type": "execute_result"
    }
   ],
   "source": [
    "view_ipython_jmol(b3lyp_tri)"
   ]
  },
  {
   "cell_type": "code",
   "execution_count": 8,
   "metadata": {
    "collapsed": false
   },
   "outputs": [
    {
     "data": {
      "text/html": [
       "\n",
       "    <style>\n",
       "    table\n",
       "    {\n",
       "        border-collapse:collapse;\n",
       "    }\n",
       "    td\n",
       "    {\n",
       "        padding:15px;\n",
       "    }\n",
       "    </style>\n",
       "    <body>\n",
       "    <table bgcolor=\"white\">\n",
       "    <col/><tr><td>triang_graphene</td><td><input type=\"button\" value=\"Smart Log\" id=\"triang_graphene\" onclick=\"IPython.cc_notebook.view_function(event, this.id)\" /></td><td>Error: Convergence failure -- run terminated.</td></tr><tr><td>triang_graphene_xqc</td><td><input type=\"button\" value=\"Smart Log\" id=\"triang_graphene_xqc\" onclick=\"IPython.cc_notebook.view_function(event, this.id)\" /></td><td>Success</td></tr>\n",
       "    </table>\n",
       "    </body>"
      ],
      "text/plain": [
       "<IPython.core.display.HTML at 0x7f101018f8d0>"
      ]
     },
     "execution_count": 8,
     "metadata": {},
     "output_type": "execute_result"
    }
   ],
   "source": [
    "check_calcs([b3lyp_tri, b3lyp_tri_xqc])\n",
    "mols_to_html([b3lyp_tri, b3lyp_tri_xqc])"
   ]
  },
  {
   "cell_type": "code",
   "execution_count": null,
   "metadata": {
    "collapsed": false
   },
   "outputs": [],
   "source": [
    "b3lyp_tri.calc.base_folder"
   ]
  },
  {
   "cell_type": "markdown",
   "metadata": {},
   "source": [
    "As before the xqc option allows the scf to converge whereas it fails without it. But is it stable?"
   ]
  },
  {
   "cell_type": "code",
   "execution_count": 8,
   "metadata": {
    "collapsed": false
   },
   "outputs": [],
   "source": [
    "b3lyp_tri_stable = copy.deepcopy(b3lyp_tri_xqc)\n",
    "b3lyp_tri_stable.calc.restart(add_label='stable', stable='opt')\n",
    "b3lyp_tri_stable.calc.description = 'RB3LYP, stable=opt'\n",
    "#b3lyp_tri_xqc.calc.start()"
   ]
  },
  {
   "cell_type": "code",
   "execution_count": 9,
   "metadata": {
    "collapsed": false
   },
   "outputs": [
    {
     "data": {
      "text/html": [
       "\n",
       "    <style>\n",
       "    table\n",
       "    {\n",
       "        border-collapse:collapse;\n",
       "    }\n",
       "    td\n",
       "    {\n",
       "        padding:15px;\n",
       "    }\n",
       "    </style>\n",
       "    <body>\n",
       "    <table bgcolor=\"white\">\n",
       "    <col/><tr><td>triang_graphene_xqc_stable_restart_1</td><td><a href = \"files/triang_graph/triang_graphene_xqc_stable_restart_1.com\" target = \"_blank\">com</a></td><td><input type=\"button\" value=\"Smart Log\" id=\"triang_graphene_xqc_stable_restart_1\" onclick=\"IPython.cc_notebook.view_function(event, this.id)\" /></td><td>Success</td></tr>\n",
       "    </table>\n",
       "    </body>"
      ],
      "text/plain": [
       "<IPython.core.display.HTML at 0x7f5d2c32b890>"
      ]
     },
     "execution_count": 9,
     "metadata": {},
     "output_type": "execute_result"
    }
   ],
   "source": [
    "#check_calcs([b3lyp_tri_stable])\n",
    "mols_to_html([b3lyp_tri_stable])"
   ]
  },
  {
   "cell_type": "markdown",
   "metadata": {},
   "source": [
    "<font size=3 color=red>RHF -> UHF instability</font>"
   ]
  },
  {
   "cell_type": "code",
   "execution_count": 10,
   "metadata": {
    "collapsed": false
   },
   "outputs": [
    {
     "name": "stdout",
     "output_type": "stream",
     "text": [
      "['scfenergies', 'moenergies', 'Rmsd', 'Title', 'S2', 'atomnos', 'atomcoords', 'charge', 'Dipole', 'homos', 'Person', 'Charge', 'Version', 'Pg', 'nmo', 'mosyms', 'natom', 'Root', 'Method', 'mult', 'Chemical_Formula', 'scftargets', 'Multiplicity', 'S2A', 'S2-1', 'atomcharges', 'nbasis', 'State', 'Sequence Number', 'scfvalues', 'Atomic_Numbers', 'coreelectrons', 'atommasses', 'Quadrupole', 'Positions', 'Date', 'Basis_Set', 'Hf', 'Computer_System', 'Type_Of_Run']\n"
     ]
    }
   ],
   "source": [
    "print(b3lyp_tri_stable.calc.max_data.keys())"
   ]
  },
  {
   "cell_type": "code",
   "execution_count": 11,
   "metadata": {
    "collapsed": false
   },
   "outputs": [
    {
     "data": {
      "text/plain": [
       "(0.317148, -0.026818199999979697)"
      ]
     },
     "execution_count": 11,
     "metadata": {},
     "output_type": "execute_result"
    }
   ],
   "source": [
    "b3lyp_tri_stable.calc.max_data['S2A'], b3lyp_tri_stable.calc.max_data['Hf'] - b3lyp_tri_xqc.calc.max_data['Hf']"
   ]
  },
  {
   "cell_type": "markdown",
   "metadata": {},
   "source": [
    "But 22 carbons therefore 22 p electrons = 4n+2 so we would have expected paired electrons? No [Huckel's rule](http://en.wikipedia.org/wiki/H%C3%BCckel's_rule) only applies to single ring systems in fact the symmetric geometry is at a conical intersection see: [Mike's paper on this system](http://www.sciencedirect.com/science/article/pii/S1010603007002390)"
   ]
  },
  {
   "cell_type": "markdown",
   "metadata": {},
   "source": [
    "Let's try unrestricted calculations:"
   ]
  },
  {
   "cell_type": "code",
   "execution_count": 12,
   "metadata": {
    "collapsed": false
   },
   "outputs": [],
   "source": [
    "b3lyp_tri_v2 = read(tri_graph_init)\n",
    "b3lyp_tri_v2.set_calculator(Gaussian(label='triang_graphene_v2', method='UB3LYP', basis='6-31G(d)'))\n",
    "b3lyp_tri_v2.calc.set_job(nodes=16, memory=16*2000, time=5)\n",
    "b3lyp_tri_v2.calc.description = 'UB3LYP, mult=1'\n",
    "#b3lyp_tri_v2.get_potential_energy()"
   ]
  },
  {
   "cell_type": "code",
   "execution_count": 13,
   "metadata": {
    "collapsed": false
   },
   "outputs": [],
   "source": [
    "b3lyp_tri_xqc_v2 = read(tri_graph_init)\n",
    "b3lyp_tri_xqc_v2.set_calculator(Gaussian(label='triang_graphene_xqc_v2', method='UB3LYP', basis='6-31G(d)', scf='xqc'))\n",
    "b3lyp_tri_xqc_v2.calc.set_job(nodes=16, memory=16*2000, time=5)\n",
    "#b3lyp_tri_xqc_v2.get_potential_energy()"
   ]
  },
  {
   "cell_type": "code",
   "execution_count": 14,
   "metadata": {
    "collapsed": false
   },
   "outputs": [
    {
     "data": {
      "text/html": [
       "\n",
       "    <style>\n",
       "    table\n",
       "    {\n",
       "        border-collapse:collapse;\n",
       "    }\n",
       "    td\n",
       "    {\n",
       "        padding:15px;\n",
       "    }\n",
       "    </style>\n",
       "    <body>\n",
       "    <table bgcolor=\"white\">\n",
       "    <col/><tr><td>triang_graphene_v2</td><td><a href = \"files/triang_graph/triang_graphene_v2.com\" target = \"_blank\">com</a></td><td><input type=\"button\" value=\"Smart Log\" id=\"triang_graphene_v2\" onclick=\"IPython.cc_notebook.view_function(event, this.id)\" /></td><td>Success</td></tr><tr><td>triang_graphene_xqc_v2</td><td><a href = \"files/triang_graph/triang_graphene_xqc_v2.com\" target = \"_blank\">com</a></td><td><input type=\"button\" value=\"Smart Log\" id=\"triang_graphene_xqc_v2\" onclick=\"IPython.cc_notebook.view_function(event, this.id)\" /></td><td>Success</td></tr>\n",
       "    </table>\n",
       "    </body>"
      ],
      "text/plain": [
       "<IPython.core.display.HTML at 0x7f5d0a92aad0>"
      ]
     },
     "execution_count": 14,
     "metadata": {},
     "output_type": "execute_result"
    }
   ],
   "source": [
    "check_calcs([b3lyp_tri_v2, b3lyp_tri_xqc_v2])\n",
    "mols_to_html([b3lyp_tri_v2, b3lyp_tri_xqc_v2])"
   ]
  },
  {
   "cell_type": "code",
   "execution_count": 15,
   "metadata": {
    "collapsed": false
   },
   "outputs": [
    {
     "data": {
      "text/plain": [
       "(0.288534, -0.6896456114918692)"
      ]
     },
     "execution_count": 15,
     "metadata": {},
     "output_type": "execute_result"
    }
   ],
   "source": [
    "b3lyp_tri_v2.calc.max_data['S2A'], b3lyp_tri_v2.calc.energy_zero - b3lyp_tri_xqc.calc.energy_zero"
   ]
  },
  {
   "cell_type": "markdown",
   "metadata": {},
   "source": [
    "Is this stable?"
   ]
  },
  {
   "cell_type": "code",
   "execution_count": 16,
   "metadata": {
    "collapsed": false
   },
   "outputs": [
    {
     "data": {
      "text/html": [
       "\n",
       "    <style>\n",
       "    table\n",
       "    {\n",
       "        border-collapse:collapse;\n",
       "    }\n",
       "    td\n",
       "    {\n",
       "        padding:15px;\n",
       "    }\n",
       "    </style>\n",
       "    <body>\n",
       "    <table bgcolor=\"white\">\n",
       "    <col/><tr><td>triang_graphene_v2_restart_1</td><td><a href = \"files/triang_graph/triang_graphene_v2_restart_1.com\" target = \"_blank\">com</a></td><td><input type=\"button\" value=\"Smart Log\" id=\"triang_graphene_v2_restart_1\" onclick=\"IPython.cc_notebook.view_function(event, this.id)\" /></td><td>Success</td></tr>\n",
       "    </table>\n",
       "    </body>"
      ],
      "text/plain": [
       "<IPython.core.display.HTML at 0x7f5d0a940710>"
      ]
     },
     "execution_count": 16,
     "metadata": {},
     "output_type": "execute_result"
    }
   ],
   "source": [
    "b3lyp_tri_v2_stable = copy.deepcopy(b3lyp_tri_v2)\n",
    "b3lyp_tri_v2_stable.calc.restart(stable='opt')\n",
    "b3lyp_tri_v2_stable.calc.set_job(nodes=8, memory=8*1600, time=5)\n",
    "b3lyp_tri_v2_stable.calc.description = 'UB3LYP, mult=1, stable=opt'\n",
    "#b3lyp_tri_v2_stable.calc.start()\n",
    "check_calcs([b3lyp_tri_v2_stable])\n",
    "mols_to_html([b3lyp_tri_v2_stable])"
   ]
  },
  {
   "cell_type": "markdown",
   "metadata": {},
   "source": [
    "No there was an 'internal instability'"
   ]
  },
  {
   "cell_type": "markdown",
   "metadata": {},
   "source": [
    "We've been setting multiplicity to 1 but in this case the stability calculations reveal some net spin. Let's try running the calculation with mult=3:"
   ]
  },
  {
   "cell_type": "code",
   "execution_count": 17,
   "metadata": {
    "collapsed": false
   },
   "outputs": [],
   "source": [
    "b3lyp_tri_v3 = read(tri_graph_init)\n",
    "b3lyp_tri_v3.set_calculator(Gaussian(label='triang_graphene_v3', method='UB3LYP', basis='6-31G(d)', multiplicity=3))\n",
    "b3lyp_tri_v3.calc.set_job(nodes=12, memory=12*1600, time=5)\n",
    "b3lyp_tri_v3.calc.description = 'UB3LYP, mult=3'\n",
    "#b3lyp_tri_v3.calc.start()"
   ]
  },
  {
   "cell_type": "code",
   "execution_count": 18,
   "metadata": {
    "collapsed": false
   },
   "outputs": [
    {
     "data": {
      "text/html": [
       "\n",
       "    <style>\n",
       "    table\n",
       "    {\n",
       "        border-collapse:collapse;\n",
       "    }\n",
       "    td\n",
       "    {\n",
       "        padding:15px;\n",
       "    }\n",
       "    </style>\n",
       "    <body>\n",
       "    <table bgcolor=\"white\">\n",
       "    <col/><tr><td>triang_graphene_v3</td><td><a href = \"files/triang_graph/triang_graphene_v3.com\" target = \"_blank\">com</a></td><td><input type=\"button\" value=\"Smart Log\" id=\"triang_graphene_v3\" onclick=\"IPython.cc_notebook.view_function(event, this.id)\" /></td><td>Success</td></tr>\n",
       "    </table>\n",
       "    </body>"
      ],
      "text/plain": [
       "<IPython.core.display.HTML at 0x7f5d0a92a890>"
      ]
     },
     "execution_count": 18,
     "metadata": {},
     "output_type": "execute_result"
    }
   ],
   "source": [
    "check_calcs([b3lyp_tri_v3])\n",
    "mols_to_html([b3lyp_tri_v3])"
   ]
  },
  {
   "cell_type": "code",
   "execution_count": 19,
   "metadata": {
    "collapsed": false
   },
   "outputs": [
    {
     "data": {
      "text/plain": [
       "(2.00843, -1.032277899888868)"
      ]
     },
     "execution_count": 19,
     "metadata": {},
     "output_type": "execute_result"
    }
   ],
   "source": [
    "b3lyp_tri_v3.calc.max_data['S2A'], b3lyp_tri_v3.calc.energy_zero - b3lyp_tri_xqc.calc.energy_zero"
   ]
  },
  {
   "cell_type": "markdown",
   "metadata": {},
   "source": [
    "Is this stable?"
   ]
  },
  {
   "cell_type": "code",
   "execution_count": 20,
   "metadata": {
    "collapsed": false
   },
   "outputs": [
    {
     "data": {
      "text/html": [
       "\n",
       "    <style>\n",
       "    table\n",
       "    {\n",
       "        border-collapse:collapse;\n",
       "    }\n",
       "    td\n",
       "    {\n",
       "        padding:15px;\n",
       "    }\n",
       "    </style>\n",
       "    <body>\n",
       "    <table bgcolor=\"white\">\n",
       "    <col/><tr><td>triang_graphene_v3_restart_1</td><td><a href = \"files/triang_graph/triang_graphene_v3_restart_1.com\" target = \"_blank\">com</a></td><td><input type=\"button\" value=\"Smart Log\" id=\"triang_graphene_v3_restart_1\" onclick=\"IPython.cc_notebook.view_function(event, this.id)\" /></td><td>Success</td></tr>\n",
       "    </table>\n",
       "    </body>"
      ],
      "text/plain": [
       "<IPython.core.display.HTML at 0x7f5d0a940f10>"
      ]
     },
     "execution_count": 20,
     "metadata": {},
     "output_type": "execute_result"
    }
   ],
   "source": [
    "b3lyp_tri_v3_stable = copy.deepcopy(b3lyp_tri_v3)\n",
    "b3lyp_tri_v3_stable.calc.restart(stable='opt')\n",
    "b3lyp_tri_v3_stable.calc.description = 'UB3LYP, mult=3, stable=opt'\n",
    "#b3lyp_tri_v3.calc.start()\n",
    "check_calcs([b3lyp_tri_v3_stable])\n",
    "mols_to_html([b3lyp_tri_v3_stable])"
   ]
  },
  {
   "cell_type": "markdown",
   "metadata": {},
   "source": [
    "Yes wavefunction is stable."
   ]
  },
  {
   "cell_type": "code",
   "execution_count": 21,
   "metadata": {
    "collapsed": false
   },
   "outputs": [
    {
     "data": {
      "text/plain": [
       "(2.00843, -1.032277899888868)"
      ]
     },
     "execution_count": 21,
     "metadata": {},
     "output_type": "execute_result"
    }
   ],
   "source": [
    "b3lyp_tri_v3.calc.max_data['S2A'], b3lyp_tri_v3.calc.energy_zero - b3lyp_tri_xqc.calc.energy_zero"
   ]
  },
  {
   "cell_type": "markdown",
   "metadata": {},
   "source": [
    "Just to be sure let's completely remove symmetry:"
   ]
  },
  {
   "cell_type": "code",
   "execution_count": 22,
   "metadata": {
    "collapsed": false
   },
   "outputs": [],
   "source": [
    "b3lyp_tri_v4 = read(tri_graph_init)\n",
    "b3lyp_tri_v4.set_calculator(Gaussian(label='triang_graphene_v4', method='UB3LYP', basis='6-31G(d)', multiplicity=3, nosymmetry='nosymmetry'))\n",
    "b3lyp_tri_v4.calc.set_job(nodes=12, memory=12*1600, time=5)\n",
    "b3lyp_tri_v4.calc.description = 'UB3LYP, mult=3, nosymm'\n",
    "#b3lyp_tri_v4.calc.start()"
   ]
  },
  {
   "cell_type": "code",
   "execution_count": 23,
   "metadata": {
    "collapsed": false
   },
   "outputs": [
    {
     "data": {
      "text/html": [
       "\n",
       "    <style>\n",
       "    table\n",
       "    {\n",
       "        border-collapse:collapse;\n",
       "    }\n",
       "    td\n",
       "    {\n",
       "        padding:15px;\n",
       "    }\n",
       "    </style>\n",
       "    <body>\n",
       "    <table bgcolor=\"white\">\n",
       "    <col/><tr><td>triang_graphene_v4</td><td><a href = \"files/triang_graph/triang_graphene_v4.com\" target = \"_blank\">com</a></td><td><input type=\"button\" value=\"Smart Log\" id=\"triang_graphene_v4\" onclick=\"IPython.cc_notebook.view_function(event, this.id)\" /></td><td>Success</td></tr>\n",
       "    </table>\n",
       "    </body>"
      ],
      "text/plain": [
       "<IPython.core.display.HTML at 0x7f5d0a92a9d0>"
      ]
     },
     "execution_count": 23,
     "metadata": {},
     "output_type": "execute_result"
    }
   ],
   "source": [
    "check_calcs([b3lyp_tri_v4])\n",
    "mols_to_html([b3lyp_tri_v4])"
   ]
  },
  {
   "cell_type": "code",
   "execution_count": 24,
   "metadata": {
    "collapsed": false
   },
   "outputs": [],
   "source": [
    "b3lyp_tri_v4_stable = copy.deepcopy(b3lyp_tri_v4)\n",
    "b3lyp_tri_v4_stable.calc.restart(stable='opt')\n",
    "b3lyp_tri_v4_stable.calc.description = 'UB3LYP, mult=3, nosymm, stable=opt'\n",
    "#b3lyp_tri_v4_stable.calc.start()"
   ]
  },
  {
   "cell_type": "code",
   "execution_count": 25,
   "metadata": {
    "collapsed": false
   },
   "outputs": [
    {
     "data": {
      "text/html": [
       "\n",
       "    <style>\n",
       "    table\n",
       "    {\n",
       "        border-collapse:collapse;\n",
       "    }\n",
       "    td\n",
       "    {\n",
       "        padding:15px;\n",
       "    }\n",
       "    </style>\n",
       "    <body>\n",
       "    <table bgcolor=\"white\">\n",
       "    <col/><tr><td>triang_graphene_v4_restart_1</td><td><a href = \"files/triang_graph/triang_graphene_v4_restart_1.com\" target = \"_blank\">com</a></td><td><input type=\"button\" value=\"Smart Log\" id=\"triang_graphene_v4_restart_1\" onclick=\"IPython.cc_notebook.view_function(event, this.id)\" /></td><td>Success</td></tr>\n",
       "    </table>\n",
       "    </body>"
      ],
      "text/plain": [
       "<IPython.core.display.HTML at 0x7f5d0a92a990>"
      ]
     },
     "execution_count": 25,
     "metadata": {},
     "output_type": "execute_result"
    }
   ],
   "source": [
    "check_calcs([b3lyp_tri_v4_stable])\n",
    "mols_to_html([b3lyp_tri_v4_stable])"
   ]
  },
  {
   "cell_type": "markdown",
   "metadata": {},
   "source": [
    "And for completeness let's try an unreasonabl high multiplicity:"
   ]
  },
  {
   "cell_type": "code",
   "execution_count": 26,
   "metadata": {
    "collapsed": false
   },
   "outputs": [],
   "source": [
    "b3lyp_tri_v5 = read(tri_graph_init)\n",
    "b3lyp_tri_v5.set_calculator(Gaussian(label='triang_graphene_v5', method='UB3LYP', basis='6-31G(d)', multiplicity=5, nosymmetry='nosymmetry'))\n",
    "b3lyp_tri_v5.calc.set_job(nodes=12, memory=12*1600, time=5)\n",
    "b3lyp_tri_v5.calc.description = 'UB3LYP, mult=5, nosymm'\n",
    "#b3lyp_tri_v5.calc.start()"
   ]
  },
  {
   "cell_type": "code",
   "execution_count": 27,
   "metadata": {
    "collapsed": false
   },
   "outputs": [
    {
     "data": {
      "text/html": [
       "\n",
       "    <style>\n",
       "    table\n",
       "    {\n",
       "        border-collapse:collapse;\n",
       "    }\n",
       "    td\n",
       "    {\n",
       "        padding:15px;\n",
       "    }\n",
       "    </style>\n",
       "    <body>\n",
       "    <table bgcolor=\"white\">\n",
       "    <col/><tr><td>triang_graphene_v5</td><td><a href = \"files/triang_graph/triang_graphene_v5.com\" target = \"_blank\">com</a></td><td><input type=\"button\" value=\"Smart Log\" id=\"triang_graphene_v5\" onclick=\"IPython.cc_notebook.view_function(event, this.id)\" /></td><td>Success</td></tr>\n",
       "    </table>\n",
       "    </body>"
      ],
      "text/plain": [
       "<IPython.core.display.HTML at 0x7f5d0a940990>"
      ]
     },
     "execution_count": 27,
     "metadata": {},
     "output_type": "execute_result"
    }
   ],
   "source": [
    "check_calcs([b3lyp_tri_v5])\n",
    "mols_to_html([b3lyp_tri_v5])"
   ]
  },
  {
   "cell_type": "code",
   "execution_count": 28,
   "metadata": {
    "collapsed": false
   },
   "outputs": [],
   "source": [
    "b3lyp_tri_v5_stable = copy.deepcopy(b3lyp_tri_v5)\n",
    "b3lyp_tri_v5_stable.calc.restart(stable='opt')\n",
    "b3lyp_tri_v5_stable.calc.description = 'UB3LYP, mult=5, nosymm, stable=opt'\n",
    "#b3lyp_tri_v5_stable.calc.start()"
   ]
  },
  {
   "cell_type": "code",
   "execution_count": 29,
   "metadata": {
    "collapsed": false
   },
   "outputs": [
    {
     "data": {
      "text/html": [
       "\n",
       "    <style>\n",
       "    table\n",
       "    {\n",
       "        border-collapse:collapse;\n",
       "    }\n",
       "    td\n",
       "    {\n",
       "        padding:15px;\n",
       "    }\n",
       "    </style>\n",
       "    <body>\n",
       "    <table bgcolor=\"white\">\n",
       "    <col/><tr><td>triang_graphene_v5_restart_1</td><td><a href = \"files/triang_graph/triang_graphene_v5_restart_1.com\" target = \"_blank\">com</a></td><td><input type=\"button\" value=\"Smart Log\" id=\"triang_graphene_v5_restart_1\" onclick=\"IPython.cc_notebook.view_function(event, this.id)\" /></td><td>Success</td></tr>\n",
       "    </table>\n",
       "    </body>"
      ],
      "text/plain": [
       "<IPython.core.display.HTML at 0x7f5d0a940350>"
      ]
     },
     "execution_count": 29,
     "metadata": {},
     "output_type": "execute_result"
    }
   ],
   "source": [
    "check_calcs([b3lyp_tri_v5_stable])\n",
    "mols_to_html([b3lyp_tri_v5_stable])"
   ]
  },
  {
   "cell_type": "code",
   "execution_count": 30,
   "metadata": {
    "collapsed": false
   },
   "outputs": [
    {
     "data": {
      "text/html": [
       "<table class=\"nowrap\"><tr>\n",
       "<th>\n",
       "Calc\n",
       "</th>\n",
       "<th>\n",
       "Energy\n",
       "</th>\n",
       "<th>\n",
       "Spin\n",
       "</th>\n",
       "<th>\n",
       "Energy_delta\n",
       "</th>\n",
       "<tr>\n",
       "<td><pre>\n",
       "'RB3LYP'\n",
       "</pre></td>\n",
       "<td><pre>\n",
       "-23008.773526396573\n",
       "</pre></td>\n",
       "<td><pre>\n",
       "None\n",
       "</pre></td>\n",
       "<td><pre>\n",
       "0.0\n",
       "</pre></td>\n",
       "</tr>\n",
       "<tr>\n",
       "<td><pre>\n",
       "'RB3LYP, stable=opt'\n",
       "</pre></td>\n",
       "<td><pre>\n",
       "-23008.773526396573\n",
       "</pre></td>\n",
       "<td><pre>\n",
       "0.317148\n",
       "</pre></td>\n",
       "<td><pre>\n",
       "0.0\n",
       "</pre></td>\n",
       "</tr>\n",
       "<tr>\n",
       "<td><pre>\n",
       "'UB3LYP, mult=1'\n",
       "</pre></td>\n",
       "<td><pre>\n",
       "-23009.463172008065\n",
       "</pre></td>\n",
       "<td><pre>\n",
       "0.288534\n",
       "</pre></td>\n",
       "<td><pre>\n",
       "-0.6896456114918692\n",
       "</pre></td>\n",
       "</tr>\n",
       "<tr>\n",
       "<td><pre>\n",
       "'UB3LYP, mult=1, stable=opt'\n",
       "</pre></td>\n",
       "<td><pre>\n",
       "-23009.50328704754\n",
       "</pre></td>\n",
       "<td><pre>\n",
       "0.317152\n",
       "</pre></td>\n",
       "<td><pre>\n",
       "-0.7297606509673642\n",
       "</pre></td>\n",
       "</tr>\n",
       "<tr>\n",
       "<td><pre>\n",
       "'UB3LYP, mult=3'\n",
       "</pre></td>\n",
       "<td><pre>\n",
       "-23009.805804296462\n",
       "</pre></td>\n",
       "<td><pre>\n",
       "2.00843\n",
       "</pre></td>\n",
       "<td><pre>\n",
       "-1.032277899888868\n",
       "</pre></td>\n",
       "</tr>\n",
       "<tr>\n",
       "<td><pre>\n",
       "'UB3LYP, mult=3, stable=opt'\n",
       "</pre></td>\n",
       "<td><pre>\n",
       "-23009.805804296462\n",
       "</pre></td>\n",
       "<td><pre>\n",
       "2.00843\n",
       "</pre></td>\n",
       "<td><pre>\n",
       "-1.032277899888868\n",
       "</pre></td>\n",
       "</tr>\n",
       "<tr>\n",
       "<td><pre>\n",
       "'UB3LYP, mult=3, nosymm'\n",
       "</pre></td>\n",
       "<td><pre>\n",
       "-23009.804974348895\n",
       "</pre></td>\n",
       "<td><pre>\n",
       "2.00843\n",
       "</pre></td>\n",
       "<td><pre>\n",
       "-1.0314479523221962\n",
       "</pre></td>\n",
       "</tr>\n",
       "<tr>\n",
       "<td><pre>\n",
       "'UB3LYP, mult=3, nosymm, stable=opt'\n",
       "</pre></td>\n",
       "<td><pre>\n",
       "-23009.804974348895\n",
       "</pre></td>\n",
       "<td><pre>\n",
       "2.00843\n",
       "</pre></td>\n",
       "<td><pre>\n",
       "-1.0314479523221962\n",
       "</pre></td>\n",
       "</tr>\n",
       "<tr>\n",
       "<td><pre>\n",
       "'UB3LYP, mult=5, nosymm'\n",
       "</pre></td>\n",
       "<td><pre>\n",
       "-23005.64902142866\n",
       "</pre></td>\n",
       "<td><pre>\n",
       "6.001369\n",
       "</pre></td>\n",
       "<td><pre>\n",
       "3.1245049679127987\n",
       "</pre></td>\n",
       "</tr>\n",
       "<tr>\n",
       "<td><pre>\n",
       "'UB3LYP, mult=5, nosymm, stable=opt'\n",
       "</pre></td>\n",
       "<td><pre>\n",
       "-23005.64902142866\n",
       "</pre></td>\n",
       "<td><pre>\n",
       "6.001369\n",
       "</pre></td>\n",
       "<td><pre>\n",
       "3.1245049679127987\n",
       "</pre></td>\n",
       "</tr>\n",
       "</table>"
      ],
      "text/plain": [
       "<IPython.core.display.HTML at 0x7f5d09a782d0>"
      ]
     },
     "execution_count": 30,
     "metadata": {},
     "output_type": "execute_result"
    }
   ],
   "source": [
    "from collections import OrderedDict as OD\n",
    "datify = lambda m: OD([['Calc', m.calc.description],['Energy', m.calc.energy_zero], ['Spin', m.calc.max_data.get('S2A')], ['Energy_delta', m.calc.energy_zero - b3lyp_tri_xqc.calc.energy_zero]])\n",
    "data = map(datify, [b3lyp_tri_xqc, b3lyp_tri_stable, b3lyp_tri_v2, b3lyp_tri_v2_stable, b3lyp_tri_v3, b3lyp_tri_v3_stable, b3lyp_tri_v4, b3lyp_tri_v4_stable, b3lyp_tri_v5, b3lyp_tri_v5_stable])\n",
    "ad_disp.html_multi_dict(data)"
   ]
  },
  {
   "cell_type": "code",
   "execution_count": 31,
   "metadata": {
    "collapsed": false
   },
   "outputs": [
    {
     "data": {
      "text/html": [
       "\n",
       "    <style>\n",
       "    table\n",
       "    {\n",
       "        border-collapse:collapse;\n",
       "    }\n",
       "    td\n",
       "    {\n",
       "        padding:15px;\n",
       "    }\n",
       "    </style>\n",
       "    <body>\n",
       "    <table bgcolor=\"white\">\n",
       "    <col/><tr><td>triang_graphene_xqc</td><td><a href = \"files/triang_graph/triang_graphene_xqc.com\" target = \"_blank\">com</a></td><td><input type=\"button\" value=\"Smart Log\" id=\"triang_graphene_xqc\" onclick=\"IPython.cc_notebook.view_function(event, this.id)\" /></td><td>Success</td></tr><tr><td>triang_graphene_xqc_stable_restart_1</td><td><a href = \"files/triang_graph/triang_graphene_xqc_stable_restart_1.com\" target = \"_blank\">com</a></td><td><input type=\"button\" value=\"Smart Log\" id=\"triang_graphene_xqc_stable_restart_1\" onclick=\"IPython.cc_notebook.view_function(event, this.id)\" /></td><td>Success</td></tr><tr><td>triang_graphene_v2</td><td><a href = \"files/triang_graph/triang_graphene_v2.com\" target = \"_blank\">com</a></td><td><input type=\"button\" value=\"Smart Log\" id=\"triang_graphene_v2\" onclick=\"IPython.cc_notebook.view_function(event, this.id)\" /></td><td>Success</td></tr><tr><td>triang_graphene_v2_restart_1</td><td><a href = \"files/triang_graph/triang_graphene_v2_restart_1.com\" target = \"_blank\">com</a></td><td><input type=\"button\" value=\"Smart Log\" id=\"triang_graphene_v2_restart_1\" onclick=\"IPython.cc_notebook.view_function(event, this.id)\" /></td><td>Success</td></tr><tr><td>triang_graphene_v3</td><td><a href = \"files/triang_graph/triang_graphene_v3.com\" target = \"_blank\">com</a></td><td><input type=\"button\" value=\"Smart Log\" id=\"triang_graphene_v3\" onclick=\"IPython.cc_notebook.view_function(event, this.id)\" /></td><td>Success</td></tr><tr><td>triang_graphene_v3_restart_1</td><td><a href = \"files/triang_graph/triang_graphene_v3_restart_1.com\" target = \"_blank\">com</a></td><td><input type=\"button\" value=\"Smart Log\" id=\"triang_graphene_v3_restart_1\" onclick=\"IPython.cc_notebook.view_function(event, this.id)\" /></td><td>Success</td></tr><tr><td>triang_graphene_v4</td><td><a href = \"files/triang_graph/triang_graphene_v4.com\" target = \"_blank\">com</a></td><td><input type=\"button\" value=\"Smart Log\" id=\"triang_graphene_v4\" onclick=\"IPython.cc_notebook.view_function(event, this.id)\" /></td><td>Success</td></tr><tr><td>triang_graphene_v4_restart_1</td><td><a href = \"files/triang_graph/triang_graphene_v4_restart_1.com\" target = \"_blank\">com</a></td><td><input type=\"button\" value=\"Smart Log\" id=\"triang_graphene_v4_restart_1\" onclick=\"IPython.cc_notebook.view_function(event, this.id)\" /></td><td>Success</td></tr><tr><td>triang_graphene_v5</td><td><a href = \"files/triang_graph/triang_graphene_v5.com\" target = \"_blank\">com</a></td><td><input type=\"button\" value=\"Smart Log\" id=\"triang_graphene_v5\" onclick=\"IPython.cc_notebook.view_function(event, this.id)\" /></td><td>Success</td></tr><tr><td>triang_graphene_v5_restart_1</td><td><a href = \"files/triang_graph/triang_graphene_v5_restart_1.com\" target = \"_blank\">com</a></td><td><input type=\"button\" value=\"Smart Log\" id=\"triang_graphene_v5_restart_1\" onclick=\"IPython.cc_notebook.view_function(event, this.id)\" /></td><td>Success</td></tr>\n",
       "    </table>\n",
       "    </body>"
      ],
      "text/plain": [
       "<IPython.core.display.HTML at 0x7f5d0a940810>"
      ]
     },
     "execution_count": 31,
     "metadata": {},
     "output_type": "execute_result"
    }
   ],
   "source": [
    "mols_to_html([b3lyp_tri_xqc, b3lyp_tri_stable, b3lyp_tri_v2, b3lyp_tri_v2_stable, b3lyp_tri_v3, b3lyp_tri_v3_stable, b3lyp_tri_v4, b3lyp_tri_v4_stable, b3lyp_tri_v5, b3lyp_tri_v5_stable])"
   ]
  },
  {
   "cell_type": "markdown",
   "metadata": {},
   "source": [
    "# Notes:"
   ]
  },
  {
   "cell_type": "markdown",
   "metadata": {},
   "source": [
    "If we run an unrestricted calculation but specify multiplicity=1 why is this different to a restricted calculation - why do we get some net spin (see calc.max_data['S2A'])? \n",
    "This is an error associated with unrestricted calcs, S2A attempts to correct for it but doesn't quite get to zero.\n",
    "\n",
    "Is there a keyword that allows guassian to pick the lowest energy multiplicity? \n",
    "No."
   ]
  }
 ],
 "metadata": {
  "kernelspec": {
   "display_name": "Python 2",
   "language": "python",
   "name": "python2"
  },
  "language_info": {
   "codemirror_mode": {
    "name": "ipython",
    "version": 2
   },
   "file_extension": ".py",
   "mimetype": "text/x-python",
   "name": "python",
   "nbconvert_exporter": "python",
   "pygments_lexer": "ipython2",
   "version": "2.7.10"
  }
 },
 "nbformat": 4,
 "nbformat_minor": 0
}
