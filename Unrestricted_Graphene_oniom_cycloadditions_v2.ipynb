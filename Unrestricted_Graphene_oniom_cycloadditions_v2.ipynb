{
 "metadata": {
  "name": ""
 },
 "nbformat": 3,
 "nbformat_minor": 0,
 "worksheets": [
  {
   "cells": [
    {
     "cell_type": "markdown",
     "metadata": {},
     "source": [
      "Continuing on from the [cycloadditions project](Unrestricted_Graphene_oniom_cycloadditions.ipynb) we now construct oniom calculations. These calculations will be run from the cycloadd/oniom directory"
     ]
    },
    {
     "cell_type": "code",
     "collapsed": false,
     "input": [
      "import cc_notebook_utils\n",
      "import pandas, os\n",
      "import numpy as np\n",
      "import pickle as pkl\n",
      "from webbrowser import open as open_log\n",
      "from math import pi\n",
      "from IPython.core.display import HTML, Image\n",
      "from ase.io import read, write\n",
      "from ase.calculators.gaussian import Gaussian\n",
      "from glob import glob\n",
      "from ASE_utils import *\n",
      "from cc_notebook_utils import *\n",
      "from oniom_utils import oniom_stable\n",
      "from gaussian_job_manager import on_server\n",
      "from adsy import display as ad_disp\n",
      "pandas.set_printoptions(max_rows=200, max_columns=10)\n",
      "ad_disp.extended_styles()"
     ],
     "language": "python",
     "metadata": {},
     "outputs": [
      {
       "output_type": "stream",
       "stream": "stderr",
       "text": [
        "WARNING: Neither ~/.pyp_util.ini nor ./pbs_util.ini exist./home/clyde/anaconda/lib/python2.7/site-packages/pandas/core/format.py:1653: FutureWarning: set_printoptions is deprecated, use set_option instead\n",
        "  FutureWarning)\n"
       ]
      },
      {
       "html": [
        "\n",
        "        <script type=\"text/javascript\">\n",
        "        var toggleInput;\n",
        "        (function() {\n",
        "            var inputInterval;\n",
        "            var intervalCount = 0;\n",
        "            var init = false;\n",
        "            var inputUp = false;\n",
        "            toggleInput = function() {\n",
        "                if(inputUp) {\n",
        "                    $('div.input').slideDown();\n",
        "                    $('div.code_cell').attr('style', '');\n",
        "                }\n",
        "                else {\n",
        "                    $('div.input').slideUp();\n",
        "                    $('div.code_cell').attr('style', 'padding: 0px; margin: 0px');\n",
        "                }\n",
        "                inputUp = !inputUp;\n",
        "                init = true;\n",
        "            }\n",
        "            function initExtendedStyles() {\n",
        "                if(intervalCount > 15) {\n",
        "                    clearInterval(inputInterval);\n",
        "                }\n",
        "                intervalCount += 1;\n",
        "                try {\n",
        "                    // Only slideUp if we're not on notebook server\n",
        "                    // meaning Print View and nbconverted\n",
        "                    if($('#save_status').length == 0 && init == false) {\n",
        "                        toggleInput();\n",
        "                    }\n",
        "                    clearInterval(inputInterval);\n",
        "                } catch(e) {}\n",
        "            }\n",
        "            if (typeof jQuery == 'undefined') {\n",
        "                // if jQuery Library is not loaded\n",
        "                var script = document.createElement( 'script' );\n",
        "                script.type = 'text/javascript';\n",
        "                script.src = 'https://ajax.googleapis.com/ajax/libs/jquery/1.8.3/jquery.min.js';\n",
        "                document.body.appendChild(script);\n",
        "            }\n",
        "\n",
        "            setTimeout(initExtendedStyles, 200);\n",
        "            // jQuery is doing this interval trick\n",
        "            // I guess its the way to do it then.\n",
        "            inputInterval = setInterval(initExtendedStyles, 1000);\n",
        "        }());\n",
        "        </script>\n",
        "        <a href=\"javascript:toggleInput()\">Toggle Input</a>\n",
        "        "
       ],
       "metadata": {},
       "output_type": "pyout",
       "prompt_number": 1,
       "text": [
        "<IPython.core.display.HTML at 0x3a82950>"
       ]
      }
     ],
     "prompt_number": 1
    },
    {
     "cell_type": "code",
     "collapsed": false,
     "input": [
      "oniom_stable = on_server(oniom_stable)"
     ],
     "language": "python",
     "metadata": {},
     "outputs": [],
     "prompt_number": 2
    },
    {
     "cell_type": "code",
     "collapsed": false,
     "input": [
      "cd unrestricted_cycloadd_oniom/"
     ],
     "language": "python",
     "metadata": {},
     "outputs": [
      {
       "output_type": "stream",
       "stream": "stdout",
       "text": [
        "/home/clyde/Dropbox/Project Stuff/Notebooks/unrestricted_cycloadd_oniom\n"
       ]
      }
     ],
     "prompt_number": 3
    },
    {
     "cell_type": "heading",
     "level": 2,
     "metadata": {},
     "source": [
      "Single point calculations"
     ]
    },
    {
     "cell_type": "code",
     "collapsed": false,
     "input": [
      "azo_log = 'other/UB3LYP_631Gd_UB3LYP_631Gd_azomethine_ylide_mult_1_stable_restart_1.log'\n",
      "carb_log = 'other/UB3LYP_631Gd_UB3LYP_631Gd_carbonyl_ylide_mult_1_stable_restart_3.log'\n",
      "azo_44_xyz = 'oniom_xyz_files/non_oniom_final/UB3LYP_631Gd_UB3LYP_631Gd_4_4_cent_azomethine_v2_final.xyz'\n",
      "graph_44_xyz = 'oniom_xyz_files/non_oniom_final/UB3LYP_631Gd_UB3LYP_631Gd_4_4_graphene_final.xyz'"
     ],
     "language": "python",
     "metadata": {},
     "outputs": [],
     "prompt_number": 4
    },
    {
     "cell_type": "code",
     "collapsed": false,
     "input": [
      "azo = read(azo_log)\n",
      "#azo.set_calculator(Gaussian(label = 'UB3LYP_631Gd_UB3LYP_631Gd_azomethine_ylide_mult_1_stable_restart_1'))"
     ],
     "language": "python",
     "metadata": {},
     "outputs": [],
     "prompt_number": 5
    },
    {
     "cell_type": "code",
     "collapsed": false,
     "input": [
      "#for pymol selections\n",
      "#'select index ' + 'select index '.join([str(e) for e in graph_atoms[4] + ylide_atoms])"
     ],
     "language": "python",
     "metadata": {},
     "outputs": [],
     "prompt_number": 6
    },
    {
     "cell_type": "code",
     "collapsed": false,
     "input": [
      "ylide_atoms = [67,68,69,70,71,72,73,74]\n",
      "graph_atoms = {}\n",
      "graph_atoms.update({0:[28,29]}) #2 C atoms\n",
      "graph_atoms.update({1:graph_atoms[0] + [12,13,14,15,27,41,42,30]}) #10 C atoms\n",
      "graph_atoms.update({2:graph_atoms[1] + [11,25,26,16,32,31]}) #16 C atoms\n",
      "graph_atoms.update({3:graph_atoms[2] + [24,33]})#18 C atoms\n",
      "graph_atoms.update({4:graph_atoms[2] + [38,39,52,40,47,55,48,56,43,44,53,45,17,6,60,5,4,59,3,58,2,1,57,10]}) # 42 C atoms (total molecule = 50 C atoms)\n",
      "l_methods = ['uam1','upm6','uHF/STO-3G', 'uff']"
     ],
     "language": "python",
     "metadata": {},
     "outputs": [],
     "prompt_number": 7
    },
    {
     "cell_type": "code",
     "collapsed": false,
     "input": [
      "o_44_azo= []\n",
      "o_44 = []\n",
      "\n",
      "for siz in range(5):\n",
      "    for meth in l_methods:\n",
      "        graph_ylid = read(azo_44_xyz)\n",
      "        graph_ylid_name = 'o{s}_{m}_UB3LYP_631Gd_4_4_cent_azomethine'.format(m=meth.replace('/', '_'), s=siz)\n",
      "        graph_ylid.set_calculator(Gaussian(label=graph_ylid_name, method='oniom(UB3LYP/6-31G(d):{l})'.format(l=meth), basis='oniom'))\n",
      "        graph_ylid_H = ylide_atoms + graph_atoms[siz]\n",
      "        graph_ylid.calc.oniom_coord_params['layers'] = [[no -1 for no in graph_ylid_H]]\n",
      "        graph_ylid.calc.oniom_coord_params['layer_mults'] = [1,1]\n",
      "        graph_ylid.calc.set_job(nodes=8, memory=8*1200, time=siz+1, queue='pqmb')  \n",
      "        #oniom_stable(graph_ylid)\n",
      "        o_44_azo.append(graph_ylid)\n",
      "        \n",
      "        graph = read(graph_44_xyz)\n",
      "        graph_name = 'o{s}_{m}_UB3LYP_631Gd_4_4_graphene'.format(m=meth.replace('/', '_'), s=siz)\n",
      "        graph.set_calculator(Gaussian(label=graph_name, method='oniom(UB3LYP/6-31G(d):{l})'.format(l=meth), basis='oniom'))\n",
      "        graph_H = graph_atoms[siz]\n",
      "        graph.calc.oniom_coord_params['layers'] = [[no -1 for no in graph_H]]\n",
      "        graph.calc.oniom_coord_params['layer_mults'] = [1,1]\n",
      "        graph.calc.set_job(nodes=8, memory=8*1200, time=siz+1, queue='pqmb')\n",
      "        #oniom_stable(graph)\n",
      "        o_44.append(graph)"
     ],
     "language": "python",
     "metadata": {},
     "outputs": [
      {
       "output_type": "stream",
       "stream": "stderr",
       "text": [
        "/home/clyde/Software/my_ase/ase/calculators/gaussian.py:267: UserWarning: Non standard label choice: o0_uam1_UB3LYP_631Gd_4_4_cent_azomethine\n",
        "  warnings.warn('Non standard label choice: {l}'.format(l=self.label))\n",
        "/home/clyde/Software/my_ase/ase/calculators/gaussian.py:267: UserWarning: Non standard label choice: o0_uam1_UB3LYP_631Gd_4_4_graphene\n",
        "  warnings.warn('Non standard label choice: {l}'.format(l=self.label))\n",
        "/home/clyde/Software/my_ase/ase/calculators/gaussian.py:267: UserWarning: Non standard label choice: o0_upm6_UB3LYP_631Gd_4_4_cent_azomethine\n",
        "  warnings.warn('Non standard label choice: {l}'.format(l=self.label))\n",
        "/home/clyde/Software/my_ase/ase/calculators/gaussian.py:267: UserWarning: Non standard label choice: o0_upm6_UB3LYP_631Gd_4_4_graphene\n",
        "  warnings.warn('Non standard label choice: {l}'.format(l=self.label))\n",
        "/home/clyde/Software/my_ase/ase/calculators/gaussian.py:267: UserWarning: Non standard label choice: o0_uHF_STO-3G_UB3LYP_631Gd_4_4_cent_azomethine\n",
        "  warnings.warn('Non standard label choice: {l}'.format(l=self.label))\n",
        "/home/clyde/Software/my_ase/ase/calculators/gaussian.py:267: UserWarning: Non standard label choice: o0_uHF_STO-3G_UB3LYP_631Gd_4_4_graphene\n",
        "  warnings.warn('Non standard label choice: {l}'.format(l=self.label))\n",
        "/home/clyde/Software/my_ase/ase/calculators/gaussian.py:267: UserWarning: Non standard label choice: o0_uff_UB3LYP_631Gd_4_4_cent_azomethine\n",
        "  warnings.warn('Non standard label choice: {l}'.format(l=self.label))\n",
        "/home/clyde/Software/my_ase/ase/calculators/gaussian.py:267: UserWarning: Non standard label choice: o0_uff_UB3LYP_631Gd_4_4_graphene\n",
        "  warnings.warn('Non standard label choice: {l}'.format(l=self.label))\n",
        "/home/clyde/Software/my_ase/ase/calculators/gaussian.py:267: UserWarning: Non standard label choice: o1_uam1_UB3LYP_631Gd_4_4_cent_azomethine\n",
        "  warnings.warn('Non standard label choice: {l}'.format(l=self.label))\n",
        "/home/clyde/Software/my_ase/ase/calculators/gaussian.py:267: UserWarning: Non standard label choice: o1_uam1_UB3LYP_631Gd_4_4_graphene\n",
        "  warnings.warn('Non standard label choice: {l}'.format(l=self.label))\n",
        "/home/clyde/Software/my_ase/ase/calculators/gaussian.py:267: UserWarning: Non standard label choice: o1_upm6_UB3LYP_631Gd_4_4_cent_azomethine\n",
        "  warnings.warn('Non standard label choice: {l}'.format(l=self.label))\n",
        "/home/clyde/Software/my_ase/ase/calculators/gaussian.py:267: UserWarning: Non standard label choice: o1_upm6_UB3LYP_631Gd_4_4_graphene\n",
        "  warnings.warn('Non standard label choice: {l}'.format(l=self.label))\n",
        "/home/clyde/Software/my_ase/ase/calculators/gaussian.py:267: UserWarning: Non standard label choice: o1_uHF_STO-3G_UB3LYP_631Gd_4_4_cent_azomethine\n",
        "  warnings.warn('Non standard label choice: {l}'.format(l=self.label))\n",
        "/home/clyde/Software/my_ase/ase/calculators/gaussian.py:267: UserWarning: Non standard label choice: o1_uHF_STO-3G_UB3LYP_631Gd_4_4_graphene\n",
        "  warnings.warn('Non standard label choice: {l}'.format(l=self.label))\n",
        "/home/clyde/Software/my_ase/ase/calculators/gaussian.py:267: UserWarning: Non standard label choice: o1_uff_UB3LYP_631Gd_4_4_cent_azomethine\n",
        "  warnings.warn('Non standard label choice: {l}'.format(l=self.label))\n",
        "/home/clyde/Software/my_ase/ase/calculators/gaussian.py:267: UserWarning: Non standard label choice: o1_uff_UB3LYP_631Gd_4_4_graphene\n",
        "  warnings.warn('Non standard label choice: {l}'.format(l=self.label))\n",
        "/home/clyde/Software/my_ase/ase/calculators/gaussian.py:267: UserWarning: Non standard label choice: o2_uam1_UB3LYP_631Gd_4_4_cent_azomethine\n",
        "  warnings.warn('Non standard label choice: {l}'.format(l=self.label))\n",
        "/home/clyde/Software/my_ase/ase/calculators/gaussian.py:267: UserWarning: Non standard label choice: o2_uam1_UB3LYP_631Gd_4_4_graphene\n",
        "  warnings.warn('Non standard label choice: {l}'.format(l=self.label))\n",
        "/home/clyde/Software/my_ase/ase/calculators/gaussian.py:267: UserWarning: Non standard label choice: o2_upm6_UB3LYP_631Gd_4_4_cent_azomethine\n",
        "  warnings.warn('Non standard label choice: {l}'.format(l=self.label))\n"
       ]
      },
      {
       "output_type": "stream",
       "stream": "stderr",
       "text": [
        "/home/clyde/Software/my_ase/ase/calculators/gaussian.py:267: UserWarning: Non standard label choice: o2_upm6_UB3LYP_631Gd_4_4_graphene\n",
        "  warnings.warn('Non standard label choice: {l}'.format(l=self.label))\n",
        "/home/clyde/Software/my_ase/ase/calculators/gaussian.py:267: UserWarning: Non standard label choice: o2_uHF_STO-3G_UB3LYP_631Gd_4_4_cent_azomethine\n",
        "  warnings.warn('Non standard label choice: {l}'.format(l=self.label))\n",
        "/home/clyde/Software/my_ase/ase/calculators/gaussian.py:267: UserWarning: Non standard label choice: o2_uHF_STO-3G_UB3LYP_631Gd_4_4_graphene\n",
        "  warnings.warn('Non standard label choice: {l}'.format(l=self.label))\n",
        "/home/clyde/Software/my_ase/ase/calculators/gaussian.py:267: UserWarning: Non standard label choice: o2_uff_UB3LYP_631Gd_4_4_cent_azomethine\n",
        "  warnings.warn('Non standard label choice: {l}'.format(l=self.label))\n",
        "/home/clyde/Software/my_ase/ase/calculators/gaussian.py:267: UserWarning: Non standard label choice: o2_uff_UB3LYP_631Gd_4_4_graphene\n",
        "  warnings.warn('Non standard label choice: {l}'.format(l=self.label))\n",
        "/home/clyde/Software/my_ase/ase/calculators/gaussian.py:267: UserWarning: Non standard label choice: o3_uam1_UB3LYP_631Gd_4_4_cent_azomethine\n",
        "  warnings.warn('Non standard label choice: {l}'.format(l=self.label))\n",
        "/home/clyde/Software/my_ase/ase/calculators/gaussian.py:267: UserWarning: Non standard label choice: o3_uam1_UB3LYP_631Gd_4_4_graphene\n",
        "  warnings.warn('Non standard label choice: {l}'.format(l=self.label))\n",
        "/home/clyde/Software/my_ase/ase/calculators/gaussian.py:267: UserWarning: Non standard label choice: o3_upm6_UB3LYP_631Gd_4_4_cent_azomethine\n",
        "  warnings.warn('Non standard label choice: {l}'.format(l=self.label))\n",
        "/home/clyde/Software/my_ase/ase/calculators/gaussian.py:267: UserWarning: Non standard label choice: o3_upm6_UB3LYP_631Gd_4_4_graphene\n",
        "  warnings.warn('Non standard label choice: {l}'.format(l=self.label))\n",
        "/home/clyde/Software/my_ase/ase/calculators/gaussian.py:267: UserWarning: Non standard label choice: o3_uHF_STO-3G_UB3LYP_631Gd_4_4_cent_azomethine\n",
        "  warnings.warn('Non standard label choice: {l}'.format(l=self.label))\n",
        "/home/clyde/Software/my_ase/ase/calculators/gaussian.py:267: UserWarning: Non standard label choice: o3_uHF_STO-3G_UB3LYP_631Gd_4_4_graphene\n",
        "  warnings.warn('Non standard label choice: {l}'.format(l=self.label))\n",
        "/home/clyde/Software/my_ase/ase/calculators/gaussian.py:267: UserWarning: Non standard label choice: o3_uff_UB3LYP_631Gd_4_4_cent_azomethine\n",
        "  warnings.warn('Non standard label choice: {l}'.format(l=self.label))\n",
        "/home/clyde/Software/my_ase/ase/calculators/gaussian.py:267: UserWarning: Non standard label choice: o3_uff_UB3LYP_631Gd_4_4_graphene\n",
        "  warnings.warn('Non standard label choice: {l}'.format(l=self.label))\n",
        "/home/clyde/Software/my_ase/ase/calculators/gaussian.py:267: UserWarning: Non standard label choice: o4_uam1_UB3LYP_631Gd_4_4_cent_azomethine\n",
        "  warnings.warn('Non standard label choice: {l}'.format(l=self.label))\n",
        "/home/clyde/Software/my_ase/ase/calculators/gaussian.py:267: UserWarning: Non standard label choice: o4_uam1_UB3LYP_631Gd_4_4_graphene\n",
        "  warnings.warn('Non standard label choice: {l}'.format(l=self.label))\n"
       ]
      },
      {
       "output_type": "stream",
       "stream": "stderr",
       "text": [
        "/home/clyde/Software/my_ase/ase/calculators/gaussian.py:267: UserWarning: Non standard label choice: o4_upm6_UB3LYP_631Gd_4_4_cent_azomethine\n",
        "  warnings.warn('Non standard label choice: {l}'.format(l=self.label))\n",
        "/home/clyde/Software/my_ase/ase/calculators/gaussian.py:267: UserWarning: Non standard label choice: o4_upm6_UB3LYP_631Gd_4_4_graphene\n",
        "  warnings.warn('Non standard label choice: {l}'.format(l=self.label))\n",
        "/home/clyde/Software/my_ase/ase/calculators/gaussian.py:267: UserWarning: Non standard label choice: o4_uHF_STO-3G_UB3LYP_631Gd_4_4_cent_azomethine\n",
        "  warnings.warn('Non standard label choice: {l}'.format(l=self.label))\n",
        "/home/clyde/Software/my_ase/ase/calculators/gaussian.py:267: UserWarning: Non standard label choice: o4_uHF_STO-3G_UB3LYP_631Gd_4_4_graphene\n",
        "  warnings.warn('Non standard label choice: {l}'.format(l=self.label))\n",
        "/home/clyde/Software/my_ase/ase/calculators/gaussian.py:267: UserWarning: Non standard label choice: o4_uff_UB3LYP_631Gd_4_4_cent_azomethine\n",
        "  warnings.warn('Non standard label choice: {l}'.format(l=self.label))\n",
        "/home/clyde/Software/my_ase/ase/calculators/gaussian.py:267: UserWarning: Non standard label choice: o4_uff_UB3LYP_631Gd_4_4_graphene\n",
        "  warnings.warn('Non standard label choice: {l}'.format(l=self.label))\n"
       ]
      }
     ],
     "prompt_number": 8
    },
    {
     "cell_type": "code",
     "collapsed": false,
     "input": [
      "check_calcs(o_44_azo+o_44)\n",
      "#mols_to_html(o_44_azo+o_44)"
     ],
     "language": "python",
     "metadata": {},
     "outputs": [
      {
       "output_type": "stream",
       "stream": "stderr",
       "text": [
        "/home/clyde/Software/my_ase/ase/calculators/gaussian.py:267: UserWarning: Non standard label choice: ase\n",
        "  warnings.warn('Non standard label choice: {l}'.format(l=self.label))\n",
        "/home/clyde/Software/my_ase/ase/calculators/gaussian.py:267: UserWarning: Non standard label choice: o0_uam1_UB3LYP_631Gd_4_4_cent_azomethine_init_low_real\n",
        "  warnings.warn('Non standard label choice: {l}'.format(l=self.label))\n",
        "/home/clyde/Software/my_ase/ase/calculators/gaussian.py:267: UserWarning: Non standard label choice: o0_uam1_UB3LYP_631Gd_4_4_cent_azomethine_init_high_model\n",
        "  warnings.warn('Non standard label choice: {l}'.format(l=self.label))\n",
        "/home/clyde/Software/my_ase/ase/calculators/gaussian.py:267: UserWarning: Non standard label choice: o0_uam1_UB3LYP_631Gd_4_4_cent_azomethine_init_low_model\n",
        "  warnings.warn('Non standard label choice: {l}'.format(l=self.label))\n",
        "/home/clyde/Software/my_ase/ase/calculators/gaussian.py:267: UserWarning: Non standard label choice: o0_upm6_UB3LYP_631Gd_4_4_cent_azomethine_init_low_real\n",
        "  warnings.warn('Non standard label choice: {l}'.format(l=self.label))\n"
       ]
      },
      {
       "output_type": "stream",
       "stream": "stderr",
       "text": [
        "/home/clyde/Software/my_ase/ase/calculators/gaussian.py:267: UserWarning: Non standard label choice: o0_upm6_UB3LYP_631Gd_4_4_cent_azomethine_init_high_model\n",
        "  warnings.warn('Non standard label choice: {l}'.format(l=self.label))\n",
        "/home/clyde/Software/my_ase/ase/calculators/gaussian.py:267: UserWarning: Non standard label choice: o0_upm6_UB3LYP_631Gd_4_4_cent_azomethine_init_low_model\n",
        "  warnings.warn('Non standard label choice: {l}'.format(l=self.label))\n",
        "/home/clyde/Software/my_ase/ase/calculators/gaussian.py:267: UserWarning: Non standard label choice: o0_uHF_STO-3G_UB3LYP_631Gd_4_4_cent_azomethine_init_low_real\n",
        "  warnings.warn('Non standard label choice: {l}'.format(l=self.label))\n"
       ]
      },
      {
       "output_type": "stream",
       "stream": "stderr",
       "text": [
        "/home/clyde/Software/my_ase/ase/calculators/gaussian.py:267: UserWarning: Non standard label choice: o0_uHF_STO-3G_UB3LYP_631Gd_4_4_cent_azomethine_init_high_model\n",
        "  warnings.warn('Non standard label choice: {l}'.format(l=self.label))\n",
        "/home/clyde/Software/my_ase/ase/calculators/gaussian.py:267: UserWarning: Non standard label choice: o0_uHF_STO-3G_UB3LYP_631Gd_4_4_cent_azomethine_init_low_model\n",
        "  warnings.warn('Non standard label choice: {l}'.format(l=self.label))\n",
        "/home/clyde/Software/my_ase/ase/calculators/gaussian.py:267: UserWarning: Non standard label choice: o0_uff_UB3LYP_631Gd_4_4_cent_azomethine_init_low_real\n",
        "  warnings.warn('Non standard label choice: {l}'.format(l=self.label))\n"
       ]
      },
      {
       "output_type": "stream",
       "stream": "stderr",
       "text": [
        "/home/clyde/Software/my_ase/ase/calculators/gaussian.py:267: UserWarning: Non standard label choice: o0_uff_UB3LYP_631Gd_4_4_cent_azomethine_init_high_model\n",
        "  warnings.warn('Non standard label choice: {l}'.format(l=self.label))\n",
        "/home/clyde/Software/my_ase/ase/calculators/gaussian.py:267: UserWarning: Non standard label choice: o0_uff_UB3LYP_631Gd_4_4_cent_azomethine_init_low_model\n",
        "  warnings.warn('Non standard label choice: {l}'.format(l=self.label))\n",
        "/home/clyde/Software/my_ase/ase/calculators/gaussian.py:267: UserWarning: Non standard label choice: o1_uam1_UB3LYP_631Gd_4_4_cent_azomethine_init_low_real\n",
        "  warnings.warn('Non standard label choice: {l}'.format(l=self.label))\n"
       ]
      },
      {
       "output_type": "stream",
       "stream": "stderr",
       "text": [
        "/home/clyde/Software/my_ase/ase/calculators/gaussian.py:267: UserWarning: Non standard label choice: o1_uam1_UB3LYP_631Gd_4_4_cent_azomethine_init_high_model\n",
        "  warnings.warn('Non standard label choice: {l}'.format(l=self.label))\n",
        "/home/clyde/Software/my_ase/ase/calculators/gaussian.py:267: UserWarning: Non standard label choice: o1_uam1_UB3LYP_631Gd_4_4_cent_azomethine_init_low_model\n",
        "  warnings.warn('Non standard label choice: {l}'.format(l=self.label))\n",
        "/home/clyde/Software/my_ase/ase/calculators/gaussian.py:267: UserWarning: Non standard label choice: o1_upm6_UB3LYP_631Gd_4_4_cent_azomethine_init_low_real\n",
        "  warnings.warn('Non standard label choice: {l}'.format(l=self.label))\n"
       ]
      },
      {
       "output_type": "stream",
       "stream": "stderr",
       "text": [
        "/home/clyde/Software/my_ase/ase/calculators/gaussian.py:267: UserWarning: Non standard label choice: o1_upm6_UB3LYP_631Gd_4_4_cent_azomethine_init_high_model\n",
        "  warnings.warn('Non standard label choice: {l}'.format(l=self.label))\n",
        "/home/clyde/Software/my_ase/ase/calculators/gaussian.py:267: UserWarning: Non standard label choice: o1_upm6_UB3LYP_631Gd_4_4_cent_azomethine_init_low_model\n",
        "  warnings.warn('Non standard label choice: {l}'.format(l=self.label))\n",
        "/home/clyde/Software/my_ase/ase/calculators/gaussian.py:267: UserWarning: Non standard label choice: o1_uHF_STO-3G_UB3LYP_631Gd_4_4_cent_azomethine_init_low_real\n",
        "  warnings.warn('Non standard label choice: {l}'.format(l=self.label))\n"
       ]
      },
      {
       "output_type": "stream",
       "stream": "stderr",
       "text": [
        "/home/clyde/Software/my_ase/ase/calculators/gaussian.py:267: UserWarning: Non standard label choice: o1_uHF_STO-3G_UB3LYP_631Gd_4_4_cent_azomethine_init_high_model\n",
        "  warnings.warn('Non standard label choice: {l}'.format(l=self.label))\n",
        "/home/clyde/Software/my_ase/ase/calculators/gaussian.py:267: UserWarning: Non standard label choice: o1_uHF_STO-3G_UB3LYP_631Gd_4_4_cent_azomethine_init_low_model\n",
        "  warnings.warn('Non standard label choice: {l}'.format(l=self.label))\n",
        "/home/clyde/Software/my_ase/ase/calculators/gaussian.py:267: UserWarning: Non standard label choice: o1_uff_UB3LYP_631Gd_4_4_cent_azomethine_init_low_real\n",
        "  warnings.warn('Non standard label choice: {l}'.format(l=self.label))\n"
       ]
      },
      {
       "output_type": "stream",
       "stream": "stderr",
       "text": [
        "/home/clyde/Software/my_ase/ase/calculators/gaussian.py:267: UserWarning: Non standard label choice: o1_uff_UB3LYP_631Gd_4_4_cent_azomethine_init_high_model\n",
        "  warnings.warn('Non standard label choice: {l}'.format(l=self.label))\n",
        "/home/clyde/Software/my_ase/ase/calculators/gaussian.py:267: UserWarning: Non standard label choice: o1_uff_UB3LYP_631Gd_4_4_cent_azomethine_init_low_model\n",
        "  warnings.warn('Non standard label choice: {l}'.format(l=self.label))\n",
        "/home/clyde/Software/my_ase/ase/calculators/gaussian.py:267: UserWarning: Non standard label choice: o2_uam1_UB3LYP_631Gd_4_4_cent_azomethine_init_low_real\n",
        "  warnings.warn('Non standard label choice: {l}'.format(l=self.label))\n"
       ]
      },
      {
       "output_type": "stream",
       "stream": "stderr",
       "text": [
        "/home/clyde/Software/my_ase/ase/calculators/gaussian.py:267: UserWarning: Non standard label choice: o2_uam1_UB3LYP_631Gd_4_4_cent_azomethine_init_high_model\n",
        "  warnings.warn('Non standard label choice: {l}'.format(l=self.label))\n",
        "/home/clyde/Software/my_ase/ase/calculators/gaussian.py:267: UserWarning: Non standard label choice: o2_uam1_UB3LYP_631Gd_4_4_cent_azomethine_init_low_model\n",
        "  warnings.warn('Non standard label choice: {l}'.format(l=self.label))\n",
        "/home/clyde/Software/my_ase/ase/calculators/gaussian.py:267: UserWarning: Non standard label choice: o2_upm6_UB3LYP_631Gd_4_4_cent_azomethine_init_low_real\n",
        "  warnings.warn('Non standard label choice: {l}'.format(l=self.label))\n"
       ]
      },
      {
       "output_type": "stream",
       "stream": "stderr",
       "text": [
        "/home/clyde/Software/my_ase/ase/calculators/gaussian.py:267: UserWarning: Non standard label choice: o2_upm6_UB3LYP_631Gd_4_4_cent_azomethine_init_high_model\n",
        "  warnings.warn('Non standard label choice: {l}'.format(l=self.label))\n",
        "/home/clyde/Software/my_ase/ase/calculators/gaussian.py:267: UserWarning: Non standard label choice: o2_upm6_UB3LYP_631Gd_4_4_cent_azomethine_init_low_model\n",
        "  warnings.warn('Non standard label choice: {l}'.format(l=self.label))\n",
        "/home/clyde/Software/my_ase/ase/calculators/gaussian.py:267: UserWarning: Non standard label choice: o2_uHF_STO-3G_UB3LYP_631Gd_4_4_cent_azomethine_init_low_real\n",
        "  warnings.warn('Non standard label choice: {l}'.format(l=self.label))\n"
       ]
      },
      {
       "output_type": "stream",
       "stream": "stderr",
       "text": [
        "/home/clyde/Software/my_ase/ase/calculators/gaussian.py:267: UserWarning: Non standard label choice: o2_uHF_STO-3G_UB3LYP_631Gd_4_4_cent_azomethine_init_high_model\n",
        "  warnings.warn('Non standard label choice: {l}'.format(l=self.label))\n",
        "/home/clyde/Software/my_ase/ase/calculators/gaussian.py:267: UserWarning: Non standard label choice: o2_uHF_STO-3G_UB3LYP_631Gd_4_4_cent_azomethine_init_low_model\n",
        "  warnings.warn('Non standard label choice: {l}'.format(l=self.label))\n",
        "/home/clyde/Software/my_ase/ase/calculators/gaussian.py:267: UserWarning: Non standard label choice: o2_uff_UB3LYP_631Gd_4_4_cent_azomethine_init_low_real\n",
        "  warnings.warn('Non standard label choice: {l}'.format(l=self.label))\n"
       ]
      },
      {
       "output_type": "stream",
       "stream": "stderr",
       "text": [
        "/home/clyde/Software/my_ase/ase/calculators/gaussian.py:267: UserWarning: Non standard label choice: o2_uff_UB3LYP_631Gd_4_4_cent_azomethine_init_high_model\n",
        "  warnings.warn('Non standard label choice: {l}'.format(l=self.label))\n",
        "/home/clyde/Software/my_ase/ase/calculators/gaussian.py:267: UserWarning: Non standard label choice: o2_uff_UB3LYP_631Gd_4_4_cent_azomethine_init_low_model\n",
        "  warnings.warn('Non standard label choice: {l}'.format(l=self.label))\n",
        "/home/clyde/Software/my_ase/ase/calculators/gaussian.py:267: UserWarning: Non standard label choice: o3_uam1_UB3LYP_631Gd_4_4_cent_azomethine_init_low_real\n",
        "  warnings.warn('Non standard label choice: {l}'.format(l=self.label))\n"
       ]
      },
      {
       "output_type": "stream",
       "stream": "stderr",
       "text": [
        "/home/clyde/Software/my_ase/ase/calculators/gaussian.py:267: UserWarning: Non standard label choice: o3_uam1_UB3LYP_631Gd_4_4_cent_azomethine_init_high_model\n",
        "  warnings.warn('Non standard label choice: {l}'.format(l=self.label))\n",
        "/home/clyde/Software/my_ase/ase/calculators/gaussian.py:267: UserWarning: Non standard label choice: o3_uam1_UB3LYP_631Gd_4_4_cent_azomethine_init_low_model\n",
        "  warnings.warn('Non standard label choice: {l}'.format(l=self.label))\n",
        "/home/clyde/Software/my_ase/ase/calculators/gaussian.py:267: UserWarning: Non standard label choice: o3_upm6_UB3LYP_631Gd_4_4_cent_azomethine_init_low_real\n",
        "  warnings.warn('Non standard label choice: {l}'.format(l=self.label))\n"
       ]
      },
      {
       "output_type": "stream",
       "stream": "stderr",
       "text": [
        "/home/clyde/Software/my_ase/ase/calculators/gaussian.py:267: UserWarning: Non standard label choice: o3_upm6_UB3LYP_631Gd_4_4_cent_azomethine_init_high_model\n",
        "  warnings.warn('Non standard label choice: {l}'.format(l=self.label))\n",
        "/home/clyde/Software/my_ase/ase/calculators/gaussian.py:267: UserWarning: Non standard label choice: o3_upm6_UB3LYP_631Gd_4_4_cent_azomethine_init_low_model\n",
        "  warnings.warn('Non standard label choice: {l}'.format(l=self.label))\n",
        "/home/clyde/Software/my_ase/ase/calculators/gaussian.py:267: UserWarning: Non standard label choice: o3_uHF_STO-3G_UB3LYP_631Gd_4_4_cent_azomethine_init_low_real\n",
        "  warnings.warn('Non standard label choice: {l}'.format(l=self.label))\n"
       ]
      },
      {
       "output_type": "stream",
       "stream": "stderr",
       "text": [
        "/home/clyde/Software/my_ase/ase/calculators/gaussian.py:267: UserWarning: Non standard label choice: o3_uHF_STO-3G_UB3LYP_631Gd_4_4_cent_azomethine_init_high_model\n",
        "  warnings.warn('Non standard label choice: {l}'.format(l=self.label))\n",
        "/home/clyde/Software/my_ase/ase/calculators/gaussian.py:267: UserWarning: Non standard label choice: o3_uHF_STO-3G_UB3LYP_631Gd_4_4_cent_azomethine_init_low_model\n",
        "  warnings.warn('Non standard label choice: {l}'.format(l=self.label))\n",
        "/home/clyde/Software/my_ase/ase/calculators/gaussian.py:267: UserWarning: Non standard label choice: o3_uff_UB3LYP_631Gd_4_4_cent_azomethine_init_low_real\n",
        "  warnings.warn('Non standard label choice: {l}'.format(l=self.label))\n"
       ]
      },
      {
       "output_type": "stream",
       "stream": "stderr",
       "text": [
        "/home/clyde/Software/my_ase/ase/calculators/gaussian.py:267: UserWarning: Non standard label choice: o3_uff_UB3LYP_631Gd_4_4_cent_azomethine_init_high_model\n",
        "  warnings.warn('Non standard label choice: {l}'.format(l=self.label))\n",
        "/home/clyde/Software/my_ase/ase/calculators/gaussian.py:267: UserWarning: Non standard label choice: o3_uff_UB3LYP_631Gd_4_4_cent_azomethine_init_low_model\n",
        "  warnings.warn('Non standard label choice: {l}'.format(l=self.label))\n",
        "/home/clyde/Software/my_ase/ase/calculators/gaussian.py:267: UserWarning: Non standard label choice: o4_uam1_UB3LYP_631Gd_4_4_cent_azomethine_init_low_real\n",
        "  warnings.warn('Non standard label choice: {l}'.format(l=self.label))\n"
       ]
      },
      {
       "output_type": "stream",
       "stream": "stderr",
       "text": [
        "/home/clyde/Software/my_ase/ase/calculators/gaussian.py:267: UserWarning: Non standard label choice: o4_uam1_UB3LYP_631Gd_4_4_cent_azomethine_init_high_model\n",
        "  warnings.warn('Non standard label choice: {l}'.format(l=self.label))\n",
        "/home/clyde/Software/my_ase/ase/calculators/gaussian.py:267: UserWarning: Non standard label choice: o4_uam1_UB3LYP_631Gd_4_4_cent_azomethine_init_low_model\n",
        "  warnings.warn('Non standard label choice: {l}'.format(l=self.label))\n",
        "/home/clyde/Software/my_ase/ase/calculators/gaussian.py:267: UserWarning: Non standard label choice: o4_upm6_UB3LYP_631Gd_4_4_cent_azomethine_init_low_real\n",
        "  warnings.warn('Non standard label choice: {l}'.format(l=self.label))\n"
       ]
      },
      {
       "output_type": "stream",
       "stream": "stderr",
       "text": [
        "/home/clyde/Software/my_ase/ase/calculators/gaussian.py:267: UserWarning: Non standard label choice: o4_upm6_UB3LYP_631Gd_4_4_cent_azomethine_init_high_model\n",
        "  warnings.warn('Non standard label choice: {l}'.format(l=self.label))\n",
        "/home/clyde/Software/my_ase/ase/calculators/gaussian.py:267: UserWarning: Non standard label choice: o4_upm6_UB3LYP_631Gd_4_4_cent_azomethine_init_low_model\n",
        "  warnings.warn('Non standard label choice: {l}'.format(l=self.label))\n",
        "/home/clyde/Software/my_ase/ase/calculators/gaussian.py:267: UserWarning: Non standard label choice: o4_uHF_STO-3G_UB3LYP_631Gd_4_4_cent_azomethine_init_low_real\n",
        "  warnings.warn('Non standard label choice: {l}'.format(l=self.label))\n"
       ]
      },
      {
       "output_type": "stream",
       "stream": "stderr",
       "text": [
        "/home/clyde/Software/my_ase/ase/calculators/gaussian.py:267: UserWarning: Non standard label choice: o4_uHF_STO-3G_UB3LYP_631Gd_4_4_cent_azomethine_init_high_model\n",
        "  warnings.warn('Non standard label choice: {l}'.format(l=self.label))\n",
        "/home/clyde/Software/my_ase/ase/calculators/gaussian.py:267: UserWarning: Non standard label choice: o4_uHF_STO-3G_UB3LYP_631Gd_4_4_cent_azomethine_init_low_model\n",
        "  warnings.warn('Non standard label choice: {l}'.format(l=self.label))\n",
        "/home/clyde/Software/my_ase/ase/calculators/gaussian.py:267: UserWarning: Non standard label choice: o4_uff_UB3LYP_631Gd_4_4_cent_azomethine_init_low_real\n",
        "  warnings.warn('Non standard label choice: {l}'.format(l=self.label))\n"
       ]
      },
      {
       "output_type": "stream",
       "stream": "stderr",
       "text": [
        "/home/clyde/Software/my_ase/ase/calculators/gaussian.py:267: UserWarning: Non standard label choice: o4_uff_UB3LYP_631Gd_4_4_cent_azomethine_init_high_model\n",
        "  warnings.warn('Non standard label choice: {l}'.format(l=self.label))\n",
        "/home/clyde/Software/my_ase/ase/calculators/gaussian.py:267: UserWarning: Non standard label choice: o4_uff_UB3LYP_631Gd_4_4_cent_azomethine_init_low_model\n",
        "  warnings.warn('Non standard label choice: {l}'.format(l=self.label))\n",
        "/home/clyde/Software/my_ase/ase/calculators/gaussian.py:267: UserWarning: Non standard label choice: o0_uam1_UB3LYP_631Gd_4_4_graphene_init_low_real\n",
        "  warnings.warn('Non standard label choice: {l}'.format(l=self.label))\n"
       ]
      },
      {
       "output_type": "stream",
       "stream": "stderr",
       "text": [
        "/home/clyde/Software/my_ase/ase/calculators/gaussian.py:267: UserWarning: Non standard label choice: o0_uam1_UB3LYP_631Gd_4_4_graphene_init_high_model\n",
        "  warnings.warn('Non standard label choice: {l}'.format(l=self.label))\n",
        "/home/clyde/Software/my_ase/ase/calculators/gaussian.py:267: UserWarning: Non standard label choice: o0_uam1_UB3LYP_631Gd_4_4_graphene_init_low_model\n",
        "  warnings.warn('Non standard label choice: {l}'.format(l=self.label))\n",
        "/home/clyde/Software/my_ase/ase/calculators/gaussian.py:267: UserWarning: Non standard label choice: o0_upm6_UB3LYP_631Gd_4_4_graphene_init_low_real\n",
        "  warnings.warn('Non standard label choice: {l}'.format(l=self.label))\n"
       ]
      },
      {
       "output_type": "stream",
       "stream": "stderr",
       "text": [
        "/home/clyde/Software/my_ase/ase/calculators/gaussian.py:267: UserWarning: Non standard label choice: o0_upm6_UB3LYP_631Gd_4_4_graphene_init_high_model\n",
        "  warnings.warn('Non standard label choice: {l}'.format(l=self.label))\n",
        "/home/clyde/Software/my_ase/ase/calculators/gaussian.py:267: UserWarning: Non standard label choice: o0_upm6_UB3LYP_631Gd_4_4_graphene_init_low_model\n",
        "  warnings.warn('Non standard label choice: {l}'.format(l=self.label))\n",
        "/home/clyde/Software/my_ase/ase/calculators/gaussian.py:267: UserWarning: Non standard label choice: o0_uHF_STO-3G_UB3LYP_631Gd_4_4_graphene_init_low_real\n",
        "  warnings.warn('Non standard label choice: {l}'.format(l=self.label))\n"
       ]
      },
      {
       "output_type": "stream",
       "stream": "stderr",
       "text": [
        "/home/clyde/Software/my_ase/ase/calculators/gaussian.py:267: UserWarning: Non standard label choice: o0_uHF_STO-3G_UB3LYP_631Gd_4_4_graphene_init_high_model\n",
        "  warnings.warn('Non standard label choice: {l}'.format(l=self.label))\n",
        "/home/clyde/Software/my_ase/ase/calculators/gaussian.py:267: UserWarning: Non standard label choice: o0_uHF_STO-3G_UB3LYP_631Gd_4_4_graphene_init_low_model\n",
        "  warnings.warn('Non standard label choice: {l}'.format(l=self.label))\n",
        "/home/clyde/Software/my_ase/ase/calculators/gaussian.py:267: UserWarning: Non standard label choice: o0_uff_UB3LYP_631Gd_4_4_graphene_init_low_real\n",
        "  warnings.warn('Non standard label choice: {l}'.format(l=self.label))\n"
       ]
      },
      {
       "output_type": "stream",
       "stream": "stderr",
       "text": [
        "/home/clyde/Software/my_ase/ase/calculators/gaussian.py:267: UserWarning: Non standard label choice: o0_uff_UB3LYP_631Gd_4_4_graphene_init_high_model\n",
        "  warnings.warn('Non standard label choice: {l}'.format(l=self.label))\n",
        "/home/clyde/Software/my_ase/ase/calculators/gaussian.py:267: UserWarning: Non standard label choice: o0_uff_UB3LYP_631Gd_4_4_graphene_init_low_model\n",
        "  warnings.warn('Non standard label choice: {l}'.format(l=self.label))\n",
        "/home/clyde/Software/my_ase/ase/calculators/gaussian.py:267: UserWarning: Non standard label choice: o1_uam1_UB3LYP_631Gd_4_4_graphene_init_low_real\n",
        "  warnings.warn('Non standard label choice: {l}'.format(l=self.label))\n"
       ]
      },
      {
       "output_type": "stream",
       "stream": "stderr",
       "text": [
        "/home/clyde/Software/my_ase/ase/calculators/gaussian.py:267: UserWarning: Non standard label choice: o1_uam1_UB3LYP_631Gd_4_4_graphene_init_high_model\n",
        "  warnings.warn('Non standard label choice: {l}'.format(l=self.label))\n",
        "/home/clyde/Software/my_ase/ase/calculators/gaussian.py:267: UserWarning: Non standard label choice: o1_uam1_UB3LYP_631Gd_4_4_graphene_init_low_model\n",
        "  warnings.warn('Non standard label choice: {l}'.format(l=self.label))\n",
        "/home/clyde/Software/my_ase/ase/calculators/gaussian.py:267: UserWarning: Non standard label choice: o1_upm6_UB3LYP_631Gd_4_4_graphene_init_low_real\n",
        "  warnings.warn('Non standard label choice: {l}'.format(l=self.label))\n"
       ]
      },
      {
       "output_type": "stream",
       "stream": "stderr",
       "text": [
        "/home/clyde/Software/my_ase/ase/calculators/gaussian.py:267: UserWarning: Non standard label choice: o1_upm6_UB3LYP_631Gd_4_4_graphene_init_high_model\n",
        "  warnings.warn('Non standard label choice: {l}'.format(l=self.label))\n",
        "/home/clyde/Software/my_ase/ase/calculators/gaussian.py:267: UserWarning: Non standard label choice: o1_upm6_UB3LYP_631Gd_4_4_graphene_init_low_model\n",
        "  warnings.warn('Non standard label choice: {l}'.format(l=self.label))\n",
        "/home/clyde/Software/my_ase/ase/calculators/gaussian.py:267: UserWarning: Non standard label choice: o1_uHF_STO-3G_UB3LYP_631Gd_4_4_graphene_init_low_real\n",
        "  warnings.warn('Non standard label choice: {l}'.format(l=self.label))\n"
       ]
      },
      {
       "output_type": "stream",
       "stream": "stderr",
       "text": [
        "/home/clyde/Software/my_ase/ase/calculators/gaussian.py:267: UserWarning: Non standard label choice: o1_uHF_STO-3G_UB3LYP_631Gd_4_4_graphene_init_high_model\n",
        "  warnings.warn('Non standard label choice: {l}'.format(l=self.label))\n",
        "/home/clyde/Software/my_ase/ase/calculators/gaussian.py:267: UserWarning: Non standard label choice: o1_uHF_STO-3G_UB3LYP_631Gd_4_4_graphene_init_low_model\n",
        "  warnings.warn('Non standard label choice: {l}'.format(l=self.label))\n",
        "/home/clyde/Software/my_ase/ase/calculators/gaussian.py:267: UserWarning: Non standard label choice: o1_uff_UB3LYP_631Gd_4_4_graphene_init_low_real\n",
        "  warnings.warn('Non standard label choice: {l}'.format(l=self.label))\n"
       ]
      },
      {
       "output_type": "stream",
       "stream": "stderr",
       "text": [
        "/home/clyde/Software/my_ase/ase/calculators/gaussian.py:267: UserWarning: Non standard label choice: o1_uff_UB3LYP_631Gd_4_4_graphene_init_high_model\n",
        "  warnings.warn('Non standard label choice: {l}'.format(l=self.label))\n",
        "/home/clyde/Software/my_ase/ase/calculators/gaussian.py:267: UserWarning: Non standard label choice: o1_uff_UB3LYP_631Gd_4_4_graphene_init_low_model\n",
        "  warnings.warn('Non standard label choice: {l}'.format(l=self.label))\n",
        "/home/clyde/Software/my_ase/ase/calculators/gaussian.py:267: UserWarning: Non standard label choice: o2_uam1_UB3LYP_631Gd_4_4_graphene_init_low_real\n",
        "  warnings.warn('Non standard label choice: {l}'.format(l=self.label))\n"
       ]
      },
      {
       "output_type": "stream",
       "stream": "stderr",
       "text": [
        "/home/clyde/Software/my_ase/ase/calculators/gaussian.py:267: UserWarning: Non standard label choice: o2_uam1_UB3LYP_631Gd_4_4_graphene_init_high_model\n",
        "  warnings.warn('Non standard label choice: {l}'.format(l=self.label))\n",
        "/home/clyde/Software/my_ase/ase/calculators/gaussian.py:267: UserWarning: Non standard label choice: o2_uam1_UB3LYP_631Gd_4_4_graphene_init_low_model\n",
        "  warnings.warn('Non standard label choice: {l}'.format(l=self.label))\n",
        "/home/clyde/Software/my_ase/ase/calculators/gaussian.py:267: UserWarning: Non standard label choice: o2_upm6_UB3LYP_631Gd_4_4_graphene_init_low_real\n",
        "  warnings.warn('Non standard label choice: {l}'.format(l=self.label))\n"
       ]
      },
      {
       "output_type": "stream",
       "stream": "stderr",
       "text": [
        "/home/clyde/Software/my_ase/ase/calculators/gaussian.py:267: UserWarning: Non standard label choice: o2_upm6_UB3LYP_631Gd_4_4_graphene_init_high_model\n",
        "  warnings.warn('Non standard label choice: {l}'.format(l=self.label))\n",
        "/home/clyde/Software/my_ase/ase/calculators/gaussian.py:267: UserWarning: Non standard label choice: o2_upm6_UB3LYP_631Gd_4_4_graphene_init_low_model\n",
        "  warnings.warn('Non standard label choice: {l}'.format(l=self.label))\n",
        "/home/clyde/Software/my_ase/ase/calculators/gaussian.py:267: UserWarning: Non standard label choice: o2_uHF_STO-3G_UB3LYP_631Gd_4_4_graphene_init_low_real\n",
        "  warnings.warn('Non standard label choice: {l}'.format(l=self.label))\n"
       ]
      },
      {
       "output_type": "stream",
       "stream": "stderr",
       "text": [
        "/home/clyde/Software/my_ase/ase/calculators/gaussian.py:267: UserWarning: Non standard label choice: o2_uHF_STO-3G_UB3LYP_631Gd_4_4_graphene_init_high_model\n",
        "  warnings.warn('Non standard label choice: {l}'.format(l=self.label))\n",
        "/home/clyde/Software/my_ase/ase/calculators/gaussian.py:267: UserWarning: Non standard label choice: o2_uHF_STO-3G_UB3LYP_631Gd_4_4_graphene_init_low_model\n",
        "  warnings.warn('Non standard label choice: {l}'.format(l=self.label))\n",
        "/home/clyde/Software/my_ase/ase/calculators/gaussian.py:267: UserWarning: Non standard label choice: o2_uff_UB3LYP_631Gd_4_4_graphene_init_low_real\n",
        "  warnings.warn('Non standard label choice: {l}'.format(l=self.label))\n"
       ]
      },
      {
       "output_type": "stream",
       "stream": "stderr",
       "text": [
        "/home/clyde/Software/my_ase/ase/calculators/gaussian.py:267: UserWarning: Non standard label choice: o2_uff_UB3LYP_631Gd_4_4_graphene_init_high_model\n",
        "  warnings.warn('Non standard label choice: {l}'.format(l=self.label))\n",
        "/home/clyde/Software/my_ase/ase/calculators/gaussian.py:267: UserWarning: Non standard label choice: o2_uff_UB3LYP_631Gd_4_4_graphene_init_low_model\n",
        "  warnings.warn('Non standard label choice: {l}'.format(l=self.label))\n",
        "/home/clyde/Software/my_ase/ase/calculators/gaussian.py:267: UserWarning: Non standard label choice: o3_uam1_UB3LYP_631Gd_4_4_graphene_init_low_real\n",
        "  warnings.warn('Non standard label choice: {l}'.format(l=self.label))\n"
       ]
      },
      {
       "output_type": "stream",
       "stream": "stderr",
       "text": [
        "/home/clyde/Software/my_ase/ase/calculators/gaussian.py:267: UserWarning: Non standard label choice: o3_uam1_UB3LYP_631Gd_4_4_graphene_init_high_model\n",
        "  warnings.warn('Non standard label choice: {l}'.format(l=self.label))\n",
        "/home/clyde/Software/my_ase/ase/calculators/gaussian.py:267: UserWarning: Non standard label choice: o3_uam1_UB3LYP_631Gd_4_4_graphene_init_low_model\n",
        "  warnings.warn('Non standard label choice: {l}'.format(l=self.label))\n",
        "/home/clyde/Software/my_ase/ase/calculators/gaussian.py:267: UserWarning: Non standard label choice: o3_upm6_UB3LYP_631Gd_4_4_graphene_init_low_real\n",
        "  warnings.warn('Non standard label choice: {l}'.format(l=self.label))\n"
       ]
      },
      {
       "output_type": "stream",
       "stream": "stderr",
       "text": [
        "/home/clyde/Software/my_ase/ase/calculators/gaussian.py:267: UserWarning: Non standard label choice: o3_upm6_UB3LYP_631Gd_4_4_graphene_init_high_model\n",
        "  warnings.warn('Non standard label choice: {l}'.format(l=self.label))\n",
        "/home/clyde/Software/my_ase/ase/calculators/gaussian.py:267: UserWarning: Non standard label choice: o3_upm6_UB3LYP_631Gd_4_4_graphene_init_low_model\n",
        "  warnings.warn('Non standard label choice: {l}'.format(l=self.label))\n",
        "/home/clyde/Software/my_ase/ase/calculators/gaussian.py:267: UserWarning: Non standard label choice: o3_uHF_STO-3G_UB3LYP_631Gd_4_4_graphene_init_low_real\n",
        "  warnings.warn('Non standard label choice: {l}'.format(l=self.label))\n"
       ]
      },
      {
       "output_type": "stream",
       "stream": "stderr",
       "text": [
        "/home/clyde/Software/my_ase/ase/calculators/gaussian.py:267: UserWarning: Non standard label choice: o3_uHF_STO-3G_UB3LYP_631Gd_4_4_graphene_init_high_model\n",
        "  warnings.warn('Non standard label choice: {l}'.format(l=self.label))\n",
        "/home/clyde/Software/my_ase/ase/calculators/gaussian.py:267: UserWarning: Non standard label choice: o3_uHF_STO-3G_UB3LYP_631Gd_4_4_graphene_init_low_model\n",
        "  warnings.warn('Non standard label choice: {l}'.format(l=self.label))\n",
        "/home/clyde/Software/my_ase/ase/calculators/gaussian.py:267: UserWarning: Non standard label choice: o3_uff_UB3LYP_631Gd_4_4_graphene_init_low_real\n",
        "  warnings.warn('Non standard label choice: {l}'.format(l=self.label))\n"
       ]
      },
      {
       "output_type": "stream",
       "stream": "stderr",
       "text": [
        "/home/clyde/Software/my_ase/ase/calculators/gaussian.py:267: UserWarning: Non standard label choice: o3_uff_UB3LYP_631Gd_4_4_graphene_init_high_model\n",
        "  warnings.warn('Non standard label choice: {l}'.format(l=self.label))\n",
        "/home/clyde/Software/my_ase/ase/calculators/gaussian.py:267: UserWarning: Non standard label choice: o3_uff_UB3LYP_631Gd_4_4_graphene_init_low_model\n",
        "  warnings.warn('Non standard label choice: {l}'.format(l=self.label))\n",
        "/home/clyde/Software/my_ase/ase/calculators/gaussian.py:267: UserWarning: Non standard label choice: o4_uam1_UB3LYP_631Gd_4_4_graphene_init_low_real\n",
        "  warnings.warn('Non standard label choice: {l}'.format(l=self.label))\n"
       ]
      },
      {
       "output_type": "stream",
       "stream": "stderr",
       "text": [
        "/home/clyde/Software/my_ase/ase/calculators/gaussian.py:267: UserWarning: Non standard label choice: o4_uam1_UB3LYP_631Gd_4_4_graphene_init_high_model\n",
        "  warnings.warn('Non standard label choice: {l}'.format(l=self.label))\n",
        "/home/clyde/Software/my_ase/ase/calculators/gaussian.py:267: UserWarning: Non standard label choice: o4_uam1_UB3LYP_631Gd_4_4_graphene_init_low_model\n",
        "  warnings.warn('Non standard label choice: {l}'.format(l=self.label))\n",
        "/home/clyde/Software/my_ase/ase/calculators/gaussian.py:267: UserWarning: Non standard label choice: o4_upm6_UB3LYP_631Gd_4_4_graphene_init_low_real\n",
        "  warnings.warn('Non standard label choice: {l}'.format(l=self.label))\n"
       ]
      },
      {
       "output_type": "stream",
       "stream": "stderr",
       "text": [
        "/home/clyde/Software/my_ase/ase/calculators/gaussian.py:267: UserWarning: Non standard label choice: o4_upm6_UB3LYP_631Gd_4_4_graphene_init_high_model\n",
        "  warnings.warn('Non standard label choice: {l}'.format(l=self.label))\n",
        "/home/clyde/Software/my_ase/ase/calculators/gaussian.py:267: UserWarning: Non standard label choice: o4_upm6_UB3LYP_631Gd_4_4_graphene_init_low_model\n",
        "  warnings.warn('Non standard label choice: {l}'.format(l=self.label))\n",
        "/home/clyde/Software/my_ase/ase/calculators/gaussian.py:267: UserWarning: Non standard label choice: o4_uHF_STO-3G_UB3LYP_631Gd_4_4_graphene_init_low_real\n",
        "  warnings.warn('Non standard label choice: {l}'.format(l=self.label))\n"
       ]
      },
      {
       "output_type": "stream",
       "stream": "stderr",
       "text": [
        "/home/clyde/Software/my_ase/ase/calculators/gaussian.py:267: UserWarning: Non standard label choice: o4_uHF_STO-3G_UB3LYP_631Gd_4_4_graphene_init_high_model\n",
        "  warnings.warn('Non standard label choice: {l}'.format(l=self.label))\n",
        "/home/clyde/Software/my_ase/ase/calculators/gaussian.py:267: UserWarning: Non standard label choice: o4_uHF_STO-3G_UB3LYP_631Gd_4_4_graphene_init_low_model\n",
        "  warnings.warn('Non standard label choice: {l}'.format(l=self.label))\n",
        "/home/clyde/Software/my_ase/ase/calculators/gaussian.py:267: UserWarning: Non standard label choice: o4_uff_UB3LYP_631Gd_4_4_graphene_init_low_real\n",
        "  warnings.warn('Non standard label choice: {l}'.format(l=self.label))\n"
       ]
      },
      {
       "output_type": "stream",
       "stream": "stderr",
       "text": [
        "/home/clyde/Software/my_ase/ase/calculators/gaussian.py:267: UserWarning: Non standard label choice: o4_uff_UB3LYP_631Gd_4_4_graphene_init_high_model\n",
        "  warnings.warn('Non standard label choice: {l}'.format(l=self.label))\n",
        "/home/clyde/Software/my_ase/ase/calculators/gaussian.py:267: UserWarning: Non standard label choice: o4_uff_UB3LYP_631Gd_4_4_graphene_init_low_model\n",
        "  warnings.warn('Non standard label choice: {l}'.format(l=self.label))\n"
       ]
      },
      {
       "metadata": {},
       "output_type": "pyout",
       "prompt_number": 9,
       "text": [
        "'Calculations complete'"
       ]
      }
     ],
     "prompt_number": 9
    },
    {
     "cell_type": "code",
     "collapsed": false,
     "input": [
      "mols_to_html(o_44[8].calc.components)"
     ],
     "language": "python",
     "metadata": {},
     "outputs": [
      {
       "html": [
        "\n",
        "           <script type=\"text/javascript\">\n",
        "           function view_function (event, file_n) {\n",
        "               if (event.ctrlKey && event.shiftKey){\n",
        "                   IPython.notebook.kernel.execute(\"cc_notebook_utils.pygview('\" + file_n + \".log')\");\n",
        "               }\n",
        "               else if (event.ctrlKey){\n",
        "                   IPython.notebook.kernel.execute(\"cc_notebook_utils.pygausssum('\" + file_n + \".log')\");\n",
        "               }\n",
        "               else if (event.shiftKey){\n",
        "                   IPython.notebook.kernel.execute(\"cc_notebook_utils.pyvogadro('\" + file_n + \".log')\");\n",
        "               }\n",
        "               else {\n",
        "                   IPython.notebook.kernel.execute(\"cc_notebook_utils.pyvim('\" + file_n + \".log')\");\n",
        "                   IPython.notebook.kernel.execute(\"print(file_n)\");\n",
        "               }\n",
        "           }\n",
        "           </script>\n",
        "    <style>\n",
        "    table\n",
        "    {\n",
        "        border-collapse:collapse;\n",
        "    }\n",
        "    td\n",
        "    {\n",
        "        padding:15px;\n",
        "    }\n",
        "    </style>\n",
        "    <body>\n",
        "    <table bgcolor=\"white\">\n",
        "    <col/><tr><td>o2_uam1_UB3LYP_631Gd_4_4_graphene_init_low_real</td><td><a href = \"files/unrestricted_cycloadd_oniom/o2_uam1_UB3LYP_631Gd_4_4_graphene_init_low_real.com\" target = \"_blank\">com</a></td><td><input type=\"button\" value=\"Smart Log\" id=\"o2_uam1_UB3LYP_631Gd_4_4_graphene_init_low_real\" onclick=\"view_function(event, this.id)\" /></td><td>Success</td></tr><tr><td>o2_uam1_UB3LYP_631Gd_4_4_graphene_init_high_model</td><td><a href = \"files/unrestricted_cycloadd_oniom/o2_uam1_UB3LYP_631Gd_4_4_graphene_init_high_model.com\" target = \"_blank\">com</a></td><td><input type=\"button\" value=\"Smart Log\" id=\"o2_uam1_UB3LYP_631Gd_4_4_graphene_init_high_model\" onclick=\"view_function(event, this.id)\" /></td><td>Success</td></tr><tr><td>o2_uam1_UB3LYP_631Gd_4_4_graphene_init_low_model</td><td><a href = \"files/unrestricted_cycloadd_oniom/o2_uam1_UB3LYP_631Gd_4_4_graphene_init_low_model.com\" target = \"_blank\">com</a></td><td><input type=\"button\" value=\"Smart Log\" id=\"o2_uam1_UB3LYP_631Gd_4_4_graphene_init_low_model\" onclick=\"view_function(event, this.id)\" /></td><td>Success</td></tr>\n",
        "    </table>\n",
        "    </body>"
       ],
       "metadata": {},
       "output_type": "pyout",
       "prompt_number": 10,
       "text": [
        "<IPython.core.display.HTML at 0x3b955d0>"
       ]
      }
     ],
     "prompt_number": 10
    },
    {
     "cell_type": "code",
     "collapsed": false,
     "input": [
      "def rxn_E_f(a,g):\n",
      "    try: \n",
      "        return(a.calc.energy_zero - g.calc.energy_zero - azo.calc.energy)* 23.060542301388647 \n",
      "    except AttributeError: \n",
      "        return float('nan')\n",
      "    \n",
      "rxn_Es = []\n",
      "delt_Es = []\n",
      "names = []\n",
      "\n",
      "for i in range(len(o_44_azo)):\n",
      "    rxn_E = rxn_E_f(o_44_azo[i], o_44[i])\n",
      "    delt_E = rxn_E - 6.218933\n",
      "    name = o_44_azo[i].calc.label\n",
      "    rxn_Es.append(rxn_E)\n",
      "    delt_Es.append(delt_E)\n",
      "    names.append(name)\n",
      "\n",
      "o_data = pandas.Series(rxn_Es ,names)\n",
      "o_dft_delt_data = pandas.Series(delt_Es, names)"
     ],
     "language": "python",
     "metadata": {},
     "outputs": [],
     "prompt_number": 11
    },
    {
     "cell_type": "code",
     "collapsed": false,
     "input": [
      "#energy in Kcal/mol\n",
      "d = {'Rxn Energy': o_data, 'oniom-b3lyp_delta': o_dft_delt_data}\n",
      "rxn_frame = pandas.DataFrame(d)\n",
      "#rxn_frame.save('o_rxn_E_data.pickle')\n",
      "rxn_frame"
     ],
     "language": "python",
     "metadata": {},
     "outputs": [
      {
       "html": [
        "<div style=\"max-height:1000px;max-width:1500px;overflow:auto;\">\n",
        "<table border=\"1\" class=\"dataframe\">\n",
        "  <thead>\n",
        "    <tr style=\"text-align: right;\">\n",
        "      <th></th>\n",
        "      <th>Rxn Energy</th>\n",
        "      <th>oniom-b3lyp_delta</th>\n",
        "    </tr>\n",
        "  </thead>\n",
        "  <tbody>\n",
        "    <tr>\n",
        "      <th>o0_uam1_UB3LYP_631Gd_4_4_cent_azomethine</th>\n",
        "      <td>  0.575970</td>\n",
        "      <td> -5.642963</td>\n",
        "    </tr>\n",
        "    <tr>\n",
        "      <th>o0_upm6_UB3LYP_631Gd_4_4_cent_azomethine</th>\n",
        "      <td>-21.680108</td>\n",
        "      <td>-27.899041</td>\n",
        "    </tr>\n",
        "    <tr>\n",
        "      <th>o0_uHF_STO-3G_UB3LYP_631Gd_4_4_cent_azomethine</th>\n",
        "      <td> 22.461853</td>\n",
        "      <td> 16.242920</td>\n",
        "    </tr>\n",
        "    <tr>\n",
        "      <th>o0_uff_UB3LYP_631Gd_4_4_cent_azomethine</th>\n",
        "      <td>-71.977655</td>\n",
        "      <td>-78.196588</td>\n",
        "    </tr>\n",
        "    <tr>\n",
        "      <th>o1_uam1_UB3LYP_631Gd_4_4_cent_azomethine</th>\n",
        "      <td> 14.921704</td>\n",
        "      <td>  8.702771</td>\n",
        "    </tr>\n",
        "    <tr>\n",
        "      <th>o1_upm6_UB3LYP_631Gd_4_4_cent_azomethine</th>\n",
        "      <td> 12.299834</td>\n",
        "      <td>  6.080901</td>\n",
        "    </tr>\n",
        "    <tr>\n",
        "      <th>o1_uHF_STO-3G_UB3LYP_631Gd_4_4_cent_azomethine</th>\n",
        "      <td> 14.919030</td>\n",
        "      <td>  8.700097</td>\n",
        "    </tr>\n",
        "    <tr>\n",
        "      <th>o1_uff_UB3LYP_631Gd_4_4_cent_azomethine</th>\n",
        "      <td> 13.383600</td>\n",
        "      <td>  7.164667</td>\n",
        "    </tr>\n",
        "    <tr>\n",
        "      <th>o2_uam1_UB3LYP_631Gd_4_4_cent_azomethine</th>\n",
        "      <td>  9.516932</td>\n",
        "      <td>  3.297999</td>\n",
        "    </tr>\n",
        "    <tr>\n",
        "      <th>o2_upm6_UB3LYP_631Gd_4_4_cent_azomethine</th>\n",
        "      <td>  7.775929</td>\n",
        "      <td>  1.556996</td>\n",
        "    </tr>\n",
        "    <tr>\n",
        "      <th>o2_uHF_STO-3G_UB3LYP_631Gd_4_4_cent_azomethine</th>\n",
        "      <td> 14.462260</td>\n",
        "      <td>  8.243327</td>\n",
        "    </tr>\n",
        "    <tr>\n",
        "      <th>o2_uff_UB3LYP_631Gd_4_4_cent_azomethine</th>\n",
        "      <td> 10.697179</td>\n",
        "      <td>  4.478246</td>\n",
        "    </tr>\n",
        "    <tr>\n",
        "      <th>o3_uam1_UB3LYP_631Gd_4_4_cent_azomethine</th>\n",
        "      <td> -0.231357</td>\n",
        "      <td> -6.450290</td>\n",
        "    </tr>\n",
        "    <tr>\n",
        "      <th>o3_upm6_UB3LYP_631Gd_4_4_cent_azomethine</th>\n",
        "      <td> -1.897484</td>\n",
        "      <td> -8.116417</td>\n",
        "    </tr>\n",
        "    <tr>\n",
        "      <th>o3_uHF_STO-3G_UB3LYP_631Gd_4_4_cent_azomethine</th>\n",
        "      <td>  2.870879</td>\n",
        "      <td> -3.348054</td>\n",
        "    </tr>\n",
        "    <tr>\n",
        "      <th>o3_uff_UB3LYP_631Gd_4_4_cent_azomethine</th>\n",
        "      <td>-14.360000</td>\n",
        "      <td>-20.578933</td>\n",
        "    </tr>\n",
        "    <tr>\n",
        "      <th>o4_uam1_UB3LYP_631Gd_4_4_cent_azomethine</th>\n",
        "      <td> 18.626067</td>\n",
        "      <td> 12.407134</td>\n",
        "    </tr>\n",
        "    <tr>\n",
        "      <th>o4_upm6_UB3LYP_631Gd_4_4_cent_azomethine</th>\n",
        "      <td> 18.406042</td>\n",
        "      <td> 12.187109</td>\n",
        "    </tr>\n",
        "    <tr>\n",
        "      <th>o4_uHF_STO-3G_UB3LYP_631Gd_4_4_cent_azomethine</th>\n",
        "      <td> 19.203991</td>\n",
        "      <td> 12.985058</td>\n",
        "    </tr>\n",
        "    <tr>\n",
        "      <th>o4_uff_UB3LYP_631Gd_4_4_cent_azomethine</th>\n",
        "      <td> 18.564485</td>\n",
        "      <td> 12.345552</td>\n",
        "    </tr>\n",
        "  </tbody>\n",
        "</table>\n",
        "</div>"
       ],
       "metadata": {},
       "output_type": "pyout",
       "prompt_number": 12,
       "text": [
        "                                                Rxn Energy  oniom-b3lyp_delta\n",
        "o0_uam1_UB3LYP_631Gd_4_4_cent_azomethine          0.575970          -5.642963\n",
        "o0_upm6_UB3LYP_631Gd_4_4_cent_azomethine        -21.680108         -27.899041\n",
        "o0_uHF_STO-3G_UB3LYP_631Gd_4_4_cent_azomethine   22.461853          16.242920\n",
        "o0_uff_UB3LYP_631Gd_4_4_cent_azomethine         -71.977655         -78.196588\n",
        "o1_uam1_UB3LYP_631Gd_4_4_cent_azomethine         14.921704           8.702771\n",
        "o1_upm6_UB3LYP_631Gd_4_4_cent_azomethine         12.299834           6.080901\n",
        "o1_uHF_STO-3G_UB3LYP_631Gd_4_4_cent_azomethine   14.919030           8.700097\n",
        "o1_uff_UB3LYP_631Gd_4_4_cent_azomethine          13.383600           7.164667\n",
        "o2_uam1_UB3LYP_631Gd_4_4_cent_azomethine          9.516932           3.297999\n",
        "o2_upm6_UB3LYP_631Gd_4_4_cent_azomethine          7.775929           1.556996\n",
        "o2_uHF_STO-3G_UB3LYP_631Gd_4_4_cent_azomethine   14.462260           8.243327\n",
        "o2_uff_UB3LYP_631Gd_4_4_cent_azomethine          10.697179           4.478246\n",
        "o3_uam1_UB3LYP_631Gd_4_4_cent_azomethine         -0.231357          -6.450290\n",
        "o3_upm6_UB3LYP_631Gd_4_4_cent_azomethine         -1.897484          -8.116417\n",
        "o3_uHF_STO-3G_UB3LYP_631Gd_4_4_cent_azomethine    2.870879          -3.348054\n",
        "o3_uff_UB3LYP_631Gd_4_4_cent_azomethine         -14.360000         -20.578933\n",
        "o4_uam1_UB3LYP_631Gd_4_4_cent_azomethine         18.626067          12.407134\n",
        "o4_upm6_UB3LYP_631Gd_4_4_cent_azomethine         18.406042          12.187109\n",
        "o4_uHF_STO-3G_UB3LYP_631Gd_4_4_cent_azomethine   19.203991          12.985058\n",
        "o4_uff_UB3LYP_631Gd_4_4_cent_azomethine          18.564485          12.345552"
       ]
      }
     ],
     "prompt_number": 12
    },
    {
     "cell_type": "markdown",
     "metadata": {},
     "source": [
      "Problem with o4_uff_UB3LYP_631Gd_4_4_cent_azomethine - there is a bad File error which for some reason does not stop Gaussian claiming the calculation terminates ok, but there are no SCF cycles reported which messes up gaussian.py's restart. Simply restarting the calculation works - perhaps there was simply some disk access problem"
     ]
    },
    {
     "cell_type": "code",
     "collapsed": false,
     "input": [
      "o_44_azo[-1].calc.set_job(nodes=8, memory=8*1200, time=4, queue='pqmb', version='g09')\n",
      "o_44_azo[-1].calc.restart()#start=True)"
     ],
     "language": "python",
     "metadata": {},
     "outputs": [
      {
       "metadata": {},
       "output_type": "pyout",
       "prompt_number": 13,
       "text": [
        "<ase.calculators.gaussian.Gaussian at 0x3b74210>"
       ]
      }
     ],
     "prompt_number": 13
    },
    {
     "cell_type": "code",
     "collapsed": false,
     "input": [
      "check_calcs(o_44_azo)"
     ],
     "language": "python",
     "metadata": {},
     "outputs": [
      {
       "metadata": {},
       "output_type": "pyout",
       "prompt_number": 14,
       "text": [
        "'Calculations complete'"
       ]
      }
     ],
     "prompt_number": 14
    },
    {
     "cell_type": "heading",
     "level": 2,
     "metadata": {},
     "source": [
      "Optimised geometry calculations"
     ]
    },
    {
     "cell_type": "code",
     "collapsed": false,
     "input": [
      "o_44_opt_azo = copy.deepcopy(o_44_azo)\n",
      "o_44_opt = copy.deepcopy(o_44)\n",
      "\n",
      "for mol in o_44_opt_azo + o_44_opt:\n",
      "    new_label = mol.calc.label.split('UB3LYP_631Gd_')[0] *2 + mol.calc.label.split('UB3LYP_631Gd_')[1]\n",
      "    mol.calc.restart(label=new_label, opt='opt')\n",
      "    mol.calc.set_job(nodes=8, memory=8*1200, time=12, queue='pqmb', version='g09')\n",
      "    #mol.calc.start(frc=True)"
     ],
     "language": "python",
     "metadata": {},
     "outputs": [],
     "prompt_number": 15
    },
    {
     "cell_type": "code",
     "collapsed": false,
     "input": [
      "p_calcs = check_calcs(o_44_opt + o_44_opt_azo)"
     ],
     "language": "python",
     "metadata": {},
     "outputs": [],
     "prompt_number": 16
    },
    {
     "cell_type": "code",
     "collapsed": false,
     "input": [
      "mols_to_html(p_calcs)"
     ],
     "language": "python",
     "metadata": {},
     "outputs": [
      {
       "html": [
        "\n",
        "           <script type=\"text/javascript\">\n",
        "           function view_function (event, file_n) {\n",
        "               if (event.ctrlKey && event.shiftKey){\n",
        "                   IPython.notebook.kernel.execute(\"cc_notebook_utils.pygview('\" + file_n + \".log')\");\n",
        "               }\n",
        "               else if (event.ctrlKey){\n",
        "                   IPython.notebook.kernel.execute(\"cc_notebook_utils.pygausssum('\" + file_n + \".log')\");\n",
        "               }\n",
        "               else if (event.shiftKey){\n",
        "                   IPython.notebook.kernel.execute(\"cc_notebook_utils.pyvogadro('\" + file_n + \".log')\");\n",
        "               }\n",
        "               else {\n",
        "                   IPython.notebook.kernel.execute(\"cc_notebook_utils.pyvim('\" + file_n + \".log')\");\n",
        "                   IPython.notebook.kernel.execute(\"print(file_n)\");\n",
        "               }\n",
        "           }\n",
        "           </script>\n",
        "    <style>\n",
        "    table\n",
        "    {\n",
        "        border-collapse:collapse;\n",
        "    }\n",
        "    td\n",
        "    {\n",
        "        padding:15px;\n",
        "    }\n",
        "    </style>\n",
        "    <body>\n",
        "    <table bgcolor=\"white\">\n",
        "    <col/><tr><td>o0_uHF_STO-3G_o0_uHF_STO-3G_4_4_cent_azomethine</td><td><a href = \"files/unrestricted_cycloadd_oniom/o0_uHF_STO-3G_o0_uHF_STO-3G_4_4_cent_azomethine.com\" target = \"_blank\">com</a></td><td><input type=\"button\" value=\"Smart Log\" id=\"o0_uHF_STO-3G_o0_uHF_STO-3G_4_4_cent_azomethine\" onclick=\"view_function(event, this.id)\" /></td><td>Error: Convergence failure -- run terminated.</td></tr><tr><td>o2_uHF_STO-3G_o2_uHF_STO-3G_4_4_cent_azomethine</td><td><a href = \"files/unrestricted_cycloadd_oniom/o2_uHF_STO-3G_o2_uHF_STO-3G_4_4_cent_azomethine.com\" target = \"_blank\">com</a></td><td><input type=\"button\" value=\"Smart Log\" id=\"o2_uHF_STO-3G_o2_uHF_STO-3G_4_4_cent_azomethine\" onclick=\"view_function(event, this.id)\" /></td><td>Incomplete</td></tr>\n",
        "    </table>\n",
        "    </body>"
       ],
       "metadata": {},
       "output_type": "pyout",
       "prompt_number": 17,
       "text": [
        "<IPython.core.display.HTML at 0x2b58a10>"
       ]
      }
     ],
     "prompt_number": 17
    },
    {
     "cell_type": "code",
     "collapsed": false,
     "input": [
      "p_calcs[0].calc.restart(symmetry='None')#, start=True)\n",
      "p_calcs[1].calc.restart(symmetry='None', opt='calcfc')#,start=True)"
     ],
     "language": "python",
     "metadata": {},
     "outputs": [
      {
       "metadata": {},
       "output_type": "pyout",
       "prompt_number": 18,
       "text": [
        "<ase.calculators.gaussian.Gaussian at 0x4c85bd0>"
       ]
      }
     ],
     "prompt_number": 18
    },
    {
     "cell_type": "markdown",
     "metadata": {},
     "source": [
      "The restarted calculation for p_calcs[1] i.e. o2_uHF_STO-3G_o2_uHF_STO-3G_4_4_cent_azomethine_restart_1 results in an energy that is ~7 Hartrees too high, presumably because for some reason we are not reading in the stabilised wavefunctions. This is somewhat alarming - as the file includes guess=read and copies across the previous .chk file"
     ]
    },
    {
     "cell_type": "code",
     "collapsed": false,
     "input": [
      "o_44_opt_azo[-10] = copy.deepcopy(o_44_azo[-10])\n",
      "o_44_opt_azo[-10].calc.restart(label='o2_uHF_STO-3G_o2_uHF_STO-3G_4_4_cent_azomethine_restart_2', symmetry='None',opt='calcfc')\n",
      "o_44_opt_azo[-10].calc.set_job(nodes=8, memory=8*1200, time=12, queue='pqmb', version='g09')"
     ],
     "language": "python",
     "metadata": {},
     "outputs": [],
     "prompt_number": 19
    },
    {
     "cell_type": "code",
     "collapsed": false,
     "input": [
      "check_calcs(o_44_opt + o_44_opt_azo)"
     ],
     "language": "python",
     "metadata": {},
     "outputs": [
      {
       "metadata": {},
       "output_type": "pyout",
       "prompt_number": 20,
       "text": [
        "'Calculations complete'"
       ]
      }
     ],
     "prompt_number": 20
    },
    {
     "cell_type": "code",
     "collapsed": false,
     "input": [
      "#mols_to_html(unwind([mol.calc.components for mol in o_44_opt + o_44_opt_azo]))"
     ],
     "language": "python",
     "metadata": {},
     "outputs": [],
     "prompt_number": 21
    },
    {
     "cell_type": "code",
     "collapsed": false,
     "input": [
      "names=[]\n",
      "rxn_Es = []\n",
      "delt_Es = []\n",
      "\n",
      "for i in range(len(o_44_opt_azo)):\n",
      "    rxn_E = rxn_E_f(o_44_opt_azo[i], o_44_opt[i])\n",
      "    delt_E = rxn_E - 6.218933\n",
      "    name = o_44_opt_azo[i].calc.label\n",
      "    rxn_Es.append(rxn_E)\n",
      "    delt_Es.append(delt_E)\n",
      "    names.append(name)\n",
      "\n",
      "o_data = pandas.Series(rxn_Es ,names)\n",
      "o_dft_delt_data = pandas.Series(delt_Es, names)"
     ],
     "language": "python",
     "metadata": {},
     "outputs": [],
     "prompt_number": 22
    },
    {
     "cell_type": "code",
     "collapsed": false,
     "input": [
      "#energy in Kcal/mol\n",
      "d = {'Rxn Energy': o_data, 'oniom-b3lyp_delta': o_dft_delt_data}\n",
      "opt_rxn_frame = pandas.DataFrame(d)\n",
      "\n",
      "o_keys, o_opt_keys = rxn_frame.index, opt_rxn_frame.index\n",
      "key_map_dict = {o_keys[i]:o_opt_keys[i] for i in range(len(opt_rxn_frame))}\n",
      "temp_data = rxn_frame.rename(index=key_map_dict)\n",
      "delta_data = temp_data.applymap(abs)-opt_rxn_frame.applymap(abs)\n",
      "delta_data = delta_data.rename(columns={'oniom-b3lyp_delta' : 'Improvement on relaxing'})\n",
      "opt_rxn_frame = opt_rxn_frame.join(delta_data['Improvement on relaxing'])\n",
      "##opt_rxn_frame.save('opt_o_rxn_E_data.pickle')\n",
      "opt_rxn_frame"
     ],
     "language": "python",
     "metadata": {},
     "outputs": [
      {
       "html": [
        "<div style=\"max-height:1000px;max-width:1500px;overflow:auto;\">\n",
        "<table border=\"1\" class=\"dataframe\">\n",
        "  <thead>\n",
        "    <tr style=\"text-align: right;\">\n",
        "      <th></th>\n",
        "      <th>Rxn Energy</th>\n",
        "      <th>oniom-b3lyp_delta</th>\n",
        "      <th>Improvement on relaxing</th>\n",
        "    </tr>\n",
        "  </thead>\n",
        "  <tbody>\n",
        "    <tr>\n",
        "      <th>o0_uam1_o0_uam1_4_4_cent_azomethine</th>\n",
        "      <td> -2.179811</td>\n",
        "      <td> -8.398744</td>\n",
        "      <td>-2.755781</td>\n",
        "    </tr>\n",
        "    <tr>\n",
        "      <th>o0_upm6_o0_upm6_4_4_cent_azomethine</th>\n",
        "      <td>-21.281995</td>\n",
        "      <td>-27.500928</td>\n",
        "      <td> 0.398113</td>\n",
        "    </tr>\n",
        "    <tr>\n",
        "      <th>o0_uHF_STO-3G_o0_uHF_STO-3G_4_4_cent_azomethine_restart_1</th>\n",
        "      <td> 20.300773</td>\n",
        "      <td> 14.081840</td>\n",
        "      <td> 2.161080</td>\n",
        "    </tr>\n",
        "    <tr>\n",
        "      <th>o0_uff_o0_uff_4_4_cent_azomethine</th>\n",
        "      <td>-70.340831</td>\n",
        "      <td>-76.559764</td>\n",
        "      <td> 1.636824</td>\n",
        "    </tr>\n",
        "    <tr>\n",
        "      <th>o1_uam1_o1_uam1_4_4_cent_azomethine</th>\n",
        "      <td> 14.253181</td>\n",
        "      <td>  8.034248</td>\n",
        "      <td> 0.668523</td>\n",
        "    </tr>\n",
        "    <tr>\n",
        "      <th>o1_upm6_o1_upm6_4_4_cent_azomethine</th>\n",
        "      <td> 11.330407</td>\n",
        "      <td>  5.111474</td>\n",
        "      <td> 0.969427</td>\n",
        "    </tr>\n",
        "    <tr>\n",
        "      <th>o1_uHF_STO-3G_o1_uHF_STO-3G_4_4_cent_azomethine</th>\n",
        "      <td> 14.061818</td>\n",
        "      <td>  7.842885</td>\n",
        "      <td> 0.857211</td>\n",
        "    </tr>\n",
        "    <tr>\n",
        "      <th>o1_uff_o1_uff_4_4_cent_azomethine</th>\n",
        "      <td> 10.258655</td>\n",
        "      <td>  4.039722</td>\n",
        "      <td> 3.124945</td>\n",
        "    </tr>\n",
        "    <tr>\n",
        "      <th>o2_uam1_o2_uam1_4_4_cent_azomethine</th>\n",
        "      <td>  9.411668</td>\n",
        "      <td>  3.192735</td>\n",
        "      <td> 0.105264</td>\n",
        "    </tr>\n",
        "    <tr>\n",
        "      <th>o2_upm6_o2_upm6_4_4_cent_azomethine</th>\n",
        "      <td>  7.346293</td>\n",
        "      <td>  1.127360</td>\n",
        "      <td> 0.429636</td>\n",
        "    </tr>\n",
        "    <tr>\n",
        "      <th>o2_uHF_STO-3G_o2_uHF_STO-3G_4_4_cent_azomethine_restart_2</th>\n",
        "      <td> 14.720756</td>\n",
        "      <td>  8.501823</td>\n",
        "      <td>-0.258496</td>\n",
        "    </tr>\n",
        "    <tr>\n",
        "      <th>o2_uff_o2_uff_4_4_cent_azomethine</th>\n",
        "      <td> 11.394223</td>\n",
        "      <td>  5.175290</td>\n",
        "      <td>-0.697045</td>\n",
        "    </tr>\n",
        "    <tr>\n",
        "      <th>o3_uam1_o3_uam1_4_4_cent_azomethine</th>\n",
        "      <td> -3.823438</td>\n",
        "      <td>-10.042371</td>\n",
        "      <td>-3.592081</td>\n",
        "    </tr>\n",
        "    <tr>\n",
        "      <th>o3_upm6_o3_upm6_4_4_cent_azomethine</th>\n",
        "      <td> -4.227289</td>\n",
        "      <td>-10.446222</td>\n",
        "      <td>-2.329805</td>\n",
        "    </tr>\n",
        "    <tr>\n",
        "      <th>o3_uHF_STO-3G_o3_uHF_STO-3G_4_4_cent_azomethine</th>\n",
        "      <td> -1.040080</td>\n",
        "      <td> -7.259013</td>\n",
        "      <td>-3.910960</td>\n",
        "    </tr>\n",
        "    <tr>\n",
        "      <th>o3_uff_o3_uff_4_4_cent_azomethine</th>\n",
        "      <td>-16.630788</td>\n",
        "      <td>-22.849721</td>\n",
        "      <td>-2.270788</td>\n",
        "    </tr>\n",
        "    <tr>\n",
        "      <th>o4_uam1_o4_uam1_4_4_cent_azomethine</th>\n",
        "      <td> 20.523708</td>\n",
        "      <td> 14.304775</td>\n",
        "      <td>-1.897641</td>\n",
        "    </tr>\n",
        "    <tr>\n",
        "      <th>o4_upm6_o4_upm6_4_4_cent_azomethine</th>\n",
        "      <td> 20.023680</td>\n",
        "      <td> 13.804747</td>\n",
        "      <td>-1.617638</td>\n",
        "    </tr>\n",
        "    <tr>\n",
        "      <th>o4_uHF_STO-3G_o4_uHF_STO-3G_4_4_cent_azomethine</th>\n",
        "      <td> 21.774585</td>\n",
        "      <td> 15.555652</td>\n",
        "      <td>-2.570594</td>\n",
        "    </tr>\n",
        "    <tr>\n",
        "      <th>o4_uff_o4_uff_4_4_cent_azomethine_restart_1</th>\n",
        "      <td> 22.264793</td>\n",
        "      <td> 16.045860</td>\n",
        "      <td>-3.700308</td>\n",
        "    </tr>\n",
        "  </tbody>\n",
        "</table>\n",
        "</div>"
       ],
       "metadata": {},
       "output_type": "pyout",
       "prompt_number": 23,
       "text": [
        "                                                           Rxn Energy  \\\n",
        "o0_uam1_o0_uam1_4_4_cent_azomethine                         -2.179811   \n",
        "o0_upm6_o0_upm6_4_4_cent_azomethine                        -21.281995   \n",
        "o0_uHF_STO-3G_o0_uHF_STO-3G_4_4_cent_azomethine_restart_1   20.300773   \n",
        "o0_uff_o0_uff_4_4_cent_azomethine                          -70.340831   \n",
        "o1_uam1_o1_uam1_4_4_cent_azomethine                         14.253181   \n",
        "o1_upm6_o1_upm6_4_4_cent_azomethine                         11.330407   \n",
        "o1_uHF_STO-3G_o1_uHF_STO-3G_4_4_cent_azomethine             14.061818   \n",
        "o1_uff_o1_uff_4_4_cent_azomethine                           10.258655   \n",
        "o2_uam1_o2_uam1_4_4_cent_azomethine                          9.411668   \n",
        "o2_upm6_o2_upm6_4_4_cent_azomethine                          7.346293   \n",
        "o2_uHF_STO-3G_o2_uHF_STO-3G_4_4_cent_azomethine_restart_2   14.720756   \n",
        "o2_uff_o2_uff_4_4_cent_azomethine                           11.394223   \n",
        "o3_uam1_o3_uam1_4_4_cent_azomethine                         -3.823438   \n",
        "o3_upm6_o3_upm6_4_4_cent_azomethine                         -4.227289   \n",
        "o3_uHF_STO-3G_o3_uHF_STO-3G_4_4_cent_azomethine             -1.040080   \n",
        "o3_uff_o3_uff_4_4_cent_azomethine                          -16.630788   \n",
        "o4_uam1_o4_uam1_4_4_cent_azomethine                         20.523708   \n",
        "o4_upm6_o4_upm6_4_4_cent_azomethine                         20.023680   \n",
        "o4_uHF_STO-3G_o4_uHF_STO-3G_4_4_cent_azomethine             21.774585   \n",
        "o4_uff_o4_uff_4_4_cent_azomethine_restart_1                 22.264793   \n",
        "\n",
        "                                                           oniom-b3lyp_delta  \\\n",
        "o0_uam1_o0_uam1_4_4_cent_azomethine                                -8.398744   \n",
        "o0_upm6_o0_upm6_4_4_cent_azomethine                               -27.500928   \n",
        "o0_uHF_STO-3G_o0_uHF_STO-3G_4_4_cent_azomethine_restart_1          14.081840   \n",
        "o0_uff_o0_uff_4_4_cent_azomethine                                 -76.559764   \n",
        "o1_uam1_o1_uam1_4_4_cent_azomethine                                 8.034248   \n",
        "o1_upm6_o1_upm6_4_4_cent_azomethine                                 5.111474   \n",
        "o1_uHF_STO-3G_o1_uHF_STO-3G_4_4_cent_azomethine                     7.842885   \n",
        "o1_uff_o1_uff_4_4_cent_azomethine                                   4.039722   \n",
        "o2_uam1_o2_uam1_4_4_cent_azomethine                                 3.192735   \n",
        "o2_upm6_o2_upm6_4_4_cent_azomethine                                 1.127360   \n",
        "o2_uHF_STO-3G_o2_uHF_STO-3G_4_4_cent_azomethine_restart_2           8.501823   \n",
        "o2_uff_o2_uff_4_4_cent_azomethine                                   5.175290   \n",
        "o3_uam1_o3_uam1_4_4_cent_azomethine                               -10.042371   \n",
        "o3_upm6_o3_upm6_4_4_cent_azomethine                               -10.446222   \n",
        "o3_uHF_STO-3G_o3_uHF_STO-3G_4_4_cent_azomethine                    -7.259013   \n",
        "o3_uff_o3_uff_4_4_cent_azomethine                                 -22.849721   \n",
        "o4_uam1_o4_uam1_4_4_cent_azomethine                                14.304775   \n",
        "o4_upm6_o4_upm6_4_4_cent_azomethine                                13.804747   \n",
        "o4_uHF_STO-3G_o4_uHF_STO-3G_4_4_cent_azomethine                    15.555652   \n",
        "o4_uff_o4_uff_4_4_cent_azomethine_restart_1                        16.045860   \n",
        "\n",
        "                                                           Improvement on relaxing  \n",
        "o0_uam1_o0_uam1_4_4_cent_azomethine                                      -2.755781  \n",
        "o0_upm6_o0_upm6_4_4_cent_azomethine                                       0.398113  \n",
        "o0_uHF_STO-3G_o0_uHF_STO-3G_4_4_cent_azomethine_restart_1                 2.161080  \n",
        "o0_uff_o0_uff_4_4_cent_azomethine                                         1.636824  \n",
        "o1_uam1_o1_uam1_4_4_cent_azomethine                                       0.668523  \n",
        "o1_upm6_o1_upm6_4_4_cent_azomethine                                       0.969427  \n",
        "o1_uHF_STO-3G_o1_uHF_STO-3G_4_4_cent_azomethine                           0.857211  \n",
        "o1_uff_o1_uff_4_4_cent_azomethine                                         3.124945  \n",
        "o2_uam1_o2_uam1_4_4_cent_azomethine                                       0.105264  \n",
        "o2_upm6_o2_upm6_4_4_cent_azomethine                                       0.429636  \n",
        "o2_uHF_STO-3G_o2_uHF_STO-3G_4_4_cent_azomethine_restart_2                -0.258496  \n",
        "o2_uff_o2_uff_4_4_cent_azomethine                                        -0.697045  \n",
        "o3_uam1_o3_uam1_4_4_cent_azomethine                                      -3.592081  \n",
        "o3_upm6_o3_upm6_4_4_cent_azomethine                                      -2.329805  \n",
        "o3_uHF_STO-3G_o3_uHF_STO-3G_4_4_cent_azomethine                          -3.910960  \n",
        "o3_uff_o3_uff_4_4_cent_azomethine                                        -2.270788  \n",
        "o4_uam1_o4_uam1_4_4_cent_azomethine                                      -1.897641  \n",
        "o4_upm6_o4_upm6_4_4_cent_azomethine                                      -1.617638  \n",
        "o4_uHF_STO-3G_o4_uHF_STO-3G_4_4_cent_azomethine                          -2.570594  \n",
        "o4_uff_o4_uff_4_4_cent_azomethine_restart_1                              -3.700308  "
       ]
      }
     ],
     "prompt_number": 23
    },
    {
     "cell_type": "markdown",
     "metadata": {},
     "source": [
      "Check we have found minima:"
     ]
    },
    {
     "cell_type": "code",
     "collapsed": false,
     "input": [
      "for mol in o_44_opt + o_44_opt_azo:\n",
      "    mol.calc.restart(geom='allcheck', add_label = 'freq_', guess='read', opt=None, freq='freq')#, start=True)\n",
      "check_calcs(o_44_opt + o_44_opt_azo)"
     ],
     "language": "python",
     "metadata": {},
     "outputs": [
      {
       "metadata": {},
       "output_type": "pyout",
       "prompt_number": 24,
       "text": [
        "'Calculations complete'"
       ]
      }
     ],
     "prompt_number": 24
    },
    {
     "cell_type": "code",
     "collapsed": false,
     "input": [
      "all([m.calc.max_data['Nimag'] == 0 for m in o_44_opt + o_44_opt_azo])\n",
      "#view_ipython_jmol([m.calc.label +'.log' for m  in o_44_opt_carb], vib=1)"
     ],
     "language": "python",
     "metadata": {},
     "outputs": [
      {
       "metadata": {},
       "output_type": "pyout",
       "prompt_number": 25,
       "text": [
        "True"
       ]
      }
     ],
     "prompt_number": 25
    },
    {
     "cell_type": "heading",
     "level": 2,
     "metadata": {},
     "source": [
      "Transition state barriers"
     ]
    },
    {
     "cell_type": "code",
     "collapsed": false,
     "input": [
      "azo_44_ts = 'other/UB3LYP_631Gd_UB3LYP_631Gd_4_4_cent_azomethine_ts_v2_mult_1_reopt_restart_2.log'"
     ],
     "language": "python",
     "metadata": {},
     "outputs": [],
     "prompt_number": 26
    },
    {
     "cell_type": "markdown",
     "metadata": {},
     "source": [
      "At UB3LYP 6-31G(d) geometries:"
     ]
    },
    {
     "cell_type": "code",
     "collapsed": false,
     "input": [
      "o_44_azo_ts = []\n",
      "for siz in range(5):\n",
      "    for meth in l_methods:\n",
      "        graph_ylid_ts = read(azo_44_ts)\n",
      "        graph_ylid_ts_name = 'o{s}_{m}_UB3LYP_631Gd_4_4_cent_azomethine_ts'.format(m=meth.replace('/', '_'), s=siz)\n",
      "        graph_ylid_ts.set_calculator(Gaussian(label=graph_ylid_ts_name, method='oniom(UB3LYP/6-31G(d):{l})'.format(l=meth), basis='oniom'))\n",
      "        graph_ylid_ts_H = ylide_atoms + graph_atoms[siz]\n",
      "        graph_ylid_ts.calc.oniom_coord_params['layers'] = [[no -1 for no in graph_ylid_ts_H]]\n",
      "        graph_ylid_ts.calc.oniom_coord_params['layer_mults'] = [1,1]\n",
      "        graph_ylid_ts.calc.set_job(nodes=8, memory=8*1600, time=8, queue='pqmb', version='direct_g09')\n",
      "        #oniom_stable(graph_ylid_ts)\n",
      "        o_44_azo_ts.append(graph_ylid_ts)"
     ],
     "language": "python",
     "metadata": {},
     "outputs": [
      {
       "output_type": "stream",
       "stream": "stderr",
       "text": [
        "/home/clyde/Software/my_ase/ase/calculators/gaussian.py:267: UserWarning: Non standard label choice: o0_uam1_UB3LYP_631Gd_4_4_cent_azomethine_ts\n",
        "  warnings.warn('Non standard label choice: {l}'.format(l=self.label))\n",
        "/home/clyde/Software/my_ase/ase/calculators/gaussian.py:267: UserWarning: Non standard label choice: o0_upm6_UB3LYP_631Gd_4_4_cent_azomethine_ts\n",
        "  warnings.warn('Non standard label choice: {l}'.format(l=self.label))\n",
        "/home/clyde/Software/my_ase/ase/calculators/gaussian.py:267: UserWarning: Non standard label choice: o0_uHF_STO-3G_UB3LYP_631Gd_4_4_cent_azomethine_ts\n",
        "  warnings.warn('Non standard label choice: {l}'.format(l=self.label))\n"
       ]
      },
      {
       "output_type": "stream",
       "stream": "stderr",
       "text": [
        "/home/clyde/Software/my_ase/ase/calculators/gaussian.py:267: UserWarning: Non standard label choice: o0_uff_UB3LYP_631Gd_4_4_cent_azomethine_ts\n",
        "  warnings.warn('Non standard label choice: {l}'.format(l=self.label))\n",
        "/home/clyde/Software/my_ase/ase/calculators/gaussian.py:267: UserWarning: Non standard label choice: o1_uam1_UB3LYP_631Gd_4_4_cent_azomethine_ts\n",
        "  warnings.warn('Non standard label choice: {l}'.format(l=self.label))\n",
        "/home/clyde/Software/my_ase/ase/calculators/gaussian.py:267: UserWarning: Non standard label choice: o1_upm6_UB3LYP_631Gd_4_4_cent_azomethine_ts\n",
        "  warnings.warn('Non standard label choice: {l}'.format(l=self.label))\n"
       ]
      },
      {
       "output_type": "stream",
       "stream": "stderr",
       "text": [
        "/home/clyde/Software/my_ase/ase/calculators/gaussian.py:267: UserWarning: Non standard label choice: o1_uHF_STO-3G_UB3LYP_631Gd_4_4_cent_azomethine_ts\n",
        "  warnings.warn('Non standard label choice: {l}'.format(l=self.label))\n",
        "/home/clyde/Software/my_ase/ase/calculators/gaussian.py:267: UserWarning: Non standard label choice: o1_uff_UB3LYP_631Gd_4_4_cent_azomethine_ts\n",
        "  warnings.warn('Non standard label choice: {l}'.format(l=self.label))\n",
        "/home/clyde/Software/my_ase/ase/calculators/gaussian.py:267: UserWarning: Non standard label choice: o2_uam1_UB3LYP_631Gd_4_4_cent_azomethine_ts\n",
        "  warnings.warn('Non standard label choice: {l}'.format(l=self.label))\n"
       ]
      },
      {
       "output_type": "stream",
       "stream": "stderr",
       "text": [
        "/home/clyde/Software/my_ase/ase/calculators/gaussian.py:267: UserWarning: Non standard label choice: o2_upm6_UB3LYP_631Gd_4_4_cent_azomethine_ts\n",
        "  warnings.warn('Non standard label choice: {l}'.format(l=self.label))\n",
        "/home/clyde/Software/my_ase/ase/calculators/gaussian.py:267: UserWarning: Non standard label choice: o2_uHF_STO-3G_UB3LYP_631Gd_4_4_cent_azomethine_ts\n",
        "  warnings.warn('Non standard label choice: {l}'.format(l=self.label))\n",
        "/home/clyde/Software/my_ase/ase/calculators/gaussian.py:267: UserWarning: Non standard label choice: o2_uff_UB3LYP_631Gd_4_4_cent_azomethine_ts\n",
        "  warnings.warn('Non standard label choice: {l}'.format(l=self.label))\n"
       ]
      },
      {
       "output_type": "stream",
       "stream": "stderr",
       "text": [
        "/home/clyde/Software/my_ase/ase/calculators/gaussian.py:267: UserWarning: Non standard label choice: o3_uam1_UB3LYP_631Gd_4_4_cent_azomethine_ts\n",
        "  warnings.warn('Non standard label choice: {l}'.format(l=self.label))\n",
        "/home/clyde/Software/my_ase/ase/calculators/gaussian.py:267: UserWarning: Non standard label choice: o3_upm6_UB3LYP_631Gd_4_4_cent_azomethine_ts\n",
        "  warnings.warn('Non standard label choice: {l}'.format(l=self.label))\n",
        "/home/clyde/Software/my_ase/ase/calculators/gaussian.py:267: UserWarning: Non standard label choice: o3_uHF_STO-3G_UB3LYP_631Gd_4_4_cent_azomethine_ts\n",
        "  warnings.warn('Non standard label choice: {l}'.format(l=self.label))\n"
       ]
      },
      {
       "output_type": "stream",
       "stream": "stderr",
       "text": [
        "/home/clyde/Software/my_ase/ase/calculators/gaussian.py:267: UserWarning: Non standard label choice: o3_uff_UB3LYP_631Gd_4_4_cent_azomethine_ts\n",
        "  warnings.warn('Non standard label choice: {l}'.format(l=self.label))\n",
        "/home/clyde/Software/my_ase/ase/calculators/gaussian.py:267: UserWarning: Non standard label choice: o4_uam1_UB3LYP_631Gd_4_4_cent_azomethine_ts\n",
        "  warnings.warn('Non standard label choice: {l}'.format(l=self.label))\n",
        "/home/clyde/Software/my_ase/ase/calculators/gaussian.py:267: UserWarning: Non standard label choice: o4_upm6_UB3LYP_631Gd_4_4_cent_azomethine_ts\n",
        "  warnings.warn('Non standard label choice: {l}'.format(l=self.label))\n"
       ]
      },
      {
       "output_type": "stream",
       "stream": "stderr",
       "text": [
        "/home/clyde/Software/my_ase/ase/calculators/gaussian.py:267: UserWarning: Non standard label choice: o4_uHF_STO-3G_UB3LYP_631Gd_4_4_cent_azomethine_ts\n",
        "  warnings.warn('Non standard label choice: {l}'.format(l=self.label))\n",
        "/home/clyde/Software/my_ase/ase/calculators/gaussian.py:267: UserWarning: Non standard label choice: o4_uff_UB3LYP_631Gd_4_4_cent_azomethine_ts\n",
        "  warnings.warn('Non standard label choice: {l}'.format(l=self.label))\n"
       ]
      }
     ],
     "prompt_number": 27
    },
    {
     "cell_type": "code",
     "collapsed": false,
     "input": [
      "#mols_to_html([m for m in unwind([m.calc.components for m in o_44_azo_ts]) if m.calc.status != 'Success'])"
     ],
     "language": "python",
     "metadata": {},
     "outputs": [],
     "prompt_number": 28
    },
    {
     "cell_type": "code",
     "collapsed": false,
     "input": [
      "check_calcs(o_44_azo_ts)\n",
      "mols_to_html(o_44_azo_ts)"
     ],
     "language": "python",
     "metadata": {},
     "outputs": [
      {
       "output_type": "stream",
       "stream": "stderr",
       "text": [
        "/home/clyde/Software/my_ase/ase/calculators/gaussian.py:267: UserWarning: Non standard label choice: o0_uam1_UB3LYP_631Gd_4_4_cent_azomethine_ts_init_low_real\n",
        "  warnings.warn('Non standard label choice: {l}'.format(l=self.label))\n",
        "/home/clyde/Software/my_ase/ase/calculators/gaussian.py:267: UserWarning: Non standard label choice: o0_uam1_UB3LYP_631Gd_4_4_cent_azomethine_ts_init_high_model\n",
        "  warnings.warn('Non standard label choice: {l}'.format(l=self.label))\n",
        "/home/clyde/Software/my_ase/ase/calculators/gaussian.py:267: UserWarning: Non standard label choice: o0_uam1_UB3LYP_631Gd_4_4_cent_azomethine_ts_init_low_model\n",
        "  warnings.warn('Non standard label choice: {l}'.format(l=self.label))\n",
        "/home/clyde/Software/my_ase/ase/calculators/gaussian.py:267: UserWarning: Non standard label choice: o0_upm6_UB3LYP_631Gd_4_4_cent_azomethine_ts_init_low_real\n",
        "  warnings.warn('Non standard label choice: {l}'.format(l=self.label))\n"
       ]
      },
      {
       "output_type": "stream",
       "stream": "stderr",
       "text": [
        "/home/clyde/Software/my_ase/ase/calculators/gaussian.py:267: UserWarning: Non standard label choice: o0_upm6_UB3LYP_631Gd_4_4_cent_azomethine_ts_init_high_model\n",
        "  warnings.warn('Non standard label choice: {l}'.format(l=self.label))\n",
        "/home/clyde/Software/my_ase/ase/calculators/gaussian.py:267: UserWarning: Non standard label choice: o0_upm6_UB3LYP_631Gd_4_4_cent_azomethine_ts_init_low_model\n",
        "  warnings.warn('Non standard label choice: {l}'.format(l=self.label))\n",
        "/home/clyde/Software/my_ase/ase/calculators/gaussian.py:267: UserWarning: Non standard label choice: o0_uHF_STO-3G_UB3LYP_631Gd_4_4_cent_azomethine_ts_init_low_real\n",
        "  warnings.warn('Non standard label choice: {l}'.format(l=self.label))\n"
       ]
      },
      {
       "output_type": "stream",
       "stream": "stderr",
       "text": [
        "/home/clyde/Software/my_ase/ase/calculators/gaussian.py:267: UserWarning: Non standard label choice: o0_uHF_STO-3G_UB3LYP_631Gd_4_4_cent_azomethine_ts_init_high_model\n",
        "  warnings.warn('Non standard label choice: {l}'.format(l=self.label))\n",
        "/home/clyde/Software/my_ase/ase/calculators/gaussian.py:267: UserWarning: Non standard label choice: o0_uHF_STO-3G_UB3LYP_631Gd_4_4_cent_azomethine_ts_init_low_model\n",
        "  warnings.warn('Non standard label choice: {l}'.format(l=self.label))\n",
        "/home/clyde/Software/my_ase/ase/calculators/gaussian.py:267: UserWarning: Non standard label choice: o0_uff_UB3LYP_631Gd_4_4_cent_azomethine_ts_init_low_real\n",
        "  warnings.warn('Non standard label choice: {l}'.format(l=self.label))\n"
       ]
      },
      {
       "output_type": "stream",
       "stream": "stderr",
       "text": [
        "/home/clyde/Software/my_ase/ase/calculators/gaussian.py:267: UserWarning: Non standard label choice: o0_uff_UB3LYP_631Gd_4_4_cent_azomethine_ts_init_high_model\n",
        "  warnings.warn('Non standard label choice: {l}'.format(l=self.label))\n",
        "/home/clyde/Software/my_ase/ase/calculators/gaussian.py:267: UserWarning: Non standard label choice: o0_uff_UB3LYP_631Gd_4_4_cent_azomethine_ts_init_low_model\n",
        "  warnings.warn('Non standard label choice: {l}'.format(l=self.label))\n",
        "/home/clyde/Software/my_ase/ase/calculators/gaussian.py:267: UserWarning: Non standard label choice: o1_uam1_UB3LYP_631Gd_4_4_cent_azomethine_ts_init_low_real\n",
        "  warnings.warn('Non standard label choice: {l}'.format(l=self.label))\n"
       ]
      },
      {
       "output_type": "stream",
       "stream": "stderr",
       "text": [
        "/home/clyde/Software/my_ase/ase/calculators/gaussian.py:267: UserWarning: Non standard label choice: o1_uam1_UB3LYP_631Gd_4_4_cent_azomethine_ts_init_high_model\n",
        "  warnings.warn('Non standard label choice: {l}'.format(l=self.label))\n",
        "/home/clyde/Software/my_ase/ase/calculators/gaussian.py:267: UserWarning: Non standard label choice: o1_uam1_UB3LYP_631Gd_4_4_cent_azomethine_ts_init_low_model\n",
        "  warnings.warn('Non standard label choice: {l}'.format(l=self.label))\n",
        "/home/clyde/Software/my_ase/ase/calculators/gaussian.py:267: UserWarning: Non standard label choice: o1_upm6_UB3LYP_631Gd_4_4_cent_azomethine_ts_init_low_real\n",
        "  warnings.warn('Non standard label choice: {l}'.format(l=self.label))\n"
       ]
      },
      {
       "output_type": "stream",
       "stream": "stderr",
       "text": [
        "/home/clyde/Software/my_ase/ase/calculators/gaussian.py:267: UserWarning: Non standard label choice: o1_upm6_UB3LYP_631Gd_4_4_cent_azomethine_ts_init_high_model\n",
        "  warnings.warn('Non standard label choice: {l}'.format(l=self.label))\n",
        "/home/clyde/Software/my_ase/ase/calculators/gaussian.py:267: UserWarning: Non standard label choice: o1_upm6_UB3LYP_631Gd_4_4_cent_azomethine_ts_init_low_model\n",
        "  warnings.warn('Non standard label choice: {l}'.format(l=self.label))\n",
        "/home/clyde/Software/my_ase/ase/calculators/gaussian.py:267: UserWarning: Non standard label choice: o1_uHF_STO-3G_UB3LYP_631Gd_4_4_cent_azomethine_ts_init_low_real\n",
        "  warnings.warn('Non standard label choice: {l}'.format(l=self.label))\n"
       ]
      },
      {
       "output_type": "stream",
       "stream": "stderr",
       "text": [
        "/home/clyde/Software/my_ase/ase/calculators/gaussian.py:267: UserWarning: Non standard label choice: o1_uHF_STO-3G_UB3LYP_631Gd_4_4_cent_azomethine_ts_init_high_model\n",
        "  warnings.warn('Non standard label choice: {l}'.format(l=self.label))\n",
        "/home/clyde/Software/my_ase/ase/calculators/gaussian.py:267: UserWarning: Non standard label choice: o1_uHF_STO-3G_UB3LYP_631Gd_4_4_cent_azomethine_ts_init_low_model\n",
        "  warnings.warn('Non standard label choice: {l}'.format(l=self.label))\n",
        "/home/clyde/Software/my_ase/ase/calculators/gaussian.py:267: UserWarning: Non standard label choice: o1_uff_UB3LYP_631Gd_4_4_cent_azomethine_ts_init_low_real\n",
        "  warnings.warn('Non standard label choice: {l}'.format(l=self.label))\n"
       ]
      },
      {
       "output_type": "stream",
       "stream": "stderr",
       "text": [
        "/home/clyde/Software/my_ase/ase/calculators/gaussian.py:267: UserWarning: Non standard label choice: o1_uff_UB3LYP_631Gd_4_4_cent_azomethine_ts_init_high_model\n",
        "  warnings.warn('Non standard label choice: {l}'.format(l=self.label))\n",
        "/home/clyde/Software/my_ase/ase/calculators/gaussian.py:267: UserWarning: Non standard label choice: o1_uff_UB3LYP_631Gd_4_4_cent_azomethine_ts_init_low_model\n",
        "  warnings.warn('Non standard label choice: {l}'.format(l=self.label))\n",
        "/home/clyde/Software/my_ase/ase/calculators/gaussian.py:267: UserWarning: Non standard label choice: o2_uam1_UB3LYP_631Gd_4_4_cent_azomethine_ts_init_low_real\n",
        "  warnings.warn('Non standard label choice: {l}'.format(l=self.label))\n"
       ]
      },
      {
       "output_type": "stream",
       "stream": "stderr",
       "text": [
        "/home/clyde/Software/my_ase/ase/calculators/gaussian.py:267: UserWarning: Non standard label choice: o2_uam1_UB3LYP_631Gd_4_4_cent_azomethine_ts_init_high_model\n",
        "  warnings.warn('Non standard label choice: {l}'.format(l=self.label))\n",
        "/home/clyde/Software/my_ase/ase/calculators/gaussian.py:267: UserWarning: Non standard label choice: o2_uam1_UB3LYP_631Gd_4_4_cent_azomethine_ts_init_low_model\n",
        "  warnings.warn('Non standard label choice: {l}'.format(l=self.label))\n",
        "/home/clyde/Software/my_ase/ase/calculators/gaussian.py:267: UserWarning: Non standard label choice: o2_upm6_UB3LYP_631Gd_4_4_cent_azomethine_ts_init_low_real\n",
        "  warnings.warn('Non standard label choice: {l}'.format(l=self.label))\n"
       ]
      },
      {
       "output_type": "stream",
       "stream": "stderr",
       "text": [
        "/home/clyde/Software/my_ase/ase/calculators/gaussian.py:267: UserWarning: Non standard label choice: o2_upm6_UB3LYP_631Gd_4_4_cent_azomethine_ts_init_high_model\n",
        "  warnings.warn('Non standard label choice: {l}'.format(l=self.label))\n",
        "/home/clyde/Software/my_ase/ase/calculators/gaussian.py:267: UserWarning: Non standard label choice: o2_upm6_UB3LYP_631Gd_4_4_cent_azomethine_ts_init_low_model\n",
        "  warnings.warn('Non standard label choice: {l}'.format(l=self.label))\n",
        "/home/clyde/Software/my_ase/ase/calculators/gaussian.py:267: UserWarning: Non standard label choice: o2_uHF_STO-3G_UB3LYP_631Gd_4_4_cent_azomethine_ts_init_low_real\n",
        "  warnings.warn('Non standard label choice: {l}'.format(l=self.label))\n"
       ]
      },
      {
       "output_type": "stream",
       "stream": "stderr",
       "text": [
        "/home/clyde/Software/my_ase/ase/calculators/gaussian.py:267: UserWarning: Non standard label choice: o2_uHF_STO-3G_UB3LYP_631Gd_4_4_cent_azomethine_ts_init_high_model\n",
        "  warnings.warn('Non standard label choice: {l}'.format(l=self.label))\n",
        "/home/clyde/Software/my_ase/ase/calculators/gaussian.py:267: UserWarning: Non standard label choice: o2_uHF_STO-3G_UB3LYP_631Gd_4_4_cent_azomethine_ts_init_low_model\n",
        "  warnings.warn('Non standard label choice: {l}'.format(l=self.label))\n",
        "/home/clyde/Software/my_ase/ase/calculators/gaussian.py:267: UserWarning: Non standard label choice: o2_uff_UB3LYP_631Gd_4_4_cent_azomethine_ts_init_low_real\n",
        "  warnings.warn('Non standard label choice: {l}'.format(l=self.label))\n"
       ]
      },
      {
       "output_type": "stream",
       "stream": "stderr",
       "text": [
        "/home/clyde/Software/my_ase/ase/calculators/gaussian.py:267: UserWarning: Non standard label choice: o2_uff_UB3LYP_631Gd_4_4_cent_azomethine_ts_init_high_model\n",
        "  warnings.warn('Non standard label choice: {l}'.format(l=self.label))\n",
        "/home/clyde/Software/my_ase/ase/calculators/gaussian.py:267: UserWarning: Non standard label choice: o2_uff_UB3LYP_631Gd_4_4_cent_azomethine_ts_init_low_model\n",
        "  warnings.warn('Non standard label choice: {l}'.format(l=self.label))\n",
        "/home/clyde/Software/my_ase/ase/calculators/gaussian.py:267: UserWarning: Non standard label choice: o3_uam1_UB3LYP_631Gd_4_4_cent_azomethine_ts_init_low_real\n",
        "  warnings.warn('Non standard label choice: {l}'.format(l=self.label))\n"
       ]
      },
      {
       "output_type": "stream",
       "stream": "stderr",
       "text": [
        "/home/clyde/Software/my_ase/ase/calculators/gaussian.py:267: UserWarning: Non standard label choice: o3_uam1_UB3LYP_631Gd_4_4_cent_azomethine_ts_init_high_model\n",
        "  warnings.warn('Non standard label choice: {l}'.format(l=self.label))\n",
        "/home/clyde/Software/my_ase/ase/calculators/gaussian.py:267: UserWarning: Non standard label choice: o3_uam1_UB3LYP_631Gd_4_4_cent_azomethine_ts_init_low_model\n",
        "  warnings.warn('Non standard label choice: {l}'.format(l=self.label))\n",
        "/home/clyde/Software/my_ase/ase/calculators/gaussian.py:267: UserWarning: Non standard label choice: o3_upm6_UB3LYP_631Gd_4_4_cent_azomethine_ts_init_low_real\n",
        "  warnings.warn('Non standard label choice: {l}'.format(l=self.label))\n"
       ]
      },
      {
       "output_type": "stream",
       "stream": "stderr",
       "text": [
        "/home/clyde/Software/my_ase/ase/calculators/gaussian.py:267: UserWarning: Non standard label choice: o3_upm6_UB3LYP_631Gd_4_4_cent_azomethine_ts_init_high_model\n",
        "  warnings.warn('Non standard label choice: {l}'.format(l=self.label))\n",
        "/home/clyde/Software/my_ase/ase/calculators/gaussian.py:267: UserWarning: Non standard label choice: o3_upm6_UB3LYP_631Gd_4_4_cent_azomethine_ts_init_low_model\n",
        "  warnings.warn('Non standard label choice: {l}'.format(l=self.label))\n",
        "/home/clyde/Software/my_ase/ase/calculators/gaussian.py:267: UserWarning: Non standard label choice: o3_uHF_STO-3G_UB3LYP_631Gd_4_4_cent_azomethine_ts_init_low_real\n",
        "  warnings.warn('Non standard label choice: {l}'.format(l=self.label))\n"
       ]
      },
      {
       "output_type": "stream",
       "stream": "stderr",
       "text": [
        "/home/clyde/Software/my_ase/ase/calculators/gaussian.py:267: UserWarning: Non standard label choice: o3_uHF_STO-3G_UB3LYP_631Gd_4_4_cent_azomethine_ts_init_high_model\n",
        "  warnings.warn('Non standard label choice: {l}'.format(l=self.label))\n",
        "/home/clyde/Software/my_ase/ase/calculators/gaussian.py:267: UserWarning: Non standard label choice: o3_uHF_STO-3G_UB3LYP_631Gd_4_4_cent_azomethine_ts_init_low_model\n",
        "  warnings.warn('Non standard label choice: {l}'.format(l=self.label))\n",
        "/home/clyde/Software/my_ase/ase/calculators/gaussian.py:267: UserWarning: Non standard label choice: o3_uff_UB3LYP_631Gd_4_4_cent_azomethine_ts_init_low_real\n",
        "  warnings.warn('Non standard label choice: {l}'.format(l=self.label))\n"
       ]
      },
      {
       "output_type": "stream",
       "stream": "stderr",
       "text": [
        "/home/clyde/Software/my_ase/ase/calculators/gaussian.py:267: UserWarning: Non standard label choice: o3_uff_UB3LYP_631Gd_4_4_cent_azomethine_ts_init_high_model\n",
        "  warnings.warn('Non standard label choice: {l}'.format(l=self.label))\n",
        "/home/clyde/Software/my_ase/ase/calculators/gaussian.py:267: UserWarning: Non standard label choice: o3_uff_UB3LYP_631Gd_4_4_cent_azomethine_ts_init_low_model\n",
        "  warnings.warn('Non standard label choice: {l}'.format(l=self.label))\n",
        "/home/clyde/Software/my_ase/ase/calculators/gaussian.py:267: UserWarning: Non standard label choice: o4_uam1_UB3LYP_631Gd_4_4_cent_azomethine_ts_init_low_real\n",
        "  warnings.warn('Non standard label choice: {l}'.format(l=self.label))\n"
       ]
      },
      {
       "output_type": "stream",
       "stream": "stderr",
       "text": [
        "/home/clyde/Software/my_ase/ase/calculators/gaussian.py:267: UserWarning: Non standard label choice: o4_uam1_UB3LYP_631Gd_4_4_cent_azomethine_ts_init_high_model\n",
        "  warnings.warn('Non standard label choice: {l}'.format(l=self.label))\n",
        "/home/clyde/Software/my_ase/ase/calculators/gaussian.py:267: UserWarning: Non standard label choice: o4_uam1_UB3LYP_631Gd_4_4_cent_azomethine_ts_init_low_model\n",
        "  warnings.warn('Non standard label choice: {l}'.format(l=self.label))\n",
        "/home/clyde/Software/my_ase/ase/calculators/gaussian.py:267: UserWarning: Non standard label choice: o4_upm6_UB3LYP_631Gd_4_4_cent_azomethine_ts_init_low_real\n",
        "  warnings.warn('Non standard label choice: {l}'.format(l=self.label))\n"
       ]
      },
      {
       "output_type": "stream",
       "stream": "stderr",
       "text": [
        "/home/clyde/Software/my_ase/ase/calculators/gaussian.py:267: UserWarning: Non standard label choice: o4_upm6_UB3LYP_631Gd_4_4_cent_azomethine_ts_init_high_model\n",
        "  warnings.warn('Non standard label choice: {l}'.format(l=self.label))\n",
        "/home/clyde/Software/my_ase/ase/calculators/gaussian.py:267: UserWarning: Non standard label choice: o4_upm6_UB3LYP_631Gd_4_4_cent_azomethine_ts_init_low_model\n",
        "  warnings.warn('Non standard label choice: {l}'.format(l=self.label))\n",
        "/home/clyde/Software/my_ase/ase/calculators/gaussian.py:267: UserWarning: Non standard label choice: o4_uHF_STO-3G_UB3LYP_631Gd_4_4_cent_azomethine_ts_init_low_real\n",
        "  warnings.warn('Non standard label choice: {l}'.format(l=self.label))\n"
       ]
      },
      {
       "output_type": "stream",
       "stream": "stderr",
       "text": [
        "/home/clyde/Software/my_ase/ase/calculators/gaussian.py:267: UserWarning: Non standard label choice: o4_uHF_STO-3G_UB3LYP_631Gd_4_4_cent_azomethine_ts_init_high_model\n",
        "  warnings.warn('Non standard label choice: {l}'.format(l=self.label))\n",
        "/home/clyde/Software/my_ase/ase/calculators/gaussian.py:267: UserWarning: Non standard label choice: o4_uHF_STO-3G_UB3LYP_631Gd_4_4_cent_azomethine_ts_init_low_model\n",
        "  warnings.warn('Non standard label choice: {l}'.format(l=self.label))\n",
        "/home/clyde/Software/my_ase/ase/calculators/gaussian.py:267: UserWarning: Non standard label choice: o4_uff_UB3LYP_631Gd_4_4_cent_azomethine_ts_init_low_real\n",
        "  warnings.warn('Non standard label choice: {l}'.format(l=self.label))\n"
       ]
      },
      {
       "output_type": "stream",
       "stream": "stderr",
       "text": [
        "/home/clyde/Software/my_ase/ase/calculators/gaussian.py:267: UserWarning: Non standard label choice: o4_uff_UB3LYP_631Gd_4_4_cent_azomethine_ts_init_high_model\n",
        "  warnings.warn('Non standard label choice: {l}'.format(l=self.label))\n",
        "/home/clyde/Software/my_ase/ase/calculators/gaussian.py:267: UserWarning: Non standard label choice: o4_uff_UB3LYP_631Gd_4_4_cent_azomethine_ts_init_low_model\n",
        "  warnings.warn('Non standard label choice: {l}'.format(l=self.label))\n"
       ]
      },
      {
       "html": [
        "\n",
        "           <script type=\"text/javascript\">\n",
        "           function view_function (event, file_n) {\n",
        "               if (event.ctrlKey && event.shiftKey){\n",
        "                   IPython.notebook.kernel.execute(\"cc_notebook_utils.pygview('\" + file_n + \".log')\");\n",
        "               }\n",
        "               else if (event.ctrlKey){\n",
        "                   IPython.notebook.kernel.execute(\"cc_notebook_utils.pygausssum('\" + file_n + \".log')\");\n",
        "               }\n",
        "               else if (event.shiftKey){\n",
        "                   IPython.notebook.kernel.execute(\"cc_notebook_utils.pyvogadro('\" + file_n + \".log')\");\n",
        "               }\n",
        "               else {\n",
        "                   IPython.notebook.kernel.execute(\"cc_notebook_utils.pyvim('\" + file_n + \".log')\");\n",
        "                   IPython.notebook.kernel.execute(\"print(file_n)\");\n",
        "               }\n",
        "           }\n",
        "           </script>\n",
        "    <style>\n",
        "    table\n",
        "    {\n",
        "        border-collapse:collapse;\n",
        "    }\n",
        "    td\n",
        "    {\n",
        "        padding:15px;\n",
        "    }\n",
        "    </style>\n",
        "    <body>\n",
        "    <table bgcolor=\"white\">\n",
        "    <col/><tr><td>o0_uam1_UB3LYP_631Gd_4_4_cent_azomethine_ts</td><td><a href = \"files/unrestricted_cycloadd_oniom/o0_uam1_UB3LYP_631Gd_4_4_cent_azomethine_ts.com\" target = \"_blank\">com</a></td><td><input type=\"button\" value=\"Smart Log\" id=\"o0_uam1_UB3LYP_631Gd_4_4_cent_azomethine_ts\" onclick=\"view_function(event, this.id)\" /></td><td>Success</td></tr><tr><td>o0_upm6_UB3LYP_631Gd_4_4_cent_azomethine_ts</td><td><a href = \"files/unrestricted_cycloadd_oniom/o0_upm6_UB3LYP_631Gd_4_4_cent_azomethine_ts.com\" target = \"_blank\">com</a></td><td><input type=\"button\" value=\"Smart Log\" id=\"o0_upm6_UB3LYP_631Gd_4_4_cent_azomethine_ts\" onclick=\"view_function(event, this.id)\" /></td><td>Success</td></tr><tr><td>o0_uHF_STO-3G_UB3LYP_631Gd_4_4_cent_azomethine_ts</td><td><a href = \"files/unrestricted_cycloadd_oniom/o0_uHF_STO-3G_UB3LYP_631Gd_4_4_cent_azomethine_ts.com\" target = \"_blank\">com</a></td><td><input type=\"button\" value=\"Smart Log\" id=\"o0_uHF_STO-3G_UB3LYP_631Gd_4_4_cent_azomethine_ts\" onclick=\"view_function(event, this.id)\" /></td><td>Success</td></tr><tr><td>o0_uff_UB3LYP_631Gd_4_4_cent_azomethine_ts</td><td><a href = \"files/unrestricted_cycloadd_oniom/o0_uff_UB3LYP_631Gd_4_4_cent_azomethine_ts.com\" target = \"_blank\">com</a></td><td><input type=\"button\" value=\"Smart Log\" id=\"o0_uff_UB3LYP_631Gd_4_4_cent_azomethine_ts\" onclick=\"view_function(event, this.id)\" /></td><td>Success</td></tr><tr><td>o1_uam1_UB3LYP_631Gd_4_4_cent_azomethine_ts</td><td><a href = \"files/unrestricted_cycloadd_oniom/o1_uam1_UB3LYP_631Gd_4_4_cent_azomethine_ts.com\" target = \"_blank\">com</a></td><td><input type=\"button\" value=\"Smart Log\" id=\"o1_uam1_UB3LYP_631Gd_4_4_cent_azomethine_ts\" onclick=\"view_function(event, this.id)\" /></td><td>Success</td></tr><tr><td>o1_upm6_UB3LYP_631Gd_4_4_cent_azomethine_ts</td><td><a href = \"files/unrestricted_cycloadd_oniom/o1_upm6_UB3LYP_631Gd_4_4_cent_azomethine_ts.com\" target = \"_blank\">com</a></td><td><input type=\"button\" value=\"Smart Log\" id=\"o1_upm6_UB3LYP_631Gd_4_4_cent_azomethine_ts\" onclick=\"view_function(event, this.id)\" /></td><td>Success</td></tr><tr><td>o1_uHF_STO-3G_UB3LYP_631Gd_4_4_cent_azomethine_ts</td><td><a href = \"files/unrestricted_cycloadd_oniom/o1_uHF_STO-3G_UB3LYP_631Gd_4_4_cent_azomethine_ts.com\" target = \"_blank\">com</a></td><td><input type=\"button\" value=\"Smart Log\" id=\"o1_uHF_STO-3G_UB3LYP_631Gd_4_4_cent_azomethine_ts\" onclick=\"view_function(event, this.id)\" /></td><td>Success</td></tr><tr><td>o1_uff_UB3LYP_631Gd_4_4_cent_azomethine_ts</td><td><a href = \"files/unrestricted_cycloadd_oniom/o1_uff_UB3LYP_631Gd_4_4_cent_azomethine_ts.com\" target = \"_blank\">com</a></td><td><input type=\"button\" value=\"Smart Log\" id=\"o1_uff_UB3LYP_631Gd_4_4_cent_azomethine_ts\" onclick=\"view_function(event, this.id)\" /></td><td>Success</td></tr><tr><td>o2_uam1_UB3LYP_631Gd_4_4_cent_azomethine_ts</td><td><a href = \"files/unrestricted_cycloadd_oniom/o2_uam1_UB3LYP_631Gd_4_4_cent_azomethine_ts.com\" target = \"_blank\">com</a></td><td><input type=\"button\" value=\"Smart Log\" id=\"o2_uam1_UB3LYP_631Gd_4_4_cent_azomethine_ts\" onclick=\"view_function(event, this.id)\" /></td><td>Success</td></tr><tr><td>o2_upm6_UB3LYP_631Gd_4_4_cent_azomethine_ts</td><td><a href = \"files/unrestricted_cycloadd_oniom/o2_upm6_UB3LYP_631Gd_4_4_cent_azomethine_ts.com\" target = \"_blank\">com</a></td><td><input type=\"button\" value=\"Smart Log\" id=\"o2_upm6_UB3LYP_631Gd_4_4_cent_azomethine_ts\" onclick=\"view_function(event, this.id)\" /></td><td>Success</td></tr><tr><td>o2_uHF_STO-3G_UB3LYP_631Gd_4_4_cent_azomethine_ts</td><td><a href = \"files/unrestricted_cycloadd_oniom/o2_uHF_STO-3G_UB3LYP_631Gd_4_4_cent_azomethine_ts.com\" target = \"_blank\">com</a></td><td><input type=\"button\" value=\"Smart Log\" id=\"o2_uHF_STO-3G_UB3LYP_631Gd_4_4_cent_azomethine_ts\" onclick=\"view_function(event, this.id)\" /></td><td>Success</td></tr><tr><td>o2_uff_UB3LYP_631Gd_4_4_cent_azomethine_ts</td><td><a href = \"files/unrestricted_cycloadd_oniom/o2_uff_UB3LYP_631Gd_4_4_cent_azomethine_ts.com\" target = \"_blank\">com</a></td><td><input type=\"button\" value=\"Smart Log\" id=\"o2_uff_UB3LYP_631Gd_4_4_cent_azomethine_ts\" onclick=\"view_function(event, this.id)\" /></td><td>Success</td></tr><tr><td>o3_uam1_UB3LYP_631Gd_4_4_cent_azomethine_ts</td><td><a href = \"files/unrestricted_cycloadd_oniom/o3_uam1_UB3LYP_631Gd_4_4_cent_azomethine_ts.com\" target = \"_blank\">com</a></td><td><input type=\"button\" value=\"Smart Log\" id=\"o3_uam1_UB3LYP_631Gd_4_4_cent_azomethine_ts\" onclick=\"view_function(event, this.id)\" /></td><td>Success</td></tr><tr><td>o3_upm6_UB3LYP_631Gd_4_4_cent_azomethine_ts</td><td><a href = \"files/unrestricted_cycloadd_oniom/o3_upm6_UB3LYP_631Gd_4_4_cent_azomethine_ts.com\" target = \"_blank\">com</a></td><td><input type=\"button\" value=\"Smart Log\" id=\"o3_upm6_UB3LYP_631Gd_4_4_cent_azomethine_ts\" onclick=\"view_function(event, this.id)\" /></td><td>Success</td></tr><tr><td>o3_uHF_STO-3G_UB3LYP_631Gd_4_4_cent_azomethine_ts</td><td><a href = \"files/unrestricted_cycloadd_oniom/o3_uHF_STO-3G_UB3LYP_631Gd_4_4_cent_azomethine_ts.com\" target = \"_blank\">com</a></td><td><input type=\"button\" value=\"Smart Log\" id=\"o3_uHF_STO-3G_UB3LYP_631Gd_4_4_cent_azomethine_ts\" onclick=\"view_function(event, this.id)\" /></td><td>Success</td></tr><tr><td>o3_uff_UB3LYP_631Gd_4_4_cent_azomethine_ts</td><td><a href = \"files/unrestricted_cycloadd_oniom/o3_uff_UB3LYP_631Gd_4_4_cent_azomethine_ts.com\" target = \"_blank\">com</a></td><td><input type=\"button\" value=\"Smart Log\" id=\"o3_uff_UB3LYP_631Gd_4_4_cent_azomethine_ts\" onclick=\"view_function(event, this.id)\" /></td><td>Success</td></tr><tr><td>o4_uam1_UB3LYP_631Gd_4_4_cent_azomethine_ts</td><td><a href = \"files/unrestricted_cycloadd_oniom/o4_uam1_UB3LYP_631Gd_4_4_cent_azomethine_ts.com\" target = \"_blank\">com</a></td><td><input type=\"button\" value=\"Smart Log\" id=\"o4_uam1_UB3LYP_631Gd_4_4_cent_azomethine_ts\" onclick=\"view_function(event, this.id)\" /></td><td>Success</td></tr><tr><td>o4_upm6_UB3LYP_631Gd_4_4_cent_azomethine_ts</td><td><a href = \"files/unrestricted_cycloadd_oniom/o4_upm6_UB3LYP_631Gd_4_4_cent_azomethine_ts.com\" target = \"_blank\">com</a></td><td><input type=\"button\" value=\"Smart Log\" id=\"o4_upm6_UB3LYP_631Gd_4_4_cent_azomethine_ts\" onclick=\"view_function(event, this.id)\" /></td><td>Success</td></tr><tr><td>o4_uHF_STO-3G_UB3LYP_631Gd_4_4_cent_azomethine_ts</td><td><a href = \"files/unrestricted_cycloadd_oniom/o4_uHF_STO-3G_UB3LYP_631Gd_4_4_cent_azomethine_ts.com\" target = \"_blank\">com</a></td><td><input type=\"button\" value=\"Smart Log\" id=\"o4_uHF_STO-3G_UB3LYP_631Gd_4_4_cent_azomethine_ts\" onclick=\"view_function(event, this.id)\" /></td><td>Success</td></tr><tr><td>o4_uff_UB3LYP_631Gd_4_4_cent_azomethine_ts</td><td><a href = \"files/unrestricted_cycloadd_oniom/o4_uff_UB3LYP_631Gd_4_4_cent_azomethine_ts.com\" target = \"_blank\">com</a></td><td><input type=\"button\" value=\"Smart Log\" id=\"o4_uff_UB3LYP_631Gd_4_4_cent_azomethine_ts\" onclick=\"view_function(event, this.id)\" /></td><td>Success</td></tr>\n",
        "    </table>\n",
        "    </body>"
       ],
       "metadata": {},
       "output_type": "pyout",
       "prompt_number": 29,
       "text": [
        "<IPython.core.display.HTML at 0x78d0a50>"
       ]
      }
     ],
     "prompt_number": 29
    },
    {
     "cell_type": "code",
     "collapsed": false,
     "input": [
      "mols_to_html(o_44_azo_ts[-1].calc.components)"
     ],
     "language": "python",
     "metadata": {},
     "outputs": [
      {
       "html": [
        "\n",
        "           <script type=\"text/javascript\">\n",
        "           function view_function (event, file_n) {\n",
        "               if (event.ctrlKey && event.shiftKey){\n",
        "                   IPython.notebook.kernel.execute(\"cc_notebook_utils.pygview('\" + file_n + \".log')\");\n",
        "               }\n",
        "               else if (event.ctrlKey){\n",
        "                   IPython.notebook.kernel.execute(\"cc_notebook_utils.pygausssum('\" + file_n + \".log')\");\n",
        "               }\n",
        "               else if (event.shiftKey){\n",
        "                   IPython.notebook.kernel.execute(\"cc_notebook_utils.pyvogadro('\" + file_n + \".log')\");\n",
        "               }\n",
        "               else {\n",
        "                   IPython.notebook.kernel.execute(\"cc_notebook_utils.pyvim('\" + file_n + \".log')\");\n",
        "                   IPython.notebook.kernel.execute(\"print(file_n)\");\n",
        "               }\n",
        "           }\n",
        "           </script>\n",
        "    <style>\n",
        "    table\n",
        "    {\n",
        "        border-collapse:collapse;\n",
        "    }\n",
        "    td\n",
        "    {\n",
        "        padding:15px;\n",
        "    }\n",
        "    </style>\n",
        "    <body>\n",
        "    <table bgcolor=\"white\">\n",
        "    <col/><tr><td>o4_uff_UB3LYP_631Gd_4_4_cent_azomethine_ts_init_low_real</td><td><a href = \"files/unrestricted_cycloadd_oniom/o4_uff_UB3LYP_631Gd_4_4_cent_azomethine_ts_init_low_real.com\" target = \"_blank\">com</a></td><td><input type=\"button\" value=\"Smart Log\" id=\"o4_uff_UB3LYP_631Gd_4_4_cent_azomethine_ts_init_low_real\" onclick=\"view_function(event, this.id)\" /></td><td>Incomplete</td></tr><tr><td>o4_uff_UB3LYP_631Gd_4_4_cent_azomethine_ts_init_high_model</td><td><a href = \"files/unrestricted_cycloadd_oniom/o4_uff_UB3LYP_631Gd_4_4_cent_azomethine_ts_init_high_model.com\" target = \"_blank\">com</a></td><td><input type=\"button\" value=\"Smart Log\" id=\"o4_uff_UB3LYP_631Gd_4_4_cent_azomethine_ts_init_high_model\" onclick=\"view_function(event, this.id)\" /></td><td>Error: No lower point found -- run aborted.</td></tr><tr><td>o4_uff_UB3LYP_631Gd_4_4_cent_azomethine_ts_init_low_model</td><td><a href = \"files/unrestricted_cycloadd_oniom/o4_uff_UB3LYP_631Gd_4_4_cent_azomethine_ts_init_low_model.com\" target = \"_blank\">com</a></td><td><input type=\"button\" value=\"Smart Log\" id=\"o4_uff_UB3LYP_631Gd_4_4_cent_azomethine_ts_init_low_model\" onclick=\"view_function(event, this.id)\" /></td><td>Incomplete</td></tr>\n",
        "    </table>\n",
        "    </body>"
       ],
       "metadata": {},
       "output_type": "pyout",
       "prompt_number": 30,
       "text": [
        "<IPython.core.display.HTML at 0xcdc4790>"
       ]
      }
     ],
     "prompt_number": 30
    },
    {
     "cell_type": "code",
     "collapsed": false,
     "input": [
      "def T_E_f(t,a):\n",
      "    try: \n",
      "        return(t.calc.energy_zero - a.calc.energy_zero)* 23.060542301388647 \n",
      "    except AttributeError: \n",
      "        return float('nan')\n",
      "    \n",
      "T_Es = []\n",
      "delt_Es = []\n",
      "names = []\n",
      "\n",
      "for i in range(len(o_44_azo_ts)):\n",
      "    T_E = T_E_f(o_44_azo_ts[i], o_44_azo[i])\n",
      "    delt_E = T_E - 16.867832956810616\n",
      "    name = o_44_azo_ts[i].calc.label\n",
      "    T_Es.append(T_E)\n",
      "    delt_Es.append(delt_E)\n",
      "    names.append(name)\n",
      "\n",
      "o_T_data = pandas.Series(T_Es ,names)\n",
      "o_T_dft_delt_data = pandas.Series(delt_Es, names)"
     ],
     "language": "python",
     "metadata": {},
     "outputs": [],
     "prompt_number": 31
    },
    {
     "cell_type": "code",
     "collapsed": false,
     "input": [
      "#energy in Kcal/mol\n",
      "d = {'E_Transition': o_T_data, 'oniom-b3lyp_delta': o_T_dft_delt_data}\n",
      "ts_frame = pandas.DataFrame(d)\n",
      "#ts_frame.save('o_ts_E_data.pickle')\n",
      "ts_frame"
     ],
     "language": "python",
     "metadata": {},
     "outputs": [
      {
       "html": [
        "<div style=\"max-height:1000px;max-width:1500px;overflow:auto;\">\n",
        "<table border=\"1\" class=\"dataframe\">\n",
        "  <thead>\n",
        "    <tr style=\"text-align: right;\">\n",
        "      <th></th>\n",
        "      <th>E_Transition</th>\n",
        "      <th>oniom-b3lyp_delta</th>\n",
        "    </tr>\n",
        "  </thead>\n",
        "  <tbody>\n",
        "    <tr>\n",
        "      <th>o0_uam1_UB3LYP_631Gd_4_4_cent_azomethine_ts</th>\n",
        "      <td> 19.956037</td>\n",
        "      <td>  3.088204</td>\n",
        "    </tr>\n",
        "    <tr>\n",
        "      <th>o0_upm6_UB3LYP_631Gd_4_4_cent_azomethine_ts</th>\n",
        "      <td> 27.823637</td>\n",
        "      <td> 10.955804</td>\n",
        "    </tr>\n",
        "    <tr>\n",
        "      <th>o0_uHF_STO-3G_UB3LYP_631Gd_4_4_cent_azomethine_ts</th>\n",
        "      <td>  8.551464</td>\n",
        "      <td> -8.316369</td>\n",
        "    </tr>\n",
        "    <tr>\n",
        "      <th>o0_uff_UB3LYP_631Gd_4_4_cent_azomethine_ts</th>\n",
        "      <td> 59.785824</td>\n",
        "      <td> 42.917991</td>\n",
        "    </tr>\n",
        "    <tr>\n",
        "      <th>o1_uam1_UB3LYP_631Gd_4_4_cent_azomethine_ts</th>\n",
        "      <td> 14.379048</td>\n",
        "      <td> -2.488784</td>\n",
        "    </tr>\n",
        "    <tr>\n",
        "      <th>o1_upm6_UB3LYP_631Gd_4_4_cent_azomethine_ts</th>\n",
        "      <td> 14.552676</td>\n",
        "      <td> -2.315157</td>\n",
        "    </tr>\n",
        "    <tr>\n",
        "      <th>o1_uHF_STO-3G_UB3LYP_631Gd_4_4_cent_azomethine_ts</th>\n",
        "      <td> 14.747688</td>\n",
        "      <td> -2.120145</td>\n",
        "    </tr>\n",
        "    <tr>\n",
        "      <th>o1_uff_UB3LYP_631Gd_4_4_cent_azomethine_ts</th>\n",
        "      <td> 15.321982</td>\n",
        "      <td> -1.545851</td>\n",
        "    </tr>\n",
        "    <tr>\n",
        "      <th>o2_uam1_UB3LYP_631Gd_4_4_cent_azomethine_ts</th>\n",
        "      <td> 15.934795</td>\n",
        "      <td> -0.933038</td>\n",
        "    </tr>\n",
        "    <tr>\n",
        "      <th>o2_upm6_UB3LYP_631Gd_4_4_cent_azomethine_ts</th>\n",
        "      <td> 16.607260</td>\n",
        "      <td> -0.260573</td>\n",
        "    </tr>\n",
        "    <tr>\n",
        "      <th>o2_uHF_STO-3G_UB3LYP_631Gd_4_4_cent_azomethine_ts</th>\n",
        "      <td> 13.630430</td>\n",
        "      <td> -3.237403</td>\n",
        "    </tr>\n",
        "    <tr>\n",
        "      <th>o2_uff_UB3LYP_631Gd_4_4_cent_azomethine_ts</th>\n",
        "      <td> 15.750762</td>\n",
        "      <td> -1.117071</td>\n",
        "    </tr>\n",
        "    <tr>\n",
        "      <th>o3_uam1_UB3LYP_631Gd_4_4_cent_azomethine_ts</th>\n",
        "      <td> 19.447057</td>\n",
        "      <td>  2.579224</td>\n",
        "    </tr>\n",
        "    <tr>\n",
        "      <th>o3_upm6_UB3LYP_631Gd_4_4_cent_azomethine_ts</th>\n",
        "      <td> 26.755155</td>\n",
        "      <td>  9.887322</td>\n",
        "    </tr>\n",
        "    <tr>\n",
        "      <th>o3_uHF_STO-3G_UB3LYP_631Gd_4_4_cent_azomethine_ts</th>\n",
        "      <td> 24.407019</td>\n",
        "      <td>  7.539187</td>\n",
        "    </tr>\n",
        "    <tr>\n",
        "      <th>o3_uff_UB3LYP_631Gd_4_4_cent_azomethine_ts</th>\n",
        "      <td> 27.327268</td>\n",
        "      <td> 10.459435</td>\n",
        "    </tr>\n",
        "    <tr>\n",
        "      <th>o4_uam1_UB3LYP_631Gd_4_4_cent_azomethine_ts</th>\n",
        "      <td> 10.420385</td>\n",
        "      <td> -6.447448</td>\n",
        "    </tr>\n",
        "    <tr>\n",
        "      <th>o4_upm6_UB3LYP_631Gd_4_4_cent_azomethine_ts</th>\n",
        "      <td> 10.622866</td>\n",
        "      <td> -6.244967</td>\n",
        "    </tr>\n",
        "    <tr>\n",
        "      <th>o4_uHF_STO-3G_UB3LYP_631Gd_4_4_cent_azomethine_ts</th>\n",
        "      <td> 10.040391</td>\n",
        "      <td> -6.827442</td>\n",
        "    </tr>\n",
        "    <tr>\n",
        "      <th>o4_uff_UB3LYP_631Gd_4_4_cent_azomethine_ts</th>\n",
        "      <td>  9.087389</td>\n",
        "      <td> -7.780444</td>\n",
        "    </tr>\n",
        "  </tbody>\n",
        "</table>\n",
        "</div>"
       ],
       "metadata": {},
       "output_type": "pyout",
       "prompt_number": 32,
       "text": [
        "                                                   E_Transition  oniom-b3lyp_delta\n",
        "o0_uam1_UB3LYP_631Gd_4_4_cent_azomethine_ts           19.956037           3.088204\n",
        "o0_upm6_UB3LYP_631Gd_4_4_cent_azomethine_ts           27.823637          10.955804\n",
        "o0_uHF_STO-3G_UB3LYP_631Gd_4_4_cent_azomethine_ts      8.551464          -8.316369\n",
        "o0_uff_UB3LYP_631Gd_4_4_cent_azomethine_ts            59.785824          42.917991\n",
        "o1_uam1_UB3LYP_631Gd_4_4_cent_azomethine_ts           14.379048          -2.488784\n",
        "o1_upm6_UB3LYP_631Gd_4_4_cent_azomethine_ts           14.552676          -2.315157\n",
        "o1_uHF_STO-3G_UB3LYP_631Gd_4_4_cent_azomethine_ts     14.747688          -2.120145\n",
        "o1_uff_UB3LYP_631Gd_4_4_cent_azomethine_ts            15.321982          -1.545851\n",
        "o2_uam1_UB3LYP_631Gd_4_4_cent_azomethine_ts           15.934795          -0.933038\n",
        "o2_upm6_UB3LYP_631Gd_4_4_cent_azomethine_ts           16.607260          -0.260573\n",
        "o2_uHF_STO-3G_UB3LYP_631Gd_4_4_cent_azomethine_ts     13.630430          -3.237403\n",
        "o2_uff_UB3LYP_631Gd_4_4_cent_azomethine_ts            15.750762          -1.117071\n",
        "o3_uam1_UB3LYP_631Gd_4_4_cent_azomethine_ts           19.447057           2.579224\n",
        "o3_upm6_UB3LYP_631Gd_4_4_cent_azomethine_ts           26.755155           9.887322\n",
        "o3_uHF_STO-3G_UB3LYP_631Gd_4_4_cent_azomethine_ts     24.407019           7.539187\n",
        "o3_uff_UB3LYP_631Gd_4_4_cent_azomethine_ts            27.327268          10.459435\n",
        "o4_uam1_UB3LYP_631Gd_4_4_cent_azomethine_ts           10.420385          -6.447448\n",
        "o4_upm6_UB3LYP_631Gd_4_4_cent_azomethine_ts           10.622866          -6.244967\n",
        "o4_uHF_STO-3G_UB3LYP_631Gd_4_4_cent_azomethine_ts     10.040391          -6.827442\n",
        "o4_uff_UB3LYP_631Gd_4_4_cent_azomethine_ts             9.087389          -7.780444"
       ]
      }
     ],
     "prompt_number": 32
    },
    {
     "cell_type": "code",
     "collapsed": false,
     "input": [
      "#mols_to_html([o_44_azo_ts[-8], o_44_opt_azo_ts[-8]])"
     ],
     "language": "python",
     "metadata": {},
     "outputs": [],
     "prompt_number": 33
    },
    {
     "cell_type": "code",
     "collapsed": false,
     "input": [
      "mols_to_html(o_44_azo_ts[-8].calc.components)"
     ],
     "language": "python",
     "metadata": {},
     "outputs": [
      {
       "html": [
        "\n",
        "           <script type=\"text/javascript\">\n",
        "           function view_function (event, file_n) {\n",
        "               if (event.ctrlKey && event.shiftKey){\n",
        "                   IPython.notebook.kernel.execute(\"cc_notebook_utils.pygview('\" + file_n + \".log')\");\n",
        "               }\n",
        "               else if (event.ctrlKey){\n",
        "                   IPython.notebook.kernel.execute(\"cc_notebook_utils.pygausssum('\" + file_n + \".log')\");\n",
        "               }\n",
        "               else if (event.shiftKey){\n",
        "                   IPython.notebook.kernel.execute(\"cc_notebook_utils.pyvogadro('\" + file_n + \".log')\");\n",
        "               }\n",
        "               else {\n",
        "                   IPython.notebook.kernel.execute(\"cc_notebook_utils.pyvim('\" + file_n + \".log')\");\n",
        "                   IPython.notebook.kernel.execute(\"print(file_n)\");\n",
        "               }\n",
        "           }\n",
        "           </script>\n",
        "    <style>\n",
        "    table\n",
        "    {\n",
        "        border-collapse:collapse;\n",
        "    }\n",
        "    td\n",
        "    {\n",
        "        padding:15px;\n",
        "    }\n",
        "    </style>\n",
        "    <body>\n",
        "    <table bgcolor=\"white\">\n",
        "    <col/><tr><td>o3_uam1_UB3LYP_631Gd_4_4_cent_azomethine_ts_init_low_real</td><td><a href = \"files/unrestricted_cycloadd_oniom/o3_uam1_UB3LYP_631Gd_4_4_cent_azomethine_ts_init_low_real.com\" target = \"_blank\">com</a></td><td><input type=\"button\" value=\"Smart Log\" id=\"o3_uam1_UB3LYP_631Gd_4_4_cent_azomethine_ts_init_low_real\" onclick=\"view_function(event, this.id)\" /></td><td>Success</td></tr><tr><td>o3_uam1_UB3LYP_631Gd_4_4_cent_azomethine_ts_init_high_model_restart_1</td><td><a href = \"files/unrestricted_cycloadd_oniom/o3_uam1_UB3LYP_631Gd_4_4_cent_azomethine_ts_init_high_model_restart_1.com\" target = \"_blank\">com</a></td><td><input type=\"button\" value=\"Smart Log\" id=\"o3_uam1_UB3LYP_631Gd_4_4_cent_azomethine_ts_init_high_model_restart_1\" onclick=\"view_function(event, this.id)\" /></td><td>Success</td></tr><tr><td>o3_uam1_UB3LYP_631Gd_4_4_cent_azomethine_ts_init_low_model</td><td><a href = \"files/unrestricted_cycloadd_oniom/o3_uam1_UB3LYP_631Gd_4_4_cent_azomethine_ts_init_low_model.com\" target = \"_blank\">com</a></td><td><input type=\"button\" value=\"Smart Log\" id=\"o3_uam1_UB3LYP_631Gd_4_4_cent_azomethine_ts_init_low_model\" onclick=\"view_function(event, this.id)\" /></td><td>Success</td></tr>\n",
        "    </table>\n",
        "    </body>"
       ],
       "metadata": {},
       "output_type": "pyout",
       "prompt_number": 34,
       "text": [
        "<IPython.core.display.HTML at 0xcdc4310>"
       ]
      }
     ],
     "prompt_number": 34
    },
    {
     "cell_type": "code",
     "collapsed": false,
     "input": [
      "#oniom_stable(o_44_azo_ts[-8], frc=True)"
     ],
     "language": "python",
     "metadata": {},
     "outputs": [],
     "prompt_number": 35
    },
    {
     "cell_type": "code",
     "collapsed": false,
     "input": [
      "check_calcs([o_44_azo_ts[-8]],frc=True)\n",
      "mols_to_html(o_44_azo_ts[-8].calc.components)"
     ],
     "language": "python",
     "metadata": {},
     "outputs": [
      {
       "html": [
        "\n",
        "           <script type=\"text/javascript\">\n",
        "           function view_function (event, file_n) {\n",
        "               if (event.ctrlKey && event.shiftKey){\n",
        "                   IPython.notebook.kernel.execute(\"cc_notebook_utils.pygview('\" + file_n + \".log')\");\n",
        "               }\n",
        "               else if (event.ctrlKey){\n",
        "                   IPython.notebook.kernel.execute(\"cc_notebook_utils.pygausssum('\" + file_n + \".log')\");\n",
        "               }\n",
        "               else if (event.shiftKey){\n",
        "                   IPython.notebook.kernel.execute(\"cc_notebook_utils.pyvogadro('\" + file_n + \".log')\");\n",
        "               }\n",
        "               else {\n",
        "                   IPython.notebook.kernel.execute(\"cc_notebook_utils.pyvim('\" + file_n + \".log')\");\n",
        "                   IPython.notebook.kernel.execute(\"print(file_n)\");\n",
        "               }\n",
        "           }\n",
        "           </script>\n",
        "    <style>\n",
        "    table\n",
        "    {\n",
        "        border-collapse:collapse;\n",
        "    }\n",
        "    td\n",
        "    {\n",
        "        padding:15px;\n",
        "    }\n",
        "    </style>\n",
        "    <body>\n",
        "    <table bgcolor=\"white\">\n",
        "    <col/><tr><td>o3_uam1_UB3LYP_631Gd_4_4_cent_azomethine_ts_init_low_real</td><td><a href = \"files/unrestricted_cycloadd_oniom/o3_uam1_UB3LYP_631Gd_4_4_cent_azomethine_ts_init_low_real.com\" target = \"_blank\">com</a></td><td><input type=\"button\" value=\"Smart Log\" id=\"o3_uam1_UB3LYP_631Gd_4_4_cent_azomethine_ts_init_low_real\" onclick=\"view_function(event, this.id)\" /></td><td>Success</td></tr><tr><td>o3_uam1_UB3LYP_631Gd_4_4_cent_azomethine_ts_init_high_model_restart_1</td><td><a href = \"files/unrestricted_cycloadd_oniom/o3_uam1_UB3LYP_631Gd_4_4_cent_azomethine_ts_init_high_model_restart_1.com\" target = \"_blank\">com</a></td><td><input type=\"button\" value=\"Smart Log\" id=\"o3_uam1_UB3LYP_631Gd_4_4_cent_azomethine_ts_init_high_model_restart_1\" onclick=\"view_function(event, this.id)\" /></td><td>Success</td></tr><tr><td>o3_uam1_UB3LYP_631Gd_4_4_cent_azomethine_ts_init_low_model</td><td><a href = \"files/unrestricted_cycloadd_oniom/o3_uam1_UB3LYP_631Gd_4_4_cent_azomethine_ts_init_low_model.com\" target = \"_blank\">com</a></td><td><input type=\"button\" value=\"Smart Log\" id=\"o3_uam1_UB3LYP_631Gd_4_4_cent_azomethine_ts_init_low_model\" onclick=\"view_function(event, this.id)\" /></td><td>Success</td></tr>\n",
        "    </table>\n",
        "    </body>"
       ],
       "metadata": {},
       "output_type": "pyout",
       "prompt_number": 36,
       "text": [
        "<IPython.core.display.HTML at 0x4c7d410>"
       ]
      }
     ],
     "prompt_number": 36
    },
    {
     "cell_type": "code",
     "collapsed": false,
     "input": [
      "o_44_azo_ts[-8].calc.components[2].calc.energy_zero, o_44_azo_ts[-7].calc.components[1].calc.max_data['scfenergies'][0]"
     ],
     "language": "python",
     "metadata": {},
     "outputs": [
      {
       "metadata": {},
       "output_type": "pyout",
       "prompt_number": 37,
       "text": [
        "(0.0, -22501.855787024182)"
       ]
      }
     ],
     "prompt_number": 37
    },
    {
     "cell_type": "code",
     "collapsed": false,
     "input": [
      "o_44_azo_ts[-7].calc.energy_zero, o_44_azo[-7].calc.energy_zero"
     ],
     "language": "python",
     "metadata": {},
     "outputs": [
      {
       "metadata": {},
       "output_type": "pyout",
       "prompt_number": 38,
       "text": [
        "(-22499.394582939498, -22500.554796550234)"
       ]
      }
     ],
     "prompt_number": 38
    },
    {
     "cell_type": "code",
     "collapsed": false,
     "input": [
      "o_44_azo_ts[-8].calc.energy_zero, o_44_azo[-8].calc.energy_zero"
     ],
     "language": "python",
     "metadata": {},
     "outputs": [
      {
       "metadata": {},
       "output_type": "pyout",
       "prompt_number": 39,
       "text": [
        "(-22499.293452093127, -22500.13675649987)"
       ]
      }
     ],
     "prompt_number": 39
    },
    {
     "cell_type": "code",
     "collapsed": false,
     "input": [
      "#oniom_stable(o_44_azo_ts[-8], frc=True)\n",
      "#check_calcs([o_44_azo_ts[-8]],frc=True)\n",
      "#mols_to_html(unwind([m.calc.components for m in o_44_azo_ts]))"
     ],
     "language": "python",
     "metadata": {},
     "outputs": [],
     "prompt_number": 40
    },
    {
     "cell_type": "markdown",
     "metadata": {},
     "source": [
      "At oniom geometries (starting optimisation at the UB3LYP/6-31G(d) ts_geometry):"
     ]
    },
    {
     "cell_type": "code",
     "collapsed": false,
     "input": [
      "o_44_opt_azo_ts = copy.deepcopy(o_44_azo_ts)\n",
      "for mol in o_44_opt_azo_ts:\n",
      "    new_label = mol.calc.label.split('UB3LYP_631Gd_')[0] *2 + mol.calc.label.split('UB3LYP_631Gd_')[1]\n",
      "    mol.calc.restart(label=new_label, opt='calcfc, ts, noeigen')\n",
      "    mol.calc.set_job(nodes=8, memory=8*1600, time=12, queue='pqmb', version='g09')\n",
      "    #mol.calc.start()"
     ],
     "language": "python",
     "metadata": {},
     "outputs": [],
     "prompt_number": 41
    },
    {
     "cell_type": "code",
     "collapsed": false,
     "input": [
      "check_calcs(o_44_opt_azo_ts)\n",
      "mols_to_html(o_44_opt_azo_ts)"
     ],
     "language": "python",
     "metadata": {},
     "outputs": [
      {
       "html": [
        "\n",
        "           <script type=\"text/javascript\">\n",
        "           function view_function (event, file_n) {\n",
        "               if (event.ctrlKey && event.shiftKey){\n",
        "                   IPython.notebook.kernel.execute(\"cc_notebook_utils.pygview('\" + file_n + \".log')\");\n",
        "               }\n",
        "               else if (event.ctrlKey){\n",
        "                   IPython.notebook.kernel.execute(\"cc_notebook_utils.pygausssum('\" + file_n + \".log')\");\n",
        "               }\n",
        "               else if (event.shiftKey){\n",
        "                   IPython.notebook.kernel.execute(\"cc_notebook_utils.pyvogadro('\" + file_n + \".log')\");\n",
        "               }\n",
        "               else {\n",
        "                   IPython.notebook.kernel.execute(\"cc_notebook_utils.pyvim('\" + file_n + \".log')\");\n",
        "                   IPython.notebook.kernel.execute(\"print(file_n)\");\n",
        "               }\n",
        "           }\n",
        "           </script>\n",
        "    <style>\n",
        "    table\n",
        "    {\n",
        "        border-collapse:collapse;\n",
        "    }\n",
        "    td\n",
        "    {\n",
        "        padding:15px;\n",
        "    }\n",
        "    </style>\n",
        "    <body>\n",
        "    <table bgcolor=\"white\">\n",
        "    <col/><tr><td>o0_uam1_o0_uam1_4_4_cent_azomethine_ts</td><td><a href = \"files/unrestricted_cycloadd_oniom/o0_uam1_o0_uam1_4_4_cent_azomethine_ts.com\" target = \"_blank\">com</a></td><td><input type=\"button\" value=\"Smart Log\" id=\"o0_uam1_o0_uam1_4_4_cent_azomethine_ts\" onclick=\"view_function(event, this.id)\" /></td><td>Success</td></tr><tr><td>o0_upm6_o0_upm6_4_4_cent_azomethine_ts</td><td><a href = \"files/unrestricted_cycloadd_oniom/o0_upm6_o0_upm6_4_4_cent_azomethine_ts.com\" target = \"_blank\">com</a></td><td><input type=\"button\" value=\"Smart Log\" id=\"o0_upm6_o0_upm6_4_4_cent_azomethine_ts\" onclick=\"view_function(event, this.id)\" /></td><td>Success</td></tr><tr><td>o0_uHF_STO-3G_o0_uHF_STO-3G_4_4_cent_azomethine_ts</td><td><a href = \"files/unrestricted_cycloadd_oniom/o0_uHF_STO-3G_o0_uHF_STO-3G_4_4_cent_azomethine_ts.com\" target = \"_blank\">com</a></td><td><input type=\"button\" value=\"Smart Log\" id=\"o0_uHF_STO-3G_o0_uHF_STO-3G_4_4_cent_azomethine_ts\" onclick=\"view_function(event, this.id)\" /></td><td>Success</td></tr><tr><td>o0_uff_o0_uff_4_4_cent_azomethine_ts</td><td><a href = \"files/unrestricted_cycloadd_oniom/o0_uff_o0_uff_4_4_cent_azomethine_ts.com\" target = \"_blank\">com</a></td><td><input type=\"button\" value=\"Smart Log\" id=\"o0_uff_o0_uff_4_4_cent_azomethine_ts\" onclick=\"view_function(event, this.id)\" /></td><td>Error: </td></tr><tr><td>o1_uam1_o1_uam1_4_4_cent_azomethine_ts</td><td><a href = \"files/unrestricted_cycloadd_oniom/o1_uam1_o1_uam1_4_4_cent_azomethine_ts.com\" target = \"_blank\">com</a></td><td><input type=\"button\" value=\"Smart Log\" id=\"o1_uam1_o1_uam1_4_4_cent_azomethine_ts\" onclick=\"view_function(event, this.id)\" /></td><td>Success</td></tr><tr><td>o1_upm6_o1_upm6_4_4_cent_azomethine_ts</td><td><a href = \"files/unrestricted_cycloadd_oniom/o1_upm6_o1_upm6_4_4_cent_azomethine_ts.com\" target = \"_blank\">com</a></td><td><input type=\"button\" value=\"Smart Log\" id=\"o1_upm6_o1_upm6_4_4_cent_azomethine_ts\" onclick=\"view_function(event, this.id)\" /></td><td>Success</td></tr><tr><td>o1_uHF_STO-3G_o1_uHF_STO-3G_4_4_cent_azomethine_ts</td><td><a href = \"files/unrestricted_cycloadd_oniom/o1_uHF_STO-3G_o1_uHF_STO-3G_4_4_cent_azomethine_ts.com\" target = \"_blank\">com</a></td><td><input type=\"button\" value=\"Smart Log\" id=\"o1_uHF_STO-3G_o1_uHF_STO-3G_4_4_cent_azomethine_ts\" onclick=\"view_function(event, this.id)\" /></td><td>Success</td></tr><tr><td>o1_uff_o1_uff_4_4_cent_azomethine_ts</td><td><a href = \"files/unrestricted_cycloadd_oniom/o1_uff_o1_uff_4_4_cent_azomethine_ts.com\" target = \"_blank\">com</a></td><td><input type=\"button\" value=\"Smart Log\" id=\"o1_uff_o1_uff_4_4_cent_azomethine_ts\" onclick=\"view_function(event, this.id)\" /></td><td>Error: </td></tr><tr><td>o2_uam1_o2_uam1_4_4_cent_azomethine_ts</td><td><a href = \"files/unrestricted_cycloadd_oniom/o2_uam1_o2_uam1_4_4_cent_azomethine_ts.com\" target = \"_blank\">com</a></td><td><input type=\"button\" value=\"Smart Log\" id=\"o2_uam1_o2_uam1_4_4_cent_azomethine_ts\" onclick=\"view_function(event, this.id)\" /></td><td>Success</td></tr><tr><td>o2_upm6_o2_upm6_4_4_cent_azomethine_ts</td><td><a href = \"files/unrestricted_cycloadd_oniom/o2_upm6_o2_upm6_4_4_cent_azomethine_ts.com\" target = \"_blank\">com</a></td><td><input type=\"button\" value=\"Smart Log\" id=\"o2_upm6_o2_upm6_4_4_cent_azomethine_ts\" onclick=\"view_function(event, this.id)\" /></td><td>Success</td></tr><tr><td>o2_uHF_STO-3G_o2_uHF_STO-3G_4_4_cent_azomethine_ts</td><td><a href = \"files/unrestricted_cycloadd_oniom/o2_uHF_STO-3G_o2_uHF_STO-3G_4_4_cent_azomethine_ts.com\" target = \"_blank\">com</a></td><td><input type=\"button\" value=\"Smart Log\" id=\"o2_uHF_STO-3G_o2_uHF_STO-3G_4_4_cent_azomethine_ts\" onclick=\"view_function(event, this.id)\" /></td><td>Success</td></tr><tr><td>o2_uff_o2_uff_4_4_cent_azomethine_ts</td><td><a href = \"files/unrestricted_cycloadd_oniom/o2_uff_o2_uff_4_4_cent_azomethine_ts.com\" target = \"_blank\">com</a></td><td><input type=\"button\" value=\"Smart Log\" id=\"o2_uff_o2_uff_4_4_cent_azomethine_ts\" onclick=\"view_function(event, this.id)\" /></td><td>Success</td></tr><tr><td>o3_uam1_o3_uam1_4_4_cent_azomethine_ts</td><td><a href = \"files/unrestricted_cycloadd_oniom/o3_uam1_o3_uam1_4_4_cent_azomethine_ts.com\" target = \"_blank\">com</a></td><td><input type=\"button\" value=\"Smart Log\" id=\"o3_uam1_o3_uam1_4_4_cent_azomethine_ts\" onclick=\"view_function(event, this.id)\" /></td><td>Success</td></tr><tr><td>o3_upm6_o3_upm6_4_4_cent_azomethine_ts</td><td><a href = \"files/unrestricted_cycloadd_oniom/o3_upm6_o3_upm6_4_4_cent_azomethine_ts.com\" target = \"_blank\">com</a></td><td><input type=\"button\" value=\"Smart Log\" id=\"o3_upm6_o3_upm6_4_4_cent_azomethine_ts\" onclick=\"view_function(event, this.id)\" /></td><td>Success</td></tr><tr><td>o3_uHF_STO-3G_o3_uHF_STO-3G_4_4_cent_azomethine_ts</td><td><a href = \"files/unrestricted_cycloadd_oniom/o3_uHF_STO-3G_o3_uHF_STO-3G_4_4_cent_azomethine_ts.com\" target = \"_blank\">com</a></td><td><input type=\"button\" value=\"Smart Log\" id=\"o3_uHF_STO-3G_o3_uHF_STO-3G_4_4_cent_azomethine_ts\" onclick=\"view_function(event, this.id)\" /></td><td>Success</td></tr><tr><td>o3_uff_o3_uff_4_4_cent_azomethine_ts</td><td><a href = \"files/unrestricted_cycloadd_oniom/o3_uff_o3_uff_4_4_cent_azomethine_ts.com\" target = \"_blank\">com</a></td><td><input type=\"button\" value=\"Smart Log\" id=\"o3_uff_o3_uff_4_4_cent_azomethine_ts\" onclick=\"view_function(event, this.id)\" /></td><td>Error: </td></tr><tr><td>o4_uam1_o4_uam1_4_4_cent_azomethine_ts</td><td><a href = \"files/unrestricted_cycloadd_oniom/o4_uam1_o4_uam1_4_4_cent_azomethine_ts.com\" target = \"_blank\">com</a></td><td><input type=\"button\" value=\"Smart Log\" id=\"o4_uam1_o4_uam1_4_4_cent_azomethine_ts\" onclick=\"view_function(event, this.id)\" /></td><td>Success</td></tr><tr><td>o4_upm6_o4_upm6_4_4_cent_azomethine_ts</td><td><a href = \"files/unrestricted_cycloadd_oniom/o4_upm6_o4_upm6_4_4_cent_azomethine_ts.com\" target = \"_blank\">com</a></td><td><input type=\"button\" value=\"Smart Log\" id=\"o4_upm6_o4_upm6_4_4_cent_azomethine_ts\" onclick=\"view_function(event, this.id)\" /></td><td>Success</td></tr><tr><td>o4_uHF_STO-3G_o4_uHF_STO-3G_4_4_cent_azomethine_ts</td><td><a href = \"files/unrestricted_cycloadd_oniom/o4_uHF_STO-3G_o4_uHF_STO-3G_4_4_cent_azomethine_ts.com\" target = \"_blank\">com</a></td><td><input type=\"button\" value=\"Smart Log\" id=\"o4_uHF_STO-3G_o4_uHF_STO-3G_4_4_cent_azomethine_ts\" onclick=\"view_function(event, this.id)\" /></td><td>Success</td></tr><tr><td>o4_uff_o4_uff_4_4_cent_azomethine_ts</td><td><a href = \"files/unrestricted_cycloadd_oniom/o4_uff_o4_uff_4_4_cent_azomethine_ts.com\" target = \"_blank\">com</a></td><td><input type=\"button\" value=\"Smart Log\" id=\"o4_uff_o4_uff_4_4_cent_azomethine_ts\" onclick=\"view_function(event, this.id)\" /></td><td>Success</td></tr>\n",
        "    </table>\n",
        "    </body>"
       ],
       "metadata": {},
       "output_type": "pyout",
       "prompt_number": 42,
       "text": [
        "<IPython.core.display.HTML at 0xce54ad0>"
       ]
      }
     ],
     "prompt_number": 42
    },
    {
     "cell_type": "code",
     "collapsed": false,
     "input": [
      "def T_E_f(t,a):\n",
      "    try: \n",
      "        return(t.calc.energy_zero - a.calc.energy_zero)* 23.060542301388647 \n",
      "    except AttributeError: \n",
      "        return float('nan')\n",
      "    \n",
      "T_Es = []\n",
      "delt_Es = []\n",
      "names = []\n",
      "\n",
      "for i in range(len(o_44_opt_azo_ts)):\n",
      "    T_E = T_E_f(o_44_opt_azo_ts[i], o_44_opt_azo[i])\n",
      "    delt_E = T_E - 16.867832956810616\n",
      "    name = o_44_opt_azo_ts[i].calc.label\n",
      "    T_Es.append(T_E)\n",
      "    delt_Es.append(delt_E)\n",
      "    names.append(name)\n",
      "\n",
      "o_T_data = pandas.Series(T_Es ,names)\n",
      "o_T_dft_delt_data = pandas.Series(delt_Es, names)"
     ],
     "language": "python",
     "metadata": {},
     "outputs": [],
     "prompt_number": 43
    },
    {
     "cell_type": "code",
     "collapsed": false,
     "input": [
      "#energy in Kcal/mol\n",
      "d = {'E_Transition': o_T_data, 'oniom-b3lyp_delta': o_T_dft_delt_data}\n",
      "ts_frame = pandas.DataFrame(d)\n",
      "#ts_frame.save('o_ts_E_data.pickle')\n",
      "ts_frame"
     ],
     "language": "python",
     "metadata": {},
     "outputs": [
      {
       "html": [
        "<div style=\"max-height:1000px;max-width:1500px;overflow:auto;\">\n",
        "<table border=\"1\" class=\"dataframe\">\n",
        "  <thead>\n",
        "    <tr style=\"text-align: right;\">\n",
        "      <th></th>\n",
        "      <th>E_Transition</th>\n",
        "      <th>oniom-b3lyp_delta</th>\n",
        "    </tr>\n",
        "  </thead>\n",
        "  <tbody>\n",
        "    <tr>\n",
        "      <th>o0_uam1_o0_uam1_4_4_cent_azomethine_ts</th>\n",
        "      <td>  8.368422</td>\n",
        "      <td> -8.499411</td>\n",
        "    </tr>\n",
        "    <tr>\n",
        "      <th>o0_upm6_o0_upm6_4_4_cent_azomethine_ts</th>\n",
        "      <td> 21.299555</td>\n",
        "      <td>  4.431722</td>\n",
        "    </tr>\n",
        "    <tr>\n",
        "      <th>o0_uHF_STO-3G_o0_uHF_STO-3G_4_4_cent_azomethine_ts</th>\n",
        "      <td>  2.592983</td>\n",
        "      <td>-14.274850</td>\n",
        "    </tr>\n",
        "    <tr>\n",
        "      <th>o0_uff_o0_uff_4_4_cent_azomethine_ts</th>\n",
        "      <td>       NaN</td>\n",
        "      <td>       NaN</td>\n",
        "    </tr>\n",
        "    <tr>\n",
        "      <th>o1_uam1_o1_uam1_4_4_cent_azomethine_ts</th>\n",
        "      <td> 14.426000</td>\n",
        "      <td> -2.441833</td>\n",
        "    </tr>\n",
        "    <tr>\n",
        "      <th>o1_upm6_o1_upm6_4_4_cent_azomethine_ts</th>\n",
        "      <td> 14.655650</td>\n",
        "      <td> -2.212183</td>\n",
        "    </tr>\n",
        "    <tr>\n",
        "      <th>o1_uHF_STO-3G_o1_uHF_STO-3G_4_4_cent_azomethine_ts</th>\n",
        "      <td> 15.460760</td>\n",
        "      <td> -1.407073</td>\n",
        "    </tr>\n",
        "    <tr>\n",
        "      <th>o1_uff_o1_uff_4_4_cent_azomethine_ts</th>\n",
        "      <td>       NaN</td>\n",
        "      <td>       NaN</td>\n",
        "    </tr>\n",
        "    <tr>\n",
        "      <th>o2_uam1_o2_uam1_4_4_cent_azomethine_ts</th>\n",
        "      <td> 15.899983</td>\n",
        "      <td> -0.967850</td>\n",
        "    </tr>\n",
        "    <tr>\n",
        "      <th>o2_upm6_o2_upm6_4_4_cent_azomethine_ts</th>\n",
        "      <td> 16.759261</td>\n",
        "      <td> -0.108572</td>\n",
        "    </tr>\n",
        "    <tr>\n",
        "      <th>o2_uHF_STO-3G_o2_uHF_STO-3G_4_4_cent_azomethine_ts</th>\n",
        "      <td> 13.740758</td>\n",
        "      <td> -3.127075</td>\n",
        "    </tr>\n",
        "    <tr>\n",
        "      <th>o2_uff_o2_uff_4_4_cent_azomethine_ts</th>\n",
        "      <td> 15.365830</td>\n",
        "      <td> -1.502003</td>\n",
        "    </tr>\n",
        "    <tr>\n",
        "      <th>o3_uam1_o3_uam1_4_4_cent_azomethine_ts</th>\n",
        "      <td> 25.284155</td>\n",
        "      <td>  8.416322</td>\n",
        "    </tr>\n",
        "    <tr>\n",
        "      <th>o3_upm6_o3_upm6_4_4_cent_azomethine_ts</th>\n",
        "      <td> 25.306063</td>\n",
        "      <td>  8.438230</td>\n",
        "    </tr>\n",
        "    <tr>\n",
        "      <th>o3_uHF_STO-3G_o3_uHF_STO-3G_4_4_cent_azomethine_ts</th>\n",
        "      <td> 24.314142</td>\n",
        "      <td>  7.446309</td>\n",
        "    </tr>\n",
        "    <tr>\n",
        "      <th>o3_uff_o3_uff_4_4_cent_azomethine_ts</th>\n",
        "      <td>       NaN</td>\n",
        "      <td>       NaN</td>\n",
        "    </tr>\n",
        "    <tr>\n",
        "      <th>o4_uam1_o4_uam1_4_4_cent_azomethine_ts</th>\n",
        "      <td> 10.449930</td>\n",
        "      <td> -6.417903</td>\n",
        "    </tr>\n",
        "    <tr>\n",
        "      <th>o4_upm6_o4_upm6_4_4_cent_azomethine_ts</th>\n",
        "      <td> 10.718584</td>\n",
        "      <td> -6.149249</td>\n",
        "    </tr>\n",
        "    <tr>\n",
        "      <th>o4_uHF_STO-3G_o4_uHF_STO-3G_4_4_cent_azomethine_ts</th>\n",
        "      <td> 10.045231</td>\n",
        "      <td> -6.822602</td>\n",
        "    </tr>\n",
        "    <tr>\n",
        "      <th>o4_uff_o4_uff_4_4_cent_azomethine_ts</th>\n",
        "      <td>  9.550426</td>\n",
        "      <td> -7.317407</td>\n",
        "    </tr>\n",
        "  </tbody>\n",
        "</table>\n",
        "</div>"
       ],
       "metadata": {},
       "output_type": "pyout",
       "prompt_number": 44,
       "text": [
        "                                                    E_Transition  oniom-b3lyp_delta\n",
        "o0_uam1_o0_uam1_4_4_cent_azomethine_ts                  8.368422          -8.499411\n",
        "o0_upm6_o0_upm6_4_4_cent_azomethine_ts                 21.299555           4.431722\n",
        "o0_uHF_STO-3G_o0_uHF_STO-3G_4_4_cent_azomethine_ts      2.592983         -14.274850\n",
        "o0_uff_o0_uff_4_4_cent_azomethine_ts                         NaN                NaN\n",
        "o1_uam1_o1_uam1_4_4_cent_azomethine_ts                 14.426000          -2.441833\n",
        "o1_upm6_o1_upm6_4_4_cent_azomethine_ts                 14.655650          -2.212183\n",
        "o1_uHF_STO-3G_o1_uHF_STO-3G_4_4_cent_azomethine_ts     15.460760          -1.407073\n",
        "o1_uff_o1_uff_4_4_cent_azomethine_ts                         NaN                NaN\n",
        "o2_uam1_o2_uam1_4_4_cent_azomethine_ts                 15.899983          -0.967850\n",
        "o2_upm6_o2_upm6_4_4_cent_azomethine_ts                 16.759261          -0.108572\n",
        "o2_uHF_STO-3G_o2_uHF_STO-3G_4_4_cent_azomethine_ts     13.740758          -3.127075\n",
        "o2_uff_o2_uff_4_4_cent_azomethine_ts                   15.365830          -1.502003\n",
        "o3_uam1_o3_uam1_4_4_cent_azomethine_ts                 25.284155           8.416322\n",
        "o3_upm6_o3_upm6_4_4_cent_azomethine_ts                 25.306063           8.438230\n",
        "o3_uHF_STO-3G_o3_uHF_STO-3G_4_4_cent_azomethine_ts     24.314142           7.446309\n",
        "o3_uff_o3_uff_4_4_cent_azomethine_ts                         NaN                NaN\n",
        "o4_uam1_o4_uam1_4_4_cent_azomethine_ts                 10.449930          -6.417903\n",
        "o4_upm6_o4_upm6_4_4_cent_azomethine_ts                 10.718584          -6.149249\n",
        "o4_uHF_STO-3G_o4_uHF_STO-3G_4_4_cent_azomethine_ts     10.045231          -6.822602\n",
        "o4_uff_o4_uff_4_4_cent_azomethine_ts                    9.550426          -7.317407"
       ]
      }
     ],
     "prompt_number": 44
    },
    {
     "cell_type": "heading",
     "level": 2,
     "metadata": {},
     "source": [
      "IRC"
     ]
    },
    {
     "cell_type": "code",
     "collapsed": false,
     "input": [
      "cd irc"
     ],
     "language": "python",
     "metadata": {},
     "outputs": [
      {
       "output_type": "stream",
       "stream": "stdout",
       "text": [
        "/home/clyde/Dropbox/Project Stuff/Notebooks/unrestricted_cycloadd_oniom/irc\n"
       ]
      }
     ],
     "prompt_number": 45
    },
    {
     "cell_type": "markdown",
     "metadata": {},
     "source": [
      "Generating the IRC:"
     ]
    },
    {
     "cell_type": "code",
     "collapsed": false,
     "input": [
      "upm6_ts = next(c for c in o_44_opt_azo_ts if 'o2_upm6' in c.calc.label)\n",
      "upm6_ts.calc.restart(label = 'o2_upm6_o2_pm6_IRC_4_4_cent_azomethine_ts', opt=None, irc='(calcfc, recorrect=never, stepsize=5, maxpoints=40, verytight)')\n",
      "upm6_ts.calc.set_job(nodes=16, memory=16*1600, time=24, queue='pqmb', version='g09')\n",
      "#upm6_ts.calc.start()\n",
      "#check_calcs([upm6_ts])\n",
      "#gen_fchks([upm6_ts])\n",
      "#check_calcs([upm6_ts], depth='heavy', frc=True)"
     ],
     "language": "python",
     "metadata": {},
     "outputs": [],
     "prompt_number": 46
    },
    {
     "cell_type": "code",
     "collapsed": false,
     "input": [
      "irc_frames = upm6_ts.calc.fchk_data.irc_frames\n",
      "irc_steps = upm6_ts.calc.fchk_data.irc_steps\n",
      "for (i, proj_freq_calc) in enumerate(irc_frames):\n",
      "    proj_freq_calc.set_calculator(Gaussian(label='irc_point_{n}'.format(n=i), method='oniom(UB3LYP/6-31G(d):upm6)', basis='oniom', symmetry='none', freq='projected'))\n",
      "    proj_freq_calcs_H = ylide_atoms + graph_atoms[2]\n",
      "    proj_freq_calc.calc.oniom_coord_params['layers'] = [[no -1 for no in proj_freq_calcs_H]]\n",
      "    proj_freq_calc.calc.oniom_coord_params['layer_mults'] = [1,1]\n",
      "    proj_freq_calc.calc.set_job(nodes=8, memory=8*1400, time=1, queue='pqmb', version='g09')\n",
      "    #proj_freq_calc.calc.start()\n",
      "\n",
      "irc_frames = check_calcs_v2(irc_frames, 'irc_data')\n",
      "p_irc_calcs = get_incomplete_calcs(irc_frames)    \n",
      "\n",
      "for c in p_irc_calcs:\n",
      "    c.set_calculator(Gaussian(label='irc_point_{n}_restart_2'.format(n=irc_frames.index(c)), guess='read', method='oniom(UB3LYP/6-31G(d):upm6)', basis='oniom', symmetry='none', oldchk='/work/cjf05/ASE_notebooks/unrestricted_cycloadd_oniom/' + irc_frames[32].calc.label +'.chk', freq='projected'))\n",
      "    c_H = ylide_atoms + graph_atoms[2]\n",
      "    c.calc.oniom_coord_params['layers'] = [[no -1 for no in c_H]]\n",
      "    c.calc.oniom_coord_params['layer_mults'] = [1,1]\n",
      "    c.calc.set_job(nodes=8, memory=8*1400, time=1, queue='pqmb', version='g09')\n",
      "    #c.calc.start(frc=True)\n",
      "    \n",
      "p_irc_calcs = check_calcs_v2(p_irc_calcs, 'p_irc_restarts')"
     ],
     "language": "python",
     "metadata": {},
     "outputs": [
      {
       "output_type": "stream",
       "stream": "stderr",
       "text": [
        "/home/clyde/Software/my_ase/ase/calculators/gaussian.py:267: UserWarning: Non standard label choice: irc_point_0\n",
        "  warnings.warn('Non standard label choice: {l}'.format(l=self.label))\n",
        "/home/clyde/Software/my_ase/ase/calculators/gaussian.py:267: UserWarning: Non standard label choice: irc_point_1\n",
        "  warnings.warn('Non standard label choice: {l}'.format(l=self.label))\n",
        "/home/clyde/Software/my_ase/ase/calculators/gaussian.py:267: UserWarning: Non standard label choice: irc_point_2\n",
        "  warnings.warn('Non standard label choice: {l}'.format(l=self.label))\n",
        "/home/clyde/Software/my_ase/ase/calculators/gaussian.py:267: UserWarning: Non standard label choice: irc_point_3\n",
        "  warnings.warn('Non standard label choice: {l}'.format(l=self.label))\n",
        "/home/clyde/Software/my_ase/ase/calculators/gaussian.py:267: UserWarning: Non standard label choice: irc_point_4\n",
        "  warnings.warn('Non standard label choice: {l}'.format(l=self.label))\n",
        "/home/clyde/Software/my_ase/ase/calculators/gaussian.py:267: UserWarning: Non standard label choice: irc_point_5\n",
        "  warnings.warn('Non standard label choice: {l}'.format(l=self.label))\n",
        "/home/clyde/Software/my_ase/ase/calculators/gaussian.py:267: UserWarning: Non standard label choice: irc_point_6\n",
        "  warnings.warn('Non standard label choice: {l}'.format(l=self.label))\n",
        "/home/clyde/Software/my_ase/ase/calculators/gaussian.py:267: UserWarning: Non standard label choice: irc_point_7\n",
        "  warnings.warn('Non standard label choice: {l}'.format(l=self.label))\n",
        "/home/clyde/Software/my_ase/ase/calculators/gaussian.py:267: UserWarning: Non standard label choice: irc_point_8\n",
        "  warnings.warn('Non standard label choice: {l}'.format(l=self.label))\n",
        "/home/clyde/Software/my_ase/ase/calculators/gaussian.py:267: UserWarning: Non standard label choice: irc_point_9\n",
        "  warnings.warn('Non standard label choice: {l}'.format(l=self.label))\n",
        "/home/clyde/Software/my_ase/ase/calculators/gaussian.py:267: UserWarning: Non standard label choice: irc_point_10\n",
        "  warnings.warn('Non standard label choice: {l}'.format(l=self.label))\n",
        "/home/clyde/Software/my_ase/ase/calculators/gaussian.py:267: UserWarning: Non standard label choice: irc_point_11\n",
        "  warnings.warn('Non standard label choice: {l}'.format(l=self.label))\n",
        "/home/clyde/Software/my_ase/ase/calculators/gaussian.py:267: UserWarning: Non standard label choice: irc_point_12\n",
        "  warnings.warn('Non standard label choice: {l}'.format(l=self.label))\n",
        "/home/clyde/Software/my_ase/ase/calculators/gaussian.py:267: UserWarning: Non standard label choice: irc_point_13\n",
        "  warnings.warn('Non standard label choice: {l}'.format(l=self.label))\n",
        "/home/clyde/Software/my_ase/ase/calculators/gaussian.py:267: UserWarning: Non standard label choice: irc_point_14\n",
        "  warnings.warn('Non standard label choice: {l}'.format(l=self.label))\n",
        "/home/clyde/Software/my_ase/ase/calculators/gaussian.py:267: UserWarning: Non standard label choice: irc_point_15\n",
        "  warnings.warn('Non standard label choice: {l}'.format(l=self.label))\n",
        "/home/clyde/Software/my_ase/ase/calculators/gaussian.py:267: UserWarning: Non standard label choice: irc_point_16\n",
        "  warnings.warn('Non standard label choice: {l}'.format(l=self.label))\n",
        "/home/clyde/Software/my_ase/ase/calculators/gaussian.py:267: UserWarning: Non standard label choice: irc_point_17\n",
        "  warnings.warn('Non standard label choice: {l}'.format(l=self.label))\n",
        "/home/clyde/Software/my_ase/ase/calculators/gaussian.py:267: UserWarning: Non standard label choice: irc_point_18\n",
        "  warnings.warn('Non standard label choice: {l}'.format(l=self.label))\n",
        "/home/clyde/Software/my_ase/ase/calculators/gaussian.py:267: UserWarning: Non standard label choice: irc_point_19\n",
        "  warnings.warn('Non standard label choice: {l}'.format(l=self.label))\n",
        "/home/clyde/Software/my_ase/ase/calculators/gaussian.py:267: UserWarning: Non standard label choice: irc_point_20\n",
        "  warnings.warn('Non standard label choice: {l}'.format(l=self.label))\n",
        "/home/clyde/Software/my_ase/ase/calculators/gaussian.py:267: UserWarning: Non standard label choice: irc_point_21\n",
        "  warnings.warn('Non standard label choice: {l}'.format(l=self.label))\n",
        "/home/clyde/Software/my_ase/ase/calculators/gaussian.py:267: UserWarning: Non standard label choice: irc_point_22\n",
        "  warnings.warn('Non standard label choice: {l}'.format(l=self.label))\n",
        "/home/clyde/Software/my_ase/ase/calculators/gaussian.py:267: UserWarning: Non standard label choice: irc_point_23\n",
        "  warnings.warn('Non standard label choice: {l}'.format(l=self.label))\n",
        "/home/clyde/Software/my_ase/ase/calculators/gaussian.py:267: UserWarning: Non standard label choice: irc_point_24\n",
        "  warnings.warn('Non standard label choice: {l}'.format(l=self.label))\n",
        "/home/clyde/Software/my_ase/ase/calculators/gaussian.py:267: UserWarning: Non standard label choice: irc_point_25\n",
        "  warnings.warn('Non standard label choice: {l}'.format(l=self.label))\n",
        "/home/clyde/Software/my_ase/ase/calculators/gaussian.py:267: UserWarning: Non standard label choice: irc_point_26\n",
        "  warnings.warn('Non standard label choice: {l}'.format(l=self.label))\n",
        "/home/clyde/Software/my_ase/ase/calculators/gaussian.py:267: UserWarning: Non standard label choice: irc_point_27\n",
        "  warnings.warn('Non standard label choice: {l}'.format(l=self.label))\n",
        "/home/clyde/Software/my_ase/ase/calculators/gaussian.py:267: UserWarning: Non standard label choice: irc_point_28\n",
        "  warnings.warn('Non standard label choice: {l}'.format(l=self.label))\n",
        "/home/clyde/Software/my_ase/ase/calculators/gaussian.py:267: UserWarning: Non standard label choice: irc_point_29\n",
        "  warnings.warn('Non standard label choice: {l}'.format(l=self.label))\n",
        "/home/clyde/Software/my_ase/ase/calculators/gaussian.py:267: UserWarning: Non standard label choice: irc_point_30\n",
        "  warnings.warn('Non standard label choice: {l}'.format(l=self.label))\n",
        "/home/clyde/Software/my_ase/ase/calculators/gaussian.py:267: UserWarning: Non standard label choice: irc_point_31\n",
        "  warnings.warn('Non standard label choice: {l}'.format(l=self.label))\n",
        "/home/clyde/Software/my_ase/ase/calculators/gaussian.py:267: UserWarning: Non standard label choice: irc_point_32\n",
        "  warnings.warn('Non standard label choice: {l}'.format(l=self.label))\n",
        "/home/clyde/Software/my_ase/ase/calculators/gaussian.py:267: UserWarning: Non standard label choice: irc_point_33\n",
        "  warnings.warn('Non standard label choice: {l}'.format(l=self.label))\n",
        "/home/clyde/Software/my_ase/ase/calculators/gaussian.py:267: UserWarning: Non standard label choice: irc_point_34\n",
        "  warnings.warn('Non standard label choice: {l}'.format(l=self.label))\n",
        "/home/clyde/Software/my_ase/ase/calculators/gaussian.py:267: UserWarning: Non standard label choice: irc_point_35\n",
        "  warnings.warn('Non standard label choice: {l}'.format(l=self.label))\n",
        "/home/clyde/Software/my_ase/ase/calculators/gaussian.py:267: UserWarning: Non standard label choice: irc_point_36\n",
        "  warnings.warn('Non standard label choice: {l}'.format(l=self.label))\n",
        "/home/clyde/Software/my_ase/ase/calculators/gaussian.py:267: UserWarning: Non standard label choice: irc_point_37\n",
        "  warnings.warn('Non standard label choice: {l}'.format(l=self.label))\n",
        "/home/clyde/Software/my_ase/ase/calculators/gaussian.py:267: UserWarning: Non standard label choice: irc_point_38\n",
        "  warnings.warn('Non standard label choice: {l}'.format(l=self.label))\n",
        "/home/clyde/Software/my_ase/ase/calculators/gaussian.py:267: UserWarning: Non standard label choice: irc_point_39\n",
        "  warnings.warn('Non standard label choice: {l}'.format(l=self.label))\n",
        "/home/clyde/Software/my_ase/ase/calculators/gaussian.py:267: UserWarning: Non standard label choice: irc_point_40\n",
        "  warnings.warn('Non standard label choice: {l}'.format(l=self.label))\n",
        "/home/clyde/Software/my_ase/ase/calculators/gaussian.py:267: UserWarning: Non standard label choice: irc_point_41\n",
        "  warnings.warn('Non standard label choice: {l}'.format(l=self.label))\n",
        "/home/clyde/Software/my_ase/ase/calculators/gaussian.py:267: UserWarning: Non standard label choice: irc_point_42\n",
        "  warnings.warn('Non standard label choice: {l}'.format(l=self.label))\n",
        "/home/clyde/Software/my_ase/ase/calculators/gaussian.py:267: UserWarning: Non standard label choice: irc_point_43\n",
        "  warnings.warn('Non standard label choice: {l}'.format(l=self.label))\n",
        "/home/clyde/Software/my_ase/ase/calculators/gaussian.py:267: UserWarning: Non standard label choice: irc_point_44\n",
        "  warnings.warn('Non standard label choice: {l}'.format(l=self.label))\n",
        "/home/clyde/Software/my_ase/ase/calculators/gaussian.py:267: UserWarning: Non standard label choice: irc_point_45\n",
        "  warnings.warn('Non standard label choice: {l}'.format(l=self.label))\n",
        "/home/clyde/Software/my_ase/ase/calculators/gaussian.py:267: UserWarning: Non standard label choice: irc_point_46\n",
        "  warnings.warn('Non standard label choice: {l}'.format(l=self.label))\n",
        "/home/clyde/Software/my_ase/ase/calculators/gaussian.py:267: UserWarning: Non standard label choice: irc_point_47\n",
        "  warnings.warn('Non standard label choice: {l}'.format(l=self.label))\n",
        "/home/clyde/Software/my_ase/ase/calculators/gaussian.py:267: UserWarning: Non standard label choice: irc_point_48\n",
        "  warnings.warn('Non standard label choice: {l}'.format(l=self.label))\n",
        "/home/clyde/Software/my_ase/ase/calculators/gaussian.py:267: UserWarning: Non standard label choice: irc_point_49\n",
        "  warnings.warn('Non standard label choice: {l}'.format(l=self.label))\n",
        "/home/clyde/Software/my_ase/ase/calculators/gaussian.py:267: UserWarning: Non standard label choice: irc_point_50\n",
        "  warnings.warn('Non standard label choice: {l}'.format(l=self.label))\n",
        "/home/clyde/Software/my_ase/ase/calculators/gaussian.py:267: UserWarning: Non standard label choice: irc_point_51\n",
        "  warnings.warn('Non standard label choice: {l}'.format(l=self.label))\n",
        "/home/clyde/Software/my_ase/ase/calculators/gaussian.py:267: UserWarning: Non standard label choice: irc_point_52\n",
        "  warnings.warn('Non standard label choice: {l}'.format(l=self.label))\n",
        "/home/clyde/Software/my_ase/ase/calculators/gaussian.py:267: UserWarning: Non standard label choice: irc_point_53\n",
        "  warnings.warn('Non standard label choice: {l}'.format(l=self.label))\n",
        "/home/clyde/Software/my_ase/ase/calculators/gaussian.py:267: UserWarning: Non standard label choice: irc_point_54\n",
        "  warnings.warn('Non standard label choice: {l}'.format(l=self.label))\n",
        "/home/clyde/Software/my_ase/ase/calculators/gaussian.py:267: UserWarning: Non standard label choice: irc_point_55\n",
        "  warnings.warn('Non standard label choice: {l}'.format(l=self.label))\n",
        "/home/clyde/Software/my_ase/ase/calculators/gaussian.py:267: UserWarning: Non standard label choice: irc_point_56\n",
        "  warnings.warn('Non standard label choice: {l}'.format(l=self.label))\n",
        "/home/clyde/Software/my_ase/ase/calculators/gaussian.py:267: UserWarning: Non standard label choice: irc_point_57\n",
        "  warnings.warn('Non standard label choice: {l}'.format(l=self.label))\n",
        "/home/clyde/Software/my_ase/ase/calculators/gaussian.py:267: UserWarning: Non standard label choice: irc_point_58\n",
        "  warnings.warn('Non standard label choice: {l}'.format(l=self.label))\n",
        "/home/clyde/Software/my_ase/ase/calculators/gaussian.py:267: UserWarning: Non standard label choice: irc_point_59\n",
        "  warnings.warn('Non standard label choice: {l}'.format(l=self.label))\n",
        "/home/clyde/Software/my_ase/ase/calculators/gaussian.py:267: UserWarning: Non standard label choice: irc_point_60\n",
        "  warnings.warn('Non standard label choice: {l}'.format(l=self.label))\n",
        "/home/clyde/Software/my_ase/ase/calculators/gaussian.py:267: UserWarning: Non standard label choice: irc_point_61\n",
        "  warnings.warn('Non standard label choice: {l}'.format(l=self.label))\n",
        "/home/clyde/Software/my_ase/ase/calculators/gaussian.py:267: UserWarning: Non standard label choice: irc_point_62\n",
        "  warnings.warn('Non standard label choice: {l}'.format(l=self.label))\n",
        "/home/clyde/Software/my_ase/ase/calculators/gaussian.py:267: UserWarning: Non standard label choice: irc_point_63\n",
        "  warnings.warn('Non standard label choice: {l}'.format(l=self.label))\n",
        "/home/clyde/Software/my_ase/ase/calculators/gaussian.py:267: UserWarning: Non standard label choice: irc_point_64\n",
        "  warnings.warn('Non standard label choice: {l}'.format(l=self.label))\n",
        "/home/clyde/Software/my_ase/ase/calculators/gaussian.py:267: UserWarning: Non standard label choice: irc_point_65\n",
        "  warnings.warn('Non standard label choice: {l}'.format(l=self.label))\n",
        "/home/clyde/Software/my_ase/ase/calculators/gaussian.py:267: UserWarning: Non standard label choice: irc_point_66\n",
        "  warnings.warn('Non standard label choice: {l}'.format(l=self.label))\n",
        "/home/clyde/Software/my_ase/ase/calculators/gaussian.py:267: UserWarning: Non standard label choice: irc_point_67\n",
        "  warnings.warn('Non standard label choice: {l}'.format(l=self.label))\n",
        "/home/clyde/Software/my_ase/ase/calculators/gaussian.py:267: UserWarning: Non standard label choice: irc_point_68\n",
        "  warnings.warn('Non standard label choice: {l}'.format(l=self.label))\n",
        "/home/clyde/Software/my_ase/ase/calculators/gaussian.py:267: UserWarning: Non standard label choice: irc_point_69\n",
        "  warnings.warn('Non standard label choice: {l}'.format(l=self.label))\n",
        "/home/clyde/Software/my_ase/ase/calculators/gaussian.py:267: UserWarning: Non standard label choice: irc_point_70\n",
        "  warnings.warn('Non standard label choice: {l}'.format(l=self.label))\n",
        "/home/clyde/Software/my_ase/ase/calculators/gaussian.py:267: UserWarning: Non standard label choice: irc_point_71\n",
        "  warnings.warn('Non standard label choice: {l}'.format(l=self.label))\n",
        "/home/clyde/Software/my_ase/ase/calculators/gaussian.py:267: UserWarning: Non standard label choice: irc_point_72\n",
        "  warnings.warn('Non standard label choice: {l}'.format(l=self.label))\n",
        "/home/clyde/Software/my_ase/ase/calculators/gaussian.py:267: UserWarning: Non standard label choice: irc_point_73\n",
        "  warnings.warn('Non standard label choice: {l}'.format(l=self.label))\n",
        "/home/clyde/Software/my_ase/ase/calculators/gaussian.py:267: UserWarning: Non standard label choice: irc_point_74\n",
        "  warnings.warn('Non standard label choice: {l}'.format(l=self.label))\n",
        "/home/clyde/Software/my_ase/ase/calculators/gaussian.py:267: UserWarning: Non standard label choice: irc_point_75\n",
        "  warnings.warn('Non standard label choice: {l}'.format(l=self.label))\n",
        "/home/clyde/Software/my_ase/ase/calculators/gaussian.py:267: UserWarning: Non standard label choice: irc_point_76\n",
        "  warnings.warn('Non standard label choice: {l}'.format(l=self.label))\n",
        "/home/clyde/Software/my_ase/ase/calculators/gaussian.py:267: UserWarning: Non standard label choice: irc_point_77\n",
        "  warnings.warn('Non standard label choice: {l}'.format(l=self.label))\n",
        "/home/clyde/Software/my_ase/ase/calculators/gaussian.py:267: UserWarning: Non standard label choice: irc_point_78\n",
        "  warnings.warn('Non standard label choice: {l}'.format(l=self.label))\n",
        "/home/clyde/Software/my_ase/ase/calculators/gaussian.py:267: UserWarning: Non standard label choice: irc_point_79\n",
        "  warnings.warn('Non standard label choice: {l}'.format(l=self.label))\n",
        "/home/clyde/Software/my_ase/ase/calculators/gaussian.py:267: UserWarning: Non standard label choice: irc_point_80\n",
        "  warnings.warn('Non standard label choice: {l}'.format(l=self.label))\n",
        "/home/clyde/Software/my_ase/ase/calculators/gaussian.py:267: UserWarning: Non standard label choice: irc_point_33_restart_2\n",
        "  warnings.warn('Non standard label choice: {l}'.format(l=self.label))\n"
       ]
      },
      {
       "output_type": "stream",
       "stream": "stderr",
       "text": [
        "/home/clyde/Software/my_ase/ase/calculators/gaussian.py:267: UserWarning: Non standard label choice: irc_point_34_restart_2\n",
        "  warnings.warn('Non standard label choice: {l}'.format(l=self.label))\n",
        "/home/clyde/Software/my_ase/ase/calculators/gaussian.py:267: UserWarning: Non standard label choice: irc_point_35_restart_2\n",
        "  warnings.warn('Non standard label choice: {l}'.format(l=self.label))\n",
        "/home/clyde/Software/my_ase/ase/calculators/gaussian.py:267: UserWarning: Non standard label choice: irc_point_36_restart_2\n",
        "  warnings.warn('Non standard label choice: {l}'.format(l=self.label))\n",
        "/home/clyde/Software/my_ase/ase/calculators/gaussian.py:267: UserWarning: Non standard label choice: irc_point_37_restart_2\n",
        "  warnings.warn('Non standard label choice: {l}'.format(l=self.label))\n",
        "/home/clyde/Software/my_ase/ase/calculators/gaussian.py:267: UserWarning: Non standard label choice: irc_point_38_restart_2\n",
        "  warnings.warn('Non standard label choice: {l}'.format(l=self.label))\n",
        "/home/clyde/Software/my_ase/ase/calculators/gaussian.py:267: UserWarning: Non standard label choice: irc_point_39_restart_2\n",
        "  warnings.warn('Non standard label choice: {l}'.format(l=self.label))\n",
        "/home/clyde/Software/my_ase/ase/calculators/gaussian.py:267: UserWarning: Non standard label choice: irc_point_40_restart_2\n",
        "  warnings.warn('Non standard label choice: {l}'.format(l=self.label))\n"
       ]
      }
     ],
     "prompt_number": 47
    },
    {
     "cell_type": "code",
     "collapsed": false,
     "input": [
      "c_h_stretch = lambda e :e.calc.max_data['vibfreqs'][-3]\n",
      "freqs = [c_h_stretch(f) for f in list(reversed(irc_frames[41:])) + irc_frames[0:41]]\n",
      "steps = list(reversed(irc_steps[41:])) + irc_steps[0:41]\n",
      "plot(steps, freqs, marker='o')"
     ],
     "language": "python",
     "metadata": {},
     "outputs": [
      {
       "metadata": {},
       "output_type": "pyout",
       "prompt_number": 48,
       "text": [
        "[<matplotlib.lines.Line2D at 0x1ae83790>]"
       ]
      },
      {
       "metadata": {},
       "output_type": "display_data",
       "png": "[encoded data removed]",
       "text": [
        "<matplotlib.figure.Figure at 0xccdc990>"
       ]
      }
     ],
     "prompt_number": 48
    },
    {
     "cell_type": "markdown",
     "metadata": {},
     "source": [
      "These frequencies are calculated without first stabilising the wavefunction, this renders the results meaningless and may explain the failure of some of the calculations to converge."
     ]
    },
    {
     "cell_type": "code",
     "collapsed": false,
     "input": [
      "import time\n",
      "init = time.time()\n",
      "\n",
      "irc_frames_2 = upm6_ts.calc.fchk_data.irc_frames\n",
      "irc_steps = upm6_ts.calc.fchk_data.irc_steps\n",
      "for (i, proj_freq_calc) in enumerate(irc_frames_2):\n",
      "    proj_freq_calc.set_calculator(Gaussian(label='irc_point_{n}_stable'.format(n=i), method='oniom(UB3LYP/6-31G(d):upm6)', basis='oniom', symmetry='none'))\n",
      "    proj_freq_calcs_H = ylide_atoms + graph_atoms[2]\n",
      "    proj_freq_calc.calc.oniom_coord_params['layers'] = [[no -1 for no in proj_freq_calcs_H]]\n",
      "    proj_freq_calc.calc.oniom_coord_params['layer_mults'] = [1,1]\n",
      "    proj_freq_calc.calc.set_job(nodes=8, memory=8*1400, time=1, queue='pqmb', version='direct_g09')\n",
      "    #oniom_stable(proj_freq_calc)\n",
      " \n",
      "irc_frames_2 = check_calcs_v2(irc_frames_2, 'irc_data_2')\n",
      "\n",
      "for c in irc_frames_2:\n",
      "    c.calc.restart(freq='projected')\n",
      "    c.calc.set_job(nodes=8, memory=8*1400, time=1, queue='pqmb', version='g09')\n",
      "    #c.calc.start(frc=True)\n",
      "    \n",
      "irc_frames_2 = check_calcs_v2(irc_frames_2, 'irc_data_2_freqs')\n",
      "p_calcs = get_incomplete_calcs(irc_frames_2)\n",
      "\n",
      "for c in p_calcs:\n",
      "    c.set_calculator(Gaussian(label='irc_point_{n}_stable_restart_2'.format(n=irc_frames_2.index(c)), guess='read', method='oniom(UB3LYP/6-31G(d):upm6)', basis='oniom', symmetry='none', oldchk='/work/cjf05/ASE_notebooks/unrestricted_cycloadd_oniom/' + irc_frames_2[32].calc.label +'.chk', freq='projected'))\n",
      "    c_H = ylide_atoms + graph_atoms[2]\n",
      "    c.calc.oniom_coord_params['layers'] = [[no -1 for no in c_H]]\n",
      "    c.calc.oniom_coord_params['layer_mults'] = [1,1]\n",
      "    c.calc.set_job(nodes=8, memory=8*1400, time=1, queue='pqmb', version='g09')\n",
      "    #c.calc.start(frc=True)\n",
      "    \n",
      "p_calcs=check_calcs_v2(p_calcs, 'irc_freqs_restarts')\n",
      "\n",
      "print('Time taken {m} minutes'.format(m=(time.time() - init)/60))"
     ],
     "language": "python",
     "metadata": {},
     "outputs": [
      {
       "output_type": "stream",
       "stream": "stderr",
       "text": [
        "/home/clyde/Software/my_ase/ase/calculators/gaussian.py:267: UserWarning: Non standard label choice: irc_point_0_stable\n",
        "  warnings.warn('Non standard label choice: {l}'.format(l=self.label))\n",
        "/home/clyde/Software/my_ase/ase/calculators/gaussian.py:267: UserWarning: Non standard label choice: irc_point_1_stable\n",
        "  warnings.warn('Non standard label choice: {l}'.format(l=self.label))\n",
        "/home/clyde/Software/my_ase/ase/calculators/gaussian.py:267: UserWarning: Non standard label choice: irc_point_2_stable\n",
        "  warnings.warn('Non standard label choice: {l}'.format(l=self.label))\n",
        "/home/clyde/Software/my_ase/ase/calculators/gaussian.py:267: UserWarning: Non standard label choice: irc_point_3_stable\n",
        "  warnings.warn('Non standard label choice: {l}'.format(l=self.label))\n",
        "/home/clyde/Software/my_ase/ase/calculators/gaussian.py:267: UserWarning: Non standard label choice: irc_point_4_stable\n",
        "  warnings.warn('Non standard label choice: {l}'.format(l=self.label))\n",
        "/home/clyde/Software/my_ase/ase/calculators/gaussian.py:267: UserWarning: Non standard label choice: irc_point_5_stable\n",
        "  warnings.warn('Non standard label choice: {l}'.format(l=self.label))\n",
        "/home/clyde/Software/my_ase/ase/calculators/gaussian.py:267: UserWarning: Non standard label choice: irc_point_6_stable\n",
        "  warnings.warn('Non standard label choice: {l}'.format(l=self.label))\n",
        "/home/clyde/Software/my_ase/ase/calculators/gaussian.py:267: UserWarning: Non standard label choice: irc_point_7_stable\n",
        "  warnings.warn('Non standard label choice: {l}'.format(l=self.label))\n",
        "/home/clyde/Software/my_ase/ase/calculators/gaussian.py:267: UserWarning: Non standard label choice: irc_point_8_stable\n",
        "  warnings.warn('Non standard label choice: {l}'.format(l=self.label))\n",
        "/home/clyde/Software/my_ase/ase/calculators/gaussian.py:267: UserWarning: Non standard label choice: irc_point_9_stable\n",
        "  warnings.warn('Non standard label choice: {l}'.format(l=self.label))\n",
        "/home/clyde/Software/my_ase/ase/calculators/gaussian.py:267: UserWarning: Non standard label choice: irc_point_10_stable\n",
        "  warnings.warn('Non standard label choice: {l}'.format(l=self.label))\n",
        "/home/clyde/Software/my_ase/ase/calculators/gaussian.py:267: UserWarning: Non standard label choice: irc_point_11_stable\n",
        "  warnings.warn('Non standard label choice: {l}'.format(l=self.label))\n",
        "/home/clyde/Software/my_ase/ase/calculators/gaussian.py:267: UserWarning: Non standard label choice: irc_point_12_stable\n",
        "  warnings.warn('Non standard label choice: {l}'.format(l=self.label))\n",
        "/home/clyde/Software/my_ase/ase/calculators/gaussian.py:267: UserWarning: Non standard label choice: irc_point_13_stable\n",
        "  warnings.warn('Non standard label choice: {l}'.format(l=self.label))\n",
        "/home/clyde/Software/my_ase/ase/calculators/gaussian.py:267: UserWarning: Non standard label choice: irc_point_14_stable\n",
        "  warnings.warn('Non standard label choice: {l}'.format(l=self.label))\n",
        "/home/clyde/Software/my_ase/ase/calculators/gaussian.py:267: UserWarning: Non standard label choice: irc_point_15_stable\n",
        "  warnings.warn('Non standard label choice: {l}'.format(l=self.label))\n",
        "/home/clyde/Software/my_ase/ase/calculators/gaussian.py:267: UserWarning: Non standard label choice: irc_point_16_stable\n",
        "  warnings.warn('Non standard label choice: {l}'.format(l=self.label))\n",
        "/home/clyde/Software/my_ase/ase/calculators/gaussian.py:267: UserWarning: Non standard label choice: irc_point_17_stable\n",
        "  warnings.warn('Non standard label choice: {l}'.format(l=self.label))\n",
        "/home/clyde/Software/my_ase/ase/calculators/gaussian.py:267: UserWarning: Non standard label choice: irc_point_18_stable\n",
        "  warnings.warn('Non standard label choice: {l}'.format(l=self.label))\n",
        "/home/clyde/Software/my_ase/ase/calculators/gaussian.py:267: UserWarning: Non standard label choice: irc_point_19_stable\n",
        "  warnings.warn('Non standard label choice: {l}'.format(l=self.label))\n",
        "/home/clyde/Software/my_ase/ase/calculators/gaussian.py:267: UserWarning: Non standard label choice: irc_point_20_stable\n",
        "  warnings.warn('Non standard label choice: {l}'.format(l=self.label))\n",
        "/home/clyde/Software/my_ase/ase/calculators/gaussian.py:267: UserWarning: Non standard label choice: irc_point_21_stable\n",
        "  warnings.warn('Non standard label choice: {l}'.format(l=self.label))\n",
        "/home/clyde/Software/my_ase/ase/calculators/gaussian.py:267: UserWarning: Non standard label choice: irc_point_22_stable\n",
        "  warnings.warn('Non standard label choice: {l}'.format(l=self.label))\n",
        "/home/clyde/Software/my_ase/ase/calculators/gaussian.py:267: UserWarning: Non standard label choice: irc_point_23_stable\n",
        "  warnings.warn('Non standard label choice: {l}'.format(l=self.label))\n",
        "/home/clyde/Software/my_ase/ase/calculators/gaussian.py:267: UserWarning: Non standard label choice: irc_point_24_stable\n",
        "  warnings.warn('Non standard label choice: {l}'.format(l=self.label))\n",
        "/home/clyde/Software/my_ase/ase/calculators/gaussian.py:267: UserWarning: Non standard label choice: irc_point_25_stable\n",
        "  warnings.warn('Non standard label choice: {l}'.format(l=self.label))\n",
        "/home/clyde/Software/my_ase/ase/calculators/gaussian.py:267: UserWarning: Non standard label choice: irc_point_26_stable\n",
        "  warnings.warn('Non standard label choice: {l}'.format(l=self.label))\n",
        "/home/clyde/Software/my_ase/ase/calculators/gaussian.py:267: UserWarning: Non standard label choice: irc_point_27_stable\n",
        "  warnings.warn('Non standard label choice: {l}'.format(l=self.label))\n",
        "/home/clyde/Software/my_ase/ase/calculators/gaussian.py:267: UserWarning: Non standard label choice: irc_point_28_stable\n",
        "  warnings.warn('Non standard label choice: {l}'.format(l=self.label))\n",
        "/home/clyde/Software/my_ase/ase/calculators/gaussian.py:267: UserWarning: Non standard label choice: irc_point_29_stable\n",
        "  warnings.warn('Non standard label choice: {l}'.format(l=self.label))\n",
        "/home/clyde/Software/my_ase/ase/calculators/gaussian.py:267: UserWarning: Non standard label choice: irc_point_30_stable\n",
        "  warnings.warn('Non standard label choice: {l}'.format(l=self.label))\n",
        "/home/clyde/Software/my_ase/ase/calculators/gaussian.py:267: UserWarning: Non standard label choice: irc_point_31_stable\n",
        "  warnings.warn('Non standard label choice: {l}'.format(l=self.label))\n",
        "/home/clyde/Software/my_ase/ase/calculators/gaussian.py:267: UserWarning: Non standard label choice: irc_point_32_stable\n",
        "  warnings.warn('Non standard label choice: {l}'.format(l=self.label))\n",
        "/home/clyde/Software/my_ase/ase/calculators/gaussian.py:267: UserWarning: Non standard label choice: irc_point_33_stable\n",
        "  warnings.warn('Non standard label choice: {l}'.format(l=self.label))\n",
        "/home/clyde/Software/my_ase/ase/calculators/gaussian.py:267: UserWarning: Non standard label choice: irc_point_34_stable\n",
        "  warnings.warn('Non standard label choice: {l}'.format(l=self.label))\n",
        "/home/clyde/Software/my_ase/ase/calculators/gaussian.py:267: UserWarning: Non standard label choice: irc_point_35_stable\n",
        "  warnings.warn('Non standard label choice: {l}'.format(l=self.label))\n",
        "/home/clyde/Software/my_ase/ase/calculators/gaussian.py:267: UserWarning: Non standard label choice: irc_point_36_stable\n",
        "  warnings.warn('Non standard label choice: {l}'.format(l=self.label))\n",
        "/home/clyde/Software/my_ase/ase/calculators/gaussian.py:267: UserWarning: Non standard label choice: irc_point_37_stable\n",
        "  warnings.warn('Non standard label choice: {l}'.format(l=self.label))\n",
        "/home/clyde/Software/my_ase/ase/calculators/gaussian.py:267: UserWarning: Non standard label choice: irc_point_38_stable\n",
        "  warnings.warn('Non standard label choice: {l}'.format(l=self.label))\n",
        "/home/clyde/Software/my_ase/ase/calculators/gaussian.py:267: UserWarning: Non standard label choice: irc_point_39_stable\n",
        "  warnings.warn('Non standard label choice: {l}'.format(l=self.label))\n",
        "/home/clyde/Software/my_ase/ase/calculators/gaussian.py:267: UserWarning: Non standard label choice: irc_point_40_stable\n",
        "  warnings.warn('Non standard label choice: {l}'.format(l=self.label))\n",
        "/home/clyde/Software/my_ase/ase/calculators/gaussian.py:267: UserWarning: Non standard label choice: irc_point_41_stable\n",
        "  warnings.warn('Non standard label choice: {l}'.format(l=self.label))\n",
        "/home/clyde/Software/my_ase/ase/calculators/gaussian.py:267: UserWarning: Non standard label choice: irc_point_42_stable\n",
        "  warnings.warn('Non standard label choice: {l}'.format(l=self.label))\n",
        "/home/clyde/Software/my_ase/ase/calculators/gaussian.py:267: UserWarning: Non standard label choice: irc_point_43_stable\n",
        "  warnings.warn('Non standard label choice: {l}'.format(l=self.label))\n",
        "/home/clyde/Software/my_ase/ase/calculators/gaussian.py:267: UserWarning: Non standard label choice: irc_point_44_stable\n",
        "  warnings.warn('Non standard label choice: {l}'.format(l=self.label))\n",
        "/home/clyde/Software/my_ase/ase/calculators/gaussian.py:267: UserWarning: Non standard label choice: irc_point_45_stable\n",
        "  warnings.warn('Non standard label choice: {l}'.format(l=self.label))\n",
        "/home/clyde/Software/my_ase/ase/calculators/gaussian.py:267: UserWarning: Non standard label choice: irc_point_46_stable\n",
        "  warnings.warn('Non standard label choice: {l}'.format(l=self.label))\n",
        "/home/clyde/Software/my_ase/ase/calculators/gaussian.py:267: UserWarning: Non standard label choice: irc_point_47_stable\n",
        "  warnings.warn('Non standard label choice: {l}'.format(l=self.label))\n",
        "/home/clyde/Software/my_ase/ase/calculators/gaussian.py:267: UserWarning: Non standard label choice: irc_point_48_stable\n",
        "  warnings.warn('Non standard label choice: {l}'.format(l=self.label))\n",
        "/home/clyde/Software/my_ase/ase/calculators/gaussian.py:267: UserWarning: Non standard label choice: irc_point_49_stable\n",
        "  warnings.warn('Non standard label choice: {l}'.format(l=self.label))\n",
        "/home/clyde/Software/my_ase/ase/calculators/gaussian.py:267: UserWarning: Non standard label choice: irc_point_50_stable\n",
        "  warnings.warn('Non standard label choice: {l}'.format(l=self.label))\n",
        "/home/clyde/Software/my_ase/ase/calculators/gaussian.py:267: UserWarning: Non standard label choice: irc_point_51_stable\n",
        "  warnings.warn('Non standard label choice: {l}'.format(l=self.label))\n",
        "/home/clyde/Software/my_ase/ase/calculators/gaussian.py:267: UserWarning: Non standard label choice: irc_point_52_stable\n",
        "  warnings.warn('Non standard label choice: {l}'.format(l=self.label))\n",
        "/home/clyde/Software/my_ase/ase/calculators/gaussian.py:267: UserWarning: Non standard label choice: irc_point_53_stable\n",
        "  warnings.warn('Non standard label choice: {l}'.format(l=self.label))\n",
        "/home/clyde/Software/my_ase/ase/calculators/gaussian.py:267: UserWarning: Non standard label choice: irc_point_54_stable\n",
        "  warnings.warn('Non standard label choice: {l}'.format(l=self.label))\n",
        "/home/clyde/Software/my_ase/ase/calculators/gaussian.py:267: UserWarning: Non standard label choice: irc_point_55_stable\n",
        "  warnings.warn('Non standard label choice: {l}'.format(l=self.label))\n",
        "/home/clyde/Software/my_ase/ase/calculators/gaussian.py:267: UserWarning: Non standard label choice: irc_point_56_stable\n",
        "  warnings.warn('Non standard label choice: {l}'.format(l=self.label))\n",
        "/home/clyde/Software/my_ase/ase/calculators/gaussian.py:267: UserWarning: Non standard label choice: irc_point_57_stable\n",
        "  warnings.warn('Non standard label choice: {l}'.format(l=self.label))\n",
        "/home/clyde/Software/my_ase/ase/calculators/gaussian.py:267: UserWarning: Non standard label choice: irc_point_58_stable\n",
        "  warnings.warn('Non standard label choice: {l}'.format(l=self.label))\n",
        "/home/clyde/Software/my_ase/ase/calculators/gaussian.py:267: UserWarning: Non standard label choice: irc_point_59_stable\n",
        "  warnings.warn('Non standard label choice: {l}'.format(l=self.label))\n",
        "/home/clyde/Software/my_ase/ase/calculators/gaussian.py:267: UserWarning: Non standard label choice: irc_point_60_stable\n",
        "  warnings.warn('Non standard label choice: {l}'.format(l=self.label))\n",
        "/home/clyde/Software/my_ase/ase/calculators/gaussian.py:267: UserWarning: Non standard label choice: irc_point_61_stable\n",
        "  warnings.warn('Non standard label choice: {l}'.format(l=self.label))\n",
        "/home/clyde/Software/my_ase/ase/calculators/gaussian.py:267: UserWarning: Non standard label choice: irc_point_62_stable\n",
        "  warnings.warn('Non standard label choice: {l}'.format(l=self.label))\n",
        "/home/clyde/Software/my_ase/ase/calculators/gaussian.py:267: UserWarning: Non standard label choice: irc_point_63_stable\n",
        "  warnings.warn('Non standard label choice: {l}'.format(l=self.label))\n",
        "/home/clyde/Software/my_ase/ase/calculators/gaussian.py:267: UserWarning: Non standard label choice: irc_point_64_stable\n",
        "  warnings.warn('Non standard label choice: {l}'.format(l=self.label))\n",
        "/home/clyde/Software/my_ase/ase/calculators/gaussian.py:267: UserWarning: Non standard label choice: irc_point_65_stable\n",
        "  warnings.warn('Non standard label choice: {l}'.format(l=self.label))\n",
        "/home/clyde/Software/my_ase/ase/calculators/gaussian.py:267: UserWarning: Non standard label choice: irc_point_66_stable\n",
        "  warnings.warn('Non standard label choice: {l}'.format(l=self.label))\n",
        "/home/clyde/Software/my_ase/ase/calculators/gaussian.py:267: UserWarning: Non standard label choice: irc_point_67_stable\n",
        "  warnings.warn('Non standard label choice: {l}'.format(l=self.label))\n",
        "/home/clyde/Software/my_ase/ase/calculators/gaussian.py:267: UserWarning: Non standard label choice: irc_point_68_stable\n",
        "  warnings.warn('Non standard label choice: {l}'.format(l=self.label))\n",
        "/home/clyde/Software/my_ase/ase/calculators/gaussian.py:267: UserWarning: Non standard label choice: irc_point_69_stable\n",
        "  warnings.warn('Non standard label choice: {l}'.format(l=self.label))\n",
        "/home/clyde/Software/my_ase/ase/calculators/gaussian.py:267: UserWarning: Non standard label choice: irc_point_70_stable\n",
        "  warnings.warn('Non standard label choice: {l}'.format(l=self.label))\n",
        "/home/clyde/Software/my_ase/ase/calculators/gaussian.py:267: UserWarning: Non standard label choice: irc_point_71_stable\n",
        "  warnings.warn('Non standard label choice: {l}'.format(l=self.label))\n",
        "/home/clyde/Software/my_ase/ase/calculators/gaussian.py:267: UserWarning: Non standard label choice: irc_point_72_stable\n",
        "  warnings.warn('Non standard label choice: {l}'.format(l=self.label))\n",
        "/home/clyde/Software/my_ase/ase/calculators/gaussian.py:267: UserWarning: Non standard label choice: irc_point_73_stable\n",
        "  warnings.warn('Non standard label choice: {l}'.format(l=self.label))\n",
        "/home/clyde/Software/my_ase/ase/calculators/gaussian.py:267: UserWarning: Non standard label choice: irc_point_74_stable\n",
        "  warnings.warn('Non standard label choice: {l}'.format(l=self.label))\n",
        "/home/clyde/Software/my_ase/ase/calculators/gaussian.py:267: UserWarning: Non standard label choice: irc_point_75_stable\n",
        "  warnings.warn('Non standard label choice: {l}'.format(l=self.label))\n",
        "/home/clyde/Software/my_ase/ase/calculators/gaussian.py:267: UserWarning: Non standard label choice: irc_point_76_stable\n",
        "  warnings.warn('Non standard label choice: {l}'.format(l=self.label))\n",
        "/home/clyde/Software/my_ase/ase/calculators/gaussian.py:267: UserWarning: Non standard label choice: irc_point_77_stable\n",
        "  warnings.warn('Non standard label choice: {l}'.format(l=self.label))\n",
        "/home/clyde/Software/my_ase/ase/calculators/gaussian.py:267: UserWarning: Non standard label choice: irc_point_78_stable\n",
        "  warnings.warn('Non standard label choice: {l}'.format(l=self.label))\n",
        "/home/clyde/Software/my_ase/ase/calculators/gaussian.py:267: UserWarning: Non standard label choice: irc_point_79_stable\n",
        "  warnings.warn('Non standard label choice: {l}'.format(l=self.label))\n",
        "/home/clyde/Software/my_ase/ase/calculators/gaussian.py:267: UserWarning: Non standard label choice: irc_point_80_stable\n",
        "  warnings.warn('Non standard label choice: {l}'.format(l=self.label))\n",
        "/home/clyde/Software/my_ase/ase/calculators/gaussian.py:267: UserWarning: Non standard label choice: irc_point_33_stable_restart_2\n",
        "  warnings.warn('Non standard label choice: {l}'.format(l=self.label))\n"
       ]
      },
      {
       "output_type": "stream",
       "stream": "stderr",
       "text": [
        "/home/clyde/Software/my_ase/ase/calculators/gaussian.py:267: UserWarning: Non standard label choice: irc_point_34_stable_restart_2\n",
        "  warnings.warn('Non standard label choice: {l}'.format(l=self.label))\n",
        "/home/clyde/Software/my_ase/ase/calculators/gaussian.py:267: UserWarning: Non standard label choice: irc_point_35_stable_restart_2\n",
        "  warnings.warn('Non standard label choice: {l}'.format(l=self.label))\n"
       ]
      },
      {
       "output_type": "stream",
       "stream": "stderr",
       "text": [
        "/home/clyde/Software/my_ase/ase/calculators/gaussian.py:267: UserWarning: Non standard label choice: irc_point_36_stable_restart_2\n",
        "  warnings.warn('Non standard label choice: {l}'.format(l=self.label))\n",
        "/home/clyde/Software/my_ase/ase/calculators/gaussian.py:267: UserWarning: Non standard label choice: irc_point_37_stable_restart_2\n",
        "  warnings.warn('Non standard label choice: {l}'.format(l=self.label))\n"
       ]
      },
      {
       "output_type": "stream",
       "stream": "stderr",
       "text": [
        "/home/clyde/Software/my_ase/ase/calculators/gaussian.py:267: UserWarning: Non standard label choice: irc_point_38_stable_restart_2\n",
        "  warnings.warn('Non standard label choice: {l}'.format(l=self.label))\n",
        "/home/clyde/Software/my_ase/ase/calculators/gaussian.py:267: UserWarning: Non standard label choice: irc_point_39_stable_restart_2\n",
        "  warnings.warn('Non standard label choice: {l}'.format(l=self.label))\n"
       ]
      },
      {
       "output_type": "stream",
       "stream": "stdout",
       "text": [
        "Time taken 14.951268967 minutes\n"
       ]
      },
      {
       "output_type": "stream",
       "stream": "stderr",
       "text": [
        "/home/clyde/Software/my_ase/ase/calculators/gaussian.py:267: UserWarning: Non standard label choice: irc_point_40_stable_restart_2\n",
        "  warnings.warn('Non standard label choice: {l}'.format(l=self.label))\n"
       ]
      }
     ],
     "prompt_number": 49
    },
    {
     "cell_type": "code",
     "collapsed": false,
     "input": [
      "import time\n",
      "init = time.time()\n",
      "\n",
      "irc_frames_2 = upm6_ts.calc.fchk_data.irc_frames\n",
      "irc_steps = upm6_ts.calc.fchk_data.irc_steps\n",
      "for (i, proj_freq_calc) in enumerate(irc_frames_2):\n",
      "    proj_freq_calc.set_calculator(Gaussian(label='irc_point_{n}_stable'.format(n=i), method='oniom(UB3LYP/6-31G(d):upm6)', basis='oniom', symmetry='none'))\n",
      "    proj_freq_calcs_H = ylide_atoms + graph_atoms[2]\n",
      "    proj_freq_calc.calc.oniom_coord_params['layers'] = [[no -1 for no in proj_freq_calcs_H]]\n",
      "    proj_freq_calc.calc.oniom_coord_params['layer_mults'] = [1,1]\n",
      "    proj_freq_calc.calc.set_job(nodes=8, memory=8*1400, time=1, queue='pqmb', version='direct_g09')\n",
      "    #oniom_stable(proj_freq_calc)\n",
      " \n",
      "check_calcs(irc_frames_2)\n",
      "\n",
      "for c in irc_frames_2:\n",
      "    c.calc.restart(freq='projected')\n",
      "    c.calc.set_job(nodes=8, memory=8*1400, time=1, queue='pqmb', version='g09')\n",
      "    #c.calc.start(frc=True)\n",
      "    \n",
      "p_calcs = check_calcs(irc_frames_2)\n",
      "\n",
      "for c in p_calcs:\n",
      "    c.set_calculator(Gaussian(label='irc_point_{n}_stable_restart_2'.format(n=irc_frames_2.index(c)), guess='read', method='oniom(UB3LYP/6-31G(d):upm6)', basis='oniom', symmetry='none', oldchk='/work/cjf05/ASE_notebooks/unrestricted_cycloadd_oniom/' + irc_frames_2[32].calc.label +'.chk', freq='projected'))\n",
      "    c_H = ylide_atoms + graph_atoms[2]\n",
      "    c.calc.oniom_coord_params['layers'] = [[no -1 for no in c_H]]\n",
      "    c.calc.oniom_coord_params['layer_mults'] = [1,1]\n",
      "    c.calc.set_job(nodes=8, memory=8*1400, time=1, queue='pqmb', version='g09')\n",
      "    #c.calc.start(frc=True)\n",
      "    \n",
      "check_calcs(p_calcs)\n",
      "\n",
      "print('Time taken {m} minutes'.format(m=(time.time() - init)/60))"
     ],
     "language": "python",
     "metadata": {},
     "outputs": [
      {
       "ename": "OSError",
       "evalue": "[Errno 12] Cannot allocate memory",
       "output_type": "pyerr",
       "traceback": [
        "\u001b[1;31m---------------------------------------------------------------------------\u001b[0m\n\u001b[1;31mOSError\u001b[0m                                   Traceback (most recent call last)",
        "\u001b[1;32m<ipython-input-51-f04bff264ccf>\u001b[0m in \u001b[0;36m<module>\u001b[1;34m()\u001b[0m\n\u001b[0;32m     12\u001b[0m     \u001b[1;31m#oniom_stable(proj_freq_calc)\u001b[0m\u001b[1;33m\u001b[0m\u001b[1;33m\u001b[0m\u001b[0m\n\u001b[0;32m     13\u001b[0m \u001b[1;33m\u001b[0m\u001b[0m\n\u001b[1;32m---> 14\u001b[1;33m \u001b[0mcheck_calcs\u001b[0m\u001b[1;33m(\u001b[0m\u001b[0mirc_frames_2\u001b[0m\u001b[1;33m)\u001b[0m\u001b[1;33m\u001b[0m\u001b[0m\n\u001b[0m\u001b[0;32m     15\u001b[0m \u001b[1;33m\u001b[0m\u001b[0m\n\u001b[0;32m     16\u001b[0m \u001b[1;32mfor\u001b[0m \u001b[0mc\u001b[0m \u001b[1;32min\u001b[0m \u001b[0mirc_frames_2\u001b[0m\u001b[1;33m:\u001b[0m\u001b[1;33m\u001b[0m\u001b[0m\n",
        "\u001b[1;32m/home/clyde/Project/Code/Python/ASE_utils.pyc\u001b[0m in \u001b[0;36mcheck_calcs\u001b[1;34m(list_mols, max_restart, depth, sort, frc)\u001b[0m\n\u001b[0;32m    260\u001b[0m         \u001b[0mfiles_equal\u001b[0m \u001b[1;33m=\u001b[0m \u001b[1;33m[\u001b[0m\u001b[0mFalse\u001b[0m \u001b[1;32mfor\u001b[0m \u001b[0mi\u001b[0m \u001b[1;32min\u001b[0m \u001b[0mrange\u001b[0m\u001b[1;33m(\u001b[0m\u001b[0mlen\u001b[0m\u001b[1;33m(\u001b[0m\u001b[0mlist_mols\u001b[0m\u001b[1;33m)\u001b[0m\u001b[1;33m)\u001b[0m\u001b[1;33m]\u001b[0m\u001b[1;33m\u001b[0m\u001b[0m\n\u001b[0;32m    261\u001b[0m     \u001b[1;32melse\u001b[0m\u001b[1;33m:\u001b[0m\u001b[1;33m\u001b[0m\u001b[0m\n\u001b[1;32m--> 262\u001b[1;33m         \u001b[0mfiles_equal\u001b[0m \u001b[1;33m=\u001b[0m \u001b[0mserver_files_equal_v2\u001b[0m\u001b[1;33m(\u001b[0m\u001b[0mserv_files\u001b[0m\u001b[1;33m,\u001b[0m \u001b[0mhome_files\u001b[0m\u001b[1;33m)\u001b[0m\u001b[1;33m\u001b[0m\u001b[0m\n\u001b[0m\u001b[0;32m    263\u001b[0m \u001b[1;33m\u001b[0m\u001b[0m\n\u001b[0;32m    264\u001b[0m     \u001b[1;32mif\u001b[0m \u001b[0mdepth\u001b[0m \u001b[1;33m==\u001b[0m \u001b[1;34m'heavy'\u001b[0m \u001b[1;32mand\u001b[0m \u001b[0mfrc\u001b[0m\u001b[1;33m:\u001b[0m\u001b[1;33m\u001b[0m\u001b[0m\n",
        "\u001b[1;32m/home/clyde/Project/Code/Python/gaussian_job_manager.pyc\u001b[0m in \u001b[0;36mserver_files_equal_v2\u001b[1;34m(serv_files, local_files)\u001b[0m\n\u001b[0;32m    176\u001b[0m     \u001b[0mlocal_commands\u001b[0m \u001b[1;33m=\u001b[0m \u001b[1;33m[\u001b[0m\u001b[1;34m\"sed -n 133p '{fl}'; tail -n10 '{fl}'; echo server_files_equal_v2_chunk_done;\"\u001b[0m\u001b[1;33m.\u001b[0m\u001b[0mformat\u001b[0m\u001b[1;33m(\u001b[0m\u001b[0mfl\u001b[0m\u001b[1;33m=\u001b[0m\u001b[0mos\u001b[0m\u001b[1;33m.\u001b[0m\u001b[0mpath\u001b[0m\u001b[1;33m.\u001b[0m\u001b[0mrealpath\u001b[0m\u001b[1;33m(\u001b[0m\u001b[0mlocal_file\u001b[0m\u001b[1;33m)\u001b[0m\u001b[1;33m)\u001b[0m \u001b[1;32mfor\u001b[0m \u001b[0mlocal_file\u001b[0m \u001b[1;32min\u001b[0m \u001b[0mlocal_files\u001b[0m\u001b[1;33m]\u001b[0m\u001b[1;33m\u001b[0m\u001b[0m\n\u001b[0;32m    177\u001b[0m     \u001b[0mlocal_command\u001b[0m \u001b[1;33m=\u001b[0m \u001b[1;34m\"\"\u001b[0m\u001b[1;33m.\u001b[0m\u001b[0mjoin\u001b[0m\u001b[1;33m(\u001b[0m\u001b[0mlocal_commands\u001b[0m\u001b[1;33m)\u001b[0m\u001b[1;33m\u001b[0m\u001b[0m\n\u001b[1;32m--> 178\u001b[1;33m     \u001b[0mp\u001b[0m \u001b[1;33m=\u001b[0m \u001b[0mPopen\u001b[0m\u001b[1;33m(\u001b[0m\u001b[0mlocal_command\u001b[0m\u001b[1;33m,\u001b[0m \u001b[0mstdout\u001b[0m\u001b[1;33m=\u001b[0m\u001b[0mPIPE\u001b[0m\u001b[1;33m,\u001b[0m \u001b[0mstderr\u001b[0m\u001b[1;33m=\u001b[0m\u001b[0mPIPE\u001b[0m\u001b[1;33m,\u001b[0m \u001b[0mshell\u001b[0m\u001b[1;33m=\u001b[0m\u001b[0mTrue\u001b[0m\u001b[1;33m)\u001b[0m\u001b[1;33m\u001b[0m\u001b[0m\n\u001b[0m\u001b[0;32m    179\u001b[0m     \u001b[0mstdout\u001b[0m\u001b[1;33m,\u001b[0m \u001b[0mstderr\u001b[0m \u001b[1;33m=\u001b[0m \u001b[0mp\u001b[0m\u001b[1;33m.\u001b[0m\u001b[0mcommunicate\u001b[0m\u001b[1;33m(\u001b[0m\u001b[1;33m)\u001b[0m\u001b[1;33m\u001b[0m\u001b[0m\n\u001b[0;32m    180\u001b[0m     \u001b[0mhome_lines\u001b[0m \u001b[1;33m=\u001b[0m \u001b[0mstdout\u001b[0m\u001b[1;33m.\u001b[0m\u001b[0msplit\u001b[0m\u001b[1;33m(\u001b[0m\u001b[1;34m'server_files_equal_v2_chunk_done\\n'\u001b[0m\u001b[1;33m)\u001b[0m\u001b[1;33m[\u001b[0m\u001b[1;36m0\u001b[0m\u001b[1;33m:\u001b[0m\u001b[1;33m-\u001b[0m\u001b[1;36m1\u001b[0m\u001b[1;33m]\u001b[0m\u001b[1;33m\u001b[0m\u001b[0m\n",
        "\u001b[1;32m/home/clyde/anaconda/lib/python2.7/subprocess.pyc\u001b[0m in \u001b[0;36m__init__\u001b[1;34m(self, args, bufsize, executable, stdin, stdout, stderr, preexec_fn, close_fds, shell, cwd, env, universal_newlines, startupinfo, creationflags)\u001b[0m\n\u001b[0;32m    707\u001b[0m                                 \u001b[0mp2cread\u001b[0m\u001b[1;33m,\u001b[0m \u001b[0mp2cwrite\u001b[0m\u001b[1;33m,\u001b[0m\u001b[1;33m\u001b[0m\u001b[0m\n\u001b[0;32m    708\u001b[0m                                 \u001b[0mc2pread\u001b[0m\u001b[1;33m,\u001b[0m \u001b[0mc2pwrite\u001b[0m\u001b[1;33m,\u001b[0m\u001b[1;33m\u001b[0m\u001b[0m\n\u001b[1;32m--> 709\u001b[1;33m                                 errread, errwrite)\n\u001b[0m\u001b[0;32m    710\u001b[0m         \u001b[1;32mexcept\u001b[0m \u001b[0mException\u001b[0m\u001b[1;33m:\u001b[0m\u001b[1;33m\u001b[0m\u001b[0m\n\u001b[0;32m    711\u001b[0m             \u001b[1;31m# Preserve original exception in case os.close raises.\u001b[0m\u001b[1;33m\u001b[0m\u001b[1;33m\u001b[0m\u001b[0m\n",
        "\u001b[1;32m/home/clyde/anaconda/lib/python2.7/subprocess.pyc\u001b[0m in \u001b[0;36m_execute_child\u001b[1;34m(self, args, executable, preexec_fn, close_fds, cwd, env, universal_newlines, startupinfo, creationflags, shell, to_close, p2cread, p2cwrite, c2pread, c2pwrite, errread, errwrite)\u001b[0m\n\u001b[0;32m   1220\u001b[0m                     \u001b[0mgc\u001b[0m\u001b[1;33m.\u001b[0m\u001b[0mdisable\u001b[0m\u001b[1;33m(\u001b[0m\u001b[1;33m)\u001b[0m\u001b[1;33m\u001b[0m\u001b[0m\n\u001b[0;32m   1221\u001b[0m                     \u001b[1;32mtry\u001b[0m\u001b[1;33m:\u001b[0m\u001b[1;33m\u001b[0m\u001b[0m\n\u001b[1;32m-> 1222\u001b[1;33m                         \u001b[0mself\u001b[0m\u001b[1;33m.\u001b[0m\u001b[0mpid\u001b[0m \u001b[1;33m=\u001b[0m \u001b[0mos\u001b[0m\u001b[1;33m.\u001b[0m\u001b[0mfork\u001b[0m\u001b[1;33m(\u001b[0m\u001b[1;33m)\u001b[0m\u001b[1;33m\u001b[0m\u001b[0m\n\u001b[0m\u001b[0;32m   1223\u001b[0m                     \u001b[1;32mexcept\u001b[0m\u001b[1;33m:\u001b[0m\u001b[1;33m\u001b[0m\u001b[0m\n\u001b[0;32m   1224\u001b[0m                         \u001b[1;32mif\u001b[0m \u001b[0mgc_was_enabled\u001b[0m\u001b[1;33m:\u001b[0m\u001b[1;33m\u001b[0m\u001b[0m\n",
        "\u001b[1;31mOSError\u001b[0m: [Errno 12] Cannot allocate memory"
       ]
      }
     ],
     "prompt_number": 51
    },
    {
     "cell_type": "markdown",
     "metadata": {},
     "source": [
      "The stabilised calculations still do not converge for points 33-40. We would like to use a guess that corresponds to point 32, and then make sure this results in a stable wavefunction however we cannot use guess=read when running an oniom stable calculation (annoyingly). Instead we run the frequency calculations reading from the closest geometry stable wavefunction that converged"
     ]
    },
    {
     "cell_type": "code",
     "collapsed": false,
     "input": [
      "c_h_stretch = lambda e :e.calc.max_data['vibfreqs'][-3]\n",
      "freqs = [c_h_stretch(f) for f in list(reversed(irc_frames_2[41:])) + irc_frames_2[0:41]]\n",
      "steps = list(reversed(irc_steps[41:])) + irc_steps[0:41]\n",
      "plot(steps, freqs, marker='o')"
     ],
     "language": "python",
     "metadata": {},
     "outputs": []
    },
    {
     "cell_type": "code",
     "collapsed": false,
     "input": [
      "[irc_frames[25].calc.max_data['vibfreqs'][-3], irc_frames_2[25].calc.max_data['vibfreqs'][-3]]"
     ],
     "language": "python",
     "metadata": {},
     "outputs": []
    },
    {
     "cell_type": "code",
     "collapsed": false,
     "input": [
      "tst=irc_frames[23]\n",
      "tst.write(irc_frames[23].calc.label + '.xyz')"
     ],
     "language": "python",
     "metadata": {},
     "outputs": []
    },
    {
     "cell_type": "code",
     "collapsed": false,
     "input": [
      "view_ipython_jmol(irc_frames[23].calc.label + '.log', vib=1)"
     ],
     "language": "python",
     "metadata": {},
     "outputs": []
    },
    {
     "cell_type": "code",
     "collapsed": false,
     "input": [
      "#for c in o_44_opt_carb_ts:\n",
      "#    c.calc.restart(add_label='freq', no_old_chk=False, opt='', freq='freq', stable='')#,start=True)"
     ],
     "language": "python",
     "metadata": {},
     "outputs": []
    },
    {
     "cell_type": "code",
     "collapsed": false,
     "input": [
      "#check_calcs(o_44_opt_carb_ts)\n",
      "#mols_to_html(o_44_opt_carb_ts)"
     ],
     "language": "python",
     "metadata": {},
     "outputs": []
    },
    {
     "cell_type": "code",
     "collapsed": false,
     "input": [
      "#view_ipython_jmol(o_44_opt_carb_ts, vib=1)"
     ],
     "language": "python",
     "metadata": {},
     "outputs": []
    },
    {
     "cell_type": "heading",
     "level": 2,
     "metadata": {},
     "source": [
      "Notes"
     ]
    }
   ],
   "metadata": {}
  }
 ]
}