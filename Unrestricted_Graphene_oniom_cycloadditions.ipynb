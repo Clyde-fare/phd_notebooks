{
 "metadata": {
  "name": "Unrestricted_Graphene_oniom_cycloadditions"
 },
 "nbformat": 3,
 "nbformat_minor": 0,
 "worksheets": [
  {
   "cells": [
    {
     "cell_type": "markdown",
     "metadata": {},
     "source": [
      "Continuing on from the cycloadditions project we now construct oniom calculations. These calculations will be run from the cycloadd/oniom directory"
     ]
    },
    {
     "cell_type": "code",
     "collapsed": false,
     "input": [
      "import pandas, os\n",
      "import numpy as np\n",
      "from webbrowser import open as open_log\n",
      "from math import pi\n",
      "from IPython.core.display import HTML, Image\n",
      "from ase.io import read, write\n",
      "from ase.calculators.gaussian import Gaussian\n",
      "from glob import glob\n",
      "from ASE_utils import *\n",
      "import cc_notebook_utils\n",
      "from cc_notebook_utils import *\n",
      "from adsy import display as ad_disp\n",
      "pandas.set_printoptions(max_rows=200, max_columns=10)\n",
      "ad_disp.extended_styles()"
     ],
     "language": "python",
     "metadata": {},
     "outputs": [
      {
       "output_type": "stream",
       "stream": "stderr",
       "text": [
        "WARNING: Neither ~/.pyp_util.ini nor ./pbs_util.ini exist."
       ]
      },
      {
       "html": [
        "\n",
        "        <script type=\"text/javascript\">\n",
        "        var toggleInput;\n",
        "        (function() {\n",
        "            var inputInterval;\n",
        "            var intervalCount = 0;\n",
        "            var init = false;\n",
        "            var inputUp = false;\n",
        "            toggleInput = function() {\n",
        "                if(inputUp) {\n",
        "                    $('div.input').slideDown();\n",
        "                    $('div.code_cell').attr('style', '');\n",
        "                }\n",
        "                else {\n",
        "                    $('div.input').slideUp();\n",
        "                    $('div.code_cell').attr('style', 'padding: 0px; margin: 0px');\n",
        "                }\n",
        "                inputUp = !inputUp;\n",
        "                init = true;\n",
        "            }\n",
        "            function initExtendedStyles() {\n",
        "                if(intervalCount > 15) {\n",
        "                    clearInterval(inputInterval);\n",
        "                }\n",
        "                intervalCount += 1;\n",
        "                try {\n",
        "                    // Only slideUp if we're not on notebook server\n",
        "                    // meaning Print View and nbconverted\n",
        "                    if($('#save_status').length == 0 && init == false) {\n",
        "                        toggleInput();\n",
        "                    }\n",
        "                    clearInterval(inputInterval);\n",
        "                } catch(e) {}\n",
        "            }\n",
        "            if (typeof jQuery == 'undefined') {\n",
        "                // if jQuery Library is not loaded\n",
        "                var script = document.createElement( 'script' );\n",
        "                script.type = 'text/javascript';\n",
        "                script.src = 'https://ajax.googleapis.com/ajax/libs/jquery/1.8.3/jquery.min.js';\n",
        "                document.body.appendChild(script);\n",
        "            }\n",
        "\n",
        "            setTimeout(initExtendedStyles, 200);\n",
        "            // jQuery is doing this interval trick\n",
        "            // I guess its the way to do it then.\n",
        "            inputInterval = setInterval(initExtendedStyles, 1000);\n",
        "        }());\n",
        "        </script>\n",
        "        <a href=\"javascript:toggleInput()\">Toggle Input</a>\n",
        "        "
       ],
       "output_type": "pyout",
       "prompt_number": 1,
       "text": [
        "<IPython.core.display.HTML at 0x3434f90>"
       ]
      }
     ],
     "prompt_number": 1
    },
    {
     "cell_type": "code",
     "collapsed": false,
     "input": [
      "cd unrestricted_cycloadd_oniom/"
     ],
     "language": "python",
     "metadata": {},
     "outputs": [
      {
       "output_type": "stream",
       "stream": "stdout",
       "text": [
        "/home/clyde/Dropbox/Project Stuff/Notebooks/unrestricted_cycloadd_oniom\n"
       ]
      }
     ],
     "prompt_number": 2
    },
    {
     "cell_type": "heading",
     "level": 2,
     "metadata": {},
     "source": [
      "Single point calculations"
     ]
    },
    {
     "cell_type": "code",
     "collapsed": false,
     "input": [
      "carb_44_xyz = 'oniom_xyz_files/non_oniom_final/B3LYP_631Gd_B3LYP_631Gd_4_4_cent_carbonyl.xyz'\n",
      "graph_44_xyz = 'oniom_xyz_files/non_oniom_final/B3LYP_631Gd_B3LYP_631Gd_4_4_graphene.xyz'"
     ],
     "language": "python",
     "metadata": {},
     "outputs": [],
     "prompt_number": 6
    },
    {
     "cell_type": "code",
     "collapsed": false,
     "input": [
      "ylide_atoms = [67,68,69,70,71,72,73]\n",
      "graph_atoms = {}\n",
      "graph_atoms.update({0:[28,29]}) #2 C atoms\n",
      "graph_atoms.update({1:graph_atoms[0] + [12,13,14,15,27,41,42,30]}) #10 C atoms\n",
      "graph_atoms.update({2:graph_atoms[1] + [11,25,26,16,32,31]}) #16 C atoms\n",
      "graph_atoms.update({3:graph_atoms[2] + [24,33]})#18 C atoms\n",
      "graph_atoms.update({4:graph_atoms[2] + [38,39,52,40,47,55,48,56,43,44,53,45,17,6,60,5,4,59,3,58,2,1,57,10]}) # 42 C atoms (total molecule = 50 C atoms)"
     ],
     "language": "python",
     "metadata": {},
     "outputs": [],
     "prompt_number": 7
    },
    {
     "cell_type": "markdown",
     "metadata": {},
     "source": [
      "First test stability of previous calculations, the keywords oniom and stable don't play nicely together (only the low_real calculation is tested) so we use 'OnlyInputFiles' to generate the input files for the components of the plain oniom calculation. Then we use the oniom_comp_calcs helper function to construct relevant ase_obejcts and add stable='opt' to the appropriate calculation."
     ]
    },
    {
     "cell_type": "code",
     "collapsed": false,
     "input": [
      "l_methods = ['uff','am1','pm6','HF/STO-3G']\n",
      "o_44_carb = []\n",
      "o_44 = []\n",
      "\n",
      "for siz in range(5):\n",
      "    for meth in l_methods:\n",
      "        graph_ylid = read(carb_44_xyz)\n",
      "        graph_ylid_name = 'o{s}_{m}_B3LYP_631Gd_4_4_cent_carbonyl_stable'.format(m=meth.replace('/', '_'), s=siz)\n",
      "        graph_ylid.set_calculator(Gaussian(label=graph_ylid_name, method='oniom(B3LYP/6-31G(d):{l})=OnlyInputFiles'.format(l=meth), basis='oniom'))\n",
      "        graph_ylid_H = ylide_atoms + graph_atoms[siz]\n",
      "        graph_ylid.calc.oniom_coord_params['layers'] = [[no -1 for no in graph_ylid_H]]\n",
      "        graph_ylid.calc.oniom_coord_params['layer_mults'] = [1,1]\n",
      "        graph_ylid.calc.set_job(nodes=8, memory=8*1400, time=5, queue='pqmb')\n",
      "        #graph.calc.start(frc=True)\n",
      "        \n",
      "        graph = read(graph_44_xyz)\n",
      "        graph_name = 'o{s}_{m}_B3LYP_631Gd_4_4_graphene_stable'.format(m=meth.replace('/', '_'), s=siz)\n",
      "        graph.set_calculator(Gaussian(label=graph_name, method='oniom(B3LYP/6-31G(d):{l})=OnlyInputFiles'.format(l=meth), basis='oniom'))\n",
      "        graph_H = graph_atoms[siz]\n",
      "        graph.calc.oniom_coord_params['layers'] = [[no -1 for no in graph_H]]\n",
      "        graph.calc.oniom_coord_params['layer_mults'] = [1,1]\n",
      "        graph.calc.set_job(nodes=8, memory=8*1400, time=5, queue='pqmb')\n",
      "        \n",
      "        #graph_ylid.calc.start(frc=True)\n",
      "        o_44_carb.append(graph_ylid)\n",
      "        o_44.append(graph)\n",
      "        \n",
      "#sanity check\n",
      "graph_ylid = read(carb_44_xyz)\n",
      "graph_ylid_name = 'o_sanity_B3LYP_631Gd_4_4_cent_carbonyl_stable'\n",
      "graph_ylid.set_calculator(Gaussian(label=graph_ylid_name, method='oniom(B3LYP/6-31G(d):B3LYP/6-31G(d))=OnlyInputFiles', basis='oniom'))\n",
      "graph_ylid_H = ylide_atoms + graph_atoms[0]\n",
      "graph_ylid.calc.oniom_coord_params['layers'] = [[no -1 for no in graph_ylid_H]]\n",
      "graph_ylid.calc.oniom_coord_params['layer_mults'] = [1,1]\n",
      "graph_ylid.calc.set_job(nodes=8, memory=8*1400, time=5, queue='pqmb')\n",
      "        \n",
      "graph = read(graph_44_xyz)\n",
      "graph_name = 'o_sanity_B3LYP_631Gd_4_4_graphene_stable'\n",
      "graph.set_calculator(Gaussian(label=graph_name, method='oniom(B3LYP/6-31G(d):B3LYP/6-31G(d))=OnlyInputFiles', basis='oniom'))\n",
      "graph_H = graph_atoms[0]\n",
      "graph.calc.oniom_coord_params['layers'] = [[no -1 for no in graph_H]]\n",
      "graph.calc.oniom_coord_params['layer_mults'] = [1,1]\n",
      "graph.calc.set_job(nodes=8, memory=8*1400, time=5, queue='pqmb')\n",
      "        \n",
      "#graph_ylid.calc.start(frc=True)\n",
      "#graph.calc.start(frc=True)\n",
      "o_44_carb.append(graph_ylid)\n",
      "o_44.append(graph)"
     ],
     "language": "python",
     "metadata": {},
     "outputs": [],
     "prompt_number": 8
    },
    {
     "cell_type": "code",
     "collapsed": false,
     "input": [
      "check_calcs(o_44 + o_44_carb)"
     ],
     "language": "python",
     "metadata": {},
     "outputs": [
      {
       "output_type": "pyout",
       "prompt_number": 9,
       "text": [
        "'Calculations complete'"
       ]
      }
     ],
     "prompt_number": 9
    },
    {
     "cell_type": "code",
     "collapsed": false,
     "input": [
      "import oniom_utils\n",
      "l_rls, h_mds, l_mds = [list(c) for c in zip(*[oniom_utils.oniom_comp_calcs(r, stable='opt') for r in o_44 + o_44_carb])]\n",
      "for c in l_rls + h_mds + l_mds:\n",
      "    c.calc.set_job(nodes=8, memory=8*1400, time=5, queue='pqmb')\n",
      "    #c.calc.start()"
     ],
     "language": "python",
     "metadata": {},
     "outputs": [],
     "prompt_number": 10
    },
    {
     "cell_type": "code",
     "collapsed": false,
     "input": [
      "check_calcs(l_rls + h_mds + l_mds)\n",
      "mols_to_html(l_rls + h_mds + l_mds,sort=True, data_func=lambda m: m.calc.energy_zero)"
     ],
     "language": "python",
     "metadata": {},
     "outputs": [
      {
       "html": [
        "\n",
        "           <script type=\"text/javascript\">\n",
        "           function view_function (event, file_n) {\n",
        "               if (event.ctrlKey && event.shiftKey){\n",
        "                   IPython.notebook.kernel.execute(\"cc_notebook_utils.pygview('\" + file_n + \".log')\");\n",
        "               }\n",
        "               else if (event.ctrlKey){\n",
        "                   IPython.notebook.kernel.execute(\"cc_notebook_utils.pygausssum('\" + file_n + \".log')\");\n",
        "               }\n",
        "               else if (event.shiftKey){\n",
        "                   IPython.notebook.kernel.execute(\"cc_notebook_utils.pyvogadro('\" + file_n + \".log')\");\n",
        "               }\n",
        "               else {\n",
        "                   IPython.notebook.kernel.execute(\"cc_notebook_utils.pyvim('\" + file_n + \".log')\");\n",
        "                   IPython.notebook.kernel.execute(\"print(file_n)\");\n",
        "               }\n",
        "           }\n",
        "           </script>\n",
        "    <style>\n",
        "    table\n",
        "    {\n",
        "        border-collapse:collapse;\n",
        "    }\n",
        "    td\n",
        "    {\n",
        "        padding:15px;\n",
        "    }\n",
        "    </style>\n",
        "    <body>\n",
        "    <table bgcolor=\"white\">\n",
        "    <col/><tr><td>o0_HF_STO-3G_B3LYP_631Gd_4_4_cent_carbonyl_stable_high_model</td><td><a href = \"files/unrestricted_cycloadd_oniom/o0_HF_STO-3G_B3LYP_631Gd_4_4_cent_carbonyl_stable_high_model.com\" target = \"_blank\">com</a></td><td><input type=\"button\" value=\"Smart Log\" id=\"o0_HF_STO-3G_B3LYP_631Gd_4_4_cent_carbonyl_stable_high_model\" onclick=\"view_function(event, this.id)\" /></td><td>Success</td><td>-6325.01312175</td></tr><tr><td>o0_HF_STO-3G_B3LYP_631Gd_4_4_cent_carbonyl_stable_low_model</td><td><a href = \"files/unrestricted_cycloadd_oniom/o0_HF_STO-3G_B3LYP_631Gd_4_4_cent_carbonyl_stable_low_model.com\" target = \"_blank\">com</a></td><td><input type=\"button\" value=\"Smart Log\" id=\"o0_HF_STO-3G_B3LYP_631Gd_4_4_cent_carbonyl_stable_low_model\" onclick=\"view_function(event, this.id)\" /></td><td>Success</td><td>-6207.90826012</td></tr><tr><td>o0_HF_STO-3G_B3LYP_631Gd_4_4_cent_carbonyl_stable_low_real</td><td><a href = \"files/unrestricted_cycloadd_oniom/o0_HF_STO-3G_B3LYP_631Gd_4_4_cent_carbonyl_stable_low_real.com\" target = \"_blank\">com</a></td><td><input type=\"button\" value=\"Smart Log\" id=\"o0_HF_STO-3G_B3LYP_631Gd_4_4_cent_carbonyl_stable_low_real\" onclick=\"view_function(event, this.id)\" /></td><td>Success</td><td>-53265.8357814</td></tr><tr><td>o0_HF_STO-3G_B3LYP_631Gd_4_4_graphene_stable_high_model</td><td><a href = \"files/unrestricted_cycloadd_oniom/o0_HF_STO-3G_B3LYP_631Gd_4_4_graphene_stable_high_model.com\" target = \"_blank\">com</a></td><td><input type=\"button\" value=\"Smart Log\" id=\"o0_HF_STO-3G_B3LYP_631Gd_4_4_graphene_stable_high_model\" onclick=\"view_function(event, this.id)\" /></td><td>Success</td><td>-2138.06949675</td></tr><tr><td>o0_HF_STO-3G_B3LYP_631Gd_4_4_graphene_stable_low_model</td><td><a href = \"files/unrestricted_cycloadd_oniom/o0_HF_STO-3G_B3LYP_631Gd_4_4_graphene_stable_low_model.com\" target = \"_blank\">com</a></td><td><input type=\"button\" value=\"Smart Log\" id=\"o0_HF_STO-3G_B3LYP_631Gd_4_4_graphene_stable_low_model\" onclick=\"view_function(event, this.id)\" /></td><td>Success</td><td>-2097.0483695</td></tr><tr><td>o0_HF_STO-3G_B3LYP_631Gd_4_4_graphene_stable_low_real</td><td><a href = \"files/unrestricted_cycloadd_oniom/o0_HF_STO-3G_B3LYP_631Gd_4_4_graphene_stable_low_real.com\" target = \"_blank\">com</a></td><td><input type=\"button\" value=\"Smart Log\" id=\"o0_HF_STO-3G_B3LYP_631Gd_4_4_graphene_stable_low_real\" onclick=\"view_function(event, this.id)\" /></td><td>Success</td><td>-49159.0365167</td></tr><tr><td>o0_am1_B3LYP_631Gd_4_4_cent_carbonyl_stable_high_model</td><td><a href = \"files/unrestricted_cycloadd_oniom/o0_am1_B3LYP_631Gd_4_4_cent_carbonyl_stable_high_model.com\" target = \"_blank\">com</a></td><td><input type=\"button\" value=\"Smart Log\" id=\"o0_am1_B3LYP_631Gd_4_4_cent_carbonyl_stable_high_model\" onclick=\"view_function(event, this.id)\" /></td><td>Success</td><td>-6325.01312175</td></tr><tr><td>o0_am1_B3LYP_631Gd_4_4_cent_carbonyl_stable_low_model</td><td><a href = \"files/unrestricted_cycloadd_oniom/o0_am1_B3LYP_631Gd_4_4_cent_carbonyl_stable_low_model.com\" target = \"_blank\">com</a></td><td><input type=\"button\" value=\"Smart Log\" id=\"o0_am1_B3LYP_631Gd_4_4_cent_carbonyl_stable_low_model\" onclick=\"view_function(event, this.id)\" /></td><td>Success</td><td>0.0</td></tr><tr><td>o0_am1_B3LYP_631Gd_4_4_cent_carbonyl_stable_low_real</td><td><a href = \"files/unrestricted_cycloadd_oniom/o0_am1_B3LYP_631Gd_4_4_cent_carbonyl_stable_low_real.com\" target = \"_blank\">com</a></td><td><input type=\"button\" value=\"Smart Log\" id=\"o0_am1_B3LYP_631Gd_4_4_cent_carbonyl_stable_low_real\" onclick=\"view_function(event, this.id)\" /></td><td>Success</td><td>0.0</td></tr><tr><td>o0_am1_B3LYP_631Gd_4_4_graphene_stable_high_model</td><td><a href = \"files/unrestricted_cycloadd_oniom/o0_am1_B3LYP_631Gd_4_4_graphene_stable_high_model.com\" target = \"_blank\">com</a></td><td><input type=\"button\" value=\"Smart Log\" id=\"o0_am1_B3LYP_631Gd_4_4_graphene_stable_high_model\" onclick=\"view_function(event, this.id)\" /></td><td>Success</td><td>-2138.06949675</td></tr><tr><td>o0_am1_B3LYP_631Gd_4_4_graphene_stable_low_model</td><td><a href = \"files/unrestricted_cycloadd_oniom/o0_am1_B3LYP_631Gd_4_4_graphene_stable_low_model.com\" target = \"_blank\">com</a></td><td><input type=\"button\" value=\"Smart Log\" id=\"o0_am1_B3LYP_631Gd_4_4_graphene_stable_low_model\" onclick=\"view_function(event, this.id)\" /></td><td>Success</td><td>0.0</td></tr><tr><td>o0_am1_B3LYP_631Gd_4_4_graphene_stable_low_real</td><td><a href = \"files/unrestricted_cycloadd_oniom/o0_am1_B3LYP_631Gd_4_4_graphene_stable_low_real.com\" target = \"_blank\">com</a></td><td><input type=\"button\" value=\"Smart Log\" id=\"o0_am1_B3LYP_631Gd_4_4_graphene_stable_low_real\" onclick=\"view_function(event, this.id)\" /></td><td>Success</td><td>0.0</td></tr><tr><td>o0_pm6_B3LYP_631Gd_4_4_cent_carbonyl_stable_high_model</td><td><a href = \"files/unrestricted_cycloadd_oniom/o0_pm6_B3LYP_631Gd_4_4_cent_carbonyl_stable_high_model.com\" target = \"_blank\">com</a></td><td><input type=\"button\" value=\"Smart Log\" id=\"o0_pm6_B3LYP_631Gd_4_4_cent_carbonyl_stable_high_model\" onclick=\"view_function(event, this.id)\" /></td><td>Success</td><td>-6325.01312175</td></tr><tr><td>o0_pm6_B3LYP_631Gd_4_4_cent_carbonyl_stable_low_model</td><td><a href = \"files/unrestricted_cycloadd_oniom/o0_pm6_B3LYP_631Gd_4_4_cent_carbonyl_stable_low_model.com\" target = \"_blank\">com</a></td><td><input type=\"button\" value=\"Smart Log\" id=\"o0_pm6_B3LYP_631Gd_4_4_cent_carbonyl_stable_low_model\" onclick=\"view_function(event, this.id)\" /></td><td>Success</td><td>0.0</td></tr><tr><td>o0_pm6_B3LYP_631Gd_4_4_cent_carbonyl_stable_low_real</td><td><a href = \"files/unrestricted_cycloadd_oniom/o0_pm6_B3LYP_631Gd_4_4_cent_carbonyl_stable_low_real.com\" target = \"_blank\">com</a></td><td><input type=\"button\" value=\"Smart Log\" id=\"o0_pm6_B3LYP_631Gd_4_4_cent_carbonyl_stable_low_real\" onclick=\"view_function(event, this.id)\" /></td><td>Success</td><td>0.0</td></tr><tr><td>o0_pm6_B3LYP_631Gd_4_4_graphene_stable_high_model</td><td><a href = \"files/unrestricted_cycloadd_oniom/o0_pm6_B3LYP_631Gd_4_4_graphene_stable_high_model.com\" target = \"_blank\">com</a></td><td><input type=\"button\" value=\"Smart Log\" id=\"o0_pm6_B3LYP_631Gd_4_4_graphene_stable_high_model\" onclick=\"view_function(event, this.id)\" /></td><td>Success</td><td>-2138.06949675</td></tr><tr><td>o0_pm6_B3LYP_631Gd_4_4_graphene_stable_low_model</td><td><a href = \"files/unrestricted_cycloadd_oniom/o0_pm6_B3LYP_631Gd_4_4_graphene_stable_low_model.com\" target = \"_blank\">com</a></td><td><input type=\"button\" value=\"Smart Log\" id=\"o0_pm6_B3LYP_631Gd_4_4_graphene_stable_low_model\" onclick=\"view_function(event, this.id)\" /></td><td>Success</td><td>0.0</td></tr><tr><td>o0_pm6_B3LYP_631Gd_4_4_graphene_stable_low_real</td><td><a href = \"files/unrestricted_cycloadd_oniom/o0_pm6_B3LYP_631Gd_4_4_graphene_stable_low_real.com\" target = \"_blank\">com</a></td><td><input type=\"button\" value=\"Smart Log\" id=\"o0_pm6_B3LYP_631Gd_4_4_graphene_stable_low_real\" onclick=\"view_function(event, this.id)\" /></td><td>Success</td><td>0.0</td></tr><tr><td>o0_uff_B3LYP_631Gd_4_4_cent_carbonyl_stable_high_model</td><td><a href = \"files/unrestricted_cycloadd_oniom/o0_uff_B3LYP_631Gd_4_4_cent_carbonyl_stable_high_model.com\" target = \"_blank\">com</a></td><td><input type=\"button\" value=\"Smart Log\" id=\"o0_uff_B3LYP_631Gd_4_4_cent_carbonyl_stable_high_model\" onclick=\"view_function(event, this.id)\" /></td><td>Success</td><td>-6325.01312175</td></tr><tr><td>o0_uff_B3LYP_631Gd_4_4_cent_carbonyl_stable_low_model</td><td><a href = \"files/unrestricted_cycloadd_oniom/o0_uff_B3LYP_631Gd_4_4_cent_carbonyl_stable_low_model.com\" target = \"_blank\">com</a></td><td><input type=\"button\" value=\"Smart Log\" id=\"o0_uff_B3LYP_631Gd_4_4_cent_carbonyl_stable_low_model\" onclick=\"view_function(event, this.id)\" /></td><td>Error: Length       25088</td><td>nan</td></tr><tr><td>o0_uff_B3LYP_631Gd_4_4_cent_carbonyl_stable_low_real</td><td><a href = \"files/unrestricted_cycloadd_oniom/o0_uff_B3LYP_631Gd_4_4_cent_carbonyl_stable_low_real.com\" target = \"_blank\">com</a></td><td><input type=\"button\" value=\"Smart Log\" id=\"o0_uff_B3LYP_631Gd_4_4_cent_carbonyl_stable_low_real\" onclick=\"view_function(event, this.id)\" /></td><td>Error: Length       25088</td><td>nan</td></tr><tr><td>o0_uff_B3LYP_631Gd_4_4_graphene_stable_high_model</td><td><a href = \"files/unrestricted_cycloadd_oniom/o0_uff_B3LYP_631Gd_4_4_graphene_stable_high_model.com\" target = \"_blank\">com</a></td><td><input type=\"button\" value=\"Smart Log\" id=\"o0_uff_B3LYP_631Gd_4_4_graphene_stable_high_model\" onclick=\"view_function(event, this.id)\" /></td><td>Success</td><td>-2138.06949675</td></tr><tr><td>o0_uff_B3LYP_631Gd_4_4_graphene_stable_low_model</td><td><a href = \"files/unrestricted_cycloadd_oniom/o0_uff_B3LYP_631Gd_4_4_graphene_stable_low_model.com\" target = \"_blank\">com</a></td><td><input type=\"button\" value=\"Smart Log\" id=\"o0_uff_B3LYP_631Gd_4_4_graphene_stable_low_model\" onclick=\"view_function(event, this.id)\" /></td><td>Error: Length       25088</td><td>nan</td></tr><tr><td>o0_uff_B3LYP_631Gd_4_4_graphene_stable_low_real</td><td><a href = \"files/unrestricted_cycloadd_oniom/o0_uff_B3LYP_631Gd_4_4_graphene_stable_low_real.com\" target = \"_blank\">com</a></td><td><input type=\"button\" value=\"Smart Log\" id=\"o0_uff_B3LYP_631Gd_4_4_graphene_stable_low_real\" onclick=\"view_function(event, this.id)\" /></td><td>Error: Length       25088</td><td>nan</td></tr><tr><td>o1_HF_STO-3G_B3LYP_631Gd_4_4_cent_carbonyl_stable_high_model</td><td><a href = \"files/unrestricted_cycloadd_oniom/o1_HF_STO-3G_B3LYP_631Gd_4_4_cent_carbonyl_stable_high_model.com\" target = \"_blank\">com</a></td><td><input type=\"button\" value=\"Smart Log\" id=\"o1_HF_STO-3G_B3LYP_631Gd_4_4_cent_carbonyl_stable_high_model\" onclick=\"view_function(event, this.id)\" /></td><td>Success</td><td>-14682.8908519</td></tr><tr><td>o1_HF_STO-3G_B3LYP_631Gd_4_4_cent_carbonyl_stable_low_model</td><td><a href = \"files/unrestricted_cycloadd_oniom/o1_HF_STO-3G_B3LYP_631Gd_4_4_cent_carbonyl_stable_low_model.com\" target = \"_blank\">com</a></td><td><input type=\"button\" value=\"Smart Log\" id=\"o1_HF_STO-3G_B3LYP_631Gd_4_4_cent_carbonyl_stable_low_model\" onclick=\"view_function(event, this.id)\" /></td><td>Success</td><td>-14412.068925</td></tr><tr><td>o1_HF_STO-3G_B3LYP_631Gd_4_4_cent_carbonyl_stable_low_real</td><td><a href = \"files/unrestricted_cycloadd_oniom/o1_HF_STO-3G_B3LYP_631Gd_4_4_cent_carbonyl_stable_low_real.com\" target = \"_blank\">com</a></td><td><input type=\"button\" value=\"Smart Log\" id=\"o1_HF_STO-3G_B3LYP_631Gd_4_4_cent_carbonyl_stable_low_real\" onclick=\"view_function(event, this.id)\" /></td><td>Success</td><td>-53265.8357814</td></tr><tr><td>o1_HF_STO-3G_B3LYP_631Gd_4_4_graphene_stable_high_model</td><td><a href = \"files/unrestricted_cycloadd_oniom/o1_HF_STO-3G_B3LYP_631Gd_4_4_graphene_stable_high_model.com\" target = \"_blank\">com</a></td><td><input type=\"button\" value=\"Smart Log\" id=\"o1_HF_STO-3G_B3LYP_631Gd_4_4_graphene_stable_high_model\" onclick=\"view_function(event, this.id)\" /></td><td>Success</td><td>-10499.9616152</td></tr><tr><td>o1_HF_STO-3G_B3LYP_631Gd_4_4_graphene_stable_low_model</td><td><a href = \"files/unrestricted_cycloadd_oniom/o1_HF_STO-3G_B3LYP_631Gd_4_4_graphene_stable_low_model.com\" target = \"_blank\">com</a></td><td><input type=\"button\" value=\"Smart Log\" id=\"o1_HF_STO-3G_B3LYP_631Gd_4_4_graphene_stable_low_model\" onclick=\"view_function(event, this.id)\" /></td><td>Success</td><td>-10305.3898776</td></tr><tr><td>o1_HF_STO-3G_B3LYP_631Gd_4_4_graphene_stable_low_real</td><td><a href = \"files/unrestricted_cycloadd_oniom/o1_HF_STO-3G_B3LYP_631Gd_4_4_graphene_stable_low_real.com\" target = \"_blank\">com</a></td><td><input type=\"button\" value=\"Smart Log\" id=\"o1_HF_STO-3G_B3LYP_631Gd_4_4_graphene_stable_low_real\" onclick=\"view_function(event, this.id)\" /></td><td>Success</td><td>-49159.0365167</td></tr><tr><td>o1_am1_B3LYP_631Gd_4_4_cent_carbonyl_stable_high_model</td><td><a href = \"files/unrestricted_cycloadd_oniom/o1_am1_B3LYP_631Gd_4_4_cent_carbonyl_stable_high_model.com\" target = \"_blank\">com</a></td><td><input type=\"button\" value=\"Smart Log\" id=\"o1_am1_B3LYP_631Gd_4_4_cent_carbonyl_stable_high_model\" onclick=\"view_function(event, this.id)\" /></td><td>Success</td><td>-14682.8908519</td></tr><tr><td>o1_am1_B3LYP_631Gd_4_4_cent_carbonyl_stable_low_model</td><td><a href = \"files/unrestricted_cycloadd_oniom/o1_am1_B3LYP_631Gd_4_4_cent_carbonyl_stable_low_model.com\" target = \"_blank\">com</a></td><td><input type=\"button\" value=\"Smart Log\" id=\"o1_am1_B3LYP_631Gd_4_4_cent_carbonyl_stable_low_model\" onclick=\"view_function(event, this.id)\" /></td><td>Success</td><td>0.0</td></tr><tr><td>o1_am1_B3LYP_631Gd_4_4_cent_carbonyl_stable_low_real</td><td><a href = \"files/unrestricted_cycloadd_oniom/o1_am1_B3LYP_631Gd_4_4_cent_carbonyl_stable_low_real.com\" target = \"_blank\">com</a></td><td><input type=\"button\" value=\"Smart Log\" id=\"o1_am1_B3LYP_631Gd_4_4_cent_carbonyl_stable_low_real\" onclick=\"view_function(event, this.id)\" /></td><td>Success</td><td>0.0</td></tr><tr><td>o1_am1_B3LYP_631Gd_4_4_graphene_stable_high_model</td><td><a href = \"files/unrestricted_cycloadd_oniom/o1_am1_B3LYP_631Gd_4_4_graphene_stable_high_model.com\" target = \"_blank\">com</a></td><td><input type=\"button\" value=\"Smart Log\" id=\"o1_am1_B3LYP_631Gd_4_4_graphene_stable_high_model\" onclick=\"view_function(event, this.id)\" /></td><td>Success</td><td>-10499.9616152</td></tr><tr><td>o1_am1_B3LYP_631Gd_4_4_graphene_stable_low_model</td><td><a href = \"files/unrestricted_cycloadd_oniom/o1_am1_B3LYP_631Gd_4_4_graphene_stable_low_model.com\" target = \"_blank\">com</a></td><td><input type=\"button\" value=\"Smart Log\" id=\"o1_am1_B3LYP_631Gd_4_4_graphene_stable_low_model\" onclick=\"view_function(event, this.id)\" /></td><td>Success</td><td>0.0</td></tr><tr><td>o1_am1_B3LYP_631Gd_4_4_graphene_stable_low_real</td><td><a href = \"files/unrestricted_cycloadd_oniom/o1_am1_B3LYP_631Gd_4_4_graphene_stable_low_real.com\" target = \"_blank\">com</a></td><td><input type=\"button\" value=\"Smart Log\" id=\"o1_am1_B3LYP_631Gd_4_4_graphene_stable_low_real\" onclick=\"view_function(event, this.id)\" /></td><td>Success</td><td>0.0</td></tr><tr><td>o1_pm6_B3LYP_631Gd_4_4_cent_carbonyl_stable_high_model</td><td><a href = \"files/unrestricted_cycloadd_oniom/o1_pm6_B3LYP_631Gd_4_4_cent_carbonyl_stable_high_model.com\" target = \"_blank\">com</a></td><td><input type=\"button\" value=\"Smart Log\" id=\"o1_pm6_B3LYP_631Gd_4_4_cent_carbonyl_stable_high_model\" onclick=\"view_function(event, this.id)\" /></td><td>Success</td><td>-14682.8908519</td></tr><tr><td>o1_pm6_B3LYP_631Gd_4_4_cent_carbonyl_stable_low_model</td><td><a href = \"files/unrestricted_cycloadd_oniom/o1_pm6_B3LYP_631Gd_4_4_cent_carbonyl_stable_low_model.com\" target = \"_blank\">com</a></td><td><input type=\"button\" value=\"Smart Log\" id=\"o1_pm6_B3LYP_631Gd_4_4_cent_carbonyl_stable_low_model\" onclick=\"view_function(event, this.id)\" /></td><td>Success</td><td>0.0</td></tr><tr><td>o1_pm6_B3LYP_631Gd_4_4_cent_carbonyl_stable_low_real</td><td><a href = \"files/unrestricted_cycloadd_oniom/o1_pm6_B3LYP_631Gd_4_4_cent_carbonyl_stable_low_real.com\" target = \"_blank\">com</a></td><td><input type=\"button\" value=\"Smart Log\" id=\"o1_pm6_B3LYP_631Gd_4_4_cent_carbonyl_stable_low_real\" onclick=\"view_function(event, this.id)\" /></td><td>Success</td><td>0.0</td></tr><tr><td>o1_pm6_B3LYP_631Gd_4_4_graphene_stable_high_model</td><td><a href = \"files/unrestricted_cycloadd_oniom/o1_pm6_B3LYP_631Gd_4_4_graphene_stable_high_model.com\" target = \"_blank\">com</a></td><td><input type=\"button\" value=\"Smart Log\" id=\"o1_pm6_B3LYP_631Gd_4_4_graphene_stable_high_model\" onclick=\"view_function(event, this.id)\" /></td><td>Success</td><td>-10499.9616152</td></tr><tr><td>o1_pm6_B3LYP_631Gd_4_4_graphene_stable_low_model</td><td><a href = \"files/unrestricted_cycloadd_oniom/o1_pm6_B3LYP_631Gd_4_4_graphene_stable_low_model.com\" target = \"_blank\">com</a></td><td><input type=\"button\" value=\"Smart Log\" id=\"o1_pm6_B3LYP_631Gd_4_4_graphene_stable_low_model\" onclick=\"view_function(event, this.id)\" /></td><td>Success</td><td>0.0</td></tr><tr><td>o1_pm6_B3LYP_631Gd_4_4_graphene_stable_low_real</td><td><a href = \"files/unrestricted_cycloadd_oniom/o1_pm6_B3LYP_631Gd_4_4_graphene_stable_low_real.com\" target = \"_blank\">com</a></td><td><input type=\"button\" value=\"Smart Log\" id=\"o1_pm6_B3LYP_631Gd_4_4_graphene_stable_low_real\" onclick=\"view_function(event, this.id)\" /></td><td>Success</td><td>0.0</td></tr><tr><td>o1_uff_B3LYP_631Gd_4_4_cent_carbonyl_stable_high_model</td><td><a href = \"files/unrestricted_cycloadd_oniom/o1_uff_B3LYP_631Gd_4_4_cent_carbonyl_stable_high_model.com\" target = \"_blank\">com</a></td><td><input type=\"button\" value=\"Smart Log\" id=\"o1_uff_B3LYP_631Gd_4_4_cent_carbonyl_stable_high_model\" onclick=\"view_function(event, this.id)\" /></td><td>Success</td><td>-14682.8908519</td></tr><tr><td>o1_uff_B3LYP_631Gd_4_4_cent_carbonyl_stable_low_model</td><td><a href = \"files/unrestricted_cycloadd_oniom/o1_uff_B3LYP_631Gd_4_4_cent_carbonyl_stable_low_model.com\" target = \"_blank\">com</a></td><td><input type=\"button\" value=\"Smart Log\" id=\"o1_uff_B3LYP_631Gd_4_4_cent_carbonyl_stable_low_model\" onclick=\"view_function(event, this.id)\" /></td><td>Error: Length       25088</td><td>nan</td></tr><tr><td>o1_uff_B3LYP_631Gd_4_4_cent_carbonyl_stable_low_real</td><td><a href = \"files/unrestricted_cycloadd_oniom/o1_uff_B3LYP_631Gd_4_4_cent_carbonyl_stable_low_real.com\" target = \"_blank\">com</a></td><td><input type=\"button\" value=\"Smart Log\" id=\"o1_uff_B3LYP_631Gd_4_4_cent_carbonyl_stable_low_real\" onclick=\"view_function(event, this.id)\" /></td><td>Error: Length       25088</td><td>nan</td></tr><tr><td>o1_uff_B3LYP_631Gd_4_4_graphene_stable_high_model</td><td><a href = \"files/unrestricted_cycloadd_oniom/o1_uff_B3LYP_631Gd_4_4_graphene_stable_high_model.com\" target = \"_blank\">com</a></td><td><input type=\"button\" value=\"Smart Log\" id=\"o1_uff_B3LYP_631Gd_4_4_graphene_stable_high_model\" onclick=\"view_function(event, this.id)\" /></td><td>Success</td><td>-10499.9616152</td></tr><tr><td>o1_uff_B3LYP_631Gd_4_4_graphene_stable_low_model</td><td><a href = \"files/unrestricted_cycloadd_oniom/o1_uff_B3LYP_631Gd_4_4_graphene_stable_low_model.com\" target = \"_blank\">com</a></td><td><input type=\"button\" value=\"Smart Log\" id=\"o1_uff_B3LYP_631Gd_4_4_graphene_stable_low_model\" onclick=\"view_function(event, this.id)\" /></td><td>Error: Length       25088</td><td>nan</td></tr><tr><td>o1_uff_B3LYP_631Gd_4_4_graphene_stable_low_real</td><td><a href = \"files/unrestricted_cycloadd_oniom/o1_uff_B3LYP_631Gd_4_4_graphene_stable_low_real.com\" target = \"_blank\">com</a></td><td><input type=\"button\" value=\"Smart Log\" id=\"o1_uff_B3LYP_631Gd_4_4_graphene_stable_low_real\" onclick=\"view_function(event, this.id)\" /></td><td>Error: Length       25088</td><td>nan</td></tr><tr><td>o2_HF_STO-3G_B3LYP_631Gd_4_4_cent_carbonyl_stable_high_model</td><td><a href = \"files/unrestricted_cycloadd_oniom/o2_HF_STO-3G_B3LYP_631Gd_4_4_cent_carbonyl_stable_high_model.com\" target = \"_blank\">com</a></td><td><input type=\"button\" value=\"Smart Log\" id=\"o2_HF_STO-3G_B3LYP_631Gd_4_4_cent_carbonyl_stable_high_model\" onclick=\"view_function(event, this.id)\" /></td><td>Success</td><td>-20938.5244142</td></tr><tr><td>o2_HF_STO-3G_B3LYP_631Gd_4_4_cent_carbonyl_stable_low_model</td><td><a href = \"files/unrestricted_cycloadd_oniom/o2_HF_STO-3G_B3LYP_631Gd_4_4_cent_carbonyl_stable_low_model.com\" target = \"_blank\">com</a></td><td><input type=\"button\" value=\"Smart Log\" id=\"o2_HF_STO-3G_B3LYP_631Gd_4_4_cent_carbonyl_stable_low_model\" onclick=\"view_function(event, this.id)\" /></td><td>Success</td><td>-20553.3824672</td></tr><tr><td>o2_HF_STO-3G_B3LYP_631Gd_4_4_cent_carbonyl_stable_low_real</td><td><a href = \"files/unrestricted_cycloadd_oniom/o2_HF_STO-3G_B3LYP_631Gd_4_4_cent_carbonyl_stable_low_real.com\" target = \"_blank\">com</a></td><td><input type=\"button\" value=\"Smart Log\" id=\"o2_HF_STO-3G_B3LYP_631Gd_4_4_cent_carbonyl_stable_low_real\" onclick=\"view_function(event, this.id)\" /></td><td>Success</td><td>-53265.8357814</td></tr><tr><td>o2_HF_STO-3G_B3LYP_631Gd_4_4_graphene_stable_high_model</td><td><a href = \"files/unrestricted_cycloadd_oniom/o2_HF_STO-3G_B3LYP_631Gd_4_4_graphene_stable_high_model.com\" target = \"_blank\">com</a></td><td><input type=\"button\" value=\"Smart Log\" id=\"o2_HF_STO-3G_B3LYP_631Gd_4_4_graphene_stable_high_model\" onclick=\"view_function(event, this.id)\" /></td><td>Success</td><td>-16755.4702881</td></tr><tr><td>o2_HF_STO-3G_B3LYP_631Gd_4_4_graphene_stable_low_model</td><td><a href = \"files/unrestricted_cycloadd_oniom/o2_HF_STO-3G_B3LYP_631Gd_4_4_graphene_stable_low_model.com\" target = \"_blank\">com</a></td><td><input type=\"button\" value=\"Smart Log\" id=\"o2_HF_STO-3G_B3LYP_631Gd_4_4_graphene_stable_low_model\" onclick=\"view_function(event, this.id)\" /></td><td>Success</td><td>-16446.6214209</td></tr><tr><td>o2_HF_STO-3G_B3LYP_631Gd_4_4_graphene_stable_low_real</td><td><a href = \"files/unrestricted_cycloadd_oniom/o2_HF_STO-3G_B3LYP_631Gd_4_4_graphene_stable_low_real.com\" target = \"_blank\">com</a></td><td><input type=\"button\" value=\"Smart Log\" id=\"o2_HF_STO-3G_B3LYP_631Gd_4_4_graphene_stable_low_real\" onclick=\"view_function(event, this.id)\" /></td><td>Success</td><td>-49159.0365167</td></tr><tr><td>o2_am1_B3LYP_631Gd_4_4_cent_carbonyl_stable_high_model</td><td><a href = \"files/unrestricted_cycloadd_oniom/o2_am1_B3LYP_631Gd_4_4_cent_carbonyl_stable_high_model.com\" target = \"_blank\">com</a></td><td><input type=\"button\" value=\"Smart Log\" id=\"o2_am1_B3LYP_631Gd_4_4_cent_carbonyl_stable_high_model\" onclick=\"view_function(event, this.id)\" /></td><td>Success</td><td>-20938.5244142</td></tr><tr><td>o2_am1_B3LYP_631Gd_4_4_cent_carbonyl_stable_low_model</td><td><a href = \"files/unrestricted_cycloadd_oniom/o2_am1_B3LYP_631Gd_4_4_cent_carbonyl_stable_low_model.com\" target = \"_blank\">com</a></td><td><input type=\"button\" value=\"Smart Log\" id=\"o2_am1_B3LYP_631Gd_4_4_cent_carbonyl_stable_low_model\" onclick=\"view_function(event, this.id)\" /></td><td>Success</td><td>0.0</td></tr><tr><td>o2_am1_B3LYP_631Gd_4_4_cent_carbonyl_stable_low_real</td><td><a href = \"files/unrestricted_cycloadd_oniom/o2_am1_B3LYP_631Gd_4_4_cent_carbonyl_stable_low_real.com\" target = \"_blank\">com</a></td><td><input type=\"button\" value=\"Smart Log\" id=\"o2_am1_B3LYP_631Gd_4_4_cent_carbonyl_stable_low_real\" onclick=\"view_function(event, this.id)\" /></td><td>Success</td><td>0.0</td></tr><tr><td>o2_am1_B3LYP_631Gd_4_4_graphene_stable_high_model</td><td><a href = \"files/unrestricted_cycloadd_oniom/o2_am1_B3LYP_631Gd_4_4_graphene_stable_high_model.com\" target = \"_blank\">com</a></td><td><input type=\"button\" value=\"Smart Log\" id=\"o2_am1_B3LYP_631Gd_4_4_graphene_stable_high_model\" onclick=\"view_function(event, this.id)\" /></td><td>Success</td><td>-16755.4702881</td></tr><tr><td>o2_am1_B3LYP_631Gd_4_4_graphene_stable_low_model</td><td><a href = \"files/unrestricted_cycloadd_oniom/o2_am1_B3LYP_631Gd_4_4_graphene_stable_low_model.com\" target = \"_blank\">com</a></td><td><input type=\"button\" value=\"Smart Log\" id=\"o2_am1_B3LYP_631Gd_4_4_graphene_stable_low_model\" onclick=\"view_function(event, this.id)\" /></td><td>Success</td><td>0.0</td></tr><tr><td>o2_am1_B3LYP_631Gd_4_4_graphene_stable_low_real</td><td><a href = \"files/unrestricted_cycloadd_oniom/o2_am1_B3LYP_631Gd_4_4_graphene_stable_low_real.com\" target = \"_blank\">com</a></td><td><input type=\"button\" value=\"Smart Log\" id=\"o2_am1_B3LYP_631Gd_4_4_graphene_stable_low_real\" onclick=\"view_function(event, this.id)\" /></td><td>Success</td><td>0.0</td></tr><tr><td>o2_pm6_B3LYP_631Gd_4_4_cent_carbonyl_stable_high_model</td><td><a href = \"files/unrestricted_cycloadd_oniom/o2_pm6_B3LYP_631Gd_4_4_cent_carbonyl_stable_high_model.com\" target = \"_blank\">com</a></td><td><input type=\"button\" value=\"Smart Log\" id=\"o2_pm6_B3LYP_631Gd_4_4_cent_carbonyl_stable_high_model\" onclick=\"view_function(event, this.id)\" /></td><td>Success</td><td>-20938.5244142</td></tr><tr><td>o2_pm6_B3LYP_631Gd_4_4_cent_carbonyl_stable_low_model</td><td><a href = \"files/unrestricted_cycloadd_oniom/o2_pm6_B3LYP_631Gd_4_4_cent_carbonyl_stable_low_model.com\" target = \"_blank\">com</a></td><td><input type=\"button\" value=\"Smart Log\" id=\"o2_pm6_B3LYP_631Gd_4_4_cent_carbonyl_stable_low_model\" onclick=\"view_function(event, this.id)\" /></td><td>Success</td><td>0.0</td></tr><tr><td>o2_pm6_B3LYP_631Gd_4_4_cent_carbonyl_stable_low_real</td><td><a href = \"files/unrestricted_cycloadd_oniom/o2_pm6_B3LYP_631Gd_4_4_cent_carbonyl_stable_low_real.com\" target = \"_blank\">com</a></td><td><input type=\"button\" value=\"Smart Log\" id=\"o2_pm6_B3LYP_631Gd_4_4_cent_carbonyl_stable_low_real\" onclick=\"view_function(event, this.id)\" /></td><td>Success</td><td>0.0</td></tr><tr><td>o2_pm6_B3LYP_631Gd_4_4_graphene_stable_high_model</td><td><a href = \"files/unrestricted_cycloadd_oniom/o2_pm6_B3LYP_631Gd_4_4_graphene_stable_high_model.com\" target = \"_blank\">com</a></td><td><input type=\"button\" value=\"Smart Log\" id=\"o2_pm6_B3LYP_631Gd_4_4_graphene_stable_high_model\" onclick=\"view_function(event, this.id)\" /></td><td>Success</td><td>-16755.4702881</td></tr><tr><td>o2_pm6_B3LYP_631Gd_4_4_graphene_stable_low_model</td><td><a href = \"files/unrestricted_cycloadd_oniom/o2_pm6_B3LYP_631Gd_4_4_graphene_stable_low_model.com\" target = \"_blank\">com</a></td><td><input type=\"button\" value=\"Smart Log\" id=\"o2_pm6_B3LYP_631Gd_4_4_graphene_stable_low_model\" onclick=\"view_function(event, this.id)\" /></td><td>Success</td><td>0.0</td></tr><tr><td>o2_pm6_B3LYP_631Gd_4_4_graphene_stable_low_real</td><td><a href = \"files/unrestricted_cycloadd_oniom/o2_pm6_B3LYP_631Gd_4_4_graphene_stable_low_real.com\" target = \"_blank\">com</a></td><td><input type=\"button\" value=\"Smart Log\" id=\"o2_pm6_B3LYP_631Gd_4_4_graphene_stable_low_real\" onclick=\"view_function(event, this.id)\" /></td><td>Success</td><td>0.0</td></tr><tr><td>o2_uff_B3LYP_631Gd_4_4_cent_carbonyl_stable_high_model</td><td><a href = \"files/unrestricted_cycloadd_oniom/o2_uff_B3LYP_631Gd_4_4_cent_carbonyl_stable_high_model.com\" target = \"_blank\">com</a></td><td><input type=\"button\" value=\"Smart Log\" id=\"o2_uff_B3LYP_631Gd_4_4_cent_carbonyl_stable_high_model\" onclick=\"view_function(event, this.id)\" /></td><td>Success</td><td>-20938.5244142</td></tr><tr><td>o2_uff_B3LYP_631Gd_4_4_cent_carbonyl_stable_low_model</td><td><a href = \"files/unrestricted_cycloadd_oniom/o2_uff_B3LYP_631Gd_4_4_cent_carbonyl_stable_low_model.com\" target = \"_blank\">com</a></td><td><input type=\"button\" value=\"Smart Log\" id=\"o2_uff_B3LYP_631Gd_4_4_cent_carbonyl_stable_low_model\" onclick=\"view_function(event, this.id)\" /></td><td>Error: Length       25088</td><td>nan</td></tr><tr><td>o2_uff_B3LYP_631Gd_4_4_cent_carbonyl_stable_low_real</td><td><a href = \"files/unrestricted_cycloadd_oniom/o2_uff_B3LYP_631Gd_4_4_cent_carbonyl_stable_low_real.com\" target = \"_blank\">com</a></td><td><input type=\"button\" value=\"Smart Log\" id=\"o2_uff_B3LYP_631Gd_4_4_cent_carbonyl_stable_low_real\" onclick=\"view_function(event, this.id)\" /></td><td>Error: Length       25088</td><td>nan</td></tr><tr><td>o2_uff_B3LYP_631Gd_4_4_graphene_stable_high_model</td><td><a href = \"files/unrestricted_cycloadd_oniom/o2_uff_B3LYP_631Gd_4_4_graphene_stable_high_model.com\" target = \"_blank\">com</a></td><td><input type=\"button\" value=\"Smart Log\" id=\"o2_uff_B3LYP_631Gd_4_4_graphene_stable_high_model\" onclick=\"view_function(event, this.id)\" /></td><td>Success</td><td>-16755.4702881</td></tr><tr><td>o2_uff_B3LYP_631Gd_4_4_graphene_stable_low_model</td><td><a href = \"files/unrestricted_cycloadd_oniom/o2_uff_B3LYP_631Gd_4_4_graphene_stable_low_model.com\" target = \"_blank\">com</a></td><td><input type=\"button\" value=\"Smart Log\" id=\"o2_uff_B3LYP_631Gd_4_4_graphene_stable_low_model\" onclick=\"view_function(event, this.id)\" /></td><td>Error: Length       25088</td><td>nan</td></tr><tr><td>o2_uff_B3LYP_631Gd_4_4_graphene_stable_low_real</td><td><a href = \"files/unrestricted_cycloadd_oniom/o2_uff_B3LYP_631Gd_4_4_graphene_stable_low_real.com\" target = \"_blank\">com</a></td><td><input type=\"button\" value=\"Smart Log\" id=\"o2_uff_B3LYP_631Gd_4_4_graphene_stable_low_real\" onclick=\"view_function(event, this.id)\" /></td><td>Error: Length       25088</td><td>nan</td></tr><tr><td>o3_HF_STO-3G_B3LYP_631Gd_4_4_cent_carbonyl_stable_high_model</td><td><a href = \"files/unrestricted_cycloadd_oniom/o3_HF_STO-3G_B3LYP_631Gd_4_4_cent_carbonyl_stable_high_model.com\" target = \"_blank\">com</a></td><td><input type=\"button\" value=\"Smart Log\" id=\"o3_HF_STO-3G_B3LYP_631Gd_4_4_cent_carbonyl_stable_high_model\" onclick=\"view_function(event, this.id)\" /></td><td>Success</td><td>-23043.7823012</td></tr><tr><td>o3_HF_STO-3G_B3LYP_631Gd_4_4_cent_carbonyl_stable_low_model</td><td><a href = \"files/unrestricted_cycloadd_oniom/o3_HF_STO-3G_B3LYP_631Gd_4_4_cent_carbonyl_stable_low_model.com\" target = \"_blank\">com</a></td><td><input type=\"button\" value=\"Smart Log\" id=\"o3_HF_STO-3G_B3LYP_631Gd_4_4_cent_carbonyl_stable_low_model\" onclick=\"view_function(event, this.id)\" /></td><td>Success</td><td>-22620.1744913</td></tr><tr><td>o3_HF_STO-3G_B3LYP_631Gd_4_4_cent_carbonyl_stable_low_real</td><td><a href = \"files/unrestricted_cycloadd_oniom/o3_HF_STO-3G_B3LYP_631Gd_4_4_cent_carbonyl_stable_low_real.com\" target = \"_blank\">com</a></td><td><input type=\"button\" value=\"Smart Log\" id=\"o3_HF_STO-3G_B3LYP_631Gd_4_4_cent_carbonyl_stable_low_real\" onclick=\"view_function(event, this.id)\" /></td><td>Success</td><td>-53265.8357814</td></tr><tr><td>o3_HF_STO-3G_B3LYP_631Gd_4_4_graphene_stable_high_model</td><td><a href = \"files/unrestricted_cycloadd_oniom/o3_HF_STO-3G_B3LYP_631Gd_4_4_graphene_stable_high_model.com\" target = \"_blank\">com</a></td><td><input type=\"button\" value=\"Smart Log\" id=\"o3_HF_STO-3G_B3LYP_631Gd_4_4_graphene_stable_high_model\" onclick=\"view_function(event, this.id)\" /></td><td>Success</td><td>-18859.9023392</td></tr><tr><td>o3_HF_STO-3G_B3LYP_631Gd_4_4_graphene_stable_low_model</td><td><a href = \"files/unrestricted_cycloadd_oniom/o3_HF_STO-3G_B3LYP_631Gd_4_4_graphene_stable_low_model.com\" target = \"_blank\">com</a></td><td><input type=\"button\" value=\"Smart Log\" id=\"o3_HF_STO-3G_B3LYP_631Gd_4_4_graphene_stable_low_model\" onclick=\"view_function(event, this.id)\" /></td><td>Success</td><td>-18513.1665261</td></tr><tr><td>o3_HF_STO-3G_B3LYP_631Gd_4_4_graphene_stable_low_real</td><td><a href = \"files/unrestricted_cycloadd_oniom/o3_HF_STO-3G_B3LYP_631Gd_4_4_graphene_stable_low_real.com\" target = \"_blank\">com</a></td><td><input type=\"button\" value=\"Smart Log\" id=\"o3_HF_STO-3G_B3LYP_631Gd_4_4_graphene_stable_low_real\" onclick=\"view_function(event, this.id)\" /></td><td>Success</td><td>-49159.0365167</td></tr><tr><td>o3_am1_B3LYP_631Gd_4_4_cent_carbonyl_stable_high_model</td><td><a href = \"files/unrestricted_cycloadd_oniom/o3_am1_B3LYP_631Gd_4_4_cent_carbonyl_stable_high_model.com\" target = \"_blank\">com</a></td><td><input type=\"button\" value=\"Smart Log\" id=\"o3_am1_B3LYP_631Gd_4_4_cent_carbonyl_stable_high_model\" onclick=\"view_function(event, this.id)\" /></td><td>Success</td><td>-23043.7823012</td></tr><tr><td>o3_am1_B3LYP_631Gd_4_4_cent_carbonyl_stable_low_model</td><td><a href = \"files/unrestricted_cycloadd_oniom/o3_am1_B3LYP_631Gd_4_4_cent_carbonyl_stable_low_model.com\" target = \"_blank\">com</a></td><td><input type=\"button\" value=\"Smart Log\" id=\"o3_am1_B3LYP_631Gd_4_4_cent_carbonyl_stable_low_model\" onclick=\"view_function(event, this.id)\" /></td><td>Success</td><td>0.0</td></tr><tr><td>o3_am1_B3LYP_631Gd_4_4_cent_carbonyl_stable_low_real</td><td><a href = \"files/unrestricted_cycloadd_oniom/o3_am1_B3LYP_631Gd_4_4_cent_carbonyl_stable_low_real.com\" target = \"_blank\">com</a></td><td><input type=\"button\" value=\"Smart Log\" id=\"o3_am1_B3LYP_631Gd_4_4_cent_carbonyl_stable_low_real\" onclick=\"view_function(event, this.id)\" /></td><td>Success</td><td>0.0</td></tr><tr><td>o3_am1_B3LYP_631Gd_4_4_graphene_stable_high_model</td><td><a href = \"files/unrestricted_cycloadd_oniom/o3_am1_B3LYP_631Gd_4_4_graphene_stable_high_model.com\" target = \"_blank\">com</a></td><td><input type=\"button\" value=\"Smart Log\" id=\"o3_am1_B3LYP_631Gd_4_4_graphene_stable_high_model\" onclick=\"view_function(event, this.id)\" /></td><td>Success</td><td>-18859.9023392</td></tr><tr><td>o3_am1_B3LYP_631Gd_4_4_graphene_stable_low_model</td><td><a href = \"files/unrestricted_cycloadd_oniom/o3_am1_B3LYP_631Gd_4_4_graphene_stable_low_model.com\" target = \"_blank\">com</a></td><td><input type=\"button\" value=\"Smart Log\" id=\"o3_am1_B3LYP_631Gd_4_4_graphene_stable_low_model\" onclick=\"view_function(event, this.id)\" /></td><td>Success</td><td>0.0</td></tr><tr><td>o3_am1_B3LYP_631Gd_4_4_graphene_stable_low_real</td><td><a href = \"files/unrestricted_cycloadd_oniom/o3_am1_B3LYP_631Gd_4_4_graphene_stable_low_real.com\" target = \"_blank\">com</a></td><td><input type=\"button\" value=\"Smart Log\" id=\"o3_am1_B3LYP_631Gd_4_4_graphene_stable_low_real\" onclick=\"view_function(event, this.id)\" /></td><td>Success</td><td>0.0</td></tr><tr><td>o3_pm6_B3LYP_631Gd_4_4_cent_carbonyl_stable_high_model</td><td><a href = \"files/unrestricted_cycloadd_oniom/o3_pm6_B3LYP_631Gd_4_4_cent_carbonyl_stable_high_model.com\" target = \"_blank\">com</a></td><td><input type=\"button\" value=\"Smart Log\" id=\"o3_pm6_B3LYP_631Gd_4_4_cent_carbonyl_stable_high_model\" onclick=\"view_function(event, this.id)\" /></td><td>Success</td><td>-23043.7823012</td></tr><tr><td>o3_pm6_B3LYP_631Gd_4_4_cent_carbonyl_stable_low_model</td><td><a href = \"files/unrestricted_cycloadd_oniom/o3_pm6_B3LYP_631Gd_4_4_cent_carbonyl_stable_low_model.com\" target = \"_blank\">com</a></td><td><input type=\"button\" value=\"Smart Log\" id=\"o3_pm6_B3LYP_631Gd_4_4_cent_carbonyl_stable_low_model\" onclick=\"view_function(event, this.id)\" /></td><td>Success</td><td>0.0</td></tr><tr><td>o3_pm6_B3LYP_631Gd_4_4_cent_carbonyl_stable_low_real</td><td><a href = \"files/unrestricted_cycloadd_oniom/o3_pm6_B3LYP_631Gd_4_4_cent_carbonyl_stable_low_real.com\" target = \"_blank\">com</a></td><td><input type=\"button\" value=\"Smart Log\" id=\"o3_pm6_B3LYP_631Gd_4_4_cent_carbonyl_stable_low_real\" onclick=\"view_function(event, this.id)\" /></td><td>Success</td><td>0.0</td></tr><tr><td>o3_pm6_B3LYP_631Gd_4_4_graphene_stable_high_model</td><td><a href = \"files/unrestricted_cycloadd_oniom/o3_pm6_B3LYP_631Gd_4_4_graphene_stable_high_model.com\" target = \"_blank\">com</a></td><td><input type=\"button\" value=\"Smart Log\" id=\"o3_pm6_B3LYP_631Gd_4_4_graphene_stable_high_model\" onclick=\"view_function(event, this.id)\" /></td><td>Success</td><td>-18859.9023392</td></tr><tr><td>o3_pm6_B3LYP_631Gd_4_4_graphene_stable_low_model</td><td><a href = \"files/unrestricted_cycloadd_oniom/o3_pm6_B3LYP_631Gd_4_4_graphene_stable_low_model.com\" target = \"_blank\">com</a></td><td><input type=\"button\" value=\"Smart Log\" id=\"o3_pm6_B3LYP_631Gd_4_4_graphene_stable_low_model\" onclick=\"view_function(event, this.id)\" /></td><td>Success</td><td>0.0</td></tr><tr><td>o3_pm6_B3LYP_631Gd_4_4_graphene_stable_low_real</td><td><a href = \"files/unrestricted_cycloadd_oniom/o3_pm6_B3LYP_631Gd_4_4_graphene_stable_low_real.com\" target = \"_blank\">com</a></td><td><input type=\"button\" value=\"Smart Log\" id=\"o3_pm6_B3LYP_631Gd_4_4_graphene_stable_low_real\" onclick=\"view_function(event, this.id)\" /></td><td>Success</td><td>0.0</td></tr><tr><td>o3_uff_B3LYP_631Gd_4_4_cent_carbonyl_stable_high_model</td><td><a href = \"files/unrestricted_cycloadd_oniom/o3_uff_B3LYP_631Gd_4_4_cent_carbonyl_stable_high_model.com\" target = \"_blank\">com</a></td><td><input type=\"button\" value=\"Smart Log\" id=\"o3_uff_B3LYP_631Gd_4_4_cent_carbonyl_stable_high_model\" onclick=\"view_function(event, this.id)\" /></td><td>Success</td><td>-23043.7823012</td></tr><tr><td>o3_uff_B3LYP_631Gd_4_4_cent_carbonyl_stable_low_model</td><td><a href = \"files/unrestricted_cycloadd_oniom/o3_uff_B3LYP_631Gd_4_4_cent_carbonyl_stable_low_model.com\" target = \"_blank\">com</a></td><td><input type=\"button\" value=\"Smart Log\" id=\"o3_uff_B3LYP_631Gd_4_4_cent_carbonyl_stable_low_model\" onclick=\"view_function(event, this.id)\" /></td><td>Error: Length       25088</td><td>nan</td></tr><tr><td>o3_uff_B3LYP_631Gd_4_4_cent_carbonyl_stable_low_real</td><td><a href = \"files/unrestricted_cycloadd_oniom/o3_uff_B3LYP_631Gd_4_4_cent_carbonyl_stable_low_real.com\" target = \"_blank\">com</a></td><td><input type=\"button\" value=\"Smart Log\" id=\"o3_uff_B3LYP_631Gd_4_4_cent_carbonyl_stable_low_real\" onclick=\"view_function(event, this.id)\" /></td><td>Error: Length       25088</td><td>nan</td></tr><tr><td>o3_uff_B3LYP_631Gd_4_4_graphene_stable_high_model</td><td><a href = \"files/unrestricted_cycloadd_oniom/o3_uff_B3LYP_631Gd_4_4_graphene_stable_high_model.com\" target = \"_blank\">com</a></td><td><input type=\"button\" value=\"Smart Log\" id=\"o3_uff_B3LYP_631Gd_4_4_graphene_stable_high_model\" onclick=\"view_function(event, this.id)\" /></td><td>Success</td><td>-18859.9023392</td></tr><tr><td>o3_uff_B3LYP_631Gd_4_4_graphene_stable_low_model</td><td><a href = \"files/unrestricted_cycloadd_oniom/o3_uff_B3LYP_631Gd_4_4_graphene_stable_low_model.com\" target = \"_blank\">com</a></td><td><input type=\"button\" value=\"Smart Log\" id=\"o3_uff_B3LYP_631Gd_4_4_graphene_stable_low_model\" onclick=\"view_function(event, this.id)\" /></td><td>Error: Length       25088</td><td>nan</td></tr><tr><td>o3_uff_B3LYP_631Gd_4_4_graphene_stable_low_real</td><td><a href = \"files/unrestricted_cycloadd_oniom/o3_uff_B3LYP_631Gd_4_4_graphene_stable_low_real.com\" target = \"_blank\">com</a></td><td><input type=\"button\" value=\"Smart Log\" id=\"o3_uff_B3LYP_631Gd_4_4_graphene_stable_low_real\" onclick=\"view_function(event, this.id)\" /></td><td>Error: Length       25088</td><td>nan</td></tr><tr><td>o4_HF_STO-3G_B3LYP_631Gd_4_4_cent_carbonyl_stable_high_model</td><td><a href = \"files/unrestricted_cycloadd_oniom/o4_HF_STO-3G_B3LYP_631Gd_4_4_cent_carbonyl_stable_high_model.com\" target = \"_blank\">com</a></td><td><input type=\"button\" value=\"Smart Log\" id=\"o4_HF_STO-3G_B3LYP_631Gd_4_4_cent_carbonyl_stable_high_model\" onclick=\"view_function(event, this.id)\" /></td><td>Success</td><td>-37597.3165293</td></tr><tr><td>o4_HF_STO-3G_B3LYP_631Gd_4_4_cent_carbonyl_stable_low_model</td><td><a href = \"files/unrestricted_cycloadd_oniom/o4_HF_STO-3G_B3LYP_631Gd_4_4_cent_carbonyl_stable_low_model.com\" target = \"_blank\">com</a></td><td><input type=\"button\" value=\"Smart Log\" id=\"o4_HF_STO-3G_B3LYP_631Gd_4_4_cent_carbonyl_stable_low_model\" onclick=\"view_function(event, this.id)\" /></td><td>Success</td><td>-36908.8886985</td></tr><tr><td>o4_HF_STO-3G_B3LYP_631Gd_4_4_cent_carbonyl_stable_low_real</td><td><a href = \"files/unrestricted_cycloadd_oniom/o4_HF_STO-3G_B3LYP_631Gd_4_4_cent_carbonyl_stable_low_real.com\" target = \"_blank\">com</a></td><td><input type=\"button\" value=\"Smart Log\" id=\"o4_HF_STO-3G_B3LYP_631Gd_4_4_cent_carbonyl_stable_low_real\" onclick=\"view_function(event, this.id)\" /></td><td>Success</td><td>-53265.8357814</td></tr><tr><td>o4_HF_STO-3G_B3LYP_631Gd_4_4_graphene_stable_high_model</td><td><a href = \"files/unrestricted_cycloadd_oniom/o4_HF_STO-3G_B3LYP_631Gd_4_4_graphene_stable_high_model.com\" target = \"_blank\">com</a></td><td><input type=\"button\" value=\"Smart Log\" id=\"o4_HF_STO-3G_B3LYP_631Gd_4_4_graphene_stable_high_model\" onclick=\"view_function(event, this.id)\" /></td><td>Success</td><td>-33414.3630663</td></tr><tr><td>o4_HF_STO-3G_B3LYP_631Gd_4_4_graphene_stable_low_model</td><td><a href = \"files/unrestricted_cycloadd_oniom/o4_HF_STO-3G_B3LYP_631Gd_4_4_graphene_stable_low_model.com\" target = \"_blank\">com</a></td><td><input type=\"button\" value=\"Smart Log\" id=\"o4_HF_STO-3G_B3LYP_631Gd_4_4_graphene_stable_low_model\" onclick=\"view_function(event, this.id)\" /></td><td>Success</td><td>-32802.0662225</td></tr><tr><td>o4_HF_STO-3G_B3LYP_631Gd_4_4_graphene_stable_low_real</td><td><a href = \"files/unrestricted_cycloadd_oniom/o4_HF_STO-3G_B3LYP_631Gd_4_4_graphene_stable_low_real.com\" target = \"_blank\">com</a></td><td><input type=\"button\" value=\"Smart Log\" id=\"o4_HF_STO-3G_B3LYP_631Gd_4_4_graphene_stable_low_real\" onclick=\"view_function(event, this.id)\" /></td><td>Success</td><td>-49159.0365167</td></tr><tr><td>o4_am1_B3LYP_631Gd_4_4_cent_carbonyl_stable_high_model</td><td><a href = \"files/unrestricted_cycloadd_oniom/o4_am1_B3LYP_631Gd_4_4_cent_carbonyl_stable_high_model.com\" target = \"_blank\">com</a></td><td><input type=\"button\" value=\"Smart Log\" id=\"o4_am1_B3LYP_631Gd_4_4_cent_carbonyl_stable_high_model\" onclick=\"view_function(event, this.id)\" /></td><td>Success</td><td>-37597.3165293</td></tr><tr><td>o4_am1_B3LYP_631Gd_4_4_cent_carbonyl_stable_low_model</td><td><a href = \"files/unrestricted_cycloadd_oniom/o4_am1_B3LYP_631Gd_4_4_cent_carbonyl_stable_low_model.com\" target = \"_blank\">com</a></td><td><input type=\"button\" value=\"Smart Log\" id=\"o4_am1_B3LYP_631Gd_4_4_cent_carbonyl_stable_low_model\" onclick=\"view_function(event, this.id)\" /></td><td>Success</td><td>0.0</td></tr><tr><td>o4_am1_B3LYP_631Gd_4_4_cent_carbonyl_stable_low_real</td><td><a href = \"files/unrestricted_cycloadd_oniom/o4_am1_B3LYP_631Gd_4_4_cent_carbonyl_stable_low_real.com\" target = \"_blank\">com</a></td><td><input type=\"button\" value=\"Smart Log\" id=\"o4_am1_B3LYP_631Gd_4_4_cent_carbonyl_stable_low_real\" onclick=\"view_function(event, this.id)\" /></td><td>Success</td><td>0.0</td></tr><tr><td>o4_am1_B3LYP_631Gd_4_4_graphene_stable_high_model</td><td><a href = \"files/unrestricted_cycloadd_oniom/o4_am1_B3LYP_631Gd_4_4_graphene_stable_high_model.com\" target = \"_blank\">com</a></td><td><input type=\"button\" value=\"Smart Log\" id=\"o4_am1_B3LYP_631Gd_4_4_graphene_stable_high_model\" onclick=\"view_function(event, this.id)\" /></td><td>Success</td><td>-33414.3630663</td></tr><tr><td>o4_am1_B3LYP_631Gd_4_4_graphene_stable_low_model</td><td><a href = \"files/unrestricted_cycloadd_oniom/o4_am1_B3LYP_631Gd_4_4_graphene_stable_low_model.com\" target = \"_blank\">com</a></td><td><input type=\"button\" value=\"Smart Log\" id=\"o4_am1_B3LYP_631Gd_4_4_graphene_stable_low_model\" onclick=\"view_function(event, this.id)\" /></td><td>Success</td><td>0.0</td></tr><tr><td>o4_am1_B3LYP_631Gd_4_4_graphene_stable_low_real</td><td><a href = \"files/unrestricted_cycloadd_oniom/o4_am1_B3LYP_631Gd_4_4_graphene_stable_low_real.com\" target = \"_blank\">com</a></td><td><input type=\"button\" value=\"Smart Log\" id=\"o4_am1_B3LYP_631Gd_4_4_graphene_stable_low_real\" onclick=\"view_function(event, this.id)\" /></td><td>Success</td><td>0.0</td></tr><tr><td>o4_pm6_B3LYP_631Gd_4_4_cent_carbonyl_stable_high_model</td><td><a href = \"files/unrestricted_cycloadd_oniom/o4_pm6_B3LYP_631Gd_4_4_cent_carbonyl_stable_high_model.com\" target = \"_blank\">com</a></td><td><input type=\"button\" value=\"Smart Log\" id=\"o4_pm6_B3LYP_631Gd_4_4_cent_carbonyl_stable_high_model\" onclick=\"view_function(event, this.id)\" /></td><td>Success</td><td>-37597.3165293</td></tr><tr><td>o4_pm6_B3LYP_631Gd_4_4_cent_carbonyl_stable_low_model</td><td><a href = \"files/unrestricted_cycloadd_oniom/o4_pm6_B3LYP_631Gd_4_4_cent_carbonyl_stable_low_model.com\" target = \"_blank\">com</a></td><td><input type=\"button\" value=\"Smart Log\" id=\"o4_pm6_B3LYP_631Gd_4_4_cent_carbonyl_stable_low_model\" onclick=\"view_function(event, this.id)\" /></td><td>Success</td><td>0.0</td></tr><tr><td>o4_pm6_B3LYP_631Gd_4_4_cent_carbonyl_stable_low_real</td><td><a href = \"files/unrestricted_cycloadd_oniom/o4_pm6_B3LYP_631Gd_4_4_cent_carbonyl_stable_low_real.com\" target = \"_blank\">com</a></td><td><input type=\"button\" value=\"Smart Log\" id=\"o4_pm6_B3LYP_631Gd_4_4_cent_carbonyl_stable_low_real\" onclick=\"view_function(event, this.id)\" /></td><td>Success</td><td>0.0</td></tr><tr><td>o4_pm6_B3LYP_631Gd_4_4_graphene_stable_high_model</td><td><a href = \"files/unrestricted_cycloadd_oniom/o4_pm6_B3LYP_631Gd_4_4_graphene_stable_high_model.com\" target = \"_blank\">com</a></td><td><input type=\"button\" value=\"Smart Log\" id=\"o4_pm6_B3LYP_631Gd_4_4_graphene_stable_high_model\" onclick=\"view_function(event, this.id)\" /></td><td>Success</td><td>-33414.3630663</td></tr><tr><td>o4_pm6_B3LYP_631Gd_4_4_graphene_stable_low_model</td><td><a href = \"files/unrestricted_cycloadd_oniom/o4_pm6_B3LYP_631Gd_4_4_graphene_stable_low_model.com\" target = \"_blank\">com</a></td><td><input type=\"button\" value=\"Smart Log\" id=\"o4_pm6_B3LYP_631Gd_4_4_graphene_stable_low_model\" onclick=\"view_function(event, this.id)\" /></td><td>Success</td><td>0.0</td></tr><tr><td>o4_pm6_B3LYP_631Gd_4_4_graphene_stable_low_real</td><td><a href = \"files/unrestricted_cycloadd_oniom/o4_pm6_B3LYP_631Gd_4_4_graphene_stable_low_real.com\" target = \"_blank\">com</a></td><td><input type=\"button\" value=\"Smart Log\" id=\"o4_pm6_B3LYP_631Gd_4_4_graphene_stable_low_real\" onclick=\"view_function(event, this.id)\" /></td><td>Success</td><td>0.0</td></tr><tr><td>o4_uff_B3LYP_631Gd_4_4_cent_carbonyl_stable_high_model</td><td><a href = \"files/unrestricted_cycloadd_oniom/o4_uff_B3LYP_631Gd_4_4_cent_carbonyl_stable_high_model.com\" target = \"_blank\">com</a></td><td><input type=\"button\" value=\"Smart Log\" id=\"o4_uff_B3LYP_631Gd_4_4_cent_carbonyl_stable_high_model\" onclick=\"view_function(event, this.id)\" /></td><td>Success</td><td>-37597.3165293</td></tr><tr><td>o4_uff_B3LYP_631Gd_4_4_cent_carbonyl_stable_low_model</td><td><a href = \"files/unrestricted_cycloadd_oniom/o4_uff_B3LYP_631Gd_4_4_cent_carbonyl_stable_low_model.com\" target = \"_blank\">com</a></td><td><input type=\"button\" value=\"Smart Log\" id=\"o4_uff_B3LYP_631Gd_4_4_cent_carbonyl_stable_low_model\" onclick=\"view_function(event, this.id)\" /></td><td>Error: Length       25088</td><td>nan</td></tr><tr><td>o4_uff_B3LYP_631Gd_4_4_cent_carbonyl_stable_low_real</td><td><a href = \"files/unrestricted_cycloadd_oniom/o4_uff_B3LYP_631Gd_4_4_cent_carbonyl_stable_low_real.com\" target = \"_blank\">com</a></td><td><input type=\"button\" value=\"Smart Log\" id=\"o4_uff_B3LYP_631Gd_4_4_cent_carbonyl_stable_low_real\" onclick=\"view_function(event, this.id)\" /></td><td>Error: Length       25088</td><td>nan</td></tr><tr><td>o4_uff_B3LYP_631Gd_4_4_graphene_stable_high_model</td><td><a href = \"files/unrestricted_cycloadd_oniom/o4_uff_B3LYP_631Gd_4_4_graphene_stable_high_model.com\" target = \"_blank\">com</a></td><td><input type=\"button\" value=\"Smart Log\" id=\"o4_uff_B3LYP_631Gd_4_4_graphene_stable_high_model\" onclick=\"view_function(event, this.id)\" /></td><td>Success</td><td>-33414.3630663</td></tr><tr><td>o4_uff_B3LYP_631Gd_4_4_graphene_stable_low_model</td><td><a href = \"files/unrestricted_cycloadd_oniom/o4_uff_B3LYP_631Gd_4_4_graphene_stable_low_model.com\" target = \"_blank\">com</a></td><td><input type=\"button\" value=\"Smart Log\" id=\"o4_uff_B3LYP_631Gd_4_4_graphene_stable_low_model\" onclick=\"view_function(event, this.id)\" /></td><td>Error: Length       25088</td><td>nan</td></tr><tr><td>o4_uff_B3LYP_631Gd_4_4_graphene_stable_low_real</td><td><a href = \"files/unrestricted_cycloadd_oniom/o4_uff_B3LYP_631Gd_4_4_graphene_stable_low_real.com\" target = \"_blank\">com</a></td><td><input type=\"button\" value=\"Smart Log\" id=\"o4_uff_B3LYP_631Gd_4_4_graphene_stable_low_real\" onclick=\"view_function(event, this.id)\" /></td><td>Error: Length       25088</td><td>nan</td></tr><tr><td>o_sanity_B3LYP_631Gd_4_4_cent_carbonyl_stable_high_model</td><td><a href = \"files/unrestricted_cycloadd_oniom/o_sanity_B3LYP_631Gd_4_4_cent_carbonyl_stable_high_model.com\" target = \"_blank\">com</a></td><td><input type=\"button\" value=\"Smart Log\" id=\"o_sanity_B3LYP_631Gd_4_4_cent_carbonyl_stable_high_model\" onclick=\"view_function(event, this.id)\" /></td><td>Success</td><td>-6325.01312175</td></tr><tr><td>o_sanity_B3LYP_631Gd_4_4_cent_carbonyl_stable_low_model</td><td><a href = \"files/unrestricted_cycloadd_oniom/o_sanity_B3LYP_631Gd_4_4_cent_carbonyl_stable_low_model.com\" target = \"_blank\">com</a></td><td><input type=\"button\" value=\"Smart Log\" id=\"o_sanity_B3LYP_631Gd_4_4_cent_carbonyl_stable_low_model\" onclick=\"view_function(event, this.id)\" /></td><td>Error: TCursr= 1046 LCursr=   42</td><td>nan</td></tr><tr><td>o_sanity_B3LYP_631Gd_4_4_cent_carbonyl_stable_low_real</td><td><a href = \"files/unrestricted_cycloadd_oniom/o_sanity_B3LYP_631Gd_4_4_cent_carbonyl_stable_low_real.com\" target = \"_blank\">com</a></td><td><input type=\"button\" value=\"Smart Log\" id=\"o_sanity_B3LYP_631Gd_4_4_cent_carbonyl_stable_low_real\" onclick=\"view_function(event, this.id)\" /></td><td>Error: TCursr= 1046 LCursr=   42</td><td>nan</td></tr><tr><td>o_sanity_B3LYP_631Gd_4_4_graphene_stable_high_model</td><td><a href = \"files/unrestricted_cycloadd_oniom/o_sanity_B3LYP_631Gd_4_4_graphene_stable_high_model.com\" target = \"_blank\">com</a></td><td><input type=\"button\" value=\"Smart Log\" id=\"o_sanity_B3LYP_631Gd_4_4_graphene_stable_high_model\" onclick=\"view_function(event, this.id)\" /></td><td>Success</td><td>-2138.06949675</td></tr><tr><td>o_sanity_B3LYP_631Gd_4_4_graphene_stable_low_model</td><td><a href = \"files/unrestricted_cycloadd_oniom/o_sanity_B3LYP_631Gd_4_4_graphene_stable_low_model.com\" target = \"_blank\">com</a></td><td><input type=\"button\" value=\"Smart Log\" id=\"o_sanity_B3LYP_631Gd_4_4_graphene_stable_low_model\" onclick=\"view_function(event, this.id)\" /></td><td>Error: TCursr= 1046 LCursr=   42</td><td>nan</td></tr><tr><td>o_sanity_B3LYP_631Gd_4_4_graphene_stable_low_real</td><td><a href = \"files/unrestricted_cycloadd_oniom/o_sanity_B3LYP_631Gd_4_4_graphene_stable_low_real.com\" target = \"_blank\">com</a></td><td><input type=\"button\" value=\"Smart Log\" id=\"o_sanity_B3LYP_631Gd_4_4_graphene_stable_low_real\" onclick=\"view_function(event, this.id)\" /></td><td>Error: TCursr= 1046 LCursr=   42</td><td>nan</td></tr>\n",
        "    </table>\n",
        "    </body>"
       ],
       "output_type": "pyout",
       "prompt_number": 11,
       "text": [
        "<IPython.core.display.HTML at 0x47a1890>"
       ]
      }
     ],
     "prompt_number": 11
    },
    {
     "cell_type": "raw",
     "metadata": {},
     "source": [
      "Carbonyl\n",
      "Low real: all: RHF -> UHF\n",
      "o0 models: Stable\n",
      "o1 models: B3LYP: stable,     HF: RHF -> UHF, am1: RHF -> UHF, pm6: RHF -> UHF\n",
      "o2 models: B3LYP: stable,     HF: RHF -> UHF, am1: RHF -> UHF, pm6: RHF -> UHF\n",
      "o3 models: B3LYP: RHF -> UHF, HF: RHF -> UHF, am1: RHF -> UHF, pm6: RHF -> UHF\n",
      "o4 models: B3LYP: RHF -> UHF, HF: RHF -> UHF, am1: RHF -> UHF, pm6: RHF -> UHF                    "
     ]
    },
    {
     "cell_type": "raw",
     "metadata": {},
     "source": [
      "Graphene\n",
      "Low real: all: RHF -> UHF\n",
      "o0 models\n",
      "o1 models: B3LYP: stable,     HF: RHF -> UHF, am1: RHF -> UHF, pm6: RHF -> UHF\n",
      "o2 models: B3LYP: stable,     HF: RHF -> UHF, am1: RHF -> UHF, pm6: RHF -> UHF\n",
      "o3 models: B3LYP: RHF -> UHF, HF: RHF -> UHF, am1: RHF -> UHF, pm6: RHF -> UHF\n",
      "o4 models: B3LYP: stable,     HF: RHF -> UHF, am1: RHF -> UHF, pm6: RHF -> UHF"
     ]
    },
    {
     "cell_type": "markdown",
     "metadata": {},
     "source": [
      "Try unrestricted calcs"
     ]
    },
    {
     "cell_type": "code",
     "collapsed": false,
     "input": [
      "l_methods = ['uam1','upm6','uHF/STO-3G']"
     ],
     "language": "python",
     "metadata": {},
     "outputs": [],
     "prompt_number": 9
    },
    {
     "cell_type": "code",
     "collapsed": false,
     "input": [
      "o_44_carb = []\n",
      "o_44 = []\n",
      "\n",
      "for siz in range(5):\n",
      "    for meth in l_methods:\n",
      "        graph_ylid = read(carb_44_xyz)\n",
      "        graph_ylid_name = 'o{s}_{m}_UB3LYP_631Gd_4_4_cent_carbonyl_stable'.format(m=meth.replace('/', '_'), s=siz)\n",
      "        graph_ylid.set_calculator(Gaussian(label=graph_ylid_name, method='oniom(UB3LYP/6-31G(d):{l})=OnlyInputFiles'.format(l=meth), basis='oniom'))\n",
      "        graph_ylid_H = ylide_atoms + graph_atoms[siz]\n",
      "        graph_ylid.calc.oniom_coord_params['layers'] = [[no -1 for no in graph_ylid_H]]\n",
      "        graph_ylid.calc.oniom_coord_params['layer_mults'] = [1,1]\n",
      "        graph_ylid.calc.set_job(nodes=1, memory=400, time=1, queue='pqmb')\n",
      "        \n",
      "        graph = read(graph_44_xyz)\n",
      "        graph_name = 'o{s}_{m}_UB3LYP_631Gd_4_4_graphene_stable'.format(m=meth.replace('/', '_'), s=siz)\n",
      "        graph.set_calculator(Gaussian(label=graph_name, method='oniom(UB3LYP/6-31G(d):{l})=OnlyInputFiles'.format(l=meth), basis='oniom'))\n",
      "        graph_H = graph_atoms[siz]\n",
      "        graph.calc.oniom_coord_params['layers'] = [[no -1 for no in graph_H]]\n",
      "        graph.calc.oniom_coord_params['layer_mults'] = [1,1]\n",
      "        graph.calc.set_job(nodes=1, memory=1*400, time=1, queue='pqmb')\n",
      "        \n",
      "        #graph_ylid.calc.start(frc=True)\n",
      "        #graph.calc.start(frc=True)\n",
      "        o_44_carb.append(graph_ylid)\n",
      "        o_44.append(graph)\n",
      "        \n",
      "#sanity check\n",
      "graph_ylid = read(carb_44_xyz)\n",
      "graph_ylid_name = 'o_sanity_UB3LYP_631Gd_4_4_cent_carbonyl_stable'\n",
      "graph_ylid.set_calculator(Gaussian(label=graph_ylid_name, method='oniom(UB3LYP/6-31G(d):UB3LYP/6-31G(d))=OnlyInputFiles', basis='oniom'))\n",
      "graph_ylid_H = ylide_atoms + graph_atoms[0]\n",
      "graph_ylid.calc.oniom_coord_params['layers'] = [[no -1 for no in graph_ylid_H]]\n",
      "graph_ylid.calc.oniom_coord_params['layer_mults'] = [1,1]\n",
      "graph_ylid.calc.set_job(nodes=1, memory=1*400, time=1, queue='pqmb')\n",
      "        \n",
      "graph = read(graph_44_xyz)\n",
      "graph_name = 'o_sanity_UB3LYP_631Gd_4_4_graphene_stable'\n",
      "graph.set_calculator(Gaussian(label=graph_name, method='oniom(UB3LYP/6-31G(d):UB3LYP/6-31G(d))=OnlyInputFiles', basis='oniom'))\n",
      "graph_H = graph_atoms[0]\n",
      "graph.calc.oniom_coord_params['layers'] = [[no -1 for no in graph_H]]\n",
      "graph.calc.oniom_coord_params['layer_mults'] = [1,1]\n",
      "graph.calc.set_job(nodes=1, memory=400, time=1, queue='pqmb')\n",
      "        \n",
      "#graph_ylid.calc.start(frc=True)\n",
      "#graph.calc.start(frc=True)\n",
      "o_44_carb.append(graph_ylid)\n",
      "o_44.append(graph)"
     ],
     "language": "python",
     "metadata": {},
     "outputs": [],
     "prompt_number": 10
    },
    {
     "cell_type": "code",
     "collapsed": false,
     "input": [
      "check_calcs(o_44 + o_44_carb)"
     ],
     "language": "python",
     "metadata": {},
     "outputs": [
      {
       "output_type": "pyout",
       "prompt_number": 11,
       "text": [
        "'Calculations complete'"
       ]
      }
     ],
     "prompt_number": 11
    },
    {
     "cell_type": "code",
     "collapsed": false,
     "input": [
      "import oniom_utils\n",
      "ul_rls, uh_mds, ul_mds = [list(c) for c in zip(*[oniom_utils.oniom_comp_calcs(r, stable='opt') for r in o_44 + o_44_carb])]\n",
      "for c in ul_rls + uh_mds + ul_mds:\n",
      "    c.calc.set_job(nodes=8, memory=8*1400, time=5, queue='pqmb')\n",
      "    #c.calc.start()"
     ],
     "language": "python",
     "metadata": {},
     "outputs": [],
     "prompt_number": 12
    },
    {
     "cell_type": "code",
     "collapsed": false,
     "input": [
      "check_calcs(ul_rls + uh_mds + ul_mds)\n",
      "mols_to_html(ul_rls + uh_mds + ul_mds)"
     ],
     "language": "python",
     "metadata": {},
     "outputs": [
      {
       "html": [
        "\n",
        "           <script type=\"text/javascript\">\n",
        "           function view_function (event, file_n) {\n",
        "               if (event.ctrlKey && event.shiftKey){\n",
        "                   IPython.notebook.kernel.execute(\"cc_notebook_utils.pygview('\" + file_n + \".log')\");\n",
        "               }\n",
        "               else if (event.ctrlKey){\n",
        "                   IPython.notebook.kernel.execute(\"cc_notebook_utils.pygausssum('\" + file_n + \".log')\");\n",
        "               }\n",
        "               else if (event.shiftKey){\n",
        "                   IPython.notebook.kernel.execute(\"cc_notebook_utils.pyvogadro('\" + file_n + \".log')\");\n",
        "               }\n",
        "               else IPython.notebook.kernel.execute(\"cc_notebook_utils.pyvim('\" + file_n + \".log')\");\n",
        "           }\n",
        "           </script>\n",
        "    <style>\n",
        "    table\n",
        "    {\n",
        "        border-collapse:collapse;\n",
        "    }\n",
        "    td\n",
        "    {\n",
        "        padding:15px;\n",
        "    }\n",
        "    </style>\n",
        "    <body>\n",
        "    <table bgcolor=\"white\">\n",
        "    <col/><tr><td>o0_uam1_UB3LYP_631Gd_4_4_graphene_stable_low_real</td><td><a href = \"files/unrestricted_cycloadd_oniom/o0_uam1_UB3LYP_631Gd_4_4_graphene_stable_low_real.com\" target = \"_blank\">com</a></td><td><input type=\"button\" value=\"Smart Log\" id=\"o0_uam1_UB3LYP_631Gd_4_4_graphene_stable_low_real\" onclick=\"view_function(event, this.id)\" /></td><td>Success</td><td> The wavefunction has an internal instability.\n",
        "</td></tr><tr><td>o0_upm6_UB3LYP_631Gd_4_4_graphene_stable_low_real</td><td><a href = \"files/unrestricted_cycloadd_oniom/o0_upm6_UB3LYP_631Gd_4_4_graphene_stable_low_real.com\" target = \"_blank\">com</a></td><td><input type=\"button\" value=\"Smart Log\" id=\"o0_upm6_UB3LYP_631Gd_4_4_graphene_stable_low_real\" onclick=\"view_function(event, this.id)\" /></td><td>Success</td><td> The wavefunction has an internal instability.\n",
        "</td></tr><tr><td>o0_uHF_STO-3G_UB3LYP_631Gd_4_4_graphene_stable_low_real</td><td><a href = \"files/unrestricted_cycloadd_oniom/o0_uHF_STO-3G_UB3LYP_631Gd_4_4_graphene_stable_low_real.com\" target = \"_blank\">com</a></td><td><input type=\"button\" value=\"Smart Log\" id=\"o0_uHF_STO-3G_UB3LYP_631Gd_4_4_graphene_stable_low_real\" onclick=\"view_function(event, this.id)\" /></td><td>Success</td><td> The wavefunction has an internal instability.\n",
        "</td></tr><tr><td>o1_uam1_UB3LYP_631Gd_4_4_graphene_stable_low_real</td><td><a href = \"files/unrestricted_cycloadd_oniom/o1_uam1_UB3LYP_631Gd_4_4_graphene_stable_low_real.com\" target = \"_blank\">com</a></td><td><input type=\"button\" value=\"Smart Log\" id=\"o1_uam1_UB3LYP_631Gd_4_4_graphene_stable_low_real\" onclick=\"view_function(event, this.id)\" /></td><td>Success</td><td> The wavefunction has an internal instability.\n",
        "</td></tr><tr><td>o1_upm6_UB3LYP_631Gd_4_4_graphene_stable_low_real</td><td><a href = \"files/unrestricted_cycloadd_oniom/o1_upm6_UB3LYP_631Gd_4_4_graphene_stable_low_real.com\" target = \"_blank\">com</a></td><td><input type=\"button\" value=\"Smart Log\" id=\"o1_upm6_UB3LYP_631Gd_4_4_graphene_stable_low_real\" onclick=\"view_function(event, this.id)\" /></td><td>Success</td><td> The wavefunction has an internal instability.\n",
        "</td></tr><tr><td>o1_uHF_STO-3G_UB3LYP_631Gd_4_4_graphene_stable_low_real</td><td><a href = \"files/unrestricted_cycloadd_oniom/o1_uHF_STO-3G_UB3LYP_631Gd_4_4_graphene_stable_low_real.com\" target = \"_blank\">com</a></td><td><input type=\"button\" value=\"Smart Log\" id=\"o1_uHF_STO-3G_UB3LYP_631Gd_4_4_graphene_stable_low_real\" onclick=\"view_function(event, this.id)\" /></td><td>Success</td><td> The wavefunction has an internal instability.\n",
        "</td></tr><tr><td>o2_uam1_UB3LYP_631Gd_4_4_graphene_stable_low_real</td><td><a href = \"files/unrestricted_cycloadd_oniom/o2_uam1_UB3LYP_631Gd_4_4_graphene_stable_low_real.com\" target = \"_blank\">com</a></td><td><input type=\"button\" value=\"Smart Log\" id=\"o2_uam1_UB3LYP_631Gd_4_4_graphene_stable_low_real\" onclick=\"view_function(event, this.id)\" /></td><td>Success</td><td> The wavefunction has an internal instability.\n",
        "</td></tr><tr><td>o2_upm6_UB3LYP_631Gd_4_4_graphene_stable_low_real</td><td><a href = \"files/unrestricted_cycloadd_oniom/o2_upm6_UB3LYP_631Gd_4_4_graphene_stable_low_real.com\" target = \"_blank\">com</a></td><td><input type=\"button\" value=\"Smart Log\" id=\"o2_upm6_UB3LYP_631Gd_4_4_graphene_stable_low_real\" onclick=\"view_function(event, this.id)\" /></td><td>Success</td><td> The wavefunction has an internal instability.\n",
        "</td></tr><tr><td>o2_uHF_STO-3G_UB3LYP_631Gd_4_4_graphene_stable_low_real</td><td><a href = \"files/unrestricted_cycloadd_oniom/o2_uHF_STO-3G_UB3LYP_631Gd_4_4_graphene_stable_low_real.com\" target = \"_blank\">com</a></td><td><input type=\"button\" value=\"Smart Log\" id=\"o2_uHF_STO-3G_UB3LYP_631Gd_4_4_graphene_stable_low_real\" onclick=\"view_function(event, this.id)\" /></td><td>Success</td><td> The wavefunction has an internal instability.\n",
        "</td></tr><tr><td>o3_uam1_UB3LYP_631Gd_4_4_graphene_stable_low_real</td><td><a href = \"files/unrestricted_cycloadd_oniom/o3_uam1_UB3LYP_631Gd_4_4_graphene_stable_low_real.com\" target = \"_blank\">com</a></td><td><input type=\"button\" value=\"Smart Log\" id=\"o3_uam1_UB3LYP_631Gd_4_4_graphene_stable_low_real\" onclick=\"view_function(event, this.id)\" /></td><td>Success</td><td> The wavefunction has an internal instability.\n",
        "</td></tr><tr><td>o3_upm6_UB3LYP_631Gd_4_4_graphene_stable_low_real</td><td><a href = \"files/unrestricted_cycloadd_oniom/o3_upm6_UB3LYP_631Gd_4_4_graphene_stable_low_real.com\" target = \"_blank\">com</a></td><td><input type=\"button\" value=\"Smart Log\" id=\"o3_upm6_UB3LYP_631Gd_4_4_graphene_stable_low_real\" onclick=\"view_function(event, this.id)\" /></td><td>Success</td><td> The wavefunction has an internal instability.\n",
        "</td></tr><tr><td>o3_uHF_STO-3G_UB3LYP_631Gd_4_4_graphene_stable_low_real</td><td><a href = \"files/unrestricted_cycloadd_oniom/o3_uHF_STO-3G_UB3LYP_631Gd_4_4_graphene_stable_low_real.com\" target = \"_blank\">com</a></td><td><input type=\"button\" value=\"Smart Log\" id=\"o3_uHF_STO-3G_UB3LYP_631Gd_4_4_graphene_stable_low_real\" onclick=\"view_function(event, this.id)\" /></td><td>Success</td><td> The wavefunction has an internal instability.\n",
        "</td></tr><tr><td>o4_uam1_UB3LYP_631Gd_4_4_graphene_stable_low_real</td><td><a href = \"files/unrestricted_cycloadd_oniom/o4_uam1_UB3LYP_631Gd_4_4_graphene_stable_low_real.com\" target = \"_blank\">com</a></td><td><input type=\"button\" value=\"Smart Log\" id=\"o4_uam1_UB3LYP_631Gd_4_4_graphene_stable_low_real\" onclick=\"view_function(event, this.id)\" /></td><td>Success</td><td> The wavefunction has an internal instability.\n",
        "</td></tr><tr><td>o4_upm6_UB3LYP_631Gd_4_4_graphene_stable_low_real</td><td><a href = \"files/unrestricted_cycloadd_oniom/o4_upm6_UB3LYP_631Gd_4_4_graphene_stable_low_real.com\" target = \"_blank\">com</a></td><td><input type=\"button\" value=\"Smart Log\" id=\"o4_upm6_UB3LYP_631Gd_4_4_graphene_stable_low_real\" onclick=\"view_function(event, this.id)\" /></td><td>Success</td><td> The wavefunction has an internal instability.\n",
        "</td></tr><tr><td>o4_uHF_STO-3G_UB3LYP_631Gd_4_4_graphene_stable_low_real</td><td><a href = \"files/unrestricted_cycloadd_oniom/o4_uHF_STO-3G_UB3LYP_631Gd_4_4_graphene_stable_low_real.com\" target = \"_blank\">com</a></td><td><input type=\"button\" value=\"Smart Log\" id=\"o4_uHF_STO-3G_UB3LYP_631Gd_4_4_graphene_stable_low_real\" onclick=\"view_function(event, this.id)\" /></td><td>Success</td><td> The wavefunction has an internal instability.\n",
        "</td></tr><tr><td>o_sanity_UB3LYP_631Gd_4_4_graphene_stable_low_real</td><td><a href = \"files/unrestricted_cycloadd_oniom/o_sanity_UB3LYP_631Gd_4_4_graphene_stable_low_real.com\" target = \"_blank\">com</a></td><td><input type=\"button\" value=\"Smart Log\" id=\"o_sanity_UB3LYP_631Gd_4_4_graphene_stable_low_real\" onclick=\"view_function(event, this.id)\" /></td><td>Error: TCursr= 1046 LCursr=   43</td><td></td></tr><tr><td>o0_uam1_UB3LYP_631Gd_4_4_cent_carbonyl_stable_low_real</td><td><a href = \"files/unrestricted_cycloadd_oniom/o0_uam1_UB3LYP_631Gd_4_4_cent_carbonyl_stable_low_real.com\" target = \"_blank\">com</a></td><td><input type=\"button\" value=\"Smart Log\" id=\"o0_uam1_UB3LYP_631Gd_4_4_cent_carbonyl_stable_low_real\" onclick=\"view_function(event, this.id)\" /></td><td>Success</td><td> The wavefunction has an internal instability.\n",
        "</td></tr><tr><td>o0_upm6_UB3LYP_631Gd_4_4_cent_carbonyl_stable_low_real</td><td><a href = \"files/unrestricted_cycloadd_oniom/o0_upm6_UB3LYP_631Gd_4_4_cent_carbonyl_stable_low_real.com\" target = \"_blank\">com</a></td><td><input type=\"button\" value=\"Smart Log\" id=\"o0_upm6_UB3LYP_631Gd_4_4_cent_carbonyl_stable_low_real\" onclick=\"view_function(event, this.id)\" /></td><td>Success</td><td> The wavefunction has an internal instability.\n",
        "</td></tr><tr><td>o0_uHF_STO-3G_UB3LYP_631Gd_4_4_cent_carbonyl_stable_low_real</td><td><a href = \"files/unrestricted_cycloadd_oniom/o0_uHF_STO-3G_UB3LYP_631Gd_4_4_cent_carbonyl_stable_low_real.com\" target = \"_blank\">com</a></td><td><input type=\"button\" value=\"Smart Log\" id=\"o0_uHF_STO-3G_UB3LYP_631Gd_4_4_cent_carbonyl_stable_low_real\" onclick=\"view_function(event, this.id)\" /></td><td>Success</td><td> The wavefunction has an internal instability.\n",
        "</td></tr><tr><td>o1_uam1_UB3LYP_631Gd_4_4_cent_carbonyl_stable_low_real</td><td><a href = \"files/unrestricted_cycloadd_oniom/o1_uam1_UB3LYP_631Gd_4_4_cent_carbonyl_stable_low_real.com\" target = \"_blank\">com</a></td><td><input type=\"button\" value=\"Smart Log\" id=\"o1_uam1_UB3LYP_631Gd_4_4_cent_carbonyl_stable_low_real\" onclick=\"view_function(event, this.id)\" /></td><td>Success</td><td> The wavefunction has an internal instability.\n",
        "</td></tr><tr><td>o1_upm6_UB3LYP_631Gd_4_4_cent_carbonyl_stable_low_real</td><td><a href = \"files/unrestricted_cycloadd_oniom/o1_upm6_UB3LYP_631Gd_4_4_cent_carbonyl_stable_low_real.com\" target = \"_blank\">com</a></td><td><input type=\"button\" value=\"Smart Log\" id=\"o1_upm6_UB3LYP_631Gd_4_4_cent_carbonyl_stable_low_real\" onclick=\"view_function(event, this.id)\" /></td><td>Success</td><td> The wavefunction has an internal instability.\n",
        "</td></tr><tr><td>o1_uHF_STO-3G_UB3LYP_631Gd_4_4_cent_carbonyl_stable_low_real</td><td><a href = \"files/unrestricted_cycloadd_oniom/o1_uHF_STO-3G_UB3LYP_631Gd_4_4_cent_carbonyl_stable_low_real.com\" target = \"_blank\">com</a></td><td><input type=\"button\" value=\"Smart Log\" id=\"o1_uHF_STO-3G_UB3LYP_631Gd_4_4_cent_carbonyl_stable_low_real\" onclick=\"view_function(event, this.id)\" /></td><td>Success</td><td> The wavefunction has an internal instability.\n",
        "</td></tr><tr><td>o2_uam1_UB3LYP_631Gd_4_4_cent_carbonyl_stable_low_real</td><td><a href = \"files/unrestricted_cycloadd_oniom/o2_uam1_UB3LYP_631Gd_4_4_cent_carbonyl_stable_low_real.com\" target = \"_blank\">com</a></td><td><input type=\"button\" value=\"Smart Log\" id=\"o2_uam1_UB3LYP_631Gd_4_4_cent_carbonyl_stable_low_real\" onclick=\"view_function(event, this.id)\" /></td><td>Success</td><td> The wavefunction has an internal instability.\n",
        "</td></tr><tr><td>o2_upm6_UB3LYP_631Gd_4_4_cent_carbonyl_stable_low_real</td><td><a href = \"files/unrestricted_cycloadd_oniom/o2_upm6_UB3LYP_631Gd_4_4_cent_carbonyl_stable_low_real.com\" target = \"_blank\">com</a></td><td><input type=\"button\" value=\"Smart Log\" id=\"o2_upm6_UB3LYP_631Gd_4_4_cent_carbonyl_stable_low_real\" onclick=\"view_function(event, this.id)\" /></td><td>Success</td><td> The wavefunction has an internal instability.\n",
        "</td></tr><tr><td>o2_uHF_STO-3G_UB3LYP_631Gd_4_4_cent_carbonyl_stable_low_real</td><td><a href = \"files/unrestricted_cycloadd_oniom/o2_uHF_STO-3G_UB3LYP_631Gd_4_4_cent_carbonyl_stable_low_real.com\" target = \"_blank\">com</a></td><td><input type=\"button\" value=\"Smart Log\" id=\"o2_uHF_STO-3G_UB3LYP_631Gd_4_4_cent_carbonyl_stable_low_real\" onclick=\"view_function(event, this.id)\" /></td><td>Success</td><td> The wavefunction has an internal instability.\n",
        "</td></tr><tr><td>o3_uam1_UB3LYP_631Gd_4_4_cent_carbonyl_stable_low_real</td><td><a href = \"files/unrestricted_cycloadd_oniom/o3_uam1_UB3LYP_631Gd_4_4_cent_carbonyl_stable_low_real.com\" target = \"_blank\">com</a></td><td><input type=\"button\" value=\"Smart Log\" id=\"o3_uam1_UB3LYP_631Gd_4_4_cent_carbonyl_stable_low_real\" onclick=\"view_function(event, this.id)\" /></td><td>Success</td><td> The wavefunction has an internal instability.\n",
        "</td></tr><tr><td>o3_upm6_UB3LYP_631Gd_4_4_cent_carbonyl_stable_low_real</td><td><a href = \"files/unrestricted_cycloadd_oniom/o3_upm6_UB3LYP_631Gd_4_4_cent_carbonyl_stable_low_real.com\" target = \"_blank\">com</a></td><td><input type=\"button\" value=\"Smart Log\" id=\"o3_upm6_UB3LYP_631Gd_4_4_cent_carbonyl_stable_low_real\" onclick=\"view_function(event, this.id)\" /></td><td>Success</td><td> The wavefunction has an internal instability.\n",
        "</td></tr><tr><td>o3_uHF_STO-3G_UB3LYP_631Gd_4_4_cent_carbonyl_stable_low_real</td><td><a href = \"files/unrestricted_cycloadd_oniom/o3_uHF_STO-3G_UB3LYP_631Gd_4_4_cent_carbonyl_stable_low_real.com\" target = \"_blank\">com</a></td><td><input type=\"button\" value=\"Smart Log\" id=\"o3_uHF_STO-3G_UB3LYP_631Gd_4_4_cent_carbonyl_stable_low_real\" onclick=\"view_function(event, this.id)\" /></td><td>Success</td><td> The wavefunction has an internal instability.\n",
        "</td></tr><tr><td>o4_uam1_UB3LYP_631Gd_4_4_cent_carbonyl_stable_low_real</td><td><a href = \"files/unrestricted_cycloadd_oniom/o4_uam1_UB3LYP_631Gd_4_4_cent_carbonyl_stable_low_real.com\" target = \"_blank\">com</a></td><td><input type=\"button\" value=\"Smart Log\" id=\"o4_uam1_UB3LYP_631Gd_4_4_cent_carbonyl_stable_low_real\" onclick=\"view_function(event, this.id)\" /></td><td>Success</td><td> The wavefunction has an internal instability.\n",
        "</td></tr><tr><td>o4_upm6_UB3LYP_631Gd_4_4_cent_carbonyl_stable_low_real</td><td><a href = \"files/unrestricted_cycloadd_oniom/o4_upm6_UB3LYP_631Gd_4_4_cent_carbonyl_stable_low_real.com\" target = \"_blank\">com</a></td><td><input type=\"button\" value=\"Smart Log\" id=\"o4_upm6_UB3LYP_631Gd_4_4_cent_carbonyl_stable_low_real\" onclick=\"view_function(event, this.id)\" /></td><td>Success</td><td> The wavefunction has an internal instability.\n",
        "</td></tr><tr><td>o4_uHF_STO-3G_UB3LYP_631Gd_4_4_cent_carbonyl_stable_low_real</td><td><a href = \"files/unrestricted_cycloadd_oniom/o4_uHF_STO-3G_UB3LYP_631Gd_4_4_cent_carbonyl_stable_low_real.com\" target = \"_blank\">com</a></td><td><input type=\"button\" value=\"Smart Log\" id=\"o4_uHF_STO-3G_UB3LYP_631Gd_4_4_cent_carbonyl_stable_low_real\" onclick=\"view_function(event, this.id)\" /></td><td>Success</td><td> The wavefunction has an internal instability.\n",
        "</td></tr><tr><td>o_sanity_UB3LYP_631Gd_4_4_cent_carbonyl_stable_low_real</td><td><a href = \"files/unrestricted_cycloadd_oniom/o_sanity_UB3LYP_631Gd_4_4_cent_carbonyl_stable_low_real.com\" target = \"_blank\">com</a></td><td><input type=\"button\" value=\"Smart Log\" id=\"o_sanity_UB3LYP_631Gd_4_4_cent_carbonyl_stable_low_real\" onclick=\"view_function(event, this.id)\" /></td><td>Error: TCursr= 1046 LCursr=   43</td><td></td></tr><tr><td>o0_uam1_UB3LYP_631Gd_4_4_graphene_stable_high_model</td><td><a href = \"files/unrestricted_cycloadd_oniom/o0_uam1_UB3LYP_631Gd_4_4_graphene_stable_high_model.com\" target = \"_blank\">com</a></td><td><input type=\"button\" value=\"Smart Log\" id=\"o0_uam1_UB3LYP_631Gd_4_4_graphene_stable_high_model\" onclick=\"view_function(event, this.id)\" /></td><td>Success</td><td></td></tr><tr><td>o0_upm6_UB3LYP_631Gd_4_4_graphene_stable_high_model</td><td><a href = \"files/unrestricted_cycloadd_oniom/o0_upm6_UB3LYP_631Gd_4_4_graphene_stable_high_model.com\" target = \"_blank\">com</a></td><td><input type=\"button\" value=\"Smart Log\" id=\"o0_upm6_UB3LYP_631Gd_4_4_graphene_stable_high_model\" onclick=\"view_function(event, this.id)\" /></td><td>Success</td><td></td></tr><tr><td>o0_uHF_STO-3G_UB3LYP_631Gd_4_4_graphene_stable_high_model</td><td><a href = \"files/unrestricted_cycloadd_oniom/o0_uHF_STO-3G_UB3LYP_631Gd_4_4_graphene_stable_high_model.com\" target = \"_blank\">com</a></td><td><input type=\"button\" value=\"Smart Log\" id=\"o0_uHF_STO-3G_UB3LYP_631Gd_4_4_graphene_stable_high_model\" onclick=\"view_function(event, this.id)\" /></td><td>Success</td><td></td></tr><tr><td>o1_uam1_UB3LYP_631Gd_4_4_graphene_stable_high_model</td><td><a href = \"files/unrestricted_cycloadd_oniom/o1_uam1_UB3LYP_631Gd_4_4_graphene_stable_high_model.com\" target = \"_blank\">com</a></td><td><input type=\"button\" value=\"Smart Log\" id=\"o1_uam1_UB3LYP_631Gd_4_4_graphene_stable_high_model\" onclick=\"view_function(event, this.id)\" /></td><td>Success</td><td></td></tr><tr><td>o1_upm6_UB3LYP_631Gd_4_4_graphene_stable_high_model</td><td><a href = \"files/unrestricted_cycloadd_oniom/o1_upm6_UB3LYP_631Gd_4_4_graphene_stable_high_model.com\" target = \"_blank\">com</a></td><td><input type=\"button\" value=\"Smart Log\" id=\"o1_upm6_UB3LYP_631Gd_4_4_graphene_stable_high_model\" onclick=\"view_function(event, this.id)\" /></td><td>Success</td><td></td></tr><tr><td>o1_uHF_STO-3G_UB3LYP_631Gd_4_4_graphene_stable_high_model</td><td><a href = \"files/unrestricted_cycloadd_oniom/o1_uHF_STO-3G_UB3LYP_631Gd_4_4_graphene_stable_high_model.com\" target = \"_blank\">com</a></td><td><input type=\"button\" value=\"Smart Log\" id=\"o1_uHF_STO-3G_UB3LYP_631Gd_4_4_graphene_stable_high_model\" onclick=\"view_function(event, this.id)\" /></td><td>Success</td><td></td></tr><tr><td>o2_uam1_UB3LYP_631Gd_4_4_graphene_stable_high_model</td><td><a href = \"files/unrestricted_cycloadd_oniom/o2_uam1_UB3LYP_631Gd_4_4_graphene_stable_high_model.com\" target = \"_blank\">com</a></td><td><input type=\"button\" value=\"Smart Log\" id=\"o2_uam1_UB3LYP_631Gd_4_4_graphene_stable_high_model\" onclick=\"view_function(event, this.id)\" /></td><td>Success</td><td></td></tr><tr><td>o2_upm6_UB3LYP_631Gd_4_4_graphene_stable_high_model</td><td><a href = \"files/unrestricted_cycloadd_oniom/o2_upm6_UB3LYP_631Gd_4_4_graphene_stable_high_model.com\" target = \"_blank\">com</a></td><td><input type=\"button\" value=\"Smart Log\" id=\"o2_upm6_UB3LYP_631Gd_4_4_graphene_stable_high_model\" onclick=\"view_function(event, this.id)\" /></td><td>Success</td><td></td></tr><tr><td>o2_uHF_STO-3G_UB3LYP_631Gd_4_4_graphene_stable_high_model</td><td><a href = \"files/unrestricted_cycloadd_oniom/o2_uHF_STO-3G_UB3LYP_631Gd_4_4_graphene_stable_high_model.com\" target = \"_blank\">com</a></td><td><input type=\"button\" value=\"Smart Log\" id=\"o2_uHF_STO-3G_UB3LYP_631Gd_4_4_graphene_stable_high_model\" onclick=\"view_function(event, this.id)\" /></td><td>Success</td><td></td></tr><tr><td>o3_uam1_UB3LYP_631Gd_4_4_graphene_stable_high_model</td><td><a href = \"files/unrestricted_cycloadd_oniom/o3_uam1_UB3LYP_631Gd_4_4_graphene_stable_high_model.com\" target = \"_blank\">com</a></td><td><input type=\"button\" value=\"Smart Log\" id=\"o3_uam1_UB3LYP_631Gd_4_4_graphene_stable_high_model\" onclick=\"view_function(event, this.id)\" /></td><td>Success</td><td> The wavefunction has an internal instability.\n",
        "</td></tr><tr><td>o3_upm6_UB3LYP_631Gd_4_4_graphene_stable_high_model</td><td><a href = \"files/unrestricted_cycloadd_oniom/o3_upm6_UB3LYP_631Gd_4_4_graphene_stable_high_model.com\" target = \"_blank\">com</a></td><td><input type=\"button\" value=\"Smart Log\" id=\"o3_upm6_UB3LYP_631Gd_4_4_graphene_stable_high_model\" onclick=\"view_function(event, this.id)\" /></td><td>Success</td><td> The wavefunction has an internal instability.\n",
        "</td></tr><tr><td>o3_uHF_STO-3G_UB3LYP_631Gd_4_4_graphene_stable_high_model</td><td><a href = \"files/unrestricted_cycloadd_oniom/o3_uHF_STO-3G_UB3LYP_631Gd_4_4_graphene_stable_high_model.com\" target = \"_blank\">com</a></td><td><input type=\"button\" value=\"Smart Log\" id=\"o3_uHF_STO-3G_UB3LYP_631Gd_4_4_graphene_stable_high_model\" onclick=\"view_function(event, this.id)\" /></td><td>Success</td><td> The wavefunction has an internal instability.\n",
        "</td></tr><tr><td>o4_uam1_UB3LYP_631Gd_4_4_graphene_stable_high_model</td><td><a href = \"files/unrestricted_cycloadd_oniom/o4_uam1_UB3LYP_631Gd_4_4_graphene_stable_high_model.com\" target = \"_blank\">com</a></td><td><input type=\"button\" value=\"Smart Log\" id=\"o4_uam1_UB3LYP_631Gd_4_4_graphene_stable_high_model\" onclick=\"view_function(event, this.id)\" /></td><td>Success</td><td></td></tr><tr><td>o4_upm6_UB3LYP_631Gd_4_4_graphene_stable_high_model</td><td><a href = \"files/unrestricted_cycloadd_oniom/o4_upm6_UB3LYP_631Gd_4_4_graphene_stable_high_model.com\" target = \"_blank\">com</a></td><td><input type=\"button\" value=\"Smart Log\" id=\"o4_upm6_UB3LYP_631Gd_4_4_graphene_stable_high_model\" onclick=\"view_function(event, this.id)\" /></td><td>Success</td><td></td></tr><tr><td>o4_uHF_STO-3G_UB3LYP_631Gd_4_4_graphene_stable_high_model</td><td><a href = \"files/unrestricted_cycloadd_oniom/o4_uHF_STO-3G_UB3LYP_631Gd_4_4_graphene_stable_high_model.com\" target = \"_blank\">com</a></td><td><input type=\"button\" value=\"Smart Log\" id=\"o4_uHF_STO-3G_UB3LYP_631Gd_4_4_graphene_stable_high_model\" onclick=\"view_function(event, this.id)\" /></td><td>Success</td><td></td></tr><tr><td>o_sanity_UB3LYP_631Gd_4_4_graphene_stable_high_model</td><td><a href = \"files/unrestricted_cycloadd_oniom/o_sanity_UB3LYP_631Gd_4_4_graphene_stable_high_model.com\" target = \"_blank\">com</a></td><td><input type=\"button\" value=\"Smart Log\" id=\"o_sanity_UB3LYP_631Gd_4_4_graphene_stable_high_model\" onclick=\"view_function(event, this.id)\" /></td><td>Success</td><td></td></tr><tr><td>o0_uam1_UB3LYP_631Gd_4_4_cent_carbonyl_stable_high_model</td><td><a href = \"files/unrestricted_cycloadd_oniom/o0_uam1_UB3LYP_631Gd_4_4_cent_carbonyl_stable_high_model.com\" target = \"_blank\">com</a></td><td><input type=\"button\" value=\"Smart Log\" id=\"o0_uam1_UB3LYP_631Gd_4_4_cent_carbonyl_stable_high_model\" onclick=\"view_function(event, this.id)\" /></td><td>Success</td><td></td></tr><tr><td>o0_upm6_UB3LYP_631Gd_4_4_cent_carbonyl_stable_high_model</td><td><a href = \"files/unrestricted_cycloadd_oniom/o0_upm6_UB3LYP_631Gd_4_4_cent_carbonyl_stable_high_model.com\" target = \"_blank\">com</a></td><td><input type=\"button\" value=\"Smart Log\" id=\"o0_upm6_UB3LYP_631Gd_4_4_cent_carbonyl_stable_high_model\" onclick=\"view_function(event, this.id)\" /></td><td>Success</td><td></td></tr><tr><td>o0_uHF_STO-3G_UB3LYP_631Gd_4_4_cent_carbonyl_stable_high_model</td><td><a href = \"files/unrestricted_cycloadd_oniom/o0_uHF_STO-3G_UB3LYP_631Gd_4_4_cent_carbonyl_stable_high_model.com\" target = \"_blank\">com</a></td><td><input type=\"button\" value=\"Smart Log\" id=\"o0_uHF_STO-3G_UB3LYP_631Gd_4_4_cent_carbonyl_stable_high_model\" onclick=\"view_function(event, this.id)\" /></td><td>Success</td><td></td></tr><tr><td>o1_uam1_UB3LYP_631Gd_4_4_cent_carbonyl_stable_high_model</td><td><a href = \"files/unrestricted_cycloadd_oniom/o1_uam1_UB3LYP_631Gd_4_4_cent_carbonyl_stable_high_model.com\" target = \"_blank\">com</a></td><td><input type=\"button\" value=\"Smart Log\" id=\"o1_uam1_UB3LYP_631Gd_4_4_cent_carbonyl_stable_high_model\" onclick=\"view_function(event, this.id)\" /></td><td>Success</td><td></td></tr><tr><td>o1_upm6_UB3LYP_631Gd_4_4_cent_carbonyl_stable_high_model</td><td><a href = \"files/unrestricted_cycloadd_oniom/o1_upm6_UB3LYP_631Gd_4_4_cent_carbonyl_stable_high_model.com\" target = \"_blank\">com</a></td><td><input type=\"button\" value=\"Smart Log\" id=\"o1_upm6_UB3LYP_631Gd_4_4_cent_carbonyl_stable_high_model\" onclick=\"view_function(event, this.id)\" /></td><td>Success</td><td></td></tr><tr><td>o1_uHF_STO-3G_UB3LYP_631Gd_4_4_cent_carbonyl_stable_high_model</td><td><a href = \"files/unrestricted_cycloadd_oniom/o1_uHF_STO-3G_UB3LYP_631Gd_4_4_cent_carbonyl_stable_high_model.com\" target = \"_blank\">com</a></td><td><input type=\"button\" value=\"Smart Log\" id=\"o1_uHF_STO-3G_UB3LYP_631Gd_4_4_cent_carbonyl_stable_high_model\" onclick=\"view_function(event, this.id)\" /></td><td>Success</td><td></td></tr><tr><td>o2_uam1_UB3LYP_631Gd_4_4_cent_carbonyl_stable_high_model</td><td><a href = \"files/unrestricted_cycloadd_oniom/o2_uam1_UB3LYP_631Gd_4_4_cent_carbonyl_stable_high_model.com\" target = \"_blank\">com</a></td><td><input type=\"button\" value=\"Smart Log\" id=\"o2_uam1_UB3LYP_631Gd_4_4_cent_carbonyl_stable_high_model\" onclick=\"view_function(event, this.id)\" /></td><td>Success</td><td></td></tr><tr><td>o2_upm6_UB3LYP_631Gd_4_4_cent_carbonyl_stable_high_model</td><td><a href = \"files/unrestricted_cycloadd_oniom/o2_upm6_UB3LYP_631Gd_4_4_cent_carbonyl_stable_high_model.com\" target = \"_blank\">com</a></td><td><input type=\"button\" value=\"Smart Log\" id=\"o2_upm6_UB3LYP_631Gd_4_4_cent_carbonyl_stable_high_model\" onclick=\"view_function(event, this.id)\" /></td><td>Success</td><td></td></tr><tr><td>o2_uHF_STO-3G_UB3LYP_631Gd_4_4_cent_carbonyl_stable_high_model</td><td><a href = \"files/unrestricted_cycloadd_oniom/o2_uHF_STO-3G_UB3LYP_631Gd_4_4_cent_carbonyl_stable_high_model.com\" target = \"_blank\">com</a></td><td><input type=\"button\" value=\"Smart Log\" id=\"o2_uHF_STO-3G_UB3LYP_631Gd_4_4_cent_carbonyl_stable_high_model\" onclick=\"view_function(event, this.id)\" /></td><td>Success</td><td></td></tr><tr><td>o3_uam1_UB3LYP_631Gd_4_4_cent_carbonyl_stable_high_model</td><td><a href = \"files/unrestricted_cycloadd_oniom/o3_uam1_UB3LYP_631Gd_4_4_cent_carbonyl_stable_high_model.com\" target = \"_blank\">com</a></td><td><input type=\"button\" value=\"Smart Log\" id=\"o3_uam1_UB3LYP_631Gd_4_4_cent_carbonyl_stable_high_model\" onclick=\"view_function(event, this.id)\" /></td><td>Success</td><td> The wavefunction has an internal instability.\n",
        "</td></tr><tr><td>o3_upm6_UB3LYP_631Gd_4_4_cent_carbonyl_stable_high_model</td><td><a href = \"files/unrestricted_cycloadd_oniom/o3_upm6_UB3LYP_631Gd_4_4_cent_carbonyl_stable_high_model.com\" target = \"_blank\">com</a></td><td><input type=\"button\" value=\"Smart Log\" id=\"o3_upm6_UB3LYP_631Gd_4_4_cent_carbonyl_stable_high_model\" onclick=\"view_function(event, this.id)\" /></td><td>Success</td><td> The wavefunction has an internal instability.\n",
        "</td></tr><tr><td>o3_uHF_STO-3G_UB3LYP_631Gd_4_4_cent_carbonyl_stable_high_model</td><td><a href = \"files/unrestricted_cycloadd_oniom/o3_uHF_STO-3G_UB3LYP_631Gd_4_4_cent_carbonyl_stable_high_model.com\" target = \"_blank\">com</a></td><td><input type=\"button\" value=\"Smart Log\" id=\"o3_uHF_STO-3G_UB3LYP_631Gd_4_4_cent_carbonyl_stable_high_model\" onclick=\"view_function(event, this.id)\" /></td><td>Success</td><td> The wavefunction has an internal instability.\n",
        "</td></tr><tr><td>o4_uam1_UB3LYP_631Gd_4_4_cent_carbonyl_stable_high_model</td><td><a href = \"files/unrestricted_cycloadd_oniom/o4_uam1_UB3LYP_631Gd_4_4_cent_carbonyl_stable_high_model.com\" target = \"_blank\">com</a></td><td><input type=\"button\" value=\"Smart Log\" id=\"o4_uam1_UB3LYP_631Gd_4_4_cent_carbonyl_stable_high_model\" onclick=\"view_function(event, this.id)\" /></td><td>Success</td><td> The wavefunction has an internal instability.\n",
        "</td></tr><tr><td>o4_upm6_UB3LYP_631Gd_4_4_cent_carbonyl_stable_high_model</td><td><a href = \"files/unrestricted_cycloadd_oniom/o4_upm6_UB3LYP_631Gd_4_4_cent_carbonyl_stable_high_model.com\" target = \"_blank\">com</a></td><td><input type=\"button\" value=\"Smart Log\" id=\"o4_upm6_UB3LYP_631Gd_4_4_cent_carbonyl_stable_high_model\" onclick=\"view_function(event, this.id)\" /></td><td>Success</td><td> The wavefunction has an internal instability.\n",
        "</td></tr><tr><td>o4_uHF_STO-3G_UB3LYP_631Gd_4_4_cent_carbonyl_stable_high_model</td><td><a href = \"files/unrestricted_cycloadd_oniom/o4_uHF_STO-3G_UB3LYP_631Gd_4_4_cent_carbonyl_stable_high_model.com\" target = \"_blank\">com</a></td><td><input type=\"button\" value=\"Smart Log\" id=\"o4_uHF_STO-3G_UB3LYP_631Gd_4_4_cent_carbonyl_stable_high_model\" onclick=\"view_function(event, this.id)\" /></td><td>Success</td><td> The wavefunction has an internal instability.\n",
        "</td></tr><tr><td>o_sanity_UB3LYP_631Gd_4_4_cent_carbonyl_stable_high_model</td><td><a href = \"files/unrestricted_cycloadd_oniom/o_sanity_UB3LYP_631Gd_4_4_cent_carbonyl_stable_high_model.com\" target = \"_blank\">com</a></td><td><input type=\"button\" value=\"Smart Log\" id=\"o_sanity_UB3LYP_631Gd_4_4_cent_carbonyl_stable_high_model\" onclick=\"view_function(event, this.id)\" /></td><td>Success</td><td></td></tr><tr><td>o0_uam1_UB3LYP_631Gd_4_4_graphene_stable_low_model</td><td><a href = \"files/unrestricted_cycloadd_oniom/o0_uam1_UB3LYP_631Gd_4_4_graphene_stable_low_model.com\" target = \"_blank\">com</a></td><td><input type=\"button\" value=\"Smart Log\" id=\"o0_uam1_UB3LYP_631Gd_4_4_graphene_stable_low_model\" onclick=\"view_function(event, this.id)\" /></td><td>Success</td><td> The wavefunction has an internal instability.\n",
        "</td></tr><tr><td>o0_upm6_UB3LYP_631Gd_4_4_graphene_stable_low_model</td><td><a href = \"files/unrestricted_cycloadd_oniom/o0_upm6_UB3LYP_631Gd_4_4_graphene_stable_low_model.com\" target = \"_blank\">com</a></td><td><input type=\"button\" value=\"Smart Log\" id=\"o0_upm6_UB3LYP_631Gd_4_4_graphene_stable_low_model\" onclick=\"view_function(event, this.id)\" /></td><td>Success</td><td></td></tr><tr><td>o0_uHF_STO-3G_UB3LYP_631Gd_4_4_graphene_stable_low_model</td><td><a href = \"files/unrestricted_cycloadd_oniom/o0_uHF_STO-3G_UB3LYP_631Gd_4_4_graphene_stable_low_model.com\" target = \"_blank\">com</a></td><td><input type=\"button\" value=\"Smart Log\" id=\"o0_uHF_STO-3G_UB3LYP_631Gd_4_4_graphene_stable_low_model\" onclick=\"view_function(event, this.id)\" /></td><td>Success</td><td> The wavefunction has an internal instability.\n",
        "</td></tr><tr><td>o1_uam1_UB3LYP_631Gd_4_4_graphene_stable_low_model</td><td><a href = \"files/unrestricted_cycloadd_oniom/o1_uam1_UB3LYP_631Gd_4_4_graphene_stable_low_model.com\" target = \"_blank\">com</a></td><td><input type=\"button\" value=\"Smart Log\" id=\"o1_uam1_UB3LYP_631Gd_4_4_graphene_stable_low_model\" onclick=\"view_function(event, this.id)\" /></td><td>Success</td><td> The wavefunction has an internal instability.\n",
        "</td></tr><tr><td>o1_upm6_UB3LYP_631Gd_4_4_graphene_stable_low_model</td><td><a href = \"files/unrestricted_cycloadd_oniom/o1_upm6_UB3LYP_631Gd_4_4_graphene_stable_low_model.com\" target = \"_blank\">com</a></td><td><input type=\"button\" value=\"Smart Log\" id=\"o1_upm6_UB3LYP_631Gd_4_4_graphene_stable_low_model\" onclick=\"view_function(event, this.id)\" /></td><td>Success</td><td> The wavefunction has an internal instability.\n",
        "</td></tr><tr><td>o1_uHF_STO-3G_UB3LYP_631Gd_4_4_graphene_stable_low_model</td><td><a href = \"files/unrestricted_cycloadd_oniom/o1_uHF_STO-3G_UB3LYP_631Gd_4_4_graphene_stable_low_model.com\" target = \"_blank\">com</a></td><td><input type=\"button\" value=\"Smart Log\" id=\"o1_uHF_STO-3G_UB3LYP_631Gd_4_4_graphene_stable_low_model\" onclick=\"view_function(event, this.id)\" /></td><td>Success</td><td> The wavefunction has an internal instability.\n",
        "</td></tr><tr><td>o2_uam1_UB3LYP_631Gd_4_4_graphene_stable_low_model</td><td><a href = \"files/unrestricted_cycloadd_oniom/o2_uam1_UB3LYP_631Gd_4_4_graphene_stable_low_model.com\" target = \"_blank\">com</a></td><td><input type=\"button\" value=\"Smart Log\" id=\"o2_uam1_UB3LYP_631Gd_4_4_graphene_stable_low_model\" onclick=\"view_function(event, this.id)\" /></td><td>Success</td><td> The wavefunction has an internal instability.\n",
        "</td></tr><tr><td>o2_upm6_UB3LYP_631Gd_4_4_graphene_stable_low_model</td><td><a href = \"files/unrestricted_cycloadd_oniom/o2_upm6_UB3LYP_631Gd_4_4_graphene_stable_low_model.com\" target = \"_blank\">com</a></td><td><input type=\"button\" value=\"Smart Log\" id=\"o2_upm6_UB3LYP_631Gd_4_4_graphene_stable_low_model\" onclick=\"view_function(event, this.id)\" /></td><td>Success</td><td> The wavefunction has an internal instability.\n",
        "</td></tr><tr><td>o2_uHF_STO-3G_UB3LYP_631Gd_4_4_graphene_stable_low_model</td><td><a href = \"files/unrestricted_cycloadd_oniom/o2_uHF_STO-3G_UB3LYP_631Gd_4_4_graphene_stable_low_model.com\" target = \"_blank\">com</a></td><td><input type=\"button\" value=\"Smart Log\" id=\"o2_uHF_STO-3G_UB3LYP_631Gd_4_4_graphene_stable_low_model\" onclick=\"view_function(event, this.id)\" /></td><td>Success</td><td> The wavefunction has an internal instability.\n",
        "</td></tr><tr><td>o3_uam1_UB3LYP_631Gd_4_4_graphene_stable_low_model</td><td><a href = \"files/unrestricted_cycloadd_oniom/o3_uam1_UB3LYP_631Gd_4_4_graphene_stable_low_model.com\" target = \"_blank\">com</a></td><td><input type=\"button\" value=\"Smart Log\" id=\"o3_uam1_UB3LYP_631Gd_4_4_graphene_stable_low_model\" onclick=\"view_function(event, this.id)\" /></td><td>Success</td><td> The wavefunction has an internal instability.\n",
        "</td></tr><tr><td>o3_upm6_UB3LYP_631Gd_4_4_graphene_stable_low_model</td><td><a href = \"files/unrestricted_cycloadd_oniom/o3_upm6_UB3LYP_631Gd_4_4_graphene_stable_low_model.com\" target = \"_blank\">com</a></td><td><input type=\"button\" value=\"Smart Log\" id=\"o3_upm6_UB3LYP_631Gd_4_4_graphene_stable_low_model\" onclick=\"view_function(event, this.id)\" /></td><td>Success</td><td> The wavefunction has an internal instability.\n",
        "</td></tr><tr><td>o3_uHF_STO-3G_UB3LYP_631Gd_4_4_graphene_stable_low_model</td><td><a href = \"files/unrestricted_cycloadd_oniom/o3_uHF_STO-3G_UB3LYP_631Gd_4_4_graphene_stable_low_model.com\" target = \"_blank\">com</a></td><td><input type=\"button\" value=\"Smart Log\" id=\"o3_uHF_STO-3G_UB3LYP_631Gd_4_4_graphene_stable_low_model\" onclick=\"view_function(event, this.id)\" /></td><td>Success</td><td> The wavefunction has an internal instability.\n",
        "</td></tr><tr><td>o4_uam1_UB3LYP_631Gd_4_4_graphene_stable_low_model</td><td><a href = \"files/unrestricted_cycloadd_oniom/o4_uam1_UB3LYP_631Gd_4_4_graphene_stable_low_model.com\" target = \"_blank\">com</a></td><td><input type=\"button\" value=\"Smart Log\" id=\"o4_uam1_UB3LYP_631Gd_4_4_graphene_stable_low_model\" onclick=\"view_function(event, this.id)\" /></td><td>Success</td><td> The wavefunction has an internal instability.\n",
        "</td></tr><tr><td>o4_upm6_UB3LYP_631Gd_4_4_graphene_stable_low_model</td><td><a href = \"files/unrestricted_cycloadd_oniom/o4_upm6_UB3LYP_631Gd_4_4_graphene_stable_low_model.com\" target = \"_blank\">com</a></td><td><input type=\"button\" value=\"Smart Log\" id=\"o4_upm6_UB3LYP_631Gd_4_4_graphene_stable_low_model\" onclick=\"view_function(event, this.id)\" /></td><td>Success</td><td> The wavefunction has an internal instability.\n",
        "</td></tr><tr><td>o4_uHF_STO-3G_UB3LYP_631Gd_4_4_graphene_stable_low_model</td><td><a href = \"files/unrestricted_cycloadd_oniom/o4_uHF_STO-3G_UB3LYP_631Gd_4_4_graphene_stable_low_model.com\" target = \"_blank\">com</a></td><td><input type=\"button\" value=\"Smart Log\" id=\"o4_uHF_STO-3G_UB3LYP_631Gd_4_4_graphene_stable_low_model\" onclick=\"view_function(event, this.id)\" /></td><td>Success</td><td> The wavefunction has an internal instability.\n",
        "</td></tr><tr><td>o_sanity_UB3LYP_631Gd_4_4_graphene_stable_low_model</td><td><a href = \"files/unrestricted_cycloadd_oniom/o_sanity_UB3LYP_631Gd_4_4_graphene_stable_low_model.com\" target = \"_blank\">com</a></td><td><input type=\"button\" value=\"Smart Log\" id=\"o_sanity_UB3LYP_631Gd_4_4_graphene_stable_low_model\" onclick=\"view_function(event, this.id)\" /></td><td>Error: TCursr= 1046 LCursr=   43</td><td></td></tr><tr><td>o0_uam1_UB3LYP_631Gd_4_4_cent_carbonyl_stable_low_model</td><td><a href = \"files/unrestricted_cycloadd_oniom/o0_uam1_UB3LYP_631Gd_4_4_cent_carbonyl_stable_low_model.com\" target = \"_blank\">com</a></td><td><input type=\"button\" value=\"Smart Log\" id=\"o0_uam1_UB3LYP_631Gd_4_4_cent_carbonyl_stable_low_model\" onclick=\"view_function(event, this.id)\" /></td><td>Success</td><td></td></tr><tr><td>o0_upm6_UB3LYP_631Gd_4_4_cent_carbonyl_stable_low_model</td><td><a href = \"files/unrestricted_cycloadd_oniom/o0_upm6_UB3LYP_631Gd_4_4_cent_carbonyl_stable_low_model.com\" target = \"_blank\">com</a></td><td><input type=\"button\" value=\"Smart Log\" id=\"o0_upm6_UB3LYP_631Gd_4_4_cent_carbonyl_stable_low_model\" onclick=\"view_function(event, this.id)\" /></td><td>Success</td><td></td></tr><tr><td>o0_uHF_STO-3G_UB3LYP_631Gd_4_4_cent_carbonyl_stable_low_model</td><td><a href = \"files/unrestricted_cycloadd_oniom/o0_uHF_STO-3G_UB3LYP_631Gd_4_4_cent_carbonyl_stable_low_model.com\" target = \"_blank\">com</a></td><td><input type=\"button\" value=\"Smart Log\" id=\"o0_uHF_STO-3G_UB3LYP_631Gd_4_4_cent_carbonyl_stable_low_model\" onclick=\"view_function(event, this.id)\" /></td><td>Success</td><td></td></tr><tr><td>o1_uam1_UB3LYP_631Gd_4_4_cent_carbonyl_stable_low_model</td><td><a href = \"files/unrestricted_cycloadd_oniom/o1_uam1_UB3LYP_631Gd_4_4_cent_carbonyl_stable_low_model.com\" target = \"_blank\">com</a></td><td><input type=\"button\" value=\"Smart Log\" id=\"o1_uam1_UB3LYP_631Gd_4_4_cent_carbonyl_stable_low_model\" onclick=\"view_function(event, this.id)\" /></td><td>Success</td><td> The wavefunction has an internal instability.\n",
        "</td></tr><tr><td>o1_upm6_UB3LYP_631Gd_4_4_cent_carbonyl_stable_low_model</td><td><a href = \"files/unrestricted_cycloadd_oniom/o1_upm6_UB3LYP_631Gd_4_4_cent_carbonyl_stable_low_model.com\" target = \"_blank\">com</a></td><td><input type=\"button\" value=\"Smart Log\" id=\"o1_upm6_UB3LYP_631Gd_4_4_cent_carbonyl_stable_low_model\" onclick=\"view_function(event, this.id)\" /></td><td>Success</td><td> The wavefunction has an internal instability.\n",
        "</td></tr><tr><td>o1_uHF_STO-3G_UB3LYP_631Gd_4_4_cent_carbonyl_stable_low_model</td><td><a href = \"files/unrestricted_cycloadd_oniom/o1_uHF_STO-3G_UB3LYP_631Gd_4_4_cent_carbonyl_stable_low_model.com\" target = \"_blank\">com</a></td><td><input type=\"button\" value=\"Smart Log\" id=\"o1_uHF_STO-3G_UB3LYP_631Gd_4_4_cent_carbonyl_stable_low_model\" onclick=\"view_function(event, this.id)\" /></td><td>Success</td><td> The wavefunction has an internal instability.\n",
        "</td></tr><tr><td>o2_uam1_UB3LYP_631Gd_4_4_cent_carbonyl_stable_low_model</td><td><a href = \"files/unrestricted_cycloadd_oniom/o2_uam1_UB3LYP_631Gd_4_4_cent_carbonyl_stable_low_model.com\" target = \"_blank\">com</a></td><td><input type=\"button\" value=\"Smart Log\" id=\"o2_uam1_UB3LYP_631Gd_4_4_cent_carbonyl_stable_low_model\" onclick=\"view_function(event, this.id)\" /></td><td>Success</td><td> The wavefunction has an internal instability.\n",
        "</td></tr><tr><td>o2_upm6_UB3LYP_631Gd_4_4_cent_carbonyl_stable_low_model</td><td><a href = \"files/unrestricted_cycloadd_oniom/o2_upm6_UB3LYP_631Gd_4_4_cent_carbonyl_stable_low_model.com\" target = \"_blank\">com</a></td><td><input type=\"button\" value=\"Smart Log\" id=\"o2_upm6_UB3LYP_631Gd_4_4_cent_carbonyl_stable_low_model\" onclick=\"view_function(event, this.id)\" /></td><td>Success</td><td> The wavefunction has an internal instability.\n",
        "</td></tr><tr><td>o2_uHF_STO-3G_UB3LYP_631Gd_4_4_cent_carbonyl_stable_low_model</td><td><a href = \"files/unrestricted_cycloadd_oniom/o2_uHF_STO-3G_UB3LYP_631Gd_4_4_cent_carbonyl_stable_low_model.com\" target = \"_blank\">com</a></td><td><input type=\"button\" value=\"Smart Log\" id=\"o2_uHF_STO-3G_UB3LYP_631Gd_4_4_cent_carbonyl_stable_low_model\" onclick=\"view_function(event, this.id)\" /></td><td>Success</td><td> The wavefunction has an internal instability.\n",
        "</td></tr><tr><td>o3_uam1_UB3LYP_631Gd_4_4_cent_carbonyl_stable_low_model</td><td><a href = \"files/unrestricted_cycloadd_oniom/o3_uam1_UB3LYP_631Gd_4_4_cent_carbonyl_stable_low_model.com\" target = \"_blank\">com</a></td><td><input type=\"button\" value=\"Smart Log\" id=\"o3_uam1_UB3LYP_631Gd_4_4_cent_carbonyl_stable_low_model\" onclick=\"view_function(event, this.id)\" /></td><td>Success</td><td> The wavefunction has an internal instability.\n",
        "</td></tr><tr><td>o3_upm6_UB3LYP_631Gd_4_4_cent_carbonyl_stable_low_model</td><td><a href = \"files/unrestricted_cycloadd_oniom/o3_upm6_UB3LYP_631Gd_4_4_cent_carbonyl_stable_low_model.com\" target = \"_blank\">com</a></td><td><input type=\"button\" value=\"Smart Log\" id=\"o3_upm6_UB3LYP_631Gd_4_4_cent_carbonyl_stable_low_model\" onclick=\"view_function(event, this.id)\" /></td><td>Success</td><td> The wavefunction has an internal instability.\n",
        "</td></tr><tr><td>o3_uHF_STO-3G_UB3LYP_631Gd_4_4_cent_carbonyl_stable_low_model</td><td><a href = \"files/unrestricted_cycloadd_oniom/o3_uHF_STO-3G_UB3LYP_631Gd_4_4_cent_carbonyl_stable_low_model.com\" target = \"_blank\">com</a></td><td><input type=\"button\" value=\"Smart Log\" id=\"o3_uHF_STO-3G_UB3LYP_631Gd_4_4_cent_carbonyl_stable_low_model\" onclick=\"view_function(event, this.id)\" /></td><td>Success</td><td> The wavefunction has an internal instability.\n",
        "</td></tr><tr><td>o4_uam1_UB3LYP_631Gd_4_4_cent_carbonyl_stable_low_model</td><td><a href = \"files/unrestricted_cycloadd_oniom/o4_uam1_UB3LYP_631Gd_4_4_cent_carbonyl_stable_low_model.com\" target = \"_blank\">com</a></td><td><input type=\"button\" value=\"Smart Log\" id=\"o4_uam1_UB3LYP_631Gd_4_4_cent_carbonyl_stable_low_model\" onclick=\"view_function(event, this.id)\" /></td><td>Success</td><td> The wavefunction has an internal instability.\n",
        "</td></tr><tr><td>o4_upm6_UB3LYP_631Gd_4_4_cent_carbonyl_stable_low_model</td><td><a href = \"files/unrestricted_cycloadd_oniom/o4_upm6_UB3LYP_631Gd_4_4_cent_carbonyl_stable_low_model.com\" target = \"_blank\">com</a></td><td><input type=\"button\" value=\"Smart Log\" id=\"o4_upm6_UB3LYP_631Gd_4_4_cent_carbonyl_stable_low_model\" onclick=\"view_function(event, this.id)\" /></td><td>Success</td><td> The wavefunction has an internal instability.\n",
        "</td></tr><tr><td>o4_uHF_STO-3G_UB3LYP_631Gd_4_4_cent_carbonyl_stable_low_model</td><td><a href = \"files/unrestricted_cycloadd_oniom/o4_uHF_STO-3G_UB3LYP_631Gd_4_4_cent_carbonyl_stable_low_model.com\" target = \"_blank\">com</a></td><td><input type=\"button\" value=\"Smart Log\" id=\"o4_uHF_STO-3G_UB3LYP_631Gd_4_4_cent_carbonyl_stable_low_model\" onclick=\"view_function(event, this.id)\" /></td><td>Success</td><td> The wavefunction has an internal instability.\n",
        "</td></tr><tr><td>o_sanity_UB3LYP_631Gd_4_4_cent_carbonyl_stable_low_model</td><td><a href = \"files/unrestricted_cycloadd_oniom/o_sanity_UB3LYP_631Gd_4_4_cent_carbonyl_stable_low_model.com\" target = \"_blank\">com</a></td><td><input type=\"button\" value=\"Smart Log\" id=\"o_sanity_UB3LYP_631Gd_4_4_cent_carbonyl_stable_low_model\" onclick=\"view_function(event, this.id)\" /></td><td>Error: TCursr= 1046 LCursr=   43</td><td></td></tr>\n",
        "    </table>\n",
        "    </body>"
       ],
       "output_type": "pyout",
       "prompt_number": 13,
       "text": [
        "<IPython.core.display.HTML at 0x2887110>"
       ]
      }
     ],
     "prompt_number": 13
    },
    {
     "cell_type": "markdown",
     "metadata": {},
     "source": [
      "Bug in the oniom =InputOnly command if low method ends in a bracket e.g. the sanity calculation where method='oniom(B3LYP/6-31G(d):B3LYP/6-31G(d<font color=red size=5>)</font>)': Produces: 'UB3LYP/6-31G(D stable=opt Geom=Connect' for the new input file. I.e. capitalizes the d but does not close the bracket."
     ]
    },
    {
     "cell_type": "raw",
     "metadata": {},
     "source": [
      "Carbonyl\n",
      "Low real:  Internal instability\n",
      "o0 models: Stable\n",
      "o1 models: B3LYP: Stable,     HF, am1, pm6: Internal instability\n",
      "o2 models: B3LYP: Stable,     HF, am1, pm6: Internal instability\n",
      "o3 models: Internal instability\n",
      "o4 models: Internal instability    "
     ]
    },
    {
     "cell_type": "raw",
     "metadata": {},
     "source": [
      "Graphene\n",
      "Low real:  Internal instability\n",
      "o0 models: B3LYP,PM6: Stable, AM1,HF: Internal Instability\n",
      "o1 models: B3LYP: Stable, AM1,PM6,HF: Internal Instability\n",
      "o2 models: B3LYP: Stable, AM1,PM6,HF: Internal Instability\n",
      "o3 models: Internal Instability\n",
      "o4 models: B3LYP:Stable, AM1,PM6,HF: Internal Instability"
     ]
    },
    {
     "cell_type": "code",
     "collapsed": false,
     "input": [
      "ul_rls = [e if e.calc.status=='Success' else None for e in ul_rls]\n",
      "uh_mds = [e if e.calc.status=='Success' else None for e in uh_mds]\n",
      "ul_mss = [e if e.calc.status=='Success' else None for e in ul_mds]"
     ],
     "language": "python",
     "metadata": {},
     "outputs": [],
     "prompt_number": 14
    },
    {
     "cell_type": "code",
     "collapsed": false,
     "input": [
      "for i, c in enumerate(o_44 + o_44_carb):\n",
      "    c.calc.restart(remove_label='stable', method=c.calc.method.replace('=InputFilesOnly', ''), component_calcs = zip(ul_rls, uh_mds, ul_mds)[i])\n",
      "    c.calc.set_job(nodes=8, memory = 8*1400, time=5, queue='pqmb')\n",
      "    #c.calc.start()"
     ],
     "language": "python",
     "metadata": {},
     "outputs": [],
     "prompt_number": 15
    },
    {
     "cell_type": "code",
     "collapsed": false,
     "input": [
      "check_calcs(o_44+ o_44_carb)"
     ],
     "language": "python",
     "metadata": {},
     "outputs": [
      {
       "output_type": "pyout",
       "prompt_number": 16,
       "text": [
        "[Atoms(symbols='C48H18', positions=..., cell=[1.0, 1.0, 1.0], pbc=[False, False, False], calculator=Gaussian(...)),\n",
        " Atoms(symbols='C50H22O', positions=..., cell=[1.0, 1.0, 1.0], pbc=[False, False, False], calculator=Gaussian(...))]"
       ]
      }
     ],
     "prompt_number": 16
    },
    {
     "cell_type": "markdown",
     "metadata": {},
     "source": [
      "Try multiplicity 3"
     ]
    },
    {
     "cell_type": "code",
     "collapsed": false,
     "input": [
      "o_44_carb_m3 = []\n",
      "o_44_m3 = []\n",
      "\n",
      "for siz in range(5):\n",
      "    for meth in l_methods:\n",
      "        graph_ylid = read(carb_44_xyz)\n",
      "        graph_ylid_name = 'o{s}_{m}_UB3LYP_631Gd_4_4_cent_carbonyl_mult_3'.format(m=meth.replace('/', '_'), s=siz)\n",
      "        graph_ylid.set_calculator(Gaussian(label=graph_ylid_name, method='oniom(UB3LYP/6-31G(d):{l})'.format(l=meth), basis='oniom'))\n",
      "        graph_ylid_H = ylide_atoms + graph_atoms[siz]\n",
      "        graph_ylid.calc.oniom_coord_params['layers'] = [[no -1 for no in graph_ylid_H]]\n",
      "        graph_ylid.calc.oniom_coord_params['layer_mults'] = [3,3]\n",
      "        graph_ylid.calc.set_job(nodes=8, memory=8*1400, time=5, queue='pqchem')\n",
      "        \n",
      "        graph = read(graph_44_xyz)\n",
      "        graph_name = 'o{s}_{m}_UB3LYP_631Gd_4_4_graphene_mult_3'.format(m=meth.replace('/', '_'), s=siz)\n",
      "        graph.set_calculator(Gaussian(label=graph_name, method='oniom(UB3LYP/6-31G(d):{l})'.format(l=meth), basis='oniom'))\n",
      "        graph_H = graph_atoms[siz]\n",
      "        graph.calc.oniom_coord_params['layers'] = [[no -1 for no in graph_H]]\n",
      "        graph.calc.oniom_coord_params['layer_mults'] = [3,3]\n",
      "        graph.calc.set_job(nodes=8, memory=8*1400, time=5, queue='pqchem')\n",
      "        \n",
      "        #graph_ylid.calc.start()\n",
      "        #graph.calc.start()\n",
      "        o_44_carb_m3.append(graph_ylid)\n",
      "        o_44_m3.append(graph)"
     ],
     "language": "python",
     "metadata": {},
     "outputs": [],
     "prompt_number": 17
    },
    {
     "cell_type": "code",
     "collapsed": false,
     "input": [
      "#sanity check\n",
      "graph_ylid = read(carb_44_xyz)\n",
      "graph_ylid_name = 'o_sanity_UB3LYP_631Gd_4_4_cent_carbonyl'\n",
      "graph_ylid.set_calculator(Gaussian(label=graph_ylid_name, method='oniom(UB3LYP/6-31G(d):UB3LYP/6-31G(d))', basis='oniom'))\n",
      "graph_ylid_H = ylide_atoms + graph_atoms[0]\n",
      "graph_ylid.calc.oniom_coord_params['layers'] = [[no -1 for no in graph_ylid_H]]\n",
      "graph_ylid.calc.oniom_coord_params['layer_mults'] = [3,3]\n",
      "graph_ylid.calc.set_job(nodes=8, memory=8*1400, time=5, queue='pqchem')\n",
      "        \n",
      "graph = read(graph_44_xyz)\n",
      "graph_name = 'o_sanity_UB3LYP_631Gd_4_4_graphene'\n",
      "graph.set_calculator(Gaussian(label=graph_name, method='oniom(UB3LYP/6-31G(d):UB3LYP/6-31G(d))', basis='oniom'))\n",
      "graph_H = graph_atoms[0]\n",
      "graph.calc.oniom_coord_params['layers'] = [[no -1 for no in graph_H]]\n",
      "graph.calc.oniom_coord_params['layer_mults'] = [3,3]\n",
      "graph.calc.set_job(nodes=8, memory=8*1400, time=5, queue='pqchem')\n",
      "        \n",
      "#graph_ylid.calc.start()\n",
      "#graph.calc.start()\n",
      "o_44_carb_m3.append(graph_ylid)\n",
      "o_44_m3.append(graph)"
     ],
     "language": "python",
     "metadata": {},
     "outputs": [],
     "prompt_number": 18
    },
    {
     "cell_type": "code",
     "collapsed": false,
     "input": [
      "check_calcs(o_44_m3 + o_44_carb_m3)"
     ],
     "language": "python",
     "metadata": {},
     "outputs": [
      {
       "output_type": "pyout",
       "prompt_number": 19,
       "text": [
        "'Calculations complete'"
       ]
      }
     ],
     "prompt_number": 19
    },
    {
     "cell_type": "markdown",
     "metadata": {},
     "source": [
      "Check stability:"
     ]
    },
    {
     "cell_type": "code",
     "collapsed": false,
     "input": [
      "o_44_carb_m3_stable, o_44_m3_stable = copy.deepcopy(o_44_carb_m3), copy.deepcopy(o_44_m3)\n",
      "for m in o_44_carb_m3_stable + o_44_m3_stable:\n",
      "    m.calc.restart(add_label='stable_gen', method= m.calc.method + '=OnlyInputFiles')\n",
      "    m.calc.set_job(nodes=1, memory=400, time=1, queue='pqmb')\n",
      "    #m.calc.start()\n",
      "check_calcs(o_44_carb_m3_stable + o_44_m3_stable) \n",
      "l_rls, h_mds, l_mds = oniom_utils.oniom_comp_calcs(o_44_carb_m3_stable + o_44_m3_stable)\n",
      "for c in l_rls + h_mds + l_mds:\n",
      "    c.calc.set_job(nodes=8, memory=8*1400, time=5, queue='pqmb')\n",
      "    #c.calc.start()   \n",
      "check_calcs(l_rls + h_mds + l_mds) \n",
      "mols_to_html(l_rls + h_mds + l_mds)"
     ],
     "language": "python",
     "metadata": {},
     "outputs": [
      {
       "html": [
        "\n",
        "           <script type=\"text/javascript\">\n",
        "           function view_function (event, file_n) {\n",
        "               if (event.ctrlKey && event.shiftKey){\n",
        "                   IPython.notebook.kernel.execute(\"cc_notebook_utils.pygview('\" + file_n + \".log')\");\n",
        "               }\n",
        "               else if (event.ctrlKey){\n",
        "                   IPython.notebook.kernel.execute(\"cc_notebook_utils.pygausssum('\" + file_n + \".log')\");\n",
        "               }\n",
        "               else if (event.shiftKey){\n",
        "                   IPython.notebook.kernel.execute(\"cc_notebook_utils.pyvogadro('\" + file_n + \".log')\");\n",
        "               }\n",
        "               else IPython.notebook.kernel.execute(\"cc_notebook_utils.pyvim('\" + file_n + \".log')\");\n",
        "           }\n",
        "           </script>\n",
        "    <style>\n",
        "    table\n",
        "    {\n",
        "        border-collapse:collapse;\n",
        "    }\n",
        "    td\n",
        "    {\n",
        "        padding:15px;\n",
        "    }\n",
        "    </style>\n",
        "    <body>\n",
        "    <table bgcolor=\"white\">\n",
        "    <col/><tr><td>o0_uam1_UB3LYP_631Gd_4_4_cent_carbonyl_mult_3_stable_gen_restart_1_low_real</td><td><a href = \"files/unrestricted_cycloadd_oniom/o0_uam1_UB3LYP_631Gd_4_4_cent_carbonyl_mult_3_stable_gen_restart_1_low_real.com\" target = \"_blank\">com</a></td><td><input type=\"button\" value=\"Smart Log\" id=\"o0_uam1_UB3LYP_631Gd_4_4_cent_carbonyl_mult_3_stable_gen_restart_1_low_real\" onclick=\"view_function(event, this.id)\" /></td><td>Success</td><td></td></tr><tr><td>o0_upm6_UB3LYP_631Gd_4_4_cent_carbonyl_mult_3_stable_gen_restart_1_low_real</td><td><a href = \"files/unrestricted_cycloadd_oniom/o0_upm6_UB3LYP_631Gd_4_4_cent_carbonyl_mult_3_stable_gen_restart_1_low_real.com\" target = \"_blank\">com</a></td><td><input type=\"button\" value=\"Smart Log\" id=\"o0_upm6_UB3LYP_631Gd_4_4_cent_carbonyl_mult_3_stable_gen_restart_1_low_real\" onclick=\"view_function(event, this.id)\" /></td><td>Success</td><td></td></tr><tr><td>o0_uHF_STO-3G_UB3LYP_631Gd_4_4_cent_carbonyl_mult_3_stable_gen_restart_1_low_real</td><td><a href = \"files/unrestricted_cycloadd_oniom/o0_uHF_STO-3G_UB3LYP_631Gd_4_4_cent_carbonyl_mult_3_stable_gen_restart_1_low_real.com\" target = \"_blank\">com</a></td><td><input type=\"button\" value=\"Smart Log\" id=\"o0_uHF_STO-3G_UB3LYP_631Gd_4_4_cent_carbonyl_mult_3_stable_gen_restart_1_low_real\" onclick=\"view_function(event, this.id)\" /></td><td>Success</td><td> The wavefunction has an internal instability.\n",
        "</td></tr><tr><td>o1_uam1_UB3LYP_631Gd_4_4_cent_carbonyl_mult_3_stable_gen_restart_1_low_real</td><td><a href = \"files/unrestricted_cycloadd_oniom/o1_uam1_UB3LYP_631Gd_4_4_cent_carbonyl_mult_3_stable_gen_restart_1_low_real.com\" target = \"_blank\">com</a></td><td><input type=\"button\" value=\"Smart Log\" id=\"o1_uam1_UB3LYP_631Gd_4_4_cent_carbonyl_mult_3_stable_gen_restart_1_low_real\" onclick=\"view_function(event, this.id)\" /></td><td>Success</td><td></td></tr><tr><td>o1_upm6_UB3LYP_631Gd_4_4_cent_carbonyl_mult_3_stable_gen_restart_1_low_real</td><td><a href = \"files/unrestricted_cycloadd_oniom/o1_upm6_UB3LYP_631Gd_4_4_cent_carbonyl_mult_3_stable_gen_restart_1_low_real.com\" target = \"_blank\">com</a></td><td><input type=\"button\" value=\"Smart Log\" id=\"o1_upm6_UB3LYP_631Gd_4_4_cent_carbonyl_mult_3_stable_gen_restart_1_low_real\" onclick=\"view_function(event, this.id)\" /></td><td>Success</td><td></td></tr><tr><td>o1_uHF_STO-3G_UB3LYP_631Gd_4_4_cent_carbonyl_mult_3_stable_gen_restart_1_low_real</td><td><a href = \"files/unrestricted_cycloadd_oniom/o1_uHF_STO-3G_UB3LYP_631Gd_4_4_cent_carbonyl_mult_3_stable_gen_restart_1_low_real.com\" target = \"_blank\">com</a></td><td><input type=\"button\" value=\"Smart Log\" id=\"o1_uHF_STO-3G_UB3LYP_631Gd_4_4_cent_carbonyl_mult_3_stable_gen_restart_1_low_real\" onclick=\"view_function(event, this.id)\" /></td><td>Success</td><td> The wavefunction has an internal instability.\n",
        "</td></tr><tr><td>o2_uam1_UB3LYP_631Gd_4_4_cent_carbonyl_mult_3_stable_gen_restart_1_low_real</td><td><a href = \"files/unrestricted_cycloadd_oniom/o2_uam1_UB3LYP_631Gd_4_4_cent_carbonyl_mult_3_stable_gen_restart_1_low_real.com\" target = \"_blank\">com</a></td><td><input type=\"button\" value=\"Smart Log\" id=\"o2_uam1_UB3LYP_631Gd_4_4_cent_carbonyl_mult_3_stable_gen_restart_1_low_real\" onclick=\"view_function(event, this.id)\" /></td><td>Success</td><td></td></tr><tr><td>o2_upm6_UB3LYP_631Gd_4_4_cent_carbonyl_mult_3_stable_gen_restart_1_low_real</td><td><a href = \"files/unrestricted_cycloadd_oniom/o2_upm6_UB3LYP_631Gd_4_4_cent_carbonyl_mult_3_stable_gen_restart_1_low_real.com\" target = \"_blank\">com</a></td><td><input type=\"button\" value=\"Smart Log\" id=\"o2_upm6_UB3LYP_631Gd_4_4_cent_carbonyl_mult_3_stable_gen_restart_1_low_real\" onclick=\"view_function(event, this.id)\" /></td><td>Success</td><td></td></tr><tr><td>o2_uHF_STO-3G_UB3LYP_631Gd_4_4_cent_carbonyl_mult_3_stable_gen_restart_1_low_real</td><td><a href = \"files/unrestricted_cycloadd_oniom/o2_uHF_STO-3G_UB3LYP_631Gd_4_4_cent_carbonyl_mult_3_stable_gen_restart_1_low_real.com\" target = \"_blank\">com</a></td><td><input type=\"button\" value=\"Smart Log\" id=\"o2_uHF_STO-3G_UB3LYP_631Gd_4_4_cent_carbonyl_mult_3_stable_gen_restart_1_low_real\" onclick=\"view_function(event, this.id)\" /></td><td>Success</td><td> The wavefunction has an internal instability.\n",
        "</td></tr><tr><td>o3_uam1_UB3LYP_631Gd_4_4_cent_carbonyl_mult_3_stable_gen_restart_1_low_real</td><td><a href = \"files/unrestricted_cycloadd_oniom/o3_uam1_UB3LYP_631Gd_4_4_cent_carbonyl_mult_3_stable_gen_restart_1_low_real.com\" target = \"_blank\">com</a></td><td><input type=\"button\" value=\"Smart Log\" id=\"o3_uam1_UB3LYP_631Gd_4_4_cent_carbonyl_mult_3_stable_gen_restart_1_low_real\" onclick=\"view_function(event, this.id)\" /></td><td>Success</td><td></td></tr><tr><td>o3_upm6_UB3LYP_631Gd_4_4_cent_carbonyl_mult_3_stable_gen_restart_1_low_real</td><td><a href = \"files/unrestricted_cycloadd_oniom/o3_upm6_UB3LYP_631Gd_4_4_cent_carbonyl_mult_3_stable_gen_restart_1_low_real.com\" target = \"_blank\">com</a></td><td><input type=\"button\" value=\"Smart Log\" id=\"o3_upm6_UB3LYP_631Gd_4_4_cent_carbonyl_mult_3_stable_gen_restart_1_low_real\" onclick=\"view_function(event, this.id)\" /></td><td>Success</td><td></td></tr><tr><td>o3_uHF_STO-3G_UB3LYP_631Gd_4_4_cent_carbonyl_mult_3_stable_gen_restart_1_low_real</td><td><a href = \"files/unrestricted_cycloadd_oniom/o3_uHF_STO-3G_UB3LYP_631Gd_4_4_cent_carbonyl_mult_3_stable_gen_restart_1_low_real.com\" target = \"_blank\">com</a></td><td><input type=\"button\" value=\"Smart Log\" id=\"o3_uHF_STO-3G_UB3LYP_631Gd_4_4_cent_carbonyl_mult_3_stable_gen_restart_1_low_real\" onclick=\"view_function(event, this.id)\" /></td><td>Success</td><td> The wavefunction has an internal instability.\n",
        "</td></tr><tr><td>o4_uam1_UB3LYP_631Gd_4_4_cent_carbonyl_mult_3_stable_gen_restart_1_low_real</td><td><a href = \"files/unrestricted_cycloadd_oniom/o4_uam1_UB3LYP_631Gd_4_4_cent_carbonyl_mult_3_stable_gen_restart_1_low_real.com\" target = \"_blank\">com</a></td><td><input type=\"button\" value=\"Smart Log\" id=\"o4_uam1_UB3LYP_631Gd_4_4_cent_carbonyl_mult_3_stable_gen_restart_1_low_real\" onclick=\"view_function(event, this.id)\" /></td><td>Success</td><td></td></tr><tr><td>o4_upm6_UB3LYP_631Gd_4_4_cent_carbonyl_mult_3_stable_gen_restart_1_low_real</td><td><a href = \"files/unrestricted_cycloadd_oniom/o4_upm6_UB3LYP_631Gd_4_4_cent_carbonyl_mult_3_stable_gen_restart_1_low_real.com\" target = \"_blank\">com</a></td><td><input type=\"button\" value=\"Smart Log\" id=\"o4_upm6_UB3LYP_631Gd_4_4_cent_carbonyl_mult_3_stable_gen_restart_1_low_real\" onclick=\"view_function(event, this.id)\" /></td><td>Success</td><td></td></tr><tr><td>o4_uHF_STO-3G_UB3LYP_631Gd_4_4_cent_carbonyl_mult_3_stable_gen_restart_1_low_real</td><td><a href = \"files/unrestricted_cycloadd_oniom/o4_uHF_STO-3G_UB3LYP_631Gd_4_4_cent_carbonyl_mult_3_stable_gen_restart_1_low_real.com\" target = \"_blank\">com</a></td><td><input type=\"button\" value=\"Smart Log\" id=\"o4_uHF_STO-3G_UB3LYP_631Gd_4_4_cent_carbonyl_mult_3_stable_gen_restart_1_low_real\" onclick=\"view_function(event, this.id)\" /></td><td>Success</td><td> The wavefunction has an internal instability.\n",
        "</td></tr><tr><td>o_sanity_UB3LYP_631Gd_4_4_cent_carbonyl_stable_gen_restart_1_low_real</td><td><a href = \"files/unrestricted_cycloadd_oniom/o_sanity_UB3LYP_631Gd_4_4_cent_carbonyl_stable_gen_restart_1_low_real.com\" target = \"_blank\">com</a></td><td><input type=\"button\" value=\"Smart Log\" id=\"o_sanity_UB3LYP_631Gd_4_4_cent_carbonyl_stable_gen_restart_1_low_real\" onclick=\"view_function(event, this.id)\" /></td><td>Error: TCursr= 1046 LCursr=   43</td><td></td></tr><tr><td>o0_uam1_UB3LYP_631Gd_4_4_graphene_mult_3_stable_gen_restart_1_low_real</td><td><a href = \"files/unrestricted_cycloadd_oniom/o0_uam1_UB3LYP_631Gd_4_4_graphene_mult_3_stable_gen_restart_1_low_real.com\" target = \"_blank\">com</a></td><td><input type=\"button\" value=\"Smart Log\" id=\"o0_uam1_UB3LYP_631Gd_4_4_graphene_mult_3_stable_gen_restart_1_low_real\" onclick=\"view_function(event, this.id)\" /></td><td>Success</td><td> The wavefunction has an internal instability.\n",
        "</td></tr><tr><td>o0_upm6_UB3LYP_631Gd_4_4_graphene_mult_3_stable_gen_restart_1_low_real</td><td><a href = \"files/unrestricted_cycloadd_oniom/o0_upm6_UB3LYP_631Gd_4_4_graphene_mult_3_stable_gen_restart_1_low_real.com\" target = \"_blank\">com</a></td><td><input type=\"button\" value=\"Smart Log\" id=\"o0_upm6_UB3LYP_631Gd_4_4_graphene_mult_3_stable_gen_restart_1_low_real\" onclick=\"view_function(event, this.id)\" /></td><td>Success</td><td> The wavefunction has an internal instability.\n",
        "</td></tr><tr><td>o0_uHF_STO-3G_UB3LYP_631Gd_4_4_graphene_mult_3_stable_gen_restart_1_low_real</td><td><a href = \"files/unrestricted_cycloadd_oniom/o0_uHF_STO-3G_UB3LYP_631Gd_4_4_graphene_mult_3_stable_gen_restart_1_low_real.com\" target = \"_blank\">com</a></td><td><input type=\"button\" value=\"Smart Log\" id=\"o0_uHF_STO-3G_UB3LYP_631Gd_4_4_graphene_mult_3_stable_gen_restart_1_low_real\" onclick=\"view_function(event, this.id)\" /></td><td>Success</td><td> The wavefunction has an internal instability.\n",
        "</td></tr><tr><td>o1_uam1_UB3LYP_631Gd_4_4_graphene_mult_3_stable_gen_restart_1_low_real</td><td><a href = \"files/unrestricted_cycloadd_oniom/o1_uam1_UB3LYP_631Gd_4_4_graphene_mult_3_stable_gen_restart_1_low_real.com\" target = \"_blank\">com</a></td><td><input type=\"button\" value=\"Smart Log\" id=\"o1_uam1_UB3LYP_631Gd_4_4_graphene_mult_3_stable_gen_restart_1_low_real\" onclick=\"view_function(event, this.id)\" /></td><td>Success</td><td> The wavefunction has an internal instability.\n",
        "</td></tr><tr><td>o1_upm6_UB3LYP_631Gd_4_4_graphene_mult_3_stable_gen_restart_1_low_real</td><td><a href = \"files/unrestricted_cycloadd_oniom/o1_upm6_UB3LYP_631Gd_4_4_graphene_mult_3_stable_gen_restart_1_low_real.com\" target = \"_blank\">com</a></td><td><input type=\"button\" value=\"Smart Log\" id=\"o1_upm6_UB3LYP_631Gd_4_4_graphene_mult_3_stable_gen_restart_1_low_real\" onclick=\"view_function(event, this.id)\" /></td><td>Success</td><td> The wavefunction has an internal instability.\n",
        "</td></tr><tr><td>o1_uHF_STO-3G_UB3LYP_631Gd_4_4_graphene_mult_3_stable_gen_restart_1_low_real</td><td><a href = \"files/unrestricted_cycloadd_oniom/o1_uHF_STO-3G_UB3LYP_631Gd_4_4_graphene_mult_3_stable_gen_restart_1_low_real.com\" target = \"_blank\">com</a></td><td><input type=\"button\" value=\"Smart Log\" id=\"o1_uHF_STO-3G_UB3LYP_631Gd_4_4_graphene_mult_3_stable_gen_restart_1_low_real\" onclick=\"view_function(event, this.id)\" /></td><td>Success</td><td> The wavefunction has an internal instability.\n",
        "</td></tr><tr><td>o2_uam1_UB3LYP_631Gd_4_4_graphene_mult_3_stable_gen_restart_1_low_real</td><td><a href = \"files/unrestricted_cycloadd_oniom/o2_uam1_UB3LYP_631Gd_4_4_graphene_mult_3_stable_gen_restart_1_low_real.com\" target = \"_blank\">com</a></td><td><input type=\"button\" value=\"Smart Log\" id=\"o2_uam1_UB3LYP_631Gd_4_4_graphene_mult_3_stable_gen_restart_1_low_real\" onclick=\"view_function(event, this.id)\" /></td><td>Success</td><td> The wavefunction has an internal instability.\n",
        "</td></tr><tr><td>o2_upm6_UB3LYP_631Gd_4_4_graphene_mult_3_stable_gen_restart_1_low_real</td><td><a href = \"files/unrestricted_cycloadd_oniom/o2_upm6_UB3LYP_631Gd_4_4_graphene_mult_3_stable_gen_restart_1_low_real.com\" target = \"_blank\">com</a></td><td><input type=\"button\" value=\"Smart Log\" id=\"o2_upm6_UB3LYP_631Gd_4_4_graphene_mult_3_stable_gen_restart_1_low_real\" onclick=\"view_function(event, this.id)\" /></td><td>Success</td><td> The wavefunction has an internal instability.\n",
        "</td></tr><tr><td>o2_uHF_STO-3G_UB3LYP_631Gd_4_4_graphene_mult_3_stable_gen_restart_1_low_real</td><td><a href = \"files/unrestricted_cycloadd_oniom/o2_uHF_STO-3G_UB3LYP_631Gd_4_4_graphene_mult_3_stable_gen_restart_1_low_real.com\" target = \"_blank\">com</a></td><td><input type=\"button\" value=\"Smart Log\" id=\"o2_uHF_STO-3G_UB3LYP_631Gd_4_4_graphene_mult_3_stable_gen_restart_1_low_real\" onclick=\"view_function(event, this.id)\" /></td><td>Success</td><td> The wavefunction has an internal instability.\n",
        "</td></tr><tr><td>o3_uam1_UB3LYP_631Gd_4_4_graphene_mult_3_stable_gen_restart_1_low_real</td><td><a href = \"files/unrestricted_cycloadd_oniom/o3_uam1_UB3LYP_631Gd_4_4_graphene_mult_3_stable_gen_restart_1_low_real.com\" target = \"_blank\">com</a></td><td><input type=\"button\" value=\"Smart Log\" id=\"o3_uam1_UB3LYP_631Gd_4_4_graphene_mult_3_stable_gen_restart_1_low_real\" onclick=\"view_function(event, this.id)\" /></td><td>Success</td><td> The wavefunction has an internal instability.\n",
        "</td></tr><tr><td>o3_upm6_UB3LYP_631Gd_4_4_graphene_mult_3_stable_gen_restart_1_low_real</td><td><a href = \"files/unrestricted_cycloadd_oniom/o3_upm6_UB3LYP_631Gd_4_4_graphene_mult_3_stable_gen_restart_1_low_real.com\" target = \"_blank\">com</a></td><td><input type=\"button\" value=\"Smart Log\" id=\"o3_upm6_UB3LYP_631Gd_4_4_graphene_mult_3_stable_gen_restart_1_low_real\" onclick=\"view_function(event, this.id)\" /></td><td>Success</td><td> The wavefunction has an internal instability.\n",
        "</td></tr><tr><td>o3_uHF_STO-3G_UB3LYP_631Gd_4_4_graphene_mult_3_stable_gen_restart_1_low_real</td><td><a href = \"files/unrestricted_cycloadd_oniom/o3_uHF_STO-3G_UB3LYP_631Gd_4_4_graphene_mult_3_stable_gen_restart_1_low_real.com\" target = \"_blank\">com</a></td><td><input type=\"button\" value=\"Smart Log\" id=\"o3_uHF_STO-3G_UB3LYP_631Gd_4_4_graphene_mult_3_stable_gen_restart_1_low_real\" onclick=\"view_function(event, this.id)\" /></td><td>Success</td><td> The wavefunction has an internal instability.\n",
        "</td></tr><tr><td>o4_uam1_UB3LYP_631Gd_4_4_graphene_mult_3_stable_gen_restart_1_low_real</td><td><a href = \"files/unrestricted_cycloadd_oniom/o4_uam1_UB3LYP_631Gd_4_4_graphene_mult_3_stable_gen_restart_1_low_real.com\" target = \"_blank\">com</a></td><td><input type=\"button\" value=\"Smart Log\" id=\"o4_uam1_UB3LYP_631Gd_4_4_graphene_mult_3_stable_gen_restart_1_low_real\" onclick=\"view_function(event, this.id)\" /></td><td>Success</td><td> The wavefunction has an internal instability.\n",
        "</td></tr><tr><td>o4_upm6_UB3LYP_631Gd_4_4_graphene_mult_3_stable_gen_restart_1_low_real</td><td><a href = \"files/unrestricted_cycloadd_oniom/o4_upm6_UB3LYP_631Gd_4_4_graphene_mult_3_stable_gen_restart_1_low_real.com\" target = \"_blank\">com</a></td><td><input type=\"button\" value=\"Smart Log\" id=\"o4_upm6_UB3LYP_631Gd_4_4_graphene_mult_3_stable_gen_restart_1_low_real\" onclick=\"view_function(event, this.id)\" /></td><td>Success</td><td> The wavefunction has an internal instability.\n",
        "</td></tr><tr><td>o4_uHF_STO-3G_UB3LYP_631Gd_4_4_graphene_mult_3_stable_gen_restart_1_low_real</td><td><a href = \"files/unrestricted_cycloadd_oniom/o4_uHF_STO-3G_UB3LYP_631Gd_4_4_graphene_mult_3_stable_gen_restart_1_low_real.com\" target = \"_blank\">com</a></td><td><input type=\"button\" value=\"Smart Log\" id=\"o4_uHF_STO-3G_UB3LYP_631Gd_4_4_graphene_mult_3_stable_gen_restart_1_low_real\" onclick=\"view_function(event, this.id)\" /></td><td>Success</td><td> The wavefunction has an internal instability.\n",
        "</td></tr><tr><td>o_sanity_UB3LYP_631Gd_4_4_graphene_stable_gen_restart_1_low_real</td><td><a href = \"files/unrestricted_cycloadd_oniom/o_sanity_UB3LYP_631Gd_4_4_graphene_stable_gen_restart_1_low_real.com\" target = \"_blank\">com</a></td><td><input type=\"button\" value=\"Smart Log\" id=\"o_sanity_UB3LYP_631Gd_4_4_graphene_stable_gen_restart_1_low_real\" onclick=\"view_function(event, this.id)\" /></td><td>Error: TCursr= 1046 LCursr=   43</td><td></td></tr><tr><td>o0_uam1_UB3LYP_631Gd_4_4_cent_carbonyl_mult_3_stable_gen_restart_1_high_model</td><td><a href = \"files/unrestricted_cycloadd_oniom/o0_uam1_UB3LYP_631Gd_4_4_cent_carbonyl_mult_3_stable_gen_restart_1_high_model.com\" target = \"_blank\">com</a></td><td><input type=\"button\" value=\"Smart Log\" id=\"o0_uam1_UB3LYP_631Gd_4_4_cent_carbonyl_mult_3_stable_gen_restart_1_high_model\" onclick=\"view_function(event, this.id)\" /></td><td>Success</td><td></td></tr><tr><td>o0_upm6_UB3LYP_631Gd_4_4_cent_carbonyl_mult_3_stable_gen_restart_1_high_model</td><td><a href = \"files/unrestricted_cycloadd_oniom/o0_upm6_UB3LYP_631Gd_4_4_cent_carbonyl_mult_3_stable_gen_restart_1_high_model.com\" target = \"_blank\">com</a></td><td><input type=\"button\" value=\"Smart Log\" id=\"o0_upm6_UB3LYP_631Gd_4_4_cent_carbonyl_mult_3_stable_gen_restart_1_high_model\" onclick=\"view_function(event, this.id)\" /></td><td>Success</td><td></td></tr><tr><td>o0_uHF_STO-3G_UB3LYP_631Gd_4_4_cent_carbonyl_mult_3_stable_gen_restart_1_high_model</td><td><a href = \"files/unrestricted_cycloadd_oniom/o0_uHF_STO-3G_UB3LYP_631Gd_4_4_cent_carbonyl_mult_3_stable_gen_restart_1_high_model.com\" target = \"_blank\">com</a></td><td><input type=\"button\" value=\"Smart Log\" id=\"o0_uHF_STO-3G_UB3LYP_631Gd_4_4_cent_carbonyl_mult_3_stable_gen_restart_1_high_model\" onclick=\"view_function(event, this.id)\" /></td><td>Success</td><td></td></tr><tr><td>o1_uam1_UB3LYP_631Gd_4_4_cent_carbonyl_mult_3_stable_gen_restart_1_high_model</td><td><a href = \"files/unrestricted_cycloadd_oniom/o1_uam1_UB3LYP_631Gd_4_4_cent_carbonyl_mult_3_stable_gen_restart_1_high_model.com\" target = \"_blank\">com</a></td><td><input type=\"button\" value=\"Smart Log\" id=\"o1_uam1_UB3LYP_631Gd_4_4_cent_carbonyl_mult_3_stable_gen_restart_1_high_model\" onclick=\"view_function(event, this.id)\" /></td><td>Success</td><td> The wavefunction has an internal instability.\n",
        "</td></tr><tr><td>o1_upm6_UB3LYP_631Gd_4_4_cent_carbonyl_mult_3_stable_gen_restart_1_high_model</td><td><a href = \"files/unrestricted_cycloadd_oniom/o1_upm6_UB3LYP_631Gd_4_4_cent_carbonyl_mult_3_stable_gen_restart_1_high_model.com\" target = \"_blank\">com</a></td><td><input type=\"button\" value=\"Smart Log\" id=\"o1_upm6_UB3LYP_631Gd_4_4_cent_carbonyl_mult_3_stable_gen_restart_1_high_model\" onclick=\"view_function(event, this.id)\" /></td><td>Success</td><td> The wavefunction has an internal instability.\n",
        "</td></tr><tr><td>o1_uHF_STO-3G_UB3LYP_631Gd_4_4_cent_carbonyl_mult_3_stable_gen_restart_1_high_model</td><td><a href = \"files/unrestricted_cycloadd_oniom/o1_uHF_STO-3G_UB3LYP_631Gd_4_4_cent_carbonyl_mult_3_stable_gen_restart_1_high_model.com\" target = \"_blank\">com</a></td><td><input type=\"button\" value=\"Smart Log\" id=\"o1_uHF_STO-3G_UB3LYP_631Gd_4_4_cent_carbonyl_mult_3_stable_gen_restart_1_high_model\" onclick=\"view_function(event, this.id)\" /></td><td>Success</td><td> The wavefunction has an internal instability.\n",
        "</td></tr><tr><td>o2_uam1_UB3LYP_631Gd_4_4_cent_carbonyl_mult_3_stable_gen_restart_1_high_model</td><td><a href = \"files/unrestricted_cycloadd_oniom/o2_uam1_UB3LYP_631Gd_4_4_cent_carbonyl_mult_3_stable_gen_restart_1_high_model.com\" target = \"_blank\">com</a></td><td><input type=\"button\" value=\"Smart Log\" id=\"o2_uam1_UB3LYP_631Gd_4_4_cent_carbonyl_mult_3_stable_gen_restart_1_high_model\" onclick=\"view_function(event, this.id)\" /></td><td>Success</td><td> The wavefunction has an internal instability.\n",
        "</td></tr><tr><td>o2_upm6_UB3LYP_631Gd_4_4_cent_carbonyl_mult_3_stable_gen_restart_1_high_model</td><td><a href = \"files/unrestricted_cycloadd_oniom/o2_upm6_UB3LYP_631Gd_4_4_cent_carbonyl_mult_3_stable_gen_restart_1_high_model.com\" target = \"_blank\">com</a></td><td><input type=\"button\" value=\"Smart Log\" id=\"o2_upm6_UB3LYP_631Gd_4_4_cent_carbonyl_mult_3_stable_gen_restart_1_high_model\" onclick=\"view_function(event, this.id)\" /></td><td>Success</td><td> The wavefunction has an internal instability.\n",
        "</td></tr><tr><td>o2_uHF_STO-3G_UB3LYP_631Gd_4_4_cent_carbonyl_mult_3_stable_gen_restart_1_high_model</td><td><a href = \"files/unrestricted_cycloadd_oniom/o2_uHF_STO-3G_UB3LYP_631Gd_4_4_cent_carbonyl_mult_3_stable_gen_restart_1_high_model.com\" target = \"_blank\">com</a></td><td><input type=\"button\" value=\"Smart Log\" id=\"o2_uHF_STO-3G_UB3LYP_631Gd_4_4_cent_carbonyl_mult_3_stable_gen_restart_1_high_model\" onclick=\"view_function(event, this.id)\" /></td><td>Success</td><td> The wavefunction has an internal instability.\n",
        "</td></tr><tr><td>o3_uam1_UB3LYP_631Gd_4_4_cent_carbonyl_mult_3_stable_gen_restart_1_high_model</td><td><a href = \"files/unrestricted_cycloadd_oniom/o3_uam1_UB3LYP_631Gd_4_4_cent_carbonyl_mult_3_stable_gen_restart_1_high_model.com\" target = \"_blank\">com</a></td><td><input type=\"button\" value=\"Smart Log\" id=\"o3_uam1_UB3LYP_631Gd_4_4_cent_carbonyl_mult_3_stable_gen_restart_1_high_model\" onclick=\"view_function(event, this.id)\" /></td><td>Success</td><td></td></tr><tr><td>o3_upm6_UB3LYP_631Gd_4_4_cent_carbonyl_mult_3_stable_gen_restart_1_high_model</td><td><a href = \"files/unrestricted_cycloadd_oniom/o3_upm6_UB3LYP_631Gd_4_4_cent_carbonyl_mult_3_stable_gen_restart_1_high_model.com\" target = \"_blank\">com</a></td><td><input type=\"button\" value=\"Smart Log\" id=\"o3_upm6_UB3LYP_631Gd_4_4_cent_carbonyl_mult_3_stable_gen_restart_1_high_model\" onclick=\"view_function(event, this.id)\" /></td><td>Success</td><td></td></tr><tr><td>o3_uHF_STO-3G_UB3LYP_631Gd_4_4_cent_carbonyl_mult_3_stable_gen_restart_1_high_model</td><td><a href = \"files/unrestricted_cycloadd_oniom/o3_uHF_STO-3G_UB3LYP_631Gd_4_4_cent_carbonyl_mult_3_stable_gen_restart_1_high_model.com\" target = \"_blank\">com</a></td><td><input type=\"button\" value=\"Smart Log\" id=\"o3_uHF_STO-3G_UB3LYP_631Gd_4_4_cent_carbonyl_mult_3_stable_gen_restart_1_high_model\" onclick=\"view_function(event, this.id)\" /></td><td>Success</td><td></td></tr><tr><td>o4_uam1_UB3LYP_631Gd_4_4_cent_carbonyl_mult_3_stable_gen_restart_1_high_model</td><td><a href = \"files/unrestricted_cycloadd_oniom/o4_uam1_UB3LYP_631Gd_4_4_cent_carbonyl_mult_3_stable_gen_restart_1_high_model.com\" target = \"_blank\">com</a></td><td><input type=\"button\" value=\"Smart Log\" id=\"o4_uam1_UB3LYP_631Gd_4_4_cent_carbonyl_mult_3_stable_gen_restart_1_high_model\" onclick=\"view_function(event, this.id)\" /></td><td>Success</td><td></td></tr><tr><td>o4_upm6_UB3LYP_631Gd_4_4_cent_carbonyl_mult_3_stable_gen_restart_1_high_model</td><td><a href = \"files/unrestricted_cycloadd_oniom/o4_upm6_UB3LYP_631Gd_4_4_cent_carbonyl_mult_3_stable_gen_restart_1_high_model.com\" target = \"_blank\">com</a></td><td><input type=\"button\" value=\"Smart Log\" id=\"o4_upm6_UB3LYP_631Gd_4_4_cent_carbonyl_mult_3_stable_gen_restart_1_high_model\" onclick=\"view_function(event, this.id)\" /></td><td>Success</td><td></td></tr><tr><td>o4_uHF_STO-3G_UB3LYP_631Gd_4_4_cent_carbonyl_mult_3_stable_gen_restart_1_high_model</td><td><a href = \"files/unrestricted_cycloadd_oniom/o4_uHF_STO-3G_UB3LYP_631Gd_4_4_cent_carbonyl_mult_3_stable_gen_restart_1_high_model.com\" target = \"_blank\">com</a></td><td><input type=\"button\" value=\"Smart Log\" id=\"o4_uHF_STO-3G_UB3LYP_631Gd_4_4_cent_carbonyl_mult_3_stable_gen_restart_1_high_model\" onclick=\"view_function(event, this.id)\" /></td><td>Success</td><td></td></tr><tr><td>o_sanity_UB3LYP_631Gd_4_4_cent_carbonyl_stable_gen_restart_1_high_model</td><td><a href = \"files/unrestricted_cycloadd_oniom/o_sanity_UB3LYP_631Gd_4_4_cent_carbonyl_stable_gen_restart_1_high_model.com\" target = \"_blank\">com</a></td><td><input type=\"button\" value=\"Smart Log\" id=\"o_sanity_UB3LYP_631Gd_4_4_cent_carbonyl_stable_gen_restart_1_high_model\" onclick=\"view_function(event, this.id)\" /></td><td>Success</td><td></td></tr><tr><td>o0_uam1_UB3LYP_631Gd_4_4_graphene_mult_3_stable_gen_restart_1_high_model</td><td><a href = \"files/unrestricted_cycloadd_oniom/o0_uam1_UB3LYP_631Gd_4_4_graphene_mult_3_stable_gen_restart_1_high_model.com\" target = \"_blank\">com</a></td><td><input type=\"button\" value=\"Smart Log\" id=\"o0_uam1_UB3LYP_631Gd_4_4_graphene_mult_3_stable_gen_restart_1_high_model\" onclick=\"view_function(event, this.id)\" /></td><td>Success</td><td></td></tr><tr><td>o0_upm6_UB3LYP_631Gd_4_4_graphene_mult_3_stable_gen_restart_1_high_model</td><td><a href = \"files/unrestricted_cycloadd_oniom/o0_upm6_UB3LYP_631Gd_4_4_graphene_mult_3_stable_gen_restart_1_high_model.com\" target = \"_blank\">com</a></td><td><input type=\"button\" value=\"Smart Log\" id=\"o0_upm6_UB3LYP_631Gd_4_4_graphene_mult_3_stable_gen_restart_1_high_model\" onclick=\"view_function(event, this.id)\" /></td><td>Success</td><td></td></tr><tr><td>o0_uHF_STO-3G_UB3LYP_631Gd_4_4_graphene_mult_3_stable_gen_restart_1_high_model</td><td><a href = \"files/unrestricted_cycloadd_oniom/o0_uHF_STO-3G_UB3LYP_631Gd_4_4_graphene_mult_3_stable_gen_restart_1_high_model.com\" target = \"_blank\">com</a></td><td><input type=\"button\" value=\"Smart Log\" id=\"o0_uHF_STO-3G_UB3LYP_631Gd_4_4_graphene_mult_3_stable_gen_restart_1_high_model\" onclick=\"view_function(event, this.id)\" /></td><td>Success</td><td></td></tr><tr><td>o1_uam1_UB3LYP_631Gd_4_4_graphene_mult_3_stable_gen_restart_1_high_model</td><td><a href = \"files/unrestricted_cycloadd_oniom/o1_uam1_UB3LYP_631Gd_4_4_graphene_mult_3_stable_gen_restart_1_high_model.com\" target = \"_blank\">com</a></td><td><input type=\"button\" value=\"Smart Log\" id=\"o1_uam1_UB3LYP_631Gd_4_4_graphene_mult_3_stable_gen_restart_1_high_model\" onclick=\"view_function(event, this.id)\" /></td><td>Success</td><td></td></tr><tr><td>o1_upm6_UB3LYP_631Gd_4_4_graphene_mult_3_stable_gen_restart_1_high_model</td><td><a href = \"files/unrestricted_cycloadd_oniom/o1_upm6_UB3LYP_631Gd_4_4_graphene_mult_3_stable_gen_restart_1_high_model.com\" target = \"_blank\">com</a></td><td><input type=\"button\" value=\"Smart Log\" id=\"o1_upm6_UB3LYP_631Gd_4_4_graphene_mult_3_stable_gen_restart_1_high_model\" onclick=\"view_function(event, this.id)\" /></td><td>Success</td><td></td></tr><tr><td>o1_uHF_STO-3G_UB3LYP_631Gd_4_4_graphene_mult_3_stable_gen_restart_1_high_model</td><td><a href = \"files/unrestricted_cycloadd_oniom/o1_uHF_STO-3G_UB3LYP_631Gd_4_4_graphene_mult_3_stable_gen_restart_1_high_model.com\" target = \"_blank\">com</a></td><td><input type=\"button\" value=\"Smart Log\" id=\"o1_uHF_STO-3G_UB3LYP_631Gd_4_4_graphene_mult_3_stable_gen_restart_1_high_model\" onclick=\"view_function(event, this.id)\" /></td><td>Success</td><td></td></tr><tr><td>o2_uam1_UB3LYP_631Gd_4_4_graphene_mult_3_stable_gen_restart_1_high_model</td><td><a href = \"files/unrestricted_cycloadd_oniom/o2_uam1_UB3LYP_631Gd_4_4_graphene_mult_3_stable_gen_restart_1_high_model.com\" target = \"_blank\">com</a></td><td><input type=\"button\" value=\"Smart Log\" id=\"o2_uam1_UB3LYP_631Gd_4_4_graphene_mult_3_stable_gen_restart_1_high_model\" onclick=\"view_function(event, this.id)\" /></td><td>Success</td><td></td></tr><tr><td>o2_upm6_UB3LYP_631Gd_4_4_graphene_mult_3_stable_gen_restart_1_high_model</td><td><a href = \"files/unrestricted_cycloadd_oniom/o2_upm6_UB3LYP_631Gd_4_4_graphene_mult_3_stable_gen_restart_1_high_model.com\" target = \"_blank\">com</a></td><td><input type=\"button\" value=\"Smart Log\" id=\"o2_upm6_UB3LYP_631Gd_4_4_graphene_mult_3_stable_gen_restart_1_high_model\" onclick=\"view_function(event, this.id)\" /></td><td>Success</td><td></td></tr><tr><td>o2_uHF_STO-3G_UB3LYP_631Gd_4_4_graphene_mult_3_stable_gen_restart_1_high_model</td><td><a href = \"files/unrestricted_cycloadd_oniom/o2_uHF_STO-3G_UB3LYP_631Gd_4_4_graphene_mult_3_stable_gen_restart_1_high_model.com\" target = \"_blank\">com</a></td><td><input type=\"button\" value=\"Smart Log\" id=\"o2_uHF_STO-3G_UB3LYP_631Gd_4_4_graphene_mult_3_stable_gen_restart_1_high_model\" onclick=\"view_function(event, this.id)\" /></td><td>Success</td><td></td></tr><tr><td>o3_uam1_UB3LYP_631Gd_4_4_graphene_mult_3_stable_gen_restart_1_high_model</td><td><a href = \"files/unrestricted_cycloadd_oniom/o3_uam1_UB3LYP_631Gd_4_4_graphene_mult_3_stable_gen_restart_1_high_model.com\" target = \"_blank\">com</a></td><td><input type=\"button\" value=\"Smart Log\" id=\"o3_uam1_UB3LYP_631Gd_4_4_graphene_mult_3_stable_gen_restart_1_high_model\" onclick=\"view_function(event, this.id)\" /></td><td>Success</td><td></td></tr><tr><td>o3_upm6_UB3LYP_631Gd_4_4_graphene_mult_3_stable_gen_restart_1_high_model</td><td><a href = \"files/unrestricted_cycloadd_oniom/o3_upm6_UB3LYP_631Gd_4_4_graphene_mult_3_stable_gen_restart_1_high_model.com\" target = \"_blank\">com</a></td><td><input type=\"button\" value=\"Smart Log\" id=\"o3_upm6_UB3LYP_631Gd_4_4_graphene_mult_3_stable_gen_restart_1_high_model\" onclick=\"view_function(event, this.id)\" /></td><td>Success</td><td></td></tr><tr><td>o3_uHF_STO-3G_UB3LYP_631Gd_4_4_graphene_mult_3_stable_gen_restart_1_high_model</td><td><a href = \"files/unrestricted_cycloadd_oniom/o3_uHF_STO-3G_UB3LYP_631Gd_4_4_graphene_mult_3_stable_gen_restart_1_high_model.com\" target = \"_blank\">com</a></td><td><input type=\"button\" value=\"Smart Log\" id=\"o3_uHF_STO-3G_UB3LYP_631Gd_4_4_graphene_mult_3_stable_gen_restart_1_high_model\" onclick=\"view_function(event, this.id)\" /></td><td>Success</td><td></td></tr><tr><td>o4_uam1_UB3LYP_631Gd_4_4_graphene_mult_3_stable_gen_restart_1_high_model</td><td><a href = \"files/unrestricted_cycloadd_oniom/o4_uam1_UB3LYP_631Gd_4_4_graphene_mult_3_stable_gen_restart_1_high_model.com\" target = \"_blank\">com</a></td><td><input type=\"button\" value=\"Smart Log\" id=\"o4_uam1_UB3LYP_631Gd_4_4_graphene_mult_3_stable_gen_restart_1_high_model\" onclick=\"view_function(event, this.id)\" /></td><td>Success</td><td></td></tr><tr><td>o4_upm6_UB3LYP_631Gd_4_4_graphene_mult_3_stable_gen_restart_1_high_model</td><td><a href = \"files/unrestricted_cycloadd_oniom/o4_upm6_UB3LYP_631Gd_4_4_graphene_mult_3_stable_gen_restart_1_high_model.com\" target = \"_blank\">com</a></td><td><input type=\"button\" value=\"Smart Log\" id=\"o4_upm6_UB3LYP_631Gd_4_4_graphene_mult_3_stable_gen_restart_1_high_model\" onclick=\"view_function(event, this.id)\" /></td><td>Success</td><td></td></tr><tr><td>o4_uHF_STO-3G_UB3LYP_631Gd_4_4_graphene_mult_3_stable_gen_restart_1_high_model</td><td><a href = \"files/unrestricted_cycloadd_oniom/o4_uHF_STO-3G_UB3LYP_631Gd_4_4_graphene_mult_3_stable_gen_restart_1_high_model.com\" target = \"_blank\">com</a></td><td><input type=\"button\" value=\"Smart Log\" id=\"o4_uHF_STO-3G_UB3LYP_631Gd_4_4_graphene_mult_3_stable_gen_restart_1_high_model\" onclick=\"view_function(event, this.id)\" /></td><td>Success</td><td></td></tr><tr><td>o_sanity_UB3LYP_631Gd_4_4_graphene_stable_gen_restart_1_high_model</td><td><a href = \"files/unrestricted_cycloadd_oniom/o_sanity_UB3LYP_631Gd_4_4_graphene_stable_gen_restart_1_high_model.com\" target = \"_blank\">com</a></td><td><input type=\"button\" value=\"Smart Log\" id=\"o_sanity_UB3LYP_631Gd_4_4_graphene_stable_gen_restart_1_high_model\" onclick=\"view_function(event, this.id)\" /></td><td>Success</td><td></td></tr><tr><td>o0_uam1_UB3LYP_631Gd_4_4_cent_carbonyl_mult_3_stable_gen_restart_1_low_model</td><td><a href = \"files/unrestricted_cycloadd_oniom/o0_uam1_UB3LYP_631Gd_4_4_cent_carbonyl_mult_3_stable_gen_restart_1_low_model.com\" target = \"_blank\">com</a></td><td><input type=\"button\" value=\"Smart Log\" id=\"o0_uam1_UB3LYP_631Gd_4_4_cent_carbonyl_mult_3_stable_gen_restart_1_low_model\" onclick=\"view_function(event, this.id)\" /></td><td>Success</td><td> The wavefunction has an internal instability.\n",
        "</td></tr><tr><td>o0_upm6_UB3LYP_631Gd_4_4_cent_carbonyl_mult_3_stable_gen_restart_1_low_model</td><td><a href = \"files/unrestricted_cycloadd_oniom/o0_upm6_UB3LYP_631Gd_4_4_cent_carbonyl_mult_3_stable_gen_restart_1_low_model.com\" target = \"_blank\">com</a></td><td><input type=\"button\" value=\"Smart Log\" id=\"o0_upm6_UB3LYP_631Gd_4_4_cent_carbonyl_mult_3_stable_gen_restart_1_low_model\" onclick=\"view_function(event, this.id)\" /></td><td>Success</td><td> The wavefunction has an internal instability.\n",
        "</td></tr><tr><td>o0_uHF_STO-3G_UB3LYP_631Gd_4_4_cent_carbonyl_mult_3_stable_gen_restart_1_low_model</td><td><a href = \"files/unrestricted_cycloadd_oniom/o0_uHF_STO-3G_UB3LYP_631Gd_4_4_cent_carbonyl_mult_3_stable_gen_restart_1_low_model.com\" target = \"_blank\">com</a></td><td><input type=\"button\" value=\"Smart Log\" id=\"o0_uHF_STO-3G_UB3LYP_631Gd_4_4_cent_carbonyl_mult_3_stable_gen_restart_1_low_model\" onclick=\"view_function(event, this.id)\" /></td><td>Success</td><td> The wavefunction has an internal instability.\n",
        "</td></tr><tr><td>o1_uam1_UB3LYP_631Gd_4_4_cent_carbonyl_mult_3_stable_gen_restart_1_low_model</td><td><a href = \"files/unrestricted_cycloadd_oniom/o1_uam1_UB3LYP_631Gd_4_4_cent_carbonyl_mult_3_stable_gen_restart_1_low_model.com\" target = \"_blank\">com</a></td><td><input type=\"button\" value=\"Smart Log\" id=\"o1_uam1_UB3LYP_631Gd_4_4_cent_carbonyl_mult_3_stable_gen_restart_1_low_model\" onclick=\"view_function(event, this.id)\" /></td><td>Success</td><td> The wavefunction has an internal instability.\n",
        " The wavefunction has an internal instability.\n",
        " The wavefunction has an internal instability.\n",
        "</td></tr><tr><td>o1_upm6_UB3LYP_631Gd_4_4_cent_carbonyl_mult_3_stable_gen_restart_1_low_model</td><td><a href = \"files/unrestricted_cycloadd_oniom/o1_upm6_UB3LYP_631Gd_4_4_cent_carbonyl_mult_3_stable_gen_restart_1_low_model.com\" target = \"_blank\">com</a></td><td><input type=\"button\" value=\"Smart Log\" id=\"o1_upm6_UB3LYP_631Gd_4_4_cent_carbonyl_mult_3_stable_gen_restart_1_low_model\" onclick=\"view_function(event, this.id)\" /></td><td>Success</td><td> The wavefunction has an internal instability.\n",
        " The wavefunction has an internal instability.\n",
        "</td></tr><tr><td>o1_uHF_STO-3G_UB3LYP_631Gd_4_4_cent_carbonyl_mult_3_stable_gen_restart_1_low_model</td><td><a href = \"files/unrestricted_cycloadd_oniom/o1_uHF_STO-3G_UB3LYP_631Gd_4_4_cent_carbonyl_mult_3_stable_gen_restart_1_low_model.com\" target = \"_blank\">com</a></td><td><input type=\"button\" value=\"Smart Log\" id=\"o1_uHF_STO-3G_UB3LYP_631Gd_4_4_cent_carbonyl_mult_3_stable_gen_restart_1_low_model\" onclick=\"view_function(event, this.id)\" /></td><td>Success</td><td> The wavefunction has an internal instability.\n",
        " The wavefunction has an internal instability.\n",
        "</td></tr><tr><td>o2_uam1_UB3LYP_631Gd_4_4_cent_carbonyl_mult_3_stable_gen_restart_1_low_model</td><td><a href = \"files/unrestricted_cycloadd_oniom/o2_uam1_UB3LYP_631Gd_4_4_cent_carbonyl_mult_3_stable_gen_restart_1_low_model.com\" target = \"_blank\">com</a></td><td><input type=\"button\" value=\"Smart Log\" id=\"o2_uam1_UB3LYP_631Gd_4_4_cent_carbonyl_mult_3_stable_gen_restart_1_low_model\" onclick=\"view_function(event, this.id)\" /></td><td>Success</td><td> The wavefunction has an internal instability.\n",
        "</td></tr><tr><td>o2_upm6_UB3LYP_631Gd_4_4_cent_carbonyl_mult_3_stable_gen_restart_1_low_model</td><td><a href = \"files/unrestricted_cycloadd_oniom/o2_upm6_UB3LYP_631Gd_4_4_cent_carbonyl_mult_3_stable_gen_restart_1_low_model.com\" target = \"_blank\">com</a></td><td><input type=\"button\" value=\"Smart Log\" id=\"o2_upm6_UB3LYP_631Gd_4_4_cent_carbonyl_mult_3_stable_gen_restart_1_low_model\" onclick=\"view_function(event, this.id)\" /></td><td>Success</td><td> The wavefunction has an internal instability.\n",
        "</td></tr><tr><td>o2_uHF_STO-3G_UB3LYP_631Gd_4_4_cent_carbonyl_mult_3_stable_gen_restart_1_low_model</td><td><a href = \"files/unrestricted_cycloadd_oniom/o2_uHF_STO-3G_UB3LYP_631Gd_4_4_cent_carbonyl_mult_3_stable_gen_restart_1_low_model.com\" target = \"_blank\">com</a></td><td><input type=\"button\" value=\"Smart Log\" id=\"o2_uHF_STO-3G_UB3LYP_631Gd_4_4_cent_carbonyl_mult_3_stable_gen_restart_1_low_model\" onclick=\"view_function(event, this.id)\" /></td><td>Success</td><td> The wavefunction has an internal instability.\n",
        "</td></tr><tr><td>o3_uam1_UB3LYP_631Gd_4_4_cent_carbonyl_mult_3_stable_gen_restart_1_low_model</td><td><a href = \"files/unrestricted_cycloadd_oniom/o3_uam1_UB3LYP_631Gd_4_4_cent_carbonyl_mult_3_stable_gen_restart_1_low_model.com\" target = \"_blank\">com</a></td><td><input type=\"button\" value=\"Smart Log\" id=\"o3_uam1_UB3LYP_631Gd_4_4_cent_carbonyl_mult_3_stable_gen_restart_1_low_model\" onclick=\"view_function(event, this.id)\" /></td><td>Success</td><td> The wavefunction has an internal instability.\n",
        "</td></tr><tr><td>o3_upm6_UB3LYP_631Gd_4_4_cent_carbonyl_mult_3_stable_gen_restart_1_low_model</td><td><a href = \"files/unrestricted_cycloadd_oniom/o3_upm6_UB3LYP_631Gd_4_4_cent_carbonyl_mult_3_stable_gen_restart_1_low_model.com\" target = \"_blank\">com</a></td><td><input type=\"button\" value=\"Smart Log\" id=\"o3_upm6_UB3LYP_631Gd_4_4_cent_carbonyl_mult_3_stable_gen_restart_1_low_model\" onclick=\"view_function(event, this.id)\" /></td><td>Success</td><td> The wavefunction has an internal instability.\n",
        "</td></tr><tr><td>o3_uHF_STO-3G_UB3LYP_631Gd_4_4_cent_carbonyl_mult_3_stable_gen_restart_1_low_model</td><td><a href = \"files/unrestricted_cycloadd_oniom/o3_uHF_STO-3G_UB3LYP_631Gd_4_4_cent_carbonyl_mult_3_stable_gen_restart_1_low_model.com\" target = \"_blank\">com</a></td><td><input type=\"button\" value=\"Smart Log\" id=\"o3_uHF_STO-3G_UB3LYP_631Gd_4_4_cent_carbonyl_mult_3_stable_gen_restart_1_low_model\" onclick=\"view_function(event, this.id)\" /></td><td>Success</td><td> The wavefunction has an internal instability.\n",
        " The wavefunction has an internal instability.\n",
        "</td></tr><tr><td>o4_uam1_UB3LYP_631Gd_4_4_cent_carbonyl_mult_3_stable_gen_restart_1_low_model</td><td><a href = \"files/unrestricted_cycloadd_oniom/o4_uam1_UB3LYP_631Gd_4_4_cent_carbonyl_mult_3_stable_gen_restart_1_low_model.com\" target = \"_blank\">com</a></td><td><input type=\"button\" value=\"Smart Log\" id=\"o4_uam1_UB3LYP_631Gd_4_4_cent_carbonyl_mult_3_stable_gen_restart_1_low_model\" onclick=\"view_function(event, this.id)\" /></td><td>Success</td><td></td></tr><tr><td>o4_upm6_UB3LYP_631Gd_4_4_cent_carbonyl_mult_3_stable_gen_restart_1_low_model</td><td><a href = \"files/unrestricted_cycloadd_oniom/o4_upm6_UB3LYP_631Gd_4_4_cent_carbonyl_mult_3_stable_gen_restart_1_low_model.com\" target = \"_blank\">com</a></td><td><input type=\"button\" value=\"Smart Log\" id=\"o4_upm6_UB3LYP_631Gd_4_4_cent_carbonyl_mult_3_stable_gen_restart_1_low_model\" onclick=\"view_function(event, this.id)\" /></td><td>Success</td><td></td></tr><tr><td>o4_uHF_STO-3G_UB3LYP_631Gd_4_4_cent_carbonyl_mult_3_stable_gen_restart_1_low_model</td><td><a href = \"files/unrestricted_cycloadd_oniom/o4_uHF_STO-3G_UB3LYP_631Gd_4_4_cent_carbonyl_mult_3_stable_gen_restart_1_low_model.com\" target = \"_blank\">com</a></td><td><input type=\"button\" value=\"Smart Log\" id=\"o4_uHF_STO-3G_UB3LYP_631Gd_4_4_cent_carbonyl_mult_3_stable_gen_restart_1_low_model\" onclick=\"view_function(event, this.id)\" /></td><td>Success</td><td> The wavefunction has an internal instability.\n",
        "</td></tr><tr><td>o_sanity_UB3LYP_631Gd_4_4_cent_carbonyl_stable_gen_restart_1_low_model</td><td><a href = \"files/unrestricted_cycloadd_oniom/o_sanity_UB3LYP_631Gd_4_4_cent_carbonyl_stable_gen_restart_1_low_model.com\" target = \"_blank\">com</a></td><td><input type=\"button\" value=\"Smart Log\" id=\"o_sanity_UB3LYP_631Gd_4_4_cent_carbonyl_stable_gen_restart_1_low_model\" onclick=\"view_function(event, this.id)\" /></td><td>Error: TCursr= 1046 LCursr=   43</td><td></td></tr><tr><td>o0_uam1_UB3LYP_631Gd_4_4_graphene_mult_3_stable_gen_restart_1_low_model</td><td><a href = \"files/unrestricted_cycloadd_oniom/o0_uam1_UB3LYP_631Gd_4_4_graphene_mult_3_stable_gen_restart_1_low_model.com\" target = \"_blank\">com</a></td><td><input type=\"button\" value=\"Smart Log\" id=\"o0_uam1_UB3LYP_631Gd_4_4_graphene_mult_3_stable_gen_restart_1_low_model\" onclick=\"view_function(event, this.id)\" /></td><td>Success</td><td></td></tr><tr><td>o0_upm6_UB3LYP_631Gd_4_4_graphene_mult_3_stable_gen_restart_1_low_model</td><td><a href = \"files/unrestricted_cycloadd_oniom/o0_upm6_UB3LYP_631Gd_4_4_graphene_mult_3_stable_gen_restart_1_low_model.com\" target = \"_blank\">com</a></td><td><input type=\"button\" value=\"Smart Log\" id=\"o0_upm6_UB3LYP_631Gd_4_4_graphene_mult_3_stable_gen_restart_1_low_model\" onclick=\"view_function(event, this.id)\" /></td><td>Success</td><td></td></tr><tr><td>o0_uHF_STO-3G_UB3LYP_631Gd_4_4_graphene_mult_3_stable_gen_restart_1_low_model</td><td><a href = \"files/unrestricted_cycloadd_oniom/o0_uHF_STO-3G_UB3LYP_631Gd_4_4_graphene_mult_3_stable_gen_restart_1_low_model.com\" target = \"_blank\">com</a></td><td><input type=\"button\" value=\"Smart Log\" id=\"o0_uHF_STO-3G_UB3LYP_631Gd_4_4_graphene_mult_3_stable_gen_restart_1_low_model\" onclick=\"view_function(event, this.id)\" /></td><td>Success</td><td></td></tr><tr><td>o1_uam1_UB3LYP_631Gd_4_4_graphene_mult_3_stable_gen_restart_1_low_model</td><td><a href = \"files/unrestricted_cycloadd_oniom/o1_uam1_UB3LYP_631Gd_4_4_graphene_mult_3_stable_gen_restart_1_low_model.com\" target = \"_blank\">com</a></td><td><input type=\"button\" value=\"Smart Log\" id=\"o1_uam1_UB3LYP_631Gd_4_4_graphene_mult_3_stable_gen_restart_1_low_model\" onclick=\"view_function(event, this.id)\" /></td><td>Success</td><td> The wavefunction has an internal instability.\n",
        "</td></tr><tr><td>o1_upm6_UB3LYP_631Gd_4_4_graphene_mult_3_stable_gen_restart_1_low_model</td><td><a href = \"files/unrestricted_cycloadd_oniom/o1_upm6_UB3LYP_631Gd_4_4_graphene_mult_3_stable_gen_restart_1_low_model.com\" target = \"_blank\">com</a></td><td><input type=\"button\" value=\"Smart Log\" id=\"o1_upm6_UB3LYP_631Gd_4_4_graphene_mult_3_stable_gen_restart_1_low_model\" onclick=\"view_function(event, this.id)\" /></td><td>Success</td><td></td></tr><tr><td>o1_uHF_STO-3G_UB3LYP_631Gd_4_4_graphene_mult_3_stable_gen_restart_1_low_model</td><td><a href = \"files/unrestricted_cycloadd_oniom/o1_uHF_STO-3G_UB3LYP_631Gd_4_4_graphene_mult_3_stable_gen_restart_1_low_model.com\" target = \"_blank\">com</a></td><td><input type=\"button\" value=\"Smart Log\" id=\"o1_uHF_STO-3G_UB3LYP_631Gd_4_4_graphene_mult_3_stable_gen_restart_1_low_model\" onclick=\"view_function(event, this.id)\" /></td><td>Success</td><td> The wavefunction has an internal instability.\n",
        "</td></tr><tr><td>o2_uam1_UB3LYP_631Gd_4_4_graphene_mult_3_stable_gen_restart_1_low_model</td><td><a href = \"files/unrestricted_cycloadd_oniom/o2_uam1_UB3LYP_631Gd_4_4_graphene_mult_3_stable_gen_restart_1_low_model.com\" target = \"_blank\">com</a></td><td><input type=\"button\" value=\"Smart Log\" id=\"o2_uam1_UB3LYP_631Gd_4_4_graphene_mult_3_stable_gen_restart_1_low_model\" onclick=\"view_function(event, this.id)\" /></td><td>Success</td><td> The wavefunction has an internal instability.\n",
        "</td></tr><tr><td>o2_upm6_UB3LYP_631Gd_4_4_graphene_mult_3_stable_gen_restart_1_low_model</td><td><a href = \"files/unrestricted_cycloadd_oniom/o2_upm6_UB3LYP_631Gd_4_4_graphene_mult_3_stable_gen_restart_1_low_model.com\" target = \"_blank\">com</a></td><td><input type=\"button\" value=\"Smart Log\" id=\"o2_upm6_UB3LYP_631Gd_4_4_graphene_mult_3_stable_gen_restart_1_low_model\" onclick=\"view_function(event, this.id)\" /></td><td>Success</td><td> The wavefunction has an internal instability.\n",
        "</td></tr><tr><td>o2_uHF_STO-3G_UB3LYP_631Gd_4_4_graphene_mult_3_stable_gen_restart_1_low_model</td><td><a href = \"files/unrestricted_cycloadd_oniom/o2_uHF_STO-3G_UB3LYP_631Gd_4_4_graphene_mult_3_stable_gen_restart_1_low_model.com\" target = \"_blank\">com</a></td><td><input type=\"button\" value=\"Smart Log\" id=\"o2_uHF_STO-3G_UB3LYP_631Gd_4_4_graphene_mult_3_stable_gen_restart_1_low_model\" onclick=\"view_function(event, this.id)\" /></td><td>Success</td><td> The wavefunction has an internal instability.\n",
        "</td></tr><tr><td>o3_uam1_UB3LYP_631Gd_4_4_graphene_mult_3_stable_gen_restart_1_low_model</td><td><a href = \"files/unrestricted_cycloadd_oniom/o3_uam1_UB3LYP_631Gd_4_4_graphene_mult_3_stable_gen_restart_1_low_model.com\" target = \"_blank\">com</a></td><td><input type=\"button\" value=\"Smart Log\" id=\"o3_uam1_UB3LYP_631Gd_4_4_graphene_mult_3_stable_gen_restart_1_low_model\" onclick=\"view_function(event, this.id)\" /></td><td>Success</td><td> The wavefunction has an internal instability.\n",
        "</td></tr><tr><td>o3_upm6_UB3LYP_631Gd_4_4_graphene_mult_3_stable_gen_restart_1_low_model</td><td><a href = \"files/unrestricted_cycloadd_oniom/o3_upm6_UB3LYP_631Gd_4_4_graphene_mult_3_stable_gen_restart_1_low_model.com\" target = \"_blank\">com</a></td><td><input type=\"button\" value=\"Smart Log\" id=\"o3_upm6_UB3LYP_631Gd_4_4_graphene_mult_3_stable_gen_restart_1_low_model\" onclick=\"view_function(event, this.id)\" /></td><td>Success</td><td> The wavefunction has an internal instability.\n",
        "</td></tr><tr><td>o3_uHF_STO-3G_UB3LYP_631Gd_4_4_graphene_mult_3_stable_gen_restart_1_low_model</td><td><a href = \"files/unrestricted_cycloadd_oniom/o3_uHF_STO-3G_UB3LYP_631Gd_4_4_graphene_mult_3_stable_gen_restart_1_low_model.com\" target = \"_blank\">com</a></td><td><input type=\"button\" value=\"Smart Log\" id=\"o3_uHF_STO-3G_UB3LYP_631Gd_4_4_graphene_mult_3_stable_gen_restart_1_low_model\" onclick=\"view_function(event, this.id)\" /></td><td>Success</td><td> The wavefunction has an internal instability.\n",
        "</td></tr><tr><td>o4_uam1_UB3LYP_631Gd_4_4_graphene_mult_3_stable_gen_restart_1_low_model</td><td><a href = \"files/unrestricted_cycloadd_oniom/o4_uam1_UB3LYP_631Gd_4_4_graphene_mult_3_stable_gen_restart_1_low_model.com\" target = \"_blank\">com</a></td><td><input type=\"button\" value=\"Smart Log\" id=\"o4_uam1_UB3LYP_631Gd_4_4_graphene_mult_3_stable_gen_restart_1_low_model\" onclick=\"view_function(event, this.id)\" /></td><td>Success</td><td> The wavefunction has an internal instability.\n",
        "</td></tr><tr><td>o4_upm6_UB3LYP_631Gd_4_4_graphene_mult_3_stable_gen_restart_1_low_model</td><td><a href = \"files/unrestricted_cycloadd_oniom/o4_upm6_UB3LYP_631Gd_4_4_graphene_mult_3_stable_gen_restart_1_low_model.com\" target = \"_blank\">com</a></td><td><input type=\"button\" value=\"Smart Log\" id=\"o4_upm6_UB3LYP_631Gd_4_4_graphene_mult_3_stable_gen_restart_1_low_model\" onclick=\"view_function(event, this.id)\" /></td><td>Success</td><td> The wavefunction has an internal instability.\n",
        "</td></tr><tr><td>o4_uHF_STO-3G_UB3LYP_631Gd_4_4_graphene_mult_3_stable_gen_restart_1_low_model</td><td><a href = \"files/unrestricted_cycloadd_oniom/o4_uHF_STO-3G_UB3LYP_631Gd_4_4_graphene_mult_3_stable_gen_restart_1_low_model.com\" target = \"_blank\">com</a></td><td><input type=\"button\" value=\"Smart Log\" id=\"o4_uHF_STO-3G_UB3LYP_631Gd_4_4_graphene_mult_3_stable_gen_restart_1_low_model\" onclick=\"view_function(event, this.id)\" /></td><td>Success</td><td> The wavefunction has an internal instability.\n",
        "</td></tr><tr><td>o_sanity_UB3LYP_631Gd_4_4_graphene_stable_gen_restart_1_low_model</td><td><a href = \"files/unrestricted_cycloadd_oniom/o_sanity_UB3LYP_631Gd_4_4_graphene_stable_gen_restart_1_low_model.com\" target = \"_blank\">com</a></td><td><input type=\"button\" value=\"Smart Log\" id=\"o_sanity_UB3LYP_631Gd_4_4_graphene_stable_gen_restart_1_low_model\" onclick=\"view_function(event, this.id)\" /></td><td>Error: TCursr= 1046 LCursr=   43</td><td></td></tr>\n",
        "    </table>\n",
        "    </body>"
       ],
       "output_type": "pyout",
       "prompt_number": 20,
       "text": [
        "<IPython.core.display.HTML at 0x324fd90>"
       ]
      }
     ],
     "prompt_number": 20
    },
    {
     "cell_type": "code",
     "collapsed": false,
     "input": [
      "l = o_44_carb_m3_stable + o_44_m3_stable\n",
      "\n",
      "for i, m in enumerate(l):\n",
      "    m.calc.restart(remove_label='stable_gen', method = m.calc.method.replace('=OnlyInputFiles', ''), component_calcs = zip(l_rls, h_mds, l_mds)[i])\n",
      "    m.calc.set_job(nodes=8, memory=8*1400, time=5, queue='pqmb')\n",
      "    #m.calc.start(frc=True)"
     ],
     "language": "python",
     "metadata": {},
     "outputs": [],
     "prompt_number": 21
    },
    {
     "cell_type": "code",
     "collapsed": false,
     "input": [
      "check_calcs(l)\n",
      "mols_to_html(l)"
     ],
     "language": "python",
     "metadata": {},
     "outputs": [
      {
       "html": [
        "\n",
        "           <script type=\"text/javascript\">\n",
        "           function view_function (event, file_n) {\n",
        "               if (event.ctrlKey && event.shiftKey){\n",
        "                   IPython.notebook.kernel.execute(\"cc_notebook_utils.pygview('\" + file_n + \".log')\");\n",
        "               }\n",
        "               else if (event.ctrlKey){\n",
        "                   IPython.notebook.kernel.execute(\"cc_notebook_utils.pygausssum('\" + file_n + \".log')\");\n",
        "               }\n",
        "               else if (event.shiftKey){\n",
        "                   IPython.notebook.kernel.execute(\"cc_notebook_utils.pyvogadro('\" + file_n + \".log')\");\n",
        "               }\n",
        "               else IPython.notebook.kernel.execute(\"cc_notebook_utils.pyvim('\" + file_n + \".log')\");\n",
        "           }\n",
        "           </script>\n",
        "    <style>\n",
        "    table\n",
        "    {\n",
        "        border-collapse:collapse;\n",
        "    }\n",
        "    td\n",
        "    {\n",
        "        padding:15px;\n",
        "    }\n",
        "    </style>\n",
        "    <body>\n",
        "    <table bgcolor=\"white\">\n",
        "    <col/><tr><td>o0_uam1_UB3LYP_631Gd_4_4_cent_carbonyl_mult_3_restart_2</td><td><a href = \"files/unrestricted_cycloadd_oniom/o0_uam1_UB3LYP_631Gd_4_4_cent_carbonyl_mult_3_restart_2.com\" target = \"_blank\">com</a></td><td><input type=\"button\" value=\"Smart Log\" id=\"o0_uam1_UB3LYP_631Gd_4_4_cent_carbonyl_mult_3_restart_2\" onclick=\"view_function(event, this.id)\" /></td><td>Success</td></tr><tr><td>o0_upm6_UB3LYP_631Gd_4_4_cent_carbonyl_mult_3_restart_2</td><td><a href = \"files/unrestricted_cycloadd_oniom/o0_upm6_UB3LYP_631Gd_4_4_cent_carbonyl_mult_3_restart_2.com\" target = \"_blank\">com</a></td><td><input type=\"button\" value=\"Smart Log\" id=\"o0_upm6_UB3LYP_631Gd_4_4_cent_carbonyl_mult_3_restart_2\" onclick=\"view_function(event, this.id)\" /></td><td>Success</td></tr><tr><td>o0_uHF_STO-3G_UB3LYP_631Gd_4_4_cent_carbonyl_mult_3_restart_2</td><td><a href = \"files/unrestricted_cycloadd_oniom/o0_uHF_STO-3G_UB3LYP_631Gd_4_4_cent_carbonyl_mult_3_restart_2.com\" target = \"_blank\">com</a></td><td><input type=\"button\" value=\"Smart Log\" id=\"o0_uHF_STO-3G_UB3LYP_631Gd_4_4_cent_carbonyl_mult_3_restart_2\" onclick=\"view_function(event, this.id)\" /></td><td>Success</td></tr><tr><td>o1_uam1_UB3LYP_631Gd_4_4_cent_carbonyl_mult_3_restart_2</td><td><a href = \"files/unrestricted_cycloadd_oniom/o1_uam1_UB3LYP_631Gd_4_4_cent_carbonyl_mult_3_restart_2.com\" target = \"_blank\">com</a></td><td><input type=\"button\" value=\"Smart Log\" id=\"o1_uam1_UB3LYP_631Gd_4_4_cent_carbonyl_mult_3_restart_2\" onclick=\"view_function(event, this.id)\" /></td><td>Success</td></tr><tr><td>o1_upm6_UB3LYP_631Gd_4_4_cent_carbonyl_mult_3_restart_2</td><td><a href = \"files/unrestricted_cycloadd_oniom/o1_upm6_UB3LYP_631Gd_4_4_cent_carbonyl_mult_3_restart_2.com\" target = \"_blank\">com</a></td><td><input type=\"button\" value=\"Smart Log\" id=\"o1_upm6_UB3LYP_631Gd_4_4_cent_carbonyl_mult_3_restart_2\" onclick=\"view_function(event, this.id)\" /></td><td>Success</td></tr><tr><td>o1_uHF_STO-3G_UB3LYP_631Gd_4_4_cent_carbonyl_mult_3_restart_2</td><td><a href = \"files/unrestricted_cycloadd_oniom/o1_uHF_STO-3G_UB3LYP_631Gd_4_4_cent_carbonyl_mult_3_restart_2.com\" target = \"_blank\">com</a></td><td><input type=\"button\" value=\"Smart Log\" id=\"o1_uHF_STO-3G_UB3LYP_631Gd_4_4_cent_carbonyl_mult_3_restart_2\" onclick=\"view_function(event, this.id)\" /></td><td>Success</td></tr><tr><td>o2_uam1_UB3LYP_631Gd_4_4_cent_carbonyl_mult_3_restart_2</td><td><a href = \"files/unrestricted_cycloadd_oniom/o2_uam1_UB3LYP_631Gd_4_4_cent_carbonyl_mult_3_restart_2.com\" target = \"_blank\">com</a></td><td><input type=\"button\" value=\"Smart Log\" id=\"o2_uam1_UB3LYP_631Gd_4_4_cent_carbonyl_mult_3_restart_2\" onclick=\"view_function(event, this.id)\" /></td><td>Success</td></tr><tr><td>o2_upm6_UB3LYP_631Gd_4_4_cent_carbonyl_mult_3_restart_2</td><td><a href = \"files/unrestricted_cycloadd_oniom/o2_upm6_UB3LYP_631Gd_4_4_cent_carbonyl_mult_3_restart_2.com\" target = \"_blank\">com</a></td><td><input type=\"button\" value=\"Smart Log\" id=\"o2_upm6_UB3LYP_631Gd_4_4_cent_carbonyl_mult_3_restart_2\" onclick=\"view_function(event, this.id)\" /></td><td>Success</td></tr><tr><td>o2_uHF_STO-3G_UB3LYP_631Gd_4_4_cent_carbonyl_mult_3_restart_2</td><td><a href = \"files/unrestricted_cycloadd_oniom/o2_uHF_STO-3G_UB3LYP_631Gd_4_4_cent_carbonyl_mult_3_restart_2.com\" target = \"_blank\">com</a></td><td><input type=\"button\" value=\"Smart Log\" id=\"o2_uHF_STO-3G_UB3LYP_631Gd_4_4_cent_carbonyl_mult_3_restart_2\" onclick=\"view_function(event, this.id)\" /></td><td>Success</td></tr><tr><td>o3_uam1_UB3LYP_631Gd_4_4_cent_carbonyl_mult_3_restart_2</td><td><a href = \"files/unrestricted_cycloadd_oniom/o3_uam1_UB3LYP_631Gd_4_4_cent_carbonyl_mult_3_restart_2.com\" target = \"_blank\">com</a></td><td><input type=\"button\" value=\"Smart Log\" id=\"o3_uam1_UB3LYP_631Gd_4_4_cent_carbonyl_mult_3_restart_2\" onclick=\"view_function(event, this.id)\" /></td><td>Success</td></tr><tr><td>o3_upm6_UB3LYP_631Gd_4_4_cent_carbonyl_mult_3_restart_2</td><td><a href = \"files/unrestricted_cycloadd_oniom/o3_upm6_UB3LYP_631Gd_4_4_cent_carbonyl_mult_3_restart_2.com\" target = \"_blank\">com</a></td><td><input type=\"button\" value=\"Smart Log\" id=\"o3_upm6_UB3LYP_631Gd_4_4_cent_carbonyl_mult_3_restart_2\" onclick=\"view_function(event, this.id)\" /></td><td>Success</td></tr><tr><td>o3_uHF_STO-3G_UB3LYP_631Gd_4_4_cent_carbonyl_mult_3_restart_2</td><td><a href = \"files/unrestricted_cycloadd_oniom/o3_uHF_STO-3G_UB3LYP_631Gd_4_4_cent_carbonyl_mult_3_restart_2.com\" target = \"_blank\">com</a></td><td><input type=\"button\" value=\"Smart Log\" id=\"o3_uHF_STO-3G_UB3LYP_631Gd_4_4_cent_carbonyl_mult_3_restart_2\" onclick=\"view_function(event, this.id)\" /></td><td>Success</td></tr><tr><td>o4_uam1_UB3LYP_631Gd_4_4_cent_carbonyl_mult_3_restart_2</td><td><a href = \"files/unrestricted_cycloadd_oniom/o4_uam1_UB3LYP_631Gd_4_4_cent_carbonyl_mult_3_restart_2.com\" target = \"_blank\">com</a></td><td><input type=\"button\" value=\"Smart Log\" id=\"o4_uam1_UB3LYP_631Gd_4_4_cent_carbonyl_mult_3_restart_2\" onclick=\"view_function(event, this.id)\" /></td><td>Success</td></tr><tr><td>o4_upm6_UB3LYP_631Gd_4_4_cent_carbonyl_mult_3_restart_2</td><td><a href = \"files/unrestricted_cycloadd_oniom/o4_upm6_UB3LYP_631Gd_4_4_cent_carbonyl_mult_3_restart_2.com\" target = \"_blank\">com</a></td><td><input type=\"button\" value=\"Smart Log\" id=\"o4_upm6_UB3LYP_631Gd_4_4_cent_carbonyl_mult_3_restart_2\" onclick=\"view_function(event, this.id)\" /></td><td>Success</td></tr><tr><td>o4_uHF_STO-3G_UB3LYP_631Gd_4_4_cent_carbonyl_mult_3_restart_2</td><td><a href = \"files/unrestricted_cycloadd_oniom/o4_uHF_STO-3G_UB3LYP_631Gd_4_4_cent_carbonyl_mult_3_restart_2.com\" target = \"_blank\">com</a></td><td><input type=\"button\" value=\"Smart Log\" id=\"o4_uHF_STO-3G_UB3LYP_631Gd_4_4_cent_carbonyl_mult_3_restart_2\" onclick=\"view_function(event, this.id)\" /></td><td>Success</td></tr><tr><td>o_sanity_UB3LYP_631Gd_4_4_cent_carbonyl_restart_2</td><td><a href = \"files/unrestricted_cycloadd_oniom/o_sanity_UB3LYP_631Gd_4_4_cent_carbonyl_restart_2.com\" target = \"_blank\">com</a></td><td><input type=\"button\" value=\"Smart Log\" id=\"o_sanity_UB3LYP_631Gd_4_4_cent_carbonyl_restart_2\" onclick=\"view_function(event, this.id)\" /></td><td>Error: Basis set data is not on the checkpoint file.</td></tr><tr><td>o0_uam1_UB3LYP_631Gd_4_4_graphene_mult_3_restart_2</td><td><a href = \"files/unrestricted_cycloadd_oniom/o0_uam1_UB3LYP_631Gd_4_4_graphene_mult_3_restart_2.com\" target = \"_blank\">com</a></td><td><input type=\"button\" value=\"Smart Log\" id=\"o0_uam1_UB3LYP_631Gd_4_4_graphene_mult_3_restart_2\" onclick=\"view_function(event, this.id)\" /></td><td>Success</td></tr><tr><td>o0_upm6_UB3LYP_631Gd_4_4_graphene_mult_3_restart_2</td><td><a href = \"files/unrestricted_cycloadd_oniom/o0_upm6_UB3LYP_631Gd_4_4_graphene_mult_3_restart_2.com\" target = \"_blank\">com</a></td><td><input type=\"button\" value=\"Smart Log\" id=\"o0_upm6_UB3LYP_631Gd_4_4_graphene_mult_3_restart_2\" onclick=\"view_function(event, this.id)\" /></td><td>Success</td></tr><tr><td>o0_uHF_STO-3G_UB3LYP_631Gd_4_4_graphene_mult_3_restart_2</td><td><a href = \"files/unrestricted_cycloadd_oniom/o0_uHF_STO-3G_UB3LYP_631Gd_4_4_graphene_mult_3_restart_2.com\" target = \"_blank\">com</a></td><td><input type=\"button\" value=\"Smart Log\" id=\"o0_uHF_STO-3G_UB3LYP_631Gd_4_4_graphene_mult_3_restart_2\" onclick=\"view_function(event, this.id)\" /></td><td>Success</td></tr><tr><td>o1_uam1_UB3LYP_631Gd_4_4_graphene_mult_3_restart_2</td><td><a href = \"files/unrestricted_cycloadd_oniom/o1_uam1_UB3LYP_631Gd_4_4_graphene_mult_3_restart_2.com\" target = \"_blank\">com</a></td><td><input type=\"button\" value=\"Smart Log\" id=\"o1_uam1_UB3LYP_631Gd_4_4_graphene_mult_3_restart_2\" onclick=\"view_function(event, this.id)\" /></td><td>Success</td></tr><tr><td>o1_upm6_UB3LYP_631Gd_4_4_graphene_mult_3_restart_2</td><td><a href = \"files/unrestricted_cycloadd_oniom/o1_upm6_UB3LYP_631Gd_4_4_graphene_mult_3_restart_2.com\" target = \"_blank\">com</a></td><td><input type=\"button\" value=\"Smart Log\" id=\"o1_upm6_UB3LYP_631Gd_4_4_graphene_mult_3_restart_2\" onclick=\"view_function(event, this.id)\" /></td><td>Success</td></tr><tr><td>o1_uHF_STO-3G_UB3LYP_631Gd_4_4_graphene_mult_3_restart_2</td><td><a href = \"files/unrestricted_cycloadd_oniom/o1_uHF_STO-3G_UB3LYP_631Gd_4_4_graphene_mult_3_restart_2.com\" target = \"_blank\">com</a></td><td><input type=\"button\" value=\"Smart Log\" id=\"o1_uHF_STO-3G_UB3LYP_631Gd_4_4_graphene_mult_3_restart_2\" onclick=\"view_function(event, this.id)\" /></td><td>Success</td></tr><tr><td>o2_uam1_UB3LYP_631Gd_4_4_graphene_mult_3_restart_2</td><td><a href = \"files/unrestricted_cycloadd_oniom/o2_uam1_UB3LYP_631Gd_4_4_graphene_mult_3_restart_2.com\" target = \"_blank\">com</a></td><td><input type=\"button\" value=\"Smart Log\" id=\"o2_uam1_UB3LYP_631Gd_4_4_graphene_mult_3_restart_2\" onclick=\"view_function(event, this.id)\" /></td><td>Success</td></tr><tr><td>o2_upm6_UB3LYP_631Gd_4_4_graphene_mult_3_restart_2</td><td><a href = \"files/unrestricted_cycloadd_oniom/o2_upm6_UB3LYP_631Gd_4_4_graphene_mult_3_restart_2.com\" target = \"_blank\">com</a></td><td><input type=\"button\" value=\"Smart Log\" id=\"o2_upm6_UB3LYP_631Gd_4_4_graphene_mult_3_restart_2\" onclick=\"view_function(event, this.id)\" /></td><td>Success</td></tr><tr><td>o2_uHF_STO-3G_UB3LYP_631Gd_4_4_graphene_mult_3_restart_2</td><td><a href = \"files/unrestricted_cycloadd_oniom/o2_uHF_STO-3G_UB3LYP_631Gd_4_4_graphene_mult_3_restart_2.com\" target = \"_blank\">com</a></td><td><input type=\"button\" value=\"Smart Log\" id=\"o2_uHF_STO-3G_UB3LYP_631Gd_4_4_graphene_mult_3_restart_2\" onclick=\"view_function(event, this.id)\" /></td><td>Success</td></tr><tr><td>o3_uam1_UB3LYP_631Gd_4_4_graphene_mult_3_restart_2</td><td><a href = \"files/unrestricted_cycloadd_oniom/o3_uam1_UB3LYP_631Gd_4_4_graphene_mult_3_restart_2.com\" target = \"_blank\">com</a></td><td><input type=\"button\" value=\"Smart Log\" id=\"o3_uam1_UB3LYP_631Gd_4_4_graphene_mult_3_restart_2\" onclick=\"view_function(event, this.id)\" /></td><td>Success</td></tr><tr><td>o3_upm6_UB3LYP_631Gd_4_4_graphene_mult_3_restart_2</td><td><a href = \"files/unrestricted_cycloadd_oniom/o3_upm6_UB3LYP_631Gd_4_4_graphene_mult_3_restart_2.com\" target = \"_blank\">com</a></td><td><input type=\"button\" value=\"Smart Log\" id=\"o3_upm6_UB3LYP_631Gd_4_4_graphene_mult_3_restart_2\" onclick=\"view_function(event, this.id)\" /></td><td>Success</td></tr><tr><td>o3_uHF_STO-3G_UB3LYP_631Gd_4_4_graphene_mult_3_restart_2</td><td><a href = \"files/unrestricted_cycloadd_oniom/o3_uHF_STO-3G_UB3LYP_631Gd_4_4_graphene_mult_3_restart_2.com\" target = \"_blank\">com</a></td><td><input type=\"button\" value=\"Smart Log\" id=\"o3_uHF_STO-3G_UB3LYP_631Gd_4_4_graphene_mult_3_restart_2\" onclick=\"view_function(event, this.id)\" /></td><td>Success</td></tr><tr><td>o4_uam1_UB3LYP_631Gd_4_4_graphene_mult_3_restart_2</td><td><a href = \"files/unrestricted_cycloadd_oniom/o4_uam1_UB3LYP_631Gd_4_4_graphene_mult_3_restart_2.com\" target = \"_blank\">com</a></td><td><input type=\"button\" value=\"Smart Log\" id=\"o4_uam1_UB3LYP_631Gd_4_4_graphene_mult_3_restart_2\" onclick=\"view_function(event, this.id)\" /></td><td>Success</td></tr><tr><td>o4_upm6_UB3LYP_631Gd_4_4_graphene_mult_3_restart_2</td><td><a href = \"files/unrestricted_cycloadd_oniom/o4_upm6_UB3LYP_631Gd_4_4_graphene_mult_3_restart_2.com\" target = \"_blank\">com</a></td><td><input type=\"button\" value=\"Smart Log\" id=\"o4_upm6_UB3LYP_631Gd_4_4_graphene_mult_3_restart_2\" onclick=\"view_function(event, this.id)\" /></td><td>Success</td></tr><tr><td>o4_uHF_STO-3G_UB3LYP_631Gd_4_4_graphene_mult_3_restart_2</td><td><a href = \"files/unrestricted_cycloadd_oniom/o4_uHF_STO-3G_UB3LYP_631Gd_4_4_graphene_mult_3_restart_2.com\" target = \"_blank\">com</a></td><td><input type=\"button\" value=\"Smart Log\" id=\"o4_uHF_STO-3G_UB3LYP_631Gd_4_4_graphene_mult_3_restart_2\" onclick=\"view_function(event, this.id)\" /></td><td>Success</td></tr><tr><td>o_sanity_UB3LYP_631Gd_4_4_graphene_restart_2</td><td><a href = \"files/unrestricted_cycloadd_oniom/o_sanity_UB3LYP_631Gd_4_4_graphene_restart_2.com\" target = \"_blank\">com</a></td><td><input type=\"button\" value=\"Smart Log\" id=\"o_sanity_UB3LYP_631Gd_4_4_graphene_restart_2\" onclick=\"view_function(event, this.id)\" /></td><td>Error: Basis set data is not on the checkpoint file.</td></tr>\n",
        "    </table>\n",
        "    </body>"
       ],
       "output_type": "pyout",
       "prompt_number": 22,
       "text": [
        "<IPython.core.display.HTML at 0x3b6cbd0>"
       ]
      }
     ],
     "prompt_number": 22
    },
    {
     "cell_type": "markdown",
     "metadata": {},
     "source": [
      "Let's see if any of the methods favour a high spin configuration for the reaction product at this geometry:"
     ]
    },
    {
     "cell_type": "code",
     "collapsed": false,
     "input": [
      "any([(m1,m3) for (m1,m3) in zip(o_44_carb, o_44_carb_m3_stable) if m3.calc.energy_zero < m1.calc.energy_zero])"
     ],
     "language": "python",
     "metadata": {},
     "outputs": [
      {
       "output_type": "pyout",
       "prompt_number": 23,
       "text": [
        "False"
       ]
      }
     ],
     "prompt_number": 23
    },
    {
     "cell_type": "markdown",
     "metadata": {},
     "source": [
      "And if any of the methods favour a high spin configuration for the graphene at this geometry:"
     ]
    },
    {
     "cell_type": "code",
     "collapsed": false,
     "input": [
      "any([(m1,m3) for (m1,m3) in zip(o_44, o_44_m3_stable) if m3.calc.energy_zero < m1.calc.energy_zero])"
     ],
     "language": "python",
     "metadata": {},
     "outputs": [
      {
       "output_type": "pyout",
       "prompt_number": 24,
       "text": [
        "False"
       ]
      }
     ],
     "prompt_number": 24
    },
    {
     "cell_type": "code",
     "collapsed": false,
     "input": [
      "carb = read('../cycloadd/B3LYP_631Gd_B3LYP_631Gd_carbonyl_ylide_mult_1.log')"
     ],
     "language": "python",
     "metadata": {},
     "outputs": [],
     "prompt_number": 25
    },
    {
     "cell_type": "code",
     "collapsed": false,
     "input": [
      "def rxn_E_f(a,g):\n",
      "    try: \n",
      "        return(a.calc.energy_zero - g.calc.energy_zero - carb.calc.energy)* 23.060542301388647 \n",
      "    except AttributeError: \n",
      "        return float('nan')\n",
      "    \n",
      "rxn_Es = []\n",
      "delt_Es = []\n",
      "names = []\n",
      "\n",
      "for i in range(len(o_44_carb)):\n",
      "    rxn_E = rxn_E_f(o_44_carb[i], o_44[i])\n",
      "    delt_E = rxn_E - -15.925565\n",
      "    name = o_44_carb[i].calc.label\n",
      "    rxn_Es.append(rxn_E)\n",
      "    delt_Es.append(delt_E)\n",
      "    names.append(name)\n",
      "\n",
      "o_data = pandas.Series(rxn_Es ,names)\n",
      "o_dft_delt_data = pandas.Series(delt_Es, names)"
     ],
     "language": "python",
     "metadata": {},
     "outputs": [],
     "prompt_number": 26
    },
    {
     "cell_type": "code",
     "collapsed": false,
     "input": [
      "#energy in Kcal/mol\n",
      "d = {'Rxn Energy': o_data, 'oniom-b3lyp_delta': o_dft_delt_data}\n",
      "rxn_frame = pandas.DataFrame(d)\n",
      "#rxn_frame.save('o_rxn_E_data.pickle')\n",
      "rxn_frame"
     ],
     "language": "python",
     "metadata": {},
     "outputs": [
      {
       "html": [
        "<div style=\"max-height:1000px;max-width:1500px;overflow:auto;\">\n",
        "<table border=\"1\" class=\"dataframe\">\n",
        "  <thead>\n",
        "    <tr style=\"text-align: right;\">\n",
        "      <th></th>\n",
        "      <th>Rxn Energy</th>\n",
        "      <th>oniom-b3lyp_delta</th>\n",
        "    </tr>\n",
        "  </thead>\n",
        "  <tbody>\n",
        "    <tr>\n",
        "      <td><strong>o0_uam1_UB3LYP_631Gd_4_4_cent_carbonyl_restart_1</strong></td>\n",
        "      <td>-23.010801</td>\n",
        "      <td> -7.085236</td>\n",
        "    </tr>\n",
        "    <tr>\n",
        "      <td><strong>o0_upm6_UB3LYP_631Gd_4_4_cent_carbonyl_restart_1</strong></td>\n",
        "      <td>-45.805059</td>\n",
        "      <td>-29.879494</td>\n",
        "    </tr>\n",
        "    <tr>\n",
        "      <td><strong>o0_uHF_STO-3G_UB3LYP_631Gd_4_4_cent_carbonyl_restart_1</strong></td>\n",
        "      <td> -3.593341</td>\n",
        "      <td> 12.332224</td>\n",
        "    </tr>\n",
        "    <tr>\n",
        "      <td><strong>o1_uam1_UB3LYP_631Gd_4_4_cent_carbonyl_restart_1</strong></td>\n",
        "      <td> -7.100873</td>\n",
        "      <td>  8.824692</td>\n",
        "    </tr>\n",
        "    <tr>\n",
        "      <td><strong>o1_upm6_UB3LYP_631Gd_4_4_cent_carbonyl_restart_1</strong></td>\n",
        "      <td> -9.572330</td>\n",
        "      <td>  6.353235</td>\n",
        "    </tr>\n",
        "    <tr>\n",
        "      <td><strong>o1_uHF_STO-3G_UB3LYP_631Gd_4_4_cent_carbonyl_restart_1</strong></td>\n",
        "      <td> -7.431844</td>\n",
        "      <td>  8.493721</td>\n",
        "    </tr>\n",
        "    <tr>\n",
        "      <td><strong>o2_uam1_UB3LYP_631Gd_4_4_cent_carbonyl_restart_1</strong></td>\n",
        "      <td>-13.250026</td>\n",
        "      <td>  2.675539</td>\n",
        "    </tr>\n",
        "    <tr>\n",
        "      <td><strong>o2_upm6_UB3LYP_631Gd_4_4_cent_carbonyl_restart_1</strong></td>\n",
        "      <td>-14.812139</td>\n",
        "      <td>  1.113426</td>\n",
        "    </tr>\n",
        "    <tr>\n",
        "      <td><strong>o2_uHF_STO-3G_UB3LYP_631Gd_4_4_cent_carbonyl_restart_1</strong></td>\n",
        "      <td> -8.420897</td>\n",
        "      <td>  7.504668</td>\n",
        "    </tr>\n",
        "    <tr>\n",
        "      <td><strong>o3_uam1_UB3LYP_631Gd_4_4_cent_carbonyl_restart_1</strong></td>\n",
        "      <td>-24.587587</td>\n",
        "      <td> -8.662022</td>\n",
        "    </tr>\n",
        "    <tr>\n",
        "      <td><strong>o3_upm6_UB3LYP_631Gd_4_4_cent_carbonyl_restart_1</strong></td>\n",
        "      <td>-25.948620</td>\n",
        "      <td>-10.023055</td>\n",
        "    </tr>\n",
        "    <tr>\n",
        "      <td><strong>o3_uHF_STO-3G_UB3LYP_631Gd_4_4_cent_carbonyl_restart_1</strong></td>\n",
        "      <td>-21.771028</td>\n",
        "      <td> -5.845463</td>\n",
        "    </tr>\n",
        "    <tr>\n",
        "      <td><strong>o4_uam1_UB3LYP_631Gd_4_4_cent_carbonyl_restart_1</strong></td>\n",
        "      <td> -5.202963</td>\n",
        "      <td> 10.722602</td>\n",
        "    </tr>\n",
        "    <tr>\n",
        "      <td><strong>o4_upm6_UB3LYP_631Gd_4_4_cent_carbonyl_restart_1</strong></td>\n",
        "      <td> -5.133603</td>\n",
        "      <td> 10.791962</td>\n",
        "    </tr>\n",
        "    <tr>\n",
        "      <td><strong>o4_uHF_STO-3G_UB3LYP_631Gd_4_4_cent_carbonyl_restart_1</strong></td>\n",
        "      <td> -4.682978</td>\n",
        "      <td> 11.242587</td>\n",
        "    </tr>\n",
        "    <tr>\n",
        "      <td><strong>o_sanity_UB3LYP_631Gd_4_4_cent_carbonyl_restart_1</strong></td>\n",
        "      <td>       NaN</td>\n",
        "      <td>       NaN</td>\n",
        "    </tr>\n",
        "  </tbody>\n",
        "</table>\n",
        "</div>"
       ],
       "output_type": "pyout",
       "prompt_number": 27,
       "text": [
        "                                                        Rxn Energy  oniom-b3lyp_delta\n",
        "o0_uam1_UB3LYP_631Gd_4_4_cent_carbonyl_restart_1        -23.010801          -7.085236\n",
        "o0_upm6_UB3LYP_631Gd_4_4_cent_carbonyl_restart_1        -45.805059         -29.879494\n",
        "o0_uHF_STO-3G_UB3LYP_631Gd_4_4_cent_carbonyl_restart_1   -3.593341          12.332224\n",
        "o1_uam1_UB3LYP_631Gd_4_4_cent_carbonyl_restart_1         -7.100873           8.824692\n",
        "o1_upm6_UB3LYP_631Gd_4_4_cent_carbonyl_restart_1         -9.572330           6.353235\n",
        "o1_uHF_STO-3G_UB3LYP_631Gd_4_4_cent_carbonyl_restart_1   -7.431844           8.493721\n",
        "o2_uam1_UB3LYP_631Gd_4_4_cent_carbonyl_restart_1        -13.250026           2.675539\n",
        "o2_upm6_UB3LYP_631Gd_4_4_cent_carbonyl_restart_1        -14.812139           1.113426\n",
        "o2_uHF_STO-3G_UB3LYP_631Gd_4_4_cent_carbonyl_restart_1   -8.420897           7.504668\n",
        "o3_uam1_UB3LYP_631Gd_4_4_cent_carbonyl_restart_1        -24.587587          -8.662022\n",
        "o3_upm6_UB3LYP_631Gd_4_4_cent_carbonyl_restart_1        -25.948620         -10.023055\n",
        "o3_uHF_STO-3G_UB3LYP_631Gd_4_4_cent_carbonyl_restart_1  -21.771028          -5.845463\n",
        "o4_uam1_UB3LYP_631Gd_4_4_cent_carbonyl_restart_1         -5.202963          10.722602\n",
        "o4_upm6_UB3LYP_631Gd_4_4_cent_carbonyl_restart_1         -5.133603          10.791962\n",
        "o4_uHF_STO-3G_UB3LYP_631Gd_4_4_cent_carbonyl_restart_1   -4.682978          11.242587\n",
        "o_sanity_UB3LYP_631Gd_4_4_cent_carbonyl_restart_1              NaN                NaN"
       ]
      }
     ],
     "prompt_number": 27
    },
    {
     "cell_type": "markdown",
     "metadata": {},
     "source": [
      "o2_ump6 is good."
     ]
    },
    {
     "cell_type": "code",
     "collapsed": false,
     "input": [
      "m3_rxn_Es = []\n",
      "m3_delt_Es = []\n",
      "m3_names = []\n",
      "\n",
      "for i in range(len(o_44_carb_m3_stable)):\n",
      "    rxn_E = rxn_E_f(o_44_carb_m3_stable[i], o_44[i])\n",
      "    delt_E = rxn_E - -15.790776\n",
      "    name = o_44_carb_m3_stable[i].calc.label\n",
      "    m3_rxn_Es.append(rxn_E)\n",
      "    m3_delt_Es.append(delt_E)\n",
      "    m3_names.append(name)\n",
      "\n",
      "m3_o_data = pandas.Series(m3_rxn_Es ,m3_names)\n",
      "m3_o_dft_delt_data = pandas.Series(m3_delt_Es, m3_names)"
     ],
     "language": "python",
     "metadata": {},
     "outputs": [],
     "prompt_number": 28
    },
    {
     "cell_type": "code",
     "collapsed": false,
     "input": [
      "#energy in Kcal/mol\n",
      "d2 = {'Rxn Energy': m3_o_data, 'oniom-b3lyp_delta': m3_o_dft_delt_data}\n",
      "rxn_frame2 = pandas.DataFrame(d2)\n",
      "#rxn_frame.save('o_rxn_E_data.pickle')\n",
      "rxn_frame2"
     ],
     "language": "python",
     "metadata": {},
     "outputs": [
      {
       "html": [
        "<div style=\"max-height:1000px;max-width:1500px;overflow:auto;\">\n",
        "<table border=\"1\" class=\"dataframe\">\n",
        "  <thead>\n",
        "    <tr style=\"text-align: right;\">\n",
        "      <th></th>\n",
        "      <th>Rxn Energy</th>\n",
        "      <th>oniom-b3lyp_delta</th>\n",
        "    </tr>\n",
        "  </thead>\n",
        "  <tbody>\n",
        "    <tr>\n",
        "      <td><strong>o0_uam1_UB3LYP_631Gd_4_4_cent_carbonyl_mult_3_restart_2</strong></td>\n",
        "      <td> 79.284703</td>\n",
        "      <td> 95.075479</td>\n",
        "    </tr>\n",
        "    <tr>\n",
        "      <td><strong>o0_upm6_UB3LYP_631Gd_4_4_cent_carbonyl_mult_3_restart_2</strong></td>\n",
        "      <td> 73.532778</td>\n",
        "      <td> 89.323554</td>\n",
        "    </tr>\n",
        "    <tr>\n",
        "      <td><strong>o0_uHF_STO-3G_UB3LYP_631Gd_4_4_cent_carbonyl_mult_3_restart_2</strong></td>\n",
        "      <td> 14.232789</td>\n",
        "      <td> 30.023565</td>\n",
        "    </tr>\n",
        "    <tr>\n",
        "      <td><strong>o1_uam1_UB3LYP_631Gd_4_4_cent_carbonyl_mult_3_restart_2</strong></td>\n",
        "      <td> 36.646682</td>\n",
        "      <td> 52.437458</td>\n",
        "    </tr>\n",
        "    <tr>\n",
        "      <td><strong>o1_upm6_UB3LYP_631Gd_4_4_cent_carbonyl_mult_3_restart_2</strong></td>\n",
        "      <td> 29.005741</td>\n",
        "      <td> 44.796517</td>\n",
        "    </tr>\n",
        "    <tr>\n",
        "      <td><strong>o1_uHF_STO-3G_UB3LYP_631Gd_4_4_cent_carbonyl_mult_3_restart_2</strong></td>\n",
        "      <td> 71.872064</td>\n",
        "      <td> 87.662840</td>\n",
        "    </tr>\n",
        "    <tr>\n",
        "      <td><strong>o2_uam1_UB3LYP_631Gd_4_4_cent_carbonyl_mult_3_restart_2</strong></td>\n",
        "      <td> 21.185813</td>\n",
        "      <td> 36.976589</td>\n",
        "    </tr>\n",
        "    <tr>\n",
        "      <td><strong>o2_upm6_UB3LYP_631Gd_4_4_cent_carbonyl_mult_3_restart_2</strong></td>\n",
        "      <td> 17.920317</td>\n",
        "      <td> 33.711093</td>\n",
        "    </tr>\n",
        "    <tr>\n",
        "      <td><strong>o2_uHF_STO-3G_UB3LYP_631Gd_4_4_cent_carbonyl_mult_3_restart_2</strong></td>\n",
        "      <td> 45.791188</td>\n",
        "      <td> 61.581964</td>\n",
        "    </tr>\n",
        "    <tr>\n",
        "      <td><strong>o3_uam1_UB3LYP_631Gd_4_4_cent_carbonyl_mult_3_restart_2</strong></td>\n",
        "      <td> -5.431824</td>\n",
        "      <td> 10.358952</td>\n",
        "    </tr>\n",
        "    <tr>\n",
        "      <td><strong>o3_upm6_UB3LYP_631Gd_4_4_cent_carbonyl_mult_3_restart_2</strong></td>\n",
        "      <td>-11.638075</td>\n",
        "      <td>  4.152701</td>\n",
        "    </tr>\n",
        "    <tr>\n",
        "      <td><strong>o3_uHF_STO-3G_UB3LYP_631Gd_4_4_cent_carbonyl_mult_3_restart_2</strong></td>\n",
        "      <td>  7.354330</td>\n",
        "      <td> 23.145106</td>\n",
        "    </tr>\n",
        "    <tr>\n",
        "      <td><strong>o4_uam1_UB3LYP_631Gd_4_4_cent_carbonyl_mult_3_restart_2</strong></td>\n",
        "      <td>  4.111374</td>\n",
        "      <td> 19.902150</td>\n",
        "    </tr>\n",
        "    <tr>\n",
        "      <td><strong>o4_upm6_UB3LYP_631Gd_4_4_cent_carbonyl_mult_3_restart_2</strong></td>\n",
        "      <td>  4.083585</td>\n",
        "      <td> 19.874361</td>\n",
        "    </tr>\n",
        "    <tr>\n",
        "      <td><strong>o4_uHF_STO-3G_UB3LYP_631Gd_4_4_cent_carbonyl_mult_3_restart_2</strong></td>\n",
        "      <td>  3.529600</td>\n",
        "      <td> 19.320376</td>\n",
        "    </tr>\n",
        "    <tr>\n",
        "      <td><strong>o_sanity_UB3LYP_631Gd_4_4_cent_carbonyl_restart_2</strong></td>\n",
        "      <td>       NaN</td>\n",
        "      <td>       NaN</td>\n",
        "    </tr>\n",
        "  </tbody>\n",
        "</table>\n",
        "</div>"
       ],
       "output_type": "pyout",
       "prompt_number": 29,
       "text": [
        "                                                               Rxn Energy  oniom-b3lyp_delta\n",
        "o0_uam1_UB3LYP_631Gd_4_4_cent_carbonyl_mult_3_restart_2         79.284703          95.075479\n",
        "o0_upm6_UB3LYP_631Gd_4_4_cent_carbonyl_mult_3_restart_2         73.532778          89.323554\n",
        "o0_uHF_STO-3G_UB3LYP_631Gd_4_4_cent_carbonyl_mult_3_restart_2   14.232789          30.023565\n",
        "o1_uam1_UB3LYP_631Gd_4_4_cent_carbonyl_mult_3_restart_2         36.646682          52.437458\n",
        "o1_upm6_UB3LYP_631Gd_4_4_cent_carbonyl_mult_3_restart_2         29.005741          44.796517\n",
        "o1_uHF_STO-3G_UB3LYP_631Gd_4_4_cent_carbonyl_mult_3_restart_2   71.872064          87.662840\n",
        "o2_uam1_UB3LYP_631Gd_4_4_cent_carbonyl_mult_3_restart_2         21.185813          36.976589\n",
        "o2_upm6_UB3LYP_631Gd_4_4_cent_carbonyl_mult_3_restart_2         17.920317          33.711093\n",
        "o2_uHF_STO-3G_UB3LYP_631Gd_4_4_cent_carbonyl_mult_3_restart_2   45.791188          61.581964\n",
        "o3_uam1_UB3LYP_631Gd_4_4_cent_carbonyl_mult_3_restart_2         -5.431824          10.358952\n",
        "o3_upm6_UB3LYP_631Gd_4_4_cent_carbonyl_mult_3_restart_2        -11.638075           4.152701\n",
        "o3_uHF_STO-3G_UB3LYP_631Gd_4_4_cent_carbonyl_mult_3_restart_2    7.354330          23.145106\n",
        "o4_uam1_UB3LYP_631Gd_4_4_cent_carbonyl_mult_3_restart_2          4.111374          19.902150\n",
        "o4_upm6_UB3LYP_631Gd_4_4_cent_carbonyl_mult_3_restart_2          4.083585          19.874361\n",
        "o4_uHF_STO-3G_UB3LYP_631Gd_4_4_cent_carbonyl_mult_3_restart_2    3.529600          19.320376\n",
        "o_sanity_UB3LYP_631Gd_4_4_cent_carbonyl_restart_2                     NaN                NaN"
       ]
      }
     ],
     "prompt_number": 29
    },
    {
     "cell_type": "heading",
     "level": 1,
     "metadata": {},
     "source": [
      "Single Point calculations at the Unrestricted geometry:"
     ]
    },
    {
     "cell_type": "code",
     "collapsed": false,
     "input": [
      "cd correction"
     ],
     "language": "python",
     "metadata": {},
     "outputs": [
      {
       "output_type": "stream",
       "stream": "stdout",
       "text": [
        "/home/clyde/Dropbox/Project Stuff/Notebooks/unrestricted_cycloadd_oniom/correction\n"
       ]
      }
     ],
     "prompt_number": 30
    },
    {
     "cell_type": "code",
     "collapsed": false,
     "input": [
      "carb_44_xyz = '../oniom_xyz_files/non_oniom_final/UB3LYP_631Gd_UB3LYP_631Gd_4_4_cent_carbonyl_final.xyz'\n",
      "azo_44_xyz = '../oniom_xyz_files/non_oniom_final/UB3LYP_631Gd_UB3LYP_631Gd_4_4_cent_azomethine_v2_final.xyz'\n",
      "graph_44_xyz = '../oniom_xyz_files/non_oniom_final/UB3LYP_631Gd_UB3LYP_631Gd_4_4_graphene_final.xyz'"
     ],
     "language": "python",
     "metadata": {},
     "outputs": [],
     "prompt_number": 31
    },
    {
     "cell_type": "code",
     "collapsed": false,
     "input": [
      "o_44_carb = []\n",
      "o_44 = []\n",
      "\n",
      "for siz in range(5):\n",
      "    for meth in l_methods:\n",
      "        graph_ylid = read(carb_44_xyz)\n",
      "        graph_ylid_name = 'o{s}_{m}_UB3LYP_631Gd_4_4_cent_carbonyl_stable'.format(m=meth.replace('/', '_'), s=siz)\n",
      "        graph_ylid.set_calculator(Gaussian(label=graph_ylid_name, method='oniom(UB3LYP/6-31G(d):{l})=OnlyInputFiles'.format(l=meth), basis='oniom'))\n",
      "        graph_ylid_H = ylide_atoms + graph_atoms[siz]\n",
      "        graph_ylid.calc.oniom_coord_params['layers'] = [[no -1 for no in graph_ylid_H]]\n",
      "        graph_ylid.calc.oniom_coord_params['layer_mults'] = [1,1]\n",
      "        graph_ylid.calc.set_job(nodes=1, memory=400, time=1, queue='pqmb')\n",
      "        \n",
      "        graph = read(graph_44_xyz)\n",
      "        graph_name = 'o{s}_{m}_UB3LYP_631Gd_4_4_graphene_stable'.format(m=meth.replace('/', '_'), s=siz)\n",
      "        graph.set_calculator(Gaussian(label=graph_name, method='oniom(UB3LYP/6-31G(d):{l})=OnlyInputFiles'.format(l=meth), basis='oniom'))\n",
      "        graph_H = graph_atoms[siz]\n",
      "        graph.calc.oniom_coord_params['layers'] = [[no -1 for no in graph_H]]\n",
      "        graph.calc.oniom_coord_params['layer_mults'] = [1,1]\n",
      "        graph.calc.set_job(nodes=1, memory=1*400, time=1, queue='pqmb')\n",
      "        \n",
      "        #graph_ylid.calc.start()\n",
      "        #graph.calc.start()\n",
      "        o_44_carb.append(graph_ylid)\n",
      "        o_44.append(graph)\n",
      "        \n",
      "#sanity check\n",
      "graph_ylid = read(carb_44_xyz)\n",
      "graph_ylid_name = 'o_sanity_UB3LYP_631Gd_4_4_cent_carbonyl_stable'\n",
      "graph_ylid.set_calculator(Gaussian(label=graph_ylid_name, method='oniom(UB3LYP/6-31G(d):UB3LYP/6-31G(d))=OnlyInputFiles', basis='oniom'))\n",
      "graph_ylid_H = ylide_atoms + graph_atoms[0]\n",
      "graph_ylid.calc.oniom_coord_params['layers'] = [[no -1 for no in graph_ylid_H]]\n",
      "graph_ylid.calc.oniom_coord_params['layer_mults'] = [1,1]\n",
      "graph_ylid.calc.set_job(nodes=1, memory=1*400, time=1, queue='pqmb')\n",
      "        \n",
      "graph = read(graph_44_xyz)\n",
      "graph_name = 'o_sanity_UB3LYP_631Gd_4_4_graphene_stable'\n",
      "graph.set_calculator(Gaussian(label=graph_name, method='oniom(UB3LYP/6-31G(d):UB3LYP/6-31G(d))=OnlyInputFiles', basis='oniom'))\n",
      "graph_H = graph_atoms[0]\n",
      "graph.calc.oniom_coord_params['layers'] = [[no -1 for no in graph_H]]\n",
      "graph.calc.oniom_coord_params['layer_mults'] = [1,1]\n",
      "graph.calc.set_job(nodes=1, memory=400, time=1, queue='pqmb')\n",
      "        \n",
      "#graph_ylid.calc.start()\n",
      "#graph.calc.start()\n",
      "o_44_carb.append(graph_ylid)\n",
      "o_44.append(graph)\n",
      "check_calcs(o_44 + o_44_carb)"
     ],
     "language": "python",
     "metadata": {},
     "outputs": [
      {
       "output_type": "pyout",
       "prompt_number": 32,
       "text": [
        "'Calculations complete'"
       ]
      }
     ],
     "prompt_number": 32
    },
    {
     "cell_type": "code",
     "collapsed": false,
     "input": [
      "import oniom_utils\n",
      "ul_rls, uh_mds, ul_mds = oniom_utils.oniom_comp_calcs(o_44 + o_44_carb, stable='opt')\n",
      "for c in ul_rls + uh_mds + ul_mds:\n",
      "    c.calc.set_job(nodes=8, memory=8*1400, time=5, queue='pqmb')\n",
      "    #c.calc.start()"
     ],
     "language": "python",
     "metadata": {},
     "outputs": [],
     "prompt_number": 33
    },
    {
     "cell_type": "code",
     "collapsed": false,
     "input": [
      "check_calcs(ul_rls + uh_mds + ul_mds)\n",
      "mols_to_html(ul_rls + uh_mds + ul_mds)"
     ],
     "language": "python",
     "metadata": {},
     "outputs": [
      {
       "html": [
        "\n",
        "           <script type=\"text/javascript\">\n",
        "           function view_function (event, file_n) {\n",
        "               if (event.ctrlKey && event.shiftKey){\n",
        "                   IPython.notebook.kernel.execute(\"cc_notebook_utils.pygview('\" + file_n + \".log')\");\n",
        "               }\n",
        "               else if (event.ctrlKey){\n",
        "                   IPython.notebook.kernel.execute(\"cc_notebook_utils.pygausssum('\" + file_n + \".log')\");\n",
        "               }\n",
        "               else if (event.shiftKey){\n",
        "                   IPython.notebook.kernel.execute(\"cc_notebook_utils.pyvogadro('\" + file_n + \".log')\");\n",
        "               }\n",
        "               else IPython.notebook.kernel.execute(\"cc_notebook_utils.pyvim('\" + file_n + \".log')\");\n",
        "           }\n",
        "           </script>\n",
        "    <style>\n",
        "    table\n",
        "    {\n",
        "        border-collapse:collapse;\n",
        "    }\n",
        "    td\n",
        "    {\n",
        "        padding:15px;\n",
        "    }\n",
        "    </style>\n",
        "    <body>\n",
        "    <table bgcolor=\"white\">\n",
        "    <col/><tr><td>o0_uam1_UB3LYP_631Gd_4_4_graphene_stable_low_real</td><td><a href = \"files/unrestricted_cycloadd_oniom/correction/o0_uam1_UB3LYP_631Gd_4_4_graphene_stable_low_real.com\" target = \"_blank\">com</a></td><td><input type=\"button\" value=\"Smart Log\" id=\"o0_uam1_UB3LYP_631Gd_4_4_graphene_stable_low_real\" onclick=\"view_function(event, this.id)\" /></td><td>Success</td><td> The wavefunction has an internal instability.\n",
        "</td></tr><tr><td>o0_upm6_UB3LYP_631Gd_4_4_graphene_stable_low_real</td><td><a href = \"files/unrestricted_cycloadd_oniom/correction/o0_upm6_UB3LYP_631Gd_4_4_graphene_stable_low_real.com\" target = \"_blank\">com</a></td><td><input type=\"button\" value=\"Smart Log\" id=\"o0_upm6_UB3LYP_631Gd_4_4_graphene_stable_low_real\" onclick=\"view_function(event, this.id)\" /></td><td>Success</td><td> The wavefunction has an internal instability.\n",
        "</td></tr><tr><td>o0_uHF_STO-3G_UB3LYP_631Gd_4_4_graphene_stable_low_real</td><td><a href = \"files/unrestricted_cycloadd_oniom/correction/o0_uHF_STO-3G_UB3LYP_631Gd_4_4_graphene_stable_low_real.com\" target = \"_blank\">com</a></td><td><input type=\"button\" value=\"Smart Log\" id=\"o0_uHF_STO-3G_UB3LYP_631Gd_4_4_graphene_stable_low_real\" onclick=\"view_function(event, this.id)\" /></td><td>Success</td><td> The wavefunction has an internal instability.\n",
        "</td></tr><tr><td>o1_uam1_UB3LYP_631Gd_4_4_graphene_stable_low_real</td><td><a href = \"files/unrestricted_cycloadd_oniom/correction/o1_uam1_UB3LYP_631Gd_4_4_graphene_stable_low_real.com\" target = \"_blank\">com</a></td><td><input type=\"button\" value=\"Smart Log\" id=\"o1_uam1_UB3LYP_631Gd_4_4_graphene_stable_low_real\" onclick=\"view_function(event, this.id)\" /></td><td>Success</td><td> The wavefunction has an internal instability.\n",
        "</td></tr><tr><td>o1_upm6_UB3LYP_631Gd_4_4_graphene_stable_low_real</td><td><a href = \"files/unrestricted_cycloadd_oniom/correction/o1_upm6_UB3LYP_631Gd_4_4_graphene_stable_low_real.com\" target = \"_blank\">com</a></td><td><input type=\"button\" value=\"Smart Log\" id=\"o1_upm6_UB3LYP_631Gd_4_4_graphene_stable_low_real\" onclick=\"view_function(event, this.id)\" /></td><td>Success</td><td> The wavefunction has an internal instability.\n",
        "</td></tr><tr><td>o1_uHF_STO-3G_UB3LYP_631Gd_4_4_graphene_stable_low_real</td><td><a href = \"files/unrestricted_cycloadd_oniom/correction/o1_uHF_STO-3G_UB3LYP_631Gd_4_4_graphene_stable_low_real.com\" target = \"_blank\">com</a></td><td><input type=\"button\" value=\"Smart Log\" id=\"o1_uHF_STO-3G_UB3LYP_631Gd_4_4_graphene_stable_low_real\" onclick=\"view_function(event, this.id)\" /></td><td>Success</td><td> The wavefunction has an internal instability.\n",
        "</td></tr><tr><td>o2_uam1_UB3LYP_631Gd_4_4_graphene_stable_low_real</td><td><a href = \"files/unrestricted_cycloadd_oniom/correction/o2_uam1_UB3LYP_631Gd_4_4_graphene_stable_low_real.com\" target = \"_blank\">com</a></td><td><input type=\"button\" value=\"Smart Log\" id=\"o2_uam1_UB3LYP_631Gd_4_4_graphene_stable_low_real\" onclick=\"view_function(event, this.id)\" /></td><td>Success</td><td> The wavefunction has an internal instability.\n",
        "</td></tr><tr><td>o2_upm6_UB3LYP_631Gd_4_4_graphene_stable_low_real</td><td><a href = \"files/unrestricted_cycloadd_oniom/correction/o2_upm6_UB3LYP_631Gd_4_4_graphene_stable_low_real.com\" target = \"_blank\">com</a></td><td><input type=\"button\" value=\"Smart Log\" id=\"o2_upm6_UB3LYP_631Gd_4_4_graphene_stable_low_real\" onclick=\"view_function(event, this.id)\" /></td><td>Success</td><td> The wavefunction has an internal instability.\n",
        "</td></tr><tr><td>o2_uHF_STO-3G_UB3LYP_631Gd_4_4_graphene_stable_low_real</td><td><a href = \"files/unrestricted_cycloadd_oniom/correction/o2_uHF_STO-3G_UB3LYP_631Gd_4_4_graphene_stable_low_real.com\" target = \"_blank\">com</a></td><td><input type=\"button\" value=\"Smart Log\" id=\"o2_uHF_STO-3G_UB3LYP_631Gd_4_4_graphene_stable_low_real\" onclick=\"view_function(event, this.id)\" /></td><td>Success</td><td> The wavefunction has an internal instability.\n",
        "</td></tr><tr><td>o3_uam1_UB3LYP_631Gd_4_4_graphene_stable_low_real</td><td><a href = \"files/unrestricted_cycloadd_oniom/correction/o3_uam1_UB3LYP_631Gd_4_4_graphene_stable_low_real.com\" target = \"_blank\">com</a></td><td><input type=\"button\" value=\"Smart Log\" id=\"o3_uam1_UB3LYP_631Gd_4_4_graphene_stable_low_real\" onclick=\"view_function(event, this.id)\" /></td><td>Success</td><td> The wavefunction has an internal instability.\n",
        "</td></tr><tr><td>o3_upm6_UB3LYP_631Gd_4_4_graphene_stable_low_real</td><td><a href = \"files/unrestricted_cycloadd_oniom/correction/o3_upm6_UB3LYP_631Gd_4_4_graphene_stable_low_real.com\" target = \"_blank\">com</a></td><td><input type=\"button\" value=\"Smart Log\" id=\"o3_upm6_UB3LYP_631Gd_4_4_graphene_stable_low_real\" onclick=\"view_function(event, this.id)\" /></td><td>Success</td><td> The wavefunction has an internal instability.\n",
        "</td></tr><tr><td>o3_uHF_STO-3G_UB3LYP_631Gd_4_4_graphene_stable_low_real</td><td><a href = \"files/unrestricted_cycloadd_oniom/correction/o3_uHF_STO-3G_UB3LYP_631Gd_4_4_graphene_stable_low_real.com\" target = \"_blank\">com</a></td><td><input type=\"button\" value=\"Smart Log\" id=\"o3_uHF_STO-3G_UB3LYP_631Gd_4_4_graphene_stable_low_real\" onclick=\"view_function(event, this.id)\" /></td><td>Success</td><td> The wavefunction has an internal instability.\n",
        "</td></tr><tr><td>o4_uam1_UB3LYP_631Gd_4_4_graphene_stable_low_real</td><td><a href = \"files/unrestricted_cycloadd_oniom/correction/o4_uam1_UB3LYP_631Gd_4_4_graphene_stable_low_real.com\" target = \"_blank\">com</a></td><td><input type=\"button\" value=\"Smart Log\" id=\"o4_uam1_UB3LYP_631Gd_4_4_graphene_stable_low_real\" onclick=\"view_function(event, this.id)\" /></td><td>Success</td><td> The wavefunction has an internal instability.\n",
        "</td></tr><tr><td>o4_upm6_UB3LYP_631Gd_4_4_graphene_stable_low_real</td><td><a href = \"files/unrestricted_cycloadd_oniom/correction/o4_upm6_UB3LYP_631Gd_4_4_graphene_stable_low_real.com\" target = \"_blank\">com</a></td><td><input type=\"button\" value=\"Smart Log\" id=\"o4_upm6_UB3LYP_631Gd_4_4_graphene_stable_low_real\" onclick=\"view_function(event, this.id)\" /></td><td>Success</td><td> The wavefunction has an internal instability.\n",
        "</td></tr><tr><td>o4_uHF_STO-3G_UB3LYP_631Gd_4_4_graphene_stable_low_real</td><td><a href = \"files/unrestricted_cycloadd_oniom/correction/o4_uHF_STO-3G_UB3LYP_631Gd_4_4_graphene_stable_low_real.com\" target = \"_blank\">com</a></td><td><input type=\"button\" value=\"Smart Log\" id=\"o4_uHF_STO-3G_UB3LYP_631Gd_4_4_graphene_stable_low_real\" onclick=\"view_function(event, this.id)\" /></td><td>Success</td><td> The wavefunction has an internal instability.\n",
        "</td></tr><tr><td>o_sanity_UB3LYP_631Gd_4_4_graphene_stable_low_real</td><td><a href = \"files/unrestricted_cycloadd_oniom/correction/o_sanity_UB3LYP_631Gd_4_4_graphene_stable_low_real.com\" target = \"_blank\">com</a></td><td><input type=\"button\" value=\"Smart Log\" id=\"o_sanity_UB3LYP_631Gd_4_4_graphene_stable_low_real\" onclick=\"view_function(event, this.id)\" /></td><td>Error: TCursr= 1046 LCursr=   43</td><td></td></tr><tr><td>o0_uam1_UB3LYP_631Gd_4_4_cent_carbonyl_stable_low_real</td><td><a href = \"files/unrestricted_cycloadd_oniom/correction/o0_uam1_UB3LYP_631Gd_4_4_cent_carbonyl_stable_low_real.com\" target = \"_blank\">com</a></td><td><input type=\"button\" value=\"Smart Log\" id=\"o0_uam1_UB3LYP_631Gd_4_4_cent_carbonyl_stable_low_real\" onclick=\"view_function(event, this.id)\" /></td><td>Success</td><td> The wavefunction has an internal instability.\n",
        "</td></tr><tr><td>o0_upm6_UB3LYP_631Gd_4_4_cent_carbonyl_stable_low_real</td><td><a href = \"files/unrestricted_cycloadd_oniom/correction/o0_upm6_UB3LYP_631Gd_4_4_cent_carbonyl_stable_low_real.com\" target = \"_blank\">com</a></td><td><input type=\"button\" value=\"Smart Log\" id=\"o0_upm6_UB3LYP_631Gd_4_4_cent_carbonyl_stable_low_real\" onclick=\"view_function(event, this.id)\" /></td><td>Success</td><td> The wavefunction has an internal instability.\n",
        "</td></tr><tr><td>o0_uHF_STO-3G_UB3LYP_631Gd_4_4_cent_carbonyl_stable_low_real</td><td><a href = \"files/unrestricted_cycloadd_oniom/correction/o0_uHF_STO-3G_UB3LYP_631Gd_4_4_cent_carbonyl_stable_low_real.com\" target = \"_blank\">com</a></td><td><input type=\"button\" value=\"Smart Log\" id=\"o0_uHF_STO-3G_UB3LYP_631Gd_4_4_cent_carbonyl_stable_low_real\" onclick=\"view_function(event, this.id)\" /></td><td>Success</td><td> The wavefunction has an internal instability.\n",
        "</td></tr><tr><td>o1_uam1_UB3LYP_631Gd_4_4_cent_carbonyl_stable_low_real</td><td><a href = \"files/unrestricted_cycloadd_oniom/correction/o1_uam1_UB3LYP_631Gd_4_4_cent_carbonyl_stable_low_real.com\" target = \"_blank\">com</a></td><td><input type=\"button\" value=\"Smart Log\" id=\"o1_uam1_UB3LYP_631Gd_4_4_cent_carbonyl_stable_low_real\" onclick=\"view_function(event, this.id)\" /></td><td>Success</td><td> The wavefunction has an internal instability.\n",
        "</td></tr><tr><td>o1_upm6_UB3LYP_631Gd_4_4_cent_carbonyl_stable_low_real</td><td><a href = \"files/unrestricted_cycloadd_oniom/correction/o1_upm6_UB3LYP_631Gd_4_4_cent_carbonyl_stable_low_real.com\" target = \"_blank\">com</a></td><td><input type=\"button\" value=\"Smart Log\" id=\"o1_upm6_UB3LYP_631Gd_4_4_cent_carbonyl_stable_low_real\" onclick=\"view_function(event, this.id)\" /></td><td>Success</td><td> The wavefunction has an internal instability.\n",
        "</td></tr><tr><td>o1_uHF_STO-3G_UB3LYP_631Gd_4_4_cent_carbonyl_stable_low_real</td><td><a href = \"files/unrestricted_cycloadd_oniom/correction/o1_uHF_STO-3G_UB3LYP_631Gd_4_4_cent_carbonyl_stable_low_real.com\" target = \"_blank\">com</a></td><td><input type=\"button\" value=\"Smart Log\" id=\"o1_uHF_STO-3G_UB3LYP_631Gd_4_4_cent_carbonyl_stable_low_real\" onclick=\"view_function(event, this.id)\" /></td><td>Success</td><td> The wavefunction has an internal instability.\n",
        "</td></tr><tr><td>o2_uam1_UB3LYP_631Gd_4_4_cent_carbonyl_stable_low_real</td><td><a href = \"files/unrestricted_cycloadd_oniom/correction/o2_uam1_UB3LYP_631Gd_4_4_cent_carbonyl_stable_low_real.com\" target = \"_blank\">com</a></td><td><input type=\"button\" value=\"Smart Log\" id=\"o2_uam1_UB3LYP_631Gd_4_4_cent_carbonyl_stable_low_real\" onclick=\"view_function(event, this.id)\" /></td><td>Success</td><td> The wavefunction has an internal instability.\n",
        "</td></tr><tr><td>o2_upm6_UB3LYP_631Gd_4_4_cent_carbonyl_stable_low_real</td><td><a href = \"files/unrestricted_cycloadd_oniom/correction/o2_upm6_UB3LYP_631Gd_4_4_cent_carbonyl_stable_low_real.com\" target = \"_blank\">com</a></td><td><input type=\"button\" value=\"Smart Log\" id=\"o2_upm6_UB3LYP_631Gd_4_4_cent_carbonyl_stable_low_real\" onclick=\"view_function(event, this.id)\" /></td><td>Success</td><td> The wavefunction has an internal instability.\n",
        "</td></tr><tr><td>o2_uHF_STO-3G_UB3LYP_631Gd_4_4_cent_carbonyl_stable_low_real</td><td><a href = \"files/unrestricted_cycloadd_oniom/correction/o2_uHF_STO-3G_UB3LYP_631Gd_4_4_cent_carbonyl_stable_low_real.com\" target = \"_blank\">com</a></td><td><input type=\"button\" value=\"Smart Log\" id=\"o2_uHF_STO-3G_UB3LYP_631Gd_4_4_cent_carbonyl_stable_low_real\" onclick=\"view_function(event, this.id)\" /></td><td>Success</td><td> The wavefunction has an internal instability.\n",
        "</td></tr><tr><td>o3_uam1_UB3LYP_631Gd_4_4_cent_carbonyl_stable_low_real</td><td><a href = \"files/unrestricted_cycloadd_oniom/correction/o3_uam1_UB3LYP_631Gd_4_4_cent_carbonyl_stable_low_real.com\" target = \"_blank\">com</a></td><td><input type=\"button\" value=\"Smart Log\" id=\"o3_uam1_UB3LYP_631Gd_4_4_cent_carbonyl_stable_low_real\" onclick=\"view_function(event, this.id)\" /></td><td>Success</td><td> The wavefunction has an internal instability.\n",
        "</td></tr><tr><td>o3_upm6_UB3LYP_631Gd_4_4_cent_carbonyl_stable_low_real</td><td><a href = \"files/unrestricted_cycloadd_oniom/correction/o3_upm6_UB3LYP_631Gd_4_4_cent_carbonyl_stable_low_real.com\" target = \"_blank\">com</a></td><td><input type=\"button\" value=\"Smart Log\" id=\"o3_upm6_UB3LYP_631Gd_4_4_cent_carbonyl_stable_low_real\" onclick=\"view_function(event, this.id)\" /></td><td>Success</td><td> The wavefunction has an internal instability.\n",
        "</td></tr><tr><td>o3_uHF_STO-3G_UB3LYP_631Gd_4_4_cent_carbonyl_stable_low_real</td><td><a href = \"files/unrestricted_cycloadd_oniom/correction/o3_uHF_STO-3G_UB3LYP_631Gd_4_4_cent_carbonyl_stable_low_real.com\" target = \"_blank\">com</a></td><td><input type=\"button\" value=\"Smart Log\" id=\"o3_uHF_STO-3G_UB3LYP_631Gd_4_4_cent_carbonyl_stable_low_real\" onclick=\"view_function(event, this.id)\" /></td><td>Success</td><td> The wavefunction has an internal instability.\n",
        "</td></tr><tr><td>o4_uam1_UB3LYP_631Gd_4_4_cent_carbonyl_stable_low_real</td><td><a href = \"files/unrestricted_cycloadd_oniom/correction/o4_uam1_UB3LYP_631Gd_4_4_cent_carbonyl_stable_low_real.com\" target = \"_blank\">com</a></td><td><input type=\"button\" value=\"Smart Log\" id=\"o4_uam1_UB3LYP_631Gd_4_4_cent_carbonyl_stable_low_real\" onclick=\"view_function(event, this.id)\" /></td><td>Success</td><td> The wavefunction has an internal instability.\n",
        "</td></tr><tr><td>o4_upm6_UB3LYP_631Gd_4_4_cent_carbonyl_stable_low_real</td><td><a href = \"files/unrestricted_cycloadd_oniom/correction/o4_upm6_UB3LYP_631Gd_4_4_cent_carbonyl_stable_low_real.com\" target = \"_blank\">com</a></td><td><input type=\"button\" value=\"Smart Log\" id=\"o4_upm6_UB3LYP_631Gd_4_4_cent_carbonyl_stable_low_real\" onclick=\"view_function(event, this.id)\" /></td><td>Success</td><td> The wavefunction has an internal instability.\n",
        "</td></tr><tr><td>o4_uHF_STO-3G_UB3LYP_631Gd_4_4_cent_carbonyl_stable_low_real</td><td><a href = \"files/unrestricted_cycloadd_oniom/correction/o4_uHF_STO-3G_UB3LYP_631Gd_4_4_cent_carbonyl_stable_low_real.com\" target = \"_blank\">com</a></td><td><input type=\"button\" value=\"Smart Log\" id=\"o4_uHF_STO-3G_UB3LYP_631Gd_4_4_cent_carbonyl_stable_low_real\" onclick=\"view_function(event, this.id)\" /></td><td>Success</td><td> The wavefunction has an internal instability.\n",
        "</td></tr><tr><td>o_sanity_UB3LYP_631Gd_4_4_cent_carbonyl_stable_low_real</td><td><a href = \"files/unrestricted_cycloadd_oniom/correction/o_sanity_UB3LYP_631Gd_4_4_cent_carbonyl_stable_low_real.com\" target = \"_blank\">com</a></td><td><input type=\"button\" value=\"Smart Log\" id=\"o_sanity_UB3LYP_631Gd_4_4_cent_carbonyl_stable_low_real\" onclick=\"view_function(event, this.id)\" /></td><td>Error: TCursr= 1046 LCursr=   43</td><td></td></tr><tr><td>o0_uam1_UB3LYP_631Gd_4_4_graphene_stable_high_model</td><td><a href = \"files/unrestricted_cycloadd_oniom/correction/o0_uam1_UB3LYP_631Gd_4_4_graphene_stable_high_model.com\" target = \"_blank\">com</a></td><td><input type=\"button\" value=\"Smart Log\" id=\"o0_uam1_UB3LYP_631Gd_4_4_graphene_stable_high_model\" onclick=\"view_function(event, this.id)\" /></td><td>Success</td><td></td></tr><tr><td>o0_upm6_UB3LYP_631Gd_4_4_graphene_stable_high_model</td><td><a href = \"files/unrestricted_cycloadd_oniom/correction/o0_upm6_UB3LYP_631Gd_4_4_graphene_stable_high_model.com\" target = \"_blank\">com</a></td><td><input type=\"button\" value=\"Smart Log\" id=\"o0_upm6_UB3LYP_631Gd_4_4_graphene_stable_high_model\" onclick=\"view_function(event, this.id)\" /></td><td>Success</td><td></td></tr><tr><td>o0_uHF_STO-3G_UB3LYP_631Gd_4_4_graphene_stable_high_model</td><td><a href = \"files/unrestricted_cycloadd_oniom/correction/o0_uHF_STO-3G_UB3LYP_631Gd_4_4_graphene_stable_high_model.com\" target = \"_blank\">com</a></td><td><input type=\"button\" value=\"Smart Log\" id=\"o0_uHF_STO-3G_UB3LYP_631Gd_4_4_graphene_stable_high_model\" onclick=\"view_function(event, this.id)\" /></td><td>Success</td><td></td></tr><tr><td>o1_uam1_UB3LYP_631Gd_4_4_graphene_stable_high_model</td><td><a href = \"files/unrestricted_cycloadd_oniom/correction/o1_uam1_UB3LYP_631Gd_4_4_graphene_stable_high_model.com\" target = \"_blank\">com</a></td><td><input type=\"button\" value=\"Smart Log\" id=\"o1_uam1_UB3LYP_631Gd_4_4_graphene_stable_high_model\" onclick=\"view_function(event, this.id)\" /></td><td>Success</td><td></td></tr><tr><td>o1_upm6_UB3LYP_631Gd_4_4_graphene_stable_high_model</td><td><a href = \"files/unrestricted_cycloadd_oniom/correction/o1_upm6_UB3LYP_631Gd_4_4_graphene_stable_high_model.com\" target = \"_blank\">com</a></td><td><input type=\"button\" value=\"Smart Log\" id=\"o1_upm6_UB3LYP_631Gd_4_4_graphene_stable_high_model\" onclick=\"view_function(event, this.id)\" /></td><td>Success</td><td></td></tr><tr><td>o1_uHF_STO-3G_UB3LYP_631Gd_4_4_graphene_stable_high_model</td><td><a href = \"files/unrestricted_cycloadd_oniom/correction/o1_uHF_STO-3G_UB3LYP_631Gd_4_4_graphene_stable_high_model.com\" target = \"_blank\">com</a></td><td><input type=\"button\" value=\"Smart Log\" id=\"o1_uHF_STO-3G_UB3LYP_631Gd_4_4_graphene_stable_high_model\" onclick=\"view_function(event, this.id)\" /></td><td>Success</td><td></td></tr><tr><td>o2_uam1_UB3LYP_631Gd_4_4_graphene_stable_high_model</td><td><a href = \"files/unrestricted_cycloadd_oniom/correction/o2_uam1_UB3LYP_631Gd_4_4_graphene_stable_high_model.com\" target = \"_blank\">com</a></td><td><input type=\"button\" value=\"Smart Log\" id=\"o2_uam1_UB3LYP_631Gd_4_4_graphene_stable_high_model\" onclick=\"view_function(event, this.id)\" /></td><td>Success</td><td></td></tr><tr><td>o2_upm6_UB3LYP_631Gd_4_4_graphene_stable_high_model</td><td><a href = \"files/unrestricted_cycloadd_oniom/correction/o2_upm6_UB3LYP_631Gd_4_4_graphene_stable_high_model.com\" target = \"_blank\">com</a></td><td><input type=\"button\" value=\"Smart Log\" id=\"o2_upm6_UB3LYP_631Gd_4_4_graphene_stable_high_model\" onclick=\"view_function(event, this.id)\" /></td><td>Success</td><td></td></tr><tr><td>o2_uHF_STO-3G_UB3LYP_631Gd_4_4_graphene_stable_high_model</td><td><a href = \"files/unrestricted_cycloadd_oniom/correction/o2_uHF_STO-3G_UB3LYP_631Gd_4_4_graphene_stable_high_model.com\" target = \"_blank\">com</a></td><td><input type=\"button\" value=\"Smart Log\" id=\"o2_uHF_STO-3G_UB3LYP_631Gd_4_4_graphene_stable_high_model\" onclick=\"view_function(event, this.id)\" /></td><td>Success</td><td></td></tr><tr><td>o3_uam1_UB3LYP_631Gd_4_4_graphene_stable_high_model</td><td><a href = \"files/unrestricted_cycloadd_oniom/correction/o3_uam1_UB3LYP_631Gd_4_4_graphene_stable_high_model.com\" target = \"_blank\">com</a></td><td><input type=\"button\" value=\"Smart Log\" id=\"o3_uam1_UB3LYP_631Gd_4_4_graphene_stable_high_model\" onclick=\"view_function(event, this.id)\" /></td><td>Success</td><td> The wavefunction has an internal instability.\n",
        "</td></tr><tr><td>o3_upm6_UB3LYP_631Gd_4_4_graphene_stable_high_model</td><td><a href = \"files/unrestricted_cycloadd_oniom/correction/o3_upm6_UB3LYP_631Gd_4_4_graphene_stable_high_model.com\" target = \"_blank\">com</a></td><td><input type=\"button\" value=\"Smart Log\" id=\"o3_upm6_UB3LYP_631Gd_4_4_graphene_stable_high_model\" onclick=\"view_function(event, this.id)\" /></td><td>Success</td><td> The wavefunction has an internal instability.\n",
        "</td></tr><tr><td>o3_uHF_STO-3G_UB3LYP_631Gd_4_4_graphene_stable_high_model</td><td><a href = \"files/unrestricted_cycloadd_oniom/correction/o3_uHF_STO-3G_UB3LYP_631Gd_4_4_graphene_stable_high_model.com\" target = \"_blank\">com</a></td><td><input type=\"button\" value=\"Smart Log\" id=\"o3_uHF_STO-3G_UB3LYP_631Gd_4_4_graphene_stable_high_model\" onclick=\"view_function(event, this.id)\" /></td><td>Success</td><td> The wavefunction has an internal instability.\n",
        "</td></tr><tr><td>o4_uam1_UB3LYP_631Gd_4_4_graphene_stable_high_model</td><td><a href = \"files/unrestricted_cycloadd_oniom/correction/o4_uam1_UB3LYP_631Gd_4_4_graphene_stable_high_model.com\" target = \"_blank\">com</a></td><td><input type=\"button\" value=\"Smart Log\" id=\"o4_uam1_UB3LYP_631Gd_4_4_graphene_stable_high_model\" onclick=\"view_function(event, this.id)\" /></td><td>Success</td><td></td></tr><tr><td>o4_upm6_UB3LYP_631Gd_4_4_graphene_stable_high_model</td><td><a href = \"files/unrestricted_cycloadd_oniom/correction/o4_upm6_UB3LYP_631Gd_4_4_graphene_stable_high_model.com\" target = \"_blank\">com</a></td><td><input type=\"button\" value=\"Smart Log\" id=\"o4_upm6_UB3LYP_631Gd_4_4_graphene_stable_high_model\" onclick=\"view_function(event, this.id)\" /></td><td>Success</td><td></td></tr><tr><td>o4_uHF_STO-3G_UB3LYP_631Gd_4_4_graphene_stable_high_model</td><td><a href = \"files/unrestricted_cycloadd_oniom/correction/o4_uHF_STO-3G_UB3LYP_631Gd_4_4_graphene_stable_high_model.com\" target = \"_blank\">com</a></td><td><input type=\"button\" value=\"Smart Log\" id=\"o4_uHF_STO-3G_UB3LYP_631Gd_4_4_graphene_stable_high_model\" onclick=\"view_function(event, this.id)\" /></td><td>Success</td><td></td></tr><tr><td>o_sanity_UB3LYP_631Gd_4_4_graphene_stable_high_model</td><td><a href = \"files/unrestricted_cycloadd_oniom/correction/o_sanity_UB3LYP_631Gd_4_4_graphene_stable_high_model.com\" target = \"_blank\">com</a></td><td><input type=\"button\" value=\"Smart Log\" id=\"o_sanity_UB3LYP_631Gd_4_4_graphene_stable_high_model\" onclick=\"view_function(event, this.id)\" /></td><td>Success</td><td></td></tr><tr><td>o0_uam1_UB3LYP_631Gd_4_4_cent_carbonyl_stable_high_model</td><td><a href = \"files/unrestricted_cycloadd_oniom/correction/o0_uam1_UB3LYP_631Gd_4_4_cent_carbonyl_stable_high_model.com\" target = \"_blank\">com</a></td><td><input type=\"button\" value=\"Smart Log\" id=\"o0_uam1_UB3LYP_631Gd_4_4_cent_carbonyl_stable_high_model\" onclick=\"view_function(event, this.id)\" /></td><td>Success</td><td></td></tr><tr><td>o0_upm6_UB3LYP_631Gd_4_4_cent_carbonyl_stable_high_model</td><td><a href = \"files/unrestricted_cycloadd_oniom/correction/o0_upm6_UB3LYP_631Gd_4_4_cent_carbonyl_stable_high_model.com\" target = \"_blank\">com</a></td><td><input type=\"button\" value=\"Smart Log\" id=\"o0_upm6_UB3LYP_631Gd_4_4_cent_carbonyl_stable_high_model\" onclick=\"view_function(event, this.id)\" /></td><td>Success</td><td></td></tr><tr><td>o0_uHF_STO-3G_UB3LYP_631Gd_4_4_cent_carbonyl_stable_high_model</td><td><a href = \"files/unrestricted_cycloadd_oniom/correction/o0_uHF_STO-3G_UB3LYP_631Gd_4_4_cent_carbonyl_stable_high_model.com\" target = \"_blank\">com</a></td><td><input type=\"button\" value=\"Smart Log\" id=\"o0_uHF_STO-3G_UB3LYP_631Gd_4_4_cent_carbonyl_stable_high_model\" onclick=\"view_function(event, this.id)\" /></td><td>Success</td><td></td></tr><tr><td>o1_uam1_UB3LYP_631Gd_4_4_cent_carbonyl_stable_high_model</td><td><a href = \"files/unrestricted_cycloadd_oniom/correction/o1_uam1_UB3LYP_631Gd_4_4_cent_carbonyl_stable_high_model.com\" target = \"_blank\">com</a></td><td><input type=\"button\" value=\"Smart Log\" id=\"o1_uam1_UB3LYP_631Gd_4_4_cent_carbonyl_stable_high_model\" onclick=\"view_function(event, this.id)\" /></td><td>Success</td><td></td></tr><tr><td>o1_upm6_UB3LYP_631Gd_4_4_cent_carbonyl_stable_high_model</td><td><a href = \"files/unrestricted_cycloadd_oniom/correction/o1_upm6_UB3LYP_631Gd_4_4_cent_carbonyl_stable_high_model.com\" target = \"_blank\">com</a></td><td><input type=\"button\" value=\"Smart Log\" id=\"o1_upm6_UB3LYP_631Gd_4_4_cent_carbonyl_stable_high_model\" onclick=\"view_function(event, this.id)\" /></td><td>Success</td><td></td></tr><tr><td>o1_uHF_STO-3G_UB3LYP_631Gd_4_4_cent_carbonyl_stable_high_model</td><td><a href = \"files/unrestricted_cycloadd_oniom/correction/o1_uHF_STO-3G_UB3LYP_631Gd_4_4_cent_carbonyl_stable_high_model.com\" target = \"_blank\">com</a></td><td><input type=\"button\" value=\"Smart Log\" id=\"o1_uHF_STO-3G_UB3LYP_631Gd_4_4_cent_carbonyl_stable_high_model\" onclick=\"view_function(event, this.id)\" /></td><td>Success</td><td></td></tr><tr><td>o2_uam1_UB3LYP_631Gd_4_4_cent_carbonyl_stable_high_model</td><td><a href = \"files/unrestricted_cycloadd_oniom/correction/o2_uam1_UB3LYP_631Gd_4_4_cent_carbonyl_stable_high_model.com\" target = \"_blank\">com</a></td><td><input type=\"button\" value=\"Smart Log\" id=\"o2_uam1_UB3LYP_631Gd_4_4_cent_carbonyl_stable_high_model\" onclick=\"view_function(event, this.id)\" /></td><td>Success</td><td></td></tr><tr><td>o2_upm6_UB3LYP_631Gd_4_4_cent_carbonyl_stable_high_model</td><td><a href = \"files/unrestricted_cycloadd_oniom/correction/o2_upm6_UB3LYP_631Gd_4_4_cent_carbonyl_stable_high_model.com\" target = \"_blank\">com</a></td><td><input type=\"button\" value=\"Smart Log\" id=\"o2_upm6_UB3LYP_631Gd_4_4_cent_carbonyl_stable_high_model\" onclick=\"view_function(event, this.id)\" /></td><td>Success</td><td></td></tr><tr><td>o2_uHF_STO-3G_UB3LYP_631Gd_4_4_cent_carbonyl_stable_high_model</td><td><a href = \"files/unrestricted_cycloadd_oniom/correction/o2_uHF_STO-3G_UB3LYP_631Gd_4_4_cent_carbonyl_stable_high_model.com\" target = \"_blank\">com</a></td><td><input type=\"button\" value=\"Smart Log\" id=\"o2_uHF_STO-3G_UB3LYP_631Gd_4_4_cent_carbonyl_stable_high_model\" onclick=\"view_function(event, this.id)\" /></td><td>Success</td><td></td></tr><tr><td>o3_uam1_UB3LYP_631Gd_4_4_cent_carbonyl_stable_high_model</td><td><a href = \"files/unrestricted_cycloadd_oniom/correction/o3_uam1_UB3LYP_631Gd_4_4_cent_carbonyl_stable_high_model.com\" target = \"_blank\">com</a></td><td><input type=\"button\" value=\"Smart Log\" id=\"o3_uam1_UB3LYP_631Gd_4_4_cent_carbonyl_stable_high_model\" onclick=\"view_function(event, this.id)\" /></td><td>Success</td><td> The wavefunction has an internal instability.\n",
        "</td></tr><tr><td>o3_upm6_UB3LYP_631Gd_4_4_cent_carbonyl_stable_high_model</td><td><a href = \"files/unrestricted_cycloadd_oniom/correction/o3_upm6_UB3LYP_631Gd_4_4_cent_carbonyl_stable_high_model.com\" target = \"_blank\">com</a></td><td><input type=\"button\" value=\"Smart Log\" id=\"o3_upm6_UB3LYP_631Gd_4_4_cent_carbonyl_stable_high_model\" onclick=\"view_function(event, this.id)\" /></td><td>Success</td><td> The wavefunction has an internal instability.\n",
        "</td></tr><tr><td>o3_uHF_STO-3G_UB3LYP_631Gd_4_4_cent_carbonyl_stable_high_model</td><td><a href = \"files/unrestricted_cycloadd_oniom/correction/o3_uHF_STO-3G_UB3LYP_631Gd_4_4_cent_carbonyl_stable_high_model.com\" target = \"_blank\">com</a></td><td><input type=\"button\" value=\"Smart Log\" id=\"o3_uHF_STO-3G_UB3LYP_631Gd_4_4_cent_carbonyl_stable_high_model\" onclick=\"view_function(event, this.id)\" /></td><td>Success</td><td> The wavefunction has an internal instability.\n",
        "</td></tr><tr><td>o4_uam1_UB3LYP_631Gd_4_4_cent_carbonyl_stable_high_model</td><td><a href = \"files/unrestricted_cycloadd_oniom/correction/o4_uam1_UB3LYP_631Gd_4_4_cent_carbonyl_stable_high_model.com\" target = \"_blank\">com</a></td><td><input type=\"button\" value=\"Smart Log\" id=\"o4_uam1_UB3LYP_631Gd_4_4_cent_carbonyl_stable_high_model\" onclick=\"view_function(event, this.id)\" /></td><td>Success</td><td> The wavefunction has an internal instability.\n",
        "</td></tr><tr><td>o4_upm6_UB3LYP_631Gd_4_4_cent_carbonyl_stable_high_model</td><td><a href = \"files/unrestricted_cycloadd_oniom/correction/o4_upm6_UB3LYP_631Gd_4_4_cent_carbonyl_stable_high_model.com\" target = \"_blank\">com</a></td><td><input type=\"button\" value=\"Smart Log\" id=\"o4_upm6_UB3LYP_631Gd_4_4_cent_carbonyl_stable_high_model\" onclick=\"view_function(event, this.id)\" /></td><td>Success</td><td> The wavefunction has an internal instability.\n",
        "</td></tr><tr><td>o4_uHF_STO-3G_UB3LYP_631Gd_4_4_cent_carbonyl_stable_high_model</td><td><a href = \"files/unrestricted_cycloadd_oniom/correction/o4_uHF_STO-3G_UB3LYP_631Gd_4_4_cent_carbonyl_stable_high_model.com\" target = \"_blank\">com</a></td><td><input type=\"button\" value=\"Smart Log\" id=\"o4_uHF_STO-3G_UB3LYP_631Gd_4_4_cent_carbonyl_stable_high_model\" onclick=\"view_function(event, this.id)\" /></td><td>Success</td><td> The wavefunction has an internal instability.\n",
        "</td></tr><tr><td>o_sanity_UB3LYP_631Gd_4_4_cent_carbonyl_stable_high_model</td><td><a href = \"files/unrestricted_cycloadd_oniom/correction/o_sanity_UB3LYP_631Gd_4_4_cent_carbonyl_stable_high_model.com\" target = \"_blank\">com</a></td><td><input type=\"button\" value=\"Smart Log\" id=\"o_sanity_UB3LYP_631Gd_4_4_cent_carbonyl_stable_high_model\" onclick=\"view_function(event, this.id)\" /></td><td>Success</td><td></td></tr><tr><td>o0_uam1_UB3LYP_631Gd_4_4_graphene_stable_low_model</td><td><a href = \"files/unrestricted_cycloadd_oniom/correction/o0_uam1_UB3LYP_631Gd_4_4_graphene_stable_low_model.com\" target = \"_blank\">com</a></td><td><input type=\"button\" value=\"Smart Log\" id=\"o0_uam1_UB3LYP_631Gd_4_4_graphene_stable_low_model\" onclick=\"view_function(event, this.id)\" /></td><td>Success</td><td> The wavefunction has an internal instability.\n",
        "</td></tr><tr><td>o0_upm6_UB3LYP_631Gd_4_4_graphene_stable_low_model</td><td><a href = \"files/unrestricted_cycloadd_oniom/correction/o0_upm6_UB3LYP_631Gd_4_4_graphene_stable_low_model.com\" target = \"_blank\">com</a></td><td><input type=\"button\" value=\"Smart Log\" id=\"o0_upm6_UB3LYP_631Gd_4_4_graphene_stable_low_model\" onclick=\"view_function(event, this.id)\" /></td><td>Success</td><td></td></tr><tr><td>o0_uHF_STO-3G_UB3LYP_631Gd_4_4_graphene_stable_low_model</td><td><a href = \"files/unrestricted_cycloadd_oniom/correction/o0_uHF_STO-3G_UB3LYP_631Gd_4_4_graphene_stable_low_model.com\" target = \"_blank\">com</a></td><td><input type=\"button\" value=\"Smart Log\" id=\"o0_uHF_STO-3G_UB3LYP_631Gd_4_4_graphene_stable_low_model\" onclick=\"view_function(event, this.id)\" /></td><td>Success</td><td> The wavefunction has an internal instability.\n",
        "</td></tr><tr><td>o1_uam1_UB3LYP_631Gd_4_4_graphene_stable_low_model</td><td><a href = \"files/unrestricted_cycloadd_oniom/correction/o1_uam1_UB3LYP_631Gd_4_4_graphene_stable_low_model.com\" target = \"_blank\">com</a></td><td><input type=\"button\" value=\"Smart Log\" id=\"o1_uam1_UB3LYP_631Gd_4_4_graphene_stable_low_model\" onclick=\"view_function(event, this.id)\" /></td><td>Success</td><td> The wavefunction has an internal instability.\n",
        "</td></tr><tr><td>o1_upm6_UB3LYP_631Gd_4_4_graphene_stable_low_model</td><td><a href = \"files/unrestricted_cycloadd_oniom/correction/o1_upm6_UB3LYP_631Gd_4_4_graphene_stable_low_model.com\" target = \"_blank\">com</a></td><td><input type=\"button\" value=\"Smart Log\" id=\"o1_upm6_UB3LYP_631Gd_4_4_graphene_stable_low_model\" onclick=\"view_function(event, this.id)\" /></td><td>Success</td><td> The wavefunction has an internal instability.\n",
        "</td></tr><tr><td>o1_uHF_STO-3G_UB3LYP_631Gd_4_4_graphene_stable_low_model</td><td><a href = \"files/unrestricted_cycloadd_oniom/correction/o1_uHF_STO-3G_UB3LYP_631Gd_4_4_graphene_stable_low_model.com\" target = \"_blank\">com</a></td><td><input type=\"button\" value=\"Smart Log\" id=\"o1_uHF_STO-3G_UB3LYP_631Gd_4_4_graphene_stable_low_model\" onclick=\"view_function(event, this.id)\" /></td><td>Success</td><td> The wavefunction has an internal instability.\n",
        "</td></tr><tr><td>o2_uam1_UB3LYP_631Gd_4_4_graphene_stable_low_model</td><td><a href = \"files/unrestricted_cycloadd_oniom/correction/o2_uam1_UB3LYP_631Gd_4_4_graphene_stable_low_model.com\" target = \"_blank\">com</a></td><td><input type=\"button\" value=\"Smart Log\" id=\"o2_uam1_UB3LYP_631Gd_4_4_graphene_stable_low_model\" onclick=\"view_function(event, this.id)\" /></td><td>Success</td><td> The wavefunction has an internal instability.\n",
        "</td></tr><tr><td>o2_upm6_UB3LYP_631Gd_4_4_graphene_stable_low_model</td><td><a href = \"files/unrestricted_cycloadd_oniom/correction/o2_upm6_UB3LYP_631Gd_4_4_graphene_stable_low_model.com\" target = \"_blank\">com</a></td><td><input type=\"button\" value=\"Smart Log\" id=\"o2_upm6_UB3LYP_631Gd_4_4_graphene_stable_low_model\" onclick=\"view_function(event, this.id)\" /></td><td>Success</td><td> The wavefunction has an internal instability.\n",
        "</td></tr><tr><td>o2_uHF_STO-3G_UB3LYP_631Gd_4_4_graphene_stable_low_model</td><td><a href = \"files/unrestricted_cycloadd_oniom/correction/o2_uHF_STO-3G_UB3LYP_631Gd_4_4_graphene_stable_low_model.com\" target = \"_blank\">com</a></td><td><input type=\"button\" value=\"Smart Log\" id=\"o2_uHF_STO-3G_UB3LYP_631Gd_4_4_graphene_stable_low_model\" onclick=\"view_function(event, this.id)\" /></td><td>Success</td><td> The wavefunction has an internal instability.\n",
        "</td></tr><tr><td>o3_uam1_UB3LYP_631Gd_4_4_graphene_stable_low_model</td><td><a href = \"files/unrestricted_cycloadd_oniom/correction/o3_uam1_UB3LYP_631Gd_4_4_graphene_stable_low_model.com\" target = \"_blank\">com</a></td><td><input type=\"button\" value=\"Smart Log\" id=\"o3_uam1_UB3LYP_631Gd_4_4_graphene_stable_low_model\" onclick=\"view_function(event, this.id)\" /></td><td>Success</td><td> The wavefunction has an internal instability.\n",
        "</td></tr><tr><td>o3_upm6_UB3LYP_631Gd_4_4_graphene_stable_low_model</td><td><a href = \"files/unrestricted_cycloadd_oniom/correction/o3_upm6_UB3LYP_631Gd_4_4_graphene_stable_low_model.com\" target = \"_blank\">com</a></td><td><input type=\"button\" value=\"Smart Log\" id=\"o3_upm6_UB3LYP_631Gd_4_4_graphene_stable_low_model\" onclick=\"view_function(event, this.id)\" /></td><td>Success</td><td> The wavefunction has an internal instability.\n",
        "</td></tr><tr><td>o3_uHF_STO-3G_UB3LYP_631Gd_4_4_graphene_stable_low_model</td><td><a href = \"files/unrestricted_cycloadd_oniom/correction/o3_uHF_STO-3G_UB3LYP_631Gd_4_4_graphene_stable_low_model.com\" target = \"_blank\">com</a></td><td><input type=\"button\" value=\"Smart Log\" id=\"o3_uHF_STO-3G_UB3LYP_631Gd_4_4_graphene_stable_low_model\" onclick=\"view_function(event, this.id)\" /></td><td>Success</td><td> The wavefunction has an internal instability.\n",
        "</td></tr><tr><td>o4_uam1_UB3LYP_631Gd_4_4_graphene_stable_low_model</td><td><a href = \"files/unrestricted_cycloadd_oniom/correction/o4_uam1_UB3LYP_631Gd_4_4_graphene_stable_low_model.com\" target = \"_blank\">com</a></td><td><input type=\"button\" value=\"Smart Log\" id=\"o4_uam1_UB3LYP_631Gd_4_4_graphene_stable_low_model\" onclick=\"view_function(event, this.id)\" /></td><td>Success</td><td> The wavefunction has an internal instability.\n",
        "</td></tr><tr><td>o4_upm6_UB3LYP_631Gd_4_4_graphene_stable_low_model</td><td><a href = \"files/unrestricted_cycloadd_oniom/correction/o4_upm6_UB3LYP_631Gd_4_4_graphene_stable_low_model.com\" target = \"_blank\">com</a></td><td><input type=\"button\" value=\"Smart Log\" id=\"o4_upm6_UB3LYP_631Gd_4_4_graphene_stable_low_model\" onclick=\"view_function(event, this.id)\" /></td><td>Success</td><td> The wavefunction has an internal instability.\n",
        "</td></tr><tr><td>o4_uHF_STO-3G_UB3LYP_631Gd_4_4_graphene_stable_low_model</td><td><a href = \"files/unrestricted_cycloadd_oniom/correction/o4_uHF_STO-3G_UB3LYP_631Gd_4_4_graphene_stable_low_model.com\" target = \"_blank\">com</a></td><td><input type=\"button\" value=\"Smart Log\" id=\"o4_uHF_STO-3G_UB3LYP_631Gd_4_4_graphene_stable_low_model\" onclick=\"view_function(event, this.id)\" /></td><td>Success</td><td> The wavefunction has an internal instability.\n",
        "</td></tr><tr><td>o_sanity_UB3LYP_631Gd_4_4_graphene_stable_low_model</td><td><a href = \"files/unrestricted_cycloadd_oniom/correction/o_sanity_UB3LYP_631Gd_4_4_graphene_stable_low_model.com\" target = \"_blank\">com</a></td><td><input type=\"button\" value=\"Smart Log\" id=\"o_sanity_UB3LYP_631Gd_4_4_graphene_stable_low_model\" onclick=\"view_function(event, this.id)\" /></td><td>Error: TCursr= 1046 LCursr=   43</td><td></td></tr><tr><td>o0_uam1_UB3LYP_631Gd_4_4_cent_carbonyl_stable_low_model</td><td><a href = \"files/unrestricted_cycloadd_oniom/correction/o0_uam1_UB3LYP_631Gd_4_4_cent_carbonyl_stable_low_model.com\" target = \"_blank\">com</a></td><td><input type=\"button\" value=\"Smart Log\" id=\"o0_uam1_UB3LYP_631Gd_4_4_cent_carbonyl_stable_low_model\" onclick=\"view_function(event, this.id)\" /></td><td>Success</td><td></td></tr><tr><td>o0_upm6_UB3LYP_631Gd_4_4_cent_carbonyl_stable_low_model</td><td><a href = \"files/unrestricted_cycloadd_oniom/correction/o0_upm6_UB3LYP_631Gd_4_4_cent_carbonyl_stable_low_model.com\" target = \"_blank\">com</a></td><td><input type=\"button\" value=\"Smart Log\" id=\"o0_upm6_UB3LYP_631Gd_4_4_cent_carbonyl_stable_low_model\" onclick=\"view_function(event, this.id)\" /></td><td>Success</td><td></td></tr><tr><td>o0_uHF_STO-3G_UB3LYP_631Gd_4_4_cent_carbonyl_stable_low_model</td><td><a href = \"files/unrestricted_cycloadd_oniom/correction/o0_uHF_STO-3G_UB3LYP_631Gd_4_4_cent_carbonyl_stable_low_model.com\" target = \"_blank\">com</a></td><td><input type=\"button\" value=\"Smart Log\" id=\"o0_uHF_STO-3G_UB3LYP_631Gd_4_4_cent_carbonyl_stable_low_model\" onclick=\"view_function(event, this.id)\" /></td><td>Success</td><td></td></tr><tr><td>o1_uam1_UB3LYP_631Gd_4_4_cent_carbonyl_stable_low_model</td><td><a href = \"files/unrestricted_cycloadd_oniom/correction/o1_uam1_UB3LYP_631Gd_4_4_cent_carbonyl_stable_low_model.com\" target = \"_blank\">com</a></td><td><input type=\"button\" value=\"Smart Log\" id=\"o1_uam1_UB3LYP_631Gd_4_4_cent_carbonyl_stable_low_model\" onclick=\"view_function(event, this.id)\" /></td><td>Success</td><td> The wavefunction has an internal instability.\n",
        "</td></tr><tr><td>o1_upm6_UB3LYP_631Gd_4_4_cent_carbonyl_stable_low_model</td><td><a href = \"files/unrestricted_cycloadd_oniom/correction/o1_upm6_UB3LYP_631Gd_4_4_cent_carbonyl_stable_low_model.com\" target = \"_blank\">com</a></td><td><input type=\"button\" value=\"Smart Log\" id=\"o1_upm6_UB3LYP_631Gd_4_4_cent_carbonyl_stable_low_model\" onclick=\"view_function(event, this.id)\" /></td><td>Success</td><td> The wavefunction has an internal instability.\n",
        "</td></tr><tr><td>o1_uHF_STO-3G_UB3LYP_631Gd_4_4_cent_carbonyl_stable_low_model</td><td><a href = \"files/unrestricted_cycloadd_oniom/correction/o1_uHF_STO-3G_UB3LYP_631Gd_4_4_cent_carbonyl_stable_low_model.com\" target = \"_blank\">com</a></td><td><input type=\"button\" value=\"Smart Log\" id=\"o1_uHF_STO-3G_UB3LYP_631Gd_4_4_cent_carbonyl_stable_low_model\" onclick=\"view_function(event, this.id)\" /></td><td>Success</td><td> The wavefunction has an internal instability.\n",
        "</td></tr><tr><td>o2_uam1_UB3LYP_631Gd_4_4_cent_carbonyl_stable_low_model</td><td><a href = \"files/unrestricted_cycloadd_oniom/correction/o2_uam1_UB3LYP_631Gd_4_4_cent_carbonyl_stable_low_model.com\" target = \"_blank\">com</a></td><td><input type=\"button\" value=\"Smart Log\" id=\"o2_uam1_UB3LYP_631Gd_4_4_cent_carbonyl_stable_low_model\" onclick=\"view_function(event, this.id)\" /></td><td>Success</td><td> The wavefunction has an internal instability.\n",
        "</td></tr><tr><td>o2_upm6_UB3LYP_631Gd_4_4_cent_carbonyl_stable_low_model</td><td><a href = \"files/unrestricted_cycloadd_oniom/correction/o2_upm6_UB3LYP_631Gd_4_4_cent_carbonyl_stable_low_model.com\" target = \"_blank\">com</a></td><td><input type=\"button\" value=\"Smart Log\" id=\"o2_upm6_UB3LYP_631Gd_4_4_cent_carbonyl_stable_low_model\" onclick=\"view_function(event, this.id)\" /></td><td>Success</td><td> The wavefunction has an internal instability.\n",
        "</td></tr><tr><td>o2_uHF_STO-3G_UB3LYP_631Gd_4_4_cent_carbonyl_stable_low_model</td><td><a href = \"files/unrestricted_cycloadd_oniom/correction/o2_uHF_STO-3G_UB3LYP_631Gd_4_4_cent_carbonyl_stable_low_model.com\" target = \"_blank\">com</a></td><td><input type=\"button\" value=\"Smart Log\" id=\"o2_uHF_STO-3G_UB3LYP_631Gd_4_4_cent_carbonyl_stable_low_model\" onclick=\"view_function(event, this.id)\" /></td><td>Success</td><td> The wavefunction has an internal instability.\n",
        "</td></tr><tr><td>o3_uam1_UB3LYP_631Gd_4_4_cent_carbonyl_stable_low_model</td><td><a href = \"files/unrestricted_cycloadd_oniom/correction/o3_uam1_UB3LYP_631Gd_4_4_cent_carbonyl_stable_low_model.com\" target = \"_blank\">com</a></td><td><input type=\"button\" value=\"Smart Log\" id=\"o3_uam1_UB3LYP_631Gd_4_4_cent_carbonyl_stable_low_model\" onclick=\"view_function(event, this.id)\" /></td><td>Success</td><td> The wavefunction has an internal instability.\n",
        "</td></tr><tr><td>o3_upm6_UB3LYP_631Gd_4_4_cent_carbonyl_stable_low_model</td><td><a href = \"files/unrestricted_cycloadd_oniom/correction/o3_upm6_UB3LYP_631Gd_4_4_cent_carbonyl_stable_low_model.com\" target = \"_blank\">com</a></td><td><input type=\"button\" value=\"Smart Log\" id=\"o3_upm6_UB3LYP_631Gd_4_4_cent_carbonyl_stable_low_model\" onclick=\"view_function(event, this.id)\" /></td><td>Success</td><td> The wavefunction has an internal instability.\n",
        "</td></tr><tr><td>o3_uHF_STO-3G_UB3LYP_631Gd_4_4_cent_carbonyl_stable_low_model</td><td><a href = \"files/unrestricted_cycloadd_oniom/correction/o3_uHF_STO-3G_UB3LYP_631Gd_4_4_cent_carbonyl_stable_low_model.com\" target = \"_blank\">com</a></td><td><input type=\"button\" value=\"Smart Log\" id=\"o3_uHF_STO-3G_UB3LYP_631Gd_4_4_cent_carbonyl_stable_low_model\" onclick=\"view_function(event, this.id)\" /></td><td>Success</td><td> The wavefunction has an internal instability.\n",
        "</td></tr><tr><td>o4_uam1_UB3LYP_631Gd_4_4_cent_carbonyl_stable_low_model</td><td><a href = \"files/unrestricted_cycloadd_oniom/correction/o4_uam1_UB3LYP_631Gd_4_4_cent_carbonyl_stable_low_model.com\" target = \"_blank\">com</a></td><td><input type=\"button\" value=\"Smart Log\" id=\"o4_uam1_UB3LYP_631Gd_4_4_cent_carbonyl_stable_low_model\" onclick=\"view_function(event, this.id)\" /></td><td>Success</td><td> The wavefunction has an internal instability.\n",
        "</td></tr><tr><td>o4_upm6_UB3LYP_631Gd_4_4_cent_carbonyl_stable_low_model</td><td><a href = \"files/unrestricted_cycloadd_oniom/correction/o4_upm6_UB3LYP_631Gd_4_4_cent_carbonyl_stable_low_model.com\" target = \"_blank\">com</a></td><td><input type=\"button\" value=\"Smart Log\" id=\"o4_upm6_UB3LYP_631Gd_4_4_cent_carbonyl_stable_low_model\" onclick=\"view_function(event, this.id)\" /></td><td>Success</td><td> The wavefunction has an internal instability.\n",
        "</td></tr><tr><td>o4_uHF_STO-3G_UB3LYP_631Gd_4_4_cent_carbonyl_stable_low_model</td><td><a href = \"files/unrestricted_cycloadd_oniom/correction/o4_uHF_STO-3G_UB3LYP_631Gd_4_4_cent_carbonyl_stable_low_model.com\" target = \"_blank\">com</a></td><td><input type=\"button\" value=\"Smart Log\" id=\"o4_uHF_STO-3G_UB3LYP_631Gd_4_4_cent_carbonyl_stable_low_model\" onclick=\"view_function(event, this.id)\" /></td><td>Success</td><td> The wavefunction has an internal instability.\n",
        "</td></tr><tr><td>o_sanity_UB3LYP_631Gd_4_4_cent_carbonyl_stable_low_model</td><td><a href = \"files/unrestricted_cycloadd_oniom/correction/o_sanity_UB3LYP_631Gd_4_4_cent_carbonyl_stable_low_model.com\" target = \"_blank\">com</a></td><td><input type=\"button\" value=\"Smart Log\" id=\"o_sanity_UB3LYP_631Gd_4_4_cent_carbonyl_stable_low_model\" onclick=\"view_function(event, this.id)\" /></td><td>Error: TCursr= 1046 LCursr=   43</td><td></td></tr>\n",
        "    </table>\n",
        "    </body>"
       ],
       "output_type": "pyout",
       "prompt_number": 34,
       "text": [
        "<IPython.core.display.HTML at 0x4085450>"
       ]
      }
     ],
     "prompt_number": 34
    },
    {
     "cell_type": "code",
     "collapsed": false,
     "input": [
      "ul_rls = [e if e.calc.status=='Success' else None for e in ul_rls]\n",
      "uh_mds = [e if e.calc.status=='Success' else None for e in uh_mds]\n",
      "ul_mss = [e if e.calc.status=='Success' else None for e in ul_mds]\n",
      "\n",
      "for i, c in enumerate(o_44 + o_44_carb):\n",
      "    c.calc.restart(remove_label='stable', method=c.calc.method.replace('=OnlyInputFiles', ''), component_calcs = zip(ul_rls, uh_mds, ul_mds)[i])\n",
      "    c.calc.set_job(nodes=8, memory = 8*1400, time=5, queue='pqmb')\n",
      "    #c.calc.start()"
     ],
     "language": "python",
     "metadata": {},
     "outputs": [],
     "prompt_number": 35
    },
    {
     "cell_type": "code",
     "collapsed": false,
     "input": [
      "check_calcs(o_44 + o_44_carb)"
     ],
     "language": "python",
     "metadata": {},
     "outputs": [
      {
       "output_type": "pyout",
       "prompt_number": 36,
       "text": [
        "[Atoms(symbols='C48H18', positions=..., cell=[1.0, 1.0, 1.0], pbc=[False, False, False], calculator=Gaussian(...)),\n",
        " Atoms(symbols='C50H22O', positions=..., cell=[1.0, 1.0, 1.0], pbc=[False, False, False], calculator=Gaussian(...))]"
       ]
      }
     ],
     "prompt_number": 36
    },
    {
     "cell_type": "code",
     "collapsed": false,
     "input": [
      "def rxn_E_f(a,g):\n",
      "    try: \n",
      "        return(a.calc.energy_zero - g.calc.energy_zero - carb.calc.energy)* 23.060542301388647 \n",
      "    except AttributeError: \n",
      "        return float('nan')\n",
      "    \n",
      "rxn_Es = []\n",
      "delt_Es = []\n",
      "names = []\n",
      "\n",
      "for i in range(len(o_44_carb)):\n",
      "    rxn_E = rxn_E_f(o_44_carb[i], o_44[i])\n",
      "    delt_E = rxn_E - -15.925565\n",
      "    name = o_44_carb[i].calc.label\n",
      "    rxn_Es.append(rxn_E)\n",
      "    delt_Es.append(delt_E)\n",
      "    names.append(name)\n",
      "\n",
      "o_data = pandas.Series(rxn_Es ,names)\n",
      "o_dft_delt_data = pandas.Series(delt_Es, names)"
     ],
     "language": "python",
     "metadata": {},
     "outputs": [],
     "prompt_number": 37
    },
    {
     "cell_type": "code",
     "collapsed": false,
     "input": [
      "#energy in Kcal/mol\n",
      "d = {'Rxn Energy': o_data, 'oniom-b3lyp_delta': o_dft_delt_data}\n",
      "rxn_frame = pandas.DataFrame(d)\n",
      "#rxn_frame.save('o_rxn_E_data.pickle')\n",
      "rxn_frame"
     ],
     "language": "python",
     "metadata": {},
     "outputs": [
      {
       "html": [
        "<div style=\"max-height:1000px;max-width:1500px;overflow:auto;\">\n",
        "<table border=\"1\" class=\"dataframe\">\n",
        "  <thead>\n",
        "    <tr style=\"text-align: right;\">\n",
        "      <th></th>\n",
        "      <th>Rxn Energy</th>\n",
        "      <th>oniom-b3lyp_delta</th>\n",
        "    </tr>\n",
        "  </thead>\n",
        "  <tbody>\n",
        "    <tr>\n",
        "      <td><strong>o0_uam1_UB3LYP_631Gd_4_4_cent_carbonyl_restart_1</strong></td>\n",
        "      <td>-21.868492</td>\n",
        "      <td> -5.942927</td>\n",
        "    </tr>\n",
        "    <tr>\n",
        "      <td><strong>o0_upm6_UB3LYP_631Gd_4_4_cent_carbonyl_restart_1</strong></td>\n",
        "      <td>-45.181587</td>\n",
        "      <td>-29.256022</td>\n",
        "    </tr>\n",
        "    <tr>\n",
        "      <td><strong>o0_uHF_STO-3G_UB3LYP_631Gd_4_4_cent_carbonyl_restart_1</strong></td>\n",
        "      <td> -2.625387</td>\n",
        "      <td> 13.300178</td>\n",
        "    </tr>\n",
        "    <tr>\n",
        "      <td><strong>o1_uam1_UB3LYP_631Gd_4_4_cent_carbonyl_restart_1</strong></td>\n",
        "      <td> -6.839712</td>\n",
        "      <td>  9.085853</td>\n",
        "    </tr>\n",
        "    <tr>\n",
        "      <td><strong>o1_upm6_UB3LYP_631Gd_4_4_cent_carbonyl_restart_1</strong></td>\n",
        "      <td> -9.603343</td>\n",
        "      <td>  6.322222</td>\n",
        "    </tr>\n",
        "    <tr>\n",
        "      <td><strong>o1_uHF_STO-3G_UB3LYP_631Gd_4_4_cent_carbonyl_restart_1</strong></td>\n",
        "      <td> -7.179853</td>\n",
        "      <td>  8.745712</td>\n",
        "    </tr>\n",
        "    <tr>\n",
        "      <td><strong>o2_uam1_UB3LYP_631Gd_4_4_cent_carbonyl_restart_1</strong></td>\n",
        "      <td>-12.643091</td>\n",
        "      <td>  3.282474</td>\n",
        "    </tr>\n",
        "    <tr>\n",
        "      <td><strong>o2_upm6_UB3LYP_631Gd_4_4_cent_carbonyl_restart_1</strong></td>\n",
        "      <td>-14.329774</td>\n",
        "      <td>  1.595791</td>\n",
        "    </tr>\n",
        "    <tr>\n",
        "      <td><strong>o2_uHF_STO-3G_UB3LYP_631Gd_4_4_cent_carbonyl_restart_1</strong></td>\n",
        "      <td> -7.893028</td>\n",
        "      <td>  8.032537</td>\n",
        "    </tr>\n",
        "    <tr>\n",
        "      <td><strong>o3_uam1_UB3LYP_631Gd_4_4_cent_carbonyl_restart_1</strong></td>\n",
        "      <td>-23.237862</td>\n",
        "      <td> -7.312297</td>\n",
        "    </tr>\n",
        "    <tr>\n",
        "      <td><strong>o3_upm6_UB3LYP_631Gd_4_4_cent_carbonyl_restart_1</strong></td>\n",
        "      <td>-24.899399</td>\n",
        "      <td> -8.973834</td>\n",
        "    </tr>\n",
        "    <tr>\n",
        "      <td><strong>o3_uHF_STO-3G_UB3LYP_631Gd_4_4_cent_carbonyl_restart_1</strong></td>\n",
        "      <td>-20.402130</td>\n",
        "      <td> -4.476565</td>\n",
        "    </tr>\n",
        "    <tr>\n",
        "      <td><strong>o4_uam1_UB3LYP_631Gd_4_4_cent_carbonyl_restart_1</strong></td>\n",
        "      <td> -4.124172</td>\n",
        "      <td> 11.801393</td>\n",
        "    </tr>\n",
        "    <tr>\n",
        "      <td><strong>o4_upm6_UB3LYP_631Gd_4_4_cent_carbonyl_restart_1</strong></td>\n",
        "      <td> -4.353591</td>\n",
        "      <td> 11.571974</td>\n",
        "    </tr>\n",
        "    <tr>\n",
        "      <td><strong>o4_uHF_STO-3G_UB3LYP_631Gd_4_4_cent_carbonyl_restart_1</strong></td>\n",
        "      <td> -3.543645</td>\n",
        "      <td> 12.381920</td>\n",
        "    </tr>\n",
        "    <tr>\n",
        "      <td><strong>o_sanity_UB3LYP_631Gd_4_4_cent_carbonyl_restart_1</strong></td>\n",
        "      <td>       NaN</td>\n",
        "      <td>       NaN</td>\n",
        "    </tr>\n",
        "  </tbody>\n",
        "</table>\n",
        "</div>"
       ],
       "output_type": "pyout",
       "prompt_number": 38,
       "text": [
        "                                                        Rxn Energy  oniom-b3lyp_delta\n",
        "o0_uam1_UB3LYP_631Gd_4_4_cent_carbonyl_restart_1        -21.868492          -5.942927\n",
        "o0_upm6_UB3LYP_631Gd_4_4_cent_carbonyl_restart_1        -45.181587         -29.256022\n",
        "o0_uHF_STO-3G_UB3LYP_631Gd_4_4_cent_carbonyl_restart_1   -2.625387          13.300178\n",
        "o1_uam1_UB3LYP_631Gd_4_4_cent_carbonyl_restart_1         -6.839712           9.085853\n",
        "o1_upm6_UB3LYP_631Gd_4_4_cent_carbonyl_restart_1         -9.603343           6.322222\n",
        "o1_uHF_STO-3G_UB3LYP_631Gd_4_4_cent_carbonyl_restart_1   -7.179853           8.745712\n",
        "o2_uam1_UB3LYP_631Gd_4_4_cent_carbonyl_restart_1        -12.643091           3.282474\n",
        "o2_upm6_UB3LYP_631Gd_4_4_cent_carbonyl_restart_1        -14.329774           1.595791\n",
        "o2_uHF_STO-3G_UB3LYP_631Gd_4_4_cent_carbonyl_restart_1   -7.893028           8.032537\n",
        "o3_uam1_UB3LYP_631Gd_4_4_cent_carbonyl_restart_1        -23.237862          -7.312297\n",
        "o3_upm6_UB3LYP_631Gd_4_4_cent_carbonyl_restart_1        -24.899399          -8.973834\n",
        "o3_uHF_STO-3G_UB3LYP_631Gd_4_4_cent_carbonyl_restart_1  -20.402130          -4.476565\n",
        "o4_uam1_UB3LYP_631Gd_4_4_cent_carbonyl_restart_1         -4.124172          11.801393\n",
        "o4_upm6_UB3LYP_631Gd_4_4_cent_carbonyl_restart_1         -4.353591          11.571974\n",
        "o4_uHF_STO-3G_UB3LYP_631Gd_4_4_cent_carbonyl_restart_1   -3.543645          12.381920\n",
        "o_sanity_UB3LYP_631Gd_4_4_cent_carbonyl_restart_1              NaN                NaN"
       ]
      }
     ],
     "prompt_number": 38
    },
    {
     "cell_type": "heading",
     "level": 2,
     "metadata": {},
     "source": [
      "Optimised geometry calculations"
     ]
    },
    {
     "cell_type": "code",
     "collapsed": false,
     "input": [
      "o_44_opt_carb = []\n",
      "o_44_opt = []\n",
      "\n",
      "i=0\n",
      "for siz in range(5):\n",
      "    for meth in l_methods:       \n",
      "        graph = read(graph_44_xyz)\n",
      "        graph_name = 'o{s}_{m}_o{s}_{m}_4_4_graphene'.format(m=meth.replace('/', '_'), s=siz)\n",
      "        graph.set_calculator(Gaussian(label=graph_name, method='oniom(UB3LYP/6-31G(d):{l})'.format(l=meth), basis='oniom', opt='opt', component_calcs=zip(ul_rls, uh_mds, ul_mds)[i]))\n",
      "        graph_H = graph_atoms[siz]\n",
      "        graph.calc.oniom_coord_params['layers'] = [[no -1 for no in graph_H]]\n",
      "        graph.calc.oniom_coord_params['layer_mults'] = [1,1]\n",
      "        graph.calc.set_job(nodes=8, memory=8*1400, time=5, queue='pqmb')\n",
      "        #graph.calc.start(frc=True)\n",
      "        o_44_opt.append(graph)      \n",
      "        i+=1\n",
      "        \n",
      "#as we are missing out the sanity calc\n",
      "i+=1\n",
      "for siz in range(5):\n",
      "    for meth in l_methods:        \n",
      "        graph_ylid = read(carb_44_xyz)\n",
      "        graph_ylid_name = 'o{s}_{m}_o{s}_{m}_4_4_cent_carbonyl'.format(m=meth.replace('/', '_'), s=siz)\n",
      "        graph_ylid.set_calculator(Gaussian(label=graph_ylid_name, method='oniom(UB3LYP/6-31G(d):{l})'.format(l=meth), basis='oniom', opt='opt', component_calcs=zip(ul_rls, uh_mds, ul_mds)[i]))\n",
      "        graph_ylid_H = ylide_atoms + graph_atoms[siz]\n",
      "        graph_ylid.calc.oniom_coord_params['layers'] = [[no -1 for no in graph_ylid_H]]\n",
      "        graph_ylid.calc.oniom_coord_params['layer_mults'] = [1,1]\n",
      "        graph_ylid.calc.set_job(nodes=8, memory=8*1400, time=5, queue='pqmb')\n",
      "        #graph_ylid.calc.start(frc=True)\n",
      "        o_44_opt_carb.append(graph_ylid)\n",
      "        i+=1\n",
      "\n",
      "#sanity check\n",
      "#graph_ylid = read(carb_44_xyz)\n",
      "#graph_ylid_name = 'o_sanity_o_sanity_4_4_cent_carbonyl'\n",
      "#graph_ylid.set_calculator(Gaussian(label=graph_ylid_name, method='oniom(B3LYP/6-31G(d):B3LYP/6-31G(d))', basis='oniom', opt='opt'))\n",
      "#graph_ylid_H = ylide_atoms + graph_atoms[0]\n",
      "#graph_ylid.calc.coord_params['layers'] = [[no -1 for no in graph_ylid_H]]\n",
      "#graph_ylid.calc.coord_params['layer_mults'] = [1,1]\n",
      "#graph_ylid.calc.set_job(nodes=8, memory=8*1400, time=5)\n",
      "        \n",
      "#graph = read(graph_44_xyz)\n",
      "#graph_name = 'o_sanity_o_sanity_4_4_graphene'\n",
      "#graph.set_calculator(Gaussian(label=graph_name, method='oniom(B3LYP/6-31G(d):B3LYP/6-31G(d))', basis='oniom', opt='opt'))\n",
      "#graph_H = graph_atoms[0]\n",
      "#graph.calc.coord_params['layers'] = [[no -1 for no in graph_H]]\n",
      "#graph.calc.coord_params['layer_mults'] = [1,1]\n",
      "#graph.calc.set_job(nodes=8, memory=8*1400, time=5)\n",
      "        \n",
      "#graph_ylid.get_potential_energy()\n",
      "#graph.get_potential_energy()\n",
      "#o_44_opt_carb.append(graph_ylid)\n",
      "#o_44_opt.append(graph)"
     ],
     "language": "python",
     "metadata": {},
     "outputs": [],
     "prompt_number": 39
    },
    {
     "cell_type": "code",
     "collapsed": false,
     "input": [
      "carb = read('../../cycloadd/B3LYP_631Gd_B3LYP_631Gd_carbonyl_ylide_mult_1.log')\n",
      "azo = read('../../cycloadd/B3LYP_631Gd_B3LYP_631Gd_azomethine_ylide_mult_1.log')\n",
      "check_calcs(o_44_opt + o_44_opt_carb)"
     ],
     "language": "python",
     "metadata": {},
     "outputs": [
      {
       "output_type": "pyout",
       "prompt_number": 40,
       "text": [
        "'Calculations complete'"
       ]
      }
     ],
     "prompt_number": 40
    },
    {
     "cell_type": "code",
     "collapsed": false,
     "input": [
      "def rxn_E_f(a,g):\n",
      "    try: \n",
      "        return(a.calc.energy_zero - g.calc.energy_zero - carb.calc.energy)* 23.060542301388647 \n",
      "    except AttributeError: \n",
      "        return float('nan')\n",
      "    \n",
      "rxn_Es = []\n",
      "delt_Es = []\n",
      "names = []\n",
      "\n",
      "for i in range(len(o_44_opt_carb)):\n",
      "    rxn_E = rxn_E_f(o_44_opt_carb[i], o_44_opt[i])\n",
      "    delt_E = rxn_E - -15.790776\n",
      "    name = o_44_opt_carb[i].calc.label\n",
      "    rxn_Es.append(rxn_E)\n",
      "    delt_Es.append(delt_E)\n",
      "    names.append(name)\n",
      "\n",
      "o_data = pandas.Series(rxn_Es ,names)\n",
      "o_dft_delt_data = pandas.Series(delt_Es, names)"
     ],
     "language": "python",
     "metadata": {},
     "outputs": [],
     "prompt_number": 41
    },
    {
     "cell_type": "code",
     "collapsed": false,
     "input": [
      "#energy in Kcal/mol\n",
      "d = {'Rxn Energy': o_data, 'oniom-b3lyp_delta': o_dft_delt_data}\n",
      "opt_rxn_frame = pandas.DataFrame(d)\n",
      "\n",
      "o_keys, o_opt_keys = rxn_frame.index, opt_rxn_frame.index\n",
      "key_map_dict = {o_keys[i]:o_opt_keys[i] for i in range(len(opt_rxn_frame))}\n",
      "temp_data = rxn_frame.rename(index=key_map_dict)\n",
      "delta_data = temp_data.applymap(abs)-opt_rxn_frame.applymap(abs)\n",
      "delta_data = delta_data.rename(columns={'oniom-b3lyp_delta' : 'Improvement on relaxing'})\n",
      "opt_rxn_frame = opt_rxn_frame.join(delta_data['Improvement on relaxing'])\n",
      "#opt_rxn_frame.save('opt_o_rxn_E_data.pickle')\n",
      "opt_rxn_frame"
     ],
     "language": "python",
     "metadata": {},
     "outputs": [
      {
       "html": [
        "<div style=\"max-height:1000px;max-width:1500px;overflow:auto;\">\n",
        "<table border=\"1\" class=\"dataframe\">\n",
        "  <thead>\n",
        "    <tr style=\"text-align: right;\">\n",
        "      <th></th>\n",
        "      <th>Rxn Energy</th>\n",
        "      <th>oniom-b3lyp_delta</th>\n",
        "      <th>Improvement on relaxing</th>\n",
        "    </tr>\n",
        "  </thead>\n",
        "  <tbody>\n",
        "    <tr>\n",
        "      <td><strong>o0_uam1_o0_uam1_4_4_cent_carbonyl</strong></td>\n",
        "      <td>-24.990432</td>\n",
        "      <td> -9.199656</td>\n",
        "      <td>-3.256728</td>\n",
        "    </tr>\n",
        "    <tr>\n",
        "      <td><strong>o0_upm6_o0_upm6_4_4_cent_carbonyl</strong></td>\n",
        "      <td>-44.797860</td>\n",
        "      <td>-29.007084</td>\n",
        "      <td> 0.248939</td>\n",
        "    </tr>\n",
        "    <tr>\n",
        "      <td><strong>o0_uHF_STO-3G_o0_uHF_STO-3G_4_4_cent_carbonyl</strong></td>\n",
        "      <td> -4.688349</td>\n",
        "      <td> 11.102427</td>\n",
        "      <td> 2.197752</td>\n",
        "    </tr>\n",
        "    <tr>\n",
        "      <td><strong>o1_uam1_o1_uam1_4_4_cent_carbonyl</strong></td>\n",
        "      <td> -7.514659</td>\n",
        "      <td>  8.276117</td>\n",
        "      <td> 0.809736</td>\n",
        "    </tr>\n",
        "    <tr>\n",
        "      <td><strong>o1_upm6_o1_upm6_4_4_cent_carbonyl</strong></td>\n",
        "      <td>-10.719009</td>\n",
        "      <td>  5.071767</td>\n",
        "      <td> 1.250456</td>\n",
        "    </tr>\n",
        "    <tr>\n",
        "      <td><strong>o1_uHF_STO-3G_o1_uHF_STO-3G_4_4_cent_carbonyl</strong></td>\n",
        "      <td> -8.141909</td>\n",
        "      <td>  7.648867</td>\n",
        "      <td> 1.096845</td>\n",
        "    </tr>\n",
        "    <tr>\n",
        "      <td><strong>o2_uam1_o2_uam1_4_4_cent_carbonyl</strong></td>\n",
        "      <td>-12.685041</td>\n",
        "      <td>  3.105735</td>\n",
        "      <td> 0.176739</td>\n",
        "    </tr>\n",
        "    <tr>\n",
        "      <td><strong>o2_upm6_o2_upm6_4_4_cent_carbonyl</strong></td>\n",
        "      <td>-14.781743</td>\n",
        "      <td>  1.009033</td>\n",
        "      <td> 0.586758</td>\n",
        "    </tr>\n",
        "    <tr>\n",
        "      <td><strong>o2_uHF_STO-3G_o2_uHF_STO-3G_4_4_cent_carbonyl</strong></td>\n",
        "      <td> -7.620914</td>\n",
        "      <td>  8.169862</td>\n",
        "      <td>-0.137325</td>\n",
        "    </tr>\n",
        "    <tr>\n",
        "      <td><strong>o3_uam1_o3_uam1_4_4_cent_carbonyl</strong></td>\n",
        "      <td>-27.050826</td>\n",
        "      <td>-11.260050</td>\n",
        "      <td>-3.947753</td>\n",
        "    </tr>\n",
        "    <tr>\n",
        "      <td><strong>o3_upm6_o3_upm6_4_4_cent_carbonyl</strong></td>\n",
        "      <td>-27.439436</td>\n",
        "      <td>-11.648660</td>\n",
        "      <td>-2.674826</td>\n",
        "    </tr>\n",
        "    <tr>\n",
        "      <td><strong>o3_uHF_STO-3G_o3_uHF_STO-3G_4_4_cent_carbonyl</strong></td>\n",
        "      <td>-24.594451</td>\n",
        "      <td> -8.803675</td>\n",
        "      <td>-4.327110</td>\n",
        "    </tr>\n",
        "    <tr>\n",
        "      <td><strong>o4_uam1_o4_uam1_4_4_cent_carbonyl</strong></td>\n",
        "      <td> -2.056515</td>\n",
        "      <td> 13.734261</td>\n",
        "      <td>-1.932868</td>\n",
        "    </tr>\n",
        "    <tr>\n",
        "      <td><strong>o4_upm6_o4_upm6_4_4_cent_carbonyl</strong></td>\n",
        "      <td> -2.558089</td>\n",
        "      <td> 13.232687</td>\n",
        "      <td>-1.660713</td>\n",
        "    </tr>\n",
        "    <tr>\n",
        "      <td><strong>o4_uHF_STO-3G_o4_uHF_STO-3G_4_4_cent_carbonyl</strong></td>\n",
        "      <td> -0.774904</td>\n",
        "      <td> 15.015872</td>\n",
        "      <td>-2.633952</td>\n",
        "    </tr>\n",
        "  </tbody>\n",
        "</table>\n",
        "</div>"
       ],
       "output_type": "pyout",
       "prompt_number": 42,
       "text": [
        "                                               Rxn Energy  oniom-b3lyp_delta  Improvement on relaxing\n",
        "o0_uam1_o0_uam1_4_4_cent_carbonyl              -24.990432          -9.199656                -3.256728\n",
        "o0_upm6_o0_upm6_4_4_cent_carbonyl              -44.797860         -29.007084                 0.248939\n",
        "o0_uHF_STO-3G_o0_uHF_STO-3G_4_4_cent_carbonyl   -4.688349          11.102427                 2.197752\n",
        "o1_uam1_o1_uam1_4_4_cent_carbonyl               -7.514659           8.276117                 0.809736\n",
        "o1_upm6_o1_upm6_4_4_cent_carbonyl              -10.719009           5.071767                 1.250456\n",
        "o1_uHF_STO-3G_o1_uHF_STO-3G_4_4_cent_carbonyl   -8.141909           7.648867                 1.096845\n",
        "o2_uam1_o2_uam1_4_4_cent_carbonyl              -12.685041           3.105735                 0.176739\n",
        "o2_upm6_o2_upm6_4_4_cent_carbonyl              -14.781743           1.009033                 0.586758\n",
        "o2_uHF_STO-3G_o2_uHF_STO-3G_4_4_cent_carbonyl   -7.620914           8.169862                -0.137325\n",
        "o3_uam1_o3_uam1_4_4_cent_carbonyl              -27.050826         -11.260050                -3.947753\n",
        "o3_upm6_o3_upm6_4_4_cent_carbonyl              -27.439436         -11.648660                -2.674826\n",
        "o3_uHF_STO-3G_o3_uHF_STO-3G_4_4_cent_carbonyl  -24.594451          -8.803675                -4.327110\n",
        "o4_uam1_o4_uam1_4_4_cent_carbonyl               -2.056515          13.734261                -1.932868\n",
        "o4_upm6_o4_upm6_4_4_cent_carbonyl               -2.558089          13.232687                -1.660713\n",
        "o4_uHF_STO-3G_o4_uHF_STO-3G_4_4_cent_carbonyl   -0.774904          15.015872                -2.633952"
       ]
      }
     ],
     "prompt_number": 42
    },
    {
     "cell_type": "markdown",
     "metadata": {},
     "source": [
      "Check we have found minima:"
     ]
    },
    {
     "cell_type": "code",
     "collapsed": false,
     "input": [
      "for mol in o_44_opt + o_44_opt_carb:\n",
      "    mol.calc.restart(geom='allcheck', add_label = 'freq_', guess='read', opt=None, freq='freq')#, start=True)"
     ],
     "language": "python",
     "metadata": {},
     "outputs": [],
     "prompt_number": 43
    },
    {
     "cell_type": "code",
     "collapsed": false,
     "input": [
      "check_calcs(o_44_opt + o_44_opt_carb)"
     ],
     "language": "python",
     "metadata": {},
     "outputs": [
      {
       "output_type": "pyout",
       "prompt_number": 44,
       "text": [
        "'Calculations complete'"
       ]
      }
     ],
     "prompt_number": 44
    },
    {
     "cell_type": "code",
     "collapsed": false,
     "input": [
      "#mols_to_html(o_44_opt_carb + o_44_opt, data_func = lambda e: e.calc.max_data.get('NImag'))"
     ],
     "language": "python",
     "metadata": {},
     "outputs": [],
     "prompt_number": 45
    },
    {
     "cell_type": "code",
     "collapsed": false,
     "input": [
      "all([m.calc.max_data['NImag'] == 0 for m in o_44_opt + o_44_opt_carb])\n",
      "#view_ipython_jmol([m.calc.label +'.log' for m  in o_44_opt_carb], vib=1)"
     ],
     "language": "python",
     "metadata": {},
     "outputs": [
      {
       "output_type": "pyout",
       "prompt_number": 46,
       "text": [
        "True"
       ]
      }
     ],
     "prompt_number": 46
    },
    {
     "cell_type": "heading",
     "level": 2,
     "metadata": {},
     "source": [
      "Transition state barriers"
     ]
    },
    {
     "cell_type": "code",
     "collapsed": false,
     "input": [
      "carb_44_ts_xyz = '../oniom_xyz_files/non_oniom_ts/UB3LYP_631Gd_UB3LYP_631Gd_4_4_cent_carbonyl_ts3_reopt_restart_2_final.xyz'\n",
      "carb_44_ts_orig_calc = '../oniom_xyz_files/non_oniom_ts/UB3LYP_631Gd_UB3LYP_631Gd_4_4_cent_carbonyl_ts3_reopt_restart_2_freq.log'"
     ],
     "language": "python",
     "metadata": {},
     "outputs": [],
     "prompt_number": 47
    },
    {
     "cell_type": "markdown",
     "metadata": {},
     "source": [
      "At UB3LYP 6-31G(d) geometries:"
     ]
    },
    {
     "cell_type": "code",
     "collapsed": false,
     "input": [
      "o_44_carb_ts = []\n",
      "\n",
      "for siz in range(5):\n",
      "    for meth in l_methods:\n",
      "        graph_ylid_ts = read(carb_44_ts_xyz)\n",
      "        graph_ylid_ts_name = 'o{s}_{m}_UB3LYP_631Gd_4_4_cent_carbonyl_ts'.format(m=meth.replace('/', '_'), s=siz)\n",
      "        graph_ylid_ts.set_calculator(Gaussian(label=graph_ylid_ts_name, method='oniom(UB3LYP/6-31G(d):{l})=OnlyInputFiles'.format(l=meth), basis='oniom'))\n",
      "        graph_ylid_ts_H = ylide_atoms + graph_atoms[siz]\n",
      "        graph_ylid_ts.calc.oniom_coord_params['layers'] = [[no -1 for no in graph_ylid_ts_H]]\n",
      "        graph_ylid_ts.calc.oniom_coord_params['layer_mults'] = [1,1]\n",
      "        graph_ylid_ts.calc.set_job(nodes=1, memory=1*400, time=1)\n",
      "        #graph_ylid_ts.calc.start()\n",
      "        o_44_carb_ts.append(graph_ylid_ts)\n",
      "check_calcs(o_44_carb_ts)"
     ],
     "language": "python",
     "metadata": {},
     "outputs": [
      {
       "output_type": "pyout",
       "prompt_number": 48,
       "text": [
        "'Calculations complete'"
       ]
      }
     ],
     "prompt_number": 48
    },
    {
     "cell_type": "code",
     "collapsed": false,
     "input": [
      "from oniom_utils import oniom_comp_calcs\n",
      "\n",
      "ul_ts_rls, uh_ts_mds, ul_ts_mds = oniom_comp_calcs(o_44_carb_ts, stable='opt')\n",
      "for c in ul_ts_rls + uh_ts_mds + ul_ts_mds:\n",
      "    c.calc.set_job(nodes=8, memory=8*1400, time=5, queue='pqmb')\n",
      "    #c.calc.start(frc=True)\n",
      "check_calcs(ul_ts_rls, uh_ts_mds, ul_ts_mds)"
     ],
     "language": "python",
     "metadata": {},
     "outputs": [
      {
       "output_type": "pyout",
       "prompt_number": 49,
       "text": [
        "'Calculations complete'"
       ]
      }
     ],
     "prompt_number": 49
    },
    {
     "cell_type": "code",
     "collapsed": false,
     "input": [
      "for i, c in enumerate(o_44_carb_ts):\n",
      "    c.calc.restart(method=c.calc.method.replace('=OnlyInputFiles', ''), component_calcs = zip(ul_ts_rls, uh_ts_mds, ul_ts_mds)[i])\n",
      "    c.calc.set_job(nodes=8, memory = 8*1400, time=5, queue='pqmb')\n",
      "    #c.calc.start(frc=True)"
     ],
     "language": "python",
     "metadata": {},
     "outputs": [],
     "prompt_number": 50
    },
    {
     "cell_type": "code",
     "collapsed": false,
     "input": [
      "check_calcs(o_44_carb_ts)"
     ],
     "language": "python",
     "metadata": {},
     "outputs": [
      {
       "output_type": "pyout",
       "prompt_number": 51,
       "text": [
        "'Calculations complete'"
       ]
      }
     ],
     "prompt_number": 51
    },
    {
     "cell_type": "code",
     "collapsed": false,
     "input": [
      "for c in o_44_carb_ts:\n",
      "    c.calc.restart(add_label='freq', opt='', freq='freq', component_calcs = '')\n",
      "    c.calc.set_job(nodes=8, memory = 8*1400, time=5, queue='pqmb')\n",
      "    #c.calc.start()"
     ],
     "language": "python",
     "metadata": {},
     "outputs": [],
     "prompt_number": 52
    },
    {
     "cell_type": "code",
     "collapsed": false,
     "input": [
      "check_calcs(o_44_carb_ts)\n",
      "mols_to_html(o_44_carb_ts)"
     ],
     "language": "python",
     "metadata": {},
     "outputs": [
      {
       "html": [
        "\n",
        "           <script type=\"text/javascript\">\n",
        "           function view_function (event, file_n) {\n",
        "               if (event.ctrlKey && event.shiftKey){\n",
        "                   IPython.notebook.kernel.execute(\"cc_notebook_utils.pygview('\" + file_n + \".log')\");\n",
        "               }\n",
        "               else if (event.ctrlKey){\n",
        "                   IPython.notebook.kernel.execute(\"cc_notebook_utils.pygausssum('\" + file_n + \".log')\");\n",
        "               }\n",
        "               else if (event.shiftKey){\n",
        "                   IPython.notebook.kernel.execute(\"cc_notebook_utils.pyvogadro('\" + file_n + \".log')\");\n",
        "               }\n",
        "               else IPython.notebook.kernel.execute(\"cc_notebook_utils.pyvim('\" + file_n + \".log')\");\n",
        "           }\n",
        "           </script>\n",
        "    <style>\n",
        "    table\n",
        "    {\n",
        "        border-collapse:collapse;\n",
        "    }\n",
        "    td\n",
        "    {\n",
        "        padding:15px;\n",
        "    }\n",
        "    </style>\n",
        "    <body>\n",
        "    <table bgcolor=\"white\">\n",
        "    <col/><tr><td>o0_uam1_UB3LYP_631Gd_4_4_cent_carbonyl_ts_freq_restart_2</td><td><a href = \"files/unrestricted_cycloadd_oniom/correction/o0_uam1_UB3LYP_631Gd_4_4_cent_carbonyl_ts_freq_restart_2.com\" target = \"_blank\">com</a></td><td><input type=\"button\" value=\"Smart Log\" id=\"o0_uam1_UB3LYP_631Gd_4_4_cent_carbonyl_ts_freq_restart_2\" onclick=\"view_function(event, this.id)\" /></td><td>Success</td></tr><tr><td>o0_upm6_UB3LYP_631Gd_4_4_cent_carbonyl_ts_freq_restart_2</td><td><a href = \"files/unrestricted_cycloadd_oniom/correction/o0_upm6_UB3LYP_631Gd_4_4_cent_carbonyl_ts_freq_restart_2.com\" target = \"_blank\">com</a></td><td><input type=\"button\" value=\"Smart Log\" id=\"o0_upm6_UB3LYP_631Gd_4_4_cent_carbonyl_ts_freq_restart_2\" onclick=\"view_function(event, this.id)\" /></td><td>Success</td></tr><tr><td>o0_uHF_STO-3G_UB3LYP_631Gd_4_4_cent_carbonyl_ts_freq_restart_2</td><td><a href = \"files/unrestricted_cycloadd_oniom/correction/o0_uHF_STO-3G_UB3LYP_631Gd_4_4_cent_carbonyl_ts_freq_restart_2.com\" target = \"_blank\">com</a></td><td><input type=\"button\" value=\"Smart Log\" id=\"o0_uHF_STO-3G_UB3LYP_631Gd_4_4_cent_carbonyl_ts_freq_restart_2\" onclick=\"view_function(event, this.id)\" /></td><td>Success</td></tr><tr><td>o1_uam1_UB3LYP_631Gd_4_4_cent_carbonyl_ts_freq_restart_2</td><td><a href = \"files/unrestricted_cycloadd_oniom/correction/o1_uam1_UB3LYP_631Gd_4_4_cent_carbonyl_ts_freq_restart_2.com\" target = \"_blank\">com</a></td><td><input type=\"button\" value=\"Smart Log\" id=\"o1_uam1_UB3LYP_631Gd_4_4_cent_carbonyl_ts_freq_restart_2\" onclick=\"view_function(event, this.id)\" /></td><td>Success</td></tr><tr><td>o1_upm6_UB3LYP_631Gd_4_4_cent_carbonyl_ts_freq_restart_2</td><td><a href = \"files/unrestricted_cycloadd_oniom/correction/o1_upm6_UB3LYP_631Gd_4_4_cent_carbonyl_ts_freq_restart_2.com\" target = \"_blank\">com</a></td><td><input type=\"button\" value=\"Smart Log\" id=\"o1_upm6_UB3LYP_631Gd_4_4_cent_carbonyl_ts_freq_restart_2\" onclick=\"view_function(event, this.id)\" /></td><td>Success</td></tr><tr><td>o1_uHF_STO-3G_UB3LYP_631Gd_4_4_cent_carbonyl_ts_freq_restart_2</td><td><a href = \"files/unrestricted_cycloadd_oniom/correction/o1_uHF_STO-3G_UB3LYP_631Gd_4_4_cent_carbonyl_ts_freq_restart_2.com\" target = \"_blank\">com</a></td><td><input type=\"button\" value=\"Smart Log\" id=\"o1_uHF_STO-3G_UB3LYP_631Gd_4_4_cent_carbonyl_ts_freq_restart_2\" onclick=\"view_function(event, this.id)\" /></td><td>Success</td></tr><tr><td>o2_uam1_UB3LYP_631Gd_4_4_cent_carbonyl_ts_freq_restart_2</td><td><a href = \"files/unrestricted_cycloadd_oniom/correction/o2_uam1_UB3LYP_631Gd_4_4_cent_carbonyl_ts_freq_restart_2.com\" target = \"_blank\">com</a></td><td><input type=\"button\" value=\"Smart Log\" id=\"o2_uam1_UB3LYP_631Gd_4_4_cent_carbonyl_ts_freq_restart_2\" onclick=\"view_function(event, this.id)\" /></td><td>Success</td></tr><tr><td>o2_upm6_UB3LYP_631Gd_4_4_cent_carbonyl_ts_freq_restart_2</td><td><a href = \"files/unrestricted_cycloadd_oniom/correction/o2_upm6_UB3LYP_631Gd_4_4_cent_carbonyl_ts_freq_restart_2.com\" target = \"_blank\">com</a></td><td><input type=\"button\" value=\"Smart Log\" id=\"o2_upm6_UB3LYP_631Gd_4_4_cent_carbonyl_ts_freq_restart_2\" onclick=\"view_function(event, this.id)\" /></td><td>Success</td></tr><tr><td>o2_uHF_STO-3G_UB3LYP_631Gd_4_4_cent_carbonyl_ts_freq_restart_2</td><td><a href = \"files/unrestricted_cycloadd_oniom/correction/o2_uHF_STO-3G_UB3LYP_631Gd_4_4_cent_carbonyl_ts_freq_restart_2.com\" target = \"_blank\">com</a></td><td><input type=\"button\" value=\"Smart Log\" id=\"o2_uHF_STO-3G_UB3LYP_631Gd_4_4_cent_carbonyl_ts_freq_restart_2\" onclick=\"view_function(event, this.id)\" /></td><td>Success</td></tr><tr><td>o3_uam1_UB3LYP_631Gd_4_4_cent_carbonyl_ts_freq_restart_2</td><td><a href = \"files/unrestricted_cycloadd_oniom/correction/o3_uam1_UB3LYP_631Gd_4_4_cent_carbonyl_ts_freq_restart_2.com\" target = \"_blank\">com</a></td><td><input type=\"button\" value=\"Smart Log\" id=\"o3_uam1_UB3LYP_631Gd_4_4_cent_carbonyl_ts_freq_restart_2\" onclick=\"view_function(event, this.id)\" /></td><td>Success</td></tr><tr><td>o3_upm6_UB3LYP_631Gd_4_4_cent_carbonyl_ts_freq_restart_2</td><td><a href = \"files/unrestricted_cycloadd_oniom/correction/o3_upm6_UB3LYP_631Gd_4_4_cent_carbonyl_ts_freq_restart_2.com\" target = \"_blank\">com</a></td><td><input type=\"button\" value=\"Smart Log\" id=\"o3_upm6_UB3LYP_631Gd_4_4_cent_carbonyl_ts_freq_restart_2\" onclick=\"view_function(event, this.id)\" /></td><td>Success</td></tr><tr><td>o3_uHF_STO-3G_UB3LYP_631Gd_4_4_cent_carbonyl_ts_freq_restart_2</td><td><a href = \"files/unrestricted_cycloadd_oniom/correction/o3_uHF_STO-3G_UB3LYP_631Gd_4_4_cent_carbonyl_ts_freq_restart_2.com\" target = \"_blank\">com</a></td><td><input type=\"button\" value=\"Smart Log\" id=\"o3_uHF_STO-3G_UB3LYP_631Gd_4_4_cent_carbonyl_ts_freq_restart_2\" onclick=\"view_function(event, this.id)\" /></td><td>Success</td></tr><tr><td>o4_uam1_UB3LYP_631Gd_4_4_cent_carbonyl_ts_freq_restart_2</td><td><a href = \"files/unrestricted_cycloadd_oniom/correction/o4_uam1_UB3LYP_631Gd_4_4_cent_carbonyl_ts_freq_restart_2.com\" target = \"_blank\">com</a></td><td><input type=\"button\" value=\"Smart Log\" id=\"o4_uam1_UB3LYP_631Gd_4_4_cent_carbonyl_ts_freq_restart_2\" onclick=\"view_function(event, this.id)\" /></td><td>Success</td></tr><tr><td>o4_upm6_UB3LYP_631Gd_4_4_cent_carbonyl_ts_freq_restart_2</td><td><a href = \"files/unrestricted_cycloadd_oniom/correction/o4_upm6_UB3LYP_631Gd_4_4_cent_carbonyl_ts_freq_restart_2.com\" target = \"_blank\">com</a></td><td><input type=\"button\" value=\"Smart Log\" id=\"o4_upm6_UB3LYP_631Gd_4_4_cent_carbonyl_ts_freq_restart_2\" onclick=\"view_function(event, this.id)\" /></td><td>Success</td></tr><tr><td>o4_uHF_STO-3G_UB3LYP_631Gd_4_4_cent_carbonyl_ts_freq_restart_2</td><td><a href = \"files/unrestricted_cycloadd_oniom/correction/o4_uHF_STO-3G_UB3LYP_631Gd_4_4_cent_carbonyl_ts_freq_restart_2.com\" target = \"_blank\">com</a></td><td><input type=\"button\" value=\"Smart Log\" id=\"o4_uHF_STO-3G_UB3LYP_631Gd_4_4_cent_carbonyl_ts_freq_restart_2\" onclick=\"view_function(event, this.id)\" /></td><td>Success</td></tr>\n",
        "    </table>\n",
        "    </body>"
       ],
       "output_type": "pyout",
       "prompt_number": 53,
       "text": [
        "<IPython.core.display.HTML at 0x9243e10>"
       ]
      }
     ],
     "prompt_number": 53
    },
    {
     "cell_type": "code",
     "collapsed": false,
     "input": [
      "def T_E_f(t,a):\n",
      "    try: \n",
      "        return(t.calc.energy_zero - a.calc.energy_zero)* 23.060542301388647 \n",
      "    except AttributeError: \n",
      "        return float('nan')\n",
      "    \n",
      "T_Es = []\n",
      "delt_Es = []\n",
      "names = []\n",
      "\n",
      "for i in range(len(o_44_carb_ts)):\n",
      "    T_E = T_E_f(o_44_carb_ts[i], o_44_carb[i])\n",
      "    delt_E = T_E - 31.281099594648797\n",
      "    name = o_44_carb_ts[i].calc.label\n",
      "    T_Es.append(T_E)\n",
      "    delt_Es.append(delt_E)\n",
      "    names.append(name)\n",
      "\n",
      "o_T_data = pandas.Series(T_Es ,names)\n",
      "o_T_dft_delt_data = pandas.Series(delt_Es, names)"
     ],
     "language": "python",
     "metadata": {},
     "outputs": [],
     "prompt_number": 54
    },
    {
     "cell_type": "code",
     "collapsed": false,
     "input": [
      "#energy in Kcal/mol\n",
      "d = {'E_Transition': o_T_data, 'oniom-b3lyp_delta': o_T_dft_delt_data}\n",
      "ts_frame = pandas.DataFrame(d)\n",
      "#ts_frame.save('o_ts_E_data.pickle')\n",
      "ts_frame"
     ],
     "language": "python",
     "metadata": {},
     "outputs": [
      {
       "html": [
        "<div style=\"max-height:1000px;max-width:1500px;overflow:auto;\">\n",
        "<table border=\"1\" class=\"dataframe\">\n",
        "  <thead>\n",
        "    <tr style=\"text-align: right;\">\n",
        "      <th></th>\n",
        "      <th>E_Transition</th>\n",
        "      <th>oniom-b3lyp_delta</th>\n",
        "    </tr>\n",
        "  </thead>\n",
        "  <tbody>\n",
        "    <tr>\n",
        "      <td><strong>o0_uam1_UB3LYP_631Gd_4_4_cent_carbonyl_ts_freq_restart_2</strong></td>\n",
        "      <td> 33.534138</td>\n",
        "      <td>  2.253038</td>\n",
        "    </tr>\n",
        "    <tr>\n",
        "      <td><strong>o0_upm6_UB3LYP_631Gd_4_4_cent_carbonyl_ts_freq_restart_2</strong></td>\n",
        "      <td> 46.486743</td>\n",
        "      <td> 15.205644</td>\n",
        "    </tr>\n",
        "    <tr>\n",
        "      <td><strong>o0_uHF_STO-3G_UB3LYP_631Gd_4_4_cent_carbonyl_ts_freq_restart_2</strong></td>\n",
        "      <td> 17.800647</td>\n",
        "      <td>-13.480453</td>\n",
        "    </tr>\n",
        "    <tr>\n",
        "      <td><strong>o1_uam1_UB3LYP_631Gd_4_4_cent_carbonyl_ts_freq_restart_2</strong></td>\n",
        "      <td> 26.409473</td>\n",
        "      <td> -4.871627</td>\n",
        "    </tr>\n",
        "    <tr>\n",
        "      <td><strong>o1_upm6_UB3LYP_631Gd_4_4_cent_carbonyl_ts_freq_restart_2</strong></td>\n",
        "      <td> 27.691881</td>\n",
        "      <td> -3.589218</td>\n",
        "    </tr>\n",
        "    <tr>\n",
        "      <td><strong>o1_uHF_STO-3G_UB3LYP_631Gd_4_4_cent_carbonyl_ts_freq_restart_2</strong></td>\n",
        "      <td> 26.804136</td>\n",
        "      <td> -4.476963</td>\n",
        "    </tr>\n",
        "    <tr>\n",
        "      <td><strong>o2_uam1_UB3LYP_631Gd_4_4_cent_carbonyl_ts_freq_restart_2</strong></td>\n",
        "      <td> 31.167193</td>\n",
        "      <td> -0.113906</td>\n",
        "    </tr>\n",
        "    <tr>\n",
        "      <td><strong>o2_upm6_UB3LYP_631Gd_4_4_cent_carbonyl_ts_freq_restart_2</strong></td>\n",
        "      <td> 32.431721</td>\n",
        "      <td>  1.150621</td>\n",
        "    </tr>\n",
        "    <tr>\n",
        "      <td><strong>o2_uHF_STO-3G_UB3LYP_631Gd_4_4_cent_carbonyl_ts_freq_restart_2</strong></td>\n",
        "      <td> 27.763554</td>\n",
        "      <td> -3.517546</td>\n",
        "    </tr>\n",
        "    <tr>\n",
        "      <td><strong>o3_uam1_UB3LYP_631Gd_4_4_cent_carbonyl_ts_freq_restart_2</strong></td>\n",
        "      <td> 46.820746</td>\n",
        "      <td> 15.539646</td>\n",
        "    </tr>\n",
        "    <tr>\n",
        "      <td><strong>o3_upm6_UB3LYP_631Gd_4_4_cent_carbonyl_ts_freq_restart_2</strong></td>\n",
        "      <td> 48.214674</td>\n",
        "      <td> 16.933575</td>\n",
        "    </tr>\n",
        "    <tr>\n",
        "      <td><strong>o3_uHF_STO-3G_UB3LYP_631Gd_4_4_cent_carbonyl_ts_freq_restart_2</strong></td>\n",
        "      <td> 44.679051</td>\n",
        "      <td> 13.397951</td>\n",
        "    </tr>\n",
        "    <tr>\n",
        "      <td><strong>o4_uam1_UB3LYP_631Gd_4_4_cent_carbonyl_ts_freq_restart_2</strong></td>\n",
        "      <td> 23.224982</td>\n",
        "      <td> -8.056118</td>\n",
        "    </tr>\n",
        "    <tr>\n",
        "      <td><strong>o4_upm6_UB3LYP_631Gd_4_4_cent_carbonyl_ts_freq_restart_2</strong></td>\n",
        "      <td> 23.405241</td>\n",
        "      <td> -7.875858</td>\n",
        "    </tr>\n",
        "    <tr>\n",
        "      <td><strong>o4_uHF_STO-3G_UB3LYP_631Gd_4_4_cent_carbonyl_ts_freq_restart_2</strong></td>\n",
        "      <td> 22.745319</td>\n",
        "      <td> -8.535781</td>\n",
        "    </tr>\n",
        "  </tbody>\n",
        "</table>\n",
        "</div>"
       ],
       "output_type": "pyout",
       "prompt_number": 55,
       "text": [
        "                                                                E_Transition  oniom-b3lyp_delta\n",
        "o0_uam1_UB3LYP_631Gd_4_4_cent_carbonyl_ts_freq_restart_2           33.534138           2.253038\n",
        "o0_upm6_UB3LYP_631Gd_4_4_cent_carbonyl_ts_freq_restart_2           46.486743          15.205644\n",
        "o0_uHF_STO-3G_UB3LYP_631Gd_4_4_cent_carbonyl_ts_freq_restart_2     17.800647         -13.480453\n",
        "o1_uam1_UB3LYP_631Gd_4_4_cent_carbonyl_ts_freq_restart_2           26.409473          -4.871627\n",
        "o1_upm6_UB3LYP_631Gd_4_4_cent_carbonyl_ts_freq_restart_2           27.691881          -3.589218\n",
        "o1_uHF_STO-3G_UB3LYP_631Gd_4_4_cent_carbonyl_ts_freq_restart_2     26.804136          -4.476963\n",
        "o2_uam1_UB3LYP_631Gd_4_4_cent_carbonyl_ts_freq_restart_2           31.167193          -0.113906\n",
        "o2_upm6_UB3LYP_631Gd_4_4_cent_carbonyl_ts_freq_restart_2           32.431721           1.150621\n",
        "o2_uHF_STO-3G_UB3LYP_631Gd_4_4_cent_carbonyl_ts_freq_restart_2     27.763554          -3.517546\n",
        "o3_uam1_UB3LYP_631Gd_4_4_cent_carbonyl_ts_freq_restart_2           46.820746          15.539646\n",
        "o3_upm6_UB3LYP_631Gd_4_4_cent_carbonyl_ts_freq_restart_2           48.214674          16.933575\n",
        "o3_uHF_STO-3G_UB3LYP_631Gd_4_4_cent_carbonyl_ts_freq_restart_2     44.679051          13.397951\n",
        "o4_uam1_UB3LYP_631Gd_4_4_cent_carbonyl_ts_freq_restart_2           23.224982          -8.056118\n",
        "o4_upm6_UB3LYP_631Gd_4_4_cent_carbonyl_ts_freq_restart_2           23.405241          -7.875858\n",
        "o4_uHF_STO-3G_UB3LYP_631Gd_4_4_cent_carbonyl_ts_freq_restart_2     22.745319          -8.535781"
       ]
      }
     ],
     "prompt_number": 55
    },
    {
     "cell_type": "markdown",
     "metadata": {},
     "source": [
      "At oniom geometries (starting optimisation at the B3LYP/6-31G(d) ts_geometry):"
     ]
    },
    {
     "cell_type": "code",
     "collapsed": false,
     "input": [
      "o_44_opt_carb_ts = []\n",
      "i=0\n",
      "for siz in range(5):\n",
      "    for meth in l_methods:\n",
      "        graph_ylid_ts = read(carb_44_ts_xyz)\n",
      "        graph_ylid_ts_name = 'o{s}_{m}_o{s}_{m}_4_4_cent_carbonyl_ts'.format(m=meth.replace('/','_'), s=siz)\n",
      "        graph_ylid_ts.set_calculator(Gaussian(label=graph_ylid_ts_name, method='oniom(UB3LYP/6-31G(d):{l})'.format(l=meth), basis='oniom',opt='calcfc, ts noeigen', component_calcs=zip(ul_ts_rls, uh_ts_mds, ul_ts_mds)[i]))\n",
      "        graph_ylid_ts_H = ylide_atoms + graph_atoms[siz]\n",
      "        graph_ylid_ts.calc.oniom_coord_params['layers'] = [[no -1 for no in graph_ylid_ts_H]]\n",
      "        graph_ylid_ts.calc.oniom_coord_params['layer_mults'] = [1,1]\n",
      "        graph_ylid_ts.calc.set_job(nodes=8, memory=8*1600, time=6, queue='pqmb')\n",
      "        #graph_ylid_ts.calc.start()\n",
      "        o_44_opt_carb_ts.append(graph_ylid_ts)\n",
      "        i+=1"
     ],
     "language": "python",
     "metadata": {},
     "outputs": [],
     "prompt_number": 56
    },
    {
     "cell_type": "code",
     "collapsed": false,
     "input": [
      "check_calcs(o_44_opt_carb_ts)"
     ],
     "language": "python",
     "metadata": {},
     "outputs": [
      {
       "output_type": "pyout",
       "prompt_number": 57,
       "text": [
        "[Atoms(symbols='C50H22O', positions=..., cell=[1.0, 1.0, 1.0], pbc=[False, False, False], calculator=Gaussian(...))]"
       ]
      }
     ],
     "prompt_number": 57
    },
    {
     "cell_type": "code",
     "collapsed": false,
     "input": [
      "o_44_opt_carb_ts[2].calc.restart(no_old_chk=True,opt='calcall, ts noeigen')#,start=True)"
     ],
     "language": "python",
     "metadata": {},
     "outputs": [
      {
       "output_type": "pyout",
       "prompt_number": 58,
       "text": [
        "<ase.calculators.gaussian.Gaussian instance at 0x9431c68>"
       ]
      }
     ],
     "prompt_number": 58
    },
    {
     "cell_type": "code",
     "collapsed": false,
     "input": [
      "check_calcs(o_44_opt_carb_ts)\n",
      "mols_to_html(o_44_opt_carb_ts)"
     ],
     "language": "python",
     "metadata": {},
     "outputs": [
      {
       "html": [
        "\n",
        "           <script type=\"text/javascript\">\n",
        "           function view_function (event, file_n) {\n",
        "               if (event.ctrlKey && event.shiftKey){\n",
        "                   IPython.notebook.kernel.execute(\"cc_notebook_utils.pygview('\" + file_n + \".log')\");\n",
        "               }\n",
        "               else if (event.ctrlKey){\n",
        "                   IPython.notebook.kernel.execute(\"cc_notebook_utils.pygausssum('\" + file_n + \".log')\");\n",
        "               }\n",
        "               else if (event.shiftKey){\n",
        "                   IPython.notebook.kernel.execute(\"cc_notebook_utils.pyvogadro('\" + file_n + \".log')\");\n",
        "               }\n",
        "               else IPython.notebook.kernel.execute(\"cc_notebook_utils.pyvim('\" + file_n + \".log')\");\n",
        "           }\n",
        "           </script>\n",
        "    <style>\n",
        "    table\n",
        "    {\n",
        "        border-collapse:collapse;\n",
        "    }\n",
        "    td\n",
        "    {\n",
        "        padding:15px;\n",
        "    }\n",
        "    </style>\n",
        "    <body>\n",
        "    <table bgcolor=\"white\">\n",
        "    <col/><tr><td>o0_uam1_o0_uam1_4_4_cent_carbonyl_ts</td><td><a href = \"files/unrestricted_cycloadd_oniom/correction/o0_uam1_o0_uam1_4_4_cent_carbonyl_ts.com\" target = \"_blank\">com</a></td><td><input type=\"button\" value=\"Smart Log\" id=\"o0_uam1_o0_uam1_4_4_cent_carbonyl_ts\" onclick=\"view_function(event, this.id)\" /></td><td>Success</td></tr><tr><td>o0_upm6_o0_upm6_4_4_cent_carbonyl_ts</td><td><a href = \"files/unrestricted_cycloadd_oniom/correction/o0_upm6_o0_upm6_4_4_cent_carbonyl_ts.com\" target = \"_blank\">com</a></td><td><input type=\"button\" value=\"Smart Log\" id=\"o0_upm6_o0_upm6_4_4_cent_carbonyl_ts\" onclick=\"view_function(event, this.id)\" /></td><td>Success</td></tr><tr><td>o0_uHF_STO-3G_o0_uHF_STO-3G_4_4_cent_carbonyl_ts_restart_1</td><td><a href = \"files/unrestricted_cycloadd_oniom/correction/o0_uHF_STO-3G_o0_uHF_STO-3G_4_4_cent_carbonyl_ts_restart_1.com\" target = \"_blank\">com</a></td><td><input type=\"button\" value=\"Smart Log\" id=\"o0_uHF_STO-3G_o0_uHF_STO-3G_4_4_cent_carbonyl_ts_restart_1\" onclick=\"view_function(event, this.id)\" /></td><td>Success</td></tr><tr><td>o1_uam1_o1_uam1_4_4_cent_carbonyl_ts</td><td><a href = \"files/unrestricted_cycloadd_oniom/correction/o1_uam1_o1_uam1_4_4_cent_carbonyl_ts.com\" target = \"_blank\">com</a></td><td><input type=\"button\" value=\"Smart Log\" id=\"o1_uam1_o1_uam1_4_4_cent_carbonyl_ts\" onclick=\"view_function(event, this.id)\" /></td><td>Success</td></tr><tr><td>o1_upm6_o1_upm6_4_4_cent_carbonyl_ts</td><td><a href = \"files/unrestricted_cycloadd_oniom/correction/o1_upm6_o1_upm6_4_4_cent_carbonyl_ts.com\" target = \"_blank\">com</a></td><td><input type=\"button\" value=\"Smart Log\" id=\"o1_upm6_o1_upm6_4_4_cent_carbonyl_ts\" onclick=\"view_function(event, this.id)\" /></td><td>Success</td></tr><tr><td>o1_uHF_STO-3G_o1_uHF_STO-3G_4_4_cent_carbonyl_ts</td><td><a href = \"files/unrestricted_cycloadd_oniom/correction/o1_uHF_STO-3G_o1_uHF_STO-3G_4_4_cent_carbonyl_ts.com\" target = \"_blank\">com</a></td><td><input type=\"button\" value=\"Smart Log\" id=\"o1_uHF_STO-3G_o1_uHF_STO-3G_4_4_cent_carbonyl_ts\" onclick=\"view_function(event, this.id)\" /></td><td>Success</td></tr><tr><td>o2_uam1_o2_uam1_4_4_cent_carbonyl_ts</td><td><a href = \"files/unrestricted_cycloadd_oniom/correction/o2_uam1_o2_uam1_4_4_cent_carbonyl_ts.com\" target = \"_blank\">com</a></td><td><input type=\"button\" value=\"Smart Log\" id=\"o2_uam1_o2_uam1_4_4_cent_carbonyl_ts\" onclick=\"view_function(event, this.id)\" /></td><td>Success</td></tr><tr><td>o2_upm6_o2_upm6_4_4_cent_carbonyl_ts</td><td><a href = \"files/unrestricted_cycloadd_oniom/correction/o2_upm6_o2_upm6_4_4_cent_carbonyl_ts.com\" target = \"_blank\">com</a></td><td><input type=\"button\" value=\"Smart Log\" id=\"o2_upm6_o2_upm6_4_4_cent_carbonyl_ts\" onclick=\"view_function(event, this.id)\" /></td><td>Success</td></tr><tr><td>o2_uHF_STO-3G_o2_uHF_STO-3G_4_4_cent_carbonyl_ts</td><td><a href = \"files/unrestricted_cycloadd_oniom/correction/o2_uHF_STO-3G_o2_uHF_STO-3G_4_4_cent_carbonyl_ts.com\" target = \"_blank\">com</a></td><td><input type=\"button\" value=\"Smart Log\" id=\"o2_uHF_STO-3G_o2_uHF_STO-3G_4_4_cent_carbonyl_ts\" onclick=\"view_function(event, this.id)\" /></td><td>Success</td></tr><tr><td>o3_uam1_o3_uam1_4_4_cent_carbonyl_ts</td><td><a href = \"files/unrestricted_cycloadd_oniom/correction/o3_uam1_o3_uam1_4_4_cent_carbonyl_ts.com\" target = \"_blank\">com</a></td><td><input type=\"button\" value=\"Smart Log\" id=\"o3_uam1_o3_uam1_4_4_cent_carbonyl_ts\" onclick=\"view_function(event, this.id)\" /></td><td>Success</td></tr><tr><td>o3_upm6_o3_upm6_4_4_cent_carbonyl_ts</td><td><a href = \"files/unrestricted_cycloadd_oniom/correction/o3_upm6_o3_upm6_4_4_cent_carbonyl_ts.com\" target = \"_blank\">com</a></td><td><input type=\"button\" value=\"Smart Log\" id=\"o3_upm6_o3_upm6_4_4_cent_carbonyl_ts\" onclick=\"view_function(event, this.id)\" /></td><td>Success</td></tr><tr><td>o3_uHF_STO-3G_o3_uHF_STO-3G_4_4_cent_carbonyl_ts</td><td><a href = \"files/unrestricted_cycloadd_oniom/correction/o3_uHF_STO-3G_o3_uHF_STO-3G_4_4_cent_carbonyl_ts.com\" target = \"_blank\">com</a></td><td><input type=\"button\" value=\"Smart Log\" id=\"o3_uHF_STO-3G_o3_uHF_STO-3G_4_4_cent_carbonyl_ts\" onclick=\"view_function(event, this.id)\" /></td><td>Success</td></tr><tr><td>o4_uam1_o4_uam1_4_4_cent_carbonyl_ts</td><td><a href = \"files/unrestricted_cycloadd_oniom/correction/o4_uam1_o4_uam1_4_4_cent_carbonyl_ts.com\" target = \"_blank\">com</a></td><td><input type=\"button\" value=\"Smart Log\" id=\"o4_uam1_o4_uam1_4_4_cent_carbonyl_ts\" onclick=\"view_function(event, this.id)\" /></td><td>Success</td></tr><tr><td>o4_upm6_o4_upm6_4_4_cent_carbonyl_ts</td><td><a href = \"files/unrestricted_cycloadd_oniom/correction/o4_upm6_o4_upm6_4_4_cent_carbonyl_ts.com\" target = \"_blank\">com</a></td><td><input type=\"button\" value=\"Smart Log\" id=\"o4_upm6_o4_upm6_4_4_cent_carbonyl_ts\" onclick=\"view_function(event, this.id)\" /></td><td>Success</td></tr><tr><td>o4_uHF_STO-3G_o4_uHF_STO-3G_4_4_cent_carbonyl_ts</td><td><a href = \"files/unrestricted_cycloadd_oniom/correction/o4_uHF_STO-3G_o4_uHF_STO-3G_4_4_cent_carbonyl_ts.com\" target = \"_blank\">com</a></td><td><input type=\"button\" value=\"Smart Log\" id=\"o4_uHF_STO-3G_o4_uHF_STO-3G_4_4_cent_carbonyl_ts\" onclick=\"view_function(event, this.id)\" /></td><td>Success</td></tr>\n",
        "    </table>\n",
        "    </body>"
       ],
       "output_type": "pyout",
       "prompt_number": 59,
       "text": [
        "<IPython.core.display.HTML at 0x945f790>"
       ]
      }
     ],
     "prompt_number": 59
    },
    {
     "cell_type": "code",
     "collapsed": false,
     "input": [
      "def T_E_f(t,a):\n",
      "    try: \n",
      "        return(t.calc.energy_zero - a.calc.energy_zero)* 23.060542301388647 \n",
      "    except AttributeError: \n",
      "        return float('nan')\n",
      "    \n",
      "T_Es = []\n",
      "delt_Es = []\n",
      "names = []\n",
      "\n",
      "for i in range(len(o_44_opt_carb_ts)):\n",
      "    T_E = T_E_f(o_44_opt_carb_ts[i], o_44_opt_carb[i])\n",
      "    delt_E = T_E - 31.281099594648797\n",
      "    name = o_44_opt_carb_ts[i].calc.label\n",
      "    T_Es.append(T_E)\n",
      "    delt_Es.append(delt_E)\n",
      "    names.append(name)\n",
      "\n",
      "o_T_data = pandas.Series(T_Es ,names)\n",
      "o_T_dft_delt_data = pandas.Series(delt_Es, names)"
     ],
     "language": "python",
     "metadata": {},
     "outputs": [],
     "prompt_number": 60
    },
    {
     "cell_type": "code",
     "collapsed": false,
     "input": [
      "#energy in Kcal/mol\n",
      "d = {'E_Transition': o_T_data, 'oniom-b3lyp_delta': o_T_dft_delt_data}\n",
      "ts_frame = pandas.DataFrame(d)\n",
      "#ts_frame.save('o_ts_E_data.pickle')\n",
      "ts_frame"
     ],
     "language": "python",
     "metadata": {},
     "outputs": [
      {
       "html": [
        "<div style=\"max-height:1000px;max-width:1500px;overflow:auto;\">\n",
        "<table border=\"1\" class=\"dataframe\">\n",
        "  <thead>\n",
        "    <tr style=\"text-align: right;\">\n",
        "      <th></th>\n",
        "      <th>E_Transition</th>\n",
        "      <th>oniom-b3lyp_delta</th>\n",
        "    </tr>\n",
        "  </thead>\n",
        "  <tbody>\n",
        "    <tr>\n",
        "      <td><strong>o0_uam1_o0_uam1_4_4_cent_carbonyl_ts</strong></td>\n",
        "      <td> 25.879482</td>\n",
        "      <td> -5.401618</td>\n",
        "    </tr>\n",
        "    <tr>\n",
        "      <td><strong>o0_upm6_o0_upm6_4_4_cent_carbonyl_ts</strong></td>\n",
        "      <td> 43.827379</td>\n",
        "      <td> 12.546280</td>\n",
        "    </tr>\n",
        "    <tr>\n",
        "      <td><strong>o0_uHF_STO-3G_o0_uHF_STO-3G_4_4_cent_carbonyl_ts_restart_1</strong></td>\n",
        "      <td>  8.219612</td>\n",
        "      <td>-23.061488</td>\n",
        "    </tr>\n",
        "    <tr>\n",
        "      <td><strong>o1_uam1_o1_uam1_4_4_cent_carbonyl_ts</strong></td>\n",
        "      <td> 27.409929</td>\n",
        "      <td> -3.871171</td>\n",
        "    </tr>\n",
        "    <tr>\n",
        "      <td><strong>o1_upm6_o1_upm6_4_4_cent_carbonyl_ts</strong></td>\n",
        "      <td> 28.514000</td>\n",
        "      <td> -2.767100</td>\n",
        "    </tr>\n",
        "    <tr>\n",
        "      <td><strong>o1_uHF_STO-3G_o1_uHF_STO-3G_4_4_cent_carbonyl_ts</strong></td>\n",
        "      <td> 28.549469</td>\n",
        "      <td> -2.731630</td>\n",
        "    </tr>\n",
        "    <tr>\n",
        "      <td><strong>o2_uam1_o2_uam1_4_4_cent_carbonyl_ts</strong></td>\n",
        "      <td> 30.620898</td>\n",
        "      <td> -0.660202</td>\n",
        "    </tr>\n",
        "    <tr>\n",
        "      <td><strong>o2_upm6_o2_upm6_4_4_cent_carbonyl_ts</strong></td>\n",
        "      <td> 31.822688</td>\n",
        "      <td>  0.541589</td>\n",
        "    </tr>\n",
        "    <tr>\n",
        "      <td><strong>o2_uHF_STO-3G_o2_uHF_STO-3G_4_4_cent_carbonyl_ts</strong></td>\n",
        "      <td> 27.831519</td>\n",
        "      <td> -3.449580</td>\n",
        "    </tr>\n",
        "    <tr>\n",
        "      <td><strong>o3_uam1_o3_uam1_4_4_cent_carbonyl_ts</strong></td>\n",
        "      <td> 42.298329</td>\n",
        "      <td> 11.017229</td>\n",
        "    </tr>\n",
        "    <tr>\n",
        "      <td><strong>o3_upm6_o3_upm6_4_4_cent_carbonyl_ts</strong></td>\n",
        "      <td> 42.415205</td>\n",
        "      <td> 11.134105</td>\n",
        "    </tr>\n",
        "    <tr>\n",
        "      <td><strong>o3_uHF_STO-3G_o3_uHF_STO-3G_4_4_cent_carbonyl_ts</strong></td>\n",
        "      <td> 40.861329</td>\n",
        "      <td>  9.580230</td>\n",
        "    </tr>\n",
        "    <tr>\n",
        "      <td><strong>o4_uam1_o4_uam1_4_4_cent_carbonyl_ts</strong></td>\n",
        "      <td> 18.940575</td>\n",
        "      <td>-12.340525</td>\n",
        "    </tr>\n",
        "    <tr>\n",
        "      <td><strong>o4_upm6_o4_upm6_4_4_cent_carbonyl_ts</strong></td>\n",
        "      <td> 19.377197</td>\n",
        "      <td>-11.903903</td>\n",
        "    </tr>\n",
        "    <tr>\n",
        "      <td><strong>o4_uHF_STO-3G_o4_uHF_STO-3G_4_4_cent_carbonyl_ts</strong></td>\n",
        "      <td> 17.988419</td>\n",
        "      <td>-13.292680</td>\n",
        "    </tr>\n",
        "  </tbody>\n",
        "</table>\n",
        "</div>"
       ],
       "output_type": "pyout",
       "prompt_number": 61,
       "text": [
        "                                                            E_Transition  oniom-b3lyp_delta\n",
        "o0_uam1_o0_uam1_4_4_cent_carbonyl_ts                           25.879482          -5.401618\n",
        "o0_upm6_o0_upm6_4_4_cent_carbonyl_ts                           43.827379          12.546280\n",
        "o0_uHF_STO-3G_o0_uHF_STO-3G_4_4_cent_carbonyl_ts_restart_1      8.219612         -23.061488\n",
        "o1_uam1_o1_uam1_4_4_cent_carbonyl_ts                           27.409929          -3.871171\n",
        "o1_upm6_o1_upm6_4_4_cent_carbonyl_ts                           28.514000          -2.767100\n",
        "o1_uHF_STO-3G_o1_uHF_STO-3G_4_4_cent_carbonyl_ts               28.549469          -2.731630\n",
        "o2_uam1_o2_uam1_4_4_cent_carbonyl_ts                           30.620898          -0.660202\n",
        "o2_upm6_o2_upm6_4_4_cent_carbonyl_ts                           31.822688           0.541589\n",
        "o2_uHF_STO-3G_o2_uHF_STO-3G_4_4_cent_carbonyl_ts               27.831519          -3.449580\n",
        "o3_uam1_o3_uam1_4_4_cent_carbonyl_ts                           42.298329          11.017229\n",
        "o3_upm6_o3_upm6_4_4_cent_carbonyl_ts                           42.415205          11.134105\n",
        "o3_uHF_STO-3G_o3_uHF_STO-3G_4_4_cent_carbonyl_ts               40.861329           9.580230\n",
        "o4_uam1_o4_uam1_4_4_cent_carbonyl_ts                           18.940575         -12.340525\n",
        "o4_upm6_o4_upm6_4_4_cent_carbonyl_ts                           19.377197         -11.903903\n",
        "o4_uHF_STO-3G_o4_uHF_STO-3G_4_4_cent_carbonyl_ts               17.988419         -13.292680"
       ]
      }
     ],
     "prompt_number": 61
    },
    {
     "cell_type": "code",
     "collapsed": false,
     "input": [
      "for c in o_44_opt_carb_ts:\n",
      "    c.calc.restart(add_label='freq', no_old_chk=False, opt='', freq='freq', stable='')#,start=True)"
     ],
     "language": "python",
     "metadata": {},
     "outputs": [],
     "prompt_number": 64
    },
    {
     "cell_type": "code",
     "collapsed": false,
     "input": [
      "check_calcs(o_44_opt_carb_ts)\n",
      "mols_to_html(o_44_opt_carb_ts)"
     ],
     "language": "python",
     "metadata": {},
     "outputs": [
      {
       "html": [
        "\n",
        "           <script type=\"text/javascript\">\n",
        "           function view_function (event, file_n) {\n",
        "               if (event.ctrlKey && event.shiftKey){\n",
        "                   IPython.notebook.kernel.execute(\"cc_notebook_utils.pygview('\" + file_n + \".log')\");\n",
        "               }\n",
        "               else if (event.ctrlKey){\n",
        "                   IPython.notebook.kernel.execute(\"cc_notebook_utils.pygausssum('\" + file_n + \".log')\");\n",
        "               }\n",
        "               else if (event.shiftKey){\n",
        "                   IPython.notebook.kernel.execute(\"cc_notebook_utils.pyvogadro('\" + file_n + \".log')\");\n",
        "               }\n",
        "               else IPython.notebook.kernel.execute(\"cc_notebook_utils.pyvim('\" + file_n + \".log')\");\n",
        "           }\n",
        "           </script>\n",
        "    <style>\n",
        "    table\n",
        "    {\n",
        "        border-collapse:collapse;\n",
        "    }\n",
        "    td\n",
        "    {\n",
        "        padding:15px;\n",
        "    }\n",
        "    </style>\n",
        "    <body>\n",
        "    <table bgcolor=\"white\">\n",
        "    <col/><tr><td>o0_uam1_o0_uam1_4_4_cent_carbonyl_ts_freq_restart_1</td><td><a href = \"files/unrestricted_cycloadd_oniom/correction/o0_uam1_o0_uam1_4_4_cent_carbonyl_ts_freq_restart_1.com\" target = \"_blank\">com</a></td><td><input type=\"button\" value=\"Smart Log\" id=\"o0_uam1_o0_uam1_4_4_cent_carbonyl_ts_freq_restart_1\" onclick=\"view_function(event, this.id)\" /></td><td>Success</td></tr><tr><td>o0_upm6_o0_upm6_4_4_cent_carbonyl_ts_freq_restart_1</td><td><a href = \"files/unrestricted_cycloadd_oniom/correction/o0_upm6_o0_upm6_4_4_cent_carbonyl_ts_freq_restart_1.com\" target = \"_blank\">com</a></td><td><input type=\"button\" value=\"Smart Log\" id=\"o0_upm6_o0_upm6_4_4_cent_carbonyl_ts_freq_restart_1\" onclick=\"view_function(event, this.id)\" /></td><td>Success</td></tr><tr><td>o0_uHF_STO-3G_o0_uHF_STO-3G_4_4_cent_carbonyl_ts_freq_restart_2</td><td><a href = \"files/unrestricted_cycloadd_oniom/correction/o0_uHF_STO-3G_o0_uHF_STO-3G_4_4_cent_carbonyl_ts_freq_restart_2.com\" target = \"_blank\">com</a></td><td><input type=\"button\" value=\"Smart Log\" id=\"o0_uHF_STO-3G_o0_uHF_STO-3G_4_4_cent_carbonyl_ts_freq_restart_2\" onclick=\"view_function(event, this.id)\" /></td><td>Success</td></tr><tr><td>o1_uam1_o1_uam1_4_4_cent_carbonyl_ts_freq_restart_1</td><td><a href = \"files/unrestricted_cycloadd_oniom/correction/o1_uam1_o1_uam1_4_4_cent_carbonyl_ts_freq_restart_1.com\" target = \"_blank\">com</a></td><td><input type=\"button\" value=\"Smart Log\" id=\"o1_uam1_o1_uam1_4_4_cent_carbonyl_ts_freq_restart_1\" onclick=\"view_function(event, this.id)\" /></td><td>Success</td></tr><tr><td>o1_upm6_o1_upm6_4_4_cent_carbonyl_ts_freq_restart_1</td><td><a href = \"files/unrestricted_cycloadd_oniom/correction/o1_upm6_o1_upm6_4_4_cent_carbonyl_ts_freq_restart_1.com\" target = \"_blank\">com</a></td><td><input type=\"button\" value=\"Smart Log\" id=\"o1_upm6_o1_upm6_4_4_cent_carbonyl_ts_freq_restart_1\" onclick=\"view_function(event, this.id)\" /></td><td>Success</td></tr><tr><td>o1_uHF_STO-3G_o1_uHF_STO-3G_4_4_cent_carbonyl_ts_freq_restart_1</td><td><a href = \"files/unrestricted_cycloadd_oniom/correction/o1_uHF_STO-3G_o1_uHF_STO-3G_4_4_cent_carbonyl_ts_freq_restart_1.com\" target = \"_blank\">com</a></td><td><input type=\"button\" value=\"Smart Log\" id=\"o1_uHF_STO-3G_o1_uHF_STO-3G_4_4_cent_carbonyl_ts_freq_restart_1\" onclick=\"view_function(event, this.id)\" /></td><td>Success</td></tr><tr><td>o2_uam1_o2_uam1_4_4_cent_carbonyl_ts_freq_restart_1</td><td><a href = \"files/unrestricted_cycloadd_oniom/correction/o2_uam1_o2_uam1_4_4_cent_carbonyl_ts_freq_restart_1.com\" target = \"_blank\">com</a></td><td><input type=\"button\" value=\"Smart Log\" id=\"o2_uam1_o2_uam1_4_4_cent_carbonyl_ts_freq_restart_1\" onclick=\"view_function(event, this.id)\" /></td><td>Success</td></tr><tr><td>o2_upm6_o2_upm6_4_4_cent_carbonyl_ts_freq_restart_1</td><td><a href = \"files/unrestricted_cycloadd_oniom/correction/o2_upm6_o2_upm6_4_4_cent_carbonyl_ts_freq_restart_1.com\" target = \"_blank\">com</a></td><td><input type=\"button\" value=\"Smart Log\" id=\"o2_upm6_o2_upm6_4_4_cent_carbonyl_ts_freq_restart_1\" onclick=\"view_function(event, this.id)\" /></td><td>Success</td></tr><tr><td>o2_uHF_STO-3G_o2_uHF_STO-3G_4_4_cent_carbonyl_ts_freq_restart_1</td><td><a href = \"files/unrestricted_cycloadd_oniom/correction/o2_uHF_STO-3G_o2_uHF_STO-3G_4_4_cent_carbonyl_ts_freq_restart_1.com\" target = \"_blank\">com</a></td><td><input type=\"button\" value=\"Smart Log\" id=\"o2_uHF_STO-3G_o2_uHF_STO-3G_4_4_cent_carbonyl_ts_freq_restart_1\" onclick=\"view_function(event, this.id)\" /></td><td>Success</td></tr><tr><td>o3_uam1_o3_uam1_4_4_cent_carbonyl_ts_freq_restart_1</td><td><a href = \"files/unrestricted_cycloadd_oniom/correction/o3_uam1_o3_uam1_4_4_cent_carbonyl_ts_freq_restart_1.com\" target = \"_blank\">com</a></td><td><input type=\"button\" value=\"Smart Log\" id=\"o3_uam1_o3_uam1_4_4_cent_carbonyl_ts_freq_restart_1\" onclick=\"view_function(event, this.id)\" /></td><td>Success</td></tr><tr><td>o3_upm6_o3_upm6_4_4_cent_carbonyl_ts_freq_restart_1</td><td><a href = \"files/unrestricted_cycloadd_oniom/correction/o3_upm6_o3_upm6_4_4_cent_carbonyl_ts_freq_restart_1.com\" target = \"_blank\">com</a></td><td><input type=\"button\" value=\"Smart Log\" id=\"o3_upm6_o3_upm6_4_4_cent_carbonyl_ts_freq_restart_1\" onclick=\"view_function(event, this.id)\" /></td><td>Success</td></tr><tr><td>o3_uHF_STO-3G_o3_uHF_STO-3G_4_4_cent_carbonyl_ts_freq_restart_1</td><td><a href = \"files/unrestricted_cycloadd_oniom/correction/o3_uHF_STO-3G_o3_uHF_STO-3G_4_4_cent_carbonyl_ts_freq_restart_1.com\" target = \"_blank\">com</a></td><td><input type=\"button\" value=\"Smart Log\" id=\"o3_uHF_STO-3G_o3_uHF_STO-3G_4_4_cent_carbonyl_ts_freq_restart_1\" onclick=\"view_function(event, this.id)\" /></td><td>Incomplete</td></tr><tr><td>o4_uam1_o4_uam1_4_4_cent_carbonyl_ts_freq_restart_1</td><td><a href = \"files/unrestricted_cycloadd_oniom/correction/o4_uam1_o4_uam1_4_4_cent_carbonyl_ts_freq_restart_1.com\" target = \"_blank\">com</a></td><td><input type=\"button\" value=\"Smart Log\" id=\"o4_uam1_o4_uam1_4_4_cent_carbonyl_ts_freq_restart_1\" onclick=\"view_function(event, this.id)\" /></td><td>Incomplete</td></tr><tr><td>o4_upm6_o4_upm6_4_4_cent_carbonyl_ts_freq_restart_1</td><td><a href = \"files/unrestricted_cycloadd_oniom/correction/o4_upm6_o4_upm6_4_4_cent_carbonyl_ts_freq_restart_1.com\" target = \"_blank\">com</a></td><td><input type=\"button\" value=\"Smart Log\" id=\"o4_upm6_o4_upm6_4_4_cent_carbonyl_ts_freq_restart_1\" onclick=\"view_function(event, this.id)\" /></td><td>Incomplete</td></tr><tr><td>o4_uHF_STO-3G_o4_uHF_STO-3G_4_4_cent_carbonyl_ts_freq_restart_1</td><td><a href = \"files/unrestricted_cycloadd_oniom/correction/o4_uHF_STO-3G_o4_uHF_STO-3G_4_4_cent_carbonyl_ts_freq_restart_1.com\" target = \"_blank\">com</a></td><td><input type=\"button\" value=\"Smart Log\" id=\"o4_uHF_STO-3G_o4_uHF_STO-3G_4_4_cent_carbonyl_ts_freq_restart_1\" onclick=\"view_function(event, this.id)\" /></td><td>Incomplete</td></tr>\n",
        "    </table>\n",
        "    </body>"
       ],
       "output_type": "pyout",
       "prompt_number": 65,
       "text": [
        "<IPython.core.display.HTML at 0x9468e50>"
       ]
      }
     ],
     "prompt_number": 65
    },
    {
     "cell_type": "markdown",
     "metadata": {},
     "source": [
      "<font size=5 color=red> Down to here </font>"
     ]
    },
    {
     "cell_type": "code",
     "collapsed": false,
     "input": [],
     "language": "python",
     "metadata": {},
     "outputs": []
    },
    {
     "cell_type": "code",
     "collapsed": false,
     "input": [
      "#view_ipython_jmol(o_44_opt_carb_ts, vib=1)"
     ],
     "language": "python",
     "metadata": {},
     "outputs": [
      {
       "html": [
        "\n",
        "    <iframe\n",
        "      width=\"1450\"\n",
        "      height=\"870\"\n",
        "      src=/files/jmol/ase-J2MLPR.html\n",
        "      frameborder=\"0\"\n",
        "      allowfullscreen\n",
        "    ></iframe>"
       ],
       "output_type": "pyout",
       "prompt_number": 63,
       "text": [
        "<IPython.core.display.HTML at 0x9468c10>"
       ]
      }
     ],
     "prompt_number": 63
    },
    {
     "cell_type": "heading",
     "level": 2,
     "metadata": {},
     "source": [
      "Notes"
     ]
    }
   ],
   "metadata": {}
  }
 ]
}