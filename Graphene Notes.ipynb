{
 "metadata": {
  "name": ""
 },
 "nbformat": 3,
 "nbformat_minor": 0,
 "worksheets": [
  {
   "cells": [
    {
     "cell_type": "markdown",
     "metadata": {},
     "source": [
      "Graphene notes"
     ]
    },
    {
     "cell_type": "markdown",
     "metadata": {},
     "source": [
      "Graphene fragments electronic strucure is highly sensitive to the geometry of the edges.\n",
      "HF (and AM1, PM6, B3LYP) produces unstable results for most systems\n",
      "Net spin is determined by the Ovchinnikov rule: decompose the molecular system into two subsystems if no. carbons equal singlet, otherwise a multiplet"
     ]
    },
    {
     "cell_type": "markdown",
     "metadata": {},
     "source": [
      "Bug involved with Oniom=InputOnly"
     ]
    },
    {
     "cell_type": "markdown",
     "metadata": {},
     "source": [
      "RHF -> UHF Instability\n",
      "UHF -> Internal instability\n",
      "\n",
      "UHF stable energy < UHF energy @ internal instability == RHF energy @ UHF instability < UHF energy @ mult=3"
     ]
    },
    {
     "cell_type": "code",
     "collapsed": false,
     "input": [],
     "language": "python",
     "metadata": {},
     "outputs": []
    }
   ],
   "metadata": {}
  }
 ]
}