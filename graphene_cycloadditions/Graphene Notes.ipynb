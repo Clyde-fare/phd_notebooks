{
 "metadata": {
  "name": "",
  "signature": "sha256:527d8b3adc255fc47ef26ae2ba13df154ed5f67035e5b68af3c74e079132fbc8"
 },
 "nbformat": 3,
 "nbformat_minor": 0,
 "worksheets": [
  {
   "cells": [
    {
     "cell_type": "markdown",
     "metadata": {},
     "source": [
      "Notebook abstracts and notes from the [cycloadditions project](Graphene_cycloadditions.ipynb)"
     ]
    },
    {
     "cell_type": "heading",
     "level": 3,
     "metadata": {},
     "source": [
      "Notebook abstracts"
     ]
    },
    {
     "cell_type": "markdown",
     "metadata": {},
     "source": [
      "-------------- \n",
      "*    **Graphene_oniom_cycloadditions_large.ipynb** pre oniom failure analysis attempt to look at larger clusters\n",
      "*    **Graphene_oniom_cycloadditions_v2.ipynb** pre oniom failure analysus data for r azomethine oniom calcs\n",
      "*   **Graphene_oniom_cycloadditions.ipynb** pre oniom failure analysis calculations for r carbonyl calcs\n",
      "*   **../triangular_graphene_calculations** follow on from Graphene_oniom_cycloadditions.ipynb investigating scf failures\n",
      "*   **Master cycloadditions.ipynb** Restricted oniom failure summary (prior to recognition all oniom calcs are unstable\n",
      "*   **Graphene_oniom_cycloadd_explanations.ipynb** discovery of instability problems\n",
      "*   **Unrestricted graphene_cycloadditions.ipynb** u exploratory phase using stabilised calculations\n",
      "*   **Unrestricted_Graphene_oniom_cycloadditions.ipynb** post oniom failure analysis data for oniom carbonyl substitution reactions\n",
      "*   **Unrestricted_Graphene_oniom_cycloadditions_v2.ipynb** final data for oniom azomethine substiution reactions\n",
      "*   **Unrestricted_graphene_oniom_cycloadditions_final.ipynb** final summary?\n",
      "*   **Testing the Hypothesis** trying out the matching fragment shape with pm6 on a larger cluster.\n",
      "*   **Fragment similarity search** investigating the reason why matching fragment shape works by applying huckel theory to many possible fragments\n",
      "-------------- "
     ]
    },
    {
     "cell_type": "heading",
     "level": 3,
     "metadata": {},
     "source": [
      "Introduction"
     ]
    },
    {
     "cell_type": "markdown",
     "metadata": {},
     "source": [
      "The ONIOM method combines extrapolation from a smaller to system to a larger system and extrapolation from a less accurate method to a more accurate method. It is commonly used to study biomolecules where an active site can be defined on chemical grounds and the remaining molecule is treated as scaffolding that is not directly involved in bond making or breaking processes.\n",
      "\n",
      "Various heuristics^ are used when partioning molecules:\n",
      "\n",
      "Preferably do not cut across bonds at all, if cutting across bonds cut only across single bonds.\n",
      "\n",
      "We investigate whether it is possible to violate these heuristics and use ONIOM to study systems that are commonly thought of as delocalised, in particular we wish to apply ONIOM to graphitic nanofragments also known as polyaromatic hydrocarbons.\n",
      "\n",
      "PAHs have a long history of study within computational chemistry and were an example of an early success for the application of Huckel theory^. They continue to be of both practical and theoretical significance and constitute models for graphene sheets. If ONIOM could be applied to these systems it would allow a greater degree of accuracy per unit computational cost than could be achieved without hybrid methods.\n",
      "\n",
      "In addition to interest in providing additional computational methods for the study of graphene like materials there is also the more fundamental question of the nature and applicability of ONIOM itself. As multiscale moldelling of biological systems have grown in complexity we have seen the development of on the on the fly quantum mechanical calculations that intelligently combine clasiical forcefield based simulation with ab initio calculations as and when needed. The goal of intelligent simulations that are able to on the fly determine which regions are chemically significant and to apply relevant methods such that the required degree of accuracy is achieved at reasonable computational cost would enable a new generation of simulation tools drastically more powerfull than their predecessors. An investigation of the principles lying behind ONIOMs successful application and a refinement of the heuristics used such that they could be turned into an algorithm, would constitute a stepping stone towards these more intelligent simulations."
     ]
    },
    {
     "cell_type": "markdown",
     "metadata": {},
     "source": [
      "ONIOM is a method for combining multiple electronic structure methods to compute a generalised energy. It is often used to combine ab initio quantum computations with molecular mechanics though it can also to combine any combination of ab initio, semi empirical and fully empirical methods.\n",
      "\n",
      "The approach taken involves decomposing the potential surface for the system of interest into different regions that are treated at the different levels of theory. THe answers are then combined to give the ONIOM energy. For energy differences involving local changes of the molecule oniom can be used to compute a energy differences that are close in value to those achieved using a high level method on the entire system but at a substantially reduction in computational cost. There are hoever several guidelines that need to be taken into account in order to ensure meaningfull results. These heuristics have been laid out [] amongst and include generation of a model region of sufficient size by cutting single bonds. This is easy to rationalise given the requirement for locality for the method to work. In this investigation buoyed by results that appear to successfully apply onion to buckminster fullerenes and carbon nanotubes despite violating this rule, we examine application of oniom to graphitic nanofragments that by necessity require generating model regions by cutting across carbon carbon double bonds and on first sight appear to be unlikely candiates for oniom given the aromaticity and delocalised electronic structure associated with these systems.\n",
      "\n",
      "The structure of this paper is laid out as follows: first ONIOM is formally introduced, as are graphene nanofragments and an overview of their electronic structure presented, then we present our hypothesis regarding application of oniom to these systems followed by presenting the results of several calculations investigating this hypothesis, finally we summarise and discuss the results. "
     ]
    },
    {
     "cell_type": "heading",
     "level": 2,
     "metadata": {},
     "source": [
      "ONIOM"
     ]
    },
    {
     "cell_type": "markdown",
     "metadata": {},
     "source": [
      "$$E_{Oniom} = E^{low}_{real} + E^{high}_{model} - E^{low}_{model}$$ "
     ]
    },
    {
     "cell_type": "markdown",
     "metadata": {},
     "source": [
      "Therefore\n",
      "\n",
      "$$\\Delta E_{real}^{oniom} \\cong \\Delta E_{real}^{high}$$ \n",
      "\n",
      "if \n",
      "\n",
      "$$ \\Delta{}E^{high}_{model} - \\Delta{}E^{low}_{model} \\cong \\Delta{}E^{high}_{real} - \\Delta{}E^{low}_{real}$$\n"
     ]
    },
    {
     "cell_type": "markdown",
     "metadata": {},
     "source": [
      "This will hold if both high and low levels of theory predict the chemistry is completely localised to the model region. I.e.\n",
      "\n",
      "$$ \\Delta{}E^{high}_{real} \\cong \\Delta{}E^{high}_{model}$$ \n",
      "\n",
      "and\n",
      "\n",
      "$$ \\Delta{}E^{low}_{real} \\cong \\Delta{}E^{low}_{model}$$ \n",
      "\n",
      "or if both high and low levels of theory predict the same change in energy associated with a change in the density of the environment."
     ]
    },
    {
     "cell_type": "markdown",
     "metadata": {},
     "source": [
      "$$\\Delta{}E^{high}_{real} = \\Delta{}E^{low}_{real} + \\Delta{}E^{high}_{real} - \\Delta{}E^{low}_{real}$$ "
     ]
    },
    {
     "cell_type": "markdown",
     "metadata": {},
     "source": [
      "Oniom works if differences in the values computed by the low level of theory are approximately equal to difference in the values computed by the high level of theory for the environment and for the coupling between the environment and the model region:\n",
      "\n",
      "We can expand $\\Delta E_{system}$ as:\n",
      "$$\\Delta E_{system} = \\Delta E_{model} + \\Delta E_{environment} + \\Delta E_{coupling}$$ \n",
      "\n",
      "where represents the coupling energy between the model and environment fragments:\n",
      "\n",
      "$$\\Delta E_{coupling} = \\Delta E_{system} - (\\Delta E_{model} + \\Delta E_{environment})$$ \n",
      "\n",
      "Considered in this way we see that \n",
      "\n",
      "$$\\Delta E_{system}^{oniom} = \\Delta E_{model}^{high} + \\Delta E_{environment}^{low} + \\Delta E_{coupling}^{low}$$. \n",
      "\n",
      "Consequently if \n",
      "\n",
      "$$\\Delta E_{environment}^{low} + \\Delta E_{coupling}^{low} \\cong \\Delta E_{environment}^{high} + \\Delta E_{coupling}^{high}$$\n",
      "\n",
      "then \n",
      "\n",
      "$$\\Delta E_{system}^{oniom} \\cong \\Delta E_{system}^{high}$$ \n",
      "\n",
      "Given that changes involving bond breaking and making are confined to the model system <font color=\"red\">($\\Delta E_{coupling}$)?</font>, this equates to the requirement that the low level method match the high level method when it comes to calculating the energy difference due to small deviations from the equilibirum bond lengths and bond angles and that the electronic effects of bond breaking and making are confined the the model region. \n",
      "\n",
      "We aim to test whether this methodology will work when applied to cycloadditions of graphitic nanoclusters. Graphitic nanoclusters are a challenging system as the delocalised character of graphene is well established [ref], consequently this latter criteria may not be satisfied. However, we have some precendent for oniom usage in related systems given earlier work done on nanotubes [ref] and buckminster fullerenes [ref] although there is some indication that the degree of delocalisation present in graphitic sheets may be greater than these instances [ref]. We will first reproduce the plain DFT literature calculations [ref] for graphene nano fragment cycloadditions, then we will use these and additional B3LYP/6-31Gd calculations done to compute the transition state barrier height associated with these reactions as a benchmark for the applicability of the oniom method."
     ]
    },
    {
     "cell_type": "markdown",
     "metadata": {},
     "source": [
      "$$\\Delta{}E_{Oniom} = \\Delta{}E^{low}_{real} + \\Delta{}E^{high}_{model} - \\Delta{}E^{low}_{model}$$ "
     ]
    },
    {
     "cell_type": "heading",
     "level": 2,
     "metadata": {},
     "source": [
      "Methods"
     ]
    },
    {
     "cell_type": "markdown",
     "metadata": {},
     "source": [
      "Benchmark calculations were performed using B3LYP/6-31G(d) level of theory. ONIOM calculations used B3LYP/6-31G(d)for the high level of theory with various different model sizes and low level method combinations which are listed below. \n",
      "\n",
      "In order to gauge the suitability of the ONIOM methodology applied to these systems we compared the reaction energies, and the transition state barrier energies calculated using the pure B3LYP/6-31G(d) energies to those calculated using ONIOM. The reaction energy is defined as $E_{product} - (E_{nano-graphite} + E_{ylide})$ and the barrier energy is defined as The reaction $E_{product-ts}- E_{product-gs}$ where $E_{product-ts}$ and $E_{product-gs}$ are the enegies of the reaction product at the lowest energy geometry and at the transition state geometry respectively. The graphene fragment used in the comparisons was the 4*4 nanographene fragment used in the Houk paper. This was chosen because it was the smallest fragment considered in the aforementioned paper for which the reaction at the centre is symmetric (the 3*3 fragment is asymmetric which complicates the analysis and the search for the lowest energy geometry)\n",
      "\n",
      "The methods considered for the low level of theory are the uff forcefield [ref], the am1 and pm6 semi-empirical methods [ref] and HF/STO-3G.\n",
      "\n",
      "The model sizes considered labelled o0, o1, o2, o3 and o4 correspond to the azomethine/carbonyl substituent along with 2, 10, 16, 18 and 42 of the 50 carbon atoms that make up the 4*4 nanographene fragment. "
     ]
    },
    {
     "cell_type": "heading",
     "level": 2,
     "metadata": {},
     "source": [
      "Results"
     ]
    },
    {
     "cell_type": "markdown",
     "metadata": {},
     "source": [
      "Graphene fragments alone: variation of curvature and electron density with fragment size (22,33,44,55,66) and topology (diamond and square)\n",
      "    \n",
      "Low level method search\n",
      "\n",
      "ONIOM for cycloadditions."
     ]
    },
    {
     "cell_type": "heading",
     "level": 3,
     "metadata": {},
     "source": [
      "Notes"
     ]
    },
    {
     "cell_type": "markdown",
     "metadata": {},
     "source": [
      "Graphene fragments electronic structure is highly sensitive to the geometry of the edges.\n",
      "\n",
      "HF (and AM1, PM6, B3LYP) produces unstable results for most systems. For RHF we see a UHF Instability and for UHF we see an Internal instability (which I think is the UHF getting stuck at the RHF solution)\n",
      "\n",
      "The overall energy ordering is UHF stable energy < UHF energy @ internal instability == RHF energy @ UHF instability < UHF energy @ mult=3\n",
      "\n",
      "Net spin of a fragment is determined by the Ovchinnikov rule: decompose the molecular system into two subsystems if no. carbons equal singlet, otherwise a multiplet."
     ]
    },
    {
     "cell_type": "markdown",
     "metadata": {},
     "source": [
      "Bug involved with Oniom=InputOnly"
     ]
    },
    {
     "cell_type": "heading",
     "level": 3,
     "metadata": {},
     "source": [
      "Literature"
     ]
    },
    {
     "cell_type": "markdown",
     "metadata": {},
     "source": [
      "*   [Houk's original paper](files/Literature/Link to C0JM02422H.pdf)\n",
      "\n",
      "*   [Houk's follow up paper](files/Literature/Link to ja410225u.pdf)\n",
      "Further calculations are performed on two different nanographene fragments again identifying the edges as the most reactive sites and contrasting several possible dienes as reactants. Huckel theory in combination with a localisation energy (defined as the difference between the energy of the full molecule and the energy of the full molecule without the two carbons involved in the cycloaddition) is argued to provide a measure of how susceptible the carbon bond is to cycloaddition reactions.\n",
      "\n",
      "*   [Earlier paper on the open shell diradical character of nanographenes](files/Literature/Link to ja048919w.pdf)\n",
      "\n",
      "*   [PAH electronic structure](files/Literature/Link to 01_A theoretical study of closed polyacene structures.pdf) in terms of A & B sublattices\n",
      "\n",
      "*   [Electronic delocalisation as a driving force](files/Literature/Link to ja00297a013.pdf)\n",
      "\n",
      "*   [Clar's rule for graphene ribbons](files/Literature/Link to ja909234y.pdf)\n",
      "\n",
      "*   [Aromaticity of graphene](files/Literature/Link to 2Fs12274-011-0192-z.pdf) Not as delocalised as we thought.\n",
      "\n",
      "*   [Clar theory for extended polyacenes](http://pubs.acs.org/doi/pdfplus/10.1021/jp502235p)\n",
      "\n",
      "*   [structural and electronic properties of graphene nanoflakes](http://journals.aps.org/prb/abstract/10.1103/PhysRevB.81.085430)\n",
      "\n",
      "*   [Conjugated Polymers and Aromaticity](http://scibasic.org/pdf/%EC%B5%9C%EC%B2%A0%ED%98%B8.pdf)"
     ]
    },
    {
     "cell_type": "markdown",
     "metadata": {},
     "source": [
      "Hypothesis: we can apply oniom to graphitic systems if we have a high model region around the carbons of interest that reflect the local electronic structure of the carbons in the full system. (Achievable by matching fragment topology and the relative location of the relevant carbon atoms - location should be relative to the edge of the fragment) and a low model method capable of accurately accounting for small distortions in the geometry of the graphitic fragment.\n",
      "\n",
      "If the the model region is large enough such that electrons involved in the reaction are effectively localised to within that region, then a low level forcefield/other method that can capture the effect of the bending if the graphitic system but not the electronic influences should suffice. UFF doesn't do brilliantly as it doesn't seem to detect the changes involved (see the low level method search notebook page)."
     ]
    },
    {
     "cell_type": "heading",
     "level": 3,
     "metadata": {},
     "source": [
      "Graph theory"
     ]
    },
    {
     "cell_type": "markdown",
     "metadata": {},
     "source": [
      "Graphene is a [bipartite graph](http://en.wikipedia.org/wiki/Bipartite_graph) with [chromatic number](http://en.wikipedia.org/wiki/Graph_coloring#Definition_and_terminology) 2. \n",
      "\n",
      "The two kinds of verticies are often labelled A and B in the graphene literature."
     ]
    }
   ],
   "metadata": {}
  }
 ]
}