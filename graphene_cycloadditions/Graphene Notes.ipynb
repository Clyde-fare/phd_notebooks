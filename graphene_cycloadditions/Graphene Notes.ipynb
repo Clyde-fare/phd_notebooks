{
 "metadata": {
  "name": "",
  "signature": "sha256:8ac6ec8f4cf34e54f3dbabd86adc37a184f5d5ac27027830296d1a79b41f6bf1"
 },
 "nbformat": 3,
 "nbformat_minor": 0,
 "worksheets": [
  {
   "cells": [
    {
     "cell_type": "markdown",
     "metadata": {},
     "source": [
      "Graphene notes from the [cycloadditions project](Graphene_cycloadditions.ipynb)"
     ]
    },
    {
     "cell_type": "markdown",
     "metadata": {},
     "source": [
      "Graphene fragments electronic strucure is highly sensitive to the geometry of the edges.\n",
      "HF (and AM1, PM6, B3LYP) produces unstable results for most systems\n",
      "Net spin is determined by the Ovchinnikov rule: decompose the molecular system into two subsystems if no. carbons equal singlet, otherwise a multiplet"
     ]
    },
    {
     "cell_type": "markdown",
     "metadata": {},
     "source": [
      "Bug involved with Oniom=InputOnly"
     ]
    },
    {
     "cell_type": "markdown",
     "metadata": {},
     "source": [
      "RHF -> UHF Instability\n",
      "UHF -> Internal instability\n",
      "\n",
      "UHF stable energy < UHF energy @ internal instability == RHF energy @ UHF instability < UHF energy @ mult=3"
     ]
    },
    {
     "cell_type": "code",
     "collapsed": false,
     "input": [],
     "language": "python",
     "metadata": {},
     "outputs": []
    }
   ],
   "metadata": {}
  }
 ]
}