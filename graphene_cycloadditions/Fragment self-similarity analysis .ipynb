{
 "metadata": {
  "name": "",
  "signature": "sha256:f1d8c46c15c07f73c2fd2a96c0de701b81720fa58a5d2af4c13d1a329c06984c"
 },
 "nbformat": 3,
 "nbformat_minor": 0,
 "worksheets": [
  {
   "cells": [
    {
     "cell_type": "code",
     "collapsed": false,
     "input": [
      "from cc_utils import load_cube\n",
      "from gausspy import Gaussian\n",
      "from ase.io import read\n",
      "from cc_notebook.cc_notebook_utils import *\n",
      "from ase_extensions.ase_utils import *\n",
      "from graph_frags.fragments import GraphFrags\n",
      "from graph_frags.huckel import get_atoms_stability, huckel_e"
     ],
     "language": "python",
     "metadata": {},
     "outputs": [
      {
       "output_type": "stream",
       "stream": "stderr",
       "text": [
        "WARNING:root:libint extension not found, switching to normal ERI computation\n"
       ]
      },
      {
       "javascript": [
        "\n",
        "require(['nbextensions/cc_notebook'])\n",
        "require(['nbextensions/jsmol/JSmol.min.nojq'])\n"
       ],
       "metadata": {},
       "output_type": "display_data",
       "text": [
        "<IPython.core.display.Javascript at 0x7f219afa3150>"
       ]
      }
     ],
     "prompt_number": 1
    },
    {
     "cell_type": "code",
     "collapsed": false,
     "input": [
      "%pylab inline"
     ],
     "language": "python",
     "metadata": {},
     "outputs": [
      {
       "output_type": "stream",
       "stream": "stdout",
       "text": [
        "Populating the interactive namespace from numpy and matplotlib\n"
       ]
      },
      {
       "output_type": "stream",
       "stream": "stderr",
       "text": [
        "WARNING: pylab import has clobbered these variables: ['random', 'copy', 'display']\n",
        "`%matplotlib` prevents importing * from pylab and numpy\n"
       ]
      }
     ],
     "prompt_number": 2
    },
    {
     "cell_type": "markdown",
     "metadata": {},
     "source": [
      "Continuing on from [Testing the hypothesis](Testing the hypothesis.ipynb) we will look for evidence that specific graphene fragments matched by topology/relative position are in some sense self-similar wrt to the reactivity of specific atomic sites. Considered using the cube files and looking at electron density local to the carbons of interest as well as ring currents. But switched to using huckel theory (see huckel.py) to look at the energy associated with the pi bonding in the cluster. Also considered trying to use [CaGe](http://caagt.ugent.be/CaGe/) to generate multiple fragments but in the end did so manually (see fragments.py)."
     ]
    },
    {
     "cell_type": "code",
     "collapsed": false,
     "input": [
      "cd similarity_search"
     ],
     "language": "python",
     "metadata": {},
     "outputs": [
      {
       "output_type": "stream",
       "stream": "stdout",
       "text": [
        "/home/clyde/Dropbox/Project Stuff/Notebooks/graphene_cycloadditions/similarity_search\n"
       ]
      }
     ],
     "prompt_number": 3
    },
    {
     "cell_type": "code",
     "collapsed": false,
     "input": [
      "init_graph_66 = read('6_6_flat_graphene.xyz')\n",
      "init_graph_66.set_calculator(Gaussian(label='B3LYP_631Gd_6_6_graphene', method='B3LYP', basis='6-31G*', opt='opt'))\n",
      "init_graph_66.calc.set_job(nodes=12, memory=12*1600, time=6, queue='pqmb', version='g09')\n",
      "#graph_66.calc.start()\n",
      "check_calcs([init_graph_66])\n",
      "mols_to_html([init_graph_66])"
     ],
     "language": "python",
     "metadata": {},
     "outputs": [
      {
       "html": [
        "\n",
        "    <style>\n",
        "    table\n",
        "    {\n",
        "        border-collapse:collapse;\n",
        "    }\n",
        "    td\n",
        "    {\n",
        "        padding:15px;\n",
        "    }\n",
        "    </style>\n",
        "    <body>\n",
        "    <table bgcolor=\"white\">\n",
        "    <col/><tr><td>B3LYP_631Gd_6_6_graphene</td><td><input type=\"button\" value=\"Smart Log\" id=\"B3LYP_631Gd_6_6_graphene\" onclick=\"IPython.cc_notebook.view_function(event, this.id)\" /></td><td>Success</td></tr>\n",
        "    </table>\n",
        "    </body>"
       ],
       "metadata": {},
       "output_type": "pyout",
       "prompt_number": 4,
       "text": [
        "<IPython.core.display.HTML at 0x7f2196c44e90>"
       ]
      }
     ],
     "prompt_number": 4
    },
    {
     "cell_type": "markdown",
     "metadata": {},
     "source": [
      "I know from previous calculations that the flat fragment is actually a transition state not a minimum so we'll add on some of the mode with negative eigenvalue to push it off the saddle point and reoptimise. (Using AM1/STO3g because otherwise the frequency calculation is pretty expensive)"
     ]
    },
    {
     "cell_type": "code",
     "collapsed": false,
     "input": [
      "freq_graph_66 = read(init_graph_66.calc.log)\n",
      "freq_graph_66.set_calculator(Gaussian(label= 'AM1_STO3G_6_6_graphene', method='AM1', basis='STO-3G', freq='freq'))\n",
      "freq_graph_66.calc.set_job(nodes=12, memory=12*1600, time=24, queue='pqmb', version='g09')\n",
      "#freq_graph_66.calc.start()\n",
      "check_calcs([freq_graph_66])\n",
      "mols_to_html([freq_graph_66])"
     ],
     "language": "python",
     "metadata": {},
     "outputs": [
      {
       "html": [
        "\n",
        "    <style>\n",
        "    table\n",
        "    {\n",
        "        border-collapse:collapse;\n",
        "    }\n",
        "    td\n",
        "    {\n",
        "        padding:15px;\n",
        "    }\n",
        "    </style>\n",
        "    <body>\n",
        "    <table bgcolor=\"white\">\n",
        "    <col/><tr><td>AM1_STO3G_6_6_graphene</td><td><input type=\"button\" value=\"Smart Log\" id=\"AM1_STO3G_6_6_graphene\" onclick=\"IPython.cc_notebook.view_function(event, this.id)\" /></td><td>Success</td></tr>\n",
        "    </table>\n",
        "    </body>"
       ],
       "metadata": {},
       "output_type": "pyout",
       "prompt_number": 5,
       "text": [
        "<IPython.core.display.HTML at 0x7f2196ca0bd0>"
       ]
      }
     ],
     "prompt_number": 5
    },
    {
     "cell_type": "markdown",
     "metadata": {},
     "source": [
      "AM1 thinks the flat geometry is a minimum but the third lowest mode looks like the one we are interested in."
     ]
    },
    {
     "cell_type": "code",
     "collapsed": false,
     "input": [
      "opt_graph_66 = read(init_graph_66.calc.log)\n",
      "#Gaussian rotates and displaces the coordinate axes and the normal modes are expressed in terms of these new coordinates\n",
      "#so we need to read in the positions in these coordinates rather than just use the original position coordinates\n",
      "opt_graph_66.positions = array(freq_graph_66.calc.max_data['atomcoords']) + 3*array(freq_graph_66.calc.max_data['vibdisps'][2])\n",
      "opt_graph_66.write('bent_66_fragment.xyz')\n",
      "opt_graph_66.set_calculator(Gaussian(label='B3LYP_631Gd_6_6_graphene_opt', method='B3LYP', basis='6-31G*', opt='opt'))\n",
      "opt_graph_66.calc.set_job(nodes=12, memory=12*1600, time=6, queue='pqmb', version='g09')\n",
      "#opt_graph_66.calc.start()\n",
      "check_calcs([opt_graph_66])\n",
      "mols_to_html([opt_graph_66])"
     ],
     "language": "python",
     "metadata": {},
     "outputs": [
      {
       "html": [
        "\n",
        "    <style>\n",
        "    table\n",
        "    {\n",
        "        border-collapse:collapse;\n",
        "    }\n",
        "    td\n",
        "    {\n",
        "        padding:15px;\n",
        "    }\n",
        "    </style>\n",
        "    <body>\n",
        "    <table bgcolor=\"white\">\n",
        "    <col/><tr><td>B3LYP_631Gd_6_6_graphene_opt</td><td><input type=\"button\" value=\"Smart Log\" id=\"B3LYP_631Gd_6_6_graphene_opt\" onclick=\"IPython.cc_notebook.view_function(event, this.id)\" /></td><td>Success</td></tr>\n",
        "    </table>\n",
        "    </body>"
       ],
       "metadata": {},
       "output_type": "pyout",
       "prompt_number": 6,
       "text": [
        "<IPython.core.display.HTML at 0x7f219ac1f1d0>"
       ]
      }
     ],
     "prompt_number": 6
    },
    {
     "cell_type": "markdown",
     "metadata": {},
     "source": [
      "Ah actually the 66 fragment is also planar. So we will pick this geometry as our base and use it to cut out some variants:"
     ]
    },
    {
     "cell_type": "code",
     "collapsed": false,
     "input": [
      "from IPython.display import Image\n",
      "base_66 = read(opt_graph_66.calc.log)\n",
      "\n",
      "#base_66.write('base_66_fragment.xyz')"
     ],
     "language": "python",
     "metadata": {},
     "outputs": [],
     "prompt_number": 7
    },
    {
     "cell_type": "code",
     "collapsed": false,
     "input": [
      "base_22 = read('2_2_flat_graphene.xyz')\n",
      "base_22.rotate('x',pi/2)\n",
      "base_22.rotate('z',pi/2)\n",
      "\n",
      "base_44 = read('4_4_flat_graphene.xyz')\n",
      "base_44.rotate('x',pi/2)\n",
      "base_44.rotate('z',pi/2)\n",
      "\n",
      "base_33 = read('3_3_flat_graphene.xyz')\n",
      "base_33.rotate('x',pi/2)\n",
      "base_33.rotate('z',pi/2)\n",
      "\n",
      "base_33_test = read('3_3_test2_flat_graphene.xyz')\n",
      "base_33_test.rotate('x',pi/2)\n",
      "base_33_test.rotate('z',pi/2)\n",
      "\n",
      "base_66 = read('6_6_flat_graphene.xyz')\n",
      "\n",
      "base_frag1 = read('flake_graphene1.xyz')\n",
      "base_frag1.rotate('x',pi/2)\n",
      "base_frag1.rotate('z',pi/2)\n",
      "\n",
      "base_frag2 = read('flake_graphene2.xyz')\n",
      "base_frag2.rotate('x',pi/2)\n",
      "base_frag2.rotate('z',pi/2)"
     ],
     "language": "python",
     "metadata": {},
     "outputs": [],
     "prompt_number": 8
    },
    {
     "cell_type": "code",
     "collapsed": false,
     "input": [
      "m_66=to_molmod(base_66)\n",
      "m_66.set_default_graph()\n",
      "\n",
      "m_44 = to_molmod(base_44)\n",
      "m_44.set_default_graph()\n",
      "\n",
      "m_33 = to_molmod(base_33)\n",
      "m_33.set_default_graph()\n",
      "\n",
      "m_33_test = to_molmod(base_33_test)\n",
      "m_33_test.set_default_graph()\n",
      "\n",
      "m_22 = to_molmod(base_22)\n",
      "m_22.set_default_graph()\n",
      "\n",
      "m_flake1 = to_molmod(base_frag1)\n",
      "m_flake1.set_default_graph()\n",
      "\n",
      "m_flake2 = to_molmod(base_frag2)\n",
      "m_flake2.set_default_graph()"
     ],
     "language": "python",
     "metadata": {},
     "outputs": [],
     "prompt_number": 9
    },
    {
     "cell_type": "code",
     "collapsed": false,
     "input": [
      "from PyQuante import SCF, Molecule\n",
      "\n",
      "def frag_to_pyquante(frag, a_master):\n",
      "    ase_frag = frag_to_ase(frag,a_master)\n",
      "    return Molecule('Graphitic_Sub_Fragment', zip(*[ase_frag.get_atomic_numbers(),ase_frag.get_positions()]),units='angstrom')\n",
      "\n",
      "def get_mindo_atoms_stability(frag, set_atoms, a_master):\n",
      "    \"\"\"Computes the stability of set_atoms within frag, using MINDO3\"\"\"\n",
      "    cut_frag = [set(r)-set_atoms for r in frag]\n",
      "    ase_frag = frag_to_pyquante(frag, a_master)\n",
      "    ase_cut_frag = frag_to_pyquante(cut_frag, a_master)\n",
      "    \n",
      "    mindo_frag = SCF(ase_frag,method=\"MINDO3\")\n",
      "    mindo_cut_frag = SCF(ase_cut_frag,method=\"MINDO3\")\n",
      "\n",
      "    mindo_frag.iterate()\n",
      "    mindo_cut_frag.iterate()\n",
      "    \n",
      "    return mindo_cut_frag.Etot - mindo_frag.Etot"
     ],
     "language": "python",
     "metadata": {},
     "outputs": [],
     "prompt_number": 10
    },
    {
     "cell_type": "code",
     "collapsed": false,
     "input": [
      "def frag_to_ase(frag, a_master):\n",
      "    \"\"\"Converts a list of ring fragments to an ase object\"\"\"\n",
      "    m_master = to_molmod(a_master)\n",
      "    frag_a_is = {a for r in frag for a in r}\n",
      "    frag_link_is = {n for i in frag_a_is for n in m_master.graph.neighbors[i] if n not in frag_a_is}\n",
      "\n",
      "    ase_link_atoms = a_master[list(frag_link_is)]\n",
      "    ase_core_atoms = a_master[list(frag_a_is)]\n",
      "\n",
      "    ase_link_atoms.set_chemical_symbols(['H' for i in range(len(ase_link_atoms))])\n",
      "    ase_frag = ase_core_atoms + ase_link_atoms\n",
      "    return ase_frag"
     ],
     "language": "python",
     "metadata": {},
     "outputs": [],
     "prompt_number": 11
    },
    {
     "cell_type": "code",
     "collapsed": false,
     "input": [
      "def get_neighbor_pairs(frag): \n",
      "    return {frozenset({i,n}) for i in frag.graph.neighbors for n in frag.graph.neighbors[i] if frag.numbers[i]==6 and frag.numbers[n]==6}\n",
      "\n",
      "def get_m_pair_stabs(f,ase_m):\n",
      "    return array([get_mindo_atoms_stability(frag=f, set_atoms=p, a_master=ase_m) for p in get_neighbor_pairs(to_molmod(ase_m))])\n",
      "\n",
      "def color_by_mindo_reactivity(base_frag, delta=None):\n",
      "    \"\"\"Uses JMol to colour bonds according to their Huckel theory reactivity\"\"\"\n",
      "    m_flake = to_molmod(base_frag)\n",
      "    m_flake.set_default_graph()\n",
      "    g=GraphFrags(m_flake)\n",
      "    complete_frag=g.get_all_rings()\n",
      "    pair_stabs=get_m_pair_stabs(complete_frag,base_frag)\n",
      "    nps = get_neighbor_pairs(m_flake)\n",
      "    return view_ipython_jmol(base_frag, script=color_bonds_by_mag(nps, pair_stabs, inv=True),\n",
      "                             width=500, height=500)\n",
      "    "
     ],
     "language": "python",
     "metadata": {},
     "outputs": [],
     "prompt_number": 12
    },
    {
     "cell_type": "code",
     "collapsed": false,
     "input": [
      "#test_frag = frag_to_ase(best[24][0][1], base_frag2)"
     ],
     "language": "python",
     "metadata": {},
     "outputs": [
      {
       "ename": "NameError",
       "evalue": "name 'best' is not defined",
       "output_type": "pyerr",
       "traceback": [
        "\u001b[1;31m---------------------------------------------------------------------------\u001b[0m\n\u001b[1;31mNameError\u001b[0m                                 Traceback (most recent call last)",
        "\u001b[1;32m<ipython-input-13-e87dc6b259bc>\u001b[0m in \u001b[0;36m<module>\u001b[1;34m()\u001b[0m\n\u001b[1;32m----> 1\u001b[1;33m \u001b[0mtest_frag\u001b[0m \u001b[1;33m=\u001b[0m \u001b[0mfrag_to_ase\u001b[0m\u001b[1;33m(\u001b[0m\u001b[0mbest\u001b[0m\u001b[1;33m[\u001b[0m\u001b[1;36m24\u001b[0m\u001b[1;33m]\u001b[0m\u001b[1;33m[\u001b[0m\u001b[1;36m0\u001b[0m\u001b[1;33m]\u001b[0m\u001b[1;33m[\u001b[0m\u001b[1;36m1\u001b[0m\u001b[1;33m]\u001b[0m\u001b[1;33m,\u001b[0m \u001b[0mbase_frag2\u001b[0m\u001b[1;33m)\u001b[0m\u001b[1;33m\u001b[0m\u001b[0m\n\u001b[0m",
        "\u001b[1;31mNameError\u001b[0m: name 'best' is not defined"
       ]
      }
     ],
     "prompt_number": 13
    },
    {
     "cell_type": "code",
     "collapsed": false,
     "input": [
      "#test_frag.set_calculator(Gaussian(label='test_frag_gaus'))\n",
      "#test_frag.calc.set_job(memory=2000, nodes=2,version='user_g09')\n",
      "#test_frag.calc.start()"
     ],
     "language": "python",
     "metadata": {},
     "outputs": [],
     "prompt_number": 14
    },
    {
     "cell_type": "code",
     "collapsed": false,
     "input": [
      "#color_by_mindo_reactivity(test_frag)"
     ],
     "language": "python",
     "metadata": {},
     "outputs": [],
     "prompt_number": 15
    },
    {
     "cell_type": "code",
     "collapsed": false,
     "input": [
      "color_by_h_reactivity(test_frag)"
     ],
     "language": "python",
     "metadata": {},
     "outputs": [
      {
       "ename": "NameError",
       "evalue": "name 'color_by_h_reactivity' is not defined",
       "output_type": "pyerr",
       "traceback": [
        "\u001b[1;31m---------------------------------------------------------------------------\u001b[0m\n\u001b[1;31mNameError\u001b[0m                                 Traceback (most recent call last)",
        "\u001b[1;32m<ipython-input-16-55fef81d7742>\u001b[0m in \u001b[0;36m<module>\u001b[1;34m()\u001b[0m\n\u001b[1;32m----> 1\u001b[1;33m \u001b[0mcolor_by_h_reactivity\u001b[0m\u001b[1;33m(\u001b[0m\u001b[0mtest_frag\u001b[0m\u001b[1;33m)\u001b[0m\u001b[1;33m\u001b[0m\u001b[0m\n\u001b[0m",
        "\u001b[1;31mNameError\u001b[0m: name 'color_by_h_reactivity' is not defined"
       ]
      }
     ],
     "prompt_number": 16
    },
    {
     "cell_type": "code",
     "collapsed": false,
     "input": [
      "mindo_atoms_stability(best[24][0][1], {10,11}, base_frag2)"
     ],
     "language": "python",
     "metadata": {},
     "outputs": [
      {
       "output_type": "stream",
       "stream": "stderr",
       "text": [
        "WARNING:root:PyQuante failed to converge after 30 iterations\n"
       ]
      },
      {
       "metadata": {},
       "output_type": "pyout",
       "prompt_number": 165,
       "text": [
        "7205.1720787638551"
       ]
      }
     ],
     "prompt_number": 165
    },
    {
     "cell_type": "code",
     "collapsed": false,
     "input": [
      "from cc_notebook import color_bonds_by_mag\n",
      "\n",
      "get_h_pair_stabs = lambda f,m :array([get_atoms_stability(frag=f, set_atoms=p, master=m) for p in get_neighbor_pairs(m)])\n",
      "\n",
      "def get_neighbor_pairs(frag): \n",
      "    return {frozenset({i,n}) for i in frag.graph.neighbors for n in frag.graph.neighbors[i] if frag.numbers[i]==6 and frag.numbers[n]==6}\n",
      "\n",
      "\n",
      "def color_by_h_reactivity(base_frag, delta=None):\n",
      "    \"\"\"Uses JMol to colour bonds according to their Huckel theory reactivity\"\"\"\n",
      "    m_flake = to_molmod(base_frag)\n",
      "    m_flake.set_default_graph()\n",
      "    g=GraphFrags(m_flake)\n",
      "    complete_frag=g.get_all_rings()\n",
      "    pair_stabs=get_h_pair_stabs(complete_frag,m_flake)\n",
      "    nps = get_neighbor_pairs(m_flake)\n",
      "    return view_ipython_jmol(base_frag, script=color_bonds_by_mag(nps, pair_stabs, inv=True),\n",
      "                             width=500, height=500)\n",
      "    \n",
      "color_by_h_reactivity(base_frag2)"
     ],
     "language": "python",
     "metadata": {},
     "outputs": [
      {
       "html": [
        "<div style=float:left><div id='applet_div_id_1641222000171'></div></div>\n",
        "<script type=\"text/Javascript\">//initialisation\n",
        "    var Info = {\n",
        "        color: \"#FFFFFF\",\n",
        "        width: 500,\n",
        "        height: 500,\n",
        "        serverURL: \"/nbextensions/jsmol/jsmol.php \",\n",
        "        use: \"HTML5\",\n",
        "        j2sPath: \"/nbextensions/jsmol/j2s\",\n",
        "        console: \"jmolApplet0_infodiv\"\n",
        "    }\n",
        "    //prevent applet from immediately generating html - allows us to place the applet in the div we wish\n",
        "    Jmol.setDocument(0)\n",
        "    //start applet\n",
        "    applet_id_1641222000171 = Jmol.getApplet(\"applet_id_1641222000171\", Info)\n",
        "    //insert applet html into applet_div_id_1641222000171\n",
        "    $(\"#applet_div_id_1641222000171\").html(Jmol.getAppletHtml(applet_id_1641222000171))\n",
        "    //execute scripts\n",
        "    Jmol.script(applet_id_1641222000171,\"load similarity_search/temp_atoms_0.xyz; select all; set echo echoname 50% 90%; font echo 25; echo temp_atoms_0;select atomno=2, atomno=12; connect single; color bonds [3.08753023148e-13 0 0];select atomno=21, atomno=22; connect single; color bonds [0.275423273842 0 0];select atomno=41, atomno=30; connect single; color bonds [0.885204072125 0 0];select atomno=9, atomno=1; connect single; color bonds [0.885204072126 0 0];select atomno=53, atomno=46; connect single; color bonds [0.47407632472 0 0];select atomno=2, atomno=3; connect single; color bonds [0.47407632472 0 0];select atomno=7, atomno=8; connect single; color bonds [1.0 0 0];select atomno=9, atomno=10; connect single; color bonds [0.0 0 0];select atomno=46, atomno=47; connect single; color bonds [6.17839113204e-13 0 0];select atomno=17, atomno=16; connect single; color bonds [0.47407632472 0 0];select atomno=51, atomno=52; connect single; color bonds [0.47407632472 0 0];select atomno=26, atomno=37; connect single; color bonds [0.288787691318 0 0];select atomno=11, atomno=24; connect single; color bonds [0.0831973509321 0 0];select atomno=10, atomno=11; connect single; color bonds [0.275423273842 0 0];select atomno=27, atomno=40; connect single; color bonds [0.275423273842 0 0];select atomno=29, atomno=30; connect single; color bonds [0.885204072126 0 0];select atomno=36, atomno=23; connect single; color bonds [0.288787691318 0 0];select atomno=18, atomno=29; connect single; color bonds [0.47407632472 0 0];select atomno=42, atomno=52; connect single; color bonds [1.0 0 0];select atomno=53, atomno=54; connect single; color bonds [1.0 0 0];select atomno=49, atomno=50; connect single; color bonds [0.885204072126 0 0];select atomno=51, atomno=39; connect single; color bonds [9.26592136352e-13 0 0];select atomno=4, atomno=5; connect single; color bonds [0.47407632472 0 0];select atomno=6, atomno=16; connect single; color bonds [0.885204072125 0 0];select atomno=25, atomno=14; connect single; color bonds [0.0831973509318 0 0];select atomno=50, atomno=51; connect single; color bonds [0.885204072125 0 0];select atomno=27, atomno=28; connect single; color bonds [0.275423273842 0 0];select atomno=41, atomno=42; connect single; color bonds [0.47407632472 0 0];select atomno=12, atomno=13; connect single; color bonds [0.237841087487 0 0];select atomno=10, atomno=21; connect single; color bonds [0.237841087487 0 0];select atomno=25, atomno=24; connect single; color bonds [0.288787691318 0 0];select atomno=19, atomno=32; connect single; color bonds [0.885204072125 0 0];select atomno=45, atomno=46; connect single; color bonds [0.885204072125 0 0];select atomno=3, atomno=4; connect single; color bonds [1.0 0 0];select atomno=15, atomno=16; connect single; color bonds [3.08753023148e-13 0 0];select atomno=20, atomno=7; connect single; color bonds [0.47407632472 0 0];select atomno=1, atomno=2; connect single; color bonds [0.885204072126 0 0];select atomno=34, atomno=44; connect single; color bonds [9.26592136352e-13 0 0];select atomno=37, atomno=38; connect single; color bonds [0.0831973509321 0 0];select atomno=23, atomno=24; connect single; color bonds [0.288787691318 0 0];select atomno=49, atomno=48; connect single; color bonds [9.26592136352e-13 0 0];select atomno=47, atomno=48; connect single; color bonds [0.237841087487 0 0];select atomno=44, atomno=45; connect single; color bonds [0.885204072126 0 0];select atomno=39, atomno=40; connect single; color bonds [0.237841087487 0 0];select atomno=13, atomno=14; connect single; color bonds [0.275423273842 0 0];select atomno=33, atomno=34; connect single; color bonds [0.237841087487 0 0];select atomno=43, atomno=44; connect single; color bonds [0.47407632472 0 0];select atomno=11, atomno=12; connect single; color bonds [0.275423273842 0 0];select atomno=13, atomno=5; connect single; color bonds [3.08753023148e-13 0 0];select atomno=28, atomno=15; connect single; color bonds [0.237841087487 0 0];select atomno=38, atomno=39; connect single; color bonds [0.275423273842 0 0];select atomno=14, atomno=15; connect single; color bonds [0.275423273842 0 0];select atomno=43, atomno=31; connect single; color bonds [1.0 0 0];select atomno=31, atomno=32; connect single; color bonds [0.47407632472 0 0];select atomno=35, atomno=36; connect single; color bonds [0.0831973509321 0 0];select atomno=20, atomno=21; connect single; color bonds [9.26592136352e-13 0 0];select atomno=35, atomno=47; connect single; color bonds [0.275423273842 0 0];select atomno=33, atomno=22; connect single; color bonds [0.275423273842 0 0];select atomno=34, atomno=35; connect single; color bonds [0.275423273842 0 0];select atomno=41, atomno=40; connect single; color bonds [9.26592136352e-13 0 0];select atomno=33, atomno=32; connect single; color bonds [3.08753023148e-13 0 0];select atomno=38, atomno=48; connect single; color bonds [0.275423273842 0 0];select atomno=22, atomno=23; connect single; color bonds [0.0831973509318 0 0];select atomno=26, atomno=27; connect single; color bonds [0.0831973509324 0 0];select atomno=28, atomno=29; connect single; color bonds [3.08753023148e-13 0 0];select atomno=25, atomno=26; connect single; color bonds [0.288787691318 0 0];select atomno=9, atomno=8; connect single; color bonds [0.47407632472 0 0];select atomno=19, atomno=20; connect single; color bonds [0.885204072125 0 0];select atomno=36, atomno=37; connect single; color bonds [0.288787691318 0 0];select atomno=49, atomno=54; connect single; color bonds [0.47407632472 0 0];select atomno=17, atomno=18; connect single; color bonds [1.0 0 0];select atomno=5, atomno=6; connect single; color bonds [0.885204072125 0 0];; set frank off; sync . SLAVE;\")</script>"
       ],
       "metadata": {},
       "output_type": "pyout",
       "prompt_number": 17,
       "text": [
        "<IPython.core.display.HTML at 0x7f2196c33690>"
       ]
      }
     ],
     "prompt_number": 17
    },
    {
     "cell_type": "code",
     "collapsed": false,
     "input": [
      "nano_t = read('12LH2opt.log')\n",
      "color_by_h_reactivity(nano_t)"
     ],
     "language": "python",
     "metadata": {},
     "outputs": [
      {
       "html": [
        "<div style=float:left><div id='applet_div_id_961318652804'></div></div>\n",
        "<script type=\"text/Javascript\">//initialisation\n",
        "    var Info = {\n",
        "        color: \"#FFFFFF\",\n",
        "        width: 500,\n",
        "        height: 500,\n",
        "        serverURL: \"/nbextensions/jsmol/jsmol.php \",\n",
        "        use: \"HTML5\",\n",
        "        j2sPath: \"/nbextensions/jsmol/j2s\",\n",
        "        console: \"jmolApplet0_infodiv\"\n",
        "    }\n",
        "    //prevent applet from immediately generating html - allows us to place the applet in the div we wish\n",
        "    Jmol.setDocument(0)\n",
        "    //start applet\n",
        "    applet_id_961318652804 = Jmol.getApplet(\"applet_id_961318652804\", Info)\n",
        "    //insert applet html into applet_div_id_961318652804\n",
        "    $(\"#applet_div_id_961318652804\").html(Jmol.getAppletHtml(applet_id_961318652804))\n",
        "    //execute scripts\n",
        "    Jmol.script(applet_id_961318652804,\"load similarity_search/12LH2opt.xyz; select all; set echo echoname 50% 90%; font echo 25; echo 12LH2opt;select atomno=142, atomno=144; connect single; color bonds [0.0345385543592 0 0];select atomno=262, atomno=255; connect single; color bonds [0.0417370237898 0 0];select atomno=185, atomno=174; connect single; color bonds [0.0308429309389 0 0];select atomno=197, atomno=207; connect single; color bonds [0.03403193447 0 0];select atomno=81, atomno=80; connect single; color bonds [0.0323205246471 0 0];select atomno=226, atomno=237; connect single; color bonds [0.0401698898124 0 0];select atomno=221, atomno=208; connect single; color bonds [0.0394050405841 0 0];select atomno=238, atomno=248; connect single; color bonds [0.0269957870249 0 0];select atomno=243, atomno=232; connect single; color bonds [0.0401725181335 0 0];select atomno=106, atomno=83; connect single; color bonds [0.029086986078 0 0];select atomno=121, atomno=105; connect single; color bonds [0.0746477359005 0 0];select atomno=246, atomno=255; connect single; color bonds [0.0286055176277 0 0];select atomno=245, atomno=254; connect single; color bonds [0.0327243633707 0 0];select atomno=177, atomno=168; connect single; color bonds [0.0401719370448 0 0];select atomno=106, atomno=109; connect single; color bonds [0.0744164432545 0 0];select atomno=188, atomno=176; connect single; color bonds [0.0401684318335 0 0];select atomno=182, atomno=192; connect single; color bonds [0.0340556826675 0 0];select atomno=119, atomno=120; connect single; color bonds [0.0363483424438 0 0];select atomno=214, atomno=200; connect single; color bonds [0.0373664981319 0 0];select atomno=185, atomno=197; connect single; color bonds [0.0399293910324 0 0];select atomno=194, atomno=182; connect single; color bonds [0.0360834192543 0 0];select atomno=19, atomno=46; connect single; color bonds [0.0444226954677 0 0];select atomno=130, atomno=108; connect single; color bonds [0.06507398587 0 0];select atomno=170, atomno=163; connect single; color bonds [0.0399142302732 0 0];select atomno=17, atomno=16; connect single; color bonds [0.0379719831043 0 0];select atomno=257, atomno=264; connect single; color bonds [0.0419001335569 0 0];select atomno=25, atomno=26; connect single; color bonds [0.0385390047499 0 0];select atomno=58, atomno=37; connect single; color bonds [0.0344961150438 0 0];select atomno=106, atomno=127; connect single; color bonds [0.06507398587 0 0];select atomno=267, atomno=270; connect single; color bonds [0.0419008915158 0 0];select atomno=38, atomno=39; connect single; color bonds [0.0330758453261 0 0];select atomno=268, atomno=264; connect single; color bonds [0.0153447700742 0 0];select atomno=234, atomno=221; connect single; color bonds [0.0401655372061 0 0];select atomno=117, atomno=93; connect single; color bonds [0.0346365078614 0 0];select atomno=165, atomno=174; connect single; color bonds [0.0389743199876 0 0];select atomno=167, atomno=176; connect single; color bonds [0.0393983939214 0 0];select atomno=219, atomno=229; connect single; color bonds [0.0401725932355 0 0];select atomno=241, atomno=251; connect single; color bonds [0.0328873227647 0 0];select atomno=159, atomno=152; connect single; color bonds [0.0340556826675 0 0];select atomno=115, atomno=150; connect single; color bonds [0.0385881540267 0 0];select atomno=89, atomno=99; connect single; color bonds [0.0402118558566 0 0];select atomno=217, atomno=202; connect single; color bonds [0.0401694045392 0 0];select atomno=158, atomno=151; connect single; color bonds [0.0400094920492 0 0];select atomno=36, atomno=40; connect single; color bonds [0.0333969552618 0 0];select atomno=29, atomno=23; connect single; color bonds [0.0299503336155 0 0];select atomno=275, atomno=276; connect single; color bonds [0.130364199624 0 0];select atomno=62, atomno=63; connect single; color bonds [0.0423429454068 0 0];select atomno=173, atomno=183; connect single; color bonds [0.0345385543592 0 0];select atomno=55, atomno=88; connect single; color bonds [0.0382053295182 0 0];select atomno=18, atomno=44; connect single; color bonds [0.0444473804295 0 0];select atomno=57, atomno=34; connect single; color bonds [0.0344987379254 0 0];select atomno=218, atomno=231; connect single; color bonds [0.0269963768001 0 0];select atomno=27, atomno=24; connect single; color bonds [0.0334401418256 0 0];select atomno=74, atomno=91; connect single; color bonds [0.0403790474228 0 0];select atomno=102, atomno=87; connect single; color bonds [0.0423465836191 0 0];select atomno=42, atomno=23; connect single; color bonds [0.0444473804295 0 0];select atomno=53, atomno=71; connect single; color bonds [0.0384179956732 0 0];select atomno=76, atomno=77; connect single; color bonds [0.0314175530322 0 0];select atomno=93, atomno=77; connect single; color bonds [0.0403690334279 0 0];select atomno=66, atomno=78; connect single; color bonds [0.0305684019608 0 0];select atomno=119, atomno=95; connect single; color bonds [0.0346964335507 0 0];select atomno=271, atomno=272; connect single; color bonds [0.130362887437 0 0];select atomno=228, atomno=239; connect single; color bonds [0.0269957870248 0 0];select atomno=114, atomno=92; connect single; color bonds [0.0346209998559 0 0];select atomno=193, atomno=205; connect single; color bonds [0.0394106970481 0 0];select atomno=159, atomno=168; connect single; color bonds [0.0393997083542 0 0];select atomno=38, atomno=16; connect single; color bonds [0.0413509961377 0 0];select atomno=91, atomno=116; connect single; color bonds [0.0346209998559 0 0];select atomno=77, atomno=56; connect single; color bonds [0.0382712027123 0 0];select atomno=257, atomno=248; connect single; color bonds [0.0328871036208 0 0];select atomno=210, atomno=195; connect single; color bonds [0.034534271865 0 0];select atomno=71, atomno=88; connect single; color bonds [0.031524208924 0 0];select atomno=178, atomno=168; connect single; color bonds [0.0303130547653 0 0];select atomno=113, atomno=141; connect single; color bonds [0.0386439794677 0 0];select atomno=98, atomno=88; connect single; color bonds [0.0401915423959 0 0];select atomno=186, atomno=175; connect single; color bonds [0.0352276698592 0 0];select atomno=273, atomno=252; connect single; color bonds [0.0798481458846 0 0];select atomno=220, atomno=205; connect single; color bonds [0.0401684228952 0 0];select atomno=2, atomno=3; connect single; color bonds [0.034229303039 0 0];select atomno=223, atomno=208; connect single; color bonds [0.0354198984738 0 0];select atomno=211, atomno=197; connect single; color bonds [0.0360824343018 0 0];select atomno=82, atomno=87; connect single; color bonds [0.0323915412049 0 0];select atomno=146, atomno=148; connect single; color bonds [0.0345342718649 0 0];select atomno=121, atomno=127; connect single; color bonds [0.136770074006 0 0];select atomno=165, atomno=157; connect single; color bonds [0.0359173431777 0 0];select atomno=225, atomno=212; connect single; color bonds [0.0345104836239 0 0];select atomno=12, atomno=13; connect single; color bonds [0.0383431742756 0 0];select atomno=227, atomno=237; connect single; color bonds [0.0286073241595 0 0];select atomno=220, atomno=232; connect single; color bonds [0.0327251332525 0 0];select atomno=67, atomno=47; connect single; color bonds [0.0399343894405 0 0];select atomno=201, atomno=215; connect single; color bonds [0.0347863645575 0 0];select atomno=85, atomno=69; connect single; color bonds [0.0279890157343 0 0];select atomno=65, atomno=79; connect single; color bonds [0.0305684019608 0 0];select atomno=235, atomno=223; connect single; color bonds [0.039408433418 0 0];select atomno=187, atomno=176; connect single; color bonds [0.0303180752412 0 0];select atomno=91, atomno=93; connect single; color bonds [0.0343923314845 0 0];select atomno=217, atomno=230; connect single; color bonds [0.0417405349457 0 0];select atomno=85, atomno=103; connect single; color bonds [0.0410011176082 0 0];select atomno=179, atomno=171; connect single; color bonds [0.0340399156716 0 0];select atomno=11, atomno=12; connect single; color bonds [0.0332624201997 0 0];select atomno=61, atomno=80; connect single; color bonds [0.0342054734368 0 0];select atomno=251, atomno=260; connect single; color bonds [0.0419008915158 0 0];select atomno=81, atomno=107; connect single; color bonds [0.0445567091314 0 0];select atomno=117, atomno=118; connect single; color bonds [0.0363980348373 0 0];select atomno=205, atomno=191; connect single; color bonds [0.0303034706418 0 0];select atomno=210, atomno=196; connect single; color bonds [0.0399882601273 0 0];select atomno=233, atomno=220; connect single; color bonds [0.037372150102 0 0];select atomno=19, atomno=30; connect single; color bonds [0.033857222151 0 0];select atomno=58, atomno=59; connect single; color bonds [0.0370269186398 0 0];select atomno=60, atomno=39; connect single; color bonds [0.0344293686248 0 0];select atomno=20, atomno=24; connect single; color bonds [0.034229303039 0 0];select atomno=242, atomno=272; connect single; color bonds [0.0798494019878 0 0];select atomno=14, atomno=7; connect single; color bonds [0.0384688314896 0 0];select atomno=171, atomno=181; connect single; color bonds [0.0360824343018 0 0];select atomno=60, atomno=56; connect single; color bonds [0.0370269186398 0 0];select atomno=225, atomno=210; connect single; color bonds [0.035243245001 0 0];select atomno=155, atomno=149; connect single; color bonds [0.0358834000315 0 0];select atomno=209, atomno=224; connect single; color bonds [0.0308586658955 0 0];select atomno=123, atomno=124; connect single; color bonds [0.131912227265 0 0];select atomno=212, atomno=224; connect single; color bonds [0.0389631201321 0 0];select atomno=169, atomno=178; connect single; color bonds [0.0394050405841 0 0];select atomno=221, atomno=206; connect single; color bonds [0.0303130547653 0 0];select atomno=82, atomno=104; connect single; color bonds [0.0410011176082 0 0];select atomno=181, atomno=174; connect single; color bonds [0.0399293910323 0 0];select atomno=226, atomno=214; connect single; color bonds [0.0327297099296 0 0];select atomno=241, atomno=230; connect single; color bonds [0.0269936944087 0 0];select atomno=49, atomno=64; connect single; color bonds [0.0399343894404 0 0];select atomno=233, atomno=222; connect single; color bonds [0.0401684228953 0 0];select atomno=165, atomno=175; connect single; color bonds [0.0345070723796 0 0];select atomno=249, atomno=239; connect single; color bonds [0.0419004598761 0 0];select atomno=162, atomno=171; connect single; color bonds [0.0399222475064 0 0];select atomno=69, atomno=45; connect single; color bonds [0.0390906987181 0 0];select atomno=195, atomno=183; connect single; color bonds [0.0359000400799 0 0];select atomno=82, atomno=63; connect single; color bonds [0.0279890157343 0 0];select atomno=244, atomno=253; connect single; color bonds [0.0401725181335 0 0];select atomno=265, atomno=259; connect single; color bonds [0.0328874722722 0 0];select atomno=180, atomno=192; connect single; color bonds [0.0354132472441 0 0];select atomno=161, atomno=153; connect single; color bonds [0.0399142302731 0 0];select atomno=73, atomno=96; connect single; color bonds [0.0400030968345 0 0];select atomno=154, atomno=148; connect single; color bonds [0.0389652188989 0 0];select atomno=75, atomno=52; connect single; color bonds [0.0382053295183 0 0];select atomno=35, atomno=52; connect single; color bonds [0.0345836777723 0 0];select atomno=33, atomno=8; connect single; color bonds [0.0403093665743 0 0];select atomno=13, atomno=32; connect single; color bonds [0.0403093665743 0 0];select atomno=59, atomno=72; connect single; color bonds [0.0384262752459 0 0];select atomno=228, atomno=238; connect single; color bonds [0.0412478286041 0 0];select atomno=143, atomno=112; connect single; color bonds [0.0385998000994 0 0];select atomno=29, atomno=7; connect single; color bonds [0.033857222151 0 0];select atomno=148, atomno=144; connect single; color bonds [0.03590004008 0 0];select atomno=17, atomno=22; connect single; color bonds [0.0380325703095 0 0];select atomno=28, atomno=22; connect single; color bonds [0.0379719831043 0 0];select atomno=214, atomno=206; connect single; color bonds [0.0401719370448 0 0];select atomno=99, atomno=112; connect single; color bonds [0.0346622088364 0 0];select atomno=156, atomno=150; connect single; color bonds [0.0312537435711 0 0];select atomno=251, atomno=240; connect single; color bonds [0.026994640954 0 0];select atomno=101, atomno=102; connect single; color bonds [0.0175754826767 0 0];select atomno=242, atomno=252; connect single; color bonds [0.0153447700742 0 0];select atomno=141, atomno=142; connect single; color bonds [0.0399565861448 0 0];select atomno=73, atomno=75; connect single; color bonds [0.0315242089241 0 0];select atomno=235, atomno=222; connect single; color bonds [0.0303034706417 0 0];select atomno=250, atomno=240; connect single; color bonds [0.0412515359028 0 0];select atomno=241, atomno=252; connect single; color bonds [0.0419014101871 0 0];select atomno=34, atomno=37; connect single; color bonds [0.0333969552618 0 0];select atomno=166, atomno=175; connect single; color bonds [0.0400258102886 0 0];select atomno=57, atomno=55; connect single; color bonds [0.0369278122079 0 0];select atomno=276, atomno=269; connect single; color bonds [0.0798473745305 0 0];select atomno=85, atomno=86; connect single; color bonds [0.0323915412048 0 0];select atomno=69, atomno=70; connect single; color bonds [0.0423429454068 0 0];select atomno=97, atomno=71; connect single; color bonds [0.0400030968345 0 0];select atomno=211, atomno=223; connect single; color bonds [0.0340399156715 0 0];select atomno=76, atomno=54; connect single; color bonds [0.0384737664693 0 0];select atomno=105, atomno=84; connect single; color bonds [0.0445567091314 0 0];select atomno=160, atomno=152; connect single; color bonds [0.0360834192543 0 0];select atomno=147, atomno=144; connect single; color bonds [0.0389458689381 0 0];select atomno=98, atomno=99; connect single; color bonds [0.0345265989654 0 0];select atomno=203, atomno=216; connect single; color bonds [0.0286073241595 0 0];select atomno=101, atomno=86; connect single; color bonds [0.0423465836193 0 0];select atomno=250, atomno=259; connect single; color bonds [0.0269928636647 0 0];select atomno=146, atomno=151; connect single; color bonds [0.035243245001 0 0];select atomno=10, atomno=11; connect single; color bonds [0.033830548711 0 0];select atomno=36, atomno=54; connect single; color bonds [0.0344987379254 0 0];select atomno=18, atomno=19; connect single; color bonds [0.0299503336156 0 0];select atomno=266, atomno=260; connect single; color bonds [0.0153434671675 0 0];select atomno=65, atomno=44; connect single; color bonds [0.0391665895022 0 0];select atomno=250, atomno=243; connect single; color bonds [0.0417382680158 0 0];select atomno=52, atomno=54; connect single; color bonds [0.0369278122079 0 0];select atomno=265, atomno=269; connect single; color bonds [0.0419017350753 0 0];select atomno=163, atomno=172; connect single; color bonds [0.0308873674471 0 0];select atomno=59, atomno=38; connect single; color bonds [0.0344293686248 0 0];select atomno=247, atomno=256; connect single; color bonds [0.0412492357884 0 0];select atomno=161, atomno=170; connect single; color bonds [0.0360805599744 0 0];select atomno=261, atomno=253; connect single; color bonds [0.0417382680159 0 0];select atomno=67, atomno=64; connect single; color bonds [0.0423410309651 0 0];select atomno=42, atomno=44; connect single; color bonds [0.0339132501994 0 0];select atomno=22, atomno=23; connect single; color bonds [0.0337701620249 0 0];select atomno=257, atomno=247; connect single; color bonds [0.0269963768001 0 0];select atomno=236, atomno=246; connect single; color bonds [0.0401694045392 0 0];select atomno=33, atomno=35; connect single; color bonds [0.0341431833023 0 0];select atomno=141, atomno=143; connect single; color bonds [0.0312048265674 0 0];select atomno=73, atomno=51; connect single; color bonds [0.0384179956731 0 0];select atomno=2, atomno=43; connect single; color bonds [0.0395434735498 0 0];select atomno=65, atomno=61; connect single; color bonds [0.0399362462518 0 0];select atomno=244, atomno=254; connect single; color bonds [0.0347888395499 0 0];select atomno=153, atomno=147; connect single; color bonds [0.0308873674471 0 0];select atomno=129, atomno=110; connect single; color bonds [0.885964166686 0 0];select atomno=118, atomno=94; connect single; color bonds [0.0346622088364 0 0];select atomno=209, atomno=194; connect single; color bonds [0.0399236054965 0 0];select atomno=4, atomno=5; connect single; color bonds [0.0317525431887 0 0];select atomno=239, atomno=231; connect single; color bonds [0.0328871036208 0 0];select atomno=186, atomno=199; connect single; color bonds [0.0400258102887 0 0];select atomno=49, atomno=50; connect single; color bonds [0.0308409030645 0 0];select atomno=218, atomno=230; connect single; color bonds [0.0412492357883 0 0];select atomno=269, atomno=270; connect single; color bonds [0.0153434671676 0 0];select atomno=108, atomno=80; connect single; color bonds [0.0290869860781 0 0];select atomno=9, atomno=6; connect single; color bonds [0.0381731165372 0 0];select atomno=215, atomno=200; connect single; color bonds [0.0327339021226 0 0];select atomno=227, atomno=215; connect single; color bonds [0.0401679328983 0 0];select atomno=147, atomno=152; connect single; color bonds [0.0399089278613 0 0];select atomno=83, atomno=68; connect single; color bonds [0.0342054734368 0 0];select atomno=66, atomno=42; connect single; color bonds [0.0391665895023 0 0];select atomno=164, atomno=173; connect single; color bonds [0.0352731665404 0 0];select atomno=123, atomno=103; connect single; color bonds [0.0775309619505 0 0];select atomno=107, atomno=126; connect single; color bonds [0.0746477359006 0 0];select atomno=75, atomno=95; connect single; color bonds [0.0401915423959 0 0];select atomno=209, atomno=195; connect single; color bonds [0.038965218899 0 0];select atomno=274, atomno=260; connect single; color bonds [0.0798482038659 0 0];select atomno=265, atomno=261; connect single; color bonds [0.0269928636647 0 0];select atomno=94, atomno=95; connect single; color bonds [0.0345265989654 0 0];select atomno=185, atomno=198; connect single; color bonds [0.0389743199875 0 0];select atomno=172, atomno=182; connect single; color bonds [0.0399089278613 0 0];select atomno=20, atomno=21; connect single; color bonds [0.0374004479952 0 0];select atomno=109, atomno=78; connect single; color bonds [0.103899149152 0 0];select atomno=211, atomno=224; connect single; color bonds [0.0399222475065 0 0];select atomno=41, atomno=29; connect single; color bonds [0.0444226954677 0 0];select atomno=25, atomno=21; connect single; color bonds [0.0317525431888 0 0];select atomno=45, atomno=47; connect single; color bonds [0.0308409030644 0 0];select atomno=162, atomno=154; connect single; color bonds [0.0308586658955 0 0];select atomno=78, atomno=79; connect single; color bonds [0.0 0 0];select atomno=237, atomno=247; connect single; color bonds [0.0417386589172 0 0];select atomno=219, atomno=204; connect single; color bonds [0.0327243633708 0 0];select atomno=266, atomno=275; connect single; color bonds [0.0798473745305 0 0];select atomno=154, atomno=160; connect single; color bonds [0.0399236054965 0 0];select atomno=249, atomno=258; connect single; color bonds [0.0153455814946 0 0];select atomno=41, atomno=43; connect single; color bonds [0.0325127161736 0 0];select atomno=194, atomno=208; connect single; color bonds [0.0340394603486 0 0];select atomno=145, atomno=150; connect single; color bonds [0.0399322398533 0 0];select atomno=169, atomno=160; connect single; color bonds [0.0340394603486 0 0];select atomno=28, atomno=39; connect single; color bonds [0.0413509961377 0 0];select atomno=254, atomno=255; connect single; color bonds [0.0401725932354 0 0];select atomno=258, atomno=280; connect single; color bonds [0.0798493671675 0 0];select atomno=120, atomno=96; connect single; color bonds [0.0347094292292 0 0];select atomno=277, atomno=270; connect single; color bonds [0.079848203866 0 0];select atomno=56, atomno=40; connect single; color bonds [0.0344961150438 0 0];select atomno=178, atomno=190; connect single; color bonds [0.040165537206 0 0];select atomno=145, atomno=142; connect single; color bonds [0.0352731665404 0 0];select atomno=26, atomno=12; connect single; color bonds [0.0381731165372 0 0];select atomno=111, atomno=112; connect single; color bonds [0.0363980348373 0 0];select atomno=196, atomno=118; connect single; color bonds [0.0385998000994 0 0];select atomno=163, atomno=155; connect single; color bonds [0.038942794922 0 0];select atomno=202, atomno=189; connect single; color bonds [0.0347872875537 0 0];select atomno=146, atomno=143; connect single; color bonds [0.0399882601273 0 0];select atomno=50, atomno=27; connect single; color bonds [0.0413700550315 0 0];select atomno=263, atomno=256; connect single; color bonds [0.0269936944086 0 0];select atomno=113, atomno=115; connect single; color bonds [0.0363483424437 0 0];select atomno=219, atomno=232; connect single; color bonds [0.0347888395498 0 0];select atomno=268, atomno=278; connect single; color bonds [0.0798481458846 0 0];select atomno=268, atomno=263; connect single; color bonds [0.0419014101871 0 0];select atomno=266, atomno=259; connect single; color bonds [0.0419017350753 0 0];select atomno=229, atomno=240; connect single; color bonds [0.0417370237898 0 0];select atomno=177, atomno=188; connect single; color bonds [0.0373664981319 0 0];select atomno=105, atomno=103; connect single; color bonds [0.0204535651606 0 0];select atomno=74, atomno=72; connect single; color bonds [0.0313449765312 0 0];select atomno=226, atomno=236; connect single; color bonds [0.0347872875538 0 0];select atomno=130, atomno=126; connect single; color bonds [0.136770074006 0 0];select atomno=3, atomno=7; connect single; color bonds [0.0378295496986 0 0];select atomno=129, atomno=128; connect single; color bonds [1.0 0 0];select atomno=169, atomno=179; connect single; color bonds [0.0354198984737 0 0];select atomno=161, atomno=167; connect single; color bonds [0.0340547069665 0 0];select atomno=53, atomno=32; connect single; color bonds [0.034398515251 0 0];select atomno=50, atomno=63; connect single; color bonds [0.0390906987181 0 0];select atomno=246, atomno=256; connect single; color bonds [0.0417405349457 0 0];select atomno=74, atomno=60; connect single; color bonds [0.0384262752459 0 0];select atomno=213, atomno=117; connect single; color bonds [0.0386710756206 0 0];select atomno=61, atomno=46; connect single; color bonds [0.0330775206781 0 0];select atomno=46, atomno=48; connect single; color bonds [0.0325127161736 0 0];select atomno=196, atomno=184; connect single; color bonds [0.0312048265674 0 0];select atomno=204, atomno=191; connect single; color bonds [0.0401713187029 0 0];select atomno=81, atomno=62; connect single; color bonds [0.02715069458 0 0];select atomno=10, atomno=47; connect single; color bonds [0.0404805084439 0 0];select atomno=217, atomno=229; connect single; color bonds [0.0286055176277 0 0];select atomno=89, atomno=90; connect single; color bonds [0.0314175530322 0 0];select atomno=41, atomno=68; connect single; color bonds [0.0330775206779 0 0];select atomno=48, atomno=24; connect single; color bonds [0.0395434735498 0 0];select atomno=5, atomno=6; connect single; color bonds [0.0385390047499 0 0];select atomno=35, atomno=5; connect single; color bonds [0.0400354250965 0 0];select atomno=20, atomno=30; connect single; color bonds [0.0378295496986 0 0];select atomno=67, atomno=86; connect single; color bonds [0.0271130625173 0 0];select atomno=279, atomno=280; connect single; color bonds [0.130362887437 0 0];select atomno=9, atomno=10; connect single; color bonds [0.0332624201998 0 0];select atomno=97, atomno=96; connect single; color bonds [0.0346791522629 0 0];select atomno=187, atomno=200; connect single; color bonds [0.0401684318335 0 0];select atomno=170, atomno=180; connect single; color bonds [0.0340547069664 0 0];select atomno=1, atomno=45; connect single; color bonds [0.0413700550315 0 0];select atomno=1, atomno=6; connect single; color bonds [0.0330747615421 0 0];select atomno=49, atomno=11; connect single; color bonds [0.0404805084439 0 0];select atomno=36, atomno=4; connect single; color bonds [0.0410416684774 0 0];select atomno=51, atomno=53; connect single; color bonds [0.0369637337458 0 0];select atomno=1, atomno=2; connect single; color bonds [0.0334401418256 0 0];select atomno=242, atomno=231; connect single; color bonds [0.041900133557 0 0];select atomno=235, atomno=245; connect single; color bonds [0.040171318703 0 0];select atomno=201, atomno=188; connect single; color bonds [0.0327339021226 0 0];select atomno=228, atomno=216; connect single; color bonds [0.0417408106236 0 0];select atomno=166, atomno=158; connect single; color bonds [0.0311451123897 0 0];select atomno=66, atomno=68; connect single; color bonds [0.0399362462518 0 0];select atomno=279, atomno=264; connect single; color bonds [0.0798494019878 0 0];select atomno=84, atomno=70; connect single; color bonds [0.0271506945801 0 0];select atomno=267, atomno=262; connect single; color bonds [0.0269946409539 0 0];select atomno=167, atomno=159; connect single; color bonds [0.035413247244 0 0];select atomno=100, atomno=92; connect single; color bonds [0.0343923314845 0 0];select atomno=234, atomno=236; connect single; color bonds [0.0327312784076 0 0];select atomno=173, atomno=184; connect single; color bonds [0.0399565861448 0 0];select atomno=116, atomno=199; connect single; color bonds [0.0386472790229 0 0];select atomno=155, atomno=164; connect single; color bonds [0.0345646268381 0 0];select atomno=43, atomno=70; connect single; color bonds [0.0393686096929 0 0];select atomno=89, atomno=57; connect single; color bonds [0.0384737664692 0 0];select atomno=17, atomno=18; connect single; color bonds [0.0337701620249 0 0];select atomno=14, atomno=40; connect single; color bonds [0.0409864081184 0 0];select atomno=145, atomno=149; connect single; color bonds [0.0345646268382 0 0];select atomno=76, atomno=94; connect single; color bonds [0.0402118558567 0 0];select atomno=193, atomno=181; connect single; color bonds [0.03403193447 0 0];select atomno=122, atomno=125; connect single; color bonds [0.131912227265 0 0];select atomno=267, atomno=263; connect single; color bonds [0.0328873227646 0 0];select atomno=33, atomno=51; connect single; color bonds [0.0343985152511 0 0];select atomno=156, atomno=120; connect single; color bonds [0.0385881540268 0 0];select atomno=204, atomno=190; connect single; color bonds [0.0373704822789 0 0];select atomno=172, atomno=183; connect single; color bonds [0.0389458689381 0 0];select atomno=55, atomno=31; connect single; color bonds [0.0345836777723 0 0];select atomno=222, atomno=207; connect single; color bonds [0.0394106970481 0 0];select atomno=243, atomno=253; connect single; color bonds [0.0286040186148 0 0];select atomno=37, atomno=15; connect single; color bonds [0.0409864081184 0 0];select atomno=62, atomno=48; connect single; color bonds [0.0393686096927 0 0];select atomno=26, atomno=27; connect single; color bonds [0.0330747615422 0 0];select atomno=92, atomno=72; connect single; color bonds [0.0403790474229 0 0];select atomno=31, atomno=32; connect single; color bonds [0.0341431833022 0 0];select atomno=177, atomno=189; connect single; color bonds [0.0327297099296 0 0];select atomno=273, atomno=274; connect single; color bonds [0.130363676845 0 0];select atomno=90, atomno=58; connect single; color bonds [0.0382712027123 0 0];select atomno=186, atomno=198; connect single; color bonds [0.0345070723796 0 0];select atomno=119, atomno=184; connect single; color bonds [0.0386439794677 0 0];select atomno=203, atomno=189; connect single; color bonds [0.0401698898124 0 0];select atomno=25, atomno=31; connect single; color bonds [0.0400354250966 0 0];select atomno=153, atomno=149; connect single; color bonds [0.038942794922 0 0];select atomno=233, atomno=244; connect single; color bonds [0.0327251332525 0 0];select atomno=187, atomno=180; connect single; color bonds [0.0393983939214 0 0];select atomno=28, atomno=14; connect single; color bonds [0.0315806199526 0 0];select atomno=113, atomno=98; connect single; color bonds [0.0346964335507 0 0];select atomno=3, atomno=4; connect single; color bonds [0.0374004479953 0 0];select atomno=15, atomno=16; connect single; color bonds [0.0315806199525 0 0];select atomno=100, atomno=111; connect single; color bonds [0.0346365078613 0 0];select atomno=90, atomno=100; connect single; color bonds [0.0403690334278 0 0];select atomno=122, atomno=104; connect single; color bonds [0.0775309619505 0 0];select atomno=157, atomno=151; connect single; color bonds [0.034510483624 0 0];select atomno=227, atomno=238; connect single; color bonds [0.0417408106236 0 0];select atomno=206, atomno=192; connect single; color bonds [0.0393997083543 0 0];select atomno=83, atomno=84; connect single; color bonds [0.0323205246471 0 0];select atomno=114, atomno=116; connect single; color bonds [0.0364224899287 0 0];select atomno=202, atomno=190; connect single; color bonds [0.0327312784076 0 0];select atomno=212, atomno=198; connect single; color bonds [0.0359173431777 0 0];select atomno=162, atomno=157; connect single; color bonds [0.0389631201319 0 0];select atomno=258, atomno=248; connect single; color bonds [0.0419004598762 0 0];select atomno=9, atomno=8; connect single; color bonds [0.0383431742755 0 0];select atomno=234, atomno=245; connect single; color bonds [0.0373704822789 0 0];select atomno=110, atomno=79; connect single; color bonds [0.103899149152 0 0];select atomno=277, atomno=278; connect single; color bonds [0.130363676845 0 0];select atomno=108, atomno=110; connect single; color bonds [0.0744164432545 0 0];select atomno=87, atomno=64; connect single; color bonds [0.0271130625173 0 0];select atomno=213, atomno=199; connect single; color bonds [0.0311451123897 0 0];select atomno=179, atomno=191; connect single; color bonds [0.0394084334181 0 0];select atomno=30, atomno=15; connect single; color bonds [0.0384688314897 0 0];select atomno=109, atomno=128; connect single; color bonds [0.885964166686 0 0];select atomno=193, atomno=207; connect single; color bonds [0.035423282007 0 0];select atomno=124, atomno=101; connect single; color bonds [0.0781547206232 0 0];select atomno=13, atomno=8; connect single; color bonds [0.0315996798358 0 0];select atomno=158, atomno=111; connect single; color bonds [0.0386710756206 0 0];select atomno=34, atomno=21; connect single; color bonds [0.0410416684773 0 0];select atomno=201, atomno=216; connect single; color bonds [0.0401679328981 0 0];select atomno=218, atomno=203; connect single; color bonds [0.0417386589173 0 0];select atomno=249, atomno=271; connect single; color bonds [0.0798493671674 0 0];select atomno=97, atomno=115; connect single; color bonds [0.0347094292292 0 0];select atomno=225, atomno=213; connect single; color bonds [0.0400094920492 0 0];select atomno=164, atomno=156; connect single; color bonds [0.0399322398534 0 0];select atomno=107, atomno=104; connect single; color bonds [0.0204535651606 0 0];select atomno=125, atomno=102; connect single; color bonds [0.0781547206233 0 0];select atomno=114, atomno=166; connect single; color bonds [0.0386472790228 0 0];select atomno=261, atomno=262; connect single; color bonds [0.041251535903 0 0];; set frank off; sync . SLAVE;\")</script>"
       ],
       "metadata": {},
       "output_type": "pyout",
       "prompt_number": 21,
       "text": [
        "<IPython.core.display.HTML at 0x7f21956d65d0>"
       ]
      }
     ],
     "prompt_number": 21
    },
    {
     "cell_type": "code",
     "collapsed": false,
     "input": [
      "base_frag =  nano_t   \n",
      "m_flake = to_molmod(base_frag)\n",
      "m_flake.set_default_graph()\n",
      "g=GraphFrags(m_flake)\n",
      "complete_frag=g.get_all_rings()\n",
      "pair_stabs=get_h_pair_stabs(complete_frag,m_flake)\n",
      "nps = get_neighbor_pairs(m_flake)"
     ],
     "language": "python",
     "metadata": {},
     "outputs": [],
     "prompt_number": 23
    },
    {
     "cell_type": "code",
     "collapsed": false,
     "input": [
      "13*5 + 12 *5"
     ],
     "language": "python",
     "metadata": {},
     "outputs": [
      {
       "metadata": {},
       "output_type": "pyout",
       "prompt_number": 39,
       "text": [
        "125"
       ]
      }
     ],
     "prompt_number": 39
    },
    {
     "cell_type": "code",
     "collapsed": false,
     "input": [
      "len(base_frag), len(nps), len(complete_frag)"
     ],
     "language": "python",
     "metadata": {},
     "outputs": [
      {
       "metadata": {},
       "output_type": "pyout",
       "prompt_number": 36,
       "text": [
        "(292, 395, 124)"
       ]
      }
     ],
     "prompt_number": 36
    },
    {
     "cell_type": "code",
     "collapsed": false,
     "input": [
      "get_atoms_stability(complete_frag, frozenset({127,128}), m_flake)"
     ],
     "language": "python",
     "metadata": {},
     "outputs": [
      {
       "metadata": {},
       "output_type": "pyout",
       "prompt_number": 51,
       "text": [
        "0.0"
       ]
      }
     ],
     "prompt_number": 51
    },
    {
     "cell_type": "code",
     "collapsed": false,
     "input": [
      "nano_stabs = dict(zip(nps,pair_stabs))\n",
      "\n",
      "nano_stabs"
     ],
     "language": "python",
     "metadata": {},
     "outputs": [
      {
       "metadata": {},
       "output_type": "pyout",
       "prompt_number": 44,
       "text": [
        "{frozenset({141, 143}): 25.555910498004323,\n",
        " frozenset({254, 261}): 25.492237127301451,\n",
        " frozenset({173, 184}): 25.588476884047395,\n",
        " frozenset({196, 206}): 25.560379818044566,\n",
        " frozenset({79, 80}): 25.575466057460744,\n",
        " frozenset({225, 236}): 25.506126144514383,\n",
        " frozenset({207, 220}): 25.512899274184292,\n",
        " frozenset({237, 247}): 25.622290660407998,\n",
        " frozenset({171, 182}): 25.516963746154943,\n",
        " frozenset({82, 105}): 25.603921523823828,\n",
        " frozenset({104, 120}): 25.196994659968823,\n",
        " frozenset({245, 254}): 25.60815308837573,\n",
        " frozenset({247, 256}): 25.570473581240094,\n",
        " frozenset({105, 108}): 25.199093822381656,\n",
        " frozenset({175, 187}): 25.506139059083125,\n",
        " frozenset({181, 191}): 25.560170350139288,\n",
        " frozenset({118, 119}): 25.539932055028657,\n",
        " frozenset({199, 213}): 25.530934062720917,\n",
        " frozenset({184, 196}): 25.508256271465143,\n",
        " frozenset({181, 193}): 25.542272285291801,\n",
        " frozenset({18, 45}): 25.468399607176707,\n",
        " frozenset({107, 129}): 25.283593231126815,\n",
        " frozenset({6, 13}): 25.521184990798247,\n",
        " frozenset({15, 16}): 25.525580055856608,\n",
        " frozenset({256, 263}): 25.490790666741759,\n",
        " frozenset({24, 25}): 25.520564124002703,\n",
        " frozenset({36, 57}): 25.556284950883764,\n",
        " frozenset({105, 126}): 25.283593231126815,\n",
        " frozenset({266, 269}): 25.490783944764644,\n",
        " frozenset({37, 38}): 25.568810028893949,\n",
        " frozenset({263, 267}): 25.72415457832858,\n",
        " frozenset({220, 233}): 25.506164699239434,\n",
        " frozenset({92, 116}): 25.555046187433163,\n",
        " frozenset({164, 173}): 25.516711942245365,\n",
        " frozenset({166, 175}): 25.512958118009919,\n",
        " frozenset({218, 228}): 25.506102197945438,\n",
        " frozenset({240, 250}): 25.570471649851243,\n",
        " frozenset({151, 158}): 25.560170350139288,\n",
        " frozenset({114, 149}): 25.520129251570779,\n",
        " frozenset({88, 98}): 25.505754409695328,\n",
        " frozenset({201, 216}): 25.506130442996891,\n",
        " frozenset({150, 157}): 25.50754684652884,\n",
        " frozenset({260, 264}): 25.62231632083467,\n",
        " frozenset({22, 28}): 25.596330168211352,\n",
        " frozenset({274, 275}): 24.680778248391107,\n",
        " frozenset({61, 62}): 25.48686297472932,\n",
        " frozenset({172, 182}): 25.555910498004323,\n",
        " frozenset({54, 87}): 25.523516088172528,\n",
        " frozenset({17, 43}): 25.468180301045777,\n",
        " frozenset({33, 56}): 25.55626180884974,\n",
        " frozenset({217, 230}): 25.622285483521864,\n",
        " frozenset({23, 26}): 25.565598540182236,\n",
        " frozenset({73, 90}): 25.504273320808352,\n",
        " frozenset({202, 217}): 25.492222627773572,\n",
        " frozenset({86, 101}): 25.486830699175243,\n",
        " frozenset({22, 41}): 25.468180301045777,\n",
        " frozenset({52, 70}): 25.521634748246015,\n",
        " frozenset({3, 4}): 25.580468936240777,\n",
        " frozenset({76, 92}): 25.504362035967006,\n",
        " frozenset({65, 77}): 25.590892768752383,\n",
        " frozenset({94, 118}): 25.554517393371043,\n",
        " frozenset({270, 271}): 24.680790661931042,\n",
        " frozenset({227, 238}): 25.622290660408908,\n",
        " frozenset({91, 113}): 25.555183029040109,\n",
        " frozenset({192, 204}): 25.512849196511979,\n",
        " frozenset({158, 167}): 25.512946481175277,\n",
        " frozenset({15, 37}): 25.49565977417069,\n",
        " frozenset({90, 115}): 25.555183029040109,\n",
        " frozenset({55, 76}): 25.522933374084005,\n",
        " frozenset({167, 176}): 25.506108010401022,\n",
        " frozenset({194, 209}): 25.555948284038095,\n",
        " frozenset({70, 87}): 25.582479592520485,\n",
        " frozenset({167, 177}): 25.593139442323718,\n",
        " frozenset({112, 140}): 25.51963529051045,\n",
        " frozenset({96, 114}): 25.554402714496064,\n",
        " frozenset({174, 185}): 25.549828720275855,\n",
        " frozenset({81, 86}): 25.574840393680915,\n",
        " frozenset({204, 219}): 25.506139138257367,\n",
        " frozenset({1, 2}): 25.558638849788167,\n",
        " frozenset({207, 222}): 25.548131693161395,\n",
        " frozenset({196, 210}): 25.542280985185698,\n",
        " frozenset({251, 272}): 25.149704222457785,\n",
        " frozenset({145, 147}): 25.55594828403855,\n",
        " frozenset({120, 126}): 24.620028003734205,\n",
        " frozenset({154, 162}): 25.516990952209198,\n",
        " frozenset({211, 224}): 25.556158174473694,\n",
        " frozenset({11, 12}): 25.522296683420336,\n",
        " frozenset({226, 236}): 25.608137213612281,\n",
        " frozenset({219, 231}): 25.571901000882008,\n",
        " frozenset({46, 66}): 25.508212003576318,\n",
        " frozenset({200, 214}): 25.553723786424143,\n",
        " frozenset({68, 84}): 25.613569403598376,\n",
        " frozenset({222, 234}): 25.512869236851657,\n",
        " frozenset({239, 250}): 25.622300720299336,\n",
        " frozenset({241, 251}): 25.724154578329035,\n",
        " frozenset({216, 229}): 25.492205992031359,\n",
        " frozenset({84, 102}): 25.498761117453341,\n",
        " frozenset({156, 164}): 25.543739119267684,\n",
        " frozenset({5, 8}): 25.523801034425105,\n",
        " frozenset({43, 64}): 25.515010144835742,\n",
        " frozenset({250, 259}): 25.490783944764644,\n",
        " frozenset({80, 106}): 25.467208957611092,\n",
        " frozenset({116, 117}): 25.539493043635048,\n",
        " frozenset({190, 204}): 25.593223760601632,\n",
        " frozenset({195, 209}): 25.50773489361427,\n",
        " frozenset({219, 232}): 25.530884095501278,\n",
        " frozenset({31, 52}): 25.557146057059526,\n",
        " frozenset({57, 58}): 25.533935815154109,\n",
        " frozenset({19, 23}): 25.558638849788167,\n",
        " frozenset({241, 271}): 25.149692778463304,\n",
        " frozenset({118, 183}): 25.519635290509996,\n",
        " frozenset({162, 169}): 25.508390540233449,\n",
        " frozenset({170, 180}): 25.542280985185698,\n",
        " frozenset({55, 59}): 25.533935815153654,\n",
        " frozenset({209, 224}): 25.549691228650317,\n",
        " frozenset({148, 154}): 25.544038894634468,\n",
        " frozenset({208, 223}): 25.588338400903467,\n",
        " frozenset({122, 123}): 24.666124903595119,\n",
        " frozenset({168, 177}): 25.512899274184747,\n",
        " frozenset({205, 220}): 25.593139442323263,\n",
        " frozenset({81, 103}): 25.498761117453341,\n",
        " frozenset({173, 180}): 25.508256271466053,\n",
        " frozenset({213, 225}): 25.571860669526814,\n",
        " frozenset({229, 240}): 25.622309028804011,\n",
        " frozenset({48, 63}): 25.508212003576773,\n",
        " frozenset({221, 232}): 25.506139138256458,\n",
        " frozenset({164, 174}): 25.556188272571944,\n",
        " frozenset({238, 248}): 25.49078777277191,\n",
        " frozenset({161, 170}): 25.508319537103034,\n",
        " frozenset({44, 68}): 25.515681889152347,\n",
        " frozenset({182, 194}): 25.543891935753436,\n",
        " frozenset({62, 81}): 25.613569403598831,\n",
        " frozenset({243, 252}): 25.506102863189881,\n",
        " frozenset({178, 190}): 25.512869236851202,\n",
        " frozenset({103, 121}): 25.170797711949035,\n",
        " frozenset({179, 191}): 25.548190415121553,\n",
        " frozenset({152, 160}): 25.508390540233904,\n",
        " frozenset({72, 95}): 25.507603488018503,\n",
        " frozenset({147, 153}): 25.51679249129802,\n",
        " frozenset({51, 74}): 25.523516088171618,\n",
        " frozenset({34, 51}): 25.555512350611025,\n",
        " frozenset({7, 32}): 25.50489061884582,\n",
        " frozenset({12, 31}): 25.50489061884582,\n",
        " frozenset({58, 71}): 25.521561497832863,\n",
        " frozenset({227, 237}): 25.496574335521927,\n",
        " frozenset({111, 142}): 25.520026205035265,\n",
        " frozenset({6, 28}): 25.561920739939069,\n",
        " frozenset({143, 147}): 25.543891935752526,\n",
        " frozenset({16, 21}): 25.525044189264918,\n",
        " frozenset({21, 27}): 25.525580055856608,\n",
        " frozenset({205, 213}): 25.506108010401022,\n",
        " frozenset({98, 111}): 25.554819400515953,\n",
        " frozenset({149, 155}): 25.584860836130702,\n",
        " frozenset({175, 186}): 25.593095273442486,\n",
        " frozenset({48, 49}): 25.588494731233823,\n",
        " frozenset({90, 92}): 25.557200613412078,\n",
        " frozenset({140, 141}): 25.508015418885861,\n",
        " frozenset({72, 74}): 25.582479592519576,\n",
        " frozenset({221, 234}): 25.593223760602541,\n",
        " frozenset({239, 249}): 25.496541472132321,\n",
        " frozenset({240, 251}): 25.49077934491288,\n",
        " frozenset({33, 36}): 25.565979297394279,\n",
        " frozenset({19, 20}): 25.53063392014019,\n",
        " frozenset({54, 56}): 25.534811744956642,\n",
        " frozenset({268, 275}): 25.149711250037853,\n",
        " frozenset({84, 85}): 25.57484039368137,\n",
        " frozenset({68, 69}): 25.48686297472932,\n",
        " frozenset({70, 96}): 25.507603488018049,\n",
        " frozenset({210, 222}): 25.56030942127154,\n",
        " frozenset({53, 75}): 25.521141328929389,\n",
        " frozenset({83, 104}): 25.467208957611092,\n",
        " frozenset({151, 159}): 25.542272285291801,\n",
        " frozenset({269, 276}): 25.149703694206437,\n",
        " frozenset({97, 98}): 25.556015984595888,\n",
        " frozenset({202, 215}): 25.608137213612281,\n",
        " frozenset({85, 100}): 25.486830699173879,\n",
        " frozenset({249, 258}): 25.62231632083467,\n",
        " frozenset({145, 150}): 25.549691228650317,\n",
        " frozenset({9, 10}): 25.562155977111161,\n",
        " frozenset({35, 53}): 25.556261808850195,\n",
        " frozenset({7, 12}): 25.581815048903536,\n",
        " frozenset({17, 18}): 25.596330168210898,\n",
        " frozenset({259, 265}): 25.724165924485987,\n",
        " frozenset({60, 79}): 25.558849060897501,\n",
        " frozenset({242, 249}): 25.49222609410208,\n",
        " frozenset({51, 53}): 25.534811744956642,\n",
        " frozenset({264, 268}): 25.490776463632301,\n",
        " frozenset({162, 171}): 25.588085795069219,\n",
        " frozenset({226, 237}): 25.492203547446934,\n",
        " frozenset({246, 255}): 25.496561861531518,\n",
        " frozenset({244, 253}): 25.571907785350049,\n",
        " frozenset({252, 260}): 25.492226094101625,\n",
        " frozenset({63, 66}): 25.486879958220925,\n",
        " frozenset({41, 43}): 25.561426605859651,\n",
        " frozenset({21, 22}): 25.562688520593383,\n",
        " frozenset({246, 256}): 25.622285483521864,\n",
        " frozenset({235, 245}): 25.506130442996437,\n",
        " frozenset({32, 34}): 25.559398532472642,\n",
        " frozenset({140, 142}): 25.585291466153649,\n",
        " frozenset({50, 72}): 25.52163474824647,\n",
        " frozenset({1, 42}): 25.511673646272357,\n",
        " frozenset({60, 64}): 25.508195558878469,\n",
        " frozenset({19, 29}): 25.526839726685466,\n",
        " frozenset({146, 152}): 25.588085795069674,\n",
        " frozenset({109, 128}): 12.538920825948026,\n",
        " frozenset({93, 117}): 25.554819400515953,\n",
        " frozenset({193, 208}): 25.508307510277973,\n",
        " frozenset({75, 76}): 25.583418670208175,\n",
        " frozenset({230, 238}): 25.570473581240094,\n",
        " frozenset({185, 198}): 25.507402317108244,\n",
        " frozenset({217, 229}): 25.496561861531973,\n",
        " frozenset({268, 269}): 25.724165924485533,\n",
        " frozenset({79, 107}): 25.603921523823374,\n",
        " frozenset({10, 11}): 25.567165362024298,\n",
        " frozenset({199, 214}): 25.571823726274488,\n",
        " frozenset({214, 226}): 25.506143478577087,\n",
        " frozenset({146, 151}): 25.508437499838237,\n",
        " frozenset({67, 82}): 25.558849060897501,\n",
        " frozenset({41, 65}): 25.515010144835287,\n",
        " frozenset({163, 172}): 25.549427088150424,\n",
        " frozenset({102, 122}): 25.17079771194949,\n",
        " frozenset({106, 125}): 25.196994659968368,\n",
        " frozenset({211, 223}): 25.516811066331684,\n",
        " frozenset({194, 208}): 25.516792491297565,\n",
        " frozenset({259, 273}): 25.149703694207801,\n",
        " frozenset({35, 39}): 25.565979297394279,\n",
        " frozenset({93, 94}): 25.556015984595888,\n",
        " frozenset({184, 197}): 25.516711942246275,\n",
        " frozenset({171, 181}): 25.508437499838237,\n",
        " frozenset({165, 174}): 25.507402317108699,\n",
        " frozenset({77, 108}): 24.928645202299776,\n",
        " frozenset({210, 223}): 25.508319537102579,\n",
        " frozenset({28, 40}): 25.468399607176252,\n",
        " frozenset({20, 24}): 25.580468936240322,\n",
        " frozenset({192, 206}): 25.548101820731972,\n",
        " frozenset({44, 46}): 25.588494731234732,\n",
        " frozenset({153, 161}): 25.588338400903467,\n",
        " frozenset({253, 254}): 25.506102197945893,\n",
        " frozenset({236, 246}): 25.492222627774481,\n",
        " frozenset({203, 218}): 25.57190778534914,\n",
        " frozenset({265, 274}): 25.149711250037853,\n",
        " frozenset({153, 159}): 25.508307510278428,\n",
        " frozenset({248, 257}): 25.72414751219776,\n",
        " frozenset({40, 42}): 25.573772758029918,\n",
        " frozenset({193, 207}): 25.560313437377317,\n",
        " frozenset({0, 5}): 25.568819581885691,\n",
        " frozenset({159, 168}): 25.560313437377317,\n",
        " frozenset({27, 38}): 25.49565977417069,\n",
        " frozenset({77, 78}): 25.857093943418022,\n",
        " frozenset({198, 212}): 25.585817127061546,\n",
        " frozenset({95, 119}): 25.554402714495609,\n",
        " frozenset({143, 146}): 25.516963746154488,\n",
        " frozenset({39, 55}): 25.556284950883764,\n",
        " frozenset({177, 189}): 25.506164699240344,\n",
        " frozenset({141, 144}): 25.549427088150424,\n",
        " frozenset({11, 25}): 25.523801034425105,\n",
        " frozenset({110, 111}): 25.539493043635503,\n",
        " frozenset({117, 195}): 25.520026205035265,\n",
        " frozenset({170, 178}): 25.560309421271086,\n",
        " frozenset({188, 201}): 25.55371564107827,\n",
        " frozenset({26, 49}): 25.495490813375909,\n",
        " frozenset({255, 262}): 25.622309028804921,\n",
        " frozenset({112, 114}): 25.539932055029112,\n",
        " frozenset({218, 231}): 25.553701944861132,\n",
        " frozenset({267, 277}): 25.149704222457785,\n",
        " frozenset({262, 267}): 25.49077934491288,\n",
        " frozenset({258, 265}): 25.490776463631846,\n",
        " frozenset({228, 239}): 25.492237127300996,\n",
        " frozenset({176, 187}): 25.530934062720917,\n",
        " frozenset({102, 104}): 25.679588259107732,\n",
        " frozenset({71, 73}): 25.58405764821282,\n",
        " frozenset({50, 52}): 25.534494267504215,\n",
        " frozenset({125, 129}): 24.620028003734205,\n",
        " frozenset({2, 6}): 25.526839726685012,\n",
        " frozenset({127, 128}): 0.0,\n",
        " frozenset({168, 178}): 25.548131693162304,\n",
        " frozenset({160, 166}): 25.560178956251093,\n",
        " frozenset({18, 29}): 25.561920739939069,\n",
        " frozenset({38, 59}): 25.556873849324347,\n",
        " frozenset({245, 255}): 25.492205992031359,\n",
        " frozenset({74, 94}): 25.505934347489983,\n",
        " frozenset({59, 73}): 25.521561497832863,\n",
        " frozenset({116, 212}): 25.519395528333462,\n",
        " frozenset({45, 60}): 25.568795261523064,\n",
        " frozenset({45, 47}): 25.573772758030373,\n",
        " frozenset({183, 195}): 25.585291466153649,\n",
        " frozenset({190, 203}): 25.506113487594121,\n",
        " frozenset({61, 80}): 25.620930852299352,\n",
        " frozenset({9, 46}): 25.503374430883923,\n",
        " frozenset({215, 227}): 25.492203547446934,\n",
        " frozenset({88, 89}): 25.583418670208175,\n",
        " frozenset({40, 67}): 25.568795261524428,\n",
        " frozenset({23, 47}): 25.511673646272811,\n",
        " frozenset({4, 5}): 25.520564124003158,\n",
        " frozenset({4, 34}): 25.507317158710521,\n",
        " frozenset({100, 101}): 25.704714073640389,\n",
        " frozenset({243, 253}): 25.553701944860222,\n",
        " frozenset({66, 85}): 25.621261207007592,\n",
        " frozenset({278, 279}): 24.680790661931042,\n",
        " frozenset({8, 9}): 25.567165362023843,\n",
        " frozenset({95, 96}): 25.554669888520493,\n",
        " frozenset({186, 199}): 25.506139059083125,\n",
        " frozenset({169, 179}): 25.560178956252003,\n",
        " frozenset({0, 44}): 25.495490813375909,\n",
        " frozenset({144, 149}): 25.50823104119354,\n",
        " frozenset({10, 48}): 25.503374430883923,\n",
        " frozenset({3, 35}): 25.498401710881353,\n",
        " frozenset({225, 235}): 25.553715641077815,\n",
        " frozenset({0, 1}): 25.565598540182236,\n",
        " frozenset({230, 241}): 25.49079066674085,\n",
        " frozenset({234, 244}): 25.506113487593211,\n",
        " frozenset({187, 200}): 25.571823726274488,\n",
        " frozenset({216, 228}): 25.60815308837573,\n",
        " frozenset({157, 165}): 25.585817127061546,\n",
        " frozenset({65, 67}): 25.508195558878015,\n",
        " frozenset({263, 278}): 25.149692778463304,\n",
        " frozenset({69, 83}): 25.620930852298898,\n",
        " frozenset({261, 266}): 25.622300720300245,\n",
        " frozenset({91, 99}): 25.557200613412078,\n",
        " frozenset({158, 166}): 25.548190415122463,\n",
        " frozenset({233, 235}): 25.571846847495181,\n",
        " frozenset({172, 183}): 25.508015418885861,\n",
        " frozenset({115, 198}): 25.519606094409482,\n",
        " frozenset({154, 163}): 25.55568044844631,\n",
        " frozenset({42, 69}): 25.51322179857425,\n",
        " frozenset({56, 88}): 25.521141328929843,\n",
        " frozenset({16, 17}): 25.562688520593383,\n",
        " frozenset({13, 39}): 25.498891486687171,\n",
        " frozenset({144, 148}): 25.555680448445401,\n",
        " frozenset({258, 264}): 25.570470332191235,\n",
        " frozenset({180, 192}): 25.560379818044566,\n",
        " frozenset({121, 124}): 24.666124903594664,\n",
        " frozenset({262, 266}): 25.570471649851697,\n",
        " frozenset({87, 97}): 25.505934347489529,\n",
        " frozenset({119, 155}): 25.520129251570324,\n",
        " frozenset({189, 203}): 25.530898840200734,\n",
        " frozenset({231, 242}): 25.506102863189426,\n",
        " frozenset({30, 54}): 25.55551235061148,\n",
        " frozenset({14, 29}): 25.521184990797792,\n",
        " frozenset({242, 252}): 25.608166260824419,\n",
        " frozenset({14, 36}): 25.498891486687171,\n",
        " frozenset({47, 61}): 25.513221798575614,\n",
        " frozenset({25, 26}): 25.568819581885236,\n",
        " frozenset({71, 91}): 25.504273320807897,\n",
        " frozenset({30, 31}): 25.559398532473097,\n",
        " frozenset({176, 188}): 25.571860669527268,\n",
        " frozenset({272, 273}): 24.680783193982734,\n",
        " frozenset({57, 89}): 25.52293337408355,\n",
        " frozenset({185, 197}): 25.556188272572399,\n",
        " frozenset({160, 169}): 25.542297540738673,\n",
        " frozenset({188, 202}): 25.506126144514838,\n",
        " frozenset({24, 30}): 25.507317158709611,\n",
        " frozenset({148, 152}): 25.516990952209653,\n",
        " frozenset({232, 243}): 25.571901000881553,\n",
        " frozenset({179, 186}): 25.512958118009919,\n",
        " frozenset({13, 27}): 25.581982880049964,\n",
        " frozenset({97, 112}): 25.554517393371043,\n",
        " frozenset({2, 3}): 25.530633920139735,\n",
        " frozenset({14, 15}): 25.581982880051328,\n",
        " frozenset({99, 110}): 25.555046187434073,\n",
        " frozenset({89, 99}): 25.504362035967461,\n",
        " frozenset({75, 93}): 25.505754409694873,\n",
        " frozenset({150, 156}): 25.556158174472785,\n",
        " frozenset({37, 58}): 25.556873849323893,\n",
        " frozenset({191, 205}): 25.512946481174367,\n",
        " frozenset({82, 83}): 25.575466057461199,\n",
        " frozenset({113, 115}): 25.539276987648464,\n",
        " frozenset({189, 201}): 25.571846847495181,\n",
        " frozenset({197, 211}): 25.543739119267229,\n",
        " frozenset({156, 161}): 25.516811066333048,\n",
        " frozenset({247, 257}): 25.490787772771455,\n",
        " frozenset({7, 8}): 25.522296683420791,\n",
        " frozenset({233, 244}): 25.530898840200734,\n",
        " frozenset({78, 109}): 24.928645202299322,\n",
        " frozenset({276, 277}): 24.680783193982734,\n",
        " frozenset({107, 109}): 25.199093822381656,\n",
        " frozenset({63, 86}): 25.621261207007592,\n",
        " frozenset({257, 279}): 25.149693095701423,\n",
        " frozenset({142, 145}): 25.507734893613815,\n",
        " frozenset({108, 127}): 12.538920825947571,\n",
        " frozenset({64, 78}): 25.590892768752838,\n",
        " frozenset({100, 123}): 25.165123070357822,\n",
        " frozenset({49, 62}): 25.515681889152802,\n",
        " frozenset({110, 157}): 25.519395528333007,\n",
        " frozenset({20, 33}): 25.498401710882263,\n",
        " frozenset({200, 215}): 25.506143478577997,\n",
        " frozenset({206, 221}): 25.512849196511979,\n",
        " frozenset({248, 270}): 25.149693095702332,\n",
        " frozenset({32, 50}): 25.557146057058617,\n",
        " frozenset({212, 224}): 25.50754684652884,\n",
        " frozenset({155, 163}): 25.50823104119263,\n",
        " frozenset({103, 106}): 25.679588259107732,\n",
        " frozenset({101, 124}): 25.165123070356913,\n",
        " frozenset({113, 165}): 25.519606094410392,\n",
        " frozenset({260, 261}): 25.496541472130957}"
       ]
      }
     ],
     "prompt_number": 44
    },
    {
     "cell_type": "code",
     "collapsed": false,
     "input": [
      "#%%prun\n",
      "import time\n",
      "\n",
      "def long_test():\n",
      "    g=GraphFrags(m_flake2)\n",
      "    r=g.get_rings(10)[-1]\n",
      "    g.set_base_frag([r])\n",
      "    it = g.gen_fragments()\n",
      "\n",
      "    init_time = time.mktime(time.localtime())\n",
      "    times = [0.0]\n",
      "\n",
      "    max_size = 0\n",
      "    count=0\n",
      "    for f in it:\n",
      "        count+=1\n",
      "        if len(f) > max_size:\n",
      "            max_size = len(f)\n",
      "            new_time = time.mktime(time.localtime()) - init_time\n",
      "            times.append(new_time - times[-1])\n",
      "            print(new_time, max_size, count)\n",
      "        \n",
      "    return count,times\n",
      " \n",
      "count, times = long_test()\n",
      "#print(count,sum(times) / 60)\n",
      "#plot(times)"
     ],
     "language": "python",
     "metadata": {},
     "outputs": [
      {
       "output_type": "stream",
       "stream": "stdout",
       "text": [
        "(0.0, 1, 1)\n",
        "(0.0, 2, 2)\n",
        "(0.0, 3, 8)\n",
        "(0.0, 4, 23)\n",
        "(0.0, 5, 43)\n",
        "(0.0, 6, 58)\n",
        "(0.0, 7, 64)\n",
        "(0.0, 8, 143)\n",
        "(0.0, 9, 195)\n",
        "(0.0, 10, 200)\n",
        "(0.0, 11, 389)\n",
        "(0.0, 12, 968)"
       ]
      },
      {
       "output_type": "stream",
       "stream": "stdout",
       "text": [
        "\n",
        "(0.0, 13, 1037)\n",
        "(0.0, 14, 2298)"
       ]
      },
      {
       "output_type": "stream",
       "stream": "stdout",
       "text": [
        "\n",
        "(0.0, 15, 5704)"
       ]
      },
      {
       "output_type": "stream",
       "stream": "stdout",
       "text": [
        "\n",
        "(0.0, 16, 5842)\n",
        "(0.0, 17, 9406)"
       ]
      },
      {
       "output_type": "stream",
       "stream": "stdout",
       "text": [
        "\n",
        "(1.0, 18, 16448)"
       ]
      },
      {
       "output_type": "stream",
       "stream": "stdout",
       "text": [
        "\n",
        "(2.0, 19, 21076)"
       ]
      },
      {
       "output_type": "stream",
       "stream": "stdout",
       "text": [
        "\n"
       ]
      }
     ],
     "prompt_number": 54
    },
    {
     "cell_type": "code",
     "collapsed": false,
     "input": [
      "%%timeit\n",
      "list_lists = [[i,j,k] for i in range(10) for j in range(10) for k in range(10)]\n",
      "new_list_lists = []\n",
      "orig = [0,0,1]\n",
      "for l in list_lists:\n",
      "    new_list_lists.append([e for e in orig + l])        "
     ],
     "language": "python",
     "metadata": {},
     "outputs": [
      {
       "output_type": "stream",
       "stream": "stdout",
       "text": [
        "1000 loops, best of 3: 1.3 ms per loop\n"
       ]
      }
     ],
     "prompt_number": 55
    },
    {
     "cell_type": "code",
     "collapsed": false,
     "input": [
      "%%prun\n",
      "g=GraphFrags(m_flake2)\n",
      "r=g.get_rings(10)[-1]\n",
      "g.set_base_frag([r])\n",
      "it=g.gen_fragments()\n",
      "frags=list(it)\n",
      "len(frags)"
     ],
     "language": "python",
     "metadata": {},
     "outputs": [
      {
       "output_type": "stream",
       "stream": "stdout",
       "text": [
        " "
       ]
      }
     ],
     "prompt_number": 56
    },
    {
     "cell_type": "code",
     "collapsed": false,
     "input": [
      "g=GraphFrags(m_33_test)\n",
      "r=g.get_rings(10)[-1]\n",
      "g.set_base_frag([r])\n",
      "it=g.gen_fragments()\n",
      "frags=list(it)\n",
      "len(frags)"
     ],
     "language": "python",
     "metadata": {},
     "outputs": [
      {
       "metadata": {},
       "output_type": "pyout",
       "prompt_number": 57,
       "text": [
        "112"
       ]
      }
     ],
     "prompt_number": 57
    },
    {
     "cell_type": "code",
     "collapsed": false,
     "input": [
      "#%prun\n",
      "central_pair = set([11,12])\n",
      "get_atoms_stability(frags[-1], central_pair, g.master)"
     ],
     "language": "python",
     "metadata": {},
     "outputs": [
      {
       "metadata": {},
       "output_type": "pyout",
       "prompt_number": 58,
       "text": [
        "25.518101628268539"
       ]
      }
     ],
     "prompt_number": 58
    },
    {
     "cell_type": "code",
     "collapsed": false,
     "input": [
      "from itertools import izip, tee\n",
      "from itertools import islice, chain\n",
      "from multiprocessing.pool import Pool"
     ],
     "language": "python",
     "metadata": {},
     "outputs": [],
     "prompt_number": 59
    },
    {
     "cell_type": "code",
     "collapsed": false,
     "input": [
      "def view_frag(master, frag):\n",
      "    fragment = list(unwind(frag))\n",
      "    low = [i for i in range(len(master)) if i not in fragment]\n",
      "    params={'spacefill':('off', low)}\n",
      "    return view_jmol(master, label=True,width=500,height=400, params=[params])"
     ],
     "language": "python",
     "metadata": {},
     "outputs": [],
     "prompt_number": 60
    },
    {
     "cell_type": "code",
     "collapsed": false,
     "input": [
      "def batch(iterable, size):\n",
      "    sourceiter = iter(iterable)\n",
      "    while True:\n",
      "        batchiter = islice(sourceiter, size)\n",
      "        yield chain([batchiter.next()], batchiter)"
     ],
     "language": "python",
     "metadata": {},
     "outputs": [],
     "prompt_number": 61
    },
    {
     "cell_type": "code",
     "collapsed": false,
     "input": [
      "color_by_h_reactivity(base_frag2)"
     ],
     "language": "python",
     "metadata": {},
     "outputs": [
      {
       "html": [
        "<div style=float:left><div id='applet_div_id_3873422437427'></div></div>\n",
        "<script type=\"text/Javascript\">//initialisation\n",
        "    var Info = {\n",
        "        color: \"#FFFFFF\",\n",
        "        width: 500,\n",
        "        height: 500,\n",
        "        serverURL: \"/nbextensions/jsmol/jsmol.php \",\n",
        "        use: \"HTML5\",\n",
        "        j2sPath: \"/nbextensions/jsmol/j2s\",\n",
        "        console: \"jmolApplet0_infodiv\"\n",
        "    }\n",
        "    //prevent applet from immediately generating html - allows us to place the applet in the div we wish\n",
        "    Jmol.setDocument(0)\n",
        "    //start applet\n",
        "    applet_id_3873422437427 = Jmol.getApplet(\"applet_id_3873422437427\", Info)\n",
        "    //insert applet html into applet_div_id_3873422437427\n",
        "    $(\"#applet_div_id_3873422437427\").html(Jmol.getAppletHtml(applet_id_3873422437427))\n",
        "    //execute scripts\n",
        "    Jmol.script(applet_id_3873422437427,\"load similarity_search/temp_atoms_0.xyz; select all; set echo echoname 50% 90%; font echo 25; echo temp_atoms_0;select atomno=2, atomno=12; connect single; color bonds [3.08753023148e-13 0 0];select atomno=21, atomno=22; connect single; color bonds [0.275423273842 0 0];select atomno=41, atomno=30; connect single; color bonds [0.885204072125 0 0];select atomno=9, atomno=1; connect single; color bonds [0.885204072126 0 0];select atomno=53, atomno=46; connect single; color bonds [0.47407632472 0 0];select atomno=2, atomno=3; connect single; color bonds [0.47407632472 0 0];select atomno=7, atomno=8; connect single; color bonds [1.0 0 0];select atomno=9, atomno=10; connect single; color bonds [0.0 0 0];select atomno=46, atomno=47; connect single; color bonds [6.17839113204e-13 0 0];select atomno=17, atomno=16; connect single; color bonds [0.47407632472 0 0];select atomno=51, atomno=52; connect single; color bonds [0.47407632472 0 0];select atomno=26, atomno=37; connect single; color bonds [0.288787691318 0 0];select atomno=11, atomno=24; connect single; color bonds [0.0831973509321 0 0];select atomno=10, atomno=11; connect single; color bonds [0.275423273842 0 0];select atomno=27, atomno=40; connect single; color bonds [0.275423273842 0 0];select atomno=29, atomno=30; connect single; color bonds [0.885204072126 0 0];select atomno=36, atomno=23; connect single; color bonds [0.288787691318 0 0];select atomno=18, atomno=29; connect single; color bonds [0.47407632472 0 0];select atomno=42, atomno=52; connect single; color bonds [1.0 0 0];select atomno=53, atomno=54; connect single; color bonds [1.0 0 0];select atomno=49, atomno=50; connect single; color bonds [0.885204072126 0 0];select atomno=51, atomno=39; connect single; color bonds [9.26592136352e-13 0 0];select atomno=4, atomno=5; connect single; color bonds [0.47407632472 0 0];select atomno=6, atomno=16; connect single; color bonds [0.885204072125 0 0];select atomno=25, atomno=14; connect single; color bonds [0.0831973509318 0 0];select atomno=50, atomno=51; connect single; color bonds [0.885204072125 0 0];select atomno=27, atomno=28; connect single; color bonds [0.275423273842 0 0];select atomno=41, atomno=42; connect single; color bonds [0.47407632472 0 0];select atomno=12, atomno=13; connect single; color bonds [0.237841087487 0 0];select atomno=10, atomno=21; connect single; color bonds [0.237841087487 0 0];select atomno=25, atomno=24; connect single; color bonds [0.288787691318 0 0];select atomno=19, atomno=32; connect single; color bonds [0.885204072125 0 0];select atomno=45, atomno=46; connect single; color bonds [0.885204072125 0 0];select atomno=3, atomno=4; connect single; color bonds [1.0 0 0];select atomno=15, atomno=16; connect single; color bonds [3.08753023148e-13 0 0];select atomno=20, atomno=7; connect single; color bonds [0.47407632472 0 0];select atomno=1, atomno=2; connect single; color bonds [0.885204072126 0 0];select atomno=34, atomno=44; connect single; color bonds [9.26592136352e-13 0 0];select atomno=37, atomno=38; connect single; color bonds [0.0831973509321 0 0];select atomno=23, atomno=24; connect single; color bonds [0.288787691318 0 0];select atomno=49, atomno=48; connect single; color bonds [9.26592136352e-13 0 0];select atomno=47, atomno=48; connect single; color bonds [0.237841087487 0 0];select atomno=44, atomno=45; connect single; color bonds [0.885204072126 0 0];select atomno=39, atomno=40; connect single; color bonds [0.237841087487 0 0];select atomno=13, atomno=14; connect single; color bonds [0.275423273842 0 0];select atomno=33, atomno=34; connect single; color bonds [0.237841087487 0 0];select atomno=43, atomno=44; connect single; color bonds [0.47407632472 0 0];select atomno=11, atomno=12; connect single; color bonds [0.275423273842 0 0];select atomno=13, atomno=5; connect single; color bonds [3.08753023148e-13 0 0];select atomno=28, atomno=15; connect single; color bonds [0.237841087487 0 0];select atomno=38, atomno=39; connect single; color bonds [0.275423273842 0 0];select atomno=14, atomno=15; connect single; color bonds [0.275423273842 0 0];select atomno=43, atomno=31; connect single; color bonds [1.0 0 0];select atomno=31, atomno=32; connect single; color bonds [0.47407632472 0 0];select atomno=35, atomno=36; connect single; color bonds [0.0831973509321 0 0];select atomno=20, atomno=21; connect single; color bonds [9.26592136352e-13 0 0];select atomno=35, atomno=47; connect single; color bonds [0.275423273842 0 0];select atomno=33, atomno=22; connect single; color bonds [0.275423273842 0 0];select atomno=34, atomno=35; connect single; color bonds [0.275423273842 0 0];select atomno=41, atomno=40; connect single; color bonds [9.26592136352e-13 0 0];select atomno=33, atomno=32; connect single; color bonds [3.08753023148e-13 0 0];select atomno=38, atomno=48; connect single; color bonds [0.275423273842 0 0];select atomno=22, atomno=23; connect single; color bonds [0.0831973509318 0 0];select atomno=26, atomno=27; connect single; color bonds [0.0831973509324 0 0];select atomno=28, atomno=29; connect single; color bonds [3.08753023148e-13 0 0];select atomno=25, atomno=26; connect single; color bonds [0.288787691318 0 0];select atomno=9, atomno=8; connect single; color bonds [0.47407632472 0 0];select atomno=19, atomno=20; connect single; color bonds [0.885204072125 0 0];select atomno=36, atomno=37; connect single; color bonds [0.288787691318 0 0];select atomno=49, atomno=54; connect single; color bonds [0.47407632472 0 0];select atomno=17, atomno=18; connect single; color bonds [1.0 0 0];select atomno=5, atomno=6; connect single; color bonds [0.885204072125 0 0];; set frank off; sync . SLAVE;\")</script>"
       ],
       "metadata": {},
       "output_type": "pyout",
       "prompt_number": 62,
       "text": [
        "<IPython.core.display.HTML at 0x7f21956b7f10>"
       ]
      }
     ],
     "prompt_number": 62
    },
    {
     "cell_type": "code",
     "collapsed": false,
     "input": [
      "view_jmol(base_frag2, label=True, width=600, height=500)"
     ],
     "language": "python",
     "metadata": {},
     "outputs": [
      {
       "html": [
        "<div style=float:left><div id='applet_div_id_5947149368618'></div></div>\n",
        "<script type=\"text/Javascript\">//initialisation\n",
        "    var Info = {\n",
        "        color: \"#FFFFFF\",\n",
        "        width: 600,\n",
        "        height: 500,\n",
        "        serverURL: \"/nbextensions/jsmol/jsmol.php \",\n",
        "        use: \"HTML5\",\n",
        "        j2sPath: \"/nbextensions/jsmol/j2s\",\n",
        "        console: \"jmolApplet0_infodiv\"\n",
        "    }\n",
        "    //prevent applet from immediately generating html - allows us to place the applet in the div we wish\n",
        "    Jmol.setDocument(0)\n",
        "    //start applet\n",
        "    applet_id_5947149368618 = Jmol.getApplet(\"applet_id_5947149368618\", Info)\n",
        "    //insert applet html into applet_div_id_5947149368618\n",
        "    $(\"#applet_div_id_5947149368618\").html(Jmol.getAppletHtml(applet_id_5947149368618))\n",
        "    //execute scripts\n",
        "    Jmol.script(applet_id_5947149368618,\"load similarity_search/temp_atoms.xyz; select all; label %[atomNo]; font label 15;set echo echoname 50% 90%; font echo 30; echo temp_atoms;; set frank off; sync . SLAVE;\")</script>"
       ],
       "metadata": {},
       "output_type": "pyout",
       "prompt_number": 63,
       "text": [
        "<IPython.core.display.HTML at 0x7f2194cbd7d0>"
       ]
      }
     ],
     "prompt_number": 63
    },
    {
     "cell_type": "code",
     "collapsed": false,
     "input": [
      "%%prun\n",
      "mol = m_flake2\n",
      "g=GraphFrags(mol)\n",
      "r=g.get_rings(10)[-1]\n",
      "g.set_base_frag([r])\n",
      "frags1, frags2 = tee(g.gen_fragments())\n",
      "chunk_it=batch(frags1, 2000)\n",
      "central_pair = set([11,12])\n",
      "central_triads = [{11,12,1}, {11,12,4}, {11,12,10}, {11,12,13}]\n",
      "\n",
      "\n",
      "#def mod_pairs(frag):\n",
      "#    return get_atoms_stability(frag, set_atoms=central_pair, master=g.master)\n",
      "\n",
      "def mod_e(frag):\n",
      "    return [get_atoms_stability(frag, set_atoms=t, master=g.master) for t in [central_pair] + central_triads]\n",
      "\n",
      "#def parallel_pair_e_it(chunk_it):\n",
      "#    p = Pool(4)\n",
      "#    for chunk in chunk_it:\n",
      "#        for pair_e in p.map(mod_pairs, chunk):\n",
      "#            yield pair_e\n",
      "#    p.close()\n",
      "\n",
      "def parallel_e_it(chunk_it):\n",
      "    p = Pool(4)\n",
      "    for chunk in chunk_it:\n",
      "        for pair_es in p.map(mod_e, chunk):\n",
      "            yield pair_es\n",
      "    p.close()\n",
      "    \n",
      "master_no_atoms = len(mol.numbers)\n",
      "pair_es = parallel_e_it(chunk_it)\n",
      "\n",
      "max_length = 100\n",
      "\n",
      "def accuracy(pair_e):\n",
      "    #return 1/(1+abs(pair_e[0] - 25.54872916870886))\n",
      "    pair_e_alone = pair_e[0]\n",
      "    triad_es = pair_e[1:]\n",
      "\n",
      "    full_frag_pair_e = 25.54872916870886 \n",
      "    full_frag_triad_es = [38.278596209832926, 38.278596209832926, 38.186363066066747, 38.186363066066633]\n",
      "    \n",
      "    pair_e_error = pair_e_alone - full_frag_pair_e \n",
      "    triad_e_errors = [triad_es[i] - full_frag_triad_es[i] for i in range(len(triad_es))]\n",
      "\n",
      "    pair_accuracy = 1/(1+abs(pair_e_error))\n",
      "    triad_accuracies = [1/(1+abs(t_e)) for t_e in triad_e_errors]\n",
      "    \n",
      "    return 0.8 * pair_accuracy + 0.2 * mean(triad_accuracies)\n",
      "\n",
      "best = [[(0,((0,),((0,))))] for k in range(1,master_no_atoms+1)]\n",
      "worst = [[(1,((0,),((0,))))] for k in range(1,master_no_atoms+1)]\n",
      "\n",
      "n_frags=0\n",
      "for pair_e, frag in izip(pair_es, frags2):\n",
      "    n_frags+=1\n",
      "    ac = accuracy(pair_e)\n",
      "    no_c = len(frozenset(unwind(frag)))\n",
      "                  \n",
      "    if ac > best[no_c][-1][0]:\n",
      "        if len(best[no_c]) >= max_length:\n",
      "            best[no_c].pop()\n",
      "        best[no_c].append((ac, frag))\n",
      "        best[no_c].sort(key=lambda e: e[0],reverse=True)\n",
      "        \n",
      "    if ac < worst[no_c][-1][0]:\n",
      "        if len(worst[no_c]) >= max_length:\n",
      "            worst[no_c].pop()\n",
      "        worst[no_c].append((ac, frag))\n",
      "        worst[no_c].sort(key=lambda e: e[0])"
     ],
     "language": "python",
     "metadata": {},
     "outputs": [
      {
       "output_type": "stream",
       "stream": "stdout",
       "text": [
        " "
       ]
      }
     ],
     "prompt_number": 64
    },
    {
     "cell_type": "code",
     "collapsed": false,
     "input": [
      "n_frags"
     ],
     "language": "python",
     "metadata": {},
     "outputs": [
      {
       "metadata": {},
       "output_type": "pyout",
       "prompt_number": 65,
       "text": [
        "21076"
       ]
      }
     ],
     "prompt_number": 65
    },
    {
     "cell_type": "code",
     "collapsed": false,
     "input": [
      "%%timeit \n",
      "huckel_e(best[24][0][1],g.master)"
     ],
     "language": "python",
     "metadata": {},
     "outputs": [
      {
       "output_type": "stream",
       "stream": "stdout",
       "text": [
        "1000 loops, best of 3: 926 \u00b5s per loop\n"
       ]
      }
     ],
     "prompt_number": 66
    },
    {
     "cell_type": "code",
     "collapsed": false,
     "input": [
      "ase_frag = frag_to_ase(best[24][0][1], base_frag2)\n",
      "ase_frag.set_calculator(Gaussian(label='test_frag', method='AM1'))\n",
      "ase_frag.calc.set_job(nodes=1, memory=2000, time=1, version='user_g09')\n",
      "ase_frag.calc.scratch_folder = '/home/clyde/Project/Notebooks'\n",
      "#ase_frag.calc.start()\n",
      "#!g09 test_frag.com test_frag.log"
     ],
     "language": "python",
     "metadata": {},
     "outputs": [],
     "prompt_number": 67
    },
    {
     "cell_type": "code",
     "collapsed": false,
     "input": [
      "mols_to_html([ase_frag])"
     ],
     "language": "python",
     "metadata": {},
     "outputs": [
      {
       "html": [
        "\n",
        "    <style>\n",
        "    table\n",
        "    {\n",
        "        border-collapse:collapse;\n",
        "    }\n",
        "    td\n",
        "    {\n",
        "        padding:15px;\n",
        "    }\n",
        "    </style>\n",
        "    <body>\n",
        "    <table bgcolor=\"white\">\n",
        "    <col/><tr><td>test_frag</td><td><input type=\"button\" value=\"Smart Log\" id=\"test_frag\" onclick=\"IPython.cc_notebook.view_function(event, this.id)\" /></td><td>Success</td></tr>\n",
        "    </table>\n",
        "    </body>"
       ],
       "metadata": {},
       "output_type": "pyout",
       "prompt_number": 68,
       "text": [
        "<IPython.core.display.HTML at 0x7f2194c8d850>"
       ]
      }
     ],
     "prompt_number": 68
    },
    {
     "cell_type": "markdown",
     "metadata": {},
     "source": [
      "AM1 takes ~1.5 seconds"
     ]
    },
    {
     "cell_type": "code",
     "collapsed": false,
     "input": [
      "from PyQuante import SCF, Molecule\n",
      "\n",
      "py_frag = Molecule('fragment', zip(ase_frag.get_atomic_numbers(), ase_frag.get_positions()), units='angstrom')\n",
      "\n",
      "frag_mindo3 = SCF(py_frag,method=\"MINDO3\")"
     ],
     "language": "python",
     "metadata": {},
     "outputs": [],
     "prompt_number": 120
    },
    {
     "cell_type": "code",
     "collapsed": false,
     "input": [
      "%%timeit\n",
      "frag_mindo3.iterate()"
     ],
     "language": "python",
     "metadata": {},
     "outputs": [
      {
       "output_type": "stream",
       "stream": "stdout",
       "text": [
        "10 loops, best of 3: 73.5 ms per loop\n"
       ]
      }
     ],
     "prompt_number": 114
    },
    {
     "cell_type": "code",
     "collapsed": false,
     "input": [],
     "language": "python",
     "metadata": {},
     "outputs": [],
     "prompt_number": 123
    },
    {
     "cell_type": "code",
     "collapsed": false,
     "input": [
      "#[(i,len(best[i]), best[i][0][0]-1) for i in range(len(best))]\n",
      "len([n for n in mol.numbers if n != 1])"
     ],
     "language": "python",
     "metadata": {},
     "outputs": [
      {
       "metadata": {},
       "output_type": "pyout",
       "prompt_number": 23,
       "text": [
        "54"
       ]
      }
     ],
     "prompt_number": 23
    },
    {
     "cell_type": "code",
     "collapsed": false,
     "input": [
      "#[(b[0][0],i) for i,b in enumerate(best)]"
     ],
     "language": "python",
     "metadata": {},
     "outputs": [],
     "prompt_number": 90
    },
    {
     "cell_type": "code",
     "collapsed": false,
     "input": [
      "best_frag_score, frag_size = zip(*[(b[0][0],i) for i,b in enumerate(best) if b[0][0]])\n",
      "plot(frag_size, best_frag_score)\n",
      "show()"
     ],
     "language": "python",
     "metadata": {},
     "outputs": [
      {
       "metadata": {},
       "output_type": "display_data",
       "png": "[encoded data removed]",
       "text": [
        "<matplotlib.figure.Figure at 0x7f21949e3fd0>"
       ]
      }
     ],
     "prompt_number": 80
    },
    {
     "cell_type": "code",
     "collapsed": false,
     "input": [
      "#best[20]"
     ],
     "language": "python",
     "metadata": {},
     "outputs": [],
     "prompt_number": 89
    },
    {
     "cell_type": "code",
     "collapsed": false,
     "input": [
      "length_20_frag_scores = zip(*best[20][:-1])[0]"
     ],
     "language": "python",
     "metadata": {},
     "outputs": [],
     "prompt_number": 87
    },
    {
     "cell_type": "code",
     "collapsed": false,
     "input": [
      "plot(length_20_frag_scores)\n",
      "show()"
     ],
     "language": "python",
     "metadata": {},
     "outputs": [
      {
       "metadata": {},
       "output_type": "display_data",
       "png": "[encoded data removed]",
       "text": [
        "<matplotlib.figure.Figure at 0x7f218f7dd3d0>"
       ]
      }
     ],
     "prompt_number": 88
    },
    {
     "cell_type": "code",
     "collapsed": false,
     "input": [
      "#[(k,len(best[k]), best[k][0][0]-1) for k in best]\n",
      "\n",
      "sorted_best = sorted(best, key=lambda b:abs(b[0][0]-1),reverse=True)\n",
      "\n",
      "bo_best = []\n",
      "\n",
      "cut_offs = array([0.1, 0.01, 0.001])\n",
      "for cut_off in cut_offs: \n",
      "    for j in range(len(best)):\n",
      "        if abs(sorted_best[j][0][0]-1) < cut_off:\n",
      "            bo_best.append(sorted_best[j][0])\n",
      "            break"
     ],
     "language": "python",
     "metadata": {},
     "outputs": [],
     "prompt_number": 107
    },
    {
     "cell_type": "code",
     "collapsed": false,
     "input": [
      "[(e, len(set(unwind(f)))) for (e,f) in bo_best]"
     ],
     "language": "python",
     "metadata": {},
     "outputs": [
      {
       "metadata": {},
       "output_type": "pyout",
       "prompt_number": 110,
       "text": [
        "[(0.92671443421956889, 14),\n",
        " (0.99047651958444216, 34),\n",
        " (0.99999999999998868, 54)]"
       ]
      }
     ],
     "prompt_number": 110
    },
    {
     "cell_type": "code",
     "collapsed": false,
     "input": [
      "es = mod_e(best[24][0][1]) \n",
      "ac = accuracy(es)\n",
      "es, ac"
     ],
     "language": "python",
     "metadata": {},
     "outputs": [
      {
       "metadata": {},
       "output_type": "pyout",
       "prompt_number": 28,
       "text": [
        "([25.536470758110454,\n",
        "  38.331064227866364,\n",
        "  38.331064227866364,\n",
        "  38.186840819957695,\n",
        "  38.186840819957638],\n",
        " 0.98527904171908975)"
       ]
      }
     ],
     "prompt_number": 28
    },
    {
     "cell_type": "code",
     "collapsed": false,
     "input": [
      "color_by_h_reactivity(base_frag2)"
     ],
     "language": "python",
     "metadata": {},
     "outputs": [
      {
       "html": [
        "<div style=float:left><div id='applet_div_id_513468608696'></div></div>\n",
        "<script type=\"text/Javascript\">//initialisation\n",
        "    var Info = {\n",
        "        color: \"#FFFFFF\",\n",
        "        width: 500,\n",
        "        height: 500,\n",
        "        serverURL: \"/static/custom/jsmol/jsmol.php \",\n",
        "        use: \"HTML5\",\n",
        "        j2sPath: \"/static/custom/jsmol/j2s\",\n",
        "        console: \"jmolApplet0_infodiv\"\n",
        "    }\n",
        "    //prevent applet from immediately generating html - allows us to place the applet in the div we wish\n",
        "    Jmol.setDocument(0)\n",
        "    //start applet\n",
        "    applet_id_513468608696 = Jmol.getApplet(\"applet_id_513468608696\", Info)\n",
        "    //insert applet html into applet_div_id_513468608696\n",
        "    $(\"#applet_div_id_513468608696\").html(Jmol.getAppletHtml(applet_id_513468608696))\n",
        "    //execute scripts\n",
        "    Jmol.script(applet_id_513468608696,\"load similarity_search/temp_atoms_0.xyz; select all; set echo echoname 50% 90%; font echo 25; echo temp_atoms_0;select atomno=2, atomno=12; connect single; color bonds [9.26592136352e-13 0 0];select atomno=21, atomno=22; connect single; color bonds [0.275423273842 0 0];select atomno=41, atomno=30; connect single; color bonds [0.885204072125 0 0];select atomno=9, atomno=1; connect single; color bonds [0.885204072126 0 0];select atomno=53, atomno=46; connect single; color bonds [0.47407632472 0 0];select atomno=2, atomno=3; connect single; color bonds [0.47407632472 0 0];select atomno=7, atomno=8; connect single; color bonds [1.0 0 0];select atomno=9, atomno=10; connect single; color bonds [0.0 0 0];select atomno=46, atomno=47; connect single; color bonds [6.17839113204e-13 0 0];select atomno=17, atomno=16; connect single; color bonds [0.47407632472 0 0];select atomno=51, atomno=52; connect single; color bonds [0.47407632472 0 0];select atomno=26, atomno=37; connect single; color bonds [0.288787691318 0 0];select atomno=11, atomno=24; connect single; color bonds [0.0831973509321 0 0];select atomno=10, atomno=11; connect single; color bonds [0.275423273842 0 0];select atomno=27, atomno=40; connect single; color bonds [0.275423273842 0 0];select atomno=29, atomno=30; connect single; color bonds [0.885204072126 0 0];select atomno=36, atomno=23; connect single; color bonds [0.288787691318 0 0];select atomno=18, atomno=29; connect single; color bonds [0.47407632472 0 0];select atomno=42, atomno=52; connect single; color bonds [1.0 0 0];select atomno=53, atomno=54; connect single; color bonds [1.0 0 0];select atomno=49, atomno=50; connect single; color bonds [0.885204072126 0 0];select atomno=51, atomno=39; connect single; color bonds [9.26592136352e-13 0 0];select atomno=4, atomno=5; connect single; color bonds [0.47407632472 0 0];select atomno=6, atomno=16; connect single; color bonds [0.885204072125 0 0];select atomno=25, atomno=14; connect single; color bonds [0.0831973509318 0 0];select atomno=50, atomno=51; connect single; color bonds [0.885204072125 0 0];select atomno=27, atomno=28; connect single; color bonds [0.275423273842 0 0];select atomno=41, atomno=42; connect single; color bonds [0.47407632472 0 0];select atomno=12, atomno=13; connect single; color bonds [0.237841087487 0 0];select atomno=10, atomno=21; connect single; color bonds [0.237841087487 0 0];select atomno=25, atomno=24; connect single; color bonds [0.288787691318 0 0];select atomno=19, atomno=32; connect single; color bonds [0.885204072125 0 0];select atomno=45, atomno=46; connect single; color bonds [0.885204072125 0 0];select atomno=3, atomno=4; connect single; color bonds [1.0 0 0];select atomno=15, atomno=16; connect single; color bonds [3.08753023148e-13 0 0];select atomno=20, atomno=7; connect single; color bonds [0.47407632472 0 0];select atomno=1, atomno=2; connect single; color bonds [0.885204072126 0 0];select atomno=34, atomno=44; connect single; color bonds [9.26592136352e-13 0 0];select atomno=37, atomno=38; connect single; color bonds [0.0831973509321 0 0];select atomno=23, atomno=24; connect single; color bonds [0.288787691318 0 0];select atomno=49, atomno=48; connect single; color bonds [9.26592136352e-13 0 0];select atomno=47, atomno=48; connect single; color bonds [0.237841087487 0 0];select atomno=44, atomno=45; connect single; color bonds [0.885204072126 0 0];select atomno=39, atomno=40; connect single; color bonds [0.237841087487 0 0];select atomno=13, atomno=14; connect single; color bonds [0.275423273842 0 0];select atomno=33, atomno=34; connect single; color bonds [0.237841087487 0 0];select atomno=43, atomno=44; connect single; color bonds [0.47407632472 0 0];select atomno=11, atomno=12; connect single; color bonds [0.275423273842 0 0];select atomno=13, atomno=5; connect single; color bonds [3.08753023148e-13 0 0];select atomno=28, atomno=15; connect single; color bonds [0.237841087487 0 0];select atomno=38, atomno=39; connect single; color bonds [0.275423273842 0 0];select atomno=14, atomno=15; connect single; color bonds [0.275423273842 0 0];select atomno=43, atomno=31; connect single; color bonds [1.0 0 0];select atomno=31, atomno=32; connect single; color bonds [0.47407632472 0 0];select atomno=35, atomno=36; connect single; color bonds [0.0831973509321 0 0];select atomno=20, atomno=21; connect single; color bonds [9.26592136352e-13 0 0];select atomno=35, atomno=47; connect single; color bonds [0.275423273842 0 0];select atomno=33, atomno=22; connect single; color bonds [0.275423273842 0 0];select atomno=34, atomno=35; connect single; color bonds [0.275423273842 0 0];select atomno=41, atomno=40; connect single; color bonds [9.26592136352e-13 0 0];select atomno=33, atomno=32; connect single; color bonds [3.08753023148e-13 0 0];select atomno=38, atomno=48; connect single; color bonds [0.275423273842 0 0];select atomno=22, atomno=23; connect single; color bonds [0.0831973509318 0 0];select atomno=26, atomno=27; connect single; color bonds [0.0831973509324 0 0];select atomno=28, atomno=29; connect single; color bonds [3.08753023148e-13 0 0];select atomno=25, atomno=26; connect single; color bonds [0.288787691318 0 0];select atomno=9, atomno=8; connect single; color bonds [0.47407632472 0 0];select atomno=19, atomno=20; connect single; color bonds [0.885204072125 0 0];select atomno=36, atomno=37; connect single; color bonds [0.288787691318 0 0];select atomno=49, atomno=54; connect single; color bonds [0.47407632472 0 0];select atomno=17, atomno=18; connect single; color bonds [1.0 0 0];select atomno=5, atomno=6; connect single; color bonds [0.885204072125 0 0];; set frank off; sync . SLAVE;\")</script>"
       ],
       "metadata": {},
       "output_type": "pyout",
       "prompt_number": 30,
       "text": [
        "<IPython.core.display.HTML at 0x7f72441a41d0>"
       ]
      }
     ],
     "prompt_number": 30
    },
    {
     "cell_type": "code",
     "collapsed": false,
     "input": [
      "lcs=list({c for r in best[36][0][1] for c in r})\n",
      "color_by_h_reactivity(base_frag2[lcs])"
     ],
     "language": "python",
     "metadata": {},
     "outputs": [
      {
       "html": [
        "<div style=float:left><div id='applet_div_id_7924627431425'></div></div>\n",
        "<script type=\"text/Javascript\">//initialisation\n",
        "    var Info = {\n",
        "        color: \"#FFFFFF\",\n",
        "        width: 500,\n",
        "        height: 500,\n",
        "        serverURL: \"/static/custom/jsmol/jsmol.php \",\n",
        "        use: \"HTML5\",\n",
        "        j2sPath: \"/static/custom/jsmol/j2s\",\n",
        "        console: \"jmolApplet0_infodiv\"\n",
        "    }\n",
        "    //prevent applet from immediately generating html - allows us to place the applet in the div we wish\n",
        "    Jmol.setDocument(0)\n",
        "    //start applet\n",
        "    applet_id_7924627431425 = Jmol.getApplet(\"applet_id_7924627431425\", Info)\n",
        "    //insert applet html into applet_div_id_7924627431425\n",
        "    $(\"#applet_div_id_7924627431425\").html(Jmol.getAppletHtml(applet_id_7924627431425))\n",
        "    //execute scripts\n",
        "    Jmol.script(applet_id_7924627431425,\"load similarity_search/temp_atoms_0.xyz; select all; set echo echoname 50% 90%; font echo 25; echo temp_atoms_0;select atomno=2, atomno=12; connect single; color bonds [0.469969790234 0 0];select atomno=21, atomno=22; connect single; color bonds [0.615027999758 0 0];select atomno=33, atomno=34; connect single; color bonds [0.857908127537 0 0];select atomno=9, atomno=1; connect single; color bonds [0.92032298898 0 0];select atomno=2, atomno=3; connect single; color bonds [0.676751737725 0 0];select atomno=7, atomno=8; connect single; color bonds [0.999992074625 0 0];select atomno=9, atomno=10; connect single; color bonds [0.572533305649 0 0];select atomno=30, atomno=31; connect single; color bonds [0.987713301645 0 0];select atomno=17, atomno=16; connect single; color bonds [0.850035369127 0 0];select atomno=11, atomno=24; connect single; color bonds [0.552392490308 0 0];select atomno=10, atomno=11; connect single; color bonds [0.628384938839 0 0];select atomno=18, atomno=29; connect single; color bonds [0.984528102831 0 0];select atomno=4, atomno=5; connect single; color bonds [0.670930448147 0 0];select atomno=6, atomno=16; connect single; color bonds [0.889554479144 0 0];select atomno=25, atomno=14; connect single; color bonds [0.465557663899 0 0];select atomno=19, atomno=30; connect single; color bonds [0.995445862114 0 0];select atomno=12, atomno=13; connect single; color bonds [0.613037949158 0 0];select atomno=10, atomno=21; connect single; color bonds [0.547026530664 0 0];select atomno=25, atomno=24; connect single; color bonds [0.712929166651 0 0];select atomno=34, atomno=35; connect single; color bonds [0.997172030284 0 0];select atomno=3, atomno=4; connect single; color bonds [1.0 0 0];select atomno=15, atomno=16; connect single; color bonds [0.454078209368 0 0];select atomno=20, atomno=7; connect single; color bonds [0.729713198131 0 0];select atomno=1, atomno=2; connect single; color bonds [0.950144767542 0 0];select atomno=22, atomno=31; connect single; color bonds [0.942693473183 0 0];select atomno=23, atomno=24; connect single; color bonds [0.513635990057 0 0];select atomno=27, atomno=28; connect single; color bonds [0.0 0 0];select atomno=13, atomno=14; connect single; color bonds [0.694191103336 0 0];select atomno=11, atomno=12; connect single; color bonds [0.647113509565 0 0];select atomno=13, atomno=5; connect single; color bonds [0.401925558637 0 0];select atomno=28, atomno=15; connect single; color bonds [0.605034213281 0 0];select atomno=14, atomno=15; connect single; color bonds [0.63115728893 0 0];select atomno=35, atomno=36; connect single; color bonds [0.98521631771 0 0];select atomno=20, atomno=21; connect single; color bonds [0.545179069664 0 0];select atomno=23, atomno=32; connect single; color bonds [0.975331956149 0 0];select atomno=33, atomno=32; connect single; color bonds [0.866061602075 0 0];select atomno=22, atomno=23; connect single; color bonds [0.0043855325944 0 0];select atomno=26, atomno=27; connect single; color bonds [0.607462081738 0 0];select atomno=33, atomno=26; connect single; color bonds [0.477572512235 0 0];select atomno=28, atomno=29; connect single; color bonds [0.950253611914 0 0];select atomno=25, atomno=26; connect single; color bonds [0.602830249894 0 0];select atomno=9, atomno=8; connect single; color bonds [0.727755497256 0 0];select atomno=19, atomno=20; connect single; color bonds [0.888873487291 0 0];select atomno=27, atomno=36; connect single; color bonds [0.948480271295 0 0];select atomno=17, atomno=18; connect single; color bonds [0.997514198241 0 0];select atomno=5, atomno=6; connect single; color bonds [0.960929179969 0 0];; set frank off; sync . SLAVE;\")</script>"
       ],
       "metadata": {},
       "output_type": "pyout",
       "prompt_number": 57,
       "text": [
        "<IPython.core.display.HTML at 0x7f72240b6990>"
       ]
      }
     ],
     "prompt_number": 57
    },
    {
     "cell_type": "code",
     "collapsed": false,
     "input": [
      "view_frag(base_frag2, best[24][0][1])"
     ],
     "language": "python",
     "metadata": {},
     "outputs": [
      {
       "html": [
        "<div style=float:left><div id='applet_div_id_1986172717176'></div></div>\n",
        "<script type=\"text/Javascript\">//initialisation\n",
        "    var Info = {\n",
        "        color: \"#FFFFFF\",\n",
        "        width: 500,\n",
        "        height: 400,\n",
        "        serverURL: \"/static/custom/jsmol/jsmol.php \",\n",
        "        use: \"HTML5\",\n",
        "        j2sPath: \"/static/custom/jsmol/j2s\",\n",
        "        console: \"jmolApplet0_infodiv\"\n",
        "    }\n",
        "    //prevent applet from immediately generating html - allows us to place the applet in the div we wish\n",
        "    Jmol.setDocument(0)\n",
        "    //start applet\n",
        "    applet_id_1986172717176 = Jmol.getApplet(\"applet_id_1986172717176\", Info)\n",
        "    //insert applet html into applet_div_id_1986172717176\n",
        "    $(\"#applet_div_id_1986172717176\").html(Jmol.getAppletHtml(applet_id_1986172717176))\n",
        "    //execute scripts\n",
        "    Jmol.script(applet_id_1986172717176,\"load similarity_search/temp_atoms.xyz; select all; label %[atomNo]; font label 12;set echo echoname 50% 90%; font echo 25; echo temp_atoms;select atomno=19,atomno=22,atomno=23,atomno=26,atomno=27,atomno=30,atomno=31,atomno=32,atomno=33,atomno=34,atomno=35,atomno=36,atomno=37,atomno=38,atomno=39,atomno=40,atomno=41,atomno=42,atomno=43,atomno=44,atomno=45,atomno=46,atomno=47,atomno=48,atomno=49,atomno=50,atomno=51,atomno=52,atomno=53,atomno=54,atomno=55,atomno=56,atomno=57,atomno=58,atomno=59,atomno=60,atomno=61,atomno=62,atomno=63,atomno=64,atomno=65,atomno=66,atomno=67,atomno=68,atomno=69,atomno=70,atomno=71,atomno=72; spacefill off;; set frank off; sync . SLAVE;\")</script>"
       ],
       "metadata": {},
       "output_type": "pyout",
       "prompt_number": 29,
       "text": [
        "<IPython.core.display.HTML at 0x7f72240b6f10>"
       ]
      }
     ],
     "prompt_number": 29
    },
    {
     "cell_type": "code",
     "collapsed": false,
     "input": [
      "expected_good_frag = bo_best[1][1] + (frozenset({4,12,13,14,15,5}),)\n",
      "expected_good_frag_atoms = set(unwind(expected_good_frag))\n",
      "len(expected_good_frag_atoms)"
     ],
     "language": "python",
     "metadata": {},
     "outputs": [
      {
       "metadata": {},
       "output_type": "pyout",
       "prompt_number": 138,
       "text": [
        "24"
       ]
      }
     ],
     "prompt_number": 138
    },
    {
     "cell_type": "code",
     "collapsed": false,
     "input": [
      "for b_c in best:\n",
      "    for f in b_c:\n",
      "        if set(unwind(f[1])) == expected_good_frag_atoms:\n",
      "            good_frag_data=f\n",
      "            break"
     ],
     "language": "python",
     "metadata": {},
     "outputs": [],
     "prompt_number": 139
    },
    {
     "cell_type": "code",
     "collapsed": false,
     "input": [
      "good_frag_data[0]"
     ],
     "language": "python",
     "metadata": {},
     "outputs": [
      {
       "metadata": {},
       "output_type": "pyout",
       "prompt_number": 140,
       "text": [
        "0.95001936651652963"
       ]
      }
     ],
     "prompt_number": 140
    },
    {
     "cell_type": "code",
     "collapsed": false,
     "input": [
      "#view_frag(base_frag2, good_frag_data[1])"
     ],
     "language": "python",
     "metadata": {},
     "outputs": [],
     "prompt_number": 125
    },
    {
     "cell_type": "code",
     "collapsed": false,
     "input": [
      "best[32][0]"
     ],
     "language": "python",
     "metadata": {},
     "outputs": [
      {
       "metadata": {},
       "output_type": "pyout",
       "prompt_number": 91,
       "text": [
        "(0.96381189643146226,\n",
        " (frozenset({10, 11, 12, 13, 23, 24}),\n",
        "  frozenset({9, 10, 20, 21, 22, 23}),\n",
        "  frozenset({1, 2, 3, 4, 11, 12})))"
       ]
      }
     ],
     "prompt_number": 91
    },
    {
     "cell_type": "code",
     "collapsed": false,
     "input": [
      "#bang = zip(zip(*bang)[0], map(mod_pairs,zip(*bang)[1])-25.54872916870886, zip(*bang)[1])\n",
      "#bang.sort(key=lambda e:abs(e[1]-25.54872916870886))\n",
      "#[b[1]-25.54872916870886 for b in bang[:20]]\n",
      "\n",
      "[b[0] for b in best[24][0:20]]"
     ],
     "language": "python",
     "metadata": {},
     "outputs": [
      {
       "metadata": {},
       "output_type": "pyout",
       "prompt_number": 58,
       "text": [
        "[0.99889962395245335,\n",
        " 0.99889962395239662,\n",
        " 0.99436320194551986,\n",
        " 0.99436320194546368,\n",
        " 0.99363616892386641,\n",
        " 0.99363616892381024,\n",
        " 0.98989453591213095,\n",
        " 0.98989453591213095,\n",
        " 0.98789003828463196,\n",
        " 0.98669477777312486,\n",
        " 0.98669477777312486,\n",
        " 0.98653893590758279,\n",
        " 0.9865389359075275,\n",
        " 0.98116419668316091,\n",
        " 0.98116419668299681,\n",
        " 0.9798048670429379,\n",
        " 0.97980486704288328,\n",
        " 0.97744203419459463,\n",
        " 0.97744203419448594,\n",
        " 0.97676449797292142]"
       ]
      }
     ],
     "prompt_number": 58
    },
    {
     "cell_type": "code",
     "collapsed": false,
     "input": [
      "view_frag(base_frag2,best[52][0][1])"
     ],
     "language": "python",
     "metadata": {},
     "outputs": [
      {
       "html": [
        "<div style=float:left><div id='applet_div_id_4197300673391'></div></div>\n",
        "<script type=\"text/Javascript\">//initialisation\n",
        "    var Info = {\n",
        "        color: \"#FFFFFF\",\n",
        "        width: 500,\n",
        "        height: 400,\n",
        "        serverURL: \"/static/custom/jsmol/jsmol.php \",\n",
        "        use: \"HTML5\",\n",
        "        j2sPath: \"/static/custom/jsmol/j2s\",\n",
        "        console: \"jmolApplet0_infodiv\"\n",
        "    }\n",
        "    //prevent applet from immediately generating html - allows us to place the applet in the div we wish\n",
        "    Jmol.setDocument(0)\n",
        "    //start applet\n",
        "    applet_id_4197300673391 = Jmol.getApplet(\"applet_id_4197300673391\", Info)\n",
        "    //insert applet html into applet_div_id_4197300673391\n",
        "    $(\"#applet_div_id_4197300673391\").html(Jmol.getAppletHtml(applet_id_4197300673391))\n",
        "    //execute scripts\n",
        "    Jmol.script(applet_id_4197300673391,\"load similarity_search/temp_atoms.xyz; select all; label %[atomNo]; font label 12;set echo echoname 50% 90%; font echo 25; echo temp_atoms;select atomno=31,atomno=43,atomno=55,atomno=56,atomno=57,atomno=58,atomno=59,atomno=60,atomno=61,atomno=62,atomno=63,atomno=64,atomno=65,atomno=66,atomno=67,atomno=68,atomno=69,atomno=70,atomno=71,atomno=72; spacefill off;; set frank off; sync . SLAVE;\")</script>"
       ],
       "metadata": {},
       "output_type": "pyout",
       "prompt_number": 53,
       "text": [
        "<IPython.core.display.HTML at 0x7ff6baff3ad0>"
       ]
      }
     ],
     "prompt_number": 53
    },
    {
     "cell_type": "code",
     "collapsed": false,
     "input": [
      "[b[0] for b in best[:10]]"
     ],
     "language": "python",
     "metadata": {},
     "outputs": [
      {
       "metadata": {},
       "output_type": "pyout",
       "prompt_number": 18,
       "text": [
        "[1.0,\n",
        " 0.99999661037066556,\n",
        " 0.99999661037055187,\n",
        " 0.99999196420230918,\n",
        " 0.99999196420225234,\n",
        " 0.99998563937220108,\n",
        " 0.99998563937220108,\n",
        " 0.9999632699772516,\n",
        " 0.9999632699772516,\n",
        " 0.99996078711738445]"
       ]
      }
     ],
     "prompt_number": 18
    },
    {
     "cell_type": "code",
     "collapsed": false,
     "input": [
      "[w[0] for w in worst[0:10]]"
     ],
     "language": "python",
     "metadata": {},
     "outputs": [
      {
       "metadata": {},
       "output_type": "pyout",
       "prompt_number": 17,
       "text": [
        "[0.48923386138242742,\n",
        " 0.48981868676340512,\n",
        " 0.48993704939278843,\n",
        " 0.49000355509657123,\n",
        " 0.49003712291574847,\n",
        " 0.49003712291576212,\n",
        " 0.49012945632599852,\n",
        " 0.49012945632602584,\n",
        " 0.49026967059353715,\n",
        " 0.4902847394772642]"
       ]
      }
     ],
     "prompt_number": 17
    },
    {
     "cell_type": "code",
     "collapsed": false,
     "input": [
      "view_frag(base_frag2, worst[0][1])"
     ],
     "language": "python",
     "metadata": {},
     "outputs": [
      {
       "html": [
        "<div style=float:left><div id='applet_div_id_2433668040036'></div></div>\n",
        "<script type=\"text/Javascript\">//initialisation\n",
        "    var Info = {\n",
        "        color: \"#FFFFFF\",\n",
        "        width: 500,\n",
        "        height: 400,\n",
        "        serverURL: \"/static/custom/jsmol/jsmol.php \",\n",
        "        use: \"HTML5\",\n",
        "        j2sPath: \"/static/custom/jsmol/j2s\",\n",
        "        console: \"jmolApplet0_infodiv\"\n",
        "    }\n",
        "    //prevent applet from immediately generating html - allows us to place the applet in the div we wish\n",
        "    Jmol.setDocument(0)\n",
        "    //start applet\n",
        "    applet_id_2433668040036 = Jmol.getApplet(\"applet_id_2433668040036\", Info)\n",
        "    //insert applet html into applet_div_id_2433668040036\n",
        "    $(\"#applet_div_id_2433668040036\").html(Jmol.getAppletHtml(applet_id_2433668040036))\n",
        "    //execute scripts\n",
        "    Jmol.script(applet_id_2433668040036,\"load similarity_search/temp_atoms.xyz; select all; label %[atomNo]; font label 12;set echo echoname 50% 90%; font echo 25; echo temp_atoms;select atomno=1,atomno=2,atomno=3,atomno=4,atomno=5,atomno=6,atomno=7,atomno=8,atomno=9,atomno=16,atomno=17,atomno=18,atomno=31,atomno=34,atomno=35,atomno=36,atomno=37,atomno=38,atomno=39,atomno=42,atomno=43,atomno=44,atomno=45,atomno=46,atomno=47,atomno=48,atomno=49,atomno=50,atomno=51,atomno=52,atomno=53,atomno=54,atomno=55,atomno=56,atomno=57,atomno=58,atomno=59,atomno=60,atomno=61,atomno=62,atomno=63,atomno=64,atomno=65,atomno=66,atomno=67,atomno=68,atomno=69,atomno=70,atomno=71,atomno=72; spacefill off;; set frank off; sync . SLAVE;\")</script>"
       ],
       "metadata": {},
       "output_type": "pyout",
       "prompt_number": 90,
       "text": [
        "<IPython.core.display.HTML at 0x7f468a17a790>"
       ]
      }
     ],
     "prompt_number": 90
    },
    {
     "cell_type": "code",
     "collapsed": false,
     "input": [
      "worst[0][1]\n",
      "\n",
      "def mol_from_frag(frag):\n",
      "    frag_atoms = set(unwind(frag))\n",
      "    \n",
      "    atoms = []\n",
      "    for c in frag_atoms:\n",
      "        ele = g.master.numbers[c]\n",
      "        coords = g.master.positions[c]\n",
      "        \n",
      "    \n",
      "    links = [n for n in g.master.graph.neighbors[c] for c in frag_atoms if n not in frag_atoms]\n",
      "\n",
      "    for l in links:\n",
      "        ele = 1\n",
      "        coords = g.master.positions[l]\n",
      "\n",
      "#    g.master[c]\n",
      "\n",
      "g.master.graph.add_hydrogens()"
     ],
     "language": "python",
     "metadata": {},
     "outputs": [
      {
       "metadata": {},
       "output_type": "pyout",
       "prompt_number": 89,
       "text": [
        "array([ 29.07783963,   4.83420291,  17.4119366 ])"
       ]
      }
     ],
     "prompt_number": 89
    },
    {
     "cell_type": "code",
     "collapsed": false,
     "input": [
      "%%prun\n",
      "g=GraphFrags(m_flake2)\n",
      "r=g.get_rings(10)[-1]\n",
      "g.set_base_frag([r])\n",
      "it=g.gen_fragments()\n",
      "central_pair = set([11,12])\n",
      "pair_es = [get_atoms_stability(f, central_pair, g.master) for f in it]"
     ],
     "language": "python",
     "metadata": {},
     "outputs": [
      {
       "output_type": "stream",
       "stream": "stdout",
       "text": [
        " "
       ]
      }
     ],
     "prompt_number": 10
    },
    {
     "cell_type": "code",
     "collapsed": false,
     "input": [],
     "language": "python",
     "metadata": {},
     "outputs": []
    },
    {
     "cell_type": "code",
     "collapsed": false,
     "input": [
      "len(parallel_pair_es), len(pair_es)"
     ],
     "language": "python",
     "metadata": {},
     "outputs": [
      {
       "metadata": {},
       "output_type": "pyout",
       "prompt_number": 100,
       "text": [
        "(21076, 21076)"
       ]
      }
     ],
     "prompt_number": 100
    },
    {
     "cell_type": "code",
     "collapsed": false,
     "input": [
      "all([round(parallel_pair_es[i]-pair_es[i],7) == 0 for i in range(len(parallel_pair_es))])"
     ],
     "language": "python",
     "metadata": {},
     "outputs": [
      {
       "metadata": {},
       "output_type": "pyout",
       "prompt_number": 104,
       "text": [
        "True"
       ]
      }
     ],
     "prompt_number": 104
    },
    {
     "cell_type": "code",
     "collapsed": false,
     "input": [
      "from multiprocessing.pool import Pool\n",
      "\n",
      "def get_pairs(f):\n",
      "    return get_atoms_stability(f, central_pair, g.master)"
     ],
     "language": "python",
     "metadata": {},
     "outputs": [],
     "prompt_number": 24
    },
    {
     "cell_type": "code",
     "collapsed": false,
     "input": [
      "%%prun\n",
      "g=GraphFrags(m_flake2)\n",
      "r=g.get_rings(10)[-1]\n",
      "g.set_base_frag([r])\n",
      "it=g.gen_fragments()\n",
      "central_pair = set([11,12])\n",
      "\n",
      "p=Pool(4)\n",
      "r=p.map_async(get_pairs, it)\n",
      "pair_es = r.get()\n",
      "p.close()"
     ],
     "language": "python",
     "metadata": {},
     "outputs": [
      {
       "output_type": "stream",
       "stream": "stdout",
       "text": [
        " "
       ]
      }
     ],
     "prompt_number": 25
    },
    {
     "cell_type": "code",
     "collapsed": false,
     "input": [
      "len(pair_es)"
     ],
     "language": "python",
     "metadata": {},
     "outputs": [
      {
       "metadata": {},
       "output_type": "pyout",
       "prompt_number": 27,
       "text": [
        "21076"
       ]
      }
     ],
     "prompt_number": 27
    },
    {
     "cell_type": "code",
     "collapsed": false,
     "input": [
      "%%prun\n",
      "g=GraphFrags(m_flake2)\n",
      "r=g.get_rings(10)[-1]\n",
      "g.set_base_frag([r])\n",
      "it=g.gen_fragments()\n",
      "\n",
      "huckel_es = []\n",
      "for frag in it:\n",
      "    huckel_es.append(huckel_e(frag, g.master))"
     ],
     "language": "python",
     "metadata": {},
     "outputs": [
      {
       "output_type": "stream",
       "stream": "stdout",
       "text": [
        " "
       ]
      }
     ],
     "prompt_number": 38
    },
    {
     "cell_type": "code",
     "collapsed": false,
     "input": [
      "%%prun\n",
      "g=GraphFrags(m_flake2)\n",
      "r=g.get_rings(10)[-1]\n",
      "g.set_base_frag([r])\n",
      "it=g.gen_fragments()\n",
      "central_pair = set([i for i in r][1:3])\n",
      "\n",
      "pair_es = []\n",
      "for frag in it:\n",
      "    pair_es.append(get_atoms_stability(central_pair, frag, g.master))"
     ],
     "language": "python",
     "metadata": {},
     "outputs": [
      {
       "output_type": "stream",
       "stream": "stdout",
       "text": [
        " "
       ]
      }
     ],
     "prompt_number": 40
    },
    {
     "cell_type": "code",
     "collapsed": false,
     "input": [
      "0.009 * 30000000 / (16*3600)"
     ],
     "language": "python",
     "metadata": {},
     "outputs": [
      {
       "metadata": {},
       "output_type": "pyout",
       "prompt_number": 59,
       "text": [
        "4.6875"
       ]
      }
     ],
     "prompt_number": 59
    },
    {
     "cell_type": "code",
     "collapsed": false,
     "input": [
      "alpha, beta = -11.2, -0.7\n",
      "m = np.zeros([2,2,])\n",
      "m[0][0] = alpha\n",
      "m[1][1] = alpha\n",
      "m[0][1] = beta\n",
      "m[1][0] = beta\n",
      "evals, evecs = LA.eigh(m)\n"
     ],
     "language": "python",
     "metadata": {},
     "outputs": [
      {
       "metadata": {},
       "output_type": "pyout",
       "prompt_number": 22,
       "text": [
        "array([-11.9, -10.5])"
       ]
      }
     ],
     "prompt_number": 22
    },
    {
     "cell_type": "code",
     "collapsed": false,
     "input": [
      "evecs[0]"
     ],
     "language": "python",
     "metadata": {},
     "outputs": [
      {
       "metadata": {},
       "output_type": "pyout",
       "prompt_number": 29,
       "text": [
        "array([ 0.70710678, -0.70710678])"
       ]
      }
     ],
     "prompt_number": 29
    },
    {
     "cell_type": "code",
     "collapsed": false,
     "input": [
      "low_eigs[0]"
     ],
     "language": "python",
     "metadata": {},
     "outputs": [
      {
       "metadata": {},
       "output_type": "pyout",
       "prompt_number": 19,
       "text": [
        "-12.811942946412392"
       ]
      }
     ],
     "prompt_number": 19
    },
    {
     "cell_type": "code",
     "collapsed": false,
     "input": [
      "zip(*sorted(zip(low_eigs,frags),key=lambda e: e[0]))[0][299]"
     ],
     "language": "python",
     "metadata": {},
     "outputs": [
      {
       "metadata": {},
       "output_type": "pyout",
       "prompt_number": 37,
       "text": [
        "-13.167060409094505"
       ]
      }
     ],
     "prompt_number": 37
    },
    {
     "cell_type": "code",
     "collapsed": false,
     "input": [
      "view_frag(base_frag2, zip(*sorted(zip(low_eigs,frags),key=lambda e: e[0]))[1][6001])"
     ],
     "language": "python",
     "metadata": {},
     "outputs": [
      {
       "html": [
        "<div style=float:left><div id='applet_div_id_8592668470660'></div></div>\n",
        "<script type=\"text/Javascript\">//initialisation\n",
        "    var Info = {\n",
        "        color: \"#FFFFFF\",\n",
        "        width: 500,\n",
        "        height: 400,\n",
        "        serverURL: \"/static/custom/jsmol/jsmol.php \",\n",
        "        use: \"HTML5\",\n",
        "        j2sPath: \"/static/custom/jsmol/j2s\",\n",
        "        console: \"jmolApplet0_infodiv\"\n",
        "    }\n",
        "    //prevent applet from immediately generating html - allows us to place the applet in the div we wish\n",
        "    Jmol.setDocument(0)\n",
        "    //start applet\n",
        "    applet_id_8592668470660 = Jmol.getApplet(\"applet_id_8592668470660\", Info)\n",
        "    //insert applet html into applet_div_id_8592668470660\n",
        "    $(\"#applet_div_id_8592668470660\").html(Jmol.getAppletHtml(applet_id_8592668470660))\n",
        "    //execute scripts\n",
        "    Jmol.script(applet_id_8592668470660,\"load similarity_search/temp_atoms.xyz; select all; label %[atomNo]; font label 12;set echo echoname 50% 90%; font echo 25; echo temp_atoms;select atomno=6,atomno=19,atomno=38,atomno=48,atomno=49,atomno=50,atomno=53,atomno=54,atomno=55,atomno=56,atomno=57,atomno=58,atomno=59,atomno=60,atomno=61,atomno=62,atomno=63,atomno=64,atomno=65,atomno=66,atomno=67,atomno=68,atomno=69,atomno=70,atomno=71,atomno=72; spacefill off;; set frank off; sync . SLAVE;\")</script>"
       ],
       "metadata": {},
       "output_type": "pyout",
       "prompt_number": 41,
       "text": [
        "<IPython.core.display.HTML at 0x7f47881336d0>"
       ]
      }
     ],
     "prompt_number": 41
    },
    {
     "cell_type": "code",
     "collapsed": false,
     "input": [
      "27.078* 30000000 / (len(low_eigs) * 3600)"
     ],
     "language": "python",
     "metadata": {},
     "outputs": [
      {
       "metadata": {},
       "output_type": "pyout",
       "prompt_number": 261,
       "text": [
        "10.70649079521731"
       ]
      }
     ],
     "prompt_number": 261
    },
    {
     "cell_type": "code",
     "collapsed": false,
     "input": [
      "%%prun\n",
      "g=Graph_frags(m_flake2)\n",
      "r=g.get_rings(10)[-1]\n",
      "g.get_ring_fragments(initial_frags=[[r]])\n",
      "print(len(g.list_fragments))"
     ],
     "language": "python",
     "metadata": {},
     "outputs": [
      {
       "output_type": "stream",
       "stream": "stdout",
       "text": [
        "33284\n",
        " "
       ]
      }
     ],
     "prompt_number": 67
    },
    {
     "cell_type": "code",
     "collapsed": false,
     "input": [
      "uniques2 =  get_uniques(g.list_fragments)\n",
      "len(uniques2), len(g.list_fragments)"
     ],
     "language": "python",
     "metadata": {},
     "outputs": [
      {
       "metadata": {},
       "output_type": "pyout",
       "prompt_number": 64,
       "text": [
        "(21075, 33284)"
       ]
      }
     ],
     "prompt_number": 64
    },
    {
     "cell_type": "code",
     "collapsed": false,
     "input": [
      "33284-20680"
     ],
     "language": "python",
     "metadata": {},
     "outputs": [
      {
       "metadata": {},
       "output_type": "pyout",
       "prompt_number": 52,
       "text": [
        "12604"
       ]
      }
     ],
     "prompt_number": 52
    },
    {
     "cell_type": "code",
     "collapsed": false,
     "input": [
      "list_atoms[:2], g.list_fragments[0]"
     ],
     "language": "python",
     "metadata": {},
     "outputs": [
      {
       "metadata": {},
       "output_type": "pyout",
       "prompt_number": 50,
       "text": [
        "([{10, 11, 12, 13, 23, 24}, {0, 1, 8, 9, 10, 11, 12, 13, 23, 24}],\n",
        " [[10, 11, 12, 13, 23, 24]])"
       ]
      }
     ],
     "prompt_number": 50
    },
    {
     "cell_type": "code",
     "collapsed": false,
     "input": [
      "g.get_ring_neighbors(initial_frag[0])"
     ],
     "language": "python",
     "metadata": {},
     "outputs": [
      {
       "metadata": {},
       "output_type": "pyout",
       "prompt_number": 508,
       "text": [
        "[[0, 1, 8, 9, 10, 11],\n",
        " [9, 10, 19, 20, 21, 22],\n",
        " [1, 2, 3, 4, 11, 12],\n",
        " [4, 5, 12, 13, 14, 15],\n",
        " [13, 14, 23, 24, 25, 26],\n",
        " [21, 22, 23, 24, 28, 29]]"
       ]
      }
     ],
     "prompt_number": 508
    },
    {
     "cell_type": "code",
     "collapsed": false,
     "input": [
      "from types import GeneratorType\n",
      "\n",
      "def flatten(*stack):\n",
      "    stack = list(stack)\n",
      "    while stack:\n",
      "        try: x = stack[0].next()\n",
      "        except StopIteration:\n",
      "            stack.pop(0)\n",
      "            continue\n",
      "        if isinstance(x, GeneratorType): stack.insert(0, x)\n",
      "        else: yield x"
     ],
     "language": "python",
     "metadata": {},
     "outputs": []
    },
    {
     "cell_type": "code",
     "collapsed": false,
     "input": [
      "#%%prun\n",
      "g=Graph_frags(m_33)\n",
      "r=g.get_rings(10)[-1]\n",
      "#g.get_ring_fragments()\n",
      "it = g.iter_fragments()\n",
      "a = it.next()\n",
      "b = it.next()\n",
      "c = it.next()\n",
      "a,b,c"
     ],
     "language": "python",
     "metadata": {},
     "outputs": [
      {
       "metadata": {},
       "output_type": "pyout",
       "prompt_number": 455,
       "text": [
        "([[0, 1, 8, 9, 10, 11]],\n",
        " ([0, 1, 8, 9, 10, 11], [6, 7, 8, 9, 18, 19]),\n",
        " ([0, 1, 8, 9, 10, 11], [6, 7, 8, 9, 18, 19], [9, 10, 19, 20, 21, 22]))"
       ]
      }
     ],
     "prompt_number": 455
    },
    {
     "cell_type": "code",
     "collapsed": false,
     "input": [
      "l = [([0, 1, 8, 9, 10, 11], [6, 7, 8, 9, 18, 19]), ([0, 1, 8, 9, 10, 11], [9, 10, 19, 20, 21, 22]), ([0, 1, 8, 9, 10, 11], [1, 2, 3, 4, 11, 12]), ([0, 1, 8, 9, 10, 11], [10, 11, 12, 13, 22, 23]), ([0, 1, 8, 9, 10, 11], [6, 7, 8, 9, 18, 19], [9, 10, 19, 20, 21, 22]), ([0, 1, 8, 9, 10, 11], [6, 7, 8, 9, 18, 19], [1, 2, 3, 4, 11, 12]), ([0, 1, 8, 9, 10, 11], [6, 7, 8, 9, 18, 19], [10, 11, 12, 13, 22, 23]), ([0, 1, 8, 9, 10, 11], [9, 10, 19, 20, 21, 22], [1, 2, 3, 4, 11, 12]), ([0, 1, 8, 9, 10, 11], [9, 10, 19, 20, 21, 22], [10, 11, 12, 13, 22, 23]), ([0, 1, 8, 9, 10, 11], [1, 2, 3, 4, 11, 12], [10, 11, 12, 13, 22, 23]), ([0, 1, 8, 9, 10, 11], [6, 7, 8, 9, 18, 19], [9, 10, 19, 20, 21, 22], [1, 2, 3, 4, 11, 12]), ([0, 1, 8, 9, 10, 11], [6, 7, 8, 9, 18, 19], [9, 10, 19, 20, 21, 22], [10, 11, 12, 13, 22, 23]), ([0, 1, 8, 9, 10, 11], [6, 7, 8, 9, 18, 19], [1, 2, 3, 4, 11, 12], [10, 11, 12, 13, 22, 23]), ([0, 1, 8, 9, 10, 11], [9, 10, 19, 20, 21, 22], [1, 2, 3, 4, 11, 12], [10, 11, 12, 13, 22, 23]), ([0, 1, 8, 9, 10, 11], [6, 7, 8, 9, 18, 19], [9, 10, 19, 20, 21, 22], [1, 2, 3, 4, 11, 12], [10, 11, 12, 13, 22, 23])]\n",
      "i = (f for f in l)\n",
      "g=Graph_frags(m_33)\n",
      "r=g.get_rings(10)[-1]\n",
      "it = g.iter_fragments(initial_frags=i)\n",
      "a = it.next()\n",
      "b = it.next()\n",
      "c = it.next()\n",
      "a,b,c"
     ],
     "language": "python",
     "metadata": {},
     "outputs": [
      {
       "metadata": {},
       "output_type": "pyout",
       "prompt_number": 317,
       "text": [
        "(([0, 1, 8, 9, 10, 11], [6, 7, 8, 9, 18, 19]),\n",
        " ([0, 1, 8, 9, 10, 11], [9, 10, 19, 20, 21, 22]),\n",
        " ([0, 1, 8, 9, 10, 11], [1, 2, 3, 4, 11, 12]))"
       ]
      }
     ],
     "prompt_number": 317
    },
    {
     "cell_type": "code",
     "collapsed": false,
     "input": [
      "l = [([0, 1, 8, 9, 10, 11], [6, 7, 8, 9, 18, 19]), ([0, 1, 8, 9, 10, 11], [9, 10, 19, 20, 21, 22]), ([0, 1, 8, 9, 10, 11], [1, 2, 3, 4, 11, 12]), ([0, 1, 8, 9, 10, 11], [10, 11, 12, 13, 22, 23]), ([0, 1, 8, 9, 10, 11], [6, 7, 8, 9, 18, 19], [9, 10, 19, 20, 21, 22]), ([0, 1, 8, 9, 10, 11], [6, 7, 8, 9, 18, 19], [1, 2, 3, 4, 11, 12]), ([0, 1, 8, 9, 10, 11], [6, 7, 8, 9, 18, 19], [10, 11, 12, 13, 22, 23]), ([0, 1, 8, 9, 10, 11], [9, 10, 19, 20, 21, 22], [1, 2, 3, 4, 11, 12]), ([0, 1, 8, 9, 10, 11], [9, 10, 19, 20, 21, 22], [10, 11, 12, 13, 22, 23]), ([0, 1, 8, 9, 10, 11], [1, 2, 3, 4, 11, 12], [10, 11, 12, 13, 22, 23]), ([0, 1, 8, 9, 10, 11], [6, 7, 8, 9, 18, 19], [9, 10, 19, 20, 21, 22], [1, 2, 3, 4, 11, 12]), ([0, 1, 8, 9, 10, 11], [6, 7, 8, 9, 18, 19], [9, 10, 19, 20, 21, 22], [10, 11, 12, 13, 22, 23]), ([0, 1, 8, 9, 10, 11], [6, 7, 8, 9, 18, 19], [1, 2, 3, 4, 11, 12], [10, 11, 12, 13, 22, 23]), ([0, 1, 8, 9, 10, 11], [9, 10, 19, 20, 21, 22], [1, 2, 3, 4, 11, 12], [10, 11, 12, 13, 22, 23]), ([0, 1, 8, 9, 10, 11], [6, 7, 8, 9, 18, 19], [9, 10, 19, 20, 21, 22], [1, 2, 3, 4, 11, 12], [10, 11, 12, 13, 22, 23])]\n",
      "i = (f for f in l)\n",
      "g=Graph_frags(m_33)\n",
      "r=g.get_rings(10)[-1]\n",
      "a = g.iter_fragments(initial_frags=i).next()\n",
      "b = g.iter_fragments(initial_frags=i).next()\n",
      "c = g.iter_fragments(initial_frags=i).next()\n",
      "a,b,c"
     ],
     "language": "python",
     "metadata": {},
     "outputs": [
      {
       "metadata": {},
       "output_type": "pyout",
       "prompt_number": 316,
       "text": [
        "(([0, 1, 8, 9, 10, 11], [6, 7, 8, 9, 18, 19]),\n",
        " ([0, 1, 8, 9, 10, 11], [9, 10, 19, 20, 21, 22]),\n",
        " ([0, 1, 8, 9, 10, 11], [1, 2, 3, 4, 11, 12]))"
       ]
      }
     ],
     "prompt_number": 316
    },
    {
     "cell_type": "code",
     "collapsed": false,
     "input": [
      "print(len(g.list_fragments))\n",
      "\n",
      "for i in range(len(g.list_fragments)):\n",
      "    for r in g.list_fragments[i]:\n",
      "        r.sort()\n",
      "    g.list_fragments[i] = sorted(g.list_fragments[i])\n",
      "#g.list_fragments.sort(key=lambda e: len(e))\n",
      "\n",
      "all([g.list_fragments.count(f)==1 for f in g.list_fragments]) and all([f.count(r)==1 for f in g.list_fragments for r in f])"
     ],
     "language": "python",
     "metadata": {},
     "outputs": [
      {
       "output_type": "stream",
       "stream": "stdout",
       "text": [
        "112\n"
       ]
      },
      {
       "metadata": {},
       "output_type": "pyout",
       "prompt_number": 140,
       "text": [
        "True"
       ]
      }
     ],
     "prompt_number": 140
    },
    {
     "cell_type": "code",
     "collapsed": false,
     "input": [
      "2*(1+4+(2*3) +4 +1) +1 +4 +(2*3) + 4 +1 +64"
     ],
     "language": "python",
     "metadata": {},
     "outputs": [
      {
       "metadata": {},
       "output_type": "pyout",
       "prompt_number": 146,
       "text": [
        "112"
       ]
      }
     ],
     "prompt_number": 146
    },
    {
     "cell_type": "code",
     "collapsed": false,
     "input": [
      "sum(sum(1 for e in itertools.combinations(range(12), i)) for i in range(1,13)) "
     ],
     "language": "python",
     "metadata": {},
     "outputs": [
      {
       "metadata": {},
       "output_type": "pyout",
       "prompt_number": 28,
       "text": [
        "4095"
       ]
      }
     ],
     "prompt_number": 28
    },
    {
     "cell_type": "code",
     "collapsed": false,
     "input": [],
     "language": "python",
     "metadata": {},
     "outputs": []
    },
    {
     "cell_type": "code",
     "collapsed": false,
     "input": [
      "sum(sum(1 for e in itertools.combinations(range(3), i)) for i in range(3)) \\\n",
      "+ sum(sum(1 for e in itertools.combinations(range(3), i)) for i in range(3)) \\\n",
      "+ sum(sum(1 for e in itertools.combinations(range(6), i)) for i in range(6)) \\\n",
      "+ sum(sum(1 for e in itertools.combinations(range(6), i)) for i in range(6)) \\\n",
      "+ sum(sum(1 for e in itertools.combinations(range(6), i)) for i in range(6)) \\\n",
      "+ sum(sum(1 for e in itertools.combinations(range(9), i)) for i in range(9)) \\\n",
      "+ sum(sum(1 for e in itertools.combinations(range(8), i)) for i in range(8)) \\\n",
      "+ sum(sum(1 for e in itertools.combinations(range(8), i)) for i in range(8)) \\\n",
      "+ sum(sum(1 for e in itertools.combinations(range(10), i)) for i in range(10))"
     ],
     "language": "python",
     "metadata": {},
     "outputs": [
      {
       "metadata": {},
       "output_type": "pyout",
       "prompt_number": 74,
       "text": [
        "2247"
       ]
      }
     ],
     "prompt_number": 74
    },
    {
     "cell_type": "markdown",
     "metadata": {},
     "source": [
      "Color fragment by atoms stabilities"
     ]
    },
    {
     "cell_type": "markdown",
     "metadata": {},
     "source": [
      "Nanotube huckel:"
     ]
    },
    {
     "cell_type": "code",
     "collapsed": false,
     "input": [],
     "language": "python",
     "metadata": {},
     "outputs": []
    }
   ],
   "metadata": {}
  }
 ]
}