{
 "metadata": {
  "name": "",
  "signature": "sha256:993f546a1d10162c79519a974b0dc2b8061ba97b972ae8f27f162aef2a1e6233"
 },
 "nbformat": 3,
 "nbformat_minor": 0,
 "worksheets": [
  {
   "cells": [
    {
     "cell_type": "markdown",
     "metadata": {},
     "source": [
      "Continuing on from the [cycloadditions project](Graphene_cycloadditions.ipynb) we now construct oniom calculations. These calculations will be run from the cycloadd/oniom directory"
     ]
    },
    {
     "cell_type": "code",
     "collapsed": false,
     "input": [
      "%pylab inline"
     ],
     "language": "python",
     "metadata": {},
     "outputs": [
      {
       "output_type": "stream",
       "stream": "stdout",
       "text": [
        "Populating the interactive namespace from numpy and matplotlib\n"
       ]
      }
     ],
     "prompt_number": 1
    },
    {
     "cell_type": "code",
     "collapsed": false,
     "input": [
      "import pandas, os\n",
      "import numpy as np\n",
      "from webbrowser import open as open_log\n",
      "from math import pi\n",
      "from IPython.core.display import HTML, Image\n",
      "from ase.io import read, write\n",
      "from gausspy import Gaussian\n",
      "from glob import glob\n",
      "from ASE_utils import *\n",
      "import cc_notebook_utils\n",
      "from cc_notebook_utils import *\n",
      "from adsy import display as ad_disp\n",
      "#pandas.set_printoptions(max_rows=200, max_columns=10)\n",
      "#ad_disp.extended_styles()"
     ],
     "language": "python",
     "metadata": {},
     "outputs": [
      {
       "output_type": "stream",
       "stream": "stderr",
       "text": [
        "WARNING:root:libint extension not found, switching to normal ERI computation\n"
       ]
      },
      {
       "ename": "ImportError",
       "evalue": "No module named ASE_utils",
       "output_type": "pyerr",
       "traceback": [
        "\u001b[1;31m---------------------------------------------------------------------------\u001b[0m\n\u001b[1;31mImportError\u001b[0m                               Traceback (most recent call last)",
        "\u001b[1;32m<ipython-input-2-513fdd21dd52>\u001b[0m in \u001b[0;36m<module>\u001b[1;34m()\u001b[0m\n\u001b[0;32m      7\u001b[0m \u001b[1;32mfrom\u001b[0m \u001b[0mgausspy\u001b[0m \u001b[1;32mimport\u001b[0m \u001b[0mGaussian\u001b[0m\u001b[1;33m\u001b[0m\u001b[0m\n\u001b[0;32m      8\u001b[0m \u001b[1;32mfrom\u001b[0m \u001b[0mglob\u001b[0m \u001b[1;32mimport\u001b[0m \u001b[0mglob\u001b[0m\u001b[1;33m\u001b[0m\u001b[0m\n\u001b[1;32m----> 9\u001b[1;33m \u001b[1;32mfrom\u001b[0m \u001b[0mASE_utils\u001b[0m \u001b[1;32mimport\u001b[0m \u001b[1;33m*\u001b[0m\u001b[1;33m\u001b[0m\u001b[0m\n\u001b[0m\u001b[0;32m     10\u001b[0m \u001b[1;32mimport\u001b[0m \u001b[0mcc_notebook_utils\u001b[0m\u001b[1;33m\u001b[0m\u001b[0m\n\u001b[0;32m     11\u001b[0m \u001b[1;32mfrom\u001b[0m \u001b[0mcc_notebook_utils\u001b[0m \u001b[1;32mimport\u001b[0m \u001b[1;33m*\u001b[0m\u001b[1;33m\u001b[0m\u001b[0m\n",
        "\u001b[1;31mImportError\u001b[0m: No module named ASE_utils"
       ]
      }
     ],
     "prompt_number": 2
    },
    {
     "cell_type": "code",
     "collapsed": false,
     "input": [
      "cd unrestricted_cycloadd_oniom/"
     ],
     "language": "python",
     "metadata": {},
     "outputs": []
    },
    {
     "cell_type": "heading",
     "level": 2,
     "metadata": {},
     "source": [
      "Single point calculations"
     ]
    },
    {
     "cell_type": "code",
     "collapsed": false,
     "input": [
      "carb_44_xyz = 'oniom_xyz_files/non_oniom_final/B3LYP_631Gd_B3LYP_631Gd_4_4_cent_carbonyl.xyz'\n",
      "graph_44_xyz = 'oniom_xyz_files/non_oniom_final/B3LYP_631Gd_B3LYP_631Gd_4_4_graphene.xyz'"
     ],
     "language": "python",
     "metadata": {},
     "outputs": []
    },
    {
     "cell_type": "code",
     "collapsed": false,
     "input": [
      "ylide_atoms = [67,68,69,70,71,72,73]\n",
      "graph_atoms = {}\n",
      "graph_atoms.update({0:[28,29]}) #2 C atoms\n",
      "graph_atoms.update({1:graph_atoms[0] + [12,13,14,15,27,41,42,30]}) #10 C atoms\n",
      "graph_atoms.update({2:graph_atoms[1] + [11,25,26,16,32,31]}) #16 C atoms\n",
      "graph_atoms.update({3:graph_atoms[2] + [24,33]})#18 C atoms\n",
      "graph_atoms.update({4:graph_atoms[2] + [38,39,52,40,47,55,48,56,43,44,53,45,17,6,60,5,4,59,3,58,2,1,57,10]}) # 42 C atoms (total molecule = 50 C atoms)"
     ],
     "language": "python",
     "metadata": {},
     "outputs": []
    },
    {
     "cell_type": "markdown",
     "metadata": {},
     "source": [
      "First test stability of previous calculations, the keywords oniom and stable don't play nicely together (only the low_real calculation is tested) so we use 'OnlyInputFiles' to generate the input files for the components of the plain oniom calculation. Then we use the oniom_comp_calcs helper function to construct relevant ase_obejcts and add stable='opt' to the appropriate calculation."
     ]
    },
    {
     "cell_type": "code",
     "collapsed": false,
     "input": [
      "l_methods = ['uff','am1','pm6','HF/STO-3G']\n",
      "o_44_carb = []\n",
      "o_44 = []\n",
      "\n",
      "for siz in range(5):\n",
      "    for meth in l_methods:\n",
      "        graph_ylid = read(carb_44_xyz)\n",
      "        graph_ylid_name = 'o{s}_{m}_B3LYP_631Gd_4_4_cent_carbonyl_stable'.format(m=meth.replace('/', '_'), s=siz)\n",
      "        graph_ylid.set_calculator(Gaussian(label=graph_ylid_name, method='oniom(B3LYP/6-31G(d):{l})=OnlyInputFiles'.format(l=meth), basis='oniom'))\n",
      "        graph_ylid_H = ylide_atoms + graph_atoms[siz]\n",
      "        graph_ylid.calc.oniom_coord_params['layers'] = [[no -1 for no in graph_ylid_H]]\n",
      "        graph_ylid.calc.oniom_coord_params['layer_mults'] = [1,1]\n",
      "        graph_ylid.calc.set_job(nodes=8, memory=8*1400, time=5, queue='pqmb')\n",
      "        #graph.calc.start(frc=True)\n",
      "        \n",
      "        graph = read(graph_44_xyz)\n",
      "        graph_name = 'o{s}_{m}_B3LYP_631Gd_4_4_graphene_stable'.format(m=meth.replace('/', '_'), s=siz)\n",
      "        graph.set_calculator(Gaussian(label=graph_name, method='oniom(B3LYP/6-31G(d):{l})=OnlyInputFiles'.format(l=meth), basis='oniom'))\n",
      "        graph_H = graph_atoms[siz]\n",
      "        graph.calc.oniom_coord_params['layers'] = [[no -1 for no in graph_H]]\n",
      "        graph.calc.oniom_coord_params['layer_mults'] = [1,1]\n",
      "        graph.calc.set_job(nodes=8, memory=8*1400, time=5, queue='pqmb')\n",
      "        \n",
      "        #graph_ylid.calc.start(frc=True)\n",
      "        o_44_carb.append(graph_ylid)\n",
      "        o_44.append(graph)\n",
      "        \n",
      "#sanity check\n",
      "graph_ylid = read(carb_44_xyz)\n",
      "graph_ylid_name = 'o_sanity_B3LYP_631Gd_4_4_cent_carbonyl_stable'\n",
      "graph_ylid.set_calculator(Gaussian(label=graph_ylid_name, method='oniom(B3LYP/6-31G(d):B3LYP/6-31G(d))=OnlyInputFiles', basis='oniom'))\n",
      "graph_ylid_H = ylide_atoms + graph_atoms[0]\n",
      "graph_ylid.calc.oniom_coord_params['layers'] = [[no -1 for no in graph_ylid_H]]\n",
      "graph_ylid.calc.oniom_coord_params['layer_mults'] = [1,1]\n",
      "graph_ylid.calc.set_job(nodes=8, memory=8*1400, time=5, queue='pqmb')\n",
      "        \n",
      "graph = read(graph_44_xyz)\n",
      "graph_name = 'o_sanity_B3LYP_631Gd_4_4_graphene_stable'\n",
      "graph.set_calculator(Gaussian(label=graph_name, method='oniom(B3LYP/6-31G(d):B3LYP/6-31G(d))=OnlyInputFiles', basis='oniom'))\n",
      "graph_H = graph_atoms[0]\n",
      "graph.calc.oniom_coord_params['layers'] = [[no -1 for no in graph_H]]\n",
      "graph.calc.oniom_coord_params['layer_mults'] = [1,1]\n",
      "graph.calc.set_job(nodes=8, memory=8*1400, time=5, queue='pqmb')\n",
      "        \n",
      "#graph_ylid.calc.start(frc=True)\n",
      "#graph.calc.start(frc=True)\n",
      "o_44_carb.append(graph_ylid)\n",
      "o_44.append(graph)"
     ],
     "language": "python",
     "metadata": {},
     "outputs": []
    },
    {
     "cell_type": "code",
     "collapsed": false,
     "input": [
      "check_calcs(o_44 + o_44_carb)"
     ],
     "language": "python",
     "metadata": {},
     "outputs": []
    },
    {
     "cell_type": "code",
     "collapsed": false,
     "input": [
      "import oniom_utils\n",
      "l_rls, h_mds, l_mds = [list(c) for c in zip(*[oniom_utils.oniom_comp_calcs(r, stable='opt') for r in o_44 + o_44_carb])]\n",
      "for c in l_rls + h_mds + l_mds:\n",
      "    c.calc.set_job(nodes=8, memory=8*1400, time=5, queue='pqmb')\n",
      "    #c.calc.start()"
     ],
     "language": "python",
     "metadata": {},
     "outputs": [],
     "prompt_number": 7
    },
    {
     "cell_type": "code",
     "collapsed": false,
     "input": [
      "check_calcs(l_rls + h_mds + l_mds)\n",
      "mols_to_html(l_rls + h_mds + l_mds,sort=True, data_func=lambda m: m.calc.energy_zero)"
     ],
     "language": "python",
     "metadata": {},
     "outputs": [
      {
       "html": [
        "\n",
        "    <style>\n",
        "    table\n",
        "    {\n",
        "        border-collapse:collapse;\n",
        "    }\n",
        "    td\n",
        "    {\n",
        "        padding:15px;\n",
        "    }\n",
        "    </style>\n",
        "    <body>\n",
        "    <table bgcolor=\"white\">\n",
        "    <col/><tr><td>o0_HF_STO-3G_B3LYP_631Gd_4_4_cent_carbonyl_stable_high_model</td><td><a href = \"files/graphene_cycloadditions/unrestricted_cycloadd_oniom/o0_HF_STO-3G_B3LYP_631Gd_4_4_cent_carbonyl_stable_high_model.com\" target = \"_blank\">com</a></td><td><input type=\"button\" value=\"Smart Log\" id=\"o0_HF_STO-3G_B3LYP_631Gd_4_4_cent_carbonyl_stable_high_model\" onclick=\"IPython.cc_notebook.view_function(event, this.id)\" /></td><td>Success</td><td>-6325.01312175</td></tr><tr><td>o0_HF_STO-3G_B3LYP_631Gd_4_4_cent_carbonyl_stable_low_model</td><td><a href = \"files/graphene_cycloadditions/unrestricted_cycloadd_oniom/o0_HF_STO-3G_B3LYP_631Gd_4_4_cent_carbonyl_stable_low_model.com\" target = \"_blank\">com</a></td><td><input type=\"button\" value=\"Smart Log\" id=\"o0_HF_STO-3G_B3LYP_631Gd_4_4_cent_carbonyl_stable_low_model\" onclick=\"IPython.cc_notebook.view_function(event, this.id)\" /></td><td>Success</td><td>-6207.90826012</td></tr><tr><td>o0_HF_STO-3G_B3LYP_631Gd_4_4_cent_carbonyl_stable_low_real</td><td><a href = \"files/graphene_cycloadditions/unrestricted_cycloadd_oniom/o0_HF_STO-3G_B3LYP_631Gd_4_4_cent_carbonyl_stable_low_real.com\" target = \"_blank\">com</a></td><td><input type=\"button\" value=\"Smart Log\" id=\"o0_HF_STO-3G_B3LYP_631Gd_4_4_cent_carbonyl_stable_low_real\" onclick=\"IPython.cc_notebook.view_function(event, this.id)\" /></td><td>Success</td><td>-53265.8357814</td></tr><tr><td>o0_HF_STO-3G_B3LYP_631Gd_4_4_graphene_stable_high_model</td><td><a href = \"files/graphene_cycloadditions/unrestricted_cycloadd_oniom/o0_HF_STO-3G_B3LYP_631Gd_4_4_graphene_stable_high_model.com\" target = \"_blank\">com</a></td><td><input type=\"button\" value=\"Smart Log\" id=\"o0_HF_STO-3G_B3LYP_631Gd_4_4_graphene_stable_high_model\" onclick=\"IPython.cc_notebook.view_function(event, this.id)\" /></td><td>Success</td><td>-2138.06949675</td></tr><tr><td>o0_HF_STO-3G_B3LYP_631Gd_4_4_graphene_stable_low_model</td><td><a href = \"files/graphene_cycloadditions/unrestricted_cycloadd_oniom/o0_HF_STO-3G_B3LYP_631Gd_4_4_graphene_stable_low_model.com\" target = \"_blank\">com</a></td><td><input type=\"button\" value=\"Smart Log\" id=\"o0_HF_STO-3G_B3LYP_631Gd_4_4_graphene_stable_low_model\" onclick=\"IPython.cc_notebook.view_function(event, this.id)\" /></td><td>Success</td><td>-2097.0483695</td></tr><tr><td>o0_HF_STO-3G_B3LYP_631Gd_4_4_graphene_stable_low_real</td><td><a href = \"files/graphene_cycloadditions/unrestricted_cycloadd_oniom/o0_HF_STO-3G_B3LYP_631Gd_4_4_graphene_stable_low_real.com\" target = \"_blank\">com</a></td><td><input type=\"button\" value=\"Smart Log\" id=\"o0_HF_STO-3G_B3LYP_631Gd_4_4_graphene_stable_low_real\" onclick=\"IPython.cc_notebook.view_function(event, this.id)\" /></td><td>Success</td><td>-49159.0365167</td></tr><tr><td>o0_am1_B3LYP_631Gd_4_4_cent_carbonyl_stable_high_model</td><td><a href = \"files/graphene_cycloadditions/unrestricted_cycloadd_oniom/o0_am1_B3LYP_631Gd_4_4_cent_carbonyl_stable_high_model.com\" target = \"_blank\">com</a></td><td><input type=\"button\" value=\"Smart Log\" id=\"o0_am1_B3LYP_631Gd_4_4_cent_carbonyl_stable_high_model\" onclick=\"IPython.cc_notebook.view_function(event, this.id)\" /></td><td>Success</td><td>-6325.01312175</td></tr><tr><td>o0_am1_B3LYP_631Gd_4_4_cent_carbonyl_stable_low_model</td><td><a href = \"files/graphene_cycloadditions/unrestricted_cycloadd_oniom/o0_am1_B3LYP_631Gd_4_4_cent_carbonyl_stable_low_model.com\" target = \"_blank\">com</a></td><td><input type=\"button\" value=\"Smart Log\" id=\"o0_am1_B3LYP_631Gd_4_4_cent_carbonyl_stable_low_model\" onclick=\"IPython.cc_notebook.view_function(event, this.id)\" /></td><td>Success</td><td>-1.88093192589</td></tr><tr><td>o0_am1_B3LYP_631Gd_4_4_cent_carbonyl_stable_low_real</td><td><a href = \"files/graphene_cycloadditions/unrestricted_cycloadd_oniom/o0_am1_B3LYP_631Gd_4_4_cent_carbonyl_stable_low_real.com\" target = \"_blank\">com</a></td><td><input type=\"button\" value=\"Smart Log\" id=\"o0_am1_B3LYP_631Gd_4_4_cent_carbonyl_stable_low_real\" onclick=\"IPython.cc_notebook.view_function(event, this.id)\" /></td><td>Success</td><td>11.3539147123</td></tr><tr><td>o0_am1_B3LYP_631Gd_4_4_graphene_stable_high_model</td><td><a href = \"files/graphene_cycloadditions/unrestricted_cycloadd_oniom/o0_am1_B3LYP_631Gd_4_4_graphene_stable_high_model.com\" target = \"_blank\">com</a></td><td><input type=\"button\" value=\"Smart Log\" id=\"o0_am1_B3LYP_631Gd_4_4_graphene_stable_high_model\" onclick=\"IPython.cc_notebook.view_function(event, this.id)\" /></td><td>Success</td><td>-2138.06949675</td></tr><tr><td>o0_am1_B3LYP_631Gd_4_4_graphene_stable_low_model</td><td><a href = \"files/graphene_cycloadditions/unrestricted_cycloadd_oniom/o0_am1_B3LYP_631Gd_4_4_graphene_stable_low_model.com\" target = \"_blank\">com</a></td><td><input type=\"button\" value=\"Smart Log\" id=\"o0_am1_B3LYP_631Gd_4_4_graphene_stable_low_model\" onclick=\"IPython.cc_notebook.view_function(event, this.id)\" /></td><td>Success</td><td>1.2580925302</td></tr><tr><td>o0_am1_B3LYP_631Gd_4_4_graphene_stable_low_real</td><td><a href = \"files/graphene_cycloadditions/unrestricted_cycloadd_oniom/o0_am1_B3LYP_631Gd_4_4_graphene_stable_low_real.com\" target = \"_blank\">com</a></td><td><input type=\"button\" value=\"Smart Log\" id=\"o0_am1_B3LYP_631Gd_4_4_graphene_stable_low_real\" onclick=\"IPython.cc_notebook.view_function(event, this.id)\" /></td><td>Success</td><td>10.7936701281</td></tr><tr><td>o0_pm6_B3LYP_631Gd_4_4_cent_carbonyl_stable_high_model</td><td><a href = \"files/graphene_cycloadditions/unrestricted_cycloadd_oniom/o0_pm6_B3LYP_631Gd_4_4_cent_carbonyl_stable_high_model.com\" target = \"_blank\">com</a></td><td><input type=\"button\" value=\"Smart Log\" id=\"o0_pm6_B3LYP_631Gd_4_4_cent_carbonyl_stable_high_model\" onclick=\"IPython.cc_notebook.view_function(event, this.id)\" /></td><td>Success</td><td>-6325.01312175</td></tr><tr><td>o0_pm6_B3LYP_631Gd_4_4_cent_carbonyl_stable_low_model</td><td><a href = \"files/graphene_cycloadditions/unrestricted_cycloadd_oniom/o0_pm6_B3LYP_631Gd_4_4_cent_carbonyl_stable_low_model.com\" target = \"_blank\">com</a></td><td><input type=\"button\" value=\"Smart Log\" id=\"o0_pm6_B3LYP_631Gd_4_4_cent_carbonyl_stable_low_model\" onclick=\"IPython.cc_notebook.view_function(event, this.id)\" /></td><td>Success</td><td>-1.71595204891</td></tr><tr><td>o0_pm6_B3LYP_631Gd_4_4_cent_carbonyl_stable_low_real</td><td><a href = \"files/graphene_cycloadditions/unrestricted_cycloadd_oniom/o0_pm6_B3LYP_631Gd_4_4_cent_carbonyl_stable_low_real.com\" target = \"_blank\">com</a></td><td><input type=\"button\" value=\"Smart Log\" id=\"o0_pm6_B3LYP_631Gd_4_4_cent_carbonyl_stable_low_real\" onclick=\"IPython.cc_notebook.view_function(event, this.id)\" /></td><td>Success</td><td>9.14190669313</td></tr><tr><td>o0_pm6_B3LYP_631Gd_4_4_graphene_stable_high_model</td><td><a href = \"files/graphene_cycloadditions/unrestricted_cycloadd_oniom/o0_pm6_B3LYP_631Gd_4_4_graphene_stable_high_model.com\" target = \"_blank\">com</a></td><td><input type=\"button\" value=\"Smart Log\" id=\"o0_pm6_B3LYP_631Gd_4_4_graphene_stable_high_model\" onclick=\"IPython.cc_notebook.view_function(event, this.id)\" /></td><td>Success</td><td>-2138.06949675</td></tr><tr><td>o0_pm6_B3LYP_631Gd_4_4_graphene_stable_low_model</td><td><a href = \"files/graphene_cycloadditions/unrestricted_cycloadd_oniom/o0_pm6_B3LYP_631Gd_4_4_graphene_stable_low_model.com\" target = \"_blank\">com</a></td><td><input type=\"button\" value=\"Smart Log\" id=\"o0_pm6_B3LYP_631Gd_4_4_graphene_stable_low_model\" onclick=\"IPython.cc_notebook.view_function(event, this.id)\" /></td><td>Success</td><td>1.02053038981</td></tr><tr><td>o0_pm6_B3LYP_631Gd_4_4_graphene_stable_low_real</td><td><a href = \"files/graphene_cycloadditions/unrestricted_cycloadd_oniom/o0_pm6_B3LYP_631Gd_4_4_graphene_stable_low_real.com\" target = \"_blank\">com</a></td><td><input type=\"button\" value=\"Smart Log\" id=\"o0_pm6_B3LYP_631Gd_4_4_graphene_stable_low_real\" onclick=\"IPython.cc_notebook.view_function(event, this.id)\" /></td><td>Success</td><td>9.13739195036</td></tr><tr><td>o0_uff_B3LYP_631Gd_4_4_cent_carbonyl_stable_high_model</td><td><a href = \"files/graphene_cycloadditions/unrestricted_cycloadd_oniom/o0_uff_B3LYP_631Gd_4_4_cent_carbonyl_stable_high_model.com\" target = \"_blank\">com</a></td><td><input type=\"button\" value=\"Smart Log\" id=\"o0_uff_B3LYP_631Gd_4_4_cent_carbonyl_stable_high_model\" onclick=\"IPython.cc_notebook.view_function(event, this.id)\" /></td><td>Success</td><td>-6325.01312175</td></tr><tr><td>o0_uff_B3LYP_631Gd_4_4_cent_carbonyl_stable_low_model</td><td><a href = \"files/graphene_cycloadditions/unrestricted_cycloadd_oniom/o0_uff_B3LYP_631Gd_4_4_cent_carbonyl_stable_low_model.com\" target = \"_blank\">com</a></td><td><input type=\"button\" value=\"Smart Log\" id=\"o0_uff_B3LYP_631Gd_4_4_cent_carbonyl_stable_low_model\" onclick=\"IPython.cc_notebook.view_function(event, this.id)\" /></td><td>Error: Length       25088</td><td>nan</td></tr><tr><td>o0_uff_B3LYP_631Gd_4_4_cent_carbonyl_stable_low_real</td><td><a href = \"files/graphene_cycloadditions/unrestricted_cycloadd_oniom/o0_uff_B3LYP_631Gd_4_4_cent_carbonyl_stable_low_real.com\" target = \"_blank\">com</a></td><td><input type=\"button\" value=\"Smart Log\" id=\"o0_uff_B3LYP_631Gd_4_4_cent_carbonyl_stable_low_real\" onclick=\"IPython.cc_notebook.view_function(event, this.id)\" /></td><td>Error: Length       25088</td><td>nan</td></tr><tr><td>o0_uff_B3LYP_631Gd_4_4_graphene_stable_high_model</td><td><a href = \"files/graphene_cycloadditions/unrestricted_cycloadd_oniom/o0_uff_B3LYP_631Gd_4_4_graphene_stable_high_model.com\" target = \"_blank\">com</a></td><td><input type=\"button\" value=\"Smart Log\" id=\"o0_uff_B3LYP_631Gd_4_4_graphene_stable_high_model\" onclick=\"IPython.cc_notebook.view_function(event, this.id)\" /></td><td>Success</td><td>-2138.06949675</td></tr><tr><td>o0_uff_B3LYP_631Gd_4_4_graphene_stable_low_model</td><td><a href = \"files/graphene_cycloadditions/unrestricted_cycloadd_oniom/o0_uff_B3LYP_631Gd_4_4_graphene_stable_low_model.com\" target = \"_blank\">com</a></td><td><input type=\"button\" value=\"Smart Log\" id=\"o0_uff_B3LYP_631Gd_4_4_graphene_stable_low_model\" onclick=\"IPython.cc_notebook.view_function(event, this.id)\" /></td><td>Error: Length       25088</td><td>nan</td></tr><tr><td>o0_uff_B3LYP_631Gd_4_4_graphene_stable_low_real</td><td><a href = \"files/graphene_cycloadditions/unrestricted_cycloadd_oniom/o0_uff_B3LYP_631Gd_4_4_graphene_stable_low_real.com\" target = \"_blank\">com</a></td><td><input type=\"button\" value=\"Smart Log\" id=\"o0_uff_B3LYP_631Gd_4_4_graphene_stable_low_real\" onclick=\"IPython.cc_notebook.view_function(event, this.id)\" /></td><td>Error: Length       25088</td><td>nan</td></tr><tr><td>o1_HF_STO-3G_B3LYP_631Gd_4_4_cent_carbonyl_stable_high_model</td><td><a href = \"files/graphene_cycloadditions/unrestricted_cycloadd_oniom/o1_HF_STO-3G_B3LYP_631Gd_4_4_cent_carbonyl_stable_high_model.com\" target = \"_blank\">com</a></td><td><input type=\"button\" value=\"Smart Log\" id=\"o1_HF_STO-3G_B3LYP_631Gd_4_4_cent_carbonyl_stable_high_model\" onclick=\"IPython.cc_notebook.view_function(event, this.id)\" /></td><td>Success</td><td>-14682.8908519</td></tr><tr><td>o1_HF_STO-3G_B3LYP_631Gd_4_4_cent_carbonyl_stable_low_model</td><td><a href = \"files/graphene_cycloadditions/unrestricted_cycloadd_oniom/o1_HF_STO-3G_B3LYP_631Gd_4_4_cent_carbonyl_stable_low_model.com\" target = \"_blank\">com</a></td><td><input type=\"button\" value=\"Smart Log\" id=\"o1_HF_STO-3G_B3LYP_631Gd_4_4_cent_carbonyl_stable_low_model\" onclick=\"IPython.cc_notebook.view_function(event, this.id)\" /></td><td>Success</td><td>-14412.068925</td></tr><tr><td>o1_HF_STO-3G_B3LYP_631Gd_4_4_cent_carbonyl_stable_low_real</td><td><a href = \"files/graphene_cycloadditions/unrestricted_cycloadd_oniom/o1_HF_STO-3G_B3LYP_631Gd_4_4_cent_carbonyl_stable_low_real.com\" target = \"_blank\">com</a></td><td><input type=\"button\" value=\"Smart Log\" id=\"o1_HF_STO-3G_B3LYP_631Gd_4_4_cent_carbonyl_stable_low_real\" onclick=\"IPython.cc_notebook.view_function(event, this.id)\" /></td><td>Success</td><td>-53265.8357814</td></tr><tr><td>o1_HF_STO-3G_B3LYP_631Gd_4_4_graphene_stable_high_model</td><td><a href = \"files/graphene_cycloadditions/unrestricted_cycloadd_oniom/o1_HF_STO-3G_B3LYP_631Gd_4_4_graphene_stable_high_model.com\" target = \"_blank\">com</a></td><td><input type=\"button\" value=\"Smart Log\" id=\"o1_HF_STO-3G_B3LYP_631Gd_4_4_graphene_stable_high_model\" onclick=\"IPython.cc_notebook.view_function(event, this.id)\" /></td><td>Success</td><td>-10499.9616152</td></tr><tr><td>o1_HF_STO-3G_B3LYP_631Gd_4_4_graphene_stable_low_model</td><td><a href = \"files/graphene_cycloadditions/unrestricted_cycloadd_oniom/o1_HF_STO-3G_B3LYP_631Gd_4_4_graphene_stable_low_model.com\" target = \"_blank\">com</a></td><td><input type=\"button\" value=\"Smart Log\" id=\"o1_HF_STO-3G_B3LYP_631Gd_4_4_graphene_stable_low_model\" onclick=\"IPython.cc_notebook.view_function(event, this.id)\" /></td><td>Success</td><td>-10305.3898776</td></tr><tr><td>o1_HF_STO-3G_B3LYP_631Gd_4_4_graphene_stable_low_real</td><td><a href = \"files/graphene_cycloadditions/unrestricted_cycloadd_oniom/o1_HF_STO-3G_B3LYP_631Gd_4_4_graphene_stable_low_real.com\" target = \"_blank\">com</a></td><td><input type=\"button\" value=\"Smart Log\" id=\"o1_HF_STO-3G_B3LYP_631Gd_4_4_graphene_stable_low_real\" onclick=\"IPython.cc_notebook.view_function(event, this.id)\" /></td><td>Success</td><td>-49159.0365167</td></tr><tr><td>o1_am1_B3LYP_631Gd_4_4_cent_carbonyl_stable_high_model</td><td><a href = \"files/graphene_cycloadditions/unrestricted_cycloadd_oniom/o1_am1_B3LYP_631Gd_4_4_cent_carbonyl_stable_high_model.com\" target = \"_blank\">com</a></td><td><input type=\"button\" value=\"Smart Log\" id=\"o1_am1_B3LYP_631Gd_4_4_cent_carbonyl_stable_high_model\" onclick=\"IPython.cc_notebook.view_function(event, this.id)\" /></td><td>Success</td><td>-14682.8908519</td></tr><tr><td>o1_am1_B3LYP_631Gd_4_4_cent_carbonyl_stable_low_model</td><td><a href = \"files/graphene_cycloadditions/unrestricted_cycloadd_oniom/o1_am1_B3LYP_631Gd_4_4_cent_carbonyl_stable_low_model.com\" target = \"_blank\">com</a></td><td><input type=\"button\" value=\"Smart Log\" id=\"o1_am1_B3LYP_631Gd_4_4_cent_carbonyl_stable_low_model\" onclick=\"IPython.cc_notebook.view_function(event, this.id)\" /></td><td>Success</td><td>3.03361860438</td></tr><tr><td>o1_am1_B3LYP_631Gd_4_4_cent_carbonyl_stable_low_real</td><td><a href = \"files/graphene_cycloadditions/unrestricted_cycloadd_oniom/o1_am1_B3LYP_631Gd_4_4_cent_carbonyl_stable_low_real.com\" target = \"_blank\">com</a></td><td><input type=\"button\" value=\"Smart Log\" id=\"o1_am1_B3LYP_631Gd_4_4_cent_carbonyl_stable_low_real\" onclick=\"IPython.cc_notebook.view_function(event, this.id)\" /></td><td>Success</td><td>11.3539147123</td></tr><tr><td>o1_am1_B3LYP_631Gd_4_4_graphene_stable_high_model</td><td><a href = \"files/graphene_cycloadditions/unrestricted_cycloadd_oniom/o1_am1_B3LYP_631Gd_4_4_graphene_stable_high_model.com\" target = \"_blank\">com</a></td><td><input type=\"button\" value=\"Smart Log\" id=\"o1_am1_B3LYP_631Gd_4_4_graphene_stable_high_model\" onclick=\"IPython.cc_notebook.view_function(event, this.id)\" /></td><td>Success</td><td>-10499.9616152</td></tr><tr><td>o1_am1_B3LYP_631Gd_4_4_graphene_stable_low_model</td><td><a href = \"files/graphene_cycloadditions/unrestricted_cycloadd_oniom/o1_am1_B3LYP_631Gd_4_4_graphene_stable_low_model.com\" target = \"_blank\">com</a></td><td><input type=\"button\" value=\"Smart Log\" id=\"o1_am1_B3LYP_631Gd_4_4_graphene_stable_low_model\" onclick=\"IPython.cc_notebook.view_function(event, this.id)\" /></td><td>Success</td><td>2.76446464379</td></tr><tr><td>o1_am1_B3LYP_631Gd_4_4_graphene_stable_low_real</td><td><a href = \"files/graphene_cycloadditions/unrestricted_cycloadd_oniom/o1_am1_B3LYP_631Gd_4_4_graphene_stable_low_real.com\" target = \"_blank\">com</a></td><td><input type=\"button\" value=\"Smart Log\" id=\"o1_am1_B3LYP_631Gd_4_4_graphene_stable_low_real\" onclick=\"IPython.cc_notebook.view_function(event, this.id)\" /></td><td>Success</td><td>10.7936701281</td></tr><tr><td>o1_pm6_B3LYP_631Gd_4_4_cent_carbonyl_stable_high_model</td><td><a href = \"files/graphene_cycloadditions/unrestricted_cycloadd_oniom/o1_pm6_B3LYP_631Gd_4_4_cent_carbonyl_stable_high_model.com\" target = \"_blank\">com</a></td><td><input type=\"button\" value=\"Smart Log\" id=\"o1_pm6_B3LYP_631Gd_4_4_cent_carbonyl_stable_high_model\" onclick=\"IPython.cc_notebook.view_function(event, this.id)\" /></td><td>Success</td><td>-14682.8908519</td></tr><tr><td>o1_pm6_B3LYP_631Gd_4_4_cent_carbonyl_stable_low_model</td><td><a href = \"files/graphene_cycloadditions/unrestricted_cycloadd_oniom/o1_pm6_B3LYP_631Gd_4_4_cent_carbonyl_stable_low_model.com\" target = \"_blank\">com</a></td><td><input type=\"button\" value=\"Smart Log\" id=\"o1_pm6_B3LYP_631Gd_4_4_cent_carbonyl_stable_low_model\" onclick=\"IPython.cc_notebook.view_function(event, this.id)\" /></td><td>Success</td><td>2.08047783818</td></tr><tr><td>o1_pm6_B3LYP_631Gd_4_4_cent_carbonyl_stable_low_real</td><td><a href = \"files/graphene_cycloadditions/unrestricted_cycloadd_oniom/o1_pm6_B3LYP_631Gd_4_4_cent_carbonyl_stable_low_real.com\" target = \"_blank\">com</a></td><td><input type=\"button\" value=\"Smart Log\" id=\"o1_pm6_B3LYP_631Gd_4_4_cent_carbonyl_stable_low_real\" onclick=\"IPython.cc_notebook.view_function(event, this.id)\" /></td><td>Success</td><td>9.14190669313</td></tr><tr><td>o1_pm6_B3LYP_631Gd_4_4_graphene_stable_high_model</td><td><a href = \"files/graphene_cycloadditions/unrestricted_cycloadd_oniom/o1_pm6_B3LYP_631Gd_4_4_graphene_stable_high_model.com\" target = \"_blank\">com</a></td><td><input type=\"button\" value=\"Smart Log\" id=\"o1_pm6_B3LYP_631Gd_4_4_graphene_stable_high_model\" onclick=\"IPython.cc_notebook.view_function(event, this.id)\" /></td><td>Success</td><td>-10499.9616152</td></tr><tr><td>o1_pm6_B3LYP_631Gd_4_4_graphene_stable_low_model</td><td><a href = \"files/graphene_cycloadditions/unrestricted_cycloadd_oniom/o1_pm6_B3LYP_631Gd_4_4_graphene_stable_low_model.com\" target = \"_blank\">com</a></td><td><input type=\"button\" value=\"Smart Log\" id=\"o1_pm6_B3LYP_631Gd_4_4_graphene_stable_low_model\" onclick=\"IPython.cc_notebook.view_function(event, this.id)\" /></td><td>Success</td><td>2.36669760869</td></tr><tr><td>o1_pm6_B3LYP_631Gd_4_4_graphene_stable_low_real</td><td><a href = \"files/graphene_cycloadditions/unrestricted_cycloadd_oniom/o1_pm6_B3LYP_631Gd_4_4_graphene_stable_low_real.com\" target = \"_blank\">com</a></td><td><input type=\"button\" value=\"Smart Log\" id=\"o1_pm6_B3LYP_631Gd_4_4_graphene_stable_low_real\" onclick=\"IPython.cc_notebook.view_function(event, this.id)\" /></td><td>Success</td><td>9.13739195036</td></tr><tr><td>o1_uff_B3LYP_631Gd_4_4_cent_carbonyl_stable_high_model</td><td><a href = \"files/graphene_cycloadditions/unrestricted_cycloadd_oniom/o1_uff_B3LYP_631Gd_4_4_cent_carbonyl_stable_high_model.com\" target = \"_blank\">com</a></td><td><input type=\"button\" value=\"Smart Log\" id=\"o1_uff_B3LYP_631Gd_4_4_cent_carbonyl_stable_high_model\" onclick=\"IPython.cc_notebook.view_function(event, this.id)\" /></td><td>Success</td><td>-14682.8908519</td></tr><tr><td>o1_uff_B3LYP_631Gd_4_4_cent_carbonyl_stable_low_model</td><td><a href = \"files/graphene_cycloadditions/unrestricted_cycloadd_oniom/o1_uff_B3LYP_631Gd_4_4_cent_carbonyl_stable_low_model.com\" target = \"_blank\">com</a></td><td><input type=\"button\" value=\"Smart Log\" id=\"o1_uff_B3LYP_631Gd_4_4_cent_carbonyl_stable_low_model\" onclick=\"IPython.cc_notebook.view_function(event, this.id)\" /></td><td>Error: Length       25088</td><td>nan</td></tr><tr><td>o1_uff_B3LYP_631Gd_4_4_cent_carbonyl_stable_low_real</td><td><a href = \"files/graphene_cycloadditions/unrestricted_cycloadd_oniom/o1_uff_B3LYP_631Gd_4_4_cent_carbonyl_stable_low_real.com\" target = \"_blank\">com</a></td><td><input type=\"button\" value=\"Smart Log\" id=\"o1_uff_B3LYP_631Gd_4_4_cent_carbonyl_stable_low_real\" onclick=\"IPython.cc_notebook.view_function(event, this.id)\" /></td><td>Error: Length       25088</td><td>nan</td></tr><tr><td>o1_uff_B3LYP_631Gd_4_4_graphene_stable_high_model</td><td><a href = \"files/graphene_cycloadditions/unrestricted_cycloadd_oniom/o1_uff_B3LYP_631Gd_4_4_graphene_stable_high_model.com\" target = \"_blank\">com</a></td><td><input type=\"button\" value=\"Smart Log\" id=\"o1_uff_B3LYP_631Gd_4_4_graphene_stable_high_model\" onclick=\"IPython.cc_notebook.view_function(event, this.id)\" /></td><td>Success</td><td>-10499.9616152</td></tr><tr><td>o1_uff_B3LYP_631Gd_4_4_graphene_stable_low_model</td><td><a href = \"files/graphene_cycloadditions/unrestricted_cycloadd_oniom/o1_uff_B3LYP_631Gd_4_4_graphene_stable_low_model.com\" target = \"_blank\">com</a></td><td><input type=\"button\" value=\"Smart Log\" id=\"o1_uff_B3LYP_631Gd_4_4_graphene_stable_low_model\" onclick=\"IPython.cc_notebook.view_function(event, this.id)\" /></td><td>Error: Length       25088</td><td>nan</td></tr><tr><td>o1_uff_B3LYP_631Gd_4_4_graphene_stable_low_real</td><td><a href = \"files/graphene_cycloadditions/unrestricted_cycloadd_oniom/o1_uff_B3LYP_631Gd_4_4_graphene_stable_low_real.com\" target = \"_blank\">com</a></td><td><input type=\"button\" value=\"Smart Log\" id=\"o1_uff_B3LYP_631Gd_4_4_graphene_stable_low_real\" onclick=\"IPython.cc_notebook.view_function(event, this.id)\" /></td><td>Error: Length       25088</td><td>nan</td></tr><tr><td>o2_HF_STO-3G_B3LYP_631Gd_4_4_cent_carbonyl_stable_high_model</td><td><a href = \"files/graphene_cycloadditions/unrestricted_cycloadd_oniom/o2_HF_STO-3G_B3LYP_631Gd_4_4_cent_carbonyl_stable_high_model.com\" target = \"_blank\">com</a></td><td><input type=\"button\" value=\"Smart Log\" id=\"o2_HF_STO-3G_B3LYP_631Gd_4_4_cent_carbonyl_stable_high_model\" onclick=\"IPython.cc_notebook.view_function(event, this.id)\" /></td><td>Success</td><td>-20938.5244142</td></tr><tr><td>o2_HF_STO-3G_B3LYP_631Gd_4_4_cent_carbonyl_stable_low_model</td><td><a href = \"files/graphene_cycloadditions/unrestricted_cycloadd_oniom/o2_HF_STO-3G_B3LYP_631Gd_4_4_cent_carbonyl_stable_low_model.com\" target = \"_blank\">com</a></td><td><input type=\"button\" value=\"Smart Log\" id=\"o2_HF_STO-3G_B3LYP_631Gd_4_4_cent_carbonyl_stable_low_model\" onclick=\"IPython.cc_notebook.view_function(event, this.id)\" /></td><td>Success</td><td>-20553.3824672</td></tr><tr><td>o2_HF_STO-3G_B3LYP_631Gd_4_4_cent_carbonyl_stable_low_real</td><td><a href = \"files/graphene_cycloadditions/unrestricted_cycloadd_oniom/o2_HF_STO-3G_B3LYP_631Gd_4_4_cent_carbonyl_stable_low_real.com\" target = \"_blank\">com</a></td><td><input type=\"button\" value=\"Smart Log\" id=\"o2_HF_STO-3G_B3LYP_631Gd_4_4_cent_carbonyl_stable_low_real\" onclick=\"IPython.cc_notebook.view_function(event, this.id)\" /></td><td>Success</td><td>-53265.8357814</td></tr><tr><td>o2_HF_STO-3G_B3LYP_631Gd_4_4_graphene_stable_high_model</td><td><a href = \"files/graphene_cycloadditions/unrestricted_cycloadd_oniom/o2_HF_STO-3G_B3LYP_631Gd_4_4_graphene_stable_high_model.com\" target = \"_blank\">com</a></td><td><input type=\"button\" value=\"Smart Log\" id=\"o2_HF_STO-3G_B3LYP_631Gd_4_4_graphene_stable_high_model\" onclick=\"IPython.cc_notebook.view_function(event, this.id)\" /></td><td>Success</td><td>-16755.4702881</td></tr><tr><td>o2_HF_STO-3G_B3LYP_631Gd_4_4_graphene_stable_low_model</td><td><a href = \"files/graphene_cycloadditions/unrestricted_cycloadd_oniom/o2_HF_STO-3G_B3LYP_631Gd_4_4_graphene_stable_low_model.com\" target = \"_blank\">com</a></td><td><input type=\"button\" value=\"Smart Log\" id=\"o2_HF_STO-3G_B3LYP_631Gd_4_4_graphene_stable_low_model\" onclick=\"IPython.cc_notebook.view_function(event, this.id)\" /></td><td>Success</td><td>-16446.6214209</td></tr><tr><td>o2_HF_STO-3G_B3LYP_631Gd_4_4_graphene_stable_low_real</td><td><a href = \"files/graphene_cycloadditions/unrestricted_cycloadd_oniom/o2_HF_STO-3G_B3LYP_631Gd_4_4_graphene_stable_low_real.com\" target = \"_blank\">com</a></td><td><input type=\"button\" value=\"Smart Log\" id=\"o2_HF_STO-3G_B3LYP_631Gd_4_4_graphene_stable_low_real\" onclick=\"IPython.cc_notebook.view_function(event, this.id)\" /></td><td>Success</td><td>-49159.0365167</td></tr><tr><td>o2_am1_B3LYP_631Gd_4_4_cent_carbonyl_stable_high_model</td><td><a href = \"files/graphene_cycloadditions/unrestricted_cycloadd_oniom/o2_am1_B3LYP_631Gd_4_4_cent_carbonyl_stable_high_model.com\" target = \"_blank\">com</a></td><td><input type=\"button\" value=\"Smart Log\" id=\"o2_am1_B3LYP_631Gd_4_4_cent_carbonyl_stable_high_model\" onclick=\"IPython.cc_notebook.view_function(event, this.id)\" /></td><td>Success</td><td>-20938.5244142</td></tr><tr><td>o2_am1_B3LYP_631Gd_4_4_cent_carbonyl_stable_low_model</td><td><a href = \"files/graphene_cycloadditions/unrestricted_cycloadd_oniom/o2_am1_B3LYP_631Gd_4_4_cent_carbonyl_stable_low_model.com\" target = \"_blank\">com</a></td><td><input type=\"button\" value=\"Smart Log\" id=\"o2_am1_B3LYP_631Gd_4_4_cent_carbonyl_stable_low_model\" onclick=\"IPython.cc_notebook.view_function(event, this.id)\" /></td><td>Success</td><td>5.12725945861</td></tr><tr><td>o2_am1_B3LYP_631Gd_4_4_cent_carbonyl_stable_low_real</td><td><a href = \"files/graphene_cycloadditions/unrestricted_cycloadd_oniom/o2_am1_B3LYP_631Gd_4_4_cent_carbonyl_stable_low_real.com\" target = \"_blank\">com</a></td><td><input type=\"button\" value=\"Smart Log\" id=\"o2_am1_B3LYP_631Gd_4_4_cent_carbonyl_stable_low_real\" onclick=\"IPython.cc_notebook.view_function(event, this.id)\" /></td><td>Success</td><td>11.3539147123</td></tr><tr><td>o2_am1_B3LYP_631Gd_4_4_graphene_stable_high_model</td><td><a href = \"files/graphene_cycloadditions/unrestricted_cycloadd_oniom/o2_am1_B3LYP_631Gd_4_4_graphene_stable_high_model.com\" target = \"_blank\">com</a></td><td><input type=\"button\" value=\"Smart Log\" id=\"o2_am1_B3LYP_631Gd_4_4_graphene_stable_high_model\" onclick=\"IPython.cc_notebook.view_function(event, this.id)\" /></td><td>Success</td><td>-16755.4702881</td></tr><tr><td>o2_am1_B3LYP_631Gd_4_4_graphene_stable_low_model</td><td><a href = \"files/graphene_cycloadditions/unrestricted_cycloadd_oniom/o2_am1_B3LYP_631Gd_4_4_graphene_stable_low_model.com\" target = \"_blank\">com</a></td><td><input type=\"button\" value=\"Smart Log\" id=\"o2_am1_B3LYP_631Gd_4_4_graphene_stable_low_model\" onclick=\"IPython.cc_notebook.view_function(event, this.id)\" /></td><td>Success</td><td>3.80640989722</td></tr><tr><td>o2_am1_B3LYP_631Gd_4_4_graphene_stable_low_real</td><td><a href = \"files/graphene_cycloadditions/unrestricted_cycloadd_oniom/o2_am1_B3LYP_631Gd_4_4_graphene_stable_low_real.com\" target = \"_blank\">com</a></td><td><input type=\"button\" value=\"Smart Log\" id=\"o2_am1_B3LYP_631Gd_4_4_graphene_stable_low_real\" onclick=\"IPython.cc_notebook.view_function(event, this.id)\" /></td><td>Success</td><td>10.7936701281</td></tr><tr><td>o2_pm6_B3LYP_631Gd_4_4_cent_carbonyl_stable_high_model</td><td><a href = \"files/graphene_cycloadditions/unrestricted_cycloadd_oniom/o2_pm6_B3LYP_631Gd_4_4_cent_carbonyl_stable_high_model.com\" target = \"_blank\">com</a></td><td><input type=\"button\" value=\"Smart Log\" id=\"o2_pm6_B3LYP_631Gd_4_4_cent_carbonyl_stable_high_model\" onclick=\"IPython.cc_notebook.view_function(event, this.id)\" /></td><td>Success</td><td>-20938.5244142</td></tr><tr><td>o2_pm6_B3LYP_631Gd_4_4_cent_carbonyl_stable_low_model</td><td><a href = \"files/graphene_cycloadditions/unrestricted_cycloadd_oniom/o2_pm6_B3LYP_631Gd_4_4_cent_carbonyl_stable_low_model.com\" target = \"_blank\">com</a></td><td><input type=\"button\" value=\"Smart Log\" id=\"o2_pm6_B3LYP_631Gd_4_4_cent_carbonyl_stable_low_model\" onclick=\"IPython.cc_notebook.view_function(event, this.id)\" /></td><td>Success</td><td>3.93828182538</td></tr><tr><td>o2_pm6_B3LYP_631Gd_4_4_cent_carbonyl_stable_low_real</td><td><a href = \"files/graphene_cycloadditions/unrestricted_cycloadd_oniom/o2_pm6_B3LYP_631Gd_4_4_cent_carbonyl_stable_low_real.com\" target = \"_blank\">com</a></td><td><input type=\"button\" value=\"Smart Log\" id=\"o2_pm6_B3LYP_631Gd_4_4_cent_carbonyl_stable_low_real\" onclick=\"IPython.cc_notebook.view_function(event, this.id)\" /></td><td>Success</td><td>9.14190669313</td></tr><tr><td>o2_pm6_B3LYP_631Gd_4_4_graphene_stable_high_model</td><td><a href = \"files/graphene_cycloadditions/unrestricted_cycloadd_oniom/o2_pm6_B3LYP_631Gd_4_4_graphene_stable_high_model.com\" target = \"_blank\">com</a></td><td><input type=\"button\" value=\"Smart Log\" id=\"o2_pm6_B3LYP_631Gd_4_4_graphene_stable_high_model\" onclick=\"IPython.cc_notebook.view_function(event, this.id)\" /></td><td>Success</td><td>-16755.4702881</td></tr><tr><td>o2_pm6_B3LYP_631Gd_4_4_graphene_stable_low_model</td><td><a href = \"files/graphene_cycloadditions/unrestricted_cycloadd_oniom/o2_pm6_B3LYP_631Gd_4_4_graphene_stable_low_model.com\" target = \"_blank\">com</a></td><td><input type=\"button\" value=\"Smart Log\" id=\"o2_pm6_B3LYP_631Gd_4_4_graphene_stable_low_model\" onclick=\"IPython.cc_notebook.view_function(event, this.id)\" /></td><td>Success</td><td>3.21406997198</td></tr><tr><td>o2_pm6_B3LYP_631Gd_4_4_graphene_stable_low_real</td><td><a href = \"files/graphene_cycloadditions/unrestricted_cycloadd_oniom/o2_pm6_B3LYP_631Gd_4_4_graphene_stable_low_real.com\" target = \"_blank\">com</a></td><td><input type=\"button\" value=\"Smart Log\" id=\"o2_pm6_B3LYP_631Gd_4_4_graphene_stable_low_real\" onclick=\"IPython.cc_notebook.view_function(event, this.id)\" /></td><td>Success</td><td>9.13739195036</td></tr><tr><td>o2_uff_B3LYP_631Gd_4_4_cent_carbonyl_stable_high_model</td><td><a href = \"files/graphene_cycloadditions/unrestricted_cycloadd_oniom/o2_uff_B3LYP_631Gd_4_4_cent_carbonyl_stable_high_model.com\" target = \"_blank\">com</a></td><td><input type=\"button\" value=\"Smart Log\" id=\"o2_uff_B3LYP_631Gd_4_4_cent_carbonyl_stable_high_model\" onclick=\"IPython.cc_notebook.view_function(event, this.id)\" /></td><td>Success</td><td>-20938.5244142</td></tr><tr><td>o2_uff_B3LYP_631Gd_4_4_cent_carbonyl_stable_low_model</td><td><a href = \"files/graphene_cycloadditions/unrestricted_cycloadd_oniom/o2_uff_B3LYP_631Gd_4_4_cent_carbonyl_stable_low_model.com\" target = \"_blank\">com</a></td><td><input type=\"button\" value=\"Smart Log\" id=\"o2_uff_B3LYP_631Gd_4_4_cent_carbonyl_stable_low_model\" onclick=\"IPython.cc_notebook.view_function(event, this.id)\" /></td><td>Error: Length       25088</td><td>nan</td></tr><tr><td>o2_uff_B3LYP_631Gd_4_4_cent_carbonyl_stable_low_real</td><td><a href = \"files/graphene_cycloadditions/unrestricted_cycloadd_oniom/o2_uff_B3LYP_631Gd_4_4_cent_carbonyl_stable_low_real.com\" target = \"_blank\">com</a></td><td><input type=\"button\" value=\"Smart Log\" id=\"o2_uff_B3LYP_631Gd_4_4_cent_carbonyl_stable_low_real\" onclick=\"IPython.cc_notebook.view_function(event, this.id)\" /></td><td>Error: Length       25088</td><td>nan</td></tr><tr><td>o2_uff_B3LYP_631Gd_4_4_graphene_stable_high_model</td><td><a href = \"files/graphene_cycloadditions/unrestricted_cycloadd_oniom/o2_uff_B3LYP_631Gd_4_4_graphene_stable_high_model.com\" target = \"_blank\">com</a></td><td><input type=\"button\" value=\"Smart Log\" id=\"o2_uff_B3LYP_631Gd_4_4_graphene_stable_high_model\" onclick=\"IPython.cc_notebook.view_function(event, this.id)\" /></td><td>Success</td><td>-16755.4702881</td></tr><tr><td>o2_uff_B3LYP_631Gd_4_4_graphene_stable_low_model</td><td><a href = \"files/graphene_cycloadditions/unrestricted_cycloadd_oniom/o2_uff_B3LYP_631Gd_4_4_graphene_stable_low_model.com\" target = \"_blank\">com</a></td><td><input type=\"button\" value=\"Smart Log\" id=\"o2_uff_B3LYP_631Gd_4_4_graphene_stable_low_model\" onclick=\"IPython.cc_notebook.view_function(event, this.id)\" /></td><td>Error: Length       25088</td><td>nan</td></tr><tr><td>o2_uff_B3LYP_631Gd_4_4_graphene_stable_low_real</td><td><a href = \"files/graphene_cycloadditions/unrestricted_cycloadd_oniom/o2_uff_B3LYP_631Gd_4_4_graphene_stable_low_real.com\" target = \"_blank\">com</a></td><td><input type=\"button\" value=\"Smart Log\" id=\"o2_uff_B3LYP_631Gd_4_4_graphene_stable_low_real\" onclick=\"IPython.cc_notebook.view_function(event, this.id)\" /></td><td>Error: Length       25088</td><td>nan</td></tr><tr><td>o3_HF_STO-3G_B3LYP_631Gd_4_4_cent_carbonyl_stable_high_model</td><td><a href = \"files/graphene_cycloadditions/unrestricted_cycloadd_oniom/o3_HF_STO-3G_B3LYP_631Gd_4_4_cent_carbonyl_stable_high_model.com\" target = \"_blank\">com</a></td><td><input type=\"button\" value=\"Smart Log\" id=\"o3_HF_STO-3G_B3LYP_631Gd_4_4_cent_carbonyl_stable_high_model\" onclick=\"IPython.cc_notebook.view_function(event, this.id)\" /></td><td>Success</td><td>-23043.7823012</td></tr><tr><td>o3_HF_STO-3G_B3LYP_631Gd_4_4_cent_carbonyl_stable_low_model</td><td><a href = \"files/graphene_cycloadditions/unrestricted_cycloadd_oniom/o3_HF_STO-3G_B3LYP_631Gd_4_4_cent_carbonyl_stable_low_model.com\" target = \"_blank\">com</a></td><td><input type=\"button\" value=\"Smart Log\" id=\"o3_HF_STO-3G_B3LYP_631Gd_4_4_cent_carbonyl_stable_low_model\" onclick=\"IPython.cc_notebook.view_function(event, this.id)\" /></td><td>Success</td><td>-22620.1744913</td></tr><tr><td>o3_HF_STO-3G_B3LYP_631Gd_4_4_cent_carbonyl_stable_low_real</td><td><a href = \"files/graphene_cycloadditions/unrestricted_cycloadd_oniom/o3_HF_STO-3G_B3LYP_631Gd_4_4_cent_carbonyl_stable_low_real.com\" target = \"_blank\">com</a></td><td><input type=\"button\" value=\"Smart Log\" id=\"o3_HF_STO-3G_B3LYP_631Gd_4_4_cent_carbonyl_stable_low_real\" onclick=\"IPython.cc_notebook.view_function(event, this.id)\" /></td><td>Success</td><td>-53265.8357814</td></tr><tr><td>o3_HF_STO-3G_B3LYP_631Gd_4_4_graphene_stable_high_model</td><td><a href = \"files/graphene_cycloadditions/unrestricted_cycloadd_oniom/o3_HF_STO-3G_B3LYP_631Gd_4_4_graphene_stable_high_model.com\" target = \"_blank\">com</a></td><td><input type=\"button\" value=\"Smart Log\" id=\"o3_HF_STO-3G_B3LYP_631Gd_4_4_graphene_stable_high_model\" onclick=\"IPython.cc_notebook.view_function(event, this.id)\" /></td><td>Success</td><td>-18859.9023392</td></tr><tr><td>o3_HF_STO-3G_B3LYP_631Gd_4_4_graphene_stable_low_model</td><td><a href = \"files/graphene_cycloadditions/unrestricted_cycloadd_oniom/o3_HF_STO-3G_B3LYP_631Gd_4_4_graphene_stable_low_model.com\" target = \"_blank\">com</a></td><td><input type=\"button\" value=\"Smart Log\" id=\"o3_HF_STO-3G_B3LYP_631Gd_4_4_graphene_stable_low_model\" onclick=\"IPython.cc_notebook.view_function(event, this.id)\" /></td><td>Success</td><td>-18513.1665261</td></tr><tr><td>o3_HF_STO-3G_B3LYP_631Gd_4_4_graphene_stable_low_real</td><td><a href = \"files/graphene_cycloadditions/unrestricted_cycloadd_oniom/o3_HF_STO-3G_B3LYP_631Gd_4_4_graphene_stable_low_real.com\" target = \"_blank\">com</a></td><td><input type=\"button\" value=\"Smart Log\" id=\"o3_HF_STO-3G_B3LYP_631Gd_4_4_graphene_stable_low_real\" onclick=\"IPython.cc_notebook.view_function(event, this.id)\" /></td><td>Success</td><td>-49159.0365167</td></tr><tr><td>o3_am1_B3LYP_631Gd_4_4_cent_carbonyl_stable_high_model</td><td><a href = \"files/graphene_cycloadditions/unrestricted_cycloadd_oniom/o3_am1_B3LYP_631Gd_4_4_cent_carbonyl_stable_high_model.com\" target = \"_blank\">com</a></td><td><input type=\"button\" value=\"Smart Log\" id=\"o3_am1_B3LYP_631Gd_4_4_cent_carbonyl_stable_high_model\" onclick=\"IPython.cc_notebook.view_function(event, this.id)\" /></td><td>Success</td><td>-23043.7823012</td></tr><tr><td>o3_am1_B3LYP_631Gd_4_4_cent_carbonyl_stable_low_model</td><td><a href = \"files/graphene_cycloadditions/unrestricted_cycloadd_oniom/o3_am1_B3LYP_631Gd_4_4_cent_carbonyl_stable_low_model.com\" target = \"_blank\">com</a></td><td><input type=\"button\" value=\"Smart Log\" id=\"o3_am1_B3LYP_631Gd_4_4_cent_carbonyl_stable_low_model\" onclick=\"IPython.cc_notebook.view_function(event, this.id)\" /></td><td>Success</td><td>6.49230073621</td></tr><tr><td>o3_am1_B3LYP_631Gd_4_4_cent_carbonyl_stable_low_real</td><td><a href = \"files/graphene_cycloadditions/unrestricted_cycloadd_oniom/o3_am1_B3LYP_631Gd_4_4_cent_carbonyl_stable_low_real.com\" target = \"_blank\">com</a></td><td><input type=\"button\" value=\"Smart Log\" id=\"o3_am1_B3LYP_631Gd_4_4_cent_carbonyl_stable_low_real\" onclick=\"IPython.cc_notebook.view_function(event, this.id)\" /></td><td>Success</td><td>11.3539147123</td></tr><tr><td>o3_am1_B3LYP_631Gd_4_4_graphene_stable_high_model</td><td><a href = \"files/graphene_cycloadditions/unrestricted_cycloadd_oniom/o3_am1_B3LYP_631Gd_4_4_graphene_stable_high_model.com\" target = \"_blank\">com</a></td><td><input type=\"button\" value=\"Smart Log\" id=\"o3_am1_B3LYP_631Gd_4_4_graphene_stable_high_model\" onclick=\"IPython.cc_notebook.view_function(event, this.id)\" /></td><td>Success</td><td>-18859.9023392</td></tr><tr><td>o3_am1_B3LYP_631Gd_4_4_graphene_stable_low_model</td><td><a href = \"files/graphene_cycloadditions/unrestricted_cycloadd_oniom/o3_am1_B3LYP_631Gd_4_4_graphene_stable_low_model.com\" target = \"_blank\">com</a></td><td><input type=\"button\" value=\"Smart Log\" id=\"o3_am1_B3LYP_631Gd_4_4_graphene_stable_low_model\" onclick=\"IPython.cc_notebook.view_function(event, this.id)\" /></td><td>Success</td><td>7.27271816702</td></tr><tr><td>o3_am1_B3LYP_631Gd_4_4_graphene_stable_low_real</td><td><a href = \"files/graphene_cycloadditions/unrestricted_cycloadd_oniom/o3_am1_B3LYP_631Gd_4_4_graphene_stable_low_real.com\" target = \"_blank\">com</a></td><td><input type=\"button\" value=\"Smart Log\" id=\"o3_am1_B3LYP_631Gd_4_4_graphene_stable_low_real\" onclick=\"IPython.cc_notebook.view_function(event, this.id)\" /></td><td>Success</td><td>10.7936701281</td></tr><tr><td>o3_pm6_B3LYP_631Gd_4_4_cent_carbonyl_stable_high_model</td><td><a href = \"files/graphene_cycloadditions/unrestricted_cycloadd_oniom/o3_pm6_B3LYP_631Gd_4_4_cent_carbonyl_stable_high_model.com\" target = \"_blank\">com</a></td><td><input type=\"button\" value=\"Smart Log\" id=\"o3_pm6_B3LYP_631Gd_4_4_cent_carbonyl_stable_high_model\" onclick=\"IPython.cc_notebook.view_function(event, this.id)\" /></td><td>Success</td><td>-23043.7823012</td></tr><tr><td>o3_pm6_B3LYP_631Gd_4_4_cent_carbonyl_stable_low_model</td><td><a href = \"files/graphene_cycloadditions/unrestricted_cycloadd_oniom/o3_pm6_B3LYP_631Gd_4_4_cent_carbonyl_stable_low_model.com\" target = \"_blank\">com</a></td><td><input type=\"button\" value=\"Smart Log\" id=\"o3_pm6_B3LYP_631Gd_4_4_cent_carbonyl_stable_low_model\" onclick=\"IPython.cc_notebook.view_function(event, this.id)\" /></td><td>Success</td><td>4.94164348242</td></tr><tr><td>o3_pm6_B3LYP_631Gd_4_4_cent_carbonyl_stable_low_real</td><td><a href = \"files/graphene_cycloadditions/unrestricted_cycloadd_oniom/o3_pm6_B3LYP_631Gd_4_4_cent_carbonyl_stable_low_real.com\" target = \"_blank\">com</a></td><td><input type=\"button\" value=\"Smart Log\" id=\"o3_pm6_B3LYP_631Gd_4_4_cent_carbonyl_stable_low_real\" onclick=\"IPython.cc_notebook.view_function(event, this.id)\" /></td><td>Success</td><td>9.14190669313</td></tr><tr><td>o3_pm6_B3LYP_631Gd_4_4_graphene_stable_high_model</td><td><a href = \"files/graphene_cycloadditions/unrestricted_cycloadd_oniom/o3_pm6_B3LYP_631Gd_4_4_graphene_stable_high_model.com\" target = \"_blank\">com</a></td><td><input type=\"button\" value=\"Smart Log\" id=\"o3_pm6_B3LYP_631Gd_4_4_graphene_stable_high_model\" onclick=\"IPython.cc_notebook.view_function(event, this.id)\" /></td><td>Success</td><td>-18859.9023392</td></tr><tr><td>o3_pm6_B3LYP_631Gd_4_4_graphene_stable_low_model</td><td><a href = \"files/graphene_cycloadditions/unrestricted_cycloadd_oniom/o3_pm6_B3LYP_631Gd_4_4_graphene_stable_low_model.com\" target = \"_blank\">com</a></td><td><input type=\"button\" value=\"Smart Log\" id=\"o3_pm6_B3LYP_631Gd_4_4_graphene_stable_low_model\" onclick=\"IPython.cc_notebook.view_function(event, this.id)\" /></td><td>Success</td><td>6.29175516401</td></tr><tr><td>o3_pm6_B3LYP_631Gd_4_4_graphene_stable_low_real</td><td><a href = \"files/graphene_cycloadditions/unrestricted_cycloadd_oniom/o3_pm6_B3LYP_631Gd_4_4_graphene_stable_low_real.com\" target = \"_blank\">com</a></td><td><input type=\"button\" value=\"Smart Log\" id=\"o3_pm6_B3LYP_631Gd_4_4_graphene_stable_low_real\" onclick=\"IPython.cc_notebook.view_function(event, this.id)\" /></td><td>Success</td><td>9.13739195036</td></tr><tr><td>o3_uff_B3LYP_631Gd_4_4_cent_carbonyl_stable_high_model</td><td><a href = \"files/graphene_cycloadditions/unrestricted_cycloadd_oniom/o3_uff_B3LYP_631Gd_4_4_cent_carbonyl_stable_high_model.com\" target = \"_blank\">com</a></td><td><input type=\"button\" value=\"Smart Log\" id=\"o3_uff_B3LYP_631Gd_4_4_cent_carbonyl_stable_high_model\" onclick=\"IPython.cc_notebook.view_function(event, this.id)\" /></td><td>Success</td><td>-23043.7823012</td></tr><tr><td>o3_uff_B3LYP_631Gd_4_4_cent_carbonyl_stable_low_model</td><td><a href = \"files/graphene_cycloadditions/unrestricted_cycloadd_oniom/o3_uff_B3LYP_631Gd_4_4_cent_carbonyl_stable_low_model.com\" target = \"_blank\">com</a></td><td><input type=\"button\" value=\"Smart Log\" id=\"o3_uff_B3LYP_631Gd_4_4_cent_carbonyl_stable_low_model\" onclick=\"IPython.cc_notebook.view_function(event, this.id)\" /></td><td>Error: Length       25088</td><td>nan</td></tr><tr><td>o3_uff_B3LYP_631Gd_4_4_cent_carbonyl_stable_low_real</td><td><a href = \"files/graphene_cycloadditions/unrestricted_cycloadd_oniom/o3_uff_B3LYP_631Gd_4_4_cent_carbonyl_stable_low_real.com\" target = \"_blank\">com</a></td><td><input type=\"button\" value=\"Smart Log\" id=\"o3_uff_B3LYP_631Gd_4_4_cent_carbonyl_stable_low_real\" onclick=\"IPython.cc_notebook.view_function(event, this.id)\" /></td><td>Error: Length       25088</td><td>nan</td></tr><tr><td>o3_uff_B3LYP_631Gd_4_4_graphene_stable_high_model</td><td><a href = \"files/graphene_cycloadditions/unrestricted_cycloadd_oniom/o3_uff_B3LYP_631Gd_4_4_graphene_stable_high_model.com\" target = \"_blank\">com</a></td><td><input type=\"button\" value=\"Smart Log\" id=\"o3_uff_B3LYP_631Gd_4_4_graphene_stable_high_model\" onclick=\"IPython.cc_notebook.view_function(event, this.id)\" /></td><td>Success</td><td>-18859.9023392</td></tr><tr><td>o3_uff_B3LYP_631Gd_4_4_graphene_stable_low_model</td><td><a href = \"files/graphene_cycloadditions/unrestricted_cycloadd_oniom/o3_uff_B3LYP_631Gd_4_4_graphene_stable_low_model.com\" target = \"_blank\">com</a></td><td><input type=\"button\" value=\"Smart Log\" id=\"o3_uff_B3LYP_631Gd_4_4_graphene_stable_low_model\" onclick=\"IPython.cc_notebook.view_function(event, this.id)\" /></td><td>Error: Length       25088</td><td>nan</td></tr><tr><td>o3_uff_B3LYP_631Gd_4_4_graphene_stable_low_real</td><td><a href = \"files/graphene_cycloadditions/unrestricted_cycloadd_oniom/o3_uff_B3LYP_631Gd_4_4_graphene_stable_low_real.com\" target = \"_blank\">com</a></td><td><input type=\"button\" value=\"Smart Log\" id=\"o3_uff_B3LYP_631Gd_4_4_graphene_stable_low_real\" onclick=\"IPython.cc_notebook.view_function(event, this.id)\" /></td><td>Error: Length       25088</td><td>nan</td></tr><tr><td>o4_HF_STO-3G_B3LYP_631Gd_4_4_cent_carbonyl_stable_high_model</td><td><a href = \"files/graphene_cycloadditions/unrestricted_cycloadd_oniom/o4_HF_STO-3G_B3LYP_631Gd_4_4_cent_carbonyl_stable_high_model.com\" target = \"_blank\">com</a></td><td><input type=\"button\" value=\"Smart Log\" id=\"o4_HF_STO-3G_B3LYP_631Gd_4_4_cent_carbonyl_stable_high_model\" onclick=\"IPython.cc_notebook.view_function(event, this.id)\" /></td><td>Success</td><td>-37597.3165293</td></tr><tr><td>o4_HF_STO-3G_B3LYP_631Gd_4_4_cent_carbonyl_stable_low_model</td><td><a href = \"files/graphene_cycloadditions/unrestricted_cycloadd_oniom/o4_HF_STO-3G_B3LYP_631Gd_4_4_cent_carbonyl_stable_low_model.com\" target = \"_blank\">com</a></td><td><input type=\"button\" value=\"Smart Log\" id=\"o4_HF_STO-3G_B3LYP_631Gd_4_4_cent_carbonyl_stable_low_model\" onclick=\"IPython.cc_notebook.view_function(event, this.id)\" /></td><td>Success</td><td>-36908.8886985</td></tr><tr><td>o4_HF_STO-3G_B3LYP_631Gd_4_4_cent_carbonyl_stable_low_real</td><td><a href = \"files/graphene_cycloadditions/unrestricted_cycloadd_oniom/o4_HF_STO-3G_B3LYP_631Gd_4_4_cent_carbonyl_stable_low_real.com\" target = \"_blank\">com</a></td><td><input type=\"button\" value=\"Smart Log\" id=\"o4_HF_STO-3G_B3LYP_631Gd_4_4_cent_carbonyl_stable_low_real\" onclick=\"IPython.cc_notebook.view_function(event, this.id)\" /></td><td>Success</td><td>-53265.8357814</td></tr><tr><td>o4_HF_STO-3G_B3LYP_631Gd_4_4_graphene_stable_high_model</td><td><a href = \"files/graphene_cycloadditions/unrestricted_cycloadd_oniom/o4_HF_STO-3G_B3LYP_631Gd_4_4_graphene_stable_high_model.com\" target = \"_blank\">com</a></td><td><input type=\"button\" value=\"Smart Log\" id=\"o4_HF_STO-3G_B3LYP_631Gd_4_4_graphene_stable_high_model\" onclick=\"IPython.cc_notebook.view_function(event, this.id)\" /></td><td>Success</td><td>-33414.3630663</td></tr><tr><td>o4_HF_STO-3G_B3LYP_631Gd_4_4_graphene_stable_low_model</td><td><a href = \"files/graphene_cycloadditions/unrestricted_cycloadd_oniom/o4_HF_STO-3G_B3LYP_631Gd_4_4_graphene_stable_low_model.com\" target = \"_blank\">com</a></td><td><input type=\"button\" value=\"Smart Log\" id=\"o4_HF_STO-3G_B3LYP_631Gd_4_4_graphene_stable_low_model\" onclick=\"IPython.cc_notebook.view_function(event, this.id)\" /></td><td>Success</td><td>-32802.0662225</td></tr><tr><td>o4_HF_STO-3G_B3LYP_631Gd_4_4_graphene_stable_low_real</td><td><a href = \"files/graphene_cycloadditions/unrestricted_cycloadd_oniom/o4_HF_STO-3G_B3LYP_631Gd_4_4_graphene_stable_low_real.com\" target = \"_blank\">com</a></td><td><input type=\"button\" value=\"Smart Log\" id=\"o4_HF_STO-3G_B3LYP_631Gd_4_4_graphene_stable_low_real\" onclick=\"IPython.cc_notebook.view_function(event, this.id)\" /></td><td>Success</td><td>-49159.0365167</td></tr><tr><td>o4_am1_B3LYP_631Gd_4_4_cent_carbonyl_stable_high_model</td><td><a href = \"files/graphene_cycloadditions/unrestricted_cycloadd_oniom/o4_am1_B3LYP_631Gd_4_4_cent_carbonyl_stable_high_model.com\" target = \"_blank\">com</a></td><td><input type=\"button\" value=\"Smart Log\" id=\"o4_am1_B3LYP_631Gd_4_4_cent_carbonyl_stable_high_model\" onclick=\"IPython.cc_notebook.view_function(event, this.id)\" /></td><td>Success</td><td>-37597.3165293</td></tr><tr><td>o4_am1_B3LYP_631Gd_4_4_cent_carbonyl_stable_low_model</td><td><a href = \"files/graphene_cycloadditions/unrestricted_cycloadd_oniom/o4_am1_B3LYP_631Gd_4_4_cent_carbonyl_stable_low_model.com\" target = \"_blank\">com</a></td><td><input type=\"button\" value=\"Smart Log\" id=\"o4_am1_B3LYP_631Gd_4_4_cent_carbonyl_stable_low_model\" onclick=\"IPython.cc_notebook.view_function(event, this.id)\" /></td><td>Success</td><td>9.08307425259</td></tr><tr><td>o4_am1_B3LYP_631Gd_4_4_cent_carbonyl_stable_low_real</td><td><a href = \"files/graphene_cycloadditions/unrestricted_cycloadd_oniom/o4_am1_B3LYP_631Gd_4_4_cent_carbonyl_stable_low_real.com\" target = \"_blank\">com</a></td><td><input type=\"button\" value=\"Smart Log\" id=\"o4_am1_B3LYP_631Gd_4_4_cent_carbonyl_stable_low_real\" onclick=\"IPython.cc_notebook.view_function(event, this.id)\" /></td><td>Success</td><td>11.3539147123</td></tr><tr><td>o4_am1_B3LYP_631Gd_4_4_graphene_stable_high_model</td><td><a href = \"files/graphene_cycloadditions/unrestricted_cycloadd_oniom/o4_am1_B3LYP_631Gd_4_4_graphene_stable_high_model.com\" target = \"_blank\">com</a></td><td><input type=\"button\" value=\"Smart Log\" id=\"o4_am1_B3LYP_631Gd_4_4_graphene_stable_high_model\" onclick=\"IPython.cc_notebook.view_function(event, this.id)\" /></td><td>Success</td><td>-33414.3630663</td></tr><tr><td>o4_am1_B3LYP_631Gd_4_4_graphene_stable_low_model</td><td><a href = \"files/graphene_cycloadditions/unrestricted_cycloadd_oniom/o4_am1_B3LYP_631Gd_4_4_graphene_stable_low_model.com\" target = \"_blank\">com</a></td><td><input type=\"button\" value=\"Smart Log\" id=\"o4_am1_B3LYP_631Gd_4_4_graphene_stable_low_model\" onclick=\"IPython.cc_notebook.view_function(event, this.id)\" /></td><td>Success</td><td>7.8285171653</td></tr><tr><td>o4_am1_B3LYP_631Gd_4_4_graphene_stable_low_real</td><td><a href = \"files/graphene_cycloadditions/unrestricted_cycloadd_oniom/o4_am1_B3LYP_631Gd_4_4_graphene_stable_low_real.com\" target = \"_blank\">com</a></td><td><input type=\"button\" value=\"Smart Log\" id=\"o4_am1_B3LYP_631Gd_4_4_graphene_stable_low_real\" onclick=\"IPython.cc_notebook.view_function(event, this.id)\" /></td><td>Success</td><td>10.7936701281</td></tr><tr><td>o4_pm6_B3LYP_631Gd_4_4_cent_carbonyl_stable_high_model</td><td><a href = \"files/graphene_cycloadditions/unrestricted_cycloadd_oniom/o4_pm6_B3LYP_631Gd_4_4_cent_carbonyl_stable_high_model.com\" target = \"_blank\">com</a></td><td><input type=\"button\" value=\"Smart Log\" id=\"o4_pm6_B3LYP_631Gd_4_4_cent_carbonyl_stable_high_model\" onclick=\"IPython.cc_notebook.view_function(event, this.id)\" /></td><td>Success</td><td>-37597.3165293</td></tr><tr><td>o4_pm6_B3LYP_631Gd_4_4_cent_carbonyl_stable_low_model</td><td><a href = \"files/graphene_cycloadditions/unrestricted_cycloadd_oniom/o4_pm6_B3LYP_631Gd_4_4_cent_carbonyl_stable_low_model.com\" target = \"_blank\">com</a></td><td><input type=\"button\" value=\"Smart Log\" id=\"o4_pm6_B3LYP_631Gd_4_4_cent_carbonyl_stable_low_model\" onclick=\"IPython.cc_notebook.view_function(event, this.id)\" /></td><td>Success</td><td>7.09123575492</td></tr><tr><td>o4_pm6_B3LYP_631Gd_4_4_cent_carbonyl_stable_low_real</td><td><a href = \"files/graphene_cycloadditions/unrestricted_cycloadd_oniom/o4_pm6_B3LYP_631Gd_4_4_cent_carbonyl_stable_low_real.com\" target = \"_blank\">com</a></td><td><input type=\"button\" value=\"Smart Log\" id=\"o4_pm6_B3LYP_631Gd_4_4_cent_carbonyl_stable_low_real\" onclick=\"IPython.cc_notebook.view_function(event, this.id)\" /></td><td>Success</td><td>9.14190669313</td></tr><tr><td>o4_pm6_B3LYP_631Gd_4_4_graphene_stable_high_model</td><td><a href = \"files/graphene_cycloadditions/unrestricted_cycloadd_oniom/o4_pm6_B3LYP_631Gd_4_4_graphene_stable_high_model.com\" target = \"_blank\">com</a></td><td><input type=\"button\" value=\"Smart Log\" id=\"o4_pm6_B3LYP_631Gd_4_4_graphene_stable_high_model\" onclick=\"IPython.cc_notebook.view_function(event, this.id)\" /></td><td>Success</td><td>-33414.3630663</td></tr><tr><td>o4_pm6_B3LYP_631Gd_4_4_graphene_stable_low_model</td><td><a href = \"files/graphene_cycloadditions/unrestricted_cycloadd_oniom/o4_pm6_B3LYP_631Gd_4_4_graphene_stable_low_model.com\" target = \"_blank\">com</a></td><td><input type=\"button\" value=\"Smart Log\" id=\"o4_pm6_B3LYP_631Gd_4_4_graphene_stable_low_model\" onclick=\"IPython.cc_notebook.view_function(event, this.id)\" /></td><td>Success</td><td>6.4405978474</td></tr><tr><td>o4_pm6_B3LYP_631Gd_4_4_graphene_stable_low_real</td><td><a href = \"files/graphene_cycloadditions/unrestricted_cycloadd_oniom/o4_pm6_B3LYP_631Gd_4_4_graphene_stable_low_real.com\" target = \"_blank\">com</a></td><td><input type=\"button\" value=\"Smart Log\" id=\"o4_pm6_B3LYP_631Gd_4_4_graphene_stable_low_real\" onclick=\"IPython.cc_notebook.view_function(event, this.id)\" /></td><td>Success</td><td>9.13739195036</td></tr><tr><td>o4_uff_B3LYP_631Gd_4_4_cent_carbonyl_stable_high_model</td><td><a href = \"files/graphene_cycloadditions/unrestricted_cycloadd_oniom/o4_uff_B3LYP_631Gd_4_4_cent_carbonyl_stable_high_model.com\" target = \"_blank\">com</a></td><td><input type=\"button\" value=\"Smart Log\" id=\"o4_uff_B3LYP_631Gd_4_4_cent_carbonyl_stable_high_model\" onclick=\"IPython.cc_notebook.view_function(event, this.id)\" /></td><td>Success</td><td>-37597.3165293</td></tr><tr><td>o4_uff_B3LYP_631Gd_4_4_cent_carbonyl_stable_low_model</td><td><a href = \"files/graphene_cycloadditions/unrestricted_cycloadd_oniom/o4_uff_B3LYP_631Gd_4_4_cent_carbonyl_stable_low_model.com\" target = \"_blank\">com</a></td><td><input type=\"button\" value=\"Smart Log\" id=\"o4_uff_B3LYP_631Gd_4_4_cent_carbonyl_stable_low_model\" onclick=\"IPython.cc_notebook.view_function(event, this.id)\" /></td><td>Error: Length       25088</td><td>nan</td></tr><tr><td>o4_uff_B3LYP_631Gd_4_4_cent_carbonyl_stable_low_real</td><td><a href = \"files/graphene_cycloadditions/unrestricted_cycloadd_oniom/o4_uff_B3LYP_631Gd_4_4_cent_carbonyl_stable_low_real.com\" target = \"_blank\">com</a></td><td><input type=\"button\" value=\"Smart Log\" id=\"o4_uff_B3LYP_631Gd_4_4_cent_carbonyl_stable_low_real\" onclick=\"IPython.cc_notebook.view_function(event, this.id)\" /></td><td>Error: Length       25088</td><td>nan</td></tr><tr><td>o4_uff_B3LYP_631Gd_4_4_graphene_stable_high_model</td><td><a href = \"files/graphene_cycloadditions/unrestricted_cycloadd_oniom/o4_uff_B3LYP_631Gd_4_4_graphene_stable_high_model.com\" target = \"_blank\">com</a></td><td><input type=\"button\" value=\"Smart Log\" id=\"o4_uff_B3LYP_631Gd_4_4_graphene_stable_high_model\" onclick=\"IPython.cc_notebook.view_function(event, this.id)\" /></td><td>Success</td><td>-33414.3630663</td></tr><tr><td>o4_uff_B3LYP_631Gd_4_4_graphene_stable_low_model</td><td><a href = \"files/graphene_cycloadditions/unrestricted_cycloadd_oniom/o4_uff_B3LYP_631Gd_4_4_graphene_stable_low_model.com\" target = \"_blank\">com</a></td><td><input type=\"button\" value=\"Smart Log\" id=\"o4_uff_B3LYP_631Gd_4_4_graphene_stable_low_model\" onclick=\"IPython.cc_notebook.view_function(event, this.id)\" /></td><td>Error: Length       25088</td><td>nan</td></tr><tr><td>o4_uff_B3LYP_631Gd_4_4_graphene_stable_low_real</td><td><a href = \"files/graphene_cycloadditions/unrestricted_cycloadd_oniom/o4_uff_B3LYP_631Gd_4_4_graphene_stable_low_real.com\" target = \"_blank\">com</a></td><td><input type=\"button\" value=\"Smart Log\" id=\"o4_uff_B3LYP_631Gd_4_4_graphene_stable_low_real\" onclick=\"IPython.cc_notebook.view_function(event, this.id)\" /></td><td>Error: Length       25088</td><td>nan</td></tr><tr><td>o_sanity_B3LYP_631Gd_4_4_cent_carbonyl_stable_high_model</td><td><a href = \"files/graphene_cycloadditions/unrestricted_cycloadd_oniom/o_sanity_B3LYP_631Gd_4_4_cent_carbonyl_stable_high_model.com\" target = \"_blank\">com</a></td><td><input type=\"button\" value=\"Smart Log\" id=\"o_sanity_B3LYP_631Gd_4_4_cent_carbonyl_stable_high_model\" onclick=\"IPython.cc_notebook.view_function(event, this.id)\" /></td><td>Success</td><td>-6325.01312175</td></tr><tr><td>o_sanity_B3LYP_631Gd_4_4_cent_carbonyl_stable_low_model</td><td><a href = \"files/graphene_cycloadditions/unrestricted_cycloadd_oniom/o_sanity_B3LYP_631Gd_4_4_cent_carbonyl_stable_low_model.com\" target = \"_blank\">com</a></td><td><input type=\"button\" value=\"Smart Log\" id=\"o_sanity_B3LYP_631Gd_4_4_cent_carbonyl_stable_low_model\" onclick=\"IPython.cc_notebook.view_function(event, this.id)\" /></td><td>Error: TCursr= 1046 LCursr=   42</td><td>nan</td></tr><tr><td>o_sanity_B3LYP_631Gd_4_4_cent_carbonyl_stable_low_real</td><td><a href = \"files/graphene_cycloadditions/unrestricted_cycloadd_oniom/o_sanity_B3LYP_631Gd_4_4_cent_carbonyl_stable_low_real.com\" target = \"_blank\">com</a></td><td><input type=\"button\" value=\"Smart Log\" id=\"o_sanity_B3LYP_631Gd_4_4_cent_carbonyl_stable_low_real\" onclick=\"IPython.cc_notebook.view_function(event, this.id)\" /></td><td>Error: TCursr= 1046 LCursr=   42</td><td>nan</td></tr><tr><td>o_sanity_B3LYP_631Gd_4_4_graphene_stable_high_model</td><td><a href = \"files/graphene_cycloadditions/unrestricted_cycloadd_oniom/o_sanity_B3LYP_631Gd_4_4_graphene_stable_high_model.com\" target = \"_blank\">com</a></td><td><input type=\"button\" value=\"Smart Log\" id=\"o_sanity_B3LYP_631Gd_4_4_graphene_stable_high_model\" onclick=\"IPython.cc_notebook.view_function(event, this.id)\" /></td><td>Success</td><td>-2138.06949675</td></tr><tr><td>o_sanity_B3LYP_631Gd_4_4_graphene_stable_low_model</td><td><a href = \"files/graphene_cycloadditions/unrestricted_cycloadd_oniom/o_sanity_B3LYP_631Gd_4_4_graphene_stable_low_model.com\" target = \"_blank\">com</a></td><td><input type=\"button\" value=\"Smart Log\" id=\"o_sanity_B3LYP_631Gd_4_4_graphene_stable_low_model\" onclick=\"IPython.cc_notebook.view_function(event, this.id)\" /></td><td>Error: TCursr= 1046 LCursr=   42</td><td>nan</td></tr><tr><td>o_sanity_B3LYP_631Gd_4_4_graphene_stable_low_real</td><td><a href = \"files/graphene_cycloadditions/unrestricted_cycloadd_oniom/o_sanity_B3LYP_631Gd_4_4_graphene_stable_low_real.com\" target = \"_blank\">com</a></td><td><input type=\"button\" value=\"Smart Log\" id=\"o_sanity_B3LYP_631Gd_4_4_graphene_stable_low_real\" onclick=\"IPython.cc_notebook.view_function(event, this.id)\" /></td><td>Error: TCursr= 1046 LCursr=   42</td><td>nan</td></tr>\n",
        "    </table>\n",
        "    </body>"
       ],
       "metadata": {},
       "output_type": "pyout",
       "prompt_number": 8,
       "text": [
        "<IPython.core.display.HTML at 0x7f12f650ac10>"
       ]
      }
     ],
     "prompt_number": 8
    },
    {
     "cell_type": "raw",
     "metadata": {},
     "source": [
      "Carbonyl\n",
      "Low real: all: RHF -> UHF\n",
      "o0 models: Stable\n",
      "o1 models: B3LYP: stable,     HF: RHF -> UHF, am1: RHF -> UHF, pm6: RHF -> UHF\n",
      "o2 models: B3LYP: stable,     HF: RHF -> UHF, am1: RHF -> UHF, pm6: RHF -> UHF\n",
      "o3 models: B3LYP: RHF -> UHF, HF: RHF -> UHF, am1: RHF -> UHF, pm6: RHF -> UHF\n",
      "o4 models: B3LYP: RHF -> UHF, HF: RHF -> UHF, am1: RHF -> UHF, pm6: RHF -> UHF                    "
     ]
    },
    {
     "cell_type": "raw",
     "metadata": {},
     "source": [
      "Graphene\n",
      "Low real: all: RHF -> UHF\n",
      "o0 models\n",
      "o1 models: B3LYP: stable,     HF: RHF -> UHF, am1: RHF -> UHF, pm6: RHF -> UHF\n",
      "o2 models: B3LYP: stable,     HF: RHF -> UHF, am1: RHF -> UHF, pm6: RHF -> UHF\n",
      "o3 models: B3LYP: RHF -> UHF, HF: RHF -> UHF, am1: RHF -> UHF, pm6: RHF -> UHF\n",
      "o4 models: B3LYP: stable,     HF: RHF -> UHF, am1: RHF -> UHF, pm6: RHF -> UHF"
     ]
    },
    {
     "cell_type": "markdown",
     "metadata": {},
     "source": [
      "Try unrestricted calcs"
     ]
    },
    {
     "cell_type": "code",
     "collapsed": false,
     "input": [
      "l_methods = ['uam1','upm6','uHF/STO-3G']"
     ],
     "language": "python",
     "metadata": {},
     "outputs": [],
     "prompt_number": 9
    },
    {
     "cell_type": "code",
     "collapsed": false,
     "input": [
      "o_44_carb = []\n",
      "o_44 = []\n",
      "\n",
      "for siz in range(5):\n",
      "    for meth in l_methods:\n",
      "        graph_ylid = read(carb_44_xyz)\n",
      "        graph_ylid_name = 'o{s}_{m}_UB3LYP_631Gd_4_4_cent_carbonyl_stable'.format(m=meth.replace('/', '_'), s=siz)\n",
      "        graph_ylid.set_calculator(Gaussian(label=graph_ylid_name, \n",
      "                                           method='oniom(UB3LYP/6-31G(d):{l})=OnlyInputFiles'.format(l=meth), \n",
      "                                           basis='oniom'))\n",
      "        graph_ylid_H = ylide_atoms + graph_atoms[siz]\n",
      "        graph_ylid.calc.oniom_coord_params['layers'] = [[no -1 for no in graph_ylid_H]]\n",
      "        graph_ylid.calc.oniom_coord_params['layer_mults'] = [1,1]\n",
      "        graph_ylid.calc.set_job(nodes=1, memory=400, time=1, queue='pqmb')\n",
      "        \n",
      "        graph = read(graph_44_xyz)\n",
      "        graph_name = 'o{s}_{m}_UB3LYP_631Gd_4_4_graphene_stable'.format(m=meth.replace('/', '_'), s=siz)\n",
      "        graph.set_calculator(Gaussian(label=graph_name, method='oniom(UB3LYP/6-31G(d):{l})=OnlyInputFiles'.format(l=meth), basis='oniom'))\n",
      "        graph_H = graph_atoms[siz]\n",
      "        graph.calc.oniom_coord_params['layers'] = [[no -1 for no in graph_H]]\n",
      "        graph.calc.oniom_coord_params['layer_mults'] = [1,1]\n",
      "        graph.calc.set_job(nodes=1, memory=1*400, time=1, queue='pqmb')\n",
      "        \n",
      "        #graph_ylid.calc.start(frc=True)\n",
      "        #graph.calc.start(frc=True)\n",
      "        o_44_carb.append(graph_ylid)\n",
      "        o_44.append(graph)\n",
      "        \n",
      "#sanity check\n",
      "graph_ylid = read(carb_44_xyz)\n",
      "graph_ylid_name = 'o_sanity_UB3LYP_631Gd_4_4_cent_carbonyl_stable'\n",
      "graph_ylid.set_calculator(Gaussian(label=graph_ylid_name, method='oniom(UB3LYP/6-31G(d):UB3LYP/6-31G(d))=OnlyInputFiles', basis='oniom'))\n",
      "graph_ylid_H = ylide_atoms + graph_atoms[0]\n",
      "graph_ylid.calc.oniom_coord_params['layers'] = [[no -1 for no in graph_ylid_H]]\n",
      "graph_ylid.calc.oniom_coord_params['layer_mults'] = [1,1]\n",
      "graph_ylid.calc.set_job(nodes=1, memory=1*400, time=1, queue='pqmb')\n",
      "        \n",
      "graph = read(graph_44_xyz)\n",
      "graph_name = 'o_sanity_UB3LYP_631Gd_4_4_graphene_stable'\n",
      "graph.set_calculator(Gaussian(label=graph_name, method='oniom(UB3LYP/6-31G(d):UB3LYP/6-31G(d))=OnlyInputFiles', basis='oniom'))\n",
      "graph_H = graph_atoms[0]\n",
      "graph.calc.oniom_coord_params['layers'] = [[no -1 for no in graph_H]]\n",
      "graph.calc.oniom_coord_params['layer_mults'] = [1,1]\n",
      "graph.calc.set_job(nodes=1, memory=400, time=1, queue='pqmb')\n",
      "        \n",
      "#graph_ylid.calc.start(frc=True)\n",
      "#graph.calc.start(frc=True)\n",
      "o_44_carb.append(graph_ylid)\n",
      "o_44.append(graph)"
     ],
     "language": "python",
     "metadata": {},
     "outputs": [],
     "prompt_number": 10
    },
    {
     "cell_type": "code",
     "collapsed": false,
     "input": [
      "check_calcs(o_44 + o_44_carb)"
     ],
     "language": "python",
     "metadata": {},
     "outputs": [
      {
       "metadata": {},
       "output_type": "pyout",
       "prompt_number": 11,
       "text": [
        "'Calculations complete'"
       ]
      }
     ],
     "prompt_number": 11
    },
    {
     "cell_type": "code",
     "collapsed": false,
     "input": [
      "import oniom_utils\n",
      "ul_rls, uh_mds, ul_mds = [list(c) for c in zip(*[oniom_utils.oniom_comp_calcs(r, stable='opt') for r in o_44 + o_44_carb])]\n",
      "for c in ul_rls + uh_mds + ul_mds:\n",
      "    c.calc.set_job(nodes=8, memory=8*1400, time=5, queue='pqmb')\n",
      "    #c.calc.start()"
     ],
     "language": "python",
     "metadata": {},
     "outputs": [],
     "prompt_number": 12
    },
    {
     "cell_type": "code",
     "collapsed": false,
     "input": [
      "check_calcs(ul_rls + uh_mds + ul_mds)\n",
      "mols_to_html(ul_rls + uh_mds + ul_mds)"
     ],
     "language": "python",
     "metadata": {},
     "outputs": [
      {
       "html": [
        "\n",
        "    <style>\n",
        "    table\n",
        "    {\n",
        "        border-collapse:collapse;\n",
        "    }\n",
        "    td\n",
        "    {\n",
        "        padding:15px;\n",
        "    }\n",
        "    </style>\n",
        "    <body>\n",
        "    <table bgcolor=\"white\">\n",
        "    <col/><tr><td>o0_uam1_UB3LYP_631Gd_4_4_graphene_stable_low_real</td><td><a href = \"files/graphene_cycloadditions/unrestricted_cycloadd_oniom/o0_uam1_UB3LYP_631Gd_4_4_graphene_stable_low_real.com\" target = \"_blank\">com</a></td><td><input type=\"button\" value=\"Smart Log\" id=\"o0_uam1_UB3LYP_631Gd_4_4_graphene_stable_low_real\" onclick=\"IPython.cc_notebook.view_function(event, this.id)\" /></td><td>Success</td></tr><tr><td>o0_upm6_UB3LYP_631Gd_4_4_graphene_stable_low_real</td><td><a href = \"files/graphene_cycloadditions/unrestricted_cycloadd_oniom/o0_upm6_UB3LYP_631Gd_4_4_graphene_stable_low_real.com\" target = \"_blank\">com</a></td><td><input type=\"button\" value=\"Smart Log\" id=\"o0_upm6_UB3LYP_631Gd_4_4_graphene_stable_low_real\" onclick=\"IPython.cc_notebook.view_function(event, this.id)\" /></td><td>Success</td></tr><tr><td>o0_uHF_STO-3G_UB3LYP_631Gd_4_4_graphene_stable_low_real</td><td><a href = \"files/graphene_cycloadditions/unrestricted_cycloadd_oniom/o0_uHF_STO-3G_UB3LYP_631Gd_4_4_graphene_stable_low_real.com\" target = \"_blank\">com</a></td><td><input type=\"button\" value=\"Smart Log\" id=\"o0_uHF_STO-3G_UB3LYP_631Gd_4_4_graphene_stable_low_real\" onclick=\"IPython.cc_notebook.view_function(event, this.id)\" /></td><td>Success</td></tr><tr><td>o1_uam1_UB3LYP_631Gd_4_4_graphene_stable_low_real</td><td><a href = \"files/graphene_cycloadditions/unrestricted_cycloadd_oniom/o1_uam1_UB3LYP_631Gd_4_4_graphene_stable_low_real.com\" target = \"_blank\">com</a></td><td><input type=\"button\" value=\"Smart Log\" id=\"o1_uam1_UB3LYP_631Gd_4_4_graphene_stable_low_real\" onclick=\"IPython.cc_notebook.view_function(event, this.id)\" /></td><td>Success</td></tr><tr><td>o1_upm6_UB3LYP_631Gd_4_4_graphene_stable_low_real</td><td><a href = \"files/graphene_cycloadditions/unrestricted_cycloadd_oniom/o1_upm6_UB3LYP_631Gd_4_4_graphene_stable_low_real.com\" target = \"_blank\">com</a></td><td><input type=\"button\" value=\"Smart Log\" id=\"o1_upm6_UB3LYP_631Gd_4_4_graphene_stable_low_real\" onclick=\"IPython.cc_notebook.view_function(event, this.id)\" /></td><td>Success</td></tr><tr><td>o1_uHF_STO-3G_UB3LYP_631Gd_4_4_graphene_stable_low_real</td><td><a href = \"files/graphene_cycloadditions/unrestricted_cycloadd_oniom/o1_uHF_STO-3G_UB3LYP_631Gd_4_4_graphene_stable_low_real.com\" target = \"_blank\">com</a></td><td><input type=\"button\" value=\"Smart Log\" id=\"o1_uHF_STO-3G_UB3LYP_631Gd_4_4_graphene_stable_low_real\" onclick=\"IPython.cc_notebook.view_function(event, this.id)\" /></td><td>Success</td></tr><tr><td>o2_uam1_UB3LYP_631Gd_4_4_graphene_stable_low_real</td><td><a href = \"files/graphene_cycloadditions/unrestricted_cycloadd_oniom/o2_uam1_UB3LYP_631Gd_4_4_graphene_stable_low_real.com\" target = \"_blank\">com</a></td><td><input type=\"button\" value=\"Smart Log\" id=\"o2_uam1_UB3LYP_631Gd_4_4_graphene_stable_low_real\" onclick=\"IPython.cc_notebook.view_function(event, this.id)\" /></td><td>Success</td></tr><tr><td>o2_upm6_UB3LYP_631Gd_4_4_graphene_stable_low_real</td><td><a href = \"files/graphene_cycloadditions/unrestricted_cycloadd_oniom/o2_upm6_UB3LYP_631Gd_4_4_graphene_stable_low_real.com\" target = \"_blank\">com</a></td><td><input type=\"button\" value=\"Smart Log\" id=\"o2_upm6_UB3LYP_631Gd_4_4_graphene_stable_low_real\" onclick=\"IPython.cc_notebook.view_function(event, this.id)\" /></td><td>Success</td></tr><tr><td>o2_uHF_STO-3G_UB3LYP_631Gd_4_4_graphene_stable_low_real</td><td><a href = \"files/graphene_cycloadditions/unrestricted_cycloadd_oniom/o2_uHF_STO-3G_UB3LYP_631Gd_4_4_graphene_stable_low_real.com\" target = \"_blank\">com</a></td><td><input type=\"button\" value=\"Smart Log\" id=\"o2_uHF_STO-3G_UB3LYP_631Gd_4_4_graphene_stable_low_real\" onclick=\"IPython.cc_notebook.view_function(event, this.id)\" /></td><td>Success</td></tr><tr><td>o3_uam1_UB3LYP_631Gd_4_4_graphene_stable_low_real</td><td><a href = \"files/graphene_cycloadditions/unrestricted_cycloadd_oniom/o3_uam1_UB3LYP_631Gd_4_4_graphene_stable_low_real.com\" target = \"_blank\">com</a></td><td><input type=\"button\" value=\"Smart Log\" id=\"o3_uam1_UB3LYP_631Gd_4_4_graphene_stable_low_real\" onclick=\"IPython.cc_notebook.view_function(event, this.id)\" /></td><td>Success</td></tr><tr><td>o3_upm6_UB3LYP_631Gd_4_4_graphene_stable_low_real</td><td><a href = \"files/graphene_cycloadditions/unrestricted_cycloadd_oniom/o3_upm6_UB3LYP_631Gd_4_4_graphene_stable_low_real.com\" target = \"_blank\">com</a></td><td><input type=\"button\" value=\"Smart Log\" id=\"o3_upm6_UB3LYP_631Gd_4_4_graphene_stable_low_real\" onclick=\"IPython.cc_notebook.view_function(event, this.id)\" /></td><td>Success</td></tr><tr><td>o3_uHF_STO-3G_UB3LYP_631Gd_4_4_graphene_stable_low_real</td><td><a href = \"files/graphene_cycloadditions/unrestricted_cycloadd_oniom/o3_uHF_STO-3G_UB3LYP_631Gd_4_4_graphene_stable_low_real.com\" target = \"_blank\">com</a></td><td><input type=\"button\" value=\"Smart Log\" id=\"o3_uHF_STO-3G_UB3LYP_631Gd_4_4_graphene_stable_low_real\" onclick=\"IPython.cc_notebook.view_function(event, this.id)\" /></td><td>Success</td></tr><tr><td>o4_uam1_UB3LYP_631Gd_4_4_graphene_stable_low_real</td><td><a href = \"files/graphene_cycloadditions/unrestricted_cycloadd_oniom/o4_uam1_UB3LYP_631Gd_4_4_graphene_stable_low_real.com\" target = \"_blank\">com</a></td><td><input type=\"button\" value=\"Smart Log\" id=\"o4_uam1_UB3LYP_631Gd_4_4_graphene_stable_low_real\" onclick=\"IPython.cc_notebook.view_function(event, this.id)\" /></td><td>Success</td></tr><tr><td>o4_upm6_UB3LYP_631Gd_4_4_graphene_stable_low_real</td><td><a href = \"files/graphene_cycloadditions/unrestricted_cycloadd_oniom/o4_upm6_UB3LYP_631Gd_4_4_graphene_stable_low_real.com\" target = \"_blank\">com</a></td><td><input type=\"button\" value=\"Smart Log\" id=\"o4_upm6_UB3LYP_631Gd_4_4_graphene_stable_low_real\" onclick=\"IPython.cc_notebook.view_function(event, this.id)\" /></td><td>Success</td></tr><tr><td>o4_uHF_STO-3G_UB3LYP_631Gd_4_4_graphene_stable_low_real</td><td><a href = \"files/graphene_cycloadditions/unrestricted_cycloadd_oniom/o4_uHF_STO-3G_UB3LYP_631Gd_4_4_graphene_stable_low_real.com\" target = \"_blank\">com</a></td><td><input type=\"button\" value=\"Smart Log\" id=\"o4_uHF_STO-3G_UB3LYP_631Gd_4_4_graphene_stable_low_real\" onclick=\"IPython.cc_notebook.view_function(event, this.id)\" /></td><td>Success</td></tr><tr><td>o_sanity_UB3LYP_631Gd_4_4_graphene_stable_low_real</td><td><a href = \"files/graphene_cycloadditions/unrestricted_cycloadd_oniom/o_sanity_UB3LYP_631Gd_4_4_graphene_stable_low_real.com\" target = \"_blank\">com</a></td><td><input type=\"button\" value=\"Smart Log\" id=\"o_sanity_UB3LYP_631Gd_4_4_graphene_stable_low_real\" onclick=\"IPython.cc_notebook.view_function(event, this.id)\" /></td><td>Error: TCursr= 1046 LCursr=   43</td></tr><tr><td>o0_uam1_UB3LYP_631Gd_4_4_cent_carbonyl_stable_low_real</td><td><a href = \"files/graphene_cycloadditions/unrestricted_cycloadd_oniom/o0_uam1_UB3LYP_631Gd_4_4_cent_carbonyl_stable_low_real.com\" target = \"_blank\">com</a></td><td><input type=\"button\" value=\"Smart Log\" id=\"o0_uam1_UB3LYP_631Gd_4_4_cent_carbonyl_stable_low_real\" onclick=\"IPython.cc_notebook.view_function(event, this.id)\" /></td><td>Success</td></tr><tr><td>o0_upm6_UB3LYP_631Gd_4_4_cent_carbonyl_stable_low_real</td><td><a href = \"files/graphene_cycloadditions/unrestricted_cycloadd_oniom/o0_upm6_UB3LYP_631Gd_4_4_cent_carbonyl_stable_low_real.com\" target = \"_blank\">com</a></td><td><input type=\"button\" value=\"Smart Log\" id=\"o0_upm6_UB3LYP_631Gd_4_4_cent_carbonyl_stable_low_real\" onclick=\"IPython.cc_notebook.view_function(event, this.id)\" /></td><td>Success</td></tr><tr><td>o0_uHF_STO-3G_UB3LYP_631Gd_4_4_cent_carbonyl_stable_low_real</td><td><a href = \"files/graphene_cycloadditions/unrestricted_cycloadd_oniom/o0_uHF_STO-3G_UB3LYP_631Gd_4_4_cent_carbonyl_stable_low_real.com\" target = \"_blank\">com</a></td><td><input type=\"button\" value=\"Smart Log\" id=\"o0_uHF_STO-3G_UB3LYP_631Gd_4_4_cent_carbonyl_stable_low_real\" onclick=\"IPython.cc_notebook.view_function(event, this.id)\" /></td><td>Success</td></tr><tr><td>o1_uam1_UB3LYP_631Gd_4_4_cent_carbonyl_stable_low_real</td><td><a href = \"files/graphene_cycloadditions/unrestricted_cycloadd_oniom/o1_uam1_UB3LYP_631Gd_4_4_cent_carbonyl_stable_low_real.com\" target = \"_blank\">com</a></td><td><input type=\"button\" value=\"Smart Log\" id=\"o1_uam1_UB3LYP_631Gd_4_4_cent_carbonyl_stable_low_real\" onclick=\"IPython.cc_notebook.view_function(event, this.id)\" /></td><td>Success</td></tr><tr><td>o1_upm6_UB3LYP_631Gd_4_4_cent_carbonyl_stable_low_real</td><td><a href = \"files/graphene_cycloadditions/unrestricted_cycloadd_oniom/o1_upm6_UB3LYP_631Gd_4_4_cent_carbonyl_stable_low_real.com\" target = \"_blank\">com</a></td><td><input type=\"button\" value=\"Smart Log\" id=\"o1_upm6_UB3LYP_631Gd_4_4_cent_carbonyl_stable_low_real\" onclick=\"IPython.cc_notebook.view_function(event, this.id)\" /></td><td>Success</td></tr><tr><td>o1_uHF_STO-3G_UB3LYP_631Gd_4_4_cent_carbonyl_stable_low_real</td><td><a href = \"files/graphene_cycloadditions/unrestricted_cycloadd_oniom/o1_uHF_STO-3G_UB3LYP_631Gd_4_4_cent_carbonyl_stable_low_real.com\" target = \"_blank\">com</a></td><td><input type=\"button\" value=\"Smart Log\" id=\"o1_uHF_STO-3G_UB3LYP_631Gd_4_4_cent_carbonyl_stable_low_real\" onclick=\"IPython.cc_notebook.view_function(event, this.id)\" /></td><td>Success</td></tr><tr><td>o2_uam1_UB3LYP_631Gd_4_4_cent_carbonyl_stable_low_real</td><td><a href = \"files/graphene_cycloadditions/unrestricted_cycloadd_oniom/o2_uam1_UB3LYP_631Gd_4_4_cent_carbonyl_stable_low_real.com\" target = \"_blank\">com</a></td><td><input type=\"button\" value=\"Smart Log\" id=\"o2_uam1_UB3LYP_631Gd_4_4_cent_carbonyl_stable_low_real\" onclick=\"IPython.cc_notebook.view_function(event, this.id)\" /></td><td>Success</td></tr><tr><td>o2_upm6_UB3LYP_631Gd_4_4_cent_carbonyl_stable_low_real</td><td><a href = \"files/graphene_cycloadditions/unrestricted_cycloadd_oniom/o2_upm6_UB3LYP_631Gd_4_4_cent_carbonyl_stable_low_real.com\" target = \"_blank\">com</a></td><td><input type=\"button\" value=\"Smart Log\" id=\"o2_upm6_UB3LYP_631Gd_4_4_cent_carbonyl_stable_low_real\" onclick=\"IPython.cc_notebook.view_function(event, this.id)\" /></td><td>Success</td></tr><tr><td>o2_uHF_STO-3G_UB3LYP_631Gd_4_4_cent_carbonyl_stable_low_real</td><td><a href = \"files/graphene_cycloadditions/unrestricted_cycloadd_oniom/o2_uHF_STO-3G_UB3LYP_631Gd_4_4_cent_carbonyl_stable_low_real.com\" target = \"_blank\">com</a></td><td><input type=\"button\" value=\"Smart Log\" id=\"o2_uHF_STO-3G_UB3LYP_631Gd_4_4_cent_carbonyl_stable_low_real\" onclick=\"IPython.cc_notebook.view_function(event, this.id)\" /></td><td>Success</td></tr><tr><td>o3_uam1_UB3LYP_631Gd_4_4_cent_carbonyl_stable_low_real</td><td><a href = \"files/graphene_cycloadditions/unrestricted_cycloadd_oniom/o3_uam1_UB3LYP_631Gd_4_4_cent_carbonyl_stable_low_real.com\" target = \"_blank\">com</a></td><td><input type=\"button\" value=\"Smart Log\" id=\"o3_uam1_UB3LYP_631Gd_4_4_cent_carbonyl_stable_low_real\" onclick=\"IPython.cc_notebook.view_function(event, this.id)\" /></td><td>Success</td></tr><tr><td>o3_upm6_UB3LYP_631Gd_4_4_cent_carbonyl_stable_low_real</td><td><a href = \"files/graphene_cycloadditions/unrestricted_cycloadd_oniom/o3_upm6_UB3LYP_631Gd_4_4_cent_carbonyl_stable_low_real.com\" target = \"_blank\">com</a></td><td><input type=\"button\" value=\"Smart Log\" id=\"o3_upm6_UB3LYP_631Gd_4_4_cent_carbonyl_stable_low_real\" onclick=\"IPython.cc_notebook.view_function(event, this.id)\" /></td><td>Success</td></tr><tr><td>o3_uHF_STO-3G_UB3LYP_631Gd_4_4_cent_carbonyl_stable_low_real</td><td><a href = \"files/graphene_cycloadditions/unrestricted_cycloadd_oniom/o3_uHF_STO-3G_UB3LYP_631Gd_4_4_cent_carbonyl_stable_low_real.com\" target = \"_blank\">com</a></td><td><input type=\"button\" value=\"Smart Log\" id=\"o3_uHF_STO-3G_UB3LYP_631Gd_4_4_cent_carbonyl_stable_low_real\" onclick=\"IPython.cc_notebook.view_function(event, this.id)\" /></td><td>Success</td></tr><tr><td>o4_uam1_UB3LYP_631Gd_4_4_cent_carbonyl_stable_low_real</td><td><a href = \"files/graphene_cycloadditions/unrestricted_cycloadd_oniom/o4_uam1_UB3LYP_631Gd_4_4_cent_carbonyl_stable_low_real.com\" target = \"_blank\">com</a></td><td><input type=\"button\" value=\"Smart Log\" id=\"o4_uam1_UB3LYP_631Gd_4_4_cent_carbonyl_stable_low_real\" onclick=\"IPython.cc_notebook.view_function(event, this.id)\" /></td><td>Success</td></tr><tr><td>o4_upm6_UB3LYP_631Gd_4_4_cent_carbonyl_stable_low_real</td><td><a href = \"files/graphene_cycloadditions/unrestricted_cycloadd_oniom/o4_upm6_UB3LYP_631Gd_4_4_cent_carbonyl_stable_low_real.com\" target = \"_blank\">com</a></td><td><input type=\"button\" value=\"Smart Log\" id=\"o4_upm6_UB3LYP_631Gd_4_4_cent_carbonyl_stable_low_real\" onclick=\"IPython.cc_notebook.view_function(event, this.id)\" /></td><td>Success</td></tr><tr><td>o4_uHF_STO-3G_UB3LYP_631Gd_4_4_cent_carbonyl_stable_low_real</td><td><a href = \"files/graphene_cycloadditions/unrestricted_cycloadd_oniom/o4_uHF_STO-3G_UB3LYP_631Gd_4_4_cent_carbonyl_stable_low_real.com\" target = \"_blank\">com</a></td><td><input type=\"button\" value=\"Smart Log\" id=\"o4_uHF_STO-3G_UB3LYP_631Gd_4_4_cent_carbonyl_stable_low_real\" onclick=\"IPython.cc_notebook.view_function(event, this.id)\" /></td><td>Success</td></tr><tr><td>o_sanity_UB3LYP_631Gd_4_4_cent_carbonyl_stable_low_real</td><td><a href = \"files/graphene_cycloadditions/unrestricted_cycloadd_oniom/o_sanity_UB3LYP_631Gd_4_4_cent_carbonyl_stable_low_real.com\" target = \"_blank\">com</a></td><td><input type=\"button\" value=\"Smart Log\" id=\"o_sanity_UB3LYP_631Gd_4_4_cent_carbonyl_stable_low_real\" onclick=\"IPython.cc_notebook.view_function(event, this.id)\" /></td><td>Error: TCursr= 1046 LCursr=   43</td></tr><tr><td>o0_uam1_UB3LYP_631Gd_4_4_graphene_stable_high_model</td><td><a href = \"files/graphene_cycloadditions/unrestricted_cycloadd_oniom/o0_uam1_UB3LYP_631Gd_4_4_graphene_stable_high_model.com\" target = \"_blank\">com</a></td><td><input type=\"button\" value=\"Smart Log\" id=\"o0_uam1_UB3LYP_631Gd_4_4_graphene_stable_high_model\" onclick=\"IPython.cc_notebook.view_function(event, this.id)\" /></td><td>Success</td></tr><tr><td>o0_upm6_UB3LYP_631Gd_4_4_graphene_stable_high_model</td><td><a href = \"files/graphene_cycloadditions/unrestricted_cycloadd_oniom/o0_upm6_UB3LYP_631Gd_4_4_graphene_stable_high_model.com\" target = \"_blank\">com</a></td><td><input type=\"button\" value=\"Smart Log\" id=\"o0_upm6_UB3LYP_631Gd_4_4_graphene_stable_high_model\" onclick=\"IPython.cc_notebook.view_function(event, this.id)\" /></td><td>Success</td></tr><tr><td>o0_uHF_STO-3G_UB3LYP_631Gd_4_4_graphene_stable_high_model</td><td><a href = \"files/graphene_cycloadditions/unrestricted_cycloadd_oniom/o0_uHF_STO-3G_UB3LYP_631Gd_4_4_graphene_stable_high_model.com\" target = \"_blank\">com</a></td><td><input type=\"button\" value=\"Smart Log\" id=\"o0_uHF_STO-3G_UB3LYP_631Gd_4_4_graphene_stable_high_model\" onclick=\"IPython.cc_notebook.view_function(event, this.id)\" /></td><td>Success</td></tr><tr><td>o1_uam1_UB3LYP_631Gd_4_4_graphene_stable_high_model</td><td><a href = \"files/graphene_cycloadditions/unrestricted_cycloadd_oniom/o1_uam1_UB3LYP_631Gd_4_4_graphene_stable_high_model.com\" target = \"_blank\">com</a></td><td><input type=\"button\" value=\"Smart Log\" id=\"o1_uam1_UB3LYP_631Gd_4_4_graphene_stable_high_model\" onclick=\"IPython.cc_notebook.view_function(event, this.id)\" /></td><td>Success</td></tr><tr><td>o1_upm6_UB3LYP_631Gd_4_4_graphene_stable_high_model</td><td><a href = \"files/graphene_cycloadditions/unrestricted_cycloadd_oniom/o1_upm6_UB3LYP_631Gd_4_4_graphene_stable_high_model.com\" target = \"_blank\">com</a></td><td><input type=\"button\" value=\"Smart Log\" id=\"o1_upm6_UB3LYP_631Gd_4_4_graphene_stable_high_model\" onclick=\"IPython.cc_notebook.view_function(event, this.id)\" /></td><td>Success</td></tr><tr><td>o1_uHF_STO-3G_UB3LYP_631Gd_4_4_graphene_stable_high_model</td><td><a href = \"files/graphene_cycloadditions/unrestricted_cycloadd_oniom/o1_uHF_STO-3G_UB3LYP_631Gd_4_4_graphene_stable_high_model.com\" target = \"_blank\">com</a></td><td><input type=\"button\" value=\"Smart Log\" id=\"o1_uHF_STO-3G_UB3LYP_631Gd_4_4_graphene_stable_high_model\" onclick=\"IPython.cc_notebook.view_function(event, this.id)\" /></td><td>Success</td></tr><tr><td>o2_uam1_UB3LYP_631Gd_4_4_graphene_stable_high_model</td><td><a href = \"files/graphene_cycloadditions/unrestricted_cycloadd_oniom/o2_uam1_UB3LYP_631Gd_4_4_graphene_stable_high_model.com\" target = \"_blank\">com</a></td><td><input type=\"button\" value=\"Smart Log\" id=\"o2_uam1_UB3LYP_631Gd_4_4_graphene_stable_high_model\" onclick=\"IPython.cc_notebook.view_function(event, this.id)\" /></td><td>Success</td></tr><tr><td>o2_upm6_UB3LYP_631Gd_4_4_graphene_stable_high_model</td><td><a href = \"files/graphene_cycloadditions/unrestricted_cycloadd_oniom/o2_upm6_UB3LYP_631Gd_4_4_graphene_stable_high_model.com\" target = \"_blank\">com</a></td><td><input type=\"button\" value=\"Smart Log\" id=\"o2_upm6_UB3LYP_631Gd_4_4_graphene_stable_high_model\" onclick=\"IPython.cc_notebook.view_function(event, this.id)\" /></td><td>Success</td></tr><tr><td>o2_uHF_STO-3G_UB3LYP_631Gd_4_4_graphene_stable_high_model</td><td><a href = \"files/graphene_cycloadditions/unrestricted_cycloadd_oniom/o2_uHF_STO-3G_UB3LYP_631Gd_4_4_graphene_stable_high_model.com\" target = \"_blank\">com</a></td><td><input type=\"button\" value=\"Smart Log\" id=\"o2_uHF_STO-3G_UB3LYP_631Gd_4_4_graphene_stable_high_model\" onclick=\"IPython.cc_notebook.view_function(event, this.id)\" /></td><td>Success</td></tr><tr><td>o3_uam1_UB3LYP_631Gd_4_4_graphene_stable_high_model</td><td><a href = \"files/graphene_cycloadditions/unrestricted_cycloadd_oniom/o3_uam1_UB3LYP_631Gd_4_4_graphene_stable_high_model.com\" target = \"_blank\">com</a></td><td><input type=\"button\" value=\"Smart Log\" id=\"o3_uam1_UB3LYP_631Gd_4_4_graphene_stable_high_model\" onclick=\"IPython.cc_notebook.view_function(event, this.id)\" /></td><td>Success</td></tr><tr><td>o3_upm6_UB3LYP_631Gd_4_4_graphene_stable_high_model</td><td><a href = \"files/graphene_cycloadditions/unrestricted_cycloadd_oniom/o3_upm6_UB3LYP_631Gd_4_4_graphene_stable_high_model.com\" target = \"_blank\">com</a></td><td><input type=\"button\" value=\"Smart Log\" id=\"o3_upm6_UB3LYP_631Gd_4_4_graphene_stable_high_model\" onclick=\"IPython.cc_notebook.view_function(event, this.id)\" /></td><td>Success</td></tr><tr><td>o3_uHF_STO-3G_UB3LYP_631Gd_4_4_graphene_stable_high_model</td><td><a href = \"files/graphene_cycloadditions/unrestricted_cycloadd_oniom/o3_uHF_STO-3G_UB3LYP_631Gd_4_4_graphene_stable_high_model.com\" target = \"_blank\">com</a></td><td><input type=\"button\" value=\"Smart Log\" id=\"o3_uHF_STO-3G_UB3LYP_631Gd_4_4_graphene_stable_high_model\" onclick=\"IPython.cc_notebook.view_function(event, this.id)\" /></td><td>Success</td></tr><tr><td>o4_uam1_UB3LYP_631Gd_4_4_graphene_stable_high_model</td><td><a href = \"files/graphene_cycloadditions/unrestricted_cycloadd_oniom/o4_uam1_UB3LYP_631Gd_4_4_graphene_stable_high_model.com\" target = \"_blank\">com</a></td><td><input type=\"button\" value=\"Smart Log\" id=\"o4_uam1_UB3LYP_631Gd_4_4_graphene_stable_high_model\" onclick=\"IPython.cc_notebook.view_function(event, this.id)\" /></td><td>Success</td></tr><tr><td>o4_upm6_UB3LYP_631Gd_4_4_graphene_stable_high_model</td><td><a href = \"files/graphene_cycloadditions/unrestricted_cycloadd_oniom/o4_upm6_UB3LYP_631Gd_4_4_graphene_stable_high_model.com\" target = \"_blank\">com</a></td><td><input type=\"button\" value=\"Smart Log\" id=\"o4_upm6_UB3LYP_631Gd_4_4_graphene_stable_high_model\" onclick=\"IPython.cc_notebook.view_function(event, this.id)\" /></td><td>Success</td></tr><tr><td>o4_uHF_STO-3G_UB3LYP_631Gd_4_4_graphene_stable_high_model</td><td><a href = \"files/graphene_cycloadditions/unrestricted_cycloadd_oniom/o4_uHF_STO-3G_UB3LYP_631Gd_4_4_graphene_stable_high_model.com\" target = \"_blank\">com</a></td><td><input type=\"button\" value=\"Smart Log\" id=\"o4_uHF_STO-3G_UB3LYP_631Gd_4_4_graphene_stable_high_model\" onclick=\"IPython.cc_notebook.view_function(event, this.id)\" /></td><td>Success</td></tr><tr><td>o_sanity_UB3LYP_631Gd_4_4_graphene_stable_high_model</td><td><a href = \"files/graphene_cycloadditions/unrestricted_cycloadd_oniom/o_sanity_UB3LYP_631Gd_4_4_graphene_stable_high_model.com\" target = \"_blank\">com</a></td><td><input type=\"button\" value=\"Smart Log\" id=\"o_sanity_UB3LYP_631Gd_4_4_graphene_stable_high_model\" onclick=\"IPython.cc_notebook.view_function(event, this.id)\" /></td><td>Success</td></tr><tr><td>o0_uam1_UB3LYP_631Gd_4_4_cent_carbonyl_stable_high_model</td><td><a href = \"files/graphene_cycloadditions/unrestricted_cycloadd_oniom/o0_uam1_UB3LYP_631Gd_4_4_cent_carbonyl_stable_high_model.com\" target = \"_blank\">com</a></td><td><input type=\"button\" value=\"Smart Log\" id=\"o0_uam1_UB3LYP_631Gd_4_4_cent_carbonyl_stable_high_model\" onclick=\"IPython.cc_notebook.view_function(event, this.id)\" /></td><td>Success</td></tr><tr><td>o0_upm6_UB3LYP_631Gd_4_4_cent_carbonyl_stable_high_model</td><td><a href = \"files/graphene_cycloadditions/unrestricted_cycloadd_oniom/o0_upm6_UB3LYP_631Gd_4_4_cent_carbonyl_stable_high_model.com\" target = \"_blank\">com</a></td><td><input type=\"button\" value=\"Smart Log\" id=\"o0_upm6_UB3LYP_631Gd_4_4_cent_carbonyl_stable_high_model\" onclick=\"IPython.cc_notebook.view_function(event, this.id)\" /></td><td>Success</td></tr><tr><td>o0_uHF_STO-3G_UB3LYP_631Gd_4_4_cent_carbonyl_stable_high_model</td><td><a href = \"files/graphene_cycloadditions/unrestricted_cycloadd_oniom/o0_uHF_STO-3G_UB3LYP_631Gd_4_4_cent_carbonyl_stable_high_model.com\" target = \"_blank\">com</a></td><td><input type=\"button\" value=\"Smart Log\" id=\"o0_uHF_STO-3G_UB3LYP_631Gd_4_4_cent_carbonyl_stable_high_model\" onclick=\"IPython.cc_notebook.view_function(event, this.id)\" /></td><td>Success</td></tr><tr><td>o1_uam1_UB3LYP_631Gd_4_4_cent_carbonyl_stable_high_model</td><td><a href = \"files/graphene_cycloadditions/unrestricted_cycloadd_oniom/o1_uam1_UB3LYP_631Gd_4_4_cent_carbonyl_stable_high_model.com\" target = \"_blank\">com</a></td><td><input type=\"button\" value=\"Smart Log\" id=\"o1_uam1_UB3LYP_631Gd_4_4_cent_carbonyl_stable_high_model\" onclick=\"IPython.cc_notebook.view_function(event, this.id)\" /></td><td>Success</td></tr><tr><td>o1_upm6_UB3LYP_631Gd_4_4_cent_carbonyl_stable_high_model</td><td><a href = \"files/graphene_cycloadditions/unrestricted_cycloadd_oniom/o1_upm6_UB3LYP_631Gd_4_4_cent_carbonyl_stable_high_model.com\" target = \"_blank\">com</a></td><td><input type=\"button\" value=\"Smart Log\" id=\"o1_upm6_UB3LYP_631Gd_4_4_cent_carbonyl_stable_high_model\" onclick=\"IPython.cc_notebook.view_function(event, this.id)\" /></td><td>Success</td></tr><tr><td>o1_uHF_STO-3G_UB3LYP_631Gd_4_4_cent_carbonyl_stable_high_model</td><td><a href = \"files/graphene_cycloadditions/unrestricted_cycloadd_oniom/o1_uHF_STO-3G_UB3LYP_631Gd_4_4_cent_carbonyl_stable_high_model.com\" target = \"_blank\">com</a></td><td><input type=\"button\" value=\"Smart Log\" id=\"o1_uHF_STO-3G_UB3LYP_631Gd_4_4_cent_carbonyl_stable_high_model\" onclick=\"IPython.cc_notebook.view_function(event, this.id)\" /></td><td>Success</td></tr><tr><td>o2_uam1_UB3LYP_631Gd_4_4_cent_carbonyl_stable_high_model</td><td><a href = \"files/graphene_cycloadditions/unrestricted_cycloadd_oniom/o2_uam1_UB3LYP_631Gd_4_4_cent_carbonyl_stable_high_model.com\" target = \"_blank\">com</a></td><td><input type=\"button\" value=\"Smart Log\" id=\"o2_uam1_UB3LYP_631Gd_4_4_cent_carbonyl_stable_high_model\" onclick=\"IPython.cc_notebook.view_function(event, this.id)\" /></td><td>Success</td></tr><tr><td>o2_upm6_UB3LYP_631Gd_4_4_cent_carbonyl_stable_high_model</td><td><a href = \"files/graphene_cycloadditions/unrestricted_cycloadd_oniom/o2_upm6_UB3LYP_631Gd_4_4_cent_carbonyl_stable_high_model.com\" target = \"_blank\">com</a></td><td><input type=\"button\" value=\"Smart Log\" id=\"o2_upm6_UB3LYP_631Gd_4_4_cent_carbonyl_stable_high_model\" onclick=\"IPython.cc_notebook.view_function(event, this.id)\" /></td><td>Success</td></tr><tr><td>o2_uHF_STO-3G_UB3LYP_631Gd_4_4_cent_carbonyl_stable_high_model</td><td><a href = \"files/graphene_cycloadditions/unrestricted_cycloadd_oniom/o2_uHF_STO-3G_UB3LYP_631Gd_4_4_cent_carbonyl_stable_high_model.com\" target = \"_blank\">com</a></td><td><input type=\"button\" value=\"Smart Log\" id=\"o2_uHF_STO-3G_UB3LYP_631Gd_4_4_cent_carbonyl_stable_high_model\" onclick=\"IPython.cc_notebook.view_function(event, this.id)\" /></td><td>Success</td></tr><tr><td>o3_uam1_UB3LYP_631Gd_4_4_cent_carbonyl_stable_high_model</td><td><a href = \"files/graphene_cycloadditions/unrestricted_cycloadd_oniom/o3_uam1_UB3LYP_631Gd_4_4_cent_carbonyl_stable_high_model.com\" target = \"_blank\">com</a></td><td><input type=\"button\" value=\"Smart Log\" id=\"o3_uam1_UB3LYP_631Gd_4_4_cent_carbonyl_stable_high_model\" onclick=\"IPython.cc_notebook.view_function(event, this.id)\" /></td><td>Success</td></tr><tr><td>o3_upm6_UB3LYP_631Gd_4_4_cent_carbonyl_stable_high_model</td><td><a href = \"files/graphene_cycloadditions/unrestricted_cycloadd_oniom/o3_upm6_UB3LYP_631Gd_4_4_cent_carbonyl_stable_high_model.com\" target = \"_blank\">com</a></td><td><input type=\"button\" value=\"Smart Log\" id=\"o3_upm6_UB3LYP_631Gd_4_4_cent_carbonyl_stable_high_model\" onclick=\"IPython.cc_notebook.view_function(event, this.id)\" /></td><td>Success</td></tr><tr><td>o3_uHF_STO-3G_UB3LYP_631Gd_4_4_cent_carbonyl_stable_high_model</td><td><a href = \"files/graphene_cycloadditions/unrestricted_cycloadd_oniom/o3_uHF_STO-3G_UB3LYP_631Gd_4_4_cent_carbonyl_stable_high_model.com\" target = \"_blank\">com</a></td><td><input type=\"button\" value=\"Smart Log\" id=\"o3_uHF_STO-3G_UB3LYP_631Gd_4_4_cent_carbonyl_stable_high_model\" onclick=\"IPython.cc_notebook.view_function(event, this.id)\" /></td><td>Success</td></tr><tr><td>o4_uam1_UB3LYP_631Gd_4_4_cent_carbonyl_stable_high_model</td><td><a href = \"files/graphene_cycloadditions/unrestricted_cycloadd_oniom/o4_uam1_UB3LYP_631Gd_4_4_cent_carbonyl_stable_high_model.com\" target = \"_blank\">com</a></td><td><input type=\"button\" value=\"Smart Log\" id=\"o4_uam1_UB3LYP_631Gd_4_4_cent_carbonyl_stable_high_model\" onclick=\"IPython.cc_notebook.view_function(event, this.id)\" /></td><td>Success</td></tr><tr><td>o4_upm6_UB3LYP_631Gd_4_4_cent_carbonyl_stable_high_model</td><td><a href = \"files/graphene_cycloadditions/unrestricted_cycloadd_oniom/o4_upm6_UB3LYP_631Gd_4_4_cent_carbonyl_stable_high_model.com\" target = \"_blank\">com</a></td><td><input type=\"button\" value=\"Smart Log\" id=\"o4_upm6_UB3LYP_631Gd_4_4_cent_carbonyl_stable_high_model\" onclick=\"IPython.cc_notebook.view_function(event, this.id)\" /></td><td>Success</td></tr><tr><td>o4_uHF_STO-3G_UB3LYP_631Gd_4_4_cent_carbonyl_stable_high_model</td><td><a href = \"files/graphene_cycloadditions/unrestricted_cycloadd_oniom/o4_uHF_STO-3G_UB3LYP_631Gd_4_4_cent_carbonyl_stable_high_model.com\" target = \"_blank\">com</a></td><td><input type=\"button\" value=\"Smart Log\" id=\"o4_uHF_STO-3G_UB3LYP_631Gd_4_4_cent_carbonyl_stable_high_model\" onclick=\"IPython.cc_notebook.view_function(event, this.id)\" /></td><td>Success</td></tr><tr><td>o_sanity_UB3LYP_631Gd_4_4_cent_carbonyl_stable_high_model</td><td><a href = \"files/graphene_cycloadditions/unrestricted_cycloadd_oniom/o_sanity_UB3LYP_631Gd_4_4_cent_carbonyl_stable_high_model.com\" target = \"_blank\">com</a></td><td><input type=\"button\" value=\"Smart Log\" id=\"o_sanity_UB3LYP_631Gd_4_4_cent_carbonyl_stable_high_model\" onclick=\"IPython.cc_notebook.view_function(event, this.id)\" /></td><td>Success</td></tr><tr><td>o0_uam1_UB3LYP_631Gd_4_4_graphene_stable_low_model</td><td><a href = \"files/graphene_cycloadditions/unrestricted_cycloadd_oniom/o0_uam1_UB3LYP_631Gd_4_4_graphene_stable_low_model.com\" target = \"_blank\">com</a></td><td><input type=\"button\" value=\"Smart Log\" id=\"o0_uam1_UB3LYP_631Gd_4_4_graphene_stable_low_model\" onclick=\"IPython.cc_notebook.view_function(event, this.id)\" /></td><td>Success</td></tr><tr><td>o0_upm6_UB3LYP_631Gd_4_4_graphene_stable_low_model</td><td><a href = \"files/graphene_cycloadditions/unrestricted_cycloadd_oniom/o0_upm6_UB3LYP_631Gd_4_4_graphene_stable_low_model.com\" target = \"_blank\">com</a></td><td><input type=\"button\" value=\"Smart Log\" id=\"o0_upm6_UB3LYP_631Gd_4_4_graphene_stable_low_model\" onclick=\"IPython.cc_notebook.view_function(event, this.id)\" /></td><td>Success</td></tr><tr><td>o0_uHF_STO-3G_UB3LYP_631Gd_4_4_graphene_stable_low_model</td><td><a href = \"files/graphene_cycloadditions/unrestricted_cycloadd_oniom/o0_uHF_STO-3G_UB3LYP_631Gd_4_4_graphene_stable_low_model.com\" target = \"_blank\">com</a></td><td><input type=\"button\" value=\"Smart Log\" id=\"o0_uHF_STO-3G_UB3LYP_631Gd_4_4_graphene_stable_low_model\" onclick=\"IPython.cc_notebook.view_function(event, this.id)\" /></td><td>Success</td></tr><tr><td>o1_uam1_UB3LYP_631Gd_4_4_graphene_stable_low_model</td><td><a href = \"files/graphene_cycloadditions/unrestricted_cycloadd_oniom/o1_uam1_UB3LYP_631Gd_4_4_graphene_stable_low_model.com\" target = \"_blank\">com</a></td><td><input type=\"button\" value=\"Smart Log\" id=\"o1_uam1_UB3LYP_631Gd_4_4_graphene_stable_low_model\" onclick=\"IPython.cc_notebook.view_function(event, this.id)\" /></td><td>Success</td></tr><tr><td>o1_upm6_UB3LYP_631Gd_4_4_graphene_stable_low_model</td><td><a href = \"files/graphene_cycloadditions/unrestricted_cycloadd_oniom/o1_upm6_UB3LYP_631Gd_4_4_graphene_stable_low_model.com\" target = \"_blank\">com</a></td><td><input type=\"button\" value=\"Smart Log\" id=\"o1_upm6_UB3LYP_631Gd_4_4_graphene_stable_low_model\" onclick=\"IPython.cc_notebook.view_function(event, this.id)\" /></td><td>Success</td></tr><tr><td>o1_uHF_STO-3G_UB3LYP_631Gd_4_4_graphene_stable_low_model</td><td><a href = \"files/graphene_cycloadditions/unrestricted_cycloadd_oniom/o1_uHF_STO-3G_UB3LYP_631Gd_4_4_graphene_stable_low_model.com\" target = \"_blank\">com</a></td><td><input type=\"button\" value=\"Smart Log\" id=\"o1_uHF_STO-3G_UB3LYP_631Gd_4_4_graphene_stable_low_model\" onclick=\"IPython.cc_notebook.view_function(event, this.id)\" /></td><td>Success</td></tr><tr><td>o2_uam1_UB3LYP_631Gd_4_4_graphene_stable_low_model</td><td><a href = \"files/graphene_cycloadditions/unrestricted_cycloadd_oniom/o2_uam1_UB3LYP_631Gd_4_4_graphene_stable_low_model.com\" target = \"_blank\">com</a></td><td><input type=\"button\" value=\"Smart Log\" id=\"o2_uam1_UB3LYP_631Gd_4_4_graphene_stable_low_model\" onclick=\"IPython.cc_notebook.view_function(event, this.id)\" /></td><td>Success</td></tr><tr><td>o2_upm6_UB3LYP_631Gd_4_4_graphene_stable_low_model</td><td><a href = \"files/graphene_cycloadditions/unrestricted_cycloadd_oniom/o2_upm6_UB3LYP_631Gd_4_4_graphene_stable_low_model.com\" target = \"_blank\">com</a></td><td><input type=\"button\" value=\"Smart Log\" id=\"o2_upm6_UB3LYP_631Gd_4_4_graphene_stable_low_model\" onclick=\"IPython.cc_notebook.view_function(event, this.id)\" /></td><td>Success</td></tr><tr><td>o2_uHF_STO-3G_UB3LYP_631Gd_4_4_graphene_stable_low_model</td><td><a href = \"files/graphene_cycloadditions/unrestricted_cycloadd_oniom/o2_uHF_STO-3G_UB3LYP_631Gd_4_4_graphene_stable_low_model.com\" target = \"_blank\">com</a></td><td><input type=\"button\" value=\"Smart Log\" id=\"o2_uHF_STO-3G_UB3LYP_631Gd_4_4_graphene_stable_low_model\" onclick=\"IPython.cc_notebook.view_function(event, this.id)\" /></td><td>Success</td></tr><tr><td>o3_uam1_UB3LYP_631Gd_4_4_graphene_stable_low_model</td><td><a href = \"files/graphene_cycloadditions/unrestricted_cycloadd_oniom/o3_uam1_UB3LYP_631Gd_4_4_graphene_stable_low_model.com\" target = \"_blank\">com</a></td><td><input type=\"button\" value=\"Smart Log\" id=\"o3_uam1_UB3LYP_631Gd_4_4_graphene_stable_low_model\" onclick=\"IPython.cc_notebook.view_function(event, this.id)\" /></td><td>Success</td></tr><tr><td>o3_upm6_UB3LYP_631Gd_4_4_graphene_stable_low_model</td><td><a href = \"files/graphene_cycloadditions/unrestricted_cycloadd_oniom/o3_upm6_UB3LYP_631Gd_4_4_graphene_stable_low_model.com\" target = \"_blank\">com</a></td><td><input type=\"button\" value=\"Smart Log\" id=\"o3_upm6_UB3LYP_631Gd_4_4_graphene_stable_low_model\" onclick=\"IPython.cc_notebook.view_function(event, this.id)\" /></td><td>Success</td></tr><tr><td>o3_uHF_STO-3G_UB3LYP_631Gd_4_4_graphene_stable_low_model</td><td><a href = \"files/graphene_cycloadditions/unrestricted_cycloadd_oniom/o3_uHF_STO-3G_UB3LYP_631Gd_4_4_graphene_stable_low_model.com\" target = \"_blank\">com</a></td><td><input type=\"button\" value=\"Smart Log\" id=\"o3_uHF_STO-3G_UB3LYP_631Gd_4_4_graphene_stable_low_model\" onclick=\"IPython.cc_notebook.view_function(event, this.id)\" /></td><td>Success</td></tr><tr><td>o4_uam1_UB3LYP_631Gd_4_4_graphene_stable_low_model</td><td><a href = \"files/graphene_cycloadditions/unrestricted_cycloadd_oniom/o4_uam1_UB3LYP_631Gd_4_4_graphene_stable_low_model.com\" target = \"_blank\">com</a></td><td><input type=\"button\" value=\"Smart Log\" id=\"o4_uam1_UB3LYP_631Gd_4_4_graphene_stable_low_model\" onclick=\"IPython.cc_notebook.view_function(event, this.id)\" /></td><td>Success</td></tr><tr><td>o4_upm6_UB3LYP_631Gd_4_4_graphene_stable_low_model</td><td><a href = \"files/graphene_cycloadditions/unrestricted_cycloadd_oniom/o4_upm6_UB3LYP_631Gd_4_4_graphene_stable_low_model.com\" target = \"_blank\">com</a></td><td><input type=\"button\" value=\"Smart Log\" id=\"o4_upm6_UB3LYP_631Gd_4_4_graphene_stable_low_model\" onclick=\"IPython.cc_notebook.view_function(event, this.id)\" /></td><td>Success</td></tr><tr><td>o4_uHF_STO-3G_UB3LYP_631Gd_4_4_graphene_stable_low_model</td><td><a href = \"files/graphene_cycloadditions/unrestricted_cycloadd_oniom/o4_uHF_STO-3G_UB3LYP_631Gd_4_4_graphene_stable_low_model.com\" target = \"_blank\">com</a></td><td><input type=\"button\" value=\"Smart Log\" id=\"o4_uHF_STO-3G_UB3LYP_631Gd_4_4_graphene_stable_low_model\" onclick=\"IPython.cc_notebook.view_function(event, this.id)\" /></td><td>Success</td></tr><tr><td>o_sanity_UB3LYP_631Gd_4_4_graphene_stable_low_model</td><td><a href = \"files/graphene_cycloadditions/unrestricted_cycloadd_oniom/o_sanity_UB3LYP_631Gd_4_4_graphene_stable_low_model.com\" target = \"_blank\">com</a></td><td><input type=\"button\" value=\"Smart Log\" id=\"o_sanity_UB3LYP_631Gd_4_4_graphene_stable_low_model\" onclick=\"IPython.cc_notebook.view_function(event, this.id)\" /></td><td>Error: TCursr= 1046 LCursr=   43</td></tr><tr><td>o0_uam1_UB3LYP_631Gd_4_4_cent_carbonyl_stable_low_model</td><td><a href = \"files/graphene_cycloadditions/unrestricted_cycloadd_oniom/o0_uam1_UB3LYP_631Gd_4_4_cent_carbonyl_stable_low_model.com\" target = \"_blank\">com</a></td><td><input type=\"button\" value=\"Smart Log\" id=\"o0_uam1_UB3LYP_631Gd_4_4_cent_carbonyl_stable_low_model\" onclick=\"IPython.cc_notebook.view_function(event, this.id)\" /></td><td>Success</td></tr><tr><td>o0_upm6_UB3LYP_631Gd_4_4_cent_carbonyl_stable_low_model</td><td><a href = \"files/graphene_cycloadditions/unrestricted_cycloadd_oniom/o0_upm6_UB3LYP_631Gd_4_4_cent_carbonyl_stable_low_model.com\" target = \"_blank\">com</a></td><td><input type=\"button\" value=\"Smart Log\" id=\"o0_upm6_UB3LYP_631Gd_4_4_cent_carbonyl_stable_low_model\" onclick=\"IPython.cc_notebook.view_function(event, this.id)\" /></td><td>Success</td></tr><tr><td>o0_uHF_STO-3G_UB3LYP_631Gd_4_4_cent_carbonyl_stable_low_model</td><td><a href = \"files/graphene_cycloadditions/unrestricted_cycloadd_oniom/o0_uHF_STO-3G_UB3LYP_631Gd_4_4_cent_carbonyl_stable_low_model.com\" target = \"_blank\">com</a></td><td><input type=\"button\" value=\"Smart Log\" id=\"o0_uHF_STO-3G_UB3LYP_631Gd_4_4_cent_carbonyl_stable_low_model\" onclick=\"IPython.cc_notebook.view_function(event, this.id)\" /></td><td>Success</td></tr><tr><td>o1_uam1_UB3LYP_631Gd_4_4_cent_carbonyl_stable_low_model</td><td><a href = \"files/graphene_cycloadditions/unrestricted_cycloadd_oniom/o1_uam1_UB3LYP_631Gd_4_4_cent_carbonyl_stable_low_model.com\" target = \"_blank\">com</a></td><td><input type=\"button\" value=\"Smart Log\" id=\"o1_uam1_UB3LYP_631Gd_4_4_cent_carbonyl_stable_low_model\" onclick=\"IPython.cc_notebook.view_function(event, this.id)\" /></td><td>Success</td></tr><tr><td>o1_upm6_UB3LYP_631Gd_4_4_cent_carbonyl_stable_low_model</td><td><a href = \"files/graphene_cycloadditions/unrestricted_cycloadd_oniom/o1_upm6_UB3LYP_631Gd_4_4_cent_carbonyl_stable_low_model.com\" target = \"_blank\">com</a></td><td><input type=\"button\" value=\"Smart Log\" id=\"o1_upm6_UB3LYP_631Gd_4_4_cent_carbonyl_stable_low_model\" onclick=\"IPython.cc_notebook.view_function(event, this.id)\" /></td><td>Success</td></tr><tr><td>o1_uHF_STO-3G_UB3LYP_631Gd_4_4_cent_carbonyl_stable_low_model</td><td><a href = \"files/graphene_cycloadditions/unrestricted_cycloadd_oniom/o1_uHF_STO-3G_UB3LYP_631Gd_4_4_cent_carbonyl_stable_low_model.com\" target = \"_blank\">com</a></td><td><input type=\"button\" value=\"Smart Log\" id=\"o1_uHF_STO-3G_UB3LYP_631Gd_4_4_cent_carbonyl_stable_low_model\" onclick=\"IPython.cc_notebook.view_function(event, this.id)\" /></td><td>Success</td></tr><tr><td>o2_uam1_UB3LYP_631Gd_4_4_cent_carbonyl_stable_low_model</td><td><a href = \"files/graphene_cycloadditions/unrestricted_cycloadd_oniom/o2_uam1_UB3LYP_631Gd_4_4_cent_carbonyl_stable_low_model.com\" target = \"_blank\">com</a></td><td><input type=\"button\" value=\"Smart Log\" id=\"o2_uam1_UB3LYP_631Gd_4_4_cent_carbonyl_stable_low_model\" onclick=\"IPython.cc_notebook.view_function(event, this.id)\" /></td><td>Success</td></tr><tr><td>o2_upm6_UB3LYP_631Gd_4_4_cent_carbonyl_stable_low_model</td><td><a href = \"files/graphene_cycloadditions/unrestricted_cycloadd_oniom/o2_upm6_UB3LYP_631Gd_4_4_cent_carbonyl_stable_low_model.com\" target = \"_blank\">com</a></td><td><input type=\"button\" value=\"Smart Log\" id=\"o2_upm6_UB3LYP_631Gd_4_4_cent_carbonyl_stable_low_model\" onclick=\"IPython.cc_notebook.view_function(event, this.id)\" /></td><td>Success</td></tr><tr><td>o2_uHF_STO-3G_UB3LYP_631Gd_4_4_cent_carbonyl_stable_low_model</td><td><a href = \"files/graphene_cycloadditions/unrestricted_cycloadd_oniom/o2_uHF_STO-3G_UB3LYP_631Gd_4_4_cent_carbonyl_stable_low_model.com\" target = \"_blank\">com</a></td><td><input type=\"button\" value=\"Smart Log\" id=\"o2_uHF_STO-3G_UB3LYP_631Gd_4_4_cent_carbonyl_stable_low_model\" onclick=\"IPython.cc_notebook.view_function(event, this.id)\" /></td><td>Success</td></tr><tr><td>o3_uam1_UB3LYP_631Gd_4_4_cent_carbonyl_stable_low_model</td><td><a href = \"files/graphene_cycloadditions/unrestricted_cycloadd_oniom/o3_uam1_UB3LYP_631Gd_4_4_cent_carbonyl_stable_low_model.com\" target = \"_blank\">com</a></td><td><input type=\"button\" value=\"Smart Log\" id=\"o3_uam1_UB3LYP_631Gd_4_4_cent_carbonyl_stable_low_model\" onclick=\"IPython.cc_notebook.view_function(event, this.id)\" /></td><td>Success</td></tr><tr><td>o3_upm6_UB3LYP_631Gd_4_4_cent_carbonyl_stable_low_model</td><td><a href = \"files/graphene_cycloadditions/unrestricted_cycloadd_oniom/o3_upm6_UB3LYP_631Gd_4_4_cent_carbonyl_stable_low_model.com\" target = \"_blank\">com</a></td><td><input type=\"button\" value=\"Smart Log\" id=\"o3_upm6_UB3LYP_631Gd_4_4_cent_carbonyl_stable_low_model\" onclick=\"IPython.cc_notebook.view_function(event, this.id)\" /></td><td>Success</td></tr><tr><td>o3_uHF_STO-3G_UB3LYP_631Gd_4_4_cent_carbonyl_stable_low_model</td><td><a href = \"files/graphene_cycloadditions/unrestricted_cycloadd_oniom/o3_uHF_STO-3G_UB3LYP_631Gd_4_4_cent_carbonyl_stable_low_model.com\" target = \"_blank\">com</a></td><td><input type=\"button\" value=\"Smart Log\" id=\"o3_uHF_STO-3G_UB3LYP_631Gd_4_4_cent_carbonyl_stable_low_model\" onclick=\"IPython.cc_notebook.view_function(event, this.id)\" /></td><td>Success</td></tr><tr><td>o4_uam1_UB3LYP_631Gd_4_4_cent_carbonyl_stable_low_model</td><td><a href = \"files/graphene_cycloadditions/unrestricted_cycloadd_oniom/o4_uam1_UB3LYP_631Gd_4_4_cent_carbonyl_stable_low_model.com\" target = \"_blank\">com</a></td><td><input type=\"button\" value=\"Smart Log\" id=\"o4_uam1_UB3LYP_631Gd_4_4_cent_carbonyl_stable_low_model\" onclick=\"IPython.cc_notebook.view_function(event, this.id)\" /></td><td>Success</td></tr><tr><td>o4_upm6_UB3LYP_631Gd_4_4_cent_carbonyl_stable_low_model</td><td><a href = \"files/graphene_cycloadditions/unrestricted_cycloadd_oniom/o4_upm6_UB3LYP_631Gd_4_4_cent_carbonyl_stable_low_model.com\" target = \"_blank\">com</a></td><td><input type=\"button\" value=\"Smart Log\" id=\"o4_upm6_UB3LYP_631Gd_4_4_cent_carbonyl_stable_low_model\" onclick=\"IPython.cc_notebook.view_function(event, this.id)\" /></td><td>Success</td></tr><tr><td>o4_uHF_STO-3G_UB3LYP_631Gd_4_4_cent_carbonyl_stable_low_model</td><td><a href = \"files/graphene_cycloadditions/unrestricted_cycloadd_oniom/o4_uHF_STO-3G_UB3LYP_631Gd_4_4_cent_carbonyl_stable_low_model.com\" target = \"_blank\">com</a></td><td><input type=\"button\" value=\"Smart Log\" id=\"o4_uHF_STO-3G_UB3LYP_631Gd_4_4_cent_carbonyl_stable_low_model\" onclick=\"IPython.cc_notebook.view_function(event, this.id)\" /></td><td>Success</td></tr><tr><td>o_sanity_UB3LYP_631Gd_4_4_cent_carbonyl_stable_low_model</td><td><a href = \"files/graphene_cycloadditions/unrestricted_cycloadd_oniom/o_sanity_UB3LYP_631Gd_4_4_cent_carbonyl_stable_low_model.com\" target = \"_blank\">com</a></td><td><input type=\"button\" value=\"Smart Log\" id=\"o_sanity_UB3LYP_631Gd_4_4_cent_carbonyl_stable_low_model\" onclick=\"IPython.cc_notebook.view_function(event, this.id)\" /></td><td>Error: TCursr= 1046 LCursr=   43</td></tr>\n",
        "    </table>\n",
        "    </body>"
       ],
       "metadata": {},
       "output_type": "pyout",
       "prompt_number": 13,
       "text": [
        "<IPython.core.display.HTML at 0x7f12f5c74d90>"
       ]
      }
     ],
     "prompt_number": 13
    },
    {
     "cell_type": "markdown",
     "metadata": {},
     "source": [
      "Bug in the oniom =InputOnly command if low method ends in a bracket e.g. the sanity calculation where method='oniom(B3LYP/6-31G(d):B3LYP/6-31G(d<font color=red size=5>)</font>)': Produces: 'UB3LYP/6-31G(D stable=opt Geom=Connect' for the new input file. I.e. capitalizes the d but does not close the bracket."
     ]
    },
    {
     "cell_type": "raw",
     "metadata": {},
     "source": [
      "Carbonyl\n",
      "Low real:  Internal instability\n",
      "o0 models: Stable\n",
      "o1 models: B3LYP: Stable,     HF, am1, pm6: Internal instability\n",
      "o2 models: B3LYP: Stable,     HF, am1, pm6: Internal instability\n",
      "o3 models: Internal instability\n",
      "o4 models: Internal instability    "
     ]
    },
    {
     "cell_type": "raw",
     "metadata": {},
     "source": [
      "Graphene\n",
      "Low real:  Internal instability\n",
      "o0 models: B3LYP,PM6: Stable, AM1,HF: Internal Instability\n",
      "o1 models: B3LYP: Stable, AM1,PM6,HF: Internal Instability\n",
      "o2 models: B3LYP: Stable, AM1,PM6,HF: Internal Instability\n",
      "o3 models: Internal Instability\n",
      "o4 models: B3LYP:Stable, AM1,PM6,HF: Internal Instability"
     ]
    },
    {
     "cell_type": "code",
     "collapsed": false,
     "input": [
      "ul_rls = [e if e.calc.status=='Success' else None for e in ul_rls]\n",
      "uh_mds = [e if e.calc.status=='Success' else None for e in uh_mds]\n",
      "ul_mss = [e if e.calc.status=='Success' else None for e in ul_mds]"
     ],
     "language": "python",
     "metadata": {},
     "outputs": [],
     "prompt_number": 14
    },
    {
     "cell_type": "code",
     "collapsed": false,
     "input": [
      "for i, c in enumerate(o_44 + o_44_carb):\n",
      "    c.calc.restart(remove_label='stable', method=c.calc.method.replace('=InputFilesOnly', ''), component_calcs = zip(ul_rls, uh_mds, ul_mds)[i])\n",
      "    c.calc.set_job(nodes=8, memory = 8*1400, time=5, queue='pqmb')\n",
      "    #c.calc.start()"
     ],
     "language": "python",
     "metadata": {},
     "outputs": [],
     "prompt_number": 15
    },
    {
     "cell_type": "code",
     "collapsed": false,
     "input": [
      "check_calcs(o_44+ o_44_carb)"
     ],
     "language": "python",
     "metadata": {},
     "outputs": [
      {
       "metadata": {},
       "output_type": "pyout",
       "prompt_number": 16,
       "text": [
        "[Atoms(symbols='C48H18', positions=..., cell=[1.0, 1.0, 1.0], pbc=[False, False, False], calculator=Gaussian(...)),\n",
        " Atoms(symbols='C50H22O', positions=..., cell=[1.0, 1.0, 1.0], pbc=[False, False, False], calculator=Gaussian(...))]"
       ]
      }
     ],
     "prompt_number": 16
    },
    {
     "cell_type": "markdown",
     "metadata": {},
     "source": [
      "Try multiplicity 3"
     ]
    },
    {
     "cell_type": "code",
     "collapsed": false,
     "input": [
      "o_44_carb_m3 = []\n",
      "o_44_m3 = []\n",
      "\n",
      "for siz in range(5):\n",
      "    for meth in l_methods:\n",
      "        graph_ylid = read(carb_44_xyz)\n",
      "        graph_ylid_name = 'o{s}_{m}_UB3LYP_631Gd_4_4_cent_carbonyl_mult_3'.format(m=meth.replace('/', '_'), s=siz)\n",
      "        graph_ylid.set_calculator(Gaussian(label=graph_ylid_name, method='oniom(UB3LYP/6-31G(d):{l})'.format(l=meth), basis='oniom'))\n",
      "        graph_ylid_H = ylide_atoms + graph_atoms[siz]\n",
      "        graph_ylid.calc.oniom_coord_params['layers'] = [[no -1 for no in graph_ylid_H]]\n",
      "        graph_ylid.calc.oniom_coord_params['layer_mults'] = [3,3]\n",
      "        graph_ylid.calc.set_job(nodes=8, memory=8*1400, time=5, queue='pqchem')\n",
      "        \n",
      "        graph = read(graph_44_xyz)\n",
      "        graph_name = 'o{s}_{m}_UB3LYP_631Gd_4_4_graphene_mult_3'.format(m=meth.replace('/', '_'), s=siz)\n",
      "        graph.set_calculator(Gaussian(label=graph_name, method='oniom(UB3LYP/6-31G(d):{l})'.format(l=meth), basis='oniom'))\n",
      "        graph_H = graph_atoms[siz]\n",
      "        graph.calc.oniom_coord_params['layers'] = [[no -1 for no in graph_H]]\n",
      "        graph.calc.oniom_coord_params['layer_mults'] = [3,3]\n",
      "        graph.calc.set_job(nodes=8, memory=8*1400, time=5, queue='pqchem')\n",
      "        \n",
      "        #graph_ylid.calc.start()\n",
      "        #graph.calc.start()\n",
      "        o_44_carb_m3.append(graph_ylid)\n",
      "        o_44_m3.append(graph)"
     ],
     "language": "python",
     "metadata": {},
     "outputs": [],
     "prompt_number": 17
    },
    {
     "cell_type": "code",
     "collapsed": false,
     "input": [
      "#sanity check\n",
      "graph_ylid = read(carb_44_xyz)\n",
      "graph_ylid_name = 'o_sanity_UB3LYP_631Gd_4_4_cent_carbonyl'\n",
      "graph_ylid.set_calculator(Gaussian(label=graph_ylid_name, method='oniom(UB3LYP/6-31G(d):UB3LYP/6-31G(d))', basis='oniom'))\n",
      "graph_ylid_H = ylide_atoms + graph_atoms[0]\n",
      "graph_ylid.calc.oniom_coord_params['layers'] = [[no -1 for no in graph_ylid_H]]\n",
      "graph_ylid.calc.oniom_coord_params['layer_mults'] = [3,3]\n",
      "graph_ylid.calc.set_job(nodes=8, memory=8*1400, time=5, queue='pqchem')\n",
      "        \n",
      "graph = read(graph_44_xyz)\n",
      "graph_name = 'o_sanity_UB3LYP_631Gd_4_4_graphene'\n",
      "graph.set_calculator(Gaussian(label=graph_name, method='oniom(UB3LYP/6-31G(d):UB3LYP/6-31G(d))', basis='oniom'))\n",
      "graph_H = graph_atoms[0]\n",
      "graph.calc.oniom_coord_params['layers'] = [[no -1 for no in graph_H]]\n",
      "graph.calc.oniom_coord_params['layer_mults'] = [3,3]\n",
      "graph.calc.set_job(nodes=8, memory=8*1400, time=5, queue='pqchem')\n",
      "        \n",
      "#graph_ylid.calc.start()\n",
      "#graph.calc.start()\n",
      "o_44_carb_m3.append(graph_ylid)\n",
      "o_44_m3.append(graph)"
     ],
     "language": "python",
     "metadata": {},
     "outputs": [],
     "prompt_number": 18
    },
    {
     "cell_type": "code",
     "collapsed": false,
     "input": [
      "check_calcs(o_44_m3 + o_44_carb_m3)"
     ],
     "language": "python",
     "metadata": {},
     "outputs": [
      {
       "metadata": {},
       "output_type": "pyout",
       "prompt_number": 19,
       "text": [
        "'Calculations complete'"
       ]
      }
     ],
     "prompt_number": 19
    },
    {
     "cell_type": "markdown",
     "metadata": {},
     "source": [
      "Check stability:"
     ]
    },
    {
     "cell_type": "code",
     "collapsed": false,
     "input": [
      "o_44_carb_m3_stable, o_44_m3_stable = copy.deepcopy(o_44_carb_m3), copy.deepcopy(o_44_m3)\n",
      "for m in o_44_carb_m3_stable + o_44_m3_stable:\n",
      "    m.calc.restart(add_label='stable_gen', method= m.calc.method + '=OnlyInputFiles')\n",
      "    m.calc.set_job(nodes=1, memory=400, time=1, queue='pqmb')\n",
      "    #m.calc.start()\n",
      "check_calcs(o_44_carb_m3_stable + o_44_m3_stable) \n",
      "l_rls, h_mds, l_mds = oniom_utils.oniom_comp_calcs(o_44_carb_m3_stable + o_44_m3_stable)\n",
      "for c in l_rls + h_mds + l_mds:\n",
      "    c.calc.set_job(nodes=8, memory=8*1400, time=5, queue='pqmb')\n",
      "    #c.calc.start()   \n",
      "check_calcs(l_rls + h_mds + l_mds) \n",
      "mols_to_html(l_rls + h_mds + l_mds)"
     ],
     "language": "python",
     "metadata": {},
     "outputs": [
      {
       "html": [
        "\n",
        "    <style>\n",
        "    table\n",
        "    {\n",
        "        border-collapse:collapse;\n",
        "    }\n",
        "    td\n",
        "    {\n",
        "        padding:15px;\n",
        "    }\n",
        "    </style>\n",
        "    <body>\n",
        "    <table bgcolor=\"white\">\n",
        "    <col/><tr><td>o0_uam1_UB3LYP_631Gd_4_4_cent_carbonyl_mult_3_stable_gen_restart_1_low_real</td><td><a href = \"files/graphene_cycloadditions/unrestricted_cycloadd_oniom/o0_uam1_UB3LYP_631Gd_4_4_cent_carbonyl_mult_3_stable_gen_restart_1_low_real.com\" target = \"_blank\">com</a></td><td><input type=\"button\" value=\"Smart Log\" id=\"o0_uam1_UB3LYP_631Gd_4_4_cent_carbonyl_mult_3_stable_gen_restart_1_low_real\" onclick=\"IPython.cc_notebook.view_function(event, this.id)\" /></td><td>Success</td></tr><tr><td>o0_upm6_UB3LYP_631Gd_4_4_cent_carbonyl_mult_3_stable_gen_restart_1_low_real</td><td><a href = \"files/graphene_cycloadditions/unrestricted_cycloadd_oniom/o0_upm6_UB3LYP_631Gd_4_4_cent_carbonyl_mult_3_stable_gen_restart_1_low_real.com\" target = \"_blank\">com</a></td><td><input type=\"button\" value=\"Smart Log\" id=\"o0_upm6_UB3LYP_631Gd_4_4_cent_carbonyl_mult_3_stable_gen_restart_1_low_real\" onclick=\"IPython.cc_notebook.view_function(event, this.id)\" /></td><td>Success</td></tr><tr><td>o0_uHF_STO-3G_UB3LYP_631Gd_4_4_cent_carbonyl_mult_3_stable_gen_restart_1_low_real</td><td><a href = \"files/graphene_cycloadditions/unrestricted_cycloadd_oniom/o0_uHF_STO-3G_UB3LYP_631Gd_4_4_cent_carbonyl_mult_3_stable_gen_restart_1_low_real.com\" target = \"_blank\">com</a></td><td><input type=\"button\" value=\"Smart Log\" id=\"o0_uHF_STO-3G_UB3LYP_631Gd_4_4_cent_carbonyl_mult_3_stable_gen_restart_1_low_real\" onclick=\"IPython.cc_notebook.view_function(event, this.id)\" /></td><td>Success</td></tr><tr><td>o1_uam1_UB3LYP_631Gd_4_4_cent_carbonyl_mult_3_stable_gen_restart_1_low_real</td><td><a href = \"files/graphene_cycloadditions/unrestricted_cycloadd_oniom/o1_uam1_UB3LYP_631Gd_4_4_cent_carbonyl_mult_3_stable_gen_restart_1_low_real.com\" target = \"_blank\">com</a></td><td><input type=\"button\" value=\"Smart Log\" id=\"o1_uam1_UB3LYP_631Gd_4_4_cent_carbonyl_mult_3_stable_gen_restart_1_low_real\" onclick=\"IPython.cc_notebook.view_function(event, this.id)\" /></td><td>Success</td></tr><tr><td>o1_upm6_UB3LYP_631Gd_4_4_cent_carbonyl_mult_3_stable_gen_restart_1_low_real</td><td><a href = \"files/graphene_cycloadditions/unrestricted_cycloadd_oniom/o1_upm6_UB3LYP_631Gd_4_4_cent_carbonyl_mult_3_stable_gen_restart_1_low_real.com\" target = \"_blank\">com</a></td><td><input type=\"button\" value=\"Smart Log\" id=\"o1_upm6_UB3LYP_631Gd_4_4_cent_carbonyl_mult_3_stable_gen_restart_1_low_real\" onclick=\"IPython.cc_notebook.view_function(event, this.id)\" /></td><td>Success</td></tr><tr><td>o1_uHF_STO-3G_UB3LYP_631Gd_4_4_cent_carbonyl_mult_3_stable_gen_restart_1_low_real</td><td><a href = \"files/graphene_cycloadditions/unrestricted_cycloadd_oniom/o1_uHF_STO-3G_UB3LYP_631Gd_4_4_cent_carbonyl_mult_3_stable_gen_restart_1_low_real.com\" target = \"_blank\">com</a></td><td><input type=\"button\" value=\"Smart Log\" id=\"o1_uHF_STO-3G_UB3LYP_631Gd_4_4_cent_carbonyl_mult_3_stable_gen_restart_1_low_real\" onclick=\"IPython.cc_notebook.view_function(event, this.id)\" /></td><td>Success</td></tr><tr><td>o2_uam1_UB3LYP_631Gd_4_4_cent_carbonyl_mult_3_stable_gen_restart_1_low_real</td><td><a href = \"files/graphene_cycloadditions/unrestricted_cycloadd_oniom/o2_uam1_UB3LYP_631Gd_4_4_cent_carbonyl_mult_3_stable_gen_restart_1_low_real.com\" target = \"_blank\">com</a></td><td><input type=\"button\" value=\"Smart Log\" id=\"o2_uam1_UB3LYP_631Gd_4_4_cent_carbonyl_mult_3_stable_gen_restart_1_low_real\" onclick=\"IPython.cc_notebook.view_function(event, this.id)\" /></td><td>Success</td></tr><tr><td>o2_upm6_UB3LYP_631Gd_4_4_cent_carbonyl_mult_3_stable_gen_restart_1_low_real</td><td><a href = \"files/graphene_cycloadditions/unrestricted_cycloadd_oniom/o2_upm6_UB3LYP_631Gd_4_4_cent_carbonyl_mult_3_stable_gen_restart_1_low_real.com\" target = \"_blank\">com</a></td><td><input type=\"button\" value=\"Smart Log\" id=\"o2_upm6_UB3LYP_631Gd_4_4_cent_carbonyl_mult_3_stable_gen_restart_1_low_real\" onclick=\"IPython.cc_notebook.view_function(event, this.id)\" /></td><td>Success</td></tr><tr><td>o2_uHF_STO-3G_UB3LYP_631Gd_4_4_cent_carbonyl_mult_3_stable_gen_restart_1_low_real</td><td><a href = \"files/graphene_cycloadditions/unrestricted_cycloadd_oniom/o2_uHF_STO-3G_UB3LYP_631Gd_4_4_cent_carbonyl_mult_3_stable_gen_restart_1_low_real.com\" target = \"_blank\">com</a></td><td><input type=\"button\" value=\"Smart Log\" id=\"o2_uHF_STO-3G_UB3LYP_631Gd_4_4_cent_carbonyl_mult_3_stable_gen_restart_1_low_real\" onclick=\"IPython.cc_notebook.view_function(event, this.id)\" /></td><td>Success</td></tr><tr><td>o3_uam1_UB3LYP_631Gd_4_4_cent_carbonyl_mult_3_stable_gen_restart_1_low_real</td><td><a href = \"files/graphene_cycloadditions/unrestricted_cycloadd_oniom/o3_uam1_UB3LYP_631Gd_4_4_cent_carbonyl_mult_3_stable_gen_restart_1_low_real.com\" target = \"_blank\">com</a></td><td><input type=\"button\" value=\"Smart Log\" id=\"o3_uam1_UB3LYP_631Gd_4_4_cent_carbonyl_mult_3_stable_gen_restart_1_low_real\" onclick=\"IPython.cc_notebook.view_function(event, this.id)\" /></td><td>Success</td></tr><tr><td>o3_upm6_UB3LYP_631Gd_4_4_cent_carbonyl_mult_3_stable_gen_restart_1_low_real</td><td><a href = \"files/graphene_cycloadditions/unrestricted_cycloadd_oniom/o3_upm6_UB3LYP_631Gd_4_4_cent_carbonyl_mult_3_stable_gen_restart_1_low_real.com\" target = \"_blank\">com</a></td><td><input type=\"button\" value=\"Smart Log\" id=\"o3_upm6_UB3LYP_631Gd_4_4_cent_carbonyl_mult_3_stable_gen_restart_1_low_real\" onclick=\"IPython.cc_notebook.view_function(event, this.id)\" /></td><td>Success</td></tr><tr><td>o3_uHF_STO-3G_UB3LYP_631Gd_4_4_cent_carbonyl_mult_3_stable_gen_restart_1_low_real</td><td><a href = \"files/graphene_cycloadditions/unrestricted_cycloadd_oniom/o3_uHF_STO-3G_UB3LYP_631Gd_4_4_cent_carbonyl_mult_3_stable_gen_restart_1_low_real.com\" target = \"_blank\">com</a></td><td><input type=\"button\" value=\"Smart Log\" id=\"o3_uHF_STO-3G_UB3LYP_631Gd_4_4_cent_carbonyl_mult_3_stable_gen_restart_1_low_real\" onclick=\"IPython.cc_notebook.view_function(event, this.id)\" /></td><td>Success</td></tr><tr><td>o4_uam1_UB3LYP_631Gd_4_4_cent_carbonyl_mult_3_stable_gen_restart_1_low_real</td><td><a href = \"files/graphene_cycloadditions/unrestricted_cycloadd_oniom/o4_uam1_UB3LYP_631Gd_4_4_cent_carbonyl_mult_3_stable_gen_restart_1_low_real.com\" target = \"_blank\">com</a></td><td><input type=\"button\" value=\"Smart Log\" id=\"o4_uam1_UB3LYP_631Gd_4_4_cent_carbonyl_mult_3_stable_gen_restart_1_low_real\" onclick=\"IPython.cc_notebook.view_function(event, this.id)\" /></td><td>Success</td></tr><tr><td>o4_upm6_UB3LYP_631Gd_4_4_cent_carbonyl_mult_3_stable_gen_restart_1_low_real</td><td><a href = \"files/graphene_cycloadditions/unrestricted_cycloadd_oniom/o4_upm6_UB3LYP_631Gd_4_4_cent_carbonyl_mult_3_stable_gen_restart_1_low_real.com\" target = \"_blank\">com</a></td><td><input type=\"button\" value=\"Smart Log\" id=\"o4_upm6_UB3LYP_631Gd_4_4_cent_carbonyl_mult_3_stable_gen_restart_1_low_real\" onclick=\"IPython.cc_notebook.view_function(event, this.id)\" /></td><td>Success</td></tr><tr><td>o4_uHF_STO-3G_UB3LYP_631Gd_4_4_cent_carbonyl_mult_3_stable_gen_restart_1_low_real</td><td><a href = \"files/graphene_cycloadditions/unrestricted_cycloadd_oniom/o4_uHF_STO-3G_UB3LYP_631Gd_4_4_cent_carbonyl_mult_3_stable_gen_restart_1_low_real.com\" target = \"_blank\">com</a></td><td><input type=\"button\" value=\"Smart Log\" id=\"o4_uHF_STO-3G_UB3LYP_631Gd_4_4_cent_carbonyl_mult_3_stable_gen_restart_1_low_real\" onclick=\"IPython.cc_notebook.view_function(event, this.id)\" /></td><td>Success</td></tr><tr><td>o_sanity_UB3LYP_631Gd_4_4_cent_carbonyl_stable_gen_restart_1_low_real</td><td><a href = \"files/graphene_cycloadditions/unrestricted_cycloadd_oniom/o_sanity_UB3LYP_631Gd_4_4_cent_carbonyl_stable_gen_restart_1_low_real.com\" target = \"_blank\">com</a></td><td><input type=\"button\" value=\"Smart Log\" id=\"o_sanity_UB3LYP_631Gd_4_4_cent_carbonyl_stable_gen_restart_1_low_real\" onclick=\"IPython.cc_notebook.view_function(event, this.id)\" /></td><td>Error: TCursr= 1046 LCursr=   43</td></tr><tr><td>o0_uam1_UB3LYP_631Gd_4_4_graphene_mult_3_stable_gen_restart_1_low_real</td><td><a href = \"files/graphene_cycloadditions/unrestricted_cycloadd_oniom/o0_uam1_UB3LYP_631Gd_4_4_graphene_mult_3_stable_gen_restart_1_low_real.com\" target = \"_blank\">com</a></td><td><input type=\"button\" value=\"Smart Log\" id=\"o0_uam1_UB3LYP_631Gd_4_4_graphene_mult_3_stable_gen_restart_1_low_real\" onclick=\"IPython.cc_notebook.view_function(event, this.id)\" /></td><td>Success</td></tr><tr><td>o0_upm6_UB3LYP_631Gd_4_4_graphene_mult_3_stable_gen_restart_1_low_real</td><td><a href = \"files/graphene_cycloadditions/unrestricted_cycloadd_oniom/o0_upm6_UB3LYP_631Gd_4_4_graphene_mult_3_stable_gen_restart_1_low_real.com\" target = \"_blank\">com</a></td><td><input type=\"button\" value=\"Smart Log\" id=\"o0_upm6_UB3LYP_631Gd_4_4_graphene_mult_3_stable_gen_restart_1_low_real\" onclick=\"IPython.cc_notebook.view_function(event, this.id)\" /></td><td>Success</td></tr><tr><td>o0_uHF_STO-3G_UB3LYP_631Gd_4_4_graphene_mult_3_stable_gen_restart_1_low_real</td><td><a href = \"files/graphene_cycloadditions/unrestricted_cycloadd_oniom/o0_uHF_STO-3G_UB3LYP_631Gd_4_4_graphene_mult_3_stable_gen_restart_1_low_real.com\" target = \"_blank\">com</a></td><td><input type=\"button\" value=\"Smart Log\" id=\"o0_uHF_STO-3G_UB3LYP_631Gd_4_4_graphene_mult_3_stable_gen_restart_1_low_real\" onclick=\"IPython.cc_notebook.view_function(event, this.id)\" /></td><td>Success</td></tr><tr><td>o1_uam1_UB3LYP_631Gd_4_4_graphene_mult_3_stable_gen_restart_1_low_real</td><td><a href = \"files/graphene_cycloadditions/unrestricted_cycloadd_oniom/o1_uam1_UB3LYP_631Gd_4_4_graphene_mult_3_stable_gen_restart_1_low_real.com\" target = \"_blank\">com</a></td><td><input type=\"button\" value=\"Smart Log\" id=\"o1_uam1_UB3LYP_631Gd_4_4_graphene_mult_3_stable_gen_restart_1_low_real\" onclick=\"IPython.cc_notebook.view_function(event, this.id)\" /></td><td>Success</td></tr><tr><td>o1_upm6_UB3LYP_631Gd_4_4_graphene_mult_3_stable_gen_restart_1_low_real</td><td><a href = \"files/graphene_cycloadditions/unrestricted_cycloadd_oniom/o1_upm6_UB3LYP_631Gd_4_4_graphene_mult_3_stable_gen_restart_1_low_real.com\" target = \"_blank\">com</a></td><td><input type=\"button\" value=\"Smart Log\" id=\"o1_upm6_UB3LYP_631Gd_4_4_graphene_mult_3_stable_gen_restart_1_low_real\" onclick=\"IPython.cc_notebook.view_function(event, this.id)\" /></td><td>Success</td></tr><tr><td>o1_uHF_STO-3G_UB3LYP_631Gd_4_4_graphene_mult_3_stable_gen_restart_1_low_real</td><td><a href = \"files/graphene_cycloadditions/unrestricted_cycloadd_oniom/o1_uHF_STO-3G_UB3LYP_631Gd_4_4_graphene_mult_3_stable_gen_restart_1_low_real.com\" target = \"_blank\">com</a></td><td><input type=\"button\" value=\"Smart Log\" id=\"o1_uHF_STO-3G_UB3LYP_631Gd_4_4_graphene_mult_3_stable_gen_restart_1_low_real\" onclick=\"IPython.cc_notebook.view_function(event, this.id)\" /></td><td>Success</td></tr><tr><td>o2_uam1_UB3LYP_631Gd_4_4_graphene_mult_3_stable_gen_restart_1_low_real</td><td><a href = \"files/graphene_cycloadditions/unrestricted_cycloadd_oniom/o2_uam1_UB3LYP_631Gd_4_4_graphene_mult_3_stable_gen_restart_1_low_real.com\" target = \"_blank\">com</a></td><td><input type=\"button\" value=\"Smart Log\" id=\"o2_uam1_UB3LYP_631Gd_4_4_graphene_mult_3_stable_gen_restart_1_low_real\" onclick=\"IPython.cc_notebook.view_function(event, this.id)\" /></td><td>Success</td></tr><tr><td>o2_upm6_UB3LYP_631Gd_4_4_graphene_mult_3_stable_gen_restart_1_low_real</td><td><a href = \"files/graphene_cycloadditions/unrestricted_cycloadd_oniom/o2_upm6_UB3LYP_631Gd_4_4_graphene_mult_3_stable_gen_restart_1_low_real.com\" target = \"_blank\">com</a></td><td><input type=\"button\" value=\"Smart Log\" id=\"o2_upm6_UB3LYP_631Gd_4_4_graphene_mult_3_stable_gen_restart_1_low_real\" onclick=\"IPython.cc_notebook.view_function(event, this.id)\" /></td><td>Success</td></tr><tr><td>o2_uHF_STO-3G_UB3LYP_631Gd_4_4_graphene_mult_3_stable_gen_restart_1_low_real</td><td><a href = \"files/graphene_cycloadditions/unrestricted_cycloadd_oniom/o2_uHF_STO-3G_UB3LYP_631Gd_4_4_graphene_mult_3_stable_gen_restart_1_low_real.com\" target = \"_blank\">com</a></td><td><input type=\"button\" value=\"Smart Log\" id=\"o2_uHF_STO-3G_UB3LYP_631Gd_4_4_graphene_mult_3_stable_gen_restart_1_low_real\" onclick=\"IPython.cc_notebook.view_function(event, this.id)\" /></td><td>Success</td></tr><tr><td>o3_uam1_UB3LYP_631Gd_4_4_graphene_mult_3_stable_gen_restart_1_low_real</td><td><a href = \"files/graphene_cycloadditions/unrestricted_cycloadd_oniom/o3_uam1_UB3LYP_631Gd_4_4_graphene_mult_3_stable_gen_restart_1_low_real.com\" target = \"_blank\">com</a></td><td><input type=\"button\" value=\"Smart Log\" id=\"o3_uam1_UB3LYP_631Gd_4_4_graphene_mult_3_stable_gen_restart_1_low_real\" onclick=\"IPython.cc_notebook.view_function(event, this.id)\" /></td><td>Success</td></tr><tr><td>o3_upm6_UB3LYP_631Gd_4_4_graphene_mult_3_stable_gen_restart_1_low_real</td><td><a href = \"files/graphene_cycloadditions/unrestricted_cycloadd_oniom/o3_upm6_UB3LYP_631Gd_4_4_graphene_mult_3_stable_gen_restart_1_low_real.com\" target = \"_blank\">com</a></td><td><input type=\"button\" value=\"Smart Log\" id=\"o3_upm6_UB3LYP_631Gd_4_4_graphene_mult_3_stable_gen_restart_1_low_real\" onclick=\"IPython.cc_notebook.view_function(event, this.id)\" /></td><td>Success</td></tr><tr><td>o3_uHF_STO-3G_UB3LYP_631Gd_4_4_graphene_mult_3_stable_gen_restart_1_low_real</td><td><a href = \"files/graphene_cycloadditions/unrestricted_cycloadd_oniom/o3_uHF_STO-3G_UB3LYP_631Gd_4_4_graphene_mult_3_stable_gen_restart_1_low_real.com\" target = \"_blank\">com</a></td><td><input type=\"button\" value=\"Smart Log\" id=\"o3_uHF_STO-3G_UB3LYP_631Gd_4_4_graphene_mult_3_stable_gen_restart_1_low_real\" onclick=\"IPython.cc_notebook.view_function(event, this.id)\" /></td><td>Success</td></tr><tr><td>o4_uam1_UB3LYP_631Gd_4_4_graphene_mult_3_stable_gen_restart_1_low_real</td><td><a href = \"files/graphene_cycloadditions/unrestricted_cycloadd_oniom/o4_uam1_UB3LYP_631Gd_4_4_graphene_mult_3_stable_gen_restart_1_low_real.com\" target = \"_blank\">com</a></td><td><input type=\"button\" value=\"Smart Log\" id=\"o4_uam1_UB3LYP_631Gd_4_4_graphene_mult_3_stable_gen_restart_1_low_real\" onclick=\"IPython.cc_notebook.view_function(event, this.id)\" /></td><td>Success</td></tr><tr><td>o4_upm6_UB3LYP_631Gd_4_4_graphene_mult_3_stable_gen_restart_1_low_real</td><td><a href = \"files/graphene_cycloadditions/unrestricted_cycloadd_oniom/o4_upm6_UB3LYP_631Gd_4_4_graphene_mult_3_stable_gen_restart_1_low_real.com\" target = \"_blank\">com</a></td><td><input type=\"button\" value=\"Smart Log\" id=\"o4_upm6_UB3LYP_631Gd_4_4_graphene_mult_3_stable_gen_restart_1_low_real\" onclick=\"IPython.cc_notebook.view_function(event, this.id)\" /></td><td>Success</td></tr><tr><td>o4_uHF_STO-3G_UB3LYP_631Gd_4_4_graphene_mult_3_stable_gen_restart_1_low_real</td><td><a href = \"files/graphene_cycloadditions/unrestricted_cycloadd_oniom/o4_uHF_STO-3G_UB3LYP_631Gd_4_4_graphene_mult_3_stable_gen_restart_1_low_real.com\" target = \"_blank\">com</a></td><td><input type=\"button\" value=\"Smart Log\" id=\"o4_uHF_STO-3G_UB3LYP_631Gd_4_4_graphene_mult_3_stable_gen_restart_1_low_real\" onclick=\"IPython.cc_notebook.view_function(event, this.id)\" /></td><td>Success</td></tr><tr><td>o_sanity_UB3LYP_631Gd_4_4_graphene_stable_gen_restart_1_low_real</td><td><a href = \"files/graphene_cycloadditions/unrestricted_cycloadd_oniom/o_sanity_UB3LYP_631Gd_4_4_graphene_stable_gen_restart_1_low_real.com\" target = \"_blank\">com</a></td><td><input type=\"button\" value=\"Smart Log\" id=\"o_sanity_UB3LYP_631Gd_4_4_graphene_stable_gen_restart_1_low_real\" onclick=\"IPython.cc_notebook.view_function(event, this.id)\" /></td><td>Error: TCursr= 1046 LCursr=   43</td></tr><tr><td>o0_uam1_UB3LYP_631Gd_4_4_cent_carbonyl_mult_3_stable_gen_restart_1_high_model</td><td><a href = \"files/graphene_cycloadditions/unrestricted_cycloadd_oniom/o0_uam1_UB3LYP_631Gd_4_4_cent_carbonyl_mult_3_stable_gen_restart_1_high_model.com\" target = \"_blank\">com</a></td><td><input type=\"button\" value=\"Smart Log\" id=\"o0_uam1_UB3LYP_631Gd_4_4_cent_carbonyl_mult_3_stable_gen_restart_1_high_model\" onclick=\"IPython.cc_notebook.view_function(event, this.id)\" /></td><td>Success</td></tr><tr><td>o0_upm6_UB3LYP_631Gd_4_4_cent_carbonyl_mult_3_stable_gen_restart_1_high_model</td><td><a href = \"files/graphene_cycloadditions/unrestricted_cycloadd_oniom/o0_upm6_UB3LYP_631Gd_4_4_cent_carbonyl_mult_3_stable_gen_restart_1_high_model.com\" target = \"_blank\">com</a></td><td><input type=\"button\" value=\"Smart Log\" id=\"o0_upm6_UB3LYP_631Gd_4_4_cent_carbonyl_mult_3_stable_gen_restart_1_high_model\" onclick=\"IPython.cc_notebook.view_function(event, this.id)\" /></td><td>Success</td></tr><tr><td>o0_uHF_STO-3G_UB3LYP_631Gd_4_4_cent_carbonyl_mult_3_stable_gen_restart_1_high_model</td><td><a href = \"files/graphene_cycloadditions/unrestricted_cycloadd_oniom/o0_uHF_STO-3G_UB3LYP_631Gd_4_4_cent_carbonyl_mult_3_stable_gen_restart_1_high_model.com\" target = \"_blank\">com</a></td><td><input type=\"button\" value=\"Smart Log\" id=\"o0_uHF_STO-3G_UB3LYP_631Gd_4_4_cent_carbonyl_mult_3_stable_gen_restart_1_high_model\" onclick=\"IPython.cc_notebook.view_function(event, this.id)\" /></td><td>Success</td></tr><tr><td>o1_uam1_UB3LYP_631Gd_4_4_cent_carbonyl_mult_3_stable_gen_restart_1_high_model</td><td><a href = \"files/graphene_cycloadditions/unrestricted_cycloadd_oniom/o1_uam1_UB3LYP_631Gd_4_4_cent_carbonyl_mult_3_stable_gen_restart_1_high_model.com\" target = \"_blank\">com</a></td><td><input type=\"button\" value=\"Smart Log\" id=\"o1_uam1_UB3LYP_631Gd_4_4_cent_carbonyl_mult_3_stable_gen_restart_1_high_model\" onclick=\"IPython.cc_notebook.view_function(event, this.id)\" /></td><td>Success</td></tr><tr><td>o1_upm6_UB3LYP_631Gd_4_4_cent_carbonyl_mult_3_stable_gen_restart_1_high_model</td><td><a href = \"files/graphene_cycloadditions/unrestricted_cycloadd_oniom/o1_upm6_UB3LYP_631Gd_4_4_cent_carbonyl_mult_3_stable_gen_restart_1_high_model.com\" target = \"_blank\">com</a></td><td><input type=\"button\" value=\"Smart Log\" id=\"o1_upm6_UB3LYP_631Gd_4_4_cent_carbonyl_mult_3_stable_gen_restart_1_high_model\" onclick=\"IPython.cc_notebook.view_function(event, this.id)\" /></td><td>Success</td></tr><tr><td>o1_uHF_STO-3G_UB3LYP_631Gd_4_4_cent_carbonyl_mult_3_stable_gen_restart_1_high_model</td><td><a href = \"files/graphene_cycloadditions/unrestricted_cycloadd_oniom/o1_uHF_STO-3G_UB3LYP_631Gd_4_4_cent_carbonyl_mult_3_stable_gen_restart_1_high_model.com\" target = \"_blank\">com</a></td><td><input type=\"button\" value=\"Smart Log\" id=\"o1_uHF_STO-3G_UB3LYP_631Gd_4_4_cent_carbonyl_mult_3_stable_gen_restart_1_high_model\" onclick=\"IPython.cc_notebook.view_function(event, this.id)\" /></td><td>Success</td></tr><tr><td>o2_uam1_UB3LYP_631Gd_4_4_cent_carbonyl_mult_3_stable_gen_restart_1_high_model</td><td><a href = \"files/graphene_cycloadditions/unrestricted_cycloadd_oniom/o2_uam1_UB3LYP_631Gd_4_4_cent_carbonyl_mult_3_stable_gen_restart_1_high_model.com\" target = \"_blank\">com</a></td><td><input type=\"button\" value=\"Smart Log\" id=\"o2_uam1_UB3LYP_631Gd_4_4_cent_carbonyl_mult_3_stable_gen_restart_1_high_model\" onclick=\"IPython.cc_notebook.view_function(event, this.id)\" /></td><td>Success</td></tr><tr><td>o2_upm6_UB3LYP_631Gd_4_4_cent_carbonyl_mult_3_stable_gen_restart_1_high_model</td><td><a href = \"files/graphene_cycloadditions/unrestricted_cycloadd_oniom/o2_upm6_UB3LYP_631Gd_4_4_cent_carbonyl_mult_3_stable_gen_restart_1_high_model.com\" target = \"_blank\">com</a></td><td><input type=\"button\" value=\"Smart Log\" id=\"o2_upm6_UB3LYP_631Gd_4_4_cent_carbonyl_mult_3_stable_gen_restart_1_high_model\" onclick=\"IPython.cc_notebook.view_function(event, this.id)\" /></td><td>Success</td></tr><tr><td>o2_uHF_STO-3G_UB3LYP_631Gd_4_4_cent_carbonyl_mult_3_stable_gen_restart_1_high_model</td><td><a href = \"files/graphene_cycloadditions/unrestricted_cycloadd_oniom/o2_uHF_STO-3G_UB3LYP_631Gd_4_4_cent_carbonyl_mult_3_stable_gen_restart_1_high_model.com\" target = \"_blank\">com</a></td><td><input type=\"button\" value=\"Smart Log\" id=\"o2_uHF_STO-3G_UB3LYP_631Gd_4_4_cent_carbonyl_mult_3_stable_gen_restart_1_high_model\" onclick=\"IPython.cc_notebook.view_function(event, this.id)\" /></td><td>Success</td></tr><tr><td>o3_uam1_UB3LYP_631Gd_4_4_cent_carbonyl_mult_3_stable_gen_restart_1_high_model</td><td><a href = \"files/graphene_cycloadditions/unrestricted_cycloadd_oniom/o3_uam1_UB3LYP_631Gd_4_4_cent_carbonyl_mult_3_stable_gen_restart_1_high_model.com\" target = \"_blank\">com</a></td><td><input type=\"button\" value=\"Smart Log\" id=\"o3_uam1_UB3LYP_631Gd_4_4_cent_carbonyl_mult_3_stable_gen_restart_1_high_model\" onclick=\"IPython.cc_notebook.view_function(event, this.id)\" /></td><td>Success</td></tr><tr><td>o3_upm6_UB3LYP_631Gd_4_4_cent_carbonyl_mult_3_stable_gen_restart_1_high_model</td><td><a href = \"files/graphene_cycloadditions/unrestricted_cycloadd_oniom/o3_upm6_UB3LYP_631Gd_4_4_cent_carbonyl_mult_3_stable_gen_restart_1_high_model.com\" target = \"_blank\">com</a></td><td><input type=\"button\" value=\"Smart Log\" id=\"o3_upm6_UB3LYP_631Gd_4_4_cent_carbonyl_mult_3_stable_gen_restart_1_high_model\" onclick=\"IPython.cc_notebook.view_function(event, this.id)\" /></td><td>Success</td></tr><tr><td>o3_uHF_STO-3G_UB3LYP_631Gd_4_4_cent_carbonyl_mult_3_stable_gen_restart_1_high_model</td><td><a href = \"files/graphene_cycloadditions/unrestricted_cycloadd_oniom/o3_uHF_STO-3G_UB3LYP_631Gd_4_4_cent_carbonyl_mult_3_stable_gen_restart_1_high_model.com\" target = \"_blank\">com</a></td><td><input type=\"button\" value=\"Smart Log\" id=\"o3_uHF_STO-3G_UB3LYP_631Gd_4_4_cent_carbonyl_mult_3_stable_gen_restart_1_high_model\" onclick=\"IPython.cc_notebook.view_function(event, this.id)\" /></td><td>Success</td></tr><tr><td>o4_uam1_UB3LYP_631Gd_4_4_cent_carbonyl_mult_3_stable_gen_restart_1_high_model</td><td><a href = \"files/graphene_cycloadditions/unrestricted_cycloadd_oniom/o4_uam1_UB3LYP_631Gd_4_4_cent_carbonyl_mult_3_stable_gen_restart_1_high_model.com\" target = \"_blank\">com</a></td><td><input type=\"button\" value=\"Smart Log\" id=\"o4_uam1_UB3LYP_631Gd_4_4_cent_carbonyl_mult_3_stable_gen_restart_1_high_model\" onclick=\"IPython.cc_notebook.view_function(event, this.id)\" /></td><td>Success</td></tr><tr><td>o4_upm6_UB3LYP_631Gd_4_4_cent_carbonyl_mult_3_stable_gen_restart_1_high_model</td><td><a href = \"files/graphene_cycloadditions/unrestricted_cycloadd_oniom/o4_upm6_UB3LYP_631Gd_4_4_cent_carbonyl_mult_3_stable_gen_restart_1_high_model.com\" target = \"_blank\">com</a></td><td><input type=\"button\" value=\"Smart Log\" id=\"o4_upm6_UB3LYP_631Gd_4_4_cent_carbonyl_mult_3_stable_gen_restart_1_high_model\" onclick=\"IPython.cc_notebook.view_function(event, this.id)\" /></td><td>Success</td></tr><tr><td>o4_uHF_STO-3G_UB3LYP_631Gd_4_4_cent_carbonyl_mult_3_stable_gen_restart_1_high_model</td><td><a href = \"files/graphene_cycloadditions/unrestricted_cycloadd_oniom/o4_uHF_STO-3G_UB3LYP_631Gd_4_4_cent_carbonyl_mult_3_stable_gen_restart_1_high_model.com\" target = \"_blank\">com</a></td><td><input type=\"button\" value=\"Smart Log\" id=\"o4_uHF_STO-3G_UB3LYP_631Gd_4_4_cent_carbonyl_mult_3_stable_gen_restart_1_high_model\" onclick=\"IPython.cc_notebook.view_function(event, this.id)\" /></td><td>Success</td></tr><tr><td>o_sanity_UB3LYP_631Gd_4_4_cent_carbonyl_stable_gen_restart_1_high_model</td><td><a href = \"files/graphene_cycloadditions/unrestricted_cycloadd_oniom/o_sanity_UB3LYP_631Gd_4_4_cent_carbonyl_stable_gen_restart_1_high_model.com\" target = \"_blank\">com</a></td><td><input type=\"button\" value=\"Smart Log\" id=\"o_sanity_UB3LYP_631Gd_4_4_cent_carbonyl_stable_gen_restart_1_high_model\" onclick=\"IPython.cc_notebook.view_function(event, this.id)\" /></td><td>Success</td></tr><tr><td>o0_uam1_UB3LYP_631Gd_4_4_graphene_mult_3_stable_gen_restart_1_high_model</td><td><a href = \"files/graphene_cycloadditions/unrestricted_cycloadd_oniom/o0_uam1_UB3LYP_631Gd_4_4_graphene_mult_3_stable_gen_restart_1_high_model.com\" target = \"_blank\">com</a></td><td><input type=\"button\" value=\"Smart Log\" id=\"o0_uam1_UB3LYP_631Gd_4_4_graphene_mult_3_stable_gen_restart_1_high_model\" onclick=\"IPython.cc_notebook.view_function(event, this.id)\" /></td><td>Success</td></tr><tr><td>o0_upm6_UB3LYP_631Gd_4_4_graphene_mult_3_stable_gen_restart_1_high_model</td><td><a href = \"files/graphene_cycloadditions/unrestricted_cycloadd_oniom/o0_upm6_UB3LYP_631Gd_4_4_graphene_mult_3_stable_gen_restart_1_high_model.com\" target = \"_blank\">com</a></td><td><input type=\"button\" value=\"Smart Log\" id=\"o0_upm6_UB3LYP_631Gd_4_4_graphene_mult_3_stable_gen_restart_1_high_model\" onclick=\"IPython.cc_notebook.view_function(event, this.id)\" /></td><td>Success</td></tr><tr><td>o0_uHF_STO-3G_UB3LYP_631Gd_4_4_graphene_mult_3_stable_gen_restart_1_high_model</td><td><a href = \"files/graphene_cycloadditions/unrestricted_cycloadd_oniom/o0_uHF_STO-3G_UB3LYP_631Gd_4_4_graphene_mult_3_stable_gen_restart_1_high_model.com\" target = \"_blank\">com</a></td><td><input type=\"button\" value=\"Smart Log\" id=\"o0_uHF_STO-3G_UB3LYP_631Gd_4_4_graphene_mult_3_stable_gen_restart_1_high_model\" onclick=\"IPython.cc_notebook.view_function(event, this.id)\" /></td><td>Success</td></tr><tr><td>o1_uam1_UB3LYP_631Gd_4_4_graphene_mult_3_stable_gen_restart_1_high_model</td><td><a href = \"files/graphene_cycloadditions/unrestricted_cycloadd_oniom/o1_uam1_UB3LYP_631Gd_4_4_graphene_mult_3_stable_gen_restart_1_high_model.com\" target = \"_blank\">com</a></td><td><input type=\"button\" value=\"Smart Log\" id=\"o1_uam1_UB3LYP_631Gd_4_4_graphene_mult_3_stable_gen_restart_1_high_model\" onclick=\"IPython.cc_notebook.view_function(event, this.id)\" /></td><td>Success</td></tr><tr><td>o1_upm6_UB3LYP_631Gd_4_4_graphene_mult_3_stable_gen_restart_1_high_model</td><td><a href = \"files/graphene_cycloadditions/unrestricted_cycloadd_oniom/o1_upm6_UB3LYP_631Gd_4_4_graphene_mult_3_stable_gen_restart_1_high_model.com\" target = \"_blank\">com</a></td><td><input type=\"button\" value=\"Smart Log\" id=\"o1_upm6_UB3LYP_631Gd_4_4_graphene_mult_3_stable_gen_restart_1_high_model\" onclick=\"IPython.cc_notebook.view_function(event, this.id)\" /></td><td>Success</td></tr><tr><td>o1_uHF_STO-3G_UB3LYP_631Gd_4_4_graphene_mult_3_stable_gen_restart_1_high_model</td><td><a href = \"files/graphene_cycloadditions/unrestricted_cycloadd_oniom/o1_uHF_STO-3G_UB3LYP_631Gd_4_4_graphene_mult_3_stable_gen_restart_1_high_model.com\" target = \"_blank\">com</a></td><td><input type=\"button\" value=\"Smart Log\" id=\"o1_uHF_STO-3G_UB3LYP_631Gd_4_4_graphene_mult_3_stable_gen_restart_1_high_model\" onclick=\"IPython.cc_notebook.view_function(event, this.id)\" /></td><td>Success</td></tr><tr><td>o2_uam1_UB3LYP_631Gd_4_4_graphene_mult_3_stable_gen_restart_1_high_model</td><td><a href = \"files/graphene_cycloadditions/unrestricted_cycloadd_oniom/o2_uam1_UB3LYP_631Gd_4_4_graphene_mult_3_stable_gen_restart_1_high_model.com\" target = \"_blank\">com</a></td><td><input type=\"button\" value=\"Smart Log\" id=\"o2_uam1_UB3LYP_631Gd_4_4_graphene_mult_3_stable_gen_restart_1_high_model\" onclick=\"IPython.cc_notebook.view_function(event, this.id)\" /></td><td>Success</td></tr><tr><td>o2_upm6_UB3LYP_631Gd_4_4_graphene_mult_3_stable_gen_restart_1_high_model</td><td><a href = \"files/graphene_cycloadditions/unrestricted_cycloadd_oniom/o2_upm6_UB3LYP_631Gd_4_4_graphene_mult_3_stable_gen_restart_1_high_model.com\" target = \"_blank\">com</a></td><td><input type=\"button\" value=\"Smart Log\" id=\"o2_upm6_UB3LYP_631Gd_4_4_graphene_mult_3_stable_gen_restart_1_high_model\" onclick=\"IPython.cc_notebook.view_function(event, this.id)\" /></td><td>Success</td></tr><tr><td>o2_uHF_STO-3G_UB3LYP_631Gd_4_4_graphene_mult_3_stable_gen_restart_1_high_model</td><td><a href = \"files/graphene_cycloadditions/unrestricted_cycloadd_oniom/o2_uHF_STO-3G_UB3LYP_631Gd_4_4_graphene_mult_3_stable_gen_restart_1_high_model.com\" target = \"_blank\">com</a></td><td><input type=\"button\" value=\"Smart Log\" id=\"o2_uHF_STO-3G_UB3LYP_631Gd_4_4_graphene_mult_3_stable_gen_restart_1_high_model\" onclick=\"IPython.cc_notebook.view_function(event, this.id)\" /></td><td>Success</td></tr><tr><td>o3_uam1_UB3LYP_631Gd_4_4_graphene_mult_3_stable_gen_restart_1_high_model</td><td><a href = \"files/graphene_cycloadditions/unrestricted_cycloadd_oniom/o3_uam1_UB3LYP_631Gd_4_4_graphene_mult_3_stable_gen_restart_1_high_model.com\" target = \"_blank\">com</a></td><td><input type=\"button\" value=\"Smart Log\" id=\"o3_uam1_UB3LYP_631Gd_4_4_graphene_mult_3_stable_gen_restart_1_high_model\" onclick=\"IPython.cc_notebook.view_function(event, this.id)\" /></td><td>Success</td></tr><tr><td>o3_upm6_UB3LYP_631Gd_4_4_graphene_mult_3_stable_gen_restart_1_high_model</td><td><a href = \"files/graphene_cycloadditions/unrestricted_cycloadd_oniom/o3_upm6_UB3LYP_631Gd_4_4_graphene_mult_3_stable_gen_restart_1_high_model.com\" target = \"_blank\">com</a></td><td><input type=\"button\" value=\"Smart Log\" id=\"o3_upm6_UB3LYP_631Gd_4_4_graphene_mult_3_stable_gen_restart_1_high_model\" onclick=\"IPython.cc_notebook.view_function(event, this.id)\" /></td><td>Success</td></tr><tr><td>o3_uHF_STO-3G_UB3LYP_631Gd_4_4_graphene_mult_3_stable_gen_restart_1_high_model</td><td><a href = \"files/graphene_cycloadditions/unrestricted_cycloadd_oniom/o3_uHF_STO-3G_UB3LYP_631Gd_4_4_graphene_mult_3_stable_gen_restart_1_high_model.com\" target = \"_blank\">com</a></td><td><input type=\"button\" value=\"Smart Log\" id=\"o3_uHF_STO-3G_UB3LYP_631Gd_4_4_graphene_mult_3_stable_gen_restart_1_high_model\" onclick=\"IPython.cc_notebook.view_function(event, this.id)\" /></td><td>Success</td></tr><tr><td>o4_uam1_UB3LYP_631Gd_4_4_graphene_mult_3_stable_gen_restart_1_high_model</td><td><a href = \"files/graphene_cycloadditions/unrestricted_cycloadd_oniom/o4_uam1_UB3LYP_631Gd_4_4_graphene_mult_3_stable_gen_restart_1_high_model.com\" target = \"_blank\">com</a></td><td><input type=\"button\" value=\"Smart Log\" id=\"o4_uam1_UB3LYP_631Gd_4_4_graphene_mult_3_stable_gen_restart_1_high_model\" onclick=\"IPython.cc_notebook.view_function(event, this.id)\" /></td><td>Success</td></tr><tr><td>o4_upm6_UB3LYP_631Gd_4_4_graphene_mult_3_stable_gen_restart_1_high_model</td><td><a href = \"files/graphene_cycloadditions/unrestricted_cycloadd_oniom/o4_upm6_UB3LYP_631Gd_4_4_graphene_mult_3_stable_gen_restart_1_high_model.com\" target = \"_blank\">com</a></td><td><input type=\"button\" value=\"Smart Log\" id=\"o4_upm6_UB3LYP_631Gd_4_4_graphene_mult_3_stable_gen_restart_1_high_model\" onclick=\"IPython.cc_notebook.view_function(event, this.id)\" /></td><td>Success</td></tr><tr><td>o4_uHF_STO-3G_UB3LYP_631Gd_4_4_graphene_mult_3_stable_gen_restart_1_high_model</td><td><a href = \"files/graphene_cycloadditions/unrestricted_cycloadd_oniom/o4_uHF_STO-3G_UB3LYP_631Gd_4_4_graphene_mult_3_stable_gen_restart_1_high_model.com\" target = \"_blank\">com</a></td><td><input type=\"button\" value=\"Smart Log\" id=\"o4_uHF_STO-3G_UB3LYP_631Gd_4_4_graphene_mult_3_stable_gen_restart_1_high_model\" onclick=\"IPython.cc_notebook.view_function(event, this.id)\" /></td><td>Success</td></tr><tr><td>o_sanity_UB3LYP_631Gd_4_4_graphene_stable_gen_restart_1_high_model</td><td><a href = \"files/graphene_cycloadditions/unrestricted_cycloadd_oniom/o_sanity_UB3LYP_631Gd_4_4_graphene_stable_gen_restart_1_high_model.com\" target = \"_blank\">com</a></td><td><input type=\"button\" value=\"Smart Log\" id=\"o_sanity_UB3LYP_631Gd_4_4_graphene_stable_gen_restart_1_high_model\" onclick=\"IPython.cc_notebook.view_function(event, this.id)\" /></td><td>Success</td></tr><tr><td>o0_uam1_UB3LYP_631Gd_4_4_cent_carbonyl_mult_3_stable_gen_restart_1_low_model</td><td><a href = \"files/graphene_cycloadditions/unrestricted_cycloadd_oniom/o0_uam1_UB3LYP_631Gd_4_4_cent_carbonyl_mult_3_stable_gen_restart_1_low_model.com\" target = \"_blank\">com</a></td><td><input type=\"button\" value=\"Smart Log\" id=\"o0_uam1_UB3LYP_631Gd_4_4_cent_carbonyl_mult_3_stable_gen_restart_1_low_model\" onclick=\"IPython.cc_notebook.view_function(event, this.id)\" /></td><td>Success</td></tr><tr><td>o0_upm6_UB3LYP_631Gd_4_4_cent_carbonyl_mult_3_stable_gen_restart_1_low_model</td><td><a href = \"files/graphene_cycloadditions/unrestricted_cycloadd_oniom/o0_upm6_UB3LYP_631Gd_4_4_cent_carbonyl_mult_3_stable_gen_restart_1_low_model.com\" target = \"_blank\">com</a></td><td><input type=\"button\" value=\"Smart Log\" id=\"o0_upm6_UB3LYP_631Gd_4_4_cent_carbonyl_mult_3_stable_gen_restart_1_low_model\" onclick=\"IPython.cc_notebook.view_function(event, this.id)\" /></td><td>Success</td></tr><tr><td>o0_uHF_STO-3G_UB3LYP_631Gd_4_4_cent_carbonyl_mult_3_stable_gen_restart_1_low_model</td><td><a href = \"files/graphene_cycloadditions/unrestricted_cycloadd_oniom/o0_uHF_STO-3G_UB3LYP_631Gd_4_4_cent_carbonyl_mult_3_stable_gen_restart_1_low_model.com\" target = \"_blank\">com</a></td><td><input type=\"button\" value=\"Smart Log\" id=\"o0_uHF_STO-3G_UB3LYP_631Gd_4_4_cent_carbonyl_mult_3_stable_gen_restart_1_low_model\" onclick=\"IPython.cc_notebook.view_function(event, this.id)\" /></td><td>Success</td></tr><tr><td>o1_uam1_UB3LYP_631Gd_4_4_cent_carbonyl_mult_3_stable_gen_restart_1_low_model</td><td><a href = \"files/graphene_cycloadditions/unrestricted_cycloadd_oniom/o1_uam1_UB3LYP_631Gd_4_4_cent_carbonyl_mult_3_stable_gen_restart_1_low_model.com\" target = \"_blank\">com</a></td><td><input type=\"button\" value=\"Smart Log\" id=\"o1_uam1_UB3LYP_631Gd_4_4_cent_carbonyl_mult_3_stable_gen_restart_1_low_model\" onclick=\"IPython.cc_notebook.view_function(event, this.id)\" /></td><td>Success</td></tr><tr><td>o1_upm6_UB3LYP_631Gd_4_4_cent_carbonyl_mult_3_stable_gen_restart_1_low_model</td><td><a href = \"files/graphene_cycloadditions/unrestricted_cycloadd_oniom/o1_upm6_UB3LYP_631Gd_4_4_cent_carbonyl_mult_3_stable_gen_restart_1_low_model.com\" target = \"_blank\">com</a></td><td><input type=\"button\" value=\"Smart Log\" id=\"o1_upm6_UB3LYP_631Gd_4_4_cent_carbonyl_mult_3_stable_gen_restart_1_low_model\" onclick=\"IPython.cc_notebook.view_function(event, this.id)\" /></td><td>Success</td></tr><tr><td>o1_uHF_STO-3G_UB3LYP_631Gd_4_4_cent_carbonyl_mult_3_stable_gen_restart_1_low_model</td><td><a href = \"files/graphene_cycloadditions/unrestricted_cycloadd_oniom/o1_uHF_STO-3G_UB3LYP_631Gd_4_4_cent_carbonyl_mult_3_stable_gen_restart_1_low_model.com\" target = \"_blank\">com</a></td><td><input type=\"button\" value=\"Smart Log\" id=\"o1_uHF_STO-3G_UB3LYP_631Gd_4_4_cent_carbonyl_mult_3_stable_gen_restart_1_low_model\" onclick=\"IPython.cc_notebook.view_function(event, this.id)\" /></td><td>Success</td></tr><tr><td>o2_uam1_UB3LYP_631Gd_4_4_cent_carbonyl_mult_3_stable_gen_restart_1_low_model</td><td><a href = \"files/graphene_cycloadditions/unrestricted_cycloadd_oniom/o2_uam1_UB3LYP_631Gd_4_4_cent_carbonyl_mult_3_stable_gen_restart_1_low_model.com\" target = \"_blank\">com</a></td><td><input type=\"button\" value=\"Smart Log\" id=\"o2_uam1_UB3LYP_631Gd_4_4_cent_carbonyl_mult_3_stable_gen_restart_1_low_model\" onclick=\"IPython.cc_notebook.view_function(event, this.id)\" /></td><td>Success</td></tr><tr><td>o2_upm6_UB3LYP_631Gd_4_4_cent_carbonyl_mult_3_stable_gen_restart_1_low_model</td><td><a href = \"files/graphene_cycloadditions/unrestricted_cycloadd_oniom/o2_upm6_UB3LYP_631Gd_4_4_cent_carbonyl_mult_3_stable_gen_restart_1_low_model.com\" target = \"_blank\">com</a></td><td><input type=\"button\" value=\"Smart Log\" id=\"o2_upm6_UB3LYP_631Gd_4_4_cent_carbonyl_mult_3_stable_gen_restart_1_low_model\" onclick=\"IPython.cc_notebook.view_function(event, this.id)\" /></td><td>Success</td></tr><tr><td>o2_uHF_STO-3G_UB3LYP_631Gd_4_4_cent_carbonyl_mult_3_stable_gen_restart_1_low_model</td><td><a href = \"files/graphene_cycloadditions/unrestricted_cycloadd_oniom/o2_uHF_STO-3G_UB3LYP_631Gd_4_4_cent_carbonyl_mult_3_stable_gen_restart_1_low_model.com\" target = \"_blank\">com</a></td><td><input type=\"button\" value=\"Smart Log\" id=\"o2_uHF_STO-3G_UB3LYP_631Gd_4_4_cent_carbonyl_mult_3_stable_gen_restart_1_low_model\" onclick=\"IPython.cc_notebook.view_function(event, this.id)\" /></td><td>Success</td></tr><tr><td>o3_uam1_UB3LYP_631Gd_4_4_cent_carbonyl_mult_3_stable_gen_restart_1_low_model</td><td><a href = \"files/graphene_cycloadditions/unrestricted_cycloadd_oniom/o3_uam1_UB3LYP_631Gd_4_4_cent_carbonyl_mult_3_stable_gen_restart_1_low_model.com\" target = \"_blank\">com</a></td><td><input type=\"button\" value=\"Smart Log\" id=\"o3_uam1_UB3LYP_631Gd_4_4_cent_carbonyl_mult_3_stable_gen_restart_1_low_model\" onclick=\"IPython.cc_notebook.view_function(event, this.id)\" /></td><td>Success</td></tr><tr><td>o3_upm6_UB3LYP_631Gd_4_4_cent_carbonyl_mult_3_stable_gen_restart_1_low_model</td><td><a href = \"files/graphene_cycloadditions/unrestricted_cycloadd_oniom/o3_upm6_UB3LYP_631Gd_4_4_cent_carbonyl_mult_3_stable_gen_restart_1_low_model.com\" target = \"_blank\">com</a></td><td><input type=\"button\" value=\"Smart Log\" id=\"o3_upm6_UB3LYP_631Gd_4_4_cent_carbonyl_mult_3_stable_gen_restart_1_low_model\" onclick=\"IPython.cc_notebook.view_function(event, this.id)\" /></td><td>Success</td></tr><tr><td>o3_uHF_STO-3G_UB3LYP_631Gd_4_4_cent_carbonyl_mult_3_stable_gen_restart_1_low_model</td><td><a href = \"files/graphene_cycloadditions/unrestricted_cycloadd_oniom/o3_uHF_STO-3G_UB3LYP_631Gd_4_4_cent_carbonyl_mult_3_stable_gen_restart_1_low_model.com\" target = \"_blank\">com</a></td><td><input type=\"button\" value=\"Smart Log\" id=\"o3_uHF_STO-3G_UB3LYP_631Gd_4_4_cent_carbonyl_mult_3_stable_gen_restart_1_low_model\" onclick=\"IPython.cc_notebook.view_function(event, this.id)\" /></td><td>Success</td></tr><tr><td>o4_uam1_UB3LYP_631Gd_4_4_cent_carbonyl_mult_3_stable_gen_restart_1_low_model</td><td><a href = \"files/graphene_cycloadditions/unrestricted_cycloadd_oniom/o4_uam1_UB3LYP_631Gd_4_4_cent_carbonyl_mult_3_stable_gen_restart_1_low_model.com\" target = \"_blank\">com</a></td><td><input type=\"button\" value=\"Smart Log\" id=\"o4_uam1_UB3LYP_631Gd_4_4_cent_carbonyl_mult_3_stable_gen_restart_1_low_model\" onclick=\"IPython.cc_notebook.view_function(event, this.id)\" /></td><td>Success</td></tr><tr><td>o4_upm6_UB3LYP_631Gd_4_4_cent_carbonyl_mult_3_stable_gen_restart_1_low_model</td><td><a href = \"files/graphene_cycloadditions/unrestricted_cycloadd_oniom/o4_upm6_UB3LYP_631Gd_4_4_cent_carbonyl_mult_3_stable_gen_restart_1_low_model.com\" target = \"_blank\">com</a></td><td><input type=\"button\" value=\"Smart Log\" id=\"o4_upm6_UB3LYP_631Gd_4_4_cent_carbonyl_mult_3_stable_gen_restart_1_low_model\" onclick=\"IPython.cc_notebook.view_function(event, this.id)\" /></td><td>Success</td></tr><tr><td>o4_uHF_STO-3G_UB3LYP_631Gd_4_4_cent_carbonyl_mult_3_stable_gen_restart_1_low_model</td><td><a href = \"files/graphene_cycloadditions/unrestricted_cycloadd_oniom/o4_uHF_STO-3G_UB3LYP_631Gd_4_4_cent_carbonyl_mult_3_stable_gen_restart_1_low_model.com\" target = \"_blank\">com</a></td><td><input type=\"button\" value=\"Smart Log\" id=\"o4_uHF_STO-3G_UB3LYP_631Gd_4_4_cent_carbonyl_mult_3_stable_gen_restart_1_low_model\" onclick=\"IPython.cc_notebook.view_function(event, this.id)\" /></td><td>Success</td></tr><tr><td>o_sanity_UB3LYP_631Gd_4_4_cent_carbonyl_stable_gen_restart_1_low_model</td><td><a href = \"files/graphene_cycloadditions/unrestricted_cycloadd_oniom/o_sanity_UB3LYP_631Gd_4_4_cent_carbonyl_stable_gen_restart_1_low_model.com\" target = \"_blank\">com</a></td><td><input type=\"button\" value=\"Smart Log\" id=\"o_sanity_UB3LYP_631Gd_4_4_cent_carbonyl_stable_gen_restart_1_low_model\" onclick=\"IPython.cc_notebook.view_function(event, this.id)\" /></td><td>Error: TCursr= 1046 LCursr=   43</td></tr><tr><td>o0_uam1_UB3LYP_631Gd_4_4_graphene_mult_3_stable_gen_restart_1_low_model</td><td><a href = \"files/graphene_cycloadditions/unrestricted_cycloadd_oniom/o0_uam1_UB3LYP_631Gd_4_4_graphene_mult_3_stable_gen_restart_1_low_model.com\" target = \"_blank\">com</a></td><td><input type=\"button\" value=\"Smart Log\" id=\"o0_uam1_UB3LYP_631Gd_4_4_graphene_mult_3_stable_gen_restart_1_low_model\" onclick=\"IPython.cc_notebook.view_function(event, this.id)\" /></td><td>Success</td></tr><tr><td>o0_upm6_UB3LYP_631Gd_4_4_graphene_mult_3_stable_gen_restart_1_low_model</td><td><a href = \"files/graphene_cycloadditions/unrestricted_cycloadd_oniom/o0_upm6_UB3LYP_631Gd_4_4_graphene_mult_3_stable_gen_restart_1_low_model.com\" target = \"_blank\">com</a></td><td><input type=\"button\" value=\"Smart Log\" id=\"o0_upm6_UB3LYP_631Gd_4_4_graphene_mult_3_stable_gen_restart_1_low_model\" onclick=\"IPython.cc_notebook.view_function(event, this.id)\" /></td><td>Success</td></tr><tr><td>o0_uHF_STO-3G_UB3LYP_631Gd_4_4_graphene_mult_3_stable_gen_restart_1_low_model</td><td><a href = \"files/graphene_cycloadditions/unrestricted_cycloadd_oniom/o0_uHF_STO-3G_UB3LYP_631Gd_4_4_graphene_mult_3_stable_gen_restart_1_low_model.com\" target = \"_blank\">com</a></td><td><input type=\"button\" value=\"Smart Log\" id=\"o0_uHF_STO-3G_UB3LYP_631Gd_4_4_graphene_mult_3_stable_gen_restart_1_low_model\" onclick=\"IPython.cc_notebook.view_function(event, this.id)\" /></td><td>Success</td></tr><tr><td>o1_uam1_UB3LYP_631Gd_4_4_graphene_mult_3_stable_gen_restart_1_low_model</td><td><a href = \"files/graphene_cycloadditions/unrestricted_cycloadd_oniom/o1_uam1_UB3LYP_631Gd_4_4_graphene_mult_3_stable_gen_restart_1_low_model.com\" target = \"_blank\">com</a></td><td><input type=\"button\" value=\"Smart Log\" id=\"o1_uam1_UB3LYP_631Gd_4_4_graphene_mult_3_stable_gen_restart_1_low_model\" onclick=\"IPython.cc_notebook.view_function(event, this.id)\" /></td><td>Success</td></tr><tr><td>o1_upm6_UB3LYP_631Gd_4_4_graphene_mult_3_stable_gen_restart_1_low_model</td><td><a href = \"files/graphene_cycloadditions/unrestricted_cycloadd_oniom/o1_upm6_UB3LYP_631Gd_4_4_graphene_mult_3_stable_gen_restart_1_low_model.com\" target = \"_blank\">com</a></td><td><input type=\"button\" value=\"Smart Log\" id=\"o1_upm6_UB3LYP_631Gd_4_4_graphene_mult_3_stable_gen_restart_1_low_model\" onclick=\"IPython.cc_notebook.view_function(event, this.id)\" /></td><td>Success</td></tr><tr><td>o1_uHF_STO-3G_UB3LYP_631Gd_4_4_graphene_mult_3_stable_gen_restart_1_low_model</td><td><a href = \"files/graphene_cycloadditions/unrestricted_cycloadd_oniom/o1_uHF_STO-3G_UB3LYP_631Gd_4_4_graphene_mult_3_stable_gen_restart_1_low_model.com\" target = \"_blank\">com</a></td><td><input type=\"button\" value=\"Smart Log\" id=\"o1_uHF_STO-3G_UB3LYP_631Gd_4_4_graphene_mult_3_stable_gen_restart_1_low_model\" onclick=\"IPython.cc_notebook.view_function(event, this.id)\" /></td><td>Success</td></tr><tr><td>o2_uam1_UB3LYP_631Gd_4_4_graphene_mult_3_stable_gen_restart_1_low_model</td><td><a href = \"files/graphene_cycloadditions/unrestricted_cycloadd_oniom/o2_uam1_UB3LYP_631Gd_4_4_graphene_mult_3_stable_gen_restart_1_low_model.com\" target = \"_blank\">com</a></td><td><input type=\"button\" value=\"Smart Log\" id=\"o2_uam1_UB3LYP_631Gd_4_4_graphene_mult_3_stable_gen_restart_1_low_model\" onclick=\"IPython.cc_notebook.view_function(event, this.id)\" /></td><td>Success</td></tr><tr><td>o2_upm6_UB3LYP_631Gd_4_4_graphene_mult_3_stable_gen_restart_1_low_model</td><td><a href = \"files/graphene_cycloadditions/unrestricted_cycloadd_oniom/o2_upm6_UB3LYP_631Gd_4_4_graphene_mult_3_stable_gen_restart_1_low_model.com\" target = \"_blank\">com</a></td><td><input type=\"button\" value=\"Smart Log\" id=\"o2_upm6_UB3LYP_631Gd_4_4_graphene_mult_3_stable_gen_restart_1_low_model\" onclick=\"IPython.cc_notebook.view_function(event, this.id)\" /></td><td>Success</td></tr><tr><td>o2_uHF_STO-3G_UB3LYP_631Gd_4_4_graphene_mult_3_stable_gen_restart_1_low_model</td><td><a href = \"files/graphene_cycloadditions/unrestricted_cycloadd_oniom/o2_uHF_STO-3G_UB3LYP_631Gd_4_4_graphene_mult_3_stable_gen_restart_1_low_model.com\" target = \"_blank\">com</a></td><td><input type=\"button\" value=\"Smart Log\" id=\"o2_uHF_STO-3G_UB3LYP_631Gd_4_4_graphene_mult_3_stable_gen_restart_1_low_model\" onclick=\"IPython.cc_notebook.view_function(event, this.id)\" /></td><td>Success</td></tr><tr><td>o3_uam1_UB3LYP_631Gd_4_4_graphene_mult_3_stable_gen_restart_1_low_model</td><td><a href = \"files/graphene_cycloadditions/unrestricted_cycloadd_oniom/o3_uam1_UB3LYP_631Gd_4_4_graphene_mult_3_stable_gen_restart_1_low_model.com\" target = \"_blank\">com</a></td><td><input type=\"button\" value=\"Smart Log\" id=\"o3_uam1_UB3LYP_631Gd_4_4_graphene_mult_3_stable_gen_restart_1_low_model\" onclick=\"IPython.cc_notebook.view_function(event, this.id)\" /></td><td>Success</td></tr><tr><td>o3_upm6_UB3LYP_631Gd_4_4_graphene_mult_3_stable_gen_restart_1_low_model</td><td><a href = \"files/graphene_cycloadditions/unrestricted_cycloadd_oniom/o3_upm6_UB3LYP_631Gd_4_4_graphene_mult_3_stable_gen_restart_1_low_model.com\" target = \"_blank\">com</a></td><td><input type=\"button\" value=\"Smart Log\" id=\"o3_upm6_UB3LYP_631Gd_4_4_graphene_mult_3_stable_gen_restart_1_low_model\" onclick=\"IPython.cc_notebook.view_function(event, this.id)\" /></td><td>Success</td></tr><tr><td>o3_uHF_STO-3G_UB3LYP_631Gd_4_4_graphene_mult_3_stable_gen_restart_1_low_model</td><td><a href = \"files/graphene_cycloadditions/unrestricted_cycloadd_oniom/o3_uHF_STO-3G_UB3LYP_631Gd_4_4_graphene_mult_3_stable_gen_restart_1_low_model.com\" target = \"_blank\">com</a></td><td><input type=\"button\" value=\"Smart Log\" id=\"o3_uHF_STO-3G_UB3LYP_631Gd_4_4_graphene_mult_3_stable_gen_restart_1_low_model\" onclick=\"IPython.cc_notebook.view_function(event, this.id)\" /></td><td>Success</td></tr><tr><td>o4_uam1_UB3LYP_631Gd_4_4_graphene_mult_3_stable_gen_restart_1_low_model</td><td><a href = \"files/graphene_cycloadditions/unrestricted_cycloadd_oniom/o4_uam1_UB3LYP_631Gd_4_4_graphene_mult_3_stable_gen_restart_1_low_model.com\" target = \"_blank\">com</a></td><td><input type=\"button\" value=\"Smart Log\" id=\"o4_uam1_UB3LYP_631Gd_4_4_graphene_mult_3_stable_gen_restart_1_low_model\" onclick=\"IPython.cc_notebook.view_function(event, this.id)\" /></td><td>Success</td></tr><tr><td>o4_upm6_UB3LYP_631Gd_4_4_graphene_mult_3_stable_gen_restart_1_low_model</td><td><a href = \"files/graphene_cycloadditions/unrestricted_cycloadd_oniom/o4_upm6_UB3LYP_631Gd_4_4_graphene_mult_3_stable_gen_restart_1_low_model.com\" target = \"_blank\">com</a></td><td><input type=\"button\" value=\"Smart Log\" id=\"o4_upm6_UB3LYP_631Gd_4_4_graphene_mult_3_stable_gen_restart_1_low_model\" onclick=\"IPython.cc_notebook.view_function(event, this.id)\" /></td><td>Success</td></tr><tr><td>o4_uHF_STO-3G_UB3LYP_631Gd_4_4_graphene_mult_3_stable_gen_restart_1_low_model</td><td><a href = \"files/graphene_cycloadditions/unrestricted_cycloadd_oniom/o4_uHF_STO-3G_UB3LYP_631Gd_4_4_graphene_mult_3_stable_gen_restart_1_low_model.com\" target = \"_blank\">com</a></td><td><input type=\"button\" value=\"Smart Log\" id=\"o4_uHF_STO-3G_UB3LYP_631Gd_4_4_graphene_mult_3_stable_gen_restart_1_low_model\" onclick=\"IPython.cc_notebook.view_function(event, this.id)\" /></td><td>Success</td></tr><tr><td>o_sanity_UB3LYP_631Gd_4_4_graphene_stable_gen_restart_1_low_model</td><td><a href = \"files/graphene_cycloadditions/unrestricted_cycloadd_oniom/o_sanity_UB3LYP_631Gd_4_4_graphene_stable_gen_restart_1_low_model.com\" target = \"_blank\">com</a></td><td><input type=\"button\" value=\"Smart Log\" id=\"o_sanity_UB3LYP_631Gd_4_4_graphene_stable_gen_restart_1_low_model\" onclick=\"IPython.cc_notebook.view_function(event, this.id)\" /></td><td>Error: TCursr= 1046 LCursr=   43</td></tr>\n",
        "    </table>\n",
        "    </body>"
       ],
       "metadata": {},
       "output_type": "pyout",
       "prompt_number": 20,
       "text": [
        "<IPython.core.display.HTML at 0x7f12f66d4b90>"
       ]
      }
     ],
     "prompt_number": 20
    },
    {
     "cell_type": "code",
     "collapsed": false,
     "input": [
      "l = o_44_carb_m3_stable + o_44_m3_stable\n",
      "\n",
      "for i, m in enumerate(l):\n",
      "    m.calc.restart(remove_label='stable_gen', method = m.calc.method.replace('=OnlyInputFiles', ''), component_calcs = zip(l_rls, h_mds, l_mds)[i])\n",
      "    m.calc.set_job(nodes=8, memory=8*1400, time=5, queue='pqmb')\n",
      "    #m.calc.start(frc=True)"
     ],
     "language": "python",
     "metadata": {},
     "outputs": [],
     "prompt_number": 21
    },
    {
     "cell_type": "code",
     "collapsed": false,
     "input": [
      "check_calcs(l)\n",
      "mols_to_html(l)"
     ],
     "language": "python",
     "metadata": {},
     "outputs": [
      {
       "html": [
        "\n",
        "    <style>\n",
        "    table\n",
        "    {\n",
        "        border-collapse:collapse;\n",
        "    }\n",
        "    td\n",
        "    {\n",
        "        padding:15px;\n",
        "    }\n",
        "    </style>\n",
        "    <body>\n",
        "    <table bgcolor=\"white\">\n",
        "    <col/><tr><td>o0_uam1_UB3LYP_631Gd_4_4_cent_carbonyl_mult_3_restart_2</td><td><a href = \"files/graphene_cycloadditions/unrestricted_cycloadd_oniom/o0_uam1_UB3LYP_631Gd_4_4_cent_carbonyl_mult_3_restart_2.com\" target = \"_blank\">com</a></td><td><input type=\"button\" value=\"Smart Log\" id=\"o0_uam1_UB3LYP_631Gd_4_4_cent_carbonyl_mult_3_restart_2\" onclick=\"IPython.cc_notebook.view_function(event, this.id)\" /></td><td>Success</td></tr><tr><td>o0_upm6_UB3LYP_631Gd_4_4_cent_carbonyl_mult_3_restart_2</td><td><a href = \"files/graphene_cycloadditions/unrestricted_cycloadd_oniom/o0_upm6_UB3LYP_631Gd_4_4_cent_carbonyl_mult_3_restart_2.com\" target = \"_blank\">com</a></td><td><input type=\"button\" value=\"Smart Log\" id=\"o0_upm6_UB3LYP_631Gd_4_4_cent_carbonyl_mult_3_restart_2\" onclick=\"IPython.cc_notebook.view_function(event, this.id)\" /></td><td>Success</td></tr><tr><td>o0_uHF_STO-3G_UB3LYP_631Gd_4_4_cent_carbonyl_mult_3_restart_2</td><td><a href = \"files/graphene_cycloadditions/unrestricted_cycloadd_oniom/o0_uHF_STO-3G_UB3LYP_631Gd_4_4_cent_carbonyl_mult_3_restart_2.com\" target = \"_blank\">com</a></td><td><input type=\"button\" value=\"Smart Log\" id=\"o0_uHF_STO-3G_UB3LYP_631Gd_4_4_cent_carbonyl_mult_3_restart_2\" onclick=\"IPython.cc_notebook.view_function(event, this.id)\" /></td><td>Success</td></tr><tr><td>o1_uam1_UB3LYP_631Gd_4_4_cent_carbonyl_mult_3_restart_2</td><td><a href = \"files/graphene_cycloadditions/unrestricted_cycloadd_oniom/o1_uam1_UB3LYP_631Gd_4_4_cent_carbonyl_mult_3_restart_2.com\" target = \"_blank\">com</a></td><td><input type=\"button\" value=\"Smart Log\" id=\"o1_uam1_UB3LYP_631Gd_4_4_cent_carbonyl_mult_3_restart_2\" onclick=\"IPython.cc_notebook.view_function(event, this.id)\" /></td><td>Success</td></tr><tr><td>o1_upm6_UB3LYP_631Gd_4_4_cent_carbonyl_mult_3_restart_2</td><td><a href = \"files/graphene_cycloadditions/unrestricted_cycloadd_oniom/o1_upm6_UB3LYP_631Gd_4_4_cent_carbonyl_mult_3_restart_2.com\" target = \"_blank\">com</a></td><td><input type=\"button\" value=\"Smart Log\" id=\"o1_upm6_UB3LYP_631Gd_4_4_cent_carbonyl_mult_3_restart_2\" onclick=\"IPython.cc_notebook.view_function(event, this.id)\" /></td><td>Success</td></tr><tr><td>o1_uHF_STO-3G_UB3LYP_631Gd_4_4_cent_carbonyl_mult_3_restart_2</td><td><a href = \"files/graphene_cycloadditions/unrestricted_cycloadd_oniom/o1_uHF_STO-3G_UB3LYP_631Gd_4_4_cent_carbonyl_mult_3_restart_2.com\" target = \"_blank\">com</a></td><td><input type=\"button\" value=\"Smart Log\" id=\"o1_uHF_STO-3G_UB3LYP_631Gd_4_4_cent_carbonyl_mult_3_restart_2\" onclick=\"IPython.cc_notebook.view_function(event, this.id)\" /></td><td>Success</td></tr><tr><td>o2_uam1_UB3LYP_631Gd_4_4_cent_carbonyl_mult_3_restart_2</td><td><a href = \"files/graphene_cycloadditions/unrestricted_cycloadd_oniom/o2_uam1_UB3LYP_631Gd_4_4_cent_carbonyl_mult_3_restart_2.com\" target = \"_blank\">com</a></td><td><input type=\"button\" value=\"Smart Log\" id=\"o2_uam1_UB3LYP_631Gd_4_4_cent_carbonyl_mult_3_restart_2\" onclick=\"IPython.cc_notebook.view_function(event, this.id)\" /></td><td>Success</td></tr><tr><td>o2_upm6_UB3LYP_631Gd_4_4_cent_carbonyl_mult_3_restart_2</td><td><a href = \"files/graphene_cycloadditions/unrestricted_cycloadd_oniom/o2_upm6_UB3LYP_631Gd_4_4_cent_carbonyl_mult_3_restart_2.com\" target = \"_blank\">com</a></td><td><input type=\"button\" value=\"Smart Log\" id=\"o2_upm6_UB3LYP_631Gd_4_4_cent_carbonyl_mult_3_restart_2\" onclick=\"IPython.cc_notebook.view_function(event, this.id)\" /></td><td>Success</td></tr><tr><td>o2_uHF_STO-3G_UB3LYP_631Gd_4_4_cent_carbonyl_mult_3_restart_2</td><td><a href = \"files/graphene_cycloadditions/unrestricted_cycloadd_oniom/o2_uHF_STO-3G_UB3LYP_631Gd_4_4_cent_carbonyl_mult_3_restart_2.com\" target = \"_blank\">com</a></td><td><input type=\"button\" value=\"Smart Log\" id=\"o2_uHF_STO-3G_UB3LYP_631Gd_4_4_cent_carbonyl_mult_3_restart_2\" onclick=\"IPython.cc_notebook.view_function(event, this.id)\" /></td><td>Success</td></tr><tr><td>o3_uam1_UB3LYP_631Gd_4_4_cent_carbonyl_mult_3_restart_2</td><td><a href = \"files/graphene_cycloadditions/unrestricted_cycloadd_oniom/o3_uam1_UB3LYP_631Gd_4_4_cent_carbonyl_mult_3_restart_2.com\" target = \"_blank\">com</a></td><td><input type=\"button\" value=\"Smart Log\" id=\"o3_uam1_UB3LYP_631Gd_4_4_cent_carbonyl_mult_3_restart_2\" onclick=\"IPython.cc_notebook.view_function(event, this.id)\" /></td><td>Success</td></tr><tr><td>o3_upm6_UB3LYP_631Gd_4_4_cent_carbonyl_mult_3_restart_2</td><td><a href = \"files/graphene_cycloadditions/unrestricted_cycloadd_oniom/o3_upm6_UB3LYP_631Gd_4_4_cent_carbonyl_mult_3_restart_2.com\" target = \"_blank\">com</a></td><td><input type=\"button\" value=\"Smart Log\" id=\"o3_upm6_UB3LYP_631Gd_4_4_cent_carbonyl_mult_3_restart_2\" onclick=\"IPython.cc_notebook.view_function(event, this.id)\" /></td><td>Success</td></tr><tr><td>o3_uHF_STO-3G_UB3LYP_631Gd_4_4_cent_carbonyl_mult_3_restart_2</td><td><a href = \"files/graphene_cycloadditions/unrestricted_cycloadd_oniom/o3_uHF_STO-3G_UB3LYP_631Gd_4_4_cent_carbonyl_mult_3_restart_2.com\" target = \"_blank\">com</a></td><td><input type=\"button\" value=\"Smart Log\" id=\"o3_uHF_STO-3G_UB3LYP_631Gd_4_4_cent_carbonyl_mult_3_restart_2\" onclick=\"IPython.cc_notebook.view_function(event, this.id)\" /></td><td>Success</td></tr><tr><td>o4_uam1_UB3LYP_631Gd_4_4_cent_carbonyl_mult_3_restart_2</td><td><a href = \"files/graphene_cycloadditions/unrestricted_cycloadd_oniom/o4_uam1_UB3LYP_631Gd_4_4_cent_carbonyl_mult_3_restart_2.com\" target = \"_blank\">com</a></td><td><input type=\"button\" value=\"Smart Log\" id=\"o4_uam1_UB3LYP_631Gd_4_4_cent_carbonyl_mult_3_restart_2\" onclick=\"IPython.cc_notebook.view_function(event, this.id)\" /></td><td>Success</td></tr><tr><td>o4_upm6_UB3LYP_631Gd_4_4_cent_carbonyl_mult_3_restart_2</td><td><a href = \"files/graphene_cycloadditions/unrestricted_cycloadd_oniom/o4_upm6_UB3LYP_631Gd_4_4_cent_carbonyl_mult_3_restart_2.com\" target = \"_blank\">com</a></td><td><input type=\"button\" value=\"Smart Log\" id=\"o4_upm6_UB3LYP_631Gd_4_4_cent_carbonyl_mult_3_restart_2\" onclick=\"IPython.cc_notebook.view_function(event, this.id)\" /></td><td>Success</td></tr><tr><td>o4_uHF_STO-3G_UB3LYP_631Gd_4_4_cent_carbonyl_mult_3_restart_2</td><td><a href = \"files/graphene_cycloadditions/unrestricted_cycloadd_oniom/o4_uHF_STO-3G_UB3LYP_631Gd_4_4_cent_carbonyl_mult_3_restart_2.com\" target = \"_blank\">com</a></td><td><input type=\"button\" value=\"Smart Log\" id=\"o4_uHF_STO-3G_UB3LYP_631Gd_4_4_cent_carbonyl_mult_3_restart_2\" onclick=\"IPython.cc_notebook.view_function(event, this.id)\" /></td><td>Success</td></tr><tr><td>o_sanity_UB3LYP_631Gd_4_4_cent_carbonyl_restart_2</td><td><a href = \"files/graphene_cycloadditions/unrestricted_cycloadd_oniom/o_sanity_UB3LYP_631Gd_4_4_cent_carbonyl_restart_2.com\" target = \"_blank\">com</a></td><td><input type=\"button\" value=\"Smart Log\" id=\"o_sanity_UB3LYP_631Gd_4_4_cent_carbonyl_restart_2\" onclick=\"IPython.cc_notebook.view_function(event, this.id)\" /></td><td>Error: Basis set data is not on the checkpoint file.</td></tr><tr><td>o0_uam1_UB3LYP_631Gd_4_4_graphene_mult_3_restart_2</td><td><a href = \"files/graphene_cycloadditions/unrestricted_cycloadd_oniom/o0_uam1_UB3LYP_631Gd_4_4_graphene_mult_3_restart_2.com\" target = \"_blank\">com</a></td><td><input type=\"button\" value=\"Smart Log\" id=\"o0_uam1_UB3LYP_631Gd_4_4_graphene_mult_3_restart_2\" onclick=\"IPython.cc_notebook.view_function(event, this.id)\" /></td><td>Success</td></tr><tr><td>o0_upm6_UB3LYP_631Gd_4_4_graphene_mult_3_restart_2</td><td><a href = \"files/graphene_cycloadditions/unrestricted_cycloadd_oniom/o0_upm6_UB3LYP_631Gd_4_4_graphene_mult_3_restart_2.com\" target = \"_blank\">com</a></td><td><input type=\"button\" value=\"Smart Log\" id=\"o0_upm6_UB3LYP_631Gd_4_4_graphene_mult_3_restart_2\" onclick=\"IPython.cc_notebook.view_function(event, this.id)\" /></td><td>Success</td></tr><tr><td>o0_uHF_STO-3G_UB3LYP_631Gd_4_4_graphene_mult_3_restart_2</td><td><a href = \"files/graphene_cycloadditions/unrestricted_cycloadd_oniom/o0_uHF_STO-3G_UB3LYP_631Gd_4_4_graphene_mult_3_restart_2.com\" target = \"_blank\">com</a></td><td><input type=\"button\" value=\"Smart Log\" id=\"o0_uHF_STO-3G_UB3LYP_631Gd_4_4_graphene_mult_3_restart_2\" onclick=\"IPython.cc_notebook.view_function(event, this.id)\" /></td><td>Success</td></tr><tr><td>o1_uam1_UB3LYP_631Gd_4_4_graphene_mult_3_restart_2</td><td><a href = \"files/graphene_cycloadditions/unrestricted_cycloadd_oniom/o1_uam1_UB3LYP_631Gd_4_4_graphene_mult_3_restart_2.com\" target = \"_blank\">com</a></td><td><input type=\"button\" value=\"Smart Log\" id=\"o1_uam1_UB3LYP_631Gd_4_4_graphene_mult_3_restart_2\" onclick=\"IPython.cc_notebook.view_function(event, this.id)\" /></td><td>Success</td></tr><tr><td>o1_upm6_UB3LYP_631Gd_4_4_graphene_mult_3_restart_2</td><td><a href = \"files/graphene_cycloadditions/unrestricted_cycloadd_oniom/o1_upm6_UB3LYP_631Gd_4_4_graphene_mult_3_restart_2.com\" target = \"_blank\">com</a></td><td><input type=\"button\" value=\"Smart Log\" id=\"o1_upm6_UB3LYP_631Gd_4_4_graphene_mult_3_restart_2\" onclick=\"IPython.cc_notebook.view_function(event, this.id)\" /></td><td>Success</td></tr><tr><td>o1_uHF_STO-3G_UB3LYP_631Gd_4_4_graphene_mult_3_restart_2</td><td><a href = \"files/graphene_cycloadditions/unrestricted_cycloadd_oniom/o1_uHF_STO-3G_UB3LYP_631Gd_4_4_graphene_mult_3_restart_2.com\" target = \"_blank\">com</a></td><td><input type=\"button\" value=\"Smart Log\" id=\"o1_uHF_STO-3G_UB3LYP_631Gd_4_4_graphene_mult_3_restart_2\" onclick=\"IPython.cc_notebook.view_function(event, this.id)\" /></td><td>Success</td></tr><tr><td>o2_uam1_UB3LYP_631Gd_4_4_graphene_mult_3_restart_2</td><td><a href = \"files/graphene_cycloadditions/unrestricted_cycloadd_oniom/o2_uam1_UB3LYP_631Gd_4_4_graphene_mult_3_restart_2.com\" target = \"_blank\">com</a></td><td><input type=\"button\" value=\"Smart Log\" id=\"o2_uam1_UB3LYP_631Gd_4_4_graphene_mult_3_restart_2\" onclick=\"IPython.cc_notebook.view_function(event, this.id)\" /></td><td>Success</td></tr><tr><td>o2_upm6_UB3LYP_631Gd_4_4_graphene_mult_3_restart_2</td><td><a href = \"files/graphene_cycloadditions/unrestricted_cycloadd_oniom/o2_upm6_UB3LYP_631Gd_4_4_graphene_mult_3_restart_2.com\" target = \"_blank\">com</a></td><td><input type=\"button\" value=\"Smart Log\" id=\"o2_upm6_UB3LYP_631Gd_4_4_graphene_mult_3_restart_2\" onclick=\"IPython.cc_notebook.view_function(event, this.id)\" /></td><td>Success</td></tr><tr><td>o2_uHF_STO-3G_UB3LYP_631Gd_4_4_graphene_mult_3_restart_2</td><td><a href = \"files/graphene_cycloadditions/unrestricted_cycloadd_oniom/o2_uHF_STO-3G_UB3LYP_631Gd_4_4_graphene_mult_3_restart_2.com\" target = \"_blank\">com</a></td><td><input type=\"button\" value=\"Smart Log\" id=\"o2_uHF_STO-3G_UB3LYP_631Gd_4_4_graphene_mult_3_restart_2\" onclick=\"IPython.cc_notebook.view_function(event, this.id)\" /></td><td>Success</td></tr><tr><td>o3_uam1_UB3LYP_631Gd_4_4_graphene_mult_3_restart_2</td><td><a href = \"files/graphene_cycloadditions/unrestricted_cycloadd_oniom/o3_uam1_UB3LYP_631Gd_4_4_graphene_mult_3_restart_2.com\" target = \"_blank\">com</a></td><td><input type=\"button\" value=\"Smart Log\" id=\"o3_uam1_UB3LYP_631Gd_4_4_graphene_mult_3_restart_2\" onclick=\"IPython.cc_notebook.view_function(event, this.id)\" /></td><td>Success</td></tr><tr><td>o3_upm6_UB3LYP_631Gd_4_4_graphene_mult_3_restart_2</td><td><a href = \"files/graphene_cycloadditions/unrestricted_cycloadd_oniom/o3_upm6_UB3LYP_631Gd_4_4_graphene_mult_3_restart_2.com\" target = \"_blank\">com</a></td><td><input type=\"button\" value=\"Smart Log\" id=\"o3_upm6_UB3LYP_631Gd_4_4_graphene_mult_3_restart_2\" onclick=\"IPython.cc_notebook.view_function(event, this.id)\" /></td><td>Success</td></tr><tr><td>o3_uHF_STO-3G_UB3LYP_631Gd_4_4_graphene_mult_3_restart_2</td><td><a href = \"files/graphene_cycloadditions/unrestricted_cycloadd_oniom/o3_uHF_STO-3G_UB3LYP_631Gd_4_4_graphene_mult_3_restart_2.com\" target = \"_blank\">com</a></td><td><input type=\"button\" value=\"Smart Log\" id=\"o3_uHF_STO-3G_UB3LYP_631Gd_4_4_graphene_mult_3_restart_2\" onclick=\"IPython.cc_notebook.view_function(event, this.id)\" /></td><td>Success</td></tr><tr><td>o4_uam1_UB3LYP_631Gd_4_4_graphene_mult_3_restart_2</td><td><a href = \"files/graphene_cycloadditions/unrestricted_cycloadd_oniom/o4_uam1_UB3LYP_631Gd_4_4_graphene_mult_3_restart_2.com\" target = \"_blank\">com</a></td><td><input type=\"button\" value=\"Smart Log\" id=\"o4_uam1_UB3LYP_631Gd_4_4_graphene_mult_3_restart_2\" onclick=\"IPython.cc_notebook.view_function(event, this.id)\" /></td><td>Success</td></tr><tr><td>o4_upm6_UB3LYP_631Gd_4_4_graphene_mult_3_restart_2</td><td><a href = \"files/graphene_cycloadditions/unrestricted_cycloadd_oniom/o4_upm6_UB3LYP_631Gd_4_4_graphene_mult_3_restart_2.com\" target = \"_blank\">com</a></td><td><input type=\"button\" value=\"Smart Log\" id=\"o4_upm6_UB3LYP_631Gd_4_4_graphene_mult_3_restart_2\" onclick=\"IPython.cc_notebook.view_function(event, this.id)\" /></td><td>Success</td></tr><tr><td>o4_uHF_STO-3G_UB3LYP_631Gd_4_4_graphene_mult_3_restart_2</td><td><a href = \"files/graphene_cycloadditions/unrestricted_cycloadd_oniom/o4_uHF_STO-3G_UB3LYP_631Gd_4_4_graphene_mult_3_restart_2.com\" target = \"_blank\">com</a></td><td><input type=\"button\" value=\"Smart Log\" id=\"o4_uHF_STO-3G_UB3LYP_631Gd_4_4_graphene_mult_3_restart_2\" onclick=\"IPython.cc_notebook.view_function(event, this.id)\" /></td><td>Success</td></tr><tr><td>o_sanity_UB3LYP_631Gd_4_4_graphene_restart_2</td><td><a href = \"files/graphene_cycloadditions/unrestricted_cycloadd_oniom/o_sanity_UB3LYP_631Gd_4_4_graphene_restart_2.com\" target = \"_blank\">com</a></td><td><input type=\"button\" value=\"Smart Log\" id=\"o_sanity_UB3LYP_631Gd_4_4_graphene_restart_2\" onclick=\"IPython.cc_notebook.view_function(event, this.id)\" /></td><td>Error: Basis set data is not on the checkpoint file.</td></tr>\n",
        "    </table>\n",
        "    </body>"
       ],
       "metadata": {},
       "output_type": "pyout",
       "prompt_number": 22,
       "text": [
        "<IPython.core.display.HTML at 0x7f12f61abdd0>"
       ]
      }
     ],
     "prompt_number": 22
    },
    {
     "cell_type": "markdown",
     "metadata": {},
     "source": [
      "Let's see if any of the methods favour a high spin configuration for the reaction product at this geometry:"
     ]
    },
    {
     "cell_type": "code",
     "collapsed": false,
     "input": [
      "any([(m1,m3) for (m1,m3) in zip(o_44_carb, o_44_carb_m3_stable) if m3.calc.energy_zero < m1.calc.energy_zero])"
     ],
     "language": "python",
     "metadata": {},
     "outputs": [
      {
       "metadata": {},
       "output_type": "pyout",
       "prompt_number": 23,
       "text": [
        "False"
       ]
      }
     ],
     "prompt_number": 23
    },
    {
     "cell_type": "markdown",
     "metadata": {},
     "source": [
      "And if any of the methods favour a high spin configuration for the graphene at this geometry:"
     ]
    },
    {
     "cell_type": "code",
     "collapsed": false,
     "input": [
      "any([(m1,m3) for (m1,m3) in zip(o_44, o_44_m3_stable) if m3.calc.energy_zero < m1.calc.energy_zero])"
     ],
     "language": "python",
     "metadata": {},
     "outputs": [
      {
       "metadata": {},
       "output_type": "pyout",
       "prompt_number": 24,
       "text": [
        "False"
       ]
      }
     ],
     "prompt_number": 24
    },
    {
     "cell_type": "code",
     "collapsed": false,
     "input": [
      "carb = read('../cycloadd/B3LYP_631Gd_B3LYP_631Gd_carbonyl_ylide_mult_1.log')"
     ],
     "language": "python",
     "metadata": {},
     "outputs": [],
     "prompt_number": 25
    },
    {
     "cell_type": "code",
     "collapsed": false,
     "input": [
      "def rxn_E_f(a,g):\n",
      "    try: \n",
      "        return(a.calc.energy_zero - g.calc.energy_zero - carb.calc.results['energy'])* 23.060542301388647 \n",
      "    except AttributeError: \n",
      "        return float('nan')\n",
      "    \n",
      "rxn_Es = []\n",
      "delt_Es = []\n",
      "abs_delt_Es = []\n",
      "names = []\n",
      "\n",
      "for i in range(len(o_44_carb))[:-1]:\n",
      "    rxn_E = rxn_E_f(o_44_carb[i], o_44[i])\n",
      "    delt_E = rxn_E - -15.925565\n",
      "    name = o_44_carb[i].calc.label\n",
      "    rxn_Es.append(rxn_E)\n",
      "    delt_Es.append(delt_E)\n",
      "    abs_delt_Es.append(abs(delt_E))\n",
      "    names.append(name)\n",
      "\n",
      "o_data = pandas.Series(rxn_Es ,names)\n",
      "o_dft_delt_data = pandas.Series(delt_Es, names)\n",
      "o_dft_abs_delt_data = pandas.Series(abs_delt_Es, names)"
     ],
     "language": "python",
     "metadata": {},
     "outputs": [],
     "prompt_number": 26
    },
    {
     "cell_type": "code",
     "collapsed": false,
     "input": [
      "#energy in Kcal/mol\n",
      "d = {'Rxn Energy': o_data, 'oniom-b3lyp_delta': o_dft_delt_data, 'oniom-b3lyp_abs_delta': o_dft_abs_delt_data}\n",
      "rxn_frame = pandas.DataFrame(d)\n",
      "#rxn_frame.save('o_rxn_E_data.pickle')\n",
      "rxn_frame"
     ],
     "language": "python",
     "metadata": {},
     "outputs": [
      {
       "html": [
        "<div style=\"max-height:1000px;max-width:1500px;overflow:auto;\">\n",
        "<table border=\"1\" class=\"dataframe\">\n",
        "  <thead>\n",
        "    <tr style=\"text-align: right;\">\n",
        "      <th></th>\n",
        "      <th>Rxn Energy</th>\n",
        "      <th>oniom-b3lyp_abs_delta</th>\n",
        "      <th>oniom-b3lyp_delta</th>\n",
        "    </tr>\n",
        "  </thead>\n",
        "  <tbody>\n",
        "    <tr>\n",
        "      <th>o0_uam1_UB3LYP_631Gd_4_4_cent_carbonyl_restart_1</th>\n",
        "      <td>-24.825684</td>\n",
        "      <td>  8.900119</td>\n",
        "      <td> -8.900119</td>\n",
        "    </tr>\n",
        "    <tr>\n",
        "      <th>o0_upm6_UB3LYP_631Gd_4_4_cent_carbonyl_restart_1</th>\n",
        "      <td>-47.340658</td>\n",
        "      <td> 31.415093</td>\n",
        "      <td>-31.415093</td>\n",
        "    </tr>\n",
        "    <tr>\n",
        "      <th>o0_uHF_STO-3G_UB3LYP_631Gd_4_4_cent_carbonyl_restart_1</th>\n",
        "      <td> -6.130561</td>\n",
        "      <td>  9.795004</td>\n",
        "      <td>  9.795004</td>\n",
        "    </tr>\n",
        "    <tr>\n",
        "      <th>o1_uam1_UB3LYP_631Gd_4_4_cent_carbonyl_restart_1</th>\n",
        "      <td>-10.168714</td>\n",
        "      <td>  5.756851</td>\n",
        "      <td>  5.756851</td>\n",
        "    </tr>\n",
        "    <tr>\n",
        "      <th>o1_upm6_UB3LYP_631Gd_4_4_cent_carbonyl_restart_1</th>\n",
        "      <td>-12.079486</td>\n",
        "      <td>  3.846079</td>\n",
        "      <td>  3.846079</td>\n",
        "    </tr>\n",
        "    <tr>\n",
        "      <th>o1_uHF_STO-3G_UB3LYP_631Gd_4_4_cent_carbonyl_restart_1</th>\n",
        "      <td>-11.037979</td>\n",
        "      <td>  4.887586</td>\n",
        "      <td>  4.887586</td>\n",
        "    </tr>\n",
        "    <tr>\n",
        "      <th>o2_uam1_UB3LYP_631Gd_4_4_cent_carbonyl_restart_1</th>\n",
        "      <td>-15.253039</td>\n",
        "      <td>  0.672526</td>\n",
        "      <td>  0.672526</td>\n",
        "    </tr>\n",
        "    <tr>\n",
        "      <th>o2_upm6_UB3LYP_631Gd_4_4_cent_carbonyl_restart_1</th>\n",
        "      <td>-15.507957</td>\n",
        "      <td>  0.417608</td>\n",
        "      <td>  0.417608</td>\n",
        "    </tr>\n",
        "    <tr>\n",
        "      <th>o2_uHF_STO-3G_UB3LYP_631Gd_4_4_cent_carbonyl_restart_1</th>\n",
        "      <td>-10.429158</td>\n",
        "      <td>  5.496407</td>\n",
        "      <td>  5.496407</td>\n",
        "    </tr>\n",
        "    <tr>\n",
        "      <th>o3_uam1_UB3LYP_631Gd_4_4_cent_carbonyl_restart_1</th>\n",
        "      <td>-25.626613</td>\n",
        "      <td>  9.701048</td>\n",
        "      <td> -9.701048</td>\n",
        "    </tr>\n",
        "    <tr>\n",
        "      <th>o3_upm6_UB3LYP_631Gd_4_4_cent_carbonyl_restart_1</th>\n",
        "      <td>-25.864009</td>\n",
        "      <td>  9.938444</td>\n",
        "      <td> -9.938444</td>\n",
        "    </tr>\n",
        "    <tr>\n",
        "      <th>o3_uHF_STO-3G_UB3LYP_631Gd_4_4_cent_carbonyl_restart_1</th>\n",
        "      <td>-22.763059</td>\n",
        "      <td>  6.837494</td>\n",
        "      <td> -6.837494</td>\n",
        "    </tr>\n",
        "    <tr>\n",
        "      <th>o4_uam1_UB3LYP_631Gd_4_4_cent_carbonyl_restart_1</th>\n",
        "      <td> -7.231346</td>\n",
        "      <td>  8.694219</td>\n",
        "      <td>  8.694219</td>\n",
        "    </tr>\n",
        "    <tr>\n",
        "      <th>o4_upm6_UB3LYP_631Gd_4_4_cent_carbonyl_restart_1</th>\n",
        "      <td> -8.448227</td>\n",
        "      <td>  7.477338</td>\n",
        "      <td>  7.477338</td>\n",
        "    </tr>\n",
        "    <tr>\n",
        "      <th>o4_uHF_STO-3G_UB3LYP_631Gd_4_4_cent_carbonyl_restart_1</th>\n",
        "      <td> -7.373049</td>\n",
        "      <td>  8.552516</td>\n",
        "      <td>  8.552516</td>\n",
        "    </tr>\n",
        "  </tbody>\n",
        "</table>\n",
        "<p>15 rows \u00d7 3 columns</p>\n",
        "</div>"
       ],
       "metadata": {},
       "output_type": "pyout",
       "prompt_number": 27,
       "text": [
        "                                                        Rxn Energy  \\\n",
        "o0_uam1_UB3LYP_631Gd_4_4_cent_carbonyl_restart_1        -24.825684   \n",
        "o0_upm6_UB3LYP_631Gd_4_4_cent_carbonyl_restart_1        -47.340658   \n",
        "o0_uHF_STO-3G_UB3LYP_631Gd_4_4_cent_carbonyl_restart_1   -6.130561   \n",
        "o1_uam1_UB3LYP_631Gd_4_4_cent_carbonyl_restart_1        -10.168714   \n",
        "o1_upm6_UB3LYP_631Gd_4_4_cent_carbonyl_restart_1        -12.079486   \n",
        "o1_uHF_STO-3G_UB3LYP_631Gd_4_4_cent_carbonyl_restart_1  -11.037979   \n",
        "o2_uam1_UB3LYP_631Gd_4_4_cent_carbonyl_restart_1        -15.253039   \n",
        "o2_upm6_UB3LYP_631Gd_4_4_cent_carbonyl_restart_1        -15.507957   \n",
        "o2_uHF_STO-3G_UB3LYP_631Gd_4_4_cent_carbonyl_restart_1  -10.429158   \n",
        "o3_uam1_UB3LYP_631Gd_4_4_cent_carbonyl_restart_1        -25.626613   \n",
        "o3_upm6_UB3LYP_631Gd_4_4_cent_carbonyl_restart_1        -25.864009   \n",
        "o3_uHF_STO-3G_UB3LYP_631Gd_4_4_cent_carbonyl_restart_1  -22.763059   \n",
        "o4_uam1_UB3LYP_631Gd_4_4_cent_carbonyl_restart_1         -7.231346   \n",
        "o4_upm6_UB3LYP_631Gd_4_4_cent_carbonyl_restart_1         -8.448227   \n",
        "o4_uHF_STO-3G_UB3LYP_631Gd_4_4_cent_carbonyl_restart_1   -7.373049   \n",
        "\n",
        "                                                        oniom-b3lyp_abs_delta  \\\n",
        "o0_uam1_UB3LYP_631Gd_4_4_cent_carbonyl_restart_1                     8.900119   \n",
        "o0_upm6_UB3LYP_631Gd_4_4_cent_carbonyl_restart_1                    31.415093   \n",
        "o0_uHF_STO-3G_UB3LYP_631Gd_4_4_cent_carbonyl_restart_1               9.795004   \n",
        "o1_uam1_UB3LYP_631Gd_4_4_cent_carbonyl_restart_1                     5.756851   \n",
        "o1_upm6_UB3LYP_631Gd_4_4_cent_carbonyl_restart_1                     3.846079   \n",
        "o1_uHF_STO-3G_UB3LYP_631Gd_4_4_cent_carbonyl_restart_1               4.887586   \n",
        "o2_uam1_UB3LYP_631Gd_4_4_cent_carbonyl_restart_1                     0.672526   \n",
        "o2_upm6_UB3LYP_631Gd_4_4_cent_carbonyl_restart_1                     0.417608   \n",
        "o2_uHF_STO-3G_UB3LYP_631Gd_4_4_cent_carbonyl_restart_1               5.496407   \n",
        "o3_uam1_UB3LYP_631Gd_4_4_cent_carbonyl_restart_1                     9.701048   \n",
        "o3_upm6_UB3LYP_631Gd_4_4_cent_carbonyl_restart_1                     9.938444   \n",
        "o3_uHF_STO-3G_UB3LYP_631Gd_4_4_cent_carbonyl_restart_1               6.837494   \n",
        "o4_uam1_UB3LYP_631Gd_4_4_cent_carbonyl_restart_1                     8.694219   \n",
        "o4_upm6_UB3LYP_631Gd_4_4_cent_carbonyl_restart_1                     7.477338   \n",
        "o4_uHF_STO-3G_UB3LYP_631Gd_4_4_cent_carbonyl_restart_1               8.552516   \n",
        "\n",
        "                                                        oniom-b3lyp_delta  \n",
        "o0_uam1_UB3LYP_631Gd_4_4_cent_carbonyl_restart_1                -8.900119  \n",
        "o0_upm6_UB3LYP_631Gd_4_4_cent_carbonyl_restart_1               -31.415093  \n",
        "o0_uHF_STO-3G_UB3LYP_631Gd_4_4_cent_carbonyl_restart_1           9.795004  \n",
        "o1_uam1_UB3LYP_631Gd_4_4_cent_carbonyl_restart_1                 5.756851  \n",
        "o1_upm6_UB3LYP_631Gd_4_4_cent_carbonyl_restart_1                 3.846079  \n",
        "o1_uHF_STO-3G_UB3LYP_631Gd_4_4_cent_carbonyl_restart_1           4.887586  \n",
        "o2_uam1_UB3LYP_631Gd_4_4_cent_carbonyl_restart_1                 0.672526  \n",
        "o2_upm6_UB3LYP_631Gd_4_4_cent_carbonyl_restart_1                 0.417608  \n",
        "o2_uHF_STO-3G_UB3LYP_631Gd_4_4_cent_carbonyl_restart_1           5.496407  \n",
        "o3_uam1_UB3LYP_631Gd_4_4_cent_carbonyl_restart_1                -9.701048  \n",
        "o3_upm6_UB3LYP_631Gd_4_4_cent_carbonyl_restart_1                -9.938444  \n",
        "o3_uHF_STO-3G_UB3LYP_631Gd_4_4_cent_carbonyl_restart_1          -6.837494  \n",
        "o4_uam1_UB3LYP_631Gd_4_4_cent_carbonyl_restart_1                 8.694219  \n",
        "o4_upm6_UB3LYP_631Gd_4_4_cent_carbonyl_restart_1                 7.477338  \n",
        "o4_uHF_STO-3G_UB3LYP_631Gd_4_4_cent_carbonyl_restart_1           8.552516  \n",
        "\n",
        "[15 rows x 3 columns]"
       ]
      }
     ],
     "prompt_number": 27
    },
    {
     "cell_type": "markdown",
     "metadata": {},
     "source": [
      "o2_ump6 is good."
     ]
    },
    {
     "cell_type": "code",
     "collapsed": false,
     "input": [
      "m3_rxn_Es = []\n",
      "m3_delt_Es = []\n",
      "m3_names = []\n",
      "\n",
      "for i in range(len(o_44_carb_m3_stable))[:-1]:\n",
      "    rxn_E = rxn_E_f(o_44_carb_m3_stable[i], o_44[i])\n",
      "    delt_E = rxn_E - -15.790776\n",
      "    name = o_44_carb_m3_stable[i].calc.label\n",
      "    m3_rxn_Es.append(rxn_E)\n",
      "    m3_delt_Es.append(delt_E)\n",
      "    m3_names.append(name)\n",
      "\n",
      "m3_o_data = pandas.Series(m3_rxn_Es ,m3_names)\n",
      "m3_o_dft_delt_data = pandas.Series(m3_delt_Es, m3_names)"
     ],
     "language": "python",
     "metadata": {},
     "outputs": [],
     "prompt_number": 28
    },
    {
     "cell_type": "code",
     "collapsed": false,
     "input": [
      "#energy in Kcal/mol\n",
      "d2 = {'Rxn Energy': m3_o_data, 'oniom-b3lyp_delta': m3_o_dft_delt_data}\n",
      "rxn_frame2 = pandas.DataFrame(d2)\n",
      "#rxn_frame.save('o_rxn_E_data.pickle')\n",
      "rxn_frame2"
     ],
     "language": "python",
     "metadata": {},
     "outputs": [
      {
       "html": [
        "<div style=\"max-height:1000px;max-width:1500px;overflow:auto;\">\n",
        "<table border=\"1\" class=\"dataframe\">\n",
        "  <thead>\n",
        "    <tr style=\"text-align: right;\">\n",
        "      <th></th>\n",
        "      <th>Rxn Energy</th>\n",
        "      <th>oniom-b3lyp_delta</th>\n",
        "    </tr>\n",
        "  </thead>\n",
        "  <tbody>\n",
        "    <tr>\n",
        "      <th>o0_uam1_UB3LYP_631Gd_4_4_cent_carbonyl_mult_3_restart_2</th>\n",
        "      <td> 79.284703</td>\n",
        "      <td> 95.075479</td>\n",
        "    </tr>\n",
        "    <tr>\n",
        "      <th>o0_upm6_UB3LYP_631Gd_4_4_cent_carbonyl_mult_3_restart_2</th>\n",
        "      <td> 73.532778</td>\n",
        "      <td> 89.323554</td>\n",
        "    </tr>\n",
        "    <tr>\n",
        "      <th>o0_uHF_STO-3G_UB3LYP_631Gd_4_4_cent_carbonyl_mult_3_restart_2</th>\n",
        "      <td> 14.232789</td>\n",
        "      <td> 30.023565</td>\n",
        "    </tr>\n",
        "    <tr>\n",
        "      <th>o1_uam1_UB3LYP_631Gd_4_4_cent_carbonyl_mult_3_restart_2</th>\n",
        "      <td> 36.646682</td>\n",
        "      <td> 52.437458</td>\n",
        "    </tr>\n",
        "    <tr>\n",
        "      <th>o1_upm6_UB3LYP_631Gd_4_4_cent_carbonyl_mult_3_restart_2</th>\n",
        "      <td> 29.005741</td>\n",
        "      <td> 44.796517</td>\n",
        "    </tr>\n",
        "    <tr>\n",
        "      <th>o1_uHF_STO-3G_UB3LYP_631Gd_4_4_cent_carbonyl_mult_3_restart_2</th>\n",
        "      <td> 71.872064</td>\n",
        "      <td> 87.662840</td>\n",
        "    </tr>\n",
        "    <tr>\n",
        "      <th>o2_uam1_UB3LYP_631Gd_4_4_cent_carbonyl_mult_3_restart_2</th>\n",
        "      <td> 21.185813</td>\n",
        "      <td> 36.976589</td>\n",
        "    </tr>\n",
        "    <tr>\n",
        "      <th>o2_upm6_UB3LYP_631Gd_4_4_cent_carbonyl_mult_3_restart_2</th>\n",
        "      <td> 17.920317</td>\n",
        "      <td> 33.711093</td>\n",
        "    </tr>\n",
        "    <tr>\n",
        "      <th>o2_uHF_STO-3G_UB3LYP_631Gd_4_4_cent_carbonyl_mult_3_restart_2</th>\n",
        "      <td> 45.791188</td>\n",
        "      <td> 61.581964</td>\n",
        "    </tr>\n",
        "    <tr>\n",
        "      <th>o3_uam1_UB3LYP_631Gd_4_4_cent_carbonyl_mult_3_restart_2</th>\n",
        "      <td> -5.431824</td>\n",
        "      <td> 10.358952</td>\n",
        "    </tr>\n",
        "    <tr>\n",
        "      <th>o3_upm6_UB3LYP_631Gd_4_4_cent_carbonyl_mult_3_restart_2</th>\n",
        "      <td>-11.638075</td>\n",
        "      <td>  4.152701</td>\n",
        "    </tr>\n",
        "    <tr>\n",
        "      <th>o3_uHF_STO-3G_UB3LYP_631Gd_4_4_cent_carbonyl_mult_3_restart_2</th>\n",
        "      <td>  7.354330</td>\n",
        "      <td> 23.145106</td>\n",
        "    </tr>\n",
        "    <tr>\n",
        "      <th>o4_uam1_UB3LYP_631Gd_4_4_cent_carbonyl_mult_3_restart_2</th>\n",
        "      <td>  4.111374</td>\n",
        "      <td> 19.902150</td>\n",
        "    </tr>\n",
        "    <tr>\n",
        "      <th>o4_upm6_UB3LYP_631Gd_4_4_cent_carbonyl_mult_3_restart_2</th>\n",
        "      <td>  4.083585</td>\n",
        "      <td> 19.874361</td>\n",
        "    </tr>\n",
        "    <tr>\n",
        "      <th>o4_uHF_STO-3G_UB3LYP_631Gd_4_4_cent_carbonyl_mult_3_restart_2</th>\n",
        "      <td>  3.529600</td>\n",
        "      <td> 19.320376</td>\n",
        "    </tr>\n",
        "  </tbody>\n",
        "</table>\n",
        "<p>15 rows \u00d7 2 columns</p>\n",
        "</div>"
       ],
       "metadata": {},
       "output_type": "pyout",
       "prompt_number": 29,
       "text": [
        "                                                               Rxn Energy  \\\n",
        "o0_uam1_UB3LYP_631Gd_4_4_cent_carbonyl_mult_3_restart_2         79.284703   \n",
        "o0_upm6_UB3LYP_631Gd_4_4_cent_carbonyl_mult_3_restart_2         73.532778   \n",
        "o0_uHF_STO-3G_UB3LYP_631Gd_4_4_cent_carbonyl_mult_3_restart_2   14.232789   \n",
        "o1_uam1_UB3LYP_631Gd_4_4_cent_carbonyl_mult_3_restart_2         36.646682   \n",
        "o1_upm6_UB3LYP_631Gd_4_4_cent_carbonyl_mult_3_restart_2         29.005741   \n",
        "o1_uHF_STO-3G_UB3LYP_631Gd_4_4_cent_carbonyl_mult_3_restart_2   71.872064   \n",
        "o2_uam1_UB3LYP_631Gd_4_4_cent_carbonyl_mult_3_restart_2         21.185813   \n",
        "o2_upm6_UB3LYP_631Gd_4_4_cent_carbonyl_mult_3_restart_2         17.920317   \n",
        "o2_uHF_STO-3G_UB3LYP_631Gd_4_4_cent_carbonyl_mult_3_restart_2   45.791188   \n",
        "o3_uam1_UB3LYP_631Gd_4_4_cent_carbonyl_mult_3_restart_2         -5.431824   \n",
        "o3_upm6_UB3LYP_631Gd_4_4_cent_carbonyl_mult_3_restart_2        -11.638075   \n",
        "o3_uHF_STO-3G_UB3LYP_631Gd_4_4_cent_carbonyl_mult_3_restart_2    7.354330   \n",
        "o4_uam1_UB3LYP_631Gd_4_4_cent_carbonyl_mult_3_restart_2          4.111374   \n",
        "o4_upm6_UB3LYP_631Gd_4_4_cent_carbonyl_mult_3_restart_2          4.083585   \n",
        "o4_uHF_STO-3G_UB3LYP_631Gd_4_4_cent_carbonyl_mult_3_restart_2    3.529600   \n",
        "\n",
        "                                                               oniom-b3lyp_delta  \n",
        "o0_uam1_UB3LYP_631Gd_4_4_cent_carbonyl_mult_3_restart_2                95.075479  \n",
        "o0_upm6_UB3LYP_631Gd_4_4_cent_carbonyl_mult_3_restart_2                89.323554  \n",
        "o0_uHF_STO-3G_UB3LYP_631Gd_4_4_cent_carbonyl_mult_3_restart_2          30.023565  \n",
        "o1_uam1_UB3LYP_631Gd_4_4_cent_carbonyl_mult_3_restart_2                52.437458  \n",
        "o1_upm6_UB3LYP_631Gd_4_4_cent_carbonyl_mult_3_restart_2                44.796517  \n",
        "o1_uHF_STO-3G_UB3LYP_631Gd_4_4_cent_carbonyl_mult_3_restart_2          87.662840  \n",
        "o2_uam1_UB3LYP_631Gd_4_4_cent_carbonyl_mult_3_restart_2                36.976589  \n",
        "o2_upm6_UB3LYP_631Gd_4_4_cent_carbonyl_mult_3_restart_2                33.711093  \n",
        "o2_uHF_STO-3G_UB3LYP_631Gd_4_4_cent_carbonyl_mult_3_restart_2          61.581964  \n",
        "o3_uam1_UB3LYP_631Gd_4_4_cent_carbonyl_mult_3_restart_2                10.358952  \n",
        "o3_upm6_UB3LYP_631Gd_4_4_cent_carbonyl_mult_3_restart_2                 4.152701  \n",
        "o3_uHF_STO-3G_UB3LYP_631Gd_4_4_cent_carbonyl_mult_3_restart_2          23.145106  \n",
        "o4_uam1_UB3LYP_631Gd_4_4_cent_carbonyl_mult_3_restart_2                19.902150  \n",
        "o4_upm6_UB3LYP_631Gd_4_4_cent_carbonyl_mult_3_restart_2                19.874361  \n",
        "o4_uHF_STO-3G_UB3LYP_631Gd_4_4_cent_carbonyl_mult_3_restart_2          19.320376  \n",
        "\n",
        "[15 rows x 2 columns]"
       ]
      }
     ],
     "prompt_number": 29
    },
    {
     "cell_type": "heading",
     "level": 1,
     "metadata": {},
     "source": [
      "Single Point calculations at the Unrestricted geometry:"
     ]
    },
    {
     "cell_type": "code",
     "collapsed": false,
     "input": [
      "cd correction"
     ],
     "language": "python",
     "metadata": {},
     "outputs": [
      {
       "output_type": "stream",
       "stream": "stdout",
       "text": [
        "/home/clyde/Dropbox/Project Stuff/Notebooks/graphene_cycloadditions/unrestricted_cycloadd_oniom/correction\n"
       ]
      }
     ],
     "prompt_number": 30
    },
    {
     "cell_type": "code",
     "collapsed": false,
     "input": [
      "carb_44_xyz = '../oniom_xyz_files/non_oniom_final/UB3LYP_631Gd_UB3LYP_631Gd_4_4_cent_carbonyl_final.xyz'\n",
      "azo_44_xyz = '../oniom_xyz_files/non_oniom_final/UB3LYP_631Gd_UB3LYP_631Gd_4_4_cent_azomethine_v2_final.xyz'\n",
      "graph_44_xyz = '../oniom_xyz_files/non_oniom_final/UB3LYP_631Gd_UB3LYP_631Gd_4_4_graphene_final.xyz'"
     ],
     "language": "python",
     "metadata": {},
     "outputs": [],
     "prompt_number": 31
    },
    {
     "cell_type": "code",
     "collapsed": false,
     "input": [
      "o_44_carb = []\n",
      "o_44 = []\n",
      "\n",
      "for siz in range(5):\n",
      "    for meth in l_methods:\n",
      "        graph_ylid = read(carb_44_xyz)\n",
      "        graph_ylid_name = 'o{s}_{m}_UB3LYP_631Gd_4_4_cent_carbonyl_stable'.format(m=meth.replace('/', '_'), s=siz)\n",
      "        graph_ylid.set_calculator(Gaussian(label=graph_ylid_name, method='oniom(UB3LYP/6-31G(d):{l})=OnlyInputFiles'.format(l=meth), basis='oniom'))\n",
      "        graph_ylid_H = ylide_atoms + graph_atoms[siz]\n",
      "        graph_ylid.calc.oniom_coord_params['layers'] = [[no -1 for no in graph_ylid_H]]\n",
      "        graph_ylid.calc.oniom_coord_params['layer_mults'] = [1,1]\n",
      "        graph_ylid.calc.set_job(nodes=1, memory=400, time=1, queue='pqmb')\n",
      "        \n",
      "        graph = read(graph_44_xyz)\n",
      "        graph_name = 'o{s}_{m}_UB3LYP_631Gd_4_4_graphene_stable'.format(m=meth.replace('/', '_'), s=siz)\n",
      "        graph.set_calculator(Gaussian(label=graph_name, method='oniom(UB3LYP/6-31G(d):{l})=OnlyInputFiles'.format(l=meth), basis='oniom'))\n",
      "        graph_H = graph_atoms[siz]\n",
      "        graph.calc.oniom_coord_params['layers'] = [[no -1 for no in graph_H]]\n",
      "        graph.calc.oniom_coord_params['layer_mults'] = [1,1]\n",
      "        graph.calc.set_job(nodes=1, memory=1*400, time=1, queue='pqmb')\n",
      "        \n",
      "        #graph_ylid.calc.start()\n",
      "        #graph.calc.start()\n",
      "        o_44_carb.append(graph_ylid)\n",
      "        o_44.append(graph)\n",
      "        \n",
      "#sanity check\n",
      "graph_ylid = read(carb_44_xyz)\n",
      "graph_ylid_name = 'o_sanity_UB3LYP_631Gd_4_4_cent_carbonyl_stable'\n",
      "graph_ylid.set_calculator(Gaussian(label=graph_ylid_name, method='oniom(UB3LYP/6-31G(d):UB3LYP/6-31G(d))=OnlyInputFiles', basis='oniom'))\n",
      "graph_ylid_H = ylide_atoms + graph_atoms[0]\n",
      "graph_ylid.calc.oniom_coord_params['layers'] = [[no -1 for no in graph_ylid_H]]\n",
      "graph_ylid.calc.oniom_coord_params['layer_mults'] = [1,1]\n",
      "graph_ylid.calc.set_job(nodes=1, memory=1*400, time=1, queue='pqmb')\n",
      "        \n",
      "graph = read(graph_44_xyz)\n",
      "graph_name = 'o_sanity_UB3LYP_631Gd_4_4_graphene_stable'\n",
      "graph.set_calculator(Gaussian(label=graph_name, method='oniom(UB3LYP/6-31G(d):UB3LYP/6-31G(d))=OnlyInputFiles', basis='oniom'))\n",
      "graph_H = graph_atoms[0]\n",
      "graph.calc.oniom_coord_params['layers'] = [[no -1 for no in graph_H]]\n",
      "graph.calc.oniom_coord_params['layer_mults'] = [1,1]\n",
      "graph.calc.set_job(nodes=1, memory=400, time=1, queue='pqmb')\n",
      "        \n",
      "#graph_ylid.calc.start()\n",
      "#graph.calc.start()\n",
      "o_44_carb.append(graph_ylid)\n",
      "o_44.append(graph)\n",
      "check_calcs(o_44 + o_44_carb)"
     ],
     "language": "python",
     "metadata": {},
     "outputs": [
      {
       "metadata": {},
       "output_type": "pyout",
       "prompt_number": 32,
       "text": [
        "'Calculations complete'"
       ]
      }
     ],
     "prompt_number": 32
    },
    {
     "cell_type": "code",
     "collapsed": false,
     "input": [
      "import oniom_utils\n",
      "ul_rls, uh_mds, ul_mds = oniom_utils.oniom_comp_calcs(o_44 + o_44_carb, stable='opt')\n",
      "for c in ul_rls + uh_mds + ul_mds:\n",
      "    c.calc.set_job(nodes=8, memory=8*1400, time=5, queue='pqmb')\n",
      "    #c.calc.start()"
     ],
     "language": "python",
     "metadata": {},
     "outputs": [],
     "prompt_number": 33
    },
    {
     "cell_type": "code",
     "collapsed": false,
     "input": [
      "check_calcs(ul_rls + uh_mds + ul_mds)\n",
      "mols_to_html(ul_rls + uh_mds + ul_mds)"
     ],
     "language": "python",
     "metadata": {},
     "outputs": [
      {
       "html": [
        "\n",
        "    <style>\n",
        "    table\n",
        "    {\n",
        "        border-collapse:collapse;\n",
        "    }\n",
        "    td\n",
        "    {\n",
        "        padding:15px;\n",
        "    }\n",
        "    </style>\n",
        "    <body>\n",
        "    <table bgcolor=\"white\">\n",
        "    <col/><tr><td>o0_uam1_UB3LYP_631Gd_4_4_graphene_stable_low_real</td><td><a href = \"files/graphene_cycloadditions/unrestricted_cycloadd_oniom/correction/o0_uam1_UB3LYP_631Gd_4_4_graphene_stable_low_real.com\" target = \"_blank\">com</a></td><td><input type=\"button\" value=\"Smart Log\" id=\"o0_uam1_UB3LYP_631Gd_4_4_graphene_stable_low_real\" onclick=\"IPython.cc_notebook.view_function(event, this.id)\" /></td><td>Success</td></tr><tr><td>o0_upm6_UB3LYP_631Gd_4_4_graphene_stable_low_real</td><td><a href = \"files/graphene_cycloadditions/unrestricted_cycloadd_oniom/correction/o0_upm6_UB3LYP_631Gd_4_4_graphene_stable_low_real.com\" target = \"_blank\">com</a></td><td><input type=\"button\" value=\"Smart Log\" id=\"o0_upm6_UB3LYP_631Gd_4_4_graphene_stable_low_real\" onclick=\"IPython.cc_notebook.view_function(event, this.id)\" /></td><td>Success</td></tr><tr><td>o0_uHF_STO-3G_UB3LYP_631Gd_4_4_graphene_stable_low_real</td><td><a href = \"files/graphene_cycloadditions/unrestricted_cycloadd_oniom/correction/o0_uHF_STO-3G_UB3LYP_631Gd_4_4_graphene_stable_low_real.com\" target = \"_blank\">com</a></td><td><input type=\"button\" value=\"Smart Log\" id=\"o0_uHF_STO-3G_UB3LYP_631Gd_4_4_graphene_stable_low_real\" onclick=\"IPython.cc_notebook.view_function(event, this.id)\" /></td><td>Success</td></tr><tr><td>o1_uam1_UB3LYP_631Gd_4_4_graphene_stable_low_real</td><td><a href = \"files/graphene_cycloadditions/unrestricted_cycloadd_oniom/correction/o1_uam1_UB3LYP_631Gd_4_4_graphene_stable_low_real.com\" target = \"_blank\">com</a></td><td><input type=\"button\" value=\"Smart Log\" id=\"o1_uam1_UB3LYP_631Gd_4_4_graphene_stable_low_real\" onclick=\"IPython.cc_notebook.view_function(event, this.id)\" /></td><td>Success</td></tr><tr><td>o1_upm6_UB3LYP_631Gd_4_4_graphene_stable_low_real</td><td><a href = \"files/graphene_cycloadditions/unrestricted_cycloadd_oniom/correction/o1_upm6_UB3LYP_631Gd_4_4_graphene_stable_low_real.com\" target = \"_blank\">com</a></td><td><input type=\"button\" value=\"Smart Log\" id=\"o1_upm6_UB3LYP_631Gd_4_4_graphene_stable_low_real\" onclick=\"IPython.cc_notebook.view_function(event, this.id)\" /></td><td>Success</td></tr><tr><td>o1_uHF_STO-3G_UB3LYP_631Gd_4_4_graphene_stable_low_real</td><td><a href = \"files/graphene_cycloadditions/unrestricted_cycloadd_oniom/correction/o1_uHF_STO-3G_UB3LYP_631Gd_4_4_graphene_stable_low_real.com\" target = \"_blank\">com</a></td><td><input type=\"button\" value=\"Smart Log\" id=\"o1_uHF_STO-3G_UB3LYP_631Gd_4_4_graphene_stable_low_real\" onclick=\"IPython.cc_notebook.view_function(event, this.id)\" /></td><td>Success</td></tr><tr><td>o2_uam1_UB3LYP_631Gd_4_4_graphene_stable_low_real</td><td><a href = \"files/graphene_cycloadditions/unrestricted_cycloadd_oniom/correction/o2_uam1_UB3LYP_631Gd_4_4_graphene_stable_low_real.com\" target = \"_blank\">com</a></td><td><input type=\"button\" value=\"Smart Log\" id=\"o2_uam1_UB3LYP_631Gd_4_4_graphene_stable_low_real\" onclick=\"IPython.cc_notebook.view_function(event, this.id)\" /></td><td>Success</td></tr><tr><td>o2_upm6_UB3LYP_631Gd_4_4_graphene_stable_low_real</td><td><a href = \"files/graphene_cycloadditions/unrestricted_cycloadd_oniom/correction/o2_upm6_UB3LYP_631Gd_4_4_graphene_stable_low_real.com\" target = \"_blank\">com</a></td><td><input type=\"button\" value=\"Smart Log\" id=\"o2_upm6_UB3LYP_631Gd_4_4_graphene_stable_low_real\" onclick=\"IPython.cc_notebook.view_function(event, this.id)\" /></td><td>Success</td></tr><tr><td>o2_uHF_STO-3G_UB3LYP_631Gd_4_4_graphene_stable_low_real</td><td><a href = \"files/graphene_cycloadditions/unrestricted_cycloadd_oniom/correction/o2_uHF_STO-3G_UB3LYP_631Gd_4_4_graphene_stable_low_real.com\" target = \"_blank\">com</a></td><td><input type=\"button\" value=\"Smart Log\" id=\"o2_uHF_STO-3G_UB3LYP_631Gd_4_4_graphene_stable_low_real\" onclick=\"IPython.cc_notebook.view_function(event, this.id)\" /></td><td>Success</td></tr><tr><td>o3_uam1_UB3LYP_631Gd_4_4_graphene_stable_low_real</td><td><a href = \"files/graphene_cycloadditions/unrestricted_cycloadd_oniom/correction/o3_uam1_UB3LYP_631Gd_4_4_graphene_stable_low_real.com\" target = \"_blank\">com</a></td><td><input type=\"button\" value=\"Smart Log\" id=\"o3_uam1_UB3LYP_631Gd_4_4_graphene_stable_low_real\" onclick=\"IPython.cc_notebook.view_function(event, this.id)\" /></td><td>Success</td></tr><tr><td>o3_upm6_UB3LYP_631Gd_4_4_graphene_stable_low_real</td><td><a href = \"files/graphene_cycloadditions/unrestricted_cycloadd_oniom/correction/o3_upm6_UB3LYP_631Gd_4_4_graphene_stable_low_real.com\" target = \"_blank\">com</a></td><td><input type=\"button\" value=\"Smart Log\" id=\"o3_upm6_UB3LYP_631Gd_4_4_graphene_stable_low_real\" onclick=\"IPython.cc_notebook.view_function(event, this.id)\" /></td><td>Success</td></tr><tr><td>o3_uHF_STO-3G_UB3LYP_631Gd_4_4_graphene_stable_low_real</td><td><a href = \"files/graphene_cycloadditions/unrestricted_cycloadd_oniom/correction/o3_uHF_STO-3G_UB3LYP_631Gd_4_4_graphene_stable_low_real.com\" target = \"_blank\">com</a></td><td><input type=\"button\" value=\"Smart Log\" id=\"o3_uHF_STO-3G_UB3LYP_631Gd_4_4_graphene_stable_low_real\" onclick=\"IPython.cc_notebook.view_function(event, this.id)\" /></td><td>Success</td></tr><tr><td>o4_uam1_UB3LYP_631Gd_4_4_graphene_stable_low_real</td><td><a href = \"files/graphene_cycloadditions/unrestricted_cycloadd_oniom/correction/o4_uam1_UB3LYP_631Gd_4_4_graphene_stable_low_real.com\" target = \"_blank\">com</a></td><td><input type=\"button\" value=\"Smart Log\" id=\"o4_uam1_UB3LYP_631Gd_4_4_graphene_stable_low_real\" onclick=\"IPython.cc_notebook.view_function(event, this.id)\" /></td><td>Success</td></tr><tr><td>o4_upm6_UB3LYP_631Gd_4_4_graphene_stable_low_real</td><td><a href = \"files/graphene_cycloadditions/unrestricted_cycloadd_oniom/correction/o4_upm6_UB3LYP_631Gd_4_4_graphene_stable_low_real.com\" target = \"_blank\">com</a></td><td><input type=\"button\" value=\"Smart Log\" id=\"o4_upm6_UB3LYP_631Gd_4_4_graphene_stable_low_real\" onclick=\"IPython.cc_notebook.view_function(event, this.id)\" /></td><td>Success</td></tr><tr><td>o4_uHF_STO-3G_UB3LYP_631Gd_4_4_graphene_stable_low_real</td><td><a href = \"files/graphene_cycloadditions/unrestricted_cycloadd_oniom/correction/o4_uHF_STO-3G_UB3LYP_631Gd_4_4_graphene_stable_low_real.com\" target = \"_blank\">com</a></td><td><input type=\"button\" value=\"Smart Log\" id=\"o4_uHF_STO-3G_UB3LYP_631Gd_4_4_graphene_stable_low_real\" onclick=\"IPython.cc_notebook.view_function(event, this.id)\" /></td><td>Success</td></tr><tr><td>o_sanity_UB3LYP_631Gd_4_4_graphene_stable_low_real</td><td><a href = \"files/graphene_cycloadditions/unrestricted_cycloadd_oniom/correction/o_sanity_UB3LYP_631Gd_4_4_graphene_stable_low_real.com\" target = \"_blank\">com</a></td><td><input type=\"button\" value=\"Smart Log\" id=\"o_sanity_UB3LYP_631Gd_4_4_graphene_stable_low_real\" onclick=\"IPython.cc_notebook.view_function(event, this.id)\" /></td><td>Error: TCursr= 1046 LCursr=   43</td></tr><tr><td>o0_uam1_UB3LYP_631Gd_4_4_cent_carbonyl_stable_low_real</td><td><a href = \"files/graphene_cycloadditions/unrestricted_cycloadd_oniom/correction/o0_uam1_UB3LYP_631Gd_4_4_cent_carbonyl_stable_low_real.com\" target = \"_blank\">com</a></td><td><input type=\"button\" value=\"Smart Log\" id=\"o0_uam1_UB3LYP_631Gd_4_4_cent_carbonyl_stable_low_real\" onclick=\"IPython.cc_notebook.view_function(event, this.id)\" /></td><td>Success</td></tr><tr><td>o0_upm6_UB3LYP_631Gd_4_4_cent_carbonyl_stable_low_real</td><td><a href = \"files/graphene_cycloadditions/unrestricted_cycloadd_oniom/correction/o0_upm6_UB3LYP_631Gd_4_4_cent_carbonyl_stable_low_real.com\" target = \"_blank\">com</a></td><td><input type=\"button\" value=\"Smart Log\" id=\"o0_upm6_UB3LYP_631Gd_4_4_cent_carbonyl_stable_low_real\" onclick=\"IPython.cc_notebook.view_function(event, this.id)\" /></td><td>Success</td></tr><tr><td>o0_uHF_STO-3G_UB3LYP_631Gd_4_4_cent_carbonyl_stable_low_real</td><td><a href = \"files/graphene_cycloadditions/unrestricted_cycloadd_oniom/correction/o0_uHF_STO-3G_UB3LYP_631Gd_4_4_cent_carbonyl_stable_low_real.com\" target = \"_blank\">com</a></td><td><input type=\"button\" value=\"Smart Log\" id=\"o0_uHF_STO-3G_UB3LYP_631Gd_4_4_cent_carbonyl_stable_low_real\" onclick=\"IPython.cc_notebook.view_function(event, this.id)\" /></td><td>Success</td></tr><tr><td>o1_uam1_UB3LYP_631Gd_4_4_cent_carbonyl_stable_low_real</td><td><a href = \"files/graphene_cycloadditions/unrestricted_cycloadd_oniom/correction/o1_uam1_UB3LYP_631Gd_4_4_cent_carbonyl_stable_low_real.com\" target = \"_blank\">com</a></td><td><input type=\"button\" value=\"Smart Log\" id=\"o1_uam1_UB3LYP_631Gd_4_4_cent_carbonyl_stable_low_real\" onclick=\"IPython.cc_notebook.view_function(event, this.id)\" /></td><td>Success</td></tr><tr><td>o1_upm6_UB3LYP_631Gd_4_4_cent_carbonyl_stable_low_real</td><td><a href = \"files/graphene_cycloadditions/unrestricted_cycloadd_oniom/correction/o1_upm6_UB3LYP_631Gd_4_4_cent_carbonyl_stable_low_real.com\" target = \"_blank\">com</a></td><td><input type=\"button\" value=\"Smart Log\" id=\"o1_upm6_UB3LYP_631Gd_4_4_cent_carbonyl_stable_low_real\" onclick=\"IPython.cc_notebook.view_function(event, this.id)\" /></td><td>Success</td></tr><tr><td>o1_uHF_STO-3G_UB3LYP_631Gd_4_4_cent_carbonyl_stable_low_real</td><td><a href = \"files/graphene_cycloadditions/unrestricted_cycloadd_oniom/correction/o1_uHF_STO-3G_UB3LYP_631Gd_4_4_cent_carbonyl_stable_low_real.com\" target = \"_blank\">com</a></td><td><input type=\"button\" value=\"Smart Log\" id=\"o1_uHF_STO-3G_UB3LYP_631Gd_4_4_cent_carbonyl_stable_low_real\" onclick=\"IPython.cc_notebook.view_function(event, this.id)\" /></td><td>Success</td></tr><tr><td>o2_uam1_UB3LYP_631Gd_4_4_cent_carbonyl_stable_low_real</td><td><a href = \"files/graphene_cycloadditions/unrestricted_cycloadd_oniom/correction/o2_uam1_UB3LYP_631Gd_4_4_cent_carbonyl_stable_low_real.com\" target = \"_blank\">com</a></td><td><input type=\"button\" value=\"Smart Log\" id=\"o2_uam1_UB3LYP_631Gd_4_4_cent_carbonyl_stable_low_real\" onclick=\"IPython.cc_notebook.view_function(event, this.id)\" /></td><td>Success</td></tr><tr><td>o2_upm6_UB3LYP_631Gd_4_4_cent_carbonyl_stable_low_real</td><td><a href = \"files/graphene_cycloadditions/unrestricted_cycloadd_oniom/correction/o2_upm6_UB3LYP_631Gd_4_4_cent_carbonyl_stable_low_real.com\" target = \"_blank\">com</a></td><td><input type=\"button\" value=\"Smart Log\" id=\"o2_upm6_UB3LYP_631Gd_4_4_cent_carbonyl_stable_low_real\" onclick=\"IPython.cc_notebook.view_function(event, this.id)\" /></td><td>Success</td></tr><tr><td>o2_uHF_STO-3G_UB3LYP_631Gd_4_4_cent_carbonyl_stable_low_real</td><td><a href = \"files/graphene_cycloadditions/unrestricted_cycloadd_oniom/correction/o2_uHF_STO-3G_UB3LYP_631Gd_4_4_cent_carbonyl_stable_low_real.com\" target = \"_blank\">com</a></td><td><input type=\"button\" value=\"Smart Log\" id=\"o2_uHF_STO-3G_UB3LYP_631Gd_4_4_cent_carbonyl_stable_low_real\" onclick=\"IPython.cc_notebook.view_function(event, this.id)\" /></td><td>Success</td></tr><tr><td>o3_uam1_UB3LYP_631Gd_4_4_cent_carbonyl_stable_low_real</td><td><a href = \"files/graphene_cycloadditions/unrestricted_cycloadd_oniom/correction/o3_uam1_UB3LYP_631Gd_4_4_cent_carbonyl_stable_low_real.com\" target = \"_blank\">com</a></td><td><input type=\"button\" value=\"Smart Log\" id=\"o3_uam1_UB3LYP_631Gd_4_4_cent_carbonyl_stable_low_real\" onclick=\"IPython.cc_notebook.view_function(event, this.id)\" /></td><td>Success</td></tr><tr><td>o3_upm6_UB3LYP_631Gd_4_4_cent_carbonyl_stable_low_real</td><td><a href = \"files/graphene_cycloadditions/unrestricted_cycloadd_oniom/correction/o3_upm6_UB3LYP_631Gd_4_4_cent_carbonyl_stable_low_real.com\" target = \"_blank\">com</a></td><td><input type=\"button\" value=\"Smart Log\" id=\"o3_upm6_UB3LYP_631Gd_4_4_cent_carbonyl_stable_low_real\" onclick=\"IPython.cc_notebook.view_function(event, this.id)\" /></td><td>Success</td></tr><tr><td>o3_uHF_STO-3G_UB3LYP_631Gd_4_4_cent_carbonyl_stable_low_real</td><td><a href = \"files/graphene_cycloadditions/unrestricted_cycloadd_oniom/correction/o3_uHF_STO-3G_UB3LYP_631Gd_4_4_cent_carbonyl_stable_low_real.com\" target = \"_blank\">com</a></td><td><input type=\"button\" value=\"Smart Log\" id=\"o3_uHF_STO-3G_UB3LYP_631Gd_4_4_cent_carbonyl_stable_low_real\" onclick=\"IPython.cc_notebook.view_function(event, this.id)\" /></td><td>Success</td></tr><tr><td>o4_uam1_UB3LYP_631Gd_4_4_cent_carbonyl_stable_low_real</td><td><a href = \"files/graphene_cycloadditions/unrestricted_cycloadd_oniom/correction/o4_uam1_UB3LYP_631Gd_4_4_cent_carbonyl_stable_low_real.com\" target = \"_blank\">com</a></td><td><input type=\"button\" value=\"Smart Log\" id=\"o4_uam1_UB3LYP_631Gd_4_4_cent_carbonyl_stable_low_real\" onclick=\"IPython.cc_notebook.view_function(event, this.id)\" /></td><td>Success</td></tr><tr><td>o4_upm6_UB3LYP_631Gd_4_4_cent_carbonyl_stable_low_real</td><td><a href = \"files/graphene_cycloadditions/unrestricted_cycloadd_oniom/correction/o4_upm6_UB3LYP_631Gd_4_4_cent_carbonyl_stable_low_real.com\" target = \"_blank\">com</a></td><td><input type=\"button\" value=\"Smart Log\" id=\"o4_upm6_UB3LYP_631Gd_4_4_cent_carbonyl_stable_low_real\" onclick=\"IPython.cc_notebook.view_function(event, this.id)\" /></td><td>Success</td></tr><tr><td>o4_uHF_STO-3G_UB3LYP_631Gd_4_4_cent_carbonyl_stable_low_real</td><td><a href = \"files/graphene_cycloadditions/unrestricted_cycloadd_oniom/correction/o4_uHF_STO-3G_UB3LYP_631Gd_4_4_cent_carbonyl_stable_low_real.com\" target = \"_blank\">com</a></td><td><input type=\"button\" value=\"Smart Log\" id=\"o4_uHF_STO-3G_UB3LYP_631Gd_4_4_cent_carbonyl_stable_low_real\" onclick=\"IPython.cc_notebook.view_function(event, this.id)\" /></td><td>Success</td></tr><tr><td>o_sanity_UB3LYP_631Gd_4_4_cent_carbonyl_stable_low_real</td><td><a href = \"files/graphene_cycloadditions/unrestricted_cycloadd_oniom/correction/o_sanity_UB3LYP_631Gd_4_4_cent_carbonyl_stable_low_real.com\" target = \"_blank\">com</a></td><td><input type=\"button\" value=\"Smart Log\" id=\"o_sanity_UB3LYP_631Gd_4_4_cent_carbonyl_stable_low_real\" onclick=\"IPython.cc_notebook.view_function(event, this.id)\" /></td><td>Error: TCursr= 1046 LCursr=   43</td></tr><tr><td>o0_uam1_UB3LYP_631Gd_4_4_graphene_stable_high_model</td><td><a href = \"files/graphene_cycloadditions/unrestricted_cycloadd_oniom/correction/o0_uam1_UB3LYP_631Gd_4_4_graphene_stable_high_model.com\" target = \"_blank\">com</a></td><td><input type=\"button\" value=\"Smart Log\" id=\"o0_uam1_UB3LYP_631Gd_4_4_graphene_stable_high_model\" onclick=\"IPython.cc_notebook.view_function(event, this.id)\" /></td><td>Success</td></tr><tr><td>o0_upm6_UB3LYP_631Gd_4_4_graphene_stable_high_model</td><td><a href = \"files/graphene_cycloadditions/unrestricted_cycloadd_oniom/correction/o0_upm6_UB3LYP_631Gd_4_4_graphene_stable_high_model.com\" target = \"_blank\">com</a></td><td><input type=\"button\" value=\"Smart Log\" id=\"o0_upm6_UB3LYP_631Gd_4_4_graphene_stable_high_model\" onclick=\"IPython.cc_notebook.view_function(event, this.id)\" /></td><td>Success</td></tr><tr><td>o0_uHF_STO-3G_UB3LYP_631Gd_4_4_graphene_stable_high_model</td><td><a href = \"files/graphene_cycloadditions/unrestricted_cycloadd_oniom/correction/o0_uHF_STO-3G_UB3LYP_631Gd_4_4_graphene_stable_high_model.com\" target = \"_blank\">com</a></td><td><input type=\"button\" value=\"Smart Log\" id=\"o0_uHF_STO-3G_UB3LYP_631Gd_4_4_graphene_stable_high_model\" onclick=\"IPython.cc_notebook.view_function(event, this.id)\" /></td><td>Success</td></tr><tr><td>o1_uam1_UB3LYP_631Gd_4_4_graphene_stable_high_model</td><td><a href = \"files/graphene_cycloadditions/unrestricted_cycloadd_oniom/correction/o1_uam1_UB3LYP_631Gd_4_4_graphene_stable_high_model.com\" target = \"_blank\">com</a></td><td><input type=\"button\" value=\"Smart Log\" id=\"o1_uam1_UB3LYP_631Gd_4_4_graphene_stable_high_model\" onclick=\"IPython.cc_notebook.view_function(event, this.id)\" /></td><td>Success</td></tr><tr><td>o1_upm6_UB3LYP_631Gd_4_4_graphene_stable_high_model</td><td><a href = \"files/graphene_cycloadditions/unrestricted_cycloadd_oniom/correction/o1_upm6_UB3LYP_631Gd_4_4_graphene_stable_high_model.com\" target = \"_blank\">com</a></td><td><input type=\"button\" value=\"Smart Log\" id=\"o1_upm6_UB3LYP_631Gd_4_4_graphene_stable_high_model\" onclick=\"IPython.cc_notebook.view_function(event, this.id)\" /></td><td>Success</td></tr><tr><td>o1_uHF_STO-3G_UB3LYP_631Gd_4_4_graphene_stable_high_model</td><td><a href = \"files/graphene_cycloadditions/unrestricted_cycloadd_oniom/correction/o1_uHF_STO-3G_UB3LYP_631Gd_4_4_graphene_stable_high_model.com\" target = \"_blank\">com</a></td><td><input type=\"button\" value=\"Smart Log\" id=\"o1_uHF_STO-3G_UB3LYP_631Gd_4_4_graphene_stable_high_model\" onclick=\"IPython.cc_notebook.view_function(event, this.id)\" /></td><td>Success</td></tr><tr><td>o2_uam1_UB3LYP_631Gd_4_4_graphene_stable_high_model</td><td><a href = \"files/graphene_cycloadditions/unrestricted_cycloadd_oniom/correction/o2_uam1_UB3LYP_631Gd_4_4_graphene_stable_high_model.com\" target = \"_blank\">com</a></td><td><input type=\"button\" value=\"Smart Log\" id=\"o2_uam1_UB3LYP_631Gd_4_4_graphene_stable_high_model\" onclick=\"IPython.cc_notebook.view_function(event, this.id)\" /></td><td>Success</td></tr><tr><td>o2_upm6_UB3LYP_631Gd_4_4_graphene_stable_high_model</td><td><a href = \"files/graphene_cycloadditions/unrestricted_cycloadd_oniom/correction/o2_upm6_UB3LYP_631Gd_4_4_graphene_stable_high_model.com\" target = \"_blank\">com</a></td><td><input type=\"button\" value=\"Smart Log\" id=\"o2_upm6_UB3LYP_631Gd_4_4_graphene_stable_high_model\" onclick=\"IPython.cc_notebook.view_function(event, this.id)\" /></td><td>Success</td></tr><tr><td>o2_uHF_STO-3G_UB3LYP_631Gd_4_4_graphene_stable_high_model</td><td><a href = \"files/graphene_cycloadditions/unrestricted_cycloadd_oniom/correction/o2_uHF_STO-3G_UB3LYP_631Gd_4_4_graphene_stable_high_model.com\" target = \"_blank\">com</a></td><td><input type=\"button\" value=\"Smart Log\" id=\"o2_uHF_STO-3G_UB3LYP_631Gd_4_4_graphene_stable_high_model\" onclick=\"IPython.cc_notebook.view_function(event, this.id)\" /></td><td>Success</td></tr><tr><td>o3_uam1_UB3LYP_631Gd_4_4_graphene_stable_high_model</td><td><a href = \"files/graphene_cycloadditions/unrestricted_cycloadd_oniom/correction/o3_uam1_UB3LYP_631Gd_4_4_graphene_stable_high_model.com\" target = \"_blank\">com</a></td><td><input type=\"button\" value=\"Smart Log\" id=\"o3_uam1_UB3LYP_631Gd_4_4_graphene_stable_high_model\" onclick=\"IPython.cc_notebook.view_function(event, this.id)\" /></td><td>Success</td></tr><tr><td>o3_upm6_UB3LYP_631Gd_4_4_graphene_stable_high_model</td><td><a href = \"files/graphene_cycloadditions/unrestricted_cycloadd_oniom/correction/o3_upm6_UB3LYP_631Gd_4_4_graphene_stable_high_model.com\" target = \"_blank\">com</a></td><td><input type=\"button\" value=\"Smart Log\" id=\"o3_upm6_UB3LYP_631Gd_4_4_graphene_stable_high_model\" onclick=\"IPython.cc_notebook.view_function(event, this.id)\" /></td><td>Success</td></tr><tr><td>o3_uHF_STO-3G_UB3LYP_631Gd_4_4_graphene_stable_high_model</td><td><a href = \"files/graphene_cycloadditions/unrestricted_cycloadd_oniom/correction/o3_uHF_STO-3G_UB3LYP_631Gd_4_4_graphene_stable_high_model.com\" target = \"_blank\">com</a></td><td><input type=\"button\" value=\"Smart Log\" id=\"o3_uHF_STO-3G_UB3LYP_631Gd_4_4_graphene_stable_high_model\" onclick=\"IPython.cc_notebook.view_function(event, this.id)\" /></td><td>Success</td></tr><tr><td>o4_uam1_UB3LYP_631Gd_4_4_graphene_stable_high_model</td><td><a href = \"files/graphene_cycloadditions/unrestricted_cycloadd_oniom/correction/o4_uam1_UB3LYP_631Gd_4_4_graphene_stable_high_model.com\" target = \"_blank\">com</a></td><td><input type=\"button\" value=\"Smart Log\" id=\"o4_uam1_UB3LYP_631Gd_4_4_graphene_stable_high_model\" onclick=\"IPython.cc_notebook.view_function(event, this.id)\" /></td><td>Success</td></tr><tr><td>o4_upm6_UB3LYP_631Gd_4_4_graphene_stable_high_model</td><td><a href = \"files/graphene_cycloadditions/unrestricted_cycloadd_oniom/correction/o4_upm6_UB3LYP_631Gd_4_4_graphene_stable_high_model.com\" target = \"_blank\">com</a></td><td><input type=\"button\" value=\"Smart Log\" id=\"o4_upm6_UB3LYP_631Gd_4_4_graphene_stable_high_model\" onclick=\"IPython.cc_notebook.view_function(event, this.id)\" /></td><td>Success</td></tr><tr><td>o4_uHF_STO-3G_UB3LYP_631Gd_4_4_graphene_stable_high_model</td><td><a href = \"files/graphene_cycloadditions/unrestricted_cycloadd_oniom/correction/o4_uHF_STO-3G_UB3LYP_631Gd_4_4_graphene_stable_high_model.com\" target = \"_blank\">com</a></td><td><input type=\"button\" value=\"Smart Log\" id=\"o4_uHF_STO-3G_UB3LYP_631Gd_4_4_graphene_stable_high_model\" onclick=\"IPython.cc_notebook.view_function(event, this.id)\" /></td><td>Success</td></tr><tr><td>o_sanity_UB3LYP_631Gd_4_4_graphene_stable_high_model</td><td><a href = \"files/graphene_cycloadditions/unrestricted_cycloadd_oniom/correction/o_sanity_UB3LYP_631Gd_4_4_graphene_stable_high_model.com\" target = \"_blank\">com</a></td><td><input type=\"button\" value=\"Smart Log\" id=\"o_sanity_UB3LYP_631Gd_4_4_graphene_stable_high_model\" onclick=\"IPython.cc_notebook.view_function(event, this.id)\" /></td><td>Success</td></tr><tr><td>o0_uam1_UB3LYP_631Gd_4_4_cent_carbonyl_stable_high_model</td><td><a href = \"files/graphene_cycloadditions/unrestricted_cycloadd_oniom/correction/o0_uam1_UB3LYP_631Gd_4_4_cent_carbonyl_stable_high_model.com\" target = \"_blank\">com</a></td><td><input type=\"button\" value=\"Smart Log\" id=\"o0_uam1_UB3LYP_631Gd_4_4_cent_carbonyl_stable_high_model\" onclick=\"IPython.cc_notebook.view_function(event, this.id)\" /></td><td>Success</td></tr><tr><td>o0_upm6_UB3LYP_631Gd_4_4_cent_carbonyl_stable_high_model</td><td><a href = \"files/graphene_cycloadditions/unrestricted_cycloadd_oniom/correction/o0_upm6_UB3LYP_631Gd_4_4_cent_carbonyl_stable_high_model.com\" target = \"_blank\">com</a></td><td><input type=\"button\" value=\"Smart Log\" id=\"o0_upm6_UB3LYP_631Gd_4_4_cent_carbonyl_stable_high_model\" onclick=\"IPython.cc_notebook.view_function(event, this.id)\" /></td><td>Success</td></tr><tr><td>o0_uHF_STO-3G_UB3LYP_631Gd_4_4_cent_carbonyl_stable_high_model</td><td><a href = \"files/graphene_cycloadditions/unrestricted_cycloadd_oniom/correction/o0_uHF_STO-3G_UB3LYP_631Gd_4_4_cent_carbonyl_stable_high_model.com\" target = \"_blank\">com</a></td><td><input type=\"button\" value=\"Smart Log\" id=\"o0_uHF_STO-3G_UB3LYP_631Gd_4_4_cent_carbonyl_stable_high_model\" onclick=\"IPython.cc_notebook.view_function(event, this.id)\" /></td><td>Success</td></tr><tr><td>o1_uam1_UB3LYP_631Gd_4_4_cent_carbonyl_stable_high_model</td><td><a href = \"files/graphene_cycloadditions/unrestricted_cycloadd_oniom/correction/o1_uam1_UB3LYP_631Gd_4_4_cent_carbonyl_stable_high_model.com\" target = \"_blank\">com</a></td><td><input type=\"button\" value=\"Smart Log\" id=\"o1_uam1_UB3LYP_631Gd_4_4_cent_carbonyl_stable_high_model\" onclick=\"IPython.cc_notebook.view_function(event, this.id)\" /></td><td>Success</td></tr><tr><td>o1_upm6_UB3LYP_631Gd_4_4_cent_carbonyl_stable_high_model</td><td><a href = \"files/graphene_cycloadditions/unrestricted_cycloadd_oniom/correction/o1_upm6_UB3LYP_631Gd_4_4_cent_carbonyl_stable_high_model.com\" target = \"_blank\">com</a></td><td><input type=\"button\" value=\"Smart Log\" id=\"o1_upm6_UB3LYP_631Gd_4_4_cent_carbonyl_stable_high_model\" onclick=\"IPython.cc_notebook.view_function(event, this.id)\" /></td><td>Success</td></tr><tr><td>o1_uHF_STO-3G_UB3LYP_631Gd_4_4_cent_carbonyl_stable_high_model</td><td><a href = \"files/graphene_cycloadditions/unrestricted_cycloadd_oniom/correction/o1_uHF_STO-3G_UB3LYP_631Gd_4_4_cent_carbonyl_stable_high_model.com\" target = \"_blank\">com</a></td><td><input type=\"button\" value=\"Smart Log\" id=\"o1_uHF_STO-3G_UB3LYP_631Gd_4_4_cent_carbonyl_stable_high_model\" onclick=\"IPython.cc_notebook.view_function(event, this.id)\" /></td><td>Success</td></tr><tr><td>o2_uam1_UB3LYP_631Gd_4_4_cent_carbonyl_stable_high_model</td><td><a href = \"files/graphene_cycloadditions/unrestricted_cycloadd_oniom/correction/o2_uam1_UB3LYP_631Gd_4_4_cent_carbonyl_stable_high_model.com\" target = \"_blank\">com</a></td><td><input type=\"button\" value=\"Smart Log\" id=\"o2_uam1_UB3LYP_631Gd_4_4_cent_carbonyl_stable_high_model\" onclick=\"IPython.cc_notebook.view_function(event, this.id)\" /></td><td>Success</td></tr><tr><td>o2_upm6_UB3LYP_631Gd_4_4_cent_carbonyl_stable_high_model</td><td><a href = \"files/graphene_cycloadditions/unrestricted_cycloadd_oniom/correction/o2_upm6_UB3LYP_631Gd_4_4_cent_carbonyl_stable_high_model.com\" target = \"_blank\">com</a></td><td><input type=\"button\" value=\"Smart Log\" id=\"o2_upm6_UB3LYP_631Gd_4_4_cent_carbonyl_stable_high_model\" onclick=\"IPython.cc_notebook.view_function(event, this.id)\" /></td><td>Success</td></tr><tr><td>o2_uHF_STO-3G_UB3LYP_631Gd_4_4_cent_carbonyl_stable_high_model</td><td><a href = \"files/graphene_cycloadditions/unrestricted_cycloadd_oniom/correction/o2_uHF_STO-3G_UB3LYP_631Gd_4_4_cent_carbonyl_stable_high_model.com\" target = \"_blank\">com</a></td><td><input type=\"button\" value=\"Smart Log\" id=\"o2_uHF_STO-3G_UB3LYP_631Gd_4_4_cent_carbonyl_stable_high_model\" onclick=\"IPython.cc_notebook.view_function(event, this.id)\" /></td><td>Success</td></tr><tr><td>o3_uam1_UB3LYP_631Gd_4_4_cent_carbonyl_stable_high_model</td><td><a href = \"files/graphene_cycloadditions/unrestricted_cycloadd_oniom/correction/o3_uam1_UB3LYP_631Gd_4_4_cent_carbonyl_stable_high_model.com\" target = \"_blank\">com</a></td><td><input type=\"button\" value=\"Smart Log\" id=\"o3_uam1_UB3LYP_631Gd_4_4_cent_carbonyl_stable_high_model\" onclick=\"IPython.cc_notebook.view_function(event, this.id)\" /></td><td>Success</td></tr><tr><td>o3_upm6_UB3LYP_631Gd_4_4_cent_carbonyl_stable_high_model</td><td><a href = \"files/graphene_cycloadditions/unrestricted_cycloadd_oniom/correction/o3_upm6_UB3LYP_631Gd_4_4_cent_carbonyl_stable_high_model.com\" target = \"_blank\">com</a></td><td><input type=\"button\" value=\"Smart Log\" id=\"o3_upm6_UB3LYP_631Gd_4_4_cent_carbonyl_stable_high_model\" onclick=\"IPython.cc_notebook.view_function(event, this.id)\" /></td><td>Success</td></tr><tr><td>o3_uHF_STO-3G_UB3LYP_631Gd_4_4_cent_carbonyl_stable_high_model</td><td><a href = \"files/graphene_cycloadditions/unrestricted_cycloadd_oniom/correction/o3_uHF_STO-3G_UB3LYP_631Gd_4_4_cent_carbonyl_stable_high_model.com\" target = \"_blank\">com</a></td><td><input type=\"button\" value=\"Smart Log\" id=\"o3_uHF_STO-3G_UB3LYP_631Gd_4_4_cent_carbonyl_stable_high_model\" onclick=\"IPython.cc_notebook.view_function(event, this.id)\" /></td><td>Success</td></tr><tr><td>o4_uam1_UB3LYP_631Gd_4_4_cent_carbonyl_stable_high_model</td><td><a href = \"files/graphene_cycloadditions/unrestricted_cycloadd_oniom/correction/o4_uam1_UB3LYP_631Gd_4_4_cent_carbonyl_stable_high_model.com\" target = \"_blank\">com</a></td><td><input type=\"button\" value=\"Smart Log\" id=\"o4_uam1_UB3LYP_631Gd_4_4_cent_carbonyl_stable_high_model\" onclick=\"IPython.cc_notebook.view_function(event, this.id)\" /></td><td>Success</td></tr><tr><td>o4_upm6_UB3LYP_631Gd_4_4_cent_carbonyl_stable_high_model</td><td><a href = \"files/graphene_cycloadditions/unrestricted_cycloadd_oniom/correction/o4_upm6_UB3LYP_631Gd_4_4_cent_carbonyl_stable_high_model.com\" target = \"_blank\">com</a></td><td><input type=\"button\" value=\"Smart Log\" id=\"o4_upm6_UB3LYP_631Gd_4_4_cent_carbonyl_stable_high_model\" onclick=\"IPython.cc_notebook.view_function(event, this.id)\" /></td><td>Success</td></tr><tr><td>o4_uHF_STO-3G_UB3LYP_631Gd_4_4_cent_carbonyl_stable_high_model</td><td><a href = \"files/graphene_cycloadditions/unrestricted_cycloadd_oniom/correction/o4_uHF_STO-3G_UB3LYP_631Gd_4_4_cent_carbonyl_stable_high_model.com\" target = \"_blank\">com</a></td><td><input type=\"button\" value=\"Smart Log\" id=\"o4_uHF_STO-3G_UB3LYP_631Gd_4_4_cent_carbonyl_stable_high_model\" onclick=\"IPython.cc_notebook.view_function(event, this.id)\" /></td><td>Success</td></tr><tr><td>o_sanity_UB3LYP_631Gd_4_4_cent_carbonyl_stable_high_model</td><td><a href = \"files/graphene_cycloadditions/unrestricted_cycloadd_oniom/correction/o_sanity_UB3LYP_631Gd_4_4_cent_carbonyl_stable_high_model.com\" target = \"_blank\">com</a></td><td><input type=\"button\" value=\"Smart Log\" id=\"o_sanity_UB3LYP_631Gd_4_4_cent_carbonyl_stable_high_model\" onclick=\"IPython.cc_notebook.view_function(event, this.id)\" /></td><td>Success</td></tr><tr><td>o0_uam1_UB3LYP_631Gd_4_4_graphene_stable_low_model</td><td><a href = \"files/graphene_cycloadditions/unrestricted_cycloadd_oniom/correction/o0_uam1_UB3LYP_631Gd_4_4_graphene_stable_low_model.com\" target = \"_blank\">com</a></td><td><input type=\"button\" value=\"Smart Log\" id=\"o0_uam1_UB3LYP_631Gd_4_4_graphene_stable_low_model\" onclick=\"IPython.cc_notebook.view_function(event, this.id)\" /></td><td>Success</td></tr><tr><td>o0_upm6_UB3LYP_631Gd_4_4_graphene_stable_low_model</td><td><a href = \"files/graphene_cycloadditions/unrestricted_cycloadd_oniom/correction/o0_upm6_UB3LYP_631Gd_4_4_graphene_stable_low_model.com\" target = \"_blank\">com</a></td><td><input type=\"button\" value=\"Smart Log\" id=\"o0_upm6_UB3LYP_631Gd_4_4_graphene_stable_low_model\" onclick=\"IPython.cc_notebook.view_function(event, this.id)\" /></td><td>Success</td></tr><tr><td>o0_uHF_STO-3G_UB3LYP_631Gd_4_4_graphene_stable_low_model</td><td><a href = \"files/graphene_cycloadditions/unrestricted_cycloadd_oniom/correction/o0_uHF_STO-3G_UB3LYP_631Gd_4_4_graphene_stable_low_model.com\" target = \"_blank\">com</a></td><td><input type=\"button\" value=\"Smart Log\" id=\"o0_uHF_STO-3G_UB3LYP_631Gd_4_4_graphene_stable_low_model\" onclick=\"IPython.cc_notebook.view_function(event, this.id)\" /></td><td>Success</td></tr><tr><td>o1_uam1_UB3LYP_631Gd_4_4_graphene_stable_low_model</td><td><a href = \"files/graphene_cycloadditions/unrestricted_cycloadd_oniom/correction/o1_uam1_UB3LYP_631Gd_4_4_graphene_stable_low_model.com\" target = \"_blank\">com</a></td><td><input type=\"button\" value=\"Smart Log\" id=\"o1_uam1_UB3LYP_631Gd_4_4_graphene_stable_low_model\" onclick=\"IPython.cc_notebook.view_function(event, this.id)\" /></td><td>Success</td></tr><tr><td>o1_upm6_UB3LYP_631Gd_4_4_graphene_stable_low_model</td><td><a href = \"files/graphene_cycloadditions/unrestricted_cycloadd_oniom/correction/o1_upm6_UB3LYP_631Gd_4_4_graphene_stable_low_model.com\" target = \"_blank\">com</a></td><td><input type=\"button\" value=\"Smart Log\" id=\"o1_upm6_UB3LYP_631Gd_4_4_graphene_stable_low_model\" onclick=\"IPython.cc_notebook.view_function(event, this.id)\" /></td><td>Success</td></tr><tr><td>o1_uHF_STO-3G_UB3LYP_631Gd_4_4_graphene_stable_low_model</td><td><a href = \"files/graphene_cycloadditions/unrestricted_cycloadd_oniom/correction/o1_uHF_STO-3G_UB3LYP_631Gd_4_4_graphene_stable_low_model.com\" target = \"_blank\">com</a></td><td><input type=\"button\" value=\"Smart Log\" id=\"o1_uHF_STO-3G_UB3LYP_631Gd_4_4_graphene_stable_low_model\" onclick=\"IPython.cc_notebook.view_function(event, this.id)\" /></td><td>Success</td></tr><tr><td>o2_uam1_UB3LYP_631Gd_4_4_graphene_stable_low_model</td><td><a href = \"files/graphene_cycloadditions/unrestricted_cycloadd_oniom/correction/o2_uam1_UB3LYP_631Gd_4_4_graphene_stable_low_model.com\" target = \"_blank\">com</a></td><td><input type=\"button\" value=\"Smart Log\" id=\"o2_uam1_UB3LYP_631Gd_4_4_graphene_stable_low_model\" onclick=\"IPython.cc_notebook.view_function(event, this.id)\" /></td><td>Success</td></tr><tr><td>o2_upm6_UB3LYP_631Gd_4_4_graphene_stable_low_model</td><td><a href = \"files/graphene_cycloadditions/unrestricted_cycloadd_oniom/correction/o2_upm6_UB3LYP_631Gd_4_4_graphene_stable_low_model.com\" target = \"_blank\">com</a></td><td><input type=\"button\" value=\"Smart Log\" id=\"o2_upm6_UB3LYP_631Gd_4_4_graphene_stable_low_model\" onclick=\"IPython.cc_notebook.view_function(event, this.id)\" /></td><td>Success</td></tr><tr><td>o2_uHF_STO-3G_UB3LYP_631Gd_4_4_graphene_stable_low_model</td><td><a href = \"files/graphene_cycloadditions/unrestricted_cycloadd_oniom/correction/o2_uHF_STO-3G_UB3LYP_631Gd_4_4_graphene_stable_low_model.com\" target = \"_blank\">com</a></td><td><input type=\"button\" value=\"Smart Log\" id=\"o2_uHF_STO-3G_UB3LYP_631Gd_4_4_graphene_stable_low_model\" onclick=\"IPython.cc_notebook.view_function(event, this.id)\" /></td><td>Success</td></tr><tr><td>o3_uam1_UB3LYP_631Gd_4_4_graphene_stable_low_model</td><td><a href = \"files/graphene_cycloadditions/unrestricted_cycloadd_oniom/correction/o3_uam1_UB3LYP_631Gd_4_4_graphene_stable_low_model.com\" target = \"_blank\">com</a></td><td><input type=\"button\" value=\"Smart Log\" id=\"o3_uam1_UB3LYP_631Gd_4_4_graphene_stable_low_model\" onclick=\"IPython.cc_notebook.view_function(event, this.id)\" /></td><td>Success</td></tr><tr><td>o3_upm6_UB3LYP_631Gd_4_4_graphene_stable_low_model</td><td><a href = \"files/graphene_cycloadditions/unrestricted_cycloadd_oniom/correction/o3_upm6_UB3LYP_631Gd_4_4_graphene_stable_low_model.com\" target = \"_blank\">com</a></td><td><input type=\"button\" value=\"Smart Log\" id=\"o3_upm6_UB3LYP_631Gd_4_4_graphene_stable_low_model\" onclick=\"IPython.cc_notebook.view_function(event, this.id)\" /></td><td>Success</td></tr><tr><td>o3_uHF_STO-3G_UB3LYP_631Gd_4_4_graphene_stable_low_model</td><td><a href = \"files/graphene_cycloadditions/unrestricted_cycloadd_oniom/correction/o3_uHF_STO-3G_UB3LYP_631Gd_4_4_graphene_stable_low_model.com\" target = \"_blank\">com</a></td><td><input type=\"button\" value=\"Smart Log\" id=\"o3_uHF_STO-3G_UB3LYP_631Gd_4_4_graphene_stable_low_model\" onclick=\"IPython.cc_notebook.view_function(event, this.id)\" /></td><td>Success</td></tr><tr><td>o4_uam1_UB3LYP_631Gd_4_4_graphene_stable_low_model</td><td><a href = \"files/graphene_cycloadditions/unrestricted_cycloadd_oniom/correction/o4_uam1_UB3LYP_631Gd_4_4_graphene_stable_low_model.com\" target = \"_blank\">com</a></td><td><input type=\"button\" value=\"Smart Log\" id=\"o4_uam1_UB3LYP_631Gd_4_4_graphene_stable_low_model\" onclick=\"IPython.cc_notebook.view_function(event, this.id)\" /></td><td>Success</td></tr><tr><td>o4_upm6_UB3LYP_631Gd_4_4_graphene_stable_low_model</td><td><a href = \"files/graphene_cycloadditions/unrestricted_cycloadd_oniom/correction/o4_upm6_UB3LYP_631Gd_4_4_graphene_stable_low_model.com\" target = \"_blank\">com</a></td><td><input type=\"button\" value=\"Smart Log\" id=\"o4_upm6_UB3LYP_631Gd_4_4_graphene_stable_low_model\" onclick=\"IPython.cc_notebook.view_function(event, this.id)\" /></td><td>Success</td></tr><tr><td>o4_uHF_STO-3G_UB3LYP_631Gd_4_4_graphene_stable_low_model</td><td><a href = \"files/graphene_cycloadditions/unrestricted_cycloadd_oniom/correction/o4_uHF_STO-3G_UB3LYP_631Gd_4_4_graphene_stable_low_model.com\" target = \"_blank\">com</a></td><td><input type=\"button\" value=\"Smart Log\" id=\"o4_uHF_STO-3G_UB3LYP_631Gd_4_4_graphene_stable_low_model\" onclick=\"IPython.cc_notebook.view_function(event, this.id)\" /></td><td>Success</td></tr><tr><td>o_sanity_UB3LYP_631Gd_4_4_graphene_stable_low_model</td><td><a href = \"files/graphene_cycloadditions/unrestricted_cycloadd_oniom/correction/o_sanity_UB3LYP_631Gd_4_4_graphene_stable_low_model.com\" target = \"_blank\">com</a></td><td><input type=\"button\" value=\"Smart Log\" id=\"o_sanity_UB3LYP_631Gd_4_4_graphene_stable_low_model\" onclick=\"IPython.cc_notebook.view_function(event, this.id)\" /></td><td>Error: TCursr= 1046 LCursr=   43</td></tr><tr><td>o0_uam1_UB3LYP_631Gd_4_4_cent_carbonyl_stable_low_model</td><td><a href = \"files/graphene_cycloadditions/unrestricted_cycloadd_oniom/correction/o0_uam1_UB3LYP_631Gd_4_4_cent_carbonyl_stable_low_model.com\" target = \"_blank\">com</a></td><td><input type=\"button\" value=\"Smart Log\" id=\"o0_uam1_UB3LYP_631Gd_4_4_cent_carbonyl_stable_low_model\" onclick=\"IPython.cc_notebook.view_function(event, this.id)\" /></td><td>Success</td></tr><tr><td>o0_upm6_UB3LYP_631Gd_4_4_cent_carbonyl_stable_low_model</td><td><a href = \"files/graphene_cycloadditions/unrestricted_cycloadd_oniom/correction/o0_upm6_UB3LYP_631Gd_4_4_cent_carbonyl_stable_low_model.com\" target = \"_blank\">com</a></td><td><input type=\"button\" value=\"Smart Log\" id=\"o0_upm6_UB3LYP_631Gd_4_4_cent_carbonyl_stable_low_model\" onclick=\"IPython.cc_notebook.view_function(event, this.id)\" /></td><td>Success</td></tr><tr><td>o0_uHF_STO-3G_UB3LYP_631Gd_4_4_cent_carbonyl_stable_low_model</td><td><a href = \"files/graphene_cycloadditions/unrestricted_cycloadd_oniom/correction/o0_uHF_STO-3G_UB3LYP_631Gd_4_4_cent_carbonyl_stable_low_model.com\" target = \"_blank\">com</a></td><td><input type=\"button\" value=\"Smart Log\" id=\"o0_uHF_STO-3G_UB3LYP_631Gd_4_4_cent_carbonyl_stable_low_model\" onclick=\"IPython.cc_notebook.view_function(event, this.id)\" /></td><td>Success</td></tr><tr><td>o1_uam1_UB3LYP_631Gd_4_4_cent_carbonyl_stable_low_model</td><td><a href = \"files/graphene_cycloadditions/unrestricted_cycloadd_oniom/correction/o1_uam1_UB3LYP_631Gd_4_4_cent_carbonyl_stable_low_model.com\" target = \"_blank\">com</a></td><td><input type=\"button\" value=\"Smart Log\" id=\"o1_uam1_UB3LYP_631Gd_4_4_cent_carbonyl_stable_low_model\" onclick=\"IPython.cc_notebook.view_function(event, this.id)\" /></td><td>Success</td></tr><tr><td>o1_upm6_UB3LYP_631Gd_4_4_cent_carbonyl_stable_low_model</td><td><a href = \"files/graphene_cycloadditions/unrestricted_cycloadd_oniom/correction/o1_upm6_UB3LYP_631Gd_4_4_cent_carbonyl_stable_low_model.com\" target = \"_blank\">com</a></td><td><input type=\"button\" value=\"Smart Log\" id=\"o1_upm6_UB3LYP_631Gd_4_4_cent_carbonyl_stable_low_model\" onclick=\"IPython.cc_notebook.view_function(event, this.id)\" /></td><td>Success</td></tr><tr><td>o1_uHF_STO-3G_UB3LYP_631Gd_4_4_cent_carbonyl_stable_low_model</td><td><a href = \"files/graphene_cycloadditions/unrestricted_cycloadd_oniom/correction/o1_uHF_STO-3G_UB3LYP_631Gd_4_4_cent_carbonyl_stable_low_model.com\" target = \"_blank\">com</a></td><td><input type=\"button\" value=\"Smart Log\" id=\"o1_uHF_STO-3G_UB3LYP_631Gd_4_4_cent_carbonyl_stable_low_model\" onclick=\"IPython.cc_notebook.view_function(event, this.id)\" /></td><td>Success</td></tr><tr><td>o2_uam1_UB3LYP_631Gd_4_4_cent_carbonyl_stable_low_model</td><td><a href = \"files/graphene_cycloadditions/unrestricted_cycloadd_oniom/correction/o2_uam1_UB3LYP_631Gd_4_4_cent_carbonyl_stable_low_model.com\" target = \"_blank\">com</a></td><td><input type=\"button\" value=\"Smart Log\" id=\"o2_uam1_UB3LYP_631Gd_4_4_cent_carbonyl_stable_low_model\" onclick=\"IPython.cc_notebook.view_function(event, this.id)\" /></td><td>Success</td></tr><tr><td>o2_upm6_UB3LYP_631Gd_4_4_cent_carbonyl_stable_low_model</td><td><a href = \"files/graphene_cycloadditions/unrestricted_cycloadd_oniom/correction/o2_upm6_UB3LYP_631Gd_4_4_cent_carbonyl_stable_low_model.com\" target = \"_blank\">com</a></td><td><input type=\"button\" value=\"Smart Log\" id=\"o2_upm6_UB3LYP_631Gd_4_4_cent_carbonyl_stable_low_model\" onclick=\"IPython.cc_notebook.view_function(event, this.id)\" /></td><td>Success</td></tr><tr><td>o2_uHF_STO-3G_UB3LYP_631Gd_4_4_cent_carbonyl_stable_low_model</td><td><a href = \"files/graphene_cycloadditions/unrestricted_cycloadd_oniom/correction/o2_uHF_STO-3G_UB3LYP_631Gd_4_4_cent_carbonyl_stable_low_model.com\" target = \"_blank\">com</a></td><td><input type=\"button\" value=\"Smart Log\" id=\"o2_uHF_STO-3G_UB3LYP_631Gd_4_4_cent_carbonyl_stable_low_model\" onclick=\"IPython.cc_notebook.view_function(event, this.id)\" /></td><td>Success</td></tr><tr><td>o3_uam1_UB3LYP_631Gd_4_4_cent_carbonyl_stable_low_model</td><td><a href = \"files/graphene_cycloadditions/unrestricted_cycloadd_oniom/correction/o3_uam1_UB3LYP_631Gd_4_4_cent_carbonyl_stable_low_model.com\" target = \"_blank\">com</a></td><td><input type=\"button\" value=\"Smart Log\" id=\"o3_uam1_UB3LYP_631Gd_4_4_cent_carbonyl_stable_low_model\" onclick=\"IPython.cc_notebook.view_function(event, this.id)\" /></td><td>Success</td></tr><tr><td>o3_upm6_UB3LYP_631Gd_4_4_cent_carbonyl_stable_low_model</td><td><a href = \"files/graphene_cycloadditions/unrestricted_cycloadd_oniom/correction/o3_upm6_UB3LYP_631Gd_4_4_cent_carbonyl_stable_low_model.com\" target = \"_blank\">com</a></td><td><input type=\"button\" value=\"Smart Log\" id=\"o3_upm6_UB3LYP_631Gd_4_4_cent_carbonyl_stable_low_model\" onclick=\"IPython.cc_notebook.view_function(event, this.id)\" /></td><td>Success</td></tr><tr><td>o3_uHF_STO-3G_UB3LYP_631Gd_4_4_cent_carbonyl_stable_low_model</td><td><a href = \"files/graphene_cycloadditions/unrestricted_cycloadd_oniom/correction/o3_uHF_STO-3G_UB3LYP_631Gd_4_4_cent_carbonyl_stable_low_model.com\" target = \"_blank\">com</a></td><td><input type=\"button\" value=\"Smart Log\" id=\"o3_uHF_STO-3G_UB3LYP_631Gd_4_4_cent_carbonyl_stable_low_model\" onclick=\"IPython.cc_notebook.view_function(event, this.id)\" /></td><td>Success</td></tr><tr><td>o4_uam1_UB3LYP_631Gd_4_4_cent_carbonyl_stable_low_model</td><td><a href = \"files/graphene_cycloadditions/unrestricted_cycloadd_oniom/correction/o4_uam1_UB3LYP_631Gd_4_4_cent_carbonyl_stable_low_model.com\" target = \"_blank\">com</a></td><td><input type=\"button\" value=\"Smart Log\" id=\"o4_uam1_UB3LYP_631Gd_4_4_cent_carbonyl_stable_low_model\" onclick=\"IPython.cc_notebook.view_function(event, this.id)\" /></td><td>Success</td></tr><tr><td>o4_upm6_UB3LYP_631Gd_4_4_cent_carbonyl_stable_low_model</td><td><a href = \"files/graphene_cycloadditions/unrestricted_cycloadd_oniom/correction/o4_upm6_UB3LYP_631Gd_4_4_cent_carbonyl_stable_low_model.com\" target = \"_blank\">com</a></td><td><input type=\"button\" value=\"Smart Log\" id=\"o4_upm6_UB3LYP_631Gd_4_4_cent_carbonyl_stable_low_model\" onclick=\"IPython.cc_notebook.view_function(event, this.id)\" /></td><td>Success</td></tr><tr><td>o4_uHF_STO-3G_UB3LYP_631Gd_4_4_cent_carbonyl_stable_low_model</td><td><a href = \"files/graphene_cycloadditions/unrestricted_cycloadd_oniom/correction/o4_uHF_STO-3G_UB3LYP_631Gd_4_4_cent_carbonyl_stable_low_model.com\" target = \"_blank\">com</a></td><td><input type=\"button\" value=\"Smart Log\" id=\"o4_uHF_STO-3G_UB3LYP_631Gd_4_4_cent_carbonyl_stable_low_model\" onclick=\"IPython.cc_notebook.view_function(event, this.id)\" /></td><td>Success</td></tr><tr><td>o_sanity_UB3LYP_631Gd_4_4_cent_carbonyl_stable_low_model</td><td><a href = \"files/graphene_cycloadditions/unrestricted_cycloadd_oniom/correction/o_sanity_UB3LYP_631Gd_4_4_cent_carbonyl_stable_low_model.com\" target = \"_blank\">com</a></td><td><input type=\"button\" value=\"Smart Log\" id=\"o_sanity_UB3LYP_631Gd_4_4_cent_carbonyl_stable_low_model\" onclick=\"IPython.cc_notebook.view_function(event, this.id)\" /></td><td>Error: TCursr= 1046 LCursr=   43</td></tr>\n",
        "    </table>\n",
        "    </body>"
       ],
       "metadata": {},
       "output_type": "pyout",
       "prompt_number": 34,
       "text": [
        "<IPython.core.display.HTML at 0x7f12f5a7a210>"
       ]
      }
     ],
     "prompt_number": 34
    },
    {
     "cell_type": "code",
     "collapsed": false,
     "input": [
      "ul_rls = [e if e.calc.status=='Success' else None for e in ul_rls]\n",
      "uh_mds = [e if e.calc.status=='Success' else None for e in uh_mds]\n",
      "ul_mss = [e if e.calc.status=='Success' else None for e in ul_mds]\n",
      "\n",
      "for i, c in enumerate(o_44 + o_44_carb):\n",
      "    c.calc.restart(remove_label='stable', method=c.calc.method.replace('=OnlyInputFiles', ''), component_calcs = zip(ul_rls, uh_mds, ul_mds)[i])\n",
      "    c.calc.set_job(nodes=8, memory = 8*1400, time=5, queue='pqmb')\n",
      "    #c.calc.start()"
     ],
     "language": "python",
     "metadata": {},
     "outputs": [],
     "prompt_number": 35
    },
    {
     "cell_type": "code",
     "collapsed": false,
     "input": [
      "#add uff - we only read in the high model (doesn't matter which one as they are all UB3lYP/6-31G*)\n",
      "i=0\n",
      "for siz in range(5):\n",
      "    for meth in ['uff']:       \n",
      "        graph = read(graph_44_xyz)\n",
      "        graph_name = 'o{s}_{m}_UB3LYP_631Gd_4_4_graphene_restart_1'.format(m=meth.replace('/', '_'), s=siz)\n",
      "        graph.set_calculator(Gaussian(label=graph_name, \n",
      "                                      method='oniom(UB3LYP/6-31G(d):{l})'.format(l=meth), \n",
      "                                      basis='oniom', \n",
      "                                      component_calcs=['', uh_mds[i], '']))\n",
      "        graph_H = graph_atoms[siz]\n",
      "        graph.calc.oniom_coord_params['layers'] = [[no -1 for no in graph_H]]\n",
      "        graph.calc.oniom_coord_params['layer_mults'] = [1,1]\n",
      "        graph.calc.set_job(nodes=8, memory=8*1400, time=5, queue='pqmb',version='g09')\n",
      "        #graph.calc.start()\n",
      "        o_44.append(graph)      \n",
      "        i+=3\n",
      "        \n",
      "i+=1\n",
      "for siz in range(5):\n",
      "    for meth in ['uff']:        \n",
      "        graph_ylid = read(carb_44_xyz)\n",
      "        graph_ylid_name = 'o{s}_{m}_UB3LYP_631Gd_4_4_cent_carbonyl_restart_1'.format(m=meth.replace('/', '_'), s=siz)\n",
      "        graph_ylid.set_calculator(Gaussian(label=graph_ylid_name, \n",
      "                                           method='oniom(UB3LYP/6-31G(d):{l})'.format(l=meth), \n",
      "                                           basis='oniom', \n",
      "                                           component_calcs=['', uh_mds[i], '']))\n",
      "        graph_ylid_H = ylide_atoms + graph_atoms[siz]\n",
      "        graph_ylid.calc.oniom_coord_params['layers'] = [[no -1 for no in graph_ylid_H]]\n",
      "        graph_ylid.calc.oniom_coord_params['layer_mults'] = [1,1]\n",
      "        graph_ylid.calc.set_job(nodes=8, memory=8*1400, time=5, queue='pqmb',version='g09')\n",
      "        #graph_ylid.calc.start()\n",
      "        o_44_carb.append(graph_ylid)\n",
      "        i+=3"
     ],
     "language": "python",
     "metadata": {},
     "outputs": [
      {
       "output_type": "stream",
       "stream": "stderr",
       "text": [
        "/home/clyde/Project/Code/Python/gausspy/gaussian.py:1404: RuntimeWarning: Prior calculation already performed, not recomputing\n",
        "  warnings.warn(RuntimeWarning('Prior calculation already performed, not recomputing'))\n"
       ]
      }
     ],
     "prompt_number": 47
    },
    {
     "cell_type": "code",
     "collapsed": false,
     "input": [
      "check_calcs(o_44 + o_44_carb)\n",
      "#mols_to_html(o_44 + o_44_carb)"
     ],
     "language": "python",
     "metadata": {},
     "outputs": [
      {
       "html": [
        "\n",
        "    <style>\n",
        "    table\n",
        "    {\n",
        "        border-collapse:collapse;\n",
        "    }\n",
        "    td\n",
        "    {\n",
        "        padding:15px;\n",
        "    }\n",
        "    </style>\n",
        "    <body>\n",
        "    <table bgcolor=\"white\">\n",
        "    <col/><tr><td>o0_uam1_UB3LYP_631Gd_4_4_graphene_restart_1</td><td><a href = \"files/graphene_cycloadditions/unrestricted_cycloadd_oniom/correction/o0_uam1_UB3LYP_631Gd_4_4_graphene_restart_1.com\" target = \"_blank\">com</a></td><td><input type=\"button\" value=\"Smart Log\" id=\"o0_uam1_UB3LYP_631Gd_4_4_graphene_restart_1\" onclick=\"IPython.cc_notebook.view_function(event, this.id)\" /></td><td>Success</td></tr><tr><td>o0_upm6_UB3LYP_631Gd_4_4_graphene_restart_1</td><td><a href = \"files/graphene_cycloadditions/unrestricted_cycloadd_oniom/correction/o0_upm6_UB3LYP_631Gd_4_4_graphene_restart_1.com\" target = \"_blank\">com</a></td><td><input type=\"button\" value=\"Smart Log\" id=\"o0_upm6_UB3LYP_631Gd_4_4_graphene_restart_1\" onclick=\"IPython.cc_notebook.view_function(event, this.id)\" /></td><td>Success</td></tr><tr><td>o0_uHF_STO-3G_UB3LYP_631Gd_4_4_graphene_restart_1</td><td><a href = \"files/graphene_cycloadditions/unrestricted_cycloadd_oniom/correction/o0_uHF_STO-3G_UB3LYP_631Gd_4_4_graphene_restart_1.com\" target = \"_blank\">com</a></td><td><input type=\"button\" value=\"Smart Log\" id=\"o0_uHF_STO-3G_UB3LYP_631Gd_4_4_graphene_restart_1\" onclick=\"IPython.cc_notebook.view_function(event, this.id)\" /></td><td>Success</td></tr><tr><td>o1_uam1_UB3LYP_631Gd_4_4_graphene_restart_1</td><td><a href = \"files/graphene_cycloadditions/unrestricted_cycloadd_oniom/correction/o1_uam1_UB3LYP_631Gd_4_4_graphene_restart_1.com\" target = \"_blank\">com</a></td><td><input type=\"button\" value=\"Smart Log\" id=\"o1_uam1_UB3LYP_631Gd_4_4_graphene_restart_1\" onclick=\"IPython.cc_notebook.view_function(event, this.id)\" /></td><td>Success</td></tr><tr><td>o1_upm6_UB3LYP_631Gd_4_4_graphene_restart_1</td><td><a href = \"files/graphene_cycloadditions/unrestricted_cycloadd_oniom/correction/o1_upm6_UB3LYP_631Gd_4_4_graphene_restart_1.com\" target = \"_blank\">com</a></td><td><input type=\"button\" value=\"Smart Log\" id=\"o1_upm6_UB3LYP_631Gd_4_4_graphene_restart_1\" onclick=\"IPython.cc_notebook.view_function(event, this.id)\" /></td><td>Success</td></tr><tr><td>o1_uHF_STO-3G_UB3LYP_631Gd_4_4_graphene_restart_1</td><td><a href = \"files/graphene_cycloadditions/unrestricted_cycloadd_oniom/correction/o1_uHF_STO-3G_UB3LYP_631Gd_4_4_graphene_restart_1.com\" target = \"_blank\">com</a></td><td><input type=\"button\" value=\"Smart Log\" id=\"o1_uHF_STO-3G_UB3LYP_631Gd_4_4_graphene_restart_1\" onclick=\"IPython.cc_notebook.view_function(event, this.id)\" /></td><td>Success</td></tr><tr><td>o2_uam1_UB3LYP_631Gd_4_4_graphene_restart_1</td><td><a href = \"files/graphene_cycloadditions/unrestricted_cycloadd_oniom/correction/o2_uam1_UB3LYP_631Gd_4_4_graphene_restart_1.com\" target = \"_blank\">com</a></td><td><input type=\"button\" value=\"Smart Log\" id=\"o2_uam1_UB3LYP_631Gd_4_4_graphene_restart_1\" onclick=\"IPython.cc_notebook.view_function(event, this.id)\" /></td><td>Success</td></tr><tr><td>o2_upm6_UB3LYP_631Gd_4_4_graphene_restart_1</td><td><a href = \"files/graphene_cycloadditions/unrestricted_cycloadd_oniom/correction/o2_upm6_UB3LYP_631Gd_4_4_graphene_restart_1.com\" target = \"_blank\">com</a></td><td><input type=\"button\" value=\"Smart Log\" id=\"o2_upm6_UB3LYP_631Gd_4_4_graphene_restart_1\" onclick=\"IPython.cc_notebook.view_function(event, this.id)\" /></td><td>Success</td></tr><tr><td>o2_uHF_STO-3G_UB3LYP_631Gd_4_4_graphene_restart_1</td><td><a href = \"files/graphene_cycloadditions/unrestricted_cycloadd_oniom/correction/o2_uHF_STO-3G_UB3LYP_631Gd_4_4_graphene_restart_1.com\" target = \"_blank\">com</a></td><td><input type=\"button\" value=\"Smart Log\" id=\"o2_uHF_STO-3G_UB3LYP_631Gd_4_4_graphene_restart_1\" onclick=\"IPython.cc_notebook.view_function(event, this.id)\" /></td><td>Success</td></tr><tr><td>o3_uam1_UB3LYP_631Gd_4_4_graphene_restart_1</td><td><a href = \"files/graphene_cycloadditions/unrestricted_cycloadd_oniom/correction/o3_uam1_UB3LYP_631Gd_4_4_graphene_restart_1.com\" target = \"_blank\">com</a></td><td><input type=\"button\" value=\"Smart Log\" id=\"o3_uam1_UB3LYP_631Gd_4_4_graphene_restart_1\" onclick=\"IPython.cc_notebook.view_function(event, this.id)\" /></td><td>Success</td></tr><tr><td>o3_upm6_UB3LYP_631Gd_4_4_graphene_restart_1</td><td><a href = \"files/graphene_cycloadditions/unrestricted_cycloadd_oniom/correction/o3_upm6_UB3LYP_631Gd_4_4_graphene_restart_1.com\" target = \"_blank\">com</a></td><td><input type=\"button\" value=\"Smart Log\" id=\"o3_upm6_UB3LYP_631Gd_4_4_graphene_restart_1\" onclick=\"IPython.cc_notebook.view_function(event, this.id)\" /></td><td>Success</td></tr><tr><td>o3_uHF_STO-3G_UB3LYP_631Gd_4_4_graphene_restart_1</td><td><a href = \"files/graphene_cycloadditions/unrestricted_cycloadd_oniom/correction/o3_uHF_STO-3G_UB3LYP_631Gd_4_4_graphene_restart_1.com\" target = \"_blank\">com</a></td><td><input type=\"button\" value=\"Smart Log\" id=\"o3_uHF_STO-3G_UB3LYP_631Gd_4_4_graphene_restart_1\" onclick=\"IPython.cc_notebook.view_function(event, this.id)\" /></td><td>Success</td></tr><tr><td>o4_uam1_UB3LYP_631Gd_4_4_graphene_restart_1</td><td><a href = \"files/graphene_cycloadditions/unrestricted_cycloadd_oniom/correction/o4_uam1_UB3LYP_631Gd_4_4_graphene_restart_1.com\" target = \"_blank\">com</a></td><td><input type=\"button\" value=\"Smart Log\" id=\"o4_uam1_UB3LYP_631Gd_4_4_graphene_restart_1\" onclick=\"IPython.cc_notebook.view_function(event, this.id)\" /></td><td>Success</td></tr><tr><td>o4_upm6_UB3LYP_631Gd_4_4_graphene_restart_1</td><td><a href = \"files/graphene_cycloadditions/unrestricted_cycloadd_oniom/correction/o4_upm6_UB3LYP_631Gd_4_4_graphene_restart_1.com\" target = \"_blank\">com</a></td><td><input type=\"button\" value=\"Smart Log\" id=\"o4_upm6_UB3LYP_631Gd_4_4_graphene_restart_1\" onclick=\"IPython.cc_notebook.view_function(event, this.id)\" /></td><td>Success</td></tr><tr><td>o4_uHF_STO-3G_UB3LYP_631Gd_4_4_graphene_restart_1</td><td><a href = \"files/graphene_cycloadditions/unrestricted_cycloadd_oniom/correction/o4_uHF_STO-3G_UB3LYP_631Gd_4_4_graphene_restart_1.com\" target = \"_blank\">com</a></td><td><input type=\"button\" value=\"Smart Log\" id=\"o4_uHF_STO-3G_UB3LYP_631Gd_4_4_graphene_restart_1\" onclick=\"IPython.cc_notebook.view_function(event, this.id)\" /></td><td>Success</td></tr><tr><td>o_sanity_UB3LYP_631Gd_4_4_graphene_restart_1</td><td><a href = \"files/graphene_cycloadditions/unrestricted_cycloadd_oniom/correction/o_sanity_UB3LYP_631Gd_4_4_graphene_restart_1.com\" target = \"_blank\">com</a></td><td><input type=\"button\" value=\"Smart Log\" id=\"o_sanity_UB3LYP_631Gd_4_4_graphene_restart_1\" onclick=\"IPython.cc_notebook.view_function(event, this.id)\" /></td><td>Error: Basis set data is not on the checkpoint file.</td></tr><tr><td>o0_uff_UB3LYP_631Gd_4_4_graphene_restart_1</td><td><a href = \"files/graphene_cycloadditions/unrestricted_cycloadd_oniom/correction/o0_uff_UB3LYP_631Gd_4_4_graphene_restart_1.com\" target = \"_blank\">com</a></td><td><input type=\"button\" value=\"Smart Log\" id=\"o0_uff_UB3LYP_631Gd_4_4_graphene_restart_1\" onclick=\"IPython.cc_notebook.view_function(event, this.id)\" /></td><td>Success</td></tr><tr><td>o1_uff_UB3LYP_631Gd_4_4_graphene_restart_1</td><td><a href = \"files/graphene_cycloadditions/unrestricted_cycloadd_oniom/correction/o1_uff_UB3LYP_631Gd_4_4_graphene_restart_1.com\" target = \"_blank\">com</a></td><td><input type=\"button\" value=\"Smart Log\" id=\"o1_uff_UB3LYP_631Gd_4_4_graphene_restart_1\" onclick=\"IPython.cc_notebook.view_function(event, this.id)\" /></td><td>Success</td></tr><tr><td>o2_uff_UB3LYP_631Gd_4_4_graphene_restart_1</td><td><a href = \"files/graphene_cycloadditions/unrestricted_cycloadd_oniom/correction/o2_uff_UB3LYP_631Gd_4_4_graphene_restart_1.com\" target = \"_blank\">com</a></td><td><input type=\"button\" value=\"Smart Log\" id=\"o2_uff_UB3LYP_631Gd_4_4_graphene_restart_1\" onclick=\"IPython.cc_notebook.view_function(event, this.id)\" /></td><td>Success</td></tr><tr><td>o3_uff_UB3LYP_631Gd_4_4_graphene_restart_1</td><td><a href = \"files/graphene_cycloadditions/unrestricted_cycloadd_oniom/correction/o3_uff_UB3LYP_631Gd_4_4_graphene_restart_1.com\" target = \"_blank\">com</a></td><td><input type=\"button\" value=\"Smart Log\" id=\"o3_uff_UB3LYP_631Gd_4_4_graphene_restart_1\" onclick=\"IPython.cc_notebook.view_function(event, this.id)\" /></td><td>Success</td></tr><tr><td>o4_uff_UB3LYP_631Gd_4_4_graphene_restart_1</td><td><a href = \"files/graphene_cycloadditions/unrestricted_cycloadd_oniom/correction/o4_uff_UB3LYP_631Gd_4_4_graphene_restart_1.com\" target = \"_blank\">com</a></td><td><input type=\"button\" value=\"Smart Log\" id=\"o4_uff_UB3LYP_631Gd_4_4_graphene_restart_1\" onclick=\"IPython.cc_notebook.view_function(event, this.id)\" /></td><td>Success</td></tr><tr><td>o0_uam1_UB3LYP_631Gd_4_4_cent_carbonyl_restart_1</td><td><a href = \"files/graphene_cycloadditions/unrestricted_cycloadd_oniom/correction/o0_uam1_UB3LYP_631Gd_4_4_cent_carbonyl_restart_1.com\" target = \"_blank\">com</a></td><td><input type=\"button\" value=\"Smart Log\" id=\"o0_uam1_UB3LYP_631Gd_4_4_cent_carbonyl_restart_1\" onclick=\"IPython.cc_notebook.view_function(event, this.id)\" /></td><td>Success</td></tr><tr><td>o0_upm6_UB3LYP_631Gd_4_4_cent_carbonyl_restart_1</td><td><a href = \"files/graphene_cycloadditions/unrestricted_cycloadd_oniom/correction/o0_upm6_UB3LYP_631Gd_4_4_cent_carbonyl_restart_1.com\" target = \"_blank\">com</a></td><td><input type=\"button\" value=\"Smart Log\" id=\"o0_upm6_UB3LYP_631Gd_4_4_cent_carbonyl_restart_1\" onclick=\"IPython.cc_notebook.view_function(event, this.id)\" /></td><td>Success</td></tr><tr><td>o0_uHF_STO-3G_UB3LYP_631Gd_4_4_cent_carbonyl_restart_1</td><td><a href = \"files/graphene_cycloadditions/unrestricted_cycloadd_oniom/correction/o0_uHF_STO-3G_UB3LYP_631Gd_4_4_cent_carbonyl_restart_1.com\" target = \"_blank\">com</a></td><td><input type=\"button\" value=\"Smart Log\" id=\"o0_uHF_STO-3G_UB3LYP_631Gd_4_4_cent_carbonyl_restart_1\" onclick=\"IPython.cc_notebook.view_function(event, this.id)\" /></td><td>Success</td></tr><tr><td>o1_uam1_UB3LYP_631Gd_4_4_cent_carbonyl_restart_1</td><td><a href = \"files/graphene_cycloadditions/unrestricted_cycloadd_oniom/correction/o1_uam1_UB3LYP_631Gd_4_4_cent_carbonyl_restart_1.com\" target = \"_blank\">com</a></td><td><input type=\"button\" value=\"Smart Log\" id=\"o1_uam1_UB3LYP_631Gd_4_4_cent_carbonyl_restart_1\" onclick=\"IPython.cc_notebook.view_function(event, this.id)\" /></td><td>Success</td></tr><tr><td>o1_upm6_UB3LYP_631Gd_4_4_cent_carbonyl_restart_1</td><td><a href = \"files/graphene_cycloadditions/unrestricted_cycloadd_oniom/correction/o1_upm6_UB3LYP_631Gd_4_4_cent_carbonyl_restart_1.com\" target = \"_blank\">com</a></td><td><input type=\"button\" value=\"Smart Log\" id=\"o1_upm6_UB3LYP_631Gd_4_4_cent_carbonyl_restart_1\" onclick=\"IPython.cc_notebook.view_function(event, this.id)\" /></td><td>Success</td></tr><tr><td>o1_uHF_STO-3G_UB3LYP_631Gd_4_4_cent_carbonyl_restart_1</td><td><a href = \"files/graphene_cycloadditions/unrestricted_cycloadd_oniom/correction/o1_uHF_STO-3G_UB3LYP_631Gd_4_4_cent_carbonyl_restart_1.com\" target = \"_blank\">com</a></td><td><input type=\"button\" value=\"Smart Log\" id=\"o1_uHF_STO-3G_UB3LYP_631Gd_4_4_cent_carbonyl_restart_1\" onclick=\"IPython.cc_notebook.view_function(event, this.id)\" /></td><td>Success</td></tr><tr><td>o2_uam1_UB3LYP_631Gd_4_4_cent_carbonyl_restart_1</td><td><a href = \"files/graphene_cycloadditions/unrestricted_cycloadd_oniom/correction/o2_uam1_UB3LYP_631Gd_4_4_cent_carbonyl_restart_1.com\" target = \"_blank\">com</a></td><td><input type=\"button\" value=\"Smart Log\" id=\"o2_uam1_UB3LYP_631Gd_4_4_cent_carbonyl_restart_1\" onclick=\"IPython.cc_notebook.view_function(event, this.id)\" /></td><td>Success</td></tr><tr><td>o2_upm6_UB3LYP_631Gd_4_4_cent_carbonyl_restart_1</td><td><a href = \"files/graphene_cycloadditions/unrestricted_cycloadd_oniom/correction/o2_upm6_UB3LYP_631Gd_4_4_cent_carbonyl_restart_1.com\" target = \"_blank\">com</a></td><td><input type=\"button\" value=\"Smart Log\" id=\"o2_upm6_UB3LYP_631Gd_4_4_cent_carbonyl_restart_1\" onclick=\"IPython.cc_notebook.view_function(event, this.id)\" /></td><td>Success</td></tr><tr><td>o2_uHF_STO-3G_UB3LYP_631Gd_4_4_cent_carbonyl_restart_1</td><td><a href = \"files/graphene_cycloadditions/unrestricted_cycloadd_oniom/correction/o2_uHF_STO-3G_UB3LYP_631Gd_4_4_cent_carbonyl_restart_1.com\" target = \"_blank\">com</a></td><td><input type=\"button\" value=\"Smart Log\" id=\"o2_uHF_STO-3G_UB3LYP_631Gd_4_4_cent_carbonyl_restart_1\" onclick=\"IPython.cc_notebook.view_function(event, this.id)\" /></td><td>Success</td></tr><tr><td>o3_uam1_UB3LYP_631Gd_4_4_cent_carbonyl_restart_1</td><td><a href = \"files/graphene_cycloadditions/unrestricted_cycloadd_oniom/correction/o3_uam1_UB3LYP_631Gd_4_4_cent_carbonyl_restart_1.com\" target = \"_blank\">com</a></td><td><input type=\"button\" value=\"Smart Log\" id=\"o3_uam1_UB3LYP_631Gd_4_4_cent_carbonyl_restart_1\" onclick=\"IPython.cc_notebook.view_function(event, this.id)\" /></td><td>Success</td></tr><tr><td>o3_upm6_UB3LYP_631Gd_4_4_cent_carbonyl_restart_1</td><td><a href = \"files/graphene_cycloadditions/unrestricted_cycloadd_oniom/correction/o3_upm6_UB3LYP_631Gd_4_4_cent_carbonyl_restart_1.com\" target = \"_blank\">com</a></td><td><input type=\"button\" value=\"Smart Log\" id=\"o3_upm6_UB3LYP_631Gd_4_4_cent_carbonyl_restart_1\" onclick=\"IPython.cc_notebook.view_function(event, this.id)\" /></td><td>Success</td></tr><tr><td>o3_uHF_STO-3G_UB3LYP_631Gd_4_4_cent_carbonyl_restart_1</td><td><a href = \"files/graphene_cycloadditions/unrestricted_cycloadd_oniom/correction/o3_uHF_STO-3G_UB3LYP_631Gd_4_4_cent_carbonyl_restart_1.com\" target = \"_blank\">com</a></td><td><input type=\"button\" value=\"Smart Log\" id=\"o3_uHF_STO-3G_UB3LYP_631Gd_4_4_cent_carbonyl_restart_1\" onclick=\"IPython.cc_notebook.view_function(event, this.id)\" /></td><td>Success</td></tr><tr><td>o4_uam1_UB3LYP_631Gd_4_4_cent_carbonyl_restart_1</td><td><a href = \"files/graphene_cycloadditions/unrestricted_cycloadd_oniom/correction/o4_uam1_UB3LYP_631Gd_4_4_cent_carbonyl_restart_1.com\" target = \"_blank\">com</a></td><td><input type=\"button\" value=\"Smart Log\" id=\"o4_uam1_UB3LYP_631Gd_4_4_cent_carbonyl_restart_1\" onclick=\"IPython.cc_notebook.view_function(event, this.id)\" /></td><td>Success</td></tr><tr><td>o4_upm6_UB3LYP_631Gd_4_4_cent_carbonyl_restart_1</td><td><a href = \"files/graphene_cycloadditions/unrestricted_cycloadd_oniom/correction/o4_upm6_UB3LYP_631Gd_4_4_cent_carbonyl_restart_1.com\" target = \"_blank\">com</a></td><td><input type=\"button\" value=\"Smart Log\" id=\"o4_upm6_UB3LYP_631Gd_4_4_cent_carbonyl_restart_1\" onclick=\"IPython.cc_notebook.view_function(event, this.id)\" /></td><td>Success</td></tr><tr><td>o4_uHF_STO-3G_UB3LYP_631Gd_4_4_cent_carbonyl_restart_1</td><td><a href = \"files/graphene_cycloadditions/unrestricted_cycloadd_oniom/correction/o4_uHF_STO-3G_UB3LYP_631Gd_4_4_cent_carbonyl_restart_1.com\" target = \"_blank\">com</a></td><td><input type=\"button\" value=\"Smart Log\" id=\"o4_uHF_STO-3G_UB3LYP_631Gd_4_4_cent_carbonyl_restart_1\" onclick=\"IPython.cc_notebook.view_function(event, this.id)\" /></td><td>Success</td></tr><tr><td>o_sanity_UB3LYP_631Gd_4_4_cent_carbonyl_restart_1</td><td><a href = \"files/graphene_cycloadditions/unrestricted_cycloadd_oniom/correction/o_sanity_UB3LYP_631Gd_4_4_cent_carbonyl_restart_1.com\" target = \"_blank\">com</a></td><td><input type=\"button\" value=\"Smart Log\" id=\"o_sanity_UB3LYP_631Gd_4_4_cent_carbonyl_restart_1\" onclick=\"IPython.cc_notebook.view_function(event, this.id)\" /></td><td>Incomplete</td></tr><tr><td>o0_uff_UB3LYP_631Gd_4_4_cent_carbonyl_restart_1</td><td><a href = \"files/graphene_cycloadditions/unrestricted_cycloadd_oniom/correction/o0_uff_UB3LYP_631Gd_4_4_cent_carbonyl_restart_1.com\" target = \"_blank\">com</a></td><td><input type=\"button\" value=\"Smart Log\" id=\"o0_uff_UB3LYP_631Gd_4_4_cent_carbonyl_restart_1\" onclick=\"IPython.cc_notebook.view_function(event, this.id)\" /></td><td>Success</td></tr><tr><td>o1_uff_UB3LYP_631Gd_4_4_cent_carbonyl_restart_1</td><td><a href = \"files/graphene_cycloadditions/unrestricted_cycloadd_oniom/correction/o1_uff_UB3LYP_631Gd_4_4_cent_carbonyl_restart_1.com\" target = \"_blank\">com</a></td><td><input type=\"button\" value=\"Smart Log\" id=\"o1_uff_UB3LYP_631Gd_4_4_cent_carbonyl_restart_1\" onclick=\"IPython.cc_notebook.view_function(event, this.id)\" /></td><td>Success</td></tr><tr><td>o2_uff_UB3LYP_631Gd_4_4_cent_carbonyl_restart_1</td><td><a href = \"files/graphene_cycloadditions/unrestricted_cycloadd_oniom/correction/o2_uff_UB3LYP_631Gd_4_4_cent_carbonyl_restart_1.com\" target = \"_blank\">com</a></td><td><input type=\"button\" value=\"Smart Log\" id=\"o2_uff_UB3LYP_631Gd_4_4_cent_carbonyl_restart_1\" onclick=\"IPython.cc_notebook.view_function(event, this.id)\" /></td><td>Success</td></tr><tr><td>o3_uff_UB3LYP_631Gd_4_4_cent_carbonyl_restart_1</td><td><a href = \"files/graphene_cycloadditions/unrestricted_cycloadd_oniom/correction/o3_uff_UB3LYP_631Gd_4_4_cent_carbonyl_restart_1.com\" target = \"_blank\">com</a></td><td><input type=\"button\" value=\"Smart Log\" id=\"o3_uff_UB3LYP_631Gd_4_4_cent_carbonyl_restart_1\" onclick=\"IPython.cc_notebook.view_function(event, this.id)\" /></td><td>Success</td></tr><tr><td>o4_uff_UB3LYP_631Gd_4_4_cent_carbonyl_restart_1</td><td><a href = \"files/graphene_cycloadditions/unrestricted_cycloadd_oniom/correction/o4_uff_UB3LYP_631Gd_4_4_cent_carbonyl_restart_1.com\" target = \"_blank\">com</a></td><td><input type=\"button\" value=\"Smart Log\" id=\"o4_uff_UB3LYP_631Gd_4_4_cent_carbonyl_restart_1\" onclick=\"IPython.cc_notebook.view_function(event, this.id)\" /></td><td>Success</td></tr>\n",
        "    </table>\n",
        "    </body>"
       ],
       "metadata": {},
       "output_type": "pyout",
       "prompt_number": 49,
       "text": [
        "<IPython.core.display.HTML at 0x7f12f5c740d0>"
       ]
      }
     ],
     "prompt_number": 49
    },
    {
     "cell_type": "code",
     "collapsed": false,
     "input": [
      "#remove failed sanity calculations\n",
      "\n",
      "o_44_carb = [m for m in o_44_carb if 'sanity' not in m.calc.label]\n",
      "o_44_carb.sort(key=lambda m:m.calc.label)\n",
      "o_44 = [m for m in o_44 if 'sanity' not in m.calc.label]\n",
      "o_44.sort(key=lambda m:m.calc.label)"
     ],
     "language": "python",
     "metadata": {},
     "outputs": [],
     "prompt_number": 55
    },
    {
     "cell_type": "code",
     "collapsed": false,
     "input": [
      "def rxn_E_f(a,g):\n",
      "    try: \n",
      "        return(a.calc.energy_zero - g.calc.energy_zero - carb.calc.results['energy'])* 23.060542301388647 \n",
      "    except AttributeError: \n",
      "        return float('nan')\n",
      "    \n",
      "rxn_Es = []\n",
      "delt_Es = []\n",
      "names = []\n",
      "\n",
      "for i in range(len(o_44_carb)):\n",
      "    rxn_E = rxn_E_f(o_44_carb[i], o_44[i])\n",
      "    delt_E = rxn_E - -15.925565\n",
      "    name = o_44_carb[i].calc.label\n",
      "    rxn_Es.append(rxn_E)\n",
      "    delt_Es.append(delt_E)\n",
      "    names.append(name)\n",
      "\n",
      "o_data = pandas.Series(rxn_Es ,names)\n",
      "o_dft_delt_data = pandas.Series(delt_Es, names)"
     ],
     "language": "python",
     "metadata": {},
     "outputs": [],
     "prompt_number": 56
    },
    {
     "cell_type": "code",
     "collapsed": false,
     "input": [
      "#energy in Kcal/mol\n",
      "d = {'Rxn Energy': o_data, 'oniom-b3lyp_delta': o_dft_delt_data}\n",
      "rxn_frame = pandas.DataFrame(d)\n",
      "#rxn_frame.save('o_rxn_E_data.pickle')\n",
      "rxn_frame"
     ],
     "language": "python",
     "metadata": {},
     "outputs": [
      {
       "html": [
        "<div style=\"max-height:1000px;max-width:1500px;overflow:auto;\">\n",
        "<table border=\"1\" class=\"dataframe\">\n",
        "  <thead>\n",
        "    <tr style=\"text-align: right;\">\n",
        "      <th></th>\n",
        "      <th>Rxn Energy</th>\n",
        "      <th>oniom-b3lyp_delta</th>\n",
        "    </tr>\n",
        "  </thead>\n",
        "  <tbody>\n",
        "    <tr>\n",
        "      <th>o0_uHF_STO-3G_UB3LYP_631Gd_4_4_cent_carbonyl_restart_1</th>\n",
        "      <td> -2.625387</td>\n",
        "      <td> 13.300178</td>\n",
        "    </tr>\n",
        "    <tr>\n",
        "      <th>o0_uam1_UB3LYP_631Gd_4_4_cent_carbonyl_restart_1</th>\n",
        "      <td>-21.868492</td>\n",
        "      <td> -5.942927</td>\n",
        "    </tr>\n",
        "    <tr>\n",
        "      <th>o0_uff_UB3LYP_631Gd_4_4_cent_carbonyl_restart_1</th>\n",
        "      <td>-97.999606</td>\n",
        "      <td>-82.074041</td>\n",
        "    </tr>\n",
        "    <tr>\n",
        "      <th>o0_upm6_UB3LYP_631Gd_4_4_cent_carbonyl_restart_1</th>\n",
        "      <td>-45.181587</td>\n",
        "      <td>-29.256022</td>\n",
        "    </tr>\n",
        "    <tr>\n",
        "      <th>o1_uHF_STO-3G_UB3LYP_631Gd_4_4_cent_carbonyl_restart_1</th>\n",
        "      <td> -7.179853</td>\n",
        "      <td>  8.745712</td>\n",
        "    </tr>\n",
        "    <tr>\n",
        "      <th>o1_uam1_UB3LYP_631Gd_4_4_cent_carbonyl_restart_1</th>\n",
        "      <td> -6.839712</td>\n",
        "      <td>  9.085853</td>\n",
        "    </tr>\n",
        "    <tr>\n",
        "      <th>o1_uff_UB3LYP_631Gd_4_4_cent_carbonyl_restart_1</th>\n",
        "      <td> -8.276943</td>\n",
        "      <td>  7.648622</td>\n",
        "    </tr>\n",
        "    <tr>\n",
        "      <th>o1_upm6_UB3LYP_631Gd_4_4_cent_carbonyl_restart_1</th>\n",
        "      <td> -9.603343</td>\n",
        "      <td>  6.322222</td>\n",
        "    </tr>\n",
        "    <tr>\n",
        "      <th>o2_uHF_STO-3G_UB3LYP_631Gd_4_4_cent_carbonyl_restart_1</th>\n",
        "      <td> -7.893028</td>\n",
        "      <td>  8.032537</td>\n",
        "    </tr>\n",
        "    <tr>\n",
        "      <th>o2_uam1_UB3LYP_631Gd_4_4_cent_carbonyl_restart_1</th>\n",
        "      <td>-12.643091</td>\n",
        "      <td>  3.282474</td>\n",
        "    </tr>\n",
        "    <tr>\n",
        "      <th>o2_uff_UB3LYP_631Gd_4_4_cent_carbonyl_restart_1</th>\n",
        "      <td>-11.339407</td>\n",
        "      <td>  4.586158</td>\n",
        "    </tr>\n",
        "    <tr>\n",
        "      <th>o2_upm6_UB3LYP_631Gd_4_4_cent_carbonyl_restart_1</th>\n",
        "      <td>-14.329774</td>\n",
        "      <td>  1.595791</td>\n",
        "    </tr>\n",
        "    <tr>\n",
        "      <th>o3_uHF_STO-3G_UB3LYP_631Gd_4_4_cent_carbonyl_restart_1</th>\n",
        "      <td>-20.402130</td>\n",
        "      <td> -4.476565</td>\n",
        "    </tr>\n",
        "    <tr>\n",
        "      <th>o3_uam1_UB3LYP_631Gd_4_4_cent_carbonyl_restart_1</th>\n",
        "      <td>-23.237862</td>\n",
        "      <td> -7.312297</td>\n",
        "    </tr>\n",
        "    <tr>\n",
        "      <th>o3_uff_UB3LYP_631Gd_4_4_cent_carbonyl_restart_1</th>\n",
        "      <td>-37.634876</td>\n",
        "      <td>-21.709311</td>\n",
        "    </tr>\n",
        "    <tr>\n",
        "      <th>o3_upm6_UB3LYP_631Gd_4_4_cent_carbonyl_restart_1</th>\n",
        "      <td>-24.899399</td>\n",
        "      <td> -8.973834</td>\n",
        "    </tr>\n",
        "    <tr>\n",
        "      <th>o4_uHF_STO-3G_UB3LYP_631Gd_4_4_cent_carbonyl_restart_1</th>\n",
        "      <td> -3.543645</td>\n",
        "      <td> 12.381920</td>\n",
        "    </tr>\n",
        "    <tr>\n",
        "      <th>o4_uam1_UB3LYP_631Gd_4_4_cent_carbonyl_restart_1</th>\n",
        "      <td> -4.124172</td>\n",
        "      <td> 11.801393</td>\n",
        "    </tr>\n",
        "    <tr>\n",
        "      <th>o4_uff_UB3LYP_631Gd_4_4_cent_carbonyl_restart_1</th>\n",
        "      <td> -3.821645</td>\n",
        "      <td> 12.103920</td>\n",
        "    </tr>\n",
        "    <tr>\n",
        "      <th>o4_upm6_UB3LYP_631Gd_4_4_cent_carbonyl_restart_1</th>\n",
        "      <td> -4.353591</td>\n",
        "      <td> 11.571974</td>\n",
        "    </tr>\n",
        "  </tbody>\n",
        "</table>\n",
        "<p>20 rows \u00d7 2 columns</p>\n",
        "</div>"
       ],
       "metadata": {},
       "output_type": "pyout",
       "prompt_number": 57,
       "text": [
        "                                                        Rxn Energy  \\\n",
        "o0_uHF_STO-3G_UB3LYP_631Gd_4_4_cent_carbonyl_restart_1   -2.625387   \n",
        "o0_uam1_UB3LYP_631Gd_4_4_cent_carbonyl_restart_1        -21.868492   \n",
        "o0_uff_UB3LYP_631Gd_4_4_cent_carbonyl_restart_1         -97.999606   \n",
        "o0_upm6_UB3LYP_631Gd_4_4_cent_carbonyl_restart_1        -45.181587   \n",
        "o1_uHF_STO-3G_UB3LYP_631Gd_4_4_cent_carbonyl_restart_1   -7.179853   \n",
        "o1_uam1_UB3LYP_631Gd_4_4_cent_carbonyl_restart_1         -6.839712   \n",
        "o1_uff_UB3LYP_631Gd_4_4_cent_carbonyl_restart_1          -8.276943   \n",
        "o1_upm6_UB3LYP_631Gd_4_4_cent_carbonyl_restart_1         -9.603343   \n",
        "o2_uHF_STO-3G_UB3LYP_631Gd_4_4_cent_carbonyl_restart_1   -7.893028   \n",
        "o2_uam1_UB3LYP_631Gd_4_4_cent_carbonyl_restart_1        -12.643091   \n",
        "o2_uff_UB3LYP_631Gd_4_4_cent_carbonyl_restart_1         -11.339407   \n",
        "o2_upm6_UB3LYP_631Gd_4_4_cent_carbonyl_restart_1        -14.329774   \n",
        "o3_uHF_STO-3G_UB3LYP_631Gd_4_4_cent_carbonyl_restart_1  -20.402130   \n",
        "o3_uam1_UB3LYP_631Gd_4_4_cent_carbonyl_restart_1        -23.237862   \n",
        "o3_uff_UB3LYP_631Gd_4_4_cent_carbonyl_restart_1         -37.634876   \n",
        "o3_upm6_UB3LYP_631Gd_4_4_cent_carbonyl_restart_1        -24.899399   \n",
        "o4_uHF_STO-3G_UB3LYP_631Gd_4_4_cent_carbonyl_restart_1   -3.543645   \n",
        "o4_uam1_UB3LYP_631Gd_4_4_cent_carbonyl_restart_1         -4.124172   \n",
        "o4_uff_UB3LYP_631Gd_4_4_cent_carbonyl_restart_1          -3.821645   \n",
        "o4_upm6_UB3LYP_631Gd_4_4_cent_carbonyl_restart_1         -4.353591   \n",
        "\n",
        "                                                        oniom-b3lyp_delta  \n",
        "o0_uHF_STO-3G_UB3LYP_631Gd_4_4_cent_carbonyl_restart_1          13.300178  \n",
        "o0_uam1_UB3LYP_631Gd_4_4_cent_carbonyl_restart_1                -5.942927  \n",
        "o0_uff_UB3LYP_631Gd_4_4_cent_carbonyl_restart_1                -82.074041  \n",
        "o0_upm6_UB3LYP_631Gd_4_4_cent_carbonyl_restart_1               -29.256022  \n",
        "o1_uHF_STO-3G_UB3LYP_631Gd_4_4_cent_carbonyl_restart_1           8.745712  \n",
        "o1_uam1_UB3LYP_631Gd_4_4_cent_carbonyl_restart_1                 9.085853  \n",
        "o1_uff_UB3LYP_631Gd_4_4_cent_carbonyl_restart_1                  7.648622  \n",
        "o1_upm6_UB3LYP_631Gd_4_4_cent_carbonyl_restart_1                 6.322222  \n",
        "o2_uHF_STO-3G_UB3LYP_631Gd_4_4_cent_carbonyl_restart_1           8.032537  \n",
        "o2_uam1_UB3LYP_631Gd_4_4_cent_carbonyl_restart_1                 3.282474  \n",
        "o2_uff_UB3LYP_631Gd_4_4_cent_carbonyl_restart_1                  4.586158  \n",
        "o2_upm6_UB3LYP_631Gd_4_4_cent_carbonyl_restart_1                 1.595791  \n",
        "o3_uHF_STO-3G_UB3LYP_631Gd_4_4_cent_carbonyl_restart_1          -4.476565  \n",
        "o3_uam1_UB3LYP_631Gd_4_4_cent_carbonyl_restart_1                -7.312297  \n",
        "o3_uff_UB3LYP_631Gd_4_4_cent_carbonyl_restart_1                -21.709311  \n",
        "o3_upm6_UB3LYP_631Gd_4_4_cent_carbonyl_restart_1                -8.973834  \n",
        "o4_uHF_STO-3G_UB3LYP_631Gd_4_4_cent_carbonyl_restart_1          12.381920  \n",
        "o4_uam1_UB3LYP_631Gd_4_4_cent_carbonyl_restart_1                11.801393  \n",
        "o4_uff_UB3LYP_631Gd_4_4_cent_carbonyl_restart_1                 12.103920  \n",
        "o4_upm6_UB3LYP_631Gd_4_4_cent_carbonyl_restart_1                11.571974  \n",
        "\n",
        "[20 rows x 2 columns]"
       ]
      }
     ],
     "prompt_number": 57
    },
    {
     "cell_type": "heading",
     "level": 2,
     "metadata": {},
     "source": [
      "Optimised geometry calculations"
     ]
    },
    {
     "cell_type": "code",
     "collapsed": false,
     "input": [
      "o_44_opt_carb = []\n",
      "o_44_opt = []\n",
      "\n",
      "i=0\n",
      "for siz in range(5):\n",
      "    for meth in l_methods:       \n",
      "        graph = read(graph_44_xyz)\n",
      "        graph_name = 'o{s}_{m}_o{s}_{m}_4_4_graphene'.format(m=meth.replace('/', '_'), s=siz)\n",
      "        graph.set_calculator(Gaussian(label=graph_name, \n",
      "                                      method='oniom(UB3LYP/6-31G(d):{l})'.format(l=meth), \n",
      "                                      basis='oniom', opt='opt', \n",
      "                                      component_calcs=zip(ul_rls, uh_mds, ul_mds)[i]))\n",
      "        graph_H = graph_atoms[siz]\n",
      "        graph.calc.oniom_coord_params['layers'] = [[no -1 for no in graph_H]]\n",
      "        graph.calc.oniom_coord_params['layer_mults'] = [1,1]\n",
      "        graph.calc.set_job(nodes=8, memory=8*1400, time=5, queue='pqmb')\n",
      "        #graph.calc.start(frc=True)\n",
      "        o_44_opt.append(graph)      \n",
      "        i+=1\n",
      "        \n",
      "#as we are missing out the sanity calc\n",
      "i+=1\n",
      "for siz in range(5):\n",
      "    for meth in l_methods:        \n",
      "        graph_ylid = read(carb_44_xyz)\n",
      "        graph_ylid_name = 'o{s}_{m}_o{s}_{m}_4_4_cent_carbonyl'.format(m=meth.replace('/', '_'), s=siz)\n",
      "        graph_ylid.set_calculator(Gaussian(label=graph_ylid_name, \n",
      "                                           method='oniom(UB3LYP/6-31G(d):{l})'.format(l=meth), \n",
      "                                           basis='oniom', opt='opt', \n",
      "                                           component_calcs=zip(ul_rls, uh_mds, ul_mds)[i]))\n",
      "        graph_ylid_H = ylide_atoms + graph_atoms[siz]\n",
      "        graph_ylid.calc.oniom_coord_params['layers'] = [[no -1 for no in graph_ylid_H]]\n",
      "        graph_ylid.calc.oniom_coord_params['layer_mults'] = [1,1]\n",
      "        graph_ylid.calc.set_job(nodes=8, memory=8*1400, time=5, queue='pqmb')\n",
      "        #graph_ylid.calc.start(frc=True)\n",
      "        o_44_opt_carb.append(graph_ylid)\n",
      "        i+=1\n",
      "\n",
      "#sanity check\n",
      "#graph_ylid = read(carb_44_xyz)\n",
      "#graph_ylid_name = 'o_sanity_o_sanity_4_4_cent_carbonyl'\n",
      "#graph_ylid.set_calculator(Gaussian(label=graph_ylid_name, method='oniom(B3LYP/6-31G(d):B3LYP/6-31G(d))', basis='oniom', opt='opt'))\n",
      "#graph_ylid_H = ylide_atoms + graph_atoms[0]\n",
      "#graph_ylid.calc.coord_params['layers'] = [[no -1 for no in graph_ylid_H]]\n",
      "#graph_ylid.calc.coord_params['layer_mults'] = [1,1]\n",
      "#graph_ylid.calc.set_job(nodes=8, memory=8*1400, time=5)\n",
      "        \n",
      "#graph = read(graph_44_xyz)\n",
      "#graph_name = 'o_sanity_o_sanity_4_4_graphene'\n",
      "#graph.set_calculator(Gaussian(label=graph_name, method='oniom(B3LYP/6-31G(d):B3LYP/6-31G(d))', basis='oniom', opt='opt'))\n",
      "#graph_H = graph_atoms[0]\n",
      "#graph.calc.coord_params['layers'] = [[no -1 for no in graph_H]]\n",
      "#graph.calc.coord_params['layer_mults'] = [1,1]\n",
      "#graph.calc.set_job(nodes=8, memory=8*1400, time=5)\n",
      "        \n",
      "#graph_ylid.get_potential_energy()\n",
      "#graph.get_potential_energy()\n",
      "#o_44_opt_carb.append(graph_ylid)\n",
      "#o_44_opt.append(graph)"
     ],
     "language": "python",
     "metadata": {},
     "outputs": [],
     "prompt_number": 62
    },
    {
     "cell_type": "code",
     "collapsed": false,
     "input": [
      "#add uff where we only read in the high model (doesn't matter which one as they are all UB3lYP/6-31G*)\n",
      "i=0\n",
      "for siz in range(5):\n",
      "    for meth in ['uff']:       \n",
      "        graph = read(graph_44_xyz)\n",
      "        graph_name = 'o{s}_{m}_o{s}_{m}_4_4_graphene'.format(m=meth.replace('/', '_'), s=siz)\n",
      "        graph.set_calculator(Gaussian(label=graph_name, \n",
      "                                      method='oniom(UB3LYP/6-31G(d):{l})'.format(l=meth), \n",
      "                                      basis='oniom', opt='opt', \n",
      "                                      component_calcs=['', uh_mds[i], '']))\n",
      "        graph_H = graph_atoms[siz]\n",
      "        graph.calc.oniom_coord_params['layers'] = [[no -1 for no in graph_H]]\n",
      "        graph.calc.oniom_coord_params['layer_mults'] = [1,1]\n",
      "        graph.calc.set_job(nodes=8, memory=8*1400, time=5, queue='pqmb',version='g09')\n",
      "        #graph.calc.start()\n",
      "        o_44_opt.append(graph)      \n",
      "        i+=3\n",
      "        \n",
      "i+=1\n",
      "for siz in range(5):\n",
      "    for meth in ['uff']:        \n",
      "        graph_ylid = read(carb_44_xyz)\n",
      "        graph_ylid_name = 'o{s}_{m}_o{s}_{m}_4_4_cent_carbonyl'.format(m=meth.replace('/', '_'), s=siz)\n",
      "        graph_ylid.set_calculator(Gaussian(label=graph_ylid_name, \n",
      "                                           method='oniom(UB3LYP/6-31G(d):{l})'.format(l=meth), \n",
      "                                           basis='oniom', opt='opt', \n",
      "                                           component_calcs=['', uh_mds[i], '']))\n",
      "        graph_ylid_H = ylide_atoms + graph_atoms[siz]\n",
      "        graph_ylid.calc.oniom_coord_params['layers'] = [[no -1 for no in graph_ylid_H]]\n",
      "        graph_ylid.calc.oniom_coord_params['layer_mults'] = [1,1]\n",
      "        graph_ylid.calc.set_job(nodes=8, memory=8*1400, time=5, queue='pqmb',version='g09')\n",
      "        #graph_ylid.calc.start()\n",
      "        o_44_opt_carb.append(graph_ylid)\n",
      "        i+=3"
     ],
     "language": "python",
     "metadata": {},
     "outputs": [],
     "prompt_number": 63
    },
    {
     "cell_type": "code",
     "collapsed": false,
     "input": [
      "carb = read('../../cycloadd/B3LYP_631Gd_B3LYP_631Gd_carbonyl_ylide_mult_1.log')\n",
      "azo = read('../../cycloadd/B3LYP_631Gd_B3LYP_631Gd_azomethine_ylide_mult_1.log')\n",
      "check_calcs(o_44_opt + o_44_opt_carb)"
     ],
     "language": "python",
     "metadata": {},
     "outputs": [
      {
       "metadata": {},
       "output_type": "pyout",
       "prompt_number": 64,
       "text": [
        "'Calculations complete'"
       ]
      }
     ],
     "prompt_number": 64
    },
    {
     "cell_type": "code",
     "collapsed": false,
     "input": [
      "#remove failed sanity calculations\n",
      "\n",
      "o_44_opt_carb = [m for m in o_44_opt_carb if 'sanity' not in m.calc.label]\n",
      "o_44_opt_carb.sort(key=lambda m:m.calc.label)\n",
      "o_44_opt = [m for m in o_44_opt if 'sanity' not in m.calc.label]\n",
      "o_44_opt.sort(key=lambda m:m.calc.label)"
     ],
     "language": "python",
     "metadata": {},
     "outputs": [],
     "prompt_number": 65
    },
    {
     "cell_type": "code",
     "collapsed": false,
     "input": [
      "def rxn_E_f(a,g):\n",
      "    try: \n",
      "        return(a.calc.energy_zero - g.calc.energy_zero - carb.calc.results['energy'])* 23.060542301388647 \n",
      "    except AttributeError: \n",
      "        return float('nan')\n",
      "    \n",
      "rxn_Es = []\n",
      "delt_Es = []\n",
      "abs_delt_Es = []\n",
      "names = []\n",
      "\n",
      "for i in range(len(o_44_opt_carb)):\n",
      "    rxn_E = rxn_E_f(o_44_opt_carb[i], o_44_opt[i])\n",
      "    delt_E = rxn_E - -15.790776\n",
      "    name = o_44_opt_carb[i].calc.label\n",
      "    rxn_Es.append(rxn_E)\n",
      "    delt_Es.append(delt_E)\n",
      "    abs_delt_Es.append(abs(delt_E))\n",
      "    names.append(name)\n",
      "\n",
      "o_data = pandas.Series(rxn_Es ,names)\n",
      "o_dft_delt_data = pandas.Series(delt_Es, names)\n",
      "o_dft_abs_delt_data = pandas.Series(abs_delt_Es, names)\n",
      "#o_dft_abs_delt_data.to_pickle('oniom_carb_abs_rxn_error.pickle')\n",
      "#!cp oniom_carb_abs_rxn_error.pickle ../"
     ],
     "language": "python",
     "metadata": {},
     "outputs": [],
     "prompt_number": 75
    },
    {
     "cell_type": "code",
     "collapsed": false,
     "input": [
      "#energy in Kcal/mol\n",
      "d = {'Rxn Energy': o_data, 'oniom-b3lyp_delta': o_dft_delt_data}\n",
      "opt_rxn_frame = pandas.DataFrame(d)\n",
      "\n",
      "o_keys, o_opt_keys = rxn_frame.index, opt_rxn_frame.index\n",
      "key_map_dict = {o_keys[i]:o_opt_keys[i] for i in range(len(opt_rxn_frame))}\n",
      "temp_data = rxn_frame.rename(index=key_map_dict)\n",
      "delta_data = temp_data.applymap(abs)-opt_rxn_frame.applymap(abs)\n",
      "delta_data = delta_data.rename(columns={'oniom-b3lyp_delta' : 'Improvement on relaxing'})\n",
      "opt_rxn_frame = opt_rxn_frame.join(delta_data['Improvement on relaxing'])\n",
      "#opt_rxn_frame.save('opt_o_rxn_E_data.pickle')\n",
      "opt_rxn_frame"
     ],
     "language": "python",
     "metadata": {},
     "outputs": [
      {
       "html": [
        "<div style=\"max-height:1000px;max-width:1500px;overflow:auto;\">\n",
        "<table border=\"1\" class=\"dataframe\">\n",
        "  <thead>\n",
        "    <tr style=\"text-align: right;\">\n",
        "      <th></th>\n",
        "      <th>Rxn Energy</th>\n",
        "      <th>oniom-b3lyp_delta</th>\n",
        "      <th>Improvement on relaxing</th>\n",
        "    </tr>\n",
        "  </thead>\n",
        "  <tbody>\n",
        "    <tr>\n",
        "      <th>o0_uHF_STO-3G_o0_uHF_STO-3G_4_4_cent_carbonyl</th>\n",
        "      <td> -4.688349</td>\n",
        "      <td> 11.102427</td>\n",
        "      <td> 2.197752</td>\n",
        "    </tr>\n",
        "    <tr>\n",
        "      <th>o0_uam1_o0_uam1_4_4_cent_carbonyl</th>\n",
        "      <td>-24.990432</td>\n",
        "      <td> -9.199656</td>\n",
        "      <td>-3.256728</td>\n",
        "    </tr>\n",
        "    <tr>\n",
        "      <th>o0_uff_o0_uff_4_4_cent_carbonyl</th>\n",
        "      <td>-95.625400</td>\n",
        "      <td>-79.834624</td>\n",
        "      <td> 2.239417</td>\n",
        "    </tr>\n",
        "    <tr>\n",
        "      <th>o0_upm6_o0_upm6_4_4_cent_carbonyl</th>\n",
        "      <td>-44.797860</td>\n",
        "      <td>-29.007084</td>\n",
        "      <td> 0.248939</td>\n",
        "    </tr>\n",
        "    <tr>\n",
        "      <th>o1_uHF_STO-3G_o1_uHF_STO-3G_4_4_cent_carbonyl</th>\n",
        "      <td> -8.141909</td>\n",
        "      <td>  7.648867</td>\n",
        "      <td> 1.096845</td>\n",
        "    </tr>\n",
        "    <tr>\n",
        "      <th>o1_uam1_o1_uam1_4_4_cent_carbonyl</th>\n",
        "      <td> -7.514659</td>\n",
        "      <td>  8.276117</td>\n",
        "      <td> 0.809736</td>\n",
        "    </tr>\n",
        "    <tr>\n",
        "      <th>o1_uff_o1_uff_4_4_cent_carbonyl</th>\n",
        "      <td>-11.639399</td>\n",
        "      <td>  4.151377</td>\n",
        "      <td> 3.497245</td>\n",
        "    </tr>\n",
        "    <tr>\n",
        "      <th>o1_upm6_o1_upm6_4_4_cent_carbonyl</th>\n",
        "      <td>-10.719009</td>\n",
        "      <td>  5.071767</td>\n",
        "      <td> 1.250456</td>\n",
        "    </tr>\n",
        "    <tr>\n",
        "      <th>o2_uHF_STO-3G_o2_uHF_STO-3G_4_4_cent_carbonyl</th>\n",
        "      <td> -7.620914</td>\n",
        "      <td>  8.169862</td>\n",
        "      <td>-0.137325</td>\n",
        "    </tr>\n",
        "    <tr>\n",
        "      <th>o2_uam1_o2_uam1_4_4_cent_carbonyl</th>\n",
        "      <td>-12.685041</td>\n",
        "      <td>  3.105735</td>\n",
        "      <td> 0.176739</td>\n",
        "    </tr>\n",
        "    <tr>\n",
        "      <th>o2_uff_o2_uff_4_4_cent_carbonyl</th>\n",
        "      <td>-10.746491</td>\n",
        "      <td>  5.044285</td>\n",
        "      <td>-0.458128</td>\n",
        "    </tr>\n",
        "    <tr>\n",
        "      <th>o2_upm6_o2_upm6_4_4_cent_carbonyl</th>\n",
        "      <td>-14.781743</td>\n",
        "      <td>  1.009033</td>\n",
        "      <td> 0.586758</td>\n",
        "    </tr>\n",
        "    <tr>\n",
        "      <th>o3_uHF_STO-3G_o3_uHF_STO-3G_4_4_cent_carbonyl</th>\n",
        "      <td>-24.594451</td>\n",
        "      <td> -8.803675</td>\n",
        "      <td>-4.327110</td>\n",
        "    </tr>\n",
        "    <tr>\n",
        "      <th>o3_uam1_o3_uam1_4_4_cent_carbonyl</th>\n",
        "      <td>-27.050826</td>\n",
        "      <td>-11.260050</td>\n",
        "      <td>-3.947753</td>\n",
        "    </tr>\n",
        "    <tr>\n",
        "      <th>o3_uff_o3_uff_4_4_cent_carbonyl</th>\n",
        "      <td>-40.119366</td>\n",
        "      <td>-24.328590</td>\n",
        "      <td>-2.619278</td>\n",
        "    </tr>\n",
        "    <tr>\n",
        "      <th>o3_upm6_o3_upm6_4_4_cent_carbonyl</th>\n",
        "      <td>-27.439436</td>\n",
        "      <td>-11.648660</td>\n",
        "      <td>-2.674826</td>\n",
        "    </tr>\n",
        "    <tr>\n",
        "      <th>o4_uHF_STO-3G_o4_uHF_STO-3G_4_4_cent_carbonyl</th>\n",
        "      <td> -0.774904</td>\n",
        "      <td> 15.015872</td>\n",
        "      <td>-2.633952</td>\n",
        "    </tr>\n",
        "    <tr>\n",
        "      <th>o4_uam1_o4_uam1_4_4_cent_carbonyl</th>\n",
        "      <td> -2.056515</td>\n",
        "      <td> 13.734261</td>\n",
        "      <td>-1.932868</td>\n",
        "    </tr>\n",
        "    <tr>\n",
        "      <th>o4_uff_o4_uff_4_4_cent_carbonyl</th>\n",
        "      <td>  0.026152</td>\n",
        "      <td> 15.816928</td>\n",
        "      <td>-3.713008</td>\n",
        "    </tr>\n",
        "    <tr>\n",
        "      <th>o4_upm6_o4_upm6_4_4_cent_carbonyl</th>\n",
        "      <td> -2.558089</td>\n",
        "      <td> 13.232687</td>\n",
        "      <td>-1.660713</td>\n",
        "    </tr>\n",
        "  </tbody>\n",
        "</table>\n",
        "<p>20 rows \u00d7 3 columns</p>\n",
        "</div>"
       ],
       "metadata": {},
       "output_type": "pyout",
       "prompt_number": 76,
       "text": [
        "                                               Rxn Energy  oniom-b3lyp_delta  \\\n",
        "o0_uHF_STO-3G_o0_uHF_STO-3G_4_4_cent_carbonyl   -4.688349          11.102427   \n",
        "o0_uam1_o0_uam1_4_4_cent_carbonyl              -24.990432          -9.199656   \n",
        "o0_uff_o0_uff_4_4_cent_carbonyl                -95.625400         -79.834624   \n",
        "o0_upm6_o0_upm6_4_4_cent_carbonyl              -44.797860         -29.007084   \n",
        "o1_uHF_STO-3G_o1_uHF_STO-3G_4_4_cent_carbonyl   -8.141909           7.648867   \n",
        "o1_uam1_o1_uam1_4_4_cent_carbonyl               -7.514659           8.276117   \n",
        "o1_uff_o1_uff_4_4_cent_carbonyl                -11.639399           4.151377   \n",
        "o1_upm6_o1_upm6_4_4_cent_carbonyl              -10.719009           5.071767   \n",
        "o2_uHF_STO-3G_o2_uHF_STO-3G_4_4_cent_carbonyl   -7.620914           8.169862   \n",
        "o2_uam1_o2_uam1_4_4_cent_carbonyl              -12.685041           3.105735   \n",
        "o2_uff_o2_uff_4_4_cent_carbonyl                -10.746491           5.044285   \n",
        "o2_upm6_o2_upm6_4_4_cent_carbonyl              -14.781743           1.009033   \n",
        "o3_uHF_STO-3G_o3_uHF_STO-3G_4_4_cent_carbonyl  -24.594451          -8.803675   \n",
        "o3_uam1_o3_uam1_4_4_cent_carbonyl              -27.050826         -11.260050   \n",
        "o3_uff_o3_uff_4_4_cent_carbonyl                -40.119366         -24.328590   \n",
        "o3_upm6_o3_upm6_4_4_cent_carbonyl              -27.439436         -11.648660   \n",
        "o4_uHF_STO-3G_o4_uHF_STO-3G_4_4_cent_carbonyl   -0.774904          15.015872   \n",
        "o4_uam1_o4_uam1_4_4_cent_carbonyl               -2.056515          13.734261   \n",
        "o4_uff_o4_uff_4_4_cent_carbonyl                  0.026152          15.816928   \n",
        "o4_upm6_o4_upm6_4_4_cent_carbonyl               -2.558089          13.232687   \n",
        "\n",
        "                                               Improvement on relaxing  \n",
        "o0_uHF_STO-3G_o0_uHF_STO-3G_4_4_cent_carbonyl                 2.197752  \n",
        "o0_uam1_o0_uam1_4_4_cent_carbonyl                            -3.256728  \n",
        "o0_uff_o0_uff_4_4_cent_carbonyl                               2.239417  \n",
        "o0_upm6_o0_upm6_4_4_cent_carbonyl                             0.248939  \n",
        "o1_uHF_STO-3G_o1_uHF_STO-3G_4_4_cent_carbonyl                 1.096845  \n",
        "o1_uam1_o1_uam1_4_4_cent_carbonyl                             0.809736  \n",
        "o1_uff_o1_uff_4_4_cent_carbonyl                               3.497245  \n",
        "o1_upm6_o1_upm6_4_4_cent_carbonyl                             1.250456  \n",
        "o2_uHF_STO-3G_o2_uHF_STO-3G_4_4_cent_carbonyl                -0.137325  \n",
        "o2_uam1_o2_uam1_4_4_cent_carbonyl                             0.176739  \n",
        "o2_uff_o2_uff_4_4_cent_carbonyl                              -0.458128  \n",
        "o2_upm6_o2_upm6_4_4_cent_carbonyl                             0.586758  \n",
        "o3_uHF_STO-3G_o3_uHF_STO-3G_4_4_cent_carbonyl                -4.327110  \n",
        "o3_uam1_o3_uam1_4_4_cent_carbonyl                            -3.947753  \n",
        "o3_uff_o3_uff_4_4_cent_carbonyl                              -2.619278  \n",
        "o3_upm6_o3_upm6_4_4_cent_carbonyl                            -2.674826  \n",
        "o4_uHF_STO-3G_o4_uHF_STO-3G_4_4_cent_carbonyl                -2.633952  \n",
        "o4_uam1_o4_uam1_4_4_cent_carbonyl                            -1.932868  \n",
        "o4_uff_o4_uff_4_4_cent_carbonyl                              -3.713008  \n",
        "o4_upm6_o4_upm6_4_4_cent_carbonyl                            -1.660713  \n",
        "\n",
        "[20 rows x 3 columns]"
       ]
      }
     ],
     "prompt_number": 76
    },
    {
     "cell_type": "code",
     "collapsed": false,
     "input": [
      "plotting_frame = pandas.DataFrame({'Error /Kcalmol^-1': o_dft_abs_delt_data}).T\n",
      "plotting_frame.rename(columns=lambda l: l.split('_o')[0], inplace=True)\n",
      "\n",
      "# Create a figure of given size\n",
      "fig = plt.figure(figsize=(16,12))\n",
      "# Add a subplot\n",
      "ax = fig.add_subplot(111)\n",
      "# Set title\n",
      "ttl = 'Absolute Reaction Energy Errors'\n",
      "# Set color transparency (0: transparent; 1: solid)\n",
      "a = 0.7\n",
      "# Create a colormap\n",
      "customcmap = [(x/24.0,  x/48.0, 0.05) for x in range(10)]\n",
      "\n",
      "plotting_frame.T.plot(kind='barh', ax=ax, alpha=a, legend=False,\n",
      "                      edgecolor='w', xlim=(0,max(plotting_frame.T['Error /Kcalmol^-1'])), title=ttl)\n",
      "\n",
      "# Remove grid lines (dotted lines inside plot)\n",
      "ax.grid(False)\n",
      "# Remove plot frame\n",
      "ax.set_frame_on(False)\n",
      "# Pandas trick: remove weird dotted line on axis\n",
      "ax.lines[0].set_visible(False)\n",
      " \n",
      "# Customize title, set position, allow space on top of plot for title\n",
      "ax.set_title(ax.get_title(), fontsize=26, alpha=a, ha='left')\n",
      "plt.subplots_adjust(top=0.9)\n",
      "ax.title.set_position((0,1.08))\n",
      " \n",
      "# Set x axis label on top of plot, set label text\n",
      "ax.xaxis.set_label_position('top')\n",
      "xlab = 'Error (in Kcal/mol)'\n",
      "ax.set_xlabel(xlab, fontsize=20, alpha=a, ha='left')\n",
      "ax.xaxis.set_label_coords(0, 1.04)\n",
      " \n",
      "# Position x tick labels on top\n",
      "ax.xaxis.tick_top()\n",
      "# Remove tick lines in x and y axes\n",
      "ax.yaxis.set_ticks_position('none')\n",
      "ax.xaxis.set_ticks_position('none')\n",
      " \n",
      "# Customize x tick lables\n",
      "xticks = [5,10,20,50,80]\n",
      "ax.xaxis.set_ticks(xticks)\n",
      "ax.set_xticklabels(xticks, fontsize=16, alpha=a)\n",
      " \n",
      "# Customize y tick labels\n",
      "yticks = [item.get_text() for item in ax.get_yticklabels()]\n",
      "ax.set_yticklabels(yticks, fontsize=16, alpha=a)\n",
      "ax.yaxis.set_tick_params(pad=12)  "
     ],
     "language": "python",
     "metadata": {},
     "outputs": [
      {
       "metadata": {},
       "output_type": "display_data",
       "png": "[encoded data removed]",
       "text": [
        "<matplotlib.figure.Figure at 0x7f12f5fc2b10>"
       ]
      }
     ],
     "prompt_number": 77
    },
    {
     "cell_type": "markdown",
     "metadata": {},
     "source": [
      "Check we have found minima:"
     ]
    },
    {
     "cell_type": "code",
     "collapsed": false,
     "input": [
      "for mol in o_44_opt + o_44_opt_carb:\n",
      "    mol.calc.restart(geom='allcheck', add_label = 'freq_', guess='read', opt=None, freq='freq')#, start=True)"
     ],
     "language": "python",
     "metadata": {},
     "outputs": [],
     "prompt_number": 44
    },
    {
     "cell_type": "code",
     "collapsed": false,
     "input": [
      "check_calcs(o_44_opt + o_44_opt_carb)"
     ],
     "language": "python",
     "metadata": {},
     "outputs": [
      {
       "metadata": {},
       "output_type": "pyout",
       "prompt_number": 45,
       "text": [
        "'Calculations complete'"
       ]
      }
     ],
     "prompt_number": 45
    },
    {
     "cell_type": "code",
     "collapsed": false,
     "input": [
      "#mols_to_html(o_44_opt_carb + o_44_opt, data_func = lambda e: e.calc.max_data.get('NImag'))"
     ],
     "language": "python",
     "metadata": {},
     "outputs": [],
     "prompt_number": 46
    },
    {
     "cell_type": "code",
     "collapsed": false,
     "input": [
      "all([m.calc.max_data['Nimag'] == 0 for m in o_44_opt + o_44_opt_carb])\n",
      "#view_ipython_jmol([m.calc.label +'.log' for m  in o_44_opt_carb], vib=1)"
     ],
     "language": "python",
     "metadata": {},
     "outputs": [
      {
       "metadata": {},
       "output_type": "pyout",
       "prompt_number": 47,
       "text": [
        "True"
       ]
      }
     ],
     "prompt_number": 47
    },
    {
     "cell_type": "heading",
     "level": 2,
     "metadata": {},
     "source": [
      "Transition state barriers"
     ]
    },
    {
     "cell_type": "code",
     "collapsed": false,
     "input": [
      "carb_44_ts_xyz = '../oniom_xyz_files/non_oniom_ts/UB3LYP_631Gd_UB3LYP_631Gd_4_4_cent_carbonyl_ts3_reopt_restart_2_final.xyz'\n",
      "carb_44_ts_orig_calc = '../oniom_xyz_files/non_oniom_ts/UB3LYP_631Gd_UB3LYP_631Gd_4_4_cent_carbonyl_ts3_reopt_restart_2_freq.log'"
     ],
     "language": "python",
     "metadata": {},
     "outputs": [],
     "prompt_number": 48
    },
    {
     "cell_type": "markdown",
     "metadata": {},
     "source": [
      "At UB3LYP 6-31G(d) geometries:"
     ]
    },
    {
     "cell_type": "code",
     "collapsed": false,
     "input": [
      "o_44_carb_ts = []\n",
      "\n",
      "for siz in range(5):\n",
      "    for meth in l_methods:\n",
      "        graph_ylid_ts = read(carb_44_ts_xyz)\n",
      "        graph_ylid_ts_name = 'o{s}_{m}_UB3LYP_631Gd_4_4_cent_carbonyl_ts'.format(m=meth.replace('/', '_'), s=siz)\n",
      "        graph_ylid_ts.set_calculator(Gaussian(label=graph_ylid_ts_name, method='oniom(UB3LYP/6-31G(d):{l})=OnlyInputFiles'.format(l=meth), basis='oniom'))\n",
      "        graph_ylid_ts_H = ylide_atoms + graph_atoms[siz]\n",
      "        graph_ylid_ts.calc.oniom_coord_params['layers'] = [[no -1 for no in graph_ylid_ts_H]]\n",
      "        graph_ylid_ts.calc.oniom_coord_params['layer_mults'] = [1,1]\n",
      "        graph_ylid_ts.calc.set_job(nodes=1, memory=1*400, time=1)\n",
      "        #graph_ylid_ts.calc.start()\n",
      "        o_44_carb_ts.append(graph_ylid_ts)\n",
      "check_calcs(o_44_carb_ts)"
     ],
     "language": "python",
     "metadata": {},
     "outputs": [
      {
       "metadata": {},
       "output_type": "pyout",
       "prompt_number": 49,
       "text": [
        "'Calculations complete'"
       ]
      }
     ],
     "prompt_number": 49
    },
    {
     "cell_type": "code",
     "collapsed": false,
     "input": [
      "from oniom_utils import oniom_comp_calcs\n",
      "\n",
      "ul_ts_rls, uh_ts_mds, ul_ts_mds = oniom_comp_calcs(o_44_carb_ts, stable='opt')\n",
      "for c in ul_ts_rls + uh_ts_mds + ul_ts_mds:\n",
      "    c.calc.set_job(nodes=8, memory=8*1400, time=5, queue='pqmb')\n",
      "    #c.calc.start(frc=True)\n",
      "check_calcs(ul_ts_rls, uh_ts_mds, ul_ts_mds)"
     ],
     "language": "python",
     "metadata": {},
     "outputs": [
      {
       "metadata": {},
       "output_type": "pyout",
       "prompt_number": 50,
       "text": [
        "'Calculations complete'"
       ]
      }
     ],
     "prompt_number": 50
    },
    {
     "cell_type": "code",
     "collapsed": false,
     "input": [
      "for i, c in enumerate(o_44_carb_ts):\n",
      "    c.calc.restart(method=c.calc.method.replace('=OnlyInputFiles', ''), component_calcs = zip(ul_ts_rls, uh_ts_mds, ul_ts_mds)[i])\n",
      "    c.calc.set_job(nodes=8, memory = 8*1400, time=5, queue='pqmb')\n",
      "    #c.calc.start(frc=True)"
     ],
     "language": "python",
     "metadata": {},
     "outputs": [],
     "prompt_number": 51
    },
    {
     "cell_type": "code",
     "collapsed": false,
     "input": [
      "check_calcs(o_44_carb_ts)"
     ],
     "language": "python",
     "metadata": {},
     "outputs": [
      {
       "metadata": {},
       "output_type": "pyout",
       "prompt_number": 52,
       "text": [
        "'Calculations complete'"
       ]
      }
     ],
     "prompt_number": 52
    },
    {
     "cell_type": "code",
     "collapsed": false,
     "input": [
      "for c in o_44_carb_ts:\n",
      "    c.calc.restart(add_label='freq', opt='', freq='freq', component_calcs = '')\n",
      "    c.calc.set_job(nodes=8, memory = 8*1400, time=5, queue='pqmb')\n",
      "    #c.calc.start()"
     ],
     "language": "python",
     "metadata": {},
     "outputs": [],
     "prompt_number": 53
    },
    {
     "cell_type": "code",
     "collapsed": false,
     "input": [
      "check_calcs(o_44_carb_ts)\n",
      "mols_to_html(o_44_carb_ts)"
     ],
     "language": "python",
     "metadata": {},
     "outputs": [
      {
       "html": [
        "\n",
        "    <style>\n",
        "    table\n",
        "    {\n",
        "        border-collapse:collapse;\n",
        "    }\n",
        "    td\n",
        "    {\n",
        "        padding:15px;\n",
        "    }\n",
        "    </style>\n",
        "    <body>\n",
        "    <table bgcolor=\"white\">\n",
        "    <col/><tr><td>o0_uam1_UB3LYP_631Gd_4_4_cent_carbonyl_ts_freq_restart_2</td><td><a href = \"files/graphene_cycloadditions/unrestricted_cycloadd_oniom/correction/o0_uam1_UB3LYP_631Gd_4_4_cent_carbonyl_ts_freq_restart_2.com\" target = \"_blank\">com</a></td><td><input type=\"button\" value=\"Smart Log\" id=\"o0_uam1_UB3LYP_631Gd_4_4_cent_carbonyl_ts_freq_restart_2\" onclick=\"IPython.cc_notebook.view_function(event, this.id)\" /></td><td>Success</td></tr><tr><td>o0_upm6_UB3LYP_631Gd_4_4_cent_carbonyl_ts_freq_restart_2</td><td><a href = \"files/graphene_cycloadditions/unrestricted_cycloadd_oniom/correction/o0_upm6_UB3LYP_631Gd_4_4_cent_carbonyl_ts_freq_restart_2.com\" target = \"_blank\">com</a></td><td><input type=\"button\" value=\"Smart Log\" id=\"o0_upm6_UB3LYP_631Gd_4_4_cent_carbonyl_ts_freq_restart_2\" onclick=\"IPython.cc_notebook.view_function(event, this.id)\" /></td><td>Success</td></tr><tr><td>o0_uHF_STO-3G_UB3LYP_631Gd_4_4_cent_carbonyl_ts_freq_restart_2</td><td><a href = \"files/graphene_cycloadditions/unrestricted_cycloadd_oniom/correction/o0_uHF_STO-3G_UB3LYP_631Gd_4_4_cent_carbonyl_ts_freq_restart_2.com\" target = \"_blank\">com</a></td><td><input type=\"button\" value=\"Smart Log\" id=\"o0_uHF_STO-3G_UB3LYP_631Gd_4_4_cent_carbonyl_ts_freq_restart_2\" onclick=\"IPython.cc_notebook.view_function(event, this.id)\" /></td><td>Success</td></tr><tr><td>o1_uam1_UB3LYP_631Gd_4_4_cent_carbonyl_ts_freq_restart_2</td><td><a href = \"files/graphene_cycloadditions/unrestricted_cycloadd_oniom/correction/o1_uam1_UB3LYP_631Gd_4_4_cent_carbonyl_ts_freq_restart_2.com\" target = \"_blank\">com</a></td><td><input type=\"button\" value=\"Smart Log\" id=\"o1_uam1_UB3LYP_631Gd_4_4_cent_carbonyl_ts_freq_restart_2\" onclick=\"IPython.cc_notebook.view_function(event, this.id)\" /></td><td>Success</td></tr><tr><td>o1_upm6_UB3LYP_631Gd_4_4_cent_carbonyl_ts_freq_restart_2</td><td><a href = \"files/graphene_cycloadditions/unrestricted_cycloadd_oniom/correction/o1_upm6_UB3LYP_631Gd_4_4_cent_carbonyl_ts_freq_restart_2.com\" target = \"_blank\">com</a></td><td><input type=\"button\" value=\"Smart Log\" id=\"o1_upm6_UB3LYP_631Gd_4_4_cent_carbonyl_ts_freq_restart_2\" onclick=\"IPython.cc_notebook.view_function(event, this.id)\" /></td><td>Success</td></tr><tr><td>o1_uHF_STO-3G_UB3LYP_631Gd_4_4_cent_carbonyl_ts_freq_restart_2</td><td><a href = \"files/graphene_cycloadditions/unrestricted_cycloadd_oniom/correction/o1_uHF_STO-3G_UB3LYP_631Gd_4_4_cent_carbonyl_ts_freq_restart_2.com\" target = \"_blank\">com</a></td><td><input type=\"button\" value=\"Smart Log\" id=\"o1_uHF_STO-3G_UB3LYP_631Gd_4_4_cent_carbonyl_ts_freq_restart_2\" onclick=\"IPython.cc_notebook.view_function(event, this.id)\" /></td><td>Success</td></tr><tr><td>o2_uam1_UB3LYP_631Gd_4_4_cent_carbonyl_ts_freq_restart_2</td><td><a href = \"files/graphene_cycloadditions/unrestricted_cycloadd_oniom/correction/o2_uam1_UB3LYP_631Gd_4_4_cent_carbonyl_ts_freq_restart_2.com\" target = \"_blank\">com</a></td><td><input type=\"button\" value=\"Smart Log\" id=\"o2_uam1_UB3LYP_631Gd_4_4_cent_carbonyl_ts_freq_restart_2\" onclick=\"IPython.cc_notebook.view_function(event, this.id)\" /></td><td>Success</td></tr><tr><td>o2_upm6_UB3LYP_631Gd_4_4_cent_carbonyl_ts_freq_restart_2</td><td><a href = \"files/graphene_cycloadditions/unrestricted_cycloadd_oniom/correction/o2_upm6_UB3LYP_631Gd_4_4_cent_carbonyl_ts_freq_restart_2.com\" target = \"_blank\">com</a></td><td><input type=\"button\" value=\"Smart Log\" id=\"o2_upm6_UB3LYP_631Gd_4_4_cent_carbonyl_ts_freq_restart_2\" onclick=\"IPython.cc_notebook.view_function(event, this.id)\" /></td><td>Success</td></tr><tr><td>o2_uHF_STO-3G_UB3LYP_631Gd_4_4_cent_carbonyl_ts_freq_restart_2</td><td><a href = \"files/graphene_cycloadditions/unrestricted_cycloadd_oniom/correction/o2_uHF_STO-3G_UB3LYP_631Gd_4_4_cent_carbonyl_ts_freq_restart_2.com\" target = \"_blank\">com</a></td><td><input type=\"button\" value=\"Smart Log\" id=\"o2_uHF_STO-3G_UB3LYP_631Gd_4_4_cent_carbonyl_ts_freq_restart_2\" onclick=\"IPython.cc_notebook.view_function(event, this.id)\" /></td><td>Success</td></tr><tr><td>o3_uam1_UB3LYP_631Gd_4_4_cent_carbonyl_ts_freq_restart_2</td><td><a href = \"files/graphene_cycloadditions/unrestricted_cycloadd_oniom/correction/o3_uam1_UB3LYP_631Gd_4_4_cent_carbonyl_ts_freq_restart_2.com\" target = \"_blank\">com</a></td><td><input type=\"button\" value=\"Smart Log\" id=\"o3_uam1_UB3LYP_631Gd_4_4_cent_carbonyl_ts_freq_restart_2\" onclick=\"IPython.cc_notebook.view_function(event, this.id)\" /></td><td>Success</td></tr><tr><td>o3_upm6_UB3LYP_631Gd_4_4_cent_carbonyl_ts_freq_restart_2</td><td><a href = \"files/graphene_cycloadditions/unrestricted_cycloadd_oniom/correction/o3_upm6_UB3LYP_631Gd_4_4_cent_carbonyl_ts_freq_restart_2.com\" target = \"_blank\">com</a></td><td><input type=\"button\" value=\"Smart Log\" id=\"o3_upm6_UB3LYP_631Gd_4_4_cent_carbonyl_ts_freq_restart_2\" onclick=\"IPython.cc_notebook.view_function(event, this.id)\" /></td><td>Success</td></tr><tr><td>o3_uHF_STO-3G_UB3LYP_631Gd_4_4_cent_carbonyl_ts_freq_restart_2</td><td><a href = \"files/graphene_cycloadditions/unrestricted_cycloadd_oniom/correction/o3_uHF_STO-3G_UB3LYP_631Gd_4_4_cent_carbonyl_ts_freq_restart_2.com\" target = \"_blank\">com</a></td><td><input type=\"button\" value=\"Smart Log\" id=\"o3_uHF_STO-3G_UB3LYP_631Gd_4_4_cent_carbonyl_ts_freq_restart_2\" onclick=\"IPython.cc_notebook.view_function(event, this.id)\" /></td><td>Success</td></tr><tr><td>o4_uam1_UB3LYP_631Gd_4_4_cent_carbonyl_ts_freq_restart_2</td><td><a href = \"files/graphene_cycloadditions/unrestricted_cycloadd_oniom/correction/o4_uam1_UB3LYP_631Gd_4_4_cent_carbonyl_ts_freq_restart_2.com\" target = \"_blank\">com</a></td><td><input type=\"button\" value=\"Smart Log\" id=\"o4_uam1_UB3LYP_631Gd_4_4_cent_carbonyl_ts_freq_restart_2\" onclick=\"IPython.cc_notebook.view_function(event, this.id)\" /></td><td>Success</td></tr><tr><td>o4_upm6_UB3LYP_631Gd_4_4_cent_carbonyl_ts_freq_restart_2</td><td><a href = \"files/graphene_cycloadditions/unrestricted_cycloadd_oniom/correction/o4_upm6_UB3LYP_631Gd_4_4_cent_carbonyl_ts_freq_restart_2.com\" target = \"_blank\">com</a></td><td><input type=\"button\" value=\"Smart Log\" id=\"o4_upm6_UB3LYP_631Gd_4_4_cent_carbonyl_ts_freq_restart_2\" onclick=\"IPython.cc_notebook.view_function(event, this.id)\" /></td><td>Success</td></tr><tr><td>o4_uHF_STO-3G_UB3LYP_631Gd_4_4_cent_carbonyl_ts_freq_restart_2</td><td><a href = \"files/graphene_cycloadditions/unrestricted_cycloadd_oniom/correction/o4_uHF_STO-3G_UB3LYP_631Gd_4_4_cent_carbonyl_ts_freq_restart_2.com\" target = \"_blank\">com</a></td><td><input type=\"button\" value=\"Smart Log\" id=\"o4_uHF_STO-3G_UB3LYP_631Gd_4_4_cent_carbonyl_ts_freq_restart_2\" onclick=\"IPython.cc_notebook.view_function(event, this.id)\" /></td><td>Success</td></tr>\n",
        "    </table>\n",
        "    </body>"
       ],
       "metadata": {},
       "output_type": "pyout",
       "prompt_number": 54,
       "text": [
        "<IPython.core.display.HTML at 0x689edd0>"
       ]
      }
     ],
     "prompt_number": 54
    },
    {
     "cell_type": "code",
     "collapsed": false,
     "input": [
      "def T_E_f(t,a):\n",
      "    try: \n",
      "        return(t.calc.energy_zero - a.calc.energy_zero)* 23.060542301388647 \n",
      "    except AttributeError: \n",
      "        return float('nan')\n",
      "    \n",
      "T_Es = []\n",
      "delt_Es = []\n",
      "names = []\n",
      "\n",
      "for i in range(len(o_44_carb_ts)):\n",
      "    T_E = T_E_f(o_44_carb_ts[i], o_44_carb[i])\n",
      "    delt_E = T_E - 31.281099594648797\n",
      "    name = o_44_carb_ts[i].calc.label\n",
      "    T_Es.append(T_E)\n",
      "    delt_Es.append(delt_E)\n",
      "    names.append(name)\n",
      "\n",
      "o_T_data = pandas.Series(T_Es ,names)\n",
      "o_T_dft_delt_data = pandas.Series(delt_Es, names)"
     ],
     "language": "python",
     "metadata": {},
     "outputs": [],
     "prompt_number": 55
    },
    {
     "cell_type": "code",
     "collapsed": false,
     "input": [
      "#energy in Kcal/mol\n",
      "d = {'E_Transition': o_T_data, 'oniom-b3lyp_delta': o_T_dft_delt_data}\n",
      "ts_frame = pandas.DataFrame(d)\n",
      "#ts_frame.save('o_ts_E_data.pickle')\n",
      "ts_frame"
     ],
     "language": "python",
     "metadata": {},
     "outputs": [
      {
       "html": [
        "<div style=\"max-height:1000px;max-width:1500px;overflow:auto;\">\n",
        "<table border=\"1\" class=\"dataframe\">\n",
        "  <thead>\n",
        "    <tr style=\"text-align: right;\">\n",
        "      <th></th>\n",
        "      <th>E_Transition</th>\n",
        "      <th>oniom-b3lyp_delta</th>\n",
        "    </tr>\n",
        "  </thead>\n",
        "  <tbody>\n",
        "    <tr>\n",
        "      <th>o0_uam1_UB3LYP_631Gd_4_4_cent_carbonyl_ts_freq_restart_2</th>\n",
        "      <td> 33.534138</td>\n",
        "      <td>  2.253038</td>\n",
        "    </tr>\n",
        "    <tr>\n",
        "      <th>o0_upm6_UB3LYP_631Gd_4_4_cent_carbonyl_ts_freq_restart_2</th>\n",
        "      <td> 46.486743</td>\n",
        "      <td> 15.205644</td>\n",
        "    </tr>\n",
        "    <tr>\n",
        "      <th>o0_uHF_STO-3G_UB3LYP_631Gd_4_4_cent_carbonyl_ts_freq_restart_2</th>\n",
        "      <td> 17.800647</td>\n",
        "      <td>-13.480453</td>\n",
        "    </tr>\n",
        "    <tr>\n",
        "      <th>o1_uam1_UB3LYP_631Gd_4_4_cent_carbonyl_ts_freq_restart_2</th>\n",
        "      <td> 26.409473</td>\n",
        "      <td> -4.871627</td>\n",
        "    </tr>\n",
        "    <tr>\n",
        "      <th>o1_upm6_UB3LYP_631Gd_4_4_cent_carbonyl_ts_freq_restart_2</th>\n",
        "      <td> 27.691881</td>\n",
        "      <td> -3.589218</td>\n",
        "    </tr>\n",
        "    <tr>\n",
        "      <th>o1_uHF_STO-3G_UB3LYP_631Gd_4_4_cent_carbonyl_ts_freq_restart_2</th>\n",
        "      <td> 26.804136</td>\n",
        "      <td> -4.476963</td>\n",
        "    </tr>\n",
        "    <tr>\n",
        "      <th>o2_uam1_UB3LYP_631Gd_4_4_cent_carbonyl_ts_freq_restart_2</th>\n",
        "      <td> 31.167193</td>\n",
        "      <td> -0.113906</td>\n",
        "    </tr>\n",
        "    <tr>\n",
        "      <th>o2_upm6_UB3LYP_631Gd_4_4_cent_carbonyl_ts_freq_restart_2</th>\n",
        "      <td> 32.431721</td>\n",
        "      <td>  1.150621</td>\n",
        "    </tr>\n",
        "    <tr>\n",
        "      <th>o2_uHF_STO-3G_UB3LYP_631Gd_4_4_cent_carbonyl_ts_freq_restart_2</th>\n",
        "      <td> 27.763554</td>\n",
        "      <td> -3.517546</td>\n",
        "    </tr>\n",
        "    <tr>\n",
        "      <th>o3_uam1_UB3LYP_631Gd_4_4_cent_carbonyl_ts_freq_restart_2</th>\n",
        "      <td> 46.820746</td>\n",
        "      <td> 15.539646</td>\n",
        "    </tr>\n",
        "    <tr>\n",
        "      <th>o3_upm6_UB3LYP_631Gd_4_4_cent_carbonyl_ts_freq_restart_2</th>\n",
        "      <td> 48.214674</td>\n",
        "      <td> 16.933575</td>\n",
        "    </tr>\n",
        "    <tr>\n",
        "      <th>o3_uHF_STO-3G_UB3LYP_631Gd_4_4_cent_carbonyl_ts_freq_restart_2</th>\n",
        "      <td> 44.679051</td>\n",
        "      <td> 13.397951</td>\n",
        "    </tr>\n",
        "    <tr>\n",
        "      <th>o4_uam1_UB3LYP_631Gd_4_4_cent_carbonyl_ts_freq_restart_2</th>\n",
        "      <td> 23.224982</td>\n",
        "      <td> -8.056118</td>\n",
        "    </tr>\n",
        "    <tr>\n",
        "      <th>o4_upm6_UB3LYP_631Gd_4_4_cent_carbonyl_ts_freq_restart_2</th>\n",
        "      <td> 23.405241</td>\n",
        "      <td> -7.875858</td>\n",
        "    </tr>\n",
        "    <tr>\n",
        "      <th>o4_uHF_STO-3G_UB3LYP_631Gd_4_4_cent_carbonyl_ts_freq_restart_2</th>\n",
        "      <td> 22.745319</td>\n",
        "      <td> -8.535781</td>\n",
        "    </tr>\n",
        "  </tbody>\n",
        "</table>\n",
        "<p>15 rows \u00d7 2 columns</p>\n",
        "</div>"
       ],
       "metadata": {},
       "output_type": "pyout",
       "prompt_number": 56,
       "text": [
        "                                                                E_Transition  \\\n",
        "o0_uam1_UB3LYP_631Gd_4_4_cent_carbonyl_ts_freq_restart_2           33.534138   \n",
        "o0_upm6_UB3LYP_631Gd_4_4_cent_carbonyl_ts_freq_restart_2           46.486743   \n",
        "o0_uHF_STO-3G_UB3LYP_631Gd_4_4_cent_carbonyl_ts_freq_restart_2     17.800647   \n",
        "o1_uam1_UB3LYP_631Gd_4_4_cent_carbonyl_ts_freq_restart_2           26.409473   \n",
        "o1_upm6_UB3LYP_631Gd_4_4_cent_carbonyl_ts_freq_restart_2           27.691881   \n",
        "o1_uHF_STO-3G_UB3LYP_631Gd_4_4_cent_carbonyl_ts_freq_restart_2     26.804136   \n",
        "o2_uam1_UB3LYP_631Gd_4_4_cent_carbonyl_ts_freq_restart_2           31.167193   \n",
        "o2_upm6_UB3LYP_631Gd_4_4_cent_carbonyl_ts_freq_restart_2           32.431721   \n",
        "o2_uHF_STO-3G_UB3LYP_631Gd_4_4_cent_carbonyl_ts_freq_restart_2     27.763554   \n",
        "o3_uam1_UB3LYP_631Gd_4_4_cent_carbonyl_ts_freq_restart_2           46.820746   \n",
        "o3_upm6_UB3LYP_631Gd_4_4_cent_carbonyl_ts_freq_restart_2           48.214674   \n",
        "o3_uHF_STO-3G_UB3LYP_631Gd_4_4_cent_carbonyl_ts_freq_restart_2     44.679051   \n",
        "o4_uam1_UB3LYP_631Gd_4_4_cent_carbonyl_ts_freq_restart_2           23.224982   \n",
        "o4_upm6_UB3LYP_631Gd_4_4_cent_carbonyl_ts_freq_restart_2           23.405241   \n",
        "o4_uHF_STO-3G_UB3LYP_631Gd_4_4_cent_carbonyl_ts_freq_restart_2     22.745319   \n",
        "\n",
        "                                                                oniom-b3lyp_delta  \n",
        "o0_uam1_UB3LYP_631Gd_4_4_cent_carbonyl_ts_freq_restart_2                 2.253038  \n",
        "o0_upm6_UB3LYP_631Gd_4_4_cent_carbonyl_ts_freq_restart_2                15.205644  \n",
        "o0_uHF_STO-3G_UB3LYP_631Gd_4_4_cent_carbonyl_ts_freq_restart_2         -13.480453  \n",
        "o1_uam1_UB3LYP_631Gd_4_4_cent_carbonyl_ts_freq_restart_2                -4.871627  \n",
        "o1_upm6_UB3LYP_631Gd_4_4_cent_carbonyl_ts_freq_restart_2                -3.589218  \n",
        "o1_uHF_STO-3G_UB3LYP_631Gd_4_4_cent_carbonyl_ts_freq_restart_2          -4.476963  \n",
        "o2_uam1_UB3LYP_631Gd_4_4_cent_carbonyl_ts_freq_restart_2                -0.113906  \n",
        "o2_upm6_UB3LYP_631Gd_4_4_cent_carbonyl_ts_freq_restart_2                 1.150621  \n",
        "o2_uHF_STO-3G_UB3LYP_631Gd_4_4_cent_carbonyl_ts_freq_restart_2          -3.517546  \n",
        "o3_uam1_UB3LYP_631Gd_4_4_cent_carbonyl_ts_freq_restart_2                15.539646  \n",
        "o3_upm6_UB3LYP_631Gd_4_4_cent_carbonyl_ts_freq_restart_2                16.933575  \n",
        "o3_uHF_STO-3G_UB3LYP_631Gd_4_4_cent_carbonyl_ts_freq_restart_2          13.397951  \n",
        "o4_uam1_UB3LYP_631Gd_4_4_cent_carbonyl_ts_freq_restart_2                -8.056118  \n",
        "o4_upm6_UB3LYP_631Gd_4_4_cent_carbonyl_ts_freq_restart_2                -7.875858  \n",
        "o4_uHF_STO-3G_UB3LYP_631Gd_4_4_cent_carbonyl_ts_freq_restart_2          -8.535781  \n",
        "\n",
        "[15 rows x 2 columns]"
       ]
      }
     ],
     "prompt_number": 56
    },
    {
     "cell_type": "markdown",
     "metadata": {},
     "source": [
      "At oniom geometries (starting optimisation at the B3LYP/6-31G(d) ts_geometry):"
     ]
    },
    {
     "cell_type": "code",
     "collapsed": false,
     "input": [
      "o_44_opt_carb_ts = []\n",
      "i=0\n",
      "for siz in range(5):\n",
      "    for meth in l_methods:\n",
      "        graph_ylid_ts = read(carb_44_ts_xyz)\n",
      "        graph_ylid_ts_name = 'o{s}_{m}_o{s}_{m}_4_4_cent_carbonyl_ts'.format(m=meth.replace('/','_'), s=siz)\n",
      "        graph_ylid_ts.set_calculator(Gaussian(label=graph_ylid_ts_name, method='oniom(UB3LYP/6-31G(d):{l})'.format(l=meth), basis='oniom',opt='calcfc, ts noeigen', component_calcs=zip(ul_ts_rls, uh_ts_mds, ul_ts_mds)[i]))\n",
      "        graph_ylid_ts_H = ylide_atoms + graph_atoms[siz]\n",
      "        graph_ylid_ts.calc.oniom_coord_params['layers'] = [[no -1 for no in graph_ylid_ts_H]]\n",
      "        graph_ylid_ts.calc.oniom_coord_params['layer_mults'] = [1,1]\n",
      "        graph_ylid_ts.calc.set_job(nodes=8, memory=8*1600, time=6, queue='pqmb')\n",
      "        #graph_ylid_ts.calc.start()\n",
      "        o_44_opt_carb_ts.append(graph_ylid_ts)\n",
      "        i+=1"
     ],
     "language": "python",
     "metadata": {},
     "outputs": [],
     "prompt_number": 57
    },
    {
     "cell_type": "code",
     "collapsed": false,
     "input": [
      "check_calcs(o_44_opt_carb_ts)"
     ],
     "language": "python",
     "metadata": {},
     "outputs": [
      {
       "metadata": {},
       "output_type": "pyout",
       "prompt_number": 58,
       "text": [
        "[Atoms(symbols='C50H22O', positions=..., cell=[1.0, 1.0, 1.0], pbc=[False, False, False], calculator=Gaussian(...))]"
       ]
      }
     ],
     "prompt_number": 58
    },
    {
     "cell_type": "code",
     "collapsed": false,
     "input": [
      "o_44_opt_carb_ts[2].calc.restart(no_old_chk=True,opt='calcall, ts noeigen')#,start=True)"
     ],
     "language": "python",
     "metadata": {},
     "outputs": [
      {
       "metadata": {},
       "output_type": "pyout",
       "prompt_number": 59,
       "text": [
        "<gausspy.gaussian.Gaussian instance at 0xb8d1560>"
       ]
      }
     ],
     "prompt_number": 59
    },
    {
     "cell_type": "code",
     "collapsed": false,
     "input": [
      "check_calcs(o_44_opt_carb_ts)\n",
      "mols_to_html(o_44_opt_carb_ts)"
     ],
     "language": "python",
     "metadata": {},
     "outputs": [
      {
       "html": [
        "\n",
        "    <style>\n",
        "    table\n",
        "    {\n",
        "        border-collapse:collapse;\n",
        "    }\n",
        "    td\n",
        "    {\n",
        "        padding:15px;\n",
        "    }\n",
        "    </style>\n",
        "    <body>\n",
        "    <table bgcolor=\"white\">\n",
        "    <col/><tr><td>o0_uam1_o0_uam1_4_4_cent_carbonyl_ts</td><td><a href = \"files/graphene_cycloadditions/unrestricted_cycloadd_oniom/correction/o0_uam1_o0_uam1_4_4_cent_carbonyl_ts.com\" target = \"_blank\">com</a></td><td><input type=\"button\" value=\"Smart Log\" id=\"o0_uam1_o0_uam1_4_4_cent_carbonyl_ts\" onclick=\"IPython.cc_notebook.view_function(event, this.id)\" /></td><td>Success</td></tr><tr><td>o0_upm6_o0_upm6_4_4_cent_carbonyl_ts</td><td><a href = \"files/graphene_cycloadditions/unrestricted_cycloadd_oniom/correction/o0_upm6_o0_upm6_4_4_cent_carbonyl_ts.com\" target = \"_blank\">com</a></td><td><input type=\"button\" value=\"Smart Log\" id=\"o0_upm6_o0_upm6_4_4_cent_carbonyl_ts\" onclick=\"IPython.cc_notebook.view_function(event, this.id)\" /></td><td>Success</td></tr><tr><td>o0_uHF_STO-3G_o0_uHF_STO-3G_4_4_cent_carbonyl_ts_restart_1</td><td><a href = \"files/graphene_cycloadditions/unrestricted_cycloadd_oniom/correction/o0_uHF_STO-3G_o0_uHF_STO-3G_4_4_cent_carbonyl_ts_restart_1.com\" target = \"_blank\">com</a></td><td><input type=\"button\" value=\"Smart Log\" id=\"o0_uHF_STO-3G_o0_uHF_STO-3G_4_4_cent_carbonyl_ts_restart_1\" onclick=\"IPython.cc_notebook.view_function(event, this.id)\" /></td><td>Success</td></tr><tr><td>o1_uam1_o1_uam1_4_4_cent_carbonyl_ts</td><td><a href = \"files/graphene_cycloadditions/unrestricted_cycloadd_oniom/correction/o1_uam1_o1_uam1_4_4_cent_carbonyl_ts.com\" target = \"_blank\">com</a></td><td><input type=\"button\" value=\"Smart Log\" id=\"o1_uam1_o1_uam1_4_4_cent_carbonyl_ts\" onclick=\"IPython.cc_notebook.view_function(event, this.id)\" /></td><td>Success</td></tr><tr><td>o1_upm6_o1_upm6_4_4_cent_carbonyl_ts</td><td><a href = \"files/graphene_cycloadditions/unrestricted_cycloadd_oniom/correction/o1_upm6_o1_upm6_4_4_cent_carbonyl_ts.com\" target = \"_blank\">com</a></td><td><input type=\"button\" value=\"Smart Log\" id=\"o1_upm6_o1_upm6_4_4_cent_carbonyl_ts\" onclick=\"IPython.cc_notebook.view_function(event, this.id)\" /></td><td>Success</td></tr><tr><td>o1_uHF_STO-3G_o1_uHF_STO-3G_4_4_cent_carbonyl_ts</td><td><a href = \"files/graphene_cycloadditions/unrestricted_cycloadd_oniom/correction/o1_uHF_STO-3G_o1_uHF_STO-3G_4_4_cent_carbonyl_ts.com\" target = \"_blank\">com</a></td><td><input type=\"button\" value=\"Smart Log\" id=\"o1_uHF_STO-3G_o1_uHF_STO-3G_4_4_cent_carbonyl_ts\" onclick=\"IPython.cc_notebook.view_function(event, this.id)\" /></td><td>Success</td></tr><tr><td>o2_uam1_o2_uam1_4_4_cent_carbonyl_ts</td><td><a href = \"files/graphene_cycloadditions/unrestricted_cycloadd_oniom/correction/o2_uam1_o2_uam1_4_4_cent_carbonyl_ts.com\" target = \"_blank\">com</a></td><td><input type=\"button\" value=\"Smart Log\" id=\"o2_uam1_o2_uam1_4_4_cent_carbonyl_ts\" onclick=\"IPython.cc_notebook.view_function(event, this.id)\" /></td><td>Success</td></tr><tr><td>o2_upm6_o2_upm6_4_4_cent_carbonyl_ts</td><td><a href = \"files/graphene_cycloadditions/unrestricted_cycloadd_oniom/correction/o2_upm6_o2_upm6_4_4_cent_carbonyl_ts.com\" target = \"_blank\">com</a></td><td><input type=\"button\" value=\"Smart Log\" id=\"o2_upm6_o2_upm6_4_4_cent_carbonyl_ts\" onclick=\"IPython.cc_notebook.view_function(event, this.id)\" /></td><td>Success</td></tr><tr><td>o2_uHF_STO-3G_o2_uHF_STO-3G_4_4_cent_carbonyl_ts</td><td><a href = \"files/graphene_cycloadditions/unrestricted_cycloadd_oniom/correction/o2_uHF_STO-3G_o2_uHF_STO-3G_4_4_cent_carbonyl_ts.com\" target = \"_blank\">com</a></td><td><input type=\"button\" value=\"Smart Log\" id=\"o2_uHF_STO-3G_o2_uHF_STO-3G_4_4_cent_carbonyl_ts\" onclick=\"IPython.cc_notebook.view_function(event, this.id)\" /></td><td>Success</td></tr><tr><td>o3_uam1_o3_uam1_4_4_cent_carbonyl_ts</td><td><a href = \"files/graphene_cycloadditions/unrestricted_cycloadd_oniom/correction/o3_uam1_o3_uam1_4_4_cent_carbonyl_ts.com\" target = \"_blank\">com</a></td><td><input type=\"button\" value=\"Smart Log\" id=\"o3_uam1_o3_uam1_4_4_cent_carbonyl_ts\" onclick=\"IPython.cc_notebook.view_function(event, this.id)\" /></td><td>Success</td></tr><tr><td>o3_upm6_o3_upm6_4_4_cent_carbonyl_ts</td><td><a href = \"files/graphene_cycloadditions/unrestricted_cycloadd_oniom/correction/o3_upm6_o3_upm6_4_4_cent_carbonyl_ts.com\" target = \"_blank\">com</a></td><td><input type=\"button\" value=\"Smart Log\" id=\"o3_upm6_o3_upm6_4_4_cent_carbonyl_ts\" onclick=\"IPython.cc_notebook.view_function(event, this.id)\" /></td><td>Success</td></tr><tr><td>o3_uHF_STO-3G_o3_uHF_STO-3G_4_4_cent_carbonyl_ts</td><td><a href = \"files/graphene_cycloadditions/unrestricted_cycloadd_oniom/correction/o3_uHF_STO-3G_o3_uHF_STO-3G_4_4_cent_carbonyl_ts.com\" target = \"_blank\">com</a></td><td><input type=\"button\" value=\"Smart Log\" id=\"o3_uHF_STO-3G_o3_uHF_STO-3G_4_4_cent_carbonyl_ts\" onclick=\"IPython.cc_notebook.view_function(event, this.id)\" /></td><td>Success</td></tr><tr><td>o4_uam1_o4_uam1_4_4_cent_carbonyl_ts</td><td><a href = \"files/graphene_cycloadditions/unrestricted_cycloadd_oniom/correction/o4_uam1_o4_uam1_4_4_cent_carbonyl_ts.com\" target = \"_blank\">com</a></td><td><input type=\"button\" value=\"Smart Log\" id=\"o4_uam1_o4_uam1_4_4_cent_carbonyl_ts\" onclick=\"IPython.cc_notebook.view_function(event, this.id)\" /></td><td>Success</td></tr><tr><td>o4_upm6_o4_upm6_4_4_cent_carbonyl_ts</td><td><a href = \"files/graphene_cycloadditions/unrestricted_cycloadd_oniom/correction/o4_upm6_o4_upm6_4_4_cent_carbonyl_ts.com\" target = \"_blank\">com</a></td><td><input type=\"button\" value=\"Smart Log\" id=\"o4_upm6_o4_upm6_4_4_cent_carbonyl_ts\" onclick=\"IPython.cc_notebook.view_function(event, this.id)\" /></td><td>Success</td></tr><tr><td>o4_uHF_STO-3G_o4_uHF_STO-3G_4_4_cent_carbonyl_ts</td><td><a href = \"files/graphene_cycloadditions/unrestricted_cycloadd_oniom/correction/o4_uHF_STO-3G_o4_uHF_STO-3G_4_4_cent_carbonyl_ts.com\" target = \"_blank\">com</a></td><td><input type=\"button\" value=\"Smart Log\" id=\"o4_uHF_STO-3G_o4_uHF_STO-3G_4_4_cent_carbonyl_ts\" onclick=\"IPython.cc_notebook.view_function(event, this.id)\" /></td><td>Success</td></tr>\n",
        "    </table>\n",
        "    </body>"
       ],
       "metadata": {},
       "output_type": "pyout",
       "prompt_number": 60,
       "text": [
        "<IPython.core.display.HTML at 0x5ae4710>"
       ]
      }
     ],
     "prompt_number": 60
    },
    {
     "cell_type": "code",
     "collapsed": false,
     "input": [
      "def T_E_f(t,a):\n",
      "    try: \n",
      "        return(t.calc.energy_zero - a.calc.energy_zero)* 23.060542301388647 \n",
      "    except AttributeError: \n",
      "        return float('nan')\n",
      "    \n",
      "T_Es = []\n",
      "delt_Es = []\n",
      "names = []\n",
      "\n",
      "for i in range(len(o_44_opt_carb_ts)):\n",
      "    T_E = T_E_f(o_44_opt_carb_ts[i], o_44_opt_carb[i])\n",
      "    delt_E = T_E - 31.281099594648797\n",
      "    name = o_44_opt_carb_ts[i].calc.label\n",
      "    T_Es.append(T_E)\n",
      "    delt_Es.append(delt_E)\n",
      "    names.append(name)\n",
      "\n",
      "o_T_data = pandas.Series(T_Es ,names)\n",
      "o_T_dft_delt_data = pandas.Series(delt_Es, names)"
     ],
     "language": "python",
     "metadata": {},
     "outputs": [],
     "prompt_number": 61
    },
    {
     "cell_type": "code",
     "collapsed": false,
     "input": [
      "#energy in Kcal/mol\n",
      "d = {'E_Transition': o_T_data, 'oniom-b3lyp_delta': o_T_dft_delt_data}\n",
      "ts_frame = pandas.DataFrame(d)\n",
      "#ts_frame.save('o_ts_E_data.pickle')\n",
      "ts_frame"
     ],
     "language": "python",
     "metadata": {},
     "outputs": [
      {
       "html": [
        "<div style=\"max-height:1000px;max-width:1500px;overflow:auto;\">\n",
        "<table border=\"1\" class=\"dataframe\">\n",
        "  <thead>\n",
        "    <tr style=\"text-align: right;\">\n",
        "      <th></th>\n",
        "      <th>E_Transition</th>\n",
        "      <th>oniom-b3lyp_delta</th>\n",
        "    </tr>\n",
        "  </thead>\n",
        "  <tbody>\n",
        "    <tr>\n",
        "      <th>o0_uam1_o0_uam1_4_4_cent_carbonyl_ts</th>\n",
        "      <td> 25.879482</td>\n",
        "      <td> -5.401618</td>\n",
        "    </tr>\n",
        "    <tr>\n",
        "      <th>o0_upm6_o0_upm6_4_4_cent_carbonyl_ts</th>\n",
        "      <td> 43.827379</td>\n",
        "      <td> 12.546280</td>\n",
        "    </tr>\n",
        "    <tr>\n",
        "      <th>o0_uHF_STO-3G_o0_uHF_STO-3G_4_4_cent_carbonyl_ts_restart_1</th>\n",
        "      <td>  8.219612</td>\n",
        "      <td>-23.061488</td>\n",
        "    </tr>\n",
        "    <tr>\n",
        "      <th>o1_uam1_o1_uam1_4_4_cent_carbonyl_ts</th>\n",
        "      <td> 27.409929</td>\n",
        "      <td> -3.871171</td>\n",
        "    </tr>\n",
        "    <tr>\n",
        "      <th>o1_upm6_o1_upm6_4_4_cent_carbonyl_ts</th>\n",
        "      <td> 28.514000</td>\n",
        "      <td> -2.767100</td>\n",
        "    </tr>\n",
        "    <tr>\n",
        "      <th>o1_uHF_STO-3G_o1_uHF_STO-3G_4_4_cent_carbonyl_ts</th>\n",
        "      <td> 28.549469</td>\n",
        "      <td> -2.731630</td>\n",
        "    </tr>\n",
        "    <tr>\n",
        "      <th>o2_uam1_o2_uam1_4_4_cent_carbonyl_ts</th>\n",
        "      <td> 30.620898</td>\n",
        "      <td> -0.660202</td>\n",
        "    </tr>\n",
        "    <tr>\n",
        "      <th>o2_upm6_o2_upm6_4_4_cent_carbonyl_ts</th>\n",
        "      <td> 31.822688</td>\n",
        "      <td>  0.541589</td>\n",
        "    </tr>\n",
        "    <tr>\n",
        "      <th>o2_uHF_STO-3G_o2_uHF_STO-3G_4_4_cent_carbonyl_ts</th>\n",
        "      <td> 27.831519</td>\n",
        "      <td> -3.449580</td>\n",
        "    </tr>\n",
        "    <tr>\n",
        "      <th>o3_uam1_o3_uam1_4_4_cent_carbonyl_ts</th>\n",
        "      <td> 42.298329</td>\n",
        "      <td> 11.017229</td>\n",
        "    </tr>\n",
        "    <tr>\n",
        "      <th>o3_upm6_o3_upm6_4_4_cent_carbonyl_ts</th>\n",
        "      <td> 42.415205</td>\n",
        "      <td> 11.134105</td>\n",
        "    </tr>\n",
        "    <tr>\n",
        "      <th>o3_uHF_STO-3G_o3_uHF_STO-3G_4_4_cent_carbonyl_ts</th>\n",
        "      <td> 40.861329</td>\n",
        "      <td>  9.580230</td>\n",
        "    </tr>\n",
        "    <tr>\n",
        "      <th>o4_uam1_o4_uam1_4_4_cent_carbonyl_ts</th>\n",
        "      <td> 18.940575</td>\n",
        "      <td>-12.340525</td>\n",
        "    </tr>\n",
        "    <tr>\n",
        "      <th>o4_upm6_o4_upm6_4_4_cent_carbonyl_ts</th>\n",
        "      <td> 19.377197</td>\n",
        "      <td>-11.903903</td>\n",
        "    </tr>\n",
        "    <tr>\n",
        "      <th>o4_uHF_STO-3G_o4_uHF_STO-3G_4_4_cent_carbonyl_ts</th>\n",
        "      <td> 17.988419</td>\n",
        "      <td>-13.292680</td>\n",
        "    </tr>\n",
        "  </tbody>\n",
        "</table>\n",
        "<p>15 rows \u00d7 2 columns</p>\n",
        "</div>"
       ],
       "metadata": {},
       "output_type": "pyout",
       "prompt_number": 62,
       "text": [
        "                                                            E_Transition  \\\n",
        "o0_uam1_o0_uam1_4_4_cent_carbonyl_ts                           25.879482   \n",
        "o0_upm6_o0_upm6_4_4_cent_carbonyl_ts                           43.827379   \n",
        "o0_uHF_STO-3G_o0_uHF_STO-3G_4_4_cent_carbonyl_ts_restart_1      8.219612   \n",
        "o1_uam1_o1_uam1_4_4_cent_carbonyl_ts                           27.409929   \n",
        "o1_upm6_o1_upm6_4_4_cent_carbonyl_ts                           28.514000   \n",
        "o1_uHF_STO-3G_o1_uHF_STO-3G_4_4_cent_carbonyl_ts               28.549469   \n",
        "o2_uam1_o2_uam1_4_4_cent_carbonyl_ts                           30.620898   \n",
        "o2_upm6_o2_upm6_4_4_cent_carbonyl_ts                           31.822688   \n",
        "o2_uHF_STO-3G_o2_uHF_STO-3G_4_4_cent_carbonyl_ts               27.831519   \n",
        "o3_uam1_o3_uam1_4_4_cent_carbonyl_ts                           42.298329   \n",
        "o3_upm6_o3_upm6_4_4_cent_carbonyl_ts                           42.415205   \n",
        "o3_uHF_STO-3G_o3_uHF_STO-3G_4_4_cent_carbonyl_ts               40.861329   \n",
        "o4_uam1_o4_uam1_4_4_cent_carbonyl_ts                           18.940575   \n",
        "o4_upm6_o4_upm6_4_4_cent_carbonyl_ts                           19.377197   \n",
        "o4_uHF_STO-3G_o4_uHF_STO-3G_4_4_cent_carbonyl_ts               17.988419   \n",
        "\n",
        "                                                            oniom-b3lyp_delta  \n",
        "o0_uam1_o0_uam1_4_4_cent_carbonyl_ts                                -5.401618  \n",
        "o0_upm6_o0_upm6_4_4_cent_carbonyl_ts                                12.546280  \n",
        "o0_uHF_STO-3G_o0_uHF_STO-3G_4_4_cent_carbonyl_ts_restart_1         -23.061488  \n",
        "o1_uam1_o1_uam1_4_4_cent_carbonyl_ts                                -3.871171  \n",
        "o1_upm6_o1_upm6_4_4_cent_carbonyl_ts                                -2.767100  \n",
        "o1_uHF_STO-3G_o1_uHF_STO-3G_4_4_cent_carbonyl_ts                    -2.731630  \n",
        "o2_uam1_o2_uam1_4_4_cent_carbonyl_ts                                -0.660202  \n",
        "o2_upm6_o2_upm6_4_4_cent_carbonyl_ts                                 0.541589  \n",
        "o2_uHF_STO-3G_o2_uHF_STO-3G_4_4_cent_carbonyl_ts                    -3.449580  \n",
        "o3_uam1_o3_uam1_4_4_cent_carbonyl_ts                                11.017229  \n",
        "o3_upm6_o3_upm6_4_4_cent_carbonyl_ts                                11.134105  \n",
        "o3_uHF_STO-3G_o3_uHF_STO-3G_4_4_cent_carbonyl_ts                     9.580230  \n",
        "o4_uam1_o4_uam1_4_4_cent_carbonyl_ts                               -12.340525  \n",
        "o4_upm6_o4_upm6_4_4_cent_carbonyl_ts                               -11.903903  \n",
        "o4_uHF_STO-3G_o4_uHF_STO-3G_4_4_cent_carbonyl_ts                   -13.292680  \n",
        "\n",
        "[15 rows x 2 columns]"
       ]
      }
     ],
     "prompt_number": 62
    },
    {
     "cell_type": "code",
     "collapsed": false,
     "input": [
      "for c in o_44_opt_carb_ts:\n",
      "    c.calc.restart(add_label='freq', no_old_chk=False, opt='', freq='freq', stable='')#,start=True)"
     ],
     "language": "python",
     "metadata": {},
     "outputs": [],
     "prompt_number": 63
    },
    {
     "cell_type": "code",
     "collapsed": false,
     "input": [
      "check_calcs(o_44_opt_carb_ts)\n",
      "mols_to_html(o_44_opt_carb_ts)"
     ],
     "language": "python",
     "metadata": {},
     "outputs": [
      {
       "html": [
        "\n",
        "    <style>\n",
        "    table\n",
        "    {\n",
        "        border-collapse:collapse;\n",
        "    }\n",
        "    td\n",
        "    {\n",
        "        padding:15px;\n",
        "    }\n",
        "    </style>\n",
        "    <body>\n",
        "    <table bgcolor=\"white\">\n",
        "    <col/><tr><td>o0_uam1_o0_uam1_4_4_cent_carbonyl_ts_freq_restart_1</td><td><a href = \"files/graphene_cycloadditions/unrestricted_cycloadd_oniom/correction/o0_uam1_o0_uam1_4_4_cent_carbonyl_ts_freq_restart_1.com\" target = \"_blank\">com</a></td><td><input type=\"button\" value=\"Smart Log\" id=\"o0_uam1_o0_uam1_4_4_cent_carbonyl_ts_freq_restart_1\" onclick=\"IPython.cc_notebook.view_function(event, this.id)\" /></td><td>Success</td></tr><tr><td>o0_upm6_o0_upm6_4_4_cent_carbonyl_ts_freq_restart_1</td><td><a href = \"files/graphene_cycloadditions/unrestricted_cycloadd_oniom/correction/o0_upm6_o0_upm6_4_4_cent_carbonyl_ts_freq_restart_1.com\" target = \"_blank\">com</a></td><td><input type=\"button\" value=\"Smart Log\" id=\"o0_upm6_o0_upm6_4_4_cent_carbonyl_ts_freq_restart_1\" onclick=\"IPython.cc_notebook.view_function(event, this.id)\" /></td><td>Success</td></tr><tr><td>o0_uHF_STO-3G_o0_uHF_STO-3G_4_4_cent_carbonyl_ts_freq_restart_2</td><td><a href = \"files/graphene_cycloadditions/unrestricted_cycloadd_oniom/correction/o0_uHF_STO-3G_o0_uHF_STO-3G_4_4_cent_carbonyl_ts_freq_restart_2.com\" target = \"_blank\">com</a></td><td><input type=\"button\" value=\"Smart Log\" id=\"o0_uHF_STO-3G_o0_uHF_STO-3G_4_4_cent_carbonyl_ts_freq_restart_2\" onclick=\"IPython.cc_notebook.view_function(event, this.id)\" /></td><td>Success</td></tr><tr><td>o1_uam1_o1_uam1_4_4_cent_carbonyl_ts_freq_restart_1</td><td><a href = \"files/graphene_cycloadditions/unrestricted_cycloadd_oniom/correction/o1_uam1_o1_uam1_4_4_cent_carbonyl_ts_freq_restart_1.com\" target = \"_blank\">com</a></td><td><input type=\"button\" value=\"Smart Log\" id=\"o1_uam1_o1_uam1_4_4_cent_carbonyl_ts_freq_restart_1\" onclick=\"IPython.cc_notebook.view_function(event, this.id)\" /></td><td>Success</td></tr><tr><td>o1_upm6_o1_upm6_4_4_cent_carbonyl_ts_freq_restart_1</td><td><a href = \"files/graphene_cycloadditions/unrestricted_cycloadd_oniom/correction/o1_upm6_o1_upm6_4_4_cent_carbonyl_ts_freq_restart_1.com\" target = \"_blank\">com</a></td><td><input type=\"button\" value=\"Smart Log\" id=\"o1_upm6_o1_upm6_4_4_cent_carbonyl_ts_freq_restart_1\" onclick=\"IPython.cc_notebook.view_function(event, this.id)\" /></td><td>Success</td></tr><tr><td>o1_uHF_STO-3G_o1_uHF_STO-3G_4_4_cent_carbonyl_ts_freq_restart_1</td><td><a href = \"files/graphene_cycloadditions/unrestricted_cycloadd_oniom/correction/o1_uHF_STO-3G_o1_uHF_STO-3G_4_4_cent_carbonyl_ts_freq_restart_1.com\" target = \"_blank\">com</a></td><td><input type=\"button\" value=\"Smart Log\" id=\"o1_uHF_STO-3G_o1_uHF_STO-3G_4_4_cent_carbonyl_ts_freq_restart_1\" onclick=\"IPython.cc_notebook.view_function(event, this.id)\" /></td><td>Success</td></tr><tr><td>o2_uam1_o2_uam1_4_4_cent_carbonyl_ts_freq_restart_1</td><td><a href = \"files/graphene_cycloadditions/unrestricted_cycloadd_oniom/correction/o2_uam1_o2_uam1_4_4_cent_carbonyl_ts_freq_restart_1.com\" target = \"_blank\">com</a></td><td><input type=\"button\" value=\"Smart Log\" id=\"o2_uam1_o2_uam1_4_4_cent_carbonyl_ts_freq_restart_1\" onclick=\"IPython.cc_notebook.view_function(event, this.id)\" /></td><td>Success</td></tr><tr><td>o2_upm6_o2_upm6_4_4_cent_carbonyl_ts_freq_restart_1</td><td><a href = \"files/graphene_cycloadditions/unrestricted_cycloadd_oniom/correction/o2_upm6_o2_upm6_4_4_cent_carbonyl_ts_freq_restart_1.com\" target = \"_blank\">com</a></td><td><input type=\"button\" value=\"Smart Log\" id=\"o2_upm6_o2_upm6_4_4_cent_carbonyl_ts_freq_restart_1\" onclick=\"IPython.cc_notebook.view_function(event, this.id)\" /></td><td>Success</td></tr><tr><td>o2_uHF_STO-3G_o2_uHF_STO-3G_4_4_cent_carbonyl_ts_freq_restart_1</td><td><a href = \"files/graphene_cycloadditions/unrestricted_cycloadd_oniom/correction/o2_uHF_STO-3G_o2_uHF_STO-3G_4_4_cent_carbonyl_ts_freq_restart_1.com\" target = \"_blank\">com</a></td><td><input type=\"button\" value=\"Smart Log\" id=\"o2_uHF_STO-3G_o2_uHF_STO-3G_4_4_cent_carbonyl_ts_freq_restart_1\" onclick=\"IPython.cc_notebook.view_function(event, this.id)\" /></td><td>Success</td></tr><tr><td>o3_uam1_o3_uam1_4_4_cent_carbonyl_ts_freq_restart_1</td><td><a href = \"files/graphene_cycloadditions/unrestricted_cycloadd_oniom/correction/o3_uam1_o3_uam1_4_4_cent_carbonyl_ts_freq_restart_1.com\" target = \"_blank\">com</a></td><td><input type=\"button\" value=\"Smart Log\" id=\"o3_uam1_o3_uam1_4_4_cent_carbonyl_ts_freq_restart_1\" onclick=\"IPython.cc_notebook.view_function(event, this.id)\" /></td><td>Success</td></tr><tr><td>o3_upm6_o3_upm6_4_4_cent_carbonyl_ts_freq_restart_1</td><td><a href = \"files/graphene_cycloadditions/unrestricted_cycloadd_oniom/correction/o3_upm6_o3_upm6_4_4_cent_carbonyl_ts_freq_restart_1.com\" target = \"_blank\">com</a></td><td><input type=\"button\" value=\"Smart Log\" id=\"o3_upm6_o3_upm6_4_4_cent_carbonyl_ts_freq_restart_1\" onclick=\"IPython.cc_notebook.view_function(event, this.id)\" /></td><td>Success</td></tr><tr><td>o3_uHF_STO-3G_o3_uHF_STO-3G_4_4_cent_carbonyl_ts_freq_restart_1</td><td><a href = \"files/graphene_cycloadditions/unrestricted_cycloadd_oniom/correction/o3_uHF_STO-3G_o3_uHF_STO-3G_4_4_cent_carbonyl_ts_freq_restart_1.com\" target = \"_blank\">com</a></td><td><input type=\"button\" value=\"Smart Log\" id=\"o3_uHF_STO-3G_o3_uHF_STO-3G_4_4_cent_carbonyl_ts_freq_restart_1\" onclick=\"IPython.cc_notebook.view_function(event, this.id)\" /></td><td>Success</td></tr><tr><td>o4_uam1_o4_uam1_4_4_cent_carbonyl_ts_freq_restart_1</td><td><a href = \"files/graphene_cycloadditions/unrestricted_cycloadd_oniom/correction/o4_uam1_o4_uam1_4_4_cent_carbonyl_ts_freq_restart_1.com\" target = \"_blank\">com</a></td><td><input type=\"button\" value=\"Smart Log\" id=\"o4_uam1_o4_uam1_4_4_cent_carbonyl_ts_freq_restart_1\" onclick=\"IPython.cc_notebook.view_function(event, this.id)\" /></td><td>Success</td></tr><tr><td>o4_upm6_o4_upm6_4_4_cent_carbonyl_ts_freq_restart_1</td><td><a href = \"files/graphene_cycloadditions/unrestricted_cycloadd_oniom/correction/o4_upm6_o4_upm6_4_4_cent_carbonyl_ts_freq_restart_1.com\" target = \"_blank\">com</a></td><td><input type=\"button\" value=\"Smart Log\" id=\"o4_upm6_o4_upm6_4_4_cent_carbonyl_ts_freq_restart_1\" onclick=\"IPython.cc_notebook.view_function(event, this.id)\" /></td><td>Success</td></tr><tr><td>o4_uHF_STO-3G_o4_uHF_STO-3G_4_4_cent_carbonyl_ts_freq_restart_1</td><td><a href = \"files/graphene_cycloadditions/unrestricted_cycloadd_oniom/correction/o4_uHF_STO-3G_o4_uHF_STO-3G_4_4_cent_carbonyl_ts_freq_restart_1.com\" target = \"_blank\">com</a></td><td><input type=\"button\" value=\"Smart Log\" id=\"o4_uHF_STO-3G_o4_uHF_STO-3G_4_4_cent_carbonyl_ts_freq_restart_1\" onclick=\"IPython.cc_notebook.view_function(event, this.id)\" /></td><td>Success</td></tr>\n",
        "    </table>\n",
        "    </body>"
       ],
       "metadata": {},
       "output_type": "pyout",
       "prompt_number": 64,
       "text": [
        "<IPython.core.display.HTML at 0x89c5f90>"
       ]
      }
     ],
     "prompt_number": 64
    },
    {
     "cell_type": "markdown",
     "metadata": {},
     "source": [
      "<font size=5 color=red> Down to here </font>"
     ]
    },
    {
     "cell_type": "code",
     "collapsed": false,
     "input": [],
     "language": "python",
     "metadata": {},
     "outputs": [],
     "prompt_number": 64
    },
    {
     "cell_type": "code",
     "collapsed": false,
     "input": [
      "#view_ipython_jmol(o_44_opt_carb_ts, vib=1)"
     ],
     "language": "python",
     "metadata": {},
     "outputs": [],
     "prompt_number": 65
    },
    {
     "cell_type": "heading",
     "level": 2,
     "metadata": {},
     "source": [
      "Notes"
     ]
    }
   ],
   "metadata": {}
  }
 ]
}