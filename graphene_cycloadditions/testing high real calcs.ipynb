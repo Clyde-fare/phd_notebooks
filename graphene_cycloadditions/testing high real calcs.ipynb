{
 "metadata": {
  "name": "",
  "signature": "sha256:c0903cb58e5f771bcb57a7b6a8c6dbc58dcfee756000ce7881d29c365ecb0138"
 },
 "nbformat": 3,
 "nbformat_minor": 0,
 "worksheets": [
  {
   "cells": [
    {
     "cell_type": "code",
     "collapsed": false,
     "input": [
      "%pylab inline"
     ],
     "language": "python",
     "metadata": {},
     "outputs": [
      {
       "output_type": "stream",
       "stream": "stdout",
       "text": [
        "Populating the interactive namespace from numpy and matplotlib\n"
       ]
      }
     ],
     "prompt_number": 1
    },
    {
     "cell_type": "code",
     "collapsed": false,
     "input": [
      "import cc_notebook_utils\n",
      "from ase.io import read, write\n",
      "from gausspy import Gaussian\n",
      "from ASE_utils import *\n",
      "from cc_notebook_utils import *\n",
      "from gausspy.oniom_utils import oniom_stable\n",
      "from gaussian_job_manager import on_server\n",
      "#from adsy import display as ad_disp\n",
      "import pandas\n",
      "pandas.set_option('display.max_rows', 200)\n",
      "pandas.set_option('display.max_columns', 10)\n",
      "#ad_disp.extended_styles()\n",
      "o_stable = on_server(oniom_stable)"
     ],
     "language": "python",
     "metadata": {},
     "outputs": [],
     "prompt_number": 2
    },
    {
     "cell_type": "code",
     "collapsed": false,
     "input": [
      "cd unrestricted_cycloadd_oniom/"
     ],
     "language": "python",
     "metadata": {},
     "outputs": [
      {
       "output_type": "stream",
       "stream": "stdout",
       "text": [
        "/home/clyde/Dropbox/Project Stuff/Notebooks/graphene_cycloadditions/unrestricted_cycloadd_oniom\n"
       ]
      }
     ],
     "prompt_number": 3
    },
    {
     "cell_type": "code",
     "collapsed": false,
     "input": [
      "azo_log = '../unrestricted_cycloadd/UB3LYP_631Gd_UB3LYP_631Gd_azomethine_ylide_mult_1_stable_restart_1.log'\n",
      "carb_log = '../unrestricted_cycloadd/UB3LYP_631Gd_UB3LYP_631Gd_carbonyl_ylide_mult_1_stable_restart_3.log'\n",
      "graph_44_log = '../unrestricted_cycloadd/UB3LYP_631Gd_UB3LYP_631Gd_4_4_graphene_stable_restart_3.log'\n",
      "azo_44_log = '../unrestricted_cycloadd/UB3LYP_631Gd_UB3LYP_631Gd_4_4_cent_azomethine_v2_stable_restart_4.log'\n",
      "carb_44_log = '../unrestricted_cycloadd/UB3LYP_631Gd_UB3LYP_631Gd_4_4_cent_carbonyl_stable_restart_3.log'\n",
      "azo_44_ts_log = '../unrestricted_cycloadd/UB3LYP_631Gd_UB3LYP_631Gd_4_4_cent_azomethine_ts_v2_mult_1_reopt_restart_2.log'\n",
      "carb_44_ts_log = '../unrestricted_cycloadd/UB3LYP_631Gd_UB3LYP_631Gd_4_4_cent_carbonyl_ts3_reopt_restart_2_freq.log'\n",
      "\n",
      "l_methods = ('dreiding', 'uam1','upm6','uHF/STO-3G', 'uff')\n",
      "o_44_full_calcs = {'cent_azomethine':[read(azo_44_log)], \n",
      "                  'cent_azomethine_ts':[read(azo_44_ts_log)], \n",
      "                  'graphene':[read(graph_44_log)], \n",
      "                  'cent_carbonyl':[read(carb_44_log)], \n",
      "                  'cent_carbonyl_ts':[read(carb_44_ts_log)]}\n",
      "\n",
      "for k in o_44_full_calcs:\n",
      "    for m in o_44_full_calcs[k]:\n",
      "        m.set_calculator(Gaussian(label = m.calc.label))\n",
      "        m.calc.label = '../unrestricted_cycloadd/' + m.calc.label"
     ],
     "language": "python",
     "metadata": {},
     "outputs": [],
     "prompt_number": 4
    },
    {
     "cell_type": "code",
     "collapsed": false,
     "input": [
      "import glob\n",
      "\n",
      "o_44_hm = {'cent_azomethine':[], 'cent_azomethine_ts':[], 'graphene':[], 'cent_carbonyl':[], 'cent_carbonyl_ts':[]}\n",
      "o_44_hm_opt = copy.deepcopy(o_44_hm)\n",
      "\n",
      "for y in o_44_hm:\n",
      "    if 'ts' not in y:\n",
      "        mols = [read(log_f) for log_f in glob.glob('*alone*.log') if y in log_f and 'opt' not in log_f and 'ts' not in log_f]\n",
      "    else:\n",
      "        mols = [read(log_f) for log_f in glob.glob('*alone*.log') if y in log_f and 'opt' not in log_f]\n",
      "\n",
      "    mols.sort(key=lambda m:m.calc.label)\n",
      "    o_44_hm[y]=mols\n",
      "    \n",
      "for y in o_44_hm_opt:\n",
      "    if 'ts' not in y:\n",
      "        mols = [read(log_f) for log_f in glob.glob('*alone*.log') if y in log_f and 'opt' in log_f and 'ts' not in log_f and read(log_f)]\n",
      "    else:\n",
      "        mols = [read(log_f) for log_f in glob.glob('*alone*.log') if y in log_f and 'opt' in log_f and read(log_f)]\n",
      "    \n",
      "    mols.sort(key=lambda m:m.calc.label)\n",
      "    o_44_hm_opt[y]=mols\n",
      "    \n",
      "for y in o_44_hm:\n",
      "    for m in o_44_hm[y]:\n",
      "        m.set_calculator(Gaussian(label = m.calc.label))\n",
      "    \n",
      "for y in o_44_hm_opt:\n",
      "    for m in o_44_hm_opt[y]:\n",
      "        m.set_calculator(Gaussian(label = m.calc.label))"
     ],
     "language": "python",
     "metadata": {},
     "outputs": [],
     "prompt_number": 5
    },
    {
     "cell_type": "code",
     "collapsed": false,
     "input": [
      "azo_log = 'other/UB3LYP_631Gd_UB3LYP_631Gd_azomethine_ylide_mult_1_stable_restart_1.log'\n",
      "carb_log = 'other/UB3LYP_631Gd_UB3LYP_631Gd_carbonyl_ylide_mult_1_stable_restart_3.log'\n",
      "graph_44_log = '../unrestricted_cycloadd/UB3LYP_631Gd_UB3LYP_631Gd_4_4_graphene_stable_restart_3.log'\n",
      "azo_44_log = '../unrestricted_cycloadd/4_4_cent_azomethine_v2_stable_restart_4.log'\n",
      "carb_44_log = '../unrestricted_cycloadd/4_4_cent_carbonyl_stable_restart_3.log'\n",
      "azo_44_ts_log = 'other/UB3LYP_631Gd_UB3LYP_631Gd_4_4_cent_azomethine_ts_v2_mult_1_reopt_restart_2.log'\n",
      "carb_44_ts_log = 'oniom_xyz_files/non_oniom_ts/UB3LYP_631Gd_UB3LYP_631Gd_4_4_cent_carbonyl_ts3_reopt_restart_2_freq.log'\n",
      "\n",
      "l_methods = ('dreiding', 'uam1','upm6','uHF/STO-3G', 'uff')"
     ],
     "language": "python",
     "metadata": {},
     "outputs": [],
     "prompt_number": 6
    },
    {
     "cell_type": "code",
     "collapsed": false,
     "input": [
      "o_44_hm_opt['graphene'].append(o_44_full_calcs['graphene'][0])\n",
      "mols_to_html(o_44_hm_opt['graphene'])"
     ],
     "language": "python",
     "metadata": {},
     "outputs": [
      {
       "html": [
        "\n",
        "    <style>\n",
        "    table\n",
        "    {\n",
        "        border-collapse:collapse;\n",
        "    }\n",
        "    td\n",
        "    {\n",
        "        padding:15px;\n",
        "    }\n",
        "    </style>\n",
        "    <body>\n",
        "    <table bgcolor=\"white\">\n",
        "    <col/><tr><td>o0_alone_opt_4_4_graphene</td><td><a href = \"files/graphene_cycloadditions/unrestricted_cycloadd_oniom/o0_alone_opt_4_4_graphene.com\" target = \"_blank\">com</a></td><td><input type=\"button\" value=\"Smart Log\" id=\"o0_alone_opt_4_4_graphene\" onclick=\"IPython.cc_notebook.view_function(event, this.id)\" /></td><td>Success</td></tr><tr><td>o1_alone_opt_4_4_graphene</td><td><a href = \"files/graphene_cycloadditions/unrestricted_cycloadd_oniom/o1_alone_opt_4_4_graphene.com\" target = \"_blank\">com</a></td><td><input type=\"button\" value=\"Smart Log\" id=\"o1_alone_opt_4_4_graphene\" onclick=\"IPython.cc_notebook.view_function(event, this.id)\" /></td><td>Success</td></tr><tr><td>o2_alone_opt_4_4_graphene</td><td><a href = \"files/graphene_cycloadditions/unrestricted_cycloadd_oniom/o2_alone_opt_4_4_graphene.com\" target = \"_blank\">com</a></td><td><input type=\"button\" value=\"Smart Log\" id=\"o2_alone_opt_4_4_graphene\" onclick=\"IPython.cc_notebook.view_function(event, this.id)\" /></td><td>Success</td></tr><tr><td>o3_alone_opt_4_4_graphene</td><td><a href = \"files/graphene_cycloadditions/unrestricted_cycloadd_oniom/o3_alone_opt_4_4_graphene.com\" target = \"_blank\">com</a></td><td><input type=\"button\" value=\"Smart Log\" id=\"o3_alone_opt_4_4_graphene\" onclick=\"IPython.cc_notebook.view_function(event, this.id)\" /></td><td>Success</td></tr><tr><td>o4_alone_opt_4_4_graphene</td><td><a href = \"files/graphene_cycloadditions/unrestricted_cycloadd_oniom/o4_alone_opt_4_4_graphene.com\" target = \"_blank\">com</a></td><td><input type=\"button\" value=\"Smart Log\" id=\"o4_alone_opt_4_4_graphene\" onclick=\"IPython.cc_notebook.view_function(event, this.id)\" /></td><td>Success</td></tr><tr><td>../unrestricted_cycloadd/UB3LYP_631Gd_UB3LYP_631Gd_4_4_graphene_stable_restart_3</td><td><a href = \"files/graphene_cycloadditions/unrestricted_cycloadd_oniom/../unrestricted_cycloadd/UB3LYP_631Gd_UB3LYP_631Gd_4_4_graphene_stable_restart_3.com\" target = \"_blank\">com</a></td><td><input type=\"button\" value=\"Smart Log\" id=\"../unrestricted_cycloadd/UB3LYP_631Gd_UB3LYP_631Gd_4_4_graphene_stable_restart_3\" onclick=\"IPython.cc_notebook.view_function(event, this.id)\" /></td><td>Success</td></tr>\n",
        "    </table>\n",
        "    </body>"
       ],
       "metadata": {},
       "output_type": "pyout",
       "prompt_number": 7,
       "text": [
        "<IPython.core.display.HTML at 0x7f19abc01110>"
       ]
      }
     ],
     "prompt_number": 7
    },
    {
     "cell_type": "code",
     "collapsed": false,
     "input": [
      "gs = [read(g.calc.log) for g in o_44_hm_opt['graphene']]\n",
      "inds = [[3,4], [10,11], [14,15], [17,18], [20,21], [27,28]]\n",
      "\n",
      "reacting_c_bond_dists = [linalg.norm(gs[i][inds[i][0]].position - gs[i][inds[i][1]].position) for i in range(len(gs))]\n",
      "reacting_c_bond_dists"
     ],
     "language": "python",
     "metadata": {},
     "outputs": [
      {
       "metadata": {},
       "output_type": "pyout",
       "prompt_number": 74,
       "text": [
        "[1.3309711937000073,\n",
        " 1.4339508290000653,\n",
        " 1.4267701831000035,\n",
        " 1.4065404345000034,\n",
        " 1.4350369973000507,\n",
        " 1.4152432686615661]"
       ]
      }
     ],
     "prompt_number": 74
    },
    {
     "cell_type": "code",
     "collapsed": false,
     "input": [
      "#mulliken charge on central atoms\n",
      "\n",
      "-0.285447\n",
      "0.134468\n",
      "-0.012234\n",
      "-0.024691 \n",
      "0.055564\n",
      "0.039800\n",
      "\n",
      "#mulliken charge between central carbons:\n",
      "    \n",
      "0.687060\n",
      "0.492221\n",
      "0.257088\n",
      "0.251797\n",
      "0.194784"
     ],
     "language": "python",
     "metadata": {},
     "outputs": [
      {
       "metadata": {},
       "output_type": "pyout",
       "prompt_number": 82,
       "text": [
        "0.13128499999999999"
       ]
      }
     ],
     "prompt_number": 82
    },
    {
     "cell_type": "code",
     "collapsed": false,
     "input": [],
     "language": "python",
     "metadata": {},
     "outputs": []
    }
   ],
   "metadata": {}
  }
 ]
}