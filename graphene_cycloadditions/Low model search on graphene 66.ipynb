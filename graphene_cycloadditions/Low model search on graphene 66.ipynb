{
 "metadata": {
  "name": "",
  "signature": "sha256:a11128e7ee332f636edf99bdb31ca97a3f39b99a3840548418db6eea5f88bea5"
 },
 "nbformat": 3,
 "nbformat_minor": 0,
 "worksheets": [
  {
   "cells": [
    {
     "cell_type": "code",
     "collapsed": false,
     "input": [
      "import pandas as pd\n",
      "from gausspy import Gaussian\n",
      "from ase.io import read\n",
      "import numpy as np\n",
      "from cc_notebook_utils import *\n",
      "from ASE_utils import *"
     ],
     "language": "python",
     "metadata": {},
     "outputs": [],
     "prompt_number": 1
    },
    {
     "cell_type": "code",
     "collapsed": false,
     "input": [
      "%matplotlib inline"
     ],
     "language": "python",
     "metadata": {},
     "outputs": [],
     "prompt_number": 2
    },
    {
     "cell_type": "code",
     "collapsed": false,
     "input": [
      "def strip_brackets(basis):\n",
      "    \"\"\"Removes the brackets from a basis set string, so we can use it as part of a file name\"\"\"\n",
      "    return basis.replace('(','').replace(')','')"
     ],
     "language": "python",
     "metadata": {},
     "outputs": [],
     "prompt_number": 3
    },
    {
     "cell_type": "code",
     "collapsed": false,
     "input": [
      "cd low_model_search/"
     ],
     "language": "python",
     "metadata": {},
     "outputs": [
      {
       "output_type": "stream",
       "stream": "stdout",
       "text": [
        "/home/clyde/Dropbox/Project Stuff/Notebooks/graphene_cycloadditions/low_model_search\n"
       ]
      }
     ],
     "prompt_number": 4
    },
    {
     "cell_type": "code",
     "collapsed": false,
     "input": [
      "flat_frag, bent_frag = read('base_66_fragment.xyz'), read('bent_66_fragment.xyz')\n",
      "flat_frags, bent_frags = [], []\n",
      "\n",
      "stable_opts = ['', 'opt']\n",
      "\n",
      "u_method_basis_sets = ['uB3LYP/6-31G(d)', 'uB3LYP/STO-3G', 'uam1', 'upm3', 'upm6', 'umndo', 'umindo3', \n",
      "                       'uHF/STO-3G', 'uHCTH/STO-3G', 'uLSDA/STO-3G', 'uPBEPBE/STO-3G', \n",
      "                       'uHF/6-31G(d)', 'uHCTH/6-31G(d)', 'uLSDA/6-31G(d)','uPBEPBE/6-31G(d)']\n",
      "                     \n",
      "r_method_basis_sets = ['B3LYP/6-31G(d)', 'B3LYP/STO-3G', 'uff', 'huckel', 'am1', 'pm3', 'pm6', 'mndo', 'mindo3', \n",
      "                       'HF/STO-3G', 'HCTH/STO-3G', 'LSDA/STO-3G', 'PBEPBE/STO-3G', \n",
      "                       'HF/6-31G(d)', 'HCTH/6-31G(d)', 'LSDA/6-31G(d)','PBEPBE/6-31G(d)']"
     ],
     "language": "python",
     "metadata": {},
     "outputs": [],
     "prompt_number": 5
    },
    {
     "cell_type": "code",
     "collapsed": false,
     "input": [
      "view_ipython_jmol(['base_66_fragment.xyz','bent_66_fragment.xyz'])"
     ],
     "language": "python",
     "metadata": {},
     "outputs": [
      {
       "html": [
        "<div style=float:left><div id='applet_div_id_8687839587790'></div></div>\n",
        "<div style=float:left><div id='applet_div_id_8890624432464'></div></div>\n",
        "<script type=\"text/Javascript\">//initialisation\n",
        "    var Info = {\n",
        "        color: \"#FFFFFF\",\n",
        "        width: 300,\n",
        "        height: 300,\n",
        "        serverURL: \"/static/custom/jsmol/jsmol.php \",\n",
        "        use: \"HTML5\",\n",
        "        j2sPath: \"/static/custom/jsmol/j2s\",\n",
        "        console: \"jmolApplet0_infodiv\"\n",
        "    }\n",
        "    //prevent applet from immediately generating html - allows us to place the applet in the div we wish\n",
        "    Jmol.setDocument(0)\n",
        "    //start applet\n",
        "    applet_id_8687839587790 = Jmol.getApplet(\"applet_id_8687839587790\", Info)\n",
        "    //insert applet html into applet_div_id_8687839587790\n",
        "    $(\"#applet_div_id_8687839587790\").html(Jmol.getAppletHtml(applet_id_8687839587790))\n",
        "    //execute scripts\n",
        "    Jmol.script(applet_id_8687839587790,\"load low_model_search/base_66_fragment.xyz; select all; set echo echoname 50% 90%; font echo 15; echo base_66_fragment;; set frank off; sync . SLAVE;\")\n",
        "    //start applet\n",
        "    applet_id_8890624432464 = Jmol.getApplet(\"applet_id_8890624432464\", Info)\n",
        "    //insert applet html into applet_div_id_8890624432464\n",
        "    $(\"#applet_div_id_8890624432464\").html(Jmol.getAppletHtml(applet_id_8890624432464))\n",
        "    //execute scripts\n",
        "    Jmol.script(applet_id_8890624432464,\"load low_model_search/bent_66_fragment.xyz; select all; set echo echoname 50% 90%; font echo 15; echo bent_66_fragment;; set frank off; sync . SLAVE;\")</script>"
       ],
       "metadata": {},
       "output_type": "pyout",
       "prompt_number": 6,
       "text": [
        "<IPython.core.display.HTML at 0x7f9c080aff10>"
       ]
      }
     ],
     "prompt_number": 6
    },
    {
     "cell_type": "code",
     "collapsed": false,
     "input": [
      "for stable in stable_opts:\n",
      "    for method_basis in u_method_basis_sets + r_method_basis_sets:\n",
      "        try:\n",
      "            method, basis = method_basis.split('/')\n",
      "        except ValueError:\n",
      "            method, basis = method_basis, ''\n",
      "\n",
      "        frag1 = flat_frag.copy()\n",
      "        frag1_label = 'flat_frag_' + method + '_' + strip_brackets(basis)\n",
      "        frag1_label = 'stable_' + frag1_label if stable else frag1_label\n",
      "        frag1.set_calculator(Gaussian(label= frag1_label, method=method, basis=basis, stable=stable))\n",
      "        frag1.calc.set_job(nodes=12, memory=12*1600, time=8, queue='pqmb', version='g09')\n",
      "        flat_frags.append(frag1)\n",
      "\n",
      "        frag2 = bent_frag.copy()\n",
      "        frag2_label = 'bent_frag_' + method + '_' + strip_brackets(basis)\n",
      "        frag2_label = 'stable_' + frag2_label if stable else frag2_label\n",
      "        frag2.set_calculator(Gaussian(label=frag2_label, method=method, basis=basis, stable=stable))\n",
      "        frag2.calc.set_job(nodes=12, memory=12*1600, time=8, queue='pqmb', version='g09')\n",
      "        bent_frags.append(frag2)\n",
      "\n",
      "        #frag1.calc.start()\n",
      "        #frag2.calc.start()\n",
      "        \n",
      "flat_frags, stable_flat_frags = flat_frags[0:len(flat_frags)/2], flat_frags[len(flat_frags)/2:]\n",
      "bent_frags, stable_bent_frags = bent_frags[0:len(bent_frags)/2], bent_frags[len(bent_frags)/2:]"
     ],
     "language": "python",
     "metadata": {},
     "outputs": [],
     "prompt_number": 7
    },
    {
     "cell_type": "markdown",
     "metadata": {},
     "source": [
      "*Add opls-aa using Gaussian/softonly and possibly airebo?*"
     ]
    },
    {
     "cell_type": "code",
     "collapsed": false,
     "input": [
      "e_calcs = check_calcs(flat_frags + bent_frags + stable_flat_frags + stable_bent_frags)\n",
      "#mols_to_html(flat_frags)"
     ],
     "language": "python",
     "metadata": {},
     "outputs": [],
     "prompt_number": 8
    },
    {
     "cell_type": "code",
     "collapsed": false,
     "input": [
      "bending_e, spin, calc_time = {}, {}, {}\n",
      "\n",
      "#restricted calculations (skip stability optmised results)\n",
      "for i,k in enumerate(u_method_basis_sets + r_method_basis_sets):\n",
      "    if bent_frags[i].calc.status != 'Success' or flat_frags[i].calc.status != 'Success': continue\n",
      "    if i < len(u_method_basis_sets): continue\n",
      "        \n",
      "    calc_time[k] = np.mean([bent_frags[i].calc.time, flat_frags[i].calc.time])\n",
      "    spin[k] = 0\n",
      "    bending_e[k] =  23.1 * (bent_frags[i].calc.energy_zero - flat_frags[i].calc.energy_zero)\n",
      "    \n",
      "#unrestricted calculations (skipping non stability optimised results)\n",
      "for i,k in enumerate(u_method_basis_sets + r_method_basis_sets):\n",
      "    if stable_bent_frags[i].calc.status != 'Success' or stable_flat_frags[i].calc.status != 'Success': continue\n",
      "    if i >= len(u_method_basis_sets): continue    \n",
      "        \n",
      "    calc_time['stable_'+k] = np.mean([stable_bent_frags[i].calc.time, stable_flat_frags[i].calc.time])\n",
      "    spin['stable_'+k] = stable_bent_frags[i].calc.max_data['S2']\n",
      "    bending_e['stable_'+k] =  23.1 * (stable_bent_frags[i].calc.energy_zero - stable_flat_frags[i].calc.energy_zero)\n",
      "    \n",
      "low_level_error = {k: bending_e[k] - bending_e['stable_uB3LYP/6-31G(d)'] for k in bending_e}\n",
      "efficiency = {k: abs(low_level_error[k]*calc_time[k]) for k in low_level_error}\n",
      "data=pd.DataFrame([bending_e, low_level_error, spin, calc_time, efficiency], index=['Bending_Energy /Kcal', \n",
      "                                                                  'Delta vs. stable_uB3LYP/6-31G* /Kcal',\n",
      "                                                                  'Bent fragment S2',\n",
      "                                                                  'CPU time /hours',\n",
      "                                                                  'Efficiency /Kcal-hour'])\n",
      "data.T.sort('Efficiency /Kcal-hour')"
     ],
     "language": "python",
     "metadata": {},
     "outputs": [
      {
       "output_type": "stream",
       "stream": "stderr",
       "text": [
        "/home/clyde/anaconda/lib/python2.7/site-packages/IPython/core/formatters.py:239: FormatterWarning: Exception in text/html formatter: invalid value encountered in greater\n",
        "  FormatterWarning,\n"
       ]
      },
      {
       "metadata": {},
       "output_type": "pyout",
       "prompt_number": 9,
       "text": [
        "<repr(<pandas.core.frame.DataFrame at 0x7f9be4125b10>) failed: FloatingPointError: invalid value encountered in greater>"
       ]
      }
     ],
     "prompt_number": 9
    },
    {
     "cell_type": "code",
     "collapsed": false,
     "input": [
      "low_level_error"
     ],
     "language": "python",
     "metadata": {},
     "outputs": [
      {
       "metadata": {},
       "output_type": "pyout",
       "prompt_number": 10,
       "text": [
        "{'B3LYP/6-31G(d)': -0.08215582901757479,\n",
        " 'B3LYP/STO-3G': -10.929051071235154,\n",
        " 'HCTH/6-31G(d)': nan,\n",
        " 'HCTH/STO-3G': nan,\n",
        " 'HF/6-31G(d)': 5.911385360920395,\n",
        " 'HF/STO-3G': 2.140954514351325,\n",
        " 'LSDA/6-31G(d)': 1.7291696339263574,\n",
        " 'LSDA/STO-3G': -6.590820984332823,\n",
        " 'PBEPBE/6-31G(d)': -3.9721432077640206,\n",
        " 'PBEPBE/STO-3G': -13.736178102498526,\n",
        " 'am1': nan,\n",
        " 'huckel': nan,\n",
        " 'mndo': nan,\n",
        " 'pm3': nan,\n",
        " 'pm6': nan,\n",
        " 'stable_uB3LYP/6-31G(d)': 0.0,\n",
        " 'stable_uB3LYP/STO-3G': -10.69421237273491,\n",
        " 'stable_uHCTH/6-31G(d)': nan,\n",
        " 'stable_uHCTH/STO-3G': nan,\n",
        " 'stable_uHF/6-31G(d)': 2.8878999779321024,\n",
        " 'stable_uHF/STO-3G': -4.791312885296065,\n",
        " 'stable_uLSDA/6-31G(d)': 1.6568197031840093,\n",
        " 'stable_uLSDA/STO-3G': -6.6612851655620045,\n",
        " 'stable_uPBEPBE/6-31G(d)': -4.038647314612172,\n",
        " 'stable_uPBEPBE/STO-3G': -13.748875483943266,\n",
        " 'stable_uam1': nan,\n",
        " 'stable_upm3': nan,\n",
        " 'stable_upm6': nan,\n",
        " 'uff': -12.773942879216033}"
       ]
      }
     ],
     "prompt_number": 10
    },
    {
     "cell_type": "markdown",
     "metadata": {},
     "source": [
      "Restricted calculations:\n",
      "\n",
      "*   UFF/Huckel are not affected by the change in bond angles?\n",
      "*   Basis set reduction appears to favour bending the fragment.\n",
      "*   Exact exchange appears to favour flattening the fragment.\n",
      "*   AM1/PMx trained on B3LYP so match well, as does HCTH\n",
      "*   mindo3 didn't converge\n",
      "\n",
      "Unrestricted calculations:\n",
      "\n",
      "*   energy change relative to restricted calculations vary, biggest for HF/STO-3G\n",
      "*   semi empirical and HCTH show changes in S2 but not in energy? (both absolute and relative bending E)\n",
      "\n",
      "I vaguely expect delocalised influence to require larger basis sets so perhaps these results are consistent - hypothesise that exchange + larger basis sets favour delocalised interactions and a flat fragment, local influences favour a bent fragment. Can we test this?"
     ]
    },
    {
     "cell_type": "markdown",
     "metadata": {},
     "source": [
      "**AM1 looks like a reasonable method for approximating B3LYP/6-31G(d) for graphene 66 fragment bending energies**"
     ]
    }
   ],
   "metadata": {}
  }
 ]
}