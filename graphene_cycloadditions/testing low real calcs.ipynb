{
 "metadata": {
  "name": "",
  "signature": "sha256:919e869813cb7471e3e89faedabc0cf80c4e2e572a9e75f178488f48d17be449"
 },
 "nbformat": 3,
 "nbformat_minor": 0,
 "worksheets": [
  {
   "cells": [
    {
     "cell_type": "code",
     "collapsed": false,
     "input": [
      "%pylab inline"
     ],
     "language": "python",
     "metadata": {},
     "outputs": [
      {
       "output_type": "stream",
       "stream": "stdout",
       "text": [
        "Populating the interactive namespace from numpy and matplotlib\n"
       ]
      }
     ],
     "prompt_number": 1
    },
    {
     "cell_type": "code",
     "collapsed": false,
     "input": [
      "import cc_notebook_utils\n",
      "import ase\n",
      "from ase.io import read, write\n",
      "from gausspy import Gaussian\n",
      "from ASE_utils import *\n",
      "from cc_notebook_utils import *\n",
      "from gausspy.oniom_utils import oniom_stable\n",
      "from gaussian_job_manager import on_server\n",
      "#from adsy import display as ad_disp\n",
      "import pandas\n",
      "pandas.set_option('display.max_rows', 200)\n",
      "pandas.set_option('display.max_columns', 10)\n",
      "#ad_disp.extended_styles()\n",
      "o_stable = on_server(oniom_stable)"
     ],
     "language": "python",
     "metadata": {},
     "outputs": [],
     "prompt_number": 2
    },
    {
     "cell_type": "code",
     "collapsed": false,
     "input": [
      "cd unrestricted_cycloadd_oniom/"
     ],
     "language": "python",
     "metadata": {},
     "outputs": [
      {
       "output_type": "stream",
       "stream": "stdout",
       "text": [
        "/home/clyde/Dropbox/Project Stuff/Notebooks/graphene_cycloadditions/unrestricted_cycloadd_oniom\n"
       ]
      }
     ],
     "prompt_number": 3
    },
    {
     "cell_type": "code",
     "collapsed": false,
     "input": [
      "def rxn_E_f(prod,reacts):\n",
      "    try: \n",
      "        return 23.060542301388647 * (prod.calc.energy_zero - sum([r.calc.energy_zero for r in reacts])) \n",
      "    except AttributeError: \n",
      "        return float('nan')\n",
      "\n",
      "ub3lyp_rxn_data = {'cent_azomethine':6.218933,'cent_carbonyl':-15.790776}\n",
      "ub3lyp_ts_height_data = {'cent_azomethine_ts':16.867832956810616,'cent_carbonyl_ts':31.281099594648797}"
     ],
     "language": "python",
     "metadata": {},
     "outputs": [],
     "prompt_number": 4
    },
    {
     "cell_type": "code",
     "collapsed": false,
     "input": [
      "azo_log = 'other/UB3LYP_631Gd_UB3LYP_631Gd_azomethine_ylide_mult_1_stable_restart_1.log'\n",
      "carb_log = 'other/UB3LYP_631Gd_UB3LYP_631Gd_carbonyl_ylide_mult_1_stable_restart_3.log'\n",
      "graph_44_xyz = 'oniom_xyz_files/non_oniom_final/UB3LYP_631Gd_UB3LYP_631Gd_4_4_graphene_final.xyz'\n",
      "azo_44_xyz = 'oniom_xyz_files/non_oniom_final/UB3LYP_631Gd_UB3LYP_631Gd_4_4_cent_azomethine_v2_final.xyz'\n",
      "carb_44_xyz = 'oniom_xyz_files/non_oniom_final/UB3LYP_631Gd_UB3LYP_631Gd_4_4_cent_carbonyl_final.xyz'\n",
      "azo_44_ts = 'other/UB3LYP_631Gd_UB3LYP_631Gd_4_4_cent_azomethine_ts_v2_mult_1_reopt_restart_2.log'\n",
      "carb_44_ts = 'oniom_xyz_files/non_oniom_ts/UB3LYP_631Gd_UB3LYP_631Gd_4_4_cent_carbonyl_ts3_reopt_restart_2_freq.log'\n",
      "l_methods = ('dreiding', 'uam1','upm6','uHF/STO-3G', 'uff')\n",
      "o_44 = {'cent_azomethine':[], 'cent_azomethine_ts':[], 'graphene':[], 'cent_carbonyl':[], 'cent_carbonyl_ts':[]}\n",
      "xyz = {'cent_azomethine':azo_44_xyz, 'cent_azomethine_ts':azo_44_ts, 'cent_carbonyl':carb_44_xyz, 'cent_carbonyl_ts':carb_44_ts, 'graphene':graph_44_xyz}\n",
      "\n",
      "o_44_lr = {k:[] for k in o_44}\n",
      "\n",
      "ylides = []\n",
      "for ylide_str, ylide_log in zip(['azomethine_ylide', 'carbonyl_ylide'], [azo_log, carb_log]):\n",
      "    for meth in l_methods:\n",
      "        \n",
      "        try:\n",
      "            m, b = meth.split('/')\n",
      "        except ValueError:\n",
      "            m, b = meth, ''\n",
      "        \n",
      "        stable_str = 'opt' if m not in ['uff', 'dreiding'] else ''\n",
      "        \n",
      "        ylide_alone = read(ylide_log)\n",
      "        #break sym to avoid transition states\n",
      "        ylide_alone.rattle(stdev=0.05)\n",
      "        ylide_name= '{m}_{m}_{y}'.format(m=meth.replace('/', '_'), y=ylide_str)\n",
      "        ylide_alone.set_calculator(Gaussian(label=ylide_name, method=m, basis=b, stable=stable_str))\n",
      "        ylide_alone.calc.set_job(nodes=8, memory=8*1200, time=2, queue='pqmb', version='g09')                                \n",
      "        #ylide_alone.calc.start()\n",
      "        ylides.append(ylide_alone)\n",
      "        \n",
      "for ylide_alone in ylides:\n",
      "    ylide_alone.calc.restart(stable='', opt='opt')\n",
      "#    #ylide_alone.calc.start()\n",
      "    \n",
      "for ylide_str in o_44_lr:\n",
      "    for meth in l_methods:\n",
      "        \n",
      "        try:\n",
      "            m, b = meth.split('/')\n",
      "        except ValueError:\n",
      "            m, b = meth, ''\n",
      "\n",
      "        stable_str = 'opt' if m not in ['uff', 'dreiding'] else ''\n",
      "        \n",
      "        graph_ylid = read(xyz[ylide_str])\n",
      "        graph_ylid_name = '{m}_UB3LYP_631Gd_4_4_{y}'.format(m=meth.replace('/', '_'), y=ylide_str)\n",
      "        graph_ylid.set_calculator(Gaussian(label=graph_ylid_name, method=m, basis=b, stable=stable_str))\n",
      "        graph_ylid.calc.set_job(nodes=8, memory=8*1200, time=2, queue='pqmb', version='g09')                                \n",
      "        #graph_ylid.calc.start()        \n",
      "        o_44_lr[ylide_str].append(graph_ylid)\n",
      "        \n",
      "o_44_lr_opt = copy.deepcopy(o_44_lr)\n",
      "\n",
      "for mol in unwind(o_44_lr_opt.values()):\n",
      "    new_label = mol.calc.label.split('UB3LYP_631Gd_')[0] *2 + \\\n",
      "                mol.calc.label.split('UB3LYP_631Gd_')[1]\n",
      "            \n",
      "    if 'ts' not in mol.calc.label:\n",
      "        mol.calc.restart(label=new_label, opt='opt', stable='')\n",
      "    else:\n",
      "        mol.calc.restart(label=new_label, opt='calcfc, ts, noeigen', stable='')\n",
      "    #mol.calc.start()\n",
      "\n",
      "#ts calculations with forcefields fail (because there are no transitions states on the forcefield PES)\n",
      "mols_to_html(check_calcs(unwind(o_44_lr_opt.values()) + ylides))"
     ],
     "language": "python",
     "metadata": {},
     "outputs": [
      {
       "html": [
        "\n",
        "    <style>\n",
        "    table\n",
        "    {\n",
        "        border-collapse:collapse;\n",
        "    }\n",
        "    td\n",
        "    {\n",
        "        padding:15px;\n",
        "    }\n",
        "    </style>\n",
        "    <body>\n",
        "    <table bgcolor=\"white\">\n",
        "    <col/><tr><td>dreiding_dreiding_4_4_cent_azomethine_ts</td><td><a href = \"files/graphene_cycloadditions/unrestricted_cycloadd_oniom/dreiding_dreiding_4_4_cent_azomethine_ts.com\" target = \"_blank\">com</a></td><td><input type=\"button\" value=\"Smart Log\" id=\"dreiding_dreiding_4_4_cent_azomethine_ts\" onclick=\"IPython.cc_notebook.view_function(event, this.id)\" /></td><td>Error: </td></tr><tr><td>uff_uff_4_4_cent_azomethine_ts</td><td><a href = \"files/graphene_cycloadditions/unrestricted_cycloadd_oniom/uff_uff_4_4_cent_azomethine_ts.com\" target = \"_blank\">com</a></td><td><input type=\"button\" value=\"Smart Log\" id=\"uff_uff_4_4_cent_azomethine_ts\" onclick=\"IPython.cc_notebook.view_function(event, this.id)\" /></td><td>Error: </td></tr><tr><td>dreiding_dreiding_4_4_cent_carbonyl_ts</td><td><a href = \"files/graphene_cycloadditions/unrestricted_cycloadd_oniom/dreiding_dreiding_4_4_cent_carbonyl_ts.com\" target = \"_blank\">com</a></td><td><input type=\"button\" value=\"Smart Log\" id=\"dreiding_dreiding_4_4_cent_carbonyl_ts\" onclick=\"IPython.cc_notebook.view_function(event, this.id)\" /></td><td>Error: </td></tr><tr><td>uff_uff_4_4_cent_carbonyl_ts</td><td><a href = \"files/graphene_cycloadditions/unrestricted_cycloadd_oniom/uff_uff_4_4_cent_carbonyl_ts.com\" target = \"_blank\">com</a></td><td><input type=\"button\" value=\"Smart Log\" id=\"uff_uff_4_4_cent_carbonyl_ts\" onclick=\"IPython.cc_notebook.view_function(event, this.id)\" /></td><td>Error: </td></tr>\n",
        "    </table>\n",
        "    </body>"
       ],
       "metadata": {},
       "output_type": "pyout",
       "prompt_number": 6,
       "text": [
        "<IPython.core.display.HTML at 0x7f67a8b81250>"
       ]
      }
     ],
     "prompt_number": 6
    },
    {
     "cell_type": "code",
     "collapsed": false,
     "input": [
      "am1_azo = [o_44_lr_opt['cent_azomethine'][1], ylides[1], o_44_lr_opt['graphene'][1]]\n",
      "am1_carb = [o_44_lr_opt['cent_carbonyl'][1], ylides[6], o_44_lr_opt['graphene'][1]]\n",
      "\n",
      "for m in am1_carb:\n",
      "    print(m.calc.label)\n",
      "print('{r} vs. {ref_r}'.format(r=rxn_E_f(am1_carb[0], am1_carb[1:]), ref_r = ub3lyp_rxn_data['cent_carbonyl']))\n",
      "\n",
      "for m in am1_azo:\n",
      "    print(m.calc.label)\n",
      "    \n",
      "print('{r} vs. {ref_r}'.format(r=rxn_E_f(am1_azo[0], am1_azo[1:]), ref_r = ub3lyp_rxn_data['cent_azomethine']))\n",
      "\n",
      "print([m.calc.energy_zero/ase.units.Hartree for m in am1_azo])\n",
      "print([m.calc.max_data['scfenergies'][-1]/ase.units.Hartree for m in am1_azo])\n",
      "print([min(m.calc.max_data['scfenergies'])/ase.units.Hartree for m in am1_azo])\n",
      "print([m.calc.energy_zero/ase.units.Hartree for m in am1_carb])\n",
      "print([m.calc.max_data['scfenergies'][-1]/ase.units.Hartree for m in am1_carb])\n",
      "print([min(m.calc.max_data['scfenergies'])/ase.units.Hartree for m in am1_carb])\n",
      "\n",
      "view_ipython_jmol(am1_azo + am1_carb[:-1])"
     ],
     "language": "python",
     "metadata": {},
     "outputs": [
      {
       "output_type": "stream",
       "stream": "stdout",
       "text": [
        "uam1_uam1_4_4_cent_carbonyl\n",
        "uam1_uam1_carbonyl_ylide_restart_1\n",
        "uam1_uam1_4_4_graphene\n",
        "-9.21251852576 vs. -15.790776\n",
        "uam1_uam1_4_4_cent_azomethine\n",
        "uam1_uam1_azomethine_ylide_restart_1\n",
        "uam1_uam1_4_4_graphene\n",
        "7.5950049445 vs. 6.218933\n",
        "[0.336310251461, 0.05416967530680001, 0.270037166639]\n",
        "[0.336310251461, 0.05416967530680001, 0.270037166639]"
       ]
      },
      {
       "output_type": "stream",
       "stream": "stdout",
       "text": [
        "\n",
        "[0.336310251461, 0.05416967530680001, 0.270037166639]\n",
        "[0.264886600968, 0.0095305155394, 0.270037166639]\n",
        "[0.264886600968, 0.0095305155394, 0.270037166639]"
       ]
      },
      {
       "output_type": "stream",
       "stream": "stdout",
       "text": [
        "\n",
        "[0.264886600968, 0.0095305155394, 0.270037166639]\n"
       ]
      },
      {
       "html": [
        "<div style=float:left><div id='applet_div_id_8591948823117'></div></div>\n",
        "<div style=float:left><div id='applet_div_id_5007852130281'></div></div>\n",
        "<div style=float:left><div id='applet_div_id_2629738771424'></div></div>\n",
        "<div style=float:left><div id='applet_div_id_861992719374'></div></div>\n",
        "<div style=float:left><div id='applet_div_id_3327332237028'></div></div>\n",
        "<script type=\"text/Javascript\">//initialisation\n",
        "    var Info = {\n",
        "        color: \"#FFFFFF\",\n",
        "        width: 300,\n",
        "        height: 300,\n",
        "        serverURL: \"/static/custom/jsmol/jsmol.php \",\n",
        "        use: \"HTML5\",\n",
        "        j2sPath: \"/static/custom/jsmol/j2s\",\n",
        "        console: \"jmolApplet0_infodiv\"\n",
        "    }\n",
        "    //prevent applet from immediately generating html - allows us to place the applet in the div we wish\n",
        "    Jmol.setDocument(0)\n",
        "    //start applet\n",
        "    applet_id_8591948823117 = Jmol.getApplet(\"applet_id_8591948823117\", Info)\n",
        "    //insert applet html into applet_div_id_8591948823117\n",
        "    $(\"#applet_div_id_8591948823117\").html(Jmol.getAppletHtml(applet_id_8591948823117))\n",
        "    //execute scripts\n",
        "    Jmol.script(applet_id_8591948823117,\"load unrestricted_cycloadd_oniom/uam1_uam1_4_4_cent_azomethine.log; select all; set echo echoname 50% 90%; font echo 15; echo uam1_uam1_4_4_cent_azomethine;; set frank off; sync . SLAVE;\")\n",
        "    //start applet\n",
        "    applet_id_5007852130281 = Jmol.getApplet(\"applet_id_5007852130281\", Info)\n",
        "    //insert applet html into applet_div_id_5007852130281\n",
        "    $(\"#applet_div_id_5007852130281\").html(Jmol.getAppletHtml(applet_id_5007852130281))\n",
        "    //execute scripts\n",
        "    Jmol.script(applet_id_5007852130281,\"load unrestricted_cycloadd_oniom/uam1_uam1_azomethine_ylide_restart_1.log; select all; set echo echoname 50% 90%; font echo 15; echo uam1_uam1_azomethine_ylide_restart_1;; set frank off; sync . SLAVE;\")\n",
        "    //start applet\n",
        "    applet_id_2629738771424 = Jmol.getApplet(\"applet_id_2629738771424\", Info)\n",
        "    //insert applet html into applet_div_id_2629738771424\n",
        "    $(\"#applet_div_id_2629738771424\").html(Jmol.getAppletHtml(applet_id_2629738771424))\n",
        "    //execute scripts\n",
        "    Jmol.script(applet_id_2629738771424,\"load unrestricted_cycloadd_oniom/uam1_uam1_4_4_graphene.log; select all; set echo echoname 50% 90%; font echo 15; echo uam1_uam1_4_4_graphene;; set frank off; sync . SLAVE;\")\n",
        "    //start applet\n",
        "    applet_id_861992719374 = Jmol.getApplet(\"applet_id_861992719374\", Info)\n",
        "    //insert applet html into applet_div_id_861992719374\n",
        "    $(\"#applet_div_id_861992719374\").html(Jmol.getAppletHtml(applet_id_861992719374))\n",
        "    //execute scripts\n",
        "    Jmol.script(applet_id_861992719374,\"load unrestricted_cycloadd_oniom/uam1_uam1_4_4_cent_carbonyl.log; select all; set echo echoname 50% 90%; font echo 15; echo uam1_uam1_4_4_cent_carbonyl;; set frank off; sync . SLAVE;\")\n",
        "    //start applet\n",
        "    applet_id_3327332237028 = Jmol.getApplet(\"applet_id_3327332237028\", Info)\n",
        "    //insert applet html into applet_div_id_3327332237028\n",
        "    $(\"#applet_div_id_3327332237028\").html(Jmol.getAppletHtml(applet_id_3327332237028))\n",
        "    //execute scripts\n",
        "    Jmol.script(applet_id_3327332237028,\"load unrestricted_cycloadd_oniom/uam1_uam1_carbonyl_ylide_restart_1.log; select all; set echo echoname 50% 90%; font echo 15; echo uam1_uam1_carbonyl_ylide_restart_1;; set frank off; sync . SLAVE;\")</script>"
       ],
       "metadata": {},
       "output_type": "pyout",
       "prompt_number": 7,
       "text": [
        "<IPython.core.display.HTML at 0x7f67828eed90>"
       ]
      }
     ],
     "prompt_number": 7
    },
    {
     "cell_type": "code",
     "collapsed": false,
     "input": [
      "mols_to_html(am1_azo + am1_carb[:-1])"
     ],
     "language": "python",
     "metadata": {},
     "outputs": [
      {
       "html": [
        "\n",
        "    <style>\n",
        "    table\n",
        "    {\n",
        "        border-collapse:collapse;\n",
        "    }\n",
        "    td\n",
        "    {\n",
        "        padding:15px;\n",
        "    }\n",
        "    </style>\n",
        "    <body>\n",
        "    <table bgcolor=\"white\">\n",
        "    <col/><tr><td>uam1_uam1_4_4_cent_azomethine</td><td><a href = \"files/graphene_cycloadditions/unrestricted_cycloadd_oniom/uam1_uam1_4_4_cent_azomethine.com\" target = \"_blank\">com</a></td><td><input type=\"button\" value=\"Smart Log\" id=\"uam1_uam1_4_4_cent_azomethine\" onclick=\"IPython.cc_notebook.view_function(event, this.id)\" /></td><td>Success</td></tr><tr><td>uam1_uam1_azomethine_ylide_restart_1</td><td><a href = \"files/graphene_cycloadditions/unrestricted_cycloadd_oniom/uam1_uam1_azomethine_ylide_restart_1.com\" target = \"_blank\">com</a></td><td><input type=\"button\" value=\"Smart Log\" id=\"uam1_uam1_azomethine_ylide_restart_1\" onclick=\"IPython.cc_notebook.view_function(event, this.id)\" /></td><td>Success</td></tr><tr><td>uam1_uam1_4_4_graphene</td><td><a href = \"files/graphene_cycloadditions/unrestricted_cycloadd_oniom/uam1_uam1_4_4_graphene.com\" target = \"_blank\">com</a></td><td><input type=\"button\" value=\"Smart Log\" id=\"uam1_uam1_4_4_graphene\" onclick=\"IPython.cc_notebook.view_function(event, this.id)\" /></td><td>Success</td></tr><tr><td>uam1_uam1_4_4_cent_carbonyl</td><td><a href = \"files/graphene_cycloadditions/unrestricted_cycloadd_oniom/uam1_uam1_4_4_cent_carbonyl.com\" target = \"_blank\">com</a></td><td><input type=\"button\" value=\"Smart Log\" id=\"uam1_uam1_4_4_cent_carbonyl\" onclick=\"IPython.cc_notebook.view_function(event, this.id)\" /></td><td>Success</td></tr><tr><td>uam1_uam1_carbonyl_ylide_restart_1</td><td><a href = \"files/graphene_cycloadditions/unrestricted_cycloadd_oniom/uam1_uam1_carbonyl_ylide_restart_1.com\" target = \"_blank\">com</a></td><td><input type=\"button\" value=\"Smart Log\" id=\"uam1_uam1_carbonyl_ylide_restart_1\" onclick=\"IPython.cc_notebook.view_function(event, this.id)\" /></td><td>Success</td></tr>\n",
        "    </table>\n",
        "    </body>"
       ],
       "metadata": {},
       "output_type": "pyout",
       "prompt_number": 8,
       "text": [
        "<IPython.core.display.HTML at 0x7f6782755a90>"
       ]
      }
     ],
     "prompt_number": 8
    },
    {
     "cell_type": "code",
     "collapsed": false,
     "input": [
      "pm6_azo = [o_44_lr_opt['cent_azomethine'][2], ylides[2], o_44_lr_opt['graphene'][2]]\n",
      "pm6_carb = [o_44_lr_opt['cent_carbonyl'][2], ylides[7], o_44_lr_opt['graphene'][2]]\n",
      "\n",
      "for m in pm6_carb:\n",
      "    print(m.calc.label)\n",
      "print('{r} vs. {ref_r}'.format(r=rxn_E_f(pm6_carb[0], pm6_carb[1:]), ref_r = ub3lyp_rxn_data['cent_carbonyl']))\n",
      "\n",
      "for m in pm6_azo:\n",
      "    print(m.calc.label)\n",
      "    \n",
      "print('{r} vs. {ref_r}'.format(r=rxn_E_f(pm6_azo[0], pm6_azo[1:]), ref_r = ub3lyp_rxn_data['cent_azomethine']))\n",
      "\n",
      "print([m.calc.energy_zero/ase.units.Hartree for m in pm6_azo])\n",
      "print([m.calc.max_data['scfenergies'][-1]/ase.units.Hartree for m in pm6_azo])\n",
      "print([min(m.calc.max_data['scfenergies'])/ase.units.Hartree for m in pm6_azo])\n",
      "\n",
      "print([m.calc.energy_zero/ase.units.Hartree for m in pm6_carb])\n",
      "print([m.calc.max_data['scfenergies'][-1]/ase.units.Hartree for m in pm6_carb])\n",
      "print([min(m.calc.max_data['scfenergies'])/ase.units.Hartree for m in pm6_carb])\n",
      "\n",
      "view_ipython_jmol(pm6_azo + pm6_carb[:-1])"
     ],
     "language": "python",
     "metadata": {},
     "outputs": [
      {
       "output_type": "stream",
       "stream": "stdout",
       "text": [
        "upm6_upm6_4_4_cent_carbonyl\n",
        "upm6_upm6_carbonyl_ylide_restart_1\n",
        "upm6_upm6_4_4_graphene\n",
        "-18.3600737549 vs. -15.790776\n",
        "upm6_upm6_4_4_cent_azomethine\n",
        "upm6_upm6_azomethine_ylide_restart_1\n",
        "upm6_upm6_4_4_graphene\n",
        "-0.210079098316 vs. 6.218933\n",
        "[0.282752055396, 0.04282437081059999, 0.240262466903]\n",
        "[0.282752055396, 0.04282437081059999, 0.240262466903]"
       ]
      },
      {
       "output_type": "stream",
       "stream": "stdout",
       "text": [
        "\n",
        "[0.282752055396, 0.04282437081059999, 0.240262466903]\n",
        "[0.217358258096, 0.006354428021939999, 0.240262466903]\n",
        "[0.217358258096, 0.006354428021939999, 0.240262466903]"
       ]
      },
      {
       "output_type": "stream",
       "stream": "stdout",
       "text": [
        "\n",
        "[0.217358258096, 0.006354428021939999, 0.240262466903]\n"
       ]
      },
      {
       "html": [
        "<div style=float:left><div id='applet_div_id_594024477127'></div></div>\n",
        "<div style=float:left><div id='applet_div_id_982921143322'></div></div>\n",
        "<div style=float:left><div id='applet_div_id_4332025429917'></div></div>\n",
        "<div style=float:left><div id='applet_div_id_1234337157484'></div></div>\n",
        "<div style=float:left><div id='applet_div_id_4011085390028'></div></div>\n",
        "<script type=\"text/Javascript\">//initialisation\n",
        "    var Info = {\n",
        "        color: \"#FFFFFF\",\n",
        "        width: 300,\n",
        "        height: 300,\n",
        "        serverURL: \"/static/custom/jsmol/jsmol.php \",\n",
        "        use: \"HTML5\",\n",
        "        j2sPath: \"/static/custom/jsmol/j2s\",\n",
        "        console: \"jmolApplet0_infodiv\"\n",
        "    }\n",
        "    //prevent applet from immediately generating html - allows us to place the applet in the div we wish\n",
        "    Jmol.setDocument(0)\n",
        "    //start applet\n",
        "    applet_id_594024477127 = Jmol.getApplet(\"applet_id_594024477127\", Info)\n",
        "    //insert applet html into applet_div_id_594024477127\n",
        "    $(\"#applet_div_id_594024477127\").html(Jmol.getAppletHtml(applet_id_594024477127))\n",
        "    //execute scripts\n",
        "    Jmol.script(applet_id_594024477127,\"load unrestricted_cycloadd_oniom/upm6_upm6_4_4_cent_azomethine.log; select all; set echo echoname 50% 90%; font echo 15; echo upm6_upm6_4_4_cent_azomethine;; set frank off; sync . SLAVE;\")\n",
        "    //start applet\n",
        "    applet_id_982921143322 = Jmol.getApplet(\"applet_id_982921143322\", Info)\n",
        "    //insert applet html into applet_div_id_982921143322\n",
        "    $(\"#applet_div_id_982921143322\").html(Jmol.getAppletHtml(applet_id_982921143322))\n",
        "    //execute scripts\n",
        "    Jmol.script(applet_id_982921143322,\"load unrestricted_cycloadd_oniom/upm6_upm6_azomethine_ylide_restart_1.log; select all; set echo echoname 50% 90%; font echo 15; echo upm6_upm6_azomethine_ylide_restart_1;; set frank off; sync . SLAVE;\")\n",
        "    //start applet\n",
        "    applet_id_4332025429917 = Jmol.getApplet(\"applet_id_4332025429917\", Info)\n",
        "    //insert applet html into applet_div_id_4332025429917\n",
        "    $(\"#applet_div_id_4332025429917\").html(Jmol.getAppletHtml(applet_id_4332025429917))\n",
        "    //execute scripts\n",
        "    Jmol.script(applet_id_4332025429917,\"load unrestricted_cycloadd_oniom/upm6_upm6_4_4_graphene.log; select all; set echo echoname 50% 90%; font echo 15; echo upm6_upm6_4_4_graphene;; set frank off; sync . SLAVE;\")\n",
        "    //start applet\n",
        "    applet_id_1234337157484 = Jmol.getApplet(\"applet_id_1234337157484\", Info)\n",
        "    //insert applet html into applet_div_id_1234337157484\n",
        "    $(\"#applet_div_id_1234337157484\").html(Jmol.getAppletHtml(applet_id_1234337157484))\n",
        "    //execute scripts\n",
        "    Jmol.script(applet_id_1234337157484,\"load unrestricted_cycloadd_oniom/upm6_upm6_4_4_cent_carbonyl.log; select all; set echo echoname 50% 90%; font echo 15; echo upm6_upm6_4_4_cent_carbonyl;; set frank off; sync . SLAVE;\")\n",
        "    //start applet\n",
        "    applet_id_4011085390028 = Jmol.getApplet(\"applet_id_4011085390028\", Info)\n",
        "    //insert applet html into applet_div_id_4011085390028\n",
        "    $(\"#applet_div_id_4011085390028\").html(Jmol.getAppletHtml(applet_id_4011085390028))\n",
        "    //execute scripts\n",
        "    Jmol.script(applet_id_4011085390028,\"load unrestricted_cycloadd_oniom/upm6_upm6_carbonyl_ylide_restart_1.log; select all; set echo echoname 50% 90%; font echo 15; echo upm6_upm6_carbonyl_ylide_restart_1;; set frank off; sync . SLAVE;\")</script>"
       ],
       "metadata": {},
       "output_type": "pyout",
       "prompt_number": 9,
       "text": [
        "<IPython.core.display.HTML at 0x7f6782842390>"
       ]
      }
     ],
     "prompt_number": 9
    },
    {
     "cell_type": "code",
     "collapsed": false,
     "input": [
      "pm6_azo_ts = [o_44_lr_opt['cent_azomethine_ts'][2], o_44_lr_opt['cent_azomethine'][2]]\n",
      "pm6_carb_ts = [o_44_lr_opt['cent_carbonyl_ts'][2], o_44_lr_opt['cent_carbonyl'][2]]\n",
      "\n",
      "for m in pm6_carb_ts:\n",
      "    print(m.calc.label)\n",
      "print('{r} vs. {ref_r}'.format(r=rxn_E_f(pm6_carb_ts[0], pm6_carb_ts[1:]), ref_r = ub3lyp_ts_height_data['cent_carbonyl_ts']))\n",
      "\n",
      "for m in pm6_azo_ts:\n",
      "    print(m.calc.label)\n",
      "    \n",
      "print('{r} vs. {ref_r}'.format(r=rxn_E_f(pm6_azo_ts[0], pm6_azo_ts[1:]), ref_r = ub3lyp_ts_height_data['cent_azomethine_ts']))\n",
      "\n",
      "print([m.calc.energy_zero/ase.units.Hartree for m in pm6_azo_ts])\n",
      "print([m.calc.max_data['scfenergies'][-1]/ase.units.Hartree for m in pm6_azo_ts])\n",
      "print([min(m.calc.max_data['scfenergies'])/ase.units.Hartree for m in pm6_azo_ts])\n",
      "\n",
      "print([m.calc.energy_zero/ase.units.Hartree for m in pm6_carb_ts])\n",
      "print([m.calc.max_data['scfenergies'][-1]/ase.units.Hartree for m in pm6_carb_ts])\n",
      "print([min(m.calc.max_data['scfenergies'])/ase.units.Hartree for m in pm6_carb_ts])\n",
      "\n",
      "view_ipython_jmol(pm6_azo_ts[:-1] + pm6_carb_ts[:-1])"
     ],
     "language": "python",
     "metadata": {},
     "outputs": [
      {
       "output_type": "stream",
       "stream": "stdout",
       "text": [
        "upm6_upm6_4_4_cent_carbonyl_ts\n",
        "upm6_upm6_4_4_cent_carbonyl\n",
        "28.6255368576 vs. 31.2810995946\n",
        "upm6_upm6_4_4_cent_azomethine_ts\n",
        "upm6_upm6_4_4_cent_azomethine\n",
        "10.4546906804 vs. 16.8678329568\n",
        "[0.299412663728, 0.282752055396]\n",
        "[0.299412663728, 0.282752055396]"
       ]
      },
      {
       "output_type": "stream",
       "stream": "stdout",
       "text": [
        "\n",
        "[0.299296130723, 0.282752055396]\n",
        "[0.262975949949, 0.217358258096]\n",
        "[0.262975949949, 0.217358258096]"
       ]
      },
      {
       "output_type": "stream",
       "stream": "stdout",
       "text": [
        "\n",
        "[0.26297594959, 0.217358258096]\n"
       ]
      },
      {
       "html": [
        "<div style=float:left><div id='applet_div_id_6065248129875'></div></div>\n",
        "<div style=float:left><div id='applet_div_id_8090857051405'></div></div>\n",
        "<script type=\"text/Javascript\">//initialisation\n",
        "    var Info = {\n",
        "        color: \"#FFFFFF\",\n",
        "        width: 300,\n",
        "        height: 300,\n",
        "        serverURL: \"/static/custom/jsmol/jsmol.php \",\n",
        "        use: \"HTML5\",\n",
        "        j2sPath: \"/static/custom/jsmol/j2s\",\n",
        "        console: \"jmolApplet0_infodiv\"\n",
        "    }\n",
        "    //prevent applet from immediately generating html - allows us to place the applet in the div we wish\n",
        "    Jmol.setDocument(0)\n",
        "    //start applet\n",
        "    applet_id_6065248129875 = Jmol.getApplet(\"applet_id_6065248129875\", Info)\n",
        "    //insert applet html into applet_div_id_6065248129875\n",
        "    $(\"#applet_div_id_6065248129875\").html(Jmol.getAppletHtml(applet_id_6065248129875))\n",
        "    //execute scripts\n",
        "    Jmol.script(applet_id_6065248129875,\"load unrestricted_cycloadd_oniom/upm6_upm6_4_4_cent_azomethine_ts.log; select all; set echo echoname 50% 90%; font echo 15; echo upm6_upm6_4_4_cent_azomethine_ts;; set frank off; sync . SLAVE;\")\n",
        "    //start applet\n",
        "    applet_id_8090857051405 = Jmol.getApplet(\"applet_id_8090857051405\", Info)\n",
        "    //insert applet html into applet_div_id_8090857051405\n",
        "    $(\"#applet_div_id_8090857051405\").html(Jmol.getAppletHtml(applet_id_8090857051405))\n",
        "    //execute scripts\n",
        "    Jmol.script(applet_id_8090857051405,\"load unrestricted_cycloadd_oniom/upm6_upm6_4_4_cent_carbonyl_ts.log; select all; set echo echoname 50% 90%; font echo 15; echo upm6_upm6_4_4_cent_carbonyl_ts;; set frank off; sync . SLAVE;\")</script>"
       ],
       "metadata": {},
       "output_type": "pyout",
       "prompt_number": 10,
       "text": [
        "<IPython.core.display.HTML at 0x7f6782842210>"
       ]
      }
     ],
     "prompt_number": 10
    },
    {
     "cell_type": "code",
     "collapsed": false,
     "input": [
      "mols_to_html(pm6_azo_ts[:-1] + pm6_carb_ts[:-1])"
     ],
     "language": "python",
     "metadata": {},
     "outputs": [
      {
       "html": [
        "\n",
        "    <style>\n",
        "    table\n",
        "    {\n",
        "        border-collapse:collapse;\n",
        "    }\n",
        "    td\n",
        "    {\n",
        "        padding:15px;\n",
        "    }\n",
        "    </style>\n",
        "    <body>\n",
        "    <table bgcolor=\"white\">\n",
        "    <col/><tr><td>upm6_upm6_4_4_cent_azomethine_ts</td><td><a href = \"files/graphene_cycloadditions/unrestricted_cycloadd_oniom/upm6_upm6_4_4_cent_azomethine_ts.com\" target = \"_blank\">com</a></td><td><input type=\"button\" value=\"Smart Log\" id=\"upm6_upm6_4_4_cent_azomethine_ts\" onclick=\"IPython.cc_notebook.view_function(event, this.id)\" /></td><td>Success</td></tr><tr><td>upm6_upm6_4_4_cent_carbonyl_ts</td><td><a href = \"files/graphene_cycloadditions/unrestricted_cycloadd_oniom/upm6_upm6_4_4_cent_carbonyl_ts.com\" target = \"_blank\">com</a></td><td><input type=\"button\" value=\"Smart Log\" id=\"upm6_upm6_4_4_cent_carbonyl_ts\" onclick=\"IPython.cc_notebook.view_function(event, this.id)\" /></td><td>Success</td></tr>\n",
        "    </table>\n",
        "    </body>"
       ],
       "metadata": {},
       "output_type": "pyout",
       "prompt_number": 11,
       "text": [
        "<IPython.core.display.HTML at 0x7f6782755990>"
       ]
      }
     ],
     "prompt_number": 11
    },
    {
     "cell_type": "markdown",
     "metadata": {},
     "source": [
      "These numbers don't match the values we calculated before in [unrestricted_cycloadd](Unrestricted graphene_cycloadditions) i.e. TS barrier for pm6_pm6 was calculated to be 15.534348004432614 i.e an error of ~1.3 not 6.4 \n",
      "\n",
      "<font color=red>Why?</font> <font color=blue>Because the numbers from before were from a different transition state what looks like a synchronous one</font>"
     ]
    },
    {
     "cell_type": "code",
     "collapsed": false,
     "input": [
      "cd ../../scratch"
     ],
     "language": "python",
     "metadata": {},
     "outputs": [
      {
       "output_type": "stream",
       "stream": "stdout",
       "text": [
        "/home/clyde/Dropbox/Project Stuff/Notebooks/scratch\n"
       ]
      }
     ],
     "prompt_number": 11
    },
    {
     "cell_type": "code",
     "collapsed": false,
     "input": [
      "relaxed_geom = read('../graphene_cycloadditions/unrestricted_cycloadd/UB3LYP_631Gd_UB3LYP_631Gd_4_4_cent_azomethine_v2_stable_restart_4.log')\n",
      "azo_ts_molecule = read('../graphene_cycloadditions/unrestricted_cycloadd/xyz_files/ts_final/UB3LYP_631Gd_UB3LYP_631Gd_4_4_cent_azomethine_ts_v2_mult_1_reopt_restart_3_final.xyz')\n",
      "\n",
      "upm6_ground_2 = copy.deepcopy(relaxed_geom)\n",
      "upm6_ground_2.set_calculator(Gaussian(label='ump6_upm6_4_4_cent_azomethine', method='upm6', stable='opt'))\n",
      "upm6_ground_2.calc.set_job(nodes=8, memory=8*1200, time=1, queue='pqmb', version='g09')\n",
      "upm6_ground_2.calc.restart(stable='', opt='opt')\n",
      "\n",
      "upm6_ts_2 = copy.deepcopy(azo_ts_molecule)\n",
      "upm6_ts_2.set_calculator(Gaussian(label='upm6_upm6_4_4_cent_azomethine_ts_v2', method='upm6', stable='opt'))\n",
      "upm6_ts_2.calc.set_job(nodes=8, memory=8*1200, time=1, queue='pqmb', version='g09')\n",
      "upm6_ts_2.calc.restart(stable='', opt='calcfc, ts, noeigen')\n",
      "\n",
      "pm6_azo_ts_v2 = [upm6_ts_2, upm6_ground_2]\n",
      "check_calcs(pm6_azo_ts_v2)\n",
      "\n",
      "print(23.060542301388647*(upm6_ts_2.calc.max_data['scfenergies'][-1] - upm6_ground_2.calc.max_data['scfenergies'][-1]))\n",
      "print([m.calc.energy_zero/ase.units.Hartree for m in pm6_azo_ts_v2])\n",
      "print([m.calc.max_data['scfenergies'][-1]/ase.units.Hartree for m in pm6_azo_ts_v2])\n",
      "print([min(m.calc.max_data['scfenergies'])/ase.units.Hartree for m in pm6_azo_ts_v2])"
     ],
     "language": "python",
     "metadata": {},
     "outputs": [
      {
       "output_type": "stream",
       "stream": "stdout",
       "text": [
        "15.5343993379\n",
        "[0.3075077, 0.2827521]\n",
        "[0.307507693889, 0.282752055396]\n",
        "[0.307507693889, 0.282752055396]\n"
       ]
      }
     ],
     "prompt_number": 12
    },
    {
     "cell_type": "code",
     "collapsed": false,
     "input": [
      "mols_to_html(pm6_azo_ts_v2)"
     ],
     "language": "python",
     "metadata": {},
     "outputs": [
      {
       "html": [
        "\n",
        "    <style>\n",
        "    table\n",
        "    {\n",
        "        border-collapse:collapse;\n",
        "    }\n",
        "    td\n",
        "    {\n",
        "        padding:15px;\n",
        "    }\n",
        "    </style>\n",
        "    <body>\n",
        "    <table bgcolor=\"white\">\n",
        "    <col/><tr><td>upm6_upm6_4_4_cent_azomethine_ts_v2_restart_1</td><td><a href = \"files/scratch/upm6_upm6_4_4_cent_azomethine_ts_v2_restart_1.com\" target = \"_blank\">com</a></td><td><input type=\"button\" value=\"Smart Log\" id=\"upm6_upm6_4_4_cent_azomethine_ts_v2_restart_1\" onclick=\"IPython.cc_notebook.view_function(event, this.id)\" /></td><td>Success</td></tr><tr><td>ump6_upm6_4_4_cent_azomethine_restart_1</td><td><a href = \"files/scratch/ump6_upm6_4_4_cent_azomethine_restart_1.com\" target = \"_blank\">com</a></td><td><input type=\"button\" value=\"Smart Log\" id=\"ump6_upm6_4_4_cent_azomethine_restart_1\" onclick=\"IPython.cc_notebook.view_function(event, this.id)\" /></td><td>Success</td></tr>\n",
        "    </table>\n",
        "    </body>"
       ],
       "metadata": {},
       "output_type": "pyout",
       "prompt_number": 13,
       "text": [
        "<IPython.core.display.HTML at 0x7f28ca62a710>"
       ]
      }
     ],
     "prompt_number": 13
    },
    {
     "cell_type": "code",
     "collapsed": false,
     "input": [
      "upm6_ts = copy.deepcopy(pm6_azo_ts[0])\n",
      "upm6_ts.set_calculator(Gaussian(label='upm6_upm6_4_4_cent_azomethine_ts', method='upm6', stable='opt'))\n",
      "upm6_ts.calc.set_job(nodes=8, memory=8*1200, time=1, queue='pqmb', version='g09')\n",
      "upm6_ts.calc.restart(stable='', opt='calcfc, ts, noeigen')\n",
      "\n",
      "check_calcs([upm6_ts])\n",
      "\n",
      "print(23.060542301388647*(upm6_ts.calc.max_data['scfenergies'][-1] - upm6_ground_2.calc.max_data['scfenergies'][-1]))"
     ],
     "language": "python",
     "metadata": {},
     "outputs": [
      {
       "output_type": "stream",
       "stream": "stdout",
       "text": [
        "10.4546906804\n"
       ]
      }
     ],
     "prompt_number": 14
    },
    {
     "cell_type": "code",
     "collapsed": false,
     "input": [
      "upm6_ts.calc.restart(opt='', stable='opt')\n",
      "\n",
      "check_calcs([upm6_ts])\n",
      "mols_to_html([upm6_ts])\n",
      "\n",
      "'internal instability' in upm6_ts.calc.notes"
     ],
     "language": "python",
     "metadata": {},
     "outputs": [
      {
       "metadata": {},
       "output_type": "pyout",
       "prompt_number": 15,
       "text": [
        "False"
       ]
      }
     ],
     "prompt_number": 15
    },
    {
     "cell_type": "markdown",
     "metadata": {},
     "source": [
      "<font color=red>It's because they are different transition states - the  ~1.3 comes from using the guess geometry and directly optimising to a transition state, this finds what looks like a symmetric transition state. Need to run frequency calculations to check</font>"
     ]
    },
    {
     "cell_type": "code",
     "collapsed": false,
     "input": [
      "init_upm6_ts = '../graphene_cycloadditions/unrestricted_cycloadd_oniom/other/UB3LYP_631Gd_UB3LYP_631Gd_4_4_cent_azomethine_ts_v2_mult_1_reopt_restart_2.log'\n",
      "init_upm6_ts_2 = '../graphene_cycloadditions/unrestricted_cycloadd/xyz_files/ts_final/UB3LYP_631Gd_UB3LYP_631Gd_4_4_cent_azomethine_ts_v2_mult_1_reopt_restart_3_final.xyz'\n",
      "\n",
      "view_ipython_jmol([init_upm6_ts, init_upm6_ts_2])"
     ],
     "language": "python",
     "metadata": {},
     "outputs": [
      {
       "html": [
        "<div style=float:left><div id='applet_div_id_5509925324817'></div></div>\n",
        "<div style=float:left><div id='applet_div_id_4646068524463'></div></div>\n",
        "<script type=\"text/Javascript\">//initialisation\n",
        "    var Info = {\n",
        "        color: \"#FFFFFF\",\n",
        "        width: 300,\n",
        "        height: 300,\n",
        "        serverURL: \"/static/custom/jsmol/jsmol.php \",\n",
        "        use: \"HTML5\",\n",
        "        j2sPath: \"/static/custom/jsmol/j2s\",\n",
        "        console: \"jmolApplet0_infodiv\"\n",
        "    }\n",
        "    //prevent applet from immediately generating html - allows us to place the applet in the div we wish\n",
        "    Jmol.setDocument(0)\n",
        "    //start applet\n",
        "    applet_id_5509925324817 = Jmol.getApplet(\"applet_id_5509925324817\", Info)\n",
        "    //insert applet html into applet_div_id_5509925324817\n",
        "    $(\"#applet_div_id_5509925324817\").html(Jmol.getAppletHtml(applet_id_5509925324817))\n",
        "    //execute scripts\n",
        "    Jmol.script(applet_id_5509925324817,\"load unrestricted_cycloadd_oniom/other/UB3LYP_631Gd_UB3LYP_631Gd_4_4_cent_azomethine_ts_v2_mult_1_reopt_restart_2.log; select all; set echo echoname 50% 90%; font echo 15; echo ;; set frank off; sync . SLAVE;\")\n",
        "    //start applet\n",
        "    applet_id_4646068524463 = Jmol.getApplet(\"applet_id_4646068524463\", Info)\n",
        "    //insert applet html into applet_div_id_4646068524463\n",
        "    $(\"#applet_div_id_4646068524463\").html(Jmol.getAppletHtml(applet_id_4646068524463))\n",
        "    //execute scripts\n",
        "    Jmol.script(applet_id_4646068524463,\"load unrestricted_cycloadd/xyz_files/ts_final/UB3LYP_631Gd_UB3LYP_631Gd_4_4_cent_azomethine_ts_v2_mult_1_reopt_restart_3_final.xyz; select all; set echo echoname 50% 90%; font echo 15; echo ;; set frank off; sync . SLAVE;\")</script>"
       ],
       "metadata": {},
       "output_type": "pyout",
       "prompt_number": 16,
       "text": [
        "<IPython.core.display.HTML at 0x7f28ca58a750>"
       ]
      }
     ],
     "prompt_number": 16
    },
    {
     "cell_type": "code",
     "collapsed": false,
     "input": [
      "view_ipython_jmol([upm6_ts.calc.log, pm6_azo_ts[0].calc.log])"
     ],
     "language": "python",
     "metadata": {},
     "outputs": [
      {
       "html": [
        "<div style=float:left><div id='applet_div_id_2286315988550'></div></div>\n",
        "<div style=float:left><div id='applet_div_id_8456313471748'></div></div>\n",
        "<script type=\"text/Javascript\">//initialisation\n",
        "    var Info = {\n",
        "        color: \"#FFFFFF\",\n",
        "        width: 300,\n",
        "        height: 300,\n",
        "        serverURL: \"/static/custom/jsmol/jsmol.php \",\n",
        "        use: \"HTML5\",\n",
        "        j2sPath: \"/static/custom/jsmol/j2s\",\n",
        "        console: \"jmolApplet0_infodiv\"\n",
        "    }\n",
        "    //prevent applet from immediately generating html - allows us to place the applet in the div we wish\n",
        "    Jmol.setDocument(0)\n",
        "    //start applet\n",
        "    applet_id_2286315988550 = Jmol.getApplet(\"applet_id_2286315988550\", Info)\n",
        "    //insert applet html into applet_div_id_2286315988550\n",
        "    $(\"#applet_div_id_2286315988550\").html(Jmol.getAppletHtml(applet_id_2286315988550))\n",
        "    //execute scripts\n",
        "    Jmol.script(applet_id_2286315988550,\"load ../scratch/upm6_upm6_4_4_cent_azomethine_ts_restart_2.log; select all; set echo echoname 50% 90%; font echo 15; echo /home/clyde/Dropbox/Project Stuff/Notebooks/scratch/upm6_upm6_4_4_cent_azomethine_ts_restart_2;; set frank off; sync . SLAVE;\")\n",
        "    //start applet\n",
        "    applet_id_8456313471748 = Jmol.getApplet(\"applet_id_8456313471748\", Info)\n",
        "    //insert applet html into applet_div_id_8456313471748\n",
        "    $(\"#applet_div_id_8456313471748\").html(Jmol.getAppletHtml(applet_id_8456313471748))\n",
        "    //execute scripts\n",
        "    Jmol.script(applet_id_8456313471748,\"load ../scratch/upm6_upm6_4_4_cent_azomethine_ts.log; select all; set echo echoname 50% 90%; font echo 15; echo /home/clyde/Dropbox/Project Stuff/Notebooks/scratch/upm6_upm6_4_4_cent_azomethine_ts;; set frank off; sync . SLAVE;\")</script>"
       ],
       "metadata": {},
       "output_type": "pyout",
       "prompt_number": 17,
       "text": [
        "<IPython.core.display.HTML at 0x7f28ca58a9d0>"
       ]
      }
     ],
     "prompt_number": 17
    },
    {
     "cell_type": "code",
     "collapsed": false,
     "input": [
      "#lets compare the second transition state"
     ],
     "language": "python",
     "metadata": {},
     "outputs": [],
     "prompt_number": 18
    },
    {
     "cell_type": "markdown",
     "metadata": {},
     "source": [
      "Lets do a frequency calculation to make sure the TS vectors looks sensible."
     ]
    },
    {
     "cell_type": "code",
     "collapsed": false,
     "input": [
      "for mol in pm6_azo_ts[:-1] + pm6_carb_ts[:-1]:\n",
      "    mol.calc.restart(label=mol.calc.label +'_freq', opt='', freq='freq')\n",
      "    #mol.calc.start()"
     ],
     "language": "python",
     "metadata": {},
     "outputs": [],
     "prompt_number": 19
    },
    {
     "cell_type": "code",
     "collapsed": false,
     "input": [
      "check_calcs(pm6_azo_ts[:-1] + pm6_carb_ts[:-1])\n",
      "mols_to_html(pm6_azo_ts[:-1] + pm6_carb_ts[:-1])"
     ],
     "language": "python",
     "metadata": {},
     "outputs": [
      {
       "html": [
        "\n",
        "    <style>\n",
        "    table\n",
        "    {\n",
        "        border-collapse:collapse;\n",
        "    }\n",
        "    td\n",
        "    {\n",
        "        padding:15px;\n",
        "    }\n",
        "    </style>\n",
        "    <body>\n",
        "    <table bgcolor=\"white\">\n",
        "    <col/><tr><td>upm6_upm6_4_4_cent_azomethine_ts_freq</td><td><a href = \"files/scratch/upm6_upm6_4_4_cent_azomethine_ts_freq.com\" target = \"_blank\">com</a></td><td><input type=\"button\" value=\"Smart Log\" id=\"upm6_upm6_4_4_cent_azomethine_ts_freq\" onclick=\"IPython.cc_notebook.view_function(event, this.id)\" /></td><td>Success</td></tr><tr><td>upm6_upm6_4_4_cent_carbonyl_ts_freq</td><td><a href = \"files/scratch/upm6_upm6_4_4_cent_carbonyl_ts_freq.com\" target = \"_blank\">com</a></td><td><input type=\"button\" value=\"Smart Log\" id=\"upm6_upm6_4_4_cent_carbonyl_ts_freq\" onclick=\"IPython.cc_notebook.view_function(event, this.id)\" /></td><td>Error: Old file \"/work/cjf05/ASE_notebooks/scratch/upm6_upm6_4_4_cent_carbonyl_ts.chk\" could not be opened.</td></tr>\n",
        "    </table>\n",
        "    </body>"
       ],
       "metadata": {},
       "output_type": "pyout",
       "prompt_number": 20,
       "text": [
        "<IPython.core.display.HTML at 0x7f28ca58a1d0>"
       ]
      }
     ],
     "prompt_number": 20
    },
    {
     "cell_type": "code",
     "collapsed": false,
     "input": [
      "cd ../graphene_cycloadditions/unrestricted_cycloadd_oniom/"
     ],
     "language": "python",
     "metadata": {},
     "outputs": [
      {
       "output_type": "stream",
       "stream": "stdout",
       "text": [
        "/home/clyde/Dropbox/Project Stuff/Notebooks/graphene_cycloadditions/unrestricted_cycloadd_oniom\n"
       ]
      }
     ],
     "prompt_number": 21
    },
    {
     "cell_type": "code",
     "collapsed": false,
     "input": [
      "hf_carb = [o_44_lr_opt['cent_carbonyl'][3], ylides[8], o_44_lr_opt['graphene'][3]]\n",
      "hf_azo = [o_44_lr_opt['cent_azomethine'][3], ylides[3], o_44_lr_opt['graphene'][3]]\n",
      "\n",
      "for m in hf_azo:\n",
      "    print(m.calc.label)\n",
      "print('{r} vs. {ref_r}'.format(r=rxn_E_f(hf_azo[0], hf_azo[1:]), ref_r = ub3lyp_rxn_data['cent_azomethine']))\n",
      "\n",
      "for m in hf_carb:\n",
      "    print(m.calc.label)\n",
      "print('{r} vs. {ref_r}'.format(r=rxn_E_f(hf_carb[0], hf_carb[1:]), ref_r = ub3lyp_rxn_data['cent_carbonyl']))\n",
      "\n",
      "print([m.calc.energy_zero/ase.units.Hartree for m in hf_azo])\n",
      "print([m.calc.max_data['scfenergies'][-1]/ase.units.Hartree for m in hf_azo])\n",
      "print([min(m.calc.max_data['scfenergies'])/ase.units.Hartree for m in hf_azo])\n",
      "\n",
      "print([m.calc.energy_zero/ase.units.Hartree for m in hf_carb])\n",
      "print([m.calc.max_data['scfenergies'][-1]/ase.units.Hartree for m in hf_carb])\n",
      "print([min(m.calc.max_data['scfenergies'])/ase.units.Hartree for m in hf_carb])\n",
      "\n",
      "view_ipython_jmol(hf_azo + hf_carb[:-1])"
     ],
     "language": "python",
     "metadata": {},
     "outputs": [
      {
       "output_type": "stream",
       "stream": "stdout",
       "text": [
        "uHF_STO-3G_uHF_STO-3G_4_4_cent_azomethine\n",
        "uHF_STO-3G_uHF_STO-3G_azomethine_ylide_restart_1\n",
        "uHF_STO-3G_uHF_STO-3G_4_4_graphene\n",
        "-32.0847510635 vs. 6.218933\n",
        "uHF_STO-3G_uHF_STO-3G_4_4_cent_carbonyl\n",
        "uHF_STO-3G_uHF_STO-3G_carbonyl_ylide_restart_1\n",
        "uHF_STO-3G_uHF_STO-3G_4_4_graphene\n",
        "-35.7669142967 vs. -15.790776\n",
        "[-1937.9903527, -131.34615, -1806.5930724]\n",
        "[-1937.99035274, -131.346149962, -1806.59307239]"
       ]
      },
      {
       "output_type": "stream",
       "stream": "stdout",
       "text": [
        "\n",
        "[-1937.99035274, -131.346149962, -1806.59307239]\n",
        "[-1957.5164778, -150.8664072, -1806.5930724]\n",
        "[-1957.51647778, -150.86640718799998, -1806.59307239]"
       ]
      },
      {
       "output_type": "stream",
       "stream": "stdout",
       "text": [
        "\n",
        "[-1957.51647778, -150.86640718799998, -1806.59307239]\n"
       ]
      },
      {
       "html": [
        "<div style=float:left><div id='applet_div_id_9935140454655'></div></div>\n",
        "<div style=float:left><div id='applet_div_id_6793337267797'></div></div>\n",
        "<div style=float:left><div id='applet_div_id_9508211982500'></div></div>\n",
        "<div style=float:left><div id='applet_div_id_9902059659692'></div></div>\n",
        "<div style=float:left><div id='applet_div_id_960259408621'></div></div>\n",
        "<script type=\"text/Javascript\">//initialisation\n",
        "    var Info = {\n",
        "        color: \"#FFFFFF\",\n",
        "        width: 300,\n",
        "        height: 300,\n",
        "        serverURL: \"/static/custom/jsmol/jsmol.php \",\n",
        "        use: \"HTML5\",\n",
        "        j2sPath: \"/static/custom/jsmol/j2s\",\n",
        "        console: \"jmolApplet0_infodiv\"\n",
        "    }\n",
        "    //prevent applet from immediately generating html - allows us to place the applet in the div we wish\n",
        "    Jmol.setDocument(0)\n",
        "    //start applet\n",
        "    applet_id_9935140454655 = Jmol.getApplet(\"applet_id_9935140454655\", Info)\n",
        "    //insert applet html into applet_div_id_9935140454655\n",
        "    $(\"#applet_div_id_9935140454655\").html(Jmol.getAppletHtml(applet_id_9935140454655))\n",
        "    //execute scripts\n",
        "    Jmol.script(applet_id_9935140454655,\"load unrestricted_cycloadd_oniom/uHF_STO-3G_uHF_STO-3G_4_4_cent_azomethine.log; select all; set echo echoname 50% 90%; font echo 15; echo uHF_STO-3G_uHF_STO-3G_4_4_cent_azomethine;; set frank off; sync . SLAVE;\")\n",
        "    //start applet\n",
        "    applet_id_6793337267797 = Jmol.getApplet(\"applet_id_6793337267797\", Info)\n",
        "    //insert applet html into applet_div_id_6793337267797\n",
        "    $(\"#applet_div_id_6793337267797\").html(Jmol.getAppletHtml(applet_id_6793337267797))\n",
        "    //execute scripts\n",
        "    Jmol.script(applet_id_6793337267797,\"load unrestricted_cycloadd_oniom/uHF_STO-3G_uHF_STO-3G_azomethine_ylide_restart_1.log; select all; set echo echoname 50% 90%; font echo 15; echo uHF_STO-3G_uHF_STO-3G_azomethine_ylide_restart_1;; set frank off; sync . SLAVE;\")\n",
        "    //start applet\n",
        "    applet_id_9508211982500 = Jmol.getApplet(\"applet_id_9508211982500\", Info)\n",
        "    //insert applet html into applet_div_id_9508211982500\n",
        "    $(\"#applet_div_id_9508211982500\").html(Jmol.getAppletHtml(applet_id_9508211982500))\n",
        "    //execute scripts\n",
        "    Jmol.script(applet_id_9508211982500,\"load unrestricted_cycloadd_oniom/uHF_STO-3G_uHF_STO-3G_4_4_graphene.log; select all; set echo echoname 50% 90%; font echo 15; echo uHF_STO-3G_uHF_STO-3G_4_4_graphene;; set frank off; sync . SLAVE;\")\n",
        "    //start applet\n",
        "    applet_id_9902059659692 = Jmol.getApplet(\"applet_id_9902059659692\", Info)\n",
        "    //insert applet html into applet_div_id_9902059659692\n",
        "    $(\"#applet_div_id_9902059659692\").html(Jmol.getAppletHtml(applet_id_9902059659692))\n",
        "    //execute scripts\n",
        "    Jmol.script(applet_id_9902059659692,\"load unrestricted_cycloadd_oniom/uHF_STO-3G_uHF_STO-3G_4_4_cent_carbonyl.log; select all; set echo echoname 50% 90%; font echo 15; echo uHF_STO-3G_uHF_STO-3G_4_4_cent_carbonyl;; set frank off; sync . SLAVE;\")\n",
        "    //start applet\n",
        "    applet_id_960259408621 = Jmol.getApplet(\"applet_id_960259408621\", Info)\n",
        "    //insert applet html into applet_div_id_960259408621\n",
        "    $(\"#applet_div_id_960259408621\").html(Jmol.getAppletHtml(applet_id_960259408621))\n",
        "    //execute scripts\n",
        "    Jmol.script(applet_id_960259408621,\"load unrestricted_cycloadd_oniom/uHF_STO-3G_uHF_STO-3G_carbonyl_ylide_restart_1.log; select all; set echo echoname 50% 90%; font echo 15; echo uHF_STO-3G_uHF_STO-3G_carbonyl_ylide_restart_1;; set frank off; sync . SLAVE;\")</script>"
       ],
       "metadata": {},
       "output_type": "pyout",
       "prompt_number": 22,
       "text": [
        "<IPython.core.display.HTML at 0x7f28ca532090>"
       ]
      }
     ],
     "prompt_number": 22
    },
    {
     "cell_type": "code",
     "collapsed": false,
     "input": [
      "mols_to_html(hf_azo+hf_carb[:-1])"
     ],
     "language": "python",
     "metadata": {},
     "outputs": [
      {
       "html": [
        "\n",
        "    <style>\n",
        "    table\n",
        "    {\n",
        "        border-collapse:collapse;\n",
        "    }\n",
        "    td\n",
        "    {\n",
        "        padding:15px;\n",
        "    }\n",
        "    </style>\n",
        "    <body>\n",
        "    <table bgcolor=\"white\">\n",
        "    <col/><tr><td>uHF_STO-3G_uHF_STO-3G_4_4_cent_azomethine</td><td><a href = \"files/graphene_cycloadditions/unrestricted_cycloadd_oniom/uHF_STO-3G_uHF_STO-3G_4_4_cent_azomethine.com\" target = \"_blank\">com</a></td><td><input type=\"button\" value=\"Smart Log\" id=\"uHF_STO-3G_uHF_STO-3G_4_4_cent_azomethine\" onclick=\"IPython.cc_notebook.view_function(event, this.id)\" /></td><td>Success</td></tr><tr><td>uHF_STO-3G_uHF_STO-3G_azomethine_ylide_restart_1</td><td><a href = \"files/graphene_cycloadditions/unrestricted_cycloadd_oniom/uHF_STO-3G_uHF_STO-3G_azomethine_ylide_restart_1.com\" target = \"_blank\">com</a></td><td><input type=\"button\" value=\"Smart Log\" id=\"uHF_STO-3G_uHF_STO-3G_azomethine_ylide_restart_1\" onclick=\"IPython.cc_notebook.view_function(event, this.id)\" /></td><td>Success</td></tr><tr><td>uHF_STO-3G_uHF_STO-3G_4_4_graphene</td><td><a href = \"files/graphene_cycloadditions/unrestricted_cycloadd_oniom/uHF_STO-3G_uHF_STO-3G_4_4_graphene.com\" target = \"_blank\">com</a></td><td><input type=\"button\" value=\"Smart Log\" id=\"uHF_STO-3G_uHF_STO-3G_4_4_graphene\" onclick=\"IPython.cc_notebook.view_function(event, this.id)\" /></td><td>Success</td></tr><tr><td>uHF_STO-3G_uHF_STO-3G_4_4_cent_carbonyl</td><td><a href = \"files/graphene_cycloadditions/unrestricted_cycloadd_oniom/uHF_STO-3G_uHF_STO-3G_4_4_cent_carbonyl.com\" target = \"_blank\">com</a></td><td><input type=\"button\" value=\"Smart Log\" id=\"uHF_STO-3G_uHF_STO-3G_4_4_cent_carbonyl\" onclick=\"IPython.cc_notebook.view_function(event, this.id)\" /></td><td>Success</td></tr><tr><td>uHF_STO-3G_uHF_STO-3G_carbonyl_ylide_restart_1</td><td><a href = \"files/graphene_cycloadditions/unrestricted_cycloadd_oniom/uHF_STO-3G_uHF_STO-3G_carbonyl_ylide_restart_1.com\" target = \"_blank\">com</a></td><td><input type=\"button\" value=\"Smart Log\" id=\"uHF_STO-3G_uHF_STO-3G_carbonyl_ylide_restart_1\" onclick=\"IPython.cc_notebook.view_function(event, this.id)\" /></td><td>Success</td></tr>\n",
        "    </table>\n",
        "    </body>"
       ],
       "metadata": {},
       "output_type": "pyout",
       "prompt_number": 23,
       "text": [
        "<IPython.core.display.HTML at 0x7f28ca62aa90>"
       ]
      }
     ],
     "prompt_number": 23
    },
    {
     "cell_type": "code",
     "collapsed": false,
     "input": [
      "for m in hf_azo+hf_carb[:-1]:\n",
      "    m.calc.restart(label = m.calc.label + '_freq', opt='', freq='freq')\n",
      "   # m.calc.start()"
     ],
     "language": "python",
     "metadata": {},
     "outputs": [],
     "prompt_number": 24
    },
    {
     "cell_type": "code",
     "collapsed": false,
     "input": [
      "check_calcs(hf_azo+hf_carb[:-1])\n",
      "mols_to_html(hf_azo+hf_carb[:-1])"
     ],
     "language": "python",
     "metadata": {},
     "outputs": [
      {
       "html": [
        "\n",
        "    <style>\n",
        "    table\n",
        "    {\n",
        "        border-collapse:collapse;\n",
        "    }\n",
        "    td\n",
        "    {\n",
        "        padding:15px;\n",
        "    }\n",
        "    </style>\n",
        "    <body>\n",
        "    <table bgcolor=\"white\">\n",
        "    <col/><tr><td>uHF_STO-3G_uHF_STO-3G_4_4_cent_azomethine_freq</td><td><a href = \"files/graphene_cycloadditions/unrestricted_cycloadd_oniom/uHF_STO-3G_uHF_STO-3G_4_4_cent_azomethine_freq.com\" target = \"_blank\">com</a></td><td><input type=\"button\" value=\"Smart Log\" id=\"uHF_STO-3G_uHF_STO-3G_4_4_cent_azomethine_freq\" onclick=\"IPython.cc_notebook.view_function(event, this.id)\" /></td><td>Success</td></tr><tr><td>uHF_STO-3G_uHF_STO-3G_azomethine_ylide_restart_1_freq</td><td><a href = \"files/graphene_cycloadditions/unrestricted_cycloadd_oniom/uHF_STO-3G_uHF_STO-3G_azomethine_ylide_restart_1_freq.com\" target = \"_blank\">com</a></td><td><input type=\"button\" value=\"Smart Log\" id=\"uHF_STO-3G_uHF_STO-3G_azomethine_ylide_restart_1_freq\" onclick=\"IPython.cc_notebook.view_function(event, this.id)\" /></td><td>Success</td></tr><tr><td>uHF_STO-3G_uHF_STO-3G_4_4_graphene_freq</td><td><a href = \"files/graphene_cycloadditions/unrestricted_cycloadd_oniom/uHF_STO-3G_uHF_STO-3G_4_4_graphene_freq.com\" target = \"_blank\">com</a></td><td><input type=\"button\" value=\"Smart Log\" id=\"uHF_STO-3G_uHF_STO-3G_4_4_graphene_freq\" onclick=\"IPython.cc_notebook.view_function(event, this.id)\" /></td><td>Success</td></tr><tr><td>uHF_STO-3G_uHF_STO-3G_4_4_cent_carbonyl_freq</td><td><a href = \"files/graphene_cycloadditions/unrestricted_cycloadd_oniom/uHF_STO-3G_uHF_STO-3G_4_4_cent_carbonyl_freq.com\" target = \"_blank\">com</a></td><td><input type=\"button\" value=\"Smart Log\" id=\"uHF_STO-3G_uHF_STO-3G_4_4_cent_carbonyl_freq\" onclick=\"IPython.cc_notebook.view_function(event, this.id)\" /></td><td>Success</td></tr><tr><td>uHF_STO-3G_uHF_STO-3G_carbonyl_ylide_restart_1_freq</td><td><a href = \"files/graphene_cycloadditions/unrestricted_cycloadd_oniom/uHF_STO-3G_uHF_STO-3G_carbonyl_ylide_restart_1_freq.com\" target = \"_blank\">com</a></td><td><input type=\"button\" value=\"Smart Log\" id=\"uHF_STO-3G_uHF_STO-3G_carbonyl_ylide_restart_1_freq\" onclick=\"IPython.cc_notebook.view_function(event, this.id)\" /></td><td>Success</td></tr>\n",
        "    </table>\n",
        "    </body>"
       ],
       "metadata": {},
       "output_type": "pyout",
       "prompt_number": 25,
       "text": [
        "<IPython.core.display.HTML at 0x7f28ca616850>"
       ]
      }
     ],
     "prompt_number": 25
    },
    {
     "cell_type": "code",
     "collapsed": false,
     "input": [
      "[m.calc.data['NImag'] for m in hf_azo+hf_carb[:-1]]"
     ],
     "language": "python",
     "metadata": {},
     "outputs": [
      {
       "metadata": {},
       "output_type": "pyout",
       "prompt_number": 46,
       "text": [
        "[0.0, 0.0, 0.0, 0.0, 0.0]"
       ]
      }
     ],
     "prompt_number": 46
    },
    {
     "cell_type": "code",
     "collapsed": false,
     "input": [
      "for m in hf_azo+hf_carb[:-1]:\n",
      "    m.calc.restart(label = m.calc.label + '_check_stab', freq='', stable='opt')\n",
      "    #m.calc.start()"
     ],
     "language": "python",
     "metadata": {},
     "outputs": [],
     "prompt_number": 47
    },
    {
     "cell_type": "code",
     "collapsed": false,
     "input": [
      "check_calcs(hf_azo+hf_carb[:-1])\n",
      "mols_to_html(hf_azo+hf_carb[:-1])"
     ],
     "language": "python",
     "metadata": {},
     "outputs": [
      {
       "html": [
        "\n",
        "    <style>\n",
        "    table\n",
        "    {\n",
        "        border-collapse:collapse;\n",
        "    }\n",
        "    td\n",
        "    {\n",
        "        padding:15px;\n",
        "    }\n",
        "    </style>\n",
        "    <body>\n",
        "    <table bgcolor=\"white\">\n",
        "    <col/><tr><td>uHF_STO-3G_uHF_STO-3G_4_4_cent_azomethine_freq_freq_check_stab</td><td><a href = \"files/graphene_cycloadditions/unrestricted_cycloadd_oniom/uHF_STO-3G_uHF_STO-3G_4_4_cent_azomethine_freq_freq_check_stab.com\" target = \"_blank\">com</a></td><td><input type=\"button\" value=\"Smart Log\" id=\"uHF_STO-3G_uHF_STO-3G_4_4_cent_azomethine_freq_freq_check_stab\" onclick=\"IPython.cc_notebook.view_function(event, this.id)\" /></td><td>Success</td></tr><tr><td>uHF_STO-3G_uHF_STO-3G_azomethine_ylide_restart_1_freq_freq_check_stab</td><td><a href = \"files/graphene_cycloadditions/unrestricted_cycloadd_oniom/uHF_STO-3G_uHF_STO-3G_azomethine_ylide_restart_1_freq_freq_check_stab.com\" target = \"_blank\">com</a></td><td><input type=\"button\" value=\"Smart Log\" id=\"uHF_STO-3G_uHF_STO-3G_azomethine_ylide_restart_1_freq_freq_check_stab\" onclick=\"IPython.cc_notebook.view_function(event, this.id)\" /></td><td>Success</td></tr><tr><td>uHF_STO-3G_uHF_STO-3G_4_4_graphene_freq_freq_check_stab</td><td><a href = \"files/graphene_cycloadditions/unrestricted_cycloadd_oniom/uHF_STO-3G_uHF_STO-3G_4_4_graphene_freq_freq_check_stab.com\" target = \"_blank\">com</a></td><td><input type=\"button\" value=\"Smart Log\" id=\"uHF_STO-3G_uHF_STO-3G_4_4_graphene_freq_freq_check_stab\" onclick=\"IPython.cc_notebook.view_function(event, this.id)\" /></td><td>Success</td></tr><tr><td>uHF_STO-3G_uHF_STO-3G_4_4_cent_carbonyl_freq_freq_check_stab</td><td><a href = \"files/graphene_cycloadditions/unrestricted_cycloadd_oniom/uHF_STO-3G_uHF_STO-3G_4_4_cent_carbonyl_freq_freq_check_stab.com\" target = \"_blank\">com</a></td><td><input type=\"button\" value=\"Smart Log\" id=\"uHF_STO-3G_uHF_STO-3G_4_4_cent_carbonyl_freq_freq_check_stab\" onclick=\"IPython.cc_notebook.view_function(event, this.id)\" /></td><td>Success</td></tr><tr><td>uHF_STO-3G_uHF_STO-3G_carbonyl_ylide_restart_1_freq_freq_check_stab</td><td><a href = \"files/graphene_cycloadditions/unrestricted_cycloadd_oniom/uHF_STO-3G_uHF_STO-3G_carbonyl_ylide_restart_1_freq_freq_check_stab.com\" target = \"_blank\">com</a></td><td><input type=\"button\" value=\"Smart Log\" id=\"uHF_STO-3G_uHF_STO-3G_carbonyl_ylide_restart_1_freq_freq_check_stab\" onclick=\"IPython.cc_notebook.view_function(event, this.id)\" /></td><td>Success</td></tr>\n",
        "    </table>\n",
        "    </body>"
       ],
       "metadata": {},
       "output_type": "pyout",
       "prompt_number": 48,
       "text": [
        "<IPython.core.display.HTML at 0x7f28ca62a2d0>"
       ]
      }
     ],
     "prompt_number": 48
    },
    {
     "cell_type": "code",
     "collapsed": false,
     "input": [
      "[mol.calc.stable for mol in hf_azo+hf_carb[:-1]]"
     ],
     "language": "python",
     "metadata": {},
     "outputs": [
      {
       "metadata": {},
       "output_type": "pyout",
       "prompt_number": 49,
       "text": [
        "[True, True, True, True, True]"
       ]
      }
     ],
     "prompt_number": 49
    },
    {
     "cell_type": "code",
     "collapsed": false,
     "input": [
      "#B3LYP values:\n",
      "\n",
      "6.218933, -15.790776"
     ],
     "language": "python",
     "metadata": {},
     "outputs": [
      {
       "metadata": {},
       "output_type": "pyout",
       "prompt_number": 26,
       "text": [
        "(6.218933, -15.790776)"
       ]
      }
     ],
     "prompt_number": 26
    },
    {
     "cell_type": "code",
     "collapsed": false,
     "input": [
      "#UHF STO-3G values:\n",
      "\n",
      "es=[m.calc.energy_zero for m in hf_azo+hf_carb[:-1]]\n",
      "r_e1 = es[0] - es[1] - es[2]\n",
      "r_e2 = es[3] - es[4] - es[2]\n",
      "\n",
      "23.1*r_e1, 23.1*r_e2"
     ],
     "language": "python",
     "metadata": {},
     "outputs": [
      {
       "metadata": {},
       "output_type": "pyout",
       "prompt_number": 27,
       "text": [
        "(-34.24898639510939, -35.82811320981273)"
       ]
      }
     ],
     "prompt_number": 27
    },
    {
     "cell_type": "code",
     "collapsed": false,
     "input": [
      "[m.calc.label for m in  hf_azo+hf_carb[:-1]]"
     ],
     "language": "python",
     "metadata": {},
     "outputs": [
      {
       "metadata": {},
       "output_type": "pyout",
       "prompt_number": 28,
       "text": [
        "['uHF_STO-3G_uHF_STO-3G_4_4_cent_azomethine_freq',\n",
        " 'uHF_STO-3G_uHF_STO-3G_azomethine_ylide_restart_1_freq',\n",
        " 'uHF_STO-3G_uHF_STO-3G_4_4_graphene_freq',\n",
        " 'uHF_STO-3G_uHF_STO-3G_4_4_cent_carbonyl_freq',\n",
        " 'uHF_STO-3G_uHF_STO-3G_carbonyl_ylide_restart_1_freq']"
       ]
      }
     ],
     "prompt_number": 28
    },
    {
     "cell_type": "code",
     "collapsed": false,
     "input": [
      "#pm6 values\n",
      "\n",
      "es=[m.calc.energy_zero for m in pm6_azo+pm6_carb[:-1]]\n",
      "r_e1 = es[0] - es[1] - es[2]\n",
      "r_e2 = es[3] - es[4] - es[2]\n",
      "\n",
      "23.1*r_e1, 23.1*r_e2"
     ],
     "language": "python",
     "metadata": {},
     "outputs": [
      {
       "metadata": {},
       "output_type": "pyout",
       "prompt_number": 29,
       "text": [
        "(-0.21044966863229508, -18.39146557540258)"
       ]
      }
     ],
     "prompt_number": 29
    },
    {
     "cell_type": "code",
     "collapsed": false,
     "input": [
      "mols_to_html(pm6_azo+pm6_carb[:-1])"
     ],
     "language": "python",
     "metadata": {},
     "outputs": [
      {
       "html": [
        "\n",
        "    <style>\n",
        "    table\n",
        "    {\n",
        "        border-collapse:collapse;\n",
        "    }\n",
        "    td\n",
        "    {\n",
        "        padding:15px;\n",
        "    }\n",
        "    </style>\n",
        "    <body>\n",
        "    <table bgcolor=\"white\">\n",
        "    <col/><tr><td>upm6_upm6_4_4_cent_azomethine</td><td><a href = \"files/graphene_cycloadditions/unrestricted_cycloadd_oniom/upm6_upm6_4_4_cent_azomethine.com\" target = \"_blank\">com</a></td><td><input type=\"button\" value=\"Smart Log\" id=\"upm6_upm6_4_4_cent_azomethine\" onclick=\"IPython.cc_notebook.view_function(event, this.id)\" /></td><td>Success</td></tr><tr><td>upm6_upm6_azomethine_ylide_restart_1</td><td><a href = \"files/graphene_cycloadditions/unrestricted_cycloadd_oniom/upm6_upm6_azomethine_ylide_restart_1.com\" target = \"_blank\">com</a></td><td><input type=\"button\" value=\"Smart Log\" id=\"upm6_upm6_azomethine_ylide_restart_1\" onclick=\"IPython.cc_notebook.view_function(event, this.id)\" /></td><td>Success</td></tr><tr><td>upm6_upm6_4_4_graphene</td><td><a href = \"files/graphene_cycloadditions/unrestricted_cycloadd_oniom/upm6_upm6_4_4_graphene.com\" target = \"_blank\">com</a></td><td><input type=\"button\" value=\"Smart Log\" id=\"upm6_upm6_4_4_graphene\" onclick=\"IPython.cc_notebook.view_function(event, this.id)\" /></td><td>Success</td></tr><tr><td>upm6_upm6_4_4_cent_carbonyl</td><td><a href = \"files/graphene_cycloadditions/unrestricted_cycloadd_oniom/upm6_upm6_4_4_cent_carbonyl.com\" target = \"_blank\">com</a></td><td><input type=\"button\" value=\"Smart Log\" id=\"upm6_upm6_4_4_cent_carbonyl\" onclick=\"IPython.cc_notebook.view_function(event, this.id)\" /></td><td>Success</td></tr><tr><td>upm6_upm6_carbonyl_ylide_restart_1</td><td><a href = \"files/graphene_cycloadditions/unrestricted_cycloadd_oniom/upm6_upm6_carbonyl_ylide_restart_1.com\" target = \"_blank\">com</a></td><td><input type=\"button\" value=\"Smart Log\" id=\"upm6_upm6_carbonyl_ylide_restart_1\" onclick=\"IPython.cc_notebook.view_function(event, this.id)\" /></td><td>Success</td></tr>\n",
        "    </table>\n",
        "    </body>"
       ],
       "metadata": {},
       "output_type": "pyout",
       "prompt_number": 30,
       "text": [
        "<IPython.core.display.HTML at 0x7f28ca62a610>"
       ]
      }
     ],
     "prompt_number": 30
    },
    {
     "cell_type": "code",
     "collapsed": false,
     "input": [
      "0.0428246 * 27.211"
     ],
     "language": "python",
     "metadata": {},
     "outputs": [
      {
       "metadata": {},
       "output_type": "pyout",
       "prompt_number": 31,
       "text": [
        "1.1653001905999998"
       ]
      }
     ],
     "prompt_number": 31
    },
    {
     "cell_type": "code",
     "collapsed": false,
     "input": [
      "[m.calc.energy_zero for m in pm6_azo+pm6_carb[:-1]]"
     ],
     "language": "python",
     "metadata": {},
     "outputs": [
      {
       "metadata": {},
       "output_type": "pyout",
       "prompt_number": 32,
       "text": [
        "[7.694079265528395,\n",
        " 1.1653116921101354,\n",
        " 6.537877948683727,\n",
        " 5.914622700310628,\n",
        " 0.17291209255341916]"
       ]
      }
     ],
     "prompt_number": 32
    },
    {
     "cell_type": "code",
     "collapsed": false,
     "input": [
      "[m.calc.label for m in  pm6_azo+pm6_carb[:-1]]"
     ],
     "language": "python",
     "metadata": {},
     "outputs": [
      {
       "metadata": {},
       "output_type": "pyout",
       "prompt_number": 33,
       "text": [
        "['upm6_upm6_4_4_cent_azomethine',\n",
        " 'upm6_upm6_azomethine_ylide_restart_1',\n",
        " 'upm6_upm6_4_4_graphene',\n",
        " 'upm6_upm6_4_4_cent_carbonyl',\n",
        " 'upm6_upm6_carbonyl_ylide_restart_1']"
       ]
      }
     ],
     "prompt_number": 33
    },
    {
     "cell_type": "code",
     "collapsed": false,
     "input": [],
     "language": "python",
     "metadata": {},
     "outputs": [],
     "prompt_number": 33
    },
    {
     "cell_type": "code",
     "collapsed": false,
     "input": [
      "#HF is bad probably because the flat graphene is not a minimum"
     ],
     "language": "python",
     "metadata": {},
     "outputs": [],
     "prompt_number": 34
    },
    {
     "cell_type": "code",
     "collapsed": false,
     "input": [
      "#lets check graphenes:\n",
      "    \n",
      "for mol in o_44_lr_opt['graphene']:\n",
      "    mol.calc.restart(opt='', freq='freq', label=mol.calc.label +'_freq')\n",
      "    #mol.calc.start()\n",
      "check_calcs(o_44_lr_opt['graphene'])\n",
      "[m.calc.data['NImag'] for m in o_44_lr_opt['graphene']]"
     ],
     "language": "python",
     "metadata": {},
     "outputs": [
      {
       "metadata": {},
       "output_type": "pyout",
       "prompt_number": 35,
       "text": [
        "[6.0, 0.0, 0.0, 0.0, 0.0]"
       ]
      }
     ],
     "prompt_number": 35
    },
    {
     "cell_type": "markdown",
     "metadata": {},
     "source": [
      "dreiding graphene not @ minima"
     ]
    },
    {
     "cell_type": "code",
     "collapsed": false,
     "input": [
      "for mol in o_44_lr_opt['cent_azomethine']:\n",
      "    mol.calc.restart(opt='', freq='freq', label=mol.calc.label +'_freq')\n",
      "    #mol.calc.start()\n",
      "check_calcs(o_44_lr_opt['cent_azomethine'])\n",
      "[m.calc.data['NImag'] for m in o_44_lr_opt['cent_azomethine']]"
     ],
     "language": "python",
     "metadata": {},
     "outputs": [
      {
       "metadata": {},
       "output_type": "pyout",
       "prompt_number": 36,
       "text": [
        "[0.0, 0.0, 0.0, 0.0, 0.0]"
       ]
      }
     ],
     "prompt_number": 36
    },
    {
     "cell_type": "code",
     "collapsed": false,
     "input": [
      "for mol in o_44_lr_opt['cent_carbonyl']:\n",
      "    mol.calc.restart(opt='', freq='freq', label=mol.calc.label +'_freq')\n",
      "    #mol.calc.start()\n",
      "check_calcs(o_44_lr_opt['cent_carbonyl'])\n",
      "[m.calc.data['NImag'] for m in o_44_lr_opt['cent_carbonyl']]"
     ],
     "language": "python",
     "metadata": {},
     "outputs": [
      {
       "metadata": {},
       "output_type": "pyout",
       "prompt_number": 37,
       "text": [
        "[0.0, 0.0, 0.0, 0.0, 0.0]"
       ]
      }
     ],
     "prompt_number": 37
    },
    {
     "cell_type": "code",
     "collapsed": false,
     "input": [
      "for mol in ylides:\n",
      "    mol.calc.restart(opt='', freq='freq', label=mol.calc.label +'_freq')\n",
      "    #mol.calc.start()\n",
      "check_calcs(ylides)\n",
      "[m.calc.data['NImag'] for m in ylides]"
     ],
     "language": "python",
     "metadata": {},
     "outputs": [
      {
       "metadata": {},
       "output_type": "pyout",
       "prompt_number": 38,
       "text": [
        "[2.0, 0.0, 0.0, 0.0, 0.0, 1.0, 0.0, 0.0, 0.0, 0.0]"
       ]
      }
     ],
     "prompt_number": 38
    },
    {
     "cell_type": "markdown",
     "metadata": {},
     "source": [
      "UHF & dreiding azomethine ylides not @ minima, dreiding carbonyl ylides not @ minima"
     ]
    },
    {
     "cell_type": "markdown",
     "metadata": {},
     "source": [
      "azomethine ylides still not @ minima despite starting from a rattled structure that broke the symmetry?"
     ]
    },
    {
     "cell_type": "code",
     "collapsed": false,
     "input": [
      "mols_to_html([ylides[3], ylides[8]])"
     ],
     "language": "python",
     "metadata": {},
     "outputs": [
      {
       "html": [
        "\n",
        "    <style>\n",
        "    table\n",
        "    {\n",
        "        border-collapse:collapse;\n",
        "    }\n",
        "    td\n",
        "    {\n",
        "        padding:15px;\n",
        "    }\n",
        "    </style>\n",
        "    <body>\n",
        "    <table bgcolor=\"white\">\n",
        "    <col/><tr><td>uHF_STO-3G_uHF_STO-3G_azomethine_ylide_restart_1_freq_freq</td><td><a href = \"files/graphene_cycloadditions/unrestricted_cycloadd_oniom/uHF_STO-3G_uHF_STO-3G_azomethine_ylide_restart_1_freq_freq.com\" target = \"_blank\">com</a></td><td><input type=\"button\" value=\"Smart Log\" id=\"uHF_STO-3G_uHF_STO-3G_azomethine_ylide_restart_1_freq_freq\" onclick=\"IPython.cc_notebook.view_function(event, this.id)\" /></td><td>Success</td></tr><tr><td>uHF_STO-3G_uHF_STO-3G_carbonyl_ylide_restart_1_freq_freq</td><td><a href = \"files/graphene_cycloadditions/unrestricted_cycloadd_oniom/uHF_STO-3G_uHF_STO-3G_carbonyl_ylide_restart_1_freq_freq.com\" target = \"_blank\">com</a></td><td><input type=\"button\" value=\"Smart Log\" id=\"uHF_STO-3G_uHF_STO-3G_carbonyl_ylide_restart_1_freq_freq\" onclick=\"IPython.cc_notebook.view_function(event, this.id)\" /></td><td>Success</td></tr>\n",
        "    </table>\n",
        "    </body>"
       ],
       "metadata": {},
       "output_type": "pyout",
       "prompt_number": 39,
       "text": [
        "<IPython.core.display.HTML at 0x7f28ca62ab10>"
       ]
      }
     ],
     "prompt_number": 39
    },
    {
     "cell_type": "code",
     "collapsed": false,
     "input": [
      "#lets try again:\n",
      "\n",
      "uhf_azo = read(azo_log)\n",
      "uhf_azo.rattle(0.05)\n",
      "uhf_azo.set_calculator(Gaussian(label='test_uhf_azo', method='UHF', basis='STO-3G', stable='opt'))\n",
      "uhf_azo.calc.set_job(nodes=8, memory=8*1200, time=2, queue='pqmb', version='g09')                                \n",
      "#uhf_azo.calc.start()\n",
      "uhf_azo.calc.restart(stable='', opt='opt', freq='freq')\n",
      "#uhf_azo.calc.start()\n",
      "\n",
      "check_calcs([uhf_azo, ylides[3]])\n",
      "mols_to_html([uhf_azo, ylides[3]])"
     ],
     "language": "python",
     "metadata": {},
     "outputs": [
      {
       "html": [
        "\n",
        "    <style>\n",
        "    table\n",
        "    {\n",
        "        border-collapse:collapse;\n",
        "    }\n",
        "    td\n",
        "    {\n",
        "        padding:15px;\n",
        "    }\n",
        "    </style>\n",
        "    <body>\n",
        "    <table bgcolor=\"white\">\n",
        "    <col/><tr><td>test_uhf_azo_restart_1</td><td><a href = \"files/graphene_cycloadditions/unrestricted_cycloadd_oniom/test_uhf_azo_restart_1.com\" target = \"_blank\">com</a></td><td><input type=\"button\" value=\"Smart Log\" id=\"test_uhf_azo_restart_1\" onclick=\"IPython.cc_notebook.view_function(event, this.id)\" /></td><td>Success</td></tr><tr><td>uHF_STO-3G_uHF_STO-3G_azomethine_ylide_restart_1_freq_freq</td><td><a href = \"files/graphene_cycloadditions/unrestricted_cycloadd_oniom/uHF_STO-3G_uHF_STO-3G_azomethine_ylide_restart_1_freq_freq.com\" target = \"_blank\">com</a></td><td><input type=\"button\" value=\"Smart Log\" id=\"uHF_STO-3G_uHF_STO-3G_azomethine_ylide_restart_1_freq_freq\" onclick=\"IPython.cc_notebook.view_function(event, this.id)\" /></td><td>Success</td></tr>\n",
        "    </table>\n",
        "    </body>"
       ],
       "metadata": {},
       "output_type": "pyout",
       "prompt_number": 40,
       "text": [
        "<IPython.core.display.HTML at 0x7f28d289d790>"
       ]
      }
     ],
     "prompt_number": 40
    },
    {
     "cell_type": "code",
     "collapsed": false,
     "input": [
      "NImag = sum(array(uhf_azo.calc.max_data['vibfreqs']) < 0)\n",
      "NImag"
     ],
     "language": "python",
     "metadata": {},
     "outputs": [
      {
       "metadata": {},
       "output_type": "pyout",
       "prompt_number": 41,
       "text": [
        "0"
       ]
      }
     ],
     "prompt_number": 41
    },
    {
     "cell_type": "code",
     "collapsed": false,
     "input": [
      "ylides[3].calc.energy_zero, uhf_azo.calc.energy_zero"
     ],
     "language": "python",
     "metadata": {},
     "outputs": [
      {
       "metadata": {},
       "output_type": "pyout",
       "prompt_number": 42,
       "text": [
        "(-3574.1120554789245, -3574.1120554789245)"
       ]
      }
     ],
     "prompt_number": 42
    },
    {
     "cell_type": "code",
     "collapsed": false,
     "input": [
      "#progress but not much of a change"
     ],
     "language": "python",
     "metadata": {},
     "outputs": [],
     "prompt_number": 43
    },
    {
     "cell_type": "markdown",
     "metadata": {},
     "source": [
      "UHF and dreiding were initially giving identical answers because <font color=red>there was a bug that meant UFF and dreiding energies were not read and always returned 0</font>"
     ]
    },
    {
     "cell_type": "code",
     "collapsed": false,
     "input": [
      "uff_carb = [o_44_lr_opt['cent_carbonyl'][4], ylides[9], o_44_lr_opt['graphene'][4]]\n",
      "for m in uff_carb:\n",
      "    print(m.calc.label)\n",
      "print('{r} vs. {ref_r}'.format(r=rxn_E_f(uff_carb[0], uff_carb[1:]), ref_r = ub3lyp_rxn_data['cent_carbonyl']))\n",
      "view_ipython_jmol(uff_carb)"
     ],
     "language": "python",
     "metadata": {},
     "outputs": [
      {
       "output_type": "stream",
       "stream": "stdout",
       "text": [
        "uff_uff_4_4_cent_carbonyl_freq\n",
        "uff_uff_carbonyl_ylide_restart_1_freq\n",
        "uff_uff_4_4_graphene_freq\n",
        "13.3332599676 vs. -15.790776\n"
       ]
      },
      {
       "html": [
        "<div style=float:left><div id='applet_div_id_6207994570395'></div></div>\n",
        "<div style=float:left><div id='applet_div_id_7463418975554'></div></div>\n",
        "<div style=float:left><div id='applet_div_id_2535432636178'></div></div>\n",
        "<script type=\"text/Javascript\">//initialisation\n",
        "    var Info = {\n",
        "        color: \"#FFFFFF\",\n",
        "        width: 300,\n",
        "        height: 300,\n",
        "        serverURL: \"/static/custom/jsmol/jsmol.php \",\n",
        "        use: \"HTML5\",\n",
        "        j2sPath: \"/static/custom/jsmol/j2s\",\n",
        "        console: \"jmolApplet0_infodiv\"\n",
        "    }\n",
        "    //prevent applet from immediately generating html - allows us to place the applet in the div we wish\n",
        "    Jmol.setDocument(0)\n",
        "    //start applet\n",
        "    applet_id_6207994570395 = Jmol.getApplet(\"applet_id_6207994570395\", Info)\n",
        "    //insert applet html into applet_div_id_6207994570395\n",
        "    $(\"#applet_div_id_6207994570395\").html(Jmol.getAppletHtml(applet_id_6207994570395))\n",
        "    //execute scripts\n",
        "    Jmol.script(applet_id_6207994570395,\"load unrestricted_cycloadd_oniom/uff_uff_4_4_cent_carbonyl_freq.log; select all; set echo echoname 50% 90%; font echo 15; echo uff_uff_4_4_cent_carbonyl_freq;; set frank off; sync . SLAVE;\")\n",
        "    //start applet\n",
        "    applet_id_7463418975554 = Jmol.getApplet(\"applet_id_7463418975554\", Info)\n",
        "    //insert applet html into applet_div_id_7463418975554\n",
        "    $(\"#applet_div_id_7463418975554\").html(Jmol.getAppletHtml(applet_id_7463418975554))\n",
        "    //execute scripts\n",
        "    Jmol.script(applet_id_7463418975554,\"load unrestricted_cycloadd_oniom/uff_uff_carbonyl_ylide_restart_1_freq.log; select all; set echo echoname 50% 90%; font echo 15; echo uff_uff_carbonyl_ylide_restart_1_freq;; set frank off; sync . SLAVE;\")\n",
        "    //start applet\n",
        "    applet_id_2535432636178 = Jmol.getApplet(\"applet_id_2535432636178\", Info)\n",
        "    //insert applet html into applet_div_id_2535432636178\n",
        "    $(\"#applet_div_id_2535432636178\").html(Jmol.getAppletHtml(applet_id_2535432636178))\n",
        "    //execute scripts\n",
        "    Jmol.script(applet_id_2535432636178,\"load unrestricted_cycloadd_oniom/uff_uff_4_4_graphene_freq.log; select all; set echo echoname 50% 90%; font echo 15; echo uff_uff_4_4_graphene_freq;; set frank off; sync . SLAVE;\")</script>"
       ],
       "metadata": {},
       "output_type": "pyout",
       "prompt_number": 44,
       "text": [
        "<IPython.core.display.HTML at 0x7f28ca616650>"
       ]
      }
     ],
     "prompt_number": 44
    },
    {
     "cell_type": "code",
     "collapsed": false,
     "input": [
      "check_calcs(uff_carb)\n",
      "mols_to_html(uff_carb)"
     ],
     "language": "python",
     "metadata": {},
     "outputs": [
      {
       "html": [
        "\n",
        "    <style>\n",
        "    table\n",
        "    {\n",
        "        border-collapse:collapse;\n",
        "    }\n",
        "    td\n",
        "    {\n",
        "        padding:15px;\n",
        "    }\n",
        "    </style>\n",
        "    <body>\n",
        "    <table bgcolor=\"white\">\n",
        "    <col/><tr><td>uff_uff_4_4_cent_carbonyl_freq</td><td><a href = \"files/graphene_cycloadditions/unrestricted_cycloadd_oniom/uff_uff_4_4_cent_carbonyl_freq.com\" target = \"_blank\">com</a></td><td><input type=\"button\" value=\"Smart Log\" id=\"uff_uff_4_4_cent_carbonyl_freq\" onclick=\"IPython.cc_notebook.view_function(event, this.id)\" /></td><td>Success</td></tr><tr><td>uff_uff_carbonyl_ylide_restart_1_freq</td><td><a href = \"files/graphene_cycloadditions/unrestricted_cycloadd_oniom/uff_uff_carbonyl_ylide_restart_1_freq.com\" target = \"_blank\">com</a></td><td><input type=\"button\" value=\"Smart Log\" id=\"uff_uff_carbonyl_ylide_restart_1_freq\" onclick=\"IPython.cc_notebook.view_function(event, this.id)\" /></td><td>Success</td></tr><tr><td>uff_uff_4_4_graphene_freq</td><td><a href = \"files/graphene_cycloadditions/unrestricted_cycloadd_oniom/uff_uff_4_4_graphene_freq.com\" target = \"_blank\">com</a></td><td><input type=\"button\" value=\"Smart Log\" id=\"uff_uff_4_4_graphene_freq\" onclick=\"IPython.cc_notebook.view_function(event, this.id)\" /></td><td>Success</td></tr>\n",
        "    </table>\n",
        "    </body>"
       ],
       "metadata": {},
       "output_type": "pyout",
       "prompt_number": 45,
       "text": [
        "<IPython.core.display.HTML at 0x7f28ca4ab1d0>"
       ]
      }
     ],
     "prompt_number": 45
    },
    {
     "cell_type": "markdown",
     "metadata": {},
     "source": [
      "<font color=red>lone ylides were unstable</font>"
     ]
    }
   ],
   "metadata": {}
  }
 ]
}