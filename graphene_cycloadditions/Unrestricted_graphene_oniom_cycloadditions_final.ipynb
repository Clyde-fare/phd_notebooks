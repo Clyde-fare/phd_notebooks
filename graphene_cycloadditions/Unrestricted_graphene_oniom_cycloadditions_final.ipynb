{
 "metadata": {
  "name": ""
 },
 "nbformat": 3,
 "nbformat_minor": 0,
 "worksheets": [
  {
   "cells": [
    {
     "cell_type": "markdown",
     "metadata": {},
     "source": [
      "Final unrestricted calculations continuing on the [graphene project](Unrestricted_Graphene_oniom_cycloadditions_v2.ipynb)"
     ]
    },
    {
     "cell_type": "code",
     "collapsed": false,
     "input": [
      "import cc_notebook_utils\n",
      "from ase.io import read, write\n",
      "from gausspy import Gaussian\n",
      "from ASE_utils import *\n",
      "from cc_notebook_utils import *\n",
      "from gausspy.oniom_utils import oniom_stable\n",
      "from gaussian_job_manager import on_server\n",
      "from adsy import display as ad_disp\n",
      "import pandas\n",
      "pandas.set_option('display.max_rows', 200)\n",
      "pandas.set_option('display.max_columns', 10)\n",
      "ad_disp.extended_styles()\n",
      "o_stable = on_server(oniom_stable)"
     ],
     "language": "python",
     "metadata": {},
     "outputs": [],
     "prompt_number": 1
    },
    {
     "cell_type": "code",
     "collapsed": false,
     "input": [
      "cd unrestricted_cycloadd_oniom/"
     ],
     "language": "python",
     "metadata": {},
     "outputs": [
      {
       "output_type": "stream",
       "stream": "stdout",
       "text": [
        "/home/clyde/Dropbox/Project Stuff/Notebooks/unrestricted_cycloadd_oniom\n"
       ]
      }
     ],
     "prompt_number": 2
    },
    {
     "cell_type": "heading",
     "level": 3,
     "metadata": {},
     "source": [
      "Initialisation"
     ]
    },
    {
     "cell_type": "code",
     "collapsed": false,
     "input": [
      "azo_log = 'other/UB3LYP_631Gd_UB3LYP_631Gd_azomethine_ylide_mult_1_stable_restart_1.log'\n",
      "carb_log = 'other/UB3LYP_631Gd_UB3LYP_631Gd_carbonyl_ylide_mult_1_stable_restart_3.log'\n",
      "\n",
      "graph_44_xyz = 'oniom_xyz_files/non_oniom_final/UB3LYP_631Gd_UB3LYP_631Gd_4_4_graphene_final.xyz'\n",
      "azo_44_xyz = 'oniom_xyz_files/non_oniom_final/UB3LYP_631Gd_UB3LYP_631Gd_4_4_cent_azomethine_v2_final.xyz'\n",
      "carb_44_xyz = 'oniom_xyz_files/non_oniom_final/UB3LYP_631Gd_UB3LYP_631Gd_4_4_cent_carbonyl_final.xyz'\n",
      "\n",
      "azo_44_ts = 'other/UB3LYP_631Gd_UB3LYP_631Gd_4_4_cent_azomethine_ts_v2_mult_1_reopt_restart_2.log'\n",
      "carb_44_ts = 'oniom_xyz_files/non_oniom_ts/UB3LYP_631Gd_UB3LYP_631Gd_4_4_cent_carbonyl_ts3_reopt_restart_2_freq.log'"
     ],
     "language": "python",
     "metadata": {},
     "outputs": [],
     "prompt_number": 3
    },
    {
     "cell_type": "code",
     "collapsed": false,
     "input": [
      "l_methods = ('dreiding', 'uam1','upm6','uHF/STO-3G', 'uff')\n",
      "\n",
      "carb_atoms = (67,68,69,70,71,72,73)\n",
      "azo_atoms = (67,68,69,70,71,72,73,74)\n",
      "\n",
      "graph_atoms = {}\n",
      "graph_atoms.update({0:(28,29)}) #2 C atoms\n",
      "graph_atoms.update({1:graph_atoms[0] + (12,13,14,15,27,41,42,30)}) #10 C atoms\n",
      "graph_atoms.update({2:graph_atoms[1] + (11,25,26,16,32,31)}) #16 C atoms\n",
      "graph_atoms.update({3:graph_atoms[2] + (24,33)})#18 C atoms\n",
      "graph_atoms.update({4:graph_atoms[2] + (38,39,52,40,47,55,48,56,43,44,53,45,17,6,60,5,4,59,3,58,2,1,57,10)}) # 40 C atoms (total molecule = 50C atoms)"
     ],
     "language": "python",
     "metadata": {},
     "outputs": [],
     "prompt_number": 4
    },
    {
     "cell_type": "heading",
     "level": 3,
     "metadata": {},
     "source": [
      "Stable single points"
     ]
    },
    {
     "cell_type": "code",
     "collapsed": false,
     "input": [
      "o_44 = {'cent_azomethine':[], 'cent_azomethine_ts':[], 'graphene':[], 'cent_carbonyl':[], 'cent_carbonyl_ts':[]}\n",
      "xyz = {'cent_azomethine':azo_44_xyz, 'cent_azomethine_ts':azo_44_ts, 'cent_carbonyl':carb_44_xyz, 'cent_carbonyl_ts':carb_44_ts, 'graphene':graph_44_xyz}\n",
      "\n",
      "for ylide in o_44.keys():\n",
      "    for siz in range(5):\n",
      "        for meth in l_methods:\n",
      "            graph_ylid = read(xyz[ylide])\n",
      "            graph_ylid_name = 'o{s}_{m}_UB3LYP_631Gd_4_4_{y}'.format(m=meth.replace('/', '_'), s=siz, y=ylide)\n",
      "            graph_ylid.set_calculator(Gaussian(label=graph_ylid_name, method='oniom(UB3LYP/6-31G(d):{l})'.format(l=meth), basis='oniom'))\n",
      "            graph_ylid_H = graph_atoms[siz]\n",
      "            \n",
      "            #careful of mutable types- before the elements in graph_atoms were lists and this meant the ylide atoms were getting added to the original dictionary\n",
      "            if 'azomethine' in ylide:\n",
      "                graph_ylid_H += azo_atoms\n",
      "            elif 'carbonyl' in ylide:\n",
      "                graph_ylid_H += carb_atoms\n",
      "                \n",
      "            graph_ylid.calc.oniom_coord_params['layers'] = [[no -1 for no in graph_ylid_H]]\n",
      "            graph_ylid.calc.oniom_coord_params['layer_mults'] = [1,1]\n",
      "            graph_ylid.calc.set_job(nodes=8, memory=8*1200, time=siz+1, queue='pqmb')  \n",
      "            #o_stable(graph_ylid)\n",
      "            o_44[ylide].append(graph_ylid)"
     ],
     "language": "python",
     "metadata": {},
     "outputs": [],
     "prompt_number": 5
    },
    {
     "cell_type": "code",
     "collapsed": false,
     "input": [
      "#correction for carbonyl substituents (we already did these as restarted calculations inside the 'correction/' folder) \n",
      "for m in o_44['cent_carbonyl'] + o_44['cent_carbonyl_ts']:\n",
      "    m.calc.label = 'correction/' + m.calc.label + '_restart_1'"
     ],
     "language": "python",
     "metadata": {},
     "outputs": [],
     "prompt_number": 6
    },
    {
     "cell_type": "code",
     "collapsed": false,
     "input": [
      "check_calcs(unwind([o_44[k] for k in o_44]))\n",
      "mols_to_html(unwind([o_44[k] for k in o_44]))"
     ],
     "language": "python",
     "metadata": {},
     "outputs": [
      {
       "ename": "NameError",
       "evalue": "global name 'Gaussian' is not defined",
       "output_type": "pyerr",
       "traceback": [
        "\u001b[1;31m---------------------------------------------------------------------------\u001b[0m\n\u001b[1;31mNameError\u001b[0m                                 Traceback (most recent call last)",
        "\u001b[1;32m<ipython-input-7-986dd021f378>\u001b[0m in \u001b[0;36m<module>\u001b[1;34m()\u001b[0m\n\u001b[1;32m----> 1\u001b[1;33m \u001b[0mcheck_calcs\u001b[0m\u001b[1;33m(\u001b[0m\u001b[0munwind\u001b[0m\u001b[1;33m(\u001b[0m\u001b[1;33m[\u001b[0m\u001b[0mo_44\u001b[0m\u001b[1;33m[\u001b[0m\u001b[0mk\u001b[0m\u001b[1;33m]\u001b[0m \u001b[1;32mfor\u001b[0m \u001b[0mk\u001b[0m \u001b[1;32min\u001b[0m \u001b[0mo_44\u001b[0m\u001b[1;33m]\u001b[0m\u001b[1;33m)\u001b[0m\u001b[1;33m)\u001b[0m\u001b[1;33m\u001b[0m\u001b[0m\n\u001b[0m\u001b[0;32m      2\u001b[0m \u001b[0mmols_to_html\u001b[0m\u001b[1;33m(\u001b[0m\u001b[0munwind\u001b[0m\u001b[1;33m(\u001b[0m\u001b[1;33m[\u001b[0m\u001b[0mo_44\u001b[0m\u001b[1;33m[\u001b[0m\u001b[0mk\u001b[0m\u001b[1;33m]\u001b[0m \u001b[1;32mfor\u001b[0m \u001b[0mk\u001b[0m \u001b[1;32min\u001b[0m \u001b[0mo_44\u001b[0m\u001b[1;33m]\u001b[0m\u001b[1;33m)\u001b[0m\u001b[1;33m)\u001b[0m\u001b[1;33m\u001b[0m\u001b[0m\n",
        "\u001b[1;32m/home/clyde/Project/Code/Python/ASE_extensions/ASE_utils.py\u001b[0m in \u001b[0;36mcheck_calcs\u001b[1;34m(list_mols, max_restart, depth, sort, frc)\u001b[0m\n\u001b[0;32m    288\u001b[0m             \u001b[0minit_mol\u001b[0m\u001b[1;33m.\u001b[0m\u001b[0mcalc\u001b[0m\u001b[1;33m.\u001b[0m\u001b[0mlabel\u001b[0m \u001b[1;33m+=\u001b[0m \u001b[1;34m'_init'\u001b[0m\u001b[1;33m\u001b[0m\u001b[0m\n\u001b[0;32m    289\u001b[0m             \u001b[0minit_mol\u001b[0m\u001b[1;33m.\u001b[0m\u001b[0mcalc\u001b[0m\u001b[1;33m.\u001b[0m\u001b[0mget_from_scratch\u001b[0m\u001b[1;33m(\u001b[0m\u001b[0minit_mol\u001b[0m\u001b[1;33m.\u001b[0m\u001b[0mcalc\u001b[0m\u001b[1;33m.\u001b[0m\u001b[0mlabel\u001b[0m \u001b[1;33m+\u001b[0m \u001b[1;34m'.log'\u001b[0m\u001b[1;33m,\u001b[0m \u001b[0mfrc\u001b[0m\u001b[1;33m=\u001b[0m\u001b[0mfrc\u001b[0m\u001b[1;33m)\u001b[0m\u001b[1;33m\u001b[0m\u001b[0m\n\u001b[1;32m--> 290\u001b[1;33m             \u001b[0mmol\u001b[0m\u001b[1;33m.\u001b[0m\u001b[0mcalc\u001b[0m\u001b[1;33m.\u001b[0m\u001b[0mcomponents\u001b[0m \u001b[1;33m=\u001b[0m \u001b[0moniom_utils\u001b[0m\u001b[1;33m.\u001b[0m\u001b[0moniom_comp_calcs\u001b[0m\u001b[1;33m(\u001b[0m\u001b[0minit_mol\u001b[0m\u001b[1;33m)\u001b[0m\u001b[1;33m\u001b[0m\u001b[0m\n\u001b[0m\u001b[0;32m    291\u001b[0m             \u001b[0mcheck_calcs\u001b[0m\u001b[1;33m(\u001b[0m\u001b[0mmol\u001b[0m\u001b[1;33m.\u001b[0m\u001b[0mcalc\u001b[0m\u001b[1;33m.\u001b[0m\u001b[0mcomponents\u001b[0m\u001b[1;33m,\u001b[0m \u001b[0mdepth\u001b[0m\u001b[1;33m=\u001b[0m\u001b[0mdepth\u001b[0m\u001b[1;33m,\u001b[0m \u001b[0mmax_restart\u001b[0m\u001b[1;33m=\u001b[0m\u001b[0mTrue\u001b[0m\u001b[1;33m,\u001b[0m \u001b[0mfrc\u001b[0m\u001b[1;33m=\u001b[0m\u001b[0mfrc\u001b[0m\u001b[1;33m)\u001b[0m\u001b[1;33m\u001b[0m\u001b[0m\n\u001b[0;32m    292\u001b[0m \u001b[1;33m\u001b[0m\u001b[0m\n",
        "\u001b[1;32m/home/clyde/Project/Code/Python/gausspy/oniom_utils.pyc\u001b[0m in \u001b[0;36moniom_comp_calcs\u001b[1;34m(atoms_oniom, **kwargs)\u001b[0m\n\u001b[0;32m     81\u001b[0m \u001b[1;33m\u001b[0m\u001b[0m\n\u001b[0;32m     82\u001b[0m     \u001b[0minit_inp_strs\u001b[0m \u001b[1;33m=\u001b[0m \u001b[0mextract_oniom_inputs\u001b[0m\u001b[1;33m(\u001b[0m\u001b[0matoms_oniom\u001b[0m\u001b[1;33m)\u001b[0m\u001b[1;33m\u001b[0m\u001b[0m\n\u001b[1;32m---> 83\u001b[1;33m     \u001b[0minp_strs\u001b[0m \u001b[1;33m=\u001b[0m \u001b[1;33m[\u001b[0m\u001b[0madd_to_input\u001b[0m\u001b[1;33m(\u001b[0m\u001b[0ms\u001b[0m\u001b[1;33m,\u001b[0m \u001b[1;33m**\u001b[0m\u001b[0mkwargs\u001b[0m\u001b[1;33m)\u001b[0m \u001b[1;32mfor\u001b[0m \u001b[0ms\u001b[0m \u001b[1;32min\u001b[0m \u001b[0minit_inp_strs\u001b[0m\u001b[1;33m]\u001b[0m\u001b[1;33m\u001b[0m\u001b[0m\n\u001b[0m\u001b[0;32m     84\u001b[0m     \u001b[0mold_label\u001b[0m \u001b[1;33m=\u001b[0m \u001b[0matoms_oniom\u001b[0m\u001b[1;33m.\u001b[0m\u001b[0mcalc\u001b[0m\u001b[1;33m.\u001b[0m\u001b[0mlabel\u001b[0m\u001b[1;33m\u001b[0m\u001b[0m\n\u001b[0;32m     85\u001b[0m \u001b[1;33m\u001b[0m\u001b[0m\n",
        "\u001b[1;32m/home/clyde/Project/Code/Python/gausspy/oniom_utils.pyc\u001b[0m in \u001b[0;36madd_to_input\u001b[1;34m(inp_str, **kwargs)\u001b[0m\n\u001b[0;32m     40\u001b[0m \u001b[1;32mdef\u001b[0m \u001b[0madd_to_input\u001b[0m\u001b[1;33m(\u001b[0m\u001b[0minp_str\u001b[0m\u001b[1;33m,\u001b[0m \u001b[1;33m**\u001b[0m\u001b[0mkwargs\u001b[0m\u001b[1;33m)\u001b[0m\u001b[1;33m:\u001b[0m\u001b[1;33m\u001b[0m\u001b[0m\n\u001b[0;32m     41\u001b[0m     \u001b[0mroute\u001b[0m \u001b[1;33m=\u001b[0m \u001b[0mget_route\u001b[0m\u001b[1;33m(\u001b[0m\u001b[0minp_str\u001b[0m\u001b[1;33m)\u001b[0m\u001b[1;33m\u001b[0m\u001b[0m\n\u001b[1;32m---> 42\u001b[1;33m     \u001b[0mcommand\u001b[0m \u001b[1;33m=\u001b[0m \u001b[0mGaussian\u001b[0m\u001b[1;33m(\u001b[0m\u001b[1;33m**\u001b[0m\u001b[0mkwargs\u001b[0m\u001b[1;33m)\u001b[0m\u001b[1;33m.\u001b[0m\u001b[0m_get_route\u001b[0m\u001b[1;33m(\u001b[0m\u001b[1;33m)\u001b[0m\u001b[1;33m.\u001b[0m\u001b[0mreplace\u001b[0m\u001b[1;33m(\u001b[0m\u001b[1;34m'#p'\u001b[0m\u001b[1;33m,\u001b[0m \u001b[1;34m''\u001b[0m\u001b[1;33m)\u001b[0m\u001b[1;33m.\u001b[0m\u001b[0mreplace\u001b[0m\u001b[1;33m(\u001b[0m\u001b[1;34m'#P'\u001b[0m\u001b[1;33m,\u001b[0m \u001b[1;34m''\u001b[0m\u001b[1;33m)\u001b[0m\u001b[1;33m\u001b[0m\u001b[0m\n\u001b[0m\u001b[0;32m     43\u001b[0m     \u001b[0mn_route\u001b[0m \u001b[1;33m=\u001b[0m \u001b[0mroute\u001b[0m \u001b[1;33m+\u001b[0m \u001b[0mcommand\u001b[0m\u001b[1;33m\u001b[0m\u001b[0m\n\u001b[0;32m     44\u001b[0m     \u001b[1;32mreturn\u001b[0m \u001b[0minp_str\u001b[0m\u001b[1;33m.\u001b[0m\u001b[0mreplace\u001b[0m\u001b[1;33m(\u001b[0m\u001b[0mroute\u001b[0m\u001b[1;33m,\u001b[0m \u001b[0mn_route\u001b[0m\u001b[1;33m)\u001b[0m\u001b[1;33m\u001b[0m\u001b[0m\n",
        "\u001b[1;31mNameError\u001b[0m: global name 'Gaussian' is not defined"
       ]
      }
     ],
     "prompt_number": 7
    },
    {
     "cell_type": "code",
     "collapsed": false,
     "input": [
      "mols_to_html(unwind([o_44[k] for k in o_44])[-8].calc.components)"
     ],
     "language": "python",
     "metadata": {},
     "outputs": [
      {
       "html": [
        "\n",
        "           <script type=\"text/javascript\">\n",
        "           function view_function (event, file_n) {\n",
        "               if (event.ctrlKey && event.shiftKey){\n",
        "                   IPython.notebook.kernel.execute(\"cc_notebook_utils.pygview('\" + file_n + \".log')\");\n",
        "               }\n",
        "               else if (event.ctrlKey){\n",
        "                   IPython.notebook.kernel.execute(\"cc_notebook_utils.pygausssum('\" + file_n + \".log')\");\n",
        "               }\n",
        "               else if (event.shiftKey){\n",
        "                   IPython.notebook.kernel.execute(\"cc_notebook_utils.pyvogadro('\" + file_n + \".log')\");\n",
        "               }\n",
        "               else {\n",
        "                   IPython.notebook.kernel.execute(\"cc_notebook_utils.pyvim('\" + file_n + \".log')\");\n",
        "                   IPython.notebook.kernel.execute(\"print(file_n)\");\n",
        "               }\n",
        "           }\n",
        "           </script>\n",
        "    <style>\n",
        "    table\n",
        "    {\n",
        "        border-collapse:collapse;\n",
        "    }\n",
        "    td\n",
        "    {\n",
        "        padding:15px;\n",
        "    }\n",
        "    </style>\n",
        "    <body>\n",
        "    <table bgcolor=\"white\">\n",
        "    <col/><tr><td>o3_upm6_UB3LYP_631Gd_4_4_cent_azomethine_init_low_real</td><td><a href = \"files/unrestricted_cycloadd_oniom/o3_upm6_UB3LYP_631Gd_4_4_cent_azomethine_init_low_real.com\" target = \"_blank\">com</a></td><td><input type=\"button\" value=\"Smart Log\" id=\"o3_upm6_UB3LYP_631Gd_4_4_cent_azomethine_init_low_real\" onclick=\"view_function(event, this.id)\" /></td><td>Success</td></tr><tr><td>o3_upm6_UB3LYP_631Gd_4_4_cent_azomethine_init_high_model</td><td><a href = \"files/unrestricted_cycloadd_oniom/o3_upm6_UB3LYP_631Gd_4_4_cent_azomethine_init_high_model.com\" target = \"_blank\">com</a></td><td><input type=\"button\" value=\"Smart Log\" id=\"o3_upm6_UB3LYP_631Gd_4_4_cent_azomethine_init_high_model\" onclick=\"view_function(event, this.id)\" /></td><td>Success</td></tr><tr><td>o3_upm6_UB3LYP_631Gd_4_4_cent_azomethine_init_low_model</td><td><a href = \"files/unrestricted_cycloadd_oniom/o3_upm6_UB3LYP_631Gd_4_4_cent_azomethine_init_low_model.com\" target = \"_blank\">com</a></td><td><input type=\"button\" value=\"Smart Log\" id=\"o3_upm6_UB3LYP_631Gd_4_4_cent_azomethine_init_low_model\" onclick=\"view_function(event, this.id)\" /></td><td>Success</td></tr>\n",
        "    </table>\n",
        "    </body>"
       ],
       "metadata": {},
       "output_type": "pyout",
       "prompt_number": 8,
       "text": [
        "<IPython.core.display.HTML at 0x3dd4210>"
       ]
      }
     ],
     "prompt_number": 8
    },
    {
     "cell_type": "code",
     "collapsed": false,
     "input": [
      "cd correction/"
     ],
     "language": "python",
     "metadata": {},
     "outputs": [
      {
       "output_type": "stream",
       "stream": "stdout",
       "text": [
        "/home/clyde/Dropbox/Project Stuff/Notebooks/unrestricted_cycloadd_oniom/correction\n"
       ]
      }
     ],
     "prompt_number": 9
    },
    {
     "cell_type": "code",
     "collapsed": false,
     "input": [
      "#uff = [m for m in unwind([o_44[k] for k in o_44]) if 'uff' in m.calc.label and 'carbonyl' in m.calc.label]\n",
      "#for m in uff:\n",
      "#    m.calc.label += '_restart_1'\n",
      "#    o_stable(m)"
     ],
     "language": "python",
     "metadata": {},
     "outputs": [],
     "prompt_number": 10
    },
    {
     "cell_type": "code",
     "collapsed": false,
     "input": [
      "#uff = [m for m in unwind([o_44[k] for k in o_44]) if 'uff' in m.calc.label and 'carbonyl' in m.calc.label]\n",
      "#check_calcs(uff)\n",
      "#mols_to_html(uff)"
     ],
     "language": "python",
     "metadata": {},
     "outputs": [],
     "prompt_number": 11
    },
    {
     "cell_type": "code",
     "collapsed": false,
     "input": [
      "#p=next(e for e in enumerate(unwind([o_44[k] for k in o_44])) if e[1].calc.status != 'Success')"
     ],
     "language": "python",
     "metadata": {},
     "outputs": [],
     "prompt_number": 12
    },
    {
     "cell_type": "code",
     "collapsed": false,
     "input": [
      "#l=unwind([o_44[k] for k in o_44])\n",
      "#l[65].calc.label = 'o3_dreiding_UB3LYP_631Gd_4_4_cent_carbonyl_ts_restart_1'\n",
      "#l[69].calc.label = 'o3_uff_UB3LYP_631Gd_4_4_cent_carbonyl_ts_restart_1'\n",
      "#check_calcs([l[65],l[69]], frc=True)\n",
      "#mols_to_html([l[65],l[69]])\n",
      "\n",
      "#mols_to_html(q)\n",
      "#check_calcs(p, frc=True)\n",
      "#mols_to_html(p)"
     ],
     "language": "python",
     "metadata": {},
     "outputs": [],
     "prompt_number": 13
    },
    {
     "cell_type": "code",
     "collapsed": false,
     "input": [
      "#o_stable(p, frc=True)\n",
      "#check_calcs([p])\n",
      "#mols_to_html([p])"
     ],
     "language": "python",
     "metadata": {},
     "outputs": [],
     "prompt_number": 14
    },
    {
     "cell_type": "heading",
     "level": 3,
     "metadata": {},
     "source": [
      "Geometry optimisation"
     ]
    },
    {
     "cell_type": "code",
     "collapsed": false,
     "input": [
      "o_44_opt = copy.deepcopy(o_44)\n",
      "for mol in unwind(o_44_opt.values()):\n",
      "    new_label = mol.calc.label.split('UB3LYP_631Gd_')[0] *2 + mol.calc.label.split('UB3LYP_631Gd_')[1]\n",
      "        \n",
      "    if 'ts' not in mol.calc.label:\n",
      "        mol.calc.restart(label=new_label, opt='opt')\n",
      "    else:\n",
      "        mol.calc.restart(label=new_label, opt='calcfc, ts, noeigen')\n",
      "        \n",
      "    mol.calc.set_job(nodes=8, memory=8*1200, time=12, queue='pqmb', version='g09')\n",
      "    #mol.calc.start(frc=True)"
     ],
     "language": "python",
     "metadata": {},
     "outputs": [],
     "prompt_number": 15
    },
    {
     "cell_type": "code",
     "collapsed": false,
     "input": [
      "for m in o_44_opt['cent_carbonyl'] + o_44_opt['cent_carbonyl_ts']:\n",
      "    m.calc.label = 'correction/' + m.calc.label"
     ],
     "language": "python",
     "metadata": {},
     "outputs": [],
     "prompt_number": 17
    },
    {
     "cell_type": "heading",
     "level": 3,
     "metadata": {},
     "source": [
      "Data plots"
     ]
    },
    {
     "cell_type": "code",
     "collapsed": false,
     "input": [
      "azo=read(azo_log)\n",
      "carb=read(carb_log)\n",
      "\n",
      "ub3lyp_rxn_data = {'cent_azomethine':6.218933,'cent_carbonyl':-15.790776}\n",
      "ub3lyp_ts_height_data = {'cent_azomethine_ts':16.867832956810616,'cent_carbonyl_ts':31.281099594648797}\n",
      "\n",
      "get_ylide = lambda g_y: carb if 'carbonyl' in g_y.calc.label else azo\n",
      "\n",
      "rxn_data = []\n",
      "for calcs in [o_44, o_44_opt]:\n",
      "    for ylide in [k for k in calcs.keys() if 'ts' not in k and 'graphene' != k]:\n",
      "        solo_ylides = map(get_ylide,o_44[ylide])\n",
      "        products = o_44[ylide]\n",
      "        reactants = zip(o_44['graphene'], solo_ylides)\n",
      "        rxn_data.append(gen_energy_table(products, reactants, delta=ub3lyp_rxn_data[ylide]))\n",
      "                     \n",
      "ts_data = []            \n",
      "for calcs in [o_44, o_44_opt]:\n",
      "    for ylide in [k for k in calcs.keys() if 'ts' in k]:\n",
      "        products = o_44[ylide]\n",
      "        reactant_key = ylide.replace('_ts', '')\n",
      "        reactants = o_44[reactant_key]\n",
      "        ts_data.append(gen_energy_table(products, reactants, delta=ub3lyp_ts_height_data[ylide]))"
     ],
     "language": "python",
     "metadata": {},
     "outputs": [
      {
       "ename": "IOError",
       "evalue": "[Errno 2] No such file or directory: 'other/UB3LYP_631Gd_UB3LYP_631Gd_azomethine_ylide_mult_1_stable_restart_1.log'",
       "output_type": "pyerr",
       "traceback": [
        "\u001b[1;31m---------------------------------------------------------------------------\u001b[0m\n\u001b[1;31mIOError\u001b[0m                                   Traceback (most recent call last)",
        "\u001b[1;32m<ipython-input-19-5bbd0c9962ae>\u001b[0m in \u001b[0;36m<module>\u001b[1;34m()\u001b[0m\n\u001b[1;32m----> 1\u001b[1;33m \u001b[0mazo\u001b[0m\u001b[1;33m=\u001b[0m\u001b[0mread\u001b[0m\u001b[1;33m(\u001b[0m\u001b[0mazo_log\u001b[0m\u001b[1;33m)\u001b[0m\u001b[1;33m\u001b[0m\u001b[0m\n\u001b[0m\u001b[0;32m      2\u001b[0m \u001b[0mcarb\u001b[0m\u001b[1;33m=\u001b[0m\u001b[0mread\u001b[0m\u001b[1;33m(\u001b[0m\u001b[0mcarb_log\u001b[0m\u001b[1;33m)\u001b[0m\u001b[1;33m\u001b[0m\u001b[0m\n\u001b[0;32m      3\u001b[0m \u001b[1;33m\u001b[0m\u001b[0m\n\u001b[0;32m      4\u001b[0m \u001b[0mub3lyp_rxn_data\u001b[0m \u001b[1;33m=\u001b[0m \u001b[1;33m{\u001b[0m\u001b[1;34m'cent_azomethine'\u001b[0m\u001b[1;33m:\u001b[0m\u001b[1;36m6.218933\u001b[0m\u001b[1;33m,\u001b[0m\u001b[1;34m'cent_carbonyl'\u001b[0m\u001b[1;33m:\u001b[0m\u001b[1;33m-\u001b[0m\u001b[1;36m15.790776\u001b[0m\u001b[1;33m}\u001b[0m\u001b[1;33m\u001b[0m\u001b[0m\n\u001b[0;32m      5\u001b[0m \u001b[0mub3lyp_ts_height_data\u001b[0m \u001b[1;33m=\u001b[0m \u001b[1;33m{\u001b[0m\u001b[1;34m'cent_azomethine_ts'\u001b[0m\u001b[1;33m:\u001b[0m\u001b[1;36m16.867832956810616\u001b[0m\u001b[1;33m,\u001b[0m\u001b[1;34m'cent_carbonyl_ts'\u001b[0m\u001b[1;33m:\u001b[0m\u001b[1;36m31.281099594648797\u001b[0m\u001b[1;33m}\u001b[0m\u001b[1;33m\u001b[0m\u001b[0m\n",
        "\u001b[1;32m/home/clyde/Software/my_ase/ase/io/__init__.pyc\u001b[0m in \u001b[0;36mread\u001b[1;34m(filename, index, format)\u001b[0m\n\u001b[0;32m     88\u001b[0m \u001b[1;33m\u001b[0m\u001b[0m\n\u001b[0;32m     89\u001b[0m     \u001b[1;32mif\u001b[0m \u001b[0mformat\u001b[0m \u001b[1;32mis\u001b[0m \u001b[0mNone\u001b[0m\u001b[1;33m:\u001b[0m\u001b[1;33m\u001b[0m\u001b[0m\n\u001b[1;32m---> 90\u001b[1;33m         \u001b[0mformat\u001b[0m \u001b[1;33m=\u001b[0m \u001b[0mfiletype\u001b[0m\u001b[1;33m(\u001b[0m\u001b[0mfilename\u001b[0m\u001b[1;33m)\u001b[0m\u001b[1;33m\u001b[0m\u001b[0m\n\u001b[0m\u001b[0;32m     91\u001b[0m \u001b[1;33m\u001b[0m\u001b[0m\n\u001b[0;32m     92\u001b[0m     \u001b[1;32mif\u001b[0m \u001b[0mformat\u001b[0m\u001b[1;33m.\u001b[0m\u001b[0mstartswith\u001b[0m\u001b[1;33m(\u001b[0m\u001b[1;34m'gpw'\u001b[0m\u001b[1;33m)\u001b[0m\u001b[1;33m:\u001b[0m\u001b[1;33m\u001b[0m\u001b[0m\n",
        "\u001b[1;32m/home/clyde/Software/my_ase/ase/io/__init__.pyc\u001b[0m in \u001b[0;36mfiletype\u001b[1;34m(filename)\u001b[0m\n\u001b[0;32m    511\u001b[0m             \u001b[1;32mraise\u001b[0m \u001b[0mIOError\u001b[0m\u001b[1;33m(\u001b[0m\u001b[1;34m'Directory: '\u001b[0m \u001b[1;33m+\u001b[0m \u001b[0mfilename\u001b[0m\u001b[1;33m)\u001b[0m\u001b[1;33m\u001b[0m\u001b[0m\n\u001b[0;32m    512\u001b[0m \u001b[1;33m\u001b[0m\u001b[0m\n\u001b[1;32m--> 513\u001b[1;33m     \u001b[0mfileobj\u001b[0m \u001b[1;33m=\u001b[0m \u001b[0mopen\u001b[0m\u001b[1;33m(\u001b[0m\u001b[0mfilename\u001b[0m\u001b[1;33m,\u001b[0m \u001b[1;34m'rU'\u001b[0m\u001b[1;33m)\u001b[0m\u001b[1;33m\u001b[0m\u001b[0m\n\u001b[0m\u001b[0;32m    514\u001b[0m     \u001b[0ms3\u001b[0m \u001b[1;33m=\u001b[0m \u001b[0mfileobj\u001b[0m\u001b[1;33m.\u001b[0m\u001b[0mread\u001b[0m\u001b[1;33m(\u001b[0m\u001b[1;36m3\u001b[0m\u001b[1;33m)\u001b[0m\u001b[1;33m\u001b[0m\u001b[0m\n\u001b[0;32m    515\u001b[0m     \u001b[1;32mif\u001b[0m \u001b[0mlen\u001b[0m\u001b[1;33m(\u001b[0m\u001b[0ms3\u001b[0m\u001b[1;33m)\u001b[0m \u001b[1;33m==\u001b[0m \u001b[1;36m0\u001b[0m\u001b[1;33m:\u001b[0m\u001b[1;33m\u001b[0m\u001b[0m\n",
        "\u001b[1;31mIOError\u001b[0m: [Errno 2] No such file or directory: 'other/UB3LYP_631Gd_UB3LYP_631Gd_azomethine_ylide_mult_1_stable_restart_1.log'"
       ]
      }
     ],
     "prompt_number": 19
    },
    {
     "cell_type": "code",
     "collapsed": false,
     "input": [],
     "language": "python",
     "metadata": {},
     "outputs": []
    }
   ],
   "metadata": {}
  }
 ]
}