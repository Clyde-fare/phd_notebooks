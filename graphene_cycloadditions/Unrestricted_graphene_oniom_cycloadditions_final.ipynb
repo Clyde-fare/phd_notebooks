{
 "metadata": {
  "name": "",
  "signature": "sha256:ca19efd415219ada118bc0bcf961df4a315670193e0e6020daa156fe22456ec7"
 },
 "nbformat": 3,
 "nbformat_minor": 0,
 "worksheets": [
  {
   "cells": [
    {
     "cell_type": "markdown",
     "metadata": {},
     "source": [
      "Final unrestricted calculations continuing on the [graphene project](Unrestricted_Graphene_oniom_cycloadditions_v2.ipynb)"
     ]
    },
    {
     "cell_type": "code",
     "collapsed": false,
     "input": [
      "%pylab"
     ],
     "language": "python",
     "metadata": {},
     "outputs": [
      {
       "output_type": "stream",
       "stream": "stdout",
       "text": [
        "Using matplotlib backend: Qt4Agg\n",
        "Populating the interactive namespace from numpy and matplotlib\n"
       ]
      }
     ],
     "prompt_number": 1
    },
    {
     "cell_type": "code",
     "collapsed": false,
     "input": [
      "import cc_notebook_utils\n",
      "from ase.io import read, write\n",
      "from gausspy import Gaussian\n",
      "from ASE_utils import *\n",
      "from cc_notebook_utils import *\n",
      "from gausspy.oniom_utils import oniom_stable\n",
      "from gaussian_job_manager import on_server\n",
      "#from adsy import display as ad_disp\n",
      "import pandas\n",
      "pandas.set_option('display.max_rows', 200)\n",
      "pandas.set_option('display.max_columns', 10)\n",
      "#ad_disp.extended_styles()\n",
      "o_stable = on_server(oniom_stable)"
     ],
     "language": "python",
     "metadata": {},
     "outputs": [],
     "prompt_number": 3
    },
    {
     "cell_type": "code",
     "collapsed": false,
     "input": [
      "cd unrestricted_cycloadd_oniom/"
     ],
     "language": "python",
     "metadata": {},
     "outputs": [
      {
       "output_type": "stream",
       "stream": "stdout",
       "text": [
        "/home/clyde/Dropbox/Project Stuff/Notebooks/graphene_cycloadditions/unrestricted_cycloadd_oniom\n"
       ]
      }
     ],
     "prompt_number": 4
    },
    {
     "cell_type": "heading",
     "level": 3,
     "metadata": {},
     "source": [
      "Initialisation"
     ]
    },
    {
     "cell_type": "code",
     "collapsed": false,
     "input": [
      "azo_log = 'other/UB3LYP_631Gd_UB3LYP_631Gd_azomethine_ylide_mult_1_stable_restart_1.log'\n",
      "carb_log = 'other/UB3LYP_631Gd_UB3LYP_631Gd_carbonyl_ylide_mult_1_stable_restart_3.log'\n",
      "\n",
      "graph_44_xyz = 'oniom_xyz_files/non_oniom_final/UB3LYP_631Gd_UB3LYP_631Gd_4_4_graphene_final.xyz'\n",
      "azo_44_xyz = 'oniom_xyz_files/non_oniom_final/UB3LYP_631Gd_UB3LYP_631Gd_4_4_cent_azomethine_v2_final.xyz'\n",
      "carb_44_xyz = 'oniom_xyz_files/non_oniom_final/UB3LYP_631Gd_UB3LYP_631Gd_4_4_cent_carbonyl_final.xyz'\n",
      "\n",
      "azo_44_ts = 'other/UB3LYP_631Gd_UB3LYP_631Gd_4_4_cent_azomethine_ts_v2_mult_1_reopt_restart_2.log'\n",
      "carb_44_ts = 'oniom_xyz_files/non_oniom_ts/UB3LYP_631Gd_UB3LYP_631Gd_4_4_cent_carbonyl_ts3_reopt_restart_2_freq.log'"
     ],
     "language": "python",
     "metadata": {},
     "outputs": [],
     "prompt_number": 5
    },
    {
     "cell_type": "code",
     "collapsed": false,
     "input": [
      "l_methods = ('dreiding', 'uam1','upm6','uHF/STO-3G', 'uff')\n",
      "\n",
      "#atoms number gaussian/fortran style i.e. first atom is 1\n",
      "carb_atoms = (67,68,69,70,71,72,73)\n",
      "azo_atoms = (67,68,69,70,71,72,73,74)\n",
      "    \n",
      "graph_atoms = {}\n",
      "graph_atoms.update({0:(28,29)}) #2 C atoms\n",
      "graph_atoms.update({1:graph_atoms[0] + (12,13,14,15,27,41,42,30)}) #10 C atoms\n",
      "graph_atoms.update({2:graph_atoms[1] + (11,25,26,16,32,31)}) #16 C atoms\n",
      "graph_atoms.update({3:graph_atoms[2] + (24,33)})#18 C atoms\n",
      "graph_atoms.update({4:graph_atoms[2] + (38,39,52,40,47,55,48,56,43,44,53,45,17,6,60,5,4,59,3,58,2,1,57,10)}) # 40 C atoms (total molecule = 50C atoms)"
     ],
     "language": "python",
     "metadata": {},
     "outputs": [],
     "prompt_number": 6
    },
    {
     "cell_type": "code",
     "collapsed": false,
     "input": [
      "low_level_atoms = {c: [e-1 for e in range(1,51) if e not in graph_atoms[c] + azo_atoms] for c in graph_atoms}\n",
      "\n",
      "view_ipython_jmol([azo_44_xyz] *5, \n",
      "                  label=False,\n",
      "                  sync=True,\n",
      "                  title=['Azo Product Model o0', 'Azo Product Model o1', \n",
      "                         'Azo Product Model o2', 'Azo Product Model o3', \n",
      "                         'Azo Product Model o4'], \n",
      "                  params=[{'spacefill':('off', atms)} for atms in low_level_atoms.values()])"
     ],
     "language": "python",
     "metadata": {},
     "outputs": [
      {
       "html": [
        "<div style=float:left><div id='applet_div_id_6414631755519'></div></div>\n",
        "<div style=float:left><div id='applet_div_id_8755669890443'></div></div>\n",
        "<div style=float:left><div id='applet_div_id_2378313608556'></div></div>\n",
        "<div style=float:left><div id='applet_div_id_101709283384'></div></div>\n",
        "<div style=float:left><div id='applet_div_id_982121858621'></div></div>\n",
        "<script type=\"text/Javascript\">//initialisation\n",
        "    var Info = {\n",
        "        color: \"#FFFFFF\",\n",
        "        width: 300,\n",
        "        height: 300,\n",
        "        serverURL: \"/static/custom/jsmol/jsmol.php \",\n",
        "        use: \"HTML5\",\n",
        "        j2sPath: \"/static/custom/jsmol/j2s\",\n",
        "        console: \"jmolApplet0_infodiv\"\n",
        "    }\n",
        "    //prevent applet from immediately generating html - allows us to place the applet in the div we wish\n",
        "    Jmol.setDocument(0)\n",
        "    //start applet\n",
        "    applet_id_6414631755519 = Jmol.getApplet(\"applet_id_6414631755519\", Info)\n",
        "    //insert applet html into applet_div_id_6414631755519\n",
        "    $(\"#applet_div_id_6414631755519\").html(Jmol.getAppletHtml(applet_id_6414631755519))\n",
        "    //execute scripts\n",
        "    Jmol.script(applet_id_6414631755519,\"load unrestricted_cycloadd_oniom/oniom_xyz_files/non_oniom_final/UB3LYP_631Gd_UB3LYP_631Gd_4_4_cent_azomethine_v2_final.xyz; select all; set echo echoname 50% 90%; font echo 15; echo Azo Product Model o0;select atomno=1,atomno=2,atomno=3,atomno=4,atomno=5,atomno=6,atomno=7,atomno=8,atomno=9,atomno=10,atomno=11,atomno=12,atomno=13,atomno=14,atomno=15,atomno=16,atomno=17,atomno=18,atomno=19,atomno=20,atomno=21,atomno=22,atomno=23,atomno=24,atomno=25,atomno=26,atomno=27,atomno=30,atomno=31,atomno=32,atomno=33,atomno=34,atomno=35,atomno=36,atomno=37,atomno=38,atomno=39,atomno=40,atomno=41,atomno=42,atomno=43,atomno=44,atomno=45,atomno=46,atomno=47,atomno=48,atomno=49,atomno=50; spacefill off;; set frank off; sync . SLAVE;\")\n",
        "    //start applet\n",
        "    applet_id_8755669890443 = Jmol.getApplet(\"applet_id_8755669890443\", Info)\n",
        "    //insert applet html into applet_div_id_8755669890443\n",
        "    $(\"#applet_div_id_8755669890443\").html(Jmol.getAppletHtml(applet_id_8755669890443))\n",
        "    //execute scripts\n",
        "    Jmol.script(applet_id_8755669890443,\"load unrestricted_cycloadd_oniom/oniom_xyz_files/non_oniom_final/UB3LYP_631Gd_UB3LYP_631Gd_4_4_cent_azomethine_v2_final.xyz; select all; set echo echoname 50% 90%; font echo 15; echo Azo Product Model o1;select atomno=1,atomno=2,atomno=3,atomno=4,atomno=5,atomno=6,atomno=7,atomno=8,atomno=9,atomno=10,atomno=11,atomno=16,atomno=17,atomno=18,atomno=19,atomno=20,atomno=21,atomno=22,atomno=23,atomno=24,atomno=25,atomno=26,atomno=31,atomno=32,atomno=33,atomno=34,atomno=35,atomno=36,atomno=37,atomno=38,atomno=39,atomno=40,atomno=43,atomno=44,atomno=45,atomno=46,atomno=47,atomno=48,atomno=49,atomno=50; spacefill off;; set frank off; sync . SLAVE;\")\n",
        "    //start applet\n",
        "    applet_id_2378313608556 = Jmol.getApplet(\"applet_id_2378313608556\", Info)\n",
        "    //insert applet html into applet_div_id_2378313608556\n",
        "    $(\"#applet_div_id_2378313608556\").html(Jmol.getAppletHtml(applet_id_2378313608556))\n",
        "    //execute scripts\n",
        "    Jmol.script(applet_id_2378313608556,\"load unrestricted_cycloadd_oniom/oniom_xyz_files/non_oniom_final/UB3LYP_631Gd_UB3LYP_631Gd_4_4_cent_azomethine_v2_final.xyz; select all; set echo echoname 50% 90%; font echo 15; echo Azo Product Model o2;select atomno=1,atomno=2,atomno=3,atomno=4,atomno=5,atomno=6,atomno=7,atomno=8,atomno=9,atomno=10,atomno=17,atomno=18,atomno=19,atomno=20,atomno=21,atomno=22,atomno=23,atomno=24,atomno=33,atomno=34,atomno=35,atomno=36,atomno=37,atomno=38,atomno=39,atomno=40,atomno=43,atomno=44,atomno=45,atomno=46,atomno=47,atomno=48,atomno=49,atomno=50; spacefill off;; set frank off; sync . SLAVE;\")\n",
        "    //start applet\n",
        "    applet_id_101709283384 = Jmol.getApplet(\"applet_id_101709283384\", Info)\n",
        "    //insert applet html into applet_div_id_101709283384\n",
        "    $(\"#applet_div_id_101709283384\").html(Jmol.getAppletHtml(applet_id_101709283384))\n",
        "    //execute scripts\n",
        "    Jmol.script(applet_id_101709283384,\"load unrestricted_cycloadd_oniom/oniom_xyz_files/non_oniom_final/UB3LYP_631Gd_UB3LYP_631Gd_4_4_cent_azomethine_v2_final.xyz; select all; set echo echoname 50% 90%; font echo 15; echo Azo Product Model o3;select atomno=1,atomno=2,atomno=3,atomno=4,atomno=5,atomno=6,atomno=7,atomno=8,atomno=9,atomno=10,atomno=17,atomno=18,atomno=19,atomno=20,atomno=21,atomno=22,atomno=23,atomno=34,atomno=35,atomno=36,atomno=37,atomno=38,atomno=39,atomno=40,atomno=43,atomno=44,atomno=45,atomno=46,atomno=47,atomno=48,atomno=49,atomno=50; spacefill off;; set frank off; sync . SLAVE;\")\n",
        "    //start applet\n",
        "    applet_id_982121858621 = Jmol.getApplet(\"applet_id_982121858621\", Info)\n",
        "    //insert applet html into applet_div_id_982121858621\n",
        "    $(\"#applet_div_id_982121858621\").html(Jmol.getAppletHtml(applet_id_982121858621))\n",
        "    //execute scripts\n",
        "    Jmol.script(applet_id_982121858621,\"load unrestricted_cycloadd_oniom/oniom_xyz_files/non_oniom_final/UB3LYP_631Gd_UB3LYP_631Gd_4_4_cent_azomethine_v2_final.xyz; select all; set echo echoname 50% 90%; font echo 15; echo Azo Product Model o4;select atomno=7,atomno=8,atomno=9,atomno=18,atomno=19,atomno=20,atomno=21,atomno=22,atomno=23,atomno=24,atomno=33,atomno=34,atomno=35,atomno=36,atomno=37,atomno=46,atomno=49,atomno=50; spacefill off;; set frank off; sync . SLAVE;\")\n",
        "Jmol.script(applet_id_6414631755519, \"sync . ON; sync * set syncMouse off;set syncScript off\")</script>"
       ],
       "metadata": {},
       "output_type": "pyout",
       "prompt_number": 7,
       "text": [
        "<IPython.core.display.HTML at 0x7f809627bd50>"
       ]
      }
     ],
     "prompt_number": 7
    },
    {
     "cell_type": "heading",
     "level": 3,
     "metadata": {},
     "source": [
      "Stable single points"
     ]
    },
    {
     "cell_type": "code",
     "collapsed": false,
     "input": [
      "o_44 = {'cent_azomethine':[], 'cent_azomethine_ts':[], 'graphene':[], 'cent_carbonyl':[], 'cent_carbonyl_ts':[]}\n",
      "xyz = {'cent_azomethine':azo_44_xyz, 'cent_azomethine_ts':azo_44_ts, 'cent_carbonyl':carb_44_xyz, 'cent_carbonyl_ts':carb_44_ts, 'graphene':graph_44_xyz}\n",
      "\n",
      "for ylide_str in o_44:\n",
      "    for siz in range(5):\n",
      "        for meth in l_methods:\n",
      "            graph_ylid = read(xyz[ylide_str])\n",
      "            graph_ylid_name = 'o{s}_{m}_UB3LYP_631Gd_4_4_{y}'.format(m=meth.replace('/', '_'), s=siz, y=ylide_str)\n",
      "            graph_ylid.set_calculator(Gaussian(label=graph_ylid_name, method='oniom(UB3LYP/6-31G(d):{l})'.format(l=meth), basis='oniom'))\n",
      "            graph_ylid_H = graph_atoms[siz]\n",
      "            \n",
      "            #careful of mutable types- before the elements in graph_atoms were lists and this meant the ylide atoms were getting added to the original dictionary\n",
      "            if 'azomethine' in ylide_str:\n",
      "                graph_ylid_H += azo_atoms\n",
      "            elif 'carbonyl' in ylide_str:\n",
      "                graph_ylid_H += carb_atoms\n",
      "                \n",
      "            graph_ylid.calc.oniom_coord_params['layers'] = [[no -1 for no in graph_ylid_H]]\n",
      "            graph_ylid.calc.oniom_coord_params['layer_mults'] = [1,1]\n",
      "            graph_ylid.calc.set_job(nodes=8, memory=8*1200, time=siz+1, queue='pqmb')  \n",
      "            #o_stable(graph_ylid)\n",
      "            o_44[ylide_str].append(graph_ylid)"
     ],
     "language": "python",
     "metadata": {},
     "outputs": [],
     "prompt_number": 8
    },
    {
     "cell_type": "code",
     "collapsed": false,
     "input": [
      "#correction for carbonyl substituents (we already did these as restarted calculations inside the 'correction/' folder) \n",
      "for m in o_44['cent_carbonyl'] + o_44['cent_carbonyl_ts']:\n",
      "    m.calc.label = 'correction/' + m.calc.label + '_restart_1'"
     ],
     "language": "python",
     "metadata": {},
     "outputs": [],
     "prompt_number": 9
    },
    {
     "cell_type": "code",
     "collapsed": false,
     "input": [
      "check_calcs(unwind([o_44[k] for k in o_44]), depth='light')\n",
      "#mols_to_html(unwind([o_44[k] for k in o_44]))"
     ],
     "language": "python",
     "metadata": {},
     "outputs": [],
     "prompt_number": 11
    },
    {
     "cell_type": "heading",
     "level": 3,
     "metadata": {},
     "source": [
      "Geometry optimisation"
     ]
    },
    {
     "cell_type": "code",
     "collapsed": false,
     "input": [
      "o_44_opt = copy.deepcopy(o_44)\n",
      "for mol in o_44_opt['cent_azomethine'] + o_44_opt['cent_azomethine_ts'] + o_44_opt['graphene']:\n",
      "    new_label = mol.calc.label.split('UB3LYP_631Gd_')[0] *2 + \\\n",
      "                mol.calc.label.split('UB3LYP_631Gd_')[1]\n",
      "        \n",
      "    if 'ts' not in mol.calc.label:\n",
      "        mol.calc.restart(label=new_label, opt='opt')\n",
      "    else:\n",
      "        mol.calc.restart(label=new_label, opt='calcfc, ts, noeigen')\n",
      "        \n",
      "    mol.calc.set_job(nodes=8, memory=8*1200, time=12, queue='pqmb', version='g09')\n",
      "    #m.calc.start()"
     ],
     "language": "python",
     "metadata": {},
     "outputs": [],
     "prompt_number": 12
    },
    {
     "cell_type": "code",
     "collapsed": false,
     "input": [
      "incomp_calcs = check_calcs(o_44_opt['cent_azomethine'] + o_44_opt['cent_azomethine_ts'] + o_44_opt['graphene'], max_restart=True)\n",
      "#mols_to_html(o_44_opt['cent_azomethine'] + o_44_opt['cent_azomethine_ts'] + o_44_opt['graphene'])"
     ],
     "language": "python",
     "metadata": {},
     "outputs": [],
     "prompt_number": 13
    },
    {
     "cell_type": "code",
     "collapsed": false,
     "input": [
      "#calculations on cent_carbonyl and cent_carbonyl_ts performed in the /correction folder"
     ],
     "language": "python",
     "metadata": {},
     "outputs": [],
     "prompt_number": 14
    },
    {
     "cell_type": "code",
     "collapsed": false,
     "input": [
      "cd correction"
     ],
     "language": "python",
     "metadata": {},
     "outputs": [
      {
       "output_type": "stream",
       "stream": "stdout",
       "text": [
        "/home/clyde/Dropbox/Project Stuff/Notebooks/graphene_cycloadditions/unrestricted_cycloadd_oniom/correction\n"
       ]
      }
     ],
     "prompt_number": 15
    },
    {
     "cell_type": "code",
     "collapsed": false,
     "input": [
      "for mol in o_44_opt['cent_carbonyl'] + o_44_opt['cent_carbonyl_ts']:\n",
      "    new_label = mol.calc.label.replace('correction/','').replace('_restart_1','').split('UB3LYP_631Gd_')[0] *2 + \\\n",
      "                mol.calc.label.replace('correction/','').replace('_restart_1','').split('UB3LYP_631Gd_')[1]\n",
      "    \n",
      "    if 'ts' not in mol.calc.label:\n",
      "        mol.calc.restart(label=new_label, opt='opt')\n",
      "    else:\n",
      "        mol.calc.restart(label=new_label, opt='calcfc, ts, noeigen')\n",
      "        \n",
      "    mol.calc.set_job(nodes=8, memory=8*1200, time=12, queue='pqmb', version='g09')\n",
      "    #m.calc.start()"
     ],
     "language": "python",
     "metadata": {},
     "outputs": [],
     "prompt_number": 16
    },
    {
     "cell_type": "code",
     "collapsed": false,
     "input": [
      "incomp_carb_calcs = check_calcs(o_44_opt['cent_carbonyl'] + o_44_opt['cent_carbonyl_ts'], max_restart=True)"
     ],
     "language": "python",
     "metadata": {},
     "outputs": [],
     "prompt_number": 17
    },
    {
     "cell_type": "code",
     "collapsed": false,
     "input": [
      "cd ../"
     ],
     "language": "python",
     "metadata": {},
     "outputs": [
      {
       "output_type": "stream",
       "stream": "stdout",
       "text": [
        "/home/clyde/Dropbox/Project Stuff/Notebooks/graphene_cycloadditions/unrestricted_cycloadd_oniom\n"
       ]
      }
     ],
     "prompt_number": 18
    },
    {
     "cell_type": "code",
     "collapsed": false,
     "input": [
      "for m in o_44_opt['cent_carbonyl'] + o_44_opt['cent_carbonyl_ts']:\n",
      "    m.calc.label = 'correction/' + m.calc.label   "
     ],
     "language": "python",
     "metadata": {},
     "outputs": [],
     "prompt_number": 19
    },
    {
     "cell_type": "code",
     "collapsed": false,
     "input": [
      "#ts calculations with forcefield low levels mostly fail because the forcefield part has no transition state \n",
      "mols_to_html(incomp_calcs + incomp_carb_calcs)"
     ],
     "language": "python",
     "metadata": {},
     "outputs": [
      {
       "html": [
        "\n",
        "    <style>\n",
        "    table\n",
        "    {\n",
        "        border-collapse:collapse;\n",
        "    }\n",
        "    td\n",
        "    {\n",
        "        padding:15px;\n",
        "    }\n",
        "    </style>\n",
        "    <body>\n",
        "    <table bgcolor=\"white\">\n",
        "    <col/><tr><td>o0_dreiding_o0_dreiding_4_4_cent_azomethine_ts</td><td><a href = \"files/graphene_cycloadditions/unrestricted_cycloadd_oniom/o0_dreiding_o0_dreiding_4_4_cent_azomethine_ts.com\" target = \"_blank\">com</a></td><td><input type=\"button\" value=\"Smart Log\" id=\"o0_dreiding_o0_dreiding_4_4_cent_azomethine_ts\" onclick=\"IPython.cc_notebook.view_function(event, this.id)\" /></td><td>Error: </td></tr><tr><td>o0_uff_o0_uff_4_4_cent_azomethine_ts</td><td><a href = \"files/graphene_cycloadditions/unrestricted_cycloadd_oniom/o0_uff_o0_uff_4_4_cent_azomethine_ts.com\" target = \"_blank\">com</a></td><td><input type=\"button\" value=\"Smart Log\" id=\"o0_uff_o0_uff_4_4_cent_azomethine_ts\" onclick=\"IPython.cc_notebook.view_function(event, this.id)\" /></td><td>Error: </td></tr><tr><td>o1_dreiding_o1_dreiding_4_4_cent_azomethine_ts</td><td><a href = \"files/graphene_cycloadditions/unrestricted_cycloadd_oniom/o1_dreiding_o1_dreiding_4_4_cent_azomethine_ts.com\" target = \"_blank\">com</a></td><td><input type=\"button\" value=\"Smart Log\" id=\"o1_dreiding_o1_dreiding_4_4_cent_azomethine_ts\" onclick=\"IPython.cc_notebook.view_function(event, this.id)\" /></td><td>Error: </td></tr><tr><td>o2_dreiding_o2_dreiding_4_4_cent_azomethine_ts</td><td><a href = \"files/graphene_cycloadditions/unrestricted_cycloadd_oniom/o2_dreiding_o2_dreiding_4_4_cent_azomethine_ts.com\" target = \"_blank\">com</a></td><td><input type=\"button\" value=\"Smart Log\" id=\"o2_dreiding_o2_dreiding_4_4_cent_azomethine_ts\" onclick=\"IPython.cc_notebook.view_function(event, this.id)\" /></td><td>Error: </td></tr><tr><td>o3_dreiding_o3_dreiding_4_4_cent_azomethine_ts</td><td><a href = \"files/graphene_cycloadditions/unrestricted_cycloadd_oniom/o3_dreiding_o3_dreiding_4_4_cent_azomethine_ts.com\" target = \"_blank\">com</a></td><td><input type=\"button\" value=\"Smart Log\" id=\"o3_dreiding_o3_dreiding_4_4_cent_azomethine_ts\" onclick=\"IPython.cc_notebook.view_function(event, this.id)\" /></td><td>Error: </td></tr><tr><td>o3_uff_o3_uff_4_4_cent_azomethine_ts</td><td><a href = \"files/graphene_cycloadditions/unrestricted_cycloadd_oniom/o3_uff_o3_uff_4_4_cent_azomethine_ts.com\" target = \"_blank\">com</a></td><td><input type=\"button\" value=\"Smart Log\" id=\"o3_uff_o3_uff_4_4_cent_azomethine_ts\" onclick=\"IPython.cc_notebook.view_function(event, this.id)\" /></td><td>Error: </td></tr><tr><td>o4_dreiding_o4_dreiding_4_4_cent_azomethine_ts</td><td><a href = \"files/graphene_cycloadditions/unrestricted_cycloadd_oniom/o4_dreiding_o4_dreiding_4_4_cent_azomethine_ts.com\" target = \"_blank\">com</a></td><td><input type=\"button\" value=\"Smart Log\" id=\"o4_dreiding_o4_dreiding_4_4_cent_azomethine_ts\" onclick=\"IPython.cc_notebook.view_function(event, this.id)\" /></td><td>Incomplete</td></tr><tr><td>correction/o0_dreiding_o0_dreiding_4_4_cent_carbonyl_ts</td><td><a href = \"files/graphene_cycloadditions/unrestricted_cycloadd_oniom/correction/o0_dreiding_o0_dreiding_4_4_cent_carbonyl_ts.com\" target = \"_blank\">com</a></td><td><input type=\"button\" value=\"Smart Log\" id=\"correction/o0_dreiding_o0_dreiding_4_4_cent_carbonyl_ts\" onclick=\"IPython.cc_notebook.view_function(event, this.id)\" /></td><td>Error: </td></tr><tr><td>correction/o0_uff_o0_uff_4_4_cent_carbonyl_ts</td><td><a href = \"files/graphene_cycloadditions/unrestricted_cycloadd_oniom/correction/o0_uff_o0_uff_4_4_cent_carbonyl_ts.com\" target = \"_blank\">com</a></td><td><input type=\"button\" value=\"Smart Log\" id=\"correction/o0_uff_o0_uff_4_4_cent_carbonyl_ts\" onclick=\"IPython.cc_notebook.view_function(event, this.id)\" /></td><td>Error: </td></tr><tr><td>correction/o1_dreiding_o1_dreiding_4_4_cent_carbonyl_ts</td><td><a href = \"files/graphene_cycloadditions/unrestricted_cycloadd_oniom/correction/o1_dreiding_o1_dreiding_4_4_cent_carbonyl_ts.com\" target = \"_blank\">com</a></td><td><input type=\"button\" value=\"Smart Log\" id=\"correction/o1_dreiding_o1_dreiding_4_4_cent_carbonyl_ts\" onclick=\"IPython.cc_notebook.view_function(event, this.id)\" /></td><td>Error: </td></tr><tr><td>correction/o1_uff_o1_uff_4_4_cent_carbonyl_ts</td><td><a href = \"files/graphene_cycloadditions/unrestricted_cycloadd_oniom/correction/o1_uff_o1_uff_4_4_cent_carbonyl_ts.com\" target = \"_blank\">com</a></td><td><input type=\"button\" value=\"Smart Log\" id=\"correction/o1_uff_o1_uff_4_4_cent_carbonyl_ts\" onclick=\"IPython.cc_notebook.view_function(event, this.id)\" /></td><td>Error: </td></tr><tr><td>correction/o2_dreiding_o2_dreiding_4_4_cent_carbonyl_ts</td><td><a href = \"files/graphene_cycloadditions/unrestricted_cycloadd_oniom/correction/o2_dreiding_o2_dreiding_4_4_cent_carbonyl_ts.com\" target = \"_blank\">com</a></td><td><input type=\"button\" value=\"Smart Log\" id=\"correction/o2_dreiding_o2_dreiding_4_4_cent_carbonyl_ts\" onclick=\"IPython.cc_notebook.view_function(event, this.id)\" /></td><td>Error: </td></tr><tr><td>correction/o2_uff_o2_uff_4_4_cent_carbonyl_ts</td><td><a href = \"files/graphene_cycloadditions/unrestricted_cycloadd_oniom/correction/o2_uff_o2_uff_4_4_cent_carbonyl_ts.com\" target = \"_blank\">com</a></td><td><input type=\"button\" value=\"Smart Log\" id=\"correction/o2_uff_o2_uff_4_4_cent_carbonyl_ts\" onclick=\"IPython.cc_notebook.view_function(event, this.id)\" /></td><td>Error: </td></tr><tr><td>correction/o3_dreiding_o3_dreiding_4_4_cent_carbonyl_ts</td><td><a href = \"files/graphene_cycloadditions/unrestricted_cycloadd_oniom/correction/o3_dreiding_o3_dreiding_4_4_cent_carbonyl_ts.com\" target = \"_blank\">com</a></td><td><input type=\"button\" value=\"Smart Log\" id=\"correction/o3_dreiding_o3_dreiding_4_4_cent_carbonyl_ts\" onclick=\"IPython.cc_notebook.view_function(event, this.id)\" /></td><td>Error: </td></tr><tr><td>correction/o3_uff_o3_uff_4_4_cent_carbonyl_ts</td><td><a href = \"files/graphene_cycloadditions/unrestricted_cycloadd_oniom/correction/o3_uff_o3_uff_4_4_cent_carbonyl_ts.com\" target = \"_blank\">com</a></td><td><input type=\"button\" value=\"Smart Log\" id=\"correction/o3_uff_o3_uff_4_4_cent_carbonyl_ts\" onclick=\"IPython.cc_notebook.view_function(event, this.id)\" /></td><td>Error: </td></tr><tr><td>correction/o4_dreiding_o4_dreiding_4_4_cent_carbonyl_ts</td><td><a href = \"files/graphene_cycloadditions/unrestricted_cycloadd_oniom/correction/o4_dreiding_o4_dreiding_4_4_cent_carbonyl_ts.com\" target = \"_blank\">com</a></td><td><input type=\"button\" value=\"Smart Log\" id=\"correction/o4_dreiding_o4_dreiding_4_4_cent_carbonyl_ts\" onclick=\"IPython.cc_notebook.view_function(event, this.id)\" /></td><td>Incomplete</td></tr>\n",
        "    </table>\n",
        "    </body>"
       ],
       "metadata": {},
       "output_type": "pyout",
       "prompt_number": 20,
       "text": [
        "<IPython.core.display.HTML at 0x7f80960847d0>"
       ]
      }
     ],
     "prompt_number": 20
    },
    {
     "cell_type": "code",
     "collapsed": false,
     "input": [],
     "language": "python",
     "metadata": {},
     "outputs": []
    },
    {
     "cell_type": "heading",
     "level": 3,
     "metadata": {},
     "source": [
      "High-model regions alone"
     ]
    },
    {
     "cell_type": "code",
     "collapsed": false,
     "input": [
      "#because we have set the label to include the correction/ directory we get warnings about non standard label choice\n",
      "import warnings\n",
      "warnings.simplefilter(\"ignore\")\n",
      "\n",
      "#use high models from the dreiding calculations (- dreiding for no particular reason)\n",
      "o_44_hm = copy.deepcopy({k:[m for m in o_44[k] if 'dreiding' in m.calc.label] for k in o_44})\n",
      "\n",
      "for k in o_44_hm:\n",
      "    for i, m in enumerate(o_44_hm[k]):\n",
      "        m_label = m.calc.label \\\n",
      "                      .replace('dreiding_UB3LYP_631Gd_', 'alone_') \\\n",
      "                      .replace('_init_high_model', '') \\\n",
      "                      .replace('correction/','') \\\n",
      "                      .split('_restart')[0]\n",
      "\n",
      "        #remove ghosts atoms that cause optimisation problems\n",
      "        mol = read(m.calc.log)\n",
      "        mol -= [a for a in m if a.symbol=='X']\n",
      "\n",
      "        mol.set_calculator(Gaussian(label=m_label, method='UB3LYP', basis='6-31G(d)', stable='opt'))\n",
      "        mol.calc.set_job(nodes=8, memory=8*1200, time=12, queue='pqmb', version='g09')\n",
      "        #mol.calc.start(frc=True)\n",
      "        o_44_hm[k][i] = mol\n",
      "\n",
      "o_44_hm_opt = copy.deepcopy(o_44_hm)\n",
      "for k in o_44_hm_opt:\n",
      "    for mol in o_44_hm_opt[k]:\n",
      "        new_label = mol.calc.label.replace('alone', 'alone_opt')\n",
      "\n",
      "        if 'ts' not in mol.calc.label:\n",
      "            mol.calc.restart(label=new_label, opt='opt', stable='')\n",
      "        else:\n",
      "            mol.calc.restart(label=new_label, opt='calcfc, ts, noeigen', stable='')\n",
      "        #mol.calc.start()\n",
      "    \n",
      "mols_to_html(check_calcs(unwind(o_44_hm_opt.values())))\n",
      "mols_to_html(unwind(o_44_hm_opt.values()))"
     ],
     "language": "python",
     "metadata": {},
     "outputs": [
      {
       "html": [
        "\n",
        "    <style>\n",
        "    table\n",
        "    {\n",
        "        border-collapse:collapse;\n",
        "    }\n",
        "    td\n",
        "    {\n",
        "        padding:15px;\n",
        "    }\n",
        "    </style>\n",
        "    <body>\n",
        "    <table bgcolor=\"white\">\n",
        "    <col/><tr><td>o0_alone_opt_4_4_cent_azomethine_ts</td><td><a href = \"files/graphene_cycloadditions/unrestricted_cycloadd_oniom/o0_alone_opt_4_4_cent_azomethine_ts.com\" target = \"_blank\">com</a></td><td><input type=\"button\" value=\"Smart Log\" id=\"o0_alone_opt_4_4_cent_azomethine_ts\" onclick=\"IPython.cc_notebook.view_function(event, this.id)\" /></td><td>Error: </td></tr><tr><td>o1_alone_opt_4_4_cent_azomethine_ts</td><td><a href = \"files/graphene_cycloadditions/unrestricted_cycloadd_oniom/o1_alone_opt_4_4_cent_azomethine_ts.com\" target = \"_blank\">com</a></td><td><input type=\"button\" value=\"Smart Log\" id=\"o1_alone_opt_4_4_cent_azomethine_ts\" onclick=\"IPython.cc_notebook.view_function(event, this.id)\" /></td><td>Success</td></tr><tr><td>o2_alone_opt_4_4_cent_azomethine_ts</td><td><a href = \"files/graphene_cycloadditions/unrestricted_cycloadd_oniom/o2_alone_opt_4_4_cent_azomethine_ts.com\" target = \"_blank\">com</a></td><td><input type=\"button\" value=\"Smart Log\" id=\"o2_alone_opt_4_4_cent_azomethine_ts\" onclick=\"IPython.cc_notebook.view_function(event, this.id)\" /></td><td>Success</td></tr><tr><td>o3_alone_opt_4_4_cent_azomethine_ts</td><td><a href = \"files/graphene_cycloadditions/unrestricted_cycloadd_oniom/o3_alone_opt_4_4_cent_azomethine_ts.com\" target = \"_blank\">com</a></td><td><input type=\"button\" value=\"Smart Log\" id=\"o3_alone_opt_4_4_cent_azomethine_ts\" onclick=\"IPython.cc_notebook.view_function(event, this.id)\" /></td><td>Success</td></tr><tr><td>o4_alone_opt_4_4_cent_azomethine_ts</td><td><a href = \"files/graphene_cycloadditions/unrestricted_cycloadd_oniom/o4_alone_opt_4_4_cent_azomethine_ts.com\" target = \"_blank\">com</a></td><td><input type=\"button\" value=\"Smart Log\" id=\"o4_alone_opt_4_4_cent_azomethine_ts\" onclick=\"IPython.cc_notebook.view_function(event, this.id)\" /></td><td>Success</td></tr><tr><td>o0_alone_opt_4_4_graphene</td><td><a href = \"files/graphene_cycloadditions/unrestricted_cycloadd_oniom/o0_alone_opt_4_4_graphene.com\" target = \"_blank\">com</a></td><td><input type=\"button\" value=\"Smart Log\" id=\"o0_alone_opt_4_4_graphene\" onclick=\"IPython.cc_notebook.view_function(event, this.id)\" /></td><td>Success</td></tr><tr><td>o1_alone_opt_4_4_graphene</td><td><a href = \"files/graphene_cycloadditions/unrestricted_cycloadd_oniom/o1_alone_opt_4_4_graphene.com\" target = \"_blank\">com</a></td><td><input type=\"button\" value=\"Smart Log\" id=\"o1_alone_opt_4_4_graphene\" onclick=\"IPython.cc_notebook.view_function(event, this.id)\" /></td><td>Success</td></tr><tr><td>o2_alone_opt_4_4_graphene</td><td><a href = \"files/graphene_cycloadditions/unrestricted_cycloadd_oniom/o2_alone_opt_4_4_graphene.com\" target = \"_blank\">com</a></td><td><input type=\"button\" value=\"Smart Log\" id=\"o2_alone_opt_4_4_graphene\" onclick=\"IPython.cc_notebook.view_function(event, this.id)\" /></td><td>Success</td></tr><tr><td>o3_alone_opt_4_4_graphene</td><td><a href = \"files/graphene_cycloadditions/unrestricted_cycloadd_oniom/o3_alone_opt_4_4_graphene.com\" target = \"_blank\">com</a></td><td><input type=\"button\" value=\"Smart Log\" id=\"o3_alone_opt_4_4_graphene\" onclick=\"IPython.cc_notebook.view_function(event, this.id)\" /></td><td>Success</td></tr><tr><td>o4_alone_opt_4_4_graphene</td><td><a href = \"files/graphene_cycloadditions/unrestricted_cycloadd_oniom/o4_alone_opt_4_4_graphene.com\" target = \"_blank\">com</a></td><td><input type=\"button\" value=\"Smart Log\" id=\"o4_alone_opt_4_4_graphene\" onclick=\"IPython.cc_notebook.view_function(event, this.id)\" /></td><td>Success</td></tr><tr><td>o0_alone_opt_4_4_cent_carbonyl_ts</td><td><a href = \"files/graphene_cycloadditions/unrestricted_cycloadd_oniom/o0_alone_opt_4_4_cent_carbonyl_ts.com\" target = \"_blank\">com</a></td><td><input type=\"button\" value=\"Smart Log\" id=\"o0_alone_opt_4_4_cent_carbonyl_ts\" onclick=\"IPython.cc_notebook.view_function(event, this.id)\" /></td><td>Error: </td></tr><tr><td>o1_alone_opt_4_4_cent_carbonyl_ts</td><td><a href = \"files/graphene_cycloadditions/unrestricted_cycloadd_oniom/o1_alone_opt_4_4_cent_carbonyl_ts.com\" target = \"_blank\">com</a></td><td><input type=\"button\" value=\"Smart Log\" id=\"o1_alone_opt_4_4_cent_carbonyl_ts\" onclick=\"IPython.cc_notebook.view_function(event, this.id)\" /></td><td>Error: </td></tr><tr><td>o2_alone_opt_4_4_cent_carbonyl_ts</td><td><a href = \"files/graphene_cycloadditions/unrestricted_cycloadd_oniom/o2_alone_opt_4_4_cent_carbonyl_ts.com\" target = \"_blank\">com</a></td><td><input type=\"button\" value=\"Smart Log\" id=\"o2_alone_opt_4_4_cent_carbonyl_ts\" onclick=\"IPython.cc_notebook.view_function(event, this.id)\" /></td><td>Success</td></tr><tr><td>o3_alone_opt_4_4_cent_carbonyl_ts</td><td><a href = \"files/graphene_cycloadditions/unrestricted_cycloadd_oniom/o3_alone_opt_4_4_cent_carbonyl_ts.com\" target = \"_blank\">com</a></td><td><input type=\"button\" value=\"Smart Log\" id=\"o3_alone_opt_4_4_cent_carbonyl_ts\" onclick=\"IPython.cc_notebook.view_function(event, this.id)\" /></td><td>Success</td></tr><tr><td>o4_alone_opt_4_4_cent_carbonyl_ts</td><td><a href = \"files/graphene_cycloadditions/unrestricted_cycloadd_oniom/o4_alone_opt_4_4_cent_carbonyl_ts.com\" target = \"_blank\">com</a></td><td><input type=\"button\" value=\"Smart Log\" id=\"o4_alone_opt_4_4_cent_carbonyl_ts\" onclick=\"IPython.cc_notebook.view_function(event, this.id)\" /></td><td>Success</td></tr><tr><td>o0_alone_opt_4_4_cent_carbonyl</td><td><a href = \"files/graphene_cycloadditions/unrestricted_cycloadd_oniom/o0_alone_opt_4_4_cent_carbonyl.com\" target = \"_blank\">com</a></td><td><input type=\"button\" value=\"Smart Log\" id=\"o0_alone_opt_4_4_cent_carbonyl\" onclick=\"IPython.cc_notebook.view_function(event, this.id)\" /></td><td>Success</td></tr><tr><td>o1_alone_opt_4_4_cent_carbonyl</td><td><a href = \"files/graphene_cycloadditions/unrestricted_cycloadd_oniom/o1_alone_opt_4_4_cent_carbonyl.com\" target = \"_blank\">com</a></td><td><input type=\"button\" value=\"Smart Log\" id=\"o1_alone_opt_4_4_cent_carbonyl\" onclick=\"IPython.cc_notebook.view_function(event, this.id)\" /></td><td>Success</td></tr><tr><td>o2_alone_opt_4_4_cent_carbonyl</td><td><a href = \"files/graphene_cycloadditions/unrestricted_cycloadd_oniom/o2_alone_opt_4_4_cent_carbonyl.com\" target = \"_blank\">com</a></td><td><input type=\"button\" value=\"Smart Log\" id=\"o2_alone_opt_4_4_cent_carbonyl\" onclick=\"IPython.cc_notebook.view_function(event, this.id)\" /></td><td>Success</td></tr><tr><td>o3_alone_opt_4_4_cent_carbonyl</td><td><a href = \"files/graphene_cycloadditions/unrestricted_cycloadd_oniom/o3_alone_opt_4_4_cent_carbonyl.com\" target = \"_blank\">com</a></td><td><input type=\"button\" value=\"Smart Log\" id=\"o3_alone_opt_4_4_cent_carbonyl\" onclick=\"IPython.cc_notebook.view_function(event, this.id)\" /></td><td>Success</td></tr><tr><td>o4_alone_opt_4_4_cent_carbonyl</td><td><a href = \"files/graphene_cycloadditions/unrestricted_cycloadd_oniom/o4_alone_opt_4_4_cent_carbonyl.com\" target = \"_blank\">com</a></td><td><input type=\"button\" value=\"Smart Log\" id=\"o4_alone_opt_4_4_cent_carbonyl\" onclick=\"IPython.cc_notebook.view_function(event, this.id)\" /></td><td>Success</td></tr><tr><td>o0_alone_opt_4_4_cent_azomethine</td><td><a href = \"files/graphene_cycloadditions/unrestricted_cycloadd_oniom/o0_alone_opt_4_4_cent_azomethine.com\" target = \"_blank\">com</a></td><td><input type=\"button\" value=\"Smart Log\" id=\"o0_alone_opt_4_4_cent_azomethine\" onclick=\"IPython.cc_notebook.view_function(event, this.id)\" /></td><td>Success</td></tr><tr><td>o1_alone_opt_4_4_cent_azomethine</td><td><a href = \"files/graphene_cycloadditions/unrestricted_cycloadd_oniom/o1_alone_opt_4_4_cent_azomethine.com\" target = \"_blank\">com</a></td><td><input type=\"button\" value=\"Smart Log\" id=\"o1_alone_opt_4_4_cent_azomethine\" onclick=\"IPython.cc_notebook.view_function(event, this.id)\" /></td><td>Success</td></tr><tr><td>o2_alone_opt_4_4_cent_azomethine</td><td><a href = \"files/graphene_cycloadditions/unrestricted_cycloadd_oniom/o2_alone_opt_4_4_cent_azomethine.com\" target = \"_blank\">com</a></td><td><input type=\"button\" value=\"Smart Log\" id=\"o2_alone_opt_4_4_cent_azomethine\" onclick=\"IPython.cc_notebook.view_function(event, this.id)\" /></td><td>Success</td></tr><tr><td>o3_alone_opt_4_4_cent_azomethine</td><td><a href = \"files/graphene_cycloadditions/unrestricted_cycloadd_oniom/o3_alone_opt_4_4_cent_azomethine.com\" target = \"_blank\">com</a></td><td><input type=\"button\" value=\"Smart Log\" id=\"o3_alone_opt_4_4_cent_azomethine\" onclick=\"IPython.cc_notebook.view_function(event, this.id)\" /></td><td>Success</td></tr><tr><td>o4_alone_opt_4_4_cent_azomethine</td><td><a href = \"files/graphene_cycloadditions/unrestricted_cycloadd_oniom/o4_alone_opt_4_4_cent_azomethine.com\" target = \"_blank\">com</a></td><td><input type=\"button\" value=\"Smart Log\" id=\"o4_alone_opt_4_4_cent_azomethine\" onclick=\"IPython.cc_notebook.view_function(event, this.id)\" /></td><td>Success</td></tr>\n",
        "    </table>\n",
        "    </body>"
       ],
       "metadata": {},
       "output_type": "pyout",
       "prompt_number": 21,
       "text": [
        "<IPython.core.display.HTML at 0x7f8094258390>"
       ]
      }
     ],
     "prompt_number": 21
    },
    {
     "cell_type": "markdown",
     "metadata": {},
     "source": [
      "Checking high_model calcs [here](testing high real calcs.ipynb)"
     ]
    },
    {
     "cell_type": "heading",
     "level": 3,
     "metadata": {},
     "source": [
      "Low-real regions alone"
     ]
    },
    {
     "cell_type": "code",
     "collapsed": false,
     "input": [
      "o_44_lr = {k:[] for k in o_44}\n",
      "\n",
      "ylides = []\n",
      "for ylide_str, ylide_log in zip(['azomethine_ylide', 'carbonyl_ylide'], [azo_log, carb_log]):\n",
      "    for meth in l_methods:\n",
      "        \n",
      "        try:\n",
      "            m, b = meth.split('/')\n",
      "        except ValueError:\n",
      "            m, b = meth, ''\n",
      "        \n",
      "        stable_str = 'opt' if m not in ['uff', 'dreiding'] else ''\n",
      "        \n",
      "        ylide_alone = read(ylide_log)\n",
      "        #break sym to avoid transition states\n",
      "        ylide_alone.rattle(stdev=0.05)\n",
      "        ylide_name= '{m}_{m}_{y}'.format(m=meth.replace('/', '_'), y=ylide_str)\n",
      "        ylide_alone.set_calculator(Gaussian(label=ylide_name, method=m, basis=b, stable=stable_str))\n",
      "        ylide_alone.calc.set_job(nodes=8, memory=8*1200, time=2, queue='pqmb', version='g09')                                \n",
      "        #ylide_alone.calc.start()\n",
      "        ylides.append(ylide_alone)\n",
      "        \n",
      "for ylide_alone in ylides:\n",
      "    ylide_alone.calc.restart(stable='', opt='opt')\n",
      "#    #ylide_alone.calc.start()\n",
      "    \n",
      "for ylide_str in o_44_lr:\n",
      "    for meth in l_methods:\n",
      "        \n",
      "        try:\n",
      "            m, b = meth.split('/')\n",
      "        except ValueError:\n",
      "            m, b = meth, ''\n",
      "\n",
      "        stable_str = 'opt' if m not in ['uff', 'dreiding'] else ''\n",
      "        \n",
      "        graph_ylid = read(xyz[ylide_str])\n",
      "        graph_ylid_name = '{m}_UB3LYP_631Gd_4_4_{y}'.format(m=meth.replace('/', '_'), y=ylide_str)\n",
      "        graph_ylid.set_calculator(Gaussian(label=graph_ylid_name, method=m, basis=b, stable=stable_str))\n",
      "        graph_ylid.calc.set_job(nodes=8, memory=8*1200, time=2, queue='pqmb', version='g09')                                \n",
      "        #graph_ylid.calc.start()        \n",
      "        o_44_lr[ylide_str].append(graph_ylid)\n",
      "        \n",
      "o_44_lr_opt = copy.deepcopy(o_44_lr)\n",
      "\n",
      "for mol in unwind(o_44_lr_opt.values()):\n",
      "    new_label = mol.calc.label.split('UB3LYP_631Gd_')[0] *2 + \\\n",
      "                mol.calc.label.split('UB3LYP_631Gd_')[1]\n",
      "            \n",
      "    if 'ts' not in mol.calc.label:\n",
      "        mol.calc.restart(label=new_label, opt='opt', stable='')\n",
      "    else:\n",
      "        mol.calc.restart(label=new_label, opt='calcfc, ts, noeigen', stable='')\n",
      "    #mol.calc.start()\n",
      "\n",
      "#ts calculations with forcefields fail (because there are no transitions states on the forcefield PES)\n",
      "mols_to_html(check_calcs(unwind(o_44_lr_opt.values()) + ylides))"
     ],
     "language": "python",
     "metadata": {},
     "outputs": [
      {
       "html": [
        "\n",
        "    <style>\n",
        "    table\n",
        "    {\n",
        "        border-collapse:collapse;\n",
        "    }\n",
        "    td\n",
        "    {\n",
        "        padding:15px;\n",
        "    }\n",
        "    </style>\n",
        "    <body>\n",
        "    <table bgcolor=\"white\">\n",
        "    <col/><tr><td>dreiding_dreiding_4_4_cent_azomethine_ts</td><td><a href = \"files/graphene_cycloadditions/unrestricted_cycloadd_oniom/dreiding_dreiding_4_4_cent_azomethine_ts.com\" target = \"_blank\">com</a></td><td><input type=\"button\" value=\"Smart Log\" id=\"dreiding_dreiding_4_4_cent_azomethine_ts\" onclick=\"IPython.cc_notebook.view_function(event, this.id)\" /></td><td>Error: </td></tr><tr><td>uff_uff_4_4_cent_azomethine_ts</td><td><a href = \"files/graphene_cycloadditions/unrestricted_cycloadd_oniom/uff_uff_4_4_cent_azomethine_ts.com\" target = \"_blank\">com</a></td><td><input type=\"button\" value=\"Smart Log\" id=\"uff_uff_4_4_cent_azomethine_ts\" onclick=\"IPython.cc_notebook.view_function(event, this.id)\" /></td><td>Error: </td></tr><tr><td>dreiding_dreiding_4_4_cent_carbonyl_ts</td><td><a href = \"files/graphene_cycloadditions/unrestricted_cycloadd_oniom/dreiding_dreiding_4_4_cent_carbonyl_ts.com\" target = \"_blank\">com</a></td><td><input type=\"button\" value=\"Smart Log\" id=\"dreiding_dreiding_4_4_cent_carbonyl_ts\" onclick=\"IPython.cc_notebook.view_function(event, this.id)\" /></td><td>Error: </td></tr><tr><td>uff_uff_4_4_cent_carbonyl_ts</td><td><a href = \"files/graphene_cycloadditions/unrestricted_cycloadd_oniom/uff_uff_4_4_cent_carbonyl_ts.com\" target = \"_blank\">com</a></td><td><input type=\"button\" value=\"Smart Log\" id=\"uff_uff_4_4_cent_carbonyl_ts\" onclick=\"IPython.cc_notebook.view_function(event, this.id)\" /></td><td>Error: </td></tr>\n",
        "    </table>\n",
        "    </body>"
       ],
       "metadata": {},
       "output_type": "pyout",
       "prompt_number": 22,
       "text": [
        "<IPython.core.display.HTML at 0x7f8095246850>"
       ]
      }
     ],
     "prompt_number": 22
    },
    {
     "cell_type": "markdown",
     "metadata": {},
     "source": [
      "Checking low_real calcs [here](testing low real calcs.ipynb)"
     ]
    },
    {
     "cell_type": "heading",
     "level": 3,
     "metadata": {},
     "source": [
      "Data plots"
     ]
    },
    {
     "cell_type": "code",
     "collapsed": false,
     "input": [
      "azo,carb = read(azo_log), read(carb_log)\n",
      "azo.calc.energy_zero = azo.calc.results['energy']\n",
      "carb.calc.energy_zero = carb.calc.results['energy']\n",
      "\n",
      "#merge data\n",
      "o_44_master = {k:o_44[k] + o_44_lr[k] + o_44_hm[k] for k in o_44}\n",
      "o_44_opt_master = {k:o_44_opt[k] + o_44_lr_opt[k] + o_44_hm_opt[k] for k in o_44_opt}\n",
      "\n",
      "def rxn_E_f(prod,reacts):\n",
      "    try: \n",
      "        return 23.060542301388647 * (prod.calc.energy_zero - sum([r.calc.energy_zero for r in reacts])) \n",
      "    except AttributeError: \n",
      "        return float('nan')\n",
      "\n",
      "ub3lyp_rxn_data = {'cent_azomethine':6.218933,'cent_carbonyl':-15.790776}\n",
      "ub3lyp_ts_height_data = {'cent_azomethine_ts':16.867832956810616,'cent_carbonyl_ts':31.281099594648797}\n",
      "\n",
      "def get_ylide(g_y):\n",
      "    if 'carbonyl' in g_y.calc.label and ('oniom' in g_y.calc.method or 'alone' in g_y.calc.label):\n",
      "        return carb\n",
      "    elif 'oniom' in g_y.calc.method or 'alone' in g_y.calc.label:\n",
      "        return azo\n",
      "    elif 'carbonyl' in g_y.calc.label:\n",
      "        return next(ylide for ylide in ylides if ylide.calc.method == g_y.calc.method and 'carbonyl' in ylide.calc.label)\n",
      "    else:\n",
      "        return next(ylide for ylide in ylides if ylide.calc.method == g_y.calc.method and 'azomethine' in ylide.calc.label)\n",
      "\n",
      "    \n",
      "rxn_data = []\n",
      "#rxn_data2 = []\n",
      "\n",
      "for calcs in [o_44_master, o_44_opt_master]:\n",
      "    for ylide_str in [k for k in calcs if 'ts' not in k and 'graphene' != k]:\n",
      "        solo_ylides = map(get_ylide, calcs[ylide_str])\n",
      "        products = calcs[ylide_str]\n",
      "        reactants = zip(calcs['graphene'], solo_ylides)\n",
      "        \n",
      "        names = [p.calc.label for p in products]\n",
      "        rxn_es = [rxn_E_f(p,r) for p,r in zip(products, reactants)]\n",
      "        delt_es = [rxn_e - ub3lyp_rxn_data[ylide_str] for rxn_e in rxn_es]\n",
      "        abs_delt_es = map(abs, delt_es)\n",
      "        abs_delt_data = pandas.Series(abs_delt_es, names)\n",
      "\n",
      "        rxn_data.append(abs_delt_data)\n",
      "        #rxn_data2.append(gen_energy_table(products, reactants, delta=ub3lyp_rxn_data[ylide_str]))\n",
      "                     \n",
      "ts_data = []            \n",
      "for calcs in [o_44_master, o_44_opt_master]:\n",
      "    for ylide_str in [k for k in calcs if 'ts' in k]:\n",
      "        products = calcs[ylide_str]\n",
      "        reactant_key = ylide_str.replace('_ts', '')\n",
      "        reactants = zip(calcs[reactant_key])\n",
      "        \n",
      "        names = [p.calc.label for p in products]\n",
      "        rxn_es = [rxn_E_f(p,r) for p,r in zip(products, reactants)]\n",
      "        delt_es = [rxn_e - ub3lyp_ts_height_data[ylide_str] for rxn_e in rxn_es]\n",
      "        abs_delt_es = map(abs, delt_es)\n",
      "        abs_delt_data = pandas.Series(abs_delt_es, names)\n",
      "\n",
      "        ts_data.append(abs_delt_data)\n",
      "#        ts_data.append(gen_energy_table(products, reactants, delta=ub3lyp_ts_height_data[ylide_str]))"
     ],
     "language": "python",
     "metadata": {},
     "outputs": [],
     "prompt_number": 23
    },
    {
     "cell_type": "code",
     "collapsed": false,
     "input": [
      "#mols_to_html(o_44_opt['cent_azomethine_ts'])"
     ],
     "language": "python",
     "metadata": {},
     "outputs": [],
     "prompt_number": 24
    },
    {
     "cell_type": "code",
     "collapsed": false,
     "input": [
      "#from pickle import load\n",
      "#with open ('oniom_carb_abs_rxn_error.pickle') as data_f:\n",
      "#    carb_rxn_e = load(data_f)\n",
      "#with open ('oniom_azo_abs_rxn_error.pickle') as data_f:\n",
      "#    azo_rxn_e = load(data_f)\n",
      "\n",
      "carb_rxn_e = rxn_data[2]\n",
      "azo_rxn_e = rxn_data[3]\n",
      "carb_rxn_e.rename(lambda l: l.split('_o')[0].replace('correction/','').replace('_4_4_cent_carbonyl',''), inplace=True)\n",
      "azo_rxn_e.rename(lambda l: l.split('_o')[0].replace('_4_4_cent_azomethine',''), inplace=True)\n",
      "\n",
      "carb_rxn_e.rename(lambda l: l.replace('o0', 'Model1').replace('o1', 'Model2').replace('o2', 'Model3').replace('o3', 'Model4').replace('o4', 'Model5'), inplace=True)\n",
      "azo_rxn_e.rename(lambda l: l.replace('o0', 'Model1').replace('o1', 'Model2').replace('o2', 'Model3').replace('o3', 'Model4').replace('o4', 'Model5'), inplace=True)\n",
      "\n",
      "carb_rxn_e.rename(lambda l: l.replace('uam1_', '').replace('upm6_', '').replace('uff_', '').replace('dreiding_', '').replace('uHF_STO-3G_', ''), inplace=True)\n",
      "azo_rxn_e.rename(lambda l: l.replace('uam1_', '').replace('upm6_', '').replace('uff_', '').replace('dreiding_', '').replace('uHF_STO-3G_', ''), inplace=True)"
     ],
     "language": "python",
     "metadata": {},
     "outputs": [],
     "prompt_number": 25
    },
    {
     "cell_type": "code",
     "collapsed": false,
     "input": [
      "azo_r_key = 'Azo Rxn E Error /Kcalmol^-1'\n",
      "carb_r_key = 'Carb Rxn E Error /Kcalmol^-1'\n",
      "\n",
      "plotting_frame = pandas.DataFrame({azo_r_key: azo_rxn_e, \n",
      "                                   carb_r_key: carb_rxn_e}).T\n",
      "\n",
      "# Create a figure of given size\n",
      "fig = plt.figure(figsize=(10,12))\n",
      "# Add a subplot\n",
      "ax = fig.add_subplot(111)\n",
      "# Set title\n",
      "ttl = 'Absolute Reaction Energy Errors'\n",
      "# Set color transparency (0: transparent; 1: solid)\n",
      "a = 0.7\n",
      "# Create a colormap\n",
      "#customcmap = [(x/24.0,  x/48.0, 0.05) for x in range(10)]\n",
      "plotting_frame.T.sort(azo_r_key).plot(kind='barh', ax=ax, alpha=a, legend=False,\n",
      "                      edgecolor='w', xlim=(0,35), title=ttl)\n",
      "\n",
      "# Remove grid lines (dotted lines inside plot)\n",
      "ax.grid(False)\n",
      "# Remove plot frame\n",
      "ax.set_frame_on(False)\n",
      "# Pandas trick: remove weird dotted line on axis\n",
      "ax.lines[0].set_visible(False)\n",
      " \n",
      "# Customize title, set position, allow space on top of plot for title\n",
      "ax.set_title(ax.get_title(), fontsize=26, alpha=a, ha='left')\n",
      "plt.subplots_adjust(top=0.9)\n",
      "ax.title.set_position((0,1.08))\n",
      " \n",
      "# Set x axis label on top of plot, set label text\n",
      "ax.xaxis.set_label_position('top')\n",
      "xlab = 'Error (in Kcal/mol)'\n",
      "ax.set_xlabel(xlab, fontsize=20, alpha=a, ha='left')\n",
      "ax.xaxis.set_label_coords(0, 1.04)\n",
      " \n",
      "# Position x tick labels on top\n",
      "ax.xaxis.tick_top()\n",
      "# Remove tick lines in x and y axes\n",
      "ax.yaxis.set_ticks_position('none')\n",
      "ax.xaxis.set_ticks_position('none')\n",
      " \n",
      "# Customize x tick lables\n",
      "xticks = [2.5, 5,10,20, 35]\n",
      "ax.xaxis.set_ticks(xticks)\n",
      "ax.set_xticklabels(xticks, fontsize=16, alpha=a)\n",
      " \n",
      "# Customize y tick labels\n",
      "yticks = [item.get_text() for item in ax.get_yticklabels()]\n",
      "y_labels = ax.set_yticklabels(yticks, fontsize=16, alpha=a)\n",
      "ax.yaxis.set_tick_params(pad=12)  \n",
      "[m.set_color('purple') for m in ax.get_yticklabels() if 'alone' in m.get_text()]\n",
      "[m.set_color('yellow') for m in ax.get_yticklabels() if 'model' not in m.get_text().lower()]\n",
      "\n",
      "\n",
      "# Legend\n",
      "# Create fake labels for legend\n",
      "l1 = Line2D([], [], linewidth=12, color='g', alpha=a) \n",
      "l2 = Line2D([], [], linewidth=12, color='b', alpha=a) \n",
      " \n",
      "# Set three legend labels to be min, mean and max of countries extensions \n",
      "# (rounded up to 10k km2)\n",
      "labels = ['Carbonyl', 'Azomethine']\n",
      " \n",
      " \n",
      "# Position legend in lower right part\n",
      "# Set ncol=3 for horizontally expanding legend\n",
      "leg = ax.legend([l1, l2], labels, ncol=2, frameon=False, fontsize=16, \n",
      "                bbox_to_anchor=[1.1, 0.11], handlelength=2, \n",
      "                handletextpad=1, columnspacing=2, title='Ylide Substituent')\n",
      " \n",
      "# Customize legend title\n",
      "# Set position to increase space between legend and labels\n",
      "plt.setp(leg.get_title(), fontsize=20, alpha=a)\n",
      "leg.get_title().set_position((0, 10))\n",
      "# Customize transparency for legend labels\n",
      "[plt.setp(label, alpha=a) for label in leg.get_texts()]\n",
      "\n",
      "fig.savefig('/home/clyde/Project/Posters/rxn_es_v2.svg', bbox_inches='tight')"
     ],
     "language": "python",
     "metadata": {},
     "outputs": [],
     "prompt_number": 26
    },
    {
     "cell_type": "code",
     "collapsed": false,
     "input": [
      "carb_ts_e = ts_data[3]\n",
      "azo_ts_e = ts_data[2]\n",
      "carb_ts_e.rename(lambda l: l.split('_o')[0].replace('correction/','').replace('_4_4_cent_carbonyl_ts',''), inplace=True)\n",
      "azo_ts_e.rename(lambda l: l.split('_o')[0].replace('_4_4_cent_azomethine_ts',''), inplace=True)\n",
      "\n",
      "carb_ts_e.rename(lambda l: l.replace('o0', 'Model1').replace('o1', 'Model2').replace('o2', 'Model3').replace('o3', 'Model4').replace('o4', 'Model5'), inplace=True)\n",
      "azo_ts_e.rename(lambda l: l.replace('o0', 'Model1').replace('o1', 'Model2').replace('o2', 'Model3').replace('o3', 'Model4').replace('o4', 'Model5'), inplace=True)\n",
      "\n",
      "carb_ts_e.rename(lambda l: l.replace('uam1_', '').replace('upm6_', '').replace('uff_', '').replace('dreiding_', '').replace('uHF_STO-3G_', ''), inplace=True)\n",
      "azo_ts_e.rename(lambda l: l.replace('uam1_', '').replace('upm6_', '').replace('uff_', '').replace('dreiding_', '').replace('uHF_STO-3G_', ''), inplace=True)"
     ],
     "language": "python",
     "metadata": {},
     "outputs": [],
     "prompt_number": 27
    },
    {
     "cell_type": "code",
     "collapsed": false,
     "input": [
      "azo_ts_key = 'Azo Ts E Error /Kcalmol^-1'\n",
      "carb_ts_key = 'Carb Ts E Error /Kcalmol^-1'\n",
      "\n",
      "plotting_frame = pandas.DataFrame({azo_ts_key: azo_ts_e.dropna(), \n",
      "                                   carb_ts_key: carb_ts_e.dropna()}).T\n",
      "\n",
      "# Create a figure of given size\n",
      "fig = plt.figure(figsize=(10,12))\n",
      "# Add a subplot\n",
      "ax = fig.add_subplot(111)\n",
      "# Set title\n",
      "ttl = 'Absolute Energy Barrier Height Errors'\n",
      "# Set color transparency (0: transparent; 1: solid)\n",
      "a = 0.7\n",
      "# Create a colormap\n",
      "#customcmap = [(x/24.0,  x/48.0, 0.05) for x in range(10)]\n",
      "plotting_frame.T.sort(azo_ts_key).plot(kind='barh', ax=ax, alpha=a, legend=False,\n",
      "                      edgecolor='w', xlim=(0,max(plotting_frame.T[azo_ts_key])), title=ttl)\n",
      "\n",
      "# Remove grid lines (dotted lines inside plot)\n",
      "ax.grid(False)\n",
      "# Remove plot frame\n",
      "ax.set_frame_on(False)\n",
      "# Pandas trick: remove weird dotted line on axis\n",
      "ax.lines[0].set_visible(False)\n",
      " \n",
      "# Customize title, set position, allow space on top of plot for title\n",
      "ax.set_title(ax.get_title(), fontsize=26, alpha=a, ha='left')\n",
      "plt.subplots_adjust(top=0.9)\n",
      "ax.title.set_position((0,1.08))\n",
      " \n",
      "# Set x axis label on top of plot, set label text\n",
      "ax.xaxis.set_label_position('top')\n",
      "xlab = 'Error (in Kcal/mol)'\n",
      "ax.set_xlabel(xlab, fontsize=20, alpha=a, ha='left')\n",
      "ax.xaxis.set_label_coords(0, 1.04)\n",
      " \n",
      "# Position x tick labels on top\n",
      "ax.xaxis.tick_top()\n",
      "# Remove tick lines in x and y axes\n",
      "ax.yaxis.set_ticks_position('none')\n",
      "ax.xaxis.set_ticks_position('none')\n",
      " \n",
      "# Customize x tick lables\n",
      "xticks = [1, 2.5, 5,10,20]\n",
      "ax.xaxis.set_ticks(xticks)\n",
      "ax.set_xticklabels(xticks, fontsize=16, alpha=a)\n",
      " \n",
      "# Customize y tick labels\n",
      "yticks = [item.get_text() for item in ax.get_yticklabels()]\n",
      "ax.set_yticklabels(yticks, fontsize=16, alpha=a)\n",
      "ax.yaxis.set_tick_params(pad=12)\n",
      "[m.set_color('purple') for m in ax.get_yticklabels() if 'alone' in m.get_text()]\n",
      "[m.set_color('yellow') for m in ax.get_yticklabels() if 'model' not in m.get_text().lower()]\n",
      "\n",
      "# Legend\n",
      "# Create fake labels for legend\n",
      "l1 = Line2D([], [], linewidth=12, color='g', alpha=a) \n",
      "l2 = Line2D([], [], linewidth=12, color='b', alpha=a) \n",
      " \n",
      "# Set three legend labels to be min, mean and max of countries extensions \n",
      "# (rounded up to 10k km2)\n",
      "labels = ['Carbonyl', 'Azomethine']\n",
      " \n",
      " \n",
      "# Position legend in lower right part\n",
      "# Set ncol=3 for horizontally expanding legend\n",
      "leg = ax.legend([l1, l2], labels, ncol=2, frameon=False, fontsize=16, \n",
      "                bbox_to_anchor=[1.1, 0.11], handlelength=2, \n",
      "                handletextpad=1, columnspacing=2, title='Ylide Substituent')\n",
      " \n",
      "# Customize legend title\n",
      "# Set position to increase space between legend and labels\n",
      "plt.setp(leg.get_title(), fontsize=20, alpha=a)\n",
      "leg.get_title().set_position((0, 10))\n",
      "# Customize transparency for legend labels\n",
      "[plt.setp(label, alpha=a) for label in leg.get_texts()]\n",
      "\n",
      "fig.savefig('/home/clyde/Project/Posters/ts_es_v2.svg', bbox_inches='tight')"
     ],
     "language": "python",
     "metadata": {},
     "outputs": [],
     "prompt_number": 28
    },
    {
     "cell_type": "code",
     "collapsed": false,
     "input": [
      "#high model alone\n",
      "#low real alone\n",
      "\n",
      "# (via width and/or colour?: http://datasciencelab.wordpress.com/2013/12/21/beautiful-plots-with-pandas-and-matplotlib/)"
     ],
     "language": "python",
     "metadata": {},
     "outputs": []
    },
    {
     "cell_type": "code",
     "collapsed": false,
     "input": [],
     "language": "python",
     "metadata": {},
     "outputs": []
    }
   ],
   "metadata": {}
  }
 ]
}