{
 "metadata": {
  "name": "",
  "signature": "sha256:1e30dff988d91db36898f084dce01db886036cd3f891d1170b63f0f3c1ed653b"
 },
 "nbformat": 3,
 "nbformat_minor": 0,
 "worksheets": [
  {
   "cells": [
    {
     "cell_type": "markdown",
     "metadata": {},
     "source": [
      "Continuing on from [the cycloaddition project](Unrestricted_graphene_oniom_cycloadditions_final.ipynb) we now test our hypothesis that matching fragment relative position and topology together with a PM6 low level method gives reasonable results for oniom on graphitic nanofragments."
     ]
    },
    {
     "cell_type": "code",
     "collapsed": false,
     "input": [
      "%pylab inline"
     ],
     "language": "python",
     "metadata": {},
     "outputs": [
      {
       "output_type": "stream",
       "stream": "stdout",
       "text": [
        "Populating the interactive namespace from numpy and matplotlib\n"
       ]
      }
     ],
     "prompt_number": 1
    },
    {
     "cell_type": "code",
     "collapsed": false,
     "input": [
      "#from cc_notebook import cc_notebook_utils\n",
      "from ase.io import read, write\n",
      "from gausspy import Gaussian\n",
      "from ase_extensions.ase_utils import *\n",
      "from cc_notebook.cc_notebook_utils import *\n",
      "from gausspy.oniom_utils import oniom_stable\n",
      "from gausspy.gaussian_job_manager import on_server\n",
      "from cclib.parser.utils import convertor\n",
      "import pandas\n",
      "from __future__ import print_function\n",
      "pandas.set_option('display.max_rows', 200)\n",
      "pandas.set_option('display.max_columns', 10)\n",
      "o_stable = on_server(oniom_stable)\n",
      "\n",
      "to_kcal = lambda e: convertor(e, 'eV', 'kcal')\n",
      "#from adsy import display as ad_disp\n",
      "#ad_disp.extended_styles()"
     ],
     "language": "python",
     "metadata": {},
     "outputs": [
      {
       "output_type": "stream",
       "stream": "stderr",
       "text": [
        "WARNING:root:libint extension not found, switching to normal ERI computation\n"
       ]
      },
      {
       "javascript": [
        "\n",
        "require(['nbextensions/cc_notebook'])\n",
        "require(['nbextensions/jsmol/JSmol.min.nojq'])\n"
       ],
       "metadata": {},
       "output_type": "display_data",
       "text": [
        "<IPython.core.display.Javascript at 0x7f473389de10>"
       ]
      }
     ],
     "prompt_number": 2
    },
    {
     "cell_type": "code",
     "collapsed": false,
     "input": [
      "data = [1,2,2,2,2,3,4,5,6,6,7,8,9,]\n",
      "h_data=hist(data)\n",
      "\n",
      "data, bins, plt = h_data\n",
      "\n",
      "data, bins"
     ],
     "language": "python",
     "metadata": {},
     "outputs": [
      {
       "metadata": {},
       "output_type": "pyout",
       "prompt_number": 38,
       "text": [
        "(array([ 1.,  4.,  1.,  1.,  0.,  1.,  2.,  1.,  1.,  1.]),\n",
        " array([ 1. ,  1.8,  2.6,  3.4,  4.2,  5. ,  5.8,  6.6,  7.4,  8.2,  9. ]))"
       ]
      },
      {
       "metadata": {},
       "output_type": "display_data",
       "png": "[encoded data removed]",
       "text": [
        "<matplotlib.figure.Figure at 0x7f472d295ad0>"
       ]
      }
     ],
     "prompt_number": 38
    },
    {
     "cell_type": "code",
     "collapsed": false,
     "input": [
      "[(bins[i]+bins[i+1])/2 for i in range(len(bins)-1)]"
     ],
     "language": "python",
     "metadata": {},
     "outputs": [
      {
       "metadata": {},
       "output_type": "pyout",
       "prompt_number": 40,
       "text": [
        "[1.3999999999999999,\n",
        " 2.2000000000000002,\n",
        " 3.0,\n",
        " 3.8000000000000003,\n",
        " 4.5999999999999996,\n",
        " 5.4000000000000004,\n",
        " 6.2000000000000011,\n",
        " 7.0,\n",
        " 7.7999999999999998,\n",
        " 8.5999999999999996]"
       ]
      }
     ],
     "prompt_number": 40
    },
    {
     "cell_type": "code",
     "collapsed": false,
     "input": [
      "(bins[1:] + bins[0:-1])/2"
     ],
     "language": "python",
     "metadata": {},
     "outputs": [
      {
       "metadata": {},
       "output_type": "pyout",
       "prompt_number": 36,
       "text": [
        "array([ 1.4,  2.2,  3. ,  3.8,  4.6,  5.4,  6.2,  7. ,  7.8,  8.6])"
       ]
      }
     ],
     "prompt_number": 36
    },
    {
     "cell_type": "code",
     "collapsed": false,
     "input": [
      "cd hypothesis_testing/"
     ],
     "language": "python",
     "metadata": {},
     "outputs": [
      {
       "output_type": "stream",
       "stream": "stdout",
       "text": [
        "/home/clyde/Dropbox/Project Stuff/Notebooks/graphene_cycloadditions/hypothesis_testing\n"
       ]
      }
     ],
     "prompt_number": 3
    },
    {
     "cell_type": "code",
     "collapsed": false,
     "input": [
      "carb_atom_ids = [122, 123, 124, 125, 126, 127, 128] \n",
      "azo_atom_ids =  [122, 123, 124, 125, 126, 127, 128, 129]\n",
      "\n",
      "o2_graph_atom_ids = [[50, 51, 31, 30, 29, 28, 27, 47, 48, 49, 71, 72, 52, 53, 54, 32],\n",
      "                     [72, 71, 52, 51, 50, 49, 48, 68, 69, 70, 85, 86, 73, 74, 75, 53],\n",
      "                     [86, 85, 73, 72, 71, 70, 69, 82, 83, 84, 91, 92, 87, 88, 89, 74, 113,116, 117, 114],\n",
      "                     [86, 85, 73, 72, 71, 70, 69, 82, 83, 84, 91, 92, 87, 88, 89, 74, 113,116, 117, 114],\n",
      "                     [50, 51, 31, 30, 29, 28, 27, 47, 48, 49, 71, 72, 52, 53, 54, 32],\n",
      "                     [70, 71, 72, 52, 51, 50, 28, 27, 47, 46, 45, 67, 68, 69, 48, 49],\n",
      "                     [82, 69, 70, 71, 49, 48, 47, 46, 45, 44, 64, 65, 66, 81, 68, 67, 112,109],\n",
      "                     [82, 69, 70, 71, 49, 48, 47, 46, 45, 44, 64, 65, 66, 81, 68, 67, 112,109]]\n",
      "\n",
      "o3_graph_atom_ids = [o2_graph_atom_ids[0] + [13,12,11,10,26,25,24,47,46,55,35,34,33,15,14],\n",
      "                     o2_graph_atom_ids[2] + [81, 66, 67, 68, 48, 49, 50, 51, 52, 53, 75, 76, 77, 90, 112, 113, 116, 117, 114, 115],\n",
      "                     o2_graph_atom_ids[2] + [81, 66, 67, 68, 48, 49, 50, 51, 52, 53, 75, 76, 77, 90, 112, 113, 116, 117, 114, 115],\n",
      "                     o2_graph_atom_ids[3] + [81, 66, 67, 68, 48, 49, 50, 51, 52, 53, 75, 76, 77, 90, 112, 113, 116, 117, 114, 115],\n",
      "                     o2_graph_atom_ids[4] + [55,56,76,75,74,73,86,85,70,69,68,67,45,46],#[55,35,34,33,15,14,13,12,11,10,26,25,24,46],\n",
      "                     o2_graph_atom_ids[5] + [53,75,74,73,86,85,84,83,82,81,66,65,64,44, 113,112,109],#[53,54,32,31,30,29,11,10,26,25,24,23,43,44],\n",
      "                     o2_graph_atom_ids[5] + [53,75,74,73,86,85,84,83,82,81,66,65,64,44, 113,112,109],#[72,52,51,50,28,27,26,25,24,23,43,42,41,63, 108],\n",
      "                     o2_graph_atom_ids[5] + [53,75,74,73,86,85,84,83,82,81,66,65,64,44, 113,112,109]]#[83,84,85,86,72,73,74,75,53,52,51,50,28,27, 113]]\n",
      "\n",
      "o4_graph_atom_ids = [o3_graph_atom_ids[0] + [13,12,11,10,26,25,24,23,43,44,45,46,67,68,69,70,85,86,73,74,75,76,55,56,57,58,36,35,34,33,15,14],\n",
      "                     o3_graph_atom_ids[1] + [30,29,28,27,47,46,45,44,64,65,66,67,81,82,83,84,91,92,87,88,89,90,76, 77,78,79,57,56,55,54,32,31,109,110,112,113,116,117,114,115],\n",
      "                     o3_graph_atom_ids[1] + [30,29,28,27,47,46,45,44,64,65,66,67,81,82,83,84,91,92,87,88,89,90,76, 77,78,79,57,56,55,54,32,31,109,110,112,113,116,117,114,115],\n",
      "                     o3_graph_atom_ids[1] + [30,29,28,27,47,46,45,44,64,65,66,67,81,82,83,84,91,92,87,88,89,90,76, 77,78,79,57,56,55,54,32,31,109,110,112,113,116,117,114,115],\n",
      "                     o3_graph_atom_ids[4] + [36,57,58,23,43,44,55,35,34,33,15,14,13,12,11,10,26,25,24,46],#37,58#[36,58,57,56,76,75,74,73,86, 85,70,69,68,67,45,44,43,23],\n",
      "                     o3_graph_atom_ids[5] + [55,56,76,42,41,63,53,54,32,31,30,29,11,10,26,25,24,23,43,44, 108],#[55,56,76,75,74,73,86,85,84,83,82,81,66, 65,64,63,41,42, 113,112,109,108],\n",
      "                     o3_graph_atom_ids[5] + [55,56,76,42,41,63,53,54,32,31,30,29,11,10,26,25,24,23,43,44, 108],#[55,56,76,75,74,73,86,85,84,83,82,81,66, 65,64,63,41,42, 113,112,109,108],\n",
      "                     o3_graph_atom_ids[5] + [55,56,76,42,41,63,53,54,32,31,30,29,11,10,26,25,24,23,43,44, 108]]#[55,56,76,75,74,73,86,85,84,83,82,81,66, 65,64,63,41,42, 113,112,109,108]]\n",
      "\n",
      "rxn_inds =   [[51,50], [72,71], [86,85], [92,91]]\n",
      "rxn_inds_2 = [[52,51], [71,49], [69,68], [81,66]]"
     ],
     "language": "python",
     "metadata": {},
     "outputs": [],
     "prompt_number": 4
    },
    {
     "cell_type": "code",
     "collapsed": false,
     "input": [
      "#import ase\n",
      "\n",
      "#o2 = ase.Atoms([graph_66[i] for i in o2_graph_atom_ids[0]])\n",
      "#o3 = ase.Atoms([graph_66[i] for i in o3_graph_atom_ids[0]])\n",
      "#o4 = ase.Atoms([graph_66[i] for i in o4_graph_atom_ids[0]])\n",
      "\n",
      "#o2.write('o2.xyz')\n",
      "#o3.write('o3.xyz')\n",
      "#o4.write('o4.xyz')"
     ],
     "language": "python",
     "metadata": {},
     "outputs": [],
     "prompt_number": 5
    },
    {
     "cell_type": "markdown",
     "metadata": {},
     "source": [
      "Let's see if upm6 o2 model gives us good results for the 66 fragment."
     ]
    },
    {
     "cell_type": "code",
     "collapsed": false,
     "input": [
      "graph_66 = read('6_6_flat_graphene.xyz')\n",
      "graph_66.set_calculator(Gaussian(label='UB3LYP_631Gd_UB3LYP_631Gd_6_6_graphene', method='uB3LYP', basis='6-31G*', stable='opt'))\n",
      "graph_66.calc.set_job(nodes=12, memory=12*1600, time=6, queue='pqmb', version='g09-d01')\n",
      "#graph_66.calc.start()\n",
      "\n",
      "graph_66.calc.restart(stable='', opt='opt')\n",
      "#graph_66.calc.start()\n",
      "\n",
      "azo_alone = read('UB3LYP_631Gd_UB3LYP_631Gd_azomethine_ylide_mult_1_stable_restart_1.log')\n",
      "azo_alone.set_calculator(Gaussian(label='UB3LYP_631Gd_UB3LYP_631Gd_azomethine_ylide_mult_1_stable_restart_1', method='UB3LYP', basis='6-31G(d)'))\n",
      "azo_alone.calc.set_job(nodes=8, memory=8*1600, time=3, queue='pqmb', version='g09-d01')\n",
      "\n",
      "azo_pm6 = read('UB3LYP_631Gd_UB3LYP_631Gd_azomethine_ylide_mult_1_stable_restart_1.log')\n",
      "azo_pm6.set_calculator(Gaussian(label='upm6_UB3LYP_631Gd_azomethine_ylide', method='upm6', stable='opt'))\n",
      "azo_pm6.calc.set_job(nodes=8, memory=8*1600, time=3, queue='pqmb', version='g09-d01')\n",
      "#azo_pm6.calc.start()\n",
      "\n",
      "opt_azo_pm6 = copy.deepcopy(azo_alone)\n",
      "opt_azo_pm6.calc.restart(label='upm6_upm6_azomethine_ylide', stable='', opt='opt')\n",
      "#opt_azo_pm6.calc.start()\n",
      "\n",
      "check_calcs([graph_66, azo_alone, azo_pm6, opt_azo_pm6])\n",
      "mols_to_html([graph_66, azo_alone, azo_pm6, opt_azo_pm6])"
     ],
     "language": "python",
     "metadata": {},
     "outputs": [
      {
       "html": [
        "\n",
        "    <style>\n",
        "    table\n",
        "    {\n",
        "        border-collapse:collapse;\n",
        "    }\n",
        "    td\n",
        "    {\n",
        "        padding:15px;\n",
        "    }\n",
        "    </style>\n",
        "    <body>\n",
        "    <table bgcolor=\"white\">\n",
        "    <col/><tr><td>UB3LYP_631Gd_UB3LYP_631Gd_6_6_graphene_restart_1</td><td><input type=\"button\" value=\"Smart Log\" id=\"UB3LYP_631Gd_UB3LYP_631Gd_6_6_graphene_restart_1\" onclick=\"IPython.cc_notebook.view_function(event, this.id)\" /></td><td>Success</td><td></td></tr><tr><td>UB3LYP_631Gd_UB3LYP_631Gd_azomethine_ylide_mult_1_stable_restart_1</td><td><input type=\"button\" value=\"Smart Log\" id=\"UB3LYP_631Gd_UB3LYP_631Gd_azomethine_ylide_mult_1_stable_restart_1\" onclick=\"IPython.cc_notebook.view_function(event, this.id)\" /></td><td>Success</td><td></td></tr><tr><td>upm6_UB3LYP_631Gd_azomethine_ylide</td><td><input type=\"button\" value=\"Smart Log\" id=\"upm6_UB3LYP_631Gd_azomethine_ylide\" onclick=\"IPython.cc_notebook.view_function(event, this.id)\" /></td><td>Success</td><td> The wavefunction has an internal instability.\n",
        "</td></tr><tr><td>upm6_upm6_azomethine_ylide</td><td><input type=\"button\" value=\"Smart Log\" id=\"upm6_upm6_azomethine_ylide\" onclick=\"IPython.cc_notebook.view_function(event, this.id)\" /></td><td>Success</td><td></td></tr>\n",
        "    </table>\n",
        "    </body>"
       ],
       "metadata": {},
       "output_type": "pyout",
       "prompt_number": 6,
       "text": [
        "<IPython.core.display.HTML at 0x7f472e941fd0>"
       ]
      }
     ],
     "prompt_number": 6
    },
    {
     "cell_type": "code",
     "collapsed": false,
     "input": [
      "#build starting ylide structure\n",
      "\n",
      "cent_44_azo = read('UB3LYP_631Gd_UB3LYP_631Gd_4_4_cent_azomethine_v2_final.xyz')\n",
      "\n",
      "azo_atoms = cent_44_azo[66:]\n",
      "\n",
      "#set origin to be C 1 then off set x-azis by -0.3A and z-axis by 1.6A\n",
      "azo_atoms.positions -= azo_atoms.positions[0]\n",
      "azo_atoms.positions += array([-0.3,0,1.6])\n",
      "\n",
      "azo_66s = []\n",
      "for inds in rxn_inds:\n",
      "    graph = read('6_6_flat_graphene.xyz')\n",
      "    \n",
      "    #originally molecule is aligned along the x-z plane so we swap the y & z coordinates and then rotate\n",
      "    graph.center()\n",
      "    X,Y,Z= zip(*graph.positions)\n",
      "    graph.positions = np.array(zip(X,Z,Y))\n",
      "    graph.rotate('z', pi/2)\n",
      "\n",
      "    #set origin to be the left most reacting carbon\n",
      "    graph.positions -= graph.positions[inds[0]]\n",
      "\n",
      "    #stack the azo_atoms over the graphitic fragment\n",
      "    azo_66 = graph + azo_atoms\n",
      "    \n",
      "    ##THIS IS A MISTAKE IT DOES NOTHING - should have saved the previous position to add back on\n",
      "    ##This mistake means that the global position is different for the different fragments but other than that everything is fine\n",
      "\n",
      "    #reset position\n",
      "    azo_66.positions += graph.positions[inds[0]]\n",
      "    \n",
      "    #add to stack\n",
      "    azo_66s.append(azo_66)"
     ],
     "language": "python",
     "metadata": {},
     "outputs": [],
     "prompt_number": 10
    },
    {
     "cell_type": "code",
     "collapsed": false,
     "input": [
      "azo_atoms.rotate('z',pi/3)\n",
      "for inds in rxn_inds_2:\n",
      "    graph = read('6_6_flat_graphene.xyz')\n",
      "    \n",
      "    #originally molecule is aligned along the x-z plane so we swap the y & z coordinates and then rotate\n",
      "    graph.center()\n",
      "    X,Y,Z= zip(*graph.positions)\n",
      "    graph.positions = np.array(zip(X,Z,Y))\n",
      "    graph.rotate('z', pi/2)\n",
      "\n",
      "    #set origin to be the left most reacting carbon\n",
      "    graph.positions -= graph.positions[inds[0]]\n",
      "\n",
      "    #stack the azo_atoms over the graphitic fragment\n",
      "    azo_66 = graph + azo_atoms\n",
      "    \n",
      "    ##THIS IS A DOUBLE MISTAKE, we should be reversing the displacement we made but we've for the wrong index!\n",
      "    ##also the p07 indices used were [81,56] instead pf [81,66] which is kind of a triple error. SCIENCE FAIL.    \n",
      "    ##These mistakes means that the global position is different for the different fragments but other than that everything is fine\n",
      "    #reset position\n",
      "    azo_66.positions += graph.positions[inds[1]]\n",
      "    \n",
      "    #add to stack\n",
      "    azo_66s.append(azo_66)"
     ],
     "language": "python",
     "metadata": {},
     "outputs": [],
     "prompt_number": 11
    },
    {
     "cell_type": "code",
     "collapsed": false,
     "input": [
      "azo_66s[0].positions[0]"
     ],
     "language": "python",
     "metadata": {},
     "outputs": [
      {
       "metadata": {},
       "output_type": "pyout",
       "prompt_number": 12,
       "text": [
        "array([ 3.52721,  6.09557,  0.02402])"
       ]
      }
     ],
     "prompt_number": 12
    },
    {
     "cell_type": "code",
     "collapsed": false,
     "input": [
      "for i, azo_66 in enumerate(azo_66s):\n",
      "    name = 'UB3LYP_631Gd_init_66_p{p}_azomethine'.format(p=i)\n",
      "    azo_66.set_calculator(Gaussian(label=name, method='UB3LYP', basis='6-31G(d)', stable='opt'))\n",
      "    azo_66.calc.set_job(nodes=16, memory=16*1600, time=12, queue='pqmb', version='g09')\n",
      "    #azo_66.calc.start()\n",
      "\n",
      "azo_66s[-1].calc.restart(basis='3-21G', no_old_chk= True)\n",
      "azo_66s[-1].calc.restart(basis='6-31G')\n",
      "azo_66s[-1].calc.restart(basis='6-31G(d)')\n",
      "#azo_66s[-1].calc.start()"
     ],
     "language": "python",
     "metadata": {},
     "outputs": [
      {
       "metadata": {},
       "output_type": "pyout",
       "prompt_number": 13,
       "text": [
        "<gausspy.gaussian.Gaussian instance at 0x7f472d6a8878>"
       ]
      }
     ],
     "prompt_number": 13
    },
    {
     "cell_type": "code",
     "collapsed": false,
     "input": [
      "check_calcs(azo_66s)\n",
      "mols_to_html(azo_66s)"
     ],
     "language": "python",
     "metadata": {},
     "outputs": [
      {
       "html": [
        "\n",
        "    <style>\n",
        "    table\n",
        "    {\n",
        "        border-collapse:collapse;\n",
        "    }\n",
        "    td\n",
        "    {\n",
        "        padding:15px;\n",
        "    }\n",
        "    </style>\n",
        "    <body>\n",
        "    <table bgcolor=\"white\">\n",
        "    <col/><tr><td>UB3LYP_631Gd_init_66_p0_azomethine</td><td><input type=\"button\" value=\"Smart Log\" id=\"UB3LYP_631Gd_init_66_p0_azomethine\" onclick=\"IPython.cc_notebook.view_function(event, this.id)\" /></td><td>Success</td><td> The wavefunction has an internal instability.\n",
        "</td></tr><tr><td>UB3LYP_631Gd_init_66_p1_azomethine</td><td><input type=\"button\" value=\"Smart Log\" id=\"UB3LYP_631Gd_init_66_p1_azomethine\" onclick=\"IPython.cc_notebook.view_function(event, this.id)\" /></td><td>Success</td><td> The wavefunction has an internal instability.\n",
        "</td></tr><tr><td>UB3LYP_631Gd_init_66_p2_azomethine</td><td><input type=\"button\" value=\"Smart Log\" id=\"UB3LYP_631Gd_init_66_p2_azomethine\" onclick=\"IPython.cc_notebook.view_function(event, this.id)\" /></td><td>Success</td><td> The wavefunction has an internal instability.\n",
        "</td></tr><tr><td>UB3LYP_631Gd_init_66_p3_azomethine</td><td><input type=\"button\" value=\"Smart Log\" id=\"UB3LYP_631Gd_init_66_p3_azomethine\" onclick=\"IPython.cc_notebook.view_function(event, this.id)\" /></td><td>Success</td><td> The wavefunction has an internal instability.\n",
        "</td></tr><tr><td>UB3LYP_631Gd_init_66_p4_azomethine</td><td><input type=\"button\" value=\"Smart Log\" id=\"UB3LYP_631Gd_init_66_p4_azomethine\" onclick=\"IPython.cc_notebook.view_function(event, this.id)\" /></td><td>Success</td><td> The wavefunction has an internal instability.\n",
        "</td></tr><tr><td>UB3LYP_631Gd_init_66_p5_azomethine</td><td><input type=\"button\" value=\"Smart Log\" id=\"UB3LYP_631Gd_init_66_p5_azomethine\" onclick=\"IPython.cc_notebook.view_function(event, this.id)\" /></td><td>Success</td><td> The wavefunction has an internal instability.\n",
        "</td></tr><tr><td>UB3LYP_631Gd_init_66_p6_azomethine</td><td><input type=\"button\" value=\"Smart Log\" id=\"UB3LYP_631Gd_init_66_p6_azomethine\" onclick=\"IPython.cc_notebook.view_function(event, this.id)\" /></td><td>Success</td><td> The wavefunction has an internal instability.\n",
        "</td></tr><tr><td>UB3LYP_631Gd_init_66_p7_azomethine_restart_3</td><td><input type=\"button\" value=\"Smart Log\" id=\"UB3LYP_631Gd_init_66_p7_azomethine_restart_3\" onclick=\"IPython.cc_notebook.view_function(event, this.id)\" /></td><td>Success</td><td></td></tr>\n",
        "    </table>\n",
        "    </body>"
       ],
       "metadata": {},
       "output_type": "pyout",
       "prompt_number": 14,
       "text": [
        "<IPython.core.display.HTML at 0x7f472d6e8f10>"
       ]
      }
     ],
     "prompt_number": 14
    },
    {
     "cell_type": "code",
     "collapsed": false,
     "input": [
      "opt_azo_66s = copy.deepcopy(azo_66s)\n",
      "for i,opt_azo in enumerate(opt_azo_66s):\n",
      "    opt_label = 'UB3LYP_631Gd_UB3LYP_631Gd_66_p{p}_azomethine'.format(p=i)\n",
      "    opt_azo.calc.restart(label=opt_label, stable='', opt='opt')\n",
      "    opt_azo.calc.set_job(nodes=16, memory=16*1600, time=60, queue='pqmb', version='g09')\n",
      "    #opt_azo.calc.start()"
     ],
     "language": "python",
     "metadata": {},
     "outputs": [],
     "prompt_number": 15
    },
    {
     "cell_type": "code",
     "collapsed": false,
     "input": [
      "check_calcs(opt_azo_66s)\n",
      "mols_to_html(opt_azo_66s)"
     ],
     "language": "python",
     "metadata": {},
     "outputs": [
      {
       "html": [
        "\n",
        "    <style>\n",
        "    table\n",
        "    {\n",
        "        border-collapse:collapse;\n",
        "    }\n",
        "    td\n",
        "    {\n",
        "        padding:15px;\n",
        "    }\n",
        "    </style>\n",
        "    <body>\n",
        "    <table bgcolor=\"white\">\n",
        "    <col/><tr><td>UB3LYP_631Gd_UB3LYP_631Gd_66_p0_azomethine</td><td><input type=\"button\" value=\"Smart Log\" id=\"UB3LYP_631Gd_UB3LYP_631Gd_66_p0_azomethine\" onclick=\"IPython.cc_notebook.view_function(event, this.id)\" /></td><td>Success</td></tr><tr><td>UB3LYP_631Gd_UB3LYP_631Gd_66_p1_azomethine</td><td><input type=\"button\" value=\"Smart Log\" id=\"UB3LYP_631Gd_UB3LYP_631Gd_66_p1_azomethine\" onclick=\"IPython.cc_notebook.view_function(event, this.id)\" /></td><td>Success</td></tr><tr><td>UB3LYP_631Gd_UB3LYP_631Gd_66_p2_azomethine</td><td><input type=\"button\" value=\"Smart Log\" id=\"UB3LYP_631Gd_UB3LYP_631Gd_66_p2_azomethine\" onclick=\"IPython.cc_notebook.view_function(event, this.id)\" /></td><td>Success</td></tr><tr><td>UB3LYP_631Gd_UB3LYP_631Gd_66_p3_azomethine</td><td><input type=\"button\" value=\"Smart Log\" id=\"UB3LYP_631Gd_UB3LYP_631Gd_66_p3_azomethine\" onclick=\"IPython.cc_notebook.view_function(event, this.id)\" /></td><td>Success</td></tr><tr><td>UB3LYP_631Gd_UB3LYP_631Gd_66_p4_azomethine</td><td><input type=\"button\" value=\"Smart Log\" id=\"UB3LYP_631Gd_UB3LYP_631Gd_66_p4_azomethine\" onclick=\"IPython.cc_notebook.view_function(event, this.id)\" /></td><td>Success</td></tr><tr><td>UB3LYP_631Gd_UB3LYP_631Gd_66_p5_azomethine</td><td><input type=\"button\" value=\"Smart Log\" id=\"UB3LYP_631Gd_UB3LYP_631Gd_66_p5_azomethine\" onclick=\"IPython.cc_notebook.view_function(event, this.id)\" /></td><td>Success</td></tr><tr><td>UB3LYP_631Gd_UB3LYP_631Gd_66_p6_azomethine</td><td><input type=\"button\" value=\"Smart Log\" id=\"UB3LYP_631Gd_UB3LYP_631Gd_66_p6_azomethine\" onclick=\"IPython.cc_notebook.view_function(event, this.id)\" /></td><td>Success</td></tr><tr><td>UB3LYP_631Gd_UB3LYP_631Gd_66_p7_azomethine</td><td><input type=\"button\" value=\"Smart Log\" id=\"UB3LYP_631Gd_UB3LYP_631Gd_66_p7_azomethine\" onclick=\"IPython.cc_notebook.view_function(event, this.id)\" /></td><td>Success</td></tr>\n",
        "    </table>\n",
        "    </body>"
       ],
       "metadata": {},
       "output_type": "pyout",
       "prompt_number": 16,
       "text": [
        "<IPython.core.display.HTML at 0x7f472d6df550>"
       ]
      }
     ],
     "prompt_number": 16
    },
    {
     "cell_type": "code",
     "collapsed": false,
     "input": [
      "opt_azo_66s[0].calc.log"
     ],
     "language": "python",
     "metadata": {},
     "outputs": [
      {
       "metadata": {},
       "output_type": "pyout",
       "prompt_number": 21,
       "text": [
        "'/home/clyde/Project/Notebooks/graphene_cycloadditions/hypothesis_testing/UB3LYP_631Gd_UB3LYP_631Gd_66_p0_azomethine.log'"
       ]
      }
     ],
     "prompt_number": 21
    },
    {
     "cell_type": "code",
     "collapsed": false,
     "input": [
      "for opt_azo in opt_azo_66s:\n",
      "    opt_azo.calc.restart(opt='', freq='freq')\n",
      "    opt_azo.calc.set_job(nodes=16, memory=16*7000, time=72, queue='pqmb', version='g09')\n",
      "    #opt_azo.calc.start()"
     ],
     "language": "python",
     "metadata": {},
     "outputs": [],
     "prompt_number": 15
    },
    {
     "cell_type": "code",
     "collapsed": false,
     "input": [
      "check_calcs(opt_azo_66s)\n",
      "mols_to_html(opt_azo_66s)"
     ],
     "language": "python",
     "metadata": {},
     "outputs": [
      {
       "html": [
        "\n",
        "    <style>\n",
        "    table\n",
        "    {\n",
        "        border-collapse:collapse;\n",
        "    }\n",
        "    td\n",
        "    {\n",
        "        padding:15px;\n",
        "    }\n",
        "    </style>\n",
        "    <body>\n",
        "    <table bgcolor=\"white\">\n",
        "    <col/><tr><td>UB3LYP_631Gd_UB3LYP_631Gd_66_p0_azomethine_restart_1</td><td><input type=\"button\" value=\"Smart Log\" id=\"UB3LYP_631Gd_UB3LYP_631Gd_66_p0_azomethine_restart_1\" onclick=\"IPython.cc_notebook.view_function(event, this.id)\" /></td><td>Success</td></tr><tr><td>UB3LYP_631Gd_UB3LYP_631Gd_66_p1_azomethine_restart_1</td><td><input type=\"button\" value=\"Smart Log\" id=\"UB3LYP_631Gd_UB3LYP_631Gd_66_p1_azomethine_restart_1\" onclick=\"IPython.cc_notebook.view_function(event, this.id)\" /></td><td>Success</td></tr><tr><td>UB3LYP_631Gd_UB3LYP_631Gd_66_p2_azomethine_restart_1</td><td><input type=\"button\" value=\"Smart Log\" id=\"UB3LYP_631Gd_UB3LYP_631Gd_66_p2_azomethine_restart_1\" onclick=\"IPython.cc_notebook.view_function(event, this.id)\" /></td><td>Success</td></tr><tr><td>UB3LYP_631Gd_UB3LYP_631Gd_66_p3_azomethine_restart_1</td><td><input type=\"button\" value=\"Smart Log\" id=\"UB3LYP_631Gd_UB3LYP_631Gd_66_p3_azomethine_restart_1\" onclick=\"IPython.cc_notebook.view_function(event, this.id)\" /></td><td>Success</td></tr><tr><td>UB3LYP_631Gd_UB3LYP_631Gd_66_p4_azomethine_restart_1</td><td><input type=\"button\" value=\"Smart Log\" id=\"UB3LYP_631Gd_UB3LYP_631Gd_66_p4_azomethine_restart_1\" onclick=\"IPython.cc_notebook.view_function(event, this.id)\" /></td><td>Success</td></tr><tr><td>UB3LYP_631Gd_UB3LYP_631Gd_66_p5_azomethine_restart_1</td><td><input type=\"button\" value=\"Smart Log\" id=\"UB3LYP_631Gd_UB3LYP_631Gd_66_p5_azomethine_restart_1\" onclick=\"IPython.cc_notebook.view_function(event, this.id)\" /></td><td>Success</td></tr><tr><td>UB3LYP_631Gd_UB3LYP_631Gd_66_p6_azomethine_restart_1</td><td><input type=\"button\" value=\"Smart Log\" id=\"UB3LYP_631Gd_UB3LYP_631Gd_66_p6_azomethine_restart_1\" onclick=\"IPython.cc_notebook.view_function(event, this.id)\" /></td><td>Success</td></tr><tr><td>UB3LYP_631Gd_UB3LYP_631Gd_66_p7_azomethine_restart_1</td><td><input type=\"button\" value=\"Smart Log\" id=\"UB3LYP_631Gd_UB3LYP_631Gd_66_p7_azomethine_restart_1\" onclick=\"IPython.cc_notebook.view_function(event, this.id)\" /></td><td>Success</td></tr>\n",
        "    </table>\n",
        "    </body>"
       ],
       "metadata": {},
       "output_type": "pyout",
       "prompt_number": 16,
       "text": [
        "<IPython.core.display.HTML at 0x7f58003f7590>"
       ]
      }
     ],
     "prompt_number": 16
    },
    {
     "cell_type": "code",
     "collapsed": false,
     "input": [
      "[m.calc.data['NImag'] for m in opt_azo_66s]"
     ],
     "language": "python",
     "metadata": {},
     "outputs": [
      {
       "metadata": {},
       "output_type": "pyout",
       "prompt_number": 17,
       "text": [
        "[0.0, 0.0, 0.0, 2.0, 0.0, 0.0, 0.0, 0.0]"
       ]
      }
     ],
     "prompt_number": 17
    },
    {
     "cell_type": "code",
     "collapsed": false,
     "input": [
      "to_kcal(array([m.calc.energy_zero - graph_66.calc.energy_zero - azo_alone.calc.energy_zero for m in opt_azo_66s]))"
     ],
     "language": "python",
     "metadata": {},
     "outputs": [
      {
       "metadata": {},
       "output_type": "pyout",
       "prompt_number": 18,
       "text": [
        "array([ 10.14105512,   6.90373374,  -0.43222853, -44.57074297,\n",
        "        12.74252115,  13.48869266,   9.09116902, -14.9352275 ])"
       ]
      }
     ],
     "prompt_number": 18
    },
    {
     "cell_type": "markdown",
     "metadata": {},
     "source": [
      "The p3 product involving substitution on the edge of the graphitic fragment is not at a minimum instead it is at a second order saddle point. Actually this geometry is interesting. The most negative frequency mode involves a distortion of the graphitic fragment yet the minimum energy structure does not involve really involve this distortion - why does this geometry want to distort the fragment when that distortion will reduce the p orbital overlap? Is this configuration somehow antiaromatic? Looking at the optisation steps, I can see that the difference between the energy of the final structure and a very undistorted structure is only 0.2 Kcal/mol. Some kind of trade off between distortion to the graphitic fragment vs. steric costs associated with the ylide-carbon bonds? See [Quantifying graphene distortion](Quantifying graphene distortion.ipynb) for further analysis."
     ]
    },
    {
     "cell_type": "code",
     "collapsed": false,
     "input": [
      "t1_vec, t2_vec = opt_azo_66s[3].calc.max_data['vibdisps'][:2]"
     ],
     "language": "python",
     "metadata": {},
     "outputs": [],
     "prompt_number": 19
    },
    {
     "cell_type": "code",
     "collapsed": false,
     "input": [
      "opt_azo_66s[3] = read( opt_azo_66s[3].calc.log) \n",
      "opt_azo_66s[3].positions -= array(t1_vec)*0.2 + array(t2_vec)*0.2\n",
      "opt_azo_66s[3].set_calculator(Gaussian(label='UB3LYP_631Gd_UB3LYP_631Gd_66_p3_azomethine_restart_2', \n",
      "                                       guess='read',\n",
      "                                       opt='opt',\n",
      "                                       method='UB3LYP', basis='6-31G(d)'))\n",
      "opt_azo_66s[3].calc.link0_str_params['oldchk'] = opt_azo_66s[3].calc._get_scratch_dir() + '/UB3LYP_631Gd_UB3LYP_631Gd_66_p3_azomethine_restart_1.chk'\n",
      "opt_azo_66s[3].calc.set_job(nodes=16, memory=16*7000, time=60, queue='pqmb', version='g09')\n",
      "#opt_azo_66s[3].calc.start()"
     ],
     "language": "python",
     "metadata": {},
     "outputs": [],
     "prompt_number": 20
    },
    {
     "cell_type": "code",
     "collapsed": false,
     "input": [
      "check_calcs(opt_azo_66s[3:4])\n",
      "mols_to_html(opt_azo_66s[3:4])"
     ],
     "language": "python",
     "metadata": {},
     "outputs": [
      {
       "html": [
        "\n",
        "    <style>\n",
        "    table\n",
        "    {\n",
        "        border-collapse:collapse;\n",
        "    }\n",
        "    td\n",
        "    {\n",
        "        padding:15px;\n",
        "    }\n",
        "    </style>\n",
        "    <body>\n",
        "    <table bgcolor=\"white\">\n",
        "    <col/><tr><td>UB3LYP_631Gd_UB3LYP_631Gd_66_p3_azomethine_restart_2</td><td><input type=\"button\" value=\"Smart Log\" id=\"UB3LYP_631Gd_UB3LYP_631Gd_66_p3_azomethine_restart_2\" onclick=\"IPython.cc_notebook.view_function(event, this.id)\" /></td><td>Success</td></tr>\n",
        "    </table>\n",
        "    </body>"
       ],
       "metadata": {},
       "output_type": "pyout",
       "prompt_number": 21,
       "text": [
        "<IPython.core.display.HTML at 0x7f58003b05d0>"
       ]
      }
     ],
     "prompt_number": 21
    },
    {
     "cell_type": "code",
     "collapsed": false,
     "input": [
      "opt_azo_66s[3].calc.restart(opt='', freq='freq')\n",
      "opt_azo_66s[3].calc.set_job(nodes=16, memory=16*7000, time=72, queue='pqmb', version='g09')\n",
      "#opt_azo_66s[3].calc.start()"
     ],
     "language": "python",
     "metadata": {},
     "outputs": [],
     "prompt_number": 22
    },
    {
     "cell_type": "code",
     "collapsed": false,
     "input": [
      "check_calcs(opt_azo_66s[3:4])\n",
      "mols_to_html(opt_azo_66s[3:4])"
     ],
     "language": "python",
     "metadata": {},
     "outputs": [
      {
       "html": [
        "\n",
        "    <style>\n",
        "    table\n",
        "    {\n",
        "        border-collapse:collapse;\n",
        "    }\n",
        "    td\n",
        "    {\n",
        "        padding:15px;\n",
        "    }\n",
        "    </style>\n",
        "    <body>\n",
        "    <table bgcolor=\"white\">\n",
        "    <col/><tr><td>UB3LYP_631Gd_UB3LYP_631Gd_66_p3_azomethine_restart_3</td><td><input type=\"button\" value=\"Smart Log\" id=\"UB3LYP_631Gd_UB3LYP_631Gd_66_p3_azomethine_restart_3\" onclick=\"IPython.cc_notebook.view_function(event, this.id)\" /></td><td>Success</td></tr>\n",
        "    </table>\n",
        "    </body>"
       ],
       "metadata": {},
       "output_type": "pyout",
       "prompt_number": 23,
       "text": [
        "<IPython.core.display.HTML at 0x7f583fa34050>"
       ]
      }
     ],
     "prompt_number": 23
    },
    {
     "cell_type": "code",
     "collapsed": false,
     "input": [
      "all([m.calc.data['NImag']==0 for m in opt_azo_66s])"
     ],
     "language": "python",
     "metadata": {},
     "outputs": [
      {
       "metadata": {},
       "output_type": "pyout",
       "prompt_number": 24,
       "text": [
        "True"
       ]
      }
     ],
     "prompt_number": 24
    },
    {
     "cell_type": "code",
     "collapsed": false,
     "input": [
      "rxn_Es = array([m.calc.energy_zero - graph_66.calc.energy_zero - azo_alone.calc.energy_zero for m in opt_azo_66s])\n",
      "rxn_Es"
     ],
     "language": "python",
     "metadata": {},
     "outputs": [
      {
       "metadata": {},
       "output_type": "pyout",
       "prompt_number": 25,
       "text": [
        "array([ 0.43975775,  0.29937422, -0.0187432 , -1.94219356,  0.55256799,\n",
        "        0.58492505,  0.39423038, -0.64765273])"
       ]
      }
     ],
     "prompt_number": 25
    },
    {
     "cell_type": "code",
     "collapsed": false,
     "input": [
      "#post-refactor, pre cclib units\n",
      "array([ 10.15839985,   6.91551377,  -0.43297631, -44.86471575,\n",
      "        12.7642671 ,  13.51173429,   9.10671723, -14.96082986])"
     ],
     "language": "python",
     "metadata": {},
     "outputs": [
      {
       "metadata": {},
       "output_type": "pyout",
       "prompt_number": 26,
       "text": [
        "array([ 10.15839985,   6.91551377,  -0.43297631, -44.86471575,\n",
        "        12.7642671 ,  13.51173429,   9.10671723, -14.96082986])"
       ]
      }
     ],
     "prompt_number": 26
    },
    {
     "cell_type": "code",
     "collapsed": false,
     "input": [
      "#pre-refactor answer\n",
      "array([ 10.15840802,   6.91554709,  -0.43296814, -44.86468872,\n",
      "        12.76432556,  13.51177389,   9.1067254 , -14.96078397])"
     ],
     "language": "python",
     "metadata": {},
     "outputs": [
      {
       "metadata": {},
       "output_type": "pyout",
       "prompt_number": 27,
       "text": [
        "array([ 10.15840802,   6.91554709,  -0.43296814, -44.86468872,\n",
        "        12.76432556,  13.51177389,   9.1067254 , -14.96078397])"
       ]
      }
     ],
     "prompt_number": 27
    },
    {
     "cell_type": "code",
     "collapsed": false,
     "input": [
      "vib_disps = opt_azo_66s[-1].calc.max_data['vibdisps'][:]\n",
      "vib_disps = array(vib_disps)"
     ],
     "language": "python",
     "metadata": {},
     "outputs": [],
     "prompt_number": 28
    },
    {
     "cell_type": "code",
     "collapsed": false,
     "input": [
      "sorted_disps = sorted(enumerate(vib_disps), key=lambda e:linalg.norm(e[1][-8:-6]))"
     ],
     "language": "python",
     "metadata": {},
     "outputs": [],
     "prompt_number": 29
    },
    {
     "cell_type": "code",
     "collapsed": false,
     "input": [
      "sorted_disps[-3][0]"
     ],
     "language": "python",
     "metadata": {},
     "outputs": [
      {
       "metadata": {},
       "output_type": "pyout",
       "prompt_number": 30,
       "text": [
        "5"
       ]
      }
     ],
     "prompt_number": 30
    },
    {
     "cell_type": "markdown",
     "metadata": {},
     "source": [
      "Not too much change in energy on moving from the 2nd order saddle point to the minimum for the p03 cycloaddition (on the edge). The lowest energy structure is distorted maybe due to steric repulsion between the hydrogens? Of note is that p07 the other edge cycloaddition product is much higher in energy - the graphitic sheet is much more distorted presumably because one of the reacting carbons is not really on the edge of the fragment and so causes more distortion when moving from sp2 to sp3."
     ]
    },
    {
     "cell_type": "code",
     "collapsed": false,
     "input": [
      "mols_to_html(opt_azo_66s)"
     ],
     "language": "python",
     "metadata": {},
     "outputs": [
      {
       "html": [
        "\n",
        "    <style>\n",
        "    table\n",
        "    {\n",
        "        border-collapse:collapse;\n",
        "    }\n",
        "    td\n",
        "    {\n",
        "        padding:15px;\n",
        "    }\n",
        "    </style>\n",
        "    <body>\n",
        "    <table bgcolor=\"white\">\n",
        "    <col/><tr><td>UB3LYP_631Gd_UB3LYP_631Gd_66_p0_azomethine_restart_1</td><td><input type=\"button\" value=\"Smart Log\" id=\"UB3LYP_631Gd_UB3LYP_631Gd_66_p0_azomethine_restart_1\" onclick=\"IPython.cc_notebook.view_function(event, this.id)\" /></td><td>Success</td></tr><tr><td>UB3LYP_631Gd_UB3LYP_631Gd_66_p1_azomethine_restart_1</td><td><input type=\"button\" value=\"Smart Log\" id=\"UB3LYP_631Gd_UB3LYP_631Gd_66_p1_azomethine_restart_1\" onclick=\"IPython.cc_notebook.view_function(event, this.id)\" /></td><td>Success</td></tr><tr><td>UB3LYP_631Gd_UB3LYP_631Gd_66_p2_azomethine_restart_1</td><td><input type=\"button\" value=\"Smart Log\" id=\"UB3LYP_631Gd_UB3LYP_631Gd_66_p2_azomethine_restart_1\" onclick=\"IPython.cc_notebook.view_function(event, this.id)\" /></td><td>Success</td></tr><tr><td>UB3LYP_631Gd_UB3LYP_631Gd_66_p3_azomethine_restart_3</td><td><input type=\"button\" value=\"Smart Log\" id=\"UB3LYP_631Gd_UB3LYP_631Gd_66_p3_azomethine_restart_3\" onclick=\"IPython.cc_notebook.view_function(event, this.id)\" /></td><td>Success</td></tr><tr><td>UB3LYP_631Gd_UB3LYP_631Gd_66_p4_azomethine_restart_1</td><td><input type=\"button\" value=\"Smart Log\" id=\"UB3LYP_631Gd_UB3LYP_631Gd_66_p4_azomethine_restart_1\" onclick=\"IPython.cc_notebook.view_function(event, this.id)\" /></td><td>Success</td></tr><tr><td>UB3LYP_631Gd_UB3LYP_631Gd_66_p5_azomethine_restart_1</td><td><input type=\"button\" value=\"Smart Log\" id=\"UB3LYP_631Gd_UB3LYP_631Gd_66_p5_azomethine_restart_1\" onclick=\"IPython.cc_notebook.view_function(event, this.id)\" /></td><td>Success</td></tr><tr><td>UB3LYP_631Gd_UB3LYP_631Gd_66_p6_azomethine_restart_1</td><td><input type=\"button\" value=\"Smart Log\" id=\"UB3LYP_631Gd_UB3LYP_631Gd_66_p6_azomethine_restart_1\" onclick=\"IPython.cc_notebook.view_function(event, this.id)\" /></td><td>Success</td></tr><tr><td>UB3LYP_631Gd_UB3LYP_631Gd_66_p7_azomethine_restart_1</td><td><input type=\"button\" value=\"Smart Log\" id=\"UB3LYP_631Gd_UB3LYP_631Gd_66_p7_azomethine_restart_1\" onclick=\"IPython.cc_notebook.view_function(event, this.id)\" /></td><td>Success</td></tr>\n",
        "    </table>\n",
        "    </body>"
       ],
       "metadata": {},
       "output_type": "pyout",
       "prompt_number": 31,
       "text": [
        "<IPython.core.display.HTML at 0x7f58002c4ed0>"
       ]
      }
     ],
     "prompt_number": 31
    },
    {
     "cell_type": "code",
     "collapsed": false,
     "input": [
      "data = max_dihedrals(read(opt_azo_66s[-2].calc.log))\n",
      "chains, dihedrals = zip(*data)\n",
      "abs_dihedral_f = lambda a: abs(a) if abs(a) < 90 else abs(abs(a)-180)\n",
      "abs_dihedrals = [abs_dihedral_f(d) for d in dihedrals]\n",
      "proc_data = [d for d in zip(chains,abs_dihedrals) if max(d[0]) < 122 and 69 not in d[0] and 68 not in d[0]]\n",
      "proc_data.sort(key=lambda e: e[1])"
     ],
     "language": "python",
     "metadata": {},
     "outputs": [],
     "prompt_number": 32
    },
    {
     "cell_type": "code",
     "collapsed": false,
     "input": [
      "#colorise = lambda d: (d/6)**(1.0/2) if d/6 < 1 else 0\n",
      "#view_ipython_jmol(opt_azo_66s[-2], script=color_by_curvature(read(opt_azo_66s[-2].calc.log), colorise), width=700, height=600)"
     ],
     "language": "python",
     "metadata": {},
     "outputs": [],
     "prompt_number": 8
    },
    {
     "cell_type": "heading",
     "level": 2,
     "metadata": {},
     "source": [
      "Transition state calcs"
     ]
    },
    {
     "cell_type": "code",
     "collapsed": false,
     "input": [
      "#building starting transition state structures\n",
      "\n",
      "cent_44_azo_ts = read('UB3LYP_631Gd_UB3LYP_631Gd_4_4_cent_azomethine_ts_v2_mult_1_reopt_restart_2.log')\n",
      "ts_azo_atoms = cent_44_azo_ts[66:]\n",
      "ts_azo_atoms.positions -= ts_azo_atoms.positions[0]\n",
      "ts_azo_atoms.positions += array([-0.3,0,1.6])\n",
      "\n",
      "azo_66s_ts = []\n",
      "for i,opt_azo in enumerate(opt_azo_66s[:4]):\n",
      "    graph = read(opt_azo.calc.log)[:-8]\n",
      "    inds = rxn_inds[i]\n",
      "    \n",
      "     #set origin to be the left most reacting carbon\n",
      "    graph.positions -= graph.positions[inds[0]]\n",
      "    \n",
      "    #stack the azo_atoms over the graphitic fragment\n",
      "    azo_66_ts = graph + ts_azo_atoms\n",
      "    \n",
      "    #reset position\n",
      "    azo_66_ts.positions += graph.positions[inds[0]]\n",
      "    \n",
      "    #add to stack\n",
      "    azo_66s_ts.append(azo_66_ts)\n",
      "\n",
      "ts_azo_atoms.rotate('z',pi/3)\n",
      "for i, opt_azo in enumerate(opt_azo_66s[4:]):\n",
      "    graph = read(opt_azo.calc.log)[:-8]\n",
      "    inds = rxn_inds_2[i]\n",
      "    \n",
      "     #set origin to be the left most reacting carbon\n",
      "    graph.positions -= graph.positions[inds[0]]\n",
      "    \n",
      "    #stack the azo_atoms over the graphitic fragment\n",
      "    azo_66_ts = graph + ts_azo_atoms\n",
      "    \n",
      "    #reset position\n",
      "    azo_66_ts.positions += graph.positions[inds[0]]\n",
      "    \n",
      "    #add to stack\n",
      "    azo_66s_ts.append(azo_66_ts)"
     ],
     "language": "python",
     "metadata": {},
     "outputs": [],
     "prompt_number": 34
    },
    {
     "cell_type": "code",
     "collapsed": false,
     "input": [
      "for i, azo_66_ts in enumerate(azo_66s_ts):   \n",
      "    name = 'UB3LYP_631Gd_init_66_p{p}_azomethine_ts'.format(p=i)\n",
      "    azo_66_ts.set_calculator(Gaussian(label=name, method='UB3LYP', basis='6-31G(d)', stable='opt'))\n",
      "    azo_66_ts.calc.set_job(nodes=16, memory=16*1600, time=8, queue='pqmb', version='g09')\n",
      "    #azo_66_ts.calc.start()\n",
      "\n",
      "check_calcs(azo_66s_ts)\n",
      "mols_to_html(azo_66s_ts)"
     ],
     "language": "python",
     "metadata": {},
     "outputs": [
      {
       "html": [
        "\n",
        "    <style>\n",
        "    table\n",
        "    {\n",
        "        border-collapse:collapse;\n",
        "    }\n",
        "    td\n",
        "    {\n",
        "        padding:15px;\n",
        "    }\n",
        "    </style>\n",
        "    <body>\n",
        "    <table bgcolor=\"white\">\n",
        "    <col/><tr><td>UB3LYP_631Gd_init_66_p0_azomethine_ts</td><td><input type=\"button\" value=\"Smart Log\" id=\"UB3LYP_631Gd_init_66_p0_azomethine_ts\" onclick=\"IPython.cc_notebook.view_function(event, this.id)\" /></td><td>Success</td><td> The wavefunction has an internal instability.\n",
        "</td></tr><tr><td>UB3LYP_631Gd_init_66_p1_azomethine_ts</td><td><input type=\"button\" value=\"Smart Log\" id=\"UB3LYP_631Gd_init_66_p1_azomethine_ts\" onclick=\"IPython.cc_notebook.view_function(event, this.id)\" /></td><td>Success</td><td> The wavefunction has an internal instability.\n",
        "</td></tr><tr><td>UB3LYP_631Gd_init_66_p2_azomethine_ts</td><td><input type=\"button\" value=\"Smart Log\" id=\"UB3LYP_631Gd_init_66_p2_azomethine_ts\" onclick=\"IPython.cc_notebook.view_function(event, this.id)\" /></td><td>Success</td><td> The wavefunction has an internal instability.\n",
        "</td></tr><tr><td>UB3LYP_631Gd_init_66_p3_azomethine_ts</td><td><input type=\"button\" value=\"Smart Log\" id=\"UB3LYP_631Gd_init_66_p3_azomethine_ts\" onclick=\"IPython.cc_notebook.view_function(event, this.id)\" /></td><td>Success</td><td> The wavefunction has an internal instability.\n",
        "</td></tr><tr><td>UB3LYP_631Gd_init_66_p4_azomethine_ts</td><td><input type=\"button\" value=\"Smart Log\" id=\"UB3LYP_631Gd_init_66_p4_azomethine_ts\" onclick=\"IPython.cc_notebook.view_function(event, this.id)\" /></td><td>Success</td><td> The wavefunction has an internal instability.\n",
        "</td></tr><tr><td>UB3LYP_631Gd_init_66_p5_azomethine_ts</td><td><input type=\"button\" value=\"Smart Log\" id=\"UB3LYP_631Gd_init_66_p5_azomethine_ts\" onclick=\"IPython.cc_notebook.view_function(event, this.id)\" /></td><td>Success</td><td> The wavefunction has an internal instability.\n",
        "</td></tr><tr><td>UB3LYP_631Gd_init_66_p6_azomethine_ts</td><td><input type=\"button\" value=\"Smart Log\" id=\"UB3LYP_631Gd_init_66_p6_azomethine_ts\" onclick=\"IPython.cc_notebook.view_function(event, this.id)\" /></td><td>Success</td><td> The wavefunction has an internal instability.\n",
        "</td></tr><tr><td>UB3LYP_631Gd_init_66_p7_azomethine_ts</td><td><input type=\"button\" value=\"Smart Log\" id=\"UB3LYP_631Gd_init_66_p7_azomethine_ts\" onclick=\"IPython.cc_notebook.view_function(event, this.id)\" /></td><td>Success</td><td> The wavefunction has an internal instability.\n",
        "</td></tr>\n",
        "    </table>\n",
        "    </body>"
       ],
       "metadata": {},
       "output_type": "pyout",
       "prompt_number": 35,
       "text": [
        "<IPython.core.display.HTML at 0x7f58003f7c50>"
       ]
      }
     ],
     "prompt_number": 35
    },
    {
     "cell_type": "code",
     "collapsed": false,
     "input": [
      "opt_azo_66s_ts = copy.deepcopy(azo_66s_ts)\n",
      "for i,opt_azo_ts in enumerate(opt_azo_66s_ts):\n",
      "    opt_label = 'UB3LYP_631Gd_UB3LYP_631Gd_66_p{p}_azomethine_ts'.format(p=i)\n",
      "    opt_azo_ts.calc.restart(label=opt_label, stable='', opt='calcfc, ts, noeigen')\n",
      "    opt_azo_ts.calc.set_job(nodes=16, memory=16*7000, time=60, version='g09')\n",
      "    #opt_azo_ts.calc.start()"
     ],
     "language": "python",
     "metadata": {},
     "outputs": [],
     "prompt_number": 36
    },
    {
     "cell_type": "code",
     "collapsed": false,
     "input": [
      "check_calcs(opt_azo_66s_ts)\n",
      "mols_to_html(opt_azo_66s_ts)"
     ],
     "language": "python",
     "metadata": {},
     "outputs": [
      {
       "html": [
        "\n",
        "    <style>\n",
        "    table\n",
        "    {\n",
        "        border-collapse:collapse;\n",
        "    }\n",
        "    td\n",
        "    {\n",
        "        padding:15px;\n",
        "    }\n",
        "    </style>\n",
        "    <body>\n",
        "    <table bgcolor=\"white\">\n",
        "    <col/><tr><td>UB3LYP_631Gd_UB3LYP_631Gd_66_p0_azomethine_ts</td><td><input type=\"button\" value=\"Smart Log\" id=\"UB3LYP_631Gd_UB3LYP_631Gd_66_p0_azomethine_ts\" onclick=\"IPython.cc_notebook.view_function(event, this.id)\" /></td><td>Success</td></tr><tr><td>UB3LYP_631Gd_UB3LYP_631Gd_66_p1_azomethine_ts</td><td><input type=\"button\" value=\"Smart Log\" id=\"UB3LYP_631Gd_UB3LYP_631Gd_66_p1_azomethine_ts\" onclick=\"IPython.cc_notebook.view_function(event, this.id)\" /></td><td>Success</td></tr><tr><td>UB3LYP_631Gd_UB3LYP_631Gd_66_p2_azomethine_ts</td><td><input type=\"button\" value=\"Smart Log\" id=\"UB3LYP_631Gd_UB3LYP_631Gd_66_p2_azomethine_ts\" onclick=\"IPython.cc_notebook.view_function(event, this.id)\" /></td><td>Success</td></tr><tr><td>UB3LYP_631Gd_UB3LYP_631Gd_66_p3_azomethine_ts</td><td><input type=\"button\" value=\"Smart Log\" id=\"UB3LYP_631Gd_UB3LYP_631Gd_66_p3_azomethine_ts\" onclick=\"IPython.cc_notebook.view_function(event, this.id)\" /></td><td>Success</td></tr><tr><td>UB3LYP_631Gd_UB3LYP_631Gd_66_p4_azomethine_ts</td><td><input type=\"button\" value=\"Smart Log\" id=\"UB3LYP_631Gd_UB3LYP_631Gd_66_p4_azomethine_ts\" onclick=\"IPython.cc_notebook.view_function(event, this.id)\" /></td><td>Success</td></tr><tr><td>UB3LYP_631Gd_UB3LYP_631Gd_66_p5_azomethine_ts</td><td><input type=\"button\" value=\"Smart Log\" id=\"UB3LYP_631Gd_UB3LYP_631Gd_66_p5_azomethine_ts\" onclick=\"IPython.cc_notebook.view_function(event, this.id)\" /></td><td>Success</td></tr><tr><td>UB3LYP_631Gd_UB3LYP_631Gd_66_p6_azomethine_ts</td><td><input type=\"button\" value=\"Smart Log\" id=\"UB3LYP_631Gd_UB3LYP_631Gd_66_p6_azomethine_ts\" onclick=\"IPython.cc_notebook.view_function(event, this.id)\" /></td><td>Success</td></tr><tr><td>UB3LYP_631Gd_UB3LYP_631Gd_66_p7_azomethine_ts</td><td><input type=\"button\" value=\"Smart Log\" id=\"UB3LYP_631Gd_UB3LYP_631Gd_66_p7_azomethine_ts\" onclick=\"IPython.cc_notebook.view_function(event, this.id)\" /></td><td>Incomplete</td></tr>\n",
        "    </table>\n",
        "    </body>"
       ],
       "metadata": {},
       "output_type": "pyout",
       "prompt_number": 37,
       "text": [
        "<IPython.core.display.HTML at 0x7f58002e9c50>"
       ]
      }
     ],
     "prompt_number": 37
    },
    {
     "cell_type": "markdown",
     "metadata": {},
     "source": [
      "The transition states associated with the edges of the fragment (p3 and p7) have failed - need to try again from a different starting geometry. Attempting to find the correct transition states [here](Finding_edge_transition_states.ipynb)"
     ]
    },
    {
     "cell_type": "code",
     "collapsed": false,
     "input": [
      "for ts_azo in opt_azo_66s_ts:\n",
      "    ts_azo.calc.restart(opt='', freq='freq')\n",
      "    ts_azo.calc.set_job(nodes=16, memory=16*7000, time=72, version='g09')\n",
      "    #ts_azo.calc.start()"
     ],
     "language": "python",
     "metadata": {},
     "outputs": [],
     "prompt_number": 38
    },
    {
     "cell_type": "code",
     "collapsed": false,
     "input": [
      "check_calcs(opt_azo_66s_ts)\n",
      "mols_to_html(opt_azo_66s_ts)"
     ],
     "language": "python",
     "metadata": {},
     "outputs": [
      {
       "html": [
        "\n",
        "    <style>\n",
        "    table\n",
        "    {\n",
        "        border-collapse:collapse;\n",
        "    }\n",
        "    td\n",
        "    {\n",
        "        padding:15px;\n",
        "    }\n",
        "    </style>\n",
        "    <body>\n",
        "    <table bgcolor=\"white\">\n",
        "    <col/><tr><td>UB3LYP_631Gd_UB3LYP_631Gd_66_p0_azomethine_ts_restart_1</td><td><input type=\"button\" value=\"Smart Log\" id=\"UB3LYP_631Gd_UB3LYP_631Gd_66_p0_azomethine_ts_restart_1\" onclick=\"IPython.cc_notebook.view_function(event, this.id)\" /></td><td>Success</td></tr><tr><td>UB3LYP_631Gd_UB3LYP_631Gd_66_p1_azomethine_ts_restart_1</td><td><input type=\"button\" value=\"Smart Log\" id=\"UB3LYP_631Gd_UB3LYP_631Gd_66_p1_azomethine_ts_restart_1\" onclick=\"IPython.cc_notebook.view_function(event, this.id)\" /></td><td>Success</td></tr><tr><td>UB3LYP_631Gd_UB3LYP_631Gd_66_p2_azomethine_ts_restart_1</td><td><input type=\"button\" value=\"Smart Log\" id=\"UB3LYP_631Gd_UB3LYP_631Gd_66_p2_azomethine_ts_restart_1\" onclick=\"IPython.cc_notebook.view_function(event, this.id)\" /></td><td>Success</td></tr><tr><td>UB3LYP_631Gd_UB3LYP_631Gd_66_p3_azomethine_ts_restart_1</td><td><input type=\"button\" value=\"Smart Log\" id=\"UB3LYP_631Gd_UB3LYP_631Gd_66_p3_azomethine_ts_restart_1\" onclick=\"IPython.cc_notebook.view_function(event, this.id)\" /></td><td>Success</td></tr><tr><td>UB3LYP_631Gd_UB3LYP_631Gd_66_p4_azomethine_ts_restart_1</td><td><input type=\"button\" value=\"Smart Log\" id=\"UB3LYP_631Gd_UB3LYP_631Gd_66_p4_azomethine_ts_restart_1\" onclick=\"IPython.cc_notebook.view_function(event, this.id)\" /></td><td>Success</td></tr><tr><td>UB3LYP_631Gd_UB3LYP_631Gd_66_p5_azomethine_ts_restart_1</td><td><input type=\"button\" value=\"Smart Log\" id=\"UB3LYP_631Gd_UB3LYP_631Gd_66_p5_azomethine_ts_restart_1\" onclick=\"IPython.cc_notebook.view_function(event, this.id)\" /></td><td>Success</td></tr><tr><td>UB3LYP_631Gd_UB3LYP_631Gd_66_p6_azomethine_ts_restart_1</td><td><input type=\"button\" value=\"Smart Log\" id=\"UB3LYP_631Gd_UB3LYP_631Gd_66_p6_azomethine_ts_restart_1\" onclick=\"IPython.cc_notebook.view_function(event, this.id)\" /></td><td>Success</td></tr><tr><td>UB3LYP_631Gd_UB3LYP_631Gd_66_p7_azomethine_ts_restart_1</td><td><input type=\"button\" value=\"Smart Log\" id=\"UB3LYP_631Gd_UB3LYP_631Gd_66_p7_azomethine_ts_restart_1\" onclick=\"IPython.cc_notebook.view_function(event, this.id)\" /></td><td>Success</td></tr>\n",
        "    </table>\n",
        "    </body>"
       ],
       "metadata": {},
       "output_type": "pyout",
       "prompt_number": 39,
       "text": [
        "<IPython.core.display.HTML at 0x7f58002e9a10>"
       ]
      }
     ],
     "prompt_number": 39
    },
    {
     "cell_type": "heading",
     "level": 2,
     "metadata": {},
     "source": [
      "ONIOM calculations"
     ]
    },
    {
     "cell_type": "code",
     "collapsed": false,
     "input": [
      "#Stable single points\n",
      "\n",
      "pm6_azo = []\n",
      "o2_azo, o2_graph = [], []\n",
      "o3_azo, o3_graph = [], []\n",
      "o4_azo, o4_graph = [], []\n",
      "\n",
      "#o2 graphene calcs\n",
      "for i in range(len(o2_graph_atom_ids)):\n",
      "    o_label = 'o2_UB3LYP_631Gd_66_p{p}_graphene'.format(p=i)\n",
      "    o_graph = read('6_6_flat_graphene.xyz')\n",
      "    o_graph.set_calculator(Gaussian(label=o_label, method='oniom(UB3LYP/6-31G(d):upm6)', basis='oniom'))\n",
      "\n",
      "    h_model_atoms = o2_graph_atom_ids[i]\n",
      "    o_graph.calc.oniom_coord_params['layers'] = [[no for no in h_model_atoms]]\n",
      "    o_graph.calc.oniom_coord_params['layer_mults'] = [1,1]\n",
      "    o_graph.calc.set_job(nodes=8, memory=8*1200, time=2, queue='pqmb')\n",
      "    #o_stable(o_graph)\n",
      "    o2_graph.append(o_graph)\n",
      "\n",
      "#o2 ylide product calcs\n",
      "for i,azo in enumerate(opt_azo_66s):\n",
      "    o_label = 'o2_UB3LYP_631Gd_66_p{p}_azomethine'.format(p=i)\n",
      "    o_azo = read(azo.calc.log)\n",
      "    o_azo.set_calculator(Gaussian(label=o_label, method='oniom(UB3LYP/6-31G(d):upm6)', basis='oniom'))\n",
      "\n",
      "    h_model_atoms = azo_atom_ids + o2_graph_atom_ids[i]\n",
      "    o_azo.calc.oniom_coord_params['layers'] = [[no for no in h_model_atoms]]\n",
      "    o_azo.calc.oniom_coord_params['layer_mults'] = [1,1]\n",
      "    o_azo.calc.set_job(nodes=8, memory=8*1200, time=2, queue='pqmb')  \n",
      "    #o_stable(o_azo)\n",
      "    o2_azo.append(o_azo)\n",
      "    \n",
      "#o3 graphene calcs\n",
      "for i in range(len(o3_graph_atom_ids)):\n",
      "    o_label = 'o3_UB3LYP_631Gd_66_p{p}_graphene'.format(p=i)\n",
      "    o_graph = read('6_6_flat_graphene.xyz')\n",
      "    o_graph.set_calculator(Gaussian(label=o_label, method='oniom(UB3LYP/6-31G(d):upm6)', basis='oniom'))\n",
      "\n",
      "    h_model_atoms = o3_graph_atom_ids[i]\n",
      "    o_graph.calc.oniom_coord_params['layers'] = [[no for no in h_model_atoms]]\n",
      "    o_graph.calc.oniom_coord_params['layer_mults'] = [1,1]\n",
      "    o_graph.calc.set_job(nodes=8, memory=8*1200, time=2, queue='pqmb')\n",
      "    #o_stable(o_graph,frc=True)\n",
      "    o3_graph.append(o_graph)\n",
      "\n",
      "#o3 ylide product calcs\n",
      "for i,azo in enumerate(opt_azo_66s):\n",
      "    o_label = 'o3_UB3LYP_631Gd_66_p{p}_azomethine'.format(p=i)\n",
      "    o_azo = read(azo.calc.log)\n",
      "    o_azo.set_calculator(Gaussian(label=o_label, method='oniom(UB3LYP/6-31G(d):upm6)', basis='oniom'))\n",
      "\n",
      "    h_model_atoms = azo_atom_ids + o3_graph_atom_ids[i]\n",
      "    o_azo.calc.oniom_coord_params['layers'] = [[no for no in h_model_atoms]]\n",
      "    o_azo.calc.oniom_coord_params['layer_mults'] = [1,1]\n",
      "    o_azo.calc.set_job(nodes=8, memory=8*1200, time=6, queue='pqmb')\n",
      "    #o_stable(o_azo)\n",
      "    o3_azo.append(o_azo)\n",
      "    \n",
      "#o4 graphene calcs\n",
      "for i in range(len(o4_graph_atom_ids)):\n",
      "    o_label = 'o4_UB3LYP_631Gd_66_p{p}_graphene'.format(p=i)\n",
      "    o_graph = read('6_6_flat_graphene.xyz')\n",
      "    o_graph.set_calculator(Gaussian(label=o_label, method='oniom(UB3LYP/6-31G(d):upm6)', basis='oniom'))\n",
      "\n",
      "    h_model_atoms = o4_graph_atom_ids[i]\n",
      "    o_graph.calc.oniom_coord_params['layers'] = [[no for no in h_model_atoms]]\n",
      "    o_graph.calc.oniom_coord_params['layer_mults'] = [1,1]\n",
      "    o_graph.calc.set_job(nodes=16, memory=16*1200, time=8, queue='pqmb')#\n",
      "    #o_stable(o_graph)\n",
      "    o4_graph.append(o_graph)\n",
      "\n",
      "#o4 ylide product calcs\n",
      "for i,azo in enumerate(opt_azo_66s):\n",
      "    o_label = 'o4_UB3LYP_631Gd_66_p{p}_azomethine'.format(p=i)\n",
      "    o_azo = read(azo.calc.log)\n",
      "    o_azo.set_calculator(Gaussian(label=o_label, method='oniom(UB3LYP/6-31G(d):upm6)', basis='oniom'))\n",
      "\n",
      "    h_model_atoms = azo_atom_ids + o4_graph_atom_ids[i]\n",
      "    o_azo.calc.oniom_coord_params['layers'] = [[no for no in h_model_atoms]]\n",
      "    o_azo.calc.oniom_coord_params['layer_mults'] = [1,1]\n",
      "    o_azo.calc.set_job(nodes=16, memory=16*1200, time=8, queue='pqmb')\n",
      "    #o_stable(o_azo)\n",
      "    o4_azo.append(o_azo)\n",
      "\n",
      "#pm6 product calcs\n",
      "for i,azo in enumerate(opt_azo_66s):\n",
      "    o_label = 'upm6_UB3LYP_631Gd_66_p{p}_azomethine'.format(p=i)\n",
      "    o_azo = read(azo.calc.log)\n",
      "    o_azo.set_calculator(Gaussian(label=o_label, method='upm6', stable='opt'))\n",
      "    o_azo.calc.set_job(nodes=8, memory=8*1200, time=2, queue='pqmb',version='g09')\n",
      "    #o_azo.calc.start()\n",
      "    pm6_azo.append(o_azo)\n",
      "\n",
      "pm6_graph = read('6_6_flat_graphene.xyz')\n",
      "pm6_graph.set_calculator(Gaussian(label='upm6_UB3LYP_631Gd_66_graphene', method='upm6', stable='opt'))\n",
      "pm6_graph.calc.set_job(nodes=8, memory=8*1200, time=2, queue='pqmb', version='g09')\n",
      "#pm6_graph.calc.start()\n",
      "\n",
      "pm6_azo_alone = read('UB3LYP_631Gd_UB3LYP_631Gd_azomethine_ylide_mult_1_stable_restart_1.log')\n",
      "pm6_azo_alone.set_calculator(Gaussian(label='upm6_UB3LYP_azomethine_ylide_mult_1_stable', method='upm6', stable='opt'))\n",
      "pm6_azo_alone.calc.set_job(nodes=8, memory=8*1600, time=3, queue='pqmb', version='g09')\n",
      "#pm6_azo_alone.calc.start()"
     ],
     "language": "python",
     "metadata": {},
     "outputs": [],
     "prompt_number": 40
    },
    {
     "cell_type": "code",
     "collapsed": false,
     "input": [
      "check_calcs(pm6_azo + [pm6_graph, pm6_azo_alone])\n",
      "mols_to_html(pm6_azo + [pm6_graph, pm6_azo_alone])"
     ],
     "language": "python",
     "metadata": {},
     "outputs": [
      {
       "html": [
        "\n",
        "    <style>\n",
        "    table\n",
        "    {\n",
        "        border-collapse:collapse;\n",
        "    }\n",
        "    td\n",
        "    {\n",
        "        padding:15px;\n",
        "    }\n",
        "    </style>\n",
        "    <body>\n",
        "    <table bgcolor=\"white\">\n",
        "    <col/><tr><td>upm6_UB3LYP_631Gd_66_p0_azomethine</td><td><input type=\"button\" value=\"Smart Log\" id=\"upm6_UB3LYP_631Gd_66_p0_azomethine\" onclick=\"IPython.cc_notebook.view_function(event, this.id)\" /></td><td>Success</td><td> The wavefunction has an internal instability.\n",
        "</td></tr><tr><td>upm6_UB3LYP_631Gd_66_p1_azomethine</td><td><input type=\"button\" value=\"Smart Log\" id=\"upm6_UB3LYP_631Gd_66_p1_azomethine\" onclick=\"IPython.cc_notebook.view_function(event, this.id)\" /></td><td>Success</td><td> The wavefunction has an internal instability.\n",
        "</td></tr><tr><td>upm6_UB3LYP_631Gd_66_p2_azomethine</td><td><input type=\"button\" value=\"Smart Log\" id=\"upm6_UB3LYP_631Gd_66_p2_azomethine\" onclick=\"IPython.cc_notebook.view_function(event, this.id)\" /></td><td>Success</td><td> The wavefunction has an internal instability.\n",
        "</td></tr><tr><td>upm6_UB3LYP_631Gd_66_p3_azomethine</td><td><input type=\"button\" value=\"Smart Log\" id=\"upm6_UB3LYP_631Gd_66_p3_azomethine\" onclick=\"IPython.cc_notebook.view_function(event, this.id)\" /></td><td>Success</td><td> The wavefunction has an internal instability.\n",
        "</td></tr><tr><td>upm6_UB3LYP_631Gd_66_p4_azomethine</td><td><input type=\"button\" value=\"Smart Log\" id=\"upm6_UB3LYP_631Gd_66_p4_azomethine\" onclick=\"IPython.cc_notebook.view_function(event, this.id)\" /></td><td>Success</td><td> The wavefunction has an internal instability.\n",
        "</td></tr><tr><td>upm6_UB3LYP_631Gd_66_p5_azomethine</td><td><input type=\"button\" value=\"Smart Log\" id=\"upm6_UB3LYP_631Gd_66_p5_azomethine\" onclick=\"IPython.cc_notebook.view_function(event, this.id)\" /></td><td>Success</td><td> The wavefunction has an internal instability.\n",
        "</td></tr><tr><td>upm6_UB3LYP_631Gd_66_p6_azomethine</td><td><input type=\"button\" value=\"Smart Log\" id=\"upm6_UB3LYP_631Gd_66_p6_azomethine\" onclick=\"IPython.cc_notebook.view_function(event, this.id)\" /></td><td>Success</td><td> The wavefunction has an internal instability.\n",
        "</td></tr><tr><td>upm6_UB3LYP_631Gd_66_p7_azomethine</td><td><input type=\"button\" value=\"Smart Log\" id=\"upm6_UB3LYP_631Gd_66_p7_azomethine\" onclick=\"IPython.cc_notebook.view_function(event, this.id)\" /></td><td>Success</td><td> The wavefunction has an internal instability.\n",
        "</td></tr><tr><td>upm6_UB3LYP_631Gd_66_graphene</td><td><input type=\"button\" value=\"Smart Log\" id=\"upm6_UB3LYP_631Gd_66_graphene\" onclick=\"IPython.cc_notebook.view_function(event, this.id)\" /></td><td>Success</td><td> The wavefunction has an internal instability.\n",
        "</td></tr><tr><td>upm6_UB3LYP_azomethine_ylide_mult_1_stable</td><td><input type=\"button\" value=\"Smart Log\" id=\"upm6_UB3LYP_azomethine_ylide_mult_1_stable\" onclick=\"IPython.cc_notebook.view_function(event, this.id)\" /></td><td>Success</td><td> The wavefunction has an internal instability.\n",
        "</td></tr>\n",
        "    </table>\n",
        "    </body>"
       ],
       "metadata": {},
       "output_type": "pyout",
       "prompt_number": 41,
       "text": [
        "<IPython.core.display.HTML at 0x7f58003b0750>"
       ]
      }
     ],
     "prompt_number": 41
    },
    {
     "cell_type": "code",
     "collapsed": false,
     "input": [
      "incomp = check_calcs(o2_azo + o2_graph + o3_azo + o3_graph + o4_azo + o4_graph)\n",
      "mols_to_html(o2_azo + o2_graph + o3_azo + o3_graph + o4_azo + o4_graph)"
     ],
     "language": "python",
     "metadata": {},
     "outputs": [
      {
       "html": [
        "\n",
        "    <style>\n",
        "    table\n",
        "    {\n",
        "        border-collapse:collapse;\n",
        "    }\n",
        "    td\n",
        "    {\n",
        "        padding:15px;\n",
        "    }\n",
        "    </style>\n",
        "    <body>\n",
        "    <table bgcolor=\"white\">\n",
        "    <col/><tr><td>o2_UB3LYP_631Gd_66_p0_azomethine</td><td><input type=\"button\" value=\"Smart Log\" id=\"o2_UB3LYP_631Gd_66_p0_azomethine\" onclick=\"IPython.cc_notebook.view_function(event, this.id)\" /></td><td>Success</td></tr><tr><td>o2_UB3LYP_631Gd_66_p1_azomethine</td><td><input type=\"button\" value=\"Smart Log\" id=\"o2_UB3LYP_631Gd_66_p1_azomethine\" onclick=\"IPython.cc_notebook.view_function(event, this.id)\" /></td><td>Success</td></tr><tr><td>o2_UB3LYP_631Gd_66_p2_azomethine</td><td><input type=\"button\" value=\"Smart Log\" id=\"o2_UB3LYP_631Gd_66_p2_azomethine\" onclick=\"IPython.cc_notebook.view_function(event, this.id)\" /></td><td>Success</td></tr><tr><td>o2_UB3LYP_631Gd_66_p3_azomethine</td><td><input type=\"button\" value=\"Smart Log\" id=\"o2_UB3LYP_631Gd_66_p3_azomethine\" onclick=\"IPython.cc_notebook.view_function(event, this.id)\" /></td><td>Success</td></tr><tr><td>o2_UB3LYP_631Gd_66_p4_azomethine</td><td><input type=\"button\" value=\"Smart Log\" id=\"o2_UB3LYP_631Gd_66_p4_azomethine\" onclick=\"IPython.cc_notebook.view_function(event, this.id)\" /></td><td>Success</td></tr><tr><td>o2_UB3LYP_631Gd_66_p5_azomethine</td><td><input type=\"button\" value=\"Smart Log\" id=\"o2_UB3LYP_631Gd_66_p5_azomethine\" onclick=\"IPython.cc_notebook.view_function(event, this.id)\" /></td><td>Success</td></tr><tr><td>o2_UB3LYP_631Gd_66_p6_azomethine</td><td><input type=\"button\" value=\"Smart Log\" id=\"o2_UB3LYP_631Gd_66_p6_azomethine\" onclick=\"IPython.cc_notebook.view_function(event, this.id)\" /></td><td>Success</td></tr><tr><td>o2_UB3LYP_631Gd_66_p7_azomethine</td><td><input type=\"button\" value=\"Smart Log\" id=\"o2_UB3LYP_631Gd_66_p7_azomethine\" onclick=\"IPython.cc_notebook.view_function(event, this.id)\" /></td><td>Success</td></tr><tr><td>o2_UB3LYP_631Gd_66_p0_graphene</td><td><input type=\"button\" value=\"Smart Log\" id=\"o2_UB3LYP_631Gd_66_p0_graphene\" onclick=\"IPython.cc_notebook.view_function(event, this.id)\" /></td><td>Success</td></tr><tr><td>o2_UB3LYP_631Gd_66_p1_graphene</td><td><input type=\"button\" value=\"Smart Log\" id=\"o2_UB3LYP_631Gd_66_p1_graphene\" onclick=\"IPython.cc_notebook.view_function(event, this.id)\" /></td><td>Success</td></tr><tr><td>o2_UB3LYP_631Gd_66_p2_graphene</td><td><input type=\"button\" value=\"Smart Log\" id=\"o2_UB3LYP_631Gd_66_p2_graphene\" onclick=\"IPython.cc_notebook.view_function(event, this.id)\" /></td><td>Success</td></tr><tr><td>o2_UB3LYP_631Gd_66_p3_graphene</td><td><input type=\"button\" value=\"Smart Log\" id=\"o2_UB3LYP_631Gd_66_p3_graphene\" onclick=\"IPython.cc_notebook.view_function(event, this.id)\" /></td><td>Success</td></tr><tr><td>o2_UB3LYP_631Gd_66_p4_graphene</td><td><input type=\"button\" value=\"Smart Log\" id=\"o2_UB3LYP_631Gd_66_p4_graphene\" onclick=\"IPython.cc_notebook.view_function(event, this.id)\" /></td><td>Success</td></tr><tr><td>o2_UB3LYP_631Gd_66_p5_graphene</td><td><input type=\"button\" value=\"Smart Log\" id=\"o2_UB3LYP_631Gd_66_p5_graphene\" onclick=\"IPython.cc_notebook.view_function(event, this.id)\" /></td><td>Success</td></tr><tr><td>o2_UB3LYP_631Gd_66_p6_graphene</td><td><input type=\"button\" value=\"Smart Log\" id=\"o2_UB3LYP_631Gd_66_p6_graphene\" onclick=\"IPython.cc_notebook.view_function(event, this.id)\" /></td><td>Success</td></tr><tr><td>o2_UB3LYP_631Gd_66_p7_graphene</td><td><input type=\"button\" value=\"Smart Log\" id=\"o2_UB3LYP_631Gd_66_p7_graphene\" onclick=\"IPython.cc_notebook.view_function(event, this.id)\" /></td><td>Success</td></tr><tr><td>o3_UB3LYP_631Gd_66_p0_azomethine</td><td><input type=\"button\" value=\"Smart Log\" id=\"o3_UB3LYP_631Gd_66_p0_azomethine\" onclick=\"IPython.cc_notebook.view_function(event, this.id)\" /></td><td>Success</td></tr><tr><td>o3_UB3LYP_631Gd_66_p1_azomethine</td><td><input type=\"button\" value=\"Smart Log\" id=\"o3_UB3LYP_631Gd_66_p1_azomethine\" onclick=\"IPython.cc_notebook.view_function(event, this.id)\" /></td><td>Success</td></tr><tr><td>o3_UB3LYP_631Gd_66_p2_azomethine</td><td><input type=\"button\" value=\"Smart Log\" id=\"o3_UB3LYP_631Gd_66_p2_azomethine\" onclick=\"IPython.cc_notebook.view_function(event, this.id)\" /></td><td>Success</td></tr><tr><td>o3_UB3LYP_631Gd_66_p3_azomethine</td><td><input type=\"button\" value=\"Smart Log\" id=\"o3_UB3LYP_631Gd_66_p3_azomethine\" onclick=\"IPython.cc_notebook.view_function(event, this.id)\" /></td><td>Success</td></tr><tr><td>o3_UB3LYP_631Gd_66_p4_azomethine</td><td><input type=\"button\" value=\"Smart Log\" id=\"o3_UB3LYP_631Gd_66_p4_azomethine\" onclick=\"IPython.cc_notebook.view_function(event, this.id)\" /></td><td>Success</td></tr><tr><td>o3_UB3LYP_631Gd_66_p5_azomethine</td><td><input type=\"button\" value=\"Smart Log\" id=\"o3_UB3LYP_631Gd_66_p5_azomethine\" onclick=\"IPython.cc_notebook.view_function(event, this.id)\" /></td><td>Success</td></tr><tr><td>o3_UB3LYP_631Gd_66_p6_azomethine</td><td><input type=\"button\" value=\"Smart Log\" id=\"o3_UB3LYP_631Gd_66_p6_azomethine\" onclick=\"IPython.cc_notebook.view_function(event, this.id)\" /></td><td>Success</td></tr><tr><td>o3_UB3LYP_631Gd_66_p7_azomethine</td><td><input type=\"button\" value=\"Smart Log\" id=\"o3_UB3LYP_631Gd_66_p7_azomethine\" onclick=\"IPython.cc_notebook.view_function(event, this.id)\" /></td><td>Success</td></tr><tr><td>o3_UB3LYP_631Gd_66_p0_graphene</td><td><input type=\"button\" value=\"Smart Log\" id=\"o3_UB3LYP_631Gd_66_p0_graphene\" onclick=\"IPython.cc_notebook.view_function(event, this.id)\" /></td><td>Success</td></tr><tr><td>o3_UB3LYP_631Gd_66_p1_graphene</td><td><input type=\"button\" value=\"Smart Log\" id=\"o3_UB3LYP_631Gd_66_p1_graphene\" onclick=\"IPython.cc_notebook.view_function(event, this.id)\" /></td><td>Success</td></tr><tr><td>o3_UB3LYP_631Gd_66_p2_graphene</td><td><input type=\"button\" value=\"Smart Log\" id=\"o3_UB3LYP_631Gd_66_p2_graphene\" onclick=\"IPython.cc_notebook.view_function(event, this.id)\" /></td><td>Success</td></tr><tr><td>o3_UB3LYP_631Gd_66_p3_graphene</td><td><input type=\"button\" value=\"Smart Log\" id=\"o3_UB3LYP_631Gd_66_p3_graphene\" onclick=\"IPython.cc_notebook.view_function(event, this.id)\" /></td><td>Success</td></tr><tr><td>o3_UB3LYP_631Gd_66_p4_graphene</td><td><input type=\"button\" value=\"Smart Log\" id=\"o3_UB3LYP_631Gd_66_p4_graphene\" onclick=\"IPython.cc_notebook.view_function(event, this.id)\" /></td><td>Success</td></tr><tr><td>o3_UB3LYP_631Gd_66_p5_graphene</td><td><input type=\"button\" value=\"Smart Log\" id=\"o3_UB3LYP_631Gd_66_p5_graphene\" onclick=\"IPython.cc_notebook.view_function(event, this.id)\" /></td><td>Success</td></tr><tr><td>o3_UB3LYP_631Gd_66_p6_graphene</td><td><input type=\"button\" value=\"Smart Log\" id=\"o3_UB3LYP_631Gd_66_p6_graphene\" onclick=\"IPython.cc_notebook.view_function(event, this.id)\" /></td><td>Success</td></tr><tr><td>o3_UB3LYP_631Gd_66_p7_graphene</td><td><input type=\"button\" value=\"Smart Log\" id=\"o3_UB3LYP_631Gd_66_p7_graphene\" onclick=\"IPython.cc_notebook.view_function(event, this.id)\" /></td><td>Success</td></tr><tr><td>o4_UB3LYP_631Gd_66_p0_azomethine</td><td><input type=\"button\" value=\"Smart Log\" id=\"o4_UB3LYP_631Gd_66_p0_azomethine\" onclick=\"IPython.cc_notebook.view_function(event, this.id)\" /></td><td>Success</td></tr><tr><td>o4_UB3LYP_631Gd_66_p1_azomethine</td><td><input type=\"button\" value=\"Smart Log\" id=\"o4_UB3LYP_631Gd_66_p1_azomethine\" onclick=\"IPython.cc_notebook.view_function(event, this.id)\" /></td><td>Success</td></tr><tr><td>o4_UB3LYP_631Gd_66_p2_azomethine</td><td><input type=\"button\" value=\"Smart Log\" id=\"o4_UB3LYP_631Gd_66_p2_azomethine\" onclick=\"IPython.cc_notebook.view_function(event, this.id)\" /></td><td>Success</td></tr><tr><td>o4_UB3LYP_631Gd_66_p3_azomethine</td><td><input type=\"button\" value=\"Smart Log\" id=\"o4_UB3LYP_631Gd_66_p3_azomethine\" onclick=\"IPython.cc_notebook.view_function(event, this.id)\" /></td><td>Success</td></tr><tr><td>o4_UB3LYP_631Gd_66_p4_azomethine</td><td><input type=\"button\" value=\"Smart Log\" id=\"o4_UB3LYP_631Gd_66_p4_azomethine\" onclick=\"IPython.cc_notebook.view_function(event, this.id)\" /></td><td>Success</td></tr><tr><td>o4_UB3LYP_631Gd_66_p5_azomethine</td><td><input type=\"button\" value=\"Smart Log\" id=\"o4_UB3LYP_631Gd_66_p5_azomethine\" onclick=\"IPython.cc_notebook.view_function(event, this.id)\" /></td><td>Success</td></tr><tr><td>o4_UB3LYP_631Gd_66_p6_azomethine</td><td><input type=\"button\" value=\"Smart Log\" id=\"o4_UB3LYP_631Gd_66_p6_azomethine\" onclick=\"IPython.cc_notebook.view_function(event, this.id)\" /></td><td>Success</td></tr><tr><td>o4_UB3LYP_631Gd_66_p7_azomethine</td><td><input type=\"button\" value=\"Smart Log\" id=\"o4_UB3LYP_631Gd_66_p7_azomethine\" onclick=\"IPython.cc_notebook.view_function(event, this.id)\" /></td><td>Success</td></tr><tr><td>o4_UB3LYP_631Gd_66_p0_graphene</td><td><input type=\"button\" value=\"Smart Log\" id=\"o4_UB3LYP_631Gd_66_p0_graphene\" onclick=\"IPython.cc_notebook.view_function(event, this.id)\" /></td><td>Success</td></tr><tr><td>o4_UB3LYP_631Gd_66_p1_graphene</td><td><input type=\"button\" value=\"Smart Log\" id=\"o4_UB3LYP_631Gd_66_p1_graphene\" onclick=\"IPython.cc_notebook.view_function(event, this.id)\" /></td><td>Success</td></tr><tr><td>o4_UB3LYP_631Gd_66_p2_graphene</td><td><input type=\"button\" value=\"Smart Log\" id=\"o4_UB3LYP_631Gd_66_p2_graphene\" onclick=\"IPython.cc_notebook.view_function(event, this.id)\" /></td><td>Success</td></tr><tr><td>o4_UB3LYP_631Gd_66_p3_graphene</td><td><input type=\"button\" value=\"Smart Log\" id=\"o4_UB3LYP_631Gd_66_p3_graphene\" onclick=\"IPython.cc_notebook.view_function(event, this.id)\" /></td><td>Success</td></tr><tr><td>o4_UB3LYP_631Gd_66_p4_graphene</td><td><input type=\"button\" value=\"Smart Log\" id=\"o4_UB3LYP_631Gd_66_p4_graphene\" onclick=\"IPython.cc_notebook.view_function(event, this.id)\" /></td><td>Success</td></tr><tr><td>o4_UB3LYP_631Gd_66_p5_graphene</td><td><input type=\"button\" value=\"Smart Log\" id=\"o4_UB3LYP_631Gd_66_p5_graphene\" onclick=\"IPython.cc_notebook.view_function(event, this.id)\" /></td><td>Success</td></tr><tr><td>o4_UB3LYP_631Gd_66_p6_graphene</td><td><input type=\"button\" value=\"Smart Log\" id=\"o4_UB3LYP_631Gd_66_p6_graphene\" onclick=\"IPython.cc_notebook.view_function(event, this.id)\" /></td><td>Success</td></tr><tr><td>o4_UB3LYP_631Gd_66_p7_graphene</td><td><input type=\"button\" value=\"Smart Log\" id=\"o4_UB3LYP_631Gd_66_p7_graphene\" onclick=\"IPython.cc_notebook.view_function(event, this.id)\" /></td><td>Success</td></tr>\n",
        "    </table>\n",
        "    </body>"
       ],
       "metadata": {},
       "output_type": "pyout",
       "prompt_number": 42,
       "text": [
        "<IPython.core.display.HTML at 0x7f57fecd9a10>"
       ]
      }
     ],
     "prompt_number": 42
    },
    {
     "cell_type": "code",
     "collapsed": false,
     "input": [
      "for a in o2_azo:\n",
      "    try:\n",
      "        a.calc.components\n",
      "    except AttributeError:\n",
      "        print(a.calc.label)"
     ],
     "language": "python",
     "metadata": {},
     "outputs": [],
     "prompt_number": 43
    },
    {
     "cell_type": "code",
     "collapsed": false,
     "input": [
      "pm6_rxn_Es = array([m.calc.energy_zero - pm6_graph.calc.energy_zero - pm6_azo_alone.calc.energy_zero for m in pm6_azo])\n",
      "\n",
      "o2_rxn_Es = array([m1.calc.energy_zero - m2.calc.energy_zero - azo_alone.calc.energy_zero for m1,m2 in zip(o2_azo, o2_graph) if m1.calc.status=='Success'])\n",
      "o2_lr_rxn_Es = array([m1.calc.components[0].calc.energy_zero - m2.calc.components[0].calc.energy_zero - azo_pm6.calc.energy_zero for m1,m2 in zip(o2_azo, o2_graph) if m1.calc.status=='Success'])\n",
      "o2_hm_rxn_Es = array([m1.calc.components[1].calc.energy_zero - m2.calc.components[1].calc.energy_zero - azo_alone.calc.energy_zero for m1,m2 in zip(o2_azo, o2_graph) if m1.calc.status=='Success'])\n",
      "o2_lm_rxn_Es = array([m1.calc.components[2].calc.energy_zero - m2.calc.components[2].calc.energy_zero - azo_pm6.calc.energy_zero for m1,m2 in zip(o2_azo, o2_graph) if m1.calc.status=='Success'])\n",
      "\n",
      "o3_rxn_Es = array([m1.calc.energy_zero - m2.calc.energy_zero - azo_alone.calc.energy_zero for m1,m2 in zip(o3_azo, o3_graph) if m1.calc.status=='Success'])\n",
      "o3_lr_rxn_Es = array([m1.calc.components[0].calc.energy_zero - m2.calc.components[0].calc.energy_zero - azo_pm6.calc.energy_zero for m1,m2 in zip(o3_azo, o3_graph) if m1.calc.status=='Success'])\n",
      "o3_hm_rxn_Es = array([m1.calc.components[1].calc.energy_zero - m2.calc.components[1].calc.energy_zero - azo_alone.calc.energy_zero for m1,m2 in zip(o3_azo, o3_graph) if m1.calc.status=='Success'])\n",
      "o3_lm_rxn_Es = array([m1.calc.components[2].calc.energy_zero - m2.calc.components[2].calc.energy_zero - azo_pm6.calc.energy_zero for m1,m2 in zip(o3_azo, o3_graph) if m1.calc.status=='Success'])\n",
      "\n",
      "o4_rxn_Es = array([m1.calc.energy_zero - m2.calc.energy_zero - azo_alone.calc.energy_zero for m1,m2 in zip(o4_azo, o4_graph) if m1.calc.status=='Success'])\n",
      "o4_lr_rxn_Es = array([m1.calc.components[0].calc.energy_zero - m2.calc.components[0].calc.energy_zero - azo_pm6.calc.energy_zero for m1,m2 in zip(o4_azo, o4_graph) if m1.calc.status=='Success'])\n",
      "o4_hm_rxn_Es = array([m1.calc.components[1].calc.energy_zero - m2.calc.components[1].calc.energy_zero - azo_alone.calc.energy_zero for m1,m2 in zip(o4_azo, o4_graph) if m1.calc.status=='Success'])\n",
      "o4_lm_rxn_Es = array([m1.calc.components[2].calc.energy_zero - m2.calc.components[2].calc.energy_zero - azo_pm6.calc.energy_zero for m1,m2 in zip(o4_azo, o4_graph) if m1.calc.status=='Success'])\n",
      "\n",
      "\n",
      "#rxn_Es = rxn_Es[:4]\n",
      "#print(rxn_Es)\n",
      "#print('\\n')\n",
      "#print(pm6_rxn_Es - rxn_Es)\n",
      "#print('\\n')\n",
      "#print(o2_rxn_Es - rxn_Es)\n",
      "#print(o3_rxn_Es - rxn_Es)\n",
      "#print(o4_rxn_Es - rxn_Es)\n",
      "#print('\\n')\n",
      "#print(o2_hm_rxn_Es - rxn_Es)\n",
      "#print(o3_hm_rxn_Es - rxn_Es)\n",
      "#print(o4_hm_rxn_Es - rxn_Es)\n",
      "#print('\\n')\n",
      "#print(o2_lr_rxn_Es-o2_lm_rxn_Es)\n",
      "#print(o3_lr_rxn_Es-o3_lm_rxn_Es)\n",
      "#print(o4_lr_rxn_Es-o4_lm_rxn_Es)\n",
      "#print('\\n')\n",
      "#print(o2_lr_rxn_Es - rxn_Es)\n",
      "#print(o3_lr_rxn_Es - rxn_Es)\n",
      "#print(o4_lr_rxn_Es - rxn_Es)\n",
      "#print('\\n')\n",
      "#print(o2_lm_rxn_Es - rxn_Es)\n",
      "#print(o3_lm_rxn_Es - rxn_Es)\n",
      "#print(o4_lm_rxn_Es - rxn_Es)"
     ],
     "language": "python",
     "metadata": {},
     "outputs": [],
     "prompt_number": 44
    },
    {
     "cell_type": "code",
     "collapsed": false,
     "input": [
      "mols_to_html(o2_azo + o2_azo[6].calc.components + o2_graph[6].calc.components)"
     ],
     "language": "python",
     "metadata": {},
     "outputs": [
      {
       "html": [
        "\n",
        "    <style>\n",
        "    table\n",
        "    {\n",
        "        border-collapse:collapse;\n",
        "    }\n",
        "    td\n",
        "    {\n",
        "        padding:15px;\n",
        "    }\n",
        "    </style>\n",
        "    <body>\n",
        "    <table bgcolor=\"white\">\n",
        "    <col/><tr><td>o2_UB3LYP_631Gd_66_p0_azomethine</td><td><input type=\"button\" value=\"Smart Log\" id=\"o2_UB3LYP_631Gd_66_p0_azomethine\" onclick=\"IPython.cc_notebook.view_function(event, this.id)\" /></td><td>Success</td><td></td></tr><tr><td>o2_UB3LYP_631Gd_66_p1_azomethine</td><td><input type=\"button\" value=\"Smart Log\" id=\"o2_UB3LYP_631Gd_66_p1_azomethine\" onclick=\"IPython.cc_notebook.view_function(event, this.id)\" /></td><td>Success</td><td></td></tr><tr><td>o2_UB3LYP_631Gd_66_p2_azomethine</td><td><input type=\"button\" value=\"Smart Log\" id=\"o2_UB3LYP_631Gd_66_p2_azomethine\" onclick=\"IPython.cc_notebook.view_function(event, this.id)\" /></td><td>Success</td><td></td></tr><tr><td>o2_UB3LYP_631Gd_66_p3_azomethine</td><td><input type=\"button\" value=\"Smart Log\" id=\"o2_UB3LYP_631Gd_66_p3_azomethine\" onclick=\"IPython.cc_notebook.view_function(event, this.id)\" /></td><td>Success</td><td></td></tr><tr><td>o2_UB3LYP_631Gd_66_p4_azomethine</td><td><input type=\"button\" value=\"Smart Log\" id=\"o2_UB3LYP_631Gd_66_p4_azomethine\" onclick=\"IPython.cc_notebook.view_function(event, this.id)\" /></td><td>Success</td><td></td></tr><tr><td>o2_UB3LYP_631Gd_66_p5_azomethine</td><td><input type=\"button\" value=\"Smart Log\" id=\"o2_UB3LYP_631Gd_66_p5_azomethine\" onclick=\"IPython.cc_notebook.view_function(event, this.id)\" /></td><td>Success</td><td></td></tr><tr><td>o2_UB3LYP_631Gd_66_p6_azomethine</td><td><input type=\"button\" value=\"Smart Log\" id=\"o2_UB3LYP_631Gd_66_p6_azomethine\" onclick=\"IPython.cc_notebook.view_function(event, this.id)\" /></td><td>Success</td><td></td></tr><tr><td>o2_UB3LYP_631Gd_66_p7_azomethine</td><td><input type=\"button\" value=\"Smart Log\" id=\"o2_UB3LYP_631Gd_66_p7_azomethine\" onclick=\"IPython.cc_notebook.view_function(event, this.id)\" /></td><td>Success</td><td></td></tr><tr><td>o2_UB3LYP_631Gd_66_p6_azomethine_init_low_real</td><td><input type=\"button\" value=\"Smart Log\" id=\"o2_UB3LYP_631Gd_66_p6_azomethine_init_low_real\" onclick=\"IPython.cc_notebook.view_function(event, this.id)\" /></td><td>Success</td><td> The wavefunction has an internal instability.\n",
        "</td></tr><tr><td>o2_UB3LYP_631Gd_66_p6_azomethine_init_high_model</td><td><input type=\"button\" value=\"Smart Log\" id=\"o2_UB3LYP_631Gd_66_p6_azomethine_init_high_model\" onclick=\"IPython.cc_notebook.view_function(event, this.id)\" /></td><td>Success</td><td></td></tr><tr><td>o2_UB3LYP_631Gd_66_p6_azomethine_init_low_model</td><td><input type=\"button\" value=\"Smart Log\" id=\"o2_UB3LYP_631Gd_66_p6_azomethine_init_low_model\" onclick=\"IPython.cc_notebook.view_function(event, this.id)\" /></td><td>Success</td><td> The wavefunction has an internal instability.\n",
        "</td></tr><tr><td>o2_UB3LYP_631Gd_66_p6_graphene_init_low_real</td><td><input type=\"button\" value=\"Smart Log\" id=\"o2_UB3LYP_631Gd_66_p6_graphene_init_low_real\" onclick=\"IPython.cc_notebook.view_function(event, this.id)\" /></td><td>Success</td><td> The wavefunction has an internal instability.\n",
        "</td></tr><tr><td>o2_UB3LYP_631Gd_66_p6_graphene_init_high_model</td><td><input type=\"button\" value=\"Smart Log\" id=\"o2_UB3LYP_631Gd_66_p6_graphene_init_high_model\" onclick=\"IPython.cc_notebook.view_function(event, this.id)\" /></td><td>Success</td><td></td></tr><tr><td>o2_UB3LYP_631Gd_66_p6_graphene_init_low_model</td><td><input type=\"button\" value=\"Smart Log\" id=\"o2_UB3LYP_631Gd_66_p6_graphene_init_low_model\" onclick=\"IPython.cc_notebook.view_function(event, this.id)\" /></td><td>Success</td><td> The wavefunction has an internal instability.\n",
        "</td></tr>\n",
        "    </table>\n",
        "    </body>"
       ],
       "metadata": {},
       "output_type": "pyout",
       "prompt_number": 45,
       "text": [
        "<IPython.core.display.HTML at 0x7f58003b0050>"
       ]
      }
     ],
     "prompt_number": 45
    },
    {
     "cell_type": "code",
     "collapsed": false,
     "input": [
      "o2_graph[6].calc.components[0].positions == o2_graph[0].calc.components[0].positions"
     ],
     "language": "python",
     "metadata": {},
     "outputs": [
      {
       "metadata": {},
       "output_type": "pyout",
       "prompt_number": 46,
       "text": [
        "array([[ True,  True,  True],\n",
        "       [ True,  True,  True],\n",
        "       [ True,  True,  True],\n",
        "       [ True,  True,  True],\n",
        "       [ True,  True,  True],\n",
        "       [ True,  True,  True],\n",
        "       [ True,  True,  True],\n",
        "       [ True,  True,  True],\n",
        "       [ True,  True,  True],\n",
        "       [ True,  True,  True],\n",
        "       [ True,  True,  True],\n",
        "       [ True,  True,  True],\n",
        "       [ True,  True,  True],\n",
        "       [ True,  True,  True],\n",
        "       [ True,  True,  True],\n",
        "       [ True,  True,  True],\n",
        "       [ True,  True,  True],\n",
        "       [ True,  True,  True],\n",
        "       [ True,  True,  True],\n",
        "       [ True,  True,  True],\n",
        "       [ True,  True,  True],\n",
        "       [ True,  True,  True],\n",
        "       [ True,  True,  True],\n",
        "       [ True,  True,  True],\n",
        "       [ True,  True,  True],\n",
        "       [ True,  True,  True],\n",
        "       [ True,  True,  True],\n",
        "       [ True,  True,  True],\n",
        "       [ True,  True,  True],\n",
        "       [ True,  True,  True],\n",
        "       [ True,  True,  True],\n",
        "       [ True,  True,  True],\n",
        "       [ True,  True,  True],\n",
        "       [ True,  True,  True],\n",
        "       [ True,  True,  True],\n",
        "       [ True,  True,  True],\n",
        "       [ True,  True,  True],\n",
        "       [ True,  True,  True],\n",
        "       [ True,  True,  True],\n",
        "       [ True,  True,  True],\n",
        "       [ True,  True,  True],\n",
        "       [ True,  True,  True],\n",
        "       [ True,  True,  True],\n",
        "       [ True,  True,  True],\n",
        "       [ True,  True,  True],\n",
        "       [ True,  True,  True],\n",
        "       [ True,  True,  True],\n",
        "       [ True,  True,  True],\n",
        "       [ True,  True,  True],\n",
        "       [ True,  True,  True],\n",
        "       [ True,  True,  True],\n",
        "       [ True,  True,  True],\n",
        "       [ True,  True,  True],\n",
        "       [ True,  True,  True],\n",
        "       [ True,  True,  True],\n",
        "       [ True,  True,  True],\n",
        "       [ True,  True,  True],\n",
        "       [ True,  True,  True],\n",
        "       [ True,  True,  True],\n",
        "       [ True,  True,  True],\n",
        "       [ True,  True,  True],\n",
        "       [ True,  True,  True],\n",
        "       [ True,  True,  True],\n",
        "       [ True,  True,  True],\n",
        "       [ True,  True,  True],\n",
        "       [ True,  True,  True],\n",
        "       [ True,  True,  True],\n",
        "       [ True,  True,  True],\n",
        "       [ True,  True,  True],\n",
        "       [ True,  True,  True],\n",
        "       [ True,  True,  True],\n",
        "       [ True,  True,  True],\n",
        "       [ True,  True,  True],\n",
        "       [ True,  True,  True],\n",
        "       [ True,  True,  True],\n",
        "       [ True,  True,  True],\n",
        "       [ True,  True,  True],\n",
        "       [ True,  True,  True],\n",
        "       [ True,  True,  True],\n",
        "       [ True,  True,  True],\n",
        "       [ True,  True,  True],\n",
        "       [ True,  True,  True],\n",
        "       [ True,  True,  True],\n",
        "       [ True,  True,  True],\n",
        "       [ True,  True,  True],\n",
        "       [ True,  True,  True],\n",
        "       [ True,  True,  True],\n",
        "       [ True,  True,  True],\n",
        "       [ True,  True,  True],\n",
        "       [ True,  True,  True],\n",
        "       [ True,  True,  True],\n",
        "       [ True,  True,  True],\n",
        "       [ True,  True,  True],\n",
        "       [ True,  True,  True],\n",
        "       [ True,  True,  True],\n",
        "       [ True,  True,  True],\n",
        "       [ True,  True,  True],\n",
        "       [ True,  True,  True],\n",
        "       [ True,  True,  True],\n",
        "       [ True,  True,  True],\n",
        "       [ True,  True,  True],\n",
        "       [ True,  True,  True],\n",
        "       [ True,  True,  True],\n",
        "       [ True,  True,  True],\n",
        "       [ True,  True,  True],\n",
        "       [ True,  True,  True],\n",
        "       [ True,  True,  True],\n",
        "       [ True,  True,  True],\n",
        "       [ True,  True,  True],\n",
        "       [ True,  True,  True],\n",
        "       [ True,  True,  True],\n",
        "       [ True,  True,  True],\n",
        "       [ True,  True,  True],\n",
        "       [ True,  True,  True],\n",
        "       [ True,  True,  True],\n",
        "       [ True,  True,  True],\n",
        "       [ True,  True,  True],\n",
        "       [ True,  True,  True],\n",
        "       [ True,  True,  True],\n",
        "       [ True,  True,  True],\n",
        "       [ True,  True,  True],\n",
        "       [ True,  True,  True]], dtype=bool)"
       ]
      }
     ],
     "prompt_number": 46
    },
    {
     "cell_type": "code",
     "collapsed": false,
     "input": [
      "pm6_rxn_Es - rxn_Es"
     ],
     "language": "python",
     "metadata": {},
     "outputs": [
      {
       "metadata": {},
       "output_type": "pyout",
       "prompt_number": 47,
       "text": [
        "array([-2.33566475, -2.21951839, -1.93418253, -1.52450968, -0.23559345,\n",
        "       -2.49838339,  0.24280447, -0.19650974])"
       ]
      }
     ],
     "prompt_number": 47
    },
    {
     "cell_type": "code",
     "collapsed": false,
     "input": [
      "#opt_pm6_rxn_Es - rxn_Es"
     ],
     "language": "python",
     "metadata": {},
     "outputs": [],
     "prompt_number": 49
    },
    {
     "cell_type": "code",
     "collapsed": false,
     "input": [
      "data = array([  rxn_Es,\n",
      "                o2_rxn_Es - rxn_Es,\n",
      "                o3_rxn_Es - rxn_Es,\n",
      "                o4_rxn_Es - rxn_Es,\n",
      "                o2_hm_rxn_Es - rxn_Es,\n",
      "                o3_hm_rxn_Es - rxn_Es,\n",
      "                o4_hm_rxn_Es - rxn_Es,\n",
      "                o2_lr_rxn_Es-o2_lm_rxn_Es,\n",
      "                o3_lr_rxn_Es-o3_lm_rxn_Es,\n",
      "                o4_lr_rxn_Es-o4_lm_rxn_Es,\n",
      "                o2_lr_rxn_Es - rxn_Es,\n",
      "                o3_lr_rxn_Es - rxn_Es,\n",
      "                o4_lr_rxn_Es - rxn_Es,\n",
      "                o2_lm_rxn_Es - rxn_Es,\n",
      "                o3_lm_rxn_Es - rxn_Es,\n",
      "                o4_lm_rxn_Es - rxn_Es    ])\n",
      "\n",
      "row_labels =[    'R_Energies',  \n",
      "                 'O2 R_Energies $\\Delta$',\n",
      "                 'O3 R_Energies $\\Delta$',\n",
      "                 'O4 R_Energies $\\Delta$',\n",
      "                 'HM2 R_Energies $\\Delta$',\n",
      "                 'HM3 R_Energies $\\Delta$',\n",
      "                 'HM4 R_Energies $\\Delta$',\n",
      "                 'LR2-LM2 R_Energies',\n",
      "                 'LR3-LM3 R_Energies',\n",
      "                 'LR4-LM4 R_Energies',\n",
      "                 'S LR2 R_Energies $\\Delta$',\n",
      "                 'S LR3 R_Energies $\\Delta$',\n",
      "                 'S LR4 R_Energies $\\Delta$',\n",
      "                 'S LM2 R_Energies $\\Delta$',\n",
      "                 'S LM3 R_Energies $\\Delta$',\n",
      "                 'S LM4 R_Energies $\\Delta$'   ]\n",
      "\n",
      "column_labels = ['loc1', 'loc2', 'loc3', 'loc4', 'loc5', 'loc6', 'loc7', 'loc8']\n",
      "\n",
      "unopt_df = pandas.DataFrame(map(to_kcal,data), index=row_labels, columns=column_labels)\n",
      "\n",
      "def fix_tex(latex_s):\n",
      "    return latex_s.replace('textbackslashDelta', 'Delta').replace('\\$', '$')\n",
      "\n",
      "#print(fix_tex(unopt_df.to_latex(float_format=lambda e: '{:3.2f}'.format(e))))\n",
      "unopt_df"
     ],
     "language": "python",
     "metadata": {},
     "outputs": [
      {
       "html": [
        "<div style=\"max-height:1000px;max-width:1500px;overflow:auto;\">\n",
        "<table border=\"1\" class=\"dataframe\">\n",
        "  <thead>\n",
        "    <tr style=\"text-align: right;\">\n",
        "      <th></th>\n",
        "      <th>loc1</th>\n",
        "      <th>loc2</th>\n",
        "      <th>loc3</th>\n",
        "      <th>loc4</th>\n",
        "      <th>loc5</th>\n",
        "      <th>loc6</th>\n",
        "      <th>loc7</th>\n",
        "      <th>loc8</th>\n",
        "    </tr>\n",
        "  </thead>\n",
        "  <tbody>\n",
        "    <tr>\n",
        "      <th>R_Energies</th>\n",
        "      <td> 10.141055</td>\n",
        "      <td>  6.903734</td>\n",
        "      <td> -0.432229</td>\n",
        "      <td>-44.788049</td>\n",
        "      <td> 12.742521</td>\n",
        "      <td> 13.488693</td>\n",
        "      <td>  9.091169</td>\n",
        "      <td>-14.935228</td>\n",
        "    </tr>\n",
        "    <tr>\n",
        "      <th>O2 R_Energies $\\Delta$</th>\n",
        "      <td>-46.561009</td>\n",
        "      <td>-43.739813</td>\n",
        "      <td>-33.865513</td>\n",
        "      <td>-41.080071</td>\n",
        "      <td>  4.237951</td>\n",
        "      <td>-47.579063</td>\n",
        "      <td> 15.244723</td>\n",
        "      <td> 15.958176</td>\n",
        "    </tr>\n",
        "    <tr>\n",
        "      <th>O3 R_Energies $\\Delta$</th>\n",
        "      <td>-52.222159</td>\n",
        "      <td>-47.724095</td>\n",
        "      <td>-41.478150</td>\n",
        "      <td>-42.643107</td>\n",
        "      <td>  6.049240</td>\n",
        "      <td>-46.868355</td>\n",
        "      <td> 15.545269</td>\n",
        "      <td>  5.230465</td>\n",
        "    </tr>\n",
        "    <tr>\n",
        "      <th>O4 R_Energies $\\Delta$</th>\n",
        "      <td>-47.431366</td>\n",
        "      <td>-43.422281</td>\n",
        "      <td>-44.103456</td>\n",
        "      <td>-43.260815</td>\n",
        "      <td>  8.200805</td>\n",
        "      <td>-42.637871</td>\n",
        "      <td> 16.110897</td>\n",
        "      <td>  5.872239</td>\n",
        "    </tr>\n",
        "    <tr>\n",
        "      <th>HM2 R_Energies $\\Delta$</th>\n",
        "      <td> -1.398530</td>\n",
        "      <td>  1.811934</td>\n",
        "      <td> 16.839593</td>\n",
        "      <td>  1.020456</td>\n",
        "      <td> -6.798187</td>\n",
        "      <td> -6.835586</td>\n",
        "      <td> -5.748677</td>\n",
        "      <td> 18.749293</td>\n",
        "    </tr>\n",
        "    <tr>\n",
        "      <th>HM3 R_Energies $\\Delta$</th>\n",
        "      <td>-19.765544</td>\n",
        "      <td> -9.390554</td>\n",
        "      <td> -0.851656</td>\n",
        "      <td> -3.776917</td>\n",
        "      <td>-11.188870</td>\n",
        "      <td>-14.365198</td>\n",
        "      <td>-11.989698</td>\n",
        "      <td> -5.177832</td>\n",
        "    </tr>\n",
        "    <tr>\n",
        "      <th>HM4 R_Energies $\\Delta$</th>\n",
        "      <td>-24.070950</td>\n",
        "      <td>-19.893556</td>\n",
        "      <td>-20.511277</td>\n",
        "      <td>-19.625798</td>\n",
        "      <td>-18.080870</td>\n",
        "      <td>-15.832315</td>\n",
        "      <td>-16.189556</td>\n",
        "      <td> -9.475519</td>\n",
        "    </tr>\n",
        "    <tr>\n",
        "      <th>LR2-LM2 R_Energies</th>\n",
        "      <td>-45.162484</td>\n",
        "      <td>-45.551729</td>\n",
        "      <td>-50.705087</td>\n",
        "      <td>-42.100489</td>\n",
        "      <td> 11.036135</td>\n",
        "      <td>-40.743437</td>\n",
        "      <td> 20.993455</td>\n",
        "      <td> -2.791037</td>\n",
        "    </tr>\n",
        "    <tr>\n",
        "      <th>LR3-LM3 R_Energies</th>\n",
        "      <td>-32.456673</td>\n",
        "      <td>-38.333487</td>\n",
        "      <td>-40.626469</td>\n",
        "      <td>-38.866117</td>\n",
        "      <td> 17.238125</td>\n",
        "      <td>-32.503171</td>\n",
        "      <td> 27.534927</td>\n",
        "      <td> 10.408311</td>\n",
        "    </tr>\n",
        "    <tr>\n",
        "      <th>LR4-LM4 R_Energies</th>\n",
        "      <td>-23.360421</td>\n",
        "      <td>-23.528719</td>\n",
        "      <td>-23.592160</td>\n",
        "      <td>-23.635019</td>\n",
        "      <td> 26.281603</td>\n",
        "      <td>-26.805573</td>\n",
        "      <td> 32.300423</td>\n",
        "      <td> 15.347752</td>\n",
        "    </tr>\n",
        "    <tr>\n",
        "      <th>S LR2 R_Energies $\\Delta$</th>\n",
        "      <td>-53.861711</td>\n",
        "      <td>-51.183312</td>\n",
        "      <td>-44.603311</td>\n",
        "      <td>-35.156030</td>\n",
        "      <td> -5.432914</td>\n",
        "      <td>-57.614092</td>\n",
        "      <td>  5.599204</td>\n",
        "      <td> -4.531622</td>\n",
        "    </tr>\n",
        "    <tr>\n",
        "      <th>S LR3 R_Energies $\\Delta$</th>\n",
        "      <td>-53.861711</td>\n",
        "      <td>-51.183312</td>\n",
        "      <td>-44.603311</td>\n",
        "      <td>-35.156030</td>\n",
        "      <td> -5.432914</td>\n",
        "      <td>-57.614092</td>\n",
        "      <td>  5.599204</td>\n",
        "      <td> -4.531622</td>\n",
        "    </tr>\n",
        "    <tr>\n",
        "      <th>S LR4 R_Energies $\\Delta$</th>\n",
        "      <td>-53.861711</td>\n",
        "      <td>-51.183312</td>\n",
        "      <td>-44.603311</td>\n",
        "      <td>-35.156030</td>\n",
        "      <td> -5.432914</td>\n",
        "      <td>-57.614092</td>\n",
        "      <td>  5.599204</td>\n",
        "      <td> -4.531622</td>\n",
        "    </tr>\n",
        "    <tr>\n",
        "      <th>S LM2 R_Energies $\\Delta$</th>\n",
        "      <td> -8.699227</td>\n",
        "      <td> -5.631584</td>\n",
        "      <td>  6.101777</td>\n",
        "      <td>  6.944459</td>\n",
        "      <td>-16.469049</td>\n",
        "      <td>-16.870655</td>\n",
        "      <td>-15.394251</td>\n",
        "      <td> -1.740586</td>\n",
        "    </tr>\n",
        "    <tr>\n",
        "      <th>S LM3 R_Energies $\\Delta$</th>\n",
        "      <td>-21.405038</td>\n",
        "      <td>-12.849825</td>\n",
        "      <td> -3.976841</td>\n",
        "      <td>  3.710087</td>\n",
        "      <td>-22.671039</td>\n",
        "      <td>-25.110921</td>\n",
        "      <td>-21.935723</td>\n",
        "      <td>-14.939934</td>\n",
        "    </tr>\n",
        "    <tr>\n",
        "      <th>S LM4 R_Energies $\\Delta$</th>\n",
        "      <td>-30.501290</td>\n",
        "      <td>-27.654594</td>\n",
        "      <td>-21.011151</td>\n",
        "      <td>-11.521011</td>\n",
        "      <td>-31.714517</td>\n",
        "      <td>-30.808519</td>\n",
        "      <td>-26.701218</td>\n",
        "      <td>-19.879375</td>\n",
        "    </tr>\n",
        "  </tbody>\n",
        "</table>\n",
        "</div>"
       ],
       "metadata": {},
       "output_type": "pyout",
       "prompt_number": 50,
       "text": [
        "                                loc1       loc2       loc3       loc4  \\\n",
        "R_Energies                 10.141055   6.903734  -0.432229 -44.788049   \n",
        "O2 R_Energies $\\Delta$    -46.561009 -43.739813 -33.865513 -41.080071   \n",
        "O3 R_Energies $\\Delta$    -52.222159 -47.724095 -41.478150 -42.643107   \n",
        "O4 R_Energies $\\Delta$    -47.431366 -43.422281 -44.103456 -43.260815   \n",
        "HM2 R_Energies $\\Delta$    -1.398530   1.811934  16.839593   1.020456   \n",
        "HM3 R_Energies $\\Delta$   -19.765544  -9.390554  -0.851656  -3.776917   \n",
        "HM4 R_Energies $\\Delta$   -24.070950 -19.893556 -20.511277 -19.625798   \n",
        "LR2-LM2 R_Energies        -45.162484 -45.551729 -50.705087 -42.100489   \n",
        "LR3-LM3 R_Energies        -32.456673 -38.333487 -40.626469 -38.866117   \n",
        "LR4-LM4 R_Energies        -23.360421 -23.528719 -23.592160 -23.635019   \n",
        "S LR2 R_Energies $\\Delta$ -53.861711 -51.183312 -44.603311 -35.156030   \n",
        "S LR3 R_Energies $\\Delta$ -53.861711 -51.183312 -44.603311 -35.156030   \n",
        "S LR4 R_Energies $\\Delta$ -53.861711 -51.183312 -44.603311 -35.156030   \n",
        "S LM2 R_Energies $\\Delta$  -8.699227  -5.631584   6.101777   6.944459   \n",
        "S LM3 R_Energies $\\Delta$ -21.405038 -12.849825  -3.976841   3.710087   \n",
        "S LM4 R_Energies $\\Delta$ -30.501290 -27.654594 -21.011151 -11.521011   \n",
        "\n",
        "                                loc5       loc6       loc7       loc8  \n",
        "R_Energies                 12.742521  13.488693   9.091169 -14.935228  \n",
        "O2 R_Energies $\\Delta$      4.237951 -47.579063  15.244723  15.958176  \n",
        "O3 R_Energies $\\Delta$      6.049240 -46.868355  15.545269   5.230465  \n",
        "O4 R_Energies $\\Delta$      8.200805 -42.637871  16.110897   5.872239  \n",
        "HM2 R_Energies $\\Delta$    -6.798187  -6.835586  -5.748677  18.749293  \n",
        "HM3 R_Energies $\\Delta$   -11.188870 -14.365198 -11.989698  -5.177832  \n",
        "HM4 R_Energies $\\Delta$   -18.080870 -15.832315 -16.189556  -9.475519  \n",
        "LR2-LM2 R_Energies         11.036135 -40.743437  20.993455  -2.791037  \n",
        "LR3-LM3 R_Energies         17.238125 -32.503171  27.534927  10.408311  \n",
        "LR4-LM4 R_Energies         26.281603 -26.805573  32.300423  15.347752  \n",
        "S LR2 R_Energies $\\Delta$  -5.432914 -57.614092   5.599204  -4.531622  \n",
        "S LR3 R_Energies $\\Delta$  -5.432914 -57.614092   5.599204  -4.531622  \n",
        "S LR4 R_Energies $\\Delta$  -5.432914 -57.614092   5.599204  -4.531622  \n",
        "S LM2 R_Energies $\\Delta$ -16.469049 -16.870655 -15.394251  -1.740586  \n",
        "S LM3 R_Energies $\\Delta$ -22.671039 -25.110921 -21.935723 -14.939934  \n",
        "S LM4 R_Energies $\\Delta$ -31.714517 -30.808519 -26.701218 -19.879375  "
       ]
      }
     ],
     "prompt_number": 50
    },
    {
     "cell_type": "code",
     "collapsed": false,
     "input": [
      "#pre cclib units first 4 rxn_es\n",
      "\n",
      "\n",
      "'''\n",
      "#HR\n",
      "[ 10.15839985   6.91551377  -0.43297631 -44.86471575]\n",
      "\n",
      "\n",
      "#PM6-HR\n",
      "[-43.79542995 -44.3553294  -45.11255876 -80.080865  ]\n",
      "\n",
      "\n",
      "#ONIOM-HR\n",
      "[-46.64068856 -43.8146394  -33.92346875 -41.15035224]\n",
      "[-52.31152546 -47.80573944 -41.54913148 -42.71606354]\n",
      "[-47.51253481 -43.49656442 -44.1789299  -43.33482865]\n",
      "\n",
      "\n",
      "#HM-HR\n",
      "[ -1.40091215   1.81504228  16.86839707   1.02219452]\n",
      "[-19.79935374  -9.40660989  -0.85315717  -3.78339852]\n",
      "[-24.11213878 -19.92756587 -20.54639978 -19.65935568]\n",
      "\n",
      "#LR-LM\n",
      "[-45.23977527 -45.62968088 -50.79186387 -42.17254577]\n",
      "[-32.51217017 -38.39913232 -40.69597446 -38.93266878]\n",
      "[-23.40039785 -23.56899629 -23.63252555 -23.67547042]\n",
      "\n",
      "#LR-HR\n",
      "[-43.7954301  -44.35532948 -45.11255841 -80.08086517]\n",
      "[-43.7954301  -44.35532948 -45.11255841 -80.08086517]\n",
      "[-43.7954301  -44.35532948 -45.11255841 -80.08086517]\n",
      "\n",
      "#LM-HR\n",
      "[  1.44434517   1.27435141   5.67930546 -37.90831939]\n",
      "[-11.28325992  -5.95619715  -4.41658395 -41.14819639]\n",
      "[-20.39503225 -20.78633318 -21.48003285 -56.40539475]'''"
     ],
     "language": "python",
     "metadata": {},
     "outputs": [
      {
       "metadata": {},
       "output_type": "pyout",
       "prompt_number": 51,
       "text": [
        "'\\n#HR\\n[ 10.15839985   6.91551377  -0.43297631 -44.86471575]\\n\\n\\n#PM6-HR\\n[-43.79542995 -44.3553294  -45.11255876 -80.080865  ]\\n\\n\\n#ONIOM-HR\\n[-46.64068856 -43.8146394  -33.92346875 -41.15035224]\\n[-52.31152546 -47.80573944 -41.54913148 -42.71606354]\\n[-47.51253481 -43.49656442 -44.1789299  -43.33482865]\\n\\n\\n#HM-HR\\n[ -1.40091215   1.81504228  16.86839707   1.02219452]\\n[-19.79935374  -9.40660989  -0.85315717  -3.78339852]\\n[-24.11213878 -19.92756587 -20.54639978 -19.65935568]\\n\\n#LR-LM\\n[-45.23977527 -45.62968088 -50.79186387 -42.17254577]\\n[-32.51217017 -38.39913232 -40.69597446 -38.93266878]\\n[-23.40039785 -23.56899629 -23.63252555 -23.67547042]\\n\\n#LR-HR\\n[-43.7954301  -44.35532948 -45.11255841 -80.08086517]\\n[-43.7954301  -44.35532948 -45.11255841 -80.08086517]\\n[-43.7954301  -44.35532948 -45.11255841 -80.08086517]\\n\\n#LM-HR\\n[  1.44434517   1.27435141   5.67930546 -37.90831939]\\n[-11.28325992  -5.95619715  -4.41658395 -41.14819639]\\n[-20.39503225 -20.78633318 -21.48003285 -56.40539475]'"
       ]
      }
     ],
     "prompt_number": 51
    },
    {
     "cell_type": "markdown",
     "metadata": {},
     "source": [
      "Have some rounding error comparing the low real calculations to the pm6 alone?"
     ]
    },
    {
     "cell_type": "code",
     "collapsed": false,
     "input": [
      "opt_o2_graph = copy.deepcopy(o2_graph)\n",
      "for i,opt_graph in enumerate(opt_o2_graph):\n",
      "    opt_label = 'o2_o2_66_p{p}_graphene'.format(p=i)\n",
      "    opt_graph.calc.restart(label=opt_label, stable='', opt='opt')\n",
      "    opt_graph.calc.set_job(nodes=16, memory=16*1600, time=20, queue='pqmb', version='g09-d01')\n",
      "    #opt_graph.calc.start()\n",
      "    \n",
      "opt_o2_azo = copy.deepcopy(o2_azo)\n",
      "for i,opt_azo in enumerate(opt_o2_azo):\n",
      "    opt_label = 'o2_o2_66_p{p}_azomethine'.format(p=i)\n",
      "    opt_azo.calc.restart(label=opt_label, stable='', opt='opt')\n",
      "    opt_azo.calc.set_job(nodes=16, memory=16*1600, time=20, queue='pqmb', version='g09-d01')\n",
      "    #opt_azo.calc.start()\n",
      "\n",
      "opt_o3_graph = copy.deepcopy(o3_graph)\n",
      "for i,opt_graph in enumerate(opt_o3_graph):\n",
      "    opt_label = 'o3_o3_66_p{p}_graphene'.format(p=i)\n",
      "    opt_graph.calc.restart(label=opt_label, stable='', opt='opt')\n",
      "    opt_graph.calc.set_job(nodes=16, memory=16*1600, time=20, queue='pqmb', version='g09-d01')\n",
      "    #opt_graph.calc.start()\n",
      "    \n",
      "opt_o3_azo = copy.deepcopy(o3_azo)\n",
      "for i,opt_azo in enumerate(opt_o3_azo):\n",
      "    opt_label = 'o3_o3_66_p{p}_azomethine'.format(p=i)\n",
      "    opt_azo.calc.restart(label=opt_label, stable='', opt='opt')\n",
      "    opt_azo.calc.set_job(nodes=16, memory=16*1600, time=30, queue='pqmb', version='g09-d01')\n",
      "    #opt_azo.calc.start()\n",
      "    \n",
      "opt_o4_graph = copy.deepcopy(o4_graph)\n",
      "for i,opt_graph in enumerate(opt_o4_graph):\n",
      "    opt_label = 'o4_o4_66_p{p}_graphene'.format(p=i)\n",
      "    opt_graph.calc.restart(label=opt_label, stable='', opt='opt')\n",
      "    opt_graph.calc.set_job(nodes=16, memory=16*1600, time=20, queue='pqmb', version='g09-d01')\n",
      "    #opt_graph.calc.start(frc=True)\n",
      "    \n",
      "opt_o4_azo = copy.deepcopy(o4_azo)\n",
      "for i,opt_azo in enumerate(opt_o4_azo):\n",
      "    opt_label = 'o4_o4_66_p{p}_azomethine'.format(p=i)\n",
      "    opt_azo.calc.restart(label=opt_label, stable='', opt='opt')\n",
      "    opt_azo.calc.set_job(nodes=16, memory=16*1600, time=30, queue='pqmb', version='g09-d01')\n",
      "    #opt_azo.calc.start(frc=True)\n",
      "    \n",
      "opt_pm6_azo = copy.deepcopy(pm6_azo)\n",
      "for i,opt_azo in enumerate(opt_pm6_azo):\n",
      "    opt_label = 'upm6_upm6_66_p{p}_azomethine'.format(p=i)\n",
      "    opt_azo.calc.restart(label=opt_label, stable='', opt='opt')\n",
      "    opt_azo.calc.set_job(nodes=8, memory=8*1600, time=8, queue='pqmb', version='g09-d01')\n",
      "    #opt_azo.calc.start()\n",
      "\n",
      "opt_pm6_graph = copy.deepcopy(pm6_graph)\n",
      "opt_pm6_graph.calc.restart(label='upm6_upm6_66_graphene', stable='', opt='opt')\n",
      "opt_pm6_graph.calc.set_job(nodes=8, memory=8*1600, time=8, queue='pqmb', version='g09-d01')\n",
      "#opt_pm6_graph.calc.start()\n",
      "\n",
      "opt_pm6_azo_alone = copy.deepcopy(pm6_azo_alone)\n",
      "opt_pm6_azo_alone.calc.restart(label='upm6_upm6_azomethine_ylide_mult_1_stable', stable='', opt='opt')\n",
      "opt_pm6_azo_alone.calc.set_job(nodes=8, memory=8*1600, time=8, queue='pqmb', version='g09-d01')\n",
      "#opt_pm6_azo_alone.calc.start()"
     ],
     "language": "python",
     "metadata": {},
     "outputs": [],
     "prompt_number": 52
    },
    {
     "cell_type": "code",
     "collapsed": false,
     "input": [
      "incomp_opt = check_calcs(opt_o2_azo + opt_o2_graph + opt_o3_azo + opt_o3_graph + opt_o4_azo + opt_o4_graph)\n",
      "#mols_to_html(opt_o2_azo + opt_o2_graph + opt_o3_azo + opt_o3_graph + opt_o4_azo + opt_o4_graph)"
     ],
     "language": "python",
     "metadata": {},
     "outputs": [],
     "prompt_number": 53
    },
    {
     "cell_type": "code",
     "collapsed": false,
     "input": [
      "check_calcs(opt_pm6_azo + [opt_pm6_graph, opt_pm6_azo_alone])\n",
      "#mols_to_html(opt_pm6_azo + [opt_pm6_graph, opt_pm6_azo_alone])"
     ],
     "language": "python",
     "metadata": {},
     "outputs": [
      {
       "metadata": {},
       "output_type": "pyout",
       "prompt_number": 54,
       "text": [
        "'Calculations complete'"
       ]
      }
     ],
     "prompt_number": 54
    },
    {
     "cell_type": "code",
     "collapsed": false,
     "input": [
      "opt_pm6_rxn_Es = array([m.calc.energy_zero - opt_pm6_graph.calc.energy_zero - opt_pm6_azo_alone.calc.energy_zero for m in opt_pm6_azo])\n",
      "opt_o2_rxn_Es = array([m1.calc.energy_zero - m2.calc.energy_zero - azo_alone.calc.energy_zero for m1,m2 in zip(opt_o2_azo, opt_o2_graph) if m1.calc.status=='Success'])\n",
      "opt_o3_rxn_Es = array([m1.calc.energy_zero - m2.calc.energy_zero - azo_alone.calc.energy_zero for m1,m2 in zip(opt_o3_azo, opt_o3_graph) if m1.calc.status=='Success'])\n",
      "opt_o4_rxn_Es = array([m1.calc.energy_zero - m2.calc.energy_zero - azo_alone.calc.energy_zero for m1,m2 in zip(opt_o4_azo, opt_o4_graph) if m1.calc.status=='Success'])\n",
      "\n",
      "#print(rxn_Es)\n",
      "#print(opt_pm6_rxn_Es - rxn_Es)\n",
      "#print(opt_o2_rxn_Es - rxn_Es)\n",
      "#print(opt_o3_rxn_Es - rxn_Es)\n",
      "#print(opt_o4_rxn_Es - rxn_Es)"
     ],
     "language": "python",
     "metadata": {},
     "outputs": [],
     "prompt_number": 55
    },
    {
     "cell_type": "code",
     "collapsed": false,
     "input": [
      "mols_to_html(opt_o2_graph[-2:])"
     ],
     "language": "python",
     "metadata": {},
     "outputs": [
      {
       "html": [
        "\n",
        "    <style>\n",
        "    table\n",
        "    {\n",
        "        border-collapse:collapse;\n",
        "    }\n",
        "    td\n",
        "    {\n",
        "        padding:15px;\n",
        "    }\n",
        "    </style>\n",
        "    <body>\n",
        "    <table bgcolor=\"white\">\n",
        "    <col/><tr><td>o2_o2_66_p6_graphene</td><td><input type=\"button\" value=\"Smart Log\" id=\"o2_o2_66_p6_graphene\" onclick=\"IPython.cc_notebook.view_function(event, this.id)\" /></td><td>Success</td></tr><tr><td>o2_o2_66_p7_graphene</td><td><input type=\"button\" value=\"Smart Log\" id=\"o2_o2_66_p7_graphene\" onclick=\"IPython.cc_notebook.view_function(event, this.id)\" /></td><td>Success</td></tr>\n",
        "    </table>\n",
        "    </body>"
       ],
       "metadata": {},
       "output_type": "pyout",
       "prompt_number": 56,
       "text": [
        "<IPython.core.display.HTML at 0x7f5800610bd0>"
       ]
      }
     ],
     "prompt_number": 56
    },
    {
     "cell_type": "markdown",
     "metadata": {},
     "source": [
      "**Problems with Gaussian generating a new guess rather than reading part way through the geometry optimisation. This means we can start off with a stable wavefunction and part way through geometry optimisation become unstable - see \"Generating alternative initial guess\" in the log file**\n",
      "\n",
      "Testing the effect of switching off extra guesses using IOP(4/69=2) [here](Further_SCF_stability_issues.ipynb)"
     ]
    },
    {
     "cell_type": "markdown",
     "metadata": {},
     "source": [
      "Means we need to redo optimisations for the following:\n",
      "    \n",
      "    \n",
      "    o2_o2_66_p3_azomethine \t9.735649e+01\n",
      "    o2_o2_66_p5_azomethine \t5.190229e+01\n",
      "    o2_o2_66_p2_azomethine \t4.943039e+01\n",
      "    o2_o2_66_p4_azomethine \t4.250872e+01\n",
      "    o2_o2_66_p6_azomethine \t2.089556e+01\n",
      "    o2_o2_66_p1_azomethine \t2.251778e+00\n",
      "    o2_o2_66_p0_azomethine \t5.651099e-01"
     ]
    },
    {
     "cell_type": "code",
     "collapsed": false,
     "input": [
      "array(opt_o2_azo[0].calc.max_data['scfenergies']).reshape(8,3)[-1]"
     ],
     "language": "python",
     "metadata": {},
     "outputs": [
      {
       "metadata": {},
       "output_type": "pyout",
       "prompt_number": 57,
       "text": [
        "array([  1.31483386e+01,  -2.03981678e+04,   4.48761011e+00])"
       ]
      }
     ],
     "prompt_number": 57
    },
    {
     "cell_type": "code",
     "collapsed": false,
     "input": [
      "opt_o2_azo[0].calc.max_data['Method']"
     ],
     "language": "python",
     "metadata": {},
     "outputs": [
      {
       "metadata": {},
       "output_type": "pyout",
       "prompt_number": 58,
       "text": [
        "'ONIOM(B3LYP/6-31G(d):PM6)'"
       ]
      }
     ],
     "prompt_number": 58
    },
    {
     "cell_type": "code",
     "collapsed": false,
     "input": [
      "from cclib.parser.utils import convertor"
     ],
     "language": "python",
     "metadata": {},
     "outputs": [],
     "prompt_number": 59
    },
    {
     "cell_type": "code",
     "collapsed": false,
     "input": [
      "opt_o2_lmodel_rxn_Es = array([m1.calc.max_data['oniomenergies'][-1][0] - m2.calc.max_data['oniomenergies'][-1][0] - azo_alone.calc.energy_zero for m1,m2 in zip(opt_o2_azo, opt_o2_graph) if m1.calc.status=='Success'])\n",
      "opt_o3_lmodel_rxn_Es = array([m1.calc.max_data['oniomenergies'][-1][0] - m2.calc.max_data['oniomenergies'][-1][0] - azo_alone.calc.energy_zero for m1,m2 in zip(opt_o3_azo, opt_o3_graph) if m1.calc.status=='Success'])\n",
      "opt_o4_lmodel_rxn_Es = array([m1.calc.max_data['oniomenergies'][-1][0] - m2.calc.max_data['oniomenergies'][-1][0] - azo_alone.calc.energy_zero for m1,m2 in zip(opt_o4_azo, opt_o4_graph) if m1.calc.status=='Success'])\n",
      "\n",
      "opt_o2_hmodel_rxn_Es = array([m1.calc.max_data['oniomenergies'][-1][1] - m2.calc.max_data['oniomenergies'][-1][1] - azo_alone.calc.energy_zero for m1,m2 in zip(opt_o2_azo, opt_o2_graph) if m1.calc.status=='Success'])\n",
      "opt_o3_hmodel_rxn_Es = array([m1.calc.max_data['oniomenergies'][-1][1] - m2.calc.max_data['oniomenergies'][-1][1] - azo_alone.calc.energy_zero for m1,m2 in zip(opt_o3_azo, opt_o3_graph) if m1.calc.status=='Success'])\n",
      "opt_o4_hmodel_rxn_Es = array([m1.calc.max_data['oniomenergies'][-1][1] - m2.calc.max_data['oniomenergies'][-1][1] - azo_alone.calc.energy_zero for m1,m2 in zip(opt_o4_azo, opt_o4_graph) if m1.calc.status=='Success'])\n",
      "                                  \n",
      "opt_o2_lreal_rxn_Es = array([m1.calc.max_data['oniomenergies'][-1][2] - m2.calc.max_data['oniomenergies'][-1][2] - azo_alone.calc.energy_zero for m1,m2 in zip(opt_o2_azo, opt_o2_graph) if m1.calc.status=='Success'])\n",
      "opt_o3_lreal_rxn_Es = array([m1.calc.max_data['oniomenergies'][-1][2] - m2.calc.max_data['oniomenergies'][-1][2] - azo_alone.calc.energy_zero for m1,m2 in zip(opt_o3_azo, opt_o3_graph) if m1.calc.status=='Success'])\n",
      "opt_o4_lreal_rxn_Es = array([m1.calc.max_data['oniomenergies'][-1][2] - m2.calc.max_data['oniomenergies'][-1][2] - azo_alone.calc.energy_zero for m1,m2 in zip(opt_o4_azo, opt_o4_graph) if m1.calc.status=='Success'])\n",
      "\n",
      "\n",
      "#print('B3LYP R_Energies', rxn_Es)\n",
      "#print('\\n')\n",
      "#print('O2 R_Energies d', opt_o2_rxn_Es - rxn_Es)\n",
      "#print('O3 R_Energies d', opt_o3_rxn_Es - rxn_Es)\n",
      "#print('O4 R_Energies d', opt_o4_rxn_Es - rxn_Es)\n",
      "#print('\\n')\n",
      "\n",
      "##sanity check\n",
      "#print(opt_o2_lreal_rxn_Es+opt_o2_hmodel_rxn_Es-opt_o2_lmodel_rxn_Es - rxn_Es)\n",
      "#print(opt_o3_lreal_rxn_Es+opt_o3_hmodel_rxn_Es-opt_o3_lmodel_rxn_Es - rxn_Es)\n",
      "#print(opt_o4_lreal_rxn_Es+opt_o4_hmodel_rxn_Es-opt_o4_lmodel_rxn_Es - rxn_Es)\n",
      "#print('\\n')\n",
      "\n",
      "#print('HM2 R_Energies d', opt_o2_hmodel_rxn_Es - rxn_Es)\n",
      "#print('HM3 R_Energies d', opt_o3_hmodel_rxn_Es - rxn_Es)\n",
      "#print('HM4 R_Energies d', opt_o4_hmodel_rxn_Es - rxn_Es)\n",
      "#print('\\n')\n",
      "\n",
      "#energetic effect of environment\n",
      "#print('LR2-LM2 R_Energies c', opt_o2_lreal_rxn_Es-opt_o2_lmodel_rxn_Es)\n",
      "#print('LR3-LM3 R_Energies c', opt_o3_lreal_rxn_Es-opt_o3_lmodel_rxn_Es)\n",
      "#print('LR4-LM4 R_Energies c', opt_o4_lreal_rxn_Es-opt_o4_lmodel_rxn_Es)\n",
      "#print('\\n')\n",
      "\n",
      "#effect of changing geometry (and reaction location) on LR rxn energy\n",
      "offset = -opt_o2_lreal_rxn_Es[0]+opt_o2_hmodel_rxn_Es[0]\n",
      "#print('Scaled LR2 R_Energies', opt_o2_lreal_rxn_Es +offset)\n",
      "#print('Scaled LR3 R_Energies', opt_o3_lreal_rxn_Es +offset)\n",
      "#print('Scaled LR4 R_Energies', opt_o4_lreal_rxn_Es +offset)\n",
      "#print('\\n')\n",
      "\n",
      "#effect of modified geometry and model region on LM rxn energy\n",
      "#print('Scaled LM2 R_Energies', opt_o2_lmodel_rxn_Es +offset)\n",
      "#print('Scaled LM3 R_Energies', opt_o3_lmodel_rxn_Es +offset)\n",
      "#print('Scaled LM4 R_Energies', opt_o4_lmodel_rxn_Es +offset)"
     ],
     "language": "python",
     "metadata": {},
     "outputs": [],
     "prompt_number": 60
    },
    {
     "cell_type": "code",
     "collapsed": false,
     "input": [
      "data = array([  rxn_Es,\n",
      "                opt_o2_rxn_Es - rxn_Es,\n",
      "                opt_o3_rxn_Es - rxn_Es,\n",
      "                opt_o4_rxn_Es - rxn_Es,\n",
      "                opt_o2_hmodel_rxn_Es - rxn_Es,\n",
      "                opt_o3_hmodel_rxn_Es - rxn_Es,\n",
      "                opt_o4_hmodel_rxn_Es - rxn_Es,\n",
      "                opt_o2_lreal_rxn_Es-opt_o2_lmodel_rxn_Es,\n",
      "                opt_o3_lreal_rxn_Es-opt_o3_lmodel_rxn_Es,\n",
      "                opt_o4_lreal_rxn_Es-opt_o4_lmodel_rxn_Es,\n",
      "                opt_o2_lreal_rxn_Es - rxn_Es,#+offset,\n",
      "                opt_o3_lreal_rxn_Es - rxn_Es,#+offset,\n",
      "                opt_o4_lreal_rxn_Es - rxn_Es,#+offset,\n",
      "                opt_o2_lmodel_rxn_Es - rxn_Es,#+offset,\n",
      "                opt_o3_lmodel_rxn_Es - rxn_Es,#+offset,\n",
      "                opt_o4_lmodel_rxn_Es - rxn_Es])#+offset    ])\n",
      "\n",
      "row_labels =[    'R_Energies',  \n",
      "                 'O2 R_Energies $\\Delta$',\n",
      "                 'O3 R_Energies $\\Delta$',\n",
      "                 'O4 R_Energies $\\Delta$',\n",
      "                 'HM2 R_Energies $\\Delta$',\n",
      "                 'HM3 R_Energies $\\Delta$',\n",
      "                 'HM4 R_Energies $\\Delta$',\n",
      "                 'LR2-LM2 R_Energies',\n",
      "                 'LR3-LM3 R_Energies',\n",
      "                 'LR4-LM4 R_Energies',\n",
      "                 'S LR2 R_Energies',\n",
      "                 'S LR3 R_Energies',\n",
      "                 'S LR4 R_Energies',\n",
      "                 'S LM2 R_Energies',\n",
      "                 'S LM3 R_Energies',\n",
      "                 'S LM4 R_Energies'   ]\n",
      "\n",
      "column_labels = ['loc1', 'loc2', 'loc3', 'loc4', 'loc5', 'loc6', 'loc7', 'loc8']\n",
      "\n",
      "opt_df = pandas.DataFrame(map(to_kcal,data), index=row_labels, columns=column_labels)\n",
      "#print(fix_tex(opt_df.to_latex(float_format=lambda e: '{:3.2f}'.format(e))))\n",
      "opt_df"
     ],
     "language": "python",
     "metadata": {},
     "outputs": [
      {
       "html": [
        "<div style=\"max-height:1000px;max-width:1500px;overflow:auto;\">\n",
        "<table border=\"1\" class=\"dataframe\">\n",
        "  <thead>\n",
        "    <tr style=\"text-align: right;\">\n",
        "      <th></th>\n",
        "      <th>loc1</th>\n",
        "      <th>loc2</th>\n",
        "      <th>loc3</th>\n",
        "      <th>loc4</th>\n",
        "      <th>loc5</th>\n",
        "      <th>loc6</th>\n",
        "      <th>loc7</th>\n",
        "      <th>loc8</th>\n",
        "    </tr>\n",
        "  </thead>\n",
        "  <tbody>\n",
        "    <tr>\n",
        "      <th>R_Energies</th>\n",
        "      <td>    10.141055</td>\n",
        "      <td>     6.903734</td>\n",
        "      <td>    -0.432229</td>\n",
        "      <td>   -44.788049</td>\n",
        "      <td>    12.742521</td>\n",
        "      <td>    13.488693</td>\n",
        "      <td>     9.091169</td>\n",
        "      <td>   -14.935228</td>\n",
        "    </tr>\n",
        "    <tr>\n",
        "      <th>O2 R_Energies $\\Delta$</th>\n",
        "      <td>    -1.970929</td>\n",
        "      <td>     0.881871</td>\n",
        "      <td>     7.785407</td>\n",
        "      <td>     2.710845</td>\n",
        "      <td>    40.536820</td>\n",
        "      <td>    -2.575797</td>\n",
        "      <td>    54.204626</td>\n",
        "      <td>    57.335466</td>\n",
        "    </tr>\n",
        "    <tr>\n",
        "      <th>O3 R_Energies $\\Delta$</th>\n",
        "      <td>    -7.709352</td>\n",
        "      <td>    -5.783931</td>\n",
        "      <td>     0.685365</td>\n",
        "      <td>    -0.356140</td>\n",
        "      <td>    41.848165</td>\n",
        "      <td>    -1.274287</td>\n",
        "      <td>    55.275198</td>\n",
        "      <td>    47.542855</td>\n",
        "    </tr>\n",
        "    <tr>\n",
        "      <th>O4 R_Energies $\\Delta$</th>\n",
        "      <td>    -2.861313</td>\n",
        "      <td>    -0.230583</td>\n",
        "      <td>    -1.183556</td>\n",
        "      <td>    -0.095801</td>\n",
        "      <td>    44.916874</td>\n",
        "      <td>     0.674390</td>\n",
        "      <td>    52.142410</td>\n",
        "      <td>    42.966060</td>\n",
        "    </tr>\n",
        "    <tr>\n",
        "      <th>HM2 R_Energies $\\Delta$</th>\n",
        "      <td>     3.023718</td>\n",
        "      <td>     6.098240</td>\n",
        "      <td>    13.648268</td>\n",
        "      <td>     2.861908</td>\n",
        "      <td>    -1.341819</td>\n",
        "      <td>    -2.362417</td>\n",
        "      <td>     2.139213</td>\n",
        "      <td>    29.798429</td>\n",
        "    </tr>\n",
        "    <tr>\n",
        "      <th>HM3 R_Energies $\\Delta$</th>\n",
        "      <td>    -8.227211</td>\n",
        "      <td>    -6.384643</td>\n",
        "      <td>     1.154629</td>\n",
        "      <td>    -0.587626</td>\n",
        "      <td>    -0.590281</td>\n",
        "      <td>    -0.952834</td>\n",
        "      <td>     5.454819</td>\n",
        "      <td>    16.778995</td>\n",
        "    </tr>\n",
        "    <tr>\n",
        "      <th>HM4 R_Energies $\\Delta$</th>\n",
        "      <td>    -3.511981</td>\n",
        "      <td>    -0.405728</td>\n",
        "      <td>    -2.036293</td>\n",
        "      <td>    -0.199332</td>\n",
        "      <td>     4.434050</td>\n",
        "      <td>     1.254649</td>\n",
        "      <td>     5.069961</td>\n",
        "      <td>     9.696981</td>\n",
        "    </tr>\n",
        "    <tr>\n",
        "      <th>LR2-LM2 R_Energies</th>\n",
        "      <td>    -4.994647</td>\n",
        "      <td>    -5.216369</td>\n",
        "      <td>    -5.862861</td>\n",
        "      <td>    -0.151062</td>\n",
        "      <td>    41.878640</td>\n",
        "      <td>    -0.213380</td>\n",
        "      <td>    52.065413</td>\n",
        "      <td>    27.537037</td>\n",
        "    </tr>\n",
        "    <tr>\n",
        "      <th>LR3-LM3 R_Energies</th>\n",
        "      <td>     0.517859</td>\n",
        "      <td>     0.600712</td>\n",
        "      <td>    -0.469264</td>\n",
        "      <td>     0.231486</td>\n",
        "      <td>    42.438446</td>\n",
        "      <td>    -0.321453</td>\n",
        "      <td>    49.820380</td>\n",
        "      <td>    30.763860</td>\n",
        "    </tr>\n",
        "    <tr>\n",
        "      <th>LR4-LM4 R_Energies</th>\n",
        "      <td>     0.650668</td>\n",
        "      <td>     0.175145</td>\n",
        "      <td>     0.852737</td>\n",
        "      <td>     0.103531</td>\n",
        "      <td>    40.482824</td>\n",
        "      <td>    -0.580259</td>\n",
        "      <td>    47.072449</td>\n",
        "      <td>    33.269080</td>\n",
        "    </tr>\n",
        "    <tr>\n",
        "      <th>S LR2 R_Energies</th>\n",
        "      <td> 84036.109757</td>\n",
        "      <td> 84038.948112</td>\n",
        "      <td> 84045.332151</td>\n",
        "      <td> 84054.447569</td>\n",
        "      <td> 84075.705934</td>\n",
        "      <td> 84032.623477</td>\n",
        "      <td> 84089.730531</td>\n",
        "      <td> 84080.343032</td>\n",
        "    </tr>\n",
        "    <tr>\n",
        "      <th>S LR3 R_Energies</th>\n",
        "      <td> 84035.147479</td>\n",
        "      <td> 84037.795624</td>\n",
        "      <td> 84043.709710</td>\n",
        "      <td> 84054.264034</td>\n",
        "      <td> 84076.412818</td>\n",
        "      <td> 84033.355628</td>\n",
        "      <td> 84091.246873</td>\n",
        "      <td> 84077.859592</td>\n",
        "    </tr>\n",
        "    <tr>\n",
        "      <th>S LR4 R_Energies</th>\n",
        "      <td> 84035.074969</td>\n",
        "      <td> 84037.719532</td>\n",
        "      <td> 84045.663001</td>\n",
        "      <td> 84054.495357</td>\n",
        "      <td> 84075.790985</td>\n",
        "      <td> 84032.556096</td>\n",
        "      <td> 84089.112653</td>\n",
        "      <td> 84078.745160</td>\n",
        "    </tr>\n",
        "    <tr>\n",
        "      <th>S LM2 R_Energies</th>\n",
        "      <td> 84041.104404</td>\n",
        "      <td> 84044.164480</td>\n",
        "      <td> 84051.195012</td>\n",
        "      <td> 84054.598632</td>\n",
        "      <td> 84033.827294</td>\n",
        "      <td> 84032.836857</td>\n",
        "      <td> 84037.665118</td>\n",
        "      <td> 84052.805995</td>\n",
        "    </tr>\n",
        "    <tr>\n",
        "      <th>S LM3 R_Energies</th>\n",
        "      <td> 84034.629620</td>\n",
        "      <td> 84037.194912</td>\n",
        "      <td> 84044.178973</td>\n",
        "      <td> 84054.032548</td>\n",
        "      <td> 84033.974372</td>\n",
        "      <td> 84033.677081</td>\n",
        "      <td> 84041.426494</td>\n",
        "      <td> 84047.095733</td>\n",
        "    </tr>\n",
        "    <tr>\n",
        "      <th>S LM4 R_Energies</th>\n",
        "      <td> 84034.424300</td>\n",
        "      <td> 84037.544387</td>\n",
        "      <td> 84044.810263</td>\n",
        "      <td> 84054.391826</td>\n",
        "      <td> 84035.308161</td>\n",
        "      <td> 84033.136355</td>\n",
        "      <td> 84042.040204</td>\n",
        "      <td> 84045.476081</td>\n",
        "    </tr>\n",
        "  </tbody>\n",
        "</table>\n",
        "</div>"
       ],
       "metadata": {},
       "output_type": "pyout",
       "prompt_number": 61,
       "text": [
        "                                 loc1          loc2          loc3  \\\n",
        "R_Energies                  10.141055      6.903734     -0.432229   \n",
        "O2 R_Energies $\\Delta$      -1.970929      0.881871      7.785407   \n",
        "O3 R_Energies $\\Delta$      -7.709352     -5.783931      0.685365   \n",
        "O4 R_Energies $\\Delta$      -2.861313     -0.230583     -1.183556   \n",
        "HM2 R_Energies $\\Delta$      3.023718      6.098240     13.648268   \n",
        "HM3 R_Energies $\\Delta$     -8.227211     -6.384643      1.154629   \n",
        "HM4 R_Energies $\\Delta$     -3.511981     -0.405728     -2.036293   \n",
        "LR2-LM2 R_Energies          -4.994647     -5.216369     -5.862861   \n",
        "LR3-LM3 R_Energies           0.517859      0.600712     -0.469264   \n",
        "LR4-LM4 R_Energies           0.650668      0.175145      0.852737   \n",
        "S LR2 R_Energies         84036.109757  84038.948112  84045.332151   \n",
        "S LR3 R_Energies         84035.147479  84037.795624  84043.709710   \n",
        "S LR4 R_Energies         84035.074969  84037.719532  84045.663001   \n",
        "S LM2 R_Energies         84041.104404  84044.164480  84051.195012   \n",
        "S LM3 R_Energies         84034.629620  84037.194912  84044.178973   \n",
        "S LM4 R_Energies         84034.424300  84037.544387  84044.810263   \n",
        "\n",
        "                                 loc4          loc5          loc6  \\\n",
        "R_Energies                 -44.788049     12.742521     13.488693   \n",
        "O2 R_Energies $\\Delta$       2.710845     40.536820     -2.575797   \n",
        "O3 R_Energies $\\Delta$      -0.356140     41.848165     -1.274287   \n",
        "O4 R_Energies $\\Delta$      -0.095801     44.916874      0.674390   \n",
        "HM2 R_Energies $\\Delta$      2.861908     -1.341819     -2.362417   \n",
        "HM3 R_Energies $\\Delta$     -0.587626     -0.590281     -0.952834   \n",
        "HM4 R_Energies $\\Delta$     -0.199332      4.434050      1.254649   \n",
        "LR2-LM2 R_Energies          -0.151062     41.878640     -0.213380   \n",
        "LR3-LM3 R_Energies           0.231486     42.438446     -0.321453   \n",
        "LR4-LM4 R_Energies           0.103531     40.482824     -0.580259   \n",
        "S LR2 R_Energies         84054.447569  84075.705934  84032.623477   \n",
        "S LR3 R_Energies         84054.264034  84076.412818  84033.355628   \n",
        "S LR4 R_Energies         84054.495357  84075.790985  84032.556096   \n",
        "S LM2 R_Energies         84054.598632  84033.827294  84032.836857   \n",
        "S LM3 R_Energies         84054.032548  84033.974372  84033.677081   \n",
        "S LM4 R_Energies         84054.391826  84035.308161  84033.136355   \n",
        "\n",
        "                                 loc7          loc8  \n",
        "R_Energies                   9.091169    -14.935228  \n",
        "O2 R_Energies $\\Delta$      54.204626     57.335466  \n",
        "O3 R_Energies $\\Delta$      55.275198     47.542855  \n",
        "O4 R_Energies $\\Delta$      52.142410     42.966060  \n",
        "HM2 R_Energies $\\Delta$      2.139213     29.798429  \n",
        "HM3 R_Energies $\\Delta$      5.454819     16.778995  \n",
        "HM4 R_Energies $\\Delta$      5.069961      9.696981  \n",
        "LR2-LM2 R_Energies          52.065413     27.537037  \n",
        "LR3-LM3 R_Energies          49.820380     30.763860  \n",
        "LR4-LM4 R_Energies          47.072449     33.269080  \n",
        "S LR2 R_Energies         84089.730531  84080.343032  \n",
        "S LR3 R_Energies         84091.246873  84077.859592  \n",
        "S LR4 R_Energies         84089.112653  84078.745160  \n",
        "S LM2 R_Energies         84037.665118  84052.805995  \n",
        "S LM3 R_Energies         84041.426494  84047.095733  \n",
        "S LM4 R_Energies         84042.040204  84045.476081  "
       ]
      }
     ],
     "prompt_number": 61
    },
    {
     "cell_type": "code",
     "collapsed": false,
     "input": [
      "opt_o2_azo[4].calc.components[0].calc.energy_zero, opt_o2_azo[4].calc.components[1].calc.energy_zero, opt_o2_azo[4].calc.components[2].calc.energy_zero"
     ],
     "language": "python",
     "metadata": {},
     "outputs": [
      {
       "metadata": {},
       "output_type": "pyout",
       "prompt_number": 62,
       "text": [
        "(15.530389164387067, -20397.917800234456, 4.46691756654481)"
       ]
      }
     ],
     "prompt_number": 62
    },
    {
     "cell_type": "code",
     "collapsed": false,
     "input": [
      "opt_o2_rxn_Es = array([m1.calc.energy_zero - m2.calc.energy_zero - azo_alone.calc.energy_zero for m1,m2 in zip(opt_o2_azo, opt_o2_graph) if m1.calc.status=='Success'])\n",
      "\n",
      "opt_o2_rxn_Es"
     ],
     "language": "python",
     "metadata": {},
     "outputs": [
      {
       "metadata": {},
       "output_type": "pyout",
       "prompt_number": 63,
       "text": [
        "array([ 0.3542902 ,  0.33761576,  0.31886398, -1.82464018,  2.31041082,\n",
        "        0.47322791,  2.74476533,  1.83864828])"
       ]
      }
     ],
     "prompt_number": 63
    },
    {
     "cell_type": "code",
     "collapsed": false,
     "input": [],
     "language": "python",
     "metadata": {},
     "outputs": []
    },
    {
     "cell_type": "code",
     "collapsed": false,
     "input": [],
     "language": "python",
     "metadata": {},
     "outputs": []
    },
    {
     "cell_type": "code",
     "collapsed": false,
     "input": [
      "#huckel_stab_es"
     ],
     "language": "python",
     "metadata": {},
     "outputs": []
    },
    {
     "cell_type": "code",
     "collapsed": false,
     "input": [
      "#pre cclib units switch:\n",
      "#print('opt_o2_lreal_rxn_Es[0] =', 84190.06683845)\n",
      "#print('opt_o2_hmodel_rxn_Es[0]=', 13.18730053)"
     ],
     "language": "python",
     "metadata": {},
     "outputs": []
    },
    {
     "cell_type": "code",
     "collapsed": false,
     "input": [
      "opt_o2_lreal_rxn_Es[0],opt_o2_hmodel_rxn_Es[0]"
     ],
     "language": "python",
     "metadata": {},
     "outputs": [
      {
       "metadata": {},
       "output_type": "pyout",
       "prompt_number": 64,
       "text": [
        "(3644.5902175640476, 0.57087858893100929)"
       ]
      }
     ],
     "prompt_number": 64
    },
    {
     "cell_type": "code",
     "collapsed": false,
     "input": [
      "#freq calcs\n",
      "\n",
      "for i,opt_graph in enumerate(opt_o2_graph):\n",
      "    opt_label = opt_graph.calc.label + '_freq'\n",
      "    opt_graph.calc.restart(label=opt_label, opt='', freq='freq')\n",
      "    opt_graph.calc.set_job(nodes=16, memory=16*1600, time=20, queue='pqmb', version='g09-d01')\n",
      "    #opt_graph.calc.start()\n",
      "    \n",
      "for i,opt_azo in enumerate(opt_o2_azo):\n",
      "    opt_label = opt_azo.calc.label + '_freq'\n",
      "    opt_azo.calc.restart(label=opt_label, opt='', freq='freq')\n",
      "    opt_azo.calc.set_job(nodes=16, memory=16*1600, time=20, queue='pqmb', version='g09-d01')\n",
      "    #opt_azo.calc.start()\n",
      "\n",
      "for i,opt_graph in enumerate(opt_o3_graph):\n",
      "    opt_label = opt_graph.calc.label + '_freq'\n",
      "    opt_graph.calc.restart(label=opt_label, opt='', freq='freq')\n",
      "    opt_graph.calc.set_job(nodes=16, memory=16*1600, time=20, queue='pqmb', version='g09-d01')\n",
      "    #opt_graph.calc.start()\n",
      "    \n",
      "for i,opt_azo in enumerate(opt_o3_azo):\n",
      "    opt_label = opt_azo.calc.label + '_freq'\n",
      "    opt_azo.calc.restart(label=opt_label, opt='', freq='freq')\n",
      "    opt_azo.calc.set_job(nodes=16, memory=16*1600, time=30, queue='pqmb', version='g09-d01')\n",
      "    #opt_azo.calc.start()"
     ],
     "language": "python",
     "metadata": {},
     "outputs": [],
     "prompt_number": 65
    },
    {
     "cell_type": "code",
     "collapsed": false,
     "input": [
      "p_calcs = check_calcs(opt_o2_azo + opt_o3_azo)\n",
      "mols_to_html(opt_o2_azo + opt_o3_azo)"
     ],
     "language": "python",
     "metadata": {},
     "outputs": [
      {
       "html": [
        "\n",
        "    <style>\n",
        "    table\n",
        "    {\n",
        "        border-collapse:collapse;\n",
        "    }\n",
        "    td\n",
        "    {\n",
        "        padding:15px;\n",
        "    }\n",
        "    </style>\n",
        "    <body>\n",
        "    <table bgcolor=\"white\">\n",
        "    <col/><tr><td>o2_o2_66_p0_azomethine_freq</td><td><input type=\"button\" value=\"Smart Log\" id=\"o2_o2_66_p0_azomethine_freq\" onclick=\"IPython.cc_notebook.view_function(event, this.id)\" /></td><td>Success</td></tr><tr><td>o2_o2_66_p1_azomethine_freq</td><td><input type=\"button\" value=\"Smart Log\" id=\"o2_o2_66_p1_azomethine_freq\" onclick=\"IPython.cc_notebook.view_function(event, this.id)\" /></td><td>Success</td></tr><tr><td>o2_o2_66_p2_azomethine_freq</td><td><input type=\"button\" value=\"Smart Log\" id=\"o2_o2_66_p2_azomethine_freq\" onclick=\"IPython.cc_notebook.view_function(event, this.id)\" /></td><td>Success</td></tr><tr><td>o2_o2_66_p3_azomethine_freq</td><td><input type=\"button\" value=\"Smart Log\" id=\"o2_o2_66_p3_azomethine_freq\" onclick=\"IPython.cc_notebook.view_function(event, this.id)\" /></td><td>Success</td></tr><tr><td>o2_o2_66_p4_azomethine_freq</td><td><input type=\"button\" value=\"Smart Log\" id=\"o2_o2_66_p4_azomethine_freq\" onclick=\"IPython.cc_notebook.view_function(event, this.id)\" /></td><td>Success</td></tr><tr><td>o2_o2_66_p5_azomethine_freq</td><td><input type=\"button\" value=\"Smart Log\" id=\"o2_o2_66_p5_azomethine_freq\" onclick=\"IPython.cc_notebook.view_function(event, this.id)\" /></td><td>Success</td></tr><tr><td>o2_o2_66_p6_azomethine_freq</td><td><input type=\"button\" value=\"Smart Log\" id=\"o2_o2_66_p6_azomethine_freq\" onclick=\"IPython.cc_notebook.view_function(event, this.id)\" /></td><td>Success</td></tr><tr><td>o2_o2_66_p7_azomethine_freq</td><td><input type=\"button\" value=\"Smart Log\" id=\"o2_o2_66_p7_azomethine_freq\" onclick=\"IPython.cc_notebook.view_function(event, this.id)\" /></td><td>Success</td></tr><tr><td>o3_o3_66_p0_azomethine_freq</td><td><input type=\"button\" value=\"Smart Log\" id=\"o3_o3_66_p0_azomethine_freq\" onclick=\"IPython.cc_notebook.view_function(event, this.id)\" /></td><td>Success</td></tr><tr><td>o3_o3_66_p1_azomethine_freq</td><td><input type=\"button\" value=\"Smart Log\" id=\"o3_o3_66_p1_azomethine_freq\" onclick=\"IPython.cc_notebook.view_function(event, this.id)\" /></td><td>Success</td></tr><tr><td>o3_o3_66_p2_azomethine_freq</td><td><input type=\"button\" value=\"Smart Log\" id=\"o3_o3_66_p2_azomethine_freq\" onclick=\"IPython.cc_notebook.view_function(event, this.id)\" /></td><td>Success</td></tr><tr><td>o3_o3_66_p3_azomethine_freq</td><td><input type=\"button\" value=\"Smart Log\" id=\"o3_o3_66_p3_azomethine_freq\" onclick=\"IPython.cc_notebook.view_function(event, this.id)\" /></td><td>Success</td></tr><tr><td>o3_o3_66_p4_azomethine_freq</td><td><input type=\"button\" value=\"Smart Log\" id=\"o3_o3_66_p4_azomethine_freq\" onclick=\"IPython.cc_notebook.view_function(event, this.id)\" /></td><td>Success</td></tr><tr><td>o3_o3_66_p5_azomethine_freq</td><td><input type=\"button\" value=\"Smart Log\" id=\"o3_o3_66_p5_azomethine_freq\" onclick=\"IPython.cc_notebook.view_function(event, this.id)\" /></td><td>Success</td></tr><tr><td>o3_o3_66_p6_azomethine_freq</td><td><input type=\"button\" value=\"Smart Log\" id=\"o3_o3_66_p6_azomethine_freq\" onclick=\"IPython.cc_notebook.view_function(event, this.id)\" /></td><td>Success</td></tr><tr><td>o3_o3_66_p7_azomethine_freq</td><td><input type=\"button\" value=\"Smart Log\" id=\"o3_o3_66_p7_azomethine_freq\" onclick=\"IPython.cc_notebook.view_function(event, this.id)\" /></td><td>Success</td></tr>\n",
        "    </table>\n",
        "    </body>"
       ],
       "metadata": {},
       "output_type": "pyout",
       "prompt_number": 66,
       "text": [
        "<IPython.core.display.HTML at 0x7f57fedaa910>"
       ]
      }
     ],
     "prompt_number": 66
    },
    {
     "cell_type": "code",
     "collapsed": false,
     "input": [
      "#for m in p_calcs:\n",
      "#    m.calc.start()"
     ],
     "language": "python",
     "metadata": {},
     "outputs": [],
     "prompt_number": 67
    },
    {
     "cell_type": "code",
     "collapsed": false,
     "input": [
      "[m.calc.data['NImag'] for m in opt_o2_azo + opt_o3_azo]"
     ],
     "language": "python",
     "metadata": {},
     "outputs": [
      {
       "metadata": {},
       "output_type": "pyout",
       "prompt_number": 68,
       "text": [
        "[0.0,\n",
        " 0.0,\n",
        " 0.0,\n",
        " 0.0,\n",
        " 0.0,\n",
        " 0.0,\n",
        " 0.0,\n",
        " 0.0,\n",
        " 0.0,\n",
        " 0.0,\n",
        " 0.0,\n",
        " 0.0,\n",
        " 0.0,\n",
        " 0.0,\n",
        " 0.0,\n",
        " 0.0]"
       ]
      }
     ],
     "prompt_number": 68
    },
    {
     "cell_type": "code",
     "collapsed": false,
     "input": [
      "low_level_atoms = [[e for e in range(130) if e not in o4_graph_atom_ids[i] + azo_atom_ids] for i in range(8)]\n",
      "\n",
      "view_ipython_jmol([m.calc.log for m in opt_azo_66s][4:8],\n",
      "                  height=600, width=600, \n",
      "                  label=False, \n",
      "                  params=[{'spacefill':('off', atms)} for atms in low_level_atoms[4:8]])"
     ],
     "language": "python",
     "metadata": {},
     "outputs": [
      {
       "html": [
        "<div style=float:left><div id='applet_div_id_9481362460084'></div></div>\n",
        "<div style=float:left><div id='applet_div_id_808122267682'></div></div>\n",
        "<div style=float:left><div id='applet_div_id_1794424256821'></div></div>\n",
        "<div style=float:left><div id='applet_div_id_5568722877117'></div></div>\n",
        "<script type=\"text/Javascript\">//initialisation\n",
        "    var Info = {\n",
        "        color: \"#FFFFFF\",\n",
        "        width: 600,\n",
        "        height: 600,\n",
        "        serverURL: \"/nbextensions/jsmol/jsmol.php \",\n",
        "        use: \"HTML5\",\n",
        "        j2sPath: \"/nbextensions/jsmol/j2s\",\n",
        "        console: \"jmolApplet0_infodiv\"\n",
        "    }\n",
        "    //prevent applet from immediately generating html - allows us to place the applet in the div we wish\n",
        "    Jmol.setDocument(0)\n",
        "    //start applet\n",
        "    applet_id_9481362460084 = Jmol.getApplet(\"applet_id_9481362460084\", Info)\n",
        "    //insert applet html into applet_div_id_9481362460084\n",
        "    $(\"#applet_div_id_9481362460084\").html(Jmol.getAppletHtml(applet_id_9481362460084))\n",
        "    //execute scripts\n",
        "    Jmol.script(applet_id_9481362460084,\"load hypothesis_testing/UB3LYP_631Gd_UB3LYP_631Gd_66_p4_azomethine_restart_1.log; select all; set echo echoname 50% 90%; font echo 30; echo /home/clyde/Project/Notebooks/graphene_cycloadditions/hypothesis_testing/UB3LYP_631Gd_UB3LYP_631Gd_66_p4_azomethine_restart_1;select atomno=1,atomno=2,atomno=3,atomno=4,atomno=5,atomno=6,atomno=7,atomno=8,atomno=9,atomno=10,atomno=17,atomno=18,atomno=19,atomno=20,atomno=21,atomno=22,atomno=23,atomno=38,atomno=39,atomno=40,atomno=41,atomno=42,atomno=43,atomno=60,atomno=61,atomno=62,atomno=63,atomno=64,atomno=65,atomno=66,atomno=67,atomno=78,atomno=79,atomno=80,atomno=81,atomno=82,atomno=83,atomno=84,atomno=85,atomno=88,atomno=89,atomno=90,atomno=91,atomno=92,atomno=93,atomno=94,atomno=95,atomno=96,atomno=97,atomno=98,atomno=99,atomno=100,atomno=101,atomno=102,atomno=103,atomno=104,atomno=105,atomno=106,atomno=107,atomno=108,atomno=109,atomno=110,atomno=111,atomno=112,atomno=113,atomno=114,atomno=115,atomno=116,atomno=117,atomno=118,atomno=119,atomno=120,atomno=121,atomno=122; spacefill off;; set frank off; sync . SLAVE;\")\n",
        "    //start applet\n",
        "    applet_id_808122267682 = Jmol.getApplet(\"applet_id_808122267682\", Info)\n",
        "    //insert applet html into applet_div_id_808122267682\n",
        "    $(\"#applet_div_id_808122267682\").html(Jmol.getAppletHtml(applet_id_808122267682))\n",
        "    //execute scripts\n",
        "    Jmol.script(applet_id_808122267682,\"load hypothesis_testing/UB3LYP_631Gd_UB3LYP_631Gd_66_p5_azomethine_restart_1.log; select all; set echo echoname 50% 90%; font echo 30; echo /home/clyde/Project/Notebooks/graphene_cycloadditions/hypothesis_testing/UB3LYP_631Gd_UB3LYP_631Gd_66_p5_azomethine_restart_1;select atomno=1,atomno=2,atomno=3,atomno=4,atomno=5,atomno=6,atomno=7,atomno=8,atomno=9,atomno=10,atomno=13,atomno=14,atomno=15,atomno=16,atomno=17,atomno=18,atomno=19,atomno=20,atomno=21,atomno=22,atomno=23,atomno=34,atomno=35,atomno=36,atomno=37,atomno=38,atomno=39,atomno=40,atomno=41,atomno=58,atomno=59,atomno=60,atomno=61,atomno=62,atomno=63,atomno=78,atomno=79,atomno=80,atomno=81,atomno=88,atomno=89,atomno=90,atomno=91,atomno=92,atomno=93,atomno=94,atomno=95,atomno=96,atomno=97,atomno=98,atomno=99,atomno=100,atomno=101,atomno=102,atomno=103,atomno=104,atomno=105,atomno=106,atomno=107,atomno=108,atomno=111,atomno=112,atomno=115,atomno=116,atomno=117,atomno=118,atomno=119,atomno=120,atomno=121,atomno=122; spacefill off;; set frank off; sync . SLAVE;\")\n",
        "    //start applet\n",
        "    applet_id_1794424256821 = Jmol.getApplet(\"applet_id_1794424256821\", Info)\n",
        "    //insert applet html into applet_div_id_1794424256821\n",
        "    $(\"#applet_div_id_1794424256821\").html(Jmol.getAppletHtml(applet_id_1794424256821))\n",
        "    //execute scripts\n",
        "    Jmol.script(applet_id_1794424256821,\"load hypothesis_testing/UB3LYP_631Gd_UB3LYP_631Gd_66_p6_azomethine_restart_1.log; select all; set echo echoname 50% 90%; font echo 30; echo /home/clyde/Project/Notebooks/graphene_cycloadditions/hypothesis_testing/UB3LYP_631Gd_UB3LYP_631Gd_66_p6_azomethine_restart_1;select atomno=1,atomno=2,atomno=3,atomno=4,atomno=5,atomno=6,atomno=7,atomno=8,atomno=9,atomno=10,atomno=13,atomno=14,atomno=15,atomno=16,atomno=17,atomno=18,atomno=19,atomno=20,atomno=21,atomno=22,atomno=23,atomno=34,atomno=35,atomno=36,atomno=37,atomno=38,atomno=39,atomno=40,atomno=41,atomno=58,atomno=59,atomno=60,atomno=61,atomno=62,atomno=63,atomno=78,atomno=79,atomno=80,atomno=81,atomno=88,atomno=89,atomno=90,atomno=91,atomno=92,atomno=93,atomno=94,atomno=95,atomno=96,atomno=97,atomno=98,atomno=99,atomno=100,atomno=101,atomno=102,atomno=103,atomno=104,atomno=105,atomno=106,atomno=107,atomno=108,atomno=111,atomno=112,atomno=115,atomno=116,atomno=117,atomno=118,atomno=119,atomno=120,atomno=121,atomno=122; spacefill off;; set frank off; sync . SLAVE;\")\n",
        "    //start applet\n",
        "    applet_id_5568722877117 = Jmol.getApplet(\"applet_id_5568722877117\", Info)\n",
        "    //insert applet html into applet_div_id_5568722877117\n",
        "    $(\"#applet_div_id_5568722877117\").html(Jmol.getAppletHtml(applet_id_5568722877117))\n",
        "    //execute scripts\n",
        "    Jmol.script(applet_id_5568722877117,\"load hypothesis_testing/UB3LYP_631Gd_UB3LYP_631Gd_66_p7_azomethine_restart_1.log; select all; set echo echoname 50% 90%; font echo 30; echo /home/clyde/Project/Notebooks/graphene_cycloadditions/hypothesis_testing/UB3LYP_631Gd_UB3LYP_631Gd_66_p7_azomethine_restart_1;select atomno=1,atomno=2,atomno=3,atomno=4,atomno=5,atomno=6,atomno=7,atomno=8,atomno=9,atomno=10,atomno=13,atomno=14,atomno=15,atomno=16,atomno=17,atomno=18,atomno=19,atomno=20,atomno=21,atomno=22,atomno=23,atomno=34,atomno=35,atomno=36,atomno=37,atomno=38,atomno=39,atomno=40,atomno=41,atomno=58,atomno=59,atomno=60,atomno=61,atomno=62,atomno=63,atomno=78,atomno=79,atomno=80,atomno=81,atomno=88,atomno=89,atomno=90,atomno=91,atomno=92,atomno=93,atomno=94,atomno=95,atomno=96,atomno=97,atomno=98,atomno=99,atomno=100,atomno=101,atomno=102,atomno=103,atomno=104,atomno=105,atomno=106,atomno=107,atomno=108,atomno=111,atomno=112,atomno=115,atomno=116,atomno=117,atomno=118,atomno=119,atomno=120,atomno=121,atomno=122; spacefill off;; set frank off; sync . SLAVE;\")</script>"
       ],
       "metadata": {},
       "output_type": "pyout",
       "prompt_number": 71,
       "text": [
        "<IPython.core.display.HTML at 0x7f57fe7b2c50>"
       ]
      }
     ],
     "prompt_number": 71
    },
    {
     "cell_type": "code",
     "collapsed": false,
     "input": [
      "#low_level_atoms = [[e for e in range(130) if e not in o3_graph_atom_ids[i] + azo_atom_ids] for i in range(8)[4:]]\n",
      "\n",
      "#view_ipython_jmol([m.calc.log for m in opt_azo_66s[4:]],\n",
      "#                  height=600, width=600, \n",
      "#                  label=False, \n",
      "#                  params=[{'spacefill':('off', atms)} for atms in low_level_atoms])"
     ],
     "language": "python",
     "metadata": {},
     "outputs": [],
     "prompt_number": 69
    }
   ],
   "metadata": {}
  }
 ]
}