{
 "metadata": {
  "name": "",
  "signature": "sha256:1469d19f7ecbe3ce475b7ffdf28f517e56de179783339c8f2a14b84e129fd998"
 },
 "nbformat": 3,
 "nbformat_minor": 0,
 "worksheets": [
  {
   "cells": [
    {
     "cell_type": "markdown",
     "metadata": {},
     "source": [
      "Discovering the stability problem present in the earlier [carbonyl](Graphene_oniom_cycloadditions.ipynb ) and [azomethine](Graphene_oniom_cycloadditions_v2.ipynb) substitution cycloaddition calculations. This stability problem (numerous of the calculations are unstable) is the explanation for why the accuracy of the carbonyl and azomethine cycloaddition addition reactions was so different for a given cluster size/method. It also completely changes which methods/cluster sizes are the most accurate. "
     ]
    },
    {
     "cell_type": "code",
     "collapsed": false,
     "input": [
      "import pandas, os\n",
      "import numpy as np\n",
      "from webbrowser import open as open_log\n",
      "from math import pi\n",
      "from IPython.core.display import HTML, Image\n",
      "from ase.io import read, write\n",
      "from gausspy import Gaussian\n",
      "from glob import glob\n",
      "from ASE_utils import *\n",
      "from cc_notebook_utils import *\n",
      "from adsy import display as ad_disp\n",
      "from sympy import Matrix, init_printing\n",
      "\n",
      "init_printing()\n",
      "ad_disp.extended_styles()"
     ],
     "language": "python",
     "metadata": {},
     "outputs": [
      {
       "html": [
        "\n",
        "        <script type=\"text/javascript\">\n",
        "        var toggleInput;\n",
        "        (function() {\n",
        "            var inputInterval;\n",
        "            var intervalCount = 0;\n",
        "            var init = false;\n",
        "            var inputUp = false;\n",
        "            toggleInput = function() {\n",
        "                if(inputUp) {\n",
        "                    $('div.input').slideDown();\n",
        "                    $('div.code_cell').attr('style', '');\n",
        "                }\n",
        "                else {\n",
        "                    $('div.input').slideUp();\n",
        "                    $('div.code_cell').attr('style', 'padding: 0px; margin: 0px');\n",
        "                }\n",
        "                inputUp = !inputUp;\n",
        "                init = true;\n",
        "            }\n",
        "            function initExtendedStyles() {\n",
        "                if(intervalCount > 15) {\n",
        "                    clearInterval(inputInterval);\n",
        "                }\n",
        "                intervalCount += 1;\n",
        "                try {\n",
        "                    // Only slideUp if we're not on notebook server\n",
        "                    // meaning Print View and nbconverted\n",
        "                    if($('#save_status').length == 0 && init == false) {\n",
        "                        toggleInput();\n",
        "                    }\n",
        "                    clearInterval(inputInterval);\n",
        "                } catch(e) {}\n",
        "            }\n",
        "            if (typeof jQuery == 'undefined') {\n",
        "                // if jQuery Library is not loaded\n",
        "                var script = document.createElement( 'script' );\n",
        "                script.type = 'text/javascript';\n",
        "                script.src = 'https://ajax.googleapis.com/ajax/libs/jquery/1.8.3/jquery.min.js';\n",
        "                document.body.appendChild(script);\n",
        "            }\n",
        "\n",
        "            setTimeout(initExtendedStyles, 200);\n",
        "            // jQuery is doing this interval trick\n",
        "            // I guess its the way to do it then.\n",
        "            inputInterval = setInterval(initExtendedStyles, 1000);\n",
        "        }());\n",
        "        </script>\n",
        "        <a href=\"javascript:toggleInput()\">Toggle Input</a>\n",
        "        "
       ],
       "metadata": {},
       "output_type": "pyout",
       "prompt_number": 1,
       "text": [
        "<IPython.core.display.HTML at 0x4f7ca50>"
       ]
      }
     ],
     "prompt_number": 1
    },
    {
     "cell_type": "code",
     "collapsed": false,
     "input": [
      "cd cycloadd_oniom/"
     ],
     "language": "python",
     "metadata": {},
     "outputs": [
      {
       "output_type": "stream",
       "stream": "stdout",
       "text": [
        "/home/clyde/Dropbox/Project Stuff/Notebooks/graphene_cycloadditions/cycloadd_oniom\n"
       ]
      }
     ],
     "prompt_number": 2
    },
    {
     "cell_type": "markdown",
     "metadata": {},
     "source": [
      "We wish to understand why the  azomethine substituent fails to find the right transition state. The plan is to take a cluster size/low level method combination that succeeds for the carbonyl ylide transition state but fails for the azomethine ylide transition state. The we will calculate force constants at the starting geometry and look at the normal modes. The azomethine calculation will possess a second coordinate associated with a negative curvature this is what we need to examine.\n",
      "\n",
      "We will perform further calculations manually displacing the geometry along this coordinate to see if we can find the minimum. If so we can use that geometry as a starting point for a ts calculation without the 'noeigen' keyword.\n",
      "\n",
      "We will also perform a second order saddle point calculation to find the geometry associated with the maximum energy associated with this second coordinate. The aim is to discover whether this 2nd negative curvature is spurious and due to oniom or is real. To do this we will use Lee's analysis code to examine the contributions of the high and low level regions to the curvature.\n",
      "\n",
      "We use o3 cluster with the pm6 method as this does very well for the carbonyl substitutent but reaches a completely incorrect transition state for the azomethine substitutent. (We discover here that this apparent success is an illusion as the calculcations involved are unstable)."
     ]
    },
    {
     "cell_type": "code",
     "collapsed": false,
     "input": [
      "azo_44_ts_xyz = 'oniom_xyz_files/non_oniom_ts/B3LYP_631Gd_B3LYP_631Gd_4_4_cent_azomethine_ts_v2_final.xyz'\n",
      "carb_44_ts_xyz = 'oniom_xyz_files/non_oniom_ts/B3LYP_631Gd_B3LYP_631Gd_4_4_cent_carbonyl_ts3_final.xyz'\n",
      "azo_44_b3lyp_ts_freq = '../cycloadd/B3LYP_631Gd_B3LYP_631Gd_4_4_cent_azomethine_ts_v2_freq.log'\n",
      "carb_44_b3lyp_ts_freq =  '../cycloadd/B3LYP_631Gd_B3LYP_631Gd_4_4_cent_carbonyl_ts3_freq.log'\n",
      "\n",
      "ylide_atoms = [67,68,69,70,71,72,73,74]\n",
      "\n",
      "graph_atoms = {}\n",
      "#2 C atoms\n",
      "graph_atoms.update({0:[28,29]}) \n",
      "#10 C atoms\n",
      "graph_atoms.update({1:graph_atoms[0] + [12,13,14,15,27,41,42,30]})\n",
      "#16 C atoms\n",
      "graph_atoms.update({2:graph_atoms[1] + [11,25,26,16,32,31]})\n",
      "#18 C atoms\n",
      "graph_atoms.update({3:graph_atoms[2] + [24,33]})\n",
      "#42 C atoms (total molecule = 50 C atoms)\n",
      "graph_atoms.update({4:graph_atoms[2] + [38,39,52,40,47,55,48,56,43,44,53,45,17,6,60,5,4,59,3,58,2,1,57,10]}) "
     ],
     "language": "python",
     "metadata": {},
     "outputs": [],
     "prompt_number": 3
    },
    {
     "cell_type": "code",
     "collapsed": false,
     "input": [
      "azo_ts_test = read(azo_44_ts_xyz)\n",
      "azo_ts_test.set_calculator(Gaussian(label='azo_ts_test', method='oniom(B3LYP/6-31G(d):pm6)', basis='oniom', freq='freq'))\n",
      "azo_ts_test_H = ylide_atoms + graph_atoms[3]\n",
      "azo_ts_test.calc.oniom_coord_params['layers'] = [[no -1 for no in azo_ts_test_H]]\n",
      "azo_ts_test.calc.oniom_coord_params['layer_mults'] = [1,1]\n",
      "azo_ts_test.calc.set_job(nodes=12, memory=12*1600, time=(3+1)*7, queue='pqchem')\n",
      "#azo_ts_test.get_potential_energy()"
     ],
     "language": "python",
     "metadata": {},
     "outputs": [],
     "prompt_number": 4
    },
    {
     "cell_type": "code",
     "collapsed": false,
     "input": [
      "check_calcs([azo_ts_test])\n",
      "mols_to_html([azo_ts_test])"
     ],
     "language": "python",
     "metadata": {},
     "outputs": [
      {
       "html": [
        "\n",
        "    <style>\n",
        "    table\n",
        "    {\n",
        "        border-collapse:collapse;\n",
        "    }\n",
        "    td\n",
        "    {\n",
        "        padding:15px;\n",
        "    }\n",
        "    </style>\n",
        "    <body>\n",
        "    <table bgcolor=\"white\">\n",
        "    <col/><tr><td>azo_ts_test</td><td><a href = \"files/graphene_cycloadditions/cycloadd_oniom/azo_ts_test.com\" target = \"_blank\">com</a></td><td><input type=\"button\" value=\"Smart Log\" id=\"azo_ts_test\" onclick=\"IPython.cc_notebook.view_function(event, this.id)\" /></td><td>Success</td></tr>\n",
        "    </table>\n",
        "    </body>"
       ],
       "metadata": {},
       "output_type": "pyout",
       "prompt_number": 5,
       "text": [
        "<IPython.core.display.HTML at 0x4f83590>"
       ]
      }
     ],
     "prompt_number": 5
    },
    {
     "cell_type": "markdown",
     "metadata": {},
     "source": [
      "Three imaginary frequencies, the first is huge and means we are seeing a qualitatively different picture to the reference calculation, the second which is relatively close to the reference calculations negative frequency (-127.7718) and whose motion appears about right and the third of which is small:"
     ]
    },
    {
     "cell_type": "code",
     "collapsed": false,
     "input": [
      "azo_ts_test.calc.max_data['vibfreqs'][0:3]"
     ],
     "language": "python",
     "metadata": {},
     "outputs": [
      {
       "latex": [
        "$$\\begin{bmatrix}-1212.9073, & -113.4306, & -21.3731\\end{bmatrix}$$"
       ],
       "metadata": {},
       "output_type": "pyout",
       "png": "[encoded data removed]",
       "prompt_number": 6,
       "text": [
        "[-1212.9073, -113.4306, -21.3731]"
       ]
      }
     ],
     "prompt_number": 6
    },
    {
     "cell_type": "markdown",
     "metadata": {},
     "source": [
      "c.f. frequencies at this geometry for the full b3lyp/6-31g(d) calculation:"
     ]
    },
    {
     "cell_type": "code",
     "collapsed": false,
     "input": [
      "azo_b3lyp_ts, carb_b3lyp_ts = read(azo_44_b3lyp_ts_freq), read(carb_44_b3lyp_ts_freq)\n",
      "azo_b3lyp_ts.set_calculator(Gaussian(label = 'B3LYP_631Gd_B3LYP_631Gd_4_4_cent_azomethine_ts_v2_freq'))\n",
      "carb_b3lyp_ts.set_calculator(Gaussian(label = 'B3LYP_631Gd_B3LYP_631Gd_4_4_cent_carbonyl_ts3_freq'))\n",
      "\n",
      "#this is a horrible hack\n",
      "azo_b3lyp_ts.calc.label = '../cycloadd/' + azo_b3lyp_ts.calc.label\n",
      "carb_b3lyp_ts.calc.label = '../cycloadd/' + carb_b3lyp_ts.calc.label\n",
      "\n",
      "azo_b3lyp_ts.calc.max_data['vibfreqs'][0:3]"
     ],
     "language": "python",
     "metadata": {},
     "outputs": [
      {
       "latex": [
        "$$\\begin{bmatrix}-127.7718, & 29.1418, & 50.6197\\end{bmatrix}$$"
       ],
       "metadata": {},
       "output_type": "pyout",
       "png": "[encoded data removed]",
       "prompt_number": 7,
       "text": [
        "[-127.7718, 29.1418, 50.6197]"
       ]
      }
     ],
     "prompt_number": 7
    },
    {
     "cell_type": "code",
     "collapsed": false,
     "input": [
      "#view_ipython_jmol([azo_ts_test]*3, title = ['Mode 1', 'Mode 2', 'Mode 3'], vib=[1,2,3], width=530, height=400)"
     ],
     "language": "python",
     "metadata": {},
     "outputs": [],
     "prompt_number": 8
    },
    {
     "cell_type": "code",
     "collapsed": false,
     "input": [
      "m1,m2,m3 = [np.array(e) for e in azo_ts_test.calc.max_data['vibdisps'][0:3]]"
     ],
     "language": "python",
     "metadata": {},
     "outputs": [],
     "prompt_number": 9
    },
    {
     "cell_type": "code",
     "collapsed": false,
     "input": [
      "azo_ts_m1_tests = []\n",
      "for i in range(-5,0) + range(1,6):\n",
      "    current_calc = copy.deepcopy(azo_ts_test)\n",
      "    current_calc.calc.atoms.positions += m1*float(i)/5\n",
      "    current_calc.calc.label += '_m1_{no}'.format(no=i)\n",
      "    current_calc.calc.route_self_params['freq'] = None\n",
      "    current_calc.calc.set_job(nodes=12, memory=12*1600, time=8, queue='pqmb')\n",
      "    #current_calc.calc.start()\n",
      "    azo_ts_m1_tests.append(current_calc)"
     ],
     "language": "python",
     "metadata": {},
     "outputs": [],
     "prompt_number": 10
    },
    {
     "cell_type": "code",
     "collapsed": false,
     "input": [
      "azo_ts_m3_tests = []\n",
      "for i in range(-5,0) + range(1,6):\n",
      "    current_calc = copy.deepcopy(azo_ts_test)\n",
      "    current_calc.calc.atoms.positions += m3*float(i)/5\n",
      "    current_calc.calc.label += '_m3_{no}'.format(no=i)\n",
      "    current_calc.calc.route_self_params['freq'] = None\n",
      "    current_calc.calc.set_job(nodes=12, memory=12*1600, time=8, queue='pqmb')\n",
      "    #current_calc.calc.start()\n",
      "    azo_ts_m3_tests.append(current_calc)"
     ],
     "language": "python",
     "metadata": {},
     "outputs": [],
     "prompt_number": 11
    },
    {
     "cell_type": "code",
     "collapsed": false,
     "input": [
      "check_calcs(azo_ts_m1_tests + azo_ts_m3_tests)\n",
      "#mols_to_html(azo_ts_m1_tests + azo_ts_m3_tests)"
     ],
     "language": "python",
     "metadata": {},
     "outputs": [
      {
       "metadata": {},
       "output_type": "pyout",
       "prompt_number": 12,
       "text": [
        "'Calculations complete'"
       ]
      }
     ],
     "prompt_number": 12
    },
    {
     "cell_type": "code",
     "collapsed": false,
     "input": [
      "m1_data = [e.calc.energy_zero for e in azo_ts_m1_tests[0:5] + [azo_ts_test] + azo_ts_m1_tests[5:]]\n",
      "m3_data = [e.calc.energy_zero for e in azo_ts_m3_tests[0:5] + [azo_ts_test] + azo_ts_m3_tests[5:]]"
     ],
     "language": "python",
     "metadata": {},
     "outputs": [],
     "prompt_number": 13
    },
    {
     "cell_type": "markdown",
     "metadata": {},
     "source": [
      "Here we plot the effect of adding fractions of the first and third normal modes to the starting geometry on the total energy."
     ]
    },
    {
     "cell_type": "code",
     "collapsed": false,
     "input": [
      "#from pylab import plot\n",
      "#subplot(121), \n",
      "#p ,t = plot(np.arange(-5,6)/float(5), m1_data), title('Mode 1 displacement vs. Total Energy /eV')\n",
      "#subplot(122)\n",
      "#p2, t2 =plot(np.arange(-5,6)/float(5), m3_data), title('Mode 3 displacement vs. Total Energy /eV')\n",
      "#figsize(15,5)\n",
      "figsize(20,5)\n",
      "f, (p1,p2) = subplots(1,2)\n",
      "p1.plot(np.arange(-5,6)/float(5), m1_data)\n",
      "p1.set_title('Mode 1 displacement vs. Total Energy /eV')\n",
      "p2.plot(np.arange(-5,6)/float(5), m3_data)\n",
      "p2.set_title('Mode 3 displacement vs. Total Energy /eV')"
     ],
     "language": "python",
     "metadata": {},
     "outputs": [
      {
       "metadata": {},
       "output_type": "pyout",
       "prompt_number": 14,
       "text": [
        "<matplotlib.text.Text at 0x824f7d0>"
       ]
      },
      {
       "metadata": {},
       "output_type": "display_data",
       "png": "[encoded data removed]",
       "text": [
        "<matplotlib.figure.Figure at 0x72a2990>"
       ]
      }
     ],
     "prompt_number": 14
    },
    {
     "cell_type": "markdown",
     "metadata": {},
     "source": [
      "Strong dependance of the energy on the mode 1 coordinates so try adding up to a tenth of the first normal mode coordinates to the starting geometry:"
     ]
    },
    {
     "cell_type": "code",
     "collapsed": false,
     "input": [
      "azo_ts_m1_tests_v2 = []\n",
      "for i in range(-5,0) + range(1,6):\n",
      "    current_calc = copy.deepcopy(azo_ts_test)\n",
      "    current_calc.calc.atoms.positions += m1*float(i)/50\n",
      "    current_calc.calc.label += '_m1_{no}_v2'.format(no=i)\n",
      "    current_calc.calc.route_self_params['freq'] = None\n",
      "    current_calc.calc.set_job(nodes=12, memory=12*1600, time=8, queue='pqmb')\n",
      "    #current_calc.calc.start()\n",
      "    azo_ts_m1_tests_v2.append(current_calc)\n",
      "check_calcs(azo_ts_m1_tests_v2)"
     ],
     "language": "python",
     "metadata": {},
     "outputs": [
      {
       "metadata": {},
       "output_type": "pyout",
       "prompt_number": 15,
       "text": [
        "'Calculations complete'"
       ]
      }
     ],
     "prompt_number": 15
    },
    {
     "cell_type": "code",
     "collapsed": false,
     "input": [
      "m1_data_v2 = [e.calc.energy_zero for e in azo_ts_m1_tests_v2[0:5] + [azo_ts_test] + azo_ts_m1_tests_v2[5:]]"
     ],
     "language": "python",
     "metadata": {},
     "outputs": [],
     "prompt_number": 16
    },
    {
     "cell_type": "code",
     "collapsed": false,
     "input": [
      "figsize(10,5)\n",
      "p3 ,t3 = plot(np.arange(-5,6)/float(50), m1_data_v2), title('Mode 1 displacement vs. Total Energy /eV')"
     ],
     "language": "python",
     "metadata": {},
     "outputs": [
      {
       "metadata": {},
       "output_type": "display_data",
       "png": "[encoded data removed]",
       "text": [
        "<matplotlib.figure.Figure at 0x84c5890>"
       ]
      }
     ],
     "prompt_number": 17
    },
    {
     "cell_type": "code",
     "collapsed": false,
     "input": [
      "#view_ipython_jmol([azo_ts_test,azo_ts_m1_tests_v2[1]], title=['Orig', 'Mode 1 delta =-0.08'], width=600, height=500)"
     ],
     "language": "python",
     "metadata": {},
     "outputs": [],
     "prompt_number": 18
    },
    {
     "cell_type": "code",
     "collapsed": false,
     "input": [
      "mols_to_html([azo_ts_test,azo_ts_m1_tests_v2[1]])"
     ],
     "language": "python",
     "metadata": {},
     "outputs": [
      {
       "html": [
        "\n",
        "    <style>\n",
        "    table\n",
        "    {\n",
        "        border-collapse:collapse;\n",
        "    }\n",
        "    td\n",
        "    {\n",
        "        padding:15px;\n",
        "    }\n",
        "    </style>\n",
        "    <body>\n",
        "    <table bgcolor=\"white\">\n",
        "    <col/><tr><td>azo_ts_test</td><td><a href = \"files/graphene_cycloadditions/cycloadd_oniom/azo_ts_test.com\" target = \"_blank\">com</a></td><td><input type=\"button\" value=\"Smart Log\" id=\"azo_ts_test\" onclick=\"IPython.cc_notebook.view_function(event, this.id)\" /></td><td>Success</td></tr><tr><td>azo_ts_test_m1_-4_v2</td><td><a href = \"files/graphene_cycloadditions/cycloadd_oniom/azo_ts_test_m1_-4_v2.com\" target = \"_blank\">com</a></td><td><input type=\"button\" value=\"Smart Log\" id=\"azo_ts_test_m1_-4_v2\" onclick=\"IPython.cc_notebook.view_function(event, this.id)\" /></td><td>Success</td></tr>\n",
        "    </table>\n",
        "    </body>"
       ],
       "metadata": {},
       "output_type": "pyout",
       "prompt_number": 19,
       "text": [
        "<IPython.core.display.HTML at 0x822ba50>"
       ]
      }
     ],
     "prompt_number": 19
    },
    {
     "cell_type": "markdown",
     "metadata": {},
     "source": [
      "Let's look at the frequencies for the lowest E mode 1 geometry:"
     ]
    },
    {
     "cell_type": "code",
     "collapsed": false,
     "input": [
      "azo_ts_m1_neg4_v2_freq = copy.deepcopy(azo_ts_m1_tests_v2[1])\n",
      "azo_ts_m1_neg4_v2_freq.calc.restart(add_label='freq', geom='allcheck', guess='read', opt=None, freq='freq')#, start=True)\n",
      "check_calcs([azo_ts_m1_neg4_v2_freq])\n",
      "mols_to_html([azo_ts_m1_neg4_v2_freq])"
     ],
     "language": "python",
     "metadata": {},
     "outputs": [
      {
       "html": [
        "\n",
        "    <style>\n",
        "    table\n",
        "    {\n",
        "        border-collapse:collapse;\n",
        "    }\n",
        "    td\n",
        "    {\n",
        "        padding:15px;\n",
        "    }\n",
        "    </style>\n",
        "    <body>\n",
        "    <table bgcolor=\"white\">\n",
        "    <col/><tr><td>azo_ts_test_m1_-4_v2_freq_restart_1</td><td><a href = \"files/graphene_cycloadditions/cycloadd_oniom/azo_ts_test_m1_-4_v2_freq_restart_1.com\" target = \"_blank\">com</a></td><td><input type=\"button\" value=\"Smart Log\" id=\"azo_ts_test_m1_-4_v2_freq_restart_1\" onclick=\"IPython.cc_notebook.view_function(event, this.id)\" /></td><td>Success</td></tr>\n",
        "    </table>\n",
        "    </body>"
       ],
       "metadata": {},
       "output_type": "pyout",
       "prompt_number": 20,
       "text": [
        "<IPython.core.display.HTML at 0x9ccc490>"
       ]
      }
     ],
     "prompt_number": 20
    },
    {
     "cell_type": "code",
     "collapsed": false,
     "input": [
      "azo_ts_m1_neg4_v2_freq.calc.max_data['vibfreqs'][0:3]"
     ],
     "language": "python",
     "metadata": {},
     "outputs": [
      {
       "latex": [
        "$$\\begin{bmatrix}-105.2877, & -23.8571, & 2.4644\\end{bmatrix}$$"
       ],
       "metadata": {},
       "output_type": "pyout",
       "png": "[encoded data removed]",
       "prompt_number": 21,
       "text": [
        "[-105.2877, -23.8571, 2.4644]"
       ]
      }
     ],
     "prompt_number": 21
    },
    {
     "cell_type": "code",
     "collapsed": false,
     "input": [
      "#view_ipython_jmol([azo_ts_m1_neg4_v2_freq]*3, vib=[1,2,3], title=['Mode 1', 'Mode 2', 'Mode 3'], width=530, height=400)"
     ],
     "language": "python",
     "metadata": {},
     "outputs": [],
     "prompt_number": 22
    },
    {
     "cell_type": "markdown",
     "metadata": {},
     "source": [
      "Let's see what TS we get to if we start the optimisation at the lowest E geometry for the mode 1 coordinate: "
     ]
    },
    {
     "cell_type": "code",
     "collapsed": false,
     "input": [
      "azo_ts_test_v2 = read(azo_ts_m1_tests_v2[1].calc.label + '.log')\n",
      "azo_ts_test_v2.set_calculator(Gaussian(label='azo_ts_test_v2', method='oniom(B3LYP/6-31G(d):pm6)', basis='oniom', opt='calcfc, ts, noeigen'))\n",
      "azo_ts_test_H_v2 = ylide_atoms + graph_atoms[3]\n",
      "azo_ts_test_v2.calc.oniom_coord_params['layers'] = [[no -1 for no in azo_ts_test_H_v2]]\n",
      "azo_ts_test_v2.calc.oniom_coord_params['layer_mults'] = [1,1]\n",
      "azo_ts_test_v2.calc.set_job(nodes=12, memory=12*1600, time=(3+1)*7, queue='pqmb')\n",
      "#azo_ts_test_v2.get_potential_energy()"
     ],
     "language": "python",
     "metadata": {},
     "outputs": [],
     "prompt_number": 23
    },
    {
     "cell_type": "code",
     "collapsed": false,
     "input": [
      "check_calcs([azo_ts_test_v2])\n",
      "mols_to_html([azo_ts_test_v2])"
     ],
     "language": "python",
     "metadata": {},
     "outputs": [
      {
       "html": [
        "\n",
        "    <style>\n",
        "    table\n",
        "    {\n",
        "        border-collapse:collapse;\n",
        "    }\n",
        "    td\n",
        "    {\n",
        "        padding:15px;\n",
        "    }\n",
        "    </style>\n",
        "    <body>\n",
        "    <table bgcolor=\"white\">\n",
        "    <col/><tr><td>azo_ts_test_v2</td><td><a href = \"files/graphene_cycloadditions/cycloadd_oniom/azo_ts_test_v2.com\" target = \"_blank\">com</a></td><td><input type=\"button\" value=\"Smart Log\" id=\"azo_ts_test_v2\" onclick=\"IPython.cc_notebook.view_function(event, this.id)\" /></td><td>Success</td></tr>\n",
        "    </table>\n",
        "    </body>"
       ],
       "metadata": {},
       "output_type": "pyout",
       "prompt_number": 24,
       "text": [
        "<IPython.core.display.HTML at 0x822b1d0>"
       ]
      }
     ],
     "prompt_number": 24
    },
    {
     "cell_type": "code",
     "collapsed": false,
     "input": [
      "azo_ts_test_v2.calc.restart(add_label='freq', geom='allcheck', guess='read', opt=None, freq='freq')#,start=True)"
     ],
     "language": "python",
     "metadata": {},
     "outputs": [
      {
       "metadata": {},
       "output_type": "pyout",
       "prompt_number": 25,
       "text": [
        "<gausspy.gaussian.Gaussian instance at 0xa3baab8>"
       ]
      }
     ],
     "prompt_number": 25
    },
    {
     "cell_type": "code",
     "collapsed": false,
     "input": [
      "check_calcs([azo_ts_test_v2])\n",
      "mols_to_html([azo_ts_test_v2])"
     ],
     "language": "python",
     "metadata": {},
     "outputs": [
      {
       "html": [
        "\n",
        "    <style>\n",
        "    table\n",
        "    {\n",
        "        border-collapse:collapse;\n",
        "    }\n",
        "    td\n",
        "    {\n",
        "        padding:15px;\n",
        "    }\n",
        "    </style>\n",
        "    <body>\n",
        "    <table bgcolor=\"white\">\n",
        "    <col/><tr><td>azo_ts_test_v2_freq_restart_1</td><td><a href = \"files/graphene_cycloadditions/cycloadd_oniom/azo_ts_test_v2_freq_restart_1.com\" target = \"_blank\">com</a></td><td><input type=\"button\" value=\"Smart Log\" id=\"azo_ts_test_v2_freq_restart_1\" onclick=\"IPython.cc_notebook.view_function(event, this.id)\" /></td><td>Success</td></tr>\n",
        "    </table>\n",
        "    </body>"
       ],
       "metadata": {},
       "output_type": "pyout",
       "prompt_number": 26,
       "text": [
        "<IPython.core.display.HTML at 0x9ce51d0>"
       ]
      }
     ],
     "prompt_number": 26
    },
    {
     "cell_type": "code",
     "collapsed": false,
     "input": [
      "azo_ts_test_v2.calc.max_data['vibfreqs'][0:3]"
     ],
     "language": "python",
     "metadata": {},
     "outputs": [
      {
       "latex": [
        "$$\\begin{bmatrix}-195.7671, & 24.0015, & 48.8435\\end{bmatrix}$$"
       ],
       "metadata": {},
       "output_type": "pyout",
       "png": "[encoded data removed]",
       "prompt_number": 27,
       "text": [
        "[-195.7671, 24.0015, 48.8435]"
       ]
      }
     ],
     "prompt_number": 27
    },
    {
     "cell_type": "code",
     "collapsed": false,
     "input": [
      "#view_ipython_jmol([azo_ts_test_v2]*3, vib=[1,2,3], title=['Mode 1', 'Mode 2', 'Mode 3'], width=530, height=400)"
     ],
     "language": "python",
     "metadata": {},
     "outputs": [],
     "prompt_number": 28
    },
    {
     "cell_type": "markdown",
     "metadata": {},
     "source": [
      "Let's also see what the 2nd order saddle points starting from the above geometry but adding/subtracting in a little of the seemingly spurious coordinate looks like:"
     ]
    },
    {
     "cell_type": "code",
     "collapsed": false,
     "input": [
      "azo_ts_test_sad1, azo_ts_test_sad2 =copy.deepcopy(azo_ts_test_v2), copy.deepcopy(azo_ts_test_v2)\n",
      "azo_ts_test_sad1.calc.restart(remove_label = 'freq', add_label ='saddle_1', geom='', opt='calcfc, saddle=2')\n",
      "azo_ts_test_sad2.calc.restart(remove_label = 'freq', add_label ='saddle_2', geom='', opt='calcfc, saddle=2')\n",
      "azo_ts_test_sad1.calc.atoms.positions += 0.1*m1\n",
      "azo_ts_test_sad2.calc.atoms.positions -= 0.1*m1\n",
      "#azo_ts_test_sad1.calc.start()\n",
      "#azo_ts_test_sad2.calc.start()"
     ],
     "language": "python",
     "metadata": {},
     "outputs": [],
     "prompt_number": 29
    },
    {
     "cell_type": "code",
     "collapsed": false,
     "input": [
      "check_calcs([azo_ts_test_sad1, azo_ts_test_sad2])\n",
      "mols_to_html([azo_ts_test_sad1, azo_ts_test_sad2])"
     ],
     "language": "python",
     "metadata": {},
     "outputs": [
      {
       "html": [
        "\n",
        "    <style>\n",
        "    table\n",
        "    {\n",
        "        border-collapse:collapse;\n",
        "    }\n",
        "    td\n",
        "    {\n",
        "        padding:15px;\n",
        "    }\n",
        "    </style>\n",
        "    <body>\n",
        "    <table bgcolor=\"white\">\n",
        "    <col/><tr><td>azo_ts_test_v2_saddle_1_restart_2</td><td><a href = \"files/graphene_cycloadditions/cycloadd_oniom/azo_ts_test_v2_saddle_1_restart_2.com\" target = \"_blank\">com</a></td><td><input type=\"button\" value=\"Smart Log\" id=\"azo_ts_test_v2_saddle_1_restart_2\" onclick=\"IPython.cc_notebook.view_function(event, this.id)\" /></td><td>Success</td></tr><tr><td>azo_ts_test_v2_saddle_2_restart_2</td><td><a href = \"files/graphene_cycloadditions/cycloadd_oniom/azo_ts_test_v2_saddle_2_restart_2.com\" target = \"_blank\">com</a></td><td><input type=\"button\" value=\"Smart Log\" id=\"azo_ts_test_v2_saddle_2_restart_2\" onclick=\"IPython.cc_notebook.view_function(event, this.id)\" /></td><td>Error: </td></tr>\n",
        "    </table>\n",
        "    </body>"
       ],
       "metadata": {},
       "output_type": "pyout",
       "prompt_number": 30,
       "text": [
        "<IPython.core.display.HTML at 0x9c4c090>"
       ]
      }
     ],
     "prompt_number": 30
    },
    {
     "cell_type": "code",
     "collapsed": false,
     "input": [
      "azo_ts_test_sad1.calc.restart(add_label='freq', geom='allcheck', guess='read', opt=None, freq='freq')#,start=True)\n",
      "check_calcs([azo_ts_test_sad1])\n",
      "mols_to_html([azo_ts_test_sad1])"
     ],
     "language": "python",
     "metadata": {},
     "outputs": [
      {
       "html": [
        "\n",
        "    <style>\n",
        "    table\n",
        "    {\n",
        "        border-collapse:collapse;\n",
        "    }\n",
        "    td\n",
        "    {\n",
        "        padding:15px;\n",
        "    }\n",
        "    </style>\n",
        "    <body>\n",
        "    <table bgcolor=\"white\">\n",
        "    <col/><tr><td>azo_ts_test_v2_saddle_1_freq_restart_3</td><td><a href = \"files/graphene_cycloadditions/cycloadd_oniom/azo_ts_test_v2_saddle_1_freq_restart_3.com\" target = \"_blank\">com</a></td><td><input type=\"button\" value=\"Smart Log\" id=\"azo_ts_test_v2_saddle_1_freq_restart_3\" onclick=\"IPython.cc_notebook.view_function(event, this.id)\" /></td><td>Success</td></tr>\n",
        "    </table>\n",
        "    </body>"
       ],
       "metadata": {},
       "output_type": "pyout",
       "prompt_number": 31,
       "text": [
        "<IPython.core.display.HTML at 0x82a6090>"
       ]
      }
     ],
     "prompt_number": 31
    },
    {
     "cell_type": "code",
     "collapsed": false,
     "input": [
      "azo_ts_test_sad1.calc.max_data['vibfreqs'][0:3]"
     ],
     "language": "python",
     "metadata": {},
     "outputs": [
      {
       "latex": [
        "$$\\begin{bmatrix}-1214.3764, & -283.4239, & 23.9482\\end{bmatrix}$$"
       ],
       "metadata": {},
       "output_type": "pyout",
       "png": "[encoded data removed]",
       "prompt_number": 32,
       "text": [
        "[-1214.3764, -283.4239, 23.9482]"
       ]
      }
     ],
     "prompt_number": 32
    },
    {
     "cell_type": "code",
     "collapsed": false,
     "input": [
      "#view_delta(m1,m2, width=600, height=500, title='saddle - ts delta')"
     ],
     "language": "python",
     "metadata": {},
     "outputs": [],
     "prompt_number": 33
    },
    {
     "cell_type": "code",
     "collapsed": false,
     "input": [
      "oniom_saddle_geom, oniom_ts_geom, b3lyp_ts_geom = read(azo_ts_test_sad1.calc.label +'.log'), read(azo_ts_test_v2.calc.label +'.log'), read(azo_ts_test.calc.label + '.log')\n",
      "#view_ipython_jmol([oniom_saddle_geom, b3lyp_ts_geom, oniom_ts_geom], title = ['oniom 2nd order saddle point', 'b3lyp ts', 'oniom ts'], delta=oniom_ts_geom, width=560, height=500)"
     ],
     "language": "python",
     "metadata": {},
     "outputs": [],
     "prompt_number": 34
    },
    {
     "cell_type": "code",
     "collapsed": false,
     "input": [
      "azo_ts_test_sad1.calc.restart(add_label='analysis', geom='allcheck', guess='read', opt=None, freq='freq', symmetry='None', ioplist = ['7/123=1'])\n",
      "azo_ts_test_sad1.calc.set_job(nodes=12, memory=12*3000, time=24, version='gdv_latest')\n",
      "#azo_ts_test_sad1.calc.start()"
     ],
     "language": "python",
     "metadata": {},
     "outputs": [],
     "prompt_number": 35
    },
    {
     "cell_type": "code",
     "collapsed": false,
     "input": [
      "check_calcs([azo_ts_test_sad1])\n",
      "mols_to_html([azo_ts_test_sad1])"
     ],
     "language": "python",
     "metadata": {},
     "outputs": [
      {
       "html": [
        "\n",
        "    <style>\n",
        "    table\n",
        "    {\n",
        "        border-collapse:collapse;\n",
        "    }\n",
        "    td\n",
        "    {\n",
        "        padding:15px;\n",
        "    }\n",
        "    </style>\n",
        "    <body>\n",
        "    <table bgcolor=\"white\">\n",
        "    <col/><tr><td>azo_ts_test_v2_saddle_1_freq_analysis_restart_4</td><td><a href = \"files/graphene_cycloadditions/cycloadd_oniom/azo_ts_test_v2_saddle_1_freq_analysis_restart_4.com\" target = \"_blank\">com</a></td><td><input type=\"button\" value=\"Smart Log\" id=\"azo_ts_test_v2_saddle_1_freq_analysis_restart_4\" onclick=\"IPython.cc_notebook.view_function(event, this.id)\" /></td><td>Success</td></tr>\n",
        "    </table>\n",
        "    </body>"
       ],
       "metadata": {},
       "output_type": "pyout",
       "prompt_number": 36,
       "text": [
        "<IPython.core.display.HTML at 0x9c46a10>"
       ]
      }
     ],
     "prompt_number": 36
    },
    {
     "cell_type": "code",
     "collapsed": false,
     "input": [
      "azo_ts_test_sad1.calc.max_data['vibfreqs'][0:3]"
     ],
     "language": "python",
     "metadata": {},
     "outputs": [
      {
       "latex": [
        "$$\\begin{bmatrix}-1214.3179, & -283.326, & 23.8431\\end{bmatrix}$$"
       ],
       "metadata": {},
       "output_type": "pyout",
       "png": "[encoded data removed]",
       "prompt_number": 37,
       "text": [
        "[-1214.3179, -283.326, 23.8431]"
       ]
      }
     ],
     "prompt_number": 37
    },
    {
     "cell_type": "markdown",
     "metadata": {},
     "source": [
      "If we look at the oniom frequency analysis we see that this negative frequency breaks down as:"
     ]
    },
    {
     "cell_type": "code",
     "collapsed": false,
     "input": [
      "ad_disp.html_dict({'Low Real': -1091.9195, 'Low Model': 1341.9289, 'High Model': 1232.2716, 'Total': -1214.3179})"
     ],
     "language": "python",
     "metadata": {},
     "outputs": [
      {
       "html": [
        "<table class=\"nowrap\"><tr>\n",
        "<th>\n",
        "Low Model\n",
        "</th>\n",
        "<th>\n",
        "High Model\n",
        "</th>\n",
        "<th>\n",
        "Low Real\n",
        "</th>\n",
        "<th>\n",
        "Total\n",
        "</th>\n",
        "</tr><tr>\n",
        "<td><pre>\n",
        "1341.9289\n",
        "</pre></td>\n",
        "<td><pre>\n",
        "1232.2716\n",
        "</pre></td>\n",
        "<td><pre>\n",
        "-1091.9195\n",
        "</pre></td>\n",
        "<td><pre>\n",
        "-1214.3179\n",
        "</pre></td>\n",
        "</table>"
       ],
       "metadata": {},
       "output_type": "pyout",
       "prompt_number": 38,
       "text": [
        "<IPython.core.display.HTML at 0x9ccc7d0>"
       ]
      }
     ],
     "prompt_number": 38
    },
    {
     "cell_type": "markdown",
     "metadata": {},
     "source": [
      "the $\\Delta Model $ oniom term would contribute towards a small spurious negative frequency but the source of this large value is the huge negative frequency PM6 finds for the full system. To help cross check we run a frequency calculations at this geometry for the full B3LYP (this does not quite give us a 'High Real' to compare with the above because the modes are not the same, it would be nice to look at the mode defined by the oniom calculation and see what the force constants associated with this mode would be for the full real (maybe I can use the calculation below to do this?) "
     ]
    },
    {
     "cell_type": "code",
     "collapsed": false,
     "input": [
      "b3lyp_saddle = read(azo_ts_test_sad1.calc.label +'.log')\n",
      "b3lyp_saddle.set_calculator(Gaussian(label='azo_saddle_b3lyp_freq_analysis', method='B3LYP', basis='6-31G(d)', freq='freq'))\n",
      "b3lyp_saddle.calc.set_job(nodes=12, memory=12*3000, time=24)\n",
      "#b3lyp_saddle.calc.start()"
     ],
     "language": "python",
     "metadata": {},
     "outputs": [],
     "prompt_number": 39
    },
    {
     "cell_type": "code",
     "collapsed": false,
     "input": [
      "check_calcs([b3lyp_saddle])\n",
      "mols_to_html([b3lyp_saddle])"
     ],
     "language": "python",
     "metadata": {},
     "outputs": [
      {
       "html": [
        "\n",
        "    <style>\n",
        "    table\n",
        "    {\n",
        "        border-collapse:collapse;\n",
        "    }\n",
        "    td\n",
        "    {\n",
        "        padding:15px;\n",
        "    }\n",
        "    </style>\n",
        "    <body>\n",
        "    <table bgcolor=\"white\">\n",
        "    <col/><tr><td>azo_saddle_b3lyp_freq_analysis</td><td><a href = \"files/graphene_cycloadditions/cycloadd_oniom/azo_saddle_b3lyp_freq_analysis.com\" target = \"_blank\">com</a></td><td><input type=\"button\" value=\"Smart Log\" id=\"azo_saddle_b3lyp_freq_analysis\" onclick=\"IPython.cc_notebook.view_function(event, this.id)\" /></td><td>Success</td></tr>\n",
        "    </table>\n",
        "    </body>"
       ],
       "metadata": {},
       "output_type": "pyout",
       "prompt_number": 40,
       "text": [
        "<IPython.core.display.HTML at 0x9ce2550>"
       ]
      }
     ],
     "prompt_number": 40
    },
    {
     "cell_type": "code",
     "collapsed": false,
     "input": [
      "b3lyp_saddle.calc.max_data['vibfreqs'][0:3]"
     ],
     "language": "python",
     "metadata": {},
     "outputs": [
      {
       "latex": [
        "$$\\begin{bmatrix}-278.859, & 33.4421, & 55.3648\\end{bmatrix}$$"
       ],
       "metadata": {},
       "output_type": "pyout",
       "png": "[encoded data removed]",
       "prompt_number": 41,
       "text": [
        "[-278.859, 33.4421, 55.3648]"
       ]
      }
     ],
     "prompt_number": 41
    },
    {
     "cell_type": "markdown",
     "metadata": {},
     "source": [
      "The full calculation finds only one negative curvature at this geometry"
     ]
    },
    {
     "cell_type": "markdown",
     "metadata": {},
     "source": [
      "Perhaps our frequencies are nonsense because the wavefunctions is not stable - lets check the stability of the calculations:"
     ]
    },
    {
     "cell_type": "code",
     "collapsed": false,
     "input": [
      "stable1, stable2, stable3, stable4 = copy.deepcopy(azo_ts_test), copy.deepcopy(azo_ts_test_v2), copy.deepcopy(azo_ts_test_sad1), copy.deepcopy(b3lyp_saddle)\n",
      "\n",
      "#oniom @ b3lyp_geom_ts\n",
      "stable1.calc.restart(label='stable_check1', stable='stable', opt='', freq ='')#, start=True)\n",
      "#oniom @ oniom_geom_ts\n",
      "stable2.calc.restart(label='stable_check2', stable='stable', opt='', freq = '')#, start=True)\n",
      "#oniom @ oniom_geom_sad\n",
      "stable3.calc.restart(label='stable_check3', stable='stable', opt='', freq = '')#, start=True)\n",
      "#b3lyp @ oniom_geom_sad\n",
      "stable4.calc.restart(label='stable_check4', stable='stable', opt='', freq = '')#, start=True)"
     ],
     "language": "python",
     "metadata": {},
     "outputs": [
      {
       "metadata": {},
       "output_type": "pyout",
       "prompt_number": 42,
       "text": [
        "<gausspy.gaussian.Gaussian instance at 0xb54a830>"
       ]
      }
     ],
     "prompt_number": 42
    },
    {
     "cell_type": "code",
     "collapsed": false,
     "input": [
      "check_calcs([stable1, stable2, stable3, stable4])\n",
      "mols_to_html([stable1, stable2, stable3, stable4])"
     ],
     "language": "python",
     "metadata": {},
     "outputs": [
      {
       "html": [
        "\n",
        "    <style>\n",
        "    table\n",
        "    {\n",
        "        border-collapse:collapse;\n",
        "    }\n",
        "    td\n",
        "    {\n",
        "        padding:15px;\n",
        "    }\n",
        "    </style>\n",
        "    <body>\n",
        "    <table bgcolor=\"white\">\n",
        "    <col/><tr><td>stable_check1</td><td><a href = \"files/graphene_cycloadditions/cycloadd_oniom/stable_check1.com\" target = \"_blank\">com</a></td><td><input type=\"button\" value=\"Smart Log\" id=\"stable_check1\" onclick=\"IPython.cc_notebook.view_function(event, this.id)\" /></td><td>Success</td></tr><tr><td>stable_check2</td><td><a href = \"files/graphene_cycloadditions/cycloadd_oniom/stable_check2.com\" target = \"_blank\">com</a></td><td><input type=\"button\" value=\"Smart Log\" id=\"stable_check2\" onclick=\"IPython.cc_notebook.view_function(event, this.id)\" /></td><td>Success</td></tr><tr><td>stable_check3</td><td><a href = \"files/graphene_cycloadditions/cycloadd_oniom/stable_check3.com\" target = \"_blank\">com</a></td><td><input type=\"button\" value=\"Smart Log\" id=\"stable_check3\" onclick=\"IPython.cc_notebook.view_function(event, this.id)\" /></td><td>Success</td></tr><tr><td>stable_check4</td><td><a href = \"files/graphene_cycloadditions/cycloadd_oniom/stable_check4.com\" target = \"_blank\">com</a></td><td><input type=\"button\" value=\"Smart Log\" id=\"stable_check4\" onclick=\"IPython.cc_notebook.view_function(event, this.id)\" /></td><td>Success</td></tr>\n",
        "    </table>\n",
        "    </body>"
       ],
       "metadata": {},
       "output_type": "pyout",
       "prompt_number": 43,
       "text": [
        "<IPython.core.display.HTML at 0x9ce28d0>"
       ]
      }
     ],
     "prompt_number": 43
    },
    {
     "cell_type": "markdown",
     "metadata": {},
     "source": [
      "<font size=\"5\" color=\"red\">They are not stable</font>"
     ]
    },
    {
     "cell_type": "markdown",
     "metadata": {},
     "source": [
      "We now look at pure PM6 calculations at the above geometries:"
     ]
    },
    {
     "cell_type": "code",
     "collapsed": false,
     "input": [
      "#at the b3lyp ts_geom\n",
      "b_pm6_ts = read(azo_44_ts_xyz)\n",
      "b_pm6_ts.set_calculator(Gaussian(label='b3lyp_631Gd_pm6_azo_ts', method='pm6', freq='freq'))\n",
      "b_pm6_ts.calc.set_job(nodes=12, memory=12*1600, time=4)\n",
      "#b_pm6_ts.get_potential_energy()\n",
      "\n",
      "#at the oniom ts_geom\n",
      "o_pm6_ts = read(azo_ts_test_v2.calc.label +'.log')\n",
      "o_pm6_ts.set_calculator(Gaussian(label='oniom_pm6_azo_ts', method='pm6', freq='freq'))\n",
      "o_pm6_ts.calc.set_job(nodes=12, memory=12*1600, time=4)\n",
      "#o_pm6_ts.get_potential_energy()\n",
      "\n",
      "#at the oniom saddle_geom\n",
      "o_pm6_sad = read(azo_ts_test_sad1.calc.label +'.log')\n",
      "o_pm6_sad.set_calculator(Gaussian(label='oniom_pm6_azo_saddle', method='pm6', freq='freq'))\n",
      "o_pm6_sad.calc.set_job(nodes=12, memory=12*1600, time=4)\n",
      "#o_pm6_sad.get_potential_energy()\n",
      "\n",
      "#searching for the pm6 ts_geometry starting at the b3lyp ts_geometry\n",
      "pm6_opt_ts = read(azo_44_ts_xyz)\n",
      "pm6_opt_ts.set_calculator(Gaussian(label='pm6_pm6_azo_ts', method='pm6', opt='calcfc, ts, noeigen'))\n",
      "pm6_opt_ts.calc.set_job(nodes=12, memory=12*1600, time=12, queue='pqmb')\n",
      "#pm6_opt_ts.calc.start()"
     ],
     "language": "python",
     "metadata": {},
     "outputs": [],
     "prompt_number": 44
    },
    {
     "cell_type": "code",
     "collapsed": false,
     "input": [
      "#check frequencies for pm6 ts_geometry\n",
      "pm6_opt_ts.calc.restart(opt='', freq='freq', geom='allcheck', guess='read')\n",
      "pm6_opt_ts.calc.set_job(nodes=12, memory=12*1600, time=1, queue='pqmb')\n",
      "#pm6_opt_ts.calc.start()"
     ],
     "language": "python",
     "metadata": {},
     "outputs": [],
     "prompt_number": 45
    },
    {
     "cell_type": "code",
     "collapsed": false,
     "input": [
      "check_calcs([b_pm6_ts, o_pm6_ts, o_pm6_sad, pm6_opt_ts])\n",
      "mols_to_html([b_pm6_ts, o_pm6_ts, o_pm6_sad, pm6_opt_ts])"
     ],
     "language": "python",
     "metadata": {},
     "outputs": [
      {
       "html": [
        "\n",
        "    <style>\n",
        "    table\n",
        "    {\n",
        "        border-collapse:collapse;\n",
        "    }\n",
        "    td\n",
        "    {\n",
        "        padding:15px;\n",
        "    }\n",
        "    </style>\n",
        "    <body>\n",
        "    <table bgcolor=\"white\">\n",
        "    <col/><tr><td>b3lyp_631Gd_pm6_azo_ts</td><td><a href = \"files/graphene_cycloadditions/cycloadd_oniom/b3lyp_631Gd_pm6_azo_ts.com\" target = \"_blank\">com</a></td><td><input type=\"button\" value=\"Smart Log\" id=\"b3lyp_631Gd_pm6_azo_ts\" onclick=\"IPython.cc_notebook.view_function(event, this.id)\" /></td><td>Success</td></tr><tr><td>oniom_pm6_azo_ts</td><td><a href = \"files/graphene_cycloadditions/cycloadd_oniom/oniom_pm6_azo_ts.com\" target = \"_blank\">com</a></td><td><input type=\"button\" value=\"Smart Log\" id=\"oniom_pm6_azo_ts\" onclick=\"IPython.cc_notebook.view_function(event, this.id)\" /></td><td>Success</td></tr><tr><td>oniom_pm6_azo_saddle</td><td><a href = \"files/graphene_cycloadditions/cycloadd_oniom/oniom_pm6_azo_saddle.com\" target = \"_blank\">com</a></td><td><input type=\"button\" value=\"Smart Log\" id=\"oniom_pm6_azo_saddle\" onclick=\"IPython.cc_notebook.view_function(event, this.id)\" /></td><td>Success</td></tr><tr><td>pm6_pm6_azo_ts_restart_1</td><td><a href = \"files/graphene_cycloadditions/cycloadd_oniom/pm6_pm6_azo_ts_restart_1.com\" target = \"_blank\">com</a></td><td><input type=\"button\" value=\"Smart Log\" id=\"pm6_pm6_azo_ts_restart_1\" onclick=\"IPython.cc_notebook.view_function(event, this.id)\" /></td><td>Success</td></tr>\n",
        "    </table>\n",
        "    </body>"
       ],
       "metadata": {},
       "output_type": "pyout",
       "prompt_number": 46,
       "text": [
        "<IPython.core.display.HTML at 0x82a51d0>"
       ]
      }
     ],
     "prompt_number": 46
    },
    {
     "cell_type": "code",
     "collapsed": false,
     "input": [
      "for c in [b_pm6_ts, o_pm6_ts, o_pm6_sad, pm6_opt_ts]:\n",
      "    print(c.calc.max_data['vibfreqs'][0:3])"
     ],
     "language": "python",
     "metadata": {},
     "outputs": [
      {
       "output_type": "stream",
       "stream": "stdout",
       "text": [
        "[-1147.5309, -161.6647, -121.6337]\n",
        "[-289.5168, -140.1768, 28.4721]"
       ]
      },
      {
       "output_type": "stream",
       "stream": "stdout",
       "text": [
        "\n",
        "[-1100.3261, -426.2221, -141.7355]"
       ]
      },
      {
       "output_type": "stream",
       "stream": "stdout",
       "text": [
        "\n",
        "[-469.2892, 20.6897, 45.0919]"
       ]
      },
      {
       "output_type": "stream",
       "stream": "stdout",
       "text": [
        "\n"
       ]
      }
     ],
     "prompt_number": 47
    },
    {
     "cell_type": "markdown",
     "metadata": {},
     "source": [
      "We see the large negative frequency at the b3lyp ts geometry coming from the pm6 calculations which is reduced at the oniom ts geometry, we also see that pm6 over estimates the frequency of the desired transition state. If we look at them we see that at the B3LYP TS geom the curvature associated with the mode of interest is pretty good (infact the frequency is also pretty good) the problem is that the spurious negative frequency is huge and drags us away from this coordinate). The reason ONIOM is failing is therefore because pm6 is much better for the fragment than for the full model, so the B3lYP correction for the fragment is not enough to correct the error in the full system."
     ]
    },
    {
     "cell_type": "code",
     "collapsed": false,
     "input": [
      "#view_ipython_jmol([azo_b3lyp_ts, b_pm6_ts,pm6_opt_ts], vib=[1, 2,1], width=500, height=500)"
     ],
     "language": "python",
     "metadata": {},
     "outputs": [],
     "prompt_number": 48
    },
    {
     "cell_type": "markdown",
     "metadata": {},
     "source": [
      "Lets try the other low level methods at the B3LYP TS geometry to see what the frequencies look like:"
     ]
    },
    {
     "cell_type": "code",
     "collapsed": false,
     "input": [
      "azo_low_reals = []\n",
      "for meth in ['am1','HF/STO-3G', 'uff']:\n",
      "        low_real = read(azo_44_ts_xyz)\n",
      "        low_real.set_calculator(Gaussian(label='b3lyp_631Gd_{m}_azo_ts'.format(m=meth.replace('/','_')), method=meth, freq='freq'))\n",
      "        low_real.calc.set_job(nodes=12, memory=12*1600, time=4)\n",
      "        #low_real.calc.start()\n",
      "        azo_low_reals.append(low_real)\n",
      "azo_low_reals = [b_pm6_ts] + azo_low_reals "
     ],
     "language": "python",
     "metadata": {},
     "outputs": [],
     "prompt_number": 49
    },
    {
     "cell_type": "code",
     "collapsed": false,
     "input": [
      "check_calcs(azo_low_reals)\n",
      "mols_to_html(azo_low_reals)"
     ],
     "language": "python",
     "metadata": {},
     "outputs": [
      {
       "html": [
        "\n",
        "    <style>\n",
        "    table\n",
        "    {\n",
        "        border-collapse:collapse;\n",
        "    }\n",
        "    td\n",
        "    {\n",
        "        padding:15px;\n",
        "    }\n",
        "    </style>\n",
        "    <body>\n",
        "    <table bgcolor=\"white\">\n",
        "    <col/><tr><td>b3lyp_631Gd_pm6_azo_ts</td><td><a href = \"files/graphene_cycloadditions/cycloadd_oniom/b3lyp_631Gd_pm6_azo_ts.com\" target = \"_blank\">com</a></td><td><input type=\"button\" value=\"Smart Log\" id=\"b3lyp_631Gd_pm6_azo_ts\" onclick=\"IPython.cc_notebook.view_function(event, this.id)\" /></td><td>Success</td></tr><tr><td>b3lyp_631Gd_am1_azo_ts</td><td><a href = \"files/graphene_cycloadditions/cycloadd_oniom/b3lyp_631Gd_am1_azo_ts.com\" target = \"_blank\">com</a></td><td><input type=\"button\" value=\"Smart Log\" id=\"b3lyp_631Gd_am1_azo_ts\" onclick=\"IPython.cc_notebook.view_function(event, this.id)\" /></td><td>Success</td></tr><tr><td>b3lyp_631Gd_HF_STO-3G_azo_ts</td><td><a href = \"files/graphene_cycloadditions/cycloadd_oniom/b3lyp_631Gd_HF_STO-3G_azo_ts.com\" target = \"_blank\">com</a></td><td><input type=\"button\" value=\"Smart Log\" id=\"b3lyp_631Gd_HF_STO-3G_azo_ts\" onclick=\"IPython.cc_notebook.view_function(event, this.id)\" /></td><td>Success</td></tr><tr><td>b3lyp_631Gd_uff_azo_ts</td><td><a href = \"files/graphene_cycloadditions/cycloadd_oniom/b3lyp_631Gd_uff_azo_ts.com\" target = \"_blank\">com</a></td><td><input type=\"button\" value=\"Smart Log\" id=\"b3lyp_631Gd_uff_azo_ts\" onclick=\"IPython.cc_notebook.view_function(event, this.id)\" /></td><td>Success</td></tr>\n",
        "    </table>\n",
        "    </body>"
       ],
       "metadata": {},
       "output_type": "pyout",
       "prompt_number": 50,
       "text": [
        "<IPython.core.display.HTML at 0x84c89d0>"
       ]
      }
     ],
     "prompt_number": 50
    },
    {
     "cell_type": "code",
     "collapsed": false,
     "input": [
      "carb_low_reals = []\n",
      "for meth in ['pm6', 'am1','HF/STO-3G', 'uff']:\n",
      "        low_real = read(carb_44_ts_xyz)\n",
      "        low_real.set_calculator(Gaussian(label='b3lyp_631Gd_{m}_carb_ts'.format(m=meth.replace('/','_')), method=meth, freq='freq'))\n",
      "        low_real.calc.set_job(nodes=12, memory=12*1600, time=4, queue='pqmb')\n",
      "        #low_real.calc.start()\n",
      "        carb_low_reals.append(low_real)\n"
     ],
     "language": "python",
     "metadata": {},
     "outputs": [],
     "prompt_number": 51
    },
    {
     "cell_type": "code",
     "collapsed": false,
     "input": [
      "check_calcs(carb_low_reals)\n",
      "mols_to_html(carb_low_reals)"
     ],
     "language": "python",
     "metadata": {},
     "outputs": [
      {
       "html": [
        "\n",
        "    <style>\n",
        "    table\n",
        "    {\n",
        "        border-collapse:collapse;\n",
        "    }\n",
        "    td\n",
        "    {\n",
        "        padding:15px;\n",
        "    }\n",
        "    </style>\n",
        "    <body>\n",
        "    <table bgcolor=\"white\">\n",
        "    <col/><tr><td>b3lyp_631Gd_pm6_carb_ts</td><td><a href = \"files/graphene_cycloadditions/cycloadd_oniom/b3lyp_631Gd_pm6_carb_ts.com\" target = \"_blank\">com</a></td><td><input type=\"button\" value=\"Smart Log\" id=\"b3lyp_631Gd_pm6_carb_ts\" onclick=\"IPython.cc_notebook.view_function(event, this.id)\" /></td><td>Success</td></tr><tr><td>b3lyp_631Gd_am1_carb_ts</td><td><a href = \"files/graphene_cycloadditions/cycloadd_oniom/b3lyp_631Gd_am1_carb_ts.com\" target = \"_blank\">com</a></td><td><input type=\"button\" value=\"Smart Log\" id=\"b3lyp_631Gd_am1_carb_ts\" onclick=\"IPython.cc_notebook.view_function(event, this.id)\" /></td><td>Success</td></tr><tr><td>b3lyp_631Gd_HF_STO-3G_carb_ts</td><td><a href = \"files/graphene_cycloadditions/cycloadd_oniom/b3lyp_631Gd_HF_STO-3G_carb_ts.com\" target = \"_blank\">com</a></td><td><input type=\"button\" value=\"Smart Log\" id=\"b3lyp_631Gd_HF_STO-3G_carb_ts\" onclick=\"IPython.cc_notebook.view_function(event, this.id)\" /></td><td>Success</td></tr><tr><td>b3lyp_631Gd_uff_carb_ts</td><td><a href = \"files/graphene_cycloadditions/cycloadd_oniom/b3lyp_631Gd_uff_carb_ts.com\" target = \"_blank\">com</a></td><td><input type=\"button\" value=\"Smart Log\" id=\"b3lyp_631Gd_uff_carb_ts\" onclick=\"IPython.cc_notebook.view_function(event, this.id)\" /></td><td>Success</td></tr>\n",
        "    </table>\n",
        "    </body>"
       ],
       "metadata": {},
       "output_type": "pyout",
       "prompt_number": 52,
       "text": [
        "<IPython.core.display.HTML at 0x9cdfc50>"
       ]
      }
     ],
     "prompt_number": 52
    },
    {
     "cell_type": "code",
     "collapsed": false,
     "input": [
      "from collections import OrderedDict\n",
      "disp_dict = []\n",
      "for c in [azo_b3lyp_ts] + azo_low_reals + [carb_b3lyp_ts] + carb_low_reals:\n",
      "    disp_dict.append(OrderedDict([('Label',c.calc.label), ('Vib 1', c.calc.max_data['vibfreqs'][0]), ('Vib 2',c.calc.max_data['vibfreqs'][1]), ('Vib 3',c.calc.max_data['vibfreqs'][2])]))\n",
      "ad_disp.html_multi_dict(disp_dict)"
     ],
     "language": "python",
     "metadata": {},
     "outputs": [
      {
       "html": [
        "<table class=\"nowrap\"><tr>\n",
        "<th>\n",
        "Label\n",
        "</th>\n",
        "<th>\n",
        "Vib 1\n",
        "</th>\n",
        "<th>\n",
        "Vib 2\n",
        "</th>\n",
        "<th>\n",
        "Vib 3\n",
        "</th>\n",
        "<tr>\n",
        "<td><pre>\n",
        "'../cycloadd/B3LYP_631Gd_B3LYP_631Gd_4_4_cent_azomethine_ts_v2_freq'\n",
        "</pre></td>\n",
        "<td><pre>\n",
        "-127.7718\n",
        "</pre></td>\n",
        "<td><pre>\n",
        "29.1418\n",
        "</pre></td>\n",
        "<td><pre>\n",
        "50.6197\n",
        "</pre></td>\n",
        "</tr>\n",
        "<tr>\n",
        "<td><pre>\n",
        "'b3lyp_631Gd_pm6_azo_ts'\n",
        "</pre></td>\n",
        "<td><pre>\n",
        "-1147.5309\n",
        "</pre></td>\n",
        "<td><pre>\n",
        "-161.6647\n",
        "</pre></td>\n",
        "<td><pre>\n",
        "-121.6337\n",
        "</pre></td>\n",
        "</tr>\n",
        "<tr>\n",
        "<td><pre>\n",
        "'b3lyp_631Gd_am1_azo_ts'\n",
        "</pre></td>\n",
        "<td><pre>\n",
        "-916.1603\n",
        "</pre></td>\n",
        "<td><pre>\n",
        "-272.7453\n",
        "</pre></td>\n",
        "<td><pre>\n",
        "-160.7479\n",
        "</pre></td>\n",
        "</tr>\n",
        "<tr>\n",
        "<td><pre>\n",
        "'b3lyp_631Gd_HF_STO-3G_azo_ts'\n",
        "</pre></td>\n",
        "<td><pre>\n",
        "-691.6616\n",
        "</pre></td>\n",
        "<td><pre>\n",
        "-323.7845\n",
        "</pre></td>\n",
        "<td><pre>\n",
        "33.2461\n",
        "</pre></td>\n",
        "</tr>\n",
        "<tr>\n",
        "<td><pre>\n",
        "'b3lyp_631Gd_uff_azo_ts'\n",
        "</pre></td>\n",
        "<td><pre>\n",
        "-167.4052\n",
        "</pre></td>\n",
        "<td><pre>\n",
        "-69.854\n",
        "</pre></td>\n",
        "<td><pre>\n",
        "-46.2612\n",
        "</pre></td>\n",
        "</tr>\n",
        "<tr>\n",
        "<td><pre>\n",
        "'../cycloadd/B3LYP_631Gd_B3LYP_631Gd_4_4_cent_carbonyl_ts3_freq'\n",
        "</pre></td>\n",
        "<td><pre>\n",
        "-389.777\n",
        "</pre></td>\n",
        "<td><pre>\n",
        "28.6362\n",
        "</pre></td>\n",
        "<td><pre>\n",
        "39.6063\n",
        "</pre></td>\n",
        "</tr>\n",
        "<tr>\n",
        "<td><pre>\n",
        "'b3lyp_631Gd_pm6_carb_ts'\n",
        "</pre></td>\n",
        "<td><pre>\n",
        "-722.0081\n",
        "</pre></td>\n",
        "<td><pre>\n",
        "-502.412\n",
        "</pre></td>\n",
        "<td><pre>\n",
        "-26.0584\n",
        "</pre></td>\n",
        "</tr>\n",
        "<tr>\n",
        "<td><pre>\n",
        "'b3lyp_631Gd_am1_carb_ts'\n",
        "</pre></td>\n",
        "<td><pre>\n",
        "-447.9234\n",
        "</pre></td>\n",
        "<td><pre>\n",
        "-148.5583\n",
        "</pre></td>\n",
        "<td><pre>\n",
        "2.0523\n",
        "</pre></td>\n",
        "</tr>\n",
        "<tr>\n",
        "<td><pre>\n",
        "'b3lyp_631Gd_HF_STO-3G_carb_ts'\n",
        "</pre></td>\n",
        "<td><pre>\n",
        "-694.4485\n",
        "</pre></td>\n",
        "<td><pre>\n",
        "33.0177\n",
        "</pre></td>\n",
        "<td><pre>\n",
        "66.7017\n",
        "</pre></td>\n",
        "</tr>\n",
        "<tr>\n",
        "<td><pre>\n",
        "'b3lyp_631Gd_uff_carb_ts'\n",
        "</pre></td>\n",
        "<td><pre>\n",
        "-446.4299\n",
        "</pre></td>\n",
        "<td><pre>\n",
        "-328.6275\n",
        "</pre></td>\n",
        "<td><pre>\n",
        "-197.4017\n",
        "</pre></td>\n",
        "</tr>\n",
        "</table>"
       ],
       "metadata": {},
       "output_type": "pyout",
       "prompt_number": 53,
       "text": [
        "<IPython.core.display.HTML at 0x9c49b10>"
       ]
      }
     ],
     "prompt_number": 53
    },
    {
     "cell_type": "code",
     "collapsed": false,
     "input": [
      "#view_ipython_jmol(azo_low_reals+[azo_b3lyp_ts], vib=[1,1,1,1,1], width=400,height=400)"
     ],
     "language": "python",
     "metadata": {},
     "outputs": [],
     "prompt_number": 54
    },
    {
     "cell_type": "code",
     "collapsed": false,
     "input": [
      "#view_ipython_jmol(carb_low_reals+[carb_b3lyp_ts], vib=1, width=400,height=400)"
     ],
     "language": "python",
     "metadata": {},
     "outputs": [],
     "prompt_number": 55
    },
    {
     "cell_type": "markdown",
     "metadata": {},
     "source": [
      "check the stability of the pm6 calcs:"
     ]
    },
    {
     "cell_type": "code",
     "collapsed": false,
     "input": [
      "stable5, stable6, stable7, stable8 = copy.deepcopy(b_pm6_ts), copy.deepcopy(o_pm6_ts), copy.deepcopy(o_pm6_sad), copy.deepcopy(pm6_opt_ts)\n",
      "\n",
      "stable5.calc.restart(add_label = 'stable', stable='stable', freq='', opt=''), stable5.calc.set_job(nodes=8, memory=8*1600, time=12)#, stable5.calc.start()\n",
      "stable6.calc.restart(add_label = 'stable', stable='stable', freq='', opt=''), stable6.calc.set_job(nodes=8, memory=8*1600, time=12)#, stable6.calc.start()\n",
      "stable7.calc.restart(add_label = 'stable', stable='stable', freq='', opt=''), stable7.calc.set_job(nodes=8, memory=8*1600, time=12)#, stable7.calc.start()\n",
      "stable8.calc.restart(add_label = 'stable', stable='stable', freq='', opt=''), stable8.calc.set_job(nodes=8, memory=8*1600, time=12)#, stable8.calc.start()"
     ],
     "language": "python",
     "metadata": {},
     "outputs": [
      {
       "metadata": {},
       "output_type": "pyout",
       "prompt_number": 56,
       "text": [
        "(<gausspy.gaussian.Gaussian instance at 0xdada908>, None)"
       ]
      }
     ],
     "prompt_number": 56
    },
    {
     "cell_type": "code",
     "collapsed": false,
     "input": [
      "check_calcs([stable5, stable6, stable7, stable8])\n",
      "mols_to_html([stable5, stable6, stable7, stable8])"
     ],
     "language": "python",
     "metadata": {},
     "outputs": [
      {
       "html": [
        "\n",
        "    <style>\n",
        "    table\n",
        "    {\n",
        "        border-collapse:collapse;\n",
        "    }\n",
        "    td\n",
        "    {\n",
        "        padding:15px;\n",
        "    }\n",
        "    </style>\n",
        "    <body>\n",
        "    <table bgcolor=\"white\">\n",
        "    <col/><tr><td>b3lyp_631Gd_pm6_azo_ts_stable_restart_1</td><td><a href = \"files/graphene_cycloadditions/cycloadd_oniom/b3lyp_631Gd_pm6_azo_ts_stable_restart_1.com\" target = \"_blank\">com</a></td><td><input type=\"button\" value=\"Smart Log\" id=\"b3lyp_631Gd_pm6_azo_ts_stable_restart_1\" onclick=\"IPython.cc_notebook.view_function(event, this.id)\" /></td><td>Success</td></tr><tr><td>oniom_pm6_azo_ts_stable_restart_1</td><td><a href = \"files/graphene_cycloadditions/cycloadd_oniom/oniom_pm6_azo_ts_stable_restart_1.com\" target = \"_blank\">com</a></td><td><input type=\"button\" value=\"Smart Log\" id=\"oniom_pm6_azo_ts_stable_restart_1\" onclick=\"IPython.cc_notebook.view_function(event, this.id)\" /></td><td>Success</td></tr><tr><td>oniom_pm6_azo_saddle_stable_restart_1</td><td><a href = \"files/graphene_cycloadditions/cycloadd_oniom/oniom_pm6_azo_saddle_stable_restart_1.com\" target = \"_blank\">com</a></td><td><input type=\"button\" value=\"Smart Log\" id=\"oniom_pm6_azo_saddle_stable_restart_1\" onclick=\"IPython.cc_notebook.view_function(event, this.id)\" /></td><td>Success</td></tr><tr><td>pm6_pm6_azo_ts_stable_restart_2</td><td><a href = \"files/graphene_cycloadditions/cycloadd_oniom/pm6_pm6_azo_ts_stable_restart_2.com\" target = \"_blank\">com</a></td><td><input type=\"button\" value=\"Smart Log\" id=\"pm6_pm6_azo_ts_stable_restart_2\" onclick=\"IPython.cc_notebook.view_function(event, this.id)\" /></td><td>Success</td></tr>\n",
        "    </table>\n",
        "    </body>"
       ],
       "metadata": {},
       "output_type": "pyout",
       "prompt_number": 57,
       "text": [
        "<IPython.core.display.HTML at 0x9ccf490>"
       ]
      }
     ],
     "prompt_number": 57
    },
    {
     "cell_type": "code",
     "collapsed": false,
     "input": [
      "##this looks like a mistake (shouldn't I be running a upm6 geometry optimisation?)\n",
      "ub_pm6_ts = read(azo_44_ts_xyz)\n",
      "ub_pm6_ts.set_calculator(Gaussian(label='b3lyp_631Gd_upm6_azo_ts', method='pm6', stable='opt'))\n",
      "ub_pm6_ts.calc.set_job(nodes=12, memory=12*1600, time=4, queue='pqmb')\n",
      "#ub_pm6_ts.calc.start()\n",
      "check_calcs([ub_pm6_ts])\n",
      "mols_to_html([ub_pm6_ts])"
     ],
     "language": "python",
     "metadata": {},
     "outputs": [
      {
       "html": [
        "\n",
        "    <style>\n",
        "    table\n",
        "    {\n",
        "        border-collapse:collapse;\n",
        "    }\n",
        "    td\n",
        "    {\n",
        "        padding:15px;\n",
        "    }\n",
        "    </style>\n",
        "    <body>\n",
        "    <table bgcolor=\"white\">\n",
        "    <col/><tr><td>b3lyp_631Gd_upm6_azo_ts</td><td><a href = \"files/graphene_cycloadditions/cycloadd_oniom/b3lyp_631Gd_upm6_azo_ts.com\" target = \"_blank\">com</a></td><td><input type=\"button\" value=\"Smart Log\" id=\"b3lyp_631Gd_upm6_azo_ts\" onclick=\"IPython.cc_notebook.view_function(event, this.id)\" /></td><td>Success</td></tr>\n",
        "    </table>\n",
        "    </body>"
       ],
       "metadata": {},
       "output_type": "pyout",
       "prompt_number": 58,
       "text": [
        "<IPython.core.display.HTML at 0x82506d0>"
       ]
      }
     ],
     "prompt_number": 58
    },
    {
     "cell_type": "code",
     "collapsed": false,
     "input": [
      "ub_pm6_ts.calc.restart(stable='', geom='allcheck', guess='read', method='ump6', freq='freq')\n",
      "#ub_pm6_ts.calc.start()\n",
      "check_calcs([ub_pm6_ts])\n",
      "mols_to_html([ub_pm6_ts])"
     ],
     "language": "python",
     "metadata": {},
     "outputs": [
      {
       "html": [
        "\n",
        "    <style>\n",
        "    table\n",
        "    {\n",
        "        border-collapse:collapse;\n",
        "    }\n",
        "    td\n",
        "    {\n",
        "        padding:15px;\n",
        "    }\n",
        "    </style>\n",
        "    <body>\n",
        "    <table bgcolor=\"white\">\n",
        "    <col/><tr><td>b3lyp_631Gd_upm6_azo_ts_restart_1</td><td><a href = \"files/graphene_cycloadditions/cycloadd_oniom/b3lyp_631Gd_upm6_azo_ts_restart_1.com\" target = \"_blank\">com</a></td><td><input type=\"button\" value=\"Smart Log\" id=\"b3lyp_631Gd_upm6_azo_ts_restart_1\" onclick=\"IPython.cc_notebook.view_function(event, this.id)\" /></td><td>Success</td></tr>\n",
        "    </table>\n",
        "    </body>"
       ],
       "metadata": {},
       "output_type": "pyout",
       "prompt_number": 59,
       "text": [
        "<IPython.core.display.HTML at 0x9ce2ed0>"
       ]
      }
     ],
     "prompt_number": 59
    },
    {
     "cell_type": "code",
     "collapsed": false,
     "input": [
      "b_pm6_ts.calc.max_data['vibfreqs'][0:3]"
     ],
     "language": "python",
     "metadata": {},
     "outputs": [
      {
       "latex": [
        "$$\\begin{bmatrix}-1147.5309, & -161.6647, & -121.6337\\end{bmatrix}$$"
       ],
       "metadata": {},
       "output_type": "pyout",
       "png": "[encoded data removed]",
       "prompt_number": 60,
       "text": [
        "[-1147.5309, -161.6647, -121.6337]"
       ]
      }
     ],
     "prompt_number": 60
    },
    {
     "cell_type": "code",
     "collapsed": false,
     "input": [
      "ub_pm6_ts.calc.max_data['vibfreqs'][0:3]"
     ],
     "language": "python",
     "metadata": {},
     "outputs": [
      {
       "latex": [
        "$$\\begin{bmatrix}-1147.5309, & -161.6647, & -121.6337\\end{bmatrix}$$"
       ],
       "metadata": {},
       "output_type": "pyout",
       "png": "[encoded data removed]",
       "prompt_number": 61,
       "text": [
        "[-1147.5309, -161.6647, -121.6337]"
       ]
      }
     ],
     "prompt_number": 61
    },
    {
     "cell_type": "markdown",
     "metadata": {},
     "source": [
      "<font size=\"5\" color=\"red\">They are also not stable</font>"
     ]
    },
    {
     "cell_type": "markdown",
     "metadata": {},
     "source": [
      "Let's examine unrestricted versions of these calculations and see if we find the same behaviour:"
     ]
    },
    {
     "cell_type": "code",
     "collapsed": false,
     "input": [
      "unr_azo_ts_test = read(azo_44_ts_xyz)\n",
      "unr_azo_ts_test.set_calculator(Gaussian(label='unr_azo_ts_test', method='oniom(UB3LYP/6-31G(d):upm6)', basis='oniom', freq='freq'))\n",
      "unr_azo_ts_test_H = ylide_atoms + graph_atoms[3]\n",
      "unr_azo_ts_test.calc.oniom_coord_params['layers'] = [[no -1 for no in azo_ts_test_H]]\n",
      "unr_azo_ts_test.calc.oniom_coord_params['layer_mults'] = [1,1]\n",
      "unr_azo_ts_test.calc.set_job(nodes=16, memory=16*1600, time=(3+1)*7)\n",
      "#unr_azo_ts_test.calc.start()\n",
      "check_calcs([unr_azo_ts_test])\n",
      "mols_to_html([unr_azo_ts_test, azo_ts_test])"
     ],
     "language": "python",
     "metadata": {},
     "outputs": [
      {
       "html": [
        "\n",
        "    <style>\n",
        "    table\n",
        "    {\n",
        "        border-collapse:collapse;\n",
        "    }\n",
        "    td\n",
        "    {\n",
        "        padding:15px;\n",
        "    }\n",
        "    </style>\n",
        "    <body>\n",
        "    <table bgcolor=\"white\">\n",
        "    <col/><tr><td>unr_azo_ts_test</td><td><a href = \"files/graphene_cycloadditions/cycloadd_oniom/unr_azo_ts_test.com\" target = \"_blank\">com</a></td><td><input type=\"button\" value=\"Smart Log\" id=\"unr_azo_ts_test\" onclick=\"IPython.cc_notebook.view_function(event, this.id)\" /></td><td>Success</td></tr><tr><td>azo_ts_test</td><td><a href = \"files/graphene_cycloadditions/cycloadd_oniom/azo_ts_test.com\" target = \"_blank\">com</a></td><td><input type=\"button\" value=\"Smart Log\" id=\"azo_ts_test\" onclick=\"IPython.cc_notebook.view_function(event, this.id)\" /></td><td>Success</td></tr>\n",
        "    </table>\n",
        "    </body>"
       ],
       "metadata": {},
       "output_type": "pyout",
       "prompt_number": 62,
       "text": [
        "<IPython.core.display.HTML at 0x9cec250>"
       ]
      }
     ],
     "prompt_number": 62
    },
    {
     "cell_type": "markdown",
     "metadata": {},
     "source": [
      "The spurious negative frequency still occurs @ the RB3LYP/6-31G(d) TS geometry when we switch to unrestricted oniom calculations (infact the frequencies appear identical to the restricted calculations which seems strange given that we found an RHF->UHF instability):"
     ]
    },
    {
     "cell_type": "code",
     "collapsed": false,
     "input": [
      "unr_azo_ts_test.calc.max_data['vibfreqs'][0:3]"
     ],
     "language": "python",
     "metadata": {},
     "outputs": [
      {
       "latex": [
        "$$\\begin{bmatrix}-1212.9073, & -113.4306, & -21.3731\\end{bmatrix}$$"
       ],
       "metadata": {},
       "output_type": "pyout",
       "png": "[encoded data removed]",
       "prompt_number": 63,
       "text": [
        "[-1212.9073, -113.4306, -21.3731]"
       ]
      }
     ],
     "prompt_number": 63
    },
    {
     "cell_type": "code",
     "collapsed": false,
     "input": [
      "azo_ts_test.calc.max_data['vibfreqs'][0:3]"
     ],
     "language": "python",
     "metadata": {},
     "outputs": [
      {
       "latex": [
        "$$\\begin{bmatrix}-1212.9073, & -113.4306, & -21.3731\\end{bmatrix}$$"
       ],
       "metadata": {},
       "output_type": "pyout",
       "png": "[encoded data removed]",
       "prompt_number": 64,
       "text": [
        "[-1212.9073, -113.4306, -21.3731]"
       ]
      }
     ],
     "prompt_number": 64
    },
    {
     "cell_type": "markdown",
     "metadata": {},
     "source": [
      "Is the original RB3LYP transition state still a transition state if we use UB3LYP?"
     ]
    },
    {
     "cell_type": "code",
     "collapsed": false,
     "input": [
      "unr_b_azo_ts_test = read(azo_44_ts_xyz)\n",
      "unr_b_azo_ts_test.set_calculator(Gaussian(label='unr_b_azo_ts_test', method='UB3LYP', basis='6-31G(d)', freq='freq'))\n",
      "unr_b_azo_ts_test.calc.set_job(nodes=16, memory=16*1600, time=(3+1)*7)\n",
      "#unr_b_azo_ts_test.calc.start()\n",
      "check_calcs([unr_b_azo_ts_test])\n",
      "mols_to_html([unr_b_azo_ts_test, azo_b3lyp_ts])"
     ],
     "language": "python",
     "metadata": {},
     "outputs": [
      {
       "html": [
        "\n",
        "    <style>\n",
        "    table\n",
        "    {\n",
        "        border-collapse:collapse;\n",
        "    }\n",
        "    td\n",
        "    {\n",
        "        padding:15px;\n",
        "    }\n",
        "    </style>\n",
        "    <body>\n",
        "    <table bgcolor=\"white\">\n",
        "    <col/><tr><td>unr_b_azo_ts_test</td><td><a href = \"files/graphene_cycloadditions/cycloadd_oniom/unr_b_azo_ts_test.com\" target = \"_blank\">com</a></td><td><input type=\"button\" value=\"Smart Log\" id=\"unr_b_azo_ts_test\" onclick=\"IPython.cc_notebook.view_function(event, this.id)\" /></td><td>Success</td></tr><tr><td>../cycloadd/B3LYP_631Gd_B3LYP_631Gd_4_4_cent_azomethine_ts_v2_freq</td><td><a href = \"files/graphene_cycloadditions/cycloadd_oniom/../cycloadd/B3LYP_631Gd_B3LYP_631Gd_4_4_cent_azomethine_ts_v2_freq.com\" target = \"_blank\">com</a></td><td><input type=\"button\" value=\"Smart Log\" id=\"../cycloadd/B3LYP_631Gd_B3LYP_631Gd_4_4_cent_azomethine_ts_v2_freq\" onclick=\"IPython.cc_notebook.view_function(event, this.id)\" /></td><td>Success</td></tr>\n",
        "    </table>\n",
        "    </body>"
       ],
       "metadata": {},
       "output_type": "pyout",
       "prompt_number": 65,
       "text": [
        "<IPython.core.display.HTML at 0x4f83f10>"
       ]
      }
     ],
     "prompt_number": 65
    },
    {
     "cell_type": "markdown",
     "metadata": {},
     "source": [
      "Yes and again the frequencies are virtually identical:"
     ]
    },
    {
     "cell_type": "code",
     "collapsed": false,
     "input": [
      "unr_b_azo_ts_test.calc.max_data['vibfreqs'][0:3]"
     ],
     "language": "python",
     "metadata": {},
     "outputs": [
      {
       "latex": [
        "$$\\begin{bmatrix}-127.7717, & 29.1418, & 50.6197\\end{bmatrix}$$"
       ],
       "metadata": {},
       "output_type": "pyout",
       "png": "[encoded data removed]",
       "prompt_number": 66,
       "text": [
        "[-127.7717, 29.1418, 50.6197]"
       ]
      }
     ],
     "prompt_number": 66
    },
    {
     "cell_type": "markdown",
     "metadata": {},
     "source": [
      "c.f. frequencies at this geometry for the full b3lyp/6-31g(d) calculation:"
     ]
    },
    {
     "cell_type": "code",
     "collapsed": false,
     "input": [
      "azo_b3lyp_ts.calc.max_data['vibfreqs'][0:3]"
     ],
     "language": "python",
     "metadata": {},
     "outputs": [
      {
       "latex": [
        "$$\\begin{bmatrix}-127.7718, & 29.1418, & 50.6197\\end{bmatrix}$$"
       ],
       "metadata": {},
       "output_type": "pyout",
       "png": "[encoded data removed]",
       "prompt_number": 67,
       "text": [
        "[-127.7718, 29.1418, 50.6197]"
       ]
      }
     ],
     "prompt_number": 67
    }
   ],
   "metadata": {}
  }
 ]
}