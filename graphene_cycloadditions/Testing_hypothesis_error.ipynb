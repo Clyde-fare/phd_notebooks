{
 "metadata": {
  "name": "",
  "signature": "sha256:90453eef0bafc4fa790a52c4a2414979b173f8e735b108ae881557fef32a1e51"
 },
 "nbformat": 3,
 "nbformat_minor": 0,
 "worksheets": [
  {
   "cells": [
    {
     "cell_type": "markdown",
     "metadata": {},
     "source": [
      "This inherits from [Testing the hypothesis](Testing the hypothesis.ipynb) and includes a mistake made where I accidentally put the rotation of the azomethine substituent inside the loop which meant the locations where the substiution is occuring was in an unintended location for the final three substituents."
     ]
    },
    {
     "cell_type": "code",
     "collapsed": false,
     "input": [
      "from cc_notebook_utils import inherit_from\n",
      "inherit_from('Testing the hypothesis.ipynb', uptolink='Testing_hypothesis_error.ipynb', silent=True)"
     ],
     "language": "python",
     "metadata": {},
     "outputs": [
      {
       "output_type": "stream",
       "stream": "stdout",
       "text": [
        "Populating the interactive namespace from numpy and matplotlib\n",
        "/home/clyde/Dropbox/Project Stuff/Notebooks/graphene_cycloadditions/hypothesis_testing"
       ]
      },
      {
       "output_type": "stream",
       "stream": "stdout",
       "text": [
        "\n"
       ]
      }
     ],
     "prompt_number": 1
    },
    {
     "cell_type": "code",
     "collapsed": false,
     "input": [
      "cd error"
     ],
     "language": "python",
     "metadata": {},
     "outputs": [
      {
       "output_type": "stream",
       "stream": "stdout",
       "text": [
        "/home/clyde/Dropbox/Project Stuff/Notebooks/graphene_cycloadditions/hypothesis_testing/error\n"
       ]
      }
     ],
     "prompt_number": 2
    },
    {
     "cell_type": "code",
     "collapsed": false,
     "input": [
      "for inds in rxn_inds_2:\n",
      "    graph = read('6_6_flat_graphene.xyz')\n",
      "    \n",
      "    #originally molecule is aligned along the x-z plane so we swap the y & z coordinates and then rotate\n",
      "    graph.center()\n",
      "    X,Y,Z= zip(*graph.positions)\n",
      "    graph.positions = np.array(zip(X,Z,Y))\n",
      "    \n",
      "    ##erroneous rotation\n",
      "    graph.rotate('z', pi/2)\n",
      "\n",
      "    #set origin to be the left most reacting carbon\n",
      "    graph.positions -= graph.positions[inds[1]]\n",
      "\n",
      "    azo_atoms.rotate('z',2*pi/3)\n",
      "    #stack the azo_atoms over the graphitic fragment\n",
      "    azo_66 = graph + azo_atoms\n",
      "    \n",
      "   \n",
      "    #reset position\n",
      "    azo_66.positions += graph.positions[inds[1]]\n",
      "    \n",
      "    #add to stack\n",
      "    azo_66s.append(azo_66)\n",
      "\n",
      "azo_66s=azo_66s[4:]"
     ],
     "language": "python",
     "metadata": {},
     "outputs": [],
     "prompt_number": 3
    },
    {
     "cell_type": "code",
     "collapsed": false,
     "input": [
      "for i, azo_66 in enumerate(azo_66s):\n",
      "    name = 'UB3LYP_631Gd_init_66_p{p}_azomethine'.format(p=i+4)\n",
      "    azo_66.set_calculator(Gaussian(label=name, method='UB3LYP', basis='6-31G(d)', stable='opt'))\n",
      "    azo_66.calc.set_job(nodes=16, memory=16*1600, time=8, queue='pqmb', version='g09')\n",
      "    #azo_66.calc.start()\n",
      "\n",
      "check_calcs(azo_66s)\n",
      "mols_to_html(azo_66s)"
     ],
     "language": "python",
     "metadata": {},
     "outputs": [
      {
       "html": [
        "\n",
        "    <style>\n",
        "    table\n",
        "    {\n",
        "        border-collapse:collapse;\n",
        "    }\n",
        "    td\n",
        "    {\n",
        "        padding:15px;\n",
        "    }\n",
        "    </style>\n",
        "    <body>\n",
        "    <table bgcolor=\"white\">\n",
        "    <col/><tr><td>UB3LYP_631Gd_init_66_p4_azomethine</td><td><a href = \"files/graphene_cycloadditions/hypothesis_testing/error/UB3LYP_631Gd_init_66_p4_azomethine.com\" target = \"_blank\">com</a></td><td><input type=\"button\" value=\"Smart Log\" id=\"UB3LYP_631Gd_init_66_p4_azomethine\" onclick=\"IPython.cc_notebook.view_function(event, this.id)\" /></td><td>Success</td></tr><tr><td>UB3LYP_631Gd_init_66_p5_azomethine</td><td><a href = \"files/graphene_cycloadditions/hypothesis_testing/error/UB3LYP_631Gd_init_66_p5_azomethine.com\" target = \"_blank\">com</a></td><td><input type=\"button\" value=\"Smart Log\" id=\"UB3LYP_631Gd_init_66_p5_azomethine\" onclick=\"IPython.cc_notebook.view_function(event, this.id)\" /></td><td>Success</td></tr><tr><td>UB3LYP_631Gd_init_66_p6_azomethine</td><td><a href = \"files/graphene_cycloadditions/hypothesis_testing/error/UB3LYP_631Gd_init_66_p6_azomethine.com\" target = \"_blank\">com</a></td><td><input type=\"button\" value=\"Smart Log\" id=\"UB3LYP_631Gd_init_66_p6_azomethine\" onclick=\"IPython.cc_notebook.view_function(event, this.id)\" /></td><td>Success</td></tr><tr><td>UB3LYP_631Gd_init_66_p7_azomethine</td><td><a href = \"files/graphene_cycloadditions/hypothesis_testing/error/UB3LYP_631Gd_init_66_p7_azomethine.com\" target = \"_blank\">com</a></td><td><input type=\"button\" value=\"Smart Log\" id=\"UB3LYP_631Gd_init_66_p7_azomethine\" onclick=\"IPython.cc_notebook.view_function(event, this.id)\" /></td><td>Success</td></tr>\n",
        "    </table>\n",
        "    </body>"
       ],
       "metadata": {},
       "output_type": "pyout",
       "prompt_number": 4,
       "text": [
        "<IPython.core.display.HTML at 0x7f70b6ed9450>"
       ]
      }
     ],
     "prompt_number": 4
    },
    {
     "cell_type": "code",
     "collapsed": false,
     "input": [
      "opt_azo_66s = copy.deepcopy(azo_66s)\n",
      "for i,opt_azo in enumerate(opt_azo_66s):\n",
      "    opt_label = 'UB3LYP_631Gd_UB3LYP_631Gd_66_p{p}_azomethine'.format(p=i+4)\n",
      "    opt_azo.calc.restart(label=opt_label, stable='', opt='opt')\n",
      "    opt_azo.calc.set_job(nodes=16, memory=16*1600, time=60, queue='pqmb', version='g09')\n",
      "    #opt_azo.calc.start()\n",
      "    \n",
      "check_calcs(azo_66s)\n",
      "mols_to_html(azo_66s)"
     ],
     "language": "python",
     "metadata": {},
     "outputs": [
      {
       "html": [
        "\n",
        "    <style>\n",
        "    table\n",
        "    {\n",
        "        border-collapse:collapse;\n",
        "    }\n",
        "    td\n",
        "    {\n",
        "        padding:15px;\n",
        "    }\n",
        "    </style>\n",
        "    <body>\n",
        "    <table bgcolor=\"white\">\n",
        "    <col/><tr><td>UB3LYP_631Gd_init_66_p4_azomethine</td><td><a href = \"files/graphene_cycloadditions/hypothesis_testing/error/UB3LYP_631Gd_init_66_p4_azomethine.com\" target = \"_blank\">com</a></td><td><input type=\"button\" value=\"Smart Log\" id=\"UB3LYP_631Gd_init_66_p4_azomethine\" onclick=\"IPython.cc_notebook.view_function(event, this.id)\" /></td><td>Success</td></tr><tr><td>UB3LYP_631Gd_init_66_p5_azomethine</td><td><a href = \"files/graphene_cycloadditions/hypothesis_testing/error/UB3LYP_631Gd_init_66_p5_azomethine.com\" target = \"_blank\">com</a></td><td><input type=\"button\" value=\"Smart Log\" id=\"UB3LYP_631Gd_init_66_p5_azomethine\" onclick=\"IPython.cc_notebook.view_function(event, this.id)\" /></td><td>Success</td></tr><tr><td>UB3LYP_631Gd_init_66_p6_azomethine</td><td><a href = \"files/graphene_cycloadditions/hypothesis_testing/error/UB3LYP_631Gd_init_66_p6_azomethine.com\" target = \"_blank\">com</a></td><td><input type=\"button\" value=\"Smart Log\" id=\"UB3LYP_631Gd_init_66_p6_azomethine\" onclick=\"IPython.cc_notebook.view_function(event, this.id)\" /></td><td>Success</td></tr><tr><td>UB3LYP_631Gd_init_66_p7_azomethine</td><td><a href = \"files/graphene_cycloadditions/hypothesis_testing/error/UB3LYP_631Gd_init_66_p7_azomethine.com\" target = \"_blank\">com</a></td><td><input type=\"button\" value=\"Smart Log\" id=\"UB3LYP_631Gd_init_66_p7_azomethine\" onclick=\"IPython.cc_notebook.view_function(event, this.id)\" /></td><td>Success</td></tr>\n",
        "    </table>\n",
        "    </body>"
       ],
       "metadata": {},
       "output_type": "pyout",
       "prompt_number": 5,
       "text": [
        "<IPython.core.display.HTML at 0x7f70b6ed9410>"
       ]
      }
     ],
     "prompt_number": 5
    },
    {
     "cell_type": "code",
     "collapsed": false,
     "input": [],
     "language": "python",
     "metadata": {},
     "outputs": []
    }
   ],
   "metadata": {}
  }
 ]
}