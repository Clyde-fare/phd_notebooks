{
 "metadata": {
  "name": "",
  "signature": "sha256:709cbc2efa6a99ba6ce22bc4ef9ec7dec02d6cec44c04763e4fbf339017efe0f"
 },
 "nbformat": 3,
 "nbformat_minor": 0,
 "worksheets": [
  {
   "cells": [
    {
     "cell_type": "markdown",
     "metadata": {},
     "source": [
      "Continuing on from [the cycloaddition project](Unrestricted_graphene_oniom_cycloadditions_final.ipynb) we now test our hypothesis that matching fragment relative position and topology together with a PM6 low level method gives reasonable results for oniom on graphitic nanofragments."
     ]
    },
    {
     "cell_type": "code",
     "collapsed": false,
     "input": [
      "%pylab inline"
     ],
     "language": "python",
     "metadata": {},
     "outputs": [
      {
       "output_type": "stream",
       "stream": "stdout",
       "text": [
        "Populating the interactive namespace from numpy and matplotlib\n"
       ]
      }
     ],
     "prompt_number": 1
    },
    {
     "cell_type": "code",
     "collapsed": false,
     "input": [
      "import cc_notebook_utils\n",
      "from ase.io import read, write\n",
      "from gausspy import Gaussian\n",
      "from ASE_utils import *\n",
      "from cc_notebook_utils import *\n",
      "from gausspy.oniom_utils import oniom_stable\n",
      "from gaussian_job_manager import on_server\n",
      "#from adsy import display as ad_disp\n",
      "import pandas\n",
      "pandas.set_option('display.max_rows', 200)\n",
      "pandas.set_option('display.max_columns', 10)\n",
      "#ad_disp.extended_styles()\n",
      "o_stable = on_server(oniom_stable)"
     ],
     "language": "python",
     "metadata": {},
     "outputs": [],
     "prompt_number": 2
    },
    {
     "cell_type": "code",
     "collapsed": false,
     "input": [
      "cd hypothesis_testing/"
     ],
     "language": "python",
     "metadata": {},
     "outputs": [
      {
       "output_type": "stream",
       "stream": "stdout",
       "text": [
        "/home/clyde/Dropbox/Project Stuff/Notebooks/graphene_cycloadditions/hypothesis_testing\n"
       ]
      }
     ],
     "prompt_number": 3
    },
    {
     "cell_type": "code",
     "collapsed": false,
     "input": [
      "carb_atom_ids = [] \n",
      "azo_atom_ids = []\n",
      "\n",
      "o2_graph_atom_ids = [[],\n",
      "                  [],\n",
      "                  [],\n",
      "                  []\n",
      "\n",
      "o3_graph_atom_ids = [o2_graph_atom_ids[0] + [1],\n",
      "                  o2_graph_atom_ids[2] + [],\n",
      "                  o2_graph_atom_ids[2] + [],\n",
      "                  o2_graph_atom_ids[3] + []]\n",
      "\n",
      "o4_graph_atom_ids = [o3_graph_atom_ids[0] + [],\n",
      "                  o3_graph_atom_ids[1] + [],\n",
      "                  o3_graph_atom_ids[1] + [],\n",
      "                  o3_graph_atom_ids[1] + []]\n",
      "\n",
      "rxn_inds = [[], [], [], []]\n",
      "rxn_inds_2 = [[], [], [], [ ]]"
     ],
     "language": "python",
     "metadata": {},
     "outputs": [],
     "prompt_number": 4
    },
    {
     "cell_type": "markdown",
     "metadata": {},
     "source": [
      "Let's see if upm6 o2 model gives us good results for the 66 fragment."
     ]
    },
    {
     "cell_type": "code",
     "collapsed": false,
     "input": [
      "graph_66_v2 = read('66_model2_flat_graphene.xyz')\n",
      "graph_66_v2.set_calculator(Gaussian(label='UB3LYP_631Gd_init_6_6_graphene_v2', method='uB3LYP', basis='6-31G*', stable='opt'))\n",
      "graph_66_v2.calc.set_job(nodes=12, memory=12*1600, time=6, queue='pqmb', version='g09')\n",
      "#graph_66_v2.calc.start()\n",
      "\n",
      "graph_66_v2.calc.restart(label='UB3LYP_631Gd_UB3LYP_631Gd_6_6_graphene_v2', stable='', opt='opt')\n",
      "#graph_66_v2.calc.start()\n",
      "\n",
      "check_calcs([graph_66_v2])\n",
      "mols_to_html([graph_66_v2])\n",
      "\n",
      "#azo_pm6 = read('UB3LYP_631Gd_UB3LYP_631Gd_azomethine_ylide_mult_1_stable_restart_1.log')\n",
      "#azo_pm6.set_calculator(Gaussian(label='upm6_UB3LYP_631Gd_azomethine_ylide', method='upm6', stable='opt'))\n",
      "#azo_pm6.calc.set_job(nodes=8, memory=8*1600, time=3, queue='pqmb', version='g09')\n",
      "##azo_pm6.calc.start()\n",
      "\n",
      "#opt_azo_pm6 = copy.deepcopy(azo_alone)\n",
      "#opt_azo_pm6.calc.restart(label='upm6_upm6_azomethine_ylide', stable='', opt='opt')\n",
      "##opt_azo_pm6.calc.start()\n",
      "\n",
      "#check_calcs([graph_66, azo_alone, azo_pm6, opt_azo_pm6])\n",
      "#mols_to_html([graph_66, azo_alone, azo_pm6, opt_azo_pm6])"
     ],
     "language": "python",
     "metadata": {},
     "outputs": [
      {
       "html": [
        "\n",
        "    <style>\n",
        "    table\n",
        "    {\n",
        "        border-collapse:collapse;\n",
        "    }\n",
        "    td\n",
        "    {\n",
        "        padding:15px;\n",
        "    }\n",
        "    </style>\n",
        "    <body>\n",
        "    <table bgcolor=\"white\">\n",
        "    <col/><tr><td>UB3LYP_631Gd_UB3LYP_631Gd_6_6_graphene_restart_1</td><td><a href = \"files/graphene_cycloadditions/hypothesis_testing/UB3LYP_631Gd_UB3LYP_631Gd_6_6_graphene_restart_1.com\" target = \"_blank\">com</a></td><td><input type=\"button\" value=\"Smart Log\" id=\"UB3LYP_631Gd_UB3LYP_631Gd_6_6_graphene_restart_1\" onclick=\"IPython.cc_notebook.view_function(event, this.id)\" /></td><td>Success</td></tr><tr><td>UB3LYP_631Gd_UB3LYP_631Gd_azomethine_ylide_mult_1_stable_restart_1</td><td><a href = \"files/graphene_cycloadditions/hypothesis_testing/UB3LYP_631Gd_UB3LYP_631Gd_azomethine_ylide_mult_1_stable_restart_1.com\" target = \"_blank\">com</a></td><td><input type=\"button\" value=\"Smart Log\" id=\"UB3LYP_631Gd_UB3LYP_631Gd_azomethine_ylide_mult_1_stable_restart_1\" onclick=\"IPython.cc_notebook.view_function(event, this.id)\" /></td><td>Success</td></tr><tr><td>upm6_UB3LYP_631Gd_azomethine_ylide</td><td><a href = \"files/graphene_cycloadditions/hypothesis_testing/upm6_UB3LYP_631Gd_azomethine_ylide.com\" target = \"_blank\">com</a></td><td><input type=\"button\" value=\"Smart Log\" id=\"upm6_UB3LYP_631Gd_azomethine_ylide\" onclick=\"IPython.cc_notebook.view_function(event, this.id)\" /></td><td>Success</td></tr><tr><td>upm6_upm6_azomethine_ylide</td><td><a href = \"files/graphene_cycloadditions/hypothesis_testing/upm6_upm6_azomethine_ylide.com\" target = \"_blank\">com</a></td><td><input type=\"button\" value=\"Smart Log\" id=\"upm6_upm6_azomethine_ylide\" onclick=\"IPython.cc_notebook.view_function(event, this.id)\" /></td><td>Success</td></tr>\n",
        "    </table>\n",
        "    </body>"
       ],
       "metadata": {},
       "output_type": "pyout",
       "prompt_number": 6,
       "text": [
        "<IPython.core.display.HTML at 0x7fd9c948b810>"
       ]
      }
     ],
     "prompt_number": 6
    },
    {
     "cell_type": "code",
     "collapsed": false,
     "input": [
      "#build starting ylide structure\n",
      "\n",
      "cent_44_azo = read('UB3LYP_631Gd_UB3LYP_631Gd_4_4_cent_azomethine_v2_final.xyz')\n",
      "#cent_44_carb - read()\n",
      "azo_atoms = cent_44_azo[66:]\n",
      "\n",
      "#set origin to be C 1 then off set x-azis by -0.3A and z-axis by 1.6A\n",
      "azo_atoms.positions -= azo_atoms.positions[0]\n",
      "azo_atoms.positions += array([-0.3,0,1.6])\n",
      "\n",
      "azo_66s = []\n",
      "for inds in rxn_inds:\n",
      "    graph = read('6_6_flat_graphene.xyz')\n",
      "    \n",
      "    #originally molecule is aligned along the x-z plane so we swap the y & z coordinates and then rotate\n",
      "    graph.center()\n",
      "    X,Y,Z= zip(*graph.positions)\n",
      "    graph.positions = np.array(zip(X,Z,Y))\n",
      "    graph.rotate('z', pi/2)\n",
      "\n",
      "    #set origin to be the left most reacting carbon\n",
      "    graph.positions -= graph.positions[inds[0]]\n",
      "\n",
      "    #stack the azo_atoms over the graphitic fragment\n",
      "    azo_66 = graph + azo_atoms\n",
      "    \n",
      "    #reset position\n",
      "    azo_66.positions += graph.positions[inds[0]]\n",
      "    \n",
      "    #add to stack\n",
      "    azo_66s.append(azo_66)"
     ],
     "language": "python",
     "metadata": {},
     "outputs": [],
     "prompt_number": 8
    },
    {
     "cell_type": "markdown",
     "metadata": {},
     "source": [
      "Made a mistake in the cell below and included the rotate command within the above loop for rxn_inds2 leading to the azomethine occupying the wrong positions. Those erroneous calculations are present [here](Testing_hypothesis_error.ipynb)"
     ]
    },
    {
     "cell_type": "code",
     "collapsed": false,
     "input": [
      "azo_atoms.rotate('z',pi/3)\n",
      "for inds in rxn_inds_2:\n",
      "    graph = read('6_6_flat_graphene.xyz')\n",
      "    \n",
      "    #originally molecule is aligned along the x-z plane so we swap the y & z coordinates and then rotate\n",
      "    graph.center()\n",
      "    X,Y,Z= zip(*graph.positions)\n",
      "    graph.positions = np.array(zip(X,Z,Y))\n",
      "    graph.rotate('z', pi/2)\n",
      "\n",
      "    #set origin to be the left most reacting carbon\n",
      "    graph.positions -= graph.positions[inds[0]]\n",
      "\n",
      "    #stack the azo_atoms over the graphitic fragment\n",
      "    azo_66 = graph + azo_atoms\n",
      "    \n",
      "    #reset position\n",
      "    azo_66.positions += graph.positions[inds[1]]\n",
      "    \n",
      "    #add to stack\n",
      "    azo_66s.append(azo_66)"
     ],
     "language": "python",
     "metadata": {},
     "outputs": [],
     "prompt_number": 9
    },
    {
     "cell_type": "code",
     "collapsed": false,
     "input": [
      "for i, azo_66 in enumerate(azo_66s):\n",
      "    name = 'UB3LYP_631Gd_init_66_p{p}_azomethine'.format(p=i)\n",
      "    azo_66.set_calculator(Gaussian(label=name, method='UB3LYP', basis='6-31G(d)', stable='opt'))\n",
      "    azo_66.calc.set_job(nodes=16, memory=16*1600, time=12, queue='pqmb', version='g09')\n",
      "    #azo_66.calc.start()\n",
      "\n",
      "azo_66s[-1].calc.restart(basis='5-21G')\n",
      "#azo_66s[-1].calc.start()\n",
      "#check_calcs(azo_66s)\n",
      "#mols_to_html(azo_66s)"
     ],
     "language": "python",
     "metadata": {},
     "outputs": [],
     "prompt_number": 11
    },
    {
     "cell_type": "code",
     "collapsed": false,
     "input": [
      "opt_azo_66s = copy.deepcopy(azo_66s)\n",
      "for i,opt_azo in enumerate(opt_azo_66s):\n",
      "    opt_label = 'UB3LYP_631Gd_UB3LYP_631Gd_66_p{p}_azomethine'.format(p=i)\n",
      "    opt_azo.calc.restart(label=opt_label, stable='', opt='opt')\n",
      "    opt_azo.calc.set_job(nodes=16, memory=16*1600, time=60, queue='pqmb', version='g09')\n",
      "    #opt_azo.calc.start()"
     ],
     "language": "python",
     "metadata": {},
     "outputs": [],
     "prompt_number": 13
    },
    {
     "cell_type": "code",
     "collapsed": false,
     "input": [
      "check_calcs(opt_azo_66s)\n",
      "mols_to_html(opt_azo_66s)"
     ],
     "language": "python",
     "metadata": {},
     "outputs": [
      {
       "html": [
        "\n",
        "    <style>\n",
        "    table\n",
        "    {\n",
        "        border-collapse:collapse;\n",
        "    }\n",
        "    td\n",
        "    {\n",
        "        padding:15px;\n",
        "    }\n",
        "    </style>\n",
        "    <body>\n",
        "    <table bgcolor=\"white\">\n",
        "    <col/><tr><td>UB3LYP_631Gd_UB3LYP_631Gd_66_p0_azomethine</td><td><a href = \"files/graphene_cycloadditions/hypothesis_testing/UB3LYP_631Gd_UB3LYP_631Gd_66_p0_azomethine.com\" target = \"_blank\">com</a></td><td><input type=\"button\" value=\"Smart Log\" id=\"UB3LYP_631Gd_UB3LYP_631Gd_66_p0_azomethine\" onclick=\"IPython.cc_notebook.view_function(event, this.id)\" /></td><td>Success</td></tr><tr><td>UB3LYP_631Gd_UB3LYP_631Gd_66_p1_azomethine</td><td><a href = \"files/graphene_cycloadditions/hypothesis_testing/UB3LYP_631Gd_UB3LYP_631Gd_66_p1_azomethine.com\" target = \"_blank\">com</a></td><td><input type=\"button\" value=\"Smart Log\" id=\"UB3LYP_631Gd_UB3LYP_631Gd_66_p1_azomethine\" onclick=\"IPython.cc_notebook.view_function(event, this.id)\" /></td><td>Success</td></tr><tr><td>UB3LYP_631Gd_UB3LYP_631Gd_66_p2_azomethine</td><td><a href = \"files/graphene_cycloadditions/hypothesis_testing/UB3LYP_631Gd_UB3LYP_631Gd_66_p2_azomethine.com\" target = \"_blank\">com</a></td><td><input type=\"button\" value=\"Smart Log\" id=\"UB3LYP_631Gd_UB3LYP_631Gd_66_p2_azomethine\" onclick=\"IPython.cc_notebook.view_function(event, this.id)\" /></td><td>Success</td></tr><tr><td>UB3LYP_631Gd_UB3LYP_631Gd_66_p3_azomethine</td><td><a href = \"files/graphene_cycloadditions/hypothesis_testing/UB3LYP_631Gd_UB3LYP_631Gd_66_p3_azomethine.com\" target = \"_blank\">com</a></td><td><input type=\"button\" value=\"Smart Log\" id=\"UB3LYP_631Gd_UB3LYP_631Gd_66_p3_azomethine\" onclick=\"IPython.cc_notebook.view_function(event, this.id)\" /></td><td>Success</td></tr><tr><td>UB3LYP_631Gd_UB3LYP_631Gd_66_p4_azomethine</td><td><a href = \"files/graphene_cycloadditions/hypothesis_testing/UB3LYP_631Gd_UB3LYP_631Gd_66_p4_azomethine.com\" target = \"_blank\">com</a></td><td><input type=\"button\" value=\"Smart Log\" id=\"UB3LYP_631Gd_UB3LYP_631Gd_66_p4_azomethine\" onclick=\"IPython.cc_notebook.view_function(event, this.id)\" /></td><td>Incomplete</td></tr><tr><td>UB3LYP_631Gd_UB3LYP_631Gd_66_p5_azomethine</td><td><a href = \"files/graphene_cycloadditions/hypothesis_testing/UB3LYP_631Gd_UB3LYP_631Gd_66_p5_azomethine.com\" target = \"_blank\">com</a></td><td><input type=\"button\" value=\"Smart Log\" id=\"UB3LYP_631Gd_UB3LYP_631Gd_66_p5_azomethine\" onclick=\"IPython.cc_notebook.view_function(event, this.id)\" /></td><td>Success</td></tr><tr><td>UB3LYP_631Gd_UB3LYP_631Gd_66_p6_azomethine</td><td><a href = \"files/graphene_cycloadditions/hypothesis_testing/UB3LYP_631Gd_UB3LYP_631Gd_66_p6_azomethine.com\" target = \"_blank\">com</a></td><td><input type=\"button\" value=\"Smart Log\" id=\"UB3LYP_631Gd_UB3LYP_631Gd_66_p6_azomethine\" onclick=\"IPython.cc_notebook.view_function(event, this.id)\" /></td><td>Incomplete</td></tr><tr><td>UB3LYP_631Gd_UB3LYP_631Gd_66_p7_azomethine</td><td><a href = \"files/graphene_cycloadditions/hypothesis_testing/UB3LYP_631Gd_UB3LYP_631Gd_66_p7_azomethine.com\" target = \"_blank\">com</a></td><td><input type=\"button\" value=\"Smart Log\" id=\"UB3LYP_631Gd_UB3LYP_631Gd_66_p7_azomethine\" onclick=\"IPython.cc_notebook.view_function(event, this.id)\" /></td><td>Incomplete</td></tr>\n",
        "    </table>\n",
        "    </body>"
       ],
       "metadata": {},
       "output_type": "pyout",
       "prompt_number": 14,
       "text": [
        "<IPython.core.display.HTML at 0x7fd9c3f7d9d0>"
       ]
      }
     ],
     "prompt_number": 14
    },
    {
     "cell_type": "code",
     "collapsed": false,
     "input": [
      "#for opt_azo in opt_azo_66s:\n",
      "#    opt_azo.calc.restart(opt='', freq='freq')\n",
      "#    opt_azo.calc.set_job(nodes=16, memory=16*1600, time=72, queue='pqmb', version='g09')\n",
      "    #opt_azo.calc.start()"
     ],
     "language": "python",
     "metadata": {},
     "outputs": [],
     "prompt_number": 14
    },
    {
     "cell_type": "code",
     "collapsed": false,
     "input": [
      "#check_calcs(opt_azo_66s)\n",
      "#mols_to_html(opt_azo_66s)"
     ],
     "language": "python",
     "metadata": {},
     "outputs": [
      {
       "html": [
        "\n",
        "    <style>\n",
        "    table\n",
        "    {\n",
        "        border-collapse:collapse;\n",
        "    }\n",
        "    td\n",
        "    {\n",
        "        padding:15px;\n",
        "    }\n",
        "    </style>\n",
        "    <body>\n",
        "    <table bgcolor=\"white\">\n",
        "    <col/><tr><td>UB3LYP_631Gd_UB3LYP_631Gd_66_p0_azomethine_restart_1</td><td><a href = \"files/graphene_cycloadditions/hypothesis_testing/UB3LYP_631Gd_UB3LYP_631Gd_66_p0_azomethine_restart_1.com\" target = \"_blank\">com</a></td><td><input type=\"button\" value=\"Smart Log\" id=\"UB3LYP_631Gd_UB3LYP_631Gd_66_p0_azomethine_restart_1\" onclick=\"IPython.cc_notebook.view_function(event, this.id)\" /></td><td>Incomplete</td></tr><tr><td>UB3LYP_631Gd_UB3LYP_631Gd_66_p1_azomethine_restart_1</td><td><a href = \"files/graphene_cycloadditions/hypothesis_testing/UB3LYP_631Gd_UB3LYP_631Gd_66_p1_azomethine_restart_1.com\" target = \"_blank\">com</a></td><td><input type=\"button\" value=\"Smart Log\" id=\"UB3LYP_631Gd_UB3LYP_631Gd_66_p1_azomethine_restart_1\" onclick=\"IPython.cc_notebook.view_function(event, this.id)\" /></td><td>Incomplete</td></tr><tr><td>UB3LYP_631Gd_UB3LYP_631Gd_66_p2_azomethine_restart_1</td><td><a href = \"files/graphene_cycloadditions/hypothesis_testing/UB3LYP_631Gd_UB3LYP_631Gd_66_p2_azomethine_restart_1.com\" target = \"_blank\">com</a></td><td><input type=\"button\" value=\"Smart Log\" id=\"UB3LYP_631Gd_UB3LYP_631Gd_66_p2_azomethine_restart_1\" onclick=\"IPython.cc_notebook.view_function(event, this.id)\" /></td><td>Incomplete</td></tr><tr><td>UB3LYP_631Gd_UB3LYP_631Gd_66_p3_azomethine_restart_1</td><td><a href = \"files/graphene_cycloadditions/hypothesis_testing/UB3LYP_631Gd_UB3LYP_631Gd_66_p3_azomethine_restart_1.com\" target = \"_blank\">com</a></td><td><input type=\"button\" value=\"Smart Log\" id=\"UB3LYP_631Gd_UB3LYP_631Gd_66_p3_azomethine_restart_1\" onclick=\"IPython.cc_notebook.view_function(event, this.id)\" /></td><td>Incomplete</td></tr><tr><td>UB3LYP_631Gd_UB3LYP_631Gd_66_p4_azomethine_restart_1</td><td><a href = \"files/graphene_cycloadditions/hypothesis_testing/UB3LYP_631Gd_UB3LYP_631Gd_66_p4_azomethine_restart_1.com\" target = \"_blank\">com</a></td><td><input type=\"button\" value=\"Smart Log\" id=\"UB3LYP_631Gd_UB3LYP_631Gd_66_p4_azomethine_restart_1\" onclick=\"IPython.cc_notebook.view_function(event, this.id)\" /></td><td>Incomplete</td></tr><tr><td>UB3LYP_631Gd_UB3LYP_631Gd_66_p5_azomethine_restart_1</td><td><a href = \"files/graphene_cycloadditions/hypothesis_testing/UB3LYP_631Gd_UB3LYP_631Gd_66_p5_azomethine_restart_1.com\" target = \"_blank\">com</a></td><td><input type=\"button\" value=\"Smart Log\" id=\"UB3LYP_631Gd_UB3LYP_631Gd_66_p5_azomethine_restart_1\" onclick=\"IPython.cc_notebook.view_function(event, this.id)\" /></td><td>Incomplete</td></tr><tr><td>UB3LYP_631Gd_UB3LYP_631Gd_66_p6_azomethine_restart_1</td><td><a href = \"files/graphene_cycloadditions/hypothesis_testing/UB3LYP_631Gd_UB3LYP_631Gd_66_p6_azomethine_restart_1.com\" target = \"_blank\">com</a></td><td><input type=\"button\" value=\"Smart Log\" id=\"UB3LYP_631Gd_UB3LYP_631Gd_66_p6_azomethine_restart_1\" onclick=\"IPython.cc_notebook.view_function(event, this.id)\" /></td><td>Incomplete</td></tr><tr><td>UB3LYP_631Gd_UB3LYP_631Gd_66_p7_azomethine_restart_1</td><td><a href = \"files/graphene_cycloadditions/hypothesis_testing/UB3LYP_631Gd_UB3LYP_631Gd_66_p7_azomethine_restart_1.com\" target = \"_blank\">com</a></td><td><input type=\"button\" value=\"Smart Log\" id=\"UB3LYP_631Gd_UB3LYP_631Gd_66_p7_azomethine_restart_1\" onclick=\"IPython.cc_notebook.view_function(event, this.id)\" /></td><td>Incomplete</td></tr>\n",
        "    </table>\n",
        "    </body>"
       ],
       "metadata": {},
       "output_type": "pyout",
       "prompt_number": 15,
       "text": [
        "<IPython.core.display.HTML at 0x7f0043ae1dd0>"
       ]
      }
     ],
     "prompt_number": 15
    },
    {
     "cell_type": "code",
     "collapsed": false,
     "input": [
      "rxn_Es = 23.1*array([m.calc.energy_zero - graph_66.calc.energy_zero - azo_alone.calc.energy_zero for m in opt_azo_66s])\n",
      "rxn_Es"
     ],
     "language": "python",
     "metadata": {},
     "outputs": [
      {
       "metadata": {},
       "output_type": "pyout",
       "prompt_number": 13,
       "text": [
        "array([ 10.15840802,   6.91554709,  -0.43296814, -44.64701034,\n",
        "                nan,          nan,          nan,          nan])"
       ]
      }
     ],
     "prompt_number": 13
    },
    {
     "cell_type": "heading",
     "level": 2,
     "metadata": {},
     "source": [
      "Transition state calcs"
     ]
    },
    {
     "cell_type": "code",
     "collapsed": false,
     "input": [
      "#building starting transition state structures\n",
      "\n",
      "cent_44_azo_ts = read('UB3LYP_631Gd_UB3LYP_631Gd_4_4_cent_azomethine_ts_v2_mult_1_reopt_restart_2.log')\n",
      "ts_azo_atoms = cent_44_azo_ts[66:]\n",
      "ts_azo_atoms.positions -= ts_azo_atoms.positions[0]\n",
      "ts_azo_atoms.positions += array([-0.3,0,1.6])\n",
      "\n",
      "rxn_inds = [[51,50], [72,71], [86,85], [92,91]]\n",
      "\n",
      "azo_66s_ts = []\n",
      "for opt_azo in opt_azo_66s:\n",
      "    graph = read(opt_azo.calc.log)[:-8]\n",
      "    inds = rxn_inds[i]\n",
      "    \n",
      "     #set origin to be the left most reacting carbon\n",
      "    graph.positions -= graph.positions[inds[0]]\n",
      "    \n",
      "    #stack the azo_atoms over the graphitic fragment\n",
      "    azo_66_ts = graph + ts_azo_atoms\n",
      "    \n",
      "    #reset position\n",
      "    azo_66_ts.positions += graph.positions[inds[0]]\n",
      "    \n",
      "    #add to stack\n",
      "    azo_66s_ts.append(azo_66_ts)"
     ],
     "language": "python",
     "metadata": {},
     "outputs": [
      {
       "ename": "IndexError",
       "evalue": "list index out of range",
       "output_type": "pyerr",
       "traceback": [
        "\u001b[1;31m---------------------------------------------------------------------------\u001b[0m\n\u001b[1;31mIndexError\u001b[0m                                Traceback (most recent call last)",
        "\u001b[1;32m<ipython-input-14-ce7b75c0e202>\u001b[0m in \u001b[0;36m<module>\u001b[1;34m()\u001b[0m\n\u001b[0;32m     11\u001b[0m \u001b[1;32mfor\u001b[0m \u001b[0mopt_azo\u001b[0m \u001b[1;32min\u001b[0m \u001b[0mopt_azo_66s\u001b[0m\u001b[1;33m:\u001b[0m\u001b[1;33m\u001b[0m\u001b[0m\n\u001b[0;32m     12\u001b[0m     \u001b[0mgraph\u001b[0m \u001b[1;33m=\u001b[0m \u001b[0mread\u001b[0m\u001b[1;33m(\u001b[0m\u001b[0mopt_azo\u001b[0m\u001b[1;33m.\u001b[0m\u001b[0mcalc\u001b[0m\u001b[1;33m.\u001b[0m\u001b[0mlog\u001b[0m\u001b[1;33m)\u001b[0m\u001b[1;33m[\u001b[0m\u001b[1;33m:\u001b[0m\u001b[1;33m-\u001b[0m\u001b[1;36m8\u001b[0m\u001b[1;33m]\u001b[0m\u001b[1;33m\u001b[0m\u001b[0m\n\u001b[1;32m---> 13\u001b[1;33m     \u001b[0minds\u001b[0m \u001b[1;33m=\u001b[0m \u001b[0mrxn_inds\u001b[0m\u001b[1;33m[\u001b[0m\u001b[0mi\u001b[0m\u001b[1;33m]\u001b[0m\u001b[1;33m\u001b[0m\u001b[0m\n\u001b[0m\u001b[0;32m     14\u001b[0m \u001b[1;33m\u001b[0m\u001b[0m\n\u001b[0;32m     15\u001b[0m      \u001b[1;31m#set origin to be the left most reacting carbon\u001b[0m\u001b[1;33m\u001b[0m\u001b[1;33m\u001b[0m\u001b[0m\n",
        "\u001b[1;31mIndexError\u001b[0m: list index out of range"
       ]
      }
     ],
     "prompt_number": 14
    },
    {
     "cell_type": "code",
     "collapsed": false,
     "input": [
      "for i, azo_66_ts in enumerate(azo_66s_ts):   \n",
      "    name = 'UB3LYP_631Gd_init_66_p{p}_azomethine_ts'.format(p=i)\n",
      "    azo_66_ts.set_calculator(Gaussian(label=name, method='UB3LYP', basis='6-31G(d)', stable='opt'))\n",
      "    azo_66_ts.calc.set_job(nodes=16, memory=16*1600, time=8, queue='pqmb', version='g09')\n",
      "    #azo_66_ts.calc.start()\n",
      "\n",
      "opt_azo_66s_ts = copy.deepcopy(azo_66s_ts)\n",
      "for i,opt_azo_ts in enumerate(opt_azo_66s_ts):\n",
      "    opt_label = 'UB3LYP_631Gd_UB3LYP_631Gd_66_p{p}_azomethine_ts'.format(p=i)\n",
      "    opt_azo_ts.calc.restart(label=opt_label, stable='', opt='calcfc, ts, noeigen')\n",
      "    opt_azo_ts.calc.set_job(nodes=16, memory=16*7000, time=60, queue='pqmb', version='g09')\n",
      "    #opt_azo_ts.calc.start()"
     ],
     "language": "python",
     "metadata": {},
     "outputs": []
    },
    {
     "cell_type": "code",
     "collapsed": false,
     "input": [
      "check_calcs(opt_azo_66s_ts)\n",
      "mols_to_html(opt_azo_66s_ts)"
     ],
     "language": "python",
     "metadata": {},
     "outputs": []
    },
    {
     "cell_type": "markdown",
     "metadata": {},
     "source": [
      "The transition state associated with the two carbons on the edge of the fragment has failed - need to try again from a different starting geometry"
     ]
    },
    {
     "cell_type": "code",
     "collapsed": false,
     "input": [
      "mols_to_html([azo_66s_ts[-1]])"
     ],
     "language": "python",
     "metadata": {},
     "outputs": []
    },
    {
     "cell_type": "heading",
     "level": 2,
     "metadata": {},
     "source": [
      "ONIOM calculations"
     ]
    },
    {
     "cell_type": "code",
     "collapsed": false,
     "input": [
      "#Stable single points\n",
      "\n",
      "pm6_azo = []\n",
      "o2_azo, o2_graph = [], []\n",
      "o3_azo, o3_graph = [], []\n",
      "o4_azo, o4_graph = [], []\n",
      "\n",
      "#o2 graphene calcs\n",
      "for i in range(len(o2_graph_atom_ids)):\n",
      "    o_label = 'o2_UB3LYP_631Gd_66_p{p}_graphene'.format(p=i)\n",
      "    o_graph = read('6_6_flat_graphene.xyz')\n",
      "    o_graph.set_calculator(Gaussian(label=o_label, method='oniom(UB3LYP/6-31G(d):upm6)', basis='oniom'))\n",
      "\n",
      "    h_model_atoms = o2_graph_atom_ids[i]\n",
      "    o_graph.calc.oniom_coord_params['layers'] = [[no for no in h_model_atoms]]\n",
      "    o_graph.calc.oniom_coord_params['layer_mults'] = [1,1]\n",
      "    o_graph.calc.set_job(nodes=8, memory=8*1200, time=2, queue='pqmb')  \n",
      "    #o_stable(o_graph)\n",
      "    o2_graph.append(o_graph)\n",
      "\n",
      "#o2 ylide product calcs\n",
      "for i,azo in enumerate(opt_azo_66s):\n",
      "    o_label = 'o2_UB3LYP_631Gd_66_p{p}_azomethine'.format(p=i)\n",
      "    o_azo = read(azo.calc.log)\n",
      "    o_azo.set_calculator(Gaussian(label=o_label, method='oniom(UB3LYP/6-31G(d):upm6)', basis='oniom'))\n",
      "\n",
      "    h_model_atoms = azo_atom_ids + o2_graph_atom_ids[i]\n",
      "    o_azo.calc.oniom_coord_params['layers'] = [[no for no in h_model_atoms]]\n",
      "    o_azo.calc.oniom_coord_params['layer_mults'] = [1,1]\n",
      "    o_azo.calc.set_job(nodes=8, memory=8*1200, time=2, queue='pqmb')  \n",
      "    #o_stable(o_azo)\n",
      "    o2_azo.append(o_azo)\n",
      "    \n",
      "#o3 graphene calcs\n",
      "for i in range(len(o3_graph_atom_ids)):\n",
      "    o_label = 'o3_UB3LYP_631Gd_66_p{p}_graphene'.format(p=i)\n",
      "    o_graph = read('6_6_flat_graphene.xyz')\n",
      "    o_graph.set_calculator(Gaussian(label=o_label, method='oniom(UB3LYP/6-31G(d):upm6)', basis='oniom'))\n",
      "\n",
      "    h_model_atoms = o3_graph_atom_ids[i]\n",
      "    o_graph.calc.oniom_coord_params['layers'] = [[no for no in h_model_atoms]]\n",
      "    o_graph.calc.oniom_coord_params['layer_mults'] = [1,1]\n",
      "    o_graph.calc.set_job(nodes=8, memory=8*1200, time=2, queue='pqmb')\n",
      "    #if i<2:\n",
      "        #o_stable(o_graph,frc=True)\n",
      "    o3_graph.append(o_graph)\n",
      "\n",
      "#o3 ylide product calcs\n",
      "for i,azo in enumerate(opt_azo_66s):\n",
      "    o_label = 'o3_UB3LYP_631Gd_66_p{p}_azomethine'.format(p=i)\n",
      "    o_azo = read(azo.calc.log)\n",
      "    o_azo.set_calculator(Gaussian(label=o_label, method='oniom(UB3LYP/6-31G(d):upm6)', basis='oniom'))\n",
      "\n",
      "    h_model_atoms = azo_atom_ids + o3_graph_atom_ids[i]\n",
      "    o_azo.calc.oniom_coord_params['layers'] = [[no for no in h_model_atoms]]\n",
      "    o_azo.calc.oniom_coord_params['layer_mults'] = [1,1]\n",
      "    o_azo.calc.set_job(nodes=8, memory=8*1200, time=6, queue='pqmb')\n",
      "    #if i<2:\n",
      "        #o_stable(o_azo)\n",
      "    o3_azo.append(o_azo)\n",
      "    \n",
      "#o4 graphene calcs\n",
      "for i in range(len(o4_graph_atom_ids)):\n",
      "    o_label = 'o4_UB3LYP_631Gd_66_p{p}_graphene'.format(p=i)\n",
      "    o_graph = read('6_6_flat_graphene.xyz')\n",
      "    o_graph.set_calculator(Gaussian(label=o_label, method='oniom(UB3LYP/6-31G(d):upm6)', basis='oniom'))\n",
      "\n",
      "    h_model_atoms = o4_graph_atom_ids[i]\n",
      "    o_graph.calc.oniom_coord_params['layers'] = [[no for no in h_model_atoms]]\n",
      "    o_graph.calc.oniom_coord_params['layer_mults'] = [1,1]\n",
      "    o_graph.calc.set_job(nodes=16, memory=16*1200, time=8, queue='pqmb')#\n",
      "    #if i==2:\n",
      "        #o_stable(o_graph,frc=True)\n",
      "    o4_graph.append(o_graph)\n",
      "\n",
      "#o4 ylide product calcs\n",
      "for i,azo in enumerate(opt_azo_66s):\n",
      "    o_label = 'o4_UB3LYP_631Gd_66_p{p}_azomethine'.format(p=i)\n",
      "    o_azo = read(azo.calc.log)\n",
      "    o_azo.set_calculator(Gaussian(label=o_label, method='oniom(UB3LYP/6-31G(d):upm6)', basis='oniom'))\n",
      "\n",
      "    h_model_atoms = azo_atom_ids + o4_graph_atom_ids[i]\n",
      "    o_azo.calc.oniom_coord_params['layers'] = [[no for no in h_model_atoms]]\n",
      "    o_azo.calc.oniom_coord_params['layer_mults'] = [1,1]\n",
      "    o_azo.calc.set_job(nodes=16, memory=16*1200, time=8, queue='pqmb')\n",
      "    #o_stable(o_azo)\n",
      "    o4_azo.append(o_azo)\n",
      "\n",
      "\n",
      "for i,azo in enumerate(opt_azo_66s):\n",
      "    o_label = 'upm6_UB3LYP_631Gd_66_p{p}_azomethine'.format(p=i)\n",
      "    o_azo = read(azo.calc.log)\n",
      "    o_azo.set_calculator(Gaussian(label=o_label, method='upm6', stable='opt'))\n",
      "    o_azo.calc.set_job(nodes=8, memory=8*1200, time=2, queue='pqmb',version='g09')\n",
      "    #o_azo.calc.start()\n",
      "    pm6_azo.append(o_azo)\n",
      "\n",
      "pm6_graph = read('6_6_flat_graphene.xyz')\n",
      "pm6_graph.set_calculator(Gaussian(label='upm6_UB3LYP_631Gd_66_graphene', method='upm6', stable='opt'))\n",
      "pm6_graph.calc.set_job(nodes=8, memory=8*1200, time=2, queue='pqmb', version='g09')\n",
      "#pm6_graph.calc.start()\n",
      "\n",
      "pm6_azo_alone = read('UB3LYP_631Gd_UB3LYP_631Gd_azomethine_ylide_mult_1_stable_restart_1.log')\n",
      "pm6_azo_alone.set_calculator(Gaussian(label='upm6_UB3LYP_azomethine_ylide_mult_1_stable', method='upm6', stable='opt'))\n",
      "pm6_azo_alone.calc.set_job(nodes=8, memory=8*1600, time=3, queue='pqmb', version='g09')\n",
      "#pm6_azo_alone.calc.start()"
     ],
     "language": "python",
     "metadata": {},
     "outputs": []
    },
    {
     "cell_type": "code",
     "collapsed": false,
     "input": [
      "check_calcs(pm6_azo + [pm6_graph, pm6_azo_alone])\n",
      "#mols_to_html(pm6_azo + [pm6_graph, pm6_azo_alone])"
     ],
     "language": "python",
     "metadata": {},
     "outputs": []
    },
    {
     "cell_type": "code",
     "collapsed": false,
     "input": [
      "check_calcs(o2_azo + o2_graph + o3_azo + o3_graph + o4_azo + o4_graph)\n",
      "#mols_to_html(o2_azo + o2_graph + o3_azo + o3_graph + o4_azo + o4_graph)"
     ],
     "language": "python",
     "metadata": {},
     "outputs": []
    },
    {
     "cell_type": "code",
     "collapsed": false,
     "input": [
      "pm6_rxn_Es = 23.1*array([m.calc.energy_zero - pm6_graph.calc.energy_zero - pm6_azo_alone.calc.energy_zero for m in pm6_azo])\n",
      "\n",
      "o2_rxn_Es = 23.1*array([m1.calc.energy_zero - m2.calc.energy_zero - azo_alone.calc.energy_zero for m1,m2 in zip(o2_azo, o2_graph)])\n",
      "o2_lr_rxn_Es = 23.1*array([m1.calc.components[0].calc.energy_zero - m2.calc.components[0].calc.energy_zero - azo_pm6.calc.energy_zero for m1,m2 in zip(o2_azo, o2_graph)])\n",
      "o2_hm_rxn_Es = 23.1*array([m1.calc.components[1].calc.energy_zero - m2.calc.components[1].calc.energy_zero - azo_alone.calc.energy_zero for m1,m2 in zip(o2_azo, o2_graph)])\n",
      "o2_lm_rxn_Es = 23.1*array([m1.calc.components[2].calc.energy_zero - m2.calc.components[2].calc.energy_zero - azo_pm6.calc.energy_zero for m1,m2 in zip(o2_azo, o2_graph)])\n",
      "\n",
      "o3_rxn_Es = 23.1*array([m1.calc.energy_zero - m2.calc.energy_zero - azo_alone.calc.energy_zero for m1,m2 in zip(o3_azo, o3_graph)])\n",
      "o3_lr_rxn_Es = 23.1*array([m1.calc.components[0].calc.energy_zero - m2.calc.components[0].calc.energy_zero - azo_pm6.calc.energy_zero for m1,m2 in zip(o3_azo, o3_graph)])\n",
      "o3_hm_rxn_Es = 23.1*array([m1.calc.components[1].calc.energy_zero - m2.calc.components[1].calc.energy_zero - azo_alone.calc.energy_zero for m1,m2 in zip(o3_azo, o3_graph)])\n",
      "o3_lm_rxn_Es = 23.1*array([m1.calc.components[2].calc.energy_zero - m2.calc.components[2].calc.energy_zero - azo_pm6.calc.energy_zero for m1,m2 in zip(o3_azo, o3_graph)])\n",
      "\n",
      "o4_rxn_Es = 23.1*array([m1.calc.energy_zero - m2.calc.energy_zero - azo_alone.calc.energy_zero for m1,m2 in zip(o4_azo, o4_graph)])\n",
      "o4_lr_rxn_Es = 23.1*array([m1.calc.components[0].calc.energy_zero - m2.calc.components[0].calc.energy_zero - azo_pm6.calc.energy_zero for m1,m2 in zip(o4_azo, o4_graph)])\n",
      "o4_hm_rxn_Es = 23.1*array([m1.calc.components[1].calc.energy_zero - m2.calc.components[1].calc.energy_zero - azo_alone.calc.energy_zero for m1,m2 in zip(o4_azo, o4_graph)])\n",
      "o4_lm_rxn_Es = 23.1*array([m1.calc.components[2].calc.energy_zero - m2.calc.components[2].calc.energy_zero - azo_pm6.calc.energy_zero for m1,m2 in zip(o4_azo, o4_graph)])                                              \n",
      "\n",
      "print(rxn_Es)\n",
      "print('\\n')\n",
      "print(pm6_rxn_Es)\n",
      "print('\\n')\n",
      "print(o2_rxn_Es - rxn_Es)\n",
      "print(o3_rxn_Es - rxn_Es)\n",
      "print(o4_rxn_Es - rxn_Es)\n",
      "print('\\n')\n",
      "print(o2_hm_rxn_Es - rxn_Es)\n",
      "print(o3_hm_rxn_Es - rxn_Es)\n",
      "print(o4_hm_rxn_Es - rxn_Es)\n",
      "print('\\n')\n",
      "print(o2_lr_rxn_Es-o2_lm_rxn_Es)\n",
      "print(o3_lr_rxn_Es-o3_lm_rxn_Es)\n",
      "print(o4_lr_rxn_Es-o4_lm_rxn_Es)\n",
      "print('\\n')\n",
      "print(o2_lr_rxn_Es)\n",
      "print(o3_lr_rxn_Es)\n",
      "print(o4_lr_rxn_Es)\n",
      "print('\\n')\n",
      "print(o2_lm_rxn_Es)\n",
      "print(o3_lm_rxn_Es)\n",
      "print(o4_lm_rxn_Es)\n"
     ],
     "language": "python",
     "metadata": {},
     "outputs": []
    },
    {
     "cell_type": "code",
     "collapsed": false,
     "input": [
      "opt_o2_graph = copy.deepcopy(o2_graph)\n",
      "for i,opt_graph in enumerate(opt_o2_graph):\n",
      "    opt_label = 'o2_o2_66_p{p}_graphene'.format(p=i)\n",
      "    opt_graph.calc.restart(label=opt_label, stable='', opt='opt')\n",
      "    opt_graph.calc.set_job(nodes=16, memory=16*1600, time=20, queue='pqmb', version='g09')\n",
      "    #opt_graph.calc.start()\n",
      "    \n",
      "opt_o2_azo = copy.deepcopy(o2_azo)\n",
      "for i,opt_azo in enumerate(opt_o2_azo):\n",
      "    opt_label = 'o2_o2_66_p{p}_azomethine'.format(p=i)\n",
      "    opt_azo.calc.restart(label=opt_label, stable='', opt='opt')\n",
      "    opt_azo.calc.set_job(nodes=16, memory=16*1600, time=20, queue='pqmb', version='g09')\n",
      "    #opt_azo.calc.start()\n",
      "\n",
      "opt_o3_graph = copy.deepcopy(o3_graph)\n",
      "for i,opt_graph in enumerate(opt_o3_graph):\n",
      "    opt_label = 'o3_o3_66_p{p}_graphene'.format(p=i)\n",
      "    opt_graph.calc.restart(label=opt_label, stable='', opt='opt')\n",
      "    opt_graph.calc.set_job(nodes=16, memory=16*1600, time=20, queue='pqmb', version='g09')\n",
      "    #opt_graph.calc.start()\n",
      "    \n",
      "opt_o3_azo = copy.deepcopy(o3_azo)\n",
      "for i,opt_azo in enumerate(opt_o3_azo):\n",
      "    opt_label = 'o3_o3_66_p{p}_azomethine'.format(p=i)\n",
      "    opt_azo.calc.restart(label=opt_label, stable='', opt='opt')\n",
      "    opt_azo.calc.set_job(nodes=16, memory=16*1600, time=30, queue='pqmb', version='g09')\n",
      "    #    opt_azo.calc.start()\n",
      "    \n",
      "opt_o4_graph = copy.deepcopy(o4_graph)\n",
      "for i,opt_graph in enumerate(opt_o4_graph):\n",
      "    opt_label = 'o4_o4_66_p{p}_graphene'.format(p=i)\n",
      "    opt_graph.calc.restart(label=opt_label, stable='', opt='opt')\n",
      "    opt_graph.calc.set_job(nodes=16, memory=16*1600, time=20, queue='pqmb', version='g09')\n",
      "    #opt_graph.calc.start()\n",
      "    \n",
      "opt_o4_azo = copy.deepcopy(o4_azo)\n",
      "for i,opt_azo in enumerate(opt_o4_azo):\n",
      "    opt_label = 'o4_o4_66_p{p}_azomethine'.format(p=i)\n",
      "    opt_azo.calc.restart(label=opt_label, stable='', opt='opt')\n",
      "    opt_azo.calc.set_job(nodes=16, memory=16*1600, time=30, queue='pqmb', version='g09')\n",
      "    #opt_azo.calc.start()\n",
      "    \n",
      "opt_pm6_azo = copy.deepcopy(pm6_azo)\n",
      "for i,opt_azo in enumerate(opt_pm6_azo):\n",
      "    opt_label = 'upm6_upm6_66_p{p}_azomethine'.format(p=i)\n",
      "    opt_azo.calc.restart(label=opt_label, stable='', opt='opt')\n",
      "    opt_azo.calc.set_job(nodes=8, memory=8*1600, time=8, queue='pqmb', version='g09')\n",
      "    #opt_azo.calc.start()\n",
      "\n",
      "opt_pm6_graph = copy.deepcopy(pm6_graph)\n",
      "opt_pm6_graph.calc.restart(label='upm6_upm6_66_graphene', stable='', opt='opt')\n",
      "opt_pm6_graph.calc.set_job(nodes=8, memory=8*1600, time=8, queue='pqmb', version='g09')\n",
      "#opt_pm6_graph.calc.start()\n",
      "\n",
      "opt_pm6_azo_alone = copy.deepcopy(pm6_azo_alone)\n",
      "opt_pm6_azo_alone.calc.restart(label='upm6_upm6_azomethine_ylide_mult_1_stable', stable='', opt='opt')\n",
      "opt_pm6_azo_alone.calc.set_job(nodes=8, memory=8*1600, time=8, queue='pqmb', version='g09')\n",
      "#opt_pm6_azo_alone.calc.start()"
     ],
     "language": "python",
     "metadata": {},
     "outputs": []
    },
    {
     "cell_type": "code",
     "collapsed": false,
     "input": [
      "check_calcs(opt_o2_azo + opt_o2_graph + opt_o3_azo + opt_o3_graph + opt_o4_azo + opt_o4_graph)\n",
      "mols_to_html(opt_o2_azo + opt_o2_graph + opt_o3_azo + opt_o3_graph + opt_o4_azo + opt_o4_graph)"
     ],
     "language": "python",
     "metadata": {},
     "outputs": []
    },
    {
     "cell_type": "code",
     "collapsed": false,
     "input": [
      "check_calcs(opt_pm6_azo + [opt_pm6_graph, opt_pm6_azo_alone])\n",
      "mols_to_html(opt_pm6_azo + [opt_pm6_graph, opt_pm6_azo_alone])"
     ],
     "language": "python",
     "metadata": {},
     "outputs": []
    },
    {
     "cell_type": "code",
     "collapsed": false,
     "input": [
      "opt_pm6_rxn_Es = 23.1*array([m.calc.energy_zero - opt_pm6_graph.calc.energy_zero - opt_pm6_azo_alone.calc.energy_zero for m in opt_pm6_azo])\n",
      "\n",
      "opt_o2_rxn_Es = 23.1*array([m1.calc.energy_zero - m2.calc.energy_zero - azo_alone.calc.energy_zero for m1,m2 in zip(opt_o2_azo, opt_o2_graph)])\n",
      "\n",
      "opt_o3_rxn_Es = 23.1*array([m1.calc.energy_zero - m2.calc.energy_zero - azo_alone.calc.energy_zero for m1,m2 in zip(opt_o3_azo, opt_o3_graph)])\n",
      "\n",
      "opt_o4_rxn_Es = 23.1*array([m1.calc.energy_zero - m2.calc.energy_zero - azo_alone.calc.energy_zero for m1,m2 in zip(opt_o4_azo, opt_o4_graph)])\n",
      "\n",
      "print(rxn_Es)\n",
      "print(opt_pm6_rxn_Es - rxn_Es)\n",
      "print(opt_o2_rxn_Es - rxn_Es)\n",
      "print(opt_o3_rxn_Es - rxn_Es)\n",
      "print(opt_o4_rxn_Es - rxn_Es)"
     ],
     "language": "python",
     "metadata": {},
     "outputs": []
    },
    {
     "cell_type": "code",
     "collapsed": false,
     "input": [
      "opt_o2_lmodel_rxn_Es = 23.1*array([m1.calc.max_data['oniomenergies'][-1][0] - m2.calc.max_data['oniomenergies'][-1][0] - azo_alone.calc.energy_zero for m1,m2 in zip(opt_o2_azo, opt_o2_graph)])\n",
      "opt_o3_lmodel_rxn_Es = 23.1*array([m1.calc.max_data['oniomenergies'][-1][0] - m2.calc.max_data['oniomenergies'][-1][0] - azo_alone.calc.energy_zero for m1,m2 in zip(opt_o3_azo, opt_o3_graph)])\n",
      "opt_o4_lmodel_rxn_Es = 23.1*array([m1.calc.max_data['oniomenergies'][-1][0] - m2.calc.max_data['oniomenergies'][-1][0] - azo_alone.calc.energy_zero for m1,m2 in zip(opt_o4_azo, opt_o4_graph)])\n",
      "\n",
      "opt_o2_hmodel_rxn_Es = 23.1*array([m1.calc.max_data['oniomenergies'][-1][1] - m2.calc.max_data['oniomenergies'][-1][1] - azo_alone.calc.energy_zero for m1,m2 in zip(opt_o2_azo, opt_o2_graph)])\n",
      "opt_o3_hmodel_rxn_Es = 23.1*array([m1.calc.max_data['oniomenergies'][-1][1] - m2.calc.max_data['oniomenergies'][-1][1] - azo_alone.calc.energy_zero for m1,m2 in zip(opt_o3_azo, opt_o3_graph)])\n",
      "opt_o4_hmodel_rxn_Es = 23.1*array([m1.calc.max_data['oniomenergies'][-1][1] - m2.calc.max_data['oniomenergies'][-1][1] - azo_alone.calc.energy_zero for m1,m2 in zip(opt_o4_azo, opt_o4_graph)])\n",
      "                                  \n",
      "opt_o2_lreal_rxn_Es = 23.1*array([m1.calc.max_data['oniomenergies'][-1][2] - m2.calc.max_data['oniomenergies'][-1][2] - azo_alone.calc.energy_zero for m1,m2 in zip(opt_o2_azo, opt_o2_graph)])\n",
      "opt_o3_lreal_rxn_Es = 23.1*array([m1.calc.max_data['oniomenergies'][-1][2] - m2.calc.max_data['oniomenergies'][-1][2] - azo_alone.calc.energy_zero for m1,m2 in zip(opt_o3_azo, opt_o3_graph)])\n",
      "opt_o4_lreal_rxn_Es = 23.1*array([m1.calc.max_data['oniomenergies'][-1][2] - m2.calc.max_data['oniomenergies'][-1][2] - azo_alone.calc.energy_zero for m1,m2 in zip(opt_o4_azo, opt_o4_graph)])                                 \n",
      "\n",
      "print(rxn_Es)\n",
      "print('\\n')\n",
      "print(opt_o2_rxn_Es - rxn_Es)\n",
      "print(opt_o3_rxn_Es - rxn_Es)\n",
      "print(opt_o4_rxn_Es - rxn_Es)\n",
      "print('\\n')\n",
      "print(opt_o2_hmodel_rxn_Es - rxn_Es)\n",
      "print(opt_o3_hmodel_rxn_Es - rxn_Es)\n",
      "print(opt_o4_hmodel_rxn_Es - rxn_Es)\n",
      "print('\\n')\n",
      "print(opt_o2_lreal_rxn_Es-opt_o2_lmodel_rxn_Es)\n",
      "print(opt_o3_lreal_rxn_Es-opt_o3_lmodel_rxn_Es)\n",
      "print(opt_o4_lreal_rxn_Es-opt_o4_lmodel_rxn_Es)\n",
      "print('\\n')\n",
      "print(opt_o2_lreal_rxn_Es -84190.06683845 +13.18730053)\n",
      "print(opt_o3_lreal_rxn_Es -84190.06683845 +13.18730053)\n",
      "print(opt_o4_lreal_rxn_Es -84190.06683845 +13.18730053)\n",
      "print('\\n')\n",
      "print(opt_o2_lmodel_rxn_Es -84190.06683845 +13.18730053)\n",
      "print(opt_o3_lmodel_rxn_Es -84190.06683845 +13.18730053)\n",
      "print(opt_o4_lmodel_rxn_Es -84190.06683845 +13.18730053)\n"
     ],
     "language": "python",
     "metadata": {},
     "outputs": []
    },
    {
     "cell_type": "code",
     "collapsed": false,
     "input": [
      "#freq calcs\n",
      "\n",
      "for i,opt_graph in enumerate(opt_o2_graph):\n",
      "    opt_label = opt_graph.calc.label + '_freq'\n",
      "    opt_graph.calc.restart(label=opt_label, opt='', freq='freq')\n",
      "    opt_graph.calc.set_job(nodes=16, memory=16*1600, time=20, queue='pqmb', version='g09')\n",
      "    #opt_graph.calc.start()\n",
      "    \n",
      "for i,opt_azo in enumerate(opt_o2_azo):\n",
      "    opt_label = opt_azo.calc.label + '_freq'\n",
      "    opt_azo.calc.restart(label=opt_label, opt='', freq='freq')\n",
      "    opt_azo.calc.set_job(nodes=16, memory=16*1600, time=20, queue='pqmb', version='g09')\n",
      "    #opt_azo.calc.start()\n",
      "\n",
      "for i,opt_graph in enumerate(opt_o3_graph):\n",
      "    opt_label = opt_graph.calc.label + '_freq'\n",
      "    opt_graph.calc.restart(label=opt_label, opt='', freq='freq')\n",
      "    opt_graph.calc.set_job(nodes=16, memory=16*1600, time=20, queue='pqmb', version='g09')\n",
      "    #opt_graph.calc.start()\n",
      "    \n",
      "for i,opt_azo in enumerate(opt_o3_azo):\n",
      "    opt_label = opt_azo.calc.label + '_freq'\n",
      "    opt_azo.calc.restart(label=opt_label, opt='', freq='freq')\n",
      "    opt_azo.calc.set_job(nodes=16, memory=16*1600, time=30, queue='pqmb', version='g09')\n",
      "    #opt_azo.calc.start()"
     ],
     "language": "python",
     "metadata": {},
     "outputs": []
    },
    {
     "cell_type": "code",
     "collapsed": false,
     "input": [
      "check_calcs(opt_o2_azo + opt_o3_azo)\n",
      "mols_to_html(opt_o2_azo + opt_o3_azo)"
     ],
     "language": "python",
     "metadata": {},
     "outputs": []
    },
    {
     "cell_type": "code",
     "collapsed": false,
     "input": [
      "[m.calc.data['NImag'] for m in opt_o2_azo + opt_o3_azo]"
     ],
     "language": "python",
     "metadata": {},
     "outputs": []
    },
    {
     "cell_type": "code",
     "collapsed": false,
     "input": [
      "low_level_atoms = [[e for e in range(130) if e not in o2_graph_atom_ids[i] + azo_atom_ids] for i in range(4)]\n",
      "\n",
      "view_ipython_jmol([m.calc.log for m in opt_azo_66s],\n",
      "                  height=600, width=600, \n",
      "                  label=True, \n",
      "                  params=[{'spacefill':('off', atms)} for atms in low_level_atoms])"
     ],
     "language": "python",
     "metadata": {},
     "outputs": [
      {
       "ename": "RuntimeError",
       "evalue": "Must supply parameters for every applet",
       "output_type": "pyerr",
       "traceback": [
        "\u001b[1;31m---------------------------------------------------------------------------\u001b[0m\n\u001b[1;31mRuntimeError\u001b[0m                              Traceback (most recent call last)",
        "\u001b[1;32m<ipython-input-15-65b09609fff2>\u001b[0m in \u001b[0;36m<module>\u001b[1;34m()\u001b[0m\n\u001b[0;32m      4\u001b[0m                   \u001b[0mheight\u001b[0m\u001b[1;33m=\u001b[0m\u001b[1;36m600\u001b[0m\u001b[1;33m,\u001b[0m \u001b[0mwidth\u001b[0m\u001b[1;33m=\u001b[0m\u001b[1;36m600\u001b[0m\u001b[1;33m,\u001b[0m\u001b[1;33m\u001b[0m\u001b[0m\n\u001b[0;32m      5\u001b[0m                   \u001b[0mlabel\u001b[0m\u001b[1;33m=\u001b[0m\u001b[0mTrue\u001b[0m\u001b[1;33m,\u001b[0m\u001b[1;33m\u001b[0m\u001b[0m\n\u001b[1;32m----> 6\u001b[1;33m                   params=[{'spacefill':('off', atms)} for atms in low_level_atoms])\n\u001b[0m",
        "\u001b[1;32m/home/clyde/Project/Code/Python/cc_notebook/cc_notebook_utils.pyc\u001b[0m in \u001b[0;36mview_ipython_jmol\u001b[1;34m(files, width, height, sync, label, title, vib, delta, params, script, **kwargs)\u001b[0m\n\u001b[0;32m    101\u001b[0m     \u001b[0matom_strs\u001b[0m \u001b[1;33m=\u001b[0m \u001b[1;33m[\u001b[0m\u001b[1;33m]\u001b[0m\u001b[1;33m\u001b[0m\u001b[0m\n\u001b[0;32m    102\u001b[0m     \u001b[1;32mif\u001b[0m \u001b[0mparams\u001b[0m \u001b[1;32mand\u001b[0m \u001b[0mlen\u001b[0m\u001b[1;33m(\u001b[0m\u001b[0mparams\u001b[0m\u001b[1;33m)\u001b[0m \u001b[1;33m!=\u001b[0m \u001b[0mlen\u001b[0m\u001b[1;33m(\u001b[0m\u001b[0mrel_fs\u001b[0m\u001b[1;33m)\u001b[0m\u001b[1;33m:\u001b[0m\u001b[1;33m\u001b[0m\u001b[0m\n\u001b[1;32m--> 103\u001b[1;33m             \u001b[1;32mraise\u001b[0m \u001b[0mRuntimeError\u001b[0m\u001b[1;33m(\u001b[0m\u001b[1;34m'Must supply parameters for every applet'\u001b[0m\u001b[1;33m)\u001b[0m\u001b[1;33m\u001b[0m\u001b[0m\n\u001b[0m\u001b[0;32m    104\u001b[0m     \u001b[1;32melif\u001b[0m \u001b[0mparams\u001b[0m\u001b[1;33m:\u001b[0m\u001b[1;33m\u001b[0m\u001b[0m\n\u001b[0;32m    105\u001b[0m         \u001b[1;32mfor\u001b[0m \u001b[0mp\u001b[0m \u001b[1;32min\u001b[0m \u001b[0mparams\u001b[0m\u001b[1;33m:\u001b[0m\u001b[1;33m\u001b[0m\u001b[0m\n",
        "\u001b[1;31mRuntimeError\u001b[0m: Must supply parameters for every applet"
       ]
      }
     ],
     "prompt_number": 15
    },
    {
     "cell_type": "code",
     "collapsed": false,
     "input": [
      "low_level_atoms = [[e for e in range(130) if e not in o3_graph_atom_ids[i] + azo_atom_ids] for i in range(4)]\n",
      "\n",
      "view_ipython_jmol([m.calc.log for m in opt_azo_66s],\n",
      "                  height=600, width=600, \n",
      "                  label=True, \n",
      "                  params=[{'spacefill':('off', atms)} for atms in low_level_atoms])"
     ],
     "language": "python",
     "metadata": {},
     "outputs": []
    },
    {
     "cell_type": "code",
     "collapsed": false,
     "input": [
      "ip=get_ipython()"
     ],
     "language": "python",
     "metadata": {},
     "outputs": []
    },
    {
     "cell_type": "code",
     "collapsed": false,
     "input": [
      "from IPython.utils import inside_ipython\n",
      "inside_ipython.whatsmyname()"
     ],
     "language": "python",
     "metadata": {},
     "outputs": []
    },
    {
     "cell_type": "code",
     "collapsed": false,
     "input": [],
     "language": "python",
     "metadata": {},
     "outputs": []
    }
   ],
   "metadata": {}
  }
 ]
}