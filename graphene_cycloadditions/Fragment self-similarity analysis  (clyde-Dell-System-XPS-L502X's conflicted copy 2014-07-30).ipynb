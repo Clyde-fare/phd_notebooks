{
 "metadata": {
  "name": "",
  "signature": "sha256:f1d8c46c15c07f73c2fd2a96c0de701b81720fa58a5d2af4c13d1a329c06984c"
 },
 "nbformat": 3,
 "nbformat_minor": 0,
 "worksheets": [
  {
   "cells": [
    {
     "cell_type": "code",
     "collapsed": false,
     "input": [
      "import load_cube\n",
      "from gausspy import gaussian\n",
      "from ase.io import read\n",
      "from cc_notebook_utils import *\n",
      "from ASE_utils import *\n",
      "from fragments import GraphFrags\n",
      "from huckel import get_pair_stability, huckel_e"
     ],
     "language": "python",
     "metadata": {},
     "outputs": [],
     "prompt_number": 1
    },
    {
     "cell_type": "code",
     "collapsed": false,
     "input": [
      "%pylab inline"
     ],
     "language": "python",
     "metadata": {},
     "outputs": [
      {
       "output_type": "stream",
       "stream": "stdout",
       "text": [
        "Populating the interactive namespace from numpy and matplotlib\n"
       ]
      },
      {
       "output_type": "stream",
       "stream": "stderr",
       "text": [
        "WARNING: pylab import has clobbered these variables: ['random', 'copy', 'display']\n",
        "`%matplotlib` prevents importing * from pylab and numpy\n"
       ]
      }
     ],
     "prompt_number": 2
    },
    {
     "cell_type": "markdown",
     "metadata": {},
     "source": [
      "Here we will look for evidence that specific graphene fragments matched by topology/relative position are in some sense self-similar wrt to the reactivity of specific atomic sites.\n",
      "\n",
      "We will use [cube files](http://www.gaussian.com/g_tech/g_ur/u_cubegen.htm) to examine the electron density, the spin density, the electric potential and possibly some ring current related properties."
     ]
    },
    {
     "cell_type": "code",
     "collapsed": false,
     "input": [
      "cd similarity_search"
     ],
     "language": "python",
     "metadata": {},
     "outputs": [
      {
       "output_type": "stream",
       "stream": "stdout",
       "text": [
        "/home/clyde/Dropbox/Project Stuff/Notebooks/graphene_cycloadditions/similarity_search\n"
       ]
      }
     ],
     "prompt_number": 3
    },
    {
     "cell_type": "code",
     "collapsed": false,
     "input": [
      "#cube_fns = !ls *.cube\n",
      "#cubes = [load_cube.CUBE(fname) for fname in cube_fns]"
     ],
     "language": "python",
     "metadata": {},
     "outputs": [],
     "prompt_number": 4
    },
    {
     "cell_type": "code",
     "collapsed": false,
     "input": [
      "init_graph_66 = read('6_6_flat_graphene.xyz')\n",
      "init_graph_66.set_calculator(Gaussian(label='B3LYP_631Gd_6_6_graphene', method='B3LYP', basis='6-31G*', opt='opt'))\n",
      "init_graph_66.calc.set_job(nodes=12, memory=12*1600, time=6, queue='pqmb', version='g09')\n",
      "#graph_66.calc.start()\n",
      "check_calcs([init_graph_66])\n",
      "mols_to_html([init_graph_66])"
     ],
     "language": "python",
     "metadata": {},
     "outputs": [
      {
       "html": [
        "\n",
        "    <style>\n",
        "    table\n",
        "    {\n",
        "        border-collapse:collapse;\n",
        "    }\n",
        "    td\n",
        "    {\n",
        "        padding:15px;\n",
        "    }\n",
        "    </style>\n",
        "    <body>\n",
        "    <table bgcolor=\"white\">\n",
        "    <col/><tr><td>B3LYP_631Gd_6_6_graphene</td><td><a href = \"files/graphene_cycloadditions/similarity_search/B3LYP_631Gd_6_6_graphene.com\" target = \"_blank\">com</a></td><td><input type=\"button\" value=\"Smart Log\" id=\"B3LYP_631Gd_6_6_graphene\" onclick=\"IPython.cc_notebook.view_function(event, this.id)\" /></td><td>Success</td></tr>\n",
        "    </table>\n",
        "    </body>"
       ],
       "metadata": {},
       "output_type": "pyout",
       "prompt_number": 5,
       "text": [
        "<IPython.core.display.HTML at 0x7f5c90765910>"
       ]
      }
     ],
     "prompt_number": 5
    },
    {
     "cell_type": "code",
     "collapsed": false,
     "input": [
      "init_graph_66"
     ],
     "language": "python",
     "metadata": {},
     "outputs": [
      {
       "metadata": {},
       "output_type": "pyout",
       "prompt_number": 6,
       "text": [
        "Atoms(symbols='C96H26', positions=..., cell=[1.0, 1.0, 1.0], pbc=[False, False, False], calculator=Gaussian(...))"
       ]
      }
     ],
     "prompt_number": 6
    },
    {
     "cell_type": "markdown",
     "metadata": {},
     "source": [
      "I know from previous calculations that the flat fragment is actually a transition state not a minimum so we'll add on some of the mode with negative eigenvalue to push it off the saddle point and reoptimise. (Using AM1/STO3g because otherwise the frequency calculation is pretty expensive)"
     ]
    },
    {
     "cell_type": "code",
     "collapsed": false,
     "input": [
      "freq_graph_66 = read(init_graph_66.calc.log)\n",
      "freq_graph_66.set_calculator(Gaussian(label= 'AM1_STO3G_6_6_graphene', method='AM1', basis='STO-3G', freq='freq'))\n",
      "freq_graph_66.calc.set_job(nodes=12, memory=12*1600, time=24, queue='pqmb', version='g09')\n",
      "#freq_graph_66.calc.start()\n",
      "check_calcs([freq_graph_66])\n",
      "mols_to_html([freq_graph_66])"
     ],
     "language": "python",
     "metadata": {},
     "outputs": [
      {
       "html": [
        "\n",
        "    <style>\n",
        "    table\n",
        "    {\n",
        "        border-collapse:collapse;\n",
        "    }\n",
        "    td\n",
        "    {\n",
        "        padding:15px;\n",
        "    }\n",
        "    </style>\n",
        "    <body>\n",
        "    <table bgcolor=\"white\">\n",
        "    <col/><tr><td>AM1_STO3G_6_6_graphene</td><td><a href = \"files/graphene_cycloadditions/similarity_search/AM1_STO3G_6_6_graphene.com\" target = \"_blank\">com</a></td><td><input type=\"button\" value=\"Smart Log\" id=\"AM1_STO3G_6_6_graphene\" onclick=\"IPython.cc_notebook.view_function(event, this.id)\" /></td><td>Success</td></tr>\n",
        "    </table>\n",
        "    </body>"
       ],
       "metadata": {},
       "output_type": "pyout",
       "prompt_number": 7,
       "text": [
        "<IPython.core.display.HTML at 0x7f5c90774610>"
       ]
      }
     ],
     "prompt_number": 7
    },
    {
     "cell_type": "markdown",
     "metadata": {},
     "source": [
      "AM1 thinks the flat geometry is a minimum but the third lowest mode looks like the one we are interested in."
     ]
    },
    {
     "cell_type": "code",
     "collapsed": false,
     "input": [
      "opt_graph_66 = read(init_graph_66.calc.log)\n",
      "#Gaussian rotates and displaces the coordinate axes and the normal modes are expressed in terms of these new coordinates\n",
      "#so we need to read in the positions in these coordinates rather than just use the original position coordinates\n",
      "opt_graph_66.positions = array(freq_graph_66.calc.max_data['atomcoords']) + 3*array(freq_graph_66.calc.max_data['vibdisps'][2])\n",
      "opt_graph_66.write('bent_66_fragment.xyz')\n",
      "opt_graph_66.set_calculator(Gaussian(label='B3LYP_631Gd_6_6_graphene_opt', method='B3LYP', basis='6-31G*', opt='opt'))\n",
      "opt_graph_66.calc.set_job(nodes=12, memory=12*1600, time=6, queue='pqmb', version='g09')\n",
      "#opt_graph_66.calc.start()\n",
      "check_calcs([opt_graph_66])\n",
      "mols_to_html([opt_graph_66])"
     ],
     "language": "python",
     "metadata": {},
     "outputs": [
      {
       "html": [
        "\n",
        "    <style>\n",
        "    table\n",
        "    {\n",
        "        border-collapse:collapse;\n",
        "    }\n",
        "    td\n",
        "    {\n",
        "        padding:15px;\n",
        "    }\n",
        "    </style>\n",
        "    <body>\n",
        "    <table bgcolor=\"white\">\n",
        "    <col/><tr><td>B3LYP_631Gd_6_6_graphene_opt</td><td><a href = \"files/graphene_cycloadditions/similarity_search/B3LYP_631Gd_6_6_graphene_opt.com\" target = \"_blank\">com</a></td><td><input type=\"button\" value=\"Smart Log\" id=\"B3LYP_631Gd_6_6_graphene_opt\" onclick=\"IPython.cc_notebook.view_function(event, this.id)\" /></td><td>Success</td></tr>\n",
        "    </table>\n",
        "    </body>"
       ],
       "metadata": {},
       "output_type": "pyout",
       "prompt_number": 8,
       "text": [
        "<IPython.core.display.HTML at 0x7f5c8f7ab210>"
       ]
      }
     ],
     "prompt_number": 8
    },
    {
     "cell_type": "markdown",
     "metadata": {},
     "source": [
      "Ah actually the 66 fragment is also planar. So we will pick this geometry as our base."
     ]
    },
    {
     "cell_type": "code",
     "collapsed": false,
     "input": [
      "from IPython.display import Image\n",
      "base_66 = read(opt_graph_66.calc.log)\n",
      "\n",
      "#base_66.write('base_66_fragment.xyz')\n",
      "#base_66.write('base_66_fragment.png')\n",
      "view_jmol(base_66, width=500, height=400, label=True)"
     ],
     "language": "python",
     "metadata": {},
     "outputs": [
      {
       "html": [
        "<div style=float:left><div id='applet_div_id_3769657132463'></div></div>\n",
        "<script type=\"text/Javascript\">//initialisation\n",
        "    var Info = {\n",
        "        color: \"#FFFFFF\",\n",
        "        width: 500,\n",
        "        height: 400,\n",
        "        serverURL: \"/static/custom/jsmol/jsmol.php \",\n",
        "        use: \"HTML5\",\n",
        "        j2sPath: \"/static/custom/jsmol/j2s\",\n",
        "        console: \"jmolApplet0_infodiv\"\n",
        "    }\n",
        "    //prevent applet from immediately generating html - allows us to place the applet in the div we wish\n",
        "    Jmol.setDocument(0)\n",
        "    //start applet\n",
        "    applet_id_3769657132463 = Jmol.getApplet(\"applet_id_3769657132463\", Info)\n",
        "    //insert applet html into applet_div_id_3769657132463\n",
        "    $(\"#applet_div_id_3769657132463\").html(Jmol.getAppletHtml(applet_id_3769657132463))\n",
        "    //execute scripts\n",
        "    Jmol.script(applet_id_3769657132463,\"load similarity_search/temp_atoms.xyz; select all; label %[atomNo]; font label 12;set echo echoname 50% 90%; font echo 25; echo temp_atoms;; set frank off; sync . SLAVE;\")</script>"
       ],
       "metadata": {},
       "output_type": "pyout",
       "prompt_number": 9,
       "text": [
        "<IPython.core.display.HTML at 0x7f5c90765810>"
       ]
      }
     ],
     "prompt_number": 9
    },
    {
     "cell_type": "code",
     "collapsed": false,
     "input": [
      "base_22 = read('2_2_flat_graphene.xyz')\n",
      "base_22.rotate('x',pi/2)\n",
      "base_22.rotate('z',pi/2)\n",
      "\n",
      "base_44 = read('4_4_flat_graphene.xyz')\n",
      "base_44.rotate('x',pi/2)\n",
      "base_44.rotate('z',pi/2)\n",
      "\n",
      "base_33 = read('3_3_flat_graphene.xyz')\n",
      "base_33.rotate('x',pi/2)\n",
      "base_33.rotate('z',pi/2)\n",
      "\n",
      "base_33_test = read('3_3_test2_flat_graphene.xyz')\n",
      "base_33_test.rotate('x',pi/2)\n",
      "base_33_test.rotate('z',pi/2)\n",
      "\n",
      "base_66 = read('6_6_flat_graphene.xyz')\n",
      "\n",
      "base_frag1 = read('flake_graphene1.xyz')\n",
      "base_frag1.rotate('x',pi/2)\n",
      "base_frag1.rotate('z',pi/2)\n",
      "\n",
      "base_frag2 = read('flake_graphene2.xyz')\n",
      "base_frag2.rotate('x',pi/2)\n",
      "base_frag2.rotate('z',pi/2)"
     ],
     "language": "python",
     "metadata": {},
     "outputs": [],
     "prompt_number": 4
    },
    {
     "cell_type": "markdown",
     "metadata": {},
     "source": [
      "Can generate multiple fragments using [CaGe](http://caagt.ugent.be/CaGe/)"
     ]
    },
    {
     "cell_type": "code",
     "collapsed": false,
     "input": [
      "import ASE_utils\n",
      "m_66=ASE_utils.to_molmod(base_66)\n",
      "m_66.set_default_graph()\n",
      "\n",
      "m_44 = ASE_utils.to_molmod(base_44)\n",
      "m_44.set_default_graph()\n",
      "\n",
      "m_33 = ASE_utils.to_molmod(base_33)\n",
      "m_33.set_default_graph()\n",
      "\n",
      "m_33_test = ASE_utils.to_molmod(base_33_test)\n",
      "m_33_test.set_default_graph()\n",
      "\n",
      "m_22 = ASE_utils.to_molmod(base_22)\n",
      "m_22.set_default_graph()\n",
      "\n",
      "m_flake1 = ASE_utils.to_molmod(base_frag1)\n",
      "m_flake1.set_default_graph()\n",
      "\n",
      "m_flake2 = ASE_utils.to_molmod(base_frag2)\n",
      "m_flake2.set_default_graph()"
     ],
     "language": "python",
     "metadata": {},
     "outputs": [],
     "prompt_number": 5
    },
    {
     "cell_type": "code",
     "collapsed": false,
     "input": [
      "%%prun\n",
      "import time\n",
      "\n",
      "def long_test():\n",
      "    g=GraphFrags(m_flake2)\n",
      "    r=g.get_rings(10)[-1]\n",
      "    g.set_base_frag([r])\n",
      "    it = g.gen_fragments()\n",
      "\n",
      "    init_time = time.mktime(time.localtime())\n",
      "    times = [0.0]\n",
      "\n",
      "    max_size = 0\n",
      "    count=0\n",
      "    for f in it:\n",
      "        count+=1\n",
      "        if len(f) > max_size:\n",
      "            max_size = len(f)\n",
      "            new_time = time.mktime(time.localtime()) - init_time\n",
      "            times.append(new_time - times[-1])\n",
      "            print(new_time, max_size, count)\n",
      "        \n",
      "    return count,times\n",
      " \n",
      "count, times = long_test()\n",
      "#print(count,sum(times) / 60)\n",
      "#plot(times)"
     ],
     "language": "python",
     "metadata": {},
     "outputs": [
      {
       "output_type": "stream",
       "stream": "stdout",
       "text": [
        "(0.0, 1, 1)\n",
        "(0.0, 2, 2)\n",
        "(0.0, 3, 8)\n",
        "(0.0, 4, 23)\n",
        "(0.0, 5, 43)\n",
        "(0.0, 6, 58)\n",
        "(0.0, 7, 64)\n",
        "(0.0, 8, 143)\n",
        "(0.0, 9, 195)\n",
        "(0.0, 10, 200)\n",
        "(0.0, 11, 389)\n",
        "(0.0, 12, 968)"
       ]
      },
      {
       "output_type": "stream",
       "stream": "stdout",
       "text": [
        "\n",
        "(0.0, 13, 1037)\n",
        "(1.0, 14, 2298)"
       ]
      },
      {
       "output_type": "stream",
       "stream": "stdout",
       "text": [
        "\n",
        "(1.0, 15, 5704)"
       ]
      },
      {
       "output_type": "stream",
       "stream": "stdout",
       "text": [
        "\n",
        "(1.0, 16, 5842)\n",
        "(2.0, 17, 9406)"
       ]
      },
      {
       "output_type": "stream",
       "stream": "stdout",
       "text": [
        "\n",
        "(4.0, 18, 16448)"
       ]
      },
      {
       "output_type": "stream",
       "stream": "stdout",
       "text": [
        "\n",
        "(5.0, 19, 21076)"
       ]
      },
      {
       "output_type": "stream",
       "stream": "stdout",
       "text": [
        "\n",
        " "
       ]
      }
     ],
     "prompt_number": 8
    },
    {
     "cell_type": "code",
     "collapsed": false,
     "input": [
      "import copy"
     ],
     "language": "python",
     "metadata": {},
     "outputs": [],
     "prompt_number": 148
    },
    {
     "cell_type": "code",
     "collapsed": false,
     "input": [
      "%%timeit\n",
      "list_tups = [(i,j,k) for i in range(10) for j in range(10) for k in range(10)]\n",
      "new_list_tups = []\n",
      "for tup in list_tups:\n",
      "    new_list_tups.append((0,0,1) + tup)"
     ],
     "language": "python",
     "metadata": {},
     "outputs": [
      {
       "output_type": "stream",
       "stream": "stdout",
       "text": [
        "1000 loops, best of 3: 427 \u00b5s per loop\n"
       ]
      }
     ],
     "prompt_number": 171
    },
    {
     "cell_type": "code",
     "collapsed": false,
     "input": [
      "%%timeit\n",
      "list_lists = [[i,j,k] for i in range(10) for j in range(10) for k in range(10)]\n",
      "new_list_lists = []\n",
      "orig = [0,0,1]\n",
      "for l in list_lists:\n",
      "    new_list_lists.append([e for e in orig + l])        "
     ],
     "language": "python",
     "metadata": {},
     "outputs": [
      {
       "output_type": "stream",
       "stream": "stdout",
       "text": [
        "1000 loops, best of 3: 1.19 ms per loop\n"
       ]
      }
     ],
     "prompt_number": 170
    },
    {
     "cell_type": "code",
     "collapsed": false,
     "input": [
      "%%prun\n",
      "g=GraphFrags(m_flake2)\n",
      "r=g.get_rings(10)[-1]\n",
      "g.set_base_frag([r])\n",
      "it=g.gen_fragments()\n",
      "frags=list(it)\n",
      "len(frags)"
     ],
     "language": "python",
     "metadata": {},
     "outputs": [
      {
       "output_type": "stream",
       "stream": "stdout",
       "text": [
        " "
       ]
      }
     ],
     "prompt_number": 26
    },
    {
     "cell_type": "code",
     "collapsed": false,
     "input": [
      "g=GraphFrags(m_33_test)\n",
      "r=g.get_rings(10)[-1]\n",
      "g.set_base_frag([r])\n",
      "it=g.gen_fragments()\n",
      "frags=list(it)\n",
      "len(frags)"
     ],
     "language": "python",
     "metadata": {},
     "outputs": [
      {
       "metadata": {},
       "output_type": "pyout",
       "prompt_number": 48,
       "text": [
        "112"
       ]
      }
     ],
     "prompt_number": 48
    },
    {
     "cell_type": "code",
     "collapsed": false,
     "input": [
      "#%prun\n",
      "central_pair = set([11,12])\n",
      "get_pair_stability(central_pair, frags[-1], g.master)"
     ],
     "language": "python",
     "metadata": {},
     "outputs": [
      {
       "metadata": {},
       "output_type": "pyout",
       "prompt_number": 49,
       "text": [
        "-25.518101628268539"
       ]
      }
     ],
     "prompt_number": 49
    },
    {
     "cell_type": "code",
     "collapsed": false,
     "input": [
      "from itertools import izip, tee\n",
      "from itertools import islice, chain\n",
      "from multiprocessing.pool import Pool"
     ],
     "language": "python",
     "metadata": {},
     "outputs": [],
     "prompt_number": 8
    },
    {
     "cell_type": "code",
     "collapsed": false,
     "input": [
      "def batch(iterable, size):\n",
      "    sourceiter = iter(iterable)\n",
      "    while True:\n",
      "        batchiter = islice(sourceiter, size)\n",
      "        yield chain([batchiter.next()], batchiter)"
     ],
     "language": "python",
     "metadata": {},
     "outputs": [],
     "prompt_number": 9
    },
    {
     "cell_type": "code",
     "collapsed": false,
     "input": [
      "%%prun\n",
      "mol = m_flake2\n",
      "g=GraphFrags(mol)\n",
      "r=g.get_rings(10)[-1]\n",
      "g.set_base_frag([r])\n",
      "frags1, frags2 = tee(g.gen_fragments())\n",
      "chunk_it=batch(frags1, 2000)\n",
      "central_pair = set([11,12])\n",
      "\n",
      "def mod_pairs(frag):\n",
      "    return get_pair_stability(frag, pair=central_pair, master=g.master)\n",
      "\n",
      "def parallel_pair_e_it(chunk_it):\n",
      "    p = Pool(4)\n",
      "    for chunk in chunk_it:\n",
      "        for pair_e in p.map(mod_pairs, chunk):\n",
      "            yield pair_e\n",
      "    p.close()\n",
      "\n",
      "master_no_atoms = len(mol.numbers)\n",
      "pair_es = parallel_pair_e_it(chunk_it)\n",
      "\n",
      "#best = [(0,(0,))]\n",
      "#bang = [(0,(0,))]\n",
      "#worst = [(1, (0,))]\n",
      "max_length = 100\n",
      "\n",
      "def accuracy(pair_e):\n",
      "    return 1/(1+abs(pair_e -25.54872916870886))\n",
      "\n",
      "best = {k:[(0,(0,))] for k in range(1,master_no_atoms+1)}\n",
      "worst = {k:[(1,(0,))] for k in range(1,master_no_atoms+1)}\n",
      "\n",
      "for pair_e, frag in izip(pair_es, frags2):\n",
      "    ac = accuracy(pair_e)\n",
      "    no_c = len(frozenset(unwind(frag)))\n",
      "    \n",
      "#    data[no_c][-1][0]\n",
      "        \n",
      "#    if ac/no_c > bang[-1][0]:\n",
      "#        if len(bang) >= max_length:\n",
      "#            bang.pop()\n",
      "#        bang.append((ac/no_c, frag))\n",
      "#        bang.sort(key=lambda e: e[0],reverse=True)\n",
      "              \n",
      "    if ac > best[no_c][-1][0]:\n",
      "        if len(best[no_c]) >= max_length:\n",
      "            best[no_c].pop()\n",
      "        best[no_c].append((ac, frag))\n",
      "        best[no_c].sort(key=lambda e: e[0],reverse=True)\n",
      "        \n",
      "    if ac < worst[no_c][-1][0]:\n",
      "        if len(worst[no_c]) >= max_length:\n",
      "            worst[no_c].pop()\n",
      "        worst[no_c].append((ac, frag))\n",
      "        worst[no_c].sort(key=lambda e: e[0])"
     ],
     "language": "python",
     "metadata": {},
     "outputs": [
      {
       "output_type": "stream",
       "stream": "stdout",
       "text": [
        " "
       ]
      }
     ],
     "prompt_number": 53
    },
    {
     "cell_type": "code",
     "collapsed": false,
     "input": [
      "#bang = zip(zip(*bang)[0], map(mod_pairs,zip(*bang)[1])-25.54872916870886, zip(*bang)[1])\n",
      "#bang.sort(key=lambda e:abs(e[1]-25.54872916870886))\n",
      "#[b[1]-25.54872916870886 for b in bang[:20]]\n",
      "\n",
      "[b[0] for b in best[24][0:20]]"
     ],
     "language": "python",
     "metadata": {},
     "outputs": [
      {
       "metadata": {},
       "output_type": "pyout",
       "prompt_number": 58,
       "text": [
        "[0.99889962395245335,\n",
        " 0.99889962395239662,\n",
        " 0.99436320194551986,\n",
        " 0.99436320194546368,\n",
        " 0.99363616892386641,\n",
        " 0.99363616892381024,\n",
        " 0.98989453591213095,\n",
        " 0.98989453591213095,\n",
        " 0.98789003828463196,\n",
        " 0.98669477777312486,\n",
        " 0.98669477777312486,\n",
        " 0.98653893590758279,\n",
        " 0.9865389359075275,\n",
        " 0.98116419668316091,\n",
        " 0.98116419668299681,\n",
        " 0.9798048670429379,\n",
        " 0.97980486704288328,\n",
        " 0.97744203419459463,\n",
        " 0.97744203419448594,\n",
        " 0.97676449797292142]"
       ]
      }
     ],
     "prompt_number": 58
    },
    {
     "cell_type": "code",
     "collapsed": false,
     "input": [
      "view_frag(base_frag2,best[24][8][1])"
     ],
     "language": "python",
     "metadata": {},
     "outputs": [
      {
       "html": [
        "<div style=float:left><div id='applet_div_id_6248013029069'></div></div>\n",
        "<script type=\"text/Javascript\">//initialisation\n",
        "    var Info = {\n",
        "        color: \"#FFFFFF\",\n",
        "        width: 500,\n",
        "        height: 400,\n",
        "        serverURL: \"/static/custom/jsmol/jsmol.php \",\n",
        "        use: \"HTML5\",\n",
        "        j2sPath: \"/static/custom/jsmol/j2s\",\n",
        "        console: \"jmolApplet0_infodiv\"\n",
        "    }\n",
        "    //prevent applet from immediately generating html - allows us to place the applet in the div we wish\n",
        "    Jmol.setDocument(0)\n",
        "    //start applet\n",
        "    applet_id_6248013029069 = Jmol.getApplet(\"applet_id_6248013029069\", Info)\n",
        "    //insert applet html into applet_div_id_6248013029069\n",
        "    $(\"#applet_div_id_6248013029069\").html(Jmol.getAppletHtml(applet_id_6248013029069))\n",
        "    //execute scripts\n",
        "    Jmol.script(applet_id_6248013029069,\"load similarity_search/temp_atoms.xyz; select all; label %[atomNo]; font label 12;set echo echoname 50% 90%; font echo 25; echo temp_atoms;select atomno=19,atomno=22,atomno=23,atomno=26,atomno=27,atomno=30,atomno=31,atomno=32,atomno=33,atomno=34,atomno=35,atomno=36,atomno=37,atomno=38,atomno=39,atomno=40,atomno=41,atomno=42,atomno=43,atomno=44,atomno=45,atomno=46,atomno=47,atomno=48,atomno=49,atomno=50,atomno=51,atomno=52,atomno=53,atomno=54,atomno=55,atomno=56,atomno=57,atomno=58,atomno=59,atomno=60,atomno=61,atomno=62,atomno=63,atomno=64,atomno=65,atomno=66,atomno=67,atomno=68,atomno=69,atomno=70,atomno=71,atomno=72; spacefill off;; set frank off; sync . SLAVE;\")</script>"
       ],
       "metadata": {},
       "output_type": "pyout",
       "prompt_number": 66,
       "text": [
        "<IPython.core.display.HTML at 0x7f2ecd6235d0>"
       ]
      }
     ],
     "prompt_number": 66
    },
    {
     "cell_type": "code",
     "collapsed": false,
     "input": [
      "[b[0] for b in best[:10]]"
     ],
     "language": "python",
     "metadata": {},
     "outputs": [
      {
       "metadata": {},
       "output_type": "pyout",
       "prompt_number": 18,
       "text": [
        "[1.0,\n",
        " 0.99999661037066556,\n",
        " 0.99999661037055187,\n",
        " 0.99999196420230918,\n",
        " 0.99999196420225234,\n",
        " 0.99998563937220108,\n",
        " 0.99998563937220108,\n",
        " 0.9999632699772516,\n",
        " 0.9999632699772516,\n",
        " 0.99996078711738445]"
       ]
      }
     ],
     "prompt_number": 18
    },
    {
     "cell_type": "code",
     "collapsed": false,
     "input": [
      "[w[0] for w in worst[0:10]]"
     ],
     "language": "python",
     "metadata": {},
     "outputs": [
      {
       "metadata": {},
       "output_type": "pyout",
       "prompt_number": 17,
       "text": [
        "[0.48923386138242742,\n",
        " 0.48981868676340512,\n",
        " 0.48993704939278843,\n",
        " 0.49000355509657123,\n",
        " 0.49003712291574847,\n",
        " 0.49003712291576212,\n",
        " 0.49012945632599852,\n",
        " 0.49012945632602584,\n",
        " 0.49026967059353715,\n",
        " 0.4902847394772642]"
       ]
      }
     ],
     "prompt_number": 17
    },
    {
     "cell_type": "code",
     "collapsed": false,
     "input": [
      "view_frag(base_frag2, worst[0][1])"
     ],
     "language": "python",
     "metadata": {},
     "outputs": [
      {
       "html": [
        "<div style=float:left><div id='applet_div_id_2433668040036'></div></div>\n",
        "<script type=\"text/Javascript\">//initialisation\n",
        "    var Info = {\n",
        "        color: \"#FFFFFF\",\n",
        "        width: 500,\n",
        "        height: 400,\n",
        "        serverURL: \"/static/custom/jsmol/jsmol.php \",\n",
        "        use: \"HTML5\",\n",
        "        j2sPath: \"/static/custom/jsmol/j2s\",\n",
        "        console: \"jmolApplet0_infodiv\"\n",
        "    }\n",
        "    //prevent applet from immediately generating html - allows us to place the applet in the div we wish\n",
        "    Jmol.setDocument(0)\n",
        "    //start applet\n",
        "    applet_id_2433668040036 = Jmol.getApplet(\"applet_id_2433668040036\", Info)\n",
        "    //insert applet html into applet_div_id_2433668040036\n",
        "    $(\"#applet_div_id_2433668040036\").html(Jmol.getAppletHtml(applet_id_2433668040036))\n",
        "    //execute scripts\n",
        "    Jmol.script(applet_id_2433668040036,\"load similarity_search/temp_atoms.xyz; select all; label %[atomNo]; font label 12;set echo echoname 50% 90%; font echo 25; echo temp_atoms;select atomno=1,atomno=2,atomno=3,atomno=4,atomno=5,atomno=6,atomno=7,atomno=8,atomno=9,atomno=16,atomno=17,atomno=18,atomno=31,atomno=34,atomno=35,atomno=36,atomno=37,atomno=38,atomno=39,atomno=42,atomno=43,atomno=44,atomno=45,atomno=46,atomno=47,atomno=48,atomno=49,atomno=50,atomno=51,atomno=52,atomno=53,atomno=54,atomno=55,atomno=56,atomno=57,atomno=58,atomno=59,atomno=60,atomno=61,atomno=62,atomno=63,atomno=64,atomno=65,atomno=66,atomno=67,atomno=68,atomno=69,atomno=70,atomno=71,atomno=72; spacefill off;; set frank off; sync . SLAVE;\")</script>"
       ],
       "metadata": {},
       "output_type": "pyout",
       "prompt_number": 90,
       "text": [
        "<IPython.core.display.HTML at 0x7f468a17a790>"
       ]
      }
     ],
     "prompt_number": 90
    },
    {
     "cell_type": "code",
     "collapsed": false,
     "input": [
      "worst[0][1]\n",
      "\n",
      "def mol_from_frag(frag):\n",
      "    frag_atoms = set(unwind(frag))\n",
      "    \n",
      "    atoms = []\n",
      "    for c in frag_atoms:\n",
      "        ele = g.master.numbers[c]\n",
      "        coords = g.master.positions[c]\n",
      "        \n",
      "    \n",
      "    links = [n for n in g.master.graph.neighbors[c] for c in frag_atoms if n not in frag_atoms]\n",
      "\n",
      "    for l in links:\n",
      "        ele = 1\n",
      "        coords = g.master.positions[l]\n",
      "\n",
      "#    g.master[c]\n",
      "\n",
      "g.master.graph.add_hydrogens()"
     ],
     "language": "python",
     "metadata": {},
     "outputs": [
      {
       "metadata": {},
       "output_type": "pyout",
       "prompt_number": 89,
       "text": [
        "array([ 29.07783963,   4.83420291,  17.4119366 ])"
       ]
      }
     ],
     "prompt_number": 89
    },
    {
     "cell_type": "code",
     "collapsed": false,
     "input": [
      "%%prun\n",
      "g=GraphFrags(m_flake2)\n",
      "r=g.get_rings(10)[-1]\n",
      "g.set_base_frag([r])\n",
      "it=g.gen_fragments()\n",
      "central_pair = set([11,12])\n",
      "pair_es = [get_pair_stability(f, central_pair, g.master) for f in it]"
     ],
     "language": "python",
     "metadata": {},
     "outputs": [
      {
       "output_type": "stream",
       "stream": "stdout",
       "text": [
        " "
       ]
      }
     ],
     "prompt_number": 10
    },
    {
     "cell_type": "code",
     "collapsed": false,
     "input": [
      "len(parallel_pair_es), len(pair_es)"
     ],
     "language": "python",
     "metadata": {},
     "outputs": [
      {
       "metadata": {},
       "output_type": "pyout",
       "prompt_number": 100,
       "text": [
        "(21076, 21076)"
       ]
      }
     ],
     "prompt_number": 100
    },
    {
     "cell_type": "code",
     "collapsed": false,
     "input": [
      "all([round(parallel_pair_es[i]-pair_es[i],7) == 0 for i in range(len(parallel_pair_es))])"
     ],
     "language": "python",
     "metadata": {},
     "outputs": [
      {
       "metadata": {},
       "output_type": "pyout",
       "prompt_number": 104,
       "text": [
        "True"
       ]
      }
     ],
     "prompt_number": 104
    },
    {
     "cell_type": "code",
     "collapsed": false,
     "input": [
      "from multiprocessing.pool import Pool\n",
      "\n",
      "def get_pairs(f):\n",
      "    return get_pair_stability(f, central_pair, g.master)"
     ],
     "language": "python",
     "metadata": {},
     "outputs": [],
     "prompt_number": 24
    },
    {
     "cell_type": "code",
     "collapsed": false,
     "input": [
      "%%prun\n",
      "g=GraphFrags(m_flake2)\n",
      "r=g.get_rings(10)[-1]\n",
      "g.set_base_frag([r])\n",
      "it=g.gen_fragments()\n",
      "central_pair = set([11,12])\n",
      "\n",
      "p=Pool(4)\n",
      "r=p.map_async(get_pairs, it)\n",
      "pair_es = r.get()\n",
      "p.close()"
     ],
     "language": "python",
     "metadata": {},
     "outputs": [
      {
       "output_type": "stream",
       "stream": "stdout",
       "text": [
        " "
       ]
      }
     ],
     "prompt_number": 25
    },
    {
     "cell_type": "code",
     "collapsed": false,
     "input": [
      "len(pair_es)"
     ],
     "language": "python",
     "metadata": {},
     "outputs": [
      {
       "metadata": {},
       "output_type": "pyout",
       "prompt_number": 27,
       "text": [
        "21076"
       ]
      }
     ],
     "prompt_number": 27
    },
    {
     "cell_type": "code",
     "collapsed": false,
     "input": [
      "%%prun\n",
      "g=GraphFrags(m_flake2)\n",
      "r=g.get_rings(10)[-1]\n",
      "g.set_base_frag([r])\n",
      "it=g.gen_fragments()\n",
      "\n",
      "huckel_es = []\n",
      "for frag in it:\n",
      "    huckel_es.append(huckel_e(frag, g.master))"
     ],
     "language": "python",
     "metadata": {},
     "outputs": [
      {
       "output_type": "stream",
       "stream": "stdout",
       "text": [
        " "
       ]
      }
     ],
     "prompt_number": 38
    },
    {
     "cell_type": "code",
     "collapsed": false,
     "input": [
      "%%prun\n",
      "g=GraphFrags(m_flake2)\n",
      "r=g.get_rings(10)[-1]\n",
      "g.set_base_frag([r])\n",
      "it=g.gen_fragments()\n",
      "central_pair = set([i for i in r][1:3])\n",
      "\n",
      "pair_es = []\n",
      "for frag in it:\n",
      "    pair_es.append(get_pair_stability(central_pair, frag, g.master))"
     ],
     "language": "python",
     "metadata": {},
     "outputs": [
      {
       "output_type": "stream",
       "stream": "stdout",
       "text": [
        " "
       ]
      }
     ],
     "prompt_number": 40
    },
    {
     "cell_type": "code",
     "collapsed": false,
     "input": [
      "0.009 * 30000000 / (16*3600)"
     ],
     "language": "python",
     "metadata": {},
     "outputs": [
      {
       "metadata": {},
       "output_type": "pyout",
       "prompt_number": 59,
       "text": [
        "4.6875"
       ]
      }
     ],
     "prompt_number": 59
    },
    {
     "cell_type": "code",
     "collapsed": false,
     "input": [
      "alpha, beta = -11.2, -0.7\n",
      "m = np.zeros([2,2,])\n",
      "m[0][0] = alpha\n",
      "m[1][1] = alpha\n",
      "m[0][1] = beta\n",
      "m[1][0] = beta\n",
      "evals, evecs = LA.eigh(m)\n"
     ],
     "language": "python",
     "metadata": {},
     "outputs": [
      {
       "metadata": {},
       "output_type": "pyout",
       "prompt_number": 22,
       "text": [
        "array([-11.9, -10.5])"
       ]
      }
     ],
     "prompt_number": 22
    },
    {
     "cell_type": "code",
     "collapsed": false,
     "input": [
      "evecs[0]"
     ],
     "language": "python",
     "metadata": {},
     "outputs": [
      {
       "metadata": {},
       "output_type": "pyout",
       "prompt_number": 29,
       "text": [
        "array([ 0.70710678, -0.70710678])"
       ]
      }
     ],
     "prompt_number": 29
    },
    {
     "cell_type": "code",
     "collapsed": false,
     "input": [
      "low_eigs[0]"
     ],
     "language": "python",
     "metadata": {},
     "outputs": [
      {
       "metadata": {},
       "output_type": "pyout",
       "prompt_number": 19,
       "text": [
        "-12.811942946412392"
       ]
      }
     ],
     "prompt_number": 19
    },
    {
     "cell_type": "code",
     "collapsed": false,
     "input": [
      "def view_frag(master, frag):\n",
      "    fragment = list(unwind(frag))\n",
      "    low = [i for i in range(len(master)) if i not in fragment]\n",
      "    params={'spacefill':('off', low)}\n",
      "    return view_jmol(master, label=True,width=500,height=400, params=[params])"
     ],
     "language": "python",
     "metadata": {},
     "outputs": [],
     "prompt_number": 29
    },
    {
     "cell_type": "code",
     "collapsed": false,
     "input": [
      "zip(*sorted(zip(low_eigs,frags),key=lambda e: e[0]))[0][299]"
     ],
     "language": "python",
     "metadata": {},
     "outputs": [
      {
       "metadata": {},
       "output_type": "pyout",
       "prompt_number": 37,
       "text": [
        "-13.167060409094505"
       ]
      }
     ],
     "prompt_number": 37
    },
    {
     "cell_type": "code",
     "collapsed": false,
     "input": [
      "view_frag(base_frag2, zip(*sorted(zip(low_eigs,frags),key=lambda e: e[0]))[1][6001])"
     ],
     "language": "python",
     "metadata": {},
     "outputs": [
      {
       "html": [
        "<div style=float:left><div id='applet_div_id_8592668470660'></div></div>\n",
        "<script type=\"text/Javascript\">//initialisation\n",
        "    var Info = {\n",
        "        color: \"#FFFFFF\",\n",
        "        width: 500,\n",
        "        height: 400,\n",
        "        serverURL: \"/static/custom/jsmol/jsmol.php \",\n",
        "        use: \"HTML5\",\n",
        "        j2sPath: \"/static/custom/jsmol/j2s\",\n",
        "        console: \"jmolApplet0_infodiv\"\n",
        "    }\n",
        "    //prevent applet from immediately generating html - allows us to place the applet in the div we wish\n",
        "    Jmol.setDocument(0)\n",
        "    //start applet\n",
        "    applet_id_8592668470660 = Jmol.getApplet(\"applet_id_8592668470660\", Info)\n",
        "    //insert applet html into applet_div_id_8592668470660\n",
        "    $(\"#applet_div_id_8592668470660\").html(Jmol.getAppletHtml(applet_id_8592668470660))\n",
        "    //execute scripts\n",
        "    Jmol.script(applet_id_8592668470660,\"load similarity_search/temp_atoms.xyz; select all; label %[atomNo]; font label 12;set echo echoname 50% 90%; font echo 25; echo temp_atoms;select atomno=6,atomno=19,atomno=38,atomno=48,atomno=49,atomno=50,atomno=53,atomno=54,atomno=55,atomno=56,atomno=57,atomno=58,atomno=59,atomno=60,atomno=61,atomno=62,atomno=63,atomno=64,atomno=65,atomno=66,atomno=67,atomno=68,atomno=69,atomno=70,atomno=71,atomno=72; spacefill off;; set frank off; sync . SLAVE;\")</script>"
       ],
       "metadata": {},
       "output_type": "pyout",
       "prompt_number": 41,
       "text": [
        "<IPython.core.display.HTML at 0x7f47881336d0>"
       ]
      }
     ],
     "prompt_number": 41
    },
    {
     "cell_type": "code",
     "collapsed": false,
     "input": [
      "27.078* 30000000 / (len(low_eigs) * 3600)"
     ],
     "language": "python",
     "metadata": {},
     "outputs": [
      {
       "metadata": {},
       "output_type": "pyout",
       "prompt_number": 261,
       "text": [
        "10.70649079521731"
       ]
      }
     ],
     "prompt_number": 261
    },
    {
     "cell_type": "code",
     "collapsed": false,
     "input": [
      "%%prun\n",
      "g=Graph_frags(m_flake2)\n",
      "r=g.get_rings(10)[-1]\n",
      "g.get_ring_fragments(initial_frags=[[r]])\n",
      "print(len(g.list_fragments))"
     ],
     "language": "python",
     "metadata": {},
     "outputs": [
      {
       "output_type": "stream",
       "stream": "stdout",
       "text": [
        "33284\n",
        " "
       ]
      }
     ],
     "prompt_number": 67
    },
    {
     "cell_type": "code",
     "collapsed": false,
     "input": [
      "uniques2 =  get_uniques(g.list_fragments)\n",
      "len(uniques2), len(g.list_fragments)"
     ],
     "language": "python",
     "metadata": {},
     "outputs": [
      {
       "metadata": {},
       "output_type": "pyout",
       "prompt_number": 64,
       "text": [
        "(21075, 33284)"
       ]
      }
     ],
     "prompt_number": 64
    },
    {
     "cell_type": "code",
     "collapsed": false,
     "input": [
      "33284-20680"
     ],
     "language": "python",
     "metadata": {},
     "outputs": [
      {
       "metadata": {},
       "output_type": "pyout",
       "prompt_number": 52,
       "text": [
        "12604"
       ]
      }
     ],
     "prompt_number": 52
    },
    {
     "cell_type": "code",
     "collapsed": false,
     "input": [
      "list_atoms[:2], g.list_fragments[0]"
     ],
     "language": "python",
     "metadata": {},
     "outputs": [
      {
       "metadata": {},
       "output_type": "pyout",
       "prompt_number": 50,
       "text": [
        "([{10, 11, 12, 13, 23, 24}, {0, 1, 8, 9, 10, 11, 12, 13, 23, 24}],\n",
        " [[10, 11, 12, 13, 23, 24]])"
       ]
      }
     ],
     "prompt_number": 50
    },
    {
     "cell_type": "code",
     "collapsed": false,
     "input": [
      "g.get_ring_neighbors(initial_frag[0])"
     ],
     "language": "python",
     "metadata": {},
     "outputs": [
      {
       "metadata": {},
       "output_type": "pyout",
       "prompt_number": 508,
       "text": [
        "[[0, 1, 8, 9, 10, 11],\n",
        " [9, 10, 19, 20, 21, 22],\n",
        " [1, 2, 3, 4, 11, 12],\n",
        " [4, 5, 12, 13, 14, 15],\n",
        " [13, 14, 23, 24, 25, 26],\n",
        " [21, 22, 23, 24, 28, 29]]"
       ]
      }
     ],
     "prompt_number": 508
    },
    {
     "cell_type": "code",
     "collapsed": false,
     "input": [
      "from types import GeneratorType\n",
      "\n",
      "def flatten(*stack):\n",
      "    stack = list(stack)\n",
      "    while stack:\n",
      "        try: x = stack[0].next()\n",
      "        except StopIteration:\n",
      "            stack.pop(0)\n",
      "            continue\n",
      "        if isinstance(x, GeneratorType): stack.insert(0, x)\n",
      "        else: yield x"
     ],
     "language": "python",
     "metadata": {},
     "outputs": []
    },
    {
     "cell_type": "code",
     "collapsed": false,
     "input": [
      "#%%prun\n",
      "g=Graph_frags(m_33)\n",
      "r=g.get_rings(10)[-1]\n",
      "#g.get_ring_fragments()\n",
      "it = g.iter_fragments()\n",
      "a = it.next()\n",
      "b = it.next()\n",
      "c = it.next()\n",
      "a,b,c"
     ],
     "language": "python",
     "metadata": {},
     "outputs": [
      {
       "metadata": {},
       "output_type": "pyout",
       "prompt_number": 455,
       "text": [
        "([[0, 1, 8, 9, 10, 11]],\n",
        " ([0, 1, 8, 9, 10, 11], [6, 7, 8, 9, 18, 19]),\n",
        " ([0, 1, 8, 9, 10, 11], [6, 7, 8, 9, 18, 19], [9, 10, 19, 20, 21, 22]))"
       ]
      }
     ],
     "prompt_number": 455
    },
    {
     "cell_type": "code",
     "collapsed": false,
     "input": [
      "l = [([0, 1, 8, 9, 10, 11], [6, 7, 8, 9, 18, 19]), ([0, 1, 8, 9, 10, 11], [9, 10, 19, 20, 21, 22]), ([0, 1, 8, 9, 10, 11], [1, 2, 3, 4, 11, 12]), ([0, 1, 8, 9, 10, 11], [10, 11, 12, 13, 22, 23]), ([0, 1, 8, 9, 10, 11], [6, 7, 8, 9, 18, 19], [9, 10, 19, 20, 21, 22]), ([0, 1, 8, 9, 10, 11], [6, 7, 8, 9, 18, 19], [1, 2, 3, 4, 11, 12]), ([0, 1, 8, 9, 10, 11], [6, 7, 8, 9, 18, 19], [10, 11, 12, 13, 22, 23]), ([0, 1, 8, 9, 10, 11], [9, 10, 19, 20, 21, 22], [1, 2, 3, 4, 11, 12]), ([0, 1, 8, 9, 10, 11], [9, 10, 19, 20, 21, 22], [10, 11, 12, 13, 22, 23]), ([0, 1, 8, 9, 10, 11], [1, 2, 3, 4, 11, 12], [10, 11, 12, 13, 22, 23]), ([0, 1, 8, 9, 10, 11], [6, 7, 8, 9, 18, 19], [9, 10, 19, 20, 21, 22], [1, 2, 3, 4, 11, 12]), ([0, 1, 8, 9, 10, 11], [6, 7, 8, 9, 18, 19], [9, 10, 19, 20, 21, 22], [10, 11, 12, 13, 22, 23]), ([0, 1, 8, 9, 10, 11], [6, 7, 8, 9, 18, 19], [1, 2, 3, 4, 11, 12], [10, 11, 12, 13, 22, 23]), ([0, 1, 8, 9, 10, 11], [9, 10, 19, 20, 21, 22], [1, 2, 3, 4, 11, 12], [10, 11, 12, 13, 22, 23]), ([0, 1, 8, 9, 10, 11], [6, 7, 8, 9, 18, 19], [9, 10, 19, 20, 21, 22], [1, 2, 3, 4, 11, 12], [10, 11, 12, 13, 22, 23])]\n",
      "i = (f for f in l)\n",
      "g=Graph_frags(m_33)\n",
      "r=g.get_rings(10)[-1]\n",
      "it = g.iter_fragments(initial_frags=i)\n",
      "a = it.next()\n",
      "b = it.next()\n",
      "c = it.next()\n",
      "a,b,c"
     ],
     "language": "python",
     "metadata": {},
     "outputs": [
      {
       "metadata": {},
       "output_type": "pyout",
       "prompt_number": 317,
       "text": [
        "(([0, 1, 8, 9, 10, 11], [6, 7, 8, 9, 18, 19]),\n",
        " ([0, 1, 8, 9, 10, 11], [9, 10, 19, 20, 21, 22]),\n",
        " ([0, 1, 8, 9, 10, 11], [1, 2, 3, 4, 11, 12]))"
       ]
      }
     ],
     "prompt_number": 317
    },
    {
     "cell_type": "code",
     "collapsed": false,
     "input": [
      "l = [([0, 1, 8, 9, 10, 11], [6, 7, 8, 9, 18, 19]), ([0, 1, 8, 9, 10, 11], [9, 10, 19, 20, 21, 22]), ([0, 1, 8, 9, 10, 11], [1, 2, 3, 4, 11, 12]), ([0, 1, 8, 9, 10, 11], [10, 11, 12, 13, 22, 23]), ([0, 1, 8, 9, 10, 11], [6, 7, 8, 9, 18, 19], [9, 10, 19, 20, 21, 22]), ([0, 1, 8, 9, 10, 11], [6, 7, 8, 9, 18, 19], [1, 2, 3, 4, 11, 12]), ([0, 1, 8, 9, 10, 11], [6, 7, 8, 9, 18, 19], [10, 11, 12, 13, 22, 23]), ([0, 1, 8, 9, 10, 11], [9, 10, 19, 20, 21, 22], [1, 2, 3, 4, 11, 12]), ([0, 1, 8, 9, 10, 11], [9, 10, 19, 20, 21, 22], [10, 11, 12, 13, 22, 23]), ([0, 1, 8, 9, 10, 11], [1, 2, 3, 4, 11, 12], [10, 11, 12, 13, 22, 23]), ([0, 1, 8, 9, 10, 11], [6, 7, 8, 9, 18, 19], [9, 10, 19, 20, 21, 22], [1, 2, 3, 4, 11, 12]), ([0, 1, 8, 9, 10, 11], [6, 7, 8, 9, 18, 19], [9, 10, 19, 20, 21, 22], [10, 11, 12, 13, 22, 23]), ([0, 1, 8, 9, 10, 11], [6, 7, 8, 9, 18, 19], [1, 2, 3, 4, 11, 12], [10, 11, 12, 13, 22, 23]), ([0, 1, 8, 9, 10, 11], [9, 10, 19, 20, 21, 22], [1, 2, 3, 4, 11, 12], [10, 11, 12, 13, 22, 23]), ([0, 1, 8, 9, 10, 11], [6, 7, 8, 9, 18, 19], [9, 10, 19, 20, 21, 22], [1, 2, 3, 4, 11, 12], [10, 11, 12, 13, 22, 23])]\n",
      "i = (f for f in l)\n",
      "g=Graph_frags(m_33)\n",
      "r=g.get_rings(10)[-1]\n",
      "a = g.iter_fragments(initial_frags=i).next()\n",
      "b = g.iter_fragments(initial_frags=i).next()\n",
      "c = g.iter_fragments(initial_frags=i).next()\n",
      "a,b,c"
     ],
     "language": "python",
     "metadata": {},
     "outputs": [
      {
       "metadata": {},
       "output_type": "pyout",
       "prompt_number": 316,
       "text": [
        "(([0, 1, 8, 9, 10, 11], [6, 7, 8, 9, 18, 19]),\n",
        " ([0, 1, 8, 9, 10, 11], [9, 10, 19, 20, 21, 22]),\n",
        " ([0, 1, 8, 9, 10, 11], [1, 2, 3, 4, 11, 12]))"
       ]
      }
     ],
     "prompt_number": 316
    },
    {
     "cell_type": "code",
     "collapsed": false,
     "input": [
      "print(len(g.list_fragments))\n",
      "\n",
      "for i in range(len(g.list_fragments)):\n",
      "    for r in g.list_fragments[i]:\n",
      "        r.sort()\n",
      "    g.list_fragments[i] = sorted(g.list_fragments[i])\n",
      "#g.list_fragments.sort(key=lambda e: len(e))\n",
      "\n",
      "all([g.list_fragments.count(f)==1 for f in g.list_fragments]) and all([f.count(r)==1 for f in g.list_fragments for r in f])"
     ],
     "language": "python",
     "metadata": {},
     "outputs": [
      {
       "output_type": "stream",
       "stream": "stdout",
       "text": [
        "112\n"
       ]
      },
      {
       "metadata": {},
       "output_type": "pyout",
       "prompt_number": 140,
       "text": [
        "True"
       ]
      }
     ],
     "prompt_number": 140
    },
    {
     "cell_type": "code",
     "collapsed": false,
     "input": [
      "2*(1+4+(2*3) +4 +1) +1 +4 +(2*3) + 4 +1 +64"
     ],
     "language": "python",
     "metadata": {},
     "outputs": [
      {
       "metadata": {},
       "output_type": "pyout",
       "prompt_number": 146,
       "text": [
        "112"
       ]
      }
     ],
     "prompt_number": 146
    },
    {
     "cell_type": "code",
     "collapsed": false,
     "input": [
      "sum(sum(1 for e in itertools.combinations(range(12), i)) for i in range(1,13)) "
     ],
     "language": "python",
     "metadata": {},
     "outputs": [
      {
       "metadata": {},
       "output_type": "pyout",
       "prompt_number": 28,
       "text": [
        "4095"
       ]
      }
     ],
     "prompt_number": 28
    },
    {
     "cell_type": "code",
     "collapsed": false,
     "input": [],
     "language": "python",
     "metadata": {},
     "outputs": []
    },
    {
     "cell_type": "code",
     "collapsed": false,
     "input": [
      "sum(sum(1 for e in itertools.combinations(range(3), i)) for i in range(3)) \\\n",
      "+ sum(sum(1 for e in itertools.combinations(range(3), i)) for i in range(3)) \\\n",
      "+ sum(sum(1 for e in itertools.combinations(range(6), i)) for i in range(6)) \\\n",
      "+ sum(sum(1 for e in itertools.combinations(range(6), i)) for i in range(6)) \\\n",
      "+ sum(sum(1 for e in itertools.combinations(range(6), i)) for i in range(6)) \\\n",
      "+ sum(sum(1 for e in itertools.combinations(range(9), i)) for i in range(9)) \\\n",
      "+ sum(sum(1 for e in itertools.combinations(range(8), i)) for i in range(8)) \\\n",
      "+ sum(sum(1 for e in itertools.combinations(range(8), i)) for i in range(8)) \\\n",
      "+ sum(sum(1 for e in itertools.combinations(range(10), i)) for i in range(10))"
     ],
     "language": "python",
     "metadata": {},
     "outputs": [
      {
       "metadata": {},
       "output_type": "pyout",
       "prompt_number": 74,
       "text": [
        "2247"
       ]
      }
     ],
     "prompt_number": 74
    },
    {
     "cell_type": "code",
     "collapsed": false,
     "input": [],
     "language": "python",
     "metadata": {},
     "outputs": []
    }
   ],
   "metadata": {}
  }
 ]
}